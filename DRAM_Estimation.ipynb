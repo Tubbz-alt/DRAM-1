{
 "cells": [
  {
   "cell_type": "code",
   "execution_count": 1,
   "metadata": {},
   "outputs": [],
   "source": [
    "import numpy as np\n",
    "#from plotly.offline import download_plotlyjs, init_notebook_mode,plot,iplot\n",
    "#init_notebook_mode(connected=True)\n",
    "#import plotly.graph_objs as go\n",
    "import matplotlib.pyplot as plt\n",
    "%matplotlib inline\n",
    "\n",
    "model_name = \"DRAM_classify_blobs_2\"\n",
    "data_directory = \"data/\" + model_name + \"/\"\n",
    "\n",
    "num_runs = 10\n",
    "iter_list = [2000000]\n",
    "glimpse_list = [9]\n",
    "max_blobs = 15\n",
    "min_blobs = 1\n",
    "\n",
    "num_iters = len(iter_list)\n",
    "num_glimpses = len(glimpse_list)\n",
    "output_size = max_blobs - min_blobs + 1\n",
    "chist = np.load(data_directory + 'choice_hist.npy')[:,11,2,:10,:10]\n",
    "cm = np.load(data_directory + 'choice_msdcv.npy')[:,11,2,:10,:10]\n",
    "\n",
    "cmus = cm[:,:,0] # mean\n",
    "csds = cm[:,:,1] # sd\n",
    "ccvs = cm[:,:,2] # cv"
   ]
  },
  {
   "cell_type": "code",
   "execution_count": 2,
   "metadata": {
    "collapsed": true
   },
   "outputs": [],
   "source": [
    "# take the averages across the 10 runs\n",
    "chist_mu = np.mean(chist,axis=0)\n",
    "cmus_mu = np.mean(cmus,axis=0)\n",
    "cmus_min = np.min(cmus,axis=0)\n",
    "cmus_max = np.max(cmus,axis=0)\n",
    "csds_mu = np.mean(csds,axis=0)\n",
    "csds_min = np.min(csds,axis=0)\n",
    "csds_max = np.max(csds,axis=0)\n",
    "ccvs_mu = np.mean(ccvs,axis=0)\n",
    "ccvs_min = np.min(ccvs,axis=0)\n",
    "ccvs_max = np.max(ccvs,axis=0)"
   ]
  },
  {
   "cell_type": "code",
   "execution_count": 3,
   "metadata": {
    "collapsed": true
   },
   "outputs": [],
   "source": [
    "def plot_hists(matrix,i_ind):\n",
    "    fig, ax = plt.subplots(9,num_glimpses,sharex=True, sharey=True,figsize=(4,8))\n",
    "    x = range(1, 10)\n",
    "    fig.tight_layout()\n",
    "    plt.xticks(range(1, 10))\n",
    "    for c in range(num_glimpses):\n",
    "        tstr = 'I = ' + str(iter_list[i_ind]) + ', G = ' + str(glimpse_list[c])\n",
    "        ax[0].set_title(tstr)\n",
    "        for i in range(9):\n",
    "            ax[i].plot(x,matrix[i,:9])\n",
    "    plt.show()"
   ]
  },
  {
   "cell_type": "code",
   "execution_count": 4,
   "metadata": {},
   "outputs": [
    {
     "data": {
      "image/png": "[encoded data removed]",
      "text/plain": [
       "<matplotlib.figure.Figure at 0x7f38ed696d30>"
      ]
     },
     "metadata": {},
     "output_type": "display_data"
    }
   ],
   "source": [
    "iter_idx = num_iters - 1\n",
    "plot_hists(chist_mu[:,:],iter_idx)"
   ]
  },
  {
   "cell_type": "markdown",
   "metadata": {},
   "source": [
    "## Run Linear Regression"
   ]
  },
  {
   "cell_type": "code",
   "execution_count": 5,
   "metadata": {
    "collapsed": true
   },
   "outputs": [],
   "source": [
    "import scipy.stats as st\n",
    "\n",
    "def get_linreg(cvals):\n",
    "    \"\"\"Get lines of best fit.\"\"\"\n",
    "    \n",
    "    slopes = np.zeros(num_runs)\n",
    "    intercepts = np.zeros(num_runs)\n",
    "    r_vals = np.zeros(num_runs)\n",
    "\n",
    "    for run in range(num_runs):\n",
    "        slopes[run], intercepts[run], r_vals[run], _, _ = st.linregress(range(1,10), cvals[run,:9])\n",
    "    \n",
    "    return slopes, intercepts, r_vals"
   ]
  },
  {
   "cell_type": "code",
   "execution_count": 6,
   "metadata": {},
   "outputs": [],
   "source": [
    "cmus_slopes, cmus_intercepts, cmus_rvals = get_linreg(cmus)\n",
    "csds_slopes, csds_intercepts, csds_rvals = get_linreg(csds)\n",
    "ccvs_slopes, ccvs_intercepts, ccvs_rvals = get_linreg(ccvs)\n",
    "\n",
    "# Visualize\n",
    "\n",
    "# for i in range(num_runs):\n",
    "#     plt.plot(range(1,10), cmus[i,:9], 'o', label='original data')\n",
    "#     plt.plot(range(1,10), cmus_intercepts[i] + cmus_slopes[i]*range(1,10), 'r', label='fitted line')\n",
    "#     plt.legend()\n",
    "#     plt.show()\n",
    "\n",
    "# for i in range(num_runs):\n",
    "#     plt.plot(range(1,10), csds[i,:9], 'o', label='original data')\n",
    "#     plt.plot(range(1,10), csds_intercepts[i] + csds_slopes[i]*range(1,10), 'r', label='fitted line')\n",
    "#     plt.legend()\n",
    "#     plt.show()\n",
    "    \n",
    "# for i in range(num_runs):\n",
    "#     plt.plot(range(1,10), ccvs[i,:9], 'o', label='original data')\n",
    "#     plt.plot(range(1,10), ccvs_intercepts[i] + ccvs_slopes[i]*range(1,10), 'r', label='fitted line')\n",
    "#     plt.legend()\n",
    "#     plt.show()"
   ]
  },
  {
   "cell_type": "code",
   "execution_count": 20,
   "metadata": {},
   "outputs": [],
   "source": [
    "import math\n",
    "\n",
    "def get_CI(vals):\n",
    "    \"\"\"Get the 95% confidence intervals.\"\"\"\n",
    "\n",
    "    mean = np.mean(vals)\n",
    "    sd = np.std(vals)\n",
    "    hw = 1.96*sd/math.sqrt(9)\n",
    "#     print(\"CI: (\" + str(mean - hw) + \", \" + str(mean + hw) + \")\")\n",
    "    return round(mean, 2), round(hw, 2)"
   ]
  },
  {
   "cell_type": "markdown",
   "metadata": {},
   "source": [
    "# Confidence Intervals"
   ]
  },
  {
   "cell_type": "markdown",
   "metadata": {
    "collapsed": true
   },
   "source": [
    "## Mean Choice"
   ]
  },
  {
   "cell_type": "markdown",
   "metadata": {
    "collapsed": true
   },
   "source": [
    "### Slope"
   ]
  },
  {
   "cell_type": "code",
   "execution_count": 21,
   "metadata": {},
   "outputs": [
    {
     "data": {
      "text/plain": [
       "(0.97999999999999998, 0.02)"
      ]
     },
     "execution_count": 21,
     "metadata": {},
     "output_type": "execute_result"
    }
   ],
   "source": [
    "get_CI(cmus_slopes)"
   ]
  },
  {
   "cell_type": "markdown",
   "metadata": {
    "collapsed": true
   },
   "source": [
    "### Intercept"
   ]
  },
  {
   "cell_type": "code",
   "execution_count": 22,
   "metadata": {},
   "outputs": [
    {
     "data": {
      "text/plain": [
       "(0.02, 0.040000000000000001)"
      ]
     },
     "execution_count": 22,
     "metadata": {},
     "output_type": "execute_result"
    }
   ],
   "source": [
    "get_CI(cmus_intercepts)"
   ]
  },
  {
   "cell_type": "markdown",
   "metadata": {
    "collapsed": true
   },
   "source": [
    "### R-Values"
   ]
  },
  {
   "cell_type": "code",
   "execution_count": 23,
   "metadata": {},
   "outputs": [
    {
     "data": {
      "text/plain": [
       "(1.0, 0.0)"
      ]
     },
     "execution_count": 23,
     "metadata": {},
     "output_type": "execute_result"
    }
   ],
   "source": [
    "get_CI(cmus_rvals)"
   ]
  },
  {
   "cell_type": "markdown",
   "metadata": {
    "collapsed": true
   },
   "source": [
    "## Standard Deviation of Choice"
   ]
  },
  {
   "cell_type": "markdown",
   "metadata": {
    "collapsed": true
   },
   "source": [
    "### Slope"
   ]
  },
  {
   "cell_type": "code",
   "execution_count": 24,
   "metadata": {},
   "outputs": [
    {
     "data": {
      "text/plain": [
       "(0.16, 0.01)"
      ]
     },
     "execution_count": 24,
     "metadata": {},
     "output_type": "execute_result"
    }
   ],
   "source": [
    "get_CI(csds_slopes)"
   ]
  },
  {
   "cell_type": "markdown",
   "metadata": {
    "collapsed": true
   },
   "source": [
    "### Intercept"
   ]
  },
  {
   "cell_type": "code",
   "execution_count": 25,
   "metadata": {},
   "outputs": [
    {
     "data": {
      "text/plain": [
       "(-0.14999999999999999, 0.02)"
      ]
     },
     "execution_count": 25,
     "metadata": {},
     "output_type": "execute_result"
    }
   ],
   "source": [
    "get_CI(csds_intercepts)"
   ]
  },
  {
   "cell_type": "markdown",
   "metadata": {
    "collapsed": true
   },
   "source": [
    "### R-Values"
   ]
  },
  {
   "cell_type": "code",
   "execution_count": 26,
   "metadata": {},
   "outputs": [
    {
     "data": {
      "text/plain": [
       "(0.98999999999999999, 0.01)"
      ]
     },
     "execution_count": 26,
     "metadata": {},
     "output_type": "execute_result"
    }
   ],
   "source": [
    "get_CI(csds_rvals)"
   ]
  },
  {
   "cell_type": "markdown",
   "metadata": {
    "collapsed": true
   },
   "source": [
    "## Coefficient of Variation of Choice"
   ]
  },
  {
   "cell_type": "markdown",
   "metadata": {
    "collapsed": true
   },
   "source": [
    "### Slope"
   ]
  },
  {
   "cell_type": "code",
   "execution_count": 27,
   "metadata": {},
   "outputs": [
    {
     "data": {
      "text/plain": [
       "(0.01, 0.0)"
      ]
     },
     "execution_count": 27,
     "metadata": {},
     "output_type": "execute_result"
    }
   ],
   "source": [
    "get_CI(ccvs_slopes)"
   ]
  },
  {
   "cell_type": "markdown",
   "metadata": {
    "collapsed": true
   },
   "source": [
    "### Intercept"
   ]
  },
  {
   "cell_type": "code",
   "execution_count": 28,
   "metadata": {},
   "outputs": [
    {
     "data": {
      "text/plain": [
       "(0.040000000000000001, 0.01)"
      ]
     },
     "execution_count": 28,
     "metadata": {},
     "output_type": "execute_result"
    }
   ],
   "source": [
    "get_CI(ccvs_intercepts)"
   ]
  },
  {
   "cell_type": "markdown",
   "metadata": {
    "collapsed": true
   },
   "source": [
    "### R-Values"
   ]
  },
  {
   "cell_type": "code",
   "execution_count": 29,
   "metadata": {},
   "outputs": [
    {
     "data": {
      "text/plain": [
       "(0.79000000000000004, 0.029999999999999999)"
      ]
     },
     "execution_count": 29,
     "metadata": {},
     "output_type": "execute_result"
    }
   ],
   "source": [
    "get_CI(ccvs_rvals)"
   ]
  },
  {
   "cell_type": "markdown",
   "metadata": {},
   "source": [
    "# Final DRAM Chart"
   ]
  },
  {
   "cell_type": "code",
   "execution_count": 30,
   "metadata": {
    "collapsed": true
   },
   "outputs": [],
   "source": [
    "def plot_stats(title):\n",
    "    \"\"\"Make the table of graphs.\"\"\"\n",
    "    \n",
    "    fig, ax = plt.subplots(1,3,sharex=True, sharey=True,figsize=(12,4))\n",
    "    plt.xticks(range(1,10))\n",
    "    x = range(1,10)    \n",
    "    \n",
    "    def plot_graph(tstr, smu, smin, smax, ax, col, ylim, slopes, intercepts, rvals):\n",
    "        \"\"\"Plot a single graph.\"\"\"\n",
    "        \n",
    "        ax.set_title(tstr)\n",
    "        ax.set_ylim(top=ylim)\n",
    "        ax.yaxis.set_label_position('left')\n",
    "        ax.yaxis.set_ticks_position('left')\n",
    "        ax.plot(x,smu[:9],'k-')\n",
    "#         ax.text(5, 5, r'$\\mu=100,\\ \\sigma=15 $')\n",
    "#         ax.text(.5, .5, r'$\\delta=100,\\ \\sigma=15 $')\n",
    "    \n",
    "        S_mean, S_hw = get_CI(slopes)\n",
    "        I_mean, I_hw = get_CI(intercepts)\n",
    "        R_mean, R_hw = get_CI(rvals)\n",
    "\n",
    "        ax.text(.25, .75, '$S: ' + str(S_mean) + ' \\pm ' + str(S_hw) + \\\n",
    "                '$ \\n $I: ' + str(I_mean) + ' \\pm ' + str(I_hw) + \\\n",
    "                '$ \\n $R: ' + str(R_mean) + ' \\pm ' + str(R_hw) + '$',\n",
    "        horizontalalignment='center',\n",
    "        verticalalignment='center',\n",
    "        transform=ax.transAxes)\n",
    "\n",
    "        ax.fill_between(x,smin[:9],smax[:9], facecolor='orange')\n",
    "        \n",
    "        \n",
    "    \n",
    "    plot_graph(\"Mean Choice\",cmus_mu,cmus_min,cmus_max, ax[0], 0, 10,\n",
    "               cmus_slopes, cmus_intercepts, cmus_rvals)\n",
    "    plot_graph(\"Standard Deviation\",csds_mu,csds_min,csds_max, ax[1].twinx(), 1, 3,\n",
    "               csds_slopes, csds_intercepts, csds_rvals)\n",
    "    plot_graph(\"Coefficient of Variation\",ccvs_mu,ccvs_min,ccvs_max, ax[2].twinx(), 2, .5,\n",
    "               ccvs_slopes, ccvs_intercepts, ccvs_rvals)\n",
    "    fig.tight_layout()\n",
    "\n",
    "    fig.suptitle(title, fontsize=16)\n",
    "    fig.subplots_adjust(top=0.8)\n",
    "\n",
    "    plt.show()"
   ]
  },
  {
   "cell_type": "code",
   "execution_count": 31,
   "metadata": {
    "scrolled": false
   },
   "outputs": [
    {
     "data": {
      "image/png": "[encoded data removed]",
      "text/plain": [
       "<matplotlib.figure.Figure at 0x7f38e3296eb8>"
      ]
     },
     "metadata": {},
     "output_type": "display_data"
    }
   ],
   "source": [
    "plot_stats(\"Experiment 1 Results: DRAW NETWORK\")"
   ]
  },
  {
   "cell_type": "code",
   "execution_count": null,
   "metadata": {
    "collapsed": true
   },
   "outputs": [],
   "source": []
  },
  {
   "cell_type": "code",
   "execution_count": null,
   "metadata": {
    "collapsed": true
   },
   "outputs": [],
   "source": []
  },
  {
   "cell_type": "code",
   "execution_count": null,
   "metadata": {
    "collapsed": true
   },
   "outputs": [],
   "source": []
  },
  {
   "cell_type": "code",
   "execution_count": null,
   "metadata": {
    "collapsed": true
   },
   "outputs": [],
   "source": []
  }
 ],
 "metadata": {
  "kernelspec": {
   "display_name": "Python 3",
   "language": "python",
   "name": "python3"
  },
  "language_info": {
   "codemirror_mode": {
    "name": "ipython",
    "version": 3
   },
   "file_extension": ".py",
   "mimetype": "text/x-python",
   "name": "python",
   "nbconvert_exporter": "python",
   "pygments_lexer": "ipython3",
   "version": "3.5.2"
  }
 },
 "nbformat": 4,
 "nbformat_minor": 2
}
