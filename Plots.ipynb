{
 "cells": [
  {
   "cell_type": "code",
   "execution_count": 2,
   "metadata": {},
   "outputs": [
    {
     "data": {
      "text/html": [
       "<script>requirejs.config({paths: { 'plotly': ['https://cdn.plot.ly/plotly-latest.min']},});if(!window.Plotly) {{require(['plotly'],function(plotly) {window.Plotly=plotly;});}}</script>"
      ],
      "text/vnd.plotly.v1+html": [
       "<script>requirejs.config({paths: { 'plotly': ['https://cdn.plot.ly/plotly-latest.min']},});if(!window.Plotly) {{require(['plotly'],function(plotly) {window.Plotly=plotly;});}}</script>"
      ]
     },
     "metadata": {},
     "output_type": "display_data"
    }
   ],
   "source": [
    "import numpy as np\n",
    "from plotly.offline import download_plotlyjs, init_notebook_mode, plot, iplot\n",
    "init_notebook_mode(connected=True)\n",
    "import plotly.graph_objs as go\n",
    "\n",
    "\n"
   ]
  },
  {
   "cell_type": "code",
   "execution_count": 2,
   "metadata": {
    "collapsed": true
   },
   "outputs": [],
   "source": [
    "machine_accuracy, machine_confidence = (np.array([ 0.0986,  0.098 ,  0.0795,  0.0866,  0.1121,  0.1258,  0.4357,\n",
    "        0.7165,  0.7669,  0.7701]), np.array([ 0.10016167,  0.10010664,  0.10000464,  0.09993329,  0.10033963,\n",
    "        0.10280598,  0.14062108,  0.37948097,  0.65095088,  0.72374935]))\n",
    "\n",
    "human_accuracy, human_confidence = (np.array([ 0.1729,  0.2701,  0.6287,  0.7565,  0.8006,  0.8133,  0.8185,\n",
    "                0.8194,  0.8215,  0.8218]), np.array([ 0.12546418,  0.18202342,  0.50344173,  0.6703034 ,  0.73101253,\n",
    "                0.75166446,  0.76036375,  0.76237136,  0.76335989,  0.76308667]))"
   ]
  },
  {
   "cell_type": "code",
   "execution_count": 3,
   "metadata": {
    "collapsed": true
   },
   "outputs": [],
   "source": [
    "def plot_bar(y, title, y_axis, color=\"blue\"):\n",
    "    layout = go.Layout(\n",
    "        title=title,\n",
    "        xaxis=dict(\n",
    "            title=\"Glimpse\",\n",
    "            dtick=1\n",
    "        ),\n",
    "        yaxis=dict(\n",
    "            title=y_axis,\n",
    "        )\n",
    "    )\n",
    "    data = [go.Bar(x=np.arange(10), y=y, marker=dict(color=color))]\n",
    "    fig = go.Figure(data=data, layout=layout)\n",
    "    iplot(fig)"
   ]
  },
  {
   "cell_type": "code",
   "execution_count": 4,
   "metadata": {},
   "outputs": [
    {
     "data": {
      "application/vnd.plotly.v1+json": {
       "data": [
        {
         "marker": {
          "color": "pink"
         },
         "type": "bar",
         "x": [
          0,
          1,
          2,
          3,
          4,
          5,
          6,
          7,
          8,
          9
         ],
         "y": [
          0.0986,
          0.098,
          0.0795,
          0.0866,
          0.1121,
          0.1258,
          0.4357,
          0.7165,
          0.7669,
          0.7701
         ]
        }
       ],
       "layout": {
        "title": "Last-Step Accuracy",
        "xaxis": {
         "dtick": 1,
         "title": "Glimpse"
        },
        "yaxis": {
         "title": "Accuracy"
        }
       }
      },
      "text/html": [
       "<div id=\"e9faf4ff-c45b-4bea-ab4a-b03a76dc21d1\" style=\"height: 525px; width: 100%;\" class=\"plotly-graph-div\"></div><script type=\"text/javascript\">require([\"plotly\"], function(Plotly) { window.PLOTLYENV=window.PLOTLYENV || {};window.PLOTLYENV.BASE_URL=\"https://plot.ly\";Plotly.newPlot(\"e9faf4ff-c45b-4bea-ab4a-b03a76dc21d1\", [{\"x\": [0, 1, 2, 3, 4, 5, 6, 7, 8, 9], \"type\": \"bar\", \"marker\": {\"color\": \"pink\"}, \"y\": [0.0986, 0.098, 0.0795, 0.0866, 0.1121, 0.1258, 0.4357, 0.7165, 0.7669, 0.7701]}], {\"xaxis\": {\"title\": \"Glimpse\", \"dtick\": 1}, \"title\": \"Last-Step Accuracy\", \"yaxis\": {\"title\": \"Accuracy\"}}, {\"showLink\": true, \"linkText\": \"Export to plot.ly\"})});</script>"
      ],
      "text/vnd.plotly.v1+html": [
       "<div id=\"e9faf4ff-c45b-4bea-ab4a-b03a76dc21d1\" style=\"height: 525px; width: 100%;\" class=\"plotly-graph-div\"></div><script type=\"text/javascript\">require([\"plotly\"], function(Plotly) { window.PLOTLYENV=window.PLOTLYENV || {};window.PLOTLYENV.BASE_URL=\"https://plot.ly\";Plotly.newPlot(\"e9faf4ff-c45b-4bea-ab4a-b03a76dc21d1\", [{\"x\": [0, 1, 2, 3, 4, 5, 6, 7, 8, 9], \"type\": \"bar\", \"marker\": {\"color\": \"pink\"}, \"y\": [0.0986, 0.098, 0.0795, 0.0866, 0.1121, 0.1258, 0.4357, 0.7165, 0.7669, 0.7701]}], {\"xaxis\": {\"title\": \"Glimpse\", \"dtick\": 1}, \"title\": \"Last-Step Accuracy\", \"yaxis\": {\"title\": \"Accuracy\"}}, {\"showLink\": true, \"linkText\": \"Export to plot.ly\"})});</script>"
      ]
     },
     "metadata": {},
     "output_type": "display_data"
    }
   ],
   "source": [
    "plot_bar(machine_accuracy, \"Last-Step Accuracy\", \"Accuracy\", color=\"pink\")"
   ]
  },
  {
   "cell_type": "code",
   "execution_count": 5,
   "metadata": {},
   "outputs": [
    {
     "data": {
      "application/vnd.plotly.v1+json": {
       "data": [
        {
         "marker": {
          "color": "orange"
         },
         "type": "bar",
         "x": [
          0,
          1,
          2,
          3,
          4,
          5,
          6,
          7,
          8,
          9
         ],
         "y": [
          0.1729,
          0.2701,
          0.6287,
          0.7565,
          0.8006,
          0.8133,
          0.8185,
          0.8194,
          0.8215,
          0.8218
         ]
        }
       ],
       "layout": {
        "title": "All-Step Accuracy",
        "xaxis": {
         "dtick": 1,
         "title": "Glimpse"
        },
        "yaxis": {
         "title": "Accuracy"
        }
       }
      },
      "text/html": [
       "<div id=\"10b55ed0-67ea-4524-8420-a87454b3d916\" style=\"height: 525px; width: 100%;\" class=\"plotly-graph-div\"></div><script type=\"text/javascript\">require([\"plotly\"], function(Plotly) { window.PLOTLYENV=window.PLOTLYENV || {};window.PLOTLYENV.BASE_URL=\"https://plot.ly\";Plotly.newPlot(\"10b55ed0-67ea-4524-8420-a87454b3d916\", [{\"x\": [0, 1, 2, 3, 4, 5, 6, 7, 8, 9], \"type\": \"bar\", \"marker\": {\"color\": \"orange\"}, \"y\": [0.1729, 0.2701, 0.6287, 0.7565, 0.8006, 0.8133, 0.8185, 0.8194, 0.8215, 0.8218]}], {\"xaxis\": {\"title\": \"Glimpse\", \"dtick\": 1}, \"title\": \"All-Step Accuracy\", \"yaxis\": {\"title\": \"Accuracy\"}}, {\"showLink\": true, \"linkText\": \"Export to plot.ly\"})});</script>"
      ],
      "text/vnd.plotly.v1+html": [
       "<div id=\"10b55ed0-67ea-4524-8420-a87454b3d916\" style=\"height: 525px; width: 100%;\" class=\"plotly-graph-div\"></div><script type=\"text/javascript\">require([\"plotly\"], function(Plotly) { window.PLOTLYENV=window.PLOTLYENV || {};window.PLOTLYENV.BASE_URL=\"https://plot.ly\";Plotly.newPlot(\"10b55ed0-67ea-4524-8420-a87454b3d916\", [{\"x\": [0, 1, 2, 3, 4, 5, 6, 7, 8, 9], \"type\": \"bar\", \"marker\": {\"color\": \"orange\"}, \"y\": [0.1729, 0.2701, 0.6287, 0.7565, 0.8006, 0.8133, 0.8185, 0.8194, 0.8215, 0.8218]}], {\"xaxis\": {\"title\": \"Glimpse\", \"dtick\": 1}, \"title\": \"All-Step Accuracy\", \"yaxis\": {\"title\": \"Accuracy\"}}, {\"showLink\": true, \"linkText\": \"Export to plot.ly\"})});</script>"
      ]
     },
     "metadata": {},
     "output_type": "display_data"
    }
   ],
   "source": [
    "plot_bar(human_accuracy, \"All-Step Accuracy\", \"Accuracy\", color=\"orange\")"
   ]
  },
  {
   "cell_type": "code",
   "execution_count": 6,
   "metadata": {
    "collapsed": true
   },
   "outputs": [],
   "source": [
    "def read_log(folder):\n",
    "    log = open(\"%s/log.csv\" % folder).read().split(\"\\n\")[:301]\n",
    "    accs = list()\n",
    "    for l in log:\n",
    "        accs.append(float(l.split(\",\")[-1]))\n",
    "    return accs\n",
    "    \n"
   ]
  },
  {
   "cell_type": "code",
   "execution_count": 7,
   "metadata": {},
   "outputs": [
    {
     "ename": "FileNotFoundError",
     "evalue": "[Errno 2] No such file or directory: 'combined-run/log.csv'",
     "output_type": "error",
     "traceback": [
      "\u001b[0;31m---------------------------------------------------------------------------\u001b[0m",
      "\u001b[0;31mFileNotFoundError\u001b[0m                         Traceback (most recent call last)",
      "\u001b[0;32m<ipython-input-7-d0bc98d4e14c>\u001b[0m in \u001b[0;36m<module>\u001b[0;34m()\u001b[0m\n\u001b[0;32m----> 1\u001b[0;31m \u001b[0mmachine_accs\u001b[0m \u001b[0;34m=\u001b[0m \u001b[0mread_log\u001b[0m\u001b[0;34m(\u001b[0m\u001b[0;34m\"combined-run\"\u001b[0m\u001b[0;34m)\u001b[0m\u001b[0;34m\u001b[0m\u001b[0m\n\u001b[0m\u001b[1;32m      2\u001b[0m \u001b[0mhuman_accs\u001b[0m \u001b[0;34m=\u001b[0m \u001b[0mread_log\u001b[0m\u001b[0;34m(\u001b[0m\u001b[0;34m\"attention-run\"\u001b[0m\u001b[0;34m)\u001b[0m\u001b[0;34m\u001b[0m\u001b[0m\n",
      "\u001b[0;32m<ipython-input-6-d5bdf0943a2c>\u001b[0m in \u001b[0;36mread_log\u001b[0;34m(folder)\u001b[0m\n\u001b[1;32m      1\u001b[0m \u001b[0;32mdef\u001b[0m \u001b[0mread_log\u001b[0m\u001b[0;34m(\u001b[0m\u001b[0mfolder\u001b[0m\u001b[0;34m)\u001b[0m\u001b[0;34m:\u001b[0m\u001b[0;34m\u001b[0m\u001b[0m\n\u001b[0;32m----> 2\u001b[0;31m     \u001b[0mlog\u001b[0m \u001b[0;34m=\u001b[0m \u001b[0mopen\u001b[0m\u001b[0;34m(\u001b[0m\u001b[0;34m\"%s/log.csv\"\u001b[0m \u001b[0;34m%\u001b[0m \u001b[0mfolder\u001b[0m\u001b[0;34m)\u001b[0m\u001b[0;34m.\u001b[0m\u001b[0mread\u001b[0m\u001b[0;34m(\u001b[0m\u001b[0;34m)\u001b[0m\u001b[0;34m.\u001b[0m\u001b[0msplit\u001b[0m\u001b[0;34m(\u001b[0m\u001b[0;34m\"\\n\"\u001b[0m\u001b[0;34m)\u001b[0m\u001b[0;34m[\u001b[0m\u001b[0;34m:\u001b[0m\u001b[0;36m301\u001b[0m\u001b[0;34m]\u001b[0m\u001b[0;34m\u001b[0m\u001b[0m\n\u001b[0m\u001b[1;32m      3\u001b[0m     \u001b[0maccs\u001b[0m \u001b[0;34m=\u001b[0m \u001b[0mlist\u001b[0m\u001b[0;34m(\u001b[0m\u001b[0;34m)\u001b[0m\u001b[0;34m\u001b[0m\u001b[0m\n\u001b[1;32m      4\u001b[0m     \u001b[0;32mfor\u001b[0m \u001b[0ml\u001b[0m \u001b[0;32min\u001b[0m \u001b[0mlog\u001b[0m\u001b[0;34m:\u001b[0m\u001b[0;34m\u001b[0m\u001b[0m\n\u001b[1;32m      5\u001b[0m         \u001b[0maccs\u001b[0m\u001b[0;34m.\u001b[0m\u001b[0mappend\u001b[0m\u001b[0;34m(\u001b[0m\u001b[0mfloat\u001b[0m\u001b[0;34m(\u001b[0m\u001b[0ml\u001b[0m\u001b[0;34m.\u001b[0m\u001b[0msplit\u001b[0m\u001b[0;34m(\u001b[0m\u001b[0;34m\",\"\u001b[0m\u001b[0;34m)\u001b[0m\u001b[0;34m[\u001b[0m\u001b[0;34m-\u001b[0m\u001b[0;36m1\u001b[0m\u001b[0;34m]\u001b[0m\u001b[0;34m)\u001b[0m\u001b[0;34m)\u001b[0m\u001b[0;34m\u001b[0m\u001b[0m\n",
      "\u001b[0;31mFileNotFoundError\u001b[0m: [Errno 2] No such file or directory: 'combined-run/log.csv'"
     ]
    }
   ],
   "source": [
    "machine_accs = read_log(\"combined-run\")\n",
    "human_accs = read_log(\"attention-run\")"
   ]
  },
  {
   "cell_type": "code",
   "execution_count": null,
   "metadata": {
    "collapsed": true
   },
   "outputs": [],
   "source": [
    "x = np.arange(301)\n",
    "machine_trace = go.Scatter(\n",
    "    x = x,\n",
    "    y = machine_accs,\n",
    "    name=\"Last-Step\",\n",
    "    marker=dict(color=\"pink\")\n",
    ")\n",
    "\n",
    "human_trace = go.Scatter(\n",
    "    x = x,\n",
    "    y = human_accs,\n",
    "    name=\"All-Step\",\n",
    "    marker=dict(color=\"orange\")\n",
    ")\n",
    "\n",
    "layout = go.Layout(\n",
    "    title=\"Accuracy Over Training Process\",\n",
    "    xaxis=dict(\n",
    "        title=\"Iteration (10^3)\",\n",
    "    ),\n",
    "    yaxis=dict(\n",
    "        title=\"Accuracy\"\n",
    "    )\n",
    ")\n",
    "data = [machine_trace, human_trace]\n",
    "fig = go.Figure(data=data, layout=layout)\n",
    "\n",
    "iplot(fig)"
   ]
  },
  {
   "cell_type": "code",
   "execution_count": null,
   "metadata": {
    "collapsed": true
   },
   "outputs": [],
   "source": [
    "machine_tsne = np.array([[ 0.12726172,  0.        ],\n",
    " [ 0.50208551,  0.03336535],\n",
    " [ 0.40462187,  0.27632629],\n",
    " [ 0.34915262,  1.        ],\n",
    " [ 0.08204011,  0.56742698],\n",
    " [ 0.81340483,  0.22135044],\n",
    " [ 0.62105159,  0.74444678],\n",
    " [ 0.        ,  0.74629577],\n",
    " [ 0.34221032,  0.71527244],\n",
    " [ 1.        ,  0.26861125]])\n",
    "\n",
    "human_tsne =np.array([[ 0.8093803,   0.49871594],\n",
    " [ 0.14043558,  0.20348061],\n",
    " [ 0.27882326 , 0.42672041],\n",
    " [ 0.         , 0.43013068],\n",
    " [ 0.841855   , 0.61529973],\n",
    " [ 0.5573193  , 0.14303677],\n",
    " [ 0.85743197 , 0.0604608 ],\n",
    " [ 1.         , 1.        ],\n",
    " [ 0.74662608 , 0.        ],\n",
    " [ 0.44292201 , 0.7293726 ]])"
   ]
  },
  {
   "cell_type": "code",
   "execution_count": null,
   "metadata": {
    "collapsed": true
   },
   "outputs": [],
   "source": [
    "machine_enc = [1.4066057858859957, 3.6113135285460722, 6.137033285536026, 10.124332715724808, 9.765079006737148, 10.99238772845741, 10.330132371101728, 11.52484898713897, 10.573876070261312]\n",
    "machine_dec = [1.4179620840297436, 1.7094067930915617, 1.9022115277141238, 1.8823323535933418, 1.6817126837198724, 2.04972240257128, 2.460423862941345, 4.390198561264553, 7.3065966622687295]\n",
    "human_enc = [3.183844345896733, 6.352002343315332, 10.346831645242077, 6.542732956593598, 5.313919889979254, 7.449722940166492, 5.740357351803049, 4.867553473324298, 5.039451792602519]\n",
    "human_dec = [2.075677194845721, 2.140315826718127, 1.6670011647662701, 1.4068137122691426, 1.1253808978174604, 0.985056302671661, 0.8211949089957696, 0.7264396391067092, 0.6885668349576458]\n",
    "x_dec = np.arange(1, 11)\n",
    "\n",
    "data1 = [\n",
    "    go.Scatter(\n",
    "        x = x_dec,\n",
    "        y = machine_enc,\n",
    "        mode = 'lines',\n",
    "        name = 'Last-Step Encoder',\n",
    "        marker=dict(color=\"pink\")\n",
    "    ),\n",
    "    go.Scatter(\n",
    "        x = x_dec,\n",
    "        y = human_enc,\n",
    "        mode = 'lines',\n",
    "        name = 'All-Step Encoder',\n",
    "        marker=dict(color=\"orange\")\n",
    "    )\n",
    "]\n",
    "\n",
    "data2 = [\n",
    "    go.Scatter(\n",
    "        x = x_dec,\n",
    "        y = machine_dec,\n",
    "        mode = 'lines',\n",
    "        name = 'Last-Step Decoder',\n",
    "        marker=dict(color=\"pink\")\n",
    "    ),\n",
    "    go.Scatter(\n",
    "        x = x_dec,\n",
    "        y = human_dec,\n",
    "        mode = 'lines',\n",
    "        name = 'All-Step Decoder',\n",
    "        marker=dict(color=\"orange\")\n",
    "    )\n",
    "]\n",
    "\n",
    "\n",
    "print len(machine_dec)\n",
    "\n",
    "\n",
    "\n",
    "layout1 = go.Layout(\n",
    "    title=\"Euclidean Distance From Previous Encoder Cell\",\n",
    "    xaxis=dict(\n",
    "        title=\"Glimpse\",\n",
    "    ),\n",
    "    yaxis=dict(\n",
    "        title=\"Euclidean Distance\"\n",
    "    )\n",
    ")\n",
    "fig1 = go.Figure(data=data1, layout=layout1)\n",
    "\n",
    "iplot(fig1)\n",
    "\n",
    "layout2 = go.Layout(\n",
    "    title=\"Euclidean Distance From Previous Decoder Cell\",\n",
    "    xaxis=dict(\n",
    "        title=\"Glimpse\",\n",
    "    ),\n",
    "    yaxis=dict(\n",
    "        title=\"Euclidean Distance\"\n",
    "    )\n",
    ")\n",
    "fig2 = go.Figure(data=data2, layout=layout2)\n",
    "\n",
    "iplot(fig2)"
   ]
  },
  {
   "cell_type": "code",
   "execution_count": 5,
   "metadata": {},
   "outputs": [],
   "source": [
    "human_confusion = np.array([\n",
    "[ .98,   .02,   .1,   .0297,    .073,   .0306,   .0336,   .118,   .0226,    .042,],\n",
    " [   87,  8567,   178,   264,   542,   307,   331,   584,   367,   123,],\n",
    " [  791,   475,  6976,   622,   123,   277,   352,   270,   394,    40,],\n",
    " [  613,   534,   349,  6816,    95,   574,   186,   268,   568,    97,],\n",
    " [  382,   909,   144,   365,  6176,   225,   439,   260,   384,   536,],\n",
    " [  643,   725,   204,   597,   130,  5630,   279,   198,   396,   118,],\n",
    " [  722,   606,   157,   332,   303,   221,  6655,   127,   409,    48,],\n",
    " [  318,  1406,   440,   620,   266,   314,   239,  5809,   332,   536,],\n",
    " [  640,   297,   173,   522,   185,   408,   310,   163,  6853,   189,],\n",
    " [  419,   895,   185,   547,   727,   316,   229,   329,   542,  5901,],\n",
    "])\n",
    "\n",
    "machine_confusion = np.array([\n",
    "    [  2.68400000e+03,    3.65200000e+03,    2.30000000e+01,    2.28200000e+03, \n",
    "    2.80000000e+01,    8.49000000e+02,    8.40000000e+01,    1.37000000e+02, \n",
    "    3.50000000e+01,    2.60000000e+01, ],\n",
    " [  5.00000000e+00,    7.07700000e+03,    5.40000000e+01,    2.98000000e+03, \n",
    "    9.40000000e+01,    9.32000000e+02,    1.50000000e+01,    1.38000000e+02, \n",
    "    2.90000000e+01,    2.60000000e+01, ],\n",
    " [  3.50000000e+01,    3.85000000e+03,    2.95900000e+03,    2.55100000e+03, \n",
    "    9.00000000e+00,    7.27000000e+02,    1.80000000e+01,    1.22000000e+02, \n",
    "    4.20000000e+01,    7.00000000e+00, ],\n",
    " [  2.30000000e+01,    3.52500000e+03,    1.16000000e+02,    5.43400000e+03, \n",
    "    4.00000000e+00,    8.52000000e+02,    6.00000000e+00,    5.00000000e+01, \n",
    "    5.90000000e+01,    3.10000000e+01, ],\n",
    " [  6.00000000e+00,    3.89800000e+03,    2.30000000e+01,    2.36300000e+03, \n",
    "    2.49500000e+03,    7.46000000e+02,    3.20000000e+01,    3.30000000e+01, \n",
    "    1.90000000e+01,    2.05000000e+02, ],\n",
    " [  4.50000000e+01,    3.32700000e+03,    4.20000000e+01,    2.44500000e+03, \n",
    "    1.80000000e+01,    2.88500000e+03,    3.80000000e+01,    4.50000000e+01, \n",
    "    3.30000000e+01,    4.20000000e+01, ],\n",
    " [  5.00000000e+01,    3.90500000e+03,    6.00000000e+01,    2.27100000e+03, \n",
    "    6.70000000e+01,    8.04000000e+02,    2.32500000e+03,    2.70000000e+01, \n",
    "    3.30000000e+01,    3.80000000e+01, ],\n",
    " [  4.00000000e+00,    4.12800000e+03,    7.10000000e+01,    2.49900000e+03, \n",
    "    2.70000000e+01,    8.40000000e+02,    1.20000000e+01,    2.55800000e+03, \n",
    "    9.00000000e+00,    1.32000000e+02, ],\n",
    " [  3.90000000e+01,    3.56000000e+03,    6.60000000e+01,    3.02600000e+03, \n",
    "    3.00000000e+01,    8.49000000e+02,    3.00000000e+01,    4.50000000e+01, \n",
    "    2.02400000e+03,    7.10000000e+01, ],\n",
    " [  8.00000000e+00,    3.81100000e+03,    3.00000000e+01,    2.46600000e+03, \n",
    "    7.00000000e+01,    8.53000000e+02,    1.50000000e+01,    1.46000000e+02, \n",
    "    7.00000000e+01,    2.62100000e+03, ],\n",
    "])"
   ]
  },
  {
   "cell_type": "code",
   "execution_count": 6,
   "metadata": {},
   "outputs": [
    {
     "data": {
      "application/vnd.plotly.v1+json": {
       "data": [
        {
         "colorscale": "Viridis",
         "type": "heatmap",
         "z": [
          [
           2683.02,
           3651.98,
           22.9,
           2281.9703,
           27.927,
           848.9694,
           83.9664,
           136.882,
           34.9774,
           25.958
          ],
          [
           -82,
           -1490,
           -124,
           2716,
           -448,
           625,
           -316,
           -446,
           -338,
           -97
          ],
          [
           -756,
           3375,
           -4017,
           1929,
           -114,
           450,
           -334,
           -148,
           -352,
           -33
          ],
          [
           -590,
           2991,
           -233,
           -1382,
           -91,
           278,
           -180,
           -218,
           -509,
           -66
          ],
          [
           -376,
           2989,
           -121,
           1998,
           -3681,
           521,
           -407,
           -227,
           -365,
           -331
          ],
          [
           -598,
           2602,
           -162,
           1848,
           -112,
           -2745,
           -241,
           -153,
           -363,
           -76
          ],
          [
           -672,
           3299,
           -97,
           1939,
           -236,
           583,
           -4330,
           -100,
           -376,
           -10
          ],
          [
           -314,
           2722,
           -369,
           1879,
           -239,
           526,
           -227,
           -3251,
           -323,
           -404
          ],
          [
           -601,
           3263,
           -107,
           2504,
           -155,
           441,
           -280,
           -118,
           -4829,
           -118
          ],
          [
           -411,
           2916,
           -155,
           1919,
           -657,
           537,
           -214,
           -183,
           -472,
           -3280
          ]
         ]
        }
       ],
       "layout": {
        "title": "Last-Step Confusion minus All-Step Confusion",
        "xaxis": {
         "dtick": 1,
         "title": "Predicted Class"
        },
        "yaxis": {
         "autorange": "reversed",
         "dtick": 1,
         "title": "True Class"
        }
       }
      },
      "text/html": [
       "<div id=\"56827a01-f6a2-41b2-ad26-186839d0db33\" style=\"height: 525px; width: 100%;\" class=\"plotly-graph-div\"></div><script type=\"text/javascript\">require([\"plotly\"], function(Plotly) { window.PLOTLYENV=window.PLOTLYENV || {};window.PLOTLYENV.BASE_URL=\"https://plot.ly\";Plotly.newPlot(\"56827a01-f6a2-41b2-ad26-186839d0db33\", [{\"colorscale\": \"Viridis\", \"z\": [[2683.02, 3651.98, 22.9, 2281.9703, 27.927, 848.9694, 83.9664, 136.882, 34.9774, 25.958], [-82.0, -1490.0, -124.0, 2716.0, -448.0, 625.0, -316.0, -446.0, -338.0, -97.0], [-756.0, 3375.0, -4017.0, 1929.0, -114.0, 450.0, -334.0, -148.0, -352.0, -33.0], [-590.0, 2991.0, -233.0, -1382.0, -91.0, 278.0, -180.0, -218.0, -509.0, -66.0], [-376.0, 2989.0, -121.0, 1998.0, -3681.0, 521.0, -407.0, -227.0, -365.0, -331.0], [-598.0, 2602.0, -162.0, 1848.0, -112.0, -2745.0, -241.0, -153.0, -363.0, -76.0], [-672.0, 3299.0, -97.0, 1939.0, -236.0, 583.0, -4330.0, -100.0, -376.0, -10.0], [-314.0, 2722.0, -369.0, 1879.0, -239.0, 526.0, -227.0, -3251.0, -323.0, -404.0], [-601.0, 3263.0, -107.0, 2504.0, -155.0, 441.0, -280.0, -118.0, -4829.0, -118.0], [-411.0, 2916.0, -155.0, 1919.0, -657.0, 537.0, -214.0, -183.0, -472.0, -3280.0]], \"type\": \"heatmap\"}], {\"yaxis\": {\"dtick\": 1, \"autorange\": \"reversed\", \"title\": \"True Class\"}, \"xaxis\": {\"dtick\": 1, \"title\": \"Predicted Class\"}, \"title\": \"Last-Step Confusion minus All-Step Confusion\"}, {\"showLink\": true, \"linkText\": \"Export to plot.ly\"})});</script>"
      ],
      "text/vnd.plotly.v1+html": [
       "<div id=\"56827a01-f6a2-41b2-ad26-186839d0db33\" style=\"height: 525px; width: 100%;\" class=\"plotly-graph-div\"></div><script type=\"text/javascript\">require([\"plotly\"], function(Plotly) { window.PLOTLYENV=window.PLOTLYENV || {};window.PLOTLYENV.BASE_URL=\"https://plot.ly\";Plotly.newPlot(\"56827a01-f6a2-41b2-ad26-186839d0db33\", [{\"colorscale\": \"Viridis\", \"z\": [[2683.02, 3651.98, 22.9, 2281.9703, 27.927, 848.9694, 83.9664, 136.882, 34.9774, 25.958], [-82.0, -1490.0, -124.0, 2716.0, -448.0, 625.0, -316.0, -446.0, -338.0, -97.0], [-756.0, 3375.0, -4017.0, 1929.0, -114.0, 450.0, -334.0, -148.0, -352.0, -33.0], [-590.0, 2991.0, -233.0, -1382.0, -91.0, 278.0, -180.0, -218.0, -509.0, -66.0], [-376.0, 2989.0, -121.0, 1998.0, -3681.0, 521.0, -407.0, -227.0, -365.0, -331.0], [-598.0, 2602.0, -162.0, 1848.0, -112.0, -2745.0, -241.0, -153.0, -363.0, -76.0], [-672.0, 3299.0, -97.0, 1939.0, -236.0, 583.0, -4330.0, -100.0, -376.0, -10.0], [-314.0, 2722.0, -369.0, 1879.0, -239.0, 526.0, -227.0, -3251.0, -323.0, -404.0], [-601.0, 3263.0, -107.0, 2504.0, -155.0, 441.0, -280.0, -118.0, -4829.0, -118.0], [-411.0, 2916.0, -155.0, 1919.0, -657.0, 537.0, -214.0, -183.0, -472.0, -3280.0]], \"type\": \"heatmap\"}], {\"yaxis\": {\"dtick\": 1, \"autorange\": \"reversed\", \"title\": \"True Class\"}, \"xaxis\": {\"dtick\": 1, \"title\": \"Predicted Class\"}, \"title\": \"Last-Step Confusion minus All-Step Confusion\"}, {\"showLink\": true, \"linkText\": \"Export to plot.ly\"})});</script>"
      ]
     },
     "metadata": {},
     "output_type": "display_data"
    }
   ],
   "source": [
    "yo = machine_confusion - human_confusion\n",
    "\n",
    "data = [go.Heatmap(\n",
    "    z=yo,# - human_confusion,\n",
    "    colorscale=\"Viridis\"\n",
    ")]\n",
    "\n",
    "layout = go.Layout(\n",
    "    title=\"Last-Step Confusion minus All-Step Confusion\",\n",
    "    yaxis=dict(\n",
    "        autorange='reversed',\n",
    "        title=\"True Class\",\n",
    "        dtick=1\n",
    "    ),\n",
    "    xaxis=dict(\n",
    "        title=\"Predicted Class\",\n",
    "        dtick=1\n",
    "    )\n",
    ")\n",
    "fig = go.Figure(data=data, layout=layout)\n",
    "iplot(fig)"
   ]
  },
  {
   "cell_type": "code",
   "execution_count": null,
   "metadata": {
    "collapsed": true
   },
   "outputs": [],
   "source": [
    "yo"
   ]
  },
  {
   "cell_type": "code",
   "execution_count": null,
   "metadata": {
    "collapsed": true
   },
   "outputs": [],
   "source": []
  }
 ],
 "metadata": {
  "kernelspec": {
   "display_name": "Python 3",
   "language": "python",
   "name": "python3"
  },
  "language_info": {
   "codemirror_mode": {
    "name": "ipython",
    "version": 3
   },
   "file_extension": ".py",
   "mimetype": "text/x-python",
   "name": "python",
   "nbconvert_exporter": "python",
   "pygments_lexer": "ipython3",
   "version": "3.5.2"
  }
 },
 "nbformat": 4,
 "nbformat_minor": 2
}
