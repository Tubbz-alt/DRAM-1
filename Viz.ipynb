{
 "cells": [
  {
   "cell_type": "markdown",
   "metadata": {},
   "source": [
    "# Attention Vizualizer\n",
    "\n",
    "Howdy! Regardless of what shows up below, click Kernel --> Restart and Run All to get started.\n",
    "\n",
    "Mouse over each Glimpse to view the post-windowing input to the network. It might be kind of slow, since it's a network round trip, so be patient. Enjoy!"
   ]
  },
  {
   "cell_type": "code",
   "execution_count": 1,
   "metadata": {
    "scrolled": false
   },
   "outputs": [
    {
     "name": "stderr",
     "output_type": "stream",
     "text": [
      "Widget Javascript not detected.  It may not be installed or enabled properly.\n"
     ]
    },
    {
     "data": {
      "application/vnd.jupyter.widget-view+json": {
       "model_id": "35db2494171c489cb6eba92818ab0522"
      }
     },
     "metadata": {},
     "output_type": "display_data"
    },
    {
     "name": "stderr",
     "output_type": "stream",
     "text": [
      "W-1001 (NO_DATA_RENDERERS): Plot has no data renderers: Figure(id='07766e07-ce01-480a-9174-2d3795e5f6d1', ...)\n",
      "W-1001 (NO_DATA_RENDERERS): Plot has no data renderers: Figure(id='0b12f3b7-5564-492a-b53c-9bdfd0dc1a75', ...)\n",
      "W-1001 (NO_DATA_RENDERERS): Plot has no data renderers: Figure(id='12e6f350-fc78-4842-834a-0c2667603bd5', ...)\n",
      "W-1001 (NO_DATA_RENDERERS): Plot has no data renderers: Figure(id='1397a641-9229-48c6-9b68-9f3dcbbb37eb', ...)\n",
      "W-1001 (NO_DATA_RENDERERS): Plot has no data renderers: Figure(id='147010af-156b-4b64-a4ab-42585da0ec61', ...)\n",
      "W-1001 (NO_DATA_RENDERERS): Plot has no data renderers: Figure(id='148d50ac-05fc-4148-a55b-00a084e90ae8', ...)\n",
      "W-1001 (NO_DATA_RENDERERS): Plot has no data renderers: Figure(id='17a61d0b-851b-4ffe-ba1b-783d1aec8719', ...)\n",
      "W-1001 (NO_DATA_RENDERERS): Plot has no data renderers: Figure(id='1d38275f-7c4b-4e84-8a3c-fca0c1ca939d', ...)\n",
      "W-1001 (NO_DATA_RENDERERS): Plot has no data renderers: Figure(id='1e557576-2456-4b3e-a74d-2bf33e1eff2c', ...)\n",
      "W-1001 (NO_DATA_RENDERERS): Plot has no data renderers: Figure(id='1e69257a-8c6d-4a0a-a4f3-0f3c8a86f8ce', ...)\n",
      "W-1001 (NO_DATA_RENDERERS): Plot has no data renderers: Figure(id='204bbd1a-a211-4f8e-8ef3-45b6cffc4edc', ...)\n",
      "W-1001 (NO_DATA_RENDERERS): Plot has no data renderers: Figure(id='314d9c5a-9902-45a2-a20f-51608a62714d', ...)\n",
      "W-1001 (NO_DATA_RENDERERS): Plot has no data renderers: Figure(id='31b9d457-89f4-46f2-8fb6-91f335e2e0bf', ...)\n",
      "W-1001 (NO_DATA_RENDERERS): Plot has no data renderers: Figure(id='34496bfc-9000-410b-8219-7dd3f1c98756', ...)\n",
      "W-1001 (NO_DATA_RENDERERS): Plot has no data renderers: Figure(id='36985af7-3d77-4ca4-8f78-ac8715a11933', ...)\n",
      "W-1001 (NO_DATA_RENDERERS): Plot has no data renderers: Figure(id='3a40ab97-cdd2-41e8-a39b-09a96d2e542d', ...)\n",
      "W-1001 (NO_DATA_RENDERERS): Plot has no data renderers: Figure(id='3efd07db-3ef8-407d-9a29-7c8ba0c367a4', ...)\n",
      "W-1001 (NO_DATA_RENDERERS): Plot has no data renderers: Figure(id='40e24333-50bf-4f55-9e50-f290ab284ac9', ...)\n",
      "W-1001 (NO_DATA_RENDERERS): Plot has no data renderers: Figure(id='47088c20-6d14-4b54-87ac-5b148f334d8f', ...)\n",
      "W-1001 (NO_DATA_RENDERERS): Plot has no data renderers: Figure(id='483c9458-9972-413a-8ad6-51e73ee93996', ...)\n",
      "W-1001 (NO_DATA_RENDERERS): Plot has no data renderers: Figure(id='4849bda7-0539-4977-a52e-4b8a66af4354', ...)\n",
      "W-1001 (NO_DATA_RENDERERS): Plot has no data renderers: Figure(id='4b2308dc-3453-47b2-bac8-7b27ce78b92f', ...)\n",
      "W-1001 (NO_DATA_RENDERERS): Plot has no data renderers: Figure(id='4dcd8872-b350-47f9-a176-7bfbbc26edf2', ...)\n",
      "W-1001 (NO_DATA_RENDERERS): Plot has no data renderers: Figure(id='4f43b381-202d-46b2-a416-fd4380c43f8e', ...)\n",
      "W-1001 (NO_DATA_RENDERERS): Plot has no data renderers: Figure(id='508cf9c3-65a6-4ea0-a62e-eca7b3f54efa', ...)\n",
      "W-1001 (NO_DATA_RENDERERS): Plot has no data renderers: Figure(id='5514a1a0-5fb5-413d-8315-6a555291de79', ...)\n",
      "W-1001 (NO_DATA_RENDERERS): Plot has no data renderers: Figure(id='55fd6eb1-5a22-4e4b-8bdf-a04096d02f82', ...)\n",
      "W-1001 (NO_DATA_RENDERERS): Plot has no data renderers: Figure(id='5a625a1d-2c20-4320-b3aa-b4043d1241f4', ...)\n",
      "W-1001 (NO_DATA_RENDERERS): Plot has no data renderers: Figure(id='5a94ced2-f952-4180-93ed-3e14146f2759', ...)\n",
      "W-1001 (NO_DATA_RENDERERS): Plot has no data renderers: Figure(id='6165ed32-b821-47b8-b7fd-94a9e070979d', ...)\n",
      "W-1001 (NO_DATA_RENDERERS): Plot has no data renderers: Figure(id='626be479-7e64-4dfa-82c6-cf5d1a79a836', ...)\n",
      "W-1001 (NO_DATA_RENDERERS): Plot has no data renderers: Figure(id='631941d6-bb2e-4df8-bbc5-3617c563abad', ...)\n",
      "W-1001 (NO_DATA_RENDERERS): Plot has no data renderers: Figure(id='653a90f5-d3b8-4e00-87a9-1f530be4a119', ...)\n",
      "W-1001 (NO_DATA_RENDERERS): Plot has no data renderers: Figure(id='67725be5-164b-4a9d-842f-b77e4b1c665e', ...)\n",
      "W-1001 (NO_DATA_RENDERERS): Plot has no data renderers: Figure(id='68bb429f-59f4-45b9-931b-e916aff3555a', ...)\n",
      "W-1001 (NO_DATA_RENDERERS): Plot has no data renderers: Figure(id='6bf5da00-0cdb-49f5-b803-5929fb07bbe3', ...)\n",
      "W-1001 (NO_DATA_RENDERERS): Plot has no data renderers: Figure(id='6fba0a3b-b99f-4eae-8d55-8affb5c789a6', ...)\n",
      "W-1001 (NO_DATA_RENDERERS): Plot has no data renderers: Figure(id='71e1a148-1c4d-440b-abad-96e423941504', ...)\n",
      "W-1001 (NO_DATA_RENDERERS): Plot has no data renderers: Figure(id='7319700e-cce0-458e-ad21-c767ed25f89b', ...)\n",
      "W-1001 (NO_DATA_RENDERERS): Plot has no data renderers: Figure(id='75a31bdc-24ef-4ace-ac9d-977ae8c5d0ce', ...)\n",
      "W-1001 (NO_DATA_RENDERERS): Plot has no data renderers: Figure(id='75a96166-d3ce-4782-8dec-412a4332327b', ...)\n",
      "W-1001 (NO_DATA_RENDERERS): Plot has no data renderers: Figure(id='76afabc2-2ee5-4ec4-8cf7-289bfd4a78c7', ...)\n",
      "W-1001 (NO_DATA_RENDERERS): Plot has no data renderers: Figure(id='7ae8eb22-add7-4a7c-b20c-152ba8af0fa1', ...)\n",
      "W-1001 (NO_DATA_RENDERERS): Plot has no data renderers: Figure(id='7b7a73e0-8c05-4566-9c81-cbab741fbe19', ...)\n",
      "W-1001 (NO_DATA_RENDERERS): Plot has no data renderers: Figure(id='7bc27b00-9991-4fee-ae2f-df87eecf3f2a', ...)\n",
      "W-1001 (NO_DATA_RENDERERS): Plot has no data renderers: Figure(id='7de28d5c-b8fe-49df-844e-973b2295b119', ...)\n",
      "W-1001 (NO_DATA_RENDERERS): Plot has no data renderers: Figure(id='805e88b1-91c7-4506-84fa-a48c6e0fe203', ...)\n",
      "W-1001 (NO_DATA_RENDERERS): Plot has no data renderers: Figure(id='821a3407-0104-4248-9bcc-1e2a2b9ec816', ...)\n",
      "W-1001 (NO_DATA_RENDERERS): Plot has no data renderers: Figure(id='843cc7bf-e11a-4ac1-b34c-c57a88b214e0', ...)\n",
      "W-1001 (NO_DATA_RENDERERS): Plot has no data renderers: Figure(id='84c31e1a-480d-41b7-b5a0-41b9d1f4ff1b', ...)\n",
      "W-1001 (NO_DATA_RENDERERS): Plot has no data renderers: Figure(id='862c9f8f-baf9-4de9-8d9f-4e3b137a111c', ...)\n",
      "W-1001 (NO_DATA_RENDERERS): Plot has no data renderers: Figure(id='87ea7749-1883-4c87-8555-5af8f3917e49', ...)\n",
      "W-1001 (NO_DATA_RENDERERS): Plot has no data renderers: Figure(id='8ced17e1-a2b9-421f-a5eb-bdc2762b37fa', ...)\n",
      "W-1001 (NO_DATA_RENDERERS): Plot has no data renderers: Figure(id='8f1308a7-a836-4c19-88c8-b9186375c4dd', ...)\n",
      "W-1001 (NO_DATA_RENDERERS): Plot has no data renderers: Figure(id='9074b3a8-7ded-4a46-ae39-8e9b46b97086', ...)\n",
      "W-1001 (NO_DATA_RENDERERS): Plot has no data renderers: Figure(id='9330370e-702e-429d-8a57-f551bc79cb13', ...)\n",
      "W-1001 (NO_DATA_RENDERERS): Plot has no data renderers: Figure(id='9463d1c7-2ac7-4f1e-a8c2-687155adcb22', ...)\n",
      "W-1001 (NO_DATA_RENDERERS): Plot has no data renderers: Figure(id='96808ed5-af84-43e0-a46c-f7dae340ec9b', ...)\n",
      "W-1001 (NO_DATA_RENDERERS): Plot has no data renderers: Figure(id='990f3eb6-8690-421e-997d-c6aa715abe22', ...)\n",
      "W-1001 (NO_DATA_RENDERERS): Plot has no data renderers: Figure(id='9ab52d00-dec7-4942-ae8e-4e8bb4b47644', ...)\n",
      "W-1001 (NO_DATA_RENDERERS): Plot has no data renderers: Figure(id='a3274e82-d63b-43a0-b902-b0a90b8caa54', ...)\n",
      "W-1001 (NO_DATA_RENDERERS): Plot has no data renderers: Figure(id='a3bfbb40-5550-401d-a4b2-5961ec5749e2', ...)\n",
      "W-1001 (NO_DATA_RENDERERS): Plot has no data renderers: Figure(id='a3c8b1e9-35b6-497c-9bd1-4a48268f47c4', ...)\n",
      "W-1001 (NO_DATA_RENDERERS): Plot has no data renderers: Figure(id='a670e975-75d1-4707-b83f-a1e40c87a441', ...)\n",
      "W-1001 (NO_DATA_RENDERERS): Plot has no data renderers: Figure(id='a6a070fa-83f0-4064-94dd-9942ccec7fb7', ...)\n",
      "W-1001 (NO_DATA_RENDERERS): Plot has no data renderers: Figure(id='ab36bf95-c009-4865-af7c-edbde4ae06ea', ...)\n",
      "W-1001 (NO_DATA_RENDERERS): Plot has no data renderers: Figure(id='acdbc4f4-7fa5-46b3-b7a9-1ce3c5d6e309', ...)\n",
      "W-1001 (NO_DATA_RENDERERS): Plot has no data renderers: Figure(id='b00aa358-488a-42aa-bcb1-98e9c809c55f', ...)\n",
      "W-1001 (NO_DATA_RENDERERS): Plot has no data renderers: Figure(id='b203f603-578c-4969-9798-df3bf5f5042f', ...)\n",
      "W-1001 (NO_DATA_RENDERERS): Plot has no data renderers: Figure(id='b5c6aa7c-3b46-454c-a6d2-610a7ecfc50f', ...)\n",
      "W-1001 (NO_DATA_RENDERERS): Plot has no data renderers: Figure(id='b7be64bf-b524-45ff-82b2-08b7709a8908', ...)\n",
      "W-1001 (NO_DATA_RENDERERS): Plot has no data renderers: Figure(id='b8e620a8-2317-42a7-8190-73bc3264c95f', ...)\n",
      "W-1001 (NO_DATA_RENDERERS): Plot has no data renderers: Figure(id='b8fa5f69-3e32-44f1-92fc-f46c10d839eb', ...)\n",
      "W-1001 (NO_DATA_RENDERERS): Plot has no data renderers: Figure(id='bd873929-d0b3-446f-a9b4-6c0c11a94ccb', ...)\n"
     ]
    },
    {
     "name": "stderr",
     "output_type": "stream",
     "text": [
      "W-1001 (NO_DATA_RENDERERS): Plot has no data renderers: Figure(id='bf4a5b26-0f41-4fd6-a63d-a769c86d57f5', ...)\n",
      "W-1001 (NO_DATA_RENDERERS): Plot has no data renderers: Figure(id='c0b4d42b-6d9a-4762-b451-f47e828897ca', ...)\n",
      "W-1001 (NO_DATA_RENDERERS): Plot has no data renderers: Figure(id='c110102b-4a2e-4eef-a188-6be25b919d19', ...)\n",
      "W-1001 (NO_DATA_RENDERERS): Plot has no data renderers: Figure(id='c4b8e11a-96ba-44e8-b7d1-9e29e4dc3458', ...)\n",
      "W-1001 (NO_DATA_RENDERERS): Plot has no data renderers: Figure(id='c6a8aff1-6cf2-491c-b1d8-60321dac0e63', ...)\n",
      "W-1001 (NO_DATA_RENDERERS): Plot has no data renderers: Figure(id='c9848e17-48ae-4035-ab48-b6a1693a3ac0', ...)\n",
      "W-1001 (NO_DATA_RENDERERS): Plot has no data renderers: Figure(id='ccda8553-0505-4324-89d9-4a3a0d3a5c34', ...)\n",
      "W-1001 (NO_DATA_RENDERERS): Plot has no data renderers: Figure(id='d0cf4f92-941c-4841-add5-663258c8212f', ...)\n",
      "W-1001 (NO_DATA_RENDERERS): Plot has no data renderers: Figure(id='d3640ac7-35d3-4cfb-ba4b-8a7cf81ab875', ...)\n",
      "W-1001 (NO_DATA_RENDERERS): Plot has no data renderers: Figure(id='d49754df-c209-46d3-a021-2eee30b06cd7', ...)\n",
      "W-1001 (NO_DATA_RENDERERS): Plot has no data renderers: Figure(id='d684f131-35d5-4e38-89a0-c80d882e9365', ...)\n",
      "W-1001 (NO_DATA_RENDERERS): Plot has no data renderers: Figure(id='db88a5f6-c86c-405b-8a09-50575e5a3fed', ...)\n",
      "W-1001 (NO_DATA_RENDERERS): Plot has no data renderers: Figure(id='dd19a79c-62f5-44cd-97da-13e3477e07d1', ...)\n",
      "W-1001 (NO_DATA_RENDERERS): Plot has no data renderers: Figure(id='e3d55cad-0631-4feb-aba5-b0201c905bfb', ...)\n",
      "W-1001 (NO_DATA_RENDERERS): Plot has no data renderers: Figure(id='e47086fa-d447-4b65-bb44-e723740dc35d', ...)\n",
      "W-1001 (NO_DATA_RENDERERS): Plot has no data renderers: Figure(id='e4cd9058-544a-42e5-9bae-7f14e0edeaf4', ...)\n",
      "W-1001 (NO_DATA_RENDERERS): Plot has no data renderers: Figure(id='e811df29-0253-4310-aed0-f9e6d598a842', ...)\n",
      "W-1001 (NO_DATA_RENDERERS): Plot has no data renderers: Figure(id='ea19e073-339f-459f-b2aa-63141276ed96', ...)\n",
      "W-1001 (NO_DATA_RENDERERS): Plot has no data renderers: Figure(id='ec7f6a3e-fcce-43c1-b128-a09d6a5f58ae', ...)\n",
      "W-1001 (NO_DATA_RENDERERS): Plot has no data renderers: Figure(id='f5d317f2-3ab4-456c-9553-6996e494247e', ...)\n",
      "W-1001 (NO_DATA_RENDERERS): Plot has no data renderers: Figure(id='f78be68e-f8c9-4dc7-916b-f2d5f23875dd', ...)\n",
      "W-1001 (NO_DATA_RENDERERS): Plot has no data renderers: Figure(id='fa1b4e8d-77bc-4fbb-a635-f7a801e7f874', ...)\n",
      "W-1001 (NO_DATA_RENDERERS): Plot has no data renderers: Figure(id='fb32ddd0-3ca7-4463-bd45-fa6d6c2baa4f', ...)\n",
      "W-1001 (NO_DATA_RENDERERS): Plot has no data renderers: Figure(id='fc698b56-ec8d-4131-b8c6-27e63876eabb', ...)\n",
      "W-1001 (NO_DATA_RENDERERS): Plot has no data renderers: Figure(id='fd2339ad-2936-42d0-a3d8-fcdfdb8793ee', ...)\n",
      "W-1001 (NO_DATA_RENDERERS): Plot has no data renderers: Figure(id='ff2c684e-0037-4704-b423-5b54cd76afd5', ...)\n",
      "IOPub data rate exceeded.\n",
      "The notebook server will temporarily stop sending output\n",
      "to the client in order to avoid crashing it.\n",
      "To change this limit, set the config variable\n",
      "`--NotebookApp.iopub_data_rate_limit`.\n"
     ]
    },
    {
     "name": "stdout",
     "output_type": "stream",
     "text": [
      "INFO:tensorflow:Restoring parameters from model_runs/all_knower_last_glimpse_rand_init/classifymodel_300000.ckpt\n",
      "INFO:tensorflow:Restoring parameters from model_runs/all_knower_last_glimpse_rand_init/classifymodel_300000.ckpt\n"
     ]
    },
    {
     "name": "stderr",
     "output_type": "stream",
     "text": [
      "IOPub data rate exceeded.\n",
      "The notebook server will temporarily stop sending output\n",
      "to the client in order to avoid crashing it.\n",
      "To change this limit, set the config variable\n",
      "`--NotebookApp.iopub_data_rate_limit`.\n"
     ]
    }
   ],
   "source": [
    "from viz import *"
   ]
  }
 ],
 "metadata": {
  "celltoolbar": "Raw Cell Format",
  "kernelspec": {
   "display_name": "Python 3",
   "language": "python",
   "name": "python3"
  },
  "language_info": {
   "codemirror_mode": {
    "name": "ipython",
    "version": 3
   },
   "file_extension": ".py",
   "mimetype": "text/x-python",
   "name": "python",
   "nbconvert_exporter": "python",
   "pygments_lexer": "ipython3",
   "version": "3.5.2"
  }
 },
 "nbformat": 4,
 "nbformat_minor": 2
}
