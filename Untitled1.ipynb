{
 "cells": [
  {
   "cell_type": "code",
   "execution_count": 1,
   "metadata": {},
   "outputs": [
    {
     "data": {
      "text/html": [
       "<script>requirejs.config({paths: { 'plotly': ['https://cdn.plot.ly/plotly-latest.min']},});if(!window.Plotly) {{require(['plotly'],function(plotly) {window.Plotly=plotly;});}}</script>"
      ],
      "text/vnd.plotly.v1+html": [
       "<script>requirejs.config({paths: { 'plotly': ['https://cdn.plot.ly/plotly-latest.min']},});if(!window.Plotly) {{require(['plotly'],function(plotly) {window.Plotly=plotly;});}}</script>"
      ]
     },
     "metadata": {},
     "output_type": "display_data"
    }
   ],
   "source": [
    "import numpy as np\n",
    "from plotly.offline import download_plotlyjs, init_notebook_mode, plot, iplot\n",
    "init_notebook_mode(connected=True)\n",
    "import plotly.graph_objs as go"
   ]
  },
  {
   "cell_type": "code",
   "execution_count": 6,
   "metadata": {
    "collapsed": true
   },
   "outputs": [],
   "source": [
    "model_name = \"DRAM_classify_blobs_2\"\n",
    "num_runs = 10\n",
    "iter_list = [0, 250, 1000, 4000, 16000, 32000, 64000, 125000, 250000, 500000]\n",
    "glimpse_list = [0, 3, 9]\n",
    "max_blobs = 15\n",
    "min_blobs = 1\n",
    "\n",
    "num_iters = len(iter_list)\n",
    "num_glimpses = len(glimpse_list)\n",
    "z_size = max_blobs - min_blobs + 1\n",
    "data_directory = \"data/\" + model_name + \"/\"\n",
    "m = 0.5\n",
    "\n",
    "# confidence_all_runs = np.zeros([num_runs, num_iters, num_glimpses, z_size, z_size])\n",
    "# choice_all_runs = np.zeros([num_runs, num_iters, num_glimpses, z_size, z_size])"
   ]
  },
  {
   "cell_type": "code",
   "execution_count": 7,
   "metadata": {
    "collapsed": true
   },
   "outputs": [],
   "source": [
    "confidence_msdcv = np.load(data_directory + \"confidence_msdcv.npy\")\n",
    "choice_msdcv = np.load(data_directory + \"choice_msdcv.npy\")"
   ]
  },
  {
   "cell_type": "code",
   "execution_count": 8,
   "metadata": {},
   "outputs": [
    {
     "name": "stdout",
     "output_type": "stream",
     "text": [
      "(10, 10, 3, 15, 3)\n"
     ]
    }
   ],
   "source": [
    "print(np.shape(confidence_msdcv))"
   ]
  },
  {
   "cell_type": "code",
   "execution_count": 16,
   "metadata": {
    "collapsed": true
   },
   "outputs": [],
   "source": [
    "mus = np.mean(choice_msdcv, axis=0)[9, 2, :, 0]\n",
    "sigmas = np.mean(choice_msdcv, axis=0)[9, 2, :, 1]"
   ]
  },
  {
   "cell_type": "code",
   "execution_count": 17,
   "metadata": {},
   "outputs": [
    {
     "name": "stdout",
     "output_type": "stream",
     "text": [
      "(15,)\n"
     ]
    }
   ],
   "source": [
    "print(np.shape(mus))"
   ]
  },
  {
   "cell_type": "code",
   "execution_count": 18,
   "metadata": {},
   "outputs": [
    {
     "data": {
      "text/plain": [
       "array([ 1.00033784,  2.01635723,  2.97884646,  3.90490847,  4.8131529 ,\n",
       "        5.76492467,  6.73977902,  7.75594279,  8.79130596,         nan,\n",
       "               nan,         nan,         nan,         nan,         nan])"
      ]
     },
     "execution_count": 18,
     "metadata": {},
     "output_type": "execute_result"
    }
   ],
   "source": [
    "mus"
   ]
  },
  {
   "cell_type": "code",
   "execution_count": 19,
   "metadata": {},
   "outputs": [
    {
     "data": {
      "text/plain": [
       "array([ 0.00580256,  0.18457098,  0.43459429,  0.63775181,  0.80228198,\n",
       "        0.97345602,  1.16700558,  1.39914531,  1.47665425,         nan,\n",
       "               nan,         nan,         nan,         nan,         nan])"
      ]
     },
     "execution_count": 19,
     "metadata": {},
     "output_type": "execute_result"
    }
   ],
   "source": [
    "sigmas"
   ]
  },
  {
   "cell_type": "code",
   "execution_count": 21,
   "metadata": {
    "collapsed": true
   },
   "outputs": [],
   "source": [
    "def get_pdf(sigma, x, mu):\n",
    "    \"\"\"Calculate the pdf.\"\"\"\n",
    "    \n",
    "    pdf = 1/(sigma * np.sqrt(2*np.pi)) * np.exp(-(x-mu)**2 / (2*sigma**2))\n",
    "    return pdf\n",
    "\n",
    "\n",
    "def get_cdf(sigma, x, mu, a):\n",
    "    \"\"\"Calculate the cdf.\"\"\"\n",
    "    \n",
    "    cdf = (1 + scipy.special.erf((a*x - mu) / np.sqrt(2*sigma**2))) / 2\n",
    "    return cdf\n",
    "\n",
    "    \n",
    "def curve(sigma, x, mu):\n",
    "    \"\"\"Add normal distribution curve to plot.\"\"\"\n",
    "    \n",
    "    pdf = get_pdf(sigma, x, mu)\n",
    "    min_blobs = 1\n",
    "    plot.line(x + min_blobs, pdf)"
   ]
  },
  {
   "cell_type": "code",
   "execution_count": null,
   "metadata": {
    "collapsed": true
   },
   "outputs": [],
   "source": []
  }
 ],
 "metadata": {
  "kernelspec": {
   "display_name": "Python 3",
   "language": "python",
   "name": "python3"
  },
  "language_info": {
   "codemirror_mode": {
    "name": "ipython",
    "version": 3
   },
   "file_extension": ".py",
   "mimetype": "text/x-python",
   "name": "python",
   "nbconvert_exporter": "python",
   "pygments_lexer": "ipython3",
   "version": "3.5.2"
  }
 },
 "nbformat": 4,
 "nbformat_minor": 2
}
