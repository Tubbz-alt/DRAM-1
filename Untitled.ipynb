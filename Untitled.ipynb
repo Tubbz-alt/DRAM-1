{
 "cells": [
  {
   "cell_type": "code",
   "execution_count": 2,
   "metadata": {
    "collapsed": true
   },
   "outputs": [],
   "source": [
    "d_edge = 3\n",
    "CTA_dims = [(9, 9), (7, 6), (5, 5), (5, 4), (4, 4), (4, 3), (4, 3), (3, 3), (3, 3), (3, 3), (3, 2), (3, 2), (3, 2), (3, 2), (3, 2)]"
   ]
  },
  {
   "cell_type": "code",
   "execution_count": 3,
   "metadata": {},
   "outputs": [
    {
     "name": "stdout",
     "output_type": "stream",
     "text": [
      "1 6x6 36 9x9 81 81\n",
      "2 12x12 144 7x6 42 84\n",
      "3 18x18 324 5x5 25 75\n",
      "4 24x24 576 5x4 20 80\n",
      "5 30x30 900 4x4 16 80\n",
      "6 36x36 1296 4x3 12 72\n",
      "7 42x42 1764 4x3 12 84\n",
      "8 48x48 2304 3x3 9 72\n",
      "9 54x54 2916 3x3 9 81\n",
      "10 60x60 3600 3x3 9 90\n",
      "11 66x66 4356 3x2 6 66\n",
      "12 72x72 5184 3x2 6 72\n",
      "13 78x78 6084 3x2 6 78\n",
      "14 84x84 7056 3x2 6 84\n",
      "15 90x90 8100 3x2 6 90\n"
     ]
    }
   ],
   "source": [
    "for num_blobs in range(1, 16):\n",
    "    edge = int(50+(d_edge/2+1.5)*num_blobs)-int(50-(d_edge/2+1.5)*num_blobs)\n",
    "    width, height = CTA_dims[num_blobs-1]\n",
    "    print(num_blobs, str(edge) + 'x' + str(edge), edge*edge, str(width) + 'x' + str(height), width*height, width*height*num_blobs)"
   ]
  },
  {
   "cell_type": "code",
   "execution_count": 12,
   "metadata": {},
   "outputs": [
    {
     "name": "stdout",
     "output_type": "stream",
     "text": [
      "1 5x5 25 9x9 81 81\n",
      "2 11x11 121 7x6 42 84\n",
      "3 15x15 225 5x5 25 75\n",
      "4 21x21 441 5x4 20 80\n",
      "5 27x27 729 4x4 16 80\n",
      "6 31x31 961 4x3 12 72\n",
      "7 37x37 1369 4x3 12 84\n",
      "8 43x43 1849 3x3 9 72\n",
      "9 47x47 2209 3x3 9 81\n",
      "10 53x53 2809 3x3 9 90\n",
      "11 59x59 3481 3x2 6 66\n",
      "12 63x63 3969 3x2 6 72\n",
      "13 69x69 4761 3x2 6 78\n",
      "14 73x73 5329 3x2 6 84\n",
      "15 79x79 6241 3x2 6 90\n"
     ]
    }
   ],
   "source": [
    "for num_blobs in range(1, 16):\n",
    "    edge = int(50+d_edge*.88*num_blobs)-int(50-d_edge*.88*num_blobs)\n",
    "    width, height = CTA_dims[num_blobs-1]\n",
    "    print(num_blobs, str(edge) + 'x' + str(edge), edge*edge, str(width) + 'x' + str(height), width*height, width*height*num_blobs)"
   ]
  },
  {
   "cell_type": "code",
   "execution_count": 5,
   "metadata": {},
   "outputs": [
    {
     "data": {
      "text/plain": [
       "10000"
      ]
     },
     "execution_count": 5,
     "metadata": {},
     "output_type": "execute_result"
    }
   ],
   "source": [
    "100*100"
   ]
  },
  {
   "cell_type": "code",
   "execution_count": 8,
   "metadata": {},
   "outputs": [
    {
     "data": {
      "text/plain": [
       "90"
      ]
     },
     "execution_count": 8,
     "metadata": {},
     "output_type": "execute_result"
    }
   ],
   "source": [
    "50+d_edge*num_blobs-50+d_edge*num_blobs"
   ]
  },
  {
   "cell_type": "code",
   "execution_count": 11,
   "metadata": {},
   "outputs": [
    {
     "data": {
      "text/plain": [
       "0.888888888888889"
      ]
     },
     "execution_count": 11,
     "metadata": {},
     "output_type": "execute_result"
    }
   ],
   "source": [
    "(80/6)/15"
   ]
  },
  {
   "cell_type": "code",
   "execution_count": null,
   "metadata": {
    "collapsed": true
   },
   "outputs": [],
   "source": []
  }
 ],
 "metadata": {
  "kernelspec": {
   "display_name": "Python 3",
   "language": "python",
   "name": "python3"
  },
  "language_info": {
   "codemirror_mode": {
    "name": "ipython",
    "version": 3
   },
   "file_extension": ".py",
   "mimetype": "text/x-python",
   "name": "python",
   "nbconvert_exporter": "python",
   "pygments_lexer": "ipython3",
   "version": "3.5.2"
  }
 },
 "nbformat": 4,
 "nbformat_minor": 2
}
