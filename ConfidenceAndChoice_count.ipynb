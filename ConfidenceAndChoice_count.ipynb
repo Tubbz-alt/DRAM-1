{
 "cells": [
  {
   "cell_type": "code",
   "execution_count": 1,
   "metadata": {},
   "outputs": [
    {
     "data": {
      "text/html": [
       "<script>requirejs.config({paths: { 'plotly': ['https://cdn.plot.ly/plotly-latest.min']},});if(!window.Plotly) {{require(['plotly'],function(plotly) {window.Plotly=plotly;});}}</script>"
      ],
      "text/vnd.plotly.v1+html": [
       "<script>requirejs.config({paths: { 'plotly': ['https://cdn.plot.ly/plotly-latest.min']},});if(!window.Plotly) {{require(['plotly'],function(plotly) {window.Plotly=plotly;});}}</script>"
      ]
     },
     "metadata": {},
     "output_type": "display_data"
    },
    {
     "name": "stdout",
     "output_type": "stream",
     "text": [
      "['/usr/local/lib/python3.5/dist-packages/ipykernel_launcher.py', '-f', 'true', 'true', 'true', 'true', 'true', 'model_runs/-f/count_log.csv', 'model_runs/-f/countmodel_0.ckpt', 'model_runs/-f/countmodel_', 'true', 'false', 'false', 'true']\n",
      "WARNING:tensorflow:From /home/mtfang/DRAM/COUNT_twolayer2_test.py:288: arg_max (from tensorflow.python.ops.gen_math_ops) is deprecated and will be removed in a future version.\n",
      "Instructions for updating:\n",
      "Use `argmax` instead\n",
      "WARNING:tensorflow:From /home/mtfang/DRAM/COUNT_twolayer2_test.py:289: arg_max (from tensorflow.python.ops.gen_math_ops) is deprecated and will be removed in a future version.\n",
      "Instructions for updating:\n",
      "Use `argmax` instead\n",
      "WARNING:tensorflow:From /home/mtfang/DRAM/COUNT_twolayer2_test.py:288: arg_max (from tensorflow.python.ops.gen_math_ops) is deprecated and will be removed in a future version.\n",
      "Instructions for updating:\n",
      "Use `argmax` instead\n",
      "WARNING:tensorflow:From /home/mtfang/DRAM/COUNT_twolayer2_test.py:289: arg_max (from tensorflow.python.ops.gen_math_ops) is deprecated and will be removed in a future version.\n",
      "Instructions for updating:\n",
      "Use `argmax` instead\n",
      "WARNING:tensorflow:From /home/mtfang/DRAM/COUNT_twolayer2_test.py:288: arg_max (from tensorflow.python.ops.gen_math_ops) is deprecated and will be removed in a future version.\n",
      "Instructions for updating:\n",
      "Use `argmax` instead\n",
      "WARNING:tensorflow:From /home/mtfang/DRAM/COUNT_twolayer2_test.py:289: arg_max (from tensorflow.python.ops.gen_math_ops) is deprecated and will be removed in a future version.\n",
      "Instructions for updating:\n",
      "Use `argmax` instead\n",
      "WARNING:tensorflow:From /home/mtfang/DRAM/COUNT_twolayer2_test.py:288: arg_max (from tensorflow.python.ops.gen_math_ops) is deprecated and will be removed in a future version.\n",
      "Instructions for updating:\n",
      "Use `argmax` instead\n",
      "WARNING:tensorflow:From /home/mtfang/DRAM/COUNT_twolayer2_test.py:289: arg_max (from tensorflow.python.ops.gen_math_ops) is deprecated and will be removed in a future version.\n",
      "Instructions for updating:\n",
      "Use `argmax` instead\n",
      "WARNING:tensorflow:From /home/mtfang/DRAM/COUNT_twolayer2_test.py:288: arg_max (from tensorflow.python.ops.gen_math_ops) is deprecated and will be removed in a future version.\n",
      "Instructions for updating:\n",
      "Use `argmax` instead\n",
      "WARNING:tensorflow:From /home/mtfang/DRAM/COUNT_twolayer2_test.py:289: arg_max (from tensorflow.python.ops.gen_math_ops) is deprecated and will be removed in a future version.\n",
      "Instructions for updating:\n",
      "Use `argmax` instead\n",
      "WARNING:tensorflow:From /home/mtfang/DRAM/COUNT_twolayer2_test.py:288: arg_max (from tensorflow.python.ops.gen_math_ops) is deprecated and will be removed in a future version.\n",
      "Instructions for updating:\n",
      "Use `argmax` instead\n",
      "WARNING:tensorflow:From /home/mtfang/DRAM/COUNT_twolayer2_test.py:289: arg_max (from tensorflow.python.ops.gen_math_ops) is deprecated and will be removed in a future version.\n",
      "Instructions for updating:\n",
      "Use `argmax` instead\n",
      "WARNING:tensorflow:From /home/mtfang/DRAM/COUNT_twolayer2_test.py:288: arg_max (from tensorflow.python.ops.gen_math_ops) is deprecated and will be removed in a future version.\n",
      "Instructions for updating:\n",
      "Use `argmax` instead\n",
      "WARNING:tensorflow:From /home/mtfang/DRAM/COUNT_twolayer2_test.py:289: arg_max (from tensorflow.python.ops.gen_math_ops) is deprecated and will be removed in a future version.\n",
      "Instructions for updating:\n",
      "Use `argmax` instead\n",
      "WARNING:tensorflow:From /home/mtfang/DRAM/COUNT_twolayer2_test.py:288: arg_max (from tensorflow.python.ops.gen_math_ops) is deprecated and will be removed in a future version.\n",
      "Instructions for updating:\n",
      "Use `argmax` instead\n",
      "WARNING:tensorflow:From /home/mtfang/DRAM/COUNT_twolayer2_test.py:289: arg_max (from tensorflow.python.ops.gen_math_ops) is deprecated and will be removed in a future version.\n",
      "Instructions for updating:\n",
      "Use `argmax` instead\n",
      "WARNING:tensorflow:From /home/mtfang/DRAM/COUNT_twolayer2_test.py:288: arg_max (from tensorflow.python.ops.gen_math_ops) is deprecated and will be removed in a future version.\n",
      "Instructions for updating:\n",
      "Use `argmax` instead\n",
      "WARNING:tensorflow:From /home/mtfang/DRAM/COUNT_twolayer2_test.py:289: arg_max (from tensorflow.python.ops.gen_math_ops) is deprecated and will be removed in a future version.\n",
      "Instructions for updating:\n",
      "Use `argmax` instead\n",
      "WARNING:tensorflow:From /home/mtfang/DRAM/COUNT_twolayer2_test.py:288: arg_max (from tensorflow.python.ops.gen_math_ops) is deprecated and will be removed in a future version.\n",
      "Instructions for updating:\n",
      "Use `argmax` instead\n",
      "WARNING:tensorflow:From /home/mtfang/DRAM/COUNT_twolayer2_test.py:289: arg_max (from tensorflow.python.ops.gen_math_ops) is deprecated and will be removed in a future version.\n",
      "Instructions for updating:\n",
      "Use `argmax` instead\n",
      "analysis_count.py\n"
     ]
    }
   ],
   "source": [
    "import numpy as np\n",
    "from plotly.offline import download_plotlyjs, init_notebook_mode, plot, iplot\n",
    "init_notebook_mode(connected=True)\n",
    "import plotly.graph_objs as go\n",
    "from analysis_count import read_n, classify_imgs2\n",
    "import matplotlib.pyplot as plt\n",
    "%matplotlib inline"
   ]
  },
  {
   "cell_type": "code",
   "execution_count": 2,
   "metadata": {
    "collapsed": true
   },
   "outputs": [],
   "source": [
    "model_name = \"COUNT_5blobs_0threshold_2mask\"\n",
    "num_runs = 1\n",
    "iter_list = [0, 400, 800, 1600, 3200, 6400, 12800, 25600, 51200, 102400, 153600, 204800, 307200]\n",
    "             #[0, 1000, 4000, 16000, 32000, 64000, 125000, 250000, 500000, 600000]\n",
    "#iter_list = np.arange(0,11100000,100000)\n",
    "glimpse_list = np.arange(0,6,1)\n",
    "max_blobs = 5\n",
    "min_blobs = 1\n",
    "\n",
    "num_iters = len(iter_list)\n",
    "num_glimpses = len(glimpse_list)\n",
    "blob_list = np.arange(0,6,1)\n",
    "output_size = max_blobs - min_blobs + 2 # 6\n",
    "data_directory = \"data/\" + model_name + \"/\"\n",
    "m = 0.5\n",
    "\n",
    "confidence_all_runs = np.zeros([num_runs, num_iters, output_size-1, num_glimpses, 1, output_size]) \n",
    "choice_all_runs = np.zeros([num_runs, num_iters, output_size-1, num_glimpses, 1, output_size])"
   ]
  },
  {
   "cell_type": "code",
   "execution_count": 3,
   "metadata": {
    "collapsed": true
   },
   "outputs": [],
   "source": [
    "def fill_matrix(path, iteration):\n",
    "    \"\"\"Fill the confidence and choice matrices for one run at one iteration.\"\"\"\n",
    "    \n",
    "    data = None\n",
    "    num_imgs = 100 # batch_size\n",
    "    imgs_data = classify_imgs2(iteration, True, num_imgs, path=path) # new_imgs = True\n",
    "        \n",
    "    confidence_one_run = np.zeros([output_size-1, num_glimpses, 1, output_size])\n",
    "    choice_one_run = np.zeros([output_size-1, num_glimpses, 1, output_size])\n",
    "    \n",
    "    for nb in range(output_size-1):\n",
    "        confidence_hist = np.zeros([num_glimpses, 1, output_size])\n",
    "        choice_hist = np.zeros([num_glimpses, 1, output_size])\n",
    "        num_imgs_with_num_blobs = 0.00001\n",
    "        \n",
    "        for idx, data in enumerate(imgs_data):\n",
    "            if data[\"label\"][nb] == 1: # data is for an image with nb+1 blobs\n",
    "                num_imgs_with_num_blobs += 1\n",
    "                \n",
    "                for g, glimpse in enumerate(glimpse_list):\n",
    "                    # Histogram of softmaxes\n",
    "                    confidence_hist[glimpse] += data[\"classifications\"][glimpse]\n",
    "                    # Histogram of choices\n",
    "                    choice = np.argmax(data[\"classifications\"][glimpse])\n",
    "                    choice_list = [0] * (output_size)\n",
    "                    choice_list[choice] = 1\n",
    "                    choice_hist[glimpse] += choice_list\n",
    "\n",
    "        confidence_hist = confidence_hist / num_imgs_with_num_blobs\n",
    "        confidence_one_run[nb] = confidence_hist.tolist()\n",
    "        choice_hist = choice_hist / num_imgs_with_num_blobs\n",
    "        choice_one_run[nb] = choice_hist.tolist()\n",
    "    return confidence_one_run, choice_one_run"
   ]
  },
  {
   "cell_type": "code",
   "execution_count": 4,
   "metadata": {},
   "outputs": [
    {
     "name": "stdout",
     "output_type": "stream",
     "text": [
      "INFO:tensorflow:Restoring parameters from model_runs/COUNT_5blobs_0threshold_2mask/countmodel_0.ckpt\n",
      "INFO:tensorflow:Restoring parameters from model_runs/COUNT_5blobs_0threshold_2mask/countmodel_400.ckpt\n",
      "INFO:tensorflow:Restoring parameters from model_runs/COUNT_5blobs_0threshold_2mask/countmodel_800.ckpt\n",
      "INFO:tensorflow:Restoring parameters from model_runs/COUNT_5blobs_0threshold_2mask/countmodel_1600.ckpt\n",
      "INFO:tensorflow:Restoring parameters from model_runs/COUNT_5blobs_0threshold_2mask/countmodel_3200.ckpt\n",
      "INFO:tensorflow:Restoring parameters from model_runs/COUNT_5blobs_0threshold_2mask/countmodel_6400.ckpt\n",
      "INFO:tensorflow:Restoring parameters from model_runs/COUNT_5blobs_0threshold_2mask/countmodel_12800.ckpt\n",
      "INFO:tensorflow:Restoring parameters from model_runs/COUNT_5blobs_0threshold_2mask/countmodel_25600.ckpt\n",
      "INFO:tensorflow:Restoring parameters from model_runs/COUNT_5blobs_0threshold_2mask/countmodel_51200.ckpt\n",
      "INFO:tensorflow:Restoring parameters from model_runs/COUNT_5blobs_0threshold_2mask/countmodel_102400.ckpt\n",
      "INFO:tensorflow:Restoring parameters from model_runs/COUNT_5blobs_0threshold_2mask/countmodel_153600.ckpt\n",
      "INFO:tensorflow:Restoring parameters from model_runs/COUNT_5blobs_0threshold_2mask/countmodel_204800.ckpt\n",
      "INFO:tensorflow:Restoring parameters from model_runs/COUNT_5blobs_0threshold_2mask/countmodel_307200.ckpt\n"
     ]
    }
   ],
   "source": [
    "for run in range(num_runs):\n",
    "    path = 'model_runs/' + model_name # '_run_' + str(run + 1) \n",
    "#     path = 'model_runs/DRAM_test_square'\n",
    "    for i, iteration in enumerate(iter_list):\n",
    "        confidence_all_runs[run, i], choice_all_runs[run, i] = fill_matrix(path, iteration)"
   ]
  },
  {
   "cell_type": "code",
   "execution_count": 5,
   "metadata": {
    "collapsed": true
   },
   "outputs": [],
   "source": [
    "def adj_all_runs(all_runs_matrix):\n",
    "    \"\"\"Adjust all the matrices so tick marks start with 1.\"\"\"\n",
    "    \n",
    "    new_all_runs_matrix = np.zeros([num_runs, num_iters, output_size-1, num_glimpses+1, 1, output_size])\n",
    "    for m, matrix in enumerate(all_runs_matrix):\n",
    "        for i in range(num_iters):\n",
    "            for g in range(num_glimpses):\n",
    "                new_all_runs_matrix[m, i, g] = adj_matrix(matrix[i, g])\n",
    "    return new_all_runs_matrix\n",
    "\n",
    "\n",
    "def adj_matrix(matrix):\n",
    "    \"\"\"Adjust the matrix so tick marks start with 1.\"\"\"\n",
    "    \n",
    "    a = np.zeros([1, output_size])\n",
    "    temp = np.vstack((a, matrix))\n",
    "    b = np.zeros([output_size + 1, 1])\n",
    "    new_matrix = np.hstack((b, temp))\n",
    "    return new_matrix\n",
    "\n",
    "\n",
    "confidence_all_runs_adj = confidence_all_runs#adj_all_runs(confidence_all_runs)\n",
    "choice_all_runs_adj = choice_all_runs#adj_all_runs(choice_all_runs)"
   ]
  },
  {
   "cell_type": "code",
   "execution_count": 6,
   "metadata": {},
   "outputs": [
    {
     "data": {
      "text/plain": [
       "array([  2.11398334e-05,   9.99726910e-01,   2.49507304e-04,\n",
       "         1.23382962e-06,   2.74813135e-07,   2.12650324e-07])"
      ]
     },
     "execution_count": 6,
     "metadata": {},
     "output_type": "execute_result"
    }
   ],
   "source": [
    "confidence_avg = np.mean(confidence_all_runs_adj, axis=0)\n",
    "choice_avg = np.mean(choice_all_runs_adj, axis=0)\n",
    "confidence_avg[5,0,0,0]"
   ]
  },
  {
   "cell_type": "code",
   "execution_count": 7,
   "metadata": {
    "collapsed": true
   },
   "outputs": [],
   "source": [
    "def plot_confidence(iter_idx, it, num_blobs, run=None):\n",
    "    \"\"\"Plot the confidence heatmap.\"\"\"\n",
    "    \n",
    "    if run is None:\n",
    "        matrix = np.zeros([6,6])\n",
    "        for g in range (6):\n",
    "            matrix[:,g] = confidence_avg[iter_idx, num_blobs, g, 0]\n",
    "        plot_title = \"%d Blobs:Confidence after %d Iters\" % (num_blobs+1, it)\n",
    "\n",
    "    else:\n",
    "        matrix = np.zeros([6,6])\n",
    "        for g in range (6):\n",
    "            matrix = confidence_all_runs_adj[run, iter_idx, num_blobs, g, 0]\n",
    "        plot_title = \"%d Blobs:Confidence at Run %d after %d Iters\" % (num_blobs+1, run + 1, it)\n",
    "    plot_heatmap(matrix, num_blobs, plot_title)\n",
    "\n",
    "\n",
    "def plot_choice(iter_idx, it, num_blobs, run=None):\n",
    "    \"\"\"Plot the choice heatmap.\"\"\"\n",
    "    \n",
    "    if run is None:\n",
    "        matrix = np.zeros([6,6])\n",
    "        for g in range (6):\n",
    "            matrix[:,g] = choice_avg[iter_idx, num_blobs, g, 0]\n",
    "        plot_title = \"%d Blobs:Choice after %d Iterations\" % (num_blobs+1, it)\n",
    "    else:\n",
    "        matrix = np.zeros([6,6])\n",
    "        for g in range (6):\n",
    "            matrix = choice_all_runs_adj[run, iter_idx, num_blobs, g, 0]\n",
    "        plot_title = \"%d Blobs:Choice at Run %d after %d Iterations\" % (num_blobs+1, run + 1, it)\n",
    "    plot_heatmap(matrix, num_blobs, plot_title)\n",
    "    \n",
    "    \n",
    "def plot_heatmap(matrix, num_blobs, plot_title):\n",
    "    \"\"\"Plot heatmap.\"\"\"\n",
    "    \n",
    "    data = [go.Heatmap(\n",
    "        z=matrix,\n",
    "        colorscale=\"Jet\"\n",
    "    )]\n",
    "\n",
    "    layout = go.Layout(\n",
    "        title=plot_title,\n",
    "        yaxis=dict(\n",
    "#             range=[max_blobs + m, min_blobs - m],\n",
    "            range=[0 - m, 5 + m],\n",
    "            title=\"Count Word\",\n",
    "            dtick=1,\n",
    "            tickcolor='#FFF'\n",
    "        ),\n",
    "        xaxis=dict(\n",
    "            range=[0 - m, 5 + m],\n",
    "            title=\"Glimpses\",\n",
    "            dtick=1,\n",
    "            tickcolor='#FFF'\n",
    "        ),\n",
    "        width=300,\n",
    "        height=300,\n",
    "        plot_bgcolor=\"#000\",\n",
    "        paper_bgcolor=\"#000\",\n",
    "        font=dict(\n",
    "            color=\"#FFF\"\n",
    "        ),\n",
    "        titlefont=dict(\n",
    "            color=\"#FFF\"\n",
    "        ),\n",
    "    )\n",
    "    fig = go.Figure(data=data, layout=layout)\n",
    "    iplot(fig)"
   ]
  },
  {
   "cell_type": "code",
   "execution_count": 8,
   "metadata": {
    "scrolled": false
   },
   "outputs": [
    {
     "data": {
      "application/vnd.plotly.v1+json": {
       "data": [
        {
         "colorscale": "Jet",
         "type": "heatmap",
         "z": [
          [
           0.16608582277770345,
           0.16580598686666967,
           0.1657647158511192,
           0.16586217847322396,
           0.16602645722519485,
           0.1662054531350139
          ],
          [
           0.1680779128002227,
           0.16868214037064094,
           0.16881879626902782,
           0.1687442172854314,
           0.1686002876799147,
           0.1684696447213935
          ],
          [
           0.1668410016368907,
           0.16697777739239159,
           0.1670391481220238,
           0.16706123033755899,
           0.16706253710403984,
           0.1670645973506483
          ],
          [
           0.1674602463318803,
           0.16784759990507006,
           0.1679832982422974,
           0.16793213480364502,
           0.16776960920492018,
           0.1675428116865277
          ],
          [
           0.16623420847635625,
           0.16606445387396573,
           0.1660038580043787,
           0.1660370169608775,
           0.16613558291630745,
           0.16628255365313863
          ],
          [
           0.16530038032116617,
           0.16462160745671867,
           0.16438977140440364,
           0.1643628016101219,
           0.1644051008053477,
           0.16443450467085832
          ]
         ]
        }
       ],
       "layout": {
        "font": {
         "color": "#FFF"
        },
        "height": 300,
        "paper_bgcolor": "#000",
        "plot_bgcolor": "#000",
        "title": "1 Blobs:Confidence after 0 Iters",
        "titlefont": {
         "color": "#FFF"
        },
        "width": 300,
        "xaxis": {
         "dtick": 1,
         "range": [
          -0.5,
          5.5
         ],
         "tickcolor": "#FFF",
         "title": "Glimpses"
        },
        "yaxis": {
         "dtick": 1,
         "range": [
          -0.5,
          5.5
         ],
         "tickcolor": "#FFF",
         "title": "Count Word"
        }
       }
      },
      "text/html": [
       "<div id=\"131133a4-8b90-489b-ac48-2d434f4a2f0a\" style=\"height: 300px; width: 300px;\" class=\"plotly-graph-div\"></div><script type=\"text/javascript\">require([\"plotly\"], function(Plotly) { window.PLOTLYENV=window.PLOTLYENV || {};window.PLOTLYENV.BASE_URL=\"https://plot.ly\";Plotly.newPlot(\"131133a4-8b90-489b-ac48-2d434f4a2f0a\", [{\"type\": \"heatmap\", \"colorscale\": \"Jet\", \"z\": [[0.16608582277770345, 0.16580598686666967, 0.1657647158511192, 0.16586217847322396, 0.16602645722519485, 0.1662054531350139], [0.1680779128002227, 0.16868214037064094, 0.16881879626902782, 0.1687442172854314, 0.1686002876799147, 0.1684696447213935], [0.1668410016368907, 0.16697777739239159, 0.1670391481220238, 0.16706123033755899, 0.16706253710403984, 0.1670645973506483], [0.1674602463318803, 0.16784759990507006, 0.1679832982422974, 0.16793213480364502, 0.16776960920492018, 0.1675428116865277], [0.16623420847635625, 0.16606445387396573, 0.1660038580043787, 0.1660370169608775, 0.16613558291630745, 0.16628255365313863], [0.16530038032116617, 0.16462160745671867, 0.16438977140440364, 0.1643628016101219, 0.1644051008053477, 0.16443450467085832]]}], {\"titlefont\": {\"color\": \"#FFF\"}, \"plot_bgcolor\": \"#000\", \"yaxis\": {\"title\": \"Count Word\", \"range\": [-0.5, 5.5], \"dtick\": 1, \"tickcolor\": \"#FFF\"}, \"height\": 300, \"title\": \"1 Blobs:Confidence after 0 Iters\", \"xaxis\": {\"title\": \"Glimpses\", \"range\": [-0.5, 5.5], \"dtick\": 1, \"tickcolor\": \"#FFF\"}, \"width\": 300, \"font\": {\"color\": \"#FFF\"}, \"paper_bgcolor\": \"#000\"}, {\"linkText\": \"Export to plot.ly\", \"showLink\": true})});</script>"
      ],
      "text/vnd.plotly.v1+html": [
       "<div id=\"131133a4-8b90-489b-ac48-2d434f4a2f0a\" style=\"height: 300px; width: 300px;\" class=\"plotly-graph-div\"></div><script type=\"text/javascript\">require([\"plotly\"], function(Plotly) { window.PLOTLYENV=window.PLOTLYENV || {};window.PLOTLYENV.BASE_URL=\"https://plot.ly\";Plotly.newPlot(\"131133a4-8b90-489b-ac48-2d434f4a2f0a\", [{\"type\": \"heatmap\", \"colorscale\": \"Jet\", \"z\": [[0.16608582277770345, 0.16580598686666967, 0.1657647158511192, 0.16586217847322396, 0.16602645722519485, 0.1662054531350139], [0.1680779128002227, 0.16868214037064094, 0.16881879626902782, 0.1687442172854314, 0.1686002876799147, 0.1684696447213935], [0.1668410016368907, 0.16697777739239159, 0.1670391481220238, 0.16706123033755899, 0.16706253710403984, 0.1670645973506483], [0.1674602463318803, 0.16784759990507006, 0.1679832982422974, 0.16793213480364502, 0.16776960920492018, 0.1675428116865277], [0.16623420847635625, 0.16606445387396573, 0.1660038580043787, 0.1660370169608775, 0.16613558291630745, 0.16628255365313863], [0.16530038032116617, 0.16462160745671867, 0.16438977140440364, 0.1643628016101219, 0.1644051008053477, 0.16443450467085832]]}], {\"titlefont\": {\"color\": \"#FFF\"}, \"plot_bgcolor\": \"#000\", \"yaxis\": {\"title\": \"Count Word\", \"range\": [-0.5, 5.5], \"dtick\": 1, \"tickcolor\": \"#FFF\"}, \"height\": 300, \"title\": \"1 Blobs:Confidence after 0 Iters\", \"xaxis\": {\"title\": \"Glimpses\", \"range\": [-0.5, 5.5], \"dtick\": 1, \"tickcolor\": \"#FFF\"}, \"width\": 300, \"font\": {\"color\": \"#FFF\"}, \"paper_bgcolor\": \"#000\"}, {\"linkText\": \"Export to plot.ly\", \"showLink\": true})});</script>"
      ]
     },
     "metadata": {},
     "output_type": "display_data"
    },
    {
     "data": {
      "application/vnd.plotly.v1+json": {
       "data": [
        {
         "colorscale": "Jet",
         "type": "heatmap",
         "z": [
          [
           0.2129107081279475,
           0.2200302111657149,
           0.22568821127951535,
           0.2299073425768272,
           0.2333174626702825,
           0.23581844251224557
          ],
          [
           0.2892030014985435,
           0.29372353619744745,
           0.2964664675628554,
           0.29775960011550406,
           0.29844766088959956,
           0.29855862680129497
          ],
          [
           0.13950810237057307,
           0.13641533810884973,
           0.13410598747655395,
           0.13261548094694112,
           0.13138936931348358,
           0.1306017587741042
          ],
          [
           0.12202570334817223,
           0.11810983325379538,
           0.11538753067310077,
           0.11372366747359831,
           0.11267465046444688,
           0.11207864939070612
          ],
          [
           0.11979544319707076,
           0.1187248392590203,
           0.11822582420706185,
           0.11812125461561075,
           0.11809767987280237,
           0.118253553019005
          ],
          [
           0.11655654108541412,
           0.11299574015277804,
           0.11012547917369153,
           0.10787215464429739,
           0.10607266896652941,
           0.10468847695347099
          ]
         ]
        }
       ],
       "layout": {
        "font": {
         "color": "#FFF"
        },
        "height": 300,
        "paper_bgcolor": "#000",
        "plot_bgcolor": "#000",
        "title": "1 Blobs:Confidence after 400 Iters",
        "titlefont": {
         "color": "#FFF"
        },
        "width": 300,
        "xaxis": {
         "dtick": 1,
         "range": [
          -0.5,
          5.5
         ],
         "tickcolor": "#FFF",
         "title": "Glimpses"
        },
        "yaxis": {
         "dtick": 1,
         "range": [
          -0.5,
          5.5
         ],
         "tickcolor": "#FFF",
         "title": "Count Word"
        }
       }
      },
      "text/html": [
       "<div id=\"bbdebf61-e5a7-4535-9f9b-143a9f1ffec6\" style=\"height: 300px; width: 300px;\" class=\"plotly-graph-div\"></div><script type=\"text/javascript\">require([\"plotly\"], function(Plotly) { window.PLOTLYENV=window.PLOTLYENV || {};window.PLOTLYENV.BASE_URL=\"https://plot.ly\";Plotly.newPlot(\"bbdebf61-e5a7-4535-9f9b-143a9f1ffec6\", [{\"type\": \"heatmap\", \"colorscale\": \"Jet\", \"z\": [[0.2129107081279475, 0.2200302111657149, 0.22568821127951535, 0.2299073425768272, 0.2333174626702825, 0.23581844251224557], [0.2892030014985435, 0.29372353619744745, 0.2964664675628554, 0.29775960011550406, 0.29844766088959956, 0.29855862680129497], [0.13950810237057307, 0.13641533810884973, 0.13410598747655395, 0.13261548094694112, 0.13138936931348358, 0.1306017587741042], [0.12202570334817223, 0.11810983325379538, 0.11538753067310077, 0.11372366747359831, 0.11267465046444688, 0.11207864939070612], [0.11979544319707076, 0.1187248392590203, 0.11822582420706185, 0.11812125461561075, 0.11809767987280237, 0.118253553019005], [0.11655654108541412, 0.11299574015277804, 0.11012547917369153, 0.10787215464429739, 0.10607266896652941, 0.10468847695347099]]}], {\"titlefont\": {\"color\": \"#FFF\"}, \"plot_bgcolor\": \"#000\", \"yaxis\": {\"title\": \"Count Word\", \"range\": [-0.5, 5.5], \"dtick\": 1, \"tickcolor\": \"#FFF\"}, \"height\": 300, \"title\": \"1 Blobs:Confidence after 400 Iters\", \"xaxis\": {\"title\": \"Glimpses\", \"range\": [-0.5, 5.5], \"dtick\": 1, \"tickcolor\": \"#FFF\"}, \"width\": 300, \"font\": {\"color\": \"#FFF\"}, \"paper_bgcolor\": \"#000\"}, {\"linkText\": \"Export to plot.ly\", \"showLink\": true})});</script>"
      ],
      "text/vnd.plotly.v1+html": [
       "<div id=\"bbdebf61-e5a7-4535-9f9b-143a9f1ffec6\" style=\"height: 300px; width: 300px;\" class=\"plotly-graph-div\"></div><script type=\"text/javascript\">require([\"plotly\"], function(Plotly) { window.PLOTLYENV=window.PLOTLYENV || {};window.PLOTLYENV.BASE_URL=\"https://plot.ly\";Plotly.newPlot(\"bbdebf61-e5a7-4535-9f9b-143a9f1ffec6\", [{\"type\": \"heatmap\", \"colorscale\": \"Jet\", \"z\": [[0.2129107081279475, 0.2200302111657149, 0.22568821127951535, 0.2299073425768272, 0.2333174626702825, 0.23581844251224557], [0.2892030014985435, 0.29372353619744745, 0.2964664675628554, 0.29775960011550406, 0.29844766088959956, 0.29855862680129497], [0.13950810237057307, 0.13641533810884973, 0.13410598747655395, 0.13261548094694112, 0.13138936931348358, 0.1306017587741042], [0.12202570334817223, 0.11810983325379538, 0.11538753067310077, 0.11372366747359831, 0.11267465046444688, 0.11207864939070612], [0.11979544319707076, 0.1187248392590203, 0.11822582420706185, 0.11812125461561075, 0.11809767987280237, 0.118253553019005], [0.11655654108541412, 0.11299574015277804, 0.11012547917369153, 0.10787215464429739, 0.10607266896652941, 0.10468847695347099]]}], {\"titlefont\": {\"color\": \"#FFF\"}, \"plot_bgcolor\": \"#000\", \"yaxis\": {\"title\": \"Count Word\", \"range\": [-0.5, 5.5], \"dtick\": 1, \"tickcolor\": \"#FFF\"}, \"height\": 300, \"title\": \"1 Blobs:Confidence after 400 Iters\", \"xaxis\": {\"title\": \"Glimpses\", \"range\": [-0.5, 5.5], \"dtick\": 1, \"tickcolor\": \"#FFF\"}, \"width\": 300, \"font\": {\"color\": \"#FFF\"}, \"paper_bgcolor\": \"#000\"}, {\"linkText\": \"Export to plot.ly\", \"showLink\": true})});</script>"
      ]
     },
     "metadata": {},
     "output_type": "display_data"
    },
    {
     "data": {
      "application/vnd.plotly.v1+json": {
       "data": [
        {
         "colorscale": "Jet",
         "type": "heatmap",
         "z": [
          [
           0.2716874373507851,
           0.5293220868542498,
           0.6385795946840109,
           0.7836908951952629,
           0.8010074335731646,
           0.863651398132263
          ],
          [
           0.5361400248129069,
           0.35428556072934336,
           0.28083741630107184,
           0.1620067564987437,
           0.15159041454597924,
           0.09957538222975446
          ],
          [
           0.06720554299587277,
           0.04135993774519535,
           0.02902699095779368,
           0.019317995317960378,
           0.01691107691352695,
           0.012932956504329896
          ],
          [
           0.05014043122628793,
           0.0337500128714366,
           0.02472823003691862,
           0.01773162943348655,
           0.015869361749106352,
           0.012746346841433222
          ],
          [
           0.04019128570562954,
           0.023534679287034337,
           0.015742119167478873,
           0.010467237495300043,
           0.008912325268827197,
           0.006899134554951768
          ],
          [
           0.03463477064445531,
           0.017747232804099972,
           0.011085144592177415,
           0.006784981589150379,
           0.0057088683685982905,
           0.0041942870576952415
          ]
         ]
        }
       ],
       "layout": {
        "font": {
         "color": "#FFF"
        },
        "height": 300,
        "paper_bgcolor": "#000",
        "plot_bgcolor": "#000",
        "title": "1 Blobs:Confidence after 800 Iters",
        "titlefont": {
         "color": "#FFF"
        },
        "width": 300,
        "xaxis": {
         "dtick": 1,
         "range": [
          -0.5,
          5.5
         ],
         "tickcolor": "#FFF",
         "title": "Glimpses"
        },
        "yaxis": {
         "dtick": 1,
         "range": [
          -0.5,
          5.5
         ],
         "tickcolor": "#FFF",
         "title": "Count Word"
        }
       }
      },
      "text/html": [
       "<div id=\"3f2dbf4e-9178-442a-a9f7-ede0a0522c2b\" style=\"height: 300px; width: 300px;\" class=\"plotly-graph-div\"></div><script type=\"text/javascript\">require([\"plotly\"], function(Plotly) { window.PLOTLYENV=window.PLOTLYENV || {};window.PLOTLYENV.BASE_URL=\"https://plot.ly\";Plotly.newPlot(\"3f2dbf4e-9178-442a-a9f7-ede0a0522c2b\", [{\"type\": \"heatmap\", \"colorscale\": \"Jet\", \"z\": [[0.2716874373507851, 0.5293220868542498, 0.6385795946840109, 0.7836908951952629, 0.8010074335731646, 0.863651398132263], [0.5361400248129069, 0.35428556072934336, 0.28083741630107184, 0.1620067564987437, 0.15159041454597924, 0.09957538222975446], [0.06720554299587277, 0.04135993774519535, 0.02902699095779368, 0.019317995317960378, 0.01691107691352695, 0.012932956504329896], [0.05014043122628793, 0.0337500128714366, 0.02472823003691862, 0.01773162943348655, 0.015869361749106352, 0.012746346841433222], [0.04019128570562954, 0.023534679287034337, 0.015742119167478873, 0.010467237495300043, 0.008912325268827197, 0.006899134554951768], [0.03463477064445531, 0.017747232804099972, 0.011085144592177415, 0.006784981589150379, 0.0057088683685982905, 0.0041942870576952415]]}], {\"titlefont\": {\"color\": \"#FFF\"}, \"plot_bgcolor\": \"#000\", \"yaxis\": {\"title\": \"Count Word\", \"range\": [-0.5, 5.5], \"dtick\": 1, \"tickcolor\": \"#FFF\"}, \"height\": 300, \"title\": \"1 Blobs:Confidence after 800 Iters\", \"xaxis\": {\"title\": \"Glimpses\", \"range\": [-0.5, 5.5], \"dtick\": 1, \"tickcolor\": \"#FFF\"}, \"width\": 300, \"font\": {\"color\": \"#FFF\"}, \"paper_bgcolor\": \"#000\"}, {\"linkText\": \"Export to plot.ly\", \"showLink\": true})});</script>"
      ],
      "text/vnd.plotly.v1+html": [
       "<div id=\"3f2dbf4e-9178-442a-a9f7-ede0a0522c2b\" style=\"height: 300px; width: 300px;\" class=\"plotly-graph-div\"></div><script type=\"text/javascript\">require([\"plotly\"], function(Plotly) { window.PLOTLYENV=window.PLOTLYENV || {};window.PLOTLYENV.BASE_URL=\"https://plot.ly\";Plotly.newPlot(\"3f2dbf4e-9178-442a-a9f7-ede0a0522c2b\", [{\"type\": \"heatmap\", \"colorscale\": \"Jet\", \"z\": [[0.2716874373507851, 0.5293220868542498, 0.6385795946840109, 0.7836908951952629, 0.8010074335731646, 0.863651398132263], [0.5361400248129069, 0.35428556072934336, 0.28083741630107184, 0.1620067564987437, 0.15159041454597924, 0.09957538222975446], [0.06720554299587277, 0.04135993774519535, 0.02902699095779368, 0.019317995317960378, 0.01691107691352695, 0.012932956504329896], [0.05014043122628793, 0.0337500128714366, 0.02472823003691862, 0.01773162943348655, 0.015869361749106352, 0.012746346841433222], [0.04019128570562954, 0.023534679287034337, 0.015742119167478873, 0.010467237495300043, 0.008912325268827197, 0.006899134554951768], [0.03463477064445531, 0.017747232804099972, 0.011085144592177415, 0.006784981589150379, 0.0057088683685982905, 0.0041942870576952415]]}], {\"titlefont\": {\"color\": \"#FFF\"}, \"plot_bgcolor\": \"#000\", \"yaxis\": {\"title\": \"Count Word\", \"range\": [-0.5, 5.5], \"dtick\": 1, \"tickcolor\": \"#FFF\"}, \"height\": 300, \"title\": \"1 Blobs:Confidence after 800 Iters\", \"xaxis\": {\"title\": \"Glimpses\", \"range\": [-0.5, 5.5], \"dtick\": 1, \"tickcolor\": \"#FFF\"}, \"width\": 300, \"font\": {\"color\": \"#FFF\"}, \"paper_bgcolor\": \"#000\"}, {\"linkText\": \"Export to plot.ly\", \"showLink\": true})});</script>"
      ]
     },
     "metadata": {},
     "output_type": "display_data"
    },
    {
     "data": {
      "application/vnd.plotly.v1+json": {
       "data": [
        {
         "colorscale": "Jet",
         "type": "heatmap",
         "z": [
          [
           0.009481054362528468,
           0.9606033956365739,
           0.9435362523535459,
           0.975386050080616,
           0.92746286561816,
           0.9582338283034757
          ],
          [
           0.9850095616715813,
           0.007209242103858733,
           0.0006679963130323928,
           2.1457195287337304e-05,
           4.32744940896644e-05,
           6.873914936455982e-06
          ],
          [
           0.0023007827409824017,
           0.010444932410954375,
           0.017377017350410463,
           0.005852229201907533,
           0.01823842530655007,
           0.008897516497882884
          ],
          [
           0.0011782471156487476,
           0.011051779938081922,
           0.02290578501613927,
           0.01133343281615489,
           0.034541909499052684,
           0.020306689973325277
          ],
          [
           0.0010177123730601566,
           0.0076289897644602365,
           0.011626831395899633,
           0.005977203329770868,
           0.015472932579468204,
           0.010223052230743981
          ],
          [
           0.001012130366364802,
           0.00306117182645937,
           0.0038856356860761357,
           0.0014291710782127543,
           0.004240125017329532,
           0.002331561473910001
          ]
         ]
        }
       ],
       "layout": {
        "font": {
         "color": "#FFF"
        },
        "height": 300,
        "paper_bgcolor": "#000",
        "plot_bgcolor": "#000",
        "title": "1 Blobs:Confidence after 1600 Iters",
        "titlefont": {
         "color": "#FFF"
        },
        "width": 300,
        "xaxis": {
         "dtick": 1,
         "range": [
          -0.5,
          5.5
         ],
         "tickcolor": "#FFF",
         "title": "Glimpses"
        },
        "yaxis": {
         "dtick": 1,
         "range": [
          -0.5,
          5.5
         ],
         "tickcolor": "#FFF",
         "title": "Count Word"
        }
       }
      },
      "text/html": [
       "<div id=\"ac58396b-c507-417a-ba9c-20c2dcb5aa6a\" style=\"height: 300px; width: 300px;\" class=\"plotly-graph-div\"></div><script type=\"text/javascript\">require([\"plotly\"], function(Plotly) { window.PLOTLYENV=window.PLOTLYENV || {};window.PLOTLYENV.BASE_URL=\"https://plot.ly\";Plotly.newPlot(\"ac58396b-c507-417a-ba9c-20c2dcb5aa6a\", [{\"type\": \"heatmap\", \"colorscale\": \"Jet\", \"z\": [[0.009481054362528468, 0.9606033956365739, 0.9435362523535459, 0.975386050080616, 0.92746286561816, 0.9582338283034757], [0.9850095616715813, 0.007209242103858733, 0.0006679963130323928, 2.1457195287337304e-05, 4.32744940896644e-05, 6.873914936455982e-06], [0.0023007827409824017, 0.010444932410954375, 0.017377017350410463, 0.005852229201907533, 0.01823842530655007, 0.008897516497882884], [0.0011782471156487476, 0.011051779938081922, 0.02290578501613927, 0.01133343281615489, 0.034541909499052684, 0.020306689973325277], [0.0010177123730601566, 0.0076289897644602365, 0.011626831395899633, 0.005977203329770868, 0.015472932579468204, 0.010223052230743981], [0.001012130366364802, 0.00306117182645937, 0.0038856356860761357, 0.0014291710782127543, 0.004240125017329532, 0.002331561473910001]]}], {\"titlefont\": {\"color\": \"#FFF\"}, \"plot_bgcolor\": \"#000\", \"yaxis\": {\"title\": \"Count Word\", \"range\": [-0.5, 5.5], \"dtick\": 1, \"tickcolor\": \"#FFF\"}, \"height\": 300, \"title\": \"1 Blobs:Confidence after 1600 Iters\", \"xaxis\": {\"title\": \"Glimpses\", \"range\": [-0.5, 5.5], \"dtick\": 1, \"tickcolor\": \"#FFF\"}, \"width\": 300, \"font\": {\"color\": \"#FFF\"}, \"paper_bgcolor\": \"#000\"}, {\"linkText\": \"Export to plot.ly\", \"showLink\": true})});</script>"
      ],
      "text/vnd.plotly.v1+html": [
       "<div id=\"ac58396b-c507-417a-ba9c-20c2dcb5aa6a\" style=\"height: 300px; width: 300px;\" class=\"plotly-graph-div\"></div><script type=\"text/javascript\">require([\"plotly\"], function(Plotly) { window.PLOTLYENV=window.PLOTLYENV || {};window.PLOTLYENV.BASE_URL=\"https://plot.ly\";Plotly.newPlot(\"ac58396b-c507-417a-ba9c-20c2dcb5aa6a\", [{\"type\": \"heatmap\", \"colorscale\": \"Jet\", \"z\": [[0.009481054362528468, 0.9606033956365739, 0.9435362523535459, 0.975386050080616, 0.92746286561816, 0.9582338283034757], [0.9850095616715813, 0.007209242103858733, 0.0006679963130323928, 2.1457195287337304e-05, 4.32744940896644e-05, 6.873914936455982e-06], [0.0023007827409824017, 0.010444932410954375, 0.017377017350410463, 0.005852229201907533, 0.01823842530655007, 0.008897516497882884], [0.0011782471156487476, 0.011051779938081922, 0.02290578501613927, 0.01133343281615489, 0.034541909499052684, 0.020306689973325277], [0.0010177123730601566, 0.0076289897644602365, 0.011626831395899633, 0.005977203329770868, 0.015472932579468204, 0.010223052230743981], [0.001012130366364802, 0.00306117182645937, 0.0038856356860761357, 0.0014291710782127543, 0.004240125017329532, 0.002331561473910001]]}], {\"titlefont\": {\"color\": \"#FFF\"}, \"plot_bgcolor\": \"#000\", \"yaxis\": {\"title\": \"Count Word\", \"range\": [-0.5, 5.5], \"dtick\": 1, \"tickcolor\": \"#FFF\"}, \"height\": 300, \"title\": \"1 Blobs:Confidence after 1600 Iters\", \"xaxis\": {\"title\": \"Glimpses\", \"range\": [-0.5, 5.5], \"dtick\": 1, \"tickcolor\": \"#FFF\"}, \"width\": 300, \"font\": {\"color\": \"#FFF\"}, \"paper_bgcolor\": \"#000\"}, {\"linkText\": \"Export to plot.ly\", \"showLink\": true})});</script>"
      ]
     },
     "metadata": {},
     "output_type": "display_data"
    },
    {
     "data": {
      "application/vnd.plotly.v1+json": {
       "data": [
        {
         "colorscale": "Jet",
         "type": "heatmap",
         "z": [
          [
           0.00394443140419747,
           0.9920748113711662,
           0.9834629502836929,
           0.9360050948825447,
           0.8102530982208408,
           0.7213001230377993
          ],
          [
           0.9941404281215689,
           0.000283833659341825,
           3.2393188774570757e-06,
           7.189764752613367e-07,
           1.7689968810215854e-07,
           5.530882238878134e-08
          ],
          [
           0.0015657999018833932,
           0.0013734962278076721,
           0.0004851283520724748,
           0.0006844682831920225,
           0.0008928348936769446,
           0.0006240059984859661
          ],
          [
           0.00015633888766688122,
           0.0036243584017862786,
           0.009247529102213563,
           0.035051549291458345,
           0.09791989048342965,
           0.1182584696484457
          ],
          [
           9.488378032048543e-05,
           0.0017778359260613066,
           0.004663398310386092,
           0.018441189337047692,
           0.05773924471070478,
           0.10431371269362365
          ],
          [
           9.777173159656936e-05,
           0.0008653215227770939,
           0.0021373997177429396,
           0.009816639321073822,
           0.033194420203361885,
           0.05550326073087097
          ]
         ]
        }
       ],
       "layout": {
        "font": {
         "color": "#FFF"
        },
        "height": 300,
        "paper_bgcolor": "#000",
        "plot_bgcolor": "#000",
        "title": "1 Blobs:Confidence after 3200 Iters",
        "titlefont": {
         "color": "#FFF"
        },
        "width": 300,
        "xaxis": {
         "dtick": 1,
         "range": [
          -0.5,
          5.5
         ],
         "tickcolor": "#FFF",
         "title": "Glimpses"
        },
        "yaxis": {
         "dtick": 1,
         "range": [
          -0.5,
          5.5
         ],
         "tickcolor": "#FFF",
         "title": "Count Word"
        }
       }
      },
      "text/html": [
       "<div id=\"1a63a4fd-0459-400f-ac30-fce22ea32c79\" style=\"height: 300px; width: 300px;\" class=\"plotly-graph-div\"></div><script type=\"text/javascript\">require([\"plotly\"], function(Plotly) { window.PLOTLYENV=window.PLOTLYENV || {};window.PLOTLYENV.BASE_URL=\"https://plot.ly\";Plotly.newPlot(\"1a63a4fd-0459-400f-ac30-fce22ea32c79\", [{\"type\": \"heatmap\", \"colorscale\": \"Jet\", \"z\": [[0.00394443140419747, 0.9920748113711662, 0.9834629502836929, 0.9360050948825447, 0.8102530982208408, 0.7213001230377993], [0.9941404281215689, 0.000283833659341825, 3.2393188774570757e-06, 7.189764752613367e-07, 1.7689968810215854e-07, 5.530882238878134e-08], [0.0015657999018833932, 0.0013734962278076721, 0.0004851283520724748, 0.0006844682831920225, 0.0008928348936769446, 0.0006240059984859661], [0.00015633888766688122, 0.0036243584017862786, 0.009247529102213563, 0.035051549291458345, 0.09791989048342965, 0.1182584696484457], [9.488378032048543e-05, 0.0017778359260613066, 0.004663398310386092, 0.018441189337047692, 0.05773924471070478, 0.10431371269362365], [9.777173159656936e-05, 0.0008653215227770939, 0.0021373997177429396, 0.009816639321073822, 0.033194420203361885, 0.05550326073087097]]}], {\"titlefont\": {\"color\": \"#FFF\"}, \"plot_bgcolor\": \"#000\", \"yaxis\": {\"title\": \"Count Word\", \"range\": [-0.5, 5.5], \"dtick\": 1, \"tickcolor\": \"#FFF\"}, \"height\": 300, \"title\": \"1 Blobs:Confidence after 3200 Iters\", \"xaxis\": {\"title\": \"Glimpses\", \"range\": [-0.5, 5.5], \"dtick\": 1, \"tickcolor\": \"#FFF\"}, \"width\": 300, \"font\": {\"color\": \"#FFF\"}, \"paper_bgcolor\": \"#000\"}, {\"linkText\": \"Export to plot.ly\", \"showLink\": true})});</script>"
      ],
      "text/vnd.plotly.v1+html": [
       "<div id=\"1a63a4fd-0459-400f-ac30-fce22ea32c79\" style=\"height: 300px; width: 300px;\" class=\"plotly-graph-div\"></div><script type=\"text/javascript\">require([\"plotly\"], function(Plotly) { window.PLOTLYENV=window.PLOTLYENV || {};window.PLOTLYENV.BASE_URL=\"https://plot.ly\";Plotly.newPlot(\"1a63a4fd-0459-400f-ac30-fce22ea32c79\", [{\"type\": \"heatmap\", \"colorscale\": \"Jet\", \"z\": [[0.00394443140419747, 0.9920748113711662, 0.9834629502836929, 0.9360050948825447, 0.8102530982208408, 0.7213001230377993], [0.9941404281215689, 0.000283833659341825, 3.2393188774570757e-06, 7.189764752613367e-07, 1.7689968810215854e-07, 5.530882238878134e-08], [0.0015657999018833932, 0.0013734962278076721, 0.0004851283520724748, 0.0006844682831920225, 0.0008928348936769446, 0.0006240059984859661], [0.00015633888766688122, 0.0036243584017862786, 0.009247529102213563, 0.035051549291458345, 0.09791989048342965, 0.1182584696484457], [9.488378032048543e-05, 0.0017778359260613066, 0.004663398310386092, 0.018441189337047692, 0.05773924471070478, 0.10431371269362365], [9.777173159656936e-05, 0.0008653215227770939, 0.0021373997177429396, 0.009816639321073822, 0.033194420203361885, 0.05550326073087097]]}], {\"titlefont\": {\"color\": \"#FFF\"}, \"plot_bgcolor\": \"#000\", \"yaxis\": {\"title\": \"Count Word\", \"range\": [-0.5, 5.5], \"dtick\": 1, \"tickcolor\": \"#FFF\"}, \"height\": 300, \"title\": \"1 Blobs:Confidence after 3200 Iters\", \"xaxis\": {\"title\": \"Glimpses\", \"range\": [-0.5, 5.5], \"dtick\": 1, \"tickcolor\": \"#FFF\"}, \"width\": 300, \"font\": {\"color\": \"#FFF\"}, \"paper_bgcolor\": \"#000\"}, {\"linkText\": \"Export to plot.ly\", \"showLink\": true})});</script>"
      ]
     },
     "metadata": {},
     "output_type": "display_data"
    },
    {
     "data": {
      "application/vnd.plotly.v1+json": {
       "data": [
        {
         "colorscale": "Jet",
         "type": "heatmap",
         "z": [
          [
           2.113983344608597e-05,
           0.9422607290526893,
           0.9790617982859583,
           0.8925379525635064,
           0.7552303088280976,
           0.5862969655466578
          ],
          [
           0.9997269097126252,
           0.0016639473038793321,
           1.217136497510227e-06,
           9.05062420558056e-08,
           4.673261839965021e-08,
           2.2359139572109372e-08
          ],
          [
           0.00024950730433492786,
           0.050460313725318964,
           0.001660411016381776,
           0.0007038338811762928,
           0.00031772289331845474,
           0.00024196174461930392
          ],
          [
           1.2338296193190262e-06,
           0.004614631259599311,
           0.012114058709456256,
           0.03724637588154021,
           0.03494499642275261,
           0.03462948478284282
          ],
          [
           2.748131349073984e-07,
           0.0007743917104610058,
           0.0055748134213431,
           0.04691676876873784,
           0.11787545350526296,
           0.17694747794159574
          ],
          [
           2.1265032387483336e-07,
           0.0002252645002688578,
           0.0015870131292497658,
           0.02259425216195205,
           0.09163074994475143,
           0.20188338896882435
          ]
         ]
        }
       ],
       "layout": {
        "font": {
         "color": "#FFF"
        },
        "height": 300,
        "paper_bgcolor": "#000",
        "plot_bgcolor": "#000",
        "title": "1 Blobs:Confidence after 6400 Iters",
        "titlefont": {
         "color": "#FFF"
        },
        "width": 300,
        "xaxis": {
         "dtick": 1,
         "range": [
          -0.5,
          5.5
         ],
         "tickcolor": "#FFF",
         "title": "Glimpses"
        },
        "yaxis": {
         "dtick": 1,
         "range": [
          -0.5,
          5.5
         ],
         "tickcolor": "#FFF",
         "title": "Count Word"
        }
       }
      },
      "text/html": [
       "<div id=\"da49b3d6-90dd-4588-826d-1f5c5a71718a\" style=\"height: 300px; width: 300px;\" class=\"plotly-graph-div\"></div><script type=\"text/javascript\">require([\"plotly\"], function(Plotly) { window.PLOTLYENV=window.PLOTLYENV || {};window.PLOTLYENV.BASE_URL=\"https://plot.ly\";Plotly.newPlot(\"da49b3d6-90dd-4588-826d-1f5c5a71718a\", [{\"type\": \"heatmap\", \"colorscale\": \"Jet\", \"z\": [[2.113983344608597e-05, 0.9422607290526893, 0.9790617982859583, 0.8925379525635064, 0.7552303088280976, 0.5862969655466578], [0.9997269097126252, 0.0016639473038793321, 1.217136497510227e-06, 9.05062420558056e-08, 4.673261839965021e-08, 2.2359139572109372e-08], [0.00024950730433492786, 0.050460313725318964, 0.001660411016381776, 0.0007038338811762928, 0.00031772289331845474, 0.00024196174461930392], [1.2338296193190262e-06, 0.004614631259599311, 0.012114058709456256, 0.03724637588154021, 0.03494499642275261, 0.03462948478284282], [2.748131349073984e-07, 0.0007743917104610058, 0.0055748134213431, 0.04691676876873784, 0.11787545350526296, 0.17694747794159574], [2.1265032387483336e-07, 0.0002252645002688578, 0.0015870131292497658, 0.02259425216195205, 0.09163074994475143, 0.20188338896882435]]}], {\"titlefont\": {\"color\": \"#FFF\"}, \"plot_bgcolor\": \"#000\", \"yaxis\": {\"title\": \"Count Word\", \"range\": [-0.5, 5.5], \"dtick\": 1, \"tickcolor\": \"#FFF\"}, \"height\": 300, \"title\": \"1 Blobs:Confidence after 6400 Iters\", \"xaxis\": {\"title\": \"Glimpses\", \"range\": [-0.5, 5.5], \"dtick\": 1, \"tickcolor\": \"#FFF\"}, \"width\": 300, \"font\": {\"color\": \"#FFF\"}, \"paper_bgcolor\": \"#000\"}, {\"linkText\": \"Export to plot.ly\", \"showLink\": true})});</script>"
      ],
      "text/vnd.plotly.v1+html": [
       "<div id=\"da49b3d6-90dd-4588-826d-1f5c5a71718a\" style=\"height: 300px; width: 300px;\" class=\"plotly-graph-div\"></div><script type=\"text/javascript\">require([\"plotly\"], function(Plotly) { window.PLOTLYENV=window.PLOTLYENV || {};window.PLOTLYENV.BASE_URL=\"https://plot.ly\";Plotly.newPlot(\"da49b3d6-90dd-4588-826d-1f5c5a71718a\", [{\"type\": \"heatmap\", \"colorscale\": \"Jet\", \"z\": [[2.113983344608597e-05, 0.9422607290526893, 0.9790617982859583, 0.8925379525635064, 0.7552303088280976, 0.5862969655466578], [0.9997269097126252, 0.0016639473038793321, 1.217136497510227e-06, 9.05062420558056e-08, 4.673261839965021e-08, 2.2359139572109372e-08], [0.00024950730433492786, 0.050460313725318964, 0.001660411016381776, 0.0007038338811762928, 0.00031772289331845474, 0.00024196174461930392], [1.2338296193190262e-06, 0.004614631259599311, 0.012114058709456256, 0.03724637588154021, 0.03494499642275261, 0.03462948478284282], [2.748131349073984e-07, 0.0007743917104610058, 0.0055748134213431, 0.04691676876873784, 0.11787545350526296, 0.17694747794159574], [2.1265032387483336e-07, 0.0002252645002688578, 0.0015870131292497658, 0.02259425216195205, 0.09163074994475143, 0.20188338896882435]]}], {\"titlefont\": {\"color\": \"#FFF\"}, \"plot_bgcolor\": \"#000\", \"yaxis\": {\"title\": \"Count Word\", \"range\": [-0.5, 5.5], \"dtick\": 1, \"tickcolor\": \"#FFF\"}, \"height\": 300, \"title\": \"1 Blobs:Confidence after 6400 Iters\", \"xaxis\": {\"title\": \"Glimpses\", \"range\": [-0.5, 5.5], \"dtick\": 1, \"tickcolor\": \"#FFF\"}, \"width\": 300, \"font\": {\"color\": \"#FFF\"}, \"paper_bgcolor\": \"#000\"}, {\"linkText\": \"Export to plot.ly\", \"showLink\": true})});</script>"
      ]
     },
     "metadata": {},
     "output_type": "display_data"
    },
    {
     "data": {
      "application/vnd.plotly.v1+json": {
       "data": [
        {
         "colorscale": "Jet",
         "type": "heatmap",
         "z": [
          [
           5.795244559071652e-06,
           0.9521168839965017,
           0.9905938112371294,
           0.9645329200138958,
           0.8979163671437336,
           0.7675447936352234
          ],
          [
           0.999951617188965,
           0.0014507776738921238,
           7.897363959137375e-06,
           2.549364512835174e-06,
           3.422999568060998e-07,
           3.4633740623566064e-07
          ],
          [
           4.196557290306556e-05,
           0.045493523368248,
           0.0005434248308942819,
           0.0001012830650831277,
           3.184807546568968e-05,
           1.9733974905238988e-05
          ],
          [
           3.584900322975956e-08,
           0.0006782374250613923,
           0.005933680016369112,
           0.010701654583857875,
           0.00882326998872844,
           0.005480527458845455
          ],
          [
           3.987500428582087e-08,
           0.0001600195499583741,
           0.002387352049512811,
           0.01763627482302572,
           0.04893628728740469,
           0.07559397396817338
          ],
          [
           1.3810525990724526e-07,
           0.00010011963775203585,
           0.0005333642585869102,
           0.00702489694138031,
           0.04429145596371206,
           0.1513602169466264
          ]
         ]
        }
       ],
       "layout": {
        "font": {
         "color": "#FFF"
        },
        "height": 300,
        "paper_bgcolor": "#000",
        "plot_bgcolor": "#000",
        "title": "1 Blobs:Confidence after 12800 Iters",
        "titlefont": {
         "color": "#FFF"
        },
        "width": 300,
        "xaxis": {
         "dtick": 1,
         "range": [
          -0.5,
          5.5
         ],
         "tickcolor": "#FFF",
         "title": "Glimpses"
        },
        "yaxis": {
         "dtick": 1,
         "range": [
          -0.5,
          5.5
         ],
         "tickcolor": "#FFF",
         "title": "Count Word"
        }
       }
      },
      "text/html": [
       "<div id=\"64a4ed64-63d9-47e1-81ac-79d9ff62bdef\" style=\"height: 300px; width: 300px;\" class=\"plotly-graph-div\"></div><script type=\"text/javascript\">require([\"plotly\"], function(Plotly) { window.PLOTLYENV=window.PLOTLYENV || {};window.PLOTLYENV.BASE_URL=\"https://plot.ly\";Plotly.newPlot(\"64a4ed64-63d9-47e1-81ac-79d9ff62bdef\", [{\"type\": \"heatmap\", \"colorscale\": \"Jet\", \"z\": [[5.795244559071652e-06, 0.9521168839965017, 0.9905938112371294, 0.9645329200138958, 0.8979163671437336, 0.7675447936352234], [0.999951617188965, 0.0014507776738921238, 7.897363959137375e-06, 2.549364512835174e-06, 3.422999568060998e-07, 3.4633740623566064e-07], [4.196557290306556e-05, 0.045493523368248, 0.0005434248308942819, 0.0001012830650831277, 3.184807546568968e-05, 1.9733974905238988e-05], [3.584900322975956e-08, 0.0006782374250613923, 0.005933680016369112, 0.010701654583857875, 0.00882326998872844, 0.005480527458845455], [3.987500428582087e-08, 0.0001600195499583741, 0.002387352049512811, 0.01763627482302572, 0.04893628728740469, 0.07559397396817338], [1.3810525990724526e-07, 0.00010011963775203585, 0.0005333642585869102, 0.00702489694138031, 0.04429145596371206, 0.1513602169466264]]}], {\"titlefont\": {\"color\": \"#FFF\"}, \"plot_bgcolor\": \"#000\", \"yaxis\": {\"title\": \"Count Word\", \"range\": [-0.5, 5.5], \"dtick\": 1, \"tickcolor\": \"#FFF\"}, \"height\": 300, \"title\": \"1 Blobs:Confidence after 12800 Iters\", \"xaxis\": {\"title\": \"Glimpses\", \"range\": [-0.5, 5.5], \"dtick\": 1, \"tickcolor\": \"#FFF\"}, \"width\": 300, \"font\": {\"color\": \"#FFF\"}, \"paper_bgcolor\": \"#000\"}, {\"linkText\": \"Export to plot.ly\", \"showLink\": true})});</script>"
      ],
      "text/vnd.plotly.v1+html": [
       "<div id=\"64a4ed64-63d9-47e1-81ac-79d9ff62bdef\" style=\"height: 300px; width: 300px;\" class=\"plotly-graph-div\"></div><script type=\"text/javascript\">require([\"plotly\"], function(Plotly) { window.PLOTLYENV=window.PLOTLYENV || {};window.PLOTLYENV.BASE_URL=\"https://plot.ly\";Plotly.newPlot(\"64a4ed64-63d9-47e1-81ac-79d9ff62bdef\", [{\"type\": \"heatmap\", \"colorscale\": \"Jet\", \"z\": [[5.795244559071652e-06, 0.9521168839965017, 0.9905938112371294, 0.9645329200138958, 0.8979163671437336, 0.7675447936352234], [0.999951617188965, 0.0014507776738921238, 7.897363959137375e-06, 2.549364512835174e-06, 3.422999568060998e-07, 3.4633740623566064e-07], [4.196557290306556e-05, 0.045493523368248, 0.0005434248308942819, 0.0001012830650831277, 3.184807546568968e-05, 1.9733974905238988e-05], [3.584900322975956e-08, 0.0006782374250613923, 0.005933680016369112, 0.010701654583857875, 0.00882326998872844, 0.005480527458845455], [3.987500428582087e-08, 0.0001600195499583741, 0.002387352049512811, 0.01763627482302572, 0.04893628728740469, 0.07559397396817338], [1.3810525990724526e-07, 0.00010011963775203585, 0.0005333642585869102, 0.00702489694138031, 0.04429145596371206, 0.1513602169466264]]}], {\"titlefont\": {\"color\": \"#FFF\"}, \"plot_bgcolor\": \"#000\", \"yaxis\": {\"title\": \"Count Word\", \"range\": [-0.5, 5.5], \"dtick\": 1, \"tickcolor\": \"#FFF\"}, \"height\": 300, \"title\": \"1 Blobs:Confidence after 12800 Iters\", \"xaxis\": {\"title\": \"Glimpses\", \"range\": [-0.5, 5.5], \"dtick\": 1, \"tickcolor\": \"#FFF\"}, \"width\": 300, \"font\": {\"color\": \"#FFF\"}, \"paper_bgcolor\": \"#000\"}, {\"linkText\": \"Export to plot.ly\", \"showLink\": true})});</script>"
      ]
     },
     "metadata": {},
     "output_type": "display_data"
    },
    {
     "data": {
      "application/vnd.plotly.v1+json": {
       "data": [
        {
         "colorscale": "Jet",
         "type": "heatmap",
         "z": [
          [
           9.379109466931353e-06,
           0.9393437265110938,
           0.9947975389000181,
           0.9936260426510806,
           0.9830921185680731,
           0.9847461250343528
          ],
          [
           0.9999863836714475,
           0.006382958581964976,
           0.00409239047340307,
           0.0008657603146798329,
           0.003396607069834,
           0.006153257629533522
          ],
          [
           3.3794171598128898e-06,
           0.05404858413523854,
           8.130511481633092e-05,
           2.123747813662862e-05,
           7.939918168617893e-06,
           2.016363179413201e-05
          ],
          [
           6.93183232631461e-09,
           0.00015759074330540623,
           0.00024516276510220083,
           3.3653620612913414e-05,
           1.7639914901878685e-05,
           1.2249367389845711e-05
          ],
          [
           6.220255843662693e-08,
           3.425760287153493e-05,
           0.0006094319874229782,
           0.003156667153072439,
           0.0017016865938850817,
           0.0010252061074317365
          ],
          [
           3.46826188549825e-07,
           3.244152686757925e-05,
           0.0001737169670196449,
           0.0022961748248520966,
           0.011783554172674638,
           0.008042559753412221
          ]
         ]
        }
       ],
       "layout": {
        "font": {
         "color": "#FFF"
        },
        "height": 300,
        "paper_bgcolor": "#000",
        "plot_bgcolor": "#000",
        "title": "1 Blobs:Confidence after 25600 Iters",
        "titlefont": {
         "color": "#FFF"
        },
        "width": 300,
        "xaxis": {
         "dtick": 1,
         "range": [
          -0.5,
          5.5
         ],
         "tickcolor": "#FFF",
         "title": "Glimpses"
        },
        "yaxis": {
         "dtick": 1,
         "range": [
          -0.5,
          5.5
         ],
         "tickcolor": "#FFF",
         "title": "Count Word"
        }
       }
      },
      "text/html": [
       "<div id=\"ee70612f-5cb4-4bc6-b7e9-1966352c7357\" style=\"height: 300px; width: 300px;\" class=\"plotly-graph-div\"></div><script type=\"text/javascript\">require([\"plotly\"], function(Plotly) { window.PLOTLYENV=window.PLOTLYENV || {};window.PLOTLYENV.BASE_URL=\"https://plot.ly\";Plotly.newPlot(\"ee70612f-5cb4-4bc6-b7e9-1966352c7357\", [{\"type\": \"heatmap\", \"colorscale\": \"Jet\", \"z\": [[9.379109466931353e-06, 0.9393437265110938, 0.9947975389000181, 0.9936260426510806, 0.9830921185680731, 0.9847461250343528], [0.9999863836714475, 0.006382958581964976, 0.00409239047340307, 0.0008657603146798329, 0.003396607069834, 0.006153257629533522], [3.3794171598128898e-06, 0.05404858413523854, 8.130511481633092e-05, 2.123747813662862e-05, 7.939918168617893e-06, 2.016363179413201e-05], [6.93183232631461e-09, 0.00015759074330540623, 0.00024516276510220083, 3.3653620612913414e-05, 1.7639914901878685e-05, 1.2249367389845711e-05], [6.220255843662693e-08, 3.425760287153493e-05, 0.0006094319874229782, 0.003156667153072439, 0.0017016865938850817, 0.0010252061074317365], [3.46826188549825e-07, 3.244152686757925e-05, 0.0001737169670196449, 0.0022961748248520966, 0.011783554172674638, 0.008042559753412221]]}], {\"titlefont\": {\"color\": \"#FFF\"}, \"plot_bgcolor\": \"#000\", \"yaxis\": {\"title\": \"Count Word\", \"range\": [-0.5, 5.5], \"dtick\": 1, \"tickcolor\": \"#FFF\"}, \"height\": 300, \"title\": \"1 Blobs:Confidence after 25600 Iters\", \"xaxis\": {\"title\": \"Glimpses\", \"range\": [-0.5, 5.5], \"dtick\": 1, \"tickcolor\": \"#FFF\"}, \"width\": 300, \"font\": {\"color\": \"#FFF\"}, \"paper_bgcolor\": \"#000\"}, {\"linkText\": \"Export to plot.ly\", \"showLink\": true})});</script>"
      ],
      "text/vnd.plotly.v1+html": [
       "<div id=\"ee70612f-5cb4-4bc6-b7e9-1966352c7357\" style=\"height: 300px; width: 300px;\" class=\"plotly-graph-div\"></div><script type=\"text/javascript\">require([\"plotly\"], function(Plotly) { window.PLOTLYENV=window.PLOTLYENV || {};window.PLOTLYENV.BASE_URL=\"https://plot.ly\";Plotly.newPlot(\"ee70612f-5cb4-4bc6-b7e9-1966352c7357\", [{\"type\": \"heatmap\", \"colorscale\": \"Jet\", \"z\": [[9.379109466931353e-06, 0.9393437265110938, 0.9947975389000181, 0.9936260426510806, 0.9830921185680731, 0.9847461250343528], [0.9999863836714475, 0.006382958581964976, 0.00409239047340307, 0.0008657603146798329, 0.003396607069834, 0.006153257629533522], [3.3794171598128898e-06, 0.05404858413523854, 8.130511481633092e-05, 2.123747813662862e-05, 7.939918168617893e-06, 2.016363179413201e-05], [6.93183232631461e-09, 0.00015759074330540623, 0.00024516276510220083, 3.3653620612913414e-05, 1.7639914901878685e-05, 1.2249367389845711e-05], [6.220255843662693e-08, 3.425760287153493e-05, 0.0006094319874229782, 0.003156667153072439, 0.0017016865938850817, 0.0010252061074317365], [3.46826188549825e-07, 3.244152686757925e-05, 0.0001737169670196449, 0.0022961748248520966, 0.011783554172674638, 0.008042559753412221]]}], {\"titlefont\": {\"color\": \"#FFF\"}, \"plot_bgcolor\": \"#000\", \"yaxis\": {\"title\": \"Count Word\", \"range\": [-0.5, 5.5], \"dtick\": 1, \"tickcolor\": \"#FFF\"}, \"height\": 300, \"title\": \"1 Blobs:Confidence after 25600 Iters\", \"xaxis\": {\"title\": \"Glimpses\", \"range\": [-0.5, 5.5], \"dtick\": 1, \"tickcolor\": \"#FFF\"}, \"width\": 300, \"font\": {\"color\": \"#FFF\"}, \"paper_bgcolor\": \"#000\"}, {\"linkText\": \"Export to plot.ly\", \"showLink\": true})});</script>"
      ]
     },
     "metadata": {},
     "output_type": "display_data"
    },
    {
     "data": {
      "application/vnd.plotly.v1+json": {
       "data": [
        {
         "colorscale": "Jet",
         "type": "heatmap",
         "z": [
          [
           3.4907998175613433e-06,
           0.6903784835915864,
           0.9973356081277159,
           0.9957623970466214,
           0.9619729750567187,
           0.9920199954042106
          ],
          [
           0.9999946854701169,
           0.04092833047149497,
           2.416548332884683e-05,
           6.340375506696068e-06,
           8.855318130412315e-05,
           0.000382466106262317
          ],
          [
           9.44266717863036e-07,
           0.2685579274149303,
           3.840216845747404e-05,
           2.782335575931554e-06,
           1.6747147646271264e-05,
           5.2208743666478914e-05
          ],
          [
           2.686726126830685e-09,
           0.00011676693023882359,
           0.002531915987689916,
           9.728327556165894e-05,
           9.08214342634769e-06,
           2.163425594591366e-05
          ],
          [
           1.0025989144509417e-08,
           1.8560025447915987e-06,
           5.8399232377785316e-05,
           0.003061822398296644,
           0.0003764157610858594,
           6.645472792824551e-05
          ],
          [
           3.0287185310858704e-07,
           1.6058613906559077e-05,
           1.0948842593397389e-05,
           0.0010688087446462933,
           0.037535623806244325,
           0.007456658322295115
          ]
         ]
        }
       ],
       "layout": {
        "font": {
         "color": "#FFF"
        },
        "height": 300,
        "paper_bgcolor": "#000",
        "plot_bgcolor": "#000",
        "title": "1 Blobs:Confidence after 51200 Iters",
        "titlefont": {
         "color": "#FFF"
        },
        "width": 300,
        "xaxis": {
         "dtick": 1,
         "range": [
          -0.5,
          5.5
         ],
         "tickcolor": "#FFF",
         "title": "Glimpses"
        },
        "yaxis": {
         "dtick": 1,
         "range": [
          -0.5,
          5.5
         ],
         "tickcolor": "#FFF",
         "title": "Count Word"
        }
       }
      },
      "text/html": [
       "<div id=\"e7b6bf43-03e6-4851-b4d7-a16afa577618\" style=\"height: 300px; width: 300px;\" class=\"plotly-graph-div\"></div><script type=\"text/javascript\">require([\"plotly\"], function(Plotly) { window.PLOTLYENV=window.PLOTLYENV || {};window.PLOTLYENV.BASE_URL=\"https://plot.ly\";Plotly.newPlot(\"e7b6bf43-03e6-4851-b4d7-a16afa577618\", [{\"type\": \"heatmap\", \"colorscale\": \"Jet\", \"z\": [[3.4907998175613433e-06, 0.6903784835915864, 0.9973356081277159, 0.9957623970466214, 0.9619729750567187, 0.9920199954042106], [0.9999946854701169, 0.04092833047149497, 2.416548332884683e-05, 6.340375506696068e-06, 8.855318130412315e-05, 0.000382466106262317], [9.44266717863036e-07, 0.2685579274149303, 3.840216845747404e-05, 2.782335575931554e-06, 1.6747147646271264e-05, 5.2208743666478914e-05], [2.686726126830685e-09, 0.00011676693023882359, 0.002531915987689916, 9.728327556165894e-05, 9.08214342634769e-06, 2.163425594591366e-05], [1.0025989144509417e-08, 1.8560025447915987e-06, 5.8399232377785316e-05, 0.003061822398296644, 0.0003764157610858594, 6.645472792824551e-05], [3.0287185310858704e-07, 1.6058613906559077e-05, 1.0948842593397389e-05, 0.0010688087446462933, 0.037535623806244325, 0.007456658322295115]]}], {\"titlefont\": {\"color\": \"#FFF\"}, \"plot_bgcolor\": \"#000\", \"yaxis\": {\"title\": \"Count Word\", \"range\": [-0.5, 5.5], \"dtick\": 1, \"tickcolor\": \"#FFF\"}, \"height\": 300, \"title\": \"1 Blobs:Confidence after 51200 Iters\", \"xaxis\": {\"title\": \"Glimpses\", \"range\": [-0.5, 5.5], \"dtick\": 1, \"tickcolor\": \"#FFF\"}, \"width\": 300, \"font\": {\"color\": \"#FFF\"}, \"paper_bgcolor\": \"#000\"}, {\"linkText\": \"Export to plot.ly\", \"showLink\": true})});</script>"
      ],
      "text/vnd.plotly.v1+html": [
       "<div id=\"e7b6bf43-03e6-4851-b4d7-a16afa577618\" style=\"height: 300px; width: 300px;\" class=\"plotly-graph-div\"></div><script type=\"text/javascript\">require([\"plotly\"], function(Plotly) { window.PLOTLYENV=window.PLOTLYENV || {};window.PLOTLYENV.BASE_URL=\"https://plot.ly\";Plotly.newPlot(\"e7b6bf43-03e6-4851-b4d7-a16afa577618\", [{\"type\": \"heatmap\", \"colorscale\": \"Jet\", \"z\": [[3.4907998175613433e-06, 0.6903784835915864, 0.9973356081277159, 0.9957623970466214, 0.9619729750567187, 0.9920199954042106], [0.9999946854701169, 0.04092833047149497, 2.416548332884683e-05, 6.340375506696068e-06, 8.855318130412315e-05, 0.000382466106262317], [9.44266717863036e-07, 0.2685579274149303, 3.840216845747404e-05, 2.782335575931554e-06, 1.6747147646271264e-05, 5.2208743666478914e-05], [2.686726126830685e-09, 0.00011676693023882359, 0.002531915987689916, 9.728327556165894e-05, 9.08214342634769e-06, 2.163425594591366e-05], [1.0025989144509417e-08, 1.8560025447915987e-06, 5.8399232377785316e-05, 0.003061822398296644, 0.0003764157610858594, 6.645472792824551e-05], [3.0287185310858704e-07, 1.6058613906559077e-05, 1.0948842593397389e-05, 0.0010688087446462933, 0.037535623806244325, 0.007456658322295115]]}], {\"titlefont\": {\"color\": \"#FFF\"}, \"plot_bgcolor\": \"#000\", \"yaxis\": {\"title\": \"Count Word\", \"range\": [-0.5, 5.5], \"dtick\": 1, \"tickcolor\": \"#FFF\"}, \"height\": 300, \"title\": \"1 Blobs:Confidence after 51200 Iters\", \"xaxis\": {\"title\": \"Glimpses\", \"range\": [-0.5, 5.5], \"dtick\": 1, \"tickcolor\": \"#FFF\"}, \"width\": 300, \"font\": {\"color\": \"#FFF\"}, \"paper_bgcolor\": \"#000\"}, {\"linkText\": \"Export to plot.ly\", \"showLink\": true})});</script>"
      ]
     },
     "metadata": {},
     "output_type": "display_data"
    },
    {
     "data": {
      "application/vnd.plotly.v1+json": {
       "data": [
        {
         "colorscale": "Jet",
         "type": "heatmap",
         "z": [
          [
           5.438943041986736e-06,
           0.7429851750878312,
           0.851251428398529,
           0.9688077758934959,
           0.8672328570164543,
           0.9945111366200382
          ],
          [
           0.9999849124907224,
           0.028676464327193056,
           4.065070097608088e-08,
           1.4414903231102851e-05,
           0.00010132796044135134,
           0.00010061584062564881
          ],
          [
           7.726787714045024e-06,
           0.22801609470639217,
           0.00015093418008558596,
           5.142312745950964e-07,
           2.0111089822631254e-05,
           0.00010593195829095366
          ],
          [
           1.4562699679560636e-08,
           0.00030559108693331875,
           0.14854608194261193,
           0.00015700134968365772,
           7.974587143149821e-06,
           3.341451826102888e-05
          ],
          [
           1.532653267395736e-08,
           1.1850915837091613e-06,
           4.87762641438754e-05,
           0.029638683590177062,
           0.00023841391070497265,
           6.18049160037482e-05
          ],
          [
           1.1792626788842471e-06,
           1.4767380509417385e-05,
           2.021694390674455e-06,
           0.0013809393385867095,
           0.1323986156331834,
           0.005186366021221962
          ]
         ]
        }
       ],
       "layout": {
        "font": {
         "color": "#FFF"
        },
        "height": 300,
        "paper_bgcolor": "#000",
        "plot_bgcolor": "#000",
        "title": "1 Blobs:Confidence after 102400 Iters",
        "titlefont": {
         "color": "#FFF"
        },
        "width": 300,
        "xaxis": {
         "dtick": 1,
         "range": [
          -0.5,
          5.5
         ],
         "tickcolor": "#FFF",
         "title": "Glimpses"
        },
        "yaxis": {
         "dtick": 1,
         "range": [
          -0.5,
          5.5
         ],
         "tickcolor": "#FFF",
         "title": "Count Word"
        }
       }
      },
      "text/html": [
       "<div id=\"9a3a7a0c-7742-4bb9-a923-b60063db3e4d\" style=\"height: 300px; width: 300px;\" class=\"plotly-graph-div\"></div><script type=\"text/javascript\">require([\"plotly\"], function(Plotly) { window.PLOTLYENV=window.PLOTLYENV || {};window.PLOTLYENV.BASE_URL=\"https://plot.ly\";Plotly.newPlot(\"9a3a7a0c-7742-4bb9-a923-b60063db3e4d\", [{\"type\": \"heatmap\", \"colorscale\": \"Jet\", \"z\": [[5.438943041986736e-06, 0.7429851750878312, 0.851251428398529, 0.9688077758934959, 0.8672328570164543, 0.9945111366200382], [0.9999849124907224, 0.028676464327193056, 4.065070097608088e-08, 1.4414903231102851e-05, 0.00010132796044135134, 0.00010061584062564881], [7.726787714045024e-06, 0.22801609470639217, 0.00015093418008558596, 5.142312745950964e-07, 2.0111089822631254e-05, 0.00010593195829095366], [1.4562699679560636e-08, 0.00030559108693331875, 0.14854608194261193, 0.00015700134968365772, 7.974587143149821e-06, 3.341451826102888e-05], [1.532653267395736e-08, 1.1850915837091613e-06, 4.87762641438754e-05, 0.029638683590177062, 0.00023841391070497265, 6.18049160037482e-05], [1.1792626788842471e-06, 1.4767380509417385e-05, 2.021694390674455e-06, 0.0013809393385867095, 0.1323986156331834, 0.005186366021221962]]}], {\"titlefont\": {\"color\": \"#FFF\"}, \"plot_bgcolor\": \"#000\", \"yaxis\": {\"title\": \"Count Word\", \"range\": [-0.5, 5.5], \"dtick\": 1, \"tickcolor\": \"#FFF\"}, \"height\": 300, \"title\": \"1 Blobs:Confidence after 102400 Iters\", \"xaxis\": {\"title\": \"Glimpses\", \"range\": [-0.5, 5.5], \"dtick\": 1, \"tickcolor\": \"#FFF\"}, \"width\": 300, \"font\": {\"color\": \"#FFF\"}, \"paper_bgcolor\": \"#000\"}, {\"linkText\": \"Export to plot.ly\", \"showLink\": true})});</script>"
      ],
      "text/vnd.plotly.v1+html": [
       "<div id=\"9a3a7a0c-7742-4bb9-a923-b60063db3e4d\" style=\"height: 300px; width: 300px;\" class=\"plotly-graph-div\"></div><script type=\"text/javascript\">require([\"plotly\"], function(Plotly) { window.PLOTLYENV=window.PLOTLYENV || {};window.PLOTLYENV.BASE_URL=\"https://plot.ly\";Plotly.newPlot(\"9a3a7a0c-7742-4bb9-a923-b60063db3e4d\", [{\"type\": \"heatmap\", \"colorscale\": \"Jet\", \"z\": [[5.438943041986736e-06, 0.7429851750878312, 0.851251428398529, 0.9688077758934959, 0.8672328570164543, 0.9945111366200382], [0.9999849124907224, 0.028676464327193056, 4.065070097608088e-08, 1.4414903231102851e-05, 0.00010132796044135134, 0.00010061584062564881], [7.726787714045024e-06, 0.22801609470639217, 0.00015093418008558596, 5.142312745950964e-07, 2.0111089822631254e-05, 0.00010593195829095366], [1.4562699679560636e-08, 0.00030559108693331875, 0.14854608194261193, 0.00015700134968365772, 7.974587143149821e-06, 3.341451826102888e-05], [1.532653267395736e-08, 1.1850915837091613e-06, 4.87762641438754e-05, 0.029638683590177062, 0.00023841391070497265, 6.18049160037482e-05], [1.1792626788842471e-06, 1.4767380509417385e-05, 2.021694390674455e-06, 0.0013809393385867095, 0.1323986156331834, 0.005186366021221962]]}], {\"titlefont\": {\"color\": \"#FFF\"}, \"plot_bgcolor\": \"#000\", \"yaxis\": {\"title\": \"Count Word\", \"range\": [-0.5, 5.5], \"dtick\": 1, \"tickcolor\": \"#FFF\"}, \"height\": 300, \"title\": \"1 Blobs:Confidence after 102400 Iters\", \"xaxis\": {\"title\": \"Glimpses\", \"range\": [-0.5, 5.5], \"dtick\": 1, \"tickcolor\": \"#FFF\"}, \"width\": 300, \"font\": {\"color\": \"#FFF\"}, \"paper_bgcolor\": \"#000\"}, {\"linkText\": \"Export to plot.ly\", \"showLink\": true})});</script>"
      ]
     },
     "metadata": {},
     "output_type": "display_data"
    },
    {
     "data": {
      "application/vnd.plotly.v1+json": {
       "data": [
        {
         "colorscale": "Jet",
         "type": "heatmap",
         "z": [
          [
           2.572377629033953e-05,
           0.5422445731872089,
           0.8000668345923524,
           0.9701094006255283,
           0.9892406431600801,
           0.9972416549610215
          ],
          [
           0.999959121924964,
           0.0003257425712487053,
           2.324317874667838e-09,
           4.44964078331419e-07,
           2.9698259056870203e-05,
           1.1420415863293365e-05
          ],
          [
           1.119638323900849e-05,
           0.456885808336231,
           8.279904132071216e-05,
           2.419928377882575e-07,
           1.2262725141197087e-06,
           6.257981318401196e-06
          ],
          [
           4.258147082724299e-08,
           0.000538203094159164,
           0.19971408719035577,
           0.00016966625028341645,
           4.784069815468486e-06,
           5.991514696011576e-06
          ],
          [
           1.9899442797204914e-07,
           3.0902488425680656e-06,
           0.00013509546597609707,
           0.029543393331902184,
           0.002786285710623746,
           0.0001478386556071398
          ],
          [
           3.1968395819937377e-06,
           2.0266192265988467e-06,
           6.347961909621603e-07,
           0.00017627197929106494,
           0.007936789274131573,
           0.002586268540738409
          ]
         ]
        }
       ],
       "layout": {
        "font": {
         "color": "#FFF"
        },
        "height": 300,
        "paper_bgcolor": "#000",
        "plot_bgcolor": "#000",
        "title": "1 Blobs:Confidence after 153600 Iters",
        "titlefont": {
         "color": "#FFF"
        },
        "width": 300,
        "xaxis": {
         "dtick": 1,
         "range": [
          -0.5,
          5.5
         ],
         "tickcolor": "#FFF",
         "title": "Glimpses"
        },
        "yaxis": {
         "dtick": 1,
         "range": [
          -0.5,
          5.5
         ],
         "tickcolor": "#FFF",
         "title": "Count Word"
        }
       }
      },
      "text/html": [
       "<div id=\"332ea8e6-9e50-4a9b-8a60-b21283272787\" style=\"height: 300px; width: 300px;\" class=\"plotly-graph-div\"></div><script type=\"text/javascript\">require([\"plotly\"], function(Plotly) { window.PLOTLYENV=window.PLOTLYENV || {};window.PLOTLYENV.BASE_URL=\"https://plot.ly\";Plotly.newPlot(\"332ea8e6-9e50-4a9b-8a60-b21283272787\", [{\"type\": \"heatmap\", \"colorscale\": \"Jet\", \"z\": [[2.572377629033953e-05, 0.5422445731872089, 0.8000668345923524, 0.9701094006255283, 0.9892406431600801, 0.9972416549610215], [0.999959121924964, 0.0003257425712487053, 2.324317874667838e-09, 4.44964078331419e-07, 2.9698259056870203e-05, 1.1420415863293365e-05], [1.119638323900849e-05, 0.456885808336231, 8.279904132071216e-05, 2.419928377882575e-07, 1.2262725141197087e-06, 6.257981318401196e-06], [4.258147082724299e-08, 0.000538203094159164, 0.19971408719035577, 0.00016966625028341645, 4.784069815468486e-06, 5.991514696011576e-06], [1.9899442797204914e-07, 3.0902488425680656e-06, 0.00013509546597609707, 0.029543393331902184, 0.002786285710623746, 0.0001478386556071398], [3.1968395819937377e-06, 2.0266192265988467e-06, 6.347961909621603e-07, 0.00017627197929106494, 0.007936789274131573, 0.002586268540738409]]}], {\"titlefont\": {\"color\": \"#FFF\"}, \"plot_bgcolor\": \"#000\", \"yaxis\": {\"title\": \"Count Word\", \"range\": [-0.5, 5.5], \"dtick\": 1, \"tickcolor\": \"#FFF\"}, \"height\": 300, \"title\": \"1 Blobs:Confidence after 153600 Iters\", \"xaxis\": {\"title\": \"Glimpses\", \"range\": [-0.5, 5.5], \"dtick\": 1, \"tickcolor\": \"#FFF\"}, \"width\": 300, \"font\": {\"color\": \"#FFF\"}, \"paper_bgcolor\": \"#000\"}, {\"linkText\": \"Export to plot.ly\", \"showLink\": true})});</script>"
      ],
      "text/vnd.plotly.v1+html": [
       "<div id=\"332ea8e6-9e50-4a9b-8a60-b21283272787\" style=\"height: 300px; width: 300px;\" class=\"plotly-graph-div\"></div><script type=\"text/javascript\">require([\"plotly\"], function(Plotly) { window.PLOTLYENV=window.PLOTLYENV || {};window.PLOTLYENV.BASE_URL=\"https://plot.ly\";Plotly.newPlot(\"332ea8e6-9e50-4a9b-8a60-b21283272787\", [{\"type\": \"heatmap\", \"colorscale\": \"Jet\", \"z\": [[2.572377629033953e-05, 0.5422445731872089, 0.8000668345923524, 0.9701094006255283, 0.9892406431600801, 0.9972416549610215], [0.999959121924964, 0.0003257425712487053, 2.324317874667838e-09, 4.44964078331419e-07, 2.9698259056870203e-05, 1.1420415863293365e-05], [1.119638323900849e-05, 0.456885808336231, 8.279904132071216e-05, 2.419928377882575e-07, 1.2262725141197087e-06, 6.257981318401196e-06], [4.258147082724299e-08, 0.000538203094159164, 0.19971408719035577, 0.00016966625028341645, 4.784069815468486e-06, 5.991514696011576e-06], [1.9899442797204914e-07, 3.0902488425680656e-06, 0.00013509546597609707, 0.029543393331902184, 0.002786285710623746, 0.0001478386556071398], [3.1968395819937377e-06, 2.0266192265988467e-06, 6.347961909621603e-07, 0.00017627197929106494, 0.007936789274131573, 0.002586268540738409]]}], {\"titlefont\": {\"color\": \"#FFF\"}, \"plot_bgcolor\": \"#000\", \"yaxis\": {\"title\": \"Count Word\", \"range\": [-0.5, 5.5], \"dtick\": 1, \"tickcolor\": \"#FFF\"}, \"height\": 300, \"title\": \"1 Blobs:Confidence after 153600 Iters\", \"xaxis\": {\"title\": \"Glimpses\", \"range\": [-0.5, 5.5], \"dtick\": 1, \"tickcolor\": \"#FFF\"}, \"width\": 300, \"font\": {\"color\": \"#FFF\"}, \"paper_bgcolor\": \"#000\"}, {\"linkText\": \"Export to plot.ly\", \"showLink\": true})});</script>"
      ]
     },
     "metadata": {},
     "output_type": "display_data"
    },
    {
     "data": {
      "application/vnd.plotly.v1+json": {
       "data": [
        {
         "colorscale": "Jet",
         "type": "heatmap",
         "z": [
          [
           4.4831080972769484e-07,
           0.2538501398620248,
           0.46397066535919246,
           0.9621036743003508,
           0.9718716349005628,
           0.9974460163123183
          ],
          [
           0.9999939290179437,
           4.068776232424365e-05,
           5.723110824362738e-10,
           1.9076771086786304e-06,
           0.00014959448864236926,
           4.255091531658355e-06
          ],
          [
           4.963667933629601e-06,
           0.7458404482079097,
           0.000395410257135789,
           4.711973807853017e-07,
           3.816760467191603e-06,
           5.5937742957400866e-05
          ],
          [
           3.0133642488532747e-09,
           0.00026694030851700607,
           0.5355990925771196,
           0.0002834943747183791,
           1.5216079483673946e-06,
           3.820604588311694e-06
          ],
          [
           3.865804358591281e-09,
           1.5313441634287317e-07,
           3.4367499434394304e-05,
           0.037396869572527275,
           0.00021254856516152396,
           2.726733661106471e-06
          ],
          [
           3.115059890342958e-07,
           1.2908037016526554e-06,
           1.128105516967581e-07,
           0.00021323007815949327,
           0.027760539859773302,
           0.0024868930687080622
          ]
         ]
        }
       ],
       "layout": {
        "font": {
         "color": "#FFF"
        },
        "height": 300,
        "paper_bgcolor": "#000",
        "plot_bgcolor": "#000",
        "title": "1 Blobs:Confidence after 204800 Iters",
        "titlefont": {
         "color": "#FFF"
        },
        "width": 300,
        "xaxis": {
         "dtick": 1,
         "range": [
          -0.5,
          5.5
         ],
         "tickcolor": "#FFF",
         "title": "Glimpses"
        },
        "yaxis": {
         "dtick": 1,
         "range": [
          -0.5,
          5.5
         ],
         "tickcolor": "#FFF",
         "title": "Count Word"
        }
       }
      },
      "text/html": [
       "<div id=\"47455cb9-5830-4150-8dc9-065366fd0c73\" style=\"height: 300px; width: 300px;\" class=\"plotly-graph-div\"></div><script type=\"text/javascript\">require([\"plotly\"], function(Plotly) { window.PLOTLYENV=window.PLOTLYENV || {};window.PLOTLYENV.BASE_URL=\"https://plot.ly\";Plotly.newPlot(\"47455cb9-5830-4150-8dc9-065366fd0c73\", [{\"type\": \"heatmap\", \"colorscale\": \"Jet\", \"z\": [[4.4831080972769484e-07, 0.2538501398620248, 0.46397066535919246, 0.9621036743003508, 0.9718716349005628, 0.9974460163123183], [0.9999939290179437, 4.068776232424365e-05, 5.723110824362738e-10, 1.9076771086786304e-06, 0.00014959448864236926, 4.255091531658355e-06], [4.963667933629601e-06, 0.7458404482079097, 0.000395410257135789, 4.711973807853017e-07, 3.816760467191603e-06, 5.5937742957400866e-05], [3.0133642488532747e-09, 0.00026694030851700607, 0.5355990925771196, 0.0002834943747183791, 1.5216079483673946e-06, 3.820604588311694e-06], [3.865804358591281e-09, 1.5313441634287317e-07, 3.4367499434394304e-05, 0.037396869572527275, 0.00021254856516152396, 2.726733661106471e-06], [3.115059890342958e-07, 1.2908037016526554e-06, 1.128105516967581e-07, 0.00021323007815949327, 0.027760539859773302, 0.0024868930687080622]]}], {\"titlefont\": {\"color\": \"#FFF\"}, \"plot_bgcolor\": \"#000\", \"yaxis\": {\"title\": \"Count Word\", \"range\": [-0.5, 5.5], \"dtick\": 1, \"tickcolor\": \"#FFF\"}, \"height\": 300, \"title\": \"1 Blobs:Confidence after 204800 Iters\", \"xaxis\": {\"title\": \"Glimpses\", \"range\": [-0.5, 5.5], \"dtick\": 1, \"tickcolor\": \"#FFF\"}, \"width\": 300, \"font\": {\"color\": \"#FFF\"}, \"paper_bgcolor\": \"#000\"}, {\"linkText\": \"Export to plot.ly\", \"showLink\": true})});</script>"
      ],
      "text/vnd.plotly.v1+html": [
       "<div id=\"47455cb9-5830-4150-8dc9-065366fd0c73\" style=\"height: 300px; width: 300px;\" class=\"plotly-graph-div\"></div><script type=\"text/javascript\">require([\"plotly\"], function(Plotly) { window.PLOTLYENV=window.PLOTLYENV || {};window.PLOTLYENV.BASE_URL=\"https://plot.ly\";Plotly.newPlot(\"47455cb9-5830-4150-8dc9-065366fd0c73\", [{\"type\": \"heatmap\", \"colorscale\": \"Jet\", \"z\": [[4.4831080972769484e-07, 0.2538501398620248, 0.46397066535919246, 0.9621036743003508, 0.9718716349005628, 0.9974460163123183], [0.9999939290179437, 4.068776232424365e-05, 5.723110824362738e-10, 1.9076771086786304e-06, 0.00014959448864236926, 4.255091531658355e-06], [4.963667933629601e-06, 0.7458404482079097, 0.000395410257135789, 4.711973807853017e-07, 3.816760467191603e-06, 5.5937742957400866e-05], [3.0133642488532747e-09, 0.00026694030851700607, 0.5355990925771196, 0.0002834943747183791, 1.5216079483673946e-06, 3.820604588311694e-06], [3.865804358591281e-09, 1.5313441634287317e-07, 3.4367499434394304e-05, 0.037396869572527275, 0.00021254856516152396, 2.726733661106471e-06], [3.115059890342958e-07, 1.2908037016526554e-06, 1.128105516967581e-07, 0.00021323007815949327, 0.027760539859773302, 0.0024868930687080622]]}], {\"titlefont\": {\"color\": \"#FFF\"}, \"plot_bgcolor\": \"#000\", \"yaxis\": {\"title\": \"Count Word\", \"range\": [-0.5, 5.5], \"dtick\": 1, \"tickcolor\": \"#FFF\"}, \"height\": 300, \"title\": \"1 Blobs:Confidence after 204800 Iters\", \"xaxis\": {\"title\": \"Glimpses\", \"range\": [-0.5, 5.5], \"dtick\": 1, \"tickcolor\": \"#FFF\"}, \"width\": 300, \"font\": {\"color\": \"#FFF\"}, \"paper_bgcolor\": \"#000\"}, {\"linkText\": \"Export to plot.ly\", \"showLink\": true})});</script>"
      ]
     },
     "metadata": {},
     "output_type": "display_data"
    },
    {
     "data": {
      "application/vnd.plotly.v1+json": {
       "data": [
        {
         "colorscale": "Jet",
         "type": "heatmap",
         "z": [
          [
           1.0425297711096548e-08,
           0.14445089205393635,
           0.7730897912630867,
           0.9251469143220142,
           0.9577218424059971,
           0.998523454163739
          ],
          [
           0.9999987713798287,
           2.7976588640701433e-05,
           9.694178120199125e-09,
           1.0581743929221753e-05,
           0.0005717332413265665,
           2.901508717272229e-06
          ],
          [
           8.136574828161638e-07,
           0.8552907568301564,
           0.00014319341396448035,
           6.642008742169202e-07,
           1.2071936308644663e-05,
           2.20243798543938e-05
          ],
          [
           4.70037440388611e-10,
           0.00022805117299211583,
           0.22670040046328085,
           9.366831588447128e-05,
           6.084465200026448e-07,
           1.2083454461155118e-06
          ],
          [
           3.294362009146567e-10,
           6.89842176715751e-08,
           6.59354139733721e-05,
           0.07387062588707237,
           0.0005926297538364498,
           6.186732357238775e-06
          ],
          [
           8.066213832731458e-08,
           1.9120187239372868e-06,
           3.3562657233285764e-07,
           0.0008772085692691684,
           0.04110074696593789,
           0.0014438858901393249
          ]
         ]
        }
       ],
       "layout": {
        "font": {
         "color": "#FFF"
        },
        "height": 300,
        "paper_bgcolor": "#000",
        "plot_bgcolor": "#000",
        "title": "1 Blobs:Confidence after 307200 Iters",
        "titlefont": {
         "color": "#FFF"
        },
        "width": 300,
        "xaxis": {
         "dtick": 1,
         "range": [
          -0.5,
          5.5
         ],
         "tickcolor": "#FFF",
         "title": "Glimpses"
        },
        "yaxis": {
         "dtick": 1,
         "range": [
          -0.5,
          5.5
         ],
         "tickcolor": "#FFF",
         "title": "Count Word"
        }
       }
      },
      "text/html": [
       "<div id=\"ee73508c-1e38-4548-b66a-c06a25b7e331\" style=\"height: 300px; width: 300px;\" class=\"plotly-graph-div\"></div><script type=\"text/javascript\">require([\"plotly\"], function(Plotly) { window.PLOTLYENV=window.PLOTLYENV || {};window.PLOTLYENV.BASE_URL=\"https://plot.ly\";Plotly.newPlot(\"ee73508c-1e38-4548-b66a-c06a25b7e331\", [{\"type\": \"heatmap\", \"colorscale\": \"Jet\", \"z\": [[1.0425297711096548e-08, 0.14445089205393635, 0.7730897912630867, 0.9251469143220142, 0.9577218424059971, 0.998523454163739], [0.9999987713798287, 2.7976588640701433e-05, 9.694178120199125e-09, 1.0581743929221753e-05, 0.0005717332413265665, 2.901508717272229e-06], [8.136574828161638e-07, 0.8552907568301564, 0.00014319341396448035, 6.642008742169202e-07, 1.2071936308644663e-05, 2.20243798543938e-05], [4.70037440388611e-10, 0.00022805117299211583, 0.22670040046328085, 9.366831588447128e-05, 6.084465200026448e-07, 1.2083454461155118e-06], [3.294362009146567e-10, 6.89842176715751e-08, 6.59354139733721e-05, 0.07387062588707237, 0.0005926297538364498, 6.186732357238775e-06], [8.066213832731458e-08, 1.9120187239372868e-06, 3.3562657233285764e-07, 0.0008772085692691684, 0.04110074696593789, 0.0014438858901393249]]}], {\"titlefont\": {\"color\": \"#FFF\"}, \"plot_bgcolor\": \"#000\", \"yaxis\": {\"title\": \"Count Word\", \"range\": [-0.5, 5.5], \"dtick\": 1, \"tickcolor\": \"#FFF\"}, \"height\": 300, \"title\": \"1 Blobs:Confidence after 307200 Iters\", \"xaxis\": {\"title\": \"Glimpses\", \"range\": [-0.5, 5.5], \"dtick\": 1, \"tickcolor\": \"#FFF\"}, \"width\": 300, \"font\": {\"color\": \"#FFF\"}, \"paper_bgcolor\": \"#000\"}, {\"linkText\": \"Export to plot.ly\", \"showLink\": true})});</script>"
      ],
      "text/vnd.plotly.v1+html": [
       "<div id=\"ee73508c-1e38-4548-b66a-c06a25b7e331\" style=\"height: 300px; width: 300px;\" class=\"plotly-graph-div\"></div><script type=\"text/javascript\">require([\"plotly\"], function(Plotly) { window.PLOTLYENV=window.PLOTLYENV || {};window.PLOTLYENV.BASE_URL=\"https://plot.ly\";Plotly.newPlot(\"ee73508c-1e38-4548-b66a-c06a25b7e331\", [{\"type\": \"heatmap\", \"colorscale\": \"Jet\", \"z\": [[1.0425297711096548e-08, 0.14445089205393635, 0.7730897912630867, 0.9251469143220142, 0.9577218424059971, 0.998523454163739], [0.9999987713798287, 2.7976588640701433e-05, 9.694178120199125e-09, 1.0581743929221753e-05, 0.0005717332413265665, 2.901508717272229e-06], [8.136574828161638e-07, 0.8552907568301564, 0.00014319341396448035, 6.642008742169202e-07, 1.2071936308644663e-05, 2.20243798543938e-05], [4.70037440388611e-10, 0.00022805117299211583, 0.22670040046328085, 9.366831588447128e-05, 6.084465200026448e-07, 1.2083454461155118e-06], [3.294362009146567e-10, 6.89842176715751e-08, 6.59354139733721e-05, 0.07387062588707237, 0.0005926297538364498, 6.186732357238775e-06], [8.066213832731458e-08, 1.9120187239372868e-06, 3.3562657233285764e-07, 0.0008772085692691684, 0.04110074696593789, 0.0014438858901393249]]}], {\"titlefont\": {\"color\": \"#FFF\"}, \"plot_bgcolor\": \"#000\", \"yaxis\": {\"title\": \"Count Word\", \"range\": [-0.5, 5.5], \"dtick\": 1, \"tickcolor\": \"#FFF\"}, \"height\": 300, \"title\": \"1 Blobs:Confidence after 307200 Iters\", \"xaxis\": {\"title\": \"Glimpses\", \"range\": [-0.5, 5.5], \"dtick\": 1, \"tickcolor\": \"#FFF\"}, \"width\": 300, \"font\": {\"color\": \"#FFF\"}, \"paper_bgcolor\": \"#000\"}, {\"linkText\": \"Export to plot.ly\", \"showLink\": true})});</script>"
      ]
     },
     "metadata": {},
     "output_type": "display_data"
    },
    {
     "data": {
      "application/vnd.plotly.v1+json": {
       "data": [
        {
         "colorscale": "Jet",
         "type": "heatmap",
         "z": [
          [
           0.16659396049570868,
           0.16667149545795348,
           0.16689987551271174,
           0.16723128711395532,
           0.16761120977715452,
           0.16797823158879863
          ],
          [
           0.16684516344191502,
           0.16658125123042059,
           0.1661012502875625,
           0.16557180376751324,
           0.16508403577547623,
           0.16469976765191052
          ],
          [
           0.16531688262857006,
           0.164471117957221,
           0.16388588222580736,
           0.16347912400323508,
           0.1631885514983229,
           0.16299083659954094
          ],
          [
           0.1666518784433728,
           0.1665539296095924,
           0.1664556011511719,
           0.16635366945177474,
           0.1662616824987911,
           0.16618190952511652
          ],
          [
           0.1672085302133325,
           0.16802793403350333,
           0.16886434432797262,
           0.16964469860946133,
           0.17033457095453033,
           0.17093999987848313
          ],
          [
           0.1673831050389577,
           0.16769380474558376,
           0.16779255611294913,
           0.1677189472500198,
           0.16751946762884537,
           0.1672087828233734
          ]
         ]
        }
       ],
       "layout": {
        "font": {
         "color": "#FFF"
        },
        "height": 300,
        "paper_bgcolor": "#000",
        "plot_bgcolor": "#000",
        "title": "2 Blobs:Confidence after 0 Iters",
        "titlefont": {
         "color": "#FFF"
        },
        "width": 300,
        "xaxis": {
         "dtick": 1,
         "range": [
          -0.5,
          5.5
         ],
         "tickcolor": "#FFF",
         "title": "Glimpses"
        },
        "yaxis": {
         "dtick": 1,
         "range": [
          -0.5,
          5.5
         ],
         "tickcolor": "#FFF",
         "title": "Count Word"
        }
       }
      },
      "text/html": [
       "<div id=\"e4c2e24b-08af-4985-9ebd-9b384b00b054\" style=\"height: 300px; width: 300px;\" class=\"plotly-graph-div\"></div><script type=\"text/javascript\">require([\"plotly\"], function(Plotly) { window.PLOTLYENV=window.PLOTLYENV || {};window.PLOTLYENV.BASE_URL=\"https://plot.ly\";Plotly.newPlot(\"e4c2e24b-08af-4985-9ebd-9b384b00b054\", [{\"type\": \"heatmap\", \"colorscale\": \"Jet\", \"z\": [[0.16659396049570868, 0.16667149545795348, 0.16689987551271174, 0.16723128711395532, 0.16761120977715452, 0.16797823158879863], [0.16684516344191502, 0.16658125123042059, 0.1661012502875625, 0.16557180376751324, 0.16508403577547623, 0.16469976765191052], [0.16531688262857006, 0.164471117957221, 0.16388588222580736, 0.16347912400323508, 0.1631885514983229, 0.16299083659954094], [0.1666518784433728, 0.1665539296095924, 0.1664556011511719, 0.16635366945177474, 0.1662616824987911, 0.16618190952511652], [0.1672085302133325, 0.16802793403350333, 0.16886434432797262, 0.16964469860946133, 0.17033457095453033, 0.17093999987848313], [0.1673831050389577, 0.16769380474558376, 0.16779255611294913, 0.1677189472500198, 0.16751946762884537, 0.1672087828233734]]}], {\"titlefont\": {\"color\": \"#FFF\"}, \"plot_bgcolor\": \"#000\", \"yaxis\": {\"title\": \"Count Word\", \"range\": [-0.5, 5.5], \"dtick\": 1, \"tickcolor\": \"#FFF\"}, \"height\": 300, \"title\": \"2 Blobs:Confidence after 0 Iters\", \"xaxis\": {\"title\": \"Glimpses\", \"range\": [-0.5, 5.5], \"dtick\": 1, \"tickcolor\": \"#FFF\"}, \"width\": 300, \"font\": {\"color\": \"#FFF\"}, \"paper_bgcolor\": \"#000\"}, {\"linkText\": \"Export to plot.ly\", \"showLink\": true})});</script>"
      ],
      "text/vnd.plotly.v1+html": [
       "<div id=\"e4c2e24b-08af-4985-9ebd-9b384b00b054\" style=\"height: 300px; width: 300px;\" class=\"plotly-graph-div\"></div><script type=\"text/javascript\">require([\"plotly\"], function(Plotly) { window.PLOTLYENV=window.PLOTLYENV || {};window.PLOTLYENV.BASE_URL=\"https://plot.ly\";Plotly.newPlot(\"e4c2e24b-08af-4985-9ebd-9b384b00b054\", [{\"type\": \"heatmap\", \"colorscale\": \"Jet\", \"z\": [[0.16659396049570868, 0.16667149545795348, 0.16689987551271174, 0.16723128711395532, 0.16761120977715452, 0.16797823158879863], [0.16684516344191502, 0.16658125123042059, 0.1661012502875625, 0.16557180376751324, 0.16508403577547623, 0.16469976765191052], [0.16531688262857006, 0.164471117957221, 0.16388588222580736, 0.16347912400323508, 0.1631885514983229, 0.16299083659954094], [0.1666518784433728, 0.1665539296095924, 0.1664556011511719, 0.16635366945177474, 0.1662616824987911, 0.16618190952511652], [0.1672085302133325, 0.16802793403350333, 0.16886434432797262, 0.16964469860946133, 0.17033457095453033, 0.17093999987848313], [0.1673831050389577, 0.16769380474558376, 0.16779255611294913, 0.1677189472500198, 0.16751946762884537, 0.1672087828233734]]}], {\"titlefont\": {\"color\": \"#FFF\"}, \"plot_bgcolor\": \"#000\", \"yaxis\": {\"title\": \"Count Word\", \"range\": [-0.5, 5.5], \"dtick\": 1, \"tickcolor\": \"#FFF\"}, \"height\": 300, \"title\": \"2 Blobs:Confidence after 0 Iters\", \"xaxis\": {\"title\": \"Glimpses\", \"range\": [-0.5, 5.5], \"dtick\": 1, \"tickcolor\": \"#FFF\"}, \"width\": 300, \"font\": {\"color\": \"#FFF\"}, \"paper_bgcolor\": \"#000\"}, {\"linkText\": \"Export to plot.ly\", \"showLink\": true})});</script>"
      ]
     },
     "metadata": {},
     "output_type": "display_data"
    },
    {
     "data": {
      "application/vnd.plotly.v1+json": {
       "data": [
        {
         "colorscale": "Jet",
         "type": "heatmap",
         "z": [
          [
           0.21300299870057018,
           0.22033643844879544,
           0.22604292935199347,
           0.2301721575936903,
           0.2333881742540733,
           0.23561120828985863
          ],
          [
           0.2870973975223979,
           0.29012933562438004,
           0.29220259757348904,
           0.29333096464604247,
           0.2940711818361343,
           0.2944910327805999
          ],
          [
           0.13944003010219097,
           0.1364920754855176,
           0.13425842609582922,
           0.13281772249451923,
           0.13170182167131375,
           0.1309976400601015
          ],
          [
           0.12400781866435914,
           0.12121437441523851,
           0.11901784093820074,
           0.11750009062601052,
           0.11643192851993639,
           0.11570476904044008
          ],
          [
           0.11827380332109687,
           0.11600642258697269,
           0.11457037903547296,
           0.11374706182665491,
           0.11320160990247678,
           0.11292483182906428
          ],
          [
           0.11817756392198075,
           0.1158209748416334,
           0.11390745213284106,
           0.11243161705160314,
           0.11120491037669546,
           0.11027013137877417
          ]
         ]
        }
       ],
       "layout": {
        "font": {
         "color": "#FFF"
        },
        "height": 300,
        "paper_bgcolor": "#000",
        "plot_bgcolor": "#000",
        "title": "2 Blobs:Confidence after 400 Iters",
        "titlefont": {
         "color": "#FFF"
        },
        "width": 300,
        "xaxis": {
         "dtick": 1,
         "range": [
          -0.5,
          5.5
         ],
         "tickcolor": "#FFF",
         "title": "Glimpses"
        },
        "yaxis": {
         "dtick": 1,
         "range": [
          -0.5,
          5.5
         ],
         "tickcolor": "#FFF",
         "title": "Count Word"
        }
       }
      },
      "text/html": [
       "<div id=\"a3c69209-e324-489f-8d57-9d014a10a509\" style=\"height: 300px; width: 300px;\" class=\"plotly-graph-div\"></div><script type=\"text/javascript\">require([\"plotly\"], function(Plotly) { window.PLOTLYENV=window.PLOTLYENV || {};window.PLOTLYENV.BASE_URL=\"https://plot.ly\";Plotly.newPlot(\"a3c69209-e324-489f-8d57-9d014a10a509\", [{\"type\": \"heatmap\", \"colorscale\": \"Jet\", \"z\": [[0.21300299870057018, 0.22033643844879544, 0.22604292935199347, 0.2301721575936903, 0.2333881742540733, 0.23561120828985863], [0.2870973975223979, 0.29012933562438004, 0.29220259757348904, 0.29333096464604247, 0.2940711818361343, 0.2944910327805999], [0.13944003010219097, 0.1364920754855176, 0.13425842609582922, 0.13281772249451923, 0.13170182167131375, 0.1309976400601015], [0.12400781866435914, 0.12121437441523851, 0.11901784093820074, 0.11750009062601052, 0.11643192851993639, 0.11570476904044008], [0.11827380332109687, 0.11600642258697269, 0.11457037903547296, 0.11374706182665491, 0.11320160990247678, 0.11292483182906428], [0.11817756392198075, 0.1158209748416334, 0.11390745213284106, 0.11243161705160314, 0.11120491037669546, 0.11027013137877417]]}], {\"titlefont\": {\"color\": \"#FFF\"}, \"plot_bgcolor\": \"#000\", \"yaxis\": {\"title\": \"Count Word\", \"range\": [-0.5, 5.5], \"dtick\": 1, \"tickcolor\": \"#FFF\"}, \"height\": 300, \"title\": \"2 Blobs:Confidence after 400 Iters\", \"xaxis\": {\"title\": \"Glimpses\", \"range\": [-0.5, 5.5], \"dtick\": 1, \"tickcolor\": \"#FFF\"}, \"width\": 300, \"font\": {\"color\": \"#FFF\"}, \"paper_bgcolor\": \"#000\"}, {\"linkText\": \"Export to plot.ly\", \"showLink\": true})});</script>"
      ],
      "text/vnd.plotly.v1+html": [
       "<div id=\"a3c69209-e324-489f-8d57-9d014a10a509\" style=\"height: 300px; width: 300px;\" class=\"plotly-graph-div\"></div><script type=\"text/javascript\">require([\"plotly\"], function(Plotly) { window.PLOTLYENV=window.PLOTLYENV || {};window.PLOTLYENV.BASE_URL=\"https://plot.ly\";Plotly.newPlot(\"a3c69209-e324-489f-8d57-9d014a10a509\", [{\"type\": \"heatmap\", \"colorscale\": \"Jet\", \"z\": [[0.21300299870057018, 0.22033643844879544, 0.22604292935199347, 0.2301721575936903, 0.2333881742540733, 0.23561120828985863], [0.2870973975223979, 0.29012933562438004, 0.29220259757348904, 0.29333096464604247, 0.2940711818361343, 0.2944910327805999], [0.13944003010219097, 0.1364920754855176, 0.13425842609582922, 0.13281772249451923, 0.13170182167131375, 0.1309976400601015], [0.12400781866435914, 0.12121437441523851, 0.11901784093820074, 0.11750009062601052, 0.11643192851993639, 0.11570476904044008], [0.11827380332109687, 0.11600642258697269, 0.11457037903547296, 0.11374706182665491, 0.11320160990247678, 0.11292483182906428], [0.11817756392198075, 0.1158209748416334, 0.11390745213284106, 0.11243161705160314, 0.11120491037669546, 0.11027013137877417]]}], {\"titlefont\": {\"color\": \"#FFF\"}, \"plot_bgcolor\": \"#000\", \"yaxis\": {\"title\": \"Count Word\", \"range\": [-0.5, 5.5], \"dtick\": 1, \"tickcolor\": \"#FFF\"}, \"height\": 300, \"title\": \"2 Blobs:Confidence after 400 Iters\", \"xaxis\": {\"title\": \"Glimpses\", \"range\": [-0.5, 5.5], \"dtick\": 1, \"tickcolor\": \"#FFF\"}, \"width\": 300, \"font\": {\"color\": \"#FFF\"}, \"paper_bgcolor\": \"#000\"}, {\"linkText\": \"Export to plot.ly\", \"showLink\": true})});</script>"
      ]
     },
     "metadata": {},
     "output_type": "display_data"
    },
    {
     "data": {
      "application/vnd.plotly.v1+json": {
       "data": [
        {
         "colorscale": "Jet",
         "type": "heatmap",
         "z": [
          [
           0.2679670630618092,
           0.5213412588027913,
           0.624034906546972,
           0.7722229746590799,
           0.7858700888087964,
           0.8529813419745539
          ],
          [
           0.525477766636257,
           0.3502200361596833,
           0.2803866718851249,
           0.16282201240018404,
           0.15449517624248083,
           0.101207366740751
          ],
          [
           0.07220710968122933,
           0.045482495856071906,
           0.03405647394838555,
           0.022786393497172427,
           0.020790232578864302,
           0.015726397094734047
          ],
          [
           0.053985379647891275,
           0.037670874537419415,
           0.02995355704509999,
           0.02181302948490542,
           0.02072214264483666,
           0.01652430841532258
          ],
          [
           0.043108093280840976,
           0.025664299810363157,
           0.0183087883796847,
           0.012166289107855596,
           0.010828824342207223,
           0.008261745201982088
          ],
          [
           0.037254226565974595,
           0.019620665015332456,
           0.013259233669897423,
           0.008188932619161267,
           0.007293158303611981,
           0.005298505954848862
          ]
         ]
        }
       ],
       "layout": {
        "font": {
         "color": "#FFF"
        },
        "height": 300,
        "paper_bgcolor": "#000",
        "plot_bgcolor": "#000",
        "title": "2 Blobs:Confidence after 800 Iters",
        "titlefont": {
         "color": "#FFF"
        },
        "width": 300,
        "xaxis": {
         "dtick": 1,
         "range": [
          -0.5,
          5.5
         ],
         "tickcolor": "#FFF",
         "title": "Glimpses"
        },
        "yaxis": {
         "dtick": 1,
         "range": [
          -0.5,
          5.5
         ],
         "tickcolor": "#FFF",
         "title": "Count Word"
        }
       }
      },
      "text/html": [
       "<div id=\"14e1bc50-2ca1-4bce-ac5f-1e75014dcac7\" style=\"height: 300px; width: 300px;\" class=\"plotly-graph-div\"></div><script type=\"text/javascript\">require([\"plotly\"], function(Plotly) { window.PLOTLYENV=window.PLOTLYENV || {};window.PLOTLYENV.BASE_URL=\"https://plot.ly\";Plotly.newPlot(\"14e1bc50-2ca1-4bce-ac5f-1e75014dcac7\", [{\"type\": \"heatmap\", \"colorscale\": \"Jet\", \"z\": [[0.2679670630618092, 0.5213412588027913, 0.624034906546972, 0.7722229746590799, 0.7858700888087964, 0.8529813419745539], [0.525477766636257, 0.3502200361596833, 0.2803866718851249, 0.16282201240018404, 0.15449517624248083, 0.101207366740751], [0.07220710968122933, 0.045482495856071906, 0.03405647394838555, 0.022786393497172427, 0.020790232578864302, 0.015726397094734047], [0.053985379647891275, 0.037670874537419415, 0.02995355704509999, 0.02181302948490542, 0.02072214264483666, 0.01652430841532258], [0.043108093280840976, 0.025664299810363157, 0.0183087883796847, 0.012166289107855596, 0.010828824342207223, 0.008261745201982088], [0.037254226565974595, 0.019620665015332456, 0.013259233669897423, 0.008188932619161267, 0.007293158303611981, 0.005298505954848862]]}], {\"titlefont\": {\"color\": \"#FFF\"}, \"plot_bgcolor\": \"#000\", \"yaxis\": {\"title\": \"Count Word\", \"range\": [-0.5, 5.5], \"dtick\": 1, \"tickcolor\": \"#FFF\"}, \"height\": 300, \"title\": \"2 Blobs:Confidence after 800 Iters\", \"xaxis\": {\"title\": \"Glimpses\", \"range\": [-0.5, 5.5], \"dtick\": 1, \"tickcolor\": \"#FFF\"}, \"width\": 300, \"font\": {\"color\": \"#FFF\"}, \"paper_bgcolor\": \"#000\"}, {\"linkText\": \"Export to plot.ly\", \"showLink\": true})});</script>"
      ],
      "text/vnd.plotly.v1+html": [
       "<div id=\"14e1bc50-2ca1-4bce-ac5f-1e75014dcac7\" style=\"height: 300px; width: 300px;\" class=\"plotly-graph-div\"></div><script type=\"text/javascript\">require([\"plotly\"], function(Plotly) { window.PLOTLYENV=window.PLOTLYENV || {};window.PLOTLYENV.BASE_URL=\"https://plot.ly\";Plotly.newPlot(\"14e1bc50-2ca1-4bce-ac5f-1e75014dcac7\", [{\"type\": \"heatmap\", \"colorscale\": \"Jet\", \"z\": [[0.2679670630618092, 0.5213412588027913, 0.624034906546972, 0.7722229746590799, 0.7858700888087964, 0.8529813419745539], [0.525477766636257, 0.3502200361596833, 0.2803866718851249, 0.16282201240018404, 0.15449517624248083, 0.101207366740751], [0.07220710968122933, 0.045482495856071906, 0.03405647394838555, 0.022786393497172427, 0.020790232578864302, 0.015726397094734047], [0.053985379647891275, 0.037670874537419415, 0.02995355704509999, 0.02181302948490542, 0.02072214264483666, 0.01652430841532258], [0.043108093280840976, 0.025664299810363157, 0.0183087883796847, 0.012166289107855596, 0.010828824342207223, 0.008261745201982088], [0.037254226565974595, 0.019620665015332456, 0.013259233669897423, 0.008188932619161267, 0.007293158303611981, 0.005298505954848862]]}], {\"titlefont\": {\"color\": \"#FFF\"}, \"plot_bgcolor\": \"#000\", \"yaxis\": {\"title\": \"Count Word\", \"range\": [-0.5, 5.5], \"dtick\": 1, \"tickcolor\": \"#FFF\"}, \"height\": 300, \"title\": \"2 Blobs:Confidence after 800 Iters\", \"xaxis\": {\"title\": \"Glimpses\", \"range\": [-0.5, 5.5], \"dtick\": 1, \"tickcolor\": \"#FFF\"}, \"width\": 300, \"font\": {\"color\": \"#FFF\"}, \"paper_bgcolor\": \"#000\"}, {\"linkText\": \"Export to plot.ly\", \"showLink\": true})});</script>"
      ]
     },
     "metadata": {},
     "output_type": "display_data"
    },
    {
     "data": {
      "application/vnd.plotly.v1+json": {
       "data": [
        {
         "colorscale": "Jet",
         "type": "heatmap",
         "z": [
          [
           0.009628268514050934,
           0.9593105778217106,
           0.9390312418523167,
           0.9734808143621712,
           0.9207194055452037,
           0.9542172196478084
          ],
          [
           0.9847419960599278,
           0.007442142860565991,
           0.0007207910204016413,
           2.2691179951745403e-05,
           4.662157861318445e-05,
           7.307842540923028e-06
          ],
          [
           0.0023472010209699646,
           0.010790478740315747,
           0.01881071794022273,
           0.00630801142566935,
           0.019932123662245706,
           0.009746883036722866
          ],
          [
           0.001207310699989006,
           0.011412584030590615,
           0.0247997856493332,
           0.012240186061540911,
           0.03794014210985576,
           0.022342163269443972
          ],
          [
           0.0010369294742568714,
           0.007866892351086783,
           0.012445902213248618,
           0.0064136844862247066,
           0.016754313291724894,
           0.011148232217233291
          ],
          [
           0.0010378118173295658,
           0.003176855331404288,
           0.0041910921624984665,
           0.0015341748087422849,
           0.004606948669460743,
           0.0025377298589428854
          ]
         ]
        }
       ],
       "layout": {
        "font": {
         "color": "#FFF"
        },
        "height": 300,
        "paper_bgcolor": "#000",
        "plot_bgcolor": "#000",
        "title": "2 Blobs:Confidence after 1600 Iters",
        "titlefont": {
         "color": "#FFF"
        },
        "width": 300,
        "xaxis": {
         "dtick": 1,
         "range": [
          -0.5,
          5.5
         ],
         "tickcolor": "#FFF",
         "title": "Glimpses"
        },
        "yaxis": {
         "dtick": 1,
         "range": [
          -0.5,
          5.5
         ],
         "tickcolor": "#FFF",
         "title": "Count Word"
        }
       }
      },
      "text/html": [
       "<div id=\"2308ebea-bca3-4439-a3eb-73fbc9a246b8\" style=\"height: 300px; width: 300px;\" class=\"plotly-graph-div\"></div><script type=\"text/javascript\">require([\"plotly\"], function(Plotly) { window.PLOTLYENV=window.PLOTLYENV || {};window.PLOTLYENV.BASE_URL=\"https://plot.ly\";Plotly.newPlot(\"2308ebea-bca3-4439-a3eb-73fbc9a246b8\", [{\"type\": \"heatmap\", \"colorscale\": \"Jet\", \"z\": [[0.009628268514050934, 0.9593105778217106, 0.9390312418523167, 0.9734808143621712, 0.9207194055452037, 0.9542172196478084], [0.9847419960599278, 0.007442142860565991, 0.0007207910204016413, 2.2691179951745403e-05, 4.662157861318445e-05, 7.307842540923028e-06], [0.0023472010209699646, 0.010790478740315747, 0.01881071794022273, 0.00630801142566935, 0.019932123662245706, 0.009746883036722866], [0.001207310699989006, 0.011412584030590615, 0.0247997856493332, 0.012240186061540911, 0.03794014210985576, 0.022342163269443972], [0.0010369294742568714, 0.007866892351086783, 0.012445902213248618, 0.0064136844862247066, 0.016754313291724894, 0.011148232217233291], [0.0010378118173295658, 0.003176855331404288, 0.0041910921624984665, 0.0015341748087422849, 0.004606948669460743, 0.0025377298589428854]]}], {\"titlefont\": {\"color\": \"#FFF\"}, \"plot_bgcolor\": \"#000\", \"yaxis\": {\"title\": \"Count Word\", \"range\": [-0.5, 5.5], \"dtick\": 1, \"tickcolor\": \"#FFF\"}, \"height\": 300, \"title\": \"2 Blobs:Confidence after 1600 Iters\", \"xaxis\": {\"title\": \"Glimpses\", \"range\": [-0.5, 5.5], \"dtick\": 1, \"tickcolor\": \"#FFF\"}, \"width\": 300, \"font\": {\"color\": \"#FFF\"}, \"paper_bgcolor\": \"#000\"}, {\"linkText\": \"Export to plot.ly\", \"showLink\": true})});</script>"
      ],
      "text/vnd.plotly.v1+html": [
       "<div id=\"2308ebea-bca3-4439-a3eb-73fbc9a246b8\" style=\"height: 300px; width: 300px;\" class=\"plotly-graph-div\"></div><script type=\"text/javascript\">require([\"plotly\"], function(Plotly) { window.PLOTLYENV=window.PLOTLYENV || {};window.PLOTLYENV.BASE_URL=\"https://plot.ly\";Plotly.newPlot(\"2308ebea-bca3-4439-a3eb-73fbc9a246b8\", [{\"type\": \"heatmap\", \"colorscale\": \"Jet\", \"z\": [[0.009628268514050934, 0.9593105778217106, 0.9390312418523167, 0.9734808143621712, 0.9207194055452037, 0.9542172196478084], [0.9847419960599278, 0.007442142860565991, 0.0007207910204016413, 2.2691179951745403e-05, 4.662157861318445e-05, 7.307842540923028e-06], [0.0023472010209699646, 0.010790478740315747, 0.01881071794022273, 0.00630801142566935, 0.019932123662245706, 0.009746883036722866], [0.001207310699989006, 0.011412584030590615, 0.0247997856493332, 0.012240186061540911, 0.03794014210985576, 0.022342163269443972], [0.0010369294742568714, 0.007866892351086783, 0.012445902213248618, 0.0064136844862247066, 0.016754313291724894, 0.011148232217233291], [0.0010378118173295658, 0.003176855331404288, 0.0041910921624984665, 0.0015341748087422849, 0.004606948669460743, 0.0025377298589428854]]}], {\"titlefont\": {\"color\": \"#FFF\"}, \"plot_bgcolor\": \"#000\", \"yaxis\": {\"title\": \"Count Word\", \"range\": [-0.5, 5.5], \"dtick\": 1, \"tickcolor\": \"#FFF\"}, \"height\": 300, \"title\": \"2 Blobs:Confidence after 1600 Iters\", \"xaxis\": {\"title\": \"Glimpses\", \"range\": [-0.5, 5.5], \"dtick\": 1, \"tickcolor\": \"#FFF\"}, \"width\": 300, \"font\": {\"color\": \"#FFF\"}, \"paper_bgcolor\": \"#000\"}, {\"linkText\": \"Export to plot.ly\", \"showLink\": true})});</script>"
      ]
     },
     "metadata": {},
     "output_type": "display_data"
    },
    {
     "data": {
      "application/vnd.plotly.v1+json": {
       "data": [
        {
         "colorscale": "Jet",
         "type": "heatmap",
         "z": [
          [
           0.003680163621326685,
           0.9922310603410048,
           0.9842283841940833,
           0.9388346349947104,
           0.8152265244190338,
           0.7161101623932153
          ],
          [
           0.9945394805525855,
           0.0003069320100347563,
           3.4136935743314904e-06,
           7.925136073470908e-07,
           1.9222729561765055e-07,
           5.99244377962837e-08
          ],
          [
           0.0014547675290909634,
           0.0013647356432401616,
           0.0004731194121267272,
           0.0006808295986483935,
           0.0009062181513591369,
           0.0006686681698162182
          ],
          [
           0.00014479105069787918,
           0.0035239025731527893,
           0.008840454633397653,
           0.033713007569660905,
           0.0964978955634585,
           0.12349960393954441
          ],
          [
           8.871587053576833e-05,
           0.0017300028372271353,
           0.004430306104196252,
           0.017470782637927677,
           0.055381128689261476,
           0.10375686905976764
          ],
          [
           9.168200936785603e-05,
           0.0008429506099368164,
           0.002023906410428524,
           0.009299555798872558,
           0.031987630223312816,
           0.05596423875870414
          ]
         ]
        }
       ],
       "layout": {
        "font": {
         "color": "#FFF"
        },
        "height": 300,
        "paper_bgcolor": "#000",
        "plot_bgcolor": "#000",
        "title": "2 Blobs:Confidence after 3200 Iters",
        "titlefont": {
         "color": "#FFF"
        },
        "width": 300,
        "xaxis": {
         "dtick": 1,
         "range": [
          -0.5,
          5.5
         ],
         "tickcolor": "#FFF",
         "title": "Glimpses"
        },
        "yaxis": {
         "dtick": 1,
         "range": [
          -0.5,
          5.5
         ],
         "tickcolor": "#FFF",
         "title": "Count Word"
        }
       }
      },
      "text/html": [
       "<div id=\"7164c505-0a0f-4616-9616-48285b0d9880\" style=\"height: 300px; width: 300px;\" class=\"plotly-graph-div\"></div><script type=\"text/javascript\">require([\"plotly\"], function(Plotly) { window.PLOTLYENV=window.PLOTLYENV || {};window.PLOTLYENV.BASE_URL=\"https://plot.ly\";Plotly.newPlot(\"7164c505-0a0f-4616-9616-48285b0d9880\", [{\"type\": \"heatmap\", \"colorscale\": \"Jet\", \"z\": [[0.003680163621326685, 0.9922310603410048, 0.9842283841940833, 0.9388346349947104, 0.8152265244190338, 0.7161101623932153], [0.9945394805525855, 0.0003069320100347563, 3.4136935743314904e-06, 7.925136073470908e-07, 1.9222729561765055e-07, 5.99244377962837e-08], [0.0014547675290909634, 0.0013647356432401616, 0.0004731194121267272, 0.0006808295986483935, 0.0009062181513591369, 0.0006686681698162182], [0.00014479105069787918, 0.0035239025731527893, 0.008840454633397653, 0.033713007569660905, 0.0964978955634585, 0.12349960393954441], [8.871587053576833e-05, 0.0017300028372271353, 0.004430306104196252, 0.017470782637927677, 0.055381128689261476, 0.10375686905976764], [9.168200936785603e-05, 0.0008429506099368164, 0.002023906410428524, 0.009299555798872558, 0.031987630223312816, 0.05596423875870414]]}], {\"titlefont\": {\"color\": \"#FFF\"}, \"plot_bgcolor\": \"#000\", \"yaxis\": {\"title\": \"Count Word\", \"range\": [-0.5, 5.5], \"dtick\": 1, \"tickcolor\": \"#FFF\"}, \"height\": 300, \"title\": \"2 Blobs:Confidence after 3200 Iters\", \"xaxis\": {\"title\": \"Glimpses\", \"range\": [-0.5, 5.5], \"dtick\": 1, \"tickcolor\": \"#FFF\"}, \"width\": 300, \"font\": {\"color\": \"#FFF\"}, \"paper_bgcolor\": \"#000\"}, {\"linkText\": \"Export to plot.ly\", \"showLink\": true})});</script>"
      ],
      "text/vnd.plotly.v1+html": [
       "<div id=\"7164c505-0a0f-4616-9616-48285b0d9880\" style=\"height: 300px; width: 300px;\" class=\"plotly-graph-div\"></div><script type=\"text/javascript\">require([\"plotly\"], function(Plotly) { window.PLOTLYENV=window.PLOTLYENV || {};window.PLOTLYENV.BASE_URL=\"https://plot.ly\";Plotly.newPlot(\"7164c505-0a0f-4616-9616-48285b0d9880\", [{\"type\": \"heatmap\", \"colorscale\": \"Jet\", \"z\": [[0.003680163621326685, 0.9922310603410048, 0.9842283841940833, 0.9388346349947104, 0.8152265244190338, 0.7161101623932153], [0.9945394805525855, 0.0003069320100347563, 3.4136935743314904e-06, 7.925136073470908e-07, 1.9222729561765055e-07, 5.99244377962837e-08], [0.0014547675290909634, 0.0013647356432401616, 0.0004731194121267272, 0.0006808295986483935, 0.0009062181513591369, 0.0006686681698162182], [0.00014479105069787918, 0.0035239025731527893, 0.008840454633397653, 0.033713007569660905, 0.0964978955634585, 0.12349960393954441], [8.871587053576833e-05, 0.0017300028372271353, 0.004430306104196252, 0.017470782637927677, 0.055381128689261476, 0.10375686905976764], [9.168200936785603e-05, 0.0008429506099368164, 0.002023906410428524, 0.009299555798872558, 0.031987630223312816, 0.05596423875870414]]}], {\"titlefont\": {\"color\": \"#FFF\"}, \"plot_bgcolor\": \"#000\", \"yaxis\": {\"title\": \"Count Word\", \"range\": [-0.5, 5.5], \"dtick\": 1, \"tickcolor\": \"#FFF\"}, \"height\": 300, \"title\": \"2 Blobs:Confidence after 3200 Iters\", \"xaxis\": {\"title\": \"Glimpses\", \"range\": [-0.5, 5.5], \"dtick\": 1, \"tickcolor\": \"#FFF\"}, \"width\": 300, \"font\": {\"color\": \"#FFF\"}, \"paper_bgcolor\": \"#000\"}, {\"linkText\": \"Export to plot.ly\", \"showLink\": true})});</script>"
      ]
     },
     "metadata": {},
     "output_type": "display_data"
    },
    {
     "data": {
      "application/vnd.plotly.v1+json": {
       "data": [
        {
         "colorscale": "Jet",
         "type": "heatmap",
         "z": [
          [
           2.161726720498822e-05,
           0.9335652098029811,
           0.9767308262151707,
           0.8845029773831963,
           0.7416401876769633,
           0.5761649831189066
          ],
          [
           0.9997101528083522,
           0.0018452223646296458,
           1.2620871506698687e-06,
           9.429792251224635e-08,
           4.683019898048831e-08,
           2.2725932820177645e-08
          ],
          [
           0.0002659009742051374,
           0.0584788560900116,
           0.0018566315272663077,
           0.0007477965753747304,
           0.0003308863580556506,
           0.00024673993666749833
          ],
          [
           1.3640630368888488e-06,
           0.005059333319806387,
           0.01365376317478099,
           0.04059489340020907,
           0.03747735588215125,
           0.036054543140057134
          ],
          [
           3.032251007791186e-07,
           0.0008145851596615631,
           0.006038683956866143,
           0.05003663252054711,
           0.1235867619885969,
           0.1808175889583648
          ],
          [
           2.3470181067937305e-07,
           0.00023640109839989,
           0.0017184545443667035,
           0.02411718491627644,
           0.09696433718701293,
           0.20671572165216653
          ]
         ]
        }
       ],
       "layout": {
        "font": {
         "color": "#FFF"
        },
        "height": 300,
        "paper_bgcolor": "#000",
        "plot_bgcolor": "#000",
        "title": "2 Blobs:Confidence after 6400 Iters",
        "titlefont": {
         "color": "#FFF"
        },
        "width": 300,
        "xaxis": {
         "dtick": 1,
         "range": [
          -0.5,
          5.5
         ],
         "tickcolor": "#FFF",
         "title": "Glimpses"
        },
        "yaxis": {
         "dtick": 1,
         "range": [
          -0.5,
          5.5
         ],
         "tickcolor": "#FFF",
         "title": "Count Word"
        }
       }
      },
      "text/html": [
       "<div id=\"1f102a6d-b952-47fc-815a-aa125f042ab3\" style=\"height: 300px; width: 300px;\" class=\"plotly-graph-div\"></div><script type=\"text/javascript\">require([\"plotly\"], function(Plotly) { window.PLOTLYENV=window.PLOTLYENV || {};window.PLOTLYENV.BASE_URL=\"https://plot.ly\";Plotly.newPlot(\"1f102a6d-b952-47fc-815a-aa125f042ab3\", [{\"type\": \"heatmap\", \"colorscale\": \"Jet\", \"z\": [[2.161726720498822e-05, 0.9335652098029811, 0.9767308262151707, 0.8845029773831963, 0.7416401876769633, 0.5761649831189066], [0.9997101528083522, 0.0018452223646296458, 1.2620871506698687e-06, 9.429792251224635e-08, 4.683019898048831e-08, 2.2725932820177645e-08], [0.0002659009742051374, 0.0584788560900116, 0.0018566315272663077, 0.0007477965753747304, 0.0003308863580556506, 0.00024673993666749833], [1.3640630368888488e-06, 0.005059333319806387, 0.01365376317478099, 0.04059489340020907, 0.03747735588215125, 0.036054543140057134], [3.032251007791186e-07, 0.0008145851596615631, 0.006038683956866143, 0.05003663252054711, 0.1235867619885969, 0.1808175889583648], [2.3470181067937305e-07, 0.00023640109839989, 0.0017184545443667035, 0.02411718491627644, 0.09696433718701293, 0.20671572165216653]]}], {\"titlefont\": {\"color\": \"#FFF\"}, \"plot_bgcolor\": \"#000\", \"yaxis\": {\"title\": \"Count Word\", \"range\": [-0.5, 5.5], \"dtick\": 1, \"tickcolor\": \"#FFF\"}, \"height\": 300, \"title\": \"2 Blobs:Confidence after 6400 Iters\", \"xaxis\": {\"title\": \"Glimpses\", \"range\": [-0.5, 5.5], \"dtick\": 1, \"tickcolor\": \"#FFF\"}, \"width\": 300, \"font\": {\"color\": \"#FFF\"}, \"paper_bgcolor\": \"#000\"}, {\"linkText\": \"Export to plot.ly\", \"showLink\": true})});</script>"
      ],
      "text/vnd.plotly.v1+html": [
       "<div id=\"1f102a6d-b952-47fc-815a-aa125f042ab3\" style=\"height: 300px; width: 300px;\" class=\"plotly-graph-div\"></div><script type=\"text/javascript\">require([\"plotly\"], function(Plotly) { window.PLOTLYENV=window.PLOTLYENV || {};window.PLOTLYENV.BASE_URL=\"https://plot.ly\";Plotly.newPlot(\"1f102a6d-b952-47fc-815a-aa125f042ab3\", [{\"type\": \"heatmap\", \"colorscale\": \"Jet\", \"z\": [[2.161726720498822e-05, 0.9335652098029811, 0.9767308262151707, 0.8845029773831963, 0.7416401876769633, 0.5761649831189066], [0.9997101528083522, 0.0018452223646296458, 1.2620871506698687e-06, 9.429792251224635e-08, 4.683019898048831e-08, 2.2725932820177645e-08], [0.0002659009742051374, 0.0584788560900116, 0.0018566315272663077, 0.0007477965753747304, 0.0003308863580556506, 0.00024673993666749833], [1.3640630368888488e-06, 0.005059333319806387, 0.01365376317478099, 0.04059489340020907, 0.03747735588215125, 0.036054543140057134], [3.032251007791186e-07, 0.0008145851596615631, 0.006038683956866143, 0.05003663252054711, 0.1235867619885969, 0.1808175889583648], [2.3470181067937305e-07, 0.00023640109839989, 0.0017184545443667035, 0.02411718491627644, 0.09696433718701293, 0.20671572165216653]]}], {\"titlefont\": {\"color\": \"#FFF\"}, \"plot_bgcolor\": \"#000\", \"yaxis\": {\"title\": \"Count Word\", \"range\": [-0.5, 5.5], \"dtick\": 1, \"tickcolor\": \"#FFF\"}, \"height\": 300, \"title\": \"2 Blobs:Confidence after 6400 Iters\", \"xaxis\": {\"title\": \"Glimpses\", \"range\": [-0.5, 5.5], \"dtick\": 1, \"tickcolor\": \"#FFF\"}, \"width\": 300, \"font\": {\"color\": \"#FFF\"}, \"paper_bgcolor\": \"#000\"}, {\"linkText\": \"Export to plot.ly\", \"showLink\": true})});</script>"
      ]
     },
     "metadata": {},
     "output_type": "display_data"
    },
    {
     "data": {
      "application/vnd.plotly.v1+json": {
       "data": [
        {
         "colorscale": "Jet",
         "type": "heatmap",
         "z": [
          [
           1.8936802337705677e-05,
           0.8767394784673186,
           0.9484053018490274,
           0.8820858929241513,
           0.772777230704807,
           0.6486129601160774
          ],
          [
           0.9998644002629316,
           0.0018240969556064593,
           3.61562171628186e-06,
           1.2779458512454397e-06,
           1.8960889743198096e-07,
           1.7649454445332248e-07
          ],
          [
           0.00011535276460780147,
           0.11893658044686913,
           0.0012237628681246945,
           0.00011108934927807783,
           3.159382436641901e-05,
           1.7015828482473366e-05
          ],
          [
           1.3482128983825187e-07,
           0.0020342606990231857,
           0.041008199160391584,
           0.026227073557102742,
           0.010867863805923247,
           0.005380619251378331
          ],
          [
           1.4540499248528e-07,
           0.00029052198511620456,
           0.007823171262181168,
           0.06318914008180791,
           0.09504505678708529,
           0.09874032250418535
          ],
          [
           4.763836359659323e-07,
           0.00017450054784432854,
           0.0015354217166461286,
           0.028384980058431906,
           0.12127752694158868,
           0.2472483532912523
          ]
         ]
        }
       ],
       "layout": {
        "font": {
         "color": "#FFF"
        },
        "height": 300,
        "paper_bgcolor": "#000",
        "plot_bgcolor": "#000",
        "title": "2 Blobs:Confidence after 12800 Iters",
        "titlefont": {
         "color": "#FFF"
        },
        "width": 300,
        "xaxis": {
         "dtick": 1,
         "range": [
          -0.5,
          5.5
         ],
         "tickcolor": "#FFF",
         "title": "Glimpses"
        },
        "yaxis": {
         "dtick": 1,
         "range": [
          -0.5,
          5.5
         ],
         "tickcolor": "#FFF",
         "title": "Count Word"
        }
       }
      },
      "text/html": [
       "<div id=\"b5ff29a4-306d-45ab-9992-5f2e3b51dbf2\" style=\"height: 300px; width: 300px;\" class=\"plotly-graph-div\"></div><script type=\"text/javascript\">require([\"plotly\"], function(Plotly) { window.PLOTLYENV=window.PLOTLYENV || {};window.PLOTLYENV.BASE_URL=\"https://plot.ly\";Plotly.newPlot(\"b5ff29a4-306d-45ab-9992-5f2e3b51dbf2\", [{\"type\": \"heatmap\", \"colorscale\": \"Jet\", \"z\": [[1.8936802337705677e-05, 0.8767394784673186, 0.9484053018490274, 0.8820858929241513, 0.772777230704807, 0.6486129601160774], [0.9998644002629316, 0.0018240969556064593, 3.61562171628186e-06, 1.2779458512454397e-06, 1.8960889743198096e-07, 1.7649454445332248e-07], [0.00011535276460780147, 0.11893658044686913, 0.0012237628681246945, 0.00011108934927807783, 3.159382436641901e-05, 1.7015828482473366e-05], [1.3482128983825187e-07, 0.0020342606990231857, 0.041008199160391584, 0.026227073557102742, 0.010867863805923247, 0.005380619251378331], [1.4540499248528e-07, 0.00029052198511620456, 0.007823171262181168, 0.06318914008180791, 0.09504505678708529, 0.09874032250418535], [4.763836359659323e-07, 0.00017450054784432854, 0.0015354217166461286, 0.028384980058431906, 0.12127752694158868, 0.2472483532912523]]}], {\"titlefont\": {\"color\": \"#FFF\"}, \"plot_bgcolor\": \"#000\", \"yaxis\": {\"title\": \"Count Word\", \"range\": [-0.5, 5.5], \"dtick\": 1, \"tickcolor\": \"#FFF\"}, \"height\": 300, \"title\": \"2 Blobs:Confidence after 12800 Iters\", \"xaxis\": {\"title\": \"Glimpses\", \"range\": [-0.5, 5.5], \"dtick\": 1, \"tickcolor\": \"#FFF\"}, \"width\": 300, \"font\": {\"color\": \"#FFF\"}, \"paper_bgcolor\": \"#000\"}, {\"linkText\": \"Export to plot.ly\", \"showLink\": true})});</script>"
      ],
      "text/vnd.plotly.v1+html": [
       "<div id=\"b5ff29a4-306d-45ab-9992-5f2e3b51dbf2\" style=\"height: 300px; width: 300px;\" class=\"plotly-graph-div\"></div><script type=\"text/javascript\">require([\"plotly\"], function(Plotly) { window.PLOTLYENV=window.PLOTLYENV || {};window.PLOTLYENV.BASE_URL=\"https://plot.ly\";Plotly.newPlot(\"b5ff29a4-306d-45ab-9992-5f2e3b51dbf2\", [{\"type\": \"heatmap\", \"colorscale\": \"Jet\", \"z\": [[1.8936802337705677e-05, 0.8767394784673186, 0.9484053018490274, 0.8820858929241513, 0.772777230704807, 0.6486129601160774], [0.9998644002629316, 0.0018240969556064593, 3.61562171628186e-06, 1.2779458512454397e-06, 1.8960889743198096e-07, 1.7649454445332248e-07], [0.00011535276460780147, 0.11893658044686913, 0.0012237628681246945, 0.00011108934927807783, 3.159382436641901e-05, 1.7015828482473366e-05], [1.3482128983825187e-07, 0.0020342606990231857, 0.041008199160391584, 0.026227073557102742, 0.010867863805923247, 0.005380619251378331], [1.4540499248528e-07, 0.00029052198511620456, 0.007823171262181168, 0.06318914008180791, 0.09504505678708529, 0.09874032250418535], [4.763836359659323e-07, 0.00017450054784432854, 0.0015354217166461286, 0.028384980058431906, 0.12127752694158868, 0.2472483532912523]]}], {\"titlefont\": {\"color\": \"#FFF\"}, \"plot_bgcolor\": \"#000\", \"yaxis\": {\"title\": \"Count Word\", \"range\": [-0.5, 5.5], \"dtick\": 1, \"tickcolor\": \"#FFF\"}, \"height\": 300, \"title\": \"2 Blobs:Confidence after 12800 Iters\", \"xaxis\": {\"title\": \"Glimpses\", \"range\": [-0.5, 5.5], \"dtick\": 1, \"tickcolor\": \"#FFF\"}, \"width\": 300, \"font\": {\"color\": \"#FFF\"}, \"paper_bgcolor\": \"#000\"}, {\"linkText\": \"Export to plot.ly\", \"showLink\": true})});</script>"
      ]
     },
     "metadata": {},
     "output_type": "display_data"
    },
    {
     "data": {
      "application/vnd.plotly.v1+json": {
       "data": [
        {
         "colorscale": "Jet",
         "type": "heatmap",
         "z": [
          [
           4.271647343464593e-05,
           0.8890183138772166,
           0.9977182764132312,
           0.9784330005829992,
           0.9569246335467317,
           0.9785220349766153
          ],
          [
           0.9999397076307398,
           0.0020274175989610627,
           0.00017777432868970594,
           0.0001757266499278126,
           0.0010476950886400425,
           0.0003297109581030635
          ],
          [
           1.522283479849472e-05,
           0.10850926846978727,
           1.9239333913050655e-05,
           3.2731350591575133e-06,
           8.125189119145983e-06,
           1.409860968734152e-05
          ],
          [
           3.5667332161703054e-08,
           0.000344209847724992,
           0.0004618518048066882,
           4.9569844076077085e-05,
           1.6936445935325882e-05,
           1.6336665402216763e-05
          ],
          [
           2.908798267593738e-07,
           5.3827553536384126e-05,
           0.0013008678274130478,
           0.011505302866583278,
           0.00393653595153089,
           0.0013305807454394192
          ],
          [
           1.5070926653268962e-06,
           4.645096527229888e-05,
           0.00032145279954370795,
           0.009832605698527778,
           0.03806558651960813,
           0.019786734578272108
          ]
         ]
        }
       ],
       "layout": {
        "font": {
         "color": "#FFF"
        },
        "height": 300,
        "paper_bgcolor": "#000",
        "plot_bgcolor": "#000",
        "title": "2 Blobs:Confidence after 25600 Iters",
        "titlefont": {
         "color": "#FFF"
        },
        "width": 300,
        "xaxis": {
         "dtick": 1,
         "range": [
          -0.5,
          5.5
         ],
         "tickcolor": "#FFF",
         "title": "Glimpses"
        },
        "yaxis": {
         "dtick": 1,
         "range": [
          -0.5,
          5.5
         ],
         "tickcolor": "#FFF",
         "title": "Count Word"
        }
       }
      },
      "text/html": [
       "<div id=\"27a9199f-0074-4d87-acb3-613f571375fb\" style=\"height: 300px; width: 300px;\" class=\"plotly-graph-div\"></div><script type=\"text/javascript\">require([\"plotly\"], function(Plotly) { window.PLOTLYENV=window.PLOTLYENV || {};window.PLOTLYENV.BASE_URL=\"https://plot.ly\";Plotly.newPlot(\"27a9199f-0074-4d87-acb3-613f571375fb\", [{\"type\": \"heatmap\", \"colorscale\": \"Jet\", \"z\": [[4.271647343464593e-05, 0.8890183138772166, 0.9977182764132312, 0.9784330005829992, 0.9569246335467317, 0.9785220349766153], [0.9999397076307398, 0.0020274175989610627, 0.00017777432868970594, 0.0001757266499278126, 0.0010476950886400425, 0.0003297109581030635], [1.522283479849472e-05, 0.10850926846978727, 1.9239333913050655e-05, 3.2731350591575133e-06, 8.125189119145983e-06, 1.409860968734152e-05], [3.5667332161703054e-08, 0.000344209847724992, 0.0004618518048066882, 4.9569844076077085e-05, 1.6936445935325882e-05, 1.6336665402216763e-05], [2.908798267593738e-07, 5.3827553536384126e-05, 0.0013008678274130478, 0.011505302866583278, 0.00393653595153089, 0.0013305807454394192], [1.5070926653268962e-06, 4.645096527229888e-05, 0.00032145279954370795, 0.009832605698527778, 0.03806558651960813, 0.019786734578272108]]}], {\"titlefont\": {\"color\": \"#FFF\"}, \"plot_bgcolor\": \"#000\", \"yaxis\": {\"title\": \"Count Word\", \"range\": [-0.5, 5.5], \"dtick\": 1, \"tickcolor\": \"#FFF\"}, \"height\": 300, \"title\": \"2 Blobs:Confidence after 25600 Iters\", \"xaxis\": {\"title\": \"Glimpses\", \"range\": [-0.5, 5.5], \"dtick\": 1, \"tickcolor\": \"#FFF\"}, \"width\": 300, \"font\": {\"color\": \"#FFF\"}, \"paper_bgcolor\": \"#000\"}, {\"linkText\": \"Export to plot.ly\", \"showLink\": true})});</script>"
      ],
      "text/vnd.plotly.v1+html": [
       "<div id=\"27a9199f-0074-4d87-acb3-613f571375fb\" style=\"height: 300px; width: 300px;\" class=\"plotly-graph-div\"></div><script type=\"text/javascript\">require([\"plotly\"], function(Plotly) { window.PLOTLYENV=window.PLOTLYENV || {};window.PLOTLYENV.BASE_URL=\"https://plot.ly\";Plotly.newPlot(\"27a9199f-0074-4d87-acb3-613f571375fb\", [{\"type\": \"heatmap\", \"colorscale\": \"Jet\", \"z\": [[4.271647343464593e-05, 0.8890183138772166, 0.9977182764132312, 0.9784330005829992, 0.9569246335467317, 0.9785220349766153], [0.9999397076307398, 0.0020274175989610627, 0.00017777432868970594, 0.0001757266499278126, 0.0010476950886400425, 0.0003297109581030635], [1.522283479849472e-05, 0.10850926846978727, 1.9239333913050655e-05, 3.2731350591575133e-06, 8.125189119145983e-06, 1.409860968734152e-05], [3.5667332161703054e-08, 0.000344209847724992, 0.0004618518048066882, 4.9569844076077085e-05, 1.6936445935325882e-05, 1.6336665402216763e-05], [2.908798267593738e-07, 5.3827553536384126e-05, 0.0013008678274130478, 0.011505302866583278, 0.00393653595153089, 0.0013305807454394192], [1.5070926653268962e-06, 4.645096527229888e-05, 0.00032145279954370795, 0.009832605698527778, 0.03806558651960813, 0.019786734578272108]]}], {\"titlefont\": {\"color\": \"#FFF\"}, \"plot_bgcolor\": \"#000\", \"yaxis\": {\"title\": \"Count Word\", \"range\": [-0.5, 5.5], \"dtick\": 1, \"tickcolor\": \"#FFF\"}, \"height\": 300, \"title\": \"2 Blobs:Confidence after 25600 Iters\", \"xaxis\": {\"title\": \"Glimpses\", \"range\": [-0.5, 5.5], \"dtick\": 1, \"tickcolor\": \"#FFF\"}, \"width\": 300, \"font\": {\"color\": \"#FFF\"}, \"paper_bgcolor\": \"#000\"}, {\"linkText\": \"Export to plot.ly\", \"showLink\": true})});</script>"
      ]
     },
     "metadata": {},
     "output_type": "display_data"
    },
    {
     "data": {
      "application/vnd.plotly.v1+json": {
       "data": [
        {
         "colorscale": "Jet",
         "type": "heatmap",
         "z": [
          [
           9.444033832524352e-06,
           0.7096554404728048,
           0.9955920996643619,
           0.9939036798849975,
           0.9629314241932246,
           0.9877414713343446
          ],
          [
           0.9999861585047743,
           0.00041310445202931585,
           7.839821909227414e-06,
           6.476477512284749e-05,
           0.0003828019357328447,
           0.00042121302335886387
          ],
          [
           2.9625097174422338e-06,
           0.2894917845164142,
           4.067661949920013e-05,
           1.8314653797474255e-06,
           1.1854726278986545e-05,
           2.6038917631230635e-05
          ],
          [
           8.437742909573322e-09,
           0.0004209677747525651,
           0.00424965375535349,
           8.790827340861956e-05,
           6.88839765356463e-06,
           9.56916978183127e-06
          ],
          [
           2.5681972459769638e-08,
           2.434512282216354e-06,
           9.418678973309318e-05,
           0.00410542515924258,
           0.0003424075635842695,
           4.462232583149451e-05
          ],
          [
           8.136835528883171e-07,
           1.5698758423296968e-05,
           1.4968529053705347e-05,
           0.0018358123458245348,
           0.03632403692250433,
           0.01175649438193631
          ]
         ]
        }
       ],
       "layout": {
        "font": {
         "color": "#FFF"
        },
        "height": 300,
        "paper_bgcolor": "#000",
        "plot_bgcolor": "#000",
        "title": "2 Blobs:Confidence after 51200 Iters",
        "titlefont": {
         "color": "#FFF"
        },
        "width": 300,
        "xaxis": {
         "dtick": 1,
         "range": [
          -0.5,
          5.5
         ],
         "tickcolor": "#FFF",
         "title": "Glimpses"
        },
        "yaxis": {
         "dtick": 1,
         "range": [
          -0.5,
          5.5
         ],
         "tickcolor": "#FFF",
         "title": "Count Word"
        }
       }
      },
      "text/html": [
       "<div id=\"b69967ad-98d8-4f3a-8ea6-597acb7e33fe\" style=\"height: 300px; width: 300px;\" class=\"plotly-graph-div\"></div><script type=\"text/javascript\">require([\"plotly\"], function(Plotly) { window.PLOTLYENV=window.PLOTLYENV || {};window.PLOTLYENV.BASE_URL=\"https://plot.ly\";Plotly.newPlot(\"b69967ad-98d8-4f3a-8ea6-597acb7e33fe\", [{\"type\": \"heatmap\", \"colorscale\": \"Jet\", \"z\": [[9.444033832524352e-06, 0.7096554404728048, 0.9955920996643619, 0.9939036798849975, 0.9629314241932246, 0.9877414713343446], [0.9999861585047743, 0.00041310445202931585, 7.839821909227414e-06, 6.476477512284749e-05, 0.0003828019357328447, 0.00042121302335886387], [2.9625097174422338e-06, 0.2894917845164142, 4.067661949920013e-05, 1.8314653797474255e-06, 1.1854726278986545e-05, 2.6038917631230635e-05], [8.437742909573322e-09, 0.0004209677747525651, 0.00424965375535349, 8.790827340861956e-05, 6.88839765356463e-06, 9.56916978183127e-06], [2.5681972459769638e-08, 2.434512282216354e-06, 9.418678973309318e-05, 0.00410542515924258, 0.0003424075635842695, 4.462232583149451e-05], [8.136835528883171e-07, 1.5698758423296968e-05, 1.4968529053705347e-05, 0.0018358123458245348, 0.03632403692250433, 0.01175649438193631]]}], {\"titlefont\": {\"color\": \"#FFF\"}, \"plot_bgcolor\": \"#000\", \"yaxis\": {\"title\": \"Count Word\", \"range\": [-0.5, 5.5], \"dtick\": 1, \"tickcolor\": \"#FFF\"}, \"height\": 300, \"title\": \"2 Blobs:Confidence after 51200 Iters\", \"xaxis\": {\"title\": \"Glimpses\", \"range\": [-0.5, 5.5], \"dtick\": 1, \"tickcolor\": \"#FFF\"}, \"width\": 300, \"font\": {\"color\": \"#FFF\"}, \"paper_bgcolor\": \"#000\"}, {\"linkText\": \"Export to plot.ly\", \"showLink\": true})});</script>"
      ],
      "text/vnd.plotly.v1+html": [
       "<div id=\"b69967ad-98d8-4f3a-8ea6-597acb7e33fe\" style=\"height: 300px; width: 300px;\" class=\"plotly-graph-div\"></div><script type=\"text/javascript\">require([\"plotly\"], function(Plotly) { window.PLOTLYENV=window.PLOTLYENV || {};window.PLOTLYENV.BASE_URL=\"https://plot.ly\";Plotly.newPlot(\"b69967ad-98d8-4f3a-8ea6-597acb7e33fe\", [{\"type\": \"heatmap\", \"colorscale\": \"Jet\", \"z\": [[9.444033832524352e-06, 0.7096554404728048, 0.9955920996643619, 0.9939036798849975, 0.9629314241932246, 0.9877414713343446], [0.9999861585047743, 0.00041310445202931585, 7.839821909227414e-06, 6.476477512284749e-05, 0.0003828019357328447, 0.00042121302335886387], [2.9625097174422338e-06, 0.2894917845164142, 4.067661949920013e-05, 1.8314653797474255e-06, 1.1854726278986545e-05, 2.6038917631230635e-05], [8.437742909573322e-09, 0.0004209677747525651, 0.00424965375535349, 8.790827340861956e-05, 6.88839765356463e-06, 9.56916978183127e-06], [2.5681972459769638e-08, 2.434512282216354e-06, 9.418678973309318e-05, 0.00410542515924258, 0.0003424075635842695, 4.462232583149451e-05], [8.136835528883171e-07, 1.5698758423296968e-05, 1.4968529053705347e-05, 0.0018358123458245348, 0.03632403692250433, 0.01175649438193631]]}], {\"titlefont\": {\"color\": \"#FFF\"}, \"plot_bgcolor\": \"#000\", \"yaxis\": {\"title\": \"Count Word\", \"range\": [-0.5, 5.5], \"dtick\": 1, \"tickcolor\": \"#FFF\"}, \"height\": 300, \"title\": \"2 Blobs:Confidence after 51200 Iters\", \"xaxis\": {\"title\": \"Glimpses\", \"range\": [-0.5, 5.5], \"dtick\": 1, \"tickcolor\": \"#FFF\"}, \"width\": 300, \"font\": {\"color\": \"#FFF\"}, \"paper_bgcolor\": \"#000\"}, {\"linkText\": \"Export to plot.ly\", \"showLink\": true})});</script>"
      ]
     },
     "metadata": {},
     "output_type": "display_data"
    },
    {
     "data": {
      "application/vnd.plotly.v1+json": {
       "data": [
        {
         "colorscale": "Jet",
         "type": "heatmap",
         "z": [
          [
           3.799301701695629e-05,
           0.42345419796191597,
           0.6404407042766528,
           0.9360114724895896,
           0.7533575424954934,
           0.9925862744947047
          ],
          [
           0.999930611572544,
           6.996176106712591e-05,
           1.635144303133566e-08,
           2.204200322862602e-05,
           0.0004581938690991568,
           3.1662733082435355e-05
          ],
          [
           2.5281921065062732e-05,
           0.576157307549602,
           0.00026826507625538515,
           6.292314210013277e-07,
           3.3559843989245186e-05,
           0.00012471505281657204
          ],
          [
           6.42338125780317e-08,
           0.00030840458066645185,
           0.35919119410821887,
           0.0002538189855571664,
           7.25311328048366e-06,
           4.112893938125997e-05
          ],
          [
           8.220330977254854e-08,
           1.7038425135358096e-06,
           9.553609853738733e-05,
           0.061110306274471185,
           0.0002779751598130481,
           1.6801722416826766e-05
          ],
          [
           5.59689689813076e-06,
           8.04999100782539e-06,
           3.897837429583581e-06,
           0.002601366376147578,
           0.2458650669671862,
           0.007199018852726974
          ]
         ]
        }
       ],
       "layout": {
        "font": {
         "color": "#FFF"
        },
        "height": 300,
        "paper_bgcolor": "#000",
        "plot_bgcolor": "#000",
        "title": "2 Blobs:Confidence after 102400 Iters",
        "titlefont": {
         "color": "#FFF"
        },
        "width": 300,
        "xaxis": {
         "dtick": 1,
         "range": [
          -0.5,
          5.5
         ],
         "tickcolor": "#FFF",
         "title": "Glimpses"
        },
        "yaxis": {
         "dtick": 1,
         "range": [
          -0.5,
          5.5
         ],
         "tickcolor": "#FFF",
         "title": "Count Word"
        }
       }
      },
      "text/html": [
       "<div id=\"e563ddaf-541d-4566-b841-9701d8d672c6\" style=\"height: 300px; width: 300px;\" class=\"plotly-graph-div\"></div><script type=\"text/javascript\">require([\"plotly\"], function(Plotly) { window.PLOTLYENV=window.PLOTLYENV || {};window.PLOTLYENV.BASE_URL=\"https://plot.ly\";Plotly.newPlot(\"e563ddaf-541d-4566-b841-9701d8d672c6\", [{\"type\": \"heatmap\", \"colorscale\": \"Jet\", \"z\": [[3.799301701695629e-05, 0.42345419796191597, 0.6404407042766528, 0.9360114724895896, 0.7533575424954934, 0.9925862744947047], [0.999930611572544, 6.996176106712591e-05, 1.635144303133566e-08, 2.204200322862602e-05, 0.0004581938690991568, 3.1662733082435355e-05], [2.5281921065062732e-05, 0.576157307549602, 0.00026826507625538515, 6.292314210013277e-07, 3.3559843989245186e-05, 0.00012471505281657204], [6.42338125780317e-08, 0.00030840458066645185, 0.35919119410821887, 0.0002538189855571664, 7.25311328048366e-06, 4.112893938125997e-05], [8.220330977254854e-08, 1.7038425135358096e-06, 9.553609853738733e-05, 0.061110306274471185, 0.0002779751598130481, 1.6801722416826766e-05], [5.59689689813076e-06, 8.04999100782539e-06, 3.897837429583581e-06, 0.002601366376147578, 0.2458650669671862, 0.007199018852726974]]}], {\"titlefont\": {\"color\": \"#FFF\"}, \"plot_bgcolor\": \"#000\", \"yaxis\": {\"title\": \"Count Word\", \"range\": [-0.5, 5.5], \"dtick\": 1, \"tickcolor\": \"#FFF\"}, \"height\": 300, \"title\": \"2 Blobs:Confidence after 102400 Iters\", \"xaxis\": {\"title\": \"Glimpses\", \"range\": [-0.5, 5.5], \"dtick\": 1, \"tickcolor\": \"#FFF\"}, \"width\": 300, \"font\": {\"color\": \"#FFF\"}, \"paper_bgcolor\": \"#000\"}, {\"linkText\": \"Export to plot.ly\", \"showLink\": true})});</script>"
      ],
      "text/vnd.plotly.v1+html": [
       "<div id=\"e563ddaf-541d-4566-b841-9701d8d672c6\" style=\"height: 300px; width: 300px;\" class=\"plotly-graph-div\"></div><script type=\"text/javascript\">require([\"plotly\"], function(Plotly) { window.PLOTLYENV=window.PLOTLYENV || {};window.PLOTLYENV.BASE_URL=\"https://plot.ly\";Plotly.newPlot(\"e563ddaf-541d-4566-b841-9701d8d672c6\", [{\"type\": \"heatmap\", \"colorscale\": \"Jet\", \"z\": [[3.799301701695629e-05, 0.42345419796191597, 0.6404407042766528, 0.9360114724895896, 0.7533575424954934, 0.9925862744947047], [0.999930611572544, 6.996176106712591e-05, 1.635144303133566e-08, 2.204200322862602e-05, 0.0004581938690991568, 3.1662733082435355e-05], [2.5281921065062732e-05, 0.576157307549602, 0.00026826507625538515, 6.292314210013277e-07, 3.3559843989245186e-05, 0.00012471505281657204], [6.42338125780317e-08, 0.00030840458066645185, 0.35919119410821887, 0.0002538189855571664, 7.25311328048366e-06, 4.112893938125997e-05], [8.220330977254854e-08, 1.7038425135358096e-06, 9.553609853738733e-05, 0.061110306274471185, 0.0002779751598130481, 1.6801722416826766e-05], [5.59689689813076e-06, 8.04999100782539e-06, 3.897837429583581e-06, 0.002601366376147578, 0.2458650669671862, 0.007199018852726974]]}], {\"titlefont\": {\"color\": \"#FFF\"}, \"plot_bgcolor\": \"#000\", \"yaxis\": {\"title\": \"Count Word\", \"range\": [-0.5, 5.5], \"dtick\": 1, \"tickcolor\": \"#FFF\"}, \"height\": 300, \"title\": \"2 Blobs:Confidence after 102400 Iters\", \"xaxis\": {\"title\": \"Glimpses\", \"range\": [-0.5, 5.5], \"dtick\": 1, \"tickcolor\": \"#FFF\"}, \"width\": 300, \"font\": {\"color\": \"#FFF\"}, \"paper_bgcolor\": \"#000\"}, {\"linkText\": \"Export to plot.ly\", \"showLink\": true})});</script>"
      ]
     },
     "metadata": {},
     "output_type": "display_data"
    },
    {
     "data": {
      "application/vnd.plotly.v1+json": {
       "data": [
        {
         "colorscale": "Jet",
         "type": "heatmap",
         "z": [
          [
           2.9381956762387058e-05,
           0.13043419326943906,
           0.33940743048656996,
           0.8833151221387128,
           0.9675265308980944,
           0.9946634098840051
          ],
          [
           0.9999429900682613,
           3.0997216730870812e-06,
           8.064983109074005e-10,
           3.6365107013206315e-07,
           6.447700173647317e-05,
           8.209325631057387e-06
          ],
          [
           2.4069691428135188e-05,
           0.869232741508666,
           0.00020739877215484044,
           2.6666681437320253e-07,
           2.3066447002302206e-06,
           1.7617896398729205e-05
          ],
          [
           7.499512762025981e-08,
           0.0003269436630792571,
           0.6602226975743524,
           0.0003644976941875571,
           5.0342227416179286e-06,
           6.8002309680184105e-06
          ],
          [
           1.658715542967356e-07,
           2.007294587450462e-06,
           0.0001616630871544681,
           0.11605819889038875,
           0.0034873367153849997,
           6.580784525518575e-05
          ],
          [
           2.909533779723511e-06,
           5.570055568782077e-07,
           3.7227867053859865e-07,
           0.0002611181132866154,
           0.028913895580893714,
           0.005237703492949473
          ]
         ]
        }
       ],
       "layout": {
        "font": {
         "color": "#FFF"
        },
        "height": 300,
        "paper_bgcolor": "#000",
        "plot_bgcolor": "#000",
        "title": "2 Blobs:Confidence after 153600 Iters",
        "titlefont": {
         "color": "#FFF"
        },
        "width": 300,
        "xaxis": {
         "dtick": 1,
         "range": [
          -0.5,
          5.5
         ],
         "tickcolor": "#FFF",
         "title": "Glimpses"
        },
        "yaxis": {
         "dtick": 1,
         "range": [
          -0.5,
          5.5
         ],
         "tickcolor": "#FFF",
         "title": "Count Word"
        }
       }
      },
      "text/html": [
       "<div id=\"9ea91ec7-54aa-4748-9472-95fb730594d6\" style=\"height: 300px; width: 300px;\" class=\"plotly-graph-div\"></div><script type=\"text/javascript\">require([\"plotly\"], function(Plotly) { window.PLOTLYENV=window.PLOTLYENV || {};window.PLOTLYENV.BASE_URL=\"https://plot.ly\";Plotly.newPlot(\"9ea91ec7-54aa-4748-9472-95fb730594d6\", [{\"type\": \"heatmap\", \"colorscale\": \"Jet\", \"z\": [[2.9381956762387058e-05, 0.13043419326943906, 0.33940743048656996, 0.8833151221387128, 0.9675265308980944, 0.9946634098840051], [0.9999429900682613, 3.0997216730870812e-06, 8.064983109074005e-10, 3.6365107013206315e-07, 6.447700173647317e-05, 8.209325631057387e-06], [2.4069691428135188e-05, 0.869232741508666, 0.00020739877215484044, 2.6666681437320253e-07, 2.3066447002302206e-06, 1.7617896398729205e-05], [7.499512762025981e-08, 0.0003269436630792571, 0.6602226975743524, 0.0003644976941875571, 5.0342227416179286e-06, 6.8002309680184105e-06], [1.658715542967356e-07, 2.007294587450462e-06, 0.0001616630871544681, 0.11605819889038875, 0.0034873367153849997, 6.580784525518575e-05], [2.909533779723511e-06, 5.570055568782077e-07, 3.7227867053859865e-07, 0.0002611181132866154, 0.028913895580893714, 0.005237703492949473]]}], {\"titlefont\": {\"color\": \"#FFF\"}, \"plot_bgcolor\": \"#000\", \"yaxis\": {\"title\": \"Count Word\", \"range\": [-0.5, 5.5], \"dtick\": 1, \"tickcolor\": \"#FFF\"}, \"height\": 300, \"title\": \"2 Blobs:Confidence after 153600 Iters\", \"xaxis\": {\"title\": \"Glimpses\", \"range\": [-0.5, 5.5], \"dtick\": 1, \"tickcolor\": \"#FFF\"}, \"width\": 300, \"font\": {\"color\": \"#FFF\"}, \"paper_bgcolor\": \"#000\"}, {\"linkText\": \"Export to plot.ly\", \"showLink\": true})});</script>"
      ],
      "text/vnd.plotly.v1+html": [
       "<div id=\"9ea91ec7-54aa-4748-9472-95fb730594d6\" style=\"height: 300px; width: 300px;\" class=\"plotly-graph-div\"></div><script type=\"text/javascript\">require([\"plotly\"], function(Plotly) { window.PLOTLYENV=window.PLOTLYENV || {};window.PLOTLYENV.BASE_URL=\"https://plot.ly\";Plotly.newPlot(\"9ea91ec7-54aa-4748-9472-95fb730594d6\", [{\"type\": \"heatmap\", \"colorscale\": \"Jet\", \"z\": [[2.9381956762387058e-05, 0.13043419326943906, 0.33940743048656996, 0.8833151221387128, 0.9675265308980944, 0.9946634098840051], [0.9999429900682613, 3.0997216730870812e-06, 8.064983109074005e-10, 3.6365107013206315e-07, 6.447700173647317e-05, 8.209325631057387e-06], [2.4069691428135188e-05, 0.869232741508666, 0.00020739877215484044, 2.6666681437320253e-07, 2.3066447002302206e-06, 1.7617896398729205e-05], [7.499512762025981e-08, 0.0003269436630792571, 0.6602226975743524, 0.0003644976941875571, 5.0342227416179286e-06, 6.8002309680184105e-06], [1.658715542967356e-07, 2.007294587450462e-06, 0.0001616630871544681, 0.11605819889038875, 0.0034873367153849997, 6.580784525518575e-05], [2.909533779723511e-06, 5.570055568782077e-07, 3.7227867053859865e-07, 0.0002611181132866154, 0.028913895580893714, 0.005237703492949473]]}], {\"titlefont\": {\"color\": \"#FFF\"}, \"plot_bgcolor\": \"#000\", \"yaxis\": {\"title\": \"Count Word\", \"range\": [-0.5, 5.5], \"dtick\": 1, \"tickcolor\": \"#FFF\"}, \"height\": 300, \"title\": \"2 Blobs:Confidence after 153600 Iters\", \"xaxis\": {\"title\": \"Glimpses\", \"range\": [-0.5, 5.5], \"dtick\": 1, \"tickcolor\": \"#FFF\"}, \"width\": 300, \"font\": {\"color\": \"#FFF\"}, \"paper_bgcolor\": \"#000\"}, {\"linkText\": \"Export to plot.ly\", \"showLink\": true})});</script>"
      ]
     },
     "metadata": {},
     "output_type": "display_data"
    },
    {
     "data": {
      "application/vnd.plotly.v1+json": {
       "data": [
        {
         "colorscale": "Jet",
         "type": "heatmap",
         "z": [
          [
           1.4456035092462707e-05,
           0.37617842562697806,
           0.459910017451364,
           0.9684996688124823,
           0.9756364932171443,
           0.9988566750276688
          ],
          [
           0.9999631750385569,
           0.00017662941560724586,
           1.1868805163702872e-08,
           3.3588352251079282e-06,
           0.0001685601596698206,
           5.521178116033254e-07
          ],
          [
           1.6885935127658934e-05,
           0.6233918110110886,
           0.00045772673401043684,
           5.130728481733451e-07,
           4.362468077395141e-06,
           8.672050907726463e-05
          ],
          [
           1.8267752425484716e-08,
           0.00024360730890340835,
           0.5395912738747333,
           0.00023506465385338127,
           1.2604467064466969e-06,
           5.560369278484219e-06
          ],
          [
           5.131539041173951e-08,
           1.163180996339657e-06,
           3.98796713508382e-05,
           0.031053811767668107,
           0.000133103543122821,
           8.416825898716805e-07
          ],
          [
           4.848341780816471e-06,
           7.818531285985187e-06,
           5.55710578671079e-07,
           0.00020701143976542018,
           0.024055634428881114,
           0.0010490838799443309
          ]
         ]
        }
       ],
       "layout": {
        "font": {
         "color": "#FFF"
        },
        "height": 300,
        "paper_bgcolor": "#000",
        "plot_bgcolor": "#000",
        "title": "2 Blobs:Confidence after 204800 Iters",
        "titlefont": {
         "color": "#FFF"
        },
        "width": 300,
        "xaxis": {
         "dtick": 1,
         "range": [
          -0.5,
          5.5
         ],
         "tickcolor": "#FFF",
         "title": "Glimpses"
        },
        "yaxis": {
         "dtick": 1,
         "range": [
          -0.5,
          5.5
         ],
         "tickcolor": "#FFF",
         "title": "Count Word"
        }
       }
      },
      "text/html": [
       "<div id=\"74153924-cff5-4919-b957-ca47a7c906d1\" style=\"height: 300px; width: 300px;\" class=\"plotly-graph-div\"></div><script type=\"text/javascript\">require([\"plotly\"], function(Plotly) { window.PLOTLYENV=window.PLOTLYENV || {};window.PLOTLYENV.BASE_URL=\"https://plot.ly\";Plotly.newPlot(\"74153924-cff5-4919-b957-ca47a7c906d1\", [{\"type\": \"heatmap\", \"colorscale\": \"Jet\", \"z\": [[1.4456035092462707e-05, 0.37617842562697806, 0.459910017451364, 0.9684996688124823, 0.9756364932171443, 0.9988566750276688], [0.9999631750385569, 0.00017662941560724586, 1.1868805163702872e-08, 3.3588352251079282e-06, 0.0001685601596698206, 5.521178116033254e-07], [1.6885935127658934e-05, 0.6233918110110886, 0.00045772673401043684, 5.130728481733451e-07, 4.362468077395141e-06, 8.672050907726463e-05], [1.8267752425484716e-08, 0.00024360730890340835, 0.5395912738747333, 0.00023506465385338127, 1.2604467064466969e-06, 5.560369278484219e-06], [5.131539041173951e-08, 1.163180996339657e-06, 3.98796713508382e-05, 0.031053811767668107, 0.000133103543122821, 8.416825898716805e-07], [4.848341780816471e-06, 7.818531285985187e-06, 5.55710578671079e-07, 0.00020701143976542018, 0.024055634428881114, 0.0010490838799443309]]}], {\"titlefont\": {\"color\": \"#FFF\"}, \"plot_bgcolor\": \"#000\", \"yaxis\": {\"title\": \"Count Word\", \"range\": [-0.5, 5.5], \"dtick\": 1, \"tickcolor\": \"#FFF\"}, \"height\": 300, \"title\": \"2 Blobs:Confidence after 204800 Iters\", \"xaxis\": {\"title\": \"Glimpses\", \"range\": [-0.5, 5.5], \"dtick\": 1, \"tickcolor\": \"#FFF\"}, \"width\": 300, \"font\": {\"color\": \"#FFF\"}, \"paper_bgcolor\": \"#000\"}, {\"linkText\": \"Export to plot.ly\", \"showLink\": true})});</script>"
      ],
      "text/vnd.plotly.v1+html": [
       "<div id=\"74153924-cff5-4919-b957-ca47a7c906d1\" style=\"height: 300px; width: 300px;\" class=\"plotly-graph-div\"></div><script type=\"text/javascript\">require([\"plotly\"], function(Plotly) { window.PLOTLYENV=window.PLOTLYENV || {};window.PLOTLYENV.BASE_URL=\"https://plot.ly\";Plotly.newPlot(\"74153924-cff5-4919-b957-ca47a7c906d1\", [{\"type\": \"heatmap\", \"colorscale\": \"Jet\", \"z\": [[1.4456035092462707e-05, 0.37617842562697806, 0.459910017451364, 0.9684996688124823, 0.9756364932171443, 0.9988566750276688], [0.9999631750385569, 0.00017662941560724586, 1.1868805163702872e-08, 3.3588352251079282e-06, 0.0001685601596698206, 5.521178116033254e-07], [1.6885935127658934e-05, 0.6233918110110886, 0.00045772673401043684, 5.130728481733451e-07, 4.362468077395141e-06, 8.672050907726463e-05], [1.8267752425484716e-08, 0.00024360730890340835, 0.5395912738747333, 0.00023506465385338127, 1.2604467064466969e-06, 5.560369278484219e-06], [5.131539041173951e-08, 1.163180996339657e-06, 3.98796713508382e-05, 0.031053811767668107, 0.000133103543122821, 8.416825898716805e-07], [4.848341780816471e-06, 7.818531285985187e-06, 5.55710578671079e-07, 0.00020701143976542018, 0.024055634428881114, 0.0010490838799443309]]}], {\"titlefont\": {\"color\": \"#FFF\"}, \"plot_bgcolor\": \"#000\", \"yaxis\": {\"title\": \"Count Word\", \"range\": [-0.5, 5.5], \"dtick\": 1, \"tickcolor\": \"#FFF\"}, \"height\": 300, \"title\": \"2 Blobs:Confidence after 204800 Iters\", \"xaxis\": {\"title\": \"Glimpses\", \"range\": [-0.5, 5.5], \"dtick\": 1, \"tickcolor\": \"#FFF\"}, \"width\": 300, \"font\": {\"color\": \"#FFF\"}, \"paper_bgcolor\": \"#000\"}, {\"linkText\": \"Export to plot.ly\", \"showLink\": true})});</script>"
      ]
     },
     "metadata": {},
     "output_type": "display_data"
    },
    {
     "data": {
      "application/vnd.plotly.v1+json": {
       "data": [
        {
         "colorscale": "Jet",
         "type": "heatmap",
         "z": [
          [
           3.0937979423048678e-06,
           0.263282072542791,
           0.5352137757243854,
           0.8281572357079598,
           0.9260766902412658,
           0.9984068666480824
          ],
          [
           0.9999861661702738,
           4.155210590225814e-06,
           1.9078597627089725e-07,
           1.7835835184371837e-05,
           0.0008718630500479961,
           3.245491454672642e-06
          ],
          [
           7.2066022952625736e-06,
           0.736620141844272,
           0.00015506591629181504,
           7.175273245439584e-07,
           8.952741283340956e-06,
           1.8607049118017626e-05
          ],
          [
           6.636992911794075e-09,
           8.857591638400806e-05,
           0.4644627803451085,
           9.940972286985628e-05,
           4.3530466505813586e-07,
           5.732668130882941e-07
          ],
          [
           1.9397246787999817e-08,
           9.760133587399972e-07,
           0.00016385263209731218,
           0.1707359308149912,
           0.00045167941108250416,
           2.0526796210799666e-06
          ],
          [
           3.005581506070478e-06,
           3.5416494303040353e-06,
           3.804715854685482e-06,
           0.000988312261544408,
           0.0725898743691491,
           0.0015681075099217862
          ]
         ]
        }
       ],
       "layout": {
        "font": {
         "color": "#FFF"
        },
        "height": 300,
        "paper_bgcolor": "#000",
        "plot_bgcolor": "#000",
        "title": "2 Blobs:Confidence after 307200 Iters",
        "titlefont": {
         "color": "#FFF"
        },
        "width": 300,
        "xaxis": {
         "dtick": 1,
         "range": [
          -0.5,
          5.5
         ],
         "tickcolor": "#FFF",
         "title": "Glimpses"
        },
        "yaxis": {
         "dtick": 1,
         "range": [
          -0.5,
          5.5
         ],
         "tickcolor": "#FFF",
         "title": "Count Word"
        }
       }
      },
      "text/html": [
       "<div id=\"2653f29b-0318-41ce-8550-bdc5f1d3dc77\" style=\"height: 300px; width: 300px;\" class=\"plotly-graph-div\"></div><script type=\"text/javascript\">require([\"plotly\"], function(Plotly) { window.PLOTLYENV=window.PLOTLYENV || {};window.PLOTLYENV.BASE_URL=\"https://plot.ly\";Plotly.newPlot(\"2653f29b-0318-41ce-8550-bdc5f1d3dc77\", [{\"type\": \"heatmap\", \"colorscale\": \"Jet\", \"z\": [[3.0937979423048678e-06, 0.263282072542791, 0.5352137757243854, 0.8281572357079598, 0.9260766902412658, 0.9984068666480824], [0.9999861661702738, 4.155210590225814e-06, 1.9078597627089725e-07, 1.7835835184371837e-05, 0.0008718630500479961, 3.245491454672642e-06], [7.2066022952625736e-06, 0.736620141844272, 0.00015506591629181504, 7.175273245439584e-07, 8.952741283340956e-06, 1.8607049118017626e-05], [6.636992911794075e-09, 8.857591638400806e-05, 0.4644627803451085, 9.940972286985628e-05, 4.3530466505813586e-07, 5.732668130882941e-07], [1.9397246787999817e-08, 9.760133587399972e-07, 0.00016385263209731218, 0.1707359308149912, 0.00045167941108250416, 2.0526796210799666e-06], [3.005581506070478e-06, 3.5416494303040353e-06, 3.804715854685482e-06, 0.000988312261544408, 0.0725898743691491, 0.0015681075099217862]]}], {\"titlefont\": {\"color\": \"#FFF\"}, \"plot_bgcolor\": \"#000\", \"yaxis\": {\"title\": \"Count Word\", \"range\": [-0.5, 5.5], \"dtick\": 1, \"tickcolor\": \"#FFF\"}, \"height\": 300, \"title\": \"2 Blobs:Confidence after 307200 Iters\", \"xaxis\": {\"title\": \"Glimpses\", \"range\": [-0.5, 5.5], \"dtick\": 1, \"tickcolor\": \"#FFF\"}, \"width\": 300, \"font\": {\"color\": \"#FFF\"}, \"paper_bgcolor\": \"#000\"}, {\"linkText\": \"Export to plot.ly\", \"showLink\": true})});</script>"
      ],
      "text/vnd.plotly.v1+html": [
       "<div id=\"2653f29b-0318-41ce-8550-bdc5f1d3dc77\" style=\"height: 300px; width: 300px;\" class=\"plotly-graph-div\"></div><script type=\"text/javascript\">require([\"plotly\"], function(Plotly) { window.PLOTLYENV=window.PLOTLYENV || {};window.PLOTLYENV.BASE_URL=\"https://plot.ly\";Plotly.newPlot(\"2653f29b-0318-41ce-8550-bdc5f1d3dc77\", [{\"type\": \"heatmap\", \"colorscale\": \"Jet\", \"z\": [[3.0937979423048678e-06, 0.263282072542791, 0.5352137757243854, 0.8281572357079598, 0.9260766902412658, 0.9984068666480824], [0.9999861661702738, 4.155210590225814e-06, 1.9078597627089725e-07, 1.7835835184371837e-05, 0.0008718630500479961, 3.245491454672642e-06], [7.2066022952625736e-06, 0.736620141844272, 0.00015506591629181504, 7.175273245439584e-07, 8.952741283340956e-06, 1.8607049118017626e-05], [6.636992911794075e-09, 8.857591638400806e-05, 0.4644627803451085, 9.940972286985628e-05, 4.3530466505813586e-07, 5.732668130882941e-07], [1.9397246787999817e-08, 9.760133587399972e-07, 0.00016385263209731218, 0.1707359308149912, 0.00045167941108250416, 2.0526796210799666e-06], [3.005581506070478e-06, 3.5416494303040353e-06, 3.804715854685482e-06, 0.000988312261544408, 0.0725898743691491, 0.0015681075099217862]]}], {\"titlefont\": {\"color\": \"#FFF\"}, \"plot_bgcolor\": \"#000\", \"yaxis\": {\"title\": \"Count Word\", \"range\": [-0.5, 5.5], \"dtick\": 1, \"tickcolor\": \"#FFF\"}, \"height\": 300, \"title\": \"2 Blobs:Confidence after 307200 Iters\", \"xaxis\": {\"title\": \"Glimpses\", \"range\": [-0.5, 5.5], \"dtick\": 1, \"tickcolor\": \"#FFF\"}, \"width\": 300, \"font\": {\"color\": \"#FFF\"}, \"paper_bgcolor\": \"#000\"}, {\"linkText\": \"Export to plot.ly\", \"showLink\": true})});</script>"
      ]
     },
     "metadata": {},
     "output_type": "display_data"
    },
    {
     "data": {
      "application/vnd.plotly.v1+json": {
       "data": [
        {
         "colorscale": "Jet",
         "type": "heatmap",
         "z": [
          [
           0.16640455137341878,
           0.1662709691602666,
           0.16625038487319757,
           0.1663059736241486,
           0.1664022938487521,
           0.16649959506592252
          ],
          [
           0.1661404019470543,
           0.16566778704708657,
           0.165260402771848,
           0.16496702887324902,
           0.16479919636012072,
           0.16477192145539268
          ],
          [
           0.1665018517627474,
           0.16653091977287626,
           0.16659928377892674,
           0.1666821565408659,
           0.16676200850797238,
           0.16684706760018098
          ],
          [
           0.16758830889512244,
           0.1680097118438871,
           0.16819491413426385,
           0.16823316125458862,
           0.16819701602466675,
           0.16813087560176795
          ],
          [
           0.16616351280738428,
           0.16610880901934807,
           0.16622436414883993,
           0.16642196999333508,
           0.16664495084556158,
           0.1668716073155072
          ],
          [
           0.1672008309044952,
           0.16741124015071204,
           0.1674700972212025,
           0.16738915995345868,
           0.1671939705792613,
           0.16687835753777788
          ]
         ]
        }
       ],
       "layout": {
        "font": {
         "color": "#FFF"
        },
        "height": 300,
        "paper_bgcolor": "#000",
        "plot_bgcolor": "#000",
        "title": "3 Blobs:Confidence after 0 Iters",
        "titlefont": {
         "color": "#FFF"
        },
        "width": 300,
        "xaxis": {
         "dtick": 1,
         "range": [
          -0.5,
          5.5
         ],
         "tickcolor": "#FFF",
         "title": "Glimpses"
        },
        "yaxis": {
         "dtick": 1,
         "range": [
          -0.5,
          5.5
         ],
         "tickcolor": "#FFF",
         "title": "Count Word"
        }
       }
      },
      "text/html": [
       "<div id=\"2c075da4-af0b-4c72-8767-25dc3483d23d\" style=\"height: 300px; width: 300px;\" class=\"plotly-graph-div\"></div><script type=\"text/javascript\">require([\"plotly\"], function(Plotly) { window.PLOTLYENV=window.PLOTLYENV || {};window.PLOTLYENV.BASE_URL=\"https://plot.ly\";Plotly.newPlot(\"2c075da4-af0b-4c72-8767-25dc3483d23d\", [{\"type\": \"heatmap\", \"colorscale\": \"Jet\", \"z\": [[0.16640455137341878, 0.1662709691602666, 0.16625038487319757, 0.1663059736241486, 0.1664022938487521, 0.16649959506592252], [0.1661404019470543, 0.16566778704708657, 0.165260402771848, 0.16496702887324902, 0.16479919636012072, 0.16477192145539268], [0.1665018517627474, 0.16653091977287626, 0.16659928377892674, 0.1666821565408659, 0.16676200850797238, 0.16684706760018098], [0.16758830889512244, 0.1680097118438871, 0.16819491413426385, 0.16823316125458862, 0.16819701602466675, 0.16813087560176795], [0.16616351280738428, 0.16610880901934807, 0.16622436414883993, 0.16642196999333508, 0.16664495084556158, 0.1668716073155072], [0.1672008309044952, 0.16741124015071204, 0.1674700972212025, 0.16738915995345868, 0.1671939705792613, 0.16687835753777788]]}], {\"titlefont\": {\"color\": \"#FFF\"}, \"plot_bgcolor\": \"#000\", \"yaxis\": {\"title\": \"Count Word\", \"range\": [-0.5, 5.5], \"dtick\": 1, \"tickcolor\": \"#FFF\"}, \"height\": 300, \"title\": \"3 Blobs:Confidence after 0 Iters\", \"xaxis\": {\"title\": \"Glimpses\", \"range\": [-0.5, 5.5], \"dtick\": 1, \"tickcolor\": \"#FFF\"}, \"width\": 300, \"font\": {\"color\": \"#FFF\"}, \"paper_bgcolor\": \"#000\"}, {\"linkText\": \"Export to plot.ly\", \"showLink\": true})});</script>"
      ],
      "text/vnd.plotly.v1+html": [
       "<div id=\"2c075da4-af0b-4c72-8767-25dc3483d23d\" style=\"height: 300px; width: 300px;\" class=\"plotly-graph-div\"></div><script type=\"text/javascript\">require([\"plotly\"], function(Plotly) { window.PLOTLYENV=window.PLOTLYENV || {};window.PLOTLYENV.BASE_URL=\"https://plot.ly\";Plotly.newPlot(\"2c075da4-af0b-4c72-8767-25dc3483d23d\", [{\"type\": \"heatmap\", \"colorscale\": \"Jet\", \"z\": [[0.16640455137341878, 0.1662709691602666, 0.16625038487319757, 0.1663059736241486, 0.1664022938487521, 0.16649959506592252], [0.1661404019470543, 0.16566778704708657, 0.165260402771848, 0.16496702887324902, 0.16479919636012072, 0.16477192145539268], [0.1665018517627474, 0.16653091977287626, 0.16659928377892674, 0.1666821565408659, 0.16676200850797238, 0.16684706760018098], [0.16758830889512244, 0.1680097118438871, 0.16819491413426385, 0.16823316125458862, 0.16819701602466675, 0.16813087560176795], [0.16616351280738428, 0.16610880901934807, 0.16622436414883993, 0.16642196999333508, 0.16664495084556158, 0.1668716073155072], [0.1672008309044952, 0.16741124015071204, 0.1674700972212025, 0.16738915995345868, 0.1671939705792613, 0.16687835753777788]]}], {\"titlefont\": {\"color\": \"#FFF\"}, \"plot_bgcolor\": \"#000\", \"yaxis\": {\"title\": \"Count Word\", \"range\": [-0.5, 5.5], \"dtick\": 1, \"tickcolor\": \"#FFF\"}, \"height\": 300, \"title\": \"3 Blobs:Confidence after 0 Iters\", \"xaxis\": {\"title\": \"Glimpses\", \"range\": [-0.5, 5.5], \"dtick\": 1, \"tickcolor\": \"#FFF\"}, \"width\": 300, \"font\": {\"color\": \"#FFF\"}, \"paper_bgcolor\": \"#000\"}, {\"linkText\": \"Export to plot.ly\", \"showLink\": true})});</script>"
      ]
     },
     "metadata": {},
     "output_type": "display_data"
    },
    {
     "data": {
      "application/vnd.plotly.v1+json": {
       "data": [
        {
         "colorscale": "Jet",
         "type": "heatmap",
         "z": [
          [
           0.21226391340801404,
           0.21954040664148244,
           0.22553239171185901,
           0.2301942021765615,
           0.23400593917935392,
           0.23682110111419982
          ],
          [
           0.2871279430684626,
           0.29001685173528774,
           0.29158280447320295,
           0.2919805385686247,
           0.2919412349178956,
           0.29160758322613645
          ],
          [
           0.13981181771855558,
           0.13714372549616152,
           0.13526612820517084,
           0.1342050823722908,
           0.13345220400182708,
           0.1330950271165364
          ],
          [
           0.12497474079101456,
           0.12259050759570951,
           0.12072134528800527,
           0.11950682178170374,
           0.11868837322069428,
           0.11817693448886439
          ],
          [
           0.11816453253955074,
           0.11569897863616214,
           0.11398763349670364,
           0.11283304475157098,
           0.11197366971126038,
           0.11139833856545434
          ],
          [
           0.11765643865065706,
           0.11500890023897734,
           0.11290906530619499,
           0.11127968162435088,
           0.10993797166447725,
           0.1089003956114702
          ]
         ]
        }
       ],
       "layout": {
        "font": {
         "color": "#FFF"
        },
        "height": 300,
        "paper_bgcolor": "#000",
        "plot_bgcolor": "#000",
        "title": "3 Blobs:Confidence after 400 Iters",
        "titlefont": {
         "color": "#FFF"
        },
        "width": 300,
        "xaxis": {
         "dtick": 1,
         "range": [
          -0.5,
          5.5
         ],
         "tickcolor": "#FFF",
         "title": "Glimpses"
        },
        "yaxis": {
         "dtick": 1,
         "range": [
          -0.5,
          5.5
         ],
         "tickcolor": "#FFF",
         "title": "Count Word"
        }
       }
      },
      "text/html": [
       "<div id=\"3b561593-005d-4c4e-ac3a-ff4d8483f462\" style=\"height: 300px; width: 300px;\" class=\"plotly-graph-div\"></div><script type=\"text/javascript\">require([\"plotly\"], function(Plotly) { window.PLOTLYENV=window.PLOTLYENV || {};window.PLOTLYENV.BASE_URL=\"https://plot.ly\";Plotly.newPlot(\"3b561593-005d-4c4e-ac3a-ff4d8483f462\", [{\"type\": \"heatmap\", \"colorscale\": \"Jet\", \"z\": [[0.21226391340801404, 0.21954040664148244, 0.22553239171185901, 0.2301942021765615, 0.23400593917935392, 0.23682110111419982], [0.2871279430684626, 0.29001685173528774, 0.29158280447320295, 0.2919805385686247, 0.2919412349178956, 0.29160758322613645], [0.13981181771855558, 0.13714372549616152, 0.13526612820517084, 0.1342050823722908, 0.13345220400182708, 0.1330950271165364], [0.12497474079101456, 0.12259050759570951, 0.12072134528800527, 0.11950682178170374, 0.11868837322069428, 0.11817693448886439], [0.11816453253955074, 0.11569897863616214, 0.11398763349670364, 0.11283304475157098, 0.11197366971126038, 0.11139833856545434], [0.11765643865065706, 0.11500890023897734, 0.11290906530619499, 0.11127968162435088, 0.10993797166447725, 0.1089003956114702]]}], {\"titlefont\": {\"color\": \"#FFF\"}, \"plot_bgcolor\": \"#000\", \"yaxis\": {\"title\": \"Count Word\", \"range\": [-0.5, 5.5], \"dtick\": 1, \"tickcolor\": \"#FFF\"}, \"height\": 300, \"title\": \"3 Blobs:Confidence after 400 Iters\", \"xaxis\": {\"title\": \"Glimpses\", \"range\": [-0.5, 5.5], \"dtick\": 1, \"tickcolor\": \"#FFF\"}, \"width\": 300, \"font\": {\"color\": \"#FFF\"}, \"paper_bgcolor\": \"#000\"}, {\"linkText\": \"Export to plot.ly\", \"showLink\": true})});</script>"
      ],
      "text/vnd.plotly.v1+html": [
       "<div id=\"3b561593-005d-4c4e-ac3a-ff4d8483f462\" style=\"height: 300px; width: 300px;\" class=\"plotly-graph-div\"></div><script type=\"text/javascript\">require([\"plotly\"], function(Plotly) { window.PLOTLYENV=window.PLOTLYENV || {};window.PLOTLYENV.BASE_URL=\"https://plot.ly\";Plotly.newPlot(\"3b561593-005d-4c4e-ac3a-ff4d8483f462\", [{\"type\": \"heatmap\", \"colorscale\": \"Jet\", \"z\": [[0.21226391340801404, 0.21954040664148244, 0.22553239171185901, 0.2301942021765615, 0.23400593917935392, 0.23682110111419982], [0.2871279430684626, 0.29001685173528774, 0.29158280447320295, 0.2919805385686247, 0.2919412349178956, 0.29160758322613645], [0.13981181771855558, 0.13714372549616152, 0.13526612820517084, 0.1342050823722908, 0.13345220400182708, 0.1330950271165364], [0.12497474079101456, 0.12259050759570951, 0.12072134528800527, 0.11950682178170374, 0.11868837322069428, 0.11817693448886439], [0.11816453253955074, 0.11569897863616214, 0.11398763349670364, 0.11283304475157098, 0.11197366971126038, 0.11139833856545434], [0.11765643865065706, 0.11500890023897734, 0.11290906530619499, 0.11127968162435088, 0.10993797166447725, 0.1089003956114702]]}], {\"titlefont\": {\"color\": \"#FFF\"}, \"plot_bgcolor\": \"#000\", \"yaxis\": {\"title\": \"Count Word\", \"range\": [-0.5, 5.5], \"dtick\": 1, \"tickcolor\": \"#FFF\"}, \"height\": 300, \"title\": \"3 Blobs:Confidence after 400 Iters\", \"xaxis\": {\"title\": \"Glimpses\", \"range\": [-0.5, 5.5], \"dtick\": 1, \"tickcolor\": \"#FFF\"}, \"width\": 300, \"font\": {\"color\": \"#FFF\"}, \"paper_bgcolor\": \"#000\"}, {\"linkText\": \"Export to plot.ly\", \"showLink\": true})});</script>"
      ]
     },
     "metadata": {},
     "output_type": "display_data"
    },
    {
     "data": {
      "application/vnd.plotly.v1+json": {
       "data": [
        {
         "colorscale": "Jet",
         "type": "heatmap",
         "z": [
          [
           0.2648888189424523,
           0.5112606704935942,
           0.6150648077591506,
           0.766059678158627,
           0.7809439982100288,
           0.8499955801577952
          ],
          [
           0.5386374014662553,
           0.3654968615935021,
           0.2961807820317588,
           0.1726979142174775,
           0.164233778760956,
           0.10728864691073543
          ],
          [
           0.06873890641906487,
           0.043839529922880933,
           0.03184779653755365,
           0.021728078377767284,
           0.019379115083314136,
           0.01492840507145222
          ],
          [
           0.05119753035897228,
           0.035858614590686774,
           0.027625924303103084,
           0.020322161229613608,
           0.018842133457645266,
           0.01516513531608948
          ],
          [
           0.040945768371763676,
           0.02453655751957424,
           0.016855907538243658,
           0.011368488801190053,
           0.009833311968776473,
           0.0076210510637428125
          ],
          [
           0.0355910719081305,
           0.0190072912417159,
           0.012424322248518808,
           0.00782320721602476,
           0.006767165385369166,
           0.00500069589910393
          ]
         ]
        }
       ],
       "layout": {
        "font": {
         "color": "#FFF"
        },
        "height": 300,
        "paper_bgcolor": "#000",
        "plot_bgcolor": "#000",
        "title": "3 Blobs:Confidence after 800 Iters",
        "titlefont": {
         "color": "#FFF"
        },
        "width": 300,
        "xaxis": {
         "dtick": 1,
         "range": [
          -0.5,
          5.5
         ],
         "tickcolor": "#FFF",
         "title": "Glimpses"
        },
        "yaxis": {
         "dtick": 1,
         "range": [
          -0.5,
          5.5
         ],
         "tickcolor": "#FFF",
         "title": "Count Word"
        }
       }
      },
      "text/html": [
       "<div id=\"f854532a-8038-465a-9331-8dec40d06f6d\" style=\"height: 300px; width: 300px;\" class=\"plotly-graph-div\"></div><script type=\"text/javascript\">require([\"plotly\"], function(Plotly) { window.PLOTLYENV=window.PLOTLYENV || {};window.PLOTLYENV.BASE_URL=\"https://plot.ly\";Plotly.newPlot(\"f854532a-8038-465a-9331-8dec40d06f6d\", [{\"type\": \"heatmap\", \"colorscale\": \"Jet\", \"z\": [[0.2648888189424523, 0.5112606704935942, 0.6150648077591506, 0.766059678158627, 0.7809439982100288, 0.8499955801577952], [0.5386374014662553, 0.3654968615935021, 0.2961807820317588, 0.1726979142174775, 0.164233778760956, 0.10728864691073543], [0.06873890641906487, 0.043839529922880933, 0.03184779653755365, 0.021728078377767284, 0.019379115083314136, 0.01492840507145222], [0.05119753035897228, 0.035858614590686774, 0.027625924303103084, 0.020322161229613608, 0.018842133457645266, 0.01516513531608948], [0.040945768371763676, 0.02453655751957424, 0.016855907538243658, 0.011368488801190053, 0.009833311968776473, 0.0076210510637428125], [0.0355910719081305, 0.0190072912417159, 0.012424322248518808, 0.00782320721602476, 0.006767165385369166, 0.00500069589910393]]}], {\"titlefont\": {\"color\": \"#FFF\"}, \"plot_bgcolor\": \"#000\", \"yaxis\": {\"title\": \"Count Word\", \"range\": [-0.5, 5.5], \"dtick\": 1, \"tickcolor\": \"#FFF\"}, \"height\": 300, \"title\": \"3 Blobs:Confidence after 800 Iters\", \"xaxis\": {\"title\": \"Glimpses\", \"range\": [-0.5, 5.5], \"dtick\": 1, \"tickcolor\": \"#FFF\"}, \"width\": 300, \"font\": {\"color\": \"#FFF\"}, \"paper_bgcolor\": \"#000\"}, {\"linkText\": \"Export to plot.ly\", \"showLink\": true})});</script>"
      ],
      "text/vnd.plotly.v1+html": [
       "<div id=\"f854532a-8038-465a-9331-8dec40d06f6d\" style=\"height: 300px; width: 300px;\" class=\"plotly-graph-div\"></div><script type=\"text/javascript\">require([\"plotly\"], function(Plotly) { window.PLOTLYENV=window.PLOTLYENV || {};window.PLOTLYENV.BASE_URL=\"https://plot.ly\";Plotly.newPlot(\"f854532a-8038-465a-9331-8dec40d06f6d\", [{\"type\": \"heatmap\", \"colorscale\": \"Jet\", \"z\": [[0.2648888189424523, 0.5112606704935942, 0.6150648077591506, 0.766059678158627, 0.7809439982100288, 0.8499955801577952], [0.5386374014662553, 0.3654968615935021, 0.2961807820317588, 0.1726979142174775, 0.164233778760956, 0.10728864691073543], [0.06873890641906487, 0.043839529922880933, 0.03184779653755365, 0.021728078377767284, 0.019379115083314136, 0.01492840507145222], [0.05119753035897228, 0.035858614590686774, 0.027625924303103084, 0.020322161229613608, 0.018842133457645266, 0.01516513531608948], [0.040945768371763676, 0.02453655751957424, 0.016855907538243658, 0.011368488801190053, 0.009833311968776473, 0.0076210510637428125], [0.0355910719081305, 0.0190072912417159, 0.012424322248518808, 0.00782320721602476, 0.006767165385369166, 0.00500069589910393]]}], {\"titlefont\": {\"color\": \"#FFF\"}, \"plot_bgcolor\": \"#000\", \"yaxis\": {\"title\": \"Count Word\", \"range\": [-0.5, 5.5], \"dtick\": 1, \"tickcolor\": \"#FFF\"}, \"height\": 300, \"title\": \"3 Blobs:Confidence after 800 Iters\", \"xaxis\": {\"title\": \"Glimpses\", \"range\": [-0.5, 5.5], \"dtick\": 1, \"tickcolor\": \"#FFF\"}, \"width\": 300, \"font\": {\"color\": \"#FFF\"}, \"paper_bgcolor\": \"#000\"}, {\"linkText\": \"Export to plot.ly\", \"showLink\": true})});</script>"
      ]
     },
     "metadata": {},
     "output_type": "display_data"
    },
    {
     "data": {
      "application/vnd.plotly.v1+json": {
       "data": [
        {
         "colorscale": "Jet",
         "type": "heatmap",
         "z": [
          [
           0.010097288123867145,
           0.959964211824278,
           0.9396136975250409,
           0.9735006454352064,
           0.9213568472190634,
           0.9544926392387905
          ],
          [
           0.9840603392648374,
           0.006922630311969145,
           0.0006804336884756865,
           2.191345663840117e-05,
           4.4496382472351617e-05,
           7.086364353460792e-06
          ],
          [
           0.0024498618263057983,
           0.010820165033182281,
           0.01878231166201086,
           0.006372550710526863,
           0.020009833687569877,
           0.009828064618164191
          ],
          [
           0.0012548663741312285,
           0.011399684916065031,
           0.02464544204829616,
           0.012272810954699282,
           0.03768007919502156,
           0.022250304644064342
          ],
          [
           0.0010750013982621241,
           0.00776488046541524,
           0.012152775395112567,
           0.006298996412954352,
           0.016340154720756964,
           0.010888199006955453
          ],
          [
           0.0010620239538026873,
           0.0031278056363483607,
           0.004124744123598631,
           0.0015324593686290799,
           0.004567962093388225,
           0.0025330631936342145
          ]
         ]
        }
       ],
       "layout": {
        "font": {
         "color": "#FFF"
        },
        "height": 300,
        "paper_bgcolor": "#000",
        "plot_bgcolor": "#000",
        "title": "3 Blobs:Confidence after 1600 Iters",
        "titlefont": {
         "color": "#FFF"
        },
        "width": 300,
        "xaxis": {
         "dtick": 1,
         "range": [
          -0.5,
          5.5
         ],
         "tickcolor": "#FFF",
         "title": "Glimpses"
        },
        "yaxis": {
         "dtick": 1,
         "range": [
          -0.5,
          5.5
         ],
         "tickcolor": "#FFF",
         "title": "Count Word"
        }
       }
      },
      "text/html": [
       "<div id=\"611d4db5-4c8c-41ab-a4ec-913c5607052d\" style=\"height: 300px; width: 300px;\" class=\"plotly-graph-div\"></div><script type=\"text/javascript\">require([\"plotly\"], function(Plotly) { window.PLOTLYENV=window.PLOTLYENV || {};window.PLOTLYENV.BASE_URL=\"https://plot.ly\";Plotly.newPlot(\"611d4db5-4c8c-41ab-a4ec-913c5607052d\", [{\"type\": \"heatmap\", \"colorscale\": \"Jet\", \"z\": [[0.010097288123867145, 0.959964211824278, 0.9396136975250409, 0.9735006454352064, 0.9213568472190634, 0.9544926392387905], [0.9840603392648374, 0.006922630311969145, 0.0006804336884756865, 2.191345663840117e-05, 4.4496382472351617e-05, 7.086364353460792e-06], [0.0024498618263057983, 0.010820165033182281, 0.01878231166201086, 0.006372550710526863, 0.020009833687569877, 0.009828064618164191], [0.0012548663741312285, 0.011399684916065031, 0.02464544204829616, 0.012272810954699282, 0.03768007919502156, 0.022250304644064342], [0.0010750013982621241, 0.00776488046541524, 0.012152775395112567, 0.006298996412954352, 0.016340154720756964, 0.010888199006955453], [0.0010620239538026873, 0.0031278056363483607, 0.004124744123598631, 0.0015324593686290799, 0.004567962093388225, 0.0025330631936342145]]}], {\"titlefont\": {\"color\": \"#FFF\"}, \"plot_bgcolor\": \"#000\", \"yaxis\": {\"title\": \"Count Word\", \"range\": [-0.5, 5.5], \"dtick\": 1, \"tickcolor\": \"#FFF\"}, \"height\": 300, \"title\": \"3 Blobs:Confidence after 1600 Iters\", \"xaxis\": {\"title\": \"Glimpses\", \"range\": [-0.5, 5.5], \"dtick\": 1, \"tickcolor\": \"#FFF\"}, \"width\": 300, \"font\": {\"color\": \"#FFF\"}, \"paper_bgcolor\": \"#000\"}, {\"linkText\": \"Export to plot.ly\", \"showLink\": true})});</script>"
      ],
      "text/vnd.plotly.v1+html": [
       "<div id=\"611d4db5-4c8c-41ab-a4ec-913c5607052d\" style=\"height: 300px; width: 300px;\" class=\"plotly-graph-div\"></div><script type=\"text/javascript\">require([\"plotly\"], function(Plotly) { window.PLOTLYENV=window.PLOTLYENV || {};window.PLOTLYENV.BASE_URL=\"https://plot.ly\";Plotly.newPlot(\"611d4db5-4c8c-41ab-a4ec-913c5607052d\", [{\"type\": \"heatmap\", \"colorscale\": \"Jet\", \"z\": [[0.010097288123867145, 0.959964211824278, 0.9396136975250409, 0.9735006454352064, 0.9213568472190634, 0.9544926392387905], [0.9840603392648374, 0.006922630311969145, 0.0006804336884756865, 2.191345663840117e-05, 4.4496382472351617e-05, 7.086364353460792e-06], [0.0024498618263057983, 0.010820165033182281, 0.01878231166201086, 0.006372550710526863, 0.020009833687569877, 0.009828064618164191], [0.0012548663741312285, 0.011399684916065031, 0.02464544204829616, 0.012272810954699282, 0.03768007919502156, 0.022250304644064342], [0.0010750013982621241, 0.00776488046541524, 0.012152775395112567, 0.006298996412954352, 0.016340154720756964, 0.010888199006955453], [0.0010620239538026873, 0.0031278056363483607, 0.004124744123598631, 0.0015324593686290799, 0.004567962093388225, 0.0025330631936342145]]}], {\"titlefont\": {\"color\": \"#FFF\"}, \"plot_bgcolor\": \"#000\", \"yaxis\": {\"title\": \"Count Word\", \"range\": [-0.5, 5.5], \"dtick\": 1, \"tickcolor\": \"#FFF\"}, \"height\": 300, \"title\": \"3 Blobs:Confidence after 1600 Iters\", \"xaxis\": {\"title\": \"Glimpses\", \"range\": [-0.5, 5.5], \"dtick\": 1, \"tickcolor\": \"#FFF\"}, \"width\": 300, \"font\": {\"color\": \"#FFF\"}, \"paper_bgcolor\": \"#000\"}, {\"linkText\": \"Export to plot.ly\", \"showLink\": true})});</script>"
      ]
     },
     "metadata": {},
     "output_type": "display_data"
    },
    {
     "data": {
      "application/vnd.plotly.v1+json": {
       "data": [
        {
         "colorscale": "Jet",
         "type": "heatmap",
         "z": [
          [
           0.006711209081037486,
           0.8855389055436623,
           0.9432844324438997,
           0.888599322015379,
           0.767462309696081,
           0.6786682291139331
          ],
          [
           0.9855171288786603,
           0.0009393888058402004,
           3.1362901576655486e-06,
           6.877345807234645e-07,
           1.7739820161041601e-07,
           6.758049785500295e-08
          ],
          [
           0.0060044273780982624,
           0.07199757933898746,
           0.0024129511795568347,
           0.0010279701556834536,
           0.0010586762806221552,
           0.0007990829638464813
          ],
          [
           0.0007628178587715721,
           0.030478557678439502,
           0.03399798083831631,
           0.05842803953313646,
           0.11550132928945699,
           0.13793266270591317
          ],
          [
           0.0004862001368196239,
           0.006437096172170437,
           0.013487821332080234,
           0.03378140305061085,
           0.073384632001023,
           0.11731242247838922
          ],
          [
           0.0005174390534191872,
           0.004607712699534631,
           0.006812891105987903,
           0.01816180351900364,
           0.042592136094090245,
           0.06528674001511522
          ]
         ]
        }
       ],
       "layout": {
        "font": {
         "color": "#FFF"
        },
        "height": 300,
        "paper_bgcolor": "#000",
        "plot_bgcolor": "#000",
        "title": "3 Blobs:Confidence after 3200 Iters",
        "titlefont": {
         "color": "#FFF"
        },
        "width": 300,
        "xaxis": {
         "dtick": 1,
         "range": [
          -0.5,
          5.5
         ],
         "tickcolor": "#FFF",
         "title": "Glimpses"
        },
        "yaxis": {
         "dtick": 1,
         "range": [
          -0.5,
          5.5
         ],
         "tickcolor": "#FFF",
         "title": "Count Word"
        }
       }
      },
      "text/html": [
       "<div id=\"b20c688f-3c19-4d64-9698-cf8e39a93a88\" style=\"height: 300px; width: 300px;\" class=\"plotly-graph-div\"></div><script type=\"text/javascript\">require([\"plotly\"], function(Plotly) { window.PLOTLYENV=window.PLOTLYENV || {};window.PLOTLYENV.BASE_URL=\"https://plot.ly\";Plotly.newPlot(\"b20c688f-3c19-4d64-9698-cf8e39a93a88\", [{\"type\": \"heatmap\", \"colorscale\": \"Jet\", \"z\": [[0.006711209081037486, 0.8855389055436623, 0.9432844324438997, 0.888599322015379, 0.767462309696081, 0.6786682291139331], [0.9855171288786603, 0.0009393888058402004, 3.1362901576655486e-06, 6.877345807234645e-07, 1.7739820161041601e-07, 6.758049785500295e-08], [0.0060044273780982624, 0.07199757933898746, 0.0024129511795568347, 0.0010279701556834536, 0.0010586762806221552, 0.0007990829638464813], [0.0007628178587715721, 0.030478557678439502, 0.03399798083831631, 0.05842803953313646, 0.11550132928945699, 0.13793266270591317], [0.0004862001368196239, 0.006437096172170437, 0.013487821332080234, 0.03378140305061085, 0.073384632001023, 0.11731242247838922], [0.0005174390534191872, 0.004607712699534631, 0.006812891105987903, 0.01816180351900364, 0.042592136094090245, 0.06528674001511522]]}], {\"titlefont\": {\"color\": \"#FFF\"}, \"plot_bgcolor\": \"#000\", \"yaxis\": {\"title\": \"Count Word\", \"range\": [-0.5, 5.5], \"dtick\": 1, \"tickcolor\": \"#FFF\"}, \"height\": 300, \"title\": \"3 Blobs:Confidence after 3200 Iters\", \"xaxis\": {\"title\": \"Glimpses\", \"range\": [-0.5, 5.5], \"dtick\": 1, \"tickcolor\": \"#FFF\"}, \"width\": 300, \"font\": {\"color\": \"#FFF\"}, \"paper_bgcolor\": \"#000\"}, {\"linkText\": \"Export to plot.ly\", \"showLink\": true})});</script>"
      ],
      "text/vnd.plotly.v1+html": [
       "<div id=\"b20c688f-3c19-4d64-9698-cf8e39a93a88\" style=\"height: 300px; width: 300px;\" class=\"plotly-graph-div\"></div><script type=\"text/javascript\">require([\"plotly\"], function(Plotly) { window.PLOTLYENV=window.PLOTLYENV || {};window.PLOTLYENV.BASE_URL=\"https://plot.ly\";Plotly.newPlot(\"b20c688f-3c19-4d64-9698-cf8e39a93a88\", [{\"type\": \"heatmap\", \"colorscale\": \"Jet\", \"z\": [[0.006711209081037486, 0.8855389055436623, 0.9432844324438997, 0.888599322015379, 0.767462309696081, 0.6786682291139331], [0.9855171288786603, 0.0009393888058402004, 3.1362901576655486e-06, 6.877345807234645e-07, 1.7739820161041601e-07, 6.758049785500295e-08], [0.0060044273780982624, 0.07199757933898746, 0.0024129511795568347, 0.0010279701556834536, 0.0010586762806221552, 0.0007990829638464813], [0.0007628178587715721, 0.030478557678439502, 0.03399798083831631, 0.05842803953313646, 0.11550132928945699, 0.13793266270591317], [0.0004862001368196239, 0.006437096172170437, 0.013487821332080234, 0.03378140305061085, 0.073384632001023, 0.11731242247838922], [0.0005174390534191872, 0.004607712699534631, 0.006812891105987903, 0.01816180351900364, 0.042592136094090245, 0.06528674001511522]]}], {\"titlefont\": {\"color\": \"#FFF\"}, \"plot_bgcolor\": \"#000\", \"yaxis\": {\"title\": \"Count Word\", \"range\": [-0.5, 5.5], \"dtick\": 1, \"tickcolor\": \"#FFF\"}, \"height\": 300, \"title\": \"3 Blobs:Confidence after 3200 Iters\", \"xaxis\": {\"title\": \"Glimpses\", \"range\": [-0.5, 5.5], \"dtick\": 1, \"tickcolor\": \"#FFF\"}, \"width\": 300, \"font\": {\"color\": \"#FFF\"}, \"paper_bgcolor\": \"#000\"}, {\"linkText\": \"Export to plot.ly\", \"showLink\": true})});</script>"
      ]
     },
     "metadata": {},
     "output_type": "display_data"
    },
    {
     "data": {
      "application/vnd.plotly.v1+json": {
       "data": [
        {
         "colorscale": "Jet",
         "type": "heatmap",
         "z": [
          [
           6.491287250205759e-05,
           0.6703272546338144,
           0.8979269588358476,
           0.7691726143991637,
           0.6162171594185947,
           0.5012426771022972
          ],
          [
           0.9987156999772782,
           0.0019360679407201032,
           1.017219186729812e-06,
           7.387722138660725e-08,
           2.858736173222339e-08,
           1.484452883855405e-08
          ],
          [
           0.001194997863026165,
           0.31299033261178744,
           0.00786909345188189,
           0.0010255040939601775,
           0.0003710858616643497,
           0.00024166656168000562
          ],
          [
           1.5648676591981334e-05,
           0.012839525678001822,
           0.05913697325143718,
           0.06080044695842177,
           0.042902474572712956,
           0.03488086046338847
          ],
          [
           4.534451349624464e-06,
           0.0014724248676220829,
           0.026192321852829024,
           0.10447887092503523,
           0.17222005939559892,
           0.2018714472838562
          ],
          [
           3.7474900118105097e-06,
           0.000433923364305197,
           0.00887317214205682,
           0.06452201888675214,
           0.16828872764631866,
           0.26176287186565167
          ]
         ]
        }
       ],
       "layout": {
        "font": {
         "color": "#FFF"
        },
        "height": 300,
        "paper_bgcolor": "#000",
        "plot_bgcolor": "#000",
        "title": "3 Blobs:Confidence after 6400 Iters",
        "titlefont": {
         "color": "#FFF"
        },
        "width": 300,
        "xaxis": {
         "dtick": 1,
         "range": [
          -0.5,
          5.5
         ],
         "tickcolor": "#FFF",
         "title": "Glimpses"
        },
        "yaxis": {
         "dtick": 1,
         "range": [
          -0.5,
          5.5
         ],
         "tickcolor": "#FFF",
         "title": "Count Word"
        }
       }
      },
      "text/html": [
       "<div id=\"01639ab5-a274-423e-ab67-2fcde9f3810e\" style=\"height: 300px; width: 300px;\" class=\"plotly-graph-div\"></div><script type=\"text/javascript\">require([\"plotly\"], function(Plotly) { window.PLOTLYENV=window.PLOTLYENV || {};window.PLOTLYENV.BASE_URL=\"https://plot.ly\";Plotly.newPlot(\"01639ab5-a274-423e-ab67-2fcde9f3810e\", [{\"type\": \"heatmap\", \"colorscale\": \"Jet\", \"z\": [[6.491287250205759e-05, 0.6703272546338144, 0.8979269588358476, 0.7691726143991637, 0.6162171594185947, 0.5012426771022972], [0.9987156999772782, 0.0019360679407201032, 1.017219186729812e-06, 7.387722138660725e-08, 2.858736173222339e-08, 1.484452883855405e-08], [0.001194997863026165, 0.31299033261178744, 0.00786909345188189, 0.0010255040939601775, 0.0003710858616643497, 0.00024166656168000562], [1.5648676591981334e-05, 0.012839525678001822, 0.05913697325143718, 0.06080044695842177, 0.042902474572712956, 0.03488086046338847], [4.534451349624464e-06, 0.0014724248676220829, 0.026192321852829024, 0.10447887092503523, 0.17222005939559892, 0.2018714472838562], [3.7474900118105097e-06, 0.000433923364305197, 0.00887317214205682, 0.06452201888675214, 0.16828872764631866, 0.26176287186565167]]}], {\"titlefont\": {\"color\": \"#FFF\"}, \"plot_bgcolor\": \"#000\", \"yaxis\": {\"title\": \"Count Word\", \"range\": [-0.5, 5.5], \"dtick\": 1, \"tickcolor\": \"#FFF\"}, \"height\": 300, \"title\": \"3 Blobs:Confidence after 6400 Iters\", \"xaxis\": {\"title\": \"Glimpses\", \"range\": [-0.5, 5.5], \"dtick\": 1, \"tickcolor\": \"#FFF\"}, \"width\": 300, \"font\": {\"color\": \"#FFF\"}, \"paper_bgcolor\": \"#000\"}, {\"linkText\": \"Export to plot.ly\", \"showLink\": true})});</script>"
      ],
      "text/vnd.plotly.v1+html": [
       "<div id=\"01639ab5-a274-423e-ab67-2fcde9f3810e\" style=\"height: 300px; width: 300px;\" class=\"plotly-graph-div\"></div><script type=\"text/javascript\">require([\"plotly\"], function(Plotly) { window.PLOTLYENV=window.PLOTLYENV || {};window.PLOTLYENV.BASE_URL=\"https://plot.ly\";Plotly.newPlot(\"01639ab5-a274-423e-ab67-2fcde9f3810e\", [{\"type\": \"heatmap\", \"colorscale\": \"Jet\", \"z\": [[6.491287250205759e-05, 0.6703272546338144, 0.8979269588358476, 0.7691726143991637, 0.6162171594185947, 0.5012426771022972], [0.9987156999772782, 0.0019360679407201032, 1.017219186729812e-06, 7.387722138660725e-08, 2.858736173222339e-08, 1.484452883855405e-08], [0.001194997863026165, 0.31299033261178744, 0.00786909345188189, 0.0010255040939601775, 0.0003710858616643497, 0.00024166656168000562], [1.5648676591981334e-05, 0.012839525678001822, 0.05913697325143718, 0.06080044695842177, 0.042902474572712956, 0.03488086046338847], [4.534451349624464e-06, 0.0014724248676220829, 0.026192321852829024, 0.10447887092503523, 0.17222005939559892, 0.2018714472838562], [3.7474900118105097e-06, 0.000433923364305197, 0.00887317214205682, 0.06452201888675214, 0.16828872764631866, 0.26176287186565167]]}], {\"titlefont\": {\"color\": \"#FFF\"}, \"plot_bgcolor\": \"#000\", \"yaxis\": {\"title\": \"Count Word\", \"range\": [-0.5, 5.5], \"dtick\": 1, \"tickcolor\": \"#FFF\"}, \"height\": 300, \"title\": \"3 Blobs:Confidence after 6400 Iters\", \"xaxis\": {\"title\": \"Glimpses\", \"range\": [-0.5, 5.5], \"dtick\": 1, \"tickcolor\": \"#FFF\"}, \"width\": 300, \"font\": {\"color\": \"#FFF\"}, \"paper_bgcolor\": \"#000\"}, {\"linkText\": \"Export to plot.ly\", \"showLink\": true})});</script>"
      ]
     },
     "metadata": {},
     "output_type": "display_data"
    },
    {
     "data": {
      "application/vnd.plotly.v1+json": {
       "data": [
        {
         "colorscale": "Jet",
         "type": "heatmap",
         "z": [
          [
           2.5953598137769736e-05,
           0.9501352355416595,
           0.9764180131873655,
           0.9378497817826168,
           0.85079037649592,
           0.7257424486268753
          ],
          [
           0.9998347709734123,
           0.0006595598105881345,
           4.53919810713242e-06,
           2.298445458247786e-06,
           3.516525676679274e-07,
           2.883049479141445e-07
          ],
          [
           0.00013771796103637413,
           0.04712358649351514,
           0.00056825756958512,
           8.680929184879427e-05,
           3.0542770876122105e-05,
           1.8508425520230495e-05
          ],
          [
           2.0060549697082174e-07,
           0.0016315028346086766,
           0.016038058449499074,
           0.013662095904721136,
           0.008768073964044571,
           0.005217071400073774
          ],
          [
           2.0844057693278434e-07,
           0.00028947289758399263,
           0.005727736423452804,
           0.03262948331926863,
           0.06393062383424994,
           0.0819665743433032
          ],
          [
           6.569958113580625e-07,
           0.00016017767617812904,
           0.0012429376101324883,
           0.015769053923811976,
           0.07647957008894662,
           0.18705463762067445
          ]
         ]
        }
       ],
       "layout": {
        "font": {
         "color": "#FFF"
        },
        "height": 300,
        "paper_bgcolor": "#000",
        "plot_bgcolor": "#000",
        "title": "3 Blobs:Confidence after 12800 Iters",
        "titlefont": {
         "color": "#FFF"
        },
        "width": 300,
        "xaxis": {
         "dtick": 1,
         "range": [
          -0.5,
          5.5
         ],
         "tickcolor": "#FFF",
         "title": "Glimpses"
        },
        "yaxis": {
         "dtick": 1,
         "range": [
          -0.5,
          5.5
         ],
         "tickcolor": "#FFF",
         "title": "Count Word"
        }
       }
      },
      "text/html": [
       "<div id=\"3123b50d-93dc-4856-9d98-c4424e50982b\" style=\"height: 300px; width: 300px;\" class=\"plotly-graph-div\"></div><script type=\"text/javascript\">require([\"plotly\"], function(Plotly) { window.PLOTLYENV=window.PLOTLYENV || {};window.PLOTLYENV.BASE_URL=\"https://plot.ly\";Plotly.newPlot(\"3123b50d-93dc-4856-9d98-c4424e50982b\", [{\"type\": \"heatmap\", \"colorscale\": \"Jet\", \"z\": [[2.5953598137769736e-05, 0.9501352355416595, 0.9764180131873655, 0.9378497817826168, 0.85079037649592, 0.7257424486268753], [0.9998347709734123, 0.0006595598105881345, 4.53919810713242e-06, 2.298445458247786e-06, 3.516525676679274e-07, 2.883049479141445e-07], [0.00013771796103637413, 0.04712358649351514, 0.00056825756958512, 8.680929184879427e-05, 3.0542770876122105e-05, 1.8508425520230495e-05], [2.0060549697082174e-07, 0.0016315028346086766, 0.016038058449499074, 0.013662095904721136, 0.008768073964044571, 0.005217071400073774], [2.0844057693278434e-07, 0.00028947289758399263, 0.005727736423452804, 0.03262948331926863, 0.06393062383424994, 0.0819665743433032], [6.569958113580625e-07, 0.00016017767617812904, 0.0012429376101324883, 0.015769053923811976, 0.07647957008894662, 0.18705463762067445]]}], {\"titlefont\": {\"color\": \"#FFF\"}, \"plot_bgcolor\": \"#000\", \"yaxis\": {\"title\": \"Count Word\", \"range\": [-0.5, 5.5], \"dtick\": 1, \"tickcolor\": \"#FFF\"}, \"height\": 300, \"title\": \"3 Blobs:Confidence after 12800 Iters\", \"xaxis\": {\"title\": \"Glimpses\", \"range\": [-0.5, 5.5], \"dtick\": 1, \"tickcolor\": \"#FFF\"}, \"width\": 300, \"font\": {\"color\": \"#FFF\"}, \"paper_bgcolor\": \"#000\"}, {\"linkText\": \"Export to plot.ly\", \"showLink\": true})});</script>"
      ],
      "text/vnd.plotly.v1+html": [
       "<div id=\"3123b50d-93dc-4856-9d98-c4424e50982b\" style=\"height: 300px; width: 300px;\" class=\"plotly-graph-div\"></div><script type=\"text/javascript\">require([\"plotly\"], function(Plotly) { window.PLOTLYENV=window.PLOTLYENV || {};window.PLOTLYENV.BASE_URL=\"https://plot.ly\";Plotly.newPlot(\"3123b50d-93dc-4856-9d98-c4424e50982b\", [{\"type\": \"heatmap\", \"colorscale\": \"Jet\", \"z\": [[2.5953598137769736e-05, 0.9501352355416595, 0.9764180131873655, 0.9378497817826168, 0.85079037649592, 0.7257424486268753], [0.9998347709734123, 0.0006595598105881345, 4.53919810713242e-06, 2.298445458247786e-06, 3.516525676679274e-07, 2.883049479141445e-07], [0.00013771796103637413, 0.04712358649351514, 0.00056825756958512, 8.680929184879427e-05, 3.0542770876122105e-05, 1.8508425520230495e-05], [2.0060549697082174e-07, 0.0016315028346086766, 0.016038058449499074, 0.013662095904721136, 0.008768073964044571, 0.005217071400073774], [2.0844057693278434e-07, 0.00028947289758399263, 0.005727736423452804, 0.03262948331926863, 0.06393062383424994, 0.0819665743433032], [6.569958113580625e-07, 0.00016017767617812904, 0.0012429376101324883, 0.015769053923811976, 0.07647957008894662, 0.18705463762067445]]}], {\"titlefont\": {\"color\": \"#FFF\"}, \"plot_bgcolor\": \"#000\", \"yaxis\": {\"title\": \"Count Word\", \"range\": [-0.5, 5.5], \"dtick\": 1, \"tickcolor\": \"#FFF\"}, \"height\": 300, \"title\": \"3 Blobs:Confidence after 12800 Iters\", \"xaxis\": {\"title\": \"Glimpses\", \"range\": [-0.5, 5.5], \"dtick\": 1, \"tickcolor\": \"#FFF\"}, \"width\": 300, \"font\": {\"color\": \"#FFF\"}, \"paper_bgcolor\": \"#000\"}, {\"linkText\": \"Export to plot.ly\", \"showLink\": true})});</script>"
      ]
     },
     "metadata": {},
     "output_type": "display_data"
    },
    {
     "data": {
      "application/vnd.plotly.v1+json": {
       "data": [
        {
         "colorscale": "Jet",
         "type": "heatmap",
         "z": [
          [
           6.085992061484618e-05,
           0.971489082241002,
           0.9974404279492859,
           0.9869080015480852,
           0.977133328666456,
           0.9829352474493317
          ],
          [
           0.9999189072107365,
           0.001133371512224009,
           0.0001852845102269529,
           9.732268547200782e-05,
           0.0003649519889661681,
           0.0007224097850240119
          ],
          [
           1.7361485605027474e-05,
           0.02693513607874264,
           1.800135584598254e-05,
           4.399030892417093e-06,
           4.493248113850769e-06,
           7.840929728685056e-06
          ],
          [
           4.8155445043595723e-08,
           0.00033074629958268134,
           0.0002680307249201302,
           3.923610223368378e-05,
           1.3920081506476189e-05,
           1.2254193883236177e-05
          ],
          [
           4.0081165094924696e-07,
           6.29707185801132e-05,
           0.0016421475533284614,
           0.006123116379240872,
           0.002836189295393995,
           0.001551218041094227
          ],
          [
           1.9750369675974637e-06,
           4.826632212336003e-05,
           0.00044568547482161554,
           0.0068274774696159175,
           0.019646684823206587,
           0.014770603370320455
          ]
         ]
        }
       ],
       "layout": {
        "font": {
         "color": "#FFF"
        },
        "height": 300,
        "paper_bgcolor": "#000",
        "plot_bgcolor": "#000",
        "title": "3 Blobs:Confidence after 25600 Iters",
        "titlefont": {
         "color": "#FFF"
        },
        "width": 300,
        "xaxis": {
         "dtick": 1,
         "range": [
          -0.5,
          5.5
         ],
         "tickcolor": "#FFF",
         "title": "Glimpses"
        },
        "yaxis": {
         "dtick": 1,
         "range": [
          -0.5,
          5.5
         ],
         "tickcolor": "#FFF",
         "title": "Count Word"
        }
       }
      },
      "text/html": [
       "<div id=\"268efc55-fdc7-4021-9781-5ee74ec03d65\" style=\"height: 300px; width: 300px;\" class=\"plotly-graph-div\"></div><script type=\"text/javascript\">require([\"plotly\"], function(Plotly) { window.PLOTLYENV=window.PLOTLYENV || {};window.PLOTLYENV.BASE_URL=\"https://plot.ly\";Plotly.newPlot(\"268efc55-fdc7-4021-9781-5ee74ec03d65\", [{\"type\": \"heatmap\", \"colorscale\": \"Jet\", \"z\": [[6.085992061484618e-05, 0.971489082241002, 0.9974404279492859, 0.9869080015480852, 0.977133328666456, 0.9829352474493317], [0.9999189072107365, 0.001133371512224009, 0.0001852845102269529, 9.732268547200782e-05, 0.0003649519889661681, 0.0007224097850240119], [1.7361485605027474e-05, 0.02693513607874264, 1.800135584598254e-05, 4.399030892417093e-06, 4.493248113850769e-06, 7.840929728685056e-06], [4.8155445043595723e-08, 0.00033074629958268134, 0.0002680307249201302, 3.923610223368378e-05, 1.3920081506476189e-05, 1.2254193883236177e-05], [4.0081165094924696e-07, 6.29707185801132e-05, 0.0016421475533284614, 0.006123116379240872, 0.002836189295393995, 0.001551218041094227], [1.9750369675974637e-06, 4.826632212336003e-05, 0.00044568547482161554, 0.0068274774696159175, 0.019646684823206587, 0.014770603370320455]]}], {\"titlefont\": {\"color\": \"#FFF\"}, \"plot_bgcolor\": \"#000\", \"yaxis\": {\"title\": \"Count Word\", \"range\": [-0.5, 5.5], \"dtick\": 1, \"tickcolor\": \"#FFF\"}, \"height\": 300, \"title\": \"3 Blobs:Confidence after 25600 Iters\", \"xaxis\": {\"title\": \"Glimpses\", \"range\": [-0.5, 5.5], \"dtick\": 1, \"tickcolor\": \"#FFF\"}, \"width\": 300, \"font\": {\"color\": \"#FFF\"}, \"paper_bgcolor\": \"#000\"}, {\"linkText\": \"Export to plot.ly\", \"showLink\": true})});</script>"
      ],
      "text/vnd.plotly.v1+html": [
       "<div id=\"268efc55-fdc7-4021-9781-5ee74ec03d65\" style=\"height: 300px; width: 300px;\" class=\"plotly-graph-div\"></div><script type=\"text/javascript\">require([\"plotly\"], function(Plotly) { window.PLOTLYENV=window.PLOTLYENV || {};window.PLOTLYENV.BASE_URL=\"https://plot.ly\";Plotly.newPlot(\"268efc55-fdc7-4021-9781-5ee74ec03d65\", [{\"type\": \"heatmap\", \"colorscale\": \"Jet\", \"z\": [[6.085992061484618e-05, 0.971489082241002, 0.9974404279492859, 0.9869080015480852, 0.977133328666456, 0.9829352474493317], [0.9999189072107365, 0.001133371512224009, 0.0001852845102269529, 9.732268547200782e-05, 0.0003649519889661681, 0.0007224097850240119], [1.7361485605027474e-05, 0.02693513607874264, 1.800135584598254e-05, 4.399030892417093e-06, 4.493248113850769e-06, 7.840929728685056e-06], [4.8155445043595723e-08, 0.00033074629958268134, 0.0002680307249201302, 3.923610223368378e-05, 1.3920081506476189e-05, 1.2254193883236177e-05], [4.0081165094924696e-07, 6.29707185801132e-05, 0.0016421475533284614, 0.006123116379240872, 0.002836189295393995, 0.001551218041094227], [1.9750369675974637e-06, 4.826632212336003e-05, 0.00044568547482161554, 0.0068274774696159175, 0.019646684823206587, 0.014770603370320455]]}], {\"titlefont\": {\"color\": \"#FFF\"}, \"plot_bgcolor\": \"#000\", \"yaxis\": {\"title\": \"Count Word\", \"range\": [-0.5, 5.5], \"dtick\": 1, \"tickcolor\": \"#FFF\"}, \"height\": 300, \"title\": \"3 Blobs:Confidence after 25600 Iters\", \"xaxis\": {\"title\": \"Glimpses\", \"range\": [-0.5, 5.5], \"dtick\": 1, \"tickcolor\": \"#FFF\"}, \"width\": 300, \"font\": {\"color\": \"#FFF\"}, \"paper_bgcolor\": \"#000\"}, {\"linkText\": \"Export to plot.ly\", \"showLink\": true})});</script>"
      ]
     },
     "metadata": {},
     "output_type": "display_data"
    },
    {
     "data": {
      "application/vnd.plotly.v1+json": {
       "data": [
        {
         "colorscale": "Jet",
         "type": "heatmap",
         "z": [
          [
           1.2614784195134676e-05,
           0.8024670905705318,
           0.998325607450695,
           0.995475841032634,
           0.9689196955220148,
           0.9903645958612178
          ],
          [
           0.999981905596643,
           0.0002941516273729369,
           6.661366897482286e-05,
           0.00010886172039392652,
           0.00021007980801918632,
           0.0001303788277328836
          ],
          [
           3.897436498229752e-06,
           0.19672957928588253,
           1.7998248499193512e-05,
           3.0059143824557793e-06,
           1.095118201857229e-05,
           3.300790649326208e-05
          ],
          [
           1.2850692422278801e-08,
           0.0004883375107613986,
           0.0014711163193663883,
           6.27897812485516e-05,
           7.570359041173336e-06,
           1.1288197413627923e-05
          ],
          [
           3.4168955241130886e-08,
           3.0846900604019246e-06,
           8.963360583296592e-05,
           0.002435036965474464,
           0.0002834773619093177,
           7.274324700497121e-05
          ],
          [
           1.1216098250090854e-06,
           1.7357000564286716e-05,
           2.862210903900416e-05,
           0.0019140503686228248,
           0.030567807031404274,
           0.009387591609323965
          ]
         ]
        }
       ],
       "layout": {
        "font": {
         "color": "#FFF"
        },
        "height": 300,
        "paper_bgcolor": "#000",
        "plot_bgcolor": "#000",
        "title": "3 Blobs:Confidence after 51200 Iters",
        "titlefont": {
         "color": "#FFF"
        },
        "width": 300,
        "xaxis": {
         "dtick": 1,
         "range": [
          -0.5,
          5.5
         ],
         "tickcolor": "#FFF",
         "title": "Glimpses"
        },
        "yaxis": {
         "dtick": 1,
         "range": [
          -0.5,
          5.5
         ],
         "tickcolor": "#FFF",
         "title": "Count Word"
        }
       }
      },
      "text/html": [
       "<div id=\"5f4dad07-eed5-441f-a752-b3abfe721981\" style=\"height: 300px; width: 300px;\" class=\"plotly-graph-div\"></div><script type=\"text/javascript\">require([\"plotly\"], function(Plotly) { window.PLOTLYENV=window.PLOTLYENV || {};window.PLOTLYENV.BASE_URL=\"https://plot.ly\";Plotly.newPlot(\"5f4dad07-eed5-441f-a752-b3abfe721981\", [{\"type\": \"heatmap\", \"colorscale\": \"Jet\", \"z\": [[1.2614784195134676e-05, 0.8024670905705318, 0.998325607450695, 0.995475841032634, 0.9689196955220148, 0.9903645958612178], [0.999981905596643, 0.0002941516273729369, 6.661366897482286e-05, 0.00010886172039392652, 0.00021007980801918632, 0.0001303788277328836], [3.897436498229752e-06, 0.19672957928588253, 1.7998248499193512e-05, 3.0059143824557793e-06, 1.095118201857229e-05, 3.300790649326208e-05], [1.2850692422278801e-08, 0.0004883375107613986, 0.0014711163193663883, 6.27897812485516e-05, 7.570359041173336e-06, 1.1288197413627923e-05], [3.4168955241130886e-08, 3.0846900604019246e-06, 8.963360583296592e-05, 0.002435036965474464, 0.0002834773619093177, 7.274324700497121e-05], [1.1216098250090854e-06, 1.7357000564286716e-05, 2.862210903900416e-05, 0.0019140503686228248, 0.030567807031404274, 0.009387591609323965]]}], {\"titlefont\": {\"color\": \"#FFF\"}, \"plot_bgcolor\": \"#000\", \"yaxis\": {\"title\": \"Count Word\", \"range\": [-0.5, 5.5], \"dtick\": 1, \"tickcolor\": \"#FFF\"}, \"height\": 300, \"title\": \"3 Blobs:Confidence after 51200 Iters\", \"xaxis\": {\"title\": \"Glimpses\", \"range\": [-0.5, 5.5], \"dtick\": 1, \"tickcolor\": \"#FFF\"}, \"width\": 300, \"font\": {\"color\": \"#FFF\"}, \"paper_bgcolor\": \"#000\"}, {\"linkText\": \"Export to plot.ly\", \"showLink\": true})});</script>"
      ],
      "text/vnd.plotly.v1+html": [
       "<div id=\"5f4dad07-eed5-441f-a752-b3abfe721981\" style=\"height: 300px; width: 300px;\" class=\"plotly-graph-div\"></div><script type=\"text/javascript\">require([\"plotly\"], function(Plotly) { window.PLOTLYENV=window.PLOTLYENV || {};window.PLOTLYENV.BASE_URL=\"https://plot.ly\";Plotly.newPlot(\"5f4dad07-eed5-441f-a752-b3abfe721981\", [{\"type\": \"heatmap\", \"colorscale\": \"Jet\", \"z\": [[1.2614784195134676e-05, 0.8024670905705318, 0.998325607450695, 0.995475841032634, 0.9689196955220148, 0.9903645958612178], [0.999981905596643, 0.0002941516273729369, 6.661366897482286e-05, 0.00010886172039392652, 0.00021007980801918632, 0.0001303788277328836], [3.897436498229752e-06, 0.19672957928588253, 1.7998248499193512e-05, 3.0059143824557793e-06, 1.095118201857229e-05, 3.300790649326208e-05], [1.2850692422278801e-08, 0.0004883375107613986, 0.0014711163193663883, 6.27897812485516e-05, 7.570359041173336e-06, 1.1288197413627923e-05], [3.4168955241130886e-08, 3.0846900604019246e-06, 8.963360583296592e-05, 0.002435036965474464, 0.0002834773619093177, 7.274324700497121e-05], [1.1216098250090854e-06, 1.7357000564286716e-05, 2.862210903900416e-05, 0.0019140503686228248, 0.030567807031404274, 0.009387591609323965]]}], {\"titlefont\": {\"color\": \"#FFF\"}, \"plot_bgcolor\": \"#000\", \"yaxis\": {\"title\": \"Count Word\", \"range\": [-0.5, 5.5], \"dtick\": 1, \"tickcolor\": \"#FFF\"}, \"height\": 300, \"title\": \"3 Blobs:Confidence after 51200 Iters\", \"xaxis\": {\"title\": \"Glimpses\", \"range\": [-0.5, 5.5], \"dtick\": 1, \"tickcolor\": \"#FFF\"}, \"width\": 300, \"font\": {\"color\": \"#FFF\"}, \"paper_bgcolor\": \"#000\"}, {\"linkText\": \"Export to plot.ly\", \"showLink\": true})});</script>"
      ]
     },
     "metadata": {},
     "output_type": "display_data"
    },
    {
     "data": {
      "application/vnd.plotly.v1+json": {
       "data": [
        {
         "colorscale": "Jet",
         "type": "heatmap",
         "z": [
          [
           5.275638381803574e-05,
           0.6672163432785481,
           0.854898007144319,
           0.955673102698374,
           0.8175867816599698,
           0.9949007483406674
          ],
          [
           0.9998800065318038,
           9.621356701467054e-05,
           1.9741504590918305e-08,
           3.4712141696444246e-05,
           0.000384476088153584,
           7.358560865754484e-06
          ],
          [
           5.8251529907907425e-05,
           0.33222604418794366,
           8.611716358593537e-05,
           6.000829295570389e-07,
           3.0624519345862644e-05,
           0.00013901085775802188
          ],
          [
           1.2871495632017975e-07,
           0.00044716064665016863,
           0.14487734627682325,
           0.00016195175549461727,
           7.2938146825610095e-06,
           4.493450080417228e-05
          ],
          [
           1.1695804170225375e-07,
           2.771556976897685e-06,
           0.00013239293913421533,
           0.041167459197178354,
           0.0002560365425797667,
           2.8689237427045048e-05
          ],
          [
           8.326481857488282e-06,
           1.1060375144968439e-05,
           5.713057361585357e-06,
           0.0029617338469882563,
           0.18173436326293482,
           0.00487884589970698
          ]
         ]
        }
       ],
       "layout": {
        "font": {
         "color": "#FFF"
        },
        "height": 300,
        "paper_bgcolor": "#000",
        "plot_bgcolor": "#000",
        "title": "3 Blobs:Confidence after 102400 Iters",
        "titlefont": {
         "color": "#FFF"
        },
        "width": 300,
        "xaxis": {
         "dtick": 1,
         "range": [
          -0.5,
          5.5
         ],
         "tickcolor": "#FFF",
         "title": "Glimpses"
        },
        "yaxis": {
         "dtick": 1,
         "range": [
          -0.5,
          5.5
         ],
         "tickcolor": "#FFF",
         "title": "Count Word"
        }
       }
      },
      "text/html": [
       "<div id=\"8b8d5d40-254f-4775-8a0c-194ff003d8f8\" style=\"height: 300px; width: 300px;\" class=\"plotly-graph-div\"></div><script type=\"text/javascript\">require([\"plotly\"], function(Plotly) { window.PLOTLYENV=window.PLOTLYENV || {};window.PLOTLYENV.BASE_URL=\"https://plot.ly\";Plotly.newPlot(\"8b8d5d40-254f-4775-8a0c-194ff003d8f8\", [{\"type\": \"heatmap\", \"colorscale\": \"Jet\", \"z\": [[5.275638381803574e-05, 0.6672163432785481, 0.854898007144319, 0.955673102698374, 0.8175867816599698, 0.9949007483406674], [0.9998800065318038, 9.621356701467054e-05, 1.9741504590918305e-08, 3.4712141696444246e-05, 0.000384476088153584, 7.358560865754484e-06], [5.8251529907907425e-05, 0.33222604418794366, 8.611716358593537e-05, 6.000829295570389e-07, 3.0624519345862644e-05, 0.00013901085775802188], [1.2871495632017975e-07, 0.00044716064665016863, 0.14487734627682325, 0.00016195175549461727, 7.2938146825610095e-06, 4.493450080417228e-05], [1.1695804170225375e-07, 2.771556976897685e-06, 0.00013239293913421533, 0.041167459197178354, 0.0002560365425797667, 2.8689237427045048e-05], [8.326481857488282e-06, 1.1060375144968439e-05, 5.713057361585357e-06, 0.0029617338469882563, 0.18173436326293482, 0.00487884589970698]]}], {\"titlefont\": {\"color\": \"#FFF\"}, \"plot_bgcolor\": \"#000\", \"yaxis\": {\"title\": \"Count Word\", \"range\": [-0.5, 5.5], \"dtick\": 1, \"tickcolor\": \"#FFF\"}, \"height\": 300, \"title\": \"3 Blobs:Confidence after 102400 Iters\", \"xaxis\": {\"title\": \"Glimpses\", \"range\": [-0.5, 5.5], \"dtick\": 1, \"tickcolor\": \"#FFF\"}, \"width\": 300, \"font\": {\"color\": \"#FFF\"}, \"paper_bgcolor\": \"#000\"}, {\"linkText\": \"Export to plot.ly\", \"showLink\": true})});</script>"
      ],
      "text/vnd.plotly.v1+html": [
       "<div id=\"8b8d5d40-254f-4775-8a0c-194ff003d8f8\" style=\"height: 300px; width: 300px;\" class=\"plotly-graph-div\"></div><script type=\"text/javascript\">require([\"plotly\"], function(Plotly) { window.PLOTLYENV=window.PLOTLYENV || {};window.PLOTLYENV.BASE_URL=\"https://plot.ly\";Plotly.newPlot(\"8b8d5d40-254f-4775-8a0c-194ff003d8f8\", [{\"type\": \"heatmap\", \"colorscale\": \"Jet\", \"z\": [[5.275638381803574e-05, 0.6672163432785481, 0.854898007144319, 0.955673102698374, 0.8175867816599698, 0.9949007483406674], [0.9998800065318038, 9.621356701467054e-05, 1.9741504590918305e-08, 3.4712141696444246e-05, 0.000384476088153584, 7.358560865754484e-06], [5.8251529907907425e-05, 0.33222604418794366, 8.611716358593537e-05, 6.000829295570389e-07, 3.0624519345862644e-05, 0.00013901085775802188], [1.2871495632017975e-07, 0.00044716064665016863, 0.14487734627682325, 0.00016195175549461727, 7.2938146825610095e-06, 4.493450080417228e-05], [1.1695804170225375e-07, 2.771556976897685e-06, 0.00013239293913421533, 0.041167459197178354, 0.0002560365425797667, 2.8689237427045048e-05], [8.326481857488282e-06, 1.1060375144968439e-05, 5.713057361585357e-06, 0.0029617338469882563, 0.18173436326293482, 0.00487884589970698]]}], {\"titlefont\": {\"color\": \"#FFF\"}, \"plot_bgcolor\": \"#000\", \"yaxis\": {\"title\": \"Count Word\", \"range\": [-0.5, 5.5], \"dtick\": 1, \"tickcolor\": \"#FFF\"}, \"height\": 300, \"title\": \"3 Blobs:Confidence after 102400 Iters\", \"xaxis\": {\"title\": \"Glimpses\", \"range\": [-0.5, 5.5], \"dtick\": 1, \"tickcolor\": \"#FFF\"}, \"width\": 300, \"font\": {\"color\": \"#FFF\"}, \"paper_bgcolor\": \"#000\"}, {\"linkText\": \"Export to plot.ly\", \"showLink\": true})});</script>"
      ]
     },
     "metadata": {},
     "output_type": "display_data"
    },
    {
     "data": {
      "application/vnd.plotly.v1+json": {
       "data": [
        {
         "colorscale": "Jet",
         "type": "heatmap",
         "z": [
          [
           0.002887552114448694,
           0.5256836895700193,
           0.6259052311998524,
           0.9399284133979516,
           0.9837385038202259,
           0.9983150504467602
          ],
          [
           0.9962166261126644,
           2.069301871082132e-06,
           9.007097459109172e-09,
           1.3060455203052718e-06,
           7.358627968021538e-05,
           6.317111776070137e-06
          ],
          [
           0.0007890509739494611,
           0.4739021848587538,
           0.00011944564116226294,
           2.3028489913680925e-07,
           3.339861676975273e-06,
           1.1041528049459464e-05
          ],
          [
           8.2397241174442e-06,
           0.00039938480273493687,
           0.3736214607283773,
           0.0001650110234399113,
           4.066143203534523e-06,
           1.0592899715870816e-05
          ],
          [
           7.747191184128252e-06,
           1.0377750520662193e-05,
           0.0003496258489635519,
           0.05957417370590629,
           0.0020743013527726568,
           8.869929138156761e-05
          ],
          [
           9.027514453814015e-05,
           1.7579780559835425e-06,
           3.7028512430575546e-06,
           0.0003303640053150932,
           0.01410569345143623,
           0.0015677826895169743
          ]
         ]
        }
       ],
       "layout": {
        "font": {
         "color": "#FFF"
        },
        "height": 300,
        "paper_bgcolor": "#000",
        "plot_bgcolor": "#000",
        "title": "3 Blobs:Confidence after 153600 Iters",
        "titlefont": {
         "color": "#FFF"
        },
        "width": 300,
        "xaxis": {
         "dtick": 1,
         "range": [
          -0.5,
          5.5
         ],
         "tickcolor": "#FFF",
         "title": "Glimpses"
        },
        "yaxis": {
         "dtick": 1,
         "range": [
          -0.5,
          5.5
         ],
         "tickcolor": "#FFF",
         "title": "Count Word"
        }
       }
      },
      "text/html": [
       "<div id=\"81c76681-b2b5-4460-bca8-844a905e40bf\" style=\"height: 300px; width: 300px;\" class=\"plotly-graph-div\"></div><script type=\"text/javascript\">require([\"plotly\"], function(Plotly) { window.PLOTLYENV=window.PLOTLYENV || {};window.PLOTLYENV.BASE_URL=\"https://plot.ly\";Plotly.newPlot(\"81c76681-b2b5-4460-bca8-844a905e40bf\", [{\"type\": \"heatmap\", \"colorscale\": \"Jet\", \"z\": [[0.002887552114448694, 0.5256836895700193, 0.6259052311998524, 0.9399284133979516, 0.9837385038202259, 0.9983150504467602], [0.9962166261126644, 2.069301871082132e-06, 9.007097459109172e-09, 1.3060455203052718e-06, 7.358627968021538e-05, 6.317111776070137e-06], [0.0007890509739494611, 0.4739021848587538, 0.00011944564116226294, 2.3028489913680925e-07, 3.339861676975273e-06, 1.1041528049459464e-05], [8.2397241174442e-06, 0.00039938480273493687, 0.3736214607283773, 0.0001650110234399113, 4.066143203534523e-06, 1.0592899715870816e-05], [7.747191184128252e-06, 1.0377750520662193e-05, 0.0003496258489635519, 0.05957417370590629, 0.0020743013527726568, 8.869929138156761e-05], [9.027514453814015e-05, 1.7579780559835425e-06, 3.7028512430575546e-06, 0.0003303640053150932, 0.01410569345143623, 0.0015677826895169743]]}], {\"titlefont\": {\"color\": \"#FFF\"}, \"plot_bgcolor\": \"#000\", \"yaxis\": {\"title\": \"Count Word\", \"range\": [-0.5, 5.5], \"dtick\": 1, \"tickcolor\": \"#FFF\"}, \"height\": 300, \"title\": \"3 Blobs:Confidence after 153600 Iters\", \"xaxis\": {\"title\": \"Glimpses\", \"range\": [-0.5, 5.5], \"dtick\": 1, \"tickcolor\": \"#FFF\"}, \"width\": 300, \"font\": {\"color\": \"#FFF\"}, \"paper_bgcolor\": \"#000\"}, {\"linkText\": \"Export to plot.ly\", \"showLink\": true})});</script>"
      ],
      "text/vnd.plotly.v1+html": [
       "<div id=\"81c76681-b2b5-4460-bca8-844a905e40bf\" style=\"height: 300px; width: 300px;\" class=\"plotly-graph-div\"></div><script type=\"text/javascript\">require([\"plotly\"], function(Plotly) { window.PLOTLYENV=window.PLOTLYENV || {};window.PLOTLYENV.BASE_URL=\"https://plot.ly\";Plotly.newPlot(\"81c76681-b2b5-4460-bca8-844a905e40bf\", [{\"type\": \"heatmap\", \"colorscale\": \"Jet\", \"z\": [[0.002887552114448694, 0.5256836895700193, 0.6259052311998524, 0.9399284133979516, 0.9837385038202259, 0.9983150504467602], [0.9962166261126644, 2.069301871082132e-06, 9.007097459109172e-09, 1.3060455203052718e-06, 7.358627968021538e-05, 6.317111776070137e-06], [0.0007890509739494611, 0.4739021848587538, 0.00011944564116226294, 2.3028489913680925e-07, 3.339861676975273e-06, 1.1041528049459464e-05], [8.2397241174442e-06, 0.00039938480273493687, 0.3736214607283773, 0.0001650110234399113, 4.066143203534523e-06, 1.0592899715870816e-05], [7.747191184128252e-06, 1.0377750520662193e-05, 0.0003496258489635519, 0.05957417370590629, 0.0020743013527726568, 8.869929138156761e-05], [9.027514453814015e-05, 1.7579780559835425e-06, 3.7028512430575546e-06, 0.0003303640053150932, 0.01410569345143623, 0.0015677826895169743]]}], {\"titlefont\": {\"color\": \"#FFF\"}, \"plot_bgcolor\": \"#000\", \"yaxis\": {\"title\": \"Count Word\", \"range\": [-0.5, 5.5], \"dtick\": 1, \"tickcolor\": \"#FFF\"}, \"height\": 300, \"title\": \"3 Blobs:Confidence after 153600 Iters\", \"xaxis\": {\"title\": \"Glimpses\", \"range\": [-0.5, 5.5], \"dtick\": 1, \"tickcolor\": \"#FFF\"}, \"width\": 300, \"font\": {\"color\": \"#FFF\"}, \"paper_bgcolor\": \"#000\"}, {\"linkText\": \"Export to plot.ly\", \"showLink\": true})});</script>"
      ]
     },
     "metadata": {},
     "output_type": "display_data"
    },
    {
     "data": {
      "application/vnd.plotly.v1+json": {
       "data": [
        {
         "colorscale": "Jet",
         "type": "heatmap",
         "z": [
          [
           3.2489323784670455e-05,
           0.5840133655929198,
           0.73907798832985,
           0.9833427917085877,
           0.9801254648081149,
           0.9977810213969293
          ],
          [
           0.9999251874307368,
           0.0001811889030653479,
           1.1865299269903583e-08,
           3.1651739572505677e-06,
           0.00013389174181344137,
           8.576195517945134e-06
          ],
          [
           3.105276998448845e-05,
           0.41568528970946506,
           0.00019412916871618542,
           3.6507412453318395e-07,
           3.8759773589487735e-06,
           3.674599406895311e-05
          ],
          [
           5.596367537201209e-08,
           0.00010770741101809199,
           0.26069299774479204,
           0.00011284827581676576,
           1.105934953414407e-06,
           3.0589832550635505e-06
          ],
          [
           1.0193017965274293e-07,
           1.839691763883888e-06,
           3.326303327026543e-05,
           0.0163134629807532,
           0.00020219478853541578,
           3.459498163013786e-06
          ],
          [
           1.0282467501877037e-05,
           9.780522091707684e-06,
           7.837894662421448e-07,
           0.00022654012272785995,
           0.019532670695299393,
           0.002166299037017643
          ]
         ]
        }
       ],
       "layout": {
        "font": {
         "color": "#FFF"
        },
        "height": 300,
        "paper_bgcolor": "#000",
        "plot_bgcolor": "#000",
        "title": "3 Blobs:Confidence after 204800 Iters",
        "titlefont": {
         "color": "#FFF"
        },
        "width": 300,
        "xaxis": {
         "dtick": 1,
         "range": [
          -0.5,
          5.5
         ],
         "tickcolor": "#FFF",
         "title": "Glimpses"
        },
        "yaxis": {
         "dtick": 1,
         "range": [
          -0.5,
          5.5
         ],
         "tickcolor": "#FFF",
         "title": "Count Word"
        }
       }
      },
      "text/html": [
       "<div id=\"a74df748-9a65-44f2-9a31-c5f57ce057a0\" style=\"height: 300px; width: 300px;\" class=\"plotly-graph-div\"></div><script type=\"text/javascript\">require([\"plotly\"], function(Plotly) { window.PLOTLYENV=window.PLOTLYENV || {};window.PLOTLYENV.BASE_URL=\"https://plot.ly\";Plotly.newPlot(\"a74df748-9a65-44f2-9a31-c5f57ce057a0\", [{\"type\": \"heatmap\", \"colorscale\": \"Jet\", \"z\": [[3.2489323784670455e-05, 0.5840133655929198, 0.73907798832985, 0.9833427917085877, 0.9801254648081149, 0.9977810213969293], [0.9999251874307368, 0.0001811889030653479, 1.1865299269903583e-08, 3.1651739572505677e-06, 0.00013389174181344137, 8.576195517945134e-06], [3.105276998448845e-05, 0.41568528970946506, 0.00019412916871618542, 3.6507412453318395e-07, 3.8759773589487735e-06, 3.674599406895311e-05], [5.596367537201209e-08, 0.00010770741101809199, 0.26069299774479204, 0.00011284827581676576, 1.105934953414407e-06, 3.0589832550635505e-06], [1.0193017965274293e-07, 1.839691763883888e-06, 3.326303327026543e-05, 0.0163134629807532, 0.00020219478853541578, 3.459498163013786e-06], [1.0282467501877037e-05, 9.780522091707684e-06, 7.837894662421448e-07, 0.00022654012272785995, 0.019532670695299393, 0.002166299037017643]]}], {\"titlefont\": {\"color\": \"#FFF\"}, \"plot_bgcolor\": \"#000\", \"yaxis\": {\"title\": \"Count Word\", \"range\": [-0.5, 5.5], \"dtick\": 1, \"tickcolor\": \"#FFF\"}, \"height\": 300, \"title\": \"3 Blobs:Confidence after 204800 Iters\", \"xaxis\": {\"title\": \"Glimpses\", \"range\": [-0.5, 5.5], \"dtick\": 1, \"tickcolor\": \"#FFF\"}, \"width\": 300, \"font\": {\"color\": \"#FFF\"}, \"paper_bgcolor\": \"#000\"}, {\"linkText\": \"Export to plot.ly\", \"showLink\": true})});</script>"
      ],
      "text/vnd.plotly.v1+html": [
       "<div id=\"a74df748-9a65-44f2-9a31-c5f57ce057a0\" style=\"height: 300px; width: 300px;\" class=\"plotly-graph-div\"></div><script type=\"text/javascript\">require([\"plotly\"], function(Plotly) { window.PLOTLYENV=window.PLOTLYENV || {};window.PLOTLYENV.BASE_URL=\"https://plot.ly\";Plotly.newPlot(\"a74df748-9a65-44f2-9a31-c5f57ce057a0\", [{\"type\": \"heatmap\", \"colorscale\": \"Jet\", \"z\": [[3.2489323784670455e-05, 0.5840133655929198, 0.73907798832985, 0.9833427917085877, 0.9801254648081149, 0.9977810213969293], [0.9999251874307368, 0.0001811889030653479, 1.1865299269903583e-08, 3.1651739572505677e-06, 0.00013389174181344137, 8.576195517945134e-06], [3.105276998448845e-05, 0.41568528970946506, 0.00019412916871618542, 3.6507412453318395e-07, 3.8759773589487735e-06, 3.674599406895311e-05], [5.596367537201209e-08, 0.00010770741101809199, 0.26069299774479204, 0.00011284827581676576, 1.105934953414407e-06, 3.0589832550635505e-06], [1.0193017965274293e-07, 1.839691763883888e-06, 3.326303327026543e-05, 0.0163134629807532, 0.00020219478853541578, 3.459498163013786e-06], [1.0282467501877037e-05, 9.780522091707684e-06, 7.837894662421448e-07, 0.00022654012272785995, 0.019532670695299393, 0.002166299037017643]]}], {\"titlefont\": {\"color\": \"#FFF\"}, \"plot_bgcolor\": \"#000\", \"yaxis\": {\"title\": \"Count Word\", \"range\": [-0.5, 5.5], \"dtick\": 1, \"tickcolor\": \"#FFF\"}, \"height\": 300, \"title\": \"3 Blobs:Confidence after 204800 Iters\", \"xaxis\": {\"title\": \"Glimpses\", \"range\": [-0.5, 5.5], \"dtick\": 1, \"tickcolor\": \"#FFF\"}, \"width\": 300, \"font\": {\"color\": \"#FFF\"}, \"paper_bgcolor\": \"#000\"}, {\"linkText\": \"Export to plot.ly\", \"showLink\": true})});</script>"
      ]
     },
     "metadata": {},
     "output_type": "display_data"
    },
    {
     "data": {
      "application/vnd.plotly.v1+json": {
       "data": [
        {
         "colorscale": "Jet",
         "type": "heatmap",
         "z": [
          [
           8.154375615652249e-05,
           0.7641246557939244,
           0.8209633032078392,
           0.8860909841116794,
           0.9499846403003613,
           0.999390024753798
          ],
          [
           0.9997762731432043,
           1.471143081195933e-05,
           4.805193568758715e-07,
           3.8870521847782935e-05,
           0.0009191192502399522,
           3.944713007509018e-06
          ],
          [
           0.0001000653179995956,
           0.23577549215304788,
           6.558253522022874e-05,
           6.530641673010768e-07,
           5.85973441885304e-06,
           1.0744297489038528e-05
          ],
          [
           2.293626477885479e-07,
           6.978983806234633e-05,
           0.17848951546902342,
           2.607017578881266e-05,
           2.3343350174528683e-07,
           4.3250730612121134e-07
          ],
          [
           3.093422304973691e-07,
           3.616252693566079e-06,
           0.00046808080923614907,
           0.11263081541700333,
           0.0003620792055162401,
           4.230576896485384e-06
          ],
          [
           4.10040531828923e-05,
           1.1132776853446944e-05,
           1.2429989955431675e-05,
           0.001212022650857121,
           0.048727453674953985,
           0.0005900689947779023
          ]
         ]
        }
       ],
       "layout": {
        "font": {
         "color": "#FFF"
        },
        "height": 300,
        "paper_bgcolor": "#000",
        "plot_bgcolor": "#000",
        "title": "3 Blobs:Confidence after 307200 Iters",
        "titlefont": {
         "color": "#FFF"
        },
        "width": 300,
        "xaxis": {
         "dtick": 1,
         "range": [
          -0.5,
          5.5
         ],
         "tickcolor": "#FFF",
         "title": "Glimpses"
        },
        "yaxis": {
         "dtick": 1,
         "range": [
          -0.5,
          5.5
         ],
         "tickcolor": "#FFF",
         "title": "Count Word"
        }
       }
      },
      "text/html": [
       "<div id=\"9babc631-5e8c-4965-82d2-f74ebea79971\" style=\"height: 300px; width: 300px;\" class=\"plotly-graph-div\"></div><script type=\"text/javascript\">require([\"plotly\"], function(Plotly) { window.PLOTLYENV=window.PLOTLYENV || {};window.PLOTLYENV.BASE_URL=\"https://plot.ly\";Plotly.newPlot(\"9babc631-5e8c-4965-82d2-f74ebea79971\", [{\"type\": \"heatmap\", \"colorscale\": \"Jet\", \"z\": [[8.154375615652249e-05, 0.7641246557939244, 0.8209633032078392, 0.8860909841116794, 0.9499846403003613, 0.999390024753798], [0.9997762731432043, 1.471143081195933e-05, 4.805193568758715e-07, 3.8870521847782935e-05, 0.0009191192502399522, 3.944713007509018e-06], [0.0001000653179995956, 0.23577549215304788, 6.558253522022874e-05, 6.530641673010768e-07, 5.85973441885304e-06, 1.0744297489038528e-05], [2.293626477885479e-07, 6.978983806234633e-05, 0.17848951546902342, 2.607017578881266e-05, 2.3343350174528683e-07, 4.3250730612121134e-07], [3.093422304973691e-07, 3.616252693566079e-06, 0.00046808080923614907, 0.11263081541700333, 0.0003620792055162401, 4.230576896485384e-06], [4.10040531828923e-05, 1.1132776853446944e-05, 1.2429989955431675e-05, 0.001212022650857121, 0.048727453674953985, 0.0005900689947779023]]}], {\"titlefont\": {\"color\": \"#FFF\"}, \"plot_bgcolor\": \"#000\", \"yaxis\": {\"title\": \"Count Word\", \"range\": [-0.5, 5.5], \"dtick\": 1, \"tickcolor\": \"#FFF\"}, \"height\": 300, \"title\": \"3 Blobs:Confidence after 307200 Iters\", \"xaxis\": {\"title\": \"Glimpses\", \"range\": [-0.5, 5.5], \"dtick\": 1, \"tickcolor\": \"#FFF\"}, \"width\": 300, \"font\": {\"color\": \"#FFF\"}, \"paper_bgcolor\": \"#000\"}, {\"linkText\": \"Export to plot.ly\", \"showLink\": true})});</script>"
      ],
      "text/vnd.plotly.v1+html": [
       "<div id=\"9babc631-5e8c-4965-82d2-f74ebea79971\" style=\"height: 300px; width: 300px;\" class=\"plotly-graph-div\"></div><script type=\"text/javascript\">require([\"plotly\"], function(Plotly) { window.PLOTLYENV=window.PLOTLYENV || {};window.PLOTLYENV.BASE_URL=\"https://plot.ly\";Plotly.newPlot(\"9babc631-5e8c-4965-82d2-f74ebea79971\", [{\"type\": \"heatmap\", \"colorscale\": \"Jet\", \"z\": [[8.154375615652249e-05, 0.7641246557939244, 0.8209633032078392, 0.8860909841116794, 0.9499846403003613, 0.999390024753798], [0.9997762731432043, 1.471143081195933e-05, 4.805193568758715e-07, 3.8870521847782935e-05, 0.0009191192502399522, 3.944713007509018e-06], [0.0001000653179995956, 0.23577549215304788, 6.558253522022874e-05, 6.530641673010768e-07, 5.85973441885304e-06, 1.0744297489038528e-05], [2.293626477885479e-07, 6.978983806234633e-05, 0.17848951546902342, 2.607017578881266e-05, 2.3343350174528683e-07, 4.3250730612121134e-07], [3.093422304973691e-07, 3.616252693566079e-06, 0.00046808080923614907, 0.11263081541700333, 0.0003620792055162401, 4.230576896485384e-06], [4.10040531828923e-05, 1.1132776853446944e-05, 1.2429989955431675e-05, 0.001212022650857121, 0.048727453674953985, 0.0005900689947779023]]}], {\"titlefont\": {\"color\": \"#FFF\"}, \"plot_bgcolor\": \"#000\", \"yaxis\": {\"title\": \"Count Word\", \"range\": [-0.5, 5.5], \"dtick\": 1, \"tickcolor\": \"#FFF\"}, \"height\": 300, \"title\": \"3 Blobs:Confidence after 307200 Iters\", \"xaxis\": {\"title\": \"Glimpses\", \"range\": [-0.5, 5.5], \"dtick\": 1, \"tickcolor\": \"#FFF\"}, \"width\": 300, \"font\": {\"color\": \"#FFF\"}, \"paper_bgcolor\": \"#000\"}, {\"linkText\": \"Export to plot.ly\", \"showLink\": true})});</script>"
      ]
     },
     "metadata": {},
     "output_type": "display_data"
    },
    {
     "data": {
      "application/vnd.plotly.v1+json": {
       "data": [
        {
         "colorscale": "Jet",
         "type": "heatmap",
         "z": [
          [
           0.16648960274650862,
           0.16631418565088749,
           0.16614824214137888,
           0.1660086452914732,
           0.165890423082753,
           0.16577791936931266
          ],
          [
           0.16702755924470541,
           0.16710901888710814,
           0.16709551915107407,
           0.16707365419096085,
           0.1670848123170652,
           0.16715020567703517
          ],
          [
           0.16638343557145377,
           0.16613855497205762,
           0.1658578477407371,
           0.1655588277006089,
           0.16526322357266293,
           0.16499724222948517
          ],
          [
           0.16575970093448086,
           0.16514347293127957,
           0.16478018279436885,
           0.1645687921840187,
           0.16445561933780148,
           0.16440375693533132
          ],
          [
           0.16735017065008592,
           0.16796858273673076,
           0.16847025066722618,
           0.16888025521265554,
           0.1692147031014413,
           0.16949170775075778
          ],
          [
           0.16698903621346808,
           0.1673257072125295,
           0.16764748770117438,
           0.16790933574803688,
           0.168090747365078,
           0.16817870462024626
          ]
         ]
        }
       ],
       "layout": {
        "font": {
         "color": "#FFF"
        },
        "height": 300,
        "paper_bgcolor": "#000",
        "plot_bgcolor": "#000",
        "title": "4 Blobs:Confidence after 0 Iters",
        "titlefont": {
         "color": "#FFF"
        },
        "width": 300,
        "xaxis": {
         "dtick": 1,
         "range": [
          -0.5,
          5.5
         ],
         "tickcolor": "#FFF",
         "title": "Glimpses"
        },
        "yaxis": {
         "dtick": 1,
         "range": [
          -0.5,
          5.5
         ],
         "tickcolor": "#FFF",
         "title": "Count Word"
        }
       }
      },
      "text/html": [
       "<div id=\"2032fe5f-2193-4342-a8d6-818dd3a45ea6\" style=\"height: 300px; width: 300px;\" class=\"plotly-graph-div\"></div><script type=\"text/javascript\">require([\"plotly\"], function(Plotly) { window.PLOTLYENV=window.PLOTLYENV || {};window.PLOTLYENV.BASE_URL=\"https://plot.ly\";Plotly.newPlot(\"2032fe5f-2193-4342-a8d6-818dd3a45ea6\", [{\"type\": \"heatmap\", \"colorscale\": \"Jet\", \"z\": [[0.16648960274650862, 0.16631418565088749, 0.16614824214137888, 0.1660086452914732, 0.165890423082753, 0.16577791936931266], [0.16702755924470541, 0.16710901888710814, 0.16709551915107407, 0.16707365419096085, 0.1670848123170652, 0.16715020567703517], [0.16638343557145377, 0.16613855497205762, 0.1658578477407371, 0.1655588277006089, 0.16526322357266293, 0.16499724222948517], [0.16575970093448086, 0.16514347293127957, 0.16478018279436885, 0.1645687921840187, 0.16445561933780148, 0.16440375693533132], [0.16735017065008592, 0.16796858273673076, 0.16847025066722618, 0.16888025521265554, 0.1692147031014413, 0.16949170775075778], [0.16698903621346808, 0.1673257072125295, 0.16764748770117438, 0.16790933574803688, 0.168090747365078, 0.16817870462024626]]}], {\"titlefont\": {\"color\": \"#FFF\"}, \"plot_bgcolor\": \"#000\", \"yaxis\": {\"title\": \"Count Word\", \"range\": [-0.5, 5.5], \"dtick\": 1, \"tickcolor\": \"#FFF\"}, \"height\": 300, \"title\": \"4 Blobs:Confidence after 0 Iters\", \"xaxis\": {\"title\": \"Glimpses\", \"range\": [-0.5, 5.5], \"dtick\": 1, \"tickcolor\": \"#FFF\"}, \"width\": 300, \"font\": {\"color\": \"#FFF\"}, \"paper_bgcolor\": \"#000\"}, {\"linkText\": \"Export to plot.ly\", \"showLink\": true})});</script>"
      ],
      "text/vnd.plotly.v1+html": [
       "<div id=\"2032fe5f-2193-4342-a8d6-818dd3a45ea6\" style=\"height: 300px; width: 300px;\" class=\"plotly-graph-div\"></div><script type=\"text/javascript\">require([\"plotly\"], function(Plotly) { window.PLOTLYENV=window.PLOTLYENV || {};window.PLOTLYENV.BASE_URL=\"https://plot.ly\";Plotly.newPlot(\"2032fe5f-2193-4342-a8d6-818dd3a45ea6\", [{\"type\": \"heatmap\", \"colorscale\": \"Jet\", \"z\": [[0.16648960274650862, 0.16631418565088749, 0.16614824214137888, 0.1660086452914732, 0.165890423082753, 0.16577791936931266], [0.16702755924470541, 0.16710901888710814, 0.16709551915107407, 0.16707365419096085, 0.1670848123170652, 0.16715020567703517], [0.16638343557145377, 0.16613855497205762, 0.1658578477407371, 0.1655588277006089, 0.16526322357266293, 0.16499724222948517], [0.16575970093448086, 0.16514347293127957, 0.16478018279436885, 0.1645687921840187, 0.16445561933780148, 0.16440375693533132], [0.16735017065008592, 0.16796858273673076, 0.16847025066722618, 0.16888025521265554, 0.1692147031014413, 0.16949170775075778], [0.16698903621346808, 0.1673257072125295, 0.16764748770117438, 0.16790933574803688, 0.168090747365078, 0.16817870462024626]]}], {\"titlefont\": {\"color\": \"#FFF\"}, \"plot_bgcolor\": \"#000\", \"yaxis\": {\"title\": \"Count Word\", \"range\": [-0.5, 5.5], \"dtick\": 1, \"tickcolor\": \"#FFF\"}, \"height\": 300, \"title\": \"4 Blobs:Confidence after 0 Iters\", \"xaxis\": {\"title\": \"Glimpses\", \"range\": [-0.5, 5.5], \"dtick\": 1, \"tickcolor\": \"#FFF\"}, \"width\": 300, \"font\": {\"color\": \"#FFF\"}, \"paper_bgcolor\": \"#000\"}, {\"linkText\": \"Export to plot.ly\", \"showLink\": true})});</script>"
      ]
     },
     "metadata": {},
     "output_type": "display_data"
    },
    {
     "data": {
      "application/vnd.plotly.v1+json": {
       "data": [
        {
         "colorscale": "Jet",
         "type": "heatmap",
         "z": [
          [
           0.21579116998612605,
           0.22637594648368553,
           0.23506111527796172,
           0.24206879292963243,
           0.24758912110900227,
           0.2519260485324171
          ],
          [
           0.2875782281254907,
           0.2918499272493812,
           0.29446016787601154,
           0.29573689454230634,
           0.29634630791878624,
           0.2965253065081788
          ],
          [
           0.13940234328177675,
           0.13541457665445003,
           0.13242484890539274,
           0.1302722827352593,
           0.12863222179450315,
           0.12744730211452976
          ],
          [
           0.12237706320896058,
           0.11827377242626241,
           0.1153617944141331,
           0.11336404077478256,
           0.11208193379947293,
           0.11121682362124631
          ],
          [
           0.11916497551375493,
           0.11695347330356902,
           0.11542395307649803,
           0.11441235911763263,
           0.1137057579491114,
           0.11324335734413994
          ],
          [
           0.11568555917812927,
           0.11113163671972459,
           0.10726743838592435,
           0.10414496174404946,
           0.10164399523324716,
           0.09964050614077673
          ]
         ]
        }
       ],
       "layout": {
        "font": {
         "color": "#FFF"
        },
        "height": 300,
        "paper_bgcolor": "#000",
        "plot_bgcolor": "#000",
        "title": "4 Blobs:Confidence after 400 Iters",
        "titlefont": {
         "color": "#FFF"
        },
        "width": 300,
        "xaxis": {
         "dtick": 1,
         "range": [
          -0.5,
          5.5
         ],
         "tickcolor": "#FFF",
         "title": "Glimpses"
        },
        "yaxis": {
         "dtick": 1,
         "range": [
          -0.5,
          5.5
         ],
         "tickcolor": "#FFF",
         "title": "Count Word"
        }
       }
      },
      "text/html": [
       "<div id=\"6d63abf6-866a-40f2-9450-1861068c8d63\" style=\"height: 300px; width: 300px;\" class=\"plotly-graph-div\"></div><script type=\"text/javascript\">require([\"plotly\"], function(Plotly) { window.PLOTLYENV=window.PLOTLYENV || {};window.PLOTLYENV.BASE_URL=\"https://plot.ly\";Plotly.newPlot(\"6d63abf6-866a-40f2-9450-1861068c8d63\", [{\"type\": \"heatmap\", \"colorscale\": \"Jet\", \"z\": [[0.21579116998612605, 0.22637594648368553, 0.23506111527796172, 0.24206879292963243, 0.24758912110900227, 0.2519260485324171], [0.2875782281254907, 0.2918499272493812, 0.29446016787601154, 0.29573689454230634, 0.29634630791878624, 0.2965253065081788], [0.13940234328177675, 0.13541457665445003, 0.13242484890539274, 0.1302722827352593, 0.12863222179450315, 0.12744730211452976], [0.12237706320896058, 0.11827377242626241, 0.1153617944141331, 0.11336404077478256, 0.11208193379947293, 0.11121682362124631], [0.11916497551375493, 0.11695347330356902, 0.11542395307649803, 0.11441235911763263, 0.1137057579491114, 0.11324335734413994], [0.11568555917812927, 0.11113163671972459, 0.10726743838592435, 0.10414496174404946, 0.10164399523324716, 0.09964050614077673]]}], {\"titlefont\": {\"color\": \"#FFF\"}, \"plot_bgcolor\": \"#000\", \"yaxis\": {\"title\": \"Count Word\", \"range\": [-0.5, 5.5], \"dtick\": 1, \"tickcolor\": \"#FFF\"}, \"height\": 300, \"title\": \"4 Blobs:Confidence after 400 Iters\", \"xaxis\": {\"title\": \"Glimpses\", \"range\": [-0.5, 5.5], \"dtick\": 1, \"tickcolor\": \"#FFF\"}, \"width\": 300, \"font\": {\"color\": \"#FFF\"}, \"paper_bgcolor\": \"#000\"}, {\"linkText\": \"Export to plot.ly\", \"showLink\": true})});</script>"
      ],
      "text/vnd.plotly.v1+html": [
       "<div id=\"6d63abf6-866a-40f2-9450-1861068c8d63\" style=\"height: 300px; width: 300px;\" class=\"plotly-graph-div\"></div><script type=\"text/javascript\">require([\"plotly\"], function(Plotly) { window.PLOTLYENV=window.PLOTLYENV || {};window.PLOTLYENV.BASE_URL=\"https://plot.ly\";Plotly.newPlot(\"6d63abf6-866a-40f2-9450-1861068c8d63\", [{\"type\": \"heatmap\", \"colorscale\": \"Jet\", \"z\": [[0.21579116998612605, 0.22637594648368553, 0.23506111527796172, 0.24206879292963243, 0.24758912110900227, 0.2519260485324171], [0.2875782281254907, 0.2918499272493812, 0.29446016787601154, 0.29573689454230634, 0.29634630791878624, 0.2965253065081788], [0.13940234328177675, 0.13541457665445003, 0.13242484890539274, 0.1302722827352593, 0.12863222179450315, 0.12744730211452976], [0.12237706320896058, 0.11827377242626241, 0.1153617944141331, 0.11336404077478256, 0.11208193379947293, 0.11121682362124631], [0.11916497551375493, 0.11695347330356902, 0.11542395307649803, 0.11441235911763263, 0.1137057579491114, 0.11324335734413994], [0.11568555917812927, 0.11113163671972459, 0.10726743838592435, 0.10414496174404946, 0.10164399523324716, 0.09964050614077673]]}], {\"titlefont\": {\"color\": \"#FFF\"}, \"plot_bgcolor\": \"#000\", \"yaxis\": {\"title\": \"Count Word\", \"range\": [-0.5, 5.5], \"dtick\": 1, \"tickcolor\": \"#FFF\"}, \"height\": 300, \"title\": \"4 Blobs:Confidence after 400 Iters\", \"xaxis\": {\"title\": \"Glimpses\", \"range\": [-0.5, 5.5], \"dtick\": 1, \"tickcolor\": \"#FFF\"}, \"width\": 300, \"font\": {\"color\": \"#FFF\"}, \"paper_bgcolor\": \"#000\"}, {\"linkText\": \"Export to plot.ly\", \"showLink\": true})});</script>"
      ]
     },
     "metadata": {},
     "output_type": "display_data"
    },
    {
     "data": {
      "application/vnd.plotly.v1+json": {
       "data": [
        {
         "colorscale": "Jet",
         "type": "heatmap",
         "z": [
          [
           0.25287711313784295,
           0.48141649111017726,
           0.5987738388856905,
           0.7584319272181635,
           0.7825587216630013,
           0.8481055422342528
          ],
          [
           0.5140066470172491,
           0.371179432426641,
           0.3010171461360428,
           0.17535736603841492,
           0.16111868154264417,
           0.1078404255455695
          ],
          [
           0.07986288965155847,
           0.051477073343529356,
           0.03561205001022898,
           0.023206878754519173,
           0.019778685521540405,
           0.015268081181383931
          ],
          [
           0.06076850408394075,
           0.04270950163663976,
           0.03121845050582663,
           0.02215527852322018,
           0.01950691224107543,
           0.015766126502745358
          ],
          [
           0.04897548227931907,
           0.02975939009654139,
           0.0193400898501984,
           0.012550373910480606,
           0.010327119205012602,
           0.008055897170908686
          ],
          [
           0.043508783336107734,
           0.023457549260229842,
           0.014037865512568028,
           0.008297599032273352,
           0.0067093250734509375,
           0.0049633783420822515
          ]
         ]
        }
       ],
       "layout": {
        "font": {
         "color": "#FFF"
        },
        "height": 300,
        "paper_bgcolor": "#000",
        "plot_bgcolor": "#000",
        "title": "4 Blobs:Confidence after 800 Iters",
        "titlefont": {
         "color": "#FFF"
        },
        "width": 300,
        "xaxis": {
         "dtick": 1,
         "range": [
          -0.5,
          5.5
         ],
         "tickcolor": "#FFF",
         "title": "Glimpses"
        },
        "yaxis": {
         "dtick": 1,
         "range": [
          -0.5,
          5.5
         ],
         "tickcolor": "#FFF",
         "title": "Count Word"
        }
       }
      },
      "text/html": [
       "<div id=\"14605282-6a7b-4227-95a9-a5d7afa15dfc\" style=\"height: 300px; width: 300px;\" class=\"plotly-graph-div\"></div><script type=\"text/javascript\">require([\"plotly\"], function(Plotly) { window.PLOTLYENV=window.PLOTLYENV || {};window.PLOTLYENV.BASE_URL=\"https://plot.ly\";Plotly.newPlot(\"14605282-6a7b-4227-95a9-a5d7afa15dfc\", [{\"type\": \"heatmap\", \"colorscale\": \"Jet\", \"z\": [[0.25287711313784295, 0.48141649111017726, 0.5987738388856905, 0.7584319272181635, 0.7825587216630013, 0.8481055422342528], [0.5140066470172491, 0.371179432426641, 0.3010171461360428, 0.17535736603841492, 0.16111868154264417, 0.1078404255455695], [0.07986288965155847, 0.051477073343529356, 0.03561205001022898, 0.023206878754519173, 0.019778685521540405, 0.015268081181383931], [0.06076850408394075, 0.04270950163663976, 0.03121845050582663, 0.02215527852322018, 0.01950691224107543, 0.015766126502745358], [0.04897548227931907, 0.02975939009654139, 0.0193400898501984, 0.012550373910480606, 0.010327119205012602, 0.008055897170908686], [0.043508783336107734, 0.023457549260229842, 0.014037865512568028, 0.008297599032273352, 0.0067093250734509375, 0.0049633783420822515]]}], {\"titlefont\": {\"color\": \"#FFF\"}, \"plot_bgcolor\": \"#000\", \"yaxis\": {\"title\": \"Count Word\", \"range\": [-0.5, 5.5], \"dtick\": 1, \"tickcolor\": \"#FFF\"}, \"height\": 300, \"title\": \"4 Blobs:Confidence after 800 Iters\", \"xaxis\": {\"title\": \"Glimpses\", \"range\": [-0.5, 5.5], \"dtick\": 1, \"tickcolor\": \"#FFF\"}, \"width\": 300, \"font\": {\"color\": \"#FFF\"}, \"paper_bgcolor\": \"#000\"}, {\"linkText\": \"Export to plot.ly\", \"showLink\": true})});</script>"
      ],
      "text/vnd.plotly.v1+html": [
       "<div id=\"14605282-6a7b-4227-95a9-a5d7afa15dfc\" style=\"height: 300px; width: 300px;\" class=\"plotly-graph-div\"></div><script type=\"text/javascript\">require([\"plotly\"], function(Plotly) { window.PLOTLYENV=window.PLOTLYENV || {};window.PLOTLYENV.BASE_URL=\"https://plot.ly\";Plotly.newPlot(\"14605282-6a7b-4227-95a9-a5d7afa15dfc\", [{\"type\": \"heatmap\", \"colorscale\": \"Jet\", \"z\": [[0.25287711313784295, 0.48141649111017726, 0.5987738388856905, 0.7584319272181635, 0.7825587216630013, 0.8481055422342528], [0.5140066470172491, 0.371179432426641, 0.3010171461360428, 0.17535736603841492, 0.16111868154264417, 0.1078404255455695], [0.07986288965155847, 0.051477073343529356, 0.03561205001022898, 0.023206878754519173, 0.019778685521540405, 0.015268081181383931], [0.06076850408394075, 0.04270950163663976, 0.03121845050582663, 0.02215527852322018, 0.01950691224107543, 0.015766126502745358], [0.04897548227931907, 0.02975939009654139, 0.0193400898501984, 0.012550373910480606, 0.010327119205012602, 0.008055897170908686], [0.043508783336107734, 0.023457549260229842, 0.014037865512568028, 0.008297599032273352, 0.0067093250734509375, 0.0049633783420822515]]}], {\"titlefont\": {\"color\": \"#FFF\"}, \"plot_bgcolor\": \"#000\", \"yaxis\": {\"title\": \"Count Word\", \"range\": [-0.5, 5.5], \"dtick\": 1, \"tickcolor\": \"#FFF\"}, \"height\": 300, \"title\": \"4 Blobs:Confidence after 800 Iters\", \"xaxis\": {\"title\": \"Glimpses\", \"range\": [-0.5, 5.5], \"dtick\": 1, \"tickcolor\": \"#FFF\"}, \"width\": 300, \"font\": {\"color\": \"#FFF\"}, \"paper_bgcolor\": \"#000\"}, {\"linkText\": \"Export to plot.ly\", \"showLink\": true})});</script>"
      ]
     },
     "metadata": {},
     "output_type": "display_data"
    },
    {
     "data": {
      "application/vnd.plotly.v1+json": {
       "data": [
        {
         "colorscale": "Jet",
         "type": "heatmap",
         "z": [
          [
           0.0374193983440923,
           0.579512148185904,
           0.6357837697298208,
           0.7822929756875083,
           0.7411453792749251,
           0.8329114855907299
          ],
          [
           0.7808845807399625,
           0.03249767250822365,
           0.0015412441500793394,
           9.9172207963659e-05,
           8.009734872284505e-05,
           2.0944134248439918e-05
          ],
          [
           0.08023050455402894,
           0.18641067731277586,
           0.1639802208605905,
           0.0772052702763127,
           0.08548250920497798,
           0.04756722851335569
          ],
          [
           0.038764075488415296,
           0.10427891006748836,
           0.1195970351296199,
           0.08793590943836656,
           0.11172158936761678,
           0.07665113566057424
          ],
          [
           0.03135681959896443,
           0.059754146096772064,
           0.055294318014585016,
           0.04007656492378566,
           0.04709536162396995,
           0.03381347058707865
          ],
          [
           0.031344176973903085,
           0.03754600931537195,
           0.02380297732529259,
           0.012389692901701927,
           0.01447460508176941,
           0.009035316922905299
          ]
         ]
        }
       ],
       "layout": {
        "font": {
         "color": "#FFF"
        },
        "height": 300,
        "paper_bgcolor": "#000",
        "plot_bgcolor": "#000",
        "title": "4 Blobs:Confidence after 1600 Iters",
        "titlefont": {
         "color": "#FFF"
        },
        "width": 300,
        "xaxis": {
         "dtick": 1,
         "range": [
          -0.5,
          5.5
         ],
         "tickcolor": "#FFF",
         "title": "Glimpses"
        },
        "yaxis": {
         "dtick": 1,
         "range": [
          -0.5,
          5.5
         ],
         "tickcolor": "#FFF",
         "title": "Count Word"
        }
       }
      },
      "text/html": [
       "<div id=\"28417258-b09c-47ad-b690-15d9ddd542d3\" style=\"height: 300px; width: 300px;\" class=\"plotly-graph-div\"></div><script type=\"text/javascript\">require([\"plotly\"], function(Plotly) { window.PLOTLYENV=window.PLOTLYENV || {};window.PLOTLYENV.BASE_URL=\"https://plot.ly\";Plotly.newPlot(\"28417258-b09c-47ad-b690-15d9ddd542d3\", [{\"type\": \"heatmap\", \"colorscale\": \"Jet\", \"z\": [[0.0374193983440923, 0.579512148185904, 0.6357837697298208, 0.7822929756875083, 0.7411453792749251, 0.8329114855907299], [0.7808845807399625, 0.03249767250822365, 0.0015412441500793394, 9.9172207963659e-05, 8.009734872284505e-05, 2.0944134248439918e-05], [0.08023050455402894, 0.18641067731277586, 0.1639802208605905, 0.0772052702763127, 0.08548250920497798, 0.04756722851335569], [0.038764075488415296, 0.10427891006748836, 0.1195970351296199, 0.08793590943836656, 0.11172158936761678, 0.07665113566057424], [0.03135681959896443, 0.059754146096772064, 0.055294318014585016, 0.04007656492378566, 0.04709536162396995, 0.03381347058707865], [0.031344176973903085, 0.03754600931537195, 0.02380297732529259, 0.012389692901701927, 0.01447460508176941, 0.009035316922905299]]}], {\"titlefont\": {\"color\": \"#FFF\"}, \"plot_bgcolor\": \"#000\", \"yaxis\": {\"title\": \"Count Word\", \"range\": [-0.5, 5.5], \"dtick\": 1, \"tickcolor\": \"#FFF\"}, \"height\": 300, \"title\": \"4 Blobs:Confidence after 1600 Iters\", \"xaxis\": {\"title\": \"Glimpses\", \"range\": [-0.5, 5.5], \"dtick\": 1, \"tickcolor\": \"#FFF\"}, \"width\": 300, \"font\": {\"color\": \"#FFF\"}, \"paper_bgcolor\": \"#000\"}, {\"linkText\": \"Export to plot.ly\", \"showLink\": true})});</script>"
      ],
      "text/vnd.plotly.v1+html": [
       "<div id=\"28417258-b09c-47ad-b690-15d9ddd542d3\" style=\"height: 300px; width: 300px;\" class=\"plotly-graph-div\"></div><script type=\"text/javascript\">require([\"plotly\"], function(Plotly) { window.PLOTLYENV=window.PLOTLYENV || {};window.PLOTLYENV.BASE_URL=\"https://plot.ly\";Plotly.newPlot(\"28417258-b09c-47ad-b690-15d9ddd542d3\", [{\"type\": \"heatmap\", \"colorscale\": \"Jet\", \"z\": [[0.0374193983440923, 0.579512148185904, 0.6357837697298208, 0.7822929756875083, 0.7411453792749251, 0.8329114855907299], [0.7808845807399625, 0.03249767250822365, 0.0015412441500793394, 9.9172207963659e-05, 8.009734872284505e-05, 2.0944134248439918e-05], [0.08023050455402894, 0.18641067731277586, 0.1639802208605905, 0.0772052702763127, 0.08548250920497798, 0.04756722851335569], [0.038764075488415296, 0.10427891006748836, 0.1195970351296199, 0.08793590943836656, 0.11172158936761678, 0.07665113566057424], [0.03135681959896443, 0.059754146096772064, 0.055294318014585016, 0.04007656492378566, 0.04709536162396995, 0.03381347058707865], [0.031344176973903085, 0.03754600931537195, 0.02380297732529259, 0.012389692901701927, 0.01447460508176941, 0.009035316922905299]]}], {\"titlefont\": {\"color\": \"#FFF\"}, \"plot_bgcolor\": \"#000\", \"yaxis\": {\"title\": \"Count Word\", \"range\": [-0.5, 5.5], \"dtick\": 1, \"tickcolor\": \"#FFF\"}, \"height\": 300, \"title\": \"4 Blobs:Confidence after 1600 Iters\", \"xaxis\": {\"title\": \"Glimpses\", \"range\": [-0.5, 5.5], \"dtick\": 1, \"tickcolor\": \"#FFF\"}, \"width\": 300, \"font\": {\"color\": \"#FFF\"}, \"paper_bgcolor\": \"#000\"}, {\"linkText\": \"Export to plot.ly\", \"showLink\": true})});</script>"
      ]
     },
     "metadata": {},
     "output_type": "display_data"
    },
    {
     "data": {
      "application/vnd.plotly.v1+json": {
       "data": [
        {
         "colorscale": "Jet",
         "type": "heatmap",
         "z": [
          [
           0.007477282059497678,
           0.40553538985534404,
           0.7479050491331499,
           0.6999361169676178,
           0.6234711686733542,
           0.5535087374734996
          ],
          [
           0.9580363640128569,
           0.003423932943883764,
           3.238187172491735e-06,
           3.858393470321625e-07,
           1.6002977541759576e-07,
           9.996026458655897e-08
          ],
          [
           0.025905065676791142,
           0.42407028823081777,
           0.0139193105041847,
           0.002569072907779661,
           0.0015889299345432852,
           0.0013281444062612344
          ],
          [
           0.0034108283249601684,
           0.12836014444440208,
           0.16063047954519585,
           0.15780724375806865,
           0.17527208798204266,
           0.19623474967900972
          ],
          [
           0.002438372428605949,
           0.02104737621294949,
           0.05004596480662752,
           0.09040039360384379,
           0.12610032233554969,
           0.15470427041229404
          ],
          [
           0.002731549526808488,
           0.017562324397264756,
           0.0274954048293404,
           0.049286240701099035,
           0.07356680205725535,
           0.0942234512979059
          ]
         ]
        }
       ],
       "layout": {
        "font": {
         "color": "#FFF"
        },
        "height": 300,
        "paper_bgcolor": "#000",
        "plot_bgcolor": "#000",
        "title": "4 Blobs:Confidence after 3200 Iters",
        "titlefont": {
         "color": "#FFF"
        },
        "width": 300,
        "xaxis": {
         "dtick": 1,
         "range": [
          -0.5,
          5.5
         ],
         "tickcolor": "#FFF",
         "title": "Glimpses"
        },
        "yaxis": {
         "dtick": 1,
         "range": [
          -0.5,
          5.5
         ],
         "tickcolor": "#FFF",
         "title": "Count Word"
        }
       }
      },
      "text/html": [
       "<div id=\"3bc741c7-fc8d-4869-a392-6625cd906007\" style=\"height: 300px; width: 300px;\" class=\"plotly-graph-div\"></div><script type=\"text/javascript\">require([\"plotly\"], function(Plotly) { window.PLOTLYENV=window.PLOTLYENV || {};window.PLOTLYENV.BASE_URL=\"https://plot.ly\";Plotly.newPlot(\"3bc741c7-fc8d-4869-a392-6625cd906007\", [{\"type\": \"heatmap\", \"colorscale\": \"Jet\", \"z\": [[0.007477282059497678, 0.40553538985534404, 0.7479050491331499, 0.6999361169676178, 0.6234711686733542, 0.5535087374734996], [0.9580363640128569, 0.003423932943883764, 3.238187172491735e-06, 3.858393470321625e-07, 1.6002977541759576e-07, 9.996026458655897e-08], [0.025905065676791142, 0.42407028823081777, 0.0139193105041847, 0.002569072907779661, 0.0015889299345432852, 0.0013281444062612344], [0.0034108283249601684, 0.12836014444440208, 0.16063047954519585, 0.15780724375806865, 0.17527208798204266, 0.19623474967900972], [0.002438372428605949, 0.02104737621294949, 0.05004596480662752, 0.09040039360384379, 0.12610032233554969, 0.15470427041229404], [0.002731549526808488, 0.017562324397264756, 0.0274954048293404, 0.049286240701099035, 0.07356680205725535, 0.0942234512979059]]}], {\"titlefont\": {\"color\": \"#FFF\"}, \"plot_bgcolor\": \"#000\", \"yaxis\": {\"title\": \"Count Word\", \"range\": [-0.5, 5.5], \"dtick\": 1, \"tickcolor\": \"#FFF\"}, \"height\": 300, \"title\": \"4 Blobs:Confidence after 3200 Iters\", \"xaxis\": {\"title\": \"Glimpses\", \"range\": [-0.5, 5.5], \"dtick\": 1, \"tickcolor\": \"#FFF\"}, \"width\": 300, \"font\": {\"color\": \"#FFF\"}, \"paper_bgcolor\": \"#000\"}, {\"linkText\": \"Export to plot.ly\", \"showLink\": true})});</script>"
      ],
      "text/vnd.plotly.v1+html": [
       "<div id=\"3bc741c7-fc8d-4869-a392-6625cd906007\" style=\"height: 300px; width: 300px;\" class=\"plotly-graph-div\"></div><script type=\"text/javascript\">require([\"plotly\"], function(Plotly) { window.PLOTLYENV=window.PLOTLYENV || {};window.PLOTLYENV.BASE_URL=\"https://plot.ly\";Plotly.newPlot(\"3bc741c7-fc8d-4869-a392-6625cd906007\", [{\"type\": \"heatmap\", \"colorscale\": \"Jet\", \"z\": [[0.007477282059497678, 0.40553538985534404, 0.7479050491331499, 0.6999361169676178, 0.6234711686733542, 0.5535087374734996], [0.9580363640128569, 0.003423932943883764, 3.238187172491735e-06, 3.858393470321625e-07, 1.6002977541759576e-07, 9.996026458655897e-08], [0.025905065676791142, 0.42407028823081777, 0.0139193105041847, 0.002569072907779661, 0.0015889299345432852, 0.0013281444062612344], [0.0034108283249601684, 0.12836014444440208, 0.16063047954519585, 0.15780724375806865, 0.17527208798204266, 0.19623474967900972], [0.002438372428605949, 0.02104737621294949, 0.05004596480662752, 0.09040039360384379, 0.12610032233554969, 0.15470427041229404], [0.002731549526808488, 0.017562324397264756, 0.0274954048293404, 0.049286240701099035, 0.07356680205725535, 0.0942234512979059]]}], {\"titlefont\": {\"color\": \"#FFF\"}, \"plot_bgcolor\": \"#000\", \"yaxis\": {\"title\": \"Count Word\", \"range\": [-0.5, 5.5], \"dtick\": 1, \"tickcolor\": \"#FFF\"}, \"height\": 300, \"title\": \"4 Blobs:Confidence after 3200 Iters\", \"xaxis\": {\"title\": \"Glimpses\", \"range\": [-0.5, 5.5], \"dtick\": 1, \"tickcolor\": \"#FFF\"}, \"width\": 300, \"font\": {\"color\": \"#FFF\"}, \"paper_bgcolor\": \"#000\"}, {\"linkText\": \"Export to plot.ly\", \"showLink\": true})});</script>"
      ]
     },
     "metadata": {},
     "output_type": "display_data"
    },
    {
     "data": {
      "application/vnd.plotly.v1+json": {
       "data": [
        {
         "colorscale": "Jet",
         "type": "heatmap",
         "z": [
          [
           0.00010341338214934645,
           0.27411387691028855,
           0.7817045701450841,
           0.6573506613994203,
           0.521162715876118,
           0.44420428637915393
          ],
          [
           0.9972808181786623,
           0.0008816693325112963,
           6.985617782808004e-07,
           4.310061825875299e-08,
           1.6902300414190063e-08,
           9.966579658345599e-09
          ],
          [
           0.0025686636209747084,
           0.7043752047999996,
           0.02158089151858493,
           0.0012222678966464738,
           0.0003733227117132531,
           0.0002341188180745239
          ],
          [
           3.0410946513911203e-05,
           0.01844879882443568,
           0.127466594770988,
           0.07609482122576657,
           0.044139685111641,
           0.033820324393655926
          ],
          [
           8.726530213533225e-06,
           0.0016925440999278403,
           0.05208728381375156,
           0.16115628154494238,
           0.21044044251655514,
           0.21828579371236873
          ],
          [
           7.461165235137251e-06,
           0.0004874377541483277,
           0.017159506334932243,
           0.10417546462376141,
           0.22388337393205157,
           0.3034550081795108
          ]
         ]
        }
       ],
       "layout": {
        "font": {
         "color": "#FFF"
        },
        "height": 300,
        "paper_bgcolor": "#000",
        "plot_bgcolor": "#000",
        "title": "4 Blobs:Confidence after 6400 Iters",
        "titlefont": {
         "color": "#FFF"
        },
        "width": 300,
        "xaxis": {
         "dtick": 1,
         "range": [
          -0.5,
          5.5
         ],
         "tickcolor": "#FFF",
         "title": "Glimpses"
        },
        "yaxis": {
         "dtick": 1,
         "range": [
          -0.5,
          5.5
         ],
         "tickcolor": "#FFF",
         "title": "Count Word"
        }
       }
      },
      "text/html": [
       "<div id=\"e0ab745a-59ad-4480-b422-a4e146ffc28e\" style=\"height: 300px; width: 300px;\" class=\"plotly-graph-div\"></div><script type=\"text/javascript\">require([\"plotly\"], function(Plotly) { window.PLOTLYENV=window.PLOTLYENV || {};window.PLOTLYENV.BASE_URL=\"https://plot.ly\";Plotly.newPlot(\"e0ab745a-59ad-4480-b422-a4e146ffc28e\", [{\"type\": \"heatmap\", \"colorscale\": \"Jet\", \"z\": [[0.00010341338214934645, 0.27411387691028855, 0.7817045701450841, 0.6573506613994203, 0.521162715876118, 0.44420428637915393], [0.9972808181786623, 0.0008816693325112963, 6.985617782808004e-07, 4.310061825875299e-08, 1.6902300414190063e-08, 9.966579658345599e-09], [0.0025686636209747084, 0.7043752047999996, 0.02158089151858493, 0.0012222678966464738, 0.0003733227117132531, 0.0002341188180745239], [3.0410946513911203e-05, 0.01844879882443568, 0.127466594770988, 0.07609482122576657, 0.044139685111641, 0.033820324393655926], [8.726530213533225e-06, 0.0016925440999278403, 0.05208728381375156, 0.16115628154494238, 0.21044044251655514, 0.21828579371236873], [7.461165235137251e-06, 0.0004874377541483277, 0.017159506334932243, 0.10417546462376141, 0.22388337393205157, 0.3034550081795108]]}], {\"titlefont\": {\"color\": \"#FFF\"}, \"plot_bgcolor\": \"#000\", \"yaxis\": {\"title\": \"Count Word\", \"range\": [-0.5, 5.5], \"dtick\": 1, \"tickcolor\": \"#FFF\"}, \"height\": 300, \"title\": \"4 Blobs:Confidence after 6400 Iters\", \"xaxis\": {\"title\": \"Glimpses\", \"range\": [-0.5, 5.5], \"dtick\": 1, \"tickcolor\": \"#FFF\"}, \"width\": 300, \"font\": {\"color\": \"#FFF\"}, \"paper_bgcolor\": \"#000\"}, {\"linkText\": \"Export to plot.ly\", \"showLink\": true})});</script>"
      ],
      "text/vnd.plotly.v1+html": [
       "<div id=\"e0ab745a-59ad-4480-b422-a4e146ffc28e\" style=\"height: 300px; width: 300px;\" class=\"plotly-graph-div\"></div><script type=\"text/javascript\">require([\"plotly\"], function(Plotly) { window.PLOTLYENV=window.PLOTLYENV || {};window.PLOTLYENV.BASE_URL=\"https://plot.ly\";Plotly.newPlot(\"e0ab745a-59ad-4480-b422-a4e146ffc28e\", [{\"type\": \"heatmap\", \"colorscale\": \"Jet\", \"z\": [[0.00010341338214934645, 0.27411387691028855, 0.7817045701450841, 0.6573506613994203, 0.521162715876118, 0.44420428637915393], [0.9972808181786623, 0.0008816693325112963, 6.985617782808004e-07, 4.310061825875299e-08, 1.6902300414190063e-08, 9.966579658345599e-09], [0.0025686636209747084, 0.7043752047999996, 0.02158089151858493, 0.0012222678966464738, 0.0003733227117132531, 0.0002341188180745239], [3.0410946513911203e-05, 0.01844879882443568, 0.127466594770988, 0.07609482122576657, 0.044139685111641, 0.033820324393655926], [8.726530213533225e-06, 0.0016925440999278403, 0.05208728381375156, 0.16115628154494238, 0.21044044251655514, 0.21828579371236873], [7.461165235137251e-06, 0.0004874377541483277, 0.017159506334932243, 0.10417546462376141, 0.22388337393205157, 0.3034550081795108]]}], {\"titlefont\": {\"color\": \"#FFF\"}, \"plot_bgcolor\": \"#000\", \"yaxis\": {\"title\": \"Count Word\", \"range\": [-0.5, 5.5], \"dtick\": 1, \"tickcolor\": \"#FFF\"}, \"height\": 300, \"title\": \"4 Blobs:Confidence after 6400 Iters\", \"xaxis\": {\"title\": \"Glimpses\", \"range\": [-0.5, 5.5], \"dtick\": 1, \"tickcolor\": \"#FFF\"}, \"width\": 300, \"font\": {\"color\": \"#FFF\"}, \"paper_bgcolor\": \"#000\"}, {\"linkText\": \"Export to plot.ly\", \"showLink\": true})});</script>"
      ]
     },
     "metadata": {},
     "output_type": "display_data"
    },
    {
     "data": {
      "application/vnd.plotly.v1+json": {
       "data": [
        {
         "colorscale": "Jet",
         "type": "heatmap",
         "z": [
          [
           1.109051602376524e-05,
           0.4120528097421834,
           0.6893404054902368,
           0.7388163276751467,
           0.6788556413747295,
           0.6185853256735662
          ],
          [
           0.9990872687133514,
           0.0011819119535954007,
           1.6334124753713091e-06,
           9.793040877986684e-07,
           1.6893804054078224e-07,
           1.4524682674703455e-07
          ],
          [
           0.0008991748792983773,
           0.5827333240536237,
           0.010412925114030844,
           0.00013864830783989385,
           2.9387021079466154e-05,
           1.816999854674543e-05
          ],
          [
           8.829317348886957e-07,
           0.003701485942743787,
           0.2817924578765471,
           0.056360004590775545,
           0.01128712823228411,
           0.005759236592213104
          ],
          [
           2.9434958371541473e-07,
           0.0002127165804195336,
           0.016237200245798767,
           0.15696468134951713,
           0.13712585229128457,
           0.10702699085523873
          ],
          [
           7.165476826401074e-07,
           0.00011719357042759466,
           0.002214816875889529,
           0.04771882221221965,
           0.17270128240778318,
           0.2686095835758248
          ]
         ]
        }
       ],
       "layout": {
        "font": {
         "color": "#FFF"
        },
        "height": 300,
        "paper_bgcolor": "#000",
        "plot_bgcolor": "#000",
        "title": "4 Blobs:Confidence after 12800 Iters",
        "titlefont": {
         "color": "#FFF"
        },
        "width": 300,
        "xaxis": {
         "dtick": 1,
         "range": [
          -0.5,
          5.5
         ],
         "tickcolor": "#FFF",
         "title": "Glimpses"
        },
        "yaxis": {
         "dtick": 1,
         "range": [
          -0.5,
          5.5
         ],
         "tickcolor": "#FFF",
         "title": "Count Word"
        }
       }
      },
      "text/html": [
       "<div id=\"89dfd6f8-cbde-4a54-b67b-6c4126997e10\" style=\"height: 300px; width: 300px;\" class=\"plotly-graph-div\"></div><script type=\"text/javascript\">require([\"plotly\"], function(Plotly) { window.PLOTLYENV=window.PLOTLYENV || {};window.PLOTLYENV.BASE_URL=\"https://plot.ly\";Plotly.newPlot(\"89dfd6f8-cbde-4a54-b67b-6c4126997e10\", [{\"type\": \"heatmap\", \"colorscale\": \"Jet\", \"z\": [[1.109051602376524e-05, 0.4120528097421834, 0.6893404054902368, 0.7388163276751467, 0.6788556413747295, 0.6185853256735662], [0.9990872687133514, 0.0011819119535954007, 1.6334124753713091e-06, 9.793040877986684e-07, 1.6893804054078224e-07, 1.4524682674703455e-07], [0.0008991748792983773, 0.5827333240536237, 0.010412925114030844, 0.00013864830783989385, 2.9387021079466154e-05, 1.816999854674543e-05], [8.829317348886957e-07, 0.003701485942743787, 0.2817924578765471, 0.056360004590775545, 0.01128712823228411, 0.005759236592213104], [2.9434958371541473e-07, 0.0002127165804195336, 0.016237200245798767, 0.15696468134951713, 0.13712585229128457, 0.10702699085523873], [7.165476826401074e-07, 0.00011719357042759466, 0.002214816875889529, 0.04771882221221965, 0.17270128240778318, 0.2686095835758248]]}], {\"titlefont\": {\"color\": \"#FFF\"}, \"plot_bgcolor\": \"#000\", \"yaxis\": {\"title\": \"Count Word\", \"range\": [-0.5, 5.5], \"dtick\": 1, \"tickcolor\": \"#FFF\"}, \"height\": 300, \"title\": \"4 Blobs:Confidence after 12800 Iters\", \"xaxis\": {\"title\": \"Glimpses\", \"range\": [-0.5, 5.5], \"dtick\": 1, \"tickcolor\": \"#FFF\"}, \"width\": 300, \"font\": {\"color\": \"#FFF\"}, \"paper_bgcolor\": \"#000\"}, {\"linkText\": \"Export to plot.ly\", \"showLink\": true})});</script>"
      ],
      "text/vnd.plotly.v1+html": [
       "<div id=\"89dfd6f8-cbde-4a54-b67b-6c4126997e10\" style=\"height: 300px; width: 300px;\" class=\"plotly-graph-div\"></div><script type=\"text/javascript\">require([\"plotly\"], function(Plotly) { window.PLOTLYENV=window.PLOTLYENV || {};window.PLOTLYENV.BASE_URL=\"https://plot.ly\";Plotly.newPlot(\"89dfd6f8-cbde-4a54-b67b-6c4126997e10\", [{\"type\": \"heatmap\", \"colorscale\": \"Jet\", \"z\": [[1.109051602376524e-05, 0.4120528097421834, 0.6893404054902368, 0.7388163276751467, 0.6788556413747295, 0.6185853256735662], [0.9990872687133514, 0.0011819119535954007, 1.6334124753713091e-06, 9.793040877986684e-07, 1.6893804054078224e-07, 1.4524682674703455e-07], [0.0008991748792983773, 0.5827333240536237, 0.010412925114030844, 0.00013864830783989385, 2.9387021079466154e-05, 1.816999854674543e-05], [8.829317348886957e-07, 0.003701485942743787, 0.2817924578765471, 0.056360004590775545, 0.01128712823228411, 0.005759236592213104], [2.9434958371541473e-07, 0.0002127165804195336, 0.016237200245798767, 0.15696468134951713, 0.13712585229128457, 0.10702699085523873], [7.165476826401074e-07, 0.00011719357042759466, 0.002214816875889529, 0.04771882221221965, 0.17270128240778318, 0.2686095835758248]]}], {\"titlefont\": {\"color\": \"#FFF\"}, \"plot_bgcolor\": \"#000\", \"yaxis\": {\"title\": \"Count Word\", \"range\": [-0.5, 5.5], \"dtick\": 1, \"tickcolor\": \"#FFF\"}, \"height\": 300, \"title\": \"4 Blobs:Confidence after 12800 Iters\", \"xaxis\": {\"title\": \"Glimpses\", \"range\": [-0.5, 5.5], \"dtick\": 1, \"tickcolor\": \"#FFF\"}, \"width\": 300, \"font\": {\"color\": \"#FFF\"}, \"paper_bgcolor\": \"#000\"}, {\"linkText\": \"Export to plot.ly\", \"showLink\": true})});</script>"
      ]
     },
     "metadata": {},
     "output_type": "display_data"
    },
    {
     "data": {
      "application/vnd.plotly.v1+json": {
       "data": [
        {
         "colorscale": "Jet",
         "type": "heatmap",
         "z": [
          [
           3.054273128691498e-05,
           0.6494325639807916,
           0.9803420779490893,
           0.9406499132869253,
           0.9002342748843614,
           0.9366209221625497
          ],
          [
           0.9999510163281178,
           0.0003392091559338998,
           0.0001470951330480179,
           0.00010471027197599967,
           0.001661121126625781,
           0.00015802305142739818
          ],
          [
           1.658537196988333e-05,
           0.34981095488161135,
           0.0015002345023729827,
           1.0353862670858207e-05,
           1.8138311726042076e-05,
           6.144188540711856e-05
          ],
          [
           2.329723408844007e-08,
           0.00034455819543475986,
           0.015428448803954588,
           0.00038864283930903565,
           5.062547289510423e-05,
           6.100709449823745e-05
          ],
          [
           1.9387019237596916e-07,
           4.348417869210495e-05,
           0.002255067049794224,
           0.043662223885791315,
           0.008947216357405566,
           0.0022117297956984134
          ],
          [
           1.0512691993923933e-06,
           2.8654647876000217e-05,
           0.0003265059883302185,
           0.015183550290208429,
           0.08908803767439631,
           0.0608862898552703
          ]
         ]
        }
       ],
       "layout": {
        "font": {
         "color": "#FFF"
        },
        "height": 300,
        "paper_bgcolor": "#000",
        "plot_bgcolor": "#000",
        "title": "4 Blobs:Confidence after 25600 Iters",
        "titlefont": {
         "color": "#FFF"
        },
        "width": 300,
        "xaxis": {
         "dtick": 1,
         "range": [
          -0.5,
          5.5
         ],
         "tickcolor": "#FFF",
         "title": "Glimpses"
        },
        "yaxis": {
         "dtick": 1,
         "range": [
          -0.5,
          5.5
         ],
         "tickcolor": "#FFF",
         "title": "Count Word"
        }
       }
      },
      "text/html": [
       "<div id=\"943b1a4d-1cd8-4e97-b193-43b4967f9cb4\" style=\"height: 300px; width: 300px;\" class=\"plotly-graph-div\"></div><script type=\"text/javascript\">require([\"plotly\"], function(Plotly) { window.PLOTLYENV=window.PLOTLYENV || {};window.PLOTLYENV.BASE_URL=\"https://plot.ly\";Plotly.newPlot(\"943b1a4d-1cd8-4e97-b193-43b4967f9cb4\", [{\"type\": \"heatmap\", \"colorscale\": \"Jet\", \"z\": [[3.054273128691498e-05, 0.6494325639807916, 0.9803420779490893, 0.9406499132869253, 0.9002342748843614, 0.9366209221625497], [0.9999510163281178, 0.0003392091559338998, 0.0001470951330480179, 0.00010471027197599967, 0.001661121126625781, 0.00015802305142739818], [1.658537196988333e-05, 0.34981095488161135, 0.0015002345023729827, 1.0353862670858207e-05, 1.8138311726042076e-05, 6.144188540711856e-05], [2.329723408844007e-08, 0.00034455819543475986, 0.015428448803954588, 0.00038864283930903565, 5.062547289510423e-05, 6.100709449823745e-05], [1.9387019237596916e-07, 4.348417869210495e-05, 0.002255067049794224, 0.043662223885791315, 0.008947216357405566, 0.0022117297956984134], [1.0512691993923933e-06, 2.8654647876000217e-05, 0.0003265059883302185, 0.015183550290208429, 0.08908803767439631, 0.0608862898552703]]}], {\"titlefont\": {\"color\": \"#FFF\"}, \"plot_bgcolor\": \"#000\", \"yaxis\": {\"title\": \"Count Word\", \"range\": [-0.5, 5.5], \"dtick\": 1, \"tickcolor\": \"#FFF\"}, \"height\": 300, \"title\": \"4 Blobs:Confidence after 25600 Iters\", \"xaxis\": {\"title\": \"Glimpses\", \"range\": [-0.5, 5.5], \"dtick\": 1, \"tickcolor\": \"#FFF\"}, \"width\": 300, \"font\": {\"color\": \"#FFF\"}, \"paper_bgcolor\": \"#000\"}, {\"linkText\": \"Export to plot.ly\", \"showLink\": true})});</script>"
      ],
      "text/vnd.plotly.v1+html": [
       "<div id=\"943b1a4d-1cd8-4e97-b193-43b4967f9cb4\" style=\"height: 300px; width: 300px;\" class=\"plotly-graph-div\"></div><script type=\"text/javascript\">require([\"plotly\"], function(Plotly) { window.PLOTLYENV=window.PLOTLYENV || {};window.PLOTLYENV.BASE_URL=\"https://plot.ly\";Plotly.newPlot(\"943b1a4d-1cd8-4e97-b193-43b4967f9cb4\", [{\"type\": \"heatmap\", \"colorscale\": \"Jet\", \"z\": [[3.054273128691498e-05, 0.6494325639807916, 0.9803420779490893, 0.9406499132869253, 0.9002342748843614, 0.9366209221625497], [0.9999510163281178, 0.0003392091559338998, 0.0001470951330480179, 0.00010471027197599967, 0.001661121126625781, 0.00015802305142739818], [1.658537196988333e-05, 0.34981095488161135, 0.0015002345023729827, 1.0353862670858207e-05, 1.8138311726042076e-05, 6.144188540711856e-05], [2.329723408844007e-08, 0.00034455819543475986, 0.015428448803954588, 0.00038864283930903565, 5.062547289510423e-05, 6.100709449823745e-05], [1.9387019237596916e-07, 4.348417869210495e-05, 0.002255067049794224, 0.043662223885791315, 0.008947216357405566, 0.0022117297956984134], [1.0512691993923933e-06, 2.8654647876000217e-05, 0.0003265059883302185, 0.015183550290208429, 0.08908803767439631, 0.0608862898552703]]}], {\"titlefont\": {\"color\": \"#FFF\"}, \"plot_bgcolor\": \"#000\", \"yaxis\": {\"title\": \"Count Word\", \"range\": [-0.5, 5.5], \"dtick\": 1, \"tickcolor\": \"#FFF\"}, \"height\": 300, \"title\": \"4 Blobs:Confidence after 25600 Iters\", \"xaxis\": {\"title\": \"Glimpses\", \"range\": [-0.5, 5.5], \"dtick\": 1, \"tickcolor\": \"#FFF\"}, \"width\": 300, \"font\": {\"color\": \"#FFF\"}, \"paper_bgcolor\": \"#000\"}, {\"linkText\": \"Export to plot.ly\", \"showLink\": true})});</script>"
      ]
     },
     "metadata": {},
     "output_type": "display_data"
    },
    {
     "data": {
      "application/vnd.plotly.v1+json": {
       "data": [
        {
         "colorscale": "Jet",
         "type": "heatmap",
         "z": [
          [
           2.3458979266808263e-05,
           0.5597167617182685,
           0.965483416363625,
           0.9859599747261175,
           0.9065579412098314,
           0.9789438504230397
          ],
          [
           0.9999631291247032,
           0.0001791200755630213,
           2.4457069086376817e-05,
           4.0253283119835816e-06,
           0.00019105803861456115,
           0.0003011912451572148
          ],
          [
           1.0898786307882883e-05,
           0.4399246796686564,
           0.0002174460899243043,
           4.146230354734694e-06,
           1.2056045786898711e-05,
           0.00014494471690581064
          ],
          [
           4.6129078721810337e-08,
           0.00016414192473313785,
           0.03404147679524629,
           0.0003088378312274339,
           8.895317298809531e-06,
           2.7713672699426613e-05
          ],
          [
           6.747980818201592e-08,
           2.685102840598028e-06,
           0.0002076405242030266,
           0.011615537189566311,
           0.0007116841130100666,
           6.14731337589818e-05
          ],
          [
           2.0246941786695106e-06,
           1.2233362426264585e-05,
           2.515051451035719e-05,
           0.0021070833015391726,
           0.09251796416364327,
           0.02052042760564336
          ]
         ]
        }
       ],
       "layout": {
        "font": {
         "color": "#FFF"
        },
        "height": 300,
        "paper_bgcolor": "#000",
        "plot_bgcolor": "#000",
        "title": "4 Blobs:Confidence after 51200 Iters",
        "titlefont": {
         "color": "#FFF"
        },
        "width": 300,
        "xaxis": {
         "dtick": 1,
         "range": [
          -0.5,
          5.5
         ],
         "tickcolor": "#FFF",
         "title": "Glimpses"
        },
        "yaxis": {
         "dtick": 1,
         "range": [
          -0.5,
          5.5
         ],
         "tickcolor": "#FFF",
         "title": "Count Word"
        }
       }
      },
      "text/html": [
       "<div id=\"ba165f2f-1cd7-4c71-85e4-6d9a4fd35161\" style=\"height: 300px; width: 300px;\" class=\"plotly-graph-div\"></div><script type=\"text/javascript\">require([\"plotly\"], function(Plotly) { window.PLOTLYENV=window.PLOTLYENV || {};window.PLOTLYENV.BASE_URL=\"https://plot.ly\";Plotly.newPlot(\"ba165f2f-1cd7-4c71-85e4-6d9a4fd35161\", [{\"type\": \"heatmap\", \"colorscale\": \"Jet\", \"z\": [[2.3458979266808263e-05, 0.5597167617182685, 0.965483416363625, 0.9859599747261175, 0.9065579412098314, 0.9789438504230397], [0.9999631291247032, 0.0001791200755630213, 2.4457069086376817e-05, 4.0253283119835816e-06, 0.00019105803861456115, 0.0003011912451572148], [1.0898786307882883e-05, 0.4399246796686564, 0.0002174460899243043, 4.146230354734694e-06, 1.2056045786898711e-05, 0.00014494471690581064], [4.6129078721810337e-08, 0.00016414192473313785, 0.03404147679524629, 0.0003088378312274339, 8.895317298809531e-06, 2.7713672699426613e-05], [6.747980818201592e-08, 2.685102840598028e-06, 0.0002076405242030266, 0.011615537189566311, 0.0007116841130100666, 6.14731337589818e-05], [2.0246941786695106e-06, 1.2233362426264585e-05, 2.515051451035719e-05, 0.0021070833015391726, 0.09251796416364327, 0.02052042760564336]]}], {\"titlefont\": {\"color\": \"#FFF\"}, \"plot_bgcolor\": \"#000\", \"yaxis\": {\"title\": \"Count Word\", \"range\": [-0.5, 5.5], \"dtick\": 1, \"tickcolor\": \"#FFF\"}, \"height\": 300, \"title\": \"4 Blobs:Confidence after 51200 Iters\", \"xaxis\": {\"title\": \"Glimpses\", \"range\": [-0.5, 5.5], \"dtick\": 1, \"tickcolor\": \"#FFF\"}, \"width\": 300, \"font\": {\"color\": \"#FFF\"}, \"paper_bgcolor\": \"#000\"}, {\"linkText\": \"Export to plot.ly\", \"showLink\": true})});</script>"
      ],
      "text/vnd.plotly.v1+html": [
       "<div id=\"ba165f2f-1cd7-4c71-85e4-6d9a4fd35161\" style=\"height: 300px; width: 300px;\" class=\"plotly-graph-div\"></div><script type=\"text/javascript\">require([\"plotly\"], function(Plotly) { window.PLOTLYENV=window.PLOTLYENV || {};window.PLOTLYENV.BASE_URL=\"https://plot.ly\";Plotly.newPlot(\"ba165f2f-1cd7-4c71-85e4-6d9a4fd35161\", [{\"type\": \"heatmap\", \"colorscale\": \"Jet\", \"z\": [[2.3458979266808263e-05, 0.5597167617182685, 0.965483416363625, 0.9859599747261175, 0.9065579412098314, 0.9789438504230397], [0.9999631291247032, 0.0001791200755630213, 2.4457069086376817e-05, 4.0253283119835816e-06, 0.00019105803861456115, 0.0003011912451572148], [1.0898786307882883e-05, 0.4399246796686564, 0.0002174460899243043, 4.146230354734694e-06, 1.2056045786898711e-05, 0.00014494471690581064], [4.6129078721810337e-08, 0.00016414192473313785, 0.03404147679524629, 0.0003088378312274339, 8.895317298809531e-06, 2.7713672699426613e-05], [6.747980818201592e-08, 2.685102840598028e-06, 0.0002076405242030266, 0.011615537189566311, 0.0007116841130100666, 6.14731337589818e-05], [2.0246941786695106e-06, 1.2233362426264585e-05, 2.515051451035719e-05, 0.0021070833015391726, 0.09251796416364327, 0.02052042760564336]]}], {\"titlefont\": {\"color\": \"#FFF\"}, \"plot_bgcolor\": \"#000\", \"yaxis\": {\"title\": \"Count Word\", \"range\": [-0.5, 5.5], \"dtick\": 1, \"tickcolor\": \"#FFF\"}, \"height\": 300, \"title\": \"4 Blobs:Confidence after 51200 Iters\", \"xaxis\": {\"title\": \"Glimpses\", \"range\": [-0.5, 5.5], \"dtick\": 1, \"tickcolor\": \"#FFF\"}, \"width\": 300, \"font\": {\"color\": \"#FFF\"}, \"paper_bgcolor\": \"#000\"}, {\"linkText\": \"Export to plot.ly\", \"showLink\": true})});</script>"
      ]
     },
     "metadata": {},
     "output_type": "display_data"
    },
    {
     "data": {
      "application/vnd.plotly.v1+json": {
       "data": [
        {
         "colorscale": "Jet",
         "type": "heatmap",
         "z": [
          [
           9.042497739647891e-05,
           0.5076284268228108,
           0.880796543734429,
           0.963500791968286,
           0.7886181164904033,
           0.9941458639327254
          ],
          [
           0.9997844004070465,
           3.929622509554725e-05,
           1.9973951829725157e-08,
           1.9826042304489664e-05,
           0.0005206077093968174,
           1.3505224999220327e-05
          ],
          [
           0.00011172107750653927,
           0.49096016671575526,
           8.491775872401156e-05,
           8.948981914374561e-07,
           1.9415513943073947e-05,
           0.00026965973028274514
          ],
          [
           4.2832202452264463e-07,
           0.0013615031206060835,
           0.11892879682465773,
           0.0002957293624882942,
           4.905840626030106e-06,
           4.918332549810642e-05
          ],
          [
           2.324295578951895e-07,
           2.205641643463827e-06,
           0.00018289856068531976,
           0.0326165912060406,
           0.0004231345855412886,
           2.023250636050387e-05
          ],
          [
           1.2243823059985939e-05,
           7.830473092278507e-06,
           6.234775719739338e-06,
           0.003565593538517182,
           0.21041323840097997,
           0.005500992085321601
          ]
         ]
        }
       ],
       "layout": {
        "font": {
         "color": "#FFF"
        },
        "height": 300,
        "paper_bgcolor": "#000",
        "plot_bgcolor": "#000",
        "title": "4 Blobs:Confidence after 102400 Iters",
        "titlefont": {
         "color": "#FFF"
        },
        "width": 300,
        "xaxis": {
         "dtick": 1,
         "range": [
          -0.5,
          5.5
         ],
         "tickcolor": "#FFF",
         "title": "Glimpses"
        },
        "yaxis": {
         "dtick": 1,
         "range": [
          -0.5,
          5.5
         ],
         "tickcolor": "#FFF",
         "title": "Count Word"
        }
       }
      },
      "text/html": [
       "<div id=\"57f6315d-ecc8-45bf-a146-5639375914ac\" style=\"height: 300px; width: 300px;\" class=\"plotly-graph-div\"></div><script type=\"text/javascript\">require([\"plotly\"], function(Plotly) { window.PLOTLYENV=window.PLOTLYENV || {};window.PLOTLYENV.BASE_URL=\"https://plot.ly\";Plotly.newPlot(\"57f6315d-ecc8-45bf-a146-5639375914ac\", [{\"type\": \"heatmap\", \"colorscale\": \"Jet\", \"z\": [[9.042497739647891e-05, 0.5076284268228108, 0.880796543734429, 0.963500791968286, 0.7886181164904033, 0.9941458639327254], [0.9997844004070465, 3.929622509554725e-05, 1.9973951829725157e-08, 1.9826042304489664e-05, 0.0005206077093968174, 1.3505224999220327e-05], [0.00011172107750653927, 0.49096016671575526, 8.491775872401156e-05, 8.948981914374561e-07, 1.9415513943073947e-05, 0.00026965973028274514], [4.2832202452264463e-07, 0.0013615031206060835, 0.11892879682465773, 0.0002957293624882942, 4.905840626030106e-06, 4.918332549810642e-05], [2.324295578951895e-07, 2.205641643463827e-06, 0.00018289856068531976, 0.0326165912060406, 0.0004231345855412886, 2.023250636050387e-05], [1.2243823059985939e-05, 7.830473092278507e-06, 6.234775719739338e-06, 0.003565593538517182, 0.21041323840097997, 0.005500992085321601]]}], {\"titlefont\": {\"color\": \"#FFF\"}, \"plot_bgcolor\": \"#000\", \"yaxis\": {\"title\": \"Count Word\", \"range\": [-0.5, 5.5], \"dtick\": 1, \"tickcolor\": \"#FFF\"}, \"height\": 300, \"title\": \"4 Blobs:Confidence after 102400 Iters\", \"xaxis\": {\"title\": \"Glimpses\", \"range\": [-0.5, 5.5], \"dtick\": 1, \"tickcolor\": \"#FFF\"}, \"width\": 300, \"font\": {\"color\": \"#FFF\"}, \"paper_bgcolor\": \"#000\"}, {\"linkText\": \"Export to plot.ly\", \"showLink\": true})});</script>"
      ],
      "text/vnd.plotly.v1+html": [
       "<div id=\"57f6315d-ecc8-45bf-a146-5639375914ac\" style=\"height: 300px; width: 300px;\" class=\"plotly-graph-div\"></div><script type=\"text/javascript\">require([\"plotly\"], function(Plotly) { window.PLOTLYENV=window.PLOTLYENV || {};window.PLOTLYENV.BASE_URL=\"https://plot.ly\";Plotly.newPlot(\"57f6315d-ecc8-45bf-a146-5639375914ac\", [{\"type\": \"heatmap\", \"colorscale\": \"Jet\", \"z\": [[9.042497739647891e-05, 0.5076284268228108, 0.880796543734429, 0.963500791968286, 0.7886181164904033, 0.9941458639327254], [0.9997844004070465, 3.929622509554725e-05, 1.9973951829725157e-08, 1.9826042304489664e-05, 0.0005206077093968174, 1.3505224999220327e-05], [0.00011172107750653927, 0.49096016671575526, 8.491775872401156e-05, 8.948981914374561e-07, 1.9415513943073947e-05, 0.00026965973028274514], [4.2832202452264463e-07, 0.0013615031206060835, 0.11892879682465773, 0.0002957293624882942, 4.905840626030106e-06, 4.918332549810642e-05], [2.324295578951895e-07, 2.205641643463827e-06, 0.00018289856068531976, 0.0326165912060406, 0.0004231345855412886, 2.023250636050387e-05], [1.2243823059985939e-05, 7.830473092278507e-06, 6.234775719739338e-06, 0.003565593538517182, 0.21041323840097997, 0.005500992085321601]]}], {\"titlefont\": {\"color\": \"#FFF\"}, \"plot_bgcolor\": \"#000\", \"yaxis\": {\"title\": \"Count Word\", \"range\": [-0.5, 5.5], \"dtick\": 1, \"tickcolor\": \"#FFF\"}, \"height\": 300, \"title\": \"4 Blobs:Confidence after 102400 Iters\", \"xaxis\": {\"title\": \"Glimpses\", \"range\": [-0.5, 5.5], \"dtick\": 1, \"tickcolor\": \"#FFF\"}, \"width\": 300, \"font\": {\"color\": \"#FFF\"}, \"paper_bgcolor\": \"#000\"}, {\"linkText\": \"Export to plot.ly\", \"showLink\": true})});</script>"
      ]
     },
     "metadata": {},
     "output_type": "display_data"
    },
    {
     "data": {
      "application/vnd.plotly.v1+json": {
       "data": [
        {
         "colorscale": "Jet",
         "type": "heatmap",
         "z": [
          [
           0.00028348703660086016,
           0.4122349393829158,
           0.7470443262549233,
           0.9595567153993488,
           0.9849845063256615,
           0.9955517516339231
          ],
          [
           0.9992281011652389,
           1.084634606134886e-06,
           4.5578751754334605e-09,
           6.879322125568255e-07,
           5.376385832379867e-05,
           1.4208072845224226e-05
          ],
          [
           0.00046343054895675616,
           0.5869632308425847,
           9.665347753847809e-05,
           3.395334258289294e-07,
           1.8252838155069492e-06,
           1.7549303956323882e-06
          ],
          [
           1.41884591421036e-06,
           0.0007921868730799875,
           0.2524916571508822,
           0.0002952478610655128,
           6.659067185348552e-06,
           6.7090139223491766e-06
          ],
          [
           8.335283231651959e-07,
           6.7876670509167615e-06,
           0.00036452091444770003,
           0.03985442824280589,
           0.003487869883856803,
           0.00014708173506223934
          ],
          [
           2.2179730012145273e-05,
           1.217935069946197e-06,
           2.287566960957306e-06,
           0.00029205679982429735,
           0.011464847880267293,
           0.004277913542755574
          ]
         ]
        }
       ],
       "layout": {
        "font": {
         "color": "#FFF"
        },
        "height": 300,
        "paper_bgcolor": "#000",
        "plot_bgcolor": "#000",
        "title": "4 Blobs:Confidence after 153600 Iters",
        "titlefont": {
         "color": "#FFF"
        },
        "width": 300,
        "xaxis": {
         "dtick": 1,
         "range": [
          -0.5,
          5.5
         ],
         "tickcolor": "#FFF",
         "title": "Glimpses"
        },
        "yaxis": {
         "dtick": 1,
         "range": [
          -0.5,
          5.5
         ],
         "tickcolor": "#FFF",
         "title": "Count Word"
        }
       }
      },
      "text/html": [
       "<div id=\"46b5d179-4c94-4a7c-9221-139f7b526455\" style=\"height: 300px; width: 300px;\" class=\"plotly-graph-div\"></div><script type=\"text/javascript\">require([\"plotly\"], function(Plotly) { window.PLOTLYENV=window.PLOTLYENV || {};window.PLOTLYENV.BASE_URL=\"https://plot.ly\";Plotly.newPlot(\"46b5d179-4c94-4a7c-9221-139f7b526455\", [{\"type\": \"heatmap\", \"colorscale\": \"Jet\", \"z\": [[0.00028348703660086016, 0.4122349393829158, 0.7470443262549233, 0.9595567153993488, 0.9849845063256615, 0.9955517516339231], [0.9992281011652389, 1.084634606134886e-06, 4.5578751754334605e-09, 6.879322125568255e-07, 5.376385832379867e-05, 1.4208072845224226e-05], [0.00046343054895675616, 0.5869632308425847, 9.665347753847809e-05, 3.395334258289294e-07, 1.8252838155069492e-06, 1.7549303956323882e-06], [1.41884591421036e-06, 0.0007921868730799875, 0.2524916571508822, 0.0002952478610655128, 6.659067185348552e-06, 6.7090139223491766e-06], [8.335283231651959e-07, 6.7876670509167615e-06, 0.00036452091444770003, 0.03985442824280589, 0.003487869883856803, 0.00014708173506223934], [2.2179730012145273e-05, 1.217935069946197e-06, 2.287566960957306e-06, 0.00029205679982429735, 0.011464847880267293, 0.004277913542755574]]}], {\"titlefont\": {\"color\": \"#FFF\"}, \"plot_bgcolor\": \"#000\", \"yaxis\": {\"title\": \"Count Word\", \"range\": [-0.5, 5.5], \"dtick\": 1, \"tickcolor\": \"#FFF\"}, \"height\": 300, \"title\": \"4 Blobs:Confidence after 153600 Iters\", \"xaxis\": {\"title\": \"Glimpses\", \"range\": [-0.5, 5.5], \"dtick\": 1, \"tickcolor\": \"#FFF\"}, \"width\": 300, \"font\": {\"color\": \"#FFF\"}, \"paper_bgcolor\": \"#000\"}, {\"linkText\": \"Export to plot.ly\", \"showLink\": true})});</script>"
      ],
      "text/vnd.plotly.v1+html": [
       "<div id=\"46b5d179-4c94-4a7c-9221-139f7b526455\" style=\"height: 300px; width: 300px;\" class=\"plotly-graph-div\"></div><script type=\"text/javascript\">require([\"plotly\"], function(Plotly) { window.PLOTLYENV=window.PLOTLYENV || {};window.PLOTLYENV.BASE_URL=\"https://plot.ly\";Plotly.newPlot(\"46b5d179-4c94-4a7c-9221-139f7b526455\", [{\"type\": \"heatmap\", \"colorscale\": \"Jet\", \"z\": [[0.00028348703660086016, 0.4122349393829158, 0.7470443262549233, 0.9595567153993488, 0.9849845063256615, 0.9955517516339231], [0.9992281011652389, 1.084634606134886e-06, 4.5578751754334605e-09, 6.879322125568255e-07, 5.376385832379867e-05, 1.4208072845224226e-05], [0.00046343054895675616, 0.5869632308425847, 9.665347753847809e-05, 3.395334258289294e-07, 1.8252838155069492e-06, 1.7549303956323882e-06], [1.41884591421036e-06, 0.0007921868730799875, 0.2524916571508822, 0.0002952478610655128, 6.659067185348552e-06, 6.7090139223491766e-06], [8.335283231651959e-07, 6.7876670509167615e-06, 0.00036452091444770003, 0.03985442824280589, 0.003487869883856803, 0.00014708173506223934], [2.2179730012145273e-05, 1.217935069946197e-06, 2.287566960957306e-06, 0.00029205679982429735, 0.011464847880267293, 0.004277913542755574]]}], {\"titlefont\": {\"color\": \"#FFF\"}, \"plot_bgcolor\": \"#000\", \"yaxis\": {\"title\": \"Count Word\", \"range\": [-0.5, 5.5], \"dtick\": 1, \"tickcolor\": \"#FFF\"}, \"height\": 300, \"title\": \"4 Blobs:Confidence after 153600 Iters\", \"xaxis\": {\"title\": \"Glimpses\", \"range\": [-0.5, 5.5], \"dtick\": 1, \"tickcolor\": \"#FFF\"}, \"width\": 300, \"font\": {\"color\": \"#FFF\"}, \"paper_bgcolor\": \"#000\"}, {\"linkText\": \"Export to plot.ly\", \"showLink\": true})});</script>"
      ]
     },
     "metadata": {},
     "output_type": "display_data"
    },
    {
     "data": {
      "application/vnd.plotly.v1+json": {
       "data": [
        {
         "colorscale": "Jet",
         "type": "heatmap",
         "z": [
          [
           1.977837261711895e-05,
           0.5005479580258452,
           0.78411818615138,
           0.987052125931182,
           0.9751812261096815,
           0.997642250726833
          ],
          [
           0.9999546415670213,
           2.4362195859331393e-05,
           5.768103666677957e-09,
           1.5461543654215787e-06,
           8.292146441789813e-05,
           5.19054899604193e-06
          ],
          [
           1.8471262747258073e-05,
           0.49927168123475946,
           0.00016400281578034858,
           4.824710142452249e-07,
           3.422861672231098e-06,
           3.997267511105243e-05
          ],
          [
           2.2586616635780405e-08,
           0.0001499876654119443,
           0.2156534934504072,
           0.00010185018309791276,
           1.482567239986602e-06,
           4.154981964313273e-06
          ],
          [
           6.220220075167004e-08,
           9.826442720626269e-07,
           6.286929568635895e-05,
           0.012533694135280512,
           0.00020064660838521424,
           4.0074483507687275e-06
          ],
          [
           6.520067793872054e-06,
           4.535551773609061e-06,
           9.436840888304642e-07,
           0.00030981365278252555,
           0.024529789812554954,
           0.0023039260157049993
          ]
         ]
        }
       ],
       "layout": {
        "font": {
         "color": "#FFF"
        },
        "height": 300,
        "paper_bgcolor": "#000",
        "plot_bgcolor": "#000",
        "title": "4 Blobs:Confidence after 204800 Iters",
        "titlefont": {
         "color": "#FFF"
        },
        "width": 300,
        "xaxis": {
         "dtick": 1,
         "range": [
          -0.5,
          5.5
         ],
         "tickcolor": "#FFF",
         "title": "Glimpses"
        },
        "yaxis": {
         "dtick": 1,
         "range": [
          -0.5,
          5.5
         ],
         "tickcolor": "#FFF",
         "title": "Count Word"
        }
       }
      },
      "text/html": [
       "<div id=\"d73ab404-0aad-47c6-b9f4-cd71eeadaf6b\" style=\"height: 300px; width: 300px;\" class=\"plotly-graph-div\"></div><script type=\"text/javascript\">require([\"plotly\"], function(Plotly) { window.PLOTLYENV=window.PLOTLYENV || {};window.PLOTLYENV.BASE_URL=\"https://plot.ly\";Plotly.newPlot(\"d73ab404-0aad-47c6-b9f4-cd71eeadaf6b\", [{\"type\": \"heatmap\", \"colorscale\": \"Jet\", \"z\": [[1.977837261711895e-05, 0.5005479580258452, 0.78411818615138, 0.987052125931182, 0.9751812261096815, 0.997642250726833], [0.9999546415670213, 2.4362195859331393e-05, 5.768103666677957e-09, 1.5461543654215787e-06, 8.292146441789813e-05, 5.19054899604193e-06], [1.8471262747258073e-05, 0.49927168123475946, 0.00016400281578034858, 4.824710142452249e-07, 3.422861672231098e-06, 3.997267511105243e-05], [2.2586616635780405e-08, 0.0001499876654119443, 0.2156534934504072, 0.00010185018309791276, 1.482567239986602e-06, 4.154981964313273e-06], [6.220220075167004e-08, 9.826442720626269e-07, 6.286929568635895e-05, 0.012533694135280512, 0.00020064660838521424, 4.0074483507687275e-06], [6.520067793872054e-06, 4.535551773609061e-06, 9.436840888304642e-07, 0.00030981365278252555, 0.024529789812554954, 0.0023039260157049993]]}], {\"titlefont\": {\"color\": \"#FFF\"}, \"plot_bgcolor\": \"#000\", \"yaxis\": {\"title\": \"Count Word\", \"range\": [-0.5, 5.5], \"dtick\": 1, \"tickcolor\": \"#FFF\"}, \"height\": 300, \"title\": \"4 Blobs:Confidence after 204800 Iters\", \"xaxis\": {\"title\": \"Glimpses\", \"range\": [-0.5, 5.5], \"dtick\": 1, \"tickcolor\": \"#FFF\"}, \"width\": 300, \"font\": {\"color\": \"#FFF\"}, \"paper_bgcolor\": \"#000\"}, {\"linkText\": \"Export to plot.ly\", \"showLink\": true})});</script>"
      ],
      "text/vnd.plotly.v1+html": [
       "<div id=\"d73ab404-0aad-47c6-b9f4-cd71eeadaf6b\" style=\"height: 300px; width: 300px;\" class=\"plotly-graph-div\"></div><script type=\"text/javascript\">require([\"plotly\"], function(Plotly) { window.PLOTLYENV=window.PLOTLYENV || {};window.PLOTLYENV.BASE_URL=\"https://plot.ly\";Plotly.newPlot(\"d73ab404-0aad-47c6-b9f4-cd71eeadaf6b\", [{\"type\": \"heatmap\", \"colorscale\": \"Jet\", \"z\": [[1.977837261711895e-05, 0.5005479580258452, 0.78411818615138, 0.987052125931182, 0.9751812261096815, 0.997642250726833], [0.9999546415670213, 2.4362195859331393e-05, 5.768103666677957e-09, 1.5461543654215787e-06, 8.292146441789813e-05, 5.19054899604193e-06], [1.8471262747258073e-05, 0.49927168123475946, 0.00016400281578034858, 4.824710142452249e-07, 3.422861672231098e-06, 3.997267511105243e-05], [2.2586616635780405e-08, 0.0001499876654119443, 0.2156534934504072, 0.00010185018309791276, 1.482567239986602e-06, 4.154981964313273e-06], [6.220220075167004e-08, 9.826442720626269e-07, 6.286929568635895e-05, 0.012533694135280512, 0.00020064660838521424, 4.0074483507687275e-06], [6.520067793872054e-06, 4.535551773609061e-06, 9.436840888304642e-07, 0.00030981365278252555, 0.024529789812554954, 0.0023039260157049993]]}], {\"titlefont\": {\"color\": \"#FFF\"}, \"plot_bgcolor\": \"#000\", \"yaxis\": {\"title\": \"Count Word\", \"range\": [-0.5, 5.5], \"dtick\": 1, \"tickcolor\": \"#FFF\"}, \"height\": 300, \"title\": \"4 Blobs:Confidence after 204800 Iters\", \"xaxis\": {\"title\": \"Glimpses\", \"range\": [-0.5, 5.5], \"dtick\": 1, \"tickcolor\": \"#FFF\"}, \"width\": 300, \"font\": {\"color\": \"#FFF\"}, \"paper_bgcolor\": \"#000\"}, {\"linkText\": \"Export to plot.ly\", \"showLink\": true})});</script>"
      ]
     },
     "metadata": {},
     "output_type": "display_data"
    },
    {
     "data": {
      "application/vnd.plotly.v1+json": {
       "data": [
        {
         "colorscale": "Jet",
         "type": "heatmap",
         "z": [
          [
           5.545235252416442e-06,
           0.4366516903335134,
           0.8495823856023255,
           0.9291905205983643,
           0.9558721357258674,
           0.9975687289079264
          ],
          [
           0.9999800407558256,
           4.615262830174333e-06,
           1.7583409906226306e-07,
           2.4829902386178224e-05,
           0.0005509193121371313,
           6.134308473949946e-06
          ],
          [
           8.561194480090035e-06,
           0.5632472560500291,
           6.710128012847591e-05,
           7.616427915393698e-07,
           5.120956313617733e-06,
           1.2379787272197941e-05
          ],
          [
           1.0211716846844052e-08,
           8.936610836424549e-05,
           0.1501356383278789,
           8.836369120109229e-05,
           5.461803486459506e-07,
           4.322389582601655e-07
          ],
          [
           3.1503430307488067e-08,
           1.086547669872001e-06,
           0.00020976787627533948,
           0.06976362765526585,
           0.00048658735715408904,
           4.061873479087057e-06
          ],
          [
           5.196095769719609e-06,
           5.3657712073016934e-06,
           4.308860203946884e-06,
           0.0009312732127308857,
           0.04308406236746831,
           0.00240757505573767
          ]
         ]
        }
       ],
       "layout": {
        "font": {
         "color": "#FFF"
        },
        "height": 300,
        "paper_bgcolor": "#000",
        "plot_bgcolor": "#000",
        "title": "4 Blobs:Confidence after 307200 Iters",
        "titlefont": {
         "color": "#FFF"
        },
        "width": 300,
        "xaxis": {
         "dtick": 1,
         "range": [
          -0.5,
          5.5
         ],
         "tickcolor": "#FFF",
         "title": "Glimpses"
        },
        "yaxis": {
         "dtick": 1,
         "range": [
          -0.5,
          5.5
         ],
         "tickcolor": "#FFF",
         "title": "Count Word"
        }
       }
      },
      "text/html": [
       "<div id=\"dc6c2422-7505-4300-99e4-fdff88b110ac\" style=\"height: 300px; width: 300px;\" class=\"plotly-graph-div\"></div><script type=\"text/javascript\">require([\"plotly\"], function(Plotly) { window.PLOTLYENV=window.PLOTLYENV || {};window.PLOTLYENV.BASE_URL=\"https://plot.ly\";Plotly.newPlot(\"dc6c2422-7505-4300-99e4-fdff88b110ac\", [{\"type\": \"heatmap\", \"colorscale\": \"Jet\", \"z\": [[5.545235252416442e-06, 0.4366516903335134, 0.8495823856023255, 0.9291905205983643, 0.9558721357258674, 0.9975687289079264], [0.9999800407558256, 4.615262830174333e-06, 1.7583409906226306e-07, 2.4829902386178224e-05, 0.0005509193121371313, 6.134308473949946e-06], [8.561194480090035e-06, 0.5632472560500291, 6.710128012847591e-05, 7.616427915393698e-07, 5.120956313617733e-06, 1.2379787272197941e-05], [1.0211716846844052e-08, 8.936610836424549e-05, 0.1501356383278789, 8.836369120109229e-05, 5.461803486459506e-07, 4.322389582601655e-07], [3.1503430307488067e-08, 1.086547669872001e-06, 0.00020976787627533948, 0.06976362765526585, 0.00048658735715408904, 4.061873479087057e-06], [5.196095769719609e-06, 5.3657712073016934e-06, 4.308860203946884e-06, 0.0009312732127308857, 0.04308406236746831, 0.00240757505573767]]}], {\"titlefont\": {\"color\": \"#FFF\"}, \"plot_bgcolor\": \"#000\", \"yaxis\": {\"title\": \"Count Word\", \"range\": [-0.5, 5.5], \"dtick\": 1, \"tickcolor\": \"#FFF\"}, \"height\": 300, \"title\": \"4 Blobs:Confidence after 307200 Iters\", \"xaxis\": {\"title\": \"Glimpses\", \"range\": [-0.5, 5.5], \"dtick\": 1, \"tickcolor\": \"#FFF\"}, \"width\": 300, \"font\": {\"color\": \"#FFF\"}, \"paper_bgcolor\": \"#000\"}, {\"linkText\": \"Export to plot.ly\", \"showLink\": true})});</script>"
      ],
      "text/vnd.plotly.v1+html": [
       "<div id=\"dc6c2422-7505-4300-99e4-fdff88b110ac\" style=\"height: 300px; width: 300px;\" class=\"plotly-graph-div\"></div><script type=\"text/javascript\">require([\"plotly\"], function(Plotly) { window.PLOTLYENV=window.PLOTLYENV || {};window.PLOTLYENV.BASE_URL=\"https://plot.ly\";Plotly.newPlot(\"dc6c2422-7505-4300-99e4-fdff88b110ac\", [{\"type\": \"heatmap\", \"colorscale\": \"Jet\", \"z\": [[5.545235252416442e-06, 0.4366516903335134, 0.8495823856023255, 0.9291905205983643, 0.9558721357258674, 0.9975687289079264], [0.9999800407558256, 4.615262830174333e-06, 1.7583409906226306e-07, 2.4829902386178224e-05, 0.0005509193121371313, 6.134308473949946e-06], [8.561194480090035e-06, 0.5632472560500291, 6.710128012847591e-05, 7.616427915393698e-07, 5.120956313617733e-06, 1.2379787272197941e-05], [1.0211716846844052e-08, 8.936610836424549e-05, 0.1501356383278789, 8.836369120109229e-05, 5.461803486459506e-07, 4.322389582601655e-07], [3.1503430307488067e-08, 1.086547669872001e-06, 0.00020976787627533948, 0.06976362765526585, 0.00048658735715408904, 4.061873479087057e-06], [5.196095769719609e-06, 5.3657712073016934e-06, 4.308860203946884e-06, 0.0009312732127308857, 0.04308406236746831, 0.00240757505573767]]}], {\"titlefont\": {\"color\": \"#FFF\"}, \"plot_bgcolor\": \"#000\", \"yaxis\": {\"title\": \"Count Word\", \"range\": [-0.5, 5.5], \"dtick\": 1, \"tickcolor\": \"#FFF\"}, \"height\": 300, \"title\": \"4 Blobs:Confidence after 307200 Iters\", \"xaxis\": {\"title\": \"Glimpses\", \"range\": [-0.5, 5.5], \"dtick\": 1, \"tickcolor\": \"#FFF\"}, \"width\": 300, \"font\": {\"color\": \"#FFF\"}, \"paper_bgcolor\": \"#000\"}, {\"linkText\": \"Export to plot.ly\", \"showLink\": true})});</script>"
      ]
     },
     "metadata": {},
     "output_type": "display_data"
    },
    {
     "data": {
      "application/vnd.plotly.v1+json": {
       "data": [
        {
         "colorscale": "Jet",
         "type": "heatmap",
         "z": [
          [
           0.1664348624273736,
           0.16601925175537618,
           0.16559539548685556,
           0.16521501464535254,
           0.16489069369236214,
           0.16460977716678074
          ],
          [
           0.16822695215379796,
           0.16970509826509078,
           0.17103108344970627,
           0.17219858786593803,
           0.17321488239963279,
           0.1740953310154826
          ],
          [
           0.166396335936039,
           0.16621566472207414,
           0.16603859783392022,
           0.16585927473598094,
           0.16568356560577477,
           0.16552575188309682
          ],
          [
           0.16473587685439905,
           0.16314540147340859,
           0.16182339314341473,
           0.16071746554824765,
           0.15981366507346564,
           0.15908638189727448
          ],
          [
           0.1670695340646835,
           0.16767396775756252,
           0.16834103274717513,
           0.1690139635316143,
           0.16965501812139383,
           0.17024666136625896
          ],
          [
           0.16713583981029828,
           0.1672400321742316,
           0.16716991962244054,
           0.16699509404291954,
           0.16674158511934598,
           0.16643552158423397
          ]
         ]
        }
       ],
       "layout": {
        "font": {
         "color": "#FFF"
        },
        "height": 300,
        "paper_bgcolor": "#000",
        "plot_bgcolor": "#000",
        "title": "5 Blobs:Confidence after 0 Iters",
        "titlefont": {
         "color": "#FFF"
        },
        "width": 300,
        "xaxis": {
         "dtick": 1,
         "range": [
          -0.5,
          5.5
         ],
         "tickcolor": "#FFF",
         "title": "Glimpses"
        },
        "yaxis": {
         "dtick": 1,
         "range": [
          -0.5,
          5.5
         ],
         "tickcolor": "#FFF",
         "title": "Count Word"
        }
       }
      },
      "text/html": [
       "<div id=\"9cdd3049-1404-48f3-b29c-8add1dcf5b3f\" style=\"height: 300px; width: 300px;\" class=\"plotly-graph-div\"></div><script type=\"text/javascript\">require([\"plotly\"], function(Plotly) { window.PLOTLYENV=window.PLOTLYENV || {};window.PLOTLYENV.BASE_URL=\"https://plot.ly\";Plotly.newPlot(\"9cdd3049-1404-48f3-b29c-8add1dcf5b3f\", [{\"type\": \"heatmap\", \"colorscale\": \"Jet\", \"z\": [[0.1664348624273736, 0.16601925175537618, 0.16559539548685556, 0.16521501464535254, 0.16489069369236214, 0.16460977716678074], [0.16822695215379796, 0.16970509826509078, 0.17103108344970627, 0.17219858786593803, 0.17321488239963279, 0.1740953310154826], [0.166396335936039, 0.16621566472207414, 0.16603859783392022, 0.16585927473598094, 0.16568356560577477, 0.16552575188309682], [0.16473587685439905, 0.16314540147340859, 0.16182339314341473, 0.16071746554824765, 0.15981366507346564, 0.15908638189727448], [0.1670695340646835, 0.16767396775756252, 0.16834103274717513, 0.1690139635316143, 0.16965501812139383, 0.17024666136625896], [0.16713583981029828, 0.1672400321742316, 0.16716991962244054, 0.16699509404291954, 0.16674158511934598, 0.16643552158423397]]}], {\"titlefont\": {\"color\": \"#FFF\"}, \"plot_bgcolor\": \"#000\", \"yaxis\": {\"title\": \"Count Word\", \"range\": [-0.5, 5.5], \"dtick\": 1, \"tickcolor\": \"#FFF\"}, \"height\": 300, \"title\": \"5 Blobs:Confidence after 0 Iters\", \"xaxis\": {\"title\": \"Glimpses\", \"range\": [-0.5, 5.5], \"dtick\": 1, \"tickcolor\": \"#FFF\"}, \"width\": 300, \"font\": {\"color\": \"#FFF\"}, \"paper_bgcolor\": \"#000\"}, {\"linkText\": \"Export to plot.ly\", \"showLink\": true})});</script>"
      ],
      "text/vnd.plotly.v1+html": [
       "<div id=\"9cdd3049-1404-48f3-b29c-8add1dcf5b3f\" style=\"height: 300px; width: 300px;\" class=\"plotly-graph-div\"></div><script type=\"text/javascript\">require([\"plotly\"], function(Plotly) { window.PLOTLYENV=window.PLOTLYENV || {};window.PLOTLYENV.BASE_URL=\"https://plot.ly\";Plotly.newPlot(\"9cdd3049-1404-48f3-b29c-8add1dcf5b3f\", [{\"type\": \"heatmap\", \"colorscale\": \"Jet\", \"z\": [[0.1664348624273736, 0.16601925175537618, 0.16559539548685556, 0.16521501464535254, 0.16489069369236214, 0.16460977716678074], [0.16822695215379796, 0.16970509826509078, 0.17103108344970627, 0.17219858786593803, 0.17321488239963279, 0.1740953310154826], [0.166396335936039, 0.16621566472207414, 0.16603859783392022, 0.16585927473598094, 0.16568356560577477, 0.16552575188309682], [0.16473587685439905, 0.16314540147340859, 0.16182339314341473, 0.16071746554824765, 0.15981366507346564, 0.15908638189727448], [0.1670695340646835, 0.16767396775756252, 0.16834103274717513, 0.1690139635316143, 0.16965501812139383, 0.17024666136625896], [0.16713583981029828, 0.1672400321742316, 0.16716991962244054, 0.16699509404291954, 0.16674158511934598, 0.16643552158423397]]}], {\"titlefont\": {\"color\": \"#FFF\"}, \"plot_bgcolor\": \"#000\", \"yaxis\": {\"title\": \"Count Word\", \"range\": [-0.5, 5.5], \"dtick\": 1, \"tickcolor\": \"#FFF\"}, \"height\": 300, \"title\": \"5 Blobs:Confidence after 0 Iters\", \"xaxis\": {\"title\": \"Glimpses\", \"range\": [-0.5, 5.5], \"dtick\": 1, \"tickcolor\": \"#FFF\"}, \"width\": 300, \"font\": {\"color\": \"#FFF\"}, \"paper_bgcolor\": \"#000\"}, {\"linkText\": \"Export to plot.ly\", \"showLink\": true})});</script>"
      ]
     },
     "metadata": {},
     "output_type": "display_data"
    },
    {
     "data": {
      "application/vnd.plotly.v1+json": {
       "data": [
        {
         "colorscale": "Jet",
         "type": "heatmap",
         "z": [
          [
           0.20914424738525791,
           0.21570194560864353,
           0.22152258736848063,
           0.22666455085380882,
           0.23118016373697722,
           0.23499987585016757
          ],
          [
           0.28945217427477504,
           0.29722807234630455,
           0.3027630596181297,
           0.30660810822946977,
           0.3092102580047875,
           0.3109271185167088
          ],
          [
           0.14084544679407235,
           0.13666703019732274,
           0.13332583400642573,
           0.1306320968751569,
           0.1284565613284454,
           0.12673096938773737
          ],
          [
           0.12504702844202503,
           0.12158931105214267,
           0.11873850570809433,
           0.11642288861710223,
           0.11460151205388562,
           0.11320770080167188
          ],
          [
           0.11922347221068855,
           0.11649877112779806,
           0.114569070296442,
           0.11322158219910342,
           0.11225846517644451,
           0.1116093692573647
          ],
          [
           0.11628720842041104,
           0.11231443261780179,
           0.1090805156705853,
           0.10645033066842373,
           0.1042925880722565,
           0.10252453205180637
          ]
         ]
        }
       ],
       "layout": {
        "font": {
         "color": "#FFF"
        },
        "height": 300,
        "paper_bgcolor": "#000",
        "plot_bgcolor": "#000",
        "title": "5 Blobs:Confidence after 400 Iters",
        "titlefont": {
         "color": "#FFF"
        },
        "width": 300,
        "xaxis": {
         "dtick": 1,
         "range": [
          -0.5,
          5.5
         ],
         "tickcolor": "#FFF",
         "title": "Glimpses"
        },
        "yaxis": {
         "dtick": 1,
         "range": [
          -0.5,
          5.5
         ],
         "tickcolor": "#FFF",
         "title": "Count Word"
        }
       }
      },
      "text/html": [
       "<div id=\"c29c1234-e48c-4004-8f63-849d72e9b535\" style=\"height: 300px; width: 300px;\" class=\"plotly-graph-div\"></div><script type=\"text/javascript\">require([\"plotly\"], function(Plotly) { window.PLOTLYENV=window.PLOTLYENV || {};window.PLOTLYENV.BASE_URL=\"https://plot.ly\";Plotly.newPlot(\"c29c1234-e48c-4004-8f63-849d72e9b535\", [{\"type\": \"heatmap\", \"colorscale\": \"Jet\", \"z\": [[0.20914424738525791, 0.21570194560864353, 0.22152258736848063, 0.22666455085380882, 0.23118016373697722, 0.23499987585016757], [0.28945217427477504, 0.29722807234630455, 0.3027630596181297, 0.30660810822946977, 0.3092102580047875, 0.3109271185167088], [0.14084544679407235, 0.13666703019732274, 0.13332583400642573, 0.1306320968751569, 0.1284565613284454, 0.12673096938773737], [0.12504702844202503, 0.12158931105214267, 0.11873850570809433, 0.11642288861710223, 0.11460151205388562, 0.11320770080167188], [0.11922347221068855, 0.11649877112779806, 0.114569070296442, 0.11322158219910342, 0.11225846517644451, 0.1116093692573647], [0.11628720842041104, 0.11231443261780179, 0.1090805156705853, 0.10645033066842373, 0.1042925880722565, 0.10252453205180637]]}], {\"titlefont\": {\"color\": \"#FFF\"}, \"plot_bgcolor\": \"#000\", \"yaxis\": {\"title\": \"Count Word\", \"range\": [-0.5, 5.5], \"dtick\": 1, \"tickcolor\": \"#FFF\"}, \"height\": 300, \"title\": \"5 Blobs:Confidence after 400 Iters\", \"xaxis\": {\"title\": \"Glimpses\", \"range\": [-0.5, 5.5], \"dtick\": 1, \"tickcolor\": \"#FFF\"}, \"width\": 300, \"font\": {\"color\": \"#FFF\"}, \"paper_bgcolor\": \"#000\"}, {\"linkText\": \"Export to plot.ly\", \"showLink\": true})});</script>"
      ],
      "text/vnd.plotly.v1+html": [
       "<div id=\"c29c1234-e48c-4004-8f63-849d72e9b535\" style=\"height: 300px; width: 300px;\" class=\"plotly-graph-div\"></div><script type=\"text/javascript\">require([\"plotly\"], function(Plotly) { window.PLOTLYENV=window.PLOTLYENV || {};window.PLOTLYENV.BASE_URL=\"https://plot.ly\";Plotly.newPlot(\"c29c1234-e48c-4004-8f63-849d72e9b535\", [{\"type\": \"heatmap\", \"colorscale\": \"Jet\", \"z\": [[0.20914424738525791, 0.21570194560864353, 0.22152258736848063, 0.22666455085380882, 0.23118016373697722, 0.23499987585016757], [0.28945217427477504, 0.29722807234630455, 0.3027630596181297, 0.30660810822946977, 0.3092102580047875, 0.3109271185167088], [0.14084544679407235, 0.13666703019732274, 0.13332583400642573, 0.1306320968751569, 0.1284565613284454, 0.12673096938773737], [0.12504702844202503, 0.12158931105214267, 0.11873850570809433, 0.11642288861710223, 0.11460151205388562, 0.11320770080167188], [0.11922347221068855, 0.11649877112779806, 0.114569070296442, 0.11322158219910342, 0.11225846517644451, 0.1116093692573647], [0.11628720842041104, 0.11231443261780179, 0.1090805156705853, 0.10645033066842373, 0.1042925880722565, 0.10252453205180637]]}], {\"titlefont\": {\"color\": \"#FFF\"}, \"plot_bgcolor\": \"#000\", \"yaxis\": {\"title\": \"Count Word\", \"range\": [-0.5, 5.5], \"dtick\": 1, \"tickcolor\": \"#FFF\"}, \"height\": 300, \"title\": \"5 Blobs:Confidence after 400 Iters\", \"xaxis\": {\"title\": \"Glimpses\", \"range\": [-0.5, 5.5], \"dtick\": 1, \"tickcolor\": \"#FFF\"}, \"width\": 300, \"font\": {\"color\": \"#FFF\"}, \"paper_bgcolor\": \"#000\"}, {\"linkText\": \"Export to plot.ly\", \"showLink\": true})});</script>"
      ]
     },
     "metadata": {},
     "output_type": "display_data"
    },
    {
     "data": {
      "application/vnd.plotly.v1+json": {
       "data": [
        {
         "colorscale": "Jet",
         "type": "heatmap",
         "z": [
          [
           0.18455534444004817,
           0.29295501794263235,
           0.44959856173769985,
           0.6337587266007897,
           0.6968670405877972,
           0.7855600851130814
          ],
          [
           0.42681289950727536,
           0.4520467632972262,
           0.3849247413888348,
           0.2580374424308578,
           0.22008874192934538,
           0.15232864796474024
          ],
          [
           0.12913469101613742,
           0.08843226401306925,
           0.05897281882913114,
           0.03857132897868677,
           0.02964445833482995,
           0.021916079513055943
          ],
          [
           0.09621116219224889,
           0.06754628480593604,
           0.04761333755321807,
           0.03385232365779595,
           0.027139796715007013,
           0.02125314169404554
          ],
          [
           0.08346385427708662,
           0.052619697326548275,
           0.03257099454368392,
           0.020546896741018776,
           0.015331113736505735,
           0.01131054519901489
          ],
          [
           0.0798213276297001,
           0.046399262586855436,
           0.026318808844841342,
           0.01523256101922408,
           0.010928161419646032,
           0.007630772710059498
          ]
         ]
        }
       ],
       "layout": {
        "font": {
         "color": "#FFF"
        },
        "height": 300,
        "paper_bgcolor": "#000",
        "plot_bgcolor": "#000",
        "title": "5 Blobs:Confidence after 800 Iters",
        "titlefont": {
         "color": "#FFF"
        },
        "width": 300,
        "xaxis": {
         "dtick": 1,
         "range": [
          -0.5,
          5.5
         ],
         "tickcolor": "#FFF",
         "title": "Glimpses"
        },
        "yaxis": {
         "dtick": 1,
         "range": [
          -0.5,
          5.5
         ],
         "tickcolor": "#FFF",
         "title": "Count Word"
        }
       }
      },
      "text/html": [
       "<div id=\"b7dc7a33-e215-4478-81ae-1f805174f585\" style=\"height: 300px; width: 300px;\" class=\"plotly-graph-div\"></div><script type=\"text/javascript\">require([\"plotly\"], function(Plotly) { window.PLOTLYENV=window.PLOTLYENV || {};window.PLOTLYENV.BASE_URL=\"https://plot.ly\";Plotly.newPlot(\"b7dc7a33-e215-4478-81ae-1f805174f585\", [{\"type\": \"heatmap\", \"colorscale\": \"Jet\", \"z\": [[0.18455534444004817, 0.29295501794263235, 0.44959856173769985, 0.6337587266007897, 0.6968670405877972, 0.7855600851130814], [0.42681289950727536, 0.4520467632972262, 0.3849247413888348, 0.2580374424308578, 0.22008874192934538, 0.15232864796474024], [0.12913469101613742, 0.08843226401306925, 0.05897281882913114, 0.03857132897868677, 0.02964445833482995, 0.021916079513055943], [0.09621116219224889, 0.06754628480593604, 0.04761333755321807, 0.03385232365779595, 0.027139796715007013, 0.02125314169404554], [0.08346385427708662, 0.052619697326548275, 0.03257099454368392, 0.020546896741018776, 0.015331113736505735, 0.01131054519901489], [0.0798213276297001, 0.046399262586855436, 0.026318808844841342, 0.01523256101922408, 0.010928161419646032, 0.007630772710059498]]}], {\"titlefont\": {\"color\": \"#FFF\"}, \"plot_bgcolor\": \"#000\", \"yaxis\": {\"title\": \"Count Word\", \"range\": [-0.5, 5.5], \"dtick\": 1, \"tickcolor\": \"#FFF\"}, \"height\": 300, \"title\": \"5 Blobs:Confidence after 800 Iters\", \"xaxis\": {\"title\": \"Glimpses\", \"range\": [-0.5, 5.5], \"dtick\": 1, \"tickcolor\": \"#FFF\"}, \"width\": 300, \"font\": {\"color\": \"#FFF\"}, \"paper_bgcolor\": \"#000\"}, {\"linkText\": \"Export to plot.ly\", \"showLink\": true})});</script>"
      ],
      "text/vnd.plotly.v1+html": [
       "<div id=\"b7dc7a33-e215-4478-81ae-1f805174f585\" style=\"height: 300px; width: 300px;\" class=\"plotly-graph-div\"></div><script type=\"text/javascript\">require([\"plotly\"], function(Plotly) { window.PLOTLYENV=window.PLOTLYENV || {};window.PLOTLYENV.BASE_URL=\"https://plot.ly\";Plotly.newPlot(\"b7dc7a33-e215-4478-81ae-1f805174f585\", [{\"type\": \"heatmap\", \"colorscale\": \"Jet\", \"z\": [[0.18455534444004817, 0.29295501794263235, 0.44959856173769985, 0.6337587266007897, 0.6968670405877972, 0.7855600851130814], [0.42681289950727536, 0.4520467632972262, 0.3849247413888348, 0.2580374424308578, 0.22008874192934538, 0.15232864796474024], [0.12913469101613742, 0.08843226401306925, 0.05897281882913114, 0.03857132897868677, 0.02964445833482995, 0.021916079513055943], [0.09621116219224889, 0.06754628480593604, 0.04761333755321807, 0.03385232365779595, 0.027139796715007013, 0.02125314169404554], [0.08346385427708662, 0.052619697326548275, 0.03257099454368392, 0.020546896741018776, 0.015331113736505735, 0.01131054519901489], [0.0798213276297001, 0.046399262586855436, 0.026318808844841342, 0.01523256101922408, 0.010928161419646032, 0.007630772710059498]]}], {\"titlefont\": {\"color\": \"#FFF\"}, \"plot_bgcolor\": \"#000\", \"yaxis\": {\"title\": \"Count Word\", \"range\": [-0.5, 5.5], \"dtick\": 1, \"tickcolor\": \"#FFF\"}, \"height\": 300, \"title\": \"5 Blobs:Confidence after 800 Iters\", \"xaxis\": {\"title\": \"Glimpses\", \"range\": [-0.5, 5.5], \"dtick\": 1, \"tickcolor\": \"#FFF\"}, \"width\": 300, \"font\": {\"color\": \"#FFF\"}, \"paper_bgcolor\": \"#000\"}, {\"linkText\": \"Export to plot.ly\", \"showLink\": true})});</script>"
      ]
     },
     "metadata": {},
     "output_type": "display_data"
    },
    {
     "data": {
      "application/vnd.plotly.v1+json": {
       "data": [
        {
         "colorscale": "Jet",
         "type": "heatmap",
         "z": [
          [
           0.08030241312662992,
           0.27350377991358465,
           0.3394760490966174,
           0.6480811379685257,
           0.5742405062199629,
           0.7431146149041121
          ],
          [
           0.581476696479316,
           0.047240115689896056,
           0.002850394897479452,
           0.00012808041132408634,
           0.00011438191674124661,
           2.4283513640610175e-05
          ],
          [
           0.14586506943248123,
           0.3237893350804477,
           0.3007395409685957,
           0.12438883825852118,
           0.14354592989547146,
           0.07349959775412654
          ],
          [
           0.07312447649928183,
           0.1819979672533205,
           0.21482278620606376,
           0.14195364422808252,
           0.18206183887220767,
           0.11730045289711703
          ],
          [
           0.060286237783546394,
           0.10573390502331777,
           0.09864175003240681,
           0.06573528611063646,
           0.07649200951231963,
           0.05240280974496543
          ],
          [
           0.05894455075484936,
           0.06773432378906738,
           0.04346890510867999,
           0.01971244201939892,
           0.023544771813577337,
           0.013657673642445248
          ]
         ]
        }
       ],
       "layout": {
        "font": {
         "color": "#FFF"
        },
        "height": 300,
        "paper_bgcolor": "#000",
        "plot_bgcolor": "#000",
        "title": "5 Blobs:Confidence after 1600 Iters",
        "titlefont": {
         "color": "#FFF"
        },
        "width": 300,
        "xaxis": {
         "dtick": 1,
         "range": [
          -0.5,
          5.5
         ],
         "tickcolor": "#FFF",
         "title": "Glimpses"
        },
        "yaxis": {
         "dtick": 1,
         "range": [
          -0.5,
          5.5
         ],
         "tickcolor": "#FFF",
         "title": "Count Word"
        }
       }
      },
      "text/html": [
       "<div id=\"bc217662-da29-480d-87ba-9e720850a7e1\" style=\"height: 300px; width: 300px;\" class=\"plotly-graph-div\"></div><script type=\"text/javascript\">require([\"plotly\"], function(Plotly) { window.PLOTLYENV=window.PLOTLYENV || {};window.PLOTLYENV.BASE_URL=\"https://plot.ly\";Plotly.newPlot(\"bc217662-da29-480d-87ba-9e720850a7e1\", [{\"type\": \"heatmap\", \"colorscale\": \"Jet\", \"z\": [[0.08030241312662992, 0.27350377991358465, 0.3394760490966174, 0.6480811379685257, 0.5742405062199629, 0.7431146149041121], [0.581476696479316, 0.047240115689896056, 0.002850394897479452, 0.00012808041132408634, 0.00011438191674124661, 2.4283513640610175e-05], [0.14586506943248123, 0.3237893350804477, 0.3007395409685957, 0.12438883825852118, 0.14354592989547146, 0.07349959775412654], [0.07312447649928183, 0.1819979672533205, 0.21482278620606376, 0.14195364422808252, 0.18206183887220767, 0.11730045289711703], [0.060286237783546394, 0.10573390502331777, 0.09864175003240681, 0.06573528611063646, 0.07649200951231963, 0.05240280974496543], [0.05894455075484936, 0.06773432378906738, 0.04346890510867999, 0.01971244201939892, 0.023544771813577337, 0.013657673642445248]]}], {\"titlefont\": {\"color\": \"#FFF\"}, \"plot_bgcolor\": \"#000\", \"yaxis\": {\"title\": \"Count Word\", \"range\": [-0.5, 5.5], \"dtick\": 1, \"tickcolor\": \"#FFF\"}, \"height\": 300, \"title\": \"5 Blobs:Confidence after 1600 Iters\", \"xaxis\": {\"title\": \"Glimpses\", \"range\": [-0.5, 5.5], \"dtick\": 1, \"tickcolor\": \"#FFF\"}, \"width\": 300, \"font\": {\"color\": \"#FFF\"}, \"paper_bgcolor\": \"#000\"}, {\"linkText\": \"Export to plot.ly\", \"showLink\": true})});</script>"
      ],
      "text/vnd.plotly.v1+html": [
       "<div id=\"bc217662-da29-480d-87ba-9e720850a7e1\" style=\"height: 300px; width: 300px;\" class=\"plotly-graph-div\"></div><script type=\"text/javascript\">require([\"plotly\"], function(Plotly) { window.PLOTLYENV=window.PLOTLYENV || {};window.PLOTLYENV.BASE_URL=\"https://plot.ly\";Plotly.newPlot(\"bc217662-da29-480d-87ba-9e720850a7e1\", [{\"type\": \"heatmap\", \"colorscale\": \"Jet\", \"z\": [[0.08030241312662992, 0.27350377991358465, 0.3394760490966174, 0.6480811379685257, 0.5742405062199629, 0.7431146149041121], [0.581476696479316, 0.047240115689896056, 0.002850394897479452, 0.00012808041132408634, 0.00011438191674124661, 2.4283513640610175e-05], [0.14586506943248123, 0.3237893350804477, 0.3007395409685957, 0.12438883825852118, 0.14354592989547146, 0.07349959775412654], [0.07312447649928183, 0.1819979672533205, 0.21482278620606376, 0.14195364422808252, 0.18206183887220767, 0.11730045289711703], [0.060286237783546394, 0.10573390502331777, 0.09864175003240681, 0.06573528611063646, 0.07649200951231963, 0.05240280974496543], [0.05894455075484936, 0.06773432378906738, 0.04346890510867999, 0.01971244201939892, 0.023544771813577337, 0.013657673642445248]]}], {\"titlefont\": {\"color\": \"#FFF\"}, \"plot_bgcolor\": \"#000\", \"yaxis\": {\"title\": \"Count Word\", \"range\": [-0.5, 5.5], \"dtick\": 1, \"tickcolor\": \"#FFF\"}, \"height\": 300, \"title\": \"5 Blobs:Confidence after 1600 Iters\", \"xaxis\": {\"title\": \"Glimpses\", \"range\": [-0.5, 5.5], \"dtick\": 1, \"tickcolor\": \"#FFF\"}, \"width\": 300, \"font\": {\"color\": \"#FFF\"}, \"paper_bgcolor\": \"#000\"}, {\"linkText\": \"Export to plot.ly\", \"showLink\": true})});</script>"
      ]
     },
     "metadata": {},
     "output_type": "display_data"
    },
    {
     "data": {
      "application/vnd.plotly.v1+json": {
       "data": [
        {
         "colorscale": "Jet",
         "type": "heatmap",
         "z": [
          [
           0.008026603582315165,
           0.2675264402886679,
           0.6630161673400621,
           0.630141760030412,
           0.571488752444973,
           0.5257812948566137
          ],
          [
           0.9443809690442283,
           0.004960819751868863,
           4.3298989804957116e-06,
           3.2070770460944285e-07,
           1.2602073110276907e-07,
           9.294309355057092e-08
          ],
          [
           0.03570672817540203,
           0.5150826060115441,
           0.025631537368115232,
           0.0032616895764988442,
           0.0017259854880702955,
           0.0013823067867255393
          ],
          [
           0.004715680524443954,
           0.162219517565096,
           0.2152588005287094,
           0.19581626712275307,
           0.19620278113140907,
           0.20185601069204442
          ],
          [
           0.003366794451097638,
           0.027220964103758554,
           0.061399006392383874,
           0.110255727180475,
           0.14629707418053892,
           0.1693669014571075
          ],
          [
           0.0038025669315984146,
           0.022988983750198446,
           0.03468948792197181,
           0.06052356748116157,
           0.08428459608312949,
           0.10161273112778908
          ]
         ]
        }
       ],
       "layout": {
        "font": {
         "color": "#FFF"
        },
        "height": 300,
        "paper_bgcolor": "#000",
        "plot_bgcolor": "#000",
        "title": "5 Blobs:Confidence after 3200 Iters",
        "titlefont": {
         "color": "#FFF"
        },
        "width": 300,
        "xaxis": {
         "dtick": 1,
         "range": [
          -0.5,
          5.5
         ],
         "tickcolor": "#FFF",
         "title": "Glimpses"
        },
        "yaxis": {
         "dtick": 1,
         "range": [
          -0.5,
          5.5
         ],
         "tickcolor": "#FFF",
         "title": "Count Word"
        }
       }
      },
      "text/html": [
       "<div id=\"e06b41e0-6ea7-4389-9f03-718ae4d9a016\" style=\"height: 300px; width: 300px;\" class=\"plotly-graph-div\"></div><script type=\"text/javascript\">require([\"plotly\"], function(Plotly) { window.PLOTLYENV=window.PLOTLYENV || {};window.PLOTLYENV.BASE_URL=\"https://plot.ly\";Plotly.newPlot(\"e06b41e0-6ea7-4389-9f03-718ae4d9a016\", [{\"type\": \"heatmap\", \"colorscale\": \"Jet\", \"z\": [[0.008026603582315165, 0.2675264402886679, 0.6630161673400621, 0.630141760030412, 0.571488752444973, 0.5257812948566137], [0.9443809690442283, 0.004960819751868863, 4.3298989804957116e-06, 3.2070770460944285e-07, 1.2602073110276907e-07, 9.294309355057092e-08], [0.03570672817540203, 0.5150826060115441, 0.025631537368115232, 0.0032616895764988442, 0.0017259854880702955, 0.0013823067867255393], [0.004715680524443954, 0.162219517565096, 0.2152588005287094, 0.19581626712275307, 0.19620278113140907, 0.20185601069204442], [0.003366794451097638, 0.027220964103758554, 0.061399006392383874, 0.110255727180475, 0.14629707418053892, 0.1693669014571075], [0.0038025669315984146, 0.022988983750198446, 0.03468948792197181, 0.06052356748116157, 0.08428459608312949, 0.10161273112778908]]}], {\"titlefont\": {\"color\": \"#FFF\"}, \"plot_bgcolor\": \"#000\", \"yaxis\": {\"title\": \"Count Word\", \"range\": [-0.5, 5.5], \"dtick\": 1, \"tickcolor\": \"#FFF\"}, \"height\": 300, \"title\": \"5 Blobs:Confidence after 3200 Iters\", \"xaxis\": {\"title\": \"Glimpses\", \"range\": [-0.5, 5.5], \"dtick\": 1, \"tickcolor\": \"#FFF\"}, \"width\": 300, \"font\": {\"color\": \"#FFF\"}, \"paper_bgcolor\": \"#000\"}, {\"linkText\": \"Export to plot.ly\", \"showLink\": true})});</script>"
      ],
      "text/vnd.plotly.v1+html": [
       "<div id=\"e06b41e0-6ea7-4389-9f03-718ae4d9a016\" style=\"height: 300px; width: 300px;\" class=\"plotly-graph-div\"></div><script type=\"text/javascript\">require([\"plotly\"], function(Plotly) { window.PLOTLYENV=window.PLOTLYENV || {};window.PLOTLYENV.BASE_URL=\"https://plot.ly\";Plotly.newPlot(\"e06b41e0-6ea7-4389-9f03-718ae4d9a016\", [{\"type\": \"heatmap\", \"colorscale\": \"Jet\", \"z\": [[0.008026603582315165, 0.2675264402886679, 0.6630161673400621, 0.630141760030412, 0.571488752444973, 0.5257812948566137], [0.9443809690442283, 0.004960819751868863, 4.3298989804957116e-06, 3.2070770460944285e-07, 1.2602073110276907e-07, 9.294309355057092e-08], [0.03570672817540203, 0.5150826060115441, 0.025631537368115232, 0.0032616895764988442, 0.0017259854880702955, 0.0013823067867255393], [0.004715680524443954, 0.162219517565096, 0.2152588005287094, 0.19581626712275307, 0.19620278113140907, 0.20185601069204442], [0.003366794451097638, 0.027220964103758554, 0.061399006392383874, 0.110255727180475, 0.14629707418053892, 0.1693669014571075], [0.0038025669315984146, 0.022988983750198446, 0.03468948792197181, 0.06052356748116157, 0.08428459608312949, 0.10161273112778908]]}], {\"titlefont\": {\"color\": \"#FFF\"}, \"plot_bgcolor\": \"#000\", \"yaxis\": {\"title\": \"Count Word\", \"range\": [-0.5, 5.5], \"dtick\": 1, \"tickcolor\": \"#FFF\"}, \"height\": 300, \"title\": \"5 Blobs:Confidence after 3200 Iters\", \"xaxis\": {\"title\": \"Glimpses\", \"range\": [-0.5, 5.5], \"dtick\": 1, \"tickcolor\": \"#FFF\"}, \"width\": 300, \"font\": {\"color\": \"#FFF\"}, \"paper_bgcolor\": \"#000\"}, {\"linkText\": \"Export to plot.ly\", \"showLink\": true})});</script>"
      ]
     },
     "metadata": {},
     "output_type": "display_data"
    },
    {
     "data": {
      "application/vnd.plotly.v1+json": {
       "data": [
        {
         "colorscale": "Jet",
         "type": "heatmap",
         "z": [
          [
           9.517757115174191e-05,
           0.051630821109321934,
           0.6286487862632,
           0.5517748670438049,
           0.45004534719780875,
           0.40460048888640043
          ],
          [
           0.9964419001804844,
           0.0003526943819492178,
           7.830250259613848e-07,
           3.6319163586891075e-08,
           1.2068361427031975e-08,
           6.671797050839247e-09
          ],
          [
           0.0033867405472078347,
           0.9367898744430646,
           0.05472803914145784,
           0.002098490393628953,
           0.00046769168739887177,
           0.00024816428122974933
          ],
          [
           4.749424286155663e-05,
           0.01052676231795188,
           0.22792872201425773,
           0.10742840045849025,
           0.05108206618726699,
           0.03532995796553913
          ],
          [
           1.5036538282737743e-05,
           0.0005477288892630309,
           0.06879277759394241,
           0.21174839287844066,
           0.24404342254936026,
           0.23342375720172198
          ],
          [
           1.3104971417991186e-05,
           0.00015159422349077747,
           0.01990036219463772,
           0.12694929485710857,
           0.2543609442689386,
           0.32639709660772925
          ]
         ]
        }
       ],
       "layout": {
        "font": {
         "color": "#FFF"
        },
        "height": 300,
        "paper_bgcolor": "#000",
        "plot_bgcolor": "#000",
        "title": "5 Blobs:Confidence after 6400 Iters",
        "titlefont": {
         "color": "#FFF"
        },
        "width": 300,
        "xaxis": {
         "dtick": 1,
         "range": [
          -0.5,
          5.5
         ],
         "tickcolor": "#FFF",
         "title": "Glimpses"
        },
        "yaxis": {
         "dtick": 1,
         "range": [
          -0.5,
          5.5
         ],
         "tickcolor": "#FFF",
         "title": "Count Word"
        }
       }
      },
      "text/html": [
       "<div id=\"ad522dce-8cda-4f2f-99d6-ec28337ff97e\" style=\"height: 300px; width: 300px;\" class=\"plotly-graph-div\"></div><script type=\"text/javascript\">require([\"plotly\"], function(Plotly) { window.PLOTLYENV=window.PLOTLYENV || {};window.PLOTLYENV.BASE_URL=\"https://plot.ly\";Plotly.newPlot(\"ad522dce-8cda-4f2f-99d6-ec28337ff97e\", [{\"type\": \"heatmap\", \"colorscale\": \"Jet\", \"z\": [[9.517757115174191e-05, 0.051630821109321934, 0.6286487862632, 0.5517748670438049, 0.45004534719780875, 0.40460048888640043], [0.9964419001804844, 0.0003526943819492178, 7.830250259613848e-07, 3.6319163586891075e-08, 1.2068361427031975e-08, 6.671797050839247e-09], [0.0033867405472078347, 0.9367898744430646, 0.05472803914145784, 0.002098490393628953, 0.00046769168739887177, 0.00024816428122974933], [4.749424286155663e-05, 0.01052676231795188, 0.22792872201425773, 0.10742840045849025, 0.05108206618726699, 0.03532995796553913], [1.5036538282737743e-05, 0.0005477288892630309, 0.06879277759394241, 0.21174839287844066, 0.24404342254936026, 0.23342375720172198], [1.3104971417991186e-05, 0.00015159422349077747, 0.01990036219463772, 0.12694929485710857, 0.2543609442689386, 0.32639709660772925]]}], {\"titlefont\": {\"color\": \"#FFF\"}, \"plot_bgcolor\": \"#000\", \"yaxis\": {\"title\": \"Count Word\", \"range\": [-0.5, 5.5], \"dtick\": 1, \"tickcolor\": \"#FFF\"}, \"height\": 300, \"title\": \"5 Blobs:Confidence after 6400 Iters\", \"xaxis\": {\"title\": \"Glimpses\", \"range\": [-0.5, 5.5], \"dtick\": 1, \"tickcolor\": \"#FFF\"}, \"width\": 300, \"font\": {\"color\": \"#FFF\"}, \"paper_bgcolor\": \"#000\"}, {\"linkText\": \"Export to plot.ly\", \"showLink\": true})});</script>"
      ],
      "text/vnd.plotly.v1+html": [
       "<div id=\"ad522dce-8cda-4f2f-99d6-ec28337ff97e\" style=\"height: 300px; width: 300px;\" class=\"plotly-graph-div\"></div><script type=\"text/javascript\">require([\"plotly\"], function(Plotly) { window.PLOTLYENV=window.PLOTLYENV || {};window.PLOTLYENV.BASE_URL=\"https://plot.ly\";Plotly.newPlot(\"ad522dce-8cda-4f2f-99d6-ec28337ff97e\", [{\"type\": \"heatmap\", \"colorscale\": \"Jet\", \"z\": [[9.517757115174191e-05, 0.051630821109321934, 0.6286487862632, 0.5517748670438049, 0.45004534719780875, 0.40460048888640043], [0.9964419001804844, 0.0003526943819492178, 7.830250259613848e-07, 3.6319163586891075e-08, 1.2068361427031975e-08, 6.671797050839247e-09], [0.0033867405472078347, 0.9367898744430646, 0.05472803914145784, 0.002098490393628953, 0.00046769168739887177, 0.00024816428122974933], [4.749424286155663e-05, 0.01052676231795188, 0.22792872201425773, 0.10742840045849025, 0.05108206618726699, 0.03532995796553913], [1.5036538282737743e-05, 0.0005477288892630309, 0.06879277759394241, 0.21174839287844066, 0.24404342254936026, 0.23342375720172198], [1.3104971417991186e-05, 0.00015159422349077747, 0.01990036219463772, 0.12694929485710857, 0.2543609442689386, 0.32639709660772925]]}], {\"titlefont\": {\"color\": \"#FFF\"}, \"plot_bgcolor\": \"#000\", \"yaxis\": {\"title\": \"Count Word\", \"range\": [-0.5, 5.5], \"dtick\": 1, \"tickcolor\": \"#FFF\"}, \"height\": 300, \"title\": \"5 Blobs:Confidence after 6400 Iters\", \"xaxis\": {\"title\": \"Glimpses\", \"range\": [-0.5, 5.5], \"dtick\": 1, \"tickcolor\": \"#FFF\"}, \"width\": 300, \"font\": {\"color\": \"#FFF\"}, \"paper_bgcolor\": \"#000\"}, {\"linkText\": \"Export to plot.ly\", \"showLink\": true})});</script>"
      ]
     },
     "metadata": {},
     "output_type": "display_data"
    },
    {
     "data": {
      "application/vnd.plotly.v1+json": {
       "data": [
        {
         "colorscale": "Jet",
         "type": "heatmap",
         "z": [
          [
           5.912224023519885e-06,
           0.16728897798740194,
           0.4766027556041665,
           0.6320521651483865,
           0.6029505248120072,
           0.5767397440645915
          ],
          [
           0.9974269052133968,
           0.0005723866488798303,
           6.504500756935629e-07,
           2.3637423354928466e-07,
           8.031674470893463e-08,
           7.130144178267332e-08
          ],
          [
           0.0025613004581011246,
           0.8296546487906501,
           0.01902908579745549,
           0.00016510301687381487,
           3.141828067565942e-05,
           1.966661324164764e-05
          ],
          [
           3.4085559442985327e-06,
           0.002370249130164448,
           0.4861095080123703,
           0.08203323172288395,
           0.013439238848968952,
           0.0064839930915578416
          ],
          [
           6.838337068478553e-07,
           6.989047773441009e-05,
           0.016556861331782077,
           0.23234810080292004,
           0.18058227547502992,
           0.12110489735594328
          ],
          [
           1.2550080852709096e-06,
           4.333882339367835e-05,
           0.0017006382894253083,
           0.053400660102012484,
           0.2029959479508738,
           0.29565113454452324
          ]
         ]
        }
       ],
       "layout": {
        "font": {
         "color": "#FFF"
        },
        "height": 300,
        "paper_bgcolor": "#000",
        "plot_bgcolor": "#000",
        "title": "5 Blobs:Confidence after 12800 Iters",
        "titlefont": {
         "color": "#FFF"
        },
        "width": 300,
        "xaxis": {
         "dtick": 1,
         "range": [
          -0.5,
          5.5
         ],
         "tickcolor": "#FFF",
         "title": "Glimpses"
        },
        "yaxis": {
         "dtick": 1,
         "range": [
          -0.5,
          5.5
         ],
         "tickcolor": "#FFF",
         "title": "Count Word"
        }
       }
      },
      "text/html": [
       "<div id=\"35dbd4aa-1574-45ad-8638-fff3c76db600\" style=\"height: 300px; width: 300px;\" class=\"plotly-graph-div\"></div><script type=\"text/javascript\">require([\"plotly\"], function(Plotly) { window.PLOTLYENV=window.PLOTLYENV || {};window.PLOTLYENV.BASE_URL=\"https://plot.ly\";Plotly.newPlot(\"35dbd4aa-1574-45ad-8638-fff3c76db600\", [{\"type\": \"heatmap\", \"colorscale\": \"Jet\", \"z\": [[5.912224023519885e-06, 0.16728897798740194, 0.4766027556041665, 0.6320521651483865, 0.6029505248120072, 0.5767397440645915], [0.9974269052133968, 0.0005723866488798303, 6.504500756935629e-07, 2.3637423354928466e-07, 8.031674470893463e-08, 7.130144178267332e-08], [0.0025613004581011246, 0.8296546487906501, 0.01902908579745549, 0.00016510301687381487, 3.141828067565942e-05, 1.966661324164764e-05], [3.4085559442985327e-06, 0.002370249130164448, 0.4861095080123703, 0.08203323172288395, 0.013439238848968952, 0.0064839930915578416], [6.838337068478553e-07, 6.989047773441009e-05, 0.016556861331782077, 0.23234810080292004, 0.18058227547502992, 0.12110489735594328], [1.2550080852709096e-06, 4.333882339367835e-05, 0.0017006382894253083, 0.053400660102012484, 0.2029959479508738, 0.29565113454452324]]}], {\"titlefont\": {\"color\": \"#FFF\"}, \"plot_bgcolor\": \"#000\", \"yaxis\": {\"title\": \"Count Word\", \"range\": [-0.5, 5.5], \"dtick\": 1, \"tickcolor\": \"#FFF\"}, \"height\": 300, \"title\": \"5 Blobs:Confidence after 12800 Iters\", \"xaxis\": {\"title\": \"Glimpses\", \"range\": [-0.5, 5.5], \"dtick\": 1, \"tickcolor\": \"#FFF\"}, \"width\": 300, \"font\": {\"color\": \"#FFF\"}, \"paper_bgcolor\": \"#000\"}, {\"linkText\": \"Export to plot.ly\", \"showLink\": true})});</script>"
      ],
      "text/vnd.plotly.v1+html": [
       "<div id=\"35dbd4aa-1574-45ad-8638-fff3c76db600\" style=\"height: 300px; width: 300px;\" class=\"plotly-graph-div\"></div><script type=\"text/javascript\">require([\"plotly\"], function(Plotly) { window.PLOTLYENV=window.PLOTLYENV || {};window.PLOTLYENV.BASE_URL=\"https://plot.ly\";Plotly.newPlot(\"35dbd4aa-1574-45ad-8638-fff3c76db600\", [{\"type\": \"heatmap\", \"colorscale\": \"Jet\", \"z\": [[5.912224023519885e-06, 0.16728897798740194, 0.4766027556041665, 0.6320521651483865, 0.6029505248120072, 0.5767397440645915], [0.9974269052133968, 0.0005723866488798303, 6.504500756935629e-07, 2.3637423354928466e-07, 8.031674470893463e-08, 7.130144178267332e-08], [0.0025613004581011246, 0.8296546487906501, 0.01902908579745549, 0.00016510301687381487, 3.141828067565942e-05, 1.966661324164764e-05], [3.4085559442985327e-06, 0.002370249130164448, 0.4861095080123703, 0.08203323172288395, 0.013439238848968952, 0.0064839930915578416], [6.838337068478553e-07, 6.989047773441009e-05, 0.016556861331782077, 0.23234810080292004, 0.18058227547502992, 0.12110489735594328], [1.2550080852709096e-06, 4.333882339367835e-05, 0.0017006382894253083, 0.053400660102012484, 0.2029959479508738, 0.29565113454452324]]}], {\"titlefont\": {\"color\": \"#FFF\"}, \"plot_bgcolor\": \"#000\", \"yaxis\": {\"title\": \"Count Word\", \"range\": [-0.5, 5.5], \"dtick\": 1, \"tickcolor\": \"#FFF\"}, \"height\": 300, \"title\": \"5 Blobs:Confidence after 12800 Iters\", \"xaxis\": {\"title\": \"Glimpses\", \"range\": [-0.5, 5.5], \"dtick\": 1, \"tickcolor\": \"#FFF\"}, \"width\": 300, \"font\": {\"color\": \"#FFF\"}, \"paper_bgcolor\": \"#000\"}, {\"linkText\": \"Export to plot.ly\", \"showLink\": true})});</script>"
      ]
     },
     "metadata": {},
     "output_type": "display_data"
    },
    {
     "data": {
      "application/vnd.plotly.v1+json": {
       "data": [
        {
         "colorscale": "Jet",
         "type": "heatmap",
         "z": [
          [
           5.729371673967386e-07,
           0.17009164048727826,
           0.9207049162233786,
           0.8488523515933337,
           0.7612763354481089,
           0.8452689289629658
          ],
          [
           0.9999671519907017,
           0.0003891829884745973,
           3.165150535995954e-05,
           6.447936420661047e-05,
           0.0010649943248438912,
           0.00029222761617364796
          ],
          [
           3.167222244404464e-05,
           0.8290557525059437,
           0.004304763381880046,
           1.7256274946438096e-05,
           3.862849564611673e-05,
           0.0001539877912370043
          ],
          [
           4.165896515987792e-09,
           0.0004454108434228038,
           0.06926027299430669,
           0.001047504735074332,
           0.00011034320049190785,
           0.0001185577288320517
          ],
          [
           6.98437838850801e-09,
           9.208138406316255e-06,
           0.005478043333534544,
           0.12073826032291277,
           0.021247367283180926,
           0.003873478268898909
          ],
          [
           5.99514069811138e-08,
           8.253049366329577e-06,
           0.00021980713574698126,
           0.029279609915106166,
           0.2162617698988012,
           0.15029229067208125
          ]
         ]
        }
       ],
       "layout": {
        "font": {
         "color": "#FFF"
        },
        "height": 300,
        "paper_bgcolor": "#000",
        "plot_bgcolor": "#000",
        "title": "5 Blobs:Confidence after 25600 Iters",
        "titlefont": {
         "color": "#FFF"
        },
        "width": 300,
        "xaxis": {
         "dtick": 1,
         "range": [
          -0.5,
          5.5
         ],
         "tickcolor": "#FFF",
         "title": "Glimpses"
        },
        "yaxis": {
         "dtick": 1,
         "range": [
          -0.5,
          5.5
         ],
         "tickcolor": "#FFF",
         "title": "Count Word"
        }
       }
      },
      "text/html": [
       "<div id=\"c5771e65-e2f0-4ec8-9de2-8c0da38350d4\" style=\"height: 300px; width: 300px;\" class=\"plotly-graph-div\"></div><script type=\"text/javascript\">require([\"plotly\"], function(Plotly) { window.PLOTLYENV=window.PLOTLYENV || {};window.PLOTLYENV.BASE_URL=\"https://plot.ly\";Plotly.newPlot(\"c5771e65-e2f0-4ec8-9de2-8c0da38350d4\", [{\"type\": \"heatmap\", \"colorscale\": \"Jet\", \"z\": [[5.729371673967386e-07, 0.17009164048727826, 0.9207049162233786, 0.8488523515933337, 0.7612763354481089, 0.8452689289629658], [0.9999671519907017, 0.0003891829884745973, 3.165150535995954e-05, 6.447936420661047e-05, 0.0010649943248438912, 0.00029222761617364796], [3.167222244404464e-05, 0.8290557525059437, 0.004304763381880046, 1.7256274946438096e-05, 3.862849564611673e-05, 0.0001539877912370043], [4.165896515987792e-09, 0.0004454108434228038, 0.06926027299430669, 0.001047504735074332, 0.00011034320049190785, 0.0001185577288320517], [6.98437838850801e-09, 9.208138406316255e-06, 0.005478043333534544, 0.12073826032291277, 0.021247367283180926, 0.003873478268898909], [5.99514069811138e-08, 8.253049366329577e-06, 0.00021980713574698126, 0.029279609915106166, 0.2162617698988012, 0.15029229067208125]]}], {\"titlefont\": {\"color\": \"#FFF\"}, \"plot_bgcolor\": \"#000\", \"yaxis\": {\"title\": \"Count Word\", \"range\": [-0.5, 5.5], \"dtick\": 1, \"tickcolor\": \"#FFF\"}, \"height\": 300, \"title\": \"5 Blobs:Confidence after 25600 Iters\", \"xaxis\": {\"title\": \"Glimpses\", \"range\": [-0.5, 5.5], \"dtick\": 1, \"tickcolor\": \"#FFF\"}, \"width\": 300, \"font\": {\"color\": \"#FFF\"}, \"paper_bgcolor\": \"#000\"}, {\"linkText\": \"Export to plot.ly\", \"showLink\": true})});</script>"
      ],
      "text/vnd.plotly.v1+html": [
       "<div id=\"c5771e65-e2f0-4ec8-9de2-8c0da38350d4\" style=\"height: 300px; width: 300px;\" class=\"plotly-graph-div\"></div><script type=\"text/javascript\">require([\"plotly\"], function(Plotly) { window.PLOTLYENV=window.PLOTLYENV || {};window.PLOTLYENV.BASE_URL=\"https://plot.ly\";Plotly.newPlot(\"c5771e65-e2f0-4ec8-9de2-8c0da38350d4\", [{\"type\": \"heatmap\", \"colorscale\": \"Jet\", \"z\": [[5.729371673967386e-07, 0.17009164048727826, 0.9207049162233786, 0.8488523515933337, 0.7612763354481089, 0.8452689289629658], [0.9999671519907017, 0.0003891829884745973, 3.165150535995954e-05, 6.447936420661047e-05, 0.0010649943248438912, 0.00029222761617364796], [3.167222244404464e-05, 0.8290557525059437, 0.004304763381880046, 1.7256274946438096e-05, 3.862849564611673e-05, 0.0001539877912370043], [4.165896515987792e-09, 0.0004454108434228038, 0.06926027299430669, 0.001047504735074332, 0.00011034320049190785, 0.0001185577288320517], [6.98437838850801e-09, 9.208138406316255e-06, 0.005478043333534544, 0.12073826032291277, 0.021247367283180926, 0.003873478268898909], [5.99514069811138e-08, 8.253049366329577e-06, 0.00021980713574698126, 0.029279609915106166, 0.2162617698988012, 0.15029229067208125]]}], {\"titlefont\": {\"color\": \"#FFF\"}, \"plot_bgcolor\": \"#000\", \"yaxis\": {\"title\": \"Count Word\", \"range\": [-0.5, 5.5], \"dtick\": 1, \"tickcolor\": \"#FFF\"}, \"height\": 300, \"title\": \"5 Blobs:Confidence after 25600 Iters\", \"xaxis\": {\"title\": \"Glimpses\", \"range\": [-0.5, 5.5], \"dtick\": 1, \"tickcolor\": \"#FFF\"}, \"width\": 300, \"font\": {\"color\": \"#FFF\"}, \"paper_bgcolor\": \"#000\"}, {\"linkText\": \"Export to plot.ly\", \"showLink\": true})});</script>"
      ]
     },
     "metadata": {},
     "output_type": "display_data"
    },
    {
     "data": {
      "application/vnd.plotly.v1+json": {
       "data": [
        {
         "colorscale": "Jet",
         "type": "heatmap",
         "z": [
          [
           2.341137907548888e-06,
           0.2927986528666634,
           0.957573229235309,
           0.9770860639465576,
           0.8480499376999286,
           0.974779390093706
          ],
          [
           0.9999929113564396,
           0.0005248400414883111,
           2.594140189905801e-06,
           1.4773911713485275e-05,
           0.00040976277665807253,
           0.00021437263215913003
          ],
          [
           3.845635555149672e-06,
           0.7064327801320007,
           0.0002526424265058933,
           3.920879171184617e-06,
           1.7113079775417002e-05,
           0.00024478125775907907
          ],
          [
           4.033779822710437e-09,
           0.0002339746184707572,
           0.041849548548770925,
           0.00043182477127503573,
           1.1421196821796104e-05,
           4.588436757657362e-05
          ],
          [
           8.049865939239014e-09,
           1.0793708832012736e-06,
           0.00031128184648931213,
           0.019329097203398076,
           0.0009921649725065308,
           3.750539897008539e-05
          ],
          [
           3.060222580176696e-07,
           8.094398169363998e-06,
           1.0108949233222267e-05,
           0.003133732593128156,
           0.15051901950305518,
           0.024677454355082503
          ]
         ]
        }
       ],
       "layout": {
        "font": {
         "color": "#FFF"
        },
        "height": 300,
        "paper_bgcolor": "#000",
        "plot_bgcolor": "#000",
        "title": "5 Blobs:Confidence after 51200 Iters",
        "titlefont": {
         "color": "#FFF"
        },
        "width": 300,
        "xaxis": {
         "dtick": 1,
         "range": [
          -0.5,
          5.5
         ],
         "tickcolor": "#FFF",
         "title": "Glimpses"
        },
        "yaxis": {
         "dtick": 1,
         "range": [
          -0.5,
          5.5
         ],
         "tickcolor": "#FFF",
         "title": "Count Word"
        }
       }
      },
      "text/html": [
       "<div id=\"c6aeba6f-c06b-4f4b-a6f4-b5ee1e35bcfa\" style=\"height: 300px; width: 300px;\" class=\"plotly-graph-div\"></div><script type=\"text/javascript\">require([\"plotly\"], function(Plotly) { window.PLOTLYENV=window.PLOTLYENV || {};window.PLOTLYENV.BASE_URL=\"https://plot.ly\";Plotly.newPlot(\"c6aeba6f-c06b-4f4b-a6f4-b5ee1e35bcfa\", [{\"type\": \"heatmap\", \"colorscale\": \"Jet\", \"z\": [[2.341137907548888e-06, 0.2927986528666634, 0.957573229235309, 0.9770860639465576, 0.8480499376999286, 0.974779390093706], [0.9999929113564396, 0.0005248400414883111, 2.594140189905801e-06, 1.4773911713485275e-05, 0.00040976277665807253, 0.00021437263215913003], [3.845635555149672e-06, 0.7064327801320007, 0.0002526424265058933, 3.920879171184617e-06, 1.7113079775417002e-05, 0.00024478125775907907], [4.033779822710437e-09, 0.0002339746184707572, 0.041849548548770925, 0.00043182477127503573, 1.1421196821796104e-05, 4.588436757657362e-05], [8.049865939239014e-09, 1.0793708832012736e-06, 0.00031128184648931213, 0.019329097203398076, 0.0009921649725065308, 3.750539897008539e-05], [3.060222580176696e-07, 8.094398169363998e-06, 1.0108949233222267e-05, 0.003133732593128156, 0.15051901950305518, 0.024677454355082503]]}], {\"titlefont\": {\"color\": \"#FFF\"}, \"plot_bgcolor\": \"#000\", \"yaxis\": {\"title\": \"Count Word\", \"range\": [-0.5, 5.5], \"dtick\": 1, \"tickcolor\": \"#FFF\"}, \"height\": 300, \"title\": \"5 Blobs:Confidence after 51200 Iters\", \"xaxis\": {\"title\": \"Glimpses\", \"range\": [-0.5, 5.5], \"dtick\": 1, \"tickcolor\": \"#FFF\"}, \"width\": 300, \"font\": {\"color\": \"#FFF\"}, \"paper_bgcolor\": \"#000\"}, {\"linkText\": \"Export to plot.ly\", \"showLink\": true})});</script>"
      ],
      "text/vnd.plotly.v1+html": [
       "<div id=\"c6aeba6f-c06b-4f4b-a6f4-b5ee1e35bcfa\" style=\"height: 300px; width: 300px;\" class=\"plotly-graph-div\"></div><script type=\"text/javascript\">require([\"plotly\"], function(Plotly) { window.PLOTLYENV=window.PLOTLYENV || {};window.PLOTLYENV.BASE_URL=\"https://plot.ly\";Plotly.newPlot(\"c6aeba6f-c06b-4f4b-a6f4-b5ee1e35bcfa\", [{\"type\": \"heatmap\", \"colorscale\": \"Jet\", \"z\": [[2.341137907548888e-06, 0.2927986528666634, 0.957573229235309, 0.9770860639465576, 0.8480499376999286, 0.974779390093706], [0.9999929113564396, 0.0005248400414883111, 2.594140189905801e-06, 1.4773911713485275e-05, 0.00040976277665807253, 0.00021437263215913003], [3.845635555149672e-06, 0.7064327801320007, 0.0002526424265058933, 3.920879171184617e-06, 1.7113079775417002e-05, 0.00024478125775907907], [4.033779822710437e-09, 0.0002339746184707572, 0.041849548548770925, 0.00043182477127503573, 1.1421196821796104e-05, 4.588436757657362e-05], [8.049865939239014e-09, 1.0793708832012736e-06, 0.00031128184648931213, 0.019329097203398076, 0.0009921649725065308, 3.750539897008539e-05], [3.060222580176696e-07, 8.094398169363998e-06, 1.0108949233222267e-05, 0.003133732593128156, 0.15051901950305518, 0.024677454355082503]]}], {\"titlefont\": {\"color\": \"#FFF\"}, \"plot_bgcolor\": \"#000\", \"yaxis\": {\"title\": \"Count Word\", \"range\": [-0.5, 5.5], \"dtick\": 1, \"tickcolor\": \"#FFF\"}, \"height\": 300, \"title\": \"5 Blobs:Confidence after 51200 Iters\", \"xaxis\": {\"title\": \"Glimpses\", \"range\": [-0.5, 5.5], \"dtick\": 1, \"tickcolor\": \"#FFF\"}, \"width\": 300, \"font\": {\"color\": \"#FFF\"}, \"paper_bgcolor\": \"#000\"}, {\"linkText\": \"Export to plot.ly\", \"showLink\": true})});</script>"
      ]
     },
     "metadata": {},
     "output_type": "display_data"
    },
    {
     "data": {
      "application/vnd.plotly.v1+json": {
       "data": [
        {
         "colorscale": "Jet",
         "type": "heatmap",
         "z": [
          [
           9.636633487567786e-06,
           0.2419260014266963,
           0.7615272974350542,
           0.9057329047455104,
           0.7117783037719493,
           0.9913695569910127
          ],
          [
           0.9999657625699799,
           1.225986786682955e-05,
           1.3382639939414442e-08,
           8.315270491720031e-05,
           0.0007479500882830081,
           3.855655908379574e-06
          ],
          [
           2.1934348363403903e-05,
           0.7563682230107607,
           0.00019345266977350938,
           1.2293179444276651e-06,
           2.2906464300389203e-05,
           0.0003570145744313797
          ],
          [
           4.4634301213811055e-08,
           0.001689445066564605,
           0.23807430672687707,
           0.000805660633344415,
           5.940000089906374e-06,
           6.826810047949409e-05
          ],
          [
           3.239184028694184e-08,
           6.65535030825382e-07,
           0.00020135775651770755,
           0.08908751486506965,
           0.0008497874698479866,
           9.218063569341604e-06
          ],
          [
           2.08511173547039e-06,
           2.902849831471994e-06,
           3.0573798401744294e-06,
           0.004289007626676406,
           0.2865945580520503,
           0.008191574324149856
          ]
         ]
        }
       ],
       "layout": {
        "font": {
         "color": "#FFF"
        },
        "height": 300,
        "paper_bgcolor": "#000",
        "plot_bgcolor": "#000",
        "title": "5 Blobs:Confidence after 102400 Iters",
        "titlefont": {
         "color": "#FFF"
        },
        "width": 300,
        "xaxis": {
         "dtick": 1,
         "range": [
          -0.5,
          5.5
         ],
         "tickcolor": "#FFF",
         "title": "Glimpses"
        },
        "yaxis": {
         "dtick": 1,
         "range": [
          -0.5,
          5.5
         ],
         "tickcolor": "#FFF",
         "title": "Count Word"
        }
       }
      },
      "text/html": [
       "<div id=\"7aa57411-5ee1-467b-bdb0-956f3263b6b7\" style=\"height: 300px; width: 300px;\" class=\"plotly-graph-div\"></div><script type=\"text/javascript\">require([\"plotly\"], function(Plotly) { window.PLOTLYENV=window.PLOTLYENV || {};window.PLOTLYENV.BASE_URL=\"https://plot.ly\";Plotly.newPlot(\"7aa57411-5ee1-467b-bdb0-956f3263b6b7\", [{\"type\": \"heatmap\", \"colorscale\": \"Jet\", \"z\": [[9.636633487567786e-06, 0.2419260014266963, 0.7615272974350542, 0.9057329047455104, 0.7117783037719493, 0.9913695569910127], [0.9999657625699799, 1.225986786682955e-05, 1.3382639939414442e-08, 8.315270491720031e-05, 0.0007479500882830081, 3.855655908379574e-06], [2.1934348363403903e-05, 0.7563682230107607, 0.00019345266977350938, 1.2293179444276651e-06, 2.2906464300389203e-05, 0.0003570145744313797], [4.4634301213811055e-08, 0.001689445066564605, 0.23807430672687707, 0.000805660633344415, 5.940000089906374e-06, 6.826810047949409e-05], [3.239184028694184e-08, 6.65535030825382e-07, 0.00020135775651770755, 0.08908751486506965, 0.0008497874698479866, 9.218063569341604e-06], [2.08511173547039e-06, 2.902849831471994e-06, 3.0573798401744294e-06, 0.004289007626676406, 0.2865945580520503, 0.008191574324149856]]}], {\"titlefont\": {\"color\": \"#FFF\"}, \"plot_bgcolor\": \"#000\", \"yaxis\": {\"title\": \"Count Word\", \"range\": [-0.5, 5.5], \"dtick\": 1, \"tickcolor\": \"#FFF\"}, \"height\": 300, \"title\": \"5 Blobs:Confidence after 102400 Iters\", \"xaxis\": {\"title\": \"Glimpses\", \"range\": [-0.5, 5.5], \"dtick\": 1, \"tickcolor\": \"#FFF\"}, \"width\": 300, \"font\": {\"color\": \"#FFF\"}, \"paper_bgcolor\": \"#000\"}, {\"linkText\": \"Export to plot.ly\", \"showLink\": true})});</script>"
      ],
      "text/vnd.plotly.v1+html": [
       "<div id=\"7aa57411-5ee1-467b-bdb0-956f3263b6b7\" style=\"height: 300px; width: 300px;\" class=\"plotly-graph-div\"></div><script type=\"text/javascript\">require([\"plotly\"], function(Plotly) { window.PLOTLYENV=window.PLOTLYENV || {};window.PLOTLYENV.BASE_URL=\"https://plot.ly\";Plotly.newPlot(\"7aa57411-5ee1-467b-bdb0-956f3263b6b7\", [{\"type\": \"heatmap\", \"colorscale\": \"Jet\", \"z\": [[9.636633487567786e-06, 0.2419260014266963, 0.7615272974350542, 0.9057329047455104, 0.7117783037719493, 0.9913695569910127], [0.9999657625699799, 1.225986786682955e-05, 1.3382639939414442e-08, 8.315270491720031e-05, 0.0007479500882830081, 3.855655908379574e-06], [2.1934348363403903e-05, 0.7563682230107607, 0.00019345266977350938, 1.2293179444276651e-06, 2.2906464300389203e-05, 0.0003570145744313797], [4.4634301213811055e-08, 0.001689445066564605, 0.23807430672687707, 0.000805660633344415, 5.940000089906374e-06, 6.826810047949409e-05], [3.239184028694184e-08, 6.65535030825382e-07, 0.00020135775651770755, 0.08908751486506965, 0.0008497874698479866, 9.218063569341604e-06], [2.08511173547039e-06, 2.902849831471994e-06, 3.0573798401744294e-06, 0.004289007626676406, 0.2865945580520503, 0.008191574324149856]]}], {\"titlefont\": {\"color\": \"#FFF\"}, \"plot_bgcolor\": \"#000\", \"yaxis\": {\"title\": \"Count Word\", \"range\": [-0.5, 5.5], \"dtick\": 1, \"tickcolor\": \"#FFF\"}, \"height\": 300, \"title\": \"5 Blobs:Confidence after 102400 Iters\", \"xaxis\": {\"title\": \"Glimpses\", \"range\": [-0.5, 5.5], \"dtick\": 1, \"tickcolor\": \"#FFF\"}, \"width\": 300, \"font\": {\"color\": \"#FFF\"}, \"paper_bgcolor\": \"#000\"}, {\"linkText\": \"Export to plot.ly\", \"showLink\": true})});</script>"
      ]
     },
     "metadata": {},
     "output_type": "display_data"
    },
    {
     "data": {
      "application/vnd.plotly.v1+json": {
       "data": [
        {
         "colorscale": "Jet",
         "type": "heatmap",
         "z": [
          [
           8.195905727382423e-05,
           0.0635826036546727,
           0.7608746004956006,
           0.9664478352312585,
           0.9845584111281653,
           0.9907266058262298
          ],
          [
           0.9997830669019313,
           2.567813774500584e-07,
           5.386061341835416e-09,
           3.969797831229998e-07,
           3.001891298806273e-05,
           1.8451016870006267e-05
          ],
          [
           0.00012819440968779995,
           0.9358830383019504,
           0.00010940862555713962,
           5.888990361049608e-07,
           2.1373915149744525e-06,
           1.5623211173181124e-05
          ],
          [
           4.276890573422833e-07,
           0.0005321168701445351,
           0.2387350048299373,
           0.0005366603042585399,
           1.0958545457325953e-05,
           8.54976361652647e-06
          ],
          [
           1.9220102806310749e-07,
           1.3579484295134184e-06,
           0.00027968894031418957,
           0.03282015506501006,
           0.0049857045635276175,
           0.00012673152962063944
          ],
          [
           5.693198345335059e-06,
           1.7784516836544412e-07,
           8.435921920607621e-07,
           0.00019392123314791672,
           0.01041233962691112,
           0.009103569675773082
          ]
         ]
        }
       ],
       "layout": {
        "font": {
         "color": "#FFF"
        },
        "height": 300,
        "paper_bgcolor": "#000",
        "plot_bgcolor": "#000",
        "title": "5 Blobs:Confidence after 153600 Iters",
        "titlefont": {
         "color": "#FFF"
        },
        "width": 300,
        "xaxis": {
         "dtick": 1,
         "range": [
          -0.5,
          5.5
         ],
         "tickcolor": "#FFF",
         "title": "Glimpses"
        },
        "yaxis": {
         "dtick": 1,
         "range": [
          -0.5,
          5.5
         ],
         "tickcolor": "#FFF",
         "title": "Count Word"
        }
       }
      },
      "text/html": [
       "<div id=\"2586ffeb-beb1-4e38-982f-aaa7da11c3dc\" style=\"height: 300px; width: 300px;\" class=\"plotly-graph-div\"></div><script type=\"text/javascript\">require([\"plotly\"], function(Plotly) { window.PLOTLYENV=window.PLOTLYENV || {};window.PLOTLYENV.BASE_URL=\"https://plot.ly\";Plotly.newPlot(\"2586ffeb-beb1-4e38-982f-aaa7da11c3dc\", [{\"type\": \"heatmap\", \"colorscale\": \"Jet\", \"z\": [[8.195905727382423e-05, 0.0635826036546727, 0.7608746004956006, 0.9664478352312585, 0.9845584111281653, 0.9907266058262298], [0.9997830669019313, 2.567813774500584e-07, 5.386061341835416e-09, 3.969797831229998e-07, 3.001891298806273e-05, 1.8451016870006267e-05], [0.00012819440968779995, 0.9358830383019504, 0.00010940862555713962, 5.888990361049608e-07, 2.1373915149744525e-06, 1.5623211173181124e-05], [4.276890573422833e-07, 0.0005321168701445351, 0.2387350048299373, 0.0005366603042585399, 1.0958545457325953e-05, 8.54976361652647e-06], [1.9220102806310749e-07, 1.3579484295134184e-06, 0.00027968894031418957, 0.03282015506501006, 0.0049857045635276175, 0.00012673152962063944], [5.693198345335059e-06, 1.7784516836544412e-07, 8.435921920607621e-07, 0.00019392123314791672, 0.01041233962691112, 0.009103569675773082]]}], {\"titlefont\": {\"color\": \"#FFF\"}, \"plot_bgcolor\": \"#000\", \"yaxis\": {\"title\": \"Count Word\", \"range\": [-0.5, 5.5], \"dtick\": 1, \"tickcolor\": \"#FFF\"}, \"height\": 300, \"title\": \"5 Blobs:Confidence after 153600 Iters\", \"xaxis\": {\"title\": \"Glimpses\", \"range\": [-0.5, 5.5], \"dtick\": 1, \"tickcolor\": \"#FFF\"}, \"width\": 300, \"font\": {\"color\": \"#FFF\"}, \"paper_bgcolor\": \"#000\"}, {\"linkText\": \"Export to plot.ly\", \"showLink\": true})});</script>"
      ],
      "text/vnd.plotly.v1+html": [
       "<div id=\"2586ffeb-beb1-4e38-982f-aaa7da11c3dc\" style=\"height: 300px; width: 300px;\" class=\"plotly-graph-div\"></div><script type=\"text/javascript\">require([\"plotly\"], function(Plotly) { window.PLOTLYENV=window.PLOTLYENV || {};window.PLOTLYENV.BASE_URL=\"https://plot.ly\";Plotly.newPlot(\"2586ffeb-beb1-4e38-982f-aaa7da11c3dc\", [{\"type\": \"heatmap\", \"colorscale\": \"Jet\", \"z\": [[8.195905727382423e-05, 0.0635826036546727, 0.7608746004956006, 0.9664478352312585, 0.9845584111281653, 0.9907266058262298], [0.9997830669019313, 2.567813774500584e-07, 5.386061341835416e-09, 3.969797831229998e-07, 3.001891298806273e-05, 1.8451016870006267e-05], [0.00012819440968779995, 0.9358830383019504, 0.00010940862555713962, 5.888990361049608e-07, 2.1373915149744525e-06, 1.5623211173181124e-05], [4.276890573422833e-07, 0.0005321168701445351, 0.2387350048299373, 0.0005366603042585399, 1.0958545457325953e-05, 8.54976361652647e-06], [1.9220102806310749e-07, 1.3579484295134184e-06, 0.00027968894031418957, 0.03282015506501006, 0.0049857045635276175, 0.00012673152962063944], [5.693198345335059e-06, 1.7784516836544412e-07, 8.435921920607621e-07, 0.00019392123314791672, 0.01041233962691112, 0.009103569675773082]]}], {\"titlefont\": {\"color\": \"#FFF\"}, \"plot_bgcolor\": \"#000\", \"yaxis\": {\"title\": \"Count Word\", \"range\": [-0.5, 5.5], \"dtick\": 1, \"tickcolor\": \"#FFF\"}, \"height\": 300, \"title\": \"5 Blobs:Confidence after 153600 Iters\", \"xaxis\": {\"title\": \"Glimpses\", \"range\": [-0.5, 5.5], \"dtick\": 1, \"tickcolor\": \"#FFF\"}, \"width\": 300, \"font\": {\"color\": \"#FFF\"}, \"paper_bgcolor\": \"#000\"}, {\"linkText\": \"Export to plot.ly\", \"showLink\": true})});</script>"
      ]
     },
     "metadata": {},
     "output_type": "display_data"
    },
    {
     "data": {
      "application/vnd.plotly.v1+json": {
       "data": [
        {
         "colorscale": "Jet",
         "type": "heatmap",
         "z": [
          [
           1.1936729712367845e-06,
           0.14068767837439553,
           0.5736864501915804,
           0.9816764942294477,
           0.971967722492206,
           0.9973869967069774
          ],
          [
           0.9999884430277317,
           0.00010172246629815748,
           9.149624976979772e-09,
           2.3200911416856634e-06,
           0.00026238271766797444,
           1.1064433269953819e-05
          ],
          [
           8.947201573975531e-06,
           0.8590720060097219,
           0.00038991221060746963,
           6.501840931291465e-07,
           3.3815479428729464e-06,
           5.279334066476755e-05
          ],
          [
           7.796830505160753e-09,
           0.00013449559027388274,
           0.4258497291942327,
           0.00022975806971569596,
           1.8719744418473378e-06,
           3.975102784093762e-06
          ],
          [
           1.1387546607005889e-08,
           1.322325653001915e-07,
           7.329837042110975e-05,
           0.01787657469430055,
           0.00021488731351465033,
           2.960699152573021e-06
          ],
          [
           9.389729602570521e-07,
           3.503933241342615e-06,
           1.4384579539951352e-07,
           0.00021373133988938838,
           0.027549280771358122,
           0.0025417371274196235
          ]
         ]
        }
       ],
       "layout": {
        "font": {
         "color": "#FFF"
        },
        "height": 300,
        "paper_bgcolor": "#000",
        "plot_bgcolor": "#000",
        "title": "5 Blobs:Confidence after 204800 Iters",
        "titlefont": {
         "color": "#FFF"
        },
        "width": 300,
        "xaxis": {
         "dtick": 1,
         "range": [
          -0.5,
          5.5
         ],
         "tickcolor": "#FFF",
         "title": "Glimpses"
        },
        "yaxis": {
         "dtick": 1,
         "range": [
          -0.5,
          5.5
         ],
         "tickcolor": "#FFF",
         "title": "Count Word"
        }
       }
      },
      "text/html": [
       "<div id=\"7df5272f-df80-4be0-b36c-d27bc62594f1\" style=\"height: 300px; width: 300px;\" class=\"plotly-graph-div\"></div><script type=\"text/javascript\">require([\"plotly\"], function(Plotly) { window.PLOTLYENV=window.PLOTLYENV || {};window.PLOTLYENV.BASE_URL=\"https://plot.ly\";Plotly.newPlot(\"7df5272f-df80-4be0-b36c-d27bc62594f1\", [{\"type\": \"heatmap\", \"colorscale\": \"Jet\", \"z\": [[1.1936729712367845e-06, 0.14068767837439553, 0.5736864501915804, 0.9816764942294477, 0.971967722492206, 0.9973869967069774], [0.9999884430277317, 0.00010172246629815748, 9.149624976979772e-09, 2.3200911416856634e-06, 0.00026238271766797444, 1.1064433269953819e-05], [8.947201573975531e-06, 0.8590720060097219, 0.00038991221060746963, 6.501840931291465e-07, 3.3815479428729464e-06, 5.279334066476755e-05], [7.796830505160753e-09, 0.00013449559027388274, 0.4258497291942327, 0.00022975806971569596, 1.8719744418473378e-06, 3.975102784093762e-06], [1.1387546607005889e-08, 1.322325653001915e-07, 7.329837042110975e-05, 0.01787657469430055, 0.00021488731351465033, 2.960699152573021e-06], [9.389729602570521e-07, 3.503933241342615e-06, 1.4384579539951352e-07, 0.00021373133988938838, 0.027549280771358122, 0.0025417371274196235]]}], {\"titlefont\": {\"color\": \"#FFF\"}, \"plot_bgcolor\": \"#000\", \"yaxis\": {\"title\": \"Count Word\", \"range\": [-0.5, 5.5], \"dtick\": 1, \"tickcolor\": \"#FFF\"}, \"height\": 300, \"title\": \"5 Blobs:Confidence after 204800 Iters\", \"xaxis\": {\"title\": \"Glimpses\", \"range\": [-0.5, 5.5], \"dtick\": 1, \"tickcolor\": \"#FFF\"}, \"width\": 300, \"font\": {\"color\": \"#FFF\"}, \"paper_bgcolor\": \"#000\"}, {\"linkText\": \"Export to plot.ly\", \"showLink\": true})});</script>"
      ],
      "text/vnd.plotly.v1+html": [
       "<div id=\"7df5272f-df80-4be0-b36c-d27bc62594f1\" style=\"height: 300px; width: 300px;\" class=\"plotly-graph-div\"></div><script type=\"text/javascript\">require([\"plotly\"], function(Plotly) { window.PLOTLYENV=window.PLOTLYENV || {};window.PLOTLYENV.BASE_URL=\"https://plot.ly\";Plotly.newPlot(\"7df5272f-df80-4be0-b36c-d27bc62594f1\", [{\"type\": \"heatmap\", \"colorscale\": \"Jet\", \"z\": [[1.1936729712367845e-06, 0.14068767837439553, 0.5736864501915804, 0.9816764942294477, 0.971967722492206, 0.9973869967069774], [0.9999884430277317, 0.00010172246629815748, 9.149624976979772e-09, 2.3200911416856634e-06, 0.00026238271766797444, 1.1064433269953819e-05], [8.947201573975531e-06, 0.8590720060097219, 0.00038991221060746963, 6.501840931291465e-07, 3.3815479428729464e-06, 5.279334066476755e-05], [7.796830505160753e-09, 0.00013449559027388274, 0.4258497291942327, 0.00022975806971569596, 1.8719744418473378e-06, 3.975102784093762e-06], [1.1387546607005889e-08, 1.322325653001915e-07, 7.329837042110975e-05, 0.01787657469430055, 0.00021488731351465033, 2.960699152573021e-06], [9.389729602570521e-07, 3.503933241342615e-06, 1.4384579539951352e-07, 0.00021373133988938838, 0.027549280771358122, 0.0025417371274196235]]}], {\"titlefont\": {\"color\": \"#FFF\"}, \"plot_bgcolor\": \"#000\", \"yaxis\": {\"title\": \"Count Word\", \"range\": [-0.5, 5.5], \"dtick\": 1, \"tickcolor\": \"#FFF\"}, \"height\": 300, \"title\": \"5 Blobs:Confidence after 204800 Iters\", \"xaxis\": {\"title\": \"Glimpses\", \"range\": [-0.5, 5.5], \"dtick\": 1, \"tickcolor\": \"#FFF\"}, \"width\": 300, \"font\": {\"color\": \"#FFF\"}, \"paper_bgcolor\": \"#000\"}, {\"linkText\": \"Export to plot.ly\", \"showLink\": true})});</script>"
      ]
     },
     "metadata": {},
     "output_type": "display_data"
    },
    {
     "data": {
      "application/vnd.plotly.v1+json": {
       "data": [
        {
         "colorscale": "Jet",
         "type": "heatmap",
         "z": [
          [
           2.592089143513516e-06,
           0.05299336346279744,
           0.9209455361208733,
           0.966396936822874,
           0.9596856926348913,
           0.9954838344471293
          ],
          [
           0.9999798857262718,
           8.761598204295812e-07,
           8.24928000166792e-08,
           8.93788214305078e-06,
           0.00013007451961395667,
           7.5814843881258495e-06
          ],
          [
           1.3893597212593998e-05,
           0.9469231350027077,
           5.7004079537389063e-05,
           1.6093093069520816e-06,
           7.233173545951621e-06,
           2.389172870261326e-05
          ],
          [
           1.707650880574397e-08,
           8.093402865171161e-05,
           0.0786444287468055,
           0.0001501174015984703,
           1.130195518325206e-06,
           8.273062877269296e-07
          ],
          [
           1.222638718700258e-08,
           2.7967102167858913e-07,
           0.00035088103428194213,
           0.032752298839432877,
           0.0006699752031514119,
           5.616276246422959e-06
          ],
          [
           3.0745231728452175e-06,
           8.897048556164512e-07,
           1.5468199384918638e-06,
           0.00068956864762772,
           0.03950534529663352,
           0.004477727611718473
          ]
         ]
        }
       ],
       "layout": {
        "font": {
         "color": "#FFF"
        },
        "height": 300,
        "paper_bgcolor": "#000",
        "plot_bgcolor": "#000",
        "title": "5 Blobs:Confidence after 307200 Iters",
        "titlefont": {
         "color": "#FFF"
        },
        "width": 300,
        "xaxis": {
         "dtick": 1,
         "range": [
          -0.5,
          5.5
         ],
         "tickcolor": "#FFF",
         "title": "Glimpses"
        },
        "yaxis": {
         "dtick": 1,
         "range": [
          -0.5,
          5.5
         ],
         "tickcolor": "#FFF",
         "title": "Count Word"
        }
       }
      },
      "text/html": [
       "<div id=\"44e17d37-236f-441e-aabf-d08cf3f64308\" style=\"height: 300px; width: 300px;\" class=\"plotly-graph-div\"></div><script type=\"text/javascript\">require([\"plotly\"], function(Plotly) { window.PLOTLYENV=window.PLOTLYENV || {};window.PLOTLYENV.BASE_URL=\"https://plot.ly\";Plotly.newPlot(\"44e17d37-236f-441e-aabf-d08cf3f64308\", [{\"type\": \"heatmap\", \"colorscale\": \"Jet\", \"z\": [[2.592089143513516e-06, 0.05299336346279744, 0.9209455361208733, 0.966396936822874, 0.9596856926348913, 0.9954838344471293], [0.9999798857262718, 8.761598204295812e-07, 8.24928000166792e-08, 8.93788214305078e-06, 0.00013007451961395667, 7.5814843881258495e-06], [1.3893597212593998e-05, 0.9469231350027077, 5.7004079537389063e-05, 1.6093093069520816e-06, 7.233173545951621e-06, 2.389172870261326e-05], [1.707650880574397e-08, 8.093402865171161e-05, 0.0786444287468055, 0.0001501174015984703, 1.130195518325206e-06, 8.273062877269296e-07], [1.222638718700258e-08, 2.7967102167858913e-07, 0.00035088103428194213, 0.032752298839432877, 0.0006699752031514119, 5.616276246422959e-06], [3.0745231728452175e-06, 8.897048556164512e-07, 1.5468199384918638e-06, 0.00068956864762772, 0.03950534529663352, 0.004477727611718473]]}], {\"titlefont\": {\"color\": \"#FFF\"}, \"plot_bgcolor\": \"#000\", \"yaxis\": {\"title\": \"Count Word\", \"range\": [-0.5, 5.5], \"dtick\": 1, \"tickcolor\": \"#FFF\"}, \"height\": 300, \"title\": \"5 Blobs:Confidence after 307200 Iters\", \"xaxis\": {\"title\": \"Glimpses\", \"range\": [-0.5, 5.5], \"dtick\": 1, \"tickcolor\": \"#FFF\"}, \"width\": 300, \"font\": {\"color\": \"#FFF\"}, \"paper_bgcolor\": \"#000\"}, {\"linkText\": \"Export to plot.ly\", \"showLink\": true})});</script>"
      ],
      "text/vnd.plotly.v1+html": [
       "<div id=\"44e17d37-236f-441e-aabf-d08cf3f64308\" style=\"height: 300px; width: 300px;\" class=\"plotly-graph-div\"></div><script type=\"text/javascript\">require([\"plotly\"], function(Plotly) { window.PLOTLYENV=window.PLOTLYENV || {};window.PLOTLYENV.BASE_URL=\"https://plot.ly\";Plotly.newPlot(\"44e17d37-236f-441e-aabf-d08cf3f64308\", [{\"type\": \"heatmap\", \"colorscale\": \"Jet\", \"z\": [[2.592089143513516e-06, 0.05299336346279744, 0.9209455361208733, 0.966396936822874, 0.9596856926348913, 0.9954838344471293], [0.9999798857262718, 8.761598204295812e-07, 8.24928000166792e-08, 8.93788214305078e-06, 0.00013007451961395667, 7.5814843881258495e-06], [1.3893597212593998e-05, 0.9469231350027077, 5.7004079537389063e-05, 1.6093093069520816e-06, 7.233173545951621e-06, 2.389172870261326e-05], [1.707650880574397e-08, 8.093402865171161e-05, 0.0786444287468055, 0.0001501174015984703, 1.130195518325206e-06, 8.273062877269296e-07], [1.222638718700258e-08, 2.7967102167858913e-07, 0.00035088103428194213, 0.032752298839432877, 0.0006699752031514119, 5.616276246422959e-06], [3.0745231728452175e-06, 8.897048556164512e-07, 1.5468199384918638e-06, 0.00068956864762772, 0.03950534529663352, 0.004477727611718473]]}], {\"titlefont\": {\"color\": \"#FFF\"}, \"plot_bgcolor\": \"#000\", \"yaxis\": {\"title\": \"Count Word\", \"range\": [-0.5, 5.5], \"dtick\": 1, \"tickcolor\": \"#FFF\"}, \"height\": 300, \"title\": \"5 Blobs:Confidence after 307200 Iters\", \"xaxis\": {\"title\": \"Glimpses\", \"range\": [-0.5, 5.5], \"dtick\": 1, \"tickcolor\": \"#FFF\"}, \"width\": 300, \"font\": {\"color\": \"#FFF\"}, \"paper_bgcolor\": \"#000\"}, {\"linkText\": \"Export to plot.ly\", \"showLink\": true})});</script>"
      ]
     },
     "metadata": {},
     "output_type": "display_data"
    },
    {
     "ename": "IndexError",
     "evalue": "index 5 is out of bounds for axis 1 with size 5",
     "output_type": "error",
     "traceback": [
      "\u001b[0;31m---------------------------------------------------------------------------\u001b[0m",
      "\u001b[0;31mIndexError\u001b[0m                                Traceback (most recent call last)",
      "\u001b[0;32m<ipython-input-8-2d86a7238fa2>\u001b[0m in \u001b[0;36m<module>\u001b[0;34m()\u001b[0m\n\u001b[1;32m      1\u001b[0m \u001b[0;32mfor\u001b[0m \u001b[0mn\u001b[0m\u001b[0;34m,\u001b[0m \u001b[0mnum\u001b[0m \u001b[0;32min\u001b[0m \u001b[0menumerate\u001b[0m\u001b[0;34m(\u001b[0m\u001b[0mblob_list\u001b[0m\u001b[0;34m)\u001b[0m\u001b[0;34m:\u001b[0m\u001b[0;34m\u001b[0m\u001b[0m\n\u001b[1;32m      2\u001b[0m     \u001b[0;32mfor\u001b[0m \u001b[0mi\u001b[0m\u001b[0;34m,\u001b[0m \u001b[0mit\u001b[0m \u001b[0;32min\u001b[0m \u001b[0menumerate\u001b[0m\u001b[0;34m(\u001b[0m\u001b[0miter_list\u001b[0m\u001b[0;34m)\u001b[0m\u001b[0;34m:\u001b[0m\u001b[0;34m\u001b[0m\u001b[0m\n\u001b[0;32m----> 3\u001b[0;31m         \u001b[0mplot_confidence\u001b[0m\u001b[0;34m(\u001b[0m\u001b[0mi\u001b[0m\u001b[0;34m,\u001b[0m \u001b[0mit\u001b[0m\u001b[0;34m,\u001b[0m \u001b[0mnum\u001b[0m\u001b[0;34m)\u001b[0m\u001b[0;34m\u001b[0m\u001b[0m\n\u001b[0m\u001b[1;32m      4\u001b[0m         \u001b[0;31m#plot_choice(i, it, num)\u001b[0m\u001b[0;34m\u001b[0m\u001b[0;34m\u001b[0m\u001b[0m\n",
      "\u001b[0;32m<ipython-input-7-c1f00069af11>\u001b[0m in \u001b[0;36mplot_confidence\u001b[0;34m(iter_idx, it, num_blobs, run)\u001b[0m\n\u001b[1;32m      5\u001b[0m         \u001b[0mmatrix\u001b[0m \u001b[0;34m=\u001b[0m \u001b[0mnp\u001b[0m\u001b[0;34m.\u001b[0m\u001b[0mzeros\u001b[0m\u001b[0;34m(\u001b[0m\u001b[0;34m[\u001b[0m\u001b[0;36m6\u001b[0m\u001b[0;34m,\u001b[0m\u001b[0;36m6\u001b[0m\u001b[0;34m]\u001b[0m\u001b[0;34m)\u001b[0m\u001b[0;34m\u001b[0m\u001b[0m\n\u001b[1;32m      6\u001b[0m         \u001b[0;32mfor\u001b[0m \u001b[0mg\u001b[0m \u001b[0;32min\u001b[0m \u001b[0mrange\u001b[0m \u001b[0;34m(\u001b[0m\u001b[0;36m6\u001b[0m\u001b[0;34m)\u001b[0m\u001b[0;34m:\u001b[0m\u001b[0;34m\u001b[0m\u001b[0m\n\u001b[0;32m----> 7\u001b[0;31m             \u001b[0mmatrix\u001b[0m\u001b[0;34m[\u001b[0m\u001b[0;34m:\u001b[0m\u001b[0;34m,\u001b[0m\u001b[0mg\u001b[0m\u001b[0;34m]\u001b[0m \u001b[0;34m=\u001b[0m \u001b[0mconfidence_avg\u001b[0m\u001b[0;34m[\u001b[0m\u001b[0miter_idx\u001b[0m\u001b[0;34m,\u001b[0m \u001b[0mnum_blobs\u001b[0m\u001b[0;34m,\u001b[0m \u001b[0mg\u001b[0m\u001b[0;34m,\u001b[0m \u001b[0;36m0\u001b[0m\u001b[0;34m]\u001b[0m\u001b[0;34m\u001b[0m\u001b[0m\n\u001b[0m\u001b[1;32m      8\u001b[0m         \u001b[0mplot_title\u001b[0m \u001b[0;34m=\u001b[0m \u001b[0;34m\"%d Blobs:Confidence after %d Iters\"\u001b[0m \u001b[0;34m%\u001b[0m \u001b[0;34m(\u001b[0m\u001b[0mnum_blobs\u001b[0m\u001b[0;34m+\u001b[0m\u001b[0;36m1\u001b[0m\u001b[0;34m,\u001b[0m \u001b[0mit\u001b[0m\u001b[0;34m)\u001b[0m\u001b[0;34m\u001b[0m\u001b[0m\n\u001b[1;32m      9\u001b[0m \u001b[0;34m\u001b[0m\u001b[0m\n",
      "\u001b[0;31mIndexError\u001b[0m: index 5 is out of bounds for axis 1 with size 5"
     ]
    }
   ],
   "source": [
    "for n, num in enumerate(blob_list):\n",
    "    for i, it in enumerate(iter_list):\n",
    "        plot_confidence(i, it, num)\n",
    "        #plot_choice(i, it, num)"
   ]
  },
  {
   "cell_type": "code",
   "execution_count": null,
   "metadata": {
    "scrolled": false
   },
   "outputs": [],
   "source": [
    "iter_list= [600000]\n",
    "for n, num in enumerate(blob_list): \n",
    "    for i, it in enumerate(iter_list):\n",
    "        plot_confidence(i, it, num)\n",
    "    #plot_choice(i, it, num)"
   ]
  },
  {
   "cell_type": "code",
   "execution_count": 9,
   "metadata": {},
   "outputs": [
    {
     "data": {
      "image/png": "[encoded data removed]",
      "text/plain": [
       "<matplotlib.figure.Figure at 0x7f32044b6588>"
      ]
     },
     "metadata": {},
     "output_type": "display_data"
    }
   ],
   "source": [
    "import matplotlib.pyplot as plt\n",
    "from mpl_toolkits.axes_grid1 import ImageGrid\n",
    "import numpy as np\n",
    "\n",
    "F = plt.figure(1, (16,16))\n",
    "F.clf()\n",
    "\n",
    "ZS = np.zeros([num_iters*(output_size-1),6,6])\n",
    "extent = (0, 6, 0, 6) \n",
    "    \n",
    "matrix = np.zeros([6, 6])\n",
    "for num_blobs in range (output_size-1):\n",
    "    for iter_idx in range (num_iters):\n",
    "        for g in range (6):\n",
    "            matrix[:,g] = confidence_avg[iter_idx, num_blobs, g, 0]\n",
    "            ZS[iter_idx+num_iters*num_blobs] = matrix\n",
    "\n",
    "extent = extent[0], extent[1], extent[2], extent[3] \n",
    "\n",
    "grid = ImageGrid(F, 212,\n",
    "                 nrows_ncols=(output_size-1, num_iters),\n",
    "                 direction=\"row\",\n",
    "                 axes_pad=0.05,\n",
    "                 add_all=True,\n",
    "                 label_mode=\"1\",\n",
    "                 share_all=True,\n",
    "                 cbar_location=\"right\",\n",
    "                 cbar_mode=\"single\",\n",
    "                 cbar_size=\"5%\",\n",
    "                 cbar_pad=0.05,\n",
    "                 )\n",
    "\n",
    "grid[0].set_xlabel(\"Glimpse\")\n",
    "grid[0].set_ylabel(\"Count Word\")\n",
    "\n",
    "vmax, vmin = np.max(ZS), np.min(ZS)\n",
    "import matplotlib.colors\n",
    "norm = matplotlib.colors.Normalize(vmax=vmax, vmin=vmin)\n",
    "\n",
    "for ax, im_title in zip(grid, [\"iter=0\", \"400\", \"800\", \"1600\", \"3200\", \"6400\", \"12800\", \"25600\", \"51200\", \"102400\", \"153600\", \"204800\", \"307200\"]):\n",
    "    ax.set_title(im_title)\n",
    "    ax.patch.set_alpha(0.5)\n",
    "        \n",
    "for ax, z in zip(grid, ZS):\n",
    "    im = ax.imshow(z, norm=norm,\n",
    "                   origin=\"lower\", extent=extent,\n",
    "                   interpolation=\"nearest\")\n",
    "\n",
    "# With cbar_mode=\"single\", cax attribute of all axes are identical.\n",
    "ax.cax.colorbar(im)\n",
    "ax.cax.toggle_label(True)\n",
    "\n",
    "grid[0].set_xticks([1,2,3,4,5,6])\n",
    "grid[0].set_yticks([0,1,2,3,4,5])\n",
    "plt.draw()\n",
    "plt.show()\n",
    "\n"
   ]
  },
  {
   "cell_type": "code",
   "execution_count": null,
   "metadata": {
    "collapsed": true
   },
   "outputs": [],
   "source": []
  }
 ],
 "metadata": {
  "kernelspec": {
   "display_name": "Python 3",
   "language": "python",
   "name": "python3"
  },
  "language_info": {
   "codemirror_mode": {
    "name": "ipython",
    "version": 3
   },
   "file_extension": ".py",
   "mimetype": "text/x-python",
   "name": "python",
   "nbconvert_exporter": "python",
   "pygments_lexer": "ipython3",
   "version": "3.5.2"
  }
 },
 "nbformat": 4,
 "nbformat_minor": 2
}
