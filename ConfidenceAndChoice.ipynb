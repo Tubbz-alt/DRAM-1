{
 "cells": [
  {
   "cell_type": "markdown",
   "metadata": {},
   "source": [
    "# Confidence and Choice Visualizer"
   ]
  },
  {
   "cell_type": "markdown",
   "metadata": {},
   "source": [
    "Run DRAM_classify_blobs 10 times (use runDRAM_classify_blobs.sh in hydra), then copy all the checkpoints to guppy (use copyDRAM_classify_blobs_ckpts.sh in hydra and enter password 10x).\n",
    "\n",
    "Make sure these are the <b>guppy</b> model_settings: <br />\n",
    "min_edge = 2 <br />\n",
    "max_edge = 5 <br />\n",
    "min_blobs = 1 <br />\n",
    "max_blobs = 9 (15 for DRAM_classify_blobs_2)<br />\n",
    "glimpses = max_blobs + 1 <br />\n",
    "batch_size = 9000 (100 on hydra)\n",
    "\n",
    "You could then use this entire program or use ClassificationDistributions.ipynb to output confidence_one_run for each run, and set them as the confidence for each run in confidence_all_runs."
   ]
  },
  {
   "cell_type": "code",
   "execution_count": 1,
   "metadata": {},
   "outputs": [
    {
     "data": {
      "text/html": [
       "<script>requirejs.config({paths: { 'plotly': ['https://cdn.plot.ly/plotly-latest.min']},});if(!window.Plotly) {{require(['plotly'],function(plotly) {window.Plotly=plotly;});}}</script>"
      ],
      "text/vnd.plotly.v1+html": [
       "<script>requirejs.config({paths: { 'plotly': ['https://cdn.plot.ly/plotly-latest.min']},});if(!window.Plotly) {{require(['plotly'],function(plotly) {window.Plotly=plotly;});}}</script>"
      ]
     },
     "metadata": {},
     "output_type": "display_data"
    },
    {
     "name": "stdout",
     "output_type": "stream",
     "text": [
      "['/usr/local/lib/python3.5/dist-packages/ipykernel_launcher.py', '-f', 'true', 'true', 'true', 'true', 'true', 'model_runs/-f/classify_log.csv', 'model_runs/-f/classifymodel_0.ckpt', 'model_runs/-f/classifymodel_', 'model_runs/-f/zzzdraw_data_5000.npy', 'false', 'true', 'false', 'false', 'true']\n",
      "analysis.py\n"
     ]
    }
   ],
   "source": [
    "import numpy as np\n",
    "from plotly.offline import download_plotlyjs, init_notebook_mode, plot, iplot\n",
    "init_notebook_mode(connected=True)\n",
    "import plotly.graph_objs as go\n",
    "from analysis import read_n, classify_imgs2"
   ]
  },
  {
   "cell_type": "code",
   "execution_count": 2,
   "metadata": {
    "collapsed": true
   },
   "outputs": [],
   "source": [
    "model_name = \"DRAM_classify_blobs_2\"\n",
    "num_runs = 10\n",
    "iter_list = [32000, 64000]#[0, 250, 1000, 4000, 16000, 32000, 64000, 125000, 250000, 500000]\n",
    "glimpse_list = [0, 3, 9]\n",
    "max_blobs = 15\n",
    "min_blobs = 1\n",
    "\n",
    "num_iters = len(iter_list)\n",
    "num_glimpses = len(glimpse_list)\n",
    "z_size = max_blobs - min_blobs + 1\n",
    "data_directory = \"data/\" + model_name + \"/\"\n",
    "m = 0.5\n",
    "\n",
    "confidence_all_runs = np.zeros([num_runs, num_iters, num_glimpses, z_size, z_size])\n",
    "choice_all_runs = np.zeros([num_runs, num_iters, num_glimpses, z_size, z_size])"
   ]
  },
  {
   "cell_type": "code",
   "execution_count": 3,
   "metadata": {
    "collapsed": true
   },
   "outputs": [],
   "source": [
    "def fill_matrix(path, iteration):\n",
    "    \"\"\"Fill the confidence and choice matrices for one run at one iteration.\"\"\"\n",
    "    \n",
    "    data = None\n",
    "    num_imgs = 9000\n",
    "    imgs_data = classify_imgs2(iteration, True, num_imgs, path=path)\n",
    "        \n",
    "    confidence_one_run = np.zeros([num_glimpses, z_size, z_size])\n",
    "    choice_one_run = np.zeros([num_glimpses, z_size, z_size])\n",
    "    \n",
    "    for g, glimpse in enumerate(glimpse_list):\n",
    "\n",
    "        for nb in range(z_size):\n",
    "            num_blobs = nb + min_blobs\n",
    "            confidence_hist = np.zeros(z_size)\n",
    "            choice_hist = np.zeros(z_size)\n",
    "            num_imgs_with_num_blobs = 0\n",
    "\n",
    "            for idx, data in enumerate(imgs_data):\n",
    "\n",
    "                if data[\"label\"][nb] == 1: # data is for an image with num_blobs blobs\n",
    "                    num_imgs_with_num_blobs += 1\n",
    "\n",
    "                    # Histogram of softmaxes\n",
    "                    confidence_hist += data[\"classifications\"][glimpse][0]\n",
    "\n",
    "                    # Histogram of choices\n",
    "                    choice = np.argmax(data[\"classifications\"][glimpse][0])\n",
    "                    choice_list = [0] * z_size\n",
    "                    choice_list[choice] = 1\n",
    "                    choice_hist += choice_list\n",
    "\n",
    "            confidence_hist = confidence_hist / num_imgs_with_num_blobs\n",
    "            confidence_one_run[g, nb] = confidence_hist.tolist()\n",
    "\n",
    "            choice_hist = choice_hist / num_imgs_with_num_blobs\n",
    "            choice_one_run[g, nb] = choice_hist.tolist()\n",
    "        \n",
    "#     print(\"Confidence (One Run): \")\n",
    "#     print(confidence_one_run.tolist())\n",
    "#     print(\"Choice (One Run): \")\n",
    "#     print(choice_one_run.tolist())\n",
    "    return confidence_one_run, choice_one_run"
   ]
  },
  {
   "cell_type": "code",
   "execution_count": 4,
   "metadata": {
    "scrolled": true
   },
   "outputs": [
    {
     "name": "stdout",
     "output_type": "stream",
     "text": [
      "INFO:tensorflow:Restoring parameters from model_runs/DRAM_classify_blobs_2_run_1/classifymodel_32000.ckpt\n",
      "INFO:tensorflow:Restoring parameters from model_runs/DRAM_classify_blobs_2_run_1/classifymodel_64000.ckpt\n",
      "INFO:tensorflow:Restoring parameters from model_runs/DRAM_classify_blobs_2_run_2/classifymodel_32000.ckpt\n",
      "INFO:tensorflow:Restoring parameters from model_runs/DRAM_classify_blobs_2_run_2/classifymodel_64000.ckpt\n",
      "INFO:tensorflow:Restoring parameters from model_runs/DRAM_classify_blobs_2_run_3/classifymodel_32000.ckpt\n",
      "INFO:tensorflow:Restoring parameters from model_runs/DRAM_classify_blobs_2_run_3/classifymodel_64000.ckpt\n",
      "INFO:tensorflow:Restoring parameters from model_runs/DRAM_classify_blobs_2_run_4/classifymodel_32000.ckpt\n",
      "INFO:tensorflow:Restoring parameters from model_runs/DRAM_classify_blobs_2_run_4/classifymodel_64000.ckpt\n",
      "INFO:tensorflow:Restoring parameters from model_runs/DRAM_classify_blobs_2_run_5/classifymodel_32000.ckpt\n",
      "INFO:tensorflow:Restoring parameters from model_runs/DRAM_classify_blobs_2_run_5/classifymodel_64000.ckpt\n",
      "INFO:tensorflow:Restoring parameters from model_runs/DRAM_classify_blobs_2_run_6/classifymodel_32000.ckpt\n",
      "INFO:tensorflow:Restoring parameters from model_runs/DRAM_classify_blobs_2_run_6/classifymodel_64000.ckpt\n",
      "INFO:tensorflow:Restoring parameters from model_runs/DRAM_classify_blobs_2_run_7/classifymodel_32000.ckpt\n",
      "INFO:tensorflow:Restoring parameters from model_runs/DRAM_classify_blobs_2_run_7/classifymodel_64000.ckpt\n",
      "INFO:tensorflow:Restoring parameters from model_runs/DRAM_classify_blobs_2_run_8/classifymodel_32000.ckpt\n",
      "INFO:tensorflow:Restoring parameters from model_runs/DRAM_classify_blobs_2_run_8/classifymodel_64000.ckpt\n",
      "INFO:tensorflow:Restoring parameters from model_runs/DRAM_classify_blobs_2_run_9/classifymodel_32000.ckpt\n",
      "INFO:tensorflow:Restoring parameters from model_runs/DRAM_classify_blobs_2_run_9/classifymodel_64000.ckpt\n",
      "INFO:tensorflow:Restoring parameters from model_runs/DRAM_classify_blobs_2_run_10/classifymodel_32000.ckpt\n",
      "INFO:tensorflow:Restoring parameters from model_runs/DRAM_classify_blobs_2_run_10/classifymodel_64000.ckpt\n"
     ]
    }
   ],
   "source": [
    "for run in range(num_runs):\n",
    "    path = 'model_runs/' + model_name + '_run_' + str(run + 1)\n",
    "#     path = 'model_runs/DRAM_test_square'\n",
    "    for i, iteration in enumerate(iter_list):\n",
    "        confidence_all_runs[run, i], choice_all_runs[run, i] = fill_matrix(path, iteration)"
   ]
  },
  {
   "cell_type": "code",
   "execution_count": 5,
   "metadata": {
    "collapsed": true
   },
   "outputs": [],
   "source": [
    "def adj_all_runs(all_runs_matrix):\n",
    "    \"\"\"Adjust all the matrices so tick marks start with 1.\"\"\"\n",
    "    \n",
    "    new_all_runs_matrix = np.zeros([num_runs, num_iters, num_glimpses, z_size + 1, z_size + 1])\n",
    "    for m, matrix in enumerate(all_runs_matrix):\n",
    "        for i in range(num_iters):\n",
    "            for g in range(num_glimpses):\n",
    "                new_all_runs_matrix[m, i, g] = adj_matrix(matrix[i, g])\n",
    "    return new_all_runs_matrix\n",
    "\n",
    "\n",
    "def adj_matrix(matrix):\n",
    "    \"\"\"Adjust the matrix so tick marks start with 1.\"\"\"\n",
    "    \n",
    "    a = np.zeros([1, z_size])\n",
    "    temp = np.vstack((a, matrix))\n",
    "    b = np.zeros([z_size + 1, 1])\n",
    "    new_matrix = np.hstack((b, temp))\n",
    "    return new_matrix\n",
    "\n",
    "\n",
    "confidence_all_runs_adj = adj_all_runs(confidence_all_runs)\n",
    "choice_all_runs_adj = adj_all_runs(choice_all_runs)"
   ]
  },
  {
   "cell_type": "code",
   "execution_count": 6,
   "metadata": {
    "collapsed": true
   },
   "outputs": [],
   "source": [
    "confidence_avg = np.mean(confidence_all_runs_adj, axis=0)\n",
    "choice_avg = np.mean(choice_all_runs_adj, axis=0)"
   ]
  },
  {
   "cell_type": "code",
   "execution_count": 7,
   "metadata": {
    "collapsed": true
   },
   "outputs": [],
   "source": [
    "def plot_confidence(iter_idx, it, g, glimpse, run=None):\n",
    "    \"\"\"Plot the confidence heatmap.\"\"\"\n",
    "    \n",
    "    if run is None:\n",
    "        matrix = confidence_avg[iter_idx, g]\n",
    "        plot_title = \"Confidence after %d Iterations at Glimpse %d\" % (it, glimpse)\n",
    "\n",
    "    else:\n",
    "        matrix = confidence_all_runs_adj[run, iter_idx, g]\n",
    "        plot_title = \"Confidence at Run %d after %d Iterations at Glimpse %d\" % (run + 1, it, glimpse)\n",
    "    plot_heatmap(matrix, plot_title)\n",
    "\n",
    "\n",
    "def plot_choice(iter_idx, it, g, glimpse, run=None):\n",
    "    \"\"\"Plot the choice heatmap.\"\"\"\n",
    "    \n",
    "    if run is None:\n",
    "        matrix = choice_avg[iter_idx, g]\n",
    "        plot_title = \"Choice after %d Iterations at Glimpse %d\" % (it, glimpse)\n",
    "    else:\n",
    "        matrix = choice_all_runs_adj[run, iter_idx, g]\n",
    "        plot_title = \"Choice at Run %d after %d Iterations at Glimpse %d\" % (run + 1, it, glimpse)\n",
    "    plot_heatmap(matrix, plot_title)\n",
    "    \n",
    "    \n",
    "def plot_heatmap(matrix, plot_title):\n",
    "    \"\"\"Plot heatmap.\"\"\"\n",
    "    \n",
    "    data = [go.Heatmap(\n",
    "        z=matrix,\n",
    "        colorscale=\"Jet\"\n",
    "    )]\n",
    "\n",
    "    layout = go.Layout(\n",
    "        title=plot_title,\n",
    "        yaxis=dict(\n",
    "#             range=[max_blobs + m, min_blobs - m],\n",
    "            range=[9 + m, min_blobs - m],\n",
    "            title=\"True Class\",\n",
    "            dtick=1,\n",
    "            tickcolor='#FFF'\n",
    "        ),\n",
    "        xaxis=dict(\n",
    "            range=[min_blobs - m, max_blobs + m],\n",
    "            title=\"Predicted Class\",\n",
    "            dtick=1,\n",
    "            tickcolor='#FFF'\n",
    "        ),\n",
    "        width=500,\n",
    "        height=500,\n",
    "        plot_bgcolor=\"#000\",\n",
    "        paper_bgcolor=\"#000\",\n",
    "        font=dict(\n",
    "            color=\"#FFF\"\n",
    "        ),\n",
    "        titlefont=dict(\n",
    "            color=\"#FFF\"\n",
    "        ),\n",
    "    )\n",
    "    fig = go.Figure(data=data, layout=layout)\n",
    "    iplot(fig)"
   ]
  },
  {
   "cell_type": "code",
   "execution_count": 8,
   "metadata": {},
   "outputs": [
    {
     "data": {
      "application/vnd.plotly.v1+json": {
       "data": [
        {
         "colorscale": "Jet",
         "type": "heatmap",
         "z": [
          [
           0,
           0,
           0,
           0,
           0,
           0,
           0,
           0,
           0,
           0,
           0,
           0,
           0,
           0,
           0,
           0
          ],
          [
           0,
           0.8089129782015616,
           0.1136670357784249,
           0.03287104308760815,
           0.014877178691985377,
           0.008947586440115585,
           0.005054366844497495,
           0.004200600168151535,
           0.003159482015605161,
           0.0025104147490348297,
           0.0013643402862396521,
           0.001306907338399017,
           0.0010032969807129341,
           0.0007204585461083128,
           0.0007137958414335125,
           0.0006905300618876111
          ],
          [
           0,
           0.45631181799260323,
           0.32374757036638735,
           0.11524561491721433,
           0.04549767006808521,
           0.021982830111243985,
           0.010164751227440075,
           0.008003114455591216,
           0.005299219069831651,
           0.004192263486588286,
           0.0024031321354760133,
           0.0019566944727669204,
           0.0015019208972397798,
           0.001059242617736084,
           0.0012546693905725974,
           0.0013794968830969445
          ],
          [
           0,
           0.28674621523196636,
           0.2849482729306655,
           0.19273379041838662,
           0.10496184517110774,
           0.05420293390552985,
           0.025948649363669623,
           0.017437210454512783,
           0.0103170101490579,
           0.0075315508903130825,
           0.004006615018009313,
           0.0031005673260013247,
           0.002634684929047829,
           0.0018662399779891057,
           0.0017268103104421749,
           0.0018376102805248312
          ],
          [
           0,
           0.22898670343454022,
           0.17707352497240242,
           0.1892391702406038,
           0.1488239210720232,
           0.10076591330738863,
           0.05330552069039122,
           0.038769259709966544,
           0.02024927264839761,
           0.014566112058573444,
           0.00789313507719898,
           0.0062640617972165285,
           0.004643287354825216,
           0.0033740710043626125,
           0.0028680225818549223,
           0.003178026706707541
          ],
          [
           0,
           0.20874654955705915,
           0.11480242478720237,
           0.14152140248187137,
           0.14322115103373906,
           0.13275239646323278,
           0.08399885004492666,
           0.06880902180429418,
           0.034568677161972226,
           0.024569333644749444,
           0.014530871575967653,
           0.00982077558293525,
           0.008044147950181034,
           0.005240138548483526,
           0.00495652630580721,
           0.004417734794635863
          ],
          [
           0,
           0.19134320103911193,
           0.08535459073672165,
           0.0963371467417456,
           0.11890819476773262,
           0.1337883398332495,
           0.10413797570537935,
           0.0969348022548849,
           0.05010824717445157,
           0.04142413907006579,
           0.02823422365644328,
           0.017871310652155022,
           0.013364373944846481,
           0.008469003624597635,
           0.0066927518636536575,
           0.007031701064422408
          ],
          [
           0,
           0.17823618164098703,
           0.07210352812182436,
           0.07125426563556923,
           0.08810118006427778,
           0.11985020677891849,
           0.10657775526975291,
           0.11280717083033079,
           0.06360754939081015,
           0.0591748485524259,
           0.04519927523846681,
           0.02574574762179402,
           0.02019589774368851,
           0.01491621680189322,
           0.01107405492593814,
           0.011156121312407369
          ],
          [
           0,
           0.16388214787844826,
           0.06596750300139603,
           0.054844835199607214,
           0.06678150576756561,
           0.09870751437740313,
           0.09485294714791453,
           0.10880738342793586,
           0.07319983446357756,
           0.07381635527578392,
           0.0658109643333389,
           0.04276704492244561,
           0.031919302774262984,
           0.023873454175649712,
           0.0179079401874566,
           0.016861268203614183
          ],
          [
           0,
           0.1579309515918951,
           0.06376429610846314,
           0.048794337352794925,
           0.05380214915640188,
           0.07661035801975993,
           0.08225603153115774,
           0.09980964825811596,
           0.07228150470487907,
           0.08039037207597206,
           0.07792842562934141,
           0.05212501055547832,
           0.04506743315923811,
           0.03641708262149577,
           0.02620897238720458,
           0.026613427401570196
          ],
          [
           0,
           null,
           null,
           null,
           null,
           null,
           null,
           null,
           null,
           null,
           null,
           null,
           null,
           null,
           null,
           null
          ],
          [
           0,
           null,
           null,
           null,
           null,
           null,
           null,
           null,
           null,
           null,
           null,
           null,
           null,
           null,
           null,
           null
          ],
          [
           0,
           null,
           null,
           null,
           null,
           null,
           null,
           null,
           null,
           null,
           null,
           null,
           null,
           null,
           null,
           null
          ],
          [
           0,
           null,
           null,
           null,
           null,
           null,
           null,
           null,
           null,
           null,
           null,
           null,
           null,
           null,
           null,
           null
          ],
          [
           0,
           null,
           null,
           null,
           null,
           null,
           null,
           null,
           null,
           null,
           null,
           null,
           null,
           null,
           null,
           null
          ],
          [
           0,
           null,
           null,
           null,
           null,
           null,
           null,
           null,
           null,
           null,
           null,
           null,
           null,
           null,
           null,
           null
          ]
         ]
        }
       ],
       "layout": {
        "font": {
         "color": "#FFF"
        },
        "height": 500,
        "paper_bgcolor": "#000",
        "plot_bgcolor": "#000",
        "title": "Confidence after 32000 Iterations at Glimpse 0",
        "titlefont": {
         "color": "#FFF"
        },
        "width": 500,
        "xaxis": {
         "dtick": 1,
         "range": [
          0.5,
          15.5
         ],
         "tickcolor": "#FFF",
         "title": "Predicted Class"
        },
        "yaxis": {
         "dtick": 1,
         "range": [
          9.5,
          0.5
         ],
         "tickcolor": "#FFF",
         "title": "True Class"
        }
       }
      },
      "text/html": [
       "<div id=\"7e1fdb02-6d65-462b-ad30-6665d5988b22\" style=\"height: 500px; width: 500px;\" class=\"plotly-graph-div\"></div><script type=\"text/javascript\">require([\"plotly\"], function(Plotly) { window.PLOTLYENV=window.PLOTLYENV || {};window.PLOTLYENV.BASE_URL=\"https://plot.ly\";Plotly.newPlot(\"7e1fdb02-6d65-462b-ad30-6665d5988b22\", [{\"type\": \"heatmap\", \"z\": [[0.0, 0.0, 0.0, 0.0, 0.0, 0.0, 0.0, 0.0, 0.0, 0.0, 0.0, 0.0, 0.0, 0.0, 0.0, 0.0], [0.0, 0.8089129782015616, 0.1136670357784249, 0.03287104308760815, 0.014877178691985377, 0.008947586440115585, 0.005054366844497495, 0.004200600168151535, 0.003159482015605161, 0.0025104147490348297, 0.0013643402862396521, 0.001306907338399017, 0.0010032969807129341, 0.0007204585461083128, 0.0007137958414335125, 0.0006905300618876111], [0.0, 0.45631181799260323, 0.32374757036638735, 0.11524561491721433, 0.04549767006808521, 0.021982830111243985, 0.010164751227440075, 0.008003114455591216, 0.005299219069831651, 0.004192263486588286, 0.0024031321354760133, 0.0019566944727669204, 0.0015019208972397798, 0.001059242617736084, 0.0012546693905725974, 0.0013794968830969445], [0.0, 0.28674621523196636, 0.2849482729306655, 0.19273379041838662, 0.10496184517110774, 0.05420293390552985, 0.025948649363669623, 0.017437210454512783, 0.0103170101490579, 0.0075315508903130825, 0.004006615018009313, 0.0031005673260013247, 0.002634684929047829, 0.0018662399779891057, 0.0017268103104421749, 0.0018376102805248312], [0.0, 0.22898670343454022, 0.17707352497240242, 0.1892391702406038, 0.1488239210720232, 0.10076591330738863, 0.05330552069039122, 0.038769259709966544, 0.02024927264839761, 0.014566112058573444, 0.00789313507719898, 0.0062640617972165285, 0.004643287354825216, 0.0033740710043626125, 0.0028680225818549223, 0.003178026706707541], [0.0, 0.20874654955705915, 0.11480242478720237, 0.14152140248187137, 0.14322115103373906, 0.13275239646323278, 0.08399885004492666, 0.06880902180429418, 0.034568677161972226, 0.024569333644749444, 0.014530871575967653, 0.00982077558293525, 0.008044147950181034, 0.005240138548483526, 0.00495652630580721, 0.004417734794635863], [0.0, 0.19134320103911193, 0.08535459073672165, 0.0963371467417456, 0.11890819476773262, 0.1337883398332495, 0.10413797570537935, 0.0969348022548849, 0.05010824717445157, 0.04142413907006579, 0.02823422365644328, 0.017871310652155022, 0.013364373944846481, 0.008469003624597635, 0.0066927518636536575, 0.007031701064422408], [0.0, 0.17823618164098703, 0.07210352812182436, 0.07125426563556923, 0.08810118006427778, 0.11985020677891849, 0.10657775526975291, 0.11280717083033079, 0.06360754939081015, 0.0591748485524259, 0.04519927523846681, 0.02574574762179402, 0.02019589774368851, 0.01491621680189322, 0.01107405492593814, 0.011156121312407369], [0.0, 0.16388214787844826, 0.06596750300139603, 0.054844835199607214, 0.06678150576756561, 0.09870751437740313, 0.09485294714791453, 0.10880738342793586, 0.07319983446357756, 0.07381635527578392, 0.0658109643333389, 0.04276704492244561, 0.031919302774262984, 0.023873454175649712, 0.0179079401874566, 0.016861268203614183], [0.0, 0.1579309515918951, 0.06376429610846314, 0.048794337352794925, 0.05380214915640188, 0.07661035801975993, 0.08225603153115774, 0.09980964825811596, 0.07228150470487907, 0.08039037207597206, 0.07792842562934141, 0.05212501055547832, 0.04506743315923811, 0.03641708262149577, 0.02620897238720458, 0.026613427401570196], [0.0, null, null, null, null, null, null, null, null, null, null, null, null, null, null, null], [0.0, null, null, null, null, null, null, null, null, null, null, null, null, null, null, null], [0.0, null, null, null, null, null, null, null, null, null, null, null, null, null, null, null], [0.0, null, null, null, null, null, null, null, null, null, null, null, null, null, null, null], [0.0, null, null, null, null, null, null, null, null, null, null, null, null, null, null, null], [0.0, null, null, null, null, null, null, null, null, null, null, null, null, null, null, null]], \"colorscale\": \"Jet\"}], {\"height\": 500, \"plot_bgcolor\": \"#000\", \"font\": {\"color\": \"#FFF\"}, \"titlefont\": {\"color\": \"#FFF\"}, \"xaxis\": {\"tickcolor\": \"#FFF\", \"dtick\": 1, \"title\": \"Predicted Class\", \"range\": [0.5, 15.5]}, \"yaxis\": {\"tickcolor\": \"#FFF\", \"dtick\": 1, \"title\": \"True Class\", \"range\": [9.5, 0.5]}, \"width\": 500, \"paper_bgcolor\": \"#000\", \"title\": \"Confidence after 32000 Iterations at Glimpse 0\"}, {\"showLink\": true, \"linkText\": \"Export to plot.ly\"})});</script>"
      ],
      "text/vnd.plotly.v1+html": [
       "<div id=\"7e1fdb02-6d65-462b-ad30-6665d5988b22\" style=\"height: 500px; width: 500px;\" class=\"plotly-graph-div\"></div><script type=\"text/javascript\">require([\"plotly\"], function(Plotly) { window.PLOTLYENV=window.PLOTLYENV || {};window.PLOTLYENV.BASE_URL=\"https://plot.ly\";Plotly.newPlot(\"7e1fdb02-6d65-462b-ad30-6665d5988b22\", [{\"type\": \"heatmap\", \"z\": [[0.0, 0.0, 0.0, 0.0, 0.0, 0.0, 0.0, 0.0, 0.0, 0.0, 0.0, 0.0, 0.0, 0.0, 0.0, 0.0], [0.0, 0.8089129782015616, 0.1136670357784249, 0.03287104308760815, 0.014877178691985377, 0.008947586440115585, 0.005054366844497495, 0.004200600168151535, 0.003159482015605161, 0.0025104147490348297, 0.0013643402862396521, 0.001306907338399017, 0.0010032969807129341, 0.0007204585461083128, 0.0007137958414335125, 0.0006905300618876111], [0.0, 0.45631181799260323, 0.32374757036638735, 0.11524561491721433, 0.04549767006808521, 0.021982830111243985, 0.010164751227440075, 0.008003114455591216, 0.005299219069831651, 0.004192263486588286, 0.0024031321354760133, 0.0019566944727669204, 0.0015019208972397798, 0.001059242617736084, 0.0012546693905725974, 0.0013794968830969445], [0.0, 0.28674621523196636, 0.2849482729306655, 0.19273379041838662, 0.10496184517110774, 0.05420293390552985, 0.025948649363669623, 0.017437210454512783, 0.0103170101490579, 0.0075315508903130825, 0.004006615018009313, 0.0031005673260013247, 0.002634684929047829, 0.0018662399779891057, 0.0017268103104421749, 0.0018376102805248312], [0.0, 0.22898670343454022, 0.17707352497240242, 0.1892391702406038, 0.1488239210720232, 0.10076591330738863, 0.05330552069039122, 0.038769259709966544, 0.02024927264839761, 0.014566112058573444, 0.00789313507719898, 0.0062640617972165285, 0.004643287354825216, 0.0033740710043626125, 0.0028680225818549223, 0.003178026706707541], [0.0, 0.20874654955705915, 0.11480242478720237, 0.14152140248187137, 0.14322115103373906, 0.13275239646323278, 0.08399885004492666, 0.06880902180429418, 0.034568677161972226, 0.024569333644749444, 0.014530871575967653, 0.00982077558293525, 0.008044147950181034, 0.005240138548483526, 0.00495652630580721, 0.004417734794635863], [0.0, 0.19134320103911193, 0.08535459073672165, 0.0963371467417456, 0.11890819476773262, 0.1337883398332495, 0.10413797570537935, 0.0969348022548849, 0.05010824717445157, 0.04142413907006579, 0.02823422365644328, 0.017871310652155022, 0.013364373944846481, 0.008469003624597635, 0.0066927518636536575, 0.007031701064422408], [0.0, 0.17823618164098703, 0.07210352812182436, 0.07125426563556923, 0.08810118006427778, 0.11985020677891849, 0.10657775526975291, 0.11280717083033079, 0.06360754939081015, 0.0591748485524259, 0.04519927523846681, 0.02574574762179402, 0.02019589774368851, 0.01491621680189322, 0.01107405492593814, 0.011156121312407369], [0.0, 0.16388214787844826, 0.06596750300139603, 0.054844835199607214, 0.06678150576756561, 0.09870751437740313, 0.09485294714791453, 0.10880738342793586, 0.07319983446357756, 0.07381635527578392, 0.0658109643333389, 0.04276704492244561, 0.031919302774262984, 0.023873454175649712, 0.0179079401874566, 0.016861268203614183], [0.0, 0.1579309515918951, 0.06376429610846314, 0.048794337352794925, 0.05380214915640188, 0.07661035801975993, 0.08225603153115774, 0.09980964825811596, 0.07228150470487907, 0.08039037207597206, 0.07792842562934141, 0.05212501055547832, 0.04506743315923811, 0.03641708262149577, 0.02620897238720458, 0.026613427401570196], [0.0, null, null, null, null, null, null, null, null, null, null, null, null, null, null, null], [0.0, null, null, null, null, null, null, null, null, null, null, null, null, null, null, null], [0.0, null, null, null, null, null, null, null, null, null, null, null, null, null, null, null], [0.0, null, null, null, null, null, null, null, null, null, null, null, null, null, null, null], [0.0, null, null, null, null, null, null, null, null, null, null, null, null, null, null, null], [0.0, null, null, null, null, null, null, null, null, null, null, null, null, null, null, null]], \"colorscale\": \"Jet\"}], {\"height\": 500, \"plot_bgcolor\": \"#000\", \"font\": {\"color\": \"#FFF\"}, \"titlefont\": {\"color\": \"#FFF\"}, \"xaxis\": {\"tickcolor\": \"#FFF\", \"dtick\": 1, \"title\": \"Predicted Class\", \"range\": [0.5, 15.5]}, \"yaxis\": {\"tickcolor\": \"#FFF\", \"dtick\": 1, \"title\": \"True Class\", \"range\": [9.5, 0.5]}, \"width\": 500, \"paper_bgcolor\": \"#000\", \"title\": \"Confidence after 32000 Iterations at Glimpse 0\"}, {\"showLink\": true, \"linkText\": \"Export to plot.ly\"})});</script>"
      ]
     },
     "metadata": {},
     "output_type": "display_data"
    },
    {
     "data": {
      "application/vnd.plotly.v1+json": {
       "data": [
        {
         "colorscale": "Jet",
         "type": "heatmap",
         "z": [
          [
           0,
           0,
           0,
           0,
           0,
           0,
           0,
           0,
           0,
           0,
           0,
           0,
           0,
           0,
           0,
           0
          ],
          [
           0,
           0.9937091824433846,
           0.004493041548584174,
           0.0006496249142959735,
           0.00016366612111292964,
           0.0004904635067338447,
           0,
           0,
           0.00016339869281045753,
           0.00016722408026755852,
           0,
           0,
           0,
           0,
           0,
           0.00016339869281045753
          ],
          [
           0,
           0.6145297524869855,
           0.33261509407600814,
           0.03827925779792796,
           0.00820543344378191,
           0.003194901003351555,
           0.000494953916092496,
           0.0009984251529552772,
           0.0006763744166732632,
           0.000335068543125342,
           0.00017152658662092623,
           0,
           0,
           0,
           0,
           0.0004992125764776386
          ],
          [
           0,
           0.42415487374269,
           0.3067799807616681,
           0.16763010864625283,
           0.05914269474670357,
           0.023481231611172826,
           0.008391039586128248,
           0.004617239625965013,
           0.0014958596372008578,
           0.001818747835355065,
           0.0004917078000841646,
           0.0003333416668750052,
           0.0003322268303518459,
           0.0005008458544796953,
           0.0004962081163864059,
           0.00033389353868622094
          ],
          [
           0,
           0.38197929547271836,
           0.1396932787632899,
           0.19866195292960762,
           0.13326797979155894,
           0.07937260855660198,
           0.029944359762261924,
           0.019503684164750432,
           0.006157478589807101,
           0.004155380529266036,
           0.0009997507703462028,
           0.00235628076344451,
           0.0011822999009268962,
           0.0008525212949043185,
           0.0005208333333333333,
           0.0013522953771824505
          ],
          [
           0,
           0.3624916747705833,
           0.06587172032618992,
           0.12641072868906328,
           0.14101137751751364,
           0.138688388197891,
           0.0674075231212815,
           0.052433152517953364,
           0.018349774474381443,
           0.011538559631744442,
           0.003695767247553648,
           0.002839302096108021,
           0.003056340088387244,
           0.0023766346844856898,
           0.001836245655609042,
           0.0019928109812544356
          ],
          [
           0,
           0.34399758965538185,
           0.03480376671373852,
           0.06261123489422067,
           0.1100253909220201,
           0.1476255933651094,
           0.1015570662882758,
           0.1029247613249062,
           0.033088305342694566,
           0.025509267034934453,
           0.015898790493996645,
           0.0075583513693634734,
           0.007069942136307449,
           0.0024684193240758134,
           0.0013559587549601061,
           0.0035055623800150796
          ],
          [
           0,
           0.3302961652803605,
           0.021909681994144302,
           0.033133600968471844,
           0.06565030037826683,
           0.130797809910419,
           0.10582726742281909,
           0.13467271365623262,
           0.051535618797867874,
           0.0487297517718089,
           0.03606278641868361,
           0.012360770786512022,
           0.012314705937406823,
           0.006421940853155309,
           0.0031772555534008012,
           0.00710963027045052
          ],
          [
           0,
           0.3050248373259222,
           0.025729273831069665,
           0.019926094965513223,
           0.03990651255202949,
           0.09915275523361698,
           0.09082525632840877,
           0.13621249048714096,
           0.06323685047104727,
           0.0661802197333979,
           0.06789637410462167,
           0.028313732294047704,
           0.025250794156734986,
           0.01422422068729976,
           0.0076641021017307106,
           0.010456485727418672
          ],
          [
           0,
           0.30074373253560904,
           0.023517046730005688,
           0.017421892957186953,
           0.029901155047186857,
           0.06534485640379681,
           0.0738493120200934,
           0.11888294101989186,
           0.06583532512887268,
           0.07586309306919821,
           0.08348707507986625,
           0.04021479737919609,
           0.04378641549200816,
           0.02941685338483155,
           0.015034419344168002,
           0.01670108440808845
          ],
          [
           0,
           null,
           null,
           null,
           null,
           null,
           null,
           null,
           null,
           null,
           null,
           null,
           null,
           null,
           null,
           null
          ],
          [
           0,
           null,
           null,
           null,
           null,
           null,
           null,
           null,
           null,
           null,
           null,
           null,
           null,
           null,
           null,
           null
          ],
          [
           0,
           null,
           null,
           null,
           null,
           null,
           null,
           null,
           null,
           null,
           null,
           null,
           null,
           null,
           null,
           null
          ],
          [
           0,
           null,
           null,
           null,
           null,
           null,
           null,
           null,
           null,
           null,
           null,
           null,
           null,
           null,
           null,
           null
          ],
          [
           0,
           null,
           null,
           null,
           null,
           null,
           null,
           null,
           null,
           null,
           null,
           null,
           null,
           null,
           null,
           null
          ],
          [
           0,
           null,
           null,
           null,
           null,
           null,
           null,
           null,
           null,
           null,
           null,
           null,
           null,
           null,
           null,
           null
          ]
         ]
        }
       ],
       "layout": {
        "font": {
         "color": "#FFF"
        },
        "height": 500,
        "paper_bgcolor": "#000",
        "plot_bgcolor": "#000",
        "title": "Choice after 32000 Iterations at Glimpse 0",
        "titlefont": {
         "color": "#FFF"
        },
        "width": 500,
        "xaxis": {
         "dtick": 1,
         "range": [
          0.5,
          15.5
         ],
         "tickcolor": "#FFF",
         "title": "Predicted Class"
        },
        "yaxis": {
         "dtick": 1,
         "range": [
          9.5,
          0.5
         ],
         "tickcolor": "#FFF",
         "title": "True Class"
        }
       }
      },
      "text/html": [
       "<div id=\"32af1eda-41fb-41f8-b2c3-bf923ba21742\" style=\"height: 500px; width: 500px;\" class=\"plotly-graph-div\"></div><script type=\"text/javascript\">require([\"plotly\"], function(Plotly) { window.PLOTLYENV=window.PLOTLYENV || {};window.PLOTLYENV.BASE_URL=\"https://plot.ly\";Plotly.newPlot(\"32af1eda-41fb-41f8-b2c3-bf923ba21742\", [{\"type\": \"heatmap\", \"z\": [[0.0, 0.0, 0.0, 0.0, 0.0, 0.0, 0.0, 0.0, 0.0, 0.0, 0.0, 0.0, 0.0, 0.0, 0.0, 0.0], [0.0, 0.9937091824433846, 0.004493041548584174, 0.0006496249142959735, 0.00016366612111292964, 0.0004904635067338447, 0.0, 0.0, 0.00016339869281045753, 0.00016722408026755852, 0.0, 0.0, 0.0, 0.0, 0.0, 0.00016339869281045753], [0.0, 0.6145297524869855, 0.33261509407600814, 0.03827925779792796, 0.00820543344378191, 0.003194901003351555, 0.000494953916092496, 0.0009984251529552772, 0.0006763744166732632, 0.000335068543125342, 0.00017152658662092623, 0.0, 0.0, 0.0, 0.0, 0.0004992125764776386], [0.0, 0.42415487374269, 0.3067799807616681, 0.16763010864625283, 0.05914269474670357, 0.023481231611172826, 0.008391039586128248, 0.004617239625965013, 0.0014958596372008578, 0.001818747835355065, 0.0004917078000841646, 0.0003333416668750052, 0.0003322268303518459, 0.0005008458544796953, 0.0004962081163864059, 0.00033389353868622094], [0.0, 0.38197929547271836, 0.1396932787632899, 0.19866195292960762, 0.13326797979155894, 0.07937260855660198, 0.029944359762261924, 0.019503684164750432, 0.006157478589807101, 0.004155380529266036, 0.0009997507703462028, 0.00235628076344451, 0.0011822999009268962, 0.0008525212949043185, 0.0005208333333333333, 0.0013522953771824505], [0.0, 0.3624916747705833, 0.06587172032618992, 0.12641072868906328, 0.14101137751751364, 0.138688388197891, 0.0674075231212815, 0.052433152517953364, 0.018349774474381443, 0.011538559631744442, 0.003695767247553648, 0.002839302096108021, 0.003056340088387244, 0.0023766346844856898, 0.001836245655609042, 0.0019928109812544356], [0.0, 0.34399758965538185, 0.03480376671373852, 0.06261123489422067, 0.1100253909220201, 0.1476255933651094, 0.1015570662882758, 0.1029247613249062, 0.033088305342694566, 0.025509267034934453, 0.015898790493996645, 0.0075583513693634734, 0.007069942136307449, 0.0024684193240758134, 0.0013559587549601061, 0.0035055623800150796], [0.0, 0.3302961652803605, 0.021909681994144302, 0.033133600968471844, 0.06565030037826683, 0.130797809910419, 0.10582726742281909, 0.13467271365623262, 0.051535618797867874, 0.0487297517718089, 0.03606278641868361, 0.012360770786512022, 0.012314705937406823, 0.006421940853155309, 0.0031772555534008012, 0.00710963027045052], [0.0, 0.3050248373259222, 0.025729273831069665, 0.019926094965513223, 0.03990651255202949, 0.09915275523361698, 0.09082525632840877, 0.13621249048714096, 0.06323685047104727, 0.0661802197333979, 0.06789637410462167, 0.028313732294047704, 0.025250794156734986, 0.01422422068729976, 0.0076641021017307106, 0.010456485727418672], [0.0, 0.30074373253560904, 0.023517046730005688, 0.017421892957186953, 0.029901155047186857, 0.06534485640379681, 0.0738493120200934, 0.11888294101989186, 0.06583532512887268, 0.07586309306919821, 0.08348707507986625, 0.04021479737919609, 0.04378641549200816, 0.02941685338483155, 0.015034419344168002, 0.01670108440808845], [0.0, null, null, null, null, null, null, null, null, null, null, null, null, null, null, null], [0.0, null, null, null, null, null, null, null, null, null, null, null, null, null, null, null], [0.0, null, null, null, null, null, null, null, null, null, null, null, null, null, null, null], [0.0, null, null, null, null, null, null, null, null, null, null, null, null, null, null, null], [0.0, null, null, null, null, null, null, null, null, null, null, null, null, null, null, null], [0.0, null, null, null, null, null, null, null, null, null, null, null, null, null, null, null]], \"colorscale\": \"Jet\"}], {\"height\": 500, \"plot_bgcolor\": \"#000\", \"font\": {\"color\": \"#FFF\"}, \"titlefont\": {\"color\": \"#FFF\"}, \"xaxis\": {\"tickcolor\": \"#FFF\", \"dtick\": 1, \"title\": \"Predicted Class\", \"range\": [0.5, 15.5]}, \"yaxis\": {\"tickcolor\": \"#FFF\", \"dtick\": 1, \"title\": \"True Class\", \"range\": [9.5, 0.5]}, \"width\": 500, \"paper_bgcolor\": \"#000\", \"title\": \"Choice after 32000 Iterations at Glimpse 0\"}, {\"showLink\": true, \"linkText\": \"Export to plot.ly\"})});</script>"
      ],
      "text/vnd.plotly.v1+html": [
       "<div id=\"32af1eda-41fb-41f8-b2c3-bf923ba21742\" style=\"height: 500px; width: 500px;\" class=\"plotly-graph-div\"></div><script type=\"text/javascript\">require([\"plotly\"], function(Plotly) { window.PLOTLYENV=window.PLOTLYENV || {};window.PLOTLYENV.BASE_URL=\"https://plot.ly\";Plotly.newPlot(\"32af1eda-41fb-41f8-b2c3-bf923ba21742\", [{\"type\": \"heatmap\", \"z\": [[0.0, 0.0, 0.0, 0.0, 0.0, 0.0, 0.0, 0.0, 0.0, 0.0, 0.0, 0.0, 0.0, 0.0, 0.0, 0.0], [0.0, 0.9937091824433846, 0.004493041548584174, 0.0006496249142959735, 0.00016366612111292964, 0.0004904635067338447, 0.0, 0.0, 0.00016339869281045753, 0.00016722408026755852, 0.0, 0.0, 0.0, 0.0, 0.0, 0.00016339869281045753], [0.0, 0.6145297524869855, 0.33261509407600814, 0.03827925779792796, 0.00820543344378191, 0.003194901003351555, 0.000494953916092496, 0.0009984251529552772, 0.0006763744166732632, 0.000335068543125342, 0.00017152658662092623, 0.0, 0.0, 0.0, 0.0, 0.0004992125764776386], [0.0, 0.42415487374269, 0.3067799807616681, 0.16763010864625283, 0.05914269474670357, 0.023481231611172826, 0.008391039586128248, 0.004617239625965013, 0.0014958596372008578, 0.001818747835355065, 0.0004917078000841646, 0.0003333416668750052, 0.0003322268303518459, 0.0005008458544796953, 0.0004962081163864059, 0.00033389353868622094], [0.0, 0.38197929547271836, 0.1396932787632899, 0.19866195292960762, 0.13326797979155894, 0.07937260855660198, 0.029944359762261924, 0.019503684164750432, 0.006157478589807101, 0.004155380529266036, 0.0009997507703462028, 0.00235628076344451, 0.0011822999009268962, 0.0008525212949043185, 0.0005208333333333333, 0.0013522953771824505], [0.0, 0.3624916747705833, 0.06587172032618992, 0.12641072868906328, 0.14101137751751364, 0.138688388197891, 0.0674075231212815, 0.052433152517953364, 0.018349774474381443, 0.011538559631744442, 0.003695767247553648, 0.002839302096108021, 0.003056340088387244, 0.0023766346844856898, 0.001836245655609042, 0.0019928109812544356], [0.0, 0.34399758965538185, 0.03480376671373852, 0.06261123489422067, 0.1100253909220201, 0.1476255933651094, 0.1015570662882758, 0.1029247613249062, 0.033088305342694566, 0.025509267034934453, 0.015898790493996645, 0.0075583513693634734, 0.007069942136307449, 0.0024684193240758134, 0.0013559587549601061, 0.0035055623800150796], [0.0, 0.3302961652803605, 0.021909681994144302, 0.033133600968471844, 0.06565030037826683, 0.130797809910419, 0.10582726742281909, 0.13467271365623262, 0.051535618797867874, 0.0487297517718089, 0.03606278641868361, 0.012360770786512022, 0.012314705937406823, 0.006421940853155309, 0.0031772555534008012, 0.00710963027045052], [0.0, 0.3050248373259222, 0.025729273831069665, 0.019926094965513223, 0.03990651255202949, 0.09915275523361698, 0.09082525632840877, 0.13621249048714096, 0.06323685047104727, 0.0661802197333979, 0.06789637410462167, 0.028313732294047704, 0.025250794156734986, 0.01422422068729976, 0.0076641021017307106, 0.010456485727418672], [0.0, 0.30074373253560904, 0.023517046730005688, 0.017421892957186953, 0.029901155047186857, 0.06534485640379681, 0.0738493120200934, 0.11888294101989186, 0.06583532512887268, 0.07586309306919821, 0.08348707507986625, 0.04021479737919609, 0.04378641549200816, 0.02941685338483155, 0.015034419344168002, 0.01670108440808845], [0.0, null, null, null, null, null, null, null, null, null, null, null, null, null, null, null], [0.0, null, null, null, null, null, null, null, null, null, null, null, null, null, null, null], [0.0, null, null, null, null, null, null, null, null, null, null, null, null, null, null, null], [0.0, null, null, null, null, null, null, null, null, null, null, null, null, null, null, null], [0.0, null, null, null, null, null, null, null, null, null, null, null, null, null, null, null], [0.0, null, null, null, null, null, null, null, null, null, null, null, null, null, null, null]], \"colorscale\": \"Jet\"}], {\"height\": 500, \"plot_bgcolor\": \"#000\", \"font\": {\"color\": \"#FFF\"}, \"titlefont\": {\"color\": \"#FFF\"}, \"xaxis\": {\"tickcolor\": \"#FFF\", \"dtick\": 1, \"title\": \"Predicted Class\", \"range\": [0.5, 15.5]}, \"yaxis\": {\"tickcolor\": \"#FFF\", \"dtick\": 1, \"title\": \"True Class\", \"range\": [9.5, 0.5]}, \"width\": 500, \"paper_bgcolor\": \"#000\", \"title\": \"Choice after 32000 Iterations at Glimpse 0\"}, {\"showLink\": true, \"linkText\": \"Export to plot.ly\"})});</script>"
      ]
     },
     "metadata": {},
     "output_type": "display_data"
    },
    {
     "data": {
      "application/vnd.plotly.v1+json": {
       "data": [
        {
         "colorscale": "Jet",
         "type": "heatmap",
         "z": [
          [
           0,
           0,
           0,
           0,
           0,
           0,
           0,
           0,
           0,
           0,
           0,
           0,
           0,
           0,
           0,
           0
          ],
          [
           0,
           0.9042008898489036,
           0.08281064795397575,
           0.010672378178231986,
           0.0015727790984483906,
           0.0004463038402821136,
           8.074158016573503e-05,
           3.672368544270628e-05,
           0.0001107850029041886,
           3.599484231513651e-05,
           6.823207774569638e-06,
           9.454768658754276e-06,
           2.1821978653080987e-07,
           1.8553522900062716e-06,
           4.758485275517169e-06,
           9.649412796504788e-06
          ],
          [
           0,
           0.36617876156546086,
           0.42824924853023677,
           0.1488062669485571,
           0.03900263711140002,
           0.013385020348808901,
           0.0025736901265031075,
           0.0009094687274311359,
           0.0003685258355975426,
           0.0003110441130682008,
           8.105396848730523e-05,
           5.442010965558111e-05,
           1.606949975651836e-05,
           5.369036777588774e-06,
           7.122685875696483e-06,
           5.1305863935720656e-05
          ],
          [
           0,
           0.11013095626066664,
           0.35868907244259,
           0.2815565449859036,
           0.14285013411372255,
           0.07109977548829575,
           0.019818152179424356,
           0.009426871992034618,
           0.003065434154862183,
           0.0017390439847445559,
           0.0005673549669827948,
           0.0002552732076864734,
           0.00025093488852213864,
           0.00023695376837233576,
           0.0002160444660805292,
           9.74563293011268e-05
          ],
          [
           0,
           0.030542172398520133,
           0.18746295480831163,
           0.263279425957835,
           0.2279500732323537,
           0.16476266933836442,
           0.06129593455153576,
           0.03901986773764181,
           0.013151516482449613,
           0.006246953586396771,
           0.0027182576789819253,
           0.0011498698880453822,
           0.0008632509025576354,
           0.0003637614217992623,
           0.0006128970843529913,
           0.0005803972054858438
          ],
          [
           0,
           0.008847261387500447,
           0.07880315594148976,
           0.1703463284641616,
           0.2268721363013785,
           0.2330373763056513,
           0.11363172067056575,
           0.0987997206716922,
           0.03222056507831604,
           0.017816921673533614,
           0.009377782335725258,
           0.0037052495421391906,
           0.0026762791366170303,
           0.0010197837736680318,
           0.001476337393321498,
           0.001369382584874174
          ],
          [
           0,
           0.002685191371489394,
           0.03324053159067626,
           0.09150669860123578,
           0.16946791192021768,
           0.23160490185990107,
           0.14787952457929568,
           0.16311105863513822,
           0.06405190788988258,
           0.03832248239965262,
           0.027260363096770757,
           0.011711874016879627,
           0.007428831175816315,
           0.003337827546882833,
           0.004590722420193655,
           0.003800172755991079
          ],
          [
           0,
           0.0015692061631893811,
           0.013235720671945764,
           0.044867665281709435,
           0.10575820469310777,
           0.19043707452728667,
           0.15351289560497866,
           0.20567359925965295,
           0.09756886942799224,
           0.06696502710486718,
           0.05453786141366278,
           0.024013646881516578,
           0.01419585128556049,
           0.00901711296545531,
           0.010196699120871613,
           0.008450566654274847
          ],
          [
           0,
           0.0008319451040875503,
           0.0054028859073423224,
           0.02206968606949538,
           0.060099485560253366,
           0.13251669779257305,
           0.13297586454583196,
           0.20523440172237328,
           0.11691514539860286,
           0.09420666008776457,
           0.0927901552691547,
           0.0459612534704224,
           0.027904624855956656,
           0.022225005492502305,
           0.022723906940499285,
           0.018142282370613227
          ],
          [
           0,
           0.00024480029129649174,
           0.0029964380943135168,
           0.012182024925244403,
           0.03354463690336234,
           0.08848403320771794,
           0.10868688743040285,
           0.18298076388921453,
           0.12327701147515158,
           0.11057236133406616,
           0.11960073343861186,
           0.06331397142748982,
           0.04282322808871307,
           0.03891508086719202,
           0.03864650953281571,
           0.033731517094033034
          ],
          [
           0,
           null,
           null,
           null,
           null,
           null,
           null,
           null,
           null,
           null,
           null,
           null,
           null,
           null,
           null,
           null
          ],
          [
           0,
           null,
           null,
           null,
           null,
           null,
           null,
           null,
           null,
           null,
           null,
           null,
           null,
           null,
           null,
           null
          ],
          [
           0,
           null,
           null,
           null,
           null,
           null,
           null,
           null,
           null,
           null,
           null,
           null,
           null,
           null,
           null,
           null
          ],
          [
           0,
           null,
           null,
           null,
           null,
           null,
           null,
           null,
           null,
           null,
           null,
           null,
           null,
           null,
           null,
           null
          ],
          [
           0,
           null,
           null,
           null,
           null,
           null,
           null,
           null,
           null,
           null,
           null,
           null,
           null,
           null,
           null,
           null
          ],
          [
           0,
           null,
           null,
           null,
           null,
           null,
           null,
           null,
           null,
           null,
           null,
           null,
           null,
           null,
           null,
           null
          ]
         ]
        }
       ],
       "layout": {
        "font": {
         "color": "#FFF"
        },
        "height": 500,
        "paper_bgcolor": "#000",
        "plot_bgcolor": "#000",
        "title": "Confidence after 32000 Iterations at Glimpse 3",
        "titlefont": {
         "color": "#FFF"
        },
        "width": 500,
        "xaxis": {
         "dtick": 1,
         "range": [
          0.5,
          15.5
         ],
         "tickcolor": "#FFF",
         "title": "Predicted Class"
        },
        "yaxis": {
         "dtick": 1,
         "range": [
          9.5,
          0.5
         ],
         "tickcolor": "#FFF",
         "title": "True Class"
        }
       }
      },
      "text/html": [
       "<div id=\"44e01224-cebf-4233-850e-f6416aa885a1\" style=\"height: 500px; width: 500px;\" class=\"plotly-graph-div\"></div><script type=\"text/javascript\">require([\"plotly\"], function(Plotly) { window.PLOTLYENV=window.PLOTLYENV || {};window.PLOTLYENV.BASE_URL=\"https://plot.ly\";Plotly.newPlot(\"44e01224-cebf-4233-850e-f6416aa885a1\", [{\"type\": \"heatmap\", \"z\": [[0.0, 0.0, 0.0, 0.0, 0.0, 0.0, 0.0, 0.0, 0.0, 0.0, 0.0, 0.0, 0.0, 0.0, 0.0, 0.0], [0.0, 0.9042008898489036, 0.08281064795397575, 0.010672378178231986, 0.0015727790984483906, 0.0004463038402821136, 8.074158016573503e-05, 3.672368544270628e-05, 0.0001107850029041886, 3.599484231513651e-05, 6.823207774569638e-06, 9.454768658754276e-06, 2.1821978653080987e-07, 1.8553522900062716e-06, 4.758485275517169e-06, 9.649412796504788e-06], [0.0, 0.36617876156546086, 0.42824924853023677, 0.1488062669485571, 0.03900263711140002, 0.013385020348808901, 0.0025736901265031075, 0.0009094687274311359, 0.0003685258355975426, 0.0003110441130682008, 8.105396848730523e-05, 5.442010965558111e-05, 1.606949975651836e-05, 5.369036777588774e-06, 7.122685875696483e-06, 5.1305863935720656e-05], [0.0, 0.11013095626066664, 0.35868907244259, 0.2815565449859036, 0.14285013411372255, 0.07109977548829575, 0.019818152179424356, 0.009426871992034618, 0.003065434154862183, 0.0017390439847445559, 0.0005673549669827948, 0.0002552732076864734, 0.00025093488852213864, 0.00023695376837233576, 0.0002160444660805292, 9.74563293011268e-05], [0.0, 0.030542172398520133, 0.18746295480831163, 0.263279425957835, 0.2279500732323537, 0.16476266933836442, 0.06129593455153576, 0.03901986773764181, 0.013151516482449613, 0.006246953586396771, 0.0027182576789819253, 0.0011498698880453822, 0.0008632509025576354, 0.0003637614217992623, 0.0006128970843529913, 0.0005803972054858438], [0.0, 0.008847261387500447, 0.07880315594148976, 0.1703463284641616, 0.2268721363013785, 0.2330373763056513, 0.11363172067056575, 0.0987997206716922, 0.03222056507831604, 0.017816921673533614, 0.009377782335725258, 0.0037052495421391906, 0.0026762791366170303, 0.0010197837736680318, 0.001476337393321498, 0.001369382584874174], [0.0, 0.002685191371489394, 0.03324053159067626, 0.09150669860123578, 0.16946791192021768, 0.23160490185990107, 0.14787952457929568, 0.16311105863513822, 0.06405190788988258, 0.03832248239965262, 0.027260363096770757, 0.011711874016879627, 0.007428831175816315, 0.003337827546882833, 0.004590722420193655, 0.003800172755991079], [0.0, 0.0015692061631893811, 0.013235720671945764, 0.044867665281709435, 0.10575820469310777, 0.19043707452728667, 0.15351289560497866, 0.20567359925965295, 0.09756886942799224, 0.06696502710486718, 0.05453786141366278, 0.024013646881516578, 0.01419585128556049, 0.00901711296545531, 0.010196699120871613, 0.008450566654274847], [0.0, 0.0008319451040875503, 0.0054028859073423224, 0.02206968606949538, 0.060099485560253366, 0.13251669779257305, 0.13297586454583196, 0.20523440172237328, 0.11691514539860286, 0.09420666008776457, 0.0927901552691547, 0.0459612534704224, 0.027904624855956656, 0.022225005492502305, 0.022723906940499285, 0.018142282370613227], [0.0, 0.00024480029129649174, 0.0029964380943135168, 0.012182024925244403, 0.03354463690336234, 0.08848403320771794, 0.10868688743040285, 0.18298076388921453, 0.12327701147515158, 0.11057236133406616, 0.11960073343861186, 0.06331397142748982, 0.04282322808871307, 0.03891508086719202, 0.03864650953281571, 0.033731517094033034], [0.0, null, null, null, null, null, null, null, null, null, null, null, null, null, null, null], [0.0, null, null, null, null, null, null, null, null, null, null, null, null, null, null, null], [0.0, null, null, null, null, null, null, null, null, null, null, null, null, null, null, null], [0.0, null, null, null, null, null, null, null, null, null, null, null, null, null, null, null], [0.0, null, null, null, null, null, null, null, null, null, null, null, null, null, null, null], [0.0, null, null, null, null, null, null, null, null, null, null, null, null, null, null, null]], \"colorscale\": \"Jet\"}], {\"height\": 500, \"plot_bgcolor\": \"#000\", \"font\": {\"color\": \"#FFF\"}, \"titlefont\": {\"color\": \"#FFF\"}, \"xaxis\": {\"tickcolor\": \"#FFF\", \"dtick\": 1, \"title\": \"Predicted Class\", \"range\": [0.5, 15.5]}, \"yaxis\": {\"tickcolor\": \"#FFF\", \"dtick\": 1, \"title\": \"True Class\", \"range\": [9.5, 0.5]}, \"width\": 500, \"paper_bgcolor\": \"#000\", \"title\": \"Confidence after 32000 Iterations at Glimpse 3\"}, {\"showLink\": true, \"linkText\": \"Export to plot.ly\"})});</script>"
      ],
      "text/vnd.plotly.v1+html": [
       "<div id=\"44e01224-cebf-4233-850e-f6416aa885a1\" style=\"height: 500px; width: 500px;\" class=\"plotly-graph-div\"></div><script type=\"text/javascript\">require([\"plotly\"], function(Plotly) { window.PLOTLYENV=window.PLOTLYENV || {};window.PLOTLYENV.BASE_URL=\"https://plot.ly\";Plotly.newPlot(\"44e01224-cebf-4233-850e-f6416aa885a1\", [{\"type\": \"heatmap\", \"z\": [[0.0, 0.0, 0.0, 0.0, 0.0, 0.0, 0.0, 0.0, 0.0, 0.0, 0.0, 0.0, 0.0, 0.0, 0.0, 0.0], [0.0, 0.9042008898489036, 0.08281064795397575, 0.010672378178231986, 0.0015727790984483906, 0.0004463038402821136, 8.074158016573503e-05, 3.672368544270628e-05, 0.0001107850029041886, 3.599484231513651e-05, 6.823207774569638e-06, 9.454768658754276e-06, 2.1821978653080987e-07, 1.8553522900062716e-06, 4.758485275517169e-06, 9.649412796504788e-06], [0.0, 0.36617876156546086, 0.42824924853023677, 0.1488062669485571, 0.03900263711140002, 0.013385020348808901, 0.0025736901265031075, 0.0009094687274311359, 0.0003685258355975426, 0.0003110441130682008, 8.105396848730523e-05, 5.442010965558111e-05, 1.606949975651836e-05, 5.369036777588774e-06, 7.122685875696483e-06, 5.1305863935720656e-05], [0.0, 0.11013095626066664, 0.35868907244259, 0.2815565449859036, 0.14285013411372255, 0.07109977548829575, 0.019818152179424356, 0.009426871992034618, 0.003065434154862183, 0.0017390439847445559, 0.0005673549669827948, 0.0002552732076864734, 0.00025093488852213864, 0.00023695376837233576, 0.0002160444660805292, 9.74563293011268e-05], [0.0, 0.030542172398520133, 0.18746295480831163, 0.263279425957835, 0.2279500732323537, 0.16476266933836442, 0.06129593455153576, 0.03901986773764181, 0.013151516482449613, 0.006246953586396771, 0.0027182576789819253, 0.0011498698880453822, 0.0008632509025576354, 0.0003637614217992623, 0.0006128970843529913, 0.0005803972054858438], [0.0, 0.008847261387500447, 0.07880315594148976, 0.1703463284641616, 0.2268721363013785, 0.2330373763056513, 0.11363172067056575, 0.0987997206716922, 0.03222056507831604, 0.017816921673533614, 0.009377782335725258, 0.0037052495421391906, 0.0026762791366170303, 0.0010197837736680318, 0.001476337393321498, 0.001369382584874174], [0.0, 0.002685191371489394, 0.03324053159067626, 0.09150669860123578, 0.16946791192021768, 0.23160490185990107, 0.14787952457929568, 0.16311105863513822, 0.06405190788988258, 0.03832248239965262, 0.027260363096770757, 0.011711874016879627, 0.007428831175816315, 0.003337827546882833, 0.004590722420193655, 0.003800172755991079], [0.0, 0.0015692061631893811, 0.013235720671945764, 0.044867665281709435, 0.10575820469310777, 0.19043707452728667, 0.15351289560497866, 0.20567359925965295, 0.09756886942799224, 0.06696502710486718, 0.05453786141366278, 0.024013646881516578, 0.01419585128556049, 0.00901711296545531, 0.010196699120871613, 0.008450566654274847], [0.0, 0.0008319451040875503, 0.0054028859073423224, 0.02206968606949538, 0.060099485560253366, 0.13251669779257305, 0.13297586454583196, 0.20523440172237328, 0.11691514539860286, 0.09420666008776457, 0.0927901552691547, 0.0459612534704224, 0.027904624855956656, 0.022225005492502305, 0.022723906940499285, 0.018142282370613227], [0.0, 0.00024480029129649174, 0.0029964380943135168, 0.012182024925244403, 0.03354463690336234, 0.08848403320771794, 0.10868688743040285, 0.18298076388921453, 0.12327701147515158, 0.11057236133406616, 0.11960073343861186, 0.06331397142748982, 0.04282322808871307, 0.03891508086719202, 0.03864650953281571, 0.033731517094033034], [0.0, null, null, null, null, null, null, null, null, null, null, null, null, null, null, null], [0.0, null, null, null, null, null, null, null, null, null, null, null, null, null, null, null], [0.0, null, null, null, null, null, null, null, null, null, null, null, null, null, null, null], [0.0, null, null, null, null, null, null, null, null, null, null, null, null, null, null, null], [0.0, null, null, null, null, null, null, null, null, null, null, null, null, null, null, null], [0.0, null, null, null, null, null, null, null, null, null, null, null, null, null, null, null]], \"colorscale\": \"Jet\"}], {\"height\": 500, \"plot_bgcolor\": \"#000\", \"font\": {\"color\": \"#FFF\"}, \"titlefont\": {\"color\": \"#FFF\"}, \"xaxis\": {\"tickcolor\": \"#FFF\", \"dtick\": 1, \"title\": \"Predicted Class\", \"range\": [0.5, 15.5]}, \"yaxis\": {\"tickcolor\": \"#FFF\", \"dtick\": 1, \"title\": \"True Class\", \"range\": [9.5, 0.5]}, \"width\": 500, \"paper_bgcolor\": \"#000\", \"title\": \"Confidence after 32000 Iterations at Glimpse 3\"}, {\"showLink\": true, \"linkText\": \"Export to plot.ly\"})});</script>"
      ]
     },
     "metadata": {},
     "output_type": "display_data"
    },
    {
     "data": {
      "application/vnd.plotly.v1+json": {
       "data": [
        {
         "colorscale": "Jet",
         "type": "heatmap",
         "z": [
          [
           0,
           0,
           0,
           0,
           0,
           0,
           0,
           0,
           0,
           0,
           0,
           0,
           0,
           0,
           0,
           0
          ],
          [
           0,
           0.9918009176702203,
           0.00787228494415871,
           0.00016339869281045753,
           0.00016339869281045753,
           0,
           0,
           0,
           0,
           0,
           0,
           0,
           0,
           0,
           0,
           0
          ],
          [
           0,
           0.40813890644942885,
           0.4982721213670784,
           0.08335519757093045,
           0.006538258192780612,
           0.002842817018819627,
           0.0005116872373227969,
           0,
           0,
           0.0003410121636393237,
           0,
           0,
           0,
           0,
           0,
           0
          ],
          [
           0,
           0.11443238756153853,
           0.43172874772719316,
           0.2953640573813601,
           0.09953074410460486,
           0.048873014534293456,
           0.007085863975961092,
           0.0011658879138256913,
           0.00033170780008416465,
           0.0011525806259295697,
           0,
           0,
           0,
           0.00016750418760469013,
           0.00016750418760469013,
           0
          ],
          [
           0,
           0.026405673916235894,
           0.19893601604505598,
           0.30527562062217584,
           0.23216902550767923,
           0.18244253000391847,
           0.029336903082313227,
           0.017386206746610594,
           0.0033687710436951955,
           0.0019977291645721968,
           0.0004923772308726215,
           0.0006640789976525759,
           0.0006711409395973154,
           0.0001694915254237288,
           0.0005202315617176968,
           0.00016420361247947455
          ],
          [
           0,
           0.0064794201696862395,
           0.06767275910559578,
           0.18595925323296875,
           0.24284016549519832,
           0.30346218244488027,
           0.0841290467929481,
           0.08713565492701605,
           0.009275448948304921,
           0.0054344942772151785,
           0.0035587486676678846,
           0.0013309428189108563,
           0.0015570934256055363,
           0,
           0.000492399565689468,
           0.0006723901283127162
          ],
          [
           0,
           0.001672318347841581,
           0.023449374893215854,
           0.08296533404935899,
           0.17089929185690375,
           0.31548788524622823,
           0.12833492840741062,
           0.2000031353945589,
           0.0316515668925547,
           0.015895745067274314,
           0.015104252553433737,
           0.004468245420068955,
           0.004926365239546834,
           0.0001639344262295082,
           0.0032289017252617805,
           0.001748720480112234
          ],
          [
           0,
           0.0016293408021251406,
           0.008038566730355497,
           0.034051572372700116,
           0.09065433467981358,
           0.24722523015750708,
           0.1424987144025059,
           0.28691265412904204,
           0.07299282001025306,
           0.04316669701094241,
           0.04008261791608324,
           0.011800145752061935,
           0.008262273555002895,
           0.0035988133789597804,
           0.004873683824243457,
           0.004212535278403944
          ],
          [
           0,
           0.0008544643776950359,
           0.002698045668878706,
           0.014071412473856692,
           0.040168915949274506,
           0.15959528415985938,
           0.11813428317504711,
           0.29974000779736676,
           0.10440142455237289,
           0.0755267956258086,
           0.09407271480646516,
           0.027226526457006232,
           0.023318641786052686,
           0.011406175845926117,
           0.018101212225142542,
           0.010684095099247684
          ],
          [
           0,
           0.00017006802721088434,
           0.0016840184349601907,
           0.006421693849228333,
           0.018938551447868126,
           0.093921405280817,
           0.09602436111008354,
           0.2547051438546428,
           0.12318280657740961,
           0.10756040704047638,
           0.1336335091051468,
           0.041401365805039725,
           0.039162730104533326,
           0.027698600729674533,
           0.03008077389860666,
           0.02541456473430211
          ],
          [
           0,
           null,
           null,
           null,
           null,
           null,
           null,
           null,
           null,
           null,
           null,
           null,
           null,
           null,
           null,
           null
          ],
          [
           0,
           null,
           null,
           null,
           null,
           null,
           null,
           null,
           null,
           null,
           null,
           null,
           null,
           null,
           null,
           null
          ],
          [
           0,
           null,
           null,
           null,
           null,
           null,
           null,
           null,
           null,
           null,
           null,
           null,
           null,
           null,
           null,
           null
          ],
          [
           0,
           null,
           null,
           null,
           null,
           null,
           null,
           null,
           null,
           null,
           null,
           null,
           null,
           null,
           null,
           null
          ],
          [
           0,
           null,
           null,
           null,
           null,
           null,
           null,
           null,
           null,
           null,
           null,
           null,
           null,
           null,
           null,
           null
          ],
          [
           0,
           null,
           null,
           null,
           null,
           null,
           null,
           null,
           null,
           null,
           null,
           null,
           null,
           null,
           null,
           null
          ]
         ]
        }
       ],
       "layout": {
        "font": {
         "color": "#FFF"
        },
        "height": 500,
        "paper_bgcolor": "#000",
        "plot_bgcolor": "#000",
        "title": "Choice after 32000 Iterations at Glimpse 3",
        "titlefont": {
         "color": "#FFF"
        },
        "width": 500,
        "xaxis": {
         "dtick": 1,
         "range": [
          0.5,
          15.5
         ],
         "tickcolor": "#FFF",
         "title": "Predicted Class"
        },
        "yaxis": {
         "dtick": 1,
         "range": [
          9.5,
          0.5
         ],
         "tickcolor": "#FFF",
         "title": "True Class"
        }
       }
      },
      "text/html": [
       "<div id=\"1cbc6254-96d4-41c0-b38f-9202c0035106\" style=\"height: 500px; width: 500px;\" class=\"plotly-graph-div\"></div><script type=\"text/javascript\">require([\"plotly\"], function(Plotly) { window.PLOTLYENV=window.PLOTLYENV || {};window.PLOTLYENV.BASE_URL=\"https://plot.ly\";Plotly.newPlot(\"1cbc6254-96d4-41c0-b38f-9202c0035106\", [{\"type\": \"heatmap\", \"z\": [[0.0, 0.0, 0.0, 0.0, 0.0, 0.0, 0.0, 0.0, 0.0, 0.0, 0.0, 0.0, 0.0, 0.0, 0.0, 0.0], [0.0, 0.9918009176702203, 0.00787228494415871, 0.00016339869281045753, 0.00016339869281045753, 0.0, 0.0, 0.0, 0.0, 0.0, 0.0, 0.0, 0.0, 0.0, 0.0, 0.0], [0.0, 0.40813890644942885, 0.4982721213670784, 0.08335519757093045, 0.006538258192780612, 0.002842817018819627, 0.0005116872373227969, 0.0, 0.0, 0.0003410121636393237, 0.0, 0.0, 0.0, 0.0, 0.0, 0.0], [0.0, 0.11443238756153853, 0.43172874772719316, 0.2953640573813601, 0.09953074410460486, 0.048873014534293456, 0.007085863975961092, 0.0011658879138256913, 0.00033170780008416465, 0.0011525806259295697, 0.0, 0.0, 0.0, 0.00016750418760469013, 0.00016750418760469013, 0.0], [0.0, 0.026405673916235894, 0.19893601604505598, 0.30527562062217584, 0.23216902550767923, 0.18244253000391847, 0.029336903082313227, 0.017386206746610594, 0.0033687710436951955, 0.0019977291645721968, 0.0004923772308726215, 0.0006640789976525759, 0.0006711409395973154, 0.0001694915254237288, 0.0005202315617176968, 0.00016420361247947455], [0.0, 0.0064794201696862395, 0.06767275910559578, 0.18595925323296875, 0.24284016549519832, 0.30346218244488027, 0.0841290467929481, 0.08713565492701605, 0.009275448948304921, 0.0054344942772151785, 0.0035587486676678846, 0.0013309428189108563, 0.0015570934256055363, 0.0, 0.000492399565689468, 0.0006723901283127162], [0.0, 0.001672318347841581, 0.023449374893215854, 0.08296533404935899, 0.17089929185690375, 0.31548788524622823, 0.12833492840741062, 0.2000031353945589, 0.0316515668925547, 0.015895745067274314, 0.015104252553433737, 0.004468245420068955, 0.004926365239546834, 0.0001639344262295082, 0.0032289017252617805, 0.001748720480112234], [0.0, 0.0016293408021251406, 0.008038566730355497, 0.034051572372700116, 0.09065433467981358, 0.24722523015750708, 0.1424987144025059, 0.28691265412904204, 0.07299282001025306, 0.04316669701094241, 0.04008261791608324, 0.011800145752061935, 0.008262273555002895, 0.0035988133789597804, 0.004873683824243457, 0.004212535278403944], [0.0, 0.0008544643776950359, 0.002698045668878706, 0.014071412473856692, 0.040168915949274506, 0.15959528415985938, 0.11813428317504711, 0.29974000779736676, 0.10440142455237289, 0.0755267956258086, 0.09407271480646516, 0.027226526457006232, 0.023318641786052686, 0.011406175845926117, 0.018101212225142542, 0.010684095099247684], [0.0, 0.00017006802721088434, 0.0016840184349601907, 0.006421693849228333, 0.018938551447868126, 0.093921405280817, 0.09602436111008354, 0.2547051438546428, 0.12318280657740961, 0.10756040704047638, 0.1336335091051468, 0.041401365805039725, 0.039162730104533326, 0.027698600729674533, 0.03008077389860666, 0.02541456473430211], [0.0, null, null, null, null, null, null, null, null, null, null, null, null, null, null, null], [0.0, null, null, null, null, null, null, null, null, null, null, null, null, null, null, null], [0.0, null, null, null, null, null, null, null, null, null, null, null, null, null, null, null], [0.0, null, null, null, null, null, null, null, null, null, null, null, null, null, null, null], [0.0, null, null, null, null, null, null, null, null, null, null, null, null, null, null, null], [0.0, null, null, null, null, null, null, null, null, null, null, null, null, null, null, null]], \"colorscale\": \"Jet\"}], {\"height\": 500, \"plot_bgcolor\": \"#000\", \"font\": {\"color\": \"#FFF\"}, \"titlefont\": {\"color\": \"#FFF\"}, \"xaxis\": {\"tickcolor\": \"#FFF\", \"dtick\": 1, \"title\": \"Predicted Class\", \"range\": [0.5, 15.5]}, \"yaxis\": {\"tickcolor\": \"#FFF\", \"dtick\": 1, \"title\": \"True Class\", \"range\": [9.5, 0.5]}, \"width\": 500, \"paper_bgcolor\": \"#000\", \"title\": \"Choice after 32000 Iterations at Glimpse 3\"}, {\"showLink\": true, \"linkText\": \"Export to plot.ly\"})});</script>"
      ],
      "text/vnd.plotly.v1+html": [
       "<div id=\"1cbc6254-96d4-41c0-b38f-9202c0035106\" style=\"height: 500px; width: 500px;\" class=\"plotly-graph-div\"></div><script type=\"text/javascript\">require([\"plotly\"], function(Plotly) { window.PLOTLYENV=window.PLOTLYENV || {};window.PLOTLYENV.BASE_URL=\"https://plot.ly\";Plotly.newPlot(\"1cbc6254-96d4-41c0-b38f-9202c0035106\", [{\"type\": \"heatmap\", \"z\": [[0.0, 0.0, 0.0, 0.0, 0.0, 0.0, 0.0, 0.0, 0.0, 0.0, 0.0, 0.0, 0.0, 0.0, 0.0, 0.0], [0.0, 0.9918009176702203, 0.00787228494415871, 0.00016339869281045753, 0.00016339869281045753, 0.0, 0.0, 0.0, 0.0, 0.0, 0.0, 0.0, 0.0, 0.0, 0.0, 0.0], [0.0, 0.40813890644942885, 0.4982721213670784, 0.08335519757093045, 0.006538258192780612, 0.002842817018819627, 0.0005116872373227969, 0.0, 0.0, 0.0003410121636393237, 0.0, 0.0, 0.0, 0.0, 0.0, 0.0], [0.0, 0.11443238756153853, 0.43172874772719316, 0.2953640573813601, 0.09953074410460486, 0.048873014534293456, 0.007085863975961092, 0.0011658879138256913, 0.00033170780008416465, 0.0011525806259295697, 0.0, 0.0, 0.0, 0.00016750418760469013, 0.00016750418760469013, 0.0], [0.0, 0.026405673916235894, 0.19893601604505598, 0.30527562062217584, 0.23216902550767923, 0.18244253000391847, 0.029336903082313227, 0.017386206746610594, 0.0033687710436951955, 0.0019977291645721968, 0.0004923772308726215, 0.0006640789976525759, 0.0006711409395973154, 0.0001694915254237288, 0.0005202315617176968, 0.00016420361247947455], [0.0, 0.0064794201696862395, 0.06767275910559578, 0.18595925323296875, 0.24284016549519832, 0.30346218244488027, 0.0841290467929481, 0.08713565492701605, 0.009275448948304921, 0.0054344942772151785, 0.0035587486676678846, 0.0013309428189108563, 0.0015570934256055363, 0.0, 0.000492399565689468, 0.0006723901283127162], [0.0, 0.001672318347841581, 0.023449374893215854, 0.08296533404935899, 0.17089929185690375, 0.31548788524622823, 0.12833492840741062, 0.2000031353945589, 0.0316515668925547, 0.015895745067274314, 0.015104252553433737, 0.004468245420068955, 0.004926365239546834, 0.0001639344262295082, 0.0032289017252617805, 0.001748720480112234], [0.0, 0.0016293408021251406, 0.008038566730355497, 0.034051572372700116, 0.09065433467981358, 0.24722523015750708, 0.1424987144025059, 0.28691265412904204, 0.07299282001025306, 0.04316669701094241, 0.04008261791608324, 0.011800145752061935, 0.008262273555002895, 0.0035988133789597804, 0.004873683824243457, 0.004212535278403944], [0.0, 0.0008544643776950359, 0.002698045668878706, 0.014071412473856692, 0.040168915949274506, 0.15959528415985938, 0.11813428317504711, 0.29974000779736676, 0.10440142455237289, 0.0755267956258086, 0.09407271480646516, 0.027226526457006232, 0.023318641786052686, 0.011406175845926117, 0.018101212225142542, 0.010684095099247684], [0.0, 0.00017006802721088434, 0.0016840184349601907, 0.006421693849228333, 0.018938551447868126, 0.093921405280817, 0.09602436111008354, 0.2547051438546428, 0.12318280657740961, 0.10756040704047638, 0.1336335091051468, 0.041401365805039725, 0.039162730104533326, 0.027698600729674533, 0.03008077389860666, 0.02541456473430211], [0.0, null, null, null, null, null, null, null, null, null, null, null, null, null, null, null], [0.0, null, null, null, null, null, null, null, null, null, null, null, null, null, null, null], [0.0, null, null, null, null, null, null, null, null, null, null, null, null, null, null, null], [0.0, null, null, null, null, null, null, null, null, null, null, null, null, null, null, null], [0.0, null, null, null, null, null, null, null, null, null, null, null, null, null, null, null], [0.0, null, null, null, null, null, null, null, null, null, null, null, null, null, null, null]], \"colorscale\": \"Jet\"}], {\"height\": 500, \"plot_bgcolor\": \"#000\", \"font\": {\"color\": \"#FFF\"}, \"titlefont\": {\"color\": \"#FFF\"}, \"xaxis\": {\"tickcolor\": \"#FFF\", \"dtick\": 1, \"title\": \"Predicted Class\", \"range\": [0.5, 15.5]}, \"yaxis\": {\"tickcolor\": \"#FFF\", \"dtick\": 1, \"title\": \"True Class\", \"range\": [9.5, 0.5]}, \"width\": 500, \"paper_bgcolor\": \"#000\", \"title\": \"Choice after 32000 Iterations at Glimpse 3\"}, {\"showLink\": true, \"linkText\": \"Export to plot.ly\"})});</script>"
      ]
     },
     "metadata": {},
     "output_type": "display_data"
    },
    {
     "data": {
      "application/vnd.plotly.v1+json": {
       "data": [
        {
         "colorscale": "Jet",
         "type": "heatmap",
         "z": [
          [
           0,
           0,
           0,
           0,
           0,
           0,
           0,
           0,
           0,
           0,
           0,
           0,
           0,
           0,
           0,
           0
          ],
          [
           0,
           0.9135998045678686,
           0.07413318881204503,
           0.011291790501786666,
           0.0008723626331566354,
           6.76513623282062e-05,
           7.951446901129581e-06,
           5.931717010251303e-07,
           5.266940600793582e-07,
           4.5385460136537906e-07,
           1.2912376404435644e-07,
           5.8589927842815764e-09,
           2.0014453049238732e-08,
           2.522825606294361e-05,
           3.5401640870135464e-09,
           2.9842925447337776e-07
          ],
          [
           0,
           0.28850623154081145,
           0.4964928467949063,
           0.1653073910547247,
           0.037370774650121355,
           0.010245080815193616,
           0.0015013928936207354,
           0.0003731575986934138,
           0.00012134550678433724,
           4.551273109730756e-05,
           2.213353942103389e-05,
           2.8037395372587738e-06,
           5.8405560282467345e-06,
           1.167955727367252e-06,
           2.611620229608478e-06,
           1.7147644940405422e-06
          ],
          [
           0,
           0.08478421714818628,
           0.36797489737612543,
           0.30865326770502016,
           0.14623885629010527,
           0.0660472349132303,
           0.015810237082163937,
           0.0071247787919826635,
           0.0019419103764226884,
           0.0006784476084312061,
           0.0003445769995086321,
           0.0001294310055402678,
           0.00016370838855454348,
           3.131020985548144e-05,
           3.9522888851475704e-05,
           3.760792067453465e-05
          ],
          [
           0,
           0.019116203456964343,
           0.18617528654204255,
           0.28399043040623956,
           0.23672745243358834,
           0.16392652899440144,
           0.0570405693979419,
           0.03474606531072898,
           0.010000402435314647,
           0.003759348835534046,
           0.0022957605785593324,
           0.0009012138180935816,
           0.0006242136286942657,
           0.00019522459072211765,
           0.0002755082866341309,
           0.00022579249125854046
          ],
          [
           0,
           0.0043544580388800115,
           0.07371713882371808,
           0.17660077703429514,
           0.23822373462828744,
           0.239236190999212,
           0.11308168051840069,
           0.09302812883757178,
           0.030028791237611745,
           0.013410985695931207,
           0.009893845044814255,
           0.003644022416878724,
           0.002023827236686649,
           0.0008691287719056991,
           0.0010353724644365538,
           0.0008519196032339288
          ],
          [
           0,
           0.00047021961488755566,
           0.02838965774071056,
           0.09020877791885096,
           0.17423205403482128,
           0.23847282658724325,
           0.14957635358444343,
           0.16324479999223804,
           0.06108756399420795,
           0.03501340204036556,
           0.032100511019596455,
           0.012134130362488723,
           0.006053351833149594,
           0.0034549869728281502,
           0.002812929818240737,
           0.0027484360449569756
          ],
          [
           0,
           0.00022495297929065724,
           0.010010150195217499,
           0.03780329548446162,
           0.1041368600240676,
           0.19161040230954118,
           0.1561121168374741,
           0.21040417490192906,
           0.0929118698080887,
           0.06465196799743875,
           0.06851681564669859,
           0.026743311850184682,
           0.013376090989682204,
           0.009736884335711099,
           0.006873759026569834,
           0.006887347666334902
          ],
          [
           0,
           0.0001777122574676692,
           0.003948438458071625,
           0.014940696705028237,
           0.054079502963356486,
           0.12776754567654608,
           0.12990061021521418,
           0.21387663732578094,
           0.11314784307991628,
           0.09439404987028853,
           0.11562476083688553,
           0.04915432698311019,
           0.02488712553722793,
           0.023534635656431754,
           0.016521846598312493,
           0.018044268928678837
          ],
          [
           0,
           2.2190484263112143e-06,
           0.0016921542836332878,
           0.0060877988077971444,
           0.027450761412024828,
           0.08091351480776368,
           0.0999149447866838,
           0.18918483642439315,
           0.11557219571160433,
           0.110388926725421,
           0.15157181011492268,
           0.07096039370587084,
           0.03867556688326851,
           0.04247794808578575,
           0.03006173642010338,
           0.03504519268867585
          ],
          [
           0,
           null,
           null,
           null,
           null,
           null,
           null,
           null,
           null,
           null,
           null,
           null,
           null,
           null,
           null,
           null
          ],
          [
           0,
           null,
           null,
           null,
           null,
           null,
           null,
           null,
           null,
           null,
           null,
           null,
           null,
           null,
           null,
           null
          ],
          [
           0,
           null,
           null,
           null,
           null,
           null,
           null,
           null,
           null,
           null,
           null,
           null,
           null,
           null,
           null,
           null
          ],
          [
           0,
           null,
           null,
           null,
           null,
           null,
           null,
           null,
           null,
           null,
           null,
           null,
           null,
           null,
           null,
           null
          ],
          [
           0,
           null,
           null,
           null,
           null,
           null,
           null,
           null,
           null,
           null,
           null,
           null,
           null,
           null,
           null,
           null
          ],
          [
           0,
           null,
           null,
           null,
           null,
           null,
           null,
           null,
           null,
           null,
           null,
           null,
           null,
           null,
           null,
           null
          ]
         ]
        }
       ],
       "layout": {
        "font": {
         "color": "#FFF"
        },
        "height": 500,
        "paper_bgcolor": "#000",
        "plot_bgcolor": "#000",
        "title": "Confidence after 32000 Iterations at Glimpse 9",
        "titlefont": {
         "color": "#FFF"
        },
        "width": 500,
        "xaxis": {
         "dtick": 1,
         "range": [
          0.5,
          15.5
         ],
         "tickcolor": "#FFF",
         "title": "Predicted Class"
        },
        "yaxis": {
         "dtick": 1,
         "range": [
          9.5,
          0.5
         ],
         "tickcolor": "#FFF",
         "title": "True Class"
        }
       }
      },
      "text/html": [
       "<div id=\"6c7b9af4-5712-4385-8cae-51bb211f2be8\" style=\"height: 500px; width: 500px;\" class=\"plotly-graph-div\"></div><script type=\"text/javascript\">require([\"plotly\"], function(Plotly) { window.PLOTLYENV=window.PLOTLYENV || {};window.PLOTLYENV.BASE_URL=\"https://plot.ly\";Plotly.newPlot(\"6c7b9af4-5712-4385-8cae-51bb211f2be8\", [{\"type\": \"heatmap\", \"z\": [[0.0, 0.0, 0.0, 0.0, 0.0, 0.0, 0.0, 0.0, 0.0, 0.0, 0.0, 0.0, 0.0, 0.0, 0.0, 0.0], [0.0, 0.9135998045678686, 0.07413318881204503, 0.011291790501786666, 0.0008723626331566354, 6.76513623282062e-05, 7.951446901129581e-06, 5.931717010251303e-07, 5.266940600793582e-07, 4.5385460136537906e-07, 1.2912376404435644e-07, 5.8589927842815764e-09, 2.0014453049238732e-08, 2.522825606294361e-05, 3.5401640870135464e-09, 2.9842925447337776e-07], [0.0, 0.28850623154081145, 0.4964928467949063, 0.1653073910547247, 0.037370774650121355, 0.010245080815193616, 0.0015013928936207354, 0.0003731575986934138, 0.00012134550678433724, 4.551273109730756e-05, 2.213353942103389e-05, 2.8037395372587738e-06, 5.8405560282467345e-06, 1.167955727367252e-06, 2.611620229608478e-06, 1.7147644940405422e-06], [0.0, 0.08478421714818628, 0.36797489737612543, 0.30865326770502016, 0.14623885629010527, 0.0660472349132303, 0.015810237082163937, 0.0071247787919826635, 0.0019419103764226884, 0.0006784476084312061, 0.0003445769995086321, 0.0001294310055402678, 0.00016370838855454348, 3.131020985548144e-05, 3.9522888851475704e-05, 3.760792067453465e-05], [0.0, 0.019116203456964343, 0.18617528654204255, 0.28399043040623956, 0.23672745243358834, 0.16392652899440144, 0.0570405693979419, 0.03474606531072898, 0.010000402435314647, 0.003759348835534046, 0.0022957605785593324, 0.0009012138180935816, 0.0006242136286942657, 0.00019522459072211765, 0.0002755082866341309, 0.00022579249125854046], [0.0, 0.0043544580388800115, 0.07371713882371808, 0.17660077703429514, 0.23822373462828744, 0.239236190999212, 0.11308168051840069, 0.09302812883757178, 0.030028791237611745, 0.013410985695931207, 0.009893845044814255, 0.003644022416878724, 0.002023827236686649, 0.0008691287719056991, 0.0010353724644365538, 0.0008519196032339288], [0.0, 0.00047021961488755566, 0.02838965774071056, 0.09020877791885096, 0.17423205403482128, 0.23847282658724325, 0.14957635358444343, 0.16324479999223804, 0.06108756399420795, 0.03501340204036556, 0.032100511019596455, 0.012134130362488723, 0.006053351833149594, 0.0034549869728281502, 0.002812929818240737, 0.0027484360449569756], [0.0, 0.00022495297929065724, 0.010010150195217499, 0.03780329548446162, 0.1041368600240676, 0.19161040230954118, 0.1561121168374741, 0.21040417490192906, 0.0929118698080887, 0.06465196799743875, 0.06851681564669859, 0.026743311850184682, 0.013376090989682204, 0.009736884335711099, 0.006873759026569834, 0.006887347666334902], [0.0, 0.0001777122574676692, 0.003948438458071625, 0.014940696705028237, 0.054079502963356486, 0.12776754567654608, 0.12990061021521418, 0.21387663732578094, 0.11314784307991628, 0.09439404987028853, 0.11562476083688553, 0.04915432698311019, 0.02488712553722793, 0.023534635656431754, 0.016521846598312493, 0.018044268928678837], [0.0, 2.2190484263112143e-06, 0.0016921542836332878, 0.0060877988077971444, 0.027450761412024828, 0.08091351480776368, 0.0999149447866838, 0.18918483642439315, 0.11557219571160433, 0.110388926725421, 0.15157181011492268, 0.07096039370587084, 0.03867556688326851, 0.04247794808578575, 0.03006173642010338, 0.03504519268867585], [0.0, null, null, null, null, null, null, null, null, null, null, null, null, null, null, null], [0.0, null, null, null, null, null, null, null, null, null, null, null, null, null, null, null], [0.0, null, null, null, null, null, null, null, null, null, null, null, null, null, null, null], [0.0, null, null, null, null, null, null, null, null, null, null, null, null, null, null, null], [0.0, null, null, null, null, null, null, null, null, null, null, null, null, null, null, null], [0.0, null, null, null, null, null, null, null, null, null, null, null, null, null, null, null]], \"colorscale\": \"Jet\"}], {\"height\": 500, \"plot_bgcolor\": \"#000\", \"font\": {\"color\": \"#FFF\"}, \"titlefont\": {\"color\": \"#FFF\"}, \"xaxis\": {\"tickcolor\": \"#FFF\", \"dtick\": 1, \"title\": \"Predicted Class\", \"range\": [0.5, 15.5]}, \"yaxis\": {\"tickcolor\": \"#FFF\", \"dtick\": 1, \"title\": \"True Class\", \"range\": [9.5, 0.5]}, \"width\": 500, \"paper_bgcolor\": \"#000\", \"title\": \"Confidence after 32000 Iterations at Glimpse 9\"}, {\"showLink\": true, \"linkText\": \"Export to plot.ly\"})});</script>"
      ],
      "text/vnd.plotly.v1+html": [
       "<div id=\"6c7b9af4-5712-4385-8cae-51bb211f2be8\" style=\"height: 500px; width: 500px;\" class=\"plotly-graph-div\"></div><script type=\"text/javascript\">require([\"plotly\"], function(Plotly) { window.PLOTLYENV=window.PLOTLYENV || {};window.PLOTLYENV.BASE_URL=\"https://plot.ly\";Plotly.newPlot(\"6c7b9af4-5712-4385-8cae-51bb211f2be8\", [{\"type\": \"heatmap\", \"z\": [[0.0, 0.0, 0.0, 0.0, 0.0, 0.0, 0.0, 0.0, 0.0, 0.0, 0.0, 0.0, 0.0, 0.0, 0.0, 0.0], [0.0, 0.9135998045678686, 0.07413318881204503, 0.011291790501786666, 0.0008723626331566354, 6.76513623282062e-05, 7.951446901129581e-06, 5.931717010251303e-07, 5.266940600793582e-07, 4.5385460136537906e-07, 1.2912376404435644e-07, 5.8589927842815764e-09, 2.0014453049238732e-08, 2.522825606294361e-05, 3.5401640870135464e-09, 2.9842925447337776e-07], [0.0, 0.28850623154081145, 0.4964928467949063, 0.1653073910547247, 0.037370774650121355, 0.010245080815193616, 0.0015013928936207354, 0.0003731575986934138, 0.00012134550678433724, 4.551273109730756e-05, 2.213353942103389e-05, 2.8037395372587738e-06, 5.8405560282467345e-06, 1.167955727367252e-06, 2.611620229608478e-06, 1.7147644940405422e-06], [0.0, 0.08478421714818628, 0.36797489737612543, 0.30865326770502016, 0.14623885629010527, 0.0660472349132303, 0.015810237082163937, 0.0071247787919826635, 0.0019419103764226884, 0.0006784476084312061, 0.0003445769995086321, 0.0001294310055402678, 0.00016370838855454348, 3.131020985548144e-05, 3.9522888851475704e-05, 3.760792067453465e-05], [0.0, 0.019116203456964343, 0.18617528654204255, 0.28399043040623956, 0.23672745243358834, 0.16392652899440144, 0.0570405693979419, 0.03474606531072898, 0.010000402435314647, 0.003759348835534046, 0.0022957605785593324, 0.0009012138180935816, 0.0006242136286942657, 0.00019522459072211765, 0.0002755082866341309, 0.00022579249125854046], [0.0, 0.0043544580388800115, 0.07371713882371808, 0.17660077703429514, 0.23822373462828744, 0.239236190999212, 0.11308168051840069, 0.09302812883757178, 0.030028791237611745, 0.013410985695931207, 0.009893845044814255, 0.003644022416878724, 0.002023827236686649, 0.0008691287719056991, 0.0010353724644365538, 0.0008519196032339288], [0.0, 0.00047021961488755566, 0.02838965774071056, 0.09020877791885096, 0.17423205403482128, 0.23847282658724325, 0.14957635358444343, 0.16324479999223804, 0.06108756399420795, 0.03501340204036556, 0.032100511019596455, 0.012134130362488723, 0.006053351833149594, 0.0034549869728281502, 0.002812929818240737, 0.0027484360449569756], [0.0, 0.00022495297929065724, 0.010010150195217499, 0.03780329548446162, 0.1041368600240676, 0.19161040230954118, 0.1561121168374741, 0.21040417490192906, 0.0929118698080887, 0.06465196799743875, 0.06851681564669859, 0.026743311850184682, 0.013376090989682204, 0.009736884335711099, 0.006873759026569834, 0.006887347666334902], [0.0, 0.0001777122574676692, 0.003948438458071625, 0.014940696705028237, 0.054079502963356486, 0.12776754567654608, 0.12990061021521418, 0.21387663732578094, 0.11314784307991628, 0.09439404987028853, 0.11562476083688553, 0.04915432698311019, 0.02488712553722793, 0.023534635656431754, 0.016521846598312493, 0.018044268928678837], [0.0, 2.2190484263112143e-06, 0.0016921542836332878, 0.0060877988077971444, 0.027450761412024828, 0.08091351480776368, 0.0999149447866838, 0.18918483642439315, 0.11557219571160433, 0.110388926725421, 0.15157181011492268, 0.07096039370587084, 0.03867556688326851, 0.04247794808578575, 0.03006173642010338, 0.03504519268867585], [0.0, null, null, null, null, null, null, null, null, null, null, null, null, null, null, null], [0.0, null, null, null, null, null, null, null, null, null, null, null, null, null, null, null], [0.0, null, null, null, null, null, null, null, null, null, null, null, null, null, null, null], [0.0, null, null, null, null, null, null, null, null, null, null, null, null, null, null, null], [0.0, null, null, null, null, null, null, null, null, null, null, null, null, null, null, null], [0.0, null, null, null, null, null, null, null, null, null, null, null, null, null, null, null]], \"colorscale\": \"Jet\"}], {\"height\": 500, \"plot_bgcolor\": \"#000\", \"font\": {\"color\": \"#FFF\"}, \"titlefont\": {\"color\": \"#FFF\"}, \"xaxis\": {\"tickcolor\": \"#FFF\", \"dtick\": 1, \"title\": \"Predicted Class\", \"range\": [0.5, 15.5]}, \"yaxis\": {\"tickcolor\": \"#FFF\", \"dtick\": 1, \"title\": \"True Class\", \"range\": [9.5, 0.5]}, \"width\": 500, \"paper_bgcolor\": \"#000\", \"title\": \"Confidence after 32000 Iterations at Glimpse 9\"}, {\"showLink\": true, \"linkText\": \"Export to plot.ly\"})});</script>"
      ]
     },
     "metadata": {},
     "output_type": "display_data"
    },
    {
     "data": {
      "application/vnd.plotly.v1+json": {
       "data": [
        {
         "colorscale": "Jet",
         "type": "heatmap",
         "z": [
          [
           0,
           0,
           0,
           0,
           0,
           0,
           0,
           0,
           0,
           0,
           0,
           0,
           0,
           0,
           0,
           0
          ],
          [
           0,
           0.9879810521759322,
           0.012018947824067717,
           0,
           0,
           0,
           0,
           0,
           0,
           0,
           0,
           0,
           0,
           0,
           0,
           0
          ],
          [
           0,
           0.30720600689798877,
           0.6036607895845835,
           0.0817771597613219,
           0.004538866111317091,
           0.0028171776447888076,
           0,
           0,
           0,
           0,
           0,
           0,
           0,
           0,
           0,
           0
          ],
          [
           0,
           0.09398261752123505,
           0.44514341598037294,
           0.3127799761704143,
           0.0983316601286632,
           0.04465536640732383,
           0.0036187142463577878,
           0.0013224120663626639,
           0,
           0,
           0,
           0,
           0.0001658374792703151,
           0,
           0,
           0
          ],
          [
           0,
           0.02035163692646725,
           0.1984166160446162,
           0.31010534066242884,
           0.24993789183053122,
           0.16742323840585624,
           0.03717990426683145,
           0.015405756347400379,
           0.0010118302809691729,
           0,
           0,
           0,
           0.00016778523489932885,
           0,
           0,
           0
          ],
          [
           0,
           0.004505286247806538,
           0.06369952635897436,
           0.17300019965567467,
           0.26869274323121617,
           0.3088284654600743,
           0.09371489155222204,
           0.07787479971893597,
           0.005977656791543826,
           0.0006661129568106312,
           0.0023551739280622853,
           0.00016611295681063124,
           0.000519031141868512,
           0,
           0,
           0
          ],
          [
           0,
           0.00017271157167530224,
           0.019245278839269367,
           0.06800078436244922,
           0.17960192341504563,
           0.32458941937521435,
           0.1576428304583493,
           0.1931554804675463,
           0.01863562551602247,
           0.0074432123670492446,
           0.02264946403885375,
           0.0037922140170927347,
           0.0037704918032786887,
           0.0001639344262295082,
           0.0004918032786885246,
           0.0006448260632355617
          ],
          [
           0,
           0.0001694915254237288,
           0.005532825237220575,
           0.021315725374660584,
           0.08748868565855902,
           0.2402558604040303,
           0.1730995599568022,
           0.30576798501198565,
           0.050757378443316306,
           0.024482681248162903,
           0.06820855623547735,
           0.009490743036010968,
           0.008295591880775947,
           0.001914540045553851,
           0.0011769491525423729,
           0.0020434267894782433
          ],
          [
           0,
           0.0001680672268907563,
           0.0008403361344537815,
           0.006865249411458098,
           0.034569585505774686,
           0.14168019484370706,
           0.13679794196590564,
           0.32116975275363113,
           0.08074929177963691,
           0.05823726510659681,
           0.14851732698200687,
           0.028696867253002512,
           0.016462080424890488,
           0.010639030438174074,
           0.004936915270238041,
           0.009670094903633094
          ],
          [
           0,
           0,
           0.0006666666666666668,
           0.0013499124484346158,
           0.01415399182240635,
           0.0727283785142537,
           0.09498150329074286,
           0.28344207331967053,
           0.09250002413856369,
           0.07747020260265106,
           0.20845280604999963,
           0.05243257907322483,
           0.029233668706398125,
           0.03243863674653491,
           0.015421204410546969,
           0.02472835220990603
          ],
          [
           0,
           null,
           null,
           null,
           null,
           null,
           null,
           null,
           null,
           null,
           null,
           null,
           null,
           null,
           null,
           null
          ],
          [
           0,
           null,
           null,
           null,
           null,
           null,
           null,
           null,
           null,
           null,
           null,
           null,
           null,
           null,
           null,
           null
          ],
          [
           0,
           null,
           null,
           null,
           null,
           null,
           null,
           null,
           null,
           null,
           null,
           null,
           null,
           null,
           null,
           null
          ],
          [
           0,
           null,
           null,
           null,
           null,
           null,
           null,
           null,
           null,
           null,
           null,
           null,
           null,
           null,
           null,
           null
          ],
          [
           0,
           null,
           null,
           null,
           null,
           null,
           null,
           null,
           null,
           null,
           null,
           null,
           null,
           null,
           null,
           null
          ],
          [
           0,
           null,
           null,
           null,
           null,
           null,
           null,
           null,
           null,
           null,
           null,
           null,
           null,
           null,
           null,
           null
          ]
         ]
        }
       ],
       "layout": {
        "font": {
         "color": "#FFF"
        },
        "height": 500,
        "paper_bgcolor": "#000",
        "plot_bgcolor": "#000",
        "title": "Choice after 32000 Iterations at Glimpse 9",
        "titlefont": {
         "color": "#FFF"
        },
        "width": 500,
        "xaxis": {
         "dtick": 1,
         "range": [
          0.5,
          15.5
         ],
         "tickcolor": "#FFF",
         "title": "Predicted Class"
        },
        "yaxis": {
         "dtick": 1,
         "range": [
          9.5,
          0.5
         ],
         "tickcolor": "#FFF",
         "title": "True Class"
        }
       }
      },
      "text/html": [
       "<div id=\"1db44da8-e396-4d23-899b-36dd0435a4ff\" style=\"height: 500px; width: 500px;\" class=\"plotly-graph-div\"></div><script type=\"text/javascript\">require([\"plotly\"], function(Plotly) { window.PLOTLYENV=window.PLOTLYENV || {};window.PLOTLYENV.BASE_URL=\"https://plot.ly\";Plotly.newPlot(\"1db44da8-e396-4d23-899b-36dd0435a4ff\", [{\"type\": \"heatmap\", \"z\": [[0.0, 0.0, 0.0, 0.0, 0.0, 0.0, 0.0, 0.0, 0.0, 0.0, 0.0, 0.0, 0.0, 0.0, 0.0, 0.0], [0.0, 0.9879810521759322, 0.012018947824067717, 0.0, 0.0, 0.0, 0.0, 0.0, 0.0, 0.0, 0.0, 0.0, 0.0, 0.0, 0.0, 0.0], [0.0, 0.30720600689798877, 0.6036607895845835, 0.0817771597613219, 0.004538866111317091, 0.0028171776447888076, 0.0, 0.0, 0.0, 0.0, 0.0, 0.0, 0.0, 0.0, 0.0, 0.0], [0.0, 0.09398261752123505, 0.44514341598037294, 0.3127799761704143, 0.0983316601286632, 0.04465536640732383, 0.0036187142463577878, 0.0013224120663626639, 0.0, 0.0, 0.0, 0.0, 0.0001658374792703151, 0.0, 0.0, 0.0], [0.0, 0.02035163692646725, 0.1984166160446162, 0.31010534066242884, 0.24993789183053122, 0.16742323840585624, 0.03717990426683145, 0.015405756347400379, 0.0010118302809691729, 0.0, 0.0, 0.0, 0.00016778523489932885, 0.0, 0.0, 0.0], [0.0, 0.004505286247806538, 0.06369952635897436, 0.17300019965567467, 0.26869274323121617, 0.3088284654600743, 0.09371489155222204, 0.07787479971893597, 0.005977656791543826, 0.0006661129568106312, 0.0023551739280622853, 0.00016611295681063124, 0.000519031141868512, 0.0, 0.0, 0.0], [0.0, 0.00017271157167530224, 0.019245278839269367, 0.06800078436244922, 0.17960192341504563, 0.32458941937521435, 0.1576428304583493, 0.1931554804675463, 0.01863562551602247, 0.0074432123670492446, 0.02264946403885375, 0.0037922140170927347, 0.0037704918032786887, 0.0001639344262295082, 0.0004918032786885246, 0.0006448260632355617], [0.0, 0.0001694915254237288, 0.005532825237220575, 0.021315725374660584, 0.08748868565855902, 0.2402558604040303, 0.1730995599568022, 0.30576798501198565, 0.050757378443316306, 0.024482681248162903, 0.06820855623547735, 0.009490743036010968, 0.008295591880775947, 0.001914540045553851, 0.0011769491525423729, 0.0020434267894782433], [0.0, 0.0001680672268907563, 0.0008403361344537815, 0.006865249411458098, 0.034569585505774686, 0.14168019484370706, 0.13679794196590564, 0.32116975275363113, 0.08074929177963691, 0.05823726510659681, 0.14851732698200687, 0.028696867253002512, 0.016462080424890488, 0.010639030438174074, 0.004936915270238041, 0.009670094903633094], [0.0, 0.0, 0.0006666666666666668, 0.0013499124484346158, 0.01415399182240635, 0.0727283785142537, 0.09498150329074286, 0.28344207331967053, 0.09250002413856369, 0.07747020260265106, 0.20845280604999963, 0.05243257907322483, 0.029233668706398125, 0.03243863674653491, 0.015421204410546969, 0.02472835220990603], [0.0, null, null, null, null, null, null, null, null, null, null, null, null, null, null, null], [0.0, null, null, null, null, null, null, null, null, null, null, null, null, null, null, null], [0.0, null, null, null, null, null, null, null, null, null, null, null, null, null, null, null], [0.0, null, null, null, null, null, null, null, null, null, null, null, null, null, null, null], [0.0, null, null, null, null, null, null, null, null, null, null, null, null, null, null, null], [0.0, null, null, null, null, null, null, null, null, null, null, null, null, null, null, null]], \"colorscale\": \"Jet\"}], {\"height\": 500, \"plot_bgcolor\": \"#000\", \"font\": {\"color\": \"#FFF\"}, \"titlefont\": {\"color\": \"#FFF\"}, \"xaxis\": {\"tickcolor\": \"#FFF\", \"dtick\": 1, \"title\": \"Predicted Class\", \"range\": [0.5, 15.5]}, \"yaxis\": {\"tickcolor\": \"#FFF\", \"dtick\": 1, \"title\": \"True Class\", \"range\": [9.5, 0.5]}, \"width\": 500, \"paper_bgcolor\": \"#000\", \"title\": \"Choice after 32000 Iterations at Glimpse 9\"}, {\"showLink\": true, \"linkText\": \"Export to plot.ly\"})});</script>"
      ],
      "text/vnd.plotly.v1+html": [
       "<div id=\"1db44da8-e396-4d23-899b-36dd0435a4ff\" style=\"height: 500px; width: 500px;\" class=\"plotly-graph-div\"></div><script type=\"text/javascript\">require([\"plotly\"], function(Plotly) { window.PLOTLYENV=window.PLOTLYENV || {};window.PLOTLYENV.BASE_URL=\"https://plot.ly\";Plotly.newPlot(\"1db44da8-e396-4d23-899b-36dd0435a4ff\", [{\"type\": \"heatmap\", \"z\": [[0.0, 0.0, 0.0, 0.0, 0.0, 0.0, 0.0, 0.0, 0.0, 0.0, 0.0, 0.0, 0.0, 0.0, 0.0, 0.0], [0.0, 0.9879810521759322, 0.012018947824067717, 0.0, 0.0, 0.0, 0.0, 0.0, 0.0, 0.0, 0.0, 0.0, 0.0, 0.0, 0.0, 0.0], [0.0, 0.30720600689798877, 0.6036607895845835, 0.0817771597613219, 0.004538866111317091, 0.0028171776447888076, 0.0, 0.0, 0.0, 0.0, 0.0, 0.0, 0.0, 0.0, 0.0, 0.0], [0.0, 0.09398261752123505, 0.44514341598037294, 0.3127799761704143, 0.0983316601286632, 0.04465536640732383, 0.0036187142463577878, 0.0013224120663626639, 0.0, 0.0, 0.0, 0.0, 0.0001658374792703151, 0.0, 0.0, 0.0], [0.0, 0.02035163692646725, 0.1984166160446162, 0.31010534066242884, 0.24993789183053122, 0.16742323840585624, 0.03717990426683145, 0.015405756347400379, 0.0010118302809691729, 0.0, 0.0, 0.0, 0.00016778523489932885, 0.0, 0.0, 0.0], [0.0, 0.004505286247806538, 0.06369952635897436, 0.17300019965567467, 0.26869274323121617, 0.3088284654600743, 0.09371489155222204, 0.07787479971893597, 0.005977656791543826, 0.0006661129568106312, 0.0023551739280622853, 0.00016611295681063124, 0.000519031141868512, 0.0, 0.0, 0.0], [0.0, 0.00017271157167530224, 0.019245278839269367, 0.06800078436244922, 0.17960192341504563, 0.32458941937521435, 0.1576428304583493, 0.1931554804675463, 0.01863562551602247, 0.0074432123670492446, 0.02264946403885375, 0.0037922140170927347, 0.0037704918032786887, 0.0001639344262295082, 0.0004918032786885246, 0.0006448260632355617], [0.0, 0.0001694915254237288, 0.005532825237220575, 0.021315725374660584, 0.08748868565855902, 0.2402558604040303, 0.1730995599568022, 0.30576798501198565, 0.050757378443316306, 0.024482681248162903, 0.06820855623547735, 0.009490743036010968, 0.008295591880775947, 0.001914540045553851, 0.0011769491525423729, 0.0020434267894782433], [0.0, 0.0001680672268907563, 0.0008403361344537815, 0.006865249411458098, 0.034569585505774686, 0.14168019484370706, 0.13679794196590564, 0.32116975275363113, 0.08074929177963691, 0.05823726510659681, 0.14851732698200687, 0.028696867253002512, 0.016462080424890488, 0.010639030438174074, 0.004936915270238041, 0.009670094903633094], [0.0, 0.0, 0.0006666666666666668, 0.0013499124484346158, 0.01415399182240635, 0.0727283785142537, 0.09498150329074286, 0.28344207331967053, 0.09250002413856369, 0.07747020260265106, 0.20845280604999963, 0.05243257907322483, 0.029233668706398125, 0.03243863674653491, 0.015421204410546969, 0.02472835220990603], [0.0, null, null, null, null, null, null, null, null, null, null, null, null, null, null, null], [0.0, null, null, null, null, null, null, null, null, null, null, null, null, null, null, null], [0.0, null, null, null, null, null, null, null, null, null, null, null, null, null, null, null], [0.0, null, null, null, null, null, null, null, null, null, null, null, null, null, null, null], [0.0, null, null, null, null, null, null, null, null, null, null, null, null, null, null, null], [0.0, null, null, null, null, null, null, null, null, null, null, null, null, null, null, null]], \"colorscale\": \"Jet\"}], {\"height\": 500, \"plot_bgcolor\": \"#000\", \"font\": {\"color\": \"#FFF\"}, \"titlefont\": {\"color\": \"#FFF\"}, \"xaxis\": {\"tickcolor\": \"#FFF\", \"dtick\": 1, \"title\": \"Predicted Class\", \"range\": [0.5, 15.5]}, \"yaxis\": {\"tickcolor\": \"#FFF\", \"dtick\": 1, \"title\": \"True Class\", \"range\": [9.5, 0.5]}, \"width\": 500, \"paper_bgcolor\": \"#000\", \"title\": \"Choice after 32000 Iterations at Glimpse 9\"}, {\"showLink\": true, \"linkText\": \"Export to plot.ly\"})});</script>"
      ]
     },
     "metadata": {},
     "output_type": "display_data"
    },
    {
     "data": {
      "application/vnd.plotly.v1+json": {
       "data": [
        {
         "colorscale": "Jet",
         "type": "heatmap",
         "z": [
          [
           0,
           0,
           0,
           0,
           0,
           0,
           0,
           0,
           0,
           0,
           0,
           0,
           0,
           0,
           0,
           0
          ],
          [
           0,
           0.8618418854581839,
           0.08125263912057104,
           0.025948789869041543,
           0.01116869409274714,
           0.006558667827689398,
           0.0038428294931784936,
           0.002301981843421776,
           0.0018013341371802103,
           0.0014218012208610038,
           0.0010849110305542024,
           0.0007631974468317994,
           0.0005449360422723413,
           0.0006282428839209529,
           0.00047986300078335187,
           0.00036023136528540964
          ],
          [
           0,
           0.32705228715442636,
           0.4725376489426976,
           0.13185121146968656,
           0.03145134408386953,
           0.0136104581577236,
           0.0069644564391285555,
           0.004288462928635274,
           0.0033071249591260093,
           0.002390066111749646,
           0.0017816200630031726,
           0.0013751007289729712,
           0.0010781519678042732,
           0.0008793286860811994,
           0.0007598193108498647,
           0.0006729200403794989
          ],
          [
           0,
           0.21633000465313765,
           0.28837549498815424,
           0.2753204772260316,
           0.11624065509431145,
           0.05462485578200747,
           0.019685229341553385,
           0.00887315408121892,
           0.006094906821599437,
           0.004325802124235381,
           0.0026210372987311346,
           0.0021373338003155004,
           0.0016888697662963026,
           0.001250263969575462,
           0.0011027566113890864,
           0.0013291554882198973
          ],
          [
           0,
           0.18233420854242424,
           0.13902968825177978,
           0.23916242768263576,
           0.18077308528942831,
           0.13886614534432712,
           0.054925327212428446,
           0.0252657543311468,
           0.014569320094275964,
           0.008692171195392052,
           0.0038318853290714534,
           0.004036766570662308,
           0.0030952109767253683,
           0.0020240813953464575,
           0.0016265237608939827,
           0.0017674013942012765
          ],
          [
           0,
           0.16108247432324257,
           0.08623299643293844,
           0.14258169341054666,
           0.16707428919437975,
           0.19932397795372042,
           0.10051467554768127,
           0.05944439391805889,
           0.036781653809745345,
           0.02079875137893668,
           0.008177756862569607,
           0.006019546490065841,
           0.00453085264740718,
           0.002854655860137348,
           0.0020655447870261056,
           0.0025167342365613726
          ],
          [
           0,
           0.14273379445534298,
           0.07263123367554838,
           0.08622808526394318,
           0.11466046345905345,
           0.1938871036928905,
           0.12766160260554543,
           0.10031223263566884,
           0.06619608887269893,
           0.04384902908983432,
           0.01894172166329694,
           0.012106610793072991,
           0.009003590901331451,
           0.005010604824090903,
           0.0031319063188522144,
           0.0036459307817165907
          ],
          [
           0,
           0.12797148525429733,
           0.06581415864790914,
           0.06030891862544154,
           0.07407077545985605,
           0.15179649745466556,
           0.12399768119103301,
           0.1274697718277436,
           0.09475476206922684,
           0.07517533777741428,
           0.037765948738372815,
           0.024062995751769213,
           0.015611320537198718,
           0.01012546295670927,
           0.00592072444087324,
           0.0051541573985328165
          ],
          [
           0,
           0.11575848179901645,
           0.05901048056929877,
           0.04866880901480798,
           0.050105507473450606,
           0.10544410655904919,
           0.10174244613980606,
           0.12640348042627172,
           0.11119792439005276,
           0.10548402043780472,
           0.06562656824943769,
           0.041674045179910746,
           0.025314317397880464,
           0.02252796735304439,
           0.011519370769841651,
           0.009522473475332329
          ],
          [
           0,
           0.10594999048612433,
           0.05484746567857207,
           0.043843921914356945,
           0.039037001198697546,
           0.07259928864580692,
           0.07552100379449112,
           0.10692790896714414,
           0.11239475435655377,
           0.11966068757846789,
           0.08892179770086676,
           0.06214260808615931,
           0.03796042908585558,
           0.040015423552745746,
           0.023834805576064214,
           0.01634291238053385
          ],
          [
           0,
           null,
           null,
           null,
           null,
           null,
           null,
           null,
           null,
           null,
           null,
           null,
           null,
           null,
           null,
           null
          ],
          [
           0,
           null,
           null,
           null,
           null,
           null,
           null,
           null,
           null,
           null,
           null,
           null,
           null,
           null,
           null,
           null
          ],
          [
           0,
           null,
           null,
           null,
           null,
           null,
           null,
           null,
           null,
           null,
           null,
           null,
           null,
           null,
           null,
           null
          ],
          [
           0,
           null,
           null,
           null,
           null,
           null,
           null,
           null,
           null,
           null,
           null,
           null,
           null,
           null,
           null,
           null
          ],
          [
           0,
           null,
           null,
           null,
           null,
           null,
           null,
           null,
           null,
           null,
           null,
           null,
           null,
           null,
           null,
           null
          ],
          [
           0,
           null,
           null,
           null,
           null,
           null,
           null,
           null,
           null,
           null,
           null,
           null,
           null,
           null,
           null,
           null
          ]
         ]
        }
       ],
       "layout": {
        "font": {
         "color": "#FFF"
        },
        "height": 500,
        "paper_bgcolor": "#000",
        "plot_bgcolor": "#000",
        "title": "Confidence after 64000 Iterations at Glimpse 0",
        "titlefont": {
         "color": "#FFF"
        },
        "width": 500,
        "xaxis": {
         "dtick": 1,
         "range": [
          0.5,
          15.5
         ],
         "tickcolor": "#FFF",
         "title": "Predicted Class"
        },
        "yaxis": {
         "dtick": 1,
         "range": [
          9.5,
          0.5
         ],
         "tickcolor": "#FFF",
         "title": "True Class"
        }
       }
      },
      "text/html": [
       "<div id=\"e6c8d508-560f-4187-ad34-5991ed7db0c0\" style=\"height: 500px; width: 500px;\" class=\"plotly-graph-div\"></div><script type=\"text/javascript\">require([\"plotly\"], function(Plotly) { window.PLOTLYENV=window.PLOTLYENV || {};window.PLOTLYENV.BASE_URL=\"https://plot.ly\";Plotly.newPlot(\"e6c8d508-560f-4187-ad34-5991ed7db0c0\", [{\"type\": \"heatmap\", \"z\": [[0.0, 0.0, 0.0, 0.0, 0.0, 0.0, 0.0, 0.0, 0.0, 0.0, 0.0, 0.0, 0.0, 0.0, 0.0, 0.0], [0.0, 0.8618418854581839, 0.08125263912057104, 0.025948789869041543, 0.01116869409274714, 0.006558667827689398, 0.0038428294931784936, 0.002301981843421776, 0.0018013341371802103, 0.0014218012208610038, 0.0010849110305542024, 0.0007631974468317994, 0.0005449360422723413, 0.0006282428839209529, 0.00047986300078335187, 0.00036023136528540964], [0.0, 0.32705228715442636, 0.4725376489426976, 0.13185121146968656, 0.03145134408386953, 0.0136104581577236, 0.0069644564391285555, 0.004288462928635274, 0.0033071249591260093, 0.002390066111749646, 0.0017816200630031726, 0.0013751007289729712, 0.0010781519678042732, 0.0008793286860811994, 0.0007598193108498647, 0.0006729200403794989], [0.0, 0.21633000465313765, 0.28837549498815424, 0.2753204772260316, 0.11624065509431145, 0.05462485578200747, 0.019685229341553385, 0.00887315408121892, 0.006094906821599437, 0.004325802124235381, 0.0026210372987311346, 0.0021373338003155004, 0.0016888697662963026, 0.001250263969575462, 0.0011027566113890864, 0.0013291554882198973], [0.0, 0.18233420854242424, 0.13902968825177978, 0.23916242768263576, 0.18077308528942831, 0.13886614534432712, 0.054925327212428446, 0.0252657543311468, 0.014569320094275964, 0.008692171195392052, 0.0038318853290714534, 0.004036766570662308, 0.0030952109767253683, 0.0020240813953464575, 0.0016265237608939827, 0.0017674013942012765], [0.0, 0.16108247432324257, 0.08623299643293844, 0.14258169341054666, 0.16707428919437975, 0.19932397795372042, 0.10051467554768127, 0.05944439391805889, 0.036781653809745345, 0.02079875137893668, 0.008177756862569607, 0.006019546490065841, 0.00453085264740718, 0.002854655860137348, 0.0020655447870261056, 0.0025167342365613726], [0.0, 0.14273379445534298, 0.07263123367554838, 0.08622808526394318, 0.11466046345905345, 0.1938871036928905, 0.12766160260554543, 0.10031223263566884, 0.06619608887269893, 0.04384902908983432, 0.01894172166329694, 0.012106610793072991, 0.009003590901331451, 0.005010604824090903, 0.0031319063188522144, 0.0036459307817165907], [0.0, 0.12797148525429733, 0.06581415864790914, 0.06030891862544154, 0.07407077545985605, 0.15179649745466556, 0.12399768119103301, 0.1274697718277436, 0.09475476206922684, 0.07517533777741428, 0.037765948738372815, 0.024062995751769213, 0.015611320537198718, 0.01012546295670927, 0.00592072444087324, 0.0051541573985328165], [0.0, 0.11575848179901645, 0.05901048056929877, 0.04866880901480798, 0.050105507473450606, 0.10544410655904919, 0.10174244613980606, 0.12640348042627172, 0.11119792439005276, 0.10548402043780472, 0.06562656824943769, 0.041674045179910746, 0.025314317397880464, 0.02252796735304439, 0.011519370769841651, 0.009522473475332329], [0.0, 0.10594999048612433, 0.05484746567857207, 0.043843921914356945, 0.039037001198697546, 0.07259928864580692, 0.07552100379449112, 0.10692790896714414, 0.11239475435655377, 0.11966068757846789, 0.08892179770086676, 0.06214260808615931, 0.03796042908585558, 0.040015423552745746, 0.023834805576064214, 0.01634291238053385], [0.0, null, null, null, null, null, null, null, null, null, null, null, null, null, null, null], [0.0, null, null, null, null, null, null, null, null, null, null, null, null, null, null, null], [0.0, null, null, null, null, null, null, null, null, null, null, null, null, null, null, null], [0.0, null, null, null, null, null, null, null, null, null, null, null, null, null, null, null], [0.0, null, null, null, null, null, null, null, null, null, null, null, null, null, null, null], [0.0, null, null, null, null, null, null, null, null, null, null, null, null, null, null, null]], \"colorscale\": \"Jet\"}], {\"height\": 500, \"plot_bgcolor\": \"#000\", \"font\": {\"color\": \"#FFF\"}, \"titlefont\": {\"color\": \"#FFF\"}, \"xaxis\": {\"tickcolor\": \"#FFF\", \"dtick\": 1, \"title\": \"Predicted Class\", \"range\": [0.5, 15.5]}, \"yaxis\": {\"tickcolor\": \"#FFF\", \"dtick\": 1, \"title\": \"True Class\", \"range\": [9.5, 0.5]}, \"width\": 500, \"paper_bgcolor\": \"#000\", \"title\": \"Confidence after 64000 Iterations at Glimpse 0\"}, {\"showLink\": true, \"linkText\": \"Export to plot.ly\"})});</script>"
      ],
      "text/vnd.plotly.v1+html": [
       "<div id=\"e6c8d508-560f-4187-ad34-5991ed7db0c0\" style=\"height: 500px; width: 500px;\" class=\"plotly-graph-div\"></div><script type=\"text/javascript\">require([\"plotly\"], function(Plotly) { window.PLOTLYENV=window.PLOTLYENV || {};window.PLOTLYENV.BASE_URL=\"https://plot.ly\";Plotly.newPlot(\"e6c8d508-560f-4187-ad34-5991ed7db0c0\", [{\"type\": \"heatmap\", \"z\": [[0.0, 0.0, 0.0, 0.0, 0.0, 0.0, 0.0, 0.0, 0.0, 0.0, 0.0, 0.0, 0.0, 0.0, 0.0, 0.0], [0.0, 0.8618418854581839, 0.08125263912057104, 0.025948789869041543, 0.01116869409274714, 0.006558667827689398, 0.0038428294931784936, 0.002301981843421776, 0.0018013341371802103, 0.0014218012208610038, 0.0010849110305542024, 0.0007631974468317994, 0.0005449360422723413, 0.0006282428839209529, 0.00047986300078335187, 0.00036023136528540964], [0.0, 0.32705228715442636, 0.4725376489426976, 0.13185121146968656, 0.03145134408386953, 0.0136104581577236, 0.0069644564391285555, 0.004288462928635274, 0.0033071249591260093, 0.002390066111749646, 0.0017816200630031726, 0.0013751007289729712, 0.0010781519678042732, 0.0008793286860811994, 0.0007598193108498647, 0.0006729200403794989], [0.0, 0.21633000465313765, 0.28837549498815424, 0.2753204772260316, 0.11624065509431145, 0.05462485578200747, 0.019685229341553385, 0.00887315408121892, 0.006094906821599437, 0.004325802124235381, 0.0026210372987311346, 0.0021373338003155004, 0.0016888697662963026, 0.001250263969575462, 0.0011027566113890864, 0.0013291554882198973], [0.0, 0.18233420854242424, 0.13902968825177978, 0.23916242768263576, 0.18077308528942831, 0.13886614534432712, 0.054925327212428446, 0.0252657543311468, 0.014569320094275964, 0.008692171195392052, 0.0038318853290714534, 0.004036766570662308, 0.0030952109767253683, 0.0020240813953464575, 0.0016265237608939827, 0.0017674013942012765], [0.0, 0.16108247432324257, 0.08623299643293844, 0.14258169341054666, 0.16707428919437975, 0.19932397795372042, 0.10051467554768127, 0.05944439391805889, 0.036781653809745345, 0.02079875137893668, 0.008177756862569607, 0.006019546490065841, 0.00453085264740718, 0.002854655860137348, 0.0020655447870261056, 0.0025167342365613726], [0.0, 0.14273379445534298, 0.07263123367554838, 0.08622808526394318, 0.11466046345905345, 0.1938871036928905, 0.12766160260554543, 0.10031223263566884, 0.06619608887269893, 0.04384902908983432, 0.01894172166329694, 0.012106610793072991, 0.009003590901331451, 0.005010604824090903, 0.0031319063188522144, 0.0036459307817165907], [0.0, 0.12797148525429733, 0.06581415864790914, 0.06030891862544154, 0.07407077545985605, 0.15179649745466556, 0.12399768119103301, 0.1274697718277436, 0.09475476206922684, 0.07517533777741428, 0.037765948738372815, 0.024062995751769213, 0.015611320537198718, 0.01012546295670927, 0.00592072444087324, 0.0051541573985328165], [0.0, 0.11575848179901645, 0.05901048056929877, 0.04866880901480798, 0.050105507473450606, 0.10544410655904919, 0.10174244613980606, 0.12640348042627172, 0.11119792439005276, 0.10548402043780472, 0.06562656824943769, 0.041674045179910746, 0.025314317397880464, 0.02252796735304439, 0.011519370769841651, 0.009522473475332329], [0.0, 0.10594999048612433, 0.05484746567857207, 0.043843921914356945, 0.039037001198697546, 0.07259928864580692, 0.07552100379449112, 0.10692790896714414, 0.11239475435655377, 0.11966068757846789, 0.08892179770086676, 0.06214260808615931, 0.03796042908585558, 0.040015423552745746, 0.023834805576064214, 0.01634291238053385], [0.0, null, null, null, null, null, null, null, null, null, null, null, null, null, null, null], [0.0, null, null, null, null, null, null, null, null, null, null, null, null, null, null, null], [0.0, null, null, null, null, null, null, null, null, null, null, null, null, null, null, null], [0.0, null, null, null, null, null, null, null, null, null, null, null, null, null, null, null], [0.0, null, null, null, null, null, null, null, null, null, null, null, null, null, null, null], [0.0, null, null, null, null, null, null, null, null, null, null, null, null, null, null, null]], \"colorscale\": \"Jet\"}], {\"height\": 500, \"plot_bgcolor\": \"#000\", \"font\": {\"color\": \"#FFF\"}, \"titlefont\": {\"color\": \"#FFF\"}, \"xaxis\": {\"tickcolor\": \"#FFF\", \"dtick\": 1, \"title\": \"Predicted Class\", \"range\": [0.5, 15.5]}, \"yaxis\": {\"tickcolor\": \"#FFF\", \"dtick\": 1, \"title\": \"True Class\", \"range\": [9.5, 0.5]}, \"width\": 500, \"paper_bgcolor\": \"#000\", \"title\": \"Confidence after 64000 Iterations at Glimpse 0\"}, {\"showLink\": true, \"linkText\": \"Export to plot.ly\"})});</script>"
      ]
     },
     "metadata": {},
     "output_type": "display_data"
    },
    {
     "data": {
      "application/vnd.plotly.v1+json": {
       "data": [
        {
         "colorscale": "Jet",
         "type": "heatmap",
         "z": [
          [
           0,
           0,
           0,
           0,
           0,
           0,
           0,
           0,
           0,
           0,
           0,
           0,
           0,
           0,
           0,
           0
          ],
          [
           0,
           0.9979874977500385,
           0.0018463892931510086,
           0,
           0.00016611295681063124,
           0,
           0,
           0,
           0,
           0,
           0,
           0,
           0,
           0,
           0,
           0
          ],
          [
           0,
           0.448190132158136,
           0.4923584089324498,
           0.05459444255347997,
           0.0025173629446535993,
           0.0008370280200574025,
           0.0005028310420691735,
           0.00016556291390728477,
           0.00033419697798822907,
           0.00016863406408094435,
           0.0001658374792703151,
           0,
           0.00016556291390728477,
           0,
           0,
           0
          ],
          [
           0,
           0.3497396888542026,
           0.25361245233956164,
           0.30497140667419204,
           0.05972945842197499,
           0.025614301758716707,
           0.0029936109745374085,
           0.0013339065762878425,
           0.0005019834398957181,
           0.0005047988265468438,
           0.0001658374792703151,
           0.0003350422170029716,
           0.0001658374792703151,
           0,
           0,
           0.0003316749585406302
          ],
          [
           0,
           0.3085018096610297,
           0.08568417787540782,
           0.27753234320651055,
           0.1498655285857402,
           0.14282392848312914,
           0.017066554248979716,
           0.008692536483756263,
           0.0040623051257298445,
           0.0026485211644093182,
           0.0003252032520325203,
           0.0013213536199196488,
           0.0006497650016149824,
           0.00032899097709779095,
           0.00016420361247947455,
           0.00033277870216306157
          ],
          [
           0,
           0.2719350643963593,
           0.047630525667891485,
           0.13664329294550367,
           0.14378137305241528,
           0.27081420045653715,
           0.05756230181377375,
           0.03694526273259503,
           0.018659020616334752,
           0.008833087893858362,
           0.002504826784629612,
           0.0016674611178949424,
           0.0015051842638323302,
           0.00017123287671232877,
           0.0003276023052899321,
           0.0010195630763721012
          ],
          [
           0,
           0.25037895214839717,
           0.04165363605312922,
           0.07484390456665369,
           0.07220278549956534,
           0.27905895163037087,
           0.0953544693576694,
           0.08685938040070382,
           0.057253860138021806,
           0.025200888998029886,
           0.007496546843390478,
           0.002667872048936212,
           0.004682646826371682,
           0.0010045382805244235,
           0.00017064846416382253,
           0.0011709187440720962
          ],
          [
           0,
           0.2252010530419423,
           0.04088854006511825,
           0.052271619065479946,
           0.03626063190708822,
           0.19912677636347317,
           0.10200925297576798,
           0.13925941405808928,
           0.09317962532442486,
           0.06461881649355863,
           0.024496055116310943,
           0.010487934928746757,
           0.008202098646720422,
           0.002156868362346002,
           0.000847011205184599,
           0.0009943024457486147
          ],
          [
           0,
           0.20882372439909638,
           0.03290336589341798,
           0.04633964587360669,
           0.024042010704537438,
           0.11909067179786534,
           0.07543652866132446,
           0.14424348699917525,
           0.12597489322739347,
           0.11097287063825452,
           0.05802405660540148,
           0.021624632940757085,
           0.010747350594577874,
           0.014037452629693489,
           0.003685289217700242,
           0.004054019817198318
          ],
          [
           0,
           0.1939888060876725,
           0.0321781252329653,
           0.03924190246415975,
           0.019308860426193036,
           0.07011108202700903,
           0.046942269712194354,
           0.11362031405968087,
           0.1385857405419299,
           0.13454998421752806,
           0.09179726828866733,
           0.04440186172796576,
           0.02125558756417849,
           0.0308607247428929,
           0.01575171876803454,
           0.007405754138928214
          ],
          [
           0,
           null,
           null,
           null,
           null,
           null,
           null,
           null,
           null,
           null,
           null,
           null,
           null,
           null,
           null,
           null
          ],
          [
           0,
           null,
           null,
           null,
           null,
           null,
           null,
           null,
           null,
           null,
           null,
           null,
           null,
           null,
           null,
           null
          ],
          [
           0,
           null,
           null,
           null,
           null,
           null,
           null,
           null,
           null,
           null,
           null,
           null,
           null,
           null,
           null,
           null
          ],
          [
           0,
           null,
           null,
           null,
           null,
           null,
           null,
           null,
           null,
           null,
           null,
           null,
           null,
           null,
           null,
           null
          ],
          [
           0,
           null,
           null,
           null,
           null,
           null,
           null,
           null,
           null,
           null,
           null,
           null,
           null,
           null,
           null,
           null
          ],
          [
           0,
           null,
           null,
           null,
           null,
           null,
           null,
           null,
           null,
           null,
           null,
           null,
           null,
           null,
           null,
           null
          ]
         ]
        }
       ],
       "layout": {
        "font": {
         "color": "#FFF"
        },
        "height": 500,
        "paper_bgcolor": "#000",
        "plot_bgcolor": "#000",
        "title": "Choice after 64000 Iterations at Glimpse 0",
        "titlefont": {
         "color": "#FFF"
        },
        "width": 500,
        "xaxis": {
         "dtick": 1,
         "range": [
          0.5,
          15.5
         ],
         "tickcolor": "#FFF",
         "title": "Predicted Class"
        },
        "yaxis": {
         "dtick": 1,
         "range": [
          9.5,
          0.5
         ],
         "tickcolor": "#FFF",
         "title": "True Class"
        }
       }
      },
      "text/html": [
       "<div id=\"049bda94-512a-43e2-982a-12fcb49080b3\" style=\"height: 500px; width: 500px;\" class=\"plotly-graph-div\"></div><script type=\"text/javascript\">require([\"plotly\"], function(Plotly) { window.PLOTLYENV=window.PLOTLYENV || {};window.PLOTLYENV.BASE_URL=\"https://plot.ly\";Plotly.newPlot(\"049bda94-512a-43e2-982a-12fcb49080b3\", [{\"type\": \"heatmap\", \"z\": [[0.0, 0.0, 0.0, 0.0, 0.0, 0.0, 0.0, 0.0, 0.0, 0.0, 0.0, 0.0, 0.0, 0.0, 0.0, 0.0], [0.0, 0.9979874977500385, 0.0018463892931510086, 0.0, 0.00016611295681063124, 0.0, 0.0, 0.0, 0.0, 0.0, 0.0, 0.0, 0.0, 0.0, 0.0, 0.0], [0.0, 0.448190132158136, 0.4923584089324498, 0.05459444255347997, 0.0025173629446535993, 0.0008370280200574025, 0.0005028310420691735, 0.00016556291390728477, 0.00033419697798822907, 0.00016863406408094435, 0.0001658374792703151, 0.0, 0.00016556291390728477, 0.0, 0.0, 0.0], [0.0, 0.3497396888542026, 0.25361245233956164, 0.30497140667419204, 0.05972945842197499, 0.025614301758716707, 0.0029936109745374085, 0.0013339065762878425, 0.0005019834398957181, 0.0005047988265468438, 0.0001658374792703151, 0.0003350422170029716, 0.0001658374792703151, 0.0, 0.0, 0.0003316749585406302], [0.0, 0.3085018096610297, 0.08568417787540782, 0.27753234320651055, 0.1498655285857402, 0.14282392848312914, 0.017066554248979716, 0.008692536483756263, 0.0040623051257298445, 0.0026485211644093182, 0.0003252032520325203, 0.0013213536199196488, 0.0006497650016149824, 0.00032899097709779095, 0.00016420361247947455, 0.00033277870216306157], [0.0, 0.2719350643963593, 0.047630525667891485, 0.13664329294550367, 0.14378137305241528, 0.27081420045653715, 0.05756230181377375, 0.03694526273259503, 0.018659020616334752, 0.008833087893858362, 0.002504826784629612, 0.0016674611178949424, 0.0015051842638323302, 0.00017123287671232877, 0.0003276023052899321, 0.0010195630763721012], [0.0, 0.25037895214839717, 0.04165363605312922, 0.07484390456665369, 0.07220278549956534, 0.27905895163037087, 0.0953544693576694, 0.08685938040070382, 0.057253860138021806, 0.025200888998029886, 0.007496546843390478, 0.002667872048936212, 0.004682646826371682, 0.0010045382805244235, 0.00017064846416382253, 0.0011709187440720962], [0.0, 0.2252010530419423, 0.04088854006511825, 0.052271619065479946, 0.03626063190708822, 0.19912677636347317, 0.10200925297576798, 0.13925941405808928, 0.09317962532442486, 0.06461881649355863, 0.024496055116310943, 0.010487934928746757, 0.008202098646720422, 0.002156868362346002, 0.000847011205184599, 0.0009943024457486147], [0.0, 0.20882372439909638, 0.03290336589341798, 0.04633964587360669, 0.024042010704537438, 0.11909067179786534, 0.07543652866132446, 0.14424348699917525, 0.12597489322739347, 0.11097287063825452, 0.05802405660540148, 0.021624632940757085, 0.010747350594577874, 0.014037452629693489, 0.003685289217700242, 0.004054019817198318], [0.0, 0.1939888060876725, 0.0321781252329653, 0.03924190246415975, 0.019308860426193036, 0.07011108202700903, 0.046942269712194354, 0.11362031405968087, 0.1385857405419299, 0.13454998421752806, 0.09179726828866733, 0.04440186172796576, 0.02125558756417849, 0.0308607247428929, 0.01575171876803454, 0.007405754138928214], [0.0, null, null, null, null, null, null, null, null, null, null, null, null, null, null, null], [0.0, null, null, null, null, null, null, null, null, null, null, null, null, null, null, null], [0.0, null, null, null, null, null, null, null, null, null, null, null, null, null, null, null], [0.0, null, null, null, null, null, null, null, null, null, null, null, null, null, null, null], [0.0, null, null, null, null, null, null, null, null, null, null, null, null, null, null, null], [0.0, null, null, null, null, null, null, null, null, null, null, null, null, null, null, null]], \"colorscale\": \"Jet\"}], {\"height\": 500, \"plot_bgcolor\": \"#000\", \"font\": {\"color\": \"#FFF\"}, \"titlefont\": {\"color\": \"#FFF\"}, \"xaxis\": {\"tickcolor\": \"#FFF\", \"dtick\": 1, \"title\": \"Predicted Class\", \"range\": [0.5, 15.5]}, \"yaxis\": {\"tickcolor\": \"#FFF\", \"dtick\": 1, \"title\": \"True Class\", \"range\": [9.5, 0.5]}, \"width\": 500, \"paper_bgcolor\": \"#000\", \"title\": \"Choice after 64000 Iterations at Glimpse 0\"}, {\"showLink\": true, \"linkText\": \"Export to plot.ly\"})});</script>"
      ],
      "text/vnd.plotly.v1+html": [
       "<div id=\"049bda94-512a-43e2-982a-12fcb49080b3\" style=\"height: 500px; width: 500px;\" class=\"plotly-graph-div\"></div><script type=\"text/javascript\">require([\"plotly\"], function(Plotly) { window.PLOTLYENV=window.PLOTLYENV || {};window.PLOTLYENV.BASE_URL=\"https://plot.ly\";Plotly.newPlot(\"049bda94-512a-43e2-982a-12fcb49080b3\", [{\"type\": \"heatmap\", \"z\": [[0.0, 0.0, 0.0, 0.0, 0.0, 0.0, 0.0, 0.0, 0.0, 0.0, 0.0, 0.0, 0.0, 0.0, 0.0, 0.0], [0.0, 0.9979874977500385, 0.0018463892931510086, 0.0, 0.00016611295681063124, 0.0, 0.0, 0.0, 0.0, 0.0, 0.0, 0.0, 0.0, 0.0, 0.0, 0.0], [0.0, 0.448190132158136, 0.4923584089324498, 0.05459444255347997, 0.0025173629446535993, 0.0008370280200574025, 0.0005028310420691735, 0.00016556291390728477, 0.00033419697798822907, 0.00016863406408094435, 0.0001658374792703151, 0.0, 0.00016556291390728477, 0.0, 0.0, 0.0], [0.0, 0.3497396888542026, 0.25361245233956164, 0.30497140667419204, 0.05972945842197499, 0.025614301758716707, 0.0029936109745374085, 0.0013339065762878425, 0.0005019834398957181, 0.0005047988265468438, 0.0001658374792703151, 0.0003350422170029716, 0.0001658374792703151, 0.0, 0.0, 0.0003316749585406302], [0.0, 0.3085018096610297, 0.08568417787540782, 0.27753234320651055, 0.1498655285857402, 0.14282392848312914, 0.017066554248979716, 0.008692536483756263, 0.0040623051257298445, 0.0026485211644093182, 0.0003252032520325203, 0.0013213536199196488, 0.0006497650016149824, 0.00032899097709779095, 0.00016420361247947455, 0.00033277870216306157], [0.0, 0.2719350643963593, 0.047630525667891485, 0.13664329294550367, 0.14378137305241528, 0.27081420045653715, 0.05756230181377375, 0.03694526273259503, 0.018659020616334752, 0.008833087893858362, 0.002504826784629612, 0.0016674611178949424, 0.0015051842638323302, 0.00017123287671232877, 0.0003276023052899321, 0.0010195630763721012], [0.0, 0.25037895214839717, 0.04165363605312922, 0.07484390456665369, 0.07220278549956534, 0.27905895163037087, 0.0953544693576694, 0.08685938040070382, 0.057253860138021806, 0.025200888998029886, 0.007496546843390478, 0.002667872048936212, 0.004682646826371682, 0.0010045382805244235, 0.00017064846416382253, 0.0011709187440720962], [0.0, 0.2252010530419423, 0.04088854006511825, 0.052271619065479946, 0.03626063190708822, 0.19912677636347317, 0.10200925297576798, 0.13925941405808928, 0.09317962532442486, 0.06461881649355863, 0.024496055116310943, 0.010487934928746757, 0.008202098646720422, 0.002156868362346002, 0.000847011205184599, 0.0009943024457486147], [0.0, 0.20882372439909638, 0.03290336589341798, 0.04633964587360669, 0.024042010704537438, 0.11909067179786534, 0.07543652866132446, 0.14424348699917525, 0.12597489322739347, 0.11097287063825452, 0.05802405660540148, 0.021624632940757085, 0.010747350594577874, 0.014037452629693489, 0.003685289217700242, 0.004054019817198318], [0.0, 0.1939888060876725, 0.0321781252329653, 0.03924190246415975, 0.019308860426193036, 0.07011108202700903, 0.046942269712194354, 0.11362031405968087, 0.1385857405419299, 0.13454998421752806, 0.09179726828866733, 0.04440186172796576, 0.02125558756417849, 0.0308607247428929, 0.01575171876803454, 0.007405754138928214], [0.0, null, null, null, null, null, null, null, null, null, null, null, null, null, null, null], [0.0, null, null, null, null, null, null, null, null, null, null, null, null, null, null, null], [0.0, null, null, null, null, null, null, null, null, null, null, null, null, null, null, null], [0.0, null, null, null, null, null, null, null, null, null, null, null, null, null, null, null], [0.0, null, null, null, null, null, null, null, null, null, null, null, null, null, null, null], [0.0, null, null, null, null, null, null, null, null, null, null, null, null, null, null, null]], \"colorscale\": \"Jet\"}], {\"height\": 500, \"plot_bgcolor\": \"#000\", \"font\": {\"color\": \"#FFF\"}, \"titlefont\": {\"color\": \"#FFF\"}, \"xaxis\": {\"tickcolor\": \"#FFF\", \"dtick\": 1, \"title\": \"Predicted Class\", \"range\": [0.5, 15.5]}, \"yaxis\": {\"tickcolor\": \"#FFF\", \"dtick\": 1, \"title\": \"True Class\", \"range\": [9.5, 0.5]}, \"width\": 500, \"paper_bgcolor\": \"#000\", \"title\": \"Choice after 64000 Iterations at Glimpse 0\"}, {\"showLink\": true, \"linkText\": \"Export to plot.ly\"})});</script>"
      ]
     },
     "metadata": {},
     "output_type": "display_data"
    },
    {
     "data": {
      "application/vnd.plotly.v1+json": {
       "data": [
        {
         "colorscale": "Jet",
         "type": "heatmap",
         "z": [
          [
           0,
           0,
           0,
           0,
           0,
           0,
           0,
           0,
           0,
           0,
           0,
           0,
           0,
           0,
           0,
           0
          ],
          [
           0,
           0.9428066199679002,
           0.04796058448016112,
           0.008332579441573767,
           0.0008278543712790284,
           6.091663715586895e-05,
           3.450677767595541e-06,
           1.1449406596061965e-06,
           4.4035190168906804e-07,
           1.0874588789948883e-08,
           5.994427383119446e-08,
           9.24600180176782e-09,
           6.735167857134403e-11,
           6.290398065957753e-10,
           2.5735997620727716e-08,
           6.308831604400842e-06
          ],
          [
           0,
           0.17466220719420547,
           0.6223235137937028,
           0.16982277887183989,
           0.025460646345288485,
           0.006655799225523734,
           0.0008932478414097339,
           0.00014095405066923456,
           2.7713884383393043e-05,
           1.0298816990221447e-05,
           1.517993141666448e-06,
           7.409106203580677e-07,
           4.391602832046096e-07,
           4.0277598353415646e-08,
           7.967906828350504e-08,
           2.5960180774954573e-08
          ],
          [
           0,
           0.05036665969698895,
           0.3289949885756246,
           0.39269912692815157,
           0.1363211515562501,
           0.07192288683636647,
           0.014167967357920535,
           0.0035529868554769273,
           0.0011245050954672327,
           0.0004943238488568719,
           0.00012711413969704641,
           6.826600415600174e-05,
           7.005305890864574e-05,
           5.8251472546866886e-05,
           1.3183785697578446e-05,
           1.8536874164816075e-05
          ],
          [
           0,
           0.011133784037039069,
           0.1269594362855209,
           0.3287185709446362,
           0.225897451210177,
           0.20802182657411597,
           0.0609574132599087,
           0.022999784851814843,
           0.009983284145203589,
           0.0033367711995670028,
           0.0009439220623356214,
           0.0005060410231918546,
           0.0001228638535469087,
           0.00023694896162033494,
           8.434268380613018e-05,
           9.756308973017574e-05
          ],
          [
           0,
           0.0020784213566099876,
           0.04395357149838276,
           0.17548783717355232,
           0.20677503838513783,
           0.30148848278234547,
           0.13263866534242336,
           0.07203527248863137,
           0.040747639876839055,
           0.015387321577932342,
           0.0061232922912886865,
           0.0019822424426398358,
           0.000751604927639476,
           0.000298756350116955,
           0.0001750578649936342,
           7.679889660391354e-05
          ],
          [
           0,
           7.461752408910262e-05,
           0.013515371271612819,
           0.07872193466536455,
           0.13605718789142712,
           0.28106598031247965,
           0.1773702850883556,
           0.13549242093860236,
           0.09466970543196977,
           0.04648893282260944,
           0.021939999794808825,
           0.007853406867572587,
           0.0041393193827641795,
           0.0014229400862061981,
           0.0008133790903812402,
           0.00037452077971760584
          ],
          [
           0,
           1.403247728985118e-06,
           0.004211810280316562,
           0.03269201347790176,
           0.07276418174698081,
           0.19928676323504185,
           0.17431425359871458,
           0.17584242403014108,
           0.150606101070148,
           0.09342215561643809,
           0.05452140738861472,
           0.021420679134651448,
           0.011765537046185472,
           0.004911428505495667,
           0.0029683864195843763,
           0.0012714543970708723
          ],
          [
           0,
           5.014804467087159e-05,
           0.0010346142644778139,
           0.011628074300737022,
           0.033431064917891,
           0.10940249322730458,
           0.13343117651859976,
           0.17370236767259353,
           0.18602523684918676,
           0.14511342133938226,
           0.10255198372348831,
           0.0462037454693708,
           0.029152585877453147,
           0.01486226503952862,
           0.009105108232760954,
           0.004305713604154714
          ],
          [
           0,
           3.974310630810264e-08,
           0.00038559681922778244,
           0.005206870803160209,
           0.01629068988433891,
           0.05932394457380623,
           0.08742303408607704,
           0.13788537204216972,
           0.18442579068708656,
           0.1675642189395637,
           0.14199259020787638,
           0.07849475641512083,
           0.05347500126681605,
           0.03257928056597714,
           0.023565096011870533,
           0.01138771823839497
          ],
          [
           0,
           null,
           null,
           null,
           null,
           null,
           null,
           null,
           null,
           null,
           null,
           null,
           null,
           null,
           null,
           null
          ],
          [
           0,
           null,
           null,
           null,
           null,
           null,
           null,
           null,
           null,
           null,
           null,
           null,
           null,
           null,
           null,
           null
          ],
          [
           0,
           null,
           null,
           null,
           null,
           null,
           null,
           null,
           null,
           null,
           null,
           null,
           null,
           null,
           null,
           null
          ],
          [
           0,
           null,
           null,
           null,
           null,
           null,
           null,
           null,
           null,
           null,
           null,
           null,
           null,
           null,
           null,
           null
          ],
          [
           0,
           null,
           null,
           null,
           null,
           null,
           null,
           null,
           null,
           null,
           null,
           null,
           null,
           null,
           null,
           null
          ],
          [
           0,
           null,
           null,
           null,
           null,
           null,
           null,
           null,
           null,
           null,
           null,
           null,
           null,
           null,
           null,
           null
          ]
         ]
        }
       ],
       "layout": {
        "font": {
         "color": "#FFF"
        },
        "height": 500,
        "paper_bgcolor": "#000",
        "plot_bgcolor": "#000",
        "title": "Confidence after 64000 Iterations at Glimpse 3",
        "titlefont": {
         "color": "#FFF"
        },
        "width": 500,
        "xaxis": {
         "dtick": 1,
         "range": [
          0.5,
          15.5
         ],
         "tickcolor": "#FFF",
         "title": "Predicted Class"
        },
        "yaxis": {
         "dtick": 1,
         "range": [
          9.5,
          0.5
         ],
         "tickcolor": "#FFF",
         "title": "True Class"
        }
       }
      },
      "text/html": [
       "<div id=\"2c751503-94cd-4ea6-b101-e7efc29a4a45\" style=\"height: 500px; width: 500px;\" class=\"plotly-graph-div\"></div><script type=\"text/javascript\">require([\"plotly\"], function(Plotly) { window.PLOTLYENV=window.PLOTLYENV || {};window.PLOTLYENV.BASE_URL=\"https://plot.ly\";Plotly.newPlot(\"2c751503-94cd-4ea6-b101-e7efc29a4a45\", [{\"type\": \"heatmap\", \"z\": [[0.0, 0.0, 0.0, 0.0, 0.0, 0.0, 0.0, 0.0, 0.0, 0.0, 0.0, 0.0, 0.0, 0.0, 0.0, 0.0], [0.0, 0.9428066199679002, 0.04796058448016112, 0.008332579441573767, 0.0008278543712790284, 6.091663715586895e-05, 3.450677767595541e-06, 1.1449406596061965e-06, 4.4035190168906804e-07, 1.0874588789948883e-08, 5.994427383119446e-08, 9.24600180176782e-09, 6.735167857134403e-11, 6.290398065957753e-10, 2.5735997620727716e-08, 6.308831604400842e-06], [0.0, 0.17466220719420547, 0.6223235137937028, 0.16982277887183989, 0.025460646345288485, 0.006655799225523734, 0.0008932478414097339, 0.00014095405066923456, 2.7713884383393043e-05, 1.0298816990221447e-05, 1.517993141666448e-06, 7.409106203580677e-07, 4.391602832046096e-07, 4.0277598353415646e-08, 7.967906828350504e-08, 2.5960180774954573e-08], [0.0, 0.05036665969698895, 0.3289949885756246, 0.39269912692815157, 0.1363211515562501, 0.07192288683636647, 0.014167967357920535, 0.0035529868554769273, 0.0011245050954672327, 0.0004943238488568719, 0.00012711413969704641, 6.826600415600174e-05, 7.005305890864574e-05, 5.8251472546866886e-05, 1.3183785697578446e-05, 1.8536874164816075e-05], [0.0, 0.011133784037039069, 0.1269594362855209, 0.3287185709446362, 0.225897451210177, 0.20802182657411597, 0.0609574132599087, 0.022999784851814843, 0.009983284145203589, 0.0033367711995670028, 0.0009439220623356214, 0.0005060410231918546, 0.0001228638535469087, 0.00023694896162033494, 8.434268380613018e-05, 9.756308973017574e-05], [0.0, 0.0020784213566099876, 0.04395357149838276, 0.17548783717355232, 0.20677503838513783, 0.30148848278234547, 0.13263866534242336, 0.07203527248863137, 0.040747639876839055, 0.015387321577932342, 0.0061232922912886865, 0.0019822424426398358, 0.000751604927639476, 0.000298756350116955, 0.0001750578649936342, 7.679889660391354e-05], [0.0, 7.461752408910262e-05, 0.013515371271612819, 0.07872193466536455, 0.13605718789142712, 0.28106598031247965, 0.1773702850883556, 0.13549242093860236, 0.09466970543196977, 0.04648893282260944, 0.021939999794808825, 0.007853406867572587, 0.0041393193827641795, 0.0014229400862061981, 0.0008133790903812402, 0.00037452077971760584], [0.0, 1.403247728985118e-06, 0.004211810280316562, 0.03269201347790176, 0.07276418174698081, 0.19928676323504185, 0.17431425359871458, 0.17584242403014108, 0.150606101070148, 0.09342215561643809, 0.05452140738861472, 0.021420679134651448, 0.011765537046185472, 0.004911428505495667, 0.0029683864195843763, 0.0012714543970708723], [0.0, 5.014804467087159e-05, 0.0010346142644778139, 0.011628074300737022, 0.033431064917891, 0.10940249322730458, 0.13343117651859976, 0.17370236767259353, 0.18602523684918676, 0.14511342133938226, 0.10255198372348831, 0.0462037454693708, 0.029152585877453147, 0.01486226503952862, 0.009105108232760954, 0.004305713604154714], [0.0, 3.974310630810264e-08, 0.00038559681922778244, 0.005206870803160209, 0.01629068988433891, 0.05932394457380623, 0.08742303408607704, 0.13788537204216972, 0.18442579068708656, 0.1675642189395637, 0.14199259020787638, 0.07849475641512083, 0.05347500126681605, 0.03257928056597714, 0.023565096011870533, 0.01138771823839497], [0.0, null, null, null, null, null, null, null, null, null, null, null, null, null, null, null], [0.0, null, null, null, null, null, null, null, null, null, null, null, null, null, null, null], [0.0, null, null, null, null, null, null, null, null, null, null, null, null, null, null, null], [0.0, null, null, null, null, null, null, null, null, null, null, null, null, null, null, null], [0.0, null, null, null, null, null, null, null, null, null, null, null, null, null, null, null], [0.0, null, null, null, null, null, null, null, null, null, null, null, null, null, null, null]], \"colorscale\": \"Jet\"}], {\"height\": 500, \"plot_bgcolor\": \"#000\", \"font\": {\"color\": \"#FFF\"}, \"titlefont\": {\"color\": \"#FFF\"}, \"xaxis\": {\"tickcolor\": \"#FFF\", \"dtick\": 1, \"title\": \"Predicted Class\", \"range\": [0.5, 15.5]}, \"yaxis\": {\"tickcolor\": \"#FFF\", \"dtick\": 1, \"title\": \"True Class\", \"range\": [9.5, 0.5]}, \"width\": 500, \"paper_bgcolor\": \"#000\", \"title\": \"Confidence after 64000 Iterations at Glimpse 3\"}, {\"showLink\": true, \"linkText\": \"Export to plot.ly\"})});</script>"
      ],
      "text/vnd.plotly.v1+html": [
       "<div id=\"2c751503-94cd-4ea6-b101-e7efc29a4a45\" style=\"height: 500px; width: 500px;\" class=\"plotly-graph-div\"></div><script type=\"text/javascript\">require([\"plotly\"], function(Plotly) { window.PLOTLYENV=window.PLOTLYENV || {};window.PLOTLYENV.BASE_URL=\"https://plot.ly\";Plotly.newPlot(\"2c751503-94cd-4ea6-b101-e7efc29a4a45\", [{\"type\": \"heatmap\", \"z\": [[0.0, 0.0, 0.0, 0.0, 0.0, 0.0, 0.0, 0.0, 0.0, 0.0, 0.0, 0.0, 0.0, 0.0, 0.0, 0.0], [0.0, 0.9428066199679002, 0.04796058448016112, 0.008332579441573767, 0.0008278543712790284, 6.091663715586895e-05, 3.450677767595541e-06, 1.1449406596061965e-06, 4.4035190168906804e-07, 1.0874588789948883e-08, 5.994427383119446e-08, 9.24600180176782e-09, 6.735167857134403e-11, 6.290398065957753e-10, 2.5735997620727716e-08, 6.308831604400842e-06], [0.0, 0.17466220719420547, 0.6223235137937028, 0.16982277887183989, 0.025460646345288485, 0.006655799225523734, 0.0008932478414097339, 0.00014095405066923456, 2.7713884383393043e-05, 1.0298816990221447e-05, 1.517993141666448e-06, 7.409106203580677e-07, 4.391602832046096e-07, 4.0277598353415646e-08, 7.967906828350504e-08, 2.5960180774954573e-08], [0.0, 0.05036665969698895, 0.3289949885756246, 0.39269912692815157, 0.1363211515562501, 0.07192288683636647, 0.014167967357920535, 0.0035529868554769273, 0.0011245050954672327, 0.0004943238488568719, 0.00012711413969704641, 6.826600415600174e-05, 7.005305890864574e-05, 5.8251472546866886e-05, 1.3183785697578446e-05, 1.8536874164816075e-05], [0.0, 0.011133784037039069, 0.1269594362855209, 0.3287185709446362, 0.225897451210177, 0.20802182657411597, 0.0609574132599087, 0.022999784851814843, 0.009983284145203589, 0.0033367711995670028, 0.0009439220623356214, 0.0005060410231918546, 0.0001228638535469087, 0.00023694896162033494, 8.434268380613018e-05, 9.756308973017574e-05], [0.0, 0.0020784213566099876, 0.04395357149838276, 0.17548783717355232, 0.20677503838513783, 0.30148848278234547, 0.13263866534242336, 0.07203527248863137, 0.040747639876839055, 0.015387321577932342, 0.0061232922912886865, 0.0019822424426398358, 0.000751604927639476, 0.000298756350116955, 0.0001750578649936342, 7.679889660391354e-05], [0.0, 7.461752408910262e-05, 0.013515371271612819, 0.07872193466536455, 0.13605718789142712, 0.28106598031247965, 0.1773702850883556, 0.13549242093860236, 0.09466970543196977, 0.04648893282260944, 0.021939999794808825, 0.007853406867572587, 0.0041393193827641795, 0.0014229400862061981, 0.0008133790903812402, 0.00037452077971760584], [0.0, 1.403247728985118e-06, 0.004211810280316562, 0.03269201347790176, 0.07276418174698081, 0.19928676323504185, 0.17431425359871458, 0.17584242403014108, 0.150606101070148, 0.09342215561643809, 0.05452140738861472, 0.021420679134651448, 0.011765537046185472, 0.004911428505495667, 0.0029683864195843763, 0.0012714543970708723], [0.0, 5.014804467087159e-05, 0.0010346142644778139, 0.011628074300737022, 0.033431064917891, 0.10940249322730458, 0.13343117651859976, 0.17370236767259353, 0.18602523684918676, 0.14511342133938226, 0.10255198372348831, 0.0462037454693708, 0.029152585877453147, 0.01486226503952862, 0.009105108232760954, 0.004305713604154714], [0.0, 3.974310630810264e-08, 0.00038559681922778244, 0.005206870803160209, 0.01629068988433891, 0.05932394457380623, 0.08742303408607704, 0.13788537204216972, 0.18442579068708656, 0.1675642189395637, 0.14199259020787638, 0.07849475641512083, 0.05347500126681605, 0.03257928056597714, 0.023565096011870533, 0.01138771823839497], [0.0, null, null, null, null, null, null, null, null, null, null, null, null, null, null, null], [0.0, null, null, null, null, null, null, null, null, null, null, null, null, null, null, null], [0.0, null, null, null, null, null, null, null, null, null, null, null, null, null, null, null], [0.0, null, null, null, null, null, null, null, null, null, null, null, null, null, null, null], [0.0, null, null, null, null, null, null, null, null, null, null, null, null, null, null, null], [0.0, null, null, null, null, null, null, null, null, null, null, null, null, null, null, null]], \"colorscale\": \"Jet\"}], {\"height\": 500, \"plot_bgcolor\": \"#000\", \"font\": {\"color\": \"#FFF\"}, \"titlefont\": {\"color\": \"#FFF\"}, \"xaxis\": {\"tickcolor\": \"#FFF\", \"dtick\": 1, \"title\": \"Predicted Class\", \"range\": [0.5, 15.5]}, \"yaxis\": {\"tickcolor\": \"#FFF\", \"dtick\": 1, \"title\": \"True Class\", \"range\": [9.5, 0.5]}, \"width\": 500, \"paper_bgcolor\": \"#000\", \"title\": \"Confidence after 64000 Iterations at Glimpse 3\"}, {\"showLink\": true, \"linkText\": \"Export to plot.ly\"})});</script>"
      ]
     },
     "metadata": {},
     "output_type": "display_data"
    },
    {
     "data": {
      "application/vnd.plotly.v1+json": {
       "data": [
        {
         "colorscale": "Jet",
         "type": "heatmap",
         "z": [
          [
           0,
           0,
           0,
           0,
           0,
           0,
           0,
           0,
           0,
           0,
           0,
           0,
           0,
           0,
           0,
           0
          ],
          [
           0,
           0.9971515057089778,
           0.002676377251435195,
           0.00017211703958691912,
           0,
           0,
           0,
           0,
           0,
           0,
           0,
           0,
           0,
           0,
           0,
           0
          ],
          [
           0,
           0.18408340586407093,
           0.7107200031096844,
           0.10182890682212702,
           0.0030323420032833384,
           0.0003353422008342797,
           0,
           0,
           0,
           0,
           0,
           0,
           0,
           0,
           0,
           0
          ],
          [
           0,
           0.055220304116988674,
           0.3566769273194602,
           0.47099346569803735,
           0.06900990653059055,
           0.04644992556991986,
           0.000993070073395685,
           0.0003213584746046852,
           0,
           0.0001658374792703151,
           0,
           0,
           0.00016920473773265651,
           0,
           0,
           0
          ],
          [
           0,
           0.014136117412389838,
           0.11347172553342211,
           0.4213318367444974,
           0.17236248625342268,
           0.2407809786870835,
           0.02736272262007643,
           0.006055144505415932,
           0.002852512605222119,
           0.0011461375722090622,
           0,
           0.0001680672268907563,
           0,
           0.00016420361247947455,
           0,
           0.0001680672268907563
          ],
          [
           0,
           0.001974085156397953,
           0.03309265804090974,
           0.20340967224344317,
           0.16374229186306075,
           0.4159717731119505,
           0.10317699097305344,
           0.04781621162339138,
           0.02486958333301042,
           0.0034843833033063624,
           0.001968918655365477,
           0.00016339869281045753,
           0.00033003300330033004,
           0,
           0,
           0
          ],
          [
           0,
           0,
           0.0069152540619599676,
           0.0767029098697131,
           0.0958504062076592,
           0.39674248417329416,
           0.1663539704050304,
           0.12915838835557272,
           0.09148677982335257,
           0.02210455635948589,
           0.010999528653624451,
           0.0013289146919824915,
           0.001688659935753345,
           0.000499513398490753,
           0.00016863406408094435,
           0
          ],
          [
           0,
           0,
           0.001490126606852967,
           0.027913418226052512,
           0.037397148677567,
           0.26376348908690056,
           0.17693741056637557,
           0.19546235923252026,
           0.17461042646245087,
           0.06290330785033763,
           0.04451334207433602,
           0.005478571712790559,
           0.007013100313620423,
           0.0011587171259934675,
           0.0006932409012131715,
           0.0006653411629889765
          ],
          [
           0,
           0.0001669449081803005,
           0.00017331022530329287,
           0.005234100170447478,
           0.014496678475732388,
           0.12222202191780514,
           0.13111432295751113,
           0.19019902206023542,
           0.24718252539627464,
           0.12205514803357143,
           0.11393210228018738,
           0.017151622905592724,
           0.024948235788654332,
           0.006353665132748864,
           0.0035879129614033193,
           0.0011823867863521398
          ],
          [
           0,
           0,
           0,
           0.0013228270727866152,
           0.006324266065059478,
           0.0553370972370286,
           0.07682040743126967,
           0.13974794280345493,
           0.25482133446954036,
           0.14690099503836568,
           0.1794317309714956,
           0.04658637462602414,
           0.05686900095573531,
           0.017248504832357438,
           0.01300206111024578,
           0.0055874573866363875
          ],
          [
           0,
           null,
           null,
           null,
           null,
           null,
           null,
           null,
           null,
           null,
           null,
           null,
           null,
           null,
           null,
           null
          ],
          [
           0,
           null,
           null,
           null,
           null,
           null,
           null,
           null,
           null,
           null,
           null,
           null,
           null,
           null,
           null,
           null
          ],
          [
           0,
           null,
           null,
           null,
           null,
           null,
           null,
           null,
           null,
           null,
           null,
           null,
           null,
           null,
           null,
           null
          ],
          [
           0,
           null,
           null,
           null,
           null,
           null,
           null,
           null,
           null,
           null,
           null,
           null,
           null,
           null,
           null,
           null
          ],
          [
           0,
           null,
           null,
           null,
           null,
           null,
           null,
           null,
           null,
           null,
           null,
           null,
           null,
           null,
           null,
           null
          ],
          [
           0,
           null,
           null,
           null,
           null,
           null,
           null,
           null,
           null,
           null,
           null,
           null,
           null,
           null,
           null,
           null
          ]
         ]
        }
       ],
       "layout": {
        "font": {
         "color": "#FFF"
        },
        "height": 500,
        "paper_bgcolor": "#000",
        "plot_bgcolor": "#000",
        "title": "Choice after 64000 Iterations at Glimpse 3",
        "titlefont": {
         "color": "#FFF"
        },
        "width": 500,
        "xaxis": {
         "dtick": 1,
         "range": [
          0.5,
          15.5
         ],
         "tickcolor": "#FFF",
         "title": "Predicted Class"
        },
        "yaxis": {
         "dtick": 1,
         "range": [
          9.5,
          0.5
         ],
         "tickcolor": "#FFF",
         "title": "True Class"
        }
       }
      },
      "text/html": [
       "<div id=\"f4469e70-4afd-4296-8b2f-ec635982a58f\" style=\"height: 500px; width: 500px;\" class=\"plotly-graph-div\"></div><script type=\"text/javascript\">require([\"plotly\"], function(Plotly) { window.PLOTLYENV=window.PLOTLYENV || {};window.PLOTLYENV.BASE_URL=\"https://plot.ly\";Plotly.newPlot(\"f4469e70-4afd-4296-8b2f-ec635982a58f\", [{\"type\": \"heatmap\", \"z\": [[0.0, 0.0, 0.0, 0.0, 0.0, 0.0, 0.0, 0.0, 0.0, 0.0, 0.0, 0.0, 0.0, 0.0, 0.0, 0.0], [0.0, 0.9971515057089778, 0.002676377251435195, 0.00017211703958691912, 0.0, 0.0, 0.0, 0.0, 0.0, 0.0, 0.0, 0.0, 0.0, 0.0, 0.0, 0.0], [0.0, 0.18408340586407093, 0.7107200031096844, 0.10182890682212702, 0.0030323420032833384, 0.0003353422008342797, 0.0, 0.0, 0.0, 0.0, 0.0, 0.0, 0.0, 0.0, 0.0, 0.0], [0.0, 0.055220304116988674, 0.3566769273194602, 0.47099346569803735, 0.06900990653059055, 0.04644992556991986, 0.000993070073395685, 0.0003213584746046852, 0.0, 0.0001658374792703151, 0.0, 0.0, 0.00016920473773265651, 0.0, 0.0, 0.0], [0.0, 0.014136117412389838, 0.11347172553342211, 0.4213318367444974, 0.17236248625342268, 0.2407809786870835, 0.02736272262007643, 0.006055144505415932, 0.002852512605222119, 0.0011461375722090622, 0.0, 0.0001680672268907563, 0.0, 0.00016420361247947455, 0.0, 0.0001680672268907563], [0.0, 0.001974085156397953, 0.03309265804090974, 0.20340967224344317, 0.16374229186306075, 0.4159717731119505, 0.10317699097305344, 0.04781621162339138, 0.02486958333301042, 0.0034843833033063624, 0.001968918655365477, 0.00016339869281045753, 0.00033003300330033004, 0.0, 0.0, 0.0], [0.0, 0.0, 0.0069152540619599676, 0.0767029098697131, 0.0958504062076592, 0.39674248417329416, 0.1663539704050304, 0.12915838835557272, 0.09148677982335257, 0.02210455635948589, 0.010999528653624451, 0.0013289146919824915, 0.001688659935753345, 0.000499513398490753, 0.00016863406408094435, 0.0], [0.0, 0.0, 0.001490126606852967, 0.027913418226052512, 0.037397148677567, 0.26376348908690056, 0.17693741056637557, 0.19546235923252026, 0.17461042646245087, 0.06290330785033763, 0.04451334207433602, 0.005478571712790559, 0.007013100313620423, 0.0011587171259934675, 0.0006932409012131715, 0.0006653411629889765], [0.0, 0.0001669449081803005, 0.00017331022530329287, 0.005234100170447478, 0.014496678475732388, 0.12222202191780514, 0.13111432295751113, 0.19019902206023542, 0.24718252539627464, 0.12205514803357143, 0.11393210228018738, 0.017151622905592724, 0.024948235788654332, 0.006353665132748864, 0.0035879129614033193, 0.0011823867863521398], [0.0, 0.0, 0.0, 0.0013228270727866152, 0.006324266065059478, 0.0553370972370286, 0.07682040743126967, 0.13974794280345493, 0.25482133446954036, 0.14690099503836568, 0.1794317309714956, 0.04658637462602414, 0.05686900095573531, 0.017248504832357438, 0.01300206111024578, 0.0055874573866363875], [0.0, null, null, null, null, null, null, null, null, null, null, null, null, null, null, null], [0.0, null, null, null, null, null, null, null, null, null, null, null, null, null, null, null], [0.0, null, null, null, null, null, null, null, null, null, null, null, null, null, null, null], [0.0, null, null, null, null, null, null, null, null, null, null, null, null, null, null, null], [0.0, null, null, null, null, null, null, null, null, null, null, null, null, null, null, null], [0.0, null, null, null, null, null, null, null, null, null, null, null, null, null, null, null]], \"colorscale\": \"Jet\"}], {\"height\": 500, \"plot_bgcolor\": \"#000\", \"font\": {\"color\": \"#FFF\"}, \"titlefont\": {\"color\": \"#FFF\"}, \"xaxis\": {\"tickcolor\": \"#FFF\", \"dtick\": 1, \"title\": \"Predicted Class\", \"range\": [0.5, 15.5]}, \"yaxis\": {\"tickcolor\": \"#FFF\", \"dtick\": 1, \"title\": \"True Class\", \"range\": [9.5, 0.5]}, \"width\": 500, \"paper_bgcolor\": \"#000\", \"title\": \"Choice after 64000 Iterations at Glimpse 3\"}, {\"showLink\": true, \"linkText\": \"Export to plot.ly\"})});</script>"
      ],
      "text/vnd.plotly.v1+html": [
       "<div id=\"f4469e70-4afd-4296-8b2f-ec635982a58f\" style=\"height: 500px; width: 500px;\" class=\"plotly-graph-div\"></div><script type=\"text/javascript\">require([\"plotly\"], function(Plotly) { window.PLOTLYENV=window.PLOTLYENV || {};window.PLOTLYENV.BASE_URL=\"https://plot.ly\";Plotly.newPlot(\"f4469e70-4afd-4296-8b2f-ec635982a58f\", [{\"type\": \"heatmap\", \"z\": [[0.0, 0.0, 0.0, 0.0, 0.0, 0.0, 0.0, 0.0, 0.0, 0.0, 0.0, 0.0, 0.0, 0.0, 0.0, 0.0], [0.0, 0.9971515057089778, 0.002676377251435195, 0.00017211703958691912, 0.0, 0.0, 0.0, 0.0, 0.0, 0.0, 0.0, 0.0, 0.0, 0.0, 0.0, 0.0], [0.0, 0.18408340586407093, 0.7107200031096844, 0.10182890682212702, 0.0030323420032833384, 0.0003353422008342797, 0.0, 0.0, 0.0, 0.0, 0.0, 0.0, 0.0, 0.0, 0.0, 0.0], [0.0, 0.055220304116988674, 0.3566769273194602, 0.47099346569803735, 0.06900990653059055, 0.04644992556991986, 0.000993070073395685, 0.0003213584746046852, 0.0, 0.0001658374792703151, 0.0, 0.0, 0.00016920473773265651, 0.0, 0.0, 0.0], [0.0, 0.014136117412389838, 0.11347172553342211, 0.4213318367444974, 0.17236248625342268, 0.2407809786870835, 0.02736272262007643, 0.006055144505415932, 0.002852512605222119, 0.0011461375722090622, 0.0, 0.0001680672268907563, 0.0, 0.00016420361247947455, 0.0, 0.0001680672268907563], [0.0, 0.001974085156397953, 0.03309265804090974, 0.20340967224344317, 0.16374229186306075, 0.4159717731119505, 0.10317699097305344, 0.04781621162339138, 0.02486958333301042, 0.0034843833033063624, 0.001968918655365477, 0.00016339869281045753, 0.00033003300330033004, 0.0, 0.0, 0.0], [0.0, 0.0, 0.0069152540619599676, 0.0767029098697131, 0.0958504062076592, 0.39674248417329416, 0.1663539704050304, 0.12915838835557272, 0.09148677982335257, 0.02210455635948589, 0.010999528653624451, 0.0013289146919824915, 0.001688659935753345, 0.000499513398490753, 0.00016863406408094435, 0.0], [0.0, 0.0, 0.001490126606852967, 0.027913418226052512, 0.037397148677567, 0.26376348908690056, 0.17693741056637557, 0.19546235923252026, 0.17461042646245087, 0.06290330785033763, 0.04451334207433602, 0.005478571712790559, 0.007013100313620423, 0.0011587171259934675, 0.0006932409012131715, 0.0006653411629889765], [0.0, 0.0001669449081803005, 0.00017331022530329287, 0.005234100170447478, 0.014496678475732388, 0.12222202191780514, 0.13111432295751113, 0.19019902206023542, 0.24718252539627464, 0.12205514803357143, 0.11393210228018738, 0.017151622905592724, 0.024948235788654332, 0.006353665132748864, 0.0035879129614033193, 0.0011823867863521398], [0.0, 0.0, 0.0, 0.0013228270727866152, 0.006324266065059478, 0.0553370972370286, 0.07682040743126967, 0.13974794280345493, 0.25482133446954036, 0.14690099503836568, 0.1794317309714956, 0.04658637462602414, 0.05686900095573531, 0.017248504832357438, 0.01300206111024578, 0.0055874573866363875], [0.0, null, null, null, null, null, null, null, null, null, null, null, null, null, null, null], [0.0, null, null, null, null, null, null, null, null, null, null, null, null, null, null, null], [0.0, null, null, null, null, null, null, null, null, null, null, null, null, null, null, null], [0.0, null, null, null, null, null, null, null, null, null, null, null, null, null, null, null], [0.0, null, null, null, null, null, null, null, null, null, null, null, null, null, null, null], [0.0, null, null, null, null, null, null, null, null, null, null, null, null, null, null, null]], \"colorscale\": \"Jet\"}], {\"height\": 500, \"plot_bgcolor\": \"#000\", \"font\": {\"color\": \"#FFF\"}, \"titlefont\": {\"color\": \"#FFF\"}, \"xaxis\": {\"tickcolor\": \"#FFF\", \"dtick\": 1, \"title\": \"Predicted Class\", \"range\": [0.5, 15.5]}, \"yaxis\": {\"tickcolor\": \"#FFF\", \"dtick\": 1, \"title\": \"True Class\", \"range\": [9.5, 0.5]}, \"width\": 500, \"paper_bgcolor\": \"#000\", \"title\": \"Choice after 64000 Iterations at Glimpse 3\"}, {\"showLink\": true, \"linkText\": \"Export to plot.ly\"})});</script>"
      ]
     },
     "metadata": {},
     "output_type": "display_data"
    },
    {
     "data": {
      "application/vnd.plotly.v1+json": {
       "data": [
        {
         "colorscale": "Jet",
         "type": "heatmap",
         "z": [
          [
           0,
           0,
           0,
           0,
           0,
           0,
           0,
           0,
           0,
           0,
           0,
           0,
           0,
           0,
           0,
           0
          ],
          [
           0,
           0.9659752505887871,
           0.025986907345587767,
           0.007167483511979086,
           0.000830618405632713,
           3.532432884914113e-05,
           3.639206683622407e-06,
           1.1235701382622399e-08,
           2.6281102498866746e-07,
           2.4981573219134e-08,
           7.099815096479549e-10,
           5.4015816936521e-10,
           1.4166619828293463e-08,
           6.502609995564617e-08,
           2.3791628458512607e-09,
           4.008951286325721e-07
          ],
          [
           0,
           0.09818012026885298,
           0.6800106722612419,
           0.1864686713196019,
           0.026603672235042158,
           0.00736949998783569,
           0.0012123618598278234,
           0.0001314107877490811,
           1.8975821469062156e-05,
           3.268920282481107e-06,
           7.283403402843772e-07,
           1.8874315720342002e-07,
           3.7226221498321346e-07,
           3.7175086145931476e-08,
           1.795683906741253e-08,
           6.24095295303338e-09
          ],
          [
           0,
           0.03901211280568985,
           0.31174944723053527,
           0.42398490945050593,
           0.13776196554060635,
           0.06691237301384836,
           0.015623565388081162,
           0.0036186548530299676,
           0.0010331287312678383,
           0.0002365913989054861,
           4.196145027175318e-05,
           2.1782185193389567e-05,
           2.2039425687340744e-06,
           1.1400120179645011e-06,
           8.032579383920796e-08,
           8.685479264909786e-08
          ],
          [
           0,
           0.008900624176417,
           0.118914907593178,
           0.33990194257442435,
           0.2332698396728628,
           0.1965483244838167,
           0.06437386231711449,
           0.023763845464801567,
           0.010362024525842905,
           0.0028806115440775004,
           0.0006730164581271109,
           0.0002905621836773752,
           9.124780038041738e-05,
           2.2649099719034922e-05,
           3.905620764916818e-06,
           2.640062722231619e-06
          ],
          [
           0,
           0.0015906596557166165,
           0.03875627695483812,
           0.17730032611795582,
           0.21393722871785265,
           0.2917201982931725,
           0.13757881111878137,
           0.07534446751147304,
           0.04023918202798828,
           0.015579662997582658,
           0.005233939844942263,
           0.0017765647659863913,
           0.0007296082682909662,
           0.00014079414321951136,
           5.3507900631470045e-05,
           1.877250079973822e-05
          ],
          [
           0,
           1.529701926111554e-05,
           0.010768434717449139,
           0.07624767747331211,
           0.13476432694445512,
           0.2775847021103409,
           0.18048644201301975,
           0.13993467992544667,
           0.09582502597986757,
           0.04970778015754735,
           0.02110676653516371,
           0.00778505498063259,
           0.00413025099481842,
           0.001028005975486182,
           0.00043634967742161294,
           0.0001792059860222669
          ],
          [
           0,
           5.3714668240204384e-08,
           0.0029276656224808614,
           0.02935146722090482,
           0.06777235391226717,
           0.20206147220383824,
           0.1703812217732049,
           0.17946967245064013,
           0.15097863648003929,
           0.10057951845093856,
           0.05448213778478943,
           0.021183496503934914,
           0.013260990535070863,
           0.004407438985898901,
           0.002191039473785295,
           0.0009528352601702796
          ],
          [
           0,
           7.385471386856761e-09,
           0.0005172895846372258,
           0.009002456965839255,
           0.028602920207601266,
           0.11723316208485075,
           0.12702879896912683,
           0.17322649222060615,
           0.18295378167994736,
           0.15509333246091817,
           0.10327686653106287,
           0.046084886814284826,
           0.030843419873889055,
           0.014091127409239027,
           0.008104976505856662,
           0.0039404804903178155
          ],
          [
           0,
           1.6874523642731602e-09,
           0.00011257796317160461,
           0.0032771801818673625,
           0.012337834127599772,
           0.06405808004475036,
           0.07933495841437814,
           0.13684214083631324,
           0.1803677156809426,
           0.17935193578707562,
           0.14446858794673018,
           0.07680613085628335,
           0.058204916919686114,
           0.03265232938326042,
           0.021547377559994967,
           0.010638232219543874
          ],
          [
           0,
           null,
           null,
           null,
           null,
           null,
           null,
           null,
           null,
           null,
           null,
           null,
           null,
           null,
           null,
           null
          ],
          [
           0,
           null,
           null,
           null,
           null,
           null,
           null,
           null,
           null,
           null,
           null,
           null,
           null,
           null,
           null,
           null
          ],
          [
           0,
           null,
           null,
           null,
           null,
           null,
           null,
           null,
           null,
           null,
           null,
           null,
           null,
           null,
           null,
           null
          ],
          [
           0,
           null,
           null,
           null,
           null,
           null,
           null,
           null,
           null,
           null,
           null,
           null,
           null,
           null,
           null,
           null
          ],
          [
           0,
           null,
           null,
           null,
           null,
           null,
           null,
           null,
           null,
           null,
           null,
           null,
           null,
           null,
           null,
           null
          ],
          [
           0,
           null,
           null,
           null,
           null,
           null,
           null,
           null,
           null,
           null,
           null,
           null,
           null,
           null,
           null,
           null
          ]
         ]
        }
       ],
       "layout": {
        "font": {
         "color": "#FFF"
        },
        "height": 500,
        "paper_bgcolor": "#000",
        "plot_bgcolor": "#000",
        "title": "Confidence after 64000 Iterations at Glimpse 9",
        "titlefont": {
         "color": "#FFF"
        },
        "width": 500,
        "xaxis": {
         "dtick": 1,
         "range": [
          0.5,
          15.5
         ],
         "tickcolor": "#FFF",
         "title": "Predicted Class"
        },
        "yaxis": {
         "dtick": 1,
         "range": [
          9.5,
          0.5
         ],
         "tickcolor": "#FFF",
         "title": "True Class"
        }
       }
      },
      "text/html": [
       "<div id=\"7b3ac4e6-2d6f-4562-815c-4f8a127caf56\" style=\"height: 500px; width: 500px;\" class=\"plotly-graph-div\"></div><script type=\"text/javascript\">require([\"plotly\"], function(Plotly) { window.PLOTLYENV=window.PLOTLYENV || {};window.PLOTLYENV.BASE_URL=\"https://plot.ly\";Plotly.newPlot(\"7b3ac4e6-2d6f-4562-815c-4f8a127caf56\", [{\"type\": \"heatmap\", \"z\": [[0.0, 0.0, 0.0, 0.0, 0.0, 0.0, 0.0, 0.0, 0.0, 0.0, 0.0, 0.0, 0.0, 0.0, 0.0, 0.0], [0.0, 0.9659752505887871, 0.025986907345587767, 0.007167483511979086, 0.000830618405632713, 3.532432884914113e-05, 3.639206683622407e-06, 1.1235701382622399e-08, 2.6281102498866746e-07, 2.4981573219134e-08, 7.099815096479549e-10, 5.4015816936521e-10, 1.4166619828293463e-08, 6.502609995564617e-08, 2.3791628458512607e-09, 4.008951286325721e-07], [0.0, 0.09818012026885298, 0.6800106722612419, 0.1864686713196019, 0.026603672235042158, 0.00736949998783569, 0.0012123618598278234, 0.0001314107877490811, 1.8975821469062156e-05, 3.268920282481107e-06, 7.283403402843772e-07, 1.8874315720342002e-07, 3.7226221498321346e-07, 3.7175086145931476e-08, 1.795683906741253e-08, 6.24095295303338e-09], [0.0, 0.03901211280568985, 0.31174944723053527, 0.42398490945050593, 0.13776196554060635, 0.06691237301384836, 0.015623565388081162, 0.0036186548530299676, 0.0010331287312678383, 0.0002365913989054861, 4.196145027175318e-05, 2.1782185193389567e-05, 2.2039425687340744e-06, 1.1400120179645011e-06, 8.032579383920796e-08, 8.685479264909786e-08], [0.0, 0.008900624176417, 0.118914907593178, 0.33990194257442435, 0.2332698396728628, 0.1965483244838167, 0.06437386231711449, 0.023763845464801567, 0.010362024525842905, 0.0028806115440775004, 0.0006730164581271109, 0.0002905621836773752, 9.124780038041738e-05, 2.2649099719034922e-05, 3.905620764916818e-06, 2.640062722231619e-06], [0.0, 0.0015906596557166165, 0.03875627695483812, 0.17730032611795582, 0.21393722871785265, 0.2917201982931725, 0.13757881111878137, 0.07534446751147304, 0.04023918202798828, 0.015579662997582658, 0.005233939844942263, 0.0017765647659863913, 0.0007296082682909662, 0.00014079414321951136, 5.3507900631470045e-05, 1.877250079973822e-05], [0.0, 1.529701926111554e-05, 0.010768434717449139, 0.07624767747331211, 0.13476432694445512, 0.2775847021103409, 0.18048644201301975, 0.13993467992544667, 0.09582502597986757, 0.04970778015754735, 0.02110676653516371, 0.00778505498063259, 0.00413025099481842, 0.001028005975486182, 0.00043634967742161294, 0.0001792059860222669], [0.0, 5.3714668240204384e-08, 0.0029276656224808614, 0.02935146722090482, 0.06777235391226717, 0.20206147220383824, 0.1703812217732049, 0.17946967245064013, 0.15097863648003929, 0.10057951845093856, 0.05448213778478943, 0.021183496503934914, 0.013260990535070863, 0.004407438985898901, 0.002191039473785295, 0.0009528352601702796], [0.0, 7.385471386856761e-09, 0.0005172895846372258, 0.009002456965839255, 0.028602920207601266, 0.11723316208485075, 0.12702879896912683, 0.17322649222060615, 0.18295378167994736, 0.15509333246091817, 0.10327686653106287, 0.046084886814284826, 0.030843419873889055, 0.014091127409239027, 0.008104976505856662, 0.0039404804903178155], [0.0, 1.6874523642731602e-09, 0.00011257796317160461, 0.0032771801818673625, 0.012337834127599772, 0.06405808004475036, 0.07933495841437814, 0.13684214083631324, 0.1803677156809426, 0.17935193578707562, 0.14446858794673018, 0.07680613085628335, 0.058204916919686114, 0.03265232938326042, 0.021547377559994967, 0.010638232219543874], [0.0, null, null, null, null, null, null, null, null, null, null, null, null, null, null, null], [0.0, null, null, null, null, null, null, null, null, null, null, null, null, null, null, null], [0.0, null, null, null, null, null, null, null, null, null, null, null, null, null, null, null], [0.0, null, null, null, null, null, null, null, null, null, null, null, null, null, null, null], [0.0, null, null, null, null, null, null, null, null, null, null, null, null, null, null, null], [0.0, null, null, null, null, null, null, null, null, null, null, null, null, null, null, null]], \"colorscale\": \"Jet\"}], {\"height\": 500, \"plot_bgcolor\": \"#000\", \"font\": {\"color\": \"#FFF\"}, \"titlefont\": {\"color\": \"#FFF\"}, \"xaxis\": {\"tickcolor\": \"#FFF\", \"dtick\": 1, \"title\": \"Predicted Class\", \"range\": [0.5, 15.5]}, \"yaxis\": {\"tickcolor\": \"#FFF\", \"dtick\": 1, \"title\": \"True Class\", \"range\": [9.5, 0.5]}, \"width\": 500, \"paper_bgcolor\": \"#000\", \"title\": \"Confidence after 64000 Iterations at Glimpse 9\"}, {\"showLink\": true, \"linkText\": \"Export to plot.ly\"})});</script>"
      ],
      "text/vnd.plotly.v1+html": [
       "<div id=\"7b3ac4e6-2d6f-4562-815c-4f8a127caf56\" style=\"height: 500px; width: 500px;\" class=\"plotly-graph-div\"></div><script type=\"text/javascript\">require([\"plotly\"], function(Plotly) { window.PLOTLYENV=window.PLOTLYENV || {};window.PLOTLYENV.BASE_URL=\"https://plot.ly\";Plotly.newPlot(\"7b3ac4e6-2d6f-4562-815c-4f8a127caf56\", [{\"type\": \"heatmap\", \"z\": [[0.0, 0.0, 0.0, 0.0, 0.0, 0.0, 0.0, 0.0, 0.0, 0.0, 0.0, 0.0, 0.0, 0.0, 0.0, 0.0], [0.0, 0.9659752505887871, 0.025986907345587767, 0.007167483511979086, 0.000830618405632713, 3.532432884914113e-05, 3.639206683622407e-06, 1.1235701382622399e-08, 2.6281102498866746e-07, 2.4981573219134e-08, 7.099815096479549e-10, 5.4015816936521e-10, 1.4166619828293463e-08, 6.502609995564617e-08, 2.3791628458512607e-09, 4.008951286325721e-07], [0.0, 0.09818012026885298, 0.6800106722612419, 0.1864686713196019, 0.026603672235042158, 0.00736949998783569, 0.0012123618598278234, 0.0001314107877490811, 1.8975821469062156e-05, 3.268920282481107e-06, 7.283403402843772e-07, 1.8874315720342002e-07, 3.7226221498321346e-07, 3.7175086145931476e-08, 1.795683906741253e-08, 6.24095295303338e-09], [0.0, 0.03901211280568985, 0.31174944723053527, 0.42398490945050593, 0.13776196554060635, 0.06691237301384836, 0.015623565388081162, 0.0036186548530299676, 0.0010331287312678383, 0.0002365913989054861, 4.196145027175318e-05, 2.1782185193389567e-05, 2.2039425687340744e-06, 1.1400120179645011e-06, 8.032579383920796e-08, 8.685479264909786e-08], [0.0, 0.008900624176417, 0.118914907593178, 0.33990194257442435, 0.2332698396728628, 0.1965483244838167, 0.06437386231711449, 0.023763845464801567, 0.010362024525842905, 0.0028806115440775004, 0.0006730164581271109, 0.0002905621836773752, 9.124780038041738e-05, 2.2649099719034922e-05, 3.905620764916818e-06, 2.640062722231619e-06], [0.0, 0.0015906596557166165, 0.03875627695483812, 0.17730032611795582, 0.21393722871785265, 0.2917201982931725, 0.13757881111878137, 0.07534446751147304, 0.04023918202798828, 0.015579662997582658, 0.005233939844942263, 0.0017765647659863913, 0.0007296082682909662, 0.00014079414321951136, 5.3507900631470045e-05, 1.877250079973822e-05], [0.0, 1.529701926111554e-05, 0.010768434717449139, 0.07624767747331211, 0.13476432694445512, 0.2775847021103409, 0.18048644201301975, 0.13993467992544667, 0.09582502597986757, 0.04970778015754735, 0.02110676653516371, 0.00778505498063259, 0.00413025099481842, 0.001028005975486182, 0.00043634967742161294, 0.0001792059860222669], [0.0, 5.3714668240204384e-08, 0.0029276656224808614, 0.02935146722090482, 0.06777235391226717, 0.20206147220383824, 0.1703812217732049, 0.17946967245064013, 0.15097863648003929, 0.10057951845093856, 0.05448213778478943, 0.021183496503934914, 0.013260990535070863, 0.004407438985898901, 0.002191039473785295, 0.0009528352601702796], [0.0, 7.385471386856761e-09, 0.0005172895846372258, 0.009002456965839255, 0.028602920207601266, 0.11723316208485075, 0.12702879896912683, 0.17322649222060615, 0.18295378167994736, 0.15509333246091817, 0.10327686653106287, 0.046084886814284826, 0.030843419873889055, 0.014091127409239027, 0.008104976505856662, 0.0039404804903178155], [0.0, 1.6874523642731602e-09, 0.00011257796317160461, 0.0032771801818673625, 0.012337834127599772, 0.06405808004475036, 0.07933495841437814, 0.13684214083631324, 0.1803677156809426, 0.17935193578707562, 0.14446858794673018, 0.07680613085628335, 0.058204916919686114, 0.03265232938326042, 0.021547377559994967, 0.010638232219543874], [0.0, null, null, null, null, null, null, null, null, null, null, null, null, null, null, null], [0.0, null, null, null, null, null, null, null, null, null, null, null, null, null, null, null], [0.0, null, null, null, null, null, null, null, null, null, null, null, null, null, null, null], [0.0, null, null, null, null, null, null, null, null, null, null, null, null, null, null, null], [0.0, null, null, null, null, null, null, null, null, null, null, null, null, null, null, null], [0.0, null, null, null, null, null, null, null, null, null, null, null, null, null, null, null]], \"colorscale\": \"Jet\"}], {\"height\": 500, \"plot_bgcolor\": \"#000\", \"font\": {\"color\": \"#FFF\"}, \"titlefont\": {\"color\": \"#FFF\"}, \"xaxis\": {\"tickcolor\": \"#FFF\", \"dtick\": 1, \"title\": \"Predicted Class\", \"range\": [0.5, 15.5]}, \"yaxis\": {\"tickcolor\": \"#FFF\", \"dtick\": 1, \"title\": \"True Class\", \"range\": [9.5, 0.5]}, \"width\": 500, \"paper_bgcolor\": \"#000\", \"title\": \"Confidence after 64000 Iterations at Glimpse 9\"}, {\"showLink\": true, \"linkText\": \"Export to plot.ly\"})});</script>"
      ]
     },
     "metadata": {},
     "output_type": "display_data"
    },
    {
     "data": {
      "application/vnd.plotly.v1+json": {
       "data": [
        {
         "colorscale": "Jet",
         "type": "heatmap",
         "z": [
          [
           0,
           0,
           0,
           0,
           0,
           0,
           0,
           0,
           0,
           0,
           0,
           0,
           0,
           0,
           0,
           0
          ],
          [
           0,
           0.9976561104974409,
           0.0020144002109611907,
           0.00032948929159802305,
           0,
           0,
           0,
           0,
           0,
           0,
           0,
           0,
           0,
           0,
           0,
           0
          ],
          [
           0,
           0.09644581004537425,
           0.7855776242955257,
           0.11426318058078111,
           0.0033738265044649376,
           0.00033955857385398983,
           0,
           0,
           0,
           0,
           0,
           0,
           0,
           0,
           0,
           0
          ],
          [
           0,
           0.0447718757162537,
           0.3331508895514592,
           0.5054462068135266,
           0.07504121594467358,
           0.04075216475758864,
           0.0008376472164982995,
           0,
           0,
           0,
           0,
           0,
           0,
           0,
           0,
           0
          ],
          [
           0,
           0.00913296692655671,
           0.1091017958695993,
           0.432135985846746,
           0.19595389674151995,
           0.2215617694351287,
           0.023802871909853533,
           0.006043691077103107,
           0.0022670221934927817,
           0,
           0,
           0,
           0,
           0,
           0,
           0
          ],
          [
           0,
           0.0018193177142835644,
           0.02918605121932783,
           0.206254798202243,
           0.1912257956632978,
           0.40422148970930916,
           0.09277433641138899,
           0.04665578361559729,
           0.02224340724211372,
           0.005291402094772154,
           0.00016260162601626016,
           0,
           0.00016501650165016502,
           0,
           0,
           0
          ],
          [
           0,
           0,
           0.006108524452663265,
           0.07460360510029075,
           0.10585092256361803,
           0.39860333152880695,
           0.15982584575898645,
           0.13208949685640273,
           0.08614715187032815,
           0.027106049895407314,
           0.008152834064749568,
           0.0006589955879276787,
           0.0008532423208191126,
           0,
           0,
           0
          ],
          [
           0,
           0,
           0.0013264568187873482,
           0.027517254003399067,
           0.039014563183681426,
           0.2752958792300671,
           0.14448844872083724,
           0.2150055091448575,
           0.16623569370103236,
           0.0815350070937706,
           0.040607254859609296,
           0.002290652745883916,
           0.005672200886319624,
           0.0004977924944812362,
           0.00034662045060658575,
           0.0001666666666666667
          ],
          [
           0,
           0,
           0,
           0.005601087817907137,
           0.01369630078273297,
           0.13695923749832872,
           0.10202535662035823,
           0.20331331133097114,
           0.22898771523448982,
           0.15563713137038165,
           0.11742109052051534,
           0.008243006167038028,
           0.018839739258060685,
           0.004165704591819965,
           0.0035818897418889066,
           0.0015284290655073589
          ],
          [
           0,
           0,
           0,
           0.0016553560547879268,
           0.005186699175789436,
           0.06824117458461744,
           0.05276855141216996,
           0.13838986799033332,
           0.2310271999345527,
           0.19284452649833042,
           0.19284435373861447,
           0.030643627284371505,
           0.04844399015783907,
           0.020304512735860526,
           0.01272579405297394,
           0.004924346379759336
          ],
          [
           0,
           null,
           null,
           null,
           null,
           null,
           null,
           null,
           null,
           null,
           null,
           null,
           null,
           null,
           null,
           null
          ],
          [
           0,
           null,
           null,
           null,
           null,
           null,
           null,
           null,
           null,
           null,
           null,
           null,
           null,
           null,
           null,
           null
          ],
          [
           0,
           null,
           null,
           null,
           null,
           null,
           null,
           null,
           null,
           null,
           null,
           null,
           null,
           null,
           null,
           null
          ],
          [
           0,
           null,
           null,
           null,
           null,
           null,
           null,
           null,
           null,
           null,
           null,
           null,
           null,
           null,
           null,
           null
          ],
          [
           0,
           null,
           null,
           null,
           null,
           null,
           null,
           null,
           null,
           null,
           null,
           null,
           null,
           null,
           null,
           null
          ],
          [
           0,
           null,
           null,
           null,
           null,
           null,
           null,
           null,
           null,
           null,
           null,
           null,
           null,
           null,
           null,
           null
          ]
         ]
        }
       ],
       "layout": {
        "font": {
         "color": "#FFF"
        },
        "height": 500,
        "paper_bgcolor": "#000",
        "plot_bgcolor": "#000",
        "title": "Choice after 64000 Iterations at Glimpse 9",
        "titlefont": {
         "color": "#FFF"
        },
        "width": 500,
        "xaxis": {
         "dtick": 1,
         "range": [
          0.5,
          15.5
         ],
         "tickcolor": "#FFF",
         "title": "Predicted Class"
        },
        "yaxis": {
         "dtick": 1,
         "range": [
          9.5,
          0.5
         ],
         "tickcolor": "#FFF",
         "title": "True Class"
        }
       }
      },
      "text/html": [
       "<div id=\"11fb415e-5600-4525-a50d-ce4f52cfb55e\" style=\"height: 500px; width: 500px;\" class=\"plotly-graph-div\"></div><script type=\"text/javascript\">require([\"plotly\"], function(Plotly) { window.PLOTLYENV=window.PLOTLYENV || {};window.PLOTLYENV.BASE_URL=\"https://plot.ly\";Plotly.newPlot(\"11fb415e-5600-4525-a50d-ce4f52cfb55e\", [{\"type\": \"heatmap\", \"z\": [[0.0, 0.0, 0.0, 0.0, 0.0, 0.0, 0.0, 0.0, 0.0, 0.0, 0.0, 0.0, 0.0, 0.0, 0.0, 0.0], [0.0, 0.9976561104974409, 0.0020144002109611907, 0.00032948929159802305, 0.0, 0.0, 0.0, 0.0, 0.0, 0.0, 0.0, 0.0, 0.0, 0.0, 0.0, 0.0], [0.0, 0.09644581004537425, 0.7855776242955257, 0.11426318058078111, 0.0033738265044649376, 0.00033955857385398983, 0.0, 0.0, 0.0, 0.0, 0.0, 0.0, 0.0, 0.0, 0.0, 0.0], [0.0, 0.0447718757162537, 0.3331508895514592, 0.5054462068135266, 0.07504121594467358, 0.04075216475758864, 0.0008376472164982995, 0.0, 0.0, 0.0, 0.0, 0.0, 0.0, 0.0, 0.0, 0.0], [0.0, 0.00913296692655671, 0.1091017958695993, 0.432135985846746, 0.19595389674151995, 0.2215617694351287, 0.023802871909853533, 0.006043691077103107, 0.0022670221934927817, 0.0, 0.0, 0.0, 0.0, 0.0, 0.0, 0.0], [0.0, 0.0018193177142835644, 0.02918605121932783, 0.206254798202243, 0.1912257956632978, 0.40422148970930916, 0.09277433641138899, 0.04665578361559729, 0.02224340724211372, 0.005291402094772154, 0.00016260162601626016, 0.0, 0.00016501650165016502, 0.0, 0.0, 0.0], [0.0, 0.0, 0.006108524452663265, 0.07460360510029075, 0.10585092256361803, 0.39860333152880695, 0.15982584575898645, 0.13208949685640273, 0.08614715187032815, 0.027106049895407314, 0.008152834064749568, 0.0006589955879276787, 0.0008532423208191126, 0.0, 0.0, 0.0], [0.0, 0.0, 0.0013264568187873482, 0.027517254003399067, 0.039014563183681426, 0.2752958792300671, 0.14448844872083724, 0.2150055091448575, 0.16623569370103236, 0.0815350070937706, 0.040607254859609296, 0.002290652745883916, 0.005672200886319624, 0.0004977924944812362, 0.00034662045060658575, 0.0001666666666666667], [0.0, 0.0, 0.0, 0.005601087817907137, 0.01369630078273297, 0.13695923749832872, 0.10202535662035823, 0.20331331133097114, 0.22898771523448982, 0.15563713137038165, 0.11742109052051534, 0.008243006167038028, 0.018839739258060685, 0.004165704591819965, 0.0035818897418889066, 0.0015284290655073589], [0.0, 0.0, 0.0, 0.0016553560547879268, 0.005186699175789436, 0.06824117458461744, 0.05276855141216996, 0.13838986799033332, 0.2310271999345527, 0.19284452649833042, 0.19284435373861447, 0.030643627284371505, 0.04844399015783907, 0.020304512735860526, 0.01272579405297394, 0.004924346379759336], [0.0, null, null, null, null, null, null, null, null, null, null, null, null, null, null, null], [0.0, null, null, null, null, null, null, null, null, null, null, null, null, null, null, null], [0.0, null, null, null, null, null, null, null, null, null, null, null, null, null, null, null], [0.0, null, null, null, null, null, null, null, null, null, null, null, null, null, null, null], [0.0, null, null, null, null, null, null, null, null, null, null, null, null, null, null, null], [0.0, null, null, null, null, null, null, null, null, null, null, null, null, null, null, null]], \"colorscale\": \"Jet\"}], {\"height\": 500, \"plot_bgcolor\": \"#000\", \"font\": {\"color\": \"#FFF\"}, \"titlefont\": {\"color\": \"#FFF\"}, \"xaxis\": {\"tickcolor\": \"#FFF\", \"dtick\": 1, \"title\": \"Predicted Class\", \"range\": [0.5, 15.5]}, \"yaxis\": {\"tickcolor\": \"#FFF\", \"dtick\": 1, \"title\": \"True Class\", \"range\": [9.5, 0.5]}, \"width\": 500, \"paper_bgcolor\": \"#000\", \"title\": \"Choice after 64000 Iterations at Glimpse 9\"}, {\"showLink\": true, \"linkText\": \"Export to plot.ly\"})});</script>"
      ],
      "text/vnd.plotly.v1+html": [
       "<div id=\"11fb415e-5600-4525-a50d-ce4f52cfb55e\" style=\"height: 500px; width: 500px;\" class=\"plotly-graph-div\"></div><script type=\"text/javascript\">require([\"plotly\"], function(Plotly) { window.PLOTLYENV=window.PLOTLYENV || {};window.PLOTLYENV.BASE_URL=\"https://plot.ly\";Plotly.newPlot(\"11fb415e-5600-4525-a50d-ce4f52cfb55e\", [{\"type\": \"heatmap\", \"z\": [[0.0, 0.0, 0.0, 0.0, 0.0, 0.0, 0.0, 0.0, 0.0, 0.0, 0.0, 0.0, 0.0, 0.0, 0.0, 0.0], [0.0, 0.9976561104974409, 0.0020144002109611907, 0.00032948929159802305, 0.0, 0.0, 0.0, 0.0, 0.0, 0.0, 0.0, 0.0, 0.0, 0.0, 0.0, 0.0], [0.0, 0.09644581004537425, 0.7855776242955257, 0.11426318058078111, 0.0033738265044649376, 0.00033955857385398983, 0.0, 0.0, 0.0, 0.0, 0.0, 0.0, 0.0, 0.0, 0.0, 0.0], [0.0, 0.0447718757162537, 0.3331508895514592, 0.5054462068135266, 0.07504121594467358, 0.04075216475758864, 0.0008376472164982995, 0.0, 0.0, 0.0, 0.0, 0.0, 0.0, 0.0, 0.0, 0.0], [0.0, 0.00913296692655671, 0.1091017958695993, 0.432135985846746, 0.19595389674151995, 0.2215617694351287, 0.023802871909853533, 0.006043691077103107, 0.0022670221934927817, 0.0, 0.0, 0.0, 0.0, 0.0, 0.0, 0.0], [0.0, 0.0018193177142835644, 0.02918605121932783, 0.206254798202243, 0.1912257956632978, 0.40422148970930916, 0.09277433641138899, 0.04665578361559729, 0.02224340724211372, 0.005291402094772154, 0.00016260162601626016, 0.0, 0.00016501650165016502, 0.0, 0.0, 0.0], [0.0, 0.0, 0.006108524452663265, 0.07460360510029075, 0.10585092256361803, 0.39860333152880695, 0.15982584575898645, 0.13208949685640273, 0.08614715187032815, 0.027106049895407314, 0.008152834064749568, 0.0006589955879276787, 0.0008532423208191126, 0.0, 0.0, 0.0], [0.0, 0.0, 0.0013264568187873482, 0.027517254003399067, 0.039014563183681426, 0.2752958792300671, 0.14448844872083724, 0.2150055091448575, 0.16623569370103236, 0.0815350070937706, 0.040607254859609296, 0.002290652745883916, 0.005672200886319624, 0.0004977924944812362, 0.00034662045060658575, 0.0001666666666666667], [0.0, 0.0, 0.0, 0.005601087817907137, 0.01369630078273297, 0.13695923749832872, 0.10202535662035823, 0.20331331133097114, 0.22898771523448982, 0.15563713137038165, 0.11742109052051534, 0.008243006167038028, 0.018839739258060685, 0.004165704591819965, 0.0035818897418889066, 0.0015284290655073589], [0.0, 0.0, 0.0, 0.0016553560547879268, 0.005186699175789436, 0.06824117458461744, 0.05276855141216996, 0.13838986799033332, 0.2310271999345527, 0.19284452649833042, 0.19284435373861447, 0.030643627284371505, 0.04844399015783907, 0.020304512735860526, 0.01272579405297394, 0.004924346379759336], [0.0, null, null, null, null, null, null, null, null, null, null, null, null, null, null, null], [0.0, null, null, null, null, null, null, null, null, null, null, null, null, null, null, null], [0.0, null, null, null, null, null, null, null, null, null, null, null, null, null, null, null], [0.0, null, null, null, null, null, null, null, null, null, null, null, null, null, null, null], [0.0, null, null, null, null, null, null, null, null, null, null, null, null, null, null, null], [0.0, null, null, null, null, null, null, null, null, null, null, null, null, null, null, null]], \"colorscale\": \"Jet\"}], {\"height\": 500, \"plot_bgcolor\": \"#000\", \"font\": {\"color\": \"#FFF\"}, \"titlefont\": {\"color\": \"#FFF\"}, \"xaxis\": {\"tickcolor\": \"#FFF\", \"dtick\": 1, \"title\": \"Predicted Class\", \"range\": [0.5, 15.5]}, \"yaxis\": {\"tickcolor\": \"#FFF\", \"dtick\": 1, \"title\": \"True Class\", \"range\": [9.5, 0.5]}, \"width\": 500, \"paper_bgcolor\": \"#000\", \"title\": \"Choice after 64000 Iterations at Glimpse 9\"}, {\"showLink\": true, \"linkText\": \"Export to plot.ly\"})});</script>"
      ]
     },
     "metadata": {},
     "output_type": "display_data"
    }
   ],
   "source": [
    "for i, it in enumerate(iter_list):\n",
    "    for g, glimpse in enumerate(glimpse_list):\n",
    "        plot_confidence(i, it, g, glimpse)\n",
    "        plot_choice(i, it, g, glimpse)"
   ]
  },
  {
   "cell_type": "code",
   "execution_count": 9,
   "metadata": {
    "collapsed": true
   },
   "outputs": [],
   "source": [
    "np.save(data_directory + \"confidence_hist\", confidence_all_runs)\n",
    "np.save(data_directory + \"choice_hist\", choice_all_runs)"
   ]
  },
  {
   "cell_type": "markdown",
   "metadata": {},
   "source": [
    "## Work with Saved Histogram Data"
   ]
  },
  {
   "cell_type": "code",
   "execution_count": 10,
   "metadata": {
    "collapsed": true
   },
   "outputs": [],
   "source": [
    "confidence_hist = np.load(data_directory + \"confidence_hist.npy\")\n",
    "choice_hist = np.load(data_directory + \"choice_hist.npy\")"
   ]
  },
  {
   "cell_type": "code",
   "execution_count": 11,
   "metadata": {
    "collapsed": true
   },
   "outputs": [],
   "source": [
    "def get_msdcv(hist_matrix):\n",
    "    \"\"\"Get the mean, standard deviation, and coefficient of variation matrices from histogram matrix.\"\"\"\n",
    "    \n",
    "    msdcv = np.zeros([num_runs, num_iters, num_glimpses, z_size, 3])\n",
    "    \n",
    "    for run in range(num_runs):\n",
    "        for i, it in enumerate(iter_list):\n",
    "            for g, glimpse in enumerate(glimpse_list):\n",
    "                for t in range(z_size):\n",
    "                    values_sum = 0\n",
    "                    sqr_sum = 0\n",
    "\n",
    "                    # Find the mean\n",
    "                    for p in range(z_size):\n",
    "                        values_sum += (p + 1) * hist_matrix[run, i, g, t, p]\n",
    "                    msdcv[run, i, g, t, 0] = mu = values_sum\n",
    "\n",
    "                    # Find the standard deviation\n",
    "                    for p in range(z_size):\n",
    "                        sqr_sum += (p + 1 - mu)**2 * hist_matrix[run, i, g, t, p]\n",
    "                    msdcv[run, i, g, t, 1] = sigma = np.sqrt(sqr_sum)\n",
    "\n",
    "                    # Find the coefficient of variation\n",
    "                    msdcv[run, i, g, t, 2] = cv = sigma / mu\n",
    "    return msdcv"
   ]
  },
  {
   "cell_type": "code",
   "execution_count": 12,
   "metadata": {
    "collapsed": true
   },
   "outputs": [],
   "source": [
    "confidence_msdcv = get_msdcv(confidence_hist)\n",
    "choice_msdcv = get_msdcv(choice_hist)"
   ]
  },
  {
   "cell_type": "code",
   "execution_count": 13,
   "metadata": {
    "collapsed": true
   },
   "outputs": [],
   "source": [
    "np.save(data_directory + \"confidence_msdcv\", confidence_msdcv)\n",
    "np.save(data_directory + \"choice_msdcv\", choice_msdcv)"
   ]
  },
  {
   "cell_type": "markdown",
   "metadata": {},
   "source": [
    "## Visualize Mean, Standard Deviation, and Coefficient of Variation"
   ]
  },
  {
   "cell_type": "code",
   "execution_count": 14,
   "metadata": {
    "collapsed": true
   },
   "outputs": [],
   "source": [
    "confidence_msdcv = np.load(data_directory + \"confidence_msdcv.npy\")\n",
    "choice_msdcv = np.load(data_directory + \"choice_msdcv.npy\")"
   ]
  },
  {
   "cell_type": "code",
   "execution_count": 15,
   "metadata": {
    "collapsed": true
   },
   "outputs": [],
   "source": [
    "confidence_msdcv_avg = np.mean(confidence_msdcv, axis=0)\n",
    "choice_msdcv_avg = np.mean(choice_msdcv, axis=0)\n",
    "\n",
    "def plot_confidence_msdcv(iter_idx, it, g, glimpse, run=None):\n",
    "    \"\"\"Plot the confidence linegraphs.\"\"\"\n",
    "    \n",
    "    if run is None:\n",
    "        matrix = confidence_msdcv_avg[iter_idx, g]\n",
    "        plot_title = \"Confidence after %d Iterations at Glimpse %d\" % (it, glimpse)\n",
    "\n",
    "    else:\n",
    "        matrix = confidence_msdcv[run, iter_idx, g]\n",
    "        plot_title = \"Confidence at Run %d after %d Iterations at Glimpse %d\" % (run + 1, it, glimpse)\n",
    "    plot_linegraphs(matrix, plot_title)\n",
    "\n",
    "\n",
    "def plot_choice_msdcv(iter_idx, it, g, glimpse, run=None):\n",
    "    \"\"\"Plot the choice linegraphs.\"\"\"\n",
    "    \n",
    "    if run is None:\n",
    "        matrix = choice_msdcv_avg[iter_idx, g]\n",
    "        plot_title = \"Choice after %d Iterations at Glimpse %d\" % (it, glimpse)\n",
    "    else:\n",
    "        matrix = choice_msdcv[run, iter_idx, g]\n",
    "        plot_title = \"Choice at Run %d after %d Iterations at Glimpse %d\" % (run + 1, it, glimpse)\n",
    "    plot_linegraphs(matrix, plot_title)\n",
    "    \n",
    "    \n",
    "def plot_linegraphs(matrix, plot_title):\n",
    "    \"\"\"Plot mean, stdev, and cv linegraphs.\"\"\"\n",
    "    \n",
    "    plot_msd(matrix, plot_title)\n",
    "    plot_cv(matrix, plot_title)"
   ]
  },
  {
   "cell_type": "code",
   "execution_count": 16,
   "metadata": {
    "collapsed": true
   },
   "outputs": [],
   "source": [
    "def plot_msd(matrix, plot_title):\n",
    "    \"\"\"Plot the mean and standard deviation in the same graph.\"\"\"\n",
    "    \n",
    "    x_values = np.array(range(min_blobs, 9 + 1))\n",
    "#     x_values = np.array(range(min_blobs, max_blobs + 1))\n",
    "    y_mu = matrix[:, 0]\n",
    "    y_sigma = matrix[:, 1]\n",
    "    \n",
    "    # Create traces\n",
    "    mu_trace = go.Scatter(\n",
    "        x = x_values,\n",
    "        y = y_mu,\n",
    "        name='Mean',\n",
    "    )\n",
    "    sigma_trace = go.Scatter(\n",
    "        x = x_values,\n",
    "        y = y_sigma,\n",
    "        name='Standard Deviation',\n",
    "        yaxis='y2'\n",
    "    )\n",
    "\n",
    "    data = [mu_trace, sigma_trace]\n",
    "    \n",
    "    layout = go.Layout(\n",
    "        title=plot_title,\n",
    "        yaxis=dict(\n",
    "            range=[min_blobs - m, max_blobs + m],\n",
    "            title=\"Mean\",\n",
    "            dtick=1,\n",
    "            tickcolor='#FFF',\n",
    "        ),\n",
    "        yaxis2=dict(\n",
    "            range=[0, 3],\n",
    "            title='Standard Deviation',\n",
    "            tickcolor='#FFF',\n",
    "            overlaying='y',\n",
    "            side='right',\n",
    "            gridcolor='#999',\n",
    "        ),\n",
    "        xaxis=dict(\n",
    "            range=[min_blobs - m, 9 + m],\n",
    "#             range=[min_blobs - m, max_blobs + m],\n",
    "            title=\"True Class\",\n",
    "            dtick=1,\n",
    "            tickcolor='#FFF'\n",
    "        ),\n",
    "        width=500,\n",
    "        height=500,\n",
    "        plot_bgcolor=\"#000\",\n",
    "        paper_bgcolor=\"#000\",\n",
    "        font=dict(\n",
    "            color=\"#FFF\"\n",
    "        ),\n",
    "        titlefont=dict(\n",
    "            color=\"#FFF\"\n",
    "        ),\n",
    "        legend=dict(x=0, y=1),\n",
    "    )\n",
    "    fig = go.Figure(data=data, layout=layout)\n",
    "    iplot(fig)"
   ]
  },
  {
   "cell_type": "code",
   "execution_count": 17,
   "metadata": {
    "collapsed": true
   },
   "outputs": [],
   "source": [
    "def plot_cv(matrix, plot_title):\n",
    "    \"\"\"Plot the coefficient of variation.\"\"\"\n",
    "        \n",
    "    x_values = np.array(range(min_blobs, 9 + 1))\n",
    "#     x_values = np.array(range(min_blobs, max_blobs + 1))\n",
    "    y_cv = matrix[:, 2]\n",
    "\n",
    "    cv_trace = go.Scatter(\n",
    "        x = x_values,\n",
    "        y = y_cv,\n",
    "        name='Coefficient of Variation'\n",
    "    )\n",
    "    data = [cv_trace]\n",
    "    \n",
    "    layout = go.Layout(\n",
    "        title=plot_title,\n",
    "        yaxis=dict(\n",
    "            title=\"Coefficient of Variation\",\n",
    "            tickcolor='#FFF',\n",
    "            showgrid=True\n",
    "        ),\n",
    "        xaxis=dict(\n",
    "            range=[min_blobs - m, 9 + m],\n",
    "#             range=[min_blobs - m, max_blobs + m],\n",
    "            title=\"True Class\",\n",
    "            dtick=1,\n",
    "            tickcolor='#FFF'\n",
    "        ),\n",
    "        width=500,\n",
    "        height=300,\n",
    "        plot_bgcolor=\"#000\",\n",
    "        paper_bgcolor=\"#000\",\n",
    "        font=dict(\n",
    "            color=\"#FFF\"\n",
    "        ),\n",
    "        titlefont=dict(\n",
    "            color=\"#FFF\"\n",
    "        ),\n",
    "    )\n",
    "    fig = go.Figure(data=data, layout=layout)\n",
    "    iplot(fig)"
   ]
  },
  {
   "cell_type": "code",
   "execution_count": 18,
   "metadata": {
    "scrolled": false
   },
   "outputs": [
    {
     "data": {
      "application/vnd.plotly.v1+json": {
       "data": [
        {
         "name": "Mean",
         "type": "scatter",
         "x": [
          1,
          2,
          3,
          4,
          5,
          6,
          7,
          8,
          9
         ],
         "y": [
          1.416482818261088,
          2.0541890568644217,
          2.7355678193120285,
          3.469524765355218,
          4.136538079931602,
          4.821263230271198,
          5.452248704694716,
          6.127294355244552,
          6.657089724746546,
          null,
          null,
          null,
          null,
          null,
          null
         ]
        },
        {
         "name": "Standard Deviation",
         "type": "scatter",
         "x": [
          1,
          2,
          3,
          4,
          5,
          6,
          7,
          8,
          9
         ],
         "y": [
          1.0053610739940997,
          1.5478470753784315,
          1.890346964786731,
          2.2558976456039614,
          2.503668713888621,
          2.721196221489973,
          2.911056181559272,
          3.072042528924619,
          3.1689936663332263,
          null,
          null,
          null,
          null,
          null,
          null
         ],
         "yaxis": "y2"
        }
       ],
       "layout": {
        "font": {
         "color": "#FFF"
        },
        "height": 500,
        "legend": {
         "x": 0,
         "y": 1
        },
        "paper_bgcolor": "#000",
        "plot_bgcolor": "#000",
        "title": "Confidence after 32000 Iterations at Glimpse 0",
        "titlefont": {
         "color": "#FFF"
        },
        "width": 500,
        "xaxis": {
         "dtick": 1,
         "range": [
          0.5,
          9.5
         ],
         "tickcolor": "#FFF",
         "title": "True Class"
        },
        "yaxis": {
         "dtick": 1,
         "range": [
          0.5,
          15.5
         ],
         "tickcolor": "#FFF",
         "title": "Mean"
        },
        "yaxis2": {
         "gridcolor": "#999",
         "overlaying": "y",
         "range": [
          0,
          3
         ],
         "side": "right",
         "tickcolor": "#FFF",
         "title": "Standard Deviation"
        }
       }
      },
      "text/html": [
       "<div id=\"2e12891a-bdc9-431a-b013-816b1b6cbbd0\" style=\"height: 500px; width: 500px;\" class=\"plotly-graph-div\"></div><script type=\"text/javascript\">require([\"plotly\"], function(Plotly) { window.PLOTLYENV=window.PLOTLYENV || {};window.PLOTLYENV.BASE_URL=\"https://plot.ly\";Plotly.newPlot(\"2e12891a-bdc9-431a-b013-816b1b6cbbd0\", [{\"type\": \"scatter\", \"name\": \"Mean\", \"x\": [1, 2, 3, 4, 5, 6, 7, 8, 9], \"y\": [1.416482818261088, 2.0541890568644217, 2.7355678193120285, 3.469524765355218, 4.136538079931602, 4.821263230271198, 5.452248704694716, 6.127294355244552, 6.657089724746546, null, null, null, null, null, null]}, {\"type\": \"scatter\", \"yaxis\": \"y2\", \"name\": \"Standard Deviation\", \"x\": [1, 2, 3, 4, 5, 6, 7, 8, 9], \"y\": [1.0053610739940997, 1.5478470753784315, 1.890346964786731, 2.2558976456039614, 2.503668713888621, 2.721196221489973, 2.911056181559272, 3.072042528924619, 3.1689936663332263, null, null, null, null, null, null]}], {\"height\": 500, \"paper_bgcolor\": \"#000\", \"plot_bgcolor\": \"#000\", \"font\": {\"color\": \"#FFF\"}, \"titlefont\": {\"color\": \"#FFF\"}, \"xaxis\": {\"tickcolor\": \"#FFF\", \"dtick\": 1, \"title\": \"True Class\", \"range\": [0.5, 9.5]}, \"yaxis\": {\"tickcolor\": \"#FFF\", \"dtick\": 1, \"title\": \"Mean\", \"range\": [0.5, 15.5]}, \"legend\": {\"y\": 1, \"x\": 0}, \"title\": \"Confidence after 32000 Iterations at Glimpse 0\", \"yaxis2\": {\"overlaying\": \"y\", \"gridcolor\": \"#999\", \"range\": [0, 3], \"side\": \"right\", \"title\": \"Standard Deviation\", \"tickcolor\": \"#FFF\"}, \"width\": 500}, {\"showLink\": true, \"linkText\": \"Export to plot.ly\"})});</script>"
      ],
      "text/vnd.plotly.v1+html": [
       "<div id=\"2e12891a-bdc9-431a-b013-816b1b6cbbd0\" style=\"height: 500px; width: 500px;\" class=\"plotly-graph-div\"></div><script type=\"text/javascript\">require([\"plotly\"], function(Plotly) { window.PLOTLYENV=window.PLOTLYENV || {};window.PLOTLYENV.BASE_URL=\"https://plot.ly\";Plotly.newPlot(\"2e12891a-bdc9-431a-b013-816b1b6cbbd0\", [{\"type\": \"scatter\", \"name\": \"Mean\", \"x\": [1, 2, 3, 4, 5, 6, 7, 8, 9], \"y\": [1.416482818261088, 2.0541890568644217, 2.7355678193120285, 3.469524765355218, 4.136538079931602, 4.821263230271198, 5.452248704694716, 6.127294355244552, 6.657089724746546, null, null, null, null, null, null]}, {\"type\": \"scatter\", \"yaxis\": \"y2\", \"name\": \"Standard Deviation\", \"x\": [1, 2, 3, 4, 5, 6, 7, 8, 9], \"y\": [1.0053610739940997, 1.5478470753784315, 1.890346964786731, 2.2558976456039614, 2.503668713888621, 2.721196221489973, 2.911056181559272, 3.072042528924619, 3.1689936663332263, null, null, null, null, null, null]}], {\"height\": 500, \"paper_bgcolor\": \"#000\", \"plot_bgcolor\": \"#000\", \"font\": {\"color\": \"#FFF\"}, \"titlefont\": {\"color\": \"#FFF\"}, \"xaxis\": {\"tickcolor\": \"#FFF\", \"dtick\": 1, \"title\": \"True Class\", \"range\": [0.5, 9.5]}, \"yaxis\": {\"tickcolor\": \"#FFF\", \"dtick\": 1, \"title\": \"Mean\", \"range\": [0.5, 15.5]}, \"legend\": {\"y\": 1, \"x\": 0}, \"title\": \"Confidence after 32000 Iterations at Glimpse 0\", \"yaxis2\": {\"overlaying\": \"y\", \"gridcolor\": \"#999\", \"range\": [0, 3], \"side\": \"right\", \"title\": \"Standard Deviation\", \"tickcolor\": \"#FFF\"}, \"width\": 500}, {\"showLink\": true, \"linkText\": \"Export to plot.ly\"})});</script>"
      ]
     },
     "metadata": {},
     "output_type": "display_data"
    },
    {
     "data": {
      "application/vnd.plotly.v1+json": {
       "data": [
        {
         "name": "Coefficient of Variation",
         "type": "scatter",
         "x": [
          1,
          2,
          3,
          4,
          5,
          6,
          7,
          8,
          9
         ],
         "y": [
          0.6293174985504995,
          0.7497264972210687,
          0.7253828253476755,
          0.7040224575717025,
          0.6789783947166217,
          0.6515329376558647,
          0.6289012998567888,
          0.6033525495127294,
          0.5863071764135668,
          null,
          null,
          null,
          null,
          null,
          null
         ]
        }
       ],
       "layout": {
        "font": {
         "color": "#FFF"
        },
        "height": 300,
        "paper_bgcolor": "#000",
        "plot_bgcolor": "#000",
        "title": "Confidence after 32000 Iterations at Glimpse 0",
        "titlefont": {
         "color": "#FFF"
        },
        "width": 500,
        "xaxis": {
         "dtick": 1,
         "range": [
          0.5,
          9.5
         ],
         "tickcolor": "#FFF",
         "title": "True Class"
        },
        "yaxis": {
         "showgrid": true,
         "tickcolor": "#FFF",
         "title": "Coefficient of Variation"
        }
       }
      },
      "text/html": [
       "<div id=\"7aabb3cf-fc72-4539-94ab-06ffaa99ae27\" style=\"height: 300px; width: 500px;\" class=\"plotly-graph-div\"></div><script type=\"text/javascript\">require([\"plotly\"], function(Plotly) { window.PLOTLYENV=window.PLOTLYENV || {};window.PLOTLYENV.BASE_URL=\"https://plot.ly\";Plotly.newPlot(\"7aabb3cf-fc72-4539-94ab-06ffaa99ae27\", [{\"type\": \"scatter\", \"name\": \"Coefficient of Variation\", \"x\": [1, 2, 3, 4, 5, 6, 7, 8, 9], \"y\": [0.6293174985504995, 0.7497264972210687, 0.7253828253476755, 0.7040224575717025, 0.6789783947166217, 0.6515329376558647, 0.6289012998567888, 0.6033525495127294, 0.5863071764135668, null, null, null, null, null, null]}], {\"height\": 300, \"plot_bgcolor\": \"#000\", \"font\": {\"color\": \"#FFF\"}, \"titlefont\": {\"color\": \"#FFF\"}, \"xaxis\": {\"tickcolor\": \"#FFF\", \"dtick\": 1, \"title\": \"True Class\", \"range\": [0.5, 9.5]}, \"yaxis\": {\"showgrid\": true, \"tickcolor\": \"#FFF\", \"title\": \"Coefficient of Variation\"}, \"width\": 500, \"paper_bgcolor\": \"#000\", \"title\": \"Confidence after 32000 Iterations at Glimpse 0\"}, {\"showLink\": true, \"linkText\": \"Export to plot.ly\"})});</script>"
      ],
      "text/vnd.plotly.v1+html": [
       "<div id=\"7aabb3cf-fc72-4539-94ab-06ffaa99ae27\" style=\"height: 300px; width: 500px;\" class=\"plotly-graph-div\"></div><script type=\"text/javascript\">require([\"plotly\"], function(Plotly) { window.PLOTLYENV=window.PLOTLYENV || {};window.PLOTLYENV.BASE_URL=\"https://plot.ly\";Plotly.newPlot(\"7aabb3cf-fc72-4539-94ab-06ffaa99ae27\", [{\"type\": \"scatter\", \"name\": \"Coefficient of Variation\", \"x\": [1, 2, 3, 4, 5, 6, 7, 8, 9], \"y\": [0.6293174985504995, 0.7497264972210687, 0.7253828253476755, 0.7040224575717025, 0.6789783947166217, 0.6515329376558647, 0.6289012998567888, 0.6033525495127294, 0.5863071764135668, null, null, null, null, null, null]}], {\"height\": 300, \"plot_bgcolor\": \"#000\", \"font\": {\"color\": \"#FFF\"}, \"titlefont\": {\"color\": \"#FFF\"}, \"xaxis\": {\"tickcolor\": \"#FFF\", \"dtick\": 1, \"title\": \"True Class\", \"range\": [0.5, 9.5]}, \"yaxis\": {\"showgrid\": true, \"tickcolor\": \"#FFF\", \"title\": \"Coefficient of Variation\"}, \"width\": 500, \"paper_bgcolor\": \"#000\", \"title\": \"Confidence after 32000 Iterations at Glimpse 0\"}, {\"showLink\": true, \"linkText\": \"Export to plot.ly\"})});</script>"
      ]
     },
     "metadata": {},
     "output_type": "display_data"
    },
    {
     "data": {
      "application/vnd.plotly.v1+json": {
       "data": [
        {
         "name": "Mean",
         "type": "scatter",
         "x": [
          1,
          2,
          3,
          4,
          5,
          6,
          7,
          8,
          9
         ],
         "y": [
          1.0130143089586103,
          1.4709827191268008,
          2.0366214918804184,
          2.6788999440166767,
          3.3444391227728056,
          4.03439931646042,
          4.697615976681731,
          5.4140911594421715,
          5.9771870438048875,
          null,
          null,
          null,
          null,
          null,
          null
         ]
        },
        {
         "name": "Standard Deviation",
         "type": "scatter",
         "x": [
          1,
          2,
          3,
          4,
          5,
          6,
          7,
          8,
          9
         ],
         "y": [
          0.17719474213975364,
          0.6434614834791093,
          1.026712044011194,
          1.461386699723074,
          1.8061412803363264,
          2.029407475283519,
          2.267866722429141,
          2.5621171658916824,
          2.7032461495877538,
          null,
          null,
          null,
          null,
          null,
          null
         ],
         "yaxis": "y2"
        }
       ],
       "layout": {
        "font": {
         "color": "#FFF"
        },
        "height": 500,
        "legend": {
         "x": 0,
         "y": 1
        },
        "paper_bgcolor": "#000",
        "plot_bgcolor": "#000",
        "title": "Choice after 32000 Iterations at Glimpse 0",
        "titlefont": {
         "color": "#FFF"
        },
        "width": 500,
        "xaxis": {
         "dtick": 1,
         "range": [
          0.5,
          9.5
         ],
         "tickcolor": "#FFF",
         "title": "True Class"
        },
        "yaxis": {
         "dtick": 1,
         "range": [
          0.5,
          15.5
         ],
         "tickcolor": "#FFF",
         "title": "Mean"
        },
        "yaxis2": {
         "gridcolor": "#999",
         "overlaying": "y",
         "range": [
          0,
          3
         ],
         "side": "right",
         "tickcolor": "#FFF",
         "title": "Standard Deviation"
        }
       }
      },
      "text/html": [
       "<div id=\"07f7875f-c60a-4d68-8f9d-125d89ab2bd9\" style=\"height: 500px; width: 500px;\" class=\"plotly-graph-div\"></div><script type=\"text/javascript\">require([\"plotly\"], function(Plotly) { window.PLOTLYENV=window.PLOTLYENV || {};window.PLOTLYENV.BASE_URL=\"https://plot.ly\";Plotly.newPlot(\"07f7875f-c60a-4d68-8f9d-125d89ab2bd9\", [{\"type\": \"scatter\", \"name\": \"Mean\", \"x\": [1, 2, 3, 4, 5, 6, 7, 8, 9], \"y\": [1.0130143089586103, 1.4709827191268008, 2.0366214918804184, 2.6788999440166767, 3.3444391227728056, 4.03439931646042, 4.697615976681731, 5.4140911594421715, 5.9771870438048875, null, null, null, null, null, null]}, {\"type\": \"scatter\", \"yaxis\": \"y2\", \"name\": \"Standard Deviation\", \"x\": [1, 2, 3, 4, 5, 6, 7, 8, 9], \"y\": [0.17719474213975364, 0.6434614834791093, 1.026712044011194, 1.461386699723074, 1.8061412803363264, 2.029407475283519, 2.267866722429141, 2.5621171658916824, 2.7032461495877538, null, null, null, null, null, null]}], {\"height\": 500, \"paper_bgcolor\": \"#000\", \"plot_bgcolor\": \"#000\", \"font\": {\"color\": \"#FFF\"}, \"titlefont\": {\"color\": \"#FFF\"}, \"xaxis\": {\"tickcolor\": \"#FFF\", \"dtick\": 1, \"title\": \"True Class\", \"range\": [0.5, 9.5]}, \"yaxis\": {\"tickcolor\": \"#FFF\", \"dtick\": 1, \"title\": \"Mean\", \"range\": [0.5, 15.5]}, \"legend\": {\"y\": 1, \"x\": 0}, \"title\": \"Choice after 32000 Iterations at Glimpse 0\", \"yaxis2\": {\"overlaying\": \"y\", \"gridcolor\": \"#999\", \"range\": [0, 3], \"side\": \"right\", \"title\": \"Standard Deviation\", \"tickcolor\": \"#FFF\"}, \"width\": 500}, {\"showLink\": true, \"linkText\": \"Export to plot.ly\"})});</script>"
      ],
      "text/vnd.plotly.v1+html": [
       "<div id=\"07f7875f-c60a-4d68-8f9d-125d89ab2bd9\" style=\"height: 500px; width: 500px;\" class=\"plotly-graph-div\"></div><script type=\"text/javascript\">require([\"plotly\"], function(Plotly) { window.PLOTLYENV=window.PLOTLYENV || {};window.PLOTLYENV.BASE_URL=\"https://plot.ly\";Plotly.newPlot(\"07f7875f-c60a-4d68-8f9d-125d89ab2bd9\", [{\"type\": \"scatter\", \"name\": \"Mean\", \"x\": [1, 2, 3, 4, 5, 6, 7, 8, 9], \"y\": [1.0130143089586103, 1.4709827191268008, 2.0366214918804184, 2.6788999440166767, 3.3444391227728056, 4.03439931646042, 4.697615976681731, 5.4140911594421715, 5.9771870438048875, null, null, null, null, null, null]}, {\"type\": \"scatter\", \"yaxis\": \"y2\", \"name\": \"Standard Deviation\", \"x\": [1, 2, 3, 4, 5, 6, 7, 8, 9], \"y\": [0.17719474213975364, 0.6434614834791093, 1.026712044011194, 1.461386699723074, 1.8061412803363264, 2.029407475283519, 2.267866722429141, 2.5621171658916824, 2.7032461495877538, null, null, null, null, null, null]}], {\"height\": 500, \"paper_bgcolor\": \"#000\", \"plot_bgcolor\": \"#000\", \"font\": {\"color\": \"#FFF\"}, \"titlefont\": {\"color\": \"#FFF\"}, \"xaxis\": {\"tickcolor\": \"#FFF\", \"dtick\": 1, \"title\": \"True Class\", \"range\": [0.5, 9.5]}, \"yaxis\": {\"tickcolor\": \"#FFF\", \"dtick\": 1, \"title\": \"Mean\", \"range\": [0.5, 15.5]}, \"legend\": {\"y\": 1, \"x\": 0}, \"title\": \"Choice after 32000 Iterations at Glimpse 0\", \"yaxis2\": {\"overlaying\": \"y\", \"gridcolor\": \"#999\", \"range\": [0, 3], \"side\": \"right\", \"title\": \"Standard Deviation\", \"tickcolor\": \"#FFF\"}, \"width\": 500}, {\"showLink\": true, \"linkText\": \"Export to plot.ly\"})});</script>"
      ]
     },
     "metadata": {},
     "output_type": "display_data"
    },
    {
     "data": {
      "application/vnd.plotly.v1+json": {
       "data": [
        {
         "name": "Coefficient of Variation",
         "type": "scatter",
         "x": [
          1,
          2,
          3,
          4,
          5,
          6,
          7,
          8,
          9
         ],
         "y": [
          0.17238887432811253,
          0.4413626822504547,
          0.556583422409684,
          0.6737407324638572,
          0.71840788853039,
          0.6960026153791901,
          0.6720412644474676,
          0.6813796609670346,
          0.662611369443095,
          null,
          null,
          null,
          null,
          null,
          null
         ]
        }
       ],
       "layout": {
        "font": {
         "color": "#FFF"
        },
        "height": 300,
        "paper_bgcolor": "#000",
        "plot_bgcolor": "#000",
        "title": "Choice after 32000 Iterations at Glimpse 0",
        "titlefont": {
         "color": "#FFF"
        },
        "width": 500,
        "xaxis": {
         "dtick": 1,
         "range": [
          0.5,
          9.5
         ],
         "tickcolor": "#FFF",
         "title": "True Class"
        },
        "yaxis": {
         "showgrid": true,
         "tickcolor": "#FFF",
         "title": "Coefficient of Variation"
        }
       }
      },
      "text/html": [
       "<div id=\"b4460295-4ddb-46d6-b65e-cf0a4e37af4c\" style=\"height: 300px; width: 500px;\" class=\"plotly-graph-div\"></div><script type=\"text/javascript\">require([\"plotly\"], function(Plotly) { window.PLOTLYENV=window.PLOTLYENV || {};window.PLOTLYENV.BASE_URL=\"https://plot.ly\";Plotly.newPlot(\"b4460295-4ddb-46d6-b65e-cf0a4e37af4c\", [{\"type\": \"scatter\", \"name\": \"Coefficient of Variation\", \"x\": [1, 2, 3, 4, 5, 6, 7, 8, 9], \"y\": [0.17238887432811253, 0.4413626822504547, 0.556583422409684, 0.6737407324638572, 0.71840788853039, 0.6960026153791901, 0.6720412644474676, 0.6813796609670346, 0.662611369443095, null, null, null, null, null, null]}], {\"height\": 300, \"plot_bgcolor\": \"#000\", \"font\": {\"color\": \"#FFF\"}, \"titlefont\": {\"color\": \"#FFF\"}, \"xaxis\": {\"tickcolor\": \"#FFF\", \"dtick\": 1, \"title\": \"True Class\", \"range\": [0.5, 9.5]}, \"yaxis\": {\"showgrid\": true, \"tickcolor\": \"#FFF\", \"title\": \"Coefficient of Variation\"}, \"width\": 500, \"paper_bgcolor\": \"#000\", \"title\": \"Choice after 32000 Iterations at Glimpse 0\"}, {\"showLink\": true, \"linkText\": \"Export to plot.ly\"})});</script>"
      ],
      "text/vnd.plotly.v1+html": [
       "<div id=\"b4460295-4ddb-46d6-b65e-cf0a4e37af4c\" style=\"height: 300px; width: 500px;\" class=\"plotly-graph-div\"></div><script type=\"text/javascript\">require([\"plotly\"], function(Plotly) { window.PLOTLYENV=window.PLOTLYENV || {};window.PLOTLYENV.BASE_URL=\"https://plot.ly\";Plotly.newPlot(\"b4460295-4ddb-46d6-b65e-cf0a4e37af4c\", [{\"type\": \"scatter\", \"name\": \"Coefficient of Variation\", \"x\": [1, 2, 3, 4, 5, 6, 7, 8, 9], \"y\": [0.17238887432811253, 0.4413626822504547, 0.556583422409684, 0.6737407324638572, 0.71840788853039, 0.6960026153791901, 0.6720412644474676, 0.6813796609670346, 0.662611369443095, null, null, null, null, null, null]}], {\"height\": 300, \"plot_bgcolor\": \"#000\", \"font\": {\"color\": \"#FFF\"}, \"titlefont\": {\"color\": \"#FFF\"}, \"xaxis\": {\"tickcolor\": \"#FFF\", \"dtick\": 1, \"title\": \"True Class\", \"range\": [0.5, 9.5]}, \"yaxis\": {\"showgrid\": true, \"tickcolor\": \"#FFF\", \"title\": \"Coefficient of Variation\"}, \"width\": 500, \"paper_bgcolor\": \"#000\", \"title\": \"Choice after 32000 Iterations at Glimpse 0\"}, {\"showLink\": true, \"linkText\": \"Export to plot.ly\"})});</script>"
      ]
     },
     "metadata": {},
     "output_type": "display_data"
    },
    {
     "data": {
      "application/vnd.plotly.v1+json": {
       "data": [
        {
         "name": "Mean",
         "type": "scatter",
         "x": [
          1,
          2,
          3,
          4,
          5,
          6,
          7,
          8,
          9
         ],
         "y": [
          1.1127240375059233,
          1.9221288331422481,
          2.843209676192443,
          3.8054749672553903,
          4.762790739107793,
          5.721199352569835,
          6.6485043038935405,
          7.646030152907836,
          8.492996178818895,
          null,
          null,
          null,
          null,
          null,
          null
         ]
        },
        {
         "name": "Standard Deviation",
         "type": "scatter",
         "x": [
          1,
          2,
          3,
          4,
          5,
          6,
          7,
          8,
          9
         ],
         "y": [
          0.3679310654726117,
          0.9290461855152209,
          1.309446648062797,
          1.6249334128963082,
          1.8660180867507197,
          2.1517619177414975,
          2.376204850302282,
          2.6396370394215527,
          2.791256994801416,
          null,
          null,
          null,
          null,
          null,
          null
         ],
         "yaxis": "y2"
        }
       ],
       "layout": {
        "font": {
         "color": "#FFF"
        },
        "height": 500,
        "legend": {
         "x": 0,
         "y": 1
        },
        "paper_bgcolor": "#000",
        "plot_bgcolor": "#000",
        "title": "Confidence after 32000 Iterations at Glimpse 3",
        "titlefont": {
         "color": "#FFF"
        },
        "width": 500,
        "xaxis": {
         "dtick": 1,
         "range": [
          0.5,
          9.5
         ],
         "tickcolor": "#FFF",
         "title": "True Class"
        },
        "yaxis": {
         "dtick": 1,
         "range": [
          0.5,
          15.5
         ],
         "tickcolor": "#FFF",
         "title": "Mean"
        },
        "yaxis2": {
         "gridcolor": "#999",
         "overlaying": "y",
         "range": [
          0,
          3
         ],
         "side": "right",
         "tickcolor": "#FFF",
         "title": "Standard Deviation"
        }
       }
      },
      "text/html": [
       "<div id=\"823ff427-277d-4fbe-876b-009f4dd729a6\" style=\"height: 500px; width: 500px;\" class=\"plotly-graph-div\"></div><script type=\"text/javascript\">require([\"plotly\"], function(Plotly) { window.PLOTLYENV=window.PLOTLYENV || {};window.PLOTLYENV.BASE_URL=\"https://plot.ly\";Plotly.newPlot(\"823ff427-277d-4fbe-876b-009f4dd729a6\", [{\"type\": \"scatter\", \"name\": \"Mean\", \"x\": [1, 2, 3, 4, 5, 6, 7, 8, 9], \"y\": [1.1127240375059233, 1.9221288331422481, 2.843209676192443, 3.8054749672553903, 4.762790739107793, 5.721199352569835, 6.6485043038935405, 7.646030152907836, 8.492996178818895, null, null, null, null, null, null]}, {\"type\": \"scatter\", \"yaxis\": \"y2\", \"name\": \"Standard Deviation\", \"x\": [1, 2, 3, 4, 5, 6, 7, 8, 9], \"y\": [0.3679310654726117, 0.9290461855152209, 1.309446648062797, 1.6249334128963082, 1.8660180867507197, 2.1517619177414975, 2.376204850302282, 2.6396370394215527, 2.791256994801416, null, null, null, null, null, null]}], {\"height\": 500, \"paper_bgcolor\": \"#000\", \"plot_bgcolor\": \"#000\", \"font\": {\"color\": \"#FFF\"}, \"titlefont\": {\"color\": \"#FFF\"}, \"xaxis\": {\"tickcolor\": \"#FFF\", \"dtick\": 1, \"title\": \"True Class\", \"range\": [0.5, 9.5]}, \"yaxis\": {\"tickcolor\": \"#FFF\", \"dtick\": 1, \"title\": \"Mean\", \"range\": [0.5, 15.5]}, \"legend\": {\"y\": 1, \"x\": 0}, \"title\": \"Confidence after 32000 Iterations at Glimpse 3\", \"yaxis2\": {\"overlaying\": \"y\", \"gridcolor\": \"#999\", \"range\": [0, 3], \"side\": \"right\", \"title\": \"Standard Deviation\", \"tickcolor\": \"#FFF\"}, \"width\": 500}, {\"showLink\": true, \"linkText\": \"Export to plot.ly\"})});</script>"
      ],
      "text/vnd.plotly.v1+html": [
       "<div id=\"823ff427-277d-4fbe-876b-009f4dd729a6\" style=\"height: 500px; width: 500px;\" class=\"plotly-graph-div\"></div><script type=\"text/javascript\">require([\"plotly\"], function(Plotly) { window.PLOTLYENV=window.PLOTLYENV || {};window.PLOTLYENV.BASE_URL=\"https://plot.ly\";Plotly.newPlot(\"823ff427-277d-4fbe-876b-009f4dd729a6\", [{\"type\": \"scatter\", \"name\": \"Mean\", \"x\": [1, 2, 3, 4, 5, 6, 7, 8, 9], \"y\": [1.1127240375059233, 1.9221288331422481, 2.843209676192443, 3.8054749672553903, 4.762790739107793, 5.721199352569835, 6.6485043038935405, 7.646030152907836, 8.492996178818895, null, null, null, null, null, null]}, {\"type\": \"scatter\", \"yaxis\": \"y2\", \"name\": \"Standard Deviation\", \"x\": [1, 2, 3, 4, 5, 6, 7, 8, 9], \"y\": [0.3679310654726117, 0.9290461855152209, 1.309446648062797, 1.6249334128963082, 1.8660180867507197, 2.1517619177414975, 2.376204850302282, 2.6396370394215527, 2.791256994801416, null, null, null, null, null, null]}], {\"height\": 500, \"paper_bgcolor\": \"#000\", \"plot_bgcolor\": \"#000\", \"font\": {\"color\": \"#FFF\"}, \"titlefont\": {\"color\": \"#FFF\"}, \"xaxis\": {\"tickcolor\": \"#FFF\", \"dtick\": 1, \"title\": \"True Class\", \"range\": [0.5, 9.5]}, \"yaxis\": {\"tickcolor\": \"#FFF\", \"dtick\": 1, \"title\": \"Mean\", \"range\": [0.5, 15.5]}, \"legend\": {\"y\": 1, \"x\": 0}, \"title\": \"Confidence after 32000 Iterations at Glimpse 3\", \"yaxis2\": {\"overlaying\": \"y\", \"gridcolor\": \"#999\", \"range\": [0, 3], \"side\": \"right\", \"title\": \"Standard Deviation\", \"tickcolor\": \"#FFF\"}, \"width\": 500}, {\"showLink\": true, \"linkText\": \"Export to plot.ly\"})});</script>"
      ]
     },
     "metadata": {},
     "output_type": "display_data"
    },
    {
     "data": {
      "application/vnd.plotly.v1+json": {
       "data": [
        {
         "name": "Coefficient of Variation",
         "type": "scatter",
         "x": [
          1,
          2,
          3,
          4,
          5,
          6,
          7,
          8,
          9
         ],
         "y": [
          0.32726312870909513,
          0.4885546316539786,
          0.46194656486772123,
          0.42706242902956265,
          0.39239703825553385,
          0.3763962151247644,
          0.358185449138643,
          0.34682431349486337,
          0.3301365047310759,
          null,
          null,
          null,
          null,
          null,
          null
         ]
        }
       ],
       "layout": {
        "font": {
         "color": "#FFF"
        },
        "height": 300,
        "paper_bgcolor": "#000",
        "plot_bgcolor": "#000",
        "title": "Confidence after 32000 Iterations at Glimpse 3",
        "titlefont": {
         "color": "#FFF"
        },
        "width": 500,
        "xaxis": {
         "dtick": 1,
         "range": [
          0.5,
          9.5
         ],
         "tickcolor": "#FFF",
         "title": "True Class"
        },
        "yaxis": {
         "showgrid": true,
         "tickcolor": "#FFF",
         "title": "Coefficient of Variation"
        }
       }
      },
      "text/html": [
       "<div id=\"c770e018-442d-47c8-8620-c896d8977152\" style=\"height: 300px; width: 500px;\" class=\"plotly-graph-div\"></div><script type=\"text/javascript\">require([\"plotly\"], function(Plotly) { window.PLOTLYENV=window.PLOTLYENV || {};window.PLOTLYENV.BASE_URL=\"https://plot.ly\";Plotly.newPlot(\"c770e018-442d-47c8-8620-c896d8977152\", [{\"type\": \"scatter\", \"name\": \"Coefficient of Variation\", \"x\": [1, 2, 3, 4, 5, 6, 7, 8, 9], \"y\": [0.32726312870909513, 0.4885546316539786, 0.46194656486772123, 0.42706242902956265, 0.39239703825553385, 0.3763962151247644, 0.358185449138643, 0.34682431349486337, 0.3301365047310759, null, null, null, null, null, null]}], {\"height\": 300, \"plot_bgcolor\": \"#000\", \"font\": {\"color\": \"#FFF\"}, \"titlefont\": {\"color\": \"#FFF\"}, \"xaxis\": {\"tickcolor\": \"#FFF\", \"dtick\": 1, \"title\": \"True Class\", \"range\": [0.5, 9.5]}, \"yaxis\": {\"showgrid\": true, \"tickcolor\": \"#FFF\", \"title\": \"Coefficient of Variation\"}, \"width\": 500, \"paper_bgcolor\": \"#000\", \"title\": \"Confidence after 32000 Iterations at Glimpse 3\"}, {\"showLink\": true, \"linkText\": \"Export to plot.ly\"})});</script>"
      ],
      "text/vnd.plotly.v1+html": [
       "<div id=\"c770e018-442d-47c8-8620-c896d8977152\" style=\"height: 300px; width: 500px;\" class=\"plotly-graph-div\"></div><script type=\"text/javascript\">require([\"plotly\"], function(Plotly) { window.PLOTLYENV=window.PLOTLYENV || {};window.PLOTLYENV.BASE_URL=\"https://plot.ly\";Plotly.newPlot(\"c770e018-442d-47c8-8620-c896d8977152\", [{\"type\": \"scatter\", \"name\": \"Coefficient of Variation\", \"x\": [1, 2, 3, 4, 5, 6, 7, 8, 9], \"y\": [0.32726312870909513, 0.4885546316539786, 0.46194656486772123, 0.42706242902956265, 0.39239703825553385, 0.3763962151247644, 0.358185449138643, 0.34682431349486337, 0.3301365047310759, null, null, null, null, null, null]}], {\"height\": 300, \"plot_bgcolor\": \"#000\", \"font\": {\"color\": \"#FFF\"}, \"titlefont\": {\"color\": \"#FFF\"}, \"xaxis\": {\"tickcolor\": \"#FFF\", \"dtick\": 1, \"title\": \"True Class\", \"range\": [0.5, 9.5]}, \"yaxis\": {\"showgrid\": true, \"tickcolor\": \"#FFF\", \"title\": \"Coefficient of Variation\"}, \"width\": 500, \"paper_bgcolor\": \"#000\", \"title\": \"Confidence after 32000 Iterations at Glimpse 3\"}, {\"showLink\": true, \"linkText\": \"Export to plot.ly\"})});</script>"
      ]
     },
     "metadata": {},
     "output_type": "display_data"
    },
    {
     "data": {
      "application/vnd.plotly.v1+json": {
       "data": [
        {
         "name": "Mean",
         "type": "scatter",
         "x": [
          1,
          2,
          3,
          4,
          5,
          6,
          7,
          8,
          9
         ],
         "y": [
          1.008689278408211,
          1.7012550926582883,
          2.5746960046018046,
          3.5558799349138703,
          4.5121046022494635,
          5.457685609819379,
          6.362407621122054,
          7.4110565125786305,
          8.304886699509037,
          null,
          null,
          null,
          null,
          null,
          null
         ]
        },
        {
         "name": "Standard Deviation",
         "type": "scatter",
         "x": [
          1,
          2,
          3,
          4,
          5,
          6,
          7,
          8,
          9
         ],
         "y": [
          0.08672482837062752,
          0.6627386534138872,
          1.044919759641035,
          1.3318022897884525,
          1.498491398645399,
          1.7439381942383363,
          1.9440943515868963,
          2.2887799128109094,
          2.4996189099356707,
          null,
          null,
          null,
          null,
          null,
          null
         ],
         "yaxis": "y2"
        }
       ],
       "layout": {
        "font": {
         "color": "#FFF"
        },
        "height": 500,
        "legend": {
         "x": 0,
         "y": 1
        },
        "paper_bgcolor": "#000",
        "plot_bgcolor": "#000",
        "title": "Choice after 32000 Iterations at Glimpse 3",
        "titlefont": {
         "color": "#FFF"
        },
        "width": 500,
        "xaxis": {
         "dtick": 1,
         "range": [
          0.5,
          9.5
         ],
         "tickcolor": "#FFF",
         "title": "True Class"
        },
        "yaxis": {
         "dtick": 1,
         "range": [
          0.5,
          15.5
         ],
         "tickcolor": "#FFF",
         "title": "Mean"
        },
        "yaxis2": {
         "gridcolor": "#999",
         "overlaying": "y",
         "range": [
          0,
          3
         ],
         "side": "right",
         "tickcolor": "#FFF",
         "title": "Standard Deviation"
        }
       }
      },
      "text/html": [
       "<div id=\"1f5577b0-bf9f-4b5f-8ffb-9bf4b5e7126f\" style=\"height: 500px; width: 500px;\" class=\"plotly-graph-div\"></div><script type=\"text/javascript\">require([\"plotly\"], function(Plotly) { window.PLOTLYENV=window.PLOTLYENV || {};window.PLOTLYENV.BASE_URL=\"https://plot.ly\";Plotly.newPlot(\"1f5577b0-bf9f-4b5f-8ffb-9bf4b5e7126f\", [{\"type\": \"scatter\", \"name\": \"Mean\", \"x\": [1, 2, 3, 4, 5, 6, 7, 8, 9], \"y\": [1.008689278408211, 1.7012550926582883, 2.5746960046018046, 3.5558799349138703, 4.5121046022494635, 5.457685609819379, 6.362407621122054, 7.4110565125786305, 8.304886699509037, null, null, null, null, null, null]}, {\"type\": \"scatter\", \"yaxis\": \"y2\", \"name\": \"Standard Deviation\", \"x\": [1, 2, 3, 4, 5, 6, 7, 8, 9], \"y\": [0.08672482837062752, 0.6627386534138872, 1.044919759641035, 1.3318022897884525, 1.498491398645399, 1.7439381942383363, 1.9440943515868963, 2.2887799128109094, 2.4996189099356707, null, null, null, null, null, null]}], {\"height\": 500, \"paper_bgcolor\": \"#000\", \"plot_bgcolor\": \"#000\", \"font\": {\"color\": \"#FFF\"}, \"titlefont\": {\"color\": \"#FFF\"}, \"xaxis\": {\"tickcolor\": \"#FFF\", \"dtick\": 1, \"title\": \"True Class\", \"range\": [0.5, 9.5]}, \"yaxis\": {\"tickcolor\": \"#FFF\", \"dtick\": 1, \"title\": \"Mean\", \"range\": [0.5, 15.5]}, \"legend\": {\"y\": 1, \"x\": 0}, \"title\": \"Choice after 32000 Iterations at Glimpse 3\", \"yaxis2\": {\"overlaying\": \"y\", \"gridcolor\": \"#999\", \"range\": [0, 3], \"side\": \"right\", \"title\": \"Standard Deviation\", \"tickcolor\": \"#FFF\"}, \"width\": 500}, {\"showLink\": true, \"linkText\": \"Export to plot.ly\"})});</script>"
      ],
      "text/vnd.plotly.v1+html": [
       "<div id=\"1f5577b0-bf9f-4b5f-8ffb-9bf4b5e7126f\" style=\"height: 500px; width: 500px;\" class=\"plotly-graph-div\"></div><script type=\"text/javascript\">require([\"plotly\"], function(Plotly) { window.PLOTLYENV=window.PLOTLYENV || {};window.PLOTLYENV.BASE_URL=\"https://plot.ly\";Plotly.newPlot(\"1f5577b0-bf9f-4b5f-8ffb-9bf4b5e7126f\", [{\"type\": \"scatter\", \"name\": \"Mean\", \"x\": [1, 2, 3, 4, 5, 6, 7, 8, 9], \"y\": [1.008689278408211, 1.7012550926582883, 2.5746960046018046, 3.5558799349138703, 4.5121046022494635, 5.457685609819379, 6.362407621122054, 7.4110565125786305, 8.304886699509037, null, null, null, null, null, null]}, {\"type\": \"scatter\", \"yaxis\": \"y2\", \"name\": \"Standard Deviation\", \"x\": [1, 2, 3, 4, 5, 6, 7, 8, 9], \"y\": [0.08672482837062752, 0.6627386534138872, 1.044919759641035, 1.3318022897884525, 1.498491398645399, 1.7439381942383363, 1.9440943515868963, 2.2887799128109094, 2.4996189099356707, null, null, null, null, null, null]}], {\"height\": 500, \"paper_bgcolor\": \"#000\", \"plot_bgcolor\": \"#000\", \"font\": {\"color\": \"#FFF\"}, \"titlefont\": {\"color\": \"#FFF\"}, \"xaxis\": {\"tickcolor\": \"#FFF\", \"dtick\": 1, \"title\": \"True Class\", \"range\": [0.5, 9.5]}, \"yaxis\": {\"tickcolor\": \"#FFF\", \"dtick\": 1, \"title\": \"Mean\", \"range\": [0.5, 15.5]}, \"legend\": {\"y\": 1, \"x\": 0}, \"title\": \"Choice after 32000 Iterations at Glimpse 3\", \"yaxis2\": {\"overlaying\": \"y\", \"gridcolor\": \"#999\", \"range\": [0, 3], \"side\": \"right\", \"title\": \"Standard Deviation\", \"tickcolor\": \"#FFF\"}, \"width\": 500}, {\"showLink\": true, \"linkText\": \"Export to plot.ly\"})});</script>"
      ]
     },
     "metadata": {},
     "output_type": "display_data"
    },
    {
     "data": {
      "application/vnd.plotly.v1+json": {
       "data": [
        {
         "name": "Coefficient of Variation",
         "type": "scatter",
         "x": [
          1,
          2,
          3,
          4,
          5,
          6,
          7,
          8,
          9
         ],
         "y": [
          0.08567722008395798,
          0.39812278352970404,
          0.4097653301750136,
          0.37604111012389685,
          0.33474242799806697,
          0.31992789603189337,
          0.30649481427758823,
          0.3110138640000187,
          0.30277059579344445,
          null,
          null,
          null,
          null,
          null,
          null
         ]
        }
       ],
       "layout": {
        "font": {
         "color": "#FFF"
        },
        "height": 300,
        "paper_bgcolor": "#000",
        "plot_bgcolor": "#000",
        "title": "Choice after 32000 Iterations at Glimpse 3",
        "titlefont": {
         "color": "#FFF"
        },
        "width": 500,
        "xaxis": {
         "dtick": 1,
         "range": [
          0.5,
          9.5
         ],
         "tickcolor": "#FFF",
         "title": "True Class"
        },
        "yaxis": {
         "showgrid": true,
         "tickcolor": "#FFF",
         "title": "Coefficient of Variation"
        }
       }
      },
      "text/html": [
       "<div id=\"faedb53b-3ca9-49bf-9c50-b88ebac65d5b\" style=\"height: 300px; width: 500px;\" class=\"plotly-graph-div\"></div><script type=\"text/javascript\">require([\"plotly\"], function(Plotly) { window.PLOTLYENV=window.PLOTLYENV || {};window.PLOTLYENV.BASE_URL=\"https://plot.ly\";Plotly.newPlot(\"faedb53b-3ca9-49bf-9c50-b88ebac65d5b\", [{\"type\": \"scatter\", \"name\": \"Coefficient of Variation\", \"x\": [1, 2, 3, 4, 5, 6, 7, 8, 9], \"y\": [0.08567722008395798, 0.39812278352970404, 0.4097653301750136, 0.37604111012389685, 0.33474242799806697, 0.31992789603189337, 0.30649481427758823, 0.3110138640000187, 0.30277059579344445, null, null, null, null, null, null]}], {\"height\": 300, \"plot_bgcolor\": \"#000\", \"font\": {\"color\": \"#FFF\"}, \"titlefont\": {\"color\": \"#FFF\"}, \"xaxis\": {\"tickcolor\": \"#FFF\", \"dtick\": 1, \"title\": \"True Class\", \"range\": [0.5, 9.5]}, \"yaxis\": {\"showgrid\": true, \"tickcolor\": \"#FFF\", \"title\": \"Coefficient of Variation\"}, \"width\": 500, \"paper_bgcolor\": \"#000\", \"title\": \"Choice after 32000 Iterations at Glimpse 3\"}, {\"showLink\": true, \"linkText\": \"Export to plot.ly\"})});</script>"
      ],
      "text/vnd.plotly.v1+html": [
       "<div id=\"faedb53b-3ca9-49bf-9c50-b88ebac65d5b\" style=\"height: 300px; width: 500px;\" class=\"plotly-graph-div\"></div><script type=\"text/javascript\">require([\"plotly\"], function(Plotly) { window.PLOTLYENV=window.PLOTLYENV || {};window.PLOTLYENV.BASE_URL=\"https://plot.ly\";Plotly.newPlot(\"faedb53b-3ca9-49bf-9c50-b88ebac65d5b\", [{\"type\": \"scatter\", \"name\": \"Coefficient of Variation\", \"x\": [1, 2, 3, 4, 5, 6, 7, 8, 9], \"y\": [0.08567722008395798, 0.39812278352970404, 0.4097653301750136, 0.37604111012389685, 0.33474242799806697, 0.31992789603189337, 0.30649481427758823, 0.3110138640000187, 0.30277059579344445, null, null, null, null, null, null]}], {\"height\": 300, \"plot_bgcolor\": \"#000\", \"font\": {\"color\": \"#FFF\"}, \"titlefont\": {\"color\": \"#FFF\"}, \"xaxis\": {\"tickcolor\": \"#FFF\", \"dtick\": 1, \"title\": \"True Class\", \"range\": [0.5, 9.5]}, \"yaxis\": {\"showgrid\": true, \"tickcolor\": \"#FFF\", \"title\": \"Coefficient of Variation\"}, \"width\": 500, \"paper_bgcolor\": \"#000\", \"title\": \"Choice after 32000 Iterations at Glimpse 3\"}, {\"showLink\": true, \"linkText\": \"Export to plot.ly\"})});</script>"
      ]
     },
     "metadata": {},
     "output_type": "display_data"
    },
    {
     "data": {
      "application/vnd.plotly.v1+json": {
       "data": [
        {
         "name": "Mean",
         "type": "scatter",
         "x": [
          1,
          2,
          3,
          4,
          5,
          6,
          7,
          8,
          9
         ],
         "y": [
          1.0999635093587234,
          1.9915231709345207,
          2.8366200839670386,
          3.759427199421304,
          4.723164452895536,
          5.713804224655269,
          6.708899203673542,
          7.742832597038505,
          8.637026733478308,
          null,
          null,
          null,
          null,
          null,
          null
         ]
        },
        {
         "name": "Standard Deviation",
         "type": "scatter",
         "x": [
          1,
          2,
          3,
          4,
          5,
          6,
          7,
          8,
          9
         ],
         "y": [
          0.33296560450653195,
          0.8388948358833807,
          1.1891595508408326,
          1.497920442790733,
          1.7682424066534725,
          2.0632303183429093,
          2.288426100243465,
          2.5328896235021547,
          2.6659681436818943,
          null,
          null,
          null,
          null,
          null,
          null
         ],
         "yaxis": "y2"
        }
       ],
       "layout": {
        "font": {
         "color": "#FFF"
        },
        "height": 500,
        "legend": {
         "x": 0,
         "y": 1
        },
        "paper_bgcolor": "#000",
        "plot_bgcolor": "#000",
        "title": "Confidence after 32000 Iterations at Glimpse 9",
        "titlefont": {
         "color": "#FFF"
        },
        "width": 500,
        "xaxis": {
         "dtick": 1,
         "range": [
          0.5,
          9.5
         ],
         "tickcolor": "#FFF",
         "title": "True Class"
        },
        "yaxis": {
         "dtick": 1,
         "range": [
          0.5,
          15.5
         ],
         "tickcolor": "#FFF",
         "title": "Mean"
        },
        "yaxis2": {
         "gridcolor": "#999",
         "overlaying": "y",
         "range": [
          0,
          3
         ],
         "side": "right",
         "tickcolor": "#FFF",
         "title": "Standard Deviation"
        }
       }
      },
      "text/html": [
       "<div id=\"39422f60-5efd-49df-8160-1776c5640aa0\" style=\"height: 500px; width: 500px;\" class=\"plotly-graph-div\"></div><script type=\"text/javascript\">require([\"plotly\"], function(Plotly) { window.PLOTLYENV=window.PLOTLYENV || {};window.PLOTLYENV.BASE_URL=\"https://plot.ly\";Plotly.newPlot(\"39422f60-5efd-49df-8160-1776c5640aa0\", [{\"type\": \"scatter\", \"name\": \"Mean\", \"x\": [1, 2, 3, 4, 5, 6, 7, 8, 9], \"y\": [1.0999635093587234, 1.9915231709345207, 2.8366200839670386, 3.759427199421304, 4.723164452895536, 5.713804224655269, 6.708899203673542, 7.742832597038505, 8.637026733478308, null, null, null, null, null, null]}, {\"type\": \"scatter\", \"yaxis\": \"y2\", \"name\": \"Standard Deviation\", \"x\": [1, 2, 3, 4, 5, 6, 7, 8, 9], \"y\": [0.33296560450653195, 0.8388948358833807, 1.1891595508408326, 1.497920442790733, 1.7682424066534725, 2.0632303183429093, 2.288426100243465, 2.5328896235021547, 2.6659681436818943, null, null, null, null, null, null]}], {\"height\": 500, \"paper_bgcolor\": \"#000\", \"plot_bgcolor\": \"#000\", \"font\": {\"color\": \"#FFF\"}, \"titlefont\": {\"color\": \"#FFF\"}, \"xaxis\": {\"tickcolor\": \"#FFF\", \"dtick\": 1, \"title\": \"True Class\", \"range\": [0.5, 9.5]}, \"yaxis\": {\"tickcolor\": \"#FFF\", \"dtick\": 1, \"title\": \"Mean\", \"range\": [0.5, 15.5]}, \"legend\": {\"y\": 1, \"x\": 0}, \"title\": \"Confidence after 32000 Iterations at Glimpse 9\", \"yaxis2\": {\"overlaying\": \"y\", \"gridcolor\": \"#999\", \"range\": [0, 3], \"side\": \"right\", \"title\": \"Standard Deviation\", \"tickcolor\": \"#FFF\"}, \"width\": 500}, {\"showLink\": true, \"linkText\": \"Export to plot.ly\"})});</script>"
      ],
      "text/vnd.plotly.v1+html": [
       "<div id=\"39422f60-5efd-49df-8160-1776c5640aa0\" style=\"height: 500px; width: 500px;\" class=\"plotly-graph-div\"></div><script type=\"text/javascript\">require([\"plotly\"], function(Plotly) { window.PLOTLYENV=window.PLOTLYENV || {};window.PLOTLYENV.BASE_URL=\"https://plot.ly\";Plotly.newPlot(\"39422f60-5efd-49df-8160-1776c5640aa0\", [{\"type\": \"scatter\", \"name\": \"Mean\", \"x\": [1, 2, 3, 4, 5, 6, 7, 8, 9], \"y\": [1.0999635093587234, 1.9915231709345207, 2.8366200839670386, 3.759427199421304, 4.723164452895536, 5.713804224655269, 6.708899203673542, 7.742832597038505, 8.637026733478308, null, null, null, null, null, null]}, {\"type\": \"scatter\", \"yaxis\": \"y2\", \"name\": \"Standard Deviation\", \"x\": [1, 2, 3, 4, 5, 6, 7, 8, 9], \"y\": [0.33296560450653195, 0.8388948358833807, 1.1891595508408326, 1.497920442790733, 1.7682424066534725, 2.0632303183429093, 2.288426100243465, 2.5328896235021547, 2.6659681436818943, null, null, null, null, null, null]}], {\"height\": 500, \"paper_bgcolor\": \"#000\", \"plot_bgcolor\": \"#000\", \"font\": {\"color\": \"#FFF\"}, \"titlefont\": {\"color\": \"#FFF\"}, \"xaxis\": {\"tickcolor\": \"#FFF\", \"dtick\": 1, \"title\": \"True Class\", \"range\": [0.5, 9.5]}, \"yaxis\": {\"tickcolor\": \"#FFF\", \"dtick\": 1, \"title\": \"Mean\", \"range\": [0.5, 15.5]}, \"legend\": {\"y\": 1, \"x\": 0}, \"title\": \"Confidence after 32000 Iterations at Glimpse 9\", \"yaxis2\": {\"overlaying\": \"y\", \"gridcolor\": \"#999\", \"range\": [0, 3], \"side\": \"right\", \"title\": \"Standard Deviation\", \"tickcolor\": \"#FFF\"}, \"width\": 500}, {\"showLink\": true, \"linkText\": \"Export to plot.ly\"})});</script>"
      ]
     },
     "metadata": {},
     "output_type": "display_data"
    },
    {
     "data": {
      "application/vnd.plotly.v1+json": {
       "data": [
        {
         "name": "Coefficient of Variation",
         "type": "scatter",
         "x": [
          1,
          2,
          3,
          4,
          5,
          6,
          7,
          8,
          9
         ],
         "y": [
          0.2997342916607687,
          0.4262078183324065,
          0.42094255148256277,
          0.39837526745784296,
          0.3739797088511442,
          0.3602865991106448,
          0.3405363951936654,
          0.3274347538167617,
          0.309375741638348,
          null,
          null,
          null,
          null,
          null,
          null
         ]
        }
       ],
       "layout": {
        "font": {
         "color": "#FFF"
        },
        "height": 300,
        "paper_bgcolor": "#000",
        "plot_bgcolor": "#000",
        "title": "Confidence after 32000 Iterations at Glimpse 9",
        "titlefont": {
         "color": "#FFF"
        },
        "width": 500,
        "xaxis": {
         "dtick": 1,
         "range": [
          0.5,
          9.5
         ],
         "tickcolor": "#FFF",
         "title": "True Class"
        },
        "yaxis": {
         "showgrid": true,
         "tickcolor": "#FFF",
         "title": "Coefficient of Variation"
        }
       }
      },
      "text/html": [
       "<div id=\"7fe66015-b8d0-4b02-b6a7-16c8b81d006b\" style=\"height: 300px; width: 500px;\" class=\"plotly-graph-div\"></div><script type=\"text/javascript\">require([\"plotly\"], function(Plotly) { window.PLOTLYENV=window.PLOTLYENV || {};window.PLOTLYENV.BASE_URL=\"https://plot.ly\";Plotly.newPlot(\"7fe66015-b8d0-4b02-b6a7-16c8b81d006b\", [{\"type\": \"scatter\", \"name\": \"Coefficient of Variation\", \"x\": [1, 2, 3, 4, 5, 6, 7, 8, 9], \"y\": [0.2997342916607687, 0.4262078183324065, 0.42094255148256277, 0.39837526745784296, 0.3739797088511442, 0.3602865991106448, 0.3405363951936654, 0.3274347538167617, 0.309375741638348, null, null, null, null, null, null]}], {\"height\": 300, \"plot_bgcolor\": \"#000\", \"font\": {\"color\": \"#FFF\"}, \"titlefont\": {\"color\": \"#FFF\"}, \"xaxis\": {\"tickcolor\": \"#FFF\", \"dtick\": 1, \"title\": \"True Class\", \"range\": [0.5, 9.5]}, \"yaxis\": {\"showgrid\": true, \"tickcolor\": \"#FFF\", \"title\": \"Coefficient of Variation\"}, \"width\": 500, \"paper_bgcolor\": \"#000\", \"title\": \"Confidence after 32000 Iterations at Glimpse 9\"}, {\"showLink\": true, \"linkText\": \"Export to plot.ly\"})});</script>"
      ],
      "text/vnd.plotly.v1+html": [
       "<div id=\"7fe66015-b8d0-4b02-b6a7-16c8b81d006b\" style=\"height: 300px; width: 500px;\" class=\"plotly-graph-div\"></div><script type=\"text/javascript\">require([\"plotly\"], function(Plotly) { window.PLOTLYENV=window.PLOTLYENV || {};window.PLOTLYENV.BASE_URL=\"https://plot.ly\";Plotly.newPlot(\"7fe66015-b8d0-4b02-b6a7-16c8b81d006b\", [{\"type\": \"scatter\", \"name\": \"Coefficient of Variation\", \"x\": [1, 2, 3, 4, 5, 6, 7, 8, 9], \"y\": [0.2997342916607687, 0.4262078183324065, 0.42094255148256277, 0.39837526745784296, 0.3739797088511442, 0.3602865991106448, 0.3405363951936654, 0.3274347538167617, 0.309375741638348, null, null, null, null, null, null]}], {\"height\": 300, \"plot_bgcolor\": \"#000\", \"font\": {\"color\": \"#FFF\"}, \"titlefont\": {\"color\": \"#FFF\"}, \"xaxis\": {\"tickcolor\": \"#FFF\", \"dtick\": 1, \"title\": \"True Class\", \"range\": [0.5, 9.5]}, \"yaxis\": {\"showgrid\": true, \"tickcolor\": \"#FFF\", \"title\": \"Coefficient of Variation\"}, \"width\": 500, \"paper_bgcolor\": \"#000\", \"title\": \"Confidence after 32000 Iterations at Glimpse 9\"}, {\"showLink\": true, \"linkText\": \"Export to plot.ly\"})});</script>"
      ]
     },
     "metadata": {},
     "output_type": "display_data"
    },
    {
     "data": {
      "application/vnd.plotly.v1+json": {
       "data": [
        {
         "name": "Mean",
         "type": "scatter",
         "x": [
          1,
          2,
          3,
          4,
          5,
          6,
          7,
          8,
          9
         ],
         "y": [
          1.0120189478240678,
          1.792100418020334,
          2.572172070238425,
          3.525396435453728,
          4.462654811955508,
          5.430183354935417,
          6.389841325273116,
          7.459088852975,
          8.4374713574375,
          null,
          null,
          null,
          null,
          null,
          null
         ]
        },
        {
         "name": "Standard Deviation",
         "type": "scatter",
         "x": [
          1,
          2,
          3,
          4,
          5,
          6,
          7,
          8,
          9
         ],
         "y": [
          0.06823104675211765,
          0.5913302270605149,
          0.9529368261200248,
          1.2021263334768453,
          1.3302030069662543,
          1.5771340134314058,
          1.7807542010923219,
          2.0866815028890273,
          2.3169600380622057,
          null,
          null,
          null,
          null,
          null,
          null
         ],
         "yaxis": "y2"
        }
       ],
       "layout": {
        "font": {
         "color": "#FFF"
        },
        "height": 500,
        "legend": {
         "x": 0,
         "y": 1
        },
        "paper_bgcolor": "#000",
        "plot_bgcolor": "#000",
        "title": "Choice after 32000 Iterations at Glimpse 9",
        "titlefont": {
         "color": "#FFF"
        },
        "width": 500,
        "xaxis": {
         "dtick": 1,
         "range": [
          0.5,
          9.5
         ],
         "tickcolor": "#FFF",
         "title": "True Class"
        },
        "yaxis": {
         "dtick": 1,
         "range": [
          0.5,
          15.5
         ],
         "tickcolor": "#FFF",
         "title": "Mean"
        },
        "yaxis2": {
         "gridcolor": "#999",
         "overlaying": "y",
         "range": [
          0,
          3
         ],
         "side": "right",
         "tickcolor": "#FFF",
         "title": "Standard Deviation"
        }
       }
      },
      "text/html": [
       "<div id=\"91676a8c-cb22-457b-b00c-bf7678d00a39\" style=\"height: 500px; width: 500px;\" class=\"plotly-graph-div\"></div><script type=\"text/javascript\">require([\"plotly\"], function(Plotly) { window.PLOTLYENV=window.PLOTLYENV || {};window.PLOTLYENV.BASE_URL=\"https://plot.ly\";Plotly.newPlot(\"91676a8c-cb22-457b-b00c-bf7678d00a39\", [{\"type\": \"scatter\", \"name\": \"Mean\", \"x\": [1, 2, 3, 4, 5, 6, 7, 8, 9], \"y\": [1.0120189478240678, 1.792100418020334, 2.572172070238425, 3.525396435453728, 4.462654811955508, 5.430183354935417, 6.389841325273116, 7.459088852975, 8.4374713574375, null, null, null, null, null, null]}, {\"type\": \"scatter\", \"yaxis\": \"y2\", \"name\": \"Standard Deviation\", \"x\": [1, 2, 3, 4, 5, 6, 7, 8, 9], \"y\": [0.06823104675211765, 0.5913302270605149, 0.9529368261200248, 1.2021263334768453, 1.3302030069662543, 1.5771340134314058, 1.7807542010923219, 2.0866815028890273, 2.3169600380622057, null, null, null, null, null, null]}], {\"height\": 500, \"paper_bgcolor\": \"#000\", \"plot_bgcolor\": \"#000\", \"font\": {\"color\": \"#FFF\"}, \"titlefont\": {\"color\": \"#FFF\"}, \"xaxis\": {\"tickcolor\": \"#FFF\", \"dtick\": 1, \"title\": \"True Class\", \"range\": [0.5, 9.5]}, \"yaxis\": {\"tickcolor\": \"#FFF\", \"dtick\": 1, \"title\": \"Mean\", \"range\": [0.5, 15.5]}, \"legend\": {\"y\": 1, \"x\": 0}, \"title\": \"Choice after 32000 Iterations at Glimpse 9\", \"yaxis2\": {\"overlaying\": \"y\", \"gridcolor\": \"#999\", \"range\": [0, 3], \"side\": \"right\", \"title\": \"Standard Deviation\", \"tickcolor\": \"#FFF\"}, \"width\": 500}, {\"showLink\": true, \"linkText\": \"Export to plot.ly\"})});</script>"
      ],
      "text/vnd.plotly.v1+html": [
       "<div id=\"91676a8c-cb22-457b-b00c-bf7678d00a39\" style=\"height: 500px; width: 500px;\" class=\"plotly-graph-div\"></div><script type=\"text/javascript\">require([\"plotly\"], function(Plotly) { window.PLOTLYENV=window.PLOTLYENV || {};window.PLOTLYENV.BASE_URL=\"https://plot.ly\";Plotly.newPlot(\"91676a8c-cb22-457b-b00c-bf7678d00a39\", [{\"type\": \"scatter\", \"name\": \"Mean\", \"x\": [1, 2, 3, 4, 5, 6, 7, 8, 9], \"y\": [1.0120189478240678, 1.792100418020334, 2.572172070238425, 3.525396435453728, 4.462654811955508, 5.430183354935417, 6.389841325273116, 7.459088852975, 8.4374713574375, null, null, null, null, null, null]}, {\"type\": \"scatter\", \"yaxis\": \"y2\", \"name\": \"Standard Deviation\", \"x\": [1, 2, 3, 4, 5, 6, 7, 8, 9], \"y\": [0.06823104675211765, 0.5913302270605149, 0.9529368261200248, 1.2021263334768453, 1.3302030069662543, 1.5771340134314058, 1.7807542010923219, 2.0866815028890273, 2.3169600380622057, null, null, null, null, null, null]}], {\"height\": 500, \"paper_bgcolor\": \"#000\", \"plot_bgcolor\": \"#000\", \"font\": {\"color\": \"#FFF\"}, \"titlefont\": {\"color\": \"#FFF\"}, \"xaxis\": {\"tickcolor\": \"#FFF\", \"dtick\": 1, \"title\": \"True Class\", \"range\": [0.5, 9.5]}, \"yaxis\": {\"tickcolor\": \"#FFF\", \"dtick\": 1, \"title\": \"Mean\", \"range\": [0.5, 15.5]}, \"legend\": {\"y\": 1, \"x\": 0}, \"title\": \"Choice after 32000 Iterations at Glimpse 9\", \"yaxis2\": {\"overlaying\": \"y\", \"gridcolor\": \"#999\", \"range\": [0, 3], \"side\": \"right\", \"title\": \"Standard Deviation\", \"tickcolor\": \"#FFF\"}, \"width\": 500}, {\"showLink\": true, \"linkText\": \"Export to plot.ly\"})});</script>"
      ]
     },
     "metadata": {},
     "output_type": "display_data"
    },
    {
     "data": {
      "application/vnd.plotly.v1+json": {
       "data": [
        {
         "name": "Coefficient of Variation",
         "type": "scatter",
         "x": [
          1,
          2,
          3,
          4,
          5,
          6,
          7,
          8,
          9
         ],
         "y": [
          0.06595166765546219,
          0.33678812555809146,
          0.3739456435657463,
          0.3415441847753432,
          0.2993794605226773,
          0.2902184526181785,
          0.27878587552013445,
          0.28068935186931143,
          0.2756988536952774,
          null,
          null,
          null,
          null,
          null,
          null
         ]
        }
       ],
       "layout": {
        "font": {
         "color": "#FFF"
        },
        "height": 300,
        "paper_bgcolor": "#000",
        "plot_bgcolor": "#000",
        "title": "Choice after 32000 Iterations at Glimpse 9",
        "titlefont": {
         "color": "#FFF"
        },
        "width": 500,
        "xaxis": {
         "dtick": 1,
         "range": [
          0.5,
          9.5
         ],
         "tickcolor": "#FFF",
         "title": "True Class"
        },
        "yaxis": {
         "showgrid": true,
         "tickcolor": "#FFF",
         "title": "Coefficient of Variation"
        }
       }
      },
      "text/html": [
       "<div id=\"54a08bd8-8c25-4f49-a116-66670d33fe25\" style=\"height: 300px; width: 500px;\" class=\"plotly-graph-div\"></div><script type=\"text/javascript\">require([\"plotly\"], function(Plotly) { window.PLOTLYENV=window.PLOTLYENV || {};window.PLOTLYENV.BASE_URL=\"https://plot.ly\";Plotly.newPlot(\"54a08bd8-8c25-4f49-a116-66670d33fe25\", [{\"type\": \"scatter\", \"name\": \"Coefficient of Variation\", \"x\": [1, 2, 3, 4, 5, 6, 7, 8, 9], \"y\": [0.06595166765546219, 0.33678812555809146, 0.3739456435657463, 0.3415441847753432, 0.2993794605226773, 0.2902184526181785, 0.27878587552013445, 0.28068935186931143, 0.2756988536952774, null, null, null, null, null, null]}], {\"height\": 300, \"plot_bgcolor\": \"#000\", \"font\": {\"color\": \"#FFF\"}, \"titlefont\": {\"color\": \"#FFF\"}, \"xaxis\": {\"tickcolor\": \"#FFF\", \"dtick\": 1, \"title\": \"True Class\", \"range\": [0.5, 9.5]}, \"yaxis\": {\"showgrid\": true, \"tickcolor\": \"#FFF\", \"title\": \"Coefficient of Variation\"}, \"width\": 500, \"paper_bgcolor\": \"#000\", \"title\": \"Choice after 32000 Iterations at Glimpse 9\"}, {\"showLink\": true, \"linkText\": \"Export to plot.ly\"})});</script>"
      ],
      "text/vnd.plotly.v1+html": [
       "<div id=\"54a08bd8-8c25-4f49-a116-66670d33fe25\" style=\"height: 300px; width: 500px;\" class=\"plotly-graph-div\"></div><script type=\"text/javascript\">require([\"plotly\"], function(Plotly) { window.PLOTLYENV=window.PLOTLYENV || {};window.PLOTLYENV.BASE_URL=\"https://plot.ly\";Plotly.newPlot(\"54a08bd8-8c25-4f49-a116-66670d33fe25\", [{\"type\": \"scatter\", \"name\": \"Coefficient of Variation\", \"x\": [1, 2, 3, 4, 5, 6, 7, 8, 9], \"y\": [0.06595166765546219, 0.33678812555809146, 0.3739456435657463, 0.3415441847753432, 0.2993794605226773, 0.2902184526181785, 0.27878587552013445, 0.28068935186931143, 0.2756988536952774, null, null, null, null, null, null]}], {\"height\": 300, \"plot_bgcolor\": \"#000\", \"font\": {\"color\": \"#FFF\"}, \"titlefont\": {\"color\": \"#FFF\"}, \"xaxis\": {\"tickcolor\": \"#FFF\", \"dtick\": 1, \"title\": \"True Class\", \"range\": [0.5, 9.5]}, \"yaxis\": {\"showgrid\": true, \"tickcolor\": \"#FFF\", \"title\": \"Coefficient of Variation\"}, \"width\": 500, \"paper_bgcolor\": \"#000\", \"title\": \"Choice after 32000 Iterations at Glimpse 9\"}, {\"showLink\": true, \"linkText\": \"Export to plot.ly\"})});</script>"
      ]
     },
     "metadata": {},
     "output_type": "display_data"
    },
    {
     "data": {
      "application/vnd.plotly.v1+json": {
       "data": [
        {
         "name": "Mean",
         "type": "scatter",
         "x": [
          1,
          2,
          3,
          4,
          5,
          6,
          7,
          8,
          9
         ],
         "y": [
          1.2921116074732804,
          2.0593551365259826,
          2.7466610923771553,
          3.4919615100723176,
          4.232993376101652,
          4.961429645847601,
          5.688204582717152,
          6.457070908299795,
          7.17139002915105,
          null,
          null,
          null,
          null,
          null,
          null
         ]
        },
        {
         "name": "Standard Deviation",
         "type": "scatter",
         "x": [
          1,
          2,
          3,
          4,
          5,
          6,
          7,
          8,
          9
         ],
         "y": [
          0.7172094926984366,
          1.1813191153918159,
          1.5497862516447694,
          1.8677783876662573,
          2.1027323001534044,
          2.346602746687558,
          2.5209651670549182,
          2.7039699115606948,
          2.8224878240503415,
          null,
          null,
          null,
          null,
          null,
          null
         ],
         "yaxis": "y2"
        }
       ],
       "layout": {
        "font": {
         "color": "#FFF"
        },
        "height": 500,
        "legend": {
         "x": 0,
         "y": 1
        },
        "paper_bgcolor": "#000",
        "plot_bgcolor": "#000",
        "title": "Confidence after 64000 Iterations at Glimpse 0",
        "titlefont": {
         "color": "#FFF"
        },
        "width": 500,
        "xaxis": {
         "dtick": 1,
         "range": [
          0.5,
          9.5
         ],
         "tickcolor": "#FFF",
         "title": "True Class"
        },
        "yaxis": {
         "dtick": 1,
         "range": [
          0.5,
          15.5
         ],
         "tickcolor": "#FFF",
         "title": "Mean"
        },
        "yaxis2": {
         "gridcolor": "#999",
         "overlaying": "y",
         "range": [
          0,
          3
         ],
         "side": "right",
         "tickcolor": "#FFF",
         "title": "Standard Deviation"
        }
       }
      },
      "text/html": [
       "<div id=\"d0f1a91f-e1fb-465d-873e-18665b2af90a\" style=\"height: 500px; width: 500px;\" class=\"plotly-graph-div\"></div><script type=\"text/javascript\">require([\"plotly\"], function(Plotly) { window.PLOTLYENV=window.PLOTLYENV || {};window.PLOTLYENV.BASE_URL=\"https://plot.ly\";Plotly.newPlot(\"d0f1a91f-e1fb-465d-873e-18665b2af90a\", [{\"type\": \"scatter\", \"name\": \"Mean\", \"x\": [1, 2, 3, 4, 5, 6, 7, 8, 9], \"y\": [1.2921116074732804, 2.0593551365259826, 2.7466610923771553, 3.4919615100723176, 4.232993376101652, 4.961429645847601, 5.688204582717152, 6.457070908299795, 7.17139002915105, null, null, null, null, null, null]}, {\"type\": \"scatter\", \"yaxis\": \"y2\", \"name\": \"Standard Deviation\", \"x\": [1, 2, 3, 4, 5, 6, 7, 8, 9], \"y\": [0.7172094926984366, 1.1813191153918159, 1.5497862516447694, 1.8677783876662573, 2.1027323001534044, 2.346602746687558, 2.5209651670549182, 2.7039699115606948, 2.8224878240503415, null, null, null, null, null, null]}], {\"height\": 500, \"paper_bgcolor\": \"#000\", \"plot_bgcolor\": \"#000\", \"font\": {\"color\": \"#FFF\"}, \"titlefont\": {\"color\": \"#FFF\"}, \"xaxis\": {\"tickcolor\": \"#FFF\", \"dtick\": 1, \"title\": \"True Class\", \"range\": [0.5, 9.5]}, \"yaxis\": {\"tickcolor\": \"#FFF\", \"dtick\": 1, \"title\": \"Mean\", \"range\": [0.5, 15.5]}, \"legend\": {\"y\": 1, \"x\": 0}, \"title\": \"Confidence after 64000 Iterations at Glimpse 0\", \"yaxis2\": {\"overlaying\": \"y\", \"gridcolor\": \"#999\", \"range\": [0, 3], \"side\": \"right\", \"title\": \"Standard Deviation\", \"tickcolor\": \"#FFF\"}, \"width\": 500}, {\"showLink\": true, \"linkText\": \"Export to plot.ly\"})});</script>"
      ],
      "text/vnd.plotly.v1+html": [
       "<div id=\"d0f1a91f-e1fb-465d-873e-18665b2af90a\" style=\"height: 500px; width: 500px;\" class=\"plotly-graph-div\"></div><script type=\"text/javascript\">require([\"plotly\"], function(Plotly) { window.PLOTLYENV=window.PLOTLYENV || {};window.PLOTLYENV.BASE_URL=\"https://plot.ly\";Plotly.newPlot(\"d0f1a91f-e1fb-465d-873e-18665b2af90a\", [{\"type\": \"scatter\", \"name\": \"Mean\", \"x\": [1, 2, 3, 4, 5, 6, 7, 8, 9], \"y\": [1.2921116074732804, 2.0593551365259826, 2.7466610923771553, 3.4919615100723176, 4.232993376101652, 4.961429645847601, 5.688204582717152, 6.457070908299795, 7.17139002915105, null, null, null, null, null, null]}, {\"type\": \"scatter\", \"yaxis\": \"y2\", \"name\": \"Standard Deviation\", \"x\": [1, 2, 3, 4, 5, 6, 7, 8, 9], \"y\": [0.7172094926984366, 1.1813191153918159, 1.5497862516447694, 1.8677783876662573, 2.1027323001534044, 2.346602746687558, 2.5209651670549182, 2.7039699115606948, 2.8224878240503415, null, null, null, null, null, null]}], {\"height\": 500, \"paper_bgcolor\": \"#000\", \"plot_bgcolor\": \"#000\", \"font\": {\"color\": \"#FFF\"}, \"titlefont\": {\"color\": \"#FFF\"}, \"xaxis\": {\"tickcolor\": \"#FFF\", \"dtick\": 1, \"title\": \"True Class\", \"range\": [0.5, 9.5]}, \"yaxis\": {\"tickcolor\": \"#FFF\", \"dtick\": 1, \"title\": \"Mean\", \"range\": [0.5, 15.5]}, \"legend\": {\"y\": 1, \"x\": 0}, \"title\": \"Confidence after 64000 Iterations at Glimpse 0\", \"yaxis2\": {\"overlaying\": \"y\", \"gridcolor\": \"#999\", \"range\": [0, 3], \"side\": \"right\", \"title\": \"Standard Deviation\", \"tickcolor\": \"#FFF\"}, \"width\": 500}, {\"showLink\": true, \"linkText\": \"Export to plot.ly\"})});</script>"
      ]
     },
     "metadata": {},
     "output_type": "display_data"
    },
    {
     "data": {
      "application/vnd.plotly.v1+json": {
       "data": [
        {
         "name": "Coefficient of Variation",
         "type": "scatter",
         "x": [
          1,
          2,
          3,
          4,
          5,
          6,
          7,
          8,
          9
         ],
         "y": [
          0.4610243886191089,
          0.58007275256654,
          0.6010985956658945,
          0.5908093423612244,
          0.5684745488712061,
          0.5530849838926122,
          0.5318625304252687,
          0.5115773078484781,
          0.4896202602057601,
          null,
          null,
          null,
          null,
          null,
          null
         ]
        }
       ],
       "layout": {
        "font": {
         "color": "#FFF"
        },
        "height": 300,
        "paper_bgcolor": "#000",
        "plot_bgcolor": "#000",
        "title": "Confidence after 64000 Iterations at Glimpse 0",
        "titlefont": {
         "color": "#FFF"
        },
        "width": 500,
        "xaxis": {
         "dtick": 1,
         "range": [
          0.5,
          9.5
         ],
         "tickcolor": "#FFF",
         "title": "True Class"
        },
        "yaxis": {
         "showgrid": true,
         "tickcolor": "#FFF",
         "title": "Coefficient of Variation"
        }
       }
      },
      "text/html": [
       "<div id=\"e2b9c966-0406-4d98-aa43-44b269f21403\" style=\"height: 300px; width: 500px;\" class=\"plotly-graph-div\"></div><script type=\"text/javascript\">require([\"plotly\"], function(Plotly) { window.PLOTLYENV=window.PLOTLYENV || {};window.PLOTLYENV.BASE_URL=\"https://plot.ly\";Plotly.newPlot(\"e2b9c966-0406-4d98-aa43-44b269f21403\", [{\"type\": \"scatter\", \"name\": \"Coefficient of Variation\", \"x\": [1, 2, 3, 4, 5, 6, 7, 8, 9], \"y\": [0.4610243886191089, 0.58007275256654, 0.6010985956658945, 0.5908093423612244, 0.5684745488712061, 0.5530849838926122, 0.5318625304252687, 0.5115773078484781, 0.4896202602057601, null, null, null, null, null, null]}], {\"height\": 300, \"plot_bgcolor\": \"#000\", \"font\": {\"color\": \"#FFF\"}, \"titlefont\": {\"color\": \"#FFF\"}, \"xaxis\": {\"tickcolor\": \"#FFF\", \"dtick\": 1, \"title\": \"True Class\", \"range\": [0.5, 9.5]}, \"yaxis\": {\"showgrid\": true, \"tickcolor\": \"#FFF\", \"title\": \"Coefficient of Variation\"}, \"width\": 500, \"paper_bgcolor\": \"#000\", \"title\": \"Confidence after 64000 Iterations at Glimpse 0\"}, {\"showLink\": true, \"linkText\": \"Export to plot.ly\"})});</script>"
      ],
      "text/vnd.plotly.v1+html": [
       "<div id=\"e2b9c966-0406-4d98-aa43-44b269f21403\" style=\"height: 300px; width: 500px;\" class=\"plotly-graph-div\"></div><script type=\"text/javascript\">require([\"plotly\"], function(Plotly) { window.PLOTLYENV=window.PLOTLYENV || {};window.PLOTLYENV.BASE_URL=\"https://plot.ly\";Plotly.newPlot(\"e2b9c966-0406-4d98-aa43-44b269f21403\", [{\"type\": \"scatter\", \"name\": \"Coefficient of Variation\", \"x\": [1, 2, 3, 4, 5, 6, 7, 8, 9], \"y\": [0.4610243886191089, 0.58007275256654, 0.6010985956658945, 0.5908093423612244, 0.5684745488712061, 0.5530849838926122, 0.5318625304252687, 0.5115773078484781, 0.4896202602057601, null, null, null, null, null, null]}], {\"height\": 300, \"plot_bgcolor\": \"#000\", \"font\": {\"color\": \"#FFF\"}, \"titlefont\": {\"color\": \"#FFF\"}, \"xaxis\": {\"tickcolor\": \"#FFF\", \"dtick\": 1, \"title\": \"True Class\", \"range\": [0.5, 9.5]}, \"yaxis\": {\"showgrid\": true, \"tickcolor\": \"#FFF\", \"title\": \"Coefficient of Variation\"}, \"width\": 500, \"paper_bgcolor\": \"#000\", \"title\": \"Confidence after 64000 Iterations at Glimpse 0\"}, {\"showLink\": true, \"linkText\": \"Export to plot.ly\"})});</script>"
      ]
     },
     "metadata": {},
     "output_type": "display_data"
    },
    {
     "data": {
      "application/vnd.plotly.v1+json": {
       "data": [
        {
         "name": "Mean",
         "type": "scatter",
         "x": [
          1,
          2,
          3,
          4,
          5,
          6,
          7,
          8,
          9
         ],
         "y": [
          1.0023447281635829,
          1.6229572083723678,
          2.187035238185801,
          2.882782680323929,
          3.622641552173241,
          4.300820879336975,
          5.031912168522277,
          5.816120324168912,
          6.5947532239284765,
          null,
          null,
          null,
          null,
          null,
          null
         ]
        },
        {
         "name": "Standard Deviation",
         "type": "scatter",
         "x": [
          1,
          2,
          3,
          4,
          5,
          6,
          7,
          8,
          9
         ],
         "y": [
          0.044197617642522,
          0.4738461907213994,
          0.8374155845090738,
          1.1634910435437367,
          1.4341685094994034,
          1.6591787112783098,
          1.8208643816601366,
          2.0718978181658887,
          2.240949215646293,
          null,
          null,
          null,
          null,
          null,
          null
         ],
         "yaxis": "y2"
        }
       ],
       "layout": {
        "font": {
         "color": "#FFF"
        },
        "height": 500,
        "legend": {
         "x": 0,
         "y": 1
        },
        "paper_bgcolor": "#000",
        "plot_bgcolor": "#000",
        "title": "Choice after 64000 Iterations at Glimpse 0",
        "titlefont": {
         "color": "#FFF"
        },
        "width": 500,
        "xaxis": {
         "dtick": 1,
         "range": [
          0.5,
          9.5
         ],
         "tickcolor": "#FFF",
         "title": "True Class"
        },
        "yaxis": {
         "dtick": 1,
         "range": [
          0.5,
          15.5
         ],
         "tickcolor": "#FFF",
         "title": "Mean"
        },
        "yaxis2": {
         "gridcolor": "#999",
         "overlaying": "y",
         "range": [
          0,
          3
         ],
         "side": "right",
         "tickcolor": "#FFF",
         "title": "Standard Deviation"
        }
       }
      },
      "text/html": [
       "<div id=\"826c2364-e70c-46fe-9327-3e793d05c9c0\" style=\"height: 500px; width: 500px;\" class=\"plotly-graph-div\"></div><script type=\"text/javascript\">require([\"plotly\"], function(Plotly) { window.PLOTLYENV=window.PLOTLYENV || {};window.PLOTLYENV.BASE_URL=\"https://plot.ly\";Plotly.newPlot(\"826c2364-e70c-46fe-9327-3e793d05c9c0\", [{\"type\": \"scatter\", \"name\": \"Mean\", \"x\": [1, 2, 3, 4, 5, 6, 7, 8, 9], \"y\": [1.0023447281635829, 1.6229572083723678, 2.187035238185801, 2.882782680323929, 3.622641552173241, 4.300820879336975, 5.031912168522277, 5.816120324168912, 6.5947532239284765, null, null, null, null, null, null]}, {\"type\": \"scatter\", \"yaxis\": \"y2\", \"name\": \"Standard Deviation\", \"x\": [1, 2, 3, 4, 5, 6, 7, 8, 9], \"y\": [0.044197617642522, 0.4738461907213994, 0.8374155845090738, 1.1634910435437367, 1.4341685094994034, 1.6591787112783098, 1.8208643816601366, 2.0718978181658887, 2.240949215646293, null, null, null, null, null, null]}], {\"height\": 500, \"paper_bgcolor\": \"#000\", \"plot_bgcolor\": \"#000\", \"font\": {\"color\": \"#FFF\"}, \"titlefont\": {\"color\": \"#FFF\"}, \"xaxis\": {\"tickcolor\": \"#FFF\", \"dtick\": 1, \"title\": \"True Class\", \"range\": [0.5, 9.5]}, \"yaxis\": {\"tickcolor\": \"#FFF\", \"dtick\": 1, \"title\": \"Mean\", \"range\": [0.5, 15.5]}, \"legend\": {\"y\": 1, \"x\": 0}, \"title\": \"Choice after 64000 Iterations at Glimpse 0\", \"yaxis2\": {\"overlaying\": \"y\", \"gridcolor\": \"#999\", \"range\": [0, 3], \"side\": \"right\", \"title\": \"Standard Deviation\", \"tickcolor\": \"#FFF\"}, \"width\": 500}, {\"showLink\": true, \"linkText\": \"Export to plot.ly\"})});</script>"
      ],
      "text/vnd.plotly.v1+html": [
       "<div id=\"826c2364-e70c-46fe-9327-3e793d05c9c0\" style=\"height: 500px; width: 500px;\" class=\"plotly-graph-div\"></div><script type=\"text/javascript\">require([\"plotly\"], function(Plotly) { window.PLOTLYENV=window.PLOTLYENV || {};window.PLOTLYENV.BASE_URL=\"https://plot.ly\";Plotly.newPlot(\"826c2364-e70c-46fe-9327-3e793d05c9c0\", [{\"type\": \"scatter\", \"name\": \"Mean\", \"x\": [1, 2, 3, 4, 5, 6, 7, 8, 9], \"y\": [1.0023447281635829, 1.6229572083723678, 2.187035238185801, 2.882782680323929, 3.622641552173241, 4.300820879336975, 5.031912168522277, 5.816120324168912, 6.5947532239284765, null, null, null, null, null, null]}, {\"type\": \"scatter\", \"yaxis\": \"y2\", \"name\": \"Standard Deviation\", \"x\": [1, 2, 3, 4, 5, 6, 7, 8, 9], \"y\": [0.044197617642522, 0.4738461907213994, 0.8374155845090738, 1.1634910435437367, 1.4341685094994034, 1.6591787112783098, 1.8208643816601366, 2.0718978181658887, 2.240949215646293, null, null, null, null, null, null]}], {\"height\": 500, \"paper_bgcolor\": \"#000\", \"plot_bgcolor\": \"#000\", \"font\": {\"color\": \"#FFF\"}, \"titlefont\": {\"color\": \"#FFF\"}, \"xaxis\": {\"tickcolor\": \"#FFF\", \"dtick\": 1, \"title\": \"True Class\", \"range\": [0.5, 9.5]}, \"yaxis\": {\"tickcolor\": \"#FFF\", \"dtick\": 1, \"title\": \"Mean\", \"range\": [0.5, 15.5]}, \"legend\": {\"y\": 1, \"x\": 0}, \"title\": \"Choice after 64000 Iterations at Glimpse 0\", \"yaxis2\": {\"overlaying\": \"y\", \"gridcolor\": \"#999\", \"range\": [0, 3], \"side\": \"right\", \"title\": \"Standard Deviation\", \"tickcolor\": \"#FFF\"}, \"width\": 500}, {\"showLink\": true, \"linkText\": \"Export to plot.ly\"})});</script>"
      ]
     },
     "metadata": {},
     "output_type": "display_data"
    },
    {
     "data": {
      "application/vnd.plotly.v1+json": {
       "data": [
        {
         "name": "Coefficient of Variation",
         "type": "scatter",
         "x": [
          1,
          2,
          3,
          4,
          5,
          6,
          7,
          8,
          9
         ],
         "y": [
          0.044023067126157014,
          0.3115265499921113,
          0.4461306700676061,
          0.47243127544547825,
          0.5056786604749213,
          0.5168514245500815,
          0.48607955275636366,
          0.5050878117810497,
          0.48710074644774154,
          null,
          null,
          null,
          null,
          null,
          null
         ]
        }
       ],
       "layout": {
        "font": {
         "color": "#FFF"
        },
        "height": 300,
        "paper_bgcolor": "#000",
        "plot_bgcolor": "#000",
        "title": "Choice after 64000 Iterations at Glimpse 0",
        "titlefont": {
         "color": "#FFF"
        },
        "width": 500,
        "xaxis": {
         "dtick": 1,
         "range": [
          0.5,
          9.5
         ],
         "tickcolor": "#FFF",
         "title": "True Class"
        },
        "yaxis": {
         "showgrid": true,
         "tickcolor": "#FFF",
         "title": "Coefficient of Variation"
        }
       }
      },
      "text/html": [
       "<div id=\"d9654bc4-2a06-4787-95ac-f62878ccecbd\" style=\"height: 300px; width: 500px;\" class=\"plotly-graph-div\"></div><script type=\"text/javascript\">require([\"plotly\"], function(Plotly) { window.PLOTLYENV=window.PLOTLYENV || {};window.PLOTLYENV.BASE_URL=\"https://plot.ly\";Plotly.newPlot(\"d9654bc4-2a06-4787-95ac-f62878ccecbd\", [{\"type\": \"scatter\", \"name\": \"Coefficient of Variation\", \"x\": [1, 2, 3, 4, 5, 6, 7, 8, 9], \"y\": [0.044023067126157014, 0.3115265499921113, 0.4461306700676061, 0.47243127544547825, 0.5056786604749213, 0.5168514245500815, 0.48607955275636366, 0.5050878117810497, 0.48710074644774154, null, null, null, null, null, null]}], {\"height\": 300, \"plot_bgcolor\": \"#000\", \"font\": {\"color\": \"#FFF\"}, \"titlefont\": {\"color\": \"#FFF\"}, \"xaxis\": {\"tickcolor\": \"#FFF\", \"dtick\": 1, \"title\": \"True Class\", \"range\": [0.5, 9.5]}, \"yaxis\": {\"showgrid\": true, \"tickcolor\": \"#FFF\", \"title\": \"Coefficient of Variation\"}, \"width\": 500, \"paper_bgcolor\": \"#000\", \"title\": \"Choice after 64000 Iterations at Glimpse 0\"}, {\"showLink\": true, \"linkText\": \"Export to plot.ly\"})});</script>"
      ],
      "text/vnd.plotly.v1+html": [
       "<div id=\"d9654bc4-2a06-4787-95ac-f62878ccecbd\" style=\"height: 300px; width: 500px;\" class=\"plotly-graph-div\"></div><script type=\"text/javascript\">require([\"plotly\"], function(Plotly) { window.PLOTLYENV=window.PLOTLYENV || {};window.PLOTLYENV.BASE_URL=\"https://plot.ly\";Plotly.newPlot(\"d9654bc4-2a06-4787-95ac-f62878ccecbd\", [{\"type\": \"scatter\", \"name\": \"Coefficient of Variation\", \"x\": [1, 2, 3, 4, 5, 6, 7, 8, 9], \"y\": [0.044023067126157014, 0.3115265499921113, 0.4461306700676061, 0.47243127544547825, 0.5056786604749213, 0.5168514245500815, 0.48607955275636366, 0.5050878117810497, 0.48710074644774154, null, null, null, null, null, null]}], {\"height\": 300, \"plot_bgcolor\": \"#000\", \"font\": {\"color\": \"#FFF\"}, \"titlefont\": {\"color\": \"#FFF\"}, \"xaxis\": {\"tickcolor\": \"#FFF\", \"dtick\": 1, \"title\": \"True Class\", \"range\": [0.5, 9.5]}, \"yaxis\": {\"showgrid\": true, \"tickcolor\": \"#FFF\", \"title\": \"Coefficient of Variation\"}, \"width\": 500, \"paper_bgcolor\": \"#000\", \"title\": \"Choice after 64000 Iterations at Glimpse 0\"}, {\"showLink\": true, \"linkText\": \"Export to plot.ly\"})});</script>"
      ]
     },
     "metadata": {},
     "output_type": "display_data"
    },
    {
     "data": {
      "application/vnd.plotly.v1+json": {
       "data": [
        {
         "name": "Mean",
         "type": "scatter",
         "x": [
          1,
          2,
          3,
          4,
          5,
          6,
          7,
          8,
          9
         ],
         "y": [
          1.067469570174103,
          2.070590347127111,
          2.9187593249837747,
          3.8537521131744974,
          4.815081031041464,
          5.7922191593174475,
          6.762928091640828,
          7.797325377713858,
          8.700720435908545,
          null,
          null,
          null,
          null,
          null,
          null
         ]
        },
        {
         "name": "Standard Deviation",
         "type": "scatter",
         "x": [
          1,
          2,
          3,
          4,
          5,
          6,
          7,
          8,
          9
         ],
         "y": [
          0.24163289621220335,
          0.6936412678678258,
          1.0768440939618367,
          1.3628694486436597,
          1.5968337864116449,
          1.8411867345711854,
          2.0389555878590335,
          2.183237843732643,
          2.3130875496675403,
          null,
          null,
          null,
          null,
          null,
          null
         ],
         "yaxis": "y2"
        }
       ],
       "layout": {
        "font": {
         "color": "#FFF"
        },
        "height": 500,
        "legend": {
         "x": 0,
         "y": 1
        },
        "paper_bgcolor": "#000",
        "plot_bgcolor": "#000",
        "title": "Confidence after 64000 Iterations at Glimpse 3",
        "titlefont": {
         "color": "#FFF"
        },
        "width": 500,
        "xaxis": {
         "dtick": 1,
         "range": [
          0.5,
          9.5
         ],
         "tickcolor": "#FFF",
         "title": "True Class"
        },
        "yaxis": {
         "dtick": 1,
         "range": [
          0.5,
          15.5
         ],
         "tickcolor": "#FFF",
         "title": "Mean"
        },
        "yaxis2": {
         "gridcolor": "#999",
         "overlaying": "y",
         "range": [
          0,
          3
         ],
         "side": "right",
         "tickcolor": "#FFF",
         "title": "Standard Deviation"
        }
       }
      },
      "text/html": [
       "<div id=\"7a039036-f1cc-4615-9894-7f6959028ac9\" style=\"height: 500px; width: 500px;\" class=\"plotly-graph-div\"></div><script type=\"text/javascript\">require([\"plotly\"], function(Plotly) { window.PLOTLYENV=window.PLOTLYENV || {};window.PLOTLYENV.BASE_URL=\"https://plot.ly\";Plotly.newPlot(\"7a039036-f1cc-4615-9894-7f6959028ac9\", [{\"type\": \"scatter\", \"name\": \"Mean\", \"x\": [1, 2, 3, 4, 5, 6, 7, 8, 9], \"y\": [1.067469570174103, 2.070590347127111, 2.9187593249837747, 3.8537521131744974, 4.815081031041464, 5.7922191593174475, 6.762928091640828, 7.797325377713858, 8.700720435908545, null, null, null, null, null, null]}, {\"type\": \"scatter\", \"yaxis\": \"y2\", \"name\": \"Standard Deviation\", \"x\": [1, 2, 3, 4, 5, 6, 7, 8, 9], \"y\": [0.24163289621220335, 0.6936412678678258, 1.0768440939618367, 1.3628694486436597, 1.5968337864116449, 1.8411867345711854, 2.0389555878590335, 2.183237843732643, 2.3130875496675403, null, null, null, null, null, null]}], {\"height\": 500, \"paper_bgcolor\": \"#000\", \"plot_bgcolor\": \"#000\", \"font\": {\"color\": \"#FFF\"}, \"titlefont\": {\"color\": \"#FFF\"}, \"xaxis\": {\"tickcolor\": \"#FFF\", \"dtick\": 1, \"title\": \"True Class\", \"range\": [0.5, 9.5]}, \"yaxis\": {\"tickcolor\": \"#FFF\", \"dtick\": 1, \"title\": \"Mean\", \"range\": [0.5, 15.5]}, \"legend\": {\"y\": 1, \"x\": 0}, \"title\": \"Confidence after 64000 Iterations at Glimpse 3\", \"yaxis2\": {\"overlaying\": \"y\", \"gridcolor\": \"#999\", \"range\": [0, 3], \"side\": \"right\", \"title\": \"Standard Deviation\", \"tickcolor\": \"#FFF\"}, \"width\": 500}, {\"showLink\": true, \"linkText\": \"Export to plot.ly\"})});</script>"
      ],
      "text/vnd.plotly.v1+html": [
       "<div id=\"7a039036-f1cc-4615-9894-7f6959028ac9\" style=\"height: 500px; width: 500px;\" class=\"plotly-graph-div\"></div><script type=\"text/javascript\">require([\"plotly\"], function(Plotly) { window.PLOTLYENV=window.PLOTLYENV || {};window.PLOTLYENV.BASE_URL=\"https://plot.ly\";Plotly.newPlot(\"7a039036-f1cc-4615-9894-7f6959028ac9\", [{\"type\": \"scatter\", \"name\": \"Mean\", \"x\": [1, 2, 3, 4, 5, 6, 7, 8, 9], \"y\": [1.067469570174103, 2.070590347127111, 2.9187593249837747, 3.8537521131744974, 4.815081031041464, 5.7922191593174475, 6.762928091640828, 7.797325377713858, 8.700720435908545, null, null, null, null, null, null]}, {\"type\": \"scatter\", \"yaxis\": \"y2\", \"name\": \"Standard Deviation\", \"x\": [1, 2, 3, 4, 5, 6, 7, 8, 9], \"y\": [0.24163289621220335, 0.6936412678678258, 1.0768440939618367, 1.3628694486436597, 1.5968337864116449, 1.8411867345711854, 2.0389555878590335, 2.183237843732643, 2.3130875496675403, null, null, null, null, null, null]}], {\"height\": 500, \"paper_bgcolor\": \"#000\", \"plot_bgcolor\": \"#000\", \"font\": {\"color\": \"#FFF\"}, \"titlefont\": {\"color\": \"#FFF\"}, \"xaxis\": {\"tickcolor\": \"#FFF\", \"dtick\": 1, \"title\": \"True Class\", \"range\": [0.5, 9.5]}, \"yaxis\": {\"tickcolor\": \"#FFF\", \"dtick\": 1, \"title\": \"Mean\", \"range\": [0.5, 15.5]}, \"legend\": {\"y\": 1, \"x\": 0}, \"title\": \"Confidence after 64000 Iterations at Glimpse 3\", \"yaxis2\": {\"overlaying\": \"y\", \"gridcolor\": \"#999\", \"range\": [0, 3], \"side\": \"right\", \"title\": \"Standard Deviation\", \"tickcolor\": \"#FFF\"}, \"width\": 500}, {\"showLink\": true, \"linkText\": \"Export to plot.ly\"})});</script>"
      ]
     },
     "metadata": {},
     "output_type": "display_data"
    },
    {
     "data": {
      "application/vnd.plotly.v1+json": {
       "data": [
        {
         "name": "Coefficient of Variation",
         "type": "scatter",
         "x": [
          1,
          2,
          3,
          4,
          5,
          6,
          7,
          8,
          9
         ],
         "y": [
          0.21874649318210912,
          0.3385365742959232,
          0.37145890266578946,
          0.3560003712087455,
          0.33332418899986693,
          0.31902797762745616,
          0.3024454292753025,
          0.2806152078897989,
          0.2664247838889172,
          null,
          null,
          null,
          null,
          null,
          null
         ]
        }
       ],
       "layout": {
        "font": {
         "color": "#FFF"
        },
        "height": 300,
        "paper_bgcolor": "#000",
        "plot_bgcolor": "#000",
        "title": "Confidence after 64000 Iterations at Glimpse 3",
        "titlefont": {
         "color": "#FFF"
        },
        "width": 500,
        "xaxis": {
         "dtick": 1,
         "range": [
          0.5,
          9.5
         ],
         "tickcolor": "#FFF",
         "title": "True Class"
        },
        "yaxis": {
         "showgrid": true,
         "tickcolor": "#FFF",
         "title": "Coefficient of Variation"
        }
       }
      },
      "text/html": [
       "<div id=\"1b7b7d87-ed65-47c0-ba47-c772d56864fb\" style=\"height: 300px; width: 500px;\" class=\"plotly-graph-div\"></div><script type=\"text/javascript\">require([\"plotly\"], function(Plotly) { window.PLOTLYENV=window.PLOTLYENV || {};window.PLOTLYENV.BASE_URL=\"https://plot.ly\";Plotly.newPlot(\"1b7b7d87-ed65-47c0-ba47-c772d56864fb\", [{\"type\": \"scatter\", \"name\": \"Coefficient of Variation\", \"x\": [1, 2, 3, 4, 5, 6, 7, 8, 9], \"y\": [0.21874649318210912, 0.3385365742959232, 0.37145890266578946, 0.3560003712087455, 0.33332418899986693, 0.31902797762745616, 0.3024454292753025, 0.2806152078897989, 0.2664247838889172, null, null, null, null, null, null]}], {\"height\": 300, \"plot_bgcolor\": \"#000\", \"font\": {\"color\": \"#FFF\"}, \"titlefont\": {\"color\": \"#FFF\"}, \"xaxis\": {\"tickcolor\": \"#FFF\", \"dtick\": 1, \"title\": \"True Class\", \"range\": [0.5, 9.5]}, \"yaxis\": {\"showgrid\": true, \"tickcolor\": \"#FFF\", \"title\": \"Coefficient of Variation\"}, \"width\": 500, \"paper_bgcolor\": \"#000\", \"title\": \"Confidence after 64000 Iterations at Glimpse 3\"}, {\"showLink\": true, \"linkText\": \"Export to plot.ly\"})});</script>"
      ],
      "text/vnd.plotly.v1+html": [
       "<div id=\"1b7b7d87-ed65-47c0-ba47-c772d56864fb\" style=\"height: 300px; width: 500px;\" class=\"plotly-graph-div\"></div><script type=\"text/javascript\">require([\"plotly\"], function(Plotly) { window.PLOTLYENV=window.PLOTLYENV || {};window.PLOTLYENV.BASE_URL=\"https://plot.ly\";Plotly.newPlot(\"1b7b7d87-ed65-47c0-ba47-c772d56864fb\", [{\"type\": \"scatter\", \"name\": \"Coefficient of Variation\", \"x\": [1, 2, 3, 4, 5, 6, 7, 8, 9], \"y\": [0.21874649318210912, 0.3385365742959232, 0.37145890266578946, 0.3560003712087455, 0.33332418899986693, 0.31902797762745616, 0.3024454292753025, 0.2806152078897989, 0.2664247838889172, null, null, null, null, null, null]}], {\"height\": 300, \"plot_bgcolor\": \"#000\", \"font\": {\"color\": \"#FFF\"}, \"titlefont\": {\"color\": \"#FFF\"}, \"xaxis\": {\"tickcolor\": \"#FFF\", \"dtick\": 1, \"title\": \"True Class\", \"range\": [0.5, 9.5]}, \"yaxis\": {\"showgrid\": true, \"tickcolor\": \"#FFF\", \"title\": \"Coefficient of Variation\"}, \"width\": 500, \"paper_bgcolor\": \"#000\", \"title\": \"Confidence after 64000 Iterations at Glimpse 3\"}, {\"showLink\": true, \"linkText\": \"Export to plot.ly\"})});</script>"
      ]
     },
     "metadata": {},
     "output_type": "display_data"
    },
    {
     "data": {
      "application/vnd.plotly.v1+json": {
       "data": [
        {
         "name": "Mean",
         "type": "scatter",
         "x": [
          1,
          2,
          3,
          4,
          5,
          6,
          7,
          8,
          9
         ],
         "y": [
          1.003020611330609,
          1.9248162115671257,
          2.701574733750814,
          3.6446319982732556,
          4.6227549627906175,
          5.597852888626156,
          6.57230443446241,
          7.657280251209049,
          8.585055428210836,
          null,
          null,
          null,
          null,
          null,
          null
         ]
        },
        {
         "name": "Standard Deviation",
         "type": "scatter",
         "x": [
          1,
          2,
          3,
          4,
          5,
          6,
          7,
          8,
          9
         ],
         "y": [
          0.04280110640643986,
          0.5081342014048996,
          0.8510689693114403,
          1.1445150047745232,
          1.3026562504613561,
          1.521213348881827,
          1.7226809532529987,
          1.8554746683506687,
          1.9843811964823703,
          null,
          null,
          null,
          null,
          null,
          null
         ],
         "yaxis": "y2"
        }
       ],
       "layout": {
        "font": {
         "color": "#FFF"
        },
        "height": 500,
        "legend": {
         "x": 0,
         "y": 1
        },
        "paper_bgcolor": "#000",
        "plot_bgcolor": "#000",
        "title": "Choice after 64000 Iterations at Glimpse 3",
        "titlefont": {
         "color": "#FFF"
        },
        "width": 500,
        "xaxis": {
         "dtick": 1,
         "range": [
          0.5,
          9.5
         ],
         "tickcolor": "#FFF",
         "title": "True Class"
        },
        "yaxis": {
         "dtick": 1,
         "range": [
          0.5,
          15.5
         ],
         "tickcolor": "#FFF",
         "title": "Mean"
        },
        "yaxis2": {
         "gridcolor": "#999",
         "overlaying": "y",
         "range": [
          0,
          3
         ],
         "side": "right",
         "tickcolor": "#FFF",
         "title": "Standard Deviation"
        }
       }
      },
      "text/html": [
       "<div id=\"74ee0280-f1ae-441c-a2c5-2602152f8088\" style=\"height: 500px; width: 500px;\" class=\"plotly-graph-div\"></div><script type=\"text/javascript\">require([\"plotly\"], function(Plotly) { window.PLOTLYENV=window.PLOTLYENV || {};window.PLOTLYENV.BASE_URL=\"https://plot.ly\";Plotly.newPlot(\"74ee0280-f1ae-441c-a2c5-2602152f8088\", [{\"type\": \"scatter\", \"name\": \"Mean\", \"x\": [1, 2, 3, 4, 5, 6, 7, 8, 9], \"y\": [1.003020611330609, 1.9248162115671257, 2.701574733750814, 3.6446319982732556, 4.6227549627906175, 5.597852888626156, 6.57230443446241, 7.657280251209049, 8.585055428210836, null, null, null, null, null, null]}, {\"type\": \"scatter\", \"yaxis\": \"y2\", \"name\": \"Standard Deviation\", \"x\": [1, 2, 3, 4, 5, 6, 7, 8, 9], \"y\": [0.04280110640643986, 0.5081342014048996, 0.8510689693114403, 1.1445150047745232, 1.3026562504613561, 1.521213348881827, 1.7226809532529987, 1.8554746683506687, 1.9843811964823703, null, null, null, null, null, null]}], {\"height\": 500, \"paper_bgcolor\": \"#000\", \"plot_bgcolor\": \"#000\", \"font\": {\"color\": \"#FFF\"}, \"titlefont\": {\"color\": \"#FFF\"}, \"xaxis\": {\"tickcolor\": \"#FFF\", \"dtick\": 1, \"title\": \"True Class\", \"range\": [0.5, 9.5]}, \"yaxis\": {\"tickcolor\": \"#FFF\", \"dtick\": 1, \"title\": \"Mean\", \"range\": [0.5, 15.5]}, \"legend\": {\"y\": 1, \"x\": 0}, \"title\": \"Choice after 64000 Iterations at Glimpse 3\", \"yaxis2\": {\"overlaying\": \"y\", \"gridcolor\": \"#999\", \"range\": [0, 3], \"side\": \"right\", \"title\": \"Standard Deviation\", \"tickcolor\": \"#FFF\"}, \"width\": 500}, {\"showLink\": true, \"linkText\": \"Export to plot.ly\"})});</script>"
      ],
      "text/vnd.plotly.v1+html": [
       "<div id=\"74ee0280-f1ae-441c-a2c5-2602152f8088\" style=\"height: 500px; width: 500px;\" class=\"plotly-graph-div\"></div><script type=\"text/javascript\">require([\"plotly\"], function(Plotly) { window.PLOTLYENV=window.PLOTLYENV || {};window.PLOTLYENV.BASE_URL=\"https://plot.ly\";Plotly.newPlot(\"74ee0280-f1ae-441c-a2c5-2602152f8088\", [{\"type\": \"scatter\", \"name\": \"Mean\", \"x\": [1, 2, 3, 4, 5, 6, 7, 8, 9], \"y\": [1.003020611330609, 1.9248162115671257, 2.701574733750814, 3.6446319982732556, 4.6227549627906175, 5.597852888626156, 6.57230443446241, 7.657280251209049, 8.585055428210836, null, null, null, null, null, null]}, {\"type\": \"scatter\", \"yaxis\": \"y2\", \"name\": \"Standard Deviation\", \"x\": [1, 2, 3, 4, 5, 6, 7, 8, 9], \"y\": [0.04280110640643986, 0.5081342014048996, 0.8510689693114403, 1.1445150047745232, 1.3026562504613561, 1.521213348881827, 1.7226809532529987, 1.8554746683506687, 1.9843811964823703, null, null, null, null, null, null]}], {\"height\": 500, \"paper_bgcolor\": \"#000\", \"plot_bgcolor\": \"#000\", \"font\": {\"color\": \"#FFF\"}, \"titlefont\": {\"color\": \"#FFF\"}, \"xaxis\": {\"tickcolor\": \"#FFF\", \"dtick\": 1, \"title\": \"True Class\", \"range\": [0.5, 9.5]}, \"yaxis\": {\"tickcolor\": \"#FFF\", \"dtick\": 1, \"title\": \"Mean\", \"range\": [0.5, 15.5]}, \"legend\": {\"y\": 1, \"x\": 0}, \"title\": \"Choice after 64000 Iterations at Glimpse 3\", \"yaxis2\": {\"overlaying\": \"y\", \"gridcolor\": \"#999\", \"range\": [0, 3], \"side\": \"right\", \"title\": \"Standard Deviation\", \"tickcolor\": \"#FFF\"}, \"width\": 500}, {\"showLink\": true, \"linkText\": \"Export to plot.ly\"})});</script>"
      ]
     },
     "metadata": {},
     "output_type": "display_data"
    },
    {
     "data": {
      "application/vnd.plotly.v1+json": {
       "data": [
        {
         "name": "Coefficient of Variation",
         "type": "scatter",
         "x": [
          1,
          2,
          3,
          4,
          5,
          6,
          7,
          8,
          9
         ],
         "y": [
          0.042553788811150565,
          0.2696321542763277,
          0.3189027799992358,
          0.3178368596325182,
          0.2846277713179552,
          0.27318300951244495,
          0.263141997675426,
          0.24288361817323129,
          0.23131097014242424,
          null,
          null,
          null,
          null,
          null,
          null
         ]
        }
       ],
       "layout": {
        "font": {
         "color": "#FFF"
        },
        "height": 300,
        "paper_bgcolor": "#000",
        "plot_bgcolor": "#000",
        "title": "Choice after 64000 Iterations at Glimpse 3",
        "titlefont": {
         "color": "#FFF"
        },
        "width": 500,
        "xaxis": {
         "dtick": 1,
         "range": [
          0.5,
          9.5
         ],
         "tickcolor": "#FFF",
         "title": "True Class"
        },
        "yaxis": {
         "showgrid": true,
         "tickcolor": "#FFF",
         "title": "Coefficient of Variation"
        }
       }
      },
      "text/html": [
       "<div id=\"af846163-9c44-44b8-a47c-9a81fe6c0615\" style=\"height: 300px; width: 500px;\" class=\"plotly-graph-div\"></div><script type=\"text/javascript\">require([\"plotly\"], function(Plotly) { window.PLOTLYENV=window.PLOTLYENV || {};window.PLOTLYENV.BASE_URL=\"https://plot.ly\";Plotly.newPlot(\"af846163-9c44-44b8-a47c-9a81fe6c0615\", [{\"type\": \"scatter\", \"name\": \"Coefficient of Variation\", \"x\": [1, 2, 3, 4, 5, 6, 7, 8, 9], \"y\": [0.042553788811150565, 0.2696321542763277, 0.3189027799992358, 0.3178368596325182, 0.2846277713179552, 0.27318300951244495, 0.263141997675426, 0.24288361817323129, 0.23131097014242424, null, null, null, null, null, null]}], {\"height\": 300, \"plot_bgcolor\": \"#000\", \"font\": {\"color\": \"#FFF\"}, \"titlefont\": {\"color\": \"#FFF\"}, \"xaxis\": {\"tickcolor\": \"#FFF\", \"dtick\": 1, \"title\": \"True Class\", \"range\": [0.5, 9.5]}, \"yaxis\": {\"showgrid\": true, \"tickcolor\": \"#FFF\", \"title\": \"Coefficient of Variation\"}, \"width\": 500, \"paper_bgcolor\": \"#000\", \"title\": \"Choice after 64000 Iterations at Glimpse 3\"}, {\"showLink\": true, \"linkText\": \"Export to plot.ly\"})});</script>"
      ],
      "text/vnd.plotly.v1+html": [
       "<div id=\"af846163-9c44-44b8-a47c-9a81fe6c0615\" style=\"height: 300px; width: 500px;\" class=\"plotly-graph-div\"></div><script type=\"text/javascript\">require([\"plotly\"], function(Plotly) { window.PLOTLYENV=window.PLOTLYENV || {};window.PLOTLYENV.BASE_URL=\"https://plot.ly\";Plotly.newPlot(\"af846163-9c44-44b8-a47c-9a81fe6c0615\", [{\"type\": \"scatter\", \"name\": \"Coefficient of Variation\", \"x\": [1, 2, 3, 4, 5, 6, 7, 8, 9], \"y\": [0.042553788811150565, 0.2696321542763277, 0.3189027799992358, 0.3178368596325182, 0.2846277713179552, 0.27318300951244495, 0.263141997675426, 0.24288361817323129, 0.23131097014242424, null, null, null, null, null, null]}], {\"height\": 300, \"plot_bgcolor\": \"#000\", \"font\": {\"color\": \"#FFF\"}, \"titlefont\": {\"color\": \"#FFF\"}, \"xaxis\": {\"tickcolor\": \"#FFF\", \"dtick\": 1, \"title\": \"True Class\", \"range\": [0.5, 9.5]}, \"yaxis\": {\"showgrid\": true, \"tickcolor\": \"#FFF\", \"title\": \"Coefficient of Variation\"}, \"width\": 500, \"paper_bgcolor\": \"#000\", \"title\": \"Choice after 64000 Iterations at Glimpse 3\"}, {\"showLink\": true, \"linkText\": \"Export to plot.ly\"})});</script>"
      ]
     },
     "metadata": {},
     "output_type": "display_data"
    },
    {
     "data": {
      "application/vnd.plotly.v1+json": {
       "data": [
        {
         "name": "Mean",
         "type": "scatter",
         "x": [
          1,
          2,
          3,
          4,
          5,
          6,
          7,
          8,
          9
         ],
         "y": [
          1.0429819274105483,
          2.169259596167868,
          2.9502447049798404,
          3.855079080590496,
          4.823866592829138,
          5.822135003048706,
          6.806161873147339,
          7.828432927165068,
          8.744441691803356,
          null,
          null,
          null,
          null,
          null,
          null
         ]
        },
        {
         "name": "Standard Deviation",
         "type": "scatter",
         "x": [
          1,
          2,
          3,
          4,
          5,
          6,
          7,
          8,
          9
         ],
         "y": [
          0.20400075266395978,
          0.6541902337072238,
          1.0334974358226128,
          1.3278189630290784,
          1.5735765267096435,
          1.8118958420568512,
          2.0087678777689297,
          2.1489837109084613,
          2.267722316592976,
          null,
          null,
          null,
          null,
          null,
          null
         ],
         "yaxis": "y2"
        }
       ],
       "layout": {
        "font": {
         "color": "#FFF"
        },
        "height": 500,
        "legend": {
         "x": 0,
         "y": 1
        },
        "paper_bgcolor": "#000",
        "plot_bgcolor": "#000",
        "title": "Confidence after 64000 Iterations at Glimpse 9",
        "titlefont": {
         "color": "#FFF"
        },
        "width": 500,
        "xaxis": {
         "dtick": 1,
         "range": [
          0.5,
          9.5
         ],
         "tickcolor": "#FFF",
         "title": "True Class"
        },
        "yaxis": {
         "dtick": 1,
         "range": [
          0.5,
          15.5
         ],
         "tickcolor": "#FFF",
         "title": "Mean"
        },
        "yaxis2": {
         "gridcolor": "#999",
         "overlaying": "y",
         "range": [
          0,
          3
         ],
         "side": "right",
         "tickcolor": "#FFF",
         "title": "Standard Deviation"
        }
       }
      },
      "text/html": [
       "<div id=\"083f3c9a-cca9-45a6-bdce-5588b9829b24\" style=\"height: 500px; width: 500px;\" class=\"plotly-graph-div\"></div><script type=\"text/javascript\">require([\"plotly\"], function(Plotly) { window.PLOTLYENV=window.PLOTLYENV || {};window.PLOTLYENV.BASE_URL=\"https://plot.ly\";Plotly.newPlot(\"083f3c9a-cca9-45a6-bdce-5588b9829b24\", [{\"type\": \"scatter\", \"name\": \"Mean\", \"x\": [1, 2, 3, 4, 5, 6, 7, 8, 9], \"y\": [1.0429819274105483, 2.169259596167868, 2.9502447049798404, 3.855079080590496, 4.823866592829138, 5.822135003048706, 6.806161873147339, 7.828432927165068, 8.744441691803356, null, null, null, null, null, null]}, {\"type\": \"scatter\", \"yaxis\": \"y2\", \"name\": \"Standard Deviation\", \"x\": [1, 2, 3, 4, 5, 6, 7, 8, 9], \"y\": [0.20400075266395978, 0.6541902337072238, 1.0334974358226128, 1.3278189630290784, 1.5735765267096435, 1.8118958420568512, 2.0087678777689297, 2.1489837109084613, 2.267722316592976, null, null, null, null, null, null]}], {\"height\": 500, \"paper_bgcolor\": \"#000\", \"plot_bgcolor\": \"#000\", \"font\": {\"color\": \"#FFF\"}, \"titlefont\": {\"color\": \"#FFF\"}, \"xaxis\": {\"tickcolor\": \"#FFF\", \"dtick\": 1, \"title\": \"True Class\", \"range\": [0.5, 9.5]}, \"yaxis\": {\"tickcolor\": \"#FFF\", \"dtick\": 1, \"title\": \"Mean\", \"range\": [0.5, 15.5]}, \"legend\": {\"y\": 1, \"x\": 0}, \"title\": \"Confidence after 64000 Iterations at Glimpse 9\", \"yaxis2\": {\"overlaying\": \"y\", \"gridcolor\": \"#999\", \"range\": [0, 3], \"side\": \"right\", \"title\": \"Standard Deviation\", \"tickcolor\": \"#FFF\"}, \"width\": 500}, {\"showLink\": true, \"linkText\": \"Export to plot.ly\"})});</script>"
      ],
      "text/vnd.plotly.v1+html": [
       "<div id=\"083f3c9a-cca9-45a6-bdce-5588b9829b24\" style=\"height: 500px; width: 500px;\" class=\"plotly-graph-div\"></div><script type=\"text/javascript\">require([\"plotly\"], function(Plotly) { window.PLOTLYENV=window.PLOTLYENV || {};window.PLOTLYENV.BASE_URL=\"https://plot.ly\";Plotly.newPlot(\"083f3c9a-cca9-45a6-bdce-5588b9829b24\", [{\"type\": \"scatter\", \"name\": \"Mean\", \"x\": [1, 2, 3, 4, 5, 6, 7, 8, 9], \"y\": [1.0429819274105483, 2.169259596167868, 2.9502447049798404, 3.855079080590496, 4.823866592829138, 5.822135003048706, 6.806161873147339, 7.828432927165068, 8.744441691803356, null, null, null, null, null, null]}, {\"type\": \"scatter\", \"yaxis\": \"y2\", \"name\": \"Standard Deviation\", \"x\": [1, 2, 3, 4, 5, 6, 7, 8, 9], \"y\": [0.20400075266395978, 0.6541902337072238, 1.0334974358226128, 1.3278189630290784, 1.5735765267096435, 1.8118958420568512, 2.0087678777689297, 2.1489837109084613, 2.267722316592976, null, null, null, null, null, null]}], {\"height\": 500, \"paper_bgcolor\": \"#000\", \"plot_bgcolor\": \"#000\", \"font\": {\"color\": \"#FFF\"}, \"titlefont\": {\"color\": \"#FFF\"}, \"xaxis\": {\"tickcolor\": \"#FFF\", \"dtick\": 1, \"title\": \"True Class\", \"range\": [0.5, 9.5]}, \"yaxis\": {\"tickcolor\": \"#FFF\", \"dtick\": 1, \"title\": \"Mean\", \"range\": [0.5, 15.5]}, \"legend\": {\"y\": 1, \"x\": 0}, \"title\": \"Confidence after 64000 Iterations at Glimpse 9\", \"yaxis2\": {\"overlaying\": \"y\", \"gridcolor\": \"#999\", \"range\": [0, 3], \"side\": \"right\", \"title\": \"Standard Deviation\", \"tickcolor\": \"#FFF\"}, \"width\": 500}, {\"showLink\": true, \"linkText\": \"Export to plot.ly\"})});</script>"
      ]
     },
     "metadata": {},
     "output_type": "display_data"
    },
    {
     "data": {
      "application/vnd.plotly.v1+json": {
       "data": [
        {
         "name": "Coefficient of Variation",
         "type": "scatter",
         "x": [
          1,
          2,
          3,
          4,
          5,
          6,
          7,
          8,
          9
         ],
         "y": [
          0.19115030038060193,
          0.30071258976695525,
          0.35140240210662793,
          0.3459707064149139,
          0.32769264501801476,
          0.31244855756587275,
          0.2960305309513781,
          0.27490223068128994,
          0.2596579174342543,
          null,
          null,
          null,
          null,
          null,
          null
         ]
        }
       ],
       "layout": {
        "font": {
         "color": "#FFF"
        },
        "height": 300,
        "paper_bgcolor": "#000",
        "plot_bgcolor": "#000",
        "title": "Confidence after 64000 Iterations at Glimpse 9",
        "titlefont": {
         "color": "#FFF"
        },
        "width": 500,
        "xaxis": {
         "dtick": 1,
         "range": [
          0.5,
          9.5
         ],
         "tickcolor": "#FFF",
         "title": "True Class"
        },
        "yaxis": {
         "showgrid": true,
         "tickcolor": "#FFF",
         "title": "Coefficient of Variation"
        }
       }
      },
      "text/html": [
       "<div id=\"f939cfdf-c58a-4589-ae1d-7e12fb6a8f92\" style=\"height: 300px; width: 500px;\" class=\"plotly-graph-div\"></div><script type=\"text/javascript\">require([\"plotly\"], function(Plotly) { window.PLOTLYENV=window.PLOTLYENV || {};window.PLOTLYENV.BASE_URL=\"https://plot.ly\";Plotly.newPlot(\"f939cfdf-c58a-4589-ae1d-7e12fb6a8f92\", [{\"type\": \"scatter\", \"name\": \"Coefficient of Variation\", \"x\": [1, 2, 3, 4, 5, 6, 7, 8, 9], \"y\": [0.19115030038060193, 0.30071258976695525, 0.35140240210662793, 0.3459707064149139, 0.32769264501801476, 0.31244855756587275, 0.2960305309513781, 0.27490223068128994, 0.2596579174342543, null, null, null, null, null, null]}], {\"height\": 300, \"plot_bgcolor\": \"#000\", \"font\": {\"color\": \"#FFF\"}, \"titlefont\": {\"color\": \"#FFF\"}, \"xaxis\": {\"tickcolor\": \"#FFF\", \"dtick\": 1, \"title\": \"True Class\", \"range\": [0.5, 9.5]}, \"yaxis\": {\"showgrid\": true, \"tickcolor\": \"#FFF\", \"title\": \"Coefficient of Variation\"}, \"width\": 500, \"paper_bgcolor\": \"#000\", \"title\": \"Confidence after 64000 Iterations at Glimpse 9\"}, {\"showLink\": true, \"linkText\": \"Export to plot.ly\"})});</script>"
      ],
      "text/vnd.plotly.v1+html": [
       "<div id=\"f939cfdf-c58a-4589-ae1d-7e12fb6a8f92\" style=\"height: 300px; width: 500px;\" class=\"plotly-graph-div\"></div><script type=\"text/javascript\">require([\"plotly\"], function(Plotly) { window.PLOTLYENV=window.PLOTLYENV || {};window.PLOTLYENV.BASE_URL=\"https://plot.ly\";Plotly.newPlot(\"f939cfdf-c58a-4589-ae1d-7e12fb6a8f92\", [{\"type\": \"scatter\", \"name\": \"Coefficient of Variation\", \"x\": [1, 2, 3, 4, 5, 6, 7, 8, 9], \"y\": [0.19115030038060193, 0.30071258976695525, 0.35140240210662793, 0.3459707064149139, 0.32769264501801476, 0.31244855756587275, 0.2960305309513781, 0.27490223068128994, 0.2596579174342543, null, null, null, null, null, null]}], {\"height\": 300, \"plot_bgcolor\": \"#000\", \"font\": {\"color\": \"#FFF\"}, \"titlefont\": {\"color\": \"#FFF\"}, \"xaxis\": {\"tickcolor\": \"#FFF\", \"dtick\": 1, \"title\": \"True Class\", \"range\": [0.5, 9.5]}, \"yaxis\": {\"showgrid\": true, \"tickcolor\": \"#FFF\", \"title\": \"Coefficient of Variation\"}, \"width\": 500, \"paper_bgcolor\": \"#000\", \"title\": \"Confidence after 64000 Iterations at Glimpse 9\"}, {\"showLink\": true, \"linkText\": \"Export to plot.ly\"})});</script>"
      ]
     },
     "metadata": {},
     "output_type": "display_data"
    },
    {
     "data": {
      "application/vnd.plotly.v1+json": {
       "data": [
        {
         "name": "Mean",
         "type": "scatter",
         "x": [
          1,
          2,
          3,
          4,
          5,
          6,
          7,
          8,
          9
         ],
         "y": [
          1.002673378794157,
          2.0255836992658987,
          2.7363638461253794,
          3.6186281968945018,
          4.577379040806744,
          5.568177628639264,
          6.566572322497454,
          7.642553773526613,
          8.59891375756987,
          null,
          null,
          null,
          null,
          null,
          null
         ]
        },
        {
         "name": "Standard Deviation",
         "type": "scatter",
         "x": [
          1,
          2,
          3,
          4,
          5,
          6,
          7,
          8,
          9
         ],
         "y": [
          0.03303644078066877,
          0.4593225790968975,
          0.804717282504986,
          1.0642173402309376,
          1.2514170072519242,
          1.4588040561867328,
          1.66802780071292,
          1.7966144103742472,
          1.944693388621245,
          null,
          null,
          null,
          null,
          null,
          null
         ],
         "yaxis": "y2"
        }
       ],
       "layout": {
        "font": {
         "color": "#FFF"
        },
        "height": 500,
        "legend": {
         "x": 0,
         "y": 1
        },
        "paper_bgcolor": "#000",
        "plot_bgcolor": "#000",
        "title": "Choice after 64000 Iterations at Glimpse 9",
        "titlefont": {
         "color": "#FFF"
        },
        "width": 500,
        "xaxis": {
         "dtick": 1,
         "range": [
          0.5,
          9.5
         ],
         "tickcolor": "#FFF",
         "title": "True Class"
        },
        "yaxis": {
         "dtick": 1,
         "range": [
          0.5,
          15.5
         ],
         "tickcolor": "#FFF",
         "title": "Mean"
        },
        "yaxis2": {
         "gridcolor": "#999",
         "overlaying": "y",
         "range": [
          0,
          3
         ],
         "side": "right",
         "tickcolor": "#FFF",
         "title": "Standard Deviation"
        }
       }
      },
      "text/html": [
       "<div id=\"7059bfc4-1f98-46ba-8e4d-ba6a6dbaee8f\" style=\"height: 500px; width: 500px;\" class=\"plotly-graph-div\"></div><script type=\"text/javascript\">require([\"plotly\"], function(Plotly) { window.PLOTLYENV=window.PLOTLYENV || {};window.PLOTLYENV.BASE_URL=\"https://plot.ly\";Plotly.newPlot(\"7059bfc4-1f98-46ba-8e4d-ba6a6dbaee8f\", [{\"type\": \"scatter\", \"name\": \"Mean\", \"x\": [1, 2, 3, 4, 5, 6, 7, 8, 9], \"y\": [1.002673378794157, 2.0255836992658987, 2.7363638461253794, 3.6186281968945018, 4.577379040806744, 5.568177628639264, 6.566572322497454, 7.642553773526613, 8.59891375756987, null, null, null, null, null, null]}, {\"type\": \"scatter\", \"yaxis\": \"y2\", \"name\": \"Standard Deviation\", \"x\": [1, 2, 3, 4, 5, 6, 7, 8, 9], \"y\": [0.03303644078066877, 0.4593225790968975, 0.804717282504986, 1.0642173402309376, 1.2514170072519242, 1.4588040561867328, 1.66802780071292, 1.7966144103742472, 1.944693388621245, null, null, null, null, null, null]}], {\"height\": 500, \"paper_bgcolor\": \"#000\", \"plot_bgcolor\": \"#000\", \"font\": {\"color\": \"#FFF\"}, \"titlefont\": {\"color\": \"#FFF\"}, \"xaxis\": {\"tickcolor\": \"#FFF\", \"dtick\": 1, \"title\": \"True Class\", \"range\": [0.5, 9.5]}, \"yaxis\": {\"tickcolor\": \"#FFF\", \"dtick\": 1, \"title\": \"Mean\", \"range\": [0.5, 15.5]}, \"legend\": {\"y\": 1, \"x\": 0}, \"title\": \"Choice after 64000 Iterations at Glimpse 9\", \"yaxis2\": {\"overlaying\": \"y\", \"gridcolor\": \"#999\", \"range\": [0, 3], \"side\": \"right\", \"title\": \"Standard Deviation\", \"tickcolor\": \"#FFF\"}, \"width\": 500}, {\"showLink\": true, \"linkText\": \"Export to plot.ly\"})});</script>"
      ],
      "text/vnd.plotly.v1+html": [
       "<div id=\"7059bfc4-1f98-46ba-8e4d-ba6a6dbaee8f\" style=\"height: 500px; width: 500px;\" class=\"plotly-graph-div\"></div><script type=\"text/javascript\">require([\"plotly\"], function(Plotly) { window.PLOTLYENV=window.PLOTLYENV || {};window.PLOTLYENV.BASE_URL=\"https://plot.ly\";Plotly.newPlot(\"7059bfc4-1f98-46ba-8e4d-ba6a6dbaee8f\", [{\"type\": \"scatter\", \"name\": \"Mean\", \"x\": [1, 2, 3, 4, 5, 6, 7, 8, 9], \"y\": [1.002673378794157, 2.0255836992658987, 2.7363638461253794, 3.6186281968945018, 4.577379040806744, 5.568177628639264, 6.566572322497454, 7.642553773526613, 8.59891375756987, null, null, null, null, null, null]}, {\"type\": \"scatter\", \"yaxis\": \"y2\", \"name\": \"Standard Deviation\", \"x\": [1, 2, 3, 4, 5, 6, 7, 8, 9], \"y\": [0.03303644078066877, 0.4593225790968975, 0.804717282504986, 1.0642173402309376, 1.2514170072519242, 1.4588040561867328, 1.66802780071292, 1.7966144103742472, 1.944693388621245, null, null, null, null, null, null]}], {\"height\": 500, \"paper_bgcolor\": \"#000\", \"plot_bgcolor\": \"#000\", \"font\": {\"color\": \"#FFF\"}, \"titlefont\": {\"color\": \"#FFF\"}, \"xaxis\": {\"tickcolor\": \"#FFF\", \"dtick\": 1, \"title\": \"True Class\", \"range\": [0.5, 9.5]}, \"yaxis\": {\"tickcolor\": \"#FFF\", \"dtick\": 1, \"title\": \"Mean\", \"range\": [0.5, 15.5]}, \"legend\": {\"y\": 1, \"x\": 0}, \"title\": \"Choice after 64000 Iterations at Glimpse 9\", \"yaxis2\": {\"overlaying\": \"y\", \"gridcolor\": \"#999\", \"range\": [0, 3], \"side\": \"right\", \"title\": \"Standard Deviation\", \"tickcolor\": \"#FFF\"}, \"width\": 500}, {\"showLink\": true, \"linkText\": \"Export to plot.ly\"})});</script>"
      ]
     },
     "metadata": {},
     "output_type": "display_data"
    },
    {
     "data": {
      "application/vnd.plotly.v1+json": {
       "data": [
        {
         "name": "Coefficient of Variation",
         "type": "scatter",
         "x": [
          1,
          2,
          3,
          4,
          5,
          6,
          7,
          8,
          9
         ],
         "y": [
          0.032750060853074546,
          0.22653727136989316,
          0.29599683479324357,
          0.29571757942762145,
          0.2756579177547309,
          0.26407522137177,
          0.2559447369667528,
          0.23606948521593935,
          0.22659824930303002,
          null,
          null,
          null,
          null,
          null,
          null
         ]
        }
       ],
       "layout": {
        "font": {
         "color": "#FFF"
        },
        "height": 300,
        "paper_bgcolor": "#000",
        "plot_bgcolor": "#000",
        "title": "Choice after 64000 Iterations at Glimpse 9",
        "titlefont": {
         "color": "#FFF"
        },
        "width": 500,
        "xaxis": {
         "dtick": 1,
         "range": [
          0.5,
          9.5
         ],
         "tickcolor": "#FFF",
         "title": "True Class"
        },
        "yaxis": {
         "showgrid": true,
         "tickcolor": "#FFF",
         "title": "Coefficient of Variation"
        }
       }
      },
      "text/html": [
       "<div id=\"224ad974-8e06-4c67-b112-2820288a041a\" style=\"height: 300px; width: 500px;\" class=\"plotly-graph-div\"></div><script type=\"text/javascript\">require([\"plotly\"], function(Plotly) { window.PLOTLYENV=window.PLOTLYENV || {};window.PLOTLYENV.BASE_URL=\"https://plot.ly\";Plotly.newPlot(\"224ad974-8e06-4c67-b112-2820288a041a\", [{\"type\": \"scatter\", \"name\": \"Coefficient of Variation\", \"x\": [1, 2, 3, 4, 5, 6, 7, 8, 9], \"y\": [0.032750060853074546, 0.22653727136989316, 0.29599683479324357, 0.29571757942762145, 0.2756579177547309, 0.26407522137177, 0.2559447369667528, 0.23606948521593935, 0.22659824930303002, null, null, null, null, null, null]}], {\"height\": 300, \"plot_bgcolor\": \"#000\", \"font\": {\"color\": \"#FFF\"}, \"titlefont\": {\"color\": \"#FFF\"}, \"xaxis\": {\"tickcolor\": \"#FFF\", \"dtick\": 1, \"title\": \"True Class\", \"range\": [0.5, 9.5]}, \"yaxis\": {\"showgrid\": true, \"tickcolor\": \"#FFF\", \"title\": \"Coefficient of Variation\"}, \"width\": 500, \"paper_bgcolor\": \"#000\", \"title\": \"Choice after 64000 Iterations at Glimpse 9\"}, {\"showLink\": true, \"linkText\": \"Export to plot.ly\"})});</script>"
      ],
      "text/vnd.plotly.v1+html": [
       "<div id=\"224ad974-8e06-4c67-b112-2820288a041a\" style=\"height: 300px; width: 500px;\" class=\"plotly-graph-div\"></div><script type=\"text/javascript\">require([\"plotly\"], function(Plotly) { window.PLOTLYENV=window.PLOTLYENV || {};window.PLOTLYENV.BASE_URL=\"https://plot.ly\";Plotly.newPlot(\"224ad974-8e06-4c67-b112-2820288a041a\", [{\"type\": \"scatter\", \"name\": \"Coefficient of Variation\", \"x\": [1, 2, 3, 4, 5, 6, 7, 8, 9], \"y\": [0.032750060853074546, 0.22653727136989316, 0.29599683479324357, 0.29571757942762145, 0.2756579177547309, 0.26407522137177, 0.2559447369667528, 0.23606948521593935, 0.22659824930303002, null, null, null, null, null, null]}], {\"height\": 300, \"plot_bgcolor\": \"#000\", \"font\": {\"color\": \"#FFF\"}, \"titlefont\": {\"color\": \"#FFF\"}, \"xaxis\": {\"tickcolor\": \"#FFF\", \"dtick\": 1, \"title\": \"True Class\", \"range\": [0.5, 9.5]}, \"yaxis\": {\"showgrid\": true, \"tickcolor\": \"#FFF\", \"title\": \"Coefficient of Variation\"}, \"width\": 500, \"paper_bgcolor\": \"#000\", \"title\": \"Choice after 64000 Iterations at Glimpse 9\"}, {\"showLink\": true, \"linkText\": \"Export to plot.ly\"})});</script>"
      ]
     },
     "metadata": {},
     "output_type": "display_data"
    }
   ],
   "source": [
    "for i, it in enumerate(iter_list):\n",
    "    for g, glimpse in enumerate(glimpse_list):\n",
    "        plot_confidence_msdcv(i, it, g, glimpse)\n",
    "        plot_choice_msdcv(i, it, g, glimpse)"
   ]
  },
  {
   "cell_type": "code",
   "execution_count": null,
   "metadata": {
    "collapsed": true
   },
   "outputs": [],
   "source": []
  }
 ],
 "metadata": {
  "kernelspec": {
   "display_name": "Python 3",
   "language": "python",
   "name": "python3"
  },
  "language_info": {
   "codemirror_mode": {
    "name": "ipython",
    "version": 3
   },
   "file_extension": ".py",
   "mimetype": "text/x-python",
   "name": "python",
   "nbconvert_exporter": "python",
   "pygments_lexer": "ipython3",
   "version": "3.5.2"
  }
 },
 "nbformat": 4,
 "nbformat_minor": 2
}
