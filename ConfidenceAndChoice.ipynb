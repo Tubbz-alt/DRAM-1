{
 "cells": [
  {
   "cell_type": "markdown",
   "metadata": {},
   "source": [
    "# Confidence and Choice Visualizer"
   ]
  },
  {
   "cell_type": "markdown",
   "metadata": {},
   "source": [
    "Run DRAM_classify_blobs 10 times (use runDRAM_classify_blobs.sh), then use ClassificationDistributions.ipynb to output confidence_one_run for each run, and set them as the confidence for each run in confidence_all_runs."
   ]
  },
  {
   "cell_type": "code",
   "execution_count": 1,
   "metadata": {},
   "outputs": [
    {
     "data": {
      "text/html": [
       "<script>requirejs.config({paths: { 'plotly': ['https://cdn.plot.ly/plotly-latest.min']},});if(!window.Plotly) {{require(['plotly'],function(plotly) {window.Plotly=plotly;});}}</script>"
      ],
      "text/vnd.plotly.v1+html": [
       "<script>requirejs.config({paths: { 'plotly': ['https://cdn.plot.ly/plotly-latest.min']},});if(!window.Plotly) {{require(['plotly'],function(plotly) {window.Plotly=plotly;});}}</script>"
      ]
     },
     "metadata": {},
     "output_type": "display_data"
    },
    {
     "name": "stdout",
     "output_type": "stream",
     "text": [
      "['/usr/local/lib/python3.5/dist-packages/ipykernel_launcher.py', 'true', 'true', 'true', 'true', 'true', 'true', 'model_runs/sensical_left/classify_log.csv', 'model_runs/sensical_left/classifymodel_0.ckpt', 'model_runs/sensical_left/classifymodel_', 'model_runs/sensical_left/zzzdraw_data_5000.npy', 'false', 'true', 'false', 'false', 'true']\n",
      "analysis.py\n"
     ]
    }
   ],
   "source": [
    "import numpy as np\n",
    "from plotly.offline import download_plotlyjs, init_notebook_mode, plot, iplot\n",
    "init_notebook_mode(connected=True)\n",
    "import plotly.graph_objs as go\n",
    "from analysis import classify_image, read_n, classify_imgs2"
   ]
  },
  {
   "cell_type": "code",
   "execution_count": 2,
   "metadata": {
    "collapsed": true
   },
   "outputs": [],
   "source": [
    "num_runs = 10\n",
    "iter_list = [0, 250, 1000, 4000, 16000, 32000]#[0, 250, 1000, 4000, 16000, 32000, 64000, 125000, 250000, 500000]\n",
    "glimpse_list = [0, 3, 9]\n",
    "max_blobs = 9\n",
    "min_blobs = 1\n",
    "\n",
    "num_iters = len(iter_list)\n",
    "num_glimpses = len(glimpse_list)\n",
    "z_size = max_blobs - min_blobs + 1\n",
    "\n",
    "confidence_all_runs = np.zeros([num_runs, num_iters, num_glimpses, z_size, z_size])\n",
    "choice_all_runs = np.zeros([num_runs, num_iters, num_glimpses, z_size, z_size])"
   ]
  },
  {
   "cell_type": "code",
   "execution_count": 3,
   "metadata": {
    "collapsed": true
   },
   "outputs": [],
   "source": [
    "def fill_matrix(path, iteration):\n",
    "    \"\"\"Fill the confidence and choice matrices for one run at one iteration.\"\"\"\n",
    "    \n",
    "    data = None\n",
    "    num_imgs = 9000\n",
    "    imgs_data = classify_imgs2(iteration, True, num_imgs, path=path)\n",
    "        \n",
    "    confidence_one_run = np.zeros([num_glimpses, z_size, z_size])\n",
    "    choice_one_run = np.zeros([num_glimpses, z_size, z_size])\n",
    "    \n",
    "    for g, glimpse in enumerate(glimpse_list):\n",
    "\n",
    "        for nb in range(z_size):\n",
    "            num_blobs = nb + 1\n",
    "            confidence_hist = np.zeros(z_size)\n",
    "            choice_hist = np.zeros(z_size)\n",
    "            value_counts = np.zeros(z_size)\n",
    "            values_sum = 0\n",
    "            sqr_sum = 0\n",
    "            num_imgs_with_num_blobs = 0\n",
    "\n",
    "            for idx, data in enumerate(imgs_data):\n",
    "\n",
    "                if data[\"label\"][(num_blobs - min_blobs)] == 1: # data is for an image with num_blobs blobs\n",
    "                    num_imgs_with_num_blobs += 1\n",
    "\n",
    "                    # Histogram of softmaxes\n",
    "                    confidence_hist += data[\"classifications\"][glimpse][0]\n",
    "\n",
    "                    # Histogram of choices\n",
    "                    choice = np.argmax(data[\"classifications\"][glimpse][0])\n",
    "                    choice_list = [0] * z_size\n",
    "                    choice_list[choice] = 1\n",
    "                    choice_hist += choice_list\n",
    "\n",
    "            confidence_hist = confidence_hist / num_imgs_with_num_blobs\n",
    "            confidence_one_run[g, nb] = confidence_hist.tolist()\n",
    "\n",
    "            choice_hist = choice_hist / num_imgs_with_num_blobs\n",
    "            choice_one_run[g, nb] = choice_hist.tolist()\n",
    "        \n",
    "#     print(\"Confidence (One Run): \")\n",
    "#     print(confidence_one_run.tolist())\n",
    "#     print(\"Choice (One Run): \")\n",
    "#     print(choice_one_run.tolist())\n",
    "    return confidence_one_run, choice_one_run"
   ]
  },
  {
   "cell_type": "code",
   "execution_count": 4,
   "metadata": {
    "scrolled": true
   },
   "outputs": [
    {
     "name": "stdout",
     "output_type": "stream",
     "text": [
      "INFO:tensorflow:Restoring parameters from model_runs/DRAM_classify_blobs_run_1/classifymodel_0.ckpt\n",
      "INFO:tensorflow:Restoring parameters from model_runs/DRAM_classify_blobs_run_1/classifymodel_250.ckpt\n",
      "INFO:tensorflow:Restoring parameters from model_runs/DRAM_classify_blobs_run_1/classifymodel_1000.ckpt\n",
      "INFO:tensorflow:Restoring parameters from model_runs/DRAM_classify_blobs_run_1/classifymodel_4000.ckpt\n",
      "INFO:tensorflow:Restoring parameters from model_runs/DRAM_classify_blobs_run_1/classifymodel_16000.ckpt\n",
      "INFO:tensorflow:Restoring parameters from model_runs/DRAM_classify_blobs_run_1/classifymodel_32000.ckpt\n",
      "INFO:tensorflow:Restoring parameters from model_runs/DRAM_classify_blobs_run_2/classifymodel_0.ckpt\n",
      "INFO:tensorflow:Restoring parameters from model_runs/DRAM_classify_blobs_run_2/classifymodel_250.ckpt\n",
      "INFO:tensorflow:Restoring parameters from model_runs/DRAM_classify_blobs_run_2/classifymodel_1000.ckpt\n",
      "INFO:tensorflow:Restoring parameters from model_runs/DRAM_classify_blobs_run_2/classifymodel_4000.ckpt\n",
      "INFO:tensorflow:Restoring parameters from model_runs/DRAM_classify_blobs_run_2/classifymodel_16000.ckpt\n",
      "INFO:tensorflow:Restoring parameters from model_runs/DRAM_classify_blobs_run_2/classifymodel_32000.ckpt\n",
      "INFO:tensorflow:Restoring parameters from model_runs/DRAM_classify_blobs_run_3/classifymodel_0.ckpt\n",
      "INFO:tensorflow:Restoring parameters from model_runs/DRAM_classify_blobs_run_3/classifymodel_250.ckpt\n",
      "INFO:tensorflow:Restoring parameters from model_runs/DRAM_classify_blobs_run_3/classifymodel_1000.ckpt\n",
      "INFO:tensorflow:Restoring parameters from model_runs/DRAM_classify_blobs_run_3/classifymodel_4000.ckpt\n",
      "INFO:tensorflow:Restoring parameters from model_runs/DRAM_classify_blobs_run_3/classifymodel_16000.ckpt\n",
      "INFO:tensorflow:Restoring parameters from model_runs/DRAM_classify_blobs_run_3/classifymodel_32000.ckpt\n",
      "INFO:tensorflow:Restoring parameters from model_runs/DRAM_classify_blobs_run_4/classifymodel_0.ckpt\n",
      "INFO:tensorflow:Restoring parameters from model_runs/DRAM_classify_blobs_run_4/classifymodel_250.ckpt\n",
      "INFO:tensorflow:Restoring parameters from model_runs/DRAM_classify_blobs_run_4/classifymodel_1000.ckpt\n",
      "INFO:tensorflow:Restoring parameters from model_runs/DRAM_classify_blobs_run_4/classifymodel_4000.ckpt\n",
      "INFO:tensorflow:Restoring parameters from model_runs/DRAM_classify_blobs_run_4/classifymodel_16000.ckpt\n",
      "INFO:tensorflow:Restoring parameters from model_runs/DRAM_classify_blobs_run_4/classifymodel_32000.ckpt\n",
      "INFO:tensorflow:Restoring parameters from model_runs/DRAM_classify_blobs_run_5/classifymodel_0.ckpt\n",
      "INFO:tensorflow:Restoring parameters from model_runs/DRAM_classify_blobs_run_5/classifymodel_250.ckpt\n",
      "INFO:tensorflow:Restoring parameters from model_runs/DRAM_classify_blobs_run_5/classifymodel_1000.ckpt\n",
      "INFO:tensorflow:Restoring parameters from model_runs/DRAM_classify_blobs_run_5/classifymodel_4000.ckpt\n",
      "INFO:tensorflow:Restoring parameters from model_runs/DRAM_classify_blobs_run_5/classifymodel_16000.ckpt\n",
      "INFO:tensorflow:Restoring parameters from model_runs/DRAM_classify_blobs_run_5/classifymodel_32000.ckpt\n",
      "INFO:tensorflow:Restoring parameters from model_runs/DRAM_classify_blobs_run_6/classifymodel_0.ckpt\n",
      "INFO:tensorflow:Restoring parameters from model_runs/DRAM_classify_blobs_run_6/classifymodel_250.ckpt\n",
      "INFO:tensorflow:Restoring parameters from model_runs/DRAM_classify_blobs_run_6/classifymodel_1000.ckpt\n",
      "INFO:tensorflow:Restoring parameters from model_runs/DRAM_classify_blobs_run_6/classifymodel_4000.ckpt\n",
      "INFO:tensorflow:Restoring parameters from model_runs/DRAM_classify_blobs_run_6/classifymodel_16000.ckpt\n",
      "INFO:tensorflow:Restoring parameters from model_runs/DRAM_classify_blobs_run_6/classifymodel_32000.ckpt\n",
      "INFO:tensorflow:Restoring parameters from model_runs/DRAM_classify_blobs_run_7/classifymodel_0.ckpt\n",
      "INFO:tensorflow:Restoring parameters from model_runs/DRAM_classify_blobs_run_7/classifymodel_250.ckpt\n",
      "INFO:tensorflow:Restoring parameters from model_runs/DRAM_classify_blobs_run_7/classifymodel_1000.ckpt\n",
      "INFO:tensorflow:Restoring parameters from model_runs/DRAM_classify_blobs_run_7/classifymodel_4000.ckpt\n",
      "INFO:tensorflow:Restoring parameters from model_runs/DRAM_classify_blobs_run_7/classifymodel_16000.ckpt\n",
      "INFO:tensorflow:Restoring parameters from model_runs/DRAM_classify_blobs_run_7/classifymodel_32000.ckpt\n",
      "INFO:tensorflow:Restoring parameters from model_runs/DRAM_classify_blobs_run_8/classifymodel_0.ckpt\n",
      "INFO:tensorflow:Restoring parameters from model_runs/DRAM_classify_blobs_run_8/classifymodel_250.ckpt\n",
      "INFO:tensorflow:Restoring parameters from model_runs/DRAM_classify_blobs_run_8/classifymodel_1000.ckpt\n",
      "INFO:tensorflow:Restoring parameters from model_runs/DRAM_classify_blobs_run_8/classifymodel_4000.ckpt\n",
      "INFO:tensorflow:Restoring parameters from model_runs/DRAM_classify_blobs_run_8/classifymodel_16000.ckpt\n",
      "INFO:tensorflow:Restoring parameters from model_runs/DRAM_classify_blobs_run_8/classifymodel_32000.ckpt\n",
      "INFO:tensorflow:Restoring parameters from model_runs/DRAM_classify_blobs_run_9/classifymodel_0.ckpt\n",
      "INFO:tensorflow:Restoring parameters from model_runs/DRAM_classify_blobs_run_9/classifymodel_250.ckpt\n",
      "INFO:tensorflow:Restoring parameters from model_runs/DRAM_classify_blobs_run_9/classifymodel_1000.ckpt\n",
      "INFO:tensorflow:Restoring parameters from model_runs/DRAM_classify_blobs_run_9/classifymodel_4000.ckpt\n",
      "INFO:tensorflow:Restoring parameters from model_runs/DRAM_classify_blobs_run_9/classifymodel_16000.ckpt\n",
      "INFO:tensorflow:Restoring parameters from model_runs/DRAM_classify_blobs_run_9/classifymodel_32000.ckpt\n",
      "INFO:tensorflow:Restoring parameters from model_runs/DRAM_classify_blobs_run_10/classifymodel_0.ckpt\n",
      "INFO:tensorflow:Restoring parameters from model_runs/DRAM_classify_blobs_run_10/classifymodel_250.ckpt\n",
      "INFO:tensorflow:Restoring parameters from model_runs/DRAM_classify_blobs_run_10/classifymodel_1000.ckpt\n",
      "INFO:tensorflow:Restoring parameters from model_runs/DRAM_classify_blobs_run_10/classifymodel_4000.ckpt\n",
      "INFO:tensorflow:Restoring parameters from model_runs/DRAM_classify_blobs_run_10/classifymodel_16000.ckpt\n",
      "INFO:tensorflow:Restoring parameters from model_runs/DRAM_classify_blobs_run_10/classifymodel_32000.ckpt\n"
     ]
    }
   ],
   "source": [
    "model = \"DRAM_classify_blobs\"\n",
    "for run in range(num_runs):\n",
    "    path = 'model_runs/' + model + '_run_' + str(run + 1)\n",
    "#     path = 'model_runs/DRAM_test_square'\n",
    "    for i, iteration in enumerate(iter_list):\n",
    "        confidence_all_runs[run, i], choice_all_runs[run, i] = fill_matrix(path, iteration)"
   ]
  },
  {
   "cell_type": "code",
   "execution_count": 5,
   "metadata": {
    "collapsed": true
   },
   "outputs": [],
   "source": [
    "# for iteration in [250]:\n",
    "#     iter_idx = iter_list.index(iteration)\n",
    "#     confidence_all_runs[0, iter_idx] = np.array([[0.860760747172113, 0.1277467767290509, 0.010657337000120606, 0.0007285194326832247, 6.787944351642578e-05, 2.9971955746236867e-05, 5.145775413146485e-06, 7.464326014394856e-07, 2.878851030397534e-06], [0.20300415922482953, 0.5184953242166103, 0.20827241095635282, 0.05231078128653731, 0.012505148318335242, 0.004580371038418926, 0.0006180559509162963, 0.00010845492016917556, 0.00010529498801776148], [0.017868306261641757, 0.3537408285439692, 0.34259592842755954, 0.1658108561628833, 0.07394838094437096, 0.037945567332524535, 0.0058128362575559, 0.0015080746380952204, 0.0007692225027735955], [0.0009324774553806627, 0.13202229804306542, 0.274546225576406, 0.23018302718121686, 0.16847032805212483, 0.14204805273613272, 0.030567274960408255, 0.014227405173598084, 0.007002910586340956], [0.0003520191396409994, 0.04111785734034918, 0.15463699939020453, 0.2050167920370368, 0.2134346593449809, 0.24783463010188098, 0.06838748303711407, 0.04378451394166884, 0.02543504510230652], [5.000795444690018e-06, 0.01044296698407568, 0.06641280716187803, 0.13162901687612752, 0.18505500357876825, 0.31054571315684004, 0.1161021573583348, 0.10390606812600003, 0.07590126688454743], [1.3284532939238279e-06, 0.0023274134316703856, 0.021358992187837482, 0.06635526982578113, 0.1281593052150456, 0.29800758347616646, 0.14616071119542176, 0.17792251735337322, 0.15970687958101304], [8.615321391135292e-08, 0.000515853959362386, 0.006578610663797049, 0.02975448711197077, 0.0733464273270929, 0.2329618283142827, 0.14965183055811213, 0.2368133880313326, 0.2703774875925387], [1.8369941338283736e-08, 0.00014249697360372787, 0.002083101829095979, 0.012640375018897986, 0.036423716315071956, 0.1483100470611913, 0.12314310943966848, 0.268005807373178, 0.4092513283179578]])\n",
    "#     choice_all_runs[0, iter_idx] = np.array([[0.9582000000001493, 0.04180000000000032, 0.0, 0.0, 0.0, 0.0, 0.0, 0.0, 0.0], [0.2021999999999928, 0.6375000000000764, 0.15339999999999557, 0.006099999999999994, 0.0002, 0.0006, 0.0, 0.0, 0.0], [0.008399999999999986, 0.3843000000000189, 0.4561000000000352, 0.10799999999999814, 0.029400000000000148, 0.013699999999999967, 0.0001, 0.0, 0.0], [0.0004, 0.08969999999999918, 0.39560000000002143, 0.2231999999999916, 0.10709999999999818, 0.18179999999999397, 0.00030000000000000003, 0.0013, 0.0006], [0.0002, 0.013699999999999967, 0.18319999999999387, 0.21249999999999222, 0.1493999999999958, 0.41790000000002653, 0.003900000000000002, 0.011399999999999976, 0.007799999999999988], [0.0, 0.0007999999999999999, 0.056500000000000536, 0.10939999999999805, 0.10209999999999847, 0.6116000000000705, 0.008899999999999984, 0.05640000000000053, 0.0543000000000005], [0.0, 0.0007999999999999999, 0.007599999999999989, 0.03770000000000027, 0.05780000000000055, 0.5834000000000641, 0.013599999999999968, 0.13329999999999673, 0.16579999999999487], [0.0, 0.0002, 0.0014000000000000002, 0.007499999999999989, 0.018799999999999997, 0.41000000000002473, 0.015299999999999961, 0.18219999999999392, 0.3646000000000144], [0.0, 0.0, 0.0004, 0.0022000000000000006, 0.005999999999999995, 0.21529999999999205, 0.012399999999999972, 0.15059999999999574, 0.6131000000000708]])"
   ]
  },
  {
   "cell_type": "code",
   "execution_count": 6,
   "metadata": {
    "collapsed": true
   },
   "outputs": [],
   "source": [
    "def adj_all_runs(all_runs_matrix):\n",
    "    \"\"\"Adjust all the matrices so tick marks start with 1.\"\"\"\n",
    "    \n",
    "    new_all_runs_matrix = np.zeros([num_runs, num_iters, num_glimpses, z_size + 1, z_size + 1])\n",
    "    for m, matrix in enumerate(all_runs_matrix):\n",
    "        for i in range(num_iters):\n",
    "            for g in range(num_glimpses):\n",
    "                new_all_runs_matrix[m, i, g] = adj_matrix(matrix[i, g])\n",
    "    return new_all_runs_matrix\n",
    "\n",
    "\n",
    "def adj_matrix(matrix):\n",
    "    \"\"\"Adjust the matrix so tick marks start with 1.\"\"\"\n",
    "    \n",
    "    a = np.zeros([1, z_size])\n",
    "    temp = np.vstack((a, matrix))\n",
    "    b = np.zeros([z_size + 1, 1])\n",
    "    new_matrix = np.hstack((b, temp))\n",
    "    return new_matrix\n",
    "\n",
    "\n",
    "confidence_all_runs_adj = adj_all_runs(confidence_all_runs)\n",
    "choice_all_runs_adj = adj_all_runs(choice_all_runs)"
   ]
  },
  {
   "cell_type": "code",
   "execution_count": 7,
   "metadata": {
    "collapsed": true
   },
   "outputs": [],
   "source": [
    "confidence_avg = np.mean(confidence_all_runs_adj, axis=0)\n",
    "choice_avg = np.mean(choice_all_runs_adj, axis=0)"
   ]
  },
  {
   "cell_type": "code",
   "execution_count": 8,
   "metadata": {
    "collapsed": true
   },
   "outputs": [],
   "source": [
    "def plot_confidence(iter_idx, it, g, glimpse, run=None):\n",
    "    \"\"\"Plot the confidence heatmap.\"\"\"\n",
    "    \n",
    "    if run is None:\n",
    "        matrix = confidence_avg[iter_idx, g]\n",
    "        plot_title = \"Confidence after %d Iterations at Glimpse %d\" % (it, glimpse)\n",
    "\n",
    "    else:\n",
    "        matrix = confidence_all_runs_adj[run, iter_idx, g]\n",
    "        plot_title = \"Confidence at Run %d after %d Iterations at Glimpse %d\" % (run + 1, it, glimpse)\n",
    "    plot_heatmap(matrix, plot_title)\n",
    "\n",
    "\n",
    "def plot_choice(iter_idx, it, g, glimpse, run=None):\n",
    "    \"\"\"Plot the choice heatmap.\"\"\"\n",
    "    \n",
    "    if run is None:\n",
    "        matrix = choice_avg[iter_idx, g]\n",
    "        plot_title = \"Choice after %d Iterations at Glimpse %d\" % (it, glimpse)\n",
    "    else:\n",
    "        matrix = choice_all_runs_adj[run, iter_idx, g]\n",
    "        plot_title = \"Choice at Run %d after %d Iterations at Glimpse %d\" % (run + 1, it, glimpse)\n",
    "    plot_heatmap(matrix, plot_title)\n",
    "    \n",
    "    \n",
    "def plot_heatmap(matrix, plot_title):\n",
    "    \"\"\"Plot heatmap.\"\"\"\n",
    "    \n",
    "    data = [go.Heatmap(\n",
    "        z=matrix,\n",
    "        colorscale=\"Viridis\"\n",
    "    )]\n",
    "\n",
    "    layout = go.Layout(\n",
    "        title=plot_title,\n",
    "        yaxis=dict(\n",
    "            range=[9.5, 0.5],\n",
    "            title=\"True Class\",\n",
    "            dtick=1\n",
    "        ),\n",
    "        xaxis=dict(\n",
    "            range=[0.5, 9.5],\n",
    "            title=\"Predicted Class\",\n",
    "            dtick=1\n",
    "        ),\n",
    "        width=500,\n",
    "        height=500\n",
    "    )\n",
    "    fig = go.Figure(data=data, layout=layout)\n",
    "    iplot(fig)"
   ]
  },
  {
   "cell_type": "code",
   "execution_count": 9,
   "metadata": {},
   "outputs": [],
   "source": [
    "# for run in range(num_runs):\n",
    "#     path = 'model_runs/' + model + '_run_' + str(run)\n",
    "# #     path = 'model_runs/DRAM_test_square'\n",
    "#     for i, it in enumerate(iter_list):\n",
    "#         for g, glimpse in enumerate(glimpse_list):\n",
    "#             plot_confidence(i, it, g, glimpse, run)\n",
    "#             plot_choice(i, it, g, glimpse, run)"
   ]
  },
  {
   "cell_type": "code",
   "execution_count": 10,
   "metadata": {
    "scrolled": false
   },
   "outputs": [
    {
     "data": {
      "application/vnd.plotly.v1+json": {
       "data": [
        {
         "colorscale": "Viridis",
         "type": "heatmap",
         "z": [
          [
           0,
           0,
           0,
           0,
           0,
           0,
           0,
           0,
           0,
           0
          ],
          [
           0,
           0.10150635509662136,
           0.08196793400397726,
           0.08511231309840302,
           0.0792828354725624,
           0.11775554368209155,
           0.1229119720493594,
           0.17465269026269525,
           0.11517583562225457,
           0.12163452280187292
          ],
          [
           0,
           0.09638603062259969,
           0.07260101527359744,
           0.07556583628087529,
           0.07314986341983631,
           0.1148200681916561,
           0.12699065135471937,
           0.19867194323190218,
           0.11238407415266208,
           0.12943051883079598
          ],
          [
           0,
           0.09392270504332301,
           0.07290175939274424,
           0.07413194942697288,
           0.06868484008464307,
           0.11752105404179065,
           0.1275824993341223,
           0.20597661031431755,
           0.11256419233129784,
           0.12671439338016804
          ],
          [
           0,
           0.09159469165568528,
           0.06847776644927947,
           0.07165112234158758,
           0.06690540638536815,
           0.1216112498971379,
           0.1259497551137731,
           0.20297023288601893,
           0.11441125216350487,
           0.13642852453505605
          ],
          [
           0,
           0.09013442843208684,
           0.07194011997152754,
           0.06959204884382889,
           0.06638338201065877,
           0.11739884091248402,
           0.1344313738192991,
           0.2025337373273921,
           0.11622668992333833,
           0.13135938159439964
          ],
          [
           0,
           0.09631627084340438,
           0.06708503201193683,
           0.06582754812950452,
           0.06610515132699632,
           0.11472920703768516,
           0.12779870657824408,
           0.21017791045191525,
           0.12281988825634389,
           0.12914028733500044
          ],
          [
           0,
           0.1012443761750709,
           0.0656893112270394,
           0.06865351510865528,
           0.06546855087547501,
           0.11698474365542204,
           0.12922688648860012,
           0.20091960090959207,
           0.11874573954983125,
           0.13306727879673433
          ],
          [
           0,
           0.10029859769837343,
           0.06663933997008428,
           0.06406036111100108,
           0.06539251092905744,
           0.1210566127871036,
           0.1339365272918595,
           0.20000532438576513,
           0.1181510399672655,
           0.1304596883240701
          ],
          [
           0,
           0.09727539545755504,
           0.06530817447410228,
           0.06489089891228049,
           0.06912932918652104,
           0.12407440537366343,
           0.12961028828349283,
           0.20285670077693513,
           0.11725303363451753,
           0.12960177661362957
          ]
         ]
        }
       ],
       "layout": {
        "height": 500,
        "title": "Confidence after 0 Iterations at Glimpse 0",
        "width": 500,
        "xaxis": {
         "dtick": 1,
         "range": [
          0.5,
          9.5
         ],
         "title": "Predicted Class"
        },
        "yaxis": {
         "dtick": 1,
         "range": [
          9.5,
          0.5
         ],
         "title": "True Class"
        }
       }
      },
      "text/html": [
       "<div id=\"82dd4366-c336-4de7-9365-e2cdd98e349e\" style=\"height: 500px; width: 500px;\" class=\"plotly-graph-div\"></div><script type=\"text/javascript\">require([\"plotly\"], function(Plotly) { window.PLOTLYENV=window.PLOTLYENV || {};window.PLOTLYENV.BASE_URL=\"https://plot.ly\";Plotly.newPlot(\"82dd4366-c336-4de7-9365-e2cdd98e349e\", [{\"z\": [[0.0, 0.0, 0.0, 0.0, 0.0, 0.0, 0.0, 0.0, 0.0, 0.0], [0.0, 0.10150635509662136, 0.08196793400397726, 0.08511231309840302, 0.0792828354725624, 0.11775554368209155, 0.1229119720493594, 0.17465269026269525, 0.11517583562225457, 0.12163452280187292], [0.0, 0.09638603062259969, 0.07260101527359744, 0.07556583628087529, 0.07314986341983631, 0.1148200681916561, 0.12699065135471937, 0.19867194323190218, 0.11238407415266208, 0.12943051883079598], [0.0, 0.09392270504332301, 0.07290175939274424, 0.07413194942697288, 0.06868484008464307, 0.11752105404179065, 0.1275824993341223, 0.20597661031431755, 0.11256419233129784, 0.12671439338016804], [0.0, 0.09159469165568528, 0.06847776644927947, 0.07165112234158758, 0.06690540638536815, 0.1216112498971379, 0.1259497551137731, 0.20297023288601893, 0.11441125216350487, 0.13642852453505605], [0.0, 0.09013442843208684, 0.07194011997152754, 0.06959204884382889, 0.06638338201065877, 0.11739884091248402, 0.1344313738192991, 0.2025337373273921, 0.11622668992333833, 0.13135938159439964], [0.0, 0.09631627084340438, 0.06708503201193683, 0.06582754812950452, 0.06610515132699632, 0.11472920703768516, 0.12779870657824408, 0.21017791045191525, 0.12281988825634389, 0.12914028733500044], [0.0, 0.1012443761750709, 0.0656893112270394, 0.06865351510865528, 0.06546855087547501, 0.11698474365542204, 0.12922688648860012, 0.20091960090959207, 0.11874573954983125, 0.13306727879673433], [0.0, 0.10029859769837343, 0.06663933997008428, 0.06406036111100108, 0.06539251092905744, 0.1210566127871036, 0.1339365272918595, 0.20000532438576513, 0.1181510399672655, 0.1304596883240701], [0.0, 0.09727539545755504, 0.06530817447410228, 0.06489089891228049, 0.06912932918652104, 0.12407440537366343, 0.12961028828349283, 0.20285670077693513, 0.11725303363451753, 0.12960177661362957]], \"type\": \"heatmap\", \"colorscale\": \"Viridis\"}], {\"width\": 500, \"height\": 500, \"xaxis\": {\"title\": \"Predicted Class\", \"dtick\": 1, \"range\": [0.5, 9.5]}, \"title\": \"Confidence after 0 Iterations at Glimpse 0\", \"yaxis\": {\"title\": \"True Class\", \"dtick\": 1, \"range\": [9.5, 0.5]}}, {\"linkText\": \"Export to plot.ly\", \"showLink\": true})});</script>"
      ],
      "text/vnd.plotly.v1+html": [
       "<div id=\"82dd4366-c336-4de7-9365-e2cdd98e349e\" style=\"height: 500px; width: 500px;\" class=\"plotly-graph-div\"></div><script type=\"text/javascript\">require([\"plotly\"], function(Plotly) { window.PLOTLYENV=window.PLOTLYENV || {};window.PLOTLYENV.BASE_URL=\"https://plot.ly\";Plotly.newPlot(\"82dd4366-c336-4de7-9365-e2cdd98e349e\", [{\"z\": [[0.0, 0.0, 0.0, 0.0, 0.0, 0.0, 0.0, 0.0, 0.0, 0.0], [0.0, 0.10150635509662136, 0.08196793400397726, 0.08511231309840302, 0.0792828354725624, 0.11775554368209155, 0.1229119720493594, 0.17465269026269525, 0.11517583562225457, 0.12163452280187292], [0.0, 0.09638603062259969, 0.07260101527359744, 0.07556583628087529, 0.07314986341983631, 0.1148200681916561, 0.12699065135471937, 0.19867194323190218, 0.11238407415266208, 0.12943051883079598], [0.0, 0.09392270504332301, 0.07290175939274424, 0.07413194942697288, 0.06868484008464307, 0.11752105404179065, 0.1275824993341223, 0.20597661031431755, 0.11256419233129784, 0.12671439338016804], [0.0, 0.09159469165568528, 0.06847776644927947, 0.07165112234158758, 0.06690540638536815, 0.1216112498971379, 0.1259497551137731, 0.20297023288601893, 0.11441125216350487, 0.13642852453505605], [0.0, 0.09013442843208684, 0.07194011997152754, 0.06959204884382889, 0.06638338201065877, 0.11739884091248402, 0.1344313738192991, 0.2025337373273921, 0.11622668992333833, 0.13135938159439964], [0.0, 0.09631627084340438, 0.06708503201193683, 0.06582754812950452, 0.06610515132699632, 0.11472920703768516, 0.12779870657824408, 0.21017791045191525, 0.12281988825634389, 0.12914028733500044], [0.0, 0.1012443761750709, 0.0656893112270394, 0.06865351510865528, 0.06546855087547501, 0.11698474365542204, 0.12922688648860012, 0.20091960090959207, 0.11874573954983125, 0.13306727879673433], [0.0, 0.10029859769837343, 0.06663933997008428, 0.06406036111100108, 0.06539251092905744, 0.1210566127871036, 0.1339365272918595, 0.20000532438576513, 0.1181510399672655, 0.1304596883240701], [0.0, 0.09727539545755504, 0.06530817447410228, 0.06489089891228049, 0.06912932918652104, 0.12407440537366343, 0.12961028828349283, 0.20285670077693513, 0.11725303363451753, 0.12960177661362957]], \"type\": \"heatmap\", \"colorscale\": \"Viridis\"}], {\"width\": 500, \"height\": 500, \"xaxis\": {\"title\": \"Predicted Class\", \"dtick\": 1, \"range\": [0.5, 9.5]}, \"title\": \"Confidence after 0 Iterations at Glimpse 0\", \"yaxis\": {\"title\": \"True Class\", \"dtick\": 1, \"range\": [9.5, 0.5]}}, {\"linkText\": \"Export to plot.ly\", \"showLink\": true})});</script>"
      ]
     },
     "metadata": {},
     "output_type": "display_data"
    },
    {
     "data": {
      "application/vnd.plotly.v1+json": {
       "data": [
        {
         "colorscale": "Viridis",
         "type": "heatmap",
         "z": [
          [
           0,
           0,
           0,
           0,
           0,
           0,
           0,
           0,
           0,
           0
          ],
          [
           0,
           0.09780000000000001,
           0.07150000000000002,
           0.0688,
           0.0727,
           0.10839999999999998,
           0.13199999999999998,
           0.21109999999999998,
           0.1044,
           0.13329999999999997
          ],
          [
           0,
           0.09480000000000002,
           0.06470000000000001,
           0.0686,
           0.0691,
           0.1117,
           0.12940000000000002,
           0.2137,
           0.1109,
           0.13709999999999997
          ],
          [
           0,
           0.09410000000000002,
           0.0695,
           0.0726,
           0.0677,
           0.11490000000000003,
           0.12800000000000003,
           0.21139999999999998,
           0.1099,
           0.13189999999999996
          ],
          [
           0,
           0.09040000000000001,
           0.0668,
           0.0717,
           0.0671,
           0.1202,
           0.1258,
           0.2028,
           0.1155,
           0.1397
          ],
          [
           0,
           0.09010000000000003,
           0.07160000000000001,
           0.0697,
           0.0663,
           0.11679999999999997,
           0.1346,
           0.2023,
           0.11630000000000003,
           0.13229999999999997
          ],
          [
           0,
           0.09660000000000002,
           0.0664,
           0.06570000000000001,
           0.06559999999999999,
           0.1142,
           0.12800000000000003,
           0.2112,
           0.12260000000000001,
           0.12969999999999998
          ],
          [
           0,
           0.1012,
           0.0658,
           0.0683,
           0.0656,
           0.11599999999999999,
           0.1275,
           0.2017,
           0.12080000000000002,
           0.1331
          ],
          [
           0,
           0.10100000000000002,
           0.0661,
           0.06420000000000001,
           0.0655,
           0.1207,
           0.1336,
           0.19980000000000003,
           0.1182,
           0.13089999999999996
          ],
          [
           0,
           0.09690000000000001,
           0.06490000000000001,
           0.0661,
           0.06910000000000001,
           0.12409999999999999,
           0.1285,
           0.2024,
           0.11750000000000001,
           0.13049999999999998
          ]
         ]
        }
       ],
       "layout": {
        "height": 500,
        "title": "Choice after 0 Iterations at Glimpse 0",
        "width": 500,
        "xaxis": {
         "dtick": 1,
         "range": [
          0.5,
          9.5
         ],
         "title": "Predicted Class"
        },
        "yaxis": {
         "dtick": 1,
         "range": [
          9.5,
          0.5
         ],
         "title": "True Class"
        }
       }
      },
      "text/html": [
       "<div id=\"9af5838d-3a68-458b-9ee7-c7e06f365f8e\" style=\"height: 500px; width: 500px;\" class=\"plotly-graph-div\"></div><script type=\"text/javascript\">require([\"plotly\"], function(Plotly) { window.PLOTLYENV=window.PLOTLYENV || {};window.PLOTLYENV.BASE_URL=\"https://plot.ly\";Plotly.newPlot(\"9af5838d-3a68-458b-9ee7-c7e06f365f8e\", [{\"z\": [[0.0, 0.0, 0.0, 0.0, 0.0, 0.0, 0.0, 0.0, 0.0, 0.0], [0.0, 0.09780000000000001, 0.07150000000000002, 0.0688, 0.0727, 0.10839999999999998, 0.13199999999999998, 0.21109999999999998, 0.1044, 0.13329999999999997], [0.0, 0.09480000000000002, 0.06470000000000001, 0.0686, 0.0691, 0.1117, 0.12940000000000002, 0.2137, 0.1109, 0.13709999999999997], [0.0, 0.09410000000000002, 0.0695, 0.0726, 0.0677, 0.11490000000000003, 0.12800000000000003, 0.21139999999999998, 0.1099, 0.13189999999999996], [0.0, 0.09040000000000001, 0.0668, 0.0717, 0.0671, 0.1202, 0.1258, 0.2028, 0.1155, 0.1397], [0.0, 0.09010000000000003, 0.07160000000000001, 0.0697, 0.0663, 0.11679999999999997, 0.1346, 0.2023, 0.11630000000000003, 0.13229999999999997], [0.0, 0.09660000000000002, 0.0664, 0.06570000000000001, 0.06559999999999999, 0.1142, 0.12800000000000003, 0.2112, 0.12260000000000001, 0.12969999999999998], [0.0, 0.1012, 0.0658, 0.0683, 0.0656, 0.11599999999999999, 0.1275, 0.2017, 0.12080000000000002, 0.1331], [0.0, 0.10100000000000002, 0.0661, 0.06420000000000001, 0.0655, 0.1207, 0.1336, 0.19980000000000003, 0.1182, 0.13089999999999996], [0.0, 0.09690000000000001, 0.06490000000000001, 0.0661, 0.06910000000000001, 0.12409999999999999, 0.1285, 0.2024, 0.11750000000000001, 0.13049999999999998]], \"type\": \"heatmap\", \"colorscale\": \"Viridis\"}], {\"width\": 500, \"height\": 500, \"xaxis\": {\"title\": \"Predicted Class\", \"dtick\": 1, \"range\": [0.5, 9.5]}, \"title\": \"Choice after 0 Iterations at Glimpse 0\", \"yaxis\": {\"title\": \"True Class\", \"dtick\": 1, \"range\": [9.5, 0.5]}}, {\"linkText\": \"Export to plot.ly\", \"showLink\": true})});</script>"
      ],
      "text/vnd.plotly.v1+html": [
       "<div id=\"9af5838d-3a68-458b-9ee7-c7e06f365f8e\" style=\"height: 500px; width: 500px;\" class=\"plotly-graph-div\"></div><script type=\"text/javascript\">require([\"plotly\"], function(Plotly) { window.PLOTLYENV=window.PLOTLYENV || {};window.PLOTLYENV.BASE_URL=\"https://plot.ly\";Plotly.newPlot(\"9af5838d-3a68-458b-9ee7-c7e06f365f8e\", [{\"z\": [[0.0, 0.0, 0.0, 0.0, 0.0, 0.0, 0.0, 0.0, 0.0, 0.0], [0.0, 0.09780000000000001, 0.07150000000000002, 0.0688, 0.0727, 0.10839999999999998, 0.13199999999999998, 0.21109999999999998, 0.1044, 0.13329999999999997], [0.0, 0.09480000000000002, 0.06470000000000001, 0.0686, 0.0691, 0.1117, 0.12940000000000002, 0.2137, 0.1109, 0.13709999999999997], [0.0, 0.09410000000000002, 0.0695, 0.0726, 0.0677, 0.11490000000000003, 0.12800000000000003, 0.21139999999999998, 0.1099, 0.13189999999999996], [0.0, 0.09040000000000001, 0.0668, 0.0717, 0.0671, 0.1202, 0.1258, 0.2028, 0.1155, 0.1397], [0.0, 0.09010000000000003, 0.07160000000000001, 0.0697, 0.0663, 0.11679999999999997, 0.1346, 0.2023, 0.11630000000000003, 0.13229999999999997], [0.0, 0.09660000000000002, 0.0664, 0.06570000000000001, 0.06559999999999999, 0.1142, 0.12800000000000003, 0.2112, 0.12260000000000001, 0.12969999999999998], [0.0, 0.1012, 0.0658, 0.0683, 0.0656, 0.11599999999999999, 0.1275, 0.2017, 0.12080000000000002, 0.1331], [0.0, 0.10100000000000002, 0.0661, 0.06420000000000001, 0.0655, 0.1207, 0.1336, 0.19980000000000003, 0.1182, 0.13089999999999996], [0.0, 0.09690000000000001, 0.06490000000000001, 0.0661, 0.06910000000000001, 0.12409999999999999, 0.1285, 0.2024, 0.11750000000000001, 0.13049999999999998]], \"type\": \"heatmap\", \"colorscale\": \"Viridis\"}], {\"width\": 500, \"height\": 500, \"xaxis\": {\"title\": \"Predicted Class\", \"dtick\": 1, \"range\": [0.5, 9.5]}, \"title\": \"Choice after 0 Iterations at Glimpse 0\", \"yaxis\": {\"title\": \"True Class\", \"dtick\": 1, \"range\": [9.5, 0.5]}}, {\"linkText\": \"Export to plot.ly\", \"showLink\": true})});</script>"
      ]
     },
     "metadata": {},
     "output_type": "display_data"
    },
    {
     "data": {
      "application/vnd.plotly.v1+json": {
       "data": [
        {
         "colorscale": "Viridis",
         "type": "heatmap",
         "z": [
          [
           0,
           0,
           0,
           0,
           0,
           0,
           0,
           0,
           0,
           0
          ],
          [
           0,
           0.10021518978330972,
           0.07696247905437108,
           0.07845904627976344,
           0.07084009167586486,
           0.10824276019519241,
           0.127162183582574,
           0.19450968963147108,
           0.11188909466919887,
           0.13171946728808961
          ],
          [
           0,
           0.09064902034598583,
           0.06891910343178173,
           0.08338266549947611,
           0.065215131314026,
           0.10363281277509942,
           0.13434313168149323,
           0.21734618189476876,
           0.10156600748588704,
           0.13494594827604484
          ],
          [
           0,
           0.09412709409816714,
           0.06496840418871697,
           0.07810800711972835,
           0.0651712095547781,
           0.10912564885018727,
           0.13336818020154398,
           0.2168146455670099,
           0.10536022096908985,
           0.13295659177069546
          ],
          [
           0,
           0.08933984215497273,
           0.06546368667011634,
           0.07585567200761255,
           0.06372160334693283,
           0.11332644411699169,
           0.13490468923050508,
           0.21827697303576205,
           0.10490142805243755,
           0.13420966302321333
          ],
          [
           0,
           0.09719015475983885,
           0.06898671501942007,
           0.07446301259687643,
           0.06776736136417807,
           0.10558626290582526,
           0.1330793684291211,
           0.2141867502785114,
           0.1084835145717938,
           0.13025686220494193
          ],
          [
           0,
           0.09797322637491643,
           0.061457672804630346,
           0.07873473021442555,
           0.06586074968004621,
           0.10993418291115517,
           0.13773195513283526,
           0.21205865677935498,
           0.10869914099670228,
           0.12754968709597259
          ],
          [
           0,
           0.10182761312980806,
           0.06131392315289471,
           0.07219694708843764,
           0.06746037248430523,
           0.11233551188896622,
           0.12484198196762004,
           0.22093822886236794,
           0.10966361065130333,
           0.12942181294403962
          ],
          [
           0,
           0.10129957576230353,
           0.060997367968947724,
           0.07561223003555682,
           0.06912006660791958,
           0.10855989547581728,
           0.133555354408258,
           0.21315815408172173,
           0.11177032719532749,
           0.1259270299259491
          ],
          [
           0,
           0.10396924557311045,
           0.05932485979654798,
           0.0719590841518134,
           0.07247656162465468,
           0.1110719272814867,
           0.13289685058753997,
           0.21222147002227412,
           0.10805524587305611,
           0.1280247566271063
          ]
         ]
        }
       ],
       "layout": {
        "height": 500,
        "title": "Confidence after 0 Iterations at Glimpse 3",
        "width": 500,
        "xaxis": {
         "dtick": 1,
         "range": [
          0.5,
          9.5
         ],
         "title": "Predicted Class"
        },
        "yaxis": {
         "dtick": 1,
         "range": [
          9.5,
          0.5
         ],
         "title": "True Class"
        }
       }
      },
      "text/html": [
       "<div id=\"de4c7f06-e835-4320-a9e1-3342610e6f1f\" style=\"height: 500px; width: 500px;\" class=\"plotly-graph-div\"></div><script type=\"text/javascript\">require([\"plotly\"], function(Plotly) { window.PLOTLYENV=window.PLOTLYENV || {};window.PLOTLYENV.BASE_URL=\"https://plot.ly\";Plotly.newPlot(\"de4c7f06-e835-4320-a9e1-3342610e6f1f\", [{\"z\": [[0.0, 0.0, 0.0, 0.0, 0.0, 0.0, 0.0, 0.0, 0.0, 0.0], [0.0, 0.10021518978330972, 0.07696247905437108, 0.07845904627976344, 0.07084009167586486, 0.10824276019519241, 0.127162183582574, 0.19450968963147108, 0.11188909466919887, 0.13171946728808961], [0.0, 0.09064902034598583, 0.06891910343178173, 0.08338266549947611, 0.065215131314026, 0.10363281277509942, 0.13434313168149323, 0.21734618189476876, 0.10156600748588704, 0.13494594827604484], [0.0, 0.09412709409816714, 0.06496840418871697, 0.07810800711972835, 0.0651712095547781, 0.10912564885018727, 0.13336818020154398, 0.2168146455670099, 0.10536022096908985, 0.13295659177069546], [0.0, 0.08933984215497273, 0.06546368667011634, 0.07585567200761255, 0.06372160334693283, 0.11332644411699169, 0.13490468923050508, 0.21827697303576205, 0.10490142805243755, 0.13420966302321333], [0.0, 0.09719015475983885, 0.06898671501942007, 0.07446301259687643, 0.06776736136417807, 0.10558626290582526, 0.1330793684291211, 0.2141867502785114, 0.1084835145717938, 0.13025686220494193], [0.0, 0.09797322637491643, 0.061457672804630346, 0.07873473021442555, 0.06586074968004621, 0.10993418291115517, 0.13773195513283526, 0.21205865677935498, 0.10869914099670228, 0.12754968709597259], [0.0, 0.10182761312980806, 0.06131392315289471, 0.07219694708843764, 0.06746037248430523, 0.11233551188896622, 0.12484198196762004, 0.22093822886236794, 0.10966361065130333, 0.12942181294403962], [0.0, 0.10129957576230353, 0.060997367968947724, 0.07561223003555682, 0.06912006660791958, 0.10855989547581728, 0.133555354408258, 0.21315815408172173, 0.11177032719532749, 0.1259270299259491], [0.0, 0.10396924557311045, 0.05932485979654798, 0.0719590841518134, 0.07247656162465468, 0.1110719272814867, 0.13289685058753997, 0.21222147002227412, 0.10805524587305611, 0.1280247566271063]], \"type\": \"heatmap\", \"colorscale\": \"Viridis\"}], {\"width\": 500, \"height\": 500, \"xaxis\": {\"title\": \"Predicted Class\", \"dtick\": 1, \"range\": [0.5, 9.5]}, \"title\": \"Confidence after 0 Iterations at Glimpse 3\", \"yaxis\": {\"title\": \"True Class\", \"dtick\": 1, \"range\": [9.5, 0.5]}}, {\"linkText\": \"Export to plot.ly\", \"showLink\": true})});</script>"
      ],
      "text/vnd.plotly.v1+html": [
       "<div id=\"de4c7f06-e835-4320-a9e1-3342610e6f1f\" style=\"height: 500px; width: 500px;\" class=\"plotly-graph-div\"></div><script type=\"text/javascript\">require([\"plotly\"], function(Plotly) { window.PLOTLYENV=window.PLOTLYENV || {};window.PLOTLYENV.BASE_URL=\"https://plot.ly\";Plotly.newPlot(\"de4c7f06-e835-4320-a9e1-3342610e6f1f\", [{\"z\": [[0.0, 0.0, 0.0, 0.0, 0.0, 0.0, 0.0, 0.0, 0.0, 0.0], [0.0, 0.10021518978330972, 0.07696247905437108, 0.07845904627976344, 0.07084009167586486, 0.10824276019519241, 0.127162183582574, 0.19450968963147108, 0.11188909466919887, 0.13171946728808961], [0.0, 0.09064902034598583, 0.06891910343178173, 0.08338266549947611, 0.065215131314026, 0.10363281277509942, 0.13434313168149323, 0.21734618189476876, 0.10156600748588704, 0.13494594827604484], [0.0, 0.09412709409816714, 0.06496840418871697, 0.07810800711972835, 0.0651712095547781, 0.10912564885018727, 0.13336818020154398, 0.2168146455670099, 0.10536022096908985, 0.13295659177069546], [0.0, 0.08933984215497273, 0.06546368667011634, 0.07585567200761255, 0.06372160334693283, 0.11332644411699169, 0.13490468923050508, 0.21827697303576205, 0.10490142805243755, 0.13420966302321333], [0.0, 0.09719015475983885, 0.06898671501942007, 0.07446301259687643, 0.06776736136417807, 0.10558626290582526, 0.1330793684291211, 0.2141867502785114, 0.1084835145717938, 0.13025686220494193], [0.0, 0.09797322637491643, 0.061457672804630346, 0.07873473021442555, 0.06586074968004621, 0.10993418291115517, 0.13773195513283526, 0.21205865677935498, 0.10869914099670228, 0.12754968709597259], [0.0, 0.10182761312980806, 0.06131392315289471, 0.07219694708843764, 0.06746037248430523, 0.11233551188896622, 0.12484198196762004, 0.22093822886236794, 0.10966361065130333, 0.12942181294403962], [0.0, 0.10129957576230353, 0.060997367968947724, 0.07561223003555682, 0.06912006660791958, 0.10855989547581728, 0.133555354408258, 0.21315815408172173, 0.11177032719532749, 0.1259270299259491], [0.0, 0.10396924557311045, 0.05932485979654798, 0.0719590841518134, 0.07247656162465468, 0.1110719272814867, 0.13289685058753997, 0.21222147002227412, 0.10805524587305611, 0.1280247566271063]], \"type\": \"heatmap\", \"colorscale\": \"Viridis\"}], {\"width\": 500, \"height\": 500, \"xaxis\": {\"title\": \"Predicted Class\", \"dtick\": 1, \"range\": [0.5, 9.5]}, \"title\": \"Confidence after 0 Iterations at Glimpse 3\", \"yaxis\": {\"title\": \"True Class\", \"dtick\": 1, \"range\": [9.5, 0.5]}}, {\"linkText\": \"Export to plot.ly\", \"showLink\": true})});</script>"
      ]
     },
     "metadata": {},
     "output_type": "display_data"
    },
    {
     "data": {
      "application/vnd.plotly.v1+json": {
       "data": [
        {
         "colorscale": "Viridis",
         "type": "heatmap",
         "z": [
          [
           0,
           0,
           0,
           0,
           0,
           0,
           0,
           0,
           0,
           0
          ],
          [
           0,
           0.0967,
           0.07540000000000001,
           0.06939999999999999,
           0.06420000000000001,
           0.10590000000000002,
           0.1298,
           0.21190000000000003,
           0.1072,
           0.1395
          ],
          [
           0,
           0.0895,
           0.0679,
           0.0822,
           0.0636,
           0.1028,
           0.13619999999999996,
           0.221,
           0.09950000000000002,
           0.1373
          ],
          [
           0,
           0.09290000000000001,
           0.0644,
           0.078,
           0.0651,
           0.10830000000000002,
           0.1329,
           0.2193,
           0.1052,
           0.1339
          ],
          [
           0,
           0.08920000000000002,
           0.0656,
           0.0764,
           0.0634,
           0.11290000000000003,
           0.135,
           0.21820000000000003,
           0.1044,
           0.1349
          ],
          [
           0,
           0.0977,
           0.0688,
           0.07460000000000001,
           0.0675,
           0.10550000000000001,
           0.133,
           0.21349999999999997,
           0.10870000000000002,
           0.1307
          ],
          [
           0,
           0.0982,
           0.06120000000000001,
           0.0789,
           0.0658,
           0.1095,
           0.1386,
           0.21259999999999998,
           0.1078,
           0.1274
          ],
          [
           0,
           0.1016,
           0.06130000000000001,
           0.07189999999999999,
           0.06760000000000001,
           0.11159999999999999,
           0.12510000000000002,
           0.22159999999999996,
           0.10980000000000001,
           0.1295
          ],
          [
           0,
           0.1021,
           0.061,
           0.076,
           0.06870000000000001,
           0.1081,
           0.1338,
           0.21259999999999998,
           0.1119,
           0.1258
          ],
          [
           0,
           0.10390000000000002,
           0.05960000000000002,
           0.0714,
           0.0718,
           0.11080000000000001,
           0.13269999999999998,
           0.21269999999999997,
           0.1086,
           0.1285
          ]
         ]
        }
       ],
       "layout": {
        "height": 500,
        "title": "Choice after 0 Iterations at Glimpse 3",
        "width": 500,
        "xaxis": {
         "dtick": 1,
         "range": [
          0.5,
          9.5
         ],
         "title": "Predicted Class"
        },
        "yaxis": {
         "dtick": 1,
         "range": [
          9.5,
          0.5
         ],
         "title": "True Class"
        }
       }
      },
      "text/html": [
       "<div id=\"6040d530-394c-4e4a-a8cc-fc2cc3fc10da\" style=\"height: 500px; width: 500px;\" class=\"plotly-graph-div\"></div><script type=\"text/javascript\">require([\"plotly\"], function(Plotly) { window.PLOTLYENV=window.PLOTLYENV || {};window.PLOTLYENV.BASE_URL=\"https://plot.ly\";Plotly.newPlot(\"6040d530-394c-4e4a-a8cc-fc2cc3fc10da\", [{\"z\": [[0.0, 0.0, 0.0, 0.0, 0.0, 0.0, 0.0, 0.0, 0.0, 0.0], [0.0, 0.0967, 0.07540000000000001, 0.06939999999999999, 0.06420000000000001, 0.10590000000000002, 0.1298, 0.21190000000000003, 0.1072, 0.1395], [0.0, 0.0895, 0.0679, 0.0822, 0.0636, 0.1028, 0.13619999999999996, 0.221, 0.09950000000000002, 0.1373], [0.0, 0.09290000000000001, 0.0644, 0.078, 0.0651, 0.10830000000000002, 0.1329, 0.2193, 0.1052, 0.1339], [0.0, 0.08920000000000002, 0.0656, 0.0764, 0.0634, 0.11290000000000003, 0.135, 0.21820000000000003, 0.1044, 0.1349], [0.0, 0.0977, 0.0688, 0.07460000000000001, 0.0675, 0.10550000000000001, 0.133, 0.21349999999999997, 0.10870000000000002, 0.1307], [0.0, 0.0982, 0.06120000000000001, 0.0789, 0.0658, 0.1095, 0.1386, 0.21259999999999998, 0.1078, 0.1274], [0.0, 0.1016, 0.06130000000000001, 0.07189999999999999, 0.06760000000000001, 0.11159999999999999, 0.12510000000000002, 0.22159999999999996, 0.10980000000000001, 0.1295], [0.0, 0.1021, 0.061, 0.076, 0.06870000000000001, 0.1081, 0.1338, 0.21259999999999998, 0.1119, 0.1258], [0.0, 0.10390000000000002, 0.05960000000000002, 0.0714, 0.0718, 0.11080000000000001, 0.13269999999999998, 0.21269999999999997, 0.1086, 0.1285]], \"type\": \"heatmap\", \"colorscale\": \"Viridis\"}], {\"width\": 500, \"height\": 500, \"xaxis\": {\"title\": \"Predicted Class\", \"dtick\": 1, \"range\": [0.5, 9.5]}, \"title\": \"Choice after 0 Iterations at Glimpse 3\", \"yaxis\": {\"title\": \"True Class\", \"dtick\": 1, \"range\": [9.5, 0.5]}}, {\"linkText\": \"Export to plot.ly\", \"showLink\": true})});</script>"
      ],
      "text/vnd.plotly.v1+html": [
       "<div id=\"6040d530-394c-4e4a-a8cc-fc2cc3fc10da\" style=\"height: 500px; width: 500px;\" class=\"plotly-graph-div\"></div><script type=\"text/javascript\">require([\"plotly\"], function(Plotly) { window.PLOTLYENV=window.PLOTLYENV || {};window.PLOTLYENV.BASE_URL=\"https://plot.ly\";Plotly.newPlot(\"6040d530-394c-4e4a-a8cc-fc2cc3fc10da\", [{\"z\": [[0.0, 0.0, 0.0, 0.0, 0.0, 0.0, 0.0, 0.0, 0.0, 0.0], [0.0, 0.0967, 0.07540000000000001, 0.06939999999999999, 0.06420000000000001, 0.10590000000000002, 0.1298, 0.21190000000000003, 0.1072, 0.1395], [0.0, 0.0895, 0.0679, 0.0822, 0.0636, 0.1028, 0.13619999999999996, 0.221, 0.09950000000000002, 0.1373], [0.0, 0.09290000000000001, 0.0644, 0.078, 0.0651, 0.10830000000000002, 0.1329, 0.2193, 0.1052, 0.1339], [0.0, 0.08920000000000002, 0.0656, 0.0764, 0.0634, 0.11290000000000003, 0.135, 0.21820000000000003, 0.1044, 0.1349], [0.0, 0.0977, 0.0688, 0.07460000000000001, 0.0675, 0.10550000000000001, 0.133, 0.21349999999999997, 0.10870000000000002, 0.1307], [0.0, 0.0982, 0.06120000000000001, 0.0789, 0.0658, 0.1095, 0.1386, 0.21259999999999998, 0.1078, 0.1274], [0.0, 0.1016, 0.06130000000000001, 0.07189999999999999, 0.06760000000000001, 0.11159999999999999, 0.12510000000000002, 0.22159999999999996, 0.10980000000000001, 0.1295], [0.0, 0.1021, 0.061, 0.076, 0.06870000000000001, 0.1081, 0.1338, 0.21259999999999998, 0.1119, 0.1258], [0.0, 0.10390000000000002, 0.05960000000000002, 0.0714, 0.0718, 0.11080000000000001, 0.13269999999999998, 0.21269999999999997, 0.1086, 0.1285]], \"type\": \"heatmap\", \"colorscale\": \"Viridis\"}], {\"width\": 500, \"height\": 500, \"xaxis\": {\"title\": \"Predicted Class\", \"dtick\": 1, \"range\": [0.5, 9.5]}, \"title\": \"Choice after 0 Iterations at Glimpse 3\", \"yaxis\": {\"title\": \"True Class\", \"dtick\": 1, \"range\": [9.5, 0.5]}}, {\"linkText\": \"Export to plot.ly\", \"showLink\": true})});</script>"
      ]
     },
     "metadata": {},
     "output_type": "display_data"
    },
    {
     "data": {
      "application/vnd.plotly.v1+json": {
       "data": [
        {
         "colorscale": "Viridis",
         "type": "heatmap",
         "z": [
          [
           0,
           0,
           0,
           0,
           0,
           0,
           0,
           0,
           0,
           0
          ],
          [
           0,
           0.103787579557675,
           0.07984286686168078,
           0.08277441026152568,
           0.08466232778143208,
           0.10644866080415818,
           0.11789397566104116,
           0.19415636565151576,
           0.10200747644863559,
           0.12842633826813765
          ],
          [
           0,
           0.10449513851017711,
           0.07241355879358437,
           0.08172033123735951,
           0.08061572942789814,
           0.09863536749841906,
           0.12645199435819976,
           0.20963002862118593,
           0.10068880882098427,
           0.12534904485031723
          ],
          [
           0,
           0.10403467579576939,
           0.07054303196657631,
           0.07818962429070132,
           0.08309399289443425,
           0.10120612418548473,
           0.12411180977324077,
           0.20658233757666125,
           0.10674238747463693,
           0.12549601788683284
          ],
          [
           0,
           0.1046387395927062,
           0.06631942655762892,
           0.07313661261970218,
           0.08249238931356562,
           0.10059513849335762,
           0.122645811977702,
           0.2119406976517147,
           0.10926515378482418,
           0.12896603151894187
          ],
          [
           0,
           0.10637264034663481,
           0.06917375723923583,
           0.07546407695528948,
           0.08633041360389368,
           0.09790503810596357,
           0.12535201439038948,
           0.20982769232972812,
           0.10815328924747847,
           0.12142108007196784
          ],
          [
           0,
           0.11266976559232533,
           0.06782585895823917,
           0.07228033778445216,
           0.08365640966045475,
           0.10586600826742017,
           0.1263631083095212,
           0.19867002585068866,
           0.1108072836662932,
           0.12186120402641283
          ],
          [
           0,
           0.11116491078061289,
           0.06384448098331566,
           0.07005180115732451,
           0.08110457842233042,
           0.09975219407784106,
           0.11951244590929952,
           0.2130967061167383,
           0.11889196819107713,
           0.12258091630286208
          ],
          [
           0,
           0.10880678702674329,
           0.062430382380218155,
           0.06864973219989305,
           0.08989577316368633,
           0.09822196342705938,
           0.1273112305206737,
           0.206074724414501,
           0.11565276321461607,
           0.1229566457773698
          ],
          [
           0,
           0.10892366348638143,
           0.06607446502141355,
           0.07379861402603188,
           0.08546541729090394,
           0.09971428807590665,
           0.12261430954710624,
           0.20340782029172216,
           0.11632887799760153,
           0.12367254618114018
          ]
         ]
        }
       ],
       "layout": {
        "height": 500,
        "title": "Confidence after 0 Iterations at Glimpse 9",
        "width": 500,
        "xaxis": {
         "dtick": 1,
         "range": [
          0.5,
          9.5
         ],
         "title": "Predicted Class"
        },
        "yaxis": {
         "dtick": 1,
         "range": [
          9.5,
          0.5
         ],
         "title": "True Class"
        }
       }
      },
      "text/html": [
       "<div id=\"f02a725e-0a80-4cfa-b8d4-2a36b1c8d017\" style=\"height: 500px; width: 500px;\" class=\"plotly-graph-div\"></div><script type=\"text/javascript\">require([\"plotly\"], function(Plotly) { window.PLOTLYENV=window.PLOTLYENV || {};window.PLOTLYENV.BASE_URL=\"https://plot.ly\";Plotly.newPlot(\"f02a725e-0a80-4cfa-b8d4-2a36b1c8d017\", [{\"z\": [[0.0, 0.0, 0.0, 0.0, 0.0, 0.0, 0.0, 0.0, 0.0, 0.0], [0.0, 0.103787579557675, 0.07984286686168078, 0.08277441026152568, 0.08466232778143208, 0.10644866080415818, 0.11789397566104116, 0.19415636565151576, 0.10200747644863559, 0.12842633826813765], [0.0, 0.10449513851017711, 0.07241355879358437, 0.08172033123735951, 0.08061572942789814, 0.09863536749841906, 0.12645199435819976, 0.20963002862118593, 0.10068880882098427, 0.12534904485031723], [0.0, 0.10403467579576939, 0.07054303196657631, 0.07818962429070132, 0.08309399289443425, 0.10120612418548473, 0.12411180977324077, 0.20658233757666125, 0.10674238747463693, 0.12549601788683284], [0.0, 0.1046387395927062, 0.06631942655762892, 0.07313661261970218, 0.08249238931356562, 0.10059513849335762, 0.122645811977702, 0.2119406976517147, 0.10926515378482418, 0.12896603151894187], [0.0, 0.10637264034663481, 0.06917375723923583, 0.07546407695528948, 0.08633041360389368, 0.09790503810596357, 0.12535201439038948, 0.20982769232972812, 0.10815328924747847, 0.12142108007196784], [0.0, 0.11266976559232533, 0.06782585895823917, 0.07228033778445216, 0.08365640966045475, 0.10586600826742017, 0.1263631083095212, 0.19867002585068866, 0.1108072836662932, 0.12186120402641283], [0.0, 0.11116491078061289, 0.06384448098331566, 0.07005180115732451, 0.08110457842233042, 0.09975219407784106, 0.11951244590929952, 0.2130967061167383, 0.11889196819107713, 0.12258091630286208], [0.0, 0.10880678702674329, 0.062430382380218155, 0.06864973219989305, 0.08989577316368633, 0.09822196342705938, 0.1273112305206737, 0.206074724414501, 0.11565276321461607, 0.1229566457773698], [0.0, 0.10892366348638143, 0.06607446502141355, 0.07379861402603188, 0.08546541729090394, 0.09971428807590665, 0.12261430954710624, 0.20340782029172216, 0.11632887799760153, 0.12367254618114018]], \"type\": \"heatmap\", \"colorscale\": \"Viridis\"}], {\"width\": 500, \"height\": 500, \"xaxis\": {\"title\": \"Predicted Class\", \"dtick\": 1, \"range\": [0.5, 9.5]}, \"title\": \"Confidence after 0 Iterations at Glimpse 9\", \"yaxis\": {\"title\": \"True Class\", \"dtick\": 1, \"range\": [9.5, 0.5]}}, {\"linkText\": \"Export to plot.ly\", \"showLink\": true})});</script>"
      ],
      "text/vnd.plotly.v1+html": [
       "<div id=\"f02a725e-0a80-4cfa-b8d4-2a36b1c8d017\" style=\"height: 500px; width: 500px;\" class=\"plotly-graph-div\"></div><script type=\"text/javascript\">require([\"plotly\"], function(Plotly) { window.PLOTLYENV=window.PLOTLYENV || {};window.PLOTLYENV.BASE_URL=\"https://plot.ly\";Plotly.newPlot(\"f02a725e-0a80-4cfa-b8d4-2a36b1c8d017\", [{\"z\": [[0.0, 0.0, 0.0, 0.0, 0.0, 0.0, 0.0, 0.0, 0.0, 0.0], [0.0, 0.103787579557675, 0.07984286686168078, 0.08277441026152568, 0.08466232778143208, 0.10644866080415818, 0.11789397566104116, 0.19415636565151576, 0.10200747644863559, 0.12842633826813765], [0.0, 0.10449513851017711, 0.07241355879358437, 0.08172033123735951, 0.08061572942789814, 0.09863536749841906, 0.12645199435819976, 0.20963002862118593, 0.10068880882098427, 0.12534904485031723], [0.0, 0.10403467579576939, 0.07054303196657631, 0.07818962429070132, 0.08309399289443425, 0.10120612418548473, 0.12411180977324077, 0.20658233757666125, 0.10674238747463693, 0.12549601788683284], [0.0, 0.1046387395927062, 0.06631942655762892, 0.07313661261970218, 0.08249238931356562, 0.10059513849335762, 0.122645811977702, 0.2119406976517147, 0.10926515378482418, 0.12896603151894187], [0.0, 0.10637264034663481, 0.06917375723923583, 0.07546407695528948, 0.08633041360389368, 0.09790503810596357, 0.12535201439038948, 0.20982769232972812, 0.10815328924747847, 0.12142108007196784], [0.0, 0.11266976559232533, 0.06782585895823917, 0.07228033778445216, 0.08365640966045475, 0.10586600826742017, 0.1263631083095212, 0.19867002585068866, 0.1108072836662932, 0.12186120402641283], [0.0, 0.11116491078061289, 0.06384448098331566, 0.07005180115732451, 0.08110457842233042, 0.09975219407784106, 0.11951244590929952, 0.2130967061167383, 0.11889196819107713, 0.12258091630286208], [0.0, 0.10880678702674329, 0.062430382380218155, 0.06864973219989305, 0.08989577316368633, 0.09822196342705938, 0.1273112305206737, 0.206074724414501, 0.11565276321461607, 0.1229566457773698], [0.0, 0.10892366348638143, 0.06607446502141355, 0.07379861402603188, 0.08546541729090394, 0.09971428807590665, 0.12261430954710624, 0.20340782029172216, 0.11632887799760153, 0.12367254618114018]], \"type\": \"heatmap\", \"colorscale\": \"Viridis\"}], {\"width\": 500, \"height\": 500, \"xaxis\": {\"title\": \"Predicted Class\", \"dtick\": 1, \"range\": [0.5, 9.5]}, \"title\": \"Confidence after 0 Iterations at Glimpse 9\", \"yaxis\": {\"title\": \"True Class\", \"dtick\": 1, \"range\": [9.5, 0.5]}}, {\"linkText\": \"Export to plot.ly\", \"showLink\": true})});</script>"
      ]
     },
     "metadata": {},
     "output_type": "display_data"
    },
    {
     "data": {
      "application/vnd.plotly.v1+json": {
       "data": [
        {
         "colorscale": "Viridis",
         "type": "heatmap",
         "z": [
          [
           0,
           0,
           0,
           0,
           0,
           0,
           0,
           0,
           0,
           0
          ],
          [
           0,
           0.10460000000000003,
           0.07880000000000001,
           0.07710000000000002,
           0.0811,
           0.10470000000000002,
           0.1222,
           0.2,
           0.09740000000000001,
           0.13410000000000002
          ],
          [
           0,
           0.10340000000000002,
           0.0724,
           0.0805,
           0.0809,
           0.0986,
           0.1271,
           0.21080000000000002,
           0.10060000000000002,
           0.1257
          ],
          [
           0,
           0.10350000000000001,
           0.07070000000000001,
           0.0782,
           0.083,
           0.10070000000000001,
           0.12449999999999999,
           0.2068,
           0.10700000000000001,
           0.1256
          ],
          [
           0,
           0.1036,
           0.0655,
           0.07370000000000002,
           0.0833,
           0.1014,
           0.12229999999999999,
           0.21200000000000002,
           0.1091,
           0.12910000000000002
          ],
          [
           0,
           0.10529999999999999,
           0.06970000000000001,
           0.076,
           0.0864,
           0.09820000000000001,
           0.12530000000000002,
           0.20950000000000002,
           0.1083,
           0.12129999999999999
          ],
          [
           0,
           0.1132,
           0.0669,
           0.07210000000000001,
           0.0837,
           0.1058,
           0.12720000000000004,
           0.19860000000000003,
           0.11090000000000003,
           0.1216
          ],
          [
           0,
           0.11070000000000002,
           0.06420000000000001,
           0.06970000000000001,
           0.08149999999999999,
           0.09960000000000001,
           0.1192,
           0.21280000000000002,
           0.11879999999999999,
           0.12350000000000001
          ],
          [
           0,
           0.10830000000000002,
           0.06230000000000001,
           0.06849999999999999,
           0.0901,
           0.09820000000000001,
           0.1275,
           0.20659999999999998,
           0.11600000000000002,
           0.12250000000000001
          ],
          [
           0,
           0.10890000000000002,
           0.0665,
           0.074,
           0.0848,
           0.0999,
           0.12200000000000003,
           0.20350000000000001,
           0.11700000000000002,
           0.1234
          ]
         ]
        }
       ],
       "layout": {
        "height": 500,
        "title": "Choice after 0 Iterations at Glimpse 9",
        "width": 500,
        "xaxis": {
         "dtick": 1,
         "range": [
          0.5,
          9.5
         ],
         "title": "Predicted Class"
        },
        "yaxis": {
         "dtick": 1,
         "range": [
          9.5,
          0.5
         ],
         "title": "True Class"
        }
       }
      },
      "text/html": [
       "<div id=\"4f56e02c-8758-4774-ba08-b7bf2561e651\" style=\"height: 500px; width: 500px;\" class=\"plotly-graph-div\"></div><script type=\"text/javascript\">require([\"plotly\"], function(Plotly) { window.PLOTLYENV=window.PLOTLYENV || {};window.PLOTLYENV.BASE_URL=\"https://plot.ly\";Plotly.newPlot(\"4f56e02c-8758-4774-ba08-b7bf2561e651\", [{\"z\": [[0.0, 0.0, 0.0, 0.0, 0.0, 0.0, 0.0, 0.0, 0.0, 0.0], [0.0, 0.10460000000000003, 0.07880000000000001, 0.07710000000000002, 0.0811, 0.10470000000000002, 0.1222, 0.2, 0.09740000000000001, 0.13410000000000002], [0.0, 0.10340000000000002, 0.0724, 0.0805, 0.0809, 0.0986, 0.1271, 0.21080000000000002, 0.10060000000000002, 0.1257], [0.0, 0.10350000000000001, 0.07070000000000001, 0.0782, 0.083, 0.10070000000000001, 0.12449999999999999, 0.2068, 0.10700000000000001, 0.1256], [0.0, 0.1036, 0.0655, 0.07370000000000002, 0.0833, 0.1014, 0.12229999999999999, 0.21200000000000002, 0.1091, 0.12910000000000002], [0.0, 0.10529999999999999, 0.06970000000000001, 0.076, 0.0864, 0.09820000000000001, 0.12530000000000002, 0.20950000000000002, 0.1083, 0.12129999999999999], [0.0, 0.1132, 0.0669, 0.07210000000000001, 0.0837, 0.1058, 0.12720000000000004, 0.19860000000000003, 0.11090000000000003, 0.1216], [0.0, 0.11070000000000002, 0.06420000000000001, 0.06970000000000001, 0.08149999999999999, 0.09960000000000001, 0.1192, 0.21280000000000002, 0.11879999999999999, 0.12350000000000001], [0.0, 0.10830000000000002, 0.06230000000000001, 0.06849999999999999, 0.0901, 0.09820000000000001, 0.1275, 0.20659999999999998, 0.11600000000000002, 0.12250000000000001], [0.0, 0.10890000000000002, 0.0665, 0.074, 0.0848, 0.0999, 0.12200000000000003, 0.20350000000000001, 0.11700000000000002, 0.1234]], \"type\": \"heatmap\", \"colorscale\": \"Viridis\"}], {\"width\": 500, \"height\": 500, \"xaxis\": {\"title\": \"Predicted Class\", \"dtick\": 1, \"range\": [0.5, 9.5]}, \"title\": \"Choice after 0 Iterations at Glimpse 9\", \"yaxis\": {\"title\": \"True Class\", \"dtick\": 1, \"range\": [9.5, 0.5]}}, {\"linkText\": \"Export to plot.ly\", \"showLink\": true})});</script>"
      ],
      "text/vnd.plotly.v1+html": [
       "<div id=\"4f56e02c-8758-4774-ba08-b7bf2561e651\" style=\"height: 500px; width: 500px;\" class=\"plotly-graph-div\"></div><script type=\"text/javascript\">require([\"plotly\"], function(Plotly) { window.PLOTLYENV=window.PLOTLYENV || {};window.PLOTLYENV.BASE_URL=\"https://plot.ly\";Plotly.newPlot(\"4f56e02c-8758-4774-ba08-b7bf2561e651\", [{\"z\": [[0.0, 0.0, 0.0, 0.0, 0.0, 0.0, 0.0, 0.0, 0.0, 0.0], [0.0, 0.10460000000000003, 0.07880000000000001, 0.07710000000000002, 0.0811, 0.10470000000000002, 0.1222, 0.2, 0.09740000000000001, 0.13410000000000002], [0.0, 0.10340000000000002, 0.0724, 0.0805, 0.0809, 0.0986, 0.1271, 0.21080000000000002, 0.10060000000000002, 0.1257], [0.0, 0.10350000000000001, 0.07070000000000001, 0.0782, 0.083, 0.10070000000000001, 0.12449999999999999, 0.2068, 0.10700000000000001, 0.1256], [0.0, 0.1036, 0.0655, 0.07370000000000002, 0.0833, 0.1014, 0.12229999999999999, 0.21200000000000002, 0.1091, 0.12910000000000002], [0.0, 0.10529999999999999, 0.06970000000000001, 0.076, 0.0864, 0.09820000000000001, 0.12530000000000002, 0.20950000000000002, 0.1083, 0.12129999999999999], [0.0, 0.1132, 0.0669, 0.07210000000000001, 0.0837, 0.1058, 0.12720000000000004, 0.19860000000000003, 0.11090000000000003, 0.1216], [0.0, 0.11070000000000002, 0.06420000000000001, 0.06970000000000001, 0.08149999999999999, 0.09960000000000001, 0.1192, 0.21280000000000002, 0.11879999999999999, 0.12350000000000001], [0.0, 0.10830000000000002, 0.06230000000000001, 0.06849999999999999, 0.0901, 0.09820000000000001, 0.1275, 0.20659999999999998, 0.11600000000000002, 0.12250000000000001], [0.0, 0.10890000000000002, 0.0665, 0.074, 0.0848, 0.0999, 0.12200000000000003, 0.20350000000000001, 0.11700000000000002, 0.1234]], \"type\": \"heatmap\", \"colorscale\": \"Viridis\"}], {\"width\": 500, \"height\": 500, \"xaxis\": {\"title\": \"Predicted Class\", \"dtick\": 1, \"range\": [0.5, 9.5]}, \"title\": \"Choice after 0 Iterations at Glimpse 9\", \"yaxis\": {\"title\": \"True Class\", \"dtick\": 1, \"range\": [9.5, 0.5]}}, {\"linkText\": \"Export to plot.ly\", \"showLink\": true})});</script>"
      ]
     },
     "metadata": {},
     "output_type": "display_data"
    },
    {
     "data": {
      "application/vnd.plotly.v1+json": {
       "data": [
        {
         "colorscale": "Viridis",
         "type": "heatmap",
         "z": [
          [
           0,
           0,
           0,
           0,
           0,
           0,
           0,
           0,
           0,
           0
          ],
          [
           0,
           0.11569833808729124,
           0.09017548112687175,
           0.0794728740137469,
           0.08015494876935489,
           0.1172788796236264,
           0.12100540347685314,
           0.16895397953570698,
           0.10746924435203058,
           0.11979085253101521
          ],
          [
           0,
           0.10397460878102298,
           0.0748717884924633,
           0.07332533136758093,
           0.07230975792610228,
           0.12100091873837775,
           0.12798166724043697,
           0.19064612706023248,
           0.10952408002931495,
           0.12636572255880368
          ],
          [
           0,
           0.09853687009091672,
           0.07090844591228325,
           0.07577003022532643,
           0.0656734224678025,
           0.12288232813748526,
           0.12560904186109711,
           0.20114570042743002,
           0.10929160157256639,
           0.13018256173343215
          ],
          [
           0,
           0.10040127945385471,
           0.07316986350758295,
           0.07075320111827964,
           0.06913252579167638,
           0.12319075482710662,
           0.12909066459547144,
           0.20170689759645383,
           0.10604986556013432,
           0.12650495070748408
          ],
          [
           0,
           0.09569926420450507,
           0.07059475217621382,
           0.07015719257667587,
           0.06376117954274306,
           0.12295500333730298,
           0.13281611055969467,
           0.20152809662617366,
           0.11496180476078419,
           0.12752659822910753
          ],
          [
           0,
           0.1002193800380015,
           0.06495685398151668,
           0.06698338163500724,
           0.06631514388728117,
           0.12333086003876206,
           0.13054090067368038,
           0.20140605522286498,
           0.11472577945970182,
           0.1315216480616859
          ],
          [
           0,
           0.09938943569008662,
           0.06996990486404539,
           0.0676852556462231,
           0.06641463624596088,
           0.11729572928463002,
           0.13022851053816326,
           0.20143848545790655,
           0.11523405846200027,
           0.1323439871189391
          ],
          [
           0,
           0.09823568120488396,
           0.06656972731593021,
           0.06680381826631829,
           0.06362139770902644,
           0.12389644933435677,
           0.12892469440878057,
           0.20539609050448707,
           0.11332283284578701,
           0.13322931167491006
          ],
          [
           0,
           0.09582931388613308,
           0.07082499539816817,
           0.06816617487018024,
           0.0655301265920949,
           0.11633141826998275,
           0.12744784066339107,
           0.2011632271615223,
           0.12198120404911708,
           0.13272570183045462
          ]
         ]
        }
       ],
       "layout": {
        "height": 500,
        "title": "Confidence after 250 Iterations at Glimpse 0",
        "width": 500,
        "xaxis": {
         "dtick": 1,
         "range": [
          0.5,
          9.5
         ],
         "title": "Predicted Class"
        },
        "yaxis": {
         "dtick": 1,
         "range": [
          9.5,
          0.5
         ],
         "title": "True Class"
        }
       }
      },
      "text/html": [
       "<div id=\"401b53f6-b4ec-49f2-9fe7-43f4500a17f9\" style=\"height: 500px; width: 500px;\" class=\"plotly-graph-div\"></div><script type=\"text/javascript\">require([\"plotly\"], function(Plotly) { window.PLOTLYENV=window.PLOTLYENV || {};window.PLOTLYENV.BASE_URL=\"https://plot.ly\";Plotly.newPlot(\"401b53f6-b4ec-49f2-9fe7-43f4500a17f9\", [{\"z\": [[0.0, 0.0, 0.0, 0.0, 0.0, 0.0, 0.0, 0.0, 0.0, 0.0], [0.0, 0.11569833808729124, 0.09017548112687175, 0.0794728740137469, 0.08015494876935489, 0.1172788796236264, 0.12100540347685314, 0.16895397953570698, 0.10746924435203058, 0.11979085253101521], [0.0, 0.10397460878102298, 0.0748717884924633, 0.07332533136758093, 0.07230975792610228, 0.12100091873837775, 0.12798166724043697, 0.19064612706023248, 0.10952408002931495, 0.12636572255880368], [0.0, 0.09853687009091672, 0.07090844591228325, 0.07577003022532643, 0.0656734224678025, 0.12288232813748526, 0.12560904186109711, 0.20114570042743002, 0.10929160157256639, 0.13018256173343215], [0.0, 0.10040127945385471, 0.07316986350758295, 0.07075320111827964, 0.06913252579167638, 0.12319075482710662, 0.12909066459547144, 0.20170689759645383, 0.10604986556013432, 0.12650495070748408], [0.0, 0.09569926420450507, 0.07059475217621382, 0.07015719257667587, 0.06376117954274306, 0.12295500333730298, 0.13281611055969467, 0.20152809662617366, 0.11496180476078419, 0.12752659822910753], [0.0, 0.1002193800380015, 0.06495685398151668, 0.06698338163500724, 0.06631514388728117, 0.12333086003876206, 0.13054090067368038, 0.20140605522286498, 0.11472577945970182, 0.1315216480616859], [0.0, 0.09938943569008662, 0.06996990486404539, 0.0676852556462231, 0.06641463624596088, 0.11729572928463002, 0.13022851053816326, 0.20143848545790655, 0.11523405846200027, 0.1323439871189391], [0.0, 0.09823568120488396, 0.06656972731593021, 0.06680381826631829, 0.06362139770902644, 0.12389644933435677, 0.12892469440878057, 0.20539609050448707, 0.11332283284578701, 0.13322931167491006], [0.0, 0.09582931388613308, 0.07082499539816817, 0.06816617487018024, 0.0655301265920949, 0.11633141826998275, 0.12744784066339107, 0.2011632271615223, 0.12198120404911708, 0.13272570183045462]], \"type\": \"heatmap\", \"colorscale\": \"Viridis\"}], {\"width\": 500, \"height\": 500, \"xaxis\": {\"title\": \"Predicted Class\", \"dtick\": 1, \"range\": [0.5, 9.5]}, \"title\": \"Confidence after 250 Iterations at Glimpse 0\", \"yaxis\": {\"title\": \"True Class\", \"dtick\": 1, \"range\": [9.5, 0.5]}}, {\"linkText\": \"Export to plot.ly\", \"showLink\": true})});</script>"
      ],
      "text/vnd.plotly.v1+html": [
       "<div id=\"401b53f6-b4ec-49f2-9fe7-43f4500a17f9\" style=\"height: 500px; width: 500px;\" class=\"plotly-graph-div\"></div><script type=\"text/javascript\">require([\"plotly\"], function(Plotly) { window.PLOTLYENV=window.PLOTLYENV || {};window.PLOTLYENV.BASE_URL=\"https://plot.ly\";Plotly.newPlot(\"401b53f6-b4ec-49f2-9fe7-43f4500a17f9\", [{\"z\": [[0.0, 0.0, 0.0, 0.0, 0.0, 0.0, 0.0, 0.0, 0.0, 0.0], [0.0, 0.11569833808729124, 0.09017548112687175, 0.0794728740137469, 0.08015494876935489, 0.1172788796236264, 0.12100540347685314, 0.16895397953570698, 0.10746924435203058, 0.11979085253101521], [0.0, 0.10397460878102298, 0.0748717884924633, 0.07332533136758093, 0.07230975792610228, 0.12100091873837775, 0.12798166724043697, 0.19064612706023248, 0.10952408002931495, 0.12636572255880368], [0.0, 0.09853687009091672, 0.07090844591228325, 0.07577003022532643, 0.0656734224678025, 0.12288232813748526, 0.12560904186109711, 0.20114570042743002, 0.10929160157256639, 0.13018256173343215], [0.0, 0.10040127945385471, 0.07316986350758295, 0.07075320111827964, 0.06913252579167638, 0.12319075482710662, 0.12909066459547144, 0.20170689759645383, 0.10604986556013432, 0.12650495070748408], [0.0, 0.09569926420450507, 0.07059475217621382, 0.07015719257667587, 0.06376117954274306, 0.12295500333730298, 0.13281611055969467, 0.20152809662617366, 0.11496180476078419, 0.12752659822910753], [0.0, 0.1002193800380015, 0.06495685398151668, 0.06698338163500724, 0.06631514388728117, 0.12333086003876206, 0.13054090067368038, 0.20140605522286498, 0.11472577945970182, 0.1315216480616859], [0.0, 0.09938943569008662, 0.06996990486404539, 0.0676852556462231, 0.06641463624596088, 0.11729572928463002, 0.13022851053816326, 0.20143848545790655, 0.11523405846200027, 0.1323439871189391], [0.0, 0.09823568120488396, 0.06656972731593021, 0.06680381826631829, 0.06362139770902644, 0.12389644933435677, 0.12892469440878057, 0.20539609050448707, 0.11332283284578701, 0.13322931167491006], [0.0, 0.09582931388613308, 0.07082499539816817, 0.06816617487018024, 0.0655301265920949, 0.11633141826998275, 0.12744784066339107, 0.2011632271615223, 0.12198120404911708, 0.13272570183045462]], \"type\": \"heatmap\", \"colorscale\": \"Viridis\"}], {\"width\": 500, \"height\": 500, \"xaxis\": {\"title\": \"Predicted Class\", \"dtick\": 1, \"range\": [0.5, 9.5]}, \"title\": \"Confidence after 250 Iterations at Glimpse 0\", \"yaxis\": {\"title\": \"True Class\", \"dtick\": 1, \"range\": [9.5, 0.5]}}, {\"linkText\": \"Export to plot.ly\", \"showLink\": true})});</script>"
      ]
     },
     "metadata": {},
     "output_type": "display_data"
    },
    {
     "data": {
      "application/vnd.plotly.v1+json": {
       "data": [
        {
         "colorscale": "Viridis",
         "type": "heatmap",
         "z": [
          [
           0,
           0,
           0,
           0,
           0,
           0,
           0,
           0,
           0,
           0
          ],
          [
           0,
           0.20950000000000002,
           0.07919999999999999,
           0.0561,
           0.05789999999999999,
           0.1061,
           0.1346,
           0.1609,
           0.0875,
           0.1082
          ],
          [
           0,
           0.122,
           0.0678,
           0.066,
           0.06720000000000001,
           0.1152,
           0.13120000000000004,
           0.19529999999999997,
           0.1052,
           0.13010000000000002
          ],
          [
           0,
           0.1032,
           0.0685,
           0.0736,
           0.0624,
           0.11979999999999998,
           0.1275,
           0.20329999999999998,
           0.10900000000000001,
           0.13269999999999998
          ],
          [
           0,
           0.10030000000000001,
           0.07310000000000001,
           0.06939999999999999,
           0.06920000000000001,
           0.1213,
           0.1303,
           0.2021,
           0.1056,
           0.12869999999999998
          ],
          [
           0,
           0.09530000000000002,
           0.07020000000000001,
           0.0693,
           0.063,
           0.12409999999999999,
           0.133,
           0.2021,
           0.11499999999999999,
           0.12799999999999997
          ],
          [
           0,
           0.0995,
           0.0654,
           0.06609999999999999,
           0.0666,
           0.12239999999999998,
           0.13090000000000002,
           0.20339999999999997,
           0.11400000000000002,
           0.13169999999999998
          ],
          [
           0,
           0.09810000000000002,
           0.07010000000000001,
           0.0678,
           0.0659,
           0.11710000000000001,
           0.1306,
           0.202,
           0.11510000000000001,
           0.13329999999999997
          ],
          [
           0,
           0.098,
           0.0666,
           0.0659,
           0.0631,
           0.12309999999999999,
           0.1298,
           0.20600000000000004,
           0.11339999999999999,
           0.1341
          ],
          [
           0,
           0.09550000000000002,
           0.0699,
           0.06799999999999999,
           0.0653,
           0.11579999999999997,
           0.1276,
           0.2009,
           0.12390000000000001,
           0.13309999999999997
          ]
         ]
        }
       ],
       "layout": {
        "height": 500,
        "title": "Choice after 250 Iterations at Glimpse 0",
        "width": 500,
        "xaxis": {
         "dtick": 1,
         "range": [
          0.5,
          9.5
         ],
         "title": "Predicted Class"
        },
        "yaxis": {
         "dtick": 1,
         "range": [
          9.5,
          0.5
         ],
         "title": "True Class"
        }
       }
      },
      "text/html": [
       "<div id=\"87a7e326-ff2c-41dc-8e0a-d5424d899b01\" style=\"height: 500px; width: 500px;\" class=\"plotly-graph-div\"></div><script type=\"text/javascript\">require([\"plotly\"], function(Plotly) { window.PLOTLYENV=window.PLOTLYENV || {};window.PLOTLYENV.BASE_URL=\"https://plot.ly\";Plotly.newPlot(\"87a7e326-ff2c-41dc-8e0a-d5424d899b01\", [{\"z\": [[0.0, 0.0, 0.0, 0.0, 0.0, 0.0, 0.0, 0.0, 0.0, 0.0], [0.0, 0.20950000000000002, 0.07919999999999999, 0.0561, 0.05789999999999999, 0.1061, 0.1346, 0.1609, 0.0875, 0.1082], [0.0, 0.122, 0.0678, 0.066, 0.06720000000000001, 0.1152, 0.13120000000000004, 0.19529999999999997, 0.1052, 0.13010000000000002], [0.0, 0.1032, 0.0685, 0.0736, 0.0624, 0.11979999999999998, 0.1275, 0.20329999999999998, 0.10900000000000001, 0.13269999999999998], [0.0, 0.10030000000000001, 0.07310000000000001, 0.06939999999999999, 0.06920000000000001, 0.1213, 0.1303, 0.2021, 0.1056, 0.12869999999999998], [0.0, 0.09530000000000002, 0.07020000000000001, 0.0693, 0.063, 0.12409999999999999, 0.133, 0.2021, 0.11499999999999999, 0.12799999999999997], [0.0, 0.0995, 0.0654, 0.06609999999999999, 0.0666, 0.12239999999999998, 0.13090000000000002, 0.20339999999999997, 0.11400000000000002, 0.13169999999999998], [0.0, 0.09810000000000002, 0.07010000000000001, 0.0678, 0.0659, 0.11710000000000001, 0.1306, 0.202, 0.11510000000000001, 0.13329999999999997], [0.0, 0.098, 0.0666, 0.0659, 0.0631, 0.12309999999999999, 0.1298, 0.20600000000000004, 0.11339999999999999, 0.1341], [0.0, 0.09550000000000002, 0.0699, 0.06799999999999999, 0.0653, 0.11579999999999997, 0.1276, 0.2009, 0.12390000000000001, 0.13309999999999997]], \"type\": \"heatmap\", \"colorscale\": \"Viridis\"}], {\"width\": 500, \"height\": 500, \"xaxis\": {\"title\": \"Predicted Class\", \"dtick\": 1, \"range\": [0.5, 9.5]}, \"title\": \"Choice after 250 Iterations at Glimpse 0\", \"yaxis\": {\"title\": \"True Class\", \"dtick\": 1, \"range\": [9.5, 0.5]}}, {\"linkText\": \"Export to plot.ly\", \"showLink\": true})});</script>"
      ],
      "text/vnd.plotly.v1+html": [
       "<div id=\"87a7e326-ff2c-41dc-8e0a-d5424d899b01\" style=\"height: 500px; width: 500px;\" class=\"plotly-graph-div\"></div><script type=\"text/javascript\">require([\"plotly\"], function(Plotly) { window.PLOTLYENV=window.PLOTLYENV || {};window.PLOTLYENV.BASE_URL=\"https://plot.ly\";Plotly.newPlot(\"87a7e326-ff2c-41dc-8e0a-d5424d899b01\", [{\"z\": [[0.0, 0.0, 0.0, 0.0, 0.0, 0.0, 0.0, 0.0, 0.0, 0.0], [0.0, 0.20950000000000002, 0.07919999999999999, 0.0561, 0.05789999999999999, 0.1061, 0.1346, 0.1609, 0.0875, 0.1082], [0.0, 0.122, 0.0678, 0.066, 0.06720000000000001, 0.1152, 0.13120000000000004, 0.19529999999999997, 0.1052, 0.13010000000000002], [0.0, 0.1032, 0.0685, 0.0736, 0.0624, 0.11979999999999998, 0.1275, 0.20329999999999998, 0.10900000000000001, 0.13269999999999998], [0.0, 0.10030000000000001, 0.07310000000000001, 0.06939999999999999, 0.06920000000000001, 0.1213, 0.1303, 0.2021, 0.1056, 0.12869999999999998], [0.0, 0.09530000000000002, 0.07020000000000001, 0.0693, 0.063, 0.12409999999999999, 0.133, 0.2021, 0.11499999999999999, 0.12799999999999997], [0.0, 0.0995, 0.0654, 0.06609999999999999, 0.0666, 0.12239999999999998, 0.13090000000000002, 0.20339999999999997, 0.11400000000000002, 0.13169999999999998], [0.0, 0.09810000000000002, 0.07010000000000001, 0.0678, 0.0659, 0.11710000000000001, 0.1306, 0.202, 0.11510000000000001, 0.13329999999999997], [0.0, 0.098, 0.0666, 0.0659, 0.0631, 0.12309999999999999, 0.1298, 0.20600000000000004, 0.11339999999999999, 0.1341], [0.0, 0.09550000000000002, 0.0699, 0.06799999999999999, 0.0653, 0.11579999999999997, 0.1276, 0.2009, 0.12390000000000001, 0.13309999999999997]], \"type\": \"heatmap\", \"colorscale\": \"Viridis\"}], {\"width\": 500, \"height\": 500, \"xaxis\": {\"title\": \"Predicted Class\", \"dtick\": 1, \"range\": [0.5, 9.5]}, \"title\": \"Choice after 250 Iterations at Glimpse 0\", \"yaxis\": {\"title\": \"True Class\", \"dtick\": 1, \"range\": [9.5, 0.5]}}, {\"linkText\": \"Export to plot.ly\", \"showLink\": true})});</script>"
      ]
     },
     "metadata": {},
     "output_type": "display_data"
    },
    {
     "data": {
      "application/vnd.plotly.v1+json": {
       "data": [
        {
         "colorscale": "Viridis",
         "type": "heatmap",
         "z": [
          [
           0,
           0,
           0,
           0,
           0,
           0,
           0,
           0,
           0,
           0
          ],
          [
           0,
           0.11826100316691043,
           0.0806004826489612,
           0.07171790559841627,
           0.06704108940653583,
           0.10471532269667258,
           0.133562695132737,
           0.19668096613861125,
           0.0976151363383038,
           0.12980540077188307
          ],
          [
           0,
           0.10712182726203487,
           0.07036859101824418,
           0.07567690284968558,
           0.06658365776428882,
           0.1107968259985272,
           0.13731999270624687,
           0.2050381115803334,
           0.09864586960521984,
           0.12844822351210217
          ],
          [
           0,
           0.10150779165601595,
           0.06789656042793873,
           0.07603628432420696,
           0.06553296191170964,
           0.11108673305361845,
           0.1299833338527659,
           0.21403008384160743,
           0.1019735020934256,
           0.1319527508970156
          ],
          [
           0,
           0.10240209266187113,
           0.06364721097875717,
           0.07795343122529405,
           0.06367673069654826,
           0.11657022032002229,
           0.1337080881935684,
           0.2149500740132301,
           0.10074854644200762,
           0.12634360815115164
          ],
          [
           0,
           0.10298305572400338,
           0.06648214120612589,
           0.0744652891012571,
           0.06667135116150116,
           0.11158225119423282,
           0.1254639189699962,
           0.21195220673377083,
           0.10991884878324625,
           0.13048093946765651
          ],
          [
           0,
           0.10364412079302485,
           0.0634330320182063,
           0.0724909571705763,
           0.06670536509724276,
           0.11425068482712127,
           0.12847114398892218,
           0.2133884046919861,
           0.10815863002111689,
           0.12945766325117122
          ],
          [
           0,
           0.10349044337020816,
           0.06143541918724784,
           0.07421406675020009,
           0.07038639365614532,
           0.11317024819560315,
           0.12860818859266823,
           0.21618657845967904,
           0.1019102228967123,
           0.13059844072193444
          ],
          [
           0,
           0.10562057013338395,
           0.062263520383858864,
           0.07329115745377225,
           0.07068596178855885,
           0.11449769020698283,
           0.12552673477822607,
           0.210523340367419,
           0.10878196576066049,
           0.12880906124017838
          ],
          [
           0,
           0.10172471514517364,
           0.06463589989426585,
           0.07125918835683945,
           0.06735779496775593,
           0.11322726219239479,
           0.12525826644403815,
           0.21480858263371597,
           0.11217574018693469,
           0.1295525522610212
          ]
         ]
        }
       ],
       "layout": {
        "height": 500,
        "title": "Confidence after 250 Iterations at Glimpse 3",
        "width": 500,
        "xaxis": {
         "dtick": 1,
         "range": [
          0.5,
          9.5
         ],
         "title": "Predicted Class"
        },
        "yaxis": {
         "dtick": 1,
         "range": [
          9.5,
          0.5
         ],
         "title": "True Class"
        }
       }
      },
      "text/html": [
       "<div id=\"82eca655-8c94-40e6-afff-8eeaa3598498\" style=\"height: 500px; width: 500px;\" class=\"plotly-graph-div\"></div><script type=\"text/javascript\">require([\"plotly\"], function(Plotly) { window.PLOTLYENV=window.PLOTLYENV || {};window.PLOTLYENV.BASE_URL=\"https://plot.ly\";Plotly.newPlot(\"82eca655-8c94-40e6-afff-8eeaa3598498\", [{\"z\": [[0.0, 0.0, 0.0, 0.0, 0.0, 0.0, 0.0, 0.0, 0.0, 0.0], [0.0, 0.11826100316691043, 0.0806004826489612, 0.07171790559841627, 0.06704108940653583, 0.10471532269667258, 0.133562695132737, 0.19668096613861125, 0.0976151363383038, 0.12980540077188307], [0.0, 0.10712182726203487, 0.07036859101824418, 0.07567690284968558, 0.06658365776428882, 0.1107968259985272, 0.13731999270624687, 0.2050381115803334, 0.09864586960521984, 0.12844822351210217], [0.0, 0.10150779165601595, 0.06789656042793873, 0.07603628432420696, 0.06553296191170964, 0.11108673305361845, 0.1299833338527659, 0.21403008384160743, 0.1019735020934256, 0.1319527508970156], [0.0, 0.10240209266187113, 0.06364721097875717, 0.07795343122529405, 0.06367673069654826, 0.11657022032002229, 0.1337080881935684, 0.2149500740132301, 0.10074854644200762, 0.12634360815115164], [0.0, 0.10298305572400338, 0.06648214120612589, 0.0744652891012571, 0.06667135116150116, 0.11158225119423282, 0.1254639189699962, 0.21195220673377083, 0.10991884878324625, 0.13048093946765651], [0.0, 0.10364412079302485, 0.0634330320182063, 0.0724909571705763, 0.06670536509724276, 0.11425068482712127, 0.12847114398892218, 0.2133884046919861, 0.10815863002111689, 0.12945766325117122], [0.0, 0.10349044337020816, 0.06143541918724784, 0.07421406675020009, 0.07038639365614532, 0.11317024819560315, 0.12860818859266823, 0.21618657845967904, 0.1019102228967123, 0.13059844072193444], [0.0, 0.10562057013338395, 0.062263520383858864, 0.07329115745377225, 0.07068596178855885, 0.11449769020698283, 0.12552673477822607, 0.210523340367419, 0.10878196576066049, 0.12880906124017838], [0.0, 0.10172471514517364, 0.06463589989426585, 0.07125918835683945, 0.06735779496775593, 0.11322726219239479, 0.12525826644403815, 0.21480858263371597, 0.11217574018693469, 0.1295525522610212]], \"type\": \"heatmap\", \"colorscale\": \"Viridis\"}], {\"width\": 500, \"height\": 500, \"xaxis\": {\"title\": \"Predicted Class\", \"dtick\": 1, \"range\": [0.5, 9.5]}, \"title\": \"Confidence after 250 Iterations at Glimpse 3\", \"yaxis\": {\"title\": \"True Class\", \"dtick\": 1, \"range\": [9.5, 0.5]}}, {\"linkText\": \"Export to plot.ly\", \"showLink\": true})});</script>"
      ],
      "text/vnd.plotly.v1+html": [
       "<div id=\"82eca655-8c94-40e6-afff-8eeaa3598498\" style=\"height: 500px; width: 500px;\" class=\"plotly-graph-div\"></div><script type=\"text/javascript\">require([\"plotly\"], function(Plotly) { window.PLOTLYENV=window.PLOTLYENV || {};window.PLOTLYENV.BASE_URL=\"https://plot.ly\";Plotly.newPlot(\"82eca655-8c94-40e6-afff-8eeaa3598498\", [{\"z\": [[0.0, 0.0, 0.0, 0.0, 0.0, 0.0, 0.0, 0.0, 0.0, 0.0], [0.0, 0.11826100316691043, 0.0806004826489612, 0.07171790559841627, 0.06704108940653583, 0.10471532269667258, 0.133562695132737, 0.19668096613861125, 0.0976151363383038, 0.12980540077188307], [0.0, 0.10712182726203487, 0.07036859101824418, 0.07567690284968558, 0.06658365776428882, 0.1107968259985272, 0.13731999270624687, 0.2050381115803334, 0.09864586960521984, 0.12844822351210217], [0.0, 0.10150779165601595, 0.06789656042793873, 0.07603628432420696, 0.06553296191170964, 0.11108673305361845, 0.1299833338527659, 0.21403008384160743, 0.1019735020934256, 0.1319527508970156], [0.0, 0.10240209266187113, 0.06364721097875717, 0.07795343122529405, 0.06367673069654826, 0.11657022032002229, 0.1337080881935684, 0.2149500740132301, 0.10074854644200762, 0.12634360815115164], [0.0, 0.10298305572400338, 0.06648214120612589, 0.0744652891012571, 0.06667135116150116, 0.11158225119423282, 0.1254639189699962, 0.21195220673377083, 0.10991884878324625, 0.13048093946765651], [0.0, 0.10364412079302485, 0.0634330320182063, 0.0724909571705763, 0.06670536509724276, 0.11425068482712127, 0.12847114398892218, 0.2133884046919861, 0.10815863002111689, 0.12945766325117122], [0.0, 0.10349044337020816, 0.06143541918724784, 0.07421406675020009, 0.07038639365614532, 0.11317024819560315, 0.12860818859266823, 0.21618657845967904, 0.1019102228967123, 0.13059844072193444], [0.0, 0.10562057013338395, 0.062263520383858864, 0.07329115745377225, 0.07068596178855885, 0.11449769020698283, 0.12552673477822607, 0.210523340367419, 0.10878196576066049, 0.12880906124017838], [0.0, 0.10172471514517364, 0.06463589989426585, 0.07125918835683945, 0.06735779496775593, 0.11322726219239479, 0.12525826644403815, 0.21480858263371597, 0.11217574018693469, 0.1295525522610212]], \"type\": \"heatmap\", \"colorscale\": \"Viridis\"}], {\"width\": 500, \"height\": 500, \"xaxis\": {\"title\": \"Predicted Class\", \"dtick\": 1, \"range\": [0.5, 9.5]}, \"title\": \"Confidence after 250 Iterations at Glimpse 3\", \"yaxis\": {\"title\": \"True Class\", \"dtick\": 1, \"range\": [9.5, 0.5]}}, {\"linkText\": \"Export to plot.ly\", \"showLink\": true})});</script>"
      ]
     },
     "metadata": {},
     "output_type": "display_data"
    },
    {
     "data": {
      "application/vnd.plotly.v1+json": {
       "data": [
        {
         "colorscale": "Viridis",
         "type": "heatmap",
         "z": [
          [
           0,
           0,
           0,
           0,
           0,
           0,
           0,
           0,
           0,
           0
          ],
          [
           0,
           0.12329999999999999,
           0.0824,
           0.0679,
           0.0626,
           0.1048,
           0.1389,
           0.1972,
           0.09570000000000001,
           0.1272
          ],
          [
           0,
           0.10730000000000002,
           0.0699,
           0.0752,
           0.0664,
           0.1106,
           0.1365,
           0.20570000000000005,
           0.0987,
           0.1297
          ],
          [
           0,
           0.10190000000000002,
           0.06820000000000001,
           0.0764,
           0.06520000000000001,
           0.1109,
           0.12960000000000002,
           0.21390000000000003,
           0.1015,
           0.1324
          ],
          [
           0,
           0.10230000000000002,
           0.0632,
           0.07759999999999999,
           0.0641,
           0.11660000000000001,
           0.1343,
           0.21460000000000004,
           0.10040000000000002,
           0.1269
          ],
          [
           0,
           0.10270000000000001,
           0.0668,
           0.0741,
           0.06670000000000001,
           0.11200000000000002,
           0.12430000000000001,
           0.2121,
           0.11000000000000001,
           0.13130000000000003
          ],
          [
           0,
           0.1034,
           0.0635,
           0.0723,
           0.0668,
           0.11420000000000001,
           0.1278,
           0.2137,
           0.10850000000000001,
           0.1298
          ],
          [
           0,
           0.1036,
           0.0612,
           0.07390000000000001,
           0.07020000000000001,
           0.1137,
           0.12920000000000004,
           0.21639999999999998,
           0.1015,
           0.1303
          ],
          [
           0,
           0.10540000000000001,
           0.0621,
           0.0735,
           0.0702,
           0.11479999999999999,
           0.1256,
           0.21059999999999998,
           0.10890000000000002,
           0.12890000000000001
          ],
          [
           0,
           0.10169999999999998,
           0.0643,
           0.0712,
           0.0674,
           0.11310000000000002,
           0.1247,
           0.21589999999999998,
           0.11240000000000001,
           0.12930000000000003
          ]
         ]
        }
       ],
       "layout": {
        "height": 500,
        "title": "Choice after 250 Iterations at Glimpse 3",
        "width": 500,
        "xaxis": {
         "dtick": 1,
         "range": [
          0.5,
          9.5
         ],
         "title": "Predicted Class"
        },
        "yaxis": {
         "dtick": 1,
         "range": [
          9.5,
          0.5
         ],
         "title": "True Class"
        }
       }
      },
      "text/html": [
       "<div id=\"0ce55b93-3f7d-40b7-af3c-3ff8c02f1228\" style=\"height: 500px; width: 500px;\" class=\"plotly-graph-div\"></div><script type=\"text/javascript\">require([\"plotly\"], function(Plotly) { window.PLOTLYENV=window.PLOTLYENV || {};window.PLOTLYENV.BASE_URL=\"https://plot.ly\";Plotly.newPlot(\"0ce55b93-3f7d-40b7-af3c-3ff8c02f1228\", [{\"z\": [[0.0, 0.0, 0.0, 0.0, 0.0, 0.0, 0.0, 0.0, 0.0, 0.0], [0.0, 0.12329999999999999, 0.0824, 0.0679, 0.0626, 0.1048, 0.1389, 0.1972, 0.09570000000000001, 0.1272], [0.0, 0.10730000000000002, 0.0699, 0.0752, 0.0664, 0.1106, 0.1365, 0.20570000000000005, 0.0987, 0.1297], [0.0, 0.10190000000000002, 0.06820000000000001, 0.0764, 0.06520000000000001, 0.1109, 0.12960000000000002, 0.21390000000000003, 0.1015, 0.1324], [0.0, 0.10230000000000002, 0.0632, 0.07759999999999999, 0.0641, 0.11660000000000001, 0.1343, 0.21460000000000004, 0.10040000000000002, 0.1269], [0.0, 0.10270000000000001, 0.0668, 0.0741, 0.06670000000000001, 0.11200000000000002, 0.12430000000000001, 0.2121, 0.11000000000000001, 0.13130000000000003], [0.0, 0.1034, 0.0635, 0.0723, 0.0668, 0.11420000000000001, 0.1278, 0.2137, 0.10850000000000001, 0.1298], [0.0, 0.1036, 0.0612, 0.07390000000000001, 0.07020000000000001, 0.1137, 0.12920000000000004, 0.21639999999999998, 0.1015, 0.1303], [0.0, 0.10540000000000001, 0.0621, 0.0735, 0.0702, 0.11479999999999999, 0.1256, 0.21059999999999998, 0.10890000000000002, 0.12890000000000001], [0.0, 0.10169999999999998, 0.0643, 0.0712, 0.0674, 0.11310000000000002, 0.1247, 0.21589999999999998, 0.11240000000000001, 0.12930000000000003]], \"type\": \"heatmap\", \"colorscale\": \"Viridis\"}], {\"width\": 500, \"height\": 500, \"xaxis\": {\"title\": \"Predicted Class\", \"dtick\": 1, \"range\": [0.5, 9.5]}, \"title\": \"Choice after 250 Iterations at Glimpse 3\", \"yaxis\": {\"title\": \"True Class\", \"dtick\": 1, \"range\": [9.5, 0.5]}}, {\"linkText\": \"Export to plot.ly\", \"showLink\": true})});</script>"
      ],
      "text/vnd.plotly.v1+html": [
       "<div id=\"0ce55b93-3f7d-40b7-af3c-3ff8c02f1228\" style=\"height: 500px; width: 500px;\" class=\"plotly-graph-div\"></div><script type=\"text/javascript\">require([\"plotly\"], function(Plotly) { window.PLOTLYENV=window.PLOTLYENV || {};window.PLOTLYENV.BASE_URL=\"https://plot.ly\";Plotly.newPlot(\"0ce55b93-3f7d-40b7-af3c-3ff8c02f1228\", [{\"z\": [[0.0, 0.0, 0.0, 0.0, 0.0, 0.0, 0.0, 0.0, 0.0, 0.0], [0.0, 0.12329999999999999, 0.0824, 0.0679, 0.0626, 0.1048, 0.1389, 0.1972, 0.09570000000000001, 0.1272], [0.0, 0.10730000000000002, 0.0699, 0.0752, 0.0664, 0.1106, 0.1365, 0.20570000000000005, 0.0987, 0.1297], [0.0, 0.10190000000000002, 0.06820000000000001, 0.0764, 0.06520000000000001, 0.1109, 0.12960000000000002, 0.21390000000000003, 0.1015, 0.1324], [0.0, 0.10230000000000002, 0.0632, 0.07759999999999999, 0.0641, 0.11660000000000001, 0.1343, 0.21460000000000004, 0.10040000000000002, 0.1269], [0.0, 0.10270000000000001, 0.0668, 0.0741, 0.06670000000000001, 0.11200000000000002, 0.12430000000000001, 0.2121, 0.11000000000000001, 0.13130000000000003], [0.0, 0.1034, 0.0635, 0.0723, 0.0668, 0.11420000000000001, 0.1278, 0.2137, 0.10850000000000001, 0.1298], [0.0, 0.1036, 0.0612, 0.07390000000000001, 0.07020000000000001, 0.1137, 0.12920000000000004, 0.21639999999999998, 0.1015, 0.1303], [0.0, 0.10540000000000001, 0.0621, 0.0735, 0.0702, 0.11479999999999999, 0.1256, 0.21059999999999998, 0.10890000000000002, 0.12890000000000001], [0.0, 0.10169999999999998, 0.0643, 0.0712, 0.0674, 0.11310000000000002, 0.1247, 0.21589999999999998, 0.11240000000000001, 0.12930000000000003]], \"type\": \"heatmap\", \"colorscale\": \"Viridis\"}], {\"width\": 500, \"height\": 500, \"xaxis\": {\"title\": \"Predicted Class\", \"dtick\": 1, \"range\": [0.5, 9.5]}, \"title\": \"Choice after 250 Iterations at Glimpse 3\", \"yaxis\": {\"title\": \"True Class\", \"dtick\": 1, \"range\": [9.5, 0.5]}}, {\"linkText\": \"Export to plot.ly\", \"showLink\": true})});</script>"
      ]
     },
     "metadata": {},
     "output_type": "display_data"
    },
    {
     "data": {
      "application/vnd.plotly.v1+json": {
       "data": [
        {
         "colorscale": "Viridis",
         "type": "heatmap",
         "z": [
          [
           0,
           0,
           0,
           0,
           0,
           0,
           0,
           0,
           0,
           0
          ],
          [
           0,
           0.13859106800713,
           0.09184529237757515,
           0.0829020150474383,
           0.06969641660154187,
           0.10057026676237742,
           0.12268541109877056,
           0.18641626390932625,
           0.08733166129393553,
           0.11996160750369174
          ],
          [
           0,
           0.1270518365939463,
           0.07835465365535063,
           0.07970351859975686,
           0.08108203448848886,
           0.10304179103933409,
           0.12237626632026288,
           0.19546078516611023,
           0.09190375067574473,
           0.12102536573814733
          ],
          [
           0,
           0.12326327308735378,
           0.0715565500470275,
           0.07374350716573125,
           0.08188010046119279,
           0.10600660789265406,
           0.12269961043093858,
           0.20737132454503202,
           0.09446632239030527,
           0.11901270665908062
          ],
          [
           0,
           0.127036623714632,
           0.0722328083167533,
           0.07414612700549611,
           0.07846331371057176,
           0.10822554907899366,
           0.11729144908368323,
           0.20133355494659738,
           0.09977290759399901,
           0.12149766872488929
          ],
          [
           0,
           0.11886925544927122,
           0.07266379226039052,
           0.07367288610388735,
           0.08384776064761977,
           0.11058306250108785,
           0.11824627326080299,
           0.1976973748555862,
           0.10809040714499059,
           0.11632918989708543
          ],
          [
           0,
           0.12289709084931748,
           0.06932103091317779,
           0.07212131904608546,
           0.08653506202015404,
           0.11179454172988974,
           0.11635781976776138,
           0.20324052120962782,
           0.09947211477006115,
           0.11826050142368179
          ],
          [
           0,
           0.12133357506347968,
           0.07125639169034972,
           0.06900836329172733,
           0.08111708504836915,
           0.10702973922784162,
           0.12270879890867965,
           0.2008971149222663,
           0.10629485708329474,
           0.1203540761995231
          ],
          [
           0,
           0.12091283820741756,
           0.06488573040337794,
           0.06737250898659401,
           0.08529169508356099,
           0.10250768392954661,
           0.12503133780288483,
           0.21055576121623484,
           0.10509259354095499,
           0.11834985224263997
          ],
          [
           0,
           0.11474939180717744,
           0.0716053378701142,
           0.07068573440795356,
           0.08084920386018996,
           0.10410325816730037,
           0.123729628404188,
           0.20003557273158545,
           0.11069927121159415,
           0.12354260327311047
          ]
         ]
        }
       ],
       "layout": {
        "height": 500,
        "title": "Confidence after 250 Iterations at Glimpse 9",
        "width": 500,
        "xaxis": {
         "dtick": 1,
         "range": [
          0.5,
          9.5
         ],
         "title": "Predicted Class"
        },
        "yaxis": {
         "dtick": 1,
         "range": [
          9.5,
          0.5
         ],
         "title": "True Class"
        }
       }
      },
      "text/html": [
       "<div id=\"7101850a-18c4-47ee-81e0-ffbfb6962eed\" style=\"height: 500px; width: 500px;\" class=\"plotly-graph-div\"></div><script type=\"text/javascript\">require([\"plotly\"], function(Plotly) { window.PLOTLYENV=window.PLOTLYENV || {};window.PLOTLYENV.BASE_URL=\"https://plot.ly\";Plotly.newPlot(\"7101850a-18c4-47ee-81e0-ffbfb6962eed\", [{\"z\": [[0.0, 0.0, 0.0, 0.0, 0.0, 0.0, 0.0, 0.0, 0.0, 0.0], [0.0, 0.13859106800713, 0.09184529237757515, 0.0829020150474383, 0.06969641660154187, 0.10057026676237742, 0.12268541109877056, 0.18641626390932625, 0.08733166129393553, 0.11996160750369174], [0.0, 0.1270518365939463, 0.07835465365535063, 0.07970351859975686, 0.08108203448848886, 0.10304179103933409, 0.12237626632026288, 0.19546078516611023, 0.09190375067574473, 0.12102536573814733], [0.0, 0.12326327308735378, 0.0715565500470275, 0.07374350716573125, 0.08188010046119279, 0.10600660789265406, 0.12269961043093858, 0.20737132454503202, 0.09446632239030527, 0.11901270665908062], [0.0, 0.127036623714632, 0.0722328083167533, 0.07414612700549611, 0.07846331371057176, 0.10822554907899366, 0.11729144908368323, 0.20133355494659738, 0.09977290759399901, 0.12149766872488929], [0.0, 0.11886925544927122, 0.07266379226039052, 0.07367288610388735, 0.08384776064761977, 0.11058306250108785, 0.11824627326080299, 0.1976973748555862, 0.10809040714499059, 0.11632918989708543], [0.0, 0.12289709084931748, 0.06932103091317779, 0.07212131904608546, 0.08653506202015404, 0.11179454172988974, 0.11635781976776138, 0.20324052120962782, 0.09947211477006115, 0.11826050142368179], [0.0, 0.12133357506347968, 0.07125639169034972, 0.06900836329172733, 0.08111708504836915, 0.10702973922784162, 0.12270879890867965, 0.2008971149222663, 0.10629485708329474, 0.1203540761995231], [0.0, 0.12091283820741756, 0.06488573040337794, 0.06737250898659401, 0.08529169508356099, 0.10250768392954661, 0.12503133780288483, 0.21055576121623484, 0.10509259354095499, 0.11834985224263997], [0.0, 0.11474939180717744, 0.0716053378701142, 0.07068573440795356, 0.08084920386018996, 0.10410325816730037, 0.123729628404188, 0.20003557273158545, 0.11069927121159415, 0.12354260327311047]], \"type\": \"heatmap\", \"colorscale\": \"Viridis\"}], {\"width\": 500, \"height\": 500, \"xaxis\": {\"title\": \"Predicted Class\", \"dtick\": 1, \"range\": [0.5, 9.5]}, \"title\": \"Confidence after 250 Iterations at Glimpse 9\", \"yaxis\": {\"title\": \"True Class\", \"dtick\": 1, \"range\": [9.5, 0.5]}}, {\"linkText\": \"Export to plot.ly\", \"showLink\": true})});</script>"
      ],
      "text/vnd.plotly.v1+html": [
       "<div id=\"7101850a-18c4-47ee-81e0-ffbfb6962eed\" style=\"height: 500px; width: 500px;\" class=\"plotly-graph-div\"></div><script type=\"text/javascript\">require([\"plotly\"], function(Plotly) { window.PLOTLYENV=window.PLOTLYENV || {};window.PLOTLYENV.BASE_URL=\"https://plot.ly\";Plotly.newPlot(\"7101850a-18c4-47ee-81e0-ffbfb6962eed\", [{\"z\": [[0.0, 0.0, 0.0, 0.0, 0.0, 0.0, 0.0, 0.0, 0.0, 0.0], [0.0, 0.13859106800713, 0.09184529237757515, 0.0829020150474383, 0.06969641660154187, 0.10057026676237742, 0.12268541109877056, 0.18641626390932625, 0.08733166129393553, 0.11996160750369174], [0.0, 0.1270518365939463, 0.07835465365535063, 0.07970351859975686, 0.08108203448848886, 0.10304179103933409, 0.12237626632026288, 0.19546078516611023, 0.09190375067574473, 0.12102536573814733], [0.0, 0.12326327308735378, 0.0715565500470275, 0.07374350716573125, 0.08188010046119279, 0.10600660789265406, 0.12269961043093858, 0.20737132454503202, 0.09446632239030527, 0.11901270665908062], [0.0, 0.127036623714632, 0.0722328083167533, 0.07414612700549611, 0.07846331371057176, 0.10822554907899366, 0.11729144908368323, 0.20133355494659738, 0.09977290759399901, 0.12149766872488929], [0.0, 0.11886925544927122, 0.07266379226039052, 0.07367288610388735, 0.08384776064761977, 0.11058306250108785, 0.11824627326080299, 0.1976973748555862, 0.10809040714499059, 0.11632918989708543], [0.0, 0.12289709084931748, 0.06932103091317779, 0.07212131904608546, 0.08653506202015404, 0.11179454172988974, 0.11635781976776138, 0.20324052120962782, 0.09947211477006115, 0.11826050142368179], [0.0, 0.12133357506347968, 0.07125639169034972, 0.06900836329172733, 0.08111708504836915, 0.10702973922784162, 0.12270879890867965, 0.2008971149222663, 0.10629485708329474, 0.1203540761995231], [0.0, 0.12091283820741756, 0.06488573040337794, 0.06737250898659401, 0.08529169508356099, 0.10250768392954661, 0.12503133780288483, 0.21055576121623484, 0.10509259354095499, 0.11834985224263997], [0.0, 0.11474939180717744, 0.0716053378701142, 0.07068573440795356, 0.08084920386018996, 0.10410325816730037, 0.123729628404188, 0.20003557273158545, 0.11069927121159415, 0.12354260327311047]], \"type\": \"heatmap\", \"colorscale\": \"Viridis\"}], {\"width\": 500, \"height\": 500, \"xaxis\": {\"title\": \"Predicted Class\", \"dtick\": 1, \"range\": [0.5, 9.5]}, \"title\": \"Confidence after 250 Iterations at Glimpse 9\", \"yaxis\": {\"title\": \"True Class\", \"dtick\": 1, \"range\": [9.5, 0.5]}}, {\"linkText\": \"Export to plot.ly\", \"showLink\": true})});</script>"
      ]
     },
     "metadata": {},
     "output_type": "display_data"
    },
    {
     "data": {
      "application/vnd.plotly.v1+json": {
       "data": [
        {
         "colorscale": "Viridis",
         "type": "heatmap",
         "z": [
          [
           0,
           0,
           0,
           0,
           0,
           0,
           0,
           0,
           0,
           0
          ],
          [
           0,
           0.13710000000000003,
           0.0912,
           0.08020000000000001,
           0.0687,
           0.0986,
           0.1271,
           0.18950000000000003,
           0.0849,
           0.1227
          ],
          [
           0,
           0.12710000000000002,
           0.07680000000000001,
           0.0791,
           0.08070000000000001,
           0.10300000000000002,
           0.1234,
           0.1964,
           0.09159999999999999,
           0.12190000000000001
          ],
          [
           0,
           0.12240000000000002,
           0.07060000000000001,
           0.07410000000000001,
           0.0825,
           0.1059,
           0.12350000000000001,
           0.2084,
           0.0935,
           0.11910000000000001
          ],
          [
           0,
           0.12680000000000002,
           0.07150000000000001,
           0.0732,
           0.07780000000000001,
           0.10899999999999999,
           0.1166,
           0.20420000000000002,
           0.0996,
           0.1213
          ],
          [
           0,
           0.11820000000000001,
           0.07260000000000001,
           0.0741,
           0.0841,
           0.1112,
           0.11729999999999999,
           0.19790000000000002,
           0.1078,
           0.11679999999999999
          ],
          [
           0,
           0.12390000000000001,
           0.06920000000000001,
           0.07210000000000001,
           0.0865,
           0.1117,
           0.11579999999999999,
           0.20270000000000002,
           0.0992,
           0.1189
          ],
          [
           0,
           0.12169999999999999,
           0.07089999999999999,
           0.06949999999999999,
           0.0819,
           0.1072,
           0.12249999999999998,
           0.2001,
           0.10670000000000002,
           0.11950000000000001
          ],
          [
           0,
           0.12060000000000001,
           0.0648,
           0.06670000000000001,
           0.08520000000000001,
           0.1028,
           0.1254,
           0.211,
           0.1048,
           0.1187
          ],
          [
           0,
           0.1149,
           0.0719,
           0.07020000000000001,
           0.08120000000000001,
           0.1038,
           0.12410000000000002,
           0.1997,
           0.11069999999999999,
           0.12350000000000001
          ]
         ]
        }
       ],
       "layout": {
        "height": 500,
        "title": "Choice after 250 Iterations at Glimpse 9",
        "width": 500,
        "xaxis": {
         "dtick": 1,
         "range": [
          0.5,
          9.5
         ],
         "title": "Predicted Class"
        },
        "yaxis": {
         "dtick": 1,
         "range": [
          9.5,
          0.5
         ],
         "title": "True Class"
        }
       }
      },
      "text/html": [
       "<div id=\"88d6a3aa-73d1-465c-a998-fb3f277ddad4\" style=\"height: 500px; width: 500px;\" class=\"plotly-graph-div\"></div><script type=\"text/javascript\">require([\"plotly\"], function(Plotly) { window.PLOTLYENV=window.PLOTLYENV || {};window.PLOTLYENV.BASE_URL=\"https://plot.ly\";Plotly.newPlot(\"88d6a3aa-73d1-465c-a998-fb3f277ddad4\", [{\"z\": [[0.0, 0.0, 0.0, 0.0, 0.0, 0.0, 0.0, 0.0, 0.0, 0.0], [0.0, 0.13710000000000003, 0.0912, 0.08020000000000001, 0.0687, 0.0986, 0.1271, 0.18950000000000003, 0.0849, 0.1227], [0.0, 0.12710000000000002, 0.07680000000000001, 0.0791, 0.08070000000000001, 0.10300000000000002, 0.1234, 0.1964, 0.09159999999999999, 0.12190000000000001], [0.0, 0.12240000000000002, 0.07060000000000001, 0.07410000000000001, 0.0825, 0.1059, 0.12350000000000001, 0.2084, 0.0935, 0.11910000000000001], [0.0, 0.12680000000000002, 0.07150000000000001, 0.0732, 0.07780000000000001, 0.10899999999999999, 0.1166, 0.20420000000000002, 0.0996, 0.1213], [0.0, 0.11820000000000001, 0.07260000000000001, 0.0741, 0.0841, 0.1112, 0.11729999999999999, 0.19790000000000002, 0.1078, 0.11679999999999999], [0.0, 0.12390000000000001, 0.06920000000000001, 0.07210000000000001, 0.0865, 0.1117, 0.11579999999999999, 0.20270000000000002, 0.0992, 0.1189], [0.0, 0.12169999999999999, 0.07089999999999999, 0.06949999999999999, 0.0819, 0.1072, 0.12249999999999998, 0.2001, 0.10670000000000002, 0.11950000000000001], [0.0, 0.12060000000000001, 0.0648, 0.06670000000000001, 0.08520000000000001, 0.1028, 0.1254, 0.211, 0.1048, 0.1187], [0.0, 0.1149, 0.0719, 0.07020000000000001, 0.08120000000000001, 0.1038, 0.12410000000000002, 0.1997, 0.11069999999999999, 0.12350000000000001]], \"type\": \"heatmap\", \"colorscale\": \"Viridis\"}], {\"width\": 500, \"height\": 500, \"xaxis\": {\"title\": \"Predicted Class\", \"dtick\": 1, \"range\": [0.5, 9.5]}, \"title\": \"Choice after 250 Iterations at Glimpse 9\", \"yaxis\": {\"title\": \"True Class\", \"dtick\": 1, \"range\": [9.5, 0.5]}}, {\"linkText\": \"Export to plot.ly\", \"showLink\": true})});</script>"
      ],
      "text/vnd.plotly.v1+html": [
       "<div id=\"88d6a3aa-73d1-465c-a998-fb3f277ddad4\" style=\"height: 500px; width: 500px;\" class=\"plotly-graph-div\"></div><script type=\"text/javascript\">require([\"plotly\"], function(Plotly) { window.PLOTLYENV=window.PLOTLYENV || {};window.PLOTLYENV.BASE_URL=\"https://plot.ly\";Plotly.newPlot(\"88d6a3aa-73d1-465c-a998-fb3f277ddad4\", [{\"z\": [[0.0, 0.0, 0.0, 0.0, 0.0, 0.0, 0.0, 0.0, 0.0, 0.0], [0.0, 0.13710000000000003, 0.0912, 0.08020000000000001, 0.0687, 0.0986, 0.1271, 0.18950000000000003, 0.0849, 0.1227], [0.0, 0.12710000000000002, 0.07680000000000001, 0.0791, 0.08070000000000001, 0.10300000000000002, 0.1234, 0.1964, 0.09159999999999999, 0.12190000000000001], [0.0, 0.12240000000000002, 0.07060000000000001, 0.07410000000000001, 0.0825, 0.1059, 0.12350000000000001, 0.2084, 0.0935, 0.11910000000000001], [0.0, 0.12680000000000002, 0.07150000000000001, 0.0732, 0.07780000000000001, 0.10899999999999999, 0.1166, 0.20420000000000002, 0.0996, 0.1213], [0.0, 0.11820000000000001, 0.07260000000000001, 0.0741, 0.0841, 0.1112, 0.11729999999999999, 0.19790000000000002, 0.1078, 0.11679999999999999], [0.0, 0.12390000000000001, 0.06920000000000001, 0.07210000000000001, 0.0865, 0.1117, 0.11579999999999999, 0.20270000000000002, 0.0992, 0.1189], [0.0, 0.12169999999999999, 0.07089999999999999, 0.06949999999999999, 0.0819, 0.1072, 0.12249999999999998, 0.2001, 0.10670000000000002, 0.11950000000000001], [0.0, 0.12060000000000001, 0.0648, 0.06670000000000001, 0.08520000000000001, 0.1028, 0.1254, 0.211, 0.1048, 0.1187], [0.0, 0.1149, 0.0719, 0.07020000000000001, 0.08120000000000001, 0.1038, 0.12410000000000002, 0.1997, 0.11069999999999999, 0.12350000000000001]], \"type\": \"heatmap\", \"colorscale\": \"Viridis\"}], {\"width\": 500, \"height\": 500, \"xaxis\": {\"title\": \"Predicted Class\", \"dtick\": 1, \"range\": [0.5, 9.5]}, \"title\": \"Choice after 250 Iterations at Glimpse 9\", \"yaxis\": {\"title\": \"True Class\", \"dtick\": 1, \"range\": [9.5, 0.5]}}, {\"linkText\": \"Export to plot.ly\", \"showLink\": true})});</script>"
      ]
     },
     "metadata": {},
     "output_type": "display_data"
    },
    {
     "data": {
      "application/vnd.plotly.v1+json": {
       "data": [
        {
         "colorscale": "Viridis",
         "type": "heatmap",
         "z": [
          [
           0,
           0,
           0,
           0,
           0,
           0,
           0,
           0,
           0,
           0
          ],
          [
           0,
           0.24879460619294874,
           0.08991782709036941,
           0.07407121443554678,
           0.07181047405222259,
           0.09700444787313471,
           0.09772551545904239,
           0.14384234794969,
           0.08299691513885735,
           0.09383665358874085
          ],
          [
           0,
           0.18228014695884348,
           0.08175891333211924,
           0.07488660393611052,
           0.07150169480668282,
           0.10838486195702304,
           0.11395841114999097,
           0.16606388412340053,
           0.09167197032244769,
           0.10949351493672146
          ],
          [
           0,
           0.14970066022467288,
           0.07628274734984763,
           0.07339264854617844,
           0.07276786256696419,
           0.11088286261796212,
           0.12569359760634558,
           0.1792748075185449,
           0.09842154288790843,
           0.11358327342036163
          ],
          [
           0,
           0.13389478367053304,
           0.07639889592803378,
           0.07197978980785154,
           0.06917240484902157,
           0.10804221471374006,
           0.12758602152898518,
           0.18379370762483058,
           0.10774775299982046,
           0.12138443154160647
          ],
          [
           0,
           0.13283311920609675,
           0.07409853118350343,
           0.07159655920795163,
           0.06796688493573386,
           0.11751679445855685,
           0.1220719109710919,
           0.18874279931046642,
           0.10646477350351262,
           0.11870862989484121
          ],
          [
           0,
           0.1292664830117726,
           0.07608291151967192,
           0.06961874829787515,
           0.07071282316685619,
           0.1125001897828587,
           0.12605471736878998,
           0.19046054191981876,
           0.10428251934871009,
           0.12102106873125103
          ],
          [
           0,
           0.12587664645481333,
           0.07096500404086446,
           0.07180505551520008,
           0.0643968003819001,
           0.12088668260243636,
           0.1259370603718336,
           0.1897186483943047,
           0.11065649012106375,
           0.1197576148951692
          ],
          [
           0,
           0.12318671204814231,
           0.0709550841523865,
           0.06770733299332213,
           0.0648647798698164,
           0.12410079716480305,
           0.12178370038471834,
           0.19853090412409855,
           0.10924227082714007,
           0.1196284213377029
          ],
          [
           0,
           0.12494173474038331,
           0.06944712967967695,
           0.07093005821306626,
           0.06597861871658697,
           0.11449042724253992,
           0.1232933279801681,
           0.1967805467732155,
           0.10983576464456224,
           0.12430239512976744
          ]
         ]
        }
       ],
       "layout": {
        "height": 500,
        "title": "Confidence after 1000 Iterations at Glimpse 0",
        "width": 500,
        "xaxis": {
         "dtick": 1,
         "range": [
          0.5,
          9.5
         ],
         "title": "Predicted Class"
        },
        "yaxis": {
         "dtick": 1,
         "range": [
          9.5,
          0.5
         ],
         "title": "True Class"
        }
       }
      },
      "text/html": [
       "<div id=\"ee1186f2-34a3-4970-86b4-37066efbb629\" style=\"height: 500px; width: 500px;\" class=\"plotly-graph-div\"></div><script type=\"text/javascript\">require([\"plotly\"], function(Plotly) { window.PLOTLYENV=window.PLOTLYENV || {};window.PLOTLYENV.BASE_URL=\"https://plot.ly\";Plotly.newPlot(\"ee1186f2-34a3-4970-86b4-37066efbb629\", [{\"z\": [[0.0, 0.0, 0.0, 0.0, 0.0, 0.0, 0.0, 0.0, 0.0, 0.0], [0.0, 0.24879460619294874, 0.08991782709036941, 0.07407121443554678, 0.07181047405222259, 0.09700444787313471, 0.09772551545904239, 0.14384234794969, 0.08299691513885735, 0.09383665358874085], [0.0, 0.18228014695884348, 0.08175891333211924, 0.07488660393611052, 0.07150169480668282, 0.10838486195702304, 0.11395841114999097, 0.16606388412340053, 0.09167197032244769, 0.10949351493672146], [0.0, 0.14970066022467288, 0.07628274734984763, 0.07339264854617844, 0.07276786256696419, 0.11088286261796212, 0.12569359760634558, 0.1792748075185449, 0.09842154288790843, 0.11358327342036163], [0.0, 0.13389478367053304, 0.07639889592803378, 0.07197978980785154, 0.06917240484902157, 0.10804221471374006, 0.12758602152898518, 0.18379370762483058, 0.10774775299982046, 0.12138443154160647], [0.0, 0.13283311920609675, 0.07409853118350343, 0.07159655920795163, 0.06796688493573386, 0.11751679445855685, 0.1220719109710919, 0.18874279931046642, 0.10646477350351262, 0.11870862989484121], [0.0, 0.1292664830117726, 0.07608291151967192, 0.06961874829787515, 0.07071282316685619, 0.1125001897828587, 0.12605471736878998, 0.19046054191981876, 0.10428251934871009, 0.12102106873125103], [0.0, 0.12587664645481333, 0.07096500404086446, 0.07180505551520008, 0.0643968003819001, 0.12088668260243636, 0.1259370603718336, 0.1897186483943047, 0.11065649012106375, 0.1197576148951692], [0.0, 0.12318671204814231, 0.0709550841523865, 0.06770733299332213, 0.0648647798698164, 0.12410079716480305, 0.12178370038471834, 0.19853090412409855, 0.10924227082714007, 0.1196284213377029], [0.0, 0.12494173474038331, 0.06944712967967695, 0.07093005821306626, 0.06597861871658697, 0.11449042724253992, 0.1232933279801681, 0.1967805467732155, 0.10983576464456224, 0.12430239512976744]], \"type\": \"heatmap\", \"colorscale\": \"Viridis\"}], {\"width\": 500, \"height\": 500, \"xaxis\": {\"title\": \"Predicted Class\", \"dtick\": 1, \"range\": [0.5, 9.5]}, \"title\": \"Confidence after 1000 Iterations at Glimpse 0\", \"yaxis\": {\"title\": \"True Class\", \"dtick\": 1, \"range\": [9.5, 0.5]}}, {\"linkText\": \"Export to plot.ly\", \"showLink\": true})});</script>"
      ],
      "text/vnd.plotly.v1+html": [
       "<div id=\"ee1186f2-34a3-4970-86b4-37066efbb629\" style=\"height: 500px; width: 500px;\" class=\"plotly-graph-div\"></div><script type=\"text/javascript\">require([\"plotly\"], function(Plotly) { window.PLOTLYENV=window.PLOTLYENV || {};window.PLOTLYENV.BASE_URL=\"https://plot.ly\";Plotly.newPlot(\"ee1186f2-34a3-4970-86b4-37066efbb629\", [{\"z\": [[0.0, 0.0, 0.0, 0.0, 0.0, 0.0, 0.0, 0.0, 0.0, 0.0], [0.0, 0.24879460619294874, 0.08991782709036941, 0.07407121443554678, 0.07181047405222259, 0.09700444787313471, 0.09772551545904239, 0.14384234794969, 0.08299691513885735, 0.09383665358874085], [0.0, 0.18228014695884348, 0.08175891333211924, 0.07488660393611052, 0.07150169480668282, 0.10838486195702304, 0.11395841114999097, 0.16606388412340053, 0.09167197032244769, 0.10949351493672146], [0.0, 0.14970066022467288, 0.07628274734984763, 0.07339264854617844, 0.07276786256696419, 0.11088286261796212, 0.12569359760634558, 0.1792748075185449, 0.09842154288790843, 0.11358327342036163], [0.0, 0.13389478367053304, 0.07639889592803378, 0.07197978980785154, 0.06917240484902157, 0.10804221471374006, 0.12758602152898518, 0.18379370762483058, 0.10774775299982046, 0.12138443154160647], [0.0, 0.13283311920609675, 0.07409853118350343, 0.07159655920795163, 0.06796688493573386, 0.11751679445855685, 0.1220719109710919, 0.18874279931046642, 0.10646477350351262, 0.11870862989484121], [0.0, 0.1292664830117726, 0.07608291151967192, 0.06961874829787515, 0.07071282316685619, 0.1125001897828587, 0.12605471736878998, 0.19046054191981876, 0.10428251934871009, 0.12102106873125103], [0.0, 0.12587664645481333, 0.07096500404086446, 0.07180505551520008, 0.0643968003819001, 0.12088668260243636, 0.1259370603718336, 0.1897186483943047, 0.11065649012106375, 0.1197576148951692], [0.0, 0.12318671204814231, 0.0709550841523865, 0.06770733299332213, 0.0648647798698164, 0.12410079716480305, 0.12178370038471834, 0.19853090412409855, 0.10924227082714007, 0.1196284213377029], [0.0, 0.12494173474038331, 0.06944712967967695, 0.07093005821306626, 0.06597861871658697, 0.11449042724253992, 0.1232933279801681, 0.1967805467732155, 0.10983576464456224, 0.12430239512976744]], \"type\": \"heatmap\", \"colorscale\": \"Viridis\"}], {\"width\": 500, \"height\": 500, \"xaxis\": {\"title\": \"Predicted Class\", \"dtick\": 1, \"range\": [0.5, 9.5]}, \"title\": \"Confidence after 1000 Iterations at Glimpse 0\", \"yaxis\": {\"title\": \"True Class\", \"dtick\": 1, \"range\": [9.5, 0.5]}}, {\"linkText\": \"Export to plot.ly\", \"showLink\": true})});</script>"
      ]
     },
     "metadata": {},
     "output_type": "display_data"
    },
    {
     "data": {
      "application/vnd.plotly.v1+json": {
       "data": [
        {
         "colorscale": "Viridis",
         "type": "heatmap",
         "z": [
          [
           0,
           0,
           0,
           0,
           0,
           0,
           0,
           0,
           0,
           0
          ],
          [
           0,
           0.45150000000000007,
           0.05299999999999999,
           0.05109999999999999,
           0.0475,
           0.06900000000000002,
           0.0769,
           0.1167,
           0.06060000000000001,
           0.07370000000000002
          ],
          [
           0,
           0.2488,
           0.07060000000000001,
           0.06720000000000001,
           0.0627,
           0.09940000000000002,
           0.1066,
           0.1578,
           0.08460000000000001,
           0.10230000000000002
          ],
          [
           0,
           0.1722,
           0.0708,
           0.07150000000000001,
           0.06910000000000001,
           0.10829999999999998,
           0.1238,
           0.17719999999999997,
           0.09480000000000002,
           0.1123
          ],
          [
           0,
           0.1386,
           0.07470000000000002,
           0.0716,
           0.06720000000000001,
           0.10719999999999999,
           0.12840000000000001,
           0.184,
           0.1069,
           0.12140000000000002
          ],
          [
           0,
           0.1356,
           0.0733,
           0.0718,
           0.0669,
           0.11709999999999998,
           0.12110000000000001,
           0.18850000000000003,
           0.1068,
           0.1189
          ],
          [
           0,
           0.13010000000000002,
           0.07610000000000001,
           0.06960000000000001,
           0.0713,
           0.11279999999999998,
           0.1255,
           0.18960000000000002,
           0.10410000000000001,
           0.12090000000000001
          ],
          [
           0,
           0.1259,
           0.07170000000000001,
           0.0713,
           0.0628,
           0.12119999999999997,
           0.12660000000000002,
           0.1903,
           0.1105,
           0.11969999999999999
          ],
          [
           0,
           0.12410000000000002,
           0.0708,
           0.0678,
           0.0644,
           0.12360000000000002,
           0.12160000000000001,
           0.1991,
           0.10900000000000001,
           0.11960000000000001
          ],
          [
           0,
           0.1248,
           0.07,
           0.07139999999999999,
           0.0664,
           0.11359999999999999,
           0.12210000000000001,
           0.19740000000000002,
           0.11040000000000001,
           0.12389999999999997
          ]
         ]
        }
       ],
       "layout": {
        "height": 500,
        "title": "Choice after 1000 Iterations at Glimpse 0",
        "width": 500,
        "xaxis": {
         "dtick": 1,
         "range": [
          0.5,
          9.5
         ],
         "title": "Predicted Class"
        },
        "yaxis": {
         "dtick": 1,
         "range": [
          9.5,
          0.5
         ],
         "title": "True Class"
        }
       }
      },
      "text/html": [
       "<div id=\"27d60766-4e45-4de8-a3d4-360dfb1a4e39\" style=\"height: 500px; width: 500px;\" class=\"plotly-graph-div\"></div><script type=\"text/javascript\">require([\"plotly\"], function(Plotly) { window.PLOTLYENV=window.PLOTLYENV || {};window.PLOTLYENV.BASE_URL=\"https://plot.ly\";Plotly.newPlot(\"27d60766-4e45-4de8-a3d4-360dfb1a4e39\", [{\"z\": [[0.0, 0.0, 0.0, 0.0, 0.0, 0.0, 0.0, 0.0, 0.0, 0.0], [0.0, 0.45150000000000007, 0.05299999999999999, 0.05109999999999999, 0.0475, 0.06900000000000002, 0.0769, 0.1167, 0.06060000000000001, 0.07370000000000002], [0.0, 0.2488, 0.07060000000000001, 0.06720000000000001, 0.0627, 0.09940000000000002, 0.1066, 0.1578, 0.08460000000000001, 0.10230000000000002], [0.0, 0.1722, 0.0708, 0.07150000000000001, 0.06910000000000001, 0.10829999999999998, 0.1238, 0.17719999999999997, 0.09480000000000002, 0.1123], [0.0, 0.1386, 0.07470000000000002, 0.0716, 0.06720000000000001, 0.10719999999999999, 0.12840000000000001, 0.184, 0.1069, 0.12140000000000002], [0.0, 0.1356, 0.0733, 0.0718, 0.0669, 0.11709999999999998, 0.12110000000000001, 0.18850000000000003, 0.1068, 0.1189], [0.0, 0.13010000000000002, 0.07610000000000001, 0.06960000000000001, 0.0713, 0.11279999999999998, 0.1255, 0.18960000000000002, 0.10410000000000001, 0.12090000000000001], [0.0, 0.1259, 0.07170000000000001, 0.0713, 0.0628, 0.12119999999999997, 0.12660000000000002, 0.1903, 0.1105, 0.11969999999999999], [0.0, 0.12410000000000002, 0.0708, 0.0678, 0.0644, 0.12360000000000002, 0.12160000000000001, 0.1991, 0.10900000000000001, 0.11960000000000001], [0.0, 0.1248, 0.07, 0.07139999999999999, 0.0664, 0.11359999999999999, 0.12210000000000001, 0.19740000000000002, 0.11040000000000001, 0.12389999999999997]], \"type\": \"heatmap\", \"colorscale\": \"Viridis\"}], {\"width\": 500, \"height\": 500, \"xaxis\": {\"title\": \"Predicted Class\", \"dtick\": 1, \"range\": [0.5, 9.5]}, \"title\": \"Choice after 1000 Iterations at Glimpse 0\", \"yaxis\": {\"title\": \"True Class\", \"dtick\": 1, \"range\": [9.5, 0.5]}}, {\"linkText\": \"Export to plot.ly\", \"showLink\": true})});</script>"
      ],
      "text/vnd.plotly.v1+html": [
       "<div id=\"27d60766-4e45-4de8-a3d4-360dfb1a4e39\" style=\"height: 500px; width: 500px;\" class=\"plotly-graph-div\"></div><script type=\"text/javascript\">require([\"plotly\"], function(Plotly) { window.PLOTLYENV=window.PLOTLYENV || {};window.PLOTLYENV.BASE_URL=\"https://plot.ly\";Plotly.newPlot(\"27d60766-4e45-4de8-a3d4-360dfb1a4e39\", [{\"z\": [[0.0, 0.0, 0.0, 0.0, 0.0, 0.0, 0.0, 0.0, 0.0, 0.0], [0.0, 0.45150000000000007, 0.05299999999999999, 0.05109999999999999, 0.0475, 0.06900000000000002, 0.0769, 0.1167, 0.06060000000000001, 0.07370000000000002], [0.0, 0.2488, 0.07060000000000001, 0.06720000000000001, 0.0627, 0.09940000000000002, 0.1066, 0.1578, 0.08460000000000001, 0.10230000000000002], [0.0, 0.1722, 0.0708, 0.07150000000000001, 0.06910000000000001, 0.10829999999999998, 0.1238, 0.17719999999999997, 0.09480000000000002, 0.1123], [0.0, 0.1386, 0.07470000000000002, 0.0716, 0.06720000000000001, 0.10719999999999999, 0.12840000000000001, 0.184, 0.1069, 0.12140000000000002], [0.0, 0.1356, 0.0733, 0.0718, 0.0669, 0.11709999999999998, 0.12110000000000001, 0.18850000000000003, 0.1068, 0.1189], [0.0, 0.13010000000000002, 0.07610000000000001, 0.06960000000000001, 0.0713, 0.11279999999999998, 0.1255, 0.18960000000000002, 0.10410000000000001, 0.12090000000000001], [0.0, 0.1259, 0.07170000000000001, 0.0713, 0.0628, 0.12119999999999997, 0.12660000000000002, 0.1903, 0.1105, 0.11969999999999999], [0.0, 0.12410000000000002, 0.0708, 0.0678, 0.0644, 0.12360000000000002, 0.12160000000000001, 0.1991, 0.10900000000000001, 0.11960000000000001], [0.0, 0.1248, 0.07, 0.07139999999999999, 0.0664, 0.11359999999999999, 0.12210000000000001, 0.19740000000000002, 0.11040000000000001, 0.12389999999999997]], \"type\": \"heatmap\", \"colorscale\": \"Viridis\"}], {\"width\": 500, \"height\": 500, \"xaxis\": {\"title\": \"Predicted Class\", \"dtick\": 1, \"range\": [0.5, 9.5]}, \"title\": \"Choice after 1000 Iterations at Glimpse 0\", \"yaxis\": {\"title\": \"True Class\", \"dtick\": 1, \"range\": [9.5, 0.5]}}, {\"linkText\": \"Export to plot.ly\", \"showLink\": true})});</script>"
      ]
     },
     "metadata": {},
     "output_type": "display_data"
    },
    {
     "data": {
      "application/vnd.plotly.v1+json": {
       "data": [
        {
         "colorscale": "Viridis",
         "type": "heatmap",
         "z": [
          [
           0,
           0,
           0,
           0,
           0,
           0,
           0,
           0,
           0,
           0
          ],
          [
           0,
           0.3443498760234735,
           0.07495521181896296,
           0.06743880375865964,
           0.054068301869793646,
           0.07580250736383373,
           0.09063824830460203,
           0.13933222524183106,
           0.0661076730970728,
           0.08730715483051218
          ],
          [
           0,
           0.2235252216677873,
           0.07659583644661667,
           0.07633810163901791,
           0.06591939920309174,
           0.09112667031106277,
           0.11327445219887466,
           0.1649798209261648,
           0.08037338414823234,
           0.1078671156360685
          ],
          [
           0,
           0.18458262141058673,
           0.07488969530923609,
           0.0803359065350364,
           0.06693971811020358,
           0.09739286626285869,
           0.11825903076914226,
           0.1744849925186867,
           0.08945425697378645,
           0.11366091520309411
          ],
          [
           0,
           0.16686960166627204,
           0.07387311291913651,
           0.08363103165807464,
           0.07336909329651807,
           0.09985441282486547,
           0.11668281145533761,
           0.1809614979736303,
           0.09080895009763779,
           0.11394949045967613
          ],
          [
           0,
           0.16977350954544587,
           0.07181633992892505,
           0.07724664948625126,
           0.0671010625631548,
           0.10703917121766045,
           0.11782861673369194,
           0.1857369844709391,
           0.08986325417925811,
           0.1135944131214702
          ],
          [
           0,
           0.16196177938038242,
           0.07614295092999962,
           0.07538920371497282,
           0.07258047201005306,
           0.1000621440551229,
           0.12354082552818217,
           0.19141592612281053,
           0.08838900462602922,
           0.11051769568020123
          ],
          [
           0,
           0.15974204925251298,
           0.07084526885322674,
           0.07688012137098149,
           0.07448949929189821,
           0.10477848549146125,
           0.11713814470921746,
           0.18949684172593745,
           0.09476267475070688,
           0.11186691639227431
          ],
          [
           0,
           0.16209075868754524,
           0.067840227980355,
           0.07520463431021347,
           0.0723172571133793,
           0.10558606822878085,
           0.11614508917609148,
           0.19363213563052098,
           0.09164276235658282,
           0.11554106876506687
          ],
          [
           0,
           0.15784903896601404,
           0.06747632832402094,
           0.07574970767577051,
           0.06959165075848239,
           0.10346219404892429,
           0.12401324720662905,
           0.1953259689660924,
           0.09274317521399937,
           0.11378869025363444
          ]
         ]
        }
       ],
       "layout": {
        "height": 500,
        "title": "Confidence after 1000 Iterations at Glimpse 3",
        "width": 500,
        "xaxis": {
         "dtick": 1,
         "range": [
          0.5,
          9.5
         ],
         "title": "Predicted Class"
        },
        "yaxis": {
         "dtick": 1,
         "range": [
          9.5,
          0.5
         ],
         "title": "True Class"
        }
       }
      },
      "text/html": [
       "<div id=\"b514f525-e3f0-4be9-8d7f-610478bf1d35\" style=\"height: 500px; width: 500px;\" class=\"plotly-graph-div\"></div><script type=\"text/javascript\">require([\"plotly\"], function(Plotly) { window.PLOTLYENV=window.PLOTLYENV || {};window.PLOTLYENV.BASE_URL=\"https://plot.ly\";Plotly.newPlot(\"b514f525-e3f0-4be9-8d7f-610478bf1d35\", [{\"z\": [[0.0, 0.0, 0.0, 0.0, 0.0, 0.0, 0.0, 0.0, 0.0, 0.0], [0.0, 0.3443498760234735, 0.07495521181896296, 0.06743880375865964, 0.054068301869793646, 0.07580250736383373, 0.09063824830460203, 0.13933222524183106, 0.0661076730970728, 0.08730715483051218], [0.0, 0.2235252216677873, 0.07659583644661667, 0.07633810163901791, 0.06591939920309174, 0.09112667031106277, 0.11327445219887466, 0.1649798209261648, 0.08037338414823234, 0.1078671156360685], [0.0, 0.18458262141058673, 0.07488969530923609, 0.0803359065350364, 0.06693971811020358, 0.09739286626285869, 0.11825903076914226, 0.1744849925186867, 0.08945425697378645, 0.11366091520309411], [0.0, 0.16686960166627204, 0.07387311291913651, 0.08363103165807464, 0.07336909329651807, 0.09985441282486547, 0.11668281145533761, 0.1809614979736303, 0.09080895009763779, 0.11394949045967613], [0.0, 0.16977350954544587, 0.07181633992892505, 0.07724664948625126, 0.0671010625631548, 0.10703917121766045, 0.11782861673369194, 0.1857369844709391, 0.08986325417925811, 0.1135944131214702], [0.0, 0.16196177938038242, 0.07614295092999962, 0.07538920371497282, 0.07258047201005306, 0.1000621440551229, 0.12354082552818217, 0.19141592612281053, 0.08838900462602922, 0.11051769568020123], [0.0, 0.15974204925251298, 0.07084526885322674, 0.07688012137098149, 0.07448949929189821, 0.10477848549146125, 0.11713814470921746, 0.18949684172593745, 0.09476267475070688, 0.11186691639227431], [0.0, 0.16209075868754524, 0.067840227980355, 0.07520463431021347, 0.0723172571133793, 0.10558606822878085, 0.11614508917609148, 0.19363213563052098, 0.09164276235658282, 0.11554106876506687], [0.0, 0.15784903896601404, 0.06747632832402094, 0.07574970767577051, 0.06959165075848239, 0.10346219404892429, 0.12401324720662905, 0.1953259689660924, 0.09274317521399937, 0.11378869025363444]], \"type\": \"heatmap\", \"colorscale\": \"Viridis\"}], {\"width\": 500, \"height\": 500, \"xaxis\": {\"title\": \"Predicted Class\", \"dtick\": 1, \"range\": [0.5, 9.5]}, \"title\": \"Confidence after 1000 Iterations at Glimpse 3\", \"yaxis\": {\"title\": \"True Class\", \"dtick\": 1, \"range\": [9.5, 0.5]}}, {\"linkText\": \"Export to plot.ly\", \"showLink\": true})});</script>"
      ],
      "text/vnd.plotly.v1+html": [
       "<div id=\"b514f525-e3f0-4be9-8d7f-610478bf1d35\" style=\"height: 500px; width: 500px;\" class=\"plotly-graph-div\"></div><script type=\"text/javascript\">require([\"plotly\"], function(Plotly) { window.PLOTLYENV=window.PLOTLYENV || {};window.PLOTLYENV.BASE_URL=\"https://plot.ly\";Plotly.newPlot(\"b514f525-e3f0-4be9-8d7f-610478bf1d35\", [{\"z\": [[0.0, 0.0, 0.0, 0.0, 0.0, 0.0, 0.0, 0.0, 0.0, 0.0], [0.0, 0.3443498760234735, 0.07495521181896296, 0.06743880375865964, 0.054068301869793646, 0.07580250736383373, 0.09063824830460203, 0.13933222524183106, 0.0661076730970728, 0.08730715483051218], [0.0, 0.2235252216677873, 0.07659583644661667, 0.07633810163901791, 0.06591939920309174, 0.09112667031106277, 0.11327445219887466, 0.1649798209261648, 0.08037338414823234, 0.1078671156360685], [0.0, 0.18458262141058673, 0.07488969530923609, 0.0803359065350364, 0.06693971811020358, 0.09739286626285869, 0.11825903076914226, 0.1744849925186867, 0.08945425697378645, 0.11366091520309411], [0.0, 0.16686960166627204, 0.07387311291913651, 0.08363103165807464, 0.07336909329651807, 0.09985441282486547, 0.11668281145533761, 0.1809614979736303, 0.09080895009763779, 0.11394949045967613], [0.0, 0.16977350954544587, 0.07181633992892505, 0.07724664948625126, 0.0671010625631548, 0.10703917121766045, 0.11782861673369194, 0.1857369844709391, 0.08986325417925811, 0.1135944131214702], [0.0, 0.16196177938038242, 0.07614295092999962, 0.07538920371497282, 0.07258047201005306, 0.1000621440551229, 0.12354082552818217, 0.19141592612281053, 0.08838900462602922, 0.11051769568020123], [0.0, 0.15974204925251298, 0.07084526885322674, 0.07688012137098149, 0.07448949929189821, 0.10477848549146125, 0.11713814470921746, 0.18949684172593745, 0.09476267475070688, 0.11186691639227431], [0.0, 0.16209075868754524, 0.067840227980355, 0.07520463431021347, 0.0723172571133793, 0.10558606822878085, 0.11614508917609148, 0.19363213563052098, 0.09164276235658282, 0.11554106876506687], [0.0, 0.15784903896601404, 0.06747632832402094, 0.07574970767577051, 0.06959165075848239, 0.10346219404892429, 0.12401324720662905, 0.1953259689660924, 0.09274317521399937, 0.11378869025363444]], \"type\": \"heatmap\", \"colorscale\": \"Viridis\"}], {\"width\": 500, \"height\": 500, \"xaxis\": {\"title\": \"Predicted Class\", \"dtick\": 1, \"range\": [0.5, 9.5]}, \"title\": \"Confidence after 1000 Iterations at Glimpse 3\", \"yaxis\": {\"title\": \"True Class\", \"dtick\": 1, \"range\": [9.5, 0.5]}}, {\"linkText\": \"Export to plot.ly\", \"showLink\": true})});</script>"
      ]
     },
     "metadata": {},
     "output_type": "display_data"
    },
    {
     "data": {
      "application/vnd.plotly.v1+json": {
       "data": [
        {
         "colorscale": "Viridis",
         "type": "heatmap",
         "z": [
          [
           0,
           0,
           0,
           0,
           0,
           0,
           0,
           0,
           0,
           0
          ],
          [
           0,
           0.36679999999999996,
           0.0669,
           0.0659,
           0.0519,
           0.07310000000000001,
           0.0879,
           0.1364,
           0.0638,
           0.08730000000000002
          ],
          [
           0,
           0.22949999999999998,
           0.07410000000000001,
           0.0767,
           0.0653,
           0.0891,
           0.11280000000000001,
           0.1641,
           0.081,
           0.10740000000000001
          ],
          [
           0,
           0.1862,
           0.07410000000000001,
           0.08020000000000002,
           0.0664,
           0.0972,
           0.1187,
           0.17450000000000002,
           0.08940000000000001,
           0.1133
          ],
          [
           0,
           0.1671,
           0.07370000000000002,
           0.08329999999999999,
           0.0735,
           0.10070000000000001,
           0.11590000000000003,
           0.18050000000000002,
           0.09070000000000002,
           0.1146
          ],
          [
           0,
           0.17159999999999997,
           0.0713,
           0.07719999999999999,
           0.06670000000000001,
           0.1062,
           0.11800000000000002,
           0.18570000000000003,
           0.08940000000000001,
           0.1139
          ],
          [
           0,
           0.16169999999999998,
           0.07700000000000001,
           0.07510000000000001,
           0.0722,
           0.09970000000000001,
           0.12310000000000003,
           0.19169999999999998,
           0.08870000000000001,
           0.11079999999999998
          ],
          [
           0,
           0.16,
           0.07020000000000001,
           0.0765,
           0.0751,
           0.1046,
           0.11710000000000002,
           0.1893,
           0.09560000000000002,
           0.11159999999999999
          ],
          [
           0,
           0.16250000000000003,
           0.06810000000000001,
           0.0751,
           0.07210000000000001,
           0.10600000000000001,
           0.1157,
           0.1924,
           0.09270000000000002,
           0.11539999999999999
          ],
          [
           0,
           0.1585,
           0.06750000000000002,
           0.0757,
           0.0688,
           0.10350000000000001,
           0.1234,
           0.1951,
           0.09330000000000002,
           0.1142
          ]
         ]
        }
       ],
       "layout": {
        "height": 500,
        "title": "Choice after 1000 Iterations at Glimpse 3",
        "width": 500,
        "xaxis": {
         "dtick": 1,
         "range": [
          0.5,
          9.5
         ],
         "title": "Predicted Class"
        },
        "yaxis": {
         "dtick": 1,
         "range": [
          9.5,
          0.5
         ],
         "title": "True Class"
        }
       }
      },
      "text/html": [
       "<div id=\"7a5d1d17-aa8d-4b99-a07d-8f3125dc0a1b\" style=\"height: 500px; width: 500px;\" class=\"plotly-graph-div\"></div><script type=\"text/javascript\">require([\"plotly\"], function(Plotly) { window.PLOTLYENV=window.PLOTLYENV || {};window.PLOTLYENV.BASE_URL=\"https://plot.ly\";Plotly.newPlot(\"7a5d1d17-aa8d-4b99-a07d-8f3125dc0a1b\", [{\"z\": [[0.0, 0.0, 0.0, 0.0, 0.0, 0.0, 0.0, 0.0, 0.0, 0.0], [0.0, 0.36679999999999996, 0.0669, 0.0659, 0.0519, 0.07310000000000001, 0.0879, 0.1364, 0.0638, 0.08730000000000002], [0.0, 0.22949999999999998, 0.07410000000000001, 0.0767, 0.0653, 0.0891, 0.11280000000000001, 0.1641, 0.081, 0.10740000000000001], [0.0, 0.1862, 0.07410000000000001, 0.08020000000000002, 0.0664, 0.0972, 0.1187, 0.17450000000000002, 0.08940000000000001, 0.1133], [0.0, 0.1671, 0.07370000000000002, 0.08329999999999999, 0.0735, 0.10070000000000001, 0.11590000000000003, 0.18050000000000002, 0.09070000000000002, 0.1146], [0.0, 0.17159999999999997, 0.0713, 0.07719999999999999, 0.06670000000000001, 0.1062, 0.11800000000000002, 0.18570000000000003, 0.08940000000000001, 0.1139], [0.0, 0.16169999999999998, 0.07700000000000001, 0.07510000000000001, 0.0722, 0.09970000000000001, 0.12310000000000003, 0.19169999999999998, 0.08870000000000001, 0.11079999999999998], [0.0, 0.16, 0.07020000000000001, 0.0765, 0.0751, 0.1046, 0.11710000000000002, 0.1893, 0.09560000000000002, 0.11159999999999999], [0.0, 0.16250000000000003, 0.06810000000000001, 0.0751, 0.07210000000000001, 0.10600000000000001, 0.1157, 0.1924, 0.09270000000000002, 0.11539999999999999], [0.0, 0.1585, 0.06750000000000002, 0.0757, 0.0688, 0.10350000000000001, 0.1234, 0.1951, 0.09330000000000002, 0.1142]], \"type\": \"heatmap\", \"colorscale\": \"Viridis\"}], {\"width\": 500, \"height\": 500, \"xaxis\": {\"title\": \"Predicted Class\", \"dtick\": 1, \"range\": [0.5, 9.5]}, \"title\": \"Choice after 1000 Iterations at Glimpse 3\", \"yaxis\": {\"title\": \"True Class\", \"dtick\": 1, \"range\": [9.5, 0.5]}}, {\"linkText\": \"Export to plot.ly\", \"showLink\": true})});</script>"
      ],
      "text/vnd.plotly.v1+html": [
       "<div id=\"7a5d1d17-aa8d-4b99-a07d-8f3125dc0a1b\" style=\"height: 500px; width: 500px;\" class=\"plotly-graph-div\"></div><script type=\"text/javascript\">require([\"plotly\"], function(Plotly) { window.PLOTLYENV=window.PLOTLYENV || {};window.PLOTLYENV.BASE_URL=\"https://plot.ly\";Plotly.newPlot(\"7a5d1d17-aa8d-4b99-a07d-8f3125dc0a1b\", [{\"z\": [[0.0, 0.0, 0.0, 0.0, 0.0, 0.0, 0.0, 0.0, 0.0, 0.0], [0.0, 0.36679999999999996, 0.0669, 0.0659, 0.0519, 0.07310000000000001, 0.0879, 0.1364, 0.0638, 0.08730000000000002], [0.0, 0.22949999999999998, 0.07410000000000001, 0.0767, 0.0653, 0.0891, 0.11280000000000001, 0.1641, 0.081, 0.10740000000000001], [0.0, 0.1862, 0.07410000000000001, 0.08020000000000002, 0.0664, 0.0972, 0.1187, 0.17450000000000002, 0.08940000000000001, 0.1133], [0.0, 0.1671, 0.07370000000000002, 0.08329999999999999, 0.0735, 0.10070000000000001, 0.11590000000000003, 0.18050000000000002, 0.09070000000000002, 0.1146], [0.0, 0.17159999999999997, 0.0713, 0.07719999999999999, 0.06670000000000001, 0.1062, 0.11800000000000002, 0.18570000000000003, 0.08940000000000001, 0.1139], [0.0, 0.16169999999999998, 0.07700000000000001, 0.07510000000000001, 0.0722, 0.09970000000000001, 0.12310000000000003, 0.19169999999999998, 0.08870000000000001, 0.11079999999999998], [0.0, 0.16, 0.07020000000000001, 0.0765, 0.0751, 0.1046, 0.11710000000000002, 0.1893, 0.09560000000000002, 0.11159999999999999], [0.0, 0.16250000000000003, 0.06810000000000001, 0.0751, 0.07210000000000001, 0.10600000000000001, 0.1157, 0.1924, 0.09270000000000002, 0.11539999999999999], [0.0, 0.1585, 0.06750000000000002, 0.0757, 0.0688, 0.10350000000000001, 0.1234, 0.1951, 0.09330000000000002, 0.1142]], \"type\": \"heatmap\", \"colorscale\": \"Viridis\"}], {\"width\": 500, \"height\": 500, \"xaxis\": {\"title\": \"Predicted Class\", \"dtick\": 1, \"range\": [0.5, 9.5]}, \"title\": \"Choice after 1000 Iterations at Glimpse 3\", \"yaxis\": {\"title\": \"True Class\", \"dtick\": 1, \"range\": [9.5, 0.5]}}, {\"linkText\": \"Export to plot.ly\", \"showLink\": true})});</script>"
      ]
     },
     "metadata": {},
     "output_type": "display_data"
    },
    {
     "data": {
      "application/vnd.plotly.v1+json": {
       "data": [
        {
         "colorscale": "Viridis",
         "type": "heatmap",
         "z": [
          [
           0,
           0,
           0,
           0,
           0,
           0,
           0,
           0,
           0,
           0
          ],
          [
           0,
           0.46001042116356555,
           0.07787173616433543,
           0.054058961921853235,
           0.05427192520798021,
           0.055681209629294515,
           0.06974584956745893,
           0.11251629750606548,
           0.045888541609893994,
           0.069955061728414
          ],
          [
           0,
           0.3387302661460393,
           0.08990193851278046,
           0.06836114138720593,
           0.06530101412880138,
           0.07414088015382125,
           0.0840641562133454,
           0.13598152526802537,
           0.059093007973816024,
           0.08442607353742067
          ],
          [
           0,
           0.295684561607657,
           0.08520648906013052,
           0.07029214997841764,
           0.07238438449490481,
           0.07828597160018932,
           0.08951168014338004,
           0.15037835759620738,
           0.06462213107638962,
           0.09363427701460118
          ],
          [
           0,
           0.266083552442326,
           0.0855610010438032,
           0.07791302509094652,
           0.07085397164684,
           0.08157291445973608,
           0.09262648909490903,
           0.15602363552366594,
           0.07566041250186165,
           0.0937050005984137
          ],
          [
           0,
           0.25864509609954417,
           0.08962143829932487,
           0.07044384102642086,
           0.07117161688896642,
           0.0829506382221055,
           0.09569746845468315,
           0.15745522333104134,
           0.07568070864806058,
           0.09833397096834778
          ],
          [
           0,
           0.2424232669741913,
           0.08279677408597858,
           0.07220387256704158,
           0.07682995079766979,
           0.086185605190927,
           0.09797269668598726,
           0.16124689601866113,
           0.08197030995800988,
           0.09837062954133423
          ],
          [
           0,
           0.24436872027901008,
           0.08369456701041163,
           0.07030586780522066,
           0.08159298526908976,
           0.08218821632076376,
           0.09564331648065834,
           0.15856072666864302,
           0.08683758188545261,
           0.09680801981081474
          ],
          [
           0,
           0.24102198244517026,
           0.08223301245404915,
           0.0705547700939672,
           0.07675838951398423,
           0.084722802206424,
           0.09628899398411533,
           0.1676730778005297,
           0.0846304320139665,
           0.09611654174696045
          ],
          [
           0,
           0.2335686056147371,
           0.08262800367861232,
           0.0714958671872886,
           0.08010937348686119,
           0.08919085227807613,
           0.09852824773792405,
           0.16541412680695794,
           0.08184874380989968,
           0.09721618091942338
          ]
         ]
        }
       ],
       "layout": {
        "height": 500,
        "title": "Confidence after 1000 Iterations at Glimpse 9",
        "width": 500,
        "xaxis": {
         "dtick": 1,
         "range": [
          0.5,
          9.5
         ],
         "title": "Predicted Class"
        },
        "yaxis": {
         "dtick": 1,
         "range": [
          9.5,
          0.5
         ],
         "title": "True Class"
        }
       }
      },
      "text/html": [
       "<div id=\"cd4f2fa8-e8e9-41f7-a456-11b751c7e0a5\" style=\"height: 500px; width: 500px;\" class=\"plotly-graph-div\"></div><script type=\"text/javascript\">require([\"plotly\"], function(Plotly) { window.PLOTLYENV=window.PLOTLYENV || {};window.PLOTLYENV.BASE_URL=\"https://plot.ly\";Plotly.newPlot(\"cd4f2fa8-e8e9-41f7-a456-11b751c7e0a5\", [{\"z\": [[0.0, 0.0, 0.0, 0.0, 0.0, 0.0, 0.0, 0.0, 0.0, 0.0], [0.0, 0.46001042116356555, 0.07787173616433543, 0.054058961921853235, 0.05427192520798021, 0.055681209629294515, 0.06974584956745893, 0.11251629750606548, 0.045888541609893994, 0.069955061728414], [0.0, 0.3387302661460393, 0.08990193851278046, 0.06836114138720593, 0.06530101412880138, 0.07414088015382125, 0.0840641562133454, 0.13598152526802537, 0.059093007973816024, 0.08442607353742067], [0.0, 0.295684561607657, 0.08520648906013052, 0.07029214997841764, 0.07238438449490481, 0.07828597160018932, 0.08951168014338004, 0.15037835759620738, 0.06462213107638962, 0.09363427701460118], [0.0, 0.266083552442326, 0.0855610010438032, 0.07791302509094652, 0.07085397164684, 0.08157291445973608, 0.09262648909490903, 0.15602363552366594, 0.07566041250186165, 0.0937050005984137], [0.0, 0.25864509609954417, 0.08962143829932487, 0.07044384102642086, 0.07117161688896642, 0.0829506382221055, 0.09569746845468315, 0.15745522333104134, 0.07568070864806058, 0.09833397096834778], [0.0, 0.2424232669741913, 0.08279677408597858, 0.07220387256704158, 0.07682995079766979, 0.086185605190927, 0.09797269668598726, 0.16124689601866113, 0.08197030995800988, 0.09837062954133423], [0.0, 0.24436872027901008, 0.08369456701041163, 0.07030586780522066, 0.08159298526908976, 0.08218821632076376, 0.09564331648065834, 0.15856072666864302, 0.08683758188545261, 0.09680801981081474], [0.0, 0.24102198244517026, 0.08223301245404915, 0.0705547700939672, 0.07675838951398423, 0.084722802206424, 0.09628899398411533, 0.1676730778005297, 0.0846304320139665, 0.09611654174696045], [0.0, 0.2335686056147371, 0.08262800367861232, 0.0714958671872886, 0.08010937348686119, 0.08919085227807613, 0.09852824773792405, 0.16541412680695794, 0.08184874380989968, 0.09721618091942338]], \"type\": \"heatmap\", \"colorscale\": \"Viridis\"}], {\"width\": 500, \"height\": 500, \"xaxis\": {\"title\": \"Predicted Class\", \"dtick\": 1, \"range\": [0.5, 9.5]}, \"title\": \"Confidence after 1000 Iterations at Glimpse 9\", \"yaxis\": {\"title\": \"True Class\", \"dtick\": 1, \"range\": [9.5, 0.5]}}, {\"linkText\": \"Export to plot.ly\", \"showLink\": true})});</script>"
      ],
      "text/vnd.plotly.v1+html": [
       "<div id=\"cd4f2fa8-e8e9-41f7-a456-11b751c7e0a5\" style=\"height: 500px; width: 500px;\" class=\"plotly-graph-div\"></div><script type=\"text/javascript\">require([\"plotly\"], function(Plotly) { window.PLOTLYENV=window.PLOTLYENV || {};window.PLOTLYENV.BASE_URL=\"https://plot.ly\";Plotly.newPlot(\"cd4f2fa8-e8e9-41f7-a456-11b751c7e0a5\", [{\"z\": [[0.0, 0.0, 0.0, 0.0, 0.0, 0.0, 0.0, 0.0, 0.0, 0.0], [0.0, 0.46001042116356555, 0.07787173616433543, 0.054058961921853235, 0.05427192520798021, 0.055681209629294515, 0.06974584956745893, 0.11251629750606548, 0.045888541609893994, 0.069955061728414], [0.0, 0.3387302661460393, 0.08990193851278046, 0.06836114138720593, 0.06530101412880138, 0.07414088015382125, 0.0840641562133454, 0.13598152526802537, 0.059093007973816024, 0.08442607353742067], [0.0, 0.295684561607657, 0.08520648906013052, 0.07029214997841764, 0.07238438449490481, 0.07828597160018932, 0.08951168014338004, 0.15037835759620738, 0.06462213107638962, 0.09363427701460118], [0.0, 0.266083552442326, 0.0855610010438032, 0.07791302509094652, 0.07085397164684, 0.08157291445973608, 0.09262648909490903, 0.15602363552366594, 0.07566041250186165, 0.0937050005984137], [0.0, 0.25864509609954417, 0.08962143829932487, 0.07044384102642086, 0.07117161688896642, 0.0829506382221055, 0.09569746845468315, 0.15745522333104134, 0.07568070864806058, 0.09833397096834778], [0.0, 0.2424232669741913, 0.08279677408597858, 0.07220387256704158, 0.07682995079766979, 0.086185605190927, 0.09797269668598726, 0.16124689601866113, 0.08197030995800988, 0.09837062954133423], [0.0, 0.24436872027901008, 0.08369456701041163, 0.07030586780522066, 0.08159298526908976, 0.08218821632076376, 0.09564331648065834, 0.15856072666864302, 0.08683758188545261, 0.09680801981081474], [0.0, 0.24102198244517026, 0.08223301245404915, 0.0705547700939672, 0.07675838951398423, 0.084722802206424, 0.09628899398411533, 0.1676730778005297, 0.0846304320139665, 0.09611654174696045], [0.0, 0.2335686056147371, 0.08262800367861232, 0.0714958671872886, 0.08010937348686119, 0.08919085227807613, 0.09852824773792405, 0.16541412680695794, 0.08184874380989968, 0.09721618091942338]], \"type\": \"heatmap\", \"colorscale\": \"Viridis\"}], {\"width\": 500, \"height\": 500, \"xaxis\": {\"title\": \"Predicted Class\", \"dtick\": 1, \"range\": [0.5, 9.5]}, \"title\": \"Confidence after 1000 Iterations at Glimpse 9\", \"yaxis\": {\"title\": \"True Class\", \"dtick\": 1, \"range\": [9.5, 0.5]}}, {\"linkText\": \"Export to plot.ly\", \"showLink\": true})});</script>"
      ]
     },
     "metadata": {},
     "output_type": "display_data"
    },
    {
     "data": {
      "application/vnd.plotly.v1+json": {
       "data": [
        {
         "colorscale": "Viridis",
         "type": "heatmap",
         "z": [
          [
           0,
           0,
           0,
           0,
           0,
           0,
           0,
           0,
           0,
           0
          ],
          [
           0,
           0.46480000000000005,
           0.0743,
           0.054099999999999995,
           0.0546,
           0.054900000000000004,
           0.06910000000000001,
           0.1121,
           0.046,
           0.07010000000000001
          ],
          [
           0,
           0.34130000000000005,
           0.0895,
           0.0681,
           0.0639,
           0.07310000000000001,
           0.08440000000000002,
           0.13620000000000004,
           0.0593,
           0.0842
          ],
          [
           0,
           0.2968,
           0.0848,
           0.07039999999999999,
           0.07260000000000001,
           0.07820000000000002,
           0.08900000000000001,
           0.15030000000000002,
           0.06369999999999999,
           0.09419999999999999
          ],
          [
           0,
           0.2678,
           0.08450000000000002,
           0.07830000000000001,
           0.07050000000000001,
           0.0808,
           0.09200000000000001,
           0.1567,
           0.0758,
           0.09360000000000002
          ],
          [
           0,
           0.25880000000000003,
           0.0893,
           0.06960000000000001,
           0.07100000000000001,
           0.0825,
           0.0963,
           0.1574,
           0.0759,
           0.0992
          ],
          [
           0,
           0.24300000000000002,
           0.08349999999999999,
           0.07189999999999999,
           0.07610000000000001,
           0.08700000000000001,
           0.09750000000000002,
           0.1609,
           0.0814,
           0.09870000000000001
          ],
          [
           0,
           0.24560000000000004,
           0.0834,
           0.0703,
           0.08250000000000002,
           0.08080000000000001,
           0.095,
           0.1588,
           0.0868,
           0.0968
          ],
          [
           0,
           0.2411,
           0.08230000000000001,
           0.07020000000000001,
           0.07680000000000001,
           0.0858,
           0.09620000000000002,
           0.1668,
           0.08520000000000001,
           0.0956
          ],
          [
           0,
           0.2333,
           0.08230000000000001,
           0.07160000000000001,
           0.08010000000000002,
           0.0893,
           0.09870000000000002,
           0.1659,
           0.0815,
           0.0973
          ]
         ]
        }
       ],
       "layout": {
        "height": 500,
        "title": "Choice after 1000 Iterations at Glimpse 9",
        "width": 500,
        "xaxis": {
         "dtick": 1,
         "range": [
          0.5,
          9.5
         ],
         "title": "Predicted Class"
        },
        "yaxis": {
         "dtick": 1,
         "range": [
          9.5,
          0.5
         ],
         "title": "True Class"
        }
       }
      },
      "text/html": [
       "<div id=\"edc4500f-1a78-4dc0-aa34-755e9a98cbf6\" style=\"height: 500px; width: 500px;\" class=\"plotly-graph-div\"></div><script type=\"text/javascript\">require([\"plotly\"], function(Plotly) { window.PLOTLYENV=window.PLOTLYENV || {};window.PLOTLYENV.BASE_URL=\"https://plot.ly\";Plotly.newPlot(\"edc4500f-1a78-4dc0-aa34-755e9a98cbf6\", [{\"z\": [[0.0, 0.0, 0.0, 0.0, 0.0, 0.0, 0.0, 0.0, 0.0, 0.0], [0.0, 0.46480000000000005, 0.0743, 0.054099999999999995, 0.0546, 0.054900000000000004, 0.06910000000000001, 0.1121, 0.046, 0.07010000000000001], [0.0, 0.34130000000000005, 0.0895, 0.0681, 0.0639, 0.07310000000000001, 0.08440000000000002, 0.13620000000000004, 0.0593, 0.0842], [0.0, 0.2968, 0.0848, 0.07039999999999999, 0.07260000000000001, 0.07820000000000002, 0.08900000000000001, 0.15030000000000002, 0.06369999999999999, 0.09419999999999999], [0.0, 0.2678, 0.08450000000000002, 0.07830000000000001, 0.07050000000000001, 0.0808, 0.09200000000000001, 0.1567, 0.0758, 0.09360000000000002], [0.0, 0.25880000000000003, 0.0893, 0.06960000000000001, 0.07100000000000001, 0.0825, 0.0963, 0.1574, 0.0759, 0.0992], [0.0, 0.24300000000000002, 0.08349999999999999, 0.07189999999999999, 0.07610000000000001, 0.08700000000000001, 0.09750000000000002, 0.1609, 0.0814, 0.09870000000000001], [0.0, 0.24560000000000004, 0.0834, 0.0703, 0.08250000000000002, 0.08080000000000001, 0.095, 0.1588, 0.0868, 0.0968], [0.0, 0.2411, 0.08230000000000001, 0.07020000000000001, 0.07680000000000001, 0.0858, 0.09620000000000002, 0.1668, 0.08520000000000001, 0.0956], [0.0, 0.2333, 0.08230000000000001, 0.07160000000000001, 0.08010000000000002, 0.0893, 0.09870000000000002, 0.1659, 0.0815, 0.0973]], \"type\": \"heatmap\", \"colorscale\": \"Viridis\"}], {\"width\": 500, \"height\": 500, \"xaxis\": {\"title\": \"Predicted Class\", \"dtick\": 1, \"range\": [0.5, 9.5]}, \"title\": \"Choice after 1000 Iterations at Glimpse 9\", \"yaxis\": {\"title\": \"True Class\", \"dtick\": 1, \"range\": [9.5, 0.5]}}, {\"linkText\": \"Export to plot.ly\", \"showLink\": true})});</script>"
      ],
      "text/vnd.plotly.v1+html": [
       "<div id=\"edc4500f-1a78-4dc0-aa34-755e9a98cbf6\" style=\"height: 500px; width: 500px;\" class=\"plotly-graph-div\"></div><script type=\"text/javascript\">require([\"plotly\"], function(Plotly) { window.PLOTLYENV=window.PLOTLYENV || {};window.PLOTLYENV.BASE_URL=\"https://plot.ly\";Plotly.newPlot(\"edc4500f-1a78-4dc0-aa34-755e9a98cbf6\", [{\"z\": [[0.0, 0.0, 0.0, 0.0, 0.0, 0.0, 0.0, 0.0, 0.0, 0.0], [0.0, 0.46480000000000005, 0.0743, 0.054099999999999995, 0.0546, 0.054900000000000004, 0.06910000000000001, 0.1121, 0.046, 0.07010000000000001], [0.0, 0.34130000000000005, 0.0895, 0.0681, 0.0639, 0.07310000000000001, 0.08440000000000002, 0.13620000000000004, 0.0593, 0.0842], [0.0, 0.2968, 0.0848, 0.07039999999999999, 0.07260000000000001, 0.07820000000000002, 0.08900000000000001, 0.15030000000000002, 0.06369999999999999, 0.09419999999999999], [0.0, 0.2678, 0.08450000000000002, 0.07830000000000001, 0.07050000000000001, 0.0808, 0.09200000000000001, 0.1567, 0.0758, 0.09360000000000002], [0.0, 0.25880000000000003, 0.0893, 0.06960000000000001, 0.07100000000000001, 0.0825, 0.0963, 0.1574, 0.0759, 0.0992], [0.0, 0.24300000000000002, 0.08349999999999999, 0.07189999999999999, 0.07610000000000001, 0.08700000000000001, 0.09750000000000002, 0.1609, 0.0814, 0.09870000000000001], [0.0, 0.24560000000000004, 0.0834, 0.0703, 0.08250000000000002, 0.08080000000000001, 0.095, 0.1588, 0.0868, 0.0968], [0.0, 0.2411, 0.08230000000000001, 0.07020000000000001, 0.07680000000000001, 0.0858, 0.09620000000000002, 0.1668, 0.08520000000000001, 0.0956], [0.0, 0.2333, 0.08230000000000001, 0.07160000000000001, 0.08010000000000002, 0.0893, 0.09870000000000002, 0.1659, 0.0815, 0.0973]], \"type\": \"heatmap\", \"colorscale\": \"Viridis\"}], {\"width\": 500, \"height\": 500, \"xaxis\": {\"title\": \"Predicted Class\", \"dtick\": 1, \"range\": [0.5, 9.5]}, \"title\": \"Choice after 1000 Iterations at Glimpse 9\", \"yaxis\": {\"title\": \"True Class\", \"dtick\": 1, \"range\": [9.5, 0.5]}}, {\"linkText\": \"Export to plot.ly\", \"showLink\": true})});</script>"
      ]
     },
     "metadata": {},
     "output_type": "display_data"
    },
    {
     "data": {
      "application/vnd.plotly.v1+json": {
       "data": [
        {
         "colorscale": "Viridis",
         "type": "heatmap",
         "z": [
          [
           0,
           0,
           0,
           0,
           0,
           0,
           0,
           0,
           0,
           0
          ],
          [
           0,
           0.47691194061539166,
           0.1866976158771197,
           0.06734402347014423,
           0.053000413327851284,
           0.05522948154648283,
           0.04191179436423988,
           0.06129081575782939,
           0.03109877281150162,
           0.026515142327321318
          ],
          [
           0,
           0.3840112764166105,
           0.1602689154091684,
           0.07361814552292496,
           0.059111646064026926,
           0.0794391653770617,
           0.06637642313824343,
           0.08799225374393557,
           0.04643940454479646,
           0.042742772606886414
          ],
          [
           0,
           0.31544903452919326,
           0.14384465665527804,
           0.0837471657318428,
           0.06568810139644968,
           0.09401170290090533,
           0.07898063578728805,
           0.11306530293937331,
           0.057463393576045185,
           0.04775000949909895
          ],
          [
           0,
           0.27296495753001854,
           0.13748119142225365,
           0.08446529514263348,
           0.0725198071324539,
           0.10295716738168086,
           0.0879536668686598,
           0.12259566213827981,
           0.061627893151047296,
           0.057434361358539354
          ],
          [
           0,
           0.26256851356738414,
           0.11770662496443773,
           0.083670752872687,
           0.07431014912534625,
           0.10876426849854406,
           0.09668061349486698,
           0.12667096919607765,
           0.07041862720433614,
           0.05920948420119267
          ],
          [
           0,
           0.2320276001266664,
           0.12527147864915028,
           0.08010140770308953,
           0.07745694205830879,
           0.10534370661466849,
           0.10210139482152533,
           0.1407671378468046,
           0.0741731382030987,
           0.06275719791494298
          ],
          [
           0,
           0.21900028490371218,
           0.12034984135834954,
           0.08301384434876494,
           0.07592648556907514,
           0.10755820142462158,
           0.10808597321595784,
           0.14097400887544861,
           0.07386550852196092,
           0.07122585550393541
          ],
          [
           0,
           0.20754157291868996,
           0.11134152509997448,
           0.08433747422507556,
           0.08121386786678045,
           0.10962514322769328,
           0.1113912483495483,
           0.13867998155342787,
           0.08408131054424792,
           0.07178787973834005
          ],
          [
           0,
           0.21150295764169016,
           0.11429327555903082,
           0.0857487787964872,
           0.07517379417325747,
           0.11171852986588553,
           0.10494904206953018,
           0.14347230194645305,
           0.08191407277597915,
           0.07122724968344898
          ]
         ]
        }
       ],
       "layout": {
        "height": 500,
        "title": "Confidence after 4000 Iterations at Glimpse 0",
        "width": 500,
        "xaxis": {
         "dtick": 1,
         "range": [
          0.5,
          9.5
         ],
         "title": "Predicted Class"
        },
        "yaxis": {
         "dtick": 1,
         "range": [
          9.5,
          0.5
         ],
         "title": "True Class"
        }
       }
      },
      "text/html": [
       "<div id=\"d1bab4d7-ae4e-4e2b-934f-7a1fc6001078\" style=\"height: 500px; width: 500px;\" class=\"plotly-graph-div\"></div><script type=\"text/javascript\">require([\"plotly\"], function(Plotly) { window.PLOTLYENV=window.PLOTLYENV || {};window.PLOTLYENV.BASE_URL=\"https://plot.ly\";Plotly.newPlot(\"d1bab4d7-ae4e-4e2b-934f-7a1fc6001078\", [{\"z\": [[0.0, 0.0, 0.0, 0.0, 0.0, 0.0, 0.0, 0.0, 0.0, 0.0], [0.0, 0.47691194061539166, 0.1866976158771197, 0.06734402347014423, 0.053000413327851284, 0.05522948154648283, 0.04191179436423988, 0.06129081575782939, 0.03109877281150162, 0.026515142327321318], [0.0, 0.3840112764166105, 0.1602689154091684, 0.07361814552292496, 0.059111646064026926, 0.0794391653770617, 0.06637642313824343, 0.08799225374393557, 0.04643940454479646, 0.042742772606886414], [0.0, 0.31544903452919326, 0.14384465665527804, 0.0837471657318428, 0.06568810139644968, 0.09401170290090533, 0.07898063578728805, 0.11306530293937331, 0.057463393576045185, 0.04775000949909895], [0.0, 0.27296495753001854, 0.13748119142225365, 0.08446529514263348, 0.0725198071324539, 0.10295716738168086, 0.0879536668686598, 0.12259566213827981, 0.061627893151047296, 0.057434361358539354], [0.0, 0.26256851356738414, 0.11770662496443773, 0.083670752872687, 0.07431014912534625, 0.10876426849854406, 0.09668061349486698, 0.12667096919607765, 0.07041862720433614, 0.05920948420119267], [0.0, 0.2320276001266664, 0.12527147864915028, 0.08010140770308953, 0.07745694205830879, 0.10534370661466849, 0.10210139482152533, 0.1407671378468046, 0.0741731382030987, 0.06275719791494298], [0.0, 0.21900028490371218, 0.12034984135834954, 0.08301384434876494, 0.07592648556907514, 0.10755820142462158, 0.10808597321595784, 0.14097400887544861, 0.07386550852196092, 0.07122585550393541], [0.0, 0.20754157291868996, 0.11134152509997448, 0.08433747422507556, 0.08121386786678045, 0.10962514322769328, 0.1113912483495483, 0.13867998155342787, 0.08408131054424792, 0.07178787973834005], [0.0, 0.21150295764169016, 0.11429327555903082, 0.0857487787964872, 0.07517379417325747, 0.11171852986588553, 0.10494904206953018, 0.14347230194645305, 0.08191407277597915, 0.07122724968344898]], \"type\": \"heatmap\", \"colorscale\": \"Viridis\"}], {\"width\": 500, \"height\": 500, \"xaxis\": {\"title\": \"Predicted Class\", \"dtick\": 1, \"range\": [0.5, 9.5]}, \"title\": \"Confidence after 4000 Iterations at Glimpse 0\", \"yaxis\": {\"title\": \"True Class\", \"dtick\": 1, \"range\": [9.5, 0.5]}}, {\"linkText\": \"Export to plot.ly\", \"showLink\": true})});</script>"
      ],
      "text/vnd.plotly.v1+html": [
       "<div id=\"d1bab4d7-ae4e-4e2b-934f-7a1fc6001078\" style=\"height: 500px; width: 500px;\" class=\"plotly-graph-div\"></div><script type=\"text/javascript\">require([\"plotly\"], function(Plotly) { window.PLOTLYENV=window.PLOTLYENV || {};window.PLOTLYENV.BASE_URL=\"https://plot.ly\";Plotly.newPlot(\"d1bab4d7-ae4e-4e2b-934f-7a1fc6001078\", [{\"z\": [[0.0, 0.0, 0.0, 0.0, 0.0, 0.0, 0.0, 0.0, 0.0, 0.0], [0.0, 0.47691194061539166, 0.1866976158771197, 0.06734402347014423, 0.053000413327851284, 0.05522948154648283, 0.04191179436423988, 0.06129081575782939, 0.03109877281150162, 0.026515142327321318], [0.0, 0.3840112764166105, 0.1602689154091684, 0.07361814552292496, 0.059111646064026926, 0.0794391653770617, 0.06637642313824343, 0.08799225374393557, 0.04643940454479646, 0.042742772606886414], [0.0, 0.31544903452919326, 0.14384465665527804, 0.0837471657318428, 0.06568810139644968, 0.09401170290090533, 0.07898063578728805, 0.11306530293937331, 0.057463393576045185, 0.04775000949909895], [0.0, 0.27296495753001854, 0.13748119142225365, 0.08446529514263348, 0.0725198071324539, 0.10295716738168086, 0.0879536668686598, 0.12259566213827981, 0.061627893151047296, 0.057434361358539354], [0.0, 0.26256851356738414, 0.11770662496443773, 0.083670752872687, 0.07431014912534625, 0.10876426849854406, 0.09668061349486698, 0.12667096919607765, 0.07041862720433614, 0.05920948420119267], [0.0, 0.2320276001266664, 0.12527147864915028, 0.08010140770308953, 0.07745694205830879, 0.10534370661466849, 0.10210139482152533, 0.1407671378468046, 0.0741731382030987, 0.06275719791494298], [0.0, 0.21900028490371218, 0.12034984135834954, 0.08301384434876494, 0.07592648556907514, 0.10755820142462158, 0.10808597321595784, 0.14097400887544861, 0.07386550852196092, 0.07122585550393541], [0.0, 0.20754157291868996, 0.11134152509997448, 0.08433747422507556, 0.08121386786678045, 0.10962514322769328, 0.1113912483495483, 0.13867998155342787, 0.08408131054424792, 0.07178787973834005], [0.0, 0.21150295764169016, 0.11429327555903082, 0.0857487787964872, 0.07517379417325747, 0.11171852986588553, 0.10494904206953018, 0.14347230194645305, 0.08191407277597915, 0.07122724968344898]], \"type\": \"heatmap\", \"colorscale\": \"Viridis\"}], {\"width\": 500, \"height\": 500, \"xaxis\": {\"title\": \"Predicted Class\", \"dtick\": 1, \"range\": [0.5, 9.5]}, \"title\": \"Confidence after 4000 Iterations at Glimpse 0\", \"yaxis\": {\"title\": \"True Class\", \"dtick\": 1, \"range\": [9.5, 0.5]}}, {\"linkText\": \"Export to plot.ly\", \"showLink\": true})});</script>"
      ]
     },
     "metadata": {},
     "output_type": "display_data"
    },
    {
     "data": {
      "application/vnd.plotly.v1+json": {
       "data": [
        {
         "colorscale": "Viridis",
         "type": "heatmap",
         "z": [
          [
           0,
           0,
           0,
           0,
           0,
           0,
           0,
           0,
           0,
           0
          ],
          [
           0,
           0.6728000000000002,
           0.08130000000000001,
           0.0393,
           0.03180000000000001,
           0.041,
           0.0349,
           0.0531,
           0.024499999999999997,
           0.021300000000000003
          ],
          [
           0,
           0.48460000000000003,
           0.1121,
           0.058199999999999995,
           0.047799999999999995,
           0.07210000000000001,
           0.06200000000000001,
           0.0824,
           0.0413,
           0.0395
          ],
          [
           0,
           0.36760000000000004,
           0.1223,
           0.0763,
           0.05910000000000001,
           0.089,
           0.0762,
           0.1099,
           0.0551,
           0.044500000000000005
          ],
          [
           0,
           0.30010000000000003,
           0.1269,
           0.08080000000000001,
           0.06890000000000002,
           0.10049999999999999,
           0.0876,
           0.11960000000000001,
           0.05940000000000001,
           0.05620000000000001
          ],
          [
           0,
           0.28,
           0.11199999999999999,
           0.081,
           0.0716,
           0.1071,
           0.09640000000000001,
           0.12440000000000002,
           0.0696,
           0.05789999999999999
          ],
          [
           0,
           0.23699999999999996,
           0.12379999999999998,
           0.07890000000000001,
           0.0759,
           0.10290000000000002,
           0.1022,
           0.1418,
           0.0749,
           0.0626
          ],
          [
           0,
           0.2225,
           0.11949999999999998,
           0.08209999999999999,
           0.0753,
           0.10710000000000001,
           0.10859999999999999,
           0.1405,
           0.07310000000000001,
           0.0713
          ],
          [
           0,
           0.21070000000000003,
           0.10919999999999999,
           0.0844,
           0.08140000000000001,
           0.10880000000000001,
           0.11080000000000001,
           0.13810000000000003,
           0.0844,
           0.07220000000000001
          ],
          [
           0,
           0.21480000000000002,
           0.1129,
           0.08570000000000001,
           0.0741,
           0.1122,
           0.10400000000000001,
           0.1438,
           0.0816,
           0.0709
          ]
         ]
        }
       ],
       "layout": {
        "height": 500,
        "title": "Choice after 4000 Iterations at Glimpse 0",
        "width": 500,
        "xaxis": {
         "dtick": 1,
         "range": [
          0.5,
          9.5
         ],
         "title": "Predicted Class"
        },
        "yaxis": {
         "dtick": 1,
         "range": [
          9.5,
          0.5
         ],
         "title": "True Class"
        }
       }
      },
      "text/html": [
       "<div id=\"5e30f8e0-e7f4-4be5-87ab-802d7239556f\" style=\"height: 500px; width: 500px;\" class=\"plotly-graph-div\"></div><script type=\"text/javascript\">require([\"plotly\"], function(Plotly) { window.PLOTLYENV=window.PLOTLYENV || {};window.PLOTLYENV.BASE_URL=\"https://plot.ly\";Plotly.newPlot(\"5e30f8e0-e7f4-4be5-87ab-802d7239556f\", [{\"z\": [[0.0, 0.0, 0.0, 0.0, 0.0, 0.0, 0.0, 0.0, 0.0, 0.0], [0.0, 0.6728000000000002, 0.08130000000000001, 0.0393, 0.03180000000000001, 0.041, 0.0349, 0.0531, 0.024499999999999997, 0.021300000000000003], [0.0, 0.48460000000000003, 0.1121, 0.058199999999999995, 0.047799999999999995, 0.07210000000000001, 0.06200000000000001, 0.0824, 0.0413, 0.0395], [0.0, 0.36760000000000004, 0.1223, 0.0763, 0.05910000000000001, 0.089, 0.0762, 0.1099, 0.0551, 0.044500000000000005], [0.0, 0.30010000000000003, 0.1269, 0.08080000000000001, 0.06890000000000002, 0.10049999999999999, 0.0876, 0.11960000000000001, 0.05940000000000001, 0.05620000000000001], [0.0, 0.28, 0.11199999999999999, 0.081, 0.0716, 0.1071, 0.09640000000000001, 0.12440000000000002, 0.0696, 0.05789999999999999], [0.0, 0.23699999999999996, 0.12379999999999998, 0.07890000000000001, 0.0759, 0.10290000000000002, 0.1022, 0.1418, 0.0749, 0.0626], [0.0, 0.2225, 0.11949999999999998, 0.08209999999999999, 0.0753, 0.10710000000000001, 0.10859999999999999, 0.1405, 0.07310000000000001, 0.0713], [0.0, 0.21070000000000003, 0.10919999999999999, 0.0844, 0.08140000000000001, 0.10880000000000001, 0.11080000000000001, 0.13810000000000003, 0.0844, 0.07220000000000001], [0.0, 0.21480000000000002, 0.1129, 0.08570000000000001, 0.0741, 0.1122, 0.10400000000000001, 0.1438, 0.0816, 0.0709]], \"type\": \"heatmap\", \"colorscale\": \"Viridis\"}], {\"width\": 500, \"height\": 500, \"xaxis\": {\"title\": \"Predicted Class\", \"dtick\": 1, \"range\": [0.5, 9.5]}, \"title\": \"Choice after 4000 Iterations at Glimpse 0\", \"yaxis\": {\"title\": \"True Class\", \"dtick\": 1, \"range\": [9.5, 0.5]}}, {\"linkText\": \"Export to plot.ly\", \"showLink\": true})});</script>"
      ],
      "text/vnd.plotly.v1+html": [
       "<div id=\"5e30f8e0-e7f4-4be5-87ab-802d7239556f\" style=\"height: 500px; width: 500px;\" class=\"plotly-graph-div\"></div><script type=\"text/javascript\">require([\"plotly\"], function(Plotly) { window.PLOTLYENV=window.PLOTLYENV || {};window.PLOTLYENV.BASE_URL=\"https://plot.ly\";Plotly.newPlot(\"5e30f8e0-e7f4-4be5-87ab-802d7239556f\", [{\"z\": [[0.0, 0.0, 0.0, 0.0, 0.0, 0.0, 0.0, 0.0, 0.0, 0.0], [0.0, 0.6728000000000002, 0.08130000000000001, 0.0393, 0.03180000000000001, 0.041, 0.0349, 0.0531, 0.024499999999999997, 0.021300000000000003], [0.0, 0.48460000000000003, 0.1121, 0.058199999999999995, 0.047799999999999995, 0.07210000000000001, 0.06200000000000001, 0.0824, 0.0413, 0.0395], [0.0, 0.36760000000000004, 0.1223, 0.0763, 0.05910000000000001, 0.089, 0.0762, 0.1099, 0.0551, 0.044500000000000005], [0.0, 0.30010000000000003, 0.1269, 0.08080000000000001, 0.06890000000000002, 0.10049999999999999, 0.0876, 0.11960000000000001, 0.05940000000000001, 0.05620000000000001], [0.0, 0.28, 0.11199999999999999, 0.081, 0.0716, 0.1071, 0.09640000000000001, 0.12440000000000002, 0.0696, 0.05789999999999999], [0.0, 0.23699999999999996, 0.12379999999999998, 0.07890000000000001, 0.0759, 0.10290000000000002, 0.1022, 0.1418, 0.0749, 0.0626], [0.0, 0.2225, 0.11949999999999998, 0.08209999999999999, 0.0753, 0.10710000000000001, 0.10859999999999999, 0.1405, 0.07310000000000001, 0.0713], [0.0, 0.21070000000000003, 0.10919999999999999, 0.0844, 0.08140000000000001, 0.10880000000000001, 0.11080000000000001, 0.13810000000000003, 0.0844, 0.07220000000000001], [0.0, 0.21480000000000002, 0.1129, 0.08570000000000001, 0.0741, 0.1122, 0.10400000000000001, 0.1438, 0.0816, 0.0709]], \"type\": \"heatmap\", \"colorscale\": \"Viridis\"}], {\"width\": 500, \"height\": 500, \"xaxis\": {\"title\": \"Predicted Class\", \"dtick\": 1, \"range\": [0.5, 9.5]}, \"title\": \"Choice after 4000 Iterations at Glimpse 0\", \"yaxis\": {\"title\": \"True Class\", \"dtick\": 1, \"range\": [9.5, 0.5]}}, {\"linkText\": \"Export to plot.ly\", \"showLink\": true})});</script>"
      ]
     },
     "metadata": {},
     "output_type": "display_data"
    },
    {
     "data": {
      "application/vnd.plotly.v1+json": {
       "data": [
        {
         "colorscale": "Viridis",
         "type": "heatmap",
         "z": [
          [
           0,
           0,
           0,
           0,
           0,
           0,
           0,
           0,
           0,
           0
          ],
          [
           0,
           0.6091543731832665,
           0.1979888009901194,
           0.06299824224356569,
           0.036703103627088375,
           0.029210433870487412,
           0.021681358510706926,
           0.023523135018219895,
           0.010887159601369389,
           0.007853397365421363
          ],
          [
           0,
           0.4896584321231393,
           0.21167685807244246,
           0.08199547799697746,
           0.05658523431068481,
           0.04728441448177815,
           0.04065249993551336,
           0.03955784389264456,
           0.018949996234009513,
           0.013639246563136687
          ],
          [
           0,
           0.4181575551467187,
           0.20153070533829767,
           0.09383397568549688,
           0.06773872857764299,
           0.058940935836524676,
           0.05545347669614462,
           0.05451009441702594,
           0.03010292459395588,
           0.019731606225141446
          ],
          [
           0,
           0.3748122926442512,
           0.19526601026444573,
           0.09828434087072509,
           0.07238459380350226,
           0.06814431376803678,
           0.0649877921710173,
           0.06870536152049535,
           0.03383678573383049,
           0.023578512052991468
          ],
          [
           0,
           0.34648267761171614,
           0.1849523377023066,
           0.10358201231978112,
           0.07600300726182145,
           0.0775310811387733,
           0.07078694050456129,
           0.07290340523642329,
           0.04008122640797902,
           0.027677315048722295
          ],
          [
           0,
           0.31549800146424767,
           0.18476745868760872,
           0.09822743461633777,
           0.0784756771699687,
           0.08336009880786874,
           0.08066628852437033,
           0.08044096308943768,
           0.048208174351233354,
           0.030355906441677342
          ],
          [
           0,
           0.29227681181910364,
           0.17820344020567874,
           0.10758523206145192,
           0.08380169626149646,
           0.08263704532117373,
           0.08119073822081531,
           0.09076188121185724,
           0.0511402035544805,
           0.032402954524481394
          ],
          [
           0,
           0.27792537943428847,
           0.16835987380168782,
           0.10335260281377667,
           0.08427314678519295,
           0.09393241901243221,
           0.08965983635321857,
           0.09351163905999922,
           0.05310230934253185,
           0.03588279689706937
          ],
          [
           0,
           0.2727216616169804,
           0.176086055201512,
           0.09935740795834151,
           0.08736741479584402,
           0.08780574127792809,
           0.08905508133526649,
           0.09733602011896393,
           0.054963282212871625,
           0.035307337954446114
          ]
         ]
        }
       ],
       "layout": {
        "height": 500,
        "title": "Confidence after 4000 Iterations at Glimpse 3",
        "width": 500,
        "xaxis": {
         "dtick": 1,
         "range": [
          0.5,
          9.5
         ],
         "title": "Predicted Class"
        },
        "yaxis": {
         "dtick": 1,
         "range": [
          9.5,
          0.5
         ],
         "title": "True Class"
        }
       }
      },
      "text/html": [
       "<div id=\"79ae60af-3390-4958-afbd-db1d0f996ea5\" style=\"height: 500px; width: 500px;\" class=\"plotly-graph-div\"></div><script type=\"text/javascript\">require([\"plotly\"], function(Plotly) { window.PLOTLYENV=window.PLOTLYENV || {};window.PLOTLYENV.BASE_URL=\"https://plot.ly\";Plotly.newPlot(\"79ae60af-3390-4958-afbd-db1d0f996ea5\", [{\"z\": [[0.0, 0.0, 0.0, 0.0, 0.0, 0.0, 0.0, 0.0, 0.0, 0.0], [0.0, 0.6091543731832665, 0.1979888009901194, 0.06299824224356569, 0.036703103627088375, 0.029210433870487412, 0.021681358510706926, 0.023523135018219895, 0.010887159601369389, 0.007853397365421363], [0.0, 0.4896584321231393, 0.21167685807244246, 0.08199547799697746, 0.05658523431068481, 0.04728441448177815, 0.04065249993551336, 0.03955784389264456, 0.018949996234009513, 0.013639246563136687], [0.0, 0.4181575551467187, 0.20153070533829767, 0.09383397568549688, 0.06773872857764299, 0.058940935836524676, 0.05545347669614462, 0.05451009441702594, 0.03010292459395588, 0.019731606225141446], [0.0, 0.3748122926442512, 0.19526601026444573, 0.09828434087072509, 0.07238459380350226, 0.06814431376803678, 0.0649877921710173, 0.06870536152049535, 0.03383678573383049, 0.023578512052991468], [0.0, 0.34648267761171614, 0.1849523377023066, 0.10358201231978112, 0.07600300726182145, 0.0775310811387733, 0.07078694050456129, 0.07290340523642329, 0.04008122640797902, 0.027677315048722295], [0.0, 0.31549800146424767, 0.18476745868760872, 0.09822743461633777, 0.0784756771699687, 0.08336009880786874, 0.08066628852437033, 0.08044096308943768, 0.048208174351233354, 0.030355906441677342], [0.0, 0.29227681181910364, 0.17820344020567874, 0.10758523206145192, 0.08380169626149646, 0.08263704532117373, 0.08119073822081531, 0.09076188121185724, 0.0511402035544805, 0.032402954524481394], [0.0, 0.27792537943428847, 0.16835987380168782, 0.10335260281377667, 0.08427314678519295, 0.09393241901243221, 0.08965983635321857, 0.09351163905999922, 0.05310230934253185, 0.03588279689706937], [0.0, 0.2727216616169804, 0.176086055201512, 0.09935740795834151, 0.08736741479584402, 0.08780574127792809, 0.08905508133526649, 0.09733602011896393, 0.054963282212871625, 0.035307337954446114]], \"type\": \"heatmap\", \"colorscale\": \"Viridis\"}], {\"width\": 500, \"height\": 500, \"xaxis\": {\"title\": \"Predicted Class\", \"dtick\": 1, \"range\": [0.5, 9.5]}, \"title\": \"Confidence after 4000 Iterations at Glimpse 3\", \"yaxis\": {\"title\": \"True Class\", \"dtick\": 1, \"range\": [9.5, 0.5]}}, {\"linkText\": \"Export to plot.ly\", \"showLink\": true})});</script>"
      ],
      "text/vnd.plotly.v1+html": [
       "<div id=\"79ae60af-3390-4958-afbd-db1d0f996ea5\" style=\"height: 500px; width: 500px;\" class=\"plotly-graph-div\"></div><script type=\"text/javascript\">require([\"plotly\"], function(Plotly) { window.PLOTLYENV=window.PLOTLYENV || {};window.PLOTLYENV.BASE_URL=\"https://plot.ly\";Plotly.newPlot(\"79ae60af-3390-4958-afbd-db1d0f996ea5\", [{\"z\": [[0.0, 0.0, 0.0, 0.0, 0.0, 0.0, 0.0, 0.0, 0.0, 0.0], [0.0, 0.6091543731832665, 0.1979888009901194, 0.06299824224356569, 0.036703103627088375, 0.029210433870487412, 0.021681358510706926, 0.023523135018219895, 0.010887159601369389, 0.007853397365421363], [0.0, 0.4896584321231393, 0.21167685807244246, 0.08199547799697746, 0.05658523431068481, 0.04728441448177815, 0.04065249993551336, 0.03955784389264456, 0.018949996234009513, 0.013639246563136687], [0.0, 0.4181575551467187, 0.20153070533829767, 0.09383397568549688, 0.06773872857764299, 0.058940935836524676, 0.05545347669614462, 0.05451009441702594, 0.03010292459395588, 0.019731606225141446], [0.0, 0.3748122926442512, 0.19526601026444573, 0.09828434087072509, 0.07238459380350226, 0.06814431376803678, 0.0649877921710173, 0.06870536152049535, 0.03383678573383049, 0.023578512052991468], [0.0, 0.34648267761171614, 0.1849523377023066, 0.10358201231978112, 0.07600300726182145, 0.0775310811387733, 0.07078694050456129, 0.07290340523642329, 0.04008122640797902, 0.027677315048722295], [0.0, 0.31549800146424767, 0.18476745868760872, 0.09822743461633777, 0.0784756771699687, 0.08336009880786874, 0.08066628852437033, 0.08044096308943768, 0.048208174351233354, 0.030355906441677342], [0.0, 0.29227681181910364, 0.17820344020567874, 0.10758523206145192, 0.08380169626149646, 0.08263704532117373, 0.08119073822081531, 0.09076188121185724, 0.0511402035544805, 0.032402954524481394], [0.0, 0.27792537943428847, 0.16835987380168782, 0.10335260281377667, 0.08427314678519295, 0.09393241901243221, 0.08965983635321857, 0.09351163905999922, 0.05310230934253185, 0.03588279689706937], [0.0, 0.2727216616169804, 0.176086055201512, 0.09935740795834151, 0.08736741479584402, 0.08780574127792809, 0.08905508133526649, 0.09733602011896393, 0.054963282212871625, 0.035307337954446114]], \"type\": \"heatmap\", \"colorscale\": \"Viridis\"}], {\"width\": 500, \"height\": 500, \"xaxis\": {\"title\": \"Predicted Class\", \"dtick\": 1, \"range\": [0.5, 9.5]}, \"title\": \"Confidence after 4000 Iterations at Glimpse 3\", \"yaxis\": {\"title\": \"True Class\", \"dtick\": 1, \"range\": [9.5, 0.5]}}, {\"linkText\": \"Export to plot.ly\", \"showLink\": true})});</script>"
      ]
     },
     "metadata": {},
     "output_type": "display_data"
    },
    {
     "data": {
      "application/vnd.plotly.v1+json": {
       "data": [
        {
         "colorscale": "Viridis",
         "type": "heatmap",
         "z": [
          [
           0,
           0,
           0,
           0,
           0,
           0,
           0,
           0,
           0,
           0
          ],
          [
           0,
           0.7199,
           0.12129999999999999,
           0.0478,
           0.028000000000000004,
           0.0237,
           0.019999999999999997,
           0.0217,
           0.0102,
           0.0073999999999999995
          ],
          [
           0,
           0.5465,
           0.1788,
           0.0698,
           0.0514,
           0.044700000000000004,
           0.0398,
           0.0374,
           0.018300000000000004,
           0.013299999999999998
          ],
          [
           0,
           0.45330000000000004,
           0.182,
           0.0883,
           0.06409999999999999,
           0.057300000000000004,
           0.05399999999999999,
           0.0521,
           0.029900000000000003,
           0.019
          ],
          [
           0,
           0.39480000000000004,
           0.1891,
           0.0927,
           0.0713,
           0.0658,
           0.0638,
           0.06659999999999999,
           0.03380000000000001,
           0.0221
          ],
          [
           0,
           0.35840000000000005,
           0.18019999999999997,
           0.10169999999999998,
           0.0741,
           0.0771,
           0.06920000000000001,
           0.07189999999999999,
           0.0397,
           0.027699999999999995
          ],
          [
           0,
           0.3216,
           0.183,
           0.0965,
           0.07650000000000001,
           0.08369999999999998,
           0.0802,
           0.08070000000000001,
           0.0472,
           0.0306
          ],
          [
           0,
           0.2977,
           0.17699999999999996,
           0.10739999999999998,
           0.08270000000000001,
           0.0819,
           0.0795,
           0.0896,
           0.0512,
           0.033
          ],
          [
           0,
           0.279,
           0.17,
           0.10329999999999999,
           0.08360000000000001,
           0.09430000000000001,
           0.08900000000000001,
           0.0931,
           0.05339999999999999,
           0.034300000000000004
          ],
          [
           0,
           0.27460000000000007,
           0.1784,
           0.0975,
           0.0862,
           0.0878,
           0.08880000000000002,
           0.0963,
           0.055400000000000005,
           0.034999999999999996
          ]
         ]
        }
       ],
       "layout": {
        "height": 500,
        "title": "Choice after 4000 Iterations at Glimpse 3",
        "width": 500,
        "xaxis": {
         "dtick": 1,
         "range": [
          0.5,
          9.5
         ],
         "title": "Predicted Class"
        },
        "yaxis": {
         "dtick": 1,
         "range": [
          9.5,
          0.5
         ],
         "title": "True Class"
        }
       }
      },
      "text/html": [
       "<div id=\"97dcc1c2-dd7c-4fcc-b5e0-0899db439045\" style=\"height: 500px; width: 500px;\" class=\"plotly-graph-div\"></div><script type=\"text/javascript\">require([\"plotly\"], function(Plotly) { window.PLOTLYENV=window.PLOTLYENV || {};window.PLOTLYENV.BASE_URL=\"https://plot.ly\";Plotly.newPlot(\"97dcc1c2-dd7c-4fcc-b5e0-0899db439045\", [{\"z\": [[0.0, 0.0, 0.0, 0.0, 0.0, 0.0, 0.0, 0.0, 0.0, 0.0], [0.0, 0.7199, 0.12129999999999999, 0.0478, 0.028000000000000004, 0.0237, 0.019999999999999997, 0.0217, 0.0102, 0.0073999999999999995], [0.0, 0.5465, 0.1788, 0.0698, 0.0514, 0.044700000000000004, 0.0398, 0.0374, 0.018300000000000004, 0.013299999999999998], [0.0, 0.45330000000000004, 0.182, 0.0883, 0.06409999999999999, 0.057300000000000004, 0.05399999999999999, 0.0521, 0.029900000000000003, 0.019], [0.0, 0.39480000000000004, 0.1891, 0.0927, 0.0713, 0.0658, 0.0638, 0.06659999999999999, 0.03380000000000001, 0.0221], [0.0, 0.35840000000000005, 0.18019999999999997, 0.10169999999999998, 0.0741, 0.0771, 0.06920000000000001, 0.07189999999999999, 0.0397, 0.027699999999999995], [0.0, 0.3216, 0.183, 0.0965, 0.07650000000000001, 0.08369999999999998, 0.0802, 0.08070000000000001, 0.0472, 0.0306], [0.0, 0.2977, 0.17699999999999996, 0.10739999999999998, 0.08270000000000001, 0.0819, 0.0795, 0.0896, 0.0512, 0.033], [0.0, 0.279, 0.17, 0.10329999999999999, 0.08360000000000001, 0.09430000000000001, 0.08900000000000001, 0.0931, 0.05339999999999999, 0.034300000000000004], [0.0, 0.27460000000000007, 0.1784, 0.0975, 0.0862, 0.0878, 0.08880000000000002, 0.0963, 0.055400000000000005, 0.034999999999999996]], \"type\": \"heatmap\", \"colorscale\": \"Viridis\"}], {\"width\": 500, \"height\": 500, \"xaxis\": {\"title\": \"Predicted Class\", \"dtick\": 1, \"range\": [0.5, 9.5]}, \"title\": \"Choice after 4000 Iterations at Glimpse 3\", \"yaxis\": {\"title\": \"True Class\", \"dtick\": 1, \"range\": [9.5, 0.5]}}, {\"linkText\": \"Export to plot.ly\", \"showLink\": true})});</script>"
      ],
      "text/vnd.plotly.v1+html": [
       "<div id=\"97dcc1c2-dd7c-4fcc-b5e0-0899db439045\" style=\"height: 500px; width: 500px;\" class=\"plotly-graph-div\"></div><script type=\"text/javascript\">require([\"plotly\"], function(Plotly) { window.PLOTLYENV=window.PLOTLYENV || {};window.PLOTLYENV.BASE_URL=\"https://plot.ly\";Plotly.newPlot(\"97dcc1c2-dd7c-4fcc-b5e0-0899db439045\", [{\"z\": [[0.0, 0.0, 0.0, 0.0, 0.0, 0.0, 0.0, 0.0, 0.0, 0.0], [0.0, 0.7199, 0.12129999999999999, 0.0478, 0.028000000000000004, 0.0237, 0.019999999999999997, 0.0217, 0.0102, 0.0073999999999999995], [0.0, 0.5465, 0.1788, 0.0698, 0.0514, 0.044700000000000004, 0.0398, 0.0374, 0.018300000000000004, 0.013299999999999998], [0.0, 0.45330000000000004, 0.182, 0.0883, 0.06409999999999999, 0.057300000000000004, 0.05399999999999999, 0.0521, 0.029900000000000003, 0.019], [0.0, 0.39480000000000004, 0.1891, 0.0927, 0.0713, 0.0658, 0.0638, 0.06659999999999999, 0.03380000000000001, 0.0221], [0.0, 0.35840000000000005, 0.18019999999999997, 0.10169999999999998, 0.0741, 0.0771, 0.06920000000000001, 0.07189999999999999, 0.0397, 0.027699999999999995], [0.0, 0.3216, 0.183, 0.0965, 0.07650000000000001, 0.08369999999999998, 0.0802, 0.08070000000000001, 0.0472, 0.0306], [0.0, 0.2977, 0.17699999999999996, 0.10739999999999998, 0.08270000000000001, 0.0819, 0.0795, 0.0896, 0.0512, 0.033], [0.0, 0.279, 0.17, 0.10329999999999999, 0.08360000000000001, 0.09430000000000001, 0.08900000000000001, 0.0931, 0.05339999999999999, 0.034300000000000004], [0.0, 0.27460000000000007, 0.1784, 0.0975, 0.0862, 0.0878, 0.08880000000000002, 0.0963, 0.055400000000000005, 0.034999999999999996]], \"type\": \"heatmap\", \"colorscale\": \"Viridis\"}], {\"width\": 500, \"height\": 500, \"xaxis\": {\"title\": \"Predicted Class\", \"dtick\": 1, \"range\": [0.5, 9.5]}, \"title\": \"Choice after 4000 Iterations at Glimpse 3\", \"yaxis\": {\"title\": \"True Class\", \"dtick\": 1, \"range\": [9.5, 0.5]}}, {\"linkText\": \"Export to plot.ly\", \"showLink\": true})});</script>"
      ]
     },
     "metadata": {},
     "output_type": "display_data"
    },
    {
     "data": {
      "application/vnd.plotly.v1+json": {
       "data": [
        {
         "colorscale": "Viridis",
         "type": "heatmap",
         "z": [
          [
           0,
           0,
           0,
           0,
           0,
           0,
           0,
           0,
           0,
           0
          ],
          [
           0,
           0.6104188027905357,
           0.22330010123118865,
           0.06949308439807292,
           0.030117544249570433,
           0.02123098646341414,
           0.026090138477328544,
           0.012675725936414884,
           0.0038167975623774734,
           0.002856823110833426
          ],
          [
           0,
           0.5040181015309223,
           0.25068672174804146,
           0.08528791637936249,
           0.048641536344944544,
           0.03721643106260158,
           0.035769773362551514,
           0.024210030524352492,
           0.007790644042317191,
           0.006378848027297004
          ],
          [
           0,
           0.4354568205389538,
           0.2625868277634279,
           0.10067527670376515,
           0.06044965299294617,
           0.04627752856507603,
           0.04398476942889978,
           0.031090271026692533,
           0.011819200293467372,
           0.007659656132693015
          ],
          [
           0,
           0.3983377647371603,
           0.26423630022844047,
           0.10081595841604525,
           0.07295702294772341,
           0.05604311872640878,
           0.04661657484199965,
           0.038119371153602956,
           0.013919279510445474,
           0.008954612641849422
          ],
          [
           0,
           0.3665735628874094,
           0.26163984151708025,
           0.11200416616977098,
           0.06871322388649899,
           0.06375766540706325,
           0.05391913301647967,
           0.0443701320255398,
           0.017202116116078064,
           0.011820161274843347
          ],
          [
           0,
           0.3488220043556052,
           0.2624755018088588,
           0.108525633394487,
           0.07615749416241333,
           0.06366225225409494,
           0.057362181534107624,
           0.04731539329294895,
           0.02307357439261539,
           0.012605967675843243
          ],
          [
           0,
           0.331862925583776,
           0.25936809025686586,
           0.10359103924225724,
           0.07906357595001705,
           0.06794633156719979,
           0.06025500121975859,
           0.054989299018424795,
           0.02684034853523453,
           0.01608339041522324
          ],
          [
           0,
           0.3233514405373582,
           0.2563807307122894,
           0.11015809334811458,
           0.08077253829612972,
           0.06903560963371076,
           0.06210813119590779,
           0.059235723517829776,
           0.02557858626801545,
           0.013379148841969996
          ],
          [
           0,
           0.3206375667767345,
           0.2524732793244363,
           0.10713544510215367,
           0.08273263021457194,
           0.07098758227662764,
           0.06595270910622304,
           0.056456713716070715,
           0.02753820376701711,
           0.01608587316854056
          ]
         ]
        }
       ],
       "layout": {
        "height": 500,
        "title": "Confidence after 4000 Iterations at Glimpse 9",
        "width": 500,
        "xaxis": {
         "dtick": 1,
         "range": [
          0.5,
          9.5
         ],
         "title": "Predicted Class"
        },
        "yaxis": {
         "dtick": 1,
         "range": [
          9.5,
          0.5
         ],
         "title": "True Class"
        }
       }
      },
      "text/html": [
       "<div id=\"1c5f66ae-09ad-4f4a-ae0c-4b85c460c8d7\" style=\"height: 500px; width: 500px;\" class=\"plotly-graph-div\"></div><script type=\"text/javascript\">require([\"plotly\"], function(Plotly) { window.PLOTLYENV=window.PLOTLYENV || {};window.PLOTLYENV.BASE_URL=\"https://plot.ly\";Plotly.newPlot(\"1c5f66ae-09ad-4f4a-ae0c-4b85c460c8d7\", [{\"z\": [[0.0, 0.0, 0.0, 0.0, 0.0, 0.0, 0.0, 0.0, 0.0, 0.0], [0.0, 0.6104188027905357, 0.22330010123118865, 0.06949308439807292, 0.030117544249570433, 0.02123098646341414, 0.026090138477328544, 0.012675725936414884, 0.0038167975623774734, 0.002856823110833426], [0.0, 0.5040181015309223, 0.25068672174804146, 0.08528791637936249, 0.048641536344944544, 0.03721643106260158, 0.035769773362551514, 0.024210030524352492, 0.007790644042317191, 0.006378848027297004], [0.0, 0.4354568205389538, 0.2625868277634279, 0.10067527670376515, 0.06044965299294617, 0.04627752856507603, 0.04398476942889978, 0.031090271026692533, 0.011819200293467372, 0.007659656132693015], [0.0, 0.3983377647371603, 0.26423630022844047, 0.10081595841604525, 0.07295702294772341, 0.05604311872640878, 0.04661657484199965, 0.038119371153602956, 0.013919279510445474, 0.008954612641849422], [0.0, 0.3665735628874094, 0.26163984151708025, 0.11200416616977098, 0.06871322388649899, 0.06375766540706325, 0.05391913301647967, 0.0443701320255398, 0.017202116116078064, 0.011820161274843347], [0.0, 0.3488220043556052, 0.2624755018088588, 0.108525633394487, 0.07615749416241333, 0.06366225225409494, 0.057362181534107624, 0.04731539329294895, 0.02307357439261539, 0.012605967675843243], [0.0, 0.331862925583776, 0.25936809025686586, 0.10359103924225724, 0.07906357595001705, 0.06794633156719979, 0.06025500121975859, 0.054989299018424795, 0.02684034853523453, 0.01608339041522324], [0.0, 0.3233514405373582, 0.2563807307122894, 0.11015809334811458, 0.08077253829612972, 0.06903560963371076, 0.06210813119590779, 0.059235723517829776, 0.02557858626801545, 0.013379148841969996], [0.0, 0.3206375667767345, 0.2524732793244363, 0.10713544510215367, 0.08273263021457194, 0.07098758227662764, 0.06595270910622304, 0.056456713716070715, 0.02753820376701711, 0.01608587316854056]], \"type\": \"heatmap\", \"colorscale\": \"Viridis\"}], {\"width\": 500, \"height\": 500, \"xaxis\": {\"title\": \"Predicted Class\", \"dtick\": 1, \"range\": [0.5, 9.5]}, \"title\": \"Confidence after 4000 Iterations at Glimpse 9\", \"yaxis\": {\"title\": \"True Class\", \"dtick\": 1, \"range\": [9.5, 0.5]}}, {\"linkText\": \"Export to plot.ly\", \"showLink\": true})});</script>"
      ],
      "text/vnd.plotly.v1+html": [
       "<div id=\"1c5f66ae-09ad-4f4a-ae0c-4b85c460c8d7\" style=\"height: 500px; width: 500px;\" class=\"plotly-graph-div\"></div><script type=\"text/javascript\">require([\"plotly\"], function(Plotly) { window.PLOTLYENV=window.PLOTLYENV || {};window.PLOTLYENV.BASE_URL=\"https://plot.ly\";Plotly.newPlot(\"1c5f66ae-09ad-4f4a-ae0c-4b85c460c8d7\", [{\"z\": [[0.0, 0.0, 0.0, 0.0, 0.0, 0.0, 0.0, 0.0, 0.0, 0.0], [0.0, 0.6104188027905357, 0.22330010123118865, 0.06949308439807292, 0.030117544249570433, 0.02123098646341414, 0.026090138477328544, 0.012675725936414884, 0.0038167975623774734, 0.002856823110833426], [0.0, 0.5040181015309223, 0.25068672174804146, 0.08528791637936249, 0.048641536344944544, 0.03721643106260158, 0.035769773362551514, 0.024210030524352492, 0.007790644042317191, 0.006378848027297004], [0.0, 0.4354568205389538, 0.2625868277634279, 0.10067527670376515, 0.06044965299294617, 0.04627752856507603, 0.04398476942889978, 0.031090271026692533, 0.011819200293467372, 0.007659656132693015], [0.0, 0.3983377647371603, 0.26423630022844047, 0.10081595841604525, 0.07295702294772341, 0.05604311872640878, 0.04661657484199965, 0.038119371153602956, 0.013919279510445474, 0.008954612641849422], [0.0, 0.3665735628874094, 0.26163984151708025, 0.11200416616977098, 0.06871322388649899, 0.06375766540706325, 0.05391913301647967, 0.0443701320255398, 0.017202116116078064, 0.011820161274843347], [0.0, 0.3488220043556052, 0.2624755018088588, 0.108525633394487, 0.07615749416241333, 0.06366225225409494, 0.057362181534107624, 0.04731539329294895, 0.02307357439261539, 0.012605967675843243], [0.0, 0.331862925583776, 0.25936809025686586, 0.10359103924225724, 0.07906357595001705, 0.06794633156719979, 0.06025500121975859, 0.054989299018424795, 0.02684034853523453, 0.01608339041522324], [0.0, 0.3233514405373582, 0.2563807307122894, 0.11015809334811458, 0.08077253829612972, 0.06903560963371076, 0.06210813119590779, 0.059235723517829776, 0.02557858626801545, 0.013379148841969996], [0.0, 0.3206375667767345, 0.2524732793244363, 0.10713544510215367, 0.08273263021457194, 0.07098758227662764, 0.06595270910622304, 0.056456713716070715, 0.02753820376701711, 0.01608587316854056]], \"type\": \"heatmap\", \"colorscale\": \"Viridis\"}], {\"width\": 500, \"height\": 500, \"xaxis\": {\"title\": \"Predicted Class\", \"dtick\": 1, \"range\": [0.5, 9.5]}, \"title\": \"Confidence after 4000 Iterations at Glimpse 9\", \"yaxis\": {\"title\": \"True Class\", \"dtick\": 1, \"range\": [9.5, 0.5]}}, {\"linkText\": \"Export to plot.ly\", \"showLink\": true})});</script>"
      ]
     },
     "metadata": {},
     "output_type": "display_data"
    },
    {
     "data": {
      "application/vnd.plotly.v1+json": {
       "data": [
        {
         "colorscale": "Viridis",
         "type": "heatmap",
         "z": [
          [
           0,
           0,
           0,
           0,
           0,
           0,
           0,
           0,
           0,
           0
          ],
          [
           0,
           0.7205999999999999,
           0.15089999999999998,
           0.0469,
           0.0248,
           0.0183,
           0.0213,
           0.010499999999999999,
           0.0037000000000000006,
           0.003
          ],
          [
           0,
           0.5583,
           0.22039999999999998,
           0.075,
           0.042600000000000006,
           0.035300000000000005,
           0.032400000000000005,
           0.0223,
           0.007400000000000001,
           0.006300000000000002
          ],
          [
           0,
           0.4624,
           0.25189999999999996,
           0.0944,
           0.05750000000000001,
           0.045700000000000005,
           0.041999999999999996,
           0.027700000000000002,
           0.011,
           0.007400000000000001
          ],
          [
           0,
           0.414,
           0.2601,
           0.09629999999999998,
           0.0715,
           0.0566,
           0.0449,
           0.034800000000000005,
           0.0126,
           0.0092
          ],
          [
           0,
           0.37629999999999997,
           0.2587,
           0.1125,
           0.0664,
           0.0641,
           0.052500000000000005,
           0.0412,
           0.016800000000000002,
           0.0115
          ],
          [
           0,
           0.35409999999999997,
           0.2614,
           0.10729999999999999,
           0.0759,
           0.0644,
           0.058100000000000006,
           0.043300000000000005,
           0.022899999999999997,
           0.0126
          ],
          [
           0,
           0.3358,
           0.25780000000000003,
           0.1012,
           0.07930000000000001,
           0.06939999999999999,
           0.06080000000000001,
           0.0536,
           0.0262,
           0.0159
          ],
          [
           0,
           0.3257,
           0.2577,
           0.10900000000000001,
           0.08080000000000001,
           0.06800000000000002,
           0.060899999999999996,
           0.0588,
           0.0258,
           0.013299999999999998
          ],
          [
           0,
           0.3223,
           0.25050000000000006,
           0.10800000000000001,
           0.08280000000000001,
           0.07089999999999999,
           0.0659,
           0.05600000000000001,
           0.0274,
           0.0162
          ]
         ]
        }
       ],
       "layout": {
        "height": 500,
        "title": "Choice after 4000 Iterations at Glimpse 9",
        "width": 500,
        "xaxis": {
         "dtick": 1,
         "range": [
          0.5,
          9.5
         ],
         "title": "Predicted Class"
        },
        "yaxis": {
         "dtick": 1,
         "range": [
          9.5,
          0.5
         ],
         "title": "True Class"
        }
       }
      },
      "text/html": [
       "<div id=\"463c9f8d-a707-48ad-885c-b0e9b4c6ec40\" style=\"height: 500px; width: 500px;\" class=\"plotly-graph-div\"></div><script type=\"text/javascript\">require([\"plotly\"], function(Plotly) { window.PLOTLYENV=window.PLOTLYENV || {};window.PLOTLYENV.BASE_URL=\"https://plot.ly\";Plotly.newPlot(\"463c9f8d-a707-48ad-885c-b0e9b4c6ec40\", [{\"z\": [[0.0, 0.0, 0.0, 0.0, 0.0, 0.0, 0.0, 0.0, 0.0, 0.0], [0.0, 0.7205999999999999, 0.15089999999999998, 0.0469, 0.0248, 0.0183, 0.0213, 0.010499999999999999, 0.0037000000000000006, 0.003], [0.0, 0.5583, 0.22039999999999998, 0.075, 0.042600000000000006, 0.035300000000000005, 0.032400000000000005, 0.0223, 0.007400000000000001, 0.006300000000000002], [0.0, 0.4624, 0.25189999999999996, 0.0944, 0.05750000000000001, 0.045700000000000005, 0.041999999999999996, 0.027700000000000002, 0.011, 0.007400000000000001], [0.0, 0.414, 0.2601, 0.09629999999999998, 0.0715, 0.0566, 0.0449, 0.034800000000000005, 0.0126, 0.0092], [0.0, 0.37629999999999997, 0.2587, 0.1125, 0.0664, 0.0641, 0.052500000000000005, 0.0412, 0.016800000000000002, 0.0115], [0.0, 0.35409999999999997, 0.2614, 0.10729999999999999, 0.0759, 0.0644, 0.058100000000000006, 0.043300000000000005, 0.022899999999999997, 0.0126], [0.0, 0.3358, 0.25780000000000003, 0.1012, 0.07930000000000001, 0.06939999999999999, 0.06080000000000001, 0.0536, 0.0262, 0.0159], [0.0, 0.3257, 0.2577, 0.10900000000000001, 0.08080000000000001, 0.06800000000000002, 0.060899999999999996, 0.0588, 0.0258, 0.013299999999999998], [0.0, 0.3223, 0.25050000000000006, 0.10800000000000001, 0.08280000000000001, 0.07089999999999999, 0.0659, 0.05600000000000001, 0.0274, 0.0162]], \"type\": \"heatmap\", \"colorscale\": \"Viridis\"}], {\"width\": 500, \"height\": 500, \"xaxis\": {\"title\": \"Predicted Class\", \"dtick\": 1, \"range\": [0.5, 9.5]}, \"title\": \"Choice after 4000 Iterations at Glimpse 9\", \"yaxis\": {\"title\": \"True Class\", \"dtick\": 1, \"range\": [9.5, 0.5]}}, {\"linkText\": \"Export to plot.ly\", \"showLink\": true})});</script>"
      ],
      "text/vnd.plotly.v1+html": [
       "<div id=\"463c9f8d-a707-48ad-885c-b0e9b4c6ec40\" style=\"height: 500px; width: 500px;\" class=\"plotly-graph-div\"></div><script type=\"text/javascript\">require([\"plotly\"], function(Plotly) { window.PLOTLYENV=window.PLOTLYENV || {};window.PLOTLYENV.BASE_URL=\"https://plot.ly\";Plotly.newPlot(\"463c9f8d-a707-48ad-885c-b0e9b4c6ec40\", [{\"z\": [[0.0, 0.0, 0.0, 0.0, 0.0, 0.0, 0.0, 0.0, 0.0, 0.0], [0.0, 0.7205999999999999, 0.15089999999999998, 0.0469, 0.0248, 0.0183, 0.0213, 0.010499999999999999, 0.0037000000000000006, 0.003], [0.0, 0.5583, 0.22039999999999998, 0.075, 0.042600000000000006, 0.035300000000000005, 0.032400000000000005, 0.0223, 0.007400000000000001, 0.006300000000000002], [0.0, 0.4624, 0.25189999999999996, 0.0944, 0.05750000000000001, 0.045700000000000005, 0.041999999999999996, 0.027700000000000002, 0.011, 0.007400000000000001], [0.0, 0.414, 0.2601, 0.09629999999999998, 0.0715, 0.0566, 0.0449, 0.034800000000000005, 0.0126, 0.0092], [0.0, 0.37629999999999997, 0.2587, 0.1125, 0.0664, 0.0641, 0.052500000000000005, 0.0412, 0.016800000000000002, 0.0115], [0.0, 0.35409999999999997, 0.2614, 0.10729999999999999, 0.0759, 0.0644, 0.058100000000000006, 0.043300000000000005, 0.022899999999999997, 0.0126], [0.0, 0.3358, 0.25780000000000003, 0.1012, 0.07930000000000001, 0.06939999999999999, 0.06080000000000001, 0.0536, 0.0262, 0.0159], [0.0, 0.3257, 0.2577, 0.10900000000000001, 0.08080000000000001, 0.06800000000000002, 0.060899999999999996, 0.0588, 0.0258, 0.013299999999999998], [0.0, 0.3223, 0.25050000000000006, 0.10800000000000001, 0.08280000000000001, 0.07089999999999999, 0.0659, 0.05600000000000001, 0.0274, 0.0162]], \"type\": \"heatmap\", \"colorscale\": \"Viridis\"}], {\"width\": 500, \"height\": 500, \"xaxis\": {\"title\": \"Predicted Class\", \"dtick\": 1, \"range\": [0.5, 9.5]}, \"title\": \"Choice after 4000 Iterations at Glimpse 9\", \"yaxis\": {\"title\": \"True Class\", \"dtick\": 1, \"range\": [9.5, 0.5]}}, {\"linkText\": \"Export to plot.ly\", \"showLink\": true})});</script>"
      ]
     },
     "metadata": {},
     "output_type": "display_data"
    },
    {
     "data": {
      "application/vnd.plotly.v1+json": {
       "data": [
        {
         "colorscale": "Viridis",
         "type": "heatmap",
         "z": [
          [
           0,
           0,
           0,
           0,
           0,
           0,
           0,
           0,
           0,
           0
          ],
          [
           0,
           0.48817091024958065,
           0.18185481464229122,
           0.10373574838366018,
           0.07087311461638468,
           0.0533069044271684,
           0.03788757007300882,
           0.027101070668831474,
           0.022111889407546954,
           0.0149579776183067
          ],
          [
           0,
           0.380125145486143,
           0.18189639226959095,
           0.11703267297194679,
           0.09043540196382106,
           0.07248456902418321,
           0.05699887547398411,
           0.04242380966830857,
           0.03533223966223524,
           0.023270893839741413
          ],
          [
           0,
           0.30361126907390057,
           0.1730362342516874,
           0.1252074967567755,
           0.10102227994221316,
           0.08711986643995617,
           0.0710690755071759,
           0.05826970395789981,
           0.04889897597606028,
           0.03176509746091362
          ],
          [
           0,
           0.23856143651099168,
           0.1598603886040409,
           0.12902740589794853,
           0.11101225562829906,
           0.09869736555337857,
           0.08755512953453218,
           0.07295484317429352,
           0.06076317287405915,
           0.041568002299596035
          ],
          [
           0,
           0.19707750007255426,
           0.14405481042860846,
           0.12528695768095416,
           0.11686118135307784,
           0.10373797484266581,
           0.09988185343210512,
           0.08493133997572591,
           0.07783724741639551,
           0.050331134882543996
          ],
          [
           0,
           0.1624467411704012,
           0.13579767271234994,
           0.12427985832421033,
           0.11796459205656103,
           0.11400144146663731,
           0.10861021873524083,
           0.09418961361888781,
           0.08712686965499077,
           0.05558299220254272
          ],
          [
           0,
           0.13791835646388967,
           0.12129893294505747,
           0.11938768575559269,
           0.11947028479233797,
           0.11793863840501095,
           0.11862572606137955,
           0.10443802143076238,
           0.0967958478276089,
           0.06412650660782651
          ],
          [
           0,
           0.11691520768008874,
           0.10911212200974099,
           0.11678413567142402,
           0.11748886159535092,
           0.12060198769538413,
           0.12832304399424072,
           0.11776063544119834,
           0.10321200962365314,
           0.06980199621311957
          ],
          [
           0,
           0.10368248105802862,
           0.1041690498975408,
           0.11207898697102388,
           0.11697702732225701,
           0.12359662428062794,
           0.1284034886157394,
           0.12275292788895717,
           0.11065183362966377,
           0.07768758061105127
          ]
         ]
        }
       ],
       "layout": {
        "height": 500,
        "title": "Confidence after 16000 Iterations at Glimpse 0",
        "width": 500,
        "xaxis": {
         "dtick": 1,
         "range": [
          0.5,
          9.5
         ],
         "title": "Predicted Class"
        },
        "yaxis": {
         "dtick": 1,
         "range": [
          9.5,
          0.5
         ],
         "title": "True Class"
        }
       }
      },
      "text/html": [
       "<div id=\"3f6c41b7-abee-4e9c-a0fd-8a571cb06efa\" style=\"height: 500px; width: 500px;\" class=\"plotly-graph-div\"></div><script type=\"text/javascript\">require([\"plotly\"], function(Plotly) { window.PLOTLYENV=window.PLOTLYENV || {};window.PLOTLYENV.BASE_URL=\"https://plot.ly\";Plotly.newPlot(\"3f6c41b7-abee-4e9c-a0fd-8a571cb06efa\", [{\"z\": [[0.0, 0.0, 0.0, 0.0, 0.0, 0.0, 0.0, 0.0, 0.0, 0.0], [0.0, 0.48817091024958065, 0.18185481464229122, 0.10373574838366018, 0.07087311461638468, 0.0533069044271684, 0.03788757007300882, 0.027101070668831474, 0.022111889407546954, 0.0149579776183067], [0.0, 0.380125145486143, 0.18189639226959095, 0.11703267297194679, 0.09043540196382106, 0.07248456902418321, 0.05699887547398411, 0.04242380966830857, 0.03533223966223524, 0.023270893839741413], [0.0, 0.30361126907390057, 0.1730362342516874, 0.1252074967567755, 0.10102227994221316, 0.08711986643995617, 0.0710690755071759, 0.05826970395789981, 0.04889897597606028, 0.03176509746091362], [0.0, 0.23856143651099168, 0.1598603886040409, 0.12902740589794853, 0.11101225562829906, 0.09869736555337857, 0.08755512953453218, 0.07295484317429352, 0.06076317287405915, 0.041568002299596035], [0.0, 0.19707750007255426, 0.14405481042860846, 0.12528695768095416, 0.11686118135307784, 0.10373797484266581, 0.09988185343210512, 0.08493133997572591, 0.07783724741639551, 0.050331134882543996], [0.0, 0.1624467411704012, 0.13579767271234994, 0.12427985832421033, 0.11796459205656103, 0.11400144146663731, 0.10861021873524083, 0.09418961361888781, 0.08712686965499077, 0.05558299220254272], [0.0, 0.13791835646388967, 0.12129893294505747, 0.11938768575559269, 0.11947028479233797, 0.11793863840501095, 0.11862572606137955, 0.10443802143076238, 0.0967958478276089, 0.06412650660782651], [0.0, 0.11691520768008874, 0.10911212200974099, 0.11678413567142402, 0.11748886159535092, 0.12060198769538413, 0.12832304399424072, 0.11776063544119834, 0.10321200962365314, 0.06980199621311957], [0.0, 0.10368248105802862, 0.1041690498975408, 0.11207898697102388, 0.11697702732225701, 0.12359662428062794, 0.1284034886157394, 0.12275292788895717, 0.11065183362966377, 0.07768758061105127]], \"type\": \"heatmap\", \"colorscale\": \"Viridis\"}], {\"width\": 500, \"height\": 500, \"xaxis\": {\"title\": \"Predicted Class\", \"dtick\": 1, \"range\": [0.5, 9.5]}, \"title\": \"Confidence after 16000 Iterations at Glimpse 0\", \"yaxis\": {\"title\": \"True Class\", \"dtick\": 1, \"range\": [9.5, 0.5]}}, {\"linkText\": \"Export to plot.ly\", \"showLink\": true})});</script>"
      ],
      "text/vnd.plotly.v1+html": [
       "<div id=\"3f6c41b7-abee-4e9c-a0fd-8a571cb06efa\" style=\"height: 500px; width: 500px;\" class=\"plotly-graph-div\"></div><script type=\"text/javascript\">require([\"plotly\"], function(Plotly) { window.PLOTLYENV=window.PLOTLYENV || {};window.PLOTLYENV.BASE_URL=\"https://plot.ly\";Plotly.newPlot(\"3f6c41b7-abee-4e9c-a0fd-8a571cb06efa\", [{\"z\": [[0.0, 0.0, 0.0, 0.0, 0.0, 0.0, 0.0, 0.0, 0.0, 0.0], [0.0, 0.48817091024958065, 0.18185481464229122, 0.10373574838366018, 0.07087311461638468, 0.0533069044271684, 0.03788757007300882, 0.027101070668831474, 0.022111889407546954, 0.0149579776183067], [0.0, 0.380125145486143, 0.18189639226959095, 0.11703267297194679, 0.09043540196382106, 0.07248456902418321, 0.05699887547398411, 0.04242380966830857, 0.03533223966223524, 0.023270893839741413], [0.0, 0.30361126907390057, 0.1730362342516874, 0.1252074967567755, 0.10102227994221316, 0.08711986643995617, 0.0710690755071759, 0.05826970395789981, 0.04889897597606028, 0.03176509746091362], [0.0, 0.23856143651099168, 0.1598603886040409, 0.12902740589794853, 0.11101225562829906, 0.09869736555337857, 0.08755512953453218, 0.07295484317429352, 0.06076317287405915, 0.041568002299596035], [0.0, 0.19707750007255426, 0.14405481042860846, 0.12528695768095416, 0.11686118135307784, 0.10373797484266581, 0.09988185343210512, 0.08493133997572591, 0.07783724741639551, 0.050331134882543996], [0.0, 0.1624467411704012, 0.13579767271234994, 0.12427985832421033, 0.11796459205656103, 0.11400144146663731, 0.10861021873524083, 0.09418961361888781, 0.08712686965499077, 0.05558299220254272], [0.0, 0.13791835646388967, 0.12129893294505747, 0.11938768575559269, 0.11947028479233797, 0.11793863840501095, 0.11862572606137955, 0.10443802143076238, 0.0967958478276089, 0.06412650660782651], [0.0, 0.11691520768008874, 0.10911212200974099, 0.11678413567142402, 0.11748886159535092, 0.12060198769538413, 0.12832304399424072, 0.11776063544119834, 0.10321200962365314, 0.06980199621311957], [0.0, 0.10368248105802862, 0.1041690498975408, 0.11207898697102388, 0.11697702732225701, 0.12359662428062794, 0.1284034886157394, 0.12275292788895717, 0.11065183362966377, 0.07768758061105127]], \"type\": \"heatmap\", \"colorscale\": \"Viridis\"}], {\"width\": 500, \"height\": 500, \"xaxis\": {\"title\": \"Predicted Class\", \"dtick\": 1, \"range\": [0.5, 9.5]}, \"title\": \"Confidence after 16000 Iterations at Glimpse 0\", \"yaxis\": {\"title\": \"True Class\", \"dtick\": 1, \"range\": [9.5, 0.5]}}, {\"linkText\": \"Export to plot.ly\", \"showLink\": true})});</script>"
      ]
     },
     "metadata": {},
     "output_type": "display_data"
    },
    {
     "data": {
      "application/vnd.plotly.v1+json": {
       "data": [
        {
         "colorscale": "Viridis",
         "type": "heatmap",
         "z": [
          [
           0,
           0,
           0,
           0,
           0,
           0,
           0,
           0,
           0,
           0
          ],
          [
           0,
           0.8205,
           0.0758,
           0.039400000000000004,
           0.026500000000000003,
           0.016900000000000005,
           0.009,
           0.004300000000000001,
           0.0045,
           0.0031
          ],
          [
           0,
           0.662,
           0.1216,
           0.0653,
           0.049,
           0.03530000000000001,
           0.0279,
           0.014700000000000001,
           0.014900000000000002,
           0.0093
          ],
          [
           0,
           0.5279999999999999,
           0.1384,
           0.09009999999999999,
           0.0671,
           0.0546,
           0.04379999999999999,
           0.03300000000000001,
           0.0268,
           0.0182
          ],
          [
           0,
           0.4086,
           0.143,
           0.1042,
           0.0877,
           0.07250000000000001,
           0.0634,
           0.0512,
           0.0407,
           0.028699999999999996
          ],
          [
           0,
           0.32489999999999997,
           0.1403,
           0.1103,
           0.09779999999999998,
           0.08130000000000001,
           0.0782,
           0.06460000000000002,
           0.0637,
           0.0389
          ],
          [
           0,
           0.25199999999999995,
           0.1391,
           0.1145,
           0.1082,
           0.10059999999999998,
           0.0907,
           0.07780000000000001,
           0.07429999999999999,
           0.0428
          ],
          [
           0,
           0.20060000000000003,
           0.12630000000000002,
           0.11550000000000002,
           0.1143,
           0.1059,
           0.10859999999999999,
           0.08909999999999998,
           0.0847,
           0.05500000000000001
          ],
          [
           0,
           0.1599,
           0.1127,
           0.11539999999999999,
           0.1121,
           0.11320000000000001,
           0.12110000000000001,
           0.10910000000000002,
           0.0933,
           0.0632
          ],
          [
           0,
           0.134,
           0.1046,
           0.11179999999999998,
           0.11460000000000001,
           0.11839999999999999,
           0.12589999999999998,
           0.1137,
           0.10599999999999998,
           0.07100000000000001
          ]
         ]
        }
       ],
       "layout": {
        "height": 500,
        "title": "Choice after 16000 Iterations at Glimpse 0",
        "width": 500,
        "xaxis": {
         "dtick": 1,
         "range": [
          0.5,
          9.5
         ],
         "title": "Predicted Class"
        },
        "yaxis": {
         "dtick": 1,
         "range": [
          9.5,
          0.5
         ],
         "title": "True Class"
        }
       }
      },
      "text/html": [
       "<div id=\"f4c851a1-02ef-4bb6-8844-986d0183e9c1\" style=\"height: 500px; width: 500px;\" class=\"plotly-graph-div\"></div><script type=\"text/javascript\">require([\"plotly\"], function(Plotly) { window.PLOTLYENV=window.PLOTLYENV || {};window.PLOTLYENV.BASE_URL=\"https://plot.ly\";Plotly.newPlot(\"f4c851a1-02ef-4bb6-8844-986d0183e9c1\", [{\"z\": [[0.0, 0.0, 0.0, 0.0, 0.0, 0.0, 0.0, 0.0, 0.0, 0.0], [0.0, 0.8205, 0.0758, 0.039400000000000004, 0.026500000000000003, 0.016900000000000005, 0.009, 0.004300000000000001, 0.0045, 0.0031], [0.0, 0.662, 0.1216, 0.0653, 0.049, 0.03530000000000001, 0.0279, 0.014700000000000001, 0.014900000000000002, 0.0093], [0.0, 0.5279999999999999, 0.1384, 0.09009999999999999, 0.0671, 0.0546, 0.04379999999999999, 0.03300000000000001, 0.0268, 0.0182], [0.0, 0.4086, 0.143, 0.1042, 0.0877, 0.07250000000000001, 0.0634, 0.0512, 0.0407, 0.028699999999999996], [0.0, 0.32489999999999997, 0.1403, 0.1103, 0.09779999999999998, 0.08130000000000001, 0.0782, 0.06460000000000002, 0.0637, 0.0389], [0.0, 0.25199999999999995, 0.1391, 0.1145, 0.1082, 0.10059999999999998, 0.0907, 0.07780000000000001, 0.07429999999999999, 0.0428], [0.0, 0.20060000000000003, 0.12630000000000002, 0.11550000000000002, 0.1143, 0.1059, 0.10859999999999999, 0.08909999999999998, 0.0847, 0.05500000000000001], [0.0, 0.1599, 0.1127, 0.11539999999999999, 0.1121, 0.11320000000000001, 0.12110000000000001, 0.10910000000000002, 0.0933, 0.0632], [0.0, 0.134, 0.1046, 0.11179999999999998, 0.11460000000000001, 0.11839999999999999, 0.12589999999999998, 0.1137, 0.10599999999999998, 0.07100000000000001]], \"type\": \"heatmap\", \"colorscale\": \"Viridis\"}], {\"width\": 500, \"height\": 500, \"xaxis\": {\"title\": \"Predicted Class\", \"dtick\": 1, \"range\": [0.5, 9.5]}, \"title\": \"Choice after 16000 Iterations at Glimpse 0\", \"yaxis\": {\"title\": \"True Class\", \"dtick\": 1, \"range\": [9.5, 0.5]}}, {\"linkText\": \"Export to plot.ly\", \"showLink\": true})});</script>"
      ],
      "text/vnd.plotly.v1+html": [
       "<div id=\"f4c851a1-02ef-4bb6-8844-986d0183e9c1\" style=\"height: 500px; width: 500px;\" class=\"plotly-graph-div\"></div><script type=\"text/javascript\">require([\"plotly\"], function(Plotly) { window.PLOTLYENV=window.PLOTLYENV || {};window.PLOTLYENV.BASE_URL=\"https://plot.ly\";Plotly.newPlot(\"f4c851a1-02ef-4bb6-8844-986d0183e9c1\", [{\"z\": [[0.0, 0.0, 0.0, 0.0, 0.0, 0.0, 0.0, 0.0, 0.0, 0.0], [0.0, 0.8205, 0.0758, 0.039400000000000004, 0.026500000000000003, 0.016900000000000005, 0.009, 0.004300000000000001, 0.0045, 0.0031], [0.0, 0.662, 0.1216, 0.0653, 0.049, 0.03530000000000001, 0.0279, 0.014700000000000001, 0.014900000000000002, 0.0093], [0.0, 0.5279999999999999, 0.1384, 0.09009999999999999, 0.0671, 0.0546, 0.04379999999999999, 0.03300000000000001, 0.0268, 0.0182], [0.0, 0.4086, 0.143, 0.1042, 0.0877, 0.07250000000000001, 0.0634, 0.0512, 0.0407, 0.028699999999999996], [0.0, 0.32489999999999997, 0.1403, 0.1103, 0.09779999999999998, 0.08130000000000001, 0.0782, 0.06460000000000002, 0.0637, 0.0389], [0.0, 0.25199999999999995, 0.1391, 0.1145, 0.1082, 0.10059999999999998, 0.0907, 0.07780000000000001, 0.07429999999999999, 0.0428], [0.0, 0.20060000000000003, 0.12630000000000002, 0.11550000000000002, 0.1143, 0.1059, 0.10859999999999999, 0.08909999999999998, 0.0847, 0.05500000000000001], [0.0, 0.1599, 0.1127, 0.11539999999999999, 0.1121, 0.11320000000000001, 0.12110000000000001, 0.10910000000000002, 0.0933, 0.0632], [0.0, 0.134, 0.1046, 0.11179999999999998, 0.11460000000000001, 0.11839999999999999, 0.12589999999999998, 0.1137, 0.10599999999999998, 0.07100000000000001]], \"type\": \"heatmap\", \"colorscale\": \"Viridis\"}], {\"width\": 500, \"height\": 500, \"xaxis\": {\"title\": \"Predicted Class\", \"dtick\": 1, \"range\": [0.5, 9.5]}, \"title\": \"Choice after 16000 Iterations at Glimpse 0\", \"yaxis\": {\"title\": \"True Class\", \"dtick\": 1, \"range\": [9.5, 0.5]}}, {\"linkText\": \"Export to plot.ly\", \"showLink\": true})});</script>"
      ]
     },
     "metadata": {},
     "output_type": "display_data"
    },
    {
     "data": {
      "application/vnd.plotly.v1+json": {
       "data": [
        {
         "colorscale": "Viridis",
         "type": "heatmap",
         "z": [
          [
           0,
           0,
           0,
           0,
           0,
           0,
           0,
           0,
           0,
           0
          ],
          [
           0,
           0.5237475895548436,
           0.19833146125296167,
           0.11687787125144697,
           0.06636962292528652,
           0.03569913833456839,
           0.02349453577457171,
           0.016189588025456714,
           0.011844413995029533,
           0.007445779496464726
          ],
          [
           0,
           0.3946890554036867,
           0.1973771235363305,
           0.14207067811052954,
           0.09086154038604588,
           0.05698261829878194,
           0.04283357906189517,
           0.033132742022927056,
           0.02557145508541528,
           0.01648120863747301
          ],
          [
           0,
           0.3079114869174049,
           0.1840686544213202,
           0.15064960070862318,
           0.10560459625794334,
           0.07466394498615386,
           0.0625455996898348,
           0.049612600731657346,
           0.03862652885223615,
           0.026316987069961127
          ],
          [
           0,
           0.23271168843167372,
           0.16818676490118087,
           0.1560401746997619,
           0.11725327644239522,
           0.08760902904631833,
           0.078841507115384,
           0.06804320329309903,
           0.05367460195990668,
           0.037639754282627336
          ],
          [
           0,
           0.18326517046728946,
           0.14776604683073402,
           0.14922281079766023,
           0.1235829248362755,
           0.09948489907008695,
           0.0944484340226549,
           0.08250427476450775,
           0.06804177288202688,
           0.05168366498607881
          ],
          [
           0,
           0.14786508546722416,
           0.1315892799761465,
           0.14338727774840476,
           0.12961143642256373,
           0.10763262567264528,
           0.1049541590279355,
           0.09854406208826691,
           0.0778337724181226,
           0.05858230135524324
          ],
          [
           0,
           0.11682592240123543,
           0.11505470021733681,
           0.13547480505528045,
           0.12953392398749417,
           0.11092788216887209,
           0.11748416875059775,
           0.11383096408606716,
           0.09052548385688915,
           0.07034214969197465
          ],
          [
           0,
           0.09596388894598258,
           0.10004863205863117,
           0.12925392514568237,
           0.12722122748622905,
           0.11646851837338248,
           0.12633204924770416,
           0.11889490130462041,
           0.1046482524515289,
           0.08116860409778953
          ],
          [
           0,
           0.08317775276423933,
           0.08996681818316743,
           0.12143414511502075,
           0.12315682843892747,
           0.11984502517010058,
           0.1301331645710351,
           0.13258163357864777,
           0.1120581140555755,
           0.08764651850598777
          ]
         ]
        }
       ],
       "layout": {
        "height": 500,
        "title": "Confidence after 16000 Iterations at Glimpse 3",
        "width": 500,
        "xaxis": {
         "dtick": 1,
         "range": [
          0.5,
          9.5
         ],
         "title": "Predicted Class"
        },
        "yaxis": {
         "dtick": 1,
         "range": [
          9.5,
          0.5
         ],
         "title": "True Class"
        }
       }
      },
      "text/html": [
       "<div id=\"96c5d6c2-5c98-4749-989b-0e82d226434c\" style=\"height: 500px; width: 500px;\" class=\"plotly-graph-div\"></div><script type=\"text/javascript\">require([\"plotly\"], function(Plotly) { window.PLOTLYENV=window.PLOTLYENV || {};window.PLOTLYENV.BASE_URL=\"https://plot.ly\";Plotly.newPlot(\"96c5d6c2-5c98-4749-989b-0e82d226434c\", [{\"z\": [[0.0, 0.0, 0.0, 0.0, 0.0, 0.0, 0.0, 0.0, 0.0, 0.0], [0.0, 0.5237475895548436, 0.19833146125296167, 0.11687787125144697, 0.06636962292528652, 0.03569913833456839, 0.02349453577457171, 0.016189588025456714, 0.011844413995029533, 0.007445779496464726], [0.0, 0.3946890554036867, 0.1973771235363305, 0.14207067811052954, 0.09086154038604588, 0.05698261829878194, 0.04283357906189517, 0.033132742022927056, 0.02557145508541528, 0.01648120863747301], [0.0, 0.3079114869174049, 0.1840686544213202, 0.15064960070862318, 0.10560459625794334, 0.07466394498615386, 0.0625455996898348, 0.049612600731657346, 0.03862652885223615, 0.026316987069961127], [0.0, 0.23271168843167372, 0.16818676490118087, 0.1560401746997619, 0.11725327644239522, 0.08760902904631833, 0.078841507115384, 0.06804320329309903, 0.05367460195990668, 0.037639754282627336], [0.0, 0.18326517046728946, 0.14776604683073402, 0.14922281079766023, 0.1235829248362755, 0.09948489907008695, 0.0944484340226549, 0.08250427476450775, 0.06804177288202688, 0.05168366498607881], [0.0, 0.14786508546722416, 0.1315892799761465, 0.14338727774840476, 0.12961143642256373, 0.10763262567264528, 0.1049541590279355, 0.09854406208826691, 0.0778337724181226, 0.05858230135524324], [0.0, 0.11682592240123543, 0.11505470021733681, 0.13547480505528045, 0.12953392398749417, 0.11092788216887209, 0.11748416875059775, 0.11383096408606716, 0.09052548385688915, 0.07034214969197465], [0.0, 0.09596388894598258, 0.10004863205863117, 0.12925392514568237, 0.12722122748622905, 0.11646851837338248, 0.12633204924770416, 0.11889490130462041, 0.1046482524515289, 0.08116860409778953], [0.0, 0.08317775276423933, 0.08996681818316743, 0.12143414511502075, 0.12315682843892747, 0.11984502517010058, 0.1301331645710351, 0.13258163357864777, 0.1120581140555755, 0.08764651850598777]], \"type\": \"heatmap\", \"colorscale\": \"Viridis\"}], {\"width\": 500, \"height\": 500, \"xaxis\": {\"title\": \"Predicted Class\", \"dtick\": 1, \"range\": [0.5, 9.5]}, \"title\": \"Confidence after 16000 Iterations at Glimpse 3\", \"yaxis\": {\"title\": \"True Class\", \"dtick\": 1, \"range\": [9.5, 0.5]}}, {\"linkText\": \"Export to plot.ly\", \"showLink\": true})});</script>"
      ],
      "text/vnd.plotly.v1+html": [
       "<div id=\"96c5d6c2-5c98-4749-989b-0e82d226434c\" style=\"height: 500px; width: 500px;\" class=\"plotly-graph-div\"></div><script type=\"text/javascript\">require([\"plotly\"], function(Plotly) { window.PLOTLYENV=window.PLOTLYENV || {};window.PLOTLYENV.BASE_URL=\"https://plot.ly\";Plotly.newPlot(\"96c5d6c2-5c98-4749-989b-0e82d226434c\", [{\"z\": [[0.0, 0.0, 0.0, 0.0, 0.0, 0.0, 0.0, 0.0, 0.0, 0.0], [0.0, 0.5237475895548436, 0.19833146125296167, 0.11687787125144697, 0.06636962292528652, 0.03569913833456839, 0.02349453577457171, 0.016189588025456714, 0.011844413995029533, 0.007445779496464726], [0.0, 0.3946890554036867, 0.1973771235363305, 0.14207067811052954, 0.09086154038604588, 0.05698261829878194, 0.04283357906189517, 0.033132742022927056, 0.02557145508541528, 0.01648120863747301], [0.0, 0.3079114869174049, 0.1840686544213202, 0.15064960070862318, 0.10560459625794334, 0.07466394498615386, 0.0625455996898348, 0.049612600731657346, 0.03862652885223615, 0.026316987069961127], [0.0, 0.23271168843167372, 0.16818676490118087, 0.1560401746997619, 0.11725327644239522, 0.08760902904631833, 0.078841507115384, 0.06804320329309903, 0.05367460195990668, 0.037639754282627336], [0.0, 0.18326517046728946, 0.14776604683073402, 0.14922281079766023, 0.1235829248362755, 0.09948489907008695, 0.0944484340226549, 0.08250427476450775, 0.06804177288202688, 0.05168366498607881], [0.0, 0.14786508546722416, 0.1315892799761465, 0.14338727774840476, 0.12961143642256373, 0.10763262567264528, 0.1049541590279355, 0.09854406208826691, 0.0778337724181226, 0.05858230135524324], [0.0, 0.11682592240123543, 0.11505470021733681, 0.13547480505528045, 0.12953392398749417, 0.11092788216887209, 0.11748416875059775, 0.11383096408606716, 0.09052548385688915, 0.07034214969197465], [0.0, 0.09596388894598258, 0.10004863205863117, 0.12925392514568237, 0.12722122748622905, 0.11646851837338248, 0.12633204924770416, 0.11889490130462041, 0.1046482524515289, 0.08116860409778953], [0.0, 0.08317775276423933, 0.08996681818316743, 0.12143414511502075, 0.12315682843892747, 0.11984502517010058, 0.1301331645710351, 0.13258163357864777, 0.1120581140555755, 0.08764651850598777]], \"type\": \"heatmap\", \"colorscale\": \"Viridis\"}], {\"width\": 500, \"height\": 500, \"xaxis\": {\"title\": \"Predicted Class\", \"dtick\": 1, \"range\": [0.5, 9.5]}, \"title\": \"Confidence after 16000 Iterations at Glimpse 3\", \"yaxis\": {\"title\": \"True Class\", \"dtick\": 1, \"range\": [9.5, 0.5]}}, {\"linkText\": \"Export to plot.ly\", \"showLink\": true})});</script>"
      ]
     },
     "metadata": {},
     "output_type": "display_data"
    },
    {
     "data": {
      "application/vnd.plotly.v1+json": {
       "data": [
        {
         "colorscale": "Viridis",
         "type": "heatmap",
         "z": [
          [
           0,
           0,
           0,
           0,
           0,
           0,
           0,
           0,
           0,
           0
          ],
          [
           0,
           0.8045,
           0.08760000000000001,
           0.06190000000000001,
           0.0318,
           0.0071,
           0.0015,
           0.0013999999999999998,
           0.0029000000000000002,
           0.0013000000000000002
          ],
          [
           0,
           0.6239000000000001,
           0.1326,
           0.1162,
           0.0561,
           0.022200000000000004,
           0.014099999999999998,
           0.013800000000000002,
           0.013300000000000001,
           0.007800000000000001
          ],
          [
           0,
           0.4849,
           0.1475,
           0.14450000000000002,
           0.07980000000000001,
           0.04190000000000001,
           0.0339,
           0.028200000000000003,
           0.0224,
           0.0169
          ],
          [
           0,
           0.36160000000000003,
           0.15839999999999999,
           0.1658,
           0.09620000000000001,
           0.0517,
           0.0507,
           0.0493,
           0.0392,
           0.027100000000000003
          ],
          [
           0,
           0.275,
           0.1426,
           0.16260000000000002,
           0.1122,
           0.07169999999999999,
           0.0707,
           0.06710000000000002,
           0.053000000000000005,
           0.04509999999999999
          ],
          [
           0,
           0.2109,
           0.1276,
           0.16209999999999997,
           0.12409999999999999,
           0.08670000000000001,
           0.088,
           0.08549999999999999,
           0.0657,
           0.0494
          ],
          [
           0,
           0.1569,
           0.11539999999999999,
           0.15360000000000001,
           0.1264,
           0.08819999999999999,
           0.10979999999999998,
           0.10559999999999999,
           0.07909999999999999,
           0.06499999999999999
          ],
          [
           0,
           0.12079999999999999,
           0.10029999999999999,
           0.14950000000000002,
           0.1263,
           0.0965,
           0.12049999999999998,
           0.11069999999999999,
           0.0984,
           0.07699999999999999
          ],
          [
           0,
           0.09890000000000002,
           0.08730000000000002,
           0.13590000000000002,
           0.1253,
           0.10850000000000001,
           0.1237,
           0.13,
           0.1059,
           0.08449999999999999
          ]
         ]
        }
       ],
       "layout": {
        "height": 500,
        "title": "Choice after 16000 Iterations at Glimpse 3",
        "width": 500,
        "xaxis": {
         "dtick": 1,
         "range": [
          0.5,
          9.5
         ],
         "title": "Predicted Class"
        },
        "yaxis": {
         "dtick": 1,
         "range": [
          9.5,
          0.5
         ],
         "title": "True Class"
        }
       }
      },
      "text/html": [
       "<div id=\"5365142a-9f95-4a99-a5be-66c869510b5d\" style=\"height: 500px; width: 500px;\" class=\"plotly-graph-div\"></div><script type=\"text/javascript\">require([\"plotly\"], function(Plotly) { window.PLOTLYENV=window.PLOTLYENV || {};window.PLOTLYENV.BASE_URL=\"https://plot.ly\";Plotly.newPlot(\"5365142a-9f95-4a99-a5be-66c869510b5d\", [{\"z\": [[0.0, 0.0, 0.0, 0.0, 0.0, 0.0, 0.0, 0.0, 0.0, 0.0], [0.0, 0.8045, 0.08760000000000001, 0.06190000000000001, 0.0318, 0.0071, 0.0015, 0.0013999999999999998, 0.0029000000000000002, 0.0013000000000000002], [0.0, 0.6239000000000001, 0.1326, 0.1162, 0.0561, 0.022200000000000004, 0.014099999999999998, 0.013800000000000002, 0.013300000000000001, 0.007800000000000001], [0.0, 0.4849, 0.1475, 0.14450000000000002, 0.07980000000000001, 0.04190000000000001, 0.0339, 0.028200000000000003, 0.0224, 0.0169], [0.0, 0.36160000000000003, 0.15839999999999999, 0.1658, 0.09620000000000001, 0.0517, 0.0507, 0.0493, 0.0392, 0.027100000000000003], [0.0, 0.275, 0.1426, 0.16260000000000002, 0.1122, 0.07169999999999999, 0.0707, 0.06710000000000002, 0.053000000000000005, 0.04509999999999999], [0.0, 0.2109, 0.1276, 0.16209999999999997, 0.12409999999999999, 0.08670000000000001, 0.088, 0.08549999999999999, 0.0657, 0.0494], [0.0, 0.1569, 0.11539999999999999, 0.15360000000000001, 0.1264, 0.08819999999999999, 0.10979999999999998, 0.10559999999999999, 0.07909999999999999, 0.06499999999999999], [0.0, 0.12079999999999999, 0.10029999999999999, 0.14950000000000002, 0.1263, 0.0965, 0.12049999999999998, 0.11069999999999999, 0.0984, 0.07699999999999999], [0.0, 0.09890000000000002, 0.08730000000000002, 0.13590000000000002, 0.1253, 0.10850000000000001, 0.1237, 0.13, 0.1059, 0.08449999999999999]], \"type\": \"heatmap\", \"colorscale\": \"Viridis\"}], {\"width\": 500, \"height\": 500, \"xaxis\": {\"title\": \"Predicted Class\", \"dtick\": 1, \"range\": [0.5, 9.5]}, \"title\": \"Choice after 16000 Iterations at Glimpse 3\", \"yaxis\": {\"title\": \"True Class\", \"dtick\": 1, \"range\": [9.5, 0.5]}}, {\"linkText\": \"Export to plot.ly\", \"showLink\": true})});</script>"
      ],
      "text/vnd.plotly.v1+html": [
       "<div id=\"5365142a-9f95-4a99-a5be-66c869510b5d\" style=\"height: 500px; width: 500px;\" class=\"plotly-graph-div\"></div><script type=\"text/javascript\">require([\"plotly\"], function(Plotly) { window.PLOTLYENV=window.PLOTLYENV || {};window.PLOTLYENV.BASE_URL=\"https://plot.ly\";Plotly.newPlot(\"5365142a-9f95-4a99-a5be-66c869510b5d\", [{\"z\": [[0.0, 0.0, 0.0, 0.0, 0.0, 0.0, 0.0, 0.0, 0.0, 0.0], [0.0, 0.8045, 0.08760000000000001, 0.06190000000000001, 0.0318, 0.0071, 0.0015, 0.0013999999999999998, 0.0029000000000000002, 0.0013000000000000002], [0.0, 0.6239000000000001, 0.1326, 0.1162, 0.0561, 0.022200000000000004, 0.014099999999999998, 0.013800000000000002, 0.013300000000000001, 0.007800000000000001], [0.0, 0.4849, 0.1475, 0.14450000000000002, 0.07980000000000001, 0.04190000000000001, 0.0339, 0.028200000000000003, 0.0224, 0.0169], [0.0, 0.36160000000000003, 0.15839999999999999, 0.1658, 0.09620000000000001, 0.0517, 0.0507, 0.0493, 0.0392, 0.027100000000000003], [0.0, 0.275, 0.1426, 0.16260000000000002, 0.1122, 0.07169999999999999, 0.0707, 0.06710000000000002, 0.053000000000000005, 0.04509999999999999], [0.0, 0.2109, 0.1276, 0.16209999999999997, 0.12409999999999999, 0.08670000000000001, 0.088, 0.08549999999999999, 0.0657, 0.0494], [0.0, 0.1569, 0.11539999999999999, 0.15360000000000001, 0.1264, 0.08819999999999999, 0.10979999999999998, 0.10559999999999999, 0.07909999999999999, 0.06499999999999999], [0.0, 0.12079999999999999, 0.10029999999999999, 0.14950000000000002, 0.1263, 0.0965, 0.12049999999999998, 0.11069999999999999, 0.0984, 0.07699999999999999], [0.0, 0.09890000000000002, 0.08730000000000002, 0.13590000000000002, 0.1253, 0.10850000000000001, 0.1237, 0.13, 0.1059, 0.08449999999999999]], \"type\": \"heatmap\", \"colorscale\": \"Viridis\"}], {\"width\": 500, \"height\": 500, \"xaxis\": {\"title\": \"Predicted Class\", \"dtick\": 1, \"range\": [0.5, 9.5]}, \"title\": \"Choice after 16000 Iterations at Glimpse 3\", \"yaxis\": {\"title\": \"True Class\", \"dtick\": 1, \"range\": [9.5, 0.5]}}, {\"linkText\": \"Export to plot.ly\", \"showLink\": true})});</script>"
      ]
     },
     "metadata": {},
     "output_type": "display_data"
    },
    {
     "data": {
      "application/vnd.plotly.v1+json": {
       "data": [
        {
         "colorscale": "Viridis",
         "type": "heatmap",
         "z": [
          [
           0,
           0,
           0,
           0,
           0,
           0,
           0,
           0,
           0,
           0
          ],
          [
           0,
           0.47921087600565515,
           0.185251634265529,
           0.12857466077851132,
           0.07849803477157838,
           0.04218933663266362,
           0.03151886766720563,
           0.025506044853804633,
           0.017790127983991988,
           0.011460417606489498
          ],
          [
           0,
           0.3775268307603148,
           0.18014648647926707,
           0.14851730002224214,
           0.09949682350505609,
           0.05879623495400301,
           0.04769138510744087,
           0.040335643103835174,
           0.02854315416897953,
           0.018946141564723802
          ],
          [
           0,
           0.30462652616090496,
           0.17096238463919328,
           0.15797629876657154,
           0.11325325372984515,
           0.07086269448247332,
           0.062257624992768976,
           0.05352781913008074,
           0.03985149633620749,
           0.026681901503691912
          ],
          [
           0,
           0.24207454448004734,
           0.15916837521976512,
           0.16296140230522468,
           0.12513451004158999,
           0.08236889148198713,
           0.07622620037378511,
           0.06601329271818976,
           0.05138892153887235,
           0.03466386101909984
          ],
          [
           0,
           0.20041234908205136,
           0.14722270953510014,
           0.1633266424852782,
           0.1301368598847315,
           0.0902376804776272,
           0.08765634037025775,
           0.07712022625840255,
           0.06198589068784495,
           0.0419013006052001
          ],
          [
           0,
           0.16906804650527518,
           0.1359058629593444,
           0.16198661674209724,
           0.13383791531841785,
           0.09802943685386999,
           0.09616486647147106,
           0.08740699965413659,
           0.06977644894128754,
           0.047823806507198675
          ],
          [
           0,
           0.14182905270692772,
           0.12454598536435232,
           0.15714548053002103,
           0.13647853909594998,
           0.10295905124362034,
           0.10595479916834374,
           0.09534019449148909,
           0.0799632618754266,
           0.055783635002641684
          ],
          [
           0,
           0.1241646203859174,
           0.1127002113864702,
           0.15333731016009083,
           0.13899960221527113,
           0.10816356313653275,
           0.11275061641229689,
           0.1031114637596253,
           0.08685797147249699,
           0.059914640675509834
          ],
          [
           0,
           0.10836044291305977,
           0.10441133373167846,
           0.14792543974712336,
           0.13846794837742485,
           0.11104900392684232,
           0.11948344755311882,
           0.11087165746700485,
           0.09415480042578092,
           0.0652759253959558
          ]
         ]
        }
       ],
       "layout": {
        "height": 500,
        "title": "Confidence after 16000 Iterations at Glimpse 9",
        "width": 500,
        "xaxis": {
         "dtick": 1,
         "range": [
          0.5,
          9.5
         ],
         "title": "Predicted Class"
        },
        "yaxis": {
         "dtick": 1,
         "range": [
          9.5,
          0.5
         ],
         "title": "True Class"
        }
       }
      },
      "text/html": [
       "<div id=\"52d3479b-3f2f-4966-926d-f597da70b022\" style=\"height: 500px; width: 500px;\" class=\"plotly-graph-div\"></div><script type=\"text/javascript\">require([\"plotly\"], function(Plotly) { window.PLOTLYENV=window.PLOTLYENV || {};window.PLOTLYENV.BASE_URL=\"https://plot.ly\";Plotly.newPlot(\"52d3479b-3f2f-4966-926d-f597da70b022\", [{\"z\": [[0.0, 0.0, 0.0, 0.0, 0.0, 0.0, 0.0, 0.0, 0.0, 0.0], [0.0, 0.47921087600565515, 0.185251634265529, 0.12857466077851132, 0.07849803477157838, 0.04218933663266362, 0.03151886766720563, 0.025506044853804633, 0.017790127983991988, 0.011460417606489498], [0.0, 0.3775268307603148, 0.18014648647926707, 0.14851730002224214, 0.09949682350505609, 0.05879623495400301, 0.04769138510744087, 0.040335643103835174, 0.02854315416897953, 0.018946141564723802], [0.0, 0.30462652616090496, 0.17096238463919328, 0.15797629876657154, 0.11325325372984515, 0.07086269448247332, 0.062257624992768976, 0.05352781913008074, 0.03985149633620749, 0.026681901503691912], [0.0, 0.24207454448004734, 0.15916837521976512, 0.16296140230522468, 0.12513451004158999, 0.08236889148198713, 0.07622620037378511, 0.06601329271818976, 0.05138892153887235, 0.03466386101909984], [0.0, 0.20041234908205136, 0.14722270953510014, 0.1633266424852782, 0.1301368598847315, 0.0902376804776272, 0.08765634037025775, 0.07712022625840255, 0.06198589068784495, 0.0419013006052001], [0.0, 0.16906804650527518, 0.1359058629593444, 0.16198661674209724, 0.13383791531841785, 0.09802943685386999, 0.09616486647147106, 0.08740699965413659, 0.06977644894128754, 0.047823806507198675], [0.0, 0.14182905270692772, 0.12454598536435232, 0.15714548053002103, 0.13647853909594998, 0.10295905124362034, 0.10595479916834374, 0.09534019449148909, 0.0799632618754266, 0.055783635002641684], [0.0, 0.1241646203859174, 0.1127002113864702, 0.15333731016009083, 0.13899960221527113, 0.10816356313653275, 0.11275061641229689, 0.1031114637596253, 0.08685797147249699, 0.059914640675509834], [0.0, 0.10836044291305977, 0.10441133373167846, 0.14792543974712336, 0.13846794837742485, 0.11104900392684232, 0.11948344755311882, 0.11087165746700485, 0.09415480042578092, 0.0652759253959558]], \"type\": \"heatmap\", \"colorscale\": \"Viridis\"}], {\"width\": 500, \"height\": 500, \"xaxis\": {\"title\": \"Predicted Class\", \"dtick\": 1, \"range\": [0.5, 9.5]}, \"title\": \"Confidence after 16000 Iterations at Glimpse 9\", \"yaxis\": {\"title\": \"True Class\", \"dtick\": 1, \"range\": [9.5, 0.5]}}, {\"linkText\": \"Export to plot.ly\", \"showLink\": true})});</script>"
      ],
      "text/vnd.plotly.v1+html": [
       "<div id=\"52d3479b-3f2f-4966-926d-f597da70b022\" style=\"height: 500px; width: 500px;\" class=\"plotly-graph-div\"></div><script type=\"text/javascript\">require([\"plotly\"], function(Plotly) { window.PLOTLYENV=window.PLOTLYENV || {};window.PLOTLYENV.BASE_URL=\"https://plot.ly\";Plotly.newPlot(\"52d3479b-3f2f-4966-926d-f597da70b022\", [{\"z\": [[0.0, 0.0, 0.0, 0.0, 0.0, 0.0, 0.0, 0.0, 0.0, 0.0], [0.0, 0.47921087600565515, 0.185251634265529, 0.12857466077851132, 0.07849803477157838, 0.04218933663266362, 0.03151886766720563, 0.025506044853804633, 0.017790127983991988, 0.011460417606489498], [0.0, 0.3775268307603148, 0.18014648647926707, 0.14851730002224214, 0.09949682350505609, 0.05879623495400301, 0.04769138510744087, 0.040335643103835174, 0.02854315416897953, 0.018946141564723802], [0.0, 0.30462652616090496, 0.17096238463919328, 0.15797629876657154, 0.11325325372984515, 0.07086269448247332, 0.062257624992768976, 0.05352781913008074, 0.03985149633620749, 0.026681901503691912], [0.0, 0.24207454448004734, 0.15916837521976512, 0.16296140230522468, 0.12513451004158999, 0.08236889148198713, 0.07622620037378511, 0.06601329271818976, 0.05138892153887235, 0.03466386101909984], [0.0, 0.20041234908205136, 0.14722270953510014, 0.1633266424852782, 0.1301368598847315, 0.0902376804776272, 0.08765634037025775, 0.07712022625840255, 0.06198589068784495, 0.0419013006052001], [0.0, 0.16906804650527518, 0.1359058629593444, 0.16198661674209724, 0.13383791531841785, 0.09802943685386999, 0.09616486647147106, 0.08740699965413659, 0.06977644894128754, 0.047823806507198675], [0.0, 0.14182905270692772, 0.12454598536435232, 0.15714548053002103, 0.13647853909594998, 0.10295905124362034, 0.10595479916834374, 0.09534019449148909, 0.0799632618754266, 0.055783635002641684], [0.0, 0.1241646203859174, 0.1127002113864702, 0.15333731016009083, 0.13899960221527113, 0.10816356313653275, 0.11275061641229689, 0.1031114637596253, 0.08685797147249699, 0.059914640675509834], [0.0, 0.10836044291305977, 0.10441133373167846, 0.14792543974712336, 0.13846794837742485, 0.11104900392684232, 0.11948344755311882, 0.11087165746700485, 0.09415480042578092, 0.0652759253959558]], \"type\": \"heatmap\", \"colorscale\": \"Viridis\"}], {\"width\": 500, \"height\": 500, \"xaxis\": {\"title\": \"Predicted Class\", \"dtick\": 1, \"range\": [0.5, 9.5]}, \"title\": \"Confidence after 16000 Iterations at Glimpse 9\", \"yaxis\": {\"title\": \"True Class\", \"dtick\": 1, \"range\": [9.5, 0.5]}}, {\"linkText\": \"Export to plot.ly\", \"showLink\": true})});</script>"
      ]
     },
     "metadata": {},
     "output_type": "display_data"
    },
    {
     "data": {
      "application/vnd.plotly.v1+json": {
       "data": [
        {
         "colorscale": "Viridis",
         "type": "heatmap",
         "z": [
          [
           0,
           0,
           0,
           0,
           0,
           0,
           0,
           0,
           0,
           0
          ],
          [
           0,
           0.8265,
           0.0649,
           0.0698,
           0.029200000000000004,
           0.0034000000000000002,
           0.001,
           0.003,
           0.0007,
           0.0015
          ],
          [
           0,
           0.6693,
           0.09490000000000001,
           0.1325,
           0.05900000000000001,
           0.012900000000000003,
           0.009600000000000003,
           0.0125,
           0.0051,
           0.004200000000000001
          ],
          [
           0,
           0.5431999999999999,
           0.1093,
           0.1729,
           0.084,
           0.022200000000000004,
           0.022699999999999998,
           0.022500000000000003,
           0.014500000000000002,
           0.0087
          ],
          [
           0,
           0.4215999999999999,
           0.1226,
           0.2016,
           0.11240000000000001,
           0.032900000000000006,
           0.03280000000000001,
           0.037,
           0.024300000000000002,
           0.014799999999999999
          ],
          [
           0,
           0.33459999999999995,
           0.12069999999999999,
           0.21870000000000003,
           0.11810000000000001,
           0.043100000000000006,
           0.055200000000000006,
           0.0518,
           0.0372,
           0.0206
          ],
          [
           0,
           0.2744,
           0.1122,
           0.22290000000000001,
           0.1276,
           0.054200000000000005,
           0.06520000000000001,
           0.07070000000000001,
           0.0474,
           0.0254
          ],
          [
           0,
           0.21399999999999997,
           0.1061,
           0.22269999999999998,
           0.1401,
           0.0622,
           0.08249999999999999,
           0.0752,
           0.059899999999999995,
           0.0373
          ],
          [
           0,
           0.18160000000000004,
           0.09190000000000001,
           0.21479999999999996,
           0.15040000000000003,
           0.0689,
           0.0912,
           0.09150000000000001,
           0.0708,
           0.038900000000000004
          ],
          [
           0,
           0.14740000000000003,
           0.0882,
           0.20250000000000004,
           0.1492,
           0.07400000000000001,
           0.10669999999999999,
           0.1025,
           0.08099999999999999,
           0.0485
          ]
         ]
        }
       ],
       "layout": {
        "height": 500,
        "title": "Choice after 16000 Iterations at Glimpse 9",
        "width": 500,
        "xaxis": {
         "dtick": 1,
         "range": [
          0.5,
          9.5
         ],
         "title": "Predicted Class"
        },
        "yaxis": {
         "dtick": 1,
         "range": [
          9.5,
          0.5
         ],
         "title": "True Class"
        }
       }
      },
      "text/html": [
       "<div id=\"29827e16-705a-4821-aff4-b6b0a2bc98e6\" style=\"height: 500px; width: 500px;\" class=\"plotly-graph-div\"></div><script type=\"text/javascript\">require([\"plotly\"], function(Plotly) { window.PLOTLYENV=window.PLOTLYENV || {};window.PLOTLYENV.BASE_URL=\"https://plot.ly\";Plotly.newPlot(\"29827e16-705a-4821-aff4-b6b0a2bc98e6\", [{\"z\": [[0.0, 0.0, 0.0, 0.0, 0.0, 0.0, 0.0, 0.0, 0.0, 0.0], [0.0, 0.8265, 0.0649, 0.0698, 0.029200000000000004, 0.0034000000000000002, 0.001, 0.003, 0.0007, 0.0015], [0.0, 0.6693, 0.09490000000000001, 0.1325, 0.05900000000000001, 0.012900000000000003, 0.009600000000000003, 0.0125, 0.0051, 0.004200000000000001], [0.0, 0.5431999999999999, 0.1093, 0.1729, 0.084, 0.022200000000000004, 0.022699999999999998, 0.022500000000000003, 0.014500000000000002, 0.0087], [0.0, 0.4215999999999999, 0.1226, 0.2016, 0.11240000000000001, 0.032900000000000006, 0.03280000000000001, 0.037, 0.024300000000000002, 0.014799999999999999], [0.0, 0.33459999999999995, 0.12069999999999999, 0.21870000000000003, 0.11810000000000001, 0.043100000000000006, 0.055200000000000006, 0.0518, 0.0372, 0.0206], [0.0, 0.2744, 0.1122, 0.22290000000000001, 0.1276, 0.054200000000000005, 0.06520000000000001, 0.07070000000000001, 0.0474, 0.0254], [0.0, 0.21399999999999997, 0.1061, 0.22269999999999998, 0.1401, 0.0622, 0.08249999999999999, 0.0752, 0.059899999999999995, 0.0373], [0.0, 0.18160000000000004, 0.09190000000000001, 0.21479999999999996, 0.15040000000000003, 0.0689, 0.0912, 0.09150000000000001, 0.0708, 0.038900000000000004], [0.0, 0.14740000000000003, 0.0882, 0.20250000000000004, 0.1492, 0.07400000000000001, 0.10669999999999999, 0.1025, 0.08099999999999999, 0.0485]], \"type\": \"heatmap\", \"colorscale\": \"Viridis\"}], {\"width\": 500, \"height\": 500, \"xaxis\": {\"title\": \"Predicted Class\", \"dtick\": 1, \"range\": [0.5, 9.5]}, \"title\": \"Choice after 16000 Iterations at Glimpse 9\", \"yaxis\": {\"title\": \"True Class\", \"dtick\": 1, \"range\": [9.5, 0.5]}}, {\"linkText\": \"Export to plot.ly\", \"showLink\": true})});</script>"
      ],
      "text/vnd.plotly.v1+html": [
       "<div id=\"29827e16-705a-4821-aff4-b6b0a2bc98e6\" style=\"height: 500px; width: 500px;\" class=\"plotly-graph-div\"></div><script type=\"text/javascript\">require([\"plotly\"], function(Plotly) { window.PLOTLYENV=window.PLOTLYENV || {};window.PLOTLYENV.BASE_URL=\"https://plot.ly\";Plotly.newPlot(\"29827e16-705a-4821-aff4-b6b0a2bc98e6\", [{\"z\": [[0.0, 0.0, 0.0, 0.0, 0.0, 0.0, 0.0, 0.0, 0.0, 0.0], [0.0, 0.8265, 0.0649, 0.0698, 0.029200000000000004, 0.0034000000000000002, 0.001, 0.003, 0.0007, 0.0015], [0.0, 0.6693, 0.09490000000000001, 0.1325, 0.05900000000000001, 0.012900000000000003, 0.009600000000000003, 0.0125, 0.0051, 0.004200000000000001], [0.0, 0.5431999999999999, 0.1093, 0.1729, 0.084, 0.022200000000000004, 0.022699999999999998, 0.022500000000000003, 0.014500000000000002, 0.0087], [0.0, 0.4215999999999999, 0.1226, 0.2016, 0.11240000000000001, 0.032900000000000006, 0.03280000000000001, 0.037, 0.024300000000000002, 0.014799999999999999], [0.0, 0.33459999999999995, 0.12069999999999999, 0.21870000000000003, 0.11810000000000001, 0.043100000000000006, 0.055200000000000006, 0.0518, 0.0372, 0.0206], [0.0, 0.2744, 0.1122, 0.22290000000000001, 0.1276, 0.054200000000000005, 0.06520000000000001, 0.07070000000000001, 0.0474, 0.0254], [0.0, 0.21399999999999997, 0.1061, 0.22269999999999998, 0.1401, 0.0622, 0.08249999999999999, 0.0752, 0.059899999999999995, 0.0373], [0.0, 0.18160000000000004, 0.09190000000000001, 0.21479999999999996, 0.15040000000000003, 0.0689, 0.0912, 0.09150000000000001, 0.0708, 0.038900000000000004], [0.0, 0.14740000000000003, 0.0882, 0.20250000000000004, 0.1492, 0.07400000000000001, 0.10669999999999999, 0.1025, 0.08099999999999999, 0.0485]], \"type\": \"heatmap\", \"colorscale\": \"Viridis\"}], {\"width\": 500, \"height\": 500, \"xaxis\": {\"title\": \"Predicted Class\", \"dtick\": 1, \"range\": [0.5, 9.5]}, \"title\": \"Choice after 16000 Iterations at Glimpse 9\", \"yaxis\": {\"title\": \"True Class\", \"dtick\": 1, \"range\": [9.5, 0.5]}}, {\"linkText\": \"Export to plot.ly\", \"showLink\": true})});</script>"
      ]
     },
     "metadata": {},
     "output_type": "display_data"
    },
    {
     "data": {
      "application/vnd.plotly.v1+json": {
       "data": [
        {
         "colorscale": "Viridis",
         "type": "heatmap",
         "z": [
          [
           0,
           0,
           0,
           0,
           0,
           0,
           0,
           0,
           0,
           0
          ],
          [
           0,
           0.604178498262517,
           0.196323022213504,
           0.08644804035127054,
           0.046461058127455115,
           0.027379010224514055,
           0.015656555123158437,
           0.009945269765687409,
           0.00802313396522099,
           0.0055854109940270385
          ],
          [
           0,
           0.3914406643685259,
           0.22482400584368828,
           0.13351891811088873,
           0.08747992172720055,
           0.05995135204752198,
           0.03885062410574437,
           0.02706229503067828,
           0.022226885860235353,
           0.014645332930924172
          ],
          [
           0,
           0.2445893056199135,
           0.20622629134327947,
           0.15431956253844928,
           0.12085947027582192,
           0.09003272068273184,
           0.06435020622816694,
           0.048194294020107525,
           0.043323704564181185,
           0.02810444428814989
          ],
          [
           0,
           0.15390392484234225,
           0.1734503590275696,
           0.15580672112660807,
           0.13617278925293871,
           0.11354289790333605,
           0.08911528337562186,
           0.07052539911295644,
           0.06526529064389157,
           0.04221733450822298
          ],
          [
           0,
           0.10335437575742616,
           0.13910209972943283,
           0.14574945466021585,
           0.14075291209071683,
           0.12308899114368628,
           0.10771533547708026,
           0.08923181742965178,
           0.09082403870257344,
           0.060180975240229063
          ],
          [
           0,
           0.07164044635893099,
           0.10979420802875114,
           0.12970890640708782,
           0.1363807588068511,
           0.12978531555280162,
           0.12222866349470632,
           0.10965843036795701,
           0.11435146975561139,
           0.07645180225960302
          ],
          [
           0,
           0.05278931830854976,
           0.08800398078446472,
           0.11273816585495208,
           0.12993796045665734,
           0.13035654561891694,
           0.13186636986579875,
           0.126012651632669,
           0.13557679988316065,
           0.0927182077263085
          ],
          [
           0,
           0.040293692746223506,
           0.07435666032999846,
           0.09898946053505009,
           0.12325337474003557,
           0.1273496469213563,
           0.1395173598220861,
           0.13688228258713564,
           0.15224032055869902,
           0.10711720202972286
          ],
          [
           0,
           0.03212416688685404,
           0.061162026035278594,
           0.08955846513264566,
           0.11595620967081213,
           0.12358064821247514,
           0.142557337138882,
           0.14762764014989485,
           0.16814818675580334,
           0.11928532071799829
          ]
         ]
        }
       ],
       "layout": {
        "height": 500,
        "title": "Confidence after 32000 Iterations at Glimpse 0",
        "width": 500,
        "xaxis": {
         "dtick": 1,
         "range": [
          0.5,
          9.5
         ],
         "title": "Predicted Class"
        },
        "yaxis": {
         "dtick": 1,
         "range": [
          9.5,
          0.5
         ],
         "title": "True Class"
        }
       }
      },
      "text/html": [
       "<div id=\"b83d05af-b7ab-40c8-9a72-81b0302e49be\" style=\"height: 500px; width: 500px;\" class=\"plotly-graph-div\"></div><script type=\"text/javascript\">require([\"plotly\"], function(Plotly) { window.PLOTLYENV=window.PLOTLYENV || {};window.PLOTLYENV.BASE_URL=\"https://plot.ly\";Plotly.newPlot(\"b83d05af-b7ab-40c8-9a72-81b0302e49be\", [{\"z\": [[0.0, 0.0, 0.0, 0.0, 0.0, 0.0, 0.0, 0.0, 0.0, 0.0], [0.0, 0.604178498262517, 0.196323022213504, 0.08644804035127054, 0.046461058127455115, 0.027379010224514055, 0.015656555123158437, 0.009945269765687409, 0.00802313396522099, 0.0055854109940270385], [0.0, 0.3914406643685259, 0.22482400584368828, 0.13351891811088873, 0.08747992172720055, 0.05995135204752198, 0.03885062410574437, 0.02706229503067828, 0.022226885860235353, 0.014645332930924172], [0.0, 0.2445893056199135, 0.20622629134327947, 0.15431956253844928, 0.12085947027582192, 0.09003272068273184, 0.06435020622816694, 0.048194294020107525, 0.043323704564181185, 0.02810444428814989], [0.0, 0.15390392484234225, 0.1734503590275696, 0.15580672112660807, 0.13617278925293871, 0.11354289790333605, 0.08911528337562186, 0.07052539911295644, 0.06526529064389157, 0.04221733450822298], [0.0, 0.10335437575742616, 0.13910209972943283, 0.14574945466021585, 0.14075291209071683, 0.12308899114368628, 0.10771533547708026, 0.08923181742965178, 0.09082403870257344, 0.060180975240229063], [0.0, 0.07164044635893099, 0.10979420802875114, 0.12970890640708782, 0.1363807588068511, 0.12978531555280162, 0.12222866349470632, 0.10965843036795701, 0.11435146975561139, 0.07645180225960302], [0.0, 0.05278931830854976, 0.08800398078446472, 0.11273816585495208, 0.12993796045665734, 0.13035654561891694, 0.13186636986579875, 0.126012651632669, 0.13557679988316065, 0.0927182077263085], [0.0, 0.040293692746223506, 0.07435666032999846, 0.09898946053505009, 0.12325337474003557, 0.1273496469213563, 0.1395173598220861, 0.13688228258713564, 0.15224032055869902, 0.10711720202972286], [0.0, 0.03212416688685404, 0.061162026035278594, 0.08955846513264566, 0.11595620967081213, 0.12358064821247514, 0.142557337138882, 0.14762764014989485, 0.16814818675580334, 0.11928532071799829]], \"type\": \"heatmap\", \"colorscale\": \"Viridis\"}], {\"width\": 500, \"height\": 500, \"xaxis\": {\"title\": \"Predicted Class\", \"dtick\": 1, \"range\": [0.5, 9.5]}, \"title\": \"Confidence after 32000 Iterations at Glimpse 0\", \"yaxis\": {\"title\": \"True Class\", \"dtick\": 1, \"range\": [9.5, 0.5]}}, {\"linkText\": \"Export to plot.ly\", \"showLink\": true})});</script>"
      ],
      "text/vnd.plotly.v1+html": [
       "<div id=\"b83d05af-b7ab-40c8-9a72-81b0302e49be\" style=\"height: 500px; width: 500px;\" class=\"plotly-graph-div\"></div><script type=\"text/javascript\">require([\"plotly\"], function(Plotly) { window.PLOTLYENV=window.PLOTLYENV || {};window.PLOTLYENV.BASE_URL=\"https://plot.ly\";Plotly.newPlot(\"b83d05af-b7ab-40c8-9a72-81b0302e49be\", [{\"z\": [[0.0, 0.0, 0.0, 0.0, 0.0, 0.0, 0.0, 0.0, 0.0, 0.0], [0.0, 0.604178498262517, 0.196323022213504, 0.08644804035127054, 0.046461058127455115, 0.027379010224514055, 0.015656555123158437, 0.009945269765687409, 0.00802313396522099, 0.0055854109940270385], [0.0, 0.3914406643685259, 0.22482400584368828, 0.13351891811088873, 0.08747992172720055, 0.05995135204752198, 0.03885062410574437, 0.02706229503067828, 0.022226885860235353, 0.014645332930924172], [0.0, 0.2445893056199135, 0.20622629134327947, 0.15431956253844928, 0.12085947027582192, 0.09003272068273184, 0.06435020622816694, 0.048194294020107525, 0.043323704564181185, 0.02810444428814989], [0.0, 0.15390392484234225, 0.1734503590275696, 0.15580672112660807, 0.13617278925293871, 0.11354289790333605, 0.08911528337562186, 0.07052539911295644, 0.06526529064389157, 0.04221733450822298], [0.0, 0.10335437575742616, 0.13910209972943283, 0.14574945466021585, 0.14075291209071683, 0.12308899114368628, 0.10771533547708026, 0.08923181742965178, 0.09082403870257344, 0.060180975240229063], [0.0, 0.07164044635893099, 0.10979420802875114, 0.12970890640708782, 0.1363807588068511, 0.12978531555280162, 0.12222866349470632, 0.10965843036795701, 0.11435146975561139, 0.07645180225960302], [0.0, 0.05278931830854976, 0.08800398078446472, 0.11273816585495208, 0.12993796045665734, 0.13035654561891694, 0.13186636986579875, 0.126012651632669, 0.13557679988316065, 0.0927182077263085], [0.0, 0.040293692746223506, 0.07435666032999846, 0.09898946053505009, 0.12325337474003557, 0.1273496469213563, 0.1395173598220861, 0.13688228258713564, 0.15224032055869902, 0.10711720202972286], [0.0, 0.03212416688685404, 0.061162026035278594, 0.08955846513264566, 0.11595620967081213, 0.12358064821247514, 0.142557337138882, 0.14762764014989485, 0.16814818675580334, 0.11928532071799829]], \"type\": \"heatmap\", \"colorscale\": \"Viridis\"}], {\"width\": 500, \"height\": 500, \"xaxis\": {\"title\": \"Predicted Class\", \"dtick\": 1, \"range\": [0.5, 9.5]}, \"title\": \"Confidence after 32000 Iterations at Glimpse 0\", \"yaxis\": {\"title\": \"True Class\", \"dtick\": 1, \"range\": [9.5, 0.5]}}, {\"linkText\": \"Export to plot.ly\", \"showLink\": true})});</script>"
      ]
     },
     "metadata": {},
     "output_type": "display_data"
    },
    {
     "data": {
      "application/vnd.plotly.v1+json": {
       "data": [
        {
         "colorscale": "Viridis",
         "type": "heatmap",
         "z": [
          [
           0,
           0,
           0,
           0,
           0,
           0,
           0,
           0,
           0,
           0
          ],
          [
           0,
           0.9203999999999999,
           0.06420000000000001,
           0.009200000000000002,
           0.0037000000000000006,
           0.0017000000000000001,
           0.00030000000000000003,
           0.0002,
           0.00030000000000000003,
           0
          ],
          [
           0,
           0.6468,
           0.19,
           0.0774,
           0.0356,
           0.019799999999999998,
           0.0128,
           0.007700000000000001,
           0.006200000000000001,
           0.0036999999999999997
          ],
          [
           0,
           0.39859999999999995,
           0.2367,
           0.13840000000000002,
           0.08739999999999999,
           0.05289999999999999,
           0.031,
           0.0198,
           0.023100000000000002,
           0.0121
          ],
          [
           0,
           0.23700000000000002,
           0.21600000000000003,
           0.1739,
           0.12309999999999999,
           0.0815,
           0.0615,
           0.0392,
           0.0457,
           0.0221
          ],
          [
           0,
           0.1461,
           0.17460000000000003,
           0.1736,
           0.1445,
           0.1006,
           0.0875,
           0.05920000000000001,
           0.07420000000000002,
           0.039700000000000006
          ],
          [
           0,
           0.09680000000000001,
           0.1323,
           0.14980000000000002,
           0.1454,
           0.11760000000000001,
           0.11150000000000002,
           0.08280000000000001,
           0.10529999999999999,
           0.058499999999999996
          ],
          [
           0,
           0.0655,
           0.10100000000000002,
           0.12010000000000001,
           0.1338,
           0.1232,
           0.1321,
           0.1131,
           0.13269999999999998,
           0.07849999999999999
          ],
          [
           0,
           0.047700000000000006,
           0.08070000000000002,
           0.1028,
           0.1323,
           0.11610000000000001,
           0.14550000000000002,
           0.12419999999999998,
           0.159,
           0.09169999999999999
          ],
          [
           0,
           0.036800000000000006,
           0.0645,
           0.08929999999999999,
           0.1193,
           0.1122,
           0.146,
           0.14429999999999998,
           0.1817,
           0.1059
          ]
         ]
        }
       ],
       "layout": {
        "height": 500,
        "title": "Choice after 32000 Iterations at Glimpse 0",
        "width": 500,
        "xaxis": {
         "dtick": 1,
         "range": [
          0.5,
          9.5
         ],
         "title": "Predicted Class"
        },
        "yaxis": {
         "dtick": 1,
         "range": [
          9.5,
          0.5
         ],
         "title": "True Class"
        }
       }
      },
      "text/html": [
       "<div id=\"093233a3-160c-4996-8665-cc7cf8606151\" style=\"height: 500px; width: 500px;\" class=\"plotly-graph-div\"></div><script type=\"text/javascript\">require([\"plotly\"], function(Plotly) { window.PLOTLYENV=window.PLOTLYENV || {};window.PLOTLYENV.BASE_URL=\"https://plot.ly\";Plotly.newPlot(\"093233a3-160c-4996-8665-cc7cf8606151\", [{\"z\": [[0.0, 0.0, 0.0, 0.0, 0.0, 0.0, 0.0, 0.0, 0.0, 0.0], [0.0, 0.9203999999999999, 0.06420000000000001, 0.009200000000000002, 0.0037000000000000006, 0.0017000000000000001, 0.00030000000000000003, 0.0002, 0.00030000000000000003, 0.0], [0.0, 0.6468, 0.19, 0.0774, 0.0356, 0.019799999999999998, 0.0128, 0.007700000000000001, 0.006200000000000001, 0.0036999999999999997], [0.0, 0.39859999999999995, 0.2367, 0.13840000000000002, 0.08739999999999999, 0.05289999999999999, 0.031, 0.0198, 0.023100000000000002, 0.0121], [0.0, 0.23700000000000002, 0.21600000000000003, 0.1739, 0.12309999999999999, 0.0815, 0.0615, 0.0392, 0.0457, 0.0221], [0.0, 0.1461, 0.17460000000000003, 0.1736, 0.1445, 0.1006, 0.0875, 0.05920000000000001, 0.07420000000000002, 0.039700000000000006], [0.0, 0.09680000000000001, 0.1323, 0.14980000000000002, 0.1454, 0.11760000000000001, 0.11150000000000002, 0.08280000000000001, 0.10529999999999999, 0.058499999999999996], [0.0, 0.0655, 0.10100000000000002, 0.12010000000000001, 0.1338, 0.1232, 0.1321, 0.1131, 0.13269999999999998, 0.07849999999999999], [0.0, 0.047700000000000006, 0.08070000000000002, 0.1028, 0.1323, 0.11610000000000001, 0.14550000000000002, 0.12419999999999998, 0.159, 0.09169999999999999], [0.0, 0.036800000000000006, 0.0645, 0.08929999999999999, 0.1193, 0.1122, 0.146, 0.14429999999999998, 0.1817, 0.1059]], \"type\": \"heatmap\", \"colorscale\": \"Viridis\"}], {\"width\": 500, \"height\": 500, \"xaxis\": {\"title\": \"Predicted Class\", \"dtick\": 1, \"range\": [0.5, 9.5]}, \"title\": \"Choice after 32000 Iterations at Glimpse 0\", \"yaxis\": {\"title\": \"True Class\", \"dtick\": 1, \"range\": [9.5, 0.5]}}, {\"linkText\": \"Export to plot.ly\", \"showLink\": true})});</script>"
      ],
      "text/vnd.plotly.v1+html": [
       "<div id=\"093233a3-160c-4996-8665-cc7cf8606151\" style=\"height: 500px; width: 500px;\" class=\"plotly-graph-div\"></div><script type=\"text/javascript\">require([\"plotly\"], function(Plotly) { window.PLOTLYENV=window.PLOTLYENV || {};window.PLOTLYENV.BASE_URL=\"https://plot.ly\";Plotly.newPlot(\"093233a3-160c-4996-8665-cc7cf8606151\", [{\"z\": [[0.0, 0.0, 0.0, 0.0, 0.0, 0.0, 0.0, 0.0, 0.0, 0.0], [0.0, 0.9203999999999999, 0.06420000000000001, 0.009200000000000002, 0.0037000000000000006, 0.0017000000000000001, 0.00030000000000000003, 0.0002, 0.00030000000000000003, 0.0], [0.0, 0.6468, 0.19, 0.0774, 0.0356, 0.019799999999999998, 0.0128, 0.007700000000000001, 0.006200000000000001, 0.0036999999999999997], [0.0, 0.39859999999999995, 0.2367, 0.13840000000000002, 0.08739999999999999, 0.05289999999999999, 0.031, 0.0198, 0.023100000000000002, 0.0121], [0.0, 0.23700000000000002, 0.21600000000000003, 0.1739, 0.12309999999999999, 0.0815, 0.0615, 0.0392, 0.0457, 0.0221], [0.0, 0.1461, 0.17460000000000003, 0.1736, 0.1445, 0.1006, 0.0875, 0.05920000000000001, 0.07420000000000002, 0.039700000000000006], [0.0, 0.09680000000000001, 0.1323, 0.14980000000000002, 0.1454, 0.11760000000000001, 0.11150000000000002, 0.08280000000000001, 0.10529999999999999, 0.058499999999999996], [0.0, 0.0655, 0.10100000000000002, 0.12010000000000001, 0.1338, 0.1232, 0.1321, 0.1131, 0.13269999999999998, 0.07849999999999999], [0.0, 0.047700000000000006, 0.08070000000000002, 0.1028, 0.1323, 0.11610000000000001, 0.14550000000000002, 0.12419999999999998, 0.159, 0.09169999999999999], [0.0, 0.036800000000000006, 0.0645, 0.08929999999999999, 0.1193, 0.1122, 0.146, 0.14429999999999998, 0.1817, 0.1059]], \"type\": \"heatmap\", \"colorscale\": \"Viridis\"}], {\"width\": 500, \"height\": 500, \"xaxis\": {\"title\": \"Predicted Class\", \"dtick\": 1, \"range\": [0.5, 9.5]}, \"title\": \"Choice after 32000 Iterations at Glimpse 0\", \"yaxis\": {\"title\": \"True Class\", \"dtick\": 1, \"range\": [9.5, 0.5]}}, {\"linkText\": \"Export to plot.ly\", \"showLink\": true})});</script>"
      ]
     },
     "metadata": {},
     "output_type": "display_data"
    },
    {
     "data": {
      "application/vnd.plotly.v1+json": {
       "data": [
        {
         "colorscale": "Viridis",
         "type": "heatmap",
         "z": [
          [
           0,
           0,
           0,
           0,
           0,
           0,
           0,
           0,
           0,
           0
          ],
          [
           0,
           0.6629556969646246,
           0.20466200405282434,
           0.07170619262302716,
           0.029890659022619726,
           0.014770360145831931,
           0.008107917481176504,
           0.0036153011191313008,
           0.002671696233750207,
           0.0016201728835968019
          ],
          [
           0,
           0.39254091294063886,
           0.25903126332549364,
           0.14803259977338018,
           0.08467983166269696,
           0.049207815211318263,
           0.02904279595937818,
           0.016727650570697385,
           0.01336264597195298,
           0.007374484260395621
          ],
          [
           0,
           0.21644307951562594,
           0.22919002960115015,
           0.18290889768716417,
           0.1374876336949783,
           0.08995696778927505,
           0.05639685733213751,
           0.03723379989308936,
           0.03258834207713141,
           0.01779439213007065
          ],
          [
           0,
           0.12194744467442076,
           0.173716099220718,
           0.17674234853082796,
           0.16177707230863453,
           0.12219599411051607,
           0.08508886377258068,
           0.06435911077674848,
           0.059761993027255766,
           0.03441107347927118
          ],
          [
           0,
           0.07398077373176394,
           0.12272954443823395,
           0.14996985957372286,
           0.1646664453201025,
           0.14136321998577342,
           0.10667466122890627,
           0.09165489204915567,
           0.0941659146392134,
           0.05479468989879539
          ],
          [
           0,
           0.04896601612282923,
           0.08600330572535163,
           0.12081297491451311,
           0.15179821359970702,
           0.14772729270141743,
           0.12223959748863025,
           0.11551117940280564,
           0.13013821807493367,
           0.07680320247586164
          ],
          [
           0,
           0.03342519969556012,
           0.0617200953566985,
           0.09430838658402915,
           0.13346462598035597,
           0.14271178957078348,
           0.13202871232310845,
           0.13496376008990776,
           0.16513981423066834,
           0.10223761618315483
          ],
          [
           0,
           0.024261220183790903,
           0.0475134475344884,
           0.07599009352423154,
           0.11816724553809362,
           0.1362337963768527,
           0.13541734188750162,
           0.1441315887346601,
           0.19393725167010054,
           0.12434801426520736
          ],
          [
           0,
           0.017434269229108297,
           0.03634092382783524,
           0.06047614229990369,
           0.10202571247467096,
           0.12395447224911835,
           0.1355130962553211,
           0.15434207240249415,
           0.22032011604661111,
           0.14959319539189003
          ]
         ]
        }
       ],
       "layout": {
        "height": 500,
        "title": "Confidence after 32000 Iterations at Glimpse 3",
        "width": 500,
        "xaxis": {
         "dtick": 1,
         "range": [
          0.5,
          9.5
         ],
         "title": "Predicted Class"
        },
        "yaxis": {
         "dtick": 1,
         "range": [
          9.5,
          0.5
         ],
         "title": "True Class"
        }
       }
      },
      "text/html": [
       "<div id=\"280d03cc-6e83-4b4b-a14d-f905b50aedeb\" style=\"height: 500px; width: 500px;\" class=\"plotly-graph-div\"></div><script type=\"text/javascript\">require([\"plotly\"], function(Plotly) { window.PLOTLYENV=window.PLOTLYENV || {};window.PLOTLYENV.BASE_URL=\"https://plot.ly\";Plotly.newPlot(\"280d03cc-6e83-4b4b-a14d-f905b50aedeb\", [{\"z\": [[0.0, 0.0, 0.0, 0.0, 0.0, 0.0, 0.0, 0.0, 0.0, 0.0], [0.0, 0.6629556969646246, 0.20466200405282434, 0.07170619262302716, 0.029890659022619726, 0.014770360145831931, 0.008107917481176504, 0.0036153011191313008, 0.002671696233750207, 0.0016201728835968019], [0.0, 0.39254091294063886, 0.25903126332549364, 0.14803259977338018, 0.08467983166269696, 0.049207815211318263, 0.02904279595937818, 0.016727650570697385, 0.01336264597195298, 0.007374484260395621], [0.0, 0.21644307951562594, 0.22919002960115015, 0.18290889768716417, 0.1374876336949783, 0.08995696778927505, 0.05639685733213751, 0.03723379989308936, 0.03258834207713141, 0.01779439213007065], [0.0, 0.12194744467442076, 0.173716099220718, 0.17674234853082796, 0.16177707230863453, 0.12219599411051607, 0.08508886377258068, 0.06435911077674848, 0.059761993027255766, 0.03441107347927118], [0.0, 0.07398077373176394, 0.12272954443823395, 0.14996985957372286, 0.1646664453201025, 0.14136321998577342, 0.10667466122890627, 0.09165489204915567, 0.0941659146392134, 0.05479468989879539], [0.0, 0.04896601612282923, 0.08600330572535163, 0.12081297491451311, 0.15179821359970702, 0.14772729270141743, 0.12223959748863025, 0.11551117940280564, 0.13013821807493367, 0.07680320247586164], [0.0, 0.03342519969556012, 0.0617200953566985, 0.09430838658402915, 0.13346462598035597, 0.14271178957078348, 0.13202871232310845, 0.13496376008990776, 0.16513981423066834, 0.10223761618315483], [0.0, 0.024261220183790903, 0.0475134475344884, 0.07599009352423154, 0.11816724553809362, 0.1362337963768527, 0.13541734188750162, 0.1441315887346601, 0.19393725167010054, 0.12434801426520736], [0.0, 0.017434269229108297, 0.03634092382783524, 0.06047614229990369, 0.10202571247467096, 0.12395447224911835, 0.1355130962553211, 0.15434207240249415, 0.22032011604661111, 0.14959319539189003]], \"type\": \"heatmap\", \"colorscale\": \"Viridis\"}], {\"width\": 500, \"height\": 500, \"xaxis\": {\"title\": \"Predicted Class\", \"dtick\": 1, \"range\": [0.5, 9.5]}, \"title\": \"Confidence after 32000 Iterations at Glimpse 3\", \"yaxis\": {\"title\": \"True Class\", \"dtick\": 1, \"range\": [9.5, 0.5]}}, {\"linkText\": \"Export to plot.ly\", \"showLink\": true})});</script>"
      ],
      "text/vnd.plotly.v1+html": [
       "<div id=\"280d03cc-6e83-4b4b-a14d-f905b50aedeb\" style=\"height: 500px; width: 500px;\" class=\"plotly-graph-div\"></div><script type=\"text/javascript\">require([\"plotly\"], function(Plotly) { window.PLOTLYENV=window.PLOTLYENV || {};window.PLOTLYENV.BASE_URL=\"https://plot.ly\";Plotly.newPlot(\"280d03cc-6e83-4b4b-a14d-f905b50aedeb\", [{\"z\": [[0.0, 0.0, 0.0, 0.0, 0.0, 0.0, 0.0, 0.0, 0.0, 0.0], [0.0, 0.6629556969646246, 0.20466200405282434, 0.07170619262302716, 0.029890659022619726, 0.014770360145831931, 0.008107917481176504, 0.0036153011191313008, 0.002671696233750207, 0.0016201728835968019], [0.0, 0.39254091294063886, 0.25903126332549364, 0.14803259977338018, 0.08467983166269696, 0.049207815211318263, 0.02904279595937818, 0.016727650570697385, 0.01336264597195298, 0.007374484260395621], [0.0, 0.21644307951562594, 0.22919002960115015, 0.18290889768716417, 0.1374876336949783, 0.08995696778927505, 0.05639685733213751, 0.03723379989308936, 0.03258834207713141, 0.01779439213007065], [0.0, 0.12194744467442076, 0.173716099220718, 0.17674234853082796, 0.16177707230863453, 0.12219599411051607, 0.08508886377258068, 0.06435911077674848, 0.059761993027255766, 0.03441107347927118], [0.0, 0.07398077373176394, 0.12272954443823395, 0.14996985957372286, 0.1646664453201025, 0.14136321998577342, 0.10667466122890627, 0.09165489204915567, 0.0941659146392134, 0.05479468989879539], [0.0, 0.04896601612282923, 0.08600330572535163, 0.12081297491451311, 0.15179821359970702, 0.14772729270141743, 0.12223959748863025, 0.11551117940280564, 0.13013821807493367, 0.07680320247586164], [0.0, 0.03342519969556012, 0.0617200953566985, 0.09430838658402915, 0.13346462598035597, 0.14271178957078348, 0.13202871232310845, 0.13496376008990776, 0.16513981423066834, 0.10223761618315483], [0.0, 0.024261220183790903, 0.0475134475344884, 0.07599009352423154, 0.11816724553809362, 0.1362337963768527, 0.13541734188750162, 0.1441315887346601, 0.19393725167010054, 0.12434801426520736], [0.0, 0.017434269229108297, 0.03634092382783524, 0.06047614229990369, 0.10202571247467096, 0.12395447224911835, 0.1355130962553211, 0.15434207240249415, 0.22032011604661111, 0.14959319539189003]], \"type\": \"heatmap\", \"colorscale\": \"Viridis\"}], {\"width\": 500, \"height\": 500, \"xaxis\": {\"title\": \"Predicted Class\", \"dtick\": 1, \"range\": [0.5, 9.5]}, \"title\": \"Confidence after 32000 Iterations at Glimpse 3\", \"yaxis\": {\"title\": \"True Class\", \"dtick\": 1, \"range\": [9.5, 0.5]}}, {\"linkText\": \"Export to plot.ly\", \"showLink\": true})});</script>"
      ]
     },
     "metadata": {},
     "output_type": "display_data"
    },
    {
     "data": {
      "application/vnd.plotly.v1+json": {
       "data": [
        {
         "colorscale": "Viridis",
         "type": "heatmap",
         "z": [
          [
           0,
           0,
           0,
           0,
           0,
           0,
           0,
           0,
           0,
           0
          ],
          [
           0,
           0.8892999999999999,
           0.09810000000000003,
           0.008400000000000001,
           0.002,
           0.0018,
           0,
           0,
           0.00030000000000000003,
           0.0001
          ],
          [
           0,
           0.5516,
           0.24909999999999996,
           0.1186,
           0.041600000000000005,
           0.017500000000000005,
           0.0098,
           0.005200000000000001,
           0.004500000000000001,
           0.0021000000000000003
          ],
          [
           0,
           0.30610000000000004,
           0.25229999999999997,
           0.2002,
           0.11950000000000002,
           0.0521,
           0.029400000000000003,
           0.0162,
           0.0171,
           0.0071
          ],
          [
           0,
           0.16659999999999997,
           0.1904,
           0.2158,
           0.17429999999999995,
           0.09440000000000001,
           0.059599999999999986,
           0.0369,
           0.044199999999999996,
           0.0178
          ],
          [
           0,
           0.0985,
           0.1347,
           0.17759999999999998,
           0.1893,
           0.1298,
           0.0833,
           0.0693,
           0.0834,
           0.034100000000000005
          ],
          [
           0,
           0.0648,
           0.0884,
           0.1334,
           0.1695,
           0.1443,
           0.10210000000000001,
           0.10389999999999999,
           0.1353,
           0.0583
          ],
          [
           0,
           0.043,
           0.0617,
           0.0928,
           0.13889999999999997,
           0.1365,
           0.12210000000000001,
           0.1281,
           0.1892,
           0.08770000000000001
          ],
          [
           0,
           0.029900000000000003,
           0.04860000000000001,
           0.06789999999999999,
           0.11950000000000001,
           0.12290000000000001,
           0.1265,
           0.13410000000000002,
           0.23770000000000002,
           0.1129
          ],
          [
           0,
           0.0214,
           0.036500000000000005,
           0.048,
           0.0909,
           0.1056,
           0.12869999999999998,
           0.1424,
           0.2781,
           0.14839999999999998
          ]
         ]
        }
       ],
       "layout": {
        "height": 500,
        "title": "Choice after 32000 Iterations at Glimpse 3",
        "width": 500,
        "xaxis": {
         "dtick": 1,
         "range": [
          0.5,
          9.5
         ],
         "title": "Predicted Class"
        },
        "yaxis": {
         "dtick": 1,
         "range": [
          9.5,
          0.5
         ],
         "title": "True Class"
        }
       }
      },
      "text/html": [
       "<div id=\"bf390ccf-529b-4ea1-8e9c-85a8015c3cc4\" style=\"height: 500px; width: 500px;\" class=\"plotly-graph-div\"></div><script type=\"text/javascript\">require([\"plotly\"], function(Plotly) { window.PLOTLYENV=window.PLOTLYENV || {};window.PLOTLYENV.BASE_URL=\"https://plot.ly\";Plotly.newPlot(\"bf390ccf-529b-4ea1-8e9c-85a8015c3cc4\", [{\"z\": [[0.0, 0.0, 0.0, 0.0, 0.0, 0.0, 0.0, 0.0, 0.0, 0.0], [0.0, 0.8892999999999999, 0.09810000000000003, 0.008400000000000001, 0.002, 0.0018, 0.0, 0.0, 0.00030000000000000003, 0.0001], [0.0, 0.5516, 0.24909999999999996, 0.1186, 0.041600000000000005, 0.017500000000000005, 0.0098, 0.005200000000000001, 0.004500000000000001, 0.0021000000000000003], [0.0, 0.30610000000000004, 0.25229999999999997, 0.2002, 0.11950000000000002, 0.0521, 0.029400000000000003, 0.0162, 0.0171, 0.0071], [0.0, 0.16659999999999997, 0.1904, 0.2158, 0.17429999999999995, 0.09440000000000001, 0.059599999999999986, 0.0369, 0.044199999999999996, 0.0178], [0.0, 0.0985, 0.1347, 0.17759999999999998, 0.1893, 0.1298, 0.0833, 0.0693, 0.0834, 0.034100000000000005], [0.0, 0.0648, 0.0884, 0.1334, 0.1695, 0.1443, 0.10210000000000001, 0.10389999999999999, 0.1353, 0.0583], [0.0, 0.043, 0.0617, 0.0928, 0.13889999999999997, 0.1365, 0.12210000000000001, 0.1281, 0.1892, 0.08770000000000001], [0.0, 0.029900000000000003, 0.04860000000000001, 0.06789999999999999, 0.11950000000000001, 0.12290000000000001, 0.1265, 0.13410000000000002, 0.23770000000000002, 0.1129], [0.0, 0.0214, 0.036500000000000005, 0.048, 0.0909, 0.1056, 0.12869999999999998, 0.1424, 0.2781, 0.14839999999999998]], \"type\": \"heatmap\", \"colorscale\": \"Viridis\"}], {\"width\": 500, \"height\": 500, \"xaxis\": {\"title\": \"Predicted Class\", \"dtick\": 1, \"range\": [0.5, 9.5]}, \"title\": \"Choice after 32000 Iterations at Glimpse 3\", \"yaxis\": {\"title\": \"True Class\", \"dtick\": 1, \"range\": [9.5, 0.5]}}, {\"linkText\": \"Export to plot.ly\", \"showLink\": true})});</script>"
      ],
      "text/vnd.plotly.v1+html": [
       "<div id=\"bf390ccf-529b-4ea1-8e9c-85a8015c3cc4\" style=\"height: 500px; width: 500px;\" class=\"plotly-graph-div\"></div><script type=\"text/javascript\">require([\"plotly\"], function(Plotly) { window.PLOTLYENV=window.PLOTLYENV || {};window.PLOTLYENV.BASE_URL=\"https://plot.ly\";Plotly.newPlot(\"bf390ccf-529b-4ea1-8e9c-85a8015c3cc4\", [{\"z\": [[0.0, 0.0, 0.0, 0.0, 0.0, 0.0, 0.0, 0.0, 0.0, 0.0], [0.0, 0.8892999999999999, 0.09810000000000003, 0.008400000000000001, 0.002, 0.0018, 0.0, 0.0, 0.00030000000000000003, 0.0001], [0.0, 0.5516, 0.24909999999999996, 0.1186, 0.041600000000000005, 0.017500000000000005, 0.0098, 0.005200000000000001, 0.004500000000000001, 0.0021000000000000003], [0.0, 0.30610000000000004, 0.25229999999999997, 0.2002, 0.11950000000000002, 0.0521, 0.029400000000000003, 0.0162, 0.0171, 0.0071], [0.0, 0.16659999999999997, 0.1904, 0.2158, 0.17429999999999995, 0.09440000000000001, 0.059599999999999986, 0.0369, 0.044199999999999996, 0.0178], [0.0, 0.0985, 0.1347, 0.17759999999999998, 0.1893, 0.1298, 0.0833, 0.0693, 0.0834, 0.034100000000000005], [0.0, 0.0648, 0.0884, 0.1334, 0.1695, 0.1443, 0.10210000000000001, 0.10389999999999999, 0.1353, 0.0583], [0.0, 0.043, 0.0617, 0.0928, 0.13889999999999997, 0.1365, 0.12210000000000001, 0.1281, 0.1892, 0.08770000000000001], [0.0, 0.029900000000000003, 0.04860000000000001, 0.06789999999999999, 0.11950000000000001, 0.12290000000000001, 0.1265, 0.13410000000000002, 0.23770000000000002, 0.1129], [0.0, 0.0214, 0.036500000000000005, 0.048, 0.0909, 0.1056, 0.12869999999999998, 0.1424, 0.2781, 0.14839999999999998]], \"type\": \"heatmap\", \"colorscale\": \"Viridis\"}], {\"width\": 500, \"height\": 500, \"xaxis\": {\"title\": \"Predicted Class\", \"dtick\": 1, \"range\": [0.5, 9.5]}, \"title\": \"Choice after 32000 Iterations at Glimpse 3\", \"yaxis\": {\"title\": \"True Class\", \"dtick\": 1, \"range\": [9.5, 0.5]}}, {\"linkText\": \"Export to plot.ly\", \"showLink\": true})});</script>"
      ]
     },
     "metadata": {},
     "output_type": "display_data"
    },
    {
     "data": {
      "application/vnd.plotly.v1+json": {
       "data": [
        {
         "colorscale": "Viridis",
         "type": "heatmap",
         "z": [
          [
           0,
           0,
           0,
           0,
           0,
           0,
           0,
           0,
           0,
           0
          ],
          [
           0,
           0.65048297069252,
           0.2026919298325666,
           0.07390923807209474,
           0.031290346566664,
           0.01832833720523358,
           0.012288709571488681,
           0.004692049052852796,
           0.003611519046710033,
           0.0027049007489005233
          ],
          [
           0,
           0.405666661332787,
           0.2557072930071037,
           0.13982509028520726,
           0.07931899493497876,
           0.04853035113138161,
           0.03069003142179491,
           0.01698987913030043,
           0.014352032218847588,
           0.008919667547589988
          ],
          [
           0,
           0.23579868318853103,
           0.2311755195434671,
           0.17566637466851392,
           0.13083656242047145,
           0.08699673072104205,
           0.053472570882448,
           0.03540790873963337,
           0.03234876182853626,
           0.018296888862374145
          ],
          [
           0,
           0.14223869005111595,
           0.17871775435652054,
           0.1743001083621406,
           0.15742459127217295,
           0.12144951380218919,
           0.07670688057421594,
           0.05995569447068903,
           0.05756274231107914,
           0.03164402446950719
          ],
          [
           0,
           0.08935053936794422,
           0.13011960878677686,
           0.1528050990530843,
           0.16079909227856842,
           0.14335473408817784,
           0.09721830342390858,
           0.08779339121964076,
           0.09007426846694934,
           0.04848496392815207
          ],
          [
           0,
           0.060672339507656825,
           0.0959418312898255,
           0.1275636641176112,
           0.1478643340340095,
           0.15025837033936987,
           0.11162135107424545,
           0.11490231948345826,
           0.12433582157420302,
           0.06683996866101809
          ],
          [
           0,
           0.0434382019880229,
           0.07104532226271834,
           0.10297134622666307,
           0.12997748135415704,
           0.1466291286389431,
           0.1212770756657701,
           0.13603266447914938,
           0.1606401990181315,
           0.08798858066003176
          ],
          [
           0,
           0.03191235754569914,
           0.05609780075300552,
           0.08652678293802404,
           0.1149487816637759,
           0.1390690237046154,
           0.1243590568768268,
           0.14805277539618028,
           0.19130565275375358,
           0.1077277678080421
          ],
          [
           0,
           0.023992017141543004,
           0.044373482913111786,
           0.07057649666704953,
           0.10136712848629051,
           0.12886933445348112,
           0.12527442997814506,
           0.1573265915986005,
           0.21926219635630476,
           0.1289583220933142
          ]
         ]
        }
       ],
       "layout": {
        "height": 500,
        "title": "Confidence after 32000 Iterations at Glimpse 9",
        "width": 500,
        "xaxis": {
         "dtick": 1,
         "range": [
          0.5,
          9.5
         ],
         "title": "Predicted Class"
        },
        "yaxis": {
         "dtick": 1,
         "range": [
          9.5,
          0.5
         ],
         "title": "True Class"
        }
       }
      },
      "text/html": [
       "<div id=\"83df50a9-af7b-415c-97a2-8bf89a95cc1f\" style=\"height: 500px; width: 500px;\" class=\"plotly-graph-div\"></div><script type=\"text/javascript\">require([\"plotly\"], function(Plotly) { window.PLOTLYENV=window.PLOTLYENV || {};window.PLOTLYENV.BASE_URL=\"https://plot.ly\";Plotly.newPlot(\"83df50a9-af7b-415c-97a2-8bf89a95cc1f\", [{\"z\": [[0.0, 0.0, 0.0, 0.0, 0.0, 0.0, 0.0, 0.0, 0.0, 0.0], [0.0, 0.65048297069252, 0.2026919298325666, 0.07390923807209474, 0.031290346566664, 0.01832833720523358, 0.012288709571488681, 0.004692049052852796, 0.003611519046710033, 0.0027049007489005233], [0.0, 0.405666661332787, 0.2557072930071037, 0.13982509028520726, 0.07931899493497876, 0.04853035113138161, 0.03069003142179491, 0.01698987913030043, 0.014352032218847588, 0.008919667547589988], [0.0, 0.23579868318853103, 0.2311755195434671, 0.17566637466851392, 0.13083656242047145, 0.08699673072104205, 0.053472570882448, 0.03540790873963337, 0.03234876182853626, 0.018296888862374145], [0.0, 0.14223869005111595, 0.17871775435652054, 0.1743001083621406, 0.15742459127217295, 0.12144951380218919, 0.07670688057421594, 0.05995569447068903, 0.05756274231107914, 0.03164402446950719], [0.0, 0.08935053936794422, 0.13011960878677686, 0.1528050990530843, 0.16079909227856842, 0.14335473408817784, 0.09721830342390858, 0.08779339121964076, 0.09007426846694934, 0.04848496392815207], [0.0, 0.060672339507656825, 0.0959418312898255, 0.1275636641176112, 0.1478643340340095, 0.15025837033936987, 0.11162135107424545, 0.11490231948345826, 0.12433582157420302, 0.06683996866101809], [0.0, 0.0434382019880229, 0.07104532226271834, 0.10297134622666307, 0.12997748135415704, 0.1466291286389431, 0.1212770756657701, 0.13603266447914938, 0.1606401990181315, 0.08798858066003176], [0.0, 0.03191235754569914, 0.05609780075300552, 0.08652678293802404, 0.1149487816637759, 0.1390690237046154, 0.1243590568768268, 0.14805277539618028, 0.19130565275375358, 0.1077277678080421], [0.0, 0.023992017141543004, 0.044373482913111786, 0.07057649666704953, 0.10136712848629051, 0.12886933445348112, 0.12527442997814506, 0.1573265915986005, 0.21926219635630476, 0.1289583220933142]], \"type\": \"heatmap\", \"colorscale\": \"Viridis\"}], {\"width\": 500, \"height\": 500, \"xaxis\": {\"title\": \"Predicted Class\", \"dtick\": 1, \"range\": [0.5, 9.5]}, \"title\": \"Confidence after 32000 Iterations at Glimpse 9\", \"yaxis\": {\"title\": \"True Class\", \"dtick\": 1, \"range\": [9.5, 0.5]}}, {\"linkText\": \"Export to plot.ly\", \"showLink\": true})});</script>"
      ],
      "text/vnd.plotly.v1+html": [
       "<div id=\"83df50a9-af7b-415c-97a2-8bf89a95cc1f\" style=\"height: 500px; width: 500px;\" class=\"plotly-graph-div\"></div><script type=\"text/javascript\">require([\"plotly\"], function(Plotly) { window.PLOTLYENV=window.PLOTLYENV || {};window.PLOTLYENV.BASE_URL=\"https://plot.ly\";Plotly.newPlot(\"83df50a9-af7b-415c-97a2-8bf89a95cc1f\", [{\"z\": [[0.0, 0.0, 0.0, 0.0, 0.0, 0.0, 0.0, 0.0, 0.0, 0.0], [0.0, 0.65048297069252, 0.2026919298325666, 0.07390923807209474, 0.031290346566664, 0.01832833720523358, 0.012288709571488681, 0.004692049052852796, 0.003611519046710033, 0.0027049007489005233], [0.0, 0.405666661332787, 0.2557072930071037, 0.13982509028520726, 0.07931899493497876, 0.04853035113138161, 0.03069003142179491, 0.01698987913030043, 0.014352032218847588, 0.008919667547589988], [0.0, 0.23579868318853103, 0.2311755195434671, 0.17566637466851392, 0.13083656242047145, 0.08699673072104205, 0.053472570882448, 0.03540790873963337, 0.03234876182853626, 0.018296888862374145], [0.0, 0.14223869005111595, 0.17871775435652054, 0.1743001083621406, 0.15742459127217295, 0.12144951380218919, 0.07670688057421594, 0.05995569447068903, 0.05756274231107914, 0.03164402446950719], [0.0, 0.08935053936794422, 0.13011960878677686, 0.1528050990530843, 0.16079909227856842, 0.14335473408817784, 0.09721830342390858, 0.08779339121964076, 0.09007426846694934, 0.04848496392815207], [0.0, 0.060672339507656825, 0.0959418312898255, 0.1275636641176112, 0.1478643340340095, 0.15025837033936987, 0.11162135107424545, 0.11490231948345826, 0.12433582157420302, 0.06683996866101809], [0.0, 0.0434382019880229, 0.07104532226271834, 0.10297134622666307, 0.12997748135415704, 0.1466291286389431, 0.1212770756657701, 0.13603266447914938, 0.1606401990181315, 0.08798858066003176], [0.0, 0.03191235754569914, 0.05609780075300552, 0.08652678293802404, 0.1149487816637759, 0.1390690237046154, 0.1243590568768268, 0.14805277539618028, 0.19130565275375358, 0.1077277678080421], [0.0, 0.023992017141543004, 0.044373482913111786, 0.07057649666704953, 0.10136712848629051, 0.12886933445348112, 0.12527442997814506, 0.1573265915986005, 0.21926219635630476, 0.1289583220933142]], \"type\": \"heatmap\", \"colorscale\": \"Viridis\"}], {\"width\": 500, \"height\": 500, \"xaxis\": {\"title\": \"Predicted Class\", \"dtick\": 1, \"range\": [0.5, 9.5]}, \"title\": \"Confidence after 32000 Iterations at Glimpse 9\", \"yaxis\": {\"title\": \"True Class\", \"dtick\": 1, \"range\": [9.5, 0.5]}}, {\"linkText\": \"Export to plot.ly\", \"showLink\": true})});</script>"
      ]
     },
     "metadata": {},
     "output_type": "display_data"
    },
    {
     "data": {
      "application/vnd.plotly.v1+json": {
       "data": [
        {
         "colorscale": "Viridis",
         "type": "heatmap",
         "z": [
          [
           0,
           0,
           0,
           0,
           0,
           0,
           0,
           0,
           0,
           0
          ],
          [
           0,
           0.8894,
           0.09730000000000001,
           0.01,
           0.0016,
           0.0012000000000000001,
           0.00030000000000000003,
           0.0001,
           0.0001,
           0
          ],
          [
           0,
           0.5868,
           0.22939999999999997,
           0.1137,
           0.0357,
           0.016999999999999998,
           0.008700000000000001,
           0.0034000000000000002,
           0.0042,
           0.0010999999999999998
          ],
          [
           0,
           0.3427,
           0.24299999999999994,
           0.19839999999999997,
           0.10910000000000002,
           0.0529,
           0.0245,
           0.0099,
           0.0157,
           0.0038000000000000004
          ],
          [
           0,
           0.20060000000000003,
           0.199,
           0.2192,
           0.152,
           0.10229999999999999,
           0.0454,
           0.029100000000000004,
           0.043,
           0.0094
          ],
          [
           0,
           0.12530000000000002,
           0.14529999999999998,
           0.1934,
           0.16340000000000002,
           0.1383,
           0.06799999999999999,
           0.061399999999999996,
           0.08639999999999999,
           0.0185
          ],
          [
           0,
           0.08220000000000001,
           0.10610000000000001,
           0.1548,
           0.14519999999999997,
           0.14750000000000002,
           0.08910000000000001,
           0.0963,
           0.1456,
           0.03319999999999999
          ],
          [
           0,
           0.0583,
           0.0781,
           0.1111,
           0.11510000000000002,
           0.1443,
           0.1058,
           0.123,
           0.211,
           0.05329999999999999
          ],
          [
           0,
           0.0422,
           0.0612,
           0.08179999999999998,
           0.094,
           0.1302,
           0.10880000000000001,
           0.13799999999999998,
           0.26849999999999996,
           0.07529999999999999
          ],
          [
           0,
           0.029100000000000004,
           0.0498,
           0.06090000000000001,
           0.0735,
           0.1096,
           0.11340000000000001,
           0.1381,
           0.3257,
           0.09989999999999999
          ]
         ]
        }
       ],
       "layout": {
        "height": 500,
        "title": "Choice after 32000 Iterations at Glimpse 9",
        "width": 500,
        "xaxis": {
         "dtick": 1,
         "range": [
          0.5,
          9.5
         ],
         "title": "Predicted Class"
        },
        "yaxis": {
         "dtick": 1,
         "range": [
          9.5,
          0.5
         ],
         "title": "True Class"
        }
       }
      },
      "text/html": [
       "<div id=\"afefa263-ef8f-4008-8495-d68acb09eb52\" style=\"height: 500px; width: 500px;\" class=\"plotly-graph-div\"></div><script type=\"text/javascript\">require([\"plotly\"], function(Plotly) { window.PLOTLYENV=window.PLOTLYENV || {};window.PLOTLYENV.BASE_URL=\"https://plot.ly\";Plotly.newPlot(\"afefa263-ef8f-4008-8495-d68acb09eb52\", [{\"z\": [[0.0, 0.0, 0.0, 0.0, 0.0, 0.0, 0.0, 0.0, 0.0, 0.0], [0.0, 0.8894, 0.09730000000000001, 0.01, 0.0016, 0.0012000000000000001, 0.00030000000000000003, 0.0001, 0.0001, 0.0], [0.0, 0.5868, 0.22939999999999997, 0.1137, 0.0357, 0.016999999999999998, 0.008700000000000001, 0.0034000000000000002, 0.0042, 0.0010999999999999998], [0.0, 0.3427, 0.24299999999999994, 0.19839999999999997, 0.10910000000000002, 0.0529, 0.0245, 0.0099, 0.0157, 0.0038000000000000004], [0.0, 0.20060000000000003, 0.199, 0.2192, 0.152, 0.10229999999999999, 0.0454, 0.029100000000000004, 0.043, 0.0094], [0.0, 0.12530000000000002, 0.14529999999999998, 0.1934, 0.16340000000000002, 0.1383, 0.06799999999999999, 0.061399999999999996, 0.08639999999999999, 0.0185], [0.0, 0.08220000000000001, 0.10610000000000001, 0.1548, 0.14519999999999997, 0.14750000000000002, 0.08910000000000001, 0.0963, 0.1456, 0.03319999999999999], [0.0, 0.0583, 0.0781, 0.1111, 0.11510000000000002, 0.1443, 0.1058, 0.123, 0.211, 0.05329999999999999], [0.0, 0.0422, 0.0612, 0.08179999999999998, 0.094, 0.1302, 0.10880000000000001, 0.13799999999999998, 0.26849999999999996, 0.07529999999999999], [0.0, 0.029100000000000004, 0.0498, 0.06090000000000001, 0.0735, 0.1096, 0.11340000000000001, 0.1381, 0.3257, 0.09989999999999999]], \"type\": \"heatmap\", \"colorscale\": \"Viridis\"}], {\"width\": 500, \"height\": 500, \"xaxis\": {\"title\": \"Predicted Class\", \"dtick\": 1, \"range\": [0.5, 9.5]}, \"title\": \"Choice after 32000 Iterations at Glimpse 9\", \"yaxis\": {\"title\": \"True Class\", \"dtick\": 1, \"range\": [9.5, 0.5]}}, {\"linkText\": \"Export to plot.ly\", \"showLink\": true})});</script>"
      ],
      "text/vnd.plotly.v1+html": [
       "<div id=\"afefa263-ef8f-4008-8495-d68acb09eb52\" style=\"height: 500px; width: 500px;\" class=\"plotly-graph-div\"></div><script type=\"text/javascript\">require([\"plotly\"], function(Plotly) { window.PLOTLYENV=window.PLOTLYENV || {};window.PLOTLYENV.BASE_URL=\"https://plot.ly\";Plotly.newPlot(\"afefa263-ef8f-4008-8495-d68acb09eb52\", [{\"z\": [[0.0, 0.0, 0.0, 0.0, 0.0, 0.0, 0.0, 0.0, 0.0, 0.0], [0.0, 0.8894, 0.09730000000000001, 0.01, 0.0016, 0.0012000000000000001, 0.00030000000000000003, 0.0001, 0.0001, 0.0], [0.0, 0.5868, 0.22939999999999997, 0.1137, 0.0357, 0.016999999999999998, 0.008700000000000001, 0.0034000000000000002, 0.0042, 0.0010999999999999998], [0.0, 0.3427, 0.24299999999999994, 0.19839999999999997, 0.10910000000000002, 0.0529, 0.0245, 0.0099, 0.0157, 0.0038000000000000004], [0.0, 0.20060000000000003, 0.199, 0.2192, 0.152, 0.10229999999999999, 0.0454, 0.029100000000000004, 0.043, 0.0094], [0.0, 0.12530000000000002, 0.14529999999999998, 0.1934, 0.16340000000000002, 0.1383, 0.06799999999999999, 0.061399999999999996, 0.08639999999999999, 0.0185], [0.0, 0.08220000000000001, 0.10610000000000001, 0.1548, 0.14519999999999997, 0.14750000000000002, 0.08910000000000001, 0.0963, 0.1456, 0.03319999999999999], [0.0, 0.0583, 0.0781, 0.1111, 0.11510000000000002, 0.1443, 0.1058, 0.123, 0.211, 0.05329999999999999], [0.0, 0.0422, 0.0612, 0.08179999999999998, 0.094, 0.1302, 0.10880000000000001, 0.13799999999999998, 0.26849999999999996, 0.07529999999999999], [0.0, 0.029100000000000004, 0.0498, 0.06090000000000001, 0.0735, 0.1096, 0.11340000000000001, 0.1381, 0.3257, 0.09989999999999999]], \"type\": \"heatmap\", \"colorscale\": \"Viridis\"}], {\"width\": 500, \"height\": 500, \"xaxis\": {\"title\": \"Predicted Class\", \"dtick\": 1, \"range\": [0.5, 9.5]}, \"title\": \"Choice after 32000 Iterations at Glimpse 9\", \"yaxis\": {\"title\": \"True Class\", \"dtick\": 1, \"range\": [9.5, 0.5]}}, {\"linkText\": \"Export to plot.ly\", \"showLink\": true})});</script>"
      ]
     },
     "metadata": {},
     "output_type": "display_data"
    }
   ],
   "source": [
    "for i, it in enumerate(iter_list):\n",
    "    for g, glimpse in enumerate(glimpse_list):\n",
    "        plot_confidence(i, it, g, glimpse)\n",
    "        plot_choice(i, it, g, glimpse)"
   ]
  }
 ],
 "metadata": {
  "kernelspec": {
   "display_name": "Python 3",
   "language": "python",
   "name": "python3"
  },
  "language_info": {
   "codemirror_mode": {
    "name": "ipython",
    "version": 3
   },
   "file_extension": ".py",
   "mimetype": "text/x-python",
   "name": "python",
   "nbconvert_exporter": "python",
   "pygments_lexer": "ipython3",
   "version": "3.5.2"
  }
 },
 "nbformat": 4,
 "nbformat_minor": 2
}
