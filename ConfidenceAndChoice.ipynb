{
 "cells": [
  {
   "cell_type": "markdown",
   "metadata": {},
   "source": [
    "# Confidence and Choice Visualizer"
   ]
  },
  {
   "cell_type": "markdown",
   "metadata": {},
   "source": [
    "Run DRAM_classify_blobs 10 times (use runDRAM_classify_blobs.sh in hydra), then copy all the checkpoints to guppy (use copyDRAM_classify_blobs_ckpts.sh in hydra and enter password 10x).\n",
    "\n",
    "Make sure these are the <b>guppy</b> model_settings: <br />\n",
    "min_edge = 2 <br />\n",
    "max_edge = 5 <br />\n",
    "min_blobs = 1 <br />\n",
    "max_blobs = 9 <br />\n",
    "glimpses = max_blobs + 1 <br />\n",
    "batch_size = 9000\n",
    "\n",
    "You could then use this entire program or use ClassificationDistributions.ipynb to output confidence_one_run for each run, and set them as the confidence for each run in confidence_all_runs."
   ]
  },
  {
   "cell_type": "code",
   "execution_count": 1,
   "metadata": {},
   "outputs": [
    {
     "data": {
      "text/html": [
       "<script>requirejs.config({paths: { 'plotly': ['https://cdn.plot.ly/plotly-latest.min']},});if(!window.Plotly) {{require(['plotly'],function(plotly) {window.Plotly=plotly;});}}</script>"
      ],
      "text/vnd.plotly.v1+html": [
       "<script>requirejs.config({paths: { 'plotly': ['https://cdn.plot.ly/plotly-latest.min']},});if(!window.Plotly) {{require(['plotly'],function(plotly) {window.Plotly=plotly;});}}</script>"
      ]
     },
     "metadata": {},
     "output_type": "display_data"
    },
    {
     "name": "stdout",
     "output_type": "stream",
     "text": [
      "['/usr/local/lib/python3.5/dist-packages/ipykernel_launcher.py', '-f', 'true', 'true', 'true', 'true', 'true', 'model_runs/-f/classify_log.csv', 'model_runs/-f/classifymodel_0.ckpt', 'model_runs/-f/classifymodel_', 'model_runs/-f/zzzdraw_data_5000.npy', 'false', 'true', 'false', 'false', 'true']\n",
      "analysis.py\n"
     ]
    }
   ],
   "source": [
    "import numpy as np\n",
    "from plotly.offline import download_plotlyjs, init_notebook_mode, plot, iplot\n",
    "init_notebook_mode(connected=True)\n",
    "import plotly.graph_objs as go\n",
    "from analysis import classify_image, read_n, classify_imgs2"
   ]
  },
  {
   "cell_type": "code",
   "execution_count": 2,
   "metadata": {
    "collapsed": true
   },
   "outputs": [],
   "source": [
    "model = \"DRAM_classify_blobs\"\n",
    "num_runs = 10\n",
    "iter_list = [0, 250, 1000, 4000, 16000, 32000, 64000, 125000, 250000]#, 500000]\n",
    "glimpse_list = [0, 3, 9]\n",
    "max_blobs = 9\n",
    "min_blobs = 1\n",
    "\n",
    "num_iters = len(iter_list)\n",
    "num_glimpses = len(glimpse_list)\n",
    "z_size = max_blobs - min_blobs + 1\n",
    "m = 0.5\n",
    "\n",
    "confidence_all_runs = np.zeros([num_runs, num_iters, num_glimpses, z_size, z_size])\n",
    "choice_all_runs = np.zeros([num_runs, num_iters, num_glimpses, z_size, z_size])"
   ]
  },
  {
   "cell_type": "code",
   "execution_count": 3,
   "metadata": {
    "collapsed": true
   },
   "outputs": [],
   "source": [
    "def fill_matrix(path, iteration):\n",
    "    \"\"\"Fill the confidence and choice matrices for one run at one iteration.\"\"\"\n",
    "    \n",
    "    data = None\n",
    "    num_imgs = 9000\n",
    "    imgs_data = classify_imgs2(iteration, True, num_imgs, path=path)\n",
    "        \n",
    "    confidence_one_run = np.zeros([num_glimpses, z_size, z_size])\n",
    "    choice_one_run = np.zeros([num_glimpses, z_size, z_size])\n",
    "    \n",
    "    for g, glimpse in enumerate(glimpse_list):\n",
    "\n",
    "        for nb in range(z_size):\n",
    "            num_blobs = nb + min_blobs\n",
    "            confidence_hist = np.zeros(z_size)\n",
    "            choice_hist = np.zeros(z_size)\n",
    "            num_imgs_with_num_blobs = 0\n",
    "\n",
    "            for idx, data in enumerate(imgs_data):\n",
    "\n",
    "                if data[\"label\"][nb] == 1: # data is for an image with num_blobs blobs\n",
    "                    num_imgs_with_num_blobs += 1\n",
    "\n",
    "                    # Histogram of softmaxes\n",
    "                    confidence_hist += data[\"classifications\"][glimpse][0]\n",
    "\n",
    "                    # Histogram of choices\n",
    "                    choice = np.argmax(data[\"classifications\"][glimpse][0])\n",
    "                    choice_list = [0] * z_size\n",
    "                    choice_list[choice] = 1\n",
    "                    choice_hist += choice_list\n",
    "\n",
    "            confidence_hist = confidence_hist / num_imgs_with_num_blobs\n",
    "            confidence_one_run[g, nb] = confidence_hist.tolist()\n",
    "\n",
    "            choice_hist = choice_hist / num_imgs_with_num_blobs\n",
    "            choice_one_run[g, nb] = choice_hist.tolist()\n",
    "        \n",
    "#     print(\"Confidence (One Run): \")\n",
    "#     print(confidence_one_run.tolist())\n",
    "#     print(\"Choice (One Run): \")\n",
    "#     print(choice_one_run.tolist())\n",
    "    return confidence_one_run, choice_one_run"
   ]
  },
  {
   "cell_type": "code",
   "execution_count": 4,
   "metadata": {},
   "outputs": [
    {
     "name": "stdout",
     "output_type": "stream",
     "text": [
      "INFO:tensorflow:Restoring parameters from model_runs/DRAM_classify_blobs_run_1/classifymodel_0.ckpt\n",
      "INFO:tensorflow:Restoring parameters from model_runs/DRAM_classify_blobs_run_1/classifymodel_250.ckpt\n",
      "INFO:tensorflow:Restoring parameters from model_runs/DRAM_classify_blobs_run_1/classifymodel_1000.ckpt\n",
      "INFO:tensorflow:Restoring parameters from model_runs/DRAM_classify_blobs_run_1/classifymodel_4000.ckpt\n",
      "INFO:tensorflow:Restoring parameters from model_runs/DRAM_classify_blobs_run_1/classifymodel_16000.ckpt\n",
      "INFO:tensorflow:Restoring parameters from model_runs/DRAM_classify_blobs_run_1/classifymodel_32000.ckpt\n",
      "INFO:tensorflow:Restoring parameters from model_runs/DRAM_classify_blobs_run_1/classifymodel_64000.ckpt\n",
      "INFO:tensorflow:Restoring parameters from model_runs/DRAM_classify_blobs_run_1/classifymodel_125000.ckpt\n",
      "INFO:tensorflow:Restoring parameters from model_runs/DRAM_classify_blobs_run_1/classifymodel_250000.ckpt\n",
      "INFO:tensorflow:Restoring parameters from model_runs/DRAM_classify_blobs_run_2/classifymodel_0.ckpt\n",
      "INFO:tensorflow:Restoring parameters from model_runs/DRAM_classify_blobs_run_2/classifymodel_250.ckpt\n",
      "INFO:tensorflow:Restoring parameters from model_runs/DRAM_classify_blobs_run_2/classifymodel_1000.ckpt\n",
      "INFO:tensorflow:Restoring parameters from model_runs/DRAM_classify_blobs_run_2/classifymodel_4000.ckpt\n",
      "INFO:tensorflow:Restoring parameters from model_runs/DRAM_classify_blobs_run_2/classifymodel_16000.ckpt\n",
      "INFO:tensorflow:Restoring parameters from model_runs/DRAM_classify_blobs_run_2/classifymodel_32000.ckpt\n",
      "INFO:tensorflow:Restoring parameters from model_runs/DRAM_classify_blobs_run_2/classifymodel_64000.ckpt\n",
      "INFO:tensorflow:Restoring parameters from model_runs/DRAM_classify_blobs_run_2/classifymodel_125000.ckpt\n",
      "INFO:tensorflow:Restoring parameters from model_runs/DRAM_classify_blobs_run_2/classifymodel_250000.ckpt\n",
      "INFO:tensorflow:Restoring parameters from model_runs/DRAM_classify_blobs_run_3/classifymodel_0.ckpt\n",
      "INFO:tensorflow:Restoring parameters from model_runs/DRAM_classify_blobs_run_3/classifymodel_250.ckpt\n",
      "INFO:tensorflow:Restoring parameters from model_runs/DRAM_classify_blobs_run_3/classifymodel_1000.ckpt\n",
      "INFO:tensorflow:Restoring parameters from model_runs/DRAM_classify_blobs_run_3/classifymodel_4000.ckpt\n",
      "INFO:tensorflow:Restoring parameters from model_runs/DRAM_classify_blobs_run_3/classifymodel_16000.ckpt\n",
      "INFO:tensorflow:Restoring parameters from model_runs/DRAM_classify_blobs_run_3/classifymodel_32000.ckpt\n",
      "INFO:tensorflow:Restoring parameters from model_runs/DRAM_classify_blobs_run_3/classifymodel_64000.ckpt\n",
      "INFO:tensorflow:Restoring parameters from model_runs/DRAM_classify_blobs_run_3/classifymodel_125000.ckpt\n",
      "INFO:tensorflow:Restoring parameters from model_runs/DRAM_classify_blobs_run_3/classifymodel_250000.ckpt\n",
      "INFO:tensorflow:Restoring parameters from model_runs/DRAM_classify_blobs_run_4/classifymodel_0.ckpt\n",
      "INFO:tensorflow:Restoring parameters from model_runs/DRAM_classify_blobs_run_4/classifymodel_250.ckpt\n",
      "INFO:tensorflow:Restoring parameters from model_runs/DRAM_classify_blobs_run_4/classifymodel_1000.ckpt\n",
      "INFO:tensorflow:Restoring parameters from model_runs/DRAM_classify_blobs_run_4/classifymodel_4000.ckpt\n",
      "INFO:tensorflow:Restoring parameters from model_runs/DRAM_classify_blobs_run_4/classifymodel_16000.ckpt\n",
      "INFO:tensorflow:Restoring parameters from model_runs/DRAM_classify_blobs_run_4/classifymodel_32000.ckpt\n",
      "INFO:tensorflow:Restoring parameters from model_runs/DRAM_classify_blobs_run_4/classifymodel_64000.ckpt\n",
      "INFO:tensorflow:Restoring parameters from model_runs/DRAM_classify_blobs_run_4/classifymodel_125000.ckpt\n",
      "INFO:tensorflow:Restoring parameters from model_runs/DRAM_classify_blobs_run_4/classifymodel_250000.ckpt\n",
      "INFO:tensorflow:Restoring parameters from model_runs/DRAM_classify_blobs_run_5/classifymodel_0.ckpt\n",
      "INFO:tensorflow:Restoring parameters from model_runs/DRAM_classify_blobs_run_5/classifymodel_250.ckpt\n",
      "INFO:tensorflow:Restoring parameters from model_runs/DRAM_classify_blobs_run_5/classifymodel_1000.ckpt\n",
      "INFO:tensorflow:Restoring parameters from model_runs/DRAM_classify_blobs_run_5/classifymodel_4000.ckpt\n",
      "INFO:tensorflow:Restoring parameters from model_runs/DRAM_classify_blobs_run_5/classifymodel_16000.ckpt\n",
      "INFO:tensorflow:Restoring parameters from model_runs/DRAM_classify_blobs_run_5/classifymodel_32000.ckpt\n",
      "INFO:tensorflow:Restoring parameters from model_runs/DRAM_classify_blobs_run_5/classifymodel_64000.ckpt\n",
      "INFO:tensorflow:Restoring parameters from model_runs/DRAM_classify_blobs_run_5/classifymodel_125000.ckpt\n",
      "INFO:tensorflow:Restoring parameters from model_runs/DRAM_classify_blobs_run_5/classifymodel_250000.ckpt\n",
      "INFO:tensorflow:Restoring parameters from model_runs/DRAM_classify_blobs_run_6/classifymodel_0.ckpt\n",
      "INFO:tensorflow:Restoring parameters from model_runs/DRAM_classify_blobs_run_6/classifymodel_250.ckpt\n",
      "INFO:tensorflow:Restoring parameters from model_runs/DRAM_classify_blobs_run_6/classifymodel_1000.ckpt\n",
      "INFO:tensorflow:Restoring parameters from model_runs/DRAM_classify_blobs_run_6/classifymodel_4000.ckpt\n",
      "INFO:tensorflow:Restoring parameters from model_runs/DRAM_classify_blobs_run_6/classifymodel_16000.ckpt\n",
      "INFO:tensorflow:Restoring parameters from model_runs/DRAM_classify_blobs_run_6/classifymodel_32000.ckpt\n",
      "INFO:tensorflow:Restoring parameters from model_runs/DRAM_classify_blobs_run_6/classifymodel_64000.ckpt\n",
      "INFO:tensorflow:Restoring parameters from model_runs/DRAM_classify_blobs_run_6/classifymodel_125000.ckpt\n",
      "INFO:tensorflow:Restoring parameters from model_runs/DRAM_classify_blobs_run_6/classifymodel_250000.ckpt\n",
      "INFO:tensorflow:Restoring parameters from model_runs/DRAM_classify_blobs_run_7/classifymodel_0.ckpt\n",
      "INFO:tensorflow:Restoring parameters from model_runs/DRAM_classify_blobs_run_7/classifymodel_250.ckpt\n",
      "INFO:tensorflow:Restoring parameters from model_runs/DRAM_classify_blobs_run_7/classifymodel_1000.ckpt\n",
      "INFO:tensorflow:Restoring parameters from model_runs/DRAM_classify_blobs_run_7/classifymodel_4000.ckpt\n",
      "INFO:tensorflow:Restoring parameters from model_runs/DRAM_classify_blobs_run_7/classifymodel_16000.ckpt\n",
      "INFO:tensorflow:Restoring parameters from model_runs/DRAM_classify_blobs_run_7/classifymodel_32000.ckpt\n",
      "INFO:tensorflow:Restoring parameters from model_runs/DRAM_classify_blobs_run_7/classifymodel_64000.ckpt\n",
      "INFO:tensorflow:Restoring parameters from model_runs/DRAM_classify_blobs_run_7/classifymodel_125000.ckpt\n",
      "INFO:tensorflow:Restoring parameters from model_runs/DRAM_classify_blobs_run_7/classifymodel_250000.ckpt\n",
      "INFO:tensorflow:Restoring parameters from model_runs/DRAM_classify_blobs_run_8/classifymodel_0.ckpt\n",
      "INFO:tensorflow:Restoring parameters from model_runs/DRAM_classify_blobs_run_8/classifymodel_250.ckpt\n",
      "INFO:tensorflow:Restoring parameters from model_runs/DRAM_classify_blobs_run_8/classifymodel_1000.ckpt\n",
      "INFO:tensorflow:Restoring parameters from model_runs/DRAM_classify_blobs_run_8/classifymodel_4000.ckpt\n",
      "INFO:tensorflow:Restoring parameters from model_runs/DRAM_classify_blobs_run_8/classifymodel_16000.ckpt\n",
      "INFO:tensorflow:Restoring parameters from model_runs/DRAM_classify_blobs_run_8/classifymodel_32000.ckpt\n",
      "INFO:tensorflow:Restoring parameters from model_runs/DRAM_classify_blobs_run_8/classifymodel_64000.ckpt\n",
      "INFO:tensorflow:Restoring parameters from model_runs/DRAM_classify_blobs_run_8/classifymodel_125000.ckpt\n",
      "INFO:tensorflow:Restoring parameters from model_runs/DRAM_classify_blobs_run_8/classifymodel_250000.ckpt\n",
      "INFO:tensorflow:Restoring parameters from model_runs/DRAM_classify_blobs_run_9/classifymodel_0.ckpt\n",
      "INFO:tensorflow:Restoring parameters from model_runs/DRAM_classify_blobs_run_9/classifymodel_250.ckpt\n",
      "INFO:tensorflow:Restoring parameters from model_runs/DRAM_classify_blobs_run_9/classifymodel_1000.ckpt\n",
      "INFO:tensorflow:Restoring parameters from model_runs/DRAM_classify_blobs_run_9/classifymodel_4000.ckpt\n",
      "INFO:tensorflow:Restoring parameters from model_runs/DRAM_classify_blobs_run_9/classifymodel_16000.ckpt\n",
      "INFO:tensorflow:Restoring parameters from model_runs/DRAM_classify_blobs_run_9/classifymodel_32000.ckpt\n",
      "INFO:tensorflow:Restoring parameters from model_runs/DRAM_classify_blobs_run_9/classifymodel_64000.ckpt\n",
      "INFO:tensorflow:Restoring parameters from model_runs/DRAM_classify_blobs_run_9/classifymodel_125000.ckpt\n"
     ]
    },
    {
     "name": "stdout",
     "output_type": "stream",
     "text": [
      "INFO:tensorflow:Restoring parameters from model_runs/DRAM_classify_blobs_run_9/classifymodel_250000.ckpt\n",
      "INFO:tensorflow:Restoring parameters from model_runs/DRAM_classify_blobs_run_10/classifymodel_0.ckpt\n",
      "INFO:tensorflow:Restoring parameters from model_runs/DRAM_classify_blobs_run_10/classifymodel_250.ckpt\n",
      "INFO:tensorflow:Restoring parameters from model_runs/DRAM_classify_blobs_run_10/classifymodel_1000.ckpt\n",
      "INFO:tensorflow:Restoring parameters from model_runs/DRAM_classify_blobs_run_10/classifymodel_4000.ckpt\n",
      "INFO:tensorflow:Restoring parameters from model_runs/DRAM_classify_blobs_run_10/classifymodel_16000.ckpt\n",
      "INFO:tensorflow:Restoring parameters from model_runs/DRAM_classify_blobs_run_10/classifymodel_32000.ckpt\n",
      "INFO:tensorflow:Restoring parameters from model_runs/DRAM_classify_blobs_run_10/classifymodel_64000.ckpt\n",
      "INFO:tensorflow:Restoring parameters from model_runs/DRAM_classify_blobs_run_10/classifymodel_125000.ckpt\n",
      "INFO:tensorflow:Restoring parameters from model_runs/DRAM_classify_blobs_run_10/classifymodel_250000.ckpt\n"
     ]
    }
   ],
   "source": [
    "for run in range(num_runs):\n",
    "    path = 'model_runs/' + model + '_run_' + str(run + 1)\n",
    "#     path = 'model_runs/DRAM_test_square'\n",
    "    for i, iteration in enumerate(iter_list):\n",
    "        confidence_all_runs[run, i], choice_all_runs[run, i] = fill_matrix(path, iteration)"
   ]
  },
  {
   "cell_type": "code",
   "execution_count": 5,
   "metadata": {
    "collapsed": true
   },
   "outputs": [],
   "source": [
    "def adj_all_runs(all_runs_matrix):\n",
    "    \"\"\"Adjust all the matrices so tick marks start with 1.\"\"\"\n",
    "    \n",
    "    new_all_runs_matrix = np.zeros([num_runs, num_iters, num_glimpses, z_size + 1, z_size + 1])\n",
    "    for m, matrix in enumerate(all_runs_matrix):\n",
    "        for i in range(num_iters):\n",
    "            for g in range(num_glimpses):\n",
    "                new_all_runs_matrix[m, i, g] = adj_matrix(matrix[i, g])\n",
    "    return new_all_runs_matrix\n",
    "\n",
    "\n",
    "def adj_matrix(matrix):\n",
    "    \"\"\"Adjust the matrix so tick marks start with 1.\"\"\"\n",
    "    \n",
    "    a = np.zeros([1, z_size])\n",
    "    temp = np.vstack((a, matrix))\n",
    "    b = np.zeros([z_size + 1, 1])\n",
    "    new_matrix = np.hstack((b, temp))\n",
    "    return new_matrix\n",
    "\n",
    "\n",
    "confidence_all_runs_adj = adj_all_runs(confidence_all_runs)\n",
    "choice_all_runs_adj = adj_all_runs(choice_all_runs)"
   ]
  },
  {
   "cell_type": "code",
   "execution_count": 6,
   "metadata": {
    "collapsed": true
   },
   "outputs": [],
   "source": [
    "confidence_avg = np.mean(confidence_all_runs_adj, axis=0)\n",
    "choice_avg = np.mean(choice_all_runs_adj, axis=0)"
   ]
  },
  {
   "cell_type": "code",
   "execution_count": 7,
   "metadata": {
    "collapsed": true
   },
   "outputs": [],
   "source": [
    "def plot_confidence(iter_idx, it, g, glimpse, run=None):\n",
    "    \"\"\"Plot the confidence heatmap.\"\"\"\n",
    "    \n",
    "    if run is None:\n",
    "        matrix = confidence_avg[iter_idx, g]\n",
    "        plot_title = \"Confidence after %d Iterations at Glimpse %d\" % (it, glimpse)\n",
    "\n",
    "    else:\n",
    "        matrix = confidence_all_runs_adj[run, iter_idx, g]\n",
    "        plot_title = \"Confidence at Run %d after %d Iterations at Glimpse %d\" % (run + 1, it, glimpse)\n",
    "    plot_heatmap(matrix, plot_title)\n",
    "\n",
    "\n",
    "def plot_choice(iter_idx, it, g, glimpse, run=None):\n",
    "    \"\"\"Plot the choice heatmap.\"\"\"\n",
    "    \n",
    "    if run is None:\n",
    "        matrix = choice_avg[iter_idx, g]\n",
    "        plot_title = \"Choice after %d Iterations at Glimpse %d\" % (it, glimpse)\n",
    "    else:\n",
    "        matrix = choice_all_runs_adj[run, iter_idx, g]\n",
    "        plot_title = \"Choice at Run %d after %d Iterations at Glimpse %d\" % (run + 1, it, glimpse)\n",
    "    plot_heatmap(matrix, plot_title)\n",
    "    \n",
    "    \n",
    "def plot_heatmap(matrix, plot_title):\n",
    "    \"\"\"Plot heatmap.\"\"\"\n",
    "    \n",
    "    data = [go.Heatmap(\n",
    "        z=matrix,\n",
    "        colorscale=\"Jet\"\n",
    "    )]\n",
    "\n",
    "    layout = go.Layout(\n",
    "        title=plot_title,\n",
    "        yaxis=dict(\n",
    "            range=[max_blobs + m, min_blobs - m],\n",
    "            title=\"True Class\",\n",
    "            dtick=1,\n",
    "            tickcolor='#FFF'\n",
    "        ),\n",
    "        xaxis=dict(\n",
    "            range=[min_blobs - m, max_blobs + m],\n",
    "            title=\"Predicted Class\",\n",
    "            dtick=1,\n",
    "            tickcolor='#FFF'\n",
    "        ),\n",
    "        width=500,\n",
    "        height=500,\n",
    "        plot_bgcolor=\"#000\",\n",
    "        paper_bgcolor=\"#000\",\n",
    "        font=dict(\n",
    "            color=\"#FFF\"\n",
    "        ),\n",
    "        titlefont=dict(\n",
    "            color=\"#FFF\"\n",
    "        ),\n",
    "    )\n",
    "    fig = go.Figure(data=data, layout=layout)\n",
    "    iplot(fig)"
   ]
  },
  {
   "cell_type": "code",
   "execution_count": 8,
   "metadata": {},
   "outputs": [
    {
     "data": {
      "application/vnd.plotly.v1+json": {
       "data": [
        {
         "colorscale": "Jet",
         "type": "heatmap",
         "z": [
          [
           0,
           0,
           0,
           0,
           0,
           0,
           0,
           0,
           0,
           0
          ],
          [
           0,
           0.10296535980905545,
           0.08464960856288625,
           0.08534668937214562,
           0.08002425343447941,
           0.11648997853858852,
           0.12399927672424685,
           0.16945465912279598,
           0.11286072160242973,
           0.12420945411227498
          ],
          [
           0,
           0.09769842568896009,
           0.07392129657882761,
           0.07448050226645361,
           0.07224814692705192,
           0.11517067577050275,
           0.1326445873156355,
           0.19246884398353636,
           0.11408861336733947,
           0.12727890999035493
          ],
          [
           0,
           0.09601703247939557,
           0.07256479892470458,
           0.07245911810149688,
           0.07164267773713773,
           0.11548618965766724,
           0.12683789245817628,
           0.20167544670380327,
           0.11344509838156971,
           0.12987174723800915
          ],
          [
           0,
           0.09083911160239637,
           0.06988961101513345,
           0.07056090499893912,
           0.06738061173817576,
           0.11650075596011915,
           0.12907277966204173,
           0.2020111356558159,
           0.12336186304844934,
           0.13038322904226624
          ],
          [
           0,
           0.09662160401217391,
           0.07190953335194686,
           0.06957205101320252,
           0.06745904569778507,
           0.12136655365902535,
           0.13009268866505402,
           0.19762918987291084,
           0.11535284214161537,
           0.12999649422022963
          ],
          [
           0,
           0.0915818671176809,
           0.0678017112453495,
           0.07203138143563423,
           0.06806666435912082,
           0.12370357350689924,
           0.12872557700824655,
           0.19895748378294087,
           0.11835067432160931,
           0.13078106953646768
          ],
          [
           0,
           0.09761903842026301,
           0.07063304520555816,
           0.06829667018366316,
           0.06490818439305493,
           0.121964523957703,
           0.12474511223634814,
           0.20016187789772727,
           0.11893891807812043,
           0.13273263274767982
          ],
          [
           0,
           0.09795561957924027,
           0.06630823182338963,
           0.06827790893536483,
           0.06695611690337208,
           0.11351166250841294,
           0.13243023535002868,
           0.208271833877199,
           0.11829865059177917,
           0.1279897435578884
          ],
          [
           0,
           0.09646383655564963,
           0.06941963660051126,
           0.06681822181287347,
           0.06509796759886503,
           0.12195845675398169,
           0.13209806531546317,
           0.20386645026259026,
           0.11713027101271964,
           0.12714709694444826
          ]
         ]
        }
       ],
       "layout": {
        "font": {
         "color": "#FFF"
        },
        "height": 500,
        "paper_bgcolor": "#000",
        "plot_bgcolor": "#000",
        "title": "Confidence after 0 Iterations at Glimpse 0",
        "titlefont": {
         "color": "#FFF"
        },
        "width": 500,
        "xaxis": {
         "dtick": 1,
         "range": [
          0.5,
          9.5
         ],
         "tickcolor": "#FFF",
         "title": "Predicted Class"
        },
        "yaxis": {
         "dtick": 1,
         "range": [
          9.5,
          0.5
         ],
         "tickcolor": "#FFF",
         "title": "True Class"
        }
       }
      },
      "text/html": [
       "<div id=\"2ce34cdf-5659-4a02-9b51-1f7731320cb5\" style=\"height: 500px; width: 500px;\" class=\"plotly-graph-div\"></div><script type=\"text/javascript\">require([\"plotly\"], function(Plotly) { window.PLOTLYENV=window.PLOTLYENV || {};window.PLOTLYENV.BASE_URL=\"https://plot.ly\";Plotly.newPlot(\"2ce34cdf-5659-4a02-9b51-1f7731320cb5\", [{\"colorscale\": \"Jet\", \"z\": [[0.0, 0.0, 0.0, 0.0, 0.0, 0.0, 0.0, 0.0, 0.0, 0.0], [0.0, 0.10296535980905545, 0.08464960856288625, 0.08534668937214562, 0.08002425343447941, 0.11648997853858852, 0.12399927672424685, 0.16945465912279598, 0.11286072160242973, 0.12420945411227498], [0.0, 0.09769842568896009, 0.07392129657882761, 0.07448050226645361, 0.07224814692705192, 0.11517067577050275, 0.1326445873156355, 0.19246884398353636, 0.11408861336733947, 0.12727890999035493], [0.0, 0.09601703247939557, 0.07256479892470458, 0.07245911810149688, 0.07164267773713773, 0.11548618965766724, 0.12683789245817628, 0.20167544670380327, 0.11344509838156971, 0.12987174723800915], [0.0, 0.09083911160239637, 0.06988961101513345, 0.07056090499893912, 0.06738061173817576, 0.11650075596011915, 0.12907277966204173, 0.2020111356558159, 0.12336186304844934, 0.13038322904226624], [0.0, 0.09662160401217391, 0.07190953335194686, 0.06957205101320252, 0.06745904569778507, 0.12136655365902535, 0.13009268866505402, 0.19762918987291084, 0.11535284214161537, 0.12999649422022963], [0.0, 0.0915818671176809, 0.0678017112453495, 0.07203138143563423, 0.06806666435912082, 0.12370357350689924, 0.12872557700824655, 0.19895748378294087, 0.11835067432160931, 0.13078106953646768], [0.0, 0.09761903842026301, 0.07063304520555816, 0.06829667018366316, 0.06490818439305493, 0.121964523957703, 0.12474511223634814, 0.20016187789772727, 0.11893891807812043, 0.13273263274767982], [0.0, 0.09795561957924027, 0.06630823182338963, 0.06827790893536483, 0.06695611690337208, 0.11351166250841294, 0.13243023535002868, 0.208271833877199, 0.11829865059177917, 0.1279897435578884], [0.0, 0.09646383655564963, 0.06941963660051126, 0.06681822181287347, 0.06509796759886503, 0.12195845675398169, 0.13209806531546317, 0.20386645026259026, 0.11713027101271964, 0.12714709694444826]], \"type\": \"heatmap\"}], {\"xaxis\": {\"title\": \"Predicted Class\", \"dtick\": 1, \"range\": [0.5, 9.5], \"tickcolor\": \"#FFF\"}, \"plot_bgcolor\": \"#000\", \"titlefont\": {\"color\": \"#FFF\"}, \"paper_bgcolor\": \"#000\", \"height\": 500, \"yaxis\": {\"title\": \"True Class\", \"dtick\": 1, \"range\": [9.5, 0.5], \"tickcolor\": \"#FFF\"}, \"title\": \"Confidence after 0 Iterations at Glimpse 0\", \"font\": {\"color\": \"#FFF\"}, \"width\": 500}, {\"showLink\": true, \"linkText\": \"Export to plot.ly\"})});</script>"
      ],
      "text/vnd.plotly.v1+html": [
       "<div id=\"2ce34cdf-5659-4a02-9b51-1f7731320cb5\" style=\"height: 500px; width: 500px;\" class=\"plotly-graph-div\"></div><script type=\"text/javascript\">require([\"plotly\"], function(Plotly) { window.PLOTLYENV=window.PLOTLYENV || {};window.PLOTLYENV.BASE_URL=\"https://plot.ly\";Plotly.newPlot(\"2ce34cdf-5659-4a02-9b51-1f7731320cb5\", [{\"colorscale\": \"Jet\", \"z\": [[0.0, 0.0, 0.0, 0.0, 0.0, 0.0, 0.0, 0.0, 0.0, 0.0], [0.0, 0.10296535980905545, 0.08464960856288625, 0.08534668937214562, 0.08002425343447941, 0.11648997853858852, 0.12399927672424685, 0.16945465912279598, 0.11286072160242973, 0.12420945411227498], [0.0, 0.09769842568896009, 0.07392129657882761, 0.07448050226645361, 0.07224814692705192, 0.11517067577050275, 0.1326445873156355, 0.19246884398353636, 0.11408861336733947, 0.12727890999035493], [0.0, 0.09601703247939557, 0.07256479892470458, 0.07245911810149688, 0.07164267773713773, 0.11548618965766724, 0.12683789245817628, 0.20167544670380327, 0.11344509838156971, 0.12987174723800915], [0.0, 0.09083911160239637, 0.06988961101513345, 0.07056090499893912, 0.06738061173817576, 0.11650075596011915, 0.12907277966204173, 0.2020111356558159, 0.12336186304844934, 0.13038322904226624], [0.0, 0.09662160401217391, 0.07190953335194686, 0.06957205101320252, 0.06745904569778507, 0.12136655365902535, 0.13009268866505402, 0.19762918987291084, 0.11535284214161537, 0.12999649422022963], [0.0, 0.0915818671176809, 0.0678017112453495, 0.07203138143563423, 0.06806666435912082, 0.12370357350689924, 0.12872557700824655, 0.19895748378294087, 0.11835067432160931, 0.13078106953646768], [0.0, 0.09761903842026301, 0.07063304520555816, 0.06829667018366316, 0.06490818439305493, 0.121964523957703, 0.12474511223634814, 0.20016187789772727, 0.11893891807812043, 0.13273263274767982], [0.0, 0.09795561957924027, 0.06630823182338963, 0.06827790893536483, 0.06695611690337208, 0.11351166250841294, 0.13243023535002868, 0.208271833877199, 0.11829865059177917, 0.1279897435578884], [0.0, 0.09646383655564963, 0.06941963660051126, 0.06681822181287347, 0.06509796759886503, 0.12195845675398169, 0.13209806531546317, 0.20386645026259026, 0.11713027101271964, 0.12714709694444826]], \"type\": \"heatmap\"}], {\"xaxis\": {\"title\": \"Predicted Class\", \"dtick\": 1, \"range\": [0.5, 9.5], \"tickcolor\": \"#FFF\"}, \"plot_bgcolor\": \"#000\", \"titlefont\": {\"color\": \"#FFF\"}, \"paper_bgcolor\": \"#000\", \"height\": 500, \"yaxis\": {\"title\": \"True Class\", \"dtick\": 1, \"range\": [9.5, 0.5], \"tickcolor\": \"#FFF\"}, \"title\": \"Confidence after 0 Iterations at Glimpse 0\", \"font\": {\"color\": \"#FFF\"}, \"width\": 500}, {\"showLink\": true, \"linkText\": \"Export to plot.ly\"})});</script>"
      ]
     },
     "metadata": {},
     "output_type": "display_data"
    },
    {
     "data": {
      "application/vnd.plotly.v1+json": {
       "data": [
        {
         "colorscale": "Jet",
         "type": "heatmap",
         "z": [
          [
           0,
           0,
           0,
           0,
           0,
           0,
           0,
           0,
           0,
           0
          ],
          [
           0,
           0.09880000000000003,
           0.07520000000000002,
           0.0665,
           0.07050000000000001,
           0.10969999999999998,
           0.13369999999999999,
           0.2077,
           0.10290000000000002,
           0.13499999999999998
          ],
          [
           0,
           0.09469999999999999,
           0.0695,
           0.0707,
           0.0679,
           0.1093,
           0.1364,
           0.20529999999999998,
           0.1131,
           0.1331
          ],
          [
           0,
           0.0971,
           0.06910000000000001,
           0.0713,
           0.0713,
           0.11359999999999999,
           0.1277,
           0.20539999999999997,
           0.1121,
           0.1324
          ],
          [
           0,
           0.09040000000000002,
           0.068,
           0.0707,
           0.0651,
           0.11539999999999997,
           0.13120000000000004,
           0.2023,
           0.12320000000000002,
           0.13369999999999999
          ],
          [
           0,
           0.09720000000000002,
           0.07220000000000001,
           0.0686,
           0.0661,
           0.122,
           0.1298,
           0.19810000000000003,
           0.1159,
           0.13009999999999997
          ],
          [
           0,
           0.09150000000000001,
           0.0673,
           0.07170000000000001,
           0.0686,
           0.12409999999999999,
           0.1295,
           0.19790000000000002,
           0.11720000000000001,
           0.1322
          ],
          [
           0,
           0.09760000000000002,
           0.0704,
           0.06860000000000001,
           0.06570000000000001,
           0.12110000000000001,
           0.125,
           0.2003,
           0.11840000000000002,
           0.1329
          ],
          [
           0,
           0.09760000000000002,
           0.0659,
           0.0687,
           0.0675,
           0.11239999999999999,
           0.1328,
           0.2084,
           0.11760000000000001,
           0.1291
          ],
          [
           0,
           0.09610000000000002,
           0.06860000000000002,
           0.0666,
           0.0648,
           0.12250000000000001,
           0.13279999999999997,
           0.20350000000000001,
           0.1169,
           0.12819999999999998
          ]
         ]
        }
       ],
       "layout": {
        "font": {
         "color": "#FFF"
        },
        "height": 500,
        "paper_bgcolor": "#000",
        "plot_bgcolor": "#000",
        "title": "Choice after 0 Iterations at Glimpse 0",
        "titlefont": {
         "color": "#FFF"
        },
        "width": 500,
        "xaxis": {
         "dtick": 1,
         "range": [
          0.5,
          9.5
         ],
         "tickcolor": "#FFF",
         "title": "Predicted Class"
        },
        "yaxis": {
         "dtick": 1,
         "range": [
          9.5,
          0.5
         ],
         "tickcolor": "#FFF",
         "title": "True Class"
        }
       }
      },
      "text/html": [
       "<div id=\"3fb0a58a-112f-483c-8b26-b34e6d4326d9\" style=\"height: 500px; width: 500px;\" class=\"plotly-graph-div\"></div><script type=\"text/javascript\">require([\"plotly\"], function(Plotly) { window.PLOTLYENV=window.PLOTLYENV || {};window.PLOTLYENV.BASE_URL=\"https://plot.ly\";Plotly.newPlot(\"3fb0a58a-112f-483c-8b26-b34e6d4326d9\", [{\"colorscale\": \"Jet\", \"z\": [[0.0, 0.0, 0.0, 0.0, 0.0, 0.0, 0.0, 0.0, 0.0, 0.0], [0.0, 0.09880000000000003, 0.07520000000000002, 0.0665, 0.07050000000000001, 0.10969999999999998, 0.13369999999999999, 0.2077, 0.10290000000000002, 0.13499999999999998], [0.0, 0.09469999999999999, 0.0695, 0.0707, 0.0679, 0.1093, 0.1364, 0.20529999999999998, 0.1131, 0.1331], [0.0, 0.0971, 0.06910000000000001, 0.0713, 0.0713, 0.11359999999999999, 0.1277, 0.20539999999999997, 0.1121, 0.1324], [0.0, 0.09040000000000002, 0.068, 0.0707, 0.0651, 0.11539999999999997, 0.13120000000000004, 0.2023, 0.12320000000000002, 0.13369999999999999], [0.0, 0.09720000000000002, 0.07220000000000001, 0.0686, 0.0661, 0.122, 0.1298, 0.19810000000000003, 0.1159, 0.13009999999999997], [0.0, 0.09150000000000001, 0.0673, 0.07170000000000001, 0.0686, 0.12409999999999999, 0.1295, 0.19790000000000002, 0.11720000000000001, 0.1322], [0.0, 0.09760000000000002, 0.0704, 0.06860000000000001, 0.06570000000000001, 0.12110000000000001, 0.125, 0.2003, 0.11840000000000002, 0.1329], [0.0, 0.09760000000000002, 0.0659, 0.0687, 0.0675, 0.11239999999999999, 0.1328, 0.2084, 0.11760000000000001, 0.1291], [0.0, 0.09610000000000002, 0.06860000000000002, 0.0666, 0.0648, 0.12250000000000001, 0.13279999999999997, 0.20350000000000001, 0.1169, 0.12819999999999998]], \"type\": \"heatmap\"}], {\"xaxis\": {\"title\": \"Predicted Class\", \"dtick\": 1, \"range\": [0.5, 9.5], \"tickcolor\": \"#FFF\"}, \"plot_bgcolor\": \"#000\", \"titlefont\": {\"color\": \"#FFF\"}, \"paper_bgcolor\": \"#000\", \"height\": 500, \"yaxis\": {\"title\": \"True Class\", \"dtick\": 1, \"range\": [9.5, 0.5], \"tickcolor\": \"#FFF\"}, \"title\": \"Choice after 0 Iterations at Glimpse 0\", \"font\": {\"color\": \"#FFF\"}, \"width\": 500}, {\"showLink\": true, \"linkText\": \"Export to plot.ly\"})});</script>"
      ],
      "text/vnd.plotly.v1+html": [
       "<div id=\"3fb0a58a-112f-483c-8b26-b34e6d4326d9\" style=\"height: 500px; width: 500px;\" class=\"plotly-graph-div\"></div><script type=\"text/javascript\">require([\"plotly\"], function(Plotly) { window.PLOTLYENV=window.PLOTLYENV || {};window.PLOTLYENV.BASE_URL=\"https://plot.ly\";Plotly.newPlot(\"3fb0a58a-112f-483c-8b26-b34e6d4326d9\", [{\"colorscale\": \"Jet\", \"z\": [[0.0, 0.0, 0.0, 0.0, 0.0, 0.0, 0.0, 0.0, 0.0, 0.0], [0.0, 0.09880000000000003, 0.07520000000000002, 0.0665, 0.07050000000000001, 0.10969999999999998, 0.13369999999999999, 0.2077, 0.10290000000000002, 0.13499999999999998], [0.0, 0.09469999999999999, 0.0695, 0.0707, 0.0679, 0.1093, 0.1364, 0.20529999999999998, 0.1131, 0.1331], [0.0, 0.0971, 0.06910000000000001, 0.0713, 0.0713, 0.11359999999999999, 0.1277, 0.20539999999999997, 0.1121, 0.1324], [0.0, 0.09040000000000002, 0.068, 0.0707, 0.0651, 0.11539999999999997, 0.13120000000000004, 0.2023, 0.12320000000000002, 0.13369999999999999], [0.0, 0.09720000000000002, 0.07220000000000001, 0.0686, 0.0661, 0.122, 0.1298, 0.19810000000000003, 0.1159, 0.13009999999999997], [0.0, 0.09150000000000001, 0.0673, 0.07170000000000001, 0.0686, 0.12409999999999999, 0.1295, 0.19790000000000002, 0.11720000000000001, 0.1322], [0.0, 0.09760000000000002, 0.0704, 0.06860000000000001, 0.06570000000000001, 0.12110000000000001, 0.125, 0.2003, 0.11840000000000002, 0.1329], [0.0, 0.09760000000000002, 0.0659, 0.0687, 0.0675, 0.11239999999999999, 0.1328, 0.2084, 0.11760000000000001, 0.1291], [0.0, 0.09610000000000002, 0.06860000000000002, 0.0666, 0.0648, 0.12250000000000001, 0.13279999999999997, 0.20350000000000001, 0.1169, 0.12819999999999998]], \"type\": \"heatmap\"}], {\"xaxis\": {\"title\": \"Predicted Class\", \"dtick\": 1, \"range\": [0.5, 9.5], \"tickcolor\": \"#FFF\"}, \"plot_bgcolor\": \"#000\", \"titlefont\": {\"color\": \"#FFF\"}, \"paper_bgcolor\": \"#000\", \"height\": 500, \"yaxis\": {\"title\": \"True Class\", \"dtick\": 1, \"range\": [9.5, 0.5], \"tickcolor\": \"#FFF\"}, \"title\": \"Choice after 0 Iterations at Glimpse 0\", \"font\": {\"color\": \"#FFF\"}, \"width\": 500}, {\"showLink\": true, \"linkText\": \"Export to plot.ly\"})});</script>"
      ]
     },
     "metadata": {},
     "output_type": "display_data"
    },
    {
     "data": {
      "application/vnd.plotly.v1+json": {
       "data": [
        {
         "colorscale": "Jet",
         "type": "heatmap",
         "z": [
          [
           0,
           0,
           0,
           0,
           0,
           0,
           0,
           0,
           0,
           0
          ],
          [
           0,
           0.09750932226476511,
           0.07416074799774768,
           0.08418524183832798,
           0.07124766014019387,
           0.11031682624681596,
           0.1290441117353916,
           0.19574219094337986,
           0.10782279353275248,
           0.12997110734616443
          ],
          [
           0,
           0.09023894386894779,
           0.06661817264302941,
           0.07748224404395372,
           0.06737642947022185,
           0.10701511782081172,
           0.1351914506210808,
           0.21395291519235257,
           0.10801320701727649,
           0.134111520899654
          ],
          [
           0,
           0.0926926327763303,
           0.06432407145807899,
           0.07449158645509155,
           0.06727141997512329,
           0.11040527097028643,
           0.13574069251820162,
           0.21141095891136352,
           0.10968963089370139,
           0.1339737380755092
          ],
          [
           0,
           0.09103066514857684,
           0.06712336411558603,
           0.07617424890985247,
           0.06926034304562559,
           0.10936797511113686,
           0.13327298223447678,
           0.20797046716341677,
           0.11170849581480118,
           0.13409146018397125
          ],
          [
           0,
           0.09399711400727392,
           0.06525736699231824,
           0.07391901671840467,
           0.06902650253310084,
           0.11372739402965662,
           0.13064276002450542,
           0.21220983595687043,
           0.10993401482607401,
           0.13128599654291995
          ],
          [
           0,
           0.09719026738955394,
           0.06103907574439282,
           0.07813218618024458,
           0.06869551556765859,
           0.11193142029243638,
           0.13339069166816955,
           0.212644828520616,
           0.10924759547562132,
           0.12772842058579448
          ],
          [
           0,
           0.09668117102559937,
           0.06384004657454381,
           0.0800608279726336,
           0.06843023255331865,
           0.11524210150162051,
           0.12693570600154713,
           0.21025644159675255,
           0.10941455175457138,
           0.1291389222271051
          ],
          [
           0,
           0.0969068731781302,
           0.056746281143997955,
           0.07657127050015651,
           0.06849851959276698,
           0.10933897379253588,
           0.13433942751736458,
           0.2150483505336381,
           0.11038821769501497,
           0.1321620880832244
          ],
          [
           0,
           0.1038075653378228,
           0.06196431349952993,
           0.0738094277717416,
           0.06878209919546133,
           0.10879253507288844,
           0.13225938563867107,
           0.21438353516160663,
           0.10759473442472345,
           0.12860640524386918
          ]
         ]
        }
       ],
       "layout": {
        "font": {
         "color": "#FFF"
        },
        "height": 500,
        "paper_bgcolor": "#000",
        "plot_bgcolor": "#000",
        "title": "Confidence after 0 Iterations at Glimpse 3",
        "titlefont": {
         "color": "#FFF"
        },
        "width": 500,
        "xaxis": {
         "dtick": 1,
         "range": [
          0.5,
          9.5
         ],
         "tickcolor": "#FFF",
         "title": "Predicted Class"
        },
        "yaxis": {
         "dtick": 1,
         "range": [
          9.5,
          0.5
         ],
         "tickcolor": "#FFF",
         "title": "True Class"
        }
       }
      },
      "text/html": [
       "<div id=\"4bf906ce-2d16-40aa-b730-b3707c92c064\" style=\"height: 500px; width: 500px;\" class=\"plotly-graph-div\"></div><script type=\"text/javascript\">require([\"plotly\"], function(Plotly) { window.PLOTLYENV=window.PLOTLYENV || {};window.PLOTLYENV.BASE_URL=\"https://plot.ly\";Plotly.newPlot(\"4bf906ce-2d16-40aa-b730-b3707c92c064\", [{\"colorscale\": \"Jet\", \"z\": [[0.0, 0.0, 0.0, 0.0, 0.0, 0.0, 0.0, 0.0, 0.0, 0.0], [0.0, 0.09750932226476511, 0.07416074799774768, 0.08418524183832798, 0.07124766014019387, 0.11031682624681596, 0.1290441117353916, 0.19574219094337986, 0.10782279353275248, 0.12997110734616443], [0.0, 0.09023894386894779, 0.06661817264302941, 0.07748224404395372, 0.06737642947022185, 0.10701511782081172, 0.1351914506210808, 0.21395291519235257, 0.10801320701727649, 0.134111520899654], [0.0, 0.0926926327763303, 0.06432407145807899, 0.07449158645509155, 0.06727141997512329, 0.11040527097028643, 0.13574069251820162, 0.21141095891136352, 0.10968963089370139, 0.1339737380755092], [0.0, 0.09103066514857684, 0.06712336411558603, 0.07617424890985247, 0.06926034304562559, 0.10936797511113686, 0.13327298223447678, 0.20797046716341677, 0.11170849581480118, 0.13409146018397125], [0.0, 0.09399711400727392, 0.06525736699231824, 0.07391901671840467, 0.06902650253310084, 0.11372739402965662, 0.13064276002450542, 0.21220983595687043, 0.10993401482607401, 0.13128599654291995], [0.0, 0.09719026738955394, 0.06103907574439282, 0.07813218618024458, 0.06869551556765859, 0.11193142029243638, 0.13339069166816955, 0.212644828520616, 0.10924759547562132, 0.12772842058579448], [0.0, 0.09668117102559937, 0.06384004657454381, 0.0800608279726336, 0.06843023255331865, 0.11524210150162051, 0.12693570600154713, 0.21025644159675255, 0.10941455175457138, 0.1291389222271051], [0.0, 0.0969068731781302, 0.056746281143997955, 0.07657127050015651, 0.06849851959276698, 0.10933897379253588, 0.13433942751736458, 0.2150483505336381, 0.11038821769501497, 0.1321620880832244], [0.0, 0.1038075653378228, 0.06196431349952993, 0.0738094277717416, 0.06878209919546133, 0.10879253507288844, 0.13225938563867107, 0.21438353516160663, 0.10759473442472345, 0.12860640524386918]], \"type\": \"heatmap\"}], {\"xaxis\": {\"title\": \"Predicted Class\", \"dtick\": 1, \"range\": [0.5, 9.5], \"tickcolor\": \"#FFF\"}, \"plot_bgcolor\": \"#000\", \"titlefont\": {\"color\": \"#FFF\"}, \"paper_bgcolor\": \"#000\", \"height\": 500, \"yaxis\": {\"title\": \"True Class\", \"dtick\": 1, \"range\": [9.5, 0.5], \"tickcolor\": \"#FFF\"}, \"title\": \"Confidence after 0 Iterations at Glimpse 3\", \"font\": {\"color\": \"#FFF\"}, \"width\": 500}, {\"showLink\": true, \"linkText\": \"Export to plot.ly\"})});</script>"
      ],
      "text/vnd.plotly.v1+html": [
       "<div id=\"4bf906ce-2d16-40aa-b730-b3707c92c064\" style=\"height: 500px; width: 500px;\" class=\"plotly-graph-div\"></div><script type=\"text/javascript\">require([\"plotly\"], function(Plotly) { window.PLOTLYENV=window.PLOTLYENV || {};window.PLOTLYENV.BASE_URL=\"https://plot.ly\";Plotly.newPlot(\"4bf906ce-2d16-40aa-b730-b3707c92c064\", [{\"colorscale\": \"Jet\", \"z\": [[0.0, 0.0, 0.0, 0.0, 0.0, 0.0, 0.0, 0.0, 0.0, 0.0], [0.0, 0.09750932226476511, 0.07416074799774768, 0.08418524183832798, 0.07124766014019387, 0.11031682624681596, 0.1290441117353916, 0.19574219094337986, 0.10782279353275248, 0.12997110734616443], [0.0, 0.09023894386894779, 0.06661817264302941, 0.07748224404395372, 0.06737642947022185, 0.10701511782081172, 0.1351914506210808, 0.21395291519235257, 0.10801320701727649, 0.134111520899654], [0.0, 0.0926926327763303, 0.06432407145807899, 0.07449158645509155, 0.06727141997512329, 0.11040527097028643, 0.13574069251820162, 0.21141095891136352, 0.10968963089370139, 0.1339737380755092], [0.0, 0.09103066514857684, 0.06712336411558603, 0.07617424890985247, 0.06926034304562559, 0.10936797511113686, 0.13327298223447678, 0.20797046716341677, 0.11170849581480118, 0.13409146018397125], [0.0, 0.09399711400727392, 0.06525736699231824, 0.07391901671840467, 0.06902650253310084, 0.11372739402965662, 0.13064276002450542, 0.21220983595687043, 0.10993401482607401, 0.13128599654291995], [0.0, 0.09719026738955394, 0.06103907574439282, 0.07813218618024458, 0.06869551556765859, 0.11193142029243638, 0.13339069166816955, 0.212644828520616, 0.10924759547562132, 0.12772842058579448], [0.0, 0.09668117102559937, 0.06384004657454381, 0.0800608279726336, 0.06843023255331865, 0.11524210150162051, 0.12693570600154713, 0.21025644159675255, 0.10941455175457138, 0.1291389222271051], [0.0, 0.0969068731781302, 0.056746281143997955, 0.07657127050015651, 0.06849851959276698, 0.10933897379253588, 0.13433942751736458, 0.2150483505336381, 0.11038821769501497, 0.1321620880832244], [0.0, 0.1038075653378228, 0.06196431349952993, 0.0738094277717416, 0.06878209919546133, 0.10879253507288844, 0.13225938563867107, 0.21438353516160663, 0.10759473442472345, 0.12860640524386918]], \"type\": \"heatmap\"}], {\"xaxis\": {\"title\": \"Predicted Class\", \"dtick\": 1, \"range\": [0.5, 9.5], \"tickcolor\": \"#FFF\"}, \"plot_bgcolor\": \"#000\", \"titlefont\": {\"color\": \"#FFF\"}, \"paper_bgcolor\": \"#000\", \"height\": 500, \"yaxis\": {\"title\": \"True Class\", \"dtick\": 1, \"range\": [9.5, 0.5], \"tickcolor\": \"#FFF\"}, \"title\": \"Confidence after 0 Iterations at Glimpse 3\", \"font\": {\"color\": \"#FFF\"}, \"width\": 500}, {\"showLink\": true, \"linkText\": \"Export to plot.ly\"})});</script>"
      ]
     },
     "metadata": {},
     "output_type": "display_data"
    },
    {
     "data": {
      "application/vnd.plotly.v1+json": {
       "data": [
        {
         "colorscale": "Jet",
         "type": "heatmap",
         "z": [
          [
           0,
           0,
           0,
           0,
           0,
           0,
           0,
           0,
           0,
           0
          ],
          [
           0,
           0.09570000000000001,
           0.0722,
           0.077,
           0.0638,
           0.11010000000000002,
           0.1321,
           0.21109999999999998,
           0.10250000000000001,
           0.1355
          ],
          [
           0,
           0.08950000000000001,
           0.0653,
           0.0761,
           0.0665,
           0.1069,
           0.1368,
           0.21639999999999998,
           0.1068,
           0.1357
          ],
          [
           0,
           0.0926,
           0.0635,
           0.07479999999999999,
           0.06720000000000001,
           0.1096,
           0.13549999999999998,
           0.21280000000000002,
           0.10990000000000003,
           0.1341
          ],
          [
           0,
           0.0911,
           0.067,
           0.07600000000000001,
           0.0698,
           0.10939999999999998,
           0.133,
           0.20749999999999996,
           0.11200000000000002,
           0.1342
          ],
          [
           0,
           0.0931,
           0.06570000000000001,
           0.0738,
           0.0695,
           0.11349999999999998,
           0.1303,
           0.2136,
           0.10940000000000001,
           0.13109999999999997
          ],
          [
           0,
           0.0972,
           0.060899999999999996,
           0.07769999999999999,
           0.0685,
           0.11140000000000001,
           0.1335,
           0.21270000000000003,
           0.1101,
           0.128
          ],
          [
           0,
           0.09670000000000002,
           0.06420000000000001,
           0.07980000000000001,
           0.06810000000000001,
           0.1157,
           0.1269,
           0.2091,
           0.10969999999999999,
           0.12979999999999997
          ],
          [
           0,
           0.09730000000000003,
           0.05660000000000002,
           0.0766,
           0.06860000000000001,
           0.1099,
           0.1335,
           0.2144,
           0.1109,
           0.13219999999999998
          ],
          [
           0,
           0.10400000000000001,
           0.0627,
           0.0736,
           0.069,
           0.10819999999999999,
           0.13249999999999998,
           0.2138,
           0.10700000000000001,
           0.1292
          ]
         ]
        }
       ],
       "layout": {
        "font": {
         "color": "#FFF"
        },
        "height": 500,
        "paper_bgcolor": "#000",
        "plot_bgcolor": "#000",
        "title": "Choice after 0 Iterations at Glimpse 3",
        "titlefont": {
         "color": "#FFF"
        },
        "width": 500,
        "xaxis": {
         "dtick": 1,
         "range": [
          0.5,
          9.5
         ],
         "tickcolor": "#FFF",
         "title": "Predicted Class"
        },
        "yaxis": {
         "dtick": 1,
         "range": [
          9.5,
          0.5
         ],
         "tickcolor": "#FFF",
         "title": "True Class"
        }
       }
      },
      "text/html": [
       "<div id=\"5646c107-233e-4bbc-81ad-de2e80fc5485\" style=\"height: 500px; width: 500px;\" class=\"plotly-graph-div\"></div><script type=\"text/javascript\">require([\"plotly\"], function(Plotly) { window.PLOTLYENV=window.PLOTLYENV || {};window.PLOTLYENV.BASE_URL=\"https://plot.ly\";Plotly.newPlot(\"5646c107-233e-4bbc-81ad-de2e80fc5485\", [{\"colorscale\": \"Jet\", \"z\": [[0.0, 0.0, 0.0, 0.0, 0.0, 0.0, 0.0, 0.0, 0.0, 0.0], [0.0, 0.09570000000000001, 0.0722, 0.077, 0.0638, 0.11010000000000002, 0.1321, 0.21109999999999998, 0.10250000000000001, 0.1355], [0.0, 0.08950000000000001, 0.0653, 0.0761, 0.0665, 0.1069, 0.1368, 0.21639999999999998, 0.1068, 0.1357], [0.0, 0.0926, 0.0635, 0.07479999999999999, 0.06720000000000001, 0.1096, 0.13549999999999998, 0.21280000000000002, 0.10990000000000003, 0.1341], [0.0, 0.0911, 0.067, 0.07600000000000001, 0.0698, 0.10939999999999998, 0.133, 0.20749999999999996, 0.11200000000000002, 0.1342], [0.0, 0.0931, 0.06570000000000001, 0.0738, 0.0695, 0.11349999999999998, 0.1303, 0.2136, 0.10940000000000001, 0.13109999999999997], [0.0, 0.0972, 0.060899999999999996, 0.07769999999999999, 0.0685, 0.11140000000000001, 0.1335, 0.21270000000000003, 0.1101, 0.128], [0.0, 0.09670000000000002, 0.06420000000000001, 0.07980000000000001, 0.06810000000000001, 0.1157, 0.1269, 0.2091, 0.10969999999999999, 0.12979999999999997], [0.0, 0.09730000000000003, 0.05660000000000002, 0.0766, 0.06860000000000001, 0.1099, 0.1335, 0.2144, 0.1109, 0.13219999999999998], [0.0, 0.10400000000000001, 0.0627, 0.0736, 0.069, 0.10819999999999999, 0.13249999999999998, 0.2138, 0.10700000000000001, 0.1292]], \"type\": \"heatmap\"}], {\"xaxis\": {\"title\": \"Predicted Class\", \"dtick\": 1, \"range\": [0.5, 9.5], \"tickcolor\": \"#FFF\"}, \"plot_bgcolor\": \"#000\", \"titlefont\": {\"color\": \"#FFF\"}, \"paper_bgcolor\": \"#000\", \"height\": 500, \"yaxis\": {\"title\": \"True Class\", \"dtick\": 1, \"range\": [9.5, 0.5], \"tickcolor\": \"#FFF\"}, \"title\": \"Choice after 0 Iterations at Glimpse 3\", \"font\": {\"color\": \"#FFF\"}, \"width\": 500}, {\"showLink\": true, \"linkText\": \"Export to plot.ly\"})});</script>"
      ],
      "text/vnd.plotly.v1+html": [
       "<div id=\"5646c107-233e-4bbc-81ad-de2e80fc5485\" style=\"height: 500px; width: 500px;\" class=\"plotly-graph-div\"></div><script type=\"text/javascript\">require([\"plotly\"], function(Plotly) { window.PLOTLYENV=window.PLOTLYENV || {};window.PLOTLYENV.BASE_URL=\"https://plot.ly\";Plotly.newPlot(\"5646c107-233e-4bbc-81ad-de2e80fc5485\", [{\"colorscale\": \"Jet\", \"z\": [[0.0, 0.0, 0.0, 0.0, 0.0, 0.0, 0.0, 0.0, 0.0, 0.0], [0.0, 0.09570000000000001, 0.0722, 0.077, 0.0638, 0.11010000000000002, 0.1321, 0.21109999999999998, 0.10250000000000001, 0.1355], [0.0, 0.08950000000000001, 0.0653, 0.0761, 0.0665, 0.1069, 0.1368, 0.21639999999999998, 0.1068, 0.1357], [0.0, 0.0926, 0.0635, 0.07479999999999999, 0.06720000000000001, 0.1096, 0.13549999999999998, 0.21280000000000002, 0.10990000000000003, 0.1341], [0.0, 0.0911, 0.067, 0.07600000000000001, 0.0698, 0.10939999999999998, 0.133, 0.20749999999999996, 0.11200000000000002, 0.1342], [0.0, 0.0931, 0.06570000000000001, 0.0738, 0.0695, 0.11349999999999998, 0.1303, 0.2136, 0.10940000000000001, 0.13109999999999997], [0.0, 0.0972, 0.060899999999999996, 0.07769999999999999, 0.0685, 0.11140000000000001, 0.1335, 0.21270000000000003, 0.1101, 0.128], [0.0, 0.09670000000000002, 0.06420000000000001, 0.07980000000000001, 0.06810000000000001, 0.1157, 0.1269, 0.2091, 0.10969999999999999, 0.12979999999999997], [0.0, 0.09730000000000003, 0.05660000000000002, 0.0766, 0.06860000000000001, 0.1099, 0.1335, 0.2144, 0.1109, 0.13219999999999998], [0.0, 0.10400000000000001, 0.0627, 0.0736, 0.069, 0.10819999999999999, 0.13249999999999998, 0.2138, 0.10700000000000001, 0.1292]], \"type\": \"heatmap\"}], {\"xaxis\": {\"title\": \"Predicted Class\", \"dtick\": 1, \"range\": [0.5, 9.5], \"tickcolor\": \"#FFF\"}, \"plot_bgcolor\": \"#000\", \"titlefont\": {\"color\": \"#FFF\"}, \"paper_bgcolor\": \"#000\", \"height\": 500, \"yaxis\": {\"title\": \"True Class\", \"dtick\": 1, \"range\": [9.5, 0.5], \"tickcolor\": \"#FFF\"}, \"title\": \"Choice after 0 Iterations at Glimpse 3\", \"font\": {\"color\": \"#FFF\"}, \"width\": 500}, {\"showLink\": true, \"linkText\": \"Export to plot.ly\"})});</script>"
      ]
     },
     "metadata": {},
     "output_type": "display_data"
    },
    {
     "data": {
      "application/vnd.plotly.v1+json": {
       "data": [
        {
         "colorscale": "Jet",
         "type": "heatmap",
         "z": [
          [
           0,
           0,
           0,
           0,
           0,
           0,
           0,
           0,
           0,
           0
          ],
          [
           0,
           0.09923274134746216,
           0.0781388279397677,
           0.08628850232972742,
           0.08321567771632331,
           0.10387346676639926,
           0.11941530632378347,
           0.20386123856888516,
           0.10117172319199799,
           0.12480251810727036
          ],
          [
           0,
           0.10096877387327755,
           0.06813067422222328,
           0.08281090435411287,
           0.08389958888269632,
           0.1040343353559243,
           0.1235184202954934,
           0.2095915256500363,
           0.10014963591209117,
           0.12689614349109363
          ],
          [
           0,
           0.10804869951215383,
           0.06516049016541005,
           0.0745781410689497,
           0.07984861243235981,
           0.09925872687639611,
           0.1287100598963257,
           0.20656289503832434,
           0.11178872060317649,
           0.12604365614006652
          ],
          [
           0,
           0.10601615613630919,
           0.07111556571386292,
           0.07589428360760361,
           0.08881642204814183,
           0.09949959009046691,
           0.12327177262456541,
           0.2006777895275782,
           0.10808105174959814,
           0.12662737048015832
          ],
          [
           0,
           0.10450946912133888,
           0.06467696792260992,
           0.07766232880831392,
           0.0870408113285328,
           0.09874289803049029,
           0.12345547869325199,
           0.21137234984499625,
           0.10892613735646357,
           0.12361356126281597
          ],
          [
           0,
           0.10868234712192415,
           0.07009992176531797,
           0.0769503143417076,
           0.08976778467714377,
           0.09895324647011604,
           0.12466710820246574,
           0.20224729549194514,
           0.10859339110192841,
           0.12003859267543182
          ],
          [
           0,
           0.10865555413954069,
           0.0690611275367505,
           0.0781338867777748,
           0.08462952495433806,
           0.09884748131803538,
           0.1207333328862803,
           0.20155315405702087,
           0.11734989313018025,
           0.12103604693797827
          ],
          [
           0,
           0.1069885240280261,
           0.06431372544163905,
           0.07100847150379948,
           0.08571212230559366,
           0.10062225666740059,
           0.12729094467266827,
           0.20636735805499815,
           0.11095171610054333,
           0.12674488309913431
          ],
          [
           0,
           0.10408430373648861,
           0.06440321970150378,
           0.07029893363897145,
           0.08510072042845397,
           0.10031237517529619,
           0.12755267907480441,
           0.21000581491096626,
           0.11759422518804072,
           0.12064772923584006
          ]
         ]
        }
       ],
       "layout": {
        "font": {
         "color": "#FFF"
        },
        "height": 500,
        "paper_bgcolor": "#000",
        "plot_bgcolor": "#000",
        "title": "Confidence after 0 Iterations at Glimpse 9",
        "titlefont": {
         "color": "#FFF"
        },
        "width": 500,
        "xaxis": {
         "dtick": 1,
         "range": [
          0.5,
          9.5
         ],
         "tickcolor": "#FFF",
         "title": "Predicted Class"
        },
        "yaxis": {
         "dtick": 1,
         "range": [
          9.5,
          0.5
         ],
         "tickcolor": "#FFF",
         "title": "True Class"
        }
       }
      },
      "text/html": [
       "<div id=\"39271557-3336-4ea4-b274-832b269b7419\" style=\"height: 500px; width: 500px;\" class=\"plotly-graph-div\"></div><script type=\"text/javascript\">require([\"plotly\"], function(Plotly) { window.PLOTLYENV=window.PLOTLYENV || {};window.PLOTLYENV.BASE_URL=\"https://plot.ly\";Plotly.newPlot(\"39271557-3336-4ea4-b274-832b269b7419\", [{\"colorscale\": \"Jet\", \"z\": [[0.0, 0.0, 0.0, 0.0, 0.0, 0.0, 0.0, 0.0, 0.0, 0.0], [0.0, 0.09923274134746216, 0.0781388279397677, 0.08628850232972742, 0.08321567771632331, 0.10387346676639926, 0.11941530632378347, 0.20386123856888516, 0.10117172319199799, 0.12480251810727036], [0.0, 0.10096877387327755, 0.06813067422222328, 0.08281090435411287, 0.08389958888269632, 0.1040343353559243, 0.1235184202954934, 0.2095915256500363, 0.10014963591209117, 0.12689614349109363], [0.0, 0.10804869951215383, 0.06516049016541005, 0.0745781410689497, 0.07984861243235981, 0.09925872687639611, 0.1287100598963257, 0.20656289503832434, 0.11178872060317649, 0.12604365614006652], [0.0, 0.10601615613630919, 0.07111556571386292, 0.07589428360760361, 0.08881642204814183, 0.09949959009046691, 0.12327177262456541, 0.2006777895275782, 0.10808105174959814, 0.12662737048015832], [0.0, 0.10450946912133888, 0.06467696792260992, 0.07766232880831392, 0.0870408113285328, 0.09874289803049029, 0.12345547869325199, 0.21137234984499625, 0.10892613735646357, 0.12361356126281597], [0.0, 0.10868234712192415, 0.07009992176531797, 0.0769503143417076, 0.08976778467714377, 0.09895324647011604, 0.12466710820246574, 0.20224729549194514, 0.10859339110192841, 0.12003859267543182], [0.0, 0.10865555413954069, 0.0690611275367505, 0.0781338867777748, 0.08462952495433806, 0.09884748131803538, 0.1207333328862803, 0.20155315405702087, 0.11734989313018025, 0.12103604693797827], [0.0, 0.1069885240280261, 0.06431372544163905, 0.07100847150379948, 0.08571212230559366, 0.10062225666740059, 0.12729094467266827, 0.20636735805499815, 0.11095171610054333, 0.12674488309913431], [0.0, 0.10408430373648861, 0.06440321970150378, 0.07029893363897145, 0.08510072042845397, 0.10031237517529619, 0.12755267907480441, 0.21000581491096626, 0.11759422518804072, 0.12064772923584006]], \"type\": \"heatmap\"}], {\"xaxis\": {\"title\": \"Predicted Class\", \"dtick\": 1, \"range\": [0.5, 9.5], \"tickcolor\": \"#FFF\"}, \"plot_bgcolor\": \"#000\", \"titlefont\": {\"color\": \"#FFF\"}, \"paper_bgcolor\": \"#000\", \"height\": 500, \"yaxis\": {\"title\": \"True Class\", \"dtick\": 1, \"range\": [9.5, 0.5], \"tickcolor\": \"#FFF\"}, \"title\": \"Confidence after 0 Iterations at Glimpse 9\", \"font\": {\"color\": \"#FFF\"}, \"width\": 500}, {\"showLink\": true, \"linkText\": \"Export to plot.ly\"})});</script>"
      ],
      "text/vnd.plotly.v1+html": [
       "<div id=\"39271557-3336-4ea4-b274-832b269b7419\" style=\"height: 500px; width: 500px;\" class=\"plotly-graph-div\"></div><script type=\"text/javascript\">require([\"plotly\"], function(Plotly) { window.PLOTLYENV=window.PLOTLYENV || {};window.PLOTLYENV.BASE_URL=\"https://plot.ly\";Plotly.newPlot(\"39271557-3336-4ea4-b274-832b269b7419\", [{\"colorscale\": \"Jet\", \"z\": [[0.0, 0.0, 0.0, 0.0, 0.0, 0.0, 0.0, 0.0, 0.0, 0.0], [0.0, 0.09923274134746216, 0.0781388279397677, 0.08628850232972742, 0.08321567771632331, 0.10387346676639926, 0.11941530632378347, 0.20386123856888516, 0.10117172319199799, 0.12480251810727036], [0.0, 0.10096877387327755, 0.06813067422222328, 0.08281090435411287, 0.08389958888269632, 0.1040343353559243, 0.1235184202954934, 0.2095915256500363, 0.10014963591209117, 0.12689614349109363], [0.0, 0.10804869951215383, 0.06516049016541005, 0.0745781410689497, 0.07984861243235981, 0.09925872687639611, 0.1287100598963257, 0.20656289503832434, 0.11178872060317649, 0.12604365614006652], [0.0, 0.10601615613630919, 0.07111556571386292, 0.07589428360760361, 0.08881642204814183, 0.09949959009046691, 0.12327177262456541, 0.2006777895275782, 0.10808105174959814, 0.12662737048015832], [0.0, 0.10450946912133888, 0.06467696792260992, 0.07766232880831392, 0.0870408113285328, 0.09874289803049029, 0.12345547869325199, 0.21137234984499625, 0.10892613735646357, 0.12361356126281597], [0.0, 0.10868234712192415, 0.07009992176531797, 0.0769503143417076, 0.08976778467714377, 0.09895324647011604, 0.12466710820246574, 0.20224729549194514, 0.10859339110192841, 0.12003859267543182], [0.0, 0.10865555413954069, 0.0690611275367505, 0.0781338867777748, 0.08462952495433806, 0.09884748131803538, 0.1207333328862803, 0.20155315405702087, 0.11734989313018025, 0.12103604693797827], [0.0, 0.1069885240280261, 0.06431372544163905, 0.07100847150379948, 0.08571212230559366, 0.10062225666740059, 0.12729094467266827, 0.20636735805499815, 0.11095171610054333, 0.12674488309913431], [0.0, 0.10408430373648861, 0.06440321970150378, 0.07029893363897145, 0.08510072042845397, 0.10031237517529619, 0.12755267907480441, 0.21000581491096626, 0.11759422518804072, 0.12064772923584006]], \"type\": \"heatmap\"}], {\"xaxis\": {\"title\": \"Predicted Class\", \"dtick\": 1, \"range\": [0.5, 9.5], \"tickcolor\": \"#FFF\"}, \"plot_bgcolor\": \"#000\", \"titlefont\": {\"color\": \"#FFF\"}, \"paper_bgcolor\": \"#000\", \"height\": 500, \"yaxis\": {\"title\": \"True Class\", \"dtick\": 1, \"range\": [9.5, 0.5], \"tickcolor\": \"#FFF\"}, \"title\": \"Confidence after 0 Iterations at Glimpse 9\", \"font\": {\"color\": \"#FFF\"}, \"width\": 500}, {\"showLink\": true, \"linkText\": \"Export to plot.ly\"})});</script>"
      ]
     },
     "metadata": {},
     "output_type": "display_data"
    },
    {
     "data": {
      "application/vnd.plotly.v1+json": {
       "data": [
        {
         "colorscale": "Jet",
         "type": "heatmap",
         "z": [
          [
           0,
           0,
           0,
           0,
           0,
           0,
           0,
           0,
           0,
           0
          ],
          [
           0,
           0.09590000000000001,
           0.08140000000000001,
           0.07930000000000001,
           0.0787,
           0.10300000000000001,
           0.12140000000000002,
           0.21070000000000003,
           0.0982,
           0.13140000000000002
          ],
          [
           0,
           0.10060000000000002,
           0.0673,
           0.0819,
           0.0844,
           0.1032,
           0.1244,
           0.21190000000000003,
           0.09910000000000001,
           0.1272
          ],
          [
           0,
           0.10769999999999999,
           0.0644,
           0.0748,
           0.0797,
           0.09970000000000001,
           0.12969999999999998,
           0.20670000000000002,
           0.11180000000000001,
           0.1255
          ],
          [
           0,
           0.10470000000000002,
           0.07120000000000001,
           0.07660000000000002,
           0.0888,
           0.0996,
           0.1234,
           0.20050000000000004,
           0.10790000000000002,
           0.12730000000000002
          ],
          [
           0,
           0.10510000000000001,
           0.06410000000000002,
           0.07780000000000001,
           0.0872,
           0.0978,
           0.124,
           0.21180000000000004,
           0.10880000000000001,
           0.1234
          ],
          [
           0,
           0.1089,
           0.07,
           0.07730000000000001,
           0.0905,
           0.09920000000000001,
           0.12450000000000001,
           0.20090000000000002,
           0.10900000000000001,
           0.1197
          ],
          [
           0,
           0.10899999999999999,
           0.069,
           0.0776,
           0.0851,
           0.09920000000000001,
           0.12009999999999998,
           0.201,
           0.11769999999999999,
           0.1213
          ],
          [
           0,
           0.1068,
           0.06470000000000001,
           0.07120000000000001,
           0.0859,
           0.1008,
           0.12710000000000002,
           0.2056,
           0.1113,
           0.1266
          ],
          [
           0,
           0.10440000000000002,
           0.06430000000000001,
           0.07,
           0.08560000000000001,
           0.10010000000000001,
           0.12800000000000003,
           0.20939999999999998,
           0.118,
           0.12020000000000002
          ]
         ]
        }
       ],
       "layout": {
        "font": {
         "color": "#FFF"
        },
        "height": 500,
        "paper_bgcolor": "#000",
        "plot_bgcolor": "#000",
        "title": "Choice after 0 Iterations at Glimpse 9",
        "titlefont": {
         "color": "#FFF"
        },
        "width": 500,
        "xaxis": {
         "dtick": 1,
         "range": [
          0.5,
          9.5
         ],
         "tickcolor": "#FFF",
         "title": "Predicted Class"
        },
        "yaxis": {
         "dtick": 1,
         "range": [
          9.5,
          0.5
         ],
         "tickcolor": "#FFF",
         "title": "True Class"
        }
       }
      },
      "text/html": [
       "<div id=\"18b118c3-44cd-46f2-a92e-03203f40566e\" style=\"height: 500px; width: 500px;\" class=\"plotly-graph-div\"></div><script type=\"text/javascript\">require([\"plotly\"], function(Plotly) { window.PLOTLYENV=window.PLOTLYENV || {};window.PLOTLYENV.BASE_URL=\"https://plot.ly\";Plotly.newPlot(\"18b118c3-44cd-46f2-a92e-03203f40566e\", [{\"colorscale\": \"Jet\", \"z\": [[0.0, 0.0, 0.0, 0.0, 0.0, 0.0, 0.0, 0.0, 0.0, 0.0], [0.0, 0.09590000000000001, 0.08140000000000001, 0.07930000000000001, 0.0787, 0.10300000000000001, 0.12140000000000002, 0.21070000000000003, 0.0982, 0.13140000000000002], [0.0, 0.10060000000000002, 0.0673, 0.0819, 0.0844, 0.1032, 0.1244, 0.21190000000000003, 0.09910000000000001, 0.1272], [0.0, 0.10769999999999999, 0.0644, 0.0748, 0.0797, 0.09970000000000001, 0.12969999999999998, 0.20670000000000002, 0.11180000000000001, 0.1255], [0.0, 0.10470000000000002, 0.07120000000000001, 0.07660000000000002, 0.0888, 0.0996, 0.1234, 0.20050000000000004, 0.10790000000000002, 0.12730000000000002], [0.0, 0.10510000000000001, 0.06410000000000002, 0.07780000000000001, 0.0872, 0.0978, 0.124, 0.21180000000000004, 0.10880000000000001, 0.1234], [0.0, 0.1089, 0.07, 0.07730000000000001, 0.0905, 0.09920000000000001, 0.12450000000000001, 0.20090000000000002, 0.10900000000000001, 0.1197], [0.0, 0.10899999999999999, 0.069, 0.0776, 0.0851, 0.09920000000000001, 0.12009999999999998, 0.201, 0.11769999999999999, 0.1213], [0.0, 0.1068, 0.06470000000000001, 0.07120000000000001, 0.0859, 0.1008, 0.12710000000000002, 0.2056, 0.1113, 0.1266], [0.0, 0.10440000000000002, 0.06430000000000001, 0.07, 0.08560000000000001, 0.10010000000000001, 0.12800000000000003, 0.20939999999999998, 0.118, 0.12020000000000002]], \"type\": \"heatmap\"}], {\"xaxis\": {\"title\": \"Predicted Class\", \"dtick\": 1, \"range\": [0.5, 9.5], \"tickcolor\": \"#FFF\"}, \"plot_bgcolor\": \"#000\", \"titlefont\": {\"color\": \"#FFF\"}, \"paper_bgcolor\": \"#000\", \"height\": 500, \"yaxis\": {\"title\": \"True Class\", \"dtick\": 1, \"range\": [9.5, 0.5], \"tickcolor\": \"#FFF\"}, \"title\": \"Choice after 0 Iterations at Glimpse 9\", \"font\": {\"color\": \"#FFF\"}, \"width\": 500}, {\"showLink\": true, \"linkText\": \"Export to plot.ly\"})});</script>"
      ],
      "text/vnd.plotly.v1+html": [
       "<div id=\"18b118c3-44cd-46f2-a92e-03203f40566e\" style=\"height: 500px; width: 500px;\" class=\"plotly-graph-div\"></div><script type=\"text/javascript\">require([\"plotly\"], function(Plotly) { window.PLOTLYENV=window.PLOTLYENV || {};window.PLOTLYENV.BASE_URL=\"https://plot.ly\";Plotly.newPlot(\"18b118c3-44cd-46f2-a92e-03203f40566e\", [{\"colorscale\": \"Jet\", \"z\": [[0.0, 0.0, 0.0, 0.0, 0.0, 0.0, 0.0, 0.0, 0.0, 0.0], [0.0, 0.09590000000000001, 0.08140000000000001, 0.07930000000000001, 0.0787, 0.10300000000000001, 0.12140000000000002, 0.21070000000000003, 0.0982, 0.13140000000000002], [0.0, 0.10060000000000002, 0.0673, 0.0819, 0.0844, 0.1032, 0.1244, 0.21190000000000003, 0.09910000000000001, 0.1272], [0.0, 0.10769999999999999, 0.0644, 0.0748, 0.0797, 0.09970000000000001, 0.12969999999999998, 0.20670000000000002, 0.11180000000000001, 0.1255], [0.0, 0.10470000000000002, 0.07120000000000001, 0.07660000000000002, 0.0888, 0.0996, 0.1234, 0.20050000000000004, 0.10790000000000002, 0.12730000000000002], [0.0, 0.10510000000000001, 0.06410000000000002, 0.07780000000000001, 0.0872, 0.0978, 0.124, 0.21180000000000004, 0.10880000000000001, 0.1234], [0.0, 0.1089, 0.07, 0.07730000000000001, 0.0905, 0.09920000000000001, 0.12450000000000001, 0.20090000000000002, 0.10900000000000001, 0.1197], [0.0, 0.10899999999999999, 0.069, 0.0776, 0.0851, 0.09920000000000001, 0.12009999999999998, 0.201, 0.11769999999999999, 0.1213], [0.0, 0.1068, 0.06470000000000001, 0.07120000000000001, 0.0859, 0.1008, 0.12710000000000002, 0.2056, 0.1113, 0.1266], [0.0, 0.10440000000000002, 0.06430000000000001, 0.07, 0.08560000000000001, 0.10010000000000001, 0.12800000000000003, 0.20939999999999998, 0.118, 0.12020000000000002]], \"type\": \"heatmap\"}], {\"xaxis\": {\"title\": \"Predicted Class\", \"dtick\": 1, \"range\": [0.5, 9.5], \"tickcolor\": \"#FFF\"}, \"plot_bgcolor\": \"#000\", \"titlefont\": {\"color\": \"#FFF\"}, \"paper_bgcolor\": \"#000\", \"height\": 500, \"yaxis\": {\"title\": \"True Class\", \"dtick\": 1, \"range\": [9.5, 0.5], \"tickcolor\": \"#FFF\"}, \"title\": \"Choice after 0 Iterations at Glimpse 9\", \"font\": {\"color\": \"#FFF\"}, \"width\": 500}, {\"showLink\": true, \"linkText\": \"Export to plot.ly\"})});</script>"
      ]
     },
     "metadata": {},
     "output_type": "display_data"
    },
    {
     "data": {
      "application/vnd.plotly.v1+json": {
       "data": [
        {
         "colorscale": "Jet",
         "type": "heatmap",
         "z": [
          [
           0,
           0,
           0,
           0,
           0,
           0,
           0,
           0,
           0,
           0
          ],
          [
           0,
           0.11873755612982002,
           0.09018873953416973,
           0.07742014265593682,
           0.07804916425843936,
           0.11581772748145358,
           0.12492808546306448,
           0.17219701858138542,
           0.10177530025182333,
           0.12088626820736163
          ],
          [
           0,
           0.10339897303497922,
           0.078174020848103,
           0.07626638431912815,
           0.06772356438799967,
           0.12000232879380483,
           0.12910197097454434,
           0.18898181098515193,
           0.11111244382372054,
           0.12523850524388794
          ],
          [
           0,
           0.10308976630682257,
           0.07033298838440867,
           0.07175711362505588,
           0.07017679170018712,
           0.12152906777876438,
           0.129523754414162,
           0.19414605888997602,
           0.11214369952176431,
           0.1273007626761215
          ],
          [
           0,
           0.09575899037928959,
           0.07126437255781905,
           0.06802090908441275,
           0.06998738051792419,
           0.12187827947818242,
           0.1286694297386155,
           0.19616149520132825,
           0.12067541486773811,
           0.1275837302599226
          ],
          [
           0,
           0.09817666691886211,
           0.067285705430726,
           0.06660687121040762,
           0.068566487576113,
           0.11731154668762026,
           0.1362113351353474,
           0.2016537906392731,
           0.11534803351675946,
           0.12883956535485516
          ],
          [
           0,
           0.10069851256579838,
           0.0673218377704026,
           0.06591762699134587,
           0.06686977838081729,
           0.12037340378183152,
           0.13091181795134632,
           0.20394449024123057,
           0.11502657432422644,
           0.1289359601754208
          ],
          [
           0,
           0.09557665637031583,
           0.0704522468979838,
           0.06874878603503812,
           0.06617812778109242,
           0.12826521005594416,
           0.12757643838191418,
           0.20478293888414506,
           0.111623979090935,
           0.1267956190520731
          ],
          [
           0,
           0.09952600964045896,
           0.06927370742224162,
           0.06135496395497762,
           0.06668428733179682,
           0.12342320793096165,
           0.12714135306873448,
           0.20196316852717774,
           0.12222285353494718,
           0.12841045167276766
          ],
          [
           0,
           0.09473416830333418,
           0.06805278127943885,
           0.07031981831667819,
           0.06772315903403983,
           0.12037163570741452,
           0.12913467140174145,
           0.20058368299108525,
           0.12229608865055527,
           0.12678399721043687
          ]
         ]
        }
       ],
       "layout": {
        "font": {
         "color": "#FFF"
        },
        "height": 500,
        "paper_bgcolor": "#000",
        "plot_bgcolor": "#000",
        "title": "Confidence after 250 Iterations at Glimpse 0",
        "titlefont": {
         "color": "#FFF"
        },
        "width": 500,
        "xaxis": {
         "dtick": 1,
         "range": [
          0.5,
          9.5
         ],
         "tickcolor": "#FFF",
         "title": "Predicted Class"
        },
        "yaxis": {
         "dtick": 1,
         "range": [
          9.5,
          0.5
         ],
         "tickcolor": "#FFF",
         "title": "True Class"
        }
       }
      },
      "text/html": [
       "<div id=\"ad85d8ad-8d31-4041-9067-e7b4f1046dae\" style=\"height: 500px; width: 500px;\" class=\"plotly-graph-div\"></div><script type=\"text/javascript\">require([\"plotly\"], function(Plotly) { window.PLOTLYENV=window.PLOTLYENV || {};window.PLOTLYENV.BASE_URL=\"https://plot.ly\";Plotly.newPlot(\"ad85d8ad-8d31-4041-9067-e7b4f1046dae\", [{\"colorscale\": \"Jet\", \"z\": [[0.0, 0.0, 0.0, 0.0, 0.0, 0.0, 0.0, 0.0, 0.0, 0.0], [0.0, 0.11873755612982002, 0.09018873953416973, 0.07742014265593682, 0.07804916425843936, 0.11581772748145358, 0.12492808546306448, 0.17219701858138542, 0.10177530025182333, 0.12088626820736163], [0.0, 0.10339897303497922, 0.078174020848103, 0.07626638431912815, 0.06772356438799967, 0.12000232879380483, 0.12910197097454434, 0.18898181098515193, 0.11111244382372054, 0.12523850524388794], [0.0, 0.10308976630682257, 0.07033298838440867, 0.07175711362505588, 0.07017679170018712, 0.12152906777876438, 0.129523754414162, 0.19414605888997602, 0.11214369952176431, 0.1273007626761215], [0.0, 0.09575899037928959, 0.07126437255781905, 0.06802090908441275, 0.06998738051792419, 0.12187827947818242, 0.1286694297386155, 0.19616149520132825, 0.12067541486773811, 0.1275837302599226], [0.0, 0.09817666691886211, 0.067285705430726, 0.06660687121040762, 0.068566487576113, 0.11731154668762026, 0.1362113351353474, 0.2016537906392731, 0.11534803351675946, 0.12883956535485516], [0.0, 0.10069851256579838, 0.0673218377704026, 0.06591762699134587, 0.06686977838081729, 0.12037340378183152, 0.13091181795134632, 0.20394449024123057, 0.11502657432422644, 0.1289359601754208], [0.0, 0.09557665637031583, 0.0704522468979838, 0.06874878603503812, 0.06617812778109242, 0.12826521005594416, 0.12757643838191418, 0.20478293888414506, 0.111623979090935, 0.1267956190520731], [0.0, 0.09952600964045896, 0.06927370742224162, 0.06135496395497762, 0.06668428733179682, 0.12342320793096165, 0.12714135306873448, 0.20196316852717774, 0.12222285353494718, 0.12841045167276766], [0.0, 0.09473416830333418, 0.06805278127943885, 0.07031981831667819, 0.06772315903403983, 0.12037163570741452, 0.12913467140174145, 0.20058368299108525, 0.12229608865055527, 0.12678399721043687]], \"type\": \"heatmap\"}], {\"xaxis\": {\"title\": \"Predicted Class\", \"dtick\": 1, \"range\": [0.5, 9.5], \"tickcolor\": \"#FFF\"}, \"plot_bgcolor\": \"#000\", \"titlefont\": {\"color\": \"#FFF\"}, \"paper_bgcolor\": \"#000\", \"height\": 500, \"yaxis\": {\"title\": \"True Class\", \"dtick\": 1, \"range\": [9.5, 0.5], \"tickcolor\": \"#FFF\"}, \"title\": \"Confidence after 250 Iterations at Glimpse 0\", \"font\": {\"color\": \"#FFF\"}, \"width\": 500}, {\"showLink\": true, \"linkText\": \"Export to plot.ly\"})});</script>"
      ],
      "text/vnd.plotly.v1+html": [
       "<div id=\"ad85d8ad-8d31-4041-9067-e7b4f1046dae\" style=\"height: 500px; width: 500px;\" class=\"plotly-graph-div\"></div><script type=\"text/javascript\">require([\"plotly\"], function(Plotly) { window.PLOTLYENV=window.PLOTLYENV || {};window.PLOTLYENV.BASE_URL=\"https://plot.ly\";Plotly.newPlot(\"ad85d8ad-8d31-4041-9067-e7b4f1046dae\", [{\"colorscale\": \"Jet\", \"z\": [[0.0, 0.0, 0.0, 0.0, 0.0, 0.0, 0.0, 0.0, 0.0, 0.0], [0.0, 0.11873755612982002, 0.09018873953416973, 0.07742014265593682, 0.07804916425843936, 0.11581772748145358, 0.12492808546306448, 0.17219701858138542, 0.10177530025182333, 0.12088626820736163], [0.0, 0.10339897303497922, 0.078174020848103, 0.07626638431912815, 0.06772356438799967, 0.12000232879380483, 0.12910197097454434, 0.18898181098515193, 0.11111244382372054, 0.12523850524388794], [0.0, 0.10308976630682257, 0.07033298838440867, 0.07175711362505588, 0.07017679170018712, 0.12152906777876438, 0.129523754414162, 0.19414605888997602, 0.11214369952176431, 0.1273007626761215], [0.0, 0.09575899037928959, 0.07126437255781905, 0.06802090908441275, 0.06998738051792419, 0.12187827947818242, 0.1286694297386155, 0.19616149520132825, 0.12067541486773811, 0.1275837302599226], [0.0, 0.09817666691886211, 0.067285705430726, 0.06660687121040762, 0.068566487576113, 0.11731154668762026, 0.1362113351353474, 0.2016537906392731, 0.11534803351675946, 0.12883956535485516], [0.0, 0.10069851256579838, 0.0673218377704026, 0.06591762699134587, 0.06686977838081729, 0.12037340378183152, 0.13091181795134632, 0.20394449024123057, 0.11502657432422644, 0.1289359601754208], [0.0, 0.09557665637031583, 0.0704522468979838, 0.06874878603503812, 0.06617812778109242, 0.12826521005594416, 0.12757643838191418, 0.20478293888414506, 0.111623979090935, 0.1267956190520731], [0.0, 0.09952600964045896, 0.06927370742224162, 0.06135496395497762, 0.06668428733179682, 0.12342320793096165, 0.12714135306873448, 0.20196316852717774, 0.12222285353494718, 0.12841045167276766], [0.0, 0.09473416830333418, 0.06805278127943885, 0.07031981831667819, 0.06772315903403983, 0.12037163570741452, 0.12913467140174145, 0.20058368299108525, 0.12229608865055527, 0.12678399721043687]], \"type\": \"heatmap\"}], {\"xaxis\": {\"title\": \"Predicted Class\", \"dtick\": 1, \"range\": [0.5, 9.5], \"tickcolor\": \"#FFF\"}, \"plot_bgcolor\": \"#000\", \"titlefont\": {\"color\": \"#FFF\"}, \"paper_bgcolor\": \"#000\", \"height\": 500, \"yaxis\": {\"title\": \"True Class\", \"dtick\": 1, \"range\": [9.5, 0.5], \"tickcolor\": \"#FFF\"}, \"title\": \"Confidence after 250 Iterations at Glimpse 0\", \"font\": {\"color\": \"#FFF\"}, \"width\": 500}, {\"showLink\": true, \"linkText\": \"Export to plot.ly\"})});</script>"
      ]
     },
     "metadata": {},
     "output_type": "display_data"
    },
    {
     "data": {
      "application/vnd.plotly.v1+json": {
       "data": [
        {
         "colorscale": "Jet",
         "type": "heatmap",
         "z": [
          [
           0,
           0,
           0,
           0,
           0,
           0,
           0,
           0,
           0,
           0
          ],
          [
           0,
           0.2122,
           0.08209999999999999,
           0.05500000000000001,
           0.05670000000000001,
           0.10129999999999999,
           0.13720000000000002,
           0.163,
           0.08299999999999999,
           0.1095
          ],
          [
           0,
           0.1222,
           0.0728,
           0.07100000000000001,
           0.0624,
           0.11329999999999998,
           0.1331,
           0.1918,
           0.10529999999999999,
           0.12810000000000002
          ],
          [
           0,
           0.10750000000000001,
           0.06670000000000001,
           0.06960000000000001,
           0.0688,
           0.11859999999999997,
           0.1302,
           0.1974,
           0.1115,
           0.12969999999999998
          ],
          [
           0,
           0.09670000000000002,
           0.07110000000000001,
           0.067,
           0.06970000000000001,
           0.1204,
           0.12940000000000002,
           0.1971,
           0.12040000000000002,
           0.12819999999999995
          ],
          [
           0,
           0.09920000000000002,
           0.0653,
           0.06659999999999999,
           0.069,
           0.11700000000000003,
           0.13499999999999998,
           0.203,
           0.11510000000000001,
           0.12979999999999997
          ],
          [
           0,
           0.1005,
           0.06680000000000001,
           0.0651,
           0.06760000000000001,
           0.12009999999999998,
           0.133,
           0.20250000000000004,
           0.11480000000000001,
           0.1296
          ],
          [
           0,
           0.09530000000000002,
           0.0698,
           0.06820000000000001,
           0.06670000000000001,
           0.1288,
           0.1272,
           0.20549999999999996,
           0.1121,
           0.12639999999999998
          ],
          [
           0,
           0.09840000000000002,
           0.07020000000000001,
           0.0607,
           0.0664,
           0.12379999999999998,
           0.1267,
           0.2021,
           0.1234,
           0.1283
          ],
          [
           0,
           0.09470000000000002,
           0.06820000000000001,
           0.0703,
           0.0675,
           0.1202,
           0.129,
           0.2011,
           0.12250000000000001,
           0.1265
          ]
         ]
        }
       ],
       "layout": {
        "font": {
         "color": "#FFF"
        },
        "height": 500,
        "paper_bgcolor": "#000",
        "plot_bgcolor": "#000",
        "title": "Choice after 250 Iterations at Glimpse 0",
        "titlefont": {
         "color": "#FFF"
        },
        "width": 500,
        "xaxis": {
         "dtick": 1,
         "range": [
          0.5,
          9.5
         ],
         "tickcolor": "#FFF",
         "title": "Predicted Class"
        },
        "yaxis": {
         "dtick": 1,
         "range": [
          9.5,
          0.5
         ],
         "tickcolor": "#FFF",
         "title": "True Class"
        }
       }
      },
      "text/html": [
       "<div id=\"764dac9b-1f86-4625-80ca-23e9d7c95f1a\" style=\"height: 500px; width: 500px;\" class=\"plotly-graph-div\"></div><script type=\"text/javascript\">require([\"plotly\"], function(Plotly) { window.PLOTLYENV=window.PLOTLYENV || {};window.PLOTLYENV.BASE_URL=\"https://plot.ly\";Plotly.newPlot(\"764dac9b-1f86-4625-80ca-23e9d7c95f1a\", [{\"colorscale\": \"Jet\", \"z\": [[0.0, 0.0, 0.0, 0.0, 0.0, 0.0, 0.0, 0.0, 0.0, 0.0], [0.0, 0.2122, 0.08209999999999999, 0.05500000000000001, 0.05670000000000001, 0.10129999999999999, 0.13720000000000002, 0.163, 0.08299999999999999, 0.1095], [0.0, 0.1222, 0.0728, 0.07100000000000001, 0.0624, 0.11329999999999998, 0.1331, 0.1918, 0.10529999999999999, 0.12810000000000002], [0.0, 0.10750000000000001, 0.06670000000000001, 0.06960000000000001, 0.0688, 0.11859999999999997, 0.1302, 0.1974, 0.1115, 0.12969999999999998], [0.0, 0.09670000000000002, 0.07110000000000001, 0.067, 0.06970000000000001, 0.1204, 0.12940000000000002, 0.1971, 0.12040000000000002, 0.12819999999999995], [0.0, 0.09920000000000002, 0.0653, 0.06659999999999999, 0.069, 0.11700000000000003, 0.13499999999999998, 0.203, 0.11510000000000001, 0.12979999999999997], [0.0, 0.1005, 0.06680000000000001, 0.0651, 0.06760000000000001, 0.12009999999999998, 0.133, 0.20250000000000004, 0.11480000000000001, 0.1296], [0.0, 0.09530000000000002, 0.0698, 0.06820000000000001, 0.06670000000000001, 0.1288, 0.1272, 0.20549999999999996, 0.1121, 0.12639999999999998], [0.0, 0.09840000000000002, 0.07020000000000001, 0.0607, 0.0664, 0.12379999999999998, 0.1267, 0.2021, 0.1234, 0.1283], [0.0, 0.09470000000000002, 0.06820000000000001, 0.0703, 0.0675, 0.1202, 0.129, 0.2011, 0.12250000000000001, 0.1265]], \"type\": \"heatmap\"}], {\"xaxis\": {\"title\": \"Predicted Class\", \"dtick\": 1, \"range\": [0.5, 9.5], \"tickcolor\": \"#FFF\"}, \"plot_bgcolor\": \"#000\", \"titlefont\": {\"color\": \"#FFF\"}, \"paper_bgcolor\": \"#000\", \"height\": 500, \"yaxis\": {\"title\": \"True Class\", \"dtick\": 1, \"range\": [9.5, 0.5], \"tickcolor\": \"#FFF\"}, \"title\": \"Choice after 250 Iterations at Glimpse 0\", \"font\": {\"color\": \"#FFF\"}, \"width\": 500}, {\"showLink\": true, \"linkText\": \"Export to plot.ly\"})});</script>"
      ],
      "text/vnd.plotly.v1+html": [
       "<div id=\"764dac9b-1f86-4625-80ca-23e9d7c95f1a\" style=\"height: 500px; width: 500px;\" class=\"plotly-graph-div\"></div><script type=\"text/javascript\">require([\"plotly\"], function(Plotly) { window.PLOTLYENV=window.PLOTLYENV || {};window.PLOTLYENV.BASE_URL=\"https://plot.ly\";Plotly.newPlot(\"764dac9b-1f86-4625-80ca-23e9d7c95f1a\", [{\"colorscale\": \"Jet\", \"z\": [[0.0, 0.0, 0.0, 0.0, 0.0, 0.0, 0.0, 0.0, 0.0, 0.0], [0.0, 0.2122, 0.08209999999999999, 0.05500000000000001, 0.05670000000000001, 0.10129999999999999, 0.13720000000000002, 0.163, 0.08299999999999999, 0.1095], [0.0, 0.1222, 0.0728, 0.07100000000000001, 0.0624, 0.11329999999999998, 0.1331, 0.1918, 0.10529999999999999, 0.12810000000000002], [0.0, 0.10750000000000001, 0.06670000000000001, 0.06960000000000001, 0.0688, 0.11859999999999997, 0.1302, 0.1974, 0.1115, 0.12969999999999998], [0.0, 0.09670000000000002, 0.07110000000000001, 0.067, 0.06970000000000001, 0.1204, 0.12940000000000002, 0.1971, 0.12040000000000002, 0.12819999999999995], [0.0, 0.09920000000000002, 0.0653, 0.06659999999999999, 0.069, 0.11700000000000003, 0.13499999999999998, 0.203, 0.11510000000000001, 0.12979999999999997], [0.0, 0.1005, 0.06680000000000001, 0.0651, 0.06760000000000001, 0.12009999999999998, 0.133, 0.20250000000000004, 0.11480000000000001, 0.1296], [0.0, 0.09530000000000002, 0.0698, 0.06820000000000001, 0.06670000000000001, 0.1288, 0.1272, 0.20549999999999996, 0.1121, 0.12639999999999998], [0.0, 0.09840000000000002, 0.07020000000000001, 0.0607, 0.0664, 0.12379999999999998, 0.1267, 0.2021, 0.1234, 0.1283], [0.0, 0.09470000000000002, 0.06820000000000001, 0.0703, 0.0675, 0.1202, 0.129, 0.2011, 0.12250000000000001, 0.1265]], \"type\": \"heatmap\"}], {\"xaxis\": {\"title\": \"Predicted Class\", \"dtick\": 1, \"range\": [0.5, 9.5], \"tickcolor\": \"#FFF\"}, \"plot_bgcolor\": \"#000\", \"titlefont\": {\"color\": \"#FFF\"}, \"paper_bgcolor\": \"#000\", \"height\": 500, \"yaxis\": {\"title\": \"True Class\", \"dtick\": 1, \"range\": [9.5, 0.5], \"tickcolor\": \"#FFF\"}, \"title\": \"Choice after 250 Iterations at Glimpse 0\", \"font\": {\"color\": \"#FFF\"}, \"width\": 500}, {\"showLink\": true, \"linkText\": \"Export to plot.ly\"})});</script>"
      ]
     },
     "metadata": {},
     "output_type": "display_data"
    },
    {
     "data": {
      "application/vnd.plotly.v1+json": {
       "data": [
        {
         "colorscale": "Jet",
         "type": "heatmap",
         "z": [
          [
           0,
           0,
           0,
           0,
           0,
           0,
           0,
           0,
           0,
           0
          ],
          [
           0,
           0.12103161960263771,
           0.08245653851950716,
           0.07442135746236522,
           0.060437100504414074,
           0.10175935236995379,
           0.13528848315041897,
           0.19539109239104654,
           0.09751508511764981,
           0.1316993729968618
          ],
          [
           0,
           0.10760606215242638,
           0.0688782018540465,
           0.07657179816017216,
           0.06277980382353443,
           0.11113045755793224,
           0.13527522137949205,
           0.2055375894387223,
           0.10073612723457714,
           0.13148474017123604
          ],
          [
           0,
           0.10442062539656485,
           0.07155509082514407,
           0.07467366568914514,
           0.06582881789878633,
           0.10790135652757464,
           0.13699036354113345,
           0.20324321127721384,
           0.10635474137823483,
           0.1290321298200564
          ],
          [
           0,
           0.10307926939651471,
           0.06413513611805936,
           0.07608931595530781,
           0.06833870905970958,
           0.11616096333438977,
           0.12664745261411178,
           0.20989211610557162,
           0.10880134198941498,
           0.12685569779592107
          ],
          [
           0,
           0.10484639083228839,
           0.06537771939538105,
           0.07442909938038958,
           0.06623211167874396,
           0.11655370922217678,
           0.1311079336125213,
           0.2071907718081456,
           0.10639496344054536,
           0.12786730260410487
          ],
          [
           0,
           0.10648716006549144,
           0.06451419994192323,
           0.06922451577771088,
           0.06800511672086836,
           0.11200761146372892,
           0.12790671507897017,
           0.21762850161438174,
           0.10518599408956449,
           0.12904018763197206
          ],
          [
           0,
           0.10347370371700002,
           0.06384646891453985,
           0.06957565012722931,
           0.06778452844470564,
           0.11601377988278952,
           0.1271880861796334,
           0.21812599159219906,
           0.10435118091476378,
           0.1296406121595847
          ],
          [
           0,
           0.10566610602246518,
           0.06598639162129627,
           0.06684867375019005,
           0.06955265524751905,
           0.11551456393090039,
           0.12920769997828385,
           0.21047643683761366,
           0.11065289168912114,
           0.12609458247560953
          ],
          [
           0,
           0.10534262062355748,
           0.06392666822487764,
           0.06928927219170042,
           0.06935977985140386,
           0.11680049476017036,
           0.12612747260568058,
           0.21017381062452273,
           0.11096282128512344,
           0.1280170614122912
          ]
         ]
        }
       ],
       "layout": {
        "font": {
         "color": "#FFF"
        },
        "height": 500,
        "paper_bgcolor": "#000",
        "plot_bgcolor": "#000",
        "title": "Confidence after 250 Iterations at Glimpse 3",
        "titlefont": {
         "color": "#FFF"
        },
        "width": 500,
        "xaxis": {
         "dtick": 1,
         "range": [
          0.5,
          9.5
         ],
         "tickcolor": "#FFF",
         "title": "Predicted Class"
        },
        "yaxis": {
         "dtick": 1,
         "range": [
          9.5,
          0.5
         ],
         "tickcolor": "#FFF",
         "title": "True Class"
        }
       }
      },
      "text/html": [
       "<div id=\"7c5a0ef3-945e-4762-bbc8-5de56569ab7a\" style=\"height: 500px; width: 500px;\" class=\"plotly-graph-div\"></div><script type=\"text/javascript\">require([\"plotly\"], function(Plotly) { window.PLOTLYENV=window.PLOTLYENV || {};window.PLOTLYENV.BASE_URL=\"https://plot.ly\";Plotly.newPlot(\"7c5a0ef3-945e-4762-bbc8-5de56569ab7a\", [{\"colorscale\": \"Jet\", \"z\": [[0.0, 0.0, 0.0, 0.0, 0.0, 0.0, 0.0, 0.0, 0.0, 0.0], [0.0, 0.12103161960263771, 0.08245653851950716, 0.07442135746236522, 0.060437100504414074, 0.10175935236995379, 0.13528848315041897, 0.19539109239104654, 0.09751508511764981, 0.1316993729968618], [0.0, 0.10760606215242638, 0.0688782018540465, 0.07657179816017216, 0.06277980382353443, 0.11113045755793224, 0.13527522137949205, 0.2055375894387223, 0.10073612723457714, 0.13148474017123604], [0.0, 0.10442062539656485, 0.07155509082514407, 0.07467366568914514, 0.06582881789878633, 0.10790135652757464, 0.13699036354113345, 0.20324321127721384, 0.10635474137823483, 0.1290321298200564], [0.0, 0.10307926939651471, 0.06413513611805936, 0.07608931595530781, 0.06833870905970958, 0.11616096333438977, 0.12664745261411178, 0.20989211610557162, 0.10880134198941498, 0.12685569779592107], [0.0, 0.10484639083228839, 0.06537771939538105, 0.07442909938038958, 0.06623211167874396, 0.11655370922217678, 0.1311079336125213, 0.2071907718081456, 0.10639496344054536, 0.12786730260410487], [0.0, 0.10648716006549144, 0.06451419994192323, 0.06922451577771088, 0.06800511672086836, 0.11200761146372892, 0.12790671507897017, 0.21762850161438174, 0.10518599408956449, 0.12904018763197206], [0.0, 0.10347370371700002, 0.06384646891453985, 0.06957565012722931, 0.06778452844470564, 0.11601377988278952, 0.1271880861796334, 0.21812599159219906, 0.10435118091476378, 0.1296406121595847], [0.0, 0.10566610602246518, 0.06598639162129627, 0.06684867375019005, 0.06955265524751905, 0.11551456393090039, 0.12920769997828385, 0.21047643683761366, 0.11065289168912114, 0.12609458247560953], [0.0, 0.10534262062355748, 0.06392666822487764, 0.06928927219170042, 0.06935977985140386, 0.11680049476017036, 0.12612747260568058, 0.21017381062452273, 0.11096282128512344, 0.1280170614122912]], \"type\": \"heatmap\"}], {\"xaxis\": {\"title\": \"Predicted Class\", \"dtick\": 1, \"range\": [0.5, 9.5], \"tickcolor\": \"#FFF\"}, \"plot_bgcolor\": \"#000\", \"titlefont\": {\"color\": \"#FFF\"}, \"paper_bgcolor\": \"#000\", \"height\": 500, \"yaxis\": {\"title\": \"True Class\", \"dtick\": 1, \"range\": [9.5, 0.5], \"tickcolor\": \"#FFF\"}, \"title\": \"Confidence after 250 Iterations at Glimpse 3\", \"font\": {\"color\": \"#FFF\"}, \"width\": 500}, {\"showLink\": true, \"linkText\": \"Export to plot.ly\"})});</script>"
      ],
      "text/vnd.plotly.v1+html": [
       "<div id=\"7c5a0ef3-945e-4762-bbc8-5de56569ab7a\" style=\"height: 500px; width: 500px;\" class=\"plotly-graph-div\"></div><script type=\"text/javascript\">require([\"plotly\"], function(Plotly) { window.PLOTLYENV=window.PLOTLYENV || {};window.PLOTLYENV.BASE_URL=\"https://plot.ly\";Plotly.newPlot(\"7c5a0ef3-945e-4762-bbc8-5de56569ab7a\", [{\"colorscale\": \"Jet\", \"z\": [[0.0, 0.0, 0.0, 0.0, 0.0, 0.0, 0.0, 0.0, 0.0, 0.0], [0.0, 0.12103161960263771, 0.08245653851950716, 0.07442135746236522, 0.060437100504414074, 0.10175935236995379, 0.13528848315041897, 0.19539109239104654, 0.09751508511764981, 0.1316993729968618], [0.0, 0.10760606215242638, 0.0688782018540465, 0.07657179816017216, 0.06277980382353443, 0.11113045755793224, 0.13527522137949205, 0.2055375894387223, 0.10073612723457714, 0.13148474017123604], [0.0, 0.10442062539656485, 0.07155509082514407, 0.07467366568914514, 0.06582881789878633, 0.10790135652757464, 0.13699036354113345, 0.20324321127721384, 0.10635474137823483, 0.1290321298200564], [0.0, 0.10307926939651471, 0.06413513611805936, 0.07608931595530781, 0.06833870905970958, 0.11616096333438977, 0.12664745261411178, 0.20989211610557162, 0.10880134198941498, 0.12685569779592107], [0.0, 0.10484639083228839, 0.06537771939538105, 0.07442909938038958, 0.06623211167874396, 0.11655370922217678, 0.1311079336125213, 0.2071907718081456, 0.10639496344054536, 0.12786730260410487], [0.0, 0.10648716006549144, 0.06451419994192323, 0.06922451577771088, 0.06800511672086836, 0.11200761146372892, 0.12790671507897017, 0.21762850161438174, 0.10518599408956449, 0.12904018763197206], [0.0, 0.10347370371700002, 0.06384646891453985, 0.06957565012722931, 0.06778452844470564, 0.11601377988278952, 0.1271880861796334, 0.21812599159219906, 0.10435118091476378, 0.1296406121595847], [0.0, 0.10566610602246518, 0.06598639162129627, 0.06684867375019005, 0.06955265524751905, 0.11551456393090039, 0.12920769997828385, 0.21047643683761366, 0.11065289168912114, 0.12609458247560953], [0.0, 0.10534262062355748, 0.06392666822487764, 0.06928927219170042, 0.06935977985140386, 0.11680049476017036, 0.12612747260568058, 0.21017381062452273, 0.11096282128512344, 0.1280170614122912]], \"type\": \"heatmap\"}], {\"xaxis\": {\"title\": \"Predicted Class\", \"dtick\": 1, \"range\": [0.5, 9.5], \"tickcolor\": \"#FFF\"}, \"plot_bgcolor\": \"#000\", \"titlefont\": {\"color\": \"#FFF\"}, \"paper_bgcolor\": \"#000\", \"height\": 500, \"yaxis\": {\"title\": \"True Class\", \"dtick\": 1, \"range\": [9.5, 0.5], \"tickcolor\": \"#FFF\"}, \"title\": \"Confidence after 250 Iterations at Glimpse 3\", \"font\": {\"color\": \"#FFF\"}, \"width\": 500}, {\"showLink\": true, \"linkText\": \"Export to plot.ly\"})});</script>"
      ]
     },
     "metadata": {},
     "output_type": "display_data"
    },
    {
     "data": {
      "application/vnd.plotly.v1+json": {
       "data": [
        {
         "colorscale": "Jet",
         "type": "heatmap",
         "z": [
          [
           0,
           0,
           0,
           0,
           0,
           0,
           0,
           0,
           0,
           0
          ],
          [
           0,
           0.13090000000000002,
           0.08320000000000001,
           0.0706,
           0.05550000000000001,
           0.09970000000000001,
           0.14090000000000003,
           0.1941,
           0.0965,
           0.1286
          ],
          [
           0,
           0.1078,
           0.069,
           0.0759,
           0.0622,
           0.1112,
           0.13730000000000003,
           0.20539999999999997,
           0.0998,
           0.13140000000000002
          ],
          [
           0,
           0.1032,
           0.0724,
           0.0752,
           0.0659,
           0.10740000000000001,
           0.13699999999999998,
           0.20389999999999997,
           0.10550000000000001,
           0.1295
          ],
          [
           0,
           0.10350000000000001,
           0.0644,
           0.0752,
           0.06860000000000001,
           0.11639999999999999,
           0.12669999999999998,
           0.21000000000000002,
           0.10850000000000001,
           0.12669999999999998
          ],
          [
           0,
           0.10419999999999999,
           0.0653,
           0.0745,
           0.0665,
           0.1166,
           0.1302,
           0.2081,
           0.10650000000000001,
           0.12809999999999996
          ],
          [
           0,
           0.10610000000000001,
           0.0651,
           0.068,
           0.06860000000000001,
           0.11240000000000001,
           0.1286,
           0.2183,
           0.10470000000000002,
           0.1282
          ],
          [
           0,
           0.1032,
           0.0635,
           0.0688,
           0.0683,
           0.11560000000000001,
           0.1278,
           0.21880000000000002,
           0.10370000000000001,
           0.13030000000000003
          ],
          [
           0,
           0.1061,
           0.06620000000000001,
           0.067,
           0.0688,
           0.11560000000000001,
           0.12900000000000003,
           0.211,
           0.1101,
           0.1262
          ],
          [
           0,
           0.10529999999999999,
           0.0637,
           0.06870000000000001,
           0.0688,
           0.11670000000000003,
           0.1272,
           0.2098,
           0.11120000000000001,
           0.1286
          ]
         ]
        }
       ],
       "layout": {
        "font": {
         "color": "#FFF"
        },
        "height": 500,
        "paper_bgcolor": "#000",
        "plot_bgcolor": "#000",
        "title": "Choice after 250 Iterations at Glimpse 3",
        "titlefont": {
         "color": "#FFF"
        },
        "width": 500,
        "xaxis": {
         "dtick": 1,
         "range": [
          0.5,
          9.5
         ],
         "tickcolor": "#FFF",
         "title": "Predicted Class"
        },
        "yaxis": {
         "dtick": 1,
         "range": [
          9.5,
          0.5
         ],
         "tickcolor": "#FFF",
         "title": "True Class"
        }
       }
      },
      "text/html": [
       "<div id=\"f1836863-d812-4851-bd23-b0d624146840\" style=\"height: 500px; width: 500px;\" class=\"plotly-graph-div\"></div><script type=\"text/javascript\">require([\"plotly\"], function(Plotly) { window.PLOTLYENV=window.PLOTLYENV || {};window.PLOTLYENV.BASE_URL=\"https://plot.ly\";Plotly.newPlot(\"f1836863-d812-4851-bd23-b0d624146840\", [{\"colorscale\": \"Jet\", \"z\": [[0.0, 0.0, 0.0, 0.0, 0.0, 0.0, 0.0, 0.0, 0.0, 0.0], [0.0, 0.13090000000000002, 0.08320000000000001, 0.0706, 0.05550000000000001, 0.09970000000000001, 0.14090000000000003, 0.1941, 0.0965, 0.1286], [0.0, 0.1078, 0.069, 0.0759, 0.0622, 0.1112, 0.13730000000000003, 0.20539999999999997, 0.0998, 0.13140000000000002], [0.0, 0.1032, 0.0724, 0.0752, 0.0659, 0.10740000000000001, 0.13699999999999998, 0.20389999999999997, 0.10550000000000001, 0.1295], [0.0, 0.10350000000000001, 0.0644, 0.0752, 0.06860000000000001, 0.11639999999999999, 0.12669999999999998, 0.21000000000000002, 0.10850000000000001, 0.12669999999999998], [0.0, 0.10419999999999999, 0.0653, 0.0745, 0.0665, 0.1166, 0.1302, 0.2081, 0.10650000000000001, 0.12809999999999996], [0.0, 0.10610000000000001, 0.0651, 0.068, 0.06860000000000001, 0.11240000000000001, 0.1286, 0.2183, 0.10470000000000002, 0.1282], [0.0, 0.1032, 0.0635, 0.0688, 0.0683, 0.11560000000000001, 0.1278, 0.21880000000000002, 0.10370000000000001, 0.13030000000000003], [0.0, 0.1061, 0.06620000000000001, 0.067, 0.0688, 0.11560000000000001, 0.12900000000000003, 0.211, 0.1101, 0.1262], [0.0, 0.10529999999999999, 0.0637, 0.06870000000000001, 0.0688, 0.11670000000000003, 0.1272, 0.2098, 0.11120000000000001, 0.1286]], \"type\": \"heatmap\"}], {\"xaxis\": {\"title\": \"Predicted Class\", \"dtick\": 1, \"range\": [0.5, 9.5], \"tickcolor\": \"#FFF\"}, \"plot_bgcolor\": \"#000\", \"titlefont\": {\"color\": \"#FFF\"}, \"paper_bgcolor\": \"#000\", \"height\": 500, \"yaxis\": {\"title\": \"True Class\", \"dtick\": 1, \"range\": [9.5, 0.5], \"tickcolor\": \"#FFF\"}, \"title\": \"Choice after 250 Iterations at Glimpse 3\", \"font\": {\"color\": \"#FFF\"}, \"width\": 500}, {\"showLink\": true, \"linkText\": \"Export to plot.ly\"})});</script>"
      ],
      "text/vnd.plotly.v1+html": [
       "<div id=\"f1836863-d812-4851-bd23-b0d624146840\" style=\"height: 500px; width: 500px;\" class=\"plotly-graph-div\"></div><script type=\"text/javascript\">require([\"plotly\"], function(Plotly) { window.PLOTLYENV=window.PLOTLYENV || {};window.PLOTLYENV.BASE_URL=\"https://plot.ly\";Plotly.newPlot(\"f1836863-d812-4851-bd23-b0d624146840\", [{\"colorscale\": \"Jet\", \"z\": [[0.0, 0.0, 0.0, 0.0, 0.0, 0.0, 0.0, 0.0, 0.0, 0.0], [0.0, 0.13090000000000002, 0.08320000000000001, 0.0706, 0.05550000000000001, 0.09970000000000001, 0.14090000000000003, 0.1941, 0.0965, 0.1286], [0.0, 0.1078, 0.069, 0.0759, 0.0622, 0.1112, 0.13730000000000003, 0.20539999999999997, 0.0998, 0.13140000000000002], [0.0, 0.1032, 0.0724, 0.0752, 0.0659, 0.10740000000000001, 0.13699999999999998, 0.20389999999999997, 0.10550000000000001, 0.1295], [0.0, 0.10350000000000001, 0.0644, 0.0752, 0.06860000000000001, 0.11639999999999999, 0.12669999999999998, 0.21000000000000002, 0.10850000000000001, 0.12669999999999998], [0.0, 0.10419999999999999, 0.0653, 0.0745, 0.0665, 0.1166, 0.1302, 0.2081, 0.10650000000000001, 0.12809999999999996], [0.0, 0.10610000000000001, 0.0651, 0.068, 0.06860000000000001, 0.11240000000000001, 0.1286, 0.2183, 0.10470000000000002, 0.1282], [0.0, 0.1032, 0.0635, 0.0688, 0.0683, 0.11560000000000001, 0.1278, 0.21880000000000002, 0.10370000000000001, 0.13030000000000003], [0.0, 0.1061, 0.06620000000000001, 0.067, 0.0688, 0.11560000000000001, 0.12900000000000003, 0.211, 0.1101, 0.1262], [0.0, 0.10529999999999999, 0.0637, 0.06870000000000001, 0.0688, 0.11670000000000003, 0.1272, 0.2098, 0.11120000000000001, 0.1286]], \"type\": \"heatmap\"}], {\"xaxis\": {\"title\": \"Predicted Class\", \"dtick\": 1, \"range\": [0.5, 9.5], \"tickcolor\": \"#FFF\"}, \"plot_bgcolor\": \"#000\", \"titlefont\": {\"color\": \"#FFF\"}, \"paper_bgcolor\": \"#000\", \"height\": 500, \"yaxis\": {\"title\": \"True Class\", \"dtick\": 1, \"range\": [9.5, 0.5], \"tickcolor\": \"#FFF\"}, \"title\": \"Choice after 250 Iterations at Glimpse 3\", \"font\": {\"color\": \"#FFF\"}, \"width\": 500}, {\"showLink\": true, \"linkText\": \"Export to plot.ly\"})});</script>"
      ]
     },
     "metadata": {},
     "output_type": "display_data"
    },
    {
     "data": {
      "application/vnd.plotly.v1+json": {
       "data": [
        {
         "colorscale": "Jet",
         "type": "heatmap",
         "z": [
          [
           0,
           0,
           0,
           0,
           0,
           0,
           0,
           0,
           0,
           0
          ],
          [
           0,
           0.13839426024355447,
           0.09240554744251471,
           0.0836596529066725,
           0.0740131210813059,
           0.09601031460466017,
           0.12262277036249403,
           0.19031679713955277,
           0.08745535820105363,
           0.11512218009847201
          ],
          [
           0,
           0.12784915114413412,
           0.0757030499347253,
           0.08419702551022364,
           0.08100260552878195,
           0.10434128242015912,
           0.11953868881924197,
           0.19354815273080636,
           0.09419629736164561,
           0.11962374986489066
          ],
          [
           0,
           0.12172060355595712,
           0.07614485053103408,
           0.07293355669028602,
           0.07999309809475581,
           0.10017981825369668,
           0.12405857154904094,
           0.20129216699590619,
           0.1004862089929213,
           0.12319112757618007
          ],
          [
           0,
           0.12371432361094263,
           0.07207746049484864,
           0.07260289662265454,
           0.0835882871707723,
           0.10398972229977559,
           0.11872611429637177,
           0.19925946217105325,
           0.10637385265103598,
           0.11966788267198228
          ],
          [
           0,
           0.12070194081980871,
           0.07516391031442941,
           0.07439531049276081,
           0.07807621965669052,
           0.10756397984010982,
           0.1206753894302296,
           0.20488775779640056,
           0.09786447391307827,
           0.12067102034148736
          ],
          [
           0,
           0.12425970916778269,
           0.0736243271194322,
           0.07121801189080038,
           0.08231923902608637,
           0.10302588328652233,
           0.11645394737938475,
           0.20478024929613334,
           0.10441968986885605,
           0.1198989453571248
          ],
          [
           0,
           0.12340239012105225,
           0.07379454755033434,
           0.06728627815917265,
           0.08336931707026397,
           0.1056931710485209,
           0.12202637602060087,
           0.1989145110644861,
           0.10246226298499886,
           0.12305114786420623
          ],
          [
           0,
           0.1259481114135855,
           0.07116295916665918,
           0.06770977773420443,
           0.08245293120246443,
           0.101475069995616,
           0.12099446012506039,
           0.200487221098615,
           0.10933684521133744,
           0.12043262605441236
          ],
          [
           0,
           0.12117394119017386,
           0.07055002248679496,
           0.07011900938137684,
           0.08389928246184844,
           0.10749811831097289,
           0.11817878167840153,
           0.19900132121838163,
           0.10707633584359702,
           0.12250318882190372
          ]
         ]
        }
       ],
       "layout": {
        "font": {
         "color": "#FFF"
        },
        "height": 500,
        "paper_bgcolor": "#000",
        "plot_bgcolor": "#000",
        "title": "Confidence after 250 Iterations at Glimpse 9",
        "titlefont": {
         "color": "#FFF"
        },
        "width": 500,
        "xaxis": {
         "dtick": 1,
         "range": [
          0.5,
          9.5
         ],
         "tickcolor": "#FFF",
         "title": "Predicted Class"
        },
        "yaxis": {
         "dtick": 1,
         "range": [
          9.5,
          0.5
         ],
         "tickcolor": "#FFF",
         "title": "True Class"
        }
       }
      },
      "text/html": [
       "<div id=\"3460f4ef-f451-49d3-828f-832f391578d4\" style=\"height: 500px; width: 500px;\" class=\"plotly-graph-div\"></div><script type=\"text/javascript\">require([\"plotly\"], function(Plotly) { window.PLOTLYENV=window.PLOTLYENV || {};window.PLOTLYENV.BASE_URL=\"https://plot.ly\";Plotly.newPlot(\"3460f4ef-f451-49d3-828f-832f391578d4\", [{\"colorscale\": \"Jet\", \"z\": [[0.0, 0.0, 0.0, 0.0, 0.0, 0.0, 0.0, 0.0, 0.0, 0.0], [0.0, 0.13839426024355447, 0.09240554744251471, 0.0836596529066725, 0.0740131210813059, 0.09601031460466017, 0.12262277036249403, 0.19031679713955277, 0.08745535820105363, 0.11512218009847201], [0.0, 0.12784915114413412, 0.0757030499347253, 0.08419702551022364, 0.08100260552878195, 0.10434128242015912, 0.11953868881924197, 0.19354815273080636, 0.09419629736164561, 0.11962374986489066], [0.0, 0.12172060355595712, 0.07614485053103408, 0.07293355669028602, 0.07999309809475581, 0.10017981825369668, 0.12405857154904094, 0.20129216699590619, 0.1004862089929213, 0.12319112757618007], [0.0, 0.12371432361094263, 0.07207746049484864, 0.07260289662265454, 0.0835882871707723, 0.10398972229977559, 0.11872611429637177, 0.19925946217105325, 0.10637385265103598, 0.11966788267198228], [0.0, 0.12070194081980871, 0.07516391031442941, 0.07439531049276081, 0.07807621965669052, 0.10756397984010982, 0.1206753894302296, 0.20488775779640056, 0.09786447391307827, 0.12067102034148736], [0.0, 0.12425970916778269, 0.0736243271194322, 0.07121801189080038, 0.08231923902608637, 0.10302588328652233, 0.11645394737938475, 0.20478024929613334, 0.10441968986885605, 0.1198989453571248], [0.0, 0.12340239012105225, 0.07379454755033434, 0.06728627815917265, 0.08336931707026397, 0.1056931710485209, 0.12202637602060087, 0.1989145110644861, 0.10246226298499886, 0.12305114786420623], [0.0, 0.1259481114135855, 0.07116295916665918, 0.06770977773420443, 0.08245293120246443, 0.101475069995616, 0.12099446012506039, 0.200487221098615, 0.10933684521133744, 0.12043262605441236], [0.0, 0.12117394119017386, 0.07055002248679496, 0.07011900938137684, 0.08389928246184844, 0.10749811831097289, 0.11817878167840153, 0.19900132121838163, 0.10707633584359702, 0.12250318882190372]], \"type\": \"heatmap\"}], {\"xaxis\": {\"title\": \"Predicted Class\", \"dtick\": 1, \"range\": [0.5, 9.5], \"tickcolor\": \"#FFF\"}, \"plot_bgcolor\": \"#000\", \"titlefont\": {\"color\": \"#FFF\"}, \"paper_bgcolor\": \"#000\", \"height\": 500, \"yaxis\": {\"title\": \"True Class\", \"dtick\": 1, \"range\": [9.5, 0.5], \"tickcolor\": \"#FFF\"}, \"title\": \"Confidence after 250 Iterations at Glimpse 9\", \"font\": {\"color\": \"#FFF\"}, \"width\": 500}, {\"showLink\": true, \"linkText\": \"Export to plot.ly\"})});</script>"
      ],
      "text/vnd.plotly.v1+html": [
       "<div id=\"3460f4ef-f451-49d3-828f-832f391578d4\" style=\"height: 500px; width: 500px;\" class=\"plotly-graph-div\"></div><script type=\"text/javascript\">require([\"plotly\"], function(Plotly) { window.PLOTLYENV=window.PLOTLYENV || {};window.PLOTLYENV.BASE_URL=\"https://plot.ly\";Plotly.newPlot(\"3460f4ef-f451-49d3-828f-832f391578d4\", [{\"colorscale\": \"Jet\", \"z\": [[0.0, 0.0, 0.0, 0.0, 0.0, 0.0, 0.0, 0.0, 0.0, 0.0], [0.0, 0.13839426024355447, 0.09240554744251471, 0.0836596529066725, 0.0740131210813059, 0.09601031460466017, 0.12262277036249403, 0.19031679713955277, 0.08745535820105363, 0.11512218009847201], [0.0, 0.12784915114413412, 0.0757030499347253, 0.08419702551022364, 0.08100260552878195, 0.10434128242015912, 0.11953868881924197, 0.19354815273080636, 0.09419629736164561, 0.11962374986489066], [0.0, 0.12172060355595712, 0.07614485053103408, 0.07293355669028602, 0.07999309809475581, 0.10017981825369668, 0.12405857154904094, 0.20129216699590619, 0.1004862089929213, 0.12319112757618007], [0.0, 0.12371432361094263, 0.07207746049484864, 0.07260289662265454, 0.0835882871707723, 0.10398972229977559, 0.11872611429637177, 0.19925946217105325, 0.10637385265103598, 0.11966788267198228], [0.0, 0.12070194081980871, 0.07516391031442941, 0.07439531049276081, 0.07807621965669052, 0.10756397984010982, 0.1206753894302296, 0.20488775779640056, 0.09786447391307827, 0.12067102034148736], [0.0, 0.12425970916778269, 0.0736243271194322, 0.07121801189080038, 0.08231923902608637, 0.10302588328652233, 0.11645394737938475, 0.20478024929613334, 0.10441968986885605, 0.1198989453571248], [0.0, 0.12340239012105225, 0.07379454755033434, 0.06728627815917265, 0.08336931707026397, 0.1056931710485209, 0.12202637602060087, 0.1989145110644861, 0.10246226298499886, 0.12305114786420623], [0.0, 0.1259481114135855, 0.07116295916665918, 0.06770977773420443, 0.08245293120246443, 0.101475069995616, 0.12099446012506039, 0.200487221098615, 0.10933684521133744, 0.12043262605441236], [0.0, 0.12117394119017386, 0.07055002248679496, 0.07011900938137684, 0.08389928246184844, 0.10749811831097289, 0.11817878167840153, 0.19900132121838163, 0.10707633584359702, 0.12250318882190372]], \"type\": \"heatmap\"}], {\"xaxis\": {\"title\": \"Predicted Class\", \"dtick\": 1, \"range\": [0.5, 9.5], \"tickcolor\": \"#FFF\"}, \"plot_bgcolor\": \"#000\", \"titlefont\": {\"color\": \"#FFF\"}, \"paper_bgcolor\": \"#000\", \"height\": 500, \"yaxis\": {\"title\": \"True Class\", \"dtick\": 1, \"range\": [9.5, 0.5], \"tickcolor\": \"#FFF\"}, \"title\": \"Confidence after 250 Iterations at Glimpse 9\", \"font\": {\"color\": \"#FFF\"}, \"width\": 500}, {\"showLink\": true, \"linkText\": \"Export to plot.ly\"})});</script>"
      ]
     },
     "metadata": {},
     "output_type": "display_data"
    },
    {
     "data": {
      "application/vnd.plotly.v1+json": {
       "data": [
        {
         "colorscale": "Jet",
         "type": "heatmap",
         "z": [
          [
           0,
           0,
           0,
           0,
           0,
           0,
           0,
           0,
           0,
           0
          ],
          [
           0,
           0.1393,
           0.0892,
           0.08080000000000001,
           0.0724,
           0.09380000000000001,
           0.1273,
           0.19390000000000002,
           0.0854,
           0.1179
          ],
          [
           0,
           0.12800000000000003,
           0.0748,
           0.08370000000000001,
           0.08209999999999999,
           0.10460000000000003,
           0.11999999999999997,
           0.194,
           0.09280000000000002,
           0.12
          ],
          [
           0,
           0.12080000000000002,
           0.0763,
           0.0724,
           0.0796,
           0.09920000000000001,
           0.12520000000000003,
           0.2016,
           0.10110000000000001,
           0.1238
          ],
          [
           0,
           0.12390000000000004,
           0.07200000000000001,
           0.07239999999999999,
           0.08360000000000001,
           0.10440000000000002,
           0.11810000000000002,
           0.19940000000000002,
           0.10670000000000002,
           0.11950000000000001
          ],
          [
           0,
           0.12110000000000001,
           0.07510000000000001,
           0.0741,
           0.07770000000000002,
           0.1078,
           0.12040000000000002,
           0.2051,
           0.09759999999999999,
           0.12110000000000001
          ],
          [
           0,
           0.12470000000000003,
           0.07360000000000001,
           0.0714,
           0.08109999999999999,
           0.10230000000000002,
           0.11710000000000001,
           0.2057,
           0.10450000000000001,
           0.11960000000000001
          ],
          [
           0,
           0.12420000000000002,
           0.07270000000000001,
           0.0663,
           0.084,
           0.10570000000000002,
           0.12210000000000001,
           0.1995,
           0.1024,
           0.12310000000000001
          ],
          [
           0,
           0.1258,
           0.0709,
           0.0678,
           0.082,
           0.10120000000000003,
           0.1207,
           0.20070000000000002,
           0.10969999999999999,
           0.1212
          ],
          [
           0,
           0.1213,
           0.06989999999999999,
           0.07020000000000001,
           0.0837,
           0.10840000000000001,
           0.11750000000000001,
           0.1992,
           0.10730000000000002,
           0.12250000000000001
          ]
         ]
        }
       ],
       "layout": {
        "font": {
         "color": "#FFF"
        },
        "height": 500,
        "paper_bgcolor": "#000",
        "plot_bgcolor": "#000",
        "title": "Choice after 250 Iterations at Glimpse 9",
        "titlefont": {
         "color": "#FFF"
        },
        "width": 500,
        "xaxis": {
         "dtick": 1,
         "range": [
          0.5,
          9.5
         ],
         "tickcolor": "#FFF",
         "title": "Predicted Class"
        },
        "yaxis": {
         "dtick": 1,
         "range": [
          9.5,
          0.5
         ],
         "tickcolor": "#FFF",
         "title": "True Class"
        }
       }
      },
      "text/html": [
       "<div id=\"00e1d505-f8e5-49f8-838f-7a0534859c26\" style=\"height: 500px; width: 500px;\" class=\"plotly-graph-div\"></div><script type=\"text/javascript\">require([\"plotly\"], function(Plotly) { window.PLOTLYENV=window.PLOTLYENV || {};window.PLOTLYENV.BASE_URL=\"https://plot.ly\";Plotly.newPlot(\"00e1d505-f8e5-49f8-838f-7a0534859c26\", [{\"colorscale\": \"Jet\", \"z\": [[0.0, 0.0, 0.0, 0.0, 0.0, 0.0, 0.0, 0.0, 0.0, 0.0], [0.0, 0.1393, 0.0892, 0.08080000000000001, 0.0724, 0.09380000000000001, 0.1273, 0.19390000000000002, 0.0854, 0.1179], [0.0, 0.12800000000000003, 0.0748, 0.08370000000000001, 0.08209999999999999, 0.10460000000000003, 0.11999999999999997, 0.194, 0.09280000000000002, 0.12], [0.0, 0.12080000000000002, 0.0763, 0.0724, 0.0796, 0.09920000000000001, 0.12520000000000003, 0.2016, 0.10110000000000001, 0.1238], [0.0, 0.12390000000000004, 0.07200000000000001, 0.07239999999999999, 0.08360000000000001, 0.10440000000000002, 0.11810000000000002, 0.19940000000000002, 0.10670000000000002, 0.11950000000000001], [0.0, 0.12110000000000001, 0.07510000000000001, 0.0741, 0.07770000000000002, 0.1078, 0.12040000000000002, 0.2051, 0.09759999999999999, 0.12110000000000001], [0.0, 0.12470000000000003, 0.07360000000000001, 0.0714, 0.08109999999999999, 0.10230000000000002, 0.11710000000000001, 0.2057, 0.10450000000000001, 0.11960000000000001], [0.0, 0.12420000000000002, 0.07270000000000001, 0.0663, 0.084, 0.10570000000000002, 0.12210000000000001, 0.1995, 0.1024, 0.12310000000000001], [0.0, 0.1258, 0.0709, 0.0678, 0.082, 0.10120000000000003, 0.1207, 0.20070000000000002, 0.10969999999999999, 0.1212], [0.0, 0.1213, 0.06989999999999999, 0.07020000000000001, 0.0837, 0.10840000000000001, 0.11750000000000001, 0.1992, 0.10730000000000002, 0.12250000000000001]], \"type\": \"heatmap\"}], {\"xaxis\": {\"title\": \"Predicted Class\", \"dtick\": 1, \"range\": [0.5, 9.5], \"tickcolor\": \"#FFF\"}, \"plot_bgcolor\": \"#000\", \"titlefont\": {\"color\": \"#FFF\"}, \"paper_bgcolor\": \"#000\", \"height\": 500, \"yaxis\": {\"title\": \"True Class\", \"dtick\": 1, \"range\": [9.5, 0.5], \"tickcolor\": \"#FFF\"}, \"title\": \"Choice after 250 Iterations at Glimpse 9\", \"font\": {\"color\": \"#FFF\"}, \"width\": 500}, {\"showLink\": true, \"linkText\": \"Export to plot.ly\"})});</script>"
      ],
      "text/vnd.plotly.v1+html": [
       "<div id=\"00e1d505-f8e5-49f8-838f-7a0534859c26\" style=\"height: 500px; width: 500px;\" class=\"plotly-graph-div\"></div><script type=\"text/javascript\">require([\"plotly\"], function(Plotly) { window.PLOTLYENV=window.PLOTLYENV || {};window.PLOTLYENV.BASE_URL=\"https://plot.ly\";Plotly.newPlot(\"00e1d505-f8e5-49f8-838f-7a0534859c26\", [{\"colorscale\": \"Jet\", \"z\": [[0.0, 0.0, 0.0, 0.0, 0.0, 0.0, 0.0, 0.0, 0.0, 0.0], [0.0, 0.1393, 0.0892, 0.08080000000000001, 0.0724, 0.09380000000000001, 0.1273, 0.19390000000000002, 0.0854, 0.1179], [0.0, 0.12800000000000003, 0.0748, 0.08370000000000001, 0.08209999999999999, 0.10460000000000003, 0.11999999999999997, 0.194, 0.09280000000000002, 0.12], [0.0, 0.12080000000000002, 0.0763, 0.0724, 0.0796, 0.09920000000000001, 0.12520000000000003, 0.2016, 0.10110000000000001, 0.1238], [0.0, 0.12390000000000004, 0.07200000000000001, 0.07239999999999999, 0.08360000000000001, 0.10440000000000002, 0.11810000000000002, 0.19940000000000002, 0.10670000000000002, 0.11950000000000001], [0.0, 0.12110000000000001, 0.07510000000000001, 0.0741, 0.07770000000000002, 0.1078, 0.12040000000000002, 0.2051, 0.09759999999999999, 0.12110000000000001], [0.0, 0.12470000000000003, 0.07360000000000001, 0.0714, 0.08109999999999999, 0.10230000000000002, 0.11710000000000001, 0.2057, 0.10450000000000001, 0.11960000000000001], [0.0, 0.12420000000000002, 0.07270000000000001, 0.0663, 0.084, 0.10570000000000002, 0.12210000000000001, 0.1995, 0.1024, 0.12310000000000001], [0.0, 0.1258, 0.0709, 0.0678, 0.082, 0.10120000000000003, 0.1207, 0.20070000000000002, 0.10969999999999999, 0.1212], [0.0, 0.1213, 0.06989999999999999, 0.07020000000000001, 0.0837, 0.10840000000000001, 0.11750000000000001, 0.1992, 0.10730000000000002, 0.12250000000000001]], \"type\": \"heatmap\"}], {\"xaxis\": {\"title\": \"Predicted Class\", \"dtick\": 1, \"range\": [0.5, 9.5], \"tickcolor\": \"#FFF\"}, \"plot_bgcolor\": \"#000\", \"titlefont\": {\"color\": \"#FFF\"}, \"paper_bgcolor\": \"#000\", \"height\": 500, \"yaxis\": {\"title\": \"True Class\", \"dtick\": 1, \"range\": [9.5, 0.5], \"tickcolor\": \"#FFF\"}, \"title\": \"Choice after 250 Iterations at Glimpse 9\", \"font\": {\"color\": \"#FFF\"}, \"width\": 500}, {\"showLink\": true, \"linkText\": \"Export to plot.ly\"})});</script>"
      ]
     },
     "metadata": {},
     "output_type": "display_data"
    },
    {
     "data": {
      "application/vnd.plotly.v1+json": {
       "data": [
        {
         "colorscale": "Jet",
         "type": "heatmap",
         "z": [
          [
           0,
           0,
           0,
           0,
           0,
           0,
           0,
           0,
           0,
           0
          ],
          [
           0,
           0.25462633446251953,
           0.08426810427929973,
           0.07138822413168246,
           0.07372761279030082,
           0.09716995243031068,
           0.10265532563037816,
           0.14339535328031158,
           0.08208571281710744,
           0.0906833816332598
          ],
          [
           0,
           0.1810591846087673,
           0.07583876145110743,
           0.07486511073100091,
           0.07150225396335971,
           0.10893326407556647,
           0.11419054095819461,
           0.17335382327878734,
           0.09188253586165103,
           0.10837452660749611
          ],
          [
           0,
           0.15015087972803673,
           0.07558664756971793,
           0.07944779576325718,
           0.06991105343579242,
           0.11192575349549852,
           0.1180583369269359,
           0.17598825281190406,
           0.10297542413270153,
           0.11595585827308386
          ],
          [
           0,
           0.13752792587677848,
           0.07232915459940456,
           0.07280122914397713,
           0.06830137312129535,
           0.11444363034620561,
           0.12327199888371099,
           0.18934078872422183,
           0.10449967757074037,
           0.11748422462844506
          ],
          [
           0,
           0.1250807595654826,
           0.07760838230635625,
           0.07080594955406407,
           0.06865469694070356,
           0.1208922313202421,
           0.1258628760293292,
           0.18626804678789805,
           0.10228066167442003,
           0.12254639850830473
          ],
          [
           0,
           0.12586860809156442,
           0.07222706164779358,
           0.07287516399867165,
           0.06998459786419078,
           0.11697208053853995,
           0.1227891596597432,
           0.18757017756530028,
           0.10934038754193261,
           0.12237276666487092
          ],
          [
           0,
           0.12455469535221034,
           0.07098703685757003,
           0.06894431534743037,
           0.07066083349323321,
           0.12079112047488264,
           0.12156117998720636,
           0.1864487523806445,
           0.11457279464203626,
           0.1214792740774516
          ],
          [
           0,
           0.123101027467674,
           0.0709445138623448,
           0.07155567186777115,
           0.06616144797479002,
           0.11533201730877136,
           0.12497959699587324,
           0.1932286249063447,
           0.10956597092079487,
           0.12513113157466713
          ],
          [
           0,
           0.12074922915494868,
           0.07147909590720401,
           0.06342794588346942,
           0.07003867740295046,
           0.11972328161221465,
           0.12962925615822876,
           0.18569406298799868,
           0.11433696186805423,
           0.12492149101346235
          ]
         ]
        }
       ],
       "layout": {
        "font": {
         "color": "#FFF"
        },
        "height": 500,
        "paper_bgcolor": "#000",
        "plot_bgcolor": "#000",
        "title": "Confidence after 1000 Iterations at Glimpse 0",
        "titlefont": {
         "color": "#FFF"
        },
        "width": 500,
        "xaxis": {
         "dtick": 1,
         "range": [
          0.5,
          9.5
         ],
         "tickcolor": "#FFF",
         "title": "Predicted Class"
        },
        "yaxis": {
         "dtick": 1,
         "range": [
          9.5,
          0.5
         ],
         "tickcolor": "#FFF",
         "title": "True Class"
        }
       }
      },
      "text/html": [
       "<div id=\"1c2535ef-bdc4-451d-a9e6-3aa59d51e25b\" style=\"height: 500px; width: 500px;\" class=\"plotly-graph-div\"></div><script type=\"text/javascript\">require([\"plotly\"], function(Plotly) { window.PLOTLYENV=window.PLOTLYENV || {};window.PLOTLYENV.BASE_URL=\"https://plot.ly\";Plotly.newPlot(\"1c2535ef-bdc4-451d-a9e6-3aa59d51e25b\", [{\"colorscale\": \"Jet\", \"z\": [[0.0, 0.0, 0.0, 0.0, 0.0, 0.0, 0.0, 0.0, 0.0, 0.0], [0.0, 0.25462633446251953, 0.08426810427929973, 0.07138822413168246, 0.07372761279030082, 0.09716995243031068, 0.10265532563037816, 0.14339535328031158, 0.08208571281710744, 0.0906833816332598], [0.0, 0.1810591846087673, 0.07583876145110743, 0.07486511073100091, 0.07150225396335971, 0.10893326407556647, 0.11419054095819461, 0.17335382327878734, 0.09188253586165103, 0.10837452660749611], [0.0, 0.15015087972803673, 0.07558664756971793, 0.07944779576325718, 0.06991105343579242, 0.11192575349549852, 0.1180583369269359, 0.17598825281190406, 0.10297542413270153, 0.11595585827308386], [0.0, 0.13752792587677848, 0.07232915459940456, 0.07280122914397713, 0.06830137312129535, 0.11444363034620561, 0.12327199888371099, 0.18934078872422183, 0.10449967757074037, 0.11748422462844506], [0.0, 0.1250807595654826, 0.07760838230635625, 0.07080594955406407, 0.06865469694070356, 0.1208922313202421, 0.1258628760293292, 0.18626804678789805, 0.10228066167442003, 0.12254639850830473], [0.0, 0.12586860809156442, 0.07222706164779358, 0.07287516399867165, 0.06998459786419078, 0.11697208053853995, 0.1227891596597432, 0.18757017756530028, 0.10934038754193261, 0.12237276666487092], [0.0, 0.12455469535221034, 0.07098703685757003, 0.06894431534743037, 0.07066083349323321, 0.12079112047488264, 0.12156117998720636, 0.1864487523806445, 0.11457279464203626, 0.1214792740774516], [0.0, 0.123101027467674, 0.0709445138623448, 0.07155567186777115, 0.06616144797479002, 0.11533201730877136, 0.12497959699587324, 0.1932286249063447, 0.10956597092079487, 0.12513113157466713], [0.0, 0.12074922915494868, 0.07147909590720401, 0.06342794588346942, 0.07003867740295046, 0.11972328161221465, 0.12962925615822876, 0.18569406298799868, 0.11433696186805423, 0.12492149101346235]], \"type\": \"heatmap\"}], {\"xaxis\": {\"title\": \"Predicted Class\", \"dtick\": 1, \"range\": [0.5, 9.5], \"tickcolor\": \"#FFF\"}, \"plot_bgcolor\": \"#000\", \"titlefont\": {\"color\": \"#FFF\"}, \"paper_bgcolor\": \"#000\", \"height\": 500, \"yaxis\": {\"title\": \"True Class\", \"dtick\": 1, \"range\": [9.5, 0.5], \"tickcolor\": \"#FFF\"}, \"title\": \"Confidence after 1000 Iterations at Glimpse 0\", \"font\": {\"color\": \"#FFF\"}, \"width\": 500}, {\"showLink\": true, \"linkText\": \"Export to plot.ly\"})});</script>"
      ],
      "text/vnd.plotly.v1+html": [
       "<div id=\"1c2535ef-bdc4-451d-a9e6-3aa59d51e25b\" style=\"height: 500px; width: 500px;\" class=\"plotly-graph-div\"></div><script type=\"text/javascript\">require([\"plotly\"], function(Plotly) { window.PLOTLYENV=window.PLOTLYENV || {};window.PLOTLYENV.BASE_URL=\"https://plot.ly\";Plotly.newPlot(\"1c2535ef-bdc4-451d-a9e6-3aa59d51e25b\", [{\"colorscale\": \"Jet\", \"z\": [[0.0, 0.0, 0.0, 0.0, 0.0, 0.0, 0.0, 0.0, 0.0, 0.0], [0.0, 0.25462633446251953, 0.08426810427929973, 0.07138822413168246, 0.07372761279030082, 0.09716995243031068, 0.10265532563037816, 0.14339535328031158, 0.08208571281710744, 0.0906833816332598], [0.0, 0.1810591846087673, 0.07583876145110743, 0.07486511073100091, 0.07150225396335971, 0.10893326407556647, 0.11419054095819461, 0.17335382327878734, 0.09188253586165103, 0.10837452660749611], [0.0, 0.15015087972803673, 0.07558664756971793, 0.07944779576325718, 0.06991105343579242, 0.11192575349549852, 0.1180583369269359, 0.17598825281190406, 0.10297542413270153, 0.11595585827308386], [0.0, 0.13752792587677848, 0.07232915459940456, 0.07280122914397713, 0.06830137312129535, 0.11444363034620561, 0.12327199888371099, 0.18934078872422183, 0.10449967757074037, 0.11748422462844506], [0.0, 0.1250807595654826, 0.07760838230635625, 0.07080594955406407, 0.06865469694070356, 0.1208922313202421, 0.1258628760293292, 0.18626804678789805, 0.10228066167442003, 0.12254639850830473], [0.0, 0.12586860809156442, 0.07222706164779358, 0.07287516399867165, 0.06998459786419078, 0.11697208053853995, 0.1227891596597432, 0.18757017756530028, 0.10934038754193261, 0.12237276666487092], [0.0, 0.12455469535221034, 0.07098703685757003, 0.06894431534743037, 0.07066083349323321, 0.12079112047488264, 0.12156117998720636, 0.1864487523806445, 0.11457279464203626, 0.1214792740774516], [0.0, 0.123101027467674, 0.0709445138623448, 0.07155567186777115, 0.06616144797479002, 0.11533201730877136, 0.12497959699587324, 0.1932286249063447, 0.10956597092079487, 0.12513113157466713], [0.0, 0.12074922915494868, 0.07147909590720401, 0.06342794588346942, 0.07003867740295046, 0.11972328161221465, 0.12962925615822876, 0.18569406298799868, 0.11433696186805423, 0.12492149101346235]], \"type\": \"heatmap\"}], {\"xaxis\": {\"title\": \"Predicted Class\", \"dtick\": 1, \"range\": [0.5, 9.5], \"tickcolor\": \"#FFF\"}, \"plot_bgcolor\": \"#000\", \"titlefont\": {\"color\": \"#FFF\"}, \"paper_bgcolor\": \"#000\", \"height\": 500, \"yaxis\": {\"title\": \"True Class\", \"dtick\": 1, \"range\": [9.5, 0.5], \"tickcolor\": \"#FFF\"}, \"title\": \"Confidence after 1000 Iterations at Glimpse 0\", \"font\": {\"color\": \"#FFF\"}, \"width\": 500}, {\"showLink\": true, \"linkText\": \"Export to plot.ly\"})});</script>"
      ]
     },
     "metadata": {},
     "output_type": "display_data"
    },
    {
     "data": {
      "application/vnd.plotly.v1+json": {
       "data": [
        {
         "colorscale": "Jet",
         "type": "heatmap",
         "z": [
          [
           0,
           0,
           0,
           0,
           0,
           0,
           0,
           0,
           0,
           0
          ],
          [
           0,
           0.453,
           0.0484,
           0.049,
           0.04910000000000001,
           0.07060000000000001,
           0.08199999999999999,
           0.11640000000000002,
           0.060399999999999995,
           0.07110000000000001
          ],
          [
           0,
           0.2493,
           0.0632,
           0.0683,
           0.0621,
           0.0997,
           0.1079,
           0.1649,
           0.0828,
           0.1018
          ],
          [
           0,
           0.17679999999999998,
           0.0703,
           0.0765,
           0.0653,
           0.1056,
           0.1165,
           0.1738,
           0.1005,
           0.1147
          ],
          [
           0,
           0.1453,
           0.07070000000000001,
           0.0716,
           0.0666,
           0.11180000000000001,
           0.12449999999999999,
           0.1891,
           0.10260000000000002,
           0.11780000000000002
          ],
          [
           0,
           0.12710000000000002,
           0.07650000000000003,
           0.071,
           0.06870000000000001,
           0.1199,
           0.1264,
           0.18610000000000002,
           0.10190000000000002,
           0.12240000000000002
          ],
          [
           0,
           0.127,
           0.07150000000000001,
           0.07100000000000001,
           0.06999999999999999,
           0.11679999999999997,
           0.12240000000000002,
           0.18810000000000002,
           0.10940000000000001,
           0.12379999999999998
          ],
          [
           0,
           0.1253,
           0.07010000000000002,
           0.0684,
           0.0698,
           0.12069999999999999,
           0.12090000000000001,
           0.187,
           0.11550000000000002,
           0.12229999999999999
          ],
          [
           0,
           0.12380000000000002,
           0.07100000000000001,
           0.0718,
           0.0661,
           0.1146,
           0.1237,
           0.1937,
           0.10979999999999998,
           0.1255
          ],
          [
           0,
           0.12020000000000002,
           0.07090000000000002,
           0.0634,
           0.07,
           0.11929999999999996,
           0.13030000000000003,
           0.18580000000000002,
           0.1147,
           0.1254
          ]
         ]
        }
       ],
       "layout": {
        "font": {
         "color": "#FFF"
        },
        "height": 500,
        "paper_bgcolor": "#000",
        "plot_bgcolor": "#000",
        "title": "Choice after 1000 Iterations at Glimpse 0",
        "titlefont": {
         "color": "#FFF"
        },
        "width": 500,
        "xaxis": {
         "dtick": 1,
         "range": [
          0.5,
          9.5
         ],
         "tickcolor": "#FFF",
         "title": "Predicted Class"
        },
        "yaxis": {
         "dtick": 1,
         "range": [
          9.5,
          0.5
         ],
         "tickcolor": "#FFF",
         "title": "True Class"
        }
       }
      },
      "text/html": [
       "<div id=\"e3255de6-a0e6-4f06-bf1d-48f1460cccbf\" style=\"height: 500px; width: 500px;\" class=\"plotly-graph-div\"></div><script type=\"text/javascript\">require([\"plotly\"], function(Plotly) { window.PLOTLYENV=window.PLOTLYENV || {};window.PLOTLYENV.BASE_URL=\"https://plot.ly\";Plotly.newPlot(\"e3255de6-a0e6-4f06-bf1d-48f1460cccbf\", [{\"colorscale\": \"Jet\", \"z\": [[0.0, 0.0, 0.0, 0.0, 0.0, 0.0, 0.0, 0.0, 0.0, 0.0], [0.0, 0.453, 0.0484, 0.049, 0.04910000000000001, 0.07060000000000001, 0.08199999999999999, 0.11640000000000002, 0.060399999999999995, 0.07110000000000001], [0.0, 0.2493, 0.0632, 0.0683, 0.0621, 0.0997, 0.1079, 0.1649, 0.0828, 0.1018], [0.0, 0.17679999999999998, 0.0703, 0.0765, 0.0653, 0.1056, 0.1165, 0.1738, 0.1005, 0.1147], [0.0, 0.1453, 0.07070000000000001, 0.0716, 0.0666, 0.11180000000000001, 0.12449999999999999, 0.1891, 0.10260000000000002, 0.11780000000000002], [0.0, 0.12710000000000002, 0.07650000000000003, 0.071, 0.06870000000000001, 0.1199, 0.1264, 0.18610000000000002, 0.10190000000000002, 0.12240000000000002], [0.0, 0.127, 0.07150000000000001, 0.07100000000000001, 0.06999999999999999, 0.11679999999999997, 0.12240000000000002, 0.18810000000000002, 0.10940000000000001, 0.12379999999999998], [0.0, 0.1253, 0.07010000000000002, 0.0684, 0.0698, 0.12069999999999999, 0.12090000000000001, 0.187, 0.11550000000000002, 0.12229999999999999], [0.0, 0.12380000000000002, 0.07100000000000001, 0.0718, 0.0661, 0.1146, 0.1237, 0.1937, 0.10979999999999998, 0.1255], [0.0, 0.12020000000000002, 0.07090000000000002, 0.0634, 0.07, 0.11929999999999996, 0.13030000000000003, 0.18580000000000002, 0.1147, 0.1254]], \"type\": \"heatmap\"}], {\"xaxis\": {\"title\": \"Predicted Class\", \"dtick\": 1, \"range\": [0.5, 9.5], \"tickcolor\": \"#FFF\"}, \"plot_bgcolor\": \"#000\", \"titlefont\": {\"color\": \"#FFF\"}, \"paper_bgcolor\": \"#000\", \"height\": 500, \"yaxis\": {\"title\": \"True Class\", \"dtick\": 1, \"range\": [9.5, 0.5], \"tickcolor\": \"#FFF\"}, \"title\": \"Choice after 1000 Iterations at Glimpse 0\", \"font\": {\"color\": \"#FFF\"}, \"width\": 500}, {\"showLink\": true, \"linkText\": \"Export to plot.ly\"})});</script>"
      ],
      "text/vnd.plotly.v1+html": [
       "<div id=\"e3255de6-a0e6-4f06-bf1d-48f1460cccbf\" style=\"height: 500px; width: 500px;\" class=\"plotly-graph-div\"></div><script type=\"text/javascript\">require([\"plotly\"], function(Plotly) { window.PLOTLYENV=window.PLOTLYENV || {};window.PLOTLYENV.BASE_URL=\"https://plot.ly\";Plotly.newPlot(\"e3255de6-a0e6-4f06-bf1d-48f1460cccbf\", [{\"colorscale\": \"Jet\", \"z\": [[0.0, 0.0, 0.0, 0.0, 0.0, 0.0, 0.0, 0.0, 0.0, 0.0], [0.0, 0.453, 0.0484, 0.049, 0.04910000000000001, 0.07060000000000001, 0.08199999999999999, 0.11640000000000002, 0.060399999999999995, 0.07110000000000001], [0.0, 0.2493, 0.0632, 0.0683, 0.0621, 0.0997, 0.1079, 0.1649, 0.0828, 0.1018], [0.0, 0.17679999999999998, 0.0703, 0.0765, 0.0653, 0.1056, 0.1165, 0.1738, 0.1005, 0.1147], [0.0, 0.1453, 0.07070000000000001, 0.0716, 0.0666, 0.11180000000000001, 0.12449999999999999, 0.1891, 0.10260000000000002, 0.11780000000000002], [0.0, 0.12710000000000002, 0.07650000000000003, 0.071, 0.06870000000000001, 0.1199, 0.1264, 0.18610000000000002, 0.10190000000000002, 0.12240000000000002], [0.0, 0.127, 0.07150000000000001, 0.07100000000000001, 0.06999999999999999, 0.11679999999999997, 0.12240000000000002, 0.18810000000000002, 0.10940000000000001, 0.12379999999999998], [0.0, 0.1253, 0.07010000000000002, 0.0684, 0.0698, 0.12069999999999999, 0.12090000000000001, 0.187, 0.11550000000000002, 0.12229999999999999], [0.0, 0.12380000000000002, 0.07100000000000001, 0.0718, 0.0661, 0.1146, 0.1237, 0.1937, 0.10979999999999998, 0.1255], [0.0, 0.12020000000000002, 0.07090000000000002, 0.0634, 0.07, 0.11929999999999996, 0.13030000000000003, 0.18580000000000002, 0.1147, 0.1254]], \"type\": \"heatmap\"}], {\"xaxis\": {\"title\": \"Predicted Class\", \"dtick\": 1, \"range\": [0.5, 9.5], \"tickcolor\": \"#FFF\"}, \"plot_bgcolor\": \"#000\", \"titlefont\": {\"color\": \"#FFF\"}, \"paper_bgcolor\": \"#000\", \"height\": 500, \"yaxis\": {\"title\": \"True Class\", \"dtick\": 1, \"range\": [9.5, 0.5], \"tickcolor\": \"#FFF\"}, \"title\": \"Choice after 1000 Iterations at Glimpse 0\", \"font\": {\"color\": \"#FFF\"}, \"width\": 500}, {\"showLink\": true, \"linkText\": \"Export to plot.ly\"})});</script>"
      ]
     },
     "metadata": {},
     "output_type": "display_data"
    },
    {
     "data": {
      "application/vnd.plotly.v1+json": {
       "data": [
        {
         "colorscale": "Jet",
         "type": "heatmap",
         "z": [
          [
           0,
           0,
           0,
           0,
           0,
           0,
           0,
           0,
           0,
           0
          ],
          [
           0,
           0.3470515458102824,
           0.06995097585144645,
           0.06535676953943892,
           0.05335592908562766,
           0.07720539192223334,
           0.09410431229308432,
           0.1414690077454049,
           0.06558254093966318,
           0.08592352856305727
          ],
          [
           0,
           0.2258004096093889,
           0.07278667049487189,
           0.078296454939008,
           0.06590238033570193,
           0.0871087139159707,
           0.11094538529046682,
           0.17688349598211536,
           0.077528695535986,
           0.10474779576366447
          ],
          [
           0,
           0.1854542155985542,
           0.0722138384573091,
           0.08095882231929677,
           0.06926697325347411,
           0.0972234796124429,
           0.11125097245713192,
           0.18671176886816296,
           0.085294882268283,
           0.11162504950875271
          ],
          [
           0,
           0.17185059698597735,
           0.07496788955350624,
           0.07679371182120884,
           0.07378181859490617,
           0.0983354030995402,
           0.11933211546661135,
           0.18590714211123122,
           0.0861378251939663,
           0.11289349983928598
          ],
          [
           0,
           0.16398495931364226,
           0.07382439018007032,
           0.07796760858326991,
           0.06777331997607819,
           0.10538632019774616,
           0.11997005909965901,
           0.1890236113541452,
           0.08722205929284334,
           0.11484767434037779
          ],
          [
           0,
           0.16299602765421967,
           0.07327542137445192,
           0.07959540112466708,
           0.07500346580374682,
           0.10577081364366499,
           0.11628047907974921,
           0.18398295375975277,
           0.08750003443852712,
           0.11559540544078288
          ],
          [
           0,
           0.1547481734828577,
           0.07380859614426771,
           0.0775688819681614,
           0.0715750554543815,
           0.10365728070312792,
           0.1247484427615537,
           0.1888319087734739,
           0.08877173006986425,
           0.11628993272916728
          ],
          [
           0,
           0.1564882823049482,
           0.07220635995731454,
           0.07933392910235373,
           0.07137604115312829,
           0.10848952314674734,
           0.11613882611847078,
           0.19091728998372756,
           0.09213835818154288,
           0.11291139206930027
          ],
          [
           0,
           0.15561990468879078,
           0.06860558898879507,
           0.07499812135519682,
           0.07551692250659539,
           0.10963941566333554,
           0.1236246083586624,
           0.18598884081120778,
           0.09243967768709174,
           0.11356692257676407
          ]
         ]
        }
       ],
       "layout": {
        "font": {
         "color": "#FFF"
        },
        "height": 500,
        "paper_bgcolor": "#000",
        "plot_bgcolor": "#000",
        "title": "Confidence after 1000 Iterations at Glimpse 3",
        "titlefont": {
         "color": "#FFF"
        },
        "width": 500,
        "xaxis": {
         "dtick": 1,
         "range": [
          0.5,
          9.5
         ],
         "tickcolor": "#FFF",
         "title": "Predicted Class"
        },
        "yaxis": {
         "dtick": 1,
         "range": [
          9.5,
          0.5
         ],
         "tickcolor": "#FFF",
         "title": "True Class"
        }
       }
      },
      "text/html": [
       "<div id=\"ee2322ce-ed84-4073-866e-c01e5a7acfbc\" style=\"height: 500px; width: 500px;\" class=\"plotly-graph-div\"></div><script type=\"text/javascript\">require([\"plotly\"], function(Plotly) { window.PLOTLYENV=window.PLOTLYENV || {};window.PLOTLYENV.BASE_URL=\"https://plot.ly\";Plotly.newPlot(\"ee2322ce-ed84-4073-866e-c01e5a7acfbc\", [{\"colorscale\": \"Jet\", \"z\": [[0.0, 0.0, 0.0, 0.0, 0.0, 0.0, 0.0, 0.0, 0.0, 0.0], [0.0, 0.3470515458102824, 0.06995097585144645, 0.06535676953943892, 0.05335592908562766, 0.07720539192223334, 0.09410431229308432, 0.1414690077454049, 0.06558254093966318, 0.08592352856305727], [0.0, 0.2258004096093889, 0.07278667049487189, 0.078296454939008, 0.06590238033570193, 0.0871087139159707, 0.11094538529046682, 0.17688349598211536, 0.077528695535986, 0.10474779576366447], [0.0, 0.1854542155985542, 0.0722138384573091, 0.08095882231929677, 0.06926697325347411, 0.0972234796124429, 0.11125097245713192, 0.18671176886816296, 0.085294882268283, 0.11162504950875271], [0.0, 0.17185059698597735, 0.07496788955350624, 0.07679371182120884, 0.07378181859490617, 0.0983354030995402, 0.11933211546661135, 0.18590714211123122, 0.0861378251939663, 0.11289349983928598], [0.0, 0.16398495931364226, 0.07382439018007032, 0.07796760858326991, 0.06777331997607819, 0.10538632019774616, 0.11997005909965901, 0.1890236113541452, 0.08722205929284334, 0.11484767434037779], [0.0, 0.16299602765421967, 0.07327542137445192, 0.07959540112466708, 0.07500346580374682, 0.10577081364366499, 0.11628047907974921, 0.18398295375975277, 0.08750003443852712, 0.11559540544078288], [0.0, 0.1547481734828577, 0.07380859614426771, 0.0775688819681614, 0.0715750554543815, 0.10365728070312792, 0.1247484427615537, 0.1888319087734739, 0.08877173006986425, 0.11628993272916728], [0.0, 0.1564882823049482, 0.07220635995731454, 0.07933392910235373, 0.07137604115312829, 0.10848952314674734, 0.11613882611847078, 0.19091728998372756, 0.09213835818154288, 0.11291139206930027], [0.0, 0.15561990468879078, 0.06860558898879507, 0.07499812135519682, 0.07551692250659539, 0.10963941566333554, 0.1236246083586624, 0.18598884081120778, 0.09243967768709174, 0.11356692257676407]], \"type\": \"heatmap\"}], {\"xaxis\": {\"title\": \"Predicted Class\", \"dtick\": 1, \"range\": [0.5, 9.5], \"tickcolor\": \"#FFF\"}, \"plot_bgcolor\": \"#000\", \"titlefont\": {\"color\": \"#FFF\"}, \"paper_bgcolor\": \"#000\", \"height\": 500, \"yaxis\": {\"title\": \"True Class\", \"dtick\": 1, \"range\": [9.5, 0.5], \"tickcolor\": \"#FFF\"}, \"title\": \"Confidence after 1000 Iterations at Glimpse 3\", \"font\": {\"color\": \"#FFF\"}, \"width\": 500}, {\"showLink\": true, \"linkText\": \"Export to plot.ly\"})});</script>"
      ],
      "text/vnd.plotly.v1+html": [
       "<div id=\"ee2322ce-ed84-4073-866e-c01e5a7acfbc\" style=\"height: 500px; width: 500px;\" class=\"plotly-graph-div\"></div><script type=\"text/javascript\">require([\"plotly\"], function(Plotly) { window.PLOTLYENV=window.PLOTLYENV || {};window.PLOTLYENV.BASE_URL=\"https://plot.ly\";Plotly.newPlot(\"ee2322ce-ed84-4073-866e-c01e5a7acfbc\", [{\"colorscale\": \"Jet\", \"z\": [[0.0, 0.0, 0.0, 0.0, 0.0, 0.0, 0.0, 0.0, 0.0, 0.0], [0.0, 0.3470515458102824, 0.06995097585144645, 0.06535676953943892, 0.05335592908562766, 0.07720539192223334, 0.09410431229308432, 0.1414690077454049, 0.06558254093966318, 0.08592352856305727], [0.0, 0.2258004096093889, 0.07278667049487189, 0.078296454939008, 0.06590238033570193, 0.0871087139159707, 0.11094538529046682, 0.17688349598211536, 0.077528695535986, 0.10474779576366447], [0.0, 0.1854542155985542, 0.0722138384573091, 0.08095882231929677, 0.06926697325347411, 0.0972234796124429, 0.11125097245713192, 0.18671176886816296, 0.085294882268283, 0.11162504950875271], [0.0, 0.17185059698597735, 0.07496788955350624, 0.07679371182120884, 0.07378181859490617, 0.0983354030995402, 0.11933211546661135, 0.18590714211123122, 0.0861378251939663, 0.11289349983928598], [0.0, 0.16398495931364226, 0.07382439018007032, 0.07796760858326991, 0.06777331997607819, 0.10538632019774616, 0.11997005909965901, 0.1890236113541452, 0.08722205929284334, 0.11484767434037779], [0.0, 0.16299602765421967, 0.07327542137445192, 0.07959540112466708, 0.07500346580374682, 0.10577081364366499, 0.11628047907974921, 0.18398295375975277, 0.08750003443852712, 0.11559540544078288], [0.0, 0.1547481734828577, 0.07380859614426771, 0.0775688819681614, 0.0715750554543815, 0.10365728070312792, 0.1247484427615537, 0.1888319087734739, 0.08877173006986425, 0.11628993272916728], [0.0, 0.1564882823049482, 0.07220635995731454, 0.07933392910235373, 0.07137604115312829, 0.10848952314674734, 0.11613882611847078, 0.19091728998372756, 0.09213835818154288, 0.11291139206930027], [0.0, 0.15561990468879078, 0.06860558898879507, 0.07499812135519682, 0.07551692250659539, 0.10963941566333554, 0.1236246083586624, 0.18598884081120778, 0.09243967768709174, 0.11356692257676407]], \"type\": \"heatmap\"}], {\"xaxis\": {\"title\": \"Predicted Class\", \"dtick\": 1, \"range\": [0.5, 9.5], \"tickcolor\": \"#FFF\"}, \"plot_bgcolor\": \"#000\", \"titlefont\": {\"color\": \"#FFF\"}, \"paper_bgcolor\": \"#000\", \"height\": 500, \"yaxis\": {\"title\": \"True Class\", \"dtick\": 1, \"range\": [9.5, 0.5], \"tickcolor\": \"#FFF\"}, \"title\": \"Confidence after 1000 Iterations at Glimpse 3\", \"font\": {\"color\": \"#FFF\"}, \"width\": 500}, {\"showLink\": true, \"linkText\": \"Export to plot.ly\"})});</script>"
      ]
     },
     "metadata": {},
     "output_type": "display_data"
    },
    {
     "data": {
      "application/vnd.plotly.v1+json": {
       "data": [
        {
         "colorscale": "Jet",
         "type": "heatmap",
         "z": [
          [
           0,
           0,
           0,
           0,
           0,
           0,
           0,
           0,
           0,
           0
          ],
          [
           0,
           0.36710000000000004,
           0.0632,
           0.0646,
           0.0502,
           0.07450000000000002,
           0.0923,
           0.1389,
           0.06360000000000002,
           0.0856
          ],
          [
           0,
           0.23059999999999997,
           0.07120000000000001,
           0.07710000000000002,
           0.0656,
           0.0855,
           0.1109,
           0.17759999999999998,
           0.0764,
           0.1051
          ],
          [
           0,
           0.18649999999999997,
           0.0718,
           0.08159999999999999,
           0.0688,
           0.0961,
           0.1111,
           0.1868,
           0.0854,
           0.1119
          ],
          [
           0,
           0.17309999999999998,
           0.07510000000000001,
           0.0767,
           0.0738,
           0.0974,
           0.12069999999999999,
           0.186,
           0.085,
           0.11220000000000001
          ],
          [
           0,
           0.1644,
           0.0733,
           0.0784,
           0.06720000000000001,
           0.10570000000000002,
           0.12010000000000001,
           0.18839999999999998,
           0.08770000000000001,
           0.11479999999999999
          ],
          [
           0,
           0.16360000000000002,
           0.0728,
           0.08,
           0.0751,
           0.1061,
           0.11590000000000003,
           0.18330000000000002,
           0.08730000000000002,
           0.1159
          ],
          [
           0,
           0.1543,
           0.07360000000000003,
           0.0779,
           0.07170000000000001,
           0.1038,
           0.12390000000000001,
           0.18930000000000002,
           0.08880000000000002,
           0.11669999999999998
          ],
          [
           0,
           0.1565,
           0.0723,
           0.07909999999999999,
           0.0716,
           0.10830000000000002,
           0.11600000000000002,
           0.1906,
           0.09250000000000001,
           0.1131
          ],
          [
           0,
           0.1556,
           0.06810000000000001,
           0.0748,
           0.0756,
           0.1091,
           0.12369999999999999,
           0.1863,
           0.09320000000000002,
           0.11359999999999999
          ]
         ]
        }
       ],
       "layout": {
        "font": {
         "color": "#FFF"
        },
        "height": 500,
        "paper_bgcolor": "#000",
        "plot_bgcolor": "#000",
        "title": "Choice after 1000 Iterations at Glimpse 3",
        "titlefont": {
         "color": "#FFF"
        },
        "width": 500,
        "xaxis": {
         "dtick": 1,
         "range": [
          0.5,
          9.5
         ],
         "tickcolor": "#FFF",
         "title": "Predicted Class"
        },
        "yaxis": {
         "dtick": 1,
         "range": [
          9.5,
          0.5
         ],
         "tickcolor": "#FFF",
         "title": "True Class"
        }
       }
      },
      "text/html": [
       "<div id=\"093c84ea-7a9a-43ec-af7c-c269a4218fed\" style=\"height: 500px; width: 500px;\" class=\"plotly-graph-div\"></div><script type=\"text/javascript\">require([\"plotly\"], function(Plotly) { window.PLOTLYENV=window.PLOTLYENV || {};window.PLOTLYENV.BASE_URL=\"https://plot.ly\";Plotly.newPlot(\"093c84ea-7a9a-43ec-af7c-c269a4218fed\", [{\"colorscale\": \"Jet\", \"z\": [[0.0, 0.0, 0.0, 0.0, 0.0, 0.0, 0.0, 0.0, 0.0, 0.0], [0.0, 0.36710000000000004, 0.0632, 0.0646, 0.0502, 0.07450000000000002, 0.0923, 0.1389, 0.06360000000000002, 0.0856], [0.0, 0.23059999999999997, 0.07120000000000001, 0.07710000000000002, 0.0656, 0.0855, 0.1109, 0.17759999999999998, 0.0764, 0.1051], [0.0, 0.18649999999999997, 0.0718, 0.08159999999999999, 0.0688, 0.0961, 0.1111, 0.1868, 0.0854, 0.1119], [0.0, 0.17309999999999998, 0.07510000000000001, 0.0767, 0.0738, 0.0974, 0.12069999999999999, 0.186, 0.085, 0.11220000000000001], [0.0, 0.1644, 0.0733, 0.0784, 0.06720000000000001, 0.10570000000000002, 0.12010000000000001, 0.18839999999999998, 0.08770000000000001, 0.11479999999999999], [0.0, 0.16360000000000002, 0.0728, 0.08, 0.0751, 0.1061, 0.11590000000000003, 0.18330000000000002, 0.08730000000000002, 0.1159], [0.0, 0.1543, 0.07360000000000003, 0.0779, 0.07170000000000001, 0.1038, 0.12390000000000001, 0.18930000000000002, 0.08880000000000002, 0.11669999999999998], [0.0, 0.1565, 0.0723, 0.07909999999999999, 0.0716, 0.10830000000000002, 0.11600000000000002, 0.1906, 0.09250000000000001, 0.1131], [0.0, 0.1556, 0.06810000000000001, 0.0748, 0.0756, 0.1091, 0.12369999999999999, 0.1863, 0.09320000000000002, 0.11359999999999999]], \"type\": \"heatmap\"}], {\"xaxis\": {\"title\": \"Predicted Class\", \"dtick\": 1, \"range\": [0.5, 9.5], \"tickcolor\": \"#FFF\"}, \"plot_bgcolor\": \"#000\", \"titlefont\": {\"color\": \"#FFF\"}, \"paper_bgcolor\": \"#000\", \"height\": 500, \"yaxis\": {\"title\": \"True Class\", \"dtick\": 1, \"range\": [9.5, 0.5], \"tickcolor\": \"#FFF\"}, \"title\": \"Choice after 1000 Iterations at Glimpse 3\", \"font\": {\"color\": \"#FFF\"}, \"width\": 500}, {\"showLink\": true, \"linkText\": \"Export to plot.ly\"})});</script>"
      ],
      "text/vnd.plotly.v1+html": [
       "<div id=\"093c84ea-7a9a-43ec-af7c-c269a4218fed\" style=\"height: 500px; width: 500px;\" class=\"plotly-graph-div\"></div><script type=\"text/javascript\">require([\"plotly\"], function(Plotly) { window.PLOTLYENV=window.PLOTLYENV || {};window.PLOTLYENV.BASE_URL=\"https://plot.ly\";Plotly.newPlot(\"093c84ea-7a9a-43ec-af7c-c269a4218fed\", [{\"colorscale\": \"Jet\", \"z\": [[0.0, 0.0, 0.0, 0.0, 0.0, 0.0, 0.0, 0.0, 0.0, 0.0], [0.0, 0.36710000000000004, 0.0632, 0.0646, 0.0502, 0.07450000000000002, 0.0923, 0.1389, 0.06360000000000002, 0.0856], [0.0, 0.23059999999999997, 0.07120000000000001, 0.07710000000000002, 0.0656, 0.0855, 0.1109, 0.17759999999999998, 0.0764, 0.1051], [0.0, 0.18649999999999997, 0.0718, 0.08159999999999999, 0.0688, 0.0961, 0.1111, 0.1868, 0.0854, 0.1119], [0.0, 0.17309999999999998, 0.07510000000000001, 0.0767, 0.0738, 0.0974, 0.12069999999999999, 0.186, 0.085, 0.11220000000000001], [0.0, 0.1644, 0.0733, 0.0784, 0.06720000000000001, 0.10570000000000002, 0.12010000000000001, 0.18839999999999998, 0.08770000000000001, 0.11479999999999999], [0.0, 0.16360000000000002, 0.0728, 0.08, 0.0751, 0.1061, 0.11590000000000003, 0.18330000000000002, 0.08730000000000002, 0.1159], [0.0, 0.1543, 0.07360000000000003, 0.0779, 0.07170000000000001, 0.1038, 0.12390000000000001, 0.18930000000000002, 0.08880000000000002, 0.11669999999999998], [0.0, 0.1565, 0.0723, 0.07909999999999999, 0.0716, 0.10830000000000002, 0.11600000000000002, 0.1906, 0.09250000000000001, 0.1131], [0.0, 0.1556, 0.06810000000000001, 0.0748, 0.0756, 0.1091, 0.12369999999999999, 0.1863, 0.09320000000000002, 0.11359999999999999]], \"type\": \"heatmap\"}], {\"xaxis\": {\"title\": \"Predicted Class\", \"dtick\": 1, \"range\": [0.5, 9.5], \"tickcolor\": \"#FFF\"}, \"plot_bgcolor\": \"#000\", \"titlefont\": {\"color\": \"#FFF\"}, \"paper_bgcolor\": \"#000\", \"height\": 500, \"yaxis\": {\"title\": \"True Class\", \"dtick\": 1, \"range\": [9.5, 0.5], \"tickcolor\": \"#FFF\"}, \"title\": \"Choice after 1000 Iterations at Glimpse 3\", \"font\": {\"color\": \"#FFF\"}, \"width\": 500}, {\"showLink\": true, \"linkText\": \"Export to plot.ly\"})});</script>"
      ]
     },
     "metadata": {},
     "output_type": "display_data"
    },
    {
     "data": {
      "application/vnd.plotly.v1+json": {
       "data": [
        {
         "colorscale": "Jet",
         "type": "heatmap",
         "z": [
          [
           0,
           0,
           0,
           0,
           0,
           0,
           0,
           0,
           0,
           0
          ],
          [
           0,
           0.46756367396894516,
           0.07825205901025196,
           0.056783594288917036,
           0.052393253399872095,
           0.05801890905949704,
           0.06728673768845654,
           0.10639347426531794,
           0.04582076210279479,
           0.06748754065471982
          ],
          [
           0,
           0.34443430316058804,
           0.0869450878614084,
           0.07193467113887182,
           0.06781204037977799,
           0.07253298319133639,
           0.08152991991665651,
           0.13304654672884444,
           0.05653902231242819,
           0.08522542748643516
          ],
          [
           0,
           0.29107168193269106,
           0.08282929802131711,
           0.07064645437889273,
           0.07247484826283287,
           0.07725845418049962,
           0.09379729739645151,
           0.1526978038600839,
           0.06721581704203435,
           0.09200834731697177
          ],
          [
           0,
           0.26747990202903976,
           0.08606062101845743,
           0.07578879574864152,
           0.07659364063849533,
           0.08491791829744857,
           0.08989068283414561,
           0.15386326484446006,
           0.07128876479121819,
           0.09411641224235553
          ],
          [
           0,
           0.25618964671802247,
           0.08489157946728582,
           0.06924566890793328,
           0.07155084617583944,
           0.08883427997468549,
           0.0964046842596956,
           0.1599116446826189,
           0.07463239094641795,
           0.0983392611371215
          ],
          [
           0,
           0.24835948412702016,
           0.08238105673167972,
           0.0740990413743359,
           0.07853087664372257,
           0.08671947345037107,
           0.09095232907054067,
           0.1566712931311673,
           0.0801516109478045,
           0.10213483666925346
          ],
          [
           0,
           0.24489278245035204,
           0.08181869362393927,
           0.06833822470800696,
           0.07757881971035385,
           0.08647048141862597,
           0.0950749791192185,
           0.16902629805759042,
           0.07968611954681122,
           0.09711360354826648
          ],
          [
           0,
           0.24097377201672893,
           0.08820352682480288,
           0.07075472382186584,
           0.07765539268100172,
           0.08355242537891586,
           0.0932885669670242,
           0.1656854369921505,
           0.08203661294180463,
           0.09784954480824874
          ],
          [
           0,
           0.24671340156809074,
           0.08178790416345333,
           0.06653023657061205,
           0.07832015503780074,
           0.08823601263708197,
           0.09929582667478082,
           0.14829496706181988,
           0.09132623501988633,
           0.09949526332701449
          ]
         ]
        }
       ],
       "layout": {
        "font": {
         "color": "#FFF"
        },
        "height": 500,
        "paper_bgcolor": "#000",
        "plot_bgcolor": "#000",
        "title": "Confidence after 1000 Iterations at Glimpse 9",
        "titlefont": {
         "color": "#FFF"
        },
        "width": 500,
        "xaxis": {
         "dtick": 1,
         "range": [
          0.5,
          9.5
         ],
         "tickcolor": "#FFF",
         "title": "Predicted Class"
        },
        "yaxis": {
         "dtick": 1,
         "range": [
          9.5,
          0.5
         ],
         "tickcolor": "#FFF",
         "title": "True Class"
        }
       }
      },
      "text/html": [
       "<div id=\"f0843532-7869-459b-a6e0-fcf4acb127dc\" style=\"height: 500px; width: 500px;\" class=\"plotly-graph-div\"></div><script type=\"text/javascript\">require([\"plotly\"], function(Plotly) { window.PLOTLYENV=window.PLOTLYENV || {};window.PLOTLYENV.BASE_URL=\"https://plot.ly\";Plotly.newPlot(\"f0843532-7869-459b-a6e0-fcf4acb127dc\", [{\"colorscale\": \"Jet\", \"z\": [[0.0, 0.0, 0.0, 0.0, 0.0, 0.0, 0.0, 0.0, 0.0, 0.0], [0.0, 0.46756367396894516, 0.07825205901025196, 0.056783594288917036, 0.052393253399872095, 0.05801890905949704, 0.06728673768845654, 0.10639347426531794, 0.04582076210279479, 0.06748754065471982], [0.0, 0.34443430316058804, 0.0869450878614084, 0.07193467113887182, 0.06781204037977799, 0.07253298319133639, 0.08152991991665651, 0.13304654672884444, 0.05653902231242819, 0.08522542748643516], [0.0, 0.29107168193269106, 0.08282929802131711, 0.07064645437889273, 0.07247484826283287, 0.07725845418049962, 0.09379729739645151, 0.1526978038600839, 0.06721581704203435, 0.09200834731697177], [0.0, 0.26747990202903976, 0.08606062101845743, 0.07578879574864152, 0.07659364063849533, 0.08491791829744857, 0.08989068283414561, 0.15386326484446006, 0.07128876479121819, 0.09411641224235553], [0.0, 0.25618964671802247, 0.08489157946728582, 0.06924566890793328, 0.07155084617583944, 0.08883427997468549, 0.0964046842596956, 0.1599116446826189, 0.07463239094641795, 0.0983392611371215], [0.0, 0.24835948412702016, 0.08238105673167972, 0.0740990413743359, 0.07853087664372257, 0.08671947345037107, 0.09095232907054067, 0.1566712931311673, 0.0801516109478045, 0.10213483666925346], [0.0, 0.24489278245035204, 0.08181869362393927, 0.06833822470800696, 0.07757881971035385, 0.08647048141862597, 0.0950749791192185, 0.16902629805759042, 0.07968611954681122, 0.09711360354826648], [0.0, 0.24097377201672893, 0.08820352682480288, 0.07075472382186584, 0.07765539268100172, 0.08355242537891586, 0.0932885669670242, 0.1656854369921505, 0.08203661294180463, 0.09784954480824874], [0.0, 0.24671340156809074, 0.08178790416345333, 0.06653023657061205, 0.07832015503780074, 0.08823601263708197, 0.09929582667478082, 0.14829496706181988, 0.09132623501988633, 0.09949526332701449]], \"type\": \"heatmap\"}], {\"xaxis\": {\"title\": \"Predicted Class\", \"dtick\": 1, \"range\": [0.5, 9.5], \"tickcolor\": \"#FFF\"}, \"plot_bgcolor\": \"#000\", \"titlefont\": {\"color\": \"#FFF\"}, \"paper_bgcolor\": \"#000\", \"height\": 500, \"yaxis\": {\"title\": \"True Class\", \"dtick\": 1, \"range\": [9.5, 0.5], \"tickcolor\": \"#FFF\"}, \"title\": \"Confidence after 1000 Iterations at Glimpse 9\", \"font\": {\"color\": \"#FFF\"}, \"width\": 500}, {\"showLink\": true, \"linkText\": \"Export to plot.ly\"})});</script>"
      ],
      "text/vnd.plotly.v1+html": [
       "<div id=\"f0843532-7869-459b-a6e0-fcf4acb127dc\" style=\"height: 500px; width: 500px;\" class=\"plotly-graph-div\"></div><script type=\"text/javascript\">require([\"plotly\"], function(Plotly) { window.PLOTLYENV=window.PLOTLYENV || {};window.PLOTLYENV.BASE_URL=\"https://plot.ly\";Plotly.newPlot(\"f0843532-7869-459b-a6e0-fcf4acb127dc\", [{\"colorscale\": \"Jet\", \"z\": [[0.0, 0.0, 0.0, 0.0, 0.0, 0.0, 0.0, 0.0, 0.0, 0.0], [0.0, 0.46756367396894516, 0.07825205901025196, 0.056783594288917036, 0.052393253399872095, 0.05801890905949704, 0.06728673768845654, 0.10639347426531794, 0.04582076210279479, 0.06748754065471982], [0.0, 0.34443430316058804, 0.0869450878614084, 0.07193467113887182, 0.06781204037977799, 0.07253298319133639, 0.08152991991665651, 0.13304654672884444, 0.05653902231242819, 0.08522542748643516], [0.0, 0.29107168193269106, 0.08282929802131711, 0.07064645437889273, 0.07247484826283287, 0.07725845418049962, 0.09379729739645151, 0.1526978038600839, 0.06721581704203435, 0.09200834731697177], [0.0, 0.26747990202903976, 0.08606062101845743, 0.07578879574864152, 0.07659364063849533, 0.08491791829744857, 0.08989068283414561, 0.15386326484446006, 0.07128876479121819, 0.09411641224235553], [0.0, 0.25618964671802247, 0.08489157946728582, 0.06924566890793328, 0.07155084617583944, 0.08883427997468549, 0.0964046842596956, 0.1599116446826189, 0.07463239094641795, 0.0983392611371215], [0.0, 0.24835948412702016, 0.08238105673167972, 0.0740990413743359, 0.07853087664372257, 0.08671947345037107, 0.09095232907054067, 0.1566712931311673, 0.0801516109478045, 0.10213483666925346], [0.0, 0.24489278245035204, 0.08181869362393927, 0.06833822470800696, 0.07757881971035385, 0.08647048141862597, 0.0950749791192185, 0.16902629805759042, 0.07968611954681122, 0.09711360354826648], [0.0, 0.24097377201672893, 0.08820352682480288, 0.07075472382186584, 0.07765539268100172, 0.08355242537891586, 0.0932885669670242, 0.1656854369921505, 0.08203661294180463, 0.09784954480824874], [0.0, 0.24671340156809074, 0.08178790416345333, 0.06653023657061205, 0.07832015503780074, 0.08823601263708197, 0.09929582667478082, 0.14829496706181988, 0.09132623501988633, 0.09949526332701449]], \"type\": \"heatmap\"}], {\"xaxis\": {\"title\": \"Predicted Class\", \"dtick\": 1, \"range\": [0.5, 9.5], \"tickcolor\": \"#FFF\"}, \"plot_bgcolor\": \"#000\", \"titlefont\": {\"color\": \"#FFF\"}, \"paper_bgcolor\": \"#000\", \"height\": 500, \"yaxis\": {\"title\": \"True Class\", \"dtick\": 1, \"range\": [9.5, 0.5], \"tickcolor\": \"#FFF\"}, \"title\": \"Confidence after 1000 Iterations at Glimpse 9\", \"font\": {\"color\": \"#FFF\"}, \"width\": 500}, {\"showLink\": true, \"linkText\": \"Export to plot.ly\"})});</script>"
      ]
     },
     "metadata": {},
     "output_type": "display_data"
    },
    {
     "data": {
      "application/vnd.plotly.v1+json": {
       "data": [
        {
         "colorscale": "Jet",
         "type": "heatmap",
         "z": [
          [
           0,
           0,
           0,
           0,
           0,
           0,
           0,
           0,
           0,
           0
          ],
          [
           0,
           0.47450000000000003,
           0.07450000000000001,
           0.05720000000000001,
           0.0519,
           0.05660000000000002,
           0.0668,
           0.10500000000000001,
           0.046200000000000005,
           0.0673
          ],
          [
           0,
           0.34750000000000003,
           0.08659999999999998,
           0.0718,
           0.0674,
           0.07200000000000001,
           0.08080000000000001,
           0.1329,
           0.055400000000000005,
           0.0856
          ],
          [
           0,
           0.2918,
           0.0814,
           0.0703,
           0.07350000000000001,
           0.07620000000000002,
           0.0935,
           0.1535,
           0.0673,
           0.0925
          ],
          [
           0,
           0.26710000000000006,
           0.0861,
           0.0759,
           0.07640000000000001,
           0.08570000000000001,
           0.09,
           0.1544,
           0.07089999999999999,
           0.0935
          ],
          [
           0,
           0.25630000000000003,
           0.08500000000000002,
           0.0696,
           0.07150000000000001,
           0.0889,
           0.0966,
           0.15919999999999998,
           0.0745,
           0.0984
          ],
          [
           0,
           0.2492,
           0.08150000000000002,
           0.07460000000000001,
           0.0782,
           0.0871,
           0.09030000000000002,
           0.1567,
           0.07970000000000001,
           0.10270000000000001
          ],
          [
           0,
           0.24619999999999997,
           0.08100000000000002,
           0.06910000000000001,
           0.07690000000000001,
           0.08650000000000001,
           0.09419999999999999,
           0.16920000000000002,
           0.07930000000000001,
           0.0976
          ],
          [
           0,
           0.2404,
           0.08860000000000001,
           0.07010000000000001,
           0.0774,
           0.08349999999999999,
           0.09390000000000001,
           0.1662,
           0.08180000000000001,
           0.09809999999999999
          ],
          [
           0,
           0.24659999999999999,
           0.08270000000000002,
           0.06609999999999999,
           0.07790000000000001,
           0.08800000000000001,
           0.0998,
           0.1476,
           0.0916,
           0.09970000000000001
          ]
         ]
        }
       ],
       "layout": {
        "font": {
         "color": "#FFF"
        },
        "height": 500,
        "paper_bgcolor": "#000",
        "plot_bgcolor": "#000",
        "title": "Choice after 1000 Iterations at Glimpse 9",
        "titlefont": {
         "color": "#FFF"
        },
        "width": 500,
        "xaxis": {
         "dtick": 1,
         "range": [
          0.5,
          9.5
         ],
         "tickcolor": "#FFF",
         "title": "Predicted Class"
        },
        "yaxis": {
         "dtick": 1,
         "range": [
          9.5,
          0.5
         ],
         "tickcolor": "#FFF",
         "title": "True Class"
        }
       }
      },
      "text/html": [
       "<div id=\"ceb2b576-bde1-4910-9ccf-164396b696c5\" style=\"height: 500px; width: 500px;\" class=\"plotly-graph-div\"></div><script type=\"text/javascript\">require([\"plotly\"], function(Plotly) { window.PLOTLYENV=window.PLOTLYENV || {};window.PLOTLYENV.BASE_URL=\"https://plot.ly\";Plotly.newPlot(\"ceb2b576-bde1-4910-9ccf-164396b696c5\", [{\"colorscale\": \"Jet\", \"z\": [[0.0, 0.0, 0.0, 0.0, 0.0, 0.0, 0.0, 0.0, 0.0, 0.0], [0.0, 0.47450000000000003, 0.07450000000000001, 0.05720000000000001, 0.0519, 0.05660000000000002, 0.0668, 0.10500000000000001, 0.046200000000000005, 0.0673], [0.0, 0.34750000000000003, 0.08659999999999998, 0.0718, 0.0674, 0.07200000000000001, 0.08080000000000001, 0.1329, 0.055400000000000005, 0.0856], [0.0, 0.2918, 0.0814, 0.0703, 0.07350000000000001, 0.07620000000000002, 0.0935, 0.1535, 0.0673, 0.0925], [0.0, 0.26710000000000006, 0.0861, 0.0759, 0.07640000000000001, 0.08570000000000001, 0.09, 0.1544, 0.07089999999999999, 0.0935], [0.0, 0.25630000000000003, 0.08500000000000002, 0.0696, 0.07150000000000001, 0.0889, 0.0966, 0.15919999999999998, 0.0745, 0.0984], [0.0, 0.2492, 0.08150000000000002, 0.07460000000000001, 0.0782, 0.0871, 0.09030000000000002, 0.1567, 0.07970000000000001, 0.10270000000000001], [0.0, 0.24619999999999997, 0.08100000000000002, 0.06910000000000001, 0.07690000000000001, 0.08650000000000001, 0.09419999999999999, 0.16920000000000002, 0.07930000000000001, 0.0976], [0.0, 0.2404, 0.08860000000000001, 0.07010000000000001, 0.0774, 0.08349999999999999, 0.09390000000000001, 0.1662, 0.08180000000000001, 0.09809999999999999], [0.0, 0.24659999999999999, 0.08270000000000002, 0.06609999999999999, 0.07790000000000001, 0.08800000000000001, 0.0998, 0.1476, 0.0916, 0.09970000000000001]], \"type\": \"heatmap\"}], {\"xaxis\": {\"title\": \"Predicted Class\", \"dtick\": 1, \"range\": [0.5, 9.5], \"tickcolor\": \"#FFF\"}, \"plot_bgcolor\": \"#000\", \"titlefont\": {\"color\": \"#FFF\"}, \"paper_bgcolor\": \"#000\", \"height\": 500, \"yaxis\": {\"title\": \"True Class\", \"dtick\": 1, \"range\": [9.5, 0.5], \"tickcolor\": \"#FFF\"}, \"title\": \"Choice after 1000 Iterations at Glimpse 9\", \"font\": {\"color\": \"#FFF\"}, \"width\": 500}, {\"showLink\": true, \"linkText\": \"Export to plot.ly\"})});</script>"
      ],
      "text/vnd.plotly.v1+html": [
       "<div id=\"ceb2b576-bde1-4910-9ccf-164396b696c5\" style=\"height: 500px; width: 500px;\" class=\"plotly-graph-div\"></div><script type=\"text/javascript\">require([\"plotly\"], function(Plotly) { window.PLOTLYENV=window.PLOTLYENV || {};window.PLOTLYENV.BASE_URL=\"https://plot.ly\";Plotly.newPlot(\"ceb2b576-bde1-4910-9ccf-164396b696c5\", [{\"colorscale\": \"Jet\", \"z\": [[0.0, 0.0, 0.0, 0.0, 0.0, 0.0, 0.0, 0.0, 0.0, 0.0], [0.0, 0.47450000000000003, 0.07450000000000001, 0.05720000000000001, 0.0519, 0.05660000000000002, 0.0668, 0.10500000000000001, 0.046200000000000005, 0.0673], [0.0, 0.34750000000000003, 0.08659999999999998, 0.0718, 0.0674, 0.07200000000000001, 0.08080000000000001, 0.1329, 0.055400000000000005, 0.0856], [0.0, 0.2918, 0.0814, 0.0703, 0.07350000000000001, 0.07620000000000002, 0.0935, 0.1535, 0.0673, 0.0925], [0.0, 0.26710000000000006, 0.0861, 0.0759, 0.07640000000000001, 0.08570000000000001, 0.09, 0.1544, 0.07089999999999999, 0.0935], [0.0, 0.25630000000000003, 0.08500000000000002, 0.0696, 0.07150000000000001, 0.0889, 0.0966, 0.15919999999999998, 0.0745, 0.0984], [0.0, 0.2492, 0.08150000000000002, 0.07460000000000001, 0.0782, 0.0871, 0.09030000000000002, 0.1567, 0.07970000000000001, 0.10270000000000001], [0.0, 0.24619999999999997, 0.08100000000000002, 0.06910000000000001, 0.07690000000000001, 0.08650000000000001, 0.09419999999999999, 0.16920000000000002, 0.07930000000000001, 0.0976], [0.0, 0.2404, 0.08860000000000001, 0.07010000000000001, 0.0774, 0.08349999999999999, 0.09390000000000001, 0.1662, 0.08180000000000001, 0.09809999999999999], [0.0, 0.24659999999999999, 0.08270000000000002, 0.06609999999999999, 0.07790000000000001, 0.08800000000000001, 0.0998, 0.1476, 0.0916, 0.09970000000000001]], \"type\": \"heatmap\"}], {\"xaxis\": {\"title\": \"Predicted Class\", \"dtick\": 1, \"range\": [0.5, 9.5], \"tickcolor\": \"#FFF\"}, \"plot_bgcolor\": \"#000\", \"titlefont\": {\"color\": \"#FFF\"}, \"paper_bgcolor\": \"#000\", \"height\": 500, \"yaxis\": {\"title\": \"True Class\", \"dtick\": 1, \"range\": [9.5, 0.5], \"tickcolor\": \"#FFF\"}, \"title\": \"Choice after 1000 Iterations at Glimpse 9\", \"font\": {\"color\": \"#FFF\"}, \"width\": 500}, {\"showLink\": true, \"linkText\": \"Export to plot.ly\"})});</script>"
      ]
     },
     "metadata": {},
     "output_type": "display_data"
    },
    {
     "data": {
      "application/vnd.plotly.v1+json": {
       "data": [
        {
         "colorscale": "Jet",
         "type": "heatmap",
         "z": [
          [
           0,
           0,
           0,
           0,
           0,
           0,
           0,
           0,
           0,
           0
          ],
          [
           0,
           0.4765854094177578,
           0.1877336423539707,
           0.06569342394406642,
           0.0531101393711079,
           0.058070572840062396,
           0.04525385533272549,
           0.056271854320201674,
           0.03061089749577728,
           0.02667020655264888
          ],
          [
           0,
           0.37925629017087276,
           0.16386712538967393,
           0.07929650633380278,
           0.06113453068935961,
           0.074028408618963,
           0.06670030201782783,
           0.08909115203946559,
           0.0454164810420866,
           0.0412092059201772
          ],
          [
           0,
           0.3168750988245948,
           0.1469768426679714,
           0.07764133941917285,
           0.06630561584099245,
           0.0929020943489843,
           0.0802605705789179,
           0.11062318025253357,
           0.057511597489810884,
           0.050903662561674404
          ],
          [
           0,
           0.28000692923280696,
           0.1326363084230753,
           0.08389229836141869,
           0.07509131445966169,
           0.10149080502134641,
           0.08895356225707875,
           0.1216723135050876,
           0.06259113188688051,
           0.053665339291517025
          ],
          [
           0,
           0.24407292700934527,
           0.1288049379125449,
           0.083885990873142,
           0.07518315929100303,
           0.10563631210139286,
           0.09832349852483156,
           0.13656966396346365,
           0.06595927923426542,
           0.06156423435030169
          ],
          [
           0,
           0.23479260184802114,
           0.12321148196591025,
           0.0823175862496179,
           0.07374604181044288,
           0.10823856150730804,
           0.09651357224408301,
           0.14192603444549623,
           0.0714453658257931,
           0.06780875585497839
          ],
          [
           0,
           0.2238998974915559,
           0.12209388305019012,
           0.08071579169309703,
           0.07972232248433254,
           0.10332363084388003,
           0.10146529422383624,
           0.14238690460261355,
           0.07825991453273129,
           0.0681323648161074
          ],
          [
           0,
           0.21865999547811582,
           0.11159428898796457,
           0.0831546403157046,
           0.08004671000252359,
           0.10722110823594164,
           0.1064556996634138,
           0.141879563688679,
           0.07998655544474245,
           0.0710014410728498
          ],
          [
           0,
           0.20702179753501912,
           0.11225034387648762,
           0.08155207581964982,
           0.07932436226105992,
           0.1099082683398818,
           0.1093769344957392,
           0.1448792320003441,
           0.08192896561335947,
           0.07375802316219097
          ]
         ]
        }
       ],
       "layout": {
        "font": {
         "color": "#FFF"
        },
        "height": 500,
        "paper_bgcolor": "#000",
        "plot_bgcolor": "#000",
        "title": "Confidence after 4000 Iterations at Glimpse 0",
        "titlefont": {
         "color": "#FFF"
        },
        "width": 500,
        "xaxis": {
         "dtick": 1,
         "range": [
          0.5,
          9.5
         ],
         "tickcolor": "#FFF",
         "title": "Predicted Class"
        },
        "yaxis": {
         "dtick": 1,
         "range": [
          9.5,
          0.5
         ],
         "tickcolor": "#FFF",
         "title": "True Class"
        }
       }
      },
      "text/html": [
       "<div id=\"3cbe8ca2-fa62-458c-8215-739e0a64e250\" style=\"height: 500px; width: 500px;\" class=\"plotly-graph-div\"></div><script type=\"text/javascript\">require([\"plotly\"], function(Plotly) { window.PLOTLYENV=window.PLOTLYENV || {};window.PLOTLYENV.BASE_URL=\"https://plot.ly\";Plotly.newPlot(\"3cbe8ca2-fa62-458c-8215-739e0a64e250\", [{\"colorscale\": \"Jet\", \"z\": [[0.0, 0.0, 0.0, 0.0, 0.0, 0.0, 0.0, 0.0, 0.0, 0.0], [0.0, 0.4765854094177578, 0.1877336423539707, 0.06569342394406642, 0.0531101393711079, 0.058070572840062396, 0.04525385533272549, 0.056271854320201674, 0.03061089749577728, 0.02667020655264888], [0.0, 0.37925629017087276, 0.16386712538967393, 0.07929650633380278, 0.06113453068935961, 0.074028408618963, 0.06670030201782783, 0.08909115203946559, 0.0454164810420866, 0.0412092059201772], [0.0, 0.3168750988245948, 0.1469768426679714, 0.07764133941917285, 0.06630561584099245, 0.0929020943489843, 0.0802605705789179, 0.11062318025253357, 0.057511597489810884, 0.050903662561674404], [0.0, 0.28000692923280696, 0.1326363084230753, 0.08389229836141869, 0.07509131445966169, 0.10149080502134641, 0.08895356225707875, 0.1216723135050876, 0.06259113188688051, 0.053665339291517025], [0.0, 0.24407292700934527, 0.1288049379125449, 0.083885990873142, 0.07518315929100303, 0.10563631210139286, 0.09832349852483156, 0.13656966396346365, 0.06595927923426542, 0.06156423435030169], [0.0, 0.23479260184802114, 0.12321148196591025, 0.0823175862496179, 0.07374604181044288, 0.10823856150730804, 0.09651357224408301, 0.14192603444549623, 0.0714453658257931, 0.06780875585497839], [0.0, 0.2238998974915559, 0.12209388305019012, 0.08071579169309703, 0.07972232248433254, 0.10332363084388003, 0.10146529422383624, 0.14238690460261355, 0.07825991453273129, 0.0681323648161074], [0.0, 0.21865999547811582, 0.11159428898796457, 0.0831546403157046, 0.08004671000252359, 0.10722110823594164, 0.1064556996634138, 0.141879563688679, 0.07998655544474245, 0.0710014410728498], [0.0, 0.20702179753501912, 0.11225034387648762, 0.08155207581964982, 0.07932436226105992, 0.1099082683398818, 0.1093769344957392, 0.1448792320003441, 0.08192896561335947, 0.07375802316219097]], \"type\": \"heatmap\"}], {\"xaxis\": {\"title\": \"Predicted Class\", \"dtick\": 1, \"range\": [0.5, 9.5], \"tickcolor\": \"#FFF\"}, \"plot_bgcolor\": \"#000\", \"titlefont\": {\"color\": \"#FFF\"}, \"paper_bgcolor\": \"#000\", \"height\": 500, \"yaxis\": {\"title\": \"True Class\", \"dtick\": 1, \"range\": [9.5, 0.5], \"tickcolor\": \"#FFF\"}, \"title\": \"Confidence after 4000 Iterations at Glimpse 0\", \"font\": {\"color\": \"#FFF\"}, \"width\": 500}, {\"showLink\": true, \"linkText\": \"Export to plot.ly\"})});</script>"
      ],
      "text/vnd.plotly.v1+html": [
       "<div id=\"3cbe8ca2-fa62-458c-8215-739e0a64e250\" style=\"height: 500px; width: 500px;\" class=\"plotly-graph-div\"></div><script type=\"text/javascript\">require([\"plotly\"], function(Plotly) { window.PLOTLYENV=window.PLOTLYENV || {};window.PLOTLYENV.BASE_URL=\"https://plot.ly\";Plotly.newPlot(\"3cbe8ca2-fa62-458c-8215-739e0a64e250\", [{\"colorscale\": \"Jet\", \"z\": [[0.0, 0.0, 0.0, 0.0, 0.0, 0.0, 0.0, 0.0, 0.0, 0.0], [0.0, 0.4765854094177578, 0.1877336423539707, 0.06569342394406642, 0.0531101393711079, 0.058070572840062396, 0.04525385533272549, 0.056271854320201674, 0.03061089749577728, 0.02667020655264888], [0.0, 0.37925629017087276, 0.16386712538967393, 0.07929650633380278, 0.06113453068935961, 0.074028408618963, 0.06670030201782783, 0.08909115203946559, 0.0454164810420866, 0.0412092059201772], [0.0, 0.3168750988245948, 0.1469768426679714, 0.07764133941917285, 0.06630561584099245, 0.0929020943489843, 0.0802605705789179, 0.11062318025253357, 0.057511597489810884, 0.050903662561674404], [0.0, 0.28000692923280696, 0.1326363084230753, 0.08389229836141869, 0.07509131445966169, 0.10149080502134641, 0.08895356225707875, 0.1216723135050876, 0.06259113188688051, 0.053665339291517025], [0.0, 0.24407292700934527, 0.1288049379125449, 0.083885990873142, 0.07518315929100303, 0.10563631210139286, 0.09832349852483156, 0.13656966396346365, 0.06595927923426542, 0.06156423435030169], [0.0, 0.23479260184802114, 0.12321148196591025, 0.0823175862496179, 0.07374604181044288, 0.10823856150730804, 0.09651357224408301, 0.14192603444549623, 0.0714453658257931, 0.06780875585497839], [0.0, 0.2238998974915559, 0.12209388305019012, 0.08071579169309703, 0.07972232248433254, 0.10332363084388003, 0.10146529422383624, 0.14238690460261355, 0.07825991453273129, 0.0681323648161074], [0.0, 0.21865999547811582, 0.11159428898796457, 0.0831546403157046, 0.08004671000252359, 0.10722110823594164, 0.1064556996634138, 0.141879563688679, 0.07998655544474245, 0.0710014410728498], [0.0, 0.20702179753501912, 0.11225034387648762, 0.08155207581964982, 0.07932436226105992, 0.1099082683398818, 0.1093769344957392, 0.1448792320003441, 0.08192896561335947, 0.07375802316219097]], \"type\": \"heatmap\"}], {\"xaxis\": {\"title\": \"Predicted Class\", \"dtick\": 1, \"range\": [0.5, 9.5], \"tickcolor\": \"#FFF\"}, \"plot_bgcolor\": \"#000\", \"titlefont\": {\"color\": \"#FFF\"}, \"paper_bgcolor\": \"#000\", \"height\": 500, \"yaxis\": {\"title\": \"True Class\", \"dtick\": 1, \"range\": [9.5, 0.5], \"tickcolor\": \"#FFF\"}, \"title\": \"Confidence after 4000 Iterations at Glimpse 0\", \"font\": {\"color\": \"#FFF\"}, \"width\": 500}, {\"showLink\": true, \"linkText\": \"Export to plot.ly\"})});</script>"
      ]
     },
     "metadata": {},
     "output_type": "display_data"
    },
    {
     "data": {
      "application/vnd.plotly.v1+json": {
       "data": [
        {
         "colorscale": "Jet",
         "type": "heatmap",
         "z": [
          [
           0,
           0,
           0,
           0,
           0,
           0,
           0,
           0,
           0,
           0
          ],
          [
           0,
           0.6678,
           0.0839,
           0.03810000000000001,
           0.03320000000000001,
           0.044300000000000006,
           0.0383,
           0.0489,
           0.0243,
           0.021200000000000004
          ],
          [
           0,
           0.47990000000000005,
           0.1165,
           0.0658,
           0.0499,
           0.06520000000000001,
           0.06349999999999999,
           0.08309999999999998,
           0.0396,
           0.036500000000000005
          ],
          [
           0,
           0.3683,
           0.1253,
           0.0704,
           0.05900000000000001,
           0.08780000000000002,
           0.0781,
           0.10749999999999997,
           0.0551,
           0.0485
          ],
          [
           0,
           0.3068000000000001,
           0.1213,
           0.0814,
           0.07250000000000001,
           0.098,
           0.0868,
           0.11979999999999999,
           0.06,
           0.0534
          ],
          [
           0,
           0.2583,
           0.12419999999999998,
           0.08259999999999999,
           0.07150000000000001,
           0.1045,
           0.0988,
           0.1354,
           0.06390000000000001,
           0.0608
          ],
          [
           0,
           0.24429999999999996,
           0.1213,
           0.08070000000000001,
           0.07299999999999998,
           0.10719999999999999,
           0.0961,
           0.14020000000000002,
           0.0703,
           0.0669
          ],
          [
           0,
           0.22849999999999998,
           0.12009999999999998,
           0.08080000000000001,
           0.07999999999999999,
           0.1022,
           0.1018,
           0.1411,
           0.0774,
           0.06810000000000001
          ],
          [
           0,
           0.22240000000000001,
           0.1115,
           0.0825,
           0.07960000000000002,
           0.1059,
           0.1069,
           0.14200000000000002,
           0.0792,
           0.07
          ],
          [
           0,
           0.20800000000000002,
           0.11299999999999999,
           0.08050000000000002,
           0.0788,
           0.11079999999999998,
           0.10979999999999998,
           0.14440000000000003,
           0.0811,
           0.07360000000000001
          ]
         ]
        }
       ],
       "layout": {
        "font": {
         "color": "#FFF"
        },
        "height": 500,
        "paper_bgcolor": "#000",
        "plot_bgcolor": "#000",
        "title": "Choice after 4000 Iterations at Glimpse 0",
        "titlefont": {
         "color": "#FFF"
        },
        "width": 500,
        "xaxis": {
         "dtick": 1,
         "range": [
          0.5,
          9.5
         ],
         "tickcolor": "#FFF",
         "title": "Predicted Class"
        },
        "yaxis": {
         "dtick": 1,
         "range": [
          9.5,
          0.5
         ],
         "tickcolor": "#FFF",
         "title": "True Class"
        }
       }
      },
      "text/html": [
       "<div id=\"65db8718-2590-407d-ae54-35ad2d572f83\" style=\"height: 500px; width: 500px;\" class=\"plotly-graph-div\"></div><script type=\"text/javascript\">require([\"plotly\"], function(Plotly) { window.PLOTLYENV=window.PLOTLYENV || {};window.PLOTLYENV.BASE_URL=\"https://plot.ly\";Plotly.newPlot(\"65db8718-2590-407d-ae54-35ad2d572f83\", [{\"colorscale\": \"Jet\", \"z\": [[0.0, 0.0, 0.0, 0.0, 0.0, 0.0, 0.0, 0.0, 0.0, 0.0], [0.0, 0.6678, 0.0839, 0.03810000000000001, 0.03320000000000001, 0.044300000000000006, 0.0383, 0.0489, 0.0243, 0.021200000000000004], [0.0, 0.47990000000000005, 0.1165, 0.0658, 0.0499, 0.06520000000000001, 0.06349999999999999, 0.08309999999999998, 0.0396, 0.036500000000000005], [0.0, 0.3683, 0.1253, 0.0704, 0.05900000000000001, 0.08780000000000002, 0.0781, 0.10749999999999997, 0.0551, 0.0485], [0.0, 0.3068000000000001, 0.1213, 0.0814, 0.07250000000000001, 0.098, 0.0868, 0.11979999999999999, 0.06, 0.0534], [0.0, 0.2583, 0.12419999999999998, 0.08259999999999999, 0.07150000000000001, 0.1045, 0.0988, 0.1354, 0.06390000000000001, 0.0608], [0.0, 0.24429999999999996, 0.1213, 0.08070000000000001, 0.07299999999999998, 0.10719999999999999, 0.0961, 0.14020000000000002, 0.0703, 0.0669], [0.0, 0.22849999999999998, 0.12009999999999998, 0.08080000000000001, 0.07999999999999999, 0.1022, 0.1018, 0.1411, 0.0774, 0.06810000000000001], [0.0, 0.22240000000000001, 0.1115, 0.0825, 0.07960000000000002, 0.1059, 0.1069, 0.14200000000000002, 0.0792, 0.07], [0.0, 0.20800000000000002, 0.11299999999999999, 0.08050000000000002, 0.0788, 0.11079999999999998, 0.10979999999999998, 0.14440000000000003, 0.0811, 0.07360000000000001]], \"type\": \"heatmap\"}], {\"xaxis\": {\"title\": \"Predicted Class\", \"dtick\": 1, \"range\": [0.5, 9.5], \"tickcolor\": \"#FFF\"}, \"plot_bgcolor\": \"#000\", \"titlefont\": {\"color\": \"#FFF\"}, \"paper_bgcolor\": \"#000\", \"height\": 500, \"yaxis\": {\"title\": \"True Class\", \"dtick\": 1, \"range\": [9.5, 0.5], \"tickcolor\": \"#FFF\"}, \"title\": \"Choice after 4000 Iterations at Glimpse 0\", \"font\": {\"color\": \"#FFF\"}, \"width\": 500}, {\"showLink\": true, \"linkText\": \"Export to plot.ly\"})});</script>"
      ],
      "text/vnd.plotly.v1+html": [
       "<div id=\"65db8718-2590-407d-ae54-35ad2d572f83\" style=\"height: 500px; width: 500px;\" class=\"plotly-graph-div\"></div><script type=\"text/javascript\">require([\"plotly\"], function(Plotly) { window.PLOTLYENV=window.PLOTLYENV || {};window.PLOTLYENV.BASE_URL=\"https://plot.ly\";Plotly.newPlot(\"65db8718-2590-407d-ae54-35ad2d572f83\", [{\"colorscale\": \"Jet\", \"z\": [[0.0, 0.0, 0.0, 0.0, 0.0, 0.0, 0.0, 0.0, 0.0, 0.0], [0.0, 0.6678, 0.0839, 0.03810000000000001, 0.03320000000000001, 0.044300000000000006, 0.0383, 0.0489, 0.0243, 0.021200000000000004], [0.0, 0.47990000000000005, 0.1165, 0.0658, 0.0499, 0.06520000000000001, 0.06349999999999999, 0.08309999999999998, 0.0396, 0.036500000000000005], [0.0, 0.3683, 0.1253, 0.0704, 0.05900000000000001, 0.08780000000000002, 0.0781, 0.10749999999999997, 0.0551, 0.0485], [0.0, 0.3068000000000001, 0.1213, 0.0814, 0.07250000000000001, 0.098, 0.0868, 0.11979999999999999, 0.06, 0.0534], [0.0, 0.2583, 0.12419999999999998, 0.08259999999999999, 0.07150000000000001, 0.1045, 0.0988, 0.1354, 0.06390000000000001, 0.0608], [0.0, 0.24429999999999996, 0.1213, 0.08070000000000001, 0.07299999999999998, 0.10719999999999999, 0.0961, 0.14020000000000002, 0.0703, 0.0669], [0.0, 0.22849999999999998, 0.12009999999999998, 0.08080000000000001, 0.07999999999999999, 0.1022, 0.1018, 0.1411, 0.0774, 0.06810000000000001], [0.0, 0.22240000000000001, 0.1115, 0.0825, 0.07960000000000002, 0.1059, 0.1069, 0.14200000000000002, 0.0792, 0.07], [0.0, 0.20800000000000002, 0.11299999999999999, 0.08050000000000002, 0.0788, 0.11079999999999998, 0.10979999999999998, 0.14440000000000003, 0.0811, 0.07360000000000001]], \"type\": \"heatmap\"}], {\"xaxis\": {\"title\": \"Predicted Class\", \"dtick\": 1, \"range\": [0.5, 9.5], \"tickcolor\": \"#FFF\"}, \"plot_bgcolor\": \"#000\", \"titlefont\": {\"color\": \"#FFF\"}, \"paper_bgcolor\": \"#000\", \"height\": 500, \"yaxis\": {\"title\": \"True Class\", \"dtick\": 1, \"range\": [9.5, 0.5], \"tickcolor\": \"#FFF\"}, \"title\": \"Choice after 4000 Iterations at Glimpse 0\", \"font\": {\"color\": \"#FFF\"}, \"width\": 500}, {\"showLink\": true, \"linkText\": \"Export to plot.ly\"})});</script>"
      ]
     },
     "metadata": {},
     "output_type": "display_data"
    },
    {
     "data": {
      "application/vnd.plotly.v1+json": {
       "data": [
        {
         "colorscale": "Jet",
         "type": "heatmap",
         "z": [
          [
           0,
           0,
           0,
           0,
           0,
           0,
           0,
           0,
           0,
           0
          ],
          [
           0,
           0.6092698761666078,
           0.1978851272524388,
           0.06267517878442269,
           0.03687763504210923,
           0.03125498236651568,
           0.02256718778563225,
           0.021415290049470053,
           0.010211131148004465,
           0.007843596299589273
          ],
          [
           0,
           0.497692621473855,
           0.20501328011491907,
           0.08423963428869363,
           0.05391441750704155,
           0.04956714701251638,
           0.03860827658699957,
           0.038546800353387936,
           0.018054847649958912,
           0.014362977890697643
          ],
          [
           0,
           0.4216120708959455,
           0.20757500735986562,
           0.09107507263075856,
           0.06025469367894702,
           0.05961648340827763,
           0.05580791623467997,
           0.05470836898294067,
           0.029333901225836994,
           0.0200164881332048
          ],
          [
           0,
           0.37647261382438635,
           0.19549643319169863,
           0.09571967938577806,
           0.07278494687655818,
           0.06758647345461007,
           0.06236178426540112,
           0.07086526967898743,
           0.03606808211831761,
           0.02264471907933777
          ],
          [
           0,
           0.3378770352604867,
           0.1831294480183028,
           0.10123895899964104,
           0.08126466127013399,
           0.07876604122005185,
           0.07181536941675758,
           0.07416536358243767,
           0.04190118459871661,
           0.029841941077096083
          ],
          [
           0,
           0.30980097131195244,
           0.18264816312817225,
           0.09955698005104255,
           0.08255900156369231,
           0.08330023644968533,
           0.07724219344206942,
           0.08556283515756125,
           0.04758682529583055,
           0.03174279713151232
          ],
          [
           0,
           0.2981905057635744,
           0.17705873917740972,
           0.10510660908249023,
           0.08373920060022963,
           0.07995283047784306,
           0.08051857291201733,
           0.09132123729596389,
           0.0498738095297174,
           0.034238498119997955
          ],
          [
           0,
           0.27710852150587867,
           0.17928320965548591,
           0.10059216666552448,
           0.08909549079571621,
           0.08624108855626794,
           0.08378421365979208,
           0.09505208618986866,
           0.054318582237803045,
           0.034524643331849666
          ],
          [
           0,
           0.2780131118250296,
           0.1647601919366119,
           0.09985167437177797,
           0.08781285503947137,
           0.08855218518249275,
           0.08334397294959764,
           0.10145888316560062,
           0.05528176211414389,
           0.040925365910325244
          ]
         ]
        }
       ],
       "layout": {
        "font": {
         "color": "#FFF"
        },
        "height": 500,
        "paper_bgcolor": "#000",
        "plot_bgcolor": "#000",
        "title": "Confidence after 4000 Iterations at Glimpse 3",
        "titlefont": {
         "color": "#FFF"
        },
        "width": 500,
        "xaxis": {
         "dtick": 1,
         "range": [
          0.5,
          9.5
         ],
         "tickcolor": "#FFF",
         "title": "Predicted Class"
        },
        "yaxis": {
         "dtick": 1,
         "range": [
          9.5,
          0.5
         ],
         "tickcolor": "#FFF",
         "title": "True Class"
        }
       }
      },
      "text/html": [
       "<div id=\"f85efa9d-19b9-4608-8406-333dd5067bbd\" style=\"height: 500px; width: 500px;\" class=\"plotly-graph-div\"></div><script type=\"text/javascript\">require([\"plotly\"], function(Plotly) { window.PLOTLYENV=window.PLOTLYENV || {};window.PLOTLYENV.BASE_URL=\"https://plot.ly\";Plotly.newPlot(\"f85efa9d-19b9-4608-8406-333dd5067bbd\", [{\"colorscale\": \"Jet\", \"z\": [[0.0, 0.0, 0.0, 0.0, 0.0, 0.0, 0.0, 0.0, 0.0, 0.0], [0.0, 0.6092698761666078, 0.1978851272524388, 0.06267517878442269, 0.03687763504210923, 0.03125498236651568, 0.02256718778563225, 0.021415290049470053, 0.010211131148004465, 0.007843596299589273], [0.0, 0.497692621473855, 0.20501328011491907, 0.08423963428869363, 0.05391441750704155, 0.04956714701251638, 0.03860827658699957, 0.038546800353387936, 0.018054847649958912, 0.014362977890697643], [0.0, 0.4216120708959455, 0.20757500735986562, 0.09107507263075856, 0.06025469367894702, 0.05961648340827763, 0.05580791623467997, 0.05470836898294067, 0.029333901225836994, 0.0200164881332048], [0.0, 0.37647261382438635, 0.19549643319169863, 0.09571967938577806, 0.07278494687655818, 0.06758647345461007, 0.06236178426540112, 0.07086526967898743, 0.03606808211831761, 0.02264471907933777], [0.0, 0.3378770352604867, 0.1831294480183028, 0.10123895899964104, 0.08126466127013399, 0.07876604122005185, 0.07181536941675758, 0.07416536358243767, 0.04190118459871661, 0.029841941077096083], [0.0, 0.30980097131195244, 0.18264816312817225, 0.09955698005104255, 0.08255900156369231, 0.08330023644968533, 0.07724219344206942, 0.08556283515756125, 0.04758682529583055, 0.03174279713151232], [0.0, 0.2981905057635744, 0.17705873917740972, 0.10510660908249023, 0.08373920060022963, 0.07995283047784306, 0.08051857291201733, 0.09132123729596389, 0.0498738095297174, 0.034238498119997955], [0.0, 0.27710852150587867, 0.17928320965548591, 0.10059216666552448, 0.08909549079571621, 0.08624108855626794, 0.08378421365979208, 0.09505208618986866, 0.054318582237803045, 0.034524643331849666], [0.0, 0.2780131118250296, 0.1647601919366119, 0.09985167437177797, 0.08781285503947137, 0.08855218518249275, 0.08334397294959764, 0.10145888316560062, 0.05528176211414389, 0.040925365910325244]], \"type\": \"heatmap\"}], {\"xaxis\": {\"title\": \"Predicted Class\", \"dtick\": 1, \"range\": [0.5, 9.5], \"tickcolor\": \"#FFF\"}, \"plot_bgcolor\": \"#000\", \"titlefont\": {\"color\": \"#FFF\"}, \"paper_bgcolor\": \"#000\", \"height\": 500, \"yaxis\": {\"title\": \"True Class\", \"dtick\": 1, \"range\": [9.5, 0.5], \"tickcolor\": \"#FFF\"}, \"title\": \"Confidence after 4000 Iterations at Glimpse 3\", \"font\": {\"color\": \"#FFF\"}, \"width\": 500}, {\"showLink\": true, \"linkText\": \"Export to plot.ly\"})});</script>"
      ],
      "text/vnd.plotly.v1+html": [
       "<div id=\"f85efa9d-19b9-4608-8406-333dd5067bbd\" style=\"height: 500px; width: 500px;\" class=\"plotly-graph-div\"></div><script type=\"text/javascript\">require([\"plotly\"], function(Plotly) { window.PLOTLYENV=window.PLOTLYENV || {};window.PLOTLYENV.BASE_URL=\"https://plot.ly\";Plotly.newPlot(\"f85efa9d-19b9-4608-8406-333dd5067bbd\", [{\"colorscale\": \"Jet\", \"z\": [[0.0, 0.0, 0.0, 0.0, 0.0, 0.0, 0.0, 0.0, 0.0, 0.0], [0.0, 0.6092698761666078, 0.1978851272524388, 0.06267517878442269, 0.03687763504210923, 0.03125498236651568, 0.02256718778563225, 0.021415290049470053, 0.010211131148004465, 0.007843596299589273], [0.0, 0.497692621473855, 0.20501328011491907, 0.08423963428869363, 0.05391441750704155, 0.04956714701251638, 0.03860827658699957, 0.038546800353387936, 0.018054847649958912, 0.014362977890697643], [0.0, 0.4216120708959455, 0.20757500735986562, 0.09107507263075856, 0.06025469367894702, 0.05961648340827763, 0.05580791623467997, 0.05470836898294067, 0.029333901225836994, 0.0200164881332048], [0.0, 0.37647261382438635, 0.19549643319169863, 0.09571967938577806, 0.07278494687655818, 0.06758647345461007, 0.06236178426540112, 0.07086526967898743, 0.03606808211831761, 0.02264471907933777], [0.0, 0.3378770352604867, 0.1831294480183028, 0.10123895899964104, 0.08126466127013399, 0.07876604122005185, 0.07181536941675758, 0.07416536358243767, 0.04190118459871661, 0.029841941077096083], [0.0, 0.30980097131195244, 0.18264816312817225, 0.09955698005104255, 0.08255900156369231, 0.08330023644968533, 0.07724219344206942, 0.08556283515756125, 0.04758682529583055, 0.03174279713151232], [0.0, 0.2981905057635744, 0.17705873917740972, 0.10510660908249023, 0.08373920060022963, 0.07995283047784306, 0.08051857291201733, 0.09132123729596389, 0.0498738095297174, 0.034238498119997955], [0.0, 0.27710852150587867, 0.17928320965548591, 0.10059216666552448, 0.08909549079571621, 0.08624108855626794, 0.08378421365979208, 0.09505208618986866, 0.054318582237803045, 0.034524643331849666], [0.0, 0.2780131118250296, 0.1647601919366119, 0.09985167437177797, 0.08781285503947137, 0.08855218518249275, 0.08334397294959764, 0.10145888316560062, 0.05528176211414389, 0.040925365910325244]], \"type\": \"heatmap\"}], {\"xaxis\": {\"title\": \"Predicted Class\", \"dtick\": 1, \"range\": [0.5, 9.5], \"tickcolor\": \"#FFF\"}, \"plot_bgcolor\": \"#000\", \"titlefont\": {\"color\": \"#FFF\"}, \"paper_bgcolor\": \"#000\", \"height\": 500, \"yaxis\": {\"title\": \"True Class\", \"dtick\": 1, \"range\": [9.5, 0.5], \"tickcolor\": \"#FFF\"}, \"title\": \"Confidence after 4000 Iterations at Glimpse 3\", \"font\": {\"color\": \"#FFF\"}, \"width\": 500}, {\"showLink\": true, \"linkText\": \"Export to plot.ly\"})});</script>"
      ]
     },
     "metadata": {},
     "output_type": "display_data"
    },
    {
     "data": {
      "application/vnd.plotly.v1+json": {
       "data": [
        {
         "colorscale": "Jet",
         "type": "heatmap",
         "z": [
          [
           0,
           0,
           0,
           0,
           0,
           0,
           0,
           0,
           0,
           0
          ],
          [
           0,
           0.7194,
           0.12179999999999999,
           0.0482,
           0.02820000000000001,
           0.0256,
           0.021200000000000004,
           0.0188,
           0.009400000000000002,
           0.007400000000000001
          ],
          [
           0,
           0.5586,
           0.1686,
           0.0735,
           0.04820000000000001,
           0.0461,
           0.036300000000000006,
           0.0374,
           0.0177,
           0.013599999999999998
          ],
          [
           0,
           0.45549999999999996,
           0.19190000000000002,
           0.08380000000000001,
           0.055499999999999994,
           0.05700000000000001,
           0.05469999999999999,
           0.0531,
           0.0288,
           0.019700000000000002
          ],
          [
           0,
           0.3988,
           0.1869,
           0.0927,
           0.0688,
           0.066,
           0.0602,
           0.0696,
           0.035,
           0.022000000000000002
          ],
          [
           0,
           0.34839999999999993,
           0.17980000000000002,
           0.09920000000000001,
           0.0809,
           0.077,
           0.0712,
           0.07270000000000001,
           0.040900000000000006,
           0.0299
          ],
          [
           0,
           0.31729999999999997,
           0.18159999999999998,
           0.09759999999999999,
           0.08120000000000001,
           0.0829,
           0.0757,
           0.08549999999999999,
           0.0472,
           0.030999999999999993
          ],
          [
           0,
           0.3053,
           0.17459999999999998,
           0.1051,
           0.0827,
           0.07830000000000001,
           0.07899999999999999,
           0.0913,
           0.049300000000000004,
           0.0344
          ],
          [
           0,
           0.27969999999999995,
           0.1796,
           0.09970000000000001,
           0.08940000000000001,
           0.0863,
           0.08330000000000001,
           0.09369999999999999,
           0.0546,
           0.0337
          ],
          [
           0,
           0.2776,
           0.1666,
           0.1006,
           0.0874,
           0.0877,
           0.0829,
           0.10130000000000002,
           0.05500000000000001,
           0.040900000000000006
          ]
         ]
        }
       ],
       "layout": {
        "font": {
         "color": "#FFF"
        },
        "height": 500,
        "paper_bgcolor": "#000",
        "plot_bgcolor": "#000",
        "title": "Choice after 4000 Iterations at Glimpse 3",
        "titlefont": {
         "color": "#FFF"
        },
        "width": 500,
        "xaxis": {
         "dtick": 1,
         "range": [
          0.5,
          9.5
         ],
         "tickcolor": "#FFF",
         "title": "Predicted Class"
        },
        "yaxis": {
         "dtick": 1,
         "range": [
          9.5,
          0.5
         ],
         "tickcolor": "#FFF",
         "title": "True Class"
        }
       }
      },
      "text/html": [
       "<div id=\"91156322-a53a-4c7f-aa51-a1a067882c82\" style=\"height: 500px; width: 500px;\" class=\"plotly-graph-div\"></div><script type=\"text/javascript\">require([\"plotly\"], function(Plotly) { window.PLOTLYENV=window.PLOTLYENV || {};window.PLOTLYENV.BASE_URL=\"https://plot.ly\";Plotly.newPlot(\"91156322-a53a-4c7f-aa51-a1a067882c82\", [{\"colorscale\": \"Jet\", \"z\": [[0.0, 0.0, 0.0, 0.0, 0.0, 0.0, 0.0, 0.0, 0.0, 0.0], [0.0, 0.7194, 0.12179999999999999, 0.0482, 0.02820000000000001, 0.0256, 0.021200000000000004, 0.0188, 0.009400000000000002, 0.007400000000000001], [0.0, 0.5586, 0.1686, 0.0735, 0.04820000000000001, 0.0461, 0.036300000000000006, 0.0374, 0.0177, 0.013599999999999998], [0.0, 0.45549999999999996, 0.19190000000000002, 0.08380000000000001, 0.055499999999999994, 0.05700000000000001, 0.05469999999999999, 0.0531, 0.0288, 0.019700000000000002], [0.0, 0.3988, 0.1869, 0.0927, 0.0688, 0.066, 0.0602, 0.0696, 0.035, 0.022000000000000002], [0.0, 0.34839999999999993, 0.17980000000000002, 0.09920000000000001, 0.0809, 0.077, 0.0712, 0.07270000000000001, 0.040900000000000006, 0.0299], [0.0, 0.31729999999999997, 0.18159999999999998, 0.09759999999999999, 0.08120000000000001, 0.0829, 0.0757, 0.08549999999999999, 0.0472, 0.030999999999999993], [0.0, 0.3053, 0.17459999999999998, 0.1051, 0.0827, 0.07830000000000001, 0.07899999999999999, 0.0913, 0.049300000000000004, 0.0344], [0.0, 0.27969999999999995, 0.1796, 0.09970000000000001, 0.08940000000000001, 0.0863, 0.08330000000000001, 0.09369999999999999, 0.0546, 0.0337], [0.0, 0.2776, 0.1666, 0.1006, 0.0874, 0.0877, 0.0829, 0.10130000000000002, 0.05500000000000001, 0.040900000000000006]], \"type\": \"heatmap\"}], {\"xaxis\": {\"title\": \"Predicted Class\", \"dtick\": 1, \"range\": [0.5, 9.5], \"tickcolor\": \"#FFF\"}, \"plot_bgcolor\": \"#000\", \"titlefont\": {\"color\": \"#FFF\"}, \"paper_bgcolor\": \"#000\", \"height\": 500, \"yaxis\": {\"title\": \"True Class\", \"dtick\": 1, \"range\": [9.5, 0.5], \"tickcolor\": \"#FFF\"}, \"title\": \"Choice after 4000 Iterations at Glimpse 3\", \"font\": {\"color\": \"#FFF\"}, \"width\": 500}, {\"showLink\": true, \"linkText\": \"Export to plot.ly\"})});</script>"
      ],
      "text/vnd.plotly.v1+html": [
       "<div id=\"91156322-a53a-4c7f-aa51-a1a067882c82\" style=\"height: 500px; width: 500px;\" class=\"plotly-graph-div\"></div><script type=\"text/javascript\">require([\"plotly\"], function(Plotly) { window.PLOTLYENV=window.PLOTLYENV || {};window.PLOTLYENV.BASE_URL=\"https://plot.ly\";Plotly.newPlot(\"91156322-a53a-4c7f-aa51-a1a067882c82\", [{\"colorscale\": \"Jet\", \"z\": [[0.0, 0.0, 0.0, 0.0, 0.0, 0.0, 0.0, 0.0, 0.0, 0.0], [0.0, 0.7194, 0.12179999999999999, 0.0482, 0.02820000000000001, 0.0256, 0.021200000000000004, 0.0188, 0.009400000000000002, 0.007400000000000001], [0.0, 0.5586, 0.1686, 0.0735, 0.04820000000000001, 0.0461, 0.036300000000000006, 0.0374, 0.0177, 0.013599999999999998], [0.0, 0.45549999999999996, 0.19190000000000002, 0.08380000000000001, 0.055499999999999994, 0.05700000000000001, 0.05469999999999999, 0.0531, 0.0288, 0.019700000000000002], [0.0, 0.3988, 0.1869, 0.0927, 0.0688, 0.066, 0.0602, 0.0696, 0.035, 0.022000000000000002], [0.0, 0.34839999999999993, 0.17980000000000002, 0.09920000000000001, 0.0809, 0.077, 0.0712, 0.07270000000000001, 0.040900000000000006, 0.0299], [0.0, 0.31729999999999997, 0.18159999999999998, 0.09759999999999999, 0.08120000000000001, 0.0829, 0.0757, 0.08549999999999999, 0.0472, 0.030999999999999993], [0.0, 0.3053, 0.17459999999999998, 0.1051, 0.0827, 0.07830000000000001, 0.07899999999999999, 0.0913, 0.049300000000000004, 0.0344], [0.0, 0.27969999999999995, 0.1796, 0.09970000000000001, 0.08940000000000001, 0.0863, 0.08330000000000001, 0.09369999999999999, 0.0546, 0.0337], [0.0, 0.2776, 0.1666, 0.1006, 0.0874, 0.0877, 0.0829, 0.10130000000000002, 0.05500000000000001, 0.040900000000000006]], \"type\": \"heatmap\"}], {\"xaxis\": {\"title\": \"Predicted Class\", \"dtick\": 1, \"range\": [0.5, 9.5], \"tickcolor\": \"#FFF\"}, \"plot_bgcolor\": \"#000\", \"titlefont\": {\"color\": \"#FFF\"}, \"paper_bgcolor\": \"#000\", \"height\": 500, \"yaxis\": {\"title\": \"True Class\", \"dtick\": 1, \"range\": [9.5, 0.5], \"tickcolor\": \"#FFF\"}, \"title\": \"Choice after 4000 Iterations at Glimpse 3\", \"font\": {\"color\": \"#FFF\"}, \"width\": 500}, {\"showLink\": true, \"linkText\": \"Export to plot.ly\"})});</script>"
      ]
     },
     "metadata": {},
     "output_type": "display_data"
    },
    {
     "data": {
      "application/vnd.plotly.v1+json": {
       "data": [
        {
         "colorscale": "Jet",
         "type": "heatmap",
         "z": [
          [
           0,
           0,
           0,
           0,
           0,
           0,
           0,
           0,
           0,
           0
          ],
          [
           0,
           0.6112867659002532,
           0.21919989331097675,
           0.06811068664939428,
           0.033036191748436534,
           0.023632279947418344,
           0.0254339233243753,
           0.01318479930591251,
           0.0034658272020108316,
           0.002649635886028522
          ],
          [
           0,
           0.5035802120405803,
           0.2520781613732579,
           0.08793040300983519,
           0.04564693362477947,
           0.03759108286848683,
           0.03477002004678326,
           0.024723831527864143,
           0.008004369980948282,
           0.005674988267208632
          ],
          [
           0,
           0.4393769919981249,
           0.26116647501331985,
           0.09846392731711197,
           0.05857625517998899,
           0.04515467576593585,
           0.044501337637614824,
           0.03331360976471158,
           0.011328259207205203,
           0.008118471084501422
          ],
          [
           0,
           0.40069674128839916,
           0.2601033879939536,
           0.10358352511505516,
           0.06609940129604194,
           0.05533363260979028,
           0.04747474989067088,
           0.03916195231721127,
           0.01669672838250106,
           0.010849884176467409
          ],
          [
           0,
           0.37010725952254636,
           0.26501110693410845,
           0.10575880628938447,
           0.07369829440680223,
           0.05989415556402276,
           0.05092761987646838,
           0.04406128315440701,
           0.01890008162805804,
           0.011641395178760902
          ],
          [
           0,
           0.34411641821998423,
           0.2609804436428134,
           0.10664332481117533,
           0.08073447661610915,
           0.06559876318457901,
           0.058338675274746024,
           0.04775607962839884,
           0.024186313462491497,
           0.011645507343212716
          ],
          [
           0,
           0.3328371816088483,
           0.2645792885458056,
           0.11143757179176403,
           0.07632694987343303,
           0.06513794064830158,
           0.0594791495567929,
           0.05260283180592236,
           0.024678649730057345,
           0.012920437722761182
          ],
          [
           0,
           0.32156877965328035,
           0.25662267112809956,
           0.11116104168629262,
           0.0812833336320147,
           0.07338747951076503,
           0.062229301391591586,
           0.054150798423813165,
           0.024422246196485,
           0.01517435083054507
          ],
          [
           0,
           0.3187772308798757,
           0.2551133632633249,
           0.10764631838260799,
           0.08148405047011867,
           0.06927687991756423,
           0.061790804342076865,
           0.061010289576074184,
           0.027766259711193342,
           0.01713480581191729
          ]
         ]
        }
       ],
       "layout": {
        "font": {
         "color": "#FFF"
        },
        "height": 500,
        "paper_bgcolor": "#000",
        "plot_bgcolor": "#000",
        "title": "Confidence after 4000 Iterations at Glimpse 9",
        "titlefont": {
         "color": "#FFF"
        },
        "width": 500,
        "xaxis": {
         "dtick": 1,
         "range": [
          0.5,
          9.5
         ],
         "tickcolor": "#FFF",
         "title": "Predicted Class"
        },
        "yaxis": {
         "dtick": 1,
         "range": [
          9.5,
          0.5
         ],
         "tickcolor": "#FFF",
         "title": "True Class"
        }
       }
      },
      "text/html": [
       "<div id=\"b4ab49d9-9a21-43cf-a020-eb8a19a4f5ea\" style=\"height: 500px; width: 500px;\" class=\"plotly-graph-div\"></div><script type=\"text/javascript\">require([\"plotly\"], function(Plotly) { window.PLOTLYENV=window.PLOTLYENV || {};window.PLOTLYENV.BASE_URL=\"https://plot.ly\";Plotly.newPlot(\"b4ab49d9-9a21-43cf-a020-eb8a19a4f5ea\", [{\"colorscale\": \"Jet\", \"z\": [[0.0, 0.0, 0.0, 0.0, 0.0, 0.0, 0.0, 0.0, 0.0, 0.0], [0.0, 0.6112867659002532, 0.21919989331097675, 0.06811068664939428, 0.033036191748436534, 0.023632279947418344, 0.0254339233243753, 0.01318479930591251, 0.0034658272020108316, 0.002649635886028522], [0.0, 0.5035802120405803, 0.2520781613732579, 0.08793040300983519, 0.04564693362477947, 0.03759108286848683, 0.03477002004678326, 0.024723831527864143, 0.008004369980948282, 0.005674988267208632], [0.0, 0.4393769919981249, 0.26116647501331985, 0.09846392731711197, 0.05857625517998899, 0.04515467576593585, 0.044501337637614824, 0.03331360976471158, 0.011328259207205203, 0.008118471084501422], [0.0, 0.40069674128839916, 0.2601033879939536, 0.10358352511505516, 0.06609940129604194, 0.05533363260979028, 0.04747474989067088, 0.03916195231721127, 0.01669672838250106, 0.010849884176467409], [0.0, 0.37010725952254636, 0.26501110693410845, 0.10575880628938447, 0.07369829440680223, 0.05989415556402276, 0.05092761987646838, 0.04406128315440701, 0.01890008162805804, 0.011641395178760902], [0.0, 0.34411641821998423, 0.2609804436428134, 0.10664332481117533, 0.08073447661610915, 0.06559876318457901, 0.058338675274746024, 0.04775607962839884, 0.024186313462491497, 0.011645507343212716], [0.0, 0.3328371816088483, 0.2645792885458056, 0.11143757179176403, 0.07632694987343303, 0.06513794064830158, 0.0594791495567929, 0.05260283180592236, 0.024678649730057345, 0.012920437722761182], [0.0, 0.32156877965328035, 0.25662267112809956, 0.11116104168629262, 0.0812833336320147, 0.07338747951076503, 0.062229301391591586, 0.054150798423813165, 0.024422246196485, 0.01517435083054507], [0.0, 0.3187772308798757, 0.2551133632633249, 0.10764631838260799, 0.08148405047011867, 0.06927687991756423, 0.061790804342076865, 0.061010289576074184, 0.027766259711193342, 0.01713480581191729]], \"type\": \"heatmap\"}], {\"xaxis\": {\"title\": \"Predicted Class\", \"dtick\": 1, \"range\": [0.5, 9.5], \"tickcolor\": \"#FFF\"}, \"plot_bgcolor\": \"#000\", \"titlefont\": {\"color\": \"#FFF\"}, \"paper_bgcolor\": \"#000\", \"height\": 500, \"yaxis\": {\"title\": \"True Class\", \"dtick\": 1, \"range\": [9.5, 0.5], \"tickcolor\": \"#FFF\"}, \"title\": \"Confidence after 4000 Iterations at Glimpse 9\", \"font\": {\"color\": \"#FFF\"}, \"width\": 500}, {\"showLink\": true, \"linkText\": \"Export to plot.ly\"})});</script>"
      ],
      "text/vnd.plotly.v1+html": [
       "<div id=\"b4ab49d9-9a21-43cf-a020-eb8a19a4f5ea\" style=\"height: 500px; width: 500px;\" class=\"plotly-graph-div\"></div><script type=\"text/javascript\">require([\"plotly\"], function(Plotly) { window.PLOTLYENV=window.PLOTLYENV || {};window.PLOTLYENV.BASE_URL=\"https://plot.ly\";Plotly.newPlot(\"b4ab49d9-9a21-43cf-a020-eb8a19a4f5ea\", [{\"colorscale\": \"Jet\", \"z\": [[0.0, 0.0, 0.0, 0.0, 0.0, 0.0, 0.0, 0.0, 0.0, 0.0], [0.0, 0.6112867659002532, 0.21919989331097675, 0.06811068664939428, 0.033036191748436534, 0.023632279947418344, 0.0254339233243753, 0.01318479930591251, 0.0034658272020108316, 0.002649635886028522], [0.0, 0.5035802120405803, 0.2520781613732579, 0.08793040300983519, 0.04564693362477947, 0.03759108286848683, 0.03477002004678326, 0.024723831527864143, 0.008004369980948282, 0.005674988267208632], [0.0, 0.4393769919981249, 0.26116647501331985, 0.09846392731711197, 0.05857625517998899, 0.04515467576593585, 0.044501337637614824, 0.03331360976471158, 0.011328259207205203, 0.008118471084501422], [0.0, 0.40069674128839916, 0.2601033879939536, 0.10358352511505516, 0.06609940129604194, 0.05533363260979028, 0.04747474989067088, 0.03916195231721127, 0.01669672838250106, 0.010849884176467409], [0.0, 0.37010725952254636, 0.26501110693410845, 0.10575880628938447, 0.07369829440680223, 0.05989415556402276, 0.05092761987646838, 0.04406128315440701, 0.01890008162805804, 0.011641395178760902], [0.0, 0.34411641821998423, 0.2609804436428134, 0.10664332481117533, 0.08073447661610915, 0.06559876318457901, 0.058338675274746024, 0.04775607962839884, 0.024186313462491497, 0.011645507343212716], [0.0, 0.3328371816088483, 0.2645792885458056, 0.11143757179176403, 0.07632694987343303, 0.06513794064830158, 0.0594791495567929, 0.05260283180592236, 0.024678649730057345, 0.012920437722761182], [0.0, 0.32156877965328035, 0.25662267112809956, 0.11116104168629262, 0.0812833336320147, 0.07338747951076503, 0.062229301391591586, 0.054150798423813165, 0.024422246196485, 0.01517435083054507], [0.0, 0.3187772308798757, 0.2551133632633249, 0.10764631838260799, 0.08148405047011867, 0.06927687991756423, 0.061790804342076865, 0.061010289576074184, 0.027766259711193342, 0.01713480581191729]], \"type\": \"heatmap\"}], {\"xaxis\": {\"title\": \"Predicted Class\", \"dtick\": 1, \"range\": [0.5, 9.5], \"tickcolor\": \"#FFF\"}, \"plot_bgcolor\": \"#000\", \"titlefont\": {\"color\": \"#FFF\"}, \"paper_bgcolor\": \"#000\", \"height\": 500, \"yaxis\": {\"title\": \"True Class\", \"dtick\": 1, \"range\": [9.5, 0.5], \"tickcolor\": \"#FFF\"}, \"title\": \"Confidence after 4000 Iterations at Glimpse 9\", \"font\": {\"color\": \"#FFF\"}, \"width\": 500}, {\"showLink\": true, \"linkText\": \"Export to plot.ly\"})});</script>"
      ]
     },
     "metadata": {},
     "output_type": "display_data"
    },
    {
     "data": {
      "application/vnd.plotly.v1+json": {
       "data": [
        {
         "colorscale": "Jet",
         "type": "heatmap",
         "z": [
          [
           0,
           0,
           0,
           0,
           0,
           0,
           0,
           0,
           0,
           0
          ],
          [
           0,
           0.7235999999999999,
           0.1465,
           0.045899999999999996,
           0.0269,
           0.0201,
           0.020200000000000003,
           0.011000000000000001,
           0.0030000000000000005,
           0.0028000000000000004
          ],
          [
           0,
           0.5582999999999999,
           0.22210000000000002,
           0.07570000000000002,
           0.0412,
           0.036800000000000006,
           0.031200000000000006,
           0.022299999999999997,
           0.007200000000000001,
           0.005200000000000001
          ],
          [
           0,
           0.47000000000000003,
           0.24580000000000002,
           0.09349999999999999,
           0.0558,
           0.0428,
           0.0429,
           0.0301,
           0.011000000000000001,
           0.0081
          ],
          [
           0,
           0.41609999999999997,
           0.2565,
           0.0992,
           0.0645,
           0.05489999999999999,
           0.045200000000000004,
           0.036800000000000006,
           0.016,
           0.0108
          ],
          [
           0,
           0.383,
           0.26159999999999994,
           0.1032,
           0.0714,
           0.058199999999999995,
           0.0507,
           0.04130000000000001,
           0.018900000000000004,
           0.0117
          ],
          [
           0,
           0.35039999999999993,
           0.2571,
           0.10600000000000001,
           0.07930000000000001,
           0.06720000000000001,
           0.0581,
           0.0464,
           0.0242,
           0.011300000000000001
          ],
          [
           0,
           0.33520000000000005,
           0.26770000000000005,
           0.1112,
           0.0755,
           0.06449999999999999,
           0.0571,
           0.0517,
           0.024300000000000002,
           0.0128
          ],
          [
           0,
           0.3235,
           0.2573,
           0.11120000000000001,
           0.0812,
           0.0739,
           0.061399999999999996,
           0.05249999999999999,
           0.0242,
           0.014799999999999999
          ],
          [
           0,
           0.32120000000000004,
           0.256,
           0.10759999999999999,
           0.07959999999999999,
           0.0688,
           0.0613,
           0.0615,
           0.0274,
           0.0166
          ]
         ]
        }
       ],
       "layout": {
        "font": {
         "color": "#FFF"
        },
        "height": 500,
        "paper_bgcolor": "#000",
        "plot_bgcolor": "#000",
        "title": "Choice after 4000 Iterations at Glimpse 9",
        "titlefont": {
         "color": "#FFF"
        },
        "width": 500,
        "xaxis": {
         "dtick": 1,
         "range": [
          0.5,
          9.5
         ],
         "tickcolor": "#FFF",
         "title": "Predicted Class"
        },
        "yaxis": {
         "dtick": 1,
         "range": [
          9.5,
          0.5
         ],
         "tickcolor": "#FFF",
         "title": "True Class"
        }
       }
      },
      "text/html": [
       "<div id=\"9ef31373-2c2c-453a-88de-d7eedd34d76d\" style=\"height: 500px; width: 500px;\" class=\"plotly-graph-div\"></div><script type=\"text/javascript\">require([\"plotly\"], function(Plotly) { window.PLOTLYENV=window.PLOTLYENV || {};window.PLOTLYENV.BASE_URL=\"https://plot.ly\";Plotly.newPlot(\"9ef31373-2c2c-453a-88de-d7eedd34d76d\", [{\"colorscale\": \"Jet\", \"z\": [[0.0, 0.0, 0.0, 0.0, 0.0, 0.0, 0.0, 0.0, 0.0, 0.0], [0.0, 0.7235999999999999, 0.1465, 0.045899999999999996, 0.0269, 0.0201, 0.020200000000000003, 0.011000000000000001, 0.0030000000000000005, 0.0028000000000000004], [0.0, 0.5582999999999999, 0.22210000000000002, 0.07570000000000002, 0.0412, 0.036800000000000006, 0.031200000000000006, 0.022299999999999997, 0.007200000000000001, 0.005200000000000001], [0.0, 0.47000000000000003, 0.24580000000000002, 0.09349999999999999, 0.0558, 0.0428, 0.0429, 0.0301, 0.011000000000000001, 0.0081], [0.0, 0.41609999999999997, 0.2565, 0.0992, 0.0645, 0.05489999999999999, 0.045200000000000004, 0.036800000000000006, 0.016, 0.0108], [0.0, 0.383, 0.26159999999999994, 0.1032, 0.0714, 0.058199999999999995, 0.0507, 0.04130000000000001, 0.018900000000000004, 0.0117], [0.0, 0.35039999999999993, 0.2571, 0.10600000000000001, 0.07930000000000001, 0.06720000000000001, 0.0581, 0.0464, 0.0242, 0.011300000000000001], [0.0, 0.33520000000000005, 0.26770000000000005, 0.1112, 0.0755, 0.06449999999999999, 0.0571, 0.0517, 0.024300000000000002, 0.0128], [0.0, 0.3235, 0.2573, 0.11120000000000001, 0.0812, 0.0739, 0.061399999999999996, 0.05249999999999999, 0.0242, 0.014799999999999999], [0.0, 0.32120000000000004, 0.256, 0.10759999999999999, 0.07959999999999999, 0.0688, 0.0613, 0.0615, 0.0274, 0.0166]], \"type\": \"heatmap\"}], {\"xaxis\": {\"title\": \"Predicted Class\", \"dtick\": 1, \"range\": [0.5, 9.5], \"tickcolor\": \"#FFF\"}, \"plot_bgcolor\": \"#000\", \"titlefont\": {\"color\": \"#FFF\"}, \"paper_bgcolor\": \"#000\", \"height\": 500, \"yaxis\": {\"title\": \"True Class\", \"dtick\": 1, \"range\": [9.5, 0.5], \"tickcolor\": \"#FFF\"}, \"title\": \"Choice after 4000 Iterations at Glimpse 9\", \"font\": {\"color\": \"#FFF\"}, \"width\": 500}, {\"showLink\": true, \"linkText\": \"Export to plot.ly\"})});</script>"
      ],
      "text/vnd.plotly.v1+html": [
       "<div id=\"9ef31373-2c2c-453a-88de-d7eedd34d76d\" style=\"height: 500px; width: 500px;\" class=\"plotly-graph-div\"></div><script type=\"text/javascript\">require([\"plotly\"], function(Plotly) { window.PLOTLYENV=window.PLOTLYENV || {};window.PLOTLYENV.BASE_URL=\"https://plot.ly\";Plotly.newPlot(\"9ef31373-2c2c-453a-88de-d7eedd34d76d\", [{\"colorscale\": \"Jet\", \"z\": [[0.0, 0.0, 0.0, 0.0, 0.0, 0.0, 0.0, 0.0, 0.0, 0.0], [0.0, 0.7235999999999999, 0.1465, 0.045899999999999996, 0.0269, 0.0201, 0.020200000000000003, 0.011000000000000001, 0.0030000000000000005, 0.0028000000000000004], [0.0, 0.5582999999999999, 0.22210000000000002, 0.07570000000000002, 0.0412, 0.036800000000000006, 0.031200000000000006, 0.022299999999999997, 0.007200000000000001, 0.005200000000000001], [0.0, 0.47000000000000003, 0.24580000000000002, 0.09349999999999999, 0.0558, 0.0428, 0.0429, 0.0301, 0.011000000000000001, 0.0081], [0.0, 0.41609999999999997, 0.2565, 0.0992, 0.0645, 0.05489999999999999, 0.045200000000000004, 0.036800000000000006, 0.016, 0.0108], [0.0, 0.383, 0.26159999999999994, 0.1032, 0.0714, 0.058199999999999995, 0.0507, 0.04130000000000001, 0.018900000000000004, 0.0117], [0.0, 0.35039999999999993, 0.2571, 0.10600000000000001, 0.07930000000000001, 0.06720000000000001, 0.0581, 0.0464, 0.0242, 0.011300000000000001], [0.0, 0.33520000000000005, 0.26770000000000005, 0.1112, 0.0755, 0.06449999999999999, 0.0571, 0.0517, 0.024300000000000002, 0.0128], [0.0, 0.3235, 0.2573, 0.11120000000000001, 0.0812, 0.0739, 0.061399999999999996, 0.05249999999999999, 0.0242, 0.014799999999999999], [0.0, 0.32120000000000004, 0.256, 0.10759999999999999, 0.07959999999999999, 0.0688, 0.0613, 0.0615, 0.0274, 0.0166]], \"type\": \"heatmap\"}], {\"xaxis\": {\"title\": \"Predicted Class\", \"dtick\": 1, \"range\": [0.5, 9.5], \"tickcolor\": \"#FFF\"}, \"plot_bgcolor\": \"#000\", \"titlefont\": {\"color\": \"#FFF\"}, \"paper_bgcolor\": \"#000\", \"height\": 500, \"yaxis\": {\"title\": \"True Class\", \"dtick\": 1, \"range\": [9.5, 0.5], \"tickcolor\": \"#FFF\"}, \"title\": \"Choice after 4000 Iterations at Glimpse 9\", \"font\": {\"color\": \"#FFF\"}, \"width\": 500}, {\"showLink\": true, \"linkText\": \"Export to plot.ly\"})});</script>"
      ]
     },
     "metadata": {},
     "output_type": "display_data"
    },
    {
     "data": {
      "application/vnd.plotly.v1+json": {
       "data": [
        {
         "colorscale": "Jet",
         "type": "heatmap",
         "z": [
          [
           0,
           0,
           0,
           0,
           0,
           0,
           0,
           0,
           0,
           0
          ],
          [
           0,
           0.4900975696566835,
           0.1823730443130532,
           0.10379876423797403,
           0.07049714318477018,
           0.05253927607502919,
           0.038023897617580904,
           0.026892325854704725,
           0.021257343930567166,
           0.014520634810869931
          ],
          [
           0,
           0.38040750891084163,
           0.18200954178654644,
           0.11879945243358307,
           0.09003010037350703,
           0.0716582415200874,
           0.05554945917514727,
           0.04273750932811832,
           0.03567427412249963,
           0.023133912269012902
          ],
          [
           0,
           0.3001971454713885,
           0.17097639120937785,
           0.12542373116197125,
           0.10245899351740709,
           0.08623838317920626,
           0.07411512888715076,
           0.05834324196989946,
           0.04870243109982416,
           0.033544553570260864
          ],
          [
           0,
           0.23840805439007934,
           0.1605423679857075,
           0.12794834533940178,
           0.11149643085686274,
           0.09868911425008475,
           0.08746466677660943,
           0.07177509520469394,
           0.062174154469548125,
           0.041501770778033256
          ],
          [
           0,
           0.19266125910648044,
           0.14542808365492407,
           0.12414728466969546,
           0.11510657768332377,
           0.10692418571142745,
           0.10453056422025002,
           0.08587313623990481,
           0.07566616890028227,
           0.049662739924113256
          ],
          [
           0,
           0.1658781296299783,
           0.13397832994550365,
           0.12045659407109463,
           0.11507667477294237,
           0.11103193491905176,
           0.11128146500829553,
           0.0965680250299947,
           0.08725661497710721,
           0.058472233009912375
          ],
          [
           0,
           0.1401940055064485,
           0.12149120711542558,
           0.12090844499952706,
           0.11685370656429694,
           0.11628149759581692,
           0.11963868177968347,
           0.10285468034569012,
           0.09687518296924494,
           0.06490259473806777
          ],
          [
           0,
           0.11933780430531479,
           0.1127335002296735,
           0.11753721015999945,
           0.11945630968835386,
           0.11897410422774399,
           0.12405085697080513,
           0.10982044935314624,
           0.10475385933691242,
           0.07333590642265224
          ],
          [
           0,
           0.1023303440626652,
           0.10266285703946063,
           0.11158889402499635,
           0.11507462060153359,
           0.12448113948452574,
           0.13432764481020382,
           0.12031230855306732,
           0.11108880890148631,
           0.0781333829231438
          ]
         ]
        }
       ],
       "layout": {
        "font": {
         "color": "#FFF"
        },
        "height": 500,
        "paper_bgcolor": "#000",
        "plot_bgcolor": "#000",
        "title": "Confidence after 16000 Iterations at Glimpse 0",
        "titlefont": {
         "color": "#FFF"
        },
        "width": 500,
        "xaxis": {
         "dtick": 1,
         "range": [
          0.5,
          9.5
         ],
         "tickcolor": "#FFF",
         "title": "Predicted Class"
        },
        "yaxis": {
         "dtick": 1,
         "range": [
          9.5,
          0.5
         ],
         "tickcolor": "#FFF",
         "title": "True Class"
        }
       }
      },
      "text/html": [
       "<div id=\"0e662f60-c25e-48d6-9d56-d46d7b8b767e\" style=\"height: 500px; width: 500px;\" class=\"plotly-graph-div\"></div><script type=\"text/javascript\">require([\"plotly\"], function(Plotly) { window.PLOTLYENV=window.PLOTLYENV || {};window.PLOTLYENV.BASE_URL=\"https://plot.ly\";Plotly.newPlot(\"0e662f60-c25e-48d6-9d56-d46d7b8b767e\", [{\"colorscale\": \"Jet\", \"z\": [[0.0, 0.0, 0.0, 0.0, 0.0, 0.0, 0.0, 0.0, 0.0, 0.0], [0.0, 0.4900975696566835, 0.1823730443130532, 0.10379876423797403, 0.07049714318477018, 0.05253927607502919, 0.038023897617580904, 0.026892325854704725, 0.021257343930567166, 0.014520634810869931], [0.0, 0.38040750891084163, 0.18200954178654644, 0.11879945243358307, 0.09003010037350703, 0.0716582415200874, 0.05554945917514727, 0.04273750932811832, 0.03567427412249963, 0.023133912269012902], [0.0, 0.3001971454713885, 0.17097639120937785, 0.12542373116197125, 0.10245899351740709, 0.08623838317920626, 0.07411512888715076, 0.05834324196989946, 0.04870243109982416, 0.033544553570260864], [0.0, 0.23840805439007934, 0.1605423679857075, 0.12794834533940178, 0.11149643085686274, 0.09868911425008475, 0.08746466677660943, 0.07177509520469394, 0.062174154469548125, 0.041501770778033256], [0.0, 0.19266125910648044, 0.14542808365492407, 0.12414728466969546, 0.11510657768332377, 0.10692418571142745, 0.10453056422025002, 0.08587313623990481, 0.07566616890028227, 0.049662739924113256], [0.0, 0.1658781296299783, 0.13397832994550365, 0.12045659407109463, 0.11507667477294237, 0.11103193491905176, 0.11128146500829553, 0.0965680250299947, 0.08725661497710721, 0.058472233009912375], [0.0, 0.1401940055064485, 0.12149120711542558, 0.12090844499952706, 0.11685370656429694, 0.11628149759581692, 0.11963868177968347, 0.10285468034569012, 0.09687518296924494, 0.06490259473806777], [0.0, 0.11933780430531479, 0.1127335002296735, 0.11753721015999945, 0.11945630968835386, 0.11897410422774399, 0.12405085697080513, 0.10982044935314624, 0.10475385933691242, 0.07333590642265224], [0.0, 0.1023303440626652, 0.10266285703946063, 0.11158889402499635, 0.11507462060153359, 0.12448113948452574, 0.13432764481020382, 0.12031230855306732, 0.11108880890148631, 0.0781333829231438]], \"type\": \"heatmap\"}], {\"xaxis\": {\"title\": \"Predicted Class\", \"dtick\": 1, \"range\": [0.5, 9.5], \"tickcolor\": \"#FFF\"}, \"plot_bgcolor\": \"#000\", \"titlefont\": {\"color\": \"#FFF\"}, \"paper_bgcolor\": \"#000\", \"height\": 500, \"yaxis\": {\"title\": \"True Class\", \"dtick\": 1, \"range\": [9.5, 0.5], \"tickcolor\": \"#FFF\"}, \"title\": \"Confidence after 16000 Iterations at Glimpse 0\", \"font\": {\"color\": \"#FFF\"}, \"width\": 500}, {\"showLink\": true, \"linkText\": \"Export to plot.ly\"})});</script>"
      ],
      "text/vnd.plotly.v1+html": [
       "<div id=\"0e662f60-c25e-48d6-9d56-d46d7b8b767e\" style=\"height: 500px; width: 500px;\" class=\"plotly-graph-div\"></div><script type=\"text/javascript\">require([\"plotly\"], function(Plotly) { window.PLOTLYENV=window.PLOTLYENV || {};window.PLOTLYENV.BASE_URL=\"https://plot.ly\";Plotly.newPlot(\"0e662f60-c25e-48d6-9d56-d46d7b8b767e\", [{\"colorscale\": \"Jet\", \"z\": [[0.0, 0.0, 0.0, 0.0, 0.0, 0.0, 0.0, 0.0, 0.0, 0.0], [0.0, 0.4900975696566835, 0.1823730443130532, 0.10379876423797403, 0.07049714318477018, 0.05253927607502919, 0.038023897617580904, 0.026892325854704725, 0.021257343930567166, 0.014520634810869931], [0.0, 0.38040750891084163, 0.18200954178654644, 0.11879945243358307, 0.09003010037350703, 0.0716582415200874, 0.05554945917514727, 0.04273750932811832, 0.03567427412249963, 0.023133912269012902], [0.0, 0.3001971454713885, 0.17097639120937785, 0.12542373116197125, 0.10245899351740709, 0.08623838317920626, 0.07411512888715076, 0.05834324196989946, 0.04870243109982416, 0.033544553570260864], [0.0, 0.23840805439007934, 0.1605423679857075, 0.12794834533940178, 0.11149643085686274, 0.09868911425008475, 0.08746466677660943, 0.07177509520469394, 0.062174154469548125, 0.041501770778033256], [0.0, 0.19266125910648044, 0.14542808365492407, 0.12414728466969546, 0.11510657768332377, 0.10692418571142745, 0.10453056422025002, 0.08587313623990481, 0.07566616890028227, 0.049662739924113256], [0.0, 0.1658781296299783, 0.13397832994550365, 0.12045659407109463, 0.11507667477294237, 0.11103193491905176, 0.11128146500829553, 0.0965680250299947, 0.08725661497710721, 0.058472233009912375], [0.0, 0.1401940055064485, 0.12149120711542558, 0.12090844499952706, 0.11685370656429694, 0.11628149759581692, 0.11963868177968347, 0.10285468034569012, 0.09687518296924494, 0.06490259473806777], [0.0, 0.11933780430531479, 0.1127335002296735, 0.11753721015999945, 0.11945630968835386, 0.11897410422774399, 0.12405085697080513, 0.10982044935314624, 0.10475385933691242, 0.07333590642265224], [0.0, 0.1023303440626652, 0.10266285703946063, 0.11158889402499635, 0.11507462060153359, 0.12448113948452574, 0.13432764481020382, 0.12031230855306732, 0.11108880890148631, 0.0781333829231438]], \"type\": \"heatmap\"}], {\"xaxis\": {\"title\": \"Predicted Class\", \"dtick\": 1, \"range\": [0.5, 9.5], \"tickcolor\": \"#FFF\"}, \"plot_bgcolor\": \"#000\", \"titlefont\": {\"color\": \"#FFF\"}, \"paper_bgcolor\": \"#000\", \"height\": 500, \"yaxis\": {\"title\": \"True Class\", \"dtick\": 1, \"range\": [9.5, 0.5], \"tickcolor\": \"#FFF\"}, \"title\": \"Confidence after 16000 Iterations at Glimpse 0\", \"font\": {\"color\": \"#FFF\"}, \"width\": 500}, {\"showLink\": true, \"linkText\": \"Export to plot.ly\"})});</script>"
      ]
     },
     "metadata": {},
     "output_type": "display_data"
    },
    {
     "data": {
      "application/vnd.plotly.v1+json": {
       "data": [
        {
         "colorscale": "Jet",
         "type": "heatmap",
         "z": [
          [
           0,
           0,
           0,
           0,
           0,
           0,
           0,
           0,
           0,
           0
          ],
          [
           0,
           0.8263999999999999,
           0.0753,
           0.0382,
           0.024499999999999997,
           0.015200000000000002,
           0.0097,
           0.0046,
           0.0036000000000000003,
           0.0024999999999999996
          ],
          [
           0,
           0.6615000000000001,
           0.1203,
           0.06760000000000001,
           0.0502,
           0.03490000000000001,
           0.025000000000000005,
           0.017000000000000005,
           0.015400000000000002,
           0.0081
          ],
          [
           0,
           0.5214,
           0.14150000000000001,
           0.08999999999999998,
           0.0692,
           0.052700000000000004,
           0.0475,
           0.031,
           0.0259,
           0.020800000000000003
          ],
          [
           0,
           0.404,
           0.1498,
           0.1069,
           0.0892,
           0.07100000000000002,
           0.06200000000000001,
           0.046400000000000004,
           0.0437,
           0.027000000000000003
          ],
          [
           0,
           0.3147,
           0.1405,
           0.1096,
           0.09989999999999999,
           0.0841,
           0.088,
           0.06490000000000001,
           0.05940000000000001,
           0.038900000000000004
          ],
          [
           0,
           0.258,
           0.1351,
           0.1126,
           0.1038,
           0.0896,
           0.0965,
           0.0793,
           0.075,
           0.0501
          ],
          [
           0,
           0.20579999999999998,
           0.1236,
           0.11650000000000002,
           0.1103,
           0.10389999999999999,
           0.10839999999999998,
           0.0877,
           0.08579999999999999,
           0.05800000000000001
          ],
          [
           0,
           0.16349999999999998,
           0.11649999999999998,
           0.11720000000000001,
           0.11699999999999999,
           0.10969999999999999,
           0.1162,
           0.09559999999999999,
           0.097,
           0.0673
          ],
          [
           0,
           0.13040000000000002,
           0.1083,
           0.1133,
           0.1169,
           0.11869999999999999,
           0.12900000000000003,
           0.1115,
           0.10070000000000001,
           0.0712
          ]
         ]
        }
       ],
       "layout": {
        "font": {
         "color": "#FFF"
        },
        "height": 500,
        "paper_bgcolor": "#000",
        "plot_bgcolor": "#000",
        "title": "Choice after 16000 Iterations at Glimpse 0",
        "titlefont": {
         "color": "#FFF"
        },
        "width": 500,
        "xaxis": {
         "dtick": 1,
         "range": [
          0.5,
          9.5
         ],
         "tickcolor": "#FFF",
         "title": "Predicted Class"
        },
        "yaxis": {
         "dtick": 1,
         "range": [
          9.5,
          0.5
         ],
         "tickcolor": "#FFF",
         "title": "True Class"
        }
       }
      },
      "text/html": [
       "<div id=\"42ba390e-a17a-4d97-9c42-ae2c6e9fcb71\" style=\"height: 500px; width: 500px;\" class=\"plotly-graph-div\"></div><script type=\"text/javascript\">require([\"plotly\"], function(Plotly) { window.PLOTLYENV=window.PLOTLYENV || {};window.PLOTLYENV.BASE_URL=\"https://plot.ly\";Plotly.newPlot(\"42ba390e-a17a-4d97-9c42-ae2c6e9fcb71\", [{\"colorscale\": \"Jet\", \"z\": [[0.0, 0.0, 0.0, 0.0, 0.0, 0.0, 0.0, 0.0, 0.0, 0.0], [0.0, 0.8263999999999999, 0.0753, 0.0382, 0.024499999999999997, 0.015200000000000002, 0.0097, 0.0046, 0.0036000000000000003, 0.0024999999999999996], [0.0, 0.6615000000000001, 0.1203, 0.06760000000000001, 0.0502, 0.03490000000000001, 0.025000000000000005, 0.017000000000000005, 0.015400000000000002, 0.0081], [0.0, 0.5214, 0.14150000000000001, 0.08999999999999998, 0.0692, 0.052700000000000004, 0.0475, 0.031, 0.0259, 0.020800000000000003], [0.0, 0.404, 0.1498, 0.1069, 0.0892, 0.07100000000000002, 0.06200000000000001, 0.046400000000000004, 0.0437, 0.027000000000000003], [0.0, 0.3147, 0.1405, 0.1096, 0.09989999999999999, 0.0841, 0.088, 0.06490000000000001, 0.05940000000000001, 0.038900000000000004], [0.0, 0.258, 0.1351, 0.1126, 0.1038, 0.0896, 0.0965, 0.0793, 0.075, 0.0501], [0.0, 0.20579999999999998, 0.1236, 0.11650000000000002, 0.1103, 0.10389999999999999, 0.10839999999999998, 0.0877, 0.08579999999999999, 0.05800000000000001], [0.0, 0.16349999999999998, 0.11649999999999998, 0.11720000000000001, 0.11699999999999999, 0.10969999999999999, 0.1162, 0.09559999999999999, 0.097, 0.0673], [0.0, 0.13040000000000002, 0.1083, 0.1133, 0.1169, 0.11869999999999999, 0.12900000000000003, 0.1115, 0.10070000000000001, 0.0712]], \"type\": \"heatmap\"}], {\"xaxis\": {\"title\": \"Predicted Class\", \"dtick\": 1, \"range\": [0.5, 9.5], \"tickcolor\": \"#FFF\"}, \"plot_bgcolor\": \"#000\", \"titlefont\": {\"color\": \"#FFF\"}, \"paper_bgcolor\": \"#000\", \"height\": 500, \"yaxis\": {\"title\": \"True Class\", \"dtick\": 1, \"range\": [9.5, 0.5], \"tickcolor\": \"#FFF\"}, \"title\": \"Choice after 16000 Iterations at Glimpse 0\", \"font\": {\"color\": \"#FFF\"}, \"width\": 500}, {\"showLink\": true, \"linkText\": \"Export to plot.ly\"})});</script>"
      ],
      "text/vnd.plotly.v1+html": [
       "<div id=\"42ba390e-a17a-4d97-9c42-ae2c6e9fcb71\" style=\"height: 500px; width: 500px;\" class=\"plotly-graph-div\"></div><script type=\"text/javascript\">require([\"plotly\"], function(Plotly) { window.PLOTLYENV=window.PLOTLYENV || {};window.PLOTLYENV.BASE_URL=\"https://plot.ly\";Plotly.newPlot(\"42ba390e-a17a-4d97-9c42-ae2c6e9fcb71\", [{\"colorscale\": \"Jet\", \"z\": [[0.0, 0.0, 0.0, 0.0, 0.0, 0.0, 0.0, 0.0, 0.0, 0.0], [0.0, 0.8263999999999999, 0.0753, 0.0382, 0.024499999999999997, 0.015200000000000002, 0.0097, 0.0046, 0.0036000000000000003, 0.0024999999999999996], [0.0, 0.6615000000000001, 0.1203, 0.06760000000000001, 0.0502, 0.03490000000000001, 0.025000000000000005, 0.017000000000000005, 0.015400000000000002, 0.0081], [0.0, 0.5214, 0.14150000000000001, 0.08999999999999998, 0.0692, 0.052700000000000004, 0.0475, 0.031, 0.0259, 0.020800000000000003], [0.0, 0.404, 0.1498, 0.1069, 0.0892, 0.07100000000000002, 0.06200000000000001, 0.046400000000000004, 0.0437, 0.027000000000000003], [0.0, 0.3147, 0.1405, 0.1096, 0.09989999999999999, 0.0841, 0.088, 0.06490000000000001, 0.05940000000000001, 0.038900000000000004], [0.0, 0.258, 0.1351, 0.1126, 0.1038, 0.0896, 0.0965, 0.0793, 0.075, 0.0501], [0.0, 0.20579999999999998, 0.1236, 0.11650000000000002, 0.1103, 0.10389999999999999, 0.10839999999999998, 0.0877, 0.08579999999999999, 0.05800000000000001], [0.0, 0.16349999999999998, 0.11649999999999998, 0.11720000000000001, 0.11699999999999999, 0.10969999999999999, 0.1162, 0.09559999999999999, 0.097, 0.0673], [0.0, 0.13040000000000002, 0.1083, 0.1133, 0.1169, 0.11869999999999999, 0.12900000000000003, 0.1115, 0.10070000000000001, 0.0712]], \"type\": \"heatmap\"}], {\"xaxis\": {\"title\": \"Predicted Class\", \"dtick\": 1, \"range\": [0.5, 9.5], \"tickcolor\": \"#FFF\"}, \"plot_bgcolor\": \"#000\", \"titlefont\": {\"color\": \"#FFF\"}, \"paper_bgcolor\": \"#000\", \"height\": 500, \"yaxis\": {\"title\": \"True Class\", \"dtick\": 1, \"range\": [9.5, 0.5], \"tickcolor\": \"#FFF\"}, \"title\": \"Choice after 16000 Iterations at Glimpse 0\", \"font\": {\"color\": \"#FFF\"}, \"width\": 500}, {\"showLink\": true, \"linkText\": \"Export to plot.ly\"})});</script>"
      ]
     },
     "metadata": {},
     "output_type": "display_data"
    },
    {
     "data": {
      "application/vnd.plotly.v1+json": {
       "data": [
        {
         "colorscale": "Jet",
         "type": "heatmap",
         "z": [
          [
           0,
           0,
           0,
           0,
           0,
           0,
           0,
           0,
           0,
           0
          ],
          [
           0,
           0.5259042019431246,
           0.19902792397763697,
           0.11595818088296801,
           0.06533055702680177,
           0.0356225983395183,
           0.023566016439261143,
           0.016114536512841005,
           0.011449667538997933,
           0.00702631780538962
          ],
          [
           0,
           0.3968261125930704,
           0.1995990557273669,
           0.14100948229719595,
           0.09062232827598267,
           0.05729908514133212,
           0.04274242311386416,
           0.03154969530626882,
           0.024730444233964723,
           0.015621374038575253
          ],
          [
           0,
           0.30561921293711747,
           0.18526937735544866,
           0.15217462565987966,
           0.10729528237709898,
           0.07363489290203701,
           0.0613072585652938,
           0.049616165403513705,
           0.038264509829484775,
           0.026818674704447026
          ],
          [
           0,
           0.23422947514202314,
           0.1677382039049048,
           0.15406593584781927,
           0.11818336155096636,
           0.09015545549435092,
           0.07930124356359113,
           0.06693193486004415,
           0.05108993714147074,
           0.038304453389008494
          ],
          [
           0,
           0.1839349757351217,
           0.14828678138626866,
           0.14853809153451894,
           0.126080368878644,
           0.1007836025850652,
           0.09337219871924667,
           0.08434532917061897,
           0.06634867914263884,
           0.04830997233930464
          ],
          [
           0,
           0.15020992197992045,
           0.1330696062392394,
           0.14384225936392864,
           0.12423658285334922,
           0.10630433422590332,
           0.10655529133824726,
           0.09679310277210548,
           0.08027775270718016,
           0.058711148639275436
          ],
          [
           0,
           0.1181396359945325,
           0.11480116709134298,
           0.13401085653744532,
           0.1300384655853392,
           0.11232677023803747,
           0.11680622016992322,
           0.11287681207814515,
           0.091428462754864,
           0.0695716102144546
          ],
          [
           0,
           0.09636234398094166,
           0.10017677990774276,
           0.12741738325927138,
           0.125728550472334,
           0.1182962854641553,
           0.12213887471428637,
           0.12143508273097256,
           0.10692123252624319,
           0.08152346734903604
          ],
          [
           0,
           0.07942560731489098,
           0.08928647316803087,
           0.12082358941258176,
           0.12232811350832729,
           0.12401064800482411,
           0.12953572384228962,
           0.1355787584338415,
           0.11138926491910399,
           0.08762182193708136
          ]
         ]
        }
       ],
       "layout": {
        "font": {
         "color": "#FFF"
        },
        "height": 500,
        "paper_bgcolor": "#000",
        "plot_bgcolor": "#000",
        "title": "Confidence after 16000 Iterations at Glimpse 3",
        "titlefont": {
         "color": "#FFF"
        },
        "width": 500,
        "xaxis": {
         "dtick": 1,
         "range": [
          0.5,
          9.5
         ],
         "tickcolor": "#FFF",
         "title": "Predicted Class"
        },
        "yaxis": {
         "dtick": 1,
         "range": [
          9.5,
          0.5
         ],
         "tickcolor": "#FFF",
         "title": "True Class"
        }
       }
      },
      "text/html": [
       "<div id=\"2bdb2d02-7890-4af7-a35c-c3e8594f428a\" style=\"height: 500px; width: 500px;\" class=\"plotly-graph-div\"></div><script type=\"text/javascript\">require([\"plotly\"], function(Plotly) { window.PLOTLYENV=window.PLOTLYENV || {};window.PLOTLYENV.BASE_URL=\"https://plot.ly\";Plotly.newPlot(\"2bdb2d02-7890-4af7-a35c-c3e8594f428a\", [{\"colorscale\": \"Jet\", \"z\": [[0.0, 0.0, 0.0, 0.0, 0.0, 0.0, 0.0, 0.0, 0.0, 0.0], [0.0, 0.5259042019431246, 0.19902792397763697, 0.11595818088296801, 0.06533055702680177, 0.0356225983395183, 0.023566016439261143, 0.016114536512841005, 0.011449667538997933, 0.00702631780538962], [0.0, 0.3968261125930704, 0.1995990557273669, 0.14100948229719595, 0.09062232827598267, 0.05729908514133212, 0.04274242311386416, 0.03154969530626882, 0.024730444233964723, 0.015621374038575253], [0.0, 0.30561921293711747, 0.18526937735544866, 0.15217462565987966, 0.10729528237709898, 0.07363489290203701, 0.0613072585652938, 0.049616165403513705, 0.038264509829484775, 0.026818674704447026], [0.0, 0.23422947514202314, 0.1677382039049048, 0.15406593584781927, 0.11818336155096636, 0.09015545549435092, 0.07930124356359113, 0.06693193486004415, 0.05108993714147074, 0.038304453389008494], [0.0, 0.1839349757351217, 0.14828678138626866, 0.14853809153451894, 0.126080368878644, 0.1007836025850652, 0.09337219871924667, 0.08434532917061897, 0.06634867914263884, 0.04830997233930464], [0.0, 0.15020992197992045, 0.1330696062392394, 0.14384225936392864, 0.12423658285334922, 0.10630433422590332, 0.10655529133824726, 0.09679310277210548, 0.08027775270718016, 0.058711148639275436], [0.0, 0.1181396359945325, 0.11480116709134298, 0.13401085653744532, 0.1300384655853392, 0.11232677023803747, 0.11680622016992322, 0.11287681207814515, 0.091428462754864, 0.0695716102144546], [0.0, 0.09636234398094166, 0.10017677990774276, 0.12741738325927138, 0.125728550472334, 0.1182962854641553, 0.12213887471428637, 0.12143508273097256, 0.10692123252624319, 0.08152346734903604], [0.0, 0.07942560731489098, 0.08928647316803087, 0.12082358941258176, 0.12232811350832729, 0.12401064800482411, 0.12953572384228962, 0.1355787584338415, 0.11138926491910399, 0.08762182193708136]], \"type\": \"heatmap\"}], {\"xaxis\": {\"title\": \"Predicted Class\", \"dtick\": 1, \"range\": [0.5, 9.5], \"tickcolor\": \"#FFF\"}, \"plot_bgcolor\": \"#000\", \"titlefont\": {\"color\": \"#FFF\"}, \"paper_bgcolor\": \"#000\", \"height\": 500, \"yaxis\": {\"title\": \"True Class\", \"dtick\": 1, \"range\": [9.5, 0.5], \"tickcolor\": \"#FFF\"}, \"title\": \"Confidence after 16000 Iterations at Glimpse 3\", \"font\": {\"color\": \"#FFF\"}, \"width\": 500}, {\"showLink\": true, \"linkText\": \"Export to plot.ly\"})});</script>"
      ],
      "text/vnd.plotly.v1+html": [
       "<div id=\"2bdb2d02-7890-4af7-a35c-c3e8594f428a\" style=\"height: 500px; width: 500px;\" class=\"plotly-graph-div\"></div><script type=\"text/javascript\">require([\"plotly\"], function(Plotly) { window.PLOTLYENV=window.PLOTLYENV || {};window.PLOTLYENV.BASE_URL=\"https://plot.ly\";Plotly.newPlot(\"2bdb2d02-7890-4af7-a35c-c3e8594f428a\", [{\"colorscale\": \"Jet\", \"z\": [[0.0, 0.0, 0.0, 0.0, 0.0, 0.0, 0.0, 0.0, 0.0, 0.0], [0.0, 0.5259042019431246, 0.19902792397763697, 0.11595818088296801, 0.06533055702680177, 0.0356225983395183, 0.023566016439261143, 0.016114536512841005, 0.011449667538997933, 0.00702631780538962], [0.0, 0.3968261125930704, 0.1995990557273669, 0.14100948229719595, 0.09062232827598267, 0.05729908514133212, 0.04274242311386416, 0.03154969530626882, 0.024730444233964723, 0.015621374038575253], [0.0, 0.30561921293711747, 0.18526937735544866, 0.15217462565987966, 0.10729528237709898, 0.07363489290203701, 0.0613072585652938, 0.049616165403513705, 0.038264509829484775, 0.026818674704447026], [0.0, 0.23422947514202314, 0.1677382039049048, 0.15406593584781927, 0.11818336155096636, 0.09015545549435092, 0.07930124356359113, 0.06693193486004415, 0.05108993714147074, 0.038304453389008494], [0.0, 0.1839349757351217, 0.14828678138626866, 0.14853809153451894, 0.126080368878644, 0.1007836025850652, 0.09337219871924667, 0.08434532917061897, 0.06634867914263884, 0.04830997233930464], [0.0, 0.15020992197992045, 0.1330696062392394, 0.14384225936392864, 0.12423658285334922, 0.10630433422590332, 0.10655529133824726, 0.09679310277210548, 0.08027775270718016, 0.058711148639275436], [0.0, 0.1181396359945325, 0.11480116709134298, 0.13401085653744532, 0.1300384655853392, 0.11232677023803747, 0.11680622016992322, 0.11287681207814515, 0.091428462754864, 0.0695716102144546], [0.0, 0.09636234398094166, 0.10017677990774276, 0.12741738325927138, 0.125728550472334, 0.1182962854641553, 0.12213887471428637, 0.12143508273097256, 0.10692123252624319, 0.08152346734903604], [0.0, 0.07942560731489098, 0.08928647316803087, 0.12082358941258176, 0.12232811350832729, 0.12401064800482411, 0.12953572384228962, 0.1355787584338415, 0.11138926491910399, 0.08762182193708136]], \"type\": \"heatmap\"}], {\"xaxis\": {\"title\": \"Predicted Class\", \"dtick\": 1, \"range\": [0.5, 9.5], \"tickcolor\": \"#FFF\"}, \"plot_bgcolor\": \"#000\", \"titlefont\": {\"color\": \"#FFF\"}, \"paper_bgcolor\": \"#000\", \"height\": 500, \"yaxis\": {\"title\": \"True Class\", \"dtick\": 1, \"range\": [9.5, 0.5], \"tickcolor\": \"#FFF\"}, \"title\": \"Confidence after 16000 Iterations at Glimpse 3\", \"font\": {\"color\": \"#FFF\"}, \"width\": 500}, {\"showLink\": true, \"linkText\": \"Export to plot.ly\"})});</script>"
      ]
     },
     "metadata": {},
     "output_type": "display_data"
    },
    {
     "data": {
      "application/vnd.plotly.v1+json": {
       "data": [
        {
         "colorscale": "Jet",
         "type": "heatmap",
         "z": [
          [
           0,
           0,
           0,
           0,
           0,
           0,
           0,
           0,
           0,
           0
          ],
          [
           0,
           0.8104999999999999,
           0.08680000000000002,
           0.0605,
           0.028300000000000002,
           0.0068000000000000005,
           0.0022,
           0.0012000000000000001,
           0.0023000000000000004,
           0.0013999999999999998
          ],
          [
           0,
           0.6279,
           0.1393,
           0.1119,
           0.053200000000000004,
           0.022400000000000007,
           0.0147,
           0.011300000000000001,
           0.011800000000000001,
           0.0075
          ],
          [
           0,
           0.4832000000000001,
           0.15219999999999997,
           0.14540000000000003,
           0.0844,
           0.0352,
           0.0324,
           0.0288,
           0.021199999999999997,
           0.0172
          ],
          [
           0,
           0.3645,
           0.1543,
           0.1588,
           0.09960000000000001,
           0.06000000000000001,
           0.0534,
           0.047,
           0.034800000000000005,
           0.027600000000000003
          ],
          [
           0,
           0.2733,
           0.1417,
           0.16340000000000005,
           0.12079999999999998,
           0.07390000000000001,
           0.0696,
           0.06850000000000002,
           0.0505,
           0.038299999999999994
          ],
          [
           0,
           0.21759999999999996,
           0.1328,
           0.159,
           0.1137,
           0.08269999999999998,
           0.08850000000000001,
           0.08440000000000002,
           0.0699,
           0.0514
          ],
          [
           0,
           0.1588,
           0.11710000000000001,
           0.1507,
           0.13069999999999998,
           0.09029999999999999,
           0.10270000000000001,
           0.1068,
           0.0789,
           0.064
          ],
          [
           0,
           0.1238,
           0.0958,
           0.1407,
           0.12910000000000002,
           0.10599999999999998,
           0.11139999999999999,
           0.1145,
           0.10029999999999999,
           0.0784
          ],
          [
           0,
           0.09340000000000001,
           0.0864,
           0.13710000000000003,
           0.1243,
           0.1096,
           0.124,
           0.1347,
           0.1049,
           0.0856
          ]
         ]
        }
       ],
       "layout": {
        "font": {
         "color": "#FFF"
        },
        "height": 500,
        "paper_bgcolor": "#000",
        "plot_bgcolor": "#000",
        "title": "Choice after 16000 Iterations at Glimpse 3",
        "titlefont": {
         "color": "#FFF"
        },
        "width": 500,
        "xaxis": {
         "dtick": 1,
         "range": [
          0.5,
          9.5
         ],
         "tickcolor": "#FFF",
         "title": "Predicted Class"
        },
        "yaxis": {
         "dtick": 1,
         "range": [
          9.5,
          0.5
         ],
         "tickcolor": "#FFF",
         "title": "True Class"
        }
       }
      },
      "text/html": [
       "<div id=\"1f30b711-8ba5-40cc-9a17-f393b8072933\" style=\"height: 500px; width: 500px;\" class=\"plotly-graph-div\"></div><script type=\"text/javascript\">require([\"plotly\"], function(Plotly) { window.PLOTLYENV=window.PLOTLYENV || {};window.PLOTLYENV.BASE_URL=\"https://plot.ly\";Plotly.newPlot(\"1f30b711-8ba5-40cc-9a17-f393b8072933\", [{\"colorscale\": \"Jet\", \"z\": [[0.0, 0.0, 0.0, 0.0, 0.0, 0.0, 0.0, 0.0, 0.0, 0.0], [0.0, 0.8104999999999999, 0.08680000000000002, 0.0605, 0.028300000000000002, 0.0068000000000000005, 0.0022, 0.0012000000000000001, 0.0023000000000000004, 0.0013999999999999998], [0.0, 0.6279, 0.1393, 0.1119, 0.053200000000000004, 0.022400000000000007, 0.0147, 0.011300000000000001, 0.011800000000000001, 0.0075], [0.0, 0.4832000000000001, 0.15219999999999997, 0.14540000000000003, 0.0844, 0.0352, 0.0324, 0.0288, 0.021199999999999997, 0.0172], [0.0, 0.3645, 0.1543, 0.1588, 0.09960000000000001, 0.06000000000000001, 0.0534, 0.047, 0.034800000000000005, 0.027600000000000003], [0.0, 0.2733, 0.1417, 0.16340000000000005, 0.12079999999999998, 0.07390000000000001, 0.0696, 0.06850000000000002, 0.0505, 0.038299999999999994], [0.0, 0.21759999999999996, 0.1328, 0.159, 0.1137, 0.08269999999999998, 0.08850000000000001, 0.08440000000000002, 0.0699, 0.0514], [0.0, 0.1588, 0.11710000000000001, 0.1507, 0.13069999999999998, 0.09029999999999999, 0.10270000000000001, 0.1068, 0.0789, 0.064], [0.0, 0.1238, 0.0958, 0.1407, 0.12910000000000002, 0.10599999999999998, 0.11139999999999999, 0.1145, 0.10029999999999999, 0.0784], [0.0, 0.09340000000000001, 0.0864, 0.13710000000000003, 0.1243, 0.1096, 0.124, 0.1347, 0.1049, 0.0856]], \"type\": \"heatmap\"}], {\"xaxis\": {\"title\": \"Predicted Class\", \"dtick\": 1, \"range\": [0.5, 9.5], \"tickcolor\": \"#FFF\"}, \"plot_bgcolor\": \"#000\", \"titlefont\": {\"color\": \"#FFF\"}, \"paper_bgcolor\": \"#000\", \"height\": 500, \"yaxis\": {\"title\": \"True Class\", \"dtick\": 1, \"range\": [9.5, 0.5], \"tickcolor\": \"#FFF\"}, \"title\": \"Choice after 16000 Iterations at Glimpse 3\", \"font\": {\"color\": \"#FFF\"}, \"width\": 500}, {\"showLink\": true, \"linkText\": \"Export to plot.ly\"})});</script>"
      ],
      "text/vnd.plotly.v1+html": [
       "<div id=\"1f30b711-8ba5-40cc-9a17-f393b8072933\" style=\"height: 500px; width: 500px;\" class=\"plotly-graph-div\"></div><script type=\"text/javascript\">require([\"plotly\"], function(Plotly) { window.PLOTLYENV=window.PLOTLYENV || {};window.PLOTLYENV.BASE_URL=\"https://plot.ly\";Plotly.newPlot(\"1f30b711-8ba5-40cc-9a17-f393b8072933\", [{\"colorscale\": \"Jet\", \"z\": [[0.0, 0.0, 0.0, 0.0, 0.0, 0.0, 0.0, 0.0, 0.0, 0.0], [0.0, 0.8104999999999999, 0.08680000000000002, 0.0605, 0.028300000000000002, 0.0068000000000000005, 0.0022, 0.0012000000000000001, 0.0023000000000000004, 0.0013999999999999998], [0.0, 0.6279, 0.1393, 0.1119, 0.053200000000000004, 0.022400000000000007, 0.0147, 0.011300000000000001, 0.011800000000000001, 0.0075], [0.0, 0.4832000000000001, 0.15219999999999997, 0.14540000000000003, 0.0844, 0.0352, 0.0324, 0.0288, 0.021199999999999997, 0.0172], [0.0, 0.3645, 0.1543, 0.1588, 0.09960000000000001, 0.06000000000000001, 0.0534, 0.047, 0.034800000000000005, 0.027600000000000003], [0.0, 0.2733, 0.1417, 0.16340000000000005, 0.12079999999999998, 0.07390000000000001, 0.0696, 0.06850000000000002, 0.0505, 0.038299999999999994], [0.0, 0.21759999999999996, 0.1328, 0.159, 0.1137, 0.08269999999999998, 0.08850000000000001, 0.08440000000000002, 0.0699, 0.0514], [0.0, 0.1588, 0.11710000000000001, 0.1507, 0.13069999999999998, 0.09029999999999999, 0.10270000000000001, 0.1068, 0.0789, 0.064], [0.0, 0.1238, 0.0958, 0.1407, 0.12910000000000002, 0.10599999999999998, 0.11139999999999999, 0.1145, 0.10029999999999999, 0.0784], [0.0, 0.09340000000000001, 0.0864, 0.13710000000000003, 0.1243, 0.1096, 0.124, 0.1347, 0.1049, 0.0856]], \"type\": \"heatmap\"}], {\"xaxis\": {\"title\": \"Predicted Class\", \"dtick\": 1, \"range\": [0.5, 9.5], \"tickcolor\": \"#FFF\"}, \"plot_bgcolor\": \"#000\", \"titlefont\": {\"color\": \"#FFF\"}, \"paper_bgcolor\": \"#000\", \"height\": 500, \"yaxis\": {\"title\": \"True Class\", \"dtick\": 1, \"range\": [9.5, 0.5], \"tickcolor\": \"#FFF\"}, \"title\": \"Choice after 16000 Iterations at Glimpse 3\", \"font\": {\"color\": \"#FFF\"}, \"width\": 500}, {\"showLink\": true, \"linkText\": \"Export to plot.ly\"})});</script>"
      ]
     },
     "metadata": {},
     "output_type": "display_data"
    },
    {
     "data": {
      "application/vnd.plotly.v1+json": {
       "data": [
        {
         "colorscale": "Jet",
         "type": "heatmap",
         "z": [
          [
           0,
           0,
           0,
           0,
           0,
           0,
           0,
           0,
           0,
           0
          ],
          [
           0,
           0.48030805411729965,
           0.18505292450413108,
           0.12839233656562865,
           0.07854759258944541,
           0.04248604548112489,
           0.031469366153934974,
           0.025289800034463412,
           0.017202804210182512,
           0.011251075032755036
          ],
          [
           0,
           0.37760247714426765,
           0.1815029861189354,
           0.14807202918087387,
           0.09927755712037978,
           0.0589331129359547,
           0.04764766862991964,
           0.03960262765372172,
           0.028479010690903674,
           0.018882530755763217
          ],
          [
           0,
           0.30213004123022685,
           0.17228727178309206,
           0.15926032067773044,
           0.11314102449257202,
           0.0710056550749403,
           0.06135522125764983,
           0.05361935812071896,
           0.04027757731011952,
           0.026923530450627738
          ],
          [
           0,
           0.24425508114588385,
           0.16043109426090194,
           0.16399829472770214,
           0.12318670339493838,
           0.08185132688091833,
           0.07539019293964958,
           0.06554312616087118,
           0.05136023208789449,
           0.03398394833363569
          ],
          [
           0,
           0.20154477227481066,
           0.1477204069444592,
           0.16172581636314914,
           0.13069757793266074,
           0.0910447880417807,
           0.0870908676164923,
           0.0777507140604721,
           0.06142945638597062,
           0.04099560030020734
          ],
          [
           0,
           0.17022981997543063,
           0.13600133445416804,
           0.16156836843176428,
           0.13467602175761567,
           0.09676869295992657,
           0.09541741617590305,
           0.08649353481909494,
           0.07068628907789096,
           0.04815852063312196
          ],
          [
           0,
           0.14188168721976463,
           0.12410364880791291,
           0.1565400430879764,
           0.13630293051406772,
           0.10246722718836392,
           0.10662777617842514,
           0.0962798478771303,
           0.08097293349808458,
           0.05482390556349762
          ],
          [
           0,
           0.1244392817728944,
           0.114355436136123,
           0.15335431196607624,
           0.13648431061562732,
           0.10660983429855404,
           0.11240003635406319,
           0.10247299293696341,
           0.08959182738115926,
           0.06029196864656661
          ],
          [
           0,
           0.10692488263229125,
           0.10544774921780797,
           0.1465663976171162,
           0.13817807636647378,
           0.1114812229346563,
           0.11835347089362949,
           0.11084595664597437,
           0.09662292474105642,
           0.06557931982217505
          ]
         ]
        }
       ],
       "layout": {
        "font": {
         "color": "#FFF"
        },
        "height": 500,
        "paper_bgcolor": "#000",
        "plot_bgcolor": "#000",
        "title": "Confidence after 16000 Iterations at Glimpse 9",
        "titlefont": {
         "color": "#FFF"
        },
        "width": 500,
        "xaxis": {
         "dtick": 1,
         "range": [
          0.5,
          9.5
         ],
         "tickcolor": "#FFF",
         "title": "Predicted Class"
        },
        "yaxis": {
         "dtick": 1,
         "range": [
          9.5,
          0.5
         ],
         "tickcolor": "#FFF",
         "title": "True Class"
        }
       }
      },
      "text/html": [
       "<div id=\"5f16fc60-dc84-4e34-aa6a-f27cc99298b3\" style=\"height: 500px; width: 500px;\" class=\"plotly-graph-div\"></div><script type=\"text/javascript\">require([\"plotly\"], function(Plotly) { window.PLOTLYENV=window.PLOTLYENV || {};window.PLOTLYENV.BASE_URL=\"https://plot.ly\";Plotly.newPlot(\"5f16fc60-dc84-4e34-aa6a-f27cc99298b3\", [{\"colorscale\": \"Jet\", \"z\": [[0.0, 0.0, 0.0, 0.0, 0.0, 0.0, 0.0, 0.0, 0.0, 0.0], [0.0, 0.48030805411729965, 0.18505292450413108, 0.12839233656562865, 0.07854759258944541, 0.04248604548112489, 0.031469366153934974, 0.025289800034463412, 0.017202804210182512, 0.011251075032755036], [0.0, 0.37760247714426765, 0.1815029861189354, 0.14807202918087387, 0.09927755712037978, 0.0589331129359547, 0.04764766862991964, 0.03960262765372172, 0.028479010690903674, 0.018882530755763217], [0.0, 0.30213004123022685, 0.17228727178309206, 0.15926032067773044, 0.11314102449257202, 0.0710056550749403, 0.06135522125764983, 0.05361935812071896, 0.04027757731011952, 0.026923530450627738], [0.0, 0.24425508114588385, 0.16043109426090194, 0.16399829472770214, 0.12318670339493838, 0.08185132688091833, 0.07539019293964958, 0.06554312616087118, 0.05136023208789449, 0.03398394833363569], [0.0, 0.20154477227481066, 0.1477204069444592, 0.16172581636314914, 0.13069757793266074, 0.0910447880417807, 0.0870908676164923, 0.0777507140604721, 0.06142945638597062, 0.04099560030020734], [0.0, 0.17022981997543063, 0.13600133445416804, 0.16156836843176428, 0.13467602175761567, 0.09676869295992657, 0.09541741617590305, 0.08649353481909494, 0.07068628907789096, 0.04815852063312196], [0.0, 0.14188168721976463, 0.12410364880791291, 0.1565400430879764, 0.13630293051406772, 0.10246722718836392, 0.10662777617842514, 0.0962798478771303, 0.08097293349808458, 0.05482390556349762], [0.0, 0.1244392817728944, 0.114355436136123, 0.15335431196607624, 0.13648431061562732, 0.10660983429855404, 0.11240003635406319, 0.10247299293696341, 0.08959182738115926, 0.06029196864656661], [0.0, 0.10692488263229125, 0.10544774921780797, 0.1465663976171162, 0.13817807636647378, 0.1114812229346563, 0.11835347089362949, 0.11084595664597437, 0.09662292474105642, 0.06557931982217505]], \"type\": \"heatmap\"}], {\"xaxis\": {\"title\": \"Predicted Class\", \"dtick\": 1, \"range\": [0.5, 9.5], \"tickcolor\": \"#FFF\"}, \"plot_bgcolor\": \"#000\", \"titlefont\": {\"color\": \"#FFF\"}, \"paper_bgcolor\": \"#000\", \"height\": 500, \"yaxis\": {\"title\": \"True Class\", \"dtick\": 1, \"range\": [9.5, 0.5], \"tickcolor\": \"#FFF\"}, \"title\": \"Confidence after 16000 Iterations at Glimpse 9\", \"font\": {\"color\": \"#FFF\"}, \"width\": 500}, {\"showLink\": true, \"linkText\": \"Export to plot.ly\"})});</script>"
      ],
      "text/vnd.plotly.v1+html": [
       "<div id=\"5f16fc60-dc84-4e34-aa6a-f27cc99298b3\" style=\"height: 500px; width: 500px;\" class=\"plotly-graph-div\"></div><script type=\"text/javascript\">require([\"plotly\"], function(Plotly) { window.PLOTLYENV=window.PLOTLYENV || {};window.PLOTLYENV.BASE_URL=\"https://plot.ly\";Plotly.newPlot(\"5f16fc60-dc84-4e34-aa6a-f27cc99298b3\", [{\"colorscale\": \"Jet\", \"z\": [[0.0, 0.0, 0.0, 0.0, 0.0, 0.0, 0.0, 0.0, 0.0, 0.0], [0.0, 0.48030805411729965, 0.18505292450413108, 0.12839233656562865, 0.07854759258944541, 0.04248604548112489, 0.031469366153934974, 0.025289800034463412, 0.017202804210182512, 0.011251075032755036], [0.0, 0.37760247714426765, 0.1815029861189354, 0.14807202918087387, 0.09927755712037978, 0.0589331129359547, 0.04764766862991964, 0.03960262765372172, 0.028479010690903674, 0.018882530755763217], [0.0, 0.30213004123022685, 0.17228727178309206, 0.15926032067773044, 0.11314102449257202, 0.0710056550749403, 0.06135522125764983, 0.05361935812071896, 0.04027757731011952, 0.026923530450627738], [0.0, 0.24425508114588385, 0.16043109426090194, 0.16399829472770214, 0.12318670339493838, 0.08185132688091833, 0.07539019293964958, 0.06554312616087118, 0.05136023208789449, 0.03398394833363569], [0.0, 0.20154477227481066, 0.1477204069444592, 0.16172581636314914, 0.13069757793266074, 0.0910447880417807, 0.0870908676164923, 0.0777507140604721, 0.06142945638597062, 0.04099560030020734], [0.0, 0.17022981997543063, 0.13600133445416804, 0.16156836843176428, 0.13467602175761567, 0.09676869295992657, 0.09541741617590305, 0.08649353481909494, 0.07068628907789096, 0.04815852063312196], [0.0, 0.14188168721976463, 0.12410364880791291, 0.1565400430879764, 0.13630293051406772, 0.10246722718836392, 0.10662777617842514, 0.0962798478771303, 0.08097293349808458, 0.05482390556349762], [0.0, 0.1244392817728944, 0.114355436136123, 0.15335431196607624, 0.13648431061562732, 0.10660983429855404, 0.11240003635406319, 0.10247299293696341, 0.08959182738115926, 0.06029196864656661], [0.0, 0.10692488263229125, 0.10544774921780797, 0.1465663976171162, 0.13817807636647378, 0.1114812229346563, 0.11835347089362949, 0.11084595664597437, 0.09662292474105642, 0.06557931982217505]], \"type\": \"heatmap\"}], {\"xaxis\": {\"title\": \"Predicted Class\", \"dtick\": 1, \"range\": [0.5, 9.5], \"tickcolor\": \"#FFF\"}, \"plot_bgcolor\": \"#000\", \"titlefont\": {\"color\": \"#FFF\"}, \"paper_bgcolor\": \"#000\", \"height\": 500, \"yaxis\": {\"title\": \"True Class\", \"dtick\": 1, \"range\": [9.5, 0.5], \"tickcolor\": \"#FFF\"}, \"title\": \"Confidence after 16000 Iterations at Glimpse 9\", \"font\": {\"color\": \"#FFF\"}, \"width\": 500}, {\"showLink\": true, \"linkText\": \"Export to plot.ly\"})});</script>"
      ]
     },
     "metadata": {},
     "output_type": "display_data"
    },
    {
     "data": {
      "application/vnd.plotly.v1+json": {
       "data": [
        {
         "colorscale": "Jet",
         "type": "heatmap",
         "z": [
          [
           0,
           0,
           0,
           0,
           0,
           0,
           0,
           0,
           0,
           0
          ],
          [
           0,
           0.8296000000000001,
           0.05890000000000001,
           0.0703,
           0.0325,
           0.0043,
           0.0012000000000000001,
           0.002,
           0.0005,
           0.0007
          ],
          [
           0,
           0.6759000000000001,
           0.0992,
           0.12249999999999997,
           0.0588,
           0.0125,
           0.0093,
           0.0117,
           0.0053,
           0.0048000000000000004
          ],
          [
           0,
           0.5374,
           0.1169,
           0.1747,
           0.0828,
           0.0216,
           0.02,
           0.023200000000000005,
           0.0147,
           0.0087
          ],
          [
           0,
           0.42250000000000004,
           0.124,
           0.20850000000000005,
           0.10460000000000003,
           0.031000000000000007,
           0.03500000000000001,
           0.0353,
           0.0254,
           0.0137
          ],
          [
           0,
           0.3417,
           0.11880000000000002,
           0.2096,
           0.1224,
           0.0455,
           0.05170000000000001,
           0.0553,
           0.0343,
           0.020700000000000003
          ],
          [
           0,
           0.27470000000000006,
           0.11099999999999999,
           0.22480000000000003,
           0.13169999999999998,
           0.0533,
           0.0654,
           0.06420000000000001,
           0.04870000000000001,
           0.0262
          ],
          [
           0,
           0.2162,
           0.10469999999999999,
           0.21750000000000003,
           0.1426,
           0.060300000000000006,
           0.08170000000000001,
           0.078,
           0.0631,
           0.0359
          ],
          [
           0,
           0.177,
           0.0979,
           0.2202,
           0.13839999999999997,
           0.0694,
           0.0929,
           0.08980000000000002,
           0.0731,
           0.0413
          ],
          [
           0,
           0.1413,
           0.0913,
           0.20580000000000004,
           0.1436,
           0.07790000000000001,
           0.1034,
           0.10029999999999999,
           0.0879,
           0.0485
          ]
         ]
        }
       ],
       "layout": {
        "font": {
         "color": "#FFF"
        },
        "height": 500,
        "paper_bgcolor": "#000",
        "plot_bgcolor": "#000",
        "title": "Choice after 16000 Iterations at Glimpse 9",
        "titlefont": {
         "color": "#FFF"
        },
        "width": 500,
        "xaxis": {
         "dtick": 1,
         "range": [
          0.5,
          9.5
         ],
         "tickcolor": "#FFF",
         "title": "Predicted Class"
        },
        "yaxis": {
         "dtick": 1,
         "range": [
          9.5,
          0.5
         ],
         "tickcolor": "#FFF",
         "title": "True Class"
        }
       }
      },
      "text/html": [
       "<div id=\"e4dff690-62b6-4430-9243-e83850d4f9b7\" style=\"height: 500px; width: 500px;\" class=\"plotly-graph-div\"></div><script type=\"text/javascript\">require([\"plotly\"], function(Plotly) { window.PLOTLYENV=window.PLOTLYENV || {};window.PLOTLYENV.BASE_URL=\"https://plot.ly\";Plotly.newPlot(\"e4dff690-62b6-4430-9243-e83850d4f9b7\", [{\"colorscale\": \"Jet\", \"z\": [[0.0, 0.0, 0.0, 0.0, 0.0, 0.0, 0.0, 0.0, 0.0, 0.0], [0.0, 0.8296000000000001, 0.05890000000000001, 0.0703, 0.0325, 0.0043, 0.0012000000000000001, 0.002, 0.0005, 0.0007], [0.0, 0.6759000000000001, 0.0992, 0.12249999999999997, 0.0588, 0.0125, 0.0093, 0.0117, 0.0053, 0.0048000000000000004], [0.0, 0.5374, 0.1169, 0.1747, 0.0828, 0.0216, 0.02, 0.023200000000000005, 0.0147, 0.0087], [0.0, 0.42250000000000004, 0.124, 0.20850000000000005, 0.10460000000000003, 0.031000000000000007, 0.03500000000000001, 0.0353, 0.0254, 0.0137], [0.0, 0.3417, 0.11880000000000002, 0.2096, 0.1224, 0.0455, 0.05170000000000001, 0.0553, 0.0343, 0.020700000000000003], [0.0, 0.27470000000000006, 0.11099999999999999, 0.22480000000000003, 0.13169999999999998, 0.0533, 0.0654, 0.06420000000000001, 0.04870000000000001, 0.0262], [0.0, 0.2162, 0.10469999999999999, 0.21750000000000003, 0.1426, 0.060300000000000006, 0.08170000000000001, 0.078, 0.0631, 0.0359], [0.0, 0.177, 0.0979, 0.2202, 0.13839999999999997, 0.0694, 0.0929, 0.08980000000000002, 0.0731, 0.0413], [0.0, 0.1413, 0.0913, 0.20580000000000004, 0.1436, 0.07790000000000001, 0.1034, 0.10029999999999999, 0.0879, 0.0485]], \"type\": \"heatmap\"}], {\"xaxis\": {\"title\": \"Predicted Class\", \"dtick\": 1, \"range\": [0.5, 9.5], \"tickcolor\": \"#FFF\"}, \"plot_bgcolor\": \"#000\", \"titlefont\": {\"color\": \"#FFF\"}, \"paper_bgcolor\": \"#000\", \"height\": 500, \"yaxis\": {\"title\": \"True Class\", \"dtick\": 1, \"range\": [9.5, 0.5], \"tickcolor\": \"#FFF\"}, \"title\": \"Choice after 16000 Iterations at Glimpse 9\", \"font\": {\"color\": \"#FFF\"}, \"width\": 500}, {\"showLink\": true, \"linkText\": \"Export to plot.ly\"})});</script>"
      ],
      "text/vnd.plotly.v1+html": [
       "<div id=\"e4dff690-62b6-4430-9243-e83850d4f9b7\" style=\"height: 500px; width: 500px;\" class=\"plotly-graph-div\"></div><script type=\"text/javascript\">require([\"plotly\"], function(Plotly) { window.PLOTLYENV=window.PLOTLYENV || {};window.PLOTLYENV.BASE_URL=\"https://plot.ly\";Plotly.newPlot(\"e4dff690-62b6-4430-9243-e83850d4f9b7\", [{\"colorscale\": \"Jet\", \"z\": [[0.0, 0.0, 0.0, 0.0, 0.0, 0.0, 0.0, 0.0, 0.0, 0.0], [0.0, 0.8296000000000001, 0.05890000000000001, 0.0703, 0.0325, 0.0043, 0.0012000000000000001, 0.002, 0.0005, 0.0007], [0.0, 0.6759000000000001, 0.0992, 0.12249999999999997, 0.0588, 0.0125, 0.0093, 0.0117, 0.0053, 0.0048000000000000004], [0.0, 0.5374, 0.1169, 0.1747, 0.0828, 0.0216, 0.02, 0.023200000000000005, 0.0147, 0.0087], [0.0, 0.42250000000000004, 0.124, 0.20850000000000005, 0.10460000000000003, 0.031000000000000007, 0.03500000000000001, 0.0353, 0.0254, 0.0137], [0.0, 0.3417, 0.11880000000000002, 0.2096, 0.1224, 0.0455, 0.05170000000000001, 0.0553, 0.0343, 0.020700000000000003], [0.0, 0.27470000000000006, 0.11099999999999999, 0.22480000000000003, 0.13169999999999998, 0.0533, 0.0654, 0.06420000000000001, 0.04870000000000001, 0.0262], [0.0, 0.2162, 0.10469999999999999, 0.21750000000000003, 0.1426, 0.060300000000000006, 0.08170000000000001, 0.078, 0.0631, 0.0359], [0.0, 0.177, 0.0979, 0.2202, 0.13839999999999997, 0.0694, 0.0929, 0.08980000000000002, 0.0731, 0.0413], [0.0, 0.1413, 0.0913, 0.20580000000000004, 0.1436, 0.07790000000000001, 0.1034, 0.10029999999999999, 0.0879, 0.0485]], \"type\": \"heatmap\"}], {\"xaxis\": {\"title\": \"Predicted Class\", \"dtick\": 1, \"range\": [0.5, 9.5], \"tickcolor\": \"#FFF\"}, \"plot_bgcolor\": \"#000\", \"titlefont\": {\"color\": \"#FFF\"}, \"paper_bgcolor\": \"#000\", \"height\": 500, \"yaxis\": {\"title\": \"True Class\", \"dtick\": 1, \"range\": [9.5, 0.5], \"tickcolor\": \"#FFF\"}, \"title\": \"Choice after 16000 Iterations at Glimpse 9\", \"font\": {\"color\": \"#FFF\"}, \"width\": 500}, {\"showLink\": true, \"linkText\": \"Export to plot.ly\"})});</script>"
      ]
     },
     "metadata": {},
     "output_type": "display_data"
    },
    {
     "data": {
      "application/vnd.plotly.v1+json": {
       "data": [
        {
         "colorscale": "Jet",
         "type": "heatmap",
         "z": [
          [
           0,
           0,
           0,
           0,
           0,
           0,
           0,
           0,
           0,
           0
          ],
          [
           0,
           0.6013599413431715,
           0.1964787580894954,
           0.08676463716224779,
           0.04706002364926826,
           0.0277233914676297,
           0.01607547519883592,
           0.010437731550858007,
           0.008300750111267222,
           0.005799291790183262
          ],
          [
           0,
           0.3900813158030646,
           0.22442387840717032,
           0.1345896653645599,
           0.08824134504083529,
           0.059499591374767326,
           0.03884234343683237,
           0.02671747127236886,
           0.022201862735888086,
           0.015402526382910847
          ],
          [
           0,
           0.24791268012254458,
           0.20642659581098735,
           0.1536948790528477,
           0.11788782906762367,
           0.08925483104477741,
           0.06412258992071362,
           0.04923014023834439,
           0.04392086368819005,
           0.027549590469616626
          ],
          [
           0,
           0.1568121429041926,
           0.1737344582692971,
           0.15668618130121745,
           0.13410697588911827,
           0.11095598324346434,
           0.08692357583506558,
           0.07028869805293816,
           0.06610143634317198,
           0.044390547780807574
          ],
          [
           0,
           0.10258641014650242,
           0.1354334589891053,
           0.14349148603841383,
           0.14116115318938,
           0.12556913472745365,
           0.1089669151880446,
           0.09207325410259487,
           0.08986569342242637,
           0.06085249443637762
          ],
          [
           0,
           0.07409608730926846,
           0.10977252879468927,
           0.13025644045460527,
           0.13551814753713978,
           0.12848435581075246,
           0.12105541241780342,
           0.11100214724976434,
           0.11515758861720637,
           0.074657292450072
          ],
          [
           0,
           0.05216848075642737,
           0.08920635815423297,
           0.11402039882532622,
           0.1318508547521464,
           0.12869531287663027,
           0.13443715961265398,
           0.12344741352139121,
           0.13540426485384116,
           0.09076975592106067
          ],
          [
           0,
           0.04138218934743561,
           0.0723202835680466,
           0.09990474668911783,
           0.12118170381578415,
           0.12785282717146143,
           0.13911752885993206,
           0.13834553822818535,
           0.153220557968956,
           0.10667462413133814
          ],
          [
           0,
           0.031485965557654184,
           0.06063383374517341,
           0.09030137588094037,
           0.1133328780963174,
           0.1253725602896159,
           0.14128364801661475,
           0.14536564601156235,
           0.1743585080013096,
           0.11786558495646438
          ]
         ]
        }
       ],
       "layout": {
        "font": {
         "color": "#FFF"
        },
        "height": 500,
        "paper_bgcolor": "#000",
        "plot_bgcolor": "#000",
        "title": "Confidence after 32000 Iterations at Glimpse 0",
        "titlefont": {
         "color": "#FFF"
        },
        "width": 500,
        "xaxis": {
         "dtick": 1,
         "range": [
          0.5,
          9.5
         ],
         "tickcolor": "#FFF",
         "title": "Predicted Class"
        },
        "yaxis": {
         "dtick": 1,
         "range": [
          9.5,
          0.5
         ],
         "tickcolor": "#FFF",
         "title": "True Class"
        }
       }
      },
      "text/html": [
       "<div id=\"36dbd42c-39cf-4e9c-83da-023585563f68\" style=\"height: 500px; width: 500px;\" class=\"plotly-graph-div\"></div><script type=\"text/javascript\">require([\"plotly\"], function(Plotly) { window.PLOTLYENV=window.PLOTLYENV || {};window.PLOTLYENV.BASE_URL=\"https://plot.ly\";Plotly.newPlot(\"36dbd42c-39cf-4e9c-83da-023585563f68\", [{\"colorscale\": \"Jet\", \"z\": [[0.0, 0.0, 0.0, 0.0, 0.0, 0.0, 0.0, 0.0, 0.0, 0.0], [0.0, 0.6013599413431715, 0.1964787580894954, 0.08676463716224779, 0.04706002364926826, 0.0277233914676297, 0.01607547519883592, 0.010437731550858007, 0.008300750111267222, 0.005799291790183262], [0.0, 0.3900813158030646, 0.22442387840717032, 0.1345896653645599, 0.08824134504083529, 0.059499591374767326, 0.03884234343683237, 0.02671747127236886, 0.022201862735888086, 0.015402526382910847], [0.0, 0.24791268012254458, 0.20642659581098735, 0.1536948790528477, 0.11788782906762367, 0.08925483104477741, 0.06412258992071362, 0.04923014023834439, 0.04392086368819005, 0.027549590469616626], [0.0, 0.1568121429041926, 0.1737344582692971, 0.15668618130121745, 0.13410697588911827, 0.11095598324346434, 0.08692357583506558, 0.07028869805293816, 0.06610143634317198, 0.044390547780807574], [0.0, 0.10258641014650242, 0.1354334589891053, 0.14349148603841383, 0.14116115318938, 0.12556913472745365, 0.1089669151880446, 0.09207325410259487, 0.08986569342242637, 0.06085249443637762], [0.0, 0.07409608730926846, 0.10977252879468927, 0.13025644045460527, 0.13551814753713978, 0.12848435581075246, 0.12105541241780342, 0.11100214724976434, 0.11515758861720637, 0.074657292450072], [0.0, 0.05216848075642737, 0.08920635815423297, 0.11402039882532622, 0.1318508547521464, 0.12869531287663027, 0.13443715961265398, 0.12344741352139121, 0.13540426485384116, 0.09076975592106067], [0.0, 0.04138218934743561, 0.0723202835680466, 0.09990474668911783, 0.12118170381578415, 0.12785282717146143, 0.13911752885993206, 0.13834553822818535, 0.153220557968956, 0.10667462413133814], [0.0, 0.031485965557654184, 0.06063383374517341, 0.09030137588094037, 0.1133328780963174, 0.1253725602896159, 0.14128364801661475, 0.14536564601156235, 0.1743585080013096, 0.11786558495646438]], \"type\": \"heatmap\"}], {\"xaxis\": {\"title\": \"Predicted Class\", \"dtick\": 1, \"range\": [0.5, 9.5], \"tickcolor\": \"#FFF\"}, \"plot_bgcolor\": \"#000\", \"titlefont\": {\"color\": \"#FFF\"}, \"paper_bgcolor\": \"#000\", \"height\": 500, \"yaxis\": {\"title\": \"True Class\", \"dtick\": 1, \"range\": [9.5, 0.5], \"tickcolor\": \"#FFF\"}, \"title\": \"Confidence after 32000 Iterations at Glimpse 0\", \"font\": {\"color\": \"#FFF\"}, \"width\": 500}, {\"showLink\": true, \"linkText\": \"Export to plot.ly\"})});</script>"
      ],
      "text/vnd.plotly.v1+html": [
       "<div id=\"36dbd42c-39cf-4e9c-83da-023585563f68\" style=\"height: 500px; width: 500px;\" class=\"plotly-graph-div\"></div><script type=\"text/javascript\">require([\"plotly\"], function(Plotly) { window.PLOTLYENV=window.PLOTLYENV || {};window.PLOTLYENV.BASE_URL=\"https://plot.ly\";Plotly.newPlot(\"36dbd42c-39cf-4e9c-83da-023585563f68\", [{\"colorscale\": \"Jet\", \"z\": [[0.0, 0.0, 0.0, 0.0, 0.0, 0.0, 0.0, 0.0, 0.0, 0.0], [0.0, 0.6013599413431715, 0.1964787580894954, 0.08676463716224779, 0.04706002364926826, 0.0277233914676297, 0.01607547519883592, 0.010437731550858007, 0.008300750111267222, 0.005799291790183262], [0.0, 0.3900813158030646, 0.22442387840717032, 0.1345896653645599, 0.08824134504083529, 0.059499591374767326, 0.03884234343683237, 0.02671747127236886, 0.022201862735888086, 0.015402526382910847], [0.0, 0.24791268012254458, 0.20642659581098735, 0.1536948790528477, 0.11788782906762367, 0.08925483104477741, 0.06412258992071362, 0.04923014023834439, 0.04392086368819005, 0.027549590469616626], [0.0, 0.1568121429041926, 0.1737344582692971, 0.15668618130121745, 0.13410697588911827, 0.11095598324346434, 0.08692357583506558, 0.07028869805293816, 0.06610143634317198, 0.044390547780807574], [0.0, 0.10258641014650242, 0.1354334589891053, 0.14349148603841383, 0.14116115318938, 0.12556913472745365, 0.1089669151880446, 0.09207325410259487, 0.08986569342242637, 0.06085249443637762], [0.0, 0.07409608730926846, 0.10977252879468927, 0.13025644045460527, 0.13551814753713978, 0.12848435581075246, 0.12105541241780342, 0.11100214724976434, 0.11515758861720637, 0.074657292450072], [0.0, 0.05216848075642737, 0.08920635815423297, 0.11402039882532622, 0.1318508547521464, 0.12869531287663027, 0.13443715961265398, 0.12344741352139121, 0.13540426485384116, 0.09076975592106067], [0.0, 0.04138218934743561, 0.0723202835680466, 0.09990474668911783, 0.12118170381578415, 0.12785282717146143, 0.13911752885993206, 0.13834553822818535, 0.153220557968956, 0.10667462413133814], [0.0, 0.031485965557654184, 0.06063383374517341, 0.09030137588094037, 0.1133328780963174, 0.1253725602896159, 0.14128364801661475, 0.14536564601156235, 0.1743585080013096, 0.11786558495646438]], \"type\": \"heatmap\"}], {\"xaxis\": {\"title\": \"Predicted Class\", \"dtick\": 1, \"range\": [0.5, 9.5], \"tickcolor\": \"#FFF\"}, \"plot_bgcolor\": \"#000\", \"titlefont\": {\"color\": \"#FFF\"}, \"paper_bgcolor\": \"#000\", \"height\": 500, \"yaxis\": {\"title\": \"True Class\", \"dtick\": 1, \"range\": [9.5, 0.5], \"tickcolor\": \"#FFF\"}, \"title\": \"Confidence after 32000 Iterations at Glimpse 0\", \"font\": {\"color\": \"#FFF\"}, \"width\": 500}, {\"showLink\": true, \"linkText\": \"Export to plot.ly\"})});</script>"
      ]
     },
     "metadata": {},
     "output_type": "display_data"
    },
    {
     "data": {
      "application/vnd.plotly.v1+json": {
       "data": [
        {
         "colorscale": "Jet",
         "type": "heatmap",
         "z": [
          [
           0,
           0,
           0,
           0,
           0,
           0,
           0,
           0,
           0,
           0
          ],
          [
           0,
           0.9198999999999998,
           0.06310000000000002,
           0.0086,
           0.0048000000000000004,
           0.0021000000000000003,
           0.0006000000000000001,
           0.0004,
           0.0005,
           0
          ],
          [
           0,
           0.6416000000000001,
           0.19149999999999998,
           0.0784,
           0.0376,
           0.0207,
           0.013000000000000001,
           0.006,
           0.0066,
           0.004600000000000001
          ],
          [
           0,
           0.3968999999999999,
           0.23920000000000002,
           0.1423,
           0.0819,
           0.04909999999999999,
           0.0322,
           0.021900000000000003,
           0.0253,
           0.011199999999999998
          ],
          [
           0,
           0.23899999999999996,
           0.21739999999999998,
           0.1754,
           0.11789999999999998,
           0.082,
           0.058300000000000005,
           0.0417,
           0.044,
           0.0243
          ],
          [
           0,
           0.1447,
           0.1683,
           0.1658,
           0.14539999999999997,
           0.1085,
           0.092,
           0.0624,
           0.0729,
           0.039999999999999994
          ],
          [
           0,
           0.1015,
           0.1278,
           0.1527,
           0.142,
           0.11299999999999999,
           0.10940000000000001,
           0.0907,
           0.10640000000000001,
           0.05650000000000001
          ],
          [
           0,
           0.0646,
           0.10210000000000001,
           0.1251,
           0.14479999999999998,
           0.1153,
           0.1366,
           0.10269999999999999,
           0.1346,
           0.07420000000000002
          ],
          [
           0,
           0.05000000000000001,
           0.08,
           0.1014,
           0.1238,
           0.12069999999999999,
           0.13990000000000002,
           0.1296,
           0.1611,
           0.0935
          ],
          [
           0,
           0.03560000000000001,
           0.06190000000000001,
           0.0886,
           0.11500000000000002,
           0.11810000000000001,
           0.14689999999999998,
           0.1338,
           0.194,
           0.1061
          ]
         ]
        }
       ],
       "layout": {
        "font": {
         "color": "#FFF"
        },
        "height": 500,
        "paper_bgcolor": "#000",
        "plot_bgcolor": "#000",
        "title": "Choice after 32000 Iterations at Glimpse 0",
        "titlefont": {
         "color": "#FFF"
        },
        "width": 500,
        "xaxis": {
         "dtick": 1,
         "range": [
          0.5,
          9.5
         ],
         "tickcolor": "#FFF",
         "title": "Predicted Class"
        },
        "yaxis": {
         "dtick": 1,
         "range": [
          9.5,
          0.5
         ],
         "tickcolor": "#FFF",
         "title": "True Class"
        }
       }
      },
      "text/html": [
       "<div id=\"db9a6c59-e804-49fa-b1f3-d4ca984867aa\" style=\"height: 500px; width: 500px;\" class=\"plotly-graph-div\"></div><script type=\"text/javascript\">require([\"plotly\"], function(Plotly) { window.PLOTLYENV=window.PLOTLYENV || {};window.PLOTLYENV.BASE_URL=\"https://plot.ly\";Plotly.newPlot(\"db9a6c59-e804-49fa-b1f3-d4ca984867aa\", [{\"colorscale\": \"Jet\", \"z\": [[0.0, 0.0, 0.0, 0.0, 0.0, 0.0, 0.0, 0.0, 0.0, 0.0], [0.0, 0.9198999999999998, 0.06310000000000002, 0.0086, 0.0048000000000000004, 0.0021000000000000003, 0.0006000000000000001, 0.0004, 0.0005, 0.0], [0.0, 0.6416000000000001, 0.19149999999999998, 0.0784, 0.0376, 0.0207, 0.013000000000000001, 0.006, 0.0066, 0.004600000000000001], [0.0, 0.3968999999999999, 0.23920000000000002, 0.1423, 0.0819, 0.04909999999999999, 0.0322, 0.021900000000000003, 0.0253, 0.011199999999999998], [0.0, 0.23899999999999996, 0.21739999999999998, 0.1754, 0.11789999999999998, 0.082, 0.058300000000000005, 0.0417, 0.044, 0.0243], [0.0, 0.1447, 0.1683, 0.1658, 0.14539999999999997, 0.1085, 0.092, 0.0624, 0.0729, 0.039999999999999994], [0.0, 0.1015, 0.1278, 0.1527, 0.142, 0.11299999999999999, 0.10940000000000001, 0.0907, 0.10640000000000001, 0.05650000000000001], [0.0, 0.0646, 0.10210000000000001, 0.1251, 0.14479999999999998, 0.1153, 0.1366, 0.10269999999999999, 0.1346, 0.07420000000000002], [0.0, 0.05000000000000001, 0.08, 0.1014, 0.1238, 0.12069999999999999, 0.13990000000000002, 0.1296, 0.1611, 0.0935], [0.0, 0.03560000000000001, 0.06190000000000001, 0.0886, 0.11500000000000002, 0.11810000000000001, 0.14689999999999998, 0.1338, 0.194, 0.1061]], \"type\": \"heatmap\"}], {\"xaxis\": {\"title\": \"Predicted Class\", \"dtick\": 1, \"range\": [0.5, 9.5], \"tickcolor\": \"#FFF\"}, \"plot_bgcolor\": \"#000\", \"titlefont\": {\"color\": \"#FFF\"}, \"paper_bgcolor\": \"#000\", \"height\": 500, \"yaxis\": {\"title\": \"True Class\", \"dtick\": 1, \"range\": [9.5, 0.5], \"tickcolor\": \"#FFF\"}, \"title\": \"Choice after 32000 Iterations at Glimpse 0\", \"font\": {\"color\": \"#FFF\"}, \"width\": 500}, {\"showLink\": true, \"linkText\": \"Export to plot.ly\"})});</script>"
      ],
      "text/vnd.plotly.v1+html": [
       "<div id=\"db9a6c59-e804-49fa-b1f3-d4ca984867aa\" style=\"height: 500px; width: 500px;\" class=\"plotly-graph-div\"></div><script type=\"text/javascript\">require([\"plotly\"], function(Plotly) { window.PLOTLYENV=window.PLOTLYENV || {};window.PLOTLYENV.BASE_URL=\"https://plot.ly\";Plotly.newPlot(\"db9a6c59-e804-49fa-b1f3-d4ca984867aa\", [{\"colorscale\": \"Jet\", \"z\": [[0.0, 0.0, 0.0, 0.0, 0.0, 0.0, 0.0, 0.0, 0.0, 0.0], [0.0, 0.9198999999999998, 0.06310000000000002, 0.0086, 0.0048000000000000004, 0.0021000000000000003, 0.0006000000000000001, 0.0004, 0.0005, 0.0], [0.0, 0.6416000000000001, 0.19149999999999998, 0.0784, 0.0376, 0.0207, 0.013000000000000001, 0.006, 0.0066, 0.004600000000000001], [0.0, 0.3968999999999999, 0.23920000000000002, 0.1423, 0.0819, 0.04909999999999999, 0.0322, 0.021900000000000003, 0.0253, 0.011199999999999998], [0.0, 0.23899999999999996, 0.21739999999999998, 0.1754, 0.11789999999999998, 0.082, 0.058300000000000005, 0.0417, 0.044, 0.0243], [0.0, 0.1447, 0.1683, 0.1658, 0.14539999999999997, 0.1085, 0.092, 0.0624, 0.0729, 0.039999999999999994], [0.0, 0.1015, 0.1278, 0.1527, 0.142, 0.11299999999999999, 0.10940000000000001, 0.0907, 0.10640000000000001, 0.05650000000000001], [0.0, 0.0646, 0.10210000000000001, 0.1251, 0.14479999999999998, 0.1153, 0.1366, 0.10269999999999999, 0.1346, 0.07420000000000002], [0.0, 0.05000000000000001, 0.08, 0.1014, 0.1238, 0.12069999999999999, 0.13990000000000002, 0.1296, 0.1611, 0.0935], [0.0, 0.03560000000000001, 0.06190000000000001, 0.0886, 0.11500000000000002, 0.11810000000000001, 0.14689999999999998, 0.1338, 0.194, 0.1061]], \"type\": \"heatmap\"}], {\"xaxis\": {\"title\": \"Predicted Class\", \"dtick\": 1, \"range\": [0.5, 9.5], \"tickcolor\": \"#FFF\"}, \"plot_bgcolor\": \"#000\", \"titlefont\": {\"color\": \"#FFF\"}, \"paper_bgcolor\": \"#000\", \"height\": 500, \"yaxis\": {\"title\": \"True Class\", \"dtick\": 1, \"range\": [9.5, 0.5], \"tickcolor\": \"#FFF\"}, \"title\": \"Choice after 32000 Iterations at Glimpse 0\", \"font\": {\"color\": \"#FFF\"}, \"width\": 500}, {\"showLink\": true, \"linkText\": \"Export to plot.ly\"})});</script>"
      ]
     },
     "metadata": {},
     "output_type": "display_data"
    },
    {
     "data": {
      "application/vnd.plotly.v1+json": {
       "data": [
        {
         "colorscale": "Jet",
         "type": "heatmap",
         "z": [
          [
           0,
           0,
           0,
           0,
           0,
           0,
           0,
           0,
           0,
           0
          ],
          [
           0,
           0.6617162839325493,
           0.20352990216542968,
           0.07312085298696545,
           0.0301756914575828,
           0.015092875721497145,
           0.008402797330548146,
           0.0036835931822036456,
           0.002713216065852958,
           0.0015647867130931484
          ],
          [
           0,
           0.3916690024603424,
           0.2606578265523576,
           0.14914321519338847,
           0.08619320299777027,
           0.04810309438205644,
           0.02803133027065354,
           0.015769776747348512,
           0.01318412358054026,
           0.0072484269194222975
          ],
          [
           0,
           0.22097692438345518,
           0.2284778902999033,
           0.18135408601618125,
           0.1360052734846628,
           0.08955972813479757,
           0.055295645884437174,
           0.03716387009793238,
           0.03300288077548321,
           0.018163701385223097
          ],
          [
           0,
           0.12408491271664332,
           0.17266381192980082,
           0.17748258947471085,
           0.16231764167310422,
           0.1229796404806919,
           0.08297635492116978,
           0.06388380646981416,
           0.0595667653567636,
           0.034044477516373885
          ],
          [
           0,
           0.07530003267182303,
           0.11954406477090788,
           0.14746970116461428,
           0.16394895757342504,
           0.14152714787296716,
           0.10801088590261461,
           0.09319674819242427,
           0.0960232754781283,
           0.05497918684647435
          ],
          [
           0,
           0.050539926280786795,
           0.08744518807389015,
           0.12054504553575043,
           0.15123364709981446,
           0.1455042034513839,
           0.12131713482267933,
           0.11484429490135621,
           0.13091396227842586,
           0.07765659750581891
          ],
          [
           0,
           0.033417575347984264,
           0.062467843239225926,
           0.09583765319724878,
           0.13504256145315316,
           0.1431056353690511,
           0.13284950244470436,
           0.13349675795226212,
           0.1636405692011056,
           0.10014190232598086
          ],
          [
           0,
           0.02399308069493508,
           0.047622205150151545,
           0.0763179311523991,
           0.1161421166529111,
           0.1350164422995446,
           0.13532135978851276,
           0.14460754169596585,
           0.19468114872694212,
           0.12629817365780344
          ],
          [
           0,
           0.01763367950434838,
           0.03646769101679263,
           0.06131412653596148,
           0.1026267200351528,
           0.1254117495064799,
           0.13478378080641093,
           0.1528562375741283,
           0.22042007173861927,
           0.14848594286654107
          ]
         ]
        }
       ],
       "layout": {
        "font": {
         "color": "#FFF"
        },
        "height": 500,
        "paper_bgcolor": "#000",
        "plot_bgcolor": "#000",
        "title": "Confidence after 32000 Iterations at Glimpse 3",
        "titlefont": {
         "color": "#FFF"
        },
        "width": 500,
        "xaxis": {
         "dtick": 1,
         "range": [
          0.5,
          9.5
         ],
         "tickcolor": "#FFF",
         "title": "Predicted Class"
        },
        "yaxis": {
         "dtick": 1,
         "range": [
          9.5,
          0.5
         ],
         "tickcolor": "#FFF",
         "title": "True Class"
        }
       }
      },
      "text/html": [
       "<div id=\"3218804b-5f29-46b6-aeba-39c31e12b09d\" style=\"height: 500px; width: 500px;\" class=\"plotly-graph-div\"></div><script type=\"text/javascript\">require([\"plotly\"], function(Plotly) { window.PLOTLYENV=window.PLOTLYENV || {};window.PLOTLYENV.BASE_URL=\"https://plot.ly\";Plotly.newPlot(\"3218804b-5f29-46b6-aeba-39c31e12b09d\", [{\"colorscale\": \"Jet\", \"z\": [[0.0, 0.0, 0.0, 0.0, 0.0, 0.0, 0.0, 0.0, 0.0, 0.0], [0.0, 0.6617162839325493, 0.20352990216542968, 0.07312085298696545, 0.0301756914575828, 0.015092875721497145, 0.008402797330548146, 0.0036835931822036456, 0.002713216065852958, 0.0015647867130931484], [0.0, 0.3916690024603424, 0.2606578265523576, 0.14914321519338847, 0.08619320299777027, 0.04810309438205644, 0.02803133027065354, 0.015769776747348512, 0.01318412358054026, 0.0072484269194222975], [0.0, 0.22097692438345518, 0.2284778902999033, 0.18135408601618125, 0.1360052734846628, 0.08955972813479757, 0.055295645884437174, 0.03716387009793238, 0.03300288077548321, 0.018163701385223097], [0.0, 0.12408491271664332, 0.17266381192980082, 0.17748258947471085, 0.16231764167310422, 0.1229796404806919, 0.08297635492116978, 0.06388380646981416, 0.0595667653567636, 0.034044477516373885], [0.0, 0.07530003267182303, 0.11954406477090788, 0.14746970116461428, 0.16394895757342504, 0.14152714787296716, 0.10801088590261461, 0.09319674819242427, 0.0960232754781283, 0.05497918684647435], [0.0, 0.050539926280786795, 0.08744518807389015, 0.12054504553575043, 0.15123364709981446, 0.1455042034513839, 0.12131713482267933, 0.11484429490135621, 0.13091396227842586, 0.07765659750581891], [0.0, 0.033417575347984264, 0.062467843239225926, 0.09583765319724878, 0.13504256145315316, 0.1431056353690511, 0.13284950244470436, 0.13349675795226212, 0.1636405692011056, 0.10014190232598086], [0.0, 0.02399308069493508, 0.047622205150151545, 0.0763179311523991, 0.1161421166529111, 0.1350164422995446, 0.13532135978851276, 0.14460754169596585, 0.19468114872694212, 0.12629817365780344], [0.0, 0.01763367950434838, 0.03646769101679263, 0.06131412653596148, 0.1026267200351528, 0.1254117495064799, 0.13478378080641093, 0.1528562375741283, 0.22042007173861927, 0.14848594286654107]], \"type\": \"heatmap\"}], {\"xaxis\": {\"title\": \"Predicted Class\", \"dtick\": 1, \"range\": [0.5, 9.5], \"tickcolor\": \"#FFF\"}, \"plot_bgcolor\": \"#000\", \"titlefont\": {\"color\": \"#FFF\"}, \"paper_bgcolor\": \"#000\", \"height\": 500, \"yaxis\": {\"title\": \"True Class\", \"dtick\": 1, \"range\": [9.5, 0.5], \"tickcolor\": \"#FFF\"}, \"title\": \"Confidence after 32000 Iterations at Glimpse 3\", \"font\": {\"color\": \"#FFF\"}, \"width\": 500}, {\"showLink\": true, \"linkText\": \"Export to plot.ly\"})});</script>"
      ],
      "text/vnd.plotly.v1+html": [
       "<div id=\"3218804b-5f29-46b6-aeba-39c31e12b09d\" style=\"height: 500px; width: 500px;\" class=\"plotly-graph-div\"></div><script type=\"text/javascript\">require([\"plotly\"], function(Plotly) { window.PLOTLYENV=window.PLOTLYENV || {};window.PLOTLYENV.BASE_URL=\"https://plot.ly\";Plotly.newPlot(\"3218804b-5f29-46b6-aeba-39c31e12b09d\", [{\"colorscale\": \"Jet\", \"z\": [[0.0, 0.0, 0.0, 0.0, 0.0, 0.0, 0.0, 0.0, 0.0, 0.0], [0.0, 0.6617162839325493, 0.20352990216542968, 0.07312085298696545, 0.0301756914575828, 0.015092875721497145, 0.008402797330548146, 0.0036835931822036456, 0.002713216065852958, 0.0015647867130931484], [0.0, 0.3916690024603424, 0.2606578265523576, 0.14914321519338847, 0.08619320299777027, 0.04810309438205644, 0.02803133027065354, 0.015769776747348512, 0.01318412358054026, 0.0072484269194222975], [0.0, 0.22097692438345518, 0.2284778902999033, 0.18135408601618125, 0.1360052734846628, 0.08955972813479757, 0.055295645884437174, 0.03716387009793238, 0.03300288077548321, 0.018163701385223097], [0.0, 0.12408491271664332, 0.17266381192980082, 0.17748258947471085, 0.16231764167310422, 0.1229796404806919, 0.08297635492116978, 0.06388380646981416, 0.0595667653567636, 0.034044477516373885], [0.0, 0.07530003267182303, 0.11954406477090788, 0.14746970116461428, 0.16394895757342504, 0.14152714787296716, 0.10801088590261461, 0.09319674819242427, 0.0960232754781283, 0.05497918684647435], [0.0, 0.050539926280786795, 0.08744518807389015, 0.12054504553575043, 0.15123364709981446, 0.1455042034513839, 0.12131713482267933, 0.11484429490135621, 0.13091396227842586, 0.07765659750581891], [0.0, 0.033417575347984264, 0.062467843239225926, 0.09583765319724878, 0.13504256145315316, 0.1431056353690511, 0.13284950244470436, 0.13349675795226212, 0.1636405692011056, 0.10014190232598086], [0.0, 0.02399308069493508, 0.047622205150151545, 0.0763179311523991, 0.1161421166529111, 0.1350164422995446, 0.13532135978851276, 0.14460754169596585, 0.19468114872694212, 0.12629817365780344], [0.0, 0.01763367950434838, 0.03646769101679263, 0.06131412653596148, 0.1026267200351528, 0.1254117495064799, 0.13478378080641093, 0.1528562375741283, 0.22042007173861927, 0.14848594286654107]], \"type\": \"heatmap\"}], {\"xaxis\": {\"title\": \"Predicted Class\", \"dtick\": 1, \"range\": [0.5, 9.5], \"tickcolor\": \"#FFF\"}, \"plot_bgcolor\": \"#000\", \"titlefont\": {\"color\": \"#FFF\"}, \"paper_bgcolor\": \"#000\", \"height\": 500, \"yaxis\": {\"title\": \"True Class\", \"dtick\": 1, \"range\": [9.5, 0.5], \"tickcolor\": \"#FFF\"}, \"title\": \"Confidence after 32000 Iterations at Glimpse 3\", \"font\": {\"color\": \"#FFF\"}, \"width\": 500}, {\"showLink\": true, \"linkText\": \"Export to plot.ly\"})});</script>"
      ]
     },
     "metadata": {},
     "output_type": "display_data"
    },
    {
     "data": {
      "application/vnd.plotly.v1+json": {
       "data": [
        {
         "colorscale": "Jet",
         "type": "heatmap",
         "z": [
          [
           0,
           0,
           0,
           0,
           0,
           0,
           0,
           0,
           0,
           0
          ],
          [
           0,
           0.8903000000000002,
           0.09490000000000001,
           0.0119,
           0.0015,
           0.0005,
           0.0005,
           0.0002,
           0.0001,
           0.0001
          ],
          [
           0,
           0.5458999999999999,
           0.25409999999999994,
           0.11879999999999999,
           0.045200000000000004,
           0.015200000000000002,
           0.0098,
           0.004,
           0.0053,
           0.0017000000000000001
          ],
          [
           0,
           0.30710000000000004,
           0.25250000000000006,
           0.19490000000000002,
           0.1226,
           0.0531,
           0.029800000000000004,
           0.015500000000000003,
           0.018300000000000004,
           0.006200000000000001
          ],
          [
           0,
           0.16460000000000002,
           0.19580000000000003,
           0.2137,
           0.176,
           0.09380000000000002,
           0.05489999999999999,
           0.040400000000000005,
           0.04309999999999999,
           0.0177
          ],
          [
           0,
           0.1044,
           0.12080000000000002,
           0.1755,
           0.18839999999999998,
           0.1285,
           0.08979999999999999,
           0.0721,
           0.08549999999999999,
           0.034999999999999996
          ],
          [
           0,
           0.0665,
           0.09390000000000001,
           0.13269999999999998,
           0.17060000000000003,
           0.1382,
           0.10239999999999998,
           0.09430000000000002,
           0.14150000000000001,
           0.059899999999999995
          ],
          [
           0,
           0.040799999999999996,
           0.066,
           0.09530000000000001,
           0.1436,
           0.13580000000000003,
           0.12369999999999999,
           0.12189999999999998,
           0.18859999999999996,
           0.0843
          ],
          [
           0,
           0.029300000000000003,
           0.0511,
           0.06609999999999999,
           0.11359999999999999,
           0.1213,
           0.12589999999999998,
           0.13879999999999998,
           0.23419999999999996,
           0.1197
          ],
          [
           0,
           0.0195,
           0.037000000000000005,
           0.0491,
           0.0977,
           0.10730000000000002,
           0.1256,
           0.1446,
           0.2751,
           0.14410000000000003
          ]
         ]
        }
       ],
       "layout": {
        "font": {
         "color": "#FFF"
        },
        "height": 500,
        "paper_bgcolor": "#000",
        "plot_bgcolor": "#000",
        "title": "Choice after 32000 Iterations at Glimpse 3",
        "titlefont": {
         "color": "#FFF"
        },
        "width": 500,
        "xaxis": {
         "dtick": 1,
         "range": [
          0.5,
          9.5
         ],
         "tickcolor": "#FFF",
         "title": "Predicted Class"
        },
        "yaxis": {
         "dtick": 1,
         "range": [
          9.5,
          0.5
         ],
         "tickcolor": "#FFF",
         "title": "True Class"
        }
       }
      },
      "text/html": [
       "<div id=\"d65b58b9-968f-44c3-ba99-8fca57929cd8\" style=\"height: 500px; width: 500px;\" class=\"plotly-graph-div\"></div><script type=\"text/javascript\">require([\"plotly\"], function(Plotly) { window.PLOTLYENV=window.PLOTLYENV || {};window.PLOTLYENV.BASE_URL=\"https://plot.ly\";Plotly.newPlot(\"d65b58b9-968f-44c3-ba99-8fca57929cd8\", [{\"colorscale\": \"Jet\", \"z\": [[0.0, 0.0, 0.0, 0.0, 0.0, 0.0, 0.0, 0.0, 0.0, 0.0], [0.0, 0.8903000000000002, 0.09490000000000001, 0.0119, 0.0015, 0.0005, 0.0005, 0.0002, 0.0001, 0.0001], [0.0, 0.5458999999999999, 0.25409999999999994, 0.11879999999999999, 0.045200000000000004, 0.015200000000000002, 0.0098, 0.004, 0.0053, 0.0017000000000000001], [0.0, 0.30710000000000004, 0.25250000000000006, 0.19490000000000002, 0.1226, 0.0531, 0.029800000000000004, 0.015500000000000003, 0.018300000000000004, 0.006200000000000001], [0.0, 0.16460000000000002, 0.19580000000000003, 0.2137, 0.176, 0.09380000000000002, 0.05489999999999999, 0.040400000000000005, 0.04309999999999999, 0.0177], [0.0, 0.1044, 0.12080000000000002, 0.1755, 0.18839999999999998, 0.1285, 0.08979999999999999, 0.0721, 0.08549999999999999, 0.034999999999999996], [0.0, 0.0665, 0.09390000000000001, 0.13269999999999998, 0.17060000000000003, 0.1382, 0.10239999999999998, 0.09430000000000002, 0.14150000000000001, 0.059899999999999995], [0.0, 0.040799999999999996, 0.066, 0.09530000000000001, 0.1436, 0.13580000000000003, 0.12369999999999999, 0.12189999999999998, 0.18859999999999996, 0.0843], [0.0, 0.029300000000000003, 0.0511, 0.06609999999999999, 0.11359999999999999, 0.1213, 0.12589999999999998, 0.13879999999999998, 0.23419999999999996, 0.1197], [0.0, 0.0195, 0.037000000000000005, 0.0491, 0.0977, 0.10730000000000002, 0.1256, 0.1446, 0.2751, 0.14410000000000003]], \"type\": \"heatmap\"}], {\"xaxis\": {\"title\": \"Predicted Class\", \"dtick\": 1, \"range\": [0.5, 9.5], \"tickcolor\": \"#FFF\"}, \"plot_bgcolor\": \"#000\", \"titlefont\": {\"color\": \"#FFF\"}, \"paper_bgcolor\": \"#000\", \"height\": 500, \"yaxis\": {\"title\": \"True Class\", \"dtick\": 1, \"range\": [9.5, 0.5], \"tickcolor\": \"#FFF\"}, \"title\": \"Choice after 32000 Iterations at Glimpse 3\", \"font\": {\"color\": \"#FFF\"}, \"width\": 500}, {\"showLink\": true, \"linkText\": \"Export to plot.ly\"})});</script>"
      ],
      "text/vnd.plotly.v1+html": [
       "<div id=\"d65b58b9-968f-44c3-ba99-8fca57929cd8\" style=\"height: 500px; width: 500px;\" class=\"plotly-graph-div\"></div><script type=\"text/javascript\">require([\"plotly\"], function(Plotly) { window.PLOTLYENV=window.PLOTLYENV || {};window.PLOTLYENV.BASE_URL=\"https://plot.ly\";Plotly.newPlot(\"d65b58b9-968f-44c3-ba99-8fca57929cd8\", [{\"colorscale\": \"Jet\", \"z\": [[0.0, 0.0, 0.0, 0.0, 0.0, 0.0, 0.0, 0.0, 0.0, 0.0], [0.0, 0.8903000000000002, 0.09490000000000001, 0.0119, 0.0015, 0.0005, 0.0005, 0.0002, 0.0001, 0.0001], [0.0, 0.5458999999999999, 0.25409999999999994, 0.11879999999999999, 0.045200000000000004, 0.015200000000000002, 0.0098, 0.004, 0.0053, 0.0017000000000000001], [0.0, 0.30710000000000004, 0.25250000000000006, 0.19490000000000002, 0.1226, 0.0531, 0.029800000000000004, 0.015500000000000003, 0.018300000000000004, 0.006200000000000001], [0.0, 0.16460000000000002, 0.19580000000000003, 0.2137, 0.176, 0.09380000000000002, 0.05489999999999999, 0.040400000000000005, 0.04309999999999999, 0.0177], [0.0, 0.1044, 0.12080000000000002, 0.1755, 0.18839999999999998, 0.1285, 0.08979999999999999, 0.0721, 0.08549999999999999, 0.034999999999999996], [0.0, 0.0665, 0.09390000000000001, 0.13269999999999998, 0.17060000000000003, 0.1382, 0.10239999999999998, 0.09430000000000002, 0.14150000000000001, 0.059899999999999995], [0.0, 0.040799999999999996, 0.066, 0.09530000000000001, 0.1436, 0.13580000000000003, 0.12369999999999999, 0.12189999999999998, 0.18859999999999996, 0.0843], [0.0, 0.029300000000000003, 0.0511, 0.06609999999999999, 0.11359999999999999, 0.1213, 0.12589999999999998, 0.13879999999999998, 0.23419999999999996, 0.1197], [0.0, 0.0195, 0.037000000000000005, 0.0491, 0.0977, 0.10730000000000002, 0.1256, 0.1446, 0.2751, 0.14410000000000003]], \"type\": \"heatmap\"}], {\"xaxis\": {\"title\": \"Predicted Class\", \"dtick\": 1, \"range\": [0.5, 9.5], \"tickcolor\": \"#FFF\"}, \"plot_bgcolor\": \"#000\", \"titlefont\": {\"color\": \"#FFF\"}, \"paper_bgcolor\": \"#000\", \"height\": 500, \"yaxis\": {\"title\": \"True Class\", \"dtick\": 1, \"range\": [9.5, 0.5], \"tickcolor\": \"#FFF\"}, \"title\": \"Choice after 32000 Iterations at Glimpse 3\", \"font\": {\"color\": \"#FFF\"}, \"width\": 500}, {\"showLink\": true, \"linkText\": \"Export to plot.ly\"})});</script>"
      ]
     },
     "metadata": {},
     "output_type": "display_data"
    },
    {
     "data": {
      "application/vnd.plotly.v1+json": {
       "data": [
        {
         "colorscale": "Jet",
         "type": "heatmap",
         "z": [
          [
           0,
           0,
           0,
           0,
           0,
           0,
           0,
           0,
           0,
           0
          ],
          [
           0,
           0.6468438379546628,
           0.20338420725185427,
           0.07534957110385074,
           0.0321173529522936,
           0.018612115548059808,
           0.012427024737030182,
           0.004821936167932682,
           0.0036851585840187904,
           0.0027587963747874485
          ],
          [
           0,
           0.405963875553305,
           0.2557002963064151,
           0.14093040648163296,
           0.08032487670645813,
           0.048011748445494815,
           0.03038287232182993,
           0.01620517868021219,
           0.013947879627061158,
           0.008532866348712217
          ],
          [
           0,
           0.24230828398656074,
           0.22962432265020608,
           0.1741530253064586,
           0.1288382270923961,
           0.08534459821033388,
           0.05310243795750549,
           0.03543828698963366,
           0.03305032596218604,
           0.01814049130971797
          ],
          [
           0,
           0.14247611189271334,
           0.18007028797218047,
           0.1747978290031082,
           0.1572028317250486,
           0.12111085843921883,
           0.07649366010677584,
           0.05909375349668918,
           0.057259631759727744,
           0.031495036183189815
          ],
          [
           0,
           0.08870343632585595,
           0.1278054698197747,
           0.15293972086488355,
           0.15944038691278256,
           0.14320242233421596,
           0.09755784482221898,
           0.08938917956037129,
           0.09215411975036406,
           0.048807420396832155
          ],
          [
           0,
           0.06202662076279486,
           0.09590158176868699,
           0.12813705625074792,
           0.14834660506112787,
           0.1505863543734129,
           0.11205458557810052,
           0.11372347414367905,
           0.1228744487816931,
           0.06634927280155793
          ],
          [
           0,
           0.042116191480954406,
           0.07194588782902392,
           0.10506417069552328,
           0.13178554115208282,
           0.14851085210958845,
           0.12045463073657883,
           0.1351541739325272,
           0.15858766881011688,
           0.08638088311211627
          ],
          [
           0,
           0.03160972884924427,
           0.055658523164663576,
           0.08614826566460784,
           0.11543609303175459,
           0.1392331855043492,
           0.12384528244503308,
           0.1503035168071219,
           0.19072925457800885,
           0.10703614995034513
          ],
          [
           0,
           0.024879590237816725,
           0.04399910832555544,
           0.07144314458496873,
           0.10081123959407026,
           0.12840573840121217,
           0.12544132963381707,
           0.15934357670705795,
           0.21713281238052007,
           0.12854346122727148
          ]
         ]
        }
       ],
       "layout": {
        "font": {
         "color": "#FFF"
        },
        "height": 500,
        "paper_bgcolor": "#000",
        "plot_bgcolor": "#000",
        "title": "Confidence after 32000 Iterations at Glimpse 9",
        "titlefont": {
         "color": "#FFF"
        },
        "width": 500,
        "xaxis": {
         "dtick": 1,
         "range": [
          0.5,
          9.5
         ],
         "tickcolor": "#FFF",
         "title": "Predicted Class"
        },
        "yaxis": {
         "dtick": 1,
         "range": [
          9.5,
          0.5
         ],
         "tickcolor": "#FFF",
         "title": "True Class"
        }
       }
      },
      "text/html": [
       "<div id=\"071e9336-af5b-422d-8d03-7e790a5f0891\" style=\"height: 500px; width: 500px;\" class=\"plotly-graph-div\"></div><script type=\"text/javascript\">require([\"plotly\"], function(Plotly) { window.PLOTLYENV=window.PLOTLYENV || {};window.PLOTLYENV.BASE_URL=\"https://plot.ly\";Plotly.newPlot(\"071e9336-af5b-422d-8d03-7e790a5f0891\", [{\"colorscale\": \"Jet\", \"z\": [[0.0, 0.0, 0.0, 0.0, 0.0, 0.0, 0.0, 0.0, 0.0, 0.0], [0.0, 0.6468438379546628, 0.20338420725185427, 0.07534957110385074, 0.0321173529522936, 0.018612115548059808, 0.012427024737030182, 0.004821936167932682, 0.0036851585840187904, 0.0027587963747874485], [0.0, 0.405963875553305, 0.2557002963064151, 0.14093040648163296, 0.08032487670645813, 0.048011748445494815, 0.03038287232182993, 0.01620517868021219, 0.013947879627061158, 0.008532866348712217], [0.0, 0.24230828398656074, 0.22962432265020608, 0.1741530253064586, 0.1288382270923961, 0.08534459821033388, 0.05310243795750549, 0.03543828698963366, 0.03305032596218604, 0.01814049130971797], [0.0, 0.14247611189271334, 0.18007028797218047, 0.1747978290031082, 0.1572028317250486, 0.12111085843921883, 0.07649366010677584, 0.05909375349668918, 0.057259631759727744, 0.031495036183189815], [0.0, 0.08870343632585595, 0.1278054698197747, 0.15293972086488355, 0.15944038691278256, 0.14320242233421596, 0.09755784482221898, 0.08938917956037129, 0.09215411975036406, 0.048807420396832155], [0.0, 0.06202662076279486, 0.09590158176868699, 0.12813705625074792, 0.14834660506112787, 0.1505863543734129, 0.11205458557810052, 0.11372347414367905, 0.1228744487816931, 0.06634927280155793], [0.0, 0.042116191480954406, 0.07194588782902392, 0.10506417069552328, 0.13178554115208282, 0.14851085210958845, 0.12045463073657883, 0.1351541739325272, 0.15858766881011688, 0.08638088311211627], [0.0, 0.03160972884924427, 0.055658523164663576, 0.08614826566460784, 0.11543609303175459, 0.1392331855043492, 0.12384528244503308, 0.1503035168071219, 0.19072925457800885, 0.10703614995034513], [0.0, 0.024879590237816725, 0.04399910832555544, 0.07144314458496873, 0.10081123959407026, 0.12840573840121217, 0.12544132963381707, 0.15934357670705795, 0.21713281238052007, 0.12854346122727148]], \"type\": \"heatmap\"}], {\"xaxis\": {\"title\": \"Predicted Class\", \"dtick\": 1, \"range\": [0.5, 9.5], \"tickcolor\": \"#FFF\"}, \"plot_bgcolor\": \"#000\", \"titlefont\": {\"color\": \"#FFF\"}, \"paper_bgcolor\": \"#000\", \"height\": 500, \"yaxis\": {\"title\": \"True Class\", \"dtick\": 1, \"range\": [9.5, 0.5], \"tickcolor\": \"#FFF\"}, \"title\": \"Confidence after 32000 Iterations at Glimpse 9\", \"font\": {\"color\": \"#FFF\"}, \"width\": 500}, {\"showLink\": true, \"linkText\": \"Export to plot.ly\"})});</script>"
      ],
      "text/vnd.plotly.v1+html": [
       "<div id=\"071e9336-af5b-422d-8d03-7e790a5f0891\" style=\"height: 500px; width: 500px;\" class=\"plotly-graph-div\"></div><script type=\"text/javascript\">require([\"plotly\"], function(Plotly) { window.PLOTLYENV=window.PLOTLYENV || {};window.PLOTLYENV.BASE_URL=\"https://plot.ly\";Plotly.newPlot(\"071e9336-af5b-422d-8d03-7e790a5f0891\", [{\"colorscale\": \"Jet\", \"z\": [[0.0, 0.0, 0.0, 0.0, 0.0, 0.0, 0.0, 0.0, 0.0, 0.0], [0.0, 0.6468438379546628, 0.20338420725185427, 0.07534957110385074, 0.0321173529522936, 0.018612115548059808, 0.012427024737030182, 0.004821936167932682, 0.0036851585840187904, 0.0027587963747874485], [0.0, 0.405963875553305, 0.2557002963064151, 0.14093040648163296, 0.08032487670645813, 0.048011748445494815, 0.03038287232182993, 0.01620517868021219, 0.013947879627061158, 0.008532866348712217], [0.0, 0.24230828398656074, 0.22962432265020608, 0.1741530253064586, 0.1288382270923961, 0.08534459821033388, 0.05310243795750549, 0.03543828698963366, 0.03305032596218604, 0.01814049130971797], [0.0, 0.14247611189271334, 0.18007028797218047, 0.1747978290031082, 0.1572028317250486, 0.12111085843921883, 0.07649366010677584, 0.05909375349668918, 0.057259631759727744, 0.031495036183189815], [0.0, 0.08870343632585595, 0.1278054698197747, 0.15293972086488355, 0.15944038691278256, 0.14320242233421596, 0.09755784482221898, 0.08938917956037129, 0.09215411975036406, 0.048807420396832155], [0.0, 0.06202662076279486, 0.09590158176868699, 0.12813705625074792, 0.14834660506112787, 0.1505863543734129, 0.11205458557810052, 0.11372347414367905, 0.1228744487816931, 0.06634927280155793], [0.0, 0.042116191480954406, 0.07194588782902392, 0.10506417069552328, 0.13178554115208282, 0.14851085210958845, 0.12045463073657883, 0.1351541739325272, 0.15858766881011688, 0.08638088311211627], [0.0, 0.03160972884924427, 0.055658523164663576, 0.08614826566460784, 0.11543609303175459, 0.1392331855043492, 0.12384528244503308, 0.1503035168071219, 0.19072925457800885, 0.10703614995034513], [0.0, 0.024879590237816725, 0.04399910832555544, 0.07144314458496873, 0.10081123959407026, 0.12840573840121217, 0.12544132963381707, 0.15934357670705795, 0.21713281238052007, 0.12854346122727148]], \"type\": \"heatmap\"}], {\"xaxis\": {\"title\": \"Predicted Class\", \"dtick\": 1, \"range\": [0.5, 9.5], \"tickcolor\": \"#FFF\"}, \"plot_bgcolor\": \"#000\", \"titlefont\": {\"color\": \"#FFF\"}, \"paper_bgcolor\": \"#000\", \"height\": 500, \"yaxis\": {\"title\": \"True Class\", \"dtick\": 1, \"range\": [9.5, 0.5], \"tickcolor\": \"#FFF\"}, \"title\": \"Confidence after 32000 Iterations at Glimpse 9\", \"font\": {\"color\": \"#FFF\"}, \"width\": 500}, {\"showLink\": true, \"linkText\": \"Export to plot.ly\"})});</script>"
      ]
     },
     "metadata": {},
     "output_type": "display_data"
    },
    {
     "data": {
      "application/vnd.plotly.v1+json": {
       "data": [
        {
         "colorscale": "Jet",
         "type": "heatmap",
         "z": [
          [
           0,
           0,
           0,
           0,
           0,
           0,
           0,
           0,
           0,
           0
          ],
          [
           0,
           0.8873,
           0.09730000000000001,
           0.011199999999999998,
           0.0023,
           0.0013,
           0.0005,
           0.0001,
           0,
           0
          ],
          [
           0,
           0.5903,
           0.2265999999999999,
           0.1139,
           0.0379,
           0.0159,
           0.0089,
           0.0018000000000000002,
           0.0036000000000000003,
           0.0010999999999999998
          ],
          [
           0,
           0.3539,
           0.23929999999999998,
           0.1914,
           0.10610000000000001,
           0.0488,
           0.0264,
           0.0118,
           0.018900000000000004,
           0.0034000000000000002
          ],
          [
           0,
           0.19790000000000002,
           0.20370000000000005,
           0.22020000000000003,
           0.1573,
           0.0992,
           0.0464,
           0.026000000000000002,
           0.0412,
           0.0081
          ],
          [
           0,
           0.1256,
           0.1388,
           0.1945,
           0.1614,
           0.13770000000000002,
           0.0682,
           0.06220000000000001,
           0.09129999999999999,
           0.020300000000000002
          ],
          [
           0,
           0.085,
           0.10769999999999998,
           0.15289999999999998,
           0.1447,
           0.1537,
           0.08979999999999999,
           0.0936,
           0.13849999999999998,
           0.0341
          ],
          [
           0,
           0.054200000000000005,
           0.08209999999999999,
           0.11920000000000001,
           0.11710000000000001,
           0.14820000000000003,
           0.10070000000000001,
           0.12449999999999999,
           0.2023,
           0.05169999999999999
          ],
          [
           0,
           0.0385,
           0.0619,
           0.0843,
           0.0909,
           0.13330000000000003,
           0.1099,
           0.13999999999999999,
           0.2666,
           0.0746
          ],
          [
           0,
           0.030600000000000006,
           0.047,
           0.0635,
           0.06920000000000001,
           0.11099999999999999,
           0.1162,
           0.1467,
           0.31710000000000005,
           0.0987
          ]
         ]
        }
       ],
       "layout": {
        "font": {
         "color": "#FFF"
        },
        "height": 500,
        "paper_bgcolor": "#000",
        "plot_bgcolor": "#000",
        "title": "Choice after 32000 Iterations at Glimpse 9",
        "titlefont": {
         "color": "#FFF"
        },
        "width": 500,
        "xaxis": {
         "dtick": 1,
         "range": [
          0.5,
          9.5
         ],
         "tickcolor": "#FFF",
         "title": "Predicted Class"
        },
        "yaxis": {
         "dtick": 1,
         "range": [
          9.5,
          0.5
         ],
         "tickcolor": "#FFF",
         "title": "True Class"
        }
       }
      },
      "text/html": [
       "<div id=\"d986cc15-c9c0-4faf-a7fa-aed3e4eeebb0\" style=\"height: 500px; width: 500px;\" class=\"plotly-graph-div\"></div><script type=\"text/javascript\">require([\"plotly\"], function(Plotly) { window.PLOTLYENV=window.PLOTLYENV || {};window.PLOTLYENV.BASE_URL=\"https://plot.ly\";Plotly.newPlot(\"d986cc15-c9c0-4faf-a7fa-aed3e4eeebb0\", [{\"colorscale\": \"Jet\", \"z\": [[0.0, 0.0, 0.0, 0.0, 0.0, 0.0, 0.0, 0.0, 0.0, 0.0], [0.0, 0.8873, 0.09730000000000001, 0.011199999999999998, 0.0023, 0.0013, 0.0005, 0.0001, 0.0, 0.0], [0.0, 0.5903, 0.2265999999999999, 0.1139, 0.0379, 0.0159, 0.0089, 0.0018000000000000002, 0.0036000000000000003, 0.0010999999999999998], [0.0, 0.3539, 0.23929999999999998, 0.1914, 0.10610000000000001, 0.0488, 0.0264, 0.0118, 0.018900000000000004, 0.0034000000000000002], [0.0, 0.19790000000000002, 0.20370000000000005, 0.22020000000000003, 0.1573, 0.0992, 0.0464, 0.026000000000000002, 0.0412, 0.0081], [0.0, 0.1256, 0.1388, 0.1945, 0.1614, 0.13770000000000002, 0.0682, 0.06220000000000001, 0.09129999999999999, 0.020300000000000002], [0.0, 0.085, 0.10769999999999998, 0.15289999999999998, 0.1447, 0.1537, 0.08979999999999999, 0.0936, 0.13849999999999998, 0.0341], [0.0, 0.054200000000000005, 0.08209999999999999, 0.11920000000000001, 0.11710000000000001, 0.14820000000000003, 0.10070000000000001, 0.12449999999999999, 0.2023, 0.05169999999999999], [0.0, 0.0385, 0.0619, 0.0843, 0.0909, 0.13330000000000003, 0.1099, 0.13999999999999999, 0.2666, 0.0746], [0.0, 0.030600000000000006, 0.047, 0.0635, 0.06920000000000001, 0.11099999999999999, 0.1162, 0.1467, 0.31710000000000005, 0.0987]], \"type\": \"heatmap\"}], {\"xaxis\": {\"title\": \"Predicted Class\", \"dtick\": 1, \"range\": [0.5, 9.5], \"tickcolor\": \"#FFF\"}, \"plot_bgcolor\": \"#000\", \"titlefont\": {\"color\": \"#FFF\"}, \"paper_bgcolor\": \"#000\", \"height\": 500, \"yaxis\": {\"title\": \"True Class\", \"dtick\": 1, \"range\": [9.5, 0.5], \"tickcolor\": \"#FFF\"}, \"title\": \"Choice after 32000 Iterations at Glimpse 9\", \"font\": {\"color\": \"#FFF\"}, \"width\": 500}, {\"showLink\": true, \"linkText\": \"Export to plot.ly\"})});</script>"
      ],
      "text/vnd.plotly.v1+html": [
       "<div id=\"d986cc15-c9c0-4faf-a7fa-aed3e4eeebb0\" style=\"height: 500px; width: 500px;\" class=\"plotly-graph-div\"></div><script type=\"text/javascript\">require([\"plotly\"], function(Plotly) { window.PLOTLYENV=window.PLOTLYENV || {};window.PLOTLYENV.BASE_URL=\"https://plot.ly\";Plotly.newPlot(\"d986cc15-c9c0-4faf-a7fa-aed3e4eeebb0\", [{\"colorscale\": \"Jet\", \"z\": [[0.0, 0.0, 0.0, 0.0, 0.0, 0.0, 0.0, 0.0, 0.0, 0.0], [0.0, 0.8873, 0.09730000000000001, 0.011199999999999998, 0.0023, 0.0013, 0.0005, 0.0001, 0.0, 0.0], [0.0, 0.5903, 0.2265999999999999, 0.1139, 0.0379, 0.0159, 0.0089, 0.0018000000000000002, 0.0036000000000000003, 0.0010999999999999998], [0.0, 0.3539, 0.23929999999999998, 0.1914, 0.10610000000000001, 0.0488, 0.0264, 0.0118, 0.018900000000000004, 0.0034000000000000002], [0.0, 0.19790000000000002, 0.20370000000000005, 0.22020000000000003, 0.1573, 0.0992, 0.0464, 0.026000000000000002, 0.0412, 0.0081], [0.0, 0.1256, 0.1388, 0.1945, 0.1614, 0.13770000000000002, 0.0682, 0.06220000000000001, 0.09129999999999999, 0.020300000000000002], [0.0, 0.085, 0.10769999999999998, 0.15289999999999998, 0.1447, 0.1537, 0.08979999999999999, 0.0936, 0.13849999999999998, 0.0341], [0.0, 0.054200000000000005, 0.08209999999999999, 0.11920000000000001, 0.11710000000000001, 0.14820000000000003, 0.10070000000000001, 0.12449999999999999, 0.2023, 0.05169999999999999], [0.0, 0.0385, 0.0619, 0.0843, 0.0909, 0.13330000000000003, 0.1099, 0.13999999999999999, 0.2666, 0.0746], [0.0, 0.030600000000000006, 0.047, 0.0635, 0.06920000000000001, 0.11099999999999999, 0.1162, 0.1467, 0.31710000000000005, 0.0987]], \"type\": \"heatmap\"}], {\"xaxis\": {\"title\": \"Predicted Class\", \"dtick\": 1, \"range\": [0.5, 9.5], \"tickcolor\": \"#FFF\"}, \"plot_bgcolor\": \"#000\", \"titlefont\": {\"color\": \"#FFF\"}, \"paper_bgcolor\": \"#000\", \"height\": 500, \"yaxis\": {\"title\": \"True Class\", \"dtick\": 1, \"range\": [9.5, 0.5], \"tickcolor\": \"#FFF\"}, \"title\": \"Choice after 32000 Iterations at Glimpse 9\", \"font\": {\"color\": \"#FFF\"}, \"width\": 500}, {\"showLink\": true, \"linkText\": \"Export to plot.ly\"})});</script>"
      ]
     },
     "metadata": {},
     "output_type": "display_data"
    },
    {
     "data": {
      "application/vnd.plotly.v1+json": {
       "data": [
        {
         "colorscale": "Jet",
         "type": "heatmap",
         "z": [
          [
           0,
           0,
           0,
           0,
           0,
           0,
           0,
           0,
           0,
           0
          ],
          [
           0,
           0.817479208220355,
           0.15294371310411953,
           0.023639521231141408,
           0.004432154859713046,
           0.0010205448249025722,
           0.0002891721077894431,
           0.0001191660538148142,
           2.6825827285932746e-05,
           4.9694322724341604e-05
          ],
          [
           0,
           0.3048931987991136,
           0.40246280674841833,
           0.18755526997441047,
           0.07260634501524801,
           0.022242001092853025,
           0.0069266505920488036,
           0.002269420758783939,
           0.0007050227980104097,
           0.000339284678866621
          ],
          [
           0,
           0.06229222236306523,
           0.30428370132777205,
           0.2885468890266202,
           0.19405942332239606,
           0.08976091912523591,
           0.038246436103957324,
           0.014679328404717284,
           0.005828820126617,
           0.002302259782966262
          ],
          [
           0,
           0.008982058842434675,
           0.13585549784851653,
           0.24118150523935147,
           0.25917519771342634,
           0.17391554731756914,
           0.10104162772044949,
           0.047037508069850346,
           0.023181475443397916,
           0.009629582777714996
          ],
          [
           0,
           0.0018130500042620994,
           0.04962068833062367,
           0.14038630907694538,
           0.2247611240989656,
           0.21350209697942918,
           0.16948436432009656,
           0.10352335365084746,
           0.06594909976186036,
           0.03095991384586464
          ],
          [
           0,
           0.0005735626249950856,
           0.016895611119500015,
           0.06923719535689596,
           0.155551842346642,
           0.19738975298628497,
           0.20424529593492918,
           0.15928717263715225,
           0.12430992534363142,
           0.07250964305890181
          ],
          [
           0,
           9.781072280744122e-05,
           0.005328868605967288,
           0.029701337680301587,
           0.08747988031538662,
           0.1488096042236057,
           0.2004630581699057,
           0.19847394124620477,
           0.19314818827192357,
           0.13649731061244091
          ],
          [
           0,
           0.0001232541761619353,
           0.002320675009751511,
           0.014232208770163669,
           0.04758809229146211,
           0.10274918203514878,
           0.1680510501194164,
           0.20734087438337304,
           0.25025960757075805,
           0.20733505635010396
          ],
          [
           0,
           2.8076620970880202e-05,
           0.0012400316379382768,
           0.006662512848951698,
           0.024792761308308646,
           0.06557711659619585,
           0.12962508461366837,
           0.1985953816521902,
           0.2886985320505337,
           0.28478050315419534
          ]
         ]
        }
       ],
       "layout": {
        "font": {
         "color": "#FFF"
        },
        "height": 500,
        "paper_bgcolor": "#000",
        "plot_bgcolor": "#000",
        "title": "Confidence after 64000 Iterations at Glimpse 0",
        "titlefont": {
         "color": "#FFF"
        },
        "width": 500,
        "xaxis": {
         "dtick": 1,
         "range": [
          0.5,
          9.5
         ],
         "tickcolor": "#FFF",
         "title": "Predicted Class"
        },
        "yaxis": {
         "dtick": 1,
         "range": [
          9.5,
          0.5
         ],
         "tickcolor": "#FFF",
         "title": "True Class"
        }
       }
      },
      "text/html": [
       "<div id=\"ce2a6438-693b-4397-9383-a62cc3188acd\" style=\"height: 500px; width: 500px;\" class=\"plotly-graph-div\"></div><script type=\"text/javascript\">require([\"plotly\"], function(Plotly) { window.PLOTLYENV=window.PLOTLYENV || {};window.PLOTLYENV.BASE_URL=\"https://plot.ly\";Plotly.newPlot(\"ce2a6438-693b-4397-9383-a62cc3188acd\", [{\"colorscale\": \"Jet\", \"z\": [[0.0, 0.0, 0.0, 0.0, 0.0, 0.0, 0.0, 0.0, 0.0, 0.0], [0.0, 0.817479208220355, 0.15294371310411953, 0.023639521231141408, 0.004432154859713046, 0.0010205448249025722, 0.0002891721077894431, 0.0001191660538148142, 2.6825827285932746e-05, 4.9694322724341604e-05], [0.0, 0.3048931987991136, 0.40246280674841833, 0.18755526997441047, 0.07260634501524801, 0.022242001092853025, 0.0069266505920488036, 0.002269420758783939, 0.0007050227980104097, 0.000339284678866621], [0.0, 0.06229222236306523, 0.30428370132777205, 0.2885468890266202, 0.19405942332239606, 0.08976091912523591, 0.038246436103957324, 0.014679328404717284, 0.005828820126617, 0.002302259782966262], [0.0, 0.008982058842434675, 0.13585549784851653, 0.24118150523935147, 0.25917519771342634, 0.17391554731756914, 0.10104162772044949, 0.047037508069850346, 0.023181475443397916, 0.009629582777714996], [0.0, 0.0018130500042620994, 0.04962068833062367, 0.14038630907694538, 0.2247611240989656, 0.21350209697942918, 0.16948436432009656, 0.10352335365084746, 0.06594909976186036, 0.03095991384586464], [0.0, 0.0005735626249950856, 0.016895611119500015, 0.06923719535689596, 0.155551842346642, 0.19738975298628497, 0.20424529593492918, 0.15928717263715225, 0.12430992534363142, 0.07250964305890181], [0.0, 9.781072280744122e-05, 0.005328868605967288, 0.029701337680301587, 0.08747988031538662, 0.1488096042236057, 0.2004630581699057, 0.19847394124620477, 0.19314818827192357, 0.13649731061244091], [0.0, 0.0001232541761619353, 0.002320675009751511, 0.014232208770163669, 0.04758809229146211, 0.10274918203514878, 0.1680510501194164, 0.20734087438337304, 0.25025960757075805, 0.20733505635010396], [0.0, 2.8076620970880202e-05, 0.0012400316379382768, 0.006662512848951698, 0.024792761308308646, 0.06557711659619585, 0.12962508461366837, 0.1985953816521902, 0.2886985320505337, 0.28478050315419534]], \"type\": \"heatmap\"}], {\"xaxis\": {\"title\": \"Predicted Class\", \"dtick\": 1, \"range\": [0.5, 9.5], \"tickcolor\": \"#FFF\"}, \"plot_bgcolor\": \"#000\", \"titlefont\": {\"color\": \"#FFF\"}, \"paper_bgcolor\": \"#000\", \"height\": 500, \"yaxis\": {\"title\": \"True Class\", \"dtick\": 1, \"range\": [9.5, 0.5], \"tickcolor\": \"#FFF\"}, \"title\": \"Confidence after 64000 Iterations at Glimpse 0\", \"font\": {\"color\": \"#FFF\"}, \"width\": 500}, {\"showLink\": true, \"linkText\": \"Export to plot.ly\"})});</script>"
      ],
      "text/vnd.plotly.v1+html": [
       "<div id=\"ce2a6438-693b-4397-9383-a62cc3188acd\" style=\"height: 500px; width: 500px;\" class=\"plotly-graph-div\"></div><script type=\"text/javascript\">require([\"plotly\"], function(Plotly) { window.PLOTLYENV=window.PLOTLYENV || {};window.PLOTLYENV.BASE_URL=\"https://plot.ly\";Plotly.newPlot(\"ce2a6438-693b-4397-9383-a62cc3188acd\", [{\"colorscale\": \"Jet\", \"z\": [[0.0, 0.0, 0.0, 0.0, 0.0, 0.0, 0.0, 0.0, 0.0, 0.0], [0.0, 0.817479208220355, 0.15294371310411953, 0.023639521231141408, 0.004432154859713046, 0.0010205448249025722, 0.0002891721077894431, 0.0001191660538148142, 2.6825827285932746e-05, 4.9694322724341604e-05], [0.0, 0.3048931987991136, 0.40246280674841833, 0.18755526997441047, 0.07260634501524801, 0.022242001092853025, 0.0069266505920488036, 0.002269420758783939, 0.0007050227980104097, 0.000339284678866621], [0.0, 0.06229222236306523, 0.30428370132777205, 0.2885468890266202, 0.19405942332239606, 0.08976091912523591, 0.038246436103957324, 0.014679328404717284, 0.005828820126617, 0.002302259782966262], [0.0, 0.008982058842434675, 0.13585549784851653, 0.24118150523935147, 0.25917519771342634, 0.17391554731756914, 0.10104162772044949, 0.047037508069850346, 0.023181475443397916, 0.009629582777714996], [0.0, 0.0018130500042620994, 0.04962068833062367, 0.14038630907694538, 0.2247611240989656, 0.21350209697942918, 0.16948436432009656, 0.10352335365084746, 0.06594909976186036, 0.03095991384586464], [0.0, 0.0005735626249950856, 0.016895611119500015, 0.06923719535689596, 0.155551842346642, 0.19738975298628497, 0.20424529593492918, 0.15928717263715225, 0.12430992534363142, 0.07250964305890181], [0.0, 9.781072280744122e-05, 0.005328868605967288, 0.029701337680301587, 0.08747988031538662, 0.1488096042236057, 0.2004630581699057, 0.19847394124620477, 0.19314818827192357, 0.13649731061244091], [0.0, 0.0001232541761619353, 0.002320675009751511, 0.014232208770163669, 0.04758809229146211, 0.10274918203514878, 0.1680510501194164, 0.20734087438337304, 0.25025960757075805, 0.20733505635010396], [0.0, 2.8076620970880202e-05, 0.0012400316379382768, 0.006662512848951698, 0.024792761308308646, 0.06557711659619585, 0.12962508461366837, 0.1985953816521902, 0.2886985320505337, 0.28478050315419534]], \"type\": \"heatmap\"}], {\"xaxis\": {\"title\": \"Predicted Class\", \"dtick\": 1, \"range\": [0.5, 9.5], \"tickcolor\": \"#FFF\"}, \"plot_bgcolor\": \"#000\", \"titlefont\": {\"color\": \"#FFF\"}, \"paper_bgcolor\": \"#000\", \"height\": 500, \"yaxis\": {\"title\": \"True Class\", \"dtick\": 1, \"range\": [9.5, 0.5], \"tickcolor\": \"#FFF\"}, \"title\": \"Confidence after 64000 Iterations at Glimpse 0\", \"font\": {\"color\": \"#FFF\"}, \"width\": 500}, {\"showLink\": true, \"linkText\": \"Export to plot.ly\"})});</script>"
      ]
     },
     "metadata": {},
     "output_type": "display_data"
    },
    {
     "data": {
      "application/vnd.plotly.v1+json": {
       "data": [
        {
         "colorscale": "Jet",
         "type": "heatmap",
         "z": [
          [
           0,
           0,
           0,
           0,
           0,
           0,
           0,
           0,
           0,
           0
          ],
          [
           0,
           0.9581,
           0.0417,
           0.0002,
           0,
           0,
           0,
           0,
           0,
           0
          ],
          [
           0,
           0.3294999999999999,
           0.5271999999999999,
           0.12050000000000001,
           0.0201,
           0.0020000000000000005,
           0.0006000000000000001,
           0.0001,
           0,
           0
          ],
          [
           0,
           0.04569999999999999,
           0.38370000000000004,
           0.3390000000000001,
           0.177,
           0.0403,
           0.011300000000000001,
           0.0022000000000000006,
           0.0004,
           0.0004
          ],
          [
           0,
           0.0030000000000000005,
           0.12299999999999997,
           0.2963000000000001,
           0.33540000000000003,
           0.1534,
           0.0654,
           0.016,
           0.0059,
           0.0016
          ],
          [
           0,
           0.0009000000000000001,
           0.03320000000000001,
           0.1337,
           0.29359999999999997,
           0.24,
           0.18359999999999999,
           0.06820000000000001,
           0.0347,
           0.012100000000000003
          ],
          [
           0,
           0.0004,
           0.0079,
           0.0486,
           0.17519999999999997,
           0.2326,
           0.24140000000000006,
           0.1477,
           0.09689999999999999,
           0.049300000000000004
          ],
          [
           0,
           0,
           0.0023,
           0.015200000000000002,
           0.0751,
           0.15510000000000002,
           0.2347,
           0.20529999999999998,
           0.18629999999999997,
           0.126
          ],
          [
           0,
           0.0001,
           0.0005,
           0.007600000000000001,
           0.0274,
           0.0873,
           0.17210000000000003,
           0.2158,
           0.2597,
           0.22949999999999998
          ],
          [
           0,
           0,
           0.0006000000000000001,
           0.0028000000000000004,
           0.011600000000000003,
           0.04329999999999999,
           0.1066,
           0.1853,
           0.3066,
           0.34319999999999995
          ]
         ]
        }
       ],
       "layout": {
        "font": {
         "color": "#FFF"
        },
        "height": 500,
        "paper_bgcolor": "#000",
        "plot_bgcolor": "#000",
        "title": "Choice after 64000 Iterations at Glimpse 0",
        "titlefont": {
         "color": "#FFF"
        },
        "width": 500,
        "xaxis": {
         "dtick": 1,
         "range": [
          0.5,
          9.5
         ],
         "tickcolor": "#FFF",
         "title": "Predicted Class"
        },
        "yaxis": {
         "dtick": 1,
         "range": [
          9.5,
          0.5
         ],
         "tickcolor": "#FFF",
         "title": "True Class"
        }
       }
      },
      "text/html": [
       "<div id=\"b7f19462-5230-4512-9747-6ee67204bfb6\" style=\"height: 500px; width: 500px;\" class=\"plotly-graph-div\"></div><script type=\"text/javascript\">require([\"plotly\"], function(Plotly) { window.PLOTLYENV=window.PLOTLYENV || {};window.PLOTLYENV.BASE_URL=\"https://plot.ly\";Plotly.newPlot(\"b7f19462-5230-4512-9747-6ee67204bfb6\", [{\"colorscale\": \"Jet\", \"z\": [[0.0, 0.0, 0.0, 0.0, 0.0, 0.0, 0.0, 0.0, 0.0, 0.0], [0.0, 0.9581, 0.0417, 0.0002, 0.0, 0.0, 0.0, 0.0, 0.0, 0.0], [0.0, 0.3294999999999999, 0.5271999999999999, 0.12050000000000001, 0.0201, 0.0020000000000000005, 0.0006000000000000001, 0.0001, 0.0, 0.0], [0.0, 0.04569999999999999, 0.38370000000000004, 0.3390000000000001, 0.177, 0.0403, 0.011300000000000001, 0.0022000000000000006, 0.0004, 0.0004], [0.0, 0.0030000000000000005, 0.12299999999999997, 0.2963000000000001, 0.33540000000000003, 0.1534, 0.0654, 0.016, 0.0059, 0.0016], [0.0, 0.0009000000000000001, 0.03320000000000001, 0.1337, 0.29359999999999997, 0.24, 0.18359999999999999, 0.06820000000000001, 0.0347, 0.012100000000000003], [0.0, 0.0004, 0.0079, 0.0486, 0.17519999999999997, 0.2326, 0.24140000000000006, 0.1477, 0.09689999999999999, 0.049300000000000004], [0.0, 0.0, 0.0023, 0.015200000000000002, 0.0751, 0.15510000000000002, 0.2347, 0.20529999999999998, 0.18629999999999997, 0.126], [0.0, 0.0001, 0.0005, 0.007600000000000001, 0.0274, 0.0873, 0.17210000000000003, 0.2158, 0.2597, 0.22949999999999998], [0.0, 0.0, 0.0006000000000000001, 0.0028000000000000004, 0.011600000000000003, 0.04329999999999999, 0.1066, 0.1853, 0.3066, 0.34319999999999995]], \"type\": \"heatmap\"}], {\"xaxis\": {\"title\": \"Predicted Class\", \"dtick\": 1, \"range\": [0.5, 9.5], \"tickcolor\": \"#FFF\"}, \"plot_bgcolor\": \"#000\", \"titlefont\": {\"color\": \"#FFF\"}, \"paper_bgcolor\": \"#000\", \"height\": 500, \"yaxis\": {\"title\": \"True Class\", \"dtick\": 1, \"range\": [9.5, 0.5], \"tickcolor\": \"#FFF\"}, \"title\": \"Choice after 64000 Iterations at Glimpse 0\", \"font\": {\"color\": \"#FFF\"}, \"width\": 500}, {\"showLink\": true, \"linkText\": \"Export to plot.ly\"})});</script>"
      ],
      "text/vnd.plotly.v1+html": [
       "<div id=\"b7f19462-5230-4512-9747-6ee67204bfb6\" style=\"height: 500px; width: 500px;\" class=\"plotly-graph-div\"></div><script type=\"text/javascript\">require([\"plotly\"], function(Plotly) { window.PLOTLYENV=window.PLOTLYENV || {};window.PLOTLYENV.BASE_URL=\"https://plot.ly\";Plotly.newPlot(\"b7f19462-5230-4512-9747-6ee67204bfb6\", [{\"colorscale\": \"Jet\", \"z\": [[0.0, 0.0, 0.0, 0.0, 0.0, 0.0, 0.0, 0.0, 0.0, 0.0], [0.0, 0.9581, 0.0417, 0.0002, 0.0, 0.0, 0.0, 0.0, 0.0, 0.0], [0.0, 0.3294999999999999, 0.5271999999999999, 0.12050000000000001, 0.0201, 0.0020000000000000005, 0.0006000000000000001, 0.0001, 0.0, 0.0], [0.0, 0.04569999999999999, 0.38370000000000004, 0.3390000000000001, 0.177, 0.0403, 0.011300000000000001, 0.0022000000000000006, 0.0004, 0.0004], [0.0, 0.0030000000000000005, 0.12299999999999997, 0.2963000000000001, 0.33540000000000003, 0.1534, 0.0654, 0.016, 0.0059, 0.0016], [0.0, 0.0009000000000000001, 0.03320000000000001, 0.1337, 0.29359999999999997, 0.24, 0.18359999999999999, 0.06820000000000001, 0.0347, 0.012100000000000003], [0.0, 0.0004, 0.0079, 0.0486, 0.17519999999999997, 0.2326, 0.24140000000000006, 0.1477, 0.09689999999999999, 0.049300000000000004], [0.0, 0.0, 0.0023, 0.015200000000000002, 0.0751, 0.15510000000000002, 0.2347, 0.20529999999999998, 0.18629999999999997, 0.126], [0.0, 0.0001, 0.0005, 0.007600000000000001, 0.0274, 0.0873, 0.17210000000000003, 0.2158, 0.2597, 0.22949999999999998], [0.0, 0.0, 0.0006000000000000001, 0.0028000000000000004, 0.011600000000000003, 0.04329999999999999, 0.1066, 0.1853, 0.3066, 0.34319999999999995]], \"type\": \"heatmap\"}], {\"xaxis\": {\"title\": \"Predicted Class\", \"dtick\": 1, \"range\": [0.5, 9.5], \"tickcolor\": \"#FFF\"}, \"plot_bgcolor\": \"#000\", \"titlefont\": {\"color\": \"#FFF\"}, \"paper_bgcolor\": \"#000\", \"height\": 500, \"yaxis\": {\"title\": \"True Class\", \"dtick\": 1, \"range\": [9.5, 0.5], \"tickcolor\": \"#FFF\"}, \"title\": \"Choice after 64000 Iterations at Glimpse 0\", \"font\": {\"color\": \"#FFF\"}, \"width\": 500}, {\"showLink\": true, \"linkText\": \"Export to plot.ly\"})});</script>"
      ]
     },
     "metadata": {},
     "output_type": "display_data"
    },
    {
     "data": {
      "application/vnd.plotly.v1+json": {
       "data": [
        {
         "colorscale": "Jet",
         "type": "heatmap",
         "z": [
          [
           0,
           0,
           0,
           0,
           0,
           0,
           0,
           0,
           0,
           0
          ],
          [
           0,
           0.8644557450574825,
           0.12265086251193424,
           0.012068844420918094,
           0.0007807657689646013,
           3.682446061910507e-05,
           5.898907201940377e-06,
           7.344449440963236e-07,
           4.4570319137735796e-08,
           2.826748081375808e-07
          ],
          [
           0,
           0.2777921283735179,
           0.44687248945693725,
           0.20201952537532017,
           0.06058012357241417,
           0.010535271640240975,
           0.0019013156863891816,
           0.0002548784180821771,
           3.8892509453705404e-05,
           5.376741918709535e-06
          ],
          [
           0,
           0.04134575158130923,
           0.3117019324874951,
           0.31980079349075385,
           0.21320241892714664,
           0.07862059332760282,
           0.027365097371060482,
           0.006280484690061117,
           0.0014252977749595699,
           0.00025763045890219333
          ],
          [
           0,
           0.0029924879642498022,
           0.11776045977482183,
           0.24317248509869974,
           0.3005995967611438,
           0.1874026935502824,
           0.09904329573711594,
           0.03436871558971087,
           0.011691493944889572,
           0.002968771473955479
          ],
          [
           0,
           0.0003198299013645461,
           0.03274432867541572,
           0.11804100582481625,
           0.24798833200272113,
           0.2416072844969916,
           0.1884437874486306,
           0.09939634379951695,
           0.0531385082755836,
           0.01832058095114241
          ],
          [
           0,
           4.5320110101135355e-05,
           0.008477643784394398,
           0.046903831640854675,
           0.15035394692070286,
           0.21449463132688398,
           0.23080776812440126,
           0.17097513563880337,
           0.12136803326232252,
           0.056573689045142796
          ],
          [
           0,
           3.0378758894702255e-06,
           0.0015981021555962402,
           0.013500808459691632,
           0.06852130919522652,
           0.14386535441346424,
           0.21428430440885132,
           0.21865387434192166,
           0.21189526218501858,
           0.1276779476593438
          ],
          [
           0,
           1.99669540398108e-08,
           0.000381886394745276,
           0.004678351325746206,
           0.029576489692177643,
           0.08507673724500656,
           0.1626001179297509,
           0.22120975691360073,
           0.280955187826302,
           0.21552145252580157
          ],
          [
           0,
           2.7798277245559742e-08,
           7.033682847802178e-05,
           0.0012087811334933337,
           0.010696665202094367,
           0.04250230041452998,
           0.10956082572399717,
           0.19444887260419638,
           0.32306913723013714,
           0.3184430527333098
          ]
         ]
        }
       ],
       "layout": {
        "font": {
         "color": "#FFF"
        },
        "height": 500,
        "paper_bgcolor": "#000",
        "plot_bgcolor": "#000",
        "title": "Confidence after 64000 Iterations at Glimpse 3",
        "titlefont": {
         "color": "#FFF"
        },
        "width": 500,
        "xaxis": {
         "dtick": 1,
         "range": [
          0.5,
          9.5
         ],
         "tickcolor": "#FFF",
         "title": "Predicted Class"
        },
        "yaxis": {
         "dtick": 1,
         "range": [
          9.5,
          0.5
         ],
         "tickcolor": "#FFF",
         "title": "True Class"
        }
       }
      },
      "text/html": [
       "<div id=\"19abb5e1-c335-4041-a065-d4ae1b71c8ac\" style=\"height: 500px; width: 500px;\" class=\"plotly-graph-div\"></div><script type=\"text/javascript\">require([\"plotly\"], function(Plotly) { window.PLOTLYENV=window.PLOTLYENV || {};window.PLOTLYENV.BASE_URL=\"https://plot.ly\";Plotly.newPlot(\"19abb5e1-c335-4041-a065-d4ae1b71c8ac\", [{\"colorscale\": \"Jet\", \"z\": [[0.0, 0.0, 0.0, 0.0, 0.0, 0.0, 0.0, 0.0, 0.0, 0.0], [0.0, 0.8644557450574825, 0.12265086251193424, 0.012068844420918094, 0.0007807657689646013, 3.682446061910507e-05, 5.898907201940377e-06, 7.344449440963236e-07, 4.4570319137735796e-08, 2.826748081375808e-07], [0.0, 0.2777921283735179, 0.44687248945693725, 0.20201952537532017, 0.06058012357241417, 0.010535271640240975, 0.0019013156863891816, 0.0002548784180821771, 3.8892509453705404e-05, 5.376741918709535e-06], [0.0, 0.04134575158130923, 0.3117019324874951, 0.31980079349075385, 0.21320241892714664, 0.07862059332760282, 0.027365097371060482, 0.006280484690061117, 0.0014252977749595699, 0.00025763045890219333], [0.0, 0.0029924879642498022, 0.11776045977482183, 0.24317248509869974, 0.3005995967611438, 0.1874026935502824, 0.09904329573711594, 0.03436871558971087, 0.011691493944889572, 0.002968771473955479], [0.0, 0.0003198299013645461, 0.03274432867541572, 0.11804100582481625, 0.24798833200272113, 0.2416072844969916, 0.1884437874486306, 0.09939634379951695, 0.0531385082755836, 0.01832058095114241], [0.0, 4.5320110101135355e-05, 0.008477643784394398, 0.046903831640854675, 0.15035394692070286, 0.21449463132688398, 0.23080776812440126, 0.17097513563880337, 0.12136803326232252, 0.056573689045142796], [0.0, 3.0378758894702255e-06, 0.0015981021555962402, 0.013500808459691632, 0.06852130919522652, 0.14386535441346424, 0.21428430440885132, 0.21865387434192166, 0.21189526218501858, 0.1276779476593438], [0.0, 1.99669540398108e-08, 0.000381886394745276, 0.004678351325746206, 0.029576489692177643, 0.08507673724500656, 0.1626001179297509, 0.22120975691360073, 0.280955187826302, 0.21552145252580157], [0.0, 2.7798277245559742e-08, 7.033682847802178e-05, 0.0012087811334933337, 0.010696665202094367, 0.04250230041452998, 0.10956082572399717, 0.19444887260419638, 0.32306913723013714, 0.3184430527333098]], \"type\": \"heatmap\"}], {\"xaxis\": {\"title\": \"Predicted Class\", \"dtick\": 1, \"range\": [0.5, 9.5], \"tickcolor\": \"#FFF\"}, \"plot_bgcolor\": \"#000\", \"titlefont\": {\"color\": \"#FFF\"}, \"paper_bgcolor\": \"#000\", \"height\": 500, \"yaxis\": {\"title\": \"True Class\", \"dtick\": 1, \"range\": [9.5, 0.5], \"tickcolor\": \"#FFF\"}, \"title\": \"Confidence after 64000 Iterations at Glimpse 3\", \"font\": {\"color\": \"#FFF\"}, \"width\": 500}, {\"showLink\": true, \"linkText\": \"Export to plot.ly\"})});</script>"
      ],
      "text/vnd.plotly.v1+html": [
       "<div id=\"19abb5e1-c335-4041-a065-d4ae1b71c8ac\" style=\"height: 500px; width: 500px;\" class=\"plotly-graph-div\"></div><script type=\"text/javascript\">require([\"plotly\"], function(Plotly) { window.PLOTLYENV=window.PLOTLYENV || {};window.PLOTLYENV.BASE_URL=\"https://plot.ly\";Plotly.newPlot(\"19abb5e1-c335-4041-a065-d4ae1b71c8ac\", [{\"colorscale\": \"Jet\", \"z\": [[0.0, 0.0, 0.0, 0.0, 0.0, 0.0, 0.0, 0.0, 0.0, 0.0], [0.0, 0.8644557450574825, 0.12265086251193424, 0.012068844420918094, 0.0007807657689646013, 3.682446061910507e-05, 5.898907201940377e-06, 7.344449440963236e-07, 4.4570319137735796e-08, 2.826748081375808e-07], [0.0, 0.2777921283735179, 0.44687248945693725, 0.20201952537532017, 0.06058012357241417, 0.010535271640240975, 0.0019013156863891816, 0.0002548784180821771, 3.8892509453705404e-05, 5.376741918709535e-06], [0.0, 0.04134575158130923, 0.3117019324874951, 0.31980079349075385, 0.21320241892714664, 0.07862059332760282, 0.027365097371060482, 0.006280484690061117, 0.0014252977749595699, 0.00025763045890219333], [0.0, 0.0029924879642498022, 0.11776045977482183, 0.24317248509869974, 0.3005995967611438, 0.1874026935502824, 0.09904329573711594, 0.03436871558971087, 0.011691493944889572, 0.002968771473955479], [0.0, 0.0003198299013645461, 0.03274432867541572, 0.11804100582481625, 0.24798833200272113, 0.2416072844969916, 0.1884437874486306, 0.09939634379951695, 0.0531385082755836, 0.01832058095114241], [0.0, 4.5320110101135355e-05, 0.008477643784394398, 0.046903831640854675, 0.15035394692070286, 0.21449463132688398, 0.23080776812440126, 0.17097513563880337, 0.12136803326232252, 0.056573689045142796], [0.0, 3.0378758894702255e-06, 0.0015981021555962402, 0.013500808459691632, 0.06852130919522652, 0.14386535441346424, 0.21428430440885132, 0.21865387434192166, 0.21189526218501858, 0.1276779476593438], [0.0, 1.99669540398108e-08, 0.000381886394745276, 0.004678351325746206, 0.029576489692177643, 0.08507673724500656, 0.1626001179297509, 0.22120975691360073, 0.280955187826302, 0.21552145252580157], [0.0, 2.7798277245559742e-08, 7.033682847802178e-05, 0.0012087811334933337, 0.010696665202094367, 0.04250230041452998, 0.10956082572399717, 0.19444887260419638, 0.32306913723013714, 0.3184430527333098]], \"type\": \"heatmap\"}], {\"xaxis\": {\"title\": \"Predicted Class\", \"dtick\": 1, \"range\": [0.5, 9.5], \"tickcolor\": \"#FFF\"}, \"plot_bgcolor\": \"#000\", \"titlefont\": {\"color\": \"#FFF\"}, \"paper_bgcolor\": \"#000\", \"height\": 500, \"yaxis\": {\"title\": \"True Class\", \"dtick\": 1, \"range\": [9.5, 0.5], \"tickcolor\": \"#FFF\"}, \"title\": \"Confidence after 64000 Iterations at Glimpse 3\", \"font\": {\"color\": \"#FFF\"}, \"width\": 500}, {\"showLink\": true, \"linkText\": \"Export to plot.ly\"})});</script>"
      ]
     },
     "metadata": {},
     "output_type": "display_data"
    },
    {
     "data": {
      "application/vnd.plotly.v1+json": {
       "data": [
        {
         "colorscale": "Jet",
         "type": "heatmap",
         "z": [
          [
           0,
           0,
           0,
           0,
           0,
           0,
           0,
           0,
           0,
           0
          ],
          [
           0,
           0.9535999999999998,
           0.0464,
           0,
           0,
           0,
           0,
           0,
           0,
           0
          ],
          [
           0,
           0.2918,
           0.5395000000000001,
           0.1457,
           0.0223,
           0.0007,
           0,
           0,
           0,
           0
          ],
          [
           0,
           0.03180000000000001,
           0.34850000000000003,
           0.35940000000000005,
           0.21000000000000002,
           0.0403,
           0.0095,
           0.0004,
           0.0001,
           0
          ],
          [
           0,
           0.0011000000000000003,
           0.09720000000000001,
           0.2611,
           0.3798,
           0.1701,
           0.0772,
           0.0111,
           0.002,
           0.0004
          ],
          [
           0,
           0.0002,
           0.017900000000000003,
           0.0976,
           0.303,
           0.25930000000000003,
           0.21149999999999997,
           0.07210000000000001,
           0.03200000000000001,
           0.0064
          ],
          [
           0,
           0,
           0.0034000000000000002,
           0.0273,
           0.15360000000000001,
           0.23469999999999996,
           0.2747,
           0.1701,
           0.09920000000000001,
           0.03699999999999999
          ],
          [
           0,
           0,
           0.0006000000000000001,
           0.0043,
           0.0514,
           0.13529999999999998,
           0.23249999999999998,
           0.24749999999999997,
           0.21020000000000003,
           0.11820000000000001
          ],
          [
           0,
           0,
           0.0001,
           0.0018000000000000002,
           0.014000000000000002,
           0.0695,
           0.1424,
           0.24409999999999998,
           0.2851,
           0.24300000000000002
          ],
          [
           0,
           0,
           0,
           0,
           0.004200000000000001,
           0.025700000000000008,
           0.0688,
           0.1907,
           0.3225,
           0.3881
          ]
         ]
        }
       ],
       "layout": {
        "font": {
         "color": "#FFF"
        },
        "height": 500,
        "paper_bgcolor": "#000",
        "plot_bgcolor": "#000",
        "title": "Choice after 64000 Iterations at Glimpse 3",
        "titlefont": {
         "color": "#FFF"
        },
        "width": 500,
        "xaxis": {
         "dtick": 1,
         "range": [
          0.5,
          9.5
         ],
         "tickcolor": "#FFF",
         "title": "Predicted Class"
        },
        "yaxis": {
         "dtick": 1,
         "range": [
          9.5,
          0.5
         ],
         "tickcolor": "#FFF",
         "title": "True Class"
        }
       }
      },
      "text/html": [
       "<div id=\"64a1ecbc-db8f-418a-94c9-ff3268eb6c07\" style=\"height: 500px; width: 500px;\" class=\"plotly-graph-div\"></div><script type=\"text/javascript\">require([\"plotly\"], function(Plotly) { window.PLOTLYENV=window.PLOTLYENV || {};window.PLOTLYENV.BASE_URL=\"https://plot.ly\";Plotly.newPlot(\"64a1ecbc-db8f-418a-94c9-ff3268eb6c07\", [{\"colorscale\": \"Jet\", \"z\": [[0.0, 0.0, 0.0, 0.0, 0.0, 0.0, 0.0, 0.0, 0.0, 0.0], [0.0, 0.9535999999999998, 0.0464, 0.0, 0.0, 0.0, 0.0, 0.0, 0.0, 0.0], [0.0, 0.2918, 0.5395000000000001, 0.1457, 0.0223, 0.0007, 0.0, 0.0, 0.0, 0.0], [0.0, 0.03180000000000001, 0.34850000000000003, 0.35940000000000005, 0.21000000000000002, 0.0403, 0.0095, 0.0004, 0.0001, 0.0], [0.0, 0.0011000000000000003, 0.09720000000000001, 0.2611, 0.3798, 0.1701, 0.0772, 0.0111, 0.002, 0.0004], [0.0, 0.0002, 0.017900000000000003, 0.0976, 0.303, 0.25930000000000003, 0.21149999999999997, 0.07210000000000001, 0.03200000000000001, 0.0064], [0.0, 0.0, 0.0034000000000000002, 0.0273, 0.15360000000000001, 0.23469999999999996, 0.2747, 0.1701, 0.09920000000000001, 0.03699999999999999], [0.0, 0.0, 0.0006000000000000001, 0.0043, 0.0514, 0.13529999999999998, 0.23249999999999998, 0.24749999999999997, 0.21020000000000003, 0.11820000000000001], [0.0, 0.0, 0.0001, 0.0018000000000000002, 0.014000000000000002, 0.0695, 0.1424, 0.24409999999999998, 0.2851, 0.24300000000000002], [0.0, 0.0, 0.0, 0.0, 0.004200000000000001, 0.025700000000000008, 0.0688, 0.1907, 0.3225, 0.3881]], \"type\": \"heatmap\"}], {\"xaxis\": {\"title\": \"Predicted Class\", \"dtick\": 1, \"range\": [0.5, 9.5], \"tickcolor\": \"#FFF\"}, \"plot_bgcolor\": \"#000\", \"titlefont\": {\"color\": \"#FFF\"}, \"paper_bgcolor\": \"#000\", \"height\": 500, \"yaxis\": {\"title\": \"True Class\", \"dtick\": 1, \"range\": [9.5, 0.5], \"tickcolor\": \"#FFF\"}, \"title\": \"Choice after 64000 Iterations at Glimpse 3\", \"font\": {\"color\": \"#FFF\"}, \"width\": 500}, {\"showLink\": true, \"linkText\": \"Export to plot.ly\"})});</script>"
      ],
      "text/vnd.plotly.v1+html": [
       "<div id=\"64a1ecbc-db8f-418a-94c9-ff3268eb6c07\" style=\"height: 500px; width: 500px;\" class=\"plotly-graph-div\"></div><script type=\"text/javascript\">require([\"plotly\"], function(Plotly) { window.PLOTLYENV=window.PLOTLYENV || {};window.PLOTLYENV.BASE_URL=\"https://plot.ly\";Plotly.newPlot(\"64a1ecbc-db8f-418a-94c9-ff3268eb6c07\", [{\"colorscale\": \"Jet\", \"z\": [[0.0, 0.0, 0.0, 0.0, 0.0, 0.0, 0.0, 0.0, 0.0, 0.0], [0.0, 0.9535999999999998, 0.0464, 0.0, 0.0, 0.0, 0.0, 0.0, 0.0, 0.0], [0.0, 0.2918, 0.5395000000000001, 0.1457, 0.0223, 0.0007, 0.0, 0.0, 0.0, 0.0], [0.0, 0.03180000000000001, 0.34850000000000003, 0.35940000000000005, 0.21000000000000002, 0.0403, 0.0095, 0.0004, 0.0001, 0.0], [0.0, 0.0011000000000000003, 0.09720000000000001, 0.2611, 0.3798, 0.1701, 0.0772, 0.0111, 0.002, 0.0004], [0.0, 0.0002, 0.017900000000000003, 0.0976, 0.303, 0.25930000000000003, 0.21149999999999997, 0.07210000000000001, 0.03200000000000001, 0.0064], [0.0, 0.0, 0.0034000000000000002, 0.0273, 0.15360000000000001, 0.23469999999999996, 0.2747, 0.1701, 0.09920000000000001, 0.03699999999999999], [0.0, 0.0, 0.0006000000000000001, 0.0043, 0.0514, 0.13529999999999998, 0.23249999999999998, 0.24749999999999997, 0.21020000000000003, 0.11820000000000001], [0.0, 0.0, 0.0001, 0.0018000000000000002, 0.014000000000000002, 0.0695, 0.1424, 0.24409999999999998, 0.2851, 0.24300000000000002], [0.0, 0.0, 0.0, 0.0, 0.004200000000000001, 0.025700000000000008, 0.0688, 0.1907, 0.3225, 0.3881]], \"type\": \"heatmap\"}], {\"xaxis\": {\"title\": \"Predicted Class\", \"dtick\": 1, \"range\": [0.5, 9.5], \"tickcolor\": \"#FFF\"}, \"plot_bgcolor\": \"#000\", \"titlefont\": {\"color\": \"#FFF\"}, \"paper_bgcolor\": \"#000\", \"height\": 500, \"yaxis\": {\"title\": \"True Class\", \"dtick\": 1, \"range\": [9.5, 0.5], \"tickcolor\": \"#FFF\"}, \"title\": \"Choice after 64000 Iterations at Glimpse 3\", \"font\": {\"color\": \"#FFF\"}, \"width\": 500}, {\"showLink\": true, \"linkText\": \"Export to plot.ly\"})});</script>"
      ]
     },
     "metadata": {},
     "output_type": "display_data"
    },
    {
     "data": {
      "application/vnd.plotly.v1+json": {
       "data": [
        {
         "colorscale": "Jet",
         "type": "heatmap",
         "z": [
          [
           0,
           0,
           0,
           0,
           0,
           0,
           0,
           0,
           0,
           0
          ],
          [
           0,
           0.8584858803788199,
           0.12500702623079998,
           0.015428546971077591,
           0.0010054959512807366,
           6.916928143066992e-05,
           3.5165355143403497e-06,
           3.2015629649591655e-07,
           4.179381897530103e-08,
           4.930156925835608e-09
          ],
          [
           0,
           0.30343654007894455,
           0.41532815731503064,
           0.20743802738003536,
           0.058574072474951076,
           0.012759037462259532,
           0.002038640501734996,
           0.0003559725609220453,
           6.144456557170613e-05,
           8.109589115654808e-06
          ],
          [
           0,
           0.0530508661229695,
           0.30171328388921614,
           0.3285663125471445,
           0.1973651418319245,
           0.0818211468331133,
           0.027988915661606818,
           0.0072840801899643525,
           0.001858954023519577,
           0.00035129908517839923
          ],
          [
           0,
           0.004735251822480753,
           0.12197708729844081,
           0.2588745194825489,
           0.2771347176869895,
           0.1846245875340918,
           0.09920856835775134,
           0.037106759159324224,
           0.012968568833234778,
           0.0033699405832499753
          ],
          [
           0,
           0.00044422246865601274,
           0.03670570483424501,
           0.13275622381467955,
           0.23449956544149614,
           0.2352796781413243,
           0.18743991589111106,
           0.10274177204742403,
           0.05160738440030893,
           0.01852553343318393
          ],
          [
           0,
           4.5199131346089406e-05,
           0.009652705183278189,
           0.05647629483748662,
           0.1485563421591956,
           0.21313682915787796,
           0.2308341062182524,
           0.17357881254920615,
           0.11277672711820727,
           0.0549429835803088
          ],
          [
           0,
           1.994108329894668e-06,
           0.0020046420518998504,
           0.01767047244203731,
           0.07193827802384897,
           0.14989564997145063,
           0.21907829645533344,
           0.22345210437163185,
           0.1937910057335654,
           0.12216755662322805
          ],
          [
           0,
           2.4536816832618965e-08,
           0.00044972190730948865,
           0.006010316919011992,
           0.03353274336830192,
           0.09243970782065844,
           0.17183508224565885,
           0.23289784280513418,
           0.25851801532899693,
           0.20431654515194894
          ],
          [
           0,
           7.016922458512041e-06,
           9.65515005398222e-05,
           0.0017320122392575261,
           0.013189848116667457,
           0.04974322864607306,
           0.12100376292247383,
           0.2117775410596281,
           0.3008046581217786,
           0.3016453811618445
          ]
         ]
        }
       ],
       "layout": {
        "font": {
         "color": "#FFF"
        },
        "height": 500,
        "paper_bgcolor": "#000",
        "plot_bgcolor": "#000",
        "title": "Confidence after 64000 Iterations at Glimpse 9",
        "titlefont": {
         "color": "#FFF"
        },
        "width": 500,
        "xaxis": {
         "dtick": 1,
         "range": [
          0.5,
          9.5
         ],
         "tickcolor": "#FFF",
         "title": "Predicted Class"
        },
        "yaxis": {
         "dtick": 1,
         "range": [
          9.5,
          0.5
         ],
         "tickcolor": "#FFF",
         "title": "True Class"
        }
       }
      },
      "text/html": [
       "<div id=\"95c9e329-0b02-4348-9a4c-4df929e15ef7\" style=\"height: 500px; width: 500px;\" class=\"plotly-graph-div\"></div><script type=\"text/javascript\">require([\"plotly\"], function(Plotly) { window.PLOTLYENV=window.PLOTLYENV || {};window.PLOTLYENV.BASE_URL=\"https://plot.ly\";Plotly.newPlot(\"95c9e329-0b02-4348-9a4c-4df929e15ef7\", [{\"colorscale\": \"Jet\", \"z\": [[0.0, 0.0, 0.0, 0.0, 0.0, 0.0, 0.0, 0.0, 0.0, 0.0], [0.0, 0.8584858803788199, 0.12500702623079998, 0.015428546971077591, 0.0010054959512807366, 6.916928143066992e-05, 3.5165355143403497e-06, 3.2015629649591655e-07, 4.179381897530103e-08, 4.930156925835608e-09], [0.0, 0.30343654007894455, 0.41532815731503064, 0.20743802738003536, 0.058574072474951076, 0.012759037462259532, 0.002038640501734996, 0.0003559725609220453, 6.144456557170613e-05, 8.109589115654808e-06], [0.0, 0.0530508661229695, 0.30171328388921614, 0.3285663125471445, 0.1973651418319245, 0.0818211468331133, 0.027988915661606818, 0.0072840801899643525, 0.001858954023519577, 0.00035129908517839923], [0.0, 0.004735251822480753, 0.12197708729844081, 0.2588745194825489, 0.2771347176869895, 0.1846245875340918, 0.09920856835775134, 0.037106759159324224, 0.012968568833234778, 0.0033699405832499753], [0.0, 0.00044422246865601274, 0.03670570483424501, 0.13275622381467955, 0.23449956544149614, 0.2352796781413243, 0.18743991589111106, 0.10274177204742403, 0.05160738440030893, 0.01852553343318393], [0.0, 4.5199131346089406e-05, 0.009652705183278189, 0.05647629483748662, 0.1485563421591956, 0.21313682915787796, 0.2308341062182524, 0.17357881254920615, 0.11277672711820727, 0.0549429835803088], [0.0, 1.994108329894668e-06, 0.0020046420518998504, 0.01767047244203731, 0.07193827802384897, 0.14989564997145063, 0.21907829645533344, 0.22345210437163185, 0.1937910057335654, 0.12216755662322805], [0.0, 2.4536816832618965e-08, 0.00044972190730948865, 0.006010316919011992, 0.03353274336830192, 0.09243970782065844, 0.17183508224565885, 0.23289784280513418, 0.25851801532899693, 0.20431654515194894], [0.0, 7.016922458512041e-06, 9.65515005398222e-05, 0.0017320122392575261, 0.013189848116667457, 0.04974322864607306, 0.12100376292247383, 0.2117775410596281, 0.3008046581217786, 0.3016453811618445]], \"type\": \"heatmap\"}], {\"xaxis\": {\"title\": \"Predicted Class\", \"dtick\": 1, \"range\": [0.5, 9.5], \"tickcolor\": \"#FFF\"}, \"plot_bgcolor\": \"#000\", \"titlefont\": {\"color\": \"#FFF\"}, \"paper_bgcolor\": \"#000\", \"height\": 500, \"yaxis\": {\"title\": \"True Class\", \"dtick\": 1, \"range\": [9.5, 0.5], \"tickcolor\": \"#FFF\"}, \"title\": \"Confidence after 64000 Iterations at Glimpse 9\", \"font\": {\"color\": \"#FFF\"}, \"width\": 500}, {\"showLink\": true, \"linkText\": \"Export to plot.ly\"})});</script>"
      ],
      "text/vnd.plotly.v1+html": [
       "<div id=\"95c9e329-0b02-4348-9a4c-4df929e15ef7\" style=\"height: 500px; width: 500px;\" class=\"plotly-graph-div\"></div><script type=\"text/javascript\">require([\"plotly\"], function(Plotly) { window.PLOTLYENV=window.PLOTLYENV || {};window.PLOTLYENV.BASE_URL=\"https://plot.ly\";Plotly.newPlot(\"95c9e329-0b02-4348-9a4c-4df929e15ef7\", [{\"colorscale\": \"Jet\", \"z\": [[0.0, 0.0, 0.0, 0.0, 0.0, 0.0, 0.0, 0.0, 0.0, 0.0], [0.0, 0.8584858803788199, 0.12500702623079998, 0.015428546971077591, 0.0010054959512807366, 6.916928143066992e-05, 3.5165355143403497e-06, 3.2015629649591655e-07, 4.179381897530103e-08, 4.930156925835608e-09], [0.0, 0.30343654007894455, 0.41532815731503064, 0.20743802738003536, 0.058574072474951076, 0.012759037462259532, 0.002038640501734996, 0.0003559725609220453, 6.144456557170613e-05, 8.109589115654808e-06], [0.0, 0.0530508661229695, 0.30171328388921614, 0.3285663125471445, 0.1973651418319245, 0.0818211468331133, 0.027988915661606818, 0.0072840801899643525, 0.001858954023519577, 0.00035129908517839923], [0.0, 0.004735251822480753, 0.12197708729844081, 0.2588745194825489, 0.2771347176869895, 0.1846245875340918, 0.09920856835775134, 0.037106759159324224, 0.012968568833234778, 0.0033699405832499753], [0.0, 0.00044422246865601274, 0.03670570483424501, 0.13275622381467955, 0.23449956544149614, 0.2352796781413243, 0.18743991589111106, 0.10274177204742403, 0.05160738440030893, 0.01852553343318393], [0.0, 4.5199131346089406e-05, 0.009652705183278189, 0.05647629483748662, 0.1485563421591956, 0.21313682915787796, 0.2308341062182524, 0.17357881254920615, 0.11277672711820727, 0.0549429835803088], [0.0, 1.994108329894668e-06, 0.0020046420518998504, 0.01767047244203731, 0.07193827802384897, 0.14989564997145063, 0.21907829645533344, 0.22345210437163185, 0.1937910057335654, 0.12216755662322805], [0.0, 2.4536816832618965e-08, 0.00044972190730948865, 0.006010316919011992, 0.03353274336830192, 0.09243970782065844, 0.17183508224565885, 0.23289784280513418, 0.25851801532899693, 0.20431654515194894], [0.0, 7.016922458512041e-06, 9.65515005398222e-05, 0.0017320122392575261, 0.013189848116667457, 0.04974322864607306, 0.12100376292247383, 0.2117775410596281, 0.3008046581217786, 0.3016453811618445]], \"type\": \"heatmap\"}], {\"xaxis\": {\"title\": \"Predicted Class\", \"dtick\": 1, \"range\": [0.5, 9.5], \"tickcolor\": \"#FFF\"}, \"plot_bgcolor\": \"#000\", \"titlefont\": {\"color\": \"#FFF\"}, \"paper_bgcolor\": \"#000\", \"height\": 500, \"yaxis\": {\"title\": \"True Class\", \"dtick\": 1, \"range\": [9.5, 0.5], \"tickcolor\": \"#FFF\"}, \"title\": \"Confidence after 64000 Iterations at Glimpse 9\", \"font\": {\"color\": \"#FFF\"}, \"width\": 500}, {\"showLink\": true, \"linkText\": \"Export to plot.ly\"})});</script>"
      ]
     },
     "metadata": {},
     "output_type": "display_data"
    },
    {
     "data": {
      "application/vnd.plotly.v1+json": {
       "data": [
        {
         "colorscale": "Jet",
         "type": "heatmap",
         "z": [
          [
           0,
           0,
           0,
           0,
           0,
           0,
           0,
           0,
           0,
           0
          ],
          [
           0,
           0.9684999999999999,
           0.031400000000000004,
           0.0001,
           0,
           0,
           0,
           0,
           0,
           0
          ],
          [
           0,
           0.33449999999999996,
           0.4877999999999999,
           0.16319999999999998,
           0.013800000000000002,
           0.0007,
           0,
           0,
           0,
           0
          ],
          [
           0,
           0.04669999999999999,
           0.32410000000000005,
           0.3997,
           0.18080000000000002,
           0.0403,
           0.0083,
           0.0001,
           0,
           0
          ],
          [
           0,
           0.0021000000000000003,
           0.0899,
           0.3008,
           0.34530000000000005,
           0.17600000000000002,
           0.07470000000000002,
           0.0106,
           0.0005,
           0.0001
          ],
          [
           0,
           0.0002,
           0.0182,
           0.11589999999999998,
           0.27359999999999995,
           0.2803,
           0.20929999999999996,
           0.07510000000000001,
           0.0232,
           0.0042
          ],
          [
           0,
           0,
           0.003,
           0.0334,
           0.13879999999999998,
           0.2576,
           0.28060000000000007,
           0.1764,
           0.07730000000000001,
           0.0329
          ],
          [
           0,
           0,
           0.0004,
           0.005300000000000001,
           0.04159999999999999,
           0.15740000000000004,
           0.24850000000000003,
           0.2571,
           0.1774,
           0.1123
          ],
          [
           0,
           0,
           0,
           0.0016000000000000003,
           0.0118,
           0.0803,
           0.15190000000000003,
           0.2697,
           0.24920000000000003,
           0.2355
          ],
          [
           0,
           0,
           0,
           0.0002,
           0.0025,
           0.031200000000000006,
           0.07620000000000002,
           0.2121,
           0.2853,
           0.39249999999999996
          ]
         ]
        }
       ],
       "layout": {
        "font": {
         "color": "#FFF"
        },
        "height": 500,
        "paper_bgcolor": "#000",
        "plot_bgcolor": "#000",
        "title": "Choice after 64000 Iterations at Glimpse 9",
        "titlefont": {
         "color": "#FFF"
        },
        "width": 500,
        "xaxis": {
         "dtick": 1,
         "range": [
          0.5,
          9.5
         ],
         "tickcolor": "#FFF",
         "title": "Predicted Class"
        },
        "yaxis": {
         "dtick": 1,
         "range": [
          9.5,
          0.5
         ],
         "tickcolor": "#FFF",
         "title": "True Class"
        }
       }
      },
      "text/html": [
       "<div id=\"36a3ba31-ddb7-402e-953e-9c764f490ae4\" style=\"height: 500px; width: 500px;\" class=\"plotly-graph-div\"></div><script type=\"text/javascript\">require([\"plotly\"], function(Plotly) { window.PLOTLYENV=window.PLOTLYENV || {};window.PLOTLYENV.BASE_URL=\"https://plot.ly\";Plotly.newPlot(\"36a3ba31-ddb7-402e-953e-9c764f490ae4\", [{\"colorscale\": \"Jet\", \"z\": [[0.0, 0.0, 0.0, 0.0, 0.0, 0.0, 0.0, 0.0, 0.0, 0.0], [0.0, 0.9684999999999999, 0.031400000000000004, 0.0001, 0.0, 0.0, 0.0, 0.0, 0.0, 0.0], [0.0, 0.33449999999999996, 0.4877999999999999, 0.16319999999999998, 0.013800000000000002, 0.0007, 0.0, 0.0, 0.0, 0.0], [0.0, 0.04669999999999999, 0.32410000000000005, 0.3997, 0.18080000000000002, 0.0403, 0.0083, 0.0001, 0.0, 0.0], [0.0, 0.0021000000000000003, 0.0899, 0.3008, 0.34530000000000005, 0.17600000000000002, 0.07470000000000002, 0.0106, 0.0005, 0.0001], [0.0, 0.0002, 0.0182, 0.11589999999999998, 0.27359999999999995, 0.2803, 0.20929999999999996, 0.07510000000000001, 0.0232, 0.0042], [0.0, 0.0, 0.003, 0.0334, 0.13879999999999998, 0.2576, 0.28060000000000007, 0.1764, 0.07730000000000001, 0.0329], [0.0, 0.0, 0.0004, 0.005300000000000001, 0.04159999999999999, 0.15740000000000004, 0.24850000000000003, 0.2571, 0.1774, 0.1123], [0.0, 0.0, 0.0, 0.0016000000000000003, 0.0118, 0.0803, 0.15190000000000003, 0.2697, 0.24920000000000003, 0.2355], [0.0, 0.0, 0.0, 0.0002, 0.0025, 0.031200000000000006, 0.07620000000000002, 0.2121, 0.2853, 0.39249999999999996]], \"type\": \"heatmap\"}], {\"xaxis\": {\"title\": \"Predicted Class\", \"dtick\": 1, \"range\": [0.5, 9.5], \"tickcolor\": \"#FFF\"}, \"plot_bgcolor\": \"#000\", \"titlefont\": {\"color\": \"#FFF\"}, \"paper_bgcolor\": \"#000\", \"height\": 500, \"yaxis\": {\"title\": \"True Class\", \"dtick\": 1, \"range\": [9.5, 0.5], \"tickcolor\": \"#FFF\"}, \"title\": \"Choice after 64000 Iterations at Glimpse 9\", \"font\": {\"color\": \"#FFF\"}, \"width\": 500}, {\"showLink\": true, \"linkText\": \"Export to plot.ly\"})});</script>"
      ],
      "text/vnd.plotly.v1+html": [
       "<div id=\"36a3ba31-ddb7-402e-953e-9c764f490ae4\" style=\"height: 500px; width: 500px;\" class=\"plotly-graph-div\"></div><script type=\"text/javascript\">require([\"plotly\"], function(Plotly) { window.PLOTLYENV=window.PLOTLYENV || {};window.PLOTLYENV.BASE_URL=\"https://plot.ly\";Plotly.newPlot(\"36a3ba31-ddb7-402e-953e-9c764f490ae4\", [{\"colorscale\": \"Jet\", \"z\": [[0.0, 0.0, 0.0, 0.0, 0.0, 0.0, 0.0, 0.0, 0.0, 0.0], [0.0, 0.9684999999999999, 0.031400000000000004, 0.0001, 0.0, 0.0, 0.0, 0.0, 0.0, 0.0], [0.0, 0.33449999999999996, 0.4877999999999999, 0.16319999999999998, 0.013800000000000002, 0.0007, 0.0, 0.0, 0.0, 0.0], [0.0, 0.04669999999999999, 0.32410000000000005, 0.3997, 0.18080000000000002, 0.0403, 0.0083, 0.0001, 0.0, 0.0], [0.0, 0.0021000000000000003, 0.0899, 0.3008, 0.34530000000000005, 0.17600000000000002, 0.07470000000000002, 0.0106, 0.0005, 0.0001], [0.0, 0.0002, 0.0182, 0.11589999999999998, 0.27359999999999995, 0.2803, 0.20929999999999996, 0.07510000000000001, 0.0232, 0.0042], [0.0, 0.0, 0.003, 0.0334, 0.13879999999999998, 0.2576, 0.28060000000000007, 0.1764, 0.07730000000000001, 0.0329], [0.0, 0.0, 0.0004, 0.005300000000000001, 0.04159999999999999, 0.15740000000000004, 0.24850000000000003, 0.2571, 0.1774, 0.1123], [0.0, 0.0, 0.0, 0.0016000000000000003, 0.0118, 0.0803, 0.15190000000000003, 0.2697, 0.24920000000000003, 0.2355], [0.0, 0.0, 0.0, 0.0002, 0.0025, 0.031200000000000006, 0.07620000000000002, 0.2121, 0.2853, 0.39249999999999996]], \"type\": \"heatmap\"}], {\"xaxis\": {\"title\": \"Predicted Class\", \"dtick\": 1, \"range\": [0.5, 9.5], \"tickcolor\": \"#FFF\"}, \"plot_bgcolor\": \"#000\", \"titlefont\": {\"color\": \"#FFF\"}, \"paper_bgcolor\": \"#000\", \"height\": 500, \"yaxis\": {\"title\": \"True Class\", \"dtick\": 1, \"range\": [9.5, 0.5], \"tickcolor\": \"#FFF\"}, \"title\": \"Choice after 64000 Iterations at Glimpse 9\", \"font\": {\"color\": \"#FFF\"}, \"width\": 500}, {\"showLink\": true, \"linkText\": \"Export to plot.ly\"})});</script>"
      ]
     },
     "metadata": {},
     "output_type": "display_data"
    },
    {
     "data": {
      "application/vnd.plotly.v1+json": {
       "data": [
        {
         "colorscale": "Jet",
         "type": "heatmap",
         "z": [
          [
           0,
           0,
           0,
           0,
           0,
           0,
           0,
           0,
           0,
           0
          ],
          [
           0,
           0.9141632194936277,
           0.07758398718621465,
           0.0072039698737460635,
           0.0008031271399068053,
           0.00020248808684815637,
           3.2397596404697027e-05,
           8.016600240865755e-06,
           2.0357021269915767e-06,
           7.626147105614236e-07
          ],
          [
           0,
           0.16830963036981925,
           0.5522658954503364,
           0.21320964453919586,
           0.05221410074252088,
           0.011276593137107705,
           0.0022197464952937217,
           0.0003602779974185152,
           0.00012330957650414685,
           2.080283328091937e-05
          ],
          [
           0,
           0.008834444670996342,
           0.3171956115545854,
           0.36811523345160246,
           0.19539338728563396,
           0.07838150338537406,
           0.02285249253268299,
           0.006711084400210905,
           0.002108500707274589,
           0.00040774209299366295
          ],
          [
           0,
           0.0004074878191790518,
           0.10210042332170428,
           0.2862829375119976,
           0.28000674786673624,
           0.18846109499146987,
           0.08473698255767012,
           0.03756174074599196,
           0.016517075995178765,
           0.003925508356192679
          ],
          [
           0,
           0.00013486749205335723,
           0.02373811082491443,
           0.14041523428628683,
           0.23649774554779707,
           0.24979682232725894,
           0.1654472519613453,
           0.10326202559162338,
           0.06144684534301288,
           0.019261096567257517
          ],
          [
           0,
           5.105173734892844e-07,
           0.004743916823425778,
           0.05289638563257223,
           0.14254664349996538,
           0.22146021969218785,
           0.20939944746773106,
           0.17620446363517842,
           0.13775731783394396,
           0.05499109408034989
          ],
          [
           0,
           1.1999378265231162e-08,
           0.0008948020181982873,
           0.016076990372643547,
           0.06629629181791039,
           0.1480851193686448,
           0.19311285613922008,
           0.221905149778357,
           0.2315628118610089,
           0.12206596821531002
          ],
          [
           0,
           2.2324887195093298e-11,
           0.0002387191515072334,
           0.004785729284319867,
           0.028255796146933253,
           0.08534758234710246,
           0.14894681436739307,
           0.22051635887732846,
           0.3029643842423102,
           0.20894461574270756
          ],
          [
           0,
           2.023428202890621e-08,
           0.00011795664409317149,
           0.001561847728436568,
           0.011096806414693593,
           0.04386341544382744,
           0.10116154719885875,
           0.19404427029758226,
           0.3456239352353732,
           0.3025302016394504
          ]
         ]
        }
       ],
       "layout": {
        "font": {
         "color": "#FFF"
        },
        "height": 500,
        "paper_bgcolor": "#000",
        "plot_bgcolor": "#000",
        "title": "Confidence after 125000 Iterations at Glimpse 0",
        "titlefont": {
         "color": "#FFF"
        },
        "width": 500,
        "xaxis": {
         "dtick": 1,
         "range": [
          0.5,
          9.5
         ],
         "tickcolor": "#FFF",
         "title": "Predicted Class"
        },
        "yaxis": {
         "dtick": 1,
         "range": [
          9.5,
          0.5
         ],
         "tickcolor": "#FFF",
         "title": "True Class"
        }
       }
      },
      "text/html": [
       "<div id=\"68587a7f-5152-4fd5-9d49-02752ea7fbfc\" style=\"height: 500px; width: 500px;\" class=\"plotly-graph-div\"></div><script type=\"text/javascript\">require([\"plotly\"], function(Plotly) { window.PLOTLYENV=window.PLOTLYENV || {};window.PLOTLYENV.BASE_URL=\"https://plot.ly\";Plotly.newPlot(\"68587a7f-5152-4fd5-9d49-02752ea7fbfc\", [{\"colorscale\": \"Jet\", \"z\": [[0.0, 0.0, 0.0, 0.0, 0.0, 0.0, 0.0, 0.0, 0.0, 0.0], [0.0, 0.9141632194936277, 0.07758398718621465, 0.0072039698737460635, 0.0008031271399068053, 0.00020248808684815637, 3.2397596404697027e-05, 8.016600240865755e-06, 2.0357021269915767e-06, 7.626147105614236e-07], [0.0, 0.16830963036981925, 0.5522658954503364, 0.21320964453919586, 0.05221410074252088, 0.011276593137107705, 0.0022197464952937217, 0.0003602779974185152, 0.00012330957650414685, 2.080283328091937e-05], [0.0, 0.008834444670996342, 0.3171956115545854, 0.36811523345160246, 0.19539338728563396, 0.07838150338537406, 0.02285249253268299, 0.006711084400210905, 0.002108500707274589, 0.00040774209299366295], [0.0, 0.0004074878191790518, 0.10210042332170428, 0.2862829375119976, 0.28000674786673624, 0.18846109499146987, 0.08473698255767012, 0.03756174074599196, 0.016517075995178765, 0.003925508356192679], [0.0, 0.00013486749205335723, 0.02373811082491443, 0.14041523428628683, 0.23649774554779707, 0.24979682232725894, 0.1654472519613453, 0.10326202559162338, 0.06144684534301288, 0.019261096567257517], [0.0, 5.105173734892844e-07, 0.004743916823425778, 0.05289638563257223, 0.14254664349996538, 0.22146021969218785, 0.20939944746773106, 0.17620446363517842, 0.13775731783394396, 0.05499109408034989], [0.0, 1.1999378265231162e-08, 0.0008948020181982873, 0.016076990372643547, 0.06629629181791039, 0.1480851193686448, 0.19311285613922008, 0.221905149778357, 0.2315628118610089, 0.12206596821531002], [0.0, 2.2324887195093298e-11, 0.0002387191515072334, 0.004785729284319867, 0.028255796146933253, 0.08534758234710246, 0.14894681436739307, 0.22051635887732846, 0.3029643842423102, 0.20894461574270756], [0.0, 2.023428202890621e-08, 0.00011795664409317149, 0.001561847728436568, 0.011096806414693593, 0.04386341544382744, 0.10116154719885875, 0.19404427029758226, 0.3456239352353732, 0.3025302016394504]], \"type\": \"heatmap\"}], {\"xaxis\": {\"title\": \"Predicted Class\", \"dtick\": 1, \"range\": [0.5, 9.5], \"tickcolor\": \"#FFF\"}, \"plot_bgcolor\": \"#000\", \"titlefont\": {\"color\": \"#FFF\"}, \"paper_bgcolor\": \"#000\", \"height\": 500, \"yaxis\": {\"title\": \"True Class\", \"dtick\": 1, \"range\": [9.5, 0.5], \"tickcolor\": \"#FFF\"}, \"title\": \"Confidence after 125000 Iterations at Glimpse 0\", \"font\": {\"color\": \"#FFF\"}, \"width\": 500}, {\"showLink\": true, \"linkText\": \"Export to plot.ly\"})});</script>"
      ],
      "text/vnd.plotly.v1+html": [
       "<div id=\"68587a7f-5152-4fd5-9d49-02752ea7fbfc\" style=\"height: 500px; width: 500px;\" class=\"plotly-graph-div\"></div><script type=\"text/javascript\">require([\"plotly\"], function(Plotly) { window.PLOTLYENV=window.PLOTLYENV || {};window.PLOTLYENV.BASE_URL=\"https://plot.ly\";Plotly.newPlot(\"68587a7f-5152-4fd5-9d49-02752ea7fbfc\", [{\"colorscale\": \"Jet\", \"z\": [[0.0, 0.0, 0.0, 0.0, 0.0, 0.0, 0.0, 0.0, 0.0, 0.0], [0.0, 0.9141632194936277, 0.07758398718621465, 0.0072039698737460635, 0.0008031271399068053, 0.00020248808684815637, 3.2397596404697027e-05, 8.016600240865755e-06, 2.0357021269915767e-06, 7.626147105614236e-07], [0.0, 0.16830963036981925, 0.5522658954503364, 0.21320964453919586, 0.05221410074252088, 0.011276593137107705, 0.0022197464952937217, 0.0003602779974185152, 0.00012330957650414685, 2.080283328091937e-05], [0.0, 0.008834444670996342, 0.3171956115545854, 0.36811523345160246, 0.19539338728563396, 0.07838150338537406, 0.02285249253268299, 0.006711084400210905, 0.002108500707274589, 0.00040774209299366295], [0.0, 0.0004074878191790518, 0.10210042332170428, 0.2862829375119976, 0.28000674786673624, 0.18846109499146987, 0.08473698255767012, 0.03756174074599196, 0.016517075995178765, 0.003925508356192679], [0.0, 0.00013486749205335723, 0.02373811082491443, 0.14041523428628683, 0.23649774554779707, 0.24979682232725894, 0.1654472519613453, 0.10326202559162338, 0.06144684534301288, 0.019261096567257517], [0.0, 5.105173734892844e-07, 0.004743916823425778, 0.05289638563257223, 0.14254664349996538, 0.22146021969218785, 0.20939944746773106, 0.17620446363517842, 0.13775731783394396, 0.05499109408034989], [0.0, 1.1999378265231162e-08, 0.0008948020181982873, 0.016076990372643547, 0.06629629181791039, 0.1480851193686448, 0.19311285613922008, 0.221905149778357, 0.2315628118610089, 0.12206596821531002], [0.0, 2.2324887195093298e-11, 0.0002387191515072334, 0.004785729284319867, 0.028255796146933253, 0.08534758234710246, 0.14894681436739307, 0.22051635887732846, 0.3029643842423102, 0.20894461574270756], [0.0, 2.023428202890621e-08, 0.00011795664409317149, 0.001561847728436568, 0.011096806414693593, 0.04386341544382744, 0.10116154719885875, 0.19404427029758226, 0.3456239352353732, 0.3025302016394504]], \"type\": \"heatmap\"}], {\"xaxis\": {\"title\": \"Predicted Class\", \"dtick\": 1, \"range\": [0.5, 9.5], \"tickcolor\": \"#FFF\"}, \"plot_bgcolor\": \"#000\", \"titlefont\": {\"color\": \"#FFF\"}, \"paper_bgcolor\": \"#000\", \"height\": 500, \"yaxis\": {\"title\": \"True Class\", \"dtick\": 1, \"range\": [9.5, 0.5], \"tickcolor\": \"#FFF\"}, \"title\": \"Confidence after 125000 Iterations at Glimpse 0\", \"font\": {\"color\": \"#FFF\"}, \"width\": 500}, {\"showLink\": true, \"linkText\": \"Export to plot.ly\"})});</script>"
      ]
     },
     "metadata": {},
     "output_type": "display_data"
    },
    {
     "data": {
      "application/vnd.plotly.v1+json": {
       "data": [
        {
         "colorscale": "Jet",
         "type": "heatmap",
         "z": [
          [
           0,
           0,
           0,
           0,
           0,
           0,
           0,
           0,
           0,
           0
          ],
          [
           0,
           0.9894999999999999,
           0.010500000000000002,
           0,
           0,
           0,
           0,
           0,
           0,
           0
          ],
          [
           0,
           0.1563,
           0.6977,
           0.14079999999999998,
           0.0048000000000000004,
           0.0002,
           0.0002,
           0,
           0,
           0
          ],
          [
           0,
           0.0039,
           0.346,
           0.471,
           0.14550000000000002,
           0.0306,
           0.0027,
           0.0002,
           0.0001,
           0
          ],
          [
           0,
           0.0002,
           0.0659,
           0.3697,
           0.3295,
           0.178,
           0.0405,
           0.0132,
           0.0028,
           0.0002
          ],
          [
           0,
           0.0001,
           0.006900000000000001,
           0.13609999999999997,
           0.2812,
           0.3212,
           0.1487,
           0.0689,
           0.0324,
           0.0045
          ],
          [
           0,
           0,
           0.0012000000000000001,
           0.031099999999999996,
           0.13640000000000002,
           0.2861,
           0.2334,
           0.16460000000000002,
           0.12489999999999998,
           0.0223
          ],
          [
           0,
           0,
           0.0002,
           0.005200000000000001,
           0.044899999999999995,
           0.1583,
           0.213,
           0.2162,
           0.27669999999999995,
           0.0855
          ],
          [
           0,
           0,
           0,
           0.0013000000000000002,
           0.012100000000000003,
           0.0692,
           0.1365,
           0.1941,
           0.3879,
           0.19890000000000002
          ],
          [
           0,
           0,
           0,
           0.0005,
           0.003,
           0.023799999999999998,
           0.0683,
           0.14200000000000002,
           0.4271,
           0.33530000000000004
          ]
         ]
        }
       ],
       "layout": {
        "font": {
         "color": "#FFF"
        },
        "height": 500,
        "paper_bgcolor": "#000",
        "plot_bgcolor": "#000",
        "title": "Choice after 125000 Iterations at Glimpse 0",
        "titlefont": {
         "color": "#FFF"
        },
        "width": 500,
        "xaxis": {
         "dtick": 1,
         "range": [
          0.5,
          9.5
         ],
         "tickcolor": "#FFF",
         "title": "Predicted Class"
        },
        "yaxis": {
         "dtick": 1,
         "range": [
          9.5,
          0.5
         ],
         "tickcolor": "#FFF",
         "title": "True Class"
        }
       }
      },
      "text/html": [
       "<div id=\"7ebecc7a-ca13-439c-a1bb-9dbc73dcf659\" style=\"height: 500px; width: 500px;\" class=\"plotly-graph-div\"></div><script type=\"text/javascript\">require([\"plotly\"], function(Plotly) { window.PLOTLYENV=window.PLOTLYENV || {};window.PLOTLYENV.BASE_URL=\"https://plot.ly\";Plotly.newPlot(\"7ebecc7a-ca13-439c-a1bb-9dbc73dcf659\", [{\"colorscale\": \"Jet\", \"z\": [[0.0, 0.0, 0.0, 0.0, 0.0, 0.0, 0.0, 0.0, 0.0, 0.0], [0.0, 0.9894999999999999, 0.010500000000000002, 0.0, 0.0, 0.0, 0.0, 0.0, 0.0, 0.0], [0.0, 0.1563, 0.6977, 0.14079999999999998, 0.0048000000000000004, 0.0002, 0.0002, 0.0, 0.0, 0.0], [0.0, 0.0039, 0.346, 0.471, 0.14550000000000002, 0.0306, 0.0027, 0.0002, 0.0001, 0.0], [0.0, 0.0002, 0.0659, 0.3697, 0.3295, 0.178, 0.0405, 0.0132, 0.0028, 0.0002], [0.0, 0.0001, 0.006900000000000001, 0.13609999999999997, 0.2812, 0.3212, 0.1487, 0.0689, 0.0324, 0.0045], [0.0, 0.0, 0.0012000000000000001, 0.031099999999999996, 0.13640000000000002, 0.2861, 0.2334, 0.16460000000000002, 0.12489999999999998, 0.0223], [0.0, 0.0, 0.0002, 0.005200000000000001, 0.044899999999999995, 0.1583, 0.213, 0.2162, 0.27669999999999995, 0.0855], [0.0, 0.0, 0.0, 0.0013000000000000002, 0.012100000000000003, 0.0692, 0.1365, 0.1941, 0.3879, 0.19890000000000002], [0.0, 0.0, 0.0, 0.0005, 0.003, 0.023799999999999998, 0.0683, 0.14200000000000002, 0.4271, 0.33530000000000004]], \"type\": \"heatmap\"}], {\"xaxis\": {\"title\": \"Predicted Class\", \"dtick\": 1, \"range\": [0.5, 9.5], \"tickcolor\": \"#FFF\"}, \"plot_bgcolor\": \"#000\", \"titlefont\": {\"color\": \"#FFF\"}, \"paper_bgcolor\": \"#000\", \"height\": 500, \"yaxis\": {\"title\": \"True Class\", \"dtick\": 1, \"range\": [9.5, 0.5], \"tickcolor\": \"#FFF\"}, \"title\": \"Choice after 125000 Iterations at Glimpse 0\", \"font\": {\"color\": \"#FFF\"}, \"width\": 500}, {\"showLink\": true, \"linkText\": \"Export to plot.ly\"})});</script>"
      ],
      "text/vnd.plotly.v1+html": [
       "<div id=\"7ebecc7a-ca13-439c-a1bb-9dbc73dcf659\" style=\"height: 500px; width: 500px;\" class=\"plotly-graph-div\"></div><script type=\"text/javascript\">require([\"plotly\"], function(Plotly) { window.PLOTLYENV=window.PLOTLYENV || {};window.PLOTLYENV.BASE_URL=\"https://plot.ly\";Plotly.newPlot(\"7ebecc7a-ca13-439c-a1bb-9dbc73dcf659\", [{\"colorscale\": \"Jet\", \"z\": [[0.0, 0.0, 0.0, 0.0, 0.0, 0.0, 0.0, 0.0, 0.0, 0.0], [0.0, 0.9894999999999999, 0.010500000000000002, 0.0, 0.0, 0.0, 0.0, 0.0, 0.0, 0.0], [0.0, 0.1563, 0.6977, 0.14079999999999998, 0.0048000000000000004, 0.0002, 0.0002, 0.0, 0.0, 0.0], [0.0, 0.0039, 0.346, 0.471, 0.14550000000000002, 0.0306, 0.0027, 0.0002, 0.0001, 0.0], [0.0, 0.0002, 0.0659, 0.3697, 0.3295, 0.178, 0.0405, 0.0132, 0.0028, 0.0002], [0.0, 0.0001, 0.006900000000000001, 0.13609999999999997, 0.2812, 0.3212, 0.1487, 0.0689, 0.0324, 0.0045], [0.0, 0.0, 0.0012000000000000001, 0.031099999999999996, 0.13640000000000002, 0.2861, 0.2334, 0.16460000000000002, 0.12489999999999998, 0.0223], [0.0, 0.0, 0.0002, 0.005200000000000001, 0.044899999999999995, 0.1583, 0.213, 0.2162, 0.27669999999999995, 0.0855], [0.0, 0.0, 0.0, 0.0013000000000000002, 0.012100000000000003, 0.0692, 0.1365, 0.1941, 0.3879, 0.19890000000000002], [0.0, 0.0, 0.0, 0.0005, 0.003, 0.023799999999999998, 0.0683, 0.14200000000000002, 0.4271, 0.33530000000000004]], \"type\": \"heatmap\"}], {\"xaxis\": {\"title\": \"Predicted Class\", \"dtick\": 1, \"range\": [0.5, 9.5], \"tickcolor\": \"#FFF\"}, \"plot_bgcolor\": \"#000\", \"titlefont\": {\"color\": \"#FFF\"}, \"paper_bgcolor\": \"#000\", \"height\": 500, \"yaxis\": {\"title\": \"True Class\", \"dtick\": 1, \"range\": [9.5, 0.5], \"tickcolor\": \"#FFF\"}, \"title\": \"Choice after 125000 Iterations at Glimpse 0\", \"font\": {\"color\": \"#FFF\"}, \"width\": 500}, {\"showLink\": true, \"linkText\": \"Export to plot.ly\"})});</script>"
      ]
     },
     "metadata": {},
     "output_type": "display_data"
    },
    {
     "data": {
      "application/vnd.plotly.v1+json": {
       "data": [
        {
         "colorscale": "Jet",
         "type": "heatmap",
         "z": [
          [
           0,
           0,
           0,
           0,
           0,
           0,
           0,
           0,
           0,
           0
          ],
          [
           0,
           0.952479288321134,
           0.04506892370632831,
           0.002317574289234992,
           0.00010891416102160221,
           2.386831522118229e-05,
           1.3906856757218035e-06,
           4.082368495471164e-08,
           2.6104065586917848e-09,
           4.713360235757031e-10
          ],
          [
           0,
           0.09655646937214428,
           0.6350779873735038,
           0.22236315786477232,
           0.04017266329546475,
           0.0052832881532199295,
           0.0004972574796283521,
           4.437979395742058e-05,
           4.560496522771566e-06,
           2.3812273733378203e-07
          ],
          [
           0,
           0.0023708366727333446,
           0.3029569942286944,
           0.4086996508513042,
           0.19734924999348413,
           0.06870622129317604,
           0.016162943302467224,
           0.0031167172055029282,
           0.0005864240156764101,
           5.096388943068925e-05
          ],
          [
           0,
           8.938660112994017e-05,
           0.0845017239637343,
           0.30350207716763145,
           0.29637127215550285,
           0.19349854625659607,
           0.08003072328911054,
           0.02996825151726027,
           0.010464455346722624,
           0.001573564037388097
          ],
          [
           0,
           1.1124773192358611e-06,
           0.016018082969799206,
           0.13748554360097806,
           0.245414119550103,
           0.2657269345080946,
           0.17052131893383496,
           0.09844561997590454,
           0.05428436248907369,
           0.012102905846528202
          ],
          [
           0,
           2.4521723247430414e-09,
           0.0023241065805474984,
           0.04534811623789921,
           0.13830023873388392,
           0.2309887260977706,
           0.2180623198122485,
           0.17980784013478768,
           0.14263571211462603,
           0.042532936159051994
          ],
          [
           0,
           3.507517400985546e-13,
           0.0002488919073672086,
           0.011383832821588512,
           0.05739496981329607,
           0.14356800970569467,
           0.1954473895172821,
           0.22381199258143458,
           0.25922130932752385,
           0.10892360449359902
          ],
          [
           0,
           3.176434111538362e-17,
           4.188701129960767e-05,
           0.002975219316651098,
           0.02147840062804781,
           0.07502342173386645,
           0.1433939683949746,
           0.21705621807270797,
           0.3417111364858232,
           0.19831974821868004
          ],
          [
           0,
           1.1793662823066117e-11,
           1.5569540431898e-05,
           0.0007368624113331617,
           0.006947259246221425,
           0.033180471379748805,
           0.08902623659955264,
           0.1789653164312593,
           0.38935445074865127,
           0.30177383429326554
          ]
         ]
        }
       ],
       "layout": {
        "font": {
         "color": "#FFF"
        },
        "height": 500,
        "paper_bgcolor": "#000",
        "plot_bgcolor": "#000",
        "title": "Confidence after 125000 Iterations at Glimpse 3",
        "titlefont": {
         "color": "#FFF"
        },
        "width": 500,
        "xaxis": {
         "dtick": 1,
         "range": [
          0.5,
          9.5
         ],
         "tickcolor": "#FFF",
         "title": "Predicted Class"
        },
        "yaxis": {
         "dtick": 1,
         "range": [
          9.5,
          0.5
         ],
         "tickcolor": "#FFF",
         "title": "True Class"
        }
       }
      },
      "text/html": [
       "<div id=\"28065017-f3b1-4e1a-bfdd-692f3e09e7d6\" style=\"height: 500px; width: 500px;\" class=\"plotly-graph-div\"></div><script type=\"text/javascript\">require([\"plotly\"], function(Plotly) { window.PLOTLYENV=window.PLOTLYENV || {};window.PLOTLYENV.BASE_URL=\"https://plot.ly\";Plotly.newPlot(\"28065017-f3b1-4e1a-bfdd-692f3e09e7d6\", [{\"colorscale\": \"Jet\", \"z\": [[0.0, 0.0, 0.0, 0.0, 0.0, 0.0, 0.0, 0.0, 0.0, 0.0], [0.0, 0.952479288321134, 0.04506892370632831, 0.002317574289234992, 0.00010891416102160221, 2.386831522118229e-05, 1.3906856757218035e-06, 4.082368495471164e-08, 2.6104065586917848e-09, 4.713360235757031e-10], [0.0, 0.09655646937214428, 0.6350779873735038, 0.22236315786477232, 0.04017266329546475, 0.0052832881532199295, 0.0004972574796283521, 4.437979395742058e-05, 4.560496522771566e-06, 2.3812273733378203e-07], [0.0, 0.0023708366727333446, 0.3029569942286944, 0.4086996508513042, 0.19734924999348413, 0.06870622129317604, 0.016162943302467224, 0.0031167172055029282, 0.0005864240156764101, 5.096388943068925e-05], [0.0, 8.938660112994017e-05, 0.0845017239637343, 0.30350207716763145, 0.29637127215550285, 0.19349854625659607, 0.08003072328911054, 0.02996825151726027, 0.010464455346722624, 0.001573564037388097], [0.0, 1.1124773192358611e-06, 0.016018082969799206, 0.13748554360097806, 0.245414119550103, 0.2657269345080946, 0.17052131893383496, 0.09844561997590454, 0.05428436248907369, 0.012102905846528202], [0.0, 2.4521723247430414e-09, 0.0023241065805474984, 0.04534811623789921, 0.13830023873388392, 0.2309887260977706, 0.2180623198122485, 0.17980784013478768, 0.14263571211462603, 0.042532936159051994], [0.0, 3.507517400985546e-13, 0.0002488919073672086, 0.011383832821588512, 0.05739496981329607, 0.14356800970569467, 0.1954473895172821, 0.22381199258143458, 0.25922130932752385, 0.10892360449359902], [0.0, 3.176434111538362e-17, 4.188701129960767e-05, 0.002975219316651098, 0.02147840062804781, 0.07502342173386645, 0.1433939683949746, 0.21705621807270797, 0.3417111364858232, 0.19831974821868004], [0.0, 1.1793662823066117e-11, 1.5569540431898e-05, 0.0007368624113331617, 0.006947259246221425, 0.033180471379748805, 0.08902623659955264, 0.1789653164312593, 0.38935445074865127, 0.30177383429326554]], \"type\": \"heatmap\"}], {\"xaxis\": {\"title\": \"Predicted Class\", \"dtick\": 1, \"range\": [0.5, 9.5], \"tickcolor\": \"#FFF\"}, \"plot_bgcolor\": \"#000\", \"titlefont\": {\"color\": \"#FFF\"}, \"paper_bgcolor\": \"#000\", \"height\": 500, \"yaxis\": {\"title\": \"True Class\", \"dtick\": 1, \"range\": [9.5, 0.5], \"tickcolor\": \"#FFF\"}, \"title\": \"Confidence after 125000 Iterations at Glimpse 3\", \"font\": {\"color\": \"#FFF\"}, \"width\": 500}, {\"showLink\": true, \"linkText\": \"Export to plot.ly\"})});</script>"
      ],
      "text/vnd.plotly.v1+html": [
       "<div id=\"28065017-f3b1-4e1a-bfdd-692f3e09e7d6\" style=\"height: 500px; width: 500px;\" class=\"plotly-graph-div\"></div><script type=\"text/javascript\">require([\"plotly\"], function(Plotly) { window.PLOTLYENV=window.PLOTLYENV || {};window.PLOTLYENV.BASE_URL=\"https://plot.ly\";Plotly.newPlot(\"28065017-f3b1-4e1a-bfdd-692f3e09e7d6\", [{\"colorscale\": \"Jet\", \"z\": [[0.0, 0.0, 0.0, 0.0, 0.0, 0.0, 0.0, 0.0, 0.0, 0.0], [0.0, 0.952479288321134, 0.04506892370632831, 0.002317574289234992, 0.00010891416102160221, 2.386831522118229e-05, 1.3906856757218035e-06, 4.082368495471164e-08, 2.6104065586917848e-09, 4.713360235757031e-10], [0.0, 0.09655646937214428, 0.6350779873735038, 0.22236315786477232, 0.04017266329546475, 0.0052832881532199295, 0.0004972574796283521, 4.437979395742058e-05, 4.560496522771566e-06, 2.3812273733378203e-07], [0.0, 0.0023708366727333446, 0.3029569942286944, 0.4086996508513042, 0.19734924999348413, 0.06870622129317604, 0.016162943302467224, 0.0031167172055029282, 0.0005864240156764101, 5.096388943068925e-05], [0.0, 8.938660112994017e-05, 0.0845017239637343, 0.30350207716763145, 0.29637127215550285, 0.19349854625659607, 0.08003072328911054, 0.02996825151726027, 0.010464455346722624, 0.001573564037388097], [0.0, 1.1124773192358611e-06, 0.016018082969799206, 0.13748554360097806, 0.245414119550103, 0.2657269345080946, 0.17052131893383496, 0.09844561997590454, 0.05428436248907369, 0.012102905846528202], [0.0, 2.4521723247430414e-09, 0.0023241065805474984, 0.04534811623789921, 0.13830023873388392, 0.2309887260977706, 0.2180623198122485, 0.17980784013478768, 0.14263571211462603, 0.042532936159051994], [0.0, 3.507517400985546e-13, 0.0002488919073672086, 0.011383832821588512, 0.05739496981329607, 0.14356800970569467, 0.1954473895172821, 0.22381199258143458, 0.25922130932752385, 0.10892360449359902], [0.0, 3.176434111538362e-17, 4.188701129960767e-05, 0.002975219316651098, 0.02147840062804781, 0.07502342173386645, 0.1433939683949746, 0.21705621807270797, 0.3417111364858232, 0.19831974821868004], [0.0, 1.1793662823066117e-11, 1.5569540431898e-05, 0.0007368624113331617, 0.006947259246221425, 0.033180471379748805, 0.08902623659955264, 0.1789653164312593, 0.38935445074865127, 0.30177383429326554]], \"type\": \"heatmap\"}], {\"xaxis\": {\"title\": \"Predicted Class\", \"dtick\": 1, \"range\": [0.5, 9.5], \"tickcolor\": \"#FFF\"}, \"plot_bgcolor\": \"#000\", \"titlefont\": {\"color\": \"#FFF\"}, \"paper_bgcolor\": \"#000\", \"height\": 500, \"yaxis\": {\"title\": \"True Class\", \"dtick\": 1, \"range\": [9.5, 0.5], \"tickcolor\": \"#FFF\"}, \"title\": \"Confidence after 125000 Iterations at Glimpse 3\", \"font\": {\"color\": \"#FFF\"}, \"width\": 500}, {\"showLink\": true, \"linkText\": \"Export to plot.ly\"})});</script>"
      ]
     },
     "metadata": {},
     "output_type": "display_data"
    },
    {
     "data": {
      "application/vnd.plotly.v1+json": {
       "data": [
        {
         "colorscale": "Jet",
         "type": "heatmap",
         "z": [
          [
           0,
           0,
           0,
           0,
           0,
           0,
           0,
           0,
           0,
           0
          ],
          [
           0,
           0.9898999999999999,
           0.010100000000000001,
           0,
           0,
           0,
           0,
           0,
           0,
           0
          ],
          [
           0,
           0.0804,
           0.7539,
           0.1613,
           0.0043,
           0.0001,
           0,
           0,
           0,
           0
          ],
          [
           0,
           0.0013000000000000002,
           0.30069999999999997,
           0.5111,
           0.1555,
           0.029500000000000005,
           0.0019,
           0,
           0,
           0
          ],
          [
           0,
           0.0001,
           0.04769999999999999,
           0.3759,
           0.3376,
           0.1803,
           0.0468,
           0.0094,
           0.0021000000000000003,
           0.0001
          ],
          [
           0,
           0,
           0.003,
           0.1328,
           0.26870000000000005,
           0.3228,
           0.1618,
           0.0747,
           0.034300000000000004,
           0.0019000000000000002
          ],
          [
           0,
           0,
           0.00030000000000000003,
           0.028600000000000004,
           0.12189999999999998,
           0.27590000000000003,
           0.24889999999999998,
           0.16699999999999998,
           0.1421,
           0.015300000000000003
          ],
          [
           0,
           0,
           0,
           0.0028,
           0.0325,
           0.1393,
           0.21949999999999997,
           0.203,
           0.3363,
           0.06659999999999999
          ],
          [
           0,
           0,
           0,
           0.0006000000000000001,
           0.0085,
           0.0508,
           0.13299999999999998,
           0.1648,
           0.46509999999999996,
           0.17719999999999997
          ],
          [
           0,
           0,
           0,
           0.0002,
           0.0016000000000000003,
           0.013300000000000001,
           0.05940000000000001,
           0.1018,
           0.4976,
           0.32609999999999995
          ]
         ]
        }
       ],
       "layout": {
        "font": {
         "color": "#FFF"
        },
        "height": 500,
        "paper_bgcolor": "#000",
        "plot_bgcolor": "#000",
        "title": "Choice after 125000 Iterations at Glimpse 3",
        "titlefont": {
         "color": "#FFF"
        },
        "width": 500,
        "xaxis": {
         "dtick": 1,
         "range": [
          0.5,
          9.5
         ],
         "tickcolor": "#FFF",
         "title": "Predicted Class"
        },
        "yaxis": {
         "dtick": 1,
         "range": [
          9.5,
          0.5
         ],
         "tickcolor": "#FFF",
         "title": "True Class"
        }
       }
      },
      "text/html": [
       "<div id=\"2dd4f4d9-11e6-4fa3-a742-2a86947223c1\" style=\"height: 500px; width: 500px;\" class=\"plotly-graph-div\"></div><script type=\"text/javascript\">require([\"plotly\"], function(Plotly) { window.PLOTLYENV=window.PLOTLYENV || {};window.PLOTLYENV.BASE_URL=\"https://plot.ly\";Plotly.newPlot(\"2dd4f4d9-11e6-4fa3-a742-2a86947223c1\", [{\"colorscale\": \"Jet\", \"z\": [[0.0, 0.0, 0.0, 0.0, 0.0, 0.0, 0.0, 0.0, 0.0, 0.0], [0.0, 0.9898999999999999, 0.010100000000000001, 0.0, 0.0, 0.0, 0.0, 0.0, 0.0, 0.0], [0.0, 0.0804, 0.7539, 0.1613, 0.0043, 0.0001, 0.0, 0.0, 0.0, 0.0], [0.0, 0.0013000000000000002, 0.30069999999999997, 0.5111, 0.1555, 0.029500000000000005, 0.0019, 0.0, 0.0, 0.0], [0.0, 0.0001, 0.04769999999999999, 0.3759, 0.3376, 0.1803, 0.0468, 0.0094, 0.0021000000000000003, 0.0001], [0.0, 0.0, 0.003, 0.1328, 0.26870000000000005, 0.3228, 0.1618, 0.0747, 0.034300000000000004, 0.0019000000000000002], [0.0, 0.0, 0.00030000000000000003, 0.028600000000000004, 0.12189999999999998, 0.27590000000000003, 0.24889999999999998, 0.16699999999999998, 0.1421, 0.015300000000000003], [0.0, 0.0, 0.0, 0.0028, 0.0325, 0.1393, 0.21949999999999997, 0.203, 0.3363, 0.06659999999999999], [0.0, 0.0, 0.0, 0.0006000000000000001, 0.0085, 0.0508, 0.13299999999999998, 0.1648, 0.46509999999999996, 0.17719999999999997], [0.0, 0.0, 0.0, 0.0002, 0.0016000000000000003, 0.013300000000000001, 0.05940000000000001, 0.1018, 0.4976, 0.32609999999999995]], \"type\": \"heatmap\"}], {\"xaxis\": {\"title\": \"Predicted Class\", \"dtick\": 1, \"range\": [0.5, 9.5], \"tickcolor\": \"#FFF\"}, \"plot_bgcolor\": \"#000\", \"titlefont\": {\"color\": \"#FFF\"}, \"paper_bgcolor\": \"#000\", \"height\": 500, \"yaxis\": {\"title\": \"True Class\", \"dtick\": 1, \"range\": [9.5, 0.5], \"tickcolor\": \"#FFF\"}, \"title\": \"Choice after 125000 Iterations at Glimpse 3\", \"font\": {\"color\": \"#FFF\"}, \"width\": 500}, {\"showLink\": true, \"linkText\": \"Export to plot.ly\"})});</script>"
      ],
      "text/vnd.plotly.v1+html": [
       "<div id=\"2dd4f4d9-11e6-4fa3-a742-2a86947223c1\" style=\"height: 500px; width: 500px;\" class=\"plotly-graph-div\"></div><script type=\"text/javascript\">require([\"plotly\"], function(Plotly) { window.PLOTLYENV=window.PLOTLYENV || {};window.PLOTLYENV.BASE_URL=\"https://plot.ly\";Plotly.newPlot(\"2dd4f4d9-11e6-4fa3-a742-2a86947223c1\", [{\"colorscale\": \"Jet\", \"z\": [[0.0, 0.0, 0.0, 0.0, 0.0, 0.0, 0.0, 0.0, 0.0, 0.0], [0.0, 0.9898999999999999, 0.010100000000000001, 0.0, 0.0, 0.0, 0.0, 0.0, 0.0, 0.0], [0.0, 0.0804, 0.7539, 0.1613, 0.0043, 0.0001, 0.0, 0.0, 0.0, 0.0], [0.0, 0.0013000000000000002, 0.30069999999999997, 0.5111, 0.1555, 0.029500000000000005, 0.0019, 0.0, 0.0, 0.0], [0.0, 0.0001, 0.04769999999999999, 0.3759, 0.3376, 0.1803, 0.0468, 0.0094, 0.0021000000000000003, 0.0001], [0.0, 0.0, 0.003, 0.1328, 0.26870000000000005, 0.3228, 0.1618, 0.0747, 0.034300000000000004, 0.0019000000000000002], [0.0, 0.0, 0.00030000000000000003, 0.028600000000000004, 0.12189999999999998, 0.27590000000000003, 0.24889999999999998, 0.16699999999999998, 0.1421, 0.015300000000000003], [0.0, 0.0, 0.0, 0.0028, 0.0325, 0.1393, 0.21949999999999997, 0.203, 0.3363, 0.06659999999999999], [0.0, 0.0, 0.0, 0.0006000000000000001, 0.0085, 0.0508, 0.13299999999999998, 0.1648, 0.46509999999999996, 0.17719999999999997], [0.0, 0.0, 0.0, 0.0002, 0.0016000000000000003, 0.013300000000000001, 0.05940000000000001, 0.1018, 0.4976, 0.32609999999999995]], \"type\": \"heatmap\"}], {\"xaxis\": {\"title\": \"Predicted Class\", \"dtick\": 1, \"range\": [0.5, 9.5], \"tickcolor\": \"#FFF\"}, \"plot_bgcolor\": \"#000\", \"titlefont\": {\"color\": \"#FFF\"}, \"paper_bgcolor\": \"#000\", \"height\": 500, \"yaxis\": {\"title\": \"True Class\", \"dtick\": 1, \"range\": [9.5, 0.5], \"tickcolor\": \"#FFF\"}, \"title\": \"Choice after 125000 Iterations at Glimpse 3\", \"font\": {\"color\": \"#FFF\"}, \"width\": 500}, {\"showLink\": true, \"linkText\": \"Export to plot.ly\"})});</script>"
      ]
     },
     "metadata": {},
     "output_type": "display_data"
    },
    {
     "data": {
      "application/vnd.plotly.v1+json": {
       "data": [
        {
         "colorscale": "Jet",
         "type": "heatmap",
         "z": [
          [
           0,
           0,
           0,
           0,
           0,
           0,
           0,
           0,
           0,
           0
          ],
          [
           0,
           0.9528475119284456,
           0.04509811748249236,
           0.0019313308897125985,
           7.286651018846876e-05,
           4.99093690149605e-05,
           1.7882413951521556e-07,
           8.519822545413744e-08,
           1.6893174919822092e-09,
           4.418839512325474e-09
          ],
          [
           0,
           0.07849555375987562,
           0.6544283378752421,
           0.2219405140325475,
           0.03873127309734588,
           0.005744942635546702,
           0.0005689349583768328,
           8.491655254106893e-05,
           5.078631155710627e-06,
           4.508160317887364e-07
          ],
          [
           0,
           0.0021231240813066677,
           0.2959511961127185,
           0.41203322214677807,
           0.19668681315660846,
           0.07129383267673021,
           0.017441132430506823,
           0.0036880159294957796,
           0.0006960788521937564,
           8.658672269589251e-05
          ],
          [
           0,
           8.631761023496628e-05,
           0.08259039227427825,
           0.30301904941220636,
           0.2938692223821126,
           0.19352671449965603,
           0.08398977536453862,
           0.030620643756745797,
           0.0103868309673223,
           0.001911053865846598
          ],
          [
           0,
           1.466241365346214e-07,
           0.016998824817510146,
           0.13876784566558728,
           0.2440183369156752,
           0.26238932419139893,
           0.1765918003865115,
           0.09789093217801055,
           0.04967377264840183,
           0.01366901654412594
          ],
          [
           0,
           6.023137433258642e-10,
           0.0028758660694752462,
           0.04776482041366627,
           0.14281508111525326,
           0.2299733214436448,
           0.22718170264043472,
           0.17588261331842925,
           0.12862644932046036,
           0.04488014612064476
          ],
          [
           0,
           1.1507120186820402e-13,
           0.00036784504527727157,
           0.013042323829531924,
           0.06247718632759007,
           0.14748937415951693,
           0.20825885667427793,
           0.22564865947576473,
           0.23337336540680984,
           0.10934238940762034
          ],
          [
           0,
           3.886598330960641e-18,
           7.327665853594025e-05,
           0.0036012963390825567,
           0.02490445893800677,
           0.08139581283385541,
           0.15828829288697455,
           0.22467529092555633,
           0.31429755750849286,
           0.19276401375852936
          ],
          [
           0,
           2.0564594879288827e-13,
           2.6134166473410873e-05,
           0.0009633138182526611,
           0.008778194205855478,
           0.03880991917009674,
           0.10262295154838794,
           0.1929170858664671,
           0.3656831206346978,
           0.2901992802852384
          ]
         ]
        }
       ],
       "layout": {
        "font": {
         "color": "#FFF"
        },
        "height": 500,
        "paper_bgcolor": "#000",
        "plot_bgcolor": "#000",
        "title": "Confidence after 125000 Iterations at Glimpse 9",
        "titlefont": {
         "color": "#FFF"
        },
        "width": 500,
        "xaxis": {
         "dtick": 1,
         "range": [
          0.5,
          9.5
         ],
         "tickcolor": "#FFF",
         "title": "Predicted Class"
        },
        "yaxis": {
         "dtick": 1,
         "range": [
          9.5,
          0.5
         ],
         "tickcolor": "#FFF",
         "title": "True Class"
        }
       }
      },
      "text/html": [
       "<div id=\"bf989d73-ca8f-408f-8573-00e37b248e6c\" style=\"height: 500px; width: 500px;\" class=\"plotly-graph-div\"></div><script type=\"text/javascript\">require([\"plotly\"], function(Plotly) { window.PLOTLYENV=window.PLOTLYENV || {};window.PLOTLYENV.BASE_URL=\"https://plot.ly\";Plotly.newPlot(\"bf989d73-ca8f-408f-8573-00e37b248e6c\", [{\"colorscale\": \"Jet\", \"z\": [[0.0, 0.0, 0.0, 0.0, 0.0, 0.0, 0.0, 0.0, 0.0, 0.0], [0.0, 0.9528475119284456, 0.04509811748249236, 0.0019313308897125985, 7.286651018846876e-05, 4.99093690149605e-05, 1.7882413951521556e-07, 8.519822545413744e-08, 1.6893174919822092e-09, 4.418839512325474e-09], [0.0, 0.07849555375987562, 0.6544283378752421, 0.2219405140325475, 0.03873127309734588, 0.005744942635546702, 0.0005689349583768328, 8.491655254106893e-05, 5.078631155710627e-06, 4.508160317887364e-07], [0.0, 0.0021231240813066677, 0.2959511961127185, 0.41203322214677807, 0.19668681315660846, 0.07129383267673021, 0.017441132430506823, 0.0036880159294957796, 0.0006960788521937564, 8.658672269589251e-05], [0.0, 8.631761023496628e-05, 0.08259039227427825, 0.30301904941220636, 0.2938692223821126, 0.19352671449965603, 0.08398977536453862, 0.030620643756745797, 0.0103868309673223, 0.001911053865846598], [0.0, 1.466241365346214e-07, 0.016998824817510146, 0.13876784566558728, 0.2440183369156752, 0.26238932419139893, 0.1765918003865115, 0.09789093217801055, 0.04967377264840183, 0.01366901654412594], [0.0, 6.023137433258642e-10, 0.0028758660694752462, 0.04776482041366627, 0.14281508111525326, 0.2299733214436448, 0.22718170264043472, 0.17588261331842925, 0.12862644932046036, 0.04488014612064476], [0.0, 1.1507120186820402e-13, 0.00036784504527727157, 0.013042323829531924, 0.06247718632759007, 0.14748937415951693, 0.20825885667427793, 0.22564865947576473, 0.23337336540680984, 0.10934238940762034], [0.0, 3.886598330960641e-18, 7.327665853594025e-05, 0.0036012963390825567, 0.02490445893800677, 0.08139581283385541, 0.15828829288697455, 0.22467529092555633, 0.31429755750849286, 0.19276401375852936], [0.0, 2.0564594879288827e-13, 2.6134166473410873e-05, 0.0009633138182526611, 0.008778194205855478, 0.03880991917009674, 0.10262295154838794, 0.1929170858664671, 0.3656831206346978, 0.2901992802852384]], \"type\": \"heatmap\"}], {\"xaxis\": {\"title\": \"Predicted Class\", \"dtick\": 1, \"range\": [0.5, 9.5], \"tickcolor\": \"#FFF\"}, \"plot_bgcolor\": \"#000\", \"titlefont\": {\"color\": \"#FFF\"}, \"paper_bgcolor\": \"#000\", \"height\": 500, \"yaxis\": {\"title\": \"True Class\", \"dtick\": 1, \"range\": [9.5, 0.5], \"tickcolor\": \"#FFF\"}, \"title\": \"Confidence after 125000 Iterations at Glimpse 9\", \"font\": {\"color\": \"#FFF\"}, \"width\": 500}, {\"showLink\": true, \"linkText\": \"Export to plot.ly\"})});</script>"
      ],
      "text/vnd.plotly.v1+html": [
       "<div id=\"bf989d73-ca8f-408f-8573-00e37b248e6c\" style=\"height: 500px; width: 500px;\" class=\"plotly-graph-div\"></div><script type=\"text/javascript\">require([\"plotly\"], function(Plotly) { window.PLOTLYENV=window.PLOTLYENV || {};window.PLOTLYENV.BASE_URL=\"https://plot.ly\";Plotly.newPlot(\"bf989d73-ca8f-408f-8573-00e37b248e6c\", [{\"colorscale\": \"Jet\", \"z\": [[0.0, 0.0, 0.0, 0.0, 0.0, 0.0, 0.0, 0.0, 0.0, 0.0], [0.0, 0.9528475119284456, 0.04509811748249236, 0.0019313308897125985, 7.286651018846876e-05, 4.99093690149605e-05, 1.7882413951521556e-07, 8.519822545413744e-08, 1.6893174919822092e-09, 4.418839512325474e-09], [0.0, 0.07849555375987562, 0.6544283378752421, 0.2219405140325475, 0.03873127309734588, 0.005744942635546702, 0.0005689349583768328, 8.491655254106893e-05, 5.078631155710627e-06, 4.508160317887364e-07], [0.0, 0.0021231240813066677, 0.2959511961127185, 0.41203322214677807, 0.19668681315660846, 0.07129383267673021, 0.017441132430506823, 0.0036880159294957796, 0.0006960788521937564, 8.658672269589251e-05], [0.0, 8.631761023496628e-05, 0.08259039227427825, 0.30301904941220636, 0.2938692223821126, 0.19352671449965603, 0.08398977536453862, 0.030620643756745797, 0.0103868309673223, 0.001911053865846598], [0.0, 1.466241365346214e-07, 0.016998824817510146, 0.13876784566558728, 0.2440183369156752, 0.26238932419139893, 0.1765918003865115, 0.09789093217801055, 0.04967377264840183, 0.01366901654412594], [0.0, 6.023137433258642e-10, 0.0028758660694752462, 0.04776482041366627, 0.14281508111525326, 0.2299733214436448, 0.22718170264043472, 0.17588261331842925, 0.12862644932046036, 0.04488014612064476], [0.0, 1.1507120186820402e-13, 0.00036784504527727157, 0.013042323829531924, 0.06247718632759007, 0.14748937415951693, 0.20825885667427793, 0.22564865947576473, 0.23337336540680984, 0.10934238940762034], [0.0, 3.886598330960641e-18, 7.327665853594025e-05, 0.0036012963390825567, 0.02490445893800677, 0.08139581283385541, 0.15828829288697455, 0.22467529092555633, 0.31429755750849286, 0.19276401375852936], [0.0, 2.0564594879288827e-13, 2.6134166473410873e-05, 0.0009633138182526611, 0.008778194205855478, 0.03880991917009674, 0.10262295154838794, 0.1929170858664671, 0.3656831206346978, 0.2901992802852384]], \"type\": \"heatmap\"}], {\"xaxis\": {\"title\": \"Predicted Class\", \"dtick\": 1, \"range\": [0.5, 9.5], \"tickcolor\": \"#FFF\"}, \"plot_bgcolor\": \"#000\", \"titlefont\": {\"color\": \"#FFF\"}, \"paper_bgcolor\": \"#000\", \"height\": 500, \"yaxis\": {\"title\": \"True Class\", \"dtick\": 1, \"range\": [9.5, 0.5], \"tickcolor\": \"#FFF\"}, \"title\": \"Confidence after 125000 Iterations at Glimpse 9\", \"font\": {\"color\": \"#FFF\"}, \"width\": 500}, {\"showLink\": true, \"linkText\": \"Export to plot.ly\"})});</script>"
      ]
     },
     "metadata": {},
     "output_type": "display_data"
    },
    {
     "data": {
      "application/vnd.plotly.v1+json": {
       "data": [
        {
         "colorscale": "Jet",
         "type": "heatmap",
         "z": [
          [
           0,
           0,
           0,
           0,
           0,
           0,
           0,
           0,
           0,
           0
          ],
          [
           0,
           0.9842000000000001,
           0.0158,
           0,
           0,
           0,
           0,
           0,
           0,
           0
          ],
          [
           0,
           0.0684,
           0.7588999999999999,
           0.16840000000000005,
           0.0043,
           0,
           0,
           0,
           0,
           0
          ],
          [
           0,
           0.0009000000000000001,
           0.27969999999999995,
           0.5297,
           0.15599999999999997,
           0.032600000000000004,
           0.0011000000000000003,
           0,
           0,
           0
          ],
          [
           0,
           0,
           0.04329999999999999,
           0.37060000000000004,
           0.33879999999999993,
           0.1874,
           0.0493,
           0.0094,
           0.0012000000000000001,
           0
          ],
          [
           0,
           0,
           0.0028000000000000004,
           0.1246,
           0.2743,
           0.3202,
           0.18680000000000002,
           0.0668,
           0.023100000000000002,
           0.0014
          ],
          [
           0,
           0,
           0.00030000000000000003,
           0.0249,
           0.12990000000000002,
           0.2667,
           0.29239999999999994,
           0.1643,
           0.1082,
           0.013300000000000001
          ],
          [
           0,
           0,
           0,
           0.0031,
           0.0354,
           0.133,
           0.25999999999999995,
           0.2113,
           0.29159999999999997,
           0.0656
          ],
          [
           0,
           0,
           0,
           0.00030000000000000003,
           0.0088,
           0.051000000000000004,
           0.16679999999999998,
           0.17889999999999998,
           0.42329999999999995,
           0.1709
          ],
          [
           0,
           0,
           0,
           0.0001,
           0.0018000000000000002,
           0.013000000000000003,
           0.07880000000000001,
           0.11069999999999998,
           0.4786,
           0.317
          ]
         ]
        }
       ],
       "layout": {
        "font": {
         "color": "#FFF"
        },
        "height": 500,
        "paper_bgcolor": "#000",
        "plot_bgcolor": "#000",
        "title": "Choice after 125000 Iterations at Glimpse 9",
        "titlefont": {
         "color": "#FFF"
        },
        "width": 500,
        "xaxis": {
         "dtick": 1,
         "range": [
          0.5,
          9.5
         ],
         "tickcolor": "#FFF",
         "title": "Predicted Class"
        },
        "yaxis": {
         "dtick": 1,
         "range": [
          9.5,
          0.5
         ],
         "tickcolor": "#FFF",
         "title": "True Class"
        }
       }
      },
      "text/html": [
       "<div id=\"9f6c3990-21a5-44ee-a8bf-162d190a6d5b\" style=\"height: 500px; width: 500px;\" class=\"plotly-graph-div\"></div><script type=\"text/javascript\">require([\"plotly\"], function(Plotly) { window.PLOTLYENV=window.PLOTLYENV || {};window.PLOTLYENV.BASE_URL=\"https://plot.ly\";Plotly.newPlot(\"9f6c3990-21a5-44ee-a8bf-162d190a6d5b\", [{\"colorscale\": \"Jet\", \"z\": [[0.0, 0.0, 0.0, 0.0, 0.0, 0.0, 0.0, 0.0, 0.0, 0.0], [0.0, 0.9842000000000001, 0.0158, 0.0, 0.0, 0.0, 0.0, 0.0, 0.0, 0.0], [0.0, 0.0684, 0.7588999999999999, 0.16840000000000005, 0.0043, 0.0, 0.0, 0.0, 0.0, 0.0], [0.0, 0.0009000000000000001, 0.27969999999999995, 0.5297, 0.15599999999999997, 0.032600000000000004, 0.0011000000000000003, 0.0, 0.0, 0.0], [0.0, 0.0, 0.04329999999999999, 0.37060000000000004, 0.33879999999999993, 0.1874, 0.0493, 0.0094, 0.0012000000000000001, 0.0], [0.0, 0.0, 0.0028000000000000004, 0.1246, 0.2743, 0.3202, 0.18680000000000002, 0.0668, 0.023100000000000002, 0.0014], [0.0, 0.0, 0.00030000000000000003, 0.0249, 0.12990000000000002, 0.2667, 0.29239999999999994, 0.1643, 0.1082, 0.013300000000000001], [0.0, 0.0, 0.0, 0.0031, 0.0354, 0.133, 0.25999999999999995, 0.2113, 0.29159999999999997, 0.0656], [0.0, 0.0, 0.0, 0.00030000000000000003, 0.0088, 0.051000000000000004, 0.16679999999999998, 0.17889999999999998, 0.42329999999999995, 0.1709], [0.0, 0.0, 0.0, 0.0001, 0.0018000000000000002, 0.013000000000000003, 0.07880000000000001, 0.11069999999999998, 0.4786, 0.317]], \"type\": \"heatmap\"}], {\"xaxis\": {\"title\": \"Predicted Class\", \"dtick\": 1, \"range\": [0.5, 9.5], \"tickcolor\": \"#FFF\"}, \"plot_bgcolor\": \"#000\", \"titlefont\": {\"color\": \"#FFF\"}, \"paper_bgcolor\": \"#000\", \"height\": 500, \"yaxis\": {\"title\": \"True Class\", \"dtick\": 1, \"range\": [9.5, 0.5], \"tickcolor\": \"#FFF\"}, \"title\": \"Choice after 125000 Iterations at Glimpse 9\", \"font\": {\"color\": \"#FFF\"}, \"width\": 500}, {\"showLink\": true, \"linkText\": \"Export to plot.ly\"})});</script>"
      ],
      "text/vnd.plotly.v1+html": [
       "<div id=\"9f6c3990-21a5-44ee-a8bf-162d190a6d5b\" style=\"height: 500px; width: 500px;\" class=\"plotly-graph-div\"></div><script type=\"text/javascript\">require([\"plotly\"], function(Plotly) { window.PLOTLYENV=window.PLOTLYENV || {};window.PLOTLYENV.BASE_URL=\"https://plot.ly\";Plotly.newPlot(\"9f6c3990-21a5-44ee-a8bf-162d190a6d5b\", [{\"colorscale\": \"Jet\", \"z\": [[0.0, 0.0, 0.0, 0.0, 0.0, 0.0, 0.0, 0.0, 0.0, 0.0], [0.0, 0.9842000000000001, 0.0158, 0.0, 0.0, 0.0, 0.0, 0.0, 0.0, 0.0], [0.0, 0.0684, 0.7588999999999999, 0.16840000000000005, 0.0043, 0.0, 0.0, 0.0, 0.0, 0.0], [0.0, 0.0009000000000000001, 0.27969999999999995, 0.5297, 0.15599999999999997, 0.032600000000000004, 0.0011000000000000003, 0.0, 0.0, 0.0], [0.0, 0.0, 0.04329999999999999, 0.37060000000000004, 0.33879999999999993, 0.1874, 0.0493, 0.0094, 0.0012000000000000001, 0.0], [0.0, 0.0, 0.0028000000000000004, 0.1246, 0.2743, 0.3202, 0.18680000000000002, 0.0668, 0.023100000000000002, 0.0014], [0.0, 0.0, 0.00030000000000000003, 0.0249, 0.12990000000000002, 0.2667, 0.29239999999999994, 0.1643, 0.1082, 0.013300000000000001], [0.0, 0.0, 0.0, 0.0031, 0.0354, 0.133, 0.25999999999999995, 0.2113, 0.29159999999999997, 0.0656], [0.0, 0.0, 0.0, 0.00030000000000000003, 0.0088, 0.051000000000000004, 0.16679999999999998, 0.17889999999999998, 0.42329999999999995, 0.1709], [0.0, 0.0, 0.0, 0.0001, 0.0018000000000000002, 0.013000000000000003, 0.07880000000000001, 0.11069999999999998, 0.4786, 0.317]], \"type\": \"heatmap\"}], {\"xaxis\": {\"title\": \"Predicted Class\", \"dtick\": 1, \"range\": [0.5, 9.5], \"tickcolor\": \"#FFF\"}, \"plot_bgcolor\": \"#000\", \"titlefont\": {\"color\": \"#FFF\"}, \"paper_bgcolor\": \"#000\", \"height\": 500, \"yaxis\": {\"title\": \"True Class\", \"dtick\": 1, \"range\": [9.5, 0.5], \"tickcolor\": \"#FFF\"}, \"title\": \"Choice after 125000 Iterations at Glimpse 9\", \"font\": {\"color\": \"#FFF\"}, \"width\": 500}, {\"showLink\": true, \"linkText\": \"Export to plot.ly\"})});</script>"
      ]
     },
     "metadata": {},
     "output_type": "display_data"
    },
    {
     "data": {
      "application/vnd.plotly.v1+json": {
       "data": [
        {
         "colorscale": "Jet",
         "type": "heatmap",
         "z": [
          [
           0,
           0,
           0,
           0,
           0,
           0,
           0,
           0,
           0,
           0
          ],
          [
           0,
           0.9675000865094363,
           0.03138967932735813,
           0.000969458673035949,
           0.00010647515981802413,
           2.5538116415662112e-05,
           6.443648560601447e-06,
           1.8230447910421747e-06,
           3.0297555029030025e-07,
           1.952682135701083e-07
          ],
          [
           0,
           0.06465103231512802,
           0.7206318882213053,
           0.18272821297208572,
           0.027540902344663748,
           0.0038689980459072583,
           0.0005141922070090317,
           5.2410536570761734e-05,
           9.752512465293299e-06,
           2.6137409231201406e-06
          ],
          [
           0,
           0.0013304921001373832,
           0.2810527862737125,
           0.4211522203192362,
           0.2122130940036903,
           0.0641941658290703,
           0.016099489861185305,
           0.0030981388052245375,
           0.0007089291994379998,
           0.00015068386818966492
          ],
          [
           0,
           4.174940800696824e-06,
           0.055294797358824296,
           0.28187581978422627,
           0.33287572810191196,
           0.1979713356530803,
           0.09161718780666822,
           0.028764909749255198,
           0.009091484691282643,
           0.00250456168364542
          ],
          [
           0,
           5.362911191580316e-10,
           0.007982809014969722,
           0.1037761161129223,
           0.25456922218932343,
           0.2721890085769351,
           0.20388067571862623,
           0.09755305849103835,
           0.04372074599446554,
           0.016328363586530358
          ],
          [
           0,
           4.068897734421674e-13,
           0.0011025833182388741,
           0.028234656194795742,
           0.12839502035381753,
           0.22601060243781776,
           0.2615614150990179,
           0.18103129055133232,
           0.11419326297440499,
           0.05947116993827668
          ],
          [
           0,
           3.198014115395978e-16,
           0.00018486823078494007,
           0.006600879815128223,
           0.0499600268311174,
           0.13723872935432382,
           0.2357818142884207,
           0.22963847132879237,
           0.20016290605885295,
           0.14043230437917473
          ],
          [
           0,
           5.594591182099828e-19,
           2.2969444800496846e-05,
           0.001436178611082654,
           0.016516987837429147,
           0.06565555324599144,
           0.16360511779649622,
           0.22736171549416614,
           0.2723846478558728,
           0.2530168311812405
          ],
          [
           0,
           7.925547529247524e-17,
           3.0922698597039755e-06,
           0.00024417487601033767,
           0.005195422351530347,
           0.028281977885286563,
           0.10032169270457195,
           0.18902507255673406,
           0.30912981572034764,
           0.3677987526044483
          ]
         ]
        }
       ],
       "layout": {
        "font": {
         "color": "#FFF"
        },
        "height": 500,
        "paper_bgcolor": "#000",
        "plot_bgcolor": "#000",
        "title": "Confidence after 250000 Iterations at Glimpse 0",
        "titlefont": {
         "color": "#FFF"
        },
        "width": 500,
        "xaxis": {
         "dtick": 1,
         "range": [
          0.5,
          9.5
         ],
         "tickcolor": "#FFF",
         "title": "Predicted Class"
        },
        "yaxis": {
         "dtick": 1,
         "range": [
          9.5,
          0.5
         ],
         "tickcolor": "#FFF",
         "title": "True Class"
        }
       }
      },
      "text/html": [
       "<div id=\"49948468-fc9c-4272-8edf-25f72c817a3f\" style=\"height: 500px; width: 500px;\" class=\"plotly-graph-div\"></div><script type=\"text/javascript\">require([\"plotly\"], function(Plotly) { window.PLOTLYENV=window.PLOTLYENV || {};window.PLOTLYENV.BASE_URL=\"https://plot.ly\";Plotly.newPlot(\"49948468-fc9c-4272-8edf-25f72c817a3f\", [{\"colorscale\": \"Jet\", \"z\": [[0.0, 0.0, 0.0, 0.0, 0.0, 0.0, 0.0, 0.0, 0.0, 0.0], [0.0, 0.9675000865094363, 0.03138967932735813, 0.000969458673035949, 0.00010647515981802413, 2.5538116415662112e-05, 6.443648560601447e-06, 1.8230447910421747e-06, 3.0297555029030025e-07, 1.952682135701083e-07], [0.0, 0.06465103231512802, 0.7206318882213053, 0.18272821297208572, 0.027540902344663748, 0.0038689980459072583, 0.0005141922070090317, 5.2410536570761734e-05, 9.752512465293299e-06, 2.6137409231201406e-06], [0.0, 0.0013304921001373832, 0.2810527862737125, 0.4211522203192362, 0.2122130940036903, 0.0641941658290703, 0.016099489861185305, 0.0030981388052245375, 0.0007089291994379998, 0.00015068386818966492], [0.0, 4.174940800696824e-06, 0.055294797358824296, 0.28187581978422627, 0.33287572810191196, 0.1979713356530803, 0.09161718780666822, 0.028764909749255198, 0.009091484691282643, 0.00250456168364542], [0.0, 5.362911191580316e-10, 0.007982809014969722, 0.1037761161129223, 0.25456922218932343, 0.2721890085769351, 0.20388067571862623, 0.09755305849103835, 0.04372074599446554, 0.016328363586530358], [0.0, 4.068897734421674e-13, 0.0011025833182388741, 0.028234656194795742, 0.12839502035381753, 0.22601060243781776, 0.2615614150990179, 0.18103129055133232, 0.11419326297440499, 0.05947116993827668], [0.0, 3.198014115395978e-16, 0.00018486823078494007, 0.006600879815128223, 0.0499600268311174, 0.13723872935432382, 0.2357818142884207, 0.22963847132879237, 0.20016290605885295, 0.14043230437917473], [0.0, 5.594591182099828e-19, 2.2969444800496846e-05, 0.001436178611082654, 0.016516987837429147, 0.06565555324599144, 0.16360511779649622, 0.22736171549416614, 0.2723846478558728, 0.2530168311812405], [0.0, 7.925547529247524e-17, 3.0922698597039755e-06, 0.00024417487601033767, 0.005195422351530347, 0.028281977885286563, 0.10032169270457195, 0.18902507255673406, 0.30912981572034764, 0.3677987526044483]], \"type\": \"heatmap\"}], {\"xaxis\": {\"title\": \"Predicted Class\", \"dtick\": 1, \"range\": [0.5, 9.5], \"tickcolor\": \"#FFF\"}, \"plot_bgcolor\": \"#000\", \"titlefont\": {\"color\": \"#FFF\"}, \"paper_bgcolor\": \"#000\", \"height\": 500, \"yaxis\": {\"title\": \"True Class\", \"dtick\": 1, \"range\": [9.5, 0.5], \"tickcolor\": \"#FFF\"}, \"title\": \"Confidence after 250000 Iterations at Glimpse 0\", \"font\": {\"color\": \"#FFF\"}, \"width\": 500}, {\"showLink\": true, \"linkText\": \"Export to plot.ly\"})});</script>"
      ],
      "text/vnd.plotly.v1+html": [
       "<div id=\"49948468-fc9c-4272-8edf-25f72c817a3f\" style=\"height: 500px; width: 500px;\" class=\"plotly-graph-div\"></div><script type=\"text/javascript\">require([\"plotly\"], function(Plotly) { window.PLOTLYENV=window.PLOTLYENV || {};window.PLOTLYENV.BASE_URL=\"https://plot.ly\";Plotly.newPlot(\"49948468-fc9c-4272-8edf-25f72c817a3f\", [{\"colorscale\": \"Jet\", \"z\": [[0.0, 0.0, 0.0, 0.0, 0.0, 0.0, 0.0, 0.0, 0.0, 0.0], [0.0, 0.9675000865094363, 0.03138967932735813, 0.000969458673035949, 0.00010647515981802413, 2.5538116415662112e-05, 6.443648560601447e-06, 1.8230447910421747e-06, 3.0297555029030025e-07, 1.952682135701083e-07], [0.0, 0.06465103231512802, 0.7206318882213053, 0.18272821297208572, 0.027540902344663748, 0.0038689980459072583, 0.0005141922070090317, 5.2410536570761734e-05, 9.752512465293299e-06, 2.6137409231201406e-06], [0.0, 0.0013304921001373832, 0.2810527862737125, 0.4211522203192362, 0.2122130940036903, 0.0641941658290703, 0.016099489861185305, 0.0030981388052245375, 0.0007089291994379998, 0.00015068386818966492], [0.0, 4.174940800696824e-06, 0.055294797358824296, 0.28187581978422627, 0.33287572810191196, 0.1979713356530803, 0.09161718780666822, 0.028764909749255198, 0.009091484691282643, 0.00250456168364542], [0.0, 5.362911191580316e-10, 0.007982809014969722, 0.1037761161129223, 0.25456922218932343, 0.2721890085769351, 0.20388067571862623, 0.09755305849103835, 0.04372074599446554, 0.016328363586530358], [0.0, 4.068897734421674e-13, 0.0011025833182388741, 0.028234656194795742, 0.12839502035381753, 0.22601060243781776, 0.2615614150990179, 0.18103129055133232, 0.11419326297440499, 0.05947116993827668], [0.0, 3.198014115395978e-16, 0.00018486823078494007, 0.006600879815128223, 0.0499600268311174, 0.13723872935432382, 0.2357818142884207, 0.22963847132879237, 0.20016290605885295, 0.14043230437917473], [0.0, 5.594591182099828e-19, 2.2969444800496846e-05, 0.001436178611082654, 0.016516987837429147, 0.06565555324599144, 0.16360511779649622, 0.22736171549416614, 0.2723846478558728, 0.2530168311812405], [0.0, 7.925547529247524e-17, 3.0922698597039755e-06, 0.00024417487601033767, 0.005195422351530347, 0.028281977885286563, 0.10032169270457195, 0.18902507255673406, 0.30912981572034764, 0.3677987526044483]], \"type\": \"heatmap\"}], {\"xaxis\": {\"title\": \"Predicted Class\", \"dtick\": 1, \"range\": [0.5, 9.5], \"tickcolor\": \"#FFF\"}, \"plot_bgcolor\": \"#000\", \"titlefont\": {\"color\": \"#FFF\"}, \"paper_bgcolor\": \"#000\", \"height\": 500, \"yaxis\": {\"title\": \"True Class\", \"dtick\": 1, \"range\": [9.5, 0.5], \"tickcolor\": \"#FFF\"}, \"title\": \"Confidence after 250000 Iterations at Glimpse 0\", \"font\": {\"color\": \"#FFF\"}, \"width\": 500}, {\"showLink\": true, \"linkText\": \"Export to plot.ly\"})});</script>"
      ]
     },
     "metadata": {},
     "output_type": "display_data"
    },
    {
     "data": {
      "application/vnd.plotly.v1+json": {
       "data": [
        {
         "colorscale": "Jet",
         "type": "heatmap",
         "z": [
          [
           0,
           0,
           0,
           0,
           0,
           0,
           0,
           0,
           0,
           0
          ],
          [
           0,
           0.9974999999999999,
           0.0025000000000000005,
           0,
           0,
           0,
           0,
           0,
           0,
           0
          ],
          [
           0,
           0.048400000000000006,
           0.8506999999999998,
           0.1004,
           0.0005,
           0,
           0,
           0,
           0,
           0
          ],
          [
           0,
           0.0008,
           0.27359999999999995,
           0.5388000000000001,
           0.1689,
           0.0166,
           0.0012000000000000001,
           0.0001,
           0,
           0
          ],
          [
           0,
           0,
           0.030699999999999998,
           0.31720000000000004,
           0.4258,
           0.1672,
           0.0526,
           0.006,
           0.0005,
           0
          ],
          [
           0,
           0,
           0.0021000000000000003,
           0.07159999999999998,
           0.31450000000000006,
           0.32110000000000005,
           0.2205,
           0.0522,
           0.0152,
           0.0028000000000000004
          ],
          [
           0,
           0,
           0.0002,
           0.0103,
           0.1135,
           0.2541,
           0.356,
           0.15789999999999998,
           0.0779,
           0.030100000000000005
          ],
          [
           0,
           0,
           0,
           0.0016,
           0.0245,
           0.1176,
           0.3121999999999999,
           0.2373,
           0.18600000000000003,
           0.12080000000000002
          ],
          [
           0,
           0,
           0,
           0.0002,
           0.0046,
           0.0338,
           0.1721,
           0.2212,
           0.2761,
           0.292
          ],
          [
           0,
           0,
           0,
           0,
           0.0005,
           0.008399999999999998,
           0.07490000000000001,
           0.14409999999999998,
           0.29009999999999997,
           0.48200000000000004
          ]
         ]
        }
       ],
       "layout": {
        "font": {
         "color": "#FFF"
        },
        "height": 500,
        "paper_bgcolor": "#000",
        "plot_bgcolor": "#000",
        "title": "Choice after 250000 Iterations at Glimpse 0",
        "titlefont": {
         "color": "#FFF"
        },
        "width": 500,
        "xaxis": {
         "dtick": 1,
         "range": [
          0.5,
          9.5
         ],
         "tickcolor": "#FFF",
         "title": "Predicted Class"
        },
        "yaxis": {
         "dtick": 1,
         "range": [
          9.5,
          0.5
         ],
         "tickcolor": "#FFF",
         "title": "True Class"
        }
       }
      },
      "text/html": [
       "<div id=\"7a9242a0-0c1e-40fd-aced-2898d85a0753\" style=\"height: 500px; width: 500px;\" class=\"plotly-graph-div\"></div><script type=\"text/javascript\">require([\"plotly\"], function(Plotly) { window.PLOTLYENV=window.PLOTLYENV || {};window.PLOTLYENV.BASE_URL=\"https://plot.ly\";Plotly.newPlot(\"7a9242a0-0c1e-40fd-aced-2898d85a0753\", [{\"colorscale\": \"Jet\", \"z\": [[0.0, 0.0, 0.0, 0.0, 0.0, 0.0, 0.0, 0.0, 0.0, 0.0], [0.0, 0.9974999999999999, 0.0025000000000000005, 0.0, 0.0, 0.0, 0.0, 0.0, 0.0, 0.0], [0.0, 0.048400000000000006, 0.8506999999999998, 0.1004, 0.0005, 0.0, 0.0, 0.0, 0.0, 0.0], [0.0, 0.0008, 0.27359999999999995, 0.5388000000000001, 0.1689, 0.0166, 0.0012000000000000001, 0.0001, 0.0, 0.0], [0.0, 0.0, 0.030699999999999998, 0.31720000000000004, 0.4258, 0.1672, 0.0526, 0.006, 0.0005, 0.0], [0.0, 0.0, 0.0021000000000000003, 0.07159999999999998, 0.31450000000000006, 0.32110000000000005, 0.2205, 0.0522, 0.0152, 0.0028000000000000004], [0.0, 0.0, 0.0002, 0.0103, 0.1135, 0.2541, 0.356, 0.15789999999999998, 0.0779, 0.030100000000000005], [0.0, 0.0, 0.0, 0.0016, 0.0245, 0.1176, 0.3121999999999999, 0.2373, 0.18600000000000003, 0.12080000000000002], [0.0, 0.0, 0.0, 0.0002, 0.0046, 0.0338, 0.1721, 0.2212, 0.2761, 0.292], [0.0, 0.0, 0.0, 0.0, 0.0005, 0.008399999999999998, 0.07490000000000001, 0.14409999999999998, 0.29009999999999997, 0.48200000000000004]], \"type\": \"heatmap\"}], {\"xaxis\": {\"title\": \"Predicted Class\", \"dtick\": 1, \"range\": [0.5, 9.5], \"tickcolor\": \"#FFF\"}, \"plot_bgcolor\": \"#000\", \"titlefont\": {\"color\": \"#FFF\"}, \"paper_bgcolor\": \"#000\", \"height\": 500, \"yaxis\": {\"title\": \"True Class\", \"dtick\": 1, \"range\": [9.5, 0.5], \"tickcolor\": \"#FFF\"}, \"title\": \"Choice after 250000 Iterations at Glimpse 0\", \"font\": {\"color\": \"#FFF\"}, \"width\": 500}, {\"showLink\": true, \"linkText\": \"Export to plot.ly\"})});</script>"
      ],
      "text/vnd.plotly.v1+html": [
       "<div id=\"7a9242a0-0c1e-40fd-aced-2898d85a0753\" style=\"height: 500px; width: 500px;\" class=\"plotly-graph-div\"></div><script type=\"text/javascript\">require([\"plotly\"], function(Plotly) { window.PLOTLYENV=window.PLOTLYENV || {};window.PLOTLYENV.BASE_URL=\"https://plot.ly\";Plotly.newPlot(\"7a9242a0-0c1e-40fd-aced-2898d85a0753\", [{\"colorscale\": \"Jet\", \"z\": [[0.0, 0.0, 0.0, 0.0, 0.0, 0.0, 0.0, 0.0, 0.0, 0.0], [0.0, 0.9974999999999999, 0.0025000000000000005, 0.0, 0.0, 0.0, 0.0, 0.0, 0.0, 0.0], [0.0, 0.048400000000000006, 0.8506999999999998, 0.1004, 0.0005, 0.0, 0.0, 0.0, 0.0, 0.0], [0.0, 0.0008, 0.27359999999999995, 0.5388000000000001, 0.1689, 0.0166, 0.0012000000000000001, 0.0001, 0.0, 0.0], [0.0, 0.0, 0.030699999999999998, 0.31720000000000004, 0.4258, 0.1672, 0.0526, 0.006, 0.0005, 0.0], [0.0, 0.0, 0.0021000000000000003, 0.07159999999999998, 0.31450000000000006, 0.32110000000000005, 0.2205, 0.0522, 0.0152, 0.0028000000000000004], [0.0, 0.0, 0.0002, 0.0103, 0.1135, 0.2541, 0.356, 0.15789999999999998, 0.0779, 0.030100000000000005], [0.0, 0.0, 0.0, 0.0016, 0.0245, 0.1176, 0.3121999999999999, 0.2373, 0.18600000000000003, 0.12080000000000002], [0.0, 0.0, 0.0, 0.0002, 0.0046, 0.0338, 0.1721, 0.2212, 0.2761, 0.292], [0.0, 0.0, 0.0, 0.0, 0.0005, 0.008399999999999998, 0.07490000000000001, 0.14409999999999998, 0.29009999999999997, 0.48200000000000004]], \"type\": \"heatmap\"}], {\"xaxis\": {\"title\": \"Predicted Class\", \"dtick\": 1, \"range\": [0.5, 9.5], \"tickcolor\": \"#FFF\"}, \"plot_bgcolor\": \"#000\", \"titlefont\": {\"color\": \"#FFF\"}, \"paper_bgcolor\": \"#000\", \"height\": 500, \"yaxis\": {\"title\": \"True Class\", \"dtick\": 1, \"range\": [9.5, 0.5], \"tickcolor\": \"#FFF\"}, \"title\": \"Choice after 250000 Iterations at Glimpse 0\", \"font\": {\"color\": \"#FFF\"}, \"width\": 500}, {\"showLink\": true, \"linkText\": \"Export to plot.ly\"})});</script>"
      ]
     },
     "metadata": {},
     "output_type": "display_data"
    },
    {
     "data": {
      "application/vnd.plotly.v1+json": {
       "data": [
        {
         "colorscale": "Jet",
         "type": "heatmap",
         "z": [
          [
           0,
           0,
           0,
           0,
           0,
           0,
           0,
           0,
           0,
           0
          ],
          [
           0,
           0.9837509815752506,
           0.01614958859374228,
           8.421531684565897e-05,
           1.0852056179770134e-05,
           4.217903016531115e-06,
           7.722025986472504e-08,
           3.648290049243162e-08,
           4.0724167603639775e-08,
           3.0742145960943835e-10
          ],
          [
           0,
           0.030587158847185787,
           0.7817866311994017,
           0.16815070660384612,
           0.017770772902175016,
           0.0015874150022840137,
           0.00011225925357851203,
           4.738158951714846e-06,
           3.0363627223521757e-07,
           1.6827051451243226e-08
          ],
          [
           0,
           0.0005334475935089518,
           0.2538488572120692,
           0.45324369004104403,
           0.21958954477372689,
           0.05837102013260801,
           0.012651808240450018,
           0.0015279382624912392,
           0.00021224087836549483,
           2.1455107621990333e-05
          ],
          [
           0,
           1.3184904755955242e-07,
           0.04226769153789174,
           0.2710374766395083,
           0.3560210106139128,
           0.2060644040750641,
           0.09317508412366862,
           0.02371272718682215,
           0.006517043482254782,
           0.0012044312018275735
          ],
          [
           0,
           7.168582150764754e-14,
           0.004871738139728795,
           0.08975033195686506,
           0.25674091770169305,
           0.2818061182633857,
           0.2215063912002801,
           0.09291364266508932,
           0.039944163361357164,
           0.012466697383651413
          ],
          [
           0,
           2.1924107531231798e-18,
           0.0005135850857605657,
           0.02226930882635505,
           0.11867457470119602,
           0.22355523195000213,
           0.28231869744315014,
           0.18109536177319607,
           0.11560334814226014,
           0.055969893197023744
          ],
          [
           0,
           1.6272711376177763e-21,
           2.6610561324246823e-05,
           0.0043816748307122615,
           0.041902053784746034,
           0.12744287831750434,
           0.24616771713477795,
           0.22907747312943685,
           0.20623774868278305,
           0.14476384388370914
          ],
          [
           0,
           3.191040594429162e-26,
           9.20580610026247e-06,
           0.0007931921031033856,
           0.012333564786381417,
           0.05708950854296677,
           0.16391532483621923,
           0.2186644151057,
           0.2748047191967926,
           0.2723900699815888
          ],
          [
           0,
           1.5550070539267853e-26,
           5.989296452183608e-08,
           0.00012374351969983527,
           0.0033269057946559155,
           0.022558676267717077,
           0.09296444383023046,
           0.17651949245054274,
           0.29883306750708727,
           0.40567361127936163
          ]
         ]
        }
       ],
       "layout": {
        "font": {
         "color": "#FFF"
        },
        "height": 500,
        "paper_bgcolor": "#000",
        "plot_bgcolor": "#000",
        "title": "Confidence after 250000 Iterations at Glimpse 3",
        "titlefont": {
         "color": "#FFF"
        },
        "width": 500,
        "xaxis": {
         "dtick": 1,
         "range": [
          0.5,
          9.5
         ],
         "tickcolor": "#FFF",
         "title": "Predicted Class"
        },
        "yaxis": {
         "dtick": 1,
         "range": [
          9.5,
          0.5
         ],
         "tickcolor": "#FFF",
         "title": "True Class"
        }
       }
      },
      "text/html": [
       "<div id=\"0e80fbe8-dcdd-4e9e-859d-cb2fe52e90e0\" style=\"height: 500px; width: 500px;\" class=\"plotly-graph-div\"></div><script type=\"text/javascript\">require([\"plotly\"], function(Plotly) { window.PLOTLYENV=window.PLOTLYENV || {};window.PLOTLYENV.BASE_URL=\"https://plot.ly\";Plotly.newPlot(\"0e80fbe8-dcdd-4e9e-859d-cb2fe52e90e0\", [{\"colorscale\": \"Jet\", \"z\": [[0.0, 0.0, 0.0, 0.0, 0.0, 0.0, 0.0, 0.0, 0.0, 0.0], [0.0, 0.9837509815752506, 0.01614958859374228, 8.421531684565897e-05, 1.0852056179770134e-05, 4.217903016531115e-06, 7.722025986472504e-08, 3.648290049243162e-08, 4.0724167603639775e-08, 3.0742145960943835e-10], [0.0, 0.030587158847185787, 0.7817866311994017, 0.16815070660384612, 0.017770772902175016, 0.0015874150022840137, 0.00011225925357851203, 4.738158951714846e-06, 3.0363627223521757e-07, 1.6827051451243226e-08], [0.0, 0.0005334475935089518, 0.2538488572120692, 0.45324369004104403, 0.21958954477372689, 0.05837102013260801, 0.012651808240450018, 0.0015279382624912392, 0.00021224087836549483, 2.1455107621990333e-05], [0.0, 1.3184904755955242e-07, 0.04226769153789174, 0.2710374766395083, 0.3560210106139128, 0.2060644040750641, 0.09317508412366862, 0.02371272718682215, 0.006517043482254782, 0.0012044312018275735], [0.0, 7.168582150764754e-14, 0.004871738139728795, 0.08975033195686506, 0.25674091770169305, 0.2818061182633857, 0.2215063912002801, 0.09291364266508932, 0.039944163361357164, 0.012466697383651413], [0.0, 2.1924107531231798e-18, 0.0005135850857605657, 0.02226930882635505, 0.11867457470119602, 0.22355523195000213, 0.28231869744315014, 0.18109536177319607, 0.11560334814226014, 0.055969893197023744], [0.0, 1.6272711376177763e-21, 2.6610561324246823e-05, 0.0043816748307122615, 0.041902053784746034, 0.12744287831750434, 0.24616771713477795, 0.22907747312943685, 0.20623774868278305, 0.14476384388370914], [0.0, 3.191040594429162e-26, 9.20580610026247e-06, 0.0007931921031033856, 0.012333564786381417, 0.05708950854296677, 0.16391532483621923, 0.2186644151057, 0.2748047191967926, 0.2723900699815888], [0.0, 1.5550070539267853e-26, 5.989296452183608e-08, 0.00012374351969983527, 0.0033269057946559155, 0.022558676267717077, 0.09296444383023046, 0.17651949245054274, 0.29883306750708727, 0.40567361127936163]], \"type\": \"heatmap\"}], {\"xaxis\": {\"title\": \"Predicted Class\", \"dtick\": 1, \"range\": [0.5, 9.5], \"tickcolor\": \"#FFF\"}, \"plot_bgcolor\": \"#000\", \"titlefont\": {\"color\": \"#FFF\"}, \"paper_bgcolor\": \"#000\", \"height\": 500, \"yaxis\": {\"title\": \"True Class\", \"dtick\": 1, \"range\": [9.5, 0.5], \"tickcolor\": \"#FFF\"}, \"title\": \"Confidence after 250000 Iterations at Glimpse 3\", \"font\": {\"color\": \"#FFF\"}, \"width\": 500}, {\"showLink\": true, \"linkText\": \"Export to plot.ly\"})});</script>"
      ],
      "text/vnd.plotly.v1+html": [
       "<div id=\"0e80fbe8-dcdd-4e9e-859d-cb2fe52e90e0\" style=\"height: 500px; width: 500px;\" class=\"plotly-graph-div\"></div><script type=\"text/javascript\">require([\"plotly\"], function(Plotly) { window.PLOTLYENV=window.PLOTLYENV || {};window.PLOTLYENV.BASE_URL=\"https://plot.ly\";Plotly.newPlot(\"0e80fbe8-dcdd-4e9e-859d-cb2fe52e90e0\", [{\"colorscale\": \"Jet\", \"z\": [[0.0, 0.0, 0.0, 0.0, 0.0, 0.0, 0.0, 0.0, 0.0, 0.0], [0.0, 0.9837509815752506, 0.01614958859374228, 8.421531684565897e-05, 1.0852056179770134e-05, 4.217903016531115e-06, 7.722025986472504e-08, 3.648290049243162e-08, 4.0724167603639775e-08, 3.0742145960943835e-10], [0.0, 0.030587158847185787, 0.7817866311994017, 0.16815070660384612, 0.017770772902175016, 0.0015874150022840137, 0.00011225925357851203, 4.738158951714846e-06, 3.0363627223521757e-07, 1.6827051451243226e-08], [0.0, 0.0005334475935089518, 0.2538488572120692, 0.45324369004104403, 0.21958954477372689, 0.05837102013260801, 0.012651808240450018, 0.0015279382624912392, 0.00021224087836549483, 2.1455107621990333e-05], [0.0, 1.3184904755955242e-07, 0.04226769153789174, 0.2710374766395083, 0.3560210106139128, 0.2060644040750641, 0.09317508412366862, 0.02371272718682215, 0.006517043482254782, 0.0012044312018275735], [0.0, 7.168582150764754e-14, 0.004871738139728795, 0.08975033195686506, 0.25674091770169305, 0.2818061182633857, 0.2215063912002801, 0.09291364266508932, 0.039944163361357164, 0.012466697383651413], [0.0, 2.1924107531231798e-18, 0.0005135850857605657, 0.02226930882635505, 0.11867457470119602, 0.22355523195000213, 0.28231869744315014, 0.18109536177319607, 0.11560334814226014, 0.055969893197023744], [0.0, 1.6272711376177763e-21, 2.6610561324246823e-05, 0.0043816748307122615, 0.041902053784746034, 0.12744287831750434, 0.24616771713477795, 0.22907747312943685, 0.20623774868278305, 0.14476384388370914], [0.0, 3.191040594429162e-26, 9.20580610026247e-06, 0.0007931921031033856, 0.012333564786381417, 0.05708950854296677, 0.16391532483621923, 0.2186644151057, 0.2748047191967926, 0.2723900699815888], [0.0, 1.5550070539267853e-26, 5.989296452183608e-08, 0.00012374351969983527, 0.0033269057946559155, 0.022558676267717077, 0.09296444383023046, 0.17651949245054274, 0.29883306750708727, 0.40567361127936163]], \"type\": \"heatmap\"}], {\"xaxis\": {\"title\": \"Predicted Class\", \"dtick\": 1, \"range\": [0.5, 9.5], \"tickcolor\": \"#FFF\"}, \"plot_bgcolor\": \"#000\", \"titlefont\": {\"color\": \"#FFF\"}, \"paper_bgcolor\": \"#000\", \"height\": 500, \"yaxis\": {\"title\": \"True Class\", \"dtick\": 1, \"range\": [9.5, 0.5], \"tickcolor\": \"#FFF\"}, \"title\": \"Confidence after 250000 Iterations at Glimpse 3\", \"font\": {\"color\": \"#FFF\"}, \"width\": 500}, {\"showLink\": true, \"linkText\": \"Export to plot.ly\"})});</script>"
      ]
     },
     "metadata": {},
     "output_type": "display_data"
    },
    {
     "data": {
      "application/vnd.plotly.v1+json": {
       "data": [
        {
         "colorscale": "Jet",
         "type": "heatmap",
         "z": [
          [
           0,
           0,
           0,
           0,
           0,
           0,
           0,
           0,
           0,
           0
          ],
          [
           0,
           0.9984999999999999,
           0.0015000000000000002,
           0,
           0,
           0,
           0,
           0,
           0,
           0
          ],
          [
           0,
           0.027600000000000003,
           0.877,
           0.09509999999999999,
           0.00030000000000000003,
           0,
           0,
           0,
           0,
           0
          ],
          [
           0,
           0.0005,
           0.24099999999999996,
           0.5567,
           0.18439999999999998,
           0.016099999999999996,
           0.0013000000000000002,
           0,
           0,
           0
          ],
          [
           0,
           0,
           0.027899999999999998,
           0.28300000000000003,
           0.4511,
           0.1721,
           0.060899999999999996,
           0.0045,
           0.0005,
           0
          ],
          [
           0,
           0,
           0.0011,
           0.0593,
           0.3047,
           0.3086,
           0.2565,
           0.0521,
           0.0159,
           0.0018
          ],
          [
           0,
           0,
           0.0001,
           0.0085,
           0.0966,
           0.22969999999999996,
           0.3895,
           0.1546,
           0.0904,
           0.030600000000000006
          ],
          [
           0,
           0,
           0,
           0.0006000000000000001,
           0.0207,
           0.09559999999999999,
           0.31259999999999993,
           0.2252,
           0.21309999999999998,
           0.13220000000000004
          ],
          [
           0,
           0,
           0,
           0.0002,
           0.0023,
           0.0256,
           0.1618,
           0.20129999999999998,
           0.28650000000000003,
           0.3223
          ],
          [
           0,
           0,
           0,
           0,
           0.0005,
           0.0054,
           0.0615,
           0.12730000000000002,
           0.2651,
           0.5402
          ]
         ]
        }
       ],
       "layout": {
        "font": {
         "color": "#FFF"
        },
        "height": 500,
        "paper_bgcolor": "#000",
        "plot_bgcolor": "#000",
        "title": "Choice after 250000 Iterations at Glimpse 3",
        "titlefont": {
         "color": "#FFF"
        },
        "width": 500,
        "xaxis": {
         "dtick": 1,
         "range": [
          0.5,
          9.5
         ],
         "tickcolor": "#FFF",
         "title": "Predicted Class"
        },
        "yaxis": {
         "dtick": 1,
         "range": [
          9.5,
          0.5
         ],
         "tickcolor": "#FFF",
         "title": "True Class"
        }
       }
      },
      "text/html": [
       "<div id=\"d70a6672-0a3d-46ed-a0c3-a0b47694044f\" style=\"height: 500px; width: 500px;\" class=\"plotly-graph-div\"></div><script type=\"text/javascript\">require([\"plotly\"], function(Plotly) { window.PLOTLYENV=window.PLOTLYENV || {};window.PLOTLYENV.BASE_URL=\"https://plot.ly\";Plotly.newPlot(\"d70a6672-0a3d-46ed-a0c3-a0b47694044f\", [{\"colorscale\": \"Jet\", \"z\": [[0.0, 0.0, 0.0, 0.0, 0.0, 0.0, 0.0, 0.0, 0.0, 0.0], [0.0, 0.9984999999999999, 0.0015000000000000002, 0.0, 0.0, 0.0, 0.0, 0.0, 0.0, 0.0], [0.0, 0.027600000000000003, 0.877, 0.09509999999999999, 0.00030000000000000003, 0.0, 0.0, 0.0, 0.0, 0.0], [0.0, 0.0005, 0.24099999999999996, 0.5567, 0.18439999999999998, 0.016099999999999996, 0.0013000000000000002, 0.0, 0.0, 0.0], [0.0, 0.0, 0.027899999999999998, 0.28300000000000003, 0.4511, 0.1721, 0.060899999999999996, 0.0045, 0.0005, 0.0], [0.0, 0.0, 0.0011, 0.0593, 0.3047, 0.3086, 0.2565, 0.0521, 0.0159, 0.0018], [0.0, 0.0, 0.0001, 0.0085, 0.0966, 0.22969999999999996, 0.3895, 0.1546, 0.0904, 0.030600000000000006], [0.0, 0.0, 0.0, 0.0006000000000000001, 0.0207, 0.09559999999999999, 0.31259999999999993, 0.2252, 0.21309999999999998, 0.13220000000000004], [0.0, 0.0, 0.0, 0.0002, 0.0023, 0.0256, 0.1618, 0.20129999999999998, 0.28650000000000003, 0.3223], [0.0, 0.0, 0.0, 0.0, 0.0005, 0.0054, 0.0615, 0.12730000000000002, 0.2651, 0.5402]], \"type\": \"heatmap\"}], {\"xaxis\": {\"title\": \"Predicted Class\", \"dtick\": 1, \"range\": [0.5, 9.5], \"tickcolor\": \"#FFF\"}, \"plot_bgcolor\": \"#000\", \"titlefont\": {\"color\": \"#FFF\"}, \"paper_bgcolor\": \"#000\", \"height\": 500, \"yaxis\": {\"title\": \"True Class\", \"dtick\": 1, \"range\": [9.5, 0.5], \"tickcolor\": \"#FFF\"}, \"title\": \"Choice after 250000 Iterations at Glimpse 3\", \"font\": {\"color\": \"#FFF\"}, \"width\": 500}, {\"showLink\": true, \"linkText\": \"Export to plot.ly\"})});</script>"
      ],
      "text/vnd.plotly.v1+html": [
       "<div id=\"d70a6672-0a3d-46ed-a0c3-a0b47694044f\" style=\"height: 500px; width: 500px;\" class=\"plotly-graph-div\"></div><script type=\"text/javascript\">require([\"plotly\"], function(Plotly) { window.PLOTLYENV=window.PLOTLYENV || {};window.PLOTLYENV.BASE_URL=\"https://plot.ly\";Plotly.newPlot(\"d70a6672-0a3d-46ed-a0c3-a0b47694044f\", [{\"colorscale\": \"Jet\", \"z\": [[0.0, 0.0, 0.0, 0.0, 0.0, 0.0, 0.0, 0.0, 0.0, 0.0], [0.0, 0.9984999999999999, 0.0015000000000000002, 0.0, 0.0, 0.0, 0.0, 0.0, 0.0, 0.0], [0.0, 0.027600000000000003, 0.877, 0.09509999999999999, 0.00030000000000000003, 0.0, 0.0, 0.0, 0.0, 0.0], [0.0, 0.0005, 0.24099999999999996, 0.5567, 0.18439999999999998, 0.016099999999999996, 0.0013000000000000002, 0.0, 0.0, 0.0], [0.0, 0.0, 0.027899999999999998, 0.28300000000000003, 0.4511, 0.1721, 0.060899999999999996, 0.0045, 0.0005, 0.0], [0.0, 0.0, 0.0011, 0.0593, 0.3047, 0.3086, 0.2565, 0.0521, 0.0159, 0.0018], [0.0, 0.0, 0.0001, 0.0085, 0.0966, 0.22969999999999996, 0.3895, 0.1546, 0.0904, 0.030600000000000006], [0.0, 0.0, 0.0, 0.0006000000000000001, 0.0207, 0.09559999999999999, 0.31259999999999993, 0.2252, 0.21309999999999998, 0.13220000000000004], [0.0, 0.0, 0.0, 0.0002, 0.0023, 0.0256, 0.1618, 0.20129999999999998, 0.28650000000000003, 0.3223], [0.0, 0.0, 0.0, 0.0, 0.0005, 0.0054, 0.0615, 0.12730000000000002, 0.2651, 0.5402]], \"type\": \"heatmap\"}], {\"xaxis\": {\"title\": \"Predicted Class\", \"dtick\": 1, \"range\": [0.5, 9.5], \"tickcolor\": \"#FFF\"}, \"plot_bgcolor\": \"#000\", \"titlefont\": {\"color\": \"#FFF\"}, \"paper_bgcolor\": \"#000\", \"height\": 500, \"yaxis\": {\"title\": \"True Class\", \"dtick\": 1, \"range\": [9.5, 0.5], \"tickcolor\": \"#FFF\"}, \"title\": \"Choice after 250000 Iterations at Glimpse 3\", \"font\": {\"color\": \"#FFF\"}, \"width\": 500}, {\"showLink\": true, \"linkText\": \"Export to plot.ly\"})});</script>"
      ]
     },
     "metadata": {},
     "output_type": "display_data"
    },
    {
     "data": {
      "application/vnd.plotly.v1+json": {
       "data": [
        {
         "colorscale": "Jet",
         "type": "heatmap",
         "z": [
          [
           0,
           0,
           0,
           0,
           0,
           0,
           0,
           0,
           0,
           0
          ],
          [
           0,
           0.9821345804095267,
           0.017756028656508327,
           9.194669962840041e-05,
           1.1353474780925844e-05,
           2.2870456223218907e-06,
           1.0753084591846597e-07,
           2.0427153672161165e-06,
           1.7160708294874288e-07,
           1.4879601942409493e-06
          ],
          [
           0,
           0.02226464622257522,
           0.7898182805189842,
           0.1685808481122058,
           0.017946079153495692,
           0.0012947863545110297,
           8.915740941503775e-05,
           5.415369924260759e-06,
           5.298991920818713e-07,
           2.602993196542752e-07
          ],
          [
           0,
           0.00031582052448171,
           0.23467947084235585,
           0.4626610009072987,
           0.2281803261157697,
           0.06015320524007036,
           0.012015931466571317,
           0.0016761626879186653,
           0.00029072906607557593,
           2.7354486624270345e-05
          ],
          [
           0,
           2.0943590783575036e-08,
           0.03894735995972321,
           0.26144981447084104,
           0.35886092840373346,
           0.2173150782247047,
           0.09048771030541831,
           0.024404238490990698,
           0.007129780270467273,
           0.001405069262285495
          ],
          [
           0,
           6.177504931176644e-15,
           0.0047434434449251306,
           0.0869976500787874,
           0.25252012222337145,
           0.2929537464423163,
           0.21444202643066693,
           0.09413075357147735,
           0.041219954607755974,
           0.01299230266356292
          ],
          [
           0,
           4.846871727873306e-22,
           0.0004903103074928359,
           0.023187654110394498,
           0.1178607194171906,
           0.22889940109566015,
           0.27446352320825407,
           0.18387773443382785,
           0.11568848645220368,
           0.055532171288829424
          ],
          [
           0,
           9.879578927191392e-24,
           2.7284565035255497e-05,
           0.004962663993897019,
           0.043592610768808035,
           0.13238999733037543,
           0.24142231179081136,
           0.23361197904167647,
           0.20506653101681227,
           0.13892662219133703
          ],
          [
           0,
           5.146465021733056e-26,
           5.7204202099568595e-06,
           0.001061618746082174,
           0.013595745950644925,
           0.06115537579894028,
           0.1637953499860567,
           0.22771772275787078,
           0.27457961227799166,
           0.25808885510381213
          ],
          [
           0,
           1.8177232389016647e-27,
           2.1635050681746666e-07,
           0.00018706878921604872,
           0.003917125731974742,
           0.025464329257402912,
           0.09701546346694376,
           0.18806689124959525,
           0.3045046135865618,
           0.38084429230879757
          ]
         ]
        }
       ],
       "layout": {
        "font": {
         "color": "#FFF"
        },
        "height": 500,
        "paper_bgcolor": "#000",
        "plot_bgcolor": "#000",
        "title": "Confidence after 250000 Iterations at Glimpse 9",
        "titlefont": {
         "color": "#FFF"
        },
        "width": 500,
        "xaxis": {
         "dtick": 1,
         "range": [
          0.5,
          9.5
         ],
         "tickcolor": "#FFF",
         "title": "Predicted Class"
        },
        "yaxis": {
         "dtick": 1,
         "range": [
          9.5,
          0.5
         ],
         "tickcolor": "#FFF",
         "title": "True Class"
        }
       }
      },
      "text/html": [
       "<div id=\"a90ec019-acc6-4736-9fee-7f48b7d41c06\" style=\"height: 500px; width: 500px;\" class=\"plotly-graph-div\"></div><script type=\"text/javascript\">require([\"plotly\"], function(Plotly) { window.PLOTLYENV=window.PLOTLYENV || {};window.PLOTLYENV.BASE_URL=\"https://plot.ly\";Plotly.newPlot(\"a90ec019-acc6-4736-9fee-7f48b7d41c06\", [{\"colorscale\": \"Jet\", \"z\": [[0.0, 0.0, 0.0, 0.0, 0.0, 0.0, 0.0, 0.0, 0.0, 0.0], [0.0, 0.9821345804095267, 0.017756028656508327, 9.194669962840041e-05, 1.1353474780925844e-05, 2.2870456223218907e-06, 1.0753084591846597e-07, 2.0427153672161165e-06, 1.7160708294874288e-07, 1.4879601942409493e-06], [0.0, 0.02226464622257522, 0.7898182805189842, 0.1685808481122058, 0.017946079153495692, 0.0012947863545110297, 8.915740941503775e-05, 5.415369924260759e-06, 5.298991920818713e-07, 2.602993196542752e-07], [0.0, 0.00031582052448171, 0.23467947084235585, 0.4626610009072987, 0.2281803261157697, 0.06015320524007036, 0.012015931466571317, 0.0016761626879186653, 0.00029072906607557593, 2.7354486624270345e-05], [0.0, 2.0943590783575036e-08, 0.03894735995972321, 0.26144981447084104, 0.35886092840373346, 0.2173150782247047, 0.09048771030541831, 0.024404238490990698, 0.007129780270467273, 0.001405069262285495], [0.0, 6.177504931176644e-15, 0.0047434434449251306, 0.0869976500787874, 0.25252012222337145, 0.2929537464423163, 0.21444202643066693, 0.09413075357147735, 0.041219954607755974, 0.01299230266356292], [0.0, 4.846871727873306e-22, 0.0004903103074928359, 0.023187654110394498, 0.1178607194171906, 0.22889940109566015, 0.27446352320825407, 0.18387773443382785, 0.11568848645220368, 0.055532171288829424], [0.0, 9.879578927191392e-24, 2.7284565035255497e-05, 0.004962663993897019, 0.043592610768808035, 0.13238999733037543, 0.24142231179081136, 0.23361197904167647, 0.20506653101681227, 0.13892662219133703], [0.0, 5.146465021733056e-26, 5.7204202099568595e-06, 0.001061618746082174, 0.013595745950644925, 0.06115537579894028, 0.1637953499860567, 0.22771772275787078, 0.27457961227799166, 0.25808885510381213], [0.0, 1.8177232389016647e-27, 2.1635050681746666e-07, 0.00018706878921604872, 0.003917125731974742, 0.025464329257402912, 0.09701546346694376, 0.18806689124959525, 0.3045046135865618, 0.38084429230879757]], \"type\": \"heatmap\"}], {\"xaxis\": {\"title\": \"Predicted Class\", \"dtick\": 1, \"range\": [0.5, 9.5], \"tickcolor\": \"#FFF\"}, \"plot_bgcolor\": \"#000\", \"titlefont\": {\"color\": \"#FFF\"}, \"paper_bgcolor\": \"#000\", \"height\": 500, \"yaxis\": {\"title\": \"True Class\", \"dtick\": 1, \"range\": [9.5, 0.5], \"tickcolor\": \"#FFF\"}, \"title\": \"Confidence after 250000 Iterations at Glimpse 9\", \"font\": {\"color\": \"#FFF\"}, \"width\": 500}, {\"showLink\": true, \"linkText\": \"Export to plot.ly\"})});</script>"
      ],
      "text/vnd.plotly.v1+html": [
       "<div id=\"a90ec019-acc6-4736-9fee-7f48b7d41c06\" style=\"height: 500px; width: 500px;\" class=\"plotly-graph-div\"></div><script type=\"text/javascript\">require([\"plotly\"], function(Plotly) { window.PLOTLYENV=window.PLOTLYENV || {};window.PLOTLYENV.BASE_URL=\"https://plot.ly\";Plotly.newPlot(\"a90ec019-acc6-4736-9fee-7f48b7d41c06\", [{\"colorscale\": \"Jet\", \"z\": [[0.0, 0.0, 0.0, 0.0, 0.0, 0.0, 0.0, 0.0, 0.0, 0.0], [0.0, 0.9821345804095267, 0.017756028656508327, 9.194669962840041e-05, 1.1353474780925844e-05, 2.2870456223218907e-06, 1.0753084591846597e-07, 2.0427153672161165e-06, 1.7160708294874288e-07, 1.4879601942409493e-06], [0.0, 0.02226464622257522, 0.7898182805189842, 0.1685808481122058, 0.017946079153495692, 0.0012947863545110297, 8.915740941503775e-05, 5.415369924260759e-06, 5.298991920818713e-07, 2.602993196542752e-07], [0.0, 0.00031582052448171, 0.23467947084235585, 0.4626610009072987, 0.2281803261157697, 0.06015320524007036, 0.012015931466571317, 0.0016761626879186653, 0.00029072906607557593, 2.7354486624270345e-05], [0.0, 2.0943590783575036e-08, 0.03894735995972321, 0.26144981447084104, 0.35886092840373346, 0.2173150782247047, 0.09048771030541831, 0.024404238490990698, 0.007129780270467273, 0.001405069262285495], [0.0, 6.177504931176644e-15, 0.0047434434449251306, 0.0869976500787874, 0.25252012222337145, 0.2929537464423163, 0.21444202643066693, 0.09413075357147735, 0.041219954607755974, 0.01299230266356292], [0.0, 4.846871727873306e-22, 0.0004903103074928359, 0.023187654110394498, 0.1178607194171906, 0.22889940109566015, 0.27446352320825407, 0.18387773443382785, 0.11568848645220368, 0.055532171288829424], [0.0, 9.879578927191392e-24, 2.7284565035255497e-05, 0.004962663993897019, 0.043592610768808035, 0.13238999733037543, 0.24142231179081136, 0.23361197904167647, 0.20506653101681227, 0.13892662219133703], [0.0, 5.146465021733056e-26, 5.7204202099568595e-06, 0.001061618746082174, 0.013595745950644925, 0.06115537579894028, 0.1637953499860567, 0.22771772275787078, 0.27457961227799166, 0.25808885510381213], [0.0, 1.8177232389016647e-27, 2.1635050681746666e-07, 0.00018706878921604872, 0.003917125731974742, 0.025464329257402912, 0.09701546346694376, 0.18806689124959525, 0.3045046135865618, 0.38084429230879757]], \"type\": \"heatmap\"}], {\"xaxis\": {\"title\": \"Predicted Class\", \"dtick\": 1, \"range\": [0.5, 9.5], \"tickcolor\": \"#FFF\"}, \"plot_bgcolor\": \"#000\", \"titlefont\": {\"color\": \"#FFF\"}, \"paper_bgcolor\": \"#000\", \"height\": 500, \"yaxis\": {\"title\": \"True Class\", \"dtick\": 1, \"range\": [9.5, 0.5], \"tickcolor\": \"#FFF\"}, \"title\": \"Confidence after 250000 Iterations at Glimpse 9\", \"font\": {\"color\": \"#FFF\"}, \"width\": 500}, {\"showLink\": true, \"linkText\": \"Export to plot.ly\"})});</script>"
      ]
     },
     "metadata": {},
     "output_type": "display_data"
    },
    {
     "data": {
      "application/vnd.plotly.v1+json": {
       "data": [
        {
         "colorscale": "Jet",
         "type": "heatmap",
         "z": [
          [
           0,
           0,
           0,
           0,
           0,
           0,
           0,
           0,
           0,
           0
          ],
          [
           0,
           0.9959999999999999,
           0.004000000000000001,
           0,
           0,
           0,
           0,
           0,
           0,
           0
          ],
          [
           0,
           0.021700000000000004,
           0.8816999999999998,
           0.09639999999999999,
           0.0002,
           0,
           0,
           0,
           0,
           0
          ],
          [
           0,
           0.00030000000000000003,
           0.2351,
           0.5502,
           0.19619999999999999,
           0.0174,
           0.0008,
           0,
           0,
           0
          ],
          [
           0,
           0,
           0.027899999999999998,
           0.2606,
           0.45759999999999995,
           0.1945,
           0.0551,
           0.004200000000000001,
           0,
           0.0001
          ],
          [
           0,
           0,
           0.0021000000000000003,
           0.05489999999999999,
           0.28759999999999997,
           0.3459,
           0.2452,
           0.0491,
           0.0137,
           0.0015000000000000002
          ],
          [
           0,
           0,
           0.0001,
           0.008400000000000001,
           0.0935,
           0.2439,
           0.38180000000000003,
           0.161,
           0.0848,
           0.026500000000000003
          ],
          [
           0,
           0,
           0,
           0.0004,
           0.02,
           0.10069999999999998,
           0.3175,
           0.23879999999999998,
           0.1995,
           0.12310000000000001
          ],
          [
           0,
           0,
           0,
           0.0002,
           0.0021000000000000003,
           0.0262,
           0.1671,
           0.21259999999999998,
           0.2783,
           0.31350000000000006
          ],
          [
           0,
           0,
           0,
           0,
           0.0001,
           0.0062,
           0.0674,
           0.1339,
           0.2651,
           0.5273
          ]
         ]
        }
       ],
       "layout": {
        "font": {
         "color": "#FFF"
        },
        "height": 500,
        "paper_bgcolor": "#000",
        "plot_bgcolor": "#000",
        "title": "Choice after 250000 Iterations at Glimpse 9",
        "titlefont": {
         "color": "#FFF"
        },
        "width": 500,
        "xaxis": {
         "dtick": 1,
         "range": [
          0.5,
          9.5
         ],
         "tickcolor": "#FFF",
         "title": "Predicted Class"
        },
        "yaxis": {
         "dtick": 1,
         "range": [
          9.5,
          0.5
         ],
         "tickcolor": "#FFF",
         "title": "True Class"
        }
       }
      },
      "text/html": [
       "<div id=\"66504474-289d-4bbb-819b-cf70ada0f421\" style=\"height: 500px; width: 500px;\" class=\"plotly-graph-div\"></div><script type=\"text/javascript\">require([\"plotly\"], function(Plotly) { window.PLOTLYENV=window.PLOTLYENV || {};window.PLOTLYENV.BASE_URL=\"https://plot.ly\";Plotly.newPlot(\"66504474-289d-4bbb-819b-cf70ada0f421\", [{\"colorscale\": \"Jet\", \"z\": [[0.0, 0.0, 0.0, 0.0, 0.0, 0.0, 0.0, 0.0, 0.0, 0.0], [0.0, 0.9959999999999999, 0.004000000000000001, 0.0, 0.0, 0.0, 0.0, 0.0, 0.0, 0.0], [0.0, 0.021700000000000004, 0.8816999999999998, 0.09639999999999999, 0.0002, 0.0, 0.0, 0.0, 0.0, 0.0], [0.0, 0.00030000000000000003, 0.2351, 0.5502, 0.19619999999999999, 0.0174, 0.0008, 0.0, 0.0, 0.0], [0.0, 0.0, 0.027899999999999998, 0.2606, 0.45759999999999995, 0.1945, 0.0551, 0.004200000000000001, 0.0, 0.0001], [0.0, 0.0, 0.0021000000000000003, 0.05489999999999999, 0.28759999999999997, 0.3459, 0.2452, 0.0491, 0.0137, 0.0015000000000000002], [0.0, 0.0, 0.0001, 0.008400000000000001, 0.0935, 0.2439, 0.38180000000000003, 0.161, 0.0848, 0.026500000000000003], [0.0, 0.0, 0.0, 0.0004, 0.02, 0.10069999999999998, 0.3175, 0.23879999999999998, 0.1995, 0.12310000000000001], [0.0, 0.0, 0.0, 0.0002, 0.0021000000000000003, 0.0262, 0.1671, 0.21259999999999998, 0.2783, 0.31350000000000006], [0.0, 0.0, 0.0, 0.0, 0.0001, 0.0062, 0.0674, 0.1339, 0.2651, 0.5273]], \"type\": \"heatmap\"}], {\"xaxis\": {\"title\": \"Predicted Class\", \"dtick\": 1, \"range\": [0.5, 9.5], \"tickcolor\": \"#FFF\"}, \"plot_bgcolor\": \"#000\", \"titlefont\": {\"color\": \"#FFF\"}, \"paper_bgcolor\": \"#000\", \"height\": 500, \"yaxis\": {\"title\": \"True Class\", \"dtick\": 1, \"range\": [9.5, 0.5], \"tickcolor\": \"#FFF\"}, \"title\": \"Choice after 250000 Iterations at Glimpse 9\", \"font\": {\"color\": \"#FFF\"}, \"width\": 500}, {\"showLink\": true, \"linkText\": \"Export to plot.ly\"})});</script>"
      ],
      "text/vnd.plotly.v1+html": [
       "<div id=\"66504474-289d-4bbb-819b-cf70ada0f421\" style=\"height: 500px; width: 500px;\" class=\"plotly-graph-div\"></div><script type=\"text/javascript\">require([\"plotly\"], function(Plotly) { window.PLOTLYENV=window.PLOTLYENV || {};window.PLOTLYENV.BASE_URL=\"https://plot.ly\";Plotly.newPlot(\"66504474-289d-4bbb-819b-cf70ada0f421\", [{\"colorscale\": \"Jet\", \"z\": [[0.0, 0.0, 0.0, 0.0, 0.0, 0.0, 0.0, 0.0, 0.0, 0.0], [0.0, 0.9959999999999999, 0.004000000000000001, 0.0, 0.0, 0.0, 0.0, 0.0, 0.0, 0.0], [0.0, 0.021700000000000004, 0.8816999999999998, 0.09639999999999999, 0.0002, 0.0, 0.0, 0.0, 0.0, 0.0], [0.0, 0.00030000000000000003, 0.2351, 0.5502, 0.19619999999999999, 0.0174, 0.0008, 0.0, 0.0, 0.0], [0.0, 0.0, 0.027899999999999998, 0.2606, 0.45759999999999995, 0.1945, 0.0551, 0.004200000000000001, 0.0, 0.0001], [0.0, 0.0, 0.0021000000000000003, 0.05489999999999999, 0.28759999999999997, 0.3459, 0.2452, 0.0491, 0.0137, 0.0015000000000000002], [0.0, 0.0, 0.0001, 0.008400000000000001, 0.0935, 0.2439, 0.38180000000000003, 0.161, 0.0848, 0.026500000000000003], [0.0, 0.0, 0.0, 0.0004, 0.02, 0.10069999999999998, 0.3175, 0.23879999999999998, 0.1995, 0.12310000000000001], [0.0, 0.0, 0.0, 0.0002, 0.0021000000000000003, 0.0262, 0.1671, 0.21259999999999998, 0.2783, 0.31350000000000006], [0.0, 0.0, 0.0, 0.0, 0.0001, 0.0062, 0.0674, 0.1339, 0.2651, 0.5273]], \"type\": \"heatmap\"}], {\"xaxis\": {\"title\": \"Predicted Class\", \"dtick\": 1, \"range\": [0.5, 9.5], \"tickcolor\": \"#FFF\"}, \"plot_bgcolor\": \"#000\", \"titlefont\": {\"color\": \"#FFF\"}, \"paper_bgcolor\": \"#000\", \"height\": 500, \"yaxis\": {\"title\": \"True Class\", \"dtick\": 1, \"range\": [9.5, 0.5], \"tickcolor\": \"#FFF\"}, \"title\": \"Choice after 250000 Iterations at Glimpse 9\", \"font\": {\"color\": \"#FFF\"}, \"width\": 500}, {\"showLink\": true, \"linkText\": \"Export to plot.ly\"})});</script>"
      ]
     },
     "metadata": {},
     "output_type": "display_data"
    }
   ],
   "source": [
    "for i, it in enumerate(iter_list):\n",
    "    for g, glimpse in enumerate(glimpse_list):\n",
    "        plot_confidence(i, it, g, glimpse)\n",
    "        plot_choice(i, it, g, glimpse)"
   ]
  },
  {
   "cell_type": "code",
   "execution_count": 9,
   "metadata": {
    "collapsed": true
   },
   "outputs": [],
   "source": [
    "np.save(\"data/confidence_hist\", confidence_all_runs)\n",
    "np.save(\"data/choice_hist\", choice_all_runs)"
   ]
  },
  {
   "cell_type": "markdown",
   "metadata": {},
   "source": [
    "## Work with Saved Histogram Data"
   ]
  },
  {
   "cell_type": "code",
   "execution_count": 10,
   "metadata": {
    "collapsed": true
   },
   "outputs": [],
   "source": [
    "confidence_hist = np.load('data/confidence_hist.npy')\n",
    "choice_hist = np.load('data/choice_hist.npy')"
   ]
  },
  {
   "cell_type": "code",
   "execution_count": 11,
   "metadata": {
    "collapsed": true
   },
   "outputs": [],
   "source": [
    "def get_msdcv(hist_matrix):\n",
    "    \"\"\"Get the mean, standard deviation, and coefficient of variation matrices from histogram matrix.\"\"\"\n",
    "    \n",
    "    msdcv = np.zeros([num_runs, num_iters, num_glimpses, z_size, 3])\n",
    "    \n",
    "    for run in range(num_runs):\n",
    "        for i, it in enumerate(iter_list):\n",
    "            for g, glimpse in enumerate(glimpse_list):\n",
    "                for t in range(z_size):\n",
    "                    values_sum = 0\n",
    "                    sqr_sum = 0\n",
    "\n",
    "                    # Find the mean\n",
    "                    for p in range(z_size):\n",
    "                        values_sum += (p + 1) * hist_matrix[run, i, g, t, p]\n",
    "                    msdcv[run, i, g, t, 0] = mu = values_sum\n",
    "\n",
    "                    # Find the standard deviation\n",
    "                    for p in range(z_size):\n",
    "                        sqr_sum += (p + 1 - mu)**2 * hist_matrix[run, i, g, t, p]\n",
    "                    msdcv[run, i, g, t, 1] = sigma = np.sqrt(sqr_sum)\n",
    "\n",
    "                    # Find the coefficient of variation\n",
    "                    msdcv[run, i, g, t, 2] = cv = sigma / mu\n",
    "    return msdcv"
   ]
  },
  {
   "cell_type": "code",
   "execution_count": 12,
   "metadata": {
    "collapsed": true
   },
   "outputs": [],
   "source": [
    "confidence_msdcv = get_msdcv(confidence_hist)\n",
    "choice_msdcv = get_msdcv(choice_hist)"
   ]
  },
  {
   "cell_type": "code",
   "execution_count": 13,
   "metadata": {
    "collapsed": true
   },
   "outputs": [],
   "source": [
    "np.save(\"data/confidence_msdcv\", confidence_msdcv)\n",
    "np.save(\"data/choice_msdcv\", choice_msdcv)"
   ]
  },
  {
   "cell_type": "markdown",
   "metadata": {},
   "source": [
    "## Visualize Mean, Standard Deviation, and Coefficient of Variation"
   ]
  },
  {
   "cell_type": "code",
   "execution_count": 14,
   "metadata": {
    "collapsed": true
   },
   "outputs": [],
   "source": [
    "confidence_msdcv = np.load('data/confidence_msdcv.npy')\n",
    "choice_msdcv = np.load('data/choice_msdcv.npy')"
   ]
  },
  {
   "cell_type": "code",
   "execution_count": 15,
   "metadata": {
    "collapsed": true
   },
   "outputs": [],
   "source": [
    "confidence_msdcv_avg = np.mean(confidence_msdcv, axis=0)\n",
    "choice_msdcv_avg = np.mean(choice_msdcv, axis=0)\n",
    "\n",
    "def plot_confidence_msdcv(iter_idx, it, g, glimpse, run=None):\n",
    "    \"\"\"Plot the confidence linegraphs.\"\"\"\n",
    "    \n",
    "    if run is None:\n",
    "        matrix = confidence_msdcv_avg[iter_idx, g]\n",
    "        plot_title = \"Confidence after %d Iterations at Glimpse %d\" % (it, glimpse)\n",
    "\n",
    "    else:\n",
    "        matrix = confidence_msdcv[run, iter_idx, g]\n",
    "        plot_title = \"Confidence at Run %d after %d Iterations at Glimpse %d\" % (run + 1, it, glimpse)\n",
    "    plot_linegraphs(matrix, plot_title)\n",
    "\n",
    "\n",
    "def plot_choice_msdcv(iter_idx, it, g, glimpse, run=None):\n",
    "    \"\"\"Plot the choice linegraphs.\"\"\"\n",
    "    \n",
    "    if run is None:\n",
    "        matrix = choice_msdcv_avg[iter_idx, g]\n",
    "        plot_title = \"Choice after %d Iterations at Glimpse %d\" % (it, glimpse)\n",
    "    else:\n",
    "        matrix = choice_msdcv[run, iter_idx, g]\n",
    "        plot_title = \"Choice at Run %d after %d Iterations at Glimpse %d\" % (run + 1, it, glimpse)\n",
    "    plot_linegraphs(matrix, plot_title)\n",
    "    \n",
    "    \n",
    "def plot_linegraphs(matrix, plot_title):\n",
    "    \"\"\"Plot mean, stdev, and cv linegraphs.\"\"\"\n",
    "    \n",
    "    plot_msd(matrix, plot_title)\n",
    "    plot_cv(matrix, plot_title)"
   ]
  },
  {
   "cell_type": "code",
   "execution_count": 16,
   "metadata": {
    "collapsed": true
   },
   "outputs": [],
   "source": [
    "def plot_msd(matrix, plot_title):\n",
    "    \"\"\"Plot the mean and standard deviation in the same graph.\"\"\"\n",
    "    \n",
    "    x_values = np.array(range(min_blobs, max_blobs + 1))\n",
    "    y_mu = matrix[:, 0]\n",
    "    y_sigma = matrix[:, 1]\n",
    "    \n",
    "    # Create traces\n",
    "    mu_trace = go.Scatter(\n",
    "        x = x_values,\n",
    "        y = y_mu,\n",
    "        name='Mean',\n",
    "    )\n",
    "    sigma_trace = go.Scatter(\n",
    "        x = x_values,\n",
    "        y = y_sigma,\n",
    "        name='Standard Deviation',\n",
    "        yaxis='y2'\n",
    "    )\n",
    "\n",
    "    data = [mu_trace, sigma_trace]\n",
    "    \n",
    "    layout = go.Layout(\n",
    "        title=plot_title,\n",
    "        yaxis=dict(\n",
    "            range=[min_blobs - m, max_blobs + m],\n",
    "            title=\"Mean\",\n",
    "            dtick=1,\n",
    "            tickcolor='#FFF',\n",
    "        ),\n",
    "        yaxis2=dict(\n",
    "            range=[0, 3],\n",
    "            title='Standard Deviation',\n",
    "            tickcolor='#FFF',\n",
    "            overlaying='y',\n",
    "            side='right',\n",
    "            gridcolor='#999',\n",
    "        ),\n",
    "        xaxis=dict(\n",
    "            range=[min_blobs - m, max_blobs + m],\n",
    "            title=\"True Class\",\n",
    "            dtick=1,\n",
    "            tickcolor='#FFF'\n",
    "        ),\n",
    "        width=500,\n",
    "        height=500,\n",
    "        plot_bgcolor=\"#000\",\n",
    "        paper_bgcolor=\"#000\",\n",
    "        font=dict(\n",
    "            color=\"#FFF\"\n",
    "        ),\n",
    "        titlefont=dict(\n",
    "            color=\"#FFF\"\n",
    "        ),\n",
    "        legend=dict(x=0, y=1),\n",
    "    )\n",
    "    fig = go.Figure(data=data, layout=layout)\n",
    "    iplot(fig)"
   ]
  },
  {
   "cell_type": "code",
   "execution_count": 17,
   "metadata": {
    "collapsed": true
   },
   "outputs": [],
   "source": [
    "def plot_cv(matrix, plot_title):\n",
    "    \"\"\"Plot the coefficient of variation.\"\"\"\n",
    "        \n",
    "    x_values = np.array(range(min_blobs, max_blobs + 1))\n",
    "    y_cv = matrix[:, 2]\n",
    "\n",
    "    cv_trace = go.Scatter(\n",
    "        x = x_values,\n",
    "        y = y_cv,\n",
    "        name='Coefficient of Variation'\n",
    "    )\n",
    "    data = [cv_trace]\n",
    "    \n",
    "    layout = go.Layout(\n",
    "        title=plot_title,\n",
    "        yaxis=dict(\n",
    "            title=\"Coefficient of Variation\",\n",
    "            tickcolor='#FFF',\n",
    "            showgrid=True\n",
    "        ),\n",
    "        xaxis=dict(\n",
    "            range=[min_blobs - m, max_blobs + m],\n",
    "            title=\"True Class\",\n",
    "            dtick=1,\n",
    "            tickcolor='#FFF'\n",
    "        ),\n",
    "        width=500,\n",
    "        height=300,\n",
    "        plot_bgcolor=\"#000\",\n",
    "        paper_bgcolor=\"#000\",\n",
    "        font=dict(\n",
    "            color=\"#FFF\"\n",
    "        ),\n",
    "        titlefont=dict(\n",
    "            color=\"#FFF\"\n",
    "        ),\n",
    "    )\n",
    "    fig = go.Figure(data=data, layout=layout)\n",
    "    iplot(fig)"
   ]
  },
  {
   "cell_type": "code",
   "execution_count": 18,
   "metadata": {
    "scrolled": false
   },
   "outputs": [
    {
     "data": {
      "application/vnd.plotly.v1+json": {
       "data": [
        {
         "name": "Mean",
         "type": "scatter",
         "x": [
          1,
          2,
          3,
          4,
          5,
          6,
          7,
          8,
          9
         ],
         "y": [
          5.38180068551709,
          5.535197020837176,
          5.571687637740505,
          5.643185868713732,
          5.58257742105763,
          5.622954827817411,
          5.608939354799365,
          5.621569736183462,
          5.606961513693364
         ]
        },
        {
         "name": "Standard Deviation",
         "type": "scatter",
         "x": [
          1,
          2,
          3,
          4,
          5,
          6,
          7,
          8,
          9
         ],
         "y": [
          2.461213041912159,
          2.357101686462754,
          2.307532206993153,
          2.2803171603808856,
          2.2754337286584345,
          2.280100174860147,
          2.2784312459722242,
          2.2816259663117546,
          2.272829307567394
         ],
         "yaxis": "y2"
        }
       ],
       "layout": {
        "font": {
         "color": "#FFF"
        },
        "height": 500,
        "legend": {
         "x": 0,
         "y": 1
        },
        "paper_bgcolor": "#000",
        "plot_bgcolor": "#000",
        "title": "Confidence after 0 Iterations at Glimpse 0",
        "titlefont": {
         "color": "#FFF"
        },
        "width": 500,
        "xaxis": {
         "dtick": 1,
         "range": [
          0.5,
          9.5
         ],
         "tickcolor": "#FFF",
         "title": "True Class"
        },
        "yaxis": {
         "dtick": 1,
         "range": [
          0.5,
          9.5
         ],
         "tickcolor": "#FFF",
         "title": "Mean"
        },
        "yaxis2": {
         "gridcolor": "#999",
         "overlaying": "y",
         "range": [
          0,
          3
         ],
         "side": "right",
         "tickcolor": "#FFF",
         "title": "Standard Deviation"
        }
       }
      },
      "text/html": [
       "<div id=\"9072cc07-e021-4ca4-b974-d7553c919b27\" style=\"height: 500px; width: 500px;\" class=\"plotly-graph-div\"></div><script type=\"text/javascript\">require([\"plotly\"], function(Plotly) { window.PLOTLYENV=window.PLOTLYENV || {};window.PLOTLYENV.BASE_URL=\"https://plot.ly\";Plotly.newPlot(\"9072cc07-e021-4ca4-b974-d7553c919b27\", [{\"x\": [1, 2, 3, 4, 5, 6, 7, 8, 9], \"type\": \"scatter\", \"name\": \"Mean\", \"y\": [5.38180068551709, 5.535197020837176, 5.571687637740505, 5.643185868713732, 5.58257742105763, 5.622954827817411, 5.608939354799365, 5.621569736183462, 5.606961513693364]}, {\"x\": [1, 2, 3, 4, 5, 6, 7, 8, 9], \"type\": \"scatter\", \"yaxis\": \"y2\", \"name\": \"Standard Deviation\", \"y\": [2.461213041912159, 2.357101686462754, 2.307532206993153, 2.2803171603808856, 2.2754337286584345, 2.280100174860147, 2.2784312459722242, 2.2816259663117546, 2.272829307567394]}], {\"xaxis\": {\"title\": \"True Class\", \"dtick\": 1, \"range\": [0.5, 9.5], \"tickcolor\": \"#FFF\"}, \"plot_bgcolor\": \"#000\", \"yaxis2\": {\"overlaying\": \"y\", \"range\": [0, 3], \"gridcolor\": \"#999\", \"title\": \"Standard Deviation\", \"side\": \"right\", \"tickcolor\": \"#FFF\"}, \"yaxis\": {\"title\": \"Mean\", \"dtick\": 1, \"range\": [0.5, 9.5], \"tickcolor\": \"#FFF\"}, \"paper_bgcolor\": \"#000\", \"height\": 500, \"titlefont\": {\"color\": \"#FFF\"}, \"title\": \"Confidence after 0 Iterations at Glimpse 0\", \"font\": {\"color\": \"#FFF\"}, \"width\": 500, \"legend\": {\"x\": 0, \"y\": 1}}, {\"showLink\": true, \"linkText\": \"Export to plot.ly\"})});</script>"
      ],
      "text/vnd.plotly.v1+html": [
       "<div id=\"9072cc07-e021-4ca4-b974-d7553c919b27\" style=\"height: 500px; width: 500px;\" class=\"plotly-graph-div\"></div><script type=\"text/javascript\">require([\"plotly\"], function(Plotly) { window.PLOTLYENV=window.PLOTLYENV || {};window.PLOTLYENV.BASE_URL=\"https://plot.ly\";Plotly.newPlot(\"9072cc07-e021-4ca4-b974-d7553c919b27\", [{\"x\": [1, 2, 3, 4, 5, 6, 7, 8, 9], \"type\": \"scatter\", \"name\": \"Mean\", \"y\": [5.38180068551709, 5.535197020837176, 5.571687637740505, 5.643185868713732, 5.58257742105763, 5.622954827817411, 5.608939354799365, 5.621569736183462, 5.606961513693364]}, {\"x\": [1, 2, 3, 4, 5, 6, 7, 8, 9], \"type\": \"scatter\", \"yaxis\": \"y2\", \"name\": \"Standard Deviation\", \"y\": [2.461213041912159, 2.357101686462754, 2.307532206993153, 2.2803171603808856, 2.2754337286584345, 2.280100174860147, 2.2784312459722242, 2.2816259663117546, 2.272829307567394]}], {\"xaxis\": {\"title\": \"True Class\", \"dtick\": 1, \"range\": [0.5, 9.5], \"tickcolor\": \"#FFF\"}, \"plot_bgcolor\": \"#000\", \"yaxis2\": {\"overlaying\": \"y\", \"range\": [0, 3], \"gridcolor\": \"#999\", \"title\": \"Standard Deviation\", \"side\": \"right\", \"tickcolor\": \"#FFF\"}, \"yaxis\": {\"title\": \"Mean\", \"dtick\": 1, \"range\": [0.5, 9.5], \"tickcolor\": \"#FFF\"}, \"paper_bgcolor\": \"#000\", \"height\": 500, \"titlefont\": {\"color\": \"#FFF\"}, \"title\": \"Confidence after 0 Iterations at Glimpse 0\", \"font\": {\"color\": \"#FFF\"}, \"width\": 500, \"legend\": {\"x\": 0, \"y\": 1}}, {\"showLink\": true, \"linkText\": \"Export to plot.ly\"})});</script>"
      ]
     },
     "metadata": {},
     "output_type": "display_data"
    },
    {
     "data": {
      "application/vnd.plotly.v1+json": {
       "data": [
        {
         "name": "Coefficient of Variation",
         "type": "scatter",
         "x": [
          1,
          2,
          3,
          4,
          5,
          6,
          7,
          8,
          9
         ],
         "y": [
          0.46258187058836125,
          0.4342753153930001,
          0.42562263843843073,
          0.41485306169171193,
          0.42044716141129823,
          0.4145568040145082,
          0.4191616080203849,
          0.41730183922073183,
          0.41784760981042435
         ]
        }
       ],
       "layout": {
        "font": {
         "color": "#FFF"
        },
        "height": 300,
        "paper_bgcolor": "#000",
        "plot_bgcolor": "#000",
        "title": "Confidence after 0 Iterations at Glimpse 0",
        "titlefont": {
         "color": "#FFF"
        },
        "width": 500,
        "xaxis": {
         "dtick": 1,
         "range": [
          0.5,
          9.5
         ],
         "tickcolor": "#FFF",
         "title": "True Class"
        },
        "yaxis": {
         "showgrid": true,
         "tickcolor": "#FFF",
         "title": "Coefficient of Variation"
        }
       }
      },
      "text/html": [
       "<div id=\"771034cf-18a7-4640-817f-27b7513a679b\" style=\"height: 300px; width: 500px;\" class=\"plotly-graph-div\"></div><script type=\"text/javascript\">require([\"plotly\"], function(Plotly) { window.PLOTLYENV=window.PLOTLYENV || {};window.PLOTLYENV.BASE_URL=\"https://plot.ly\";Plotly.newPlot(\"771034cf-18a7-4640-817f-27b7513a679b\", [{\"x\": [1, 2, 3, 4, 5, 6, 7, 8, 9], \"type\": \"scatter\", \"name\": \"Coefficient of Variation\", \"y\": [0.46258187058836125, 0.4342753153930001, 0.42562263843843073, 0.41485306169171193, 0.42044716141129823, 0.4145568040145082, 0.4191616080203849, 0.41730183922073183, 0.41784760981042435]}], {\"xaxis\": {\"title\": \"True Class\", \"dtick\": 1, \"range\": [0.5, 9.5], \"tickcolor\": \"#FFF\"}, \"plot_bgcolor\": \"#000\", \"titlefont\": {\"color\": \"#FFF\"}, \"paper_bgcolor\": \"#000\", \"height\": 300, \"yaxis\": {\"title\": \"Coefficient of Variation\", \"tickcolor\": \"#FFF\", \"showgrid\": true}, \"title\": \"Confidence after 0 Iterations at Glimpse 0\", \"font\": {\"color\": \"#FFF\"}, \"width\": 500}, {\"showLink\": true, \"linkText\": \"Export to plot.ly\"})});</script>"
      ],
      "text/vnd.plotly.v1+html": [
       "<div id=\"771034cf-18a7-4640-817f-27b7513a679b\" style=\"height: 300px; width: 500px;\" class=\"plotly-graph-div\"></div><script type=\"text/javascript\">require([\"plotly\"], function(Plotly) { window.PLOTLYENV=window.PLOTLYENV || {};window.PLOTLYENV.BASE_URL=\"https://plot.ly\";Plotly.newPlot(\"771034cf-18a7-4640-817f-27b7513a679b\", [{\"x\": [1, 2, 3, 4, 5, 6, 7, 8, 9], \"type\": \"scatter\", \"name\": \"Coefficient of Variation\", \"y\": [0.46258187058836125, 0.4342753153930001, 0.42562263843843073, 0.41485306169171193, 0.42044716141129823, 0.4145568040145082, 0.4191616080203849, 0.41730183922073183, 0.41784760981042435]}], {\"xaxis\": {\"title\": \"True Class\", \"dtick\": 1, \"range\": [0.5, 9.5], \"tickcolor\": \"#FFF\"}, \"plot_bgcolor\": \"#000\", \"titlefont\": {\"color\": \"#FFF\"}, \"paper_bgcolor\": \"#000\", \"height\": 300, \"yaxis\": {\"title\": \"Coefficient of Variation\", \"tickcolor\": \"#FFF\", \"showgrid\": true}, \"title\": \"Confidence after 0 Iterations at Glimpse 0\", \"font\": {\"color\": \"#FFF\"}, \"width\": 500}, {\"showLink\": true, \"linkText\": \"Export to plot.ly\"})});</script>"
      ]
     },
     "metadata": {},
     "output_type": "display_data"
    },
    {
     "data": {
      "application/vnd.plotly.v1+json": {
       "data": [
        {
         "name": "Mean",
         "type": "scatter",
         "x": [
          1,
          2,
          3,
          4,
          5,
          6,
          7,
          8,
          9
         ],
         "y": [
          5.5735,
          5.6221000000000005,
          5.5948,
          5.6681,
          5.585400000000001,
          5.6258,
          5.607900000000001,
          5.6258,
          5.615100000000001
         ]
        },
        {
         "name": "Standard Deviation",
         "type": "scatter",
         "x": [
          1,
          2,
          3,
          4,
          5,
          6,
          7,
          8,
          9
         ],
         "y": [
          2.2898641664671135,
          2.2844211509577295,
          2.280318219756028,
          2.262116671301451,
          2.2681449400922817,
          2.273337148002181,
          2.2758558285753234,
          2.2794116362561376,
          2.265720369453092
         ],
         "yaxis": "y2"
        }
       ],
       "layout": {
        "font": {
         "color": "#FFF"
        },
        "height": 500,
        "legend": {
         "x": 0,
         "y": 1
        },
        "paper_bgcolor": "#000",
        "plot_bgcolor": "#000",
        "title": "Choice after 0 Iterations at Glimpse 0",
        "titlefont": {
         "color": "#FFF"
        },
        "width": 500,
        "xaxis": {
         "dtick": 1,
         "range": [
          0.5,
          9.5
         ],
         "tickcolor": "#FFF",
         "title": "True Class"
        },
        "yaxis": {
         "dtick": 1,
         "range": [
          0.5,
          9.5
         ],
         "tickcolor": "#FFF",
         "title": "Mean"
        },
        "yaxis2": {
         "gridcolor": "#999",
         "overlaying": "y",
         "range": [
          0,
          3
         ],
         "side": "right",
         "tickcolor": "#FFF",
         "title": "Standard Deviation"
        }
       }
      },
      "text/html": [
       "<div id=\"735a2d27-5ca6-444c-8fa6-57925835193c\" style=\"height: 500px; width: 500px;\" class=\"plotly-graph-div\"></div><script type=\"text/javascript\">require([\"plotly\"], function(Plotly) { window.PLOTLYENV=window.PLOTLYENV || {};window.PLOTLYENV.BASE_URL=\"https://plot.ly\";Plotly.newPlot(\"735a2d27-5ca6-444c-8fa6-57925835193c\", [{\"x\": [1, 2, 3, 4, 5, 6, 7, 8, 9], \"type\": \"scatter\", \"name\": \"Mean\", \"y\": [5.5735, 5.6221000000000005, 5.5948, 5.6681, 5.585400000000001, 5.6258, 5.607900000000001, 5.6258, 5.615100000000001]}, {\"x\": [1, 2, 3, 4, 5, 6, 7, 8, 9], \"type\": \"scatter\", \"yaxis\": \"y2\", \"name\": \"Standard Deviation\", \"y\": [2.2898641664671135, 2.2844211509577295, 2.280318219756028, 2.262116671301451, 2.2681449400922817, 2.273337148002181, 2.2758558285753234, 2.2794116362561376, 2.265720369453092]}], {\"xaxis\": {\"title\": \"True Class\", \"dtick\": 1, \"range\": [0.5, 9.5], \"tickcolor\": \"#FFF\"}, \"plot_bgcolor\": \"#000\", \"yaxis2\": {\"overlaying\": \"y\", \"range\": [0, 3], \"gridcolor\": \"#999\", \"title\": \"Standard Deviation\", \"side\": \"right\", \"tickcolor\": \"#FFF\"}, \"yaxis\": {\"title\": \"Mean\", \"dtick\": 1, \"range\": [0.5, 9.5], \"tickcolor\": \"#FFF\"}, \"paper_bgcolor\": \"#000\", \"height\": 500, \"titlefont\": {\"color\": \"#FFF\"}, \"title\": \"Choice after 0 Iterations at Glimpse 0\", \"font\": {\"color\": \"#FFF\"}, \"width\": 500, \"legend\": {\"x\": 0, \"y\": 1}}, {\"showLink\": true, \"linkText\": \"Export to plot.ly\"})});</script>"
      ],
      "text/vnd.plotly.v1+html": [
       "<div id=\"735a2d27-5ca6-444c-8fa6-57925835193c\" style=\"height: 500px; width: 500px;\" class=\"plotly-graph-div\"></div><script type=\"text/javascript\">require([\"plotly\"], function(Plotly) { window.PLOTLYENV=window.PLOTLYENV || {};window.PLOTLYENV.BASE_URL=\"https://plot.ly\";Plotly.newPlot(\"735a2d27-5ca6-444c-8fa6-57925835193c\", [{\"x\": [1, 2, 3, 4, 5, 6, 7, 8, 9], \"type\": \"scatter\", \"name\": \"Mean\", \"y\": [5.5735, 5.6221000000000005, 5.5948, 5.6681, 5.585400000000001, 5.6258, 5.607900000000001, 5.6258, 5.615100000000001]}, {\"x\": [1, 2, 3, 4, 5, 6, 7, 8, 9], \"type\": \"scatter\", \"yaxis\": \"y2\", \"name\": \"Standard Deviation\", \"y\": [2.2898641664671135, 2.2844211509577295, 2.280318219756028, 2.262116671301451, 2.2681449400922817, 2.273337148002181, 2.2758558285753234, 2.2794116362561376, 2.265720369453092]}], {\"xaxis\": {\"title\": \"True Class\", \"dtick\": 1, \"range\": [0.5, 9.5], \"tickcolor\": \"#FFF\"}, \"plot_bgcolor\": \"#000\", \"yaxis2\": {\"overlaying\": \"y\", \"range\": [0, 3], \"gridcolor\": \"#999\", \"title\": \"Standard Deviation\", \"side\": \"right\", \"tickcolor\": \"#FFF\"}, \"yaxis\": {\"title\": \"Mean\", \"dtick\": 1, \"range\": [0.5, 9.5], \"tickcolor\": \"#FFF\"}, \"paper_bgcolor\": \"#000\", \"height\": 500, \"titlefont\": {\"color\": \"#FFF\"}, \"title\": \"Choice after 0 Iterations at Glimpse 0\", \"font\": {\"color\": \"#FFF\"}, \"width\": 500, \"legend\": {\"x\": 0, \"y\": 1}}, {\"showLink\": true, \"linkText\": \"Export to plot.ly\"})});</script>"
      ]
     },
     "metadata": {},
     "output_type": "display_data"
    },
    {
     "data": {
      "application/vnd.plotly.v1+json": {
       "data": [
        {
         "name": "Coefficient of Variation",
         "type": "scatter",
         "x": [
          1,
          2,
          3,
          4,
          5,
          6,
          7,
          8,
          9
         ],
         "y": [
          0.4256825263294276,
          0.4184410567361991,
          0.42098206743709243,
          0.4107948615015358,
          0.41985465237872327,
          0.4133451111083895,
          0.41892799584826046,
          0.41669591795620314,
          0.41633844282645593
         ]
        }
       ],
       "layout": {
        "font": {
         "color": "#FFF"
        },
        "height": 300,
        "paper_bgcolor": "#000",
        "plot_bgcolor": "#000",
        "title": "Choice after 0 Iterations at Glimpse 0",
        "titlefont": {
         "color": "#FFF"
        },
        "width": 500,
        "xaxis": {
         "dtick": 1,
         "range": [
          0.5,
          9.5
         ],
         "tickcolor": "#FFF",
         "title": "True Class"
        },
        "yaxis": {
         "showgrid": true,
         "tickcolor": "#FFF",
         "title": "Coefficient of Variation"
        }
       }
      },
      "text/html": [
       "<div id=\"ba23b0d7-9cfd-4ff4-853e-fee35f2069fe\" style=\"height: 300px; width: 500px;\" class=\"plotly-graph-div\"></div><script type=\"text/javascript\">require([\"plotly\"], function(Plotly) { window.PLOTLYENV=window.PLOTLYENV || {};window.PLOTLYENV.BASE_URL=\"https://plot.ly\";Plotly.newPlot(\"ba23b0d7-9cfd-4ff4-853e-fee35f2069fe\", [{\"x\": [1, 2, 3, 4, 5, 6, 7, 8, 9], \"type\": \"scatter\", \"name\": \"Coefficient of Variation\", \"y\": [0.4256825263294276, 0.4184410567361991, 0.42098206743709243, 0.4107948615015358, 0.41985465237872327, 0.4133451111083895, 0.41892799584826046, 0.41669591795620314, 0.41633844282645593]}], {\"xaxis\": {\"title\": \"True Class\", \"dtick\": 1, \"range\": [0.5, 9.5], \"tickcolor\": \"#FFF\"}, \"plot_bgcolor\": \"#000\", \"titlefont\": {\"color\": \"#FFF\"}, \"paper_bgcolor\": \"#000\", \"height\": 300, \"yaxis\": {\"title\": \"Coefficient of Variation\", \"tickcolor\": \"#FFF\", \"showgrid\": true}, \"title\": \"Choice after 0 Iterations at Glimpse 0\", \"font\": {\"color\": \"#FFF\"}, \"width\": 500}, {\"showLink\": true, \"linkText\": \"Export to plot.ly\"})});</script>"
      ],
      "text/vnd.plotly.v1+html": [
       "<div id=\"ba23b0d7-9cfd-4ff4-853e-fee35f2069fe\" style=\"height: 300px; width: 500px;\" class=\"plotly-graph-div\"></div><script type=\"text/javascript\">require([\"plotly\"], function(Plotly) { window.PLOTLYENV=window.PLOTLYENV || {};window.PLOTLYENV.BASE_URL=\"https://plot.ly\";Plotly.newPlot(\"ba23b0d7-9cfd-4ff4-853e-fee35f2069fe\", [{\"x\": [1, 2, 3, 4, 5, 6, 7, 8, 9], \"type\": \"scatter\", \"name\": \"Coefficient of Variation\", \"y\": [0.4256825263294276, 0.4184410567361991, 0.42098206743709243, 0.4107948615015358, 0.41985465237872327, 0.4133451111083895, 0.41892799584826046, 0.41669591795620314, 0.41633844282645593]}], {\"xaxis\": {\"title\": \"True Class\", \"dtick\": 1, \"range\": [0.5, 9.5], \"tickcolor\": \"#FFF\"}, \"plot_bgcolor\": \"#000\", \"titlefont\": {\"color\": \"#FFF\"}, \"paper_bgcolor\": \"#000\", \"height\": 300, \"yaxis\": {\"title\": \"Coefficient of Variation\", \"tickcolor\": \"#FFF\", \"showgrid\": true}, \"title\": \"Choice after 0 Iterations at Glimpse 0\", \"font\": {\"color\": \"#FFF\"}, \"width\": 500}, {\"showLink\": true, \"linkText\": \"Export to plot.ly\"})});</script>"
      ]
     },
     "metadata": {},
     "output_type": "display_data"
    },
    {
     "data": {
      "application/vnd.plotly.v1+json": {
       "data": [
        {
         "name": "Mean",
         "type": "scatter",
         "x": [
          1,
          2,
          3,
          4,
          5,
          6,
          7,
          8,
          9
         ],
         "y": [
          5.511743636963608,
          5.640431782579865,
          5.643529127127636,
          5.633603659572422,
          5.621383377767808,
          5.600498639882341,
          5.585451227081032,
          5.644741747449137,
          5.580712130354277
         ]
        },
        {
         "name": "Standard Deviation",
         "type": "scatter",
         "x": [
          1,
          2,
          3,
          4,
          5,
          6,
          7,
          8,
          9
         ],
         "y": [
          2.39759736194284,
          2.323686384953052,
          2.2998092183077326,
          2.3085580679265822,
          2.286520471936626,
          2.315389448925644,
          2.302688406798144,
          2.2883521151338195,
          2.315979706749218
         ],
         "yaxis": "y2"
        }
       ],
       "layout": {
        "font": {
         "color": "#FFF"
        },
        "height": 500,
        "legend": {
         "x": 0,
         "y": 1
        },
        "paper_bgcolor": "#000",
        "plot_bgcolor": "#000",
        "title": "Confidence after 0 Iterations at Glimpse 3",
        "titlefont": {
         "color": "#FFF"
        },
        "width": 500,
        "xaxis": {
         "dtick": 1,
         "range": [
          0.5,
          9.5
         ],
         "tickcolor": "#FFF",
         "title": "True Class"
        },
        "yaxis": {
         "dtick": 1,
         "range": [
          0.5,
          9.5
         ],
         "tickcolor": "#FFF",
         "title": "Mean"
        },
        "yaxis2": {
         "gridcolor": "#999",
         "overlaying": "y",
         "range": [
          0,
          3
         ],
         "side": "right",
         "tickcolor": "#FFF",
         "title": "Standard Deviation"
        }
       }
      },
      "text/html": [
       "<div id=\"ac93f50a-375d-4703-b4c7-aaad13e89011\" style=\"height: 500px; width: 500px;\" class=\"plotly-graph-div\"></div><script type=\"text/javascript\">require([\"plotly\"], function(Plotly) { window.PLOTLYENV=window.PLOTLYENV || {};window.PLOTLYENV.BASE_URL=\"https://plot.ly\";Plotly.newPlot(\"ac93f50a-375d-4703-b4c7-aaad13e89011\", [{\"x\": [1, 2, 3, 4, 5, 6, 7, 8, 9], \"type\": \"scatter\", \"name\": \"Mean\", \"y\": [5.511743636963608, 5.640431782579865, 5.643529127127636, 5.633603659572422, 5.621383377767808, 5.600498639882341, 5.585451227081032, 5.644741747449137, 5.580712130354277]}, {\"x\": [1, 2, 3, 4, 5, 6, 7, 8, 9], \"type\": \"scatter\", \"yaxis\": \"y2\", \"name\": \"Standard Deviation\", \"y\": [2.39759736194284, 2.323686384953052, 2.2998092183077326, 2.3085580679265822, 2.286520471936626, 2.315389448925644, 2.302688406798144, 2.2883521151338195, 2.315979706749218]}], {\"xaxis\": {\"title\": \"True Class\", \"dtick\": 1, \"range\": [0.5, 9.5], \"tickcolor\": \"#FFF\"}, \"plot_bgcolor\": \"#000\", \"yaxis2\": {\"overlaying\": \"y\", \"range\": [0, 3], \"gridcolor\": \"#999\", \"title\": \"Standard Deviation\", \"side\": \"right\", \"tickcolor\": \"#FFF\"}, \"yaxis\": {\"title\": \"Mean\", \"dtick\": 1, \"range\": [0.5, 9.5], \"tickcolor\": \"#FFF\"}, \"paper_bgcolor\": \"#000\", \"height\": 500, \"titlefont\": {\"color\": \"#FFF\"}, \"title\": \"Confidence after 0 Iterations at Glimpse 3\", \"font\": {\"color\": \"#FFF\"}, \"width\": 500, \"legend\": {\"x\": 0, \"y\": 1}}, {\"showLink\": true, \"linkText\": \"Export to plot.ly\"})});</script>"
      ],
      "text/vnd.plotly.v1+html": [
       "<div id=\"ac93f50a-375d-4703-b4c7-aaad13e89011\" style=\"height: 500px; width: 500px;\" class=\"plotly-graph-div\"></div><script type=\"text/javascript\">require([\"plotly\"], function(Plotly) { window.PLOTLYENV=window.PLOTLYENV || {};window.PLOTLYENV.BASE_URL=\"https://plot.ly\";Plotly.newPlot(\"ac93f50a-375d-4703-b4c7-aaad13e89011\", [{\"x\": [1, 2, 3, 4, 5, 6, 7, 8, 9], \"type\": \"scatter\", \"name\": \"Mean\", \"y\": [5.511743636963608, 5.640431782579865, 5.643529127127636, 5.633603659572422, 5.621383377767808, 5.600498639882341, 5.585451227081032, 5.644741747449137, 5.580712130354277]}, {\"x\": [1, 2, 3, 4, 5, 6, 7, 8, 9], \"type\": \"scatter\", \"yaxis\": \"y2\", \"name\": \"Standard Deviation\", \"y\": [2.39759736194284, 2.323686384953052, 2.2998092183077326, 2.3085580679265822, 2.286520471936626, 2.315389448925644, 2.302688406798144, 2.2883521151338195, 2.315979706749218]}], {\"xaxis\": {\"title\": \"True Class\", \"dtick\": 1, \"range\": [0.5, 9.5], \"tickcolor\": \"#FFF\"}, \"plot_bgcolor\": \"#000\", \"yaxis2\": {\"overlaying\": \"y\", \"range\": [0, 3], \"gridcolor\": \"#999\", \"title\": \"Standard Deviation\", \"side\": \"right\", \"tickcolor\": \"#FFF\"}, \"yaxis\": {\"title\": \"Mean\", \"dtick\": 1, \"range\": [0.5, 9.5], \"tickcolor\": \"#FFF\"}, \"paper_bgcolor\": \"#000\", \"height\": 500, \"titlefont\": {\"color\": \"#FFF\"}, \"title\": \"Confidence after 0 Iterations at Glimpse 3\", \"font\": {\"color\": \"#FFF\"}, \"width\": 500, \"legend\": {\"x\": 0, \"y\": 1}}, {\"showLink\": true, \"linkText\": \"Export to plot.ly\"})});</script>"
      ]
     },
     "metadata": {},
     "output_type": "display_data"
    },
    {
     "data": {
      "application/vnd.plotly.v1+json": {
       "data": [
        {
         "name": "Coefficient of Variation",
         "type": "scatter",
         "x": [
          1,
          2,
          3,
          4,
          5,
          6,
          7,
          8,
          9
         ],
         "y": [
          0.43968317244594834,
          0.41751334518181177,
          0.4148625049498616,
          0.4163082870659075,
          0.41512044194680275,
          0.4194902582146365,
          0.4200963853929317,
          0.41358510504804225,
          0.4242479810960192
         ]
        }
       ],
       "layout": {
        "font": {
         "color": "#FFF"
        },
        "height": 300,
        "paper_bgcolor": "#000",
        "plot_bgcolor": "#000",
        "title": "Confidence after 0 Iterations at Glimpse 3",
        "titlefont": {
         "color": "#FFF"
        },
        "width": 500,
        "xaxis": {
         "dtick": 1,
         "range": [
          0.5,
          9.5
         ],
         "tickcolor": "#FFF",
         "title": "True Class"
        },
        "yaxis": {
         "showgrid": true,
         "tickcolor": "#FFF",
         "title": "Coefficient of Variation"
        }
       }
      },
      "text/html": [
       "<div id=\"e53384ef-0061-4fa4-9a59-50e375d5b705\" style=\"height: 300px; width: 500px;\" class=\"plotly-graph-div\"></div><script type=\"text/javascript\">require([\"plotly\"], function(Plotly) { window.PLOTLYENV=window.PLOTLYENV || {};window.PLOTLYENV.BASE_URL=\"https://plot.ly\";Plotly.newPlot(\"e53384ef-0061-4fa4-9a59-50e375d5b705\", [{\"x\": [1, 2, 3, 4, 5, 6, 7, 8, 9], \"type\": \"scatter\", \"name\": \"Coefficient of Variation\", \"y\": [0.43968317244594834, 0.41751334518181177, 0.4148625049498616, 0.4163082870659075, 0.41512044194680275, 0.4194902582146365, 0.4200963853929317, 0.41358510504804225, 0.4242479810960192]}], {\"xaxis\": {\"title\": \"True Class\", \"dtick\": 1, \"range\": [0.5, 9.5], \"tickcolor\": \"#FFF\"}, \"plot_bgcolor\": \"#000\", \"titlefont\": {\"color\": \"#FFF\"}, \"paper_bgcolor\": \"#000\", \"height\": 300, \"yaxis\": {\"title\": \"Coefficient of Variation\", \"tickcolor\": \"#FFF\", \"showgrid\": true}, \"title\": \"Confidence after 0 Iterations at Glimpse 3\", \"font\": {\"color\": \"#FFF\"}, \"width\": 500}, {\"showLink\": true, \"linkText\": \"Export to plot.ly\"})});</script>"
      ],
      "text/vnd.plotly.v1+html": [
       "<div id=\"e53384ef-0061-4fa4-9a59-50e375d5b705\" style=\"height: 300px; width: 500px;\" class=\"plotly-graph-div\"></div><script type=\"text/javascript\">require([\"plotly\"], function(Plotly) { window.PLOTLYENV=window.PLOTLYENV || {};window.PLOTLYENV.BASE_URL=\"https://plot.ly\";Plotly.newPlot(\"e53384ef-0061-4fa4-9a59-50e375d5b705\", [{\"x\": [1, 2, 3, 4, 5, 6, 7, 8, 9], \"type\": \"scatter\", \"name\": \"Coefficient of Variation\", \"y\": [0.43968317244594834, 0.41751334518181177, 0.4148625049498616, 0.4163082870659075, 0.41512044194680275, 0.4194902582146365, 0.4200963853929317, 0.41358510504804225, 0.4242479810960192]}], {\"xaxis\": {\"title\": \"True Class\", \"dtick\": 1, \"range\": [0.5, 9.5], \"tickcolor\": \"#FFF\"}, \"plot_bgcolor\": \"#000\", \"titlefont\": {\"color\": \"#FFF\"}, \"paper_bgcolor\": \"#000\", \"height\": 300, \"yaxis\": {\"title\": \"Coefficient of Variation\", \"tickcolor\": \"#FFF\", \"showgrid\": true}, \"title\": \"Confidence after 0 Iterations at Glimpse 3\", \"font\": {\"color\": \"#FFF\"}, \"width\": 500}, {\"showLink\": true, \"linkText\": \"Export to plot.ly\"})});</script>"
      ]
     },
     "metadata": {},
     "output_type": "display_data"
    },
    {
     "data": {
      "application/vnd.plotly.v1+json": {
       "data": [
        {
         "name": "Mean",
         "type": "scatter",
         "x": [
          1,
          2,
          3,
          4,
          5,
          6,
          7,
          8,
          9
         ],
         "y": [
          5.5866,
          5.660200000000001,
          5.6495,
          5.6335999999999995,
          5.623500000000001,
          5.6058,
          5.5863,
          5.643000000000001,
          5.577600000000001
         ]
        },
        {
         "name": "Standard Deviation",
         "type": "scatter",
         "x": [
          1,
          2,
          3,
          4,
          5,
          6,
          7,
          8,
          9
         ],
         "y": [
          2.3203656537222352,
          2.3048435491768764,
          2.294757889988905,
          2.308959178028726,
          2.2822056464020632,
          2.316271843135429,
          2.3041597039040314,
          2.288279679596167,
          2.31679443018811
         ],
         "yaxis": "y2"
        }
       ],
       "layout": {
        "font": {
         "color": "#FFF"
        },
        "height": 500,
        "legend": {
         "x": 0,
         "y": 1
        },
        "paper_bgcolor": "#000",
        "plot_bgcolor": "#000",
        "title": "Choice after 0 Iterations at Glimpse 3",
        "titlefont": {
         "color": "#FFF"
        },
        "width": 500,
        "xaxis": {
         "dtick": 1,
         "range": [
          0.5,
          9.5
         ],
         "tickcolor": "#FFF",
         "title": "True Class"
        },
        "yaxis": {
         "dtick": 1,
         "range": [
          0.5,
          9.5
         ],
         "tickcolor": "#FFF",
         "title": "Mean"
        },
        "yaxis2": {
         "gridcolor": "#999",
         "overlaying": "y",
         "range": [
          0,
          3
         ],
         "side": "right",
         "tickcolor": "#FFF",
         "title": "Standard Deviation"
        }
       }
      },
      "text/html": [
       "<div id=\"e1ae554c-9c2f-47ca-a26a-de8ec5492df9\" style=\"height: 500px; width: 500px;\" class=\"plotly-graph-div\"></div><script type=\"text/javascript\">require([\"plotly\"], function(Plotly) { window.PLOTLYENV=window.PLOTLYENV || {};window.PLOTLYENV.BASE_URL=\"https://plot.ly\";Plotly.newPlot(\"e1ae554c-9c2f-47ca-a26a-de8ec5492df9\", [{\"x\": [1, 2, 3, 4, 5, 6, 7, 8, 9], \"type\": \"scatter\", \"name\": \"Mean\", \"y\": [5.5866, 5.660200000000001, 5.6495, 5.6335999999999995, 5.623500000000001, 5.6058, 5.5863, 5.643000000000001, 5.577600000000001]}, {\"x\": [1, 2, 3, 4, 5, 6, 7, 8, 9], \"type\": \"scatter\", \"yaxis\": \"y2\", \"name\": \"Standard Deviation\", \"y\": [2.3203656537222352, 2.3048435491768764, 2.294757889988905, 2.308959178028726, 2.2822056464020632, 2.316271843135429, 2.3041597039040314, 2.288279679596167, 2.31679443018811]}], {\"xaxis\": {\"title\": \"True Class\", \"dtick\": 1, \"range\": [0.5, 9.5], \"tickcolor\": \"#FFF\"}, \"plot_bgcolor\": \"#000\", \"yaxis2\": {\"overlaying\": \"y\", \"range\": [0, 3], \"gridcolor\": \"#999\", \"title\": \"Standard Deviation\", \"side\": \"right\", \"tickcolor\": \"#FFF\"}, \"yaxis\": {\"title\": \"Mean\", \"dtick\": 1, \"range\": [0.5, 9.5], \"tickcolor\": \"#FFF\"}, \"paper_bgcolor\": \"#000\", \"height\": 500, \"titlefont\": {\"color\": \"#FFF\"}, \"title\": \"Choice after 0 Iterations at Glimpse 3\", \"font\": {\"color\": \"#FFF\"}, \"width\": 500, \"legend\": {\"x\": 0, \"y\": 1}}, {\"showLink\": true, \"linkText\": \"Export to plot.ly\"})});</script>"
      ],
      "text/vnd.plotly.v1+html": [
       "<div id=\"e1ae554c-9c2f-47ca-a26a-de8ec5492df9\" style=\"height: 500px; width: 500px;\" class=\"plotly-graph-div\"></div><script type=\"text/javascript\">require([\"plotly\"], function(Plotly) { window.PLOTLYENV=window.PLOTLYENV || {};window.PLOTLYENV.BASE_URL=\"https://plot.ly\";Plotly.newPlot(\"e1ae554c-9c2f-47ca-a26a-de8ec5492df9\", [{\"x\": [1, 2, 3, 4, 5, 6, 7, 8, 9], \"type\": \"scatter\", \"name\": \"Mean\", \"y\": [5.5866, 5.660200000000001, 5.6495, 5.6335999999999995, 5.623500000000001, 5.6058, 5.5863, 5.643000000000001, 5.577600000000001]}, {\"x\": [1, 2, 3, 4, 5, 6, 7, 8, 9], \"type\": \"scatter\", \"yaxis\": \"y2\", \"name\": \"Standard Deviation\", \"y\": [2.3203656537222352, 2.3048435491768764, 2.294757889988905, 2.308959178028726, 2.2822056464020632, 2.316271843135429, 2.3041597039040314, 2.288279679596167, 2.31679443018811]}], {\"xaxis\": {\"title\": \"True Class\", \"dtick\": 1, \"range\": [0.5, 9.5], \"tickcolor\": \"#FFF\"}, \"plot_bgcolor\": \"#000\", \"yaxis2\": {\"overlaying\": \"y\", \"range\": [0, 3], \"gridcolor\": \"#999\", \"title\": \"Standard Deviation\", \"side\": \"right\", \"tickcolor\": \"#FFF\"}, \"yaxis\": {\"title\": \"Mean\", \"dtick\": 1, \"range\": [0.5, 9.5], \"tickcolor\": \"#FFF\"}, \"paper_bgcolor\": \"#000\", \"height\": 500, \"titlefont\": {\"color\": \"#FFF\"}, \"title\": \"Choice after 0 Iterations at Glimpse 3\", \"font\": {\"color\": \"#FFF\"}, \"width\": 500, \"legend\": {\"x\": 0, \"y\": 1}}, {\"showLink\": true, \"linkText\": \"Export to plot.ly\"})});</script>"
      ]
     },
     "metadata": {},
     "output_type": "display_data"
    },
    {
     "data": {
      "application/vnd.plotly.v1+json": {
       "data": [
        {
         "name": "Coefficient of Variation",
         "type": "scatter",
         "x": [
          1,
          2,
          3,
          4,
          5,
          6,
          7,
          8,
          9
         ],
         "y": [
          0.4241111577247899,
          0.41340538134498195,
          0.413757828641637,
          0.41634887128045095,
          0.41409039204272957,
          0.41911124809809375,
          0.4203086760704166,
          0.41386364773365986,
          0.4247322905389804
         ]
        }
       ],
       "layout": {
        "font": {
         "color": "#FFF"
        },
        "height": 300,
        "paper_bgcolor": "#000",
        "plot_bgcolor": "#000",
        "title": "Choice after 0 Iterations at Glimpse 3",
        "titlefont": {
         "color": "#FFF"
        },
        "width": 500,
        "xaxis": {
         "dtick": 1,
         "range": [
          0.5,
          9.5
         ],
         "tickcolor": "#FFF",
         "title": "True Class"
        },
        "yaxis": {
         "showgrid": true,
         "tickcolor": "#FFF",
         "title": "Coefficient of Variation"
        }
       }
      },
      "text/html": [
       "<div id=\"46cf38e8-6e3d-4cb1-8687-a9c8899563a5\" style=\"height: 300px; width: 500px;\" class=\"plotly-graph-div\"></div><script type=\"text/javascript\">require([\"plotly\"], function(Plotly) { window.PLOTLYENV=window.PLOTLYENV || {};window.PLOTLYENV.BASE_URL=\"https://plot.ly\";Plotly.newPlot(\"46cf38e8-6e3d-4cb1-8687-a9c8899563a5\", [{\"x\": [1, 2, 3, 4, 5, 6, 7, 8, 9], \"type\": \"scatter\", \"name\": \"Coefficient of Variation\", \"y\": [0.4241111577247899, 0.41340538134498195, 0.413757828641637, 0.41634887128045095, 0.41409039204272957, 0.41911124809809375, 0.4203086760704166, 0.41386364773365986, 0.4247322905389804]}], {\"xaxis\": {\"title\": \"True Class\", \"dtick\": 1, \"range\": [0.5, 9.5], \"tickcolor\": \"#FFF\"}, \"plot_bgcolor\": \"#000\", \"titlefont\": {\"color\": \"#FFF\"}, \"paper_bgcolor\": \"#000\", \"height\": 300, \"yaxis\": {\"title\": \"Coefficient of Variation\", \"tickcolor\": \"#FFF\", \"showgrid\": true}, \"title\": \"Choice after 0 Iterations at Glimpse 3\", \"font\": {\"color\": \"#FFF\"}, \"width\": 500}, {\"showLink\": true, \"linkText\": \"Export to plot.ly\"})});</script>"
      ],
      "text/vnd.plotly.v1+html": [
       "<div id=\"46cf38e8-6e3d-4cb1-8687-a9c8899563a5\" style=\"height: 300px; width: 500px;\" class=\"plotly-graph-div\"></div><script type=\"text/javascript\">require([\"plotly\"], function(Plotly) { window.PLOTLYENV=window.PLOTLYENV || {};window.PLOTLYENV.BASE_URL=\"https://plot.ly\";Plotly.newPlot(\"46cf38e8-6e3d-4cb1-8687-a9c8899563a5\", [{\"x\": [1, 2, 3, 4, 5, 6, 7, 8, 9], \"type\": \"scatter\", \"name\": \"Coefficient of Variation\", \"y\": [0.4241111577247899, 0.41340538134498195, 0.413757828641637, 0.41634887128045095, 0.41409039204272957, 0.41911124809809375, 0.4203086760704166, 0.41386364773365986, 0.4247322905389804]}], {\"xaxis\": {\"title\": \"True Class\", \"dtick\": 1, \"range\": [0.5, 9.5], \"tickcolor\": \"#FFF\"}, \"plot_bgcolor\": \"#000\", \"titlefont\": {\"color\": \"#FFF\"}, \"paper_bgcolor\": \"#000\", \"height\": 300, \"yaxis\": {\"title\": \"Coefficient of Variation\", \"tickcolor\": \"#FFF\", \"showgrid\": true}, \"title\": \"Choice after 0 Iterations at Glimpse 3\", \"font\": {\"color\": \"#FFF\"}, \"width\": 500}, {\"showLink\": true, \"linkText\": \"Export to plot.ly\"})});</script>"
      ]
     },
     "metadata": {},
     "output_type": "display_data"
    },
    {
     "data": {
      "application/vnd.plotly.v1+json": {
       "data": [
        {
         "name": "Mean",
         "type": "scatter",
         "x": [
          1,
          2,
          3,
          4,
          5,
          6,
          7,
          8,
          9
         ],
         "y": [
          5.442722905339783,
          5.492946447730255,
          5.524695481893478,
          5.477363687790398,
          5.512998598149621,
          5.446398685289562,
          5.477330619153969,
          5.531236013099633,
          5.547692445099185
         ]
        },
        {
         "name": "Standard Deviation",
         "type": "scatter",
         "x": [
          1,
          2,
          3,
          4,
          5,
          6,
          7,
          8,
          9
         ],
         "y": [
          2.3815378340896727,
          2.3144110933991575,
          2.315212369096351,
          2.327675871876758,
          2.31257743978449,
          2.3232944723821483,
          2.313477245264899,
          2.3088679129123344,
          2.288110708880363
         ],
         "yaxis": "y2"
        }
       ],
       "layout": {
        "font": {
         "color": "#FFF"
        },
        "height": 500,
        "legend": {
         "x": 0,
         "y": 1
        },
        "paper_bgcolor": "#000",
        "plot_bgcolor": "#000",
        "title": "Confidence after 0 Iterations at Glimpse 9",
        "titlefont": {
         "color": "#FFF"
        },
        "width": 500,
        "xaxis": {
         "dtick": 1,
         "range": [
          0.5,
          9.5
         ],
         "tickcolor": "#FFF",
         "title": "True Class"
        },
        "yaxis": {
         "dtick": 1,
         "range": [
          0.5,
          9.5
         ],
         "tickcolor": "#FFF",
         "title": "Mean"
        },
        "yaxis2": {
         "gridcolor": "#999",
         "overlaying": "y",
         "range": [
          0,
          3
         ],
         "side": "right",
         "tickcolor": "#FFF",
         "title": "Standard Deviation"
        }
       }
      },
      "text/html": [
       "<div id=\"be2e4e4f-6cb0-47de-8e80-3a9a07ce1cdf\" style=\"height: 500px; width: 500px;\" class=\"plotly-graph-div\"></div><script type=\"text/javascript\">require([\"plotly\"], function(Plotly) { window.PLOTLYENV=window.PLOTLYENV || {};window.PLOTLYENV.BASE_URL=\"https://plot.ly\";Plotly.newPlot(\"be2e4e4f-6cb0-47de-8e80-3a9a07ce1cdf\", [{\"x\": [1, 2, 3, 4, 5, 6, 7, 8, 9], \"type\": \"scatter\", \"name\": \"Mean\", \"y\": [5.442722905339783, 5.492946447730255, 5.524695481893478, 5.477363687790398, 5.512998598149621, 5.446398685289562, 5.477330619153969, 5.531236013099633, 5.547692445099185]}, {\"x\": [1, 2, 3, 4, 5, 6, 7, 8, 9], \"type\": \"scatter\", \"yaxis\": \"y2\", \"name\": \"Standard Deviation\", \"y\": [2.3815378340896727, 2.3144110933991575, 2.315212369096351, 2.327675871876758, 2.31257743978449, 2.3232944723821483, 2.313477245264899, 2.3088679129123344, 2.288110708880363]}], {\"xaxis\": {\"title\": \"True Class\", \"dtick\": 1, \"range\": [0.5, 9.5], \"tickcolor\": \"#FFF\"}, \"plot_bgcolor\": \"#000\", \"yaxis2\": {\"overlaying\": \"y\", \"range\": [0, 3], \"gridcolor\": \"#999\", \"title\": \"Standard Deviation\", \"side\": \"right\", \"tickcolor\": \"#FFF\"}, \"yaxis\": {\"title\": \"Mean\", \"dtick\": 1, \"range\": [0.5, 9.5], \"tickcolor\": \"#FFF\"}, \"paper_bgcolor\": \"#000\", \"height\": 500, \"titlefont\": {\"color\": \"#FFF\"}, \"title\": \"Confidence after 0 Iterations at Glimpse 9\", \"font\": {\"color\": \"#FFF\"}, \"width\": 500, \"legend\": {\"x\": 0, \"y\": 1}}, {\"showLink\": true, \"linkText\": \"Export to plot.ly\"})});</script>"
      ],
      "text/vnd.plotly.v1+html": [
       "<div id=\"be2e4e4f-6cb0-47de-8e80-3a9a07ce1cdf\" style=\"height: 500px; width: 500px;\" class=\"plotly-graph-div\"></div><script type=\"text/javascript\">require([\"plotly\"], function(Plotly) { window.PLOTLYENV=window.PLOTLYENV || {};window.PLOTLYENV.BASE_URL=\"https://plot.ly\";Plotly.newPlot(\"be2e4e4f-6cb0-47de-8e80-3a9a07ce1cdf\", [{\"x\": [1, 2, 3, 4, 5, 6, 7, 8, 9], \"type\": \"scatter\", \"name\": \"Mean\", \"y\": [5.442722905339783, 5.492946447730255, 5.524695481893478, 5.477363687790398, 5.512998598149621, 5.446398685289562, 5.477330619153969, 5.531236013099633, 5.547692445099185]}, {\"x\": [1, 2, 3, 4, 5, 6, 7, 8, 9], \"type\": \"scatter\", \"yaxis\": \"y2\", \"name\": \"Standard Deviation\", \"y\": [2.3815378340896727, 2.3144110933991575, 2.315212369096351, 2.327675871876758, 2.31257743978449, 2.3232944723821483, 2.313477245264899, 2.3088679129123344, 2.288110708880363]}], {\"xaxis\": {\"title\": \"True Class\", \"dtick\": 1, \"range\": [0.5, 9.5], \"tickcolor\": \"#FFF\"}, \"plot_bgcolor\": \"#000\", \"yaxis2\": {\"overlaying\": \"y\", \"range\": [0, 3], \"gridcolor\": \"#999\", \"title\": \"Standard Deviation\", \"side\": \"right\", \"tickcolor\": \"#FFF\"}, \"yaxis\": {\"title\": \"Mean\", \"dtick\": 1, \"range\": [0.5, 9.5], \"tickcolor\": \"#FFF\"}, \"paper_bgcolor\": \"#000\", \"height\": 500, \"titlefont\": {\"color\": \"#FFF\"}, \"title\": \"Confidence after 0 Iterations at Glimpse 9\", \"font\": {\"color\": \"#FFF\"}, \"width\": 500, \"legend\": {\"x\": 0, \"y\": 1}}, {\"showLink\": true, \"linkText\": \"Export to plot.ly\"})});</script>"
      ]
     },
     "metadata": {},
     "output_type": "display_data"
    },
    {
     "data": {
      "application/vnd.plotly.v1+json": {
       "data": [
        {
         "name": "Coefficient of Variation",
         "type": "scatter",
         "x": [
          1,
          2,
          3,
          4,
          5,
          6,
          7,
          8,
          9
         ],
         "y": [
          0.4443405242861087,
          0.4309519558071201,
          0.4310776870872128,
          0.43595535861955187,
          0.42915099638671617,
          0.43738996714053363,
          0.43445383765578793,
          0.4291496460209444,
          0.4236160476412822
         ]
        }
       ],
       "layout": {
        "font": {
         "color": "#FFF"
        },
        "height": 300,
        "paper_bgcolor": "#000",
        "plot_bgcolor": "#000",
        "title": "Confidence after 0 Iterations at Glimpse 9",
        "titlefont": {
         "color": "#FFF"
        },
        "width": 500,
        "xaxis": {
         "dtick": 1,
         "range": [
          0.5,
          9.5
         ],
         "tickcolor": "#FFF",
         "title": "True Class"
        },
        "yaxis": {
         "showgrid": true,
         "tickcolor": "#FFF",
         "title": "Coefficient of Variation"
        }
       }
      },
      "text/html": [
       "<div id=\"02605fa5-91de-40d0-829f-7558a5fba9cb\" style=\"height: 300px; width: 500px;\" class=\"plotly-graph-div\"></div><script type=\"text/javascript\">require([\"plotly\"], function(Plotly) { window.PLOTLYENV=window.PLOTLYENV || {};window.PLOTLYENV.BASE_URL=\"https://plot.ly\";Plotly.newPlot(\"02605fa5-91de-40d0-829f-7558a5fba9cb\", [{\"x\": [1, 2, 3, 4, 5, 6, 7, 8, 9], \"type\": \"scatter\", \"name\": \"Coefficient of Variation\", \"y\": [0.4443405242861087, 0.4309519558071201, 0.4310776870872128, 0.43595535861955187, 0.42915099638671617, 0.43738996714053363, 0.43445383765578793, 0.4291496460209444, 0.4236160476412822]}], {\"xaxis\": {\"title\": \"True Class\", \"dtick\": 1, \"range\": [0.5, 9.5], \"tickcolor\": \"#FFF\"}, \"plot_bgcolor\": \"#000\", \"titlefont\": {\"color\": \"#FFF\"}, \"paper_bgcolor\": \"#000\", \"height\": 300, \"yaxis\": {\"title\": \"Coefficient of Variation\", \"tickcolor\": \"#FFF\", \"showgrid\": true}, \"title\": \"Confidence after 0 Iterations at Glimpse 9\", \"font\": {\"color\": \"#FFF\"}, \"width\": 500}, {\"showLink\": true, \"linkText\": \"Export to plot.ly\"})});</script>"
      ],
      "text/vnd.plotly.v1+html": [
       "<div id=\"02605fa5-91de-40d0-829f-7558a5fba9cb\" style=\"height: 300px; width: 500px;\" class=\"plotly-graph-div\"></div><script type=\"text/javascript\">require([\"plotly\"], function(Plotly) { window.PLOTLYENV=window.PLOTLYENV || {};window.PLOTLYENV.BASE_URL=\"https://plot.ly\";Plotly.newPlot(\"02605fa5-91de-40d0-829f-7558a5fba9cb\", [{\"x\": [1, 2, 3, 4, 5, 6, 7, 8, 9], \"type\": \"scatter\", \"name\": \"Coefficient of Variation\", \"y\": [0.4443405242861087, 0.4309519558071201, 0.4310776870872128, 0.43595535861955187, 0.42915099638671617, 0.43738996714053363, 0.43445383765578793, 0.4291496460209444, 0.4236160476412822]}], {\"xaxis\": {\"title\": \"True Class\", \"dtick\": 1, \"range\": [0.5, 9.5], \"tickcolor\": \"#FFF\"}, \"plot_bgcolor\": \"#000\", \"titlefont\": {\"color\": \"#FFF\"}, \"paper_bgcolor\": \"#000\", \"height\": 300, \"yaxis\": {\"title\": \"Coefficient of Variation\", \"tickcolor\": \"#FFF\", \"showgrid\": true}, \"title\": \"Confidence after 0 Iterations at Glimpse 9\", \"font\": {\"color\": \"#FFF\"}, \"width\": 500}, {\"showLink\": true, \"linkText\": \"Export to plot.ly\"})});</script>"
      ]
     },
     "metadata": {},
     "output_type": "display_data"
    },
    {
     "data": {
      "application/vnd.plotly.v1+json": {
       "data": [
        {
         "name": "Mean",
         "type": "scatter",
         "x": [
          1,
          2,
          3,
          4,
          5,
          6,
          7,
          8,
          9
         ],
         "y": [
          5.497900000000001,
          5.5018,
          5.527199999999999,
          5.4829,
          5.512099999999999,
          5.4414,
          5.4771,
          5.529,
          5.5455
         ]
        },
        {
         "name": "Standard Deviation",
         "type": "scatter",
         "x": [
          1,
          2,
          3,
          4,
          5,
          6,
          7,
          8,
          9
         ],
         "y": [
          2.3275073778509787,
          2.304437430243494,
          2.3109485089928574,
          2.324392157153633,
          2.31159815063334,
          2.3230781865501853,
          2.310765517558646,
          2.309092235178896,
          2.285974268449677
         ],
         "yaxis": "y2"
        }
       ],
       "layout": {
        "font": {
         "color": "#FFF"
        },
        "height": 500,
        "legend": {
         "x": 0,
         "y": 1
        },
        "paper_bgcolor": "#000",
        "plot_bgcolor": "#000",
        "title": "Choice after 0 Iterations at Glimpse 9",
        "titlefont": {
         "color": "#FFF"
        },
        "width": 500,
        "xaxis": {
         "dtick": 1,
         "range": [
          0.5,
          9.5
         ],
         "tickcolor": "#FFF",
         "title": "True Class"
        },
        "yaxis": {
         "dtick": 1,
         "range": [
          0.5,
          9.5
         ],
         "tickcolor": "#FFF",
         "title": "Mean"
        },
        "yaxis2": {
         "gridcolor": "#999",
         "overlaying": "y",
         "range": [
          0,
          3
         ],
         "side": "right",
         "tickcolor": "#FFF",
         "title": "Standard Deviation"
        }
       }
      },
      "text/html": [
       "<div id=\"900331a0-d482-498c-9263-7dab3297aa95\" style=\"height: 500px; width: 500px;\" class=\"plotly-graph-div\"></div><script type=\"text/javascript\">require([\"plotly\"], function(Plotly) { window.PLOTLYENV=window.PLOTLYENV || {};window.PLOTLYENV.BASE_URL=\"https://plot.ly\";Plotly.newPlot(\"900331a0-d482-498c-9263-7dab3297aa95\", [{\"x\": [1, 2, 3, 4, 5, 6, 7, 8, 9], \"type\": \"scatter\", \"name\": \"Mean\", \"y\": [5.497900000000001, 5.5018, 5.527199999999999, 5.4829, 5.512099999999999, 5.4414, 5.4771, 5.529, 5.5455]}, {\"x\": [1, 2, 3, 4, 5, 6, 7, 8, 9], \"type\": \"scatter\", \"yaxis\": \"y2\", \"name\": \"Standard Deviation\", \"y\": [2.3275073778509787, 2.304437430243494, 2.3109485089928574, 2.324392157153633, 2.31159815063334, 2.3230781865501853, 2.310765517558646, 2.309092235178896, 2.285974268449677]}], {\"xaxis\": {\"title\": \"True Class\", \"dtick\": 1, \"range\": [0.5, 9.5], \"tickcolor\": \"#FFF\"}, \"plot_bgcolor\": \"#000\", \"yaxis2\": {\"overlaying\": \"y\", \"range\": [0, 3], \"gridcolor\": \"#999\", \"title\": \"Standard Deviation\", \"side\": \"right\", \"tickcolor\": \"#FFF\"}, \"yaxis\": {\"title\": \"Mean\", \"dtick\": 1, \"range\": [0.5, 9.5], \"tickcolor\": \"#FFF\"}, \"paper_bgcolor\": \"#000\", \"height\": 500, \"titlefont\": {\"color\": \"#FFF\"}, \"title\": \"Choice after 0 Iterations at Glimpse 9\", \"font\": {\"color\": \"#FFF\"}, \"width\": 500, \"legend\": {\"x\": 0, \"y\": 1}}, {\"showLink\": true, \"linkText\": \"Export to plot.ly\"})});</script>"
      ],
      "text/vnd.plotly.v1+html": [
       "<div id=\"900331a0-d482-498c-9263-7dab3297aa95\" style=\"height: 500px; width: 500px;\" class=\"plotly-graph-div\"></div><script type=\"text/javascript\">require([\"plotly\"], function(Plotly) { window.PLOTLYENV=window.PLOTLYENV || {};window.PLOTLYENV.BASE_URL=\"https://plot.ly\";Plotly.newPlot(\"900331a0-d482-498c-9263-7dab3297aa95\", [{\"x\": [1, 2, 3, 4, 5, 6, 7, 8, 9], \"type\": \"scatter\", \"name\": \"Mean\", \"y\": [5.497900000000001, 5.5018, 5.527199999999999, 5.4829, 5.512099999999999, 5.4414, 5.4771, 5.529, 5.5455]}, {\"x\": [1, 2, 3, 4, 5, 6, 7, 8, 9], \"type\": \"scatter\", \"yaxis\": \"y2\", \"name\": \"Standard Deviation\", \"y\": [2.3275073778509787, 2.304437430243494, 2.3109485089928574, 2.324392157153633, 2.31159815063334, 2.3230781865501853, 2.310765517558646, 2.309092235178896, 2.285974268449677]}], {\"xaxis\": {\"title\": \"True Class\", \"dtick\": 1, \"range\": [0.5, 9.5], \"tickcolor\": \"#FFF\"}, \"plot_bgcolor\": \"#000\", \"yaxis2\": {\"overlaying\": \"y\", \"range\": [0, 3], \"gridcolor\": \"#999\", \"title\": \"Standard Deviation\", \"side\": \"right\", \"tickcolor\": \"#FFF\"}, \"yaxis\": {\"title\": \"Mean\", \"dtick\": 1, \"range\": [0.5, 9.5], \"tickcolor\": \"#FFF\"}, \"paper_bgcolor\": \"#000\", \"height\": 500, \"titlefont\": {\"color\": \"#FFF\"}, \"title\": \"Choice after 0 Iterations at Glimpse 9\", \"font\": {\"color\": \"#FFF\"}, \"width\": 500, \"legend\": {\"x\": 0, \"y\": 1}}, {\"showLink\": true, \"linkText\": \"Export to plot.ly\"})});</script>"
      ]
     },
     "metadata": {},
     "output_type": "display_data"
    },
    {
     "data": {
      "application/vnd.plotly.v1+json": {
       "data": [
        {
         "name": "Coefficient of Variation",
         "type": "scatter",
         "x": [
          1,
          2,
          3,
          4,
          5,
          6,
          7,
          8,
          9
         ],
         "y": [
          0.43302315141292896,
          0.42879824623623025,
          0.4298611405984335,
          0.4346937418699944,
          0.4292075443776734,
          0.43772243642607256,
          0.43434025105802776,
          0.4295051927272168,
          0.42362071794981027
         ]
        }
       ],
       "layout": {
        "font": {
         "color": "#FFF"
        },
        "height": 300,
        "paper_bgcolor": "#000",
        "plot_bgcolor": "#000",
        "title": "Choice after 0 Iterations at Glimpse 9",
        "titlefont": {
         "color": "#FFF"
        },
        "width": 500,
        "xaxis": {
         "dtick": 1,
         "range": [
          0.5,
          9.5
         ],
         "tickcolor": "#FFF",
         "title": "True Class"
        },
        "yaxis": {
         "showgrid": true,
         "tickcolor": "#FFF",
         "title": "Coefficient of Variation"
        }
       }
      },
      "text/html": [
       "<div id=\"0dbd8929-2158-4547-8f1a-43fe7d110af3\" style=\"height: 300px; width: 500px;\" class=\"plotly-graph-div\"></div><script type=\"text/javascript\">require([\"plotly\"], function(Plotly) { window.PLOTLYENV=window.PLOTLYENV || {};window.PLOTLYENV.BASE_URL=\"https://plot.ly\";Plotly.newPlot(\"0dbd8929-2158-4547-8f1a-43fe7d110af3\", [{\"x\": [1, 2, 3, 4, 5, 6, 7, 8, 9], \"type\": \"scatter\", \"name\": \"Coefficient of Variation\", \"y\": [0.43302315141292896, 0.42879824623623025, 0.4298611405984335, 0.4346937418699944, 0.4292075443776734, 0.43772243642607256, 0.43434025105802776, 0.4295051927272168, 0.42362071794981027]}], {\"xaxis\": {\"title\": \"True Class\", \"dtick\": 1, \"range\": [0.5, 9.5], \"tickcolor\": \"#FFF\"}, \"plot_bgcolor\": \"#000\", \"titlefont\": {\"color\": \"#FFF\"}, \"paper_bgcolor\": \"#000\", \"height\": 300, \"yaxis\": {\"title\": \"Coefficient of Variation\", \"tickcolor\": \"#FFF\", \"showgrid\": true}, \"title\": \"Choice after 0 Iterations at Glimpse 9\", \"font\": {\"color\": \"#FFF\"}, \"width\": 500}, {\"showLink\": true, \"linkText\": \"Export to plot.ly\"})});</script>"
      ],
      "text/vnd.plotly.v1+html": [
       "<div id=\"0dbd8929-2158-4547-8f1a-43fe7d110af3\" style=\"height: 300px; width: 500px;\" class=\"plotly-graph-div\"></div><script type=\"text/javascript\">require([\"plotly\"], function(Plotly) { window.PLOTLYENV=window.PLOTLYENV || {};window.PLOTLYENV.BASE_URL=\"https://plot.ly\";Plotly.newPlot(\"0dbd8929-2158-4547-8f1a-43fe7d110af3\", [{\"x\": [1, 2, 3, 4, 5, 6, 7, 8, 9], \"type\": \"scatter\", \"name\": \"Coefficient of Variation\", \"y\": [0.43302315141292896, 0.42879824623623025, 0.4298611405984335, 0.4346937418699944, 0.4292075443776734, 0.43772243642607256, 0.43434025105802776, 0.4295051927272168, 0.42362071794981027]}], {\"xaxis\": {\"title\": \"True Class\", \"dtick\": 1, \"range\": [0.5, 9.5], \"tickcolor\": \"#FFF\"}, \"plot_bgcolor\": \"#000\", \"titlefont\": {\"color\": \"#FFF\"}, \"paper_bgcolor\": \"#000\", \"height\": 300, \"yaxis\": {\"title\": \"Coefficient of Variation\", \"tickcolor\": \"#FFF\", \"showgrid\": true}, \"title\": \"Choice after 0 Iterations at Glimpse 9\", \"font\": {\"color\": \"#FFF\"}, \"width\": 500}, {\"showLink\": true, \"linkText\": \"Export to plot.ly\"})});</script>"
      ]
     },
     "metadata": {},
     "output_type": "display_data"
    },
    {
     "data": {
      "application/vnd.plotly.v1+json": {
       "data": [
        {
         "name": "Mean",
         "type": "scatter",
         "x": [
          1,
          2,
          3,
          4,
          5,
          6,
          7,
          8,
          9
         ],
         "y": [
          5.279787216335921,
          5.472982669737678,
          5.5264009886193906,
          5.590495318332972,
          5.604577276768859,
          5.596159777082359,
          5.581857676352127,
          5.6160586967690085,
          5.612868493931897
         ]
        },
        {
         "name": "Standard Deviation",
         "type": "scatter",
         "x": [
          1,
          2,
          3,
          4,
          5,
          6,
          7,
          8,
          9
         ],
         "y": [
          2.4892916331416277,
          2.3798729874845774,
          2.3126752657425227,
          2.2946878690298407,
          2.2761078059592736,
          2.2941077645018426,
          2.2816380324743224,
          2.2830627135825643,
          2.274653720172843
         ],
         "yaxis": "y2"
        }
       ],
       "layout": {
        "font": {
         "color": "#FFF"
        },
        "height": 500,
        "legend": {
         "x": 0,
         "y": 1
        },
        "paper_bgcolor": "#000",
        "plot_bgcolor": "#000",
        "title": "Confidence after 250 Iterations at Glimpse 0",
        "titlefont": {
         "color": "#FFF"
        },
        "width": 500,
        "xaxis": {
         "dtick": 1,
         "range": [
          0.5,
          9.5
         ],
         "tickcolor": "#FFF",
         "title": "True Class"
        },
        "yaxis": {
         "dtick": 1,
         "range": [
          0.5,
          9.5
         ],
         "tickcolor": "#FFF",
         "title": "Mean"
        },
        "yaxis2": {
         "gridcolor": "#999",
         "overlaying": "y",
         "range": [
          0,
          3
         ],
         "side": "right",
         "tickcolor": "#FFF",
         "title": "Standard Deviation"
        }
       }
      },
      "text/html": [
       "<div id=\"ff6a2d52-88f1-4001-99f6-376c8d12423a\" style=\"height: 500px; width: 500px;\" class=\"plotly-graph-div\"></div><script type=\"text/javascript\">require([\"plotly\"], function(Plotly) { window.PLOTLYENV=window.PLOTLYENV || {};window.PLOTLYENV.BASE_URL=\"https://plot.ly\";Plotly.newPlot(\"ff6a2d52-88f1-4001-99f6-376c8d12423a\", [{\"x\": [1, 2, 3, 4, 5, 6, 7, 8, 9], \"type\": \"scatter\", \"name\": \"Mean\", \"y\": [5.279787216335921, 5.472982669737678, 5.5264009886193906, 5.590495318332972, 5.604577276768859, 5.596159777082359, 5.581857676352127, 5.6160586967690085, 5.612868493931897]}, {\"x\": [1, 2, 3, 4, 5, 6, 7, 8, 9], \"type\": \"scatter\", \"yaxis\": \"y2\", \"name\": \"Standard Deviation\", \"y\": [2.4892916331416277, 2.3798729874845774, 2.3126752657425227, 2.2946878690298407, 2.2761078059592736, 2.2941077645018426, 2.2816380324743224, 2.2830627135825643, 2.274653720172843]}], {\"xaxis\": {\"title\": \"True Class\", \"dtick\": 1, \"range\": [0.5, 9.5], \"tickcolor\": \"#FFF\"}, \"plot_bgcolor\": \"#000\", \"yaxis2\": {\"overlaying\": \"y\", \"range\": [0, 3], \"gridcolor\": \"#999\", \"title\": \"Standard Deviation\", \"side\": \"right\", \"tickcolor\": \"#FFF\"}, \"yaxis\": {\"title\": \"Mean\", \"dtick\": 1, \"range\": [0.5, 9.5], \"tickcolor\": \"#FFF\"}, \"paper_bgcolor\": \"#000\", \"height\": 500, \"titlefont\": {\"color\": \"#FFF\"}, \"title\": \"Confidence after 250 Iterations at Glimpse 0\", \"font\": {\"color\": \"#FFF\"}, \"width\": 500, \"legend\": {\"x\": 0, \"y\": 1}}, {\"showLink\": true, \"linkText\": \"Export to plot.ly\"})});</script>"
      ],
      "text/vnd.plotly.v1+html": [
       "<div id=\"ff6a2d52-88f1-4001-99f6-376c8d12423a\" style=\"height: 500px; width: 500px;\" class=\"plotly-graph-div\"></div><script type=\"text/javascript\">require([\"plotly\"], function(Plotly) { window.PLOTLYENV=window.PLOTLYENV || {};window.PLOTLYENV.BASE_URL=\"https://plot.ly\";Plotly.newPlot(\"ff6a2d52-88f1-4001-99f6-376c8d12423a\", [{\"x\": [1, 2, 3, 4, 5, 6, 7, 8, 9], \"type\": \"scatter\", \"name\": \"Mean\", \"y\": [5.279787216335921, 5.472982669737678, 5.5264009886193906, 5.590495318332972, 5.604577276768859, 5.596159777082359, 5.581857676352127, 5.6160586967690085, 5.612868493931897]}, {\"x\": [1, 2, 3, 4, 5, 6, 7, 8, 9], \"type\": \"scatter\", \"yaxis\": \"y2\", \"name\": \"Standard Deviation\", \"y\": [2.4892916331416277, 2.3798729874845774, 2.3126752657425227, 2.2946878690298407, 2.2761078059592736, 2.2941077645018426, 2.2816380324743224, 2.2830627135825643, 2.274653720172843]}], {\"xaxis\": {\"title\": \"True Class\", \"dtick\": 1, \"range\": [0.5, 9.5], \"tickcolor\": \"#FFF\"}, \"plot_bgcolor\": \"#000\", \"yaxis2\": {\"overlaying\": \"y\", \"range\": [0, 3], \"gridcolor\": \"#999\", \"title\": \"Standard Deviation\", \"side\": \"right\", \"tickcolor\": \"#FFF\"}, \"yaxis\": {\"title\": \"Mean\", \"dtick\": 1, \"range\": [0.5, 9.5], \"tickcolor\": \"#FFF\"}, \"paper_bgcolor\": \"#000\", \"height\": 500, \"titlefont\": {\"color\": \"#FFF\"}, \"title\": \"Confidence after 250 Iterations at Glimpse 0\", \"font\": {\"color\": \"#FFF\"}, \"width\": 500, \"legend\": {\"x\": 0, \"y\": 1}}, {\"showLink\": true, \"linkText\": \"Export to plot.ly\"})});</script>"
      ]
     },
     "metadata": {},
     "output_type": "display_data"
    },
    {
     "data": {
      "application/vnd.plotly.v1+json": {
       "data": [
        {
         "name": "Coefficient of Variation",
         "type": "scatter",
         "x": [
          1,
          2,
          3,
          4,
          5,
          6,
          7,
          8,
          9
         ],
         "y": [
          0.47794977781849324,
          0.44370213343249015,
          0.4304386992130292,
          0.4213573343712366,
          0.4177567071671728,
          0.4212593194292147,
          0.4189165617073994,
          0.4185216858351498,
          0.4168592310112296
         ]
        }
       ],
       "layout": {
        "font": {
         "color": "#FFF"
        },
        "height": 300,
        "paper_bgcolor": "#000",
        "plot_bgcolor": "#000",
        "title": "Confidence after 250 Iterations at Glimpse 0",
        "titlefont": {
         "color": "#FFF"
        },
        "width": 500,
        "xaxis": {
         "dtick": 1,
         "range": [
          0.5,
          9.5
         ],
         "tickcolor": "#FFF",
         "title": "True Class"
        },
        "yaxis": {
         "showgrid": true,
         "tickcolor": "#FFF",
         "title": "Coefficient of Variation"
        }
       }
      },
      "text/html": [
       "<div id=\"122e3e40-a0fe-4da1-8b89-3493a4f43d1e\" style=\"height: 300px; width: 500px;\" class=\"plotly-graph-div\"></div><script type=\"text/javascript\">require([\"plotly\"], function(Plotly) { window.PLOTLYENV=window.PLOTLYENV || {};window.PLOTLYENV.BASE_URL=\"https://plot.ly\";Plotly.newPlot(\"122e3e40-a0fe-4da1-8b89-3493a4f43d1e\", [{\"x\": [1, 2, 3, 4, 5, 6, 7, 8, 9], \"type\": \"scatter\", \"name\": \"Coefficient of Variation\", \"y\": [0.47794977781849324, 0.44370213343249015, 0.4304386992130292, 0.4213573343712366, 0.4177567071671728, 0.4212593194292147, 0.4189165617073994, 0.4185216858351498, 0.4168592310112296]}], {\"xaxis\": {\"title\": \"True Class\", \"dtick\": 1, \"range\": [0.5, 9.5], \"tickcolor\": \"#FFF\"}, \"plot_bgcolor\": \"#000\", \"titlefont\": {\"color\": \"#FFF\"}, \"paper_bgcolor\": \"#000\", \"height\": 300, \"yaxis\": {\"title\": \"Coefficient of Variation\", \"tickcolor\": \"#FFF\", \"showgrid\": true}, \"title\": \"Confidence after 250 Iterations at Glimpse 0\", \"font\": {\"color\": \"#FFF\"}, \"width\": 500}, {\"showLink\": true, \"linkText\": \"Export to plot.ly\"})});</script>"
      ],
      "text/vnd.plotly.v1+html": [
       "<div id=\"122e3e40-a0fe-4da1-8b89-3493a4f43d1e\" style=\"height: 300px; width: 500px;\" class=\"plotly-graph-div\"></div><script type=\"text/javascript\">require([\"plotly\"], function(Plotly) { window.PLOTLYENV=window.PLOTLYENV || {};window.PLOTLYENV.BASE_URL=\"https://plot.ly\";Plotly.newPlot(\"122e3e40-a0fe-4da1-8b89-3493a4f43d1e\", [{\"x\": [1, 2, 3, 4, 5, 6, 7, 8, 9], \"type\": \"scatter\", \"name\": \"Coefficient of Variation\", \"y\": [0.47794977781849324, 0.44370213343249015, 0.4304386992130292, 0.4213573343712366, 0.4177567071671728, 0.4212593194292147, 0.4189165617073994, 0.4185216858351498, 0.4168592310112296]}], {\"xaxis\": {\"title\": \"True Class\", \"dtick\": 1, \"range\": [0.5, 9.5], \"tickcolor\": \"#FFF\"}, \"plot_bgcolor\": \"#000\", \"titlefont\": {\"color\": \"#FFF\"}, \"paper_bgcolor\": \"#000\", \"height\": 300, \"yaxis\": {\"title\": \"Coefficient of Variation\", \"tickcolor\": \"#FFF\", \"showgrid\": true}, \"title\": \"Confidence after 250 Iterations at Glimpse 0\", \"font\": {\"color\": \"#FFF\"}, \"width\": 500}, {\"showLink\": true, \"linkText\": \"Export to plot.ly\"})});</script>"
      ]
     },
     "metadata": {},
     "output_type": "display_data"
    },
    {
     "data": {
      "application/vnd.plotly.v1+json": {
       "data": [
        {
         "name": "Mean",
         "type": "scatter",
         "x": [
          1,
          2,
          3,
          4,
          5,
          6,
          7,
          8,
          9
         ],
         "y": [
          4.8884,
          5.4334,
          5.5402000000000005,
          5.5938,
          5.6106,
          5.6006,
          5.5864,
          5.6223,
          5.613200000000001
         ]
        },
        {
         "name": "Standard Deviation",
         "type": "scatter",
         "x": [
          1,
          2,
          3,
          4,
          5,
          6,
          7,
          8,
          9
         ],
         "y": [
          2.563008616225866,
          2.3817589310371816,
          2.2952718497476328,
          2.284706475987483,
          2.269228009490218,
          2.289005637205408,
          2.275725680519007,
          2.2807996592810627,
          2.2701713387660236
         ],
         "yaxis": "y2"
        }
       ],
       "layout": {
        "font": {
         "color": "#FFF"
        },
        "height": 500,
        "legend": {
         "x": 0,
         "y": 1
        },
        "paper_bgcolor": "#000",
        "plot_bgcolor": "#000",
        "title": "Choice after 250 Iterations at Glimpse 0",
        "titlefont": {
         "color": "#FFF"
        },
        "width": 500,
        "xaxis": {
         "dtick": 1,
         "range": [
          0.5,
          9.5
         ],
         "tickcolor": "#FFF",
         "title": "True Class"
        },
        "yaxis": {
         "dtick": 1,
         "range": [
          0.5,
          9.5
         ],
         "tickcolor": "#FFF",
         "title": "Mean"
        },
        "yaxis2": {
         "gridcolor": "#999",
         "overlaying": "y",
         "range": [
          0,
          3
         ],
         "side": "right",
         "tickcolor": "#FFF",
         "title": "Standard Deviation"
        }
       }
      },
      "text/html": [
       "<div id=\"f722ba60-6e19-4e8f-8018-06d26f992391\" style=\"height: 500px; width: 500px;\" class=\"plotly-graph-div\"></div><script type=\"text/javascript\">require([\"plotly\"], function(Plotly) { window.PLOTLYENV=window.PLOTLYENV || {};window.PLOTLYENV.BASE_URL=\"https://plot.ly\";Plotly.newPlot(\"f722ba60-6e19-4e8f-8018-06d26f992391\", [{\"x\": [1, 2, 3, 4, 5, 6, 7, 8, 9], \"type\": \"scatter\", \"name\": \"Mean\", \"y\": [4.8884, 5.4334, 5.5402000000000005, 5.5938, 5.6106, 5.6006, 5.5864, 5.6223, 5.613200000000001]}, {\"x\": [1, 2, 3, 4, 5, 6, 7, 8, 9], \"type\": \"scatter\", \"yaxis\": \"y2\", \"name\": \"Standard Deviation\", \"y\": [2.563008616225866, 2.3817589310371816, 2.2952718497476328, 2.284706475987483, 2.269228009490218, 2.289005637205408, 2.275725680519007, 2.2807996592810627, 2.2701713387660236]}], {\"xaxis\": {\"title\": \"True Class\", \"dtick\": 1, \"range\": [0.5, 9.5], \"tickcolor\": \"#FFF\"}, \"plot_bgcolor\": \"#000\", \"yaxis2\": {\"overlaying\": \"y\", \"range\": [0, 3], \"gridcolor\": \"#999\", \"title\": \"Standard Deviation\", \"side\": \"right\", \"tickcolor\": \"#FFF\"}, \"yaxis\": {\"title\": \"Mean\", \"dtick\": 1, \"range\": [0.5, 9.5], \"tickcolor\": \"#FFF\"}, \"paper_bgcolor\": \"#000\", \"height\": 500, \"titlefont\": {\"color\": \"#FFF\"}, \"title\": \"Choice after 250 Iterations at Glimpse 0\", \"font\": {\"color\": \"#FFF\"}, \"width\": 500, \"legend\": {\"x\": 0, \"y\": 1}}, {\"showLink\": true, \"linkText\": \"Export to plot.ly\"})});</script>"
      ],
      "text/vnd.plotly.v1+html": [
       "<div id=\"f722ba60-6e19-4e8f-8018-06d26f992391\" style=\"height: 500px; width: 500px;\" class=\"plotly-graph-div\"></div><script type=\"text/javascript\">require([\"plotly\"], function(Plotly) { window.PLOTLYENV=window.PLOTLYENV || {};window.PLOTLYENV.BASE_URL=\"https://plot.ly\";Plotly.newPlot(\"f722ba60-6e19-4e8f-8018-06d26f992391\", [{\"x\": [1, 2, 3, 4, 5, 6, 7, 8, 9], \"type\": \"scatter\", \"name\": \"Mean\", \"y\": [4.8884, 5.4334, 5.5402000000000005, 5.5938, 5.6106, 5.6006, 5.5864, 5.6223, 5.613200000000001]}, {\"x\": [1, 2, 3, 4, 5, 6, 7, 8, 9], \"type\": \"scatter\", \"yaxis\": \"y2\", \"name\": \"Standard Deviation\", \"y\": [2.563008616225866, 2.3817589310371816, 2.2952718497476328, 2.284706475987483, 2.269228009490218, 2.289005637205408, 2.275725680519007, 2.2807996592810627, 2.2701713387660236]}], {\"xaxis\": {\"title\": \"True Class\", \"dtick\": 1, \"range\": [0.5, 9.5], \"tickcolor\": \"#FFF\"}, \"plot_bgcolor\": \"#000\", \"yaxis2\": {\"overlaying\": \"y\", \"range\": [0, 3], \"gridcolor\": \"#999\", \"title\": \"Standard Deviation\", \"side\": \"right\", \"tickcolor\": \"#FFF\"}, \"yaxis\": {\"title\": \"Mean\", \"dtick\": 1, \"range\": [0.5, 9.5], \"tickcolor\": \"#FFF\"}, \"paper_bgcolor\": \"#000\", \"height\": 500, \"titlefont\": {\"color\": \"#FFF\"}, \"title\": \"Choice after 250 Iterations at Glimpse 0\", \"font\": {\"color\": \"#FFF\"}, \"width\": 500, \"legend\": {\"x\": 0, \"y\": 1}}, {\"showLink\": true, \"linkText\": \"Export to plot.ly\"})});</script>"
      ]
     },
     "metadata": {},
     "output_type": "display_data"
    },
    {
     "data": {
      "application/vnd.plotly.v1+json": {
       "data": [
        {
         "name": "Coefficient of Variation",
         "type": "scatter",
         "x": [
          1,
          2,
          3,
          4,
          5,
          6,
          7,
          8,
          9
         ],
         "y": [
          0.547573611221308,
          0.45241637835402965,
          0.42848589090281985,
          0.4203010165210464,
          0.4165092099379023,
          0.4201103103902297,
          0.41755053418242005,
          0.417713258410677,
          0.41652799638180343
         ]
        }
       ],
       "layout": {
        "font": {
         "color": "#FFF"
        },
        "height": 300,
        "paper_bgcolor": "#000",
        "plot_bgcolor": "#000",
        "title": "Choice after 250 Iterations at Glimpse 0",
        "titlefont": {
         "color": "#FFF"
        },
        "width": 500,
        "xaxis": {
         "dtick": 1,
         "range": [
          0.5,
          9.5
         ],
         "tickcolor": "#FFF",
         "title": "True Class"
        },
        "yaxis": {
         "showgrid": true,
         "tickcolor": "#FFF",
         "title": "Coefficient of Variation"
        }
       }
      },
      "text/html": [
       "<div id=\"51884c1b-b622-4d00-9748-808a3c456709\" style=\"height: 300px; width: 500px;\" class=\"plotly-graph-div\"></div><script type=\"text/javascript\">require([\"plotly\"], function(Plotly) { window.PLOTLYENV=window.PLOTLYENV || {};window.PLOTLYENV.BASE_URL=\"https://plot.ly\";Plotly.newPlot(\"51884c1b-b622-4d00-9748-808a3c456709\", [{\"x\": [1, 2, 3, 4, 5, 6, 7, 8, 9], \"type\": \"scatter\", \"name\": \"Coefficient of Variation\", \"y\": [0.547573611221308, 0.45241637835402965, 0.42848589090281985, 0.4203010165210464, 0.4165092099379023, 0.4201103103902297, 0.41755053418242005, 0.417713258410677, 0.41652799638180343]}], {\"xaxis\": {\"title\": \"True Class\", \"dtick\": 1, \"range\": [0.5, 9.5], \"tickcolor\": \"#FFF\"}, \"plot_bgcolor\": \"#000\", \"titlefont\": {\"color\": \"#FFF\"}, \"paper_bgcolor\": \"#000\", \"height\": 300, \"yaxis\": {\"title\": \"Coefficient of Variation\", \"tickcolor\": \"#FFF\", \"showgrid\": true}, \"title\": \"Choice after 250 Iterations at Glimpse 0\", \"font\": {\"color\": \"#FFF\"}, \"width\": 500}, {\"showLink\": true, \"linkText\": \"Export to plot.ly\"})});</script>"
      ],
      "text/vnd.plotly.v1+html": [
       "<div id=\"51884c1b-b622-4d00-9748-808a3c456709\" style=\"height: 300px; width: 500px;\" class=\"plotly-graph-div\"></div><script type=\"text/javascript\">require([\"plotly\"], function(Plotly) { window.PLOTLYENV=window.PLOTLYENV || {};window.PLOTLYENV.BASE_URL=\"https://plot.ly\";Plotly.newPlot(\"51884c1b-b622-4d00-9748-808a3c456709\", [{\"x\": [1, 2, 3, 4, 5, 6, 7, 8, 9], \"type\": \"scatter\", \"name\": \"Coefficient of Variation\", \"y\": [0.547573611221308, 0.45241637835402965, 0.42848589090281985, 0.4203010165210464, 0.4165092099379023, 0.4201103103902297, 0.41755053418242005, 0.417713258410677, 0.41652799638180343]}], {\"xaxis\": {\"title\": \"True Class\", \"dtick\": 1, \"range\": [0.5, 9.5], \"tickcolor\": \"#FFF\"}, \"plot_bgcolor\": \"#000\", \"titlefont\": {\"color\": \"#FFF\"}, \"paper_bgcolor\": \"#000\", \"height\": 300, \"yaxis\": {\"title\": \"Coefficient of Variation\", \"tickcolor\": \"#FFF\", \"showgrid\": true}, \"title\": \"Choice after 250 Iterations at Glimpse 0\", \"font\": {\"color\": \"#FFF\"}, \"width\": 500}, {\"showLink\": true, \"linkText\": \"Export to plot.ly\"})});</script>"
      ]
     },
     "metadata": {},
     "output_type": "display_data"
    },
    {
     "data": {
      "application/vnd.plotly.v1+json": {
       "data": [
        {
         "name": "Mean",
         "type": "scatter",
         "x": [
          1,
          2,
          3,
          4,
          5,
          6,
          7,
          8,
          9
         ],
         "y": [
          5.404637516448967,
          5.521515497190585,
          5.531145617940991,
          5.555018686911626,
          5.545534555883532,
          5.568937074663347,
          5.582686020098103,
          5.5626239846866605,
          5.570342999852232
         ]
        },
        {
         "name": "Standard Deviation",
         "type": "scatter",
         "x": [
          1,
          2,
          3,
          4,
          5,
          6,
          7,
          8,
          9
         ],
         "y": [
          2.4418308800538115,
          2.363058706143533,
          2.3469015757025913,
          2.3287685085040564,
          2.323998750781489,
          2.325784060423791,
          2.320044730568459,
          2.313191316278857,
          2.3205684542215224
         ],
         "yaxis": "y2"
        }
       ],
       "layout": {
        "font": {
         "color": "#FFF"
        },
        "height": 500,
        "legend": {
         "x": 0,
         "y": 1
        },
        "paper_bgcolor": "#000",
        "plot_bgcolor": "#000",
        "title": "Confidence after 250 Iterations at Glimpse 3",
        "titlefont": {
         "color": "#FFF"
        },
        "width": 500,
        "xaxis": {
         "dtick": 1,
         "range": [
          0.5,
          9.5
         ],
         "tickcolor": "#FFF",
         "title": "True Class"
        },
        "yaxis": {
         "dtick": 1,
         "range": [
          0.5,
          9.5
         ],
         "tickcolor": "#FFF",
         "title": "Mean"
        },
        "yaxis2": {
         "gridcolor": "#999",
         "overlaying": "y",
         "range": [
          0,
          3
         ],
         "side": "right",
         "tickcolor": "#FFF",
         "title": "Standard Deviation"
        }
       }
      },
      "text/html": [
       "<div id=\"a39bfa44-4ff2-4b4f-bf58-bc12911e0fb4\" style=\"height: 500px; width: 500px;\" class=\"plotly-graph-div\"></div><script type=\"text/javascript\">require([\"plotly\"], function(Plotly) { window.PLOTLYENV=window.PLOTLYENV || {};window.PLOTLYENV.BASE_URL=\"https://plot.ly\";Plotly.newPlot(\"a39bfa44-4ff2-4b4f-bf58-bc12911e0fb4\", [{\"x\": [1, 2, 3, 4, 5, 6, 7, 8, 9], \"type\": \"scatter\", \"name\": \"Mean\", \"y\": [5.404637516448967, 5.521515497190585, 5.531145617940991, 5.555018686911626, 5.545534555883532, 5.568937074663347, 5.582686020098103, 5.5626239846866605, 5.570342999852232]}, {\"x\": [1, 2, 3, 4, 5, 6, 7, 8, 9], \"type\": \"scatter\", \"yaxis\": \"y2\", \"name\": \"Standard Deviation\", \"y\": [2.4418308800538115, 2.363058706143533, 2.3469015757025913, 2.3287685085040564, 2.323998750781489, 2.325784060423791, 2.320044730568459, 2.313191316278857, 2.3205684542215224]}], {\"xaxis\": {\"title\": \"True Class\", \"dtick\": 1, \"range\": [0.5, 9.5], \"tickcolor\": \"#FFF\"}, \"plot_bgcolor\": \"#000\", \"yaxis2\": {\"overlaying\": \"y\", \"range\": [0, 3], \"gridcolor\": \"#999\", \"title\": \"Standard Deviation\", \"side\": \"right\", \"tickcolor\": \"#FFF\"}, \"yaxis\": {\"title\": \"Mean\", \"dtick\": 1, \"range\": [0.5, 9.5], \"tickcolor\": \"#FFF\"}, \"paper_bgcolor\": \"#000\", \"height\": 500, \"titlefont\": {\"color\": \"#FFF\"}, \"title\": \"Confidence after 250 Iterations at Glimpse 3\", \"font\": {\"color\": \"#FFF\"}, \"width\": 500, \"legend\": {\"x\": 0, \"y\": 1}}, {\"showLink\": true, \"linkText\": \"Export to plot.ly\"})});</script>"
      ],
      "text/vnd.plotly.v1+html": [
       "<div id=\"a39bfa44-4ff2-4b4f-bf58-bc12911e0fb4\" style=\"height: 500px; width: 500px;\" class=\"plotly-graph-div\"></div><script type=\"text/javascript\">require([\"plotly\"], function(Plotly) { window.PLOTLYENV=window.PLOTLYENV || {};window.PLOTLYENV.BASE_URL=\"https://plot.ly\";Plotly.newPlot(\"a39bfa44-4ff2-4b4f-bf58-bc12911e0fb4\", [{\"x\": [1, 2, 3, 4, 5, 6, 7, 8, 9], \"type\": \"scatter\", \"name\": \"Mean\", \"y\": [5.404637516448967, 5.521515497190585, 5.531145617940991, 5.555018686911626, 5.545534555883532, 5.568937074663347, 5.582686020098103, 5.5626239846866605, 5.570342999852232]}, {\"x\": [1, 2, 3, 4, 5, 6, 7, 8, 9], \"type\": \"scatter\", \"yaxis\": \"y2\", \"name\": \"Standard Deviation\", \"y\": [2.4418308800538115, 2.363058706143533, 2.3469015757025913, 2.3287685085040564, 2.323998750781489, 2.325784060423791, 2.320044730568459, 2.313191316278857, 2.3205684542215224]}], {\"xaxis\": {\"title\": \"True Class\", \"dtick\": 1, \"range\": [0.5, 9.5], \"tickcolor\": \"#FFF\"}, \"plot_bgcolor\": \"#000\", \"yaxis2\": {\"overlaying\": \"y\", \"range\": [0, 3], \"gridcolor\": \"#999\", \"title\": \"Standard Deviation\", \"side\": \"right\", \"tickcolor\": \"#FFF\"}, \"yaxis\": {\"title\": \"Mean\", \"dtick\": 1, \"range\": [0.5, 9.5], \"tickcolor\": \"#FFF\"}, \"paper_bgcolor\": \"#000\", \"height\": 500, \"titlefont\": {\"color\": \"#FFF\"}, \"title\": \"Confidence after 250 Iterations at Glimpse 3\", \"font\": {\"color\": \"#FFF\"}, \"width\": 500, \"legend\": {\"x\": 0, \"y\": 1}}, {\"showLink\": true, \"linkText\": \"Export to plot.ly\"})});</script>"
      ]
     },
     "metadata": {},
     "output_type": "display_data"
    },
    {
     "data": {
      "application/vnd.plotly.v1+json": {
       "data": [
        {
         "name": "Coefficient of Variation",
         "type": "scatter",
         "x": [
          1,
          2,
          3,
          4,
          5,
          6,
          7,
          8,
          9
         ],
         "y": [
          0.46097928492924767,
          0.43633946718316147,
          0.4328231679078341,
          0.427904179973976,
          0.4276083353622736,
          0.427443424669641,
          0.4243229551778687,
          0.42602571281909085,
          0.4267877468994188
         ]
        }
       ],
       "layout": {
        "font": {
         "color": "#FFF"
        },
        "height": 300,
        "paper_bgcolor": "#000",
        "plot_bgcolor": "#000",
        "title": "Confidence after 250 Iterations at Glimpse 3",
        "titlefont": {
         "color": "#FFF"
        },
        "width": 500,
        "xaxis": {
         "dtick": 1,
         "range": [
          0.5,
          9.5
         ],
         "tickcolor": "#FFF",
         "title": "True Class"
        },
        "yaxis": {
         "showgrid": true,
         "tickcolor": "#FFF",
         "title": "Coefficient of Variation"
        }
       }
      },
      "text/html": [
       "<div id=\"520e7bac-ad10-4f57-a09e-a377afb7a1be\" style=\"height: 300px; width: 500px;\" class=\"plotly-graph-div\"></div><script type=\"text/javascript\">require([\"plotly\"], function(Plotly) { window.PLOTLYENV=window.PLOTLYENV || {};window.PLOTLYENV.BASE_URL=\"https://plot.ly\";Plotly.newPlot(\"520e7bac-ad10-4f57-a09e-a377afb7a1be\", [{\"x\": [1, 2, 3, 4, 5, 6, 7, 8, 9], \"type\": \"scatter\", \"name\": \"Coefficient of Variation\", \"y\": [0.46097928492924767, 0.43633946718316147, 0.4328231679078341, 0.427904179973976, 0.4276083353622736, 0.427443424669641, 0.4243229551778687, 0.42602571281909085, 0.4267877468994188]}], {\"xaxis\": {\"title\": \"True Class\", \"dtick\": 1, \"range\": [0.5, 9.5], \"tickcolor\": \"#FFF\"}, \"plot_bgcolor\": \"#000\", \"titlefont\": {\"color\": \"#FFF\"}, \"paper_bgcolor\": \"#000\", \"height\": 300, \"yaxis\": {\"title\": \"Coefficient of Variation\", \"tickcolor\": \"#FFF\", \"showgrid\": true}, \"title\": \"Confidence after 250 Iterations at Glimpse 3\", \"font\": {\"color\": \"#FFF\"}, \"width\": 500}, {\"showLink\": true, \"linkText\": \"Export to plot.ly\"})});</script>"
      ],
      "text/vnd.plotly.v1+html": [
       "<div id=\"520e7bac-ad10-4f57-a09e-a377afb7a1be\" style=\"height: 300px; width: 500px;\" class=\"plotly-graph-div\"></div><script type=\"text/javascript\">require([\"plotly\"], function(Plotly) { window.PLOTLYENV=window.PLOTLYENV || {};window.PLOTLYENV.BASE_URL=\"https://plot.ly\";Plotly.newPlot(\"520e7bac-ad10-4f57-a09e-a377afb7a1be\", [{\"x\": [1, 2, 3, 4, 5, 6, 7, 8, 9], \"type\": \"scatter\", \"name\": \"Coefficient of Variation\", \"y\": [0.46097928492924767, 0.43633946718316147, 0.4328231679078341, 0.427904179973976, 0.4276083353622736, 0.427443424669641, 0.4243229551778687, 0.42602571281909085, 0.4267877468994188]}], {\"xaxis\": {\"title\": \"True Class\", \"dtick\": 1, \"range\": [0.5, 9.5], \"tickcolor\": \"#FFF\"}, \"plot_bgcolor\": \"#000\", \"titlefont\": {\"color\": \"#FFF\"}, \"paper_bgcolor\": \"#000\", \"height\": 300, \"yaxis\": {\"title\": \"Coefficient of Variation\", \"tickcolor\": \"#FFF\", \"showgrid\": true}, \"title\": \"Confidence after 250 Iterations at Glimpse 3\", \"font\": {\"color\": \"#FFF\"}, \"width\": 500}, {\"showLink\": true, \"linkText\": \"Export to plot.ly\"})});</script>"
      ]
     },
     "metadata": {},
     "output_type": "display_data"
    },
    {
     "data": {
      "application/vnd.plotly.v1+json": {
       "data": [
        {
         "name": "Mean",
         "type": "scatter",
         "x": [
          1,
          2,
          3,
          4,
          5,
          6,
          7,
          8,
          9
         ],
         "y": [
          5.3631,
          5.5209,
          5.5329999999999995,
          5.5528,
          5.5501000000000005,
          5.567800000000001,
          5.588500000000001,
          5.560300000000001,
          5.576300000000001
         ]
        },
        {
         "name": "Standard Deviation",
         "type": "scatter",
         "x": [
          1,
          2,
          3,
          4,
          5,
          6,
          7,
          8,
          9
         ],
         "y": [
          2.456842962237018,
          2.3613961150286,
          2.3425926330651143,
          2.329285849239831,
          2.3205670024105056,
          2.3222869346111255,
          2.319182027976498,
          2.314699404613415,
          2.3179010295121816
         ],
         "yaxis": "y2"
        }
       ],
       "layout": {
        "font": {
         "color": "#FFF"
        },
        "height": 500,
        "legend": {
         "x": 0,
         "y": 1
        },
        "paper_bgcolor": "#000",
        "plot_bgcolor": "#000",
        "title": "Choice after 250 Iterations at Glimpse 3",
        "titlefont": {
         "color": "#FFF"
        },
        "width": 500,
        "xaxis": {
         "dtick": 1,
         "range": [
          0.5,
          9.5
         ],
         "tickcolor": "#FFF",
         "title": "True Class"
        },
        "yaxis": {
         "dtick": 1,
         "range": [
          0.5,
          9.5
         ],
         "tickcolor": "#FFF",
         "title": "Mean"
        },
        "yaxis2": {
         "gridcolor": "#999",
         "overlaying": "y",
         "range": [
          0,
          3
         ],
         "side": "right",
         "tickcolor": "#FFF",
         "title": "Standard Deviation"
        }
       }
      },
      "text/html": [
       "<div id=\"b959a658-c2fe-43b3-886b-1976e620ab78\" style=\"height: 500px; width: 500px;\" class=\"plotly-graph-div\"></div><script type=\"text/javascript\">require([\"plotly\"], function(Plotly) { window.PLOTLYENV=window.PLOTLYENV || {};window.PLOTLYENV.BASE_URL=\"https://plot.ly\";Plotly.newPlot(\"b959a658-c2fe-43b3-886b-1976e620ab78\", [{\"x\": [1, 2, 3, 4, 5, 6, 7, 8, 9], \"type\": \"scatter\", \"name\": \"Mean\", \"y\": [5.3631, 5.5209, 5.5329999999999995, 5.5528, 5.5501000000000005, 5.567800000000001, 5.588500000000001, 5.560300000000001, 5.576300000000001]}, {\"x\": [1, 2, 3, 4, 5, 6, 7, 8, 9], \"type\": \"scatter\", \"yaxis\": \"y2\", \"name\": \"Standard Deviation\", \"y\": [2.456842962237018, 2.3613961150286, 2.3425926330651143, 2.329285849239831, 2.3205670024105056, 2.3222869346111255, 2.319182027976498, 2.314699404613415, 2.3179010295121816]}], {\"xaxis\": {\"title\": \"True Class\", \"dtick\": 1, \"range\": [0.5, 9.5], \"tickcolor\": \"#FFF\"}, \"plot_bgcolor\": \"#000\", \"yaxis2\": {\"overlaying\": \"y\", \"range\": [0, 3], \"gridcolor\": \"#999\", \"title\": \"Standard Deviation\", \"side\": \"right\", \"tickcolor\": \"#FFF\"}, \"yaxis\": {\"title\": \"Mean\", \"dtick\": 1, \"range\": [0.5, 9.5], \"tickcolor\": \"#FFF\"}, \"paper_bgcolor\": \"#000\", \"height\": 500, \"titlefont\": {\"color\": \"#FFF\"}, \"title\": \"Choice after 250 Iterations at Glimpse 3\", \"font\": {\"color\": \"#FFF\"}, \"width\": 500, \"legend\": {\"x\": 0, \"y\": 1}}, {\"showLink\": true, \"linkText\": \"Export to plot.ly\"})});</script>"
      ],
      "text/vnd.plotly.v1+html": [
       "<div id=\"b959a658-c2fe-43b3-886b-1976e620ab78\" style=\"height: 500px; width: 500px;\" class=\"plotly-graph-div\"></div><script type=\"text/javascript\">require([\"plotly\"], function(Plotly) { window.PLOTLYENV=window.PLOTLYENV || {};window.PLOTLYENV.BASE_URL=\"https://plot.ly\";Plotly.newPlot(\"b959a658-c2fe-43b3-886b-1976e620ab78\", [{\"x\": [1, 2, 3, 4, 5, 6, 7, 8, 9], \"type\": \"scatter\", \"name\": \"Mean\", \"y\": [5.3631, 5.5209, 5.5329999999999995, 5.5528, 5.5501000000000005, 5.567800000000001, 5.588500000000001, 5.560300000000001, 5.576300000000001]}, {\"x\": [1, 2, 3, 4, 5, 6, 7, 8, 9], \"type\": \"scatter\", \"yaxis\": \"y2\", \"name\": \"Standard Deviation\", \"y\": [2.456842962237018, 2.3613961150286, 2.3425926330651143, 2.329285849239831, 2.3205670024105056, 2.3222869346111255, 2.319182027976498, 2.314699404613415, 2.3179010295121816]}], {\"xaxis\": {\"title\": \"True Class\", \"dtick\": 1, \"range\": [0.5, 9.5], \"tickcolor\": \"#FFF\"}, \"plot_bgcolor\": \"#000\", \"yaxis2\": {\"overlaying\": \"y\", \"range\": [0, 3], \"gridcolor\": \"#999\", \"title\": \"Standard Deviation\", \"side\": \"right\", \"tickcolor\": \"#FFF\"}, \"yaxis\": {\"title\": \"Mean\", \"dtick\": 1, \"range\": [0.5, 9.5], \"tickcolor\": \"#FFF\"}, \"paper_bgcolor\": \"#000\", \"height\": 500, \"titlefont\": {\"color\": \"#FFF\"}, \"title\": \"Choice after 250 Iterations at Glimpse 3\", \"font\": {\"color\": \"#FFF\"}, \"width\": 500, \"legend\": {\"x\": 0, \"y\": 1}}, {\"showLink\": true, \"linkText\": \"Export to plot.ly\"})});</script>"
      ]
     },
     "metadata": {},
     "output_type": "display_data"
    },
    {
     "data": {
      "application/vnd.plotly.v1+json": {
       "data": [
        {
         "name": "Coefficient of Variation",
         "type": "scatter",
         "x": [
          1,
          2,
          3,
          4,
          5,
          6,
          7,
          8,
          9
         ],
         "y": [
          0.4689951810029072,
          0.4359381617561354,
          0.4322251613580209,
          0.4280941932694108,
          0.4267742381933487,
          0.4267373059889441,
          0.42362280088142734,
          0.42634763490865507,
          0.426051565509451
         ]
        }
       ],
       "layout": {
        "font": {
         "color": "#FFF"
        },
        "height": 300,
        "paper_bgcolor": "#000",
        "plot_bgcolor": "#000",
        "title": "Choice after 250 Iterations at Glimpse 3",
        "titlefont": {
         "color": "#FFF"
        },
        "width": 500,
        "xaxis": {
         "dtick": 1,
         "range": [
          0.5,
          9.5
         ],
         "tickcolor": "#FFF",
         "title": "True Class"
        },
        "yaxis": {
         "showgrid": true,
         "tickcolor": "#FFF",
         "title": "Coefficient of Variation"
        }
       }
      },
      "text/html": [
       "<div id=\"c1b4287e-18e5-4341-a3bf-a0c9fbd1f742\" style=\"height: 300px; width: 500px;\" class=\"plotly-graph-div\"></div><script type=\"text/javascript\">require([\"plotly\"], function(Plotly) { window.PLOTLYENV=window.PLOTLYENV || {};window.PLOTLYENV.BASE_URL=\"https://plot.ly\";Plotly.newPlot(\"c1b4287e-18e5-4341-a3bf-a0c9fbd1f742\", [{\"x\": [1, 2, 3, 4, 5, 6, 7, 8, 9], \"type\": \"scatter\", \"name\": \"Coefficient of Variation\", \"y\": [0.4689951810029072, 0.4359381617561354, 0.4322251613580209, 0.4280941932694108, 0.4267742381933487, 0.4267373059889441, 0.42362280088142734, 0.42634763490865507, 0.426051565509451]}], {\"xaxis\": {\"title\": \"True Class\", \"dtick\": 1, \"range\": [0.5, 9.5], \"tickcolor\": \"#FFF\"}, \"plot_bgcolor\": \"#000\", \"titlefont\": {\"color\": \"#FFF\"}, \"paper_bgcolor\": \"#000\", \"height\": 300, \"yaxis\": {\"title\": \"Coefficient of Variation\", \"tickcolor\": \"#FFF\", \"showgrid\": true}, \"title\": \"Choice after 250 Iterations at Glimpse 3\", \"font\": {\"color\": \"#FFF\"}, \"width\": 500}, {\"showLink\": true, \"linkText\": \"Export to plot.ly\"})});</script>"
      ],
      "text/vnd.plotly.v1+html": [
       "<div id=\"c1b4287e-18e5-4341-a3bf-a0c9fbd1f742\" style=\"height: 300px; width: 500px;\" class=\"plotly-graph-div\"></div><script type=\"text/javascript\">require([\"plotly\"], function(Plotly) { window.PLOTLYENV=window.PLOTLYENV || {};window.PLOTLYENV.BASE_URL=\"https://plot.ly\";Plotly.newPlot(\"c1b4287e-18e5-4341-a3bf-a0c9fbd1f742\", [{\"x\": [1, 2, 3, 4, 5, 6, 7, 8, 9], \"type\": \"scatter\", \"name\": \"Coefficient of Variation\", \"y\": [0.4689951810029072, 0.4359381617561354, 0.4322251613580209, 0.4280941932694108, 0.4267742381933487, 0.4267373059889441, 0.42362280088142734, 0.42634763490865507, 0.426051565509451]}], {\"xaxis\": {\"title\": \"True Class\", \"dtick\": 1, \"range\": [0.5, 9.5], \"tickcolor\": \"#FFF\"}, \"plot_bgcolor\": \"#000\", \"titlefont\": {\"color\": \"#FFF\"}, \"paper_bgcolor\": \"#000\", \"height\": 300, \"yaxis\": {\"title\": \"Coefficient of Variation\", \"tickcolor\": \"#FFF\", \"showgrid\": true}, \"title\": \"Choice after 250 Iterations at Glimpse 3\", \"font\": {\"color\": \"#FFF\"}, \"width\": 500}, {\"showLink\": true, \"linkText\": \"Export to plot.ly\"})});</script>"
      ]
     },
     "metadata": {},
     "output_type": "display_data"
    },
    {
     "data": {
      "application/vnd.plotly.v1+json": {
       "data": [
        {
         "name": "Mean",
         "type": "scatter",
         "x": [
          1,
          2,
          3,
          4,
          5,
          6,
          7,
          8,
          9
         ],
         "y": [
          5.153985059843636,
          5.279816491468456,
          5.379688876730969,
          5.375154380882303,
          5.3715620862884546,
          5.37620222813022,
          5.3865117114557535,
          5.396556142358532,
          5.406940060455143
         ]
        },
        {
         "name": "Standard Deviation",
         "type": "scatter",
         "x": [
          1,
          2,
          3,
          4,
          5,
          6,
          7,
          8,
          9
         ],
         "y": [
          2.4315899008450415,
          2.3844537129970123,
          2.3605151125398915,
          2.355286135127293,
          2.331998412450826,
          2.357198123495366,
          2.348713310357225,
          2.352727469780828,
          2.3370344119075654
         ],
         "yaxis": "y2"
        }
       ],
       "layout": {
        "font": {
         "color": "#FFF"
        },
        "height": 500,
        "legend": {
         "x": 0,
         "y": 1
        },
        "paper_bgcolor": "#000",
        "plot_bgcolor": "#000",
        "title": "Confidence after 250 Iterations at Glimpse 9",
        "titlefont": {
         "color": "#FFF"
        },
        "width": 500,
        "xaxis": {
         "dtick": 1,
         "range": [
          0.5,
          9.5
         ],
         "tickcolor": "#FFF",
         "title": "True Class"
        },
        "yaxis": {
         "dtick": 1,
         "range": [
          0.5,
          9.5
         ],
         "tickcolor": "#FFF",
         "title": "Mean"
        },
        "yaxis2": {
         "gridcolor": "#999",
         "overlaying": "y",
         "range": [
          0,
          3
         ],
         "side": "right",
         "tickcolor": "#FFF",
         "title": "Standard Deviation"
        }
       }
      },
      "text/html": [
       "<div id=\"e2fdfbc3-2107-409e-b711-033c3d68c53a\" style=\"height: 500px; width: 500px;\" class=\"plotly-graph-div\"></div><script type=\"text/javascript\">require([\"plotly\"], function(Plotly) { window.PLOTLYENV=window.PLOTLYENV || {};window.PLOTLYENV.BASE_URL=\"https://plot.ly\";Plotly.newPlot(\"e2fdfbc3-2107-409e-b711-033c3d68c53a\", [{\"x\": [1, 2, 3, 4, 5, 6, 7, 8, 9], \"type\": \"scatter\", \"name\": \"Mean\", \"y\": [5.153985059843636, 5.279816491468456, 5.379688876730969, 5.375154380882303, 5.3715620862884546, 5.37620222813022, 5.3865117114557535, 5.396556142358532, 5.406940060455143]}, {\"x\": [1, 2, 3, 4, 5, 6, 7, 8, 9], \"type\": \"scatter\", \"yaxis\": \"y2\", \"name\": \"Standard Deviation\", \"y\": [2.4315899008450415, 2.3844537129970123, 2.3605151125398915, 2.355286135127293, 2.331998412450826, 2.357198123495366, 2.348713310357225, 2.352727469780828, 2.3370344119075654]}], {\"xaxis\": {\"title\": \"True Class\", \"dtick\": 1, \"range\": [0.5, 9.5], \"tickcolor\": \"#FFF\"}, \"plot_bgcolor\": \"#000\", \"yaxis2\": {\"overlaying\": \"y\", \"range\": [0, 3], \"gridcolor\": \"#999\", \"title\": \"Standard Deviation\", \"side\": \"right\", \"tickcolor\": \"#FFF\"}, \"yaxis\": {\"title\": \"Mean\", \"dtick\": 1, \"range\": [0.5, 9.5], \"tickcolor\": \"#FFF\"}, \"paper_bgcolor\": \"#000\", \"height\": 500, \"titlefont\": {\"color\": \"#FFF\"}, \"title\": \"Confidence after 250 Iterations at Glimpse 9\", \"font\": {\"color\": \"#FFF\"}, \"width\": 500, \"legend\": {\"x\": 0, \"y\": 1}}, {\"showLink\": true, \"linkText\": \"Export to plot.ly\"})});</script>"
      ],
      "text/vnd.plotly.v1+html": [
       "<div id=\"e2fdfbc3-2107-409e-b711-033c3d68c53a\" style=\"height: 500px; width: 500px;\" class=\"plotly-graph-div\"></div><script type=\"text/javascript\">require([\"plotly\"], function(Plotly) { window.PLOTLYENV=window.PLOTLYENV || {};window.PLOTLYENV.BASE_URL=\"https://plot.ly\";Plotly.newPlot(\"e2fdfbc3-2107-409e-b711-033c3d68c53a\", [{\"x\": [1, 2, 3, 4, 5, 6, 7, 8, 9], \"type\": \"scatter\", \"name\": \"Mean\", \"y\": [5.153985059843636, 5.279816491468456, 5.379688876730969, 5.375154380882303, 5.3715620862884546, 5.37620222813022, 5.3865117114557535, 5.396556142358532, 5.406940060455143]}, {\"x\": [1, 2, 3, 4, 5, 6, 7, 8, 9], \"type\": \"scatter\", \"yaxis\": \"y2\", \"name\": \"Standard Deviation\", \"y\": [2.4315899008450415, 2.3844537129970123, 2.3605151125398915, 2.355286135127293, 2.331998412450826, 2.357198123495366, 2.348713310357225, 2.352727469780828, 2.3370344119075654]}], {\"xaxis\": {\"title\": \"True Class\", \"dtick\": 1, \"range\": [0.5, 9.5], \"tickcolor\": \"#FFF\"}, \"plot_bgcolor\": \"#000\", \"yaxis2\": {\"overlaying\": \"y\", \"range\": [0, 3], \"gridcolor\": \"#999\", \"title\": \"Standard Deviation\", \"side\": \"right\", \"tickcolor\": \"#FFF\"}, \"yaxis\": {\"title\": \"Mean\", \"dtick\": 1, \"range\": [0.5, 9.5], \"tickcolor\": \"#FFF\"}, \"paper_bgcolor\": \"#000\", \"height\": 500, \"titlefont\": {\"color\": \"#FFF\"}, \"title\": \"Confidence after 250 Iterations at Glimpse 9\", \"font\": {\"color\": \"#FFF\"}, \"width\": 500, \"legend\": {\"x\": 0, \"y\": 1}}, {\"showLink\": true, \"linkText\": \"Export to plot.ly\"})});</script>"
      ]
     },
     "metadata": {},
     "output_type": "display_data"
    },
    {
     "data": {
      "application/vnd.plotly.v1+json": {
       "data": [
        {
         "name": "Coefficient of Variation",
         "type": "scatter",
         "x": [
          1,
          2,
          3,
          4,
          5,
          6,
          7,
          8,
          9
         ],
         "y": [
          0.4878657275257,
          0.4651797523167966,
          0.4536668150858822,
          0.45235622207794784,
          0.4491568161599557,
          0.4538944226198266,
          0.4502651073145282,
          0.45116512029116845,
          0.44738254047818027
         ]
        }
       ],
       "layout": {
        "font": {
         "color": "#FFF"
        },
        "height": 300,
        "paper_bgcolor": "#000",
        "plot_bgcolor": "#000",
        "title": "Confidence after 250 Iterations at Glimpse 9",
        "titlefont": {
         "color": "#FFF"
        },
        "width": 500,
        "xaxis": {
         "dtick": 1,
         "range": [
          0.5,
          9.5
         ],
         "tickcolor": "#FFF",
         "title": "True Class"
        },
        "yaxis": {
         "showgrid": true,
         "tickcolor": "#FFF",
         "title": "Coefficient of Variation"
        }
       }
      },
      "text/html": [
       "<div id=\"c437c55b-6a43-422c-975c-80e2989ac371\" style=\"height: 300px; width: 500px;\" class=\"plotly-graph-div\"></div><script type=\"text/javascript\">require([\"plotly\"], function(Plotly) { window.PLOTLYENV=window.PLOTLYENV || {};window.PLOTLYENV.BASE_URL=\"https://plot.ly\";Plotly.newPlot(\"c437c55b-6a43-422c-975c-80e2989ac371\", [{\"x\": [1, 2, 3, 4, 5, 6, 7, 8, 9], \"type\": \"scatter\", \"name\": \"Coefficient of Variation\", \"y\": [0.4878657275257, 0.4651797523167966, 0.4536668150858822, 0.45235622207794784, 0.4491568161599557, 0.4538944226198266, 0.4502651073145282, 0.45116512029116845, 0.44738254047818027]}], {\"xaxis\": {\"title\": \"True Class\", \"dtick\": 1, \"range\": [0.5, 9.5], \"tickcolor\": \"#FFF\"}, \"plot_bgcolor\": \"#000\", \"titlefont\": {\"color\": \"#FFF\"}, \"paper_bgcolor\": \"#000\", \"height\": 300, \"yaxis\": {\"title\": \"Coefficient of Variation\", \"tickcolor\": \"#FFF\", \"showgrid\": true}, \"title\": \"Confidence after 250 Iterations at Glimpse 9\", \"font\": {\"color\": \"#FFF\"}, \"width\": 500}, {\"showLink\": true, \"linkText\": \"Export to plot.ly\"})});</script>"
      ],
      "text/vnd.plotly.v1+html": [
       "<div id=\"c437c55b-6a43-422c-975c-80e2989ac371\" style=\"height: 300px; width: 500px;\" class=\"plotly-graph-div\"></div><script type=\"text/javascript\">require([\"plotly\"], function(Plotly) { window.PLOTLYENV=window.PLOTLYENV || {};window.PLOTLYENV.BASE_URL=\"https://plot.ly\";Plotly.newPlot(\"c437c55b-6a43-422c-975c-80e2989ac371\", [{\"x\": [1, 2, 3, 4, 5, 6, 7, 8, 9], \"type\": \"scatter\", \"name\": \"Coefficient of Variation\", \"y\": [0.4878657275257, 0.4651797523167966, 0.4536668150858822, 0.45235622207794784, 0.4491568161599557, 0.4538944226198266, 0.4502651073145282, 0.45116512029116845, 0.44738254047818027]}], {\"xaxis\": {\"title\": \"True Class\", \"dtick\": 1, \"range\": [0.5, 9.5], \"tickcolor\": \"#FFF\"}, \"plot_bgcolor\": \"#000\", \"titlefont\": {\"color\": \"#FFF\"}, \"paper_bgcolor\": \"#000\", \"height\": 300, \"yaxis\": {\"title\": \"Coefficient of Variation\", \"tickcolor\": \"#FFF\", \"showgrid\": true}, \"title\": \"Confidence after 250 Iterations at Glimpse 9\", \"font\": {\"color\": \"#FFF\"}, \"width\": 500}, {\"showLink\": true, \"linkText\": \"Export to plot.ly\"})});</script>"
      ]
     },
     "metadata": {},
     "output_type": "display_data"
    },
    {
     "data": {
      "application/vnd.plotly.v1+json": {
       "data": [
        {
         "name": "Mean",
         "type": "scatter",
         "x": [
          1,
          2,
          3,
          4,
          5,
          6,
          7,
          8,
          9
         ],
         "y": [
          5.1841,
          5.2805,
          5.3904000000000005,
          5.375,
          5.3722,
          5.376900000000001,
          5.3892,
          5.4025,
          5.408800000000001
         ]
        },
        {
         "name": "Standard Deviation",
         "type": "scatter",
         "x": [
          1,
          2,
          3,
          4,
          5,
          6,
          7,
          8,
          9
         ],
         "y": [
          2.4115908483946003,
          2.3760800971467235,
          2.360238300962113,
          2.352209348276652,
          2.334216336198917,
          2.3584618464212106,
          2.3497982679494265,
          2.3533797405743373,
          2.338699679810468
         ],
         "yaxis": "y2"
        }
       ],
       "layout": {
        "font": {
         "color": "#FFF"
        },
        "height": 500,
        "legend": {
         "x": 0,
         "y": 1
        },
        "paper_bgcolor": "#000",
        "plot_bgcolor": "#000",
        "title": "Choice after 250 Iterations at Glimpse 9",
        "titlefont": {
         "color": "#FFF"
        },
        "width": 500,
        "xaxis": {
         "dtick": 1,
         "range": [
          0.5,
          9.5
         ],
         "tickcolor": "#FFF",
         "title": "True Class"
        },
        "yaxis": {
         "dtick": 1,
         "range": [
          0.5,
          9.5
         ],
         "tickcolor": "#FFF",
         "title": "Mean"
        },
        "yaxis2": {
         "gridcolor": "#999",
         "overlaying": "y",
         "range": [
          0,
          3
         ],
         "side": "right",
         "tickcolor": "#FFF",
         "title": "Standard Deviation"
        }
       }
      },
      "text/html": [
       "<div id=\"f6e421eb-48da-4843-a49b-751967765275\" style=\"height: 500px; width: 500px;\" class=\"plotly-graph-div\"></div><script type=\"text/javascript\">require([\"plotly\"], function(Plotly) { window.PLOTLYENV=window.PLOTLYENV || {};window.PLOTLYENV.BASE_URL=\"https://plot.ly\";Plotly.newPlot(\"f6e421eb-48da-4843-a49b-751967765275\", [{\"x\": [1, 2, 3, 4, 5, 6, 7, 8, 9], \"type\": \"scatter\", \"name\": \"Mean\", \"y\": [5.1841, 5.2805, 5.3904000000000005, 5.375, 5.3722, 5.376900000000001, 5.3892, 5.4025, 5.408800000000001]}, {\"x\": [1, 2, 3, 4, 5, 6, 7, 8, 9], \"type\": \"scatter\", \"yaxis\": \"y2\", \"name\": \"Standard Deviation\", \"y\": [2.4115908483946003, 2.3760800971467235, 2.360238300962113, 2.352209348276652, 2.334216336198917, 2.3584618464212106, 2.3497982679494265, 2.3533797405743373, 2.338699679810468]}], {\"xaxis\": {\"title\": \"True Class\", \"dtick\": 1, \"range\": [0.5, 9.5], \"tickcolor\": \"#FFF\"}, \"plot_bgcolor\": \"#000\", \"yaxis2\": {\"overlaying\": \"y\", \"range\": [0, 3], \"gridcolor\": \"#999\", \"title\": \"Standard Deviation\", \"side\": \"right\", \"tickcolor\": \"#FFF\"}, \"yaxis\": {\"title\": \"Mean\", \"dtick\": 1, \"range\": [0.5, 9.5], \"tickcolor\": \"#FFF\"}, \"paper_bgcolor\": \"#000\", \"height\": 500, \"titlefont\": {\"color\": \"#FFF\"}, \"title\": \"Choice after 250 Iterations at Glimpse 9\", \"font\": {\"color\": \"#FFF\"}, \"width\": 500, \"legend\": {\"x\": 0, \"y\": 1}}, {\"showLink\": true, \"linkText\": \"Export to plot.ly\"})});</script>"
      ],
      "text/vnd.plotly.v1+html": [
       "<div id=\"f6e421eb-48da-4843-a49b-751967765275\" style=\"height: 500px; width: 500px;\" class=\"plotly-graph-div\"></div><script type=\"text/javascript\">require([\"plotly\"], function(Plotly) { window.PLOTLYENV=window.PLOTLYENV || {};window.PLOTLYENV.BASE_URL=\"https://plot.ly\";Plotly.newPlot(\"f6e421eb-48da-4843-a49b-751967765275\", [{\"x\": [1, 2, 3, 4, 5, 6, 7, 8, 9], \"type\": \"scatter\", \"name\": \"Mean\", \"y\": [5.1841, 5.2805, 5.3904000000000005, 5.375, 5.3722, 5.376900000000001, 5.3892, 5.4025, 5.408800000000001]}, {\"x\": [1, 2, 3, 4, 5, 6, 7, 8, 9], \"type\": \"scatter\", \"yaxis\": \"y2\", \"name\": \"Standard Deviation\", \"y\": [2.4115908483946003, 2.3760800971467235, 2.360238300962113, 2.352209348276652, 2.334216336198917, 2.3584618464212106, 2.3497982679494265, 2.3533797405743373, 2.338699679810468]}], {\"xaxis\": {\"title\": \"True Class\", \"dtick\": 1, \"range\": [0.5, 9.5], \"tickcolor\": \"#FFF\"}, \"plot_bgcolor\": \"#000\", \"yaxis2\": {\"overlaying\": \"y\", \"range\": [0, 3], \"gridcolor\": \"#999\", \"title\": \"Standard Deviation\", \"side\": \"right\", \"tickcolor\": \"#FFF\"}, \"yaxis\": {\"title\": \"Mean\", \"dtick\": 1, \"range\": [0.5, 9.5], \"tickcolor\": \"#FFF\"}, \"paper_bgcolor\": \"#000\", \"height\": 500, \"titlefont\": {\"color\": \"#FFF\"}, \"title\": \"Choice after 250 Iterations at Glimpse 9\", \"font\": {\"color\": \"#FFF\"}, \"width\": 500, \"legend\": {\"x\": 0, \"y\": 1}}, {\"showLink\": true, \"linkText\": \"Export to plot.ly\"})});</script>"
      ]
     },
     "metadata": {},
     "output_type": "display_data"
    },
    {
     "data": {
      "application/vnd.plotly.v1+json": {
       "data": [
        {
         "name": "Coefficient of Variation",
         "type": "scatter",
         "x": [
          1,
          2,
          3,
          4,
          5,
          6,
          7,
          8,
          9
         ],
         "y": [
          0.4830041424450321,
          0.46394610030808564,
          0.45248543871871627,
          0.4519627083489559,
          0.4495431785938795,
          0.4540013135927663,
          0.45013800896785633,
          0.4508403369670619,
          0.4473649695676468
         ]
        }
       ],
       "layout": {
        "font": {
         "color": "#FFF"
        },
        "height": 300,
        "paper_bgcolor": "#000",
        "plot_bgcolor": "#000",
        "title": "Choice after 250 Iterations at Glimpse 9",
        "titlefont": {
         "color": "#FFF"
        },
        "width": 500,
        "xaxis": {
         "dtick": 1,
         "range": [
          0.5,
          9.5
         ],
         "tickcolor": "#FFF",
         "title": "True Class"
        },
        "yaxis": {
         "showgrid": true,
         "tickcolor": "#FFF",
         "title": "Coefficient of Variation"
        }
       }
      },
      "text/html": [
       "<div id=\"1c472d79-12b5-44f0-9d2d-8fc304dde12e\" style=\"height: 300px; width: 500px;\" class=\"plotly-graph-div\"></div><script type=\"text/javascript\">require([\"plotly\"], function(Plotly) { window.PLOTLYENV=window.PLOTLYENV || {};window.PLOTLYENV.BASE_URL=\"https://plot.ly\";Plotly.newPlot(\"1c472d79-12b5-44f0-9d2d-8fc304dde12e\", [{\"x\": [1, 2, 3, 4, 5, 6, 7, 8, 9], \"type\": \"scatter\", \"name\": \"Coefficient of Variation\", \"y\": [0.4830041424450321, 0.46394610030808564, 0.45248543871871627, 0.4519627083489559, 0.4495431785938795, 0.4540013135927663, 0.45013800896785633, 0.4508403369670619, 0.4473649695676468]}], {\"xaxis\": {\"title\": \"True Class\", \"dtick\": 1, \"range\": [0.5, 9.5], \"tickcolor\": \"#FFF\"}, \"plot_bgcolor\": \"#000\", \"titlefont\": {\"color\": \"#FFF\"}, \"paper_bgcolor\": \"#000\", \"height\": 300, \"yaxis\": {\"title\": \"Coefficient of Variation\", \"tickcolor\": \"#FFF\", \"showgrid\": true}, \"title\": \"Choice after 250 Iterations at Glimpse 9\", \"font\": {\"color\": \"#FFF\"}, \"width\": 500}, {\"showLink\": true, \"linkText\": \"Export to plot.ly\"})});</script>"
      ],
      "text/vnd.plotly.v1+html": [
       "<div id=\"1c472d79-12b5-44f0-9d2d-8fc304dde12e\" style=\"height: 300px; width: 500px;\" class=\"plotly-graph-div\"></div><script type=\"text/javascript\">require([\"plotly\"], function(Plotly) { window.PLOTLYENV=window.PLOTLYENV || {};window.PLOTLYENV.BASE_URL=\"https://plot.ly\";Plotly.newPlot(\"1c472d79-12b5-44f0-9d2d-8fc304dde12e\", [{\"x\": [1, 2, 3, 4, 5, 6, 7, 8, 9], \"type\": \"scatter\", \"name\": \"Coefficient of Variation\", \"y\": [0.4830041424450321, 0.46394610030808564, 0.45248543871871627, 0.4519627083489559, 0.4495431785938795, 0.4540013135927663, 0.45013800896785633, 0.4508403369670619, 0.4473649695676468]}], {\"xaxis\": {\"title\": \"True Class\", \"dtick\": 1, \"range\": [0.5, 9.5], \"tickcolor\": \"#FFF\"}, \"plot_bgcolor\": \"#000\", \"titlefont\": {\"color\": \"#FFF\"}, \"paper_bgcolor\": \"#000\", \"height\": 300, \"yaxis\": {\"title\": \"Coefficient of Variation\", \"tickcolor\": \"#FFF\", \"showgrid\": true}, \"title\": \"Choice after 250 Iterations at Glimpse 9\", \"font\": {\"color\": \"#FFF\"}, \"width\": 500}, {\"showLink\": true, \"linkText\": \"Export to plot.ly\"})});</script>"
      ]
     },
     "metadata": {},
     "output_type": "display_data"
    },
    {
     "data": {
      "application/vnd.plotly.v1+json": {
       "data": [
        {
         "name": "Mean",
         "type": "scatter",
         "x": [
          1,
          2,
          3,
          4,
          5,
          6,
          7,
          8,
          9
         ],
         "y": [
          4.510622992709572,
          4.997058410996608,
          5.186614452142217,
          5.304386523317476,
          5.352011780865776,
          5.37955121876749,
          5.404364821878093,
          5.426148857096709,
          5.449385468223598
         ]
        },
        {
         "name": "Standard Deviation",
         "type": "scatter",
         "x": [
          1,
          2,
          3,
          4,
          5,
          6,
          7,
          8,
          9
         ],
         "y": [
          2.716629981907834,
          2.5770477835280787,
          2.491115734103941,
          2.4247804699128372,
          2.3887345550343313,
          2.3707680154692623,
          2.384796599978032,
          2.3783580556213013,
          2.362232062400712
         ],
         "yaxis": "y2"
        }
       ],
       "layout": {
        "font": {
         "color": "#FFF"
        },
        "height": 500,
        "legend": {
         "x": 0,
         "y": 1
        },
        "paper_bgcolor": "#000",
        "plot_bgcolor": "#000",
        "title": "Confidence after 1000 Iterations at Glimpse 0",
        "titlefont": {
         "color": "#FFF"
        },
        "width": 500,
        "xaxis": {
         "dtick": 1,
         "range": [
          0.5,
          9.5
         ],
         "tickcolor": "#FFF",
         "title": "True Class"
        },
        "yaxis": {
         "dtick": 1,
         "range": [
          0.5,
          9.5
         ],
         "tickcolor": "#FFF",
         "title": "Mean"
        },
        "yaxis2": {
         "gridcolor": "#999",
         "overlaying": "y",
         "range": [
          0,
          3
         ],
         "side": "right",
         "tickcolor": "#FFF",
         "title": "Standard Deviation"
        }
       }
      },
      "text/html": [
       "<div id=\"414903ed-ed46-4d40-95c8-2034c5517ab6\" style=\"height: 500px; width: 500px;\" class=\"plotly-graph-div\"></div><script type=\"text/javascript\">require([\"plotly\"], function(Plotly) { window.PLOTLYENV=window.PLOTLYENV || {};window.PLOTLYENV.BASE_URL=\"https://plot.ly\";Plotly.newPlot(\"414903ed-ed46-4d40-95c8-2034c5517ab6\", [{\"x\": [1, 2, 3, 4, 5, 6, 7, 8, 9], \"type\": \"scatter\", \"name\": \"Mean\", \"y\": [4.510622992709572, 4.997058410996608, 5.186614452142217, 5.304386523317476, 5.352011780865776, 5.37955121876749, 5.404364821878093, 5.426148857096709, 5.449385468223598]}, {\"x\": [1, 2, 3, 4, 5, 6, 7, 8, 9], \"type\": \"scatter\", \"yaxis\": \"y2\", \"name\": \"Standard Deviation\", \"y\": [2.716629981907834, 2.5770477835280787, 2.491115734103941, 2.4247804699128372, 2.3887345550343313, 2.3707680154692623, 2.384796599978032, 2.3783580556213013, 2.362232062400712]}], {\"xaxis\": {\"title\": \"True Class\", \"dtick\": 1, \"range\": [0.5, 9.5], \"tickcolor\": \"#FFF\"}, \"plot_bgcolor\": \"#000\", \"yaxis2\": {\"overlaying\": \"y\", \"range\": [0, 3], \"gridcolor\": \"#999\", \"title\": \"Standard Deviation\", \"side\": \"right\", \"tickcolor\": \"#FFF\"}, \"yaxis\": {\"title\": \"Mean\", \"dtick\": 1, \"range\": [0.5, 9.5], \"tickcolor\": \"#FFF\"}, \"paper_bgcolor\": \"#000\", \"height\": 500, \"titlefont\": {\"color\": \"#FFF\"}, \"title\": \"Confidence after 1000 Iterations at Glimpse 0\", \"font\": {\"color\": \"#FFF\"}, \"width\": 500, \"legend\": {\"x\": 0, \"y\": 1}}, {\"showLink\": true, \"linkText\": \"Export to plot.ly\"})});</script>"
      ],
      "text/vnd.plotly.v1+html": [
       "<div id=\"414903ed-ed46-4d40-95c8-2034c5517ab6\" style=\"height: 500px; width: 500px;\" class=\"plotly-graph-div\"></div><script type=\"text/javascript\">require([\"plotly\"], function(Plotly) { window.PLOTLYENV=window.PLOTLYENV || {};window.PLOTLYENV.BASE_URL=\"https://plot.ly\";Plotly.newPlot(\"414903ed-ed46-4d40-95c8-2034c5517ab6\", [{\"x\": [1, 2, 3, 4, 5, 6, 7, 8, 9], \"type\": \"scatter\", \"name\": \"Mean\", \"y\": [4.510622992709572, 4.997058410996608, 5.186614452142217, 5.304386523317476, 5.352011780865776, 5.37955121876749, 5.404364821878093, 5.426148857096709, 5.449385468223598]}, {\"x\": [1, 2, 3, 4, 5, 6, 7, 8, 9], \"type\": \"scatter\", \"yaxis\": \"y2\", \"name\": \"Standard Deviation\", \"y\": [2.716629981907834, 2.5770477835280787, 2.491115734103941, 2.4247804699128372, 2.3887345550343313, 2.3707680154692623, 2.384796599978032, 2.3783580556213013, 2.362232062400712]}], {\"xaxis\": {\"title\": \"True Class\", \"dtick\": 1, \"range\": [0.5, 9.5], \"tickcolor\": \"#FFF\"}, \"plot_bgcolor\": \"#000\", \"yaxis2\": {\"overlaying\": \"y\", \"range\": [0, 3], \"gridcolor\": \"#999\", \"title\": \"Standard Deviation\", \"side\": \"right\", \"tickcolor\": \"#FFF\"}, \"yaxis\": {\"title\": \"Mean\", \"dtick\": 1, \"range\": [0.5, 9.5], \"tickcolor\": \"#FFF\"}, \"paper_bgcolor\": \"#000\", \"height\": 500, \"titlefont\": {\"color\": \"#FFF\"}, \"title\": \"Confidence after 1000 Iterations at Glimpse 0\", \"font\": {\"color\": \"#FFF\"}, \"width\": 500, \"legend\": {\"x\": 0, \"y\": 1}}, {\"showLink\": true, \"linkText\": \"Export to plot.ly\"})});</script>"
      ]
     },
     "metadata": {},
     "output_type": "display_data"
    },
    {
     "data": {
      "application/vnd.plotly.v1+json": {
       "data": [
        {
         "name": "Coefficient of Variation",
         "type": "scatter",
         "x": [
          1,
          2,
          3,
          4,
          5,
          6,
          7,
          8,
          9
         ],
         "y": [
          0.6124338721149644,
          0.5269128942685362,
          0.4931273170891976,
          0.4703247798547821,
          0.45916879271376027,
          0.45550435235458825,
          0.4537728206779502,
          0.4510895803170231,
          0.4461984459490658
         ]
        }
       ],
       "layout": {
        "font": {
         "color": "#FFF"
        },
        "height": 300,
        "paper_bgcolor": "#000",
        "plot_bgcolor": "#000",
        "title": "Confidence after 1000 Iterations at Glimpse 0",
        "titlefont": {
         "color": "#FFF"
        },
        "width": 500,
        "xaxis": {
         "dtick": 1,
         "range": [
          0.5,
          9.5
         ],
         "tickcolor": "#FFF",
         "title": "True Class"
        },
        "yaxis": {
         "showgrid": true,
         "tickcolor": "#FFF",
         "title": "Coefficient of Variation"
        }
       }
      },
      "text/html": [
       "<div id=\"5b674f8f-12ef-47fe-86c9-a67c8c0f75a8\" style=\"height: 300px; width: 500px;\" class=\"plotly-graph-div\"></div><script type=\"text/javascript\">require([\"plotly\"], function(Plotly) { window.PLOTLYENV=window.PLOTLYENV || {};window.PLOTLYENV.BASE_URL=\"https://plot.ly\";Plotly.newPlot(\"5b674f8f-12ef-47fe-86c9-a67c8c0f75a8\", [{\"x\": [1, 2, 3, 4, 5, 6, 7, 8, 9], \"type\": \"scatter\", \"name\": \"Coefficient of Variation\", \"y\": [0.6124338721149644, 0.5269128942685362, 0.4931273170891976, 0.4703247798547821, 0.45916879271376027, 0.45550435235458825, 0.4537728206779502, 0.4510895803170231, 0.4461984459490658]}], {\"xaxis\": {\"title\": \"True Class\", \"dtick\": 1, \"range\": [0.5, 9.5], \"tickcolor\": \"#FFF\"}, \"plot_bgcolor\": \"#000\", \"titlefont\": {\"color\": \"#FFF\"}, \"paper_bgcolor\": \"#000\", \"height\": 300, \"yaxis\": {\"title\": \"Coefficient of Variation\", \"tickcolor\": \"#FFF\", \"showgrid\": true}, \"title\": \"Confidence after 1000 Iterations at Glimpse 0\", \"font\": {\"color\": \"#FFF\"}, \"width\": 500}, {\"showLink\": true, \"linkText\": \"Export to plot.ly\"})});</script>"
      ],
      "text/vnd.plotly.v1+html": [
       "<div id=\"5b674f8f-12ef-47fe-86c9-a67c8c0f75a8\" style=\"height: 300px; width: 500px;\" class=\"plotly-graph-div\"></div><script type=\"text/javascript\">require([\"plotly\"], function(Plotly) { window.PLOTLYENV=window.PLOTLYENV || {};window.PLOTLYENV.BASE_URL=\"https://plot.ly\";Plotly.newPlot(\"5b674f8f-12ef-47fe-86c9-a67c8c0f75a8\", [{\"x\": [1, 2, 3, 4, 5, 6, 7, 8, 9], \"type\": \"scatter\", \"name\": \"Coefficient of Variation\", \"y\": [0.6124338721149644, 0.5269128942685362, 0.4931273170891976, 0.4703247798547821, 0.45916879271376027, 0.45550435235458825, 0.4537728206779502, 0.4510895803170231, 0.4461984459490658]}], {\"xaxis\": {\"title\": \"True Class\", \"dtick\": 1, \"range\": [0.5, 9.5], \"tickcolor\": \"#FFF\"}, \"plot_bgcolor\": \"#000\", \"titlefont\": {\"color\": \"#FFF\"}, \"paper_bgcolor\": \"#000\", \"height\": 300, \"yaxis\": {\"title\": \"Coefficient of Variation\", \"tickcolor\": \"#FFF\", \"showgrid\": true}, \"title\": \"Confidence after 1000 Iterations at Glimpse 0\", \"font\": {\"color\": \"#FFF\"}, \"width\": 500}, {\"showLink\": true, \"linkText\": \"Export to plot.ly\"})});</script>"
      ]
     },
     "metadata": {},
     "output_type": "display_data"
    },
    {
     "data": {
      "application/vnd.plotly.v1+json": {
       "data": [
        {
         "name": "Mean",
         "type": "scatter",
         "x": [
          1,
          2,
          3,
          4,
          5,
          6,
          7,
          8,
          9
         ],
         "y": [
          3.6761000000000004,
          4.7078,
          5.087999999999999,
          5.2786,
          5.3453,
          5.3875,
          5.4125,
          5.4246,
          5.4573
         ]
        },
        {
         "name": "Standard Deviation",
         "type": "scatter",
         "x": [
          1,
          2,
          3,
          4,
          5,
          6,
          7,
          8,
          9
         ],
         "y": [
          2.824156331793872,
          2.6936861289270957,
          2.5526494385460414,
          2.433149497205288,
          2.387540409535404,
          2.3673114231077674,
          2.387936271554628,
          2.3787829637486095,
          2.3617336461553666
         ],
         "yaxis": "y2"
        }
       ],
       "layout": {
        "font": {
         "color": "#FFF"
        },
        "height": 500,
        "legend": {
         "x": 0,
         "y": 1
        },
        "paper_bgcolor": "#000",
        "plot_bgcolor": "#000",
        "title": "Choice after 1000 Iterations at Glimpse 0",
        "titlefont": {
         "color": "#FFF"
        },
        "width": 500,
        "xaxis": {
         "dtick": 1,
         "range": [
          0.5,
          9.5
         ],
         "tickcolor": "#FFF",
         "title": "True Class"
        },
        "yaxis": {
         "dtick": 1,
         "range": [
          0.5,
          9.5
         ],
         "tickcolor": "#FFF",
         "title": "Mean"
        },
        "yaxis2": {
         "gridcolor": "#999",
         "overlaying": "y",
         "range": [
          0,
          3
         ],
         "side": "right",
         "tickcolor": "#FFF",
         "title": "Standard Deviation"
        }
       }
      },
      "text/html": [
       "<div id=\"806c38dc-077a-4b3b-9935-d70803e04d45\" style=\"height: 500px; width: 500px;\" class=\"plotly-graph-div\"></div><script type=\"text/javascript\">require([\"plotly\"], function(Plotly) { window.PLOTLYENV=window.PLOTLYENV || {};window.PLOTLYENV.BASE_URL=\"https://plot.ly\";Plotly.newPlot(\"806c38dc-077a-4b3b-9935-d70803e04d45\", [{\"x\": [1, 2, 3, 4, 5, 6, 7, 8, 9], \"type\": \"scatter\", \"name\": \"Mean\", \"y\": [3.6761000000000004, 4.7078, 5.087999999999999, 5.2786, 5.3453, 5.3875, 5.4125, 5.4246, 5.4573]}, {\"x\": [1, 2, 3, 4, 5, 6, 7, 8, 9], \"type\": \"scatter\", \"yaxis\": \"y2\", \"name\": \"Standard Deviation\", \"y\": [2.824156331793872, 2.6936861289270957, 2.5526494385460414, 2.433149497205288, 2.387540409535404, 2.3673114231077674, 2.387936271554628, 2.3787829637486095, 2.3617336461553666]}], {\"xaxis\": {\"title\": \"True Class\", \"dtick\": 1, \"range\": [0.5, 9.5], \"tickcolor\": \"#FFF\"}, \"plot_bgcolor\": \"#000\", \"yaxis2\": {\"overlaying\": \"y\", \"range\": [0, 3], \"gridcolor\": \"#999\", \"title\": \"Standard Deviation\", \"side\": \"right\", \"tickcolor\": \"#FFF\"}, \"yaxis\": {\"title\": \"Mean\", \"dtick\": 1, \"range\": [0.5, 9.5], \"tickcolor\": \"#FFF\"}, \"paper_bgcolor\": \"#000\", \"height\": 500, \"titlefont\": {\"color\": \"#FFF\"}, \"title\": \"Choice after 1000 Iterations at Glimpse 0\", \"font\": {\"color\": \"#FFF\"}, \"width\": 500, \"legend\": {\"x\": 0, \"y\": 1}}, {\"showLink\": true, \"linkText\": \"Export to plot.ly\"})});</script>"
      ],
      "text/vnd.plotly.v1+html": [
       "<div id=\"806c38dc-077a-4b3b-9935-d70803e04d45\" style=\"height: 500px; width: 500px;\" class=\"plotly-graph-div\"></div><script type=\"text/javascript\">require([\"plotly\"], function(Plotly) { window.PLOTLYENV=window.PLOTLYENV || {};window.PLOTLYENV.BASE_URL=\"https://plot.ly\";Plotly.newPlot(\"806c38dc-077a-4b3b-9935-d70803e04d45\", [{\"x\": [1, 2, 3, 4, 5, 6, 7, 8, 9], \"type\": \"scatter\", \"name\": \"Mean\", \"y\": [3.6761000000000004, 4.7078, 5.087999999999999, 5.2786, 5.3453, 5.3875, 5.4125, 5.4246, 5.4573]}, {\"x\": [1, 2, 3, 4, 5, 6, 7, 8, 9], \"type\": \"scatter\", \"yaxis\": \"y2\", \"name\": \"Standard Deviation\", \"y\": [2.824156331793872, 2.6936861289270957, 2.5526494385460414, 2.433149497205288, 2.387540409535404, 2.3673114231077674, 2.387936271554628, 2.3787829637486095, 2.3617336461553666]}], {\"xaxis\": {\"title\": \"True Class\", \"dtick\": 1, \"range\": [0.5, 9.5], \"tickcolor\": \"#FFF\"}, \"plot_bgcolor\": \"#000\", \"yaxis2\": {\"overlaying\": \"y\", \"range\": [0, 3], \"gridcolor\": \"#999\", \"title\": \"Standard Deviation\", \"side\": \"right\", \"tickcolor\": \"#FFF\"}, \"yaxis\": {\"title\": \"Mean\", \"dtick\": 1, \"range\": [0.5, 9.5], \"tickcolor\": \"#FFF\"}, \"paper_bgcolor\": \"#000\", \"height\": 500, \"titlefont\": {\"color\": \"#FFF\"}, \"title\": \"Choice after 1000 Iterations at Glimpse 0\", \"font\": {\"color\": \"#FFF\"}, \"width\": 500, \"legend\": {\"x\": 0, \"y\": 1}}, {\"showLink\": true, \"linkText\": \"Export to plot.ly\"})});</script>"
      ]
     },
     "metadata": {},
     "output_type": "display_data"
    },
    {
     "data": {
      "application/vnd.plotly.v1+json": {
       "data": [
        {
         "name": "Coefficient of Variation",
         "type": "scatter",
         "x": [
          1,
          2,
          3,
          4,
          5,
          6,
          7,
          8,
          9
         ],
         "y": [
          0.7782191566195811,
          0.5840195766999201,
          0.5155636233143623,
          0.4756957894041573,
          0.46001823147667337,
          0.4549174429457434,
          0.45366753716399416,
          0.45168778615977967,
          0.4450449604020867
         ]
        }
       ],
       "layout": {
        "font": {
         "color": "#FFF"
        },
        "height": 300,
        "paper_bgcolor": "#000",
        "plot_bgcolor": "#000",
        "title": "Choice after 1000 Iterations at Glimpse 0",
        "titlefont": {
         "color": "#FFF"
        },
        "width": 500,
        "xaxis": {
         "dtick": 1,
         "range": [
          0.5,
          9.5
         ],
         "tickcolor": "#FFF",
         "title": "True Class"
        },
        "yaxis": {
         "showgrid": true,
         "tickcolor": "#FFF",
         "title": "Coefficient of Variation"
        }
       }
      },
      "text/html": [
       "<div id=\"1ddb1de9-b0ad-4b70-af4f-395cce0759b1\" style=\"height: 300px; width: 500px;\" class=\"plotly-graph-div\"></div><script type=\"text/javascript\">require([\"plotly\"], function(Plotly) { window.PLOTLYENV=window.PLOTLYENV || {};window.PLOTLYENV.BASE_URL=\"https://plot.ly\";Plotly.newPlot(\"1ddb1de9-b0ad-4b70-af4f-395cce0759b1\", [{\"x\": [1, 2, 3, 4, 5, 6, 7, 8, 9], \"type\": \"scatter\", \"name\": \"Coefficient of Variation\", \"y\": [0.7782191566195811, 0.5840195766999201, 0.5155636233143623, 0.4756957894041573, 0.46001823147667337, 0.4549174429457434, 0.45366753716399416, 0.45168778615977967, 0.4450449604020867]}], {\"xaxis\": {\"title\": \"True Class\", \"dtick\": 1, \"range\": [0.5, 9.5], \"tickcolor\": \"#FFF\"}, \"plot_bgcolor\": \"#000\", \"titlefont\": {\"color\": \"#FFF\"}, \"paper_bgcolor\": \"#000\", \"height\": 300, \"yaxis\": {\"title\": \"Coefficient of Variation\", \"tickcolor\": \"#FFF\", \"showgrid\": true}, \"title\": \"Choice after 1000 Iterations at Glimpse 0\", \"font\": {\"color\": \"#FFF\"}, \"width\": 500}, {\"showLink\": true, \"linkText\": \"Export to plot.ly\"})});</script>"
      ],
      "text/vnd.plotly.v1+html": [
       "<div id=\"1ddb1de9-b0ad-4b70-af4f-395cce0759b1\" style=\"height: 300px; width: 500px;\" class=\"plotly-graph-div\"></div><script type=\"text/javascript\">require([\"plotly\"], function(Plotly) { window.PLOTLYENV=window.PLOTLYENV || {};window.PLOTLYENV.BASE_URL=\"https://plot.ly\";Plotly.newPlot(\"1ddb1de9-b0ad-4b70-af4f-395cce0759b1\", [{\"x\": [1, 2, 3, 4, 5, 6, 7, 8, 9], \"type\": \"scatter\", \"name\": \"Coefficient of Variation\", \"y\": [0.7782191566195811, 0.5840195766999201, 0.5155636233143623, 0.4756957894041573, 0.46001823147667337, 0.4549174429457434, 0.45366753716399416, 0.45168778615977967, 0.4450449604020867]}], {\"xaxis\": {\"title\": \"True Class\", \"dtick\": 1, \"range\": [0.5, 9.5], \"tickcolor\": \"#FFF\"}, \"plot_bgcolor\": \"#000\", \"titlefont\": {\"color\": \"#FFF\"}, \"paper_bgcolor\": \"#000\", \"height\": 300, \"yaxis\": {\"title\": \"Coefficient of Variation\", \"tickcolor\": \"#FFF\", \"showgrid\": true}, \"title\": \"Choice after 1000 Iterations at Glimpse 0\", \"font\": {\"color\": \"#FFF\"}, \"width\": 500}, {\"showLink\": true, \"linkText\": \"Export to plot.ly\"})});</script>"
      ]
     },
     "metadata": {},
     "output_type": "display_data"
    },
    {
     "data": {
      "application/vnd.plotly.v1+json": {
       "data": [
        {
         "name": "Mean",
         "type": "scatter",
         "x": [
          1,
          2,
          3,
          4,
          5,
          6,
          7,
          8,
          9
         ],
         "y": [
          4.13535549464633,
          4.772232716117295,
          4.997416371092145,
          5.061458589117533,
          5.117952623799754,
          5.103123480482465,
          5.166755890114102,
          5.153417950545851,
          5.1733794755930695
         ]
        },
        {
         "name": "Standard Deviation",
         "type": "scatter",
         "x": [
          1,
          2,
          3,
          4,
          5,
          6,
          7,
          8,
          9
         ],
         "y": [
          2.7895174093749238,
          2.6687768667074634,
          2.587216077167907,
          2.5344129373999125,
          2.5155120156928747,
          2.4977188458797683,
          2.4989215873551016,
          2.4971262932830163,
          2.4671488339102323
         ],
         "yaxis": "y2"
        }
       ],
       "layout": {
        "font": {
         "color": "#FFF"
        },
        "height": 500,
        "legend": {
         "x": 0,
         "y": 1
        },
        "paper_bgcolor": "#000",
        "plot_bgcolor": "#000",
        "title": "Confidence after 1000 Iterations at Glimpse 3",
        "titlefont": {
         "color": "#FFF"
        },
        "width": 500,
        "xaxis": {
         "dtick": 1,
         "range": [
          0.5,
          9.5
         ],
         "tickcolor": "#FFF",
         "title": "True Class"
        },
        "yaxis": {
         "dtick": 1,
         "range": [
          0.5,
          9.5
         ],
         "tickcolor": "#FFF",
         "title": "Mean"
        },
        "yaxis2": {
         "gridcolor": "#999",
         "overlaying": "y",
         "range": [
          0,
          3
         ],
         "side": "right",
         "tickcolor": "#FFF",
         "title": "Standard Deviation"
        }
       }
      },
      "text/html": [
       "<div id=\"307655ac-2133-4c81-ac8c-ace3f8bfa4aa\" style=\"height: 500px; width: 500px;\" class=\"plotly-graph-div\"></div><script type=\"text/javascript\">require([\"plotly\"], function(Plotly) { window.PLOTLYENV=window.PLOTLYENV || {};window.PLOTLYENV.BASE_URL=\"https://plot.ly\";Plotly.newPlot(\"307655ac-2133-4c81-ac8c-ace3f8bfa4aa\", [{\"x\": [1, 2, 3, 4, 5, 6, 7, 8, 9], \"type\": \"scatter\", \"name\": \"Mean\", \"y\": [4.13535549464633, 4.772232716117295, 4.997416371092145, 5.061458589117533, 5.117952623799754, 5.103123480482465, 5.166755890114102, 5.153417950545851, 5.1733794755930695]}, {\"x\": [1, 2, 3, 4, 5, 6, 7, 8, 9], \"type\": \"scatter\", \"yaxis\": \"y2\", \"name\": \"Standard Deviation\", \"y\": [2.7895174093749238, 2.6687768667074634, 2.587216077167907, 2.5344129373999125, 2.5155120156928747, 2.4977188458797683, 2.4989215873551016, 2.4971262932830163, 2.4671488339102323]}], {\"xaxis\": {\"title\": \"True Class\", \"dtick\": 1, \"range\": [0.5, 9.5], \"tickcolor\": \"#FFF\"}, \"plot_bgcolor\": \"#000\", \"yaxis2\": {\"overlaying\": \"y\", \"range\": [0, 3], \"gridcolor\": \"#999\", \"title\": \"Standard Deviation\", \"side\": \"right\", \"tickcolor\": \"#FFF\"}, \"yaxis\": {\"title\": \"Mean\", \"dtick\": 1, \"range\": [0.5, 9.5], \"tickcolor\": \"#FFF\"}, \"paper_bgcolor\": \"#000\", \"height\": 500, \"titlefont\": {\"color\": \"#FFF\"}, \"title\": \"Confidence after 1000 Iterations at Glimpse 3\", \"font\": {\"color\": \"#FFF\"}, \"width\": 500, \"legend\": {\"x\": 0, \"y\": 1}}, {\"showLink\": true, \"linkText\": \"Export to plot.ly\"})});</script>"
      ],
      "text/vnd.plotly.v1+html": [
       "<div id=\"307655ac-2133-4c81-ac8c-ace3f8bfa4aa\" style=\"height: 500px; width: 500px;\" class=\"plotly-graph-div\"></div><script type=\"text/javascript\">require([\"plotly\"], function(Plotly) { window.PLOTLYENV=window.PLOTLYENV || {};window.PLOTLYENV.BASE_URL=\"https://plot.ly\";Plotly.newPlot(\"307655ac-2133-4c81-ac8c-ace3f8bfa4aa\", [{\"x\": [1, 2, 3, 4, 5, 6, 7, 8, 9], \"type\": \"scatter\", \"name\": \"Mean\", \"y\": [4.13535549464633, 4.772232716117295, 4.997416371092145, 5.061458589117533, 5.117952623799754, 5.103123480482465, 5.166755890114102, 5.153417950545851, 5.1733794755930695]}, {\"x\": [1, 2, 3, 4, 5, 6, 7, 8, 9], \"type\": \"scatter\", \"yaxis\": \"y2\", \"name\": \"Standard Deviation\", \"y\": [2.7895174093749238, 2.6687768667074634, 2.587216077167907, 2.5344129373999125, 2.5155120156928747, 2.4977188458797683, 2.4989215873551016, 2.4971262932830163, 2.4671488339102323]}], {\"xaxis\": {\"title\": \"True Class\", \"dtick\": 1, \"range\": [0.5, 9.5], \"tickcolor\": \"#FFF\"}, \"plot_bgcolor\": \"#000\", \"yaxis2\": {\"overlaying\": \"y\", \"range\": [0, 3], \"gridcolor\": \"#999\", \"title\": \"Standard Deviation\", \"side\": \"right\", \"tickcolor\": \"#FFF\"}, \"yaxis\": {\"title\": \"Mean\", \"dtick\": 1, \"range\": [0.5, 9.5], \"tickcolor\": \"#FFF\"}, \"paper_bgcolor\": \"#000\", \"height\": 500, \"titlefont\": {\"color\": \"#FFF\"}, \"title\": \"Confidence after 1000 Iterations at Glimpse 3\", \"font\": {\"color\": \"#FFF\"}, \"width\": 500, \"legend\": {\"x\": 0, \"y\": 1}}, {\"showLink\": true, \"linkText\": \"Export to plot.ly\"})});</script>"
      ]
     },
     "metadata": {},
     "output_type": "display_data"
    },
    {
     "data": {
      "application/vnd.plotly.v1+json": {
       "data": [
        {
         "name": "Coefficient of Variation",
         "type": "scatter",
         "x": [
          1,
          2,
          3,
          4,
          5,
          6,
          7,
          8,
          9
         ],
         "y": [
          0.6884469628657517,
          0.5697274298322859,
          0.5275287478923562,
          0.5124702492465137,
          0.5033206909934473,
          0.5032302031729817,
          0.4946598312385692,
          0.49613803677482676,
          0.4892285869852172
         ]
        }
       ],
       "layout": {
        "font": {
         "color": "#FFF"
        },
        "height": 300,
        "paper_bgcolor": "#000",
        "plot_bgcolor": "#000",
        "title": "Confidence after 1000 Iterations at Glimpse 3",
        "titlefont": {
         "color": "#FFF"
        },
        "width": 500,
        "xaxis": {
         "dtick": 1,
         "range": [
          0.5,
          9.5
         ],
         "tickcolor": "#FFF",
         "title": "True Class"
        },
        "yaxis": {
         "showgrid": true,
         "tickcolor": "#FFF",
         "title": "Coefficient of Variation"
        }
       }
      },
      "text/html": [
       "<div id=\"8e050e5b-626a-4d40-b407-068c989000d9\" style=\"height: 300px; width: 500px;\" class=\"plotly-graph-div\"></div><script type=\"text/javascript\">require([\"plotly\"], function(Plotly) { window.PLOTLYENV=window.PLOTLYENV || {};window.PLOTLYENV.BASE_URL=\"https://plot.ly\";Plotly.newPlot(\"8e050e5b-626a-4d40-b407-068c989000d9\", [{\"x\": [1, 2, 3, 4, 5, 6, 7, 8, 9], \"type\": \"scatter\", \"name\": \"Coefficient of Variation\", \"y\": [0.6884469628657517, 0.5697274298322859, 0.5275287478923562, 0.5124702492465137, 0.5033206909934473, 0.5032302031729817, 0.4946598312385692, 0.49613803677482676, 0.4892285869852172]}], {\"xaxis\": {\"title\": \"True Class\", \"dtick\": 1, \"range\": [0.5, 9.5], \"tickcolor\": \"#FFF\"}, \"plot_bgcolor\": \"#000\", \"titlefont\": {\"color\": \"#FFF\"}, \"paper_bgcolor\": \"#000\", \"height\": 300, \"yaxis\": {\"title\": \"Coefficient of Variation\", \"tickcolor\": \"#FFF\", \"showgrid\": true}, \"title\": \"Confidence after 1000 Iterations at Glimpse 3\", \"font\": {\"color\": \"#FFF\"}, \"width\": 500}, {\"showLink\": true, \"linkText\": \"Export to plot.ly\"})});</script>"
      ],
      "text/vnd.plotly.v1+html": [
       "<div id=\"8e050e5b-626a-4d40-b407-068c989000d9\" style=\"height: 300px; width: 500px;\" class=\"plotly-graph-div\"></div><script type=\"text/javascript\">require([\"plotly\"], function(Plotly) { window.PLOTLYENV=window.PLOTLYENV || {};window.PLOTLYENV.BASE_URL=\"https://plot.ly\";Plotly.newPlot(\"8e050e5b-626a-4d40-b407-068c989000d9\", [{\"x\": [1, 2, 3, 4, 5, 6, 7, 8, 9], \"type\": \"scatter\", \"name\": \"Coefficient of Variation\", \"y\": [0.6884469628657517, 0.5697274298322859, 0.5275287478923562, 0.5124702492465137, 0.5033206909934473, 0.5032302031729817, 0.4946598312385692, 0.49613803677482676, 0.4892285869852172]}], {\"xaxis\": {\"title\": \"True Class\", \"dtick\": 1, \"range\": [0.5, 9.5], \"tickcolor\": \"#FFF\"}, \"plot_bgcolor\": \"#000\", \"titlefont\": {\"color\": \"#FFF\"}, \"paper_bgcolor\": \"#000\", \"height\": 300, \"yaxis\": {\"title\": \"Coefficient of Variation\", \"tickcolor\": \"#FFF\", \"showgrid\": true}, \"title\": \"Confidence after 1000 Iterations at Glimpse 3\", \"font\": {\"color\": \"#FFF\"}, \"width\": 500}, {\"showLink\": true, \"linkText\": \"Export to plot.ly\"})});</script>"
      ]
     },
     "metadata": {},
     "output_type": "display_data"
    },
    {
     "data": {
      "application/vnd.plotly.v1+json": {
       "data": [
        {
         "name": "Mean",
         "type": "scatter",
         "x": [
          1,
          2,
          3,
          4,
          5,
          6,
          7,
          8,
          9
         ],
         "y": [
          4.065899999999999,
          4.7599,
          4.995100000000001,
          5.0516,
          5.1177,
          5.100099999999999,
          5.1701999999999995,
          5.1544,
          5.1784
         ]
        },
        {
         "name": "Standard Deviation",
         "type": "scatter",
         "x": [
          1,
          2,
          3,
          4,
          5,
          6,
          7,
          8,
          9
         ],
         "y": [
          2.8113122428957795,
          2.675730755828151,
          2.589909413832146,
          2.5345408608396602,
          2.5138004836152157,
          2.499517772148017,
          2.4973583731781344,
          2.498633232008723,
          2.465877602684015
         ],
         "yaxis": "y2"
        }
       ],
       "layout": {
        "font": {
         "color": "#FFF"
        },
        "height": 500,
        "legend": {
         "x": 0,
         "y": 1
        },
        "paper_bgcolor": "#000",
        "plot_bgcolor": "#000",
        "title": "Choice after 1000 Iterations at Glimpse 3",
        "titlefont": {
         "color": "#FFF"
        },
        "width": 500,
        "xaxis": {
         "dtick": 1,
         "range": [
          0.5,
          9.5
         ],
         "tickcolor": "#FFF",
         "title": "True Class"
        },
        "yaxis": {
         "dtick": 1,
         "range": [
          0.5,
          9.5
         ],
         "tickcolor": "#FFF",
         "title": "Mean"
        },
        "yaxis2": {
         "gridcolor": "#999",
         "overlaying": "y",
         "range": [
          0,
          3
         ],
         "side": "right",
         "tickcolor": "#FFF",
         "title": "Standard Deviation"
        }
       }
      },
      "text/html": [
       "<div id=\"87e596be-8bd5-481c-9768-2cb418b21af7\" style=\"height: 500px; width: 500px;\" class=\"plotly-graph-div\"></div><script type=\"text/javascript\">require([\"plotly\"], function(Plotly) { window.PLOTLYENV=window.PLOTLYENV || {};window.PLOTLYENV.BASE_URL=\"https://plot.ly\";Plotly.newPlot(\"87e596be-8bd5-481c-9768-2cb418b21af7\", [{\"x\": [1, 2, 3, 4, 5, 6, 7, 8, 9], \"type\": \"scatter\", \"name\": \"Mean\", \"y\": [4.065899999999999, 4.7599, 4.995100000000001, 5.0516, 5.1177, 5.100099999999999, 5.1701999999999995, 5.1544, 5.1784]}, {\"x\": [1, 2, 3, 4, 5, 6, 7, 8, 9], \"type\": \"scatter\", \"yaxis\": \"y2\", \"name\": \"Standard Deviation\", \"y\": [2.8113122428957795, 2.675730755828151, 2.589909413832146, 2.5345408608396602, 2.5138004836152157, 2.499517772148017, 2.4973583731781344, 2.498633232008723, 2.465877602684015]}], {\"xaxis\": {\"title\": \"True Class\", \"dtick\": 1, \"range\": [0.5, 9.5], \"tickcolor\": \"#FFF\"}, \"plot_bgcolor\": \"#000\", \"yaxis2\": {\"overlaying\": \"y\", \"range\": [0, 3], \"gridcolor\": \"#999\", \"title\": \"Standard Deviation\", \"side\": \"right\", \"tickcolor\": \"#FFF\"}, \"yaxis\": {\"title\": \"Mean\", \"dtick\": 1, \"range\": [0.5, 9.5], \"tickcolor\": \"#FFF\"}, \"paper_bgcolor\": \"#000\", \"height\": 500, \"titlefont\": {\"color\": \"#FFF\"}, \"title\": \"Choice after 1000 Iterations at Glimpse 3\", \"font\": {\"color\": \"#FFF\"}, \"width\": 500, \"legend\": {\"x\": 0, \"y\": 1}}, {\"showLink\": true, \"linkText\": \"Export to plot.ly\"})});</script>"
      ],
      "text/vnd.plotly.v1+html": [
       "<div id=\"87e596be-8bd5-481c-9768-2cb418b21af7\" style=\"height: 500px; width: 500px;\" class=\"plotly-graph-div\"></div><script type=\"text/javascript\">require([\"plotly\"], function(Plotly) { window.PLOTLYENV=window.PLOTLYENV || {};window.PLOTLYENV.BASE_URL=\"https://plot.ly\";Plotly.newPlot(\"87e596be-8bd5-481c-9768-2cb418b21af7\", [{\"x\": [1, 2, 3, 4, 5, 6, 7, 8, 9], \"type\": \"scatter\", \"name\": \"Mean\", \"y\": [4.065899999999999, 4.7599, 4.995100000000001, 5.0516, 5.1177, 5.100099999999999, 5.1701999999999995, 5.1544, 5.1784]}, {\"x\": [1, 2, 3, 4, 5, 6, 7, 8, 9], \"type\": \"scatter\", \"yaxis\": \"y2\", \"name\": \"Standard Deviation\", \"y\": [2.8113122428957795, 2.675730755828151, 2.589909413832146, 2.5345408608396602, 2.5138004836152157, 2.499517772148017, 2.4973583731781344, 2.498633232008723, 2.465877602684015]}], {\"xaxis\": {\"title\": \"True Class\", \"dtick\": 1, \"range\": [0.5, 9.5], \"tickcolor\": \"#FFF\"}, \"plot_bgcolor\": \"#000\", \"yaxis2\": {\"overlaying\": \"y\", \"range\": [0, 3], \"gridcolor\": \"#999\", \"title\": \"Standard Deviation\", \"side\": \"right\", \"tickcolor\": \"#FFF\"}, \"yaxis\": {\"title\": \"Mean\", \"dtick\": 1, \"range\": [0.5, 9.5], \"tickcolor\": \"#FFF\"}, \"paper_bgcolor\": \"#000\", \"height\": 500, \"titlefont\": {\"color\": \"#FFF\"}, \"title\": \"Choice after 1000 Iterations at Glimpse 3\", \"font\": {\"color\": \"#FFF\"}, \"width\": 500, \"legend\": {\"x\": 0, \"y\": 1}}, {\"showLink\": true, \"linkText\": \"Export to plot.ly\"})});</script>"
      ]
     },
     "metadata": {},
     "output_type": "display_data"
    },
    {
     "data": {
      "application/vnd.plotly.v1+json": {
       "data": [
        {
         "name": "Coefficient of Variation",
         "type": "scatter",
         "x": [
          1,
          2,
          3,
          4,
          5,
          6,
          7,
          8,
          9
         ],
         "y": [
          0.7039227789908772,
          0.5729087550955938,
          0.5284097511086671,
          0.5135354691819998,
          0.5032926945087131,
          0.5036590614932073,
          0.4939145489921459,
          0.4963434527562997,
          0.48875976275110034
         ]
        }
       ],
       "layout": {
        "font": {
         "color": "#FFF"
        },
        "height": 300,
        "paper_bgcolor": "#000",
        "plot_bgcolor": "#000",
        "title": "Choice after 1000 Iterations at Glimpse 3",
        "titlefont": {
         "color": "#FFF"
        },
        "width": 500,
        "xaxis": {
         "dtick": 1,
         "range": [
          0.5,
          9.5
         ],
         "tickcolor": "#FFF",
         "title": "True Class"
        },
        "yaxis": {
         "showgrid": true,
         "tickcolor": "#FFF",
         "title": "Coefficient of Variation"
        }
       }
      },
      "text/html": [
       "<div id=\"09f557c5-ef05-451e-a34f-3d79e6983454\" style=\"height: 300px; width: 500px;\" class=\"plotly-graph-div\"></div><script type=\"text/javascript\">require([\"plotly\"], function(Plotly) { window.PLOTLYENV=window.PLOTLYENV || {};window.PLOTLYENV.BASE_URL=\"https://plot.ly\";Plotly.newPlot(\"09f557c5-ef05-451e-a34f-3d79e6983454\", [{\"x\": [1, 2, 3, 4, 5, 6, 7, 8, 9], \"type\": \"scatter\", \"name\": \"Coefficient of Variation\", \"y\": [0.7039227789908772, 0.5729087550955938, 0.5284097511086671, 0.5135354691819998, 0.5032926945087131, 0.5036590614932073, 0.4939145489921459, 0.4963434527562997, 0.48875976275110034]}], {\"xaxis\": {\"title\": \"True Class\", \"dtick\": 1, \"range\": [0.5, 9.5], \"tickcolor\": \"#FFF\"}, \"plot_bgcolor\": \"#000\", \"titlefont\": {\"color\": \"#FFF\"}, \"paper_bgcolor\": \"#000\", \"height\": 300, \"yaxis\": {\"title\": \"Coefficient of Variation\", \"tickcolor\": \"#FFF\", \"showgrid\": true}, \"title\": \"Choice after 1000 Iterations at Glimpse 3\", \"font\": {\"color\": \"#FFF\"}, \"width\": 500}, {\"showLink\": true, \"linkText\": \"Export to plot.ly\"})});</script>"
      ],
      "text/vnd.plotly.v1+html": [
       "<div id=\"09f557c5-ef05-451e-a34f-3d79e6983454\" style=\"height: 300px; width: 500px;\" class=\"plotly-graph-div\"></div><script type=\"text/javascript\">require([\"plotly\"], function(Plotly) { window.PLOTLYENV=window.PLOTLYENV || {};window.PLOTLYENV.BASE_URL=\"https://plot.ly\";Plotly.newPlot(\"09f557c5-ef05-451e-a34f-3d79e6983454\", [{\"x\": [1, 2, 3, 4, 5, 6, 7, 8, 9], \"type\": \"scatter\", \"name\": \"Coefficient of Variation\", \"y\": [0.7039227789908772, 0.5729087550955938, 0.5284097511086671, 0.5135354691819998, 0.5032926945087131, 0.5036590614932073, 0.4939145489921459, 0.4963434527562997, 0.48875976275110034]}], {\"xaxis\": {\"title\": \"True Class\", \"dtick\": 1, \"range\": [0.5, 9.5], \"tickcolor\": \"#FFF\"}, \"plot_bgcolor\": \"#000\", \"titlefont\": {\"color\": \"#FFF\"}, \"paper_bgcolor\": \"#000\", \"height\": 300, \"yaxis\": {\"title\": \"Coefficient of Variation\", \"tickcolor\": \"#FFF\", \"showgrid\": true}, \"title\": \"Choice after 1000 Iterations at Glimpse 3\", \"font\": {\"color\": \"#FFF\"}, \"width\": 500}, {\"showLink\": true, \"linkText\": \"Export to plot.ly\"})});</script>"
      ]
     },
     "metadata": {},
     "output_type": "display_data"
    },
    {
     "data": {
      "application/vnd.plotly.v1+json": {
       "data": [
        {
         "name": "Mean",
         "type": "scatter",
         "x": [
          1,
          2,
          3,
          4,
          5,
          6,
          7,
          8,
          9
         ],
         "y": [
          3.4165148424559755,
          4.007887942255007,
          4.342331378654151,
          4.4316764647801445,
          4.544006693095122,
          4.585979039487265,
          4.621357879184129,
          4.614496962306393,
          4.624247582527092
         ]
        },
        {
         "name": "Standard Deviation",
         "type": "scatter",
         "x": [
          1,
          2,
          3,
          4,
          5,
          6,
          7,
          8,
          9
         ],
         "y": [
          2.6388036351527844,
          2.6899240522344066,
          2.67667627001945,
          2.635255274492975,
          2.6397566124988705,
          2.6477214159212563,
          2.6385808413746608,
          2.6375023800167146,
          2.630358594303023
         ],
         "yaxis": "y2"
        }
       ],
       "layout": {
        "font": {
         "color": "#FFF"
        },
        "height": 500,
        "legend": {
         "x": 0,
         "y": 1
        },
        "paper_bgcolor": "#000",
        "plot_bgcolor": "#000",
        "title": "Confidence after 1000 Iterations at Glimpse 9",
        "titlefont": {
         "color": "#FFF"
        },
        "width": 500,
        "xaxis": {
         "dtick": 1,
         "range": [
          0.5,
          9.5
         ],
         "tickcolor": "#FFF",
         "title": "True Class"
        },
        "yaxis": {
         "dtick": 1,
         "range": [
          0.5,
          9.5
         ],
         "tickcolor": "#FFF",
         "title": "Mean"
        },
        "yaxis2": {
         "gridcolor": "#999",
         "overlaying": "y",
         "range": [
          0,
          3
         ],
         "side": "right",
         "tickcolor": "#FFF",
         "title": "Standard Deviation"
        }
       }
      },
      "text/html": [
       "<div id=\"6117ae87-719c-43e9-9bee-70ab51bccf62\" style=\"height: 500px; width: 500px;\" class=\"plotly-graph-div\"></div><script type=\"text/javascript\">require([\"plotly\"], function(Plotly) { window.PLOTLYENV=window.PLOTLYENV || {};window.PLOTLYENV.BASE_URL=\"https://plot.ly\";Plotly.newPlot(\"6117ae87-719c-43e9-9bee-70ab51bccf62\", [{\"x\": [1, 2, 3, 4, 5, 6, 7, 8, 9], \"type\": \"scatter\", \"name\": \"Mean\", \"y\": [3.4165148424559755, 4.007887942255007, 4.342331378654151, 4.4316764647801445, 4.544006693095122, 4.585979039487265, 4.621357879184129, 4.614496962306393, 4.624247582527092]}, {\"x\": [1, 2, 3, 4, 5, 6, 7, 8, 9], \"type\": \"scatter\", \"yaxis\": \"y2\", \"name\": \"Standard Deviation\", \"y\": [2.6388036351527844, 2.6899240522344066, 2.67667627001945, 2.635255274492975, 2.6397566124988705, 2.6477214159212563, 2.6385808413746608, 2.6375023800167146, 2.630358594303023]}], {\"xaxis\": {\"title\": \"True Class\", \"dtick\": 1, \"range\": [0.5, 9.5], \"tickcolor\": \"#FFF\"}, \"plot_bgcolor\": \"#000\", \"yaxis2\": {\"overlaying\": \"y\", \"range\": [0, 3], \"gridcolor\": \"#999\", \"title\": \"Standard Deviation\", \"side\": \"right\", \"tickcolor\": \"#FFF\"}, \"yaxis\": {\"title\": \"Mean\", \"dtick\": 1, \"range\": [0.5, 9.5], \"tickcolor\": \"#FFF\"}, \"paper_bgcolor\": \"#000\", \"height\": 500, \"titlefont\": {\"color\": \"#FFF\"}, \"title\": \"Confidence after 1000 Iterations at Glimpse 9\", \"font\": {\"color\": \"#FFF\"}, \"width\": 500, \"legend\": {\"x\": 0, \"y\": 1}}, {\"showLink\": true, \"linkText\": \"Export to plot.ly\"})});</script>"
      ],
      "text/vnd.plotly.v1+html": [
       "<div id=\"6117ae87-719c-43e9-9bee-70ab51bccf62\" style=\"height: 500px; width: 500px;\" class=\"plotly-graph-div\"></div><script type=\"text/javascript\">require([\"plotly\"], function(Plotly) { window.PLOTLYENV=window.PLOTLYENV || {};window.PLOTLYENV.BASE_URL=\"https://plot.ly\";Plotly.newPlot(\"6117ae87-719c-43e9-9bee-70ab51bccf62\", [{\"x\": [1, 2, 3, 4, 5, 6, 7, 8, 9], \"type\": \"scatter\", \"name\": \"Mean\", \"y\": [3.4165148424559755, 4.007887942255007, 4.342331378654151, 4.4316764647801445, 4.544006693095122, 4.585979039487265, 4.621357879184129, 4.614496962306393, 4.624247582527092]}, {\"x\": [1, 2, 3, 4, 5, 6, 7, 8, 9], \"type\": \"scatter\", \"yaxis\": \"y2\", \"name\": \"Standard Deviation\", \"y\": [2.6388036351527844, 2.6899240522344066, 2.67667627001945, 2.635255274492975, 2.6397566124988705, 2.6477214159212563, 2.6385808413746608, 2.6375023800167146, 2.630358594303023]}], {\"xaxis\": {\"title\": \"True Class\", \"dtick\": 1, \"range\": [0.5, 9.5], \"tickcolor\": \"#FFF\"}, \"plot_bgcolor\": \"#000\", \"yaxis2\": {\"overlaying\": \"y\", \"range\": [0, 3], \"gridcolor\": \"#999\", \"title\": \"Standard Deviation\", \"side\": \"right\", \"tickcolor\": \"#FFF\"}, \"yaxis\": {\"title\": \"Mean\", \"dtick\": 1, \"range\": [0.5, 9.5], \"tickcolor\": \"#FFF\"}, \"paper_bgcolor\": \"#000\", \"height\": 500, \"titlefont\": {\"color\": \"#FFF\"}, \"title\": \"Confidence after 1000 Iterations at Glimpse 9\", \"font\": {\"color\": \"#FFF\"}, \"width\": 500, \"legend\": {\"x\": 0, \"y\": 1}}, {\"showLink\": true, \"linkText\": \"Export to plot.ly\"})});</script>"
      ]
     },
     "metadata": {},
     "output_type": "display_data"
    },
    {
     "data": {
      "application/vnd.plotly.v1+json": {
       "data": [
        {
         "name": "Coefficient of Variation",
         "type": "scatter",
         "x": [
          1,
          2,
          3,
          4,
          5,
          6,
          7,
          8,
          9
         ],
         "y": [
          0.8160458650738132,
          0.7019915273111836,
          0.643678824929566,
          0.6228063689769718,
          0.6077197950160519,
          0.6013820209959319,
          0.593577784777455,
          0.5943461473327651,
          0.5941733315377221
         ]
        }
       ],
       "layout": {
        "font": {
         "color": "#FFF"
        },
        "height": 300,
        "paper_bgcolor": "#000",
        "plot_bgcolor": "#000",
        "title": "Confidence after 1000 Iterations at Glimpse 9",
        "titlefont": {
         "color": "#FFF"
        },
        "width": 500,
        "xaxis": {
         "dtick": 1,
         "range": [
          0.5,
          9.5
         ],
         "tickcolor": "#FFF",
         "title": "True Class"
        },
        "yaxis": {
         "showgrid": true,
         "tickcolor": "#FFF",
         "title": "Coefficient of Variation"
        }
       }
      },
      "text/html": [
       "<div id=\"2e192723-154f-4795-9912-51c2e5971f0e\" style=\"height: 300px; width: 500px;\" class=\"plotly-graph-div\"></div><script type=\"text/javascript\">require([\"plotly\"], function(Plotly) { window.PLOTLYENV=window.PLOTLYENV || {};window.PLOTLYENV.BASE_URL=\"https://plot.ly\";Plotly.newPlot(\"2e192723-154f-4795-9912-51c2e5971f0e\", [{\"x\": [1, 2, 3, 4, 5, 6, 7, 8, 9], \"type\": \"scatter\", \"name\": \"Coefficient of Variation\", \"y\": [0.8160458650738132, 0.7019915273111836, 0.643678824929566, 0.6228063689769718, 0.6077197950160519, 0.6013820209959319, 0.593577784777455, 0.5943461473327651, 0.5941733315377221]}], {\"xaxis\": {\"title\": \"True Class\", \"dtick\": 1, \"range\": [0.5, 9.5], \"tickcolor\": \"#FFF\"}, \"plot_bgcolor\": \"#000\", \"titlefont\": {\"color\": \"#FFF\"}, \"paper_bgcolor\": \"#000\", \"height\": 300, \"yaxis\": {\"title\": \"Coefficient of Variation\", \"tickcolor\": \"#FFF\", \"showgrid\": true}, \"title\": \"Confidence after 1000 Iterations at Glimpse 9\", \"font\": {\"color\": \"#FFF\"}, \"width\": 500}, {\"showLink\": true, \"linkText\": \"Export to plot.ly\"})});</script>"
      ],
      "text/vnd.plotly.v1+html": [
       "<div id=\"2e192723-154f-4795-9912-51c2e5971f0e\" style=\"height: 300px; width: 500px;\" class=\"plotly-graph-div\"></div><script type=\"text/javascript\">require([\"plotly\"], function(Plotly) { window.PLOTLYENV=window.PLOTLYENV || {};window.PLOTLYENV.BASE_URL=\"https://plot.ly\";Plotly.newPlot(\"2e192723-154f-4795-9912-51c2e5971f0e\", [{\"x\": [1, 2, 3, 4, 5, 6, 7, 8, 9], \"type\": \"scatter\", \"name\": \"Coefficient of Variation\", \"y\": [0.8160458650738132, 0.7019915273111836, 0.643678824929566, 0.6228063689769718, 0.6077197950160519, 0.6013820209959319, 0.593577784777455, 0.5943461473327651, 0.5941733315377221]}], {\"xaxis\": {\"title\": \"True Class\", \"dtick\": 1, \"range\": [0.5, 9.5], \"tickcolor\": \"#FFF\"}, \"plot_bgcolor\": \"#000\", \"titlefont\": {\"color\": \"#FFF\"}, \"paper_bgcolor\": \"#000\", \"height\": 300, \"yaxis\": {\"title\": \"Coefficient of Variation\", \"tickcolor\": \"#FFF\", \"showgrid\": true}, \"title\": \"Confidence after 1000 Iterations at Glimpse 9\", \"font\": {\"color\": \"#FFF\"}, \"width\": 500}, {\"showLink\": true, \"linkText\": \"Export to plot.ly\"})});</script>"
      ]
     },
     "metadata": {},
     "output_type": "display_data"
    },
    {
     "data": {
      "application/vnd.plotly.v1+json": {
       "data": [
        {
         "name": "Mean",
         "type": "scatter",
         "x": [
          1,
          2,
          3,
          4,
          5,
          6,
          7,
          8,
          9
         ],
         "y": [
          3.3968000000000003,
          3.9943999999999997,
          4.3469,
          4.4306,
          4.5412,
          4.5849,
          4.618,
          4.6191,
          4.624
         ]
        },
        {
         "name": "Standard Deviation",
         "type": "scatter",
         "x": [
          1,
          2,
          3,
          4,
          5,
          6,
          7,
          8,
          9
         ],
         "y": [
          2.6418825669741155,
          2.690490944009371,
          2.67957228978951,
          2.6320030740102363,
          2.639156693218292,
          2.649102386937084,
          2.641419478121928,
          2.6401071749712703,
          2.6316417235124616
         ],
         "yaxis": "y2"
        }
       ],
       "layout": {
        "font": {
         "color": "#FFF"
        },
        "height": 500,
        "legend": {
         "x": 0,
         "y": 1
        },
        "paper_bgcolor": "#000",
        "plot_bgcolor": "#000",
        "title": "Choice after 1000 Iterations at Glimpse 9",
        "titlefont": {
         "color": "#FFF"
        },
        "width": 500,
        "xaxis": {
         "dtick": 1,
         "range": [
          0.5,
          9.5
         ],
         "tickcolor": "#FFF",
         "title": "True Class"
        },
        "yaxis": {
         "dtick": 1,
         "range": [
          0.5,
          9.5
         ],
         "tickcolor": "#FFF",
         "title": "Mean"
        },
        "yaxis2": {
         "gridcolor": "#999",
         "overlaying": "y",
         "range": [
          0,
          3
         ],
         "side": "right",
         "tickcolor": "#FFF",
         "title": "Standard Deviation"
        }
       }
      },
      "text/html": [
       "<div id=\"8f3dff20-a735-4335-97f7-0de6531d63a4\" style=\"height: 500px; width: 500px;\" class=\"plotly-graph-div\"></div><script type=\"text/javascript\">require([\"plotly\"], function(Plotly) { window.PLOTLYENV=window.PLOTLYENV || {};window.PLOTLYENV.BASE_URL=\"https://plot.ly\";Plotly.newPlot(\"8f3dff20-a735-4335-97f7-0de6531d63a4\", [{\"x\": [1, 2, 3, 4, 5, 6, 7, 8, 9], \"type\": \"scatter\", \"name\": \"Mean\", \"y\": [3.3968000000000003, 3.9943999999999997, 4.3469, 4.4306, 4.5412, 4.5849, 4.618, 4.6191, 4.624]}, {\"x\": [1, 2, 3, 4, 5, 6, 7, 8, 9], \"type\": \"scatter\", \"yaxis\": \"y2\", \"name\": \"Standard Deviation\", \"y\": [2.6418825669741155, 2.690490944009371, 2.67957228978951, 2.6320030740102363, 2.639156693218292, 2.649102386937084, 2.641419478121928, 2.6401071749712703, 2.6316417235124616]}], {\"xaxis\": {\"title\": \"True Class\", \"dtick\": 1, \"range\": [0.5, 9.5], \"tickcolor\": \"#FFF\"}, \"plot_bgcolor\": \"#000\", \"yaxis2\": {\"overlaying\": \"y\", \"range\": [0, 3], \"gridcolor\": \"#999\", \"title\": \"Standard Deviation\", \"side\": \"right\", \"tickcolor\": \"#FFF\"}, \"yaxis\": {\"title\": \"Mean\", \"dtick\": 1, \"range\": [0.5, 9.5], \"tickcolor\": \"#FFF\"}, \"paper_bgcolor\": \"#000\", \"height\": 500, \"titlefont\": {\"color\": \"#FFF\"}, \"title\": \"Choice after 1000 Iterations at Glimpse 9\", \"font\": {\"color\": \"#FFF\"}, \"width\": 500, \"legend\": {\"x\": 0, \"y\": 1}}, {\"showLink\": true, \"linkText\": \"Export to plot.ly\"})});</script>"
      ],
      "text/vnd.plotly.v1+html": [
       "<div id=\"8f3dff20-a735-4335-97f7-0de6531d63a4\" style=\"height: 500px; width: 500px;\" class=\"plotly-graph-div\"></div><script type=\"text/javascript\">require([\"plotly\"], function(Plotly) { window.PLOTLYENV=window.PLOTLYENV || {};window.PLOTLYENV.BASE_URL=\"https://plot.ly\";Plotly.newPlot(\"8f3dff20-a735-4335-97f7-0de6531d63a4\", [{\"x\": [1, 2, 3, 4, 5, 6, 7, 8, 9], \"type\": \"scatter\", \"name\": \"Mean\", \"y\": [3.3968000000000003, 3.9943999999999997, 4.3469, 4.4306, 4.5412, 4.5849, 4.618, 4.6191, 4.624]}, {\"x\": [1, 2, 3, 4, 5, 6, 7, 8, 9], \"type\": \"scatter\", \"yaxis\": \"y2\", \"name\": \"Standard Deviation\", \"y\": [2.6418825669741155, 2.690490944009371, 2.67957228978951, 2.6320030740102363, 2.639156693218292, 2.649102386937084, 2.641419478121928, 2.6401071749712703, 2.6316417235124616]}], {\"xaxis\": {\"title\": \"True Class\", \"dtick\": 1, \"range\": [0.5, 9.5], \"tickcolor\": \"#FFF\"}, \"plot_bgcolor\": \"#000\", \"yaxis2\": {\"overlaying\": \"y\", \"range\": [0, 3], \"gridcolor\": \"#999\", \"title\": \"Standard Deviation\", \"side\": \"right\", \"tickcolor\": \"#FFF\"}, \"yaxis\": {\"title\": \"Mean\", \"dtick\": 1, \"range\": [0.5, 9.5], \"tickcolor\": \"#FFF\"}, \"paper_bgcolor\": \"#000\", \"height\": 500, \"titlefont\": {\"color\": \"#FFF\"}, \"title\": \"Choice after 1000 Iterations at Glimpse 9\", \"font\": {\"color\": \"#FFF\"}, \"width\": 500, \"legend\": {\"x\": 0, \"y\": 1}}, {\"showLink\": true, \"linkText\": \"Export to plot.ly\"})});</script>"
      ]
     },
     "metadata": {},
     "output_type": "display_data"
    },
    {
     "data": {
      "application/vnd.plotly.v1+json": {
       "data": [
        {
         "name": "Coefficient of Variation",
         "type": "scatter",
         "x": [
          1,
          2,
          3,
          4,
          5,
          6,
          7,
          8,
          9
         ],
         "y": [
          0.821246386561441,
          0.7049298678695711,
          0.6437955777951264,
          0.622391501199098,
          0.6080735240653674,
          0.601814056051155,
          0.5947976604637901,
          0.5938445521059299,
          0.5946265614826481
         ]
        }
       ],
       "layout": {
        "font": {
         "color": "#FFF"
        },
        "height": 300,
        "paper_bgcolor": "#000",
        "plot_bgcolor": "#000",
        "title": "Choice after 1000 Iterations at Glimpse 9",
        "titlefont": {
         "color": "#FFF"
        },
        "width": 500,
        "xaxis": {
         "dtick": 1,
         "range": [
          0.5,
          9.5
         ],
         "tickcolor": "#FFF",
         "title": "True Class"
        },
        "yaxis": {
         "showgrid": true,
         "tickcolor": "#FFF",
         "title": "Coefficient of Variation"
        }
       }
      },
      "text/html": [
       "<div id=\"f2b3dd83-25a6-4a38-ad02-32e57c7afe92\" style=\"height: 300px; width: 500px;\" class=\"plotly-graph-div\"></div><script type=\"text/javascript\">require([\"plotly\"], function(Plotly) { window.PLOTLYENV=window.PLOTLYENV || {};window.PLOTLYENV.BASE_URL=\"https://plot.ly\";Plotly.newPlot(\"f2b3dd83-25a6-4a38-ad02-32e57c7afe92\", [{\"x\": [1, 2, 3, 4, 5, 6, 7, 8, 9], \"type\": \"scatter\", \"name\": \"Coefficient of Variation\", \"y\": [0.821246386561441, 0.7049298678695711, 0.6437955777951264, 0.622391501199098, 0.6080735240653674, 0.601814056051155, 0.5947976604637901, 0.5938445521059299, 0.5946265614826481]}], {\"xaxis\": {\"title\": \"True Class\", \"dtick\": 1, \"range\": [0.5, 9.5], \"tickcolor\": \"#FFF\"}, \"plot_bgcolor\": \"#000\", \"titlefont\": {\"color\": \"#FFF\"}, \"paper_bgcolor\": \"#000\", \"height\": 300, \"yaxis\": {\"title\": \"Coefficient of Variation\", \"tickcolor\": \"#FFF\", \"showgrid\": true}, \"title\": \"Choice after 1000 Iterations at Glimpse 9\", \"font\": {\"color\": \"#FFF\"}, \"width\": 500}, {\"showLink\": true, \"linkText\": \"Export to plot.ly\"})});</script>"
      ],
      "text/vnd.plotly.v1+html": [
       "<div id=\"f2b3dd83-25a6-4a38-ad02-32e57c7afe92\" style=\"height: 300px; width: 500px;\" class=\"plotly-graph-div\"></div><script type=\"text/javascript\">require([\"plotly\"], function(Plotly) { window.PLOTLYENV=window.PLOTLYENV || {};window.PLOTLYENV.BASE_URL=\"https://plot.ly\";Plotly.newPlot(\"f2b3dd83-25a6-4a38-ad02-32e57c7afe92\", [{\"x\": [1, 2, 3, 4, 5, 6, 7, 8, 9], \"type\": \"scatter\", \"name\": \"Coefficient of Variation\", \"y\": [0.821246386561441, 0.7049298678695711, 0.6437955777951264, 0.622391501199098, 0.6080735240653674, 0.601814056051155, 0.5947976604637901, 0.5938445521059299, 0.5946265614826481]}], {\"xaxis\": {\"title\": \"True Class\", \"dtick\": 1, \"range\": [0.5, 9.5], \"tickcolor\": \"#FFF\"}, \"plot_bgcolor\": \"#000\", \"titlefont\": {\"color\": \"#FFF\"}, \"paper_bgcolor\": \"#000\", \"height\": 300, \"yaxis\": {\"title\": \"Coefficient of Variation\", \"tickcolor\": \"#FFF\", \"showgrid\": true}, \"title\": \"Choice after 1000 Iterations at Glimpse 9\", \"font\": {\"color\": \"#FFF\"}, \"width\": 500}, {\"showLink\": true, \"linkText\": \"Export to plot.ly\"})});</script>"
      ]
     },
     "metadata": {},
     "output_type": "display_data"
    },
    {
     "data": {
      "application/vnd.plotly.v1+json": {
       "data": [
        {
         "name": "Mean",
         "type": "scatter",
         "x": [
          1,
          2,
          3,
          4,
          5,
          6,
          7,
          8,
          9
         ],
         "y": [
          2.702271538820465,
          3.317614803805396,
          3.7476371657417467,
          3.9739204009053757,
          4.2099359550449105,
          4.318750703191129,
          4.390513179996086,
          4.458401432605785,
          4.532687667834031
         ]
        },
        {
         "name": "Standard Deviation",
         "type": "scatter",
         "x": [
          1,
          2,
          3,
          4,
          5,
          6,
          7,
          8,
          9
         ],
         "y": [
          2.293901126891552,
          2.534349786349655,
          2.5967627673310334,
          2.5758859198021016,
          2.5708120370127197,
          2.607874341602479,
          2.579460154299208,
          2.577416387950307,
          2.5838870152414186
         ],
         "yaxis": "y2"
        }
       ],
       "layout": {
        "font": {
         "color": "#FFF"
        },
        "height": 500,
        "legend": {
         "x": 0,
         "y": 1
        },
        "paper_bgcolor": "#000",
        "plot_bgcolor": "#000",
        "title": "Confidence after 4000 Iterations at Glimpse 0",
        "titlefont": {
         "color": "#FFF"
        },
        "width": 500,
        "xaxis": {
         "dtick": 1,
         "range": [
          0.5,
          9.5
         ],
         "tickcolor": "#FFF",
         "title": "True Class"
        },
        "yaxis": {
         "dtick": 1,
         "range": [
          0.5,
          9.5
         ],
         "tickcolor": "#FFF",
         "title": "Mean"
        },
        "yaxis2": {
         "gridcolor": "#999",
         "overlaying": "y",
         "range": [
          0,
          3
         ],
         "side": "right",
         "tickcolor": "#FFF",
         "title": "Standard Deviation"
        }
       }
      },
      "text/html": [
       "<div id=\"ba85406b-bd2b-49a2-8f98-329e4dcd5a6e\" style=\"height: 500px; width: 500px;\" class=\"plotly-graph-div\"></div><script type=\"text/javascript\">require([\"plotly\"], function(Plotly) { window.PLOTLYENV=window.PLOTLYENV || {};window.PLOTLYENV.BASE_URL=\"https://plot.ly\";Plotly.newPlot(\"ba85406b-bd2b-49a2-8f98-329e4dcd5a6e\", [{\"x\": [1, 2, 3, 4, 5, 6, 7, 8, 9], \"type\": \"scatter\", \"name\": \"Mean\", \"y\": [2.702271538820465, 3.317614803805396, 3.7476371657417467, 3.9739204009053757, 4.2099359550449105, 4.318750703191129, 4.390513179996086, 4.458401432605785, 4.532687667834031]}, {\"x\": [1, 2, 3, 4, 5, 6, 7, 8, 9], \"type\": \"scatter\", \"yaxis\": \"y2\", \"name\": \"Standard Deviation\", \"y\": [2.293901126891552, 2.534349786349655, 2.5967627673310334, 2.5758859198021016, 2.5708120370127197, 2.607874341602479, 2.579460154299208, 2.577416387950307, 2.5838870152414186]}], {\"xaxis\": {\"title\": \"True Class\", \"dtick\": 1, \"range\": [0.5, 9.5], \"tickcolor\": \"#FFF\"}, \"plot_bgcolor\": \"#000\", \"yaxis2\": {\"overlaying\": \"y\", \"range\": [0, 3], \"gridcolor\": \"#999\", \"title\": \"Standard Deviation\", \"side\": \"right\", \"tickcolor\": \"#FFF\"}, \"yaxis\": {\"title\": \"Mean\", \"dtick\": 1, \"range\": [0.5, 9.5], \"tickcolor\": \"#FFF\"}, \"paper_bgcolor\": \"#000\", \"height\": 500, \"titlefont\": {\"color\": \"#FFF\"}, \"title\": \"Confidence after 4000 Iterations at Glimpse 0\", \"font\": {\"color\": \"#FFF\"}, \"width\": 500, \"legend\": {\"x\": 0, \"y\": 1}}, {\"showLink\": true, \"linkText\": \"Export to plot.ly\"})});</script>"
      ],
      "text/vnd.plotly.v1+html": [
       "<div id=\"ba85406b-bd2b-49a2-8f98-329e4dcd5a6e\" style=\"height: 500px; width: 500px;\" class=\"plotly-graph-div\"></div><script type=\"text/javascript\">require([\"plotly\"], function(Plotly) { window.PLOTLYENV=window.PLOTLYENV || {};window.PLOTLYENV.BASE_URL=\"https://plot.ly\";Plotly.newPlot(\"ba85406b-bd2b-49a2-8f98-329e4dcd5a6e\", [{\"x\": [1, 2, 3, 4, 5, 6, 7, 8, 9], \"type\": \"scatter\", \"name\": \"Mean\", \"y\": [2.702271538820465, 3.317614803805396, 3.7476371657417467, 3.9739204009053757, 4.2099359550449105, 4.318750703191129, 4.390513179996086, 4.458401432605785, 4.532687667834031]}, {\"x\": [1, 2, 3, 4, 5, 6, 7, 8, 9], \"type\": \"scatter\", \"yaxis\": \"y2\", \"name\": \"Standard Deviation\", \"y\": [2.293901126891552, 2.534349786349655, 2.5967627673310334, 2.5758859198021016, 2.5708120370127197, 2.607874341602479, 2.579460154299208, 2.577416387950307, 2.5838870152414186]}], {\"xaxis\": {\"title\": \"True Class\", \"dtick\": 1, \"range\": [0.5, 9.5], \"tickcolor\": \"#FFF\"}, \"plot_bgcolor\": \"#000\", \"yaxis2\": {\"overlaying\": \"y\", \"range\": [0, 3], \"gridcolor\": \"#999\", \"title\": \"Standard Deviation\", \"side\": \"right\", \"tickcolor\": \"#FFF\"}, \"yaxis\": {\"title\": \"Mean\", \"dtick\": 1, \"range\": [0.5, 9.5], \"tickcolor\": \"#FFF\"}, \"paper_bgcolor\": \"#000\", \"height\": 500, \"titlefont\": {\"color\": \"#FFF\"}, \"title\": \"Confidence after 4000 Iterations at Glimpse 0\", \"font\": {\"color\": \"#FFF\"}, \"width\": 500, \"legend\": {\"x\": 0, \"y\": 1}}, {\"showLink\": true, \"linkText\": \"Export to plot.ly\"})});</script>"
      ]
     },
     "metadata": {},
     "output_type": "display_data"
    },
    {
     "data": {
      "application/vnd.plotly.v1+json": {
       "data": [
        {
         "name": "Coefficient of Variation",
         "type": "scatter",
         "x": [
          1,
          2,
          3,
          4,
          5,
          6,
          7,
          8,
          9
         ],
         "y": [
          0.8506491395032549,
          0.7674462707608003,
          0.7011750469209117,
          0.6583250717229452,
          0.6234670595363803,
          0.6131349954112169,
          0.6003442964430165,
          0.5890710673594426,
          0.5796568269908113
         ]
        }
       ],
       "layout": {
        "font": {
         "color": "#FFF"
        },
        "height": 300,
        "paper_bgcolor": "#000",
        "plot_bgcolor": "#000",
        "title": "Confidence after 4000 Iterations at Glimpse 0",
        "titlefont": {
         "color": "#FFF"
        },
        "width": 500,
        "xaxis": {
         "dtick": 1,
         "range": [
          0.5,
          9.5
         ],
         "tickcolor": "#FFF",
         "title": "True Class"
        },
        "yaxis": {
         "showgrid": true,
         "tickcolor": "#FFF",
         "title": "Coefficient of Variation"
        }
       }
      },
      "text/html": [
       "<div id=\"f8c86b85-cf1b-4ec1-96e0-a2ce78e061ad\" style=\"height: 300px; width: 500px;\" class=\"plotly-graph-div\"></div><script type=\"text/javascript\">require([\"plotly\"], function(Plotly) { window.PLOTLYENV=window.PLOTLYENV || {};window.PLOTLYENV.BASE_URL=\"https://plot.ly\";Plotly.newPlot(\"f8c86b85-cf1b-4ec1-96e0-a2ce78e061ad\", [{\"x\": [1, 2, 3, 4, 5, 6, 7, 8, 9], \"type\": \"scatter\", \"name\": \"Coefficient of Variation\", \"y\": [0.8506491395032549, 0.7674462707608003, 0.7011750469209117, 0.6583250717229452, 0.6234670595363803, 0.6131349954112169, 0.6003442964430165, 0.5890710673594426, 0.5796568269908113]}], {\"xaxis\": {\"title\": \"True Class\", \"dtick\": 1, \"range\": [0.5, 9.5], \"tickcolor\": \"#FFF\"}, \"plot_bgcolor\": \"#000\", \"titlefont\": {\"color\": \"#FFF\"}, \"paper_bgcolor\": \"#000\", \"height\": 300, \"yaxis\": {\"title\": \"Coefficient of Variation\", \"tickcolor\": \"#FFF\", \"showgrid\": true}, \"title\": \"Confidence after 4000 Iterations at Glimpse 0\", \"font\": {\"color\": \"#FFF\"}, \"width\": 500}, {\"showLink\": true, \"linkText\": \"Export to plot.ly\"})});</script>"
      ],
      "text/vnd.plotly.v1+html": [
       "<div id=\"f8c86b85-cf1b-4ec1-96e0-a2ce78e061ad\" style=\"height: 300px; width: 500px;\" class=\"plotly-graph-div\"></div><script type=\"text/javascript\">require([\"plotly\"], function(Plotly) { window.PLOTLYENV=window.PLOTLYENV || {};window.PLOTLYENV.BASE_URL=\"https://plot.ly\";Plotly.newPlot(\"f8c86b85-cf1b-4ec1-96e0-a2ce78e061ad\", [{\"x\": [1, 2, 3, 4, 5, 6, 7, 8, 9], \"type\": \"scatter\", \"name\": \"Coefficient of Variation\", \"y\": [0.8506491395032549, 0.7674462707608003, 0.7011750469209117, 0.6583250717229452, 0.6234670595363803, 0.6131349954112169, 0.6003442964430165, 0.5890710673594426, 0.5796568269908113]}], {\"xaxis\": {\"title\": \"True Class\", \"dtick\": 1, \"range\": [0.5, 9.5], \"tickcolor\": \"#FFF\"}, \"plot_bgcolor\": \"#000\", \"titlefont\": {\"color\": \"#FFF\"}, \"paper_bgcolor\": \"#000\", \"height\": 300, \"yaxis\": {\"title\": \"Coefficient of Variation\", \"tickcolor\": \"#FFF\", \"showgrid\": true}, \"title\": \"Confidence after 4000 Iterations at Glimpse 0\", \"font\": {\"color\": \"#FFF\"}, \"width\": 500}, {\"showLink\": true, \"linkText\": \"Export to plot.ly\"})});</script>"
      ]
     },
     "metadata": {},
     "output_type": "display_data"
    },
    {
     "data": {
      "application/vnd.plotly.v1+json": {
       "data": [
        {
         "name": "Mean",
         "type": "scatter",
         "x": [
          1,
          2,
          3,
          4,
          5,
          6,
          7,
          8,
          9
         ],
         "y": [
          2.2615000000000007,
          3.0439000000000003,
          3.6034999999999995,
          3.8936,
          4.162,
          4.2795000000000005,
          4.3727,
          4.4398,
          4.5255
         ]
        },
        {
         "name": "Standard Deviation",
         "type": "scatter",
         "x": [
          1,
          2,
          3,
          4,
          5,
          6,
          7,
          8,
          9
         ],
         "y": [
          2.184022110889435,
          2.514687443022839,
          2.613536307885536,
          2.5886945146665763,
          2.5785238948253517,
          2.6139474484554355,
          2.582243800490203,
          2.576261529443051,
          2.583291810461201
         ],
         "yaxis": "y2"
        }
       ],
       "layout": {
        "font": {
         "color": "#FFF"
        },
        "height": 500,
        "legend": {
         "x": 0,
         "y": 1
        },
        "paper_bgcolor": "#000",
        "plot_bgcolor": "#000",
        "title": "Choice after 4000 Iterations at Glimpse 0",
        "titlefont": {
         "color": "#FFF"
        },
        "width": 500,
        "xaxis": {
         "dtick": 1,
         "range": [
          0.5,
          9.5
         ],
         "tickcolor": "#FFF",
         "title": "True Class"
        },
        "yaxis": {
         "dtick": 1,
         "range": [
          0.5,
          9.5
         ],
         "tickcolor": "#FFF",
         "title": "Mean"
        },
        "yaxis2": {
         "gridcolor": "#999",
         "overlaying": "y",
         "range": [
          0,
          3
         ],
         "side": "right",
         "tickcolor": "#FFF",
         "title": "Standard Deviation"
        }
       }
      },
      "text/html": [
       "<div id=\"32c06196-aaa2-40c4-b79c-b0ab6dae683d\" style=\"height: 500px; width: 500px;\" class=\"plotly-graph-div\"></div><script type=\"text/javascript\">require([\"plotly\"], function(Plotly) { window.PLOTLYENV=window.PLOTLYENV || {};window.PLOTLYENV.BASE_URL=\"https://plot.ly\";Plotly.newPlot(\"32c06196-aaa2-40c4-b79c-b0ab6dae683d\", [{\"x\": [1, 2, 3, 4, 5, 6, 7, 8, 9], \"type\": \"scatter\", \"name\": \"Mean\", \"y\": [2.2615000000000007, 3.0439000000000003, 3.6034999999999995, 3.8936, 4.162, 4.2795000000000005, 4.3727, 4.4398, 4.5255]}, {\"x\": [1, 2, 3, 4, 5, 6, 7, 8, 9], \"type\": \"scatter\", \"yaxis\": \"y2\", \"name\": \"Standard Deviation\", \"y\": [2.184022110889435, 2.514687443022839, 2.613536307885536, 2.5886945146665763, 2.5785238948253517, 2.6139474484554355, 2.582243800490203, 2.576261529443051, 2.583291810461201]}], {\"xaxis\": {\"title\": \"True Class\", \"dtick\": 1, \"range\": [0.5, 9.5], \"tickcolor\": \"#FFF\"}, \"plot_bgcolor\": \"#000\", \"yaxis2\": {\"overlaying\": \"y\", \"range\": [0, 3], \"gridcolor\": \"#999\", \"title\": \"Standard Deviation\", \"side\": \"right\", \"tickcolor\": \"#FFF\"}, \"yaxis\": {\"title\": \"Mean\", \"dtick\": 1, \"range\": [0.5, 9.5], \"tickcolor\": \"#FFF\"}, \"paper_bgcolor\": \"#000\", \"height\": 500, \"titlefont\": {\"color\": \"#FFF\"}, \"title\": \"Choice after 4000 Iterations at Glimpse 0\", \"font\": {\"color\": \"#FFF\"}, \"width\": 500, \"legend\": {\"x\": 0, \"y\": 1}}, {\"showLink\": true, \"linkText\": \"Export to plot.ly\"})});</script>"
      ],
      "text/vnd.plotly.v1+html": [
       "<div id=\"32c06196-aaa2-40c4-b79c-b0ab6dae683d\" style=\"height: 500px; width: 500px;\" class=\"plotly-graph-div\"></div><script type=\"text/javascript\">require([\"plotly\"], function(Plotly) { window.PLOTLYENV=window.PLOTLYENV || {};window.PLOTLYENV.BASE_URL=\"https://plot.ly\";Plotly.newPlot(\"32c06196-aaa2-40c4-b79c-b0ab6dae683d\", [{\"x\": [1, 2, 3, 4, 5, 6, 7, 8, 9], \"type\": \"scatter\", \"name\": \"Mean\", \"y\": [2.2615000000000007, 3.0439000000000003, 3.6034999999999995, 3.8936, 4.162, 4.2795000000000005, 4.3727, 4.4398, 4.5255]}, {\"x\": [1, 2, 3, 4, 5, 6, 7, 8, 9], \"type\": \"scatter\", \"yaxis\": \"y2\", \"name\": \"Standard Deviation\", \"y\": [2.184022110889435, 2.514687443022839, 2.613536307885536, 2.5886945146665763, 2.5785238948253517, 2.6139474484554355, 2.582243800490203, 2.576261529443051, 2.583291810461201]}], {\"xaxis\": {\"title\": \"True Class\", \"dtick\": 1, \"range\": [0.5, 9.5], \"tickcolor\": \"#FFF\"}, \"plot_bgcolor\": \"#000\", \"yaxis2\": {\"overlaying\": \"y\", \"range\": [0, 3], \"gridcolor\": \"#999\", \"title\": \"Standard Deviation\", \"side\": \"right\", \"tickcolor\": \"#FFF\"}, \"yaxis\": {\"title\": \"Mean\", \"dtick\": 1, \"range\": [0.5, 9.5], \"tickcolor\": \"#FFF\"}, \"paper_bgcolor\": \"#000\", \"height\": 500, \"titlefont\": {\"color\": \"#FFF\"}, \"title\": \"Choice after 4000 Iterations at Glimpse 0\", \"font\": {\"color\": \"#FFF\"}, \"width\": 500, \"legend\": {\"x\": 0, \"y\": 1}}, {\"showLink\": true, \"linkText\": \"Export to plot.ly\"})});</script>"
      ]
     },
     "metadata": {},
     "output_type": "display_data"
    },
    {
     "data": {
      "application/vnd.plotly.v1+json": {
       "data": [
        {
         "name": "Coefficient of Variation",
         "type": "scatter",
         "x": [
          1,
          2,
          3,
          4,
          5,
          6,
          7,
          8,
          9
         ],
         "y": [
          0.9675512080963641,
          0.8318892536735893,
          0.735735100618955,
          0.6760454366478564,
          0.6332610938902907,
          0.6203842752265138,
          0.6035956776949217,
          0.5918213705354888,
          0.5805097705223415
         ]
        }
       ],
       "layout": {
        "font": {
         "color": "#FFF"
        },
        "height": 300,
        "paper_bgcolor": "#000",
        "plot_bgcolor": "#000",
        "title": "Choice after 4000 Iterations at Glimpse 0",
        "titlefont": {
         "color": "#FFF"
        },
        "width": 500,
        "xaxis": {
         "dtick": 1,
         "range": [
          0.5,
          9.5
         ],
         "tickcolor": "#FFF",
         "title": "True Class"
        },
        "yaxis": {
         "showgrid": true,
         "tickcolor": "#FFF",
         "title": "Coefficient of Variation"
        }
       }
      },
      "text/html": [
       "<div id=\"716684ba-9985-4a72-a469-800d91119288\" style=\"height: 300px; width: 500px;\" class=\"plotly-graph-div\"></div><script type=\"text/javascript\">require([\"plotly\"], function(Plotly) { window.PLOTLYENV=window.PLOTLYENV || {};window.PLOTLYENV.BASE_URL=\"https://plot.ly\";Plotly.newPlot(\"716684ba-9985-4a72-a469-800d91119288\", [{\"x\": [1, 2, 3, 4, 5, 6, 7, 8, 9], \"type\": \"scatter\", \"name\": \"Coefficient of Variation\", \"y\": [0.9675512080963641, 0.8318892536735893, 0.735735100618955, 0.6760454366478564, 0.6332610938902907, 0.6203842752265138, 0.6035956776949217, 0.5918213705354888, 0.5805097705223415]}], {\"xaxis\": {\"title\": \"True Class\", \"dtick\": 1, \"range\": [0.5, 9.5], \"tickcolor\": \"#FFF\"}, \"plot_bgcolor\": \"#000\", \"titlefont\": {\"color\": \"#FFF\"}, \"paper_bgcolor\": \"#000\", \"height\": 300, \"yaxis\": {\"title\": \"Coefficient of Variation\", \"tickcolor\": \"#FFF\", \"showgrid\": true}, \"title\": \"Choice after 4000 Iterations at Glimpse 0\", \"font\": {\"color\": \"#FFF\"}, \"width\": 500}, {\"showLink\": true, \"linkText\": \"Export to plot.ly\"})});</script>"
      ],
      "text/vnd.plotly.v1+html": [
       "<div id=\"716684ba-9985-4a72-a469-800d91119288\" style=\"height: 300px; width: 500px;\" class=\"plotly-graph-div\"></div><script type=\"text/javascript\">require([\"plotly\"], function(Plotly) { window.PLOTLYENV=window.PLOTLYENV || {};window.PLOTLYENV.BASE_URL=\"https://plot.ly\";Plotly.newPlot(\"716684ba-9985-4a72-a469-800d91119288\", [{\"x\": [1, 2, 3, 4, 5, 6, 7, 8, 9], \"type\": \"scatter\", \"name\": \"Coefficient of Variation\", \"y\": [0.9675512080963641, 0.8318892536735893, 0.735735100618955, 0.6760454366478564, 0.6332610938902907, 0.6203842752265138, 0.6035956776949217, 0.5918213705354888, 0.5805097705223415]}], {\"xaxis\": {\"title\": \"True Class\", \"dtick\": 1, \"range\": [0.5, 9.5], \"tickcolor\": \"#FFF\"}, \"plot_bgcolor\": \"#000\", \"titlefont\": {\"color\": \"#FFF\"}, \"paper_bgcolor\": \"#000\", \"height\": 300, \"yaxis\": {\"title\": \"Coefficient of Variation\", \"tickcolor\": \"#FFF\", \"showgrid\": true}, \"title\": \"Choice after 4000 Iterations at Glimpse 0\", \"font\": {\"color\": \"#FFF\"}, \"width\": 500}, {\"showLink\": true, \"linkText\": \"Export to plot.ly\"})});</script>"
      ]
     },
     "metadata": {},
     "output_type": "display_data"
    },
    {
     "data": {
      "application/vnd.plotly.v1+json": {
       "data": [
        {
         "name": "Mean",
         "type": "scatter",
         "x": [
          1,
          2,
          3,
          4,
          5,
          6,
          7,
          8,
          9
         ],
         "y": [
          1.9344426919661917,
          2.3991143338721854,
          2.7817141785593327,
          3.0462713951503004,
          3.280578367538017,
          3.4492782095302217,
          3.5318458240175703,
          3.6383791799545326,
          3.7219592748468053
         ]
        },
        {
         "name": "Standard Deviation",
         "type": "scatter",
         "x": [
          1,
          2,
          3,
          4,
          5,
          6,
          7,
          8,
          9
         ],
         "y": [
          1.6241508010202783,
          1.976213429598534,
          2.197596883562091,
          2.293220989420528,
          2.3789558587471094,
          2.416730713765386,
          2.439184447914573,
          2.4445569113246277,
          2.4914385697705153
         ],
         "yaxis": "y2"
        }
       ],
       "layout": {
        "font": {
         "color": "#FFF"
        },
        "height": 500,
        "legend": {
         "x": 0,
         "y": 1
        },
        "paper_bgcolor": "#000",
        "plot_bgcolor": "#000",
        "title": "Confidence after 4000 Iterations at Glimpse 3",
        "titlefont": {
         "color": "#FFF"
        },
        "width": 500,
        "xaxis": {
         "dtick": 1,
         "range": [
          0.5,
          9.5
         ],
         "tickcolor": "#FFF",
         "title": "True Class"
        },
        "yaxis": {
         "dtick": 1,
         "range": [
          0.5,
          9.5
         ],
         "tickcolor": "#FFF",
         "title": "Mean"
        },
        "yaxis2": {
         "gridcolor": "#999",
         "overlaying": "y",
         "range": [
          0,
          3
         ],
         "side": "right",
         "tickcolor": "#FFF",
         "title": "Standard Deviation"
        }
       }
      },
      "text/html": [
       "<div id=\"08c1cfe3-fcd1-48a3-9770-6106c5d74dbf\" style=\"height: 500px; width: 500px;\" class=\"plotly-graph-div\"></div><script type=\"text/javascript\">require([\"plotly\"], function(Plotly) { window.PLOTLYENV=window.PLOTLYENV || {};window.PLOTLYENV.BASE_URL=\"https://plot.ly\";Plotly.newPlot(\"08c1cfe3-fcd1-48a3-9770-6106c5d74dbf\", [{\"x\": [1, 2, 3, 4, 5, 6, 7, 8, 9], \"type\": \"scatter\", \"name\": \"Mean\", \"y\": [1.9344426919661917, 2.3991143338721854, 2.7817141785593327, 3.0462713951503004, 3.280578367538017, 3.4492782095302217, 3.5318458240175703, 3.6383791799545326, 3.7219592748468053]}, {\"x\": [1, 2, 3, 4, 5, 6, 7, 8, 9], \"type\": \"scatter\", \"yaxis\": \"y2\", \"name\": \"Standard Deviation\", \"y\": [1.6241508010202783, 1.976213429598534, 2.197596883562091, 2.293220989420528, 2.3789558587471094, 2.416730713765386, 2.439184447914573, 2.4445569113246277, 2.4914385697705153]}], {\"xaxis\": {\"title\": \"True Class\", \"dtick\": 1, \"range\": [0.5, 9.5], \"tickcolor\": \"#FFF\"}, \"plot_bgcolor\": \"#000\", \"yaxis2\": {\"overlaying\": \"y\", \"range\": [0, 3], \"gridcolor\": \"#999\", \"title\": \"Standard Deviation\", \"side\": \"right\", \"tickcolor\": \"#FFF\"}, \"yaxis\": {\"title\": \"Mean\", \"dtick\": 1, \"range\": [0.5, 9.5], \"tickcolor\": \"#FFF\"}, \"paper_bgcolor\": \"#000\", \"height\": 500, \"titlefont\": {\"color\": \"#FFF\"}, \"title\": \"Confidence after 4000 Iterations at Glimpse 3\", \"font\": {\"color\": \"#FFF\"}, \"width\": 500, \"legend\": {\"x\": 0, \"y\": 1}}, {\"showLink\": true, \"linkText\": \"Export to plot.ly\"})});</script>"
      ],
      "text/vnd.plotly.v1+html": [
       "<div id=\"08c1cfe3-fcd1-48a3-9770-6106c5d74dbf\" style=\"height: 500px; width: 500px;\" class=\"plotly-graph-div\"></div><script type=\"text/javascript\">require([\"plotly\"], function(Plotly) { window.PLOTLYENV=window.PLOTLYENV || {};window.PLOTLYENV.BASE_URL=\"https://plot.ly\";Plotly.newPlot(\"08c1cfe3-fcd1-48a3-9770-6106c5d74dbf\", [{\"x\": [1, 2, 3, 4, 5, 6, 7, 8, 9], \"type\": \"scatter\", \"name\": \"Mean\", \"y\": [1.9344426919661917, 2.3991143338721854, 2.7817141785593327, 3.0462713951503004, 3.280578367538017, 3.4492782095302217, 3.5318458240175703, 3.6383791799545326, 3.7219592748468053]}, {\"x\": [1, 2, 3, 4, 5, 6, 7, 8, 9], \"type\": \"scatter\", \"yaxis\": \"y2\", \"name\": \"Standard Deviation\", \"y\": [1.6241508010202783, 1.976213429598534, 2.197596883562091, 2.293220989420528, 2.3789558587471094, 2.416730713765386, 2.439184447914573, 2.4445569113246277, 2.4914385697705153]}], {\"xaxis\": {\"title\": \"True Class\", \"dtick\": 1, \"range\": [0.5, 9.5], \"tickcolor\": \"#FFF\"}, \"plot_bgcolor\": \"#000\", \"yaxis2\": {\"overlaying\": \"y\", \"range\": [0, 3], \"gridcolor\": \"#999\", \"title\": \"Standard Deviation\", \"side\": \"right\", \"tickcolor\": \"#FFF\"}, \"yaxis\": {\"title\": \"Mean\", \"dtick\": 1, \"range\": [0.5, 9.5], \"tickcolor\": \"#FFF\"}, \"paper_bgcolor\": \"#000\", \"height\": 500, \"titlefont\": {\"color\": \"#FFF\"}, \"title\": \"Confidence after 4000 Iterations at Glimpse 3\", \"font\": {\"color\": \"#FFF\"}, \"width\": 500, \"legend\": {\"x\": 0, \"y\": 1}}, {\"showLink\": true, \"linkText\": \"Export to plot.ly\"})});</script>"
      ]
     },
     "metadata": {},
     "output_type": "display_data"
    },
    {
     "data": {
      "application/vnd.plotly.v1+json": {
       "data": [
        {
         "name": "Coefficient of Variation",
         "type": "scatter",
         "x": [
          1,
          2,
          3,
          4,
          5,
          6,
          7,
          8,
          9
         ],
         "y": [
          0.8399883619655654,
          0.8271590807221278,
          0.7961982110234644,
          0.7616650094155941,
          0.7319219265470414,
          0.7087887932816855,
          0.699856311012508,
          0.6797285121617367,
          0.6786595987338113
         ]
        }
       ],
       "layout": {
        "font": {
         "color": "#FFF"
        },
        "height": 300,
        "paper_bgcolor": "#000",
        "plot_bgcolor": "#000",
        "title": "Confidence after 4000 Iterations at Glimpse 3",
        "titlefont": {
         "color": "#FFF"
        },
        "width": 500,
        "xaxis": {
         "dtick": 1,
         "range": [
          0.5,
          9.5
         ],
         "tickcolor": "#FFF",
         "title": "True Class"
        },
        "yaxis": {
         "showgrid": true,
         "tickcolor": "#FFF",
         "title": "Coefficient of Variation"
        }
       }
      },
      "text/html": [
       "<div id=\"c00d2bc3-62ac-486d-92fb-5c32cbba892b\" style=\"height: 300px; width: 500px;\" class=\"plotly-graph-div\"></div><script type=\"text/javascript\">require([\"plotly\"], function(Plotly) { window.PLOTLYENV=window.PLOTLYENV || {};window.PLOTLYENV.BASE_URL=\"https://plot.ly\";Plotly.newPlot(\"c00d2bc3-62ac-486d-92fb-5c32cbba892b\", [{\"x\": [1, 2, 3, 4, 5, 6, 7, 8, 9], \"type\": \"scatter\", \"name\": \"Coefficient of Variation\", \"y\": [0.8399883619655654, 0.8271590807221278, 0.7961982110234644, 0.7616650094155941, 0.7319219265470414, 0.7087887932816855, 0.699856311012508, 0.6797285121617367, 0.6786595987338113]}], {\"xaxis\": {\"title\": \"True Class\", \"dtick\": 1, \"range\": [0.5, 9.5], \"tickcolor\": \"#FFF\"}, \"plot_bgcolor\": \"#000\", \"titlefont\": {\"color\": \"#FFF\"}, \"paper_bgcolor\": \"#000\", \"height\": 300, \"yaxis\": {\"title\": \"Coefficient of Variation\", \"tickcolor\": \"#FFF\", \"showgrid\": true}, \"title\": \"Confidence after 4000 Iterations at Glimpse 3\", \"font\": {\"color\": \"#FFF\"}, \"width\": 500}, {\"showLink\": true, \"linkText\": \"Export to plot.ly\"})});</script>"
      ],
      "text/vnd.plotly.v1+html": [
       "<div id=\"c00d2bc3-62ac-486d-92fb-5c32cbba892b\" style=\"height: 300px; width: 500px;\" class=\"plotly-graph-div\"></div><script type=\"text/javascript\">require([\"plotly\"], function(Plotly) { window.PLOTLYENV=window.PLOTLYENV || {};window.PLOTLYENV.BASE_URL=\"https://plot.ly\";Plotly.newPlot(\"c00d2bc3-62ac-486d-92fb-5c32cbba892b\", [{\"x\": [1, 2, 3, 4, 5, 6, 7, 8, 9], \"type\": \"scatter\", \"name\": \"Coefficient of Variation\", \"y\": [0.8399883619655654, 0.8271590807221278, 0.7961982110234644, 0.7616650094155941, 0.7319219265470414, 0.7087887932816855, 0.699856311012508, 0.6797285121617367, 0.6786595987338113]}], {\"xaxis\": {\"title\": \"True Class\", \"dtick\": 1, \"range\": [0.5, 9.5], \"tickcolor\": \"#FFF\"}, \"plot_bgcolor\": \"#000\", \"titlefont\": {\"color\": \"#FFF\"}, \"paper_bgcolor\": \"#000\", \"height\": 300, \"yaxis\": {\"title\": \"Coefficient of Variation\", \"tickcolor\": \"#FFF\", \"showgrid\": true}, \"title\": \"Confidence after 4000 Iterations at Glimpse 3\", \"font\": {\"color\": \"#FFF\"}, \"width\": 500}, {\"showLink\": true, \"linkText\": \"Export to plot.ly\"})});</script>"
      ]
     },
     "metadata": {},
     "output_type": "display_data"
    },
    {
     "data": {
      "application/vnd.plotly.v1+json": {
       "data": [
        {
         "name": "Mean",
         "type": "scatter",
         "x": [
          1,
          2,
          3,
          4,
          5,
          6,
          7,
          8,
          9
         ],
         "y": [
          1.7489999999999999,
          2.2832,
          2.7053,
          2.9822999999999995,
          3.2466,
          3.4219,
          3.5092,
          3.6229000000000005,
          3.7153000000000005
         ]
        },
        {
         "name": "Standard Deviation",
         "type": "scatter",
         "x": [
          1,
          2,
          3,
          4,
          5,
          6,
          7,
          8,
          9
         ],
         "y": [
          1.5637894976026432,
          1.9641239272368893,
          2.19774328046717,
          2.2871244477555113,
          2.378484621780698,
          2.4158359053939567,
          2.441724481453457,
          2.4407380153655422,
          2.4916558928944075
         ],
         "yaxis": "y2"
        }
       ],
       "layout": {
        "font": {
         "color": "#FFF"
        },
        "height": 500,
        "legend": {
         "x": 0,
         "y": 1
        },
        "paper_bgcolor": "#000",
        "plot_bgcolor": "#000",
        "title": "Choice after 4000 Iterations at Glimpse 3",
        "titlefont": {
         "color": "#FFF"
        },
        "width": 500,
        "xaxis": {
         "dtick": 1,
         "range": [
          0.5,
          9.5
         ],
         "tickcolor": "#FFF",
         "title": "True Class"
        },
        "yaxis": {
         "dtick": 1,
         "range": [
          0.5,
          9.5
         ],
         "tickcolor": "#FFF",
         "title": "Mean"
        },
        "yaxis2": {
         "gridcolor": "#999",
         "overlaying": "y",
         "range": [
          0,
          3
         ],
         "side": "right",
         "tickcolor": "#FFF",
         "title": "Standard Deviation"
        }
       }
      },
      "text/html": [
       "<div id=\"623cc2b3-bdac-42a3-a588-4eab34ab0eb1\" style=\"height: 500px; width: 500px;\" class=\"plotly-graph-div\"></div><script type=\"text/javascript\">require([\"plotly\"], function(Plotly) { window.PLOTLYENV=window.PLOTLYENV || {};window.PLOTLYENV.BASE_URL=\"https://plot.ly\";Plotly.newPlot(\"623cc2b3-bdac-42a3-a588-4eab34ab0eb1\", [{\"x\": [1, 2, 3, 4, 5, 6, 7, 8, 9], \"type\": \"scatter\", \"name\": \"Mean\", \"y\": [1.7489999999999999, 2.2832, 2.7053, 2.9822999999999995, 3.2466, 3.4219, 3.5092, 3.6229000000000005, 3.7153000000000005]}, {\"x\": [1, 2, 3, 4, 5, 6, 7, 8, 9], \"type\": \"scatter\", \"yaxis\": \"y2\", \"name\": \"Standard Deviation\", \"y\": [1.5637894976026432, 1.9641239272368893, 2.19774328046717, 2.2871244477555113, 2.378484621780698, 2.4158359053939567, 2.441724481453457, 2.4407380153655422, 2.4916558928944075]}], {\"xaxis\": {\"title\": \"True Class\", \"dtick\": 1, \"range\": [0.5, 9.5], \"tickcolor\": \"#FFF\"}, \"plot_bgcolor\": \"#000\", \"yaxis2\": {\"overlaying\": \"y\", \"range\": [0, 3], \"gridcolor\": \"#999\", \"title\": \"Standard Deviation\", \"side\": \"right\", \"tickcolor\": \"#FFF\"}, \"yaxis\": {\"title\": \"Mean\", \"dtick\": 1, \"range\": [0.5, 9.5], \"tickcolor\": \"#FFF\"}, \"paper_bgcolor\": \"#000\", \"height\": 500, \"titlefont\": {\"color\": \"#FFF\"}, \"title\": \"Choice after 4000 Iterations at Glimpse 3\", \"font\": {\"color\": \"#FFF\"}, \"width\": 500, \"legend\": {\"x\": 0, \"y\": 1}}, {\"showLink\": true, \"linkText\": \"Export to plot.ly\"})});</script>"
      ],
      "text/vnd.plotly.v1+html": [
       "<div id=\"623cc2b3-bdac-42a3-a588-4eab34ab0eb1\" style=\"height: 500px; width: 500px;\" class=\"plotly-graph-div\"></div><script type=\"text/javascript\">require([\"plotly\"], function(Plotly) { window.PLOTLYENV=window.PLOTLYENV || {};window.PLOTLYENV.BASE_URL=\"https://plot.ly\";Plotly.newPlot(\"623cc2b3-bdac-42a3-a588-4eab34ab0eb1\", [{\"x\": [1, 2, 3, 4, 5, 6, 7, 8, 9], \"type\": \"scatter\", \"name\": \"Mean\", \"y\": [1.7489999999999999, 2.2832, 2.7053, 2.9822999999999995, 3.2466, 3.4219, 3.5092, 3.6229000000000005, 3.7153000000000005]}, {\"x\": [1, 2, 3, 4, 5, 6, 7, 8, 9], \"type\": \"scatter\", \"yaxis\": \"y2\", \"name\": \"Standard Deviation\", \"y\": [1.5637894976026432, 1.9641239272368893, 2.19774328046717, 2.2871244477555113, 2.378484621780698, 2.4158359053939567, 2.441724481453457, 2.4407380153655422, 2.4916558928944075]}], {\"xaxis\": {\"title\": \"True Class\", \"dtick\": 1, \"range\": [0.5, 9.5], \"tickcolor\": \"#FFF\"}, \"plot_bgcolor\": \"#000\", \"yaxis2\": {\"overlaying\": \"y\", \"range\": [0, 3], \"gridcolor\": \"#999\", \"title\": \"Standard Deviation\", \"side\": \"right\", \"tickcolor\": \"#FFF\"}, \"yaxis\": {\"title\": \"Mean\", \"dtick\": 1, \"range\": [0.5, 9.5], \"tickcolor\": \"#FFF\"}, \"paper_bgcolor\": \"#000\", \"height\": 500, \"titlefont\": {\"color\": \"#FFF\"}, \"title\": \"Choice after 4000 Iterations at Glimpse 3\", \"font\": {\"color\": \"#FFF\"}, \"width\": 500, \"legend\": {\"x\": 0, \"y\": 1}}, {\"showLink\": true, \"linkText\": \"Export to plot.ly\"})});</script>"
      ]
     },
     "metadata": {},
     "output_type": "display_data"
    },
    {
     "data": {
      "application/vnd.plotly.v1+json": {
       "data": [
        {
         "name": "Coefficient of Variation",
         "type": "scatter",
         "x": [
          1,
          2,
          3,
          4,
          5,
          6,
          7,
          8,
          9
         ],
         "y": [
          0.8924164483030343,
          0.8633300382562077,
          0.8186541540334051,
          0.7759404757923519,
          0.7392385605067496,
          0.7140431986923291,
          0.7053393530825722,
          0.6816657354869277,
          0.6793915409229256
         ]
        }
       ],
       "layout": {
        "font": {
         "color": "#FFF"
        },
        "height": 300,
        "paper_bgcolor": "#000",
        "plot_bgcolor": "#000",
        "title": "Choice after 4000 Iterations at Glimpse 3",
        "titlefont": {
         "color": "#FFF"
        },
        "width": 500,
        "xaxis": {
         "dtick": 1,
         "range": [
          0.5,
          9.5
         ],
         "tickcolor": "#FFF",
         "title": "True Class"
        },
        "yaxis": {
         "showgrid": true,
         "tickcolor": "#FFF",
         "title": "Coefficient of Variation"
        }
       }
      },
      "text/html": [
       "<div id=\"8d6ea307-6e50-4fff-98d8-ee0771681ee9\" style=\"height: 300px; width: 500px;\" class=\"plotly-graph-div\"></div><script type=\"text/javascript\">require([\"plotly\"], function(Plotly) { window.PLOTLYENV=window.PLOTLYENV || {};window.PLOTLYENV.BASE_URL=\"https://plot.ly\";Plotly.newPlot(\"8d6ea307-6e50-4fff-98d8-ee0771681ee9\", [{\"x\": [1, 2, 3, 4, 5, 6, 7, 8, 9], \"type\": \"scatter\", \"name\": \"Coefficient of Variation\", \"y\": [0.8924164483030343, 0.8633300382562077, 0.8186541540334051, 0.7759404757923519, 0.7392385605067496, 0.7140431986923291, 0.7053393530825722, 0.6816657354869277, 0.6793915409229256]}], {\"xaxis\": {\"title\": \"True Class\", \"dtick\": 1, \"range\": [0.5, 9.5], \"tickcolor\": \"#FFF\"}, \"plot_bgcolor\": \"#000\", \"titlefont\": {\"color\": \"#FFF\"}, \"paper_bgcolor\": \"#000\", \"height\": 300, \"yaxis\": {\"title\": \"Coefficient of Variation\", \"tickcolor\": \"#FFF\", \"showgrid\": true}, \"title\": \"Choice after 4000 Iterations at Glimpse 3\", \"font\": {\"color\": \"#FFF\"}, \"width\": 500}, {\"showLink\": true, \"linkText\": \"Export to plot.ly\"})});</script>"
      ],
      "text/vnd.plotly.v1+html": [
       "<div id=\"8d6ea307-6e50-4fff-98d8-ee0771681ee9\" style=\"height: 300px; width: 500px;\" class=\"plotly-graph-div\"></div><script type=\"text/javascript\">require([\"plotly\"], function(Plotly) { window.PLOTLYENV=window.PLOTLYENV || {};window.PLOTLYENV.BASE_URL=\"https://plot.ly\";Plotly.newPlot(\"8d6ea307-6e50-4fff-98d8-ee0771681ee9\", [{\"x\": [1, 2, 3, 4, 5, 6, 7, 8, 9], \"type\": \"scatter\", \"name\": \"Coefficient of Variation\", \"y\": [0.8924164483030343, 0.8633300382562077, 0.8186541540334051, 0.7759404757923519, 0.7392385605067496, 0.7140431986923291, 0.7053393530825722, 0.6816657354869277, 0.6793915409229256]}], {\"xaxis\": {\"title\": \"True Class\", \"dtick\": 1, \"range\": [0.5, 9.5], \"tickcolor\": \"#FFF\"}, \"plot_bgcolor\": \"#000\", \"titlefont\": {\"color\": \"#FFF\"}, \"paper_bgcolor\": \"#000\", \"height\": 300, \"yaxis\": {\"title\": \"Coefficient of Variation\", \"tickcolor\": \"#FFF\", \"showgrid\": true}, \"title\": \"Choice after 4000 Iterations at Glimpse 3\", \"font\": {\"color\": \"#FFF\"}, \"width\": 500}, {\"showLink\": true, \"linkText\": \"Export to plot.ly\"})});</script>"
      ]
     },
     "metadata": {},
     "output_type": "display_data"
    },
    {
     "data": {
      "application/vnd.plotly.v1+json": {
       "data": [
        {
         "name": "Mean",
         "type": "scatter",
         "x": [
          1,
          2,
          3,
          4,
          5,
          6,
          7,
          8,
          9
         ],
         "y": [
          1.8007952548792105,
          2.1388676878863664,
          2.38107573112256,
          2.56292481106731,
          2.6816377586792113,
          2.8195636851625827,
          2.866113834138515,
          2.944746503413269,
          2.9984236971044282
         ]
        },
        {
         "name": "Standard Deviation",
         "type": "scatter",
         "x": [
          1,
          2,
          3,
          4,
          5,
          6,
          7,
          8,
          9
         ],
         "y": [
          1.3346221294225729,
          1.6258201749148564,
          1.7859565791560015,
          1.8925706364679573,
          1.9470821898221664,
          2.0006805195588546,
          2.0294645541624265,
          2.05862961290622,
          2.115442499181186
         ],
         "yaxis": "y2"
        }
       ],
       "layout": {
        "font": {
         "color": "#FFF"
        },
        "height": 500,
        "legend": {
         "x": 0,
         "y": 1
        },
        "paper_bgcolor": "#000",
        "plot_bgcolor": "#000",
        "title": "Confidence after 4000 Iterations at Glimpse 9",
        "titlefont": {
         "color": "#FFF"
        },
        "width": 500,
        "xaxis": {
         "dtick": 1,
         "range": [
          0.5,
          9.5
         ],
         "tickcolor": "#FFF",
         "title": "True Class"
        },
        "yaxis": {
         "dtick": 1,
         "range": [
          0.5,
          9.5
         ],
         "tickcolor": "#FFF",
         "title": "Mean"
        },
        "yaxis2": {
         "gridcolor": "#999",
         "overlaying": "y",
         "range": [
          0,
          3
         ],
         "side": "right",
         "tickcolor": "#FFF",
         "title": "Standard Deviation"
        }
       }
      },
      "text/html": [
       "<div id=\"0bfc1583-f814-4659-bb05-4059899bc766\" style=\"height: 500px; width: 500px;\" class=\"plotly-graph-div\"></div><script type=\"text/javascript\">require([\"plotly\"], function(Plotly) { window.PLOTLYENV=window.PLOTLYENV || {};window.PLOTLYENV.BASE_URL=\"https://plot.ly\";Plotly.newPlot(\"0bfc1583-f814-4659-bb05-4059899bc766\", [{\"x\": [1, 2, 3, 4, 5, 6, 7, 8, 9], \"type\": \"scatter\", \"name\": \"Mean\", \"y\": [1.8007952548792105, 2.1388676878863664, 2.38107573112256, 2.56292481106731, 2.6816377586792113, 2.8195636851625827, 2.866113834138515, 2.944746503413269, 2.9984236971044282]}, {\"x\": [1, 2, 3, 4, 5, 6, 7, 8, 9], \"type\": \"scatter\", \"yaxis\": \"y2\", \"name\": \"Standard Deviation\", \"y\": [1.3346221294225729, 1.6258201749148564, 1.7859565791560015, 1.8925706364679573, 1.9470821898221664, 2.0006805195588546, 2.0294645541624265, 2.05862961290622, 2.115442499181186]}], {\"xaxis\": {\"title\": \"True Class\", \"dtick\": 1, \"range\": [0.5, 9.5], \"tickcolor\": \"#FFF\"}, \"plot_bgcolor\": \"#000\", \"yaxis2\": {\"overlaying\": \"y\", \"range\": [0, 3], \"gridcolor\": \"#999\", \"title\": \"Standard Deviation\", \"side\": \"right\", \"tickcolor\": \"#FFF\"}, \"yaxis\": {\"title\": \"Mean\", \"dtick\": 1, \"range\": [0.5, 9.5], \"tickcolor\": \"#FFF\"}, \"paper_bgcolor\": \"#000\", \"height\": 500, \"titlefont\": {\"color\": \"#FFF\"}, \"title\": \"Confidence after 4000 Iterations at Glimpse 9\", \"font\": {\"color\": \"#FFF\"}, \"width\": 500, \"legend\": {\"x\": 0, \"y\": 1}}, {\"showLink\": true, \"linkText\": \"Export to plot.ly\"})});</script>"
      ],
      "text/vnd.plotly.v1+html": [
       "<div id=\"0bfc1583-f814-4659-bb05-4059899bc766\" style=\"height: 500px; width: 500px;\" class=\"plotly-graph-div\"></div><script type=\"text/javascript\">require([\"plotly\"], function(Plotly) { window.PLOTLYENV=window.PLOTLYENV || {};window.PLOTLYENV.BASE_URL=\"https://plot.ly\";Plotly.newPlot(\"0bfc1583-f814-4659-bb05-4059899bc766\", [{\"x\": [1, 2, 3, 4, 5, 6, 7, 8, 9], \"type\": \"scatter\", \"name\": \"Mean\", \"y\": [1.8007952548792105, 2.1388676878863664, 2.38107573112256, 2.56292481106731, 2.6816377586792113, 2.8195636851625827, 2.866113834138515, 2.944746503413269, 2.9984236971044282]}, {\"x\": [1, 2, 3, 4, 5, 6, 7, 8, 9], \"type\": \"scatter\", \"yaxis\": \"y2\", \"name\": \"Standard Deviation\", \"y\": [1.3346221294225729, 1.6258201749148564, 1.7859565791560015, 1.8925706364679573, 1.9470821898221664, 2.0006805195588546, 2.0294645541624265, 2.05862961290622, 2.115442499181186]}], {\"xaxis\": {\"title\": \"True Class\", \"dtick\": 1, \"range\": [0.5, 9.5], \"tickcolor\": \"#FFF\"}, \"plot_bgcolor\": \"#000\", \"yaxis2\": {\"overlaying\": \"y\", \"range\": [0, 3], \"gridcolor\": \"#999\", \"title\": \"Standard Deviation\", \"side\": \"right\", \"tickcolor\": \"#FFF\"}, \"yaxis\": {\"title\": \"Mean\", \"dtick\": 1, \"range\": [0.5, 9.5], \"tickcolor\": \"#FFF\"}, \"paper_bgcolor\": \"#000\", \"height\": 500, \"titlefont\": {\"color\": \"#FFF\"}, \"title\": \"Confidence after 4000 Iterations at Glimpse 9\", \"font\": {\"color\": \"#FFF\"}, \"width\": 500, \"legend\": {\"x\": 0, \"y\": 1}}, {\"showLink\": true, \"linkText\": \"Export to plot.ly\"})});</script>"
      ]
     },
     "metadata": {},
     "output_type": "display_data"
    },
    {
     "data": {
      "application/vnd.plotly.v1+json": {
       "data": [
        {
         "name": "Coefficient of Variation",
         "type": "scatter",
         "x": [
          1,
          2,
          3,
          4,
          5,
          6,
          7,
          8,
          9
         ],
         "y": [
          0.7533075677305925,
          0.7754526654557325,
          0.7651246601017794,
          0.7556677595019426,
          0.740897201503348,
          0.7250847414773898,
          0.7228783767867604,
          0.7135423253206035,
          0.7207779062683398
         ]
        }
       ],
       "layout": {
        "font": {
         "color": "#FFF"
        },
        "height": 300,
        "paper_bgcolor": "#000",
        "plot_bgcolor": "#000",
        "title": "Confidence after 4000 Iterations at Glimpse 9",
        "titlefont": {
         "color": "#FFF"
        },
        "width": 500,
        "xaxis": {
         "dtick": 1,
         "range": [
          0.5,
          9.5
         ],
         "tickcolor": "#FFF",
         "title": "True Class"
        },
        "yaxis": {
         "showgrid": true,
         "tickcolor": "#FFF",
         "title": "Coefficient of Variation"
        }
       }
      },
      "text/html": [
       "<div id=\"cc81919c-a554-4f73-8dff-7754214924fc\" style=\"height: 300px; width: 500px;\" class=\"plotly-graph-div\"></div><script type=\"text/javascript\">require([\"plotly\"], function(Plotly) { window.PLOTLYENV=window.PLOTLYENV || {};window.PLOTLYENV.BASE_URL=\"https://plot.ly\";Plotly.newPlot(\"cc81919c-a554-4f73-8dff-7754214924fc\", [{\"x\": [1, 2, 3, 4, 5, 6, 7, 8, 9], \"type\": \"scatter\", \"name\": \"Coefficient of Variation\", \"y\": [0.7533075677305925, 0.7754526654557325, 0.7651246601017794, 0.7556677595019426, 0.740897201503348, 0.7250847414773898, 0.7228783767867604, 0.7135423253206035, 0.7207779062683398]}], {\"xaxis\": {\"title\": \"True Class\", \"dtick\": 1, \"range\": [0.5, 9.5], \"tickcolor\": \"#FFF\"}, \"plot_bgcolor\": \"#000\", \"titlefont\": {\"color\": \"#FFF\"}, \"paper_bgcolor\": \"#000\", \"height\": 300, \"yaxis\": {\"title\": \"Coefficient of Variation\", \"tickcolor\": \"#FFF\", \"showgrid\": true}, \"title\": \"Confidence after 4000 Iterations at Glimpse 9\", \"font\": {\"color\": \"#FFF\"}, \"width\": 500}, {\"showLink\": true, \"linkText\": \"Export to plot.ly\"})});</script>"
      ],
      "text/vnd.plotly.v1+html": [
       "<div id=\"cc81919c-a554-4f73-8dff-7754214924fc\" style=\"height: 300px; width: 500px;\" class=\"plotly-graph-div\"></div><script type=\"text/javascript\">require([\"plotly\"], function(Plotly) { window.PLOTLYENV=window.PLOTLYENV || {};window.PLOTLYENV.BASE_URL=\"https://plot.ly\";Plotly.newPlot(\"cc81919c-a554-4f73-8dff-7754214924fc\", [{\"x\": [1, 2, 3, 4, 5, 6, 7, 8, 9], \"type\": \"scatter\", \"name\": \"Coefficient of Variation\", \"y\": [0.7533075677305925, 0.7754526654557325, 0.7651246601017794, 0.7556677595019426, 0.740897201503348, 0.7250847414773898, 0.7228783767867604, 0.7135423253206035, 0.7207779062683398]}], {\"xaxis\": {\"title\": \"True Class\", \"dtick\": 1, \"range\": [0.5, 9.5], \"tickcolor\": \"#FFF\"}, \"plot_bgcolor\": \"#000\", \"titlefont\": {\"color\": \"#FFF\"}, \"paper_bgcolor\": \"#000\", \"height\": 300, \"yaxis\": {\"title\": \"Coefficient of Variation\", \"tickcolor\": \"#FFF\", \"showgrid\": true}, \"title\": \"Confidence after 4000 Iterations at Glimpse 9\", \"font\": {\"color\": \"#FFF\"}, \"width\": 500}, {\"showLink\": true, \"linkText\": \"Export to plot.ly\"})});</script>"
      ]
     },
     "metadata": {},
     "output_type": "display_data"
    },
    {
     "data": {
      "application/vnd.plotly.v1+json": {
       "data": [
        {
         "name": "Mean",
         "type": "scatter",
         "x": [
          1,
          2,
          3,
          4,
          5,
          6,
          7,
          8,
          9
         ],
         "y": [
          1.6098,
          2.0261,
          2.3083,
          2.5132000000000003,
          2.6422000000000003,
          2.8045,
          2.8427999999999995,
          2.9287,
          2.9853
         ]
        },
        {
         "name": "Standard Deviation",
         "type": "scatter",
         "x": [
          1,
          2,
          3,
          4,
          5,
          6,
          7,
          8,
          9
         ],
         "y": [
          1.2961442427275967,
          1.608159167072437,
          1.7782140837394174,
          1.8807716799545602,
          1.942730187146872,
          1.9956558351816223,
          2.0197373906365206,
          2.0426951564984472,
          2.109809736468522
         ],
         "yaxis": "y2"
        }
       ],
       "layout": {
        "font": {
         "color": "#FFF"
        },
        "height": 500,
        "legend": {
         "x": 0,
         "y": 1
        },
        "paper_bgcolor": "#000",
        "plot_bgcolor": "#000",
        "title": "Choice after 4000 Iterations at Glimpse 9",
        "titlefont": {
         "color": "#FFF"
        },
        "width": 500,
        "xaxis": {
         "dtick": 1,
         "range": [
          0.5,
          9.5
         ],
         "tickcolor": "#FFF",
         "title": "True Class"
        },
        "yaxis": {
         "dtick": 1,
         "range": [
          0.5,
          9.5
         ],
         "tickcolor": "#FFF",
         "title": "Mean"
        },
        "yaxis2": {
         "gridcolor": "#999",
         "overlaying": "y",
         "range": [
          0,
          3
         ],
         "side": "right",
         "tickcolor": "#FFF",
         "title": "Standard Deviation"
        }
       }
      },
      "text/html": [
       "<div id=\"1541a3df-34a0-45db-bc23-bd88e6520edc\" style=\"height: 500px; width: 500px;\" class=\"plotly-graph-div\"></div><script type=\"text/javascript\">require([\"plotly\"], function(Plotly) { window.PLOTLYENV=window.PLOTLYENV || {};window.PLOTLYENV.BASE_URL=\"https://plot.ly\";Plotly.newPlot(\"1541a3df-34a0-45db-bc23-bd88e6520edc\", [{\"x\": [1, 2, 3, 4, 5, 6, 7, 8, 9], \"type\": \"scatter\", \"name\": \"Mean\", \"y\": [1.6098, 2.0261, 2.3083, 2.5132000000000003, 2.6422000000000003, 2.8045, 2.8427999999999995, 2.9287, 2.9853]}, {\"x\": [1, 2, 3, 4, 5, 6, 7, 8, 9], \"type\": \"scatter\", \"yaxis\": \"y2\", \"name\": \"Standard Deviation\", \"y\": [1.2961442427275967, 1.608159167072437, 1.7782140837394174, 1.8807716799545602, 1.942730187146872, 1.9956558351816223, 2.0197373906365206, 2.0426951564984472, 2.109809736468522]}], {\"xaxis\": {\"title\": \"True Class\", \"dtick\": 1, \"range\": [0.5, 9.5], \"tickcolor\": \"#FFF\"}, \"plot_bgcolor\": \"#000\", \"yaxis2\": {\"overlaying\": \"y\", \"range\": [0, 3], \"gridcolor\": \"#999\", \"title\": \"Standard Deviation\", \"side\": \"right\", \"tickcolor\": \"#FFF\"}, \"yaxis\": {\"title\": \"Mean\", \"dtick\": 1, \"range\": [0.5, 9.5], \"tickcolor\": \"#FFF\"}, \"paper_bgcolor\": \"#000\", \"height\": 500, \"titlefont\": {\"color\": \"#FFF\"}, \"title\": \"Choice after 4000 Iterations at Glimpse 9\", \"font\": {\"color\": \"#FFF\"}, \"width\": 500, \"legend\": {\"x\": 0, \"y\": 1}}, {\"showLink\": true, \"linkText\": \"Export to plot.ly\"})});</script>"
      ],
      "text/vnd.plotly.v1+html": [
       "<div id=\"1541a3df-34a0-45db-bc23-bd88e6520edc\" style=\"height: 500px; width: 500px;\" class=\"plotly-graph-div\"></div><script type=\"text/javascript\">require([\"plotly\"], function(Plotly) { window.PLOTLYENV=window.PLOTLYENV || {};window.PLOTLYENV.BASE_URL=\"https://plot.ly\";Plotly.newPlot(\"1541a3df-34a0-45db-bc23-bd88e6520edc\", [{\"x\": [1, 2, 3, 4, 5, 6, 7, 8, 9], \"type\": \"scatter\", \"name\": \"Mean\", \"y\": [1.6098, 2.0261, 2.3083, 2.5132000000000003, 2.6422000000000003, 2.8045, 2.8427999999999995, 2.9287, 2.9853]}, {\"x\": [1, 2, 3, 4, 5, 6, 7, 8, 9], \"type\": \"scatter\", \"yaxis\": \"y2\", \"name\": \"Standard Deviation\", \"y\": [1.2961442427275967, 1.608159167072437, 1.7782140837394174, 1.8807716799545602, 1.942730187146872, 1.9956558351816223, 2.0197373906365206, 2.0426951564984472, 2.109809736468522]}], {\"xaxis\": {\"title\": \"True Class\", \"dtick\": 1, \"range\": [0.5, 9.5], \"tickcolor\": \"#FFF\"}, \"plot_bgcolor\": \"#000\", \"yaxis2\": {\"overlaying\": \"y\", \"range\": [0, 3], \"gridcolor\": \"#999\", \"title\": \"Standard Deviation\", \"side\": \"right\", \"tickcolor\": \"#FFF\"}, \"yaxis\": {\"title\": \"Mean\", \"dtick\": 1, \"range\": [0.5, 9.5], \"tickcolor\": \"#FFF\"}, \"paper_bgcolor\": \"#000\", \"height\": 500, \"titlefont\": {\"color\": \"#FFF\"}, \"title\": \"Choice after 4000 Iterations at Glimpse 9\", \"font\": {\"color\": \"#FFF\"}, \"width\": 500, \"legend\": {\"x\": 0, \"y\": 1}}, {\"showLink\": true, \"linkText\": \"Export to plot.ly\"})});</script>"
      ]
     },
     "metadata": {},
     "output_type": "display_data"
    },
    {
     "data": {
      "application/vnd.plotly.v1+json": {
       "data": [
        {
         "name": "Coefficient of Variation",
         "type": "scatter",
         "x": [
          1,
          2,
          3,
          4,
          5,
          6,
          7,
          8,
          9
         ],
         "y": [
          0.8066929826389941,
          0.8036911955348751,
          0.7829407066979629,
          0.7652046671377473,
          0.7493238812475821,
          0.728202719243537,
          0.7250841037520608,
          0.7127066621174971,
          0.7231116295385605
         ]
        }
       ],
       "layout": {
        "font": {
         "color": "#FFF"
        },
        "height": 300,
        "paper_bgcolor": "#000",
        "plot_bgcolor": "#000",
        "title": "Choice after 4000 Iterations at Glimpse 9",
        "titlefont": {
         "color": "#FFF"
        },
        "width": 500,
        "xaxis": {
         "dtick": 1,
         "range": [
          0.5,
          9.5
         ],
         "tickcolor": "#FFF",
         "title": "True Class"
        },
        "yaxis": {
         "showgrid": true,
         "tickcolor": "#FFF",
         "title": "Coefficient of Variation"
        }
       }
      },
      "text/html": [
       "<div id=\"acc5c73f-7bdd-40e2-a811-4811990be8a9\" style=\"height: 300px; width: 500px;\" class=\"plotly-graph-div\"></div><script type=\"text/javascript\">require([\"plotly\"], function(Plotly) { window.PLOTLYENV=window.PLOTLYENV || {};window.PLOTLYENV.BASE_URL=\"https://plot.ly\";Plotly.newPlot(\"acc5c73f-7bdd-40e2-a811-4811990be8a9\", [{\"x\": [1, 2, 3, 4, 5, 6, 7, 8, 9], \"type\": \"scatter\", \"name\": \"Coefficient of Variation\", \"y\": [0.8066929826389941, 0.8036911955348751, 0.7829407066979629, 0.7652046671377473, 0.7493238812475821, 0.728202719243537, 0.7250841037520608, 0.7127066621174971, 0.7231116295385605]}], {\"xaxis\": {\"title\": \"True Class\", \"dtick\": 1, \"range\": [0.5, 9.5], \"tickcolor\": \"#FFF\"}, \"plot_bgcolor\": \"#000\", \"titlefont\": {\"color\": \"#FFF\"}, \"paper_bgcolor\": \"#000\", \"height\": 300, \"yaxis\": {\"title\": \"Coefficient of Variation\", \"tickcolor\": \"#FFF\", \"showgrid\": true}, \"title\": \"Choice after 4000 Iterations at Glimpse 9\", \"font\": {\"color\": \"#FFF\"}, \"width\": 500}, {\"showLink\": true, \"linkText\": \"Export to plot.ly\"})});</script>"
      ],
      "text/vnd.plotly.v1+html": [
       "<div id=\"acc5c73f-7bdd-40e2-a811-4811990be8a9\" style=\"height: 300px; width: 500px;\" class=\"plotly-graph-div\"></div><script type=\"text/javascript\">require([\"plotly\"], function(Plotly) { window.PLOTLYENV=window.PLOTLYENV || {};window.PLOTLYENV.BASE_URL=\"https://plot.ly\";Plotly.newPlot(\"acc5c73f-7bdd-40e2-a811-4811990be8a9\", [{\"x\": [1, 2, 3, 4, 5, 6, 7, 8, 9], \"type\": \"scatter\", \"name\": \"Coefficient of Variation\", \"y\": [0.8066929826389941, 0.8036911955348751, 0.7829407066979629, 0.7652046671377473, 0.7493238812475821, 0.728202719243537, 0.7250841037520608, 0.7127066621174971, 0.7231116295385605]}], {\"xaxis\": {\"title\": \"True Class\", \"dtick\": 1, \"range\": [0.5, 9.5], \"tickcolor\": \"#FFF\"}, \"plot_bgcolor\": \"#000\", \"titlefont\": {\"color\": \"#FFF\"}, \"paper_bgcolor\": \"#000\", \"height\": 300, \"yaxis\": {\"title\": \"Coefficient of Variation\", \"tickcolor\": \"#FFF\", \"showgrid\": true}, \"title\": \"Choice after 4000 Iterations at Glimpse 9\", \"font\": {\"color\": \"#FFF\"}, \"width\": 500}, {\"showLink\": true, \"linkText\": \"Export to plot.ly\"})});</script>"
      ]
     },
     "metadata": {},
     "output_type": "display_data"
    },
    {
     "data": {
      "application/vnd.plotly.v1+json": {
       "data": [
        {
         "name": "Mean",
         "type": "scatter",
         "x": [
          1,
          2,
          3,
          4,
          5,
          6,
          7,
          8,
          9
         ],
         "y": [
          2.4280590355417244,
          2.9452952826279732,
          3.4040629093848596,
          3.780891960908773,
          4.131595869235958,
          4.378638927587103,
          4.5916637384666545,
          4.781214514932819,
          4.965189866298218
         ]
        },
        {
         "name": "Standard Deviation",
         "type": "scatter",
         "x": [
          1,
          2,
          3,
          4,
          5,
          6,
          7,
          8,
          9
         ],
         "y": [
          1.9743347919428889,
          2.2287257485219962,
          2.378331437604487,
          2.4433687755547746,
          2.480426325812961,
          2.501951899266826,
          2.4833355405171647,
          2.469484492675769,
          2.436984689796335
         ],
         "yaxis": "y2"
        }
       ],
       "layout": {
        "font": {
         "color": "#FFF"
        },
        "height": 500,
        "legend": {
         "x": 0,
         "y": 1
        },
        "paper_bgcolor": "#000",
        "plot_bgcolor": "#000",
        "title": "Confidence after 16000 Iterations at Glimpse 0",
        "titlefont": {
         "color": "#FFF"
        },
        "width": 500,
        "xaxis": {
         "dtick": 1,
         "range": [
          0.5,
          9.5
         ],
         "tickcolor": "#FFF",
         "title": "True Class"
        },
        "yaxis": {
         "dtick": 1,
         "range": [
          0.5,
          9.5
         ],
         "tickcolor": "#FFF",
         "title": "Mean"
        },
        "yaxis2": {
         "gridcolor": "#999",
         "overlaying": "y",
         "range": [
          0,
          3
         ],
         "side": "right",
         "tickcolor": "#FFF",
         "title": "Standard Deviation"
        }
       }
      },
      "text/html": [
       "<div id=\"1a51dc71-7af3-4827-b692-cd56076d469a\" style=\"height: 500px; width: 500px;\" class=\"plotly-graph-div\"></div><script type=\"text/javascript\">require([\"plotly\"], function(Plotly) { window.PLOTLYENV=window.PLOTLYENV || {};window.PLOTLYENV.BASE_URL=\"https://plot.ly\";Plotly.newPlot(\"1a51dc71-7af3-4827-b692-cd56076d469a\", [{\"x\": [1, 2, 3, 4, 5, 6, 7, 8, 9], \"type\": \"scatter\", \"name\": \"Mean\", \"y\": [2.4280590355417244, 2.9452952826279732, 3.4040629093848596, 3.780891960908773, 4.131595869235958, 4.378638927587103, 4.5916637384666545, 4.781214514932819, 4.965189866298218]}, {\"x\": [1, 2, 3, 4, 5, 6, 7, 8, 9], \"type\": \"scatter\", \"yaxis\": \"y2\", \"name\": \"Standard Deviation\", \"y\": [1.9743347919428889, 2.2287257485219962, 2.378331437604487, 2.4433687755547746, 2.480426325812961, 2.501951899266826, 2.4833355405171647, 2.469484492675769, 2.436984689796335]}], {\"xaxis\": {\"title\": \"True Class\", \"dtick\": 1, \"range\": [0.5, 9.5], \"tickcolor\": \"#FFF\"}, \"plot_bgcolor\": \"#000\", \"yaxis2\": {\"overlaying\": \"y\", \"range\": [0, 3], \"gridcolor\": \"#999\", \"title\": \"Standard Deviation\", \"side\": \"right\", \"tickcolor\": \"#FFF\"}, \"yaxis\": {\"title\": \"Mean\", \"dtick\": 1, \"range\": [0.5, 9.5], \"tickcolor\": \"#FFF\"}, \"paper_bgcolor\": \"#000\", \"height\": 500, \"titlefont\": {\"color\": \"#FFF\"}, \"title\": \"Confidence after 16000 Iterations at Glimpse 0\", \"font\": {\"color\": \"#FFF\"}, \"width\": 500, \"legend\": {\"x\": 0, \"y\": 1}}, {\"showLink\": true, \"linkText\": \"Export to plot.ly\"})});</script>"
      ],
      "text/vnd.plotly.v1+html": [
       "<div id=\"1a51dc71-7af3-4827-b692-cd56076d469a\" style=\"height: 500px; width: 500px;\" class=\"plotly-graph-div\"></div><script type=\"text/javascript\">require([\"plotly\"], function(Plotly) { window.PLOTLYENV=window.PLOTLYENV || {};window.PLOTLYENV.BASE_URL=\"https://plot.ly\";Plotly.newPlot(\"1a51dc71-7af3-4827-b692-cd56076d469a\", [{\"x\": [1, 2, 3, 4, 5, 6, 7, 8, 9], \"type\": \"scatter\", \"name\": \"Mean\", \"y\": [2.4280590355417244, 2.9452952826279732, 3.4040629093848596, 3.780891960908773, 4.131595869235958, 4.378638927587103, 4.5916637384666545, 4.781214514932819, 4.965189866298218]}, {\"x\": [1, 2, 3, 4, 5, 6, 7, 8, 9], \"type\": \"scatter\", \"yaxis\": \"y2\", \"name\": \"Standard Deviation\", \"y\": [1.9743347919428889, 2.2287257485219962, 2.378331437604487, 2.4433687755547746, 2.480426325812961, 2.501951899266826, 2.4833355405171647, 2.469484492675769, 2.436984689796335]}], {\"xaxis\": {\"title\": \"True Class\", \"dtick\": 1, \"range\": [0.5, 9.5], \"tickcolor\": \"#FFF\"}, \"plot_bgcolor\": \"#000\", \"yaxis2\": {\"overlaying\": \"y\", \"range\": [0, 3], \"gridcolor\": \"#999\", \"title\": \"Standard Deviation\", \"side\": \"right\", \"tickcolor\": \"#FFF\"}, \"yaxis\": {\"title\": \"Mean\", \"dtick\": 1, \"range\": [0.5, 9.5], \"tickcolor\": \"#FFF\"}, \"paper_bgcolor\": \"#000\", \"height\": 500, \"titlefont\": {\"color\": \"#FFF\"}, \"title\": \"Confidence after 16000 Iterations at Glimpse 0\", \"font\": {\"color\": \"#FFF\"}, \"width\": 500, \"legend\": {\"x\": 0, \"y\": 1}}, {\"showLink\": true, \"linkText\": \"Export to plot.ly\"})});</script>"
      ]
     },
     "metadata": {},
     "output_type": "display_data"
    },
    {
     "data": {
      "application/vnd.plotly.v1+json": {
       "data": [
        {
         "name": "Coefficient of Variation",
         "type": "scatter",
         "x": [
          1,
          2,
          3,
          4,
          5,
          6,
          7,
          8,
          9
         ],
         "y": [
          0.8130744682953154,
          0.7567658517310848,
          0.6988189325822411,
          0.6465527189781407,
          0.6005051057630206,
          0.5717590153100673,
          0.5410850152487445,
          0.5167868032184093,
          0.49104692301758135
         ]
        }
       ],
       "layout": {
        "font": {
         "color": "#FFF"
        },
        "height": 300,
        "paper_bgcolor": "#000",
        "plot_bgcolor": "#000",
        "title": "Confidence after 16000 Iterations at Glimpse 0",
        "titlefont": {
         "color": "#FFF"
        },
        "width": 500,
        "xaxis": {
         "dtick": 1,
         "range": [
          0.5,
          9.5
         ],
         "tickcolor": "#FFF",
         "title": "True Class"
        },
        "yaxis": {
         "showgrid": true,
         "tickcolor": "#FFF",
         "title": "Coefficient of Variation"
        }
       }
      },
      "text/html": [
       "<div id=\"ee65f7d9-94cc-4e70-989a-2907e1d17451\" style=\"height: 300px; width: 500px;\" class=\"plotly-graph-div\"></div><script type=\"text/javascript\">require([\"plotly\"], function(Plotly) { window.PLOTLYENV=window.PLOTLYENV || {};window.PLOTLYENV.BASE_URL=\"https://plot.ly\";Plotly.newPlot(\"ee65f7d9-94cc-4e70-989a-2907e1d17451\", [{\"x\": [1, 2, 3, 4, 5, 6, 7, 8, 9], \"type\": \"scatter\", \"name\": \"Coefficient of Variation\", \"y\": [0.8130744682953154, 0.7567658517310848, 0.6988189325822411, 0.6465527189781407, 0.6005051057630206, 0.5717590153100673, 0.5410850152487445, 0.5167868032184093, 0.49104692301758135]}], {\"xaxis\": {\"title\": \"True Class\", \"dtick\": 1, \"range\": [0.5, 9.5], \"tickcolor\": \"#FFF\"}, \"plot_bgcolor\": \"#000\", \"titlefont\": {\"color\": \"#FFF\"}, \"paper_bgcolor\": \"#000\", \"height\": 300, \"yaxis\": {\"title\": \"Coefficient of Variation\", \"tickcolor\": \"#FFF\", \"showgrid\": true}, \"title\": \"Confidence after 16000 Iterations at Glimpse 0\", \"font\": {\"color\": \"#FFF\"}, \"width\": 500}, {\"showLink\": true, \"linkText\": \"Export to plot.ly\"})});</script>"
      ],
      "text/vnd.plotly.v1+html": [
       "<div id=\"ee65f7d9-94cc-4e70-989a-2907e1d17451\" style=\"height: 300px; width: 500px;\" class=\"plotly-graph-div\"></div><script type=\"text/javascript\">require([\"plotly\"], function(Plotly) { window.PLOTLYENV=window.PLOTLYENV || {};window.PLOTLYENV.BASE_URL=\"https://plot.ly\";Plotly.newPlot(\"ee65f7d9-94cc-4e70-989a-2907e1d17451\", [{\"x\": [1, 2, 3, 4, 5, 6, 7, 8, 9], \"type\": \"scatter\", \"name\": \"Coefficient of Variation\", \"y\": [0.8130744682953154, 0.7567658517310848, 0.6988189325822411, 0.6465527189781407, 0.6005051057630206, 0.5717590153100673, 0.5410850152487445, 0.5167868032184093, 0.49104692301758135]}], {\"xaxis\": {\"title\": \"True Class\", \"dtick\": 1, \"range\": [0.5, 9.5], \"tickcolor\": \"#FFF\"}, \"plot_bgcolor\": \"#000\", \"titlefont\": {\"color\": \"#FFF\"}, \"paper_bgcolor\": \"#000\", \"height\": 300, \"yaxis\": {\"title\": \"Coefficient of Variation\", \"tickcolor\": \"#FFF\", \"showgrid\": true}, \"title\": \"Confidence after 16000 Iterations at Glimpse 0\", \"font\": {\"color\": \"#FFF\"}, \"width\": 500}, {\"showLink\": true, \"linkText\": \"Export to plot.ly\"})});</script>"
      ]
     },
     "metadata": {},
     "output_type": "display_data"
    },
    {
     "data": {
      "application/vnd.plotly.v1+json": {
       "data": [
        {
         "name": "Mean",
         "type": "scatter",
         "x": [
          1,
          2,
          3,
          4,
          5,
          6,
          7,
          8,
          9
         ],
         "y": [
          1.4072999999999998,
          1.9453,
          2.5111,
          3.0255,
          3.5522,
          3.9142,
          4.235900000000001,
          4.5127,
          4.7489
         ]
        },
        {
         "name": "Standard Deviation",
         "type": "scatter",
         "x": [
          1,
          2,
          3,
          4,
          5,
          6,
          7,
          8,
          9
         ],
         "y": [
          1.1030726141898668,
          1.7250301733026376,
          2.125650786315455,
          2.333811756544601,
          2.4878016517557766,
          2.5597439868472693,
          2.544393929418553,
          2.526409559680002,
          2.4727513076978793
         ],
         "yaxis": "y2"
        }
       ],
       "layout": {
        "font": {
         "color": "#FFF"
        },
        "height": 500,
        "legend": {
         "x": 0,
         "y": 1
        },
        "paper_bgcolor": "#000",
        "plot_bgcolor": "#000",
        "title": "Choice after 16000 Iterations at Glimpse 0",
        "titlefont": {
         "color": "#FFF"
        },
        "width": 500,
        "xaxis": {
         "dtick": 1,
         "range": [
          0.5,
          9.5
         ],
         "tickcolor": "#FFF",
         "title": "True Class"
        },
        "yaxis": {
         "dtick": 1,
         "range": [
          0.5,
          9.5
         ],
         "tickcolor": "#FFF",
         "title": "Mean"
        },
        "yaxis2": {
         "gridcolor": "#999",
         "overlaying": "y",
         "range": [
          0,
          3
         ],
         "side": "right",
         "tickcolor": "#FFF",
         "title": "Standard Deviation"
        }
       }
      },
      "text/html": [
       "<div id=\"f6ba7286-f106-4d79-ac3d-21368995c6dd\" style=\"height: 500px; width: 500px;\" class=\"plotly-graph-div\"></div><script type=\"text/javascript\">require([\"plotly\"], function(Plotly) { window.PLOTLYENV=window.PLOTLYENV || {};window.PLOTLYENV.BASE_URL=\"https://plot.ly\";Plotly.newPlot(\"f6ba7286-f106-4d79-ac3d-21368995c6dd\", [{\"x\": [1, 2, 3, 4, 5, 6, 7, 8, 9], \"type\": \"scatter\", \"name\": \"Mean\", \"y\": [1.4072999999999998, 1.9453, 2.5111, 3.0255, 3.5522, 3.9142, 4.235900000000001, 4.5127, 4.7489]}, {\"x\": [1, 2, 3, 4, 5, 6, 7, 8, 9], \"type\": \"scatter\", \"yaxis\": \"y2\", \"name\": \"Standard Deviation\", \"y\": [1.1030726141898668, 1.7250301733026376, 2.125650786315455, 2.333811756544601, 2.4878016517557766, 2.5597439868472693, 2.544393929418553, 2.526409559680002, 2.4727513076978793]}], {\"xaxis\": {\"title\": \"True Class\", \"dtick\": 1, \"range\": [0.5, 9.5], \"tickcolor\": \"#FFF\"}, \"plot_bgcolor\": \"#000\", \"yaxis2\": {\"overlaying\": \"y\", \"range\": [0, 3], \"gridcolor\": \"#999\", \"title\": \"Standard Deviation\", \"side\": \"right\", \"tickcolor\": \"#FFF\"}, \"yaxis\": {\"title\": \"Mean\", \"dtick\": 1, \"range\": [0.5, 9.5], \"tickcolor\": \"#FFF\"}, \"paper_bgcolor\": \"#000\", \"height\": 500, \"titlefont\": {\"color\": \"#FFF\"}, \"title\": \"Choice after 16000 Iterations at Glimpse 0\", \"font\": {\"color\": \"#FFF\"}, \"width\": 500, \"legend\": {\"x\": 0, \"y\": 1}}, {\"showLink\": true, \"linkText\": \"Export to plot.ly\"})});</script>"
      ],
      "text/vnd.plotly.v1+html": [
       "<div id=\"f6ba7286-f106-4d79-ac3d-21368995c6dd\" style=\"height: 500px; width: 500px;\" class=\"plotly-graph-div\"></div><script type=\"text/javascript\">require([\"plotly\"], function(Plotly) { window.PLOTLYENV=window.PLOTLYENV || {};window.PLOTLYENV.BASE_URL=\"https://plot.ly\";Plotly.newPlot(\"f6ba7286-f106-4d79-ac3d-21368995c6dd\", [{\"x\": [1, 2, 3, 4, 5, 6, 7, 8, 9], \"type\": \"scatter\", \"name\": \"Mean\", \"y\": [1.4072999999999998, 1.9453, 2.5111, 3.0255, 3.5522, 3.9142, 4.235900000000001, 4.5127, 4.7489]}, {\"x\": [1, 2, 3, 4, 5, 6, 7, 8, 9], \"type\": \"scatter\", \"yaxis\": \"y2\", \"name\": \"Standard Deviation\", \"y\": [1.1030726141898668, 1.7250301733026376, 2.125650786315455, 2.333811756544601, 2.4878016517557766, 2.5597439868472693, 2.544393929418553, 2.526409559680002, 2.4727513076978793]}], {\"xaxis\": {\"title\": \"True Class\", \"dtick\": 1, \"range\": [0.5, 9.5], \"tickcolor\": \"#FFF\"}, \"plot_bgcolor\": \"#000\", \"yaxis2\": {\"overlaying\": \"y\", \"range\": [0, 3], \"gridcolor\": \"#999\", \"title\": \"Standard Deviation\", \"side\": \"right\", \"tickcolor\": \"#FFF\"}, \"yaxis\": {\"title\": \"Mean\", \"dtick\": 1, \"range\": [0.5, 9.5], \"tickcolor\": \"#FFF\"}, \"paper_bgcolor\": \"#000\", \"height\": 500, \"titlefont\": {\"color\": \"#FFF\"}, \"title\": \"Choice after 16000 Iterations at Glimpse 0\", \"font\": {\"color\": \"#FFF\"}, \"width\": 500, \"legend\": {\"x\": 0, \"y\": 1}}, {\"showLink\": true, \"linkText\": \"Export to plot.ly\"})});</script>"
      ]
     },
     "metadata": {},
     "output_type": "display_data"
    },
    {
     "data": {
      "application/vnd.plotly.v1+json": {
       "data": [
        {
         "name": "Coefficient of Variation",
         "type": "scatter",
         "x": [
          1,
          2,
          3,
          4,
          5,
          6,
          7,
          8,
          9
         ],
         "y": [
          0.7778758591113542,
          0.8868663467589017,
          0.8476339800853872,
          0.774269390481602,
          0.7025080184626511,
          0.6559602066394783,
          0.6029668420506125,
          0.5614593089306166,
          0.5220063832853908
         ]
        }
       ],
       "layout": {
        "font": {
         "color": "#FFF"
        },
        "height": 300,
        "paper_bgcolor": "#000",
        "plot_bgcolor": "#000",
        "title": "Choice after 16000 Iterations at Glimpse 0",
        "titlefont": {
         "color": "#FFF"
        },
        "width": 500,
        "xaxis": {
         "dtick": 1,
         "range": [
          0.5,
          9.5
         ],
         "tickcolor": "#FFF",
         "title": "True Class"
        },
        "yaxis": {
         "showgrid": true,
         "tickcolor": "#FFF",
         "title": "Coefficient of Variation"
        }
       }
      },
      "text/html": [
       "<div id=\"79c59510-ac5d-4c86-aed7-1943e962c236\" style=\"height: 300px; width: 500px;\" class=\"plotly-graph-div\"></div><script type=\"text/javascript\">require([\"plotly\"], function(Plotly) { window.PLOTLYENV=window.PLOTLYENV || {};window.PLOTLYENV.BASE_URL=\"https://plot.ly\";Plotly.newPlot(\"79c59510-ac5d-4c86-aed7-1943e962c236\", [{\"x\": [1, 2, 3, 4, 5, 6, 7, 8, 9], \"type\": \"scatter\", \"name\": \"Coefficient of Variation\", \"y\": [0.7778758591113542, 0.8868663467589017, 0.8476339800853872, 0.774269390481602, 0.7025080184626511, 0.6559602066394783, 0.6029668420506125, 0.5614593089306166, 0.5220063832853908]}], {\"xaxis\": {\"title\": \"True Class\", \"dtick\": 1, \"range\": [0.5, 9.5], \"tickcolor\": \"#FFF\"}, \"plot_bgcolor\": \"#000\", \"titlefont\": {\"color\": \"#FFF\"}, \"paper_bgcolor\": \"#000\", \"height\": 300, \"yaxis\": {\"title\": \"Coefficient of Variation\", \"tickcolor\": \"#FFF\", \"showgrid\": true}, \"title\": \"Choice after 16000 Iterations at Glimpse 0\", \"font\": {\"color\": \"#FFF\"}, \"width\": 500}, {\"showLink\": true, \"linkText\": \"Export to plot.ly\"})});</script>"
      ],
      "text/vnd.plotly.v1+html": [
       "<div id=\"79c59510-ac5d-4c86-aed7-1943e962c236\" style=\"height: 300px; width: 500px;\" class=\"plotly-graph-div\"></div><script type=\"text/javascript\">require([\"plotly\"], function(Plotly) { window.PLOTLYENV=window.PLOTLYENV || {};window.PLOTLYENV.BASE_URL=\"https://plot.ly\";Plotly.newPlot(\"79c59510-ac5d-4c86-aed7-1943e962c236\", [{\"x\": [1, 2, 3, 4, 5, 6, 7, 8, 9], \"type\": \"scatter\", \"name\": \"Coefficient of Variation\", \"y\": [0.7778758591113542, 0.8868663467589017, 0.8476339800853872, 0.774269390481602, 0.7025080184626511, 0.6559602066394783, 0.6029668420506125, 0.5614593089306166, 0.5220063832853908]}], {\"xaxis\": {\"title\": \"True Class\", \"dtick\": 1, \"range\": [0.5, 9.5], \"tickcolor\": \"#FFF\"}, \"plot_bgcolor\": \"#000\", \"titlefont\": {\"color\": \"#FFF\"}, \"paper_bgcolor\": \"#000\", \"height\": 300, \"yaxis\": {\"title\": \"Coefficient of Variation\", \"tickcolor\": \"#FFF\", \"showgrid\": true}, \"title\": \"Choice after 16000 Iterations at Glimpse 0\", \"font\": {\"color\": \"#FFF\"}, \"width\": 500}, {\"showLink\": true, \"linkText\": \"Export to plot.ly\"})});</script>"
      ]
     },
     "metadata": {},
     "output_type": "display_data"
    },
    {
     "data": {
      "application/vnd.plotly.v1+json": {
       "data": [
        {
         "name": "Mean",
         "type": "scatter",
         "x": [
          1,
          2,
          3,
          4,
          5,
          6,
          7,
          8,
          9
         ],
         "y": [
          2.1203018671380454,
          2.683775735795945,
          3.1926782988384947,
          3.6532049972056093,
          4.050591982255783,
          4.363849741938241,
          4.680109452856657,
          4.94532357653815,
          5.13581118482332
         ]
        },
        {
         "name": "Standard Deviation",
         "type": "scatter",
         "x": [
          1,
          2,
          3,
          4,
          5,
          6,
          7,
          8,
          9
         ],
         "y": [
          1.651308454681418,
          2.013713534972509,
          2.236884255693443,
          2.3565479957468254,
          2.419889250408031,
          2.449128632540414,
          2.4333981570164687,
          2.4241790880978584,
          2.3808926459558175
         ],
         "yaxis": "y2"
        }
       ],
       "layout": {
        "font": {
         "color": "#FFF"
        },
        "height": 500,
        "legend": {
         "x": 0,
         "y": 1
        },
        "paper_bgcolor": "#000",
        "plot_bgcolor": "#000",
        "title": "Confidence after 16000 Iterations at Glimpse 3",
        "titlefont": {
         "color": "#FFF"
        },
        "width": 500,
        "xaxis": {
         "dtick": 1,
         "range": [
          0.5,
          9.5
         ],
         "tickcolor": "#FFF",
         "title": "True Class"
        },
        "yaxis": {
         "dtick": 1,
         "range": [
          0.5,
          9.5
         ],
         "tickcolor": "#FFF",
         "title": "Mean"
        },
        "yaxis2": {
         "gridcolor": "#999",
         "overlaying": "y",
         "range": [
          0,
          3
         ],
         "side": "right",
         "tickcolor": "#FFF",
         "title": "Standard Deviation"
        }
       }
      },
      "text/html": [
       "<div id=\"aa085f82-27b2-4a4b-b7a0-9ef433c7ebfa\" style=\"height: 500px; width: 500px;\" class=\"plotly-graph-div\"></div><script type=\"text/javascript\">require([\"plotly\"], function(Plotly) { window.PLOTLYENV=window.PLOTLYENV || {};window.PLOTLYENV.BASE_URL=\"https://plot.ly\";Plotly.newPlot(\"aa085f82-27b2-4a4b-b7a0-9ef433c7ebfa\", [{\"x\": [1, 2, 3, 4, 5, 6, 7, 8, 9], \"type\": \"scatter\", \"name\": \"Mean\", \"y\": [2.1203018671380454, 2.683775735795945, 3.1926782988384947, 3.6532049972056093, 4.050591982255783, 4.363849741938241, 4.680109452856657, 4.94532357653815, 5.13581118482332]}, {\"x\": [1, 2, 3, 4, 5, 6, 7, 8, 9], \"type\": \"scatter\", \"yaxis\": \"y2\", \"name\": \"Standard Deviation\", \"y\": [1.651308454681418, 2.013713534972509, 2.236884255693443, 2.3565479957468254, 2.419889250408031, 2.449128632540414, 2.4333981570164687, 2.4241790880978584, 2.3808926459558175]}], {\"xaxis\": {\"title\": \"True Class\", \"dtick\": 1, \"range\": [0.5, 9.5], \"tickcolor\": \"#FFF\"}, \"plot_bgcolor\": \"#000\", \"yaxis2\": {\"overlaying\": \"y\", \"range\": [0, 3], \"gridcolor\": \"#999\", \"title\": \"Standard Deviation\", \"side\": \"right\", \"tickcolor\": \"#FFF\"}, \"yaxis\": {\"title\": \"Mean\", \"dtick\": 1, \"range\": [0.5, 9.5], \"tickcolor\": \"#FFF\"}, \"paper_bgcolor\": \"#000\", \"height\": 500, \"titlefont\": {\"color\": \"#FFF\"}, \"title\": \"Confidence after 16000 Iterations at Glimpse 3\", \"font\": {\"color\": \"#FFF\"}, \"width\": 500, \"legend\": {\"x\": 0, \"y\": 1}}, {\"showLink\": true, \"linkText\": \"Export to plot.ly\"})});</script>"
      ],
      "text/vnd.plotly.v1+html": [
       "<div id=\"aa085f82-27b2-4a4b-b7a0-9ef433c7ebfa\" style=\"height: 500px; width: 500px;\" class=\"plotly-graph-div\"></div><script type=\"text/javascript\">require([\"plotly\"], function(Plotly) { window.PLOTLYENV=window.PLOTLYENV || {};window.PLOTLYENV.BASE_URL=\"https://plot.ly\";Plotly.newPlot(\"aa085f82-27b2-4a4b-b7a0-9ef433c7ebfa\", [{\"x\": [1, 2, 3, 4, 5, 6, 7, 8, 9], \"type\": \"scatter\", \"name\": \"Mean\", \"y\": [2.1203018671380454, 2.683775735795945, 3.1926782988384947, 3.6532049972056093, 4.050591982255783, 4.363849741938241, 4.680109452856657, 4.94532357653815, 5.13581118482332]}, {\"x\": [1, 2, 3, 4, 5, 6, 7, 8, 9], \"type\": \"scatter\", \"yaxis\": \"y2\", \"name\": \"Standard Deviation\", \"y\": [1.651308454681418, 2.013713534972509, 2.236884255693443, 2.3565479957468254, 2.419889250408031, 2.449128632540414, 2.4333981570164687, 2.4241790880978584, 2.3808926459558175]}], {\"xaxis\": {\"title\": \"True Class\", \"dtick\": 1, \"range\": [0.5, 9.5], \"tickcolor\": \"#FFF\"}, \"plot_bgcolor\": \"#000\", \"yaxis2\": {\"overlaying\": \"y\", \"range\": [0, 3], \"gridcolor\": \"#999\", \"title\": \"Standard Deviation\", \"side\": \"right\", \"tickcolor\": \"#FFF\"}, \"yaxis\": {\"title\": \"Mean\", \"dtick\": 1, \"range\": [0.5, 9.5], \"tickcolor\": \"#FFF\"}, \"paper_bgcolor\": \"#000\", \"height\": 500, \"titlefont\": {\"color\": \"#FFF\"}, \"title\": \"Confidence after 16000 Iterations at Glimpse 3\", \"font\": {\"color\": \"#FFF\"}, \"width\": 500, \"legend\": {\"x\": 0, \"y\": 1}}, {\"showLink\": true, \"linkText\": \"Export to plot.ly\"})});</script>"
      ]
     },
     "metadata": {},
     "output_type": "display_data"
    },
    {
     "data": {
      "application/vnd.plotly.v1+json": {
       "data": [
        {
         "name": "Coefficient of Variation",
         "type": "scatter",
         "x": [
          1,
          2,
          3,
          4,
          5,
          6,
          7,
          8,
          9
         ],
         "y": [
          0.7783619988828321,
          0.750268428550769,
          0.7007487862521401,
          0.6458316974663942,
          0.5977773917318056,
          0.5618167012154296,
          0.5207357533565177,
          0.49074057876459654,
          0.463930968090198
         ]
        }
       ],
       "layout": {
        "font": {
         "color": "#FFF"
        },
        "height": 300,
        "paper_bgcolor": "#000",
        "plot_bgcolor": "#000",
        "title": "Confidence after 16000 Iterations at Glimpse 3",
        "titlefont": {
         "color": "#FFF"
        },
        "width": 500,
        "xaxis": {
         "dtick": 1,
         "range": [
          0.5,
          9.5
         ],
         "tickcolor": "#FFF",
         "title": "True Class"
        },
        "yaxis": {
         "showgrid": true,
         "tickcolor": "#FFF",
         "title": "Coefficient of Variation"
        }
       }
      },
      "text/html": [
       "<div id=\"55cbb775-922b-4a1e-a483-67805b8c4175\" style=\"height: 300px; width: 500px;\" class=\"plotly-graph-div\"></div><script type=\"text/javascript\">require([\"plotly\"], function(Plotly) { window.PLOTLYENV=window.PLOTLYENV || {};window.PLOTLYENV.BASE_URL=\"https://plot.ly\";Plotly.newPlot(\"55cbb775-922b-4a1e-a483-67805b8c4175\", [{\"x\": [1, 2, 3, 4, 5, 6, 7, 8, 9], \"type\": \"scatter\", \"name\": \"Coefficient of Variation\", \"y\": [0.7783619988828321, 0.750268428550769, 0.7007487862521401, 0.6458316974663942, 0.5977773917318056, 0.5618167012154296, 0.5207357533565177, 0.49074057876459654, 0.463930968090198]}], {\"xaxis\": {\"title\": \"True Class\", \"dtick\": 1, \"range\": [0.5, 9.5], \"tickcolor\": \"#FFF\"}, \"plot_bgcolor\": \"#000\", \"titlefont\": {\"color\": \"#FFF\"}, \"paper_bgcolor\": \"#000\", \"height\": 300, \"yaxis\": {\"title\": \"Coefficient of Variation\", \"tickcolor\": \"#FFF\", \"showgrid\": true}, \"title\": \"Confidence after 16000 Iterations at Glimpse 3\", \"font\": {\"color\": \"#FFF\"}, \"width\": 500}, {\"showLink\": true, \"linkText\": \"Export to plot.ly\"})});</script>"
      ],
      "text/vnd.plotly.v1+html": [
       "<div id=\"55cbb775-922b-4a1e-a483-67805b8c4175\" style=\"height: 300px; width: 500px;\" class=\"plotly-graph-div\"></div><script type=\"text/javascript\">require([\"plotly\"], function(Plotly) { window.PLOTLYENV=window.PLOTLYENV || {};window.PLOTLYENV.BASE_URL=\"https://plot.ly\";Plotly.newPlot(\"55cbb775-922b-4a1e-a483-67805b8c4175\", [{\"x\": [1, 2, 3, 4, 5, 6, 7, 8, 9], \"type\": \"scatter\", \"name\": \"Coefficient of Variation\", \"y\": [0.7783619988828321, 0.750268428550769, 0.7007487862521401, 0.6458316974663942, 0.5977773917318056, 0.5618167012154296, 0.5207357533565177, 0.49074057876459654, 0.463930968090198]}], {\"xaxis\": {\"title\": \"True Class\", \"dtick\": 1, \"range\": [0.5, 9.5], \"tickcolor\": \"#FFF\"}, \"plot_bgcolor\": \"#000\", \"titlefont\": {\"color\": \"#FFF\"}, \"paper_bgcolor\": \"#000\", \"height\": 300, \"yaxis\": {\"title\": \"Coefficient of Variation\", \"tickcolor\": \"#FFF\", \"showgrid\": true}, \"title\": \"Confidence after 16000 Iterations at Glimpse 3\", \"font\": {\"color\": \"#FFF\"}, \"width\": 500}, {\"showLink\": true, \"linkText\": \"Export to plot.ly\"})});</script>"
      ]
     },
     "metadata": {},
     "output_type": "display_data"
    },
    {
     "data": {
      "application/vnd.plotly.v1+json": {
       "data": [
        {
         "name": "Mean",
         "type": "scatter",
         "x": [
          1,
          2,
          3,
          4,
          5,
          6,
          7,
          8,
          9
         ],
         "y": [
          1.3654,
          1.8961999999999999,
          2.4577999999999998,
          3.0241,
          3.5454,
          3.972100000000001,
          4.3904000000000005,
          4.761800000000001,
          5.0192000000000005
         ]
        },
        {
         "name": "Standard Deviation",
         "type": "scatter",
         "x": [
          1,
          2,
          3,
          4,
          5,
          6,
          7,
          8,
          9
         ],
         "y": [
          0.9071650609333053,
          1.5504601386714347,
          1.959776311133263,
          2.2246029833422036,
          2.373873487585466,
          2.4785891435880334,
          2.469575019547224,
          2.4656594182467764,
          2.41161596586078
         ],
         "yaxis": "y2"
        }
       ],
       "layout": {
        "font": {
         "color": "#FFF"
        },
        "height": 500,
        "legend": {
         "x": 0,
         "y": 1
        },
        "paper_bgcolor": "#000",
        "plot_bgcolor": "#000",
        "title": "Choice after 16000 Iterations at Glimpse 3",
        "titlefont": {
         "color": "#FFF"
        },
        "width": 500,
        "xaxis": {
         "dtick": 1,
         "range": [
          0.5,
          9.5
         ],
         "tickcolor": "#FFF",
         "title": "True Class"
        },
        "yaxis": {
         "dtick": 1,
         "range": [
          0.5,
          9.5
         ],
         "tickcolor": "#FFF",
         "title": "Mean"
        },
        "yaxis2": {
         "gridcolor": "#999",
         "overlaying": "y",
         "range": [
          0,
          3
         ],
         "side": "right",
         "tickcolor": "#FFF",
         "title": "Standard Deviation"
        }
       }
      },
      "text/html": [
       "<div id=\"acde903c-c800-4d47-a205-4812853f8cba\" style=\"height: 500px; width: 500px;\" class=\"plotly-graph-div\"></div><script type=\"text/javascript\">require([\"plotly\"], function(Plotly) { window.PLOTLYENV=window.PLOTLYENV || {};window.PLOTLYENV.BASE_URL=\"https://plot.ly\";Plotly.newPlot(\"acde903c-c800-4d47-a205-4812853f8cba\", [{\"x\": [1, 2, 3, 4, 5, 6, 7, 8, 9], \"type\": \"scatter\", \"name\": \"Mean\", \"y\": [1.3654, 1.8961999999999999, 2.4577999999999998, 3.0241, 3.5454, 3.972100000000001, 4.3904000000000005, 4.761800000000001, 5.0192000000000005]}, {\"x\": [1, 2, 3, 4, 5, 6, 7, 8, 9], \"type\": \"scatter\", \"yaxis\": \"y2\", \"name\": \"Standard Deviation\", \"y\": [0.9071650609333053, 1.5504601386714347, 1.959776311133263, 2.2246029833422036, 2.373873487585466, 2.4785891435880334, 2.469575019547224, 2.4656594182467764, 2.41161596586078]}], {\"xaxis\": {\"title\": \"True Class\", \"dtick\": 1, \"range\": [0.5, 9.5], \"tickcolor\": \"#FFF\"}, \"plot_bgcolor\": \"#000\", \"yaxis2\": {\"overlaying\": \"y\", \"range\": [0, 3], \"gridcolor\": \"#999\", \"title\": \"Standard Deviation\", \"side\": \"right\", \"tickcolor\": \"#FFF\"}, \"yaxis\": {\"title\": \"Mean\", \"dtick\": 1, \"range\": [0.5, 9.5], \"tickcolor\": \"#FFF\"}, \"paper_bgcolor\": \"#000\", \"height\": 500, \"titlefont\": {\"color\": \"#FFF\"}, \"title\": \"Choice after 16000 Iterations at Glimpse 3\", \"font\": {\"color\": \"#FFF\"}, \"width\": 500, \"legend\": {\"x\": 0, \"y\": 1}}, {\"showLink\": true, \"linkText\": \"Export to plot.ly\"})});</script>"
      ],
      "text/vnd.plotly.v1+html": [
       "<div id=\"acde903c-c800-4d47-a205-4812853f8cba\" style=\"height: 500px; width: 500px;\" class=\"plotly-graph-div\"></div><script type=\"text/javascript\">require([\"plotly\"], function(Plotly) { window.PLOTLYENV=window.PLOTLYENV || {};window.PLOTLYENV.BASE_URL=\"https://plot.ly\";Plotly.newPlot(\"acde903c-c800-4d47-a205-4812853f8cba\", [{\"x\": [1, 2, 3, 4, 5, 6, 7, 8, 9], \"type\": \"scatter\", \"name\": \"Mean\", \"y\": [1.3654, 1.8961999999999999, 2.4577999999999998, 3.0241, 3.5454, 3.972100000000001, 4.3904000000000005, 4.761800000000001, 5.0192000000000005]}, {\"x\": [1, 2, 3, 4, 5, 6, 7, 8, 9], \"type\": \"scatter\", \"yaxis\": \"y2\", \"name\": \"Standard Deviation\", \"y\": [0.9071650609333053, 1.5504601386714347, 1.959776311133263, 2.2246029833422036, 2.373873487585466, 2.4785891435880334, 2.469575019547224, 2.4656594182467764, 2.41161596586078]}], {\"xaxis\": {\"title\": \"True Class\", \"dtick\": 1, \"range\": [0.5, 9.5], \"tickcolor\": \"#FFF\"}, \"plot_bgcolor\": \"#000\", \"yaxis2\": {\"overlaying\": \"y\", \"range\": [0, 3], \"gridcolor\": \"#999\", \"title\": \"Standard Deviation\", \"side\": \"right\", \"tickcolor\": \"#FFF\"}, \"yaxis\": {\"title\": \"Mean\", \"dtick\": 1, \"range\": [0.5, 9.5], \"tickcolor\": \"#FFF\"}, \"paper_bgcolor\": \"#000\", \"height\": 500, \"titlefont\": {\"color\": \"#FFF\"}, \"title\": \"Choice after 16000 Iterations at Glimpse 3\", \"font\": {\"color\": \"#FFF\"}, \"width\": 500, \"legend\": {\"x\": 0, \"y\": 1}}, {\"showLink\": true, \"linkText\": \"Export to plot.ly\"})});</script>"
      ]
     },
     "metadata": {},
     "output_type": "display_data"
    },
    {
     "data": {
      "application/vnd.plotly.v1+json": {
       "data": [
        {
         "name": "Coefficient of Variation",
         "type": "scatter",
         "x": [
          1,
          2,
          3,
          4,
          5,
          6,
          7,
          8,
          9
         ],
         "y": [
          0.6612789187585648,
          0.8173610056594824,
          0.7986258581070476,
          0.7397157601080654,
          0.672156774977268,
          0.6271955502489022,
          0.5653144607202588,
          0.5196516673026448,
          0.4814547274879944
         ]
        }
       ],
       "layout": {
        "font": {
         "color": "#FFF"
        },
        "height": 300,
        "paper_bgcolor": "#000",
        "plot_bgcolor": "#000",
        "title": "Choice after 16000 Iterations at Glimpse 3",
        "titlefont": {
         "color": "#FFF"
        },
        "width": 500,
        "xaxis": {
         "dtick": 1,
         "range": [
          0.5,
          9.5
         ],
         "tickcolor": "#FFF",
         "title": "True Class"
        },
        "yaxis": {
         "showgrid": true,
         "tickcolor": "#FFF",
         "title": "Coefficient of Variation"
        }
       }
      },
      "text/html": [
       "<div id=\"1259f2ac-182a-447a-ac47-53b1f958b218\" style=\"height: 300px; width: 500px;\" class=\"plotly-graph-div\"></div><script type=\"text/javascript\">require([\"plotly\"], function(Plotly) { window.PLOTLYENV=window.PLOTLYENV || {};window.PLOTLYENV.BASE_URL=\"https://plot.ly\";Plotly.newPlot(\"1259f2ac-182a-447a-ac47-53b1f958b218\", [{\"x\": [1, 2, 3, 4, 5, 6, 7, 8, 9], \"type\": \"scatter\", \"name\": \"Coefficient of Variation\", \"y\": [0.6612789187585648, 0.8173610056594824, 0.7986258581070476, 0.7397157601080654, 0.672156774977268, 0.6271955502489022, 0.5653144607202588, 0.5196516673026448, 0.4814547274879944]}], {\"xaxis\": {\"title\": \"True Class\", \"dtick\": 1, \"range\": [0.5, 9.5], \"tickcolor\": \"#FFF\"}, \"plot_bgcolor\": \"#000\", \"titlefont\": {\"color\": \"#FFF\"}, \"paper_bgcolor\": \"#000\", \"height\": 300, \"yaxis\": {\"title\": \"Coefficient of Variation\", \"tickcolor\": \"#FFF\", \"showgrid\": true}, \"title\": \"Choice after 16000 Iterations at Glimpse 3\", \"font\": {\"color\": \"#FFF\"}, \"width\": 500}, {\"showLink\": true, \"linkText\": \"Export to plot.ly\"})});</script>"
      ],
      "text/vnd.plotly.v1+html": [
       "<div id=\"1259f2ac-182a-447a-ac47-53b1f958b218\" style=\"height: 300px; width: 500px;\" class=\"plotly-graph-div\"></div><script type=\"text/javascript\">require([\"plotly\"], function(Plotly) { window.PLOTLYENV=window.PLOTLYENV || {};window.PLOTLYENV.BASE_URL=\"https://plot.ly\";Plotly.newPlot(\"1259f2ac-182a-447a-ac47-53b1f958b218\", [{\"x\": [1, 2, 3, 4, 5, 6, 7, 8, 9], \"type\": \"scatter\", \"name\": \"Coefficient of Variation\", \"y\": [0.6612789187585648, 0.8173610056594824, 0.7986258581070476, 0.7397157601080654, 0.672156774977268, 0.6271955502489022, 0.5653144607202588, 0.5196516673026448, 0.4814547274879944]}], {\"xaxis\": {\"title\": \"True Class\", \"dtick\": 1, \"range\": [0.5, 9.5], \"tickcolor\": \"#FFF\"}, \"plot_bgcolor\": \"#000\", \"titlefont\": {\"color\": \"#FFF\"}, \"paper_bgcolor\": \"#000\", \"height\": 300, \"yaxis\": {\"title\": \"Coefficient of Variation\", \"tickcolor\": \"#FFF\", \"showgrid\": true}, \"title\": \"Choice after 16000 Iterations at Glimpse 3\", \"font\": {\"color\": \"#FFF\"}, \"width\": 500}, {\"showLink\": true, \"linkText\": \"Export to plot.ly\"})});</script>"
      ]
     },
     "metadata": {},
     "output_type": "display_data"
    },
    {
     "data": {
      "application/vnd.plotly.v1+json": {
       "data": [
        {
         "name": "Mean",
         "type": "scatter",
         "x": [
          1,
          2,
          3,
          4,
          5,
          6,
          7,
          8,
          9
         ],
         "y": [
          2.3669384167269625,
          2.837479597770721,
          3.2400771471021295,
          3.5869960343050122,
          3.887373545104613,
          4.126361385119464,
          4.372181182364228,
          4.543273009450145,
          4.716877792270056
         ]
        },
        {
         "name": "Standard Deviation",
         "type": "scatter",
         "x": [
          1,
          2,
          3,
          4,
          5,
          6,
          7,
          8,
          9
         ],
         "y": [
          1.850889246344618,
          2.096217128219954,
          2.2448420841560317,
          2.3225408308869144,
          2.369038632880477,
          2.3908258233022166,
          2.393151359583067,
          2.392931003313639,
          2.3761047641353303
         ],
         "yaxis": "y2"
        }
       ],
       "layout": {
        "font": {
         "color": "#FFF"
        },
        "height": 500,
        "legend": {
         "x": 0,
         "y": 1
        },
        "paper_bgcolor": "#000",
        "plot_bgcolor": "#000",
        "title": "Confidence after 16000 Iterations at Glimpse 9",
        "titlefont": {
         "color": "#FFF"
        },
        "width": 500,
        "xaxis": {
         "dtick": 1,
         "range": [
          0.5,
          9.5
         ],
         "tickcolor": "#FFF",
         "title": "True Class"
        },
        "yaxis": {
         "dtick": 1,
         "range": [
          0.5,
          9.5
         ],
         "tickcolor": "#FFF",
         "title": "Mean"
        },
        "yaxis2": {
         "gridcolor": "#999",
         "overlaying": "y",
         "range": [
          0,
          3
         ],
         "side": "right",
         "tickcolor": "#FFF",
         "title": "Standard Deviation"
        }
       }
      },
      "text/html": [
       "<div id=\"fb08d270-3654-4378-83a1-c0173cf267b3\" style=\"height: 500px; width: 500px;\" class=\"plotly-graph-div\"></div><script type=\"text/javascript\">require([\"plotly\"], function(Plotly) { window.PLOTLYENV=window.PLOTLYENV || {};window.PLOTLYENV.BASE_URL=\"https://plot.ly\";Plotly.newPlot(\"fb08d270-3654-4378-83a1-c0173cf267b3\", [{\"x\": [1, 2, 3, 4, 5, 6, 7, 8, 9], \"type\": \"scatter\", \"name\": \"Mean\", \"y\": [2.3669384167269625, 2.837479597770721, 3.2400771471021295, 3.5869960343050122, 3.887373545104613, 4.126361385119464, 4.372181182364228, 4.543273009450145, 4.716877792270056]}, {\"x\": [1, 2, 3, 4, 5, 6, 7, 8, 9], \"type\": \"scatter\", \"yaxis\": \"y2\", \"name\": \"Standard Deviation\", \"y\": [1.850889246344618, 2.096217128219954, 2.2448420841560317, 2.3225408308869144, 2.369038632880477, 2.3908258233022166, 2.393151359583067, 2.392931003313639, 2.3761047641353303]}], {\"xaxis\": {\"title\": \"True Class\", \"dtick\": 1, \"range\": [0.5, 9.5], \"tickcolor\": \"#FFF\"}, \"plot_bgcolor\": \"#000\", \"yaxis2\": {\"overlaying\": \"y\", \"range\": [0, 3], \"gridcolor\": \"#999\", \"title\": \"Standard Deviation\", \"side\": \"right\", \"tickcolor\": \"#FFF\"}, \"yaxis\": {\"title\": \"Mean\", \"dtick\": 1, \"range\": [0.5, 9.5], \"tickcolor\": \"#FFF\"}, \"paper_bgcolor\": \"#000\", \"height\": 500, \"titlefont\": {\"color\": \"#FFF\"}, \"title\": \"Confidence after 16000 Iterations at Glimpse 9\", \"font\": {\"color\": \"#FFF\"}, \"width\": 500, \"legend\": {\"x\": 0, \"y\": 1}}, {\"showLink\": true, \"linkText\": \"Export to plot.ly\"})});</script>"
      ],
      "text/vnd.plotly.v1+html": [
       "<div id=\"fb08d270-3654-4378-83a1-c0173cf267b3\" style=\"height: 500px; width: 500px;\" class=\"plotly-graph-div\"></div><script type=\"text/javascript\">require([\"plotly\"], function(Plotly) { window.PLOTLYENV=window.PLOTLYENV || {};window.PLOTLYENV.BASE_URL=\"https://plot.ly\";Plotly.newPlot(\"fb08d270-3654-4378-83a1-c0173cf267b3\", [{\"x\": [1, 2, 3, 4, 5, 6, 7, 8, 9], \"type\": \"scatter\", \"name\": \"Mean\", \"y\": [2.3669384167269625, 2.837479597770721, 3.2400771471021295, 3.5869960343050122, 3.887373545104613, 4.126361385119464, 4.372181182364228, 4.543273009450145, 4.716877792270056]}, {\"x\": [1, 2, 3, 4, 5, 6, 7, 8, 9], \"type\": \"scatter\", \"yaxis\": \"y2\", \"name\": \"Standard Deviation\", \"y\": [1.850889246344618, 2.096217128219954, 2.2448420841560317, 2.3225408308869144, 2.369038632880477, 2.3908258233022166, 2.393151359583067, 2.392931003313639, 2.3761047641353303]}], {\"xaxis\": {\"title\": \"True Class\", \"dtick\": 1, \"range\": [0.5, 9.5], \"tickcolor\": \"#FFF\"}, \"plot_bgcolor\": \"#000\", \"yaxis2\": {\"overlaying\": \"y\", \"range\": [0, 3], \"gridcolor\": \"#999\", \"title\": \"Standard Deviation\", \"side\": \"right\", \"tickcolor\": \"#FFF\"}, \"yaxis\": {\"title\": \"Mean\", \"dtick\": 1, \"range\": [0.5, 9.5], \"tickcolor\": \"#FFF\"}, \"paper_bgcolor\": \"#000\", \"height\": 500, \"titlefont\": {\"color\": \"#FFF\"}, \"title\": \"Confidence after 16000 Iterations at Glimpse 9\", \"font\": {\"color\": \"#FFF\"}, \"width\": 500, \"legend\": {\"x\": 0, \"y\": 1}}, {\"showLink\": true, \"linkText\": \"Export to plot.ly\"})});</script>"
      ]
     },
     "metadata": {},
     "output_type": "display_data"
    },
    {
     "data": {
      "application/vnd.plotly.v1+json": {
       "data": [
        {
         "name": "Coefficient of Variation",
         "type": "scatter",
         "x": [
          1,
          2,
          3,
          4,
          5,
          6,
          7,
          8,
          9
         ],
         "y": [
          0.7827961779296762,
          0.7397700770626696,
          0.6938407854448729,
          0.6491764830796005,
          0.6107030295643425,
          0.5805361192387941,
          0.54869524950515,
          0.5282785908819015,
          0.505144658179872
         ]
        }
       ],
       "layout": {
        "font": {
         "color": "#FFF"
        },
        "height": 300,
        "paper_bgcolor": "#000",
        "plot_bgcolor": "#000",
        "title": "Confidence after 16000 Iterations at Glimpse 9",
        "titlefont": {
         "color": "#FFF"
        },
        "width": 500,
        "xaxis": {
         "dtick": 1,
         "range": [
          0.5,
          9.5
         ],
         "tickcolor": "#FFF",
         "title": "True Class"
        },
        "yaxis": {
         "showgrid": true,
         "tickcolor": "#FFF",
         "title": "Coefficient of Variation"
        }
       }
      },
      "text/html": [
       "<div id=\"9205f026-549f-4738-b3ba-b0549101df85\" style=\"height: 300px; width: 500px;\" class=\"plotly-graph-div\"></div><script type=\"text/javascript\">require([\"plotly\"], function(Plotly) { window.PLOTLYENV=window.PLOTLYENV || {};window.PLOTLYENV.BASE_URL=\"https://plot.ly\";Plotly.newPlot(\"9205f026-549f-4738-b3ba-b0549101df85\", [{\"x\": [1, 2, 3, 4, 5, 6, 7, 8, 9], \"type\": \"scatter\", \"name\": \"Coefficient of Variation\", \"y\": [0.7827961779296762, 0.7397700770626696, 0.6938407854448729, 0.6491764830796005, 0.6107030295643425, 0.5805361192387941, 0.54869524950515, 0.5282785908819015, 0.505144658179872]}], {\"xaxis\": {\"title\": \"True Class\", \"dtick\": 1, \"range\": [0.5, 9.5], \"tickcolor\": \"#FFF\"}, \"plot_bgcolor\": \"#000\", \"titlefont\": {\"color\": \"#FFF\"}, \"paper_bgcolor\": \"#000\", \"height\": 300, \"yaxis\": {\"title\": \"Coefficient of Variation\", \"tickcolor\": \"#FFF\", \"showgrid\": true}, \"title\": \"Confidence after 16000 Iterations at Glimpse 9\", \"font\": {\"color\": \"#FFF\"}, \"width\": 500}, {\"showLink\": true, \"linkText\": \"Export to plot.ly\"})});</script>"
      ],
      "text/vnd.plotly.v1+html": [
       "<div id=\"9205f026-549f-4738-b3ba-b0549101df85\" style=\"height: 300px; width: 500px;\" class=\"plotly-graph-div\"></div><script type=\"text/javascript\">require([\"plotly\"], function(Plotly) { window.PLOTLYENV=window.PLOTLYENV || {};window.PLOTLYENV.BASE_URL=\"https://plot.ly\";Plotly.newPlot(\"9205f026-549f-4738-b3ba-b0549101df85\", [{\"x\": [1, 2, 3, 4, 5, 6, 7, 8, 9], \"type\": \"scatter\", \"name\": \"Coefficient of Variation\", \"y\": [0.7827961779296762, 0.7397700770626696, 0.6938407854448729, 0.6491764830796005, 0.6107030295643425, 0.5805361192387941, 0.54869524950515, 0.5282785908819015, 0.505144658179872]}], {\"xaxis\": {\"title\": \"True Class\", \"dtick\": 1, \"range\": [0.5, 9.5], \"tickcolor\": \"#FFF\"}, \"plot_bgcolor\": \"#000\", \"titlefont\": {\"color\": \"#FFF\"}, \"paper_bgcolor\": \"#000\", \"height\": 300, \"yaxis\": {\"title\": \"Coefficient of Variation\", \"tickcolor\": \"#FFF\", \"showgrid\": true}, \"title\": \"Confidence after 16000 Iterations at Glimpse 9\", \"font\": {\"color\": \"#FFF\"}, \"width\": 500}, {\"showLink\": true, \"linkText\": \"Export to plot.ly\"})});</script>"
      ]
     },
     "metadata": {},
     "output_type": "display_data"
    },
    {
     "data": {
      "application/vnd.plotly.v1+json": {
       "data": [
        {
         "name": "Mean",
         "type": "scatter",
         "x": [
          1,
          2,
          3,
          4,
          5,
          6,
          7,
          8,
          9
         ],
         "y": [
          1.3413000000000002,
          1.7628,
          2.2128,
          2.653,
          3.0832000000000006,
          3.4316000000000004,
          3.814099999999999,
          4.076500000000001,
          4.3674
         ]
        },
        {
         "name": "Standard Deviation",
         "type": "scatter",
         "x": [
          1,
          2,
          3,
          4,
          5,
          6,
          7,
          8,
          9
         ],
         "y": [
          0.8378049346091974,
          1.357721047164948,
          1.7019570449573123,
          1.928575816064469,
          2.1170270702756104,
          2.20306423903624,
          2.275639819776115,
          2.2997688064619233,
          2.3035020001914126
         ],
         "yaxis": "y2"
        }
       ],
       "layout": {
        "font": {
         "color": "#FFF"
        },
        "height": 500,
        "legend": {
         "x": 0,
         "y": 1
        },
        "paper_bgcolor": "#000",
        "plot_bgcolor": "#000",
        "title": "Choice after 16000 Iterations at Glimpse 9",
        "titlefont": {
         "color": "#FFF"
        },
        "width": 500,
        "xaxis": {
         "dtick": 1,
         "range": [
          0.5,
          9.5
         ],
         "tickcolor": "#FFF",
         "title": "True Class"
        },
        "yaxis": {
         "dtick": 1,
         "range": [
          0.5,
          9.5
         ],
         "tickcolor": "#FFF",
         "title": "Mean"
        },
        "yaxis2": {
         "gridcolor": "#999",
         "overlaying": "y",
         "range": [
          0,
          3
         ],
         "side": "right",
         "tickcolor": "#FFF",
         "title": "Standard Deviation"
        }
       }
      },
      "text/html": [
       "<div id=\"42a1dfeb-16b7-4208-92c6-71363fbf0a13\" style=\"height: 500px; width: 500px;\" class=\"plotly-graph-div\"></div><script type=\"text/javascript\">require([\"plotly\"], function(Plotly) { window.PLOTLYENV=window.PLOTLYENV || {};window.PLOTLYENV.BASE_URL=\"https://plot.ly\";Plotly.newPlot(\"42a1dfeb-16b7-4208-92c6-71363fbf0a13\", [{\"x\": [1, 2, 3, 4, 5, 6, 7, 8, 9], \"type\": \"scatter\", \"name\": \"Mean\", \"y\": [1.3413000000000002, 1.7628, 2.2128, 2.653, 3.0832000000000006, 3.4316000000000004, 3.814099999999999, 4.076500000000001, 4.3674]}, {\"x\": [1, 2, 3, 4, 5, 6, 7, 8, 9], \"type\": \"scatter\", \"yaxis\": \"y2\", \"name\": \"Standard Deviation\", \"y\": [0.8378049346091974, 1.357721047164948, 1.7019570449573123, 1.928575816064469, 2.1170270702756104, 2.20306423903624, 2.275639819776115, 2.2997688064619233, 2.3035020001914126]}], {\"xaxis\": {\"title\": \"True Class\", \"dtick\": 1, \"range\": [0.5, 9.5], \"tickcolor\": \"#FFF\"}, \"plot_bgcolor\": \"#000\", \"yaxis2\": {\"overlaying\": \"y\", \"range\": [0, 3], \"gridcolor\": \"#999\", \"title\": \"Standard Deviation\", \"side\": \"right\", \"tickcolor\": \"#FFF\"}, \"yaxis\": {\"title\": \"Mean\", \"dtick\": 1, \"range\": [0.5, 9.5], \"tickcolor\": \"#FFF\"}, \"paper_bgcolor\": \"#000\", \"height\": 500, \"titlefont\": {\"color\": \"#FFF\"}, \"title\": \"Choice after 16000 Iterations at Glimpse 9\", \"font\": {\"color\": \"#FFF\"}, \"width\": 500, \"legend\": {\"x\": 0, \"y\": 1}}, {\"showLink\": true, \"linkText\": \"Export to plot.ly\"})});</script>"
      ],
      "text/vnd.plotly.v1+html": [
       "<div id=\"42a1dfeb-16b7-4208-92c6-71363fbf0a13\" style=\"height: 500px; width: 500px;\" class=\"plotly-graph-div\"></div><script type=\"text/javascript\">require([\"plotly\"], function(Plotly) { window.PLOTLYENV=window.PLOTLYENV || {};window.PLOTLYENV.BASE_URL=\"https://plot.ly\";Plotly.newPlot(\"42a1dfeb-16b7-4208-92c6-71363fbf0a13\", [{\"x\": [1, 2, 3, 4, 5, 6, 7, 8, 9], \"type\": \"scatter\", \"name\": \"Mean\", \"y\": [1.3413000000000002, 1.7628, 2.2128, 2.653, 3.0832000000000006, 3.4316000000000004, 3.814099999999999, 4.076500000000001, 4.3674]}, {\"x\": [1, 2, 3, 4, 5, 6, 7, 8, 9], \"type\": \"scatter\", \"yaxis\": \"y2\", \"name\": \"Standard Deviation\", \"y\": [0.8378049346091974, 1.357721047164948, 1.7019570449573123, 1.928575816064469, 2.1170270702756104, 2.20306423903624, 2.275639819776115, 2.2997688064619233, 2.3035020001914126]}], {\"xaxis\": {\"title\": \"True Class\", \"dtick\": 1, \"range\": [0.5, 9.5], \"tickcolor\": \"#FFF\"}, \"plot_bgcolor\": \"#000\", \"yaxis2\": {\"overlaying\": \"y\", \"range\": [0, 3], \"gridcolor\": \"#999\", \"title\": \"Standard Deviation\", \"side\": \"right\", \"tickcolor\": \"#FFF\"}, \"yaxis\": {\"title\": \"Mean\", \"dtick\": 1, \"range\": [0.5, 9.5], \"tickcolor\": \"#FFF\"}, \"paper_bgcolor\": \"#000\", \"height\": 500, \"titlefont\": {\"color\": \"#FFF\"}, \"title\": \"Choice after 16000 Iterations at Glimpse 9\", \"font\": {\"color\": \"#FFF\"}, \"width\": 500, \"legend\": {\"x\": 0, \"y\": 1}}, {\"showLink\": true, \"linkText\": \"Export to plot.ly\"})});</script>"
      ]
     },
     "metadata": {},
     "output_type": "display_data"
    },
    {
     "data": {
      "application/vnd.plotly.v1+json": {
       "data": [
        {
         "name": "Coefficient of Variation",
         "type": "scatter",
         "x": [
          1,
          2,
          3,
          4,
          5,
          6,
          7,
          8,
          9
         ],
         "y": [
          0.6199959827855904,
          0.7718944011174738,
          0.7755564142055332,
          0.7368982693148161,
          0.6957658744168059,
          0.648814801303686,
          0.6024373464882194,
          0.5714317701645836,
          0.5325513672577562
         ]
        }
       ],
       "layout": {
        "font": {
         "color": "#FFF"
        },
        "height": 300,
        "paper_bgcolor": "#000",
        "plot_bgcolor": "#000",
        "title": "Choice after 16000 Iterations at Glimpse 9",
        "titlefont": {
         "color": "#FFF"
        },
        "width": 500,
        "xaxis": {
         "dtick": 1,
         "range": [
          0.5,
          9.5
         ],
         "tickcolor": "#FFF",
         "title": "True Class"
        },
        "yaxis": {
         "showgrid": true,
         "tickcolor": "#FFF",
         "title": "Coefficient of Variation"
        }
       }
      },
      "text/html": [
       "<div id=\"c286e231-4322-4427-a078-0041b2bae45d\" style=\"height: 300px; width: 500px;\" class=\"plotly-graph-div\"></div><script type=\"text/javascript\">require([\"plotly\"], function(Plotly) { window.PLOTLYENV=window.PLOTLYENV || {};window.PLOTLYENV.BASE_URL=\"https://plot.ly\";Plotly.newPlot(\"c286e231-4322-4427-a078-0041b2bae45d\", [{\"x\": [1, 2, 3, 4, 5, 6, 7, 8, 9], \"type\": \"scatter\", \"name\": \"Coefficient of Variation\", \"y\": [0.6199959827855904, 0.7718944011174738, 0.7755564142055332, 0.7368982693148161, 0.6957658744168059, 0.648814801303686, 0.6024373464882194, 0.5714317701645836, 0.5325513672577562]}], {\"xaxis\": {\"title\": \"True Class\", \"dtick\": 1, \"range\": [0.5, 9.5], \"tickcolor\": \"#FFF\"}, \"plot_bgcolor\": \"#000\", \"titlefont\": {\"color\": \"#FFF\"}, \"paper_bgcolor\": \"#000\", \"height\": 300, \"yaxis\": {\"title\": \"Coefficient of Variation\", \"tickcolor\": \"#FFF\", \"showgrid\": true}, \"title\": \"Choice after 16000 Iterations at Glimpse 9\", \"font\": {\"color\": \"#FFF\"}, \"width\": 500}, {\"showLink\": true, \"linkText\": \"Export to plot.ly\"})});</script>"
      ],
      "text/vnd.plotly.v1+html": [
       "<div id=\"c286e231-4322-4427-a078-0041b2bae45d\" style=\"height: 300px; width: 500px;\" class=\"plotly-graph-div\"></div><script type=\"text/javascript\">require([\"plotly\"], function(Plotly) { window.PLOTLYENV=window.PLOTLYENV || {};window.PLOTLYENV.BASE_URL=\"https://plot.ly\";Plotly.newPlot(\"c286e231-4322-4427-a078-0041b2bae45d\", [{\"x\": [1, 2, 3, 4, 5, 6, 7, 8, 9], \"type\": \"scatter\", \"name\": \"Coefficient of Variation\", \"y\": [0.6199959827855904, 0.7718944011174738, 0.7755564142055332, 0.7368982693148161, 0.6957658744168059, 0.648814801303686, 0.6024373464882194, 0.5714317701645836, 0.5325513672577562]}], {\"xaxis\": {\"title\": \"True Class\", \"dtick\": 1, \"range\": [0.5, 9.5], \"tickcolor\": \"#FFF\"}, \"plot_bgcolor\": \"#000\", \"titlefont\": {\"color\": \"#FFF\"}, \"paper_bgcolor\": \"#000\", \"height\": 300, \"yaxis\": {\"title\": \"Coefficient of Variation\", \"tickcolor\": \"#FFF\", \"showgrid\": true}, \"title\": \"Choice after 16000 Iterations at Glimpse 9\", \"font\": {\"color\": \"#FFF\"}, \"width\": 500}, {\"showLink\": true, \"linkText\": \"Export to plot.ly\"})});</script>"
      ]
     },
     "metadata": {},
     "output_type": "display_data"
    },
    {
     "data": {
      "application/vnd.plotly.v1+json": {
       "data": [
        {
         "name": "Mean",
         "type": "scatter",
         "x": [
          1,
          2,
          3,
          4,
          5,
          6,
          7,
          8,
          9
         ],
         "y": [
          1.8695850199949358,
          2.629475404609141,
          3.3683357253222064,
          4.007436185273838,
          4.561330339787984,
          4.9654286817082545,
          5.314439151378547,
          5.598687969361908,
          5.824771813323452
         ]
        },
        {
         "name": "Standard Deviation",
         "type": "scatter",
         "x": [
          1,
          2,
          3,
          4,
          5,
          6,
          7,
          8,
          9
         ],
         "y": [
          1.4342375967320238,
          1.9508429641173848,
          2.2300184119544277,
          2.3406237150509424,
          2.357598788186587,
          2.344788897806203,
          2.2968742687552277,
          2.250378395531331,
          2.194060496350981
         ],
         "yaxis": "y2"
        }
       ],
       "layout": {
        "font": {
         "color": "#FFF"
        },
        "height": 500,
        "legend": {
         "x": 0,
         "y": 1
        },
        "paper_bgcolor": "#000",
        "plot_bgcolor": "#000",
        "title": "Confidence after 32000 Iterations at Glimpse 0",
        "titlefont": {
         "color": "#FFF"
        },
        "width": 500,
        "xaxis": {
         "dtick": 1,
         "range": [
          0.5,
          9.5
         ],
         "tickcolor": "#FFF",
         "title": "True Class"
        },
        "yaxis": {
         "dtick": 1,
         "range": [
          0.5,
          9.5
         ],
         "tickcolor": "#FFF",
         "title": "Mean"
        },
        "yaxis2": {
         "gridcolor": "#999",
         "overlaying": "y",
         "range": [
          0,
          3
         ],
         "side": "right",
         "tickcolor": "#FFF",
         "title": "Standard Deviation"
        }
       }
      },
      "text/html": [
       "<div id=\"49530bd6-ba09-49e6-8409-92151f2e0e70\" style=\"height: 500px; width: 500px;\" class=\"plotly-graph-div\"></div><script type=\"text/javascript\">require([\"plotly\"], function(Plotly) { window.PLOTLYENV=window.PLOTLYENV || {};window.PLOTLYENV.BASE_URL=\"https://plot.ly\";Plotly.newPlot(\"49530bd6-ba09-49e6-8409-92151f2e0e70\", [{\"x\": [1, 2, 3, 4, 5, 6, 7, 8, 9], \"type\": \"scatter\", \"name\": \"Mean\", \"y\": [1.8695850199949358, 2.629475404609141, 3.3683357253222064, 4.007436185273838, 4.561330339787984, 4.9654286817082545, 5.314439151378547, 5.598687969361908, 5.824771813323452]}, {\"x\": [1, 2, 3, 4, 5, 6, 7, 8, 9], \"type\": \"scatter\", \"yaxis\": \"y2\", \"name\": \"Standard Deviation\", \"y\": [1.4342375967320238, 1.9508429641173848, 2.2300184119544277, 2.3406237150509424, 2.357598788186587, 2.344788897806203, 2.2968742687552277, 2.250378395531331, 2.194060496350981]}], {\"xaxis\": {\"title\": \"True Class\", \"dtick\": 1, \"range\": [0.5, 9.5], \"tickcolor\": \"#FFF\"}, \"plot_bgcolor\": \"#000\", \"yaxis2\": {\"overlaying\": \"y\", \"range\": [0, 3], \"gridcolor\": \"#999\", \"title\": \"Standard Deviation\", \"side\": \"right\", \"tickcolor\": \"#FFF\"}, \"yaxis\": {\"title\": \"Mean\", \"dtick\": 1, \"range\": [0.5, 9.5], \"tickcolor\": \"#FFF\"}, \"paper_bgcolor\": \"#000\", \"height\": 500, \"titlefont\": {\"color\": \"#FFF\"}, \"title\": \"Confidence after 32000 Iterations at Glimpse 0\", \"font\": {\"color\": \"#FFF\"}, \"width\": 500, \"legend\": {\"x\": 0, \"y\": 1}}, {\"showLink\": true, \"linkText\": \"Export to plot.ly\"})});</script>"
      ],
      "text/vnd.plotly.v1+html": [
       "<div id=\"49530bd6-ba09-49e6-8409-92151f2e0e70\" style=\"height: 500px; width: 500px;\" class=\"plotly-graph-div\"></div><script type=\"text/javascript\">require([\"plotly\"], function(Plotly) { window.PLOTLYENV=window.PLOTLYENV || {};window.PLOTLYENV.BASE_URL=\"https://plot.ly\";Plotly.newPlot(\"49530bd6-ba09-49e6-8409-92151f2e0e70\", [{\"x\": [1, 2, 3, 4, 5, 6, 7, 8, 9], \"type\": \"scatter\", \"name\": \"Mean\", \"y\": [1.8695850199949358, 2.629475404609141, 3.3683357253222064, 4.007436185273838, 4.561330339787984, 4.9654286817082545, 5.314439151378547, 5.598687969361908, 5.824771813323452]}, {\"x\": [1, 2, 3, 4, 5, 6, 7, 8, 9], \"type\": \"scatter\", \"yaxis\": \"y2\", \"name\": \"Standard Deviation\", \"y\": [1.4342375967320238, 1.9508429641173848, 2.2300184119544277, 2.3406237150509424, 2.357598788186587, 2.344788897806203, 2.2968742687552277, 2.250378395531331, 2.194060496350981]}], {\"xaxis\": {\"title\": \"True Class\", \"dtick\": 1, \"range\": [0.5, 9.5], \"tickcolor\": \"#FFF\"}, \"plot_bgcolor\": \"#000\", \"yaxis2\": {\"overlaying\": \"y\", \"range\": [0, 3], \"gridcolor\": \"#999\", \"title\": \"Standard Deviation\", \"side\": \"right\", \"tickcolor\": \"#FFF\"}, \"yaxis\": {\"title\": \"Mean\", \"dtick\": 1, \"range\": [0.5, 9.5], \"tickcolor\": \"#FFF\"}, \"paper_bgcolor\": \"#000\", \"height\": 500, \"titlefont\": {\"color\": \"#FFF\"}, \"title\": \"Confidence after 32000 Iterations at Glimpse 0\", \"font\": {\"color\": \"#FFF\"}, \"width\": 500, \"legend\": {\"x\": 0, \"y\": 1}}, {\"showLink\": true, \"linkText\": \"Export to plot.ly\"})});</script>"
      ]
     },
     "metadata": {},
     "output_type": "display_data"
    },
    {
     "data": {
      "application/vnd.plotly.v1+json": {
       "data": [
        {
         "name": "Coefficient of Variation",
         "type": "scatter",
         "x": [
          1,
          2,
          3,
          4,
          5,
          6,
          7,
          8,
          9
         ],
         "y": [
          0.7616771013274635,
          0.7412941240232573,
          0.6620538339655642,
          0.5856475717132275,
          0.5195898897136206,
          0.4755313570485267,
          0.43562571439307113,
          0.4056226597093852,
          0.380321079096513
         ]
        }
       ],
       "layout": {
        "font": {
         "color": "#FFF"
        },
        "height": 300,
        "paper_bgcolor": "#000",
        "plot_bgcolor": "#000",
        "title": "Confidence after 32000 Iterations at Glimpse 0",
        "titlefont": {
         "color": "#FFF"
        },
        "width": 500,
        "xaxis": {
         "dtick": 1,
         "range": [
          0.5,
          9.5
         ],
         "tickcolor": "#FFF",
         "title": "True Class"
        },
        "yaxis": {
         "showgrid": true,
         "tickcolor": "#FFF",
         "title": "Coefficient of Variation"
        }
       }
      },
      "text/html": [
       "<div id=\"aea4a9d1-2b5d-4603-904a-97ef84c4b57a\" style=\"height: 300px; width: 500px;\" class=\"plotly-graph-div\"></div><script type=\"text/javascript\">require([\"plotly\"], function(Plotly) { window.PLOTLYENV=window.PLOTLYENV || {};window.PLOTLYENV.BASE_URL=\"https://plot.ly\";Plotly.newPlot(\"aea4a9d1-2b5d-4603-904a-97ef84c4b57a\", [{\"x\": [1, 2, 3, 4, 5, 6, 7, 8, 9], \"type\": \"scatter\", \"name\": \"Coefficient of Variation\", \"y\": [0.7616771013274635, 0.7412941240232573, 0.6620538339655642, 0.5856475717132275, 0.5195898897136206, 0.4755313570485267, 0.43562571439307113, 0.4056226597093852, 0.380321079096513]}], {\"xaxis\": {\"title\": \"True Class\", \"dtick\": 1, \"range\": [0.5, 9.5], \"tickcolor\": \"#FFF\"}, \"plot_bgcolor\": \"#000\", \"titlefont\": {\"color\": \"#FFF\"}, \"paper_bgcolor\": \"#000\", \"height\": 300, \"yaxis\": {\"title\": \"Coefficient of Variation\", \"tickcolor\": \"#FFF\", \"showgrid\": true}, \"title\": \"Confidence after 32000 Iterations at Glimpse 0\", \"font\": {\"color\": \"#FFF\"}, \"width\": 500}, {\"showLink\": true, \"linkText\": \"Export to plot.ly\"})});</script>"
      ],
      "text/vnd.plotly.v1+html": [
       "<div id=\"aea4a9d1-2b5d-4603-904a-97ef84c4b57a\" style=\"height: 300px; width: 500px;\" class=\"plotly-graph-div\"></div><script type=\"text/javascript\">require([\"plotly\"], function(Plotly) { window.PLOTLYENV=window.PLOTLYENV || {};window.PLOTLYENV.BASE_URL=\"https://plot.ly\";Plotly.newPlot(\"aea4a9d1-2b5d-4603-904a-97ef84c4b57a\", [{\"x\": [1, 2, 3, 4, 5, 6, 7, 8, 9], \"type\": \"scatter\", \"name\": \"Coefficient of Variation\", \"y\": [0.7616771013274635, 0.7412941240232573, 0.6620538339655642, 0.5856475717132275, 0.5195898897136206, 0.4755313570485267, 0.43562571439307113, 0.4056226597093852, 0.380321079096513]}], {\"xaxis\": {\"title\": \"True Class\", \"dtick\": 1, \"range\": [0.5, 9.5], \"tickcolor\": \"#FFF\"}, \"plot_bgcolor\": \"#000\", \"titlefont\": {\"color\": \"#FFF\"}, \"paper_bgcolor\": \"#000\", \"height\": 300, \"yaxis\": {\"title\": \"Coefficient of Variation\", \"tickcolor\": \"#FFF\", \"showgrid\": true}, \"title\": \"Confidence after 32000 Iterations at Glimpse 0\", \"font\": {\"color\": \"#FFF\"}, \"width\": 500}, {\"showLink\": true, \"linkText\": \"Export to plot.ly\"})});</script>"
      ]
     },
     "metadata": {},
     "output_type": "display_data"
    },
    {
     "data": {
      "application/vnd.plotly.v1+json": {
       "data": [
        {
         "name": "Mean",
         "type": "scatter",
         "x": [
          1,
          2,
          3,
          4,
          5,
          6,
          7,
          8,
          9
         ],
         "y": [
          1.1119999999999999,
          1.7279,
          2.5250000000000004,
          3.2940000000000005,
          4.0348,
          4.5992000000000015,
          5.0829,
          5.4898,
          5.8006
         ]
        },
        {
         "name": "Standard Deviation",
         "type": "scatter",
         "x": [
          1,
          2,
          3,
          4,
          5,
          6,
          7,
          8,
          9
         ],
         "y": [
          0.42746979261797813,
          1.3386494818390677,
          1.8748501450102324,
          2.142680850742404,
          2.2697855803221456,
          2.330992308777657,
          2.2891013992711025,
          2.2526049580354006,
          2.173978606060808
         ],
         "yaxis": "y2"
        }
       ],
       "layout": {
        "font": {
         "color": "#FFF"
        },
        "height": 500,
        "legend": {
         "x": 0,
         "y": 1
        },
        "paper_bgcolor": "#000",
        "plot_bgcolor": "#000",
        "title": "Choice after 32000 Iterations at Glimpse 0",
        "titlefont": {
         "color": "#FFF"
        },
        "width": 500,
        "xaxis": {
         "dtick": 1,
         "range": [
          0.5,
          9.5
         ],
         "tickcolor": "#FFF",
         "title": "True Class"
        },
        "yaxis": {
         "dtick": 1,
         "range": [
          0.5,
          9.5
         ],
         "tickcolor": "#FFF",
         "title": "Mean"
        },
        "yaxis2": {
         "gridcolor": "#999",
         "overlaying": "y",
         "range": [
          0,
          3
         ],
         "side": "right",
         "tickcolor": "#FFF",
         "title": "Standard Deviation"
        }
       }
      },
      "text/html": [
       "<div id=\"6fdf69b4-da8e-4a92-8834-19f4b1f3fccb\" style=\"height: 500px; width: 500px;\" class=\"plotly-graph-div\"></div><script type=\"text/javascript\">require([\"plotly\"], function(Plotly) { window.PLOTLYENV=window.PLOTLYENV || {};window.PLOTLYENV.BASE_URL=\"https://plot.ly\";Plotly.newPlot(\"6fdf69b4-da8e-4a92-8834-19f4b1f3fccb\", [{\"x\": [1, 2, 3, 4, 5, 6, 7, 8, 9], \"type\": \"scatter\", \"name\": \"Mean\", \"y\": [1.1119999999999999, 1.7279, 2.5250000000000004, 3.2940000000000005, 4.0348, 4.5992000000000015, 5.0829, 5.4898, 5.8006]}, {\"x\": [1, 2, 3, 4, 5, 6, 7, 8, 9], \"type\": \"scatter\", \"yaxis\": \"y2\", \"name\": \"Standard Deviation\", \"y\": [0.42746979261797813, 1.3386494818390677, 1.8748501450102324, 2.142680850742404, 2.2697855803221456, 2.330992308777657, 2.2891013992711025, 2.2526049580354006, 2.173978606060808]}], {\"xaxis\": {\"title\": \"True Class\", \"dtick\": 1, \"range\": [0.5, 9.5], \"tickcolor\": \"#FFF\"}, \"plot_bgcolor\": \"#000\", \"yaxis2\": {\"overlaying\": \"y\", \"range\": [0, 3], \"gridcolor\": \"#999\", \"title\": \"Standard Deviation\", \"side\": \"right\", \"tickcolor\": \"#FFF\"}, \"yaxis\": {\"title\": \"Mean\", \"dtick\": 1, \"range\": [0.5, 9.5], \"tickcolor\": \"#FFF\"}, \"paper_bgcolor\": \"#000\", \"height\": 500, \"titlefont\": {\"color\": \"#FFF\"}, \"title\": \"Choice after 32000 Iterations at Glimpse 0\", \"font\": {\"color\": \"#FFF\"}, \"width\": 500, \"legend\": {\"x\": 0, \"y\": 1}}, {\"showLink\": true, \"linkText\": \"Export to plot.ly\"})});</script>"
      ],
      "text/vnd.plotly.v1+html": [
       "<div id=\"6fdf69b4-da8e-4a92-8834-19f4b1f3fccb\" style=\"height: 500px; width: 500px;\" class=\"plotly-graph-div\"></div><script type=\"text/javascript\">require([\"plotly\"], function(Plotly) { window.PLOTLYENV=window.PLOTLYENV || {};window.PLOTLYENV.BASE_URL=\"https://plot.ly\";Plotly.newPlot(\"6fdf69b4-da8e-4a92-8834-19f4b1f3fccb\", [{\"x\": [1, 2, 3, 4, 5, 6, 7, 8, 9], \"type\": \"scatter\", \"name\": \"Mean\", \"y\": [1.1119999999999999, 1.7279, 2.5250000000000004, 3.2940000000000005, 4.0348, 4.5992000000000015, 5.0829, 5.4898, 5.8006]}, {\"x\": [1, 2, 3, 4, 5, 6, 7, 8, 9], \"type\": \"scatter\", \"yaxis\": \"y2\", \"name\": \"Standard Deviation\", \"y\": [0.42746979261797813, 1.3386494818390677, 1.8748501450102324, 2.142680850742404, 2.2697855803221456, 2.330992308777657, 2.2891013992711025, 2.2526049580354006, 2.173978606060808]}], {\"xaxis\": {\"title\": \"True Class\", \"dtick\": 1, \"range\": [0.5, 9.5], \"tickcolor\": \"#FFF\"}, \"plot_bgcolor\": \"#000\", \"yaxis2\": {\"overlaying\": \"y\", \"range\": [0, 3], \"gridcolor\": \"#999\", \"title\": \"Standard Deviation\", \"side\": \"right\", \"tickcolor\": \"#FFF\"}, \"yaxis\": {\"title\": \"Mean\", \"dtick\": 1, \"range\": [0.5, 9.5], \"tickcolor\": \"#FFF\"}, \"paper_bgcolor\": \"#000\", \"height\": 500, \"titlefont\": {\"color\": \"#FFF\"}, \"title\": \"Choice after 32000 Iterations at Glimpse 0\", \"font\": {\"color\": \"#FFF\"}, \"width\": 500, \"legend\": {\"x\": 0, \"y\": 1}}, {\"showLink\": true, \"linkText\": \"Export to plot.ly\"})});</script>"
      ]
     },
     "metadata": {},
     "output_type": "display_data"
    },
    {
     "data": {
      "application/vnd.plotly.v1+json": {
       "data": [
        {
         "name": "Coefficient of Variation",
         "type": "scatter",
         "x": [
          1,
          2,
          3,
          4,
          5,
          6,
          7,
          8,
          9
         ],
         "y": [
          0.3772652951509392,
          0.7760915248088712,
          0.7464283098903544,
          0.6589997403847339,
          0.5715692612515875,
          0.5161647356153091,
          0.45876228596429947,
          0.4181957609517262,
          0.3820244806074923
         ]
        }
       ],
       "layout": {
        "font": {
         "color": "#FFF"
        },
        "height": 300,
        "paper_bgcolor": "#000",
        "plot_bgcolor": "#000",
        "title": "Choice after 32000 Iterations at Glimpse 0",
        "titlefont": {
         "color": "#FFF"
        },
        "width": 500,
        "xaxis": {
         "dtick": 1,
         "range": [
          0.5,
          9.5
         ],
         "tickcolor": "#FFF",
         "title": "True Class"
        },
        "yaxis": {
         "showgrid": true,
         "tickcolor": "#FFF",
         "title": "Coefficient of Variation"
        }
       }
      },
      "text/html": [
       "<div id=\"a15d734b-b753-4f51-a492-c36b9393e763\" style=\"height: 300px; width: 500px;\" class=\"plotly-graph-div\"></div><script type=\"text/javascript\">require([\"plotly\"], function(Plotly) { window.PLOTLYENV=window.PLOTLYENV || {};window.PLOTLYENV.BASE_URL=\"https://plot.ly\";Plotly.newPlot(\"a15d734b-b753-4f51-a492-c36b9393e763\", [{\"x\": [1, 2, 3, 4, 5, 6, 7, 8, 9], \"type\": \"scatter\", \"name\": \"Coefficient of Variation\", \"y\": [0.3772652951509392, 0.7760915248088712, 0.7464283098903544, 0.6589997403847339, 0.5715692612515875, 0.5161647356153091, 0.45876228596429947, 0.4181957609517262, 0.3820244806074923]}], {\"xaxis\": {\"title\": \"True Class\", \"dtick\": 1, \"range\": [0.5, 9.5], \"tickcolor\": \"#FFF\"}, \"plot_bgcolor\": \"#000\", \"titlefont\": {\"color\": \"#FFF\"}, \"paper_bgcolor\": \"#000\", \"height\": 300, \"yaxis\": {\"title\": \"Coefficient of Variation\", \"tickcolor\": \"#FFF\", \"showgrid\": true}, \"title\": \"Choice after 32000 Iterations at Glimpse 0\", \"font\": {\"color\": \"#FFF\"}, \"width\": 500}, {\"showLink\": true, \"linkText\": \"Export to plot.ly\"})});</script>"
      ],
      "text/vnd.plotly.v1+html": [
       "<div id=\"a15d734b-b753-4f51-a492-c36b9393e763\" style=\"height: 300px; width: 500px;\" class=\"plotly-graph-div\"></div><script type=\"text/javascript\">require([\"plotly\"], function(Plotly) { window.PLOTLYENV=window.PLOTLYENV || {};window.PLOTLYENV.BASE_URL=\"https://plot.ly\";Plotly.newPlot(\"a15d734b-b753-4f51-a492-c36b9393e763\", [{\"x\": [1, 2, 3, 4, 5, 6, 7, 8, 9], \"type\": \"scatter\", \"name\": \"Coefficient of Variation\", \"y\": [0.3772652951509392, 0.7760915248088712, 0.7464283098903544, 0.6589997403847339, 0.5715692612515875, 0.5161647356153091, 0.45876228596429947, 0.4181957609517262, 0.3820244806074923]}], {\"xaxis\": {\"title\": \"True Class\", \"dtick\": 1, \"range\": [0.5, 9.5], \"tickcolor\": \"#FFF\"}, \"plot_bgcolor\": \"#000\", \"titlefont\": {\"color\": \"#FFF\"}, \"paper_bgcolor\": \"#000\", \"height\": 300, \"yaxis\": {\"title\": \"Coefficient of Variation\", \"tickcolor\": \"#FFF\", \"showgrid\": true}, \"title\": \"Choice after 32000 Iterations at Glimpse 0\", \"font\": {\"color\": \"#FFF\"}, \"width\": 500}, {\"showLink\": true, \"linkText\": \"Export to plot.ly\"})});</script>"
      ]
     },
     "metadata": {},
     "output_type": "display_data"
    },
    {
     "data": {
      "application/vnd.plotly.v1+json": {
       "data": [
        {
         "name": "Mean",
         "type": "scatter",
         "x": [
          1,
          2,
          3,
          4,
          5,
          6,
          7,
          8,
          9
         ],
         "y": [
          1.5962965368654984,
          2.3949878348210705,
          3.233232022307468,
          3.9940082694134453,
          4.683670273571971,
          5.197554993717343,
          5.643540638952784,
          6.006155665900409,
          6.2905074763840165
         ]
        },
        {
         "name": "Standard Deviation",
         "type": "scatter",
         "x": [
          1,
          2,
          3,
          4,
          5,
          6,
          7,
          8,
          9
         ],
         "y": [
          1.0213842437127605,
          1.656344098638653,
          2.0190899063252523,
          2.1789235156921105,
          2.240319186542062,
          2.2314317846673895,
          2.16117362180609,
          2.084324264939792,
          1.9951129136371637
         ],
         "yaxis": "y2"
        }
       ],
       "layout": {
        "font": {
         "color": "#FFF"
        },
        "height": 500,
        "legend": {
         "x": 0,
         "y": 1
        },
        "paper_bgcolor": "#000",
        "plot_bgcolor": "#000",
        "title": "Confidence after 32000 Iterations at Glimpse 3",
        "titlefont": {
         "color": "#FFF"
        },
        "width": 500,
        "xaxis": {
         "dtick": 1,
         "range": [
          0.5,
          9.5
         ],
         "tickcolor": "#FFF",
         "title": "True Class"
        },
        "yaxis": {
         "dtick": 1,
         "range": [
          0.5,
          9.5
         ],
         "tickcolor": "#FFF",
         "title": "Mean"
        },
        "yaxis2": {
         "gridcolor": "#999",
         "overlaying": "y",
         "range": [
          0,
          3
         ],
         "side": "right",
         "tickcolor": "#FFF",
         "title": "Standard Deviation"
        }
       }
      },
      "text/html": [
       "<div id=\"1e99e658-4a0b-4678-baea-f1abcee31d83\" style=\"height: 500px; width: 500px;\" class=\"plotly-graph-div\"></div><script type=\"text/javascript\">require([\"plotly\"], function(Plotly) { window.PLOTLYENV=window.PLOTLYENV || {};window.PLOTLYENV.BASE_URL=\"https://plot.ly\";Plotly.newPlot(\"1e99e658-4a0b-4678-baea-f1abcee31d83\", [{\"x\": [1, 2, 3, 4, 5, 6, 7, 8, 9], \"type\": \"scatter\", \"name\": \"Mean\", \"y\": [1.5962965368654984, 2.3949878348210705, 3.233232022307468, 3.9940082694134453, 4.683670273571971, 5.197554993717343, 5.643540638952784, 6.006155665900409, 6.2905074763840165]}, {\"x\": [1, 2, 3, 4, 5, 6, 7, 8, 9], \"type\": \"scatter\", \"yaxis\": \"y2\", \"name\": \"Standard Deviation\", \"y\": [1.0213842437127605, 1.656344098638653, 2.0190899063252523, 2.1789235156921105, 2.240319186542062, 2.2314317846673895, 2.16117362180609, 2.084324264939792, 1.9951129136371637]}], {\"xaxis\": {\"title\": \"True Class\", \"dtick\": 1, \"range\": [0.5, 9.5], \"tickcolor\": \"#FFF\"}, \"plot_bgcolor\": \"#000\", \"yaxis2\": {\"overlaying\": \"y\", \"range\": [0, 3], \"gridcolor\": \"#999\", \"title\": \"Standard Deviation\", \"side\": \"right\", \"tickcolor\": \"#FFF\"}, \"yaxis\": {\"title\": \"Mean\", \"dtick\": 1, \"range\": [0.5, 9.5], \"tickcolor\": \"#FFF\"}, \"paper_bgcolor\": \"#000\", \"height\": 500, \"titlefont\": {\"color\": \"#FFF\"}, \"title\": \"Confidence after 32000 Iterations at Glimpse 3\", \"font\": {\"color\": \"#FFF\"}, \"width\": 500, \"legend\": {\"x\": 0, \"y\": 1}}, {\"showLink\": true, \"linkText\": \"Export to plot.ly\"})});</script>"
      ],
      "text/vnd.plotly.v1+html": [
       "<div id=\"1e99e658-4a0b-4678-baea-f1abcee31d83\" style=\"height: 500px; width: 500px;\" class=\"plotly-graph-div\"></div><script type=\"text/javascript\">require([\"plotly\"], function(Plotly) { window.PLOTLYENV=window.PLOTLYENV || {};window.PLOTLYENV.BASE_URL=\"https://plot.ly\";Plotly.newPlot(\"1e99e658-4a0b-4678-baea-f1abcee31d83\", [{\"x\": [1, 2, 3, 4, 5, 6, 7, 8, 9], \"type\": \"scatter\", \"name\": \"Mean\", \"y\": [1.5962965368654984, 2.3949878348210705, 3.233232022307468, 3.9940082694134453, 4.683670273571971, 5.197554993717343, 5.643540638952784, 6.006155665900409, 6.2905074763840165]}, {\"x\": [1, 2, 3, 4, 5, 6, 7, 8, 9], \"type\": \"scatter\", \"yaxis\": \"y2\", \"name\": \"Standard Deviation\", \"y\": [1.0213842437127605, 1.656344098638653, 2.0190899063252523, 2.1789235156921105, 2.240319186542062, 2.2314317846673895, 2.16117362180609, 2.084324264939792, 1.9951129136371637]}], {\"xaxis\": {\"title\": \"True Class\", \"dtick\": 1, \"range\": [0.5, 9.5], \"tickcolor\": \"#FFF\"}, \"plot_bgcolor\": \"#000\", \"yaxis2\": {\"overlaying\": \"y\", \"range\": [0, 3], \"gridcolor\": \"#999\", \"title\": \"Standard Deviation\", \"side\": \"right\", \"tickcolor\": \"#FFF\"}, \"yaxis\": {\"title\": \"Mean\", \"dtick\": 1, \"range\": [0.5, 9.5], \"tickcolor\": \"#FFF\"}, \"paper_bgcolor\": \"#000\", \"height\": 500, \"titlefont\": {\"color\": \"#FFF\"}, \"title\": \"Confidence after 32000 Iterations at Glimpse 3\", \"font\": {\"color\": \"#FFF\"}, \"width\": 500, \"legend\": {\"x\": 0, \"y\": 1}}, {\"showLink\": true, \"linkText\": \"Export to plot.ly\"})});</script>"
      ]
     },
     "metadata": {},
     "output_type": "display_data"
    },
    {
     "data": {
      "application/vnd.plotly.v1+json": {
       "data": [
        {
         "name": "Coefficient of Variation",
         "type": "scatter",
         "x": [
          1,
          2,
          3,
          4,
          5,
          6,
          7,
          8,
          9
         ],
         "y": [
          0.6236702179088438,
          0.6891350075744935,
          0.6244699109184271,
          0.5483119320884352,
          0.4832186580716171,
          0.4349581149227837,
          0.38867032006813695,
          0.35344555600779176,
          0.3237060982626421
         ]
        }
       ],
       "layout": {
        "font": {
         "color": "#FFF"
        },
        "height": 300,
        "paper_bgcolor": "#000",
        "plot_bgcolor": "#000",
        "title": "Confidence after 32000 Iterations at Glimpse 3",
        "titlefont": {
         "color": "#FFF"
        },
        "width": 500,
        "xaxis": {
         "dtick": 1,
         "range": [
          0.5,
          9.5
         ],
         "tickcolor": "#FFF",
         "title": "True Class"
        },
        "yaxis": {
         "showgrid": true,
         "tickcolor": "#FFF",
         "title": "Coefficient of Variation"
        }
       }
      },
      "text/html": [
       "<div id=\"3a8531b3-d059-4696-b12d-8e2b66027c7f\" style=\"height: 300px; width: 500px;\" class=\"plotly-graph-div\"></div><script type=\"text/javascript\">require([\"plotly\"], function(Plotly) { window.PLOTLYENV=window.PLOTLYENV || {};window.PLOTLYENV.BASE_URL=\"https://plot.ly\";Plotly.newPlot(\"3a8531b3-d059-4696-b12d-8e2b66027c7f\", [{\"x\": [1, 2, 3, 4, 5, 6, 7, 8, 9], \"type\": \"scatter\", \"name\": \"Coefficient of Variation\", \"y\": [0.6236702179088438, 0.6891350075744935, 0.6244699109184271, 0.5483119320884352, 0.4832186580716171, 0.4349581149227837, 0.38867032006813695, 0.35344555600779176, 0.3237060982626421]}], {\"xaxis\": {\"title\": \"True Class\", \"dtick\": 1, \"range\": [0.5, 9.5], \"tickcolor\": \"#FFF\"}, \"plot_bgcolor\": \"#000\", \"titlefont\": {\"color\": \"#FFF\"}, \"paper_bgcolor\": \"#000\", \"height\": 300, \"yaxis\": {\"title\": \"Coefficient of Variation\", \"tickcolor\": \"#FFF\", \"showgrid\": true}, \"title\": \"Confidence after 32000 Iterations at Glimpse 3\", \"font\": {\"color\": \"#FFF\"}, \"width\": 500}, {\"showLink\": true, \"linkText\": \"Export to plot.ly\"})});</script>"
      ],
      "text/vnd.plotly.v1+html": [
       "<div id=\"3a8531b3-d059-4696-b12d-8e2b66027c7f\" style=\"height: 300px; width: 500px;\" class=\"plotly-graph-div\"></div><script type=\"text/javascript\">require([\"plotly\"], function(Plotly) { window.PLOTLYENV=window.PLOTLYENV || {};window.PLOTLYENV.BASE_URL=\"https://plot.ly\";Plotly.newPlot(\"3a8531b3-d059-4696-b12d-8e2b66027c7f\", [{\"x\": [1, 2, 3, 4, 5, 6, 7, 8, 9], \"type\": \"scatter\", \"name\": \"Coefficient of Variation\", \"y\": [0.6236702179088438, 0.6891350075744935, 0.6244699109184271, 0.5483119320884352, 0.4832186580716171, 0.4349581149227837, 0.38867032006813695, 0.35344555600779176, 0.3237060982626421]}], {\"xaxis\": {\"title\": \"True Class\", \"dtick\": 1, \"range\": [0.5, 9.5], \"tickcolor\": \"#FFF\"}, \"plot_bgcolor\": \"#000\", \"titlefont\": {\"color\": \"#FFF\"}, \"paper_bgcolor\": \"#000\", \"height\": 300, \"yaxis\": {\"title\": \"Coefficient of Variation\", \"tickcolor\": \"#FFF\", \"showgrid\": true}, \"title\": \"Confidence after 32000 Iterations at Glimpse 3\", \"font\": {\"color\": \"#FFF\"}, \"width\": 500}, {\"showLink\": true, \"linkText\": \"Export to plot.ly\"})});</script>"
      ]
     },
     "metadata": {},
     "output_type": "display_data"
    },
    {
     "data": {
      "application/vnd.plotly.v1+json": {
       "data": [
        {
         "name": "Mean",
         "type": "scatter",
         "x": [
          1,
          2,
          3,
          4,
          5,
          6,
          7,
          8,
          9
         ],
         "y": [
          1.1304,
          1.8117999999999999,
          2.6422,
          3.4866,
          4.311100000000001,
          4.971400000000001,
          5.575100000000001,
          6.0686,
          6.4316
         ]
        },
        {
         "name": "Standard Deviation",
         "type": "scatter",
         "x": [
          1,
          2,
          3,
          4,
          5,
          6,
          7,
          8,
          9
         ],
         "y": [
          0.3722097158898968,
          1.1923213175450424,
          1.667086836655829,
          1.9589767127413935,
          2.135126835835797,
          2.223482443679008,
          2.1513295953341496,
          2.0657236140565693,
          1.9258104968859482
         ],
         "yaxis": "y2"
        }
       ],
       "layout": {
        "font": {
         "color": "#FFF"
        },
        "height": 500,
        "legend": {
         "x": 0,
         "y": 1
        },
        "paper_bgcolor": "#000",
        "plot_bgcolor": "#000",
        "title": "Choice after 32000 Iterations at Glimpse 3",
        "titlefont": {
         "color": "#FFF"
        },
        "width": 500,
        "xaxis": {
         "dtick": 1,
         "range": [
          0.5,
          9.5
         ],
         "tickcolor": "#FFF",
         "title": "True Class"
        },
        "yaxis": {
         "dtick": 1,
         "range": [
          0.5,
          9.5
         ],
         "tickcolor": "#FFF",
         "title": "Mean"
        },
        "yaxis2": {
         "gridcolor": "#999",
         "overlaying": "y",
         "range": [
          0,
          3
         ],
         "side": "right",
         "tickcolor": "#FFF",
         "title": "Standard Deviation"
        }
       }
      },
      "text/html": [
       "<div id=\"989442c8-d8a2-49d0-8703-e9670fe6c580\" style=\"height: 500px; width: 500px;\" class=\"plotly-graph-div\"></div><script type=\"text/javascript\">require([\"plotly\"], function(Plotly) { window.PLOTLYENV=window.PLOTLYENV || {};window.PLOTLYENV.BASE_URL=\"https://plot.ly\";Plotly.newPlot(\"989442c8-d8a2-49d0-8703-e9670fe6c580\", [{\"x\": [1, 2, 3, 4, 5, 6, 7, 8, 9], \"type\": \"scatter\", \"name\": \"Mean\", \"y\": [1.1304, 1.8117999999999999, 2.6422, 3.4866, 4.311100000000001, 4.971400000000001, 5.575100000000001, 6.0686, 6.4316]}, {\"x\": [1, 2, 3, 4, 5, 6, 7, 8, 9], \"type\": \"scatter\", \"yaxis\": \"y2\", \"name\": \"Standard Deviation\", \"y\": [0.3722097158898968, 1.1923213175450424, 1.667086836655829, 1.9589767127413935, 2.135126835835797, 2.223482443679008, 2.1513295953341496, 2.0657236140565693, 1.9258104968859482]}], {\"xaxis\": {\"title\": \"True Class\", \"dtick\": 1, \"range\": [0.5, 9.5], \"tickcolor\": \"#FFF\"}, \"plot_bgcolor\": \"#000\", \"yaxis2\": {\"overlaying\": \"y\", \"range\": [0, 3], \"gridcolor\": \"#999\", \"title\": \"Standard Deviation\", \"side\": \"right\", \"tickcolor\": \"#FFF\"}, \"yaxis\": {\"title\": \"Mean\", \"dtick\": 1, \"range\": [0.5, 9.5], \"tickcolor\": \"#FFF\"}, \"paper_bgcolor\": \"#000\", \"height\": 500, \"titlefont\": {\"color\": \"#FFF\"}, \"title\": \"Choice after 32000 Iterations at Glimpse 3\", \"font\": {\"color\": \"#FFF\"}, \"width\": 500, \"legend\": {\"x\": 0, \"y\": 1}}, {\"showLink\": true, \"linkText\": \"Export to plot.ly\"})});</script>"
      ],
      "text/vnd.plotly.v1+html": [
       "<div id=\"989442c8-d8a2-49d0-8703-e9670fe6c580\" style=\"height: 500px; width: 500px;\" class=\"plotly-graph-div\"></div><script type=\"text/javascript\">require([\"plotly\"], function(Plotly) { window.PLOTLYENV=window.PLOTLYENV || {};window.PLOTLYENV.BASE_URL=\"https://plot.ly\";Plotly.newPlot(\"989442c8-d8a2-49d0-8703-e9670fe6c580\", [{\"x\": [1, 2, 3, 4, 5, 6, 7, 8, 9], \"type\": \"scatter\", \"name\": \"Mean\", \"y\": [1.1304, 1.8117999999999999, 2.6422, 3.4866, 4.311100000000001, 4.971400000000001, 5.575100000000001, 6.0686, 6.4316]}, {\"x\": [1, 2, 3, 4, 5, 6, 7, 8, 9], \"type\": \"scatter\", \"yaxis\": \"y2\", \"name\": \"Standard Deviation\", \"y\": [0.3722097158898968, 1.1923213175450424, 1.667086836655829, 1.9589767127413935, 2.135126835835797, 2.223482443679008, 2.1513295953341496, 2.0657236140565693, 1.9258104968859482]}], {\"xaxis\": {\"title\": \"True Class\", \"dtick\": 1, \"range\": [0.5, 9.5], \"tickcolor\": \"#FFF\"}, \"plot_bgcolor\": \"#000\", \"yaxis2\": {\"overlaying\": \"y\", \"range\": [0, 3], \"gridcolor\": \"#999\", \"title\": \"Standard Deviation\", \"side\": \"right\", \"tickcolor\": \"#FFF\"}, \"yaxis\": {\"title\": \"Mean\", \"dtick\": 1, \"range\": [0.5, 9.5], \"tickcolor\": \"#FFF\"}, \"paper_bgcolor\": \"#000\", \"height\": 500, \"titlefont\": {\"color\": \"#FFF\"}, \"title\": \"Choice after 32000 Iterations at Glimpse 3\", \"font\": {\"color\": \"#FFF\"}, \"width\": 500, \"legend\": {\"x\": 0, \"y\": 1}}, {\"showLink\": true, \"linkText\": \"Export to plot.ly\"})});</script>"
      ]
     },
     "metadata": {},
     "output_type": "display_data"
    },
    {
     "data": {
      "application/vnd.plotly.v1+json": {
       "data": [
        {
         "name": "Coefficient of Variation",
         "type": "scatter",
         "x": [
          1,
          2,
          3,
          4,
          5,
          6,
          7,
          8,
          9
         ],
         "y": [
          0.321605629080213,
          0.6646718213699497,
          0.6386119336758249,
          0.5741578564822409,
          0.5091848253875357,
          0.4583538770683468,
          0.3961510330466941,
          0.3509368025789049,
          0.3094541070708628
         ]
        }
       ],
       "layout": {
        "font": {
         "color": "#FFF"
        },
        "height": 300,
        "paper_bgcolor": "#000",
        "plot_bgcolor": "#000",
        "title": "Choice after 32000 Iterations at Glimpse 3",
        "titlefont": {
         "color": "#FFF"
        },
        "width": 500,
        "xaxis": {
         "dtick": 1,
         "range": [
          0.5,
          9.5
         ],
         "tickcolor": "#FFF",
         "title": "True Class"
        },
        "yaxis": {
         "showgrid": true,
         "tickcolor": "#FFF",
         "title": "Coefficient of Variation"
        }
       }
      },
      "text/html": [
       "<div id=\"2dfb2d72-3fce-4bc7-a0bc-6c12587d0f99\" style=\"height: 300px; width: 500px;\" class=\"plotly-graph-div\"></div><script type=\"text/javascript\">require([\"plotly\"], function(Plotly) { window.PLOTLYENV=window.PLOTLYENV || {};window.PLOTLYENV.BASE_URL=\"https://plot.ly\";Plotly.newPlot(\"2dfb2d72-3fce-4bc7-a0bc-6c12587d0f99\", [{\"x\": [1, 2, 3, 4, 5, 6, 7, 8, 9], \"type\": \"scatter\", \"name\": \"Coefficient of Variation\", \"y\": [0.321605629080213, 0.6646718213699497, 0.6386119336758249, 0.5741578564822409, 0.5091848253875357, 0.4583538770683468, 0.3961510330466941, 0.3509368025789049, 0.3094541070708628]}], {\"xaxis\": {\"title\": \"True Class\", \"dtick\": 1, \"range\": [0.5, 9.5], \"tickcolor\": \"#FFF\"}, \"plot_bgcolor\": \"#000\", \"titlefont\": {\"color\": \"#FFF\"}, \"paper_bgcolor\": \"#000\", \"height\": 300, \"yaxis\": {\"title\": \"Coefficient of Variation\", \"tickcolor\": \"#FFF\", \"showgrid\": true}, \"title\": \"Choice after 32000 Iterations at Glimpse 3\", \"font\": {\"color\": \"#FFF\"}, \"width\": 500}, {\"showLink\": true, \"linkText\": \"Export to plot.ly\"})});</script>"
      ],
      "text/vnd.plotly.v1+html": [
       "<div id=\"2dfb2d72-3fce-4bc7-a0bc-6c12587d0f99\" style=\"height: 300px; width: 500px;\" class=\"plotly-graph-div\"></div><script type=\"text/javascript\">require([\"plotly\"], function(Plotly) { window.PLOTLYENV=window.PLOTLYENV || {};window.PLOTLYENV.BASE_URL=\"https://plot.ly\";Plotly.newPlot(\"2dfb2d72-3fce-4bc7-a0bc-6c12587d0f99\", [{\"x\": [1, 2, 3, 4, 5, 6, 7, 8, 9], \"type\": \"scatter\", \"name\": \"Coefficient of Variation\", \"y\": [0.321605629080213, 0.6646718213699497, 0.6386119336758249, 0.5741578564822409, 0.5091848253875357, 0.4583538770683468, 0.3961510330466941, 0.3509368025789049, 0.3094541070708628]}], {\"xaxis\": {\"title\": \"True Class\", \"dtick\": 1, \"range\": [0.5, 9.5], \"tickcolor\": \"#FFF\"}, \"plot_bgcolor\": \"#000\", \"titlefont\": {\"color\": \"#FFF\"}, \"paper_bgcolor\": \"#000\", \"height\": 300, \"yaxis\": {\"title\": \"Coefficient of Variation\", \"tickcolor\": \"#FFF\", \"showgrid\": true}, \"title\": \"Choice after 32000 Iterations at Glimpse 3\", \"font\": {\"color\": \"#FFF\"}, \"width\": 500}, {\"showLink\": true, \"linkText\": \"Export to plot.ly\"})});</script>"
      ]
     },
     "metadata": {},
     "output_type": "display_data"
    },
    {
     "data": {
      "application/vnd.plotly.v1+json": {
       "data": [
        {
         "name": "Mean",
         "type": "scatter",
         "x": [
          1,
          2,
          3,
          4,
          5,
          6,
          7,
          8,
          9
         ],
         "y": [
          1.6638170929623441,
          2.385626255511705,
          3.160441570785021,
          3.8755264087866967,
          4.54447826531258,
          5.0330900231059115,
          5.485833204818991,
          5.843637570318388,
          6.134487555868088
         ]
        },
        {
         "name": "Standard Deviation",
         "type": "scatter",
         "x": [
          1,
          2,
          3,
          4,
          5,
          6,
          7,
          8,
          9
         ],
         "y": [
          1.105340144456388,
          1.668943380734849,
          2.014728532955016,
          2.173348431589646,
          2.247398395908426,
          2.241293439528902,
          2.1860557930152935,
          2.111713779508225,
          2.0288570731134916
         ],
         "yaxis": "y2"
        }
       ],
       "layout": {
        "font": {
         "color": "#FFF"
        },
        "height": 500,
        "legend": {
         "x": 0,
         "y": 1
        },
        "paper_bgcolor": "#000",
        "plot_bgcolor": "#000",
        "title": "Confidence after 32000 Iterations at Glimpse 9",
        "titlefont": {
         "color": "#FFF"
        },
        "width": 500,
        "xaxis": {
         "dtick": 1,
         "range": [
          0.5,
          9.5
         ],
         "tickcolor": "#FFF",
         "title": "True Class"
        },
        "yaxis": {
         "dtick": 1,
         "range": [
          0.5,
          9.5
         ],
         "tickcolor": "#FFF",
         "title": "Mean"
        },
        "yaxis2": {
         "gridcolor": "#999",
         "overlaying": "y",
         "range": [
          0,
          3
         ],
         "side": "right",
         "tickcolor": "#FFF",
         "title": "Standard Deviation"
        }
       }
      },
      "text/html": [
       "<div id=\"1e687113-7854-4e95-a397-5d060db0a53d\" style=\"height: 500px; width: 500px;\" class=\"plotly-graph-div\"></div><script type=\"text/javascript\">require([\"plotly\"], function(Plotly) { window.PLOTLYENV=window.PLOTLYENV || {};window.PLOTLYENV.BASE_URL=\"https://plot.ly\";Plotly.newPlot(\"1e687113-7854-4e95-a397-5d060db0a53d\", [{\"x\": [1, 2, 3, 4, 5, 6, 7, 8, 9], \"type\": \"scatter\", \"name\": \"Mean\", \"y\": [1.6638170929623441, 2.385626255511705, 3.160441570785021, 3.8755264087866967, 4.54447826531258, 5.0330900231059115, 5.485833204818991, 5.843637570318388, 6.134487555868088]}, {\"x\": [1, 2, 3, 4, 5, 6, 7, 8, 9], \"type\": \"scatter\", \"yaxis\": \"y2\", \"name\": \"Standard Deviation\", \"y\": [1.105340144456388, 1.668943380734849, 2.014728532955016, 2.173348431589646, 2.247398395908426, 2.241293439528902, 2.1860557930152935, 2.111713779508225, 2.0288570731134916]}], {\"xaxis\": {\"title\": \"True Class\", \"dtick\": 1, \"range\": [0.5, 9.5], \"tickcolor\": \"#FFF\"}, \"plot_bgcolor\": \"#000\", \"yaxis2\": {\"overlaying\": \"y\", \"range\": [0, 3], \"gridcolor\": \"#999\", \"title\": \"Standard Deviation\", \"side\": \"right\", \"tickcolor\": \"#FFF\"}, \"yaxis\": {\"title\": \"Mean\", \"dtick\": 1, \"range\": [0.5, 9.5], \"tickcolor\": \"#FFF\"}, \"paper_bgcolor\": \"#000\", \"height\": 500, \"titlefont\": {\"color\": \"#FFF\"}, \"title\": \"Confidence after 32000 Iterations at Glimpse 9\", \"font\": {\"color\": \"#FFF\"}, \"width\": 500, \"legend\": {\"x\": 0, \"y\": 1}}, {\"showLink\": true, \"linkText\": \"Export to plot.ly\"})});</script>"
      ],
      "text/vnd.plotly.v1+html": [
       "<div id=\"1e687113-7854-4e95-a397-5d060db0a53d\" style=\"height: 500px; width: 500px;\" class=\"plotly-graph-div\"></div><script type=\"text/javascript\">require([\"plotly\"], function(Plotly) { window.PLOTLYENV=window.PLOTLYENV || {};window.PLOTLYENV.BASE_URL=\"https://plot.ly\";Plotly.newPlot(\"1e687113-7854-4e95-a397-5d060db0a53d\", [{\"x\": [1, 2, 3, 4, 5, 6, 7, 8, 9], \"type\": \"scatter\", \"name\": \"Mean\", \"y\": [1.6638170929623441, 2.385626255511705, 3.160441570785021, 3.8755264087866967, 4.54447826531258, 5.0330900231059115, 5.485833204818991, 5.843637570318388, 6.134487555868088]}, {\"x\": [1, 2, 3, 4, 5, 6, 7, 8, 9], \"type\": \"scatter\", \"yaxis\": \"y2\", \"name\": \"Standard Deviation\", \"y\": [1.105340144456388, 1.668943380734849, 2.014728532955016, 2.173348431589646, 2.247398395908426, 2.241293439528902, 2.1860557930152935, 2.111713779508225, 2.0288570731134916]}], {\"xaxis\": {\"title\": \"True Class\", \"dtick\": 1, \"range\": [0.5, 9.5], \"tickcolor\": \"#FFF\"}, \"plot_bgcolor\": \"#000\", \"yaxis2\": {\"overlaying\": \"y\", \"range\": [0, 3], \"gridcolor\": \"#999\", \"title\": \"Standard Deviation\", \"side\": \"right\", \"tickcolor\": \"#FFF\"}, \"yaxis\": {\"title\": \"Mean\", \"dtick\": 1, \"range\": [0.5, 9.5], \"tickcolor\": \"#FFF\"}, \"paper_bgcolor\": \"#000\", \"height\": 500, \"titlefont\": {\"color\": \"#FFF\"}, \"title\": \"Confidence after 32000 Iterations at Glimpse 9\", \"font\": {\"color\": \"#FFF\"}, \"width\": 500, \"legend\": {\"x\": 0, \"y\": 1}}, {\"showLink\": true, \"linkText\": \"Export to plot.ly\"})});</script>"
      ]
     },
     "metadata": {},
     "output_type": "display_data"
    },
    {
     "data": {
      "application/vnd.plotly.v1+json": {
       "data": [
        {
         "name": "Coefficient of Variation",
         "type": "scatter",
         "x": [
          1,
          2,
          3,
          4,
          5,
          6,
          7,
          8,
          9
         ],
         "y": [
          0.6441166255459904,
          0.695415151961004,
          0.636391399509713,
          0.5629912682323492,
          0.4993509126834155,
          0.451622525505632,
          0.4058684602363905,
          0.3699489442728201,
          0.3399875024375981
         ]
        }
       ],
       "layout": {
        "font": {
         "color": "#FFF"
        },
        "height": 300,
        "paper_bgcolor": "#000",
        "plot_bgcolor": "#000",
        "title": "Confidence after 32000 Iterations at Glimpse 9",
        "titlefont": {
         "color": "#FFF"
        },
        "width": 500,
        "xaxis": {
         "dtick": 1,
         "range": [
          0.5,
          9.5
         ],
         "tickcolor": "#FFF",
         "title": "True Class"
        },
        "yaxis": {
         "showgrid": true,
         "tickcolor": "#FFF",
         "title": "Coefficient of Variation"
        }
       }
      },
      "text/html": [
       "<div id=\"09ba9767-e46a-4ca2-bd83-797a78c3a259\" style=\"height: 300px; width: 500px;\" class=\"plotly-graph-div\"></div><script type=\"text/javascript\">require([\"plotly\"], function(Plotly) { window.PLOTLYENV=window.PLOTLYENV || {};window.PLOTLYENV.BASE_URL=\"https://plot.ly\";Plotly.newPlot(\"09ba9767-e46a-4ca2-bd83-797a78c3a259\", [{\"x\": [1, 2, 3, 4, 5, 6, 7, 8, 9], \"type\": \"scatter\", \"name\": \"Coefficient of Variation\", \"y\": [0.6441166255459904, 0.695415151961004, 0.636391399509713, 0.5629912682323492, 0.4993509126834155, 0.451622525505632, 0.4058684602363905, 0.3699489442728201, 0.3399875024375981]}], {\"xaxis\": {\"title\": \"True Class\", \"dtick\": 1, \"range\": [0.5, 9.5], \"tickcolor\": \"#FFF\"}, \"plot_bgcolor\": \"#000\", \"titlefont\": {\"color\": \"#FFF\"}, \"paper_bgcolor\": \"#000\", \"height\": 300, \"yaxis\": {\"title\": \"Coefficient of Variation\", \"tickcolor\": \"#FFF\", \"showgrid\": true}, \"title\": \"Confidence after 32000 Iterations at Glimpse 9\", \"font\": {\"color\": \"#FFF\"}, \"width\": 500}, {\"showLink\": true, \"linkText\": \"Export to plot.ly\"})});</script>"
      ],
      "text/vnd.plotly.v1+html": [
       "<div id=\"09ba9767-e46a-4ca2-bd83-797a78c3a259\" style=\"height: 300px; width: 500px;\" class=\"plotly-graph-div\"></div><script type=\"text/javascript\">require([\"plotly\"], function(Plotly) { window.PLOTLYENV=window.PLOTLYENV || {};window.PLOTLYENV.BASE_URL=\"https://plot.ly\";Plotly.newPlot(\"09ba9767-e46a-4ca2-bd83-797a78c3a259\", [{\"x\": [1, 2, 3, 4, 5, 6, 7, 8, 9], \"type\": \"scatter\", \"name\": \"Coefficient of Variation\", \"y\": [0.6441166255459904, 0.695415151961004, 0.636391399509713, 0.5629912682323492, 0.4993509126834155, 0.451622525505632, 0.4058684602363905, 0.3699489442728201, 0.3399875024375981]}], {\"xaxis\": {\"title\": \"True Class\", \"dtick\": 1, \"range\": [0.5, 9.5], \"tickcolor\": \"#FFF\"}, \"plot_bgcolor\": \"#000\", \"titlefont\": {\"color\": \"#FFF\"}, \"paper_bgcolor\": \"#000\", \"height\": 300, \"yaxis\": {\"title\": \"Coefficient of Variation\", \"tickcolor\": \"#FFF\", \"showgrid\": true}, \"title\": \"Confidence after 32000 Iterations at Glimpse 9\", \"font\": {\"color\": \"#FFF\"}, \"width\": 500}, {\"showLink\": true, \"linkText\": \"Export to plot.ly\"})});</script>"
      ]
     },
     "metadata": {},
     "output_type": "display_data"
    },
    {
     "data": {
      "application/vnd.plotly.v1+json": {
       "data": [
        {
         "name": "Mean",
         "type": "scatter",
         "x": [
          1,
          2,
          3,
          4,
          5,
          6,
          7,
          8,
          9
         ],
         "y": [
          1.1349,
          1.721,
          2.4979,
          3.254,
          4.0785,
          4.7153,
          5.3448,
          5.8889,
          6.296100000000001
         ]
        },
        {
         "name": "Standard Deviation",
         "type": "scatter",
         "x": [
          1,
          2,
          3,
          4,
          5,
          6,
          7,
          8,
          9
         ],
         "y": [
          0.3624839965559572,
          1.0993895907742217,
          1.6002595331122749,
          1.8361286766686091,
          2.0979539382695123,
          2.1805855378174206,
          2.1608235984693835,
          2.0701453789004,
          1.955243205440246
         ],
         "yaxis": "y2"
        }
       ],
       "layout": {
        "font": {
         "color": "#FFF"
        },
        "height": 500,
        "legend": {
         "x": 0,
         "y": 1
        },
        "paper_bgcolor": "#000",
        "plot_bgcolor": "#000",
        "title": "Choice after 32000 Iterations at Glimpse 9",
        "titlefont": {
         "color": "#FFF"
        },
        "width": 500,
        "xaxis": {
         "dtick": 1,
         "range": [
          0.5,
          9.5
         ],
         "tickcolor": "#FFF",
         "title": "True Class"
        },
        "yaxis": {
         "dtick": 1,
         "range": [
          0.5,
          9.5
         ],
         "tickcolor": "#FFF",
         "title": "Mean"
        },
        "yaxis2": {
         "gridcolor": "#999",
         "overlaying": "y",
         "range": [
          0,
          3
         ],
         "side": "right",
         "tickcolor": "#FFF",
         "title": "Standard Deviation"
        }
       }
      },
      "text/html": [
       "<div id=\"8a1c395a-b9ff-4d23-bf23-191fd1bfb24f\" style=\"height: 500px; width: 500px;\" class=\"plotly-graph-div\"></div><script type=\"text/javascript\">require([\"plotly\"], function(Plotly) { window.PLOTLYENV=window.PLOTLYENV || {};window.PLOTLYENV.BASE_URL=\"https://plot.ly\";Plotly.newPlot(\"8a1c395a-b9ff-4d23-bf23-191fd1bfb24f\", [{\"x\": [1, 2, 3, 4, 5, 6, 7, 8, 9], \"type\": \"scatter\", \"name\": \"Mean\", \"y\": [1.1349, 1.721, 2.4979, 3.254, 4.0785, 4.7153, 5.3448, 5.8889, 6.296100000000001]}, {\"x\": [1, 2, 3, 4, 5, 6, 7, 8, 9], \"type\": \"scatter\", \"yaxis\": \"y2\", \"name\": \"Standard Deviation\", \"y\": [0.3624839965559572, 1.0993895907742217, 1.6002595331122749, 1.8361286766686091, 2.0979539382695123, 2.1805855378174206, 2.1608235984693835, 2.0701453789004, 1.955243205440246]}], {\"xaxis\": {\"title\": \"True Class\", \"dtick\": 1, \"range\": [0.5, 9.5], \"tickcolor\": \"#FFF\"}, \"plot_bgcolor\": \"#000\", \"yaxis2\": {\"overlaying\": \"y\", \"range\": [0, 3], \"gridcolor\": \"#999\", \"title\": \"Standard Deviation\", \"side\": \"right\", \"tickcolor\": \"#FFF\"}, \"yaxis\": {\"title\": \"Mean\", \"dtick\": 1, \"range\": [0.5, 9.5], \"tickcolor\": \"#FFF\"}, \"paper_bgcolor\": \"#000\", \"height\": 500, \"titlefont\": {\"color\": \"#FFF\"}, \"title\": \"Choice after 32000 Iterations at Glimpse 9\", \"font\": {\"color\": \"#FFF\"}, \"width\": 500, \"legend\": {\"x\": 0, \"y\": 1}}, {\"showLink\": true, \"linkText\": \"Export to plot.ly\"})});</script>"
      ],
      "text/vnd.plotly.v1+html": [
       "<div id=\"8a1c395a-b9ff-4d23-bf23-191fd1bfb24f\" style=\"height: 500px; width: 500px;\" class=\"plotly-graph-div\"></div><script type=\"text/javascript\">require([\"plotly\"], function(Plotly) { window.PLOTLYENV=window.PLOTLYENV || {};window.PLOTLYENV.BASE_URL=\"https://plot.ly\";Plotly.newPlot(\"8a1c395a-b9ff-4d23-bf23-191fd1bfb24f\", [{\"x\": [1, 2, 3, 4, 5, 6, 7, 8, 9], \"type\": \"scatter\", \"name\": \"Mean\", \"y\": [1.1349, 1.721, 2.4979, 3.254, 4.0785, 4.7153, 5.3448, 5.8889, 6.296100000000001]}, {\"x\": [1, 2, 3, 4, 5, 6, 7, 8, 9], \"type\": \"scatter\", \"yaxis\": \"y2\", \"name\": \"Standard Deviation\", \"y\": [0.3624839965559572, 1.0993895907742217, 1.6002595331122749, 1.8361286766686091, 2.0979539382695123, 2.1805855378174206, 2.1608235984693835, 2.0701453789004, 1.955243205440246]}], {\"xaxis\": {\"title\": \"True Class\", \"dtick\": 1, \"range\": [0.5, 9.5], \"tickcolor\": \"#FFF\"}, \"plot_bgcolor\": \"#000\", \"yaxis2\": {\"overlaying\": \"y\", \"range\": [0, 3], \"gridcolor\": \"#999\", \"title\": \"Standard Deviation\", \"side\": \"right\", \"tickcolor\": \"#FFF\"}, \"yaxis\": {\"title\": \"Mean\", \"dtick\": 1, \"range\": [0.5, 9.5], \"tickcolor\": \"#FFF\"}, \"paper_bgcolor\": \"#000\", \"height\": 500, \"titlefont\": {\"color\": \"#FFF\"}, \"title\": \"Choice after 32000 Iterations at Glimpse 9\", \"font\": {\"color\": \"#FFF\"}, \"width\": 500, \"legend\": {\"x\": 0, \"y\": 1}}, {\"showLink\": true, \"linkText\": \"Export to plot.ly\"})});</script>"
      ]
     },
     "metadata": {},
     "output_type": "display_data"
    },
    {
     "data": {
      "application/vnd.plotly.v1+json": {
       "data": [
        {
         "name": "Coefficient of Variation",
         "type": "scatter",
         "x": [
          1,
          2,
          3,
          4,
          5,
          6,
          7,
          8,
          9
         ],
         "y": [
          0.310448033782014,
          0.6484721811236985,
          0.649319147696007,
          0.5777107773605255,
          0.5293074494319767,
          0.4769619178191601,
          0.41815861725443826,
          0.3654490432541338,
          0.32413547698130546
         ]
        }
       ],
       "layout": {
        "font": {
         "color": "#FFF"
        },
        "height": 300,
        "paper_bgcolor": "#000",
        "plot_bgcolor": "#000",
        "title": "Choice after 32000 Iterations at Glimpse 9",
        "titlefont": {
         "color": "#FFF"
        },
        "width": 500,
        "xaxis": {
         "dtick": 1,
         "range": [
          0.5,
          9.5
         ],
         "tickcolor": "#FFF",
         "title": "True Class"
        },
        "yaxis": {
         "showgrid": true,
         "tickcolor": "#FFF",
         "title": "Coefficient of Variation"
        }
       }
      },
      "text/html": [
       "<div id=\"4cbb97cc-a037-4155-bd57-6e9ac348f4d0\" style=\"height: 300px; width: 500px;\" class=\"plotly-graph-div\"></div><script type=\"text/javascript\">require([\"plotly\"], function(Plotly) { window.PLOTLYENV=window.PLOTLYENV || {};window.PLOTLYENV.BASE_URL=\"https://plot.ly\";Plotly.newPlot(\"4cbb97cc-a037-4155-bd57-6e9ac348f4d0\", [{\"x\": [1, 2, 3, 4, 5, 6, 7, 8, 9], \"type\": \"scatter\", \"name\": \"Coefficient of Variation\", \"y\": [0.310448033782014, 0.6484721811236985, 0.649319147696007, 0.5777107773605255, 0.5293074494319767, 0.4769619178191601, 0.41815861725443826, 0.3654490432541338, 0.32413547698130546]}], {\"xaxis\": {\"title\": \"True Class\", \"dtick\": 1, \"range\": [0.5, 9.5], \"tickcolor\": \"#FFF\"}, \"plot_bgcolor\": \"#000\", \"titlefont\": {\"color\": \"#FFF\"}, \"paper_bgcolor\": \"#000\", \"height\": 300, \"yaxis\": {\"title\": \"Coefficient of Variation\", \"tickcolor\": \"#FFF\", \"showgrid\": true}, \"title\": \"Choice after 32000 Iterations at Glimpse 9\", \"font\": {\"color\": \"#FFF\"}, \"width\": 500}, {\"showLink\": true, \"linkText\": \"Export to plot.ly\"})});</script>"
      ],
      "text/vnd.plotly.v1+html": [
       "<div id=\"4cbb97cc-a037-4155-bd57-6e9ac348f4d0\" style=\"height: 300px; width: 500px;\" class=\"plotly-graph-div\"></div><script type=\"text/javascript\">require([\"plotly\"], function(Plotly) { window.PLOTLYENV=window.PLOTLYENV || {};window.PLOTLYENV.BASE_URL=\"https://plot.ly\";Plotly.newPlot(\"4cbb97cc-a037-4155-bd57-6e9ac348f4d0\", [{\"x\": [1, 2, 3, 4, 5, 6, 7, 8, 9], \"type\": \"scatter\", \"name\": \"Coefficient of Variation\", \"y\": [0.310448033782014, 0.6484721811236985, 0.649319147696007, 0.5777107773605255, 0.5293074494319767, 0.4769619178191601, 0.41815861725443826, 0.3654490432541338, 0.32413547698130546]}], {\"xaxis\": {\"title\": \"True Class\", \"dtick\": 1, \"range\": [0.5, 9.5], \"tickcolor\": \"#FFF\"}, \"plot_bgcolor\": \"#000\", \"titlefont\": {\"color\": \"#FFF\"}, \"paper_bgcolor\": \"#000\", \"height\": 300, \"yaxis\": {\"title\": \"Coefficient of Variation\", \"tickcolor\": \"#FFF\", \"showgrid\": true}, \"title\": \"Choice after 32000 Iterations at Glimpse 9\", \"font\": {\"color\": \"#FFF\"}, \"width\": 500}, {\"showLink\": true, \"linkText\": \"Export to plot.ly\"})});</script>"
      ]
     },
     "metadata": {},
     "output_type": "display_data"
    },
    {
     "data": {
      "application/vnd.plotly.v1+json": {
       "data": [
        {
         "name": "Mean",
         "type": "scatter",
         "x": [
          1,
          2,
          3,
          4,
          5,
          6,
          7,
          8,
          9
         ],
         "y": [
          1.2203475922316303,
          2.1402596011021027,
          3.1611273955306314,
          4.118146469057341,
          5.03657001937353,
          5.838780679601484,
          6.559584342785446,
          7.079344298964858,
          7.490083270697286
         ]
        },
        {
         "name": "Standard Deviation",
         "type": "scatter",
         "x": [
          1,
          2,
          3,
          4,
          5,
          6,
          7,
          8,
          9
         ],
         "y": [
          0.5150441335230711,
          1.0775567997771387,
          1.3682939576900535,
          1.5649573131574437,
          1.7080851842961384,
          1.7276361223353747,
          1.642712003447409,
          1.5186633633590083,
          1.363291408066209
         ],
         "yaxis": "y2"
        }
       ],
       "layout": {
        "font": {
         "color": "#FFF"
        },
        "height": 500,
        "legend": {
         "x": 0,
         "y": 1
        },
        "paper_bgcolor": "#000",
        "plot_bgcolor": "#000",
        "title": "Confidence after 64000 Iterations at Glimpse 0",
        "titlefont": {
         "color": "#FFF"
        },
        "width": 500,
        "xaxis": {
         "dtick": 1,
         "range": [
          0.5,
          9.5
         ],
         "tickcolor": "#FFF",
         "title": "True Class"
        },
        "yaxis": {
         "dtick": 1,
         "range": [
          0.5,
          9.5
         ],
         "tickcolor": "#FFF",
         "title": "Mean"
        },
        "yaxis2": {
         "gridcolor": "#999",
         "overlaying": "y",
         "range": [
          0,
          3
         ],
         "side": "right",
         "tickcolor": "#FFF",
         "title": "Standard Deviation"
        }
       }
      },
      "text/html": [
       "<div id=\"d9c6fd3e-3101-4ebe-9228-dc226d7e77d4\" style=\"height: 500px; width: 500px;\" class=\"plotly-graph-div\"></div><script type=\"text/javascript\">require([\"plotly\"], function(Plotly) { window.PLOTLYENV=window.PLOTLYENV || {};window.PLOTLYENV.BASE_URL=\"https://plot.ly\";Plotly.newPlot(\"d9c6fd3e-3101-4ebe-9228-dc226d7e77d4\", [{\"x\": [1, 2, 3, 4, 5, 6, 7, 8, 9], \"type\": \"scatter\", \"name\": \"Mean\", \"y\": [1.2203475922316303, 2.1402596011021027, 3.1611273955306314, 4.118146469057341, 5.03657001937353, 5.838780679601484, 6.559584342785446, 7.079344298964858, 7.490083270697286]}, {\"x\": [1, 2, 3, 4, 5, 6, 7, 8, 9], \"type\": \"scatter\", \"yaxis\": \"y2\", \"name\": \"Standard Deviation\", \"y\": [0.5150441335230711, 1.0775567997771387, 1.3682939576900535, 1.5649573131574437, 1.7080851842961384, 1.7276361223353747, 1.642712003447409, 1.5186633633590083, 1.363291408066209]}], {\"xaxis\": {\"title\": \"True Class\", \"dtick\": 1, \"range\": [0.5, 9.5], \"tickcolor\": \"#FFF\"}, \"plot_bgcolor\": \"#000\", \"yaxis2\": {\"overlaying\": \"y\", \"range\": [0, 3], \"gridcolor\": \"#999\", \"title\": \"Standard Deviation\", \"side\": \"right\", \"tickcolor\": \"#FFF\"}, \"yaxis\": {\"title\": \"Mean\", \"dtick\": 1, \"range\": [0.5, 9.5], \"tickcolor\": \"#FFF\"}, \"paper_bgcolor\": \"#000\", \"height\": 500, \"titlefont\": {\"color\": \"#FFF\"}, \"title\": \"Confidence after 64000 Iterations at Glimpse 0\", \"font\": {\"color\": \"#FFF\"}, \"width\": 500, \"legend\": {\"x\": 0, \"y\": 1}}, {\"showLink\": true, \"linkText\": \"Export to plot.ly\"})});</script>"
      ],
      "text/vnd.plotly.v1+html": [
       "<div id=\"d9c6fd3e-3101-4ebe-9228-dc226d7e77d4\" style=\"height: 500px; width: 500px;\" class=\"plotly-graph-div\"></div><script type=\"text/javascript\">require([\"plotly\"], function(Plotly) { window.PLOTLYENV=window.PLOTLYENV || {};window.PLOTLYENV.BASE_URL=\"https://plot.ly\";Plotly.newPlot(\"d9c6fd3e-3101-4ebe-9228-dc226d7e77d4\", [{\"x\": [1, 2, 3, 4, 5, 6, 7, 8, 9], \"type\": \"scatter\", \"name\": \"Mean\", \"y\": [1.2203475922316303, 2.1402596011021027, 3.1611273955306314, 4.118146469057341, 5.03657001937353, 5.838780679601484, 6.559584342785446, 7.079344298964858, 7.490083270697286]}, {\"x\": [1, 2, 3, 4, 5, 6, 7, 8, 9], \"type\": \"scatter\", \"yaxis\": \"y2\", \"name\": \"Standard Deviation\", \"y\": [0.5150441335230711, 1.0775567997771387, 1.3682939576900535, 1.5649573131574437, 1.7080851842961384, 1.7276361223353747, 1.642712003447409, 1.5186633633590083, 1.363291408066209]}], {\"xaxis\": {\"title\": \"True Class\", \"dtick\": 1, \"range\": [0.5, 9.5], \"tickcolor\": \"#FFF\"}, \"plot_bgcolor\": \"#000\", \"yaxis2\": {\"overlaying\": \"y\", \"range\": [0, 3], \"gridcolor\": \"#999\", \"title\": \"Standard Deviation\", \"side\": \"right\", \"tickcolor\": \"#FFF\"}, \"yaxis\": {\"title\": \"Mean\", \"dtick\": 1, \"range\": [0.5, 9.5], \"tickcolor\": \"#FFF\"}, \"paper_bgcolor\": \"#000\", \"height\": 500, \"titlefont\": {\"color\": \"#FFF\"}, \"title\": \"Confidence after 64000 Iterations at Glimpse 0\", \"font\": {\"color\": \"#FFF\"}, \"width\": 500, \"legend\": {\"x\": 0, \"y\": 1}}, {\"showLink\": true, \"linkText\": \"Export to plot.ly\"})});</script>"
      ]
     },
     "metadata": {},
     "output_type": "display_data"
    },
    {
     "data": {
      "application/vnd.plotly.v1+json": {
       "data": [
        {
         "name": "Coefficient of Variation",
         "type": "scatter",
         "x": [
          1,
          2,
          3,
          4,
          5,
          6,
          7,
          8,
          9
         ],
         "y": [
          0.42082772312931527,
          0.5028927942241668,
          0.4326656217476702,
          0.3798907519097388,
          0.3391818943385393,
          0.2961551825034511,
          0.25061230173387605,
          0.21479611737742088,
          0.18229077381179398
         ]
        }
       ],
       "layout": {
        "font": {
         "color": "#FFF"
        },
        "height": 300,
        "paper_bgcolor": "#000",
        "plot_bgcolor": "#000",
        "title": "Confidence after 64000 Iterations at Glimpse 0",
        "titlefont": {
         "color": "#FFF"
        },
        "width": 500,
        "xaxis": {
         "dtick": 1,
         "range": [
          0.5,
          9.5
         ],
         "tickcolor": "#FFF",
         "title": "True Class"
        },
        "yaxis": {
         "showgrid": true,
         "tickcolor": "#FFF",
         "title": "Coefficient of Variation"
        }
       }
      },
      "text/html": [
       "<div id=\"fe6fd2a6-25d4-41db-b15e-d6dc6733ccae\" style=\"height: 300px; width: 500px;\" class=\"plotly-graph-div\"></div><script type=\"text/javascript\">require([\"plotly\"], function(Plotly) { window.PLOTLYENV=window.PLOTLYENV || {};window.PLOTLYENV.BASE_URL=\"https://plot.ly\";Plotly.newPlot(\"fe6fd2a6-25d4-41db-b15e-d6dc6733ccae\", [{\"x\": [1, 2, 3, 4, 5, 6, 7, 8, 9], \"type\": \"scatter\", \"name\": \"Coefficient of Variation\", \"y\": [0.42082772312931527, 0.5028927942241668, 0.4326656217476702, 0.3798907519097388, 0.3391818943385393, 0.2961551825034511, 0.25061230173387605, 0.21479611737742088, 0.18229077381179398]}], {\"xaxis\": {\"title\": \"True Class\", \"dtick\": 1, \"range\": [0.5, 9.5], \"tickcolor\": \"#FFF\"}, \"plot_bgcolor\": \"#000\", \"titlefont\": {\"color\": \"#FFF\"}, \"paper_bgcolor\": \"#000\", \"height\": 300, \"yaxis\": {\"title\": \"Coefficient of Variation\", \"tickcolor\": \"#FFF\", \"showgrid\": true}, \"title\": \"Confidence after 64000 Iterations at Glimpse 0\", \"font\": {\"color\": \"#FFF\"}, \"width\": 500}, {\"showLink\": true, \"linkText\": \"Export to plot.ly\"})});</script>"
      ],
      "text/vnd.plotly.v1+html": [
       "<div id=\"fe6fd2a6-25d4-41db-b15e-d6dc6733ccae\" style=\"height: 300px; width: 500px;\" class=\"plotly-graph-div\"></div><script type=\"text/javascript\">require([\"plotly\"], function(Plotly) { window.PLOTLYENV=window.PLOTLYENV || {};window.PLOTLYENV.BASE_URL=\"https://plot.ly\";Plotly.newPlot(\"fe6fd2a6-25d4-41db-b15e-d6dc6733ccae\", [{\"x\": [1, 2, 3, 4, 5, 6, 7, 8, 9], \"type\": \"scatter\", \"name\": \"Coefficient of Variation\", \"y\": [0.42082772312931527, 0.5028927942241668, 0.4326656217476702, 0.3798907519097388, 0.3391818943385393, 0.2961551825034511, 0.25061230173387605, 0.21479611737742088, 0.18229077381179398]}], {\"xaxis\": {\"title\": \"True Class\", \"dtick\": 1, \"range\": [0.5, 9.5], \"tickcolor\": \"#FFF\"}, \"plot_bgcolor\": \"#000\", \"titlefont\": {\"color\": \"#FFF\"}, \"paper_bgcolor\": \"#000\", \"height\": 300, \"yaxis\": {\"title\": \"Coefficient of Variation\", \"tickcolor\": \"#FFF\", \"showgrid\": true}, \"title\": \"Confidence after 64000 Iterations at Glimpse 0\", \"font\": {\"color\": \"#FFF\"}, \"width\": 500}, {\"showLink\": true, \"linkText\": \"Export to plot.ly\"})});</script>"
      ]
     },
     "metadata": {},
     "output_type": "display_data"
    },
    {
     "data": {
      "application/vnd.plotly.v1+json": {
       "data": [
        {
         "name": "Mean",
         "type": "scatter",
         "x": [
          1,
          2,
          3,
          4,
          5,
          6,
          7,
          8,
          9
         ],
         "y": [
          1.0421,
          1.8401,
          2.8295999999999992,
          3.8125,
          4.8083,
          5.726999999999999,
          6.595799999999999,
          7.256299999999999,
          7.7508
         ]
        },
        {
         "name": "Standard Deviation",
         "type": "scatter",
         "x": [
          1,
          2,
          3,
          4,
          5,
          6,
          7,
          8,
          9
         ],
         "y": [
          0.19996505261773373,
          0.7275100324715355,
          1.010681286802033,
          1.2013894782972923,
          1.4248872955431964,
          1.5344003513264806,
          1.510970260663286,
          1.3847204631360053,
          1.205782423655493
         ],
         "yaxis": "y2"
        }
       ],
       "layout": {
        "font": {
         "color": "#FFF"
        },
        "height": 500,
        "legend": {
         "x": 0,
         "y": 1
        },
        "paper_bgcolor": "#000",
        "plot_bgcolor": "#000",
        "title": "Choice after 64000 Iterations at Glimpse 0",
        "titlefont": {
         "color": "#FFF"
        },
        "width": 500,
        "xaxis": {
         "dtick": 1,
         "range": [
          0.5,
          9.5
         ],
         "tickcolor": "#FFF",
         "title": "True Class"
        },
        "yaxis": {
         "dtick": 1,
         "range": [
          0.5,
          9.5
         ],
         "tickcolor": "#FFF",
         "title": "Mean"
        },
        "yaxis2": {
         "gridcolor": "#999",
         "overlaying": "y",
         "range": [
          0,
          3
         ],
         "side": "right",
         "tickcolor": "#FFF",
         "title": "Standard Deviation"
        }
       }
      },
      "text/html": [
       "<div id=\"318eb15b-74b1-4af1-ae42-53abb832dcd3\" style=\"height: 500px; width: 500px;\" class=\"plotly-graph-div\"></div><script type=\"text/javascript\">require([\"plotly\"], function(Plotly) { window.PLOTLYENV=window.PLOTLYENV || {};window.PLOTLYENV.BASE_URL=\"https://plot.ly\";Plotly.newPlot(\"318eb15b-74b1-4af1-ae42-53abb832dcd3\", [{\"x\": [1, 2, 3, 4, 5, 6, 7, 8, 9], \"type\": \"scatter\", \"name\": \"Mean\", \"y\": [1.0421, 1.8401, 2.8295999999999992, 3.8125, 4.8083, 5.726999999999999, 6.595799999999999, 7.256299999999999, 7.7508]}, {\"x\": [1, 2, 3, 4, 5, 6, 7, 8, 9], \"type\": \"scatter\", \"yaxis\": \"y2\", \"name\": \"Standard Deviation\", \"y\": [0.19996505261773373, 0.7275100324715355, 1.010681286802033, 1.2013894782972923, 1.4248872955431964, 1.5344003513264806, 1.510970260663286, 1.3847204631360053, 1.205782423655493]}], {\"xaxis\": {\"title\": \"True Class\", \"dtick\": 1, \"range\": [0.5, 9.5], \"tickcolor\": \"#FFF\"}, \"plot_bgcolor\": \"#000\", \"yaxis2\": {\"overlaying\": \"y\", \"range\": [0, 3], \"gridcolor\": \"#999\", \"title\": \"Standard Deviation\", \"side\": \"right\", \"tickcolor\": \"#FFF\"}, \"yaxis\": {\"title\": \"Mean\", \"dtick\": 1, \"range\": [0.5, 9.5], \"tickcolor\": \"#FFF\"}, \"paper_bgcolor\": \"#000\", \"height\": 500, \"titlefont\": {\"color\": \"#FFF\"}, \"title\": \"Choice after 64000 Iterations at Glimpse 0\", \"font\": {\"color\": \"#FFF\"}, \"width\": 500, \"legend\": {\"x\": 0, \"y\": 1}}, {\"showLink\": true, \"linkText\": \"Export to plot.ly\"})});</script>"
      ],
      "text/vnd.plotly.v1+html": [
       "<div id=\"318eb15b-74b1-4af1-ae42-53abb832dcd3\" style=\"height: 500px; width: 500px;\" class=\"plotly-graph-div\"></div><script type=\"text/javascript\">require([\"plotly\"], function(Plotly) { window.PLOTLYENV=window.PLOTLYENV || {};window.PLOTLYENV.BASE_URL=\"https://plot.ly\";Plotly.newPlot(\"318eb15b-74b1-4af1-ae42-53abb832dcd3\", [{\"x\": [1, 2, 3, 4, 5, 6, 7, 8, 9], \"type\": \"scatter\", \"name\": \"Mean\", \"y\": [1.0421, 1.8401, 2.8295999999999992, 3.8125, 4.8083, 5.726999999999999, 6.595799999999999, 7.256299999999999, 7.7508]}, {\"x\": [1, 2, 3, 4, 5, 6, 7, 8, 9], \"type\": \"scatter\", \"yaxis\": \"y2\", \"name\": \"Standard Deviation\", \"y\": [0.19996505261773373, 0.7275100324715355, 1.010681286802033, 1.2013894782972923, 1.4248872955431964, 1.5344003513264806, 1.510970260663286, 1.3847204631360053, 1.205782423655493]}], {\"xaxis\": {\"title\": \"True Class\", \"dtick\": 1, \"range\": [0.5, 9.5], \"tickcolor\": \"#FFF\"}, \"plot_bgcolor\": \"#000\", \"yaxis2\": {\"overlaying\": \"y\", \"range\": [0, 3], \"gridcolor\": \"#999\", \"title\": \"Standard Deviation\", \"side\": \"right\", \"tickcolor\": \"#FFF\"}, \"yaxis\": {\"title\": \"Mean\", \"dtick\": 1, \"range\": [0.5, 9.5], \"tickcolor\": \"#FFF\"}, \"paper_bgcolor\": \"#000\", \"height\": 500, \"titlefont\": {\"color\": \"#FFF\"}, \"title\": \"Choice after 64000 Iterations at Glimpse 0\", \"font\": {\"color\": \"#FFF\"}, \"width\": 500, \"legend\": {\"x\": 0, \"y\": 1}}, {\"showLink\": true, \"linkText\": \"Export to plot.ly\"})});</script>"
      ]
     },
     "metadata": {},
     "output_type": "display_data"
    },
    {
     "data": {
      "application/vnd.plotly.v1+json": {
       "data": [
        {
         "name": "Coefficient of Variation",
         "type": "scatter",
         "x": [
          1,
          2,
          3,
          4,
          5,
          6,
          7,
          8,
          9
         ],
         "y": [
          0.19166825698643225,
          0.3951637672000611,
          0.3577114529716449,
          0.31553862244216135,
          0.29658733960672895,
          0.26862466553511555,
          0.22947510468725202,
          0.19109635610791914,
          0.15575196821815968
         ]
        }
       ],
       "layout": {
        "font": {
         "color": "#FFF"
        },
        "height": 300,
        "paper_bgcolor": "#000",
        "plot_bgcolor": "#000",
        "title": "Choice after 64000 Iterations at Glimpse 0",
        "titlefont": {
         "color": "#FFF"
        },
        "width": 500,
        "xaxis": {
         "dtick": 1,
         "range": [
          0.5,
          9.5
         ],
         "tickcolor": "#FFF",
         "title": "True Class"
        },
        "yaxis": {
         "showgrid": true,
         "tickcolor": "#FFF",
         "title": "Coefficient of Variation"
        }
       }
      },
      "text/html": [
       "<div id=\"3850682c-4254-404f-a1f3-bbc78ad65733\" style=\"height: 300px; width: 500px;\" class=\"plotly-graph-div\"></div><script type=\"text/javascript\">require([\"plotly\"], function(Plotly) { window.PLOTLYENV=window.PLOTLYENV || {};window.PLOTLYENV.BASE_URL=\"https://plot.ly\";Plotly.newPlot(\"3850682c-4254-404f-a1f3-bbc78ad65733\", [{\"x\": [1, 2, 3, 4, 5, 6, 7, 8, 9], \"type\": \"scatter\", \"name\": \"Coefficient of Variation\", \"y\": [0.19166825698643225, 0.3951637672000611, 0.3577114529716449, 0.31553862244216135, 0.29658733960672895, 0.26862466553511555, 0.22947510468725202, 0.19109635610791914, 0.15575196821815968]}], {\"xaxis\": {\"title\": \"True Class\", \"dtick\": 1, \"range\": [0.5, 9.5], \"tickcolor\": \"#FFF\"}, \"plot_bgcolor\": \"#000\", \"titlefont\": {\"color\": \"#FFF\"}, \"paper_bgcolor\": \"#000\", \"height\": 300, \"yaxis\": {\"title\": \"Coefficient of Variation\", \"tickcolor\": \"#FFF\", \"showgrid\": true}, \"title\": \"Choice after 64000 Iterations at Glimpse 0\", \"font\": {\"color\": \"#FFF\"}, \"width\": 500}, {\"showLink\": true, \"linkText\": \"Export to plot.ly\"})});</script>"
      ],
      "text/vnd.plotly.v1+html": [
       "<div id=\"3850682c-4254-404f-a1f3-bbc78ad65733\" style=\"height: 300px; width: 500px;\" class=\"plotly-graph-div\"></div><script type=\"text/javascript\">require([\"plotly\"], function(Plotly) { window.PLOTLYENV=window.PLOTLYENV || {};window.PLOTLYENV.BASE_URL=\"https://plot.ly\";Plotly.newPlot(\"3850682c-4254-404f-a1f3-bbc78ad65733\", [{\"x\": [1, 2, 3, 4, 5, 6, 7, 8, 9], \"type\": \"scatter\", \"name\": \"Coefficient of Variation\", \"y\": [0.19166825698643225, 0.3951637672000611, 0.3577114529716449, 0.31553862244216135, 0.29658733960672895, 0.26862466553511555, 0.22947510468725202, 0.19109635610791914, 0.15575196821815968]}], {\"xaxis\": {\"title\": \"True Class\", \"dtick\": 1, \"range\": [0.5, 9.5], \"tickcolor\": \"#FFF\"}, \"plot_bgcolor\": \"#000\", \"titlefont\": {\"color\": \"#FFF\"}, \"paper_bgcolor\": \"#000\", \"height\": 300, \"yaxis\": {\"title\": \"Coefficient of Variation\", \"tickcolor\": \"#FFF\", \"showgrid\": true}, \"title\": \"Choice after 64000 Iterations at Glimpse 0\", \"font\": {\"color\": \"#FFF\"}, \"width\": 500}, {\"showLink\": true, \"linkText\": \"Export to plot.ly\"})});</script>"
      ]
     },
     "metadata": {},
     "output_type": "display_data"
    },
    {
     "data": {
      "application/vnd.plotly.v1+json": {
       "data": [
        {
         "name": "Mean",
         "type": "scatter",
         "x": [
          1,
          2,
          3,
          4,
          5,
          6,
          7,
          8,
          9
         ],
         "y": [
          1.1493146239167056,
          2.0861441097020226,
          3.091939672761749,
          4.062534395981366,
          5.036351681275841,
          5.893381072641582,
          6.697660249675186,
          7.269892073043768,
          7.728112842750983
         ]
        },
        {
         "name": "Standard Deviation",
         "type": "scatter",
         "x": [
          1,
          2,
          3,
          4,
          5,
          6,
          7,
          8,
          9
         ],
         "y": [
          0.39311846317389004,
          0.9173067698535402,
          1.1733194733923717,
          1.3685077073296115,
          1.5355498054306331,
          1.5822279317496073,
          1.5020184136781904,
          1.3690875569258902,
          1.1851888475298484
         ],
         "yaxis": "y2"
        }
       ],
       "layout": {
        "font": {
         "color": "#FFF"
        },
        "height": 500,
        "legend": {
         "x": 0,
         "y": 1
        },
        "paper_bgcolor": "#000",
        "plot_bgcolor": "#000",
        "title": "Confidence after 64000 Iterations at Glimpse 3",
        "titlefont": {
         "color": "#FFF"
        },
        "width": 500,
        "xaxis": {
         "dtick": 1,
         "range": [
          0.5,
          9.5
         ],
         "tickcolor": "#FFF",
         "title": "True Class"
        },
        "yaxis": {
         "dtick": 1,
         "range": [
          0.5,
          9.5
         ],
         "tickcolor": "#FFF",
         "title": "Mean"
        },
        "yaxis2": {
         "gridcolor": "#999",
         "overlaying": "y",
         "range": [
          0,
          3
         ],
         "side": "right",
         "tickcolor": "#FFF",
         "title": "Standard Deviation"
        }
       }
      },
      "text/html": [
       "<div id=\"f9bd55a8-b06b-4080-be10-61d30c2bf6ef\" style=\"height: 500px; width: 500px;\" class=\"plotly-graph-div\"></div><script type=\"text/javascript\">require([\"plotly\"], function(Plotly) { window.PLOTLYENV=window.PLOTLYENV || {};window.PLOTLYENV.BASE_URL=\"https://plot.ly\";Plotly.newPlot(\"f9bd55a8-b06b-4080-be10-61d30c2bf6ef\", [{\"x\": [1, 2, 3, 4, 5, 6, 7, 8, 9], \"type\": \"scatter\", \"name\": \"Mean\", \"y\": [1.1493146239167056, 2.0861441097020226, 3.091939672761749, 4.062534395981366, 5.036351681275841, 5.893381072641582, 6.697660249675186, 7.269892073043768, 7.728112842750983]}, {\"x\": [1, 2, 3, 4, 5, 6, 7, 8, 9], \"type\": \"scatter\", \"yaxis\": \"y2\", \"name\": \"Standard Deviation\", \"y\": [0.39311846317389004, 0.9173067698535402, 1.1733194733923717, 1.3685077073296115, 1.5355498054306331, 1.5822279317496073, 1.5020184136781904, 1.3690875569258902, 1.1851888475298484]}], {\"xaxis\": {\"title\": \"True Class\", \"dtick\": 1, \"range\": [0.5, 9.5], \"tickcolor\": \"#FFF\"}, \"plot_bgcolor\": \"#000\", \"yaxis2\": {\"overlaying\": \"y\", \"range\": [0, 3], \"gridcolor\": \"#999\", \"title\": \"Standard Deviation\", \"side\": \"right\", \"tickcolor\": \"#FFF\"}, \"yaxis\": {\"title\": \"Mean\", \"dtick\": 1, \"range\": [0.5, 9.5], \"tickcolor\": \"#FFF\"}, \"paper_bgcolor\": \"#000\", \"height\": 500, \"titlefont\": {\"color\": \"#FFF\"}, \"title\": \"Confidence after 64000 Iterations at Glimpse 3\", \"font\": {\"color\": \"#FFF\"}, \"width\": 500, \"legend\": {\"x\": 0, \"y\": 1}}, {\"showLink\": true, \"linkText\": \"Export to plot.ly\"})});</script>"
      ],
      "text/vnd.plotly.v1+html": [
       "<div id=\"f9bd55a8-b06b-4080-be10-61d30c2bf6ef\" style=\"height: 500px; width: 500px;\" class=\"plotly-graph-div\"></div><script type=\"text/javascript\">require([\"plotly\"], function(Plotly) { window.PLOTLYENV=window.PLOTLYENV || {};window.PLOTLYENV.BASE_URL=\"https://plot.ly\";Plotly.newPlot(\"f9bd55a8-b06b-4080-be10-61d30c2bf6ef\", [{\"x\": [1, 2, 3, 4, 5, 6, 7, 8, 9], \"type\": \"scatter\", \"name\": \"Mean\", \"y\": [1.1493146239167056, 2.0861441097020226, 3.091939672761749, 4.062534395981366, 5.036351681275841, 5.893381072641582, 6.697660249675186, 7.269892073043768, 7.728112842750983]}, {\"x\": [1, 2, 3, 4, 5, 6, 7, 8, 9], \"type\": \"scatter\", \"yaxis\": \"y2\", \"name\": \"Standard Deviation\", \"y\": [0.39311846317389004, 0.9173067698535402, 1.1733194733923717, 1.3685077073296115, 1.5355498054306331, 1.5822279317496073, 1.5020184136781904, 1.3690875569258902, 1.1851888475298484]}], {\"xaxis\": {\"title\": \"True Class\", \"dtick\": 1, \"range\": [0.5, 9.5], \"tickcolor\": \"#FFF\"}, \"plot_bgcolor\": \"#000\", \"yaxis2\": {\"overlaying\": \"y\", \"range\": [0, 3], \"gridcolor\": \"#999\", \"title\": \"Standard Deviation\", \"side\": \"right\", \"tickcolor\": \"#FFF\"}, \"yaxis\": {\"title\": \"Mean\", \"dtick\": 1, \"range\": [0.5, 9.5], \"tickcolor\": \"#FFF\"}, \"paper_bgcolor\": \"#000\", \"height\": 500, \"titlefont\": {\"color\": \"#FFF\"}, \"title\": \"Confidence after 64000 Iterations at Glimpse 3\", \"font\": {\"color\": \"#FFF\"}, \"width\": 500, \"legend\": {\"x\": 0, \"y\": 1}}, {\"showLink\": true, \"linkText\": \"Export to plot.ly\"})});</script>"
      ]
     },
     "metadata": {},
     "output_type": "display_data"
    },
    {
     "data": {
      "application/vnd.plotly.v1+json": {
       "data": [
        {
         "name": "Coefficient of Variation",
         "type": "scatter",
         "x": [
          1,
          2,
          3,
          4,
          5,
          6,
          7,
          8,
          9
         ],
         "y": [
          0.34157514603725436,
          0.4395538660653703,
          0.3798569949215554,
          0.3367060187879491,
          0.3049068057121877,
          0.26867219179192786,
          0.22416134084404843,
          0.18816591940621868,
          0.15317921792882463
         ]
        }
       ],
       "layout": {
        "font": {
         "color": "#FFF"
        },
        "height": 300,
        "paper_bgcolor": "#000",
        "plot_bgcolor": "#000",
        "title": "Confidence after 64000 Iterations at Glimpse 3",
        "titlefont": {
         "color": "#FFF"
        },
        "width": 500,
        "xaxis": {
         "dtick": 1,
         "range": [
          0.5,
          9.5
         ],
         "tickcolor": "#FFF",
         "title": "True Class"
        },
        "yaxis": {
         "showgrid": true,
         "tickcolor": "#FFF",
         "title": "Coefficient of Variation"
        }
       }
      },
      "text/html": [
       "<div id=\"6007a90e-f9da-4b23-9eec-ced00cd1def4\" style=\"height: 300px; width: 500px;\" class=\"plotly-graph-div\"></div><script type=\"text/javascript\">require([\"plotly\"], function(Plotly) { window.PLOTLYENV=window.PLOTLYENV || {};window.PLOTLYENV.BASE_URL=\"https://plot.ly\";Plotly.newPlot(\"6007a90e-f9da-4b23-9eec-ced00cd1def4\", [{\"x\": [1, 2, 3, 4, 5, 6, 7, 8, 9], \"type\": \"scatter\", \"name\": \"Coefficient of Variation\", \"y\": [0.34157514603725436, 0.4395538660653703, 0.3798569949215554, 0.3367060187879491, 0.3049068057121877, 0.26867219179192786, 0.22416134084404843, 0.18816591940621868, 0.15317921792882463]}], {\"xaxis\": {\"title\": \"True Class\", \"dtick\": 1, \"range\": [0.5, 9.5], \"tickcolor\": \"#FFF\"}, \"plot_bgcolor\": \"#000\", \"titlefont\": {\"color\": \"#FFF\"}, \"paper_bgcolor\": \"#000\", \"height\": 300, \"yaxis\": {\"title\": \"Coefficient of Variation\", \"tickcolor\": \"#FFF\", \"showgrid\": true}, \"title\": \"Confidence after 64000 Iterations at Glimpse 3\", \"font\": {\"color\": \"#FFF\"}, \"width\": 500}, {\"showLink\": true, \"linkText\": \"Export to plot.ly\"})});</script>"
      ],
      "text/vnd.plotly.v1+html": [
       "<div id=\"6007a90e-f9da-4b23-9eec-ced00cd1def4\" style=\"height: 300px; width: 500px;\" class=\"plotly-graph-div\"></div><script type=\"text/javascript\">require([\"plotly\"], function(Plotly) { window.PLOTLYENV=window.PLOTLYENV || {};window.PLOTLYENV.BASE_URL=\"https://plot.ly\";Plotly.newPlot(\"6007a90e-f9da-4b23-9eec-ced00cd1def4\", [{\"x\": [1, 2, 3, 4, 5, 6, 7, 8, 9], \"type\": \"scatter\", \"name\": \"Coefficient of Variation\", \"y\": [0.34157514603725436, 0.4395538660653703, 0.3798569949215554, 0.3367060187879491, 0.3049068057121877, 0.26867219179192786, 0.22416134084404843, 0.18816591940621868, 0.15317921792882463]}], {\"xaxis\": {\"title\": \"True Class\", \"dtick\": 1, \"range\": [0.5, 9.5], \"tickcolor\": \"#FFF\"}, \"plot_bgcolor\": \"#000\", \"titlefont\": {\"color\": \"#FFF\"}, \"paper_bgcolor\": \"#000\", \"height\": 300, \"yaxis\": {\"title\": \"Coefficient of Variation\", \"tickcolor\": \"#FFF\", \"showgrid\": true}, \"title\": \"Confidence after 64000 Iterations at Glimpse 3\", \"font\": {\"color\": \"#FFF\"}, \"width\": 500}, {\"showLink\": true, \"linkText\": \"Export to plot.ly\"})});</script>"
      ]
     },
     "metadata": {},
     "output_type": "display_data"
    },
    {
     "data": {
      "application/vnd.plotly.v1+json": {
       "data": [
        {
         "name": "Mean",
         "type": "scatter",
         "x": [
          1,
          2,
          3,
          4,
          5,
          6,
          7,
          8,
          9
         ],
         "y": [
          1.0464,
          1.9006,
          2.9091,
          3.909,
          4.924600000000001,
          5.8421,
          6.7691,
          7.4399999999999995,
          7.9659
         ]
        },
        {
         "name": "Standard Deviation",
         "type": "scatter",
         "x": [
          1,
          2,
          3,
          4,
          5,
          6,
          7,
          8,
          9
         ],
         "y": [
          0.2081500373193587,
          0.7141510619016802,
          0.9534591302956397,
          1.1042835895127794,
          1.303447669808216,
          1.3974446743465319,
          1.3607653809956841,
          1.2390989649676176,
          1.0163108318360674
         ],
         "yaxis": "y2"
        }
       ],
       "layout": {
        "font": {
         "color": "#FFF"
        },
        "height": 500,
        "legend": {
         "x": 0,
         "y": 1
        },
        "paper_bgcolor": "#000",
        "plot_bgcolor": "#000",
        "title": "Choice after 64000 Iterations at Glimpse 3",
        "titlefont": {
         "color": "#FFF"
        },
        "width": 500,
        "xaxis": {
         "dtick": 1,
         "range": [
          0.5,
          9.5
         ],
         "tickcolor": "#FFF",
         "title": "True Class"
        },
        "yaxis": {
         "dtick": 1,
         "range": [
          0.5,
          9.5
         ],
         "tickcolor": "#FFF",
         "title": "Mean"
        },
        "yaxis2": {
         "gridcolor": "#999",
         "overlaying": "y",
         "range": [
          0,
          3
         ],
         "side": "right",
         "tickcolor": "#FFF",
         "title": "Standard Deviation"
        }
       }
      },
      "text/html": [
       "<div id=\"ed3351fe-818b-494f-9342-b51b321ad10e\" style=\"height: 500px; width: 500px;\" class=\"plotly-graph-div\"></div><script type=\"text/javascript\">require([\"plotly\"], function(Plotly) { window.PLOTLYENV=window.PLOTLYENV || {};window.PLOTLYENV.BASE_URL=\"https://plot.ly\";Plotly.newPlot(\"ed3351fe-818b-494f-9342-b51b321ad10e\", [{\"x\": [1, 2, 3, 4, 5, 6, 7, 8, 9], \"type\": \"scatter\", \"name\": \"Mean\", \"y\": [1.0464, 1.9006, 2.9091, 3.909, 4.924600000000001, 5.8421, 6.7691, 7.4399999999999995, 7.9659]}, {\"x\": [1, 2, 3, 4, 5, 6, 7, 8, 9], \"type\": \"scatter\", \"yaxis\": \"y2\", \"name\": \"Standard Deviation\", \"y\": [0.2081500373193587, 0.7141510619016802, 0.9534591302956397, 1.1042835895127794, 1.303447669808216, 1.3974446743465319, 1.3607653809956841, 1.2390989649676176, 1.0163108318360674]}], {\"xaxis\": {\"title\": \"True Class\", \"dtick\": 1, \"range\": [0.5, 9.5], \"tickcolor\": \"#FFF\"}, \"plot_bgcolor\": \"#000\", \"yaxis2\": {\"overlaying\": \"y\", \"range\": [0, 3], \"gridcolor\": \"#999\", \"title\": \"Standard Deviation\", \"side\": \"right\", \"tickcolor\": \"#FFF\"}, \"yaxis\": {\"title\": \"Mean\", \"dtick\": 1, \"range\": [0.5, 9.5], \"tickcolor\": \"#FFF\"}, \"paper_bgcolor\": \"#000\", \"height\": 500, \"titlefont\": {\"color\": \"#FFF\"}, \"title\": \"Choice after 64000 Iterations at Glimpse 3\", \"font\": {\"color\": \"#FFF\"}, \"width\": 500, \"legend\": {\"x\": 0, \"y\": 1}}, {\"showLink\": true, \"linkText\": \"Export to plot.ly\"})});</script>"
      ],
      "text/vnd.plotly.v1+html": [
       "<div id=\"ed3351fe-818b-494f-9342-b51b321ad10e\" style=\"height: 500px; width: 500px;\" class=\"plotly-graph-div\"></div><script type=\"text/javascript\">require([\"plotly\"], function(Plotly) { window.PLOTLYENV=window.PLOTLYENV || {};window.PLOTLYENV.BASE_URL=\"https://plot.ly\";Plotly.newPlot(\"ed3351fe-818b-494f-9342-b51b321ad10e\", [{\"x\": [1, 2, 3, 4, 5, 6, 7, 8, 9], \"type\": \"scatter\", \"name\": \"Mean\", \"y\": [1.0464, 1.9006, 2.9091, 3.909, 4.924600000000001, 5.8421, 6.7691, 7.4399999999999995, 7.9659]}, {\"x\": [1, 2, 3, 4, 5, 6, 7, 8, 9], \"type\": \"scatter\", \"yaxis\": \"y2\", \"name\": \"Standard Deviation\", \"y\": [0.2081500373193587, 0.7141510619016802, 0.9534591302956397, 1.1042835895127794, 1.303447669808216, 1.3974446743465319, 1.3607653809956841, 1.2390989649676176, 1.0163108318360674]}], {\"xaxis\": {\"title\": \"True Class\", \"dtick\": 1, \"range\": [0.5, 9.5], \"tickcolor\": \"#FFF\"}, \"plot_bgcolor\": \"#000\", \"yaxis2\": {\"overlaying\": \"y\", \"range\": [0, 3], \"gridcolor\": \"#999\", \"title\": \"Standard Deviation\", \"side\": \"right\", \"tickcolor\": \"#FFF\"}, \"yaxis\": {\"title\": \"Mean\", \"dtick\": 1, \"range\": [0.5, 9.5], \"tickcolor\": \"#FFF\"}, \"paper_bgcolor\": \"#000\", \"height\": 500, \"titlefont\": {\"color\": \"#FFF\"}, \"title\": \"Choice after 64000 Iterations at Glimpse 3\", \"font\": {\"color\": \"#FFF\"}, \"width\": 500, \"legend\": {\"x\": 0, \"y\": 1}}, {\"showLink\": true, \"linkText\": \"Export to plot.ly\"})});</script>"
      ]
     },
     "metadata": {},
     "output_type": "display_data"
    },
    {
     "data": {
      "application/vnd.plotly.v1+json": {
       "data": [
        {
         "name": "Coefficient of Variation",
         "type": "scatter",
         "x": [
          1,
          2,
          3,
          4,
          5,
          6,
          7,
          8,
          9
         ],
         "y": [
          0.19862657690331686,
          0.3749647039158154,
          0.3287910469562384,
          0.2823615392917514,
          0.26480437495978726,
          0.23982613980715364,
          0.2008733837198533,
          0.16612819393701622,
          0.12723576911860243
         ]
        }
       ],
       "layout": {
        "font": {
         "color": "#FFF"
        },
        "height": 300,
        "paper_bgcolor": "#000",
        "plot_bgcolor": "#000",
        "title": "Choice after 64000 Iterations at Glimpse 3",
        "titlefont": {
         "color": "#FFF"
        },
        "width": 500,
        "xaxis": {
         "dtick": 1,
         "range": [
          0.5,
          9.5
         ],
         "tickcolor": "#FFF",
         "title": "True Class"
        },
        "yaxis": {
         "showgrid": true,
         "tickcolor": "#FFF",
         "title": "Coefficient of Variation"
        }
       }
      },
      "text/html": [
       "<div id=\"9b442e7d-07d3-4f7b-a71a-81a69dafe809\" style=\"height: 300px; width: 500px;\" class=\"plotly-graph-div\"></div><script type=\"text/javascript\">require([\"plotly\"], function(Plotly) { window.PLOTLYENV=window.PLOTLYENV || {};window.PLOTLYENV.BASE_URL=\"https://plot.ly\";Plotly.newPlot(\"9b442e7d-07d3-4f7b-a71a-81a69dafe809\", [{\"x\": [1, 2, 3, 4, 5, 6, 7, 8, 9], \"type\": \"scatter\", \"name\": \"Coefficient of Variation\", \"y\": [0.19862657690331686, 0.3749647039158154, 0.3287910469562384, 0.2823615392917514, 0.26480437495978726, 0.23982613980715364, 0.2008733837198533, 0.16612819393701622, 0.12723576911860243]}], {\"xaxis\": {\"title\": \"True Class\", \"dtick\": 1, \"range\": [0.5, 9.5], \"tickcolor\": \"#FFF\"}, \"plot_bgcolor\": \"#000\", \"titlefont\": {\"color\": \"#FFF\"}, \"paper_bgcolor\": \"#000\", \"height\": 300, \"yaxis\": {\"title\": \"Coefficient of Variation\", \"tickcolor\": \"#FFF\", \"showgrid\": true}, \"title\": \"Choice after 64000 Iterations at Glimpse 3\", \"font\": {\"color\": \"#FFF\"}, \"width\": 500}, {\"showLink\": true, \"linkText\": \"Export to plot.ly\"})});</script>"
      ],
      "text/vnd.plotly.v1+html": [
       "<div id=\"9b442e7d-07d3-4f7b-a71a-81a69dafe809\" style=\"height: 300px; width: 500px;\" class=\"plotly-graph-div\"></div><script type=\"text/javascript\">require([\"plotly\"], function(Plotly) { window.PLOTLYENV=window.PLOTLYENV || {};window.PLOTLYENV.BASE_URL=\"https://plot.ly\";Plotly.newPlot(\"9b442e7d-07d3-4f7b-a71a-81a69dafe809\", [{\"x\": [1, 2, 3, 4, 5, 6, 7, 8, 9], \"type\": \"scatter\", \"name\": \"Coefficient of Variation\", \"y\": [0.19862657690331686, 0.3749647039158154, 0.3287910469562384, 0.2823615392917514, 0.26480437495978726, 0.23982613980715364, 0.2008733837198533, 0.16612819393701622, 0.12723576911860243]}], {\"xaxis\": {\"title\": \"True Class\", \"dtick\": 1, \"range\": [0.5, 9.5], \"tickcolor\": \"#FFF\"}, \"plot_bgcolor\": \"#000\", \"titlefont\": {\"color\": \"#FFF\"}, \"paper_bgcolor\": \"#000\", \"height\": 300, \"yaxis\": {\"title\": \"Coefficient of Variation\", \"tickcolor\": \"#FFF\", \"showgrid\": true}, \"title\": \"Choice after 64000 Iterations at Glimpse 3\", \"font\": {\"color\": \"#FFF\"}, \"width\": 500}, {\"showLink\": true, \"linkText\": \"Export to plot.ly\"})});</script>"
      ]
     },
     "metadata": {},
     "output_type": "display_data"
    },
    {
     "data": {
      "application/vnd.plotly.v1+json": {
       "data": [
        {
         "name": "Mean",
         "type": "scatter",
         "x": [
          1,
          2,
          3,
          4,
          5,
          6,
          7,
          8,
          9
         ],
         "y": [
          1.1591771229950545,
          2.069786607823693,
          3.0776980522902533,
          4.0460515334623315,
          5.009941731833553,
          5.845446002758929,
          6.622724622301891,
          7.1835483537943805,
          7.636582752721415
         ]
        },
        {
         "name": "Standard Deviation",
         "type": "scatter",
         "x": [
          1,
          2,
          3,
          4,
          5,
          6,
          7,
          8,
          9
         ],
         "y": [
          0.4117917486324291,
          0.9446204037080509,
          1.2048232755255477,
          1.4072672382428688,
          1.563609796941901,
          1.5954765644535407,
          1.5171551105908845,
          1.3949471399850233,
          1.231114272544431
         ],
         "yaxis": "y2"
        }
       ],
       "layout": {
        "font": {
         "color": "#FFF"
        },
        "height": 500,
        "legend": {
         "x": 0,
         "y": 1
        },
        "paper_bgcolor": "#000",
        "plot_bgcolor": "#000",
        "title": "Confidence after 64000 Iterations at Glimpse 9",
        "titlefont": {
         "color": "#FFF"
        },
        "width": 500,
        "xaxis": {
         "dtick": 1,
         "range": [
          0.5,
          9.5
         ],
         "tickcolor": "#FFF",
         "title": "True Class"
        },
        "yaxis": {
         "dtick": 1,
         "range": [
          0.5,
          9.5
         ],
         "tickcolor": "#FFF",
         "title": "Mean"
        },
        "yaxis2": {
         "gridcolor": "#999",
         "overlaying": "y",
         "range": [
          0,
          3
         ],
         "side": "right",
         "tickcolor": "#FFF",
         "title": "Standard Deviation"
        }
       }
      },
      "text/html": [
       "<div id=\"3d0ddd58-d132-4722-b7aa-774022d6e6a5\" style=\"height: 500px; width: 500px;\" class=\"plotly-graph-div\"></div><script type=\"text/javascript\">require([\"plotly\"], function(Plotly) { window.PLOTLYENV=window.PLOTLYENV || {};window.PLOTLYENV.BASE_URL=\"https://plot.ly\";Plotly.newPlot(\"3d0ddd58-d132-4722-b7aa-774022d6e6a5\", [{\"x\": [1, 2, 3, 4, 5, 6, 7, 8, 9], \"type\": \"scatter\", \"name\": \"Mean\", \"y\": [1.1591771229950545, 2.069786607823693, 3.0776980522902533, 4.0460515334623315, 5.009941731833553, 5.845446002758929, 6.622724622301891, 7.1835483537943805, 7.636582752721415]}, {\"x\": [1, 2, 3, 4, 5, 6, 7, 8, 9], \"type\": \"scatter\", \"yaxis\": \"y2\", \"name\": \"Standard Deviation\", \"y\": [0.4117917486324291, 0.9446204037080509, 1.2048232755255477, 1.4072672382428688, 1.563609796941901, 1.5954765644535407, 1.5171551105908845, 1.3949471399850233, 1.231114272544431]}], {\"xaxis\": {\"title\": \"True Class\", \"dtick\": 1, \"range\": [0.5, 9.5], \"tickcolor\": \"#FFF\"}, \"plot_bgcolor\": \"#000\", \"yaxis2\": {\"overlaying\": \"y\", \"range\": [0, 3], \"gridcolor\": \"#999\", \"title\": \"Standard Deviation\", \"side\": \"right\", \"tickcolor\": \"#FFF\"}, \"yaxis\": {\"title\": \"Mean\", \"dtick\": 1, \"range\": [0.5, 9.5], \"tickcolor\": \"#FFF\"}, \"paper_bgcolor\": \"#000\", \"height\": 500, \"titlefont\": {\"color\": \"#FFF\"}, \"title\": \"Confidence after 64000 Iterations at Glimpse 9\", \"font\": {\"color\": \"#FFF\"}, \"width\": 500, \"legend\": {\"x\": 0, \"y\": 1}}, {\"showLink\": true, \"linkText\": \"Export to plot.ly\"})});</script>"
      ],
      "text/vnd.plotly.v1+html": [
       "<div id=\"3d0ddd58-d132-4722-b7aa-774022d6e6a5\" style=\"height: 500px; width: 500px;\" class=\"plotly-graph-div\"></div><script type=\"text/javascript\">require([\"plotly\"], function(Plotly) { window.PLOTLYENV=window.PLOTLYENV || {};window.PLOTLYENV.BASE_URL=\"https://plot.ly\";Plotly.newPlot(\"3d0ddd58-d132-4722-b7aa-774022d6e6a5\", [{\"x\": [1, 2, 3, 4, 5, 6, 7, 8, 9], \"type\": \"scatter\", \"name\": \"Mean\", \"y\": [1.1591771229950545, 2.069786607823693, 3.0776980522902533, 4.0460515334623315, 5.009941731833553, 5.845446002758929, 6.622724622301891, 7.1835483537943805, 7.636582752721415]}, {\"x\": [1, 2, 3, 4, 5, 6, 7, 8, 9], \"type\": \"scatter\", \"yaxis\": \"y2\", \"name\": \"Standard Deviation\", \"y\": [0.4117917486324291, 0.9446204037080509, 1.2048232755255477, 1.4072672382428688, 1.563609796941901, 1.5954765644535407, 1.5171551105908845, 1.3949471399850233, 1.231114272544431]}], {\"xaxis\": {\"title\": \"True Class\", \"dtick\": 1, \"range\": [0.5, 9.5], \"tickcolor\": \"#FFF\"}, \"plot_bgcolor\": \"#000\", \"yaxis2\": {\"overlaying\": \"y\", \"range\": [0, 3], \"gridcolor\": \"#999\", \"title\": \"Standard Deviation\", \"side\": \"right\", \"tickcolor\": \"#FFF\"}, \"yaxis\": {\"title\": \"Mean\", \"dtick\": 1, \"range\": [0.5, 9.5], \"tickcolor\": \"#FFF\"}, \"paper_bgcolor\": \"#000\", \"height\": 500, \"titlefont\": {\"color\": \"#FFF\"}, \"title\": \"Confidence after 64000 Iterations at Glimpse 9\", \"font\": {\"color\": \"#FFF\"}, \"width\": 500, \"legend\": {\"x\": 0, \"y\": 1}}, {\"showLink\": true, \"linkText\": \"Export to plot.ly\"})});</script>"
      ]
     },
     "metadata": {},
     "output_type": "display_data"
    },
    {
     "data": {
      "application/vnd.plotly.v1+json": {
       "data": [
        {
         "name": "Coefficient of Variation",
         "type": "scatter",
         "x": [
          1,
          2,
          3,
          4,
          5,
          6,
          7,
          8,
          9
         ],
         "y": [
          0.35475519428486446,
          0.4564783525724643,
          0.39174814638318756,
          0.3476874825268398,
          0.31206418915703626,
          0.2730988209122053,
          0.22899326906372167,
          0.19399641257560368,
          0.1609633494172039
         ]
        }
       ],
       "layout": {
        "font": {
         "color": "#FFF"
        },
        "height": 300,
        "paper_bgcolor": "#000",
        "plot_bgcolor": "#000",
        "title": "Confidence after 64000 Iterations at Glimpse 9",
        "titlefont": {
         "color": "#FFF"
        },
        "width": 500,
        "xaxis": {
         "dtick": 1,
         "range": [
          0.5,
          9.5
         ],
         "tickcolor": "#FFF",
         "title": "True Class"
        },
        "yaxis": {
         "showgrid": true,
         "tickcolor": "#FFF",
         "title": "Coefficient of Variation"
        }
       }
      },
      "text/html": [
       "<div id=\"84d0be37-9c8d-435c-81f3-992069e863dd\" style=\"height: 300px; width: 500px;\" class=\"plotly-graph-div\"></div><script type=\"text/javascript\">require([\"plotly\"], function(Plotly) { window.PLOTLYENV=window.PLOTLYENV || {};window.PLOTLYENV.BASE_URL=\"https://plot.ly\";Plotly.newPlot(\"84d0be37-9c8d-435c-81f3-992069e863dd\", [{\"x\": [1, 2, 3, 4, 5, 6, 7, 8, 9], \"type\": \"scatter\", \"name\": \"Coefficient of Variation\", \"y\": [0.35475519428486446, 0.4564783525724643, 0.39174814638318756, 0.3476874825268398, 0.31206418915703626, 0.2730988209122053, 0.22899326906372167, 0.19399641257560368, 0.1609633494172039]}], {\"xaxis\": {\"title\": \"True Class\", \"dtick\": 1, \"range\": [0.5, 9.5], \"tickcolor\": \"#FFF\"}, \"plot_bgcolor\": \"#000\", \"titlefont\": {\"color\": \"#FFF\"}, \"paper_bgcolor\": \"#000\", \"height\": 300, \"yaxis\": {\"title\": \"Coefficient of Variation\", \"tickcolor\": \"#FFF\", \"showgrid\": true}, \"title\": \"Confidence after 64000 Iterations at Glimpse 9\", \"font\": {\"color\": \"#FFF\"}, \"width\": 500}, {\"showLink\": true, \"linkText\": \"Export to plot.ly\"})});</script>"
      ],
      "text/vnd.plotly.v1+html": [
       "<div id=\"84d0be37-9c8d-435c-81f3-992069e863dd\" style=\"height: 300px; width: 500px;\" class=\"plotly-graph-div\"></div><script type=\"text/javascript\">require([\"plotly\"], function(Plotly) { window.PLOTLYENV=window.PLOTLYENV || {};window.PLOTLYENV.BASE_URL=\"https://plot.ly\";Plotly.newPlot(\"84d0be37-9c8d-435c-81f3-992069e863dd\", [{\"x\": [1, 2, 3, 4, 5, 6, 7, 8, 9], \"type\": \"scatter\", \"name\": \"Coefficient of Variation\", \"y\": [0.35475519428486446, 0.4564783525724643, 0.39174814638318756, 0.3476874825268398, 0.31206418915703626, 0.2730988209122053, 0.22899326906372167, 0.19399641257560368, 0.1609633494172039]}], {\"xaxis\": {\"title\": \"True Class\", \"dtick\": 1, \"range\": [0.5, 9.5], \"tickcolor\": \"#FFF\"}, \"plot_bgcolor\": \"#000\", \"titlefont\": {\"color\": \"#FFF\"}, \"paper_bgcolor\": \"#000\", \"height\": 300, \"yaxis\": {\"title\": \"Coefficient of Variation\", \"tickcolor\": \"#FFF\", \"showgrid\": true}, \"title\": \"Confidence after 64000 Iterations at Glimpse 9\", \"font\": {\"color\": \"#FFF\"}, \"width\": 500}, {\"showLink\": true, \"linkText\": \"Export to plot.ly\"})});</script>"
      ]
     },
     "metadata": {},
     "output_type": "display_data"
    },
    {
     "data": {
      "application/vnd.plotly.v1+json": {
       "data": [
        {
         "name": "Mean",
         "type": "scatter",
         "x": [
          1,
          2,
          3,
          4,
          5,
          6,
          7,
          8,
          9
         ],
         "y": [
          1.0316,
          1.8584,
          2.8691999999999998,
          3.8728000000000002,
          4.8850999999999996,
          5.782300000000001,
          6.690700000000001,
          7.365900000000001,
          7.923400000000001
         ]
        },
        {
         "name": "Standard Deviation",
         "type": "scatter",
         "x": [
          1,
          2,
          3,
          4,
          5,
          6,
          7,
          8,
          9
         ],
         "y": [
          0.16840283965679242,
          0.725437643636894,
          0.9450440143879035,
          1.0928368103055741,
          1.2750901411566171,
          1.3539521220498052,
          1.3297417490526993,
          1.2415690453748558,
          1.048444953142463
         ],
         "yaxis": "y2"
        }
       ],
       "layout": {
        "font": {
         "color": "#FFF"
        },
        "height": 500,
        "legend": {
         "x": 0,
         "y": 1
        },
        "paper_bgcolor": "#000",
        "plot_bgcolor": "#000",
        "title": "Choice after 64000 Iterations at Glimpse 9",
        "titlefont": {
         "color": "#FFF"
        },
        "width": 500,
        "xaxis": {
         "dtick": 1,
         "range": [
          0.5,
          9.5
         ],
         "tickcolor": "#FFF",
         "title": "True Class"
        },
        "yaxis": {
         "dtick": 1,
         "range": [
          0.5,
          9.5
         ],
         "tickcolor": "#FFF",
         "title": "Mean"
        },
        "yaxis2": {
         "gridcolor": "#999",
         "overlaying": "y",
         "range": [
          0,
          3
         ],
         "side": "right",
         "tickcolor": "#FFF",
         "title": "Standard Deviation"
        }
       }
      },
      "text/html": [
       "<div id=\"d3c38b5e-cef9-47ea-a44e-1ec1bf41a73d\" style=\"height: 500px; width: 500px;\" class=\"plotly-graph-div\"></div><script type=\"text/javascript\">require([\"plotly\"], function(Plotly) { window.PLOTLYENV=window.PLOTLYENV || {};window.PLOTLYENV.BASE_URL=\"https://plot.ly\";Plotly.newPlot(\"d3c38b5e-cef9-47ea-a44e-1ec1bf41a73d\", [{\"x\": [1, 2, 3, 4, 5, 6, 7, 8, 9], \"type\": \"scatter\", \"name\": \"Mean\", \"y\": [1.0316, 1.8584, 2.8691999999999998, 3.8728000000000002, 4.8850999999999996, 5.782300000000001, 6.690700000000001, 7.365900000000001, 7.923400000000001]}, {\"x\": [1, 2, 3, 4, 5, 6, 7, 8, 9], \"type\": \"scatter\", \"yaxis\": \"y2\", \"name\": \"Standard Deviation\", \"y\": [0.16840283965679242, 0.725437643636894, 0.9450440143879035, 1.0928368103055741, 1.2750901411566171, 1.3539521220498052, 1.3297417490526993, 1.2415690453748558, 1.048444953142463]}], {\"xaxis\": {\"title\": \"True Class\", \"dtick\": 1, \"range\": [0.5, 9.5], \"tickcolor\": \"#FFF\"}, \"plot_bgcolor\": \"#000\", \"yaxis2\": {\"overlaying\": \"y\", \"range\": [0, 3], \"gridcolor\": \"#999\", \"title\": \"Standard Deviation\", \"side\": \"right\", \"tickcolor\": \"#FFF\"}, \"yaxis\": {\"title\": \"Mean\", \"dtick\": 1, \"range\": [0.5, 9.5], \"tickcolor\": \"#FFF\"}, \"paper_bgcolor\": \"#000\", \"height\": 500, \"titlefont\": {\"color\": \"#FFF\"}, \"title\": \"Choice after 64000 Iterations at Glimpse 9\", \"font\": {\"color\": \"#FFF\"}, \"width\": 500, \"legend\": {\"x\": 0, \"y\": 1}}, {\"showLink\": true, \"linkText\": \"Export to plot.ly\"})});</script>"
      ],
      "text/vnd.plotly.v1+html": [
       "<div id=\"d3c38b5e-cef9-47ea-a44e-1ec1bf41a73d\" style=\"height: 500px; width: 500px;\" class=\"plotly-graph-div\"></div><script type=\"text/javascript\">require([\"plotly\"], function(Plotly) { window.PLOTLYENV=window.PLOTLYENV || {};window.PLOTLYENV.BASE_URL=\"https://plot.ly\";Plotly.newPlot(\"d3c38b5e-cef9-47ea-a44e-1ec1bf41a73d\", [{\"x\": [1, 2, 3, 4, 5, 6, 7, 8, 9], \"type\": \"scatter\", \"name\": \"Mean\", \"y\": [1.0316, 1.8584, 2.8691999999999998, 3.8728000000000002, 4.8850999999999996, 5.782300000000001, 6.690700000000001, 7.365900000000001, 7.923400000000001]}, {\"x\": [1, 2, 3, 4, 5, 6, 7, 8, 9], \"type\": \"scatter\", \"yaxis\": \"y2\", \"name\": \"Standard Deviation\", \"y\": [0.16840283965679242, 0.725437643636894, 0.9450440143879035, 1.0928368103055741, 1.2750901411566171, 1.3539521220498052, 1.3297417490526993, 1.2415690453748558, 1.048444953142463]}], {\"xaxis\": {\"title\": \"True Class\", \"dtick\": 1, \"range\": [0.5, 9.5], \"tickcolor\": \"#FFF\"}, \"plot_bgcolor\": \"#000\", \"yaxis2\": {\"overlaying\": \"y\", \"range\": [0, 3], \"gridcolor\": \"#999\", \"title\": \"Standard Deviation\", \"side\": \"right\", \"tickcolor\": \"#FFF\"}, \"yaxis\": {\"title\": \"Mean\", \"dtick\": 1, \"range\": [0.5, 9.5], \"tickcolor\": \"#FFF\"}, \"paper_bgcolor\": \"#000\", \"height\": 500, \"titlefont\": {\"color\": \"#FFF\"}, \"title\": \"Choice after 64000 Iterations at Glimpse 9\", \"font\": {\"color\": \"#FFF\"}, \"width\": 500, \"legend\": {\"x\": 0, \"y\": 1}}, {\"showLink\": true, \"linkText\": \"Export to plot.ly\"})});</script>"
      ]
     },
     "metadata": {},
     "output_type": "display_data"
    },
    {
     "data": {
      "application/vnd.plotly.v1+json": {
       "data": [
        {
         "name": "Coefficient of Variation",
         "type": "scatter",
         "x": [
          1,
          2,
          3,
          4,
          5,
          6,
          7,
          8,
          9
         ],
         "y": [
          0.16254174444084818,
          0.39021445646728153,
          0.33042202032567547,
          0.28199671024241796,
          0.26072184983276975,
          0.23486421387567752,
          0.19867031392707152,
          0.168035083763471,
          0.131952987379195
         ]
        }
       ],
       "layout": {
        "font": {
         "color": "#FFF"
        },
        "height": 300,
        "paper_bgcolor": "#000",
        "plot_bgcolor": "#000",
        "title": "Choice after 64000 Iterations at Glimpse 9",
        "titlefont": {
         "color": "#FFF"
        },
        "width": 500,
        "xaxis": {
         "dtick": 1,
         "range": [
          0.5,
          9.5
         ],
         "tickcolor": "#FFF",
         "title": "True Class"
        },
        "yaxis": {
         "showgrid": true,
         "tickcolor": "#FFF",
         "title": "Coefficient of Variation"
        }
       }
      },
      "text/html": [
       "<div id=\"a8aad2ec-b1f0-4fea-af3d-9e336635ff01\" style=\"height: 300px; width: 500px;\" class=\"plotly-graph-div\"></div><script type=\"text/javascript\">require([\"plotly\"], function(Plotly) { window.PLOTLYENV=window.PLOTLYENV || {};window.PLOTLYENV.BASE_URL=\"https://plot.ly\";Plotly.newPlot(\"a8aad2ec-b1f0-4fea-af3d-9e336635ff01\", [{\"x\": [1, 2, 3, 4, 5, 6, 7, 8, 9], \"type\": \"scatter\", \"name\": \"Coefficient of Variation\", \"y\": [0.16254174444084818, 0.39021445646728153, 0.33042202032567547, 0.28199671024241796, 0.26072184983276975, 0.23486421387567752, 0.19867031392707152, 0.168035083763471, 0.131952987379195]}], {\"xaxis\": {\"title\": \"True Class\", \"dtick\": 1, \"range\": [0.5, 9.5], \"tickcolor\": \"#FFF\"}, \"plot_bgcolor\": \"#000\", \"titlefont\": {\"color\": \"#FFF\"}, \"paper_bgcolor\": \"#000\", \"height\": 300, \"yaxis\": {\"title\": \"Coefficient of Variation\", \"tickcolor\": \"#FFF\", \"showgrid\": true}, \"title\": \"Choice after 64000 Iterations at Glimpse 9\", \"font\": {\"color\": \"#FFF\"}, \"width\": 500}, {\"showLink\": true, \"linkText\": \"Export to plot.ly\"})});</script>"
      ],
      "text/vnd.plotly.v1+html": [
       "<div id=\"a8aad2ec-b1f0-4fea-af3d-9e336635ff01\" style=\"height: 300px; width: 500px;\" class=\"plotly-graph-div\"></div><script type=\"text/javascript\">require([\"plotly\"], function(Plotly) { window.PLOTLYENV=window.PLOTLYENV || {};window.PLOTLYENV.BASE_URL=\"https://plot.ly\";Plotly.newPlot(\"a8aad2ec-b1f0-4fea-af3d-9e336635ff01\", [{\"x\": [1, 2, 3, 4, 5, 6, 7, 8, 9], \"type\": \"scatter\", \"name\": \"Coefficient of Variation\", \"y\": [0.16254174444084818, 0.39021445646728153, 0.33042202032567547, 0.28199671024241796, 0.26072184983276975, 0.23486421387567752, 0.19867031392707152, 0.168035083763471, 0.131952987379195]}], {\"xaxis\": {\"title\": \"True Class\", \"dtick\": 1, \"range\": [0.5, 9.5], \"tickcolor\": \"#FFF\"}, \"plot_bgcolor\": \"#000\", \"titlefont\": {\"color\": \"#FFF\"}, \"paper_bgcolor\": \"#000\", \"height\": 300, \"yaxis\": {\"title\": \"Coefficient of Variation\", \"tickcolor\": \"#FFF\", \"showgrid\": true}, \"title\": \"Choice after 64000 Iterations at Glimpse 9\", \"font\": {\"color\": \"#FFF\"}, \"width\": 500}, {\"showLink\": true, \"linkText\": \"Export to plot.ly\"})});</script>"
      ]
     },
     "metadata": {},
     "output_type": "display_data"
    },
    {
     "data": {
      "application/vnd.plotly.v1+json": {
       "data": [
        {
         "name": "Mean",
         "type": "scatter",
         "x": [
          1,
          2,
          3,
          4,
          5,
          6,
          7,
          8,
          9
         ],
         "y": [
          1.0954417034106883,
          2.1947238506089546,
          3.125682664697095,
          4.064609877158004,
          5.044274208587082,
          5.932471493170079,
          6.718740745378251,
          7.296107736470051,
          7.721668251499958
         ]
        },
        {
         "name": "Standard Deviation",
         "type": "scatter",
         "x": [
          1,
          2,
          3,
          4,
          5,
          6,
          7,
          8,
          9
         ],
         "y": [
          0.3268163025415894,
          0.8375706842087632,
          1.1064996147879487,
          1.384119983012567,
          1.5623574776092517,
          1.5942207750457504,
          1.5077945695319475,
          1.3549208277902252,
          1.1774256159961751
         ],
         "yaxis": "y2"
        }
       ],
       "layout": {
        "font": {
         "color": "#FFF"
        },
        "height": 500,
        "legend": {
         "x": 0,
         "y": 1
        },
        "paper_bgcolor": "#000",
        "plot_bgcolor": "#000",
        "title": "Confidence after 125000 Iterations at Glimpse 0",
        "titlefont": {
         "color": "#FFF"
        },
        "width": 500,
        "xaxis": {
         "dtick": 1,
         "range": [
          0.5,
          9.5
         ],
         "tickcolor": "#FFF",
         "title": "True Class"
        },
        "yaxis": {
         "dtick": 1,
         "range": [
          0.5,
          9.5
         ],
         "tickcolor": "#FFF",
         "title": "Mean"
        },
        "yaxis2": {
         "gridcolor": "#999",
         "overlaying": "y",
         "range": [
          0,
          3
         ],
         "side": "right",
         "tickcolor": "#FFF",
         "title": "Standard Deviation"
        }
       }
      },
      "text/html": [
       "<div id=\"adfc91ae-18d1-41c8-8b4d-7b0c46ac1d1d\" style=\"height: 500px; width: 500px;\" class=\"plotly-graph-div\"></div><script type=\"text/javascript\">require([\"plotly\"], function(Plotly) { window.PLOTLYENV=window.PLOTLYENV || {};window.PLOTLYENV.BASE_URL=\"https://plot.ly\";Plotly.newPlot(\"adfc91ae-18d1-41c8-8b4d-7b0c46ac1d1d\", [{\"x\": [1, 2, 3, 4, 5, 6, 7, 8, 9], \"type\": \"scatter\", \"name\": \"Mean\", \"y\": [1.0954417034106883, 2.1947238506089546, 3.125682664697095, 4.064609877158004, 5.044274208587082, 5.932471493170079, 6.718740745378251, 7.296107736470051, 7.721668251499958]}, {\"x\": [1, 2, 3, 4, 5, 6, 7, 8, 9], \"type\": \"scatter\", \"yaxis\": \"y2\", \"name\": \"Standard Deviation\", \"y\": [0.3268163025415894, 0.8375706842087632, 1.1064996147879487, 1.384119983012567, 1.5623574776092517, 1.5942207750457504, 1.5077945695319475, 1.3549208277902252, 1.1774256159961751]}], {\"xaxis\": {\"title\": \"True Class\", \"dtick\": 1, \"range\": [0.5, 9.5], \"tickcolor\": \"#FFF\"}, \"plot_bgcolor\": \"#000\", \"yaxis2\": {\"overlaying\": \"y\", \"range\": [0, 3], \"gridcolor\": \"#999\", \"title\": \"Standard Deviation\", \"side\": \"right\", \"tickcolor\": \"#FFF\"}, \"yaxis\": {\"title\": \"Mean\", \"dtick\": 1, \"range\": [0.5, 9.5], \"tickcolor\": \"#FFF\"}, \"paper_bgcolor\": \"#000\", \"height\": 500, \"titlefont\": {\"color\": \"#FFF\"}, \"title\": \"Confidence after 125000 Iterations at Glimpse 0\", \"font\": {\"color\": \"#FFF\"}, \"width\": 500, \"legend\": {\"x\": 0, \"y\": 1}}, {\"showLink\": true, \"linkText\": \"Export to plot.ly\"})});</script>"
      ],
      "text/vnd.plotly.v1+html": [
       "<div id=\"adfc91ae-18d1-41c8-8b4d-7b0c46ac1d1d\" style=\"height: 500px; width: 500px;\" class=\"plotly-graph-div\"></div><script type=\"text/javascript\">require([\"plotly\"], function(Plotly) { window.PLOTLYENV=window.PLOTLYENV || {};window.PLOTLYENV.BASE_URL=\"https://plot.ly\";Plotly.newPlot(\"adfc91ae-18d1-41c8-8b4d-7b0c46ac1d1d\", [{\"x\": [1, 2, 3, 4, 5, 6, 7, 8, 9], \"type\": \"scatter\", \"name\": \"Mean\", \"y\": [1.0954417034106883, 2.1947238506089546, 3.125682664697095, 4.064609877158004, 5.044274208587082, 5.932471493170079, 6.718740745378251, 7.296107736470051, 7.721668251499958]}, {\"x\": [1, 2, 3, 4, 5, 6, 7, 8, 9], \"type\": \"scatter\", \"yaxis\": \"y2\", \"name\": \"Standard Deviation\", \"y\": [0.3268163025415894, 0.8375706842087632, 1.1064996147879487, 1.384119983012567, 1.5623574776092517, 1.5942207750457504, 1.5077945695319475, 1.3549208277902252, 1.1774256159961751]}], {\"xaxis\": {\"title\": \"True Class\", \"dtick\": 1, \"range\": [0.5, 9.5], \"tickcolor\": \"#FFF\"}, \"plot_bgcolor\": \"#000\", \"yaxis2\": {\"overlaying\": \"y\", \"range\": [0, 3], \"gridcolor\": \"#999\", \"title\": \"Standard Deviation\", \"side\": \"right\", \"tickcolor\": \"#FFF\"}, \"yaxis\": {\"title\": \"Mean\", \"dtick\": 1, \"range\": [0.5, 9.5], \"tickcolor\": \"#FFF\"}, \"paper_bgcolor\": \"#000\", \"height\": 500, \"titlefont\": {\"color\": \"#FFF\"}, \"title\": \"Confidence after 125000 Iterations at Glimpse 0\", \"font\": {\"color\": \"#FFF\"}, \"width\": 500, \"legend\": {\"x\": 0, \"y\": 1}}, {\"showLink\": true, \"linkText\": \"Export to plot.ly\"})});</script>"
      ]
     },
     "metadata": {},
     "output_type": "display_data"
    },
    {
     "data": {
      "application/vnd.plotly.v1+json": {
       "data": [
        {
         "name": "Coefficient of Variation",
         "type": "scatter",
         "x": [
          1,
          2,
          3,
          4,
          5,
          6,
          7,
          8,
          9
         ],
         "y": [
          0.29769693666633007,
          0.3816838072075837,
          0.3539962727997376,
          0.3405741096908163,
          0.30977095865869353,
          0.26867029458267433,
          0.22431896677940188,
          0.18562304954778558,
          0.152457960797155
         ]
        }
       ],
       "layout": {
        "font": {
         "color": "#FFF"
        },
        "height": 300,
        "paper_bgcolor": "#000",
        "plot_bgcolor": "#000",
        "title": "Confidence after 125000 Iterations at Glimpse 0",
        "titlefont": {
         "color": "#FFF"
        },
        "width": 500,
        "xaxis": {
         "dtick": 1,
         "range": [
          0.5,
          9.5
         ],
         "tickcolor": "#FFF",
         "title": "True Class"
        },
        "yaxis": {
         "showgrid": true,
         "tickcolor": "#FFF",
         "title": "Coefficient of Variation"
        }
       }
      },
      "text/html": [
       "<div id=\"4cfcfcdb-7ed1-42a1-8f90-6ec7a5efec88\" style=\"height: 300px; width: 500px;\" class=\"plotly-graph-div\"></div><script type=\"text/javascript\">require([\"plotly\"], function(Plotly) { window.PLOTLYENV=window.PLOTLYENV || {};window.PLOTLYENV.BASE_URL=\"https://plot.ly\";Plotly.newPlot(\"4cfcfcdb-7ed1-42a1-8f90-6ec7a5efec88\", [{\"x\": [1, 2, 3, 4, 5, 6, 7, 8, 9], \"type\": \"scatter\", \"name\": \"Coefficient of Variation\", \"y\": [0.29769693666633007, 0.3816838072075837, 0.3539962727997376, 0.3405741096908163, 0.30977095865869353, 0.26867029458267433, 0.22431896677940188, 0.18562304954778558, 0.152457960797155]}], {\"xaxis\": {\"title\": \"True Class\", \"dtick\": 1, \"range\": [0.5, 9.5], \"tickcolor\": \"#FFF\"}, \"plot_bgcolor\": \"#000\", \"titlefont\": {\"color\": \"#FFF\"}, \"paper_bgcolor\": \"#000\", \"height\": 300, \"yaxis\": {\"title\": \"Coefficient of Variation\", \"tickcolor\": \"#FFF\", \"showgrid\": true}, \"title\": \"Confidence after 125000 Iterations at Glimpse 0\", \"font\": {\"color\": \"#FFF\"}, \"width\": 500}, {\"showLink\": true, \"linkText\": \"Export to plot.ly\"})});</script>"
      ],
      "text/vnd.plotly.v1+html": [
       "<div id=\"4cfcfcdb-7ed1-42a1-8f90-6ec7a5efec88\" style=\"height: 300px; width: 500px;\" class=\"plotly-graph-div\"></div><script type=\"text/javascript\">require([\"plotly\"], function(Plotly) { window.PLOTLYENV=window.PLOTLYENV || {};window.PLOTLYENV.BASE_URL=\"https://plot.ly\";Plotly.newPlot(\"4cfcfcdb-7ed1-42a1-8f90-6ec7a5efec88\", [{\"x\": [1, 2, 3, 4, 5, 6, 7, 8, 9], \"type\": \"scatter\", \"name\": \"Coefficient of Variation\", \"y\": [0.29769693666633007, 0.3816838072075837, 0.3539962727997376, 0.3405741096908163, 0.30977095865869353, 0.26867029458267433, 0.22431896677940188, 0.18562304954778558, 0.152457960797155]}], {\"xaxis\": {\"title\": \"True Class\", \"dtick\": 1, \"range\": [0.5, 9.5], \"tickcolor\": \"#FFF\"}, \"plot_bgcolor\": \"#000\", \"titlefont\": {\"color\": \"#FFF\"}, \"paper_bgcolor\": \"#000\", \"height\": 300, \"yaxis\": {\"title\": \"Coefficient of Variation\", \"tickcolor\": \"#FFF\", \"showgrid\": true}, \"title\": \"Confidence after 125000 Iterations at Glimpse 0\", \"font\": {\"color\": \"#FFF\"}, \"width\": 500}, {\"showLink\": true, \"linkText\": \"Export to plot.ly\"})});</script>"
      ]
     },
     "metadata": {},
     "output_type": "display_data"
    },
    {
     "data": {
      "application/vnd.plotly.v1+json": {
       "data": [
        {
         "name": "Mean",
         "type": "scatter",
         "x": [
          1,
          2,
          3,
          4,
          5,
          6,
          7,
          8,
          9
         ],
         "y": [
          1.0105,
          1.9954999999999998,
          2.8623,
          3.8087000000000004,
          4.8272,
          5.824300000000001,
          6.7616,
          7.469300000000001,
          7.9708
         ]
        },
        {
         "name": "Standard Deviation",
         "type": "scatter",
         "x": [
          1,
          2,
          3,
          4,
          5,
          6,
          7,
          8,
          9
         ],
         "y": [
          0.09187393846301117,
          0.5644611091288668,
          0.7982320615833812,
          1.04723303573844,
          1.2772913785324242,
          1.3909329003382944,
          1.3663659316224066,
          1.2103226187047267,
          0.9841730893451268
         ],
         "yaxis": "y2"
        }
       ],
       "layout": {
        "font": {
         "color": "#FFF"
        },
        "height": 500,
        "legend": {
         "x": 0,
         "y": 1
        },
        "paper_bgcolor": "#000",
        "plot_bgcolor": "#000",
        "title": "Choice after 125000 Iterations at Glimpse 0",
        "titlefont": {
         "color": "#FFF"
        },
        "width": 500,
        "xaxis": {
         "dtick": 1,
         "range": [
          0.5,
          9.5
         ],
         "tickcolor": "#FFF",
         "title": "True Class"
        },
        "yaxis": {
         "dtick": 1,
         "range": [
          0.5,
          9.5
         ],
         "tickcolor": "#FFF",
         "title": "Mean"
        },
        "yaxis2": {
         "gridcolor": "#999",
         "overlaying": "y",
         "range": [
          0,
          3
         ],
         "side": "right",
         "tickcolor": "#FFF",
         "title": "Standard Deviation"
        }
       }
      },
      "text/html": [
       "<div id=\"21657b1d-266d-450f-bf7c-c01268b3d860\" style=\"height: 500px; width: 500px;\" class=\"plotly-graph-div\"></div><script type=\"text/javascript\">require([\"plotly\"], function(Plotly) { window.PLOTLYENV=window.PLOTLYENV || {};window.PLOTLYENV.BASE_URL=\"https://plot.ly\";Plotly.newPlot(\"21657b1d-266d-450f-bf7c-c01268b3d860\", [{\"x\": [1, 2, 3, 4, 5, 6, 7, 8, 9], \"type\": \"scatter\", \"name\": \"Mean\", \"y\": [1.0105, 1.9954999999999998, 2.8623, 3.8087000000000004, 4.8272, 5.824300000000001, 6.7616, 7.469300000000001, 7.9708]}, {\"x\": [1, 2, 3, 4, 5, 6, 7, 8, 9], \"type\": \"scatter\", \"yaxis\": \"y2\", \"name\": \"Standard Deviation\", \"y\": [0.09187393846301117, 0.5644611091288668, 0.7982320615833812, 1.04723303573844, 1.2772913785324242, 1.3909329003382944, 1.3663659316224066, 1.2103226187047267, 0.9841730893451268]}], {\"xaxis\": {\"title\": \"True Class\", \"dtick\": 1, \"range\": [0.5, 9.5], \"tickcolor\": \"#FFF\"}, \"plot_bgcolor\": \"#000\", \"yaxis2\": {\"overlaying\": \"y\", \"range\": [0, 3], \"gridcolor\": \"#999\", \"title\": \"Standard Deviation\", \"side\": \"right\", \"tickcolor\": \"#FFF\"}, \"yaxis\": {\"title\": \"Mean\", \"dtick\": 1, \"range\": [0.5, 9.5], \"tickcolor\": \"#FFF\"}, \"paper_bgcolor\": \"#000\", \"height\": 500, \"titlefont\": {\"color\": \"#FFF\"}, \"title\": \"Choice after 125000 Iterations at Glimpse 0\", \"font\": {\"color\": \"#FFF\"}, \"width\": 500, \"legend\": {\"x\": 0, \"y\": 1}}, {\"showLink\": true, \"linkText\": \"Export to plot.ly\"})});</script>"
      ],
      "text/vnd.plotly.v1+html": [
       "<div id=\"21657b1d-266d-450f-bf7c-c01268b3d860\" style=\"height: 500px; width: 500px;\" class=\"plotly-graph-div\"></div><script type=\"text/javascript\">require([\"plotly\"], function(Plotly) { window.PLOTLYENV=window.PLOTLYENV || {};window.PLOTLYENV.BASE_URL=\"https://plot.ly\";Plotly.newPlot(\"21657b1d-266d-450f-bf7c-c01268b3d860\", [{\"x\": [1, 2, 3, 4, 5, 6, 7, 8, 9], \"type\": \"scatter\", \"name\": \"Mean\", \"y\": [1.0105, 1.9954999999999998, 2.8623, 3.8087000000000004, 4.8272, 5.824300000000001, 6.7616, 7.469300000000001, 7.9708]}, {\"x\": [1, 2, 3, 4, 5, 6, 7, 8, 9], \"type\": \"scatter\", \"yaxis\": \"y2\", \"name\": \"Standard Deviation\", \"y\": [0.09187393846301117, 0.5644611091288668, 0.7982320615833812, 1.04723303573844, 1.2772913785324242, 1.3909329003382944, 1.3663659316224066, 1.2103226187047267, 0.9841730893451268]}], {\"xaxis\": {\"title\": \"True Class\", \"dtick\": 1, \"range\": [0.5, 9.5], \"tickcolor\": \"#FFF\"}, \"plot_bgcolor\": \"#000\", \"yaxis2\": {\"overlaying\": \"y\", \"range\": [0, 3], \"gridcolor\": \"#999\", \"title\": \"Standard Deviation\", \"side\": \"right\", \"tickcolor\": \"#FFF\"}, \"yaxis\": {\"title\": \"Mean\", \"dtick\": 1, \"range\": [0.5, 9.5], \"tickcolor\": \"#FFF\"}, \"paper_bgcolor\": \"#000\", \"height\": 500, \"titlefont\": {\"color\": \"#FFF\"}, \"title\": \"Choice after 125000 Iterations at Glimpse 0\", \"font\": {\"color\": \"#FFF\"}, \"width\": 500, \"legend\": {\"x\": 0, \"y\": 1}}, {\"showLink\": true, \"linkText\": \"Export to plot.ly\"})});</script>"
      ]
     },
     "metadata": {},
     "output_type": "display_data"
    },
    {
     "data": {
      "application/vnd.plotly.v1+json": {
       "data": [
        {
         "name": "Coefficient of Variation",
         "type": "scatter",
         "x": [
          1,
          2,
          3,
          4,
          5,
          6,
          7,
          8,
          9
         ],
         "y": [
          0.09049641456670335,
          0.2830018498610019,
          0.2787860878684356,
          0.274968172746956,
          0.2647404113710709,
          0.2387899202143678,
          0.2020360669073094,
          0.1619785163077791,
          0.123410946056565
         ]
        }
       ],
       "layout": {
        "font": {
         "color": "#FFF"
        },
        "height": 300,
        "paper_bgcolor": "#000",
        "plot_bgcolor": "#000",
        "title": "Choice after 125000 Iterations at Glimpse 0",
        "titlefont": {
         "color": "#FFF"
        },
        "width": 500,
        "xaxis": {
         "dtick": 1,
         "range": [
          0.5,
          9.5
         ],
         "tickcolor": "#FFF",
         "title": "True Class"
        },
        "yaxis": {
         "showgrid": true,
         "tickcolor": "#FFF",
         "title": "Coefficient of Variation"
        }
       }
      },
      "text/html": [
       "<div id=\"6e07d1ea-f1cb-4905-aeb7-0ef792975e33\" style=\"height: 300px; width: 500px;\" class=\"plotly-graph-div\"></div><script type=\"text/javascript\">require([\"plotly\"], function(Plotly) { window.PLOTLYENV=window.PLOTLYENV || {};window.PLOTLYENV.BASE_URL=\"https://plot.ly\";Plotly.newPlot(\"6e07d1ea-f1cb-4905-aeb7-0ef792975e33\", [{\"x\": [1, 2, 3, 4, 5, 6, 7, 8, 9], \"type\": \"scatter\", \"name\": \"Coefficient of Variation\", \"y\": [0.09049641456670335, 0.2830018498610019, 0.2787860878684356, 0.274968172746956, 0.2647404113710709, 0.2387899202143678, 0.2020360669073094, 0.1619785163077791, 0.123410946056565]}], {\"xaxis\": {\"title\": \"True Class\", \"dtick\": 1, \"range\": [0.5, 9.5], \"tickcolor\": \"#FFF\"}, \"plot_bgcolor\": \"#000\", \"titlefont\": {\"color\": \"#FFF\"}, \"paper_bgcolor\": \"#000\", \"height\": 300, \"yaxis\": {\"title\": \"Coefficient of Variation\", \"tickcolor\": \"#FFF\", \"showgrid\": true}, \"title\": \"Choice after 125000 Iterations at Glimpse 0\", \"font\": {\"color\": \"#FFF\"}, \"width\": 500}, {\"showLink\": true, \"linkText\": \"Export to plot.ly\"})});</script>"
      ],
      "text/vnd.plotly.v1+html": [
       "<div id=\"6e07d1ea-f1cb-4905-aeb7-0ef792975e33\" style=\"height: 300px; width: 500px;\" class=\"plotly-graph-div\"></div><script type=\"text/javascript\">require([\"plotly\"], function(Plotly) { window.PLOTLYENV=window.PLOTLYENV || {};window.PLOTLYENV.BASE_URL=\"https://plot.ly\";Plotly.newPlot(\"6e07d1ea-f1cb-4905-aeb7-0ef792975e33\", [{\"x\": [1, 2, 3, 4, 5, 6, 7, 8, 9], \"type\": \"scatter\", \"name\": \"Coefficient of Variation\", \"y\": [0.09049641456670335, 0.2830018498610019, 0.2787860878684356, 0.274968172746956, 0.2647404113710709, 0.2387899202143678, 0.2020360669073094, 0.1619785163077791, 0.123410946056565]}], {\"xaxis\": {\"title\": \"True Class\", \"dtick\": 1, \"range\": [0.5, 9.5], \"tickcolor\": \"#FFF\"}, \"plot_bgcolor\": \"#000\", \"titlefont\": {\"color\": \"#FFF\"}, \"paper_bgcolor\": \"#000\", \"height\": 300, \"yaxis\": {\"title\": \"Coefficient of Variation\", \"tickcolor\": \"#FFF\", \"showgrid\": true}, \"title\": \"Choice after 125000 Iterations at Glimpse 0\", \"font\": {\"color\": \"#FFF\"}, \"width\": 500}, {\"showLink\": true, \"linkText\": \"Export to plot.ly\"})});</script>"
      ]
     },
     "metadata": {},
     "output_type": "display_data"
    },
    {
     "data": {
      "application/vnd.plotly.v1+json": {
       "data": [
        {
         "name": "Mean",
         "type": "scatter",
         "x": [
          1,
          2,
          3,
          4,
          5,
          6,
          7,
          8,
          9
         ],
         "y": [
          1.0501335118268136,
          2.2242418421737176,
          3.0912566315074628,
          4.020416705402244,
          5.010233365926421,
          5.939748071916834,
          6.775520410297825,
          7.368364305887586,
          7.813647869455018
         ]
        },
        {
         "name": "Standard Deviation",
         "type": "scatter",
         "x": [
          1,
          2,
          3,
          4,
          5,
          6,
          7,
          8,
          9
         ],
         "y": [
          0.2254613307026943,
          0.6941363170627763,
          0.991972298830299,
          1.2733036769294572,
          1.4720868940775111,
          1.5268481449404696,
          1.4416855997697429,
          1.2763705885254022,
          1.081266597601775
         ],
         "yaxis": "y2"
        }
       ],
       "layout": {
        "font": {
         "color": "#FFF"
        },
        "height": 500,
        "legend": {
         "x": 0,
         "y": 1
        },
        "paper_bgcolor": "#000",
        "plot_bgcolor": "#000",
        "title": "Confidence after 125000 Iterations at Glimpse 3",
        "titlefont": {
         "color": "#FFF"
        },
        "width": 500,
        "xaxis": {
         "dtick": 1,
         "range": [
          0.5,
          9.5
         ],
         "tickcolor": "#FFF",
         "title": "True Class"
        },
        "yaxis": {
         "dtick": 1,
         "range": [
          0.5,
          9.5
         ],
         "tickcolor": "#FFF",
         "title": "Mean"
        },
        "yaxis2": {
         "gridcolor": "#999",
         "overlaying": "y",
         "range": [
          0,
          3
         ],
         "side": "right",
         "tickcolor": "#FFF",
         "title": "Standard Deviation"
        }
       }
      },
      "text/html": [
       "<div id=\"908de205-a9d4-4a27-91ed-c02abe61b9fa\" style=\"height: 500px; width: 500px;\" class=\"plotly-graph-div\"></div><script type=\"text/javascript\">require([\"plotly\"], function(Plotly) { window.PLOTLYENV=window.PLOTLYENV || {};window.PLOTLYENV.BASE_URL=\"https://plot.ly\";Plotly.newPlot(\"908de205-a9d4-4a27-91ed-c02abe61b9fa\", [{\"x\": [1, 2, 3, 4, 5, 6, 7, 8, 9], \"type\": \"scatter\", \"name\": \"Mean\", \"y\": [1.0501335118268136, 2.2242418421737176, 3.0912566315074628, 4.020416705402244, 5.010233365926421, 5.939748071916834, 6.775520410297825, 7.368364305887586, 7.813647869455018]}, {\"x\": [1, 2, 3, 4, 5, 6, 7, 8, 9], \"type\": \"scatter\", \"yaxis\": \"y2\", \"name\": \"Standard Deviation\", \"y\": [0.2254613307026943, 0.6941363170627763, 0.991972298830299, 1.2733036769294572, 1.4720868940775111, 1.5268481449404696, 1.4416855997697429, 1.2763705885254022, 1.081266597601775]}], {\"xaxis\": {\"title\": \"True Class\", \"dtick\": 1, \"range\": [0.5, 9.5], \"tickcolor\": \"#FFF\"}, \"plot_bgcolor\": \"#000\", \"yaxis2\": {\"overlaying\": \"y\", \"range\": [0, 3], \"gridcolor\": \"#999\", \"title\": \"Standard Deviation\", \"side\": \"right\", \"tickcolor\": \"#FFF\"}, \"yaxis\": {\"title\": \"Mean\", \"dtick\": 1, \"range\": [0.5, 9.5], \"tickcolor\": \"#FFF\"}, \"paper_bgcolor\": \"#000\", \"height\": 500, \"titlefont\": {\"color\": \"#FFF\"}, \"title\": \"Confidence after 125000 Iterations at Glimpse 3\", \"font\": {\"color\": \"#FFF\"}, \"width\": 500, \"legend\": {\"x\": 0, \"y\": 1}}, {\"showLink\": true, \"linkText\": \"Export to plot.ly\"})});</script>"
      ],
      "text/vnd.plotly.v1+html": [
       "<div id=\"908de205-a9d4-4a27-91ed-c02abe61b9fa\" style=\"height: 500px; width: 500px;\" class=\"plotly-graph-div\"></div><script type=\"text/javascript\">require([\"plotly\"], function(Plotly) { window.PLOTLYENV=window.PLOTLYENV || {};window.PLOTLYENV.BASE_URL=\"https://plot.ly\";Plotly.newPlot(\"908de205-a9d4-4a27-91ed-c02abe61b9fa\", [{\"x\": [1, 2, 3, 4, 5, 6, 7, 8, 9], \"type\": \"scatter\", \"name\": \"Mean\", \"y\": [1.0501335118268136, 2.2242418421737176, 3.0912566315074628, 4.020416705402244, 5.010233365926421, 5.939748071916834, 6.775520410297825, 7.368364305887586, 7.813647869455018]}, {\"x\": [1, 2, 3, 4, 5, 6, 7, 8, 9], \"type\": \"scatter\", \"yaxis\": \"y2\", \"name\": \"Standard Deviation\", \"y\": [0.2254613307026943, 0.6941363170627763, 0.991972298830299, 1.2733036769294572, 1.4720868940775111, 1.5268481449404696, 1.4416855997697429, 1.2763705885254022, 1.081266597601775]}], {\"xaxis\": {\"title\": \"True Class\", \"dtick\": 1, \"range\": [0.5, 9.5], \"tickcolor\": \"#FFF\"}, \"plot_bgcolor\": \"#000\", \"yaxis2\": {\"overlaying\": \"y\", \"range\": [0, 3], \"gridcolor\": \"#999\", \"title\": \"Standard Deviation\", \"side\": \"right\", \"tickcolor\": \"#FFF\"}, \"yaxis\": {\"title\": \"Mean\", \"dtick\": 1, \"range\": [0.5, 9.5], \"tickcolor\": \"#FFF\"}, \"paper_bgcolor\": \"#000\", \"height\": 500, \"titlefont\": {\"color\": \"#FFF\"}, \"title\": \"Confidence after 125000 Iterations at Glimpse 3\", \"font\": {\"color\": \"#FFF\"}, \"width\": 500, \"legend\": {\"x\": 0, \"y\": 1}}, {\"showLink\": true, \"linkText\": \"Export to plot.ly\"})});</script>"
      ]
     },
     "metadata": {},
     "output_type": "display_data"
    },
    {
     "data": {
      "application/vnd.plotly.v1+json": {
       "data": [
        {
         "name": "Coefficient of Variation",
         "type": "scatter",
         "x": [
          1,
          2,
          3,
          4,
          5,
          6,
          7,
          8,
          9
         ],
         "y": [
          0.2139777334181696,
          0.31209726931967813,
          0.3209299973125793,
          0.31683901551294646,
          0.2939063770478576,
          0.2569452401062596,
          0.21266244114652616,
          0.17316027464345904,
          0.1383698364885574
         ]
        }
       ],
       "layout": {
        "font": {
         "color": "#FFF"
        },
        "height": 300,
        "paper_bgcolor": "#000",
        "plot_bgcolor": "#000",
        "title": "Confidence after 125000 Iterations at Glimpse 3",
        "titlefont": {
         "color": "#FFF"
        },
        "width": 500,
        "xaxis": {
         "dtick": 1,
         "range": [
          0.5,
          9.5
         ],
         "tickcolor": "#FFF",
         "title": "True Class"
        },
        "yaxis": {
         "showgrid": true,
         "tickcolor": "#FFF",
         "title": "Coefficient of Variation"
        }
       }
      },
      "text/html": [
       "<div id=\"7ccaf32f-dad2-4f99-88f5-68efbe5dda62\" style=\"height: 300px; width: 500px;\" class=\"plotly-graph-div\"></div><script type=\"text/javascript\">require([\"plotly\"], function(Plotly) { window.PLOTLYENV=window.PLOTLYENV || {};window.PLOTLYENV.BASE_URL=\"https://plot.ly\";Plotly.newPlot(\"7ccaf32f-dad2-4f99-88f5-68efbe5dda62\", [{\"x\": [1, 2, 3, 4, 5, 6, 7, 8, 9], \"type\": \"scatter\", \"name\": \"Coefficient of Variation\", \"y\": [0.2139777334181696, 0.31209726931967813, 0.3209299973125793, 0.31683901551294646, 0.2939063770478576, 0.2569452401062596, 0.21266244114652616, 0.17316027464345904, 0.1383698364885574]}], {\"xaxis\": {\"title\": \"True Class\", \"dtick\": 1, \"range\": [0.5, 9.5], \"tickcolor\": \"#FFF\"}, \"plot_bgcolor\": \"#000\", \"titlefont\": {\"color\": \"#FFF\"}, \"paper_bgcolor\": \"#000\", \"height\": 300, \"yaxis\": {\"title\": \"Coefficient of Variation\", \"tickcolor\": \"#FFF\", \"showgrid\": true}, \"title\": \"Confidence after 125000 Iterations at Glimpse 3\", \"font\": {\"color\": \"#FFF\"}, \"width\": 500}, {\"showLink\": true, \"linkText\": \"Export to plot.ly\"})});</script>"
      ],
      "text/vnd.plotly.v1+html": [
       "<div id=\"7ccaf32f-dad2-4f99-88f5-68efbe5dda62\" style=\"height: 300px; width: 500px;\" class=\"plotly-graph-div\"></div><script type=\"text/javascript\">require([\"plotly\"], function(Plotly) { window.PLOTLYENV=window.PLOTLYENV || {};window.PLOTLYENV.BASE_URL=\"https://plot.ly\";Plotly.newPlot(\"7ccaf32f-dad2-4f99-88f5-68efbe5dda62\", [{\"x\": [1, 2, 3, 4, 5, 6, 7, 8, 9], \"type\": \"scatter\", \"name\": \"Coefficient of Variation\", \"y\": [0.2139777334181696, 0.31209726931967813, 0.3209299973125793, 0.31683901551294646, 0.2939063770478576, 0.2569452401062596, 0.21266244114652616, 0.17316027464345904, 0.1383698364885574]}], {\"xaxis\": {\"title\": \"True Class\", \"dtick\": 1, \"range\": [0.5, 9.5], \"tickcolor\": \"#FFF\"}, \"plot_bgcolor\": \"#000\", \"titlefont\": {\"color\": \"#FFF\"}, \"paper_bgcolor\": \"#000\", \"height\": 300, \"yaxis\": {\"title\": \"Coefficient of Variation\", \"tickcolor\": \"#FFF\", \"showgrid\": true}, \"title\": \"Confidence after 125000 Iterations at Glimpse 3\", \"font\": {\"color\": \"#FFF\"}, \"width\": 500}, {\"showLink\": true, \"linkText\": \"Export to plot.ly\"})});</script>"
      ]
     },
     "metadata": {},
     "output_type": "display_data"
    },
    {
     "data": {
      "application/vnd.plotly.v1+json": {
       "data": [
        {
         "name": "Mean",
         "type": "scatter",
         "x": [
          1,
          2,
          3,
          4,
          5,
          6,
          7,
          8,
          9
         ],
         "y": [
          1.0101,
          2.0898,
          2.9168999999999996,
          3.839399999999999,
          4.878400000000001,
          5.8904,
          6.862700000000001,
          7.5569999999999995,
          8.058199999999998
         ]
        },
        {
         "name": "Standard Deviation",
         "type": "scatter",
         "x": [
          1,
          2,
          3,
          4,
          5,
          6,
          7,
          8,
          9
         ],
         "y": [
          0.087345937646049,
          0.4961185240246474,
          0.7623250974465396,
          1.0058484926769728,
          1.258775173001544,
          1.3580252641302253,
          1.2846767167802118,
          1.1029311453877044,
          0.8545097143166599
         ],
         "yaxis": "y2"
        }
       ],
       "layout": {
        "font": {
         "color": "#FFF"
        },
        "height": 500,
        "legend": {
         "x": 0,
         "y": 1
        },
        "paper_bgcolor": "#000",
        "plot_bgcolor": "#000",
        "title": "Choice after 125000 Iterations at Glimpse 3",
        "titlefont": {
         "color": "#FFF"
        },
        "width": 500,
        "xaxis": {
         "dtick": 1,
         "range": [
          0.5,
          9.5
         ],
         "tickcolor": "#FFF",
         "title": "True Class"
        },
        "yaxis": {
         "dtick": 1,
         "range": [
          0.5,
          9.5
         ],
         "tickcolor": "#FFF",
         "title": "Mean"
        },
        "yaxis2": {
         "gridcolor": "#999",
         "overlaying": "y",
         "range": [
          0,
          3
         ],
         "side": "right",
         "tickcolor": "#FFF",
         "title": "Standard Deviation"
        }
       }
      },
      "text/html": [
       "<div id=\"92ed1aef-3027-44ae-9f48-d64465b8ab22\" style=\"height: 500px; width: 500px;\" class=\"plotly-graph-div\"></div><script type=\"text/javascript\">require([\"plotly\"], function(Plotly) { window.PLOTLYENV=window.PLOTLYENV || {};window.PLOTLYENV.BASE_URL=\"https://plot.ly\";Plotly.newPlot(\"92ed1aef-3027-44ae-9f48-d64465b8ab22\", [{\"x\": [1, 2, 3, 4, 5, 6, 7, 8, 9], \"type\": \"scatter\", \"name\": \"Mean\", \"y\": [1.0101, 2.0898, 2.9168999999999996, 3.839399999999999, 4.878400000000001, 5.8904, 6.862700000000001, 7.5569999999999995, 8.058199999999998]}, {\"x\": [1, 2, 3, 4, 5, 6, 7, 8, 9], \"type\": \"scatter\", \"yaxis\": \"y2\", \"name\": \"Standard Deviation\", \"y\": [0.087345937646049, 0.4961185240246474, 0.7623250974465396, 1.0058484926769728, 1.258775173001544, 1.3580252641302253, 1.2846767167802118, 1.1029311453877044, 0.8545097143166599]}], {\"xaxis\": {\"title\": \"True Class\", \"dtick\": 1, \"range\": [0.5, 9.5], \"tickcolor\": \"#FFF\"}, \"plot_bgcolor\": \"#000\", \"yaxis2\": {\"overlaying\": \"y\", \"range\": [0, 3], \"gridcolor\": \"#999\", \"title\": \"Standard Deviation\", \"side\": \"right\", \"tickcolor\": \"#FFF\"}, \"yaxis\": {\"title\": \"Mean\", \"dtick\": 1, \"range\": [0.5, 9.5], \"tickcolor\": \"#FFF\"}, \"paper_bgcolor\": \"#000\", \"height\": 500, \"titlefont\": {\"color\": \"#FFF\"}, \"title\": \"Choice after 125000 Iterations at Glimpse 3\", \"font\": {\"color\": \"#FFF\"}, \"width\": 500, \"legend\": {\"x\": 0, \"y\": 1}}, {\"showLink\": true, \"linkText\": \"Export to plot.ly\"})});</script>"
      ],
      "text/vnd.plotly.v1+html": [
       "<div id=\"92ed1aef-3027-44ae-9f48-d64465b8ab22\" style=\"height: 500px; width: 500px;\" class=\"plotly-graph-div\"></div><script type=\"text/javascript\">require([\"plotly\"], function(Plotly) { window.PLOTLYENV=window.PLOTLYENV || {};window.PLOTLYENV.BASE_URL=\"https://plot.ly\";Plotly.newPlot(\"92ed1aef-3027-44ae-9f48-d64465b8ab22\", [{\"x\": [1, 2, 3, 4, 5, 6, 7, 8, 9], \"type\": \"scatter\", \"name\": \"Mean\", \"y\": [1.0101, 2.0898, 2.9168999999999996, 3.839399999999999, 4.878400000000001, 5.8904, 6.862700000000001, 7.5569999999999995, 8.058199999999998]}, {\"x\": [1, 2, 3, 4, 5, 6, 7, 8, 9], \"type\": \"scatter\", \"yaxis\": \"y2\", \"name\": \"Standard Deviation\", \"y\": [0.087345937646049, 0.4961185240246474, 0.7623250974465396, 1.0058484926769728, 1.258775173001544, 1.3580252641302253, 1.2846767167802118, 1.1029311453877044, 0.8545097143166599]}], {\"xaxis\": {\"title\": \"True Class\", \"dtick\": 1, \"range\": [0.5, 9.5], \"tickcolor\": \"#FFF\"}, \"plot_bgcolor\": \"#000\", \"yaxis2\": {\"overlaying\": \"y\", \"range\": [0, 3], \"gridcolor\": \"#999\", \"title\": \"Standard Deviation\", \"side\": \"right\", \"tickcolor\": \"#FFF\"}, \"yaxis\": {\"title\": \"Mean\", \"dtick\": 1, \"range\": [0.5, 9.5], \"tickcolor\": \"#FFF\"}, \"paper_bgcolor\": \"#000\", \"height\": 500, \"titlefont\": {\"color\": \"#FFF\"}, \"title\": \"Choice after 125000 Iterations at Glimpse 3\", \"font\": {\"color\": \"#FFF\"}, \"width\": 500, \"legend\": {\"x\": 0, \"y\": 1}}, {\"showLink\": true, \"linkText\": \"Export to plot.ly\"})});</script>"
      ]
     },
     "metadata": {},
     "output_type": "display_data"
    },
    {
     "data": {
      "application/vnd.plotly.v1+json": {
       "data": [
        {
         "name": "Coefficient of Variation",
         "type": "scatter",
         "x": [
          1,
          2,
          3,
          4,
          5,
          6,
          7,
          8,
          9
         ],
         "y": [
          0.08602927243679896,
          0.23735413375562492,
          0.2612451078166545,
          0.2621187903271413,
          0.25822629009933795,
          0.23038116994201574,
          0.18713275946909186,
          0.14588399287879047,
          0.10591014054772285
         ]
        }
       ],
       "layout": {
        "font": {
         "color": "#FFF"
        },
        "height": 300,
        "paper_bgcolor": "#000",
        "plot_bgcolor": "#000",
        "title": "Choice after 125000 Iterations at Glimpse 3",
        "titlefont": {
         "color": "#FFF"
        },
        "width": 500,
        "xaxis": {
         "dtick": 1,
         "range": [
          0.5,
          9.5
         ],
         "tickcolor": "#FFF",
         "title": "True Class"
        },
        "yaxis": {
         "showgrid": true,
         "tickcolor": "#FFF",
         "title": "Coefficient of Variation"
        }
       }
      },
      "text/html": [
       "<div id=\"ba111ef4-1c15-4155-a8f0-97919888acea\" style=\"height: 300px; width: 500px;\" class=\"plotly-graph-div\"></div><script type=\"text/javascript\">require([\"plotly\"], function(Plotly) { window.PLOTLYENV=window.PLOTLYENV || {};window.PLOTLYENV.BASE_URL=\"https://plot.ly\";Plotly.newPlot(\"ba111ef4-1c15-4155-a8f0-97919888acea\", [{\"x\": [1, 2, 3, 4, 5, 6, 7, 8, 9], \"type\": \"scatter\", \"name\": \"Coefficient of Variation\", \"y\": [0.08602927243679896, 0.23735413375562492, 0.2612451078166545, 0.2621187903271413, 0.25822629009933795, 0.23038116994201574, 0.18713275946909186, 0.14588399287879047, 0.10591014054772285]}], {\"xaxis\": {\"title\": \"True Class\", \"dtick\": 1, \"range\": [0.5, 9.5], \"tickcolor\": \"#FFF\"}, \"plot_bgcolor\": \"#000\", \"titlefont\": {\"color\": \"#FFF\"}, \"paper_bgcolor\": \"#000\", \"height\": 300, \"yaxis\": {\"title\": \"Coefficient of Variation\", \"tickcolor\": \"#FFF\", \"showgrid\": true}, \"title\": \"Choice after 125000 Iterations at Glimpse 3\", \"font\": {\"color\": \"#FFF\"}, \"width\": 500}, {\"showLink\": true, \"linkText\": \"Export to plot.ly\"})});</script>"
      ],
      "text/vnd.plotly.v1+html": [
       "<div id=\"ba111ef4-1c15-4155-a8f0-97919888acea\" style=\"height: 300px; width: 500px;\" class=\"plotly-graph-div\"></div><script type=\"text/javascript\">require([\"plotly\"], function(Plotly) { window.PLOTLYENV=window.PLOTLYENV || {};window.PLOTLYENV.BASE_URL=\"https://plot.ly\";Plotly.newPlot(\"ba111ef4-1c15-4155-a8f0-97919888acea\", [{\"x\": [1, 2, 3, 4, 5, 6, 7, 8, 9], \"type\": \"scatter\", \"name\": \"Coefficient of Variation\", \"y\": [0.08602927243679896, 0.23735413375562492, 0.2612451078166545, 0.2621187903271413, 0.25822629009933795, 0.23038116994201574, 0.18713275946909186, 0.14588399287879047, 0.10591014054772285]}], {\"xaxis\": {\"title\": \"True Class\", \"dtick\": 1, \"range\": [0.5, 9.5], \"tickcolor\": \"#FFF\"}, \"plot_bgcolor\": \"#000\", \"titlefont\": {\"color\": \"#FFF\"}, \"paper_bgcolor\": \"#000\", \"height\": 300, \"yaxis\": {\"title\": \"Coefficient of Variation\", \"tickcolor\": \"#FFF\", \"showgrid\": true}, \"title\": \"Choice after 125000 Iterations at Glimpse 3\", \"font\": {\"color\": \"#FFF\"}, \"width\": 500}, {\"showLink\": true, \"linkText\": \"Export to plot.ly\"})});</script>"
      ]
     },
     "metadata": {},
     "output_type": "display_data"
    },
    {
     "data": {
      "application/vnd.plotly.v1+json": {
       "data": [
        {
         "name": "Mean",
         "type": "scatter",
         "x": [
          1,
          2,
          3,
          4,
          5,
          6,
          7,
          8,
          9
         ],
         "y": [
          1.0493804750649074,
          2.2408762891866996,
          3.1101524161684875,
          4.036012003437792,
          5.003519959525105,
          5.897374544382599,
          6.707380461986294,
          7.289260719951072,
          7.735520380462143
         ]
        },
        {
         "name": "Standard Deviation",
         "type": "scatter",
         "x": [
          1,
          2,
          3,
          4,
          5,
          6,
          7,
          8,
          9
         ],
         "y": [
          0.21447810260810635,
          0.6727980890912355,
          1.0033111648461737,
          1.2806955618642273,
          1.4704364525105067,
          1.5264283165842114,
          1.4549871054065928,
          1.3075722312368305,
          1.128833386966256
         ],
         "yaxis": "y2"
        }
       ],
       "layout": {
        "font": {
         "color": "#FFF"
        },
        "height": 500,
        "legend": {
         "x": 0,
         "y": 1
        },
        "paper_bgcolor": "#000",
        "plot_bgcolor": "#000",
        "title": "Confidence after 125000 Iterations at Glimpse 9",
        "titlefont": {
         "color": "#FFF"
        },
        "width": 500,
        "xaxis": {
         "dtick": 1,
         "range": [
          0.5,
          9.5
         ],
         "tickcolor": "#FFF",
         "title": "True Class"
        },
        "yaxis": {
         "dtick": 1,
         "range": [
          0.5,
          9.5
         ],
         "tickcolor": "#FFF",
         "title": "Mean"
        },
        "yaxis2": {
         "gridcolor": "#999",
         "overlaying": "y",
         "range": [
          0,
          3
         ],
         "side": "right",
         "tickcolor": "#FFF",
         "title": "Standard Deviation"
        }
       }
      },
      "text/html": [
       "<div id=\"78224836-9c9d-495e-9f84-1eff6678d1b7\" style=\"height: 500px; width: 500px;\" class=\"plotly-graph-div\"></div><script type=\"text/javascript\">require([\"plotly\"], function(Plotly) { window.PLOTLYENV=window.PLOTLYENV || {};window.PLOTLYENV.BASE_URL=\"https://plot.ly\";Plotly.newPlot(\"78224836-9c9d-495e-9f84-1eff6678d1b7\", [{\"x\": [1, 2, 3, 4, 5, 6, 7, 8, 9], \"type\": \"scatter\", \"name\": \"Mean\", \"y\": [1.0493804750649074, 2.2408762891866996, 3.1101524161684875, 4.036012003437792, 5.003519959525105, 5.897374544382599, 6.707380461986294, 7.289260719951072, 7.735520380462143]}, {\"x\": [1, 2, 3, 4, 5, 6, 7, 8, 9], \"type\": \"scatter\", \"yaxis\": \"y2\", \"name\": \"Standard Deviation\", \"y\": [0.21447810260810635, 0.6727980890912355, 1.0033111648461737, 1.2806955618642273, 1.4704364525105067, 1.5264283165842114, 1.4549871054065928, 1.3075722312368305, 1.128833386966256]}], {\"xaxis\": {\"title\": \"True Class\", \"dtick\": 1, \"range\": [0.5, 9.5], \"tickcolor\": \"#FFF\"}, \"plot_bgcolor\": \"#000\", \"yaxis2\": {\"overlaying\": \"y\", \"range\": [0, 3], \"gridcolor\": \"#999\", \"title\": \"Standard Deviation\", \"side\": \"right\", \"tickcolor\": \"#FFF\"}, \"yaxis\": {\"title\": \"Mean\", \"dtick\": 1, \"range\": [0.5, 9.5], \"tickcolor\": \"#FFF\"}, \"paper_bgcolor\": \"#000\", \"height\": 500, \"titlefont\": {\"color\": \"#FFF\"}, \"title\": \"Confidence after 125000 Iterations at Glimpse 9\", \"font\": {\"color\": \"#FFF\"}, \"width\": 500, \"legend\": {\"x\": 0, \"y\": 1}}, {\"showLink\": true, \"linkText\": \"Export to plot.ly\"})});</script>"
      ],
      "text/vnd.plotly.v1+html": [
       "<div id=\"78224836-9c9d-495e-9f84-1eff6678d1b7\" style=\"height: 500px; width: 500px;\" class=\"plotly-graph-div\"></div><script type=\"text/javascript\">require([\"plotly\"], function(Plotly) { window.PLOTLYENV=window.PLOTLYENV || {};window.PLOTLYENV.BASE_URL=\"https://plot.ly\";Plotly.newPlot(\"78224836-9c9d-495e-9f84-1eff6678d1b7\", [{\"x\": [1, 2, 3, 4, 5, 6, 7, 8, 9], \"type\": \"scatter\", \"name\": \"Mean\", \"y\": [1.0493804750649074, 2.2408762891866996, 3.1101524161684875, 4.036012003437792, 5.003519959525105, 5.897374544382599, 6.707380461986294, 7.289260719951072, 7.735520380462143]}, {\"x\": [1, 2, 3, 4, 5, 6, 7, 8, 9], \"type\": \"scatter\", \"yaxis\": \"y2\", \"name\": \"Standard Deviation\", \"y\": [0.21447810260810635, 0.6727980890912355, 1.0033111648461737, 1.2806955618642273, 1.4704364525105067, 1.5264283165842114, 1.4549871054065928, 1.3075722312368305, 1.128833386966256]}], {\"xaxis\": {\"title\": \"True Class\", \"dtick\": 1, \"range\": [0.5, 9.5], \"tickcolor\": \"#FFF\"}, \"plot_bgcolor\": \"#000\", \"yaxis2\": {\"overlaying\": \"y\", \"range\": [0, 3], \"gridcolor\": \"#999\", \"title\": \"Standard Deviation\", \"side\": \"right\", \"tickcolor\": \"#FFF\"}, \"yaxis\": {\"title\": \"Mean\", \"dtick\": 1, \"range\": [0.5, 9.5], \"tickcolor\": \"#FFF\"}, \"paper_bgcolor\": \"#000\", \"height\": 500, \"titlefont\": {\"color\": \"#FFF\"}, \"title\": \"Confidence after 125000 Iterations at Glimpse 9\", \"font\": {\"color\": \"#FFF\"}, \"width\": 500, \"legend\": {\"x\": 0, \"y\": 1}}, {\"showLink\": true, \"linkText\": \"Export to plot.ly\"})});</script>"
      ]
     },
     "metadata": {},
     "output_type": "display_data"
    },
    {
     "data": {
      "application/vnd.plotly.v1+json": {
       "data": [
        {
         "name": "Coefficient of Variation",
         "type": "scatter",
         "x": [
          1,
          2,
          3,
          4,
          5,
          6,
          7,
          8,
          9
         ],
         "y": [
          0.20265149727756024,
          0.3004895815751265,
          0.3227028736784583,
          0.31739472680977576,
          0.29389914938300976,
          0.2586941675060956,
          0.21682477047499296,
          0.17939661489074318,
          0.1460324939429491
         ]
        }
       ],
       "layout": {
        "font": {
         "color": "#FFF"
        },
        "height": 300,
        "paper_bgcolor": "#000",
        "plot_bgcolor": "#000",
        "title": "Confidence after 125000 Iterations at Glimpse 9",
        "titlefont": {
         "color": "#FFF"
        },
        "width": 500,
        "xaxis": {
         "dtick": 1,
         "range": [
          0.5,
          9.5
         ],
         "tickcolor": "#FFF",
         "title": "True Class"
        },
        "yaxis": {
         "showgrid": true,
         "tickcolor": "#FFF",
         "title": "Coefficient of Variation"
        }
       }
      },
      "text/html": [
       "<div id=\"7d0fe480-a632-4df5-99fc-0315bb6257c2\" style=\"height: 300px; width: 500px;\" class=\"plotly-graph-div\"></div><script type=\"text/javascript\">require([\"plotly\"], function(Plotly) { window.PLOTLYENV=window.PLOTLYENV || {};window.PLOTLYENV.BASE_URL=\"https://plot.ly\";Plotly.newPlot(\"7d0fe480-a632-4df5-99fc-0315bb6257c2\", [{\"x\": [1, 2, 3, 4, 5, 6, 7, 8, 9], \"type\": \"scatter\", \"name\": \"Coefficient of Variation\", \"y\": [0.20265149727756024, 0.3004895815751265, 0.3227028736784583, 0.31739472680977576, 0.29389914938300976, 0.2586941675060956, 0.21682477047499296, 0.17939661489074318, 0.1460324939429491]}], {\"xaxis\": {\"title\": \"True Class\", \"dtick\": 1, \"range\": [0.5, 9.5], \"tickcolor\": \"#FFF\"}, \"plot_bgcolor\": \"#000\", \"titlefont\": {\"color\": \"#FFF\"}, \"paper_bgcolor\": \"#000\", \"height\": 300, \"yaxis\": {\"title\": \"Coefficient of Variation\", \"tickcolor\": \"#FFF\", \"showgrid\": true}, \"title\": \"Confidence after 125000 Iterations at Glimpse 9\", \"font\": {\"color\": \"#FFF\"}, \"width\": 500}, {\"showLink\": true, \"linkText\": \"Export to plot.ly\"})});</script>"
      ],
      "text/vnd.plotly.v1+html": [
       "<div id=\"7d0fe480-a632-4df5-99fc-0315bb6257c2\" style=\"height: 300px; width: 500px;\" class=\"plotly-graph-div\"></div><script type=\"text/javascript\">require([\"plotly\"], function(Plotly) { window.PLOTLYENV=window.PLOTLYENV || {};window.PLOTLYENV.BASE_URL=\"https://plot.ly\";Plotly.newPlot(\"7d0fe480-a632-4df5-99fc-0315bb6257c2\", [{\"x\": [1, 2, 3, 4, 5, 6, 7, 8, 9], \"type\": \"scatter\", \"name\": \"Coefficient of Variation\", \"y\": [0.20265149727756024, 0.3004895815751265, 0.3227028736784583, 0.31739472680977576, 0.29389914938300976, 0.2586941675060956, 0.21682477047499296, 0.17939661489074318, 0.1460324939429491]}], {\"xaxis\": {\"title\": \"True Class\", \"dtick\": 1, \"range\": [0.5, 9.5], \"tickcolor\": \"#FFF\"}, \"plot_bgcolor\": \"#000\", \"titlefont\": {\"color\": \"#FFF\"}, \"paper_bgcolor\": \"#000\", \"height\": 300, \"yaxis\": {\"title\": \"Coefficient of Variation\", \"tickcolor\": \"#FFF\", \"showgrid\": true}, \"title\": \"Confidence after 125000 Iterations at Glimpse 9\", \"font\": {\"color\": \"#FFF\"}, \"width\": 500}, {\"showLink\": true, \"linkText\": \"Export to plot.ly\"})});</script>"
      ]
     },
     "metadata": {},
     "output_type": "display_data"
    },
    {
     "data": {
      "application/vnd.plotly.v1+json": {
       "data": [
        {
         "name": "Mean",
         "type": "scatter",
         "x": [
          1,
          2,
          3,
          4,
          5,
          6,
          7,
          8,
          9
         ],
         "y": [
          1.0158,
          2.1086,
          2.943,
          3.8618,
          4.8634,
          5.818200000000001,
          6.7782,
          7.4687,
          8.002
         ]
        },
        {
         "name": "Standard Deviation",
         "type": "scatter",
         "x": [
          1,
          2,
          3,
          4,
          5,
          6,
          7,
          8,
          9
         ],
         "y": [
          0.1154570624793227,
          0.4850935750905694,
          0.7527475983507923,
          0.995361586632083,
          1.1967079208686777,
          1.285260494507876,
          1.2630931195020998,
          1.11800484994039,
          0.885746188241311
         ],
         "yaxis": "y2"
        }
       ],
       "layout": {
        "font": {
         "color": "#FFF"
        },
        "height": 500,
        "legend": {
         "x": 0,
         "y": 1
        },
        "paper_bgcolor": "#000",
        "plot_bgcolor": "#000",
        "title": "Choice after 125000 Iterations at Glimpse 9",
        "titlefont": {
         "color": "#FFF"
        },
        "width": 500,
        "xaxis": {
         "dtick": 1,
         "range": [
          0.5,
          9.5
         ],
         "tickcolor": "#FFF",
         "title": "True Class"
        },
        "yaxis": {
         "dtick": 1,
         "range": [
          0.5,
          9.5
         ],
         "tickcolor": "#FFF",
         "title": "Mean"
        },
        "yaxis2": {
         "gridcolor": "#999",
         "overlaying": "y",
         "range": [
          0,
          3
         ],
         "side": "right",
         "tickcolor": "#FFF",
         "title": "Standard Deviation"
        }
       }
      },
      "text/html": [
       "<div id=\"07a26807-92c2-413e-813f-159261d1f91d\" style=\"height: 500px; width: 500px;\" class=\"plotly-graph-div\"></div><script type=\"text/javascript\">require([\"plotly\"], function(Plotly) { window.PLOTLYENV=window.PLOTLYENV || {};window.PLOTLYENV.BASE_URL=\"https://plot.ly\";Plotly.newPlot(\"07a26807-92c2-413e-813f-159261d1f91d\", [{\"x\": [1, 2, 3, 4, 5, 6, 7, 8, 9], \"type\": \"scatter\", \"name\": \"Mean\", \"y\": [1.0158, 2.1086, 2.943, 3.8618, 4.8634, 5.818200000000001, 6.7782, 7.4687, 8.002]}, {\"x\": [1, 2, 3, 4, 5, 6, 7, 8, 9], \"type\": \"scatter\", \"yaxis\": \"y2\", \"name\": \"Standard Deviation\", \"y\": [0.1154570624793227, 0.4850935750905694, 0.7527475983507923, 0.995361586632083, 1.1967079208686777, 1.285260494507876, 1.2630931195020998, 1.11800484994039, 0.885746188241311]}], {\"xaxis\": {\"title\": \"True Class\", \"dtick\": 1, \"range\": [0.5, 9.5], \"tickcolor\": \"#FFF\"}, \"plot_bgcolor\": \"#000\", \"yaxis2\": {\"overlaying\": \"y\", \"range\": [0, 3], \"gridcolor\": \"#999\", \"title\": \"Standard Deviation\", \"side\": \"right\", \"tickcolor\": \"#FFF\"}, \"yaxis\": {\"title\": \"Mean\", \"dtick\": 1, \"range\": [0.5, 9.5], \"tickcolor\": \"#FFF\"}, \"paper_bgcolor\": \"#000\", \"height\": 500, \"titlefont\": {\"color\": \"#FFF\"}, \"title\": \"Choice after 125000 Iterations at Glimpse 9\", \"font\": {\"color\": \"#FFF\"}, \"width\": 500, \"legend\": {\"x\": 0, \"y\": 1}}, {\"showLink\": true, \"linkText\": \"Export to plot.ly\"})});</script>"
      ],
      "text/vnd.plotly.v1+html": [
       "<div id=\"07a26807-92c2-413e-813f-159261d1f91d\" style=\"height: 500px; width: 500px;\" class=\"plotly-graph-div\"></div><script type=\"text/javascript\">require([\"plotly\"], function(Plotly) { window.PLOTLYENV=window.PLOTLYENV || {};window.PLOTLYENV.BASE_URL=\"https://plot.ly\";Plotly.newPlot(\"07a26807-92c2-413e-813f-159261d1f91d\", [{\"x\": [1, 2, 3, 4, 5, 6, 7, 8, 9], \"type\": \"scatter\", \"name\": \"Mean\", \"y\": [1.0158, 2.1086, 2.943, 3.8618, 4.8634, 5.818200000000001, 6.7782, 7.4687, 8.002]}, {\"x\": [1, 2, 3, 4, 5, 6, 7, 8, 9], \"type\": \"scatter\", \"yaxis\": \"y2\", \"name\": \"Standard Deviation\", \"y\": [0.1154570624793227, 0.4850935750905694, 0.7527475983507923, 0.995361586632083, 1.1967079208686777, 1.285260494507876, 1.2630931195020998, 1.11800484994039, 0.885746188241311]}], {\"xaxis\": {\"title\": \"True Class\", \"dtick\": 1, \"range\": [0.5, 9.5], \"tickcolor\": \"#FFF\"}, \"plot_bgcolor\": \"#000\", \"yaxis2\": {\"overlaying\": \"y\", \"range\": [0, 3], \"gridcolor\": \"#999\", \"title\": \"Standard Deviation\", \"side\": \"right\", \"tickcolor\": \"#FFF\"}, \"yaxis\": {\"title\": \"Mean\", \"dtick\": 1, \"range\": [0.5, 9.5], \"tickcolor\": \"#FFF\"}, \"paper_bgcolor\": \"#000\", \"height\": 500, \"titlefont\": {\"color\": \"#FFF\"}, \"title\": \"Choice after 125000 Iterations at Glimpse 9\", \"font\": {\"color\": \"#FFF\"}, \"width\": 500, \"legend\": {\"x\": 0, \"y\": 1}}, {\"showLink\": true, \"linkText\": \"Export to plot.ly\"})});</script>"
      ]
     },
     "metadata": {},
     "output_type": "display_data"
    },
    {
     "data": {
      "application/vnd.plotly.v1+json": {
       "data": [
        {
         "name": "Coefficient of Variation",
         "type": "scatter",
         "x": [
          1,
          2,
          3,
          4,
          5,
          6,
          7,
          8,
          9
         ],
         "y": [
          0.11318235090214704,
          0.23025963695987955,
          0.2558639483265301,
          0.2578191003393288,
          0.246166236894359,
          0.2207621356712198,
          0.1861826182970056,
          0.14966360747668653,
          0.11077638373136996
         ]
        }
       ],
       "layout": {
        "font": {
         "color": "#FFF"
        },
        "height": 300,
        "paper_bgcolor": "#000",
        "plot_bgcolor": "#000",
        "title": "Choice after 125000 Iterations at Glimpse 9",
        "titlefont": {
         "color": "#FFF"
        },
        "width": 500,
        "xaxis": {
         "dtick": 1,
         "range": [
          0.5,
          9.5
         ],
         "tickcolor": "#FFF",
         "title": "True Class"
        },
        "yaxis": {
         "showgrid": true,
         "tickcolor": "#FFF",
         "title": "Coefficient of Variation"
        }
       }
      },
      "text/html": [
       "<div id=\"cdcbba0a-673d-464f-83a6-ea4202053150\" style=\"height: 300px; width: 500px;\" class=\"plotly-graph-div\"></div><script type=\"text/javascript\">require([\"plotly\"], function(Plotly) { window.PLOTLYENV=window.PLOTLYENV || {};window.PLOTLYENV.BASE_URL=\"https://plot.ly\";Plotly.newPlot(\"cdcbba0a-673d-464f-83a6-ea4202053150\", [{\"x\": [1, 2, 3, 4, 5, 6, 7, 8, 9], \"type\": \"scatter\", \"name\": \"Coefficient of Variation\", \"y\": [0.11318235090214704, 0.23025963695987955, 0.2558639483265301, 0.2578191003393288, 0.246166236894359, 0.2207621356712198, 0.1861826182970056, 0.14966360747668653, 0.11077638373136996]}], {\"xaxis\": {\"title\": \"True Class\", \"dtick\": 1, \"range\": [0.5, 9.5], \"tickcolor\": \"#FFF\"}, \"plot_bgcolor\": \"#000\", \"titlefont\": {\"color\": \"#FFF\"}, \"paper_bgcolor\": \"#000\", \"height\": 300, \"yaxis\": {\"title\": \"Coefficient of Variation\", \"tickcolor\": \"#FFF\", \"showgrid\": true}, \"title\": \"Choice after 125000 Iterations at Glimpse 9\", \"font\": {\"color\": \"#FFF\"}, \"width\": 500}, {\"showLink\": true, \"linkText\": \"Export to plot.ly\"})});</script>"
      ],
      "text/vnd.plotly.v1+html": [
       "<div id=\"cdcbba0a-673d-464f-83a6-ea4202053150\" style=\"height: 300px; width: 500px;\" class=\"plotly-graph-div\"></div><script type=\"text/javascript\">require([\"plotly\"], function(Plotly) { window.PLOTLYENV=window.PLOTLYENV || {};window.PLOTLYENV.BASE_URL=\"https://plot.ly\";Plotly.newPlot(\"cdcbba0a-673d-464f-83a6-ea4202053150\", [{\"x\": [1, 2, 3, 4, 5, 6, 7, 8, 9], \"type\": \"scatter\", \"name\": \"Coefficient of Variation\", \"y\": [0.11318235090214704, 0.23025963695987955, 0.2558639483265301, 0.2578191003393288, 0.246166236894359, 0.2207621356712198, 0.1861826182970056, 0.14966360747668653, 0.11077638373136996]}], {\"xaxis\": {\"title\": \"True Class\", \"dtick\": 1, \"range\": [0.5, 9.5], \"tickcolor\": \"#FFF\"}, \"plot_bgcolor\": \"#000\", \"titlefont\": {\"color\": \"#FFF\"}, \"paper_bgcolor\": \"#000\", \"height\": 300, \"yaxis\": {\"title\": \"Coefficient of Variation\", \"tickcolor\": \"#FFF\", \"showgrid\": true}, \"title\": \"Choice after 125000 Iterations at Glimpse 9\", \"font\": {\"color\": \"#FFF\"}, \"width\": 500}, {\"showLink\": true, \"linkText\": \"Export to plot.ly\"})});</script>"
      ]
     },
     "metadata": {},
     "output_type": "display_data"
    },
    {
     "data": {
      "application/vnd.plotly.v1+json": {
       "data": [
        {
         "name": "Mean",
         "type": "scatter",
         "x": [
          1,
          2,
          3,
          4,
          5,
          6,
          7,
          8,
          9
         ],
         "y": [
          1.0337970168278363,
          2.1871616180482674,
          3.1220274299782775,
          4.123911247452043,
          5.109392602530489,
          6.015916386518795,
          6.79356030291851,
          7.428091571018809,
          7.87126325132769
         ]
        },
        {
         "name": "Standard Deviation",
         "type": "scatter",
         "x": [
          1,
          2,
          3,
          4,
          5,
          6,
          7,
          8,
          9
         ],
         "y": [
          0.18426912109304955,
          0.6028464516829699,
          0.9773010850271436,
          1.2301903909063743,
          1.4039644569053364,
          1.4721662813064187,
          1.427581649833686,
          1.2870662426552848,
          1.1063390773641282
         ],
         "yaxis": "y2"
        }
       ],
       "layout": {
        "font": {
         "color": "#FFF"
        },
        "height": 500,
        "legend": {
         "x": 0,
         "y": 1
        },
        "paper_bgcolor": "#000",
        "plot_bgcolor": "#000",
        "title": "Confidence after 250000 Iterations at Glimpse 0",
        "titlefont": {
         "color": "#FFF"
        },
        "width": 500,
        "xaxis": {
         "dtick": 1,
         "range": [
          0.5,
          9.5
         ],
         "tickcolor": "#FFF",
         "title": "True Class"
        },
        "yaxis": {
         "dtick": 1,
         "range": [
          0.5,
          9.5
         ],
         "tickcolor": "#FFF",
         "title": "Mean"
        },
        "yaxis2": {
         "gridcolor": "#999",
         "overlaying": "y",
         "range": [
          0,
          3
         ],
         "side": "right",
         "tickcolor": "#FFF",
         "title": "Standard Deviation"
        }
       }
      },
      "text/html": [
       "<div id=\"8082a386-19ea-48a3-a44b-fc79ff808b5e\" style=\"height: 500px; width: 500px;\" class=\"plotly-graph-div\"></div><script type=\"text/javascript\">require([\"plotly\"], function(Plotly) { window.PLOTLYENV=window.PLOTLYENV || {};window.PLOTLYENV.BASE_URL=\"https://plot.ly\";Plotly.newPlot(\"8082a386-19ea-48a3-a44b-fc79ff808b5e\", [{\"x\": [1, 2, 3, 4, 5, 6, 7, 8, 9], \"type\": \"scatter\", \"name\": \"Mean\", \"y\": [1.0337970168278363, 2.1871616180482674, 3.1220274299782775, 4.123911247452043, 5.109392602530489, 6.015916386518795, 6.79356030291851, 7.428091571018809, 7.87126325132769]}, {\"x\": [1, 2, 3, 4, 5, 6, 7, 8, 9], \"type\": \"scatter\", \"yaxis\": \"y2\", \"name\": \"Standard Deviation\", \"y\": [0.18426912109304955, 0.6028464516829699, 0.9773010850271436, 1.2301903909063743, 1.4039644569053364, 1.4721662813064187, 1.427581649833686, 1.2870662426552848, 1.1063390773641282]}], {\"xaxis\": {\"title\": \"True Class\", \"dtick\": 1, \"range\": [0.5, 9.5], \"tickcolor\": \"#FFF\"}, \"plot_bgcolor\": \"#000\", \"yaxis2\": {\"overlaying\": \"y\", \"range\": [0, 3], \"gridcolor\": \"#999\", \"title\": \"Standard Deviation\", \"side\": \"right\", \"tickcolor\": \"#FFF\"}, \"yaxis\": {\"title\": \"Mean\", \"dtick\": 1, \"range\": [0.5, 9.5], \"tickcolor\": \"#FFF\"}, \"paper_bgcolor\": \"#000\", \"height\": 500, \"titlefont\": {\"color\": \"#FFF\"}, \"title\": \"Confidence after 250000 Iterations at Glimpse 0\", \"font\": {\"color\": \"#FFF\"}, \"width\": 500, \"legend\": {\"x\": 0, \"y\": 1}}, {\"showLink\": true, \"linkText\": \"Export to plot.ly\"})});</script>"
      ],
      "text/vnd.plotly.v1+html": [
       "<div id=\"8082a386-19ea-48a3-a44b-fc79ff808b5e\" style=\"height: 500px; width: 500px;\" class=\"plotly-graph-div\"></div><script type=\"text/javascript\">require([\"plotly\"], function(Plotly) { window.PLOTLYENV=window.PLOTLYENV || {};window.PLOTLYENV.BASE_URL=\"https://plot.ly\";Plotly.newPlot(\"8082a386-19ea-48a3-a44b-fc79ff808b5e\", [{\"x\": [1, 2, 3, 4, 5, 6, 7, 8, 9], \"type\": \"scatter\", \"name\": \"Mean\", \"y\": [1.0337970168278363, 2.1871616180482674, 3.1220274299782775, 4.123911247452043, 5.109392602530489, 6.015916386518795, 6.79356030291851, 7.428091571018809, 7.87126325132769]}, {\"x\": [1, 2, 3, 4, 5, 6, 7, 8, 9], \"type\": \"scatter\", \"yaxis\": \"y2\", \"name\": \"Standard Deviation\", \"y\": [0.18426912109304955, 0.6028464516829699, 0.9773010850271436, 1.2301903909063743, 1.4039644569053364, 1.4721662813064187, 1.427581649833686, 1.2870662426552848, 1.1063390773641282]}], {\"xaxis\": {\"title\": \"True Class\", \"dtick\": 1, \"range\": [0.5, 9.5], \"tickcolor\": \"#FFF\"}, \"plot_bgcolor\": \"#000\", \"yaxis2\": {\"overlaying\": \"y\", \"range\": [0, 3], \"gridcolor\": \"#999\", \"title\": \"Standard Deviation\", \"side\": \"right\", \"tickcolor\": \"#FFF\"}, \"yaxis\": {\"title\": \"Mean\", \"dtick\": 1, \"range\": [0.5, 9.5], \"tickcolor\": \"#FFF\"}, \"paper_bgcolor\": \"#000\", \"height\": 500, \"titlefont\": {\"color\": \"#FFF\"}, \"title\": \"Confidence after 250000 Iterations at Glimpse 0\", \"font\": {\"color\": \"#FFF\"}, \"width\": 500, \"legend\": {\"x\": 0, \"y\": 1}}, {\"showLink\": true, \"linkText\": \"Export to plot.ly\"})});</script>"
      ]
     },
     "metadata": {},
     "output_type": "display_data"
    },
    {
     "data": {
      "application/vnd.plotly.v1+json": {
       "data": [
        {
         "name": "Coefficient of Variation",
         "type": "scatter",
         "x": [
          1,
          2,
          3,
          4,
          5,
          6,
          7,
          8,
          9
         ],
         "y": [
          0.1777593214367837,
          0.2756182766560361,
          0.31305285671544875,
          0.2982893706134397,
          0.2747783388934205,
          0.24462105889798602,
          0.2099994274625195,
          0.1730955369793731,
          0.14041210604930976
         ]
        }
       ],
       "layout": {
        "font": {
         "color": "#FFF"
        },
        "height": 300,
        "paper_bgcolor": "#000",
        "plot_bgcolor": "#000",
        "title": "Confidence after 250000 Iterations at Glimpse 0",
        "titlefont": {
         "color": "#FFF"
        },
        "width": 500,
        "xaxis": {
         "dtick": 1,
         "range": [
          0.5,
          9.5
         ],
         "tickcolor": "#FFF",
         "title": "True Class"
        },
        "yaxis": {
         "showgrid": true,
         "tickcolor": "#FFF",
         "title": "Coefficient of Variation"
        }
       }
      },
      "text/html": [
       "<div id=\"91a45d6a-a794-482c-8ea2-a6b277089011\" style=\"height: 300px; width: 500px;\" class=\"plotly-graph-div\"></div><script type=\"text/javascript\">require([\"plotly\"], function(Plotly) { window.PLOTLYENV=window.PLOTLYENV || {};window.PLOTLYENV.BASE_URL=\"https://plot.ly\";Plotly.newPlot(\"91a45d6a-a794-482c-8ea2-a6b277089011\", [{\"x\": [1, 2, 3, 4, 5, 6, 7, 8, 9], \"type\": \"scatter\", \"name\": \"Coefficient of Variation\", \"y\": [0.1777593214367837, 0.2756182766560361, 0.31305285671544875, 0.2982893706134397, 0.2747783388934205, 0.24462105889798602, 0.2099994274625195, 0.1730955369793731, 0.14041210604930976]}], {\"xaxis\": {\"title\": \"True Class\", \"dtick\": 1, \"range\": [0.5, 9.5], \"tickcolor\": \"#FFF\"}, \"plot_bgcolor\": \"#000\", \"titlefont\": {\"color\": \"#FFF\"}, \"paper_bgcolor\": \"#000\", \"height\": 300, \"yaxis\": {\"title\": \"Coefficient of Variation\", \"tickcolor\": \"#FFF\", \"showgrid\": true}, \"title\": \"Confidence after 250000 Iterations at Glimpse 0\", \"font\": {\"color\": \"#FFF\"}, \"width\": 500}, {\"showLink\": true, \"linkText\": \"Export to plot.ly\"})});</script>"
      ],
      "text/vnd.plotly.v1+html": [
       "<div id=\"91a45d6a-a794-482c-8ea2-a6b277089011\" style=\"height: 300px; width: 500px;\" class=\"plotly-graph-div\"></div><script type=\"text/javascript\">require([\"plotly\"], function(Plotly) { window.PLOTLYENV=window.PLOTLYENV || {};window.PLOTLYENV.BASE_URL=\"https://plot.ly\";Plotly.newPlot(\"91a45d6a-a794-482c-8ea2-a6b277089011\", [{\"x\": [1, 2, 3, 4, 5, 6, 7, 8, 9], \"type\": \"scatter\", \"name\": \"Coefficient of Variation\", \"y\": [0.1777593214367837, 0.2756182766560361, 0.31305285671544875, 0.2982893706134397, 0.2747783388934205, 0.24462105889798602, 0.2099994274625195, 0.1730955369793731, 0.14041210604930976]}], {\"xaxis\": {\"title\": \"True Class\", \"dtick\": 1, \"range\": [0.5, 9.5], \"tickcolor\": \"#FFF\"}, \"plot_bgcolor\": \"#000\", \"titlefont\": {\"color\": \"#FFF\"}, \"paper_bgcolor\": \"#000\", \"height\": 300, \"yaxis\": {\"title\": \"Coefficient of Variation\", \"tickcolor\": \"#FFF\", \"showgrid\": true}, \"title\": \"Confidence after 250000 Iterations at Glimpse 0\", \"font\": {\"color\": \"#FFF\"}, \"width\": 500}, {\"showLink\": true, \"linkText\": \"Export to plot.ly\"})});</script>"
      ]
     },
     "metadata": {},
     "output_type": "display_data"
    },
    {
     "data": {
      "application/vnd.plotly.v1+json": {
       "data": [
        {
         "name": "Mean",
         "type": "scatter",
         "x": [
          1,
          2,
          3,
          4,
          5,
          6,
          7,
          8,
          9
         ],
         "y": [
          1.0024999999999997,
          2.053,
          2.9309,
          3.9138000000000006,
          4.9177,
          5.8912,
          6.8003,
          7.6058,
          8.1609
         ]
        },
        {
         "name": "Standard Deviation",
         "type": "scatter",
         "x": [
          1,
          2,
          3,
          4,
          5,
          6,
          7,
          8,
          9
         ],
         "y": [
          0.038332078259420255,
          0.37954731265227576,
          0.7188320128527312,
          0.9291467279223624,
          1.1001099268350703,
          1.2310317064810978,
          1.2746800431400724,
          1.1706056288442974,
          0.9494894192242423
         ],
         "yaxis": "y2"
        }
       ],
       "layout": {
        "font": {
         "color": "#FFF"
        },
        "height": 500,
        "legend": {
         "x": 0,
         "y": 1
        },
        "paper_bgcolor": "#000",
        "plot_bgcolor": "#000",
        "title": "Choice after 250000 Iterations at Glimpse 0",
        "titlefont": {
         "color": "#FFF"
        },
        "width": 500,
        "xaxis": {
         "dtick": 1,
         "range": [
          0.5,
          9.5
         ],
         "tickcolor": "#FFF",
         "title": "True Class"
        },
        "yaxis": {
         "dtick": 1,
         "range": [
          0.5,
          9.5
         ],
         "tickcolor": "#FFF",
         "title": "Mean"
        },
        "yaxis2": {
         "gridcolor": "#999",
         "overlaying": "y",
         "range": [
          0,
          3
         ],
         "side": "right",
         "tickcolor": "#FFF",
         "title": "Standard Deviation"
        }
       }
      },
      "text/html": [
       "<div id=\"9846b4fa-cd20-4063-87c1-1b97ca99a8de\" style=\"height: 500px; width: 500px;\" class=\"plotly-graph-div\"></div><script type=\"text/javascript\">require([\"plotly\"], function(Plotly) { window.PLOTLYENV=window.PLOTLYENV || {};window.PLOTLYENV.BASE_URL=\"https://plot.ly\";Plotly.newPlot(\"9846b4fa-cd20-4063-87c1-1b97ca99a8de\", [{\"x\": [1, 2, 3, 4, 5, 6, 7, 8, 9], \"type\": \"scatter\", \"name\": \"Mean\", \"y\": [1.0024999999999997, 2.053, 2.9309, 3.9138000000000006, 4.9177, 5.8912, 6.8003, 7.6058, 8.1609]}, {\"x\": [1, 2, 3, 4, 5, 6, 7, 8, 9], \"type\": \"scatter\", \"yaxis\": \"y2\", \"name\": \"Standard Deviation\", \"y\": [0.038332078259420255, 0.37954731265227576, 0.7188320128527312, 0.9291467279223624, 1.1001099268350703, 1.2310317064810978, 1.2746800431400724, 1.1706056288442974, 0.9494894192242423]}], {\"xaxis\": {\"title\": \"True Class\", \"dtick\": 1, \"range\": [0.5, 9.5], \"tickcolor\": \"#FFF\"}, \"plot_bgcolor\": \"#000\", \"yaxis2\": {\"overlaying\": \"y\", \"range\": [0, 3], \"gridcolor\": \"#999\", \"title\": \"Standard Deviation\", \"side\": \"right\", \"tickcolor\": \"#FFF\"}, \"yaxis\": {\"title\": \"Mean\", \"dtick\": 1, \"range\": [0.5, 9.5], \"tickcolor\": \"#FFF\"}, \"paper_bgcolor\": \"#000\", \"height\": 500, \"titlefont\": {\"color\": \"#FFF\"}, \"title\": \"Choice after 250000 Iterations at Glimpse 0\", \"font\": {\"color\": \"#FFF\"}, \"width\": 500, \"legend\": {\"x\": 0, \"y\": 1}}, {\"showLink\": true, \"linkText\": \"Export to plot.ly\"})});</script>"
      ],
      "text/vnd.plotly.v1+html": [
       "<div id=\"9846b4fa-cd20-4063-87c1-1b97ca99a8de\" style=\"height: 500px; width: 500px;\" class=\"plotly-graph-div\"></div><script type=\"text/javascript\">require([\"plotly\"], function(Plotly) { window.PLOTLYENV=window.PLOTLYENV || {};window.PLOTLYENV.BASE_URL=\"https://plot.ly\";Plotly.newPlot(\"9846b4fa-cd20-4063-87c1-1b97ca99a8de\", [{\"x\": [1, 2, 3, 4, 5, 6, 7, 8, 9], \"type\": \"scatter\", \"name\": \"Mean\", \"y\": [1.0024999999999997, 2.053, 2.9309, 3.9138000000000006, 4.9177, 5.8912, 6.8003, 7.6058, 8.1609]}, {\"x\": [1, 2, 3, 4, 5, 6, 7, 8, 9], \"type\": \"scatter\", \"yaxis\": \"y2\", \"name\": \"Standard Deviation\", \"y\": [0.038332078259420255, 0.37954731265227576, 0.7188320128527312, 0.9291467279223624, 1.1001099268350703, 1.2310317064810978, 1.2746800431400724, 1.1706056288442974, 0.9494894192242423]}], {\"xaxis\": {\"title\": \"True Class\", \"dtick\": 1, \"range\": [0.5, 9.5], \"tickcolor\": \"#FFF\"}, \"plot_bgcolor\": \"#000\", \"yaxis2\": {\"overlaying\": \"y\", \"range\": [0, 3], \"gridcolor\": \"#999\", \"title\": \"Standard Deviation\", \"side\": \"right\", \"tickcolor\": \"#FFF\"}, \"yaxis\": {\"title\": \"Mean\", \"dtick\": 1, \"range\": [0.5, 9.5], \"tickcolor\": \"#FFF\"}, \"paper_bgcolor\": \"#000\", \"height\": 500, \"titlefont\": {\"color\": \"#FFF\"}, \"title\": \"Choice after 250000 Iterations at Glimpse 0\", \"font\": {\"color\": \"#FFF\"}, \"width\": 500, \"legend\": {\"x\": 0, \"y\": 1}}, {\"showLink\": true, \"linkText\": \"Export to plot.ly\"})});</script>"
      ]
     },
     "metadata": {},
     "output_type": "display_data"
    },
    {
     "data": {
      "application/vnd.plotly.v1+json": {
       "data": [
        {
         "name": "Coefficient of Variation",
         "type": "scatter",
         "x": [
          1,
          2,
          3,
          4,
          5,
          6,
          7,
          8,
          9
         ],
         "y": [
          0.03812001051498386,
          0.18481489369411533,
          0.2453304161922903,
          0.23732194782977198,
          0.2237071257825515,
          0.20889409882153925,
          0.1873307358720663,
          0.15360906802440627,
          0.11608593917816581
         ]
        }
       ],
       "layout": {
        "font": {
         "color": "#FFF"
        },
        "height": 300,
        "paper_bgcolor": "#000",
        "plot_bgcolor": "#000",
        "title": "Choice after 250000 Iterations at Glimpse 0",
        "titlefont": {
         "color": "#FFF"
        },
        "width": 500,
        "xaxis": {
         "dtick": 1,
         "range": [
          0.5,
          9.5
         ],
         "tickcolor": "#FFF",
         "title": "True Class"
        },
        "yaxis": {
         "showgrid": true,
         "tickcolor": "#FFF",
         "title": "Coefficient of Variation"
        }
       }
      },
      "text/html": [
       "<div id=\"e2009a72-6b20-4be9-b305-7592a5d35c6a\" style=\"height: 300px; width: 500px;\" class=\"plotly-graph-div\"></div><script type=\"text/javascript\">require([\"plotly\"], function(Plotly) { window.PLOTLYENV=window.PLOTLYENV || {};window.PLOTLYENV.BASE_URL=\"https://plot.ly\";Plotly.newPlot(\"e2009a72-6b20-4be9-b305-7592a5d35c6a\", [{\"x\": [1, 2, 3, 4, 5, 6, 7, 8, 9], \"type\": \"scatter\", \"name\": \"Coefficient of Variation\", \"y\": [0.03812001051498386, 0.18481489369411533, 0.2453304161922903, 0.23732194782977198, 0.2237071257825515, 0.20889409882153925, 0.1873307358720663, 0.15360906802440627, 0.11608593917816581]}], {\"xaxis\": {\"title\": \"True Class\", \"dtick\": 1, \"range\": [0.5, 9.5], \"tickcolor\": \"#FFF\"}, \"plot_bgcolor\": \"#000\", \"titlefont\": {\"color\": \"#FFF\"}, \"paper_bgcolor\": \"#000\", \"height\": 300, \"yaxis\": {\"title\": \"Coefficient of Variation\", \"tickcolor\": \"#FFF\", \"showgrid\": true}, \"title\": \"Choice after 250000 Iterations at Glimpse 0\", \"font\": {\"color\": \"#FFF\"}, \"width\": 500}, {\"showLink\": true, \"linkText\": \"Export to plot.ly\"})});</script>"
      ],
      "text/vnd.plotly.v1+html": [
       "<div id=\"e2009a72-6b20-4be9-b305-7592a5d35c6a\" style=\"height: 300px; width: 500px;\" class=\"plotly-graph-div\"></div><script type=\"text/javascript\">require([\"plotly\"], function(Plotly) { window.PLOTLYENV=window.PLOTLYENV || {};window.PLOTLYENV.BASE_URL=\"https://plot.ly\";Plotly.newPlot(\"e2009a72-6b20-4be9-b305-7592a5d35c6a\", [{\"x\": [1, 2, 3, 4, 5, 6, 7, 8, 9], \"type\": \"scatter\", \"name\": \"Coefficient of Variation\", \"y\": [0.03812001051498386, 0.18481489369411533, 0.2453304161922903, 0.23732194782977198, 0.2237071257825515, 0.20889409882153925, 0.1873307358720663, 0.15360906802440627, 0.11608593917816581]}], {\"xaxis\": {\"title\": \"True Class\", \"dtick\": 1, \"range\": [0.5, 9.5], \"tickcolor\": \"#FFF\"}, \"plot_bgcolor\": \"#000\", \"titlefont\": {\"color\": \"#FFF\"}, \"paper_bgcolor\": \"#000\", \"height\": 300, \"yaxis\": {\"title\": \"Coefficient of Variation\", \"tickcolor\": \"#FFF\", \"showgrid\": true}, \"title\": \"Choice after 250000 Iterations at Glimpse 0\", \"font\": {\"color\": \"#FFF\"}, \"width\": 500}, {\"showLink\": true, \"linkText\": \"Export to plot.ly\"})});</script>"
      ]
     },
     "metadata": {},
     "output_type": "display_data"
    },
    {
     "data": {
      "application/vnd.plotly.v1+json": {
       "data": [
        {
         "name": "Mean",
         "type": "scatter",
         "x": [
          1,
          2,
          3,
          4,
          5,
          6,
          7,
          8,
          9
         ],
         "y": [
          1.0163683497150706,
          2.178342010845422,
          3.1266729521743875,
          4.14006983139858,
          5.126176163474851,
          6.050445096187949,
          6.851346051471663,
          7.501271027947726,
          7.961622506568372
         ]
        },
        {
         "name": "Standard Deviation",
         "type": "scatter",
         "x": [
          1,
          2,
          3,
          4,
          5,
          6,
          7,
          8,
          9
         ],
         "y": [
          0.12435799330239095,
          0.5008288036702068,
          0.912004762104139,
          1.1565856708817013,
          1.335969985606692,
          1.423799190235442,
          1.3895563154446682,
          1.2540319907795483,
          1.065468079291734
         ],
         "yaxis": "y2"
        }
       ],
       "layout": {
        "font": {
         "color": "#FFF"
        },
        "height": 500,
        "legend": {
         "x": 0,
         "y": 1
        },
        "paper_bgcolor": "#000",
        "plot_bgcolor": "#000",
        "title": "Confidence after 250000 Iterations at Glimpse 3",
        "titlefont": {
         "color": "#FFF"
        },
        "width": 500,
        "xaxis": {
         "dtick": 1,
         "range": [
          0.5,
          9.5
         ],
         "tickcolor": "#FFF",
         "title": "True Class"
        },
        "yaxis": {
         "dtick": 1,
         "range": [
          0.5,
          9.5
         ],
         "tickcolor": "#FFF",
         "title": "Mean"
        },
        "yaxis2": {
         "gridcolor": "#999",
         "overlaying": "y",
         "range": [
          0,
          3
         ],
         "side": "right",
         "tickcolor": "#FFF",
         "title": "Standard Deviation"
        }
       }
      },
      "text/html": [
       "<div id=\"5043be34-89c2-45c3-81f6-18fcb4faef5b\" style=\"height: 500px; width: 500px;\" class=\"plotly-graph-div\"></div><script type=\"text/javascript\">require([\"plotly\"], function(Plotly) { window.PLOTLYENV=window.PLOTLYENV || {};window.PLOTLYENV.BASE_URL=\"https://plot.ly\";Plotly.newPlot(\"5043be34-89c2-45c3-81f6-18fcb4faef5b\", [{\"x\": [1, 2, 3, 4, 5, 6, 7, 8, 9], \"type\": \"scatter\", \"name\": \"Mean\", \"y\": [1.0163683497150706, 2.178342010845422, 3.1266729521743875, 4.14006983139858, 5.126176163474851, 6.050445096187949, 6.851346051471663, 7.501271027947726, 7.961622506568372]}, {\"x\": [1, 2, 3, 4, 5, 6, 7, 8, 9], \"type\": \"scatter\", \"yaxis\": \"y2\", \"name\": \"Standard Deviation\", \"y\": [0.12435799330239095, 0.5008288036702068, 0.912004762104139, 1.1565856708817013, 1.335969985606692, 1.423799190235442, 1.3895563154446682, 1.2540319907795483, 1.065468079291734]}], {\"xaxis\": {\"title\": \"True Class\", \"dtick\": 1, \"range\": [0.5, 9.5], \"tickcolor\": \"#FFF\"}, \"plot_bgcolor\": \"#000\", \"yaxis2\": {\"overlaying\": \"y\", \"range\": [0, 3], \"gridcolor\": \"#999\", \"title\": \"Standard Deviation\", \"side\": \"right\", \"tickcolor\": \"#FFF\"}, \"yaxis\": {\"title\": \"Mean\", \"dtick\": 1, \"range\": [0.5, 9.5], \"tickcolor\": \"#FFF\"}, \"paper_bgcolor\": \"#000\", \"height\": 500, \"titlefont\": {\"color\": \"#FFF\"}, \"title\": \"Confidence after 250000 Iterations at Glimpse 3\", \"font\": {\"color\": \"#FFF\"}, \"width\": 500, \"legend\": {\"x\": 0, \"y\": 1}}, {\"showLink\": true, \"linkText\": \"Export to plot.ly\"})});</script>"
      ],
      "text/vnd.plotly.v1+html": [
       "<div id=\"5043be34-89c2-45c3-81f6-18fcb4faef5b\" style=\"height: 500px; width: 500px;\" class=\"plotly-graph-div\"></div><script type=\"text/javascript\">require([\"plotly\"], function(Plotly) { window.PLOTLYENV=window.PLOTLYENV || {};window.PLOTLYENV.BASE_URL=\"https://plot.ly\";Plotly.newPlot(\"5043be34-89c2-45c3-81f6-18fcb4faef5b\", [{\"x\": [1, 2, 3, 4, 5, 6, 7, 8, 9], \"type\": \"scatter\", \"name\": \"Mean\", \"y\": [1.0163683497150706, 2.178342010845422, 3.1266729521743875, 4.14006983139858, 5.126176163474851, 6.050445096187949, 6.851346051471663, 7.501271027947726, 7.961622506568372]}, {\"x\": [1, 2, 3, 4, 5, 6, 7, 8, 9], \"type\": \"scatter\", \"yaxis\": \"y2\", \"name\": \"Standard Deviation\", \"y\": [0.12435799330239095, 0.5008288036702068, 0.912004762104139, 1.1565856708817013, 1.335969985606692, 1.423799190235442, 1.3895563154446682, 1.2540319907795483, 1.065468079291734]}], {\"xaxis\": {\"title\": \"True Class\", \"dtick\": 1, \"range\": [0.5, 9.5], \"tickcolor\": \"#FFF\"}, \"plot_bgcolor\": \"#000\", \"yaxis2\": {\"overlaying\": \"y\", \"range\": [0, 3], \"gridcolor\": \"#999\", \"title\": \"Standard Deviation\", \"side\": \"right\", \"tickcolor\": \"#FFF\"}, \"yaxis\": {\"title\": \"Mean\", \"dtick\": 1, \"range\": [0.5, 9.5], \"tickcolor\": \"#FFF\"}, \"paper_bgcolor\": \"#000\", \"height\": 500, \"titlefont\": {\"color\": \"#FFF\"}, \"title\": \"Confidence after 250000 Iterations at Glimpse 3\", \"font\": {\"color\": \"#FFF\"}, \"width\": 500, \"legend\": {\"x\": 0, \"y\": 1}}, {\"showLink\": true, \"linkText\": \"Export to plot.ly\"})});</script>"
      ]
     },
     "metadata": {},
     "output_type": "display_data"
    },
    {
     "data": {
      "application/vnd.plotly.v1+json": {
       "data": [
        {
         "name": "Coefficient of Variation",
         "type": "scatter",
         "x": [
          1,
          2,
          3,
          4,
          5,
          6,
          7,
          8,
          9
         ],
         "y": [
          0.12216015322878886,
          0.22982692197483115,
          0.2918210597041159,
          0.2793310612764877,
          0.2605830615199475,
          0.2352036605000986,
          0.2026898938474298,
          0.16698852649527743,
          0.13365182783185037
         ]
        }
       ],
       "layout": {
        "font": {
         "color": "#FFF"
        },
        "height": 300,
        "paper_bgcolor": "#000",
        "plot_bgcolor": "#000",
        "title": "Confidence after 250000 Iterations at Glimpse 3",
        "titlefont": {
         "color": "#FFF"
        },
        "width": 500,
        "xaxis": {
         "dtick": 1,
         "range": [
          0.5,
          9.5
         ],
         "tickcolor": "#FFF",
         "title": "True Class"
        },
        "yaxis": {
         "showgrid": true,
         "tickcolor": "#FFF",
         "title": "Coefficient of Variation"
        }
       }
      },
      "text/html": [
       "<div id=\"02f2ff4f-35e5-4d50-b59a-77f853b3d710\" style=\"height: 300px; width: 500px;\" class=\"plotly-graph-div\"></div><script type=\"text/javascript\">require([\"plotly\"], function(Plotly) { window.PLOTLYENV=window.PLOTLYENV || {};window.PLOTLYENV.BASE_URL=\"https://plot.ly\";Plotly.newPlot(\"02f2ff4f-35e5-4d50-b59a-77f853b3d710\", [{\"x\": [1, 2, 3, 4, 5, 6, 7, 8, 9], \"type\": \"scatter\", \"name\": \"Coefficient of Variation\", \"y\": [0.12216015322878886, 0.22982692197483115, 0.2918210597041159, 0.2793310612764877, 0.2605830615199475, 0.2352036605000986, 0.2026898938474298, 0.16698852649527743, 0.13365182783185037]}], {\"xaxis\": {\"title\": \"True Class\", \"dtick\": 1, \"range\": [0.5, 9.5], \"tickcolor\": \"#FFF\"}, \"plot_bgcolor\": \"#000\", \"titlefont\": {\"color\": \"#FFF\"}, \"paper_bgcolor\": \"#000\", \"height\": 300, \"yaxis\": {\"title\": \"Coefficient of Variation\", \"tickcolor\": \"#FFF\", \"showgrid\": true}, \"title\": \"Confidence after 250000 Iterations at Glimpse 3\", \"font\": {\"color\": \"#FFF\"}, \"width\": 500}, {\"showLink\": true, \"linkText\": \"Export to plot.ly\"})});</script>"
      ],
      "text/vnd.plotly.v1+html": [
       "<div id=\"02f2ff4f-35e5-4d50-b59a-77f853b3d710\" style=\"height: 300px; width: 500px;\" class=\"plotly-graph-div\"></div><script type=\"text/javascript\">require([\"plotly\"], function(Plotly) { window.PLOTLYENV=window.PLOTLYENV || {};window.PLOTLYENV.BASE_URL=\"https://plot.ly\";Plotly.newPlot(\"02f2ff4f-35e5-4d50-b59a-77f853b3d710\", [{\"x\": [1, 2, 3, 4, 5, 6, 7, 8, 9], \"type\": \"scatter\", \"name\": \"Coefficient of Variation\", \"y\": [0.12216015322878886, 0.22982692197483115, 0.2918210597041159, 0.2793310612764877, 0.2605830615199475, 0.2352036605000986, 0.2026898938474298, 0.16698852649527743, 0.13365182783185037]}], {\"xaxis\": {\"title\": \"True Class\", \"dtick\": 1, \"range\": [0.5, 9.5], \"tickcolor\": \"#FFF\"}, \"plot_bgcolor\": \"#000\", \"titlefont\": {\"color\": \"#FFF\"}, \"paper_bgcolor\": \"#000\", \"height\": 300, \"yaxis\": {\"title\": \"Coefficient of Variation\", \"tickcolor\": \"#FFF\", \"showgrid\": true}, \"title\": \"Confidence after 250000 Iterations at Glimpse 3\", \"font\": {\"color\": \"#FFF\"}, \"width\": 500}, {\"showLink\": true, \"linkText\": \"Export to plot.ly\"})});</script>"
      ]
     },
     "metadata": {},
     "output_type": "display_data"
    },
    {
     "data": {
      "application/vnd.plotly.v1+json": {
       "data": [
        {
         "name": "Mean",
         "type": "scatter",
         "x": [
          1,
          2,
          3,
          4,
          5,
          6,
          7,
          8,
          9
         ],
         "y": [
          1.0014999999999998,
          2.0681000000000003,
          2.9784999999999995,
          3.9705999999999997,
          4.989,
          5.9784,
          6.909200000000001,
          7.710400000000002,
          8.271700000000001
         ]
        },
        {
         "name": "Standard Deviation",
         "type": "scatter",
         "x": [
          1,
          2,
          3,
          4,
          5,
          6,
          7,
          8,
          9
         ],
         "y": [
          0.02831635346817434,
          0.3377800680088714,
          0.7028909106388457,
          0.9157051373305141,
          1.0821575246022048,
          1.2053408933183998,
          1.2521260548487414,
          1.1225274160263343,
          0.8808926341017778
         ],
         "yaxis": "y2"
        }
       ],
       "layout": {
        "font": {
         "color": "#FFF"
        },
        "height": 500,
        "legend": {
         "x": 0,
         "y": 1
        },
        "paper_bgcolor": "#000",
        "plot_bgcolor": "#000",
        "title": "Choice after 250000 Iterations at Glimpse 3",
        "titlefont": {
         "color": "#FFF"
        },
        "width": 500,
        "xaxis": {
         "dtick": 1,
         "range": [
          0.5,
          9.5
         ],
         "tickcolor": "#FFF",
         "title": "True Class"
        },
        "yaxis": {
         "dtick": 1,
         "range": [
          0.5,
          9.5
         ],
         "tickcolor": "#FFF",
         "title": "Mean"
        },
        "yaxis2": {
         "gridcolor": "#999",
         "overlaying": "y",
         "range": [
          0,
          3
         ],
         "side": "right",
         "tickcolor": "#FFF",
         "title": "Standard Deviation"
        }
       }
      },
      "text/html": [
       "<div id=\"f2ede3f2-0cbd-4619-b4d4-c9aece1fb6e7\" style=\"height: 500px; width: 500px;\" class=\"plotly-graph-div\"></div><script type=\"text/javascript\">require([\"plotly\"], function(Plotly) { window.PLOTLYENV=window.PLOTLYENV || {};window.PLOTLYENV.BASE_URL=\"https://plot.ly\";Plotly.newPlot(\"f2ede3f2-0cbd-4619-b4d4-c9aece1fb6e7\", [{\"x\": [1, 2, 3, 4, 5, 6, 7, 8, 9], \"type\": \"scatter\", \"name\": \"Mean\", \"y\": [1.0014999999999998, 2.0681000000000003, 2.9784999999999995, 3.9705999999999997, 4.989, 5.9784, 6.909200000000001, 7.710400000000002, 8.271700000000001]}, {\"x\": [1, 2, 3, 4, 5, 6, 7, 8, 9], \"type\": \"scatter\", \"yaxis\": \"y2\", \"name\": \"Standard Deviation\", \"y\": [0.02831635346817434, 0.3377800680088714, 0.7028909106388457, 0.9157051373305141, 1.0821575246022048, 1.2053408933183998, 1.2521260548487414, 1.1225274160263343, 0.8808926341017778]}], {\"xaxis\": {\"title\": \"True Class\", \"dtick\": 1, \"range\": [0.5, 9.5], \"tickcolor\": \"#FFF\"}, \"plot_bgcolor\": \"#000\", \"yaxis2\": {\"overlaying\": \"y\", \"range\": [0, 3], \"gridcolor\": \"#999\", \"title\": \"Standard Deviation\", \"side\": \"right\", \"tickcolor\": \"#FFF\"}, \"yaxis\": {\"title\": \"Mean\", \"dtick\": 1, \"range\": [0.5, 9.5], \"tickcolor\": \"#FFF\"}, \"paper_bgcolor\": \"#000\", \"height\": 500, \"titlefont\": {\"color\": \"#FFF\"}, \"title\": \"Choice after 250000 Iterations at Glimpse 3\", \"font\": {\"color\": \"#FFF\"}, \"width\": 500, \"legend\": {\"x\": 0, \"y\": 1}}, {\"showLink\": true, \"linkText\": \"Export to plot.ly\"})});</script>"
      ],
      "text/vnd.plotly.v1+html": [
       "<div id=\"f2ede3f2-0cbd-4619-b4d4-c9aece1fb6e7\" style=\"height: 500px; width: 500px;\" class=\"plotly-graph-div\"></div><script type=\"text/javascript\">require([\"plotly\"], function(Plotly) { window.PLOTLYENV=window.PLOTLYENV || {};window.PLOTLYENV.BASE_URL=\"https://plot.ly\";Plotly.newPlot(\"f2ede3f2-0cbd-4619-b4d4-c9aece1fb6e7\", [{\"x\": [1, 2, 3, 4, 5, 6, 7, 8, 9], \"type\": \"scatter\", \"name\": \"Mean\", \"y\": [1.0014999999999998, 2.0681000000000003, 2.9784999999999995, 3.9705999999999997, 4.989, 5.9784, 6.909200000000001, 7.710400000000002, 8.271700000000001]}, {\"x\": [1, 2, 3, 4, 5, 6, 7, 8, 9], \"type\": \"scatter\", \"yaxis\": \"y2\", \"name\": \"Standard Deviation\", \"y\": [0.02831635346817434, 0.3377800680088714, 0.7028909106388457, 0.9157051373305141, 1.0821575246022048, 1.2053408933183998, 1.2521260548487414, 1.1225274160263343, 0.8808926341017778]}], {\"xaxis\": {\"title\": \"True Class\", \"dtick\": 1, \"range\": [0.5, 9.5], \"tickcolor\": \"#FFF\"}, \"plot_bgcolor\": \"#000\", \"yaxis2\": {\"overlaying\": \"y\", \"range\": [0, 3], \"gridcolor\": \"#999\", \"title\": \"Standard Deviation\", \"side\": \"right\", \"tickcolor\": \"#FFF\"}, \"yaxis\": {\"title\": \"Mean\", \"dtick\": 1, \"range\": [0.5, 9.5], \"tickcolor\": \"#FFF\"}, \"paper_bgcolor\": \"#000\", \"height\": 500, \"titlefont\": {\"color\": \"#FFF\"}, \"title\": \"Choice after 250000 Iterations at Glimpse 3\", \"font\": {\"color\": \"#FFF\"}, \"width\": 500, \"legend\": {\"x\": 0, \"y\": 1}}, {\"showLink\": true, \"linkText\": \"Export to plot.ly\"})});</script>"
      ]
     },
     "metadata": {},
     "output_type": "display_data"
    },
    {
     "data": {
      "application/vnd.plotly.v1+json": {
       "data": [
        {
         "name": "Coefficient of Variation",
         "type": "scatter",
         "x": [
          1,
          2,
          3,
          4,
          5,
          6,
          7,
          8,
          9
         ],
         "y": [
          0.028230284546296436,
          0.16300554220857183,
          0.23613361746336076,
          0.23045166169272419,
          0.2169185956171497,
          0.2015084081528761,
          0.1810387692206624,
          0.14522330103883807,
          0.10623541617805125
         ]
        }
       ],
       "layout": {
        "font": {
         "color": "#FFF"
        },
        "height": 300,
        "paper_bgcolor": "#000",
        "plot_bgcolor": "#000",
        "title": "Choice after 250000 Iterations at Glimpse 3",
        "titlefont": {
         "color": "#FFF"
        },
        "width": 500,
        "xaxis": {
         "dtick": 1,
         "range": [
          0.5,
          9.5
         ],
         "tickcolor": "#FFF",
         "title": "True Class"
        },
        "yaxis": {
         "showgrid": true,
         "tickcolor": "#FFF",
         "title": "Coefficient of Variation"
        }
       }
      },
      "text/html": [
       "<div id=\"3aff75c7-50aa-4da4-a70b-ec964ba721a0\" style=\"height: 300px; width: 500px;\" class=\"plotly-graph-div\"></div><script type=\"text/javascript\">require([\"plotly\"], function(Plotly) { window.PLOTLYENV=window.PLOTLYENV || {};window.PLOTLYENV.BASE_URL=\"https://plot.ly\";Plotly.newPlot(\"3aff75c7-50aa-4da4-a70b-ec964ba721a0\", [{\"x\": [1, 2, 3, 4, 5, 6, 7, 8, 9], \"type\": \"scatter\", \"name\": \"Coefficient of Variation\", \"y\": [0.028230284546296436, 0.16300554220857183, 0.23613361746336076, 0.23045166169272419, 0.2169185956171497, 0.2015084081528761, 0.1810387692206624, 0.14522330103883807, 0.10623541617805125]}], {\"xaxis\": {\"title\": \"True Class\", \"dtick\": 1, \"range\": [0.5, 9.5], \"tickcolor\": \"#FFF\"}, \"plot_bgcolor\": \"#000\", \"titlefont\": {\"color\": \"#FFF\"}, \"paper_bgcolor\": \"#000\", \"height\": 300, \"yaxis\": {\"title\": \"Coefficient of Variation\", \"tickcolor\": \"#FFF\", \"showgrid\": true}, \"title\": \"Choice after 250000 Iterations at Glimpse 3\", \"font\": {\"color\": \"#FFF\"}, \"width\": 500}, {\"showLink\": true, \"linkText\": \"Export to plot.ly\"})});</script>"
      ],
      "text/vnd.plotly.v1+html": [
       "<div id=\"3aff75c7-50aa-4da4-a70b-ec964ba721a0\" style=\"height: 300px; width: 500px;\" class=\"plotly-graph-div\"></div><script type=\"text/javascript\">require([\"plotly\"], function(Plotly) { window.PLOTLYENV=window.PLOTLYENV || {};window.PLOTLYENV.BASE_URL=\"https://plot.ly\";Plotly.newPlot(\"3aff75c7-50aa-4da4-a70b-ec964ba721a0\", [{\"x\": [1, 2, 3, 4, 5, 6, 7, 8, 9], \"type\": \"scatter\", \"name\": \"Coefficient of Variation\", \"y\": [0.028230284546296436, 0.16300554220857183, 0.23613361746336076, 0.23045166169272419, 0.2169185956171497, 0.2015084081528761, 0.1810387692206624, 0.14522330103883807, 0.10623541617805125]}], {\"xaxis\": {\"title\": \"True Class\", \"dtick\": 1, \"range\": [0.5, 9.5], \"tickcolor\": \"#FFF\"}, \"plot_bgcolor\": \"#000\", \"titlefont\": {\"color\": \"#FFF\"}, \"paper_bgcolor\": \"#000\", \"height\": 300, \"yaxis\": {\"title\": \"Coefficient of Variation\", \"tickcolor\": \"#FFF\", \"showgrid\": true}, \"title\": \"Choice after 250000 Iterations at Glimpse 3\", \"font\": {\"color\": \"#FFF\"}, \"width\": 500}, {\"showLink\": true, \"linkText\": \"Export to plot.ly\"})});</script>"
      ]
     },
     "metadata": {},
     "output_type": "display_data"
    },
    {
     "data": {
      "application/vnd.plotly.v1+json": {
       "data": [
        {
         "name": "Mean",
         "type": "scatter",
         "x": [
          1,
          2,
          3,
          4,
          5,
          6,
          7,
          8,
          9
         ],
         "y": [
          1.018009035639722,
          2.186481433917072,
          3.1575458461176016,
          4.167703085807771,
          5.137586852649743,
          6.045706179596645,
          6.825952562732006,
          7.459588913255625,
          7.905748347304076
         ]
        },
        {
         "name": "Standard Deviation",
         "type": "scatter",
         "x": [
          1,
          2,
          3,
          4,
          5,
          6,
          7,
          8,
          9
         ],
         "y": [
          0.12886900306950794,
          0.4882673785305297,
          0.9028131052564682,
          1.1519653900001634,
          1.335031459116847,
          1.4272379781047548,
          1.3928762080618726,
          1.2618575324112131,
          1.083827480519737
         ],
         "yaxis": "y2"
        }
       ],
       "layout": {
        "font": {
         "color": "#FFF"
        },
        "height": 500,
        "legend": {
         "x": 0,
         "y": 1
        },
        "paper_bgcolor": "#000",
        "plot_bgcolor": "#000",
        "title": "Confidence after 250000 Iterations at Glimpse 9",
        "titlefont": {
         "color": "#FFF"
        },
        "width": 500,
        "xaxis": {
         "dtick": 1,
         "range": [
          0.5,
          9.5
         ],
         "tickcolor": "#FFF",
         "title": "True Class"
        },
        "yaxis": {
         "dtick": 1,
         "range": [
          0.5,
          9.5
         ],
         "tickcolor": "#FFF",
         "title": "Mean"
        },
        "yaxis2": {
         "gridcolor": "#999",
         "overlaying": "y",
         "range": [
          0,
          3
         ],
         "side": "right",
         "tickcolor": "#FFF",
         "title": "Standard Deviation"
        }
       }
      },
      "text/html": [
       "<div id=\"56d1c827-dff1-4029-9474-ea369a36c3ee\" style=\"height: 500px; width: 500px;\" class=\"plotly-graph-div\"></div><script type=\"text/javascript\">require([\"plotly\"], function(Plotly) { window.PLOTLYENV=window.PLOTLYENV || {};window.PLOTLYENV.BASE_URL=\"https://plot.ly\";Plotly.newPlot(\"56d1c827-dff1-4029-9474-ea369a36c3ee\", [{\"x\": [1, 2, 3, 4, 5, 6, 7, 8, 9], \"type\": \"scatter\", \"name\": \"Mean\", \"y\": [1.018009035639722, 2.186481433917072, 3.1575458461176016, 4.167703085807771, 5.137586852649743, 6.045706179596645, 6.825952562732006, 7.459588913255625, 7.905748347304076]}, {\"x\": [1, 2, 3, 4, 5, 6, 7, 8, 9], \"type\": \"scatter\", \"yaxis\": \"y2\", \"name\": \"Standard Deviation\", \"y\": [0.12886900306950794, 0.4882673785305297, 0.9028131052564682, 1.1519653900001634, 1.335031459116847, 1.4272379781047548, 1.3928762080618726, 1.2618575324112131, 1.083827480519737]}], {\"xaxis\": {\"title\": \"True Class\", \"dtick\": 1, \"range\": [0.5, 9.5], \"tickcolor\": \"#FFF\"}, \"plot_bgcolor\": \"#000\", \"yaxis2\": {\"overlaying\": \"y\", \"range\": [0, 3], \"gridcolor\": \"#999\", \"title\": \"Standard Deviation\", \"side\": \"right\", \"tickcolor\": \"#FFF\"}, \"yaxis\": {\"title\": \"Mean\", \"dtick\": 1, \"range\": [0.5, 9.5], \"tickcolor\": \"#FFF\"}, \"paper_bgcolor\": \"#000\", \"height\": 500, \"titlefont\": {\"color\": \"#FFF\"}, \"title\": \"Confidence after 250000 Iterations at Glimpse 9\", \"font\": {\"color\": \"#FFF\"}, \"width\": 500, \"legend\": {\"x\": 0, \"y\": 1}}, {\"showLink\": true, \"linkText\": \"Export to plot.ly\"})});</script>"
      ],
      "text/vnd.plotly.v1+html": [
       "<div id=\"56d1c827-dff1-4029-9474-ea369a36c3ee\" style=\"height: 500px; width: 500px;\" class=\"plotly-graph-div\"></div><script type=\"text/javascript\">require([\"plotly\"], function(Plotly) { window.PLOTLYENV=window.PLOTLYENV || {};window.PLOTLYENV.BASE_URL=\"https://plot.ly\";Plotly.newPlot(\"56d1c827-dff1-4029-9474-ea369a36c3ee\", [{\"x\": [1, 2, 3, 4, 5, 6, 7, 8, 9], \"type\": \"scatter\", \"name\": \"Mean\", \"y\": [1.018009035639722, 2.186481433917072, 3.1575458461176016, 4.167703085807771, 5.137586852649743, 6.045706179596645, 6.825952562732006, 7.459588913255625, 7.905748347304076]}, {\"x\": [1, 2, 3, 4, 5, 6, 7, 8, 9], \"type\": \"scatter\", \"yaxis\": \"y2\", \"name\": \"Standard Deviation\", \"y\": [0.12886900306950794, 0.4882673785305297, 0.9028131052564682, 1.1519653900001634, 1.335031459116847, 1.4272379781047548, 1.3928762080618726, 1.2618575324112131, 1.083827480519737]}], {\"xaxis\": {\"title\": \"True Class\", \"dtick\": 1, \"range\": [0.5, 9.5], \"tickcolor\": \"#FFF\"}, \"plot_bgcolor\": \"#000\", \"yaxis2\": {\"overlaying\": \"y\", \"range\": [0, 3], \"gridcolor\": \"#999\", \"title\": \"Standard Deviation\", \"side\": \"right\", \"tickcolor\": \"#FFF\"}, \"yaxis\": {\"title\": \"Mean\", \"dtick\": 1, \"range\": [0.5, 9.5], \"tickcolor\": \"#FFF\"}, \"paper_bgcolor\": \"#000\", \"height\": 500, \"titlefont\": {\"color\": \"#FFF\"}, \"title\": \"Confidence after 250000 Iterations at Glimpse 9\", \"font\": {\"color\": \"#FFF\"}, \"width\": 500, \"legend\": {\"x\": 0, \"y\": 1}}, {\"showLink\": true, \"linkText\": \"Export to plot.ly\"})});</script>"
      ]
     },
     "metadata": {},
     "output_type": "display_data"
    },
    {
     "data": {
      "application/vnd.plotly.v1+json": {
       "data": [
        {
         "name": "Coefficient of Variation",
         "type": "scatter",
         "x": [
          1,
          2,
          3,
          4,
          5,
          6,
          7,
          8,
          9
         ],
         "y": [
          0.12624284467801744,
          0.22324413107254806,
          0.2861782738757766,
          0.27649140091134067,
          0.25984545621287547,
          0.23593551500335802,
          0.20393685216116936,
          0.16900406752196345,
          0.1369352700036442
         ]
        }
       ],
       "layout": {
        "font": {
         "color": "#FFF"
        },
        "height": 300,
        "paper_bgcolor": "#000",
        "plot_bgcolor": "#000",
        "title": "Confidence after 250000 Iterations at Glimpse 9",
        "titlefont": {
         "color": "#FFF"
        },
        "width": 500,
        "xaxis": {
         "dtick": 1,
         "range": [
          0.5,
          9.5
         ],
         "tickcolor": "#FFF",
         "title": "True Class"
        },
        "yaxis": {
         "showgrid": true,
         "tickcolor": "#FFF",
         "title": "Coefficient of Variation"
        }
       }
      },
      "text/html": [
       "<div id=\"497c4579-70cf-457e-8dd5-25d618f3e1a0\" style=\"height: 300px; width: 500px;\" class=\"plotly-graph-div\"></div><script type=\"text/javascript\">require([\"plotly\"], function(Plotly) { window.PLOTLYENV=window.PLOTLYENV || {};window.PLOTLYENV.BASE_URL=\"https://plot.ly\";Plotly.newPlot(\"497c4579-70cf-457e-8dd5-25d618f3e1a0\", [{\"x\": [1, 2, 3, 4, 5, 6, 7, 8, 9], \"type\": \"scatter\", \"name\": \"Coefficient of Variation\", \"y\": [0.12624284467801744, 0.22324413107254806, 0.2861782738757766, 0.27649140091134067, 0.25984545621287547, 0.23593551500335802, 0.20393685216116936, 0.16900406752196345, 0.1369352700036442]}], {\"xaxis\": {\"title\": \"True Class\", \"dtick\": 1, \"range\": [0.5, 9.5], \"tickcolor\": \"#FFF\"}, \"plot_bgcolor\": \"#000\", \"titlefont\": {\"color\": \"#FFF\"}, \"paper_bgcolor\": \"#000\", \"height\": 300, \"yaxis\": {\"title\": \"Coefficient of Variation\", \"tickcolor\": \"#FFF\", \"showgrid\": true}, \"title\": \"Confidence after 250000 Iterations at Glimpse 9\", \"font\": {\"color\": \"#FFF\"}, \"width\": 500}, {\"showLink\": true, \"linkText\": \"Export to plot.ly\"})});</script>"
      ],
      "text/vnd.plotly.v1+html": [
       "<div id=\"497c4579-70cf-457e-8dd5-25d618f3e1a0\" style=\"height: 300px; width: 500px;\" class=\"plotly-graph-div\"></div><script type=\"text/javascript\">require([\"plotly\"], function(Plotly) { window.PLOTLYENV=window.PLOTLYENV || {};window.PLOTLYENV.BASE_URL=\"https://plot.ly\";Plotly.newPlot(\"497c4579-70cf-457e-8dd5-25d618f3e1a0\", [{\"x\": [1, 2, 3, 4, 5, 6, 7, 8, 9], \"type\": \"scatter\", \"name\": \"Coefficient of Variation\", \"y\": [0.12624284467801744, 0.22324413107254806, 0.2861782738757766, 0.27649140091134067, 0.25984545621287547, 0.23593551500335802, 0.20393685216116936, 0.16900406752196345, 0.1369352700036442]}], {\"xaxis\": {\"title\": \"True Class\", \"dtick\": 1, \"range\": [0.5, 9.5], \"tickcolor\": \"#FFF\"}, \"plot_bgcolor\": \"#000\", \"titlefont\": {\"color\": \"#FFF\"}, \"paper_bgcolor\": \"#000\", \"height\": 300, \"yaxis\": {\"title\": \"Coefficient of Variation\", \"tickcolor\": \"#FFF\", \"showgrid\": true}, \"title\": \"Confidence after 250000 Iterations at Glimpse 9\", \"font\": {\"color\": \"#FFF\"}, \"width\": 500}, {\"showLink\": true, \"linkText\": \"Export to plot.ly\"})});</script>"
      ]
     },
     "metadata": {},
     "output_type": "display_data"
    },
    {
     "data": {
      "application/vnd.plotly.v1+json": {
       "data": [
        {
         "name": "Mean",
         "type": "scatter",
         "x": [
          1,
          2,
          3,
          4,
          5,
          6,
          7,
          8,
          9
         ],
         "y": [
          1.004,
          2.0751,
          2.9977000000000005,
          4.0014,
          4.9868,
          5.9536,
          6.8652,
          7.678700000000001,
          8.239600000000001
         ]
        },
        {
         "name": "Standard Deviation",
         "type": "scatter",
         "x": [
          1,
          2,
          3,
          4,
          5,
          6,
          7,
          8,
          9
         ],
         "y": [
          0.05130434653526063,
          0.3303000778250066,
          0.7035851205815589,
          0.8979933325406424,
          1.0477002561508666,
          1.1829503722148709,
          1.2355877166739162,
          1.124787075121993,
          0.8997613657796428
         ],
         "yaxis": "y2"
        }
       ],
       "layout": {
        "font": {
         "color": "#FFF"
        },
        "height": 500,
        "legend": {
         "x": 0,
         "y": 1
        },
        "paper_bgcolor": "#000",
        "plot_bgcolor": "#000",
        "title": "Choice after 250000 Iterations at Glimpse 9",
        "titlefont": {
         "color": "#FFF"
        },
        "width": 500,
        "xaxis": {
         "dtick": 1,
         "range": [
          0.5,
          9.5
         ],
         "tickcolor": "#FFF",
         "title": "True Class"
        },
        "yaxis": {
         "dtick": 1,
         "range": [
          0.5,
          9.5
         ],
         "tickcolor": "#FFF",
         "title": "Mean"
        },
        "yaxis2": {
         "gridcolor": "#999",
         "overlaying": "y",
         "range": [
          0,
          3
         ],
         "side": "right",
         "tickcolor": "#FFF",
         "title": "Standard Deviation"
        }
       }
      },
      "text/html": [
       "<div id=\"cec4a638-ee2f-4bce-832b-6f76e05f7255\" style=\"height: 500px; width: 500px;\" class=\"plotly-graph-div\"></div><script type=\"text/javascript\">require([\"plotly\"], function(Plotly) { window.PLOTLYENV=window.PLOTLYENV || {};window.PLOTLYENV.BASE_URL=\"https://plot.ly\";Plotly.newPlot(\"cec4a638-ee2f-4bce-832b-6f76e05f7255\", [{\"x\": [1, 2, 3, 4, 5, 6, 7, 8, 9], \"type\": \"scatter\", \"name\": \"Mean\", \"y\": [1.004, 2.0751, 2.9977000000000005, 4.0014, 4.9868, 5.9536, 6.8652, 7.678700000000001, 8.239600000000001]}, {\"x\": [1, 2, 3, 4, 5, 6, 7, 8, 9], \"type\": \"scatter\", \"yaxis\": \"y2\", \"name\": \"Standard Deviation\", \"y\": [0.05130434653526063, 0.3303000778250066, 0.7035851205815589, 0.8979933325406424, 1.0477002561508666, 1.1829503722148709, 1.2355877166739162, 1.124787075121993, 0.8997613657796428]}], {\"xaxis\": {\"title\": \"True Class\", \"dtick\": 1, \"range\": [0.5, 9.5], \"tickcolor\": \"#FFF\"}, \"plot_bgcolor\": \"#000\", \"yaxis2\": {\"overlaying\": \"y\", \"range\": [0, 3], \"gridcolor\": \"#999\", \"title\": \"Standard Deviation\", \"side\": \"right\", \"tickcolor\": \"#FFF\"}, \"yaxis\": {\"title\": \"Mean\", \"dtick\": 1, \"range\": [0.5, 9.5], \"tickcolor\": \"#FFF\"}, \"paper_bgcolor\": \"#000\", \"height\": 500, \"titlefont\": {\"color\": \"#FFF\"}, \"title\": \"Choice after 250000 Iterations at Glimpse 9\", \"font\": {\"color\": \"#FFF\"}, \"width\": 500, \"legend\": {\"x\": 0, \"y\": 1}}, {\"showLink\": true, \"linkText\": \"Export to plot.ly\"})});</script>"
      ],
      "text/vnd.plotly.v1+html": [
       "<div id=\"cec4a638-ee2f-4bce-832b-6f76e05f7255\" style=\"height: 500px; width: 500px;\" class=\"plotly-graph-div\"></div><script type=\"text/javascript\">require([\"plotly\"], function(Plotly) { window.PLOTLYENV=window.PLOTLYENV || {};window.PLOTLYENV.BASE_URL=\"https://plot.ly\";Plotly.newPlot(\"cec4a638-ee2f-4bce-832b-6f76e05f7255\", [{\"x\": [1, 2, 3, 4, 5, 6, 7, 8, 9], \"type\": \"scatter\", \"name\": \"Mean\", \"y\": [1.004, 2.0751, 2.9977000000000005, 4.0014, 4.9868, 5.9536, 6.8652, 7.678700000000001, 8.239600000000001]}, {\"x\": [1, 2, 3, 4, 5, 6, 7, 8, 9], \"type\": \"scatter\", \"yaxis\": \"y2\", \"name\": \"Standard Deviation\", \"y\": [0.05130434653526063, 0.3303000778250066, 0.7035851205815589, 0.8979933325406424, 1.0477002561508666, 1.1829503722148709, 1.2355877166739162, 1.124787075121993, 0.8997613657796428]}], {\"xaxis\": {\"title\": \"True Class\", \"dtick\": 1, \"range\": [0.5, 9.5], \"tickcolor\": \"#FFF\"}, \"plot_bgcolor\": \"#000\", \"yaxis2\": {\"overlaying\": \"y\", \"range\": [0, 3], \"gridcolor\": \"#999\", \"title\": \"Standard Deviation\", \"side\": \"right\", \"tickcolor\": \"#FFF\"}, \"yaxis\": {\"title\": \"Mean\", \"dtick\": 1, \"range\": [0.5, 9.5], \"tickcolor\": \"#FFF\"}, \"paper_bgcolor\": \"#000\", \"height\": 500, \"titlefont\": {\"color\": \"#FFF\"}, \"title\": \"Choice after 250000 Iterations at Glimpse 9\", \"font\": {\"color\": \"#FFF\"}, \"width\": 500, \"legend\": {\"x\": 0, \"y\": 1}}, {\"showLink\": true, \"linkText\": \"Export to plot.ly\"})});</script>"
      ]
     },
     "metadata": {},
     "output_type": "display_data"
    },
    {
     "data": {
      "application/vnd.plotly.v1+json": {
       "data": [
        {
         "name": "Coefficient of Variation",
         "type": "scatter",
         "x": [
          1,
          2,
          3,
          4,
          5,
          6,
          7,
          8,
          9
         ],
         "y": [
          0.05098157593106149,
          0.15892461739653588,
          0.23494242562669224,
          0.2245625760463555,
          0.21020746072404223,
          0.1985548712878457,
          0.17987290374948245,
          0.14613877190819682,
          0.10895143215344143
         ]
        }
       ],
       "layout": {
        "font": {
         "color": "#FFF"
        },
        "height": 300,
        "paper_bgcolor": "#000",
        "plot_bgcolor": "#000",
        "title": "Choice after 250000 Iterations at Glimpse 9",
        "titlefont": {
         "color": "#FFF"
        },
        "width": 500,
        "xaxis": {
         "dtick": 1,
         "range": [
          0.5,
          9.5
         ],
         "tickcolor": "#FFF",
         "title": "True Class"
        },
        "yaxis": {
         "showgrid": true,
         "tickcolor": "#FFF",
         "title": "Coefficient of Variation"
        }
       }
      },
      "text/html": [
       "<div id=\"311f580c-19b5-41a7-8edc-a2bebe210205\" style=\"height: 300px; width: 500px;\" class=\"plotly-graph-div\"></div><script type=\"text/javascript\">require([\"plotly\"], function(Plotly) { window.PLOTLYENV=window.PLOTLYENV || {};window.PLOTLYENV.BASE_URL=\"https://plot.ly\";Plotly.newPlot(\"311f580c-19b5-41a7-8edc-a2bebe210205\", [{\"x\": [1, 2, 3, 4, 5, 6, 7, 8, 9], \"type\": \"scatter\", \"name\": \"Coefficient of Variation\", \"y\": [0.05098157593106149, 0.15892461739653588, 0.23494242562669224, 0.2245625760463555, 0.21020746072404223, 0.1985548712878457, 0.17987290374948245, 0.14613877190819682, 0.10895143215344143]}], {\"xaxis\": {\"title\": \"True Class\", \"dtick\": 1, \"range\": [0.5, 9.5], \"tickcolor\": \"#FFF\"}, \"plot_bgcolor\": \"#000\", \"titlefont\": {\"color\": \"#FFF\"}, \"paper_bgcolor\": \"#000\", \"height\": 300, \"yaxis\": {\"title\": \"Coefficient of Variation\", \"tickcolor\": \"#FFF\", \"showgrid\": true}, \"title\": \"Choice after 250000 Iterations at Glimpse 9\", \"font\": {\"color\": \"#FFF\"}, \"width\": 500}, {\"showLink\": true, \"linkText\": \"Export to plot.ly\"})});</script>"
      ],
      "text/vnd.plotly.v1+html": [
       "<div id=\"311f580c-19b5-41a7-8edc-a2bebe210205\" style=\"height: 300px; width: 500px;\" class=\"plotly-graph-div\"></div><script type=\"text/javascript\">require([\"plotly\"], function(Plotly) { window.PLOTLYENV=window.PLOTLYENV || {};window.PLOTLYENV.BASE_URL=\"https://plot.ly\";Plotly.newPlot(\"311f580c-19b5-41a7-8edc-a2bebe210205\", [{\"x\": [1, 2, 3, 4, 5, 6, 7, 8, 9], \"type\": \"scatter\", \"name\": \"Coefficient of Variation\", \"y\": [0.05098157593106149, 0.15892461739653588, 0.23494242562669224, 0.2245625760463555, 0.21020746072404223, 0.1985548712878457, 0.17987290374948245, 0.14613877190819682, 0.10895143215344143]}], {\"xaxis\": {\"title\": \"True Class\", \"dtick\": 1, \"range\": [0.5, 9.5], \"tickcolor\": \"#FFF\"}, \"plot_bgcolor\": \"#000\", \"titlefont\": {\"color\": \"#FFF\"}, \"paper_bgcolor\": \"#000\", \"height\": 300, \"yaxis\": {\"title\": \"Coefficient of Variation\", \"tickcolor\": \"#FFF\", \"showgrid\": true}, \"title\": \"Choice after 250000 Iterations at Glimpse 9\", \"font\": {\"color\": \"#FFF\"}, \"width\": 500}, {\"showLink\": true, \"linkText\": \"Export to plot.ly\"})});</script>"
      ]
     },
     "metadata": {},
     "output_type": "display_data"
    }
   ],
   "source": [
    "for i, it in enumerate(iter_list):\n",
    "    for g, glimpse in enumerate(glimpse_list):\n",
    "        plot_confidence_msdcv(i, it, g, glimpse)\n",
    "        plot_choice_msdcv(i, it, g, glimpse)"
   ]
  },
  {
   "cell_type": "code",
   "execution_count": null,
   "metadata": {
    "collapsed": true
   },
   "outputs": [],
   "source": []
  }
 ],
 "metadata": {
  "kernelspec": {
   "display_name": "Python 3",
   "language": "python",
   "name": "python3"
  },
  "language_info": {
   "codemirror_mode": {
    "name": "ipython",
    "version": 3
   },
   "file_extension": ".py",
   "mimetype": "text/x-python",
   "name": "python",
   "nbconvert_exporter": "python",
   "pygments_lexer": "ipython3",
   "version": "3.5.2"
  }
 },
 "nbformat": 4,
 "nbformat_minor": 2
}
