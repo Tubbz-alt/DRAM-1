{
 "cells": [
  {
   "cell_type": "markdown",
   "metadata": {},
   "source": [
    "# Confidence and Choice Visualizer"
   ]
  },
  {
   "cell_type": "markdown",
   "metadata": {},
   "source": [
    "Run DRAM_classify_blobs 10 times (use runDRAM_classify_blobs.sh in hydra), then copy all the checkpoints to guppy (use copyDRAM_classify_blobs_ckpts.sh in hydra and enter password 10x).\n",
    "\n",
    "Make sure these are the <b>guppy</b> model_settings: <br />\n",
    "min_edge = 2 <br />\n",
    "max_edge = 5 <br />\n",
    "min_blobs = 1 <br />\n",
    "max_blobs = 9 (15 for DRAM_classify_blobs_2)<br />\n",
    "glimpses = max_blobs + 1 <br />\n",
    "batch_size = 9000 (100 on hydra)\n",
    "\n",
    "You could then use this entire program or use ClassificationDistributions.ipynb to output confidence_one_run for each run, and set them as the confidence for each run in confidence_all_runs."
   ]
  },
  {
   "cell_type": "code",
   "execution_count": 1,
   "metadata": {},
   "outputs": [
    {
     "data": {
      "text/html": [
       "<script>requirejs.config({paths: { 'plotly': ['https://cdn.plot.ly/plotly-latest.min']},});if(!window.Plotly) {{require(['plotly'],function(plotly) {window.Plotly=plotly;});}}</script>"
      ],
      "text/vnd.plotly.v1+html": [
       "<script>requirejs.config({paths: { 'plotly': ['https://cdn.plot.ly/plotly-latest.min']},});if(!window.Plotly) {{require(['plotly'],function(plotly) {window.Plotly=plotly;});}}</script>"
      ]
     },
     "metadata": {},
     "output_type": "display_data"
    },
    {
     "name": "stdout",
     "output_type": "stream",
     "text": [
      "['/usr/local/lib/python3.5/dist-packages/ipykernel_launcher.py', '-f', 'true', 'true', 'true', 'true', 'true', 'model_runs/-f/classify_log.csv', 'model_runs/-f/classifymodel_0.ckpt', 'model_runs/-f/classifymodel_', 'model_runs/-f/zzzdraw_data_5000.npy', 'false', 'true', 'false', 'false', 'true']\n",
      "analysis.py\n"
     ]
    }
   ],
   "source": [
    "import numpy as np\n",
    "from plotly.offline import download_plotlyjs, init_notebook_mode, plot, iplot\n",
    "init_notebook_mode(connected=True)\n",
    "import plotly.graph_objs as go\n",
    "from analysis import read_n, classify_imgs2"
   ]
  },
  {
   "cell_type": "code",
   "execution_count": 2,
   "metadata": {
    "collapsed": true
   },
   "outputs": [],
   "source": [
    "model_name = \"DRAM_classify_blobs_2\"\n",
    "num_runs = 10\n",
    "iter_list = [32000]#[0, 250, 1000, 4000, 16000, 32000, 64000, 125000, 250000, 500000]\n",
    "glimpse_list = [0, 3, 9]\n",
    "max_blobs = 15\n",
    "min_blobs = 1\n",
    "\n",
    "num_iters = len(iter_list)\n",
    "num_glimpses = len(glimpse_list)\n",
    "z_size = max_blobs - min_blobs + 1\n",
    "data_directory = \"data/\" + model_name + \"/\"\n",
    "m = 0.5\n",
    "\n",
    "confidence_all_runs = np.zeros([num_runs, num_iters, num_glimpses, z_size, z_size])\n",
    "choice_all_runs = np.zeros([num_runs, num_iters, num_glimpses, z_size, z_size])"
   ]
  },
  {
   "cell_type": "code",
   "execution_count": 3,
   "metadata": {
    "collapsed": true
   },
   "outputs": [],
   "source": [
    "def fill_matrix(path, iteration):\n",
    "    \"\"\"Fill the confidence and choice matrices for one run at one iteration.\"\"\"\n",
    "    \n",
    "    data = None\n",
    "    num_imgs = 9000\n",
    "    imgs_data = classify_imgs2(iteration, True, num_imgs, path=path)\n",
    "        \n",
    "    confidence_one_run = np.zeros([num_glimpses, z_size, z_size])\n",
    "    choice_one_run = np.zeros([num_glimpses, z_size, z_size])\n",
    "    \n",
    "    for g, glimpse in enumerate(glimpse_list):\n",
    "\n",
    "        for nb in range(z_size):\n",
    "            num_blobs = nb + min_blobs\n",
    "            confidence_hist = np.zeros(z_size)\n",
    "            choice_hist = np.zeros(z_size)\n",
    "            num_imgs_with_num_blobs = 0\n",
    "\n",
    "            for idx, data in enumerate(imgs_data):\n",
    "\n",
    "                if data[\"label\"][nb] == 1: # data is for an image with num_blobs blobs\n",
    "                    num_imgs_with_num_blobs += 1\n",
    "\n",
    "                    # Histogram of softmaxes\n",
    "                    confidence_hist += data[\"classifications\"][glimpse][0]\n",
    "\n",
    "                    # Histogram of choices\n",
    "                    choice = np.argmax(data[\"classifications\"][glimpse][0])\n",
    "                    choice_list = [0] * z_size\n",
    "                    choice_list[choice] = 1\n",
    "                    choice_hist += choice_list\n",
    "\n",
    "            confidence_hist = confidence_hist / num_imgs_with_num_blobs\n",
    "            confidence_one_run[g, nb] = confidence_hist.tolist()\n",
    "\n",
    "            choice_hist = choice_hist / num_imgs_with_num_blobs\n",
    "            choice_one_run[g, nb] = choice_hist.tolist()\n",
    "        \n",
    "#     print(\"Confidence (One Run): \")\n",
    "#     print(confidence_one_run.tolist())\n",
    "#     print(\"Choice (One Run): \")\n",
    "#     print(choice_one_run.tolist())\n",
    "    return confidence_one_run, choice_one_run"
   ]
  },
  {
   "cell_type": "code",
   "execution_count": 4,
   "metadata": {
    "scrolled": true
   },
   "outputs": [
    {
     "name": "stdout",
     "output_type": "stream",
     "text": [
      "INFO:tensorflow:Restoring parameters from model_runs/DRAM_classify_blobs_2_run_1/classifymodel_32000.ckpt\n",
      "INFO:tensorflow:Restoring parameters from model_runs/DRAM_classify_blobs_2_run_2/classifymodel_32000.ckpt\n",
      "INFO:tensorflow:Restoring parameters from model_runs/DRAM_classify_blobs_2_run_3/classifymodel_32000.ckpt\n",
      "INFO:tensorflow:Restoring parameters from model_runs/DRAM_classify_blobs_2_run_4/classifymodel_32000.ckpt\n",
      "INFO:tensorflow:Restoring parameters from model_runs/DRAM_classify_blobs_2_run_5/classifymodel_32000.ckpt\n",
      "INFO:tensorflow:Restoring parameters from model_runs/DRAM_classify_blobs_2_run_6/classifymodel_32000.ckpt\n",
      "INFO:tensorflow:Restoring parameters from model_runs/DRAM_classify_blobs_2_run_7/classifymodel_32000.ckpt\n",
      "INFO:tensorflow:Restoring parameters from model_runs/DRAM_classify_blobs_2_run_8/classifymodel_32000.ckpt\n",
      "INFO:tensorflow:Restoring parameters from model_runs/DRAM_classify_blobs_2_run_9/classifymodel_32000.ckpt\n",
      "INFO:tensorflow:Restoring parameters from model_runs/DRAM_classify_blobs_2_run_10/classifymodel_32000.ckpt\n"
     ]
    }
   ],
   "source": [
    "for run in range(num_runs):\n",
    "    path = 'model_runs/' + model_name + '_run_' + str(run + 1)\n",
    "#     path = 'model_runs/DRAM_test_square'\n",
    "    for i, iteration in enumerate(iter_list):\n",
    "        confidence_all_runs[run, i], choice_all_runs[run, i] = fill_matrix(path, iteration)"
   ]
  },
  {
   "cell_type": "code",
   "execution_count": 5,
   "metadata": {
    "collapsed": true
   },
   "outputs": [],
   "source": [
    "def adj_all_runs(all_runs_matrix):\n",
    "    \"\"\"Adjust all the matrices so tick marks start with 1.\"\"\"\n",
    "    \n",
    "    new_all_runs_matrix = np.zeros([num_runs, num_iters, num_glimpses, z_size + 1, z_size + 1])\n",
    "    for m, matrix in enumerate(all_runs_matrix):\n",
    "        for i in range(num_iters):\n",
    "            for g in range(num_glimpses):\n",
    "                new_all_runs_matrix[m, i, g] = adj_matrix(matrix[i, g])\n",
    "    return new_all_runs_matrix\n",
    "\n",
    "\n",
    "def adj_matrix(matrix):\n",
    "    \"\"\"Adjust the matrix so tick marks start with 1.\"\"\"\n",
    "    \n",
    "    a = np.zeros([1, z_size])\n",
    "    temp = np.vstack((a, matrix))\n",
    "    b = np.zeros([z_size + 1, 1])\n",
    "    new_matrix = np.hstack((b, temp))\n",
    "    return new_matrix\n",
    "\n",
    "\n",
    "confidence_all_runs_adj = adj_all_runs(confidence_all_runs)\n",
    "choice_all_runs_adj = adj_all_runs(choice_all_runs)"
   ]
  },
  {
   "cell_type": "code",
   "execution_count": 6,
   "metadata": {
    "collapsed": true
   },
   "outputs": [],
   "source": [
    "confidence_avg = np.mean(confidence_all_runs_adj, axis=0)\n",
    "choice_avg = np.mean(choice_all_runs_adj, axis=0)"
   ]
  },
  {
   "cell_type": "code",
   "execution_count": 7,
   "metadata": {
    "collapsed": true
   },
   "outputs": [],
   "source": [
    "def plot_confidence(iter_idx, it, g, glimpse, run=None):\n",
    "    \"\"\"Plot the confidence heatmap.\"\"\"\n",
    "    \n",
    "    if run is None:\n",
    "        matrix = confidence_avg[iter_idx, g]\n",
    "        plot_title = \"Confidence after %d Iterations at Glimpse %d\" % (it, glimpse)\n",
    "\n",
    "    else:\n",
    "        matrix = confidence_all_runs_adj[run, iter_idx, g]\n",
    "        plot_title = \"Confidence at Run %d after %d Iterations at Glimpse %d\" % (run + 1, it, glimpse)\n",
    "    plot_heatmap(matrix, plot_title)\n",
    "\n",
    "\n",
    "def plot_choice(iter_idx, it, g, glimpse, run=None):\n",
    "    \"\"\"Plot the choice heatmap.\"\"\"\n",
    "    \n",
    "    if run is None:\n",
    "        matrix = choice_avg[iter_idx, g]\n",
    "        plot_title = \"Choice after %d Iterations at Glimpse %d\" % (it, glimpse)\n",
    "    else:\n",
    "        matrix = choice_all_runs_adj[run, iter_idx, g]\n",
    "        plot_title = \"Choice at Run %d after %d Iterations at Glimpse %d\" % (run + 1, it, glimpse)\n",
    "    plot_heatmap(matrix, plot_title)\n",
    "    \n",
    "    \n",
    "def plot_heatmap(matrix, plot_title):\n",
    "    \"\"\"Plot heatmap.\"\"\"\n",
    "    \n",
    "    data = [go.Heatmap(\n",
    "        z=matrix,\n",
    "        colorscale=\"Jet\"\n",
    "    )]\n",
    "\n",
    "    layout = go.Layout(\n",
    "        title=plot_title,\n",
    "        yaxis=dict(\n",
    "#             range=[max_blobs + m, min_blobs - m],\n",
    "            range=[9 + m, min_blobs - m],\n",
    "            title=\"True Class\",\n",
    "            dtick=1,\n",
    "            tickcolor='#FFF'\n",
    "        ),\n",
    "        xaxis=dict(\n",
    "            range=[min_blobs - m, max_blobs + m],\n",
    "            title=\"Predicted Class\",\n",
    "            dtick=1,\n",
    "            tickcolor='#FFF'\n",
    "        ),\n",
    "        width=500,\n",
    "        height=500,\n",
    "        plot_bgcolor=\"#000\",\n",
    "        paper_bgcolor=\"#000\",\n",
    "        font=dict(\n",
    "            color=\"#FFF\"\n",
    "        ),\n",
    "        titlefont=dict(\n",
    "            color=\"#FFF\"\n",
    "        ),\n",
    "    )\n",
    "    fig = go.Figure(data=data, layout=layout)\n",
    "    iplot(fig)"
   ]
  },
  {
   "cell_type": "code",
   "execution_count": 8,
   "metadata": {},
   "outputs": [
    {
     "data": {
      "application/vnd.plotly.v1+json": {
       "data": [
        {
         "colorscale": "Jet",
         "type": "heatmap",
         "z": [
          [
           0,
           0,
           0,
           0,
           0,
           0,
           0,
           0,
           0,
           0,
           0,
           0,
           0,
           0,
           0,
           0
          ],
          [
           0,
           0.8080887621688857,
           0.11452227366467567,
           0.03289677755702842,
           0.01501312514201747,
           0.00892515647267728,
           0.005234994499787291,
           0.004246037260071861,
           0.0028240127441675695,
           0.0025216438368337616,
           0.0013315014311399802,
           0.0013254969627806057,
           0.0010336047151666321,
           0.0007106279282315751,
           0.0006990946719555817,
           0.0006269079776070253
          ],
          [
           0,
           0.45761469225301327,
           0.32251043497588633,
           0.11533968637370288,
           0.0452317509202118,
           0.02157834725614588,
           0.010483464544708485,
           0.008191333627676772,
           0.00541210784663013,
           0.0039016294422112817,
           0.002274233616504236,
           0.0021513148477732376,
           0.001565713622292933,
           0.0011966269669013133,
           0.001213981362612506,
           0.001334691747061764
          ],
          [
           0,
           0.2859242222440107,
           0.287258559585596,
           0.1911652709805256,
           0.104988375404282,
           0.054726866041724456,
           0.025952841875394483,
           0.01695222389152206,
           0.01025523018443765,
           0.007366631810260147,
           0.004069958265231273,
           0.003124691304990361,
           0.002791641802225105,
           0.0017096873108344481,
           0.0018798455736462444,
           0.0018339595675557745
          ],
          [
           0,
           0.2303040910088081,
           0.17786964444187908,
           0.18982179383722092,
           0.14758894312854282,
           0.102039705422685,
           0.05444311430291523,
           0.038345465119643825,
           0.019722372973720252,
           0.013283110619581156,
           0.007719962073736157,
           0.00607044768919235,
           0.004430057981898233,
           0.002537542842459702,
           0.0027480245040489896,
           0.0030757288922863323
          ],
          [
           0,
           0.20861010949602762,
           0.11718280114474008,
           0.14291305693696,
           0.14611321343793662,
           0.1292505251498666,
           0.08348890890571112,
           0.06857739332895464,
           0.032677642329323034,
           0.023874012442106712,
           0.01539794947748987,
           0.010497105942222095,
           0.00802944871744746,
           0.004800992185975579,
           0.004277592537681518,
           0.00430924896066748
          ],
          [
           0,
           0.19240780496570586,
           0.08600027831060432,
           0.09872246678444767,
           0.11767598145954392,
           0.13520003587826973,
           0.10175787767434794,
           0.09768621189909181,
           0.051044291559190214,
           0.04065304146714917,
           0.027859152570274666,
           0.016783186184217307,
           0.012705806243646025,
           0.008650655945622384,
           0.006704574479734946,
           0.006148636342237683
          ],
          [
           0,
           0.1798582561563972,
           0.07544033159170122,
           0.0706065191023108,
           0.08845265265325714,
           0.12007878738737536,
           0.10203899366049322,
           0.11132552500705331,
           0.06228545220000579,
           0.058212765404676924,
           0.045393239655333664,
           0.026504453661972526,
           0.021531390793517634,
           0.01575310071463232,
           0.011446637937647993,
           0.011071895807493182
          ],
          [
           0,
           0.16800990971501856,
           0.0669610031830455,
           0.05632545192841264,
           0.06680959478754528,
           0.09711229870705622,
           0.09407288631882628,
           0.11050171690025334,
           0.07149269004211191,
           0.0723972704662069,
           0.06326685602481061,
           0.03953001301128399,
           0.031975407923306554,
           0.026589094219068642,
           0.016920153915221947,
           0.01803565437565625
          ],
          [
           0,
           0.15691445384981892,
           0.06357080807944511,
           0.04889475930374364,
           0.052049730791329275,
           0.07823097738026771,
           0.08242517480402449,
           0.10116784307047197,
           0.0731548483109981,
           0.08303145649865545,
           0.07543310996043881,
           0.051316055067059996,
           0.04436092924072041,
           0.03752802263980557,
           0.027084526335540447,
           0.024837305013168047
          ],
          [
           0,
           null,
           null,
           null,
           null,
           null,
           null,
           null,
           null,
           null,
           null,
           null,
           null,
           null,
           null,
           null
          ],
          [
           0,
           null,
           null,
           null,
           null,
           null,
           null,
           null,
           null,
           null,
           null,
           null,
           null,
           null,
           null,
           null
          ],
          [
           0,
           null,
           null,
           null,
           null,
           null,
           null,
           null,
           null,
           null,
           null,
           null,
           null,
           null,
           null,
           null
          ],
          [
           0,
           null,
           null,
           null,
           null,
           null,
           null,
           null,
           null,
           null,
           null,
           null,
           null,
           null,
           null,
           null
          ],
          [
           0,
           null,
           null,
           null,
           null,
           null,
           null,
           null,
           null,
           null,
           null,
           null,
           null,
           null,
           null,
           null
          ],
          [
           0,
           null,
           null,
           null,
           null,
           null,
           null,
           null,
           null,
           null,
           null,
           null,
           null,
           null,
           null,
           null
          ]
         ]
        }
       ],
       "layout": {
        "font": {
         "color": "#FFF"
        },
        "height": 500,
        "paper_bgcolor": "#000",
        "plot_bgcolor": "#000",
        "title": "Confidence after 32000 Iterations at Glimpse 0",
        "titlefont": {
         "color": "#FFF"
        },
        "width": 500,
        "xaxis": {
         "dtick": 1,
         "range": [
          0.5,
          15.5
         ],
         "tickcolor": "#FFF",
         "title": "Predicted Class"
        },
        "yaxis": {
         "dtick": 1,
         "range": [
          9.5,
          0.5
         ],
         "tickcolor": "#FFF",
         "title": "True Class"
        }
       }
      },
      "text/html": [
       "<div id=\"214eb0d3-c4f4-48ea-bcda-cdfff1d327a0\" style=\"height: 500px; width: 500px;\" class=\"plotly-graph-div\"></div><script type=\"text/javascript\">require([\"plotly\"], function(Plotly) { window.PLOTLYENV=window.PLOTLYENV || {};window.PLOTLYENV.BASE_URL=\"https://plot.ly\";Plotly.newPlot(\"214eb0d3-c4f4-48ea-bcda-cdfff1d327a0\", [{\"z\": [[0.0, 0.0, 0.0, 0.0, 0.0, 0.0, 0.0, 0.0, 0.0, 0.0, 0.0, 0.0, 0.0, 0.0, 0.0, 0.0], [0.0, 0.8080887621688857, 0.11452227366467567, 0.03289677755702842, 0.01501312514201747, 0.00892515647267728, 0.005234994499787291, 0.004246037260071861, 0.0028240127441675695, 0.0025216438368337616, 0.0013315014311399802, 0.0013254969627806057, 0.0010336047151666321, 0.0007106279282315751, 0.0006990946719555817, 0.0006269079776070253], [0.0, 0.45761469225301327, 0.32251043497588633, 0.11533968637370288, 0.0452317509202118, 0.02157834725614588, 0.010483464544708485, 0.008191333627676772, 0.00541210784663013, 0.0039016294422112817, 0.002274233616504236, 0.0021513148477732376, 0.001565713622292933, 0.0011966269669013133, 0.001213981362612506, 0.001334691747061764], [0.0, 0.2859242222440107, 0.287258559585596, 0.1911652709805256, 0.104988375404282, 0.054726866041724456, 0.025952841875394483, 0.01695222389152206, 0.01025523018443765, 0.007366631810260147, 0.004069958265231273, 0.003124691304990361, 0.002791641802225105, 0.0017096873108344481, 0.0018798455736462444, 0.0018339595675557745], [0.0, 0.2303040910088081, 0.17786964444187908, 0.18982179383722092, 0.14758894312854282, 0.102039705422685, 0.05444311430291523, 0.038345465119643825, 0.019722372973720252, 0.013283110619581156, 0.007719962073736157, 0.00607044768919235, 0.004430057981898233, 0.002537542842459702, 0.0027480245040489896, 0.0030757288922863323], [0.0, 0.20861010949602762, 0.11718280114474008, 0.14291305693696, 0.14611321343793662, 0.1292505251498666, 0.08348890890571112, 0.06857739332895464, 0.032677642329323034, 0.023874012442106712, 0.01539794947748987, 0.010497105942222095, 0.00802944871744746, 0.004800992185975579, 0.004277592537681518, 0.00430924896066748], [0.0, 0.19240780496570586, 0.08600027831060432, 0.09872246678444767, 0.11767598145954392, 0.13520003587826973, 0.10175787767434794, 0.09768621189909181, 0.051044291559190214, 0.04065304146714917, 0.027859152570274666, 0.016783186184217307, 0.012705806243646025, 0.008650655945622384, 0.006704574479734946, 0.006148636342237683], [0.0, 0.1798582561563972, 0.07544033159170122, 0.0706065191023108, 0.08845265265325714, 0.12007878738737536, 0.10203899366049322, 0.11132552500705331, 0.06228545220000579, 0.058212765404676924, 0.045393239655333664, 0.026504453661972526, 0.021531390793517634, 0.01575310071463232, 0.011446637937647993, 0.011071895807493182], [0.0, 0.16800990971501856, 0.0669610031830455, 0.05632545192841264, 0.06680959478754528, 0.09711229870705622, 0.09407288631882628, 0.11050171690025334, 0.07149269004211191, 0.0723972704662069, 0.06326685602481061, 0.03953001301128399, 0.031975407923306554, 0.026589094219068642, 0.016920153915221947, 0.01803565437565625], [0.0, 0.15691445384981892, 0.06357080807944511, 0.04889475930374364, 0.052049730791329275, 0.07823097738026771, 0.08242517480402449, 0.10116784307047197, 0.0731548483109981, 0.08303145649865545, 0.07543310996043881, 0.051316055067059996, 0.04436092924072041, 0.03752802263980557, 0.027084526335540447, 0.024837305013168047], [0.0, null, null, null, null, null, null, null, null, null, null, null, null, null, null, null], [0.0, null, null, null, null, null, null, null, null, null, null, null, null, null, null, null], [0.0, null, null, null, null, null, null, null, null, null, null, null, null, null, null, null], [0.0, null, null, null, null, null, null, null, null, null, null, null, null, null, null, null], [0.0, null, null, null, null, null, null, null, null, null, null, null, null, null, null, null], [0.0, null, null, null, null, null, null, null, null, null, null, null, null, null, null, null]], \"type\": \"heatmap\", \"colorscale\": \"Jet\"}], {\"height\": 500, \"width\": 500, \"yaxis\": {\"tickcolor\": \"#FFF\", \"dtick\": 1, \"title\": \"True Class\", \"range\": [9.5, 0.5]}, \"xaxis\": {\"tickcolor\": \"#FFF\", \"dtick\": 1, \"title\": \"Predicted Class\", \"range\": [0.5, 15.5]}, \"titlefont\": {\"color\": \"#FFF\"}, \"title\": \"Confidence after 32000 Iterations at Glimpse 0\", \"paper_bgcolor\": \"#000\", \"font\": {\"color\": \"#FFF\"}, \"plot_bgcolor\": \"#000\"}, {\"showLink\": true, \"linkText\": \"Export to plot.ly\"})});</script>"
      ],
      "text/vnd.plotly.v1+html": [
       "<div id=\"214eb0d3-c4f4-48ea-bcda-cdfff1d327a0\" style=\"height: 500px; width: 500px;\" class=\"plotly-graph-div\"></div><script type=\"text/javascript\">require([\"plotly\"], function(Plotly) { window.PLOTLYENV=window.PLOTLYENV || {};window.PLOTLYENV.BASE_URL=\"https://plot.ly\";Plotly.newPlot(\"214eb0d3-c4f4-48ea-bcda-cdfff1d327a0\", [{\"z\": [[0.0, 0.0, 0.0, 0.0, 0.0, 0.0, 0.0, 0.0, 0.0, 0.0, 0.0, 0.0, 0.0, 0.0, 0.0, 0.0], [0.0, 0.8080887621688857, 0.11452227366467567, 0.03289677755702842, 0.01501312514201747, 0.00892515647267728, 0.005234994499787291, 0.004246037260071861, 0.0028240127441675695, 0.0025216438368337616, 0.0013315014311399802, 0.0013254969627806057, 0.0010336047151666321, 0.0007106279282315751, 0.0006990946719555817, 0.0006269079776070253], [0.0, 0.45761469225301327, 0.32251043497588633, 0.11533968637370288, 0.0452317509202118, 0.02157834725614588, 0.010483464544708485, 0.008191333627676772, 0.00541210784663013, 0.0039016294422112817, 0.002274233616504236, 0.0021513148477732376, 0.001565713622292933, 0.0011966269669013133, 0.001213981362612506, 0.001334691747061764], [0.0, 0.2859242222440107, 0.287258559585596, 0.1911652709805256, 0.104988375404282, 0.054726866041724456, 0.025952841875394483, 0.01695222389152206, 0.01025523018443765, 0.007366631810260147, 0.004069958265231273, 0.003124691304990361, 0.002791641802225105, 0.0017096873108344481, 0.0018798455736462444, 0.0018339595675557745], [0.0, 0.2303040910088081, 0.17786964444187908, 0.18982179383722092, 0.14758894312854282, 0.102039705422685, 0.05444311430291523, 0.038345465119643825, 0.019722372973720252, 0.013283110619581156, 0.007719962073736157, 0.00607044768919235, 0.004430057981898233, 0.002537542842459702, 0.0027480245040489896, 0.0030757288922863323], [0.0, 0.20861010949602762, 0.11718280114474008, 0.14291305693696, 0.14611321343793662, 0.1292505251498666, 0.08348890890571112, 0.06857739332895464, 0.032677642329323034, 0.023874012442106712, 0.01539794947748987, 0.010497105942222095, 0.00802944871744746, 0.004800992185975579, 0.004277592537681518, 0.00430924896066748], [0.0, 0.19240780496570586, 0.08600027831060432, 0.09872246678444767, 0.11767598145954392, 0.13520003587826973, 0.10175787767434794, 0.09768621189909181, 0.051044291559190214, 0.04065304146714917, 0.027859152570274666, 0.016783186184217307, 0.012705806243646025, 0.008650655945622384, 0.006704574479734946, 0.006148636342237683], [0.0, 0.1798582561563972, 0.07544033159170122, 0.0706065191023108, 0.08845265265325714, 0.12007878738737536, 0.10203899366049322, 0.11132552500705331, 0.06228545220000579, 0.058212765404676924, 0.045393239655333664, 0.026504453661972526, 0.021531390793517634, 0.01575310071463232, 0.011446637937647993, 0.011071895807493182], [0.0, 0.16800990971501856, 0.0669610031830455, 0.05632545192841264, 0.06680959478754528, 0.09711229870705622, 0.09407288631882628, 0.11050171690025334, 0.07149269004211191, 0.0723972704662069, 0.06326685602481061, 0.03953001301128399, 0.031975407923306554, 0.026589094219068642, 0.016920153915221947, 0.01803565437565625], [0.0, 0.15691445384981892, 0.06357080807944511, 0.04889475930374364, 0.052049730791329275, 0.07823097738026771, 0.08242517480402449, 0.10116784307047197, 0.0731548483109981, 0.08303145649865545, 0.07543310996043881, 0.051316055067059996, 0.04436092924072041, 0.03752802263980557, 0.027084526335540447, 0.024837305013168047], [0.0, null, null, null, null, null, null, null, null, null, null, null, null, null, null, null], [0.0, null, null, null, null, null, null, null, null, null, null, null, null, null, null, null], [0.0, null, null, null, null, null, null, null, null, null, null, null, null, null, null, null], [0.0, null, null, null, null, null, null, null, null, null, null, null, null, null, null, null], [0.0, null, null, null, null, null, null, null, null, null, null, null, null, null, null, null], [0.0, null, null, null, null, null, null, null, null, null, null, null, null, null, null, null]], \"type\": \"heatmap\", \"colorscale\": \"Jet\"}], {\"height\": 500, \"width\": 500, \"yaxis\": {\"tickcolor\": \"#FFF\", \"dtick\": 1, \"title\": \"True Class\", \"range\": [9.5, 0.5]}, \"xaxis\": {\"tickcolor\": \"#FFF\", \"dtick\": 1, \"title\": \"Predicted Class\", \"range\": [0.5, 15.5]}, \"titlefont\": {\"color\": \"#FFF\"}, \"title\": \"Confidence after 32000 Iterations at Glimpse 0\", \"paper_bgcolor\": \"#000\", \"font\": {\"color\": \"#FFF\"}, \"plot_bgcolor\": \"#000\"}, {\"showLink\": true, \"linkText\": \"Export to plot.ly\"})});</script>"
      ]
     },
     "metadata": {},
     "output_type": "display_data"
    },
    {
     "data": {
      "application/vnd.plotly.v1+json": {
       "data": [
        {
         "colorscale": "Jet",
         "type": "heatmap",
         "z": [
          [
           0,
           0,
           0,
           0,
           0,
           0,
           0,
           0,
           0,
           0,
           0,
           0,
           0,
           0,
           0,
           0
          ],
          [
           0,
           0.9928085198744109,
           0.0061852420107809,
           0.00033670129097170063,
           0.00033223416437864757,
           0.00017035775127768313,
           0,
           0,
           0,
           0.0001669449081803005,
           0,
           0,
           0,
           0,
           0,
           0
          ],
          [
           0,
           0.6182626919700388,
           0.32956040456657437,
           0.03895080468905845,
           0.006604807077770417,
           0.002976725471827805,
           0.0008251605213026083,
           0.0011633226585668099,
           0.000332051055949914,
           0.0001631321370309951,
           0,
           0.0003375529829998633,
           0,
           0.0003259985865423958,
           0,
           0.0004973482823376044
          ],
          [
           0,
           0.4253761761314679,
           0.31053419281672934,
           0.16745333469142581,
           0.05933449685676896,
           0.020679223833617075,
           0.008247824143046,
           0.003549638443261854,
           0.0013399581910648103,
           0.0014836923535466078,
           0.0006731198796081944,
           0.0001607717041800643,
           0.0004975542048647258,
           0,
           0.00016750418760469013,
           0.0005025125628140704
          ],
          [
           0,
           0.37929468307358716,
           0.13986790545195033,
           0.1981908474690502,
           0.13800067774535288,
           0.07748252133180455,
           0.029564373327974076,
           0.019665078386702894,
           0.007184706655212311,
           0.00255467607074812,
           0.001869673371613221,
           0.0020573655403273603,
           0.001209295160449353,
           0.0006814369583449818,
           0.0006774281619002115,
           0.0016993312949823785
          ],
          [
           0,
           0.36146479845055135,
           0.06654609986508739,
           0.12702979340032558,
           0.14887587927701618,
           0.13032903675388824,
           0.0669135380282814,
           0.05583445928428794,
           0.015354842341109546,
           0.009827664916885368,
           0.00725295371937186,
           0.0036492678498981157,
           0.0036144178931075445,
           0.0009915034177263528,
           0.0008205786346906884,
           0.001495166167772506
          ],
          [
           0,
           0.350056766061002,
           0.032154878624361574,
           0.06544343922125972,
           0.11089775637581838,
           0.15104233594907782,
           0.09555640342447735,
           0.09895100380334447,
           0.03544833847533742,
           0.02655635924547949,
           0.016372917781235157,
           0.005917246270210191,
           0.005310672583273642,
           0.0025083063719465253,
           0.0018152940443946885,
           0.001968281768781602
          ],
          [
           0,
           0.3265822975079378,
           0.030790637846256734,
           0.03251761795291673,
           0.06496412273880078,
           0.13669149261611785,
           0.09752526635293116,
           0.13382305586711163,
           0.04886314869869908,
           0.04573889100070088,
           0.03567390357128395,
           0.014073152730217576,
           0.013821806665496164,
           0.00842517105745637,
           0.0046162024172967855,
           0.005893232976776479
          ],
          [
           0,
           0.31114302128108684,
           0.02565204312232499,
           0.024030713385796786,
           0.04096031875486104,
           0.09516301541559433,
           0.08917901613940514,
           0.1320309705722546,
           0.06587388276716197,
           0.06856477781205766,
           0.05797019450595907,
           0.027268988946726764,
           0.024299550506276482,
           0.018675380247094017,
           0.008148955269007111,
           0.01103917127439318
          ],
          [
           0,
           0.29827594980478256,
           0.026426184877260544,
           0.017365882285143266,
           0.025288351232508,
           0.06990150011159173,
           0.07608033410308701,
           0.11712663172355134,
           0.06536039016330561,
           0.08346620522368206,
           0.0780051504708708,
           0.038267194444312785,
           0.04115487278505871,
           0.030461953081964265,
           0.016541360534185166,
           0.016278039158696155
          ],
          [
           0,
           null,
           null,
           null,
           null,
           null,
           null,
           null,
           null,
           null,
           null,
           null,
           null,
           null,
           null,
           null
          ],
          [
           0,
           null,
           null,
           null,
           null,
           null,
           null,
           null,
           null,
           null,
           null,
           null,
           null,
           null,
           null,
           null
          ],
          [
           0,
           null,
           null,
           null,
           null,
           null,
           null,
           null,
           null,
           null,
           null,
           null,
           null,
           null,
           null,
           null
          ],
          [
           0,
           null,
           null,
           null,
           null,
           null,
           null,
           null,
           null,
           null,
           null,
           null,
           null,
           null,
           null,
           null
          ],
          [
           0,
           null,
           null,
           null,
           null,
           null,
           null,
           null,
           null,
           null,
           null,
           null,
           null,
           null,
           null,
           null
          ],
          [
           0,
           null,
           null,
           null,
           null,
           null,
           null,
           null,
           null,
           null,
           null,
           null,
           null,
           null,
           null,
           null
          ]
         ]
        }
       ],
       "layout": {
        "font": {
         "color": "#FFF"
        },
        "height": 500,
        "paper_bgcolor": "#000",
        "plot_bgcolor": "#000",
        "title": "Choice after 32000 Iterations at Glimpse 0",
        "titlefont": {
         "color": "#FFF"
        },
        "width": 500,
        "xaxis": {
         "dtick": 1,
         "range": [
          0.5,
          15.5
         ],
         "tickcolor": "#FFF",
         "title": "Predicted Class"
        },
        "yaxis": {
         "dtick": 1,
         "range": [
          9.5,
          0.5
         ],
         "tickcolor": "#FFF",
         "title": "True Class"
        }
       }
      },
      "text/html": [
       "<div id=\"4037f474-0856-4984-b0ce-e160d8fd1b0f\" style=\"height: 500px; width: 500px;\" class=\"plotly-graph-div\"></div><script type=\"text/javascript\">require([\"plotly\"], function(Plotly) { window.PLOTLYENV=window.PLOTLYENV || {};window.PLOTLYENV.BASE_URL=\"https://plot.ly\";Plotly.newPlot(\"4037f474-0856-4984-b0ce-e160d8fd1b0f\", [{\"z\": [[0.0, 0.0, 0.0, 0.0, 0.0, 0.0, 0.0, 0.0, 0.0, 0.0, 0.0, 0.0, 0.0, 0.0, 0.0, 0.0], [0.0, 0.9928085198744109, 0.0061852420107809, 0.00033670129097170063, 0.00033223416437864757, 0.00017035775127768313, 0.0, 0.0, 0.0, 0.0001669449081803005, 0.0, 0.0, 0.0, 0.0, 0.0, 0.0], [0.0, 0.6182626919700388, 0.32956040456657437, 0.03895080468905845, 0.006604807077770417, 0.002976725471827805, 0.0008251605213026083, 0.0011633226585668099, 0.000332051055949914, 0.0001631321370309951, 0.0, 0.0003375529829998633, 0.0, 0.0003259985865423958, 0.0, 0.0004973482823376044], [0.0, 0.4253761761314679, 0.31053419281672934, 0.16745333469142581, 0.05933449685676896, 0.020679223833617075, 0.008247824143046, 0.003549638443261854, 0.0013399581910648103, 0.0014836923535466078, 0.0006731198796081944, 0.0001607717041800643, 0.0004975542048647258, 0.0, 0.00016750418760469013, 0.0005025125628140704], [0.0, 0.37929468307358716, 0.13986790545195033, 0.1981908474690502, 0.13800067774535288, 0.07748252133180455, 0.029564373327974076, 0.019665078386702894, 0.007184706655212311, 0.00255467607074812, 0.001869673371613221, 0.0020573655403273603, 0.001209295160449353, 0.0006814369583449818, 0.0006774281619002115, 0.0016993312949823785], [0.0, 0.36146479845055135, 0.06654609986508739, 0.12702979340032558, 0.14887587927701618, 0.13032903675388824, 0.0669135380282814, 0.05583445928428794, 0.015354842341109546, 0.009827664916885368, 0.00725295371937186, 0.0036492678498981157, 0.0036144178931075445, 0.0009915034177263528, 0.0008205786346906884, 0.001495166167772506], [0.0, 0.350056766061002, 0.032154878624361574, 0.06544343922125972, 0.11089775637581838, 0.15104233594907782, 0.09555640342447735, 0.09895100380334447, 0.03544833847533742, 0.02655635924547949, 0.016372917781235157, 0.005917246270210191, 0.005310672583273642, 0.0025083063719465253, 0.0018152940443946885, 0.001968281768781602], [0.0, 0.3265822975079378, 0.030790637846256734, 0.03251761795291673, 0.06496412273880078, 0.13669149261611785, 0.09752526635293116, 0.13382305586711163, 0.04886314869869908, 0.04573889100070088, 0.03567390357128395, 0.014073152730217576, 0.013821806665496164, 0.00842517105745637, 0.0046162024172967855, 0.005893232976776479], [0.0, 0.31114302128108684, 0.02565204312232499, 0.024030713385796786, 0.04096031875486104, 0.09516301541559433, 0.08917901613940514, 0.1320309705722546, 0.06587388276716197, 0.06856477781205766, 0.05797019450595907, 0.027268988946726764, 0.024299550506276482, 0.018675380247094017, 0.008148955269007111, 0.01103917127439318], [0.0, 0.29827594980478256, 0.026426184877260544, 0.017365882285143266, 0.025288351232508, 0.06990150011159173, 0.07608033410308701, 0.11712663172355134, 0.06536039016330561, 0.08346620522368206, 0.0780051504708708, 0.038267194444312785, 0.04115487278505871, 0.030461953081964265, 0.016541360534185166, 0.016278039158696155], [0.0, null, null, null, null, null, null, null, null, null, null, null, null, null, null, null], [0.0, null, null, null, null, null, null, null, null, null, null, null, null, null, null, null], [0.0, null, null, null, null, null, null, null, null, null, null, null, null, null, null, null], [0.0, null, null, null, null, null, null, null, null, null, null, null, null, null, null, null], [0.0, null, null, null, null, null, null, null, null, null, null, null, null, null, null, null], [0.0, null, null, null, null, null, null, null, null, null, null, null, null, null, null, null]], \"type\": \"heatmap\", \"colorscale\": \"Jet\"}], {\"height\": 500, \"width\": 500, \"yaxis\": {\"tickcolor\": \"#FFF\", \"dtick\": 1, \"title\": \"True Class\", \"range\": [9.5, 0.5]}, \"xaxis\": {\"tickcolor\": \"#FFF\", \"dtick\": 1, \"title\": \"Predicted Class\", \"range\": [0.5, 15.5]}, \"titlefont\": {\"color\": \"#FFF\"}, \"title\": \"Choice after 32000 Iterations at Glimpse 0\", \"paper_bgcolor\": \"#000\", \"font\": {\"color\": \"#FFF\"}, \"plot_bgcolor\": \"#000\"}, {\"showLink\": true, \"linkText\": \"Export to plot.ly\"})});</script>"
      ],
      "text/vnd.plotly.v1+html": [
       "<div id=\"4037f474-0856-4984-b0ce-e160d8fd1b0f\" style=\"height: 500px; width: 500px;\" class=\"plotly-graph-div\"></div><script type=\"text/javascript\">require([\"plotly\"], function(Plotly) { window.PLOTLYENV=window.PLOTLYENV || {};window.PLOTLYENV.BASE_URL=\"https://plot.ly\";Plotly.newPlot(\"4037f474-0856-4984-b0ce-e160d8fd1b0f\", [{\"z\": [[0.0, 0.0, 0.0, 0.0, 0.0, 0.0, 0.0, 0.0, 0.0, 0.0, 0.0, 0.0, 0.0, 0.0, 0.0, 0.0], [0.0, 0.9928085198744109, 0.0061852420107809, 0.00033670129097170063, 0.00033223416437864757, 0.00017035775127768313, 0.0, 0.0, 0.0, 0.0001669449081803005, 0.0, 0.0, 0.0, 0.0, 0.0, 0.0], [0.0, 0.6182626919700388, 0.32956040456657437, 0.03895080468905845, 0.006604807077770417, 0.002976725471827805, 0.0008251605213026083, 0.0011633226585668099, 0.000332051055949914, 0.0001631321370309951, 0.0, 0.0003375529829998633, 0.0, 0.0003259985865423958, 0.0, 0.0004973482823376044], [0.0, 0.4253761761314679, 0.31053419281672934, 0.16745333469142581, 0.05933449685676896, 0.020679223833617075, 0.008247824143046, 0.003549638443261854, 0.0013399581910648103, 0.0014836923535466078, 0.0006731198796081944, 0.0001607717041800643, 0.0004975542048647258, 0.0, 0.00016750418760469013, 0.0005025125628140704], [0.0, 0.37929468307358716, 0.13986790545195033, 0.1981908474690502, 0.13800067774535288, 0.07748252133180455, 0.029564373327974076, 0.019665078386702894, 0.007184706655212311, 0.00255467607074812, 0.001869673371613221, 0.0020573655403273603, 0.001209295160449353, 0.0006814369583449818, 0.0006774281619002115, 0.0016993312949823785], [0.0, 0.36146479845055135, 0.06654609986508739, 0.12702979340032558, 0.14887587927701618, 0.13032903675388824, 0.0669135380282814, 0.05583445928428794, 0.015354842341109546, 0.009827664916885368, 0.00725295371937186, 0.0036492678498981157, 0.0036144178931075445, 0.0009915034177263528, 0.0008205786346906884, 0.001495166167772506], [0.0, 0.350056766061002, 0.032154878624361574, 0.06544343922125972, 0.11089775637581838, 0.15104233594907782, 0.09555640342447735, 0.09895100380334447, 0.03544833847533742, 0.02655635924547949, 0.016372917781235157, 0.005917246270210191, 0.005310672583273642, 0.0025083063719465253, 0.0018152940443946885, 0.001968281768781602], [0.0, 0.3265822975079378, 0.030790637846256734, 0.03251761795291673, 0.06496412273880078, 0.13669149261611785, 0.09752526635293116, 0.13382305586711163, 0.04886314869869908, 0.04573889100070088, 0.03567390357128395, 0.014073152730217576, 0.013821806665496164, 0.00842517105745637, 0.0046162024172967855, 0.005893232976776479], [0.0, 0.31114302128108684, 0.02565204312232499, 0.024030713385796786, 0.04096031875486104, 0.09516301541559433, 0.08917901613940514, 0.1320309705722546, 0.06587388276716197, 0.06856477781205766, 0.05797019450595907, 0.027268988946726764, 0.024299550506276482, 0.018675380247094017, 0.008148955269007111, 0.01103917127439318], [0.0, 0.29827594980478256, 0.026426184877260544, 0.017365882285143266, 0.025288351232508, 0.06990150011159173, 0.07608033410308701, 0.11712663172355134, 0.06536039016330561, 0.08346620522368206, 0.0780051504708708, 0.038267194444312785, 0.04115487278505871, 0.030461953081964265, 0.016541360534185166, 0.016278039158696155], [0.0, null, null, null, null, null, null, null, null, null, null, null, null, null, null, null], [0.0, null, null, null, null, null, null, null, null, null, null, null, null, null, null, null], [0.0, null, null, null, null, null, null, null, null, null, null, null, null, null, null, null], [0.0, null, null, null, null, null, null, null, null, null, null, null, null, null, null, null], [0.0, null, null, null, null, null, null, null, null, null, null, null, null, null, null, null], [0.0, null, null, null, null, null, null, null, null, null, null, null, null, null, null, null]], \"type\": \"heatmap\", \"colorscale\": \"Jet\"}], {\"height\": 500, \"width\": 500, \"yaxis\": {\"tickcolor\": \"#FFF\", \"dtick\": 1, \"title\": \"True Class\", \"range\": [9.5, 0.5]}, \"xaxis\": {\"tickcolor\": \"#FFF\", \"dtick\": 1, \"title\": \"Predicted Class\", \"range\": [0.5, 15.5]}, \"titlefont\": {\"color\": \"#FFF\"}, \"title\": \"Choice after 32000 Iterations at Glimpse 0\", \"paper_bgcolor\": \"#000\", \"font\": {\"color\": \"#FFF\"}, \"plot_bgcolor\": \"#000\"}, {\"showLink\": true, \"linkText\": \"Export to plot.ly\"})});</script>"
      ]
     },
     "metadata": {},
     "output_type": "display_data"
    },
    {
     "data": {
      "application/vnd.plotly.v1+json": {
       "data": [
        {
         "colorscale": "Jet",
         "type": "heatmap",
         "z": [
          [
           0,
           0,
           0,
           0,
           0,
           0,
           0,
           0,
           0,
           0,
           0,
           0,
           0,
           0,
           0,
           0
          ],
          [
           0,
           0.905755016006075,
           0.08226665869023839,
           0.010206694676033475,
           0.0013891689164321369,
           0.0002659343464843884,
           4.6906803247491126e-05,
           1.3818740564119535e-05,
           3.010209594537886e-05,
           1.0127687193711167e-05,
           2.743214244632519e-06,
           6.76755204836769e-06,
           9.167119964780134e-08,
           8.991700719318377e-07,
           4.550704000906074e-06,
           5.229800759197117e-07
          ],
          [
           0,
           0.3689074476277382,
           0.4288464034419449,
           0.1465267972194436,
           0.038365020521042556,
           0.013157835294992214,
           0.002277076922976888,
           0.0009089715685145089,
           0.0003809211471265912,
           0.00036452304872193074,
           6.995432062770563e-05,
           6.444698856804893e-05,
           3.5740629008218714e-05,
           7.379451180783401e-06,
           3.0365335787341825e-05,
           5.712210658599036e-05
          ],
          [
           0,
           0.10838199324305901,
           0.36146861110430817,
           0.2783563299115566,
           0.1441966801734515,
           0.07294869004410429,
           0.019424081670133053,
           0.009793968907864036,
           0.002953134536965568,
           0.0013950175471157285,
           0.0006128186256452044,
           0.00014124177071200988,
           0.00013637558082353046,
           4.008346071674927e-05,
           8.371936996799584e-05,
           6.725809292492196e-05
          ],
          [
           0,
           0.03146845890441305,
           0.18555295364758972,
           0.2615978052273641,
           0.22889465395229597,
           0.165465734373455,
           0.062160865491664594,
           0.04062183047610522,
           0.01246605381206989,
           0.006040095547331226,
           0.002744386550184968,
           0.001021030485452775,
           0.0008145644469589325,
           0.00029053138815051473,
           0.0005716671128830344,
           0.0002893709997058847
          ],
          [
           0,
           0.006629320318225726,
           0.08329682083198439,
           0.1729974759246982,
           0.22930344095338878,
           0.22876747634791889,
           0.11363520727763432,
           0.09576204791036896,
           0.032192958912861155,
           0.016407313748377457,
           0.01011090552619837,
           0.0038841334955136047,
           0.0023859685473635677,
           0.0010027147294485645,
           0.002028842727726435,
           0.0015953757859576488
          ],
          [
           0,
           0.002773420288717078,
           0.032295093732679275,
           0.0939329225854314,
           0.1704161485639178,
           0.2359057819658167,
           0.14807501296418257,
           0.16222369928794286,
           0.062150141325576815,
           0.03858440246925107,
           0.025808686722776995,
           0.010217262722282228,
           0.006406745735250083,
           0.003441488621956612,
           0.004542306317871331,
           0.003226887117354959
          ],
          [
           0,
           0.002245201070708792,
           0.01412428296462288,
           0.046350945605890266,
           0.10625307395442637,
           0.19192295333950615,
           0.15191117606058796,
           0.20506460006603677,
           0.09472249148948311,
           0.06648638516243661,
           0.052996996644222236,
           0.023792025474346286,
           0.014240314756795717,
           0.009295581388208306,
           0.011717330605788197,
           0.00887664191203967
          ],
          [
           0,
           0.000620662660849536,
           0.005945336594913344,
           0.023475833959073995,
           0.06067086606294604,
           0.13651404146325097,
           0.1338277845167817,
           0.21024254164182082,
           0.11668380966047107,
           0.0928014094806642,
           0.08933010069326976,
           0.04457134574118601,
           0.027038097656757,
           0.021076155159716392,
           0.020440726547255532,
           0.016761288018282024
          ],
          [
           0,
           0.00040725416861980894,
           0.0024898102261649165,
           0.012188460853692702,
           0.03511569730559379,
           0.09020656603198099,
           0.10618852277419974,
           0.18013704092634442,
           0.12049370359639826,
           0.11393446052828018,
           0.12136839951900413,
           0.06402372918536689,
           0.0438696053648246,
           0.03782452374763545,
           0.03955227975443077,
           0.03219994684461654
          ],
          [
           0,
           null,
           null,
           null,
           null,
           null,
           null,
           null,
           null,
           null,
           null,
           null,
           null,
           null,
           null,
           null
          ],
          [
           0,
           null,
           null,
           null,
           null,
           null,
           null,
           null,
           null,
           null,
           null,
           null,
           null,
           null,
           null,
           null
          ],
          [
           0,
           null,
           null,
           null,
           null,
           null,
           null,
           null,
           null,
           null,
           null,
           null,
           null,
           null,
           null,
           null
          ],
          [
           0,
           null,
           null,
           null,
           null,
           null,
           null,
           null,
           null,
           null,
           null,
           null,
           null,
           null,
           null,
           null
          ],
          [
           0,
           null,
           null,
           null,
           null,
           null,
           null,
           null,
           null,
           null,
           null,
           null,
           null,
           null,
           null,
           null
          ],
          [
           0,
           null,
           null,
           null,
           null,
           null,
           null,
           null,
           null,
           null,
           null,
           null,
           null,
           null,
           null,
           null
          ]
         ]
        }
       ],
       "layout": {
        "font": {
         "color": "#FFF"
        },
        "height": 500,
        "paper_bgcolor": "#000",
        "plot_bgcolor": "#000",
        "title": "Confidence after 32000 Iterations at Glimpse 3",
        "titlefont": {
         "color": "#FFF"
        },
        "width": 500,
        "xaxis": {
         "dtick": 1,
         "range": [
          0.5,
          15.5
         ],
         "tickcolor": "#FFF",
         "title": "Predicted Class"
        },
        "yaxis": {
         "dtick": 1,
         "range": [
          9.5,
          0.5
         ],
         "tickcolor": "#FFF",
         "title": "True Class"
        }
       }
      },
      "text/html": [
       "<div id=\"93082ead-8b9a-4bad-bdde-1f264a2e646d\" style=\"height: 500px; width: 500px;\" class=\"plotly-graph-div\"></div><script type=\"text/javascript\">require([\"plotly\"], function(Plotly) { window.PLOTLYENV=window.PLOTLYENV || {};window.PLOTLYENV.BASE_URL=\"https://plot.ly\";Plotly.newPlot(\"93082ead-8b9a-4bad-bdde-1f264a2e646d\", [{\"z\": [[0.0, 0.0, 0.0, 0.0, 0.0, 0.0, 0.0, 0.0, 0.0, 0.0, 0.0, 0.0, 0.0, 0.0, 0.0, 0.0], [0.0, 0.905755016006075, 0.08226665869023839, 0.010206694676033475, 0.0013891689164321369, 0.0002659343464843884, 4.6906803247491126e-05, 1.3818740564119535e-05, 3.010209594537886e-05, 1.0127687193711167e-05, 2.743214244632519e-06, 6.76755204836769e-06, 9.167119964780134e-08, 8.991700719318377e-07, 4.550704000906074e-06, 5.229800759197117e-07], [0.0, 0.3689074476277382, 0.4288464034419449, 0.1465267972194436, 0.038365020521042556, 0.013157835294992214, 0.002277076922976888, 0.0009089715685145089, 0.0003809211471265912, 0.00036452304872193074, 6.995432062770563e-05, 6.444698856804893e-05, 3.5740629008218714e-05, 7.379451180783401e-06, 3.0365335787341825e-05, 5.712210658599036e-05], [0.0, 0.10838199324305901, 0.36146861110430817, 0.2783563299115566, 0.1441966801734515, 0.07294869004410429, 0.019424081670133053, 0.009793968907864036, 0.002953134536965568, 0.0013950175471157285, 0.0006128186256452044, 0.00014124177071200988, 0.00013637558082353046, 4.008346071674927e-05, 8.371936996799584e-05, 6.725809292492196e-05], [0.0, 0.03146845890441305, 0.18555295364758972, 0.2615978052273641, 0.22889465395229597, 0.165465734373455, 0.062160865491664594, 0.04062183047610522, 0.01246605381206989, 0.006040095547331226, 0.002744386550184968, 0.001021030485452775, 0.0008145644469589325, 0.00029053138815051473, 0.0005716671128830344, 0.0002893709997058847], [0.0, 0.006629320318225726, 0.08329682083198439, 0.1729974759246982, 0.22930344095338878, 0.22876747634791889, 0.11363520727763432, 0.09576204791036896, 0.032192958912861155, 0.016407313748377457, 0.01011090552619837, 0.0038841334955136047, 0.0023859685473635677, 0.0010027147294485645, 0.002028842727726435, 0.0015953757859576488], [0.0, 0.002773420288717078, 0.032295093732679275, 0.0939329225854314, 0.1704161485639178, 0.2359057819658167, 0.14807501296418257, 0.16222369928794286, 0.062150141325576815, 0.03858440246925107, 0.025808686722776995, 0.010217262722282228, 0.006406745735250083, 0.003441488621956612, 0.004542306317871331, 0.003226887117354959], [0.0, 0.002245201070708792, 0.01412428296462288, 0.046350945605890266, 0.10625307395442637, 0.19192295333950615, 0.15191117606058796, 0.20506460006603677, 0.09472249148948311, 0.06648638516243661, 0.052996996644222236, 0.023792025474346286, 0.014240314756795717, 0.009295581388208306, 0.011717330605788197, 0.00887664191203967], [0.0, 0.000620662660849536, 0.005945336594913344, 0.023475833959073995, 0.06067086606294604, 0.13651404146325097, 0.1338277845167817, 0.21024254164182082, 0.11668380966047107, 0.0928014094806642, 0.08933010069326976, 0.04457134574118601, 0.027038097656757, 0.021076155159716392, 0.020440726547255532, 0.016761288018282024], [0.0, 0.00040725416861980894, 0.0024898102261649165, 0.012188460853692702, 0.03511569730559379, 0.09020656603198099, 0.10618852277419974, 0.18013704092634442, 0.12049370359639826, 0.11393446052828018, 0.12136839951900413, 0.06402372918536689, 0.0438696053648246, 0.03782452374763545, 0.03955227975443077, 0.03219994684461654], [0.0, null, null, null, null, null, null, null, null, null, null, null, null, null, null, null], [0.0, null, null, null, null, null, null, null, null, null, null, null, null, null, null, null], [0.0, null, null, null, null, null, null, null, null, null, null, null, null, null, null, null], [0.0, null, null, null, null, null, null, null, null, null, null, null, null, null, null, null], [0.0, null, null, null, null, null, null, null, null, null, null, null, null, null, null, null], [0.0, null, null, null, null, null, null, null, null, null, null, null, null, null, null, null]], \"type\": \"heatmap\", \"colorscale\": \"Jet\"}], {\"height\": 500, \"width\": 500, \"yaxis\": {\"tickcolor\": \"#FFF\", \"dtick\": 1, \"title\": \"True Class\", \"range\": [9.5, 0.5]}, \"xaxis\": {\"tickcolor\": \"#FFF\", \"dtick\": 1, \"title\": \"Predicted Class\", \"range\": [0.5, 15.5]}, \"titlefont\": {\"color\": \"#FFF\"}, \"title\": \"Confidence after 32000 Iterations at Glimpse 3\", \"paper_bgcolor\": \"#000\", \"font\": {\"color\": \"#FFF\"}, \"plot_bgcolor\": \"#000\"}, {\"showLink\": true, \"linkText\": \"Export to plot.ly\"})});</script>"
      ],
      "text/vnd.plotly.v1+html": [
       "<div id=\"93082ead-8b9a-4bad-bdde-1f264a2e646d\" style=\"height: 500px; width: 500px;\" class=\"plotly-graph-div\"></div><script type=\"text/javascript\">require([\"plotly\"], function(Plotly) { window.PLOTLYENV=window.PLOTLYENV || {};window.PLOTLYENV.BASE_URL=\"https://plot.ly\";Plotly.newPlot(\"93082ead-8b9a-4bad-bdde-1f264a2e646d\", [{\"z\": [[0.0, 0.0, 0.0, 0.0, 0.0, 0.0, 0.0, 0.0, 0.0, 0.0, 0.0, 0.0, 0.0, 0.0, 0.0, 0.0], [0.0, 0.905755016006075, 0.08226665869023839, 0.010206694676033475, 0.0013891689164321369, 0.0002659343464843884, 4.6906803247491126e-05, 1.3818740564119535e-05, 3.010209594537886e-05, 1.0127687193711167e-05, 2.743214244632519e-06, 6.76755204836769e-06, 9.167119964780134e-08, 8.991700719318377e-07, 4.550704000906074e-06, 5.229800759197117e-07], [0.0, 0.3689074476277382, 0.4288464034419449, 0.1465267972194436, 0.038365020521042556, 0.013157835294992214, 0.002277076922976888, 0.0009089715685145089, 0.0003809211471265912, 0.00036452304872193074, 6.995432062770563e-05, 6.444698856804893e-05, 3.5740629008218714e-05, 7.379451180783401e-06, 3.0365335787341825e-05, 5.712210658599036e-05], [0.0, 0.10838199324305901, 0.36146861110430817, 0.2783563299115566, 0.1441966801734515, 0.07294869004410429, 0.019424081670133053, 0.009793968907864036, 0.002953134536965568, 0.0013950175471157285, 0.0006128186256452044, 0.00014124177071200988, 0.00013637558082353046, 4.008346071674927e-05, 8.371936996799584e-05, 6.725809292492196e-05], [0.0, 0.03146845890441305, 0.18555295364758972, 0.2615978052273641, 0.22889465395229597, 0.165465734373455, 0.062160865491664594, 0.04062183047610522, 0.01246605381206989, 0.006040095547331226, 0.002744386550184968, 0.001021030485452775, 0.0008145644469589325, 0.00029053138815051473, 0.0005716671128830344, 0.0002893709997058847], [0.0, 0.006629320318225726, 0.08329682083198439, 0.1729974759246982, 0.22930344095338878, 0.22876747634791889, 0.11363520727763432, 0.09576204791036896, 0.032192958912861155, 0.016407313748377457, 0.01011090552619837, 0.0038841334955136047, 0.0023859685473635677, 0.0010027147294485645, 0.002028842727726435, 0.0015953757859576488], [0.0, 0.002773420288717078, 0.032295093732679275, 0.0939329225854314, 0.1704161485639178, 0.2359057819658167, 0.14807501296418257, 0.16222369928794286, 0.062150141325576815, 0.03858440246925107, 0.025808686722776995, 0.010217262722282228, 0.006406745735250083, 0.003441488621956612, 0.004542306317871331, 0.003226887117354959], [0.0, 0.002245201070708792, 0.01412428296462288, 0.046350945605890266, 0.10625307395442637, 0.19192295333950615, 0.15191117606058796, 0.20506460006603677, 0.09472249148948311, 0.06648638516243661, 0.052996996644222236, 0.023792025474346286, 0.014240314756795717, 0.009295581388208306, 0.011717330605788197, 0.00887664191203967], [0.0, 0.000620662660849536, 0.005945336594913344, 0.023475833959073995, 0.06067086606294604, 0.13651404146325097, 0.1338277845167817, 0.21024254164182082, 0.11668380966047107, 0.0928014094806642, 0.08933010069326976, 0.04457134574118601, 0.027038097656757, 0.021076155159716392, 0.020440726547255532, 0.016761288018282024], [0.0, 0.00040725416861980894, 0.0024898102261649165, 0.012188460853692702, 0.03511569730559379, 0.09020656603198099, 0.10618852277419974, 0.18013704092634442, 0.12049370359639826, 0.11393446052828018, 0.12136839951900413, 0.06402372918536689, 0.0438696053648246, 0.03782452374763545, 0.03955227975443077, 0.03219994684461654], [0.0, null, null, null, null, null, null, null, null, null, null, null, null, null, null, null], [0.0, null, null, null, null, null, null, null, null, null, null, null, null, null, null, null], [0.0, null, null, null, null, null, null, null, null, null, null, null, null, null, null, null], [0.0, null, null, null, null, null, null, null, null, null, null, null, null, null, null, null], [0.0, null, null, null, null, null, null, null, null, null, null, null, null, null, null, null], [0.0, null, null, null, null, null, null, null, null, null, null, null, null, null, null, null]], \"type\": \"heatmap\", \"colorscale\": \"Jet\"}], {\"height\": 500, \"width\": 500, \"yaxis\": {\"tickcolor\": \"#FFF\", \"dtick\": 1, \"title\": \"True Class\", \"range\": [9.5, 0.5]}, \"xaxis\": {\"tickcolor\": \"#FFF\", \"dtick\": 1, \"title\": \"Predicted Class\", \"range\": [0.5, 15.5]}, \"titlefont\": {\"color\": \"#FFF\"}, \"title\": \"Confidence after 32000 Iterations at Glimpse 3\", \"paper_bgcolor\": \"#000\", \"font\": {\"color\": \"#FFF\"}, \"plot_bgcolor\": \"#000\"}, {\"showLink\": true, \"linkText\": \"Export to plot.ly\"})});</script>"
      ]
     },
     "metadata": {},
     "output_type": "display_data"
    },
    {
     "data": {
      "application/vnd.plotly.v1+json": {
       "data": [
        {
         "colorscale": "Jet",
         "type": "heatmap",
         "z": [
          [
           0,
           0,
           0,
           0,
           0,
           0,
           0,
           0,
           0,
           0,
           0,
           0,
           0,
           0,
           0,
           0
          ],
          [
           0,
           0.9909385421077411,
           0.008891100140981231,
           0.00017035775127768313,
           0,
           0,
           0,
           0,
           0,
           0,
           0,
           0,
           0,
           0,
           0,
           0
          ],
          [
           0,
           0.40749850609693866,
           0.49904438140061913,
           0.08091207289268942,
           0.00762949759300449,
           0.004409070114829632,
           0,
           0.00016863406408094435,
           0,
           0.00033783783783783786,
           0,
           0,
           0,
           0,
           0,
           0
          ],
          [
           0,
           0.10974489854892151,
           0.44204837746328485,
           0.2873369408792813,
           0.10004040846087311,
           0.05151001802601281,
           0.006155807349894271,
           0.0020022245646510056,
           0.0004890475959648188,
           0.0005010442344040299,
           0.00017123287671232877,
           0,
           0,
           0,
           0,
           0
          ],
          [
           0,
           0.031221983213758114,
           0.19066647515766083,
           0.2993802899750907,
           0.2367874935675276,
           0.18644452894201186,
           0.02996301866006724,
           0.018940532120573166,
           0.002546215677549825,
           0.003018609636576303,
           0.00035398230088495576,
           0.0001666666666666667,
           0,
           0,
           0.000510204081632653,
           0
          ],
          [
           0,
           0.004479401199993882,
           0.07250759727996832,
           0.18928861763960123,
           0.2464685403928367,
           0.29498948697548494,
           0.086240384762173,
           0.08155663152328863,
           0.01208565399178975,
           0.004478313192697574,
           0.004262736265042753,
           0.0009842404839695952,
           0.0006568144499178982,
           0.00016611295681063124,
           0.0009947683965326308,
           0.000840700489892449
          ],
          [
           0,
           0.002136106079720861,
           0.023001558698854473,
           0.08841400643565754,
           0.17623696139768374,
           0.3196921999613494,
           0.12747367209915886,
           0.19145316465533682,
           0.030145290980906327,
           0.017925062346866538,
           0.012148977722772498,
           0.0032517225813618856,
           0.003827351542772238,
           0.0006778449953002382,
           0.002612348927874928,
           0.0010037315743837484
          ],
          [
           0,
           0.002146338689160106,
           0.008211926571470771,
           0.037634302823287516,
           0.08684625602101037,
           0.2550573469815303,
           0.13682268989855859,
           0.29017417136096746,
           0.06508468949240066,
           0.039935920756749586,
           0.04196770728202927,
           0.01156107321535482,
           0.008236937883174913,
           0.003810070541891488,
           0.008432901396812562,
           0.0040776670856015294
          ],
          [
           0,
           0.0006737134559756696,
           0.0030559710862865246,
           0.016124026770921937,
           0.03753230640012485,
           0.17101197351281688,
           0.12147039357721309,
           0.29507520618152394,
           0.10825791007665309,
           0.07976484685276464,
           0.08626443121136267,
           0.026423242308879224,
           0.022064673655326984,
           0.010663399122468775,
           0.012535785252275838,
           0.009082120535405868
          ],
          [
           0,
           0.0005053497567256526,
           0.0013102794940726332,
           0.0068245500736722085,
           0.019168939492272073,
           0.09792838171712001,
           0.09587322592098749,
           0.24931841847704259,
           0.11928435318195443,
           0.10846047882595669,
           0.1336584528110804,
           0.04463638313329005,
           0.038070554565730885,
           0.02782324260964139,
           0.03310918024496138,
           0.0240282096954921
          ],
          [
           0,
           null,
           null,
           null,
           null,
           null,
           null,
           null,
           null,
           null,
           null,
           null,
           null,
           null,
           null,
           null
          ],
          [
           0,
           null,
           null,
           null,
           null,
           null,
           null,
           null,
           null,
           null,
           null,
           null,
           null,
           null,
           null,
           null
          ],
          [
           0,
           null,
           null,
           null,
           null,
           null,
           null,
           null,
           null,
           null,
           null,
           null,
           null,
           null,
           null,
           null
          ],
          [
           0,
           null,
           null,
           null,
           null,
           null,
           null,
           null,
           null,
           null,
           null,
           null,
           null,
           null,
           null,
           null
          ],
          [
           0,
           null,
           null,
           null,
           null,
           null,
           null,
           null,
           null,
           null,
           null,
           null,
           null,
           null,
           null,
           null
          ],
          [
           0,
           null,
           null,
           null,
           null,
           null,
           null,
           null,
           null,
           null,
           null,
           null,
           null,
           null,
           null,
           null
          ]
         ]
        }
       ],
       "layout": {
        "font": {
         "color": "#FFF"
        },
        "height": 500,
        "paper_bgcolor": "#000",
        "plot_bgcolor": "#000",
        "title": "Choice after 32000 Iterations at Glimpse 3",
        "titlefont": {
         "color": "#FFF"
        },
        "width": 500,
        "xaxis": {
         "dtick": 1,
         "range": [
          0.5,
          15.5
         ],
         "tickcolor": "#FFF",
         "title": "Predicted Class"
        },
        "yaxis": {
         "dtick": 1,
         "range": [
          9.5,
          0.5
         ],
         "tickcolor": "#FFF",
         "title": "True Class"
        }
       }
      },
      "text/html": [
       "<div id=\"35506cf6-ffc7-45cb-af85-c7059287f58f\" style=\"height: 500px; width: 500px;\" class=\"plotly-graph-div\"></div><script type=\"text/javascript\">require([\"plotly\"], function(Plotly) { window.PLOTLYENV=window.PLOTLYENV || {};window.PLOTLYENV.BASE_URL=\"https://plot.ly\";Plotly.newPlot(\"35506cf6-ffc7-45cb-af85-c7059287f58f\", [{\"z\": [[0.0, 0.0, 0.0, 0.0, 0.0, 0.0, 0.0, 0.0, 0.0, 0.0, 0.0, 0.0, 0.0, 0.0, 0.0, 0.0], [0.0, 0.9909385421077411, 0.008891100140981231, 0.00017035775127768313, 0.0, 0.0, 0.0, 0.0, 0.0, 0.0, 0.0, 0.0, 0.0, 0.0, 0.0, 0.0], [0.0, 0.40749850609693866, 0.49904438140061913, 0.08091207289268942, 0.00762949759300449, 0.004409070114829632, 0.0, 0.00016863406408094435, 0.0, 0.00033783783783783786, 0.0, 0.0, 0.0, 0.0, 0.0, 0.0], [0.0, 0.10974489854892151, 0.44204837746328485, 0.2873369408792813, 0.10004040846087311, 0.05151001802601281, 0.006155807349894271, 0.0020022245646510056, 0.0004890475959648188, 0.0005010442344040299, 0.00017123287671232877, 0.0, 0.0, 0.0, 0.0, 0.0], [0.0, 0.031221983213758114, 0.19066647515766083, 0.2993802899750907, 0.2367874935675276, 0.18644452894201186, 0.02996301866006724, 0.018940532120573166, 0.002546215677549825, 0.003018609636576303, 0.00035398230088495576, 0.0001666666666666667, 0.0, 0.0, 0.000510204081632653, 0.0], [0.0, 0.004479401199993882, 0.07250759727996832, 0.18928861763960123, 0.2464685403928367, 0.29498948697548494, 0.086240384762173, 0.08155663152328863, 0.01208565399178975, 0.004478313192697574, 0.004262736265042753, 0.0009842404839695952, 0.0006568144499178982, 0.00016611295681063124, 0.0009947683965326308, 0.000840700489892449], [0.0, 0.002136106079720861, 0.023001558698854473, 0.08841400643565754, 0.17623696139768374, 0.3196921999613494, 0.12747367209915886, 0.19145316465533682, 0.030145290980906327, 0.017925062346866538, 0.012148977722772498, 0.0032517225813618856, 0.003827351542772238, 0.0006778449953002382, 0.002612348927874928, 0.0010037315743837484], [0.0, 0.002146338689160106, 0.008211926571470771, 0.037634302823287516, 0.08684625602101037, 0.2550573469815303, 0.13682268989855859, 0.29017417136096746, 0.06508468949240066, 0.039935920756749586, 0.04196770728202927, 0.01156107321535482, 0.008236937883174913, 0.003810070541891488, 0.008432901396812562, 0.0040776670856015294], [0.0, 0.0006737134559756696, 0.0030559710862865246, 0.016124026770921937, 0.03753230640012485, 0.17101197351281688, 0.12147039357721309, 0.29507520618152394, 0.10825791007665309, 0.07976484685276464, 0.08626443121136267, 0.026423242308879224, 0.022064673655326984, 0.010663399122468775, 0.012535785252275838, 0.009082120535405868], [0.0, 0.0005053497567256526, 0.0013102794940726332, 0.0068245500736722085, 0.019168939492272073, 0.09792838171712001, 0.09587322592098749, 0.24931841847704259, 0.11928435318195443, 0.10846047882595669, 0.1336584528110804, 0.04463638313329005, 0.038070554565730885, 0.02782324260964139, 0.03310918024496138, 0.0240282096954921], [0.0, null, null, null, null, null, null, null, null, null, null, null, null, null, null, null], [0.0, null, null, null, null, null, null, null, null, null, null, null, null, null, null, null], [0.0, null, null, null, null, null, null, null, null, null, null, null, null, null, null, null], [0.0, null, null, null, null, null, null, null, null, null, null, null, null, null, null, null], [0.0, null, null, null, null, null, null, null, null, null, null, null, null, null, null, null], [0.0, null, null, null, null, null, null, null, null, null, null, null, null, null, null, null]], \"type\": \"heatmap\", \"colorscale\": \"Jet\"}], {\"height\": 500, \"width\": 500, \"yaxis\": {\"tickcolor\": \"#FFF\", \"dtick\": 1, \"title\": \"True Class\", \"range\": [9.5, 0.5]}, \"xaxis\": {\"tickcolor\": \"#FFF\", \"dtick\": 1, \"title\": \"Predicted Class\", \"range\": [0.5, 15.5]}, \"titlefont\": {\"color\": \"#FFF\"}, \"title\": \"Choice after 32000 Iterations at Glimpse 3\", \"paper_bgcolor\": \"#000\", \"font\": {\"color\": \"#FFF\"}, \"plot_bgcolor\": \"#000\"}, {\"showLink\": true, \"linkText\": \"Export to plot.ly\"})});</script>"
      ],
      "text/vnd.plotly.v1+html": [
       "<div id=\"35506cf6-ffc7-45cb-af85-c7059287f58f\" style=\"height: 500px; width: 500px;\" class=\"plotly-graph-div\"></div><script type=\"text/javascript\">require([\"plotly\"], function(Plotly) { window.PLOTLYENV=window.PLOTLYENV || {};window.PLOTLYENV.BASE_URL=\"https://plot.ly\";Plotly.newPlot(\"35506cf6-ffc7-45cb-af85-c7059287f58f\", [{\"z\": [[0.0, 0.0, 0.0, 0.0, 0.0, 0.0, 0.0, 0.0, 0.0, 0.0, 0.0, 0.0, 0.0, 0.0, 0.0, 0.0], [0.0, 0.9909385421077411, 0.008891100140981231, 0.00017035775127768313, 0.0, 0.0, 0.0, 0.0, 0.0, 0.0, 0.0, 0.0, 0.0, 0.0, 0.0, 0.0], [0.0, 0.40749850609693866, 0.49904438140061913, 0.08091207289268942, 0.00762949759300449, 0.004409070114829632, 0.0, 0.00016863406408094435, 0.0, 0.00033783783783783786, 0.0, 0.0, 0.0, 0.0, 0.0, 0.0], [0.0, 0.10974489854892151, 0.44204837746328485, 0.2873369408792813, 0.10004040846087311, 0.05151001802601281, 0.006155807349894271, 0.0020022245646510056, 0.0004890475959648188, 0.0005010442344040299, 0.00017123287671232877, 0.0, 0.0, 0.0, 0.0, 0.0], [0.0, 0.031221983213758114, 0.19066647515766083, 0.2993802899750907, 0.2367874935675276, 0.18644452894201186, 0.02996301866006724, 0.018940532120573166, 0.002546215677549825, 0.003018609636576303, 0.00035398230088495576, 0.0001666666666666667, 0.0, 0.0, 0.000510204081632653, 0.0], [0.0, 0.004479401199993882, 0.07250759727996832, 0.18928861763960123, 0.2464685403928367, 0.29498948697548494, 0.086240384762173, 0.08155663152328863, 0.01208565399178975, 0.004478313192697574, 0.004262736265042753, 0.0009842404839695952, 0.0006568144499178982, 0.00016611295681063124, 0.0009947683965326308, 0.000840700489892449], [0.0, 0.002136106079720861, 0.023001558698854473, 0.08841400643565754, 0.17623696139768374, 0.3196921999613494, 0.12747367209915886, 0.19145316465533682, 0.030145290980906327, 0.017925062346866538, 0.012148977722772498, 0.0032517225813618856, 0.003827351542772238, 0.0006778449953002382, 0.002612348927874928, 0.0010037315743837484], [0.0, 0.002146338689160106, 0.008211926571470771, 0.037634302823287516, 0.08684625602101037, 0.2550573469815303, 0.13682268989855859, 0.29017417136096746, 0.06508468949240066, 0.039935920756749586, 0.04196770728202927, 0.01156107321535482, 0.008236937883174913, 0.003810070541891488, 0.008432901396812562, 0.0040776670856015294], [0.0, 0.0006737134559756696, 0.0030559710862865246, 0.016124026770921937, 0.03753230640012485, 0.17101197351281688, 0.12147039357721309, 0.29507520618152394, 0.10825791007665309, 0.07976484685276464, 0.08626443121136267, 0.026423242308879224, 0.022064673655326984, 0.010663399122468775, 0.012535785252275838, 0.009082120535405868], [0.0, 0.0005053497567256526, 0.0013102794940726332, 0.0068245500736722085, 0.019168939492272073, 0.09792838171712001, 0.09587322592098749, 0.24931841847704259, 0.11928435318195443, 0.10846047882595669, 0.1336584528110804, 0.04463638313329005, 0.038070554565730885, 0.02782324260964139, 0.03310918024496138, 0.0240282096954921], [0.0, null, null, null, null, null, null, null, null, null, null, null, null, null, null, null], [0.0, null, null, null, null, null, null, null, null, null, null, null, null, null, null, null], [0.0, null, null, null, null, null, null, null, null, null, null, null, null, null, null, null], [0.0, null, null, null, null, null, null, null, null, null, null, null, null, null, null, null], [0.0, null, null, null, null, null, null, null, null, null, null, null, null, null, null, null], [0.0, null, null, null, null, null, null, null, null, null, null, null, null, null, null, null]], \"type\": \"heatmap\", \"colorscale\": \"Jet\"}], {\"height\": 500, \"width\": 500, \"yaxis\": {\"tickcolor\": \"#FFF\", \"dtick\": 1, \"title\": \"True Class\", \"range\": [9.5, 0.5]}, \"xaxis\": {\"tickcolor\": \"#FFF\", \"dtick\": 1, \"title\": \"Predicted Class\", \"range\": [0.5, 15.5]}, \"titlefont\": {\"color\": \"#FFF\"}, \"title\": \"Choice after 32000 Iterations at Glimpse 3\", \"paper_bgcolor\": \"#000\", \"font\": {\"color\": \"#FFF\"}, \"plot_bgcolor\": \"#000\"}, {\"showLink\": true, \"linkText\": \"Export to plot.ly\"})});</script>"
      ]
     },
     "metadata": {},
     "output_type": "display_data"
    },
    {
     "data": {
      "application/vnd.plotly.v1+json": {
       "data": [
        {
         "colorscale": "Jet",
         "type": "heatmap",
         "z": [
          [
           0,
           0,
           0,
           0,
           0,
           0,
           0,
           0,
           0,
           0,
           0,
           0,
           0,
           0,
           0,
           0
          ],
          [
           0,
           0.9136893718174163,
           0.07459111540152055,
           0.010814203637759142,
           0.0008100551818023187,
           6.18142893727866e-05,
           5.062952497061277e-06,
           2.9168417900560677e-07,
           4.117674692868077e-07,
           2.1879292329703847e-07,
           1.233281874140096e-07,
           5.282120834652851e-09,
           1.1553644134053768e-08,
           2.7090131514901864e-05,
           1.1624747016650536e-09,
           2.3023027148501135e-07
          ],
          [
           0,
           0.29166560511294615,
           0.4949966502833799,
           0.16453888038811487,
           0.036703288454222154,
           0.010125265257918917,
           0.001366743605503518,
           0.0003746358213560243,
           0.0001439271492392929,
           4.738839333799188e-05,
           2.2510856979827786e-05,
           2.4787934555241986e-06,
           5.5251493839825726e-06,
           1.563577440680162e-06,
           3.5621304995262217e-06,
           1.980300220013894e-06
          ],
          [
           0,
           0.08109609630840389,
           0.372780057049042,
           0.30762223420934676,
           0.14602978205590997,
           0.06672169976619786,
           0.016034133041565247,
           0.006673563160124636,
           0.0018129007272545453,
           0.0005874881657464624,
           0.00032457418307273313,
           9.596555588835475e-05,
           0.00011134780825370525,
           2.869914428306413e-05,
           4.7960438736999776e-05,
           3.3501490460036526e-05
          ],
          [
           0,
           0.02036149746400253,
           0.18163770278689004,
           0.2829259051736708,
           0.24066831916006803,
           0.16432776451553796,
           0.05771529741418592,
           0.0346233408543555,
           0.009741062370962051,
           0.0037098161633549744,
           0.0023772392361724065,
           0.0008251609037341715,
           0.0005216717983751038,
           0.00015647408850101864,
           0.00023098512423331289,
           0.0001777653496046795
          ],
          [
           0,
           0.0026989034572196197,
           0.07646900551546515,
           0.18221623637003087,
           0.23805757984327233,
           0.23468436658607977,
           0.11181743636191091,
           0.09275026979971998,
           0.029636232695046803,
           0.013420007517244804,
           0.01026715847486784,
           0.0037551791885238744,
           0.0017640082300370004,
           0.0007424718492977661,
           0.0008821831226109653,
           0.0008389614110821152
          ],
          [
           0,
           0.000653885189794154,
           0.028521108808198962,
           0.09078487893005874,
           0.17556847285235258,
           0.24055137391691472,
           0.14928955980921313,
           0.16300821567790408,
           0.060945284220532345,
           0.03419687109863898,
           0.031233501640698637,
           0.011439358908002607,
           0.0054214851892211155,
           0.0031423619628465466,
           0.0027419144458630832,
           0.002501727414466949
          ],
          [
           0,
           0.00038993465887070597,
           0.010567923204904125,
           0.03784929535287364,
           0.10547924324260345,
           0.193552884895549,
           0.1515179140811882,
           0.20935940801169844,
           0.09363565955526962,
           0.06322139862858348,
           0.06827710694585756,
           0.027236270521744287,
           0.013819256500818198,
           0.010162138208411334,
           0.007431040510750842,
           0.00750052549269279
          ],
          [
           0,
           0.0001414628768837258,
           0.003956557194916673,
           0.015594997368756311,
           0.056543256035123356,
           0.13287765807966323,
           0.13142057799576604,
           0.2155555893177631,
           0.11091149288567034,
           0.0913938106713293,
           0.11331629834235772,
           0.047954631992983374,
           0.024101900053375012,
           0.022583053374232994,
           0.015932745310429968,
           0.01771596881269729
          ],
          [
           0,
           5.3023754708029074e-05,
           0.001723721461109383,
           0.006204719455824288,
           0.028406337065952275,
           0.08202808012047436,
           0.10003733937891264,
           0.18768815184040186,
           0.11423230687648889,
           0.10927412028392043,
           0.15177518610605872,
           0.07082037950813132,
           0.04011247469474504,
           0.042208240000303196,
           0.030496752015993632,
           0.03493916697252768
          ],
          [
           0,
           null,
           null,
           null,
           null,
           null,
           null,
           null,
           null,
           null,
           null,
           null,
           null,
           null,
           null,
           null
          ],
          [
           0,
           null,
           null,
           null,
           null,
           null,
           null,
           null,
           null,
           null,
           null,
           null,
           null,
           null,
           null,
           null
          ],
          [
           0,
           null,
           null,
           null,
           null,
           null,
           null,
           null,
           null,
           null,
           null,
           null,
           null,
           null,
           null,
           null
          ],
          [
           0,
           null,
           null,
           null,
           null,
           null,
           null,
           null,
           null,
           null,
           null,
           null,
           null,
           null,
           null,
           null
          ],
          [
           0,
           null,
           null,
           null,
           null,
           null,
           null,
           null,
           null,
           null,
           null,
           null,
           null,
           null,
           null,
           null
          ],
          [
           0,
           null,
           null,
           null,
           null,
           null,
           null,
           null,
           null,
           null,
           null,
           null,
           null,
           null,
           null,
           null
          ]
         ]
        }
       ],
       "layout": {
        "font": {
         "color": "#FFF"
        },
        "height": 500,
        "paper_bgcolor": "#000",
        "plot_bgcolor": "#000",
        "title": "Confidence after 32000 Iterations at Glimpse 9",
        "titlefont": {
         "color": "#FFF"
        },
        "width": 500,
        "xaxis": {
         "dtick": 1,
         "range": [
          0.5,
          15.5
         ],
         "tickcolor": "#FFF",
         "title": "Predicted Class"
        },
        "yaxis": {
         "dtick": 1,
         "range": [
          9.5,
          0.5
         ],
         "tickcolor": "#FFF",
         "title": "True Class"
        }
       }
      },
      "text/html": [
       "<div id=\"4105fd49-2f25-48a5-b21a-0650b5abc65d\" style=\"height: 500px; width: 500px;\" class=\"plotly-graph-div\"></div><script type=\"text/javascript\">require([\"plotly\"], function(Plotly) { window.PLOTLYENV=window.PLOTLYENV || {};window.PLOTLYENV.BASE_URL=\"https://plot.ly\";Plotly.newPlot(\"4105fd49-2f25-48a5-b21a-0650b5abc65d\", [{\"z\": [[0.0, 0.0, 0.0, 0.0, 0.0, 0.0, 0.0, 0.0, 0.0, 0.0, 0.0, 0.0, 0.0, 0.0, 0.0, 0.0], [0.0, 0.9136893718174163, 0.07459111540152055, 0.010814203637759142, 0.0008100551818023187, 6.18142893727866e-05, 5.062952497061277e-06, 2.9168417900560677e-07, 4.117674692868077e-07, 2.1879292329703847e-07, 1.233281874140096e-07, 5.282120834652851e-09, 1.1553644134053768e-08, 2.7090131514901864e-05, 1.1624747016650536e-09, 2.3023027148501135e-07], [0.0, 0.29166560511294615, 0.4949966502833799, 0.16453888038811487, 0.036703288454222154, 0.010125265257918917, 0.001366743605503518, 0.0003746358213560243, 0.0001439271492392929, 4.738839333799188e-05, 2.2510856979827786e-05, 2.4787934555241986e-06, 5.5251493839825726e-06, 1.563577440680162e-06, 3.5621304995262217e-06, 1.980300220013894e-06], [0.0, 0.08109609630840389, 0.372780057049042, 0.30762223420934676, 0.14602978205590997, 0.06672169976619786, 0.016034133041565247, 0.006673563160124636, 0.0018129007272545453, 0.0005874881657464624, 0.00032457418307273313, 9.596555588835475e-05, 0.00011134780825370525, 2.869914428306413e-05, 4.7960438736999776e-05, 3.3501490460036526e-05], [0.0, 0.02036149746400253, 0.18163770278689004, 0.2829259051736708, 0.24066831916006803, 0.16432776451553796, 0.05771529741418592, 0.0346233408543555, 0.009741062370962051, 0.0037098161633549744, 0.0023772392361724065, 0.0008251609037341715, 0.0005216717983751038, 0.00015647408850101864, 0.00023098512423331289, 0.0001777653496046795], [0.0, 0.0026989034572196197, 0.07646900551546515, 0.18221623637003087, 0.23805757984327233, 0.23468436658607977, 0.11181743636191091, 0.09275026979971998, 0.029636232695046803, 0.013420007517244804, 0.01026715847486784, 0.0037551791885238744, 0.0017640082300370004, 0.0007424718492977661, 0.0008821831226109653, 0.0008389614110821152], [0.0, 0.000653885189794154, 0.028521108808198962, 0.09078487893005874, 0.17556847285235258, 0.24055137391691472, 0.14928955980921313, 0.16300821567790408, 0.060945284220532345, 0.03419687109863898, 0.031233501640698637, 0.011439358908002607, 0.0054214851892211155, 0.0031423619628465466, 0.0027419144458630832, 0.002501727414466949], [0.0, 0.00038993465887070597, 0.010567923204904125, 0.03784929535287364, 0.10547924324260345, 0.193552884895549, 0.1515179140811882, 0.20935940801169844, 0.09363565955526962, 0.06322139862858348, 0.06827710694585756, 0.027236270521744287, 0.013819256500818198, 0.010162138208411334, 0.007431040510750842, 0.00750052549269279], [0.0, 0.0001414628768837258, 0.003956557194916673, 0.015594997368756311, 0.056543256035123356, 0.13287765807966323, 0.13142057799576604, 0.2155555893177631, 0.11091149288567034, 0.0913938106713293, 0.11331629834235772, 0.047954631992983374, 0.024101900053375012, 0.022583053374232994, 0.015932745310429968, 0.01771596881269729], [0.0, 5.3023754708029074e-05, 0.001723721461109383, 0.006204719455824288, 0.028406337065952275, 0.08202808012047436, 0.10003733937891264, 0.18768815184040186, 0.11423230687648889, 0.10927412028392043, 0.15177518610605872, 0.07082037950813132, 0.04011247469474504, 0.042208240000303196, 0.030496752015993632, 0.03493916697252768], [0.0, null, null, null, null, null, null, null, null, null, null, null, null, null, null, null], [0.0, null, null, null, null, null, null, null, null, null, null, null, null, null, null, null], [0.0, null, null, null, null, null, null, null, null, null, null, null, null, null, null, null], [0.0, null, null, null, null, null, null, null, null, null, null, null, null, null, null, null], [0.0, null, null, null, null, null, null, null, null, null, null, null, null, null, null, null], [0.0, null, null, null, null, null, null, null, null, null, null, null, null, null, null, null]], \"type\": \"heatmap\", \"colorscale\": \"Jet\"}], {\"height\": 500, \"width\": 500, \"yaxis\": {\"tickcolor\": \"#FFF\", \"dtick\": 1, \"title\": \"True Class\", \"range\": [9.5, 0.5]}, \"xaxis\": {\"tickcolor\": \"#FFF\", \"dtick\": 1, \"title\": \"Predicted Class\", \"range\": [0.5, 15.5]}, \"titlefont\": {\"color\": \"#FFF\"}, \"title\": \"Confidence after 32000 Iterations at Glimpse 9\", \"paper_bgcolor\": \"#000\", \"font\": {\"color\": \"#FFF\"}, \"plot_bgcolor\": \"#000\"}, {\"showLink\": true, \"linkText\": \"Export to plot.ly\"})});</script>"
      ],
      "text/vnd.plotly.v1+html": [
       "<div id=\"4105fd49-2f25-48a5-b21a-0650b5abc65d\" style=\"height: 500px; width: 500px;\" class=\"plotly-graph-div\"></div><script type=\"text/javascript\">require([\"plotly\"], function(Plotly) { window.PLOTLYENV=window.PLOTLYENV || {};window.PLOTLYENV.BASE_URL=\"https://plot.ly\";Plotly.newPlot(\"4105fd49-2f25-48a5-b21a-0650b5abc65d\", [{\"z\": [[0.0, 0.0, 0.0, 0.0, 0.0, 0.0, 0.0, 0.0, 0.0, 0.0, 0.0, 0.0, 0.0, 0.0, 0.0, 0.0], [0.0, 0.9136893718174163, 0.07459111540152055, 0.010814203637759142, 0.0008100551818023187, 6.18142893727866e-05, 5.062952497061277e-06, 2.9168417900560677e-07, 4.117674692868077e-07, 2.1879292329703847e-07, 1.233281874140096e-07, 5.282120834652851e-09, 1.1553644134053768e-08, 2.7090131514901864e-05, 1.1624747016650536e-09, 2.3023027148501135e-07], [0.0, 0.29166560511294615, 0.4949966502833799, 0.16453888038811487, 0.036703288454222154, 0.010125265257918917, 0.001366743605503518, 0.0003746358213560243, 0.0001439271492392929, 4.738839333799188e-05, 2.2510856979827786e-05, 2.4787934555241986e-06, 5.5251493839825726e-06, 1.563577440680162e-06, 3.5621304995262217e-06, 1.980300220013894e-06], [0.0, 0.08109609630840389, 0.372780057049042, 0.30762223420934676, 0.14602978205590997, 0.06672169976619786, 0.016034133041565247, 0.006673563160124636, 0.0018129007272545453, 0.0005874881657464624, 0.00032457418307273313, 9.596555588835475e-05, 0.00011134780825370525, 2.869914428306413e-05, 4.7960438736999776e-05, 3.3501490460036526e-05], [0.0, 0.02036149746400253, 0.18163770278689004, 0.2829259051736708, 0.24066831916006803, 0.16432776451553796, 0.05771529741418592, 0.0346233408543555, 0.009741062370962051, 0.0037098161633549744, 0.0023772392361724065, 0.0008251609037341715, 0.0005216717983751038, 0.00015647408850101864, 0.00023098512423331289, 0.0001777653496046795], [0.0, 0.0026989034572196197, 0.07646900551546515, 0.18221623637003087, 0.23805757984327233, 0.23468436658607977, 0.11181743636191091, 0.09275026979971998, 0.029636232695046803, 0.013420007517244804, 0.01026715847486784, 0.0037551791885238744, 0.0017640082300370004, 0.0007424718492977661, 0.0008821831226109653, 0.0008389614110821152], [0.0, 0.000653885189794154, 0.028521108808198962, 0.09078487893005874, 0.17556847285235258, 0.24055137391691472, 0.14928955980921313, 0.16300821567790408, 0.060945284220532345, 0.03419687109863898, 0.031233501640698637, 0.011439358908002607, 0.0054214851892211155, 0.0031423619628465466, 0.0027419144458630832, 0.002501727414466949], [0.0, 0.00038993465887070597, 0.010567923204904125, 0.03784929535287364, 0.10547924324260345, 0.193552884895549, 0.1515179140811882, 0.20935940801169844, 0.09363565955526962, 0.06322139862858348, 0.06827710694585756, 0.027236270521744287, 0.013819256500818198, 0.010162138208411334, 0.007431040510750842, 0.00750052549269279], [0.0, 0.0001414628768837258, 0.003956557194916673, 0.015594997368756311, 0.056543256035123356, 0.13287765807966323, 0.13142057799576604, 0.2155555893177631, 0.11091149288567034, 0.0913938106713293, 0.11331629834235772, 0.047954631992983374, 0.024101900053375012, 0.022583053374232994, 0.015932745310429968, 0.01771596881269729], [0.0, 5.3023754708029074e-05, 0.001723721461109383, 0.006204719455824288, 0.028406337065952275, 0.08202808012047436, 0.10003733937891264, 0.18768815184040186, 0.11423230687648889, 0.10927412028392043, 0.15177518610605872, 0.07082037950813132, 0.04011247469474504, 0.042208240000303196, 0.030496752015993632, 0.03493916697252768], [0.0, null, null, null, null, null, null, null, null, null, null, null, null, null, null, null], [0.0, null, null, null, null, null, null, null, null, null, null, null, null, null, null, null], [0.0, null, null, null, null, null, null, null, null, null, null, null, null, null, null, null], [0.0, null, null, null, null, null, null, null, null, null, null, null, null, null, null, null], [0.0, null, null, null, null, null, null, null, null, null, null, null, null, null, null, null], [0.0, null, null, null, null, null, null, null, null, null, null, null, null, null, null, null]], \"type\": \"heatmap\", \"colorscale\": \"Jet\"}], {\"height\": 500, \"width\": 500, \"yaxis\": {\"tickcolor\": \"#FFF\", \"dtick\": 1, \"title\": \"True Class\", \"range\": [9.5, 0.5]}, \"xaxis\": {\"tickcolor\": \"#FFF\", \"dtick\": 1, \"title\": \"Predicted Class\", \"range\": [0.5, 15.5]}, \"titlefont\": {\"color\": \"#FFF\"}, \"title\": \"Confidence after 32000 Iterations at Glimpse 9\", \"paper_bgcolor\": \"#000\", \"font\": {\"color\": \"#FFF\"}, \"plot_bgcolor\": \"#000\"}, {\"showLink\": true, \"linkText\": \"Export to plot.ly\"})});</script>"
      ]
     },
     "metadata": {},
     "output_type": "display_data"
    },
    {
     "data": {
      "application/vnd.plotly.v1+json": {
       "data": [
        {
         "colorscale": "Jet",
         "type": "heatmap",
         "z": [
          [
           0,
           0,
           0,
           0,
           0,
           0,
           0,
           0,
           0,
           0,
           0,
           0,
           0,
           0,
           0,
           0
          ],
          [
           0,
           0.9840283618995338,
           0.015971638100466295,
           0,
           0,
           0,
           0,
           0,
           0,
           0,
           0,
           0,
           0,
           0,
           0,
           0
          ],
          [
           0,
           0.3104275948313548,
           0.5992510477914903,
           0.08338102117723115,
           0.004002441119109919,
           0.0029378950808139443,
           0,
           0,
           0,
           0,
           0,
           0,
           0,
           0,
           0,
           0
          ],
          [
           0,
           0.09034996367533864,
           0.4502904511706123,
           0.31255278942952736,
           0.09891316451236047,
           0.04230580311980339,
           0.004747794844133491,
           0.000679261544044271,
           0.0001607717041800643,
           0,
           0,
           0,
           0,
           0,
           0,
           0
          ],
          [
           0,
           0.021840716421006174,
           0.1843769362788848,
           0.31649529290923517,
           0.25472885439799986,
           0.17405270519940585,
           0.03461688667041207,
           0.012235903777442558,
           0.0009653887113951012,
           0.0003436578171091446,
           0.0003436578171091446,
           0,
           0,
           0,
           0,
           0
          ],
          [
           0,
           0.0024852363278869234,
           0.06607726007020472,
           0.18098247135274315,
           0.26484163093923135,
           0.2975113578942074,
           0.09906223908043624,
           0.077823340026264,
           0.005959108365070836,
           0.001134184087830187,
           0.0026636213273937724,
           0.0007974481658692184,
           0.0003284072249589491,
           0,
           0.00016420361247947455,
           0.0001694915254237288
          ],
          [
           0,
           0.0006714579644566856,
           0.020036456287223663,
           0.07088140275172924,
           0.18033366629655326,
           0.3202041592157464,
           0.155946000793238,
           0.20329749809959813,
           0.017810516964095382,
           0.006068118131346662,
           0.01930999143288147,
           0.002777533747758858,
           0.002173913043478261,
           0,
           0.00016722408026755852,
           0.00032206119162640903
          ],
          [
           0,
           0.0003316749585406302,
           0.0064290799796029394,
           0.018932759614385848,
           0.0906930130741989,
           0.2588825296785272,
           0.15545982726157703,
           0.29801704623503367,
           0.04757937312535214,
           0.024518190979480273,
           0.06865650103839008,
           0.013981613247112997,
           0.010275212844662759,
           0.002641513599434829,
           0.0011601509291683115,
           0.002441513434532448
          ],
          [
           0,
           0.00017035775127768313,
           0.002555366269165247,
           0.005067990788174375,
           0.03851518742254679,
           0.15164148145987677,
           0.13506596793683712,
           0.325258678028881,
           0.07577807721207908,
           0.0533688380685907,
           0.138380446986834,
           0.02949572198013207,
           0.017157137462100604,
           0.011653014465288016,
           0.005059997253901364,
           0.010831736914315264
          ],
          [
           0,
           0,
           0.0004830917874396135,
           0.0014663262611083376,
           0.014839788342782883,
           0.07622715675468868,
           0.10059456055177467,
           0.2694555898436054,
           0.0993863364906786,
           0.08202263178144392,
           0.2063583348961832,
           0.04793516372717285,
           0.030647835964661113,
           0.030449479528806684,
           0.01491800307432604,
           0.025215700995327984
          ],
          [
           0,
           null,
           null,
           null,
           null,
           null,
           null,
           null,
           null,
           null,
           null,
           null,
           null,
           null,
           null,
           null
          ],
          [
           0,
           null,
           null,
           null,
           null,
           null,
           null,
           null,
           null,
           null,
           null,
           null,
           null,
           null,
           null,
           null
          ],
          [
           0,
           null,
           null,
           null,
           null,
           null,
           null,
           null,
           null,
           null,
           null,
           null,
           null,
           null,
           null,
           null
          ],
          [
           0,
           null,
           null,
           null,
           null,
           null,
           null,
           null,
           null,
           null,
           null,
           null,
           null,
           null,
           null,
           null
          ],
          [
           0,
           null,
           null,
           null,
           null,
           null,
           null,
           null,
           null,
           null,
           null,
           null,
           null,
           null,
           null,
           null
          ],
          [
           0,
           null,
           null,
           null,
           null,
           null,
           null,
           null,
           null,
           null,
           null,
           null,
           null,
           null,
           null,
           null
          ]
         ]
        }
       ],
       "layout": {
        "font": {
         "color": "#FFF"
        },
        "height": 500,
        "paper_bgcolor": "#000",
        "plot_bgcolor": "#000",
        "title": "Choice after 32000 Iterations at Glimpse 9",
        "titlefont": {
         "color": "#FFF"
        },
        "width": 500,
        "xaxis": {
         "dtick": 1,
         "range": [
          0.5,
          15.5
         ],
         "tickcolor": "#FFF",
         "title": "Predicted Class"
        },
        "yaxis": {
         "dtick": 1,
         "range": [
          9.5,
          0.5
         ],
         "tickcolor": "#FFF",
         "title": "True Class"
        }
       }
      },
      "text/html": [
       "<div id=\"53ae22c5-54b5-4dfd-8521-8d1a9a6da2c4\" style=\"height: 500px; width: 500px;\" class=\"plotly-graph-div\"></div><script type=\"text/javascript\">require([\"plotly\"], function(Plotly) { window.PLOTLYENV=window.PLOTLYENV || {};window.PLOTLYENV.BASE_URL=\"https://plot.ly\";Plotly.newPlot(\"53ae22c5-54b5-4dfd-8521-8d1a9a6da2c4\", [{\"z\": [[0.0, 0.0, 0.0, 0.0, 0.0, 0.0, 0.0, 0.0, 0.0, 0.0, 0.0, 0.0, 0.0, 0.0, 0.0, 0.0], [0.0, 0.9840283618995338, 0.015971638100466295, 0.0, 0.0, 0.0, 0.0, 0.0, 0.0, 0.0, 0.0, 0.0, 0.0, 0.0, 0.0, 0.0], [0.0, 0.3104275948313548, 0.5992510477914903, 0.08338102117723115, 0.004002441119109919, 0.0029378950808139443, 0.0, 0.0, 0.0, 0.0, 0.0, 0.0, 0.0, 0.0, 0.0, 0.0], [0.0, 0.09034996367533864, 0.4502904511706123, 0.31255278942952736, 0.09891316451236047, 0.04230580311980339, 0.004747794844133491, 0.000679261544044271, 0.0001607717041800643, 0.0, 0.0, 0.0, 0.0, 0.0, 0.0, 0.0], [0.0, 0.021840716421006174, 0.1843769362788848, 0.31649529290923517, 0.25472885439799986, 0.17405270519940585, 0.03461688667041207, 0.012235903777442558, 0.0009653887113951012, 0.0003436578171091446, 0.0003436578171091446, 0.0, 0.0, 0.0, 0.0, 0.0], [0.0, 0.0024852363278869234, 0.06607726007020472, 0.18098247135274315, 0.26484163093923135, 0.2975113578942074, 0.09906223908043624, 0.077823340026264, 0.005959108365070836, 0.001134184087830187, 0.0026636213273937724, 0.0007974481658692184, 0.0003284072249589491, 0.0, 0.00016420361247947455, 0.0001694915254237288], [0.0, 0.0006714579644566856, 0.020036456287223663, 0.07088140275172924, 0.18033366629655326, 0.3202041592157464, 0.155946000793238, 0.20329749809959813, 0.017810516964095382, 0.006068118131346662, 0.01930999143288147, 0.002777533747758858, 0.002173913043478261, 0.0, 0.00016722408026755852, 0.00032206119162640903], [0.0, 0.0003316749585406302, 0.0064290799796029394, 0.018932759614385848, 0.0906930130741989, 0.2588825296785272, 0.15545982726157703, 0.29801704623503367, 0.04757937312535214, 0.024518190979480273, 0.06865650103839008, 0.013981613247112997, 0.010275212844662759, 0.002641513599434829, 0.0011601509291683115, 0.002441513434532448], [0.0, 0.00017035775127768313, 0.002555366269165247, 0.005067990788174375, 0.03851518742254679, 0.15164148145987677, 0.13506596793683712, 0.325258678028881, 0.07577807721207908, 0.0533688380685907, 0.138380446986834, 0.02949572198013207, 0.017157137462100604, 0.011653014465288016, 0.005059997253901364, 0.010831736914315264], [0.0, 0.0, 0.0004830917874396135, 0.0014663262611083376, 0.014839788342782883, 0.07622715675468868, 0.10059456055177467, 0.2694555898436054, 0.0993863364906786, 0.08202263178144392, 0.2063583348961832, 0.04793516372717285, 0.030647835964661113, 0.030449479528806684, 0.01491800307432604, 0.025215700995327984], [0.0, null, null, null, null, null, null, null, null, null, null, null, null, null, null, null], [0.0, null, null, null, null, null, null, null, null, null, null, null, null, null, null, null], [0.0, null, null, null, null, null, null, null, null, null, null, null, null, null, null, null], [0.0, null, null, null, null, null, null, null, null, null, null, null, null, null, null, null], [0.0, null, null, null, null, null, null, null, null, null, null, null, null, null, null, null], [0.0, null, null, null, null, null, null, null, null, null, null, null, null, null, null, null]], \"type\": \"heatmap\", \"colorscale\": \"Jet\"}], {\"height\": 500, \"width\": 500, \"yaxis\": {\"tickcolor\": \"#FFF\", \"dtick\": 1, \"title\": \"True Class\", \"range\": [9.5, 0.5]}, \"xaxis\": {\"tickcolor\": \"#FFF\", \"dtick\": 1, \"title\": \"Predicted Class\", \"range\": [0.5, 15.5]}, \"titlefont\": {\"color\": \"#FFF\"}, \"title\": \"Choice after 32000 Iterations at Glimpse 9\", \"paper_bgcolor\": \"#000\", \"font\": {\"color\": \"#FFF\"}, \"plot_bgcolor\": \"#000\"}, {\"showLink\": true, \"linkText\": \"Export to plot.ly\"})});</script>"
      ],
      "text/vnd.plotly.v1+html": [
       "<div id=\"53ae22c5-54b5-4dfd-8521-8d1a9a6da2c4\" style=\"height: 500px; width: 500px;\" class=\"plotly-graph-div\"></div><script type=\"text/javascript\">require([\"plotly\"], function(Plotly) { window.PLOTLYENV=window.PLOTLYENV || {};window.PLOTLYENV.BASE_URL=\"https://plot.ly\";Plotly.newPlot(\"53ae22c5-54b5-4dfd-8521-8d1a9a6da2c4\", [{\"z\": [[0.0, 0.0, 0.0, 0.0, 0.0, 0.0, 0.0, 0.0, 0.0, 0.0, 0.0, 0.0, 0.0, 0.0, 0.0, 0.0], [0.0, 0.9840283618995338, 0.015971638100466295, 0.0, 0.0, 0.0, 0.0, 0.0, 0.0, 0.0, 0.0, 0.0, 0.0, 0.0, 0.0, 0.0], [0.0, 0.3104275948313548, 0.5992510477914903, 0.08338102117723115, 0.004002441119109919, 0.0029378950808139443, 0.0, 0.0, 0.0, 0.0, 0.0, 0.0, 0.0, 0.0, 0.0, 0.0], [0.0, 0.09034996367533864, 0.4502904511706123, 0.31255278942952736, 0.09891316451236047, 0.04230580311980339, 0.004747794844133491, 0.000679261544044271, 0.0001607717041800643, 0.0, 0.0, 0.0, 0.0, 0.0, 0.0, 0.0], [0.0, 0.021840716421006174, 0.1843769362788848, 0.31649529290923517, 0.25472885439799986, 0.17405270519940585, 0.03461688667041207, 0.012235903777442558, 0.0009653887113951012, 0.0003436578171091446, 0.0003436578171091446, 0.0, 0.0, 0.0, 0.0, 0.0], [0.0, 0.0024852363278869234, 0.06607726007020472, 0.18098247135274315, 0.26484163093923135, 0.2975113578942074, 0.09906223908043624, 0.077823340026264, 0.005959108365070836, 0.001134184087830187, 0.0026636213273937724, 0.0007974481658692184, 0.0003284072249589491, 0.0, 0.00016420361247947455, 0.0001694915254237288], [0.0, 0.0006714579644566856, 0.020036456287223663, 0.07088140275172924, 0.18033366629655326, 0.3202041592157464, 0.155946000793238, 0.20329749809959813, 0.017810516964095382, 0.006068118131346662, 0.01930999143288147, 0.002777533747758858, 0.002173913043478261, 0.0, 0.00016722408026755852, 0.00032206119162640903], [0.0, 0.0003316749585406302, 0.0064290799796029394, 0.018932759614385848, 0.0906930130741989, 0.2588825296785272, 0.15545982726157703, 0.29801704623503367, 0.04757937312535214, 0.024518190979480273, 0.06865650103839008, 0.013981613247112997, 0.010275212844662759, 0.002641513599434829, 0.0011601509291683115, 0.002441513434532448], [0.0, 0.00017035775127768313, 0.002555366269165247, 0.005067990788174375, 0.03851518742254679, 0.15164148145987677, 0.13506596793683712, 0.325258678028881, 0.07577807721207908, 0.0533688380685907, 0.138380446986834, 0.02949572198013207, 0.017157137462100604, 0.011653014465288016, 0.005059997253901364, 0.010831736914315264], [0.0, 0.0, 0.0004830917874396135, 0.0014663262611083376, 0.014839788342782883, 0.07622715675468868, 0.10059456055177467, 0.2694555898436054, 0.0993863364906786, 0.08202263178144392, 0.2063583348961832, 0.04793516372717285, 0.030647835964661113, 0.030449479528806684, 0.01491800307432604, 0.025215700995327984], [0.0, null, null, null, null, null, null, null, null, null, null, null, null, null, null, null], [0.0, null, null, null, null, null, null, null, null, null, null, null, null, null, null, null], [0.0, null, null, null, null, null, null, null, null, null, null, null, null, null, null, null], [0.0, null, null, null, null, null, null, null, null, null, null, null, null, null, null, null], [0.0, null, null, null, null, null, null, null, null, null, null, null, null, null, null, null], [0.0, null, null, null, null, null, null, null, null, null, null, null, null, null, null, null]], \"type\": \"heatmap\", \"colorscale\": \"Jet\"}], {\"height\": 500, \"width\": 500, \"yaxis\": {\"tickcolor\": \"#FFF\", \"dtick\": 1, \"title\": \"True Class\", \"range\": [9.5, 0.5]}, \"xaxis\": {\"tickcolor\": \"#FFF\", \"dtick\": 1, \"title\": \"Predicted Class\", \"range\": [0.5, 15.5]}, \"titlefont\": {\"color\": \"#FFF\"}, \"title\": \"Choice after 32000 Iterations at Glimpse 9\", \"paper_bgcolor\": \"#000\", \"font\": {\"color\": \"#FFF\"}, \"plot_bgcolor\": \"#000\"}, {\"showLink\": true, \"linkText\": \"Export to plot.ly\"})});</script>"
      ]
     },
     "metadata": {},
     "output_type": "display_data"
    }
   ],
   "source": [
    "for i, it in enumerate(iter_list):\n",
    "    for g, glimpse in enumerate(glimpse_list):\n",
    "        plot_confidence(i, it, g, glimpse)\n",
    "        plot_choice(i, it, g, glimpse)"
   ]
  },
  {
   "cell_type": "code",
   "execution_count": 9,
   "metadata": {
    "collapsed": true
   },
   "outputs": [],
   "source": [
    "np.save(data_directory + \"confidence_hist\", confidence_all_runs)\n",
    "np.save(data_directory + \"choice_hist\", choice_all_runs)"
   ]
  },
  {
   "cell_type": "markdown",
   "metadata": {},
   "source": [
    "## Work with Saved Histogram Data"
   ]
  },
  {
   "cell_type": "code",
   "execution_count": 10,
   "metadata": {
    "collapsed": true
   },
   "outputs": [],
   "source": [
    "confidence_hist = np.load(data_directory + \"confidence_hist.npy\")\n",
    "choice_hist = np.load(data_directory + \"choice_hist.npy\")"
   ]
  },
  {
   "cell_type": "code",
   "execution_count": 11,
   "metadata": {
    "collapsed": true
   },
   "outputs": [],
   "source": [
    "def get_msdcv(hist_matrix):\n",
    "    \"\"\"Get the mean, standard deviation, and coefficient of variation matrices from histogram matrix.\"\"\"\n",
    "    \n",
    "    msdcv = np.zeros([num_runs, num_iters, num_glimpses, z_size, 3])\n",
    "    \n",
    "    for run in range(num_runs):\n",
    "        for i, it in enumerate(iter_list):\n",
    "            for g, glimpse in enumerate(glimpse_list):\n",
    "                for t in range(z_size):\n",
    "                    values_sum = 0\n",
    "                    sqr_sum = 0\n",
    "\n",
    "                    # Find the mean\n",
    "                    for p in range(z_size):\n",
    "                        values_sum += (p + 1) * hist_matrix[run, i, g, t, p]\n",
    "                    msdcv[run, i, g, t, 0] = mu = values_sum\n",
    "\n",
    "                    # Find the standard deviation\n",
    "                    for p in range(z_size):\n",
    "                        sqr_sum += (p + 1 - mu)**2 * hist_matrix[run, i, g, t, p]\n",
    "                    msdcv[run, i, g, t, 1] = sigma = np.sqrt(sqr_sum)\n",
    "\n",
    "                    # Find the coefficient of variation\n",
    "                    msdcv[run, i, g, t, 2] = cv = sigma / mu\n",
    "    return msdcv"
   ]
  },
  {
   "cell_type": "code",
   "execution_count": 12,
   "metadata": {
    "collapsed": true
   },
   "outputs": [],
   "source": [
    "confidence_msdcv = get_msdcv(confidence_hist)\n",
    "choice_msdcv = get_msdcv(choice_hist)"
   ]
  },
  {
   "cell_type": "code",
   "execution_count": 13,
   "metadata": {
    "collapsed": true
   },
   "outputs": [],
   "source": [
    "np.save(data_directory + \"confidence_msdcv\", confidence_msdcv)\n",
    "np.save(data_directory + \"choice_msdcv\", choice_msdcv)"
   ]
  },
  {
   "cell_type": "markdown",
   "metadata": {},
   "source": [
    "## Visualize Mean, Standard Deviation, and Coefficient of Variation"
   ]
  },
  {
   "cell_type": "code",
   "execution_count": 14,
   "metadata": {
    "collapsed": true
   },
   "outputs": [],
   "source": [
    "confidence_msdcv = np.load(data_directory + \"confidence_msdcv.npy\")\n",
    "choice_msdcv = np.load(data_directory + \"choice_msdcv.npy\")"
   ]
  },
  {
   "cell_type": "code",
   "execution_count": 15,
   "metadata": {
    "collapsed": true
   },
   "outputs": [],
   "source": [
    "confidence_msdcv_avg = np.mean(confidence_msdcv, axis=0)\n",
    "choice_msdcv_avg = np.mean(choice_msdcv, axis=0)\n",
    "\n",
    "def plot_confidence_msdcv(iter_idx, it, g, glimpse, run=None):\n",
    "    \"\"\"Plot the confidence linegraphs.\"\"\"\n",
    "    \n",
    "    if run is None:\n",
    "        matrix = confidence_msdcv_avg[iter_idx, g]\n",
    "        plot_title = \"Confidence after %d Iterations at Glimpse %d\" % (it, glimpse)\n",
    "\n",
    "    else:\n",
    "        matrix = confidence_msdcv[run, iter_idx, g]\n",
    "        plot_title = \"Confidence at Run %d after %d Iterations at Glimpse %d\" % (run + 1, it, glimpse)\n",
    "    plot_linegraphs(matrix, plot_title)\n",
    "\n",
    "\n",
    "def plot_choice_msdcv(iter_idx, it, g, glimpse, run=None):\n",
    "    \"\"\"Plot the choice linegraphs.\"\"\"\n",
    "    \n",
    "    if run is None:\n",
    "        matrix = choice_msdcv_avg[iter_idx, g]\n",
    "        plot_title = \"Choice after %d Iterations at Glimpse %d\" % (it, glimpse)\n",
    "    else:\n",
    "        matrix = choice_msdcv[run, iter_idx, g]\n",
    "        plot_title = \"Choice at Run %d after %d Iterations at Glimpse %d\" % (run + 1, it, glimpse)\n",
    "    plot_linegraphs(matrix, plot_title)\n",
    "    \n",
    "    \n",
    "def plot_linegraphs(matrix, plot_title):\n",
    "    \"\"\"Plot mean, stdev, and cv linegraphs.\"\"\"\n",
    "    \n",
    "    plot_msd(matrix, plot_title)\n",
    "    plot_cv(matrix, plot_title)"
   ]
  },
  {
   "cell_type": "code",
   "execution_count": 16,
   "metadata": {
    "collapsed": true
   },
   "outputs": [],
   "source": [
    "def plot_msd(matrix, plot_title):\n",
    "    \"\"\"Plot the mean and standard deviation in the same graph.\"\"\"\n",
    "    \n",
    "    x_values = np.array(range(min_blobs, 9 + 1))\n",
    "#     x_values = np.array(range(min_blobs, max_blobs + 1))\n",
    "    y_mu = matrix[:, 0]\n",
    "    y_sigma = matrix[:, 1]\n",
    "    \n",
    "    # Create traces\n",
    "    mu_trace = go.Scatter(\n",
    "        x = x_values,\n",
    "        y = y_mu,\n",
    "        name='Mean',\n",
    "    )\n",
    "    sigma_trace = go.Scatter(\n",
    "        x = x_values,\n",
    "        y = y_sigma,\n",
    "        name='Standard Deviation',\n",
    "        yaxis='y2'\n",
    "    )\n",
    "\n",
    "    data = [mu_trace, sigma_trace]\n",
    "    \n",
    "    layout = go.Layout(\n",
    "        title=plot_title,\n",
    "        yaxis=dict(\n",
    "            range=[min_blobs - m, max_blobs + m],\n",
    "            title=\"Mean\",\n",
    "            dtick=1,\n",
    "            tickcolor='#FFF',\n",
    "        ),\n",
    "        yaxis2=dict(\n",
    "            range=[0, 3],\n",
    "            title='Standard Deviation',\n",
    "            tickcolor='#FFF',\n",
    "            overlaying='y',\n",
    "            side='right',\n",
    "            gridcolor='#999',\n",
    "        ),\n",
    "        xaxis=dict(\n",
    "            range=[min_blobs - m, 9 + m],\n",
    "#             range=[min_blobs - m, max_blobs + m],\n",
    "            title=\"True Class\",\n",
    "            dtick=1,\n",
    "            tickcolor='#FFF'\n",
    "        ),\n",
    "        width=500,\n",
    "        height=500,\n",
    "        plot_bgcolor=\"#000\",\n",
    "        paper_bgcolor=\"#000\",\n",
    "        font=dict(\n",
    "            color=\"#FFF\"\n",
    "        ),\n",
    "        titlefont=dict(\n",
    "            color=\"#FFF\"\n",
    "        ),\n",
    "        legend=dict(x=0, y=1),\n",
    "    )\n",
    "    fig = go.Figure(data=data, layout=layout)\n",
    "    iplot(fig)"
   ]
  },
  {
   "cell_type": "code",
   "execution_count": 17,
   "metadata": {
    "collapsed": true
   },
   "outputs": [],
   "source": [
    "def plot_cv(matrix, plot_title):\n",
    "    \"\"\"Plot the coefficient of variation.\"\"\"\n",
    "        \n",
    "    x_values = np.array(range(min_blobs, 9 + 1))\n",
    "#     x_values = np.array(range(min_blobs, max_blobs + 1))\n",
    "    y_cv = matrix[:, 2]\n",
    "\n",
    "    cv_trace = go.Scatter(\n",
    "        x = x_values,\n",
    "        y = y_cv,\n",
    "        name='Coefficient of Variation'\n",
    "    )\n",
    "    data = [cv_trace]\n",
    "    \n",
    "    layout = go.Layout(\n",
    "        title=plot_title,\n",
    "        yaxis=dict(\n",
    "            title=\"Coefficient of Variation\",\n",
    "            tickcolor='#FFF',\n",
    "            showgrid=True\n",
    "        ),\n",
    "        xaxis=dict(\n",
    "            range=[min_blobs - m, 9 + m],\n",
    "#             range=[min_blobs - m, max_blobs + m],\n",
    "            title=\"True Class\",\n",
    "            dtick=1,\n",
    "            tickcolor='#FFF'\n",
    "        ),\n",
    "        width=500,\n",
    "        height=300,\n",
    "        plot_bgcolor=\"#000\",\n",
    "        paper_bgcolor=\"#000\",\n",
    "        font=dict(\n",
    "            color=\"#FFF\"\n",
    "        ),\n",
    "        titlefont=dict(\n",
    "            color=\"#FFF\"\n",
    "        ),\n",
    "    )\n",
    "    fig = go.Figure(data=data, layout=layout)\n",
    "    iplot(fig)"
   ]
  },
  {
   "cell_type": "code",
   "execution_count": 18,
   "metadata": {
    "scrolled": false
   },
   "outputs": [
    {
     "data": {
      "application/vnd.plotly.v1+json": {
       "data": [
        {
         "name": "Mean",
         "type": "scatter",
         "x": [
          1,
          2,
          3,
          4,
          5,
          6,
          7,
          8,
          9
         ],
         "y": [
          1.4156488950273296,
          2.053892640512684,
          2.7348731876625334,
          3.443198556547029,
          4.112421792551908,
          4.790090685983212,
          5.445453921338045,
          6.08945322904705,
          6.656088097723182,
          null,
          null,
          null,
          null,
          null,
          null
         ]
        },
        {
         "name": "Standard Deviation",
         "type": "scatter",
         "x": [
          1,
          2,
          3,
          4,
          5,
          6,
          7,
          8,
          9
         ],
         "y": [
          1.0033645799388278,
          1.5464997065936648,
          1.8946679035135994,
          2.208713648228469,
          2.5020250371574257,
          2.695938068092546,
          2.9343214367012402,
          3.090404263807163,
          3.168449914407236,
          null,
          null,
          null,
          null,
          null,
          null
         ],
         "yaxis": "y2"
        }
       ],
       "layout": {
        "font": {
         "color": "#FFF"
        },
        "height": 500,
        "legend": {
         "x": 0,
         "y": 1
        },
        "paper_bgcolor": "#000",
        "plot_bgcolor": "#000",
        "title": "Confidence after 32000 Iterations at Glimpse 0",
        "titlefont": {
         "color": "#FFF"
        },
        "width": 500,
        "xaxis": {
         "dtick": 1,
         "range": [
          0.5,
          9.5
         ],
         "tickcolor": "#FFF",
         "title": "True Class"
        },
        "yaxis": {
         "dtick": 1,
         "range": [
          0.5,
          15.5
         ],
         "tickcolor": "#FFF",
         "title": "Mean"
        },
        "yaxis2": {
         "gridcolor": "#999",
         "overlaying": "y",
         "range": [
          0,
          3
         ],
         "side": "right",
         "tickcolor": "#FFF",
         "title": "Standard Deviation"
        }
       }
      },
      "text/html": [
       "<div id=\"adaf11c8-5fd8-4522-87bd-11183715df4f\" style=\"height: 500px; width: 500px;\" class=\"plotly-graph-div\"></div><script type=\"text/javascript\">require([\"plotly\"], function(Plotly) { window.PLOTLYENV=window.PLOTLYENV || {};window.PLOTLYENV.BASE_URL=\"https://plot.ly\";Plotly.newPlot(\"adaf11c8-5fd8-4522-87bd-11183715df4f\", [{\"x\": [1, 2, 3, 4, 5, 6, 7, 8, 9], \"name\": \"Mean\", \"y\": [1.4156488950273296, 2.053892640512684, 2.7348731876625334, 3.443198556547029, 4.112421792551908, 4.790090685983212, 5.445453921338045, 6.08945322904705, 6.656088097723182, null, null, null, null, null, null], \"type\": \"scatter\"}, {\"x\": [1, 2, 3, 4, 5, 6, 7, 8, 9], \"name\": \"Standard Deviation\", \"y\": [1.0033645799388278, 1.5464997065936648, 1.8946679035135994, 2.208713648228469, 2.5020250371574257, 2.695938068092546, 2.9343214367012402, 3.090404263807163, 3.168449914407236, null, null, null, null, null, null], \"type\": \"scatter\", \"yaxis\": \"y2\"}], {\"yaxis2\": {\"tickcolor\": \"#FFF\", \"gridcolor\": \"#999\", \"overlaying\": \"y\", \"range\": [0, 3], \"side\": \"right\", \"title\": \"Standard Deviation\"}, \"height\": 500, \"width\": 500, \"yaxis\": {\"tickcolor\": \"#FFF\", \"dtick\": 1, \"title\": \"Mean\", \"range\": [0.5, 15.5]}, \"xaxis\": {\"tickcolor\": \"#FFF\", \"dtick\": 1, \"title\": \"True Class\", \"range\": [0.5, 9.5]}, \"titlefont\": {\"color\": \"#FFF\"}, \"title\": \"Confidence after 32000 Iterations at Glimpse 0\", \"paper_bgcolor\": \"#000\", \"legend\": {\"x\": 0, \"y\": 1}, \"font\": {\"color\": \"#FFF\"}, \"plot_bgcolor\": \"#000\"}, {\"showLink\": true, \"linkText\": \"Export to plot.ly\"})});</script>"
      ],
      "text/vnd.plotly.v1+html": [
       "<div id=\"adaf11c8-5fd8-4522-87bd-11183715df4f\" style=\"height: 500px; width: 500px;\" class=\"plotly-graph-div\"></div><script type=\"text/javascript\">require([\"plotly\"], function(Plotly) { window.PLOTLYENV=window.PLOTLYENV || {};window.PLOTLYENV.BASE_URL=\"https://plot.ly\";Plotly.newPlot(\"adaf11c8-5fd8-4522-87bd-11183715df4f\", [{\"x\": [1, 2, 3, 4, 5, 6, 7, 8, 9], \"name\": \"Mean\", \"y\": [1.4156488950273296, 2.053892640512684, 2.7348731876625334, 3.443198556547029, 4.112421792551908, 4.790090685983212, 5.445453921338045, 6.08945322904705, 6.656088097723182, null, null, null, null, null, null], \"type\": \"scatter\"}, {\"x\": [1, 2, 3, 4, 5, 6, 7, 8, 9], \"name\": \"Standard Deviation\", \"y\": [1.0033645799388278, 1.5464997065936648, 1.8946679035135994, 2.208713648228469, 2.5020250371574257, 2.695938068092546, 2.9343214367012402, 3.090404263807163, 3.168449914407236, null, null, null, null, null, null], \"type\": \"scatter\", \"yaxis\": \"y2\"}], {\"yaxis2\": {\"tickcolor\": \"#FFF\", \"gridcolor\": \"#999\", \"overlaying\": \"y\", \"range\": [0, 3], \"side\": \"right\", \"title\": \"Standard Deviation\"}, \"height\": 500, \"width\": 500, \"yaxis\": {\"tickcolor\": \"#FFF\", \"dtick\": 1, \"title\": \"Mean\", \"range\": [0.5, 15.5]}, \"xaxis\": {\"tickcolor\": \"#FFF\", \"dtick\": 1, \"title\": \"True Class\", \"range\": [0.5, 9.5]}, \"titlefont\": {\"color\": \"#FFF\"}, \"title\": \"Confidence after 32000 Iterations at Glimpse 0\", \"paper_bgcolor\": \"#000\", \"legend\": {\"x\": 0, \"y\": 1}, \"font\": {\"color\": \"#FFF\"}, \"plot_bgcolor\": \"#000\"}, {\"showLink\": true, \"linkText\": \"Export to plot.ly\"})});</script>"
      ]
     },
     "metadata": {},
     "output_type": "display_data"
    },
    {
     "data": {
      "application/vnd.plotly.v1+json": {
       "data": [
        {
         "name": "Coefficient of Variation",
         "type": "scatter",
         "x": [
          1,
          2,
          3,
          4,
          5,
          6,
          7,
          8,
          9
         ],
         "y": [
          0.6300229528016934,
          0.7481521032421469,
          0.7258233488002466,
          0.6986757085326338,
          0.6811279504430988,
          0.650299299520394,
          0.6361612988340115,
          0.611083094902215,
          0.5848975028568693,
          null,
          null,
          null,
          null,
          null,
          null
         ]
        }
       ],
       "layout": {
        "font": {
         "color": "#FFF"
        },
        "height": 300,
        "paper_bgcolor": "#000",
        "plot_bgcolor": "#000",
        "title": "Confidence after 32000 Iterations at Glimpse 0",
        "titlefont": {
         "color": "#FFF"
        },
        "width": 500,
        "xaxis": {
         "dtick": 1,
         "range": [
          0.5,
          9.5
         ],
         "tickcolor": "#FFF",
         "title": "True Class"
        },
        "yaxis": {
         "showgrid": true,
         "tickcolor": "#FFF",
         "title": "Coefficient of Variation"
        }
       }
      },
      "text/html": [
       "<div id=\"0acbcc87-b85c-4a0b-b977-6b3bdb34d920\" style=\"height: 300px; width: 500px;\" class=\"plotly-graph-div\"></div><script type=\"text/javascript\">require([\"plotly\"], function(Plotly) { window.PLOTLYENV=window.PLOTLYENV || {};window.PLOTLYENV.BASE_URL=\"https://plot.ly\";Plotly.newPlot(\"0acbcc87-b85c-4a0b-b977-6b3bdb34d920\", [{\"x\": [1, 2, 3, 4, 5, 6, 7, 8, 9], \"name\": \"Coefficient of Variation\", \"y\": [0.6300229528016934, 0.7481521032421469, 0.7258233488002466, 0.6986757085326338, 0.6811279504430988, 0.650299299520394, 0.6361612988340115, 0.611083094902215, 0.5848975028568693, null, null, null, null, null, null], \"type\": \"scatter\"}], {\"height\": 300, \"width\": 500, \"yaxis\": {\"showgrid\": true, \"tickcolor\": \"#FFF\", \"title\": \"Coefficient of Variation\"}, \"xaxis\": {\"tickcolor\": \"#FFF\", \"dtick\": 1, \"title\": \"True Class\", \"range\": [0.5, 9.5]}, \"titlefont\": {\"color\": \"#FFF\"}, \"title\": \"Confidence after 32000 Iterations at Glimpse 0\", \"paper_bgcolor\": \"#000\", \"font\": {\"color\": \"#FFF\"}, \"plot_bgcolor\": \"#000\"}, {\"showLink\": true, \"linkText\": \"Export to plot.ly\"})});</script>"
      ],
      "text/vnd.plotly.v1+html": [
       "<div id=\"0acbcc87-b85c-4a0b-b977-6b3bdb34d920\" style=\"height: 300px; width: 500px;\" class=\"plotly-graph-div\"></div><script type=\"text/javascript\">require([\"plotly\"], function(Plotly) { window.PLOTLYENV=window.PLOTLYENV || {};window.PLOTLYENV.BASE_URL=\"https://plot.ly\";Plotly.newPlot(\"0acbcc87-b85c-4a0b-b977-6b3bdb34d920\", [{\"x\": [1, 2, 3, 4, 5, 6, 7, 8, 9], \"name\": \"Coefficient of Variation\", \"y\": [0.6300229528016934, 0.7481521032421469, 0.7258233488002466, 0.6986757085326338, 0.6811279504430988, 0.650299299520394, 0.6361612988340115, 0.611083094902215, 0.5848975028568693, null, null, null, null, null, null], \"type\": \"scatter\"}], {\"height\": 300, \"width\": 500, \"yaxis\": {\"showgrid\": true, \"tickcolor\": \"#FFF\", \"title\": \"Coefficient of Variation\"}, \"xaxis\": {\"tickcolor\": \"#FFF\", \"dtick\": 1, \"title\": \"True Class\", \"range\": [0.5, 9.5]}, \"titlefont\": {\"color\": \"#FFF\"}, \"title\": \"Confidence after 32000 Iterations at Glimpse 0\", \"paper_bgcolor\": \"#000\", \"font\": {\"color\": \"#FFF\"}, \"plot_bgcolor\": \"#000\"}, {\"showLink\": true, \"linkText\": \"Export to plot.ly\"})});</script>"
      ]
     },
     "metadata": {},
     "output_type": "display_data"
    },
    {
     "data": {
      "application/vnd.plotly.v1+json": {
       "data": [
        {
         "name": "Mean",
         "type": "scatter",
         "x": [
          1,
          2,
          3,
          4,
          5,
          6,
          7,
          8,
          9
         ],
         "y": [
          1.0098723373564134,
          1.4681688789323588,
          2.012299068175028,
          2.6882018213132177,
          3.329254881492345,
          3.978182218176959,
          4.693456526850185,
          5.371268868711693,
          5.970938408847112,
          null,
          null,
          null,
          null,
          null,
          null
         ]
        },
        {
         "name": "Standard Deviation",
         "type": "scatter",
         "x": [
          1,
          2,
          3,
          4,
          5,
          6,
          7,
          8,
          9
         ],
         "y": [
          0.12622450515263756,
          0.6941626917929065,
          0.9741548313991938,
          1.432486482184943,
          1.7986839171881641,
          1.9322475198050761,
          2.3317961490044254,
          2.5686298142567745,
          2.6797602582277955,
          null,
          null,
          null,
          null,
          null,
          null
         ],
         "yaxis": "y2"
        }
       ],
       "layout": {
        "font": {
         "color": "#FFF"
        },
        "height": 500,
        "legend": {
         "x": 0,
         "y": 1
        },
        "paper_bgcolor": "#000",
        "plot_bgcolor": "#000",
        "title": "Choice after 32000 Iterations at Glimpse 0",
        "titlefont": {
         "color": "#FFF"
        },
        "width": 500,
        "xaxis": {
         "dtick": 1,
         "range": [
          0.5,
          9.5
         ],
         "tickcolor": "#FFF",
         "title": "True Class"
        },
        "yaxis": {
         "dtick": 1,
         "range": [
          0.5,
          15.5
         ],
         "tickcolor": "#FFF",
         "title": "Mean"
        },
        "yaxis2": {
         "gridcolor": "#999",
         "overlaying": "y",
         "range": [
          0,
          3
         ],
         "side": "right",
         "tickcolor": "#FFF",
         "title": "Standard Deviation"
        }
       }
      },
      "text/html": [
       "<div id=\"5ff743ab-5a84-4fe1-a657-27c9f73f62d4\" style=\"height: 500px; width: 500px;\" class=\"plotly-graph-div\"></div><script type=\"text/javascript\">require([\"plotly\"], function(Plotly) { window.PLOTLYENV=window.PLOTLYENV || {};window.PLOTLYENV.BASE_URL=\"https://plot.ly\";Plotly.newPlot(\"5ff743ab-5a84-4fe1-a657-27c9f73f62d4\", [{\"x\": [1, 2, 3, 4, 5, 6, 7, 8, 9], \"name\": \"Mean\", \"y\": [1.0098723373564134, 1.4681688789323588, 2.012299068175028, 2.6882018213132177, 3.329254881492345, 3.978182218176959, 4.693456526850185, 5.371268868711693, 5.970938408847112, null, null, null, null, null, null], \"type\": \"scatter\"}, {\"x\": [1, 2, 3, 4, 5, 6, 7, 8, 9], \"name\": \"Standard Deviation\", \"y\": [0.12622450515263756, 0.6941626917929065, 0.9741548313991938, 1.432486482184943, 1.7986839171881641, 1.9322475198050761, 2.3317961490044254, 2.5686298142567745, 2.6797602582277955, null, null, null, null, null, null], \"type\": \"scatter\", \"yaxis\": \"y2\"}], {\"yaxis2\": {\"tickcolor\": \"#FFF\", \"gridcolor\": \"#999\", \"overlaying\": \"y\", \"range\": [0, 3], \"side\": \"right\", \"title\": \"Standard Deviation\"}, \"height\": 500, \"width\": 500, \"yaxis\": {\"tickcolor\": \"#FFF\", \"dtick\": 1, \"title\": \"Mean\", \"range\": [0.5, 15.5]}, \"xaxis\": {\"tickcolor\": \"#FFF\", \"dtick\": 1, \"title\": \"True Class\", \"range\": [0.5, 9.5]}, \"titlefont\": {\"color\": \"#FFF\"}, \"title\": \"Choice after 32000 Iterations at Glimpse 0\", \"paper_bgcolor\": \"#000\", \"legend\": {\"x\": 0, \"y\": 1}, \"font\": {\"color\": \"#FFF\"}, \"plot_bgcolor\": \"#000\"}, {\"showLink\": true, \"linkText\": \"Export to plot.ly\"})});</script>"
      ],
      "text/vnd.plotly.v1+html": [
       "<div id=\"5ff743ab-5a84-4fe1-a657-27c9f73f62d4\" style=\"height: 500px; width: 500px;\" class=\"plotly-graph-div\"></div><script type=\"text/javascript\">require([\"plotly\"], function(Plotly) { window.PLOTLYENV=window.PLOTLYENV || {};window.PLOTLYENV.BASE_URL=\"https://plot.ly\";Plotly.newPlot(\"5ff743ab-5a84-4fe1-a657-27c9f73f62d4\", [{\"x\": [1, 2, 3, 4, 5, 6, 7, 8, 9], \"name\": \"Mean\", \"y\": [1.0098723373564134, 1.4681688789323588, 2.012299068175028, 2.6882018213132177, 3.329254881492345, 3.978182218176959, 4.693456526850185, 5.371268868711693, 5.970938408847112, null, null, null, null, null, null], \"type\": \"scatter\"}, {\"x\": [1, 2, 3, 4, 5, 6, 7, 8, 9], \"name\": \"Standard Deviation\", \"y\": [0.12622450515263756, 0.6941626917929065, 0.9741548313991938, 1.432486482184943, 1.7986839171881641, 1.9322475198050761, 2.3317961490044254, 2.5686298142567745, 2.6797602582277955, null, null, null, null, null, null], \"type\": \"scatter\", \"yaxis\": \"y2\"}], {\"yaxis2\": {\"tickcolor\": \"#FFF\", \"gridcolor\": \"#999\", \"overlaying\": \"y\", \"range\": [0, 3], \"side\": \"right\", \"title\": \"Standard Deviation\"}, \"height\": 500, \"width\": 500, \"yaxis\": {\"tickcolor\": \"#FFF\", \"dtick\": 1, \"title\": \"Mean\", \"range\": [0.5, 15.5]}, \"xaxis\": {\"tickcolor\": \"#FFF\", \"dtick\": 1, \"title\": \"True Class\", \"range\": [0.5, 9.5]}, \"titlefont\": {\"color\": \"#FFF\"}, \"title\": \"Choice after 32000 Iterations at Glimpse 0\", \"paper_bgcolor\": \"#000\", \"legend\": {\"x\": 0, \"y\": 1}, \"font\": {\"color\": \"#FFF\"}, \"plot_bgcolor\": \"#000\"}, {\"showLink\": true, \"linkText\": \"Export to plot.ly\"})});</script>"
      ]
     },
     "metadata": {},
     "output_type": "display_data"
    },
    {
     "data": {
      "application/vnd.plotly.v1+json": {
       "data": [
        {
         "name": "Coefficient of Variation",
         "type": "scatter",
         "x": [
          1,
          2,
          3,
          4,
          5,
          6,
          7,
          8,
          9
         ],
         "y": [
          0.12439500506838352,
          0.48915447196093426,
          0.5329704813269396,
          0.6377153572700388,
          0.7110806185024536,
          0.65873774164521,
          0.6993108675421291,
          0.6839204088425587,
          0.6605101200772336,
          null,
          null,
          null,
          null,
          null,
          null
         ]
        }
       ],
       "layout": {
        "font": {
         "color": "#FFF"
        },
        "height": 300,
        "paper_bgcolor": "#000",
        "plot_bgcolor": "#000",
        "title": "Choice after 32000 Iterations at Glimpse 0",
        "titlefont": {
         "color": "#FFF"
        },
        "width": 500,
        "xaxis": {
         "dtick": 1,
         "range": [
          0.5,
          9.5
         ],
         "tickcolor": "#FFF",
         "title": "True Class"
        },
        "yaxis": {
         "showgrid": true,
         "tickcolor": "#FFF",
         "title": "Coefficient of Variation"
        }
       }
      },
      "text/html": [
       "<div id=\"d6c4e6c0-bf7c-4294-b856-21a50f73223a\" style=\"height: 300px; width: 500px;\" class=\"plotly-graph-div\"></div><script type=\"text/javascript\">require([\"plotly\"], function(Plotly) { window.PLOTLYENV=window.PLOTLYENV || {};window.PLOTLYENV.BASE_URL=\"https://plot.ly\";Plotly.newPlot(\"d6c4e6c0-bf7c-4294-b856-21a50f73223a\", [{\"x\": [1, 2, 3, 4, 5, 6, 7, 8, 9], \"name\": \"Coefficient of Variation\", \"y\": [0.12439500506838352, 0.48915447196093426, 0.5329704813269396, 0.6377153572700388, 0.7110806185024536, 0.65873774164521, 0.6993108675421291, 0.6839204088425587, 0.6605101200772336, null, null, null, null, null, null], \"type\": \"scatter\"}], {\"height\": 300, \"width\": 500, \"yaxis\": {\"showgrid\": true, \"tickcolor\": \"#FFF\", \"title\": \"Coefficient of Variation\"}, \"xaxis\": {\"tickcolor\": \"#FFF\", \"dtick\": 1, \"title\": \"True Class\", \"range\": [0.5, 9.5]}, \"titlefont\": {\"color\": \"#FFF\"}, \"title\": \"Choice after 32000 Iterations at Glimpse 0\", \"paper_bgcolor\": \"#000\", \"font\": {\"color\": \"#FFF\"}, \"plot_bgcolor\": \"#000\"}, {\"showLink\": true, \"linkText\": \"Export to plot.ly\"})});</script>"
      ],
      "text/vnd.plotly.v1+html": [
       "<div id=\"d6c4e6c0-bf7c-4294-b856-21a50f73223a\" style=\"height: 300px; width: 500px;\" class=\"plotly-graph-div\"></div><script type=\"text/javascript\">require([\"plotly\"], function(Plotly) { window.PLOTLYENV=window.PLOTLYENV || {};window.PLOTLYENV.BASE_URL=\"https://plot.ly\";Plotly.newPlot(\"d6c4e6c0-bf7c-4294-b856-21a50f73223a\", [{\"x\": [1, 2, 3, 4, 5, 6, 7, 8, 9], \"name\": \"Coefficient of Variation\", \"y\": [0.12439500506838352, 0.48915447196093426, 0.5329704813269396, 0.6377153572700388, 0.7110806185024536, 0.65873774164521, 0.6993108675421291, 0.6839204088425587, 0.6605101200772336, null, null, null, null, null, null], \"type\": \"scatter\"}], {\"height\": 300, \"width\": 500, \"yaxis\": {\"showgrid\": true, \"tickcolor\": \"#FFF\", \"title\": \"Coefficient of Variation\"}, \"xaxis\": {\"tickcolor\": \"#FFF\", \"dtick\": 1, \"title\": \"True Class\", \"range\": [0.5, 9.5]}, \"titlefont\": {\"color\": \"#FFF\"}, \"title\": \"Choice after 32000 Iterations at Glimpse 0\", \"paper_bgcolor\": \"#000\", \"font\": {\"color\": \"#FFF\"}, \"plot_bgcolor\": \"#000\"}, {\"showLink\": true, \"linkText\": \"Export to plot.ly\"})});</script>"
      ]
     },
     "metadata": {},
     "output_type": "display_data"
    },
    {
     "data": {
      "application/vnd.plotly.v1+json": {
       "data": [
        {
         "name": "Mean",
         "type": "scatter",
         "x": [
          1,
          2,
          3,
          4,
          5,
          6,
          7,
          8,
          9
         ],
         "y": [
          1.1086911218060034,
          1.9149984706558503,
          2.8412212629631948,
          3.8062531530906525,
          4.748457482127476,
          5.682925258515528,
          6.637851160486359,
          7.571162661478067,
          8.493728281777136,
          null,
          null,
          null,
          null,
          null,
          null
         ]
        },
        {
         "name": "Standard Deviation",
         "type": "scatter",
         "x": [
          1,
          2,
          3,
          4,
          5,
          6,
          7,
          8,
          9
         ],
         "y": [
          0.3523882496324368,
          0.9262907308474404,
          1.2899878112061383,
          1.6104619296098857,
          1.8771206556761446,
          2.1155385843825463,
          2.4097872764607056,
          2.60748536678462,
          2.787426727596322,
          null,
          null,
          null,
          null,
          null,
          null
         ],
         "yaxis": "y2"
        }
       ],
       "layout": {
        "font": {
         "color": "#FFF"
        },
        "height": 500,
        "legend": {
         "x": 0,
         "y": 1
        },
        "paper_bgcolor": "#000",
        "plot_bgcolor": "#000",
        "title": "Confidence after 32000 Iterations at Glimpse 3",
        "titlefont": {
         "color": "#FFF"
        },
        "width": 500,
        "xaxis": {
         "dtick": 1,
         "range": [
          0.5,
          9.5
         ],
         "tickcolor": "#FFF",
         "title": "True Class"
        },
        "yaxis": {
         "dtick": 1,
         "range": [
          0.5,
          15.5
         ],
         "tickcolor": "#FFF",
         "title": "Mean"
        },
        "yaxis2": {
         "gridcolor": "#999",
         "overlaying": "y",
         "range": [
          0,
          3
         ],
         "side": "right",
         "tickcolor": "#FFF",
         "title": "Standard Deviation"
        }
       }
      },
      "text/html": [
       "<div id=\"5cacdc26-e4cb-47bc-9d3a-38c6edd91040\" style=\"height: 500px; width: 500px;\" class=\"plotly-graph-div\"></div><script type=\"text/javascript\">require([\"plotly\"], function(Plotly) { window.PLOTLYENV=window.PLOTLYENV || {};window.PLOTLYENV.BASE_URL=\"https://plot.ly\";Plotly.newPlot(\"5cacdc26-e4cb-47bc-9d3a-38c6edd91040\", [{\"x\": [1, 2, 3, 4, 5, 6, 7, 8, 9], \"name\": \"Mean\", \"y\": [1.1086911218060034, 1.9149984706558503, 2.8412212629631948, 3.8062531530906525, 4.748457482127476, 5.682925258515528, 6.637851160486359, 7.571162661478067, 8.493728281777136, null, null, null, null, null, null], \"type\": \"scatter\"}, {\"x\": [1, 2, 3, 4, 5, 6, 7, 8, 9], \"name\": \"Standard Deviation\", \"y\": [0.3523882496324368, 0.9262907308474404, 1.2899878112061383, 1.6104619296098857, 1.8771206556761446, 2.1155385843825463, 2.4097872764607056, 2.60748536678462, 2.787426727596322, null, null, null, null, null, null], \"type\": \"scatter\", \"yaxis\": \"y2\"}], {\"yaxis2\": {\"tickcolor\": \"#FFF\", \"gridcolor\": \"#999\", \"overlaying\": \"y\", \"range\": [0, 3], \"side\": \"right\", \"title\": \"Standard Deviation\"}, \"height\": 500, \"width\": 500, \"yaxis\": {\"tickcolor\": \"#FFF\", \"dtick\": 1, \"title\": \"Mean\", \"range\": [0.5, 15.5]}, \"xaxis\": {\"tickcolor\": \"#FFF\", \"dtick\": 1, \"title\": \"True Class\", \"range\": [0.5, 9.5]}, \"titlefont\": {\"color\": \"#FFF\"}, \"title\": \"Confidence after 32000 Iterations at Glimpse 3\", \"paper_bgcolor\": \"#000\", \"legend\": {\"x\": 0, \"y\": 1}, \"font\": {\"color\": \"#FFF\"}, \"plot_bgcolor\": \"#000\"}, {\"showLink\": true, \"linkText\": \"Export to plot.ly\"})});</script>"
      ],
      "text/vnd.plotly.v1+html": [
       "<div id=\"5cacdc26-e4cb-47bc-9d3a-38c6edd91040\" style=\"height: 500px; width: 500px;\" class=\"plotly-graph-div\"></div><script type=\"text/javascript\">require([\"plotly\"], function(Plotly) { window.PLOTLYENV=window.PLOTLYENV || {};window.PLOTLYENV.BASE_URL=\"https://plot.ly\";Plotly.newPlot(\"5cacdc26-e4cb-47bc-9d3a-38c6edd91040\", [{\"x\": [1, 2, 3, 4, 5, 6, 7, 8, 9], \"name\": \"Mean\", \"y\": [1.1086911218060034, 1.9149984706558503, 2.8412212629631948, 3.8062531530906525, 4.748457482127476, 5.682925258515528, 6.637851160486359, 7.571162661478067, 8.493728281777136, null, null, null, null, null, null], \"type\": \"scatter\"}, {\"x\": [1, 2, 3, 4, 5, 6, 7, 8, 9], \"name\": \"Standard Deviation\", \"y\": [0.3523882496324368, 0.9262907308474404, 1.2899878112061383, 1.6104619296098857, 1.8771206556761446, 2.1155385843825463, 2.4097872764607056, 2.60748536678462, 2.787426727596322, null, null, null, null, null, null], \"type\": \"scatter\", \"yaxis\": \"y2\"}], {\"yaxis2\": {\"tickcolor\": \"#FFF\", \"gridcolor\": \"#999\", \"overlaying\": \"y\", \"range\": [0, 3], \"side\": \"right\", \"title\": \"Standard Deviation\"}, \"height\": 500, \"width\": 500, \"yaxis\": {\"tickcolor\": \"#FFF\", \"dtick\": 1, \"title\": \"Mean\", \"range\": [0.5, 15.5]}, \"xaxis\": {\"tickcolor\": \"#FFF\", \"dtick\": 1, \"title\": \"True Class\", \"range\": [0.5, 9.5]}, \"titlefont\": {\"color\": \"#FFF\"}, \"title\": \"Confidence after 32000 Iterations at Glimpse 3\", \"paper_bgcolor\": \"#000\", \"legend\": {\"x\": 0, \"y\": 1}, \"font\": {\"color\": \"#FFF\"}, \"plot_bgcolor\": \"#000\"}, {\"showLink\": true, \"linkText\": \"Export to plot.ly\"})});</script>"
      ]
     },
     "metadata": {},
     "output_type": "display_data"
    },
    {
     "data": {
      "application/vnd.plotly.v1+json": {
       "data": [
        {
         "name": "Coefficient of Variation",
         "type": "scatter",
         "x": [
          1,
          2,
          3,
          4,
          5,
          6,
          7,
          8,
          9
         ],
         "y": [
          0.3153420366439842,
          0.4893863354656053,
          0.45572654037404214,
          0.42314968161717853,
          0.3956522705864932,
          0.37297163602588074,
          0.3642365617263835,
          0.34579861966694453,
          0.3296676517342767,
          null,
          null,
          null,
          null,
          null,
          null
         ]
        }
       ],
       "layout": {
        "font": {
         "color": "#FFF"
        },
        "height": 300,
        "paper_bgcolor": "#000",
        "plot_bgcolor": "#000",
        "title": "Confidence after 32000 Iterations at Glimpse 3",
        "titlefont": {
         "color": "#FFF"
        },
        "width": 500,
        "xaxis": {
         "dtick": 1,
         "range": [
          0.5,
          9.5
         ],
         "tickcolor": "#FFF",
         "title": "True Class"
        },
        "yaxis": {
         "showgrid": true,
         "tickcolor": "#FFF",
         "title": "Coefficient of Variation"
        }
       }
      },
      "text/html": [
       "<div id=\"1146ffc9-1434-44f0-b3d6-933f488348b5\" style=\"height: 300px; width: 500px;\" class=\"plotly-graph-div\"></div><script type=\"text/javascript\">require([\"plotly\"], function(Plotly) { window.PLOTLYENV=window.PLOTLYENV || {};window.PLOTLYENV.BASE_URL=\"https://plot.ly\";Plotly.newPlot(\"1146ffc9-1434-44f0-b3d6-933f488348b5\", [{\"x\": [1, 2, 3, 4, 5, 6, 7, 8, 9], \"name\": \"Coefficient of Variation\", \"y\": [0.3153420366439842, 0.4893863354656053, 0.45572654037404214, 0.42314968161717853, 0.3956522705864932, 0.37297163602588074, 0.3642365617263835, 0.34579861966694453, 0.3296676517342767, null, null, null, null, null, null], \"type\": \"scatter\"}], {\"height\": 300, \"width\": 500, \"yaxis\": {\"showgrid\": true, \"tickcolor\": \"#FFF\", \"title\": \"Coefficient of Variation\"}, \"xaxis\": {\"tickcolor\": \"#FFF\", \"dtick\": 1, \"title\": \"True Class\", \"range\": [0.5, 9.5]}, \"titlefont\": {\"color\": \"#FFF\"}, \"title\": \"Confidence after 32000 Iterations at Glimpse 3\", \"paper_bgcolor\": \"#000\", \"font\": {\"color\": \"#FFF\"}, \"plot_bgcolor\": \"#000\"}, {\"showLink\": true, \"linkText\": \"Export to plot.ly\"})});</script>"
      ],
      "text/vnd.plotly.v1+html": [
       "<div id=\"1146ffc9-1434-44f0-b3d6-933f488348b5\" style=\"height: 300px; width: 500px;\" class=\"plotly-graph-div\"></div><script type=\"text/javascript\">require([\"plotly\"], function(Plotly) { window.PLOTLYENV=window.PLOTLYENV || {};window.PLOTLYENV.BASE_URL=\"https://plot.ly\";Plotly.newPlot(\"1146ffc9-1434-44f0-b3d6-933f488348b5\", [{\"x\": [1, 2, 3, 4, 5, 6, 7, 8, 9], \"name\": \"Coefficient of Variation\", \"y\": [0.3153420366439842, 0.4893863354656053, 0.45572654037404214, 0.42314968161717853, 0.3956522705864932, 0.37297163602588074, 0.3642365617263835, 0.34579861966694453, 0.3296676517342767, null, null, null, null, null, null], \"type\": \"scatter\"}], {\"height\": 300, \"width\": 500, \"yaxis\": {\"showgrid\": true, \"tickcolor\": \"#FFF\", \"title\": \"Coefficient of Variation\"}, \"xaxis\": {\"tickcolor\": \"#FFF\", \"dtick\": 1, \"title\": \"True Class\", \"range\": [0.5, 9.5]}, \"titlefont\": {\"color\": \"#FFF\"}, \"title\": \"Confidence after 32000 Iterations at Glimpse 3\", \"paper_bgcolor\": \"#000\", \"font\": {\"color\": \"#FFF\"}, \"plot_bgcolor\": \"#000\"}, {\"showLink\": true, \"linkText\": \"Export to plot.ly\"})});</script>"
      ]
     },
     "metadata": {},
     "output_type": "display_data"
    },
    {
     "data": {
      "application/vnd.plotly.v1+json": {
       "data": [
        {
         "name": "Mean",
         "type": "scatter",
         "x": [
          1,
          2,
          3,
          4,
          5,
          6,
          7,
          8,
          9
         ],
         "y": [
          1.0092318156435367,
          1.7051078075115185,
          2.5746487237832922,
          3.562483484873563,
          4.493543339743649,
          5.387919950014125,
          6.360849676633015,
          7.307075587658216,
          8.31088986542799,
          null,
          null,
          null,
          null,
          null,
          null
         ]
        },
        {
         "name": "Standard Deviation",
         "type": "scatter",
         "x": [
          1,
          2,
          3,
          4,
          5,
          6,
          7,
          8,
          9
         ],
         "y": [
          0.08351770047083787,
          0.6684885086840036,
          1.0266163508284407,
          1.3032505688677207,
          1.504962134854341,
          1.6912891796539156,
          1.9982720238443215,
          2.2091860857478043,
          2.519549265333482,
          null,
          null,
          null,
          null,
          null,
          null
         ],
         "yaxis": "y2"
        }
       ],
       "layout": {
        "font": {
         "color": "#FFF"
        },
        "height": 500,
        "legend": {
         "x": 0,
         "y": 1
        },
        "paper_bgcolor": "#000",
        "plot_bgcolor": "#000",
        "title": "Choice after 32000 Iterations at Glimpse 3",
        "titlefont": {
         "color": "#FFF"
        },
        "width": 500,
        "xaxis": {
         "dtick": 1,
         "range": [
          0.5,
          9.5
         ],
         "tickcolor": "#FFF",
         "title": "True Class"
        },
        "yaxis": {
         "dtick": 1,
         "range": [
          0.5,
          15.5
         ],
         "tickcolor": "#FFF",
         "title": "Mean"
        },
        "yaxis2": {
         "gridcolor": "#999",
         "overlaying": "y",
         "range": [
          0,
          3
         ],
         "side": "right",
         "tickcolor": "#FFF",
         "title": "Standard Deviation"
        }
       }
      },
      "text/html": [
       "<div id=\"17005b10-3ce9-4e46-8807-4341376c8083\" style=\"height: 500px; width: 500px;\" class=\"plotly-graph-div\"></div><script type=\"text/javascript\">require([\"plotly\"], function(Plotly) { window.PLOTLYENV=window.PLOTLYENV || {};window.PLOTLYENV.BASE_URL=\"https://plot.ly\";Plotly.newPlot(\"17005b10-3ce9-4e46-8807-4341376c8083\", [{\"x\": [1, 2, 3, 4, 5, 6, 7, 8, 9], \"name\": \"Mean\", \"y\": [1.0092318156435367, 1.7051078075115185, 2.5746487237832922, 3.562483484873563, 4.493543339743649, 5.387919950014125, 6.360849676633015, 7.307075587658216, 8.31088986542799, null, null, null, null, null, null], \"type\": \"scatter\"}, {\"x\": [1, 2, 3, 4, 5, 6, 7, 8, 9], \"name\": \"Standard Deviation\", \"y\": [0.08351770047083787, 0.6684885086840036, 1.0266163508284407, 1.3032505688677207, 1.504962134854341, 1.6912891796539156, 1.9982720238443215, 2.2091860857478043, 2.519549265333482, null, null, null, null, null, null], \"type\": \"scatter\", \"yaxis\": \"y2\"}], {\"yaxis2\": {\"tickcolor\": \"#FFF\", \"gridcolor\": \"#999\", \"overlaying\": \"y\", \"range\": [0, 3], \"side\": \"right\", \"title\": \"Standard Deviation\"}, \"height\": 500, \"width\": 500, \"yaxis\": {\"tickcolor\": \"#FFF\", \"dtick\": 1, \"title\": \"Mean\", \"range\": [0.5, 15.5]}, \"xaxis\": {\"tickcolor\": \"#FFF\", \"dtick\": 1, \"title\": \"True Class\", \"range\": [0.5, 9.5]}, \"titlefont\": {\"color\": \"#FFF\"}, \"title\": \"Choice after 32000 Iterations at Glimpse 3\", \"paper_bgcolor\": \"#000\", \"legend\": {\"x\": 0, \"y\": 1}, \"font\": {\"color\": \"#FFF\"}, \"plot_bgcolor\": \"#000\"}, {\"showLink\": true, \"linkText\": \"Export to plot.ly\"})});</script>"
      ],
      "text/vnd.plotly.v1+html": [
       "<div id=\"17005b10-3ce9-4e46-8807-4341376c8083\" style=\"height: 500px; width: 500px;\" class=\"plotly-graph-div\"></div><script type=\"text/javascript\">require([\"plotly\"], function(Plotly) { window.PLOTLYENV=window.PLOTLYENV || {};window.PLOTLYENV.BASE_URL=\"https://plot.ly\";Plotly.newPlot(\"17005b10-3ce9-4e46-8807-4341376c8083\", [{\"x\": [1, 2, 3, 4, 5, 6, 7, 8, 9], \"name\": \"Mean\", \"y\": [1.0092318156435367, 1.7051078075115185, 2.5746487237832922, 3.562483484873563, 4.493543339743649, 5.387919950014125, 6.360849676633015, 7.307075587658216, 8.31088986542799, null, null, null, null, null, null], \"type\": \"scatter\"}, {\"x\": [1, 2, 3, 4, 5, 6, 7, 8, 9], \"name\": \"Standard Deviation\", \"y\": [0.08351770047083787, 0.6684885086840036, 1.0266163508284407, 1.3032505688677207, 1.504962134854341, 1.6912891796539156, 1.9982720238443215, 2.2091860857478043, 2.519549265333482, null, null, null, null, null, null], \"type\": \"scatter\", \"yaxis\": \"y2\"}], {\"yaxis2\": {\"tickcolor\": \"#FFF\", \"gridcolor\": \"#999\", \"overlaying\": \"y\", \"range\": [0, 3], \"side\": \"right\", \"title\": \"Standard Deviation\"}, \"height\": 500, \"width\": 500, \"yaxis\": {\"tickcolor\": \"#FFF\", \"dtick\": 1, \"title\": \"Mean\", \"range\": [0.5, 15.5]}, \"xaxis\": {\"tickcolor\": \"#FFF\", \"dtick\": 1, \"title\": \"True Class\", \"range\": [0.5, 9.5]}, \"titlefont\": {\"color\": \"#FFF\"}, \"title\": \"Choice after 32000 Iterations at Glimpse 3\", \"paper_bgcolor\": \"#000\", \"legend\": {\"x\": 0, \"y\": 1}, \"font\": {\"color\": \"#FFF\"}, \"plot_bgcolor\": \"#000\"}, {\"showLink\": true, \"linkText\": \"Export to plot.ly\"})});</script>"
      ]
     },
     "metadata": {},
     "output_type": "display_data"
    },
    {
     "data": {
      "application/vnd.plotly.v1+json": {
       "data": [
        {
         "name": "Coefficient of Variation",
         "type": "scatter",
         "x": [
          1,
          2,
          3,
          4,
          5,
          6,
          7,
          8,
          9
         ],
         "y": [
          0.08233590191275374,
          0.4010414715566656,
          0.4016178130992622,
          0.3671475969372079,
          0.33720637766427053,
          0.31522728332813654,
          0.31561720653549064,
          0.3041425029463656,
          0.3049804630865829,
          null,
          null,
          null,
          null,
          null,
          null
         ]
        }
       ],
       "layout": {
        "font": {
         "color": "#FFF"
        },
        "height": 300,
        "paper_bgcolor": "#000",
        "plot_bgcolor": "#000",
        "title": "Choice after 32000 Iterations at Glimpse 3",
        "titlefont": {
         "color": "#FFF"
        },
        "width": 500,
        "xaxis": {
         "dtick": 1,
         "range": [
          0.5,
          9.5
         ],
         "tickcolor": "#FFF",
         "title": "True Class"
        },
        "yaxis": {
         "showgrid": true,
         "tickcolor": "#FFF",
         "title": "Coefficient of Variation"
        }
       }
      },
      "text/html": [
       "<div id=\"59180fe6-309c-4878-86b2-2316d97a477e\" style=\"height: 300px; width: 500px;\" class=\"plotly-graph-div\"></div><script type=\"text/javascript\">require([\"plotly\"], function(Plotly) { window.PLOTLYENV=window.PLOTLYENV || {};window.PLOTLYENV.BASE_URL=\"https://plot.ly\";Plotly.newPlot(\"59180fe6-309c-4878-86b2-2316d97a477e\", [{\"x\": [1, 2, 3, 4, 5, 6, 7, 8, 9], \"name\": \"Coefficient of Variation\", \"y\": [0.08233590191275374, 0.4010414715566656, 0.4016178130992622, 0.3671475969372079, 0.33720637766427053, 0.31522728332813654, 0.31561720653549064, 0.3041425029463656, 0.3049804630865829, null, null, null, null, null, null], \"type\": \"scatter\"}], {\"height\": 300, \"width\": 500, \"yaxis\": {\"showgrid\": true, \"tickcolor\": \"#FFF\", \"title\": \"Coefficient of Variation\"}, \"xaxis\": {\"tickcolor\": \"#FFF\", \"dtick\": 1, \"title\": \"True Class\", \"range\": [0.5, 9.5]}, \"titlefont\": {\"color\": \"#FFF\"}, \"title\": \"Choice after 32000 Iterations at Glimpse 3\", \"paper_bgcolor\": \"#000\", \"font\": {\"color\": \"#FFF\"}, \"plot_bgcolor\": \"#000\"}, {\"showLink\": true, \"linkText\": \"Export to plot.ly\"})});</script>"
      ],
      "text/vnd.plotly.v1+html": [
       "<div id=\"59180fe6-309c-4878-86b2-2316d97a477e\" style=\"height: 300px; width: 500px;\" class=\"plotly-graph-div\"></div><script type=\"text/javascript\">require([\"plotly\"], function(Plotly) { window.PLOTLYENV=window.PLOTLYENV || {};window.PLOTLYENV.BASE_URL=\"https://plot.ly\";Plotly.newPlot(\"59180fe6-309c-4878-86b2-2316d97a477e\", [{\"x\": [1, 2, 3, 4, 5, 6, 7, 8, 9], \"name\": \"Coefficient of Variation\", \"y\": [0.08233590191275374, 0.4010414715566656, 0.4016178130992622, 0.3671475969372079, 0.33720637766427053, 0.31522728332813654, 0.31561720653549064, 0.3041425029463656, 0.3049804630865829, null, null, null, null, null, null], \"type\": \"scatter\"}], {\"height\": 300, \"width\": 500, \"yaxis\": {\"showgrid\": true, \"tickcolor\": \"#FFF\", \"title\": \"Coefficient of Variation\"}, \"xaxis\": {\"tickcolor\": \"#FFF\", \"dtick\": 1, \"title\": \"True Class\", \"range\": [0.5, 9.5]}, \"titlefont\": {\"color\": \"#FFF\"}, \"title\": \"Choice after 32000 Iterations at Glimpse 3\", \"paper_bgcolor\": \"#000\", \"font\": {\"color\": \"#FFF\"}, \"plot_bgcolor\": \"#000\"}, {\"showLink\": true, \"linkText\": \"Export to plot.ly\"})});</script>"
      ]
     },
     "metadata": {},
     "output_type": "display_data"
    },
    {
     "data": {
      "application/vnd.plotly.v1+json": {
       "data": [
        {
         "name": "Mean",
         "type": "scatter",
         "x": [
          1,
          2,
          3,
          4,
          5,
          6,
          7,
          8,
          9
         ],
         "y": [
          1.0992582599554521,
          1.9855344299944426,
          2.8371454737886177,
          3.763742391697403,
          4.705697985393355,
          5.68719968848473,
          6.714307638701717,
          7.684914112626461,
          8.635121895436807,
          null,
          null,
          null,
          null,
          null,
          null
         ]
        },
        {
         "name": "Standard Deviation",
         "type": "scatter",
         "x": [
          1,
          2,
          3,
          4,
          5,
          6,
          7,
          8,
          9
         ],
         "y": [
          0.3316201882241726,
          0.8338279851251411,
          1.1811630901089525,
          1.4907180271335514,
          1.76528694063621,
          2.0402064908720017,
          2.3183726680047805,
          2.5248376578245835,
          2.672177265830901,
          null,
          null,
          null,
          null,
          null,
          null
         ],
         "yaxis": "y2"
        }
       ],
       "layout": {
        "font": {
         "color": "#FFF"
        },
        "height": 500,
        "legend": {
         "x": 0,
         "y": 1
        },
        "paper_bgcolor": "#000",
        "plot_bgcolor": "#000",
        "title": "Confidence after 32000 Iterations at Glimpse 9",
        "titlefont": {
         "color": "#FFF"
        },
        "width": 500,
        "xaxis": {
         "dtick": 1,
         "range": [
          0.5,
          9.5
         ],
         "tickcolor": "#FFF",
         "title": "True Class"
        },
        "yaxis": {
         "dtick": 1,
         "range": [
          0.5,
          15.5
         ],
         "tickcolor": "#FFF",
         "title": "Mean"
        },
        "yaxis2": {
         "gridcolor": "#999",
         "overlaying": "y",
         "range": [
          0,
          3
         ],
         "side": "right",
         "tickcolor": "#FFF",
         "title": "Standard Deviation"
        }
       }
      },
      "text/html": [
       "<div id=\"4c3867bd-f5a6-4dec-848a-ca443bc9a6e4\" style=\"height: 500px; width: 500px;\" class=\"plotly-graph-div\"></div><script type=\"text/javascript\">require([\"plotly\"], function(Plotly) { window.PLOTLYENV=window.PLOTLYENV || {};window.PLOTLYENV.BASE_URL=\"https://plot.ly\";Plotly.newPlot(\"4c3867bd-f5a6-4dec-848a-ca443bc9a6e4\", [{\"x\": [1, 2, 3, 4, 5, 6, 7, 8, 9], \"name\": \"Mean\", \"y\": [1.0992582599554521, 1.9855344299944426, 2.8371454737886177, 3.763742391697403, 4.705697985393355, 5.68719968848473, 6.714307638701717, 7.684914112626461, 8.635121895436807, null, null, null, null, null, null], \"type\": \"scatter\"}, {\"x\": [1, 2, 3, 4, 5, 6, 7, 8, 9], \"name\": \"Standard Deviation\", \"y\": [0.3316201882241726, 0.8338279851251411, 1.1811630901089525, 1.4907180271335514, 1.76528694063621, 2.0402064908720017, 2.3183726680047805, 2.5248376578245835, 2.672177265830901, null, null, null, null, null, null], \"type\": \"scatter\", \"yaxis\": \"y2\"}], {\"yaxis2\": {\"tickcolor\": \"#FFF\", \"gridcolor\": \"#999\", \"overlaying\": \"y\", \"range\": [0, 3], \"side\": \"right\", \"title\": \"Standard Deviation\"}, \"height\": 500, \"width\": 500, \"yaxis\": {\"tickcolor\": \"#FFF\", \"dtick\": 1, \"title\": \"Mean\", \"range\": [0.5, 15.5]}, \"xaxis\": {\"tickcolor\": \"#FFF\", \"dtick\": 1, \"title\": \"True Class\", \"range\": [0.5, 9.5]}, \"titlefont\": {\"color\": \"#FFF\"}, \"title\": \"Confidence after 32000 Iterations at Glimpse 9\", \"paper_bgcolor\": \"#000\", \"legend\": {\"x\": 0, \"y\": 1}, \"font\": {\"color\": \"#FFF\"}, \"plot_bgcolor\": \"#000\"}, {\"showLink\": true, \"linkText\": \"Export to plot.ly\"})});</script>"
      ],
      "text/vnd.plotly.v1+html": [
       "<div id=\"4c3867bd-f5a6-4dec-848a-ca443bc9a6e4\" style=\"height: 500px; width: 500px;\" class=\"plotly-graph-div\"></div><script type=\"text/javascript\">require([\"plotly\"], function(Plotly) { window.PLOTLYENV=window.PLOTLYENV || {};window.PLOTLYENV.BASE_URL=\"https://plot.ly\";Plotly.newPlot(\"4c3867bd-f5a6-4dec-848a-ca443bc9a6e4\", [{\"x\": [1, 2, 3, 4, 5, 6, 7, 8, 9], \"name\": \"Mean\", \"y\": [1.0992582599554521, 1.9855344299944426, 2.8371454737886177, 3.763742391697403, 4.705697985393355, 5.68719968848473, 6.714307638701717, 7.684914112626461, 8.635121895436807, null, null, null, null, null, null], \"type\": \"scatter\"}, {\"x\": [1, 2, 3, 4, 5, 6, 7, 8, 9], \"name\": \"Standard Deviation\", \"y\": [0.3316201882241726, 0.8338279851251411, 1.1811630901089525, 1.4907180271335514, 1.76528694063621, 2.0402064908720017, 2.3183726680047805, 2.5248376578245835, 2.672177265830901, null, null, null, null, null, null], \"type\": \"scatter\", \"yaxis\": \"y2\"}], {\"yaxis2\": {\"tickcolor\": \"#FFF\", \"gridcolor\": \"#999\", \"overlaying\": \"y\", \"range\": [0, 3], \"side\": \"right\", \"title\": \"Standard Deviation\"}, \"height\": 500, \"width\": 500, \"yaxis\": {\"tickcolor\": \"#FFF\", \"dtick\": 1, \"title\": \"Mean\", \"range\": [0.5, 15.5]}, \"xaxis\": {\"tickcolor\": \"#FFF\", \"dtick\": 1, \"title\": \"True Class\", \"range\": [0.5, 9.5]}, \"titlefont\": {\"color\": \"#FFF\"}, \"title\": \"Confidence after 32000 Iterations at Glimpse 9\", \"paper_bgcolor\": \"#000\", \"legend\": {\"x\": 0, \"y\": 1}, \"font\": {\"color\": \"#FFF\"}, \"plot_bgcolor\": \"#000\"}, {\"showLink\": true, \"linkText\": \"Export to plot.ly\"})});</script>"
      ]
     },
     "metadata": {},
     "output_type": "display_data"
    },
    {
     "data": {
      "application/vnd.plotly.v1+json": {
       "data": [
        {
         "name": "Coefficient of Variation",
         "type": "scatter",
         "x": [
          1,
          2,
          3,
          4,
          5,
          6,
          7,
          8,
          9
         ],
         "y": [
          0.2989508921078347,
          0.42599042456892483,
          0.417920174216657,
          0.3961490957020278,
          0.3750833982021838,
          0.35831490572334,
          0.34505153319242815,
          0.32868888119606027,
          0.3100407903339442,
          null,
          null,
          null,
          null,
          null,
          null
         ]
        }
       ],
       "layout": {
        "font": {
         "color": "#FFF"
        },
        "height": 300,
        "paper_bgcolor": "#000",
        "plot_bgcolor": "#000",
        "title": "Confidence after 32000 Iterations at Glimpse 9",
        "titlefont": {
         "color": "#FFF"
        },
        "width": 500,
        "xaxis": {
         "dtick": 1,
         "range": [
          0.5,
          9.5
         ],
         "tickcolor": "#FFF",
         "title": "True Class"
        },
        "yaxis": {
         "showgrid": true,
         "tickcolor": "#FFF",
         "title": "Coefficient of Variation"
        }
       }
      },
      "text/html": [
       "<div id=\"fcda6151-90bf-4047-8ad5-e23287d8bde7\" style=\"height: 300px; width: 500px;\" class=\"plotly-graph-div\"></div><script type=\"text/javascript\">require([\"plotly\"], function(Plotly) { window.PLOTLYENV=window.PLOTLYENV || {};window.PLOTLYENV.BASE_URL=\"https://plot.ly\";Plotly.newPlot(\"fcda6151-90bf-4047-8ad5-e23287d8bde7\", [{\"x\": [1, 2, 3, 4, 5, 6, 7, 8, 9], \"name\": \"Coefficient of Variation\", \"y\": [0.2989508921078347, 0.42599042456892483, 0.417920174216657, 0.3961490957020278, 0.3750833982021838, 0.35831490572334, 0.34505153319242815, 0.32868888119606027, 0.3100407903339442, null, null, null, null, null, null], \"type\": \"scatter\"}], {\"height\": 300, \"width\": 500, \"yaxis\": {\"showgrid\": true, \"tickcolor\": \"#FFF\", \"title\": \"Coefficient of Variation\"}, \"xaxis\": {\"tickcolor\": \"#FFF\", \"dtick\": 1, \"title\": \"True Class\", \"range\": [0.5, 9.5]}, \"titlefont\": {\"color\": \"#FFF\"}, \"title\": \"Confidence after 32000 Iterations at Glimpse 9\", \"paper_bgcolor\": \"#000\", \"font\": {\"color\": \"#FFF\"}, \"plot_bgcolor\": \"#000\"}, {\"showLink\": true, \"linkText\": \"Export to plot.ly\"})});</script>"
      ],
      "text/vnd.plotly.v1+html": [
       "<div id=\"fcda6151-90bf-4047-8ad5-e23287d8bde7\" style=\"height: 300px; width: 500px;\" class=\"plotly-graph-div\"></div><script type=\"text/javascript\">require([\"plotly\"], function(Plotly) { window.PLOTLYENV=window.PLOTLYENV || {};window.PLOTLYENV.BASE_URL=\"https://plot.ly\";Plotly.newPlot(\"fcda6151-90bf-4047-8ad5-e23287d8bde7\", [{\"x\": [1, 2, 3, 4, 5, 6, 7, 8, 9], \"name\": \"Coefficient of Variation\", \"y\": [0.2989508921078347, 0.42599042456892483, 0.417920174216657, 0.3961490957020278, 0.3750833982021838, 0.35831490572334, 0.34505153319242815, 0.32868888119606027, 0.3100407903339442, null, null, null, null, null, null], \"type\": \"scatter\"}], {\"height\": 300, \"width\": 500, \"yaxis\": {\"showgrid\": true, \"tickcolor\": \"#FFF\", \"title\": \"Coefficient of Variation\"}, \"xaxis\": {\"tickcolor\": \"#FFF\", \"dtick\": 1, \"title\": \"True Class\", \"range\": [0.5, 9.5]}, \"titlefont\": {\"color\": \"#FFF\"}, \"title\": \"Confidence after 32000 Iterations at Glimpse 9\", \"paper_bgcolor\": \"#000\", \"font\": {\"color\": \"#FFF\"}, \"plot_bgcolor\": \"#000\"}, {\"showLink\": true, \"linkText\": \"Export to plot.ly\"})});</script>"
      ]
     },
     "metadata": {},
     "output_type": "display_data"
    },
    {
     "data": {
      "application/vnd.plotly.v1+json": {
       "data": [
        {
         "name": "Mean",
         "type": "scatter",
         "x": [
          1,
          2,
          3,
          4,
          5,
          6,
          7,
          8,
          9
         ],
         "y": [
          1.0159716381004664,
          1.789771993826538,
          2.570298681460155,
          3.536864665976315,
          4.465718075386067,
          5.388511527484579,
          6.398219607040266,
          7.405452198293932,
          8.410485943058728,
          null,
          null,
          null,
          null,
          null,
          null
         ]
        },
        {
         "name": "Standard Deviation",
         "type": "scatter",
         "x": [
          1,
          2,
          3,
          4,
          5,
          6,
          7,
          8,
          9
         ],
         "y": [
          0.08335809648187449,
          0.5877119873408588,
          0.9396651005943225,
          1.1854832114615395,
          1.3502326276135543,
          1.5201042729624943,
          1.8468364322325042,
          2.1200518481370323,
          2.3030911262737432,
          null,
          null,
          null,
          null,
          null,
          null
         ],
         "yaxis": "y2"
        }
       ],
       "layout": {
        "font": {
         "color": "#FFF"
        },
        "height": 500,
        "legend": {
         "x": 0,
         "y": 1
        },
        "paper_bgcolor": "#000",
        "plot_bgcolor": "#000",
        "title": "Choice after 32000 Iterations at Glimpse 9",
        "titlefont": {
         "color": "#FFF"
        },
        "width": 500,
        "xaxis": {
         "dtick": 1,
         "range": [
          0.5,
          9.5
         ],
         "tickcolor": "#FFF",
         "title": "True Class"
        },
        "yaxis": {
         "dtick": 1,
         "range": [
          0.5,
          15.5
         ],
         "tickcolor": "#FFF",
         "title": "Mean"
        },
        "yaxis2": {
         "gridcolor": "#999",
         "overlaying": "y",
         "range": [
          0,
          3
         ],
         "side": "right",
         "tickcolor": "#FFF",
         "title": "Standard Deviation"
        }
       }
      },
      "text/html": [
       "<div id=\"b8372d8c-2cfa-465a-9f7d-a4ae69988b75\" style=\"height: 500px; width: 500px;\" class=\"plotly-graph-div\"></div><script type=\"text/javascript\">require([\"plotly\"], function(Plotly) { window.PLOTLYENV=window.PLOTLYENV || {};window.PLOTLYENV.BASE_URL=\"https://plot.ly\";Plotly.newPlot(\"b8372d8c-2cfa-465a-9f7d-a4ae69988b75\", [{\"x\": [1, 2, 3, 4, 5, 6, 7, 8, 9], \"name\": \"Mean\", \"y\": [1.0159716381004664, 1.789771993826538, 2.570298681460155, 3.536864665976315, 4.465718075386067, 5.388511527484579, 6.398219607040266, 7.405452198293932, 8.410485943058728, null, null, null, null, null, null], \"type\": \"scatter\"}, {\"x\": [1, 2, 3, 4, 5, 6, 7, 8, 9], \"name\": \"Standard Deviation\", \"y\": [0.08335809648187449, 0.5877119873408588, 0.9396651005943225, 1.1854832114615395, 1.3502326276135543, 1.5201042729624943, 1.8468364322325042, 2.1200518481370323, 2.3030911262737432, null, null, null, null, null, null], \"type\": \"scatter\", \"yaxis\": \"y2\"}], {\"yaxis2\": {\"tickcolor\": \"#FFF\", \"gridcolor\": \"#999\", \"overlaying\": \"y\", \"range\": [0, 3], \"side\": \"right\", \"title\": \"Standard Deviation\"}, \"height\": 500, \"width\": 500, \"yaxis\": {\"tickcolor\": \"#FFF\", \"dtick\": 1, \"title\": \"Mean\", \"range\": [0.5, 15.5]}, \"xaxis\": {\"tickcolor\": \"#FFF\", \"dtick\": 1, \"title\": \"True Class\", \"range\": [0.5, 9.5]}, \"titlefont\": {\"color\": \"#FFF\"}, \"title\": \"Choice after 32000 Iterations at Glimpse 9\", \"paper_bgcolor\": \"#000\", \"legend\": {\"x\": 0, \"y\": 1}, \"font\": {\"color\": \"#FFF\"}, \"plot_bgcolor\": \"#000\"}, {\"showLink\": true, \"linkText\": \"Export to plot.ly\"})});</script>"
      ],
      "text/vnd.plotly.v1+html": [
       "<div id=\"b8372d8c-2cfa-465a-9f7d-a4ae69988b75\" style=\"height: 500px; width: 500px;\" class=\"plotly-graph-div\"></div><script type=\"text/javascript\">require([\"plotly\"], function(Plotly) { window.PLOTLYENV=window.PLOTLYENV || {};window.PLOTLYENV.BASE_URL=\"https://plot.ly\";Plotly.newPlot(\"b8372d8c-2cfa-465a-9f7d-a4ae69988b75\", [{\"x\": [1, 2, 3, 4, 5, 6, 7, 8, 9], \"name\": \"Mean\", \"y\": [1.0159716381004664, 1.789771993826538, 2.570298681460155, 3.536864665976315, 4.465718075386067, 5.388511527484579, 6.398219607040266, 7.405452198293932, 8.410485943058728, null, null, null, null, null, null], \"type\": \"scatter\"}, {\"x\": [1, 2, 3, 4, 5, 6, 7, 8, 9], \"name\": \"Standard Deviation\", \"y\": [0.08335809648187449, 0.5877119873408588, 0.9396651005943225, 1.1854832114615395, 1.3502326276135543, 1.5201042729624943, 1.8468364322325042, 2.1200518481370323, 2.3030911262737432, null, null, null, null, null, null], \"type\": \"scatter\", \"yaxis\": \"y2\"}], {\"yaxis2\": {\"tickcolor\": \"#FFF\", \"gridcolor\": \"#999\", \"overlaying\": \"y\", \"range\": [0, 3], \"side\": \"right\", \"title\": \"Standard Deviation\"}, \"height\": 500, \"width\": 500, \"yaxis\": {\"tickcolor\": \"#FFF\", \"dtick\": 1, \"title\": \"Mean\", \"range\": [0.5, 15.5]}, \"xaxis\": {\"tickcolor\": \"#FFF\", \"dtick\": 1, \"title\": \"True Class\", \"range\": [0.5, 9.5]}, \"titlefont\": {\"color\": \"#FFF\"}, \"title\": \"Choice after 32000 Iterations at Glimpse 9\", \"paper_bgcolor\": \"#000\", \"legend\": {\"x\": 0, \"y\": 1}, \"font\": {\"color\": \"#FFF\"}, \"plot_bgcolor\": \"#000\"}, {\"showLink\": true, \"linkText\": \"Export to plot.ly\"})});</script>"
      ]
     },
     "metadata": {},
     "output_type": "display_data"
    },
    {
     "data": {
      "application/vnd.plotly.v1+json": {
       "data": [
        {
         "name": "Coefficient of Variation",
         "type": "scatter",
         "x": [
          1,
          2,
          3,
          4,
          5,
          6,
          7,
          8,
          9
         ],
         "y": [
          0.08011760592317493,
          0.33653255642371455,
          0.3689407826157405,
          0.33588777667077824,
          0.3035419268338286,
          0.2826793043883279,
          0.2891567818880548,
          0.28707107046456204,
          0.2743301634297971,
          null,
          null,
          null,
          null,
          null,
          null
         ]
        }
       ],
       "layout": {
        "font": {
         "color": "#FFF"
        },
        "height": 300,
        "paper_bgcolor": "#000",
        "plot_bgcolor": "#000",
        "title": "Choice after 32000 Iterations at Glimpse 9",
        "titlefont": {
         "color": "#FFF"
        },
        "width": 500,
        "xaxis": {
         "dtick": 1,
         "range": [
          0.5,
          9.5
         ],
         "tickcolor": "#FFF",
         "title": "True Class"
        },
        "yaxis": {
         "showgrid": true,
         "tickcolor": "#FFF",
         "title": "Coefficient of Variation"
        }
       }
      },
      "text/html": [
       "<div id=\"ffd0f75e-e538-4534-9185-ab73b20e6d6f\" style=\"height: 300px; width: 500px;\" class=\"plotly-graph-div\"></div><script type=\"text/javascript\">require([\"plotly\"], function(Plotly) { window.PLOTLYENV=window.PLOTLYENV || {};window.PLOTLYENV.BASE_URL=\"https://plot.ly\";Plotly.newPlot(\"ffd0f75e-e538-4534-9185-ab73b20e6d6f\", [{\"x\": [1, 2, 3, 4, 5, 6, 7, 8, 9], \"name\": \"Coefficient of Variation\", \"y\": [0.08011760592317493, 0.33653255642371455, 0.3689407826157405, 0.33588777667077824, 0.3035419268338286, 0.2826793043883279, 0.2891567818880548, 0.28707107046456204, 0.2743301634297971, null, null, null, null, null, null], \"type\": \"scatter\"}], {\"height\": 300, \"width\": 500, \"yaxis\": {\"showgrid\": true, \"tickcolor\": \"#FFF\", \"title\": \"Coefficient of Variation\"}, \"xaxis\": {\"tickcolor\": \"#FFF\", \"dtick\": 1, \"title\": \"True Class\", \"range\": [0.5, 9.5]}, \"titlefont\": {\"color\": \"#FFF\"}, \"title\": \"Choice after 32000 Iterations at Glimpse 9\", \"paper_bgcolor\": \"#000\", \"font\": {\"color\": \"#FFF\"}, \"plot_bgcolor\": \"#000\"}, {\"showLink\": true, \"linkText\": \"Export to plot.ly\"})});</script>"
      ],
      "text/vnd.plotly.v1+html": [
       "<div id=\"ffd0f75e-e538-4534-9185-ab73b20e6d6f\" style=\"height: 300px; width: 500px;\" class=\"plotly-graph-div\"></div><script type=\"text/javascript\">require([\"plotly\"], function(Plotly) { window.PLOTLYENV=window.PLOTLYENV || {};window.PLOTLYENV.BASE_URL=\"https://plot.ly\";Plotly.newPlot(\"ffd0f75e-e538-4534-9185-ab73b20e6d6f\", [{\"x\": [1, 2, 3, 4, 5, 6, 7, 8, 9], \"name\": \"Coefficient of Variation\", \"y\": [0.08011760592317493, 0.33653255642371455, 0.3689407826157405, 0.33588777667077824, 0.3035419268338286, 0.2826793043883279, 0.2891567818880548, 0.28707107046456204, 0.2743301634297971, null, null, null, null, null, null], \"type\": \"scatter\"}], {\"height\": 300, \"width\": 500, \"yaxis\": {\"showgrid\": true, \"tickcolor\": \"#FFF\", \"title\": \"Coefficient of Variation\"}, \"xaxis\": {\"tickcolor\": \"#FFF\", \"dtick\": 1, \"title\": \"True Class\", \"range\": [0.5, 9.5]}, \"titlefont\": {\"color\": \"#FFF\"}, \"title\": \"Choice after 32000 Iterations at Glimpse 9\", \"paper_bgcolor\": \"#000\", \"font\": {\"color\": \"#FFF\"}, \"plot_bgcolor\": \"#000\"}, {\"showLink\": true, \"linkText\": \"Export to plot.ly\"})});</script>"
      ]
     },
     "metadata": {},
     "output_type": "display_data"
    }
   ],
   "source": [
    "for i, it in enumerate(iter_list):\n",
    "    for g, glimpse in enumerate(glimpse_list):\n",
    "        plot_confidence_msdcv(i, it, g, glimpse)\n",
    "        plot_choice_msdcv(i, it, g, glimpse)"
   ]
  },
  {
   "cell_type": "code",
   "execution_count": null,
   "metadata": {
    "collapsed": true
   },
   "outputs": [],
   "source": []
  }
 ],
 "metadata": {
  "kernelspec": {
   "display_name": "Python 3",
   "language": "python",
   "name": "python3"
  },
  "language_info": {
   "codemirror_mode": {
    "name": "ipython",
    "version": 3
   },
   "file_extension": ".py",
   "mimetype": "text/x-python",
   "name": "python",
   "nbconvert_exporter": "python",
   "pygments_lexer": "ipython3",
   "version": "3.5.2"
  }
 },
 "nbformat": 4,
 "nbformat_minor": 2
}
