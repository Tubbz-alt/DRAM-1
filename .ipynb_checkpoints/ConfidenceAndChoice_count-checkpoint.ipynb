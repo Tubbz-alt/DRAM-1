{
 "cells": [
  {
   "cell_type": "code",
   "execution_count": 1,
   "metadata": {},
   "outputs": [
    {
     "data": {
      "text/html": [
       "<script>requirejs.config({paths: { 'plotly': ['https://cdn.plot.ly/plotly-latest.min']},});if(!window.Plotly) {{require(['plotly'],function(plotly) {window.Plotly=plotly;});}}</script>"
      ],
      "text/vnd.plotly.v1+html": [
       "<script>requirejs.config({paths: { 'plotly': ['https://cdn.plot.ly/plotly-latest.min']},});if(!window.Plotly) {{require(['plotly'],function(plotly) {window.Plotly=plotly;});}}</script>"
      ]
     },
     "metadata": {},
     "output_type": "display_data"
    },
    {
     "name": "stdout",
     "output_type": "stream",
     "text": [
      "['/usr/local/lib/python3.5/dist-packages/ipykernel_launcher.py', '-f', 'true', 'true', 'true', 'true', 'true', 'model_runs/-f/count_log.csv', 'model_runs/-f/countmodel_0.ckpt', 'model_runs/-f/countmodel_', 'true', 'false', 'false', 'true']\n",
      "WARNING:tensorflow:From /home/mtfang/DRAM/COUNT_twolayer2.py:288: arg_max (from tensorflow.python.ops.gen_math_ops) is deprecated and will be removed in a future version.\n",
      "Instructions for updating:\n",
      "Use `argmax` instead\n",
      "WARNING:tensorflow:From /home/mtfang/DRAM/COUNT_twolayer2.py:289: arg_max (from tensorflow.python.ops.gen_math_ops) is deprecated and will be removed in a future version.\n",
      "Instructions for updating:\n",
      "Use `argmax` instead\n",
      "WARNING:tensorflow:From /home/mtfang/DRAM/COUNT_twolayer2.py:288: arg_max (from tensorflow.python.ops.gen_math_ops) is deprecated and will be removed in a future version.\n",
      "Instructions for updating:\n",
      "Use `argmax` instead\n",
      "WARNING:tensorflow:From /home/mtfang/DRAM/COUNT_twolayer2.py:289: arg_max (from tensorflow.python.ops.gen_math_ops) is deprecated and will be removed in a future version.\n",
      "Instructions for updating:\n",
      "Use `argmax` instead\n",
      "WARNING:tensorflow:From /home/mtfang/DRAM/COUNT_twolayer2.py:288: arg_max (from tensorflow.python.ops.gen_math_ops) is deprecated and will be removed in a future version.\n",
      "Instructions for updating:\n",
      "Use `argmax` instead\n",
      "WARNING:tensorflow:From /home/mtfang/DRAM/COUNT_twolayer2.py:289: arg_max (from tensorflow.python.ops.gen_math_ops) is deprecated and will be removed in a future version.\n",
      "Instructions for updating:\n",
      "Use `argmax` instead\n",
      "WARNING:tensorflow:From /home/mtfang/DRAM/COUNT_twolayer2.py:288: arg_max (from tensorflow.python.ops.gen_math_ops) is deprecated and will be removed in a future version.\n",
      "Instructions for updating:\n",
      "Use `argmax` instead\n",
      "WARNING:tensorflow:From /home/mtfang/DRAM/COUNT_twolayer2.py:289: arg_max (from tensorflow.python.ops.gen_math_ops) is deprecated and will be removed in a future version.\n",
      "Instructions for updating:\n",
      "Use `argmax` instead\n",
      "WARNING:tensorflow:From /home/mtfang/DRAM/COUNT_twolayer2.py:288: arg_max (from tensorflow.python.ops.gen_math_ops) is deprecated and will be removed in a future version.\n",
      "Instructions for updating:\n",
      "Use `argmax` instead\n",
      "WARNING:tensorflow:From /home/mtfang/DRAM/COUNT_twolayer2.py:289: arg_max (from tensorflow.python.ops.gen_math_ops) is deprecated and will be removed in a future version.\n",
      "Instructions for updating:\n",
      "Use `argmax` instead\n",
      "WARNING:tensorflow:From /home/mtfang/DRAM/COUNT_twolayer2.py:288: arg_max (from tensorflow.python.ops.gen_math_ops) is deprecated and will be removed in a future version.\n",
      "Instructions for updating:\n",
      "Use `argmax` instead\n",
      "WARNING:tensorflow:From /home/mtfang/DRAM/COUNT_twolayer2.py:289: arg_max (from tensorflow.python.ops.gen_math_ops) is deprecated and will be removed in a future version.\n",
      "Instructions for updating:\n",
      "Use `argmax` instead\n",
      "analysis_count.py\n"
     ]
    }
   ],
   "source": [
    "import numpy as np\n",
    "from plotly.offline import download_plotlyjs, init_notebook_mode, plot, iplot\n",
    "init_notebook_mode(connected=True)\n",
    "import plotly.graph_objs as go\n",
    "from analysis_count import read_n, classify_imgs2\n",
    "import matplotlib.pyplot as plt\n",
    "%matplotlib inline"
   ]
  },
  {
   "cell_type": "code",
   "execution_count": 2,
   "metadata": {
    "collapsed": true
   },
   "outputs": [],
   "source": [
    "model_name = \"1127_5blobs\"\n",
    "num_runs = 1\n",
    "iter_list = [0, 1000, 4000, 16000, 32000, 64000, 125000, 250000, 500000, 600000]#, 1000000, 1350000]\n",
    "#iter_list = np.arange(0,11100000,100000)\n",
    "glimpse_list = np.arange(0,6,1)\n",
    "max_blobs = 5\n",
    "min_blobs = 1\n",
    "\n",
    "num_iters = len(iter_list)\n",
    "num_glimpses = len(glimpse_list)\n",
    "blob_list = np.arange(0,6,1)\n",
    "output_size = max_blobs - min_blobs + 2 # 6\n",
    "data_directory = \"data/\" + model_name + \"/\"\n",
    "m = 0.5\n",
    "\n",
    "confidence_all_runs = np.zeros([num_runs, num_iters, output_size-1, num_glimpses, 1, output_size]) \n",
    "choice_all_runs = np.zeros([num_runs, num_iters, output_size-1, num_glimpses, 1, output_size])"
   ]
  },
  {
   "cell_type": "code",
   "execution_count": 3,
   "metadata": {
    "collapsed": true
   },
   "outputs": [],
   "source": [
    "def fill_matrix(path, iteration):\n",
    "    \"\"\"Fill the confidence and choice matrices for one run at one iteration.\"\"\"\n",
    "    \n",
    "    data = None\n",
    "    num_imgs = 100 # batch_size\n",
    "    imgs_data = classify_imgs2(iteration, True, num_imgs, path=path) # new_imgs = True\n",
    "        \n",
    "    confidence_one_run = np.zeros([output_size-1, num_glimpses, 1, output_size])\n",
    "    choice_one_run = np.zeros([output_size-1, num_glimpses, 1, output_size])\n",
    "    \n",
    "    for nb in range(output_size-1):\n",
    "        confidence_hist = np.zeros([num_glimpses, 1, output_size])\n",
    "        choice_hist = np.zeros([num_glimpses, 1, output_size])\n",
    "        num_imgs_with_num_blobs = 0.00001\n",
    "        \n",
    "        for idx, data in enumerate(imgs_data):\n",
    "            if data[\"label\"][nb] == 1: # data is for an image with nb+1 blobs\n",
    "                num_imgs_with_num_blobs += 1\n",
    "                \n",
    "                for g, glimpse in enumerate(glimpse_list):\n",
    "                    # Histogram of softmaxes\n",
    "                    confidence_hist[glimpse] += data[\"classifications\"][glimpse]\n",
    "                    # Histogram of choices\n",
    "                    choice = np.argmax(data[\"classifications\"][glimpse])\n",
    "                    choice_list = [0] * (output_size)\n",
    "                    choice_list[choice] = 1\n",
    "                    choice_hist[glimpse] += choice_list\n",
    "\n",
    "        confidence_hist = confidence_hist / num_imgs_with_num_blobs\n",
    "        confidence_one_run[nb] = confidence_hist.tolist()\n",
    "        choice_hist = choice_hist / num_imgs_with_num_blobs\n",
    "        choice_one_run[nb] = choice_hist.tolist()\n",
    "    return confidence_one_run, choice_one_run"
   ]
  },
  {
   "cell_type": "code",
   "execution_count": 4,
   "metadata": {},
   "outputs": [
    {
     "name": "stdout",
     "output_type": "stream",
     "text": [
      "INFO:tensorflow:Restoring parameters from model_runs/1127_5blobs/countmodel_0.ckpt\n",
      "INFO:tensorflow:Restoring parameters from model_runs/1127_5blobs/countmodel_1000.ckpt\n",
      "INFO:tensorflow:Restoring parameters from model_runs/1127_5blobs/countmodel_4000.ckpt\n",
      "INFO:tensorflow:Restoring parameters from model_runs/1127_5blobs/countmodel_16000.ckpt\n",
      "INFO:tensorflow:Restoring parameters from model_runs/1127_5blobs/countmodel_32000.ckpt\n",
      "INFO:tensorflow:Restoring parameters from model_runs/1127_5blobs/countmodel_64000.ckpt\n",
      "INFO:tensorflow:Restoring parameters from model_runs/1127_5blobs/countmodel_125000.ckpt\n",
      "INFO:tensorflow:Restoring parameters from model_runs/1127_5blobs/countmodel_250000.ckpt\n",
      "INFO:tensorflow:Restoring parameters from model_runs/1127_5blobs/countmodel_500000.ckpt\n",
      "INFO:tensorflow:Restoring parameters from model_runs/1127_5blobs/countmodel_600000.ckpt\n"
     ]
    }
   ],
   "source": [
    "for run in range(num_runs):\n",
    "    path = 'model_runs/' + model_name # '_run_' + str(run + 1) \n",
    "#     path = 'model_runs/DRAM_test_square'\n",
    "    for i, iteration in enumerate(iter_list):\n",
    "        confidence_all_runs[run, i], choice_all_runs[run, i] = fill_matrix(path, iteration)"
   ]
  },
  {
   "cell_type": "code",
   "execution_count": 5,
   "metadata": {
    "collapsed": true
   },
   "outputs": [],
   "source": [
    "def adj_all_runs(all_runs_matrix):\n",
    "    \"\"\"Adjust all the matrices so tick marks start with 1.\"\"\"\n",
    "    \n",
    "    new_all_runs_matrix = np.zeros([num_runs, num_iters, output_size-1, num_glimpses+1, 1, output_size])\n",
    "    for m, matrix in enumerate(all_runs_matrix):\n",
    "        for i in range(num_iters):\n",
    "            for g in range(num_glimpses):\n",
    "                new_all_runs_matrix[m, i, g] = adj_matrix(matrix[i, g])\n",
    "    return new_all_runs_matrix\n",
    "\n",
    "\n",
    "def adj_matrix(matrix):\n",
    "    \"\"\"Adjust the matrix so tick marks start with 1.\"\"\"\n",
    "    \n",
    "    a = np.zeros([1, output_size])\n",
    "    temp = np.vstack((a, matrix))\n",
    "    b = np.zeros([output_size + 1, 1])\n",
    "    new_matrix = np.hstack((b, temp))\n",
    "    return new_matrix\n",
    "\n",
    "\n",
    "confidence_all_runs_adj = confidence_all_runs#adj_all_runs(confidence_all_runs)\n",
    "choice_all_runs_adj = choice_all_runs#adj_all_runs(choice_all_runs)"
   ]
  },
  {
   "cell_type": "code",
   "execution_count": 6,
   "metadata": {},
   "outputs": [
    {
     "data": {
      "text/plain": [
       "array([  5.56794562e-06,   9.99973799e-01,   1.99653714e-05,\n",
       "         7.16519767e-09,   1.15645471e-09,   1.21300429e-08])"
      ]
     },
     "execution_count": 6,
     "metadata": {},
     "output_type": "execute_result"
    }
   ],
   "source": [
    "confidence_avg = np.mean(confidence_all_runs_adj, axis=0)\n",
    "choice_avg = np.mean(choice_all_runs_adj, axis=0)\n",
    "confidence_avg[5,0,0,0]"
   ]
  },
  {
   "cell_type": "code",
   "execution_count": 7,
   "metadata": {
    "collapsed": true
   },
   "outputs": [],
   "source": [
    "def plot_confidence(iter_idx, it, num_blobs, run=None):\n",
    "    \"\"\"Plot the confidence heatmap.\"\"\"\n",
    "    \n",
    "    if run is None:\n",
    "        matrix = np.zeros([6,6])\n",
    "        for g in range (6):\n",
    "            matrix[:,g] = confidence_avg[iter_idx, num_blobs, g, 0]\n",
    "        plot_title = \"%d Blobs:Confidence after %d Iters\" % (num_blobs+1, it)\n",
    "\n",
    "    else:\n",
    "        matrix = np.zeros([6,6])\n",
    "        for g in range (6):\n",
    "            matrix = confidence_all_runs_adj[run, iter_idx, num_blobs, g, 0]\n",
    "        plot_title = \"%d Blobs:Confidence at Run %d after %d Iters\" % (num_blobs+1, run + 1, it)\n",
    "    plot_heatmap(matrix, num_blobs, plot_title)\n",
    "\n",
    "\n",
    "def plot_choice(iter_idx, it, num_blobs, run=None):\n",
    "    \"\"\"Plot the choice heatmap.\"\"\"\n",
    "    \n",
    "    if run is None:\n",
    "        matrix = np.zeros([6,6])\n",
    "        for g in range (6):\n",
    "            matrix[:,g] = choice_avg[iter_idx, num_blobs, g, 0]\n",
    "        plot_title = \"%d Blobs:Choice after %d Iterations\" % (num_blobs+1, it)\n",
    "    else:\n",
    "        matrix = np.zeros([6,6])\n",
    "        for g in range (6):\n",
    "            matrix = choice_all_runs_adj[run, iter_idx, num_blobs, g, 0]\n",
    "        plot_title = \"%d Blobs:Choice at Run %d after %d Iterations\" % (num_blobs+1, run + 1, it)\n",
    "    plot_heatmap(matrix, num_blobs, plot_title)\n",
    "    \n",
    "    \n",
    "def plot_heatmap(matrix, num_blobs, plot_title):\n",
    "    \"\"\"Plot heatmap.\"\"\"\n",
    "    \n",
    "    data = [go.Heatmap(\n",
    "        z=matrix,\n",
    "        colorscale=\"Jet\"\n",
    "    )]\n",
    "\n",
    "    layout = go.Layout(\n",
    "        title=plot_title,\n",
    "        yaxis=dict(\n",
    "#             range=[max_blobs + m, min_blobs - m],\n",
    "            range=[0 - m, 5 + m],\n",
    "            title=\"Count Word\",\n",
    "            dtick=1,\n",
    "            tickcolor='#FFF'\n",
    "        ),\n",
    "        xaxis=dict(\n",
    "            range=[0 - m, 5 + m],\n",
    "            title=\"Glimpses\",\n",
    "            dtick=1,\n",
    "            tickcolor='#FFF'\n",
    "        ),\n",
    "        width=300,\n",
    "        height=300,\n",
    "        plot_bgcolor=\"#000\",\n",
    "        paper_bgcolor=\"#000\",\n",
    "        font=dict(\n",
    "            color=\"#FFF\"\n",
    "        ),\n",
    "        titlefont=dict(\n",
    "            color=\"#FFF\"\n",
    "        ),\n",
    "    )\n",
    "    fig = go.Figure(data=data, layout=layout)\n",
    "    iplot(fig)"
   ]
  },
  {
   "cell_type": "code",
   "execution_count": 8,
   "metadata": {
    "scrolled": false
   },
   "outputs": [
    {
     "data": {
      "application/vnd.plotly.v1+json": {
       "data": [
        {
         "colorscale": "Jet",
         "type": "heatmap",
         "z": [
          [
           0.16671452776230827,
           0.1665392247473534,
           0.16631224582359916,
           0.1661520985787421,
           0.16608761480352702,
           0.16608530901180393
          ],
          [
           0.16802670465810615,
           0.16894141268816792,
           0.16954930205538835,
           0.16995986709249017,
           0.1702336149100084,
           0.17039743885282232
          ],
          [
           0.16570702570670162,
           0.16541602883078624,
           0.1654061370555606,
           0.16552081310286643,
           0.16566322473423106,
           0.1657859512923408
          ],
          [
           0.16698879517661266,
           0.16705800650513017,
           0.1670317098543158,
           0.1669799367640727,
           0.1669332371930719,
           0.16690188321992247
          ],
          [
           0.1670048916630864,
           0.16720657166551586,
           0.16736021876753568,
           0.1674909167955417,
           0.16762606897305493,
           0.1677936201481765
          ],
          [
           0.16555762089864154,
           0.1648383175412453,
           0.16433995684419112,
           0.16389591409545484,
           0.16345581496970774,
           0.16303537629791645
          ]
         ]
        }
       ],
       "layout": {
        "font": {
         "color": "#FFF"
        },
        "height": 300,
        "paper_bgcolor": "#000",
        "plot_bgcolor": "#000",
        "title": "1 Blobs:Confidence after 0 Iters",
        "titlefont": {
         "color": "#FFF"
        },
        "width": 300,
        "xaxis": {
         "dtick": 1,
         "range": [
          -0.5,
          5.5
         ],
         "tickcolor": "#FFF",
         "title": "Glimpses"
        },
        "yaxis": {
         "dtick": 1,
         "range": [
          -0.5,
          5.5
         ],
         "tickcolor": "#FFF",
         "title": "Count Word"
        }
       }
      },
      "text/html": [
       "<div id=\"f0ddfac1-d9d6-48de-b70f-72efdfe1a15e\" style=\"height: 300px; width: 300px;\" class=\"plotly-graph-div\"></div><script type=\"text/javascript\">require([\"plotly\"], function(Plotly) { window.PLOTLYENV=window.PLOTLYENV || {};window.PLOTLYENV.BASE_URL=\"https://plot.ly\";Plotly.newPlot(\"f0ddfac1-d9d6-48de-b70f-72efdfe1a15e\", [{\"colorscale\": \"Jet\", \"type\": \"heatmap\", \"z\": [[0.16671452776230827, 0.1665392247473534, 0.16631224582359916, 0.1661520985787421, 0.16608761480352702, 0.16608530901180393], [0.16802670465810615, 0.16894141268816792, 0.16954930205538835, 0.16995986709249017, 0.1702336149100084, 0.17039743885282232], [0.16570702570670162, 0.16541602883078624, 0.1654061370555606, 0.16552081310286643, 0.16566322473423106, 0.1657859512923408], [0.16698879517661266, 0.16705800650513017, 0.1670317098543158, 0.1669799367640727, 0.1669332371930719, 0.16690188321992247], [0.1670048916630864, 0.16720657166551586, 0.16736021876753568, 0.1674909167955417, 0.16762606897305493, 0.1677936201481765], [0.16555762089864154, 0.1648383175412453, 0.16433995684419112, 0.16389591409545484, 0.16345581496970774, 0.16303537629791645]]}], {\"font\": {\"color\": \"#FFF\"}, \"height\": 300, \"plot_bgcolor\": \"#000\", \"xaxis\": {\"dtick\": 1, \"tickcolor\": \"#FFF\", \"title\": \"Glimpses\", \"range\": [-0.5, 5.5]}, \"paper_bgcolor\": \"#000\", \"titlefont\": {\"color\": \"#FFF\"}, \"width\": 300, \"yaxis\": {\"dtick\": 1, \"tickcolor\": \"#FFF\", \"title\": \"Count Word\", \"range\": [-0.5, 5.5]}, \"title\": \"1 Blobs:Confidence after 0 Iters\"}, {\"linkText\": \"Export to plot.ly\", \"showLink\": true})});</script>"
      ],
      "text/vnd.plotly.v1+html": [
       "<div id=\"f0ddfac1-d9d6-48de-b70f-72efdfe1a15e\" style=\"height: 300px; width: 300px;\" class=\"plotly-graph-div\"></div><script type=\"text/javascript\">require([\"plotly\"], function(Plotly) { window.PLOTLYENV=window.PLOTLYENV || {};window.PLOTLYENV.BASE_URL=\"https://plot.ly\";Plotly.newPlot(\"f0ddfac1-d9d6-48de-b70f-72efdfe1a15e\", [{\"colorscale\": \"Jet\", \"type\": \"heatmap\", \"z\": [[0.16671452776230827, 0.1665392247473534, 0.16631224582359916, 0.1661520985787421, 0.16608761480352702, 0.16608530901180393], [0.16802670465810615, 0.16894141268816792, 0.16954930205538835, 0.16995986709249017, 0.1702336149100084, 0.17039743885282232], [0.16570702570670162, 0.16541602883078624, 0.1654061370555606, 0.16552081310286643, 0.16566322473423106, 0.1657859512923408], [0.16698879517661266, 0.16705800650513017, 0.1670317098543158, 0.1669799367640727, 0.1669332371930719, 0.16690188321992247], [0.1670048916630864, 0.16720657166551586, 0.16736021876753568, 0.1674909167955417, 0.16762606897305493, 0.1677936201481765], [0.16555762089864154, 0.1648383175412453, 0.16433995684419112, 0.16389591409545484, 0.16345581496970774, 0.16303537629791645]]}], {\"font\": {\"color\": \"#FFF\"}, \"height\": 300, \"plot_bgcolor\": \"#000\", \"xaxis\": {\"dtick\": 1, \"tickcolor\": \"#FFF\", \"title\": \"Glimpses\", \"range\": [-0.5, 5.5]}, \"paper_bgcolor\": \"#000\", \"titlefont\": {\"color\": \"#FFF\"}, \"width\": 300, \"yaxis\": {\"dtick\": 1, \"tickcolor\": \"#FFF\", \"title\": \"Count Word\", \"range\": [-0.5, 5.5]}, \"title\": \"1 Blobs:Confidence after 0 Iters\"}, {\"linkText\": \"Export to plot.ly\", \"showLink\": true})});</script>"
      ]
     },
     "metadata": {},
     "output_type": "display_data"
    },
    {
     "data": {
      "application/vnd.plotly.v1+json": {
       "data": [
        {
         "colorscale": "Jet",
         "type": "heatmap",
         "z": [
          [
           0.35557323645513333,
           0.704223855077727,
           0.8518868718558219,
           0.9244705811913821,
           0.94539464269531,
           0.961316195657082
          ],
          [
           0.47088361570345316,
           0.21841186004742344,
           0.10773312826024975,
           0.052094284672578185,
           0.03666014529983695,
           0.02482545931866002
          ],
          [
           0.07029302992879258,
           0.034814587361974084,
           0.019030303236669367,
           0.011292354730657074,
           0.008729016152107734,
           0.006749573165012131
          ],
          [
           0.04529240755248996,
           0.021278137906196377,
           0.0113782810060326,
           0.006747887030886717,
           0.005223735525349591,
           0.004100609642798533
          ],
          [
           0.03488961643370732,
           0.014222360426293771,
           0.0070085030072011825,
           0.003921272828471779,
           0.002950472785137383,
           0.0022550807658609714
          ],
          [
           0.023067558983927663,
           0.007048686369043158,
           0.0029623817844447627,
           0.0014730786602227667,
           0.0010414301806339593,
           0.0007525515660270601
          ]
         ]
        }
       ],
       "layout": {
        "font": {
         "color": "#FFF"
        },
        "height": 300,
        "paper_bgcolor": "#000",
        "plot_bgcolor": "#000",
        "title": "1 Blobs:Confidence after 1000 Iters",
        "titlefont": {
         "color": "#FFF"
        },
        "width": 300,
        "xaxis": {
         "dtick": 1,
         "range": [
          -0.5,
          5.5
         ],
         "tickcolor": "#FFF",
         "title": "Glimpses"
        },
        "yaxis": {
         "dtick": 1,
         "range": [
          -0.5,
          5.5
         ],
         "tickcolor": "#FFF",
         "title": "Count Word"
        }
       }
      },
      "text/html": [
       "<div id=\"0555a970-f00a-45fe-9e5e-33034d72742c\" style=\"height: 300px; width: 300px;\" class=\"plotly-graph-div\"></div><script type=\"text/javascript\">require([\"plotly\"], function(Plotly) { window.PLOTLYENV=window.PLOTLYENV || {};window.PLOTLYENV.BASE_URL=\"https://plot.ly\";Plotly.newPlot(\"0555a970-f00a-45fe-9e5e-33034d72742c\", [{\"colorscale\": \"Jet\", \"type\": \"heatmap\", \"z\": [[0.35557323645513333, 0.704223855077727, 0.8518868718558219, 0.9244705811913821, 0.94539464269531, 0.961316195657082], [0.47088361570345316, 0.21841186004742344, 0.10773312826024975, 0.052094284672578185, 0.03666014529983695, 0.02482545931866002], [0.07029302992879258, 0.034814587361974084, 0.019030303236669367, 0.011292354730657074, 0.008729016152107734, 0.006749573165012131], [0.04529240755248996, 0.021278137906196377, 0.0113782810060326, 0.006747887030886717, 0.005223735525349591, 0.004100609642798533], [0.03488961643370732, 0.014222360426293771, 0.0070085030072011825, 0.003921272828471779, 0.002950472785137383, 0.0022550807658609714], [0.023067558983927663, 0.007048686369043158, 0.0029623817844447627, 0.0014730786602227667, 0.0010414301806339593, 0.0007525515660270601]]}], {\"font\": {\"color\": \"#FFF\"}, \"height\": 300, \"plot_bgcolor\": \"#000\", \"xaxis\": {\"dtick\": 1, \"tickcolor\": \"#FFF\", \"title\": \"Glimpses\", \"range\": [-0.5, 5.5]}, \"paper_bgcolor\": \"#000\", \"titlefont\": {\"color\": \"#FFF\"}, \"width\": 300, \"yaxis\": {\"dtick\": 1, \"tickcolor\": \"#FFF\", \"title\": \"Count Word\", \"range\": [-0.5, 5.5]}, \"title\": \"1 Blobs:Confidence after 1000 Iters\"}, {\"linkText\": \"Export to plot.ly\", \"showLink\": true})});</script>"
      ],
      "text/vnd.plotly.v1+html": [
       "<div id=\"0555a970-f00a-45fe-9e5e-33034d72742c\" style=\"height: 300px; width: 300px;\" class=\"plotly-graph-div\"></div><script type=\"text/javascript\">require([\"plotly\"], function(Plotly) { window.PLOTLYENV=window.PLOTLYENV || {};window.PLOTLYENV.BASE_URL=\"https://plot.ly\";Plotly.newPlot(\"0555a970-f00a-45fe-9e5e-33034d72742c\", [{\"colorscale\": \"Jet\", \"type\": \"heatmap\", \"z\": [[0.35557323645513333, 0.704223855077727, 0.8518868718558219, 0.9244705811913821, 0.94539464269531, 0.961316195657082], [0.47088361570345316, 0.21841186004742344, 0.10773312826024975, 0.052094284672578185, 0.03666014529983695, 0.02482545931866002], [0.07029302992879258, 0.034814587361974084, 0.019030303236669367, 0.011292354730657074, 0.008729016152107734, 0.006749573165012131], [0.04529240755248996, 0.021278137906196377, 0.0113782810060326, 0.006747887030886717, 0.005223735525349591, 0.004100609642798533], [0.03488961643370732, 0.014222360426293771, 0.0070085030072011825, 0.003921272828471779, 0.002950472785137383, 0.0022550807658609714], [0.023067558983927663, 0.007048686369043158, 0.0029623817844447627, 0.0014730786602227667, 0.0010414301806339593, 0.0007525515660270601]]}], {\"font\": {\"color\": \"#FFF\"}, \"height\": 300, \"plot_bgcolor\": \"#000\", \"xaxis\": {\"dtick\": 1, \"tickcolor\": \"#FFF\", \"title\": \"Glimpses\", \"range\": [-0.5, 5.5]}, \"paper_bgcolor\": \"#000\", \"titlefont\": {\"color\": \"#FFF\"}, \"width\": 300, \"yaxis\": {\"dtick\": 1, \"tickcolor\": \"#FFF\", \"title\": \"Count Word\", \"range\": [-0.5, 5.5]}, \"title\": \"1 Blobs:Confidence after 1000 Iters\"}, {\"linkText\": \"Export to plot.ly\", \"showLink\": true})});</script>"
      ]
     },
     "metadata": {},
     "output_type": "display_data"
    },
    {
     "data": {
      "application/vnd.plotly.v1+json": {
       "data": [
        {
         "colorscale": "Jet",
         "type": "heatmap",
         "z": [
          [
           0.0031158095866249606,
           0.8830580828731132,
           0.9611011699858159,
           0.9758698283791929,
           0.9729596473345279,
           0.9672402940217419
          ],
          [
           0.985392716627035,
           0.0008747410781442787,
           1.9283546894533637e-06,
           1.0342553686851587e-07,
           4.131998841270711e-08,
           3.1437827402331426e-08
          ],
          [
           0.008110693938706233,
           0.08550451474879286,
           0.004522622334032646,
           0.00030750885081217826,
           0.0001231554170339795,
           8.984099644871188e-05
          ],
          [
           0.0012587739851280418,
           0.021345685334900773,
           0.021648004804810092,
           0.011350263670386627,
           0.010762657706507582,
           0.011598245293602646
          ],
          [
           0.0010139788444888784,
           0.0053449272073630635,
           0.008588327795241492,
           0.008864590525198947,
           0.011573055730872969,
           0.01518628280273091
          ],
          [
           0.0011074352276955806,
           0.003871479696158829,
           0.004137353652170773,
           0.003607140858445095,
           0.004580873869372716,
           0.005884752447933382
          ]
         ]
        }
       ],
       "layout": {
        "font": {
         "color": "#FFF"
        },
        "height": 300,
        "paper_bgcolor": "#000",
        "plot_bgcolor": "#000",
        "title": "1 Blobs:Confidence after 4000 Iters",
        "titlefont": {
         "color": "#FFF"
        },
        "width": 300,
        "xaxis": {
         "dtick": 1,
         "range": [
          -0.5,
          5.5
         ],
         "tickcolor": "#FFF",
         "title": "Glimpses"
        },
        "yaxis": {
         "dtick": 1,
         "range": [
          -0.5,
          5.5
         ],
         "tickcolor": "#FFF",
         "title": "Count Word"
        }
       }
      },
      "text/html": [
       "<div id=\"5734e5cc-794b-4f7f-9228-092629b9b9ba\" style=\"height: 300px; width: 300px;\" class=\"plotly-graph-div\"></div><script type=\"text/javascript\">require([\"plotly\"], function(Plotly) { window.PLOTLYENV=window.PLOTLYENV || {};window.PLOTLYENV.BASE_URL=\"https://plot.ly\";Plotly.newPlot(\"5734e5cc-794b-4f7f-9228-092629b9b9ba\", [{\"colorscale\": \"Jet\", \"type\": \"heatmap\", \"z\": [[0.0031158095866249606, 0.8830580828731132, 0.9611011699858159, 0.9758698283791929, 0.9729596473345279, 0.9672402940217419], [0.985392716627035, 0.0008747410781442787, 1.9283546894533637e-06, 1.0342553686851587e-07, 4.131998841270711e-08, 3.1437827402331426e-08], [0.008110693938706233, 0.08550451474879286, 0.004522622334032646, 0.00030750885081217826, 0.0001231554170339795, 8.984099644871188e-05], [0.0012587739851280418, 0.021345685334900773, 0.021648004804810092, 0.011350263670386627, 0.010762657706507582, 0.011598245293602646], [0.0010139788444888784, 0.0053449272073630635, 0.008588327795241492, 0.008864590525198947, 0.011573055730872969, 0.01518628280273091], [0.0011074352276955806, 0.003871479696158829, 0.004137353652170773, 0.003607140858445095, 0.004580873869372716, 0.005884752447933382]]}], {\"font\": {\"color\": \"#FFF\"}, \"height\": 300, \"plot_bgcolor\": \"#000\", \"xaxis\": {\"dtick\": 1, \"tickcolor\": \"#FFF\", \"title\": \"Glimpses\", \"range\": [-0.5, 5.5]}, \"paper_bgcolor\": \"#000\", \"titlefont\": {\"color\": \"#FFF\"}, \"width\": 300, \"yaxis\": {\"dtick\": 1, \"tickcolor\": \"#FFF\", \"title\": \"Count Word\", \"range\": [-0.5, 5.5]}, \"title\": \"1 Blobs:Confidence after 4000 Iters\"}, {\"linkText\": \"Export to plot.ly\", \"showLink\": true})});</script>"
      ],
      "text/vnd.plotly.v1+html": [
       "<div id=\"5734e5cc-794b-4f7f-9228-092629b9b9ba\" style=\"height: 300px; width: 300px;\" class=\"plotly-graph-div\"></div><script type=\"text/javascript\">require([\"plotly\"], function(Plotly) { window.PLOTLYENV=window.PLOTLYENV || {};window.PLOTLYENV.BASE_URL=\"https://plot.ly\";Plotly.newPlot(\"5734e5cc-794b-4f7f-9228-092629b9b9ba\", [{\"colorscale\": \"Jet\", \"type\": \"heatmap\", \"z\": [[0.0031158095866249606, 0.8830580828731132, 0.9611011699858159, 0.9758698283791929, 0.9729596473345279, 0.9672402940217419], [0.985392716627035, 0.0008747410781442787, 1.9283546894533637e-06, 1.0342553686851587e-07, 4.131998841270711e-08, 3.1437827402331426e-08], [0.008110693938706233, 0.08550451474879286, 0.004522622334032646, 0.00030750885081217826, 0.0001231554170339795, 8.984099644871188e-05], [0.0012587739851280418, 0.021345685334900773, 0.021648004804810092, 0.011350263670386627, 0.010762657706507582, 0.011598245293602646], [0.0010139788444888784, 0.0053449272073630635, 0.008588327795241492, 0.008864590525198947, 0.011573055730872969, 0.01518628280273091], [0.0011074352276955806, 0.003871479696158829, 0.004137353652170773, 0.003607140858445095, 0.004580873869372716, 0.005884752447933382]]}], {\"font\": {\"color\": \"#FFF\"}, \"height\": 300, \"plot_bgcolor\": \"#000\", \"xaxis\": {\"dtick\": 1, \"tickcolor\": \"#FFF\", \"title\": \"Glimpses\", \"range\": [-0.5, 5.5]}, \"paper_bgcolor\": \"#000\", \"titlefont\": {\"color\": \"#FFF\"}, \"width\": 300, \"yaxis\": {\"dtick\": 1, \"tickcolor\": \"#FFF\", \"title\": \"Count Word\", \"range\": [-0.5, 5.5]}, \"title\": \"1 Blobs:Confidence after 4000 Iters\"}, {\"linkText\": \"Export to plot.ly\", \"showLink\": true})});</script>"
      ]
     },
     "metadata": {},
     "output_type": "display_data"
    },
    {
     "data": {
      "application/vnd.plotly.v1+json": {
       "data": [
        {
         "colorscale": "Jet",
         "type": "heatmap",
         "z": [
          [
           4.816515815809845e-06,
           0.8615033561664567,
           0.8479921214084686,
           0.6720464548874885,
           0.6079332942216683,
           0.6034404231238841
          ],
          [
           0.9997077052845244,
           0.0003848497096369401,
           2.0020382600015372e-07,
           2.9470021521381944e-08,
           2.1924585201353796e-08,
           2.1651494490450746e-08
          ],
          [
           0.0002869055868636337,
           0.13256313796439628,
           0.0005646564240832508,
           3.315939740737641e-05,
           7.33372524704456e-06,
           4.923640890583811e-06
          ],
          [
           9.916195862470343e-08,
           0.005450026530452504,
           0.13531666404471793,
           0.05598987935258378,
           0.008891227789541111,
           0.004407995188409732
          ],
          [
           8.482624317001012e-09,
           7.935021483956619e-05,
           0.015184429294936711,
           0.22815459887757225,
           0.19661322381886628,
           0.13133100517112184
          ],
          [
           1.1450175816278878e-08,
           1.880256215994462e-05,
           0.0009414627462279911,
           0.04377541123246778,
           0.18655443035807004,
           0.26081516910869657
          ]
         ]
        }
       ],
       "layout": {
        "font": {
         "color": "#FFF"
        },
        "height": 300,
        "paper_bgcolor": "#000",
        "plot_bgcolor": "#000",
        "title": "1 Blobs:Confidence after 16000 Iters",
        "titlefont": {
         "color": "#FFF"
        },
        "width": 300,
        "xaxis": {
         "dtick": 1,
         "range": [
          -0.5,
          5.5
         ],
         "tickcolor": "#FFF",
         "title": "Glimpses"
        },
        "yaxis": {
         "dtick": 1,
         "range": [
          -0.5,
          5.5
         ],
         "tickcolor": "#FFF",
         "title": "Count Word"
        }
       }
      },
      "text/html": [
       "<div id=\"e2c27929-51e7-40a2-a6f4-c3a55aabc580\" style=\"height: 300px; width: 300px;\" class=\"plotly-graph-div\"></div><script type=\"text/javascript\">require([\"plotly\"], function(Plotly) { window.PLOTLYENV=window.PLOTLYENV || {};window.PLOTLYENV.BASE_URL=\"https://plot.ly\";Plotly.newPlot(\"e2c27929-51e7-40a2-a6f4-c3a55aabc580\", [{\"colorscale\": \"Jet\", \"type\": \"heatmap\", \"z\": [[4.816515815809845e-06, 0.8615033561664567, 0.8479921214084686, 0.6720464548874885, 0.6079332942216683, 0.6034404231238841], [0.9997077052845244, 0.0003848497096369401, 2.0020382600015372e-07, 2.9470021521381944e-08, 2.1924585201353796e-08, 2.1651494490450746e-08], [0.0002869055868636337, 0.13256313796439628, 0.0005646564240832508, 3.315939740737641e-05, 7.33372524704456e-06, 4.923640890583811e-06], [9.916195862470343e-08, 0.005450026530452504, 0.13531666404471793, 0.05598987935258378, 0.008891227789541111, 0.004407995188409732], [8.482624317001012e-09, 7.935021483956619e-05, 0.015184429294936711, 0.22815459887757225, 0.19661322381886628, 0.13133100517112184], [1.1450175816278878e-08, 1.880256215994462e-05, 0.0009414627462279911, 0.04377541123246778, 0.18655443035807004, 0.26081516910869657]]}], {\"font\": {\"color\": \"#FFF\"}, \"height\": 300, \"plot_bgcolor\": \"#000\", \"xaxis\": {\"dtick\": 1, \"tickcolor\": \"#FFF\", \"title\": \"Glimpses\", \"range\": [-0.5, 5.5]}, \"paper_bgcolor\": \"#000\", \"titlefont\": {\"color\": \"#FFF\"}, \"width\": 300, \"yaxis\": {\"dtick\": 1, \"tickcolor\": \"#FFF\", \"title\": \"Count Word\", \"range\": [-0.5, 5.5]}, \"title\": \"1 Blobs:Confidence after 16000 Iters\"}, {\"linkText\": \"Export to plot.ly\", \"showLink\": true})});</script>"
      ],
      "text/vnd.plotly.v1+html": [
       "<div id=\"e2c27929-51e7-40a2-a6f4-c3a55aabc580\" style=\"height: 300px; width: 300px;\" class=\"plotly-graph-div\"></div><script type=\"text/javascript\">require([\"plotly\"], function(Plotly) { window.PLOTLYENV=window.PLOTLYENV || {};window.PLOTLYENV.BASE_URL=\"https://plot.ly\";Plotly.newPlot(\"e2c27929-51e7-40a2-a6f4-c3a55aabc580\", [{\"colorscale\": \"Jet\", \"type\": \"heatmap\", \"z\": [[4.816515815809845e-06, 0.8615033561664567, 0.8479921214084686, 0.6720464548874885, 0.6079332942216683, 0.6034404231238841], [0.9997077052845244, 0.0003848497096369401, 2.0020382600015372e-07, 2.9470021521381944e-08, 2.1924585201353796e-08, 2.1651494490450746e-08], [0.0002869055868636337, 0.13256313796439628, 0.0005646564240832508, 3.315939740737641e-05, 7.33372524704456e-06, 4.923640890583811e-06], [9.916195862470343e-08, 0.005450026530452504, 0.13531666404471793, 0.05598987935258378, 0.008891227789541111, 0.004407995188409732], [8.482624317001012e-09, 7.935021483956619e-05, 0.015184429294936711, 0.22815459887757225, 0.19661322381886628, 0.13133100517112184], [1.1450175816278878e-08, 1.880256215994462e-05, 0.0009414627462279911, 0.04377541123246778, 0.18655443035807004, 0.26081516910869657]]}], {\"font\": {\"color\": \"#FFF\"}, \"height\": 300, \"plot_bgcolor\": \"#000\", \"xaxis\": {\"dtick\": 1, \"tickcolor\": \"#FFF\", \"title\": \"Glimpses\", \"range\": [-0.5, 5.5]}, \"paper_bgcolor\": \"#000\", \"titlefont\": {\"color\": \"#FFF\"}, \"width\": 300, \"yaxis\": {\"dtick\": 1, \"tickcolor\": \"#FFF\", \"title\": \"Count Word\", \"range\": [-0.5, 5.5]}, \"title\": \"1 Blobs:Confidence after 16000 Iters\"}, {\"linkText\": \"Export to plot.ly\", \"showLink\": true})});</script>"
      ]
     },
     "metadata": {},
     "output_type": "display_data"
    },
    {
     "data": {
      "application/vnd.plotly.v1+json": {
       "data": [
        {
         "colorscale": "Jet",
         "type": "heatmap",
         "z": [
          [
           3.113862420294586e-06,
           0.9883825531045205,
           0.9885543846577219,
           0.9537593934609483,
           0.9400955833628066,
           0.937830114612477
          ],
          [
           0.9999423548047511,
           0.00012774597309142674,
           3.2986769988671956e-08,
           3.605669363321898e-08,
           1.1686313987865615e-07,
           1.0374634864973315e-07
          ],
          [
           5.38105861483894e-05,
           0.011227442081103541,
           3.568085904231117e-05,
           5.025501991051848e-06,
           1.5455595908206686e-06,
           9.153943988577823e-07
          ],
          [
           1.369572168689729e-08,
           0.0002597496261726816,
           0.010987352298719211,
           0.005915027643146413,
           0.00023932544254349464,
           5.0002389812621e-05
          ],
          [
           1.2246158943764883e-09,
           1.3324233910647493e-06,
           0.0004133795242812256,
           0.03720721239826768,
           0.014066631038320605,
           0.003133953805043445
          ],
          [
           5.190143113013406e-09,
           4.5680629519156797e-07,
           8.50200500959716e-06,
           0.0031126228038731918,
           0.0455961074690417,
           0.05898421887453196
          ]
         ]
        }
       ],
       "layout": {
        "font": {
         "color": "#FFF"
        },
        "height": 300,
        "paper_bgcolor": "#000",
        "plot_bgcolor": "#000",
        "title": "1 Blobs:Confidence after 32000 Iters",
        "titlefont": {
         "color": "#FFF"
        },
        "width": 300,
        "xaxis": {
         "dtick": 1,
         "range": [
          -0.5,
          5.5
         ],
         "tickcolor": "#FFF",
         "title": "Glimpses"
        },
        "yaxis": {
         "dtick": 1,
         "range": [
          -0.5,
          5.5
         ],
         "tickcolor": "#FFF",
         "title": "Count Word"
        }
       }
      },
      "text/html": [
       "<div id=\"b1851e32-0b32-42e7-bc9f-fa3ac75b54b1\" style=\"height: 300px; width: 300px;\" class=\"plotly-graph-div\"></div><script type=\"text/javascript\">require([\"plotly\"], function(Plotly) { window.PLOTLYENV=window.PLOTLYENV || {};window.PLOTLYENV.BASE_URL=\"https://plot.ly\";Plotly.newPlot(\"b1851e32-0b32-42e7-bc9f-fa3ac75b54b1\", [{\"colorscale\": \"Jet\", \"type\": \"heatmap\", \"z\": [[3.113862420294586e-06, 0.9883825531045205, 0.9885543846577219, 0.9537593934609483, 0.9400955833628066, 0.937830114612477], [0.9999423548047511, 0.00012774597309142674, 3.2986769988671956e-08, 3.605669363321898e-08, 1.1686313987865615e-07, 1.0374634864973315e-07], [5.38105861483894e-05, 0.011227442081103541, 3.568085904231117e-05, 5.025501991051848e-06, 1.5455595908206686e-06, 9.153943988577823e-07], [1.369572168689729e-08, 0.0002597496261726816, 0.010987352298719211, 0.005915027643146413, 0.00023932544254349464, 5.0002389812621e-05], [1.2246158943764883e-09, 1.3324233910647493e-06, 0.0004133795242812256, 0.03720721239826768, 0.014066631038320605, 0.003133953805043445], [5.190143113013406e-09, 4.5680629519156797e-07, 8.50200500959716e-06, 0.0031126228038731918, 0.0455961074690417, 0.05898421887453196]]}], {\"font\": {\"color\": \"#FFF\"}, \"height\": 300, \"plot_bgcolor\": \"#000\", \"xaxis\": {\"dtick\": 1, \"tickcolor\": \"#FFF\", \"title\": \"Glimpses\", \"range\": [-0.5, 5.5]}, \"paper_bgcolor\": \"#000\", \"titlefont\": {\"color\": \"#FFF\"}, \"width\": 300, \"yaxis\": {\"dtick\": 1, \"tickcolor\": \"#FFF\", \"title\": \"Count Word\", \"range\": [-0.5, 5.5]}, \"title\": \"1 Blobs:Confidence after 32000 Iters\"}, {\"linkText\": \"Export to plot.ly\", \"showLink\": true})});</script>"
      ],
      "text/vnd.plotly.v1+html": [
       "<div id=\"b1851e32-0b32-42e7-bc9f-fa3ac75b54b1\" style=\"height: 300px; width: 300px;\" class=\"plotly-graph-div\"></div><script type=\"text/javascript\">require([\"plotly\"], function(Plotly) { window.PLOTLYENV=window.PLOTLYENV || {};window.PLOTLYENV.BASE_URL=\"https://plot.ly\";Plotly.newPlot(\"b1851e32-0b32-42e7-bc9f-fa3ac75b54b1\", [{\"colorscale\": \"Jet\", \"type\": \"heatmap\", \"z\": [[3.113862420294586e-06, 0.9883825531045205, 0.9885543846577219, 0.9537593934609483, 0.9400955833628066, 0.937830114612477], [0.9999423548047511, 0.00012774597309142674, 3.2986769988671956e-08, 3.605669363321898e-08, 1.1686313987865615e-07, 1.0374634864973315e-07], [5.38105861483894e-05, 0.011227442081103541, 3.568085904231117e-05, 5.025501991051848e-06, 1.5455595908206686e-06, 9.153943988577823e-07], [1.369572168689729e-08, 0.0002597496261726816, 0.010987352298719211, 0.005915027643146413, 0.00023932544254349464, 5.0002389812621e-05], [1.2246158943764883e-09, 1.3324233910647493e-06, 0.0004133795242812256, 0.03720721239826768, 0.014066631038320605, 0.003133953805043445], [5.190143113013406e-09, 4.5680629519156797e-07, 8.50200500959716e-06, 0.0031126228038731918, 0.0455961074690417, 0.05898421887453196]]}], {\"font\": {\"color\": \"#FFF\"}, \"height\": 300, \"plot_bgcolor\": \"#000\", \"xaxis\": {\"dtick\": 1, \"tickcolor\": \"#FFF\", \"title\": \"Glimpses\", \"range\": [-0.5, 5.5]}, \"paper_bgcolor\": \"#000\", \"titlefont\": {\"color\": \"#FFF\"}, \"width\": 300, \"yaxis\": {\"dtick\": 1, \"tickcolor\": \"#FFF\", \"title\": \"Count Word\", \"range\": [-0.5, 5.5]}, \"title\": \"1 Blobs:Confidence after 32000 Iters\"}, {\"linkText\": \"Export to plot.ly\", \"showLink\": true})});</script>"
      ]
     },
     "metadata": {},
     "output_type": "display_data"
    },
    {
     "data": {
      "application/vnd.plotly.v1+json": {
       "data": [
        {
         "colorscale": "Jet",
         "type": "heatmap",
         "z": [
          [
           5.567945619974155e-06,
           0.9954471905695386,
           0.9732851175858718,
           0.7412200516220367,
           0.665361878755889,
           0.8971570232789848
          ],
          [
           0.9999737987209791,
           2.305887267630252e-05,
           4.257575717993172e-09,
           1.08789273597982e-08,
           6.372641484756719e-07,
           4.2992392315751654e-07
          ],
          [
           1.9965371361857274e-05,
           0.004451307542898332,
           2.1711175897695677e-05,
           3.307836831175604e-06,
           3.7149875366158125e-06,
           6.51871525563473e-06
          ],
          [
           7.165197669385163e-09,
           7.751214238820961e-05,
           0.02641563926911808,
           0.006024916551259106,
           0.00017533548089983622,
           4.3811575735564507e-05
          ],
          [
           1.156454712257558e-09,
           1.9587962579897298e-07,
           0.0002758470251762073,
           0.24771676039705293,
           0.02572895969806853,
           0.0016140079852020506
          ],
          [
           1.213004289178452e-08,
           5.67023880641591e-08,
           1.0366132552503116e-06,
           0.005034279524959326,
           0.30872880698800564,
           0.10117753009091708
          ]
         ]
        }
       ],
       "layout": {
        "font": {
         "color": "#FFF"
        },
        "height": 300,
        "paper_bgcolor": "#000",
        "plot_bgcolor": "#000",
        "title": "1 Blobs:Confidence after 64000 Iters",
        "titlefont": {
         "color": "#FFF"
        },
        "width": 300,
        "xaxis": {
         "dtick": 1,
         "range": [
          -0.5,
          5.5
         ],
         "tickcolor": "#FFF",
         "title": "Glimpses"
        },
        "yaxis": {
         "dtick": 1,
         "range": [
          -0.5,
          5.5
         ],
         "tickcolor": "#FFF",
         "title": "Count Word"
        }
       }
      },
      "text/html": [
       "<div id=\"68e070f0-febb-4773-9d88-6edf08864fd1\" style=\"height: 300px; width: 300px;\" class=\"plotly-graph-div\"></div><script type=\"text/javascript\">require([\"plotly\"], function(Plotly) { window.PLOTLYENV=window.PLOTLYENV || {};window.PLOTLYENV.BASE_URL=\"https://plot.ly\";Plotly.newPlot(\"68e070f0-febb-4773-9d88-6edf08864fd1\", [{\"colorscale\": \"Jet\", \"type\": \"heatmap\", \"z\": [[5.567945619974155e-06, 0.9954471905695386, 0.9732851175858718, 0.7412200516220367, 0.665361878755889, 0.8971570232789848], [0.9999737987209791, 2.305887267630252e-05, 4.257575717993172e-09, 1.08789273597982e-08, 6.372641484756719e-07, 4.2992392315751654e-07], [1.9965371361857274e-05, 0.004451307542898332, 2.1711175897695677e-05, 3.307836831175604e-06, 3.7149875366158125e-06, 6.51871525563473e-06], [7.165197669385163e-09, 7.751214238820961e-05, 0.02641563926911808, 0.006024916551259106, 0.00017533548089983622, 4.3811575735564507e-05], [1.156454712257558e-09, 1.9587962579897298e-07, 0.0002758470251762073, 0.24771676039705293, 0.02572895969806853, 0.0016140079852020506], [1.213004289178452e-08, 5.67023880641591e-08, 1.0366132552503116e-06, 0.005034279524959326, 0.30872880698800564, 0.10117753009091708]]}], {\"font\": {\"color\": \"#FFF\"}, \"height\": 300, \"plot_bgcolor\": \"#000\", \"xaxis\": {\"dtick\": 1, \"tickcolor\": \"#FFF\", \"title\": \"Glimpses\", \"range\": [-0.5, 5.5]}, \"paper_bgcolor\": \"#000\", \"titlefont\": {\"color\": \"#FFF\"}, \"width\": 300, \"yaxis\": {\"dtick\": 1, \"tickcolor\": \"#FFF\", \"title\": \"Count Word\", \"range\": [-0.5, 5.5]}, \"title\": \"1 Blobs:Confidence after 64000 Iters\"}, {\"linkText\": \"Export to plot.ly\", \"showLink\": true})});</script>"
      ],
      "text/vnd.plotly.v1+html": [
       "<div id=\"68e070f0-febb-4773-9d88-6edf08864fd1\" style=\"height: 300px; width: 300px;\" class=\"plotly-graph-div\"></div><script type=\"text/javascript\">require([\"plotly\"], function(Plotly) { window.PLOTLYENV=window.PLOTLYENV || {};window.PLOTLYENV.BASE_URL=\"https://plot.ly\";Plotly.newPlot(\"68e070f0-febb-4773-9d88-6edf08864fd1\", [{\"colorscale\": \"Jet\", \"type\": \"heatmap\", \"z\": [[5.567945619974155e-06, 0.9954471905695386, 0.9732851175858718, 0.7412200516220367, 0.665361878755889, 0.8971570232789848], [0.9999737987209791, 2.305887267630252e-05, 4.257575717993172e-09, 1.08789273597982e-08, 6.372641484756719e-07, 4.2992392315751654e-07], [1.9965371361857274e-05, 0.004451307542898332, 2.1711175897695677e-05, 3.307836831175604e-06, 3.7149875366158125e-06, 6.51871525563473e-06], [7.165197669385163e-09, 7.751214238820961e-05, 0.02641563926911808, 0.006024916551259106, 0.00017533548089983622, 4.3811575735564507e-05], [1.156454712257558e-09, 1.9587962579897298e-07, 0.0002758470251762073, 0.24771676039705293, 0.02572895969806853, 0.0016140079852020506], [1.213004289178452e-08, 5.67023880641591e-08, 1.0366132552503116e-06, 0.005034279524959326, 0.30872880698800564, 0.10117753009091708]]}], {\"font\": {\"color\": \"#FFF\"}, \"height\": 300, \"plot_bgcolor\": \"#000\", \"xaxis\": {\"dtick\": 1, \"tickcolor\": \"#FFF\", \"title\": \"Glimpses\", \"range\": [-0.5, 5.5]}, \"paper_bgcolor\": \"#000\", \"titlefont\": {\"color\": \"#FFF\"}, \"width\": 300, \"yaxis\": {\"dtick\": 1, \"tickcolor\": \"#FFF\", \"title\": \"Count Word\", \"range\": [-0.5, 5.5]}, \"title\": \"1 Blobs:Confidence after 64000 Iters\"}, {\"linkText\": \"Export to plot.ly\", \"showLink\": true})});</script>"
      ]
     },
     "metadata": {},
     "output_type": "display_data"
    },
    {
     "data": {
      "application/vnd.plotly.v1+json": {
       "data": [
        {
         "colorscale": "Jet",
         "type": "heatmap",
         "z": [
          [
           1.234652683159547e-07,
           0.9891657920048191,
           0.9791579446928401,
           0.8788417713487676,
           0.7721789552267455,
           0.9952238143359154
          ],
          [
           0.999994993891358,
           6.924357647489274e-05,
           1.6304042818395685e-09,
           2.0037190502421735e-07,
           0.0002582779591741113,
           4.9236666013127075e-05
          ],
          [
           4.386414969797323e-06,
           0.010696626321685008,
           5.130386152396009e-06,
           1.487705703425618e-06,
           6.510921999127074e-06,
           1.853122520274265e-05
          ],
          [
           3.6878312227855625e-10,
           6.76879278109192e-05,
           0.020784787173617963,
           0.0010653397824382962,
           4.939878326034132e-06,
           7.218724477037767e-07
          ],
          [
           1.986209716687466e-10,
           7.337184273066249e-08,
           5.154372089558799e-05,
           0.11857307212573162,
           0.0019694046223852264,
           2.307612513847384e-05
          ],
          [
           7.85936473730241e-09,
           5.538191827159239e-08,
           8.437870269074676e-08,
           0.0015176323294079372,
           0.22558140129959897,
           0.004684150368176326
          ]
         ]
        }
       ],
       "layout": {
        "font": {
         "color": "#FFF"
        },
        "height": 300,
        "paper_bgcolor": "#000",
        "plot_bgcolor": "#000",
        "title": "1 Blobs:Confidence after 125000 Iters",
        "titlefont": {
         "color": "#FFF"
        },
        "width": 300,
        "xaxis": {
         "dtick": 1,
         "range": [
          -0.5,
          5.5
         ],
         "tickcolor": "#FFF",
         "title": "Glimpses"
        },
        "yaxis": {
         "dtick": 1,
         "range": [
          -0.5,
          5.5
         ],
         "tickcolor": "#FFF",
         "title": "Count Word"
        }
       }
      },
      "text/html": [
       "<div id=\"50856f71-c9dd-4dea-817d-94a9642e4e9f\" style=\"height: 300px; width: 300px;\" class=\"plotly-graph-div\"></div><script type=\"text/javascript\">require([\"plotly\"], function(Plotly) { window.PLOTLYENV=window.PLOTLYENV || {};window.PLOTLYENV.BASE_URL=\"https://plot.ly\";Plotly.newPlot(\"50856f71-c9dd-4dea-817d-94a9642e4e9f\", [{\"colorscale\": \"Jet\", \"type\": \"heatmap\", \"z\": [[1.234652683159547e-07, 0.9891657920048191, 0.9791579446928401, 0.8788417713487676, 0.7721789552267455, 0.9952238143359154], [0.999994993891358, 6.924357647489274e-05, 1.6304042818395685e-09, 2.0037190502421735e-07, 0.0002582779591741113, 4.9236666013127075e-05], [4.386414969797323e-06, 0.010696626321685008, 5.130386152396009e-06, 1.487705703425618e-06, 6.510921999127074e-06, 1.853122520274265e-05], [3.6878312227855625e-10, 6.76879278109192e-05, 0.020784787173617963, 0.0010653397824382962, 4.939878326034132e-06, 7.218724477037767e-07], [1.986209716687466e-10, 7.337184273066249e-08, 5.154372089558799e-05, 0.11857307212573162, 0.0019694046223852264, 2.307612513847384e-05], [7.85936473730241e-09, 5.538191827159239e-08, 8.437870269074676e-08, 0.0015176323294079372, 0.22558140129959897, 0.004684150368176326]]}], {\"font\": {\"color\": \"#FFF\"}, \"height\": 300, \"plot_bgcolor\": \"#000\", \"xaxis\": {\"dtick\": 1, \"tickcolor\": \"#FFF\", \"title\": \"Glimpses\", \"range\": [-0.5, 5.5]}, \"paper_bgcolor\": \"#000\", \"titlefont\": {\"color\": \"#FFF\"}, \"width\": 300, \"yaxis\": {\"dtick\": 1, \"tickcolor\": \"#FFF\", \"title\": \"Count Word\", \"range\": [-0.5, 5.5]}, \"title\": \"1 Blobs:Confidence after 125000 Iters\"}, {\"linkText\": \"Export to plot.ly\", \"showLink\": true})});</script>"
      ],
      "text/vnd.plotly.v1+html": [
       "<div id=\"50856f71-c9dd-4dea-817d-94a9642e4e9f\" style=\"height: 300px; width: 300px;\" class=\"plotly-graph-div\"></div><script type=\"text/javascript\">require([\"plotly\"], function(Plotly) { window.PLOTLYENV=window.PLOTLYENV || {};window.PLOTLYENV.BASE_URL=\"https://plot.ly\";Plotly.newPlot(\"50856f71-c9dd-4dea-817d-94a9642e4e9f\", [{\"colorscale\": \"Jet\", \"type\": \"heatmap\", \"z\": [[1.234652683159547e-07, 0.9891657920048191, 0.9791579446928401, 0.8788417713487676, 0.7721789552267455, 0.9952238143359154], [0.999994993891358, 6.924357647489274e-05, 1.6304042818395685e-09, 2.0037190502421735e-07, 0.0002582779591741113, 4.9236666013127075e-05], [4.386414969797323e-06, 0.010696626321685008, 5.130386152396009e-06, 1.487705703425618e-06, 6.510921999127074e-06, 1.853122520274265e-05], [3.6878312227855625e-10, 6.76879278109192e-05, 0.020784787173617963, 0.0010653397824382962, 4.939878326034132e-06, 7.218724477037767e-07], [1.986209716687466e-10, 7.337184273066249e-08, 5.154372089558799e-05, 0.11857307212573162, 0.0019694046223852264, 2.307612513847384e-05], [7.85936473730241e-09, 5.538191827159239e-08, 8.437870269074676e-08, 0.0015176323294079372, 0.22558140129959897, 0.004684150368176326]]}], {\"font\": {\"color\": \"#FFF\"}, \"height\": 300, \"plot_bgcolor\": \"#000\", \"xaxis\": {\"dtick\": 1, \"tickcolor\": \"#FFF\", \"title\": \"Glimpses\", \"range\": [-0.5, 5.5]}, \"paper_bgcolor\": \"#000\", \"titlefont\": {\"color\": \"#FFF\"}, \"width\": 300, \"yaxis\": {\"dtick\": 1, \"tickcolor\": \"#FFF\", \"title\": \"Count Word\", \"range\": [-0.5, 5.5]}, \"title\": \"1 Blobs:Confidence after 125000 Iters\"}, {\"linkText\": \"Export to plot.ly\", \"showLink\": true})});</script>"
      ]
     },
     "metadata": {},
     "output_type": "display_data"
    },
    {
     "data": {
      "application/vnd.plotly.v1+json": {
       "data": [
        {
         "colorscale": "Jet",
         "type": "heatmap",
         "z": [
          [
           9.920349092240504e-09,
           0.9675769462776497,
           0.9772650330832574,
           0.8804058177493609,
           0.7003156570224846,
           0.9903717791123142
          ],
          [
           0.9999973027721997,
           0.00011595276746330695,
           3.504707497184834e-09,
           1.2877937569438308e-07,
           2.9273629159850773e-05,
           1.9528998607578246e-06
          ],
          [
           1.7310211664418435e-06,
           0.03225642236536387,
           6.443547479189066e-06,
           1.8371375786838644e-06,
           7.249404527097653e-06,
           3.5205409479156612e-06
          ],
          [
           5.344799664299929e-11,
           4.8175510388208136e-05,
           0.022645703080331626,
           0.0008649216742994974,
           1.1341180925426588e-05,
           3.31602029043108e-06
          ],
          [
           2.604810790088613e-10,
           3.416271485192637e-07,
           8.176034887214942e-05,
           0.11799785537202212,
           0.0017955287398310682,
           5.023618588292306e-05
          ],
          [
           4.591461344843672e-08,
           1.2754647432399196e-06,
           1.5667834512283804e-07,
           0.0007285699556953925,
           0.2978400183305783,
           0.009568280647201367
          ]
         ]
        }
       ],
       "layout": {
        "font": {
         "color": "#FFF"
        },
        "height": 300,
        "paper_bgcolor": "#000",
        "plot_bgcolor": "#000",
        "title": "1 Blobs:Confidence after 250000 Iters",
        "titlefont": {
         "color": "#FFF"
        },
        "width": 300,
        "xaxis": {
         "dtick": 1,
         "range": [
          -0.5,
          5.5
         ],
         "tickcolor": "#FFF",
         "title": "Glimpses"
        },
        "yaxis": {
         "dtick": 1,
         "range": [
          -0.5,
          5.5
         ],
         "tickcolor": "#FFF",
         "title": "Count Word"
        }
       }
      },
      "text/html": [
       "<div id=\"b96f2275-f0ca-46a3-bc44-8e6815b523b5\" style=\"height: 300px; width: 300px;\" class=\"plotly-graph-div\"></div><script type=\"text/javascript\">require([\"plotly\"], function(Plotly) { window.PLOTLYENV=window.PLOTLYENV || {};window.PLOTLYENV.BASE_URL=\"https://plot.ly\";Plotly.newPlot(\"b96f2275-f0ca-46a3-bc44-8e6815b523b5\", [{\"colorscale\": \"Jet\", \"type\": \"heatmap\", \"z\": [[9.920349092240504e-09, 0.9675769462776497, 0.9772650330832574, 0.8804058177493609, 0.7003156570224846, 0.9903717791123142], [0.9999973027721997, 0.00011595276746330695, 3.504707497184834e-09, 1.2877937569438308e-07, 2.9273629159850773e-05, 1.9528998607578246e-06], [1.7310211664418435e-06, 0.03225642236536387, 6.443547479189066e-06, 1.8371375786838644e-06, 7.249404527097653e-06, 3.5205409479156612e-06], [5.344799664299929e-11, 4.8175510388208136e-05, 0.022645703080331626, 0.0008649216742994974, 1.1341180925426588e-05, 3.31602029043108e-06], [2.604810790088613e-10, 3.416271485192637e-07, 8.176034887214942e-05, 0.11799785537202212, 0.0017955287398310682, 5.023618588292306e-05], [4.591461344843672e-08, 1.2754647432399196e-06, 1.5667834512283804e-07, 0.0007285699556953925, 0.2978400183305783, 0.009568280647201367]]}], {\"font\": {\"color\": \"#FFF\"}, \"height\": 300, \"plot_bgcolor\": \"#000\", \"xaxis\": {\"dtick\": 1, \"tickcolor\": \"#FFF\", \"title\": \"Glimpses\", \"range\": [-0.5, 5.5]}, \"paper_bgcolor\": \"#000\", \"titlefont\": {\"color\": \"#FFF\"}, \"width\": 300, \"yaxis\": {\"dtick\": 1, \"tickcolor\": \"#FFF\", \"title\": \"Count Word\", \"range\": [-0.5, 5.5]}, \"title\": \"1 Blobs:Confidence after 250000 Iters\"}, {\"linkText\": \"Export to plot.ly\", \"showLink\": true})});</script>"
      ],
      "text/vnd.plotly.v1+html": [
       "<div id=\"b96f2275-f0ca-46a3-bc44-8e6815b523b5\" style=\"height: 300px; width: 300px;\" class=\"plotly-graph-div\"></div><script type=\"text/javascript\">require([\"plotly\"], function(Plotly) { window.PLOTLYENV=window.PLOTLYENV || {};window.PLOTLYENV.BASE_URL=\"https://plot.ly\";Plotly.newPlot(\"b96f2275-f0ca-46a3-bc44-8e6815b523b5\", [{\"colorscale\": \"Jet\", \"type\": \"heatmap\", \"z\": [[9.920349092240504e-09, 0.9675769462776497, 0.9772650330832574, 0.8804058177493609, 0.7003156570224846, 0.9903717791123142], [0.9999973027721997, 0.00011595276746330695, 3.504707497184834e-09, 1.2877937569438308e-07, 2.9273629159850773e-05, 1.9528998607578246e-06], [1.7310211664418435e-06, 0.03225642236536387, 6.443547479189066e-06, 1.8371375786838644e-06, 7.249404527097653e-06, 3.5205409479156612e-06], [5.344799664299929e-11, 4.8175510388208136e-05, 0.022645703080331626, 0.0008649216742994974, 1.1341180925426588e-05, 3.31602029043108e-06], [2.604810790088613e-10, 3.416271485192637e-07, 8.176034887214942e-05, 0.11799785537202212, 0.0017955287398310682, 5.023618588292306e-05], [4.591461344843672e-08, 1.2754647432399196e-06, 1.5667834512283804e-07, 0.0007285699556953925, 0.2978400183305783, 0.009568280647201367]]}], {\"font\": {\"color\": \"#FFF\"}, \"height\": 300, \"plot_bgcolor\": \"#000\", \"xaxis\": {\"dtick\": 1, \"tickcolor\": \"#FFF\", \"title\": \"Glimpses\", \"range\": [-0.5, 5.5]}, \"paper_bgcolor\": \"#000\", \"titlefont\": {\"color\": \"#FFF\"}, \"width\": 300, \"yaxis\": {\"dtick\": 1, \"tickcolor\": \"#FFF\", \"title\": \"Count Word\", \"range\": [-0.5, 5.5]}, \"title\": \"1 Blobs:Confidence after 250000 Iters\"}, {\"linkText\": \"Export to plot.ly\", \"showLink\": true})});</script>"
      ]
     },
     "metadata": {},
     "output_type": "display_data"
    },
    {
     "data": {
      "application/vnd.plotly.v1+json": {
       "data": [
        {
         "colorscale": "Jet",
         "type": "heatmap",
         "z": [
          [
           2.613241875909221e-08,
           0.9887829482832097,
           0.951013245600898,
           0.666066877196293,
           0.6970249330958338,
           0.9924037130170932
          ],
          [
           0.9999981443886283,
           1.530353063597523e-05,
           9.587779588300522e-09,
           1.2401131190542557e-06,
           0.00018662528860543376,
           8.135325560992658e-06
          ],
          [
           1.1638230196080332e-06,
           0.011155496460907553,
           9.67821864170005e-06,
           5.295109965666044e-06,
           5.606936782120626e-05,
           3.623700795157302e-05
          ],
          [
           5.0427264530635495e-11,
           4.039513272414594e-05,
           0.048646180299138045,
           0.0005776842334158176,
           1.6498301781742615e-05,
           8.929571271191697e-06
          ],
          [
           4.969109012743183e-10,
           8.724322567778382e-07,
           0.00032995723917952257,
           0.3326938058173134,
           0.0034434497423487726,
           0.00010977171808082752
          ],
          [
           1.880471818377923e-07,
           4.509212990588296e-06,
           4.591317703440446e-07,
           0.0006546088678381274,
           0.299271960458576,
           0.007432738394058673
          ]
         ]
        }
       ],
       "layout": {
        "font": {
         "color": "#FFF"
        },
        "height": 300,
        "paper_bgcolor": "#000",
        "plot_bgcolor": "#000",
        "title": "1 Blobs:Confidence after 500000 Iters",
        "titlefont": {
         "color": "#FFF"
        },
        "width": 300,
        "xaxis": {
         "dtick": 1,
         "range": [
          -0.5,
          5.5
         ],
         "tickcolor": "#FFF",
         "title": "Glimpses"
        },
        "yaxis": {
         "dtick": 1,
         "range": [
          -0.5,
          5.5
         ],
         "tickcolor": "#FFF",
         "title": "Count Word"
        }
       }
      },
      "text/html": [
       "<div id=\"2ab9a089-3860-4a15-b49c-cbe6af7d6fab\" style=\"height: 300px; width: 300px;\" class=\"plotly-graph-div\"></div><script type=\"text/javascript\">require([\"plotly\"], function(Plotly) { window.PLOTLYENV=window.PLOTLYENV || {};window.PLOTLYENV.BASE_URL=\"https://plot.ly\";Plotly.newPlot(\"2ab9a089-3860-4a15-b49c-cbe6af7d6fab\", [{\"colorscale\": \"Jet\", \"type\": \"heatmap\", \"z\": [[2.613241875909221e-08, 0.9887829482832097, 0.951013245600898, 0.666066877196293, 0.6970249330958338, 0.9924037130170932], [0.9999981443886283, 1.530353063597523e-05, 9.587779588300522e-09, 1.2401131190542557e-06, 0.00018662528860543376, 8.135325560992658e-06], [1.1638230196080332e-06, 0.011155496460907553, 9.67821864170005e-06, 5.295109965666044e-06, 5.606936782120626e-05, 3.623700795157302e-05], [5.0427264530635495e-11, 4.039513272414594e-05, 0.048646180299138045, 0.0005776842334158176, 1.6498301781742615e-05, 8.929571271191697e-06], [4.969109012743183e-10, 8.724322567778382e-07, 0.00032995723917952257, 0.3326938058173134, 0.0034434497423487726, 0.00010977171808082752], [1.880471818377923e-07, 4.509212990588296e-06, 4.591317703440446e-07, 0.0006546088678381274, 0.299271960458576, 0.007432738394058673]]}], {\"font\": {\"color\": \"#FFF\"}, \"height\": 300, \"plot_bgcolor\": \"#000\", \"xaxis\": {\"dtick\": 1, \"tickcolor\": \"#FFF\", \"title\": \"Glimpses\", \"range\": [-0.5, 5.5]}, \"paper_bgcolor\": \"#000\", \"titlefont\": {\"color\": \"#FFF\"}, \"width\": 300, \"yaxis\": {\"dtick\": 1, \"tickcolor\": \"#FFF\", \"title\": \"Count Word\", \"range\": [-0.5, 5.5]}, \"title\": \"1 Blobs:Confidence after 500000 Iters\"}, {\"linkText\": \"Export to plot.ly\", \"showLink\": true})});</script>"
      ],
      "text/vnd.plotly.v1+html": [
       "<div id=\"2ab9a089-3860-4a15-b49c-cbe6af7d6fab\" style=\"height: 300px; width: 300px;\" class=\"plotly-graph-div\"></div><script type=\"text/javascript\">require([\"plotly\"], function(Plotly) { window.PLOTLYENV=window.PLOTLYENV || {};window.PLOTLYENV.BASE_URL=\"https://plot.ly\";Plotly.newPlot(\"2ab9a089-3860-4a15-b49c-cbe6af7d6fab\", [{\"colorscale\": \"Jet\", \"type\": \"heatmap\", \"z\": [[2.613241875909221e-08, 0.9887829482832097, 0.951013245600898, 0.666066877196293, 0.6970249330958338, 0.9924037130170932], [0.9999981443886283, 1.530353063597523e-05, 9.587779588300522e-09, 1.2401131190542557e-06, 0.00018662528860543376, 8.135325560992658e-06], [1.1638230196080332e-06, 0.011155496460907553, 9.67821864170005e-06, 5.295109965666044e-06, 5.606936782120626e-05, 3.623700795157302e-05], [5.0427264530635495e-11, 4.039513272414594e-05, 0.048646180299138045, 0.0005776842334158176, 1.6498301781742615e-05, 8.929571271191697e-06], [4.969109012743183e-10, 8.724322567778382e-07, 0.00032995723917952257, 0.3326938058173134, 0.0034434497423487726, 0.00010977171808082752], [1.880471818377923e-07, 4.509212990588296e-06, 4.591317703440446e-07, 0.0006546088678381274, 0.299271960458576, 0.007432738394058673]]}], {\"font\": {\"color\": \"#FFF\"}, \"height\": 300, \"plot_bgcolor\": \"#000\", \"xaxis\": {\"dtick\": 1, \"tickcolor\": \"#FFF\", \"title\": \"Glimpses\", \"range\": [-0.5, 5.5]}, \"paper_bgcolor\": \"#000\", \"titlefont\": {\"color\": \"#FFF\"}, \"width\": 300, \"yaxis\": {\"dtick\": 1, \"tickcolor\": \"#FFF\", \"title\": \"Count Word\", \"range\": [-0.5, 5.5]}, \"title\": \"1 Blobs:Confidence after 500000 Iters\"}, {\"linkText\": \"Export to plot.ly\", \"showLink\": true})});</script>"
      ]
     },
     "metadata": {},
     "output_type": "display_data"
    },
    {
     "data": {
      "application/vnd.plotly.v1+json": {
       "data": [
        {
         "colorscale": "Jet",
         "type": "heatmap",
         "z": [
          [
           1.4037349622362951e-08,
           0.9257140197047287,
           0.9568787242195259,
           0.7886132689641198,
           0.6208497114544721,
           0.9944858613499672
          ],
          [
           0.999996674214699,
           2.706033610745908e-05,
           5.348253781987567e-09,
           2.576232680937633e-06,
           0.0006835537222656671,
           1.4101263907168164e-05
          ],
          [
           2.0119679068043643e-06,
           0.07414141034137359,
           1.3702759657509246e-05,
           8.12541943643311e-06,
           0.00014046323349995831,
           0.00016574095452257702
          ],
          [
           1.3471500484283652e-10,
           9.861673620827775e-05,
           0.04298797050153849,
           0.00034016084265055,
           1.0645996218461376e-05,
           5.541356261275854e-06
          ],
          [
           1.2834216406768775e-09,
           1.5363586991007948e-06,
           0.00011835715474918381,
           0.21047413044788899,
           0.0017945110062632362,
           3.9800639767264066e-05
          ],
          [
           3.7781390736713606e-07,
           1.6436921485045624e-05,
           3.3409415181317055e-07,
           0.0005608008261936784,
           0.37652022367384647,
           0.005288049322129884
          ]
         ]
        }
       ],
       "layout": {
        "font": {
         "color": "#FFF"
        },
        "height": 300,
        "paper_bgcolor": "#000",
        "plot_bgcolor": "#000",
        "title": "1 Blobs:Confidence after 600000 Iters",
        "titlefont": {
         "color": "#FFF"
        },
        "width": 300,
        "xaxis": {
         "dtick": 1,
         "range": [
          -0.5,
          5.5
         ],
         "tickcolor": "#FFF",
         "title": "Glimpses"
        },
        "yaxis": {
         "dtick": 1,
         "range": [
          -0.5,
          5.5
         ],
         "tickcolor": "#FFF",
         "title": "Count Word"
        }
       }
      },
      "text/html": [
       "<div id=\"f869e5d5-cabc-485c-b30a-4ac90c1816e1\" style=\"height: 300px; width: 300px;\" class=\"plotly-graph-div\"></div><script type=\"text/javascript\">require([\"plotly\"], function(Plotly) { window.PLOTLYENV=window.PLOTLYENV || {};window.PLOTLYENV.BASE_URL=\"https://plot.ly\";Plotly.newPlot(\"f869e5d5-cabc-485c-b30a-4ac90c1816e1\", [{\"colorscale\": \"Jet\", \"type\": \"heatmap\", \"z\": [[1.4037349622362951e-08, 0.9257140197047287, 0.9568787242195259, 0.7886132689641198, 0.6208497114544721, 0.9944858613499672], [0.999996674214699, 2.706033610745908e-05, 5.348253781987567e-09, 2.576232680937633e-06, 0.0006835537222656671, 1.4101263907168164e-05], [2.0119679068043643e-06, 0.07414141034137359, 1.3702759657509246e-05, 8.12541943643311e-06, 0.00014046323349995831, 0.00016574095452257702], [1.3471500484283652e-10, 9.861673620827775e-05, 0.04298797050153849, 0.00034016084265055, 1.0645996218461376e-05, 5.541356261275854e-06], [1.2834216406768775e-09, 1.5363586991007948e-06, 0.00011835715474918381, 0.21047413044788899, 0.0017945110062632362, 3.9800639767264066e-05], [3.7781390736713606e-07, 1.6436921485045624e-05, 3.3409415181317055e-07, 0.0005608008261936784, 0.37652022367384647, 0.005288049322129884]]}], {\"font\": {\"color\": \"#FFF\"}, \"height\": 300, \"plot_bgcolor\": \"#000\", \"xaxis\": {\"dtick\": 1, \"tickcolor\": \"#FFF\", \"title\": \"Glimpses\", \"range\": [-0.5, 5.5]}, \"paper_bgcolor\": \"#000\", \"titlefont\": {\"color\": \"#FFF\"}, \"width\": 300, \"yaxis\": {\"dtick\": 1, \"tickcolor\": \"#FFF\", \"title\": \"Count Word\", \"range\": [-0.5, 5.5]}, \"title\": \"1 Blobs:Confidence after 600000 Iters\"}, {\"linkText\": \"Export to plot.ly\", \"showLink\": true})});</script>"
      ],
      "text/vnd.plotly.v1+html": [
       "<div id=\"f869e5d5-cabc-485c-b30a-4ac90c1816e1\" style=\"height: 300px; width: 300px;\" class=\"plotly-graph-div\"></div><script type=\"text/javascript\">require([\"plotly\"], function(Plotly) { window.PLOTLYENV=window.PLOTLYENV || {};window.PLOTLYENV.BASE_URL=\"https://plot.ly\";Plotly.newPlot(\"f869e5d5-cabc-485c-b30a-4ac90c1816e1\", [{\"colorscale\": \"Jet\", \"type\": \"heatmap\", \"z\": [[1.4037349622362951e-08, 0.9257140197047287, 0.9568787242195259, 0.7886132689641198, 0.6208497114544721, 0.9944858613499672], [0.999996674214699, 2.706033610745908e-05, 5.348253781987567e-09, 2.576232680937633e-06, 0.0006835537222656671, 1.4101263907168164e-05], [2.0119679068043643e-06, 0.07414141034137359, 1.3702759657509246e-05, 8.12541943643311e-06, 0.00014046323349995831, 0.00016574095452257702], [1.3471500484283652e-10, 9.861673620827775e-05, 0.04298797050153849, 0.00034016084265055, 1.0645996218461376e-05, 5.541356261275854e-06], [1.2834216406768775e-09, 1.5363586991007948e-06, 0.00011835715474918381, 0.21047413044788899, 0.0017945110062632362, 3.9800639767264066e-05], [3.7781390736713606e-07, 1.6436921485045624e-05, 3.3409415181317055e-07, 0.0005608008261936784, 0.37652022367384647, 0.005288049322129884]]}], {\"font\": {\"color\": \"#FFF\"}, \"height\": 300, \"plot_bgcolor\": \"#000\", \"xaxis\": {\"dtick\": 1, \"tickcolor\": \"#FFF\", \"title\": \"Glimpses\", \"range\": [-0.5, 5.5]}, \"paper_bgcolor\": \"#000\", \"titlefont\": {\"color\": \"#FFF\"}, \"width\": 300, \"yaxis\": {\"dtick\": 1, \"tickcolor\": \"#FFF\", \"title\": \"Count Word\", \"range\": [-0.5, 5.5]}, \"title\": \"1 Blobs:Confidence after 600000 Iters\"}, {\"linkText\": \"Export to plot.ly\", \"showLink\": true})});</script>"
      ]
     },
     "metadata": {},
     "output_type": "display_data"
    },
    {
     "data": {
      "application/vnd.plotly.v1+json": {
       "data": [
        {
         "colorscale": "Jet",
         "type": "heatmap",
         "z": [
          [
           0.1662311483126256,
           0.166186552473317,
           0.16640187247726132,
           0.16676783817012963,
           0.16720881709461605,
           0.1676710723819402
          ],
          [
           0.16609437394138218,
           0.16493746581370664,
           0.16358730546171274,
           0.16223744147709346,
           0.16098649796826145,
           0.15987498703078462
          ],
          [
           0.1690444901222678,
           0.17105890165129828,
           0.17273474325709548,
           0.17412105380606221,
           0.17525436926946347,
           0.17617146817622004
          ],
          [
           0.1652168872661258,
           0.164179578275275,
           0.16341604485557204,
           0.1628504219261572,
           0.1624254824371006,
           0.16209829616685284
          ],
          [
           0.1660939004158562,
           0.16599565877036843,
           0.16613314177421715,
           0.1663755230996977,
           0.16665390147141276,
           0.1669357244929768
          ],
          [
           0.16731865928764847,
           0.167641276698844,
           0.16772634406947085,
           0.1676471378189907,
           0.1674703745482151,
           0.1672478961959786
          ]
         ]
        }
       ],
       "layout": {
        "font": {
         "color": "#FFF"
        },
        "height": 300,
        "paper_bgcolor": "#000",
        "plot_bgcolor": "#000",
        "title": "2 Blobs:Confidence after 0 Iters",
        "titlefont": {
         "color": "#FFF"
        },
        "width": 300,
        "xaxis": {
         "dtick": 1,
         "range": [
          -0.5,
          5.5
         ],
         "tickcolor": "#FFF",
         "title": "Glimpses"
        },
        "yaxis": {
         "dtick": 1,
         "range": [
          -0.5,
          5.5
         ],
         "tickcolor": "#FFF",
         "title": "Count Word"
        }
       }
      },
      "text/html": [
       "<div id=\"4585d21a-d546-4064-826c-7bcd19cc239b\" style=\"height: 300px; width: 300px;\" class=\"plotly-graph-div\"></div><script type=\"text/javascript\">require([\"plotly\"], function(Plotly) { window.PLOTLYENV=window.PLOTLYENV || {};window.PLOTLYENV.BASE_URL=\"https://plot.ly\";Plotly.newPlot(\"4585d21a-d546-4064-826c-7bcd19cc239b\", [{\"colorscale\": \"Jet\", \"type\": \"heatmap\", \"z\": [[0.1662311483126256, 0.166186552473317, 0.16640187247726132, 0.16676783817012963, 0.16720881709461605, 0.1676710723819402], [0.16609437394138218, 0.16493746581370664, 0.16358730546171274, 0.16223744147709346, 0.16098649796826145, 0.15987498703078462], [0.1690444901222678, 0.17105890165129828, 0.17273474325709548, 0.17412105380606221, 0.17525436926946347, 0.17617146817622004], [0.1652168872661258, 0.164179578275275, 0.16341604485557204, 0.1628504219261572, 0.1624254824371006, 0.16209829616685284], [0.1660939004158562, 0.16599565877036843, 0.16613314177421715, 0.1663755230996977, 0.16665390147141276, 0.1669357244929768], [0.16731865928764847, 0.167641276698844, 0.16772634406947085, 0.1676471378189907, 0.1674703745482151, 0.1672478961959786]]}], {\"font\": {\"color\": \"#FFF\"}, \"height\": 300, \"plot_bgcolor\": \"#000\", \"xaxis\": {\"dtick\": 1, \"tickcolor\": \"#FFF\", \"title\": \"Glimpses\", \"range\": [-0.5, 5.5]}, \"paper_bgcolor\": \"#000\", \"titlefont\": {\"color\": \"#FFF\"}, \"width\": 300, \"yaxis\": {\"dtick\": 1, \"tickcolor\": \"#FFF\", \"title\": \"Count Word\", \"range\": [-0.5, 5.5]}, \"title\": \"2 Blobs:Confidence after 0 Iters\"}, {\"linkText\": \"Export to plot.ly\", \"showLink\": true})});</script>"
      ],
      "text/vnd.plotly.v1+html": [
       "<div id=\"4585d21a-d546-4064-826c-7bcd19cc239b\" style=\"height: 300px; width: 300px;\" class=\"plotly-graph-div\"></div><script type=\"text/javascript\">require([\"plotly\"], function(Plotly) { window.PLOTLYENV=window.PLOTLYENV || {};window.PLOTLYENV.BASE_URL=\"https://plot.ly\";Plotly.newPlot(\"4585d21a-d546-4064-826c-7bcd19cc239b\", [{\"colorscale\": \"Jet\", \"type\": \"heatmap\", \"z\": [[0.1662311483126256, 0.166186552473317, 0.16640187247726132, 0.16676783817012963, 0.16720881709461605, 0.1676710723819402], [0.16609437394138218, 0.16493746581370664, 0.16358730546171274, 0.16223744147709346, 0.16098649796826145, 0.15987498703078462], [0.1690444901222678, 0.17105890165129828, 0.17273474325709548, 0.17412105380606221, 0.17525436926946347, 0.17617146817622004], [0.1652168872661258, 0.164179578275275, 0.16341604485557204, 0.1628504219261572, 0.1624254824371006, 0.16209829616685284], [0.1660939004158562, 0.16599565877036843, 0.16613314177421715, 0.1663755230996977, 0.16665390147141276, 0.1669357244929768], [0.16731865928764847, 0.167641276698844, 0.16772634406947085, 0.1676471378189907, 0.1674703745482151, 0.1672478961959786]]}], {\"font\": {\"color\": \"#FFF\"}, \"height\": 300, \"plot_bgcolor\": \"#000\", \"xaxis\": {\"dtick\": 1, \"tickcolor\": \"#FFF\", \"title\": \"Glimpses\", \"range\": [-0.5, 5.5]}, \"paper_bgcolor\": \"#000\", \"titlefont\": {\"color\": \"#FFF\"}, \"width\": 300, \"yaxis\": {\"dtick\": 1, \"tickcolor\": \"#FFF\", \"title\": \"Count Word\", \"range\": [-0.5, 5.5]}, \"title\": \"2 Blobs:Confidence after 0 Iters\"}, {\"linkText\": \"Export to plot.ly\", \"showLink\": true})});</script>"
      ]
     },
     "metadata": {},
     "output_type": "display_data"
    },
    {
     "data": {
      "application/vnd.plotly.v1+json": {
       "data": [
        {
         "colorscale": "Jet",
         "type": "heatmap",
         "z": [
          [
           0.19041728924532753,
           0.37909300538089785,
           0.5984820465032615,
           0.7740116023580274,
           0.8524385069423677,
           0.9027621635338711
          ],
          [
           0.3315099431372205,
           0.3335809410472835,
           0.2522453794386184,
           0.14590963260686837,
           0.09633475183561593,
           0.06297941419620724
          ],
          [
           0.1453814195693662,
           0.10515786734083657,
           0.06265600767748121,
           0.035805470525197364,
           0.023656777726613735,
           0.016155614829249938
          ],
          [
           0.11638629926646545,
           0.07368411460669572,
           0.039403475468217854,
           0.021773018785519176,
           0.014156124438150291,
           0.00963370110292151
          ],
          [
           0.11140404889236412,
           0.0627366925034786,
           0.030149807678881143,
           0.015325923244203139,
           0.009456356782200056,
           0.0061336934601409964
          ],
          [
           0.10490056436348888,
           0.04574695989317876,
           0.017062864471571824,
           0.007173930371277545,
           0.0039570614467132935,
           0.002334952800345887
          ]
         ]
        }
       ],
       "layout": {
        "font": {
         "color": "#FFF"
        },
        "height": 300,
        "paper_bgcolor": "#000",
        "plot_bgcolor": "#000",
        "title": "2 Blobs:Confidence after 1000 Iters",
        "titlefont": {
         "color": "#FFF"
        },
        "width": 300,
        "xaxis": {
         "dtick": 1,
         "range": [
          -0.5,
          5.5
         ],
         "tickcolor": "#FFF",
         "title": "Glimpses"
        },
        "yaxis": {
         "dtick": 1,
         "range": [
          -0.5,
          5.5
         ],
         "tickcolor": "#FFF",
         "title": "Count Word"
        }
       }
      },
      "text/html": [
       "<div id=\"b51dfa11-6014-463a-b987-c48dd1fc4c74\" style=\"height: 300px; width: 300px;\" class=\"plotly-graph-div\"></div><script type=\"text/javascript\">require([\"plotly\"], function(Plotly) { window.PLOTLYENV=window.PLOTLYENV || {};window.PLOTLYENV.BASE_URL=\"https://plot.ly\";Plotly.newPlot(\"b51dfa11-6014-463a-b987-c48dd1fc4c74\", [{\"colorscale\": \"Jet\", \"type\": \"heatmap\", \"z\": [[0.19041728924532753, 0.37909300538089785, 0.5984820465032615, 0.7740116023580274, 0.8524385069423677, 0.9027621635338711], [0.3315099431372205, 0.3335809410472835, 0.2522453794386184, 0.14590963260686837, 0.09633475183561593, 0.06297941419620724], [0.1453814195693662, 0.10515786734083657, 0.06265600767748121, 0.035805470525197364, 0.023656777726613735, 0.016155614829249938], [0.11638629926646545, 0.07368411460669572, 0.039403475468217854, 0.021773018785519176, 0.014156124438150291, 0.00963370110292151], [0.11140404889236412, 0.0627366925034786, 0.030149807678881143, 0.015325923244203139, 0.009456356782200056, 0.0061336934601409964], [0.10490056436348888, 0.04574695989317876, 0.017062864471571824, 0.007173930371277545, 0.0039570614467132935, 0.002334952800345887]]}], {\"font\": {\"color\": \"#FFF\"}, \"height\": 300, \"plot_bgcolor\": \"#000\", \"xaxis\": {\"dtick\": 1, \"tickcolor\": \"#FFF\", \"title\": \"Glimpses\", \"range\": [-0.5, 5.5]}, \"paper_bgcolor\": \"#000\", \"titlefont\": {\"color\": \"#FFF\"}, \"width\": 300, \"yaxis\": {\"dtick\": 1, \"tickcolor\": \"#FFF\", \"title\": \"Count Word\", \"range\": [-0.5, 5.5]}, \"title\": \"2 Blobs:Confidence after 1000 Iters\"}, {\"linkText\": \"Export to plot.ly\", \"showLink\": true})});</script>"
      ],
      "text/vnd.plotly.v1+html": [
       "<div id=\"b51dfa11-6014-463a-b987-c48dd1fc4c74\" style=\"height: 300px; width: 300px;\" class=\"plotly-graph-div\"></div><script type=\"text/javascript\">require([\"plotly\"], function(Plotly) { window.PLOTLYENV=window.PLOTLYENV || {};window.PLOTLYENV.BASE_URL=\"https://plot.ly\";Plotly.newPlot(\"b51dfa11-6014-463a-b987-c48dd1fc4c74\", [{\"colorscale\": \"Jet\", \"type\": \"heatmap\", \"z\": [[0.19041728924532753, 0.37909300538089785, 0.5984820465032615, 0.7740116023580274, 0.8524385069423677, 0.9027621635338711], [0.3315099431372205, 0.3335809410472835, 0.2522453794386184, 0.14590963260686837, 0.09633475183561593, 0.06297941419620724], [0.1453814195693662, 0.10515786734083657, 0.06265600767748121, 0.035805470525197364, 0.023656777726613735, 0.016155614829249938], [0.11638629926646545, 0.07368411460669572, 0.039403475468217854, 0.021773018785519176, 0.014156124438150291, 0.00963370110292151], [0.11140404889236412, 0.0627366925034786, 0.030149807678881143, 0.015325923244203139, 0.009456356782200056, 0.0061336934601409964], [0.10490056436348888, 0.04574695989317876, 0.017062864471571824, 0.007173930371277545, 0.0039570614467132935, 0.002334952800345887]]}], {\"font\": {\"color\": \"#FFF\"}, \"height\": 300, \"plot_bgcolor\": \"#000\", \"xaxis\": {\"dtick\": 1, \"tickcolor\": \"#FFF\", \"title\": \"Glimpses\", \"range\": [-0.5, 5.5]}, \"paper_bgcolor\": \"#000\", \"titlefont\": {\"color\": \"#FFF\"}, \"width\": 300, \"yaxis\": {\"dtick\": 1, \"tickcolor\": \"#FFF\", \"title\": \"Count Word\", \"range\": [-0.5, 5.5]}, \"title\": \"2 Blobs:Confidence after 1000 Iters\"}, {\"linkText\": \"Export to plot.ly\", \"showLink\": true})});</script>"
      ]
     },
     "metadata": {},
     "output_type": "display_data"
    },
    {
     "data": {
      "application/vnd.plotly.v1+json": {
       "data": [
        {
         "colorscale": "Jet",
         "type": "heatmap",
         "z": [
          [
           0.006502026956762055,
           0.06931677524544266,
           0.6050461768808842,
           0.8384577105347479,
           0.8732195839228161,
           0.8815328362683414
          ],
          [
           0.9076256624629562,
           0.009669343972402144,
           2.566081572496602e-05,
           4.260645888960109e-07,
           9.491370833132989e-08,
           5.826289193403129e-08
          ],
          [
           0.06043632407998254,
           0.763484251226777,
           0.08090789743038204,
           0.0025386715856716693,
           0.0005870420271732952,
           0.00032764750783269633
          ],
          [
           0.00995475834289548,
           0.1157276312533776,
           0.21585702645838387,
           0.07962103118541126,
           0.050296968591418675,
           0.04171791626407229
          ],
          [
           0.007341281658671257,
           0.023160464098509883,
           0.06587016325092444,
           0.056511128005403255,
           0.05410061623431074,
           0.05429457840586097
          ],
          [
           0.008139474101041553,
           0.01864103234109652,
           0.03229256613465079,
           0.02287053686703929,
           0.021795160322275388,
           0.022126472202074424
          ]
         ]
        }
       ],
       "layout": {
        "font": {
         "color": "#FFF"
        },
        "height": 300,
        "paper_bgcolor": "#000",
        "plot_bgcolor": "#000",
        "title": "2 Blobs:Confidence after 4000 Iters",
        "titlefont": {
         "color": "#FFF"
        },
        "width": 300,
        "xaxis": {
         "dtick": 1,
         "range": [
          -0.5,
          5.5
         ],
         "tickcolor": "#FFF",
         "title": "Glimpses"
        },
        "yaxis": {
         "dtick": 1,
         "range": [
          -0.5,
          5.5
         ],
         "tickcolor": "#FFF",
         "title": "Count Word"
        }
       }
      },
      "text/html": [
       "<div id=\"23e503af-5009-4072-a4aa-9f583692a9b9\" style=\"height: 300px; width: 300px;\" class=\"plotly-graph-div\"></div><script type=\"text/javascript\">require([\"plotly\"], function(Plotly) { window.PLOTLYENV=window.PLOTLYENV || {};window.PLOTLYENV.BASE_URL=\"https://plot.ly\";Plotly.newPlot(\"23e503af-5009-4072-a4aa-9f583692a9b9\", [{\"colorscale\": \"Jet\", \"type\": \"heatmap\", \"z\": [[0.006502026956762055, 0.06931677524544266, 0.6050461768808842, 0.8384577105347479, 0.8732195839228161, 0.8815328362683414], [0.9076256624629562, 0.009669343972402144, 2.566081572496602e-05, 4.260645888960109e-07, 9.491370833132989e-08, 5.826289193403129e-08], [0.06043632407998254, 0.763484251226777, 0.08090789743038204, 0.0025386715856716693, 0.0005870420271732952, 0.00032764750783269633], [0.00995475834289548, 0.1157276312533776, 0.21585702645838387, 0.07962103118541126, 0.050296968591418675, 0.04171791626407229], [0.007341281658671257, 0.023160464098509883, 0.06587016325092444, 0.056511128005403255, 0.05410061623431074, 0.05429457840586097], [0.008139474101041553, 0.01864103234109652, 0.03229256613465079, 0.02287053686703929, 0.021795160322275388, 0.022126472202074424]]}], {\"font\": {\"color\": \"#FFF\"}, \"height\": 300, \"plot_bgcolor\": \"#000\", \"xaxis\": {\"dtick\": 1, \"tickcolor\": \"#FFF\", \"title\": \"Glimpses\", \"range\": [-0.5, 5.5]}, \"paper_bgcolor\": \"#000\", \"titlefont\": {\"color\": \"#FFF\"}, \"width\": 300, \"yaxis\": {\"dtick\": 1, \"tickcolor\": \"#FFF\", \"title\": \"Count Word\", \"range\": [-0.5, 5.5]}, \"title\": \"2 Blobs:Confidence after 4000 Iters\"}, {\"linkText\": \"Export to plot.ly\", \"showLink\": true})});</script>"
      ],
      "text/vnd.plotly.v1+html": [
       "<div id=\"23e503af-5009-4072-a4aa-9f583692a9b9\" style=\"height: 300px; width: 300px;\" class=\"plotly-graph-div\"></div><script type=\"text/javascript\">require([\"plotly\"], function(Plotly) { window.PLOTLYENV=window.PLOTLYENV || {};window.PLOTLYENV.BASE_URL=\"https://plot.ly\";Plotly.newPlot(\"23e503af-5009-4072-a4aa-9f583692a9b9\", [{\"colorscale\": \"Jet\", \"type\": \"heatmap\", \"z\": [[0.006502026956762055, 0.06931677524544266, 0.6050461768808842, 0.8384577105347479, 0.8732195839228161, 0.8815328362683414], [0.9076256624629562, 0.009669343972402144, 2.566081572496602e-05, 4.260645888960109e-07, 9.491370833132989e-08, 5.826289193403129e-08], [0.06043632407998254, 0.763484251226777, 0.08090789743038204, 0.0025386715856716693, 0.0005870420271732952, 0.00032764750783269633], [0.00995475834289548, 0.1157276312533776, 0.21585702645838387, 0.07962103118541126, 0.050296968591418675, 0.04171791626407229], [0.007341281658671257, 0.023160464098509883, 0.06587016325092444, 0.056511128005403255, 0.05410061623431074, 0.05429457840586097], [0.008139474101041553, 0.01864103234109652, 0.03229256613465079, 0.02287053686703929, 0.021795160322275388, 0.022126472202074424]]}], {\"font\": {\"color\": \"#FFF\"}, \"height\": 300, \"plot_bgcolor\": \"#000\", \"xaxis\": {\"dtick\": 1, \"tickcolor\": \"#FFF\", \"title\": \"Glimpses\", \"range\": [-0.5, 5.5]}, \"paper_bgcolor\": \"#000\", \"titlefont\": {\"color\": \"#FFF\"}, \"width\": 300, \"yaxis\": {\"dtick\": 1, \"tickcolor\": \"#FFF\", \"title\": \"Count Word\", \"range\": [-0.5, 5.5]}, \"title\": \"2 Blobs:Confidence after 4000 Iters\"}, {\"linkText\": \"Export to plot.ly\", \"showLink\": true})});</script>"
      ]
     },
     "metadata": {},
     "output_type": "display_data"
    },
    {
     "data": {
      "application/vnd.plotly.v1+json": {
       "data": [
        {
         "colorscale": "Jet",
         "type": "heatmap",
         "z": [
          [
           1.4156605212165556e-05,
           0.13160923540666683,
           0.5306834594322349,
           0.5351404784306907,
           0.5833339318805408,
           0.6112218597508986
          ],
          [
           0.993627438494405,
           0.00014321437499183602,
           1.900174069315844e-07,
           2.099375521593769e-08,
           1.9111853920673464e-08,
           2.0105516877111924e-08
          ],
          [
           0.006342320260802379,
           0.8518488701482063,
           0.003772325567830859,
           4.021845920570048e-05,
           7.284403532548355e-06,
           4.216007815978724e-06
          ],
          [
           1.3510693040756822e-05,
           0.016268702441762223,
           0.3935367376175004,
           0.040991447654093384,
           0.005726601782257689,
           0.0026431477850929717
          ],
          [
           1.1260227342023932e-06,
           0.00011325000151484767,
           0.06909414664004859,
           0.35922605016026155,
           0.19852587788830123,
           0.11278329061822477
          ],
          [
           1.0855028579156256e-06,
           1.63522843179848e-05,
           0.0029127641132388913,
           0.06460142957762131,
           0.2124059324224744,
           0.2733471076576032
          ]
         ]
        }
       ],
       "layout": {
        "font": {
         "color": "#FFF"
        },
        "height": 300,
        "paper_bgcolor": "#000",
        "plot_bgcolor": "#000",
        "title": "2 Blobs:Confidence after 16000 Iters",
        "titlefont": {
         "color": "#FFF"
        },
        "width": 300,
        "xaxis": {
         "dtick": 1,
         "range": [
          -0.5,
          5.5
         ],
         "tickcolor": "#FFF",
         "title": "Glimpses"
        },
        "yaxis": {
         "dtick": 1,
         "range": [
          -0.5,
          5.5
         ],
         "tickcolor": "#FFF",
         "title": "Count Word"
        }
       }
      },
      "text/html": [
       "<div id=\"c2f6a149-e2bf-45e1-a95b-398599598c53\" style=\"height: 300px; width: 300px;\" class=\"plotly-graph-div\"></div><script type=\"text/javascript\">require([\"plotly\"], function(Plotly) { window.PLOTLYENV=window.PLOTLYENV || {};window.PLOTLYENV.BASE_URL=\"https://plot.ly\";Plotly.newPlot(\"c2f6a149-e2bf-45e1-a95b-398599598c53\", [{\"colorscale\": \"Jet\", \"type\": \"heatmap\", \"z\": [[1.4156605212165556e-05, 0.13160923540666683, 0.5306834594322349, 0.5351404784306907, 0.5833339318805408, 0.6112218597508986], [0.993627438494405, 0.00014321437499183602, 1.900174069315844e-07, 2.099375521593769e-08, 1.9111853920673464e-08, 2.0105516877111924e-08], [0.006342320260802379, 0.8518488701482063, 0.003772325567830859, 4.021845920570048e-05, 7.284403532548355e-06, 4.216007815978724e-06], [1.3510693040756822e-05, 0.016268702441762223, 0.3935367376175004, 0.040991447654093384, 0.005726601782257689, 0.0026431477850929717], [1.1260227342023932e-06, 0.00011325000151484767, 0.06909414664004859, 0.35922605016026155, 0.19852587788830123, 0.11278329061822477], [1.0855028579156256e-06, 1.63522843179848e-05, 0.0029127641132388913, 0.06460142957762131, 0.2124059324224744, 0.2733471076576032]]}], {\"font\": {\"color\": \"#FFF\"}, \"height\": 300, \"plot_bgcolor\": \"#000\", \"xaxis\": {\"dtick\": 1, \"tickcolor\": \"#FFF\", \"title\": \"Glimpses\", \"range\": [-0.5, 5.5]}, \"paper_bgcolor\": \"#000\", \"titlefont\": {\"color\": \"#FFF\"}, \"width\": 300, \"yaxis\": {\"dtick\": 1, \"tickcolor\": \"#FFF\", \"title\": \"Count Word\", \"range\": [-0.5, 5.5]}, \"title\": \"2 Blobs:Confidence after 16000 Iters\"}, {\"linkText\": \"Export to plot.ly\", \"showLink\": true})});</script>"
      ],
      "text/vnd.plotly.v1+html": [
       "<div id=\"c2f6a149-e2bf-45e1-a95b-398599598c53\" style=\"height: 300px; width: 300px;\" class=\"plotly-graph-div\"></div><script type=\"text/javascript\">require([\"plotly\"], function(Plotly) { window.PLOTLYENV=window.PLOTLYENV || {};window.PLOTLYENV.BASE_URL=\"https://plot.ly\";Plotly.newPlot(\"c2f6a149-e2bf-45e1-a95b-398599598c53\", [{\"colorscale\": \"Jet\", \"type\": \"heatmap\", \"z\": [[1.4156605212165556e-05, 0.13160923540666683, 0.5306834594322349, 0.5351404784306907, 0.5833339318805408, 0.6112218597508986], [0.993627438494405, 0.00014321437499183602, 1.900174069315844e-07, 2.099375521593769e-08, 1.9111853920673464e-08, 2.0105516877111924e-08], [0.006342320260802379, 0.8518488701482063, 0.003772325567830859, 4.021845920570048e-05, 7.284403532548355e-06, 4.216007815978724e-06], [1.3510693040756822e-05, 0.016268702441762223, 0.3935367376175004, 0.040991447654093384, 0.005726601782257689, 0.0026431477850929717], [1.1260227342023932e-06, 0.00011325000151484767, 0.06909414664004859, 0.35922605016026155, 0.19852587788830123, 0.11278329061822477], [1.0855028579156256e-06, 1.63522843179848e-05, 0.0029127641132388913, 0.06460142957762131, 0.2124059324224744, 0.2733471076576032]]}], {\"font\": {\"color\": \"#FFF\"}, \"height\": 300, \"plot_bgcolor\": \"#000\", \"xaxis\": {\"dtick\": 1, \"tickcolor\": \"#FFF\", \"title\": \"Glimpses\", \"range\": [-0.5, 5.5]}, \"paper_bgcolor\": \"#000\", \"titlefont\": {\"color\": \"#FFF\"}, \"width\": 300, \"yaxis\": {\"dtick\": 1, \"tickcolor\": \"#FFF\", \"title\": \"Count Word\", \"range\": [-0.5, 5.5]}, \"title\": \"2 Blobs:Confidence after 16000 Iters\"}, {\"linkText\": \"Export to plot.ly\", \"showLink\": true})});</script>"
      ]
     },
     "metadata": {},
     "output_type": "display_data"
    },
    {
     "data": {
      "application/vnd.plotly.v1+json": {
       "data": [
        {
         "colorscale": "Jet",
         "type": "heatmap",
         "z": [
          [
           5.9730895224708965e-06,
           0.05529182462597929,
           0.5170479876936578,
           0.6816573263170356,
           0.8445341413712577,
           0.8900599471193815
          ],
          [
           0.995931964621189,
           0.00019096044518758434,
           9.631876361409831e-08,
           1.1527018922652097e-08,
           5.146868626034159e-08,
           6.794504271316129e-08
          ],
          [
           0.004056938918259848,
           0.9432206578328114,
           0.010328685726677634,
           1.1871528780401354e-05,
           1.5947653019425782e-06,
           1.1080031830389828e-06
          ],
          [
           3.7628437904937233e-06,
           0.0012948318606019328,
           0.4697213986161646,
           0.014264283128342962,
           0.0002733140232158105,
           6.696362627487094e-05
          ],
          [
           2.6710163487568024e-07,
           9.415528672500383e-07,
           0.002872123317370301,
           0.2950383926883251,
           0.034030997825824666,
           0.005006522506834774
          ],
          [
           6.446857934734222e-07,
           3.4031674546520946e-07,
           2.9292926838454438e-05,
           0.009027694268592306,
           0.12115949453299434,
           0.10486497770593525
          ]
         ]
        }
       ],
       "layout": {
        "font": {
         "color": "#FFF"
        },
        "height": 300,
        "paper_bgcolor": "#000",
        "plot_bgcolor": "#000",
        "title": "2 Blobs:Confidence after 32000 Iters",
        "titlefont": {
         "color": "#FFF"
        },
        "width": 300,
        "xaxis": {
         "dtick": 1,
         "range": [
          -0.5,
          5.5
         ],
         "tickcolor": "#FFF",
         "title": "Glimpses"
        },
        "yaxis": {
         "dtick": 1,
         "range": [
          -0.5,
          5.5
         ],
         "tickcolor": "#FFF",
         "title": "Count Word"
        }
       }
      },
      "text/html": [
       "<div id=\"3576b475-b67e-4999-89b7-a32a7090d9bc\" style=\"height: 300px; width: 300px;\" class=\"plotly-graph-div\"></div><script type=\"text/javascript\">require([\"plotly\"], function(Plotly) { window.PLOTLYENV=window.PLOTLYENV || {};window.PLOTLYENV.BASE_URL=\"https://plot.ly\";Plotly.newPlot(\"3576b475-b67e-4999-89b7-a32a7090d9bc\", [{\"colorscale\": \"Jet\", \"type\": \"heatmap\", \"z\": [[5.9730895224708965e-06, 0.05529182462597929, 0.5170479876936578, 0.6816573263170356, 0.8445341413712577, 0.8900599471193815], [0.995931964621189, 0.00019096044518758434, 9.631876361409831e-08, 1.1527018922652097e-08, 5.146868626034159e-08, 6.794504271316129e-08], [0.004056938918259848, 0.9432206578328114, 0.010328685726677634, 1.1871528780401354e-05, 1.5947653019425782e-06, 1.1080031830389828e-06], [3.7628437904937233e-06, 0.0012948318606019328, 0.4697213986161646, 0.014264283128342962, 0.0002733140232158105, 6.696362627487094e-05], [2.6710163487568024e-07, 9.415528672500383e-07, 0.002872123317370301, 0.2950383926883251, 0.034030997825824666, 0.005006522506834774], [6.446857934734222e-07, 3.4031674546520946e-07, 2.9292926838454438e-05, 0.009027694268592306, 0.12115949453299434, 0.10486497770593525]]}], {\"font\": {\"color\": \"#FFF\"}, \"height\": 300, \"plot_bgcolor\": \"#000\", \"xaxis\": {\"dtick\": 1, \"tickcolor\": \"#FFF\", \"title\": \"Glimpses\", \"range\": [-0.5, 5.5]}, \"paper_bgcolor\": \"#000\", \"titlefont\": {\"color\": \"#FFF\"}, \"width\": 300, \"yaxis\": {\"dtick\": 1, \"tickcolor\": \"#FFF\", \"title\": \"Count Word\", \"range\": [-0.5, 5.5]}, \"title\": \"2 Blobs:Confidence after 32000 Iters\"}, {\"linkText\": \"Export to plot.ly\", \"showLink\": true})});</script>"
      ],
      "text/vnd.plotly.v1+html": [
       "<div id=\"3576b475-b67e-4999-89b7-a32a7090d9bc\" style=\"height: 300px; width: 300px;\" class=\"plotly-graph-div\"></div><script type=\"text/javascript\">require([\"plotly\"], function(Plotly) { window.PLOTLYENV=window.PLOTLYENV || {};window.PLOTLYENV.BASE_URL=\"https://plot.ly\";Plotly.newPlot(\"3576b475-b67e-4999-89b7-a32a7090d9bc\", [{\"colorscale\": \"Jet\", \"type\": \"heatmap\", \"z\": [[5.9730895224708965e-06, 0.05529182462597929, 0.5170479876936578, 0.6816573263170356, 0.8445341413712577, 0.8900599471193815], [0.995931964621189, 0.00019096044518758434, 9.631876361409831e-08, 1.1527018922652097e-08, 5.146868626034159e-08, 6.794504271316129e-08], [0.004056938918259848, 0.9432206578328114, 0.010328685726677634, 1.1871528780401354e-05, 1.5947653019425782e-06, 1.1080031830389828e-06], [3.7628437904937233e-06, 0.0012948318606019328, 0.4697213986161646, 0.014264283128342962, 0.0002733140232158105, 6.696362627487094e-05], [2.6710163487568024e-07, 9.415528672500383e-07, 0.002872123317370301, 0.2950383926883251, 0.034030997825824666, 0.005006522506834774], [6.446857934734222e-07, 3.4031674546520946e-07, 2.9292926838454438e-05, 0.009027694268592306, 0.12115949453299434, 0.10486497770593525]]}], {\"font\": {\"color\": \"#FFF\"}, \"height\": 300, \"plot_bgcolor\": \"#000\", \"xaxis\": {\"dtick\": 1, \"tickcolor\": \"#FFF\", \"title\": \"Glimpses\", \"range\": [-0.5, 5.5]}, \"paper_bgcolor\": \"#000\", \"titlefont\": {\"color\": \"#FFF\"}, \"width\": 300, \"yaxis\": {\"dtick\": 1, \"tickcolor\": \"#FFF\", \"title\": \"Count Word\", \"range\": [-0.5, 5.5]}, \"title\": \"2 Blobs:Confidence after 32000 Iters\"}, {\"linkText\": \"Export to plot.ly\", \"showLink\": true})});</script>"
      ]
     },
     "metadata": {},
     "output_type": "display_data"
    },
    {
     "data": {
      "application/vnd.plotly.v1+json": {
       "data": [
        {
         "colorscale": "Jet",
         "type": "heatmap",
         "z": [
          [
           1.2905345794992477e-06,
           0.13921306789416749,
           0.807290676578407,
           0.6141996805742945,
           0.6101331009257837,
           0.9247162776820055
          ],
          [
           0.999494886124084,
           0.0002602523442010454,
           1.0707584009781171e-08,
           1.0316369108590623e-08,
           9.606548812102252e-07,
           6.941356720163244e-07
          ],
          [
           0.0005031387164802066,
           0.8593355314293872,
           0.00039445821172893303,
           3.546048172153143e-06,
           2.4599896410888294e-06,
           4.9386680242208595e-06
          ],
          [
           1.1035066395452363e-07,
           0.0011902249424200944,
           0.19156242432142026,
           0.005233750901774533,
           7.177668477757666e-05,
           2.0927171968618248e-05
          ],
          [
           6.955375679006648e-09,
           2.7763266465382866e-07,
           0.0007498089925159184,
           0.3752508211868662,
           0.017763257873120615,
           0.0009131719956218784
          ],
          [
           6.140999346861803e-08,
           1.282140180429242e-07,
           2.125530063473257e-06,
           0.005311668726291671,
           0.37202791190170503,
           0.07434348750971656
          ]
         ]
        }
       ],
       "layout": {
        "font": {
         "color": "#FFF"
        },
        "height": 300,
        "paper_bgcolor": "#000",
        "plot_bgcolor": "#000",
        "title": "2 Blobs:Confidence after 64000 Iters",
        "titlefont": {
         "color": "#FFF"
        },
        "width": 300,
        "xaxis": {
         "dtick": 1,
         "range": [
          -0.5,
          5.5
         ],
         "tickcolor": "#FFF",
         "title": "Glimpses"
        },
        "yaxis": {
         "dtick": 1,
         "range": [
          -0.5,
          5.5
         ],
         "tickcolor": "#FFF",
         "title": "Count Word"
        }
       }
      },
      "text/html": [
       "<div id=\"7a6f3f03-a4a7-42b3-9bdf-0d28be7704e8\" style=\"height: 300px; width: 300px;\" class=\"plotly-graph-div\"></div><script type=\"text/javascript\">require([\"plotly\"], function(Plotly) { window.PLOTLYENV=window.PLOTLYENV || {};window.PLOTLYENV.BASE_URL=\"https://plot.ly\";Plotly.newPlot(\"7a6f3f03-a4a7-42b3-9bdf-0d28be7704e8\", [{\"colorscale\": \"Jet\", \"type\": \"heatmap\", \"z\": [[1.2905345794992477e-06, 0.13921306789416749, 0.807290676578407, 0.6141996805742945, 0.6101331009257837, 0.9247162776820055], [0.999494886124084, 0.0002602523442010454, 1.0707584009781171e-08, 1.0316369108590623e-08, 9.606548812102252e-07, 6.941356720163244e-07], [0.0005031387164802066, 0.8593355314293872, 0.00039445821172893303, 3.546048172153143e-06, 2.4599896410888294e-06, 4.9386680242208595e-06], [1.1035066395452363e-07, 0.0011902249424200944, 0.19156242432142026, 0.005233750901774533, 7.177668477757666e-05, 2.0927171968618248e-05], [6.955375679006648e-09, 2.7763266465382866e-07, 0.0007498089925159184, 0.3752508211868662, 0.017763257873120615, 0.0009131719956218784], [6.140999346861803e-08, 1.282140180429242e-07, 2.125530063473257e-06, 0.005311668726291671, 0.37202791190170503, 0.07434348750971656]]}], {\"font\": {\"color\": \"#FFF\"}, \"height\": 300, \"plot_bgcolor\": \"#000\", \"xaxis\": {\"dtick\": 1, \"tickcolor\": \"#FFF\", \"title\": \"Glimpses\", \"range\": [-0.5, 5.5]}, \"paper_bgcolor\": \"#000\", \"titlefont\": {\"color\": \"#FFF\"}, \"width\": 300, \"yaxis\": {\"dtick\": 1, \"tickcolor\": \"#FFF\", \"title\": \"Count Word\", \"range\": [-0.5, 5.5]}, \"title\": \"2 Blobs:Confidence after 64000 Iters\"}, {\"linkText\": \"Export to plot.ly\", \"showLink\": true})});</script>"
      ],
      "text/vnd.plotly.v1+html": [
       "<div id=\"7a6f3f03-a4a7-42b3-9bdf-0d28be7704e8\" style=\"height: 300px; width: 300px;\" class=\"plotly-graph-div\"></div><script type=\"text/javascript\">require([\"plotly\"], function(Plotly) { window.PLOTLYENV=window.PLOTLYENV || {};window.PLOTLYENV.BASE_URL=\"https://plot.ly\";Plotly.newPlot(\"7a6f3f03-a4a7-42b3-9bdf-0d28be7704e8\", [{\"colorscale\": \"Jet\", \"type\": \"heatmap\", \"z\": [[1.2905345794992477e-06, 0.13921306789416749, 0.807290676578407, 0.6141996805742945, 0.6101331009257837, 0.9247162776820055], [0.999494886124084, 0.0002602523442010454, 1.0707584009781171e-08, 1.0316369108590623e-08, 9.606548812102252e-07, 6.941356720163244e-07], [0.0005031387164802066, 0.8593355314293872, 0.00039445821172893303, 3.546048172153143e-06, 2.4599896410888294e-06, 4.9386680242208595e-06], [1.1035066395452363e-07, 0.0011902249424200944, 0.19156242432142026, 0.005233750901774533, 7.177668477757666e-05, 2.0927171968618248e-05], [6.955375679006648e-09, 2.7763266465382866e-07, 0.0007498089925159184, 0.3752508211868662, 0.017763257873120615, 0.0009131719956218784], [6.140999346861803e-08, 1.282140180429242e-07, 2.125530063473257e-06, 0.005311668726291671, 0.37202791190170503, 0.07434348750971656]]}], {\"font\": {\"color\": \"#FFF\"}, \"height\": 300, \"plot_bgcolor\": \"#000\", \"xaxis\": {\"dtick\": 1, \"tickcolor\": \"#FFF\", \"title\": \"Glimpses\", \"range\": [-0.5, 5.5]}, \"paper_bgcolor\": \"#000\", \"titlefont\": {\"color\": \"#FFF\"}, \"width\": 300, \"yaxis\": {\"dtick\": 1, \"tickcolor\": \"#FFF\", \"title\": \"Count Word\", \"range\": [-0.5, 5.5]}, \"title\": \"2 Blobs:Confidence after 64000 Iters\"}, {\"linkText\": \"Export to plot.ly\", \"showLink\": true})});</script>"
      ]
     },
     "metadata": {},
     "output_type": "display_data"
    },
    {
     "data": {
      "application/vnd.plotly.v1+json": {
       "data": [
        {
         "colorscale": "Jet",
         "type": "heatmap",
         "z": [
          [
           3.8007368278195665e-08,
           0.10207997533374517,
           0.7070064228296439,
           0.7606839697909573,
           0.7188129437065118,
           0.9919372367279149
          ],
          [
           0.9995840766955029,
           0.0005474917608018781,
           2.3089364338784988e-08,
           1.5255984486057134e-08,
           6.378243341281305e-06,
           9.27299146959538e-07
          ],
          [
           0.0004153014537774755,
           0.8968915220676275,
           0.0006475149296647059,
           1.8193198910178696e-06,
           2.1885785741380504e-06,
           1.9899977016731956e-06
          ],
          [
           6.9010714665404116e-09,
           0.00047954279049787415,
           0.2918880015554115,
           0.0013634457915375144,
           8.13598885742324e-06,
           1.3977304380110267e-06
          ],
          [
           1.962753179212741e-09,
           4.689886187695426e-07,
           0.0004564040579582212,
           0.23630001501868986,
           0.0029620818186033822,
           4.791640390765531e-05
          ],
          [
           6.998902040117037e-08,
           4.933539978914235e-07,
           1.1442969059577292e-06,
           0.0016502236423366033,
           0.2782077724471125,
           0.008010068465608394
          ]
         ]
        }
       ],
       "layout": {
        "font": {
         "color": "#FFF"
        },
        "height": 300,
        "paper_bgcolor": "#000",
        "plot_bgcolor": "#000",
        "title": "2 Blobs:Confidence after 125000 Iters",
        "titlefont": {
         "color": "#FFF"
        },
        "width": 300,
        "xaxis": {
         "dtick": 1,
         "range": [
          -0.5,
          5.5
         ],
         "tickcolor": "#FFF",
         "title": "Glimpses"
        },
        "yaxis": {
         "dtick": 1,
         "range": [
          -0.5,
          5.5
         ],
         "tickcolor": "#FFF",
         "title": "Count Word"
        }
       }
      },
      "text/html": [
       "<div id=\"c6f41a33-2176-45c8-913f-99ee7171cf91\" style=\"height: 300px; width: 300px;\" class=\"plotly-graph-div\"></div><script type=\"text/javascript\">require([\"plotly\"], function(Plotly) { window.PLOTLYENV=window.PLOTLYENV || {};window.PLOTLYENV.BASE_URL=\"https://plot.ly\";Plotly.newPlot(\"c6f41a33-2176-45c8-913f-99ee7171cf91\", [{\"colorscale\": \"Jet\", \"type\": \"heatmap\", \"z\": [[3.8007368278195665e-08, 0.10207997533374517, 0.7070064228296439, 0.7606839697909573, 0.7188129437065118, 0.9919372367279149], [0.9995840766955029, 0.0005474917608018781, 2.3089364338784988e-08, 1.5255984486057134e-08, 6.378243341281305e-06, 9.27299146959538e-07], [0.0004153014537774755, 0.8968915220676275, 0.0006475149296647059, 1.8193198910178696e-06, 2.1885785741380504e-06, 1.9899977016731956e-06], [6.9010714665404116e-09, 0.00047954279049787415, 0.2918880015554115, 0.0013634457915375144, 8.13598885742324e-06, 1.3977304380110267e-06], [1.962753179212741e-09, 4.689886187695426e-07, 0.0004564040579582212, 0.23630001501868986, 0.0029620818186033822, 4.791640390765531e-05], [6.998902040117037e-08, 4.933539978914235e-07, 1.1442969059577292e-06, 0.0016502236423366033, 0.2782077724471125, 0.008010068465608394]]}], {\"font\": {\"color\": \"#FFF\"}, \"height\": 300, \"plot_bgcolor\": \"#000\", \"xaxis\": {\"dtick\": 1, \"tickcolor\": \"#FFF\", \"title\": \"Glimpses\", \"range\": [-0.5, 5.5]}, \"paper_bgcolor\": \"#000\", \"titlefont\": {\"color\": \"#FFF\"}, \"width\": 300, \"yaxis\": {\"dtick\": 1, \"tickcolor\": \"#FFF\", \"title\": \"Count Word\", \"range\": [-0.5, 5.5]}, \"title\": \"2 Blobs:Confidence after 125000 Iters\"}, {\"linkText\": \"Export to plot.ly\", \"showLink\": true})});</script>"
      ],
      "text/vnd.plotly.v1+html": [
       "<div id=\"c6f41a33-2176-45c8-913f-99ee7171cf91\" style=\"height: 300px; width: 300px;\" class=\"plotly-graph-div\"></div><script type=\"text/javascript\">require([\"plotly\"], function(Plotly) { window.PLOTLYENV=window.PLOTLYENV || {};window.PLOTLYENV.BASE_URL=\"https://plot.ly\";Plotly.newPlot(\"c6f41a33-2176-45c8-913f-99ee7171cf91\", [{\"colorscale\": \"Jet\", \"type\": \"heatmap\", \"z\": [[3.8007368278195665e-08, 0.10207997533374517, 0.7070064228296439, 0.7606839697909573, 0.7188129437065118, 0.9919372367279149], [0.9995840766955029, 0.0005474917608018781, 2.3089364338784988e-08, 1.5255984486057134e-08, 6.378243341281305e-06, 9.27299146959538e-07], [0.0004153014537774755, 0.8968915220676275, 0.0006475149296647059, 1.8193198910178696e-06, 2.1885785741380504e-06, 1.9899977016731956e-06], [6.9010714665404116e-09, 0.00047954279049787415, 0.2918880015554115, 0.0013634457915375144, 8.13598885742324e-06, 1.3977304380110267e-06], [1.962753179212741e-09, 4.689886187695426e-07, 0.0004564040579582212, 0.23630001501868986, 0.0029620818186033822, 4.791640390765531e-05], [6.998902040117037e-08, 4.933539978914235e-07, 1.1442969059577292e-06, 0.0016502236423366033, 0.2782077724471125, 0.008010068465608394]]}], {\"font\": {\"color\": \"#FFF\"}, \"height\": 300, \"plot_bgcolor\": \"#000\", \"xaxis\": {\"dtick\": 1, \"tickcolor\": \"#FFF\", \"title\": \"Glimpses\", \"range\": [-0.5, 5.5]}, \"paper_bgcolor\": \"#000\", \"titlefont\": {\"color\": \"#FFF\"}, \"width\": 300, \"yaxis\": {\"dtick\": 1, \"tickcolor\": \"#FFF\", \"title\": \"Count Word\", \"range\": [-0.5, 5.5]}, \"title\": \"2 Blobs:Confidence after 125000 Iters\"}, {\"linkText\": \"Export to plot.ly\", \"showLink\": true})});</script>"
      ]
     },
     "metadata": {},
     "output_type": "display_data"
    },
    {
     "data": {
      "application/vnd.plotly.v1+json": {
       "data": [
        {
         "colorscale": "Jet",
         "type": "heatmap",
         "z": [
          [
           2.129293888868149e-09,
           0.16403686335419784,
           0.8435721907702332,
           0.8785350527215783,
           0.7436552904234308,
           0.9870218856104916
          ],
          [
           0.9997903348356826,
           0.00016092435240801003,
           9.263167377783913e-08,
           1.1674249889320956e-07,
           1.6410558960290214e-05,
           1.5126583838519238e-06
          ],
          [
           0.0002090224808990803,
           0.8357859628347067,
           0.0024070977299672116,
           6.155068837977473e-06,
           1.143948881890181e-05,
           4.573938828896213e-06
          ],
          [
           1.138357424185731e-09,
           1.5329202684877926e-05,
           0.153907451227551,
           0.002464177807596521,
           2.4157101259524446e-05,
           4.929458532388781e-06
          ],
          [
           2.09726821810051e-09,
           7.553279054047573e-08,
           0.00011204523720573722,
           0.11863376885983848,
           0.0035475789430671357,
           7.806287735189168e-05
          ],
          [
           2.892516197138193e-07,
           4.811672177692276e-07,
           7.63548844062847e-07,
           0.0003603745080142543,
           0.25274476482711705,
           0.012888691075702775
          ]
         ]
        }
       ],
       "layout": {
        "font": {
         "color": "#FFF"
        },
        "height": 300,
        "paper_bgcolor": "#000",
        "plot_bgcolor": "#000",
        "title": "2 Blobs:Confidence after 250000 Iters",
        "titlefont": {
         "color": "#FFF"
        },
        "width": 300,
        "xaxis": {
         "dtick": 1,
         "range": [
          -0.5,
          5.5
         ],
         "tickcolor": "#FFF",
         "title": "Glimpses"
        },
        "yaxis": {
         "dtick": 1,
         "range": [
          -0.5,
          5.5
         ],
         "tickcolor": "#FFF",
         "title": "Count Word"
        }
       }
      },
      "text/html": [
       "<div id=\"a2e333fb-4afd-439d-afdc-ae276af58d5c\" style=\"height: 300px; width: 300px;\" class=\"plotly-graph-div\"></div><script type=\"text/javascript\">require([\"plotly\"], function(Plotly) { window.PLOTLYENV=window.PLOTLYENV || {};window.PLOTLYENV.BASE_URL=\"https://plot.ly\";Plotly.newPlot(\"a2e333fb-4afd-439d-afdc-ae276af58d5c\", [{\"colorscale\": \"Jet\", \"type\": \"heatmap\", \"z\": [[2.129293888868149e-09, 0.16403686335419784, 0.8435721907702332, 0.8785350527215783, 0.7436552904234308, 0.9870218856104916], [0.9997903348356826, 0.00016092435240801003, 9.263167377783913e-08, 1.1674249889320956e-07, 1.6410558960290214e-05, 1.5126583838519238e-06], [0.0002090224808990803, 0.8357859628347067, 0.0024070977299672116, 6.155068837977473e-06, 1.143948881890181e-05, 4.573938828896213e-06], [1.138357424185731e-09, 1.5329202684877926e-05, 0.153907451227551, 0.002464177807596521, 2.4157101259524446e-05, 4.929458532388781e-06], [2.09726821810051e-09, 7.553279054047573e-08, 0.00011204523720573722, 0.11863376885983848, 0.0035475789430671357, 7.806287735189168e-05], [2.892516197138193e-07, 4.811672177692276e-07, 7.63548844062847e-07, 0.0003603745080142543, 0.25274476482711705, 0.012888691075702775]]}], {\"font\": {\"color\": \"#FFF\"}, \"height\": 300, \"plot_bgcolor\": \"#000\", \"xaxis\": {\"dtick\": 1, \"tickcolor\": \"#FFF\", \"title\": \"Glimpses\", \"range\": [-0.5, 5.5]}, \"paper_bgcolor\": \"#000\", \"titlefont\": {\"color\": \"#FFF\"}, \"width\": 300, \"yaxis\": {\"dtick\": 1, \"tickcolor\": \"#FFF\", \"title\": \"Count Word\", \"range\": [-0.5, 5.5]}, \"title\": \"2 Blobs:Confidence after 250000 Iters\"}, {\"linkText\": \"Export to plot.ly\", \"showLink\": true})});</script>"
      ],
      "text/vnd.plotly.v1+html": [
       "<div id=\"a2e333fb-4afd-439d-afdc-ae276af58d5c\" style=\"height: 300px; width: 300px;\" class=\"plotly-graph-div\"></div><script type=\"text/javascript\">require([\"plotly\"], function(Plotly) { window.PLOTLYENV=window.PLOTLYENV || {};window.PLOTLYENV.BASE_URL=\"https://plot.ly\";Plotly.newPlot(\"a2e333fb-4afd-439d-afdc-ae276af58d5c\", [{\"colorscale\": \"Jet\", \"type\": \"heatmap\", \"z\": [[2.129293888868149e-09, 0.16403686335419784, 0.8435721907702332, 0.8785350527215783, 0.7436552904234308, 0.9870218856104916], [0.9997903348356826, 0.00016092435240801003, 9.263167377783913e-08, 1.1674249889320956e-07, 1.6410558960290214e-05, 1.5126583838519238e-06], [0.0002090224808990803, 0.8357859628347067, 0.0024070977299672116, 6.155068837977473e-06, 1.143948881890181e-05, 4.573938828896213e-06], [1.138357424185731e-09, 1.5329202684877926e-05, 0.153907451227551, 0.002464177807596521, 2.4157101259524446e-05, 4.929458532388781e-06], [2.09726821810051e-09, 7.553279054047573e-08, 0.00011204523720573722, 0.11863376885983848, 0.0035475789430671357, 7.806287735189168e-05], [2.892516197138193e-07, 4.811672177692276e-07, 7.63548844062847e-07, 0.0003603745080142543, 0.25274476482711705, 0.012888691075702775]]}], {\"font\": {\"color\": \"#FFF\"}, \"height\": 300, \"plot_bgcolor\": \"#000\", \"xaxis\": {\"dtick\": 1, \"tickcolor\": \"#FFF\", \"title\": \"Glimpses\", \"range\": [-0.5, 5.5]}, \"paper_bgcolor\": \"#000\", \"titlefont\": {\"color\": \"#FFF\"}, \"width\": 300, \"yaxis\": {\"dtick\": 1, \"tickcolor\": \"#FFF\", \"title\": \"Count Word\", \"range\": [-0.5, 5.5]}, \"title\": \"2 Blobs:Confidence after 250000 Iters\"}, {\"linkText\": \"Export to plot.ly\", \"showLink\": true})});</script>"
      ]
     },
     "metadata": {},
     "output_type": "display_data"
    },
    {
     "data": {
      "application/vnd.plotly.v1+json": {
       "data": [
        {
         "colorscale": "Jet",
         "type": "heatmap",
         "z": [
          [
           3.2907207443736414e-09,
           0.1335462080129514,
           0.7581948320866047,
           0.7323102521320018,
           0.747384790966834,
           0.9961206665870389
          ],
          [
           0.9999368955829663,
           0.00017644144331436005,
           5.663242004140703e-08,
           9.876345856786467e-07,
           0.00013917755387024506,
           3.2334144778621704e-06
          ],
          [
           6.222425052440776e-05,
           0.8662608778355918,
           0.00035701105536570943,
           7.66808911515035e-06,
           6.0026457834949325e-05,
           2.9742388091562404e-05
          ],
          [
           2.781276863412437e-10,
           1.4086629437971556e-05,
           0.24129802230246933,
           0.000576210027020507,
           9.027370806631316e-06,
           4.47529891531502e-06
          ],
          [
           9.480452779268355e-10,
           1.2491822526568676e-07,
           0.00014899429258756955,
           0.266808307948421,
           0.002116901118263743,
           4.964096297837386e-05
          ],
          [
           4.011968917456929e-07,
           1.8035489719799668e-06,
           6.57400034947807e-07,
           0.0002961016358779275,
           0.2502896345701201,
           0.0037917808793003767
          ]
         ]
        }
       ],
       "layout": {
        "font": {
         "color": "#FFF"
        },
        "height": 300,
        "paper_bgcolor": "#000",
        "plot_bgcolor": "#000",
        "title": "2 Blobs:Confidence after 500000 Iters",
        "titlefont": {
         "color": "#FFF"
        },
        "width": 300,
        "xaxis": {
         "dtick": 1,
         "range": [
          -0.5,
          5.5
         ],
         "tickcolor": "#FFF",
         "title": "Glimpses"
        },
        "yaxis": {
         "dtick": 1,
         "range": [
          -0.5,
          5.5
         ],
         "tickcolor": "#FFF",
         "title": "Count Word"
        }
       }
      },
      "text/html": [
       "<div id=\"9379f498-0a42-446d-96cd-5b4b8401cc3f\" style=\"height: 300px; width: 300px;\" class=\"plotly-graph-div\"></div><script type=\"text/javascript\">require([\"plotly\"], function(Plotly) { window.PLOTLYENV=window.PLOTLYENV || {};window.PLOTLYENV.BASE_URL=\"https://plot.ly\";Plotly.newPlot(\"9379f498-0a42-446d-96cd-5b4b8401cc3f\", [{\"colorscale\": \"Jet\", \"type\": \"heatmap\", \"z\": [[3.2907207443736414e-09, 0.1335462080129514, 0.7581948320866047, 0.7323102521320018, 0.747384790966834, 0.9961206665870389], [0.9999368955829663, 0.00017644144331436005, 5.663242004140703e-08, 9.876345856786467e-07, 0.00013917755387024506, 3.2334144778621704e-06], [6.222425052440776e-05, 0.8662608778355918, 0.00035701105536570943, 7.66808911515035e-06, 6.0026457834949325e-05, 2.9742388091562404e-05], [2.781276863412437e-10, 1.4086629437971556e-05, 0.24129802230246933, 0.000576210027020507, 9.027370806631316e-06, 4.47529891531502e-06], [9.480452779268355e-10, 1.2491822526568676e-07, 0.00014899429258756955, 0.266808307948421, 0.002116901118263743, 4.964096297837386e-05], [4.011968917456929e-07, 1.8035489719799668e-06, 6.57400034947807e-07, 0.0002961016358779275, 0.2502896345701201, 0.0037917808793003767]]}], {\"font\": {\"color\": \"#FFF\"}, \"height\": 300, \"plot_bgcolor\": \"#000\", \"xaxis\": {\"dtick\": 1, \"tickcolor\": \"#FFF\", \"title\": \"Glimpses\", \"range\": [-0.5, 5.5]}, \"paper_bgcolor\": \"#000\", \"titlefont\": {\"color\": \"#FFF\"}, \"width\": 300, \"yaxis\": {\"dtick\": 1, \"tickcolor\": \"#FFF\", \"title\": \"Count Word\", \"range\": [-0.5, 5.5]}, \"title\": \"2 Blobs:Confidence after 500000 Iters\"}, {\"linkText\": \"Export to plot.ly\", \"showLink\": true})});</script>"
      ],
      "text/vnd.plotly.v1+html": [
       "<div id=\"9379f498-0a42-446d-96cd-5b4b8401cc3f\" style=\"height: 300px; width: 300px;\" class=\"plotly-graph-div\"></div><script type=\"text/javascript\">require([\"plotly\"], function(Plotly) { window.PLOTLYENV=window.PLOTLYENV || {};window.PLOTLYENV.BASE_URL=\"https://plot.ly\";Plotly.newPlot(\"9379f498-0a42-446d-96cd-5b4b8401cc3f\", [{\"colorscale\": \"Jet\", \"type\": \"heatmap\", \"z\": [[3.2907207443736414e-09, 0.1335462080129514, 0.7581948320866047, 0.7323102521320018, 0.747384790966834, 0.9961206665870389], [0.9999368955829663, 0.00017644144331436005, 5.663242004140703e-08, 9.876345856786467e-07, 0.00013917755387024506, 3.2334144778621704e-06], [6.222425052440776e-05, 0.8662608778355918, 0.00035701105536570943, 7.66808911515035e-06, 6.0026457834949325e-05, 2.9742388091562404e-05], [2.781276863412437e-10, 1.4086629437971556e-05, 0.24129802230246933, 0.000576210027020507, 9.027370806631316e-06, 4.47529891531502e-06], [9.480452779268355e-10, 1.2491822526568676e-07, 0.00014899429258756955, 0.266808307948421, 0.002116901118263743, 4.964096297837386e-05], [4.011968917456929e-07, 1.8035489719799668e-06, 6.57400034947807e-07, 0.0002961016358779275, 0.2502896345701201, 0.0037917808793003767]]}], {\"font\": {\"color\": \"#FFF\"}, \"height\": 300, \"plot_bgcolor\": \"#000\", \"xaxis\": {\"dtick\": 1, \"tickcolor\": \"#FFF\", \"title\": \"Glimpses\", \"range\": [-0.5, 5.5]}, \"paper_bgcolor\": \"#000\", \"titlefont\": {\"color\": \"#FFF\"}, \"width\": 300, \"yaxis\": {\"dtick\": 1, \"tickcolor\": \"#FFF\", \"title\": \"Count Word\", \"range\": [-0.5, 5.5]}, \"title\": \"2 Blobs:Confidence after 500000 Iters\"}, {\"linkText\": \"Export to plot.ly\", \"showLink\": true})});</script>"
      ]
     },
     "metadata": {},
     "output_type": "display_data"
    },
    {
     "data": {
      "application/vnd.plotly.v1+json": {
       "data": [
        {
         "colorscale": "Jet",
         "type": "heatmap",
         "z": [
          [
           6.6044270686106295e-09,
           0.15445833155358085,
           0.7791260826749139,
           0.8428120002136017,
           0.7424230033237081,
           0.9958435890271145
          ],
          [
           0.9999292054761848,
           3.017509847161839e-05,
           8.011214866584476e-08,
           1.8436680756596576e-06,
           0.00031595311964217166,
           5.49733088170727e-06
          ],
          [
           6.93348825588148e-05,
           0.8454415587557239,
           0.0002824260442192101,
           9.841389089205145e-06,
           0.00010741786894232295,
           8.047093798567629e-05
          ],
          [
           9.831208710286576e-10,
           6.369801194994989e-05,
           0.2204477580357472,
           0.0004631481303722724,
           1.1247355123147293e-05,
           5.125523707890287e-06
          ],
          [
           4.250550450810377e-09,
           4.251770648018196e-07,
           0.00014210161916572442,
           0.15640709156820332,
           0.001777073119960415,
           3.758797343583987e-05
          ],
          [
           8.449295507106367e-07,
           5.158308285547298e-06,
           9.261610369933753e-07,
           0.00030544041383377213,
           0.2553646877665622,
           0.004027130541159717
          ]
         ]
        }
       ],
       "layout": {
        "font": {
         "color": "#FFF"
        },
        "height": 300,
        "paper_bgcolor": "#000",
        "plot_bgcolor": "#000",
        "title": "2 Blobs:Confidence after 600000 Iters",
        "titlefont": {
         "color": "#FFF"
        },
        "width": 300,
        "xaxis": {
         "dtick": 1,
         "range": [
          -0.5,
          5.5
         ],
         "tickcolor": "#FFF",
         "title": "Glimpses"
        },
        "yaxis": {
         "dtick": 1,
         "range": [
          -0.5,
          5.5
         ],
         "tickcolor": "#FFF",
         "title": "Count Word"
        }
       }
      },
      "text/html": [
       "<div id=\"4ed0123d-aedb-46c9-8f0b-56cb968fe420\" style=\"height: 300px; width: 300px;\" class=\"plotly-graph-div\"></div><script type=\"text/javascript\">require([\"plotly\"], function(Plotly) { window.PLOTLYENV=window.PLOTLYENV || {};window.PLOTLYENV.BASE_URL=\"https://plot.ly\";Plotly.newPlot(\"4ed0123d-aedb-46c9-8f0b-56cb968fe420\", [{\"colorscale\": \"Jet\", \"type\": \"heatmap\", \"z\": [[6.6044270686106295e-09, 0.15445833155358085, 0.7791260826749139, 0.8428120002136017, 0.7424230033237081, 0.9958435890271145], [0.9999292054761848, 3.017509847161839e-05, 8.011214866584476e-08, 1.8436680756596576e-06, 0.00031595311964217166, 5.49733088170727e-06], [6.93348825588148e-05, 0.8454415587557239, 0.0002824260442192101, 9.841389089205145e-06, 0.00010741786894232295, 8.047093798567629e-05], [9.831208710286576e-10, 6.369801194994989e-05, 0.2204477580357472, 0.0004631481303722724, 1.1247355123147293e-05, 5.125523707890287e-06], [4.250550450810377e-09, 4.251770648018196e-07, 0.00014210161916572442, 0.15640709156820332, 0.001777073119960415, 3.758797343583987e-05], [8.449295507106367e-07, 5.158308285547298e-06, 9.261610369933753e-07, 0.00030544041383377213, 0.2553646877665622, 0.004027130541159717]]}], {\"font\": {\"color\": \"#FFF\"}, \"height\": 300, \"plot_bgcolor\": \"#000\", \"xaxis\": {\"dtick\": 1, \"tickcolor\": \"#FFF\", \"title\": \"Glimpses\", \"range\": [-0.5, 5.5]}, \"paper_bgcolor\": \"#000\", \"titlefont\": {\"color\": \"#FFF\"}, \"width\": 300, \"yaxis\": {\"dtick\": 1, \"tickcolor\": \"#FFF\", \"title\": \"Count Word\", \"range\": [-0.5, 5.5]}, \"title\": \"2 Blobs:Confidence after 600000 Iters\"}, {\"linkText\": \"Export to plot.ly\", \"showLink\": true})});</script>"
      ],
      "text/vnd.plotly.v1+html": [
       "<div id=\"4ed0123d-aedb-46c9-8f0b-56cb968fe420\" style=\"height: 300px; width: 300px;\" class=\"plotly-graph-div\"></div><script type=\"text/javascript\">require([\"plotly\"], function(Plotly) { window.PLOTLYENV=window.PLOTLYENV || {};window.PLOTLYENV.BASE_URL=\"https://plot.ly\";Plotly.newPlot(\"4ed0123d-aedb-46c9-8f0b-56cb968fe420\", [{\"colorscale\": \"Jet\", \"type\": \"heatmap\", \"z\": [[6.6044270686106295e-09, 0.15445833155358085, 0.7791260826749139, 0.8428120002136017, 0.7424230033237081, 0.9958435890271145], [0.9999292054761848, 3.017509847161839e-05, 8.011214866584476e-08, 1.8436680756596576e-06, 0.00031595311964217166, 5.49733088170727e-06], [6.93348825588148e-05, 0.8454415587557239, 0.0002824260442192101, 9.841389089205145e-06, 0.00010741786894232295, 8.047093798567629e-05], [9.831208710286576e-10, 6.369801194994989e-05, 0.2204477580357472, 0.0004631481303722724, 1.1247355123147293e-05, 5.125523707890287e-06], [4.250550450810377e-09, 4.251770648018196e-07, 0.00014210161916572442, 0.15640709156820332, 0.001777073119960415, 3.758797343583987e-05], [8.449295507106367e-07, 5.158308285547298e-06, 9.261610369933753e-07, 0.00030544041383377213, 0.2553646877665622, 0.004027130541159717]]}], {\"font\": {\"color\": \"#FFF\"}, \"height\": 300, \"plot_bgcolor\": \"#000\", \"xaxis\": {\"dtick\": 1, \"tickcolor\": \"#FFF\", \"title\": \"Glimpses\", \"range\": [-0.5, 5.5]}, \"paper_bgcolor\": \"#000\", \"titlefont\": {\"color\": \"#FFF\"}, \"width\": 300, \"yaxis\": {\"dtick\": 1, \"tickcolor\": \"#FFF\", \"title\": \"Count Word\", \"range\": [-0.5, 5.5]}, \"title\": \"2 Blobs:Confidence after 600000 Iters\"}, {\"linkText\": \"Export to plot.ly\", \"showLink\": true})});</script>"
      ]
     },
     "metadata": {},
     "output_type": "display_data"
    },
    {
     "data": {
      "application/vnd.plotly.v1+json": {
       "data": [
        {
         "colorscale": "Jet",
         "type": "heatmap",
         "z": [
          [
           0.1672360680715875,
           0.16760018703101057,
           0.16785007469143873,
           0.16803441125342203,
           0.1681887899808713,
           0.16833870022540037
          ],
          [
           0.16644113259692367,
           0.16628296618293073,
           0.16626869833000504,
           0.16638250215220537,
           0.16659294553228352,
           0.16687195935670635
          ],
          [
           0.1661090855729577,
           0.16594901088020203,
           0.16598430798371927,
           0.1661075740373638,
           0.16626167103991032,
           0.16641663230926595
          ],
          [
           0.16821135032481857,
           0.16940036259343946,
           0.17031232798968576,
           0.1710024180283955,
           0.17151156151717475,
           0.171871415953194
          ],
          [
           0.16654208324430497,
           0.1660801996900371,
           0.1654589846379636,
           0.16479729619473835,
           0.1641564935785178,
           0.16356233715561555
          ],
          [
           0.1654596607777302,
           0.16468664396616078,
           0.16412498509286622,
           0.16367518916673948,
           0.16328792033654788,
           0.16293832627492047
          ]
         ]
        }
       ],
       "layout": {
        "font": {
         "color": "#FFF"
        },
        "height": 300,
        "paper_bgcolor": "#000",
        "plot_bgcolor": "#000",
        "title": "3 Blobs:Confidence after 0 Iters",
        "titlefont": {
         "color": "#FFF"
        },
        "width": 300,
        "xaxis": {
         "dtick": 1,
         "range": [
          -0.5,
          5.5
         ],
         "tickcolor": "#FFF",
         "title": "Glimpses"
        },
        "yaxis": {
         "dtick": 1,
         "range": [
          -0.5,
          5.5
         ],
         "tickcolor": "#FFF",
         "title": "Count Word"
        }
       }
      },
      "text/html": [
       "<div id=\"48bc5df3-3479-4250-b5c3-a0837feff06c\" style=\"height: 300px; width: 300px;\" class=\"plotly-graph-div\"></div><script type=\"text/javascript\">require([\"plotly\"], function(Plotly) { window.PLOTLYENV=window.PLOTLYENV || {};window.PLOTLYENV.BASE_URL=\"https://plot.ly\";Plotly.newPlot(\"48bc5df3-3479-4250-b5c3-a0837feff06c\", [{\"colorscale\": \"Jet\", \"type\": \"heatmap\", \"z\": [[0.1672360680715875, 0.16760018703101057, 0.16785007469143873, 0.16803441125342203, 0.1681887899808713, 0.16833870022540037], [0.16644113259692367, 0.16628296618293073, 0.16626869833000504, 0.16638250215220537, 0.16659294553228352, 0.16687195935670635], [0.1661090855729577, 0.16594901088020203, 0.16598430798371927, 0.1661075740373638, 0.16626167103991032, 0.16641663230926595], [0.16821135032481857, 0.16940036259343946, 0.17031232798968576, 0.1710024180283955, 0.17151156151717475, 0.171871415953194], [0.16654208324430497, 0.1660801996900371, 0.1654589846379636, 0.16479729619473835, 0.1641564935785178, 0.16356233715561555], [0.1654596607777302, 0.16468664396616078, 0.16412498509286622, 0.16367518916673948, 0.16328792033654788, 0.16293832627492047]]}], {\"font\": {\"color\": \"#FFF\"}, \"height\": 300, \"plot_bgcolor\": \"#000\", \"xaxis\": {\"dtick\": 1, \"tickcolor\": \"#FFF\", \"title\": \"Glimpses\", \"range\": [-0.5, 5.5]}, \"paper_bgcolor\": \"#000\", \"titlefont\": {\"color\": \"#FFF\"}, \"width\": 300, \"yaxis\": {\"dtick\": 1, \"tickcolor\": \"#FFF\", \"title\": \"Count Word\", \"range\": [-0.5, 5.5]}, \"title\": \"3 Blobs:Confidence after 0 Iters\"}, {\"linkText\": \"Export to plot.ly\", \"showLink\": true})});</script>"
      ],
      "text/vnd.plotly.v1+html": [
       "<div id=\"48bc5df3-3479-4250-b5c3-a0837feff06c\" style=\"height: 300px; width: 300px;\" class=\"plotly-graph-div\"></div><script type=\"text/javascript\">require([\"plotly\"], function(Plotly) { window.PLOTLYENV=window.PLOTLYENV || {};window.PLOTLYENV.BASE_URL=\"https://plot.ly\";Plotly.newPlot(\"48bc5df3-3479-4250-b5c3-a0837feff06c\", [{\"colorscale\": \"Jet\", \"type\": \"heatmap\", \"z\": [[0.1672360680715875, 0.16760018703101057, 0.16785007469143873, 0.16803441125342203, 0.1681887899808713, 0.16833870022540037], [0.16644113259692367, 0.16628296618293073, 0.16626869833000504, 0.16638250215220537, 0.16659294553228352, 0.16687195935670635], [0.1661090855729577, 0.16594901088020203, 0.16598430798371927, 0.1661075740373638, 0.16626167103991032, 0.16641663230926595], [0.16821135032481857, 0.16940036259343946, 0.17031232798968576, 0.1710024180283955, 0.17151156151717475, 0.171871415953194], [0.16654208324430497, 0.1660801996900371, 0.1654589846379636, 0.16479729619473835, 0.1641564935785178, 0.16356233715561555], [0.1654596607777302, 0.16468664396616078, 0.16412498509286622, 0.16367518916673948, 0.16328792033654788, 0.16293832627492047]]}], {\"font\": {\"color\": \"#FFF\"}, \"height\": 300, \"plot_bgcolor\": \"#000\", \"xaxis\": {\"dtick\": 1, \"tickcolor\": \"#FFF\", \"title\": \"Glimpses\", \"range\": [-0.5, 5.5]}, \"paper_bgcolor\": \"#000\", \"titlefont\": {\"color\": \"#FFF\"}, \"width\": 300, \"yaxis\": {\"dtick\": 1, \"tickcolor\": \"#FFF\", \"title\": \"Count Word\", \"range\": [-0.5, 5.5]}, \"title\": \"3 Blobs:Confidence after 0 Iters\"}, {\"linkText\": \"Export to plot.ly\", \"showLink\": true})});</script>"
      ]
     },
     "metadata": {},
     "output_type": "display_data"
    },
    {
     "data": {
      "application/vnd.plotly.v1+json": {
       "data": [
        {
         "colorscale": "Jet",
         "type": "heatmap",
         "z": [
          [
           0.15924356515217755,
           0.3217027814007684,
           0.549302397198529,
           0.7556055522871744,
           0.8464239507723614,
           0.903528587261013
          ],
          [
           0.32639123869132064,
           0.37384954624907407,
           0.29191747389547484,
           0.16123174413979657,
           0.10271965922117501,
           0.06284786654525304
          ],
          [
           0.15422333516364675,
           0.11087114892574508,
           0.06607961051518027,
           0.03711576869117414,
           0.0234798644151015,
           0.01581167244461644
          ],
          [
           0.12437315436794533,
           0.07747331970075909,
           0.041777650798479574,
           0.022432807047365628,
           0.014045115382956429,
           0.00945963256191317
          ],
          [
           0.1195801744245763,
           0.06630627997413929,
           0.03209695002816726,
           0.015909416748859845,
           0.009305401895381881,
           0.005993626855496395
          ],
          [
           0.11618802735770847,
           0.04979643082781208,
           0.01882543484044413,
           0.007704212878674461,
           0.00402550832491524,
           0.0023581145968026166
          ]
         ]
        }
       ],
       "layout": {
        "font": {
         "color": "#FFF"
        },
        "height": 300,
        "paper_bgcolor": "#000",
        "plot_bgcolor": "#000",
        "title": "3 Blobs:Confidence after 1000 Iters",
        "titlefont": {
         "color": "#FFF"
        },
        "width": 300,
        "xaxis": {
         "dtick": 1,
         "range": [
          -0.5,
          5.5
         ],
         "tickcolor": "#FFF",
         "title": "Glimpses"
        },
        "yaxis": {
         "dtick": 1,
         "range": [
          -0.5,
          5.5
         ],
         "tickcolor": "#FFF",
         "title": "Count Word"
        }
       }
      },
      "text/html": [
       "<div id=\"e26c692d-518b-4dc8-9624-a35bbd5d668d\" style=\"height: 300px; width: 300px;\" class=\"plotly-graph-div\"></div><script type=\"text/javascript\">require([\"plotly\"], function(Plotly) { window.PLOTLYENV=window.PLOTLYENV || {};window.PLOTLYENV.BASE_URL=\"https://plot.ly\";Plotly.newPlot(\"e26c692d-518b-4dc8-9624-a35bbd5d668d\", [{\"colorscale\": \"Jet\", \"type\": \"heatmap\", \"z\": [[0.15924356515217755, 0.3217027814007684, 0.549302397198529, 0.7556055522871744, 0.8464239507723614, 0.903528587261013], [0.32639123869132064, 0.37384954624907407, 0.29191747389547484, 0.16123174413979657, 0.10271965922117501, 0.06284786654525304], [0.15422333516364675, 0.11087114892574508, 0.06607961051518027, 0.03711576869117414, 0.0234798644151015, 0.01581167244461644], [0.12437315436794533, 0.07747331970075909, 0.041777650798479574, 0.022432807047365628, 0.014045115382956429, 0.00945963256191317], [0.1195801744245763, 0.06630627997413929, 0.03209695002816726, 0.015909416748859845, 0.009305401895381881, 0.005993626855496395], [0.11618802735770847, 0.04979643082781208, 0.01882543484044413, 0.007704212878674461, 0.00402550832491524, 0.0023581145968026166]]}], {\"font\": {\"color\": \"#FFF\"}, \"height\": 300, \"plot_bgcolor\": \"#000\", \"xaxis\": {\"dtick\": 1, \"tickcolor\": \"#FFF\", \"title\": \"Glimpses\", \"range\": [-0.5, 5.5]}, \"paper_bgcolor\": \"#000\", \"titlefont\": {\"color\": \"#FFF\"}, \"width\": 300, \"yaxis\": {\"dtick\": 1, \"tickcolor\": \"#FFF\", \"title\": \"Count Word\", \"range\": [-0.5, 5.5]}, \"title\": \"3 Blobs:Confidence after 1000 Iters\"}, {\"linkText\": \"Export to plot.ly\", \"showLink\": true})});</script>"
      ],
      "text/vnd.plotly.v1+html": [
       "<div id=\"e26c692d-518b-4dc8-9624-a35bbd5d668d\" style=\"height: 300px; width: 300px;\" class=\"plotly-graph-div\"></div><script type=\"text/javascript\">require([\"plotly\"], function(Plotly) { window.PLOTLYENV=window.PLOTLYENV || {};window.PLOTLYENV.BASE_URL=\"https://plot.ly\";Plotly.newPlot(\"e26c692d-518b-4dc8-9624-a35bbd5d668d\", [{\"colorscale\": \"Jet\", \"type\": \"heatmap\", \"z\": [[0.15924356515217755, 0.3217027814007684, 0.549302397198529, 0.7556055522871744, 0.8464239507723614, 0.903528587261013], [0.32639123869132064, 0.37384954624907407, 0.29191747389547484, 0.16123174413979657, 0.10271965922117501, 0.06284786654525304], [0.15422333516364675, 0.11087114892574508, 0.06607961051518027, 0.03711576869117414, 0.0234798644151015, 0.01581167244461644], [0.12437315436794533, 0.07747331970075909, 0.041777650798479574, 0.022432807047365628, 0.014045115382956429, 0.00945963256191317], [0.1195801744245763, 0.06630627997413929, 0.03209695002816726, 0.015909416748859845, 0.009305401895381881, 0.005993626855496395], [0.11618802735770847, 0.04979643082781208, 0.01882543484044413, 0.007704212878674461, 0.00402550832491524, 0.0023581145968026166]]}], {\"font\": {\"color\": \"#FFF\"}, \"height\": 300, \"plot_bgcolor\": \"#000\", \"xaxis\": {\"dtick\": 1, \"tickcolor\": \"#FFF\", \"title\": \"Glimpses\", \"range\": [-0.5, 5.5]}, \"paper_bgcolor\": \"#000\", \"titlefont\": {\"color\": \"#FFF\"}, \"width\": 300, \"yaxis\": {\"dtick\": 1, \"tickcolor\": \"#FFF\", \"title\": \"Count Word\", \"range\": [-0.5, 5.5]}, \"title\": \"3 Blobs:Confidence after 1000 Iters\"}, {\"linkText\": \"Export to plot.ly\", \"showLink\": true})});</script>"
      ]
     },
     "metadata": {},
     "output_type": "display_data"
    },
    {
     "data": {
      "application/vnd.plotly.v1+json": {
       "data": [
        {
         "colorscale": "Jet",
         "type": "heatmap",
         "z": [
          [
           0.008140955810391272,
           0.06275872985176688,
           0.4547855810974728,
           0.7681077690021876,
           0.8485078932311733,
           0.8712431882144624
          ],
          [
           0.9004024828060819,
           0.1576720579764893,
           0.008610699263921983,
           6.30988154306509e-05,
           4.540671084393451e-07,
           7.860064594425888e-08
          ],
          [
           0.06388802257302223,
           0.6552076338046128,
           0.22842228781713175,
           0.028345567466162708,
           0.0021306505722880407,
           0.00046962489211989345
          ],
          [
           0.01095694763227214,
           0.08741792308773008,
           0.21899597929110634,
           0.11664556647380643,
           0.06705895997376389,
           0.04792868953247942
          ],
          [
           0.008007733242773504,
           0.020164551057375846,
           0.05814514079810558,
           0.06081916821081367,
           0.05850985644981266,
           0.057192252012532106
          ],
          [
           0.008603316595808472,
           0.01677857100557255,
           0.031039747860347085,
           0.026018301264621804,
           0.023791624467994682,
           0.02316562217044675
          ]
         ]
        }
       ],
       "layout": {
        "font": {
         "color": "#FFF"
        },
        "height": 300,
        "paper_bgcolor": "#000",
        "plot_bgcolor": "#000",
        "title": "3 Blobs:Confidence after 4000 Iters",
        "titlefont": {
         "color": "#FFF"
        },
        "width": 300,
        "xaxis": {
         "dtick": 1,
         "range": [
          -0.5,
          5.5
         ],
         "tickcolor": "#FFF",
         "title": "Glimpses"
        },
        "yaxis": {
         "dtick": 1,
         "range": [
          -0.5,
          5.5
         ],
         "tickcolor": "#FFF",
         "title": "Count Word"
        }
       }
      },
      "text/html": [
       "<div id=\"af5130da-68b1-42f2-bbd6-39531713324e\" style=\"height: 300px; width: 300px;\" class=\"plotly-graph-div\"></div><script type=\"text/javascript\">require([\"plotly\"], function(Plotly) { window.PLOTLYENV=window.PLOTLYENV || {};window.PLOTLYENV.BASE_URL=\"https://plot.ly\";Plotly.newPlot(\"af5130da-68b1-42f2-bbd6-39531713324e\", [{\"colorscale\": \"Jet\", \"type\": \"heatmap\", \"z\": [[0.008140955810391272, 0.06275872985176688, 0.4547855810974728, 0.7681077690021876, 0.8485078932311733, 0.8712431882144624], [0.9004024828060819, 0.1576720579764893, 0.008610699263921983, 6.30988154306509e-05, 4.540671084393451e-07, 7.860064594425888e-08], [0.06388802257302223, 0.6552076338046128, 0.22842228781713175, 0.028345567466162708, 0.0021306505722880407, 0.00046962489211989345], [0.01095694763227214, 0.08741792308773008, 0.21899597929110634, 0.11664556647380643, 0.06705895997376389, 0.04792868953247942], [0.008007733242773504, 0.020164551057375846, 0.05814514079810558, 0.06081916821081367, 0.05850985644981266, 0.057192252012532106], [0.008603316595808472, 0.01677857100557255, 0.031039747860347085, 0.026018301264621804, 0.023791624467994682, 0.02316562217044675]]}], {\"font\": {\"color\": \"#FFF\"}, \"height\": 300, \"plot_bgcolor\": \"#000\", \"xaxis\": {\"dtick\": 1, \"tickcolor\": \"#FFF\", \"title\": \"Glimpses\", \"range\": [-0.5, 5.5]}, \"paper_bgcolor\": \"#000\", \"titlefont\": {\"color\": \"#FFF\"}, \"width\": 300, \"yaxis\": {\"dtick\": 1, \"tickcolor\": \"#FFF\", \"title\": \"Count Word\", \"range\": [-0.5, 5.5]}, \"title\": \"3 Blobs:Confidence after 4000 Iters\"}, {\"linkText\": \"Export to plot.ly\", \"showLink\": true})});</script>"
      ],
      "text/vnd.plotly.v1+html": [
       "<div id=\"af5130da-68b1-42f2-bbd6-39531713324e\" style=\"height: 300px; width: 300px;\" class=\"plotly-graph-div\"></div><script type=\"text/javascript\">require([\"plotly\"], function(Plotly) { window.PLOTLYENV=window.PLOTLYENV || {};window.PLOTLYENV.BASE_URL=\"https://plot.ly\";Plotly.newPlot(\"af5130da-68b1-42f2-bbd6-39531713324e\", [{\"colorscale\": \"Jet\", \"type\": \"heatmap\", \"z\": [[0.008140955810391272, 0.06275872985176688, 0.4547855810974728, 0.7681077690021876, 0.8485078932311733, 0.8712431882144624], [0.9004024828060819, 0.1576720579764893, 0.008610699263921983, 6.30988154306509e-05, 4.540671084393451e-07, 7.860064594425888e-08], [0.06388802257302223, 0.6552076338046128, 0.22842228781713175, 0.028345567466162708, 0.0021306505722880407, 0.00046962489211989345], [0.01095694763227214, 0.08741792308773008, 0.21899597929110634, 0.11664556647380643, 0.06705895997376389, 0.04792868953247942], [0.008007733242773504, 0.020164551057375846, 0.05814514079810558, 0.06081916821081367, 0.05850985644981266, 0.057192252012532106], [0.008603316595808472, 0.01677857100557255, 0.031039747860347085, 0.026018301264621804, 0.023791624467994682, 0.02316562217044675]]}], {\"font\": {\"color\": \"#FFF\"}, \"height\": 300, \"plot_bgcolor\": \"#000\", \"xaxis\": {\"dtick\": 1, \"tickcolor\": \"#FFF\", \"title\": \"Glimpses\", \"range\": [-0.5, 5.5]}, \"paper_bgcolor\": \"#000\", \"titlefont\": {\"color\": \"#FFF\"}, \"width\": 300, \"yaxis\": {\"dtick\": 1, \"tickcolor\": \"#FFF\", \"title\": \"Count Word\", \"range\": [-0.5, 5.5]}, \"title\": \"3 Blobs:Confidence after 4000 Iters\"}, {\"linkText\": \"Export to plot.ly\", \"showLink\": true})});</script>"
      ]
     },
     "metadata": {},
     "output_type": "display_data"
    },
    {
     "data": {
      "application/vnd.plotly.v1+json": {
       "data": [
        {
         "colorscale": "Jet",
         "type": "heatmap",
         "z": [
          [
           2.4398044754215283e-05,
           0.09129734265293345,
           0.4116663636725643,
           0.47045572042673034,
           0.5573403901318672,
           0.5950598424193757
          ],
          [
           0.9885639685607212,
           0.0003975161564925877,
           1.7809873846247794e-07,
           1.9791595087073282e-08,
           1.7517691113409052e-08,
           1.818843686608112e-08
          ],
          [
           0.011347806026078273,
           0.8863442119496301,
           0.008923684249821946,
           4.4336029659471965e-05,
           6.945280177298672e-06,
           4.141879683404885e-06
          ],
          [
           5.3620532236292106e-05,
           0.021735634557250944,
           0.4954332084460407,
           0.04100993987892669,
           0.005825372824162637,
           0.0028247851319145724
          ],
          [
           5.307763520893273e-06,
           0.00019342668814367308,
           0.08049035738436343,
           0.41377351790773587,
           0.21297190510313863,
           0.1202749401205563
          ],
          [
           4.360381303061315e-06,
           3.131634574619648e-05,
           0.003485640530873907,
           0.07471593354227292,
           0.22385481395123513,
           0.28183574135372674
          ]
         ]
        }
       ],
       "layout": {
        "font": {
         "color": "#FFF"
        },
        "height": 300,
        "paper_bgcolor": "#000",
        "plot_bgcolor": "#000",
        "title": "3 Blobs:Confidence after 16000 Iters",
        "titlefont": {
         "color": "#FFF"
        },
        "width": 300,
        "xaxis": {
         "dtick": 1,
         "range": [
          -0.5,
          5.5
         ],
         "tickcolor": "#FFF",
         "title": "Glimpses"
        },
        "yaxis": {
         "dtick": 1,
         "range": [
          -0.5,
          5.5
         ],
         "tickcolor": "#FFF",
         "title": "Count Word"
        }
       }
      },
      "text/html": [
       "<div id=\"4b5d8dc0-fe2b-4fe4-9a1a-7bd2fbb89381\" style=\"height: 300px; width: 300px;\" class=\"plotly-graph-div\"></div><script type=\"text/javascript\">require([\"plotly\"], function(Plotly) { window.PLOTLYENV=window.PLOTLYENV || {};window.PLOTLYENV.BASE_URL=\"https://plot.ly\";Plotly.newPlot(\"4b5d8dc0-fe2b-4fe4-9a1a-7bd2fbb89381\", [{\"colorscale\": \"Jet\", \"type\": \"heatmap\", \"z\": [[2.4398044754215283e-05, 0.09129734265293345, 0.4116663636725643, 0.47045572042673034, 0.5573403901318672, 0.5950598424193757], [0.9885639685607212, 0.0003975161564925877, 1.7809873846247794e-07, 1.9791595087073282e-08, 1.7517691113409052e-08, 1.818843686608112e-08], [0.011347806026078273, 0.8863442119496301, 0.008923684249821946, 4.4336029659471965e-05, 6.945280177298672e-06, 4.141879683404885e-06], [5.3620532236292106e-05, 0.021735634557250944, 0.4954332084460407, 0.04100993987892669, 0.005825372824162637, 0.0028247851319145724], [5.307763520893273e-06, 0.00019342668814367308, 0.08049035738436343, 0.41377351790773587, 0.21297190510313863, 0.1202749401205563], [4.360381303061315e-06, 3.131634574619648e-05, 0.003485640530873907, 0.07471593354227292, 0.22385481395123513, 0.28183574135372674]]}], {\"font\": {\"color\": \"#FFF\"}, \"height\": 300, \"plot_bgcolor\": \"#000\", \"xaxis\": {\"dtick\": 1, \"tickcolor\": \"#FFF\", \"title\": \"Glimpses\", \"range\": [-0.5, 5.5]}, \"paper_bgcolor\": \"#000\", \"titlefont\": {\"color\": \"#FFF\"}, \"width\": 300, \"yaxis\": {\"dtick\": 1, \"tickcolor\": \"#FFF\", \"title\": \"Count Word\", \"range\": [-0.5, 5.5]}, \"title\": \"3 Blobs:Confidence after 16000 Iters\"}, {\"linkText\": \"Export to plot.ly\", \"showLink\": true})});</script>"
      ],
      "text/vnd.plotly.v1+html": [
       "<div id=\"4b5d8dc0-fe2b-4fe4-9a1a-7bd2fbb89381\" style=\"height: 300px; width: 300px;\" class=\"plotly-graph-div\"></div><script type=\"text/javascript\">require([\"plotly\"], function(Plotly) { window.PLOTLYENV=window.PLOTLYENV || {};window.PLOTLYENV.BASE_URL=\"https://plot.ly\";Plotly.newPlot(\"4b5d8dc0-fe2b-4fe4-9a1a-7bd2fbb89381\", [{\"colorscale\": \"Jet\", \"type\": \"heatmap\", \"z\": [[2.4398044754215283e-05, 0.09129734265293345, 0.4116663636725643, 0.47045572042673034, 0.5573403901318672, 0.5950598424193757], [0.9885639685607212, 0.0003975161564925877, 1.7809873846247794e-07, 1.9791595087073282e-08, 1.7517691113409052e-08, 1.818843686608112e-08], [0.011347806026078273, 0.8863442119496301, 0.008923684249821946, 4.4336029659471965e-05, 6.945280177298672e-06, 4.141879683404885e-06], [5.3620532236292106e-05, 0.021735634557250944, 0.4954332084460407, 0.04100993987892669, 0.005825372824162637, 0.0028247851319145724], [5.307763520893273e-06, 0.00019342668814367308, 0.08049035738436343, 0.41377351790773587, 0.21297190510313863, 0.1202749401205563], [4.360381303061315e-06, 3.131634574619648e-05, 0.003485640530873907, 0.07471593354227292, 0.22385481395123513, 0.28183574135372674]]}], {\"font\": {\"color\": \"#FFF\"}, \"height\": 300, \"plot_bgcolor\": \"#000\", \"xaxis\": {\"dtick\": 1, \"tickcolor\": \"#FFF\", \"title\": \"Glimpses\", \"range\": [-0.5, 5.5]}, \"paper_bgcolor\": \"#000\", \"titlefont\": {\"color\": \"#FFF\"}, \"width\": 300, \"yaxis\": {\"dtick\": 1, \"tickcolor\": \"#FFF\", \"title\": \"Count Word\", \"range\": [-0.5, 5.5]}, \"title\": \"3 Blobs:Confidence after 16000 Iters\"}, {\"linkText\": \"Export to plot.ly\", \"showLink\": true})});</script>"
      ]
     },
     "metadata": {},
     "output_type": "display_data"
    },
    {
     "data": {
      "application/vnd.plotly.v1+json": {
       "data": [
        {
         "colorscale": "Jet",
         "type": "heatmap",
         "z": [
          [
           6.707620065320064e-06,
           0.004712933945041007,
           0.39837206088950405,
           0.6378125955958215,
           0.8250359691504848,
           0.8776392019314998
          ],
          [
           0.99556898748009,
           0.0005943954820659947,
           1.711447358607184e-07,
           7.871377392047985e-09,
           3.1869837257063585e-08,
           4.2600443563932986e-08
          ],
          [
           0.004417797981075422,
           0.9932418382847666,
           0.021983075727158262,
           1.5200605879802131e-05,
           1.7247698648399811e-06,
           1.2117836676798428e-06
          ],
          [
           4.796495930647637e-06,
           0.0014477982377871083,
           0.5770432609890815,
           0.018367910844717915,
           0.0003386015767240531,
           7.900403499955624e-05
          ],
          [
           3.612201868623662e-07,
           1.7582854547058789e-06,
           0.00257167140827703,
           0.3354239431657306,
           0.04392608796036665,
           0.005878625799300645
          ],
          [
           8.218670926788778e-07,
           7.399715174482014e-07,
           2.9225154114007125e-05,
           0.008379816642443009,
           0.130697078446554,
           0.11640140209099288
          ]
         ]
        }
       ],
       "layout": {
        "font": {
         "color": "#FFF"
        },
        "height": 300,
        "paper_bgcolor": "#000",
        "plot_bgcolor": "#000",
        "title": "3 Blobs:Confidence after 32000 Iters",
        "titlefont": {
         "color": "#FFF"
        },
        "width": 300,
        "xaxis": {
         "dtick": 1,
         "range": [
          -0.5,
          5.5
         ],
         "tickcolor": "#FFF",
         "title": "Glimpses"
        },
        "yaxis": {
         "dtick": 1,
         "range": [
          -0.5,
          5.5
         ],
         "tickcolor": "#FFF",
         "title": "Count Word"
        }
       }
      },
      "text/html": [
       "<div id=\"83d95806-d521-4258-82f4-3715c7142cf3\" style=\"height: 300px; width: 300px;\" class=\"plotly-graph-div\"></div><script type=\"text/javascript\">require([\"plotly\"], function(Plotly) { window.PLOTLYENV=window.PLOTLYENV || {};window.PLOTLYENV.BASE_URL=\"https://plot.ly\";Plotly.newPlot(\"83d95806-d521-4258-82f4-3715c7142cf3\", [{\"colorscale\": \"Jet\", \"type\": \"heatmap\", \"z\": [[6.707620065320064e-06, 0.004712933945041007, 0.39837206088950405, 0.6378125955958215, 0.8250359691504848, 0.8776392019314998], [0.99556898748009, 0.0005943954820659947, 1.711447358607184e-07, 7.871377392047985e-09, 3.1869837257063585e-08, 4.2600443563932986e-08], [0.004417797981075422, 0.9932418382847666, 0.021983075727158262, 1.5200605879802131e-05, 1.7247698648399811e-06, 1.2117836676798428e-06], [4.796495930647637e-06, 0.0014477982377871083, 0.5770432609890815, 0.018367910844717915, 0.0003386015767240531, 7.900403499955624e-05], [3.612201868623662e-07, 1.7582854547058789e-06, 0.00257167140827703, 0.3354239431657306, 0.04392608796036665, 0.005878625799300645], [8.218670926788778e-07, 7.399715174482014e-07, 2.9225154114007125e-05, 0.008379816642443009, 0.130697078446554, 0.11640140209099288]]}], {\"font\": {\"color\": \"#FFF\"}, \"height\": 300, \"plot_bgcolor\": \"#000\", \"xaxis\": {\"dtick\": 1, \"tickcolor\": \"#FFF\", \"title\": \"Glimpses\", \"range\": [-0.5, 5.5]}, \"paper_bgcolor\": \"#000\", \"titlefont\": {\"color\": \"#FFF\"}, \"width\": 300, \"yaxis\": {\"dtick\": 1, \"tickcolor\": \"#FFF\", \"title\": \"Count Word\", \"range\": [-0.5, 5.5]}, \"title\": \"3 Blobs:Confidence after 32000 Iters\"}, {\"linkText\": \"Export to plot.ly\", \"showLink\": true})});</script>"
      ],
      "text/vnd.plotly.v1+html": [
       "<div id=\"83d95806-d521-4258-82f4-3715c7142cf3\" style=\"height: 300px; width: 300px;\" class=\"plotly-graph-div\"></div><script type=\"text/javascript\">require([\"plotly\"], function(Plotly) { window.PLOTLYENV=window.PLOTLYENV || {};window.PLOTLYENV.BASE_URL=\"https://plot.ly\";Plotly.newPlot(\"83d95806-d521-4258-82f4-3715c7142cf3\", [{\"colorscale\": \"Jet\", \"type\": \"heatmap\", \"z\": [[6.707620065320064e-06, 0.004712933945041007, 0.39837206088950405, 0.6378125955958215, 0.8250359691504848, 0.8776392019314998], [0.99556898748009, 0.0005943954820659947, 1.711447358607184e-07, 7.871377392047985e-09, 3.1869837257063585e-08, 4.2600443563932986e-08], [0.004417797981075422, 0.9932418382847666, 0.021983075727158262, 1.5200605879802131e-05, 1.7247698648399811e-06, 1.2117836676798428e-06], [4.796495930647637e-06, 0.0014477982377871083, 0.5770432609890815, 0.018367910844717915, 0.0003386015767240531, 7.900403499955624e-05], [3.612201868623662e-07, 1.7582854547058789e-06, 0.00257167140827703, 0.3354239431657306, 0.04392608796036665, 0.005878625799300645], [8.218670926788778e-07, 7.399715174482014e-07, 2.9225154114007125e-05, 0.008379816642443009, 0.130697078446554, 0.11640140209099288]]}], {\"font\": {\"color\": \"#FFF\"}, \"height\": 300, \"plot_bgcolor\": \"#000\", \"xaxis\": {\"dtick\": 1, \"tickcolor\": \"#FFF\", \"title\": \"Glimpses\", \"range\": [-0.5, 5.5]}, \"paper_bgcolor\": \"#000\", \"titlefont\": {\"color\": \"#FFF\"}, \"width\": 300, \"yaxis\": {\"dtick\": 1, \"tickcolor\": \"#FFF\", \"title\": \"Count Word\", \"range\": [-0.5, 5.5]}, \"title\": \"3 Blobs:Confidence after 32000 Iters\"}, {\"linkText\": \"Export to plot.ly\", \"showLink\": true})});</script>"
      ]
     },
     "metadata": {},
     "output_type": "display_data"
    },
    {
     "data": {
      "application/vnd.plotly.v1+json": {
       "data": [
        {
         "colorscale": "Jet",
         "type": "heatmap",
         "z": [
          [
           1.2801111480536807e-06,
           0.007226679488054851,
           0.3906131402562939,
           0.4212756903561563,
           0.5626873850750085,
           0.9407179403607916
          ],
          [
           0.9984957166959111,
           0.0002855421015782361,
           2.278766520118405e-08,
           1.3073715683805205e-08,
           1.2117169444378676e-06,
           4.873550544482696e-07
          ],
          [
           0.0015020254045526541,
           0.9885940709410715,
           0.001431953714641417,
           5.103922810215214e-06,
           2.5186911159531558e-06,
           3.908988843189782e-06
          ],
          [
           4.180885604713985e-07,
           0.0038910277772628383,
           0.6048388443056757,
           0.004589212772874612,
           4.6171715383382756e-05,
           1.1255978051486147e-05
          ],
          [
           2.130628998704341e-08,
           1.7692030448902121e-06,
           0.00310796450650165,
           0.5647185605012649,
           0.01582058171182172,
           0.0006391751493502923
          ],
          [
           1.6176718495321242e-07,
           5.42157223209509e-07,
           7.714765886846618e-06,
           0.009411060706591754,
           0.42144175987289045,
           0.05862681907426854
          ]
         ]
        }
       ],
       "layout": {
        "font": {
         "color": "#FFF"
        },
        "height": 300,
        "paper_bgcolor": "#000",
        "plot_bgcolor": "#000",
        "title": "3 Blobs:Confidence after 64000 Iters",
        "titlefont": {
         "color": "#FFF"
        },
        "width": 300,
        "xaxis": {
         "dtick": 1,
         "range": [
          -0.5,
          5.5
         ],
         "tickcolor": "#FFF",
         "title": "Glimpses"
        },
        "yaxis": {
         "dtick": 1,
         "range": [
          -0.5,
          5.5
         ],
         "tickcolor": "#FFF",
         "title": "Count Word"
        }
       }
      },
      "text/html": [
       "<div id=\"5b424c5d-dae3-4306-80df-0281825bc44c\" style=\"height: 300px; width: 300px;\" class=\"plotly-graph-div\"></div><script type=\"text/javascript\">require([\"plotly\"], function(Plotly) { window.PLOTLYENV=window.PLOTLYENV || {};window.PLOTLYENV.BASE_URL=\"https://plot.ly\";Plotly.newPlot(\"5b424c5d-dae3-4306-80df-0281825bc44c\", [{\"colorscale\": \"Jet\", \"type\": \"heatmap\", \"z\": [[1.2801111480536807e-06, 0.007226679488054851, 0.3906131402562939, 0.4212756903561563, 0.5626873850750085, 0.9407179403607916], [0.9984957166959111, 0.0002855421015782361, 2.278766520118405e-08, 1.3073715683805205e-08, 1.2117169444378676e-06, 4.873550544482696e-07], [0.0015020254045526541, 0.9885940709410715, 0.001431953714641417, 5.103922810215214e-06, 2.5186911159531558e-06, 3.908988843189782e-06], [4.180885604713985e-07, 0.0038910277772628383, 0.6048388443056757, 0.004589212772874612, 4.6171715383382756e-05, 1.1255978051486147e-05], [2.130628998704341e-08, 1.7692030448902121e-06, 0.00310796450650165, 0.5647185605012649, 0.01582058171182172, 0.0006391751493502923], [1.6176718495321242e-07, 5.42157223209509e-07, 7.714765886846618e-06, 0.009411060706591754, 0.42144175987289045, 0.05862681907426854]]}], {\"font\": {\"color\": \"#FFF\"}, \"height\": 300, \"plot_bgcolor\": \"#000\", \"xaxis\": {\"dtick\": 1, \"tickcolor\": \"#FFF\", \"title\": \"Glimpses\", \"range\": [-0.5, 5.5]}, \"paper_bgcolor\": \"#000\", \"titlefont\": {\"color\": \"#FFF\"}, \"width\": 300, \"yaxis\": {\"dtick\": 1, \"tickcolor\": \"#FFF\", \"title\": \"Count Word\", \"range\": [-0.5, 5.5]}, \"title\": \"3 Blobs:Confidence after 64000 Iters\"}, {\"linkText\": \"Export to plot.ly\", \"showLink\": true})});</script>"
      ],
      "text/vnd.plotly.v1+html": [
       "<div id=\"5b424c5d-dae3-4306-80df-0281825bc44c\" style=\"height: 300px; width: 300px;\" class=\"plotly-graph-div\"></div><script type=\"text/javascript\">require([\"plotly\"], function(Plotly) { window.PLOTLYENV=window.PLOTLYENV || {};window.PLOTLYENV.BASE_URL=\"https://plot.ly\";Plotly.newPlot(\"5b424c5d-dae3-4306-80df-0281825bc44c\", [{\"colorscale\": \"Jet\", \"type\": \"heatmap\", \"z\": [[1.2801111480536807e-06, 0.007226679488054851, 0.3906131402562939, 0.4212756903561563, 0.5626873850750085, 0.9407179403607916], [0.9984957166959111, 0.0002855421015782361, 2.278766520118405e-08, 1.3073715683805205e-08, 1.2117169444378676e-06, 4.873550544482696e-07], [0.0015020254045526541, 0.9885940709410715, 0.001431953714641417, 5.103922810215214e-06, 2.5186911159531558e-06, 3.908988843189782e-06], [4.180885604713985e-07, 0.0038910277772628383, 0.6048388443056757, 0.004589212772874612, 4.6171715383382756e-05, 1.1255978051486147e-05], [2.130628998704341e-08, 1.7692030448902121e-06, 0.00310796450650165, 0.5647185605012649, 0.01582058171182172, 0.0006391751493502923], [1.6176718495321242e-07, 5.42157223209509e-07, 7.714765886846618e-06, 0.009411060706591754, 0.42144175987289045, 0.05862681907426854]]}], {\"font\": {\"color\": \"#FFF\"}, \"height\": 300, \"plot_bgcolor\": \"#000\", \"xaxis\": {\"dtick\": 1, \"tickcolor\": \"#FFF\", \"title\": \"Glimpses\", \"range\": [-0.5, 5.5]}, \"paper_bgcolor\": \"#000\", \"titlefont\": {\"color\": \"#FFF\"}, \"width\": 300, \"yaxis\": {\"dtick\": 1, \"tickcolor\": \"#FFF\", \"title\": \"Count Word\", \"range\": [-0.5, 5.5]}, \"title\": \"3 Blobs:Confidence after 64000 Iters\"}, {\"linkText\": \"Export to plot.ly\", \"showLink\": true})});</script>"
      ]
     },
     "metadata": {},
     "output_type": "display_data"
    },
    {
     "data": {
      "application/vnd.plotly.v1+json": {
       "data": [
        {
         "colorscale": "Jet",
         "type": "heatmap",
         "z": [
          [
           2.92247944930363e-08,
           0.0010758278742982795,
           0.2533928431083178,
           0.546733380450248,
           0.6527501046129267,
           0.9885782048865129
          ],
          [
           0.9994026872636972,
           0.0006952145401273988,
           2.548901945918857e-07,
           1.0893508486375823e-08,
           1.157446317771437e-06,
           1.9533204024667942e-07
          ],
          [
           0.0005965306249634168,
           0.996451722872822,
           0.0028959364813903846,
           5.191947004819605e-06,
           2.0662796278590412e-06,
           1.140420353352093e-06
          ],
          [
           1.1076488188274769e-08,
           0.001771842254092213,
           0.7418100589808786,
           0.003866992625624118,
           1.6574944933172637e-05,
           2.1860012317521536e-06
          ],
          [
           3.214453899115842e-09,
           2.6733134134322e-06,
           0.0018919614844382818,
           0.44634776558586464,
           0.005677038123413133,
           8.305603204094164e-05
          ],
          [
           1.0712559123463616e-07,
           2.0521732091192124e-06,
           8.276980924499325e-06,
           0.00304599681869821,
           0.34155240534550035,
           0.011334520255309559
          ]
         ]
        }
       ],
       "layout": {
        "font": {
         "color": "#FFF"
        },
        "height": 300,
        "paper_bgcolor": "#000",
        "plot_bgcolor": "#000",
        "title": "3 Blobs:Confidence after 125000 Iters",
        "titlefont": {
         "color": "#FFF"
        },
        "width": 300,
        "xaxis": {
         "dtick": 1,
         "range": [
          -0.5,
          5.5
         ],
         "tickcolor": "#FFF",
         "title": "Glimpses"
        },
        "yaxis": {
         "dtick": 1,
         "range": [
          -0.5,
          5.5
         ],
         "tickcolor": "#FFF",
         "title": "Count Word"
        }
       }
      },
      "text/html": [
       "<div id=\"3e7803a6-86de-4581-b950-4d2fef1ec559\" style=\"height: 300px; width: 300px;\" class=\"plotly-graph-div\"></div><script type=\"text/javascript\">require([\"plotly\"], function(Plotly) { window.PLOTLYENV=window.PLOTLYENV || {};window.PLOTLYENV.BASE_URL=\"https://plot.ly\";Plotly.newPlot(\"3e7803a6-86de-4581-b950-4d2fef1ec559\", [{\"colorscale\": \"Jet\", \"type\": \"heatmap\", \"z\": [[2.92247944930363e-08, 0.0010758278742982795, 0.2533928431083178, 0.546733380450248, 0.6527501046129267, 0.9885782048865129], [0.9994026872636972, 0.0006952145401273988, 2.548901945918857e-07, 1.0893508486375823e-08, 1.157446317771437e-06, 1.9533204024667942e-07], [0.0005965306249634168, 0.996451722872822, 0.0028959364813903846, 5.191947004819605e-06, 2.0662796278590412e-06, 1.140420353352093e-06], [1.1076488188274769e-08, 0.001771842254092213, 0.7418100589808786, 0.003866992625624118, 1.6574944933172637e-05, 2.1860012317521536e-06], [3.214453899115842e-09, 2.6733134134322e-06, 0.0018919614844382818, 0.44634776558586464, 0.005677038123413133, 8.305603204094164e-05], [1.0712559123463616e-07, 2.0521732091192124e-06, 8.276980924499325e-06, 0.00304599681869821, 0.34155240534550035, 0.011334520255309559]]}], {\"font\": {\"color\": \"#FFF\"}, \"height\": 300, \"plot_bgcolor\": \"#000\", \"xaxis\": {\"dtick\": 1, \"tickcolor\": \"#FFF\", \"title\": \"Glimpses\", \"range\": [-0.5, 5.5]}, \"paper_bgcolor\": \"#000\", \"titlefont\": {\"color\": \"#FFF\"}, \"width\": 300, \"yaxis\": {\"dtick\": 1, \"tickcolor\": \"#FFF\", \"title\": \"Count Word\", \"range\": [-0.5, 5.5]}, \"title\": \"3 Blobs:Confidence after 125000 Iters\"}, {\"linkText\": \"Export to plot.ly\", \"showLink\": true})});</script>"
      ],
      "text/vnd.plotly.v1+html": [
       "<div id=\"3e7803a6-86de-4581-b950-4d2fef1ec559\" style=\"height: 300px; width: 300px;\" class=\"plotly-graph-div\"></div><script type=\"text/javascript\">require([\"plotly\"], function(Plotly) { window.PLOTLYENV=window.PLOTLYENV || {};window.PLOTLYENV.BASE_URL=\"https://plot.ly\";Plotly.newPlot(\"3e7803a6-86de-4581-b950-4d2fef1ec559\", [{\"colorscale\": \"Jet\", \"type\": \"heatmap\", \"z\": [[2.92247944930363e-08, 0.0010758278742982795, 0.2533928431083178, 0.546733380450248, 0.6527501046129267, 0.9885782048865129], [0.9994026872636972, 0.0006952145401273988, 2.548901945918857e-07, 1.0893508486375823e-08, 1.157446317771437e-06, 1.9533204024667942e-07], [0.0005965306249634168, 0.996451722872822, 0.0028959364813903846, 5.191947004819605e-06, 2.0662796278590412e-06, 1.140420353352093e-06], [1.1076488188274769e-08, 0.001771842254092213, 0.7418100589808786, 0.003866992625624118, 1.6574944933172637e-05, 2.1860012317521536e-06], [3.214453899115842e-09, 2.6733134134322e-06, 0.0018919614844382818, 0.44634776558586464, 0.005677038123413133, 8.305603204094164e-05], [1.0712559123463616e-07, 2.0521732091192124e-06, 8.276980924499325e-06, 0.00304599681869821, 0.34155240534550035, 0.011334520255309559]]}], {\"font\": {\"color\": \"#FFF\"}, \"height\": 300, \"plot_bgcolor\": \"#000\", \"xaxis\": {\"dtick\": 1, \"tickcolor\": \"#FFF\", \"title\": \"Glimpses\", \"range\": [-0.5, 5.5]}, \"paper_bgcolor\": \"#000\", \"titlefont\": {\"color\": \"#FFF\"}, \"width\": 300, \"yaxis\": {\"dtick\": 1, \"tickcolor\": \"#FFF\", \"title\": \"Count Word\", \"range\": [-0.5, 5.5]}, \"title\": \"3 Blobs:Confidence after 125000 Iters\"}, {\"linkText\": \"Export to plot.ly\", \"showLink\": true})});</script>"
      ]
     },
     "metadata": {},
     "output_type": "display_data"
    },
    {
     "data": {
      "application/vnd.plotly.v1+json": {
       "data": [
        {
         "colorscale": "Jet",
         "type": "heatmap",
         "z": [
          [
           1.8241972526473675e-09,
           0.004685461267345479,
           0.702257920408761,
           0.7958619444862679,
           0.7220951403753119,
           0.9883050387797622
          ],
          [
           0.9996924349052931,
           8.76906441513334e-05,
           7.09097008945278e-08,
           1.2923346166362817e-07,
           1.2352893358115632e-05,
           1.0998732065793867e-06
          ],
          [
           0.0003066712923152173,
           0.995174944512099,
           0.0011582783529136044,
           6.0881235326803034e-06,
           1.110653403804312e-05,
           4.182300984444481e-06
          ],
          [
           1.6894048095569413e-09,
           5.105945953552261e-05,
           0.2962790773588992,
           0.002266190395083554,
           2.2880185880680793e-05,
           5.189927557518924e-06
          ],
          [
           2.9251869844292276e-09,
           6.314565095447365e-08,
           0.00030301810603671994,
           0.20114194453949183,
           0.003268170550385766,
           7.581942747295119e-05
          ],
          [
           3.932396085433438e-07,
           3.0742960402509456e-07,
           1.1443171649420817e-06,
           0.0007232148804254528,
           0.27458984086355354,
           0.011608152084910128
          ]
         ]
        }
       ],
       "layout": {
        "font": {
         "color": "#FFF"
        },
        "height": 300,
        "paper_bgcolor": "#000",
        "plot_bgcolor": "#000",
        "title": "3 Blobs:Confidence after 250000 Iters",
        "titlefont": {
         "color": "#FFF"
        },
        "width": 300,
        "xaxis": {
         "dtick": 1,
         "range": [
          -0.5,
          5.5
         ],
         "tickcolor": "#FFF",
         "title": "Glimpses"
        },
        "yaxis": {
         "dtick": 1,
         "range": [
          -0.5,
          5.5
         ],
         "tickcolor": "#FFF",
         "title": "Count Word"
        }
       }
      },
      "text/html": [
       "<div id=\"4283dfcf-6dad-4e17-ba4a-e0808be62e8f\" style=\"height: 300px; width: 300px;\" class=\"plotly-graph-div\"></div><script type=\"text/javascript\">require([\"plotly\"], function(Plotly) { window.PLOTLYENV=window.PLOTLYENV || {};window.PLOTLYENV.BASE_URL=\"https://plot.ly\";Plotly.newPlot(\"4283dfcf-6dad-4e17-ba4a-e0808be62e8f\", [{\"colorscale\": \"Jet\", \"type\": \"heatmap\", \"z\": [[1.8241972526473675e-09, 0.004685461267345479, 0.702257920408761, 0.7958619444862679, 0.7220951403753119, 0.9883050387797622], [0.9996924349052931, 8.76906441513334e-05, 7.09097008945278e-08, 1.2923346166362817e-07, 1.2352893358115632e-05, 1.0998732065793867e-06], [0.0003066712923152173, 0.995174944512099, 0.0011582783529136044, 6.0881235326803034e-06, 1.110653403804312e-05, 4.182300984444481e-06], [1.6894048095569413e-09, 5.105945953552261e-05, 0.2962790773588992, 0.002266190395083554, 2.2880185880680793e-05, 5.189927557518924e-06], [2.9251869844292276e-09, 6.314565095447365e-08, 0.00030301810603671994, 0.20114194453949183, 0.003268170550385766, 7.581942747295119e-05], [3.932396085433438e-07, 3.0742960402509456e-07, 1.1443171649420817e-06, 0.0007232148804254528, 0.27458984086355354, 0.011608152084910128]]}], {\"font\": {\"color\": \"#FFF\"}, \"height\": 300, \"plot_bgcolor\": \"#000\", \"xaxis\": {\"dtick\": 1, \"tickcolor\": \"#FFF\", \"title\": \"Glimpses\", \"range\": [-0.5, 5.5]}, \"paper_bgcolor\": \"#000\", \"titlefont\": {\"color\": \"#FFF\"}, \"width\": 300, \"yaxis\": {\"dtick\": 1, \"tickcolor\": \"#FFF\", \"title\": \"Count Word\", \"range\": [-0.5, 5.5]}, \"title\": \"3 Blobs:Confidence after 250000 Iters\"}, {\"linkText\": \"Export to plot.ly\", \"showLink\": true})});</script>"
      ],
      "text/vnd.plotly.v1+html": [
       "<div id=\"4283dfcf-6dad-4e17-ba4a-e0808be62e8f\" style=\"height: 300px; width: 300px;\" class=\"plotly-graph-div\"></div><script type=\"text/javascript\">require([\"plotly\"], function(Plotly) { window.PLOTLYENV=window.PLOTLYENV || {};window.PLOTLYENV.BASE_URL=\"https://plot.ly\";Plotly.newPlot(\"4283dfcf-6dad-4e17-ba4a-e0808be62e8f\", [{\"colorscale\": \"Jet\", \"type\": \"heatmap\", \"z\": [[1.8241972526473675e-09, 0.004685461267345479, 0.702257920408761, 0.7958619444862679, 0.7220951403753119, 0.9883050387797622], [0.9996924349052931, 8.76906441513334e-05, 7.09097008945278e-08, 1.2923346166362817e-07, 1.2352893358115632e-05, 1.0998732065793867e-06], [0.0003066712923152173, 0.995174944512099, 0.0011582783529136044, 6.0881235326803034e-06, 1.110653403804312e-05, 4.182300984444481e-06], [1.6894048095569413e-09, 5.105945953552261e-05, 0.2962790773588992, 0.002266190395083554, 2.2880185880680793e-05, 5.189927557518924e-06], [2.9251869844292276e-09, 6.314565095447365e-08, 0.00030301810603671994, 0.20114194453949183, 0.003268170550385766, 7.581942747295119e-05], [3.932396085433438e-07, 3.0742960402509456e-07, 1.1443171649420817e-06, 0.0007232148804254528, 0.27458984086355354, 0.011608152084910128]]}], {\"font\": {\"color\": \"#FFF\"}, \"height\": 300, \"plot_bgcolor\": \"#000\", \"xaxis\": {\"dtick\": 1, \"tickcolor\": \"#FFF\", \"title\": \"Glimpses\", \"range\": [-0.5, 5.5]}, \"paper_bgcolor\": \"#000\", \"titlefont\": {\"color\": \"#FFF\"}, \"width\": 300, \"yaxis\": {\"dtick\": 1, \"tickcolor\": \"#FFF\", \"title\": \"Count Word\", \"range\": [-0.5, 5.5]}, \"title\": \"3 Blobs:Confidence after 250000 Iters\"}, {\"linkText\": \"Export to plot.ly\", \"showLink\": true})});</script>"
      ]
     },
     "metadata": {},
     "output_type": "display_data"
    },
    {
     "data": {
      "application/vnd.plotly.v1+json": {
       "data": [
        {
         "colorscale": "Jet",
         "type": "heatmap",
         "z": [
          [
           9.03604329912207e-09,
           0.022443751437118777,
           0.5790617682905944,
           0.5943866637049526,
           0.7043832669996198,
           0.9962353287268008
          ],
          [
           0.9998084822983528,
           0.00019044389955854898,
           5.470191022278022e-08,
           1.363179654350684e-06,
           0.00011428344745723221,
           2.325157660738055e-06
          ],
          [
           0.00018952165333109927,
           0.9769689582485769,
           0.00033481541089333165,
           9.173634864672118e-06,
           5.546807608404685e-05,
           2.504969119090203e-05
          ],
          [
           2.5203298221508397e-09,
           0.0003918655109456157,
           0.42016094640443175,
           0.0008475933702365629,
           1.0805293130071706e-05,
           5.586945834964837e-06
          ],
          [
           5.785368042755046e-09,
           6.160535394623023e-07,
           0.00044091538551332266,
           0.404160595596313,
           0.0020709653089954387,
           5.37869900378393e-05
          ],
          [
           1.2152764498117151e-06,
           3.584057247027034e-06,
           7.350987699250498e-07,
           0.0005938818905353372,
           0.29336445506541414,
           0.003677150325340937
          ]
         ]
        }
       ],
       "layout": {
        "font": {
         "color": "#FFF"
        },
        "height": 300,
        "paper_bgcolor": "#000",
        "plot_bgcolor": "#000",
        "title": "3 Blobs:Confidence after 500000 Iters",
        "titlefont": {
         "color": "#FFF"
        },
        "width": 300,
        "xaxis": {
         "dtick": 1,
         "range": [
          -0.5,
          5.5
         ],
         "tickcolor": "#FFF",
         "title": "Glimpses"
        },
        "yaxis": {
         "dtick": 1,
         "range": [
          -0.5,
          5.5
         ],
         "tickcolor": "#FFF",
         "title": "Count Word"
        }
       }
      },
      "text/html": [
       "<div id=\"04fdbbdc-eb80-408e-90da-f0eee137dce0\" style=\"height: 300px; width: 300px;\" class=\"plotly-graph-div\"></div><script type=\"text/javascript\">require([\"plotly\"], function(Plotly) { window.PLOTLYENV=window.PLOTLYENV || {};window.PLOTLYENV.BASE_URL=\"https://plot.ly\";Plotly.newPlot(\"04fdbbdc-eb80-408e-90da-f0eee137dce0\", [{\"colorscale\": \"Jet\", \"type\": \"heatmap\", \"z\": [[9.03604329912207e-09, 0.022443751437118777, 0.5790617682905944, 0.5943866637049526, 0.7043832669996198, 0.9962353287268008], [0.9998084822983528, 0.00019044389955854898, 5.470191022278022e-08, 1.363179654350684e-06, 0.00011428344745723221, 2.325157660738055e-06], [0.00018952165333109927, 0.9769689582485769, 0.00033481541089333165, 9.173634864672118e-06, 5.546807608404685e-05, 2.504969119090203e-05], [2.5203298221508397e-09, 0.0003918655109456157, 0.42016094640443175, 0.0008475933702365629, 1.0805293130071706e-05, 5.586945834964837e-06], [5.785368042755046e-09, 6.160535394623023e-07, 0.00044091538551332266, 0.404160595596313, 0.0020709653089954387, 5.37869900378393e-05], [1.2152764498117151e-06, 3.584057247027034e-06, 7.350987699250498e-07, 0.0005938818905353372, 0.29336445506541414, 0.003677150325340937]]}], {\"font\": {\"color\": \"#FFF\"}, \"height\": 300, \"plot_bgcolor\": \"#000\", \"xaxis\": {\"dtick\": 1, \"tickcolor\": \"#FFF\", \"title\": \"Glimpses\", \"range\": [-0.5, 5.5]}, \"paper_bgcolor\": \"#000\", \"titlefont\": {\"color\": \"#FFF\"}, \"width\": 300, \"yaxis\": {\"dtick\": 1, \"tickcolor\": \"#FFF\", \"title\": \"Count Word\", \"range\": [-0.5, 5.5]}, \"title\": \"3 Blobs:Confidence after 500000 Iters\"}, {\"linkText\": \"Export to plot.ly\", \"showLink\": true})});</script>"
      ],
      "text/vnd.plotly.v1+html": [
       "<div id=\"04fdbbdc-eb80-408e-90da-f0eee137dce0\" style=\"height: 300px; width: 300px;\" class=\"plotly-graph-div\"></div><script type=\"text/javascript\">require([\"plotly\"], function(Plotly) { window.PLOTLYENV=window.PLOTLYENV || {};window.PLOTLYENV.BASE_URL=\"https://plot.ly\";Plotly.newPlot(\"04fdbbdc-eb80-408e-90da-f0eee137dce0\", [{\"colorscale\": \"Jet\", \"type\": \"heatmap\", \"z\": [[9.03604329912207e-09, 0.022443751437118777, 0.5790617682905944, 0.5943866637049526, 0.7043832669996198, 0.9962353287268008], [0.9998084822983528, 0.00019044389955854898, 5.470191022278022e-08, 1.363179654350684e-06, 0.00011428344745723221, 2.325157660738055e-06], [0.00018952165333109927, 0.9769689582485769, 0.00033481541089333165, 9.173634864672118e-06, 5.546807608404685e-05, 2.504969119090203e-05], [2.5203298221508397e-09, 0.0003918655109456157, 0.42016094640443175, 0.0008475933702365629, 1.0805293130071706e-05, 5.586945834964837e-06], [5.785368042755046e-09, 6.160535394623023e-07, 0.00044091538551332266, 0.404160595596313, 0.0020709653089954387, 5.37869900378393e-05], [1.2152764498117151e-06, 3.584057247027034e-06, 7.350987699250498e-07, 0.0005938818905353372, 0.29336445506541414, 0.003677150325340937]]}], {\"font\": {\"color\": \"#FFF\"}, \"height\": 300, \"plot_bgcolor\": \"#000\", \"xaxis\": {\"dtick\": 1, \"tickcolor\": \"#FFF\", \"title\": \"Glimpses\", \"range\": [-0.5, 5.5]}, \"paper_bgcolor\": \"#000\", \"titlefont\": {\"color\": \"#FFF\"}, \"width\": 300, \"yaxis\": {\"dtick\": 1, \"tickcolor\": \"#FFF\", \"title\": \"Count Word\", \"range\": [-0.5, 5.5]}, \"title\": \"3 Blobs:Confidence after 500000 Iters\"}, {\"linkText\": \"Export to plot.ly\", \"showLink\": true})});</script>"
      ]
     },
     "metadata": {},
     "output_type": "display_data"
    },
    {
     "data": {
      "application/vnd.plotly.v1+json": {
       "data": [
        {
         "colorscale": "Jet",
         "type": "heatmap",
         "z": [
          [
           3.655855195932395e-09,
           0.032966483630907505,
           0.5666642711047207,
           0.7617017278017001,
           0.7309828955963767,
           0.9970290604389731
          ],
          [
           0.9999022142197831,
           4.286082744860545e-05,
           8.145080996503745e-08,
           2.4082422630005376e-06,
           0.0002036887773866438,
           3.150914827863482e-06
          ],
          [
           9.636169323781883e-05,
           0.9669133313716994,
           0.0005483339178910688,
           1.2805886255204905e-05,
           9.365691487465069e-05,
           4.9068918750342344e-05
          ],
          [
           1.1357608555018064e-09,
           7.450166490610974e-05,
           0.4326559843181843,
           0.0005111468652361199,
           8.700254050673381e-06,
           4.037896089541958e-06
          ],
          [
           4.403291182540114e-09,
           1.6755436134869115e-07,
           0.00012999480132945654,
           0.2374050891524439,
           0.001313058616792956,
           2.5239139422892827e-05
          ],
          [
           9.99247805591274e-07,
           2.2197482382508352e-06,
           9.492232647566285e-07,
           0.0003664194595927649,
           0.2673975667311069,
           0.002889057043318412
          ]
         ]
        }
       ],
       "layout": {
        "font": {
         "color": "#FFF"
        },
        "height": 300,
        "paper_bgcolor": "#000",
        "plot_bgcolor": "#000",
        "title": "3 Blobs:Confidence after 600000 Iters",
        "titlefont": {
         "color": "#FFF"
        },
        "width": 300,
        "xaxis": {
         "dtick": 1,
         "range": [
          -0.5,
          5.5
         ],
         "tickcolor": "#FFF",
         "title": "Glimpses"
        },
        "yaxis": {
         "dtick": 1,
         "range": [
          -0.5,
          5.5
         ],
         "tickcolor": "#FFF",
         "title": "Count Word"
        }
       }
      },
      "text/html": [
       "<div id=\"a2436985-9bbf-4001-97b9-4ca6f9f72a5f\" style=\"height: 300px; width: 300px;\" class=\"plotly-graph-div\"></div><script type=\"text/javascript\">require([\"plotly\"], function(Plotly) { window.PLOTLYENV=window.PLOTLYENV || {};window.PLOTLYENV.BASE_URL=\"https://plot.ly\";Plotly.newPlot(\"a2436985-9bbf-4001-97b9-4ca6f9f72a5f\", [{\"colorscale\": \"Jet\", \"type\": \"heatmap\", \"z\": [[3.655855195932395e-09, 0.032966483630907505, 0.5666642711047207, 0.7617017278017001, 0.7309828955963767, 0.9970290604389731], [0.9999022142197831, 4.286082744860545e-05, 8.145080996503745e-08, 2.4082422630005376e-06, 0.0002036887773866438, 3.150914827863482e-06], [9.636169323781883e-05, 0.9669133313716994, 0.0005483339178910688, 1.2805886255204905e-05, 9.365691487465069e-05, 4.9068918750342344e-05], [1.1357608555018064e-09, 7.450166490610974e-05, 0.4326559843181843, 0.0005111468652361199, 8.700254050673381e-06, 4.037896089541958e-06], [4.403291182540114e-09, 1.6755436134869115e-07, 0.00012999480132945654, 0.2374050891524439, 0.001313058616792956, 2.5239139422892827e-05], [9.99247805591274e-07, 2.2197482382508352e-06, 9.492232647566285e-07, 0.0003664194595927649, 0.2673975667311069, 0.002889057043318412]]}], {\"font\": {\"color\": \"#FFF\"}, \"height\": 300, \"plot_bgcolor\": \"#000\", \"xaxis\": {\"dtick\": 1, \"tickcolor\": \"#FFF\", \"title\": \"Glimpses\", \"range\": [-0.5, 5.5]}, \"paper_bgcolor\": \"#000\", \"titlefont\": {\"color\": \"#FFF\"}, \"width\": 300, \"yaxis\": {\"dtick\": 1, \"tickcolor\": \"#FFF\", \"title\": \"Count Word\", \"range\": [-0.5, 5.5]}, \"title\": \"3 Blobs:Confidence after 600000 Iters\"}, {\"linkText\": \"Export to plot.ly\", \"showLink\": true})});</script>"
      ],
      "text/vnd.plotly.v1+html": [
       "<div id=\"a2436985-9bbf-4001-97b9-4ca6f9f72a5f\" style=\"height: 300px; width: 300px;\" class=\"plotly-graph-div\"></div><script type=\"text/javascript\">require([\"plotly\"], function(Plotly) { window.PLOTLYENV=window.PLOTLYENV || {};window.PLOTLYENV.BASE_URL=\"https://plot.ly\";Plotly.newPlot(\"a2436985-9bbf-4001-97b9-4ca6f9f72a5f\", [{\"colorscale\": \"Jet\", \"type\": \"heatmap\", \"z\": [[3.655855195932395e-09, 0.032966483630907505, 0.5666642711047207, 0.7617017278017001, 0.7309828955963767, 0.9970290604389731], [0.9999022142197831, 4.286082744860545e-05, 8.145080996503745e-08, 2.4082422630005376e-06, 0.0002036887773866438, 3.150914827863482e-06], [9.636169323781883e-05, 0.9669133313716994, 0.0005483339178910688, 1.2805886255204905e-05, 9.365691487465069e-05, 4.9068918750342344e-05], [1.1357608555018064e-09, 7.450166490610974e-05, 0.4326559843181843, 0.0005111468652361199, 8.700254050673381e-06, 4.037896089541958e-06], [4.403291182540114e-09, 1.6755436134869115e-07, 0.00012999480132945654, 0.2374050891524439, 0.001313058616792956, 2.5239139422892827e-05], [9.99247805591274e-07, 2.2197482382508352e-06, 9.492232647566285e-07, 0.0003664194595927649, 0.2673975667311069, 0.002889057043318412]]}], {\"font\": {\"color\": \"#FFF\"}, \"height\": 300, \"plot_bgcolor\": \"#000\", \"xaxis\": {\"dtick\": 1, \"tickcolor\": \"#FFF\", \"title\": \"Glimpses\", \"range\": [-0.5, 5.5]}, \"paper_bgcolor\": \"#000\", \"titlefont\": {\"color\": \"#FFF\"}, \"width\": 300, \"yaxis\": {\"dtick\": 1, \"tickcolor\": \"#FFF\", \"title\": \"Count Word\", \"range\": [-0.5, 5.5]}, \"title\": \"3 Blobs:Confidence after 600000 Iters\"}, {\"linkText\": \"Export to plot.ly\", \"showLink\": true})});</script>"
      ]
     },
     "metadata": {},
     "output_type": "display_data"
    },
    {
     "data": {
      "application/vnd.plotly.v1+json": {
       "data": [
        {
         "colorscale": "Jet",
         "type": "heatmap",
         "z": [
          [
           0.1673010210550936,
           0.1681569839428415,
           0.16908100040654028,
           0.16998963530176092,
           0.17084824403863208,
           0.17164150763352756
          ],
          [
           0.16700440521552612,
           0.167307010127405,
           0.1676399704806329,
           0.1679977102629215,
           0.16836401284505342,
           0.1687216799097045
          ],
          [
           0.16689900219200587,
           0.16716433335418396,
           0.1673799703557511,
           0.16752252613159166,
           0.16759489567814434,
           0.16761043162259065
          ],
          [
           0.16641057689413563,
           0.16610788317137157,
           0.16579318746213634,
           0.16548635002612497,
           0.16519921728174802,
           0.16493889767609804
          ],
          [
           0.16537376106950497,
           0.16406582587795737,
           0.16284338934281548,
           0.16175761666673483,
           0.16081770961109518,
           0.16001562453230153
          ],
          [
           0.16701083357389382,
           0.16719755756593851,
           0.1672620688392673,
           0.16724576637939578,
           0.16717552173757938,
           0.16707145385756805
          ]
         ]
        }
       ],
       "layout": {
        "font": {
         "color": "#FFF"
        },
        "height": 300,
        "paper_bgcolor": "#000",
        "plot_bgcolor": "#000",
        "title": "4 Blobs:Confidence after 0 Iters",
        "titlefont": {
         "color": "#FFF"
        },
        "width": 300,
        "xaxis": {
         "dtick": 1,
         "range": [
          -0.5,
          5.5
         ],
         "tickcolor": "#FFF",
         "title": "Glimpses"
        },
        "yaxis": {
         "dtick": 1,
         "range": [
          -0.5,
          5.5
         ],
         "tickcolor": "#FFF",
         "title": "Count Word"
        }
       }
      },
      "text/html": [
       "<div id=\"8a1176cd-c0e3-4701-9a82-097401651aeb\" style=\"height: 300px; width: 300px;\" class=\"plotly-graph-div\"></div><script type=\"text/javascript\">require([\"plotly\"], function(Plotly) { window.PLOTLYENV=window.PLOTLYENV || {};window.PLOTLYENV.BASE_URL=\"https://plot.ly\";Plotly.newPlot(\"8a1176cd-c0e3-4701-9a82-097401651aeb\", [{\"colorscale\": \"Jet\", \"type\": \"heatmap\", \"z\": [[0.1673010210550936, 0.1681569839428415, 0.16908100040654028, 0.16998963530176092, 0.17084824403863208, 0.17164150763352756], [0.16700440521552612, 0.167307010127405, 0.1676399704806329, 0.1679977102629215, 0.16836401284505342, 0.1687216799097045], [0.16689900219200587, 0.16716433335418396, 0.1673799703557511, 0.16752252613159166, 0.16759489567814434, 0.16761043162259065], [0.16641057689413563, 0.16610788317137157, 0.16579318746213634, 0.16548635002612497, 0.16519921728174802, 0.16493889767609804], [0.16537376106950497, 0.16406582587795737, 0.16284338934281548, 0.16175761666673483, 0.16081770961109518, 0.16001562453230153], [0.16701083357389382, 0.16719755756593851, 0.1672620688392673, 0.16724576637939578, 0.16717552173757938, 0.16707145385756805]]}], {\"font\": {\"color\": \"#FFF\"}, \"height\": 300, \"plot_bgcolor\": \"#000\", \"xaxis\": {\"dtick\": 1, \"tickcolor\": \"#FFF\", \"title\": \"Glimpses\", \"range\": [-0.5, 5.5]}, \"paper_bgcolor\": \"#000\", \"titlefont\": {\"color\": \"#FFF\"}, \"width\": 300, \"yaxis\": {\"dtick\": 1, \"tickcolor\": \"#FFF\", \"title\": \"Count Word\", \"range\": [-0.5, 5.5]}, \"title\": \"4 Blobs:Confidence after 0 Iters\"}, {\"linkText\": \"Export to plot.ly\", \"showLink\": true})});</script>"
      ],
      "text/vnd.plotly.v1+html": [
       "<div id=\"8a1176cd-c0e3-4701-9a82-097401651aeb\" style=\"height: 300px; width: 300px;\" class=\"plotly-graph-div\"></div><script type=\"text/javascript\">require([\"plotly\"], function(Plotly) { window.PLOTLYENV=window.PLOTLYENV || {};window.PLOTLYENV.BASE_URL=\"https://plot.ly\";Plotly.newPlot(\"8a1176cd-c0e3-4701-9a82-097401651aeb\", [{\"colorscale\": \"Jet\", \"type\": \"heatmap\", \"z\": [[0.1673010210550936, 0.1681569839428415, 0.16908100040654028, 0.16998963530176092, 0.17084824403863208, 0.17164150763352756], [0.16700440521552612, 0.167307010127405, 0.1676399704806329, 0.1679977102629215, 0.16836401284505342, 0.1687216799097045], [0.16689900219200587, 0.16716433335418396, 0.1673799703557511, 0.16752252613159166, 0.16759489567814434, 0.16761043162259065], [0.16641057689413563, 0.16610788317137157, 0.16579318746213634, 0.16548635002612497, 0.16519921728174802, 0.16493889767609804], [0.16537376106950497, 0.16406582587795737, 0.16284338934281548, 0.16175761666673483, 0.16081770961109518, 0.16001562453230153], [0.16701083357389382, 0.16719755756593851, 0.1672620688392673, 0.16724576637939578, 0.16717552173757938, 0.16707145385756805]]}], {\"font\": {\"color\": \"#FFF\"}, \"height\": 300, \"plot_bgcolor\": \"#000\", \"xaxis\": {\"dtick\": 1, \"tickcolor\": \"#FFF\", \"title\": \"Glimpses\", \"range\": [-0.5, 5.5]}, \"paper_bgcolor\": \"#000\", \"titlefont\": {\"color\": \"#FFF\"}, \"width\": 300, \"yaxis\": {\"dtick\": 1, \"tickcolor\": \"#FFF\", \"title\": \"Count Word\", \"range\": [-0.5, 5.5]}, \"title\": \"4 Blobs:Confidence after 0 Iters\"}, {\"linkText\": \"Export to plot.ly\", \"showLink\": true})});</script>"
      ]
     },
     "metadata": {},
     "output_type": "display_data"
    },
    {
     "data": {
      "application/vnd.plotly.v1+json": {
       "data": [
        {
         "colorscale": "Jet",
         "type": "heatmap",
         "z": [
          [
           0.16318268966456687,
           0.3306347601272895,
           0.5632274640718179,
           0.77070660972973,
           0.857019203969568,
           0.9115303672662011
          ],
          [
           0.33059425880009413,
           0.3662788486847128,
           0.2798513101626346,
           0.14923145872403823,
           0.0934089654410571,
           0.05632368762771261
          ],
          [
           0.1547739124010563,
           0.11296193428606768,
           0.06728287849812058,
           0.03670491516882649,
           0.023527530645623226,
           0.01547499651877543
          ],
          [
           0.12264098620524083,
           0.0774053870611149,
           0.04145025947072862,
           0.021781039831884848,
           0.013704682024934014,
           0.009096256845077623
          ],
          [
           0.11667082586834915,
           0.06458240657989532,
           0.030670185485681182,
           0.01478001377550689,
           0.008768775290542964,
           0.005541106719445147
          ],
          [
           0.11213660159962575,
           0.04813594352083028,
           0.017517171594633736,
           0.006795249016993364,
           0.0035701513101341607,
           0.002032848577111867
          ]
         ]
        }
       ],
       "layout": {
        "font": {
         "color": "#FFF"
        },
        "height": 300,
        "paper_bgcolor": "#000",
        "plot_bgcolor": "#000",
        "title": "4 Blobs:Confidence after 1000 Iters",
        "titlefont": {
         "color": "#FFF"
        },
        "width": 300,
        "xaxis": {
         "dtick": 1,
         "range": [
          -0.5,
          5.5
         ],
         "tickcolor": "#FFF",
         "title": "Glimpses"
        },
        "yaxis": {
         "dtick": 1,
         "range": [
          -0.5,
          5.5
         ],
         "tickcolor": "#FFF",
         "title": "Count Word"
        }
       }
      },
      "text/html": [
       "<div id=\"56d1dbeb-f278-451c-9b3b-793595cfc91d\" style=\"height: 300px; width: 300px;\" class=\"plotly-graph-div\"></div><script type=\"text/javascript\">require([\"plotly\"], function(Plotly) { window.PLOTLYENV=window.PLOTLYENV || {};window.PLOTLYENV.BASE_URL=\"https://plot.ly\";Plotly.newPlot(\"56d1dbeb-f278-451c-9b3b-793595cfc91d\", [{\"colorscale\": \"Jet\", \"type\": \"heatmap\", \"z\": [[0.16318268966456687, 0.3306347601272895, 0.5632274640718179, 0.77070660972973, 0.857019203969568, 0.9115303672662011], [0.33059425880009413, 0.3662788486847128, 0.2798513101626346, 0.14923145872403823, 0.0934089654410571, 0.05632368762771261], [0.1547739124010563, 0.11296193428606768, 0.06728287849812058, 0.03670491516882649, 0.023527530645623226, 0.01547499651877543], [0.12264098620524083, 0.0774053870611149, 0.04145025947072862, 0.021781039831884848, 0.013704682024934014, 0.009096256845077623], [0.11667082586834915, 0.06458240657989532, 0.030670185485681182, 0.01478001377550689, 0.008768775290542964, 0.005541106719445147], [0.11213660159962575, 0.04813594352083028, 0.017517171594633736, 0.006795249016993364, 0.0035701513101341607, 0.002032848577111867]]}], {\"font\": {\"color\": \"#FFF\"}, \"height\": 300, \"plot_bgcolor\": \"#000\", \"xaxis\": {\"dtick\": 1, \"tickcolor\": \"#FFF\", \"title\": \"Glimpses\", \"range\": [-0.5, 5.5]}, \"paper_bgcolor\": \"#000\", \"titlefont\": {\"color\": \"#FFF\"}, \"width\": 300, \"yaxis\": {\"dtick\": 1, \"tickcolor\": \"#FFF\", \"title\": \"Count Word\", \"range\": [-0.5, 5.5]}, \"title\": \"4 Blobs:Confidence after 1000 Iters\"}, {\"linkText\": \"Export to plot.ly\", \"showLink\": true})});</script>"
      ],
      "text/vnd.plotly.v1+html": [
       "<div id=\"56d1dbeb-f278-451c-9b3b-793595cfc91d\" style=\"height: 300px; width: 300px;\" class=\"plotly-graph-div\"></div><script type=\"text/javascript\">require([\"plotly\"], function(Plotly) { window.PLOTLYENV=window.PLOTLYENV || {};window.PLOTLYENV.BASE_URL=\"https://plot.ly\";Plotly.newPlot(\"56d1dbeb-f278-451c-9b3b-793595cfc91d\", [{\"colorscale\": \"Jet\", \"type\": \"heatmap\", \"z\": [[0.16318268966456687, 0.3306347601272895, 0.5632274640718179, 0.77070660972973, 0.857019203969568, 0.9115303672662011], [0.33059425880009413, 0.3662788486847128, 0.2798513101626346, 0.14923145872403823, 0.0934089654410571, 0.05632368762771261], [0.1547739124010563, 0.11296193428606768, 0.06728287849812058, 0.03670491516882649, 0.023527530645623226, 0.01547499651877543], [0.12264098620524083, 0.0774053870611149, 0.04145025947072862, 0.021781039831884848, 0.013704682024934014, 0.009096256845077623], [0.11667082586834915, 0.06458240657989532, 0.030670185485681182, 0.01478001377550689, 0.008768775290542964, 0.005541106719445147], [0.11213660159962575, 0.04813594352083028, 0.017517171594633736, 0.006795249016993364, 0.0035701513101341607, 0.002032848577111867]]}], {\"font\": {\"color\": \"#FFF\"}, \"height\": 300, \"plot_bgcolor\": \"#000\", \"xaxis\": {\"dtick\": 1, \"tickcolor\": \"#FFF\", \"title\": \"Glimpses\", \"range\": [-0.5, 5.5]}, \"paper_bgcolor\": \"#000\", \"titlefont\": {\"color\": \"#FFF\"}, \"width\": 300, \"yaxis\": {\"dtick\": 1, \"tickcolor\": \"#FFF\", \"title\": \"Count Word\", \"range\": [-0.5, 5.5]}, \"title\": \"4 Blobs:Confidence after 1000 Iters\"}, {\"linkText\": \"Export to plot.ly\", \"showLink\": true})});</script>"
      ]
     },
     "metadata": {},
     "output_type": "display_data"
    },
    {
     "data": {
      "application/vnd.plotly.v1+json": {
       "data": [
        {
         "colorscale": "Jet",
         "type": "heatmap",
         "z": [
          [
           0.007667500815934496,
           0.024967617865663833,
           0.1743201771138996,
           0.46366782262944195,
           0.6673573546849273,
           0.8245439487522549
          ],
          [
           0.908922473092184,
           0.5371401792539794,
           0.15609118465024732,
           0.0035180210182979305,
           2.0473961579573574e-05,
           3.1368573704466796e-07
          ],
          [
           0.0567035884424777,
           0.37570057005208995,
           0.476477482594451,
           0.28982709176668303,
           0.08489414906269015,
           0.002623389155840375
          ],
          [
           0.010232316005648726,
           0.03792666429484866,
           0.14014564399154592,
           0.16535132792796134,
           0.1570133540427385,
           0.08214387601471101
          ],
          [
           0.007830919914346467,
           0.01229168601598916,
           0.031847197380765975,
           0.05178119997070411,
           0.06288999989255126,
           0.06473358764305295
          ],
          [
           0.00864266440959047,
           0.011972733059788106,
           0.021117795601849704,
           0.025854004762416692,
           0.027824158350906413,
           0.02595433761009956
          ]
         ]
        }
       ],
       "layout": {
        "font": {
         "color": "#FFF"
        },
        "height": 300,
        "paper_bgcolor": "#000",
        "plot_bgcolor": "#000",
        "title": "4 Blobs:Confidence after 4000 Iters",
        "titlefont": {
         "color": "#FFF"
        },
        "width": 300,
        "xaxis": {
         "dtick": 1,
         "range": [
          -0.5,
          5.5
         ],
         "tickcolor": "#FFF",
         "title": "Glimpses"
        },
        "yaxis": {
         "dtick": 1,
         "range": [
          -0.5,
          5.5
         ],
         "tickcolor": "#FFF",
         "title": "Count Word"
        }
       }
      },
      "text/html": [
       "<div id=\"21b8dcc8-227b-4e46-a388-b67afe47a0fa\" style=\"height: 300px; width: 300px;\" class=\"plotly-graph-div\"></div><script type=\"text/javascript\">require([\"plotly\"], function(Plotly) { window.PLOTLYENV=window.PLOTLYENV || {};window.PLOTLYENV.BASE_URL=\"https://plot.ly\";Plotly.newPlot(\"21b8dcc8-227b-4e46-a388-b67afe47a0fa\", [{\"colorscale\": \"Jet\", \"type\": \"heatmap\", \"z\": [[0.007667500815934496, 0.024967617865663833, 0.1743201771138996, 0.46366782262944195, 0.6673573546849273, 0.8245439487522549], [0.908922473092184, 0.5371401792539794, 0.15609118465024732, 0.0035180210182979305, 2.0473961579573574e-05, 3.1368573704466796e-07], [0.0567035884424777, 0.37570057005208995, 0.476477482594451, 0.28982709176668303, 0.08489414906269015, 0.002623389155840375], [0.010232316005648726, 0.03792666429484866, 0.14014564399154592, 0.16535132792796134, 0.1570133540427385, 0.08214387601471101], [0.007830919914346467, 0.01229168601598916, 0.031847197380765975, 0.05178119997070411, 0.06288999989255126, 0.06473358764305295], [0.00864266440959047, 0.011972733059788106, 0.021117795601849704, 0.025854004762416692, 0.027824158350906413, 0.02595433761009956]]}], {\"font\": {\"color\": \"#FFF\"}, \"height\": 300, \"plot_bgcolor\": \"#000\", \"xaxis\": {\"dtick\": 1, \"tickcolor\": \"#FFF\", \"title\": \"Glimpses\", \"range\": [-0.5, 5.5]}, \"paper_bgcolor\": \"#000\", \"titlefont\": {\"color\": \"#FFF\"}, \"width\": 300, \"yaxis\": {\"dtick\": 1, \"tickcolor\": \"#FFF\", \"title\": \"Count Word\", \"range\": [-0.5, 5.5]}, \"title\": \"4 Blobs:Confidence after 4000 Iters\"}, {\"linkText\": \"Export to plot.ly\", \"showLink\": true})});</script>"
      ],
      "text/vnd.plotly.v1+html": [
       "<div id=\"21b8dcc8-227b-4e46-a388-b67afe47a0fa\" style=\"height: 300px; width: 300px;\" class=\"plotly-graph-div\"></div><script type=\"text/javascript\">require([\"plotly\"], function(Plotly) { window.PLOTLYENV=window.PLOTLYENV || {};window.PLOTLYENV.BASE_URL=\"https://plot.ly\";Plotly.newPlot(\"21b8dcc8-227b-4e46-a388-b67afe47a0fa\", [{\"colorscale\": \"Jet\", \"type\": \"heatmap\", \"z\": [[0.007667500815934496, 0.024967617865663833, 0.1743201771138996, 0.46366782262944195, 0.6673573546849273, 0.8245439487522549], [0.908922473092184, 0.5371401792539794, 0.15609118465024732, 0.0035180210182979305, 2.0473961579573574e-05, 3.1368573704466796e-07], [0.0567035884424777, 0.37570057005208995, 0.476477482594451, 0.28982709176668303, 0.08489414906269015, 0.002623389155840375], [0.010232316005648726, 0.03792666429484866, 0.14014564399154592, 0.16535132792796134, 0.1570133540427385, 0.08214387601471101], [0.007830919914346467, 0.01229168601598916, 0.031847197380765975, 0.05178119997070411, 0.06288999989255126, 0.06473358764305295], [0.00864266440959047, 0.011972733059788106, 0.021117795601849704, 0.025854004762416692, 0.027824158350906413, 0.02595433761009956]]}], {\"font\": {\"color\": \"#FFF\"}, \"height\": 300, \"plot_bgcolor\": \"#000\", \"xaxis\": {\"dtick\": 1, \"tickcolor\": \"#FFF\", \"title\": \"Glimpses\", \"range\": [-0.5, 5.5]}, \"paper_bgcolor\": \"#000\", \"titlefont\": {\"color\": \"#FFF\"}, \"width\": 300, \"yaxis\": {\"dtick\": 1, \"tickcolor\": \"#FFF\", \"title\": \"Count Word\", \"range\": [-0.5, 5.5]}, \"title\": \"4 Blobs:Confidence after 4000 Iters\"}, {\"linkText\": \"Export to plot.ly\", \"showLink\": true})});</script>"
      ]
     },
     "metadata": {},
     "output_type": "display_data"
    },
    {
     "data": {
      "application/vnd.plotly.v1+json": {
       "data": [
        {
         "colorscale": "Jet",
         "type": "heatmap",
         "z": [
          [
           2.5908201684773493e-05,
           0.005381376640278469,
           0.16268094875244982,
           0.321344453527259,
           0.48036321027789186,
           0.5612272897572435
          ],
          [
           0.9874808328032736,
           0.009370852069179047,
           1.1108411570261146e-06,
           1.3499752941540282e-08,
           1.2668969282306899e-08,
           1.1995382298872495e-08
          ],
          [
           0.012465750475072129,
           0.9706077361076869,
           0.04877857331426996,
           0.00012585427957758323,
           8.783448668890722e-06,
           4.261513590272087e-06
          ],
          [
           2.300033967930084e-05,
           0.014509971680039513,
           0.7245873602892645,
           0.07945554364534371,
           0.0073811134787128115,
           0.0031182342585477484
          ],
          [
           1.964995786768828e-06,
           0.00010210585329783644,
           0.06185224612422701,
           0.5365681647589332,
           0.2873452236510301,
           0.14407805416996117
          ],
          [
           2.008256460265076e-06,
           2.743247369772076e-05,
           0.0020992378669131666,
           0.06250544729852707,
           0.22490114057644373,
           0.2915716299333003
          ]
         ]
        }
       ],
       "layout": {
        "font": {
         "color": "#FFF"
        },
        "height": 300,
        "paper_bgcolor": "#000",
        "plot_bgcolor": "#000",
        "title": "4 Blobs:Confidence after 16000 Iters",
        "titlefont": {
         "color": "#FFF"
        },
        "width": 300,
        "xaxis": {
         "dtick": 1,
         "range": [
          -0.5,
          5.5
         ],
         "tickcolor": "#FFF",
         "title": "Glimpses"
        },
        "yaxis": {
         "dtick": 1,
         "range": [
          -0.5,
          5.5
         ],
         "tickcolor": "#FFF",
         "title": "Count Word"
        }
       }
      },
      "text/html": [
       "<div id=\"71e1fbfe-3708-420e-a0fa-7b4ed8f2041b\" style=\"height: 300px; width: 300px;\" class=\"plotly-graph-div\"></div><script type=\"text/javascript\">require([\"plotly\"], function(Plotly) { window.PLOTLYENV=window.PLOTLYENV || {};window.PLOTLYENV.BASE_URL=\"https://plot.ly\";Plotly.newPlot(\"71e1fbfe-3708-420e-a0fa-7b4ed8f2041b\", [{\"colorscale\": \"Jet\", \"type\": \"heatmap\", \"z\": [[2.5908201684773493e-05, 0.005381376640278469, 0.16268094875244982, 0.321344453527259, 0.48036321027789186, 0.5612272897572435], [0.9874808328032736, 0.009370852069179047, 1.1108411570261146e-06, 1.3499752941540282e-08, 1.2668969282306899e-08, 1.1995382298872495e-08], [0.012465750475072129, 0.9706077361076869, 0.04877857331426996, 0.00012585427957758323, 8.783448668890722e-06, 4.261513590272087e-06], [2.300033967930084e-05, 0.014509971680039513, 0.7245873602892645, 0.07945554364534371, 0.0073811134787128115, 0.0031182342585477484], [1.964995786768828e-06, 0.00010210585329783644, 0.06185224612422701, 0.5365681647589332, 0.2873452236510301, 0.14407805416996117], [2.008256460265076e-06, 2.743247369772076e-05, 0.0020992378669131666, 0.06250544729852707, 0.22490114057644373, 0.2915716299333003]]}], {\"font\": {\"color\": \"#FFF\"}, \"height\": 300, \"plot_bgcolor\": \"#000\", \"xaxis\": {\"dtick\": 1, \"tickcolor\": \"#FFF\", \"title\": \"Glimpses\", \"range\": [-0.5, 5.5]}, \"paper_bgcolor\": \"#000\", \"titlefont\": {\"color\": \"#FFF\"}, \"width\": 300, \"yaxis\": {\"dtick\": 1, \"tickcolor\": \"#FFF\", \"title\": \"Count Word\", \"range\": [-0.5, 5.5]}, \"title\": \"4 Blobs:Confidence after 16000 Iters\"}, {\"linkText\": \"Export to plot.ly\", \"showLink\": true})});</script>"
      ],
      "text/vnd.plotly.v1+html": [
       "<div id=\"71e1fbfe-3708-420e-a0fa-7b4ed8f2041b\" style=\"height: 300px; width: 300px;\" class=\"plotly-graph-div\"></div><script type=\"text/javascript\">require([\"plotly\"], function(Plotly) { window.PLOTLYENV=window.PLOTLYENV || {};window.PLOTLYENV.BASE_URL=\"https://plot.ly\";Plotly.newPlot(\"71e1fbfe-3708-420e-a0fa-7b4ed8f2041b\", [{\"colorscale\": \"Jet\", \"type\": \"heatmap\", \"z\": [[2.5908201684773493e-05, 0.005381376640278469, 0.16268094875244982, 0.321344453527259, 0.48036321027789186, 0.5612272897572435], [0.9874808328032736, 0.009370852069179047, 1.1108411570261146e-06, 1.3499752941540282e-08, 1.2668969282306899e-08, 1.1995382298872495e-08], [0.012465750475072129, 0.9706077361076869, 0.04877857331426996, 0.00012585427957758323, 8.783448668890722e-06, 4.261513590272087e-06], [2.300033967930084e-05, 0.014509971680039513, 0.7245873602892645, 0.07945554364534371, 0.0073811134787128115, 0.0031182342585477484], [1.964995786768828e-06, 0.00010210585329783644, 0.06185224612422701, 0.5365681647589332, 0.2873452236510301, 0.14407805416996117], [2.008256460265076e-06, 2.743247369772076e-05, 0.0020992378669131666, 0.06250544729852707, 0.22490114057644373, 0.2915716299333003]]}], {\"font\": {\"color\": \"#FFF\"}, \"height\": 300, \"plot_bgcolor\": \"#000\", \"xaxis\": {\"dtick\": 1, \"tickcolor\": \"#FFF\", \"title\": \"Glimpses\", \"range\": [-0.5, 5.5]}, \"paper_bgcolor\": \"#000\", \"titlefont\": {\"color\": \"#FFF\"}, \"width\": 300, \"yaxis\": {\"dtick\": 1, \"tickcolor\": \"#FFF\", \"title\": \"Count Word\", \"range\": [-0.5, 5.5]}, \"title\": \"4 Blobs:Confidence after 16000 Iters\"}, {\"linkText\": \"Export to plot.ly\", \"showLink\": true})});</script>"
      ]
     },
     "metadata": {},
     "output_type": "display_data"
    },
    {
     "data": {
      "application/vnd.plotly.v1+json": {
       "data": [
        {
         "colorscale": "Jet",
         "type": "heatmap",
         "z": [
          [
           1.510510540966096e-05,
           0.0012721898230711292,
           0.19891282648555147,
           0.526480980327484,
           0.792658994230958,
           0.8603497091705107
          ],
          [
           0.9896180271378661,
           0.0008585651634339664,
           1.9080237875912314e-07,
           4.961093008157691e-09,
           1.567720396133066e-08,
           2.342751261358193e-08
          ],
          [
           0.010345486157245495,
           0.9949810125109825,
           0.026568755739188103,
           2.04812706599495e-05,
           1.801336059328626e-06,
           1.5301331491539934e-06
          ],
          [
           1.67592987137891e-05,
           0.002881878025124607,
           0.7687880266160302,
           0.019936420980256414,
           0.00039820540018573676,
           0.0001059948505489699
          ],
          [
           1.4614468964272034e-06,
           4.306716776578406e-06,
           0.005664086055283959,
           0.4396235865197213,
           0.0507672599289826,
           0.007060061253352818
          ],
          [
           2.7535392612031735e-06,
           1.6355209658652458e-06,
           6.57155798562438e-05,
           0.01393813631834093,
           0.15617335927118822,
           0.13248229509153173
          ]
         ]
        }
       ],
       "layout": {
        "font": {
         "color": "#FFF"
        },
        "height": 300,
        "paper_bgcolor": "#000",
        "plot_bgcolor": "#000",
        "title": "4 Blobs:Confidence after 32000 Iters",
        "titlefont": {
         "color": "#FFF"
        },
        "width": 300,
        "xaxis": {
         "dtick": 1,
         "range": [
          -0.5,
          5.5
         ],
         "tickcolor": "#FFF",
         "title": "Glimpses"
        },
        "yaxis": {
         "dtick": 1,
         "range": [
          -0.5,
          5.5
         ],
         "tickcolor": "#FFF",
         "title": "Count Word"
        }
       }
      },
      "text/html": [
       "<div id=\"744918a7-2d63-45fa-ae36-aefc9c6c3587\" style=\"height: 300px; width: 300px;\" class=\"plotly-graph-div\"></div><script type=\"text/javascript\">require([\"plotly\"], function(Plotly) { window.PLOTLYENV=window.PLOTLYENV || {};window.PLOTLYENV.BASE_URL=\"https://plot.ly\";Plotly.newPlot(\"744918a7-2d63-45fa-ae36-aefc9c6c3587\", [{\"colorscale\": \"Jet\", \"type\": \"heatmap\", \"z\": [[1.510510540966096e-05, 0.0012721898230711292, 0.19891282648555147, 0.526480980327484, 0.792658994230958, 0.8603497091705107], [0.9896180271378661, 0.0008585651634339664, 1.9080237875912314e-07, 4.961093008157691e-09, 1.567720396133066e-08, 2.342751261358193e-08], [0.010345486157245495, 0.9949810125109825, 0.026568755739188103, 2.04812706599495e-05, 1.801336059328626e-06, 1.5301331491539934e-06], [1.67592987137891e-05, 0.002881878025124607, 0.7687880266160302, 0.019936420980256414, 0.00039820540018573676, 0.0001059948505489699], [1.4614468964272034e-06, 4.306716776578406e-06, 0.005664086055283959, 0.4396235865197213, 0.0507672599289826, 0.007060061253352818], [2.7535392612031735e-06, 1.6355209658652458e-06, 6.57155798562438e-05, 0.01393813631834093, 0.15617335927118822, 0.13248229509153173]]}], {\"font\": {\"color\": \"#FFF\"}, \"height\": 300, \"plot_bgcolor\": \"#000\", \"xaxis\": {\"dtick\": 1, \"tickcolor\": \"#FFF\", \"title\": \"Glimpses\", \"range\": [-0.5, 5.5]}, \"paper_bgcolor\": \"#000\", \"titlefont\": {\"color\": \"#FFF\"}, \"width\": 300, \"yaxis\": {\"dtick\": 1, \"tickcolor\": \"#FFF\", \"title\": \"Count Word\", \"range\": [-0.5, 5.5]}, \"title\": \"4 Blobs:Confidence after 32000 Iters\"}, {\"linkText\": \"Export to plot.ly\", \"showLink\": true})});</script>"
      ],
      "text/vnd.plotly.v1+html": [
       "<div id=\"744918a7-2d63-45fa-ae36-aefc9c6c3587\" style=\"height: 300px; width: 300px;\" class=\"plotly-graph-div\"></div><script type=\"text/javascript\">require([\"plotly\"], function(Plotly) { window.PLOTLYENV=window.PLOTLYENV || {};window.PLOTLYENV.BASE_URL=\"https://plot.ly\";Plotly.newPlot(\"744918a7-2d63-45fa-ae36-aefc9c6c3587\", [{\"colorscale\": \"Jet\", \"type\": \"heatmap\", \"z\": [[1.510510540966096e-05, 0.0012721898230711292, 0.19891282648555147, 0.526480980327484, 0.792658994230958, 0.8603497091705107], [0.9896180271378661, 0.0008585651634339664, 1.9080237875912314e-07, 4.961093008157691e-09, 1.567720396133066e-08, 2.342751261358193e-08], [0.010345486157245495, 0.9949810125109825, 0.026568755739188103, 2.04812706599495e-05, 1.801336059328626e-06, 1.5301331491539934e-06], [1.67592987137891e-05, 0.002881878025124607, 0.7687880266160302, 0.019936420980256414, 0.00039820540018573676, 0.0001059948505489699], [1.4614468964272034e-06, 4.306716776578406e-06, 0.005664086055283959, 0.4396235865197213, 0.0507672599289826, 0.007060061253352818], [2.7535392612031735e-06, 1.6355209658652458e-06, 6.57155798562438e-05, 0.01393813631834093, 0.15617335927118822, 0.13248229509153173]]}], {\"font\": {\"color\": \"#FFF\"}, \"height\": 300, \"plot_bgcolor\": \"#000\", \"xaxis\": {\"dtick\": 1, \"tickcolor\": \"#FFF\", \"title\": \"Glimpses\", \"range\": [-0.5, 5.5]}, \"paper_bgcolor\": \"#000\", \"titlefont\": {\"color\": \"#FFF\"}, \"width\": 300, \"yaxis\": {\"dtick\": 1, \"tickcolor\": \"#FFF\", \"title\": \"Count Word\", \"range\": [-0.5, 5.5]}, \"title\": \"4 Blobs:Confidence after 32000 Iters\"}, {\"linkText\": \"Export to plot.ly\", \"showLink\": true})});</script>"
      ]
     },
     "metadata": {},
     "output_type": "display_data"
    },
    {
     "data": {
      "application/vnd.plotly.v1+json": {
       "data": [
        {
         "colorscale": "Jet",
         "type": "heatmap",
         "z": [
          [
           1.277844597777608e-06,
           0.0026250401053291277,
           0.1907896676520684,
           0.3420077019950718,
           0.5162375532577786,
           0.9281443068823048
          ],
          [
           0.9981854145138692,
           0.0003720417657029897,
           3.0399479365008404e-08,
           9.497867125551792e-09,
           1.0126629754218829e-06,
           5.104529806650803e-07
          ],
          [
           0.0018119576487614097,
           0.9916783724360249,
           0.0019027451865286633,
           6.597366385357795e-06,
           2.460326777429398e-06,
           4.108482715449141e-06
          ],
          [
           5.436726615960636e-07,
           0.005320551184110379,
           0.802472768119343,
           0.005841910749723564,
           4.7964758102146004e-05,
           1.2760099768215157e-05
          ],
          [
           2.8253878613979753e-08,
           2.6661135607492517e-06,
           0.004822196036477072,
           0.6406533139156293,
           0.01785382060831107,
           0.0007797647753854322
          ],
          [
           2.0547813162183201e-07,
           7.948281280074557e-07,
           1.2034507218292058e-05,
           0.01148990850212916,
           0.46585662445170306,
           0.07105797927727081
          ]
         ]
        }
       ],
       "layout": {
        "font": {
         "color": "#FFF"
        },
        "height": 300,
        "paper_bgcolor": "#000",
        "plot_bgcolor": "#000",
        "title": "4 Blobs:Confidence after 64000 Iters",
        "titlefont": {
         "color": "#FFF"
        },
        "width": 300,
        "xaxis": {
         "dtick": 1,
         "range": [
          -0.5,
          5.5
         ],
         "tickcolor": "#FFF",
         "title": "Glimpses"
        },
        "yaxis": {
         "dtick": 1,
         "range": [
          -0.5,
          5.5
         ],
         "tickcolor": "#FFF",
         "title": "Count Word"
        }
       }
      },
      "text/html": [
       "<div id=\"ad99acf4-d292-4a12-85ba-adb747e5f2aa\" style=\"height: 300px; width: 300px;\" class=\"plotly-graph-div\"></div><script type=\"text/javascript\">require([\"plotly\"], function(Plotly) { window.PLOTLYENV=window.PLOTLYENV || {};window.PLOTLYENV.BASE_URL=\"https://plot.ly\";Plotly.newPlot(\"ad99acf4-d292-4a12-85ba-adb747e5f2aa\", [{\"colorscale\": \"Jet\", \"type\": \"heatmap\", \"z\": [[1.277844597777608e-06, 0.0026250401053291277, 0.1907896676520684, 0.3420077019950718, 0.5162375532577786, 0.9281443068823048], [0.9981854145138692, 0.0003720417657029897, 3.0399479365008404e-08, 9.497867125551792e-09, 1.0126629754218829e-06, 5.104529806650803e-07], [0.0018119576487614097, 0.9916783724360249, 0.0019027451865286633, 6.597366385357795e-06, 2.460326777429398e-06, 4.108482715449141e-06], [5.436726615960636e-07, 0.005320551184110379, 0.802472768119343, 0.005841910749723564, 4.7964758102146004e-05, 1.2760099768215157e-05], [2.8253878613979753e-08, 2.6661135607492517e-06, 0.004822196036477072, 0.6406533139156293, 0.01785382060831107, 0.0007797647753854322], [2.0547813162183201e-07, 7.948281280074557e-07, 1.2034507218292058e-05, 0.01148990850212916, 0.46585662445170306, 0.07105797927727081]]}], {\"font\": {\"color\": \"#FFF\"}, \"height\": 300, \"plot_bgcolor\": \"#000\", \"xaxis\": {\"dtick\": 1, \"tickcolor\": \"#FFF\", \"title\": \"Glimpses\", \"range\": [-0.5, 5.5]}, \"paper_bgcolor\": \"#000\", \"titlefont\": {\"color\": \"#FFF\"}, \"width\": 300, \"yaxis\": {\"dtick\": 1, \"tickcolor\": \"#FFF\", \"title\": \"Count Word\", \"range\": [-0.5, 5.5]}, \"title\": \"4 Blobs:Confidence after 64000 Iters\"}, {\"linkText\": \"Export to plot.ly\", \"showLink\": true})});</script>"
      ],
      "text/vnd.plotly.v1+html": [
       "<div id=\"ad99acf4-d292-4a12-85ba-adb747e5f2aa\" style=\"height: 300px; width: 300px;\" class=\"plotly-graph-div\"></div><script type=\"text/javascript\">require([\"plotly\"], function(Plotly) { window.PLOTLYENV=window.PLOTLYENV || {};window.PLOTLYENV.BASE_URL=\"https://plot.ly\";Plotly.newPlot(\"ad99acf4-d292-4a12-85ba-adb747e5f2aa\", [{\"colorscale\": \"Jet\", \"type\": \"heatmap\", \"z\": [[1.277844597777608e-06, 0.0026250401053291277, 0.1907896676520684, 0.3420077019950718, 0.5162375532577786, 0.9281443068823048], [0.9981854145138692, 0.0003720417657029897, 3.0399479365008404e-08, 9.497867125551792e-09, 1.0126629754218829e-06, 5.104529806650803e-07], [0.0018119576487614097, 0.9916783724360249, 0.0019027451865286633, 6.597366385357795e-06, 2.460326777429398e-06, 4.108482715449141e-06], [5.436726615960636e-07, 0.005320551184110379, 0.802472768119343, 0.005841910749723564, 4.7964758102146004e-05, 1.2760099768215157e-05], [2.8253878613979753e-08, 2.6661135607492517e-06, 0.004822196036477072, 0.6406533139156293, 0.01785382060831107, 0.0007797647753854322], [2.0547813162183201e-07, 7.948281280074557e-07, 1.2034507218292058e-05, 0.01148990850212916, 0.46585662445170306, 0.07105797927727081]]}], {\"font\": {\"color\": \"#FFF\"}, \"height\": 300, \"plot_bgcolor\": \"#000\", \"xaxis\": {\"dtick\": 1, \"tickcolor\": \"#FFF\", \"title\": \"Glimpses\", \"range\": [-0.5, 5.5]}, \"paper_bgcolor\": \"#000\", \"titlefont\": {\"color\": \"#FFF\"}, \"width\": 300, \"yaxis\": {\"dtick\": 1, \"tickcolor\": \"#FFF\", \"title\": \"Count Word\", \"range\": [-0.5, 5.5]}, \"title\": \"4 Blobs:Confidence after 64000 Iters\"}, {\"linkText\": \"Export to plot.ly\", \"showLink\": true})});</script>"
      ]
     },
     "metadata": {},
     "output_type": "display_data"
    },
    {
     "data": {
      "application/vnd.plotly.v1+json": {
       "data": [
        {
         "colorscale": "Jet",
         "type": "heatmap",
         "z": [
          [
           2.734519378269566e-08,
           0.0008600582704934431,
           0.11638910033981963,
           0.46527884691641797,
           0.6244715647066262,
           0.9873266345041912
          ],
          [
           0.9994402130013581,
           0.0007526029392603944,
           3.8032354931702497e-07,
           1.3132327622185943e-08,
           5.834929369926448e-07,
           9.637542158265168e-08
          ],
          [
           0.0005590434519292695,
           0.9956804288645975,
           0.0036776002496229487,
           7.492897317133767e-06,
           2.1893907445697885e-06,
           1.0698483158588128e-06
          ],
          [
           1.0156305582662834e-08,
           0.0026991826881710775,
           0.8771893878729704,
           0.0053290556769760074,
           1.9945841909995407e-05,
           2.5007639694541336e-06
          ],
          [
           3.0771436359790333e-09,
           4.238355435080005e-06,
           0.002729799545792081,
           0.5254277804786204,
           0.006658837664946623,
           9.605325521325142e-05
          ],
          [
           1.0334545621679707e-07,
           2.839357735577525e-06,
           1.3096377721172084e-05,
           0.003956201145519366,
           0.3688462567249939,
           0.012573039857554978
          ]
         ]
        }
       ],
       "layout": {
        "font": {
         "color": "#FFF"
        },
        "height": 300,
        "paper_bgcolor": "#000",
        "plot_bgcolor": "#000",
        "title": "4 Blobs:Confidence after 125000 Iters",
        "titlefont": {
         "color": "#FFF"
        },
        "width": 300,
        "xaxis": {
         "dtick": 1,
         "range": [
          -0.5,
          5.5
         ],
         "tickcolor": "#FFF",
         "title": "Glimpses"
        },
        "yaxis": {
         "dtick": 1,
         "range": [
          -0.5,
          5.5
         ],
         "tickcolor": "#FFF",
         "title": "Count Word"
        }
       }
      },
      "text/html": [
       "<div id=\"c1c80214-eb55-465a-995c-e5953928fa7c\" style=\"height: 300px; width: 300px;\" class=\"plotly-graph-div\"></div><script type=\"text/javascript\">require([\"plotly\"], function(Plotly) { window.PLOTLYENV=window.PLOTLYENV || {};window.PLOTLYENV.BASE_URL=\"https://plot.ly\";Plotly.newPlot(\"c1c80214-eb55-465a-995c-e5953928fa7c\", [{\"colorscale\": \"Jet\", \"type\": \"heatmap\", \"z\": [[2.734519378269566e-08, 0.0008600582704934431, 0.11638910033981963, 0.46527884691641797, 0.6244715647066262, 0.9873266345041912], [0.9994402130013581, 0.0007526029392603944, 3.8032354931702497e-07, 1.3132327622185943e-08, 5.834929369926448e-07, 9.637542158265168e-08], [0.0005590434519292695, 0.9956804288645975, 0.0036776002496229487, 7.492897317133767e-06, 2.1893907445697885e-06, 1.0698483158588128e-06], [1.0156305582662834e-08, 0.0026991826881710775, 0.8771893878729704, 0.0053290556769760074, 1.9945841909995407e-05, 2.5007639694541336e-06], [3.0771436359790333e-09, 4.238355435080005e-06, 0.002729799545792081, 0.5254277804786204, 0.006658837664946623, 9.605325521325142e-05], [1.0334545621679707e-07, 2.839357735577525e-06, 1.3096377721172084e-05, 0.003956201145519366, 0.3688462567249939, 0.012573039857554978]]}], {\"font\": {\"color\": \"#FFF\"}, \"height\": 300, \"plot_bgcolor\": \"#000\", \"xaxis\": {\"dtick\": 1, \"tickcolor\": \"#FFF\", \"title\": \"Glimpses\", \"range\": [-0.5, 5.5]}, \"paper_bgcolor\": \"#000\", \"titlefont\": {\"color\": \"#FFF\"}, \"width\": 300, \"yaxis\": {\"dtick\": 1, \"tickcolor\": \"#FFF\", \"title\": \"Count Word\", \"range\": [-0.5, 5.5]}, \"title\": \"4 Blobs:Confidence after 125000 Iters\"}, {\"linkText\": \"Export to plot.ly\", \"showLink\": true})});</script>"
      ],
      "text/vnd.plotly.v1+html": [
       "<div id=\"c1c80214-eb55-465a-995c-e5953928fa7c\" style=\"height: 300px; width: 300px;\" class=\"plotly-graph-div\"></div><script type=\"text/javascript\">require([\"plotly\"], function(Plotly) { window.PLOTLYENV=window.PLOTLYENV || {};window.PLOTLYENV.BASE_URL=\"https://plot.ly\";Plotly.newPlot(\"c1c80214-eb55-465a-995c-e5953928fa7c\", [{\"colorscale\": \"Jet\", \"type\": \"heatmap\", \"z\": [[2.734519378269566e-08, 0.0008600582704934431, 0.11638910033981963, 0.46527884691641797, 0.6244715647066262, 0.9873266345041912], [0.9994402130013581, 0.0007526029392603944, 3.8032354931702497e-07, 1.3132327622185943e-08, 5.834929369926448e-07, 9.637542158265168e-08], [0.0005590434519292695, 0.9956804288645975, 0.0036776002496229487, 7.492897317133767e-06, 2.1893907445697885e-06, 1.0698483158588128e-06], [1.0156305582662834e-08, 0.0026991826881710775, 0.8771893878729704, 0.0053290556769760074, 1.9945841909995407e-05, 2.5007639694541336e-06], [3.0771436359790333e-09, 4.238355435080005e-06, 0.002729799545792081, 0.5254277804786204, 0.006658837664946623, 9.605325521325142e-05], [1.0334545621679707e-07, 2.839357735577525e-06, 1.3096377721172084e-05, 0.003956201145519366, 0.3688462567249939, 0.012573039857554978]]}], {\"font\": {\"color\": \"#FFF\"}, \"height\": 300, \"plot_bgcolor\": \"#000\", \"xaxis\": {\"dtick\": 1, \"tickcolor\": \"#FFF\", \"title\": \"Glimpses\", \"range\": [-0.5, 5.5]}, \"paper_bgcolor\": \"#000\", \"titlefont\": {\"color\": \"#FFF\"}, \"width\": 300, \"yaxis\": {\"dtick\": 1, \"tickcolor\": \"#FFF\", \"title\": \"Count Word\", \"range\": [-0.5, 5.5]}, \"title\": \"4 Blobs:Confidence after 125000 Iters\"}, {\"linkText\": \"Export to plot.ly\", \"showLink\": true})});</script>"
      ]
     },
     "metadata": {},
     "output_type": "display_data"
    },
    {
     "data": {
      "application/vnd.plotly.v1+json": {
       "data": [
        {
         "colorscale": "Jet",
         "type": "heatmap",
         "z": [
          [
           3.117844714271075e-09,
           0.0002539721023475869,
           0.39487649746410153,
           0.6061843312958369,
           0.6606458119440678,
           0.9897291277671013
          ],
          [
           0.9995794994792659,
           6.432688695780228e-05,
           1.0060569526901626e-07,
           1.3623215445201352e-07,
           9.355520783536527e-06,
           6.691699554230047e-07
          ],
          [
           0.00041945704186295373,
           0.9994580467194669,
           0.0023644257873407164,
           5.893793984689176e-06,
           1.0325538477245712e-05,
           3.6171230196236795e-06
          ],
          [
           3.51307844401749e-09,
           0.00022230684878960704,
           0.6019746965298769,
           0.0024412511582398893,
           2.3134521930232634e-05,
           5.698324261039021e-06
          ],
          [
           5.880821471138963e-09,
           2.622194790163636e-07,
           0.0007812914188838478,
           0.3898935373704888,
           0.003204035329518192,
           7.572484040416655e-05
          ],
          [
           6.29193073817041e-07,
           6.731795120868078e-07,
           2.593916191639068e-06,
           0.0014744534027782135,
           0.33610693600324,
           0.010184747153599193
          ]
         ]
        }
       ],
       "layout": {
        "font": {
         "color": "#FFF"
        },
        "height": 300,
        "paper_bgcolor": "#000",
        "plot_bgcolor": "#000",
        "title": "4 Blobs:Confidence after 250000 Iters",
        "titlefont": {
         "color": "#FFF"
        },
        "width": 300,
        "xaxis": {
         "dtick": 1,
         "range": [
          -0.5,
          5.5
         ],
         "tickcolor": "#FFF",
         "title": "Glimpses"
        },
        "yaxis": {
         "dtick": 1,
         "range": [
          -0.5,
          5.5
         ],
         "tickcolor": "#FFF",
         "title": "Count Word"
        }
       }
      },
      "text/html": [
       "<div id=\"5c6fe8a0-6be3-43f0-ad69-e6f9f64e65e4\" style=\"height: 300px; width: 300px;\" class=\"plotly-graph-div\"></div><script type=\"text/javascript\">require([\"plotly\"], function(Plotly) { window.PLOTLYENV=window.PLOTLYENV || {};window.PLOTLYENV.BASE_URL=\"https://plot.ly\";Plotly.newPlot(\"5c6fe8a0-6be3-43f0-ad69-e6f9f64e65e4\", [{\"colorscale\": \"Jet\", \"type\": \"heatmap\", \"z\": [[3.117844714271075e-09, 0.0002539721023475869, 0.39487649746410153, 0.6061843312958369, 0.6606458119440678, 0.9897291277671013], [0.9995794994792659, 6.432688695780228e-05, 1.0060569526901626e-07, 1.3623215445201352e-07, 9.355520783536527e-06, 6.691699554230047e-07], [0.00041945704186295373, 0.9994580467194669, 0.0023644257873407164, 5.893793984689176e-06, 1.0325538477245712e-05, 3.6171230196236795e-06], [3.51307844401749e-09, 0.00022230684878960704, 0.6019746965298769, 0.0024412511582398893, 2.3134521930232634e-05, 5.698324261039021e-06], [5.880821471138963e-09, 2.622194790163636e-07, 0.0007812914188838478, 0.3898935373704888, 0.003204035329518192, 7.572484040416655e-05], [6.29193073817041e-07, 6.731795120868078e-07, 2.593916191639068e-06, 0.0014744534027782135, 0.33610693600324, 0.010184747153599193]]}], {\"font\": {\"color\": \"#FFF\"}, \"height\": 300, \"plot_bgcolor\": \"#000\", \"xaxis\": {\"dtick\": 1, \"tickcolor\": \"#FFF\", \"title\": \"Glimpses\", \"range\": [-0.5, 5.5]}, \"paper_bgcolor\": \"#000\", \"titlefont\": {\"color\": \"#FFF\"}, \"width\": 300, \"yaxis\": {\"dtick\": 1, \"tickcolor\": \"#FFF\", \"title\": \"Count Word\", \"range\": [-0.5, 5.5]}, \"title\": \"4 Blobs:Confidence after 250000 Iters\"}, {\"linkText\": \"Export to plot.ly\", \"showLink\": true})});</script>"
      ],
      "text/vnd.plotly.v1+html": [
       "<div id=\"5c6fe8a0-6be3-43f0-ad69-e6f9f64e65e4\" style=\"height: 300px; width: 300px;\" class=\"plotly-graph-div\"></div><script type=\"text/javascript\">require([\"plotly\"], function(Plotly) { window.PLOTLYENV=window.PLOTLYENV || {};window.PLOTLYENV.BASE_URL=\"https://plot.ly\";Plotly.newPlot(\"5c6fe8a0-6be3-43f0-ad69-e6f9f64e65e4\", [{\"colorscale\": \"Jet\", \"type\": \"heatmap\", \"z\": [[3.117844714271075e-09, 0.0002539721023475869, 0.39487649746410153, 0.6061843312958369, 0.6606458119440678, 0.9897291277671013], [0.9995794994792659, 6.432688695780228e-05, 1.0060569526901626e-07, 1.3623215445201352e-07, 9.355520783536527e-06, 6.691699554230047e-07], [0.00041945704186295373, 0.9994580467194669, 0.0023644257873407164, 5.893793984689176e-06, 1.0325538477245712e-05, 3.6171230196236795e-06], [3.51307844401749e-09, 0.00022230684878960704, 0.6019746965298769, 0.0024412511582398893, 2.3134521930232634e-05, 5.698324261039021e-06], [5.880821471138963e-09, 2.622194790163636e-07, 0.0007812914188838478, 0.3898935373704888, 0.003204035329518192, 7.572484040416655e-05], [6.29193073817041e-07, 6.731795120868078e-07, 2.593916191639068e-06, 0.0014744534027782135, 0.33610693600324, 0.010184747153599193]]}], {\"font\": {\"color\": \"#FFF\"}, \"height\": 300, \"plot_bgcolor\": \"#000\", \"xaxis\": {\"dtick\": 1, \"tickcolor\": \"#FFF\", \"title\": \"Glimpses\", \"range\": [-0.5, 5.5]}, \"paper_bgcolor\": \"#000\", \"titlefont\": {\"color\": \"#FFF\"}, \"width\": 300, \"yaxis\": {\"dtick\": 1, \"tickcolor\": \"#FFF\", \"title\": \"Count Word\", \"range\": [-0.5, 5.5]}, \"title\": \"4 Blobs:Confidence after 250000 Iters\"}, {\"linkText\": \"Export to plot.ly\", \"showLink\": true})});</script>"
      ]
     },
     "metadata": {},
     "output_type": "display_data"
    },
    {
     "data": {
      "application/vnd.plotly.v1+json": {
       "data": [
        {
         "colorscale": "Jet",
         "type": "heatmap",
         "z": [
          [
           1.0677842921118228e-08,
           0.0001769484914961217,
           0.08826080188250052,
           0.27979884746056793,
           0.6240872906870817,
           0.9954358935154426
          ],
          [
           0.9997891854713115,
           5.0549829292693036e-05,
           5.445133761111679e-08,
           1.9974928279959763e-06,
           7.956109465849836e-05,
           1.4917702466134142e-06
          ],
          [
           0.000208645128380127,
           0.9992362993515407,
           0.0003411041410283124,
           1.409384460952327e-05,
           5.350100935319322e-05,
           1.8941928528936906e-05
          ],
          [
           7.549871569841263e-09,
           0.0005327641524048692,
           0.9110976603256324,
           0.001865617567824489,
           2.1209567627218625e-05,
           8.98940971496071e-06
          ],
          [
           1.4163282855212092e-08,
           4.1710631429707513e-07,
           0.00029915687468858813,
           0.7174323738713672,
           0.0030316705360952513,
           7.854521718334026e-05
          ],
          [
           1.6149404060291452e-06,
           2.5009672473623193e-06,
           6.934012991856285e-07,
           0.0008865414272887881,
           0.37272624817933614,
           0.004455630038033424
          ]
         ]
        }
       ],
       "layout": {
        "font": {
         "color": "#FFF"
        },
        "height": 300,
        "paper_bgcolor": "#000",
        "plot_bgcolor": "#000",
        "title": "4 Blobs:Confidence after 500000 Iters",
        "titlefont": {
         "color": "#FFF"
        },
        "width": 300,
        "xaxis": {
         "dtick": 1,
         "range": [
          -0.5,
          5.5
         ],
         "tickcolor": "#FFF",
         "title": "Glimpses"
        },
        "yaxis": {
         "dtick": 1,
         "range": [
          -0.5,
          5.5
         ],
         "tickcolor": "#FFF",
         "title": "Count Word"
        }
       }
      },
      "text/html": [
       "<div id=\"fa2a5c60-e4f9-4e07-b4fb-079119d358f1\" style=\"height: 300px; width: 300px;\" class=\"plotly-graph-div\"></div><script type=\"text/javascript\">require([\"plotly\"], function(Plotly) { window.PLOTLYENV=window.PLOTLYENV || {};window.PLOTLYENV.BASE_URL=\"https://plot.ly\";Plotly.newPlot(\"fa2a5c60-e4f9-4e07-b4fb-079119d358f1\", [{\"colorscale\": \"Jet\", \"type\": \"heatmap\", \"z\": [[1.0677842921118228e-08, 0.0001769484914961217, 0.08826080188250052, 0.27979884746056793, 0.6240872906870817, 0.9954358935154426], [0.9997891854713115, 5.0549829292693036e-05, 5.445133761111679e-08, 1.9974928279959763e-06, 7.956109465849836e-05, 1.4917702466134142e-06], [0.000208645128380127, 0.9992362993515407, 0.0003411041410283124, 1.409384460952327e-05, 5.350100935319322e-05, 1.8941928528936906e-05], [7.549871569841263e-09, 0.0005327641524048692, 0.9110976603256324, 0.001865617567824489, 2.1209567627218625e-05, 8.98940971496071e-06], [1.4163282855212092e-08, 4.1710631429707513e-07, 0.00029915687468858813, 0.7174323738713672, 0.0030316705360952513, 7.854521718334026e-05], [1.6149404060291452e-06, 2.5009672473623193e-06, 6.934012991856285e-07, 0.0008865414272887881, 0.37272624817933614, 0.004455630038033424]]}], {\"font\": {\"color\": \"#FFF\"}, \"height\": 300, \"plot_bgcolor\": \"#000\", \"xaxis\": {\"dtick\": 1, \"tickcolor\": \"#FFF\", \"title\": \"Glimpses\", \"range\": [-0.5, 5.5]}, \"paper_bgcolor\": \"#000\", \"titlefont\": {\"color\": \"#FFF\"}, \"width\": 300, \"yaxis\": {\"dtick\": 1, \"tickcolor\": \"#FFF\", \"title\": \"Count Word\", \"range\": [-0.5, 5.5]}, \"title\": \"4 Blobs:Confidence after 500000 Iters\"}, {\"linkText\": \"Export to plot.ly\", \"showLink\": true})});</script>"
      ],
      "text/vnd.plotly.v1+html": [
       "<div id=\"fa2a5c60-e4f9-4e07-b4fb-079119d358f1\" style=\"height: 300px; width: 300px;\" class=\"plotly-graph-div\"></div><script type=\"text/javascript\">require([\"plotly\"], function(Plotly) { window.PLOTLYENV=window.PLOTLYENV || {};window.PLOTLYENV.BASE_URL=\"https://plot.ly\";Plotly.newPlot(\"fa2a5c60-e4f9-4e07-b4fb-079119d358f1\", [{\"colorscale\": \"Jet\", \"type\": \"heatmap\", \"z\": [[1.0677842921118228e-08, 0.0001769484914961217, 0.08826080188250052, 0.27979884746056793, 0.6240872906870817, 0.9954358935154426], [0.9997891854713115, 5.0549829292693036e-05, 5.445133761111679e-08, 1.9974928279959763e-06, 7.956109465849836e-05, 1.4917702466134142e-06], [0.000208645128380127, 0.9992362993515407, 0.0003411041410283124, 1.409384460952327e-05, 5.350100935319322e-05, 1.8941928528936906e-05], [7.549871569841263e-09, 0.0005327641524048692, 0.9110976603256324, 0.001865617567824489, 2.1209567627218625e-05, 8.98940971496071e-06], [1.4163282855212092e-08, 4.1710631429707513e-07, 0.00029915687468858813, 0.7174323738713672, 0.0030316705360952513, 7.854521718334026e-05], [1.6149404060291452e-06, 2.5009672473623193e-06, 6.934012991856285e-07, 0.0008865414272887881, 0.37272624817933614, 0.004455630038033424]]}], {\"font\": {\"color\": \"#FFF\"}, \"height\": 300, \"plot_bgcolor\": \"#000\", \"xaxis\": {\"dtick\": 1, \"tickcolor\": \"#FFF\", \"title\": \"Glimpses\", \"range\": [-0.5, 5.5]}, \"paper_bgcolor\": \"#000\", \"titlefont\": {\"color\": \"#FFF\"}, \"width\": 300, \"yaxis\": {\"dtick\": 1, \"tickcolor\": \"#FFF\", \"title\": \"Count Word\", \"range\": [-0.5, 5.5]}, \"title\": \"4 Blobs:Confidence after 500000 Iters\"}, {\"linkText\": \"Export to plot.ly\", \"showLink\": true})});</script>"
      ]
     },
     "metadata": {},
     "output_type": "display_data"
    },
    {
     "data": {
      "application/vnd.plotly.v1+json": {
       "data": [
        {
         "colorscale": "Jet",
         "type": "heatmap",
         "z": [
          [
           1.0512484185216357e-08,
           0.02407768332364192,
           0.2531599767253484,
           0.5613295448135687,
           0.6714000156048561,
           0.997834771001137
          ],
          [
           0.999715469299845,
           6.422704355620317e-05,
           8.247670579497113e-08,
           4.226201717510149e-06,
           0.00016011184534206493,
           1.5148592841145997e-06
          ],
          [
           0.0002809981476208088,
           0.9755631947680363,
           0.000323994681939465,
           1.9757625385559274e-05,
           8.41690812373458e-05,
           3.3100242069686885e-05
          ],
          [
           1.2188048017059773e-08,
           0.00028954169221006676,
           0.7462882139717135,
           0.0006808169539239065,
           8.380227268663435e-06,
           4.146895383213992e-06
          ],
          [
           3.019691647566961e-08,
           6.310771362849033e-07,
           0.00022649094839528668,
           0.4371833322895596,
           0.001033138631377649,
           2.0795472968508898e-05
          ],
          [
           3.1176768189971253e-06,
           4.349889550292398e-06,
           8.728930049915078e-07,
           0.0007819562122644559,
           0.3273138400398196,
           0.0021053325686425394
          ]
         ]
        }
       ],
       "layout": {
        "font": {
         "color": "#FFF"
        },
        "height": 300,
        "paper_bgcolor": "#000",
        "plot_bgcolor": "#000",
        "title": "4 Blobs:Confidence after 600000 Iters",
        "titlefont": {
         "color": "#FFF"
        },
        "width": 300,
        "xaxis": {
         "dtick": 1,
         "range": [
          -0.5,
          5.5
         ],
         "tickcolor": "#FFF",
         "title": "Glimpses"
        },
        "yaxis": {
         "dtick": 1,
         "range": [
          -0.5,
          5.5
         ],
         "tickcolor": "#FFF",
         "title": "Count Word"
        }
       }
      },
      "text/html": [
       "<div id=\"bc9abc7a-b9ad-457d-905b-806b7077e18b\" style=\"height: 300px; width: 300px;\" class=\"plotly-graph-div\"></div><script type=\"text/javascript\">require([\"plotly\"], function(Plotly) { window.PLOTLYENV=window.PLOTLYENV || {};window.PLOTLYENV.BASE_URL=\"https://plot.ly\";Plotly.newPlot(\"bc9abc7a-b9ad-457d-905b-806b7077e18b\", [{\"colorscale\": \"Jet\", \"type\": \"heatmap\", \"z\": [[1.0512484185216357e-08, 0.02407768332364192, 0.2531599767253484, 0.5613295448135687, 0.6714000156048561, 0.997834771001137], [0.999715469299845, 6.422704355620317e-05, 8.247670579497113e-08, 4.226201717510149e-06, 0.00016011184534206493, 1.5148592841145997e-06], [0.0002809981476208088, 0.9755631947680363, 0.000323994681939465, 1.9757625385559274e-05, 8.41690812373458e-05, 3.3100242069686885e-05], [1.2188048017059773e-08, 0.00028954169221006676, 0.7462882139717135, 0.0006808169539239065, 8.380227268663435e-06, 4.146895383213992e-06], [3.019691647566961e-08, 6.310771362849033e-07, 0.00022649094839528668, 0.4371833322895596, 0.001033138631377649, 2.0795472968508898e-05], [3.1176768189971253e-06, 4.349889550292398e-06, 8.728930049915078e-07, 0.0007819562122644559, 0.3273138400398196, 0.0021053325686425394]]}], {\"font\": {\"color\": \"#FFF\"}, \"height\": 300, \"plot_bgcolor\": \"#000\", \"xaxis\": {\"dtick\": 1, \"tickcolor\": \"#FFF\", \"title\": \"Glimpses\", \"range\": [-0.5, 5.5]}, \"paper_bgcolor\": \"#000\", \"titlefont\": {\"color\": \"#FFF\"}, \"width\": 300, \"yaxis\": {\"dtick\": 1, \"tickcolor\": \"#FFF\", \"title\": \"Count Word\", \"range\": [-0.5, 5.5]}, \"title\": \"4 Blobs:Confidence after 600000 Iters\"}, {\"linkText\": \"Export to plot.ly\", \"showLink\": true})});</script>"
      ],
      "text/vnd.plotly.v1+html": [
       "<div id=\"bc9abc7a-b9ad-457d-905b-806b7077e18b\" style=\"height: 300px; width: 300px;\" class=\"plotly-graph-div\"></div><script type=\"text/javascript\">require([\"plotly\"], function(Plotly) { window.PLOTLYENV=window.PLOTLYENV || {};window.PLOTLYENV.BASE_URL=\"https://plot.ly\";Plotly.newPlot(\"bc9abc7a-b9ad-457d-905b-806b7077e18b\", [{\"colorscale\": \"Jet\", \"type\": \"heatmap\", \"z\": [[1.0512484185216357e-08, 0.02407768332364192, 0.2531599767253484, 0.5613295448135687, 0.6714000156048561, 0.997834771001137], [0.999715469299845, 6.422704355620317e-05, 8.247670579497113e-08, 4.226201717510149e-06, 0.00016011184534206493, 1.5148592841145997e-06], [0.0002809981476208088, 0.9755631947680363, 0.000323994681939465, 1.9757625385559274e-05, 8.41690812373458e-05, 3.3100242069686885e-05], [1.2188048017059773e-08, 0.00028954169221006676, 0.7462882139717135, 0.0006808169539239065, 8.380227268663435e-06, 4.146895383213992e-06], [3.019691647566961e-08, 6.310771362849033e-07, 0.00022649094839528668, 0.4371833322895596, 0.001033138631377649, 2.0795472968508898e-05], [3.1176768189971253e-06, 4.349889550292398e-06, 8.728930049915078e-07, 0.0007819562122644559, 0.3273138400398196, 0.0021053325686425394]]}], {\"font\": {\"color\": \"#FFF\"}, \"height\": 300, \"plot_bgcolor\": \"#000\", \"xaxis\": {\"dtick\": 1, \"tickcolor\": \"#FFF\", \"title\": \"Glimpses\", \"range\": [-0.5, 5.5]}, \"paper_bgcolor\": \"#000\", \"titlefont\": {\"color\": \"#FFF\"}, \"width\": 300, \"yaxis\": {\"dtick\": 1, \"tickcolor\": \"#FFF\", \"title\": \"Count Word\", \"range\": [-0.5, 5.5]}, \"title\": \"4 Blobs:Confidence after 600000 Iters\"}, {\"linkText\": \"Export to plot.ly\", \"showLink\": true})});</script>"
      ]
     },
     "metadata": {},
     "output_type": "display_data"
    },
    {
     "data": {
      "application/vnd.plotly.v1+json": {
       "data": [
        {
         "colorscale": "Jet",
         "type": "heatmap",
         "z": [
          [
           0.16669514206778988,
           0.16656996824409112,
           0.16635337750293988,
           0.16608686872736378,
           0.16581870095676307,
           0.16556839056224787
          ],
          [
           0.16677603463207494,
           0.1666171428106959,
           0.16640930401335696,
           0.16623748792534926,
           0.16613182964491877,
           0.16609066355430624
          ],
          [
           0.16783947113887931,
           0.16892356643851725,
           0.1698977135813687,
           0.17075631801235575,
           0.17149392590951132,
           0.17211608298524547
          ],
          [
           0.167350839983053,
           0.16796522527969993,
           0.16852205321752736,
           0.16902031796871347,
           0.1694533645127979,
           0.16981913731852016
          ],
          [
           0.16674140600838314,
           0.1666420235968555,
           0.16644716618723143,
           0.16621483320586686,
           0.1659733509166122,
           0.16574353374656484
          ],
          [
           0.16459655972083292,
           0.1632815073129496,
           0.16236984153211437,
           0.16168362191647132,
           0.1611282658814152,
           0.16066163793355218
          ]
         ]
        }
       ],
       "layout": {
        "font": {
         "color": "#FFF"
        },
        "height": 300,
        "paper_bgcolor": "#000",
        "plot_bgcolor": "#000",
        "title": "5 Blobs:Confidence after 0 Iters",
        "titlefont": {
         "color": "#FFF"
        },
        "width": 300,
        "xaxis": {
         "dtick": 1,
         "range": [
          -0.5,
          5.5
         ],
         "tickcolor": "#FFF",
         "title": "Glimpses"
        },
        "yaxis": {
         "dtick": 1,
         "range": [
          -0.5,
          5.5
         ],
         "tickcolor": "#FFF",
         "title": "Count Word"
        }
       }
      },
      "text/html": [
       "<div id=\"8261f63a-6ecf-4769-9050-bef8256bf9a8\" style=\"height: 300px; width: 300px;\" class=\"plotly-graph-div\"></div><script type=\"text/javascript\">require([\"plotly\"], function(Plotly) { window.PLOTLYENV=window.PLOTLYENV || {};window.PLOTLYENV.BASE_URL=\"https://plot.ly\";Plotly.newPlot(\"8261f63a-6ecf-4769-9050-bef8256bf9a8\", [{\"colorscale\": \"Jet\", \"type\": \"heatmap\", \"z\": [[0.16669514206778988, 0.16656996824409112, 0.16635337750293988, 0.16608686872736378, 0.16581870095676307, 0.16556839056224787], [0.16677603463207494, 0.1666171428106959, 0.16640930401335696, 0.16623748792534926, 0.16613182964491877, 0.16609066355430624], [0.16783947113887931, 0.16892356643851725, 0.1698977135813687, 0.17075631801235575, 0.17149392590951132, 0.17211608298524547], [0.167350839983053, 0.16796522527969993, 0.16852205321752736, 0.16902031796871347, 0.1694533645127979, 0.16981913731852016], [0.16674140600838314, 0.1666420235968555, 0.16644716618723143, 0.16621483320586686, 0.1659733509166122, 0.16574353374656484], [0.16459655972083292, 0.1632815073129496, 0.16236984153211437, 0.16168362191647132, 0.1611282658814152, 0.16066163793355218]]}], {\"font\": {\"color\": \"#FFF\"}, \"height\": 300, \"plot_bgcolor\": \"#000\", \"xaxis\": {\"dtick\": 1, \"tickcolor\": \"#FFF\", \"title\": \"Glimpses\", \"range\": [-0.5, 5.5]}, \"paper_bgcolor\": \"#000\", \"titlefont\": {\"color\": \"#FFF\"}, \"width\": 300, \"yaxis\": {\"dtick\": 1, \"tickcolor\": \"#FFF\", \"title\": \"Count Word\", \"range\": [-0.5, 5.5]}, \"title\": \"5 Blobs:Confidence after 0 Iters\"}, {\"linkText\": \"Export to plot.ly\", \"showLink\": true})});</script>"
      ],
      "text/vnd.plotly.v1+html": [
       "<div id=\"8261f63a-6ecf-4769-9050-bef8256bf9a8\" style=\"height: 300px; width: 300px;\" class=\"plotly-graph-div\"></div><script type=\"text/javascript\">require([\"plotly\"], function(Plotly) { window.PLOTLYENV=window.PLOTLYENV || {};window.PLOTLYENV.BASE_URL=\"https://plot.ly\";Plotly.newPlot(\"8261f63a-6ecf-4769-9050-bef8256bf9a8\", [{\"colorscale\": \"Jet\", \"type\": \"heatmap\", \"z\": [[0.16669514206778988, 0.16656996824409112, 0.16635337750293988, 0.16608686872736378, 0.16581870095676307, 0.16556839056224787], [0.16677603463207494, 0.1666171428106959, 0.16640930401335696, 0.16623748792534926, 0.16613182964491877, 0.16609066355430624], [0.16783947113887931, 0.16892356643851725, 0.1698977135813687, 0.17075631801235575, 0.17149392590951132, 0.17211608298524547], [0.167350839983053, 0.16796522527969993, 0.16852205321752736, 0.16902031796871347, 0.1694533645127979, 0.16981913731852016], [0.16674140600838314, 0.1666420235968555, 0.16644716618723143, 0.16621483320586686, 0.1659733509166122, 0.16574353374656484], [0.16459655972083292, 0.1632815073129496, 0.16236984153211437, 0.16168362191647132, 0.1611282658814152, 0.16066163793355218]]}], {\"font\": {\"color\": \"#FFF\"}, \"height\": 300, \"plot_bgcolor\": \"#000\", \"xaxis\": {\"dtick\": 1, \"tickcolor\": \"#FFF\", \"title\": \"Glimpses\", \"range\": [-0.5, 5.5]}, \"paper_bgcolor\": \"#000\", \"titlefont\": {\"color\": \"#FFF\"}, \"width\": 300, \"yaxis\": {\"dtick\": 1, \"tickcolor\": \"#FFF\", \"title\": \"Count Word\", \"range\": [-0.5, 5.5]}, \"title\": \"5 Blobs:Confidence after 0 Iters\"}, {\"linkText\": \"Export to plot.ly\", \"showLink\": true})});</script>"
      ]
     },
     "metadata": {},
     "output_type": "display_data"
    },
    {
     "data": {
      "application/vnd.plotly.v1+json": {
       "data": [
        {
         "colorscale": "Jet",
         "type": "heatmap",
         "z": [
          [
           0.16985333679380316,
           0.34118258825867126,
           0.5729271066675544,
           0.7690157216024692,
           0.8563862192170366,
           0.9090216302132544
          ],
          [
           0.3246959681745614,
           0.35519869795972164,
           0.27192236516526846,
           0.15100131518473622,
           0.09432596936751546,
           0.05813176159848025
          ],
          [
           0.15249791006704058,
           0.11011049870958482,
           0.06458434165054171,
           0.03551306813150865,
           0.022601793573403545,
           0.015285067336303351
          ],
          [
           0.12324794886533437,
           0.07824135522681432,
           0.04143994111413948,
           0.022070702409033114,
           0.013861700939464807,
           0.00942682822195257
          ],
          [
           0.1179380257188825,
           0.06645245503764588,
           0.03128962307966883,
           0.015260725611707701,
           0.009038057864789107,
           0.0058838916242849384
          ],
          [
           0.11176636458406138,
           0.04881396937726611,
           0.017836185394317302,
           0.0071380393541493345,
           0.0037858263204764825,
           0.002250383530568932
          ]
         ]
        }
       ],
       "layout": {
        "font": {
         "color": "#FFF"
        },
        "height": 300,
        "paper_bgcolor": "#000",
        "plot_bgcolor": "#000",
        "title": "5 Blobs:Confidence after 1000 Iters",
        "titlefont": {
         "color": "#FFF"
        },
        "width": 300,
        "xaxis": {
         "dtick": 1,
         "range": [
          -0.5,
          5.5
         ],
         "tickcolor": "#FFF",
         "title": "Glimpses"
        },
        "yaxis": {
         "dtick": 1,
         "range": [
          -0.5,
          5.5
         ],
         "tickcolor": "#FFF",
         "title": "Count Word"
        }
       }
      },
      "text/html": [
       "<div id=\"f75726a1-8078-401c-858d-33ef5941ed16\" style=\"height: 300px; width: 300px;\" class=\"plotly-graph-div\"></div><script type=\"text/javascript\">require([\"plotly\"], function(Plotly) { window.PLOTLYENV=window.PLOTLYENV || {};window.PLOTLYENV.BASE_URL=\"https://plot.ly\";Plotly.newPlot(\"f75726a1-8078-401c-858d-33ef5941ed16\", [{\"colorscale\": \"Jet\", \"type\": \"heatmap\", \"z\": [[0.16985333679380316, 0.34118258825867126, 0.5729271066675544, 0.7690157216024692, 0.8563862192170366, 0.9090216302132544], [0.3246959681745614, 0.35519869795972164, 0.27192236516526846, 0.15100131518473622, 0.09432596936751546, 0.05813176159848025], [0.15249791006704058, 0.11011049870958482, 0.06458434165054171, 0.03551306813150865, 0.022601793573403545, 0.015285067336303351], [0.12324794886533437, 0.07824135522681432, 0.04143994111413948, 0.022070702409033114, 0.013861700939464807, 0.00942682822195257], [0.1179380257188825, 0.06645245503764588, 0.03128962307966883, 0.015260725611707701, 0.009038057864789107, 0.0058838916242849384], [0.11176636458406138, 0.04881396937726611, 0.017836185394317302, 0.0071380393541493345, 0.0037858263204764825, 0.002250383530568932]]}], {\"font\": {\"color\": \"#FFF\"}, \"height\": 300, \"plot_bgcolor\": \"#000\", \"xaxis\": {\"dtick\": 1, \"tickcolor\": \"#FFF\", \"title\": \"Glimpses\", \"range\": [-0.5, 5.5]}, \"paper_bgcolor\": \"#000\", \"titlefont\": {\"color\": \"#FFF\"}, \"width\": 300, \"yaxis\": {\"dtick\": 1, \"tickcolor\": \"#FFF\", \"title\": \"Count Word\", \"range\": [-0.5, 5.5]}, \"title\": \"5 Blobs:Confidence after 1000 Iters\"}, {\"linkText\": \"Export to plot.ly\", \"showLink\": true})});</script>"
      ],
      "text/vnd.plotly.v1+html": [
       "<div id=\"f75726a1-8078-401c-858d-33ef5941ed16\" style=\"height: 300px; width: 300px;\" class=\"plotly-graph-div\"></div><script type=\"text/javascript\">require([\"plotly\"], function(Plotly) { window.PLOTLYENV=window.PLOTLYENV || {};window.PLOTLYENV.BASE_URL=\"https://plot.ly\";Plotly.newPlot(\"f75726a1-8078-401c-858d-33ef5941ed16\", [{\"colorscale\": \"Jet\", \"type\": \"heatmap\", \"z\": [[0.16985333679380316, 0.34118258825867126, 0.5729271066675544, 0.7690157216024692, 0.8563862192170366, 0.9090216302132544], [0.3246959681745614, 0.35519869795972164, 0.27192236516526846, 0.15100131518473622, 0.09432596936751546, 0.05813176159848025], [0.15249791006704058, 0.11011049870958482, 0.06458434165054171, 0.03551306813150865, 0.022601793573403545, 0.015285067336303351], [0.12324794886533437, 0.07824135522681432, 0.04143994111413948, 0.022070702409033114, 0.013861700939464807, 0.00942682822195257], [0.1179380257188825, 0.06645245503764588, 0.03128962307966883, 0.015260725611707701, 0.009038057864789107, 0.0058838916242849384], [0.11176636458406138, 0.04881396937726611, 0.017836185394317302, 0.0071380393541493345, 0.0037858263204764825, 0.002250383530568932]]}], {\"font\": {\"color\": \"#FFF\"}, \"height\": 300, \"plot_bgcolor\": \"#000\", \"xaxis\": {\"dtick\": 1, \"tickcolor\": \"#FFF\", \"title\": \"Glimpses\", \"range\": [-0.5, 5.5]}, \"paper_bgcolor\": \"#000\", \"titlefont\": {\"color\": \"#FFF\"}, \"width\": 300, \"yaxis\": {\"dtick\": 1, \"tickcolor\": \"#FFF\", \"title\": \"Count Word\", \"range\": [-0.5, 5.5]}, \"title\": \"5 Blobs:Confidence after 1000 Iters\"}, {\"linkText\": \"Export to plot.ly\", \"showLink\": true})});</script>"
      ]
     },
     "metadata": {},
     "output_type": "display_data"
    },
    {
     "data": {
      "application/vnd.plotly.v1+json": {
       "data": [
        {
         "colorscale": "Jet",
         "type": "heatmap",
         "z": [
          [
           0.010208529872846473,
           0.03969436711219707,
           0.19386775200115028,
           0.4948505790790388,
           0.7137850318029373,
           0.8216751994898158
          ],
          [
           0.8874550074562579,
           0.48179457796129005,
           0.09269383439937018,
           0.00499265312307512,
           0.0001662906723480274,
           2.022646466008755e-06
          ],
          [
           0.06803375459251504,
           0.3944110773304371,
           0.48637146422589944,
           0.2359483800747346,
           0.05267116157464142,
           0.011213365706741507
          ],
          [
           0.01328313511414535,
           0.05102623083413859,
           0.16157480197112487,
           0.17867734560695012,
           0.13893142336245914,
           0.07906750091778449
          ],
          [
           0.010114772984738393,
           0.017144466729286278,
           0.03961105831610397,
           0.05708763859543334,
           0.0660050766856297,
           0.06259552890455014
          ],
          [
           0.010904424086450882,
           0.01592889835466116,
           0.025880721383651797,
           0.028443021685292665,
           0.028440611495036752,
           0.02544599888902399
          ]
         ]
        }
       ],
       "layout": {
        "font": {
         "color": "#FFF"
        },
        "height": 300,
        "paper_bgcolor": "#000",
        "plot_bgcolor": "#000",
        "title": "5 Blobs:Confidence after 4000 Iters",
        "titlefont": {
         "color": "#FFF"
        },
        "width": 300,
        "xaxis": {
         "dtick": 1,
         "range": [
          -0.5,
          5.5
         ],
         "tickcolor": "#FFF",
         "title": "Glimpses"
        },
        "yaxis": {
         "dtick": 1,
         "range": [
          -0.5,
          5.5
         ],
         "tickcolor": "#FFF",
         "title": "Count Word"
        }
       }
      },
      "text/html": [
       "<div id=\"187c6790-2093-4425-8b75-97e4963902f9\" style=\"height: 300px; width: 300px;\" class=\"plotly-graph-div\"></div><script type=\"text/javascript\">require([\"plotly\"], function(Plotly) { window.PLOTLYENV=window.PLOTLYENV || {};window.PLOTLYENV.BASE_URL=\"https://plot.ly\";Plotly.newPlot(\"187c6790-2093-4425-8b75-97e4963902f9\", [{\"colorscale\": \"Jet\", \"type\": \"heatmap\", \"z\": [[0.010208529872846473, 0.03969436711219707, 0.19386775200115028, 0.4948505790790388, 0.7137850318029373, 0.8216751994898158], [0.8874550074562579, 0.48179457796129005, 0.09269383439937018, 0.00499265312307512, 0.0001662906723480274, 2.022646466008755e-06], [0.06803375459251504, 0.3944110773304371, 0.48637146422589944, 0.2359483800747346, 0.05267116157464142, 0.011213365706741507], [0.01328313511414535, 0.05102623083413859, 0.16157480197112487, 0.17867734560695012, 0.13893142336245914, 0.07906750091778449], [0.010114772984738393, 0.017144466729286278, 0.03961105831610397, 0.05708763859543334, 0.0660050766856297, 0.06259552890455014], [0.010904424086450882, 0.01592889835466116, 0.025880721383651797, 0.028443021685292665, 0.028440611495036752, 0.02544599888902399]]}], {\"font\": {\"color\": \"#FFF\"}, \"height\": 300, \"plot_bgcolor\": \"#000\", \"xaxis\": {\"dtick\": 1, \"tickcolor\": \"#FFF\", \"title\": \"Glimpses\", \"range\": [-0.5, 5.5]}, \"paper_bgcolor\": \"#000\", \"titlefont\": {\"color\": \"#FFF\"}, \"width\": 300, \"yaxis\": {\"dtick\": 1, \"tickcolor\": \"#FFF\", \"title\": \"Count Word\", \"range\": [-0.5, 5.5]}, \"title\": \"5 Blobs:Confidence after 4000 Iters\"}, {\"linkText\": \"Export to plot.ly\", \"showLink\": true})});</script>"
      ],
      "text/vnd.plotly.v1+html": [
       "<div id=\"187c6790-2093-4425-8b75-97e4963902f9\" style=\"height: 300px; width: 300px;\" class=\"plotly-graph-div\"></div><script type=\"text/javascript\">require([\"plotly\"], function(Plotly) { window.PLOTLYENV=window.PLOTLYENV || {};window.PLOTLYENV.BASE_URL=\"https://plot.ly\";Plotly.newPlot(\"187c6790-2093-4425-8b75-97e4963902f9\", [{\"colorscale\": \"Jet\", \"type\": \"heatmap\", \"z\": [[0.010208529872846473, 0.03969436711219707, 0.19386775200115028, 0.4948505790790388, 0.7137850318029373, 0.8216751994898158], [0.8874550074562579, 0.48179457796129005, 0.09269383439937018, 0.00499265312307512, 0.0001662906723480274, 2.022646466008755e-06], [0.06803375459251504, 0.3944110773304371, 0.48637146422589944, 0.2359483800747346, 0.05267116157464142, 0.011213365706741507], [0.01328313511414535, 0.05102623083413859, 0.16157480197112487, 0.17867734560695012, 0.13893142336245914, 0.07906750091778449], [0.010114772984738393, 0.017144466729286278, 0.03961105831610397, 0.05708763859543334, 0.0660050766856297, 0.06259552890455014], [0.010904424086450882, 0.01592889835466116, 0.025880721383651797, 0.028443021685292665, 0.028440611495036752, 0.02544599888902399]]}], {\"font\": {\"color\": \"#FFF\"}, \"height\": 300, \"plot_bgcolor\": \"#000\", \"xaxis\": {\"dtick\": 1, \"tickcolor\": \"#FFF\", \"title\": \"Glimpses\", \"range\": [-0.5, 5.5]}, \"paper_bgcolor\": \"#000\", \"titlefont\": {\"color\": \"#FFF\"}, \"width\": 300, \"yaxis\": {\"dtick\": 1, \"tickcolor\": \"#FFF\", \"title\": \"Count Word\", \"range\": [-0.5, 5.5]}, \"title\": \"5 Blobs:Confidence after 4000 Iters\"}, {\"linkText\": \"Export to plot.ly\", \"showLink\": true})});</script>"
      ]
     },
     "metadata": {},
     "output_type": "display_data"
    },
    {
     "data": {
      "application/vnd.plotly.v1+json": {
       "data": [
        {
         "colorscale": "Jet",
         "type": "heatmap",
         "z": [
          [
           1.8888921314047293e-05,
           0.08978257538584293,
           0.2475924736196832,
           0.37738269541935143,
           0.5041032370945258,
           0.575509619496298
          ],
          [
           0.9925488133348691,
           0.0012728927244944307,
           4.943615350555282e-07,
           1.6260668481106484e-08,
           1.5563435415757895e-08,
           1.505746445858009e-08
          ],
          [
           0.007415973153335949,
           0.8940269465532624,
           0.027613144191750132,
           9.022610465481121e-05,
           9.091585557868993e-06,
           4.356299562882957e-06
          ],
          [
           1.3014862456945985e-05,
           0.01481079944845611,
           0.6612621925616806,
           0.06745648493937578,
           0.007357200856175108,
           0.0029469943826949075
          ],
          [
           1.2626069968692495e-06,
           8.93516069220333e-05,
           0.061363911014672534,
           0.4915440918309926,
           0.26571890977924884,
           0.13300300612369528
          ],
          [
           1.3739998027125409e-06,
           1.6721380121845944e-05,
           0.0021671390536875525,
           0.06352581132804322,
           0.22281087982073394,
           0.2885353767545883
          ]
         ]
        }
       ],
       "layout": {
        "font": {
         "color": "#FFF"
        },
        "height": 300,
        "paper_bgcolor": "#000",
        "plot_bgcolor": "#000",
        "title": "5 Blobs:Confidence after 16000 Iters",
        "titlefont": {
         "color": "#FFF"
        },
        "width": 300,
        "xaxis": {
         "dtick": 1,
         "range": [
          -0.5,
          5.5
         ],
         "tickcolor": "#FFF",
         "title": "Glimpses"
        },
        "yaxis": {
         "dtick": 1,
         "range": [
          -0.5,
          5.5
         ],
         "tickcolor": "#FFF",
         "title": "Count Word"
        }
       }
      },
      "text/html": [
       "<div id=\"a3a570e4-b164-4c46-be8a-a72f52c29024\" style=\"height: 300px; width: 300px;\" class=\"plotly-graph-div\"></div><script type=\"text/javascript\">require([\"plotly\"], function(Plotly) { window.PLOTLYENV=window.PLOTLYENV || {};window.PLOTLYENV.BASE_URL=\"https://plot.ly\";Plotly.newPlot(\"a3a570e4-b164-4c46-be8a-a72f52c29024\", [{\"colorscale\": \"Jet\", \"type\": \"heatmap\", \"z\": [[1.8888921314047293e-05, 0.08978257538584293, 0.2475924736196832, 0.37738269541935143, 0.5041032370945258, 0.575509619496298], [0.9925488133348691, 0.0012728927244944307, 4.943615350555282e-07, 1.6260668481106484e-08, 1.5563435415757895e-08, 1.505746445858009e-08], [0.007415973153335949, 0.8940269465532624, 0.027613144191750132, 9.022610465481121e-05, 9.091585557868993e-06, 4.356299562882957e-06], [1.3014862456945985e-05, 0.01481079944845611, 0.6612621925616806, 0.06745648493937578, 0.007357200856175108, 0.0029469943826949075], [1.2626069968692495e-06, 8.93516069220333e-05, 0.061363911014672534, 0.4915440918309926, 0.26571890977924884, 0.13300300612369528], [1.3739998027125409e-06, 1.6721380121845944e-05, 0.0021671390536875525, 0.06352581132804322, 0.22281087982073394, 0.2885353767545883]]}], {\"font\": {\"color\": \"#FFF\"}, \"height\": 300, \"plot_bgcolor\": \"#000\", \"xaxis\": {\"dtick\": 1, \"tickcolor\": \"#FFF\", \"title\": \"Glimpses\", \"range\": [-0.5, 5.5]}, \"paper_bgcolor\": \"#000\", \"titlefont\": {\"color\": \"#FFF\"}, \"width\": 300, \"yaxis\": {\"dtick\": 1, \"tickcolor\": \"#FFF\", \"title\": \"Count Word\", \"range\": [-0.5, 5.5]}, \"title\": \"5 Blobs:Confidence after 16000 Iters\"}, {\"linkText\": \"Export to plot.ly\", \"showLink\": true})});</script>"
      ],
      "text/vnd.plotly.v1+html": [
       "<div id=\"a3a570e4-b164-4c46-be8a-a72f52c29024\" style=\"height: 300px; width: 300px;\" class=\"plotly-graph-div\"></div><script type=\"text/javascript\">require([\"plotly\"], function(Plotly) { window.PLOTLYENV=window.PLOTLYENV || {};window.PLOTLYENV.BASE_URL=\"https://plot.ly\";Plotly.newPlot(\"a3a570e4-b164-4c46-be8a-a72f52c29024\", [{\"colorscale\": \"Jet\", \"type\": \"heatmap\", \"z\": [[1.8888921314047293e-05, 0.08978257538584293, 0.2475924736196832, 0.37738269541935143, 0.5041032370945258, 0.575509619496298], [0.9925488133348691, 0.0012728927244944307, 4.943615350555282e-07, 1.6260668481106484e-08, 1.5563435415757895e-08, 1.505746445858009e-08], [0.007415973153335949, 0.8940269465532624, 0.027613144191750132, 9.022610465481121e-05, 9.091585557868993e-06, 4.356299562882957e-06], [1.3014862456945985e-05, 0.01481079944845611, 0.6612621925616806, 0.06745648493937578, 0.007357200856175108, 0.0029469943826949075], [1.2626069968692495e-06, 8.93516069220333e-05, 0.061363911014672534, 0.4915440918309926, 0.26571890977924884, 0.13300300612369528], [1.3739998027125409e-06, 1.6721380121845944e-05, 0.0021671390536875525, 0.06352581132804322, 0.22281087982073394, 0.2885353767545883]]}], {\"font\": {\"color\": \"#FFF\"}, \"height\": 300, \"plot_bgcolor\": \"#000\", \"xaxis\": {\"dtick\": 1, \"tickcolor\": \"#FFF\", \"title\": \"Glimpses\", \"range\": [-0.5, 5.5]}, \"paper_bgcolor\": \"#000\", \"titlefont\": {\"color\": \"#FFF\"}, \"width\": 300, \"yaxis\": {\"dtick\": 1, \"tickcolor\": \"#FFF\", \"title\": \"Count Word\", \"range\": [-0.5, 5.5]}, \"title\": \"5 Blobs:Confidence after 16000 Iters\"}, {\"linkText\": \"Export to plot.ly\", \"showLink\": true})});</script>"
      ]
     },
     "metadata": {},
     "output_type": "display_data"
    },
    {
     "data": {
      "application/vnd.plotly.v1+json": {
       "data": [
        {
         "colorscale": "Jet",
         "type": "heatmap",
         "z": [
          [
           8.252701012899455e-06,
           0.023536501542578747,
           0.3431706798720165,
           0.5956527216373503,
           0.8157198370912231,
           0.8695690509850165
          ],
          [
           0.9926503064159155,
           0.001054291711143859,
           1.8602448421669724e-07,
           7.647068213821994e-09,
           3.3469479266075446e-08,
           4.6918515937649113e-08
          ],
          [
           0.007332940881040503,
           0.9732141956585089,
           0.0240322550136511,
           2.1152583912890387e-05,
           2.1923071816781704e-06,
           1.4715009801241612e-06
          ],
          [
           6.70835292665887e-06,
           0.0021895160342346384,
           0.6294056076070563,
           0.020823168931672353,
           0.00040116126974131254,
           9.318071722847886e-05
          ],
          [
           3.92221755201886e-07,
           3.5179272068827905e-06,
           0.003348119545560826,
           0.37391367050439384,
           0.048235360634795485,
           0.006655806799753455
          ],
          [
           9.025053061699924e-07,
           1.4729474626235098e-06,
           4.263746860517106e-05,
           0.009588748377973227,
           0.13564087369955727,
           0.12367991299206912
          ]
         ]
        }
       ],
       "layout": {
        "font": {
         "color": "#FFF"
        },
        "height": 300,
        "paper_bgcolor": "#000",
        "plot_bgcolor": "#000",
        "title": "5 Blobs:Confidence after 32000 Iters",
        "titlefont": {
         "color": "#FFF"
        },
        "width": 300,
        "xaxis": {
         "dtick": 1,
         "range": [
          -0.5,
          5.5
         ],
         "tickcolor": "#FFF",
         "title": "Glimpses"
        },
        "yaxis": {
         "dtick": 1,
         "range": [
          -0.5,
          5.5
         ],
         "tickcolor": "#FFF",
         "title": "Count Word"
        }
       }
      },
      "text/html": [
       "<div id=\"28434f13-403e-442c-b6dd-e858ab190768\" style=\"height: 300px; width: 300px;\" class=\"plotly-graph-div\"></div><script type=\"text/javascript\">require([\"plotly\"], function(Plotly) { window.PLOTLYENV=window.PLOTLYENV || {};window.PLOTLYENV.BASE_URL=\"https://plot.ly\";Plotly.newPlot(\"28434f13-403e-442c-b6dd-e858ab190768\", [{\"colorscale\": \"Jet\", \"type\": \"heatmap\", \"z\": [[8.252701012899455e-06, 0.023536501542578747, 0.3431706798720165, 0.5956527216373503, 0.8157198370912231, 0.8695690509850165], [0.9926503064159155, 0.001054291711143859, 1.8602448421669724e-07, 7.647068213821994e-09, 3.3469479266075446e-08, 4.6918515937649113e-08], [0.007332940881040503, 0.9732141956585089, 0.0240322550136511, 2.1152583912890387e-05, 2.1923071816781704e-06, 1.4715009801241612e-06], [6.70835292665887e-06, 0.0021895160342346384, 0.6294056076070563, 0.020823168931672353, 0.00040116126974131254, 9.318071722847886e-05], [3.92221755201886e-07, 3.5179272068827905e-06, 0.003348119545560826, 0.37391367050439384, 0.048235360634795485, 0.006655806799753455], [9.025053061699924e-07, 1.4729474626235098e-06, 4.263746860517106e-05, 0.009588748377973227, 0.13564087369955727, 0.12367991299206912]]}], {\"font\": {\"color\": \"#FFF\"}, \"height\": 300, \"plot_bgcolor\": \"#000\", \"xaxis\": {\"dtick\": 1, \"tickcolor\": \"#FFF\", \"title\": \"Glimpses\", \"range\": [-0.5, 5.5]}, \"paper_bgcolor\": \"#000\", \"titlefont\": {\"color\": \"#FFF\"}, \"width\": 300, \"yaxis\": {\"dtick\": 1, \"tickcolor\": \"#FFF\", \"title\": \"Count Word\", \"range\": [-0.5, 5.5]}, \"title\": \"5 Blobs:Confidence after 32000 Iters\"}, {\"linkText\": \"Export to plot.ly\", \"showLink\": true})});</script>"
      ],
      "text/vnd.plotly.v1+html": [
       "<div id=\"28434f13-403e-442c-b6dd-e858ab190768\" style=\"height: 300px; width: 300px;\" class=\"plotly-graph-div\"></div><script type=\"text/javascript\">require([\"plotly\"], function(Plotly) { window.PLOTLYENV=window.PLOTLYENV || {};window.PLOTLYENV.BASE_URL=\"https://plot.ly\";Plotly.newPlot(\"28434f13-403e-442c-b6dd-e858ab190768\", [{\"colorscale\": \"Jet\", \"type\": \"heatmap\", \"z\": [[8.252701012899455e-06, 0.023536501542578747, 0.3431706798720165, 0.5956527216373503, 0.8157198370912231, 0.8695690509850165], [0.9926503064159155, 0.001054291711143859, 1.8602448421669724e-07, 7.647068213821994e-09, 3.3469479266075446e-08, 4.6918515937649113e-08], [0.007332940881040503, 0.9732141956585089, 0.0240322550136511, 2.1152583912890387e-05, 2.1923071816781704e-06, 1.4715009801241612e-06], [6.70835292665887e-06, 0.0021895160342346384, 0.6294056076070563, 0.020823168931672353, 0.00040116126974131254, 9.318071722847886e-05], [3.92221755201886e-07, 3.5179272068827905e-06, 0.003348119545560826, 0.37391367050439384, 0.048235360634795485, 0.006655806799753455], [9.025053061699924e-07, 1.4729474626235098e-06, 4.263746860517106e-05, 0.009588748377973227, 0.13564087369955727, 0.12367991299206912]]}], {\"font\": {\"color\": \"#FFF\"}, \"height\": 300, \"plot_bgcolor\": \"#000\", \"xaxis\": {\"dtick\": 1, \"tickcolor\": \"#FFF\", \"title\": \"Glimpses\", \"range\": [-0.5, 5.5]}, \"paper_bgcolor\": \"#000\", \"titlefont\": {\"color\": \"#FFF\"}, \"width\": 300, \"yaxis\": {\"dtick\": 1, \"tickcolor\": \"#FFF\", \"title\": \"Count Word\", \"range\": [-0.5, 5.5]}, \"title\": \"5 Blobs:Confidence after 32000 Iters\"}, {\"linkText\": \"Export to plot.ly\", \"showLink\": true})});</script>"
      ]
     },
     "metadata": {},
     "output_type": "display_data"
    },
    {
     "data": {
      "application/vnd.plotly.v1+json": {
       "data": [
        {
         "colorscale": "Jet",
         "type": "heatmap",
         "z": [
          [
           1.3601675860064087e-06,
           0.003367983324167382,
           0.1768713349058915,
           0.3486074805639187,
           0.5244622869429966,
           0.925805397475415
          ],
          [
           0.9982597445300829,
           0.0004886331275850198,
           3.861331515918009e-08,
           1.1298806685473078e-08,
           8.287136488790077e-07,
           4.2426137875841735e-07
          ],
          [
           0.0017377166367495028,
           0.9902378174965224,
           0.0023044833882755306,
           9.78054776913095e-06,
           2.7648778595403827e-06,
           3.960989432036453e-06
          ],
          [
           4.840865471724588e-07,
           0.005900308341050503,
           0.815889215516204,
           0.007634337205480981,
           5.481638389926979e-05,
           1.274225374962296e-05
          ],
          [
           2.3643507545357582e-08,
           3.693344732211838e-06,
           0.004921205720285749,
           0.6316715791767403,
           0.019952419380813848,
           0.0008240793898841335
          ],
          [
           1.7912275866822972e-07,
           1.095633299737289e-06,
           1.3231947313397572e-05,
           0.012076330762861465,
           0.4555264131663803,
           0.07335291911000956
          ]
         ]
        }
       ],
       "layout": {
        "font": {
         "color": "#FFF"
        },
        "height": 300,
        "paper_bgcolor": "#000",
        "plot_bgcolor": "#000",
        "title": "5 Blobs:Confidence after 64000 Iters",
        "titlefont": {
         "color": "#FFF"
        },
        "width": 300,
        "xaxis": {
         "dtick": 1,
         "range": [
          -0.5,
          5.5
         ],
         "tickcolor": "#FFF",
         "title": "Glimpses"
        },
        "yaxis": {
         "dtick": 1,
         "range": [
          -0.5,
          5.5
         ],
         "tickcolor": "#FFF",
         "title": "Count Word"
        }
       }
      },
      "text/html": [
       "<div id=\"15de0a51-722f-4f48-8071-0b42d960c854\" style=\"height: 300px; width: 300px;\" class=\"plotly-graph-div\"></div><script type=\"text/javascript\">require([\"plotly\"], function(Plotly) { window.PLOTLYENV=window.PLOTLYENV || {};window.PLOTLYENV.BASE_URL=\"https://plot.ly\";Plotly.newPlot(\"15de0a51-722f-4f48-8071-0b42d960c854\", [{\"colorscale\": \"Jet\", \"type\": \"heatmap\", \"z\": [[1.3601675860064087e-06, 0.003367983324167382, 0.1768713349058915, 0.3486074805639187, 0.5244622869429966, 0.925805397475415], [0.9982597445300829, 0.0004886331275850198, 3.861331515918009e-08, 1.1298806685473078e-08, 8.287136488790077e-07, 4.2426137875841735e-07], [0.0017377166367495028, 0.9902378174965224, 0.0023044833882755306, 9.78054776913095e-06, 2.7648778595403827e-06, 3.960989432036453e-06], [4.840865471724588e-07, 0.005900308341050503, 0.815889215516204, 0.007634337205480981, 5.481638389926979e-05, 1.274225374962296e-05], [2.3643507545357582e-08, 3.693344732211838e-06, 0.004921205720285749, 0.6316715791767403, 0.019952419380813848, 0.0008240793898841335], [1.7912275866822972e-07, 1.095633299737289e-06, 1.3231947313397572e-05, 0.012076330762861465, 0.4555264131663803, 0.07335291911000956]]}], {\"font\": {\"color\": \"#FFF\"}, \"height\": 300, \"plot_bgcolor\": \"#000\", \"xaxis\": {\"dtick\": 1, \"tickcolor\": \"#FFF\", \"title\": \"Glimpses\", \"range\": [-0.5, 5.5]}, \"paper_bgcolor\": \"#000\", \"titlefont\": {\"color\": \"#FFF\"}, \"width\": 300, \"yaxis\": {\"dtick\": 1, \"tickcolor\": \"#FFF\", \"title\": \"Count Word\", \"range\": [-0.5, 5.5]}, \"title\": \"5 Blobs:Confidence after 64000 Iters\"}, {\"linkText\": \"Export to plot.ly\", \"showLink\": true})});</script>"
      ],
      "text/vnd.plotly.v1+html": [
       "<div id=\"15de0a51-722f-4f48-8071-0b42d960c854\" style=\"height: 300px; width: 300px;\" class=\"plotly-graph-div\"></div><script type=\"text/javascript\">require([\"plotly\"], function(Plotly) { window.PLOTLYENV=window.PLOTLYENV || {};window.PLOTLYENV.BASE_URL=\"https://plot.ly\";Plotly.newPlot(\"15de0a51-722f-4f48-8071-0b42d960c854\", [{\"colorscale\": \"Jet\", \"type\": \"heatmap\", \"z\": [[1.3601675860064087e-06, 0.003367983324167382, 0.1768713349058915, 0.3486074805639187, 0.5244622869429966, 0.925805397475415], [0.9982597445300829, 0.0004886331275850198, 3.861331515918009e-08, 1.1298806685473078e-08, 8.287136488790077e-07, 4.2426137875841735e-07], [0.0017377166367495028, 0.9902378174965224, 0.0023044833882755306, 9.78054776913095e-06, 2.7648778595403827e-06, 3.960989432036453e-06], [4.840865471724588e-07, 0.005900308341050503, 0.815889215516204, 0.007634337205480981, 5.481638389926979e-05, 1.274225374962296e-05], [2.3643507545357582e-08, 3.693344732211838e-06, 0.004921205720285749, 0.6316715791767403, 0.019952419380813848, 0.0008240793898841335], [1.7912275866822972e-07, 1.095633299737289e-06, 1.3231947313397572e-05, 0.012076330762861465, 0.4555264131663803, 0.07335291911000956]]}], {\"font\": {\"color\": \"#FFF\"}, \"height\": 300, \"plot_bgcolor\": \"#000\", \"xaxis\": {\"dtick\": 1, \"tickcolor\": \"#FFF\", \"title\": \"Glimpses\", \"range\": [-0.5, 5.5]}, \"paper_bgcolor\": \"#000\", \"titlefont\": {\"color\": \"#FFF\"}, \"width\": 300, \"yaxis\": {\"dtick\": 1, \"tickcolor\": \"#FFF\", \"title\": \"Count Word\", \"range\": [-0.5, 5.5]}, \"title\": \"5 Blobs:Confidence after 64000 Iters\"}, {\"linkText\": \"Export to plot.ly\", \"showLink\": true})});</script>"
      ]
     },
     "metadata": {},
     "output_type": "display_data"
    },
    {
     "data": {
      "application/vnd.plotly.v1+json": {
       "data": [
        {
         "colorscale": "Jet",
         "type": "heatmap",
         "z": [
          [
           2.8945304639121874e-08,
           0.0007310384182142144,
           0.07508787865236793,
           0.44284131856530995,
           0.6126582729672526,
           0.9856424488623335
          ],
          [
           0.9993816805945939,
           0.0010178245753352318,
           7.53455051877494e-07,
           1.3828873917274091e-08,
           5.104064747659248e-07,
           1.0032976130772232e-07
          ],
          [
           0.0006178466867196829,
           0.9955945980280511,
           0.004987647807371368,
           9.666613855171149e-06,
           2.294289900639272e-06,
           1.1094558066926954e-06
          ],
          [
           1.1364698700727624e-08,
           0.002647220069195399,
           0.9170592060232906,
           0.0069317260844169865,
           2.383229084008552e-05,
           2.7039946046761514e-06
          ],
          [
           3.3618756942634924e-09,
           5.259169559953492e-06,
           0.0028462924669582575,
           0.5464291260661858,
           0.007893515044053426,
           0.00010814226732513021
          ],
          [
           1.116857947283875e-07,
           3.7046225023332483e-06,
           1.7864397848727108e-05,
           0.0037878152040393426,
           0.3794212368925677,
           0.014245128806426548
          ]
         ]
        }
       ],
       "layout": {
        "font": {
         "color": "#FFF"
        },
        "height": 300,
        "paper_bgcolor": "#000",
        "plot_bgcolor": "#000",
        "title": "5 Blobs:Confidence after 125000 Iters",
        "titlefont": {
         "color": "#FFF"
        },
        "width": 300,
        "xaxis": {
         "dtick": 1,
         "range": [
          -0.5,
          5.5
         ],
         "tickcolor": "#FFF",
         "title": "Glimpses"
        },
        "yaxis": {
         "dtick": 1,
         "range": [
          -0.5,
          5.5
         ],
         "tickcolor": "#FFF",
         "title": "Count Word"
        }
       }
      },
      "text/html": [
       "<div id=\"51f02314-ae4d-4e46-87f8-92f7729a3a37\" style=\"height: 300px; width: 300px;\" class=\"plotly-graph-div\"></div><script type=\"text/javascript\">require([\"plotly\"], function(Plotly) { window.PLOTLYENV=window.PLOTLYENV || {};window.PLOTLYENV.BASE_URL=\"https://plot.ly\";Plotly.newPlot(\"51f02314-ae4d-4e46-87f8-92f7729a3a37\", [{\"colorscale\": \"Jet\", \"type\": \"heatmap\", \"z\": [[2.8945304639121874e-08, 0.0007310384182142144, 0.07508787865236793, 0.44284131856530995, 0.6126582729672526, 0.9856424488623335], [0.9993816805945939, 0.0010178245753352318, 7.53455051877494e-07, 1.3828873917274091e-08, 5.104064747659248e-07, 1.0032976130772232e-07], [0.0006178466867196829, 0.9955945980280511, 0.004987647807371368, 9.666613855171149e-06, 2.294289900639272e-06, 1.1094558066926954e-06], [1.1364698700727624e-08, 0.002647220069195399, 0.9170592060232906, 0.0069317260844169865, 2.383229084008552e-05, 2.7039946046761514e-06], [3.3618756942634924e-09, 5.259169559953492e-06, 0.0028462924669582575, 0.5464291260661858, 0.007893515044053426, 0.00010814226732513021], [1.116857947283875e-07, 3.7046225023332483e-06, 1.7864397848727108e-05, 0.0037878152040393426, 0.3794212368925677, 0.014245128806426548]]}], {\"font\": {\"color\": \"#FFF\"}, \"height\": 300, \"plot_bgcolor\": \"#000\", \"xaxis\": {\"dtick\": 1, \"tickcolor\": \"#FFF\", \"title\": \"Glimpses\", \"range\": [-0.5, 5.5]}, \"paper_bgcolor\": \"#000\", \"titlefont\": {\"color\": \"#FFF\"}, \"width\": 300, \"yaxis\": {\"dtick\": 1, \"tickcolor\": \"#FFF\", \"title\": \"Count Word\", \"range\": [-0.5, 5.5]}, \"title\": \"5 Blobs:Confidence after 125000 Iters\"}, {\"linkText\": \"Export to plot.ly\", \"showLink\": true})});</script>"
      ],
      "text/vnd.plotly.v1+html": [
       "<div id=\"51f02314-ae4d-4e46-87f8-92f7729a3a37\" style=\"height: 300px; width: 300px;\" class=\"plotly-graph-div\"></div><script type=\"text/javascript\">require([\"plotly\"], function(Plotly) { window.PLOTLYENV=window.PLOTLYENV || {};window.PLOTLYENV.BASE_URL=\"https://plot.ly\";Plotly.newPlot(\"51f02314-ae4d-4e46-87f8-92f7729a3a37\", [{\"colorscale\": \"Jet\", \"type\": \"heatmap\", \"z\": [[2.8945304639121874e-08, 0.0007310384182142144, 0.07508787865236793, 0.44284131856530995, 0.6126582729672526, 0.9856424488623335], [0.9993816805945939, 0.0010178245753352318, 7.53455051877494e-07, 1.3828873917274091e-08, 5.104064747659248e-07, 1.0032976130772232e-07], [0.0006178466867196829, 0.9955945980280511, 0.004987647807371368, 9.666613855171149e-06, 2.294289900639272e-06, 1.1094558066926954e-06], [1.1364698700727624e-08, 0.002647220069195399, 0.9170592060232906, 0.0069317260844169865, 2.383229084008552e-05, 2.7039946046761514e-06], [3.3618756942634924e-09, 5.259169559953492e-06, 0.0028462924669582575, 0.5464291260661858, 0.007893515044053426, 0.00010814226732513021], [1.116857947283875e-07, 3.7046225023332483e-06, 1.7864397848727108e-05, 0.0037878152040393426, 0.3794212368925677, 0.014245128806426548]]}], {\"font\": {\"color\": \"#FFF\"}, \"height\": 300, \"plot_bgcolor\": \"#000\", \"xaxis\": {\"dtick\": 1, \"tickcolor\": \"#FFF\", \"title\": \"Glimpses\", \"range\": [-0.5, 5.5]}, \"paper_bgcolor\": \"#000\", \"titlefont\": {\"color\": \"#FFF\"}, \"width\": 300, \"yaxis\": {\"dtick\": 1, \"tickcolor\": \"#FFF\", \"title\": \"Count Word\", \"range\": [-0.5, 5.5]}, \"title\": \"5 Blobs:Confidence after 125000 Iters\"}, {\"linkText\": \"Export to plot.ly\", \"showLink\": true})});</script>"
      ]
     },
     "metadata": {},
     "output_type": "display_data"
    },
    {
     "data": {
      "application/vnd.plotly.v1+json": {
       "data": [
        {
         "colorscale": "Jet",
         "type": "heatmap",
         "z": [
          [
           4.454625860981864e-09,
           0.000573858365576174,
           0.34826248305384433,
           0.5514461602370686,
           0.6350134442091839,
           0.9895941651375942
          ],
          [
           0.9995149385527514,
           5.747243608788508e-05,
           7.710842008436915e-08,
           1.6142689177016532e-07,
           1.0982602262004724e-05,
           6.934230896565907e-07
          ],
          [
           0.0004836213435355088,
           0.9991518757124679,
           0.0012413465032779444,
           6.1953225913218675e-06,
           1.1063918086104772e-05,
           3.8114776169982414e-06
          ],
          [
           5.479685770649779e-09,
           0.00021504320072978107,
           0.6496475199506891,
           0.00256334304729905,
           2.452352978030709e-05,
           6.213047466691289e-06
          ],
          [
           8.62505034840789e-09,
           2.982505569180814e-07,
           0.0008452289972984144,
           0.4443778421572207,
           0.0032636051157784477,
           8.010330198288105e-05
          ],
          [
           7.962576621909203e-07,
           7.8413792367015e-07,
           2.705606128560363e-06,
           0.001605677016948135,
           0.36167575724749634,
           0.010314380298961468
          ]
         ]
        }
       ],
       "layout": {
        "font": {
         "color": "#FFF"
        },
        "height": 300,
        "paper_bgcolor": "#000",
        "plot_bgcolor": "#000",
        "title": "5 Blobs:Confidence after 250000 Iters",
        "titlefont": {
         "color": "#FFF"
        },
        "width": 300,
        "xaxis": {
         "dtick": 1,
         "range": [
          -0.5,
          5.5
         ],
         "tickcolor": "#FFF",
         "title": "Glimpses"
        },
        "yaxis": {
         "dtick": 1,
         "range": [
          -0.5,
          5.5
         ],
         "tickcolor": "#FFF",
         "title": "Count Word"
        }
       }
      },
      "text/html": [
       "<div id=\"1be9b2ea-17e3-43b8-be38-35c99c8507dd\" style=\"height: 300px; width: 300px;\" class=\"plotly-graph-div\"></div><script type=\"text/javascript\">require([\"plotly\"], function(Plotly) { window.PLOTLYENV=window.PLOTLYENV || {};window.PLOTLYENV.BASE_URL=\"https://plot.ly\";Plotly.newPlot(\"1be9b2ea-17e3-43b8-be38-35c99c8507dd\", [{\"colorscale\": \"Jet\", \"type\": \"heatmap\", \"z\": [[4.454625860981864e-09, 0.000573858365576174, 0.34826248305384433, 0.5514461602370686, 0.6350134442091839, 0.9895941651375942], [0.9995149385527514, 5.747243608788508e-05, 7.710842008436915e-08, 1.6142689177016532e-07, 1.0982602262004724e-05, 6.934230896565907e-07], [0.0004836213435355088, 0.9991518757124679, 0.0012413465032779444, 6.1953225913218675e-06, 1.1063918086104772e-05, 3.8114776169982414e-06], [5.479685770649779e-09, 0.00021504320072978107, 0.6496475199506891, 0.00256334304729905, 2.452352978030709e-05, 6.213047466691289e-06], [8.62505034840789e-09, 2.982505569180814e-07, 0.0008452289972984144, 0.4443778421572207, 0.0032636051157784477, 8.010330198288105e-05], [7.962576621909203e-07, 7.8413792367015e-07, 2.705606128560363e-06, 0.001605677016948135, 0.36167575724749634, 0.010314380298961468]]}], {\"font\": {\"color\": \"#FFF\"}, \"height\": 300, \"plot_bgcolor\": \"#000\", \"xaxis\": {\"dtick\": 1, \"tickcolor\": \"#FFF\", \"title\": \"Glimpses\", \"range\": [-0.5, 5.5]}, \"paper_bgcolor\": \"#000\", \"titlefont\": {\"color\": \"#FFF\"}, \"width\": 300, \"yaxis\": {\"dtick\": 1, \"tickcolor\": \"#FFF\", \"title\": \"Count Word\", \"range\": [-0.5, 5.5]}, \"title\": \"5 Blobs:Confidence after 250000 Iters\"}, {\"linkText\": \"Export to plot.ly\", \"showLink\": true})});</script>"
      ],
      "text/vnd.plotly.v1+html": [
       "<div id=\"1be9b2ea-17e3-43b8-be38-35c99c8507dd\" style=\"height: 300px; width: 300px;\" class=\"plotly-graph-div\"></div><script type=\"text/javascript\">require([\"plotly\"], function(Plotly) { window.PLOTLYENV=window.PLOTLYENV || {};window.PLOTLYENV.BASE_URL=\"https://plot.ly\";Plotly.newPlot(\"1be9b2ea-17e3-43b8-be38-35c99c8507dd\", [{\"colorscale\": \"Jet\", \"type\": \"heatmap\", \"z\": [[4.454625860981864e-09, 0.000573858365576174, 0.34826248305384433, 0.5514461602370686, 0.6350134442091839, 0.9895941651375942], [0.9995149385527514, 5.747243608788508e-05, 7.710842008436915e-08, 1.6142689177016532e-07, 1.0982602262004724e-05, 6.934230896565907e-07], [0.0004836213435355088, 0.9991518757124679, 0.0012413465032779444, 6.1953225913218675e-06, 1.1063918086104772e-05, 3.8114776169982414e-06], [5.479685770649779e-09, 0.00021504320072978107, 0.6496475199506891, 0.00256334304729905, 2.452352978030709e-05, 6.213047466691289e-06], [8.62505034840789e-09, 2.982505569180814e-07, 0.0008452289972984144, 0.4443778421572207, 0.0032636051157784477, 8.010330198288105e-05], [7.962576621909203e-07, 7.8413792367015e-07, 2.705606128560363e-06, 0.001605677016948135, 0.36167575724749634, 0.010314380298961468]]}], {\"font\": {\"color\": \"#FFF\"}, \"height\": 300, \"plot_bgcolor\": \"#000\", \"xaxis\": {\"dtick\": 1, \"tickcolor\": \"#FFF\", \"title\": \"Glimpses\", \"range\": [-0.5, 5.5]}, \"paper_bgcolor\": \"#000\", \"titlefont\": {\"color\": \"#FFF\"}, \"width\": 300, \"yaxis\": {\"dtick\": 1, \"tickcolor\": \"#FFF\", \"title\": \"Count Word\", \"range\": [-0.5, 5.5]}, \"title\": \"5 Blobs:Confidence after 250000 Iters\"}, {\"linkText\": \"Export to plot.ly\", \"showLink\": true})});</script>"
      ]
     },
     "metadata": {},
     "output_type": "display_data"
    },
    {
     "data": {
      "application/vnd.plotly.v1+json": {
       "data": [
        {
         "colorscale": "Jet",
         "type": "heatmap",
         "z": [
          [
           2.121239617450681e-08,
           0.000216726812252582,
           0.10907753295177251,
           0.2643588361691166,
           0.5970799060502398,
           0.9951621962535114
          ],
          [
           0.9994913585500143,
           9.264556384919171e-05,
           5.743316694619789e-08,
           2.110462498247923e-06,
           8.501219495086958e-05,
           1.5386329649136912e-06
          ],
          [
           0.0005045705342559196,
           0.998404439677073,
           0.00015589011621959964,
           1.4136720221908667e-05,
           5.575438695719758e-05,
           1.856739930551287e-05
          ],
          [
           3.509082645147528e-08,
           0.0012798774025886501,
           0.8903987803837617,
           0.001999503547530403,
           2.6271280226654896e-05,
           1.1502497001082083e-05
          ],
          [
           4.222296917496775e-08,
           1.1733207283833384e-06,
           0.0003665875318011772,
           0.7325437667359113,
           0.003353829946872784,
           9.42025899069111e-05
          ],
          [
           3.5869553448177213e-06,
           4.731435539354282e-06,
           7.460231768350577e-07,
           0.0010812643664893607,
           0.39939880011558676,
           0.004711596385002846
          ]
         ]
        }
       ],
       "layout": {
        "font": {
         "color": "#FFF"
        },
        "height": 300,
        "paper_bgcolor": "#000",
        "plot_bgcolor": "#000",
        "title": "5 Blobs:Confidence after 500000 Iters",
        "titlefont": {
         "color": "#FFF"
        },
        "width": 300,
        "xaxis": {
         "dtick": 1,
         "range": [
          -0.5,
          5.5
         ],
         "tickcolor": "#FFF",
         "title": "Glimpses"
        },
        "yaxis": {
         "dtick": 1,
         "range": [
          -0.5,
          5.5
         ],
         "tickcolor": "#FFF",
         "title": "Count Word"
        }
       }
      },
      "text/html": [
       "<div id=\"e0956356-33f4-4cba-be51-159a2934de0f\" style=\"height: 300px; width: 300px;\" class=\"plotly-graph-div\"></div><script type=\"text/javascript\">require([\"plotly\"], function(Plotly) { window.PLOTLYENV=window.PLOTLYENV || {};window.PLOTLYENV.BASE_URL=\"https://plot.ly\";Plotly.newPlot(\"e0956356-33f4-4cba-be51-159a2934de0f\", [{\"colorscale\": \"Jet\", \"type\": \"heatmap\", \"z\": [[2.121239617450681e-08, 0.000216726812252582, 0.10907753295177251, 0.2643588361691166, 0.5970799060502398, 0.9951621962535114], [0.9994913585500143, 9.264556384919171e-05, 5.743316694619789e-08, 2.110462498247923e-06, 8.501219495086958e-05, 1.5386329649136912e-06], [0.0005045705342559196, 0.998404439677073, 0.00015589011621959964, 1.4136720221908667e-05, 5.575438695719758e-05, 1.856739930551287e-05], [3.509082645147528e-08, 0.0012798774025886501, 0.8903987803837617, 0.001999503547530403, 2.6271280226654896e-05, 1.1502497001082083e-05], [4.222296917496775e-08, 1.1733207283833384e-06, 0.0003665875318011772, 0.7325437667359113, 0.003353829946872784, 9.42025899069111e-05], [3.5869553448177213e-06, 4.731435539354282e-06, 7.460231768350577e-07, 0.0010812643664893607, 0.39939880011558676, 0.004711596385002846]]}], {\"font\": {\"color\": \"#FFF\"}, \"height\": 300, \"plot_bgcolor\": \"#000\", \"xaxis\": {\"dtick\": 1, \"tickcolor\": \"#FFF\", \"title\": \"Glimpses\", \"range\": [-0.5, 5.5]}, \"paper_bgcolor\": \"#000\", \"titlefont\": {\"color\": \"#FFF\"}, \"width\": 300, \"yaxis\": {\"dtick\": 1, \"tickcolor\": \"#FFF\", \"title\": \"Count Word\", \"range\": [-0.5, 5.5]}, \"title\": \"5 Blobs:Confidence after 500000 Iters\"}, {\"linkText\": \"Export to plot.ly\", \"showLink\": true})});</script>"
      ],
      "text/vnd.plotly.v1+html": [
       "<div id=\"e0956356-33f4-4cba-be51-159a2934de0f\" style=\"height: 300px; width: 300px;\" class=\"plotly-graph-div\"></div><script type=\"text/javascript\">require([\"plotly\"], function(Plotly) { window.PLOTLYENV=window.PLOTLYENV || {};window.PLOTLYENV.BASE_URL=\"https://plot.ly\";Plotly.newPlot(\"e0956356-33f4-4cba-be51-159a2934de0f\", [{\"colorscale\": \"Jet\", \"type\": \"heatmap\", \"z\": [[2.121239617450681e-08, 0.000216726812252582, 0.10907753295177251, 0.2643588361691166, 0.5970799060502398, 0.9951621962535114], [0.9994913585500143, 9.264556384919171e-05, 5.743316694619789e-08, 2.110462498247923e-06, 8.501219495086958e-05, 1.5386329649136912e-06], [0.0005045705342559196, 0.998404439677073, 0.00015589011621959964, 1.4136720221908667e-05, 5.575438695719758e-05, 1.856739930551287e-05], [3.509082645147528e-08, 0.0012798774025886501, 0.8903987803837617, 0.001999503547530403, 2.6271280226654896e-05, 1.1502497001082083e-05], [4.222296917496775e-08, 1.1733207283833384e-06, 0.0003665875318011772, 0.7325437667359113, 0.003353829946872784, 9.42025899069111e-05], [3.5869553448177213e-06, 4.731435539354282e-06, 7.460231768350577e-07, 0.0010812643664893607, 0.39939880011558676, 0.004711596385002846]]}], {\"font\": {\"color\": \"#FFF\"}, \"height\": 300, \"plot_bgcolor\": \"#000\", \"xaxis\": {\"dtick\": 1, \"tickcolor\": \"#FFF\", \"title\": \"Glimpses\", \"range\": [-0.5, 5.5]}, \"paper_bgcolor\": \"#000\", \"titlefont\": {\"color\": \"#FFF\"}, \"width\": 300, \"yaxis\": {\"dtick\": 1, \"tickcolor\": \"#FFF\", \"title\": \"Count Word\", \"range\": [-0.5, 5.5]}, \"title\": \"5 Blobs:Confidence after 500000 Iters\"}, {\"linkText\": \"Export to plot.ly\", \"showLink\": true})});</script>"
      ]
     },
     "metadata": {},
     "output_type": "display_data"
    },
    {
     "data": {
      "application/vnd.plotly.v1+json": {
       "data": [
        {
         "colorscale": "Jet",
         "type": "heatmap",
         "z": [
          [
           5.820618763298938e-09,
           0.00014037138284732868,
           0.09134343394354812,
           0.40549148965397597,
           0.6364449297310608,
           0.9976891239925244
          ],
          [
           0.9997763868324986,
           6.765562722209073e-05,
           8.82403526544684e-08,
           5.283300599438769e-06,
           0.00013629060921972026,
           1.197813240333014e-06
          ],
          [
           0.00022099831204667125,
           0.9992999699719904,
           0.00031334924740841324,
           2.583967235208365e-05,
           8.333903625791148e-05,
           2.6424950038900996e-05
          ],
          [
           3.837901192947396e-09,
           0.0004870979755998165,
           0.9080998419186275,
           0.0009734817978934335,
           1.0979652752534409e-05,
           5.135901889547639e-06
          ],
          [
           1.2944333742860609e-08,
           5.745375376102504e-07,
           0.00024202429228113918,
           0.5924666927700475,
           0.0012562792403758446,
           2.473169527297115e-05
          ],
          [
           2.10460837499194e-06,
           3.841431565195969e-06,
           8.023485083254966e-07,
           0.0010367186554832073,
           0.3620676980277477,
           0.002252894960819458
          ]
         ]
        }
       ],
       "layout": {
        "font": {
         "color": "#FFF"
        },
        "height": 300,
        "paper_bgcolor": "#000",
        "plot_bgcolor": "#000",
        "title": "5 Blobs:Confidence after 600000 Iters",
        "titlefont": {
         "color": "#FFF"
        },
        "width": 300,
        "xaxis": {
         "dtick": 1,
         "range": [
          -0.5,
          5.5
         ],
         "tickcolor": "#FFF",
         "title": "Glimpses"
        },
        "yaxis": {
         "dtick": 1,
         "range": [
          -0.5,
          5.5
         ],
         "tickcolor": "#FFF",
         "title": "Count Word"
        }
       }
      },
      "text/html": [
       "<div id=\"5f2a6cda-3590-4f7e-94fe-41e68ff77a92\" style=\"height: 300px; width: 300px;\" class=\"plotly-graph-div\"></div><script type=\"text/javascript\">require([\"plotly\"], function(Plotly) { window.PLOTLYENV=window.PLOTLYENV || {};window.PLOTLYENV.BASE_URL=\"https://plot.ly\";Plotly.newPlot(\"5f2a6cda-3590-4f7e-94fe-41e68ff77a92\", [{\"colorscale\": \"Jet\", \"type\": \"heatmap\", \"z\": [[5.820618763298938e-09, 0.00014037138284732868, 0.09134343394354812, 0.40549148965397597, 0.6364449297310608, 0.9976891239925244], [0.9997763868324986, 6.765562722209073e-05, 8.82403526544684e-08, 5.283300599438769e-06, 0.00013629060921972026, 1.197813240333014e-06], [0.00022099831204667125, 0.9992999699719904, 0.00031334924740841324, 2.583967235208365e-05, 8.333903625791148e-05, 2.6424950038900996e-05], [3.837901192947396e-09, 0.0004870979755998165, 0.9080998419186275, 0.0009734817978934335, 1.0979652752534409e-05, 5.135901889547639e-06], [1.2944333742860609e-08, 5.745375376102504e-07, 0.00024202429228113918, 0.5924666927700475, 0.0012562792403758446, 2.473169527297115e-05], [2.10460837499194e-06, 3.841431565195969e-06, 8.023485083254966e-07, 0.0010367186554832073, 0.3620676980277477, 0.002252894960819458]]}], {\"font\": {\"color\": \"#FFF\"}, \"height\": 300, \"plot_bgcolor\": \"#000\", \"xaxis\": {\"dtick\": 1, \"tickcolor\": \"#FFF\", \"title\": \"Glimpses\", \"range\": [-0.5, 5.5]}, \"paper_bgcolor\": \"#000\", \"titlefont\": {\"color\": \"#FFF\"}, \"width\": 300, \"yaxis\": {\"dtick\": 1, \"tickcolor\": \"#FFF\", \"title\": \"Count Word\", \"range\": [-0.5, 5.5]}, \"title\": \"5 Blobs:Confidence after 600000 Iters\"}, {\"linkText\": \"Export to plot.ly\", \"showLink\": true})});</script>"
      ],
      "text/vnd.plotly.v1+html": [
       "<div id=\"5f2a6cda-3590-4f7e-94fe-41e68ff77a92\" style=\"height: 300px; width: 300px;\" class=\"plotly-graph-div\"></div><script type=\"text/javascript\">require([\"plotly\"], function(Plotly) { window.PLOTLYENV=window.PLOTLYENV || {};window.PLOTLYENV.BASE_URL=\"https://plot.ly\";Plotly.newPlot(\"5f2a6cda-3590-4f7e-94fe-41e68ff77a92\", [{\"colorscale\": \"Jet\", \"type\": \"heatmap\", \"z\": [[5.820618763298938e-09, 0.00014037138284732868, 0.09134343394354812, 0.40549148965397597, 0.6364449297310608, 0.9976891239925244], [0.9997763868324986, 6.765562722209073e-05, 8.82403526544684e-08, 5.283300599438769e-06, 0.00013629060921972026, 1.197813240333014e-06], [0.00022099831204667125, 0.9992999699719904, 0.00031334924740841324, 2.583967235208365e-05, 8.333903625791148e-05, 2.6424950038900996e-05], [3.837901192947396e-09, 0.0004870979755998165, 0.9080998419186275, 0.0009734817978934335, 1.0979652752534409e-05, 5.135901889547639e-06], [1.2944333742860609e-08, 5.745375376102504e-07, 0.00024202429228113918, 0.5924666927700475, 0.0012562792403758446, 2.473169527297115e-05], [2.10460837499194e-06, 3.841431565195969e-06, 8.023485083254966e-07, 0.0010367186554832073, 0.3620676980277477, 0.002252894960819458]]}], {\"font\": {\"color\": \"#FFF\"}, \"height\": 300, \"plot_bgcolor\": \"#000\", \"xaxis\": {\"dtick\": 1, \"tickcolor\": \"#FFF\", \"title\": \"Glimpses\", \"range\": [-0.5, 5.5]}, \"paper_bgcolor\": \"#000\", \"titlefont\": {\"color\": \"#FFF\"}, \"width\": 300, \"yaxis\": {\"dtick\": 1, \"tickcolor\": \"#FFF\", \"title\": \"Count Word\", \"range\": [-0.5, 5.5]}, \"title\": \"5 Blobs:Confidence after 600000 Iters\"}, {\"linkText\": \"Export to plot.ly\", \"showLink\": true})});</script>"
      ]
     },
     "metadata": {},
     "output_type": "display_data"
    },
    {
     "ename": "IndexError",
     "evalue": "index 5 is out of bounds for axis 1 with size 5",
     "output_type": "error",
     "traceback": [
      "\u001b[0;31m---------------------------------------------------------------------------\u001b[0m",
      "\u001b[0;31mIndexError\u001b[0m                                Traceback (most recent call last)",
      "\u001b[0;32m<ipython-input-8-2d86a7238fa2>\u001b[0m in \u001b[0;36m<module>\u001b[0;34m()\u001b[0m\n\u001b[1;32m      1\u001b[0m \u001b[0;32mfor\u001b[0m \u001b[0mn\u001b[0m\u001b[0;34m,\u001b[0m \u001b[0mnum\u001b[0m \u001b[0;32min\u001b[0m \u001b[0menumerate\u001b[0m\u001b[0;34m(\u001b[0m\u001b[0mblob_list\u001b[0m\u001b[0;34m)\u001b[0m\u001b[0;34m:\u001b[0m\u001b[0;34m\u001b[0m\u001b[0m\n\u001b[1;32m      2\u001b[0m     \u001b[0;32mfor\u001b[0m \u001b[0mi\u001b[0m\u001b[0;34m,\u001b[0m \u001b[0mit\u001b[0m \u001b[0;32min\u001b[0m \u001b[0menumerate\u001b[0m\u001b[0;34m(\u001b[0m\u001b[0miter_list\u001b[0m\u001b[0;34m)\u001b[0m\u001b[0;34m:\u001b[0m\u001b[0;34m\u001b[0m\u001b[0m\n\u001b[0;32m----> 3\u001b[0;31m         \u001b[0mplot_confidence\u001b[0m\u001b[0;34m(\u001b[0m\u001b[0mi\u001b[0m\u001b[0;34m,\u001b[0m \u001b[0mit\u001b[0m\u001b[0;34m,\u001b[0m \u001b[0mnum\u001b[0m\u001b[0;34m)\u001b[0m\u001b[0;34m\u001b[0m\u001b[0m\n\u001b[0m\u001b[1;32m      4\u001b[0m         \u001b[0;31m#plot_choice(i, it, num)\u001b[0m\u001b[0;34m\u001b[0m\u001b[0;34m\u001b[0m\u001b[0m\n",
      "\u001b[0;32m<ipython-input-7-c1f00069af11>\u001b[0m in \u001b[0;36mplot_confidence\u001b[0;34m(iter_idx, it, num_blobs, run)\u001b[0m\n\u001b[1;32m      5\u001b[0m         \u001b[0mmatrix\u001b[0m \u001b[0;34m=\u001b[0m \u001b[0mnp\u001b[0m\u001b[0;34m.\u001b[0m\u001b[0mzeros\u001b[0m\u001b[0;34m(\u001b[0m\u001b[0;34m[\u001b[0m\u001b[0;36m6\u001b[0m\u001b[0;34m,\u001b[0m\u001b[0;36m6\u001b[0m\u001b[0;34m]\u001b[0m\u001b[0;34m)\u001b[0m\u001b[0;34m\u001b[0m\u001b[0m\n\u001b[1;32m      6\u001b[0m         \u001b[0;32mfor\u001b[0m \u001b[0mg\u001b[0m \u001b[0;32min\u001b[0m \u001b[0mrange\u001b[0m \u001b[0;34m(\u001b[0m\u001b[0;36m6\u001b[0m\u001b[0;34m)\u001b[0m\u001b[0;34m:\u001b[0m\u001b[0;34m\u001b[0m\u001b[0m\n\u001b[0;32m----> 7\u001b[0;31m             \u001b[0mmatrix\u001b[0m\u001b[0;34m[\u001b[0m\u001b[0;34m:\u001b[0m\u001b[0;34m,\u001b[0m\u001b[0mg\u001b[0m\u001b[0;34m]\u001b[0m \u001b[0;34m=\u001b[0m \u001b[0mconfidence_avg\u001b[0m\u001b[0;34m[\u001b[0m\u001b[0miter_idx\u001b[0m\u001b[0;34m,\u001b[0m \u001b[0mnum_blobs\u001b[0m\u001b[0;34m,\u001b[0m \u001b[0mg\u001b[0m\u001b[0;34m,\u001b[0m \u001b[0;36m0\u001b[0m\u001b[0;34m]\u001b[0m\u001b[0;34m\u001b[0m\u001b[0m\n\u001b[0m\u001b[1;32m      8\u001b[0m         \u001b[0mplot_title\u001b[0m \u001b[0;34m=\u001b[0m \u001b[0;34m\"%d Blobs:Confidence after %d Iters\"\u001b[0m \u001b[0;34m%\u001b[0m \u001b[0;34m(\u001b[0m\u001b[0mnum_blobs\u001b[0m\u001b[0;34m+\u001b[0m\u001b[0;36m1\u001b[0m\u001b[0;34m,\u001b[0m \u001b[0mit\u001b[0m\u001b[0;34m)\u001b[0m\u001b[0;34m\u001b[0m\u001b[0m\n\u001b[1;32m      9\u001b[0m \u001b[0;34m\u001b[0m\u001b[0m\n",
      "\u001b[0;31mIndexError\u001b[0m: index 5 is out of bounds for axis 1 with size 5"
     ]
    }
   ],
   "source": [
    "for n, num in enumerate(blob_list):\n",
    "    for i, it in enumerate(iter_list):\n",
    "        plot_confidence(i, it, num)\n",
    "        #plot_choice(i, it, num)"
   ]
  },
  {
   "cell_type": "code",
   "execution_count": null,
   "metadata": {
    "collapsed": true,
    "scrolled": false
   },
   "outputs": [],
   "source": [
    "iter_list= [600000]\n",
    "for n, num in enumerate(blob_list): \n",
    "    for i, it in enumerate(iter_list):\n",
    "        plot_confidence(i, it, num)\n",
    "    #plot_choice(i, it, num)"
   ]
  },
  {
   "cell_type": "code",
   "execution_count": 51,
   "metadata": {},
   "outputs": [
    {
     "name": "stdout",
     "output_type": "stream",
     "text": [
      "z [[  5.93115274e-06   2.34581641e-05   7.22562324e-05   1.73333691e-04\n",
      "    3.23829967e-04   4.71169822e-04   5.33905355e-04   4.71169822e-04\n",
      "    3.23829967e-04   1.73333691e-04   7.22562324e-05   2.34581641e-05\n",
      "    5.93115274e-06   1.16791322e-06   1.79105293e-07]\n",
      " [  3.86759742e-05   1.52966445e-04   4.71169822e-04   1.13027764e-03\n",
      "    2.11163664e-03   3.07241318e-03   3.48150024e-03   3.07241318e-03\n",
      "    2.11163664e-03   1.13027764e-03   4.71169822e-04   1.52966445e-04\n",
      "    3.86759742e-05   7.61575086e-06   1.16791322e-06]\n",
      " [  1.96412803e-04   7.76827707e-04   2.39279779e-03   5.74002351e-03\n",
      "    1.07237757e-02   1.56030016e-02   1.76805171e-02   1.56030016e-02\n",
      "    1.07237757e-02   5.74002351e-03   2.39279779e-03   7.76827707e-04\n",
      "    1.96412803e-04   3.86759742e-05   5.93115273e-06]\n",
      " [  7.76827706e-04   3.07241318e-03   9.46369884e-03   2.27022333e-02\n",
      "    4.24133557e-02   6.17110684e-02   6.99278017e-02   6.17110684e-02\n",
      "    4.24133557e-02   2.27022333e-02   9.46369881e-03   3.07241315e-03\n",
      "    7.76827687e-04   1.52966433e-04   2.34581575e-05]\n",
      " [  2.39279687e-03   9.46369673e-03   2.91502403e-02   6.99277936e-02\n",
      "    1.30642320e-01   1.90083453e-01   2.15392767e-01   1.90083442e-01\n",
      "    1.30642301e-01   6.99277711e-02   2.91502188e-02   9.46367925e-03\n",
      "    2.39278451e-03   4.71161763e-04   7.22518585e-05]\n",
      " [  5.73979760e-03   2.27017136e-02   6.99267314e-02   1.67746104e-01\n",
      "    3.13391413e-01   4.55981750e-01   5.16694117e-01   4.55979066e-01\n",
      "    3.13386756e-01   1.67740595e-01   6.99214693e-02   2.26974368e-02\n",
      "    5.73677235e-03   1.12830572e-03   1.72263432e-04]\n",
      " [  1.07034407e-02   4.23665653e-02   1.30545991e-01   3.13217157e-01\n",
      "    5.85205655e-01   8.51463249e-01   9.64753502e-01   8.51221618e-01\n",
      "    5.84786441e-01   3.12721261e-01   1.30072309e-01   4.19815824e-02\n",
      "    1.04311156e-02   1.93412933e-03   2.27488324e-04]\n",
      " [  1.49295978e-02   6.01615826e-02   1.86893076e-01   4.50108312e-01\n",
      "    8.42203451e-01   1.22520158e+00   1.38566084e+00   1.21719987e+00\n",
      "    8.28320999e-01   4.33686476e-01   1.71206871e-01   4.74127008e-02\n",
      "    5.91143107e-03  -2.80582148e-03  -2.71922723e-03]\n",
      " [  9.47677979e-03   5.10511999e-02   1.76525800e-01   4.45088891e-01\n",
      "    8.47256027e-01   1.23034767e+00   1.36158534e+00   1.13286697e+00\n",
      "    6.78133136e-01   2.45029980e-01  -1.45712946e-02  -1.04261975e-01\n",
      "   -1.00386982e-01  -6.81300580e-02  -3.83330875e-02]\n",
      " [ -2.11635983e-02  -2.28879916e-02   1.58936955e-02   1.35045808e-01\n",
      "    3.22753201e-01   4.58835523e-01   3.73909905e-01   2.19573694e-02\n",
      "   -4.35203013e-01  -7.61556027e-01  -8.40544065e-01  -7.18953352e-01\n",
      "   -5.13538820e-01  -3.17868325e-01  -1.73718607e-01]\n",
      " [ -4.98940996e-02  -9.70669141e-02  -1.56548058e-01  -2.15747157e-01\n",
      "   -2.86909061e-01  -4.35203013e-01  -7.33894018e-01  -1.15549332e+00\n",
      "   -1.53656759e+00  -1.69399367e+00  -1.56857521e+00  -1.24468468e+00\n",
      "   -8.61683600e-01  -5.27030185e-01  -2.86866561e-01]\n",
      " [ -3.10265764e-02  -6.18968267e-02  -1.04261975e-01  -1.53192662e-01\n",
      "   -2.15747157e-01  -3.24677874e-01  -5.13927088e-01  -7.61556027e-01\n",
      "   -9.73703370e-01  -1.04979450e+00  -9.60699736e-01  -7.57962187e-01\n",
      "   -5.23401798e-01  -3.19810460e-01  -1.74016443e-01]\n",
      " [ -5.81093954e-03  -9.41290296e-03  -9.71674822e-03  -1.68375655e-03\n",
      "    1.25748335e-02   1.58936955e-02  -1.45712946e-02  -8.15869968e-02\n",
      "   -1.56548058e-01  -2.01742668e-01  -2.00813843e-01  -1.64726078e-01\n",
      "   -1.15674702e-01  -7.11403884e-02  -3.87947366e-02]\n",
      " [  1.03423940e-04   1.52292735e-03   6.27330179e-03   1.68239987e-02\n",
      "    3.27217852e-02   4.74127008e-02   5.10511999e-02   3.94109983e-02\n",
      "    1.88393329e-02   4.02163249e-04  -9.41290296e-03  -1.12259544e-02\n",
      "   -8.91474281e-03  -5.72526822e-03  -3.16693889e-03]\n",
      " [  1.76077772e-04   7.30037289e-04   2.29645615e-03   5.56251620e-03\n",
      "    1.04311156e-02   1.51712283e-02   1.71104931e-02   1.49295978e-02\n",
      "    1.00119019e-02   5.06661974e-03   1.82277381e-03   3.45054418e-04\n",
      "   -9.62472675e-05  -1.38831332e-04  -9.04104904e-05]]\n",
      "shape (15, 15)\n"
     ]
    },
    {
     "data": {
      "image/png": "[encoded data removed]",
      "text/plain": [
       "<matplotlib.figure.Figure at 0x7f0a10700710>"
      ]
     },
     "metadata": {},
     "output_type": "display_data"
    }
   ],
   "source": [
    "import matplotlib.pyplot as plt\n",
    "from mpl_toolkits.axes_grid1 import ImageGrid\n",
    "import numpy as np\n",
    "\n",
    "\n",
    "def get_demo_image():\n",
    "    from matplotlib.cbook import get_sample_data\n",
    "    f = get_sample_data(\"axes_grid/bivariate_normal.npy\", asfileobj=False)\n",
    "    z = np.load(f)\n",
    "    # z is a numpy array of 15x15\n",
    "    print(\"z\",z)\n",
    "    print(\"shape\",np.shape(z))\n",
    "    return z, (0, 6, 0, 6) #(-3, 4, -4, 3)\n",
    "\n",
    "\n",
    "def add_inner_title(ax, title, loc, size=None, **kwargs):\n",
    "    from matplotlib.offsetbox import AnchoredText\n",
    "    from matplotlib.patheffects import withStroke\n",
    "    if size is None:\n",
    "        size = dict(size=plt.rcParams['legend.fontsize'])\n",
    "    at = AnchoredText(title, loc=loc, prop=size,\n",
    "                      pad=0., borderpad=0.5,\n",
    "                      frameon=False, **kwargs)\n",
    "    ax.add_artist(at)\n",
    "    at.txt._text.set_path_effects([withStroke(foreground=\"w\", linewidth=3)])\n",
    "    return at\n",
    "\n",
    "if 1:\n",
    "    F = plt.figure(1, (20,20))\n",
    "    F.clf()\n",
    "\n",
    "    # prepare images\n",
    "    Z, extent = get_demo_image() # extent = (-3, 4, -4, 3)\n",
    "    #ZS = [Z[i::3, :] for i in range(3)] # shape(3, 5, 15)\n",
    "    #print(\"ZS\", ZS)\n",
    "    ZS = np.zeros([10,6,6])\n",
    "    iter_idx=0\n",
    "    num_blobs=0\n",
    "    matrix = np.zeros([6,6])\n",
    "    for iter_idx in range (10):\n",
    "        for g in range (6):\n",
    "            matrix[:,g] = confidence_avg[iter_idx, num_blobs, g, 0]\n",
    "            ZS[iter_idx] = matrix\n",
    "\n",
    "    extent = extent[0], extent[1], extent[2], extent[3] \n",
    "\n",
    "    grid2 = ImageGrid(F, 212,\n",
    "                      nrows_ncols=(1, 10),\n",
    "                      direction=\"row\",\n",
    "                      axes_pad=0.05,\n",
    "                      add_all=True,\n",
    "                      label_mode=\"1\",\n",
    "                      share_all=True,\n",
    "                      cbar_location=\"right\",\n",
    "                      cbar_mode=\"single\",\n",
    "                      cbar_size=\"10%\",\n",
    "                      cbar_pad=0.05,\n",
    "                      )\n",
    "\n",
    "    grid2[0].set_xlabel(\"Glimpse\")\n",
    "    grid2[0].set_ylabel(\"Count Word\")\n",
    "\n",
    "    vmax, vmin = np.max(ZS), np.min(ZS)\n",
    "    import matplotlib.colors\n",
    "    norm = matplotlib.colors.Normalize(vmax=vmax, vmin=vmin)\n",
    "\n",
    "    for ax, z in zip(grid2, ZS):\n",
    "        im = ax.imshow(z, norm=norm,\n",
    "                       origin=\"lower\", extent=extent,\n",
    "                       interpolation=\"nearest\")\n",
    "\n",
    "    # With cbar_mode=\"single\", cax attribute of all axes are identical.\n",
    "    ax.cax.colorbar(im)\n",
    "    ax.cax.toggle_label(True)\n",
    "\n",
    "    for ax, im_title in zip(grid2, [\"(a)\", \"(b)\", \"(c)\"]):\n",
    "        t = add_inner_title(ax, im_title, loc=2)\n",
    "        t.patch.set_ec(\"none\")\n",
    "        t.patch.set_alpha(0.5)\n",
    "\n",
    "    grid2[0].set_xticks([1,2,3,4,5,6])\n",
    "    grid2[0].set_yticks([0,1,2,3,4,5])\n",
    "\n",
    "    plt.draw()\n",
    "    plt.show()\n"
   ]
  },
  {
   "cell_type": "code",
   "execution_count": null,
   "metadata": {
    "collapsed": true
   },
   "outputs": [],
   "source": []
  },
  {
   "cell_type": "code",
   "execution_count": null,
   "metadata": {
    "collapsed": true
   },
   "outputs": [],
   "source": []
  }
 ],
 "metadata": {
  "kernelspec": {
   "display_name": "Python 3",
   "language": "python",
   "name": "python3"
  },
  "language_info": {
   "codemirror_mode": {
    "name": "ipython",
    "version": 3
   },
   "file_extension": ".py",
   "mimetype": "text/x-python",
   "name": "python",
   "nbconvert_exporter": "python",
   "pygments_lexer": "ipython3",
   "version": "3.5.2"
  }
 },
 "nbformat": 4,
 "nbformat_minor": 2
}
