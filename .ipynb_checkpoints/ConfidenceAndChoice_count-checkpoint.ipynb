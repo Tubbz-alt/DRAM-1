{
 "cells": [
  {
   "cell_type": "code",
   "execution_count": 1,
   "metadata": {},
   "outputs": [
    {
     "data": {
      "text/html": [
       "<script>requirejs.config({paths: { 'plotly': ['https://cdn.plot.ly/plotly-latest.min']},});if(!window.Plotly) {{require(['plotly'],function(plotly) {window.Plotly=plotly;});}}</script>"
      ],
      "text/vnd.plotly.v1+html": [
       "<script>requirejs.config({paths: { 'plotly': ['https://cdn.plot.ly/plotly-latest.min']},});if(!window.Plotly) {{require(['plotly'],function(plotly) {window.Plotly=plotly;});}}</script>"
      ]
     },
     "metadata": {},
     "output_type": "display_data"
    },
    {
     "name": "stdout",
     "output_type": "stream",
     "text": [
      "['/usr/local/lib/python3.5/dist-packages/ipykernel_launcher.py', '-f', 'true', 'true', 'true', 'true', 'true', 'model_runs/-f/count_log.csv', 'model_runs/-f/countmodel_0.ckpt', 'model_runs/-f/countmodel_', 'true', 'false', 'false', 'true']\n",
      "WARNING:tensorflow:From /home/mtfang/DRAM/COUNT_twolayer2_test.py:288: arg_max (from tensorflow.python.ops.gen_math_ops) is deprecated and will be removed in a future version.\n",
      "Instructions for updating:\n",
      "Use `argmax` instead\n",
      "WARNING:tensorflow:From /home/mtfang/DRAM/COUNT_twolayer2_test.py:289: arg_max (from tensorflow.python.ops.gen_math_ops) is deprecated and will be removed in a future version.\n",
      "Instructions for updating:\n",
      "Use `argmax` instead\n",
      "WARNING:tensorflow:From /home/mtfang/DRAM/COUNT_twolayer2_test.py:288: arg_max (from tensorflow.python.ops.gen_math_ops) is deprecated and will be removed in a future version.\n",
      "Instructions for updating:\n",
      "Use `argmax` instead\n",
      "WARNING:tensorflow:From /home/mtfang/DRAM/COUNT_twolayer2_test.py:289: arg_max (from tensorflow.python.ops.gen_math_ops) is deprecated and will be removed in a future version.\n",
      "Instructions for updating:\n",
      "Use `argmax` instead\n",
      "WARNING:tensorflow:From /home/mtfang/DRAM/COUNT_twolayer2_test.py:288: arg_max (from tensorflow.python.ops.gen_math_ops) is deprecated and will be removed in a future version.\n",
      "Instructions for updating:\n",
      "Use `argmax` instead\n",
      "WARNING:tensorflow:From /home/mtfang/DRAM/COUNT_twolayer2_test.py:289: arg_max (from tensorflow.python.ops.gen_math_ops) is deprecated and will be removed in a future version.\n",
      "Instructions for updating:\n",
      "Use `argmax` instead\n",
      "WARNING:tensorflow:From /home/mtfang/DRAM/COUNT_twolayer2_test.py:288: arg_max (from tensorflow.python.ops.gen_math_ops) is deprecated and will be removed in a future version.\n",
      "Instructions for updating:\n",
      "Use `argmax` instead\n",
      "WARNING:tensorflow:From /home/mtfang/DRAM/COUNT_twolayer2_test.py:289: arg_max (from tensorflow.python.ops.gen_math_ops) is deprecated and will be removed in a future version.\n",
      "Instructions for updating:\n",
      "Use `argmax` instead\n",
      "WARNING:tensorflow:From /home/mtfang/DRAM/COUNT_twolayer2_test.py:288: arg_max (from tensorflow.python.ops.gen_math_ops) is deprecated and will be removed in a future version.\n",
      "Instructions for updating:\n",
      "Use `argmax` instead\n",
      "WARNING:tensorflow:From /home/mtfang/DRAM/COUNT_twolayer2_test.py:289: arg_max (from tensorflow.python.ops.gen_math_ops) is deprecated and will be removed in a future version.\n",
      "Instructions for updating:\n",
      "Use `argmax` instead\n",
      "WARNING:tensorflow:From /home/mtfang/DRAM/COUNT_twolayer2_test.py:288: arg_max (from tensorflow.python.ops.gen_math_ops) is deprecated and will be removed in a future version.\n",
      "Instructions for updating:\n",
      "Use `argmax` instead\n",
      "WARNING:tensorflow:From /home/mtfang/DRAM/COUNT_twolayer2_test.py:289: arg_max (from tensorflow.python.ops.gen_math_ops) is deprecated and will be removed in a future version.\n",
      "Instructions for updating:\n",
      "Use `argmax` instead\n",
      "WARNING:tensorflow:From /home/mtfang/DRAM/COUNT_twolayer2_test.py:288: arg_max (from tensorflow.python.ops.gen_math_ops) is deprecated and will be removed in a future version.\n",
      "Instructions for updating:\n",
      "Use `argmax` instead\n",
      "WARNING:tensorflow:From /home/mtfang/DRAM/COUNT_twolayer2_test.py:289: arg_max (from tensorflow.python.ops.gen_math_ops) is deprecated and will be removed in a future version.\n",
      "Instructions for updating:\n",
      "Use `argmax` instead\n",
      "WARNING:tensorflow:From /home/mtfang/DRAM/COUNT_twolayer2_test.py:288: arg_max (from tensorflow.python.ops.gen_math_ops) is deprecated and will be removed in a future version.\n",
      "Instructions for updating:\n",
      "Use `argmax` instead\n",
      "WARNING:tensorflow:From /home/mtfang/DRAM/COUNT_twolayer2_test.py:289: arg_max (from tensorflow.python.ops.gen_math_ops) is deprecated and will be removed in a future version.\n",
      "Instructions for updating:\n",
      "Use `argmax` instead\n",
      "WARNING:tensorflow:From /home/mtfang/DRAM/COUNT_twolayer2_test.py:288: arg_max (from tensorflow.python.ops.gen_math_ops) is deprecated and will be removed in a future version.\n",
      "Instructions for updating:\n",
      "Use `argmax` instead\n",
      "WARNING:tensorflow:From /home/mtfang/DRAM/COUNT_twolayer2_test.py:289: arg_max (from tensorflow.python.ops.gen_math_ops) is deprecated and will be removed in a future version.\n",
      "Instructions for updating:\n",
      "Use `argmax` instead\n",
      "WARNING:tensorflow:From /home/mtfang/DRAM/COUNT_twolayer2_test.py:288: arg_max (from tensorflow.python.ops.gen_math_ops) is deprecated and will be removed in a future version.\n",
      "Instructions for updating:\n",
      "Use `argmax` instead\n",
      "WARNING:tensorflow:From /home/mtfang/DRAM/COUNT_twolayer2_test.py:289: arg_max (from tensorflow.python.ops.gen_math_ops) is deprecated and will be removed in a future version.\n",
      "Instructions for updating:\n",
      "Use `argmax` instead\n",
      "analysis_count.py\n"
     ]
    }
   ],
   "source": [
    "import numpy as np\n",
    "from plotly.offline import download_plotlyjs, init_notebook_mode, plot, iplot\n",
    "init_notebook_mode(connected=True)\n",
    "import plotly.graph_objs as go\n",
    "from analysis_count import read_n, classify_imgs2\n",
    "import matplotlib.pyplot as plt\n",
    "%matplotlib inline"
   ]
  },
  {
   "cell_type": "code",
   "execution_count": 2,
   "metadata": {
    "collapsed": true
   },
   "outputs": [],
   "source": [
    "model_name = \"COUNT_5blobs_0threshold_2mask\"\n",
    "num_runs = 1\n",
    "iter_list = [0, 400, 800, 1600, 3200, 6400, 12800, 25600, 51200, 102400, 153600, 204800, 307200]\n",
    "             #[0, 1000, 4000, 16000, 32000, 64000, 125000, 250000, 500000, 600000]\n",
    "#iter_list = np.arange(0,11100000,100000)\n",
    "glimpse_list = np.arange(0,6,1)\n",
    "max_blobs = 5\n",
    "min_blobs = 1\n",
    "\n",
    "num_iters = len(iter_list)\n",
    "num_glimpses = len(glimpse_list)\n",
    "blob_list = np.arange(0,6,1)\n",
    "output_size = max_blobs - min_blobs + 2 # 6\n",
    "data_directory = \"data/\" + model_name + \"/\"\n",
    "m = 0.5\n",
    "\n",
    "confidence_all_runs = np.zeros([num_runs, num_iters, output_size-1, num_glimpses, 1, output_size]) \n",
    "choice_all_runs = np.zeros([num_runs, num_iters, output_size-1, num_glimpses, 1, output_size])"
   ]
  },
  {
   "cell_type": "code",
   "execution_count": 3,
   "metadata": {
    "collapsed": true
   },
   "outputs": [],
   "source": [
    "def fill_matrix(path, iteration):\n",
    "    \"\"\"Fill the confidence and choice matrices for one run at one iteration.\"\"\"\n",
    "    \n",
    "    data = None\n",
    "    num_imgs = 100 # batch_size\n",
    "    imgs_data = classify_imgs2(iteration, True, num_imgs, path=path) # new_imgs = True\n",
    "        \n",
    "    confidence_one_run = np.zeros([output_size-1, num_glimpses, 1, output_size])\n",
    "    choice_one_run = np.zeros([output_size-1, num_glimpses, 1, output_size])\n",
    "    \n",
    "    for nb in range(output_size-1):\n",
    "        confidence_hist = np.zeros([num_glimpses, 1, output_size])\n",
    "        choice_hist = np.zeros([num_glimpses, 1, output_size])\n",
    "        num_imgs_with_num_blobs = 0.00001\n",
    "        \n",
    "        for idx, data in enumerate(imgs_data):\n",
    "            if data[\"label\"][nb] == 1: # data is for an image with nb+1 blobs\n",
    "                num_imgs_with_num_blobs += 1\n",
    "                \n",
    "                for g, glimpse in enumerate(glimpse_list):\n",
    "                    # Histogram of softmaxes\n",
    "                    confidence_hist[glimpse] += data[\"classifications\"][glimpse]\n",
    "                    # Histogram of choices\n",
    "                    choice = np.argmax(data[\"classifications\"][glimpse])\n",
    "                    choice_list = [0] * (output_size)\n",
    "                    choice_list[choice] = 1\n",
    "                    choice_hist[glimpse] += choice_list\n",
    "\n",
    "        confidence_hist = confidence_hist / num_imgs_with_num_blobs\n",
    "        confidence_one_run[nb] = confidence_hist.tolist()\n",
    "        choice_hist = choice_hist / num_imgs_with_num_blobs\n",
    "        choice_one_run[nb] = choice_hist.tolist()\n",
    "    return confidence_one_run, choice_one_run"
   ]
  },
  {
   "cell_type": "code",
   "execution_count": 4,
   "metadata": {},
   "outputs": [
    {
     "name": "stdout",
     "output_type": "stream",
     "text": [
      "INFO:tensorflow:Restoring parameters from model_runs/COUNT_5blobs_0threshold_2mask/countmodel_0.ckpt\n",
      "INFO:tensorflow:Restoring parameters from model_runs/COUNT_5blobs_0threshold_2mask/countmodel_100.ckpt\n",
      "INFO:tensorflow:Restoring parameters from model_runs/COUNT_5blobs_0threshold_2mask/countmodel_200.ckpt\n",
      "INFO:tensorflow:Restoring parameters from model_runs/COUNT_5blobs_0threshold_2mask/countmodel_300.ckpt\n",
      "INFO:tensorflow:Restoring parameters from model_runs/COUNT_5blobs_0threshold_2mask/countmodel_400.ckpt\n",
      "INFO:tensorflow:Restoring parameters from model_runs/COUNT_5blobs_0threshold_2mask/countmodel_600.ckpt\n",
      "INFO:tensorflow:Restoring parameters from model_runs/COUNT_5blobs_0threshold_2mask/countmodel_800.ckpt\n",
      "INFO:tensorflow:Restoring parameters from model_runs/COUNT_5blobs_0threshold_2mask/countmodel_1200.ckpt\n",
      "INFO:tensorflow:Restoring parameters from model_runs/COUNT_5blobs_0threshold_2mask/countmodel_1600.ckpt\n",
      "INFO:tensorflow:Restoring parameters from model_runs/COUNT_5blobs_0threshold_2mask/countmodel_2400.ckpt\n",
      "INFO:tensorflow:Restoring parameters from model_runs/COUNT_5blobs_0threshold_2mask/countmodel_3200.ckpt\n",
      "INFO:tensorflow:Restoring parameters from model_runs/COUNT_5blobs_0threshold_2mask/countmodel_4800.ckpt\n",
      "INFO:tensorflow:Restoring parameters from model_runs/COUNT_5blobs_0threshold_2mask/countmodel_6400.ckpt\n",
      "INFO:tensorflow:Restoring parameters from model_runs/COUNT_5blobs_0threshold_2mask/countmodel_9600.ckpt\n",
      "INFO:tensorflow:Restoring parameters from model_runs/COUNT_5blobs_0threshold_2mask/countmodel_12800.ckpt\n",
      "INFO:tensorflow:Restoring parameters from model_runs/COUNT_5blobs_0threshold_2mask/countmodel_19200.ckpt\n",
      "INFO:tensorflow:Restoring parameters from model_runs/COUNT_5blobs_0threshold_2mask/countmodel_25600.ckpt\n",
      "INFO:tensorflow:Restoring parameters from model_runs/COUNT_5blobs_0threshold_2mask/countmodel_38400.ckpt\n",
      "INFO:tensorflow:Restoring parameters from model_runs/COUNT_5blobs_0threshold_2mask/countmodel_51200.ckpt\n",
      "INFO:tensorflow:Restoring parameters from model_runs/COUNT_5blobs_0threshold_2mask/countmodel_76800.ckpt\n",
      "INFO:tensorflow:Restoring parameters from model_runs/COUNT_5blobs_0threshold_2mask/countmodel_102400.ckpt\n",
      "INFO:tensorflow:Restoring parameters from model_runs/COUNT_5blobs_0threshold_2mask/countmodel_153600.ckpt\n",
      "INFO:tensorflow:Restoring parameters from model_runs/COUNT_5blobs_0threshold_2mask/countmodel_204800.ckpt\n",
      "INFO:tensorflow:Restoring parameters from model_runs/COUNT_5blobs_0threshold_2mask/countmodel_307200.ckpt\n"
     ]
    }
   ],
   "source": [
    "for run in range(num_runs):\n",
    "    path = 'model_runs/' + model_name # '_run_' + str(run + 1) \n",
    "#     path = 'model_runs/DRAM_test_square'\n",
    "    for i, iteration in enumerate(iter_list):\n",
    "        confidence_all_runs[run, i], choice_all_runs[run, i] = fill_matrix(path, iteration)"
   ]
  },
  {
   "cell_type": "code",
   "execution_count": 5,
   "metadata": {
    "collapsed": true
   },
   "outputs": [],
   "source": [
    "def adj_all_runs(all_runs_matrix):\n",
    "    \"\"\"Adjust all the matrices so tick marks start with 1.\"\"\"\n",
    "    \n",
    "    new_all_runs_matrix = np.zeros([num_runs, num_iters, output_size-1, num_glimpses+1, 1, output_size])\n",
    "    for m, matrix in enumerate(all_runs_matrix):\n",
    "        for i in range(num_iters):\n",
    "            for g in range(num_glimpses):\n",
    "                new_all_runs_matrix[m, i, g] = adj_matrix(matrix[i, g])\n",
    "    return new_all_runs_matrix\n",
    "\n",
    "\n",
    "def adj_matrix(matrix):\n",
    "    \"\"\"Adjust the matrix so tick marks start with 1.\"\"\"\n",
    "    \n",
    "    a = np.zeros([1, output_size])\n",
    "    temp = np.vstack((a, matrix))\n",
    "    b = np.zeros([output_size + 1, 1])\n",
    "    new_matrix = np.hstack((b, temp))\n",
    "    return new_matrix\n",
    "\n",
    "\n",
    "confidence_all_runs_adj = confidence_all_runs#adj_all_runs(confidence_all_runs)\n",
    "choice_all_runs_adj = choice_all_runs#adj_all_runs(choice_all_runs)"
   ]
  },
  {
   "cell_type": "code",
   "execution_count": 6,
   "metadata": {},
   "outputs": [
    {
     "data": {
      "text/plain": [
       "array([ 0.30655916,  0.39880054,  0.09252108,  0.07425675,  0.06708316,\n",
       "        0.06077889])"
      ]
     },
     "execution_count": 6,
     "metadata": {},
     "output_type": "execute_result"
    }
   ],
   "source": [
    "confidence_avg = np.mean(confidence_all_runs_adj, axis=0)\n",
    "choice_avg = np.mean(choice_all_runs_adj, axis=0)\n",
    "confidence_avg[5,0,0,0]"
   ]
  },
  {
   "cell_type": "code",
   "execution_count": 7,
   "metadata": {
    "collapsed": true
   },
   "outputs": [],
   "source": [
    "def plot_confidence(iter_idx, it, num_blobs, run=None):\n",
    "    \"\"\"Plot the confidence heatmap.\"\"\"\n",
    "    \n",
    "    if run is None:\n",
    "        matrix = np.zeros([6,6])\n",
    "        for g in range (6):\n",
    "            matrix[:,g] = confidence_avg[iter_idx, num_blobs, g, 0]\n",
    "        plot_title = \"%d Blobs:Confidence after %d Iters\" % (num_blobs+1, it)\n",
    "\n",
    "    else:\n",
    "        matrix = np.zeros([6,6])\n",
    "        for g in range (6):\n",
    "            matrix = confidence_all_runs_adj[run, iter_idx, num_blobs, g, 0]\n",
    "        plot_title = \"%d Blobs:Confidence at Run %d after %d Iters\" % (num_blobs+1, run + 1, it)\n",
    "    plot_heatmap(matrix, num_blobs, plot_title)\n",
    "\n",
    "\n",
    "def plot_choice(iter_idx, it, num_blobs, run=None):\n",
    "    \"\"\"Plot the choice heatmap.\"\"\"\n",
    "    \n",
    "    if run is None:\n",
    "        matrix = np.zeros([6,6])\n",
    "        for g in range (6):\n",
    "            matrix[:,g] = choice_avg[iter_idx, num_blobs, g, 0]\n",
    "        plot_title = \"%d Blobs:Choice after %d Iterations\" % (num_blobs+1, it)\n",
    "    else:\n",
    "        matrix = np.zeros([6,6])\n",
    "        for g in range (6):\n",
    "            matrix = choice_all_runs_adj[run, iter_idx, num_blobs, g, 0]\n",
    "        plot_title = \"%d Blobs:Choice at Run %d after %d Iterations\" % (num_blobs+1, run + 1, it)\n",
    "    plot_heatmap(matrix, num_blobs, plot_title)\n",
    "    \n",
    "    \n",
    "def plot_heatmap(matrix, num_blobs, plot_title):\n",
    "    \"\"\"Plot heatmap.\"\"\"\n",
    "    \n",
    "    data = [go.Heatmap(\n",
    "        z=matrix,\n",
    "        colorscale=\"Jet\"\n",
    "    )]\n",
    "\n",
    "    layout = go.Layout(\n",
    "        title=plot_title,\n",
    "        yaxis=dict(\n",
    "#             range=[max_blobs + m, min_blobs - m],\n",
    "            range=[0 - m, 5 + m],\n",
    "            title=\"Count Word\",\n",
    "            dtick=1,\n",
    "            tickcolor='#FFF'\n",
    "        ),\n",
    "        xaxis=dict(\n",
    "            range=[0 - m, 5 + m],\n",
    "            title=\"Glimpses\",\n",
    "            dtick=1,\n",
    "            tickcolor='#FFF'\n",
    "        ),\n",
    "        width=300,\n",
    "        height=300,\n",
    "        plot_bgcolor=\"#000\",\n",
    "        paper_bgcolor=\"#000\",\n",
    "        font=dict(\n",
    "            color=\"#FFF\"\n",
    "        ),\n",
    "        titlefont=dict(\n",
    "            color=\"#FFF\"\n",
    "        ),\n",
    "    )\n",
    "    fig = go.Figure(data=data, layout=layout)\n",
    "    iplot(fig)"
   ]
  },
  {
   "cell_type": "code",
   "execution_count": 8,
   "metadata": {
    "scrolled": false
   },
   "outputs": [
    {
     "data": {
      "application/vnd.plotly.v1+json": {
       "data": [
        {
         "colorscale": "Jet",
         "type": "heatmap",
         "z": [
          [
           0.16757230121898917,
           0.1681428881742171,
           0.1685298519218532,
           0.1688005028416093,
           0.16898931475554319,
           0.16909225503858707
          ],
          [
           0.167302092366831,
           0.16769072752735126,
           0.16795441836596642,
           0.16816622648733096,
           0.16836669234622606,
           0.1685818010734198
          ],
          [
           0.16662270711200566,
           0.16660900674175982,
           0.16653216645255367,
           0.16642423862876002,
           0.16630436566660145,
           0.1662093658365202
          ],
          [
           0.16488356599491832,
           0.16366622917692664,
           0.1628157923222652,
           0.1621757603968739,
           0.16167378891418183,
           0.16127788819884345
          ],
          [
           0.1670905270101164,
           0.1674201629101178,
           0.16764687280734886,
           0.16783273988052883,
           0.1680029874388772,
           0.16816963140124502
          ],
          [
           0.1665283840427133,
           0.16647056073167535,
           0.16652048643057124,
           0.1666001250325073,
           0.1666624404208918,
           0.16666865109811327
          ]
         ]
        }
       ],
       "layout": {
        "font": {
         "color": "#FFF"
        },
        "height": 300,
        "paper_bgcolor": "#000",
        "plot_bgcolor": "#000",
        "title": "1 Blobs:Confidence after 0 Iters",
        "titlefont": {
         "color": "#FFF"
        },
        "width": 300,
        "xaxis": {
         "dtick": 1,
         "range": [
          -0.5,
          5.5
         ],
         "tickcolor": "#FFF",
         "title": "Glimpses"
        },
        "yaxis": {
         "dtick": 1,
         "range": [
          -0.5,
          5.5
         ],
         "tickcolor": "#FFF",
         "title": "Count Word"
        }
       }
      },
      "text/html": [
       "<div id=\"939bc97b-15e1-426d-a976-8b01f60502ff\" style=\"height: 300px; width: 300px;\" class=\"plotly-graph-div\"></div><script type=\"text/javascript\">require([\"plotly\"], function(Plotly) { window.PLOTLYENV=window.PLOTLYENV || {};window.PLOTLYENV.BASE_URL=\"https://plot.ly\";Plotly.newPlot(\"939bc97b-15e1-426d-a976-8b01f60502ff\", [{\"colorscale\": \"Jet\", \"z\": [[0.16757230121898917, 0.1681428881742171, 0.1685298519218532, 0.1688005028416093, 0.16898931475554319, 0.16909225503858707], [0.167302092366831, 0.16769072752735126, 0.16795441836596642, 0.16816622648733096, 0.16836669234622606, 0.1685818010734198], [0.16662270711200566, 0.16660900674175982, 0.16653216645255367, 0.16642423862876002, 0.16630436566660145, 0.1662093658365202], [0.16488356599491832, 0.16366622917692664, 0.1628157923222652, 0.1621757603968739, 0.16167378891418183, 0.16127788819884345], [0.1670905270101164, 0.1674201629101178, 0.16764687280734886, 0.16783273988052883, 0.1680029874388772, 0.16816963140124502], [0.1665283840427133, 0.16647056073167535, 0.16652048643057124, 0.1666001250325073, 0.1666624404208918, 0.16666865109811327]], \"type\": \"heatmap\"}], {\"plot_bgcolor\": \"#000\", \"paper_bgcolor\": \"#000\", \"width\": 300, \"title\": \"1 Blobs:Confidence after 0 Iters\", \"yaxis\": {\"title\": \"Count Word\", \"tickcolor\": \"#FFF\", \"range\": [-0.5, 5.5], \"dtick\": 1}, \"height\": 300, \"titlefont\": {\"color\": \"#FFF\"}, \"xaxis\": {\"title\": \"Glimpses\", \"tickcolor\": \"#FFF\", \"range\": [-0.5, 5.5], \"dtick\": 1}, \"font\": {\"color\": \"#FFF\"}}, {\"linkText\": \"Export to plot.ly\", \"showLink\": true})});</script>"
      ],
      "text/vnd.plotly.v1+html": [
       "<div id=\"939bc97b-15e1-426d-a976-8b01f60502ff\" style=\"height: 300px; width: 300px;\" class=\"plotly-graph-div\"></div><script type=\"text/javascript\">require([\"plotly\"], function(Plotly) { window.PLOTLYENV=window.PLOTLYENV || {};window.PLOTLYENV.BASE_URL=\"https://plot.ly\";Plotly.newPlot(\"939bc97b-15e1-426d-a976-8b01f60502ff\", [{\"colorscale\": \"Jet\", \"z\": [[0.16757230121898917, 0.1681428881742171, 0.1685298519218532, 0.1688005028416093, 0.16898931475554319, 0.16909225503858707], [0.167302092366831, 0.16769072752735126, 0.16795441836596642, 0.16816622648733096, 0.16836669234622606, 0.1685818010734198], [0.16662270711200566, 0.16660900674175982, 0.16653216645255367, 0.16642423862876002, 0.16630436566660145, 0.1662093658365202], [0.16488356599491832, 0.16366622917692664, 0.1628157923222652, 0.1621757603968739, 0.16167378891418183, 0.16127788819884345], [0.1670905270101164, 0.1674201629101178, 0.16764687280734886, 0.16783273988052883, 0.1680029874388772, 0.16816963140124502], [0.1665283840427133, 0.16647056073167535, 0.16652048643057124, 0.1666001250325073, 0.1666624404208918, 0.16666865109811327]], \"type\": \"heatmap\"}], {\"plot_bgcolor\": \"#000\", \"paper_bgcolor\": \"#000\", \"width\": 300, \"title\": \"1 Blobs:Confidence after 0 Iters\", \"yaxis\": {\"title\": \"Count Word\", \"tickcolor\": \"#FFF\", \"range\": [-0.5, 5.5], \"dtick\": 1}, \"height\": 300, \"titlefont\": {\"color\": \"#FFF\"}, \"xaxis\": {\"title\": \"Glimpses\", \"tickcolor\": \"#FFF\", \"range\": [-0.5, 5.5], \"dtick\": 1}, \"font\": {\"color\": \"#FFF\"}}, {\"linkText\": \"Export to plot.ly\", \"showLink\": true})});</script>"
      ]
     },
     "metadata": {},
     "output_type": "display_data"
    },
    {
     "data": {
      "application/vnd.plotly.v1+json": {
       "data": [
        {
         "colorscale": "Jet",
         "type": "heatmap",
         "z": [
          [
           0.17408033435020415,
           0.17469951962259017,
           0.17524357171123733,
           0.17573899819941483,
           0.17618970083648694,
           0.1765893740817725
          ],
          [
           0.18583525426142464,
           0.18693999910565604,
           0.1876831556997537,
           0.18821782319887453,
           0.18863057808825992,
           0.18897973093378653
          ],
          [
           0.1629617313320961,
           0.16236421704231,
           0.16190712573180638,
           0.1615138866476836,
           0.16114756375214034,
           0.16079835992898386
          ],
          [
           0.1587183032270715,
           0.1576248652211487,
           0.15691046471593384,
           0.15639305196812237,
           0.15599099453830062,
           0.15567844049394688
          ],
          [
           0.15977864106577405,
           0.16009794925395202,
           0.1603411321552864,
           0.16057030012975843,
           0.16081247759537723,
           0.1610653211497105
          ],
          [
           0.15862520160520482,
           0.15827292892872924,
           0.15791402680755487,
           0.15756540491365031,
           0.15722816514809232,
           0.15688824631201606
          ]
         ]
        }
       ],
       "layout": {
        "font": {
         "color": "#FFF"
        },
        "height": 300,
        "paper_bgcolor": "#000",
        "plot_bgcolor": "#000",
        "title": "1 Blobs:Confidence after 100 Iters",
        "titlefont": {
         "color": "#FFF"
        },
        "width": 300,
        "xaxis": {
         "dtick": 1,
         "range": [
          -0.5,
          5.5
         ],
         "tickcolor": "#FFF",
         "title": "Glimpses"
        },
        "yaxis": {
         "dtick": 1,
         "range": [
          -0.5,
          5.5
         ],
         "tickcolor": "#FFF",
         "title": "Count Word"
        }
       }
      },
      "text/html": [
       "<div id=\"d9d5c380-778a-4063-b855-10d16cd27198\" style=\"height: 300px; width: 300px;\" class=\"plotly-graph-div\"></div><script type=\"text/javascript\">require([\"plotly\"], function(Plotly) { window.PLOTLYENV=window.PLOTLYENV || {};window.PLOTLYENV.BASE_URL=\"https://plot.ly\";Plotly.newPlot(\"d9d5c380-778a-4063-b855-10d16cd27198\", [{\"colorscale\": \"Jet\", \"z\": [[0.17408033435020415, 0.17469951962259017, 0.17524357171123733, 0.17573899819941483, 0.17618970083648694, 0.1765893740817725], [0.18583525426142464, 0.18693999910565604, 0.1876831556997537, 0.18821782319887453, 0.18863057808825992, 0.18897973093378653], [0.1629617313320961, 0.16236421704231, 0.16190712573180638, 0.1615138866476836, 0.16114756375214034, 0.16079835992898386], [0.1587183032270715, 0.1576248652211487, 0.15691046471593384, 0.15639305196812237, 0.15599099453830062, 0.15567844049394688], [0.15977864106577405, 0.16009794925395202, 0.1603411321552864, 0.16057030012975843, 0.16081247759537723, 0.1610653211497105], [0.15862520160520482, 0.15827292892872924, 0.15791402680755487, 0.15756540491365031, 0.15722816514809232, 0.15688824631201606]], \"type\": \"heatmap\"}], {\"plot_bgcolor\": \"#000\", \"paper_bgcolor\": \"#000\", \"width\": 300, \"title\": \"1 Blobs:Confidence after 100 Iters\", \"yaxis\": {\"title\": \"Count Word\", \"tickcolor\": \"#FFF\", \"range\": [-0.5, 5.5], \"dtick\": 1}, \"height\": 300, \"titlefont\": {\"color\": \"#FFF\"}, \"xaxis\": {\"title\": \"Glimpses\", \"tickcolor\": \"#FFF\", \"range\": [-0.5, 5.5], \"dtick\": 1}, \"font\": {\"color\": \"#FFF\"}}, {\"linkText\": \"Export to plot.ly\", \"showLink\": true})});</script>"
      ],
      "text/vnd.plotly.v1+html": [
       "<div id=\"d9d5c380-778a-4063-b855-10d16cd27198\" style=\"height: 300px; width: 300px;\" class=\"plotly-graph-div\"></div><script type=\"text/javascript\">require([\"plotly\"], function(Plotly) { window.PLOTLYENV=window.PLOTLYENV || {};window.PLOTLYENV.BASE_URL=\"https://plot.ly\";Plotly.newPlot(\"d9d5c380-778a-4063-b855-10d16cd27198\", [{\"colorscale\": \"Jet\", \"z\": [[0.17408033435020415, 0.17469951962259017, 0.17524357171123733, 0.17573899819941483, 0.17618970083648694, 0.1765893740817725], [0.18583525426142464, 0.18693999910565604, 0.1876831556997537, 0.18821782319887453, 0.18863057808825992, 0.18897973093378653], [0.1629617313320961, 0.16236421704231, 0.16190712573180638, 0.1615138866476836, 0.16114756375214034, 0.16079835992898386], [0.1587183032270715, 0.1576248652211487, 0.15691046471593384, 0.15639305196812237, 0.15599099453830062, 0.15567844049394688], [0.15977864106577405, 0.16009794925395202, 0.1603411321552864, 0.16057030012975843, 0.16081247759537723, 0.1610653211497105], [0.15862520160520482, 0.15827292892872924, 0.15791402680755487, 0.15756540491365031, 0.15722816514809232, 0.15688824631201606]], \"type\": \"heatmap\"}], {\"plot_bgcolor\": \"#000\", \"paper_bgcolor\": \"#000\", \"width\": 300, \"title\": \"1 Blobs:Confidence after 100 Iters\", \"yaxis\": {\"title\": \"Count Word\", \"tickcolor\": \"#FFF\", \"range\": [-0.5, 5.5], \"dtick\": 1}, \"height\": 300, \"titlefont\": {\"color\": \"#FFF\"}, \"xaxis\": {\"title\": \"Glimpses\", \"tickcolor\": \"#FFF\", \"range\": [-0.5, 5.5], \"dtick\": 1}, \"font\": {\"color\": \"#FFF\"}}, {\"linkText\": \"Export to plot.ly\", \"showLink\": true})});</script>"
      ]
     },
     "metadata": {},
     "output_type": "display_data"
    },
    {
     "data": {
      "application/vnd.plotly.v1+json": {
       "data": [
        {
         "colorscale": "Jet",
         "type": "heatmap",
         "z": [
          [
           0.18618560924648744,
           0.1881860905821028,
           0.18961882709709027,
           0.19067492271026795,
           0.1914688690869761,
           0.19206494845273478
          ],
          [
           0.2157296573751878,
           0.21666767827271227,
           0.21720647556890257,
           0.2175236750884034,
           0.21774055664971875,
           0.21796693498767644
          ],
          [
           0.15529435519719825,
           0.15449094387813223,
           0.15408557761455074,
           0.1539013370319937,
           0.15380686709959313,
           0.15375937170185308
          ],
          [
           0.14818867604316835,
           0.14660981813060733,
           0.14561291599871506,
           0.14499148333469755,
           0.14457321605801382,
           0.14429125099546572
          ],
          [
           0.147890193050945,
           0.14790607023098015,
           0.14803586131795912,
           0.14820323718033807,
           0.14838025815357833,
           0.14852149400447756
          ],
          [
           0.14671106944291967,
           0.1461389375869653,
           0.1454398946307863,
           0.14470488299713682,
           0.14402978111617273,
           0.14339554768318272
          ]
         ]
        }
       ],
       "layout": {
        "font": {
         "color": "#FFF"
        },
        "height": 300,
        "paper_bgcolor": "#000",
        "plot_bgcolor": "#000",
        "title": "1 Blobs:Confidence after 200 Iters",
        "titlefont": {
         "color": "#FFF"
        },
        "width": 300,
        "xaxis": {
         "dtick": 1,
         "range": [
          -0.5,
          5.5
         ],
         "tickcolor": "#FFF",
         "title": "Glimpses"
        },
        "yaxis": {
         "dtick": 1,
         "range": [
          -0.5,
          5.5
         ],
         "tickcolor": "#FFF",
         "title": "Count Word"
        }
       }
      },
      "text/html": [
       "<div id=\"33fb5481-e43f-44fd-bc3b-78afe7a48a2c\" style=\"height: 300px; width: 300px;\" class=\"plotly-graph-div\"></div><script type=\"text/javascript\">require([\"plotly\"], function(Plotly) { window.PLOTLYENV=window.PLOTLYENV || {};window.PLOTLYENV.BASE_URL=\"https://plot.ly\";Plotly.newPlot(\"33fb5481-e43f-44fd-bc3b-78afe7a48a2c\", [{\"colorscale\": \"Jet\", \"z\": [[0.18618560924648744, 0.1881860905821028, 0.18961882709709027, 0.19067492271026795, 0.1914688690869761, 0.19206494845273478], [0.2157296573751878, 0.21666767827271227, 0.21720647556890257, 0.2175236750884034, 0.21774055664971875, 0.21796693498767644], [0.15529435519719825, 0.15449094387813223, 0.15408557761455074, 0.1539013370319937, 0.15380686709959313, 0.15375937170185308], [0.14818867604316835, 0.14660981813060733, 0.14561291599871506, 0.14499148333469755, 0.14457321605801382, 0.14429125099546572], [0.147890193050945, 0.14790607023098015, 0.14803586131795912, 0.14820323718033807, 0.14838025815357833, 0.14852149400447756], [0.14671106944291967, 0.1461389375869653, 0.1454398946307863, 0.14470488299713682, 0.14402978111617273, 0.14339554768318272]], \"type\": \"heatmap\"}], {\"plot_bgcolor\": \"#000\", \"paper_bgcolor\": \"#000\", \"width\": 300, \"title\": \"1 Blobs:Confidence after 200 Iters\", \"yaxis\": {\"title\": \"Count Word\", \"tickcolor\": \"#FFF\", \"range\": [-0.5, 5.5], \"dtick\": 1}, \"height\": 300, \"titlefont\": {\"color\": \"#FFF\"}, \"xaxis\": {\"title\": \"Glimpses\", \"tickcolor\": \"#FFF\", \"range\": [-0.5, 5.5], \"dtick\": 1}, \"font\": {\"color\": \"#FFF\"}}, {\"linkText\": \"Export to plot.ly\", \"showLink\": true})});</script>"
      ],
      "text/vnd.plotly.v1+html": [
       "<div id=\"33fb5481-e43f-44fd-bc3b-78afe7a48a2c\" style=\"height: 300px; width: 300px;\" class=\"plotly-graph-div\"></div><script type=\"text/javascript\">require([\"plotly\"], function(Plotly) { window.PLOTLYENV=window.PLOTLYENV || {};window.PLOTLYENV.BASE_URL=\"https://plot.ly\";Plotly.newPlot(\"33fb5481-e43f-44fd-bc3b-78afe7a48a2c\", [{\"colorscale\": \"Jet\", \"z\": [[0.18618560924648744, 0.1881860905821028, 0.18961882709709027, 0.19067492271026795, 0.1914688690869761, 0.19206494845273478], [0.2157296573751878, 0.21666767827271227, 0.21720647556890257, 0.2175236750884034, 0.21774055664971875, 0.21796693498767644], [0.15529435519719825, 0.15449094387813223, 0.15408557761455074, 0.1539013370319937, 0.15380686709959313, 0.15375937170185308], [0.14818867604316835, 0.14660981813060733, 0.14561291599871506, 0.14499148333469755, 0.14457321605801382, 0.14429125099546572], [0.147890193050945, 0.14790607023098015, 0.14803586131795912, 0.14820323718033807, 0.14838025815357833, 0.14852149400447756], [0.14671106944291967, 0.1461389375869653, 0.1454398946307863, 0.14470488299713682, 0.14402978111617273, 0.14339554768318272]], \"type\": \"heatmap\"}], {\"plot_bgcolor\": \"#000\", \"paper_bgcolor\": \"#000\", \"width\": 300, \"title\": \"1 Blobs:Confidence after 200 Iters\", \"yaxis\": {\"title\": \"Count Word\", \"tickcolor\": \"#FFF\", \"range\": [-0.5, 5.5], \"dtick\": 1}, \"height\": 300, \"titlefont\": {\"color\": \"#FFF\"}, \"xaxis\": {\"title\": \"Glimpses\", \"tickcolor\": \"#FFF\", \"range\": [-0.5, 5.5], \"dtick\": 1}, \"font\": {\"color\": \"#FFF\"}}, {\"linkText\": \"Export to plot.ly\", \"showLink\": true})});</script>"
      ]
     },
     "metadata": {},
     "output_type": "display_data"
    },
    {
     "data": {
      "application/vnd.plotly.v1+json": {
       "data": [
        {
         "colorscale": "Jet",
         "type": "heatmap",
         "z": [
          [
           0.1991353385668136,
           0.20415671500294388,
           0.208156590915783,
           0.21131584477783666,
           0.21376072246797173,
           0.2156591276937138
          ],
          [
           0.24855606605348296,
           0.2500256872927162,
           0.2506234660822807,
           0.2507181148942322,
           0.25060634134621357,
           0.250431157597647
          ],
          [
           0.14883886701193713,
           0.1470686241188952,
           0.1459264383303001,
           0.14517333406195432,
           0.14464310137071362,
           0.14420700340164885
          ],
          [
           0.13839187649122858,
           0.1376987874440915,
           0.1374663667114931,
           0.1375253024269573,
           0.13776437818001608,
           0.1380253503494423
          ],
          [
           0.13412770959107229,
           0.13244752968017215,
           0.1311092935618779,
           0.13003690642922233,
           0.1291603775669617,
           0.12847069508894943
          ],
          [
           0.130949594180795,
           0.12860209676672502,
           0.12671727808107452,
           0.12522994392415487,
           0.12406451316485355,
           0.12320611859177007
          ]
         ]
        }
       ],
       "layout": {
        "font": {
         "color": "#FFF"
        },
        "height": 300,
        "paper_bgcolor": "#000",
        "plot_bgcolor": "#000",
        "title": "1 Blobs:Confidence after 300 Iters",
        "titlefont": {
         "color": "#FFF"
        },
        "width": 300,
        "xaxis": {
         "dtick": 1,
         "range": [
          -0.5,
          5.5
         ],
         "tickcolor": "#FFF",
         "title": "Glimpses"
        },
        "yaxis": {
         "dtick": 1,
         "range": [
          -0.5,
          5.5
         ],
         "tickcolor": "#FFF",
         "title": "Count Word"
        }
       }
      },
      "text/html": [
       "<div id=\"5b0f8ba5-48c6-4d4b-bd3b-f44abb6b4996\" style=\"height: 300px; width: 300px;\" class=\"plotly-graph-div\"></div><script type=\"text/javascript\">require([\"plotly\"], function(Plotly) { window.PLOTLYENV=window.PLOTLYENV || {};window.PLOTLYENV.BASE_URL=\"https://plot.ly\";Plotly.newPlot(\"5b0f8ba5-48c6-4d4b-bd3b-f44abb6b4996\", [{\"colorscale\": \"Jet\", \"z\": [[0.1991353385668136, 0.20415671500294388, 0.208156590915783, 0.21131584477783666, 0.21376072246797173, 0.2156591276937138], [0.24855606605348296, 0.2500256872927162, 0.2506234660822807, 0.2507181148942322, 0.25060634134621357, 0.250431157597647], [0.14883886701193713, 0.1470686241188952, 0.1459264383303001, 0.14517333406195432, 0.14464310137071362, 0.14420700340164885], [0.13839187649122858, 0.1376987874440915, 0.1374663667114931, 0.1375253024269573, 0.13776437818001608, 0.1380253503494423], [0.13412770959107229, 0.13244752968017215, 0.1311092935618779, 0.13003690642922233, 0.1291603775669617, 0.12847069508894943], [0.130949594180795, 0.12860209676672502, 0.12671727808107452, 0.12522994392415487, 0.12406451316485355, 0.12320611859177007]], \"type\": \"heatmap\"}], {\"plot_bgcolor\": \"#000\", \"paper_bgcolor\": \"#000\", \"width\": 300, \"title\": \"1 Blobs:Confidence after 300 Iters\", \"yaxis\": {\"title\": \"Count Word\", \"tickcolor\": \"#FFF\", \"range\": [-0.5, 5.5], \"dtick\": 1}, \"height\": 300, \"titlefont\": {\"color\": \"#FFF\"}, \"xaxis\": {\"title\": \"Glimpses\", \"tickcolor\": \"#FFF\", \"range\": [-0.5, 5.5], \"dtick\": 1}, \"font\": {\"color\": \"#FFF\"}}, {\"linkText\": \"Export to plot.ly\", \"showLink\": true})});</script>"
      ],
      "text/vnd.plotly.v1+html": [
       "<div id=\"5b0f8ba5-48c6-4d4b-bd3b-f44abb6b4996\" style=\"height: 300px; width: 300px;\" class=\"plotly-graph-div\"></div><script type=\"text/javascript\">require([\"plotly\"], function(Plotly) { window.PLOTLYENV=window.PLOTLYENV || {};window.PLOTLYENV.BASE_URL=\"https://plot.ly\";Plotly.newPlot(\"5b0f8ba5-48c6-4d4b-bd3b-f44abb6b4996\", [{\"colorscale\": \"Jet\", \"z\": [[0.1991353385668136, 0.20415671500294388, 0.208156590915783, 0.21131584477783666, 0.21376072246797173, 0.2156591276937138], [0.24855606605348296, 0.2500256872927162, 0.2506234660822807, 0.2507181148942322, 0.25060634134621357, 0.250431157597647], [0.14883886701193713, 0.1470686241188952, 0.1459264383303001, 0.14517333406195432, 0.14464310137071362, 0.14420700340164885], [0.13839187649122858, 0.1376987874440915, 0.1374663667114931, 0.1375253024269573, 0.13776437818001608, 0.1380253503494423], [0.13412770959107229, 0.13244752968017215, 0.1311092935618779, 0.13003690642922233, 0.1291603775669617, 0.12847069508894943], [0.130949594180795, 0.12860209676672502, 0.12671727808107452, 0.12522994392415487, 0.12406451316485355, 0.12320611859177007]], \"type\": \"heatmap\"}], {\"plot_bgcolor\": \"#000\", \"paper_bgcolor\": \"#000\", \"width\": 300, \"title\": \"1 Blobs:Confidence after 300 Iters\", \"yaxis\": {\"title\": \"Count Word\", \"tickcolor\": \"#FFF\", \"range\": [-0.5, 5.5], \"dtick\": 1}, \"height\": 300, \"titlefont\": {\"color\": \"#FFF\"}, \"xaxis\": {\"title\": \"Glimpses\", \"tickcolor\": \"#FFF\", \"range\": [-0.5, 5.5], \"dtick\": 1}, \"font\": {\"color\": \"#FFF\"}}, {\"linkText\": \"Export to plot.ly\", \"showLink\": true})});</script>"
      ]
     },
     "metadata": {},
     "output_type": "display_data"
    },
    {
     "data": {
      "application/vnd.plotly.v1+json": {
       "data": [
        {
         "colorscale": "Jet",
         "type": "heatmap",
         "z": [
          [
           0.21630332324774654,
           0.22700193958503856,
           0.23550073053514123,
           0.24208380797906456,
           0.24738388786416793,
           0.25132984885516907
          ],
          [
           0.2908493362500467,
           0.29677307683877596,
           0.3005003205851173,
           0.302470038659678,
           0.3035171277011778,
           0.30400198324371364
          ],
          [
           0.136805129415944,
           0.1317250007771406,
           0.12828925988314213,
           0.12610582902264847,
           0.12454229679059184,
           0.12357190258083861
          ],
          [
           0.12177712728898345,
           0.1171250216651042,
           0.11373652161351629,
           0.11144880923253501,
           0.10980795212940382,
           0.10871513331542633
          ],
          [
           0.11715803609841773,
           0.11390857031313001,
           0.11174920760688954,
           0.11035775713637737,
           0.10946810947469929,
           0.10890633185785065
          ],
          [
           0.11710644272267504,
           0.11346575743930336,
           0.1102233501433971,
           0.10753313483273126,
           0.10528000336865496,
           0.10347417281908737
          ]
         ]
        }
       ],
       "layout": {
        "font": {
         "color": "#FFF"
        },
        "height": 300,
        "paper_bgcolor": "#000",
        "plot_bgcolor": "#000",
        "title": "1 Blobs:Confidence after 400 Iters",
        "titlefont": {
         "color": "#FFF"
        },
        "width": 300,
        "xaxis": {
         "dtick": 1,
         "range": [
          -0.5,
          5.5
         ],
         "tickcolor": "#FFF",
         "title": "Glimpses"
        },
        "yaxis": {
         "dtick": 1,
         "range": [
          -0.5,
          5.5
         ],
         "tickcolor": "#FFF",
         "title": "Count Word"
        }
       }
      },
      "text/html": [
       "<div id=\"97adcc1c-d519-4f5b-8cab-e57e251d8006\" style=\"height: 300px; width: 300px;\" class=\"plotly-graph-div\"></div><script type=\"text/javascript\">require([\"plotly\"], function(Plotly) { window.PLOTLYENV=window.PLOTLYENV || {};window.PLOTLYENV.BASE_URL=\"https://plot.ly\";Plotly.newPlot(\"97adcc1c-d519-4f5b-8cab-e57e251d8006\", [{\"colorscale\": \"Jet\", \"z\": [[0.21630332324774654, 0.22700193958503856, 0.23550073053514123, 0.24208380797906456, 0.24738388786416793, 0.25132984885516907], [0.2908493362500467, 0.29677307683877596, 0.3005003205851173, 0.302470038659678, 0.3035171277011778, 0.30400198324371364], [0.136805129415944, 0.1317250007771406, 0.12828925988314213, 0.12610582902264847, 0.12454229679059184, 0.12357190258083861], [0.12177712728898345, 0.1171250216651042, 0.11373652161351629, 0.11144880923253501, 0.10980795212940382, 0.10871513331542633], [0.11715803609841773, 0.11390857031313001, 0.11174920760688954, 0.11035775713637737, 0.10946810947469929, 0.10890633185785065], [0.11710644272267504, 0.11346575743930336, 0.1102233501433971, 0.10753313483273126, 0.10528000336865496, 0.10347417281908737]], \"type\": \"heatmap\"}], {\"plot_bgcolor\": \"#000\", \"paper_bgcolor\": \"#000\", \"width\": 300, \"title\": \"1 Blobs:Confidence after 400 Iters\", \"yaxis\": {\"title\": \"Count Word\", \"tickcolor\": \"#FFF\", \"range\": [-0.5, 5.5], \"dtick\": 1}, \"height\": 300, \"titlefont\": {\"color\": \"#FFF\"}, \"xaxis\": {\"title\": \"Glimpses\", \"tickcolor\": \"#FFF\", \"range\": [-0.5, 5.5], \"dtick\": 1}, \"font\": {\"color\": \"#FFF\"}}, {\"linkText\": \"Export to plot.ly\", \"showLink\": true})});</script>"
      ],
      "text/vnd.plotly.v1+html": [
       "<div id=\"97adcc1c-d519-4f5b-8cab-e57e251d8006\" style=\"height: 300px; width: 300px;\" class=\"plotly-graph-div\"></div><script type=\"text/javascript\">require([\"plotly\"], function(Plotly) { window.PLOTLYENV=window.PLOTLYENV || {};window.PLOTLYENV.BASE_URL=\"https://plot.ly\";Plotly.newPlot(\"97adcc1c-d519-4f5b-8cab-e57e251d8006\", [{\"colorscale\": \"Jet\", \"z\": [[0.21630332324774654, 0.22700193958503856, 0.23550073053514123, 0.24208380797906456, 0.24738388786416793, 0.25132984885516907], [0.2908493362500467, 0.29677307683877596, 0.3005003205851173, 0.302470038659678, 0.3035171277011778, 0.30400198324371364], [0.136805129415944, 0.1317250007771406, 0.12828925988314213, 0.12610582902264847, 0.12454229679059184, 0.12357190258083861], [0.12177712728898345, 0.1171250216651042, 0.11373652161351629, 0.11144880923253501, 0.10980795212940382, 0.10871513331542633], [0.11715803609841773, 0.11390857031313001, 0.11174920760688954, 0.11035775713637737, 0.10946810947469929, 0.10890633185785065], [0.11710644272267504, 0.11346575743930336, 0.1102233501433971, 0.10753313483273126, 0.10528000336865496, 0.10347417281908737]], \"type\": \"heatmap\"}], {\"plot_bgcolor\": \"#000\", \"paper_bgcolor\": \"#000\", \"width\": 300, \"title\": \"1 Blobs:Confidence after 400 Iters\", \"yaxis\": {\"title\": \"Count Word\", \"tickcolor\": \"#FFF\", \"range\": [-0.5, 5.5], \"dtick\": 1}, \"height\": 300, \"titlefont\": {\"color\": \"#FFF\"}, \"xaxis\": {\"title\": \"Glimpses\", \"tickcolor\": \"#FFF\", \"range\": [-0.5, 5.5], \"dtick\": 1}, \"font\": {\"color\": \"#FFF\"}}, {\"linkText\": \"Export to plot.ly\", \"showLink\": true})});</script>"
      ]
     },
     "metadata": {},
     "output_type": "display_data"
    },
    {
     "data": {
      "application/vnd.plotly.v1+json": {
       "data": [
        {
         "colorscale": "Jet",
         "type": "heatmap",
         "z": [
          [
           0.3065591623017959,
           0.4098388200770757,
           0.4832959006223746,
           0.5464860923644254,
           0.5868671382427992,
           0.6171590053031459
          ],
          [
           0.39880053780644503,
           0.3813779509434638,
           0.35571387605932875,
           0.32052346879264193,
           0.29670158141072944,
           0.2764838638632416
          ],
          [
           0.09252107912907293,
           0.06585044149071978,
           0.05145820377289296,
           0.04298997426028051,
           0.03774392838506605,
           0.03452480633902232
          ],
          [
           0.07425674627252885,
           0.054783648392746395,
           0.04325231327048773,
           0.036463173273193025,
           0.03255244018401336,
           0.030176263525517198
          ],
          [
           0.06708315907791496,
           0.04792057132187424,
           0.03695420180288254,
           0.030437964840786202,
           0.0266302654169389,
           0.024303083831355883
          ],
          [
           0.06077888575910343,
           0.04022816881736094,
           0.0293251183302678,
           0.02309893675063011,
           0.019504251128982686,
           0.017352574939956716
          ]
         ]
        }
       ],
       "layout": {
        "font": {
         "color": "#FFF"
        },
        "height": 300,
        "paper_bgcolor": "#000",
        "plot_bgcolor": "#000",
        "title": "1 Blobs:Confidence after 600 Iters",
        "titlefont": {
         "color": "#FFF"
        },
        "width": 300,
        "xaxis": {
         "dtick": 1,
         "range": [
          -0.5,
          5.5
         ],
         "tickcolor": "#FFF",
         "title": "Glimpses"
        },
        "yaxis": {
         "dtick": 1,
         "range": [
          -0.5,
          5.5
         ],
         "tickcolor": "#FFF",
         "title": "Count Word"
        }
       }
      },
      "text/html": [
       "<div id=\"05e08e99-8dac-49db-a067-b8895e11d2e4\" style=\"height: 300px; width: 300px;\" class=\"plotly-graph-div\"></div><script type=\"text/javascript\">require([\"plotly\"], function(Plotly) { window.PLOTLYENV=window.PLOTLYENV || {};window.PLOTLYENV.BASE_URL=\"https://plot.ly\";Plotly.newPlot(\"05e08e99-8dac-49db-a067-b8895e11d2e4\", [{\"colorscale\": \"Jet\", \"z\": [[0.3065591623017959, 0.4098388200770757, 0.4832959006223746, 0.5464860923644254, 0.5868671382427992, 0.6171590053031459], [0.39880053780644503, 0.3813779509434638, 0.35571387605932875, 0.32052346879264193, 0.29670158141072944, 0.2764838638632416], [0.09252107912907293, 0.06585044149071978, 0.05145820377289296, 0.04298997426028051, 0.03774392838506605, 0.03452480633902232], [0.07425674627252885, 0.054783648392746395, 0.04325231327048773, 0.036463173273193025, 0.03255244018401336, 0.030176263525517198], [0.06708315907791496, 0.04792057132187424, 0.03695420180288254, 0.030437964840786202, 0.0266302654169389, 0.024303083831355883], [0.06077888575910343, 0.04022816881736094, 0.0293251183302678, 0.02309893675063011, 0.019504251128982686, 0.017352574939956716]], \"type\": \"heatmap\"}], {\"plot_bgcolor\": \"#000\", \"paper_bgcolor\": \"#000\", \"width\": 300, \"title\": \"1 Blobs:Confidence after 600 Iters\", \"yaxis\": {\"title\": \"Count Word\", \"tickcolor\": \"#FFF\", \"range\": [-0.5, 5.5], \"dtick\": 1}, \"height\": 300, \"titlefont\": {\"color\": \"#FFF\"}, \"xaxis\": {\"title\": \"Glimpses\", \"tickcolor\": \"#FFF\", \"range\": [-0.5, 5.5], \"dtick\": 1}, \"font\": {\"color\": \"#FFF\"}}, {\"linkText\": \"Export to plot.ly\", \"showLink\": true})});</script>"
      ],
      "text/vnd.plotly.v1+html": [
       "<div id=\"05e08e99-8dac-49db-a067-b8895e11d2e4\" style=\"height: 300px; width: 300px;\" class=\"plotly-graph-div\"></div><script type=\"text/javascript\">require([\"plotly\"], function(Plotly) { window.PLOTLYENV=window.PLOTLYENV || {};window.PLOTLYENV.BASE_URL=\"https://plot.ly\";Plotly.newPlot(\"05e08e99-8dac-49db-a067-b8895e11d2e4\", [{\"colorscale\": \"Jet\", \"z\": [[0.3065591623017959, 0.4098388200770757, 0.4832959006223746, 0.5464860923644254, 0.5868671382427992, 0.6171590053031459], [0.39880053780644503, 0.3813779509434638, 0.35571387605932875, 0.32052346879264193, 0.29670158141072944, 0.2764838638632416], [0.09252107912907293, 0.06585044149071978, 0.05145820377289296, 0.04298997426028051, 0.03774392838506605, 0.03452480633902232], [0.07425674627252885, 0.054783648392746395, 0.04325231327048773, 0.036463173273193025, 0.03255244018401336, 0.030176263525517198], [0.06708315907791496, 0.04792057132187424, 0.03695420180288254, 0.030437964840786202, 0.0266302654169389, 0.024303083831355883], [0.06077888575910343, 0.04022816881736094, 0.0293251183302678, 0.02309893675063011, 0.019504251128982686, 0.017352574939956716]], \"type\": \"heatmap\"}], {\"plot_bgcolor\": \"#000\", \"paper_bgcolor\": \"#000\", \"width\": 300, \"title\": \"1 Blobs:Confidence after 600 Iters\", \"yaxis\": {\"title\": \"Count Word\", \"tickcolor\": \"#FFF\", \"range\": [-0.5, 5.5], \"dtick\": 1}, \"height\": 300, \"titlefont\": {\"color\": \"#FFF\"}, \"xaxis\": {\"title\": \"Glimpses\", \"tickcolor\": \"#FFF\", \"range\": [-0.5, 5.5], \"dtick\": 1}, \"font\": {\"color\": \"#FFF\"}}, {\"linkText\": \"Export to plot.ly\", \"showLink\": true})});</script>"
      ]
     },
     "metadata": {},
     "output_type": "display_data"
    },
    {
     "data": {
      "application/vnd.plotly.v1+json": {
       "data": [
        {
         "colorscale": "Jet",
         "type": "heatmap",
         "z": [
          [
           0.2683796343650058,
           0.5304918173228435,
           0.633935119189606,
           0.7836338001094418,
           0.7971822329859432,
           0.8632753563140128
          ],
          [
           0.5399205069289285,
           0.35154294477860404,
           0.2835849984564128,
           0.1606384182120217,
           0.1537288715725977,
           0.09883533308301597
          ],
          [
           0.06745189840909278,
           0.042320667434136774,
           0.030019550256613927,
           0.020013143365918626,
           0.017643079138820385,
           0.013404059900333212
          ],
          [
           0.05005152640325263,
           0.03433020295897357,
           0.025480364573843606,
           0.018384386040226765,
           0.016669684555931274,
           0.013341752617931515
          ],
          [
           0.0399970539811845,
           0.023703053153347885,
           0.015911305796854555,
           0.010572147140819292,
           0.009039630799745901,
           0.006964068172907631
          ],
          [
           0.03419881928675777,
           0.017610766713084876,
           0.011068115665733244,
           0.006757575394641955,
           0.00573596311270389,
           0.004178872235207355
          ]
         ]
        }
       ],
       "layout": {
        "font": {
         "color": "#FFF"
        },
        "height": 300,
        "paper_bgcolor": "#000",
        "plot_bgcolor": "#000",
        "title": "1 Blobs:Confidence after 800 Iters",
        "titlefont": {
         "color": "#FFF"
        },
        "width": 300,
        "xaxis": {
         "dtick": 1,
         "range": [
          -0.5,
          5.5
         ],
         "tickcolor": "#FFF",
         "title": "Glimpses"
        },
        "yaxis": {
         "dtick": 1,
         "range": [
          -0.5,
          5.5
         ],
         "tickcolor": "#FFF",
         "title": "Count Word"
        }
       }
      },
      "text/html": [
       "<div id=\"763caf96-7a81-460d-ab1d-287605c5fdae\" style=\"height: 300px; width: 300px;\" class=\"plotly-graph-div\"></div><script type=\"text/javascript\">require([\"plotly\"], function(Plotly) { window.PLOTLYENV=window.PLOTLYENV || {};window.PLOTLYENV.BASE_URL=\"https://plot.ly\";Plotly.newPlot(\"763caf96-7a81-460d-ab1d-287605c5fdae\", [{\"colorscale\": \"Jet\", \"z\": [[0.2683796343650058, 0.5304918173228435, 0.633935119189606, 0.7836338001094418, 0.7971822329859432, 0.8632753563140128], [0.5399205069289285, 0.35154294477860404, 0.2835849984564128, 0.1606384182120217, 0.1537288715725977, 0.09883533308301597], [0.06745189840909278, 0.042320667434136774, 0.030019550256613927, 0.020013143365918626, 0.017643079138820385, 0.013404059900333212], [0.05005152640325263, 0.03433020295897357, 0.025480364573843606, 0.018384386040226765, 0.016669684555931274, 0.013341752617931515], [0.0399970539811845, 0.023703053153347885, 0.015911305796854555, 0.010572147140819292, 0.009039630799745901, 0.006964068172907631], [0.03419881928675777, 0.017610766713084876, 0.011068115665733244, 0.006757575394641955, 0.00573596311270389, 0.004178872235207355]], \"type\": \"heatmap\"}], {\"plot_bgcolor\": \"#000\", \"paper_bgcolor\": \"#000\", \"width\": 300, \"title\": \"1 Blobs:Confidence after 800 Iters\", \"yaxis\": {\"title\": \"Count Word\", \"tickcolor\": \"#FFF\", \"range\": [-0.5, 5.5], \"dtick\": 1}, \"height\": 300, \"titlefont\": {\"color\": \"#FFF\"}, \"xaxis\": {\"title\": \"Glimpses\", \"tickcolor\": \"#FFF\", \"range\": [-0.5, 5.5], \"dtick\": 1}, \"font\": {\"color\": \"#FFF\"}}, {\"linkText\": \"Export to plot.ly\", \"showLink\": true})});</script>"
      ],
      "text/vnd.plotly.v1+html": [
       "<div id=\"763caf96-7a81-460d-ab1d-287605c5fdae\" style=\"height: 300px; width: 300px;\" class=\"plotly-graph-div\"></div><script type=\"text/javascript\">require([\"plotly\"], function(Plotly) { window.PLOTLYENV=window.PLOTLYENV || {};window.PLOTLYENV.BASE_URL=\"https://plot.ly\";Plotly.newPlot(\"763caf96-7a81-460d-ab1d-287605c5fdae\", [{\"colorscale\": \"Jet\", \"z\": [[0.2683796343650058, 0.5304918173228435, 0.633935119189606, 0.7836338001094418, 0.7971822329859432, 0.8632753563140128], [0.5399205069289285, 0.35154294477860404, 0.2835849984564128, 0.1606384182120217, 0.1537288715725977, 0.09883533308301597], [0.06745189840909278, 0.042320667434136774, 0.030019550256613927, 0.020013143365918626, 0.017643079138820385, 0.013404059900333212], [0.05005152640325263, 0.03433020295897357, 0.025480364573843606, 0.018384386040226765, 0.016669684555931274, 0.013341752617931515], [0.0399970539811845, 0.023703053153347885, 0.015911305796854555, 0.010572147140819292, 0.009039630799745901, 0.006964068172907631], [0.03419881928675777, 0.017610766713084876, 0.011068115665733244, 0.006757575394641955, 0.00573596311270389, 0.004178872235207355]], \"type\": \"heatmap\"}], {\"plot_bgcolor\": \"#000\", \"paper_bgcolor\": \"#000\", \"width\": 300, \"title\": \"1 Blobs:Confidence after 800 Iters\", \"yaxis\": {\"title\": \"Count Word\", \"tickcolor\": \"#FFF\", \"range\": [-0.5, 5.5], \"dtick\": 1}, \"height\": 300, \"titlefont\": {\"color\": \"#FFF\"}, \"xaxis\": {\"title\": \"Glimpses\", \"tickcolor\": \"#FFF\", \"range\": [-0.5, 5.5], \"dtick\": 1}, \"font\": {\"color\": \"#FFF\"}}, {\"linkText\": \"Export to plot.ly\", \"showLink\": true})});</script>"
      ]
     },
     "metadata": {},
     "output_type": "display_data"
    },
    {
     "data": {
      "application/vnd.plotly.v1+json": {
       "data": [
        {
         "colorscale": "Jet",
         "type": "heatmap",
         "z": [
          [
           0.0291545546425402,
           0.8603448885627218,
           0.8979573557261847,
           0.9656795208721294,
           0.9416950182746561,
           0.9734924426812208
          ],
          [
           0.9340571850300066,
           0.04330100343727828,
           0.010022856480543503,
           0.0004600314343200017,
           0.0006862031417898778,
           0.00011563407880078549
          ],
          [
           0.015594539467707086,
           0.04055697151387087,
           0.03802452624668614,
           0.01318416953747489,
           0.022185981687659378,
           0.009766824993453715
          ],
          [
           0.008435522266421016,
           0.030536714607448553,
           0.033061078538329604,
           0.013879963153000857,
           0.024300915827081587,
           0.011795646525631991
          ],
          [
           0.006739160729183251,
           0.015590416419877686,
           0.013185251733814685,
           0.004524478060988656,
           0.007237897562864943,
           0.003245688071037969
          ],
          [
           0.0060186109622287175,
           0.009669542954983745,
           0.007748456028441937,
           0.0022713895669605006,
           0.0038935338779224897,
           0.0015832966098088645
          ]
         ]
        }
       ],
       "layout": {
        "font": {
         "color": "#FFF"
        },
        "height": 300,
        "paper_bgcolor": "#000",
        "plot_bgcolor": "#000",
        "title": "1 Blobs:Confidence after 1200 Iters",
        "titlefont": {
         "color": "#FFF"
        },
        "width": 300,
        "xaxis": {
         "dtick": 1,
         "range": [
          -0.5,
          5.5
         ],
         "tickcolor": "#FFF",
         "title": "Glimpses"
        },
        "yaxis": {
         "dtick": 1,
         "range": [
          -0.5,
          5.5
         ],
         "tickcolor": "#FFF",
         "title": "Count Word"
        }
       }
      },
      "text/html": [
       "<div id=\"da3badc1-9d0e-4293-b052-6438b14778a9\" style=\"height: 300px; width: 300px;\" class=\"plotly-graph-div\"></div><script type=\"text/javascript\">require([\"plotly\"], function(Plotly) { window.PLOTLYENV=window.PLOTLYENV || {};window.PLOTLYENV.BASE_URL=\"https://plot.ly\";Plotly.newPlot(\"da3badc1-9d0e-4293-b052-6438b14778a9\", [{\"colorscale\": \"Jet\", \"z\": [[0.0291545546425402, 0.8603448885627218, 0.8979573557261847, 0.9656795208721294, 0.9416950182746561, 0.9734924426812208], [0.9340571850300066, 0.04330100343727828, 0.010022856480543503, 0.0004600314343200017, 0.0006862031417898778, 0.00011563407880078549], [0.015594539467707086, 0.04055697151387087, 0.03802452624668614, 0.01318416953747489, 0.022185981687659378, 0.009766824993453715], [0.008435522266421016, 0.030536714607448553, 0.033061078538329604, 0.013879963153000857, 0.024300915827081587, 0.011795646525631991], [0.006739160729183251, 0.015590416419877686, 0.013185251733814685, 0.004524478060988656, 0.007237897562864943, 0.003245688071037969], [0.0060186109622287175, 0.009669542954983745, 0.007748456028441937, 0.0022713895669605006, 0.0038935338779224897, 0.0015832966098088645]], \"type\": \"heatmap\"}], {\"plot_bgcolor\": \"#000\", \"paper_bgcolor\": \"#000\", \"width\": 300, \"title\": \"1 Blobs:Confidence after 1200 Iters\", \"yaxis\": {\"title\": \"Count Word\", \"tickcolor\": \"#FFF\", \"range\": [-0.5, 5.5], \"dtick\": 1}, \"height\": 300, \"titlefont\": {\"color\": \"#FFF\"}, \"xaxis\": {\"title\": \"Glimpses\", \"tickcolor\": \"#FFF\", \"range\": [-0.5, 5.5], \"dtick\": 1}, \"font\": {\"color\": \"#FFF\"}}, {\"linkText\": \"Export to plot.ly\", \"showLink\": true})});</script>"
      ],
      "text/vnd.plotly.v1+html": [
       "<div id=\"da3badc1-9d0e-4293-b052-6438b14778a9\" style=\"height: 300px; width: 300px;\" class=\"plotly-graph-div\"></div><script type=\"text/javascript\">require([\"plotly\"], function(Plotly) { window.PLOTLYENV=window.PLOTLYENV || {};window.PLOTLYENV.BASE_URL=\"https://plot.ly\";Plotly.newPlot(\"da3badc1-9d0e-4293-b052-6438b14778a9\", [{\"colorscale\": \"Jet\", \"z\": [[0.0291545546425402, 0.8603448885627218, 0.8979573557261847, 0.9656795208721294, 0.9416950182746561, 0.9734924426812208], [0.9340571850300066, 0.04330100343727828, 0.010022856480543503, 0.0004600314343200017, 0.0006862031417898778, 0.00011563407880078549], [0.015594539467707086, 0.04055697151387087, 0.03802452624668614, 0.01318416953747489, 0.022185981687659378, 0.009766824993453715], [0.008435522266421016, 0.030536714607448553, 0.033061078538329604, 0.013879963153000857, 0.024300915827081587, 0.011795646525631991], [0.006739160729183251, 0.015590416419877686, 0.013185251733814685, 0.004524478060988656, 0.007237897562864943, 0.003245688071037969], [0.0060186109622287175, 0.009669542954983745, 0.007748456028441937, 0.0022713895669605006, 0.0038935338779224897, 0.0015832966098088645]], \"type\": \"heatmap\"}], {\"plot_bgcolor\": \"#000\", \"paper_bgcolor\": \"#000\", \"width\": 300, \"title\": \"1 Blobs:Confidence after 1200 Iters\", \"yaxis\": {\"title\": \"Count Word\", \"tickcolor\": \"#FFF\", \"range\": [-0.5, 5.5], \"dtick\": 1}, \"height\": 300, \"titlefont\": {\"color\": \"#FFF\"}, \"xaxis\": {\"title\": \"Glimpses\", \"tickcolor\": \"#FFF\", \"range\": [-0.5, 5.5], \"dtick\": 1}, \"font\": {\"color\": \"#FFF\"}}, {\"linkText\": \"Export to plot.ly\", \"showLink\": true})});</script>"
      ]
     },
     "metadata": {},
     "output_type": "display_data"
    },
    {
     "data": {
      "application/vnd.plotly.v1+json": {
       "data": [
        {
         "colorscale": "Jet",
         "type": "heatmap",
         "z": [
          [
           0.00867624015312064,
           0.9584626525515709,
           0.9385582750143517,
           0.9733973804526737,
           0.9201166280733267,
           0.9544474887485922
          ],
          [
           0.9861030673956812,
           0.007934948592396584,
           0.0007717871209314845,
           2.3497184522837188e-05,
           4.88085795122966e-05,
           7.45237150910661e-06
          ],
          [
           0.0021888117697562897,
           0.010993036264738295,
           0.01905565577276599,
           0.006352030223677564,
           0.02011335472544295,
           0.009689321768336215
          ],
          [
           0.0011143627509370604,
           0.011598863723812922,
           0.025164503592427362,
           0.012441583118024195,
           0.03866125729854165,
           0.022560773635954694
          ],
          [
           0.0009573857151640788,
           0.00782115169690358,
           0.012240573447654222,
           0.006250148050577049,
           0.01641304353055818,
           0.010763213005317396
          ],
          [
           0.0009594913687056325,
           0.003188722782148388,
           0.004208578658914819,
           0.0015347521560455327,
           0.004646312932052811,
           0.002531097303875119
          ]
         ]
        }
       ],
       "layout": {
        "font": {
         "color": "#FFF"
        },
        "height": 300,
        "paper_bgcolor": "#000",
        "plot_bgcolor": "#000",
        "title": "1 Blobs:Confidence after 1600 Iters",
        "titlefont": {
         "color": "#FFF"
        },
        "width": 300,
        "xaxis": {
         "dtick": 1,
         "range": [
          -0.5,
          5.5
         ],
         "tickcolor": "#FFF",
         "title": "Glimpses"
        },
        "yaxis": {
         "dtick": 1,
         "range": [
          -0.5,
          5.5
         ],
         "tickcolor": "#FFF",
         "title": "Count Word"
        }
       }
      },
      "text/html": [
       "<div id=\"a5d29211-3699-4136-95c3-dd620fd6d033\" style=\"height: 300px; width: 300px;\" class=\"plotly-graph-div\"></div><script type=\"text/javascript\">require([\"plotly\"], function(Plotly) { window.PLOTLYENV=window.PLOTLYENV || {};window.PLOTLYENV.BASE_URL=\"https://plot.ly\";Plotly.newPlot(\"a5d29211-3699-4136-95c3-dd620fd6d033\", [{\"colorscale\": \"Jet\", \"z\": [[0.00867624015312064, 0.9584626525515709, 0.9385582750143517, 0.9733973804526737, 0.9201166280733267, 0.9544474887485922], [0.9861030673956812, 0.007934948592396584, 0.0007717871209314845, 2.3497184522837188e-05, 4.88085795122966e-05, 7.45237150910661e-06], [0.0021888117697562897, 0.010993036264738295, 0.01905565577276599, 0.006352030223677564, 0.02011335472544295, 0.009689321768336215], [0.0011143627509370604, 0.011598863723812922, 0.025164503592427362, 0.012441583118024195, 0.03866125729854165, 0.022560773635954694], [0.0009573857151640788, 0.00782115169690358, 0.012240573447654222, 0.006250148050577049, 0.01641304353055818, 0.010763213005317396], [0.0009594913687056325, 0.003188722782148388, 0.004208578658914819, 0.0015347521560455327, 0.004646312932052811, 0.002531097303875119]], \"type\": \"heatmap\"}], {\"plot_bgcolor\": \"#000\", \"paper_bgcolor\": \"#000\", \"width\": 300, \"title\": \"1 Blobs:Confidence after 1600 Iters\", \"yaxis\": {\"title\": \"Count Word\", \"tickcolor\": \"#FFF\", \"range\": [-0.5, 5.5], \"dtick\": 1}, \"height\": 300, \"titlefont\": {\"color\": \"#FFF\"}, \"xaxis\": {\"title\": \"Glimpses\", \"tickcolor\": \"#FFF\", \"range\": [-0.5, 5.5], \"dtick\": 1}, \"font\": {\"color\": \"#FFF\"}}, {\"linkText\": \"Export to plot.ly\", \"showLink\": true})});</script>"
      ],
      "text/vnd.plotly.v1+html": [
       "<div id=\"a5d29211-3699-4136-95c3-dd620fd6d033\" style=\"height: 300px; width: 300px;\" class=\"plotly-graph-div\"></div><script type=\"text/javascript\">require([\"plotly\"], function(Plotly) { window.PLOTLYENV=window.PLOTLYENV || {};window.PLOTLYENV.BASE_URL=\"https://plot.ly\";Plotly.newPlot(\"a5d29211-3699-4136-95c3-dd620fd6d033\", [{\"colorscale\": \"Jet\", \"z\": [[0.00867624015312064, 0.9584626525515709, 0.9385582750143517, 0.9733973804526737, 0.9201166280733267, 0.9544474887485922], [0.9861030673956812, 0.007934948592396584, 0.0007717871209314845, 2.3497184522837188e-05, 4.88085795122966e-05, 7.45237150910661e-06], [0.0021888117697562897, 0.010993036264738295, 0.01905565577276599, 0.006352030223677564, 0.02011335472544295, 0.009689321768336215], [0.0011143627509370604, 0.011598863723812922, 0.025164503592427362, 0.012441583118024195, 0.03866125729854165, 0.022560773635954694], [0.0009573857151640788, 0.00782115169690358, 0.012240573447654222, 0.006250148050577049, 0.01641304353055818, 0.010763213005317396], [0.0009594913687056325, 0.003188722782148388, 0.004208578658914819, 0.0015347521560455327, 0.004646312932052811, 0.002531097303875119]], \"type\": \"heatmap\"}], {\"plot_bgcolor\": \"#000\", \"paper_bgcolor\": \"#000\", \"width\": 300, \"title\": \"1 Blobs:Confidence after 1600 Iters\", \"yaxis\": {\"title\": \"Count Word\", \"tickcolor\": \"#FFF\", \"range\": [-0.5, 5.5], \"dtick\": 1}, \"height\": 300, \"titlefont\": {\"color\": \"#FFF\"}, \"xaxis\": {\"title\": \"Glimpses\", \"tickcolor\": \"#FFF\", \"range\": [-0.5, 5.5], \"dtick\": 1}, \"font\": {\"color\": \"#FFF\"}}, {\"linkText\": \"Export to plot.ly\", \"showLink\": true})});</script>"
      ]
     },
     "metadata": {},
     "output_type": "display_data"
    },
    {
     "data": {
      "application/vnd.plotly.v1+json": {
       "data": [
        {
         "colorscale": "Jet",
         "type": "heatmap",
         "z": [
          [
           0.0025363929098639933,
           0.9895613043724094,
           0.9738645129376915,
           0.98134396731035,
           0.9296825938863423,
           0.9449845085215116
          ],
          [
           0.9962620878776819,
           0.000993988281094475,
           2.275453913462095e-05,
           7.694262956231576e-07,
           1.2374238675863974e-06,
           2.6668157223810476e-07
          ],
          [
           0.000705508514491376,
           0.0020100276330772687,
           0.003540780248653701,
           0.0008284572638226595,
           0.0032207925202676355,
           0.0013596989061825538
          ],
          [
           0.0001765855492079341,
           0.0031660742682018553,
           0.012249909484968432,
           0.007814660062473645,
           0.03397918312992547,
           0.022175465587803124
          ],
          [
           0.00015512288100614377,
           0.0031125137512361444,
           0.00772076327696766,
           0.008019802386874076,
           0.024966978463292475,
           0.024892496685430643
          ],
          [
           0.0001636512966248895,
           0.001155462761718842,
           0.002600650030987624,
           0.001991747906942019,
           0.008148568100611228,
           0.006586953635160106
          ]
         ]
        }
       ],
       "layout": {
        "font": {
         "color": "#FFF"
        },
        "height": 300,
        "paper_bgcolor": "#000",
        "plot_bgcolor": "#000",
        "title": "1 Blobs:Confidence after 2400 Iters",
        "titlefont": {
         "color": "#FFF"
        },
        "width": 300,
        "xaxis": {
         "dtick": 1,
         "range": [
          -0.5,
          5.5
         ],
         "tickcolor": "#FFF",
         "title": "Glimpses"
        },
        "yaxis": {
         "dtick": 1,
         "range": [
          -0.5,
          5.5
         ],
         "tickcolor": "#FFF",
         "title": "Count Word"
        }
       }
      },
      "text/html": [
       "<div id=\"e876c88b-f247-4b94-ab9b-5a1d186f42b0\" style=\"height: 300px; width: 300px;\" class=\"plotly-graph-div\"></div><script type=\"text/javascript\">require([\"plotly\"], function(Plotly) { window.PLOTLYENV=window.PLOTLYENV || {};window.PLOTLYENV.BASE_URL=\"https://plot.ly\";Plotly.newPlot(\"e876c88b-f247-4b94-ab9b-5a1d186f42b0\", [{\"colorscale\": \"Jet\", \"z\": [[0.0025363929098639933, 0.9895613043724094, 0.9738645129376915, 0.98134396731035, 0.9296825938863423, 0.9449845085215116], [0.9962620878776819, 0.000993988281094475, 2.275453913462095e-05, 7.694262956231576e-07, 1.2374238675863974e-06, 2.6668157223810476e-07], [0.000705508514491376, 0.0020100276330772687, 0.003540780248653701, 0.0008284572638226595, 0.0032207925202676355, 0.0013596989061825538], [0.0001765855492079341, 0.0031660742682018553, 0.012249909484968432, 0.007814660062473645, 0.03397918312992547, 0.022175465587803124], [0.00015512288100614377, 0.0031125137512361444, 0.00772076327696766, 0.008019802386874076, 0.024966978463292475, 0.024892496685430643], [0.0001636512966248895, 0.001155462761718842, 0.002600650030987624, 0.001991747906942019, 0.008148568100611228, 0.006586953635160106]], \"type\": \"heatmap\"}], {\"plot_bgcolor\": \"#000\", \"paper_bgcolor\": \"#000\", \"width\": 300, \"title\": \"1 Blobs:Confidence after 2400 Iters\", \"yaxis\": {\"title\": \"Count Word\", \"tickcolor\": \"#FFF\", \"range\": [-0.5, 5.5], \"dtick\": 1}, \"height\": 300, \"titlefont\": {\"color\": \"#FFF\"}, \"xaxis\": {\"title\": \"Glimpses\", \"tickcolor\": \"#FFF\", \"range\": [-0.5, 5.5], \"dtick\": 1}, \"font\": {\"color\": \"#FFF\"}}, {\"linkText\": \"Export to plot.ly\", \"showLink\": true})});</script>"
      ],
      "text/vnd.plotly.v1+html": [
       "<div id=\"e876c88b-f247-4b94-ab9b-5a1d186f42b0\" style=\"height: 300px; width: 300px;\" class=\"plotly-graph-div\"></div><script type=\"text/javascript\">require([\"plotly\"], function(Plotly) { window.PLOTLYENV=window.PLOTLYENV || {};window.PLOTLYENV.BASE_URL=\"https://plot.ly\";Plotly.newPlot(\"e876c88b-f247-4b94-ab9b-5a1d186f42b0\", [{\"colorscale\": \"Jet\", \"z\": [[0.0025363929098639933, 0.9895613043724094, 0.9738645129376915, 0.98134396731035, 0.9296825938863423, 0.9449845085215116], [0.9962620878776819, 0.000993988281094475, 2.275453913462095e-05, 7.694262956231576e-07, 1.2374238675863974e-06, 2.6668157223810476e-07], [0.000705508514491376, 0.0020100276330772687, 0.003540780248653701, 0.0008284572638226595, 0.0032207925202676355, 0.0013596989061825538], [0.0001765855492079341, 0.0031660742682018553, 0.012249909484968432, 0.007814660062473645, 0.03397918312992547, 0.022175465587803124], [0.00015512288100614377, 0.0031125137512361444, 0.00772076327696766, 0.008019802386874076, 0.024966978463292475, 0.024892496685430643], [0.0001636512966248895, 0.001155462761718842, 0.002600650030987624, 0.001991747906942019, 0.008148568100611228, 0.006586953635160106]], \"type\": \"heatmap\"}], {\"plot_bgcolor\": \"#000\", \"paper_bgcolor\": \"#000\", \"width\": 300, \"title\": \"1 Blobs:Confidence after 2400 Iters\", \"yaxis\": {\"title\": \"Count Word\", \"tickcolor\": \"#FFF\", \"range\": [-0.5, 5.5], \"dtick\": 1}, \"height\": 300, \"titlefont\": {\"color\": \"#FFF\"}, \"xaxis\": {\"title\": \"Glimpses\", \"tickcolor\": \"#FFF\", \"range\": [-0.5, 5.5], \"dtick\": 1}, \"font\": {\"color\": \"#FFF\"}}, {\"linkText\": \"Export to plot.ly\", \"showLink\": true})});</script>"
      ]
     },
     "metadata": {},
     "output_type": "display_data"
    },
    {
     "data": {
      "application/vnd.plotly.v1+json": {
       "data": [
        {
         "colorscale": "Jet",
         "type": "heatmap",
         "z": [
          [
           0.0034974918201545586,
           0.992349451825575,
           0.9846873156105762,
           0.9408639715084205,
           0.819135370142816,
           0.7400292906907695
          ],
          [
           0.9947996262721933,
           0.0003269663073883707,
           3.4055271077906862e-06,
           7.145157925039881e-07,
           1.6992546290413744e-07,
           5.587372880915942e-08
          ],
          [
           0.001393967236385418,
           0.0013703563040067272,
           0.0004664785747090009,
           0.0006463091178833624,
           0.0008561436820916342,
           0.0005750188942086968
          ],
          [
           0.000137023084814867,
           0.0034459605191698092,
           0.008607601441230829,
           0.032609508426119226,
           0.09398163152733914,
           0.10941061186371374
          ],
          [
           8.413825070663431e-05,
           0.0016844878307201987,
           0.004282508046485483,
           0.016934157918571426,
           0.0547016109430495,
           0.09817930570541149
          ],
          [
           8.707426790402069e-05,
           0.0008220926732971728,
           0.0019520422468648586,
           0.008944663030245157,
           0.03132438707208602,
           0.05180504270814294
          ]
         ]
        }
       ],
       "layout": {
        "font": {
         "color": "#FFF"
        },
        "height": 300,
        "paper_bgcolor": "#000",
        "plot_bgcolor": "#000",
        "title": "1 Blobs:Confidence after 3200 Iters",
        "titlefont": {
         "color": "#FFF"
        },
        "width": 300,
        "xaxis": {
         "dtick": 1,
         "range": [
          -0.5,
          5.5
         ],
         "tickcolor": "#FFF",
         "title": "Glimpses"
        },
        "yaxis": {
         "dtick": 1,
         "range": [
          -0.5,
          5.5
         ],
         "tickcolor": "#FFF",
         "title": "Count Word"
        }
       }
      },
      "text/html": [
       "<div id=\"393f64aa-693e-4776-bf5a-7886898b6683\" style=\"height: 300px; width: 300px;\" class=\"plotly-graph-div\"></div><script type=\"text/javascript\">require([\"plotly\"], function(Plotly) { window.PLOTLYENV=window.PLOTLYENV || {};window.PLOTLYENV.BASE_URL=\"https://plot.ly\";Plotly.newPlot(\"393f64aa-693e-4776-bf5a-7886898b6683\", [{\"colorscale\": \"Jet\", \"z\": [[0.0034974918201545586, 0.992349451825575, 0.9846873156105762, 0.9408639715084205, 0.819135370142816, 0.7400292906907695], [0.9947996262721933, 0.0003269663073883707, 3.4055271077906862e-06, 7.145157925039881e-07, 1.6992546290413744e-07, 5.587372880915942e-08], [0.001393967236385418, 0.0013703563040067272, 0.0004664785747090009, 0.0006463091178833624, 0.0008561436820916342, 0.0005750188942086968], [0.000137023084814867, 0.0034459605191698092, 0.008607601441230829, 0.032609508426119226, 0.09398163152733914, 0.10941061186371374], [8.413825070663431e-05, 0.0016844878307201987, 0.004282508046485483, 0.016934157918571426, 0.0547016109430495, 0.09817930570541149], [8.707426790402069e-05, 0.0008220926732971728, 0.0019520422468648586, 0.008944663030245157, 0.03132438707208602, 0.05180504270814294]], \"type\": \"heatmap\"}], {\"plot_bgcolor\": \"#000\", \"paper_bgcolor\": \"#000\", \"width\": 300, \"title\": \"1 Blobs:Confidence after 3200 Iters\", \"yaxis\": {\"title\": \"Count Word\", \"tickcolor\": \"#FFF\", \"range\": [-0.5, 5.5], \"dtick\": 1}, \"height\": 300, \"titlefont\": {\"color\": \"#FFF\"}, \"xaxis\": {\"title\": \"Glimpses\", \"tickcolor\": \"#FFF\", \"range\": [-0.5, 5.5], \"dtick\": 1}, \"font\": {\"color\": \"#FFF\"}}, {\"linkText\": \"Export to plot.ly\", \"showLink\": true})});</script>"
      ],
      "text/vnd.plotly.v1+html": [
       "<div id=\"393f64aa-693e-4776-bf5a-7886898b6683\" style=\"height: 300px; width: 300px;\" class=\"plotly-graph-div\"></div><script type=\"text/javascript\">require([\"plotly\"], function(Plotly) { window.PLOTLYENV=window.PLOTLYENV || {};window.PLOTLYENV.BASE_URL=\"https://plot.ly\";Plotly.newPlot(\"393f64aa-693e-4776-bf5a-7886898b6683\", [{\"colorscale\": \"Jet\", \"z\": [[0.0034974918201545586, 0.992349451825575, 0.9846873156105762, 0.9408639715084205, 0.819135370142816, 0.7400292906907695], [0.9947996262721933, 0.0003269663073883707, 3.4055271077906862e-06, 7.145157925039881e-07, 1.6992546290413744e-07, 5.587372880915942e-08], [0.001393967236385418, 0.0013703563040067272, 0.0004664785747090009, 0.0006463091178833624, 0.0008561436820916342, 0.0005750188942086968], [0.000137023084814867, 0.0034459605191698092, 0.008607601441230829, 0.032609508426119226, 0.09398163152733914, 0.10941061186371374], [8.413825070663431e-05, 0.0016844878307201987, 0.004282508046485483, 0.016934157918571426, 0.0547016109430495, 0.09817930570541149], [8.707426790402069e-05, 0.0008220926732971728, 0.0019520422468648586, 0.008944663030245157, 0.03132438707208602, 0.05180504270814294]], \"type\": \"heatmap\"}], {\"plot_bgcolor\": \"#000\", \"paper_bgcolor\": \"#000\", \"width\": 300, \"title\": \"1 Blobs:Confidence after 3200 Iters\", \"yaxis\": {\"title\": \"Count Word\", \"tickcolor\": \"#FFF\", \"range\": [-0.5, 5.5], \"dtick\": 1}, \"height\": 300, \"titlefont\": {\"color\": \"#FFF\"}, \"xaxis\": {\"title\": \"Glimpses\", \"tickcolor\": \"#FFF\", \"range\": [-0.5, 5.5], \"dtick\": 1}, \"font\": {\"color\": \"#FFF\"}}, {\"linkText\": \"Export to plot.ly\", \"showLink\": true})});</script>"
      ]
     },
     "metadata": {},
     "output_type": "display_data"
    },
    {
     "data": {
      "application/vnd.plotly.v1+json": {
       "data": [
        {
         "colorscale": "Jet",
         "type": "heatmap",
         "z": [
          [
           0.00013745291074379856,
           0.9799041974525339,
           0.9637144068346988,
           0.8586933640693413,
           0.6341006625162429,
           0.45948721739899234
          ],
          [
           0.998619975028544,
           0.00021266495303844354,
           2.530900538770506e-06,
           5.787515268734599e-07,
           3.668091506135392e-08,
           7.341660428050826e-09
          ],
          [
           0.001201032467838939,
           0.006696963896597629,
           0.0007031692983478844,
           0.0004779198654985297,
           0.00021683091399240256,
           9.758700975996729e-05
          ],
          [
           2.904366513855733e-05,
           0.006717850122024937,
           0.009102631325891258,
           0.020978762197413302,
           0.028379885539100477,
           0.022339557489884455
          ],
          [
           6.528337290554754e-06,
           0.005346278827393809,
           0.02230769425970301,
           0.09715362437166747,
           0.2698902568815012,
           0.41072859940283213
          ],
          [
           5.473774959464565e-06,
           0.0011215621119979081,
           0.004169066820060177,
           0.02269524681901759,
           0.06741183810731861,
           0.10734653619003223
          ]
         ]
        }
       ],
       "layout": {
        "font": {
         "color": "#FFF"
        },
        "height": 300,
        "paper_bgcolor": "#000",
        "plot_bgcolor": "#000",
        "title": "1 Blobs:Confidence after 4800 Iters",
        "titlefont": {
         "color": "#FFF"
        },
        "width": 300,
        "xaxis": {
         "dtick": 1,
         "range": [
          -0.5,
          5.5
         ],
         "tickcolor": "#FFF",
         "title": "Glimpses"
        },
        "yaxis": {
         "dtick": 1,
         "range": [
          -0.5,
          5.5
         ],
         "tickcolor": "#FFF",
         "title": "Count Word"
        }
       }
      },
      "text/html": [
       "<div id=\"de7213cf-b630-4f84-a4c2-d97fac30712f\" style=\"height: 300px; width: 300px;\" class=\"plotly-graph-div\"></div><script type=\"text/javascript\">require([\"plotly\"], function(Plotly) { window.PLOTLYENV=window.PLOTLYENV || {};window.PLOTLYENV.BASE_URL=\"https://plot.ly\";Plotly.newPlot(\"de7213cf-b630-4f84-a4c2-d97fac30712f\", [{\"colorscale\": \"Jet\", \"z\": [[0.00013745291074379856, 0.9799041974525339, 0.9637144068346988, 0.8586933640693413, 0.6341006625162429, 0.45948721739899234], [0.998619975028544, 0.00021266495303844354, 2.530900538770506e-06, 5.787515268734599e-07, 3.668091506135392e-08, 7.341660428050826e-09], [0.001201032467838939, 0.006696963896597629, 0.0007031692983478844, 0.0004779198654985297, 0.00021683091399240256, 9.758700975996729e-05], [2.904366513855733e-05, 0.006717850122024937, 0.009102631325891258, 0.020978762197413302, 0.028379885539100477, 0.022339557489884455], [6.528337290554754e-06, 0.005346278827393809, 0.02230769425970301, 0.09715362437166747, 0.2698902568815012, 0.41072859940283213], [5.473774959464565e-06, 0.0011215621119979081, 0.004169066820060177, 0.02269524681901759, 0.06741183810731861, 0.10734653619003223]], \"type\": \"heatmap\"}], {\"plot_bgcolor\": \"#000\", \"paper_bgcolor\": \"#000\", \"width\": 300, \"title\": \"1 Blobs:Confidence after 4800 Iters\", \"yaxis\": {\"title\": \"Count Word\", \"tickcolor\": \"#FFF\", \"range\": [-0.5, 5.5], \"dtick\": 1}, \"height\": 300, \"titlefont\": {\"color\": \"#FFF\"}, \"xaxis\": {\"title\": \"Glimpses\", \"tickcolor\": \"#FFF\", \"range\": [-0.5, 5.5], \"dtick\": 1}, \"font\": {\"color\": \"#FFF\"}}, {\"linkText\": \"Export to plot.ly\", \"showLink\": true})});</script>"
      ],
      "text/vnd.plotly.v1+html": [
       "<div id=\"de7213cf-b630-4f84-a4c2-d97fac30712f\" style=\"height: 300px; width: 300px;\" class=\"plotly-graph-div\"></div><script type=\"text/javascript\">require([\"plotly\"], function(Plotly) { window.PLOTLYENV=window.PLOTLYENV || {};window.PLOTLYENV.BASE_URL=\"https://plot.ly\";Plotly.newPlot(\"de7213cf-b630-4f84-a4c2-d97fac30712f\", [{\"colorscale\": \"Jet\", \"z\": [[0.00013745291074379856, 0.9799041974525339, 0.9637144068346988, 0.8586933640693413, 0.6341006625162429, 0.45948721739899234], [0.998619975028544, 0.00021266495303844354, 2.530900538770506e-06, 5.787515268734599e-07, 3.668091506135392e-08, 7.341660428050826e-09], [0.001201032467838939, 0.006696963896597629, 0.0007031692983478844, 0.0004779198654985297, 0.00021683091399240256, 9.758700975996729e-05], [2.904366513855733e-05, 0.006717850122024937, 0.009102631325891258, 0.020978762197413302, 0.028379885539100477, 0.022339557489884455], [6.528337290554754e-06, 0.005346278827393809, 0.02230769425970301, 0.09715362437166747, 0.2698902568815012, 0.41072859940283213], [5.473774959464565e-06, 0.0011215621119979081, 0.004169066820060177, 0.02269524681901759, 0.06741183810731861, 0.10734653619003223]], \"type\": \"heatmap\"}], {\"plot_bgcolor\": \"#000\", \"paper_bgcolor\": \"#000\", \"width\": 300, \"title\": \"1 Blobs:Confidence after 4800 Iters\", \"yaxis\": {\"title\": \"Count Word\", \"tickcolor\": \"#FFF\", \"range\": [-0.5, 5.5], \"dtick\": 1}, \"height\": 300, \"titlefont\": {\"color\": \"#FFF\"}, \"xaxis\": {\"title\": \"Glimpses\", \"tickcolor\": \"#FFF\", \"range\": [-0.5, 5.5], \"dtick\": 1}, \"font\": {\"color\": \"#FFF\"}}, {\"linkText\": \"Export to plot.ly\", \"showLink\": true})});</script>"
      ]
     },
     "metadata": {},
     "output_type": "display_data"
    },
    {
     "data": {
      "application/vnd.plotly.v1+json": {
       "data": [
        {
         "colorscale": "Jet",
         "type": "heatmap",
         "z": [
          [
           2.0818085948958714e-05,
           0.9334356799553326,
           0.9756183226347218,
           0.8796705581835299,
           0.7376706571854669,
           0.5725134534693557
          ],
          [
           0.9997251453770435,
           0.0018238802901023594,
           1.2607489388710075e-06,
           9.310189151656102e-08,
           4.758603823367346e-08,
           2.2736550642732252e-08
          ],
          [
           0.0002516287741691695,
           0.058577823163092436,
           0.0019105621750638152,
           0.0007660380702715397,
           0.00033422824555609493,
           0.000250034320904636
          ],
          [
           1.2521116862493738e-06,
           0.005115756012382224,
           0.014465586321716522,
           0.04269801147361244,
           0.038430073377689646,
           0.0369462898986084
          ],
          [
           2.757712244723121e-07,
           0.0008111455159314991,
           0.006229760160696438,
           0.051781488582520976,
           0.1250814633064446,
           0.1818020939777419
          ],
          [
           2.1305860815464424e-07,
           0.00023510698650689766,
           0.0017739122313076194,
           0.02508318765736903,
           0.0984829081308461,
           0.20848748934121275
          ]
         ]
        }
       ],
       "layout": {
        "font": {
         "color": "#FFF"
        },
        "height": 300,
        "paper_bgcolor": "#000",
        "plot_bgcolor": "#000",
        "title": "1 Blobs:Confidence after 6400 Iters",
        "titlefont": {
         "color": "#FFF"
        },
        "width": 300,
        "xaxis": {
         "dtick": 1,
         "range": [
          -0.5,
          5.5
         ],
         "tickcolor": "#FFF",
         "title": "Glimpses"
        },
        "yaxis": {
         "dtick": 1,
         "range": [
          -0.5,
          5.5
         ],
         "tickcolor": "#FFF",
         "title": "Count Word"
        }
       }
      },
      "text/html": [
       "<div id=\"ffc1206a-a9f1-4352-b6be-706c2f0f218f\" style=\"height: 300px; width: 300px;\" class=\"plotly-graph-div\"></div><script type=\"text/javascript\">require([\"plotly\"], function(Plotly) { window.PLOTLYENV=window.PLOTLYENV || {};window.PLOTLYENV.BASE_URL=\"https://plot.ly\";Plotly.newPlot(\"ffc1206a-a9f1-4352-b6be-706c2f0f218f\", [{\"colorscale\": \"Jet\", \"z\": [[2.0818085948958714e-05, 0.9334356799553326, 0.9756183226347218, 0.8796705581835299, 0.7376706571854669, 0.5725134534693557], [0.9997251453770435, 0.0018238802901023594, 1.2607489388710075e-06, 9.310189151656102e-08, 4.758603823367346e-08, 2.2736550642732252e-08], [0.0002516287741691695, 0.058577823163092436, 0.0019105621750638152, 0.0007660380702715397, 0.00033422824555609493, 0.000250034320904636], [1.2521116862493738e-06, 0.005115756012382224, 0.014465586321716522, 0.04269801147361244, 0.038430073377689646, 0.0369462898986084], [2.757712244723121e-07, 0.0008111455159314991, 0.006229760160696438, 0.051781488582520976, 0.1250814633064446, 0.1818020939777419], [2.1305860815464424e-07, 0.00023510698650689766, 0.0017739122313076194, 0.02508318765736903, 0.0984829081308461, 0.20848748934121275]], \"type\": \"heatmap\"}], {\"plot_bgcolor\": \"#000\", \"paper_bgcolor\": \"#000\", \"width\": 300, \"title\": \"1 Blobs:Confidence after 6400 Iters\", \"yaxis\": {\"title\": \"Count Word\", \"tickcolor\": \"#FFF\", \"range\": [-0.5, 5.5], \"dtick\": 1}, \"height\": 300, \"titlefont\": {\"color\": \"#FFF\"}, \"xaxis\": {\"title\": \"Glimpses\", \"tickcolor\": \"#FFF\", \"range\": [-0.5, 5.5], \"dtick\": 1}, \"font\": {\"color\": \"#FFF\"}}, {\"linkText\": \"Export to plot.ly\", \"showLink\": true})});</script>"
      ],
      "text/vnd.plotly.v1+html": [
       "<div id=\"ffc1206a-a9f1-4352-b6be-706c2f0f218f\" style=\"height: 300px; width: 300px;\" class=\"plotly-graph-div\"></div><script type=\"text/javascript\">require([\"plotly\"], function(Plotly) { window.PLOTLYENV=window.PLOTLYENV || {};window.PLOTLYENV.BASE_URL=\"https://plot.ly\";Plotly.newPlot(\"ffc1206a-a9f1-4352-b6be-706c2f0f218f\", [{\"colorscale\": \"Jet\", \"z\": [[2.0818085948958714e-05, 0.9334356799553326, 0.9756183226347218, 0.8796705581835299, 0.7376706571854669, 0.5725134534693557], [0.9997251453770435, 0.0018238802901023594, 1.2607489388710075e-06, 9.310189151656102e-08, 4.758603823367346e-08, 2.2736550642732252e-08], [0.0002516287741691695, 0.058577823163092436, 0.0019105621750638152, 0.0007660380702715397, 0.00033422824555609493, 0.000250034320904636], [1.2521116862493738e-06, 0.005115756012382224, 0.014465586321716522, 0.04269801147361244, 0.038430073377689646, 0.0369462898986084], [2.757712244723121e-07, 0.0008111455159314991, 0.006229760160696438, 0.051781488582520976, 0.1250814633064446, 0.1818020939777419], [2.1305860815464424e-07, 0.00023510698650689766, 0.0017739122313076194, 0.02508318765736903, 0.0984829081308461, 0.20848748934121275]], \"type\": \"heatmap\"}], {\"plot_bgcolor\": \"#000\", \"paper_bgcolor\": \"#000\", \"width\": 300, \"title\": \"1 Blobs:Confidence after 6400 Iters\", \"yaxis\": {\"title\": \"Count Word\", \"tickcolor\": \"#FFF\", \"range\": [-0.5, 5.5], \"dtick\": 1}, \"height\": 300, \"titlefont\": {\"color\": \"#FFF\"}, \"xaxis\": {\"title\": \"Glimpses\", \"tickcolor\": \"#FFF\", \"range\": [-0.5, 5.5], \"dtick\": 1}, \"font\": {\"color\": \"#FFF\"}}, {\"linkText\": \"Export to plot.ly\", \"showLink\": true})});</script>"
      ]
     },
     "metadata": {},
     "output_type": "display_data"
    },
    {
     "data": {
      "application/vnd.plotly.v1+json": {
       "data": [
        {
         "colorscale": "Jet",
         "type": "heatmap",
         "z": [
          [
           3.4974826406176116e-06,
           0.9573491823781786,
           0.8092248949082006,
           0.5679588465700574,
           0.4473085715710325,
           0.4086074074539783
          ],
          [
           0.9999777650568686,
           0.0006207965606895955,
           6.139974946719721e-07,
           6.769212623673273e-08,
           2.0830409279129232e-08,
           1.720606741420771e-08
          ],
          [
           1.8157206813080647e-05,
           0.03500629795434531,
           0.0013489658388255064,
           0.00019603271800729192,
           4.59719350928566e-05,
           2.917135207374591e-05
          ],
          [
           3.6230251925281584e-08,
           0.006185741241291419,
           0.16498294416369605,
           0.19283859399448117,
           0.06528203380732843,
           0.03346750604113222
          ],
          [
           2.1178791003887564e-08,
           0.0006742020553424246,
           0.021672571827536544,
           0.18857086995105315,
           0.30523868231223433,
           0.29277268328445377
          ],
          [
           3.9204341789242335e-08,
           0.00016325378338075236,
           0.002769506953688315,
           0.0504350530109977,
           0.18212423730719504,
           0.2651227101520182
          ]
         ]
        }
       ],
       "layout": {
        "font": {
         "color": "#FFF"
        },
        "height": 300,
        "paper_bgcolor": "#000",
        "plot_bgcolor": "#000",
        "title": "1 Blobs:Confidence after 9600 Iters",
        "titlefont": {
         "color": "#FFF"
        },
        "width": 300,
        "xaxis": {
         "dtick": 1,
         "range": [
          -0.5,
          5.5
         ],
         "tickcolor": "#FFF",
         "title": "Glimpses"
        },
        "yaxis": {
         "dtick": 1,
         "range": [
          -0.5,
          5.5
         ],
         "tickcolor": "#FFF",
         "title": "Count Word"
        }
       }
      },
      "text/html": [
       "<div id=\"4b1c51e8-f434-4222-9bef-f8d57f2718cb\" style=\"height: 300px; width: 300px;\" class=\"plotly-graph-div\"></div><script type=\"text/javascript\">require([\"plotly\"], function(Plotly) { window.PLOTLYENV=window.PLOTLYENV || {};window.PLOTLYENV.BASE_URL=\"https://plot.ly\";Plotly.newPlot(\"4b1c51e8-f434-4222-9bef-f8d57f2718cb\", [{\"colorscale\": \"Jet\", \"z\": [[3.4974826406176116e-06, 0.9573491823781786, 0.8092248949082006, 0.5679588465700574, 0.4473085715710325, 0.4086074074539783], [0.9999777650568686, 0.0006207965606895955, 6.139974946719721e-07, 6.769212623673273e-08, 2.0830409279129232e-08, 1.720606741420771e-08], [1.8157206813080647e-05, 0.03500629795434531, 0.0013489658388255064, 0.00019603271800729192, 4.59719350928566e-05, 2.917135207374591e-05], [3.6230251925281584e-08, 0.006185741241291419, 0.16498294416369605, 0.19283859399448117, 0.06528203380732843, 0.03346750604113222], [2.1178791003887564e-08, 0.0006742020553424246, 0.021672571827536544, 0.18857086995105315, 0.30523868231223433, 0.29277268328445377], [3.9204341789242335e-08, 0.00016325378338075236, 0.002769506953688315, 0.0504350530109977, 0.18212423730719504, 0.2651227101520182]], \"type\": \"heatmap\"}], {\"plot_bgcolor\": \"#000\", \"paper_bgcolor\": \"#000\", \"width\": 300, \"title\": \"1 Blobs:Confidence after 9600 Iters\", \"yaxis\": {\"title\": \"Count Word\", \"tickcolor\": \"#FFF\", \"range\": [-0.5, 5.5], \"dtick\": 1}, \"height\": 300, \"titlefont\": {\"color\": \"#FFF\"}, \"xaxis\": {\"title\": \"Glimpses\", \"tickcolor\": \"#FFF\", \"range\": [-0.5, 5.5], \"dtick\": 1}, \"font\": {\"color\": \"#FFF\"}}, {\"linkText\": \"Export to plot.ly\", \"showLink\": true})});</script>"
      ],
      "text/vnd.plotly.v1+html": [
       "<div id=\"4b1c51e8-f434-4222-9bef-f8d57f2718cb\" style=\"height: 300px; width: 300px;\" class=\"plotly-graph-div\"></div><script type=\"text/javascript\">require([\"plotly\"], function(Plotly) { window.PLOTLYENV=window.PLOTLYENV || {};window.PLOTLYENV.BASE_URL=\"https://plot.ly\";Plotly.newPlot(\"4b1c51e8-f434-4222-9bef-f8d57f2718cb\", [{\"colorscale\": \"Jet\", \"z\": [[3.4974826406176116e-06, 0.9573491823781786, 0.8092248949082006, 0.5679588465700574, 0.4473085715710325, 0.4086074074539783], [0.9999777650568686, 0.0006207965606895955, 6.139974946719721e-07, 6.769212623673273e-08, 2.0830409279129232e-08, 1.720606741420771e-08], [1.8157206813080647e-05, 0.03500629795434531, 0.0013489658388255064, 0.00019603271800729192, 4.59719350928566e-05, 2.917135207374591e-05], [3.6230251925281584e-08, 0.006185741241291419, 0.16498294416369605, 0.19283859399448117, 0.06528203380732843, 0.03346750604113222], [2.1178791003887564e-08, 0.0006742020553424246, 0.021672571827536544, 0.18857086995105315, 0.30523868231223433, 0.29277268328445377], [3.9204341789242335e-08, 0.00016325378338075236, 0.002769506953688315, 0.0504350530109977, 0.18212423730719504, 0.2651227101520182]], \"type\": \"heatmap\"}], {\"plot_bgcolor\": \"#000\", \"paper_bgcolor\": \"#000\", \"width\": 300, \"title\": \"1 Blobs:Confidence after 9600 Iters\", \"yaxis\": {\"title\": \"Count Word\", \"tickcolor\": \"#FFF\", \"range\": [-0.5, 5.5], \"dtick\": 1}, \"height\": 300, \"titlefont\": {\"color\": \"#FFF\"}, \"xaxis\": {\"title\": \"Glimpses\", \"tickcolor\": \"#FFF\", \"range\": [-0.5, 5.5], \"dtick\": 1}, \"font\": {\"color\": \"#FFF\"}}, {\"linkText\": \"Export to plot.ly\", \"showLink\": true})});</script>"
      ]
     },
     "metadata": {},
     "output_type": "display_data"
    },
    {
     "data": {
      "application/vnd.plotly.v1+json": {
       "data": [
        {
         "colorscale": "Jet",
         "type": "heatmap",
         "z": [
          [
           6.299529731956297e-06,
           0.9545704803286525,
           0.9923775267222916,
           0.9708449105968144,
           0.9114359193938888,
           0.7912241539915819
          ],
          [
           0.9999553511123738,
           0.0017161831095138024,
           8.108107699861434e-06,
           2.609879833745113e-06,
           3.8235082178097686e-07,
           4.444892536786406e-07
          ],
          [
           3.767993208578599e-05,
           0.0428751831976797,
           0.0005200474840559003,
           9.516392231193392e-05,
           3.0804247273483155e-05,
           1.9387981056574492e-05
          ],
          [
           3.5452184218727556e-08,
           0.000591514730167839,
           0.0045811711460196445,
           0.009283286600128398,
           0.008059688398514953,
           0.005150083494656478
          ],
          [
           4.059289609060697e-08,
           0.0001492597812913226,
           0.002045039549494563,
           0.014425910880831797,
           0.04319363265750224,
           0.06899883860325759
          ],
          [
           1.395187344769637e-07,
           9.68987711957996e-05,
           0.0004676401666699042,
           0.00534765930491302,
           0.03727909881438547,
           0.134606614472632
          ]
         ]
        }
       ],
       "layout": {
        "font": {
         "color": "#FFF"
        },
        "height": 300,
        "paper_bgcolor": "#000",
        "plot_bgcolor": "#000",
        "title": "1 Blobs:Confidence after 12800 Iters",
        "titlefont": {
         "color": "#FFF"
        },
        "width": 300,
        "xaxis": {
         "dtick": 1,
         "range": [
          -0.5,
          5.5
         ],
         "tickcolor": "#FFF",
         "title": "Glimpses"
        },
        "yaxis": {
         "dtick": 1,
         "range": [
          -0.5,
          5.5
         ],
         "tickcolor": "#FFF",
         "title": "Count Word"
        }
       }
      },
      "text/html": [
       "<div id=\"6d0945e0-f3c9-45ff-beb8-efddc5b36a53\" style=\"height: 300px; width: 300px;\" class=\"plotly-graph-div\"></div><script type=\"text/javascript\">require([\"plotly\"], function(Plotly) { window.PLOTLYENV=window.PLOTLYENV || {};window.PLOTLYENV.BASE_URL=\"https://plot.ly\";Plotly.newPlot(\"6d0945e0-f3c9-45ff-beb8-efddc5b36a53\", [{\"colorscale\": \"Jet\", \"z\": [[6.299529731956297e-06, 0.9545704803286525, 0.9923775267222916, 0.9708449105968144, 0.9114359193938888, 0.7912241539915819], [0.9999553511123738, 0.0017161831095138024, 8.108107699861434e-06, 2.609879833745113e-06, 3.8235082178097686e-07, 4.444892536786406e-07], [3.767993208578599e-05, 0.0428751831976797, 0.0005200474840559003, 9.516392231193392e-05, 3.0804247273483155e-05, 1.9387981056574492e-05], [3.5452184218727556e-08, 0.000591514730167839, 0.0045811711460196445, 0.009283286600128398, 0.008059688398514953, 0.005150083494656478], [4.059289609060697e-08, 0.0001492597812913226, 0.002045039549494563, 0.014425910880831797, 0.04319363265750224, 0.06899883860325759], [1.395187344769637e-07, 9.68987711957996e-05, 0.0004676401666699042, 0.00534765930491302, 0.03727909881438547, 0.134606614472632]], \"type\": \"heatmap\"}], {\"plot_bgcolor\": \"#000\", \"paper_bgcolor\": \"#000\", \"width\": 300, \"title\": \"1 Blobs:Confidence after 12800 Iters\", \"yaxis\": {\"title\": \"Count Word\", \"tickcolor\": \"#FFF\", \"range\": [-0.5, 5.5], \"dtick\": 1}, \"height\": 300, \"titlefont\": {\"color\": \"#FFF\"}, \"xaxis\": {\"title\": \"Glimpses\", \"tickcolor\": \"#FFF\", \"range\": [-0.5, 5.5], \"dtick\": 1}, \"font\": {\"color\": \"#FFF\"}}, {\"linkText\": \"Export to plot.ly\", \"showLink\": true})});</script>"
      ],
      "text/vnd.plotly.v1+html": [
       "<div id=\"6d0945e0-f3c9-45ff-beb8-efddc5b36a53\" style=\"height: 300px; width: 300px;\" class=\"plotly-graph-div\"></div><script type=\"text/javascript\">require([\"plotly\"], function(Plotly) { window.PLOTLYENV=window.PLOTLYENV || {};window.PLOTLYENV.BASE_URL=\"https://plot.ly\";Plotly.newPlot(\"6d0945e0-f3c9-45ff-beb8-efddc5b36a53\", [{\"colorscale\": \"Jet\", \"z\": [[6.299529731956297e-06, 0.9545704803286525, 0.9923775267222916, 0.9708449105968144, 0.9114359193938888, 0.7912241539915819], [0.9999553511123738, 0.0017161831095138024, 8.108107699861434e-06, 2.609879833745113e-06, 3.8235082178097686e-07, 4.444892536786406e-07], [3.767993208578599e-05, 0.0428751831976797, 0.0005200474840559003, 9.516392231193392e-05, 3.0804247273483155e-05, 1.9387981056574492e-05], [3.5452184218727556e-08, 0.000591514730167839, 0.0045811711460196445, 0.009283286600128398, 0.008059688398514953, 0.005150083494656478], [4.059289609060697e-08, 0.0001492597812913226, 0.002045039549494563, 0.014425910880831797, 0.04319363265750224, 0.06899883860325759], [1.395187344769637e-07, 9.68987711957996e-05, 0.0004676401666699042, 0.00534765930491302, 0.03727909881438547, 0.134606614472632]], \"type\": \"heatmap\"}], {\"plot_bgcolor\": \"#000\", \"paper_bgcolor\": \"#000\", \"width\": 300, \"title\": \"1 Blobs:Confidence after 12800 Iters\", \"yaxis\": {\"title\": \"Count Word\", \"tickcolor\": \"#FFF\", \"range\": [-0.5, 5.5], \"dtick\": 1}, \"height\": 300, \"titlefont\": {\"color\": \"#FFF\"}, \"xaxis\": {\"title\": \"Glimpses\", \"tickcolor\": \"#FFF\", \"range\": [-0.5, 5.5], \"dtick\": 1}, \"font\": {\"color\": \"#FFF\"}}, {\"linkText\": \"Export to plot.ly\", \"showLink\": true})});</script>"
      ]
     },
     "metadata": {},
     "output_type": "display_data"
    },
    {
     "data": {
      "application/vnd.plotly.v1+json": {
       "data": [
        {
         "colorscale": "Jet",
         "type": "heatmap",
         "z": [
          [
           2.264778207681686e-06,
           0.7926603187742041,
           0.9938594972360314,
           0.9197270528985584,
           0.7868260442962084,
           0.7506137889885349
          ],
          [
           0.9999862916937797,
           0.0022118456165571973,
           4.674041099197723e-06,
           2.184410204015462e-06,
           1.1952087679442037e-05,
           3.7159182154253736e-06
          ],
          [
           1.0829546674832124e-05,
           0.20471562170334315,
           0.0002715115090368973,
           7.956487770949216e-06,
           6.585737908357963e-06,
           8.286798264821276e-06
          ],
          [
           3.6464018509826e-09,
           0.00035472663005745725,
           0.0030893766549193796,
           0.000597313308009422,
           0.00015462083845128402,
           0.00012503998617076996
          ],
          [
           1.0127083479804525e-08,
           2.6638861077755233e-05,
           0.0024808865509013283,
           0.06236357662910569,
           0.05203872459829109,
           0.029479317856964695
          ],
          [
           7.014021394142986e-08,
           3.0301192703562207e-05,
           0.00029348173186888706,
           0.0173013656026581,
           0.16096151763412195,
           0.21976932429216228
          ]
         ]
        }
       ],
       "layout": {
        "font": {
         "color": "#FFF"
        },
        "height": 300,
        "paper_bgcolor": "#000",
        "plot_bgcolor": "#000",
        "title": "1 Blobs:Confidence after 19200 Iters",
        "titlefont": {
         "color": "#FFF"
        },
        "width": 300,
        "xaxis": {
         "dtick": 1,
         "range": [
          -0.5,
          5.5
         ],
         "tickcolor": "#FFF",
         "title": "Glimpses"
        },
        "yaxis": {
         "dtick": 1,
         "range": [
          -0.5,
          5.5
         ],
         "tickcolor": "#FFF",
         "title": "Count Word"
        }
       }
      },
      "text/html": [
       "<div id=\"00881c2e-128d-4d4c-aa21-affb560a474e\" style=\"height: 300px; width: 300px;\" class=\"plotly-graph-div\"></div><script type=\"text/javascript\">require([\"plotly\"], function(Plotly) { window.PLOTLYENV=window.PLOTLYENV || {};window.PLOTLYENV.BASE_URL=\"https://plot.ly\";Plotly.newPlot(\"00881c2e-128d-4d4c-aa21-affb560a474e\", [{\"colorscale\": \"Jet\", \"z\": [[2.264778207681686e-06, 0.7926603187742041, 0.9938594972360314, 0.9197270528985584, 0.7868260442962084, 0.7506137889885349], [0.9999862916937797, 0.0022118456165571973, 4.674041099197723e-06, 2.184410204015462e-06, 1.1952087679442037e-05, 3.7159182154253736e-06], [1.0829546674832124e-05, 0.20471562170334315, 0.0002715115090368973, 7.956487770949216e-06, 6.585737908357963e-06, 8.286798264821276e-06], [3.6464018509826e-09, 0.00035472663005745725, 0.0030893766549193796, 0.000597313308009422, 0.00015462083845128402, 0.00012503998617076996], [1.0127083479804525e-08, 2.6638861077755233e-05, 0.0024808865509013283, 0.06236357662910569, 0.05203872459829109, 0.029479317856964695], [7.014021394142986e-08, 3.0301192703562207e-05, 0.00029348173186888706, 0.0173013656026581, 0.16096151763412195, 0.21976932429216228]], \"type\": \"heatmap\"}], {\"plot_bgcolor\": \"#000\", \"paper_bgcolor\": \"#000\", \"width\": 300, \"title\": \"1 Blobs:Confidence after 19200 Iters\", \"yaxis\": {\"title\": \"Count Word\", \"tickcolor\": \"#FFF\", \"range\": [-0.5, 5.5], \"dtick\": 1}, \"height\": 300, \"titlefont\": {\"color\": \"#FFF\"}, \"xaxis\": {\"title\": \"Glimpses\", \"tickcolor\": \"#FFF\", \"range\": [-0.5, 5.5], \"dtick\": 1}, \"font\": {\"color\": \"#FFF\"}}, {\"linkText\": \"Export to plot.ly\", \"showLink\": true})});</script>"
      ],
      "text/vnd.plotly.v1+html": [
       "<div id=\"00881c2e-128d-4d4c-aa21-affb560a474e\" style=\"height: 300px; width: 300px;\" class=\"plotly-graph-div\"></div><script type=\"text/javascript\">require([\"plotly\"], function(Plotly) { window.PLOTLYENV=window.PLOTLYENV || {};window.PLOTLYENV.BASE_URL=\"https://plot.ly\";Plotly.newPlot(\"00881c2e-128d-4d4c-aa21-affb560a474e\", [{\"colorscale\": \"Jet\", \"z\": [[2.264778207681686e-06, 0.7926603187742041, 0.9938594972360314, 0.9197270528985584, 0.7868260442962084, 0.7506137889885349], [0.9999862916937797, 0.0022118456165571973, 4.674041099197723e-06, 2.184410204015462e-06, 1.1952087679442037e-05, 3.7159182154253736e-06], [1.0829546674832124e-05, 0.20471562170334315, 0.0002715115090368973, 7.956487770949216e-06, 6.585737908357963e-06, 8.286798264821276e-06], [3.6464018509826e-09, 0.00035472663005745725, 0.0030893766549193796, 0.000597313308009422, 0.00015462083845128402, 0.00012503998617076996], [1.0127083479804525e-08, 2.6638861077755233e-05, 0.0024808865509013283, 0.06236357662910569, 0.05203872459829109, 0.029479317856964695], [7.014021394142986e-08, 3.0301192703562207e-05, 0.00029348173186888706, 0.0173013656026581, 0.16096151763412195, 0.21976932429216228]], \"type\": \"heatmap\"}], {\"plot_bgcolor\": \"#000\", \"paper_bgcolor\": \"#000\", \"width\": 300, \"title\": \"1 Blobs:Confidence after 19200 Iters\", \"yaxis\": {\"title\": \"Count Word\", \"tickcolor\": \"#FFF\", \"range\": [-0.5, 5.5], \"dtick\": 1}, \"height\": 300, \"titlefont\": {\"color\": \"#FFF\"}, \"xaxis\": {\"title\": \"Glimpses\", \"tickcolor\": \"#FFF\", \"range\": [-0.5, 5.5], \"dtick\": 1}, \"font\": {\"color\": \"#FFF\"}}, {\"linkText\": \"Export to plot.ly\", \"showLink\": true})});</script>"
      ]
     },
     "metadata": {},
     "output_type": "display_data"
    },
    {
     "data": {
      "application/vnd.plotly.v1+json": {
       "data": [
        {
         "colorscale": "Jet",
         "type": "heatmap",
         "z": [
          [
           3.69508012539749e-05,
           0.9393490013581188,
           0.9979228543529726,
           0.9874734143300424,
           0.954788860121401,
           0.9823772167696131
          ],
          [
           0.9999490923773673,
           0.0029902767867296927,
           0.00025889154902448877,
           7.117436445831057e-05,
           0.006107149543603584,
           0.0005528533212470142
          ],
          [
           1.1855024311393174e-05,
           0.05733930098993907,
           3.540246678975387e-05,
           3.930690932934165e-06,
           8.518094095623609e-06,
           2.6126909494068613e-05
          ],
          [
           2.9083212493207507e-08,
           0.00022279676842679806,
           0.0005432482366323925,
           3.993456934562194e-05,
           1.4269566877576515e-05,
           1.5151154430500142e-05
          ],
          [
           2.504491794980808e-07,
           5.342136153676248e-05,
           0.0010178737477126464,
           0.007783256265529069,
           0.003851303299164665,
           0.0009684521206398278
          ],
          [
           1.3190409311184263e-06,
           4.470960595484411e-05,
           0.00022121438013174012,
           0.004627782507895664,
           0.035229381070933354,
           0.01605973883694351
          ]
         ]
        }
       ],
       "layout": {
        "font": {
         "color": "#FFF"
        },
        "height": 300,
        "paper_bgcolor": "#000",
        "plot_bgcolor": "#000",
        "title": "1 Blobs:Confidence after 25600 Iters",
        "titlefont": {
         "color": "#FFF"
        },
        "width": 300,
        "xaxis": {
         "dtick": 1,
         "range": [
          -0.5,
          5.5
         ],
         "tickcolor": "#FFF",
         "title": "Glimpses"
        },
        "yaxis": {
         "dtick": 1,
         "range": [
          -0.5,
          5.5
         ],
         "tickcolor": "#FFF",
         "title": "Count Word"
        }
       }
      },
      "text/html": [
       "<div id=\"8ab71053-c6d0-468d-9263-8f209b78bdd5\" style=\"height: 300px; width: 300px;\" class=\"plotly-graph-div\"></div><script type=\"text/javascript\">require([\"plotly\"], function(Plotly) { window.PLOTLYENV=window.PLOTLYENV || {};window.PLOTLYENV.BASE_URL=\"https://plot.ly\";Plotly.newPlot(\"8ab71053-c6d0-468d-9263-8f209b78bdd5\", [{\"colorscale\": \"Jet\", \"z\": [[3.69508012539749e-05, 0.9393490013581188, 0.9979228543529726, 0.9874734143300424, 0.954788860121401, 0.9823772167696131], [0.9999490923773673, 0.0029902767867296927, 0.00025889154902448877, 7.117436445831057e-05, 0.006107149543603584, 0.0005528533212470142], [1.1855024311393174e-05, 0.05733930098993907, 3.540246678975387e-05, 3.930690932934165e-06, 8.518094095623609e-06, 2.6126909494068613e-05], [2.9083212493207507e-08, 0.00022279676842679806, 0.0005432482366323925, 3.993456934562194e-05, 1.4269566877576515e-05, 1.5151154430500142e-05], [2.504491794980808e-07, 5.342136153676248e-05, 0.0010178737477126464, 0.007783256265529069, 0.003851303299164665, 0.0009684521206398278], [1.3190409311184263e-06, 4.470960595484411e-05, 0.00022121438013174012, 0.004627782507895664, 0.035229381070933354, 0.01605973883694351]], \"type\": \"heatmap\"}], {\"plot_bgcolor\": \"#000\", \"paper_bgcolor\": \"#000\", \"width\": 300, \"title\": \"1 Blobs:Confidence after 25600 Iters\", \"yaxis\": {\"title\": \"Count Word\", \"tickcolor\": \"#FFF\", \"range\": [-0.5, 5.5], \"dtick\": 1}, \"height\": 300, \"titlefont\": {\"color\": \"#FFF\"}, \"xaxis\": {\"title\": \"Glimpses\", \"tickcolor\": \"#FFF\", \"range\": [-0.5, 5.5], \"dtick\": 1}, \"font\": {\"color\": \"#FFF\"}}, {\"linkText\": \"Export to plot.ly\", \"showLink\": true})});</script>"
      ],
      "text/vnd.plotly.v1+html": [
       "<div id=\"8ab71053-c6d0-468d-9263-8f209b78bdd5\" style=\"height: 300px; width: 300px;\" class=\"plotly-graph-div\"></div><script type=\"text/javascript\">require([\"plotly\"], function(Plotly) { window.PLOTLYENV=window.PLOTLYENV || {};window.PLOTLYENV.BASE_URL=\"https://plot.ly\";Plotly.newPlot(\"8ab71053-c6d0-468d-9263-8f209b78bdd5\", [{\"colorscale\": \"Jet\", \"z\": [[3.69508012539749e-05, 0.9393490013581188, 0.9979228543529726, 0.9874734143300424, 0.954788860121401, 0.9823772167696131], [0.9999490923773673, 0.0029902767867296927, 0.00025889154902448877, 7.117436445831057e-05, 0.006107149543603584, 0.0005528533212470142], [1.1855024311393174e-05, 0.05733930098993907, 3.540246678975387e-05, 3.930690932934165e-06, 8.518094095623609e-06, 2.6126909494068613e-05], [2.9083212493207507e-08, 0.00022279676842679806, 0.0005432482366323925, 3.993456934562194e-05, 1.4269566877576515e-05, 1.5151154430500142e-05], [2.504491794980808e-07, 5.342136153676248e-05, 0.0010178737477126464, 0.007783256265529069, 0.003851303299164665, 0.0009684521206398278], [1.3190409311184263e-06, 4.470960595484411e-05, 0.00022121438013174012, 0.004627782507895664, 0.035229381070933354, 0.01605973883694351]], \"type\": \"heatmap\"}], {\"plot_bgcolor\": \"#000\", \"paper_bgcolor\": \"#000\", \"width\": 300, \"title\": \"1 Blobs:Confidence after 25600 Iters\", \"yaxis\": {\"title\": \"Count Word\", \"tickcolor\": \"#FFF\", \"range\": [-0.5, 5.5], \"dtick\": 1}, \"height\": 300, \"titlefont\": {\"color\": \"#FFF\"}, \"xaxis\": {\"title\": \"Glimpses\", \"tickcolor\": \"#FFF\", \"range\": [-0.5, 5.5], \"dtick\": 1}, \"font\": {\"color\": \"#FFF\"}}, {\"linkText\": \"Export to plot.ly\", \"showLink\": true})});</script>"
      ]
     },
     "metadata": {},
     "output_type": "display_data"
    },
    {
     "data": {
      "application/vnd.plotly.v1+json": {
       "data": [
        {
         "colorscale": "Jet",
         "type": "heatmap",
         "z": [
          [
           3.1781936761272975e-06,
           0.6638975652535302,
           0.9951613716841514,
           0.9575984459310495,
           0.9090298612631408,
           0.9579659679957241
          ],
          [
           0.9999875404435407,
           0.01278500758761289,
           0.00013181400894905608,
           0.00011299543394203305,
           0.0031946158274109584,
           0.003133480226920929
          ],
          [
           8.36273386827234e-06,
           0.3227195678633605,
           6.340400440316267e-05,
           7.591597767952313e-06,
           1.4014270896320988e-05,
           5.4001628162163114e-05
          ],
          [
           7.67137385513871e-09,
           0.000552286909127673,
           0.0023137738850496394,
           0.00012373447695414048,
           1.4029056501337675e-05,
           1.7041193570899383e-05
          ],
          [
           3.505922187590105e-08,
           1.8272691263570792e-05,
           0.0021935177942186694,
           0.027577120672952274,
           0.0064436837814159445,
           0.0017353909424497986
          ],
          [
           3.9520748109208585e-07,
           2.680722448786321e-05,
           0.00013562215544527615,
           0.014579630432579944,
           0.08130333426329067,
           0.03709364060268457
          ]
         ]
        }
       ],
       "layout": {
        "font": {
         "color": "#FFF"
        },
        "height": 300,
        "paper_bgcolor": "#000",
        "plot_bgcolor": "#000",
        "title": "1 Blobs:Confidence after 38400 Iters",
        "titlefont": {
         "color": "#FFF"
        },
        "width": 300,
        "xaxis": {
         "dtick": 1,
         "range": [
          -0.5,
          5.5
         ],
         "tickcolor": "#FFF",
         "title": "Glimpses"
        },
        "yaxis": {
         "dtick": 1,
         "range": [
          -0.5,
          5.5
         ],
         "tickcolor": "#FFF",
         "title": "Count Word"
        }
       }
      },
      "text/html": [
       "<div id=\"26a78778-68f2-487a-a871-018abaa7d1f4\" style=\"height: 300px; width: 300px;\" class=\"plotly-graph-div\"></div><script type=\"text/javascript\">require([\"plotly\"], function(Plotly) { window.PLOTLYENV=window.PLOTLYENV || {};window.PLOTLYENV.BASE_URL=\"https://plot.ly\";Plotly.newPlot(\"26a78778-68f2-487a-a871-018abaa7d1f4\", [{\"colorscale\": \"Jet\", \"z\": [[3.1781936761272975e-06, 0.6638975652535302, 0.9951613716841514, 0.9575984459310495, 0.9090298612631408, 0.9579659679957241], [0.9999875404435407, 0.01278500758761289, 0.00013181400894905608, 0.00011299543394203305, 0.0031946158274109584, 0.003133480226920929], [8.36273386827234e-06, 0.3227195678633605, 6.340400440316267e-05, 7.591597767952313e-06, 1.4014270896320988e-05, 5.4001628162163114e-05], [7.67137385513871e-09, 0.000552286909127673, 0.0023137738850496394, 0.00012373447695414048, 1.4029056501337675e-05, 1.7041193570899383e-05], [3.505922187590105e-08, 1.8272691263570792e-05, 0.0021935177942186694, 0.027577120672952274, 0.0064436837814159445, 0.0017353909424497986], [3.9520748109208585e-07, 2.680722448786321e-05, 0.00013562215544527615, 0.014579630432579944, 0.08130333426329067, 0.03709364060268457]], \"type\": \"heatmap\"}], {\"plot_bgcolor\": \"#000\", \"paper_bgcolor\": \"#000\", \"width\": 300, \"title\": \"1 Blobs:Confidence after 38400 Iters\", \"yaxis\": {\"title\": \"Count Word\", \"tickcolor\": \"#FFF\", \"range\": [-0.5, 5.5], \"dtick\": 1}, \"height\": 300, \"titlefont\": {\"color\": \"#FFF\"}, \"xaxis\": {\"title\": \"Glimpses\", \"tickcolor\": \"#FFF\", \"range\": [-0.5, 5.5], \"dtick\": 1}, \"font\": {\"color\": \"#FFF\"}}, {\"linkText\": \"Export to plot.ly\", \"showLink\": true})});</script>"
      ],
      "text/vnd.plotly.v1+html": [
       "<div id=\"26a78778-68f2-487a-a871-018abaa7d1f4\" style=\"height: 300px; width: 300px;\" class=\"plotly-graph-div\"></div><script type=\"text/javascript\">require([\"plotly\"], function(Plotly) { window.PLOTLYENV=window.PLOTLYENV || {};window.PLOTLYENV.BASE_URL=\"https://plot.ly\";Plotly.newPlot(\"26a78778-68f2-487a-a871-018abaa7d1f4\", [{\"colorscale\": \"Jet\", \"z\": [[3.1781936761272975e-06, 0.6638975652535302, 0.9951613716841514, 0.9575984459310495, 0.9090298612631408, 0.9579659679957241], [0.9999875404435407, 0.01278500758761289, 0.00013181400894905608, 0.00011299543394203305, 0.0031946158274109584, 0.003133480226920929], [8.36273386827234e-06, 0.3227195678633605, 6.340400440316267e-05, 7.591597767952313e-06, 1.4014270896320988e-05, 5.4001628162163114e-05], [7.67137385513871e-09, 0.000552286909127673, 0.0023137738850496394, 0.00012373447695414048, 1.4029056501337675e-05, 1.7041193570899383e-05], [3.505922187590105e-08, 1.8272691263570792e-05, 0.0021935177942186694, 0.027577120672952274, 0.0064436837814159445, 0.0017353909424497986], [3.9520748109208585e-07, 2.680722448786321e-05, 0.00013562215544527615, 0.014579630432579944, 0.08130333426329067, 0.03709364060268457]], \"type\": \"heatmap\"}], {\"plot_bgcolor\": \"#000\", \"paper_bgcolor\": \"#000\", \"width\": 300, \"title\": \"1 Blobs:Confidence after 38400 Iters\", \"yaxis\": {\"title\": \"Count Word\", \"tickcolor\": \"#FFF\", \"range\": [-0.5, 5.5], \"dtick\": 1}, \"height\": 300, \"titlefont\": {\"color\": \"#FFF\"}, \"xaxis\": {\"title\": \"Glimpses\", \"tickcolor\": \"#FFF\", \"range\": [-0.5, 5.5], \"dtick\": 1}, \"font\": {\"color\": \"#FFF\"}}, {\"linkText\": \"Export to plot.ly\", \"showLink\": true})});</script>"
      ]
     },
     "metadata": {},
     "output_type": "display_data"
    },
    {
     "data": {
      "application/vnd.plotly.v1+json": {
       "data": [
        {
         "colorscale": "Jet",
         "type": "heatmap",
         "z": [
          [
           7.402828452901176e-06,
           0.695726536917718,
           0.9983021413423306,
           0.9963323186672827,
           0.9660410408133204,
           0.991539790903981
          ],
          [
           0.9999903384932121,
           0.05126225519017745,
           3.651360050196657e-05,
           6.870709425057706e-06,
           0.0009381610406528351,
           0.0003490348838386541
          ],
          [
           1.2261502725328098e-06,
           0.25282320288167554,
           3.0138760160481482e-05,
           2.548210149915677e-06,
           7.83898141462668e-06,
           2.4470828544934323e-05
          ],
          [
           5.043069149659364e-09,
           0.00016879932311711878,
           0.0015668233791359882,
           9.168645747179505e-05,
           6.554503583484417e-06,
           7.028292548205613e-06
          ],
          [
           1.8721894659670705e-08,
           1.9875361193502285e-06,
           5.423403690132058e-05,
           0.002603926439957497,
           0.000370955423324343,
           6.546811246490511e-05
          ],
          [
           5.215005227386225e-07,
           1.6705704420389847e-05,
           9.60797565595866e-06,
           0.0009620863358074323,
           0.03263488410408242,
           0.008013661957760583
          ]
         ]
        }
       ],
       "layout": {
        "font": {
         "color": "#FFF"
        },
        "height": 300,
        "paper_bgcolor": "#000",
        "plot_bgcolor": "#000",
        "title": "1 Blobs:Confidence after 51200 Iters",
        "titlefont": {
         "color": "#FFF"
        },
        "width": 300,
        "xaxis": {
         "dtick": 1,
         "range": [
          -0.5,
          5.5
         ],
         "tickcolor": "#FFF",
         "title": "Glimpses"
        },
        "yaxis": {
         "dtick": 1,
         "range": [
          -0.5,
          5.5
         ],
         "tickcolor": "#FFF",
         "title": "Count Word"
        }
       }
      },
      "text/html": [
       "<div id=\"a9204699-c5a2-4662-99c9-ed1365c6d1ed\" style=\"height: 300px; width: 300px;\" class=\"plotly-graph-div\"></div><script type=\"text/javascript\">require([\"plotly\"], function(Plotly) { window.PLOTLYENV=window.PLOTLYENV || {};window.PLOTLYENV.BASE_URL=\"https://plot.ly\";Plotly.newPlot(\"a9204699-c5a2-4662-99c9-ed1365c6d1ed\", [{\"colorscale\": \"Jet\", \"z\": [[7.402828452901176e-06, 0.695726536917718, 0.9983021413423306, 0.9963323186672827, 0.9660410408133204, 0.991539790903981], [0.9999903384932121, 0.05126225519017745, 3.651360050196657e-05, 6.870709425057706e-06, 0.0009381610406528351, 0.0003490348838386541], [1.2261502725328098e-06, 0.25282320288167554, 3.0138760160481482e-05, 2.548210149915677e-06, 7.83898141462668e-06, 2.4470828544934323e-05], [5.043069149659364e-09, 0.00016879932311711878, 0.0015668233791359882, 9.168645747179505e-05, 6.554503583484417e-06, 7.028292548205613e-06], [1.8721894659670705e-08, 1.9875361193502285e-06, 5.423403690132058e-05, 0.002603926439957497, 0.000370955423324343, 6.546811246490511e-05], [5.215005227386225e-07, 1.6705704420389847e-05, 9.60797565595866e-06, 0.0009620863358074323, 0.03263488410408242, 0.008013661957760583]], \"type\": \"heatmap\"}], {\"plot_bgcolor\": \"#000\", \"paper_bgcolor\": \"#000\", \"width\": 300, \"title\": \"1 Blobs:Confidence after 51200 Iters\", \"yaxis\": {\"title\": \"Count Word\", \"tickcolor\": \"#FFF\", \"range\": [-0.5, 5.5], \"dtick\": 1}, \"height\": 300, \"titlefont\": {\"color\": \"#FFF\"}, \"xaxis\": {\"title\": \"Glimpses\", \"tickcolor\": \"#FFF\", \"range\": [-0.5, 5.5], \"dtick\": 1}, \"font\": {\"color\": \"#FFF\"}}, {\"linkText\": \"Export to plot.ly\", \"showLink\": true})});</script>"
      ],
      "text/vnd.plotly.v1+html": [
       "<div id=\"a9204699-c5a2-4662-99c9-ed1365c6d1ed\" style=\"height: 300px; width: 300px;\" class=\"plotly-graph-div\"></div><script type=\"text/javascript\">require([\"plotly\"], function(Plotly) { window.PLOTLYENV=window.PLOTLYENV || {};window.PLOTLYENV.BASE_URL=\"https://plot.ly\";Plotly.newPlot(\"a9204699-c5a2-4662-99c9-ed1365c6d1ed\", [{\"colorscale\": \"Jet\", \"z\": [[7.402828452901176e-06, 0.695726536917718, 0.9983021413423306, 0.9963323186672827, 0.9660410408133204, 0.991539790903981], [0.9999903384932121, 0.05126225519017745, 3.651360050196657e-05, 6.870709425057706e-06, 0.0009381610406528351, 0.0003490348838386541], [1.2261502725328098e-06, 0.25282320288167554, 3.0138760160481482e-05, 2.548210149915677e-06, 7.83898141462668e-06, 2.4470828544934323e-05], [5.043069149659364e-09, 0.00016879932311711878, 0.0015668233791359882, 9.168645747179505e-05, 6.554503583484417e-06, 7.028292548205613e-06], [1.8721894659670705e-08, 1.9875361193502285e-06, 5.423403690132058e-05, 0.002603926439957497, 0.000370955423324343, 6.546811246490511e-05], [5.215005227386225e-07, 1.6705704420389847e-05, 9.60797565595866e-06, 0.0009620863358074323, 0.03263488410408242, 0.008013661957760583]], \"type\": \"heatmap\"}], {\"plot_bgcolor\": \"#000\", \"paper_bgcolor\": \"#000\", \"width\": 300, \"title\": \"1 Blobs:Confidence after 51200 Iters\", \"yaxis\": {\"title\": \"Count Word\", \"tickcolor\": \"#FFF\", \"range\": [-0.5, 5.5], \"dtick\": 1}, \"height\": 300, \"titlefont\": {\"color\": \"#FFF\"}, \"xaxis\": {\"title\": \"Glimpses\", \"tickcolor\": \"#FFF\", \"range\": [-0.5, 5.5], \"dtick\": 1}, \"font\": {\"color\": \"#FFF\"}}, {\"linkText\": \"Export to plot.ly\", \"showLink\": true})});</script>"
      ]
     },
     "metadata": {},
     "output_type": "display_data"
    },
    {
     "data": {
      "application/vnd.plotly.v1+json": {
       "data": [
        {
         "colorscale": "Jet",
         "type": "heatmap",
         "z": [
          [
           1.0193158291743178e-05,
           0.5434418555237066,
           0.9735377570017208,
           0.9895622878640816,
           0.8532686258711802,
           0.9884766553674234
          ],
          [
           0.9999842352583554,
           0.005426892184827723,
           1.8521903085795728e-06,
           7.522691563349624e-05,
           0.0015756471058728885,
           0.0013880226732900353
          ],
          [
           3.873362437181879e-06,
           0.4509681728050283,
           8.563510477561366e-05,
           3.2869661332335985e-06,
           1.52414463022308e-05,
           0.00020965075688607386
          ],
          [
           7.721129609985809e-09,
           0.00015440093649630172,
           0.026307730362143306,
           0.00019711799351010726,
           5.122907881424551e-06,
           2.5879973734239664e-05
          ],
          [
           2.8107670931015797e-08,
           8.458286555131237e-07,
           6.253105052400444e-05,
           0.009217185300075283,
           0.0005549342551800391,
           3.628894539810179e-05
          ],
          [
           1.1564324280667724e-06,
           7.354588420702505e-06,
           3.977336840817723e-06,
           0.0009444034718478185,
           0.14457993883510248,
           0.009862998490061035
          ]
         ]
        }
       ],
       "layout": {
        "font": {
         "color": "#FFF"
        },
        "height": 300,
        "paper_bgcolor": "#000",
        "plot_bgcolor": "#000",
        "title": "1 Blobs:Confidence after 76800 Iters",
        "titlefont": {
         "color": "#FFF"
        },
        "width": 300,
        "xaxis": {
         "dtick": 1,
         "range": [
          -0.5,
          5.5
         ],
         "tickcolor": "#FFF",
         "title": "Glimpses"
        },
        "yaxis": {
         "dtick": 1,
         "range": [
          -0.5,
          5.5
         ],
         "tickcolor": "#FFF",
         "title": "Count Word"
        }
       }
      },
      "text/html": [
       "<div id=\"b95fdb23-f819-4eb0-8913-761c6ef7dead\" style=\"height: 300px; width: 300px;\" class=\"plotly-graph-div\"></div><script type=\"text/javascript\">require([\"plotly\"], function(Plotly) { window.PLOTLYENV=window.PLOTLYENV || {};window.PLOTLYENV.BASE_URL=\"https://plot.ly\";Plotly.newPlot(\"b95fdb23-f819-4eb0-8913-761c6ef7dead\", [{\"colorscale\": \"Jet\", \"z\": [[1.0193158291743178e-05, 0.5434418555237066, 0.9735377570017208, 0.9895622878640816, 0.8532686258711802, 0.9884766553674234], [0.9999842352583554, 0.005426892184827723, 1.8521903085795728e-06, 7.522691563349624e-05, 0.0015756471058728885, 0.0013880226732900353], [3.873362437181879e-06, 0.4509681728050283, 8.563510477561366e-05, 3.2869661332335985e-06, 1.52414463022308e-05, 0.00020965075688607386], [7.721129609985809e-09, 0.00015440093649630172, 0.026307730362143306, 0.00019711799351010726, 5.122907881424551e-06, 2.5879973734239664e-05], [2.8107670931015797e-08, 8.458286555131237e-07, 6.253105052400444e-05, 0.009217185300075283, 0.0005549342551800391, 3.628894539810179e-05], [1.1564324280667724e-06, 7.354588420702505e-06, 3.977336840817723e-06, 0.0009444034718478185, 0.14457993883510248, 0.009862998490061035]], \"type\": \"heatmap\"}], {\"plot_bgcolor\": \"#000\", \"paper_bgcolor\": \"#000\", \"width\": 300, \"title\": \"1 Blobs:Confidence after 76800 Iters\", \"yaxis\": {\"title\": \"Count Word\", \"tickcolor\": \"#FFF\", \"range\": [-0.5, 5.5], \"dtick\": 1}, \"height\": 300, \"titlefont\": {\"color\": \"#FFF\"}, \"xaxis\": {\"title\": \"Glimpses\", \"tickcolor\": \"#FFF\", \"range\": [-0.5, 5.5], \"dtick\": 1}, \"font\": {\"color\": \"#FFF\"}}, {\"linkText\": \"Export to plot.ly\", \"showLink\": true})});</script>"
      ],
      "text/vnd.plotly.v1+html": [
       "<div id=\"b95fdb23-f819-4eb0-8913-761c6ef7dead\" style=\"height: 300px; width: 300px;\" class=\"plotly-graph-div\"></div><script type=\"text/javascript\">require([\"plotly\"], function(Plotly) { window.PLOTLYENV=window.PLOTLYENV || {};window.PLOTLYENV.BASE_URL=\"https://plot.ly\";Plotly.newPlot(\"b95fdb23-f819-4eb0-8913-761c6ef7dead\", [{\"colorscale\": \"Jet\", \"z\": [[1.0193158291743178e-05, 0.5434418555237066, 0.9735377570017208, 0.9895622878640816, 0.8532686258711802, 0.9884766553674234], [0.9999842352583554, 0.005426892184827723, 1.8521903085795728e-06, 7.522691563349624e-05, 0.0015756471058728885, 0.0013880226732900353], [3.873362437181879e-06, 0.4509681728050283, 8.563510477561366e-05, 3.2869661332335985e-06, 1.52414463022308e-05, 0.00020965075688607386], [7.721129609985809e-09, 0.00015440093649630172, 0.026307730362143306, 0.00019711799351010726, 5.122907881424551e-06, 2.5879973734239664e-05], [2.8107670931015797e-08, 8.458286555131237e-07, 6.253105052400444e-05, 0.009217185300075283, 0.0005549342551800391, 3.628894539810179e-05], [1.1564324280667724e-06, 7.354588420702505e-06, 3.977336840817723e-06, 0.0009444034718478185, 0.14457993883510248, 0.009862998490061035]], \"type\": \"heatmap\"}], {\"plot_bgcolor\": \"#000\", \"paper_bgcolor\": \"#000\", \"width\": 300, \"title\": \"1 Blobs:Confidence after 76800 Iters\", \"yaxis\": {\"title\": \"Count Word\", \"tickcolor\": \"#FFF\", \"range\": [-0.5, 5.5], \"dtick\": 1}, \"height\": 300, \"titlefont\": {\"color\": \"#FFF\"}, \"xaxis\": {\"title\": \"Glimpses\", \"tickcolor\": \"#FFF\", \"range\": [-0.5, 5.5], \"dtick\": 1}, \"font\": {\"color\": \"#FFF\"}}, {\"linkText\": \"Export to plot.ly\", \"showLink\": true})});</script>"
      ]
     },
     "metadata": {},
     "output_type": "display_data"
    },
    {
     "data": {
      "application/vnd.plotly.v1+json": {
       "data": [
        {
         "colorscale": "Jet",
         "type": "heatmap",
         "z": [
          [
           7.501807717106853e-07,
           0.5081768935564855,
           0.8586651109652375,
           0.9680064075373084,
           0.8264841249882285,
           0.9935400198288918
          ],
          [
           0.9999935237199947,
           0.04378939422200266,
           6.454165914434323e-08,
           1.3199303853414821e-05,
           0.00027182957531356666,
           0.00021028693008396567
          ],
          [
           4.941568976328285e-06,
           0.44765186048202055,
           0.00013807717923683307,
           9.807495551358747e-07,
           1.426976780810965e-05,
           0.000196330372695114
          ],
          [
           3.313690082956766e-09,
           0.0003679343431798727,
           0.14107479496398131,
           0.000263336542683752,
           7.759729312302419e-06,
           3.884374102697169e-05
          ],
          [
           2.8840157627292504e-09,
           6.310302305618908e-07,
           0.0001201141223131374,
           0.029840170216623076,
           0.00036107228263104784,
           7.788312797381433e-05
          ],
          [
           2.477711848763114e-07,
           1.2762718749198494e-05,
           1.3096929473855176e-06,
           0.0018753266777197456,
           0.1728603812736971,
           0.005936064066003047
          ]
         ]
        }
       ],
       "layout": {
        "font": {
         "color": "#FFF"
        },
        "height": 300,
        "paper_bgcolor": "#000",
        "plot_bgcolor": "#000",
        "title": "1 Blobs:Confidence after 102400 Iters",
        "titlefont": {
         "color": "#FFF"
        },
        "width": 300,
        "xaxis": {
         "dtick": 1,
         "range": [
          -0.5,
          5.5
         ],
         "tickcolor": "#FFF",
         "title": "Glimpses"
        },
        "yaxis": {
         "dtick": 1,
         "range": [
          -0.5,
          5.5
         ],
         "tickcolor": "#FFF",
         "title": "Count Word"
        }
       }
      },
      "text/html": [
       "<div id=\"61a74979-9db5-4d08-a95c-e83b85d3fa63\" style=\"height: 300px; width: 300px;\" class=\"plotly-graph-div\"></div><script type=\"text/javascript\">require([\"plotly\"], function(Plotly) { window.PLOTLYENV=window.PLOTLYENV || {};window.PLOTLYENV.BASE_URL=\"https://plot.ly\";Plotly.newPlot(\"61a74979-9db5-4d08-a95c-e83b85d3fa63\", [{\"colorscale\": \"Jet\", \"z\": [[7.501807717106853e-07, 0.5081768935564855, 0.8586651109652375, 0.9680064075373084, 0.8264841249882285, 0.9935400198288918], [0.9999935237199947, 0.04378939422200266, 6.454165914434323e-08, 1.3199303853414821e-05, 0.00027182957531356666, 0.00021028693008396567], [4.941568976328285e-06, 0.44765186048202055, 0.00013807717923683307, 9.807495551358747e-07, 1.426976780810965e-05, 0.000196330372695114], [3.313690082956766e-09, 0.0003679343431798727, 0.14107479496398131, 0.000263336542683752, 7.759729312302419e-06, 3.884374102697169e-05], [2.8840157627292504e-09, 6.310302305618908e-07, 0.0001201141223131374, 0.029840170216623076, 0.00036107228263104784, 7.788312797381433e-05], [2.477711848763114e-07, 1.2762718749198494e-05, 1.3096929473855176e-06, 0.0018753266777197456, 0.1728603812736971, 0.005936064066003047]], \"type\": \"heatmap\"}], {\"plot_bgcolor\": \"#000\", \"paper_bgcolor\": \"#000\", \"width\": 300, \"title\": \"1 Blobs:Confidence after 102400 Iters\", \"yaxis\": {\"title\": \"Count Word\", \"tickcolor\": \"#FFF\", \"range\": [-0.5, 5.5], \"dtick\": 1}, \"height\": 300, \"titlefont\": {\"color\": \"#FFF\"}, \"xaxis\": {\"title\": \"Glimpses\", \"tickcolor\": \"#FFF\", \"range\": [-0.5, 5.5], \"dtick\": 1}, \"font\": {\"color\": \"#FFF\"}}, {\"linkText\": \"Export to plot.ly\", \"showLink\": true})});</script>"
      ],
      "text/vnd.plotly.v1+html": [
       "<div id=\"61a74979-9db5-4d08-a95c-e83b85d3fa63\" style=\"height: 300px; width: 300px;\" class=\"plotly-graph-div\"></div><script type=\"text/javascript\">require([\"plotly\"], function(Plotly) { window.PLOTLYENV=window.PLOTLYENV || {};window.PLOTLYENV.BASE_URL=\"https://plot.ly\";Plotly.newPlot(\"61a74979-9db5-4d08-a95c-e83b85d3fa63\", [{\"colorscale\": \"Jet\", \"z\": [[7.501807717106853e-07, 0.5081768935564855, 0.8586651109652375, 0.9680064075373084, 0.8264841249882285, 0.9935400198288918], [0.9999935237199947, 0.04378939422200266, 6.454165914434323e-08, 1.3199303853414821e-05, 0.00027182957531356666, 0.00021028693008396567], [4.941568976328285e-06, 0.44765186048202055, 0.00013807717923683307, 9.807495551358747e-07, 1.426976780810965e-05, 0.000196330372695114], [3.313690082956766e-09, 0.0003679343431798727, 0.14107479496398131, 0.000263336542683752, 7.759729312302419e-06, 3.884374102697169e-05], [2.8840157627292504e-09, 6.310302305618908e-07, 0.0001201141223131374, 0.029840170216623076, 0.00036107228263104784, 7.788312797381433e-05], [2.477711848763114e-07, 1.2762718749198494e-05, 1.3096929473855176e-06, 0.0018753266777197456, 0.1728603812736971, 0.005936064066003047]], \"type\": \"heatmap\"}], {\"plot_bgcolor\": \"#000\", \"paper_bgcolor\": \"#000\", \"width\": 300, \"title\": \"1 Blobs:Confidence after 102400 Iters\", \"yaxis\": {\"title\": \"Count Word\", \"tickcolor\": \"#FFF\", \"range\": [-0.5, 5.5], \"dtick\": 1}, \"height\": 300, \"titlefont\": {\"color\": \"#FFF\"}, \"xaxis\": {\"title\": \"Glimpses\", \"tickcolor\": \"#FFF\", \"range\": [-0.5, 5.5], \"dtick\": 1}, \"font\": {\"color\": \"#FFF\"}}, {\"linkText\": \"Export to plot.ly\", \"showLink\": true})});</script>"
      ]
     },
     "metadata": {},
     "output_type": "display_data"
    },
    {
     "data": {
      "application/vnd.plotly.v1+json": {
       "data": [
        {
         "colorscale": "Jet",
         "type": "heatmap",
         "z": [
          [
           1.726514378760707e-05,
           0.5436237436914587,
           0.6653525807008652,
           0.9517997289465613,
           0.9852670534884891,
           0.996456101696596
          ],
          [
           0.9999709355228835,
           0.00012641265696273734,
           1.648231286832561e-09,
           3.414001364137525e-07,
           2.8444568842828734e-05,
           1.2394194970205195e-05
          ],
          [
           9.039723231617858e-06,
           0.4559544466063435,
           0.00013086830294882734,
           2.42934586646427e-07,
           1.2253260681020713e-06,
           5.710522291915313e-06
          ],
          [
           2.8804033081211274e-08,
           0.00029082371779317755,
           0.33440116521781066,
           0.00021482020808221978,
           4.58387487553149e-06,
           4.207353202342021e-06
          ],
          [
           1.3107899431559522e-07,
           2.7555933568978007e-06,
           0.00011452410280624507,
           0.047822420865113326,
           0.0031161245115021254,
           0.0001606678693435813
          ],
          [
           2.229128780997602e-06,
           1.4565109724979623e-06,
           5.194368819404989e-07,
           0.00016208766053303964,
           0.011582170596290731,
           0.003360560102759435
          ]
         ]
        }
       ],
       "layout": {
        "font": {
         "color": "#FFF"
        },
        "height": 300,
        "paper_bgcolor": "#000",
        "plot_bgcolor": "#000",
        "title": "1 Blobs:Confidence after 153600 Iters",
        "titlefont": {
         "color": "#FFF"
        },
        "width": 300,
        "xaxis": {
         "dtick": 1,
         "range": [
          -0.5,
          5.5
         ],
         "tickcolor": "#FFF",
         "title": "Glimpses"
        },
        "yaxis": {
         "dtick": 1,
         "range": [
          -0.5,
          5.5
         ],
         "tickcolor": "#FFF",
         "title": "Count Word"
        }
       }
      },
      "text/html": [
       "<div id=\"06ba92c8-2bea-4e5f-8fe6-aa68411e1328\" style=\"height: 300px; width: 300px;\" class=\"plotly-graph-div\"></div><script type=\"text/javascript\">require([\"plotly\"], function(Plotly) { window.PLOTLYENV=window.PLOTLYENV || {};window.PLOTLYENV.BASE_URL=\"https://plot.ly\";Plotly.newPlot(\"06ba92c8-2bea-4e5f-8fe6-aa68411e1328\", [{\"colorscale\": \"Jet\", \"z\": [[1.726514378760707e-05, 0.5436237436914587, 0.6653525807008652, 0.9517997289465613, 0.9852670534884891, 0.996456101696596], [0.9999709355228835, 0.00012641265696273734, 1.648231286832561e-09, 3.414001364137525e-07, 2.8444568842828734e-05, 1.2394194970205195e-05], [9.039723231617858e-06, 0.4559544466063435, 0.00013086830294882734, 2.42934586646427e-07, 1.2253260681020713e-06, 5.710522291915313e-06], [2.8804033081211274e-08, 0.00029082371779317755, 0.33440116521781066, 0.00021482020808221978, 4.58387487553149e-06, 4.207353202342021e-06], [1.3107899431559522e-07, 2.7555933568978007e-06, 0.00011452410280624507, 0.047822420865113326, 0.0031161245115021254, 0.0001606678693435813], [2.229128780997602e-06, 1.4565109724979623e-06, 5.194368819404989e-07, 0.00016208766053303964, 0.011582170596290731, 0.003360560102759435]], \"type\": \"heatmap\"}], {\"plot_bgcolor\": \"#000\", \"paper_bgcolor\": \"#000\", \"width\": 300, \"title\": \"1 Blobs:Confidence after 153600 Iters\", \"yaxis\": {\"title\": \"Count Word\", \"tickcolor\": \"#FFF\", \"range\": [-0.5, 5.5], \"dtick\": 1}, \"height\": 300, \"titlefont\": {\"color\": \"#FFF\"}, \"xaxis\": {\"title\": \"Glimpses\", \"tickcolor\": \"#FFF\", \"range\": [-0.5, 5.5], \"dtick\": 1}, \"font\": {\"color\": \"#FFF\"}}, {\"linkText\": \"Export to plot.ly\", \"showLink\": true})});</script>"
      ],
      "text/vnd.plotly.v1+html": [
       "<div id=\"06ba92c8-2bea-4e5f-8fe6-aa68411e1328\" style=\"height: 300px; width: 300px;\" class=\"plotly-graph-div\"></div><script type=\"text/javascript\">require([\"plotly\"], function(Plotly) { window.PLOTLYENV=window.PLOTLYENV || {};window.PLOTLYENV.BASE_URL=\"https://plot.ly\";Plotly.newPlot(\"06ba92c8-2bea-4e5f-8fe6-aa68411e1328\", [{\"colorscale\": \"Jet\", \"z\": [[1.726514378760707e-05, 0.5436237436914587, 0.6653525807008652, 0.9517997289465613, 0.9852670534884891, 0.996456101696596], [0.9999709355228835, 0.00012641265696273734, 1.648231286832561e-09, 3.414001364137525e-07, 2.8444568842828734e-05, 1.2394194970205195e-05], [9.039723231617858e-06, 0.4559544466063435, 0.00013086830294882734, 2.42934586646427e-07, 1.2253260681020713e-06, 5.710522291915313e-06], [2.8804033081211274e-08, 0.00029082371779317755, 0.33440116521781066, 0.00021482020808221978, 4.58387487553149e-06, 4.207353202342021e-06], [1.3107899431559522e-07, 2.7555933568978007e-06, 0.00011452410280624507, 0.047822420865113326, 0.0031161245115021254, 0.0001606678693435813], [2.229128780997602e-06, 1.4565109724979623e-06, 5.194368819404989e-07, 0.00016208766053303964, 0.011582170596290731, 0.003360560102759435]], \"type\": \"heatmap\"}], {\"plot_bgcolor\": \"#000\", \"paper_bgcolor\": \"#000\", \"width\": 300, \"title\": \"1 Blobs:Confidence after 153600 Iters\", \"yaxis\": {\"title\": \"Count Word\", \"tickcolor\": \"#FFF\", \"range\": [-0.5, 5.5], \"dtick\": 1}, \"height\": 300, \"titlefont\": {\"color\": \"#FFF\"}, \"xaxis\": {\"title\": \"Glimpses\", \"tickcolor\": \"#FFF\", \"range\": [-0.5, 5.5], \"dtick\": 1}, \"font\": {\"color\": \"#FFF\"}}, {\"linkText\": \"Export to plot.ly\", \"showLink\": true})});</script>"
      ]
     },
     "metadata": {},
     "output_type": "display_data"
    },
    {
     "data": {
      "application/vnd.plotly.v1+json": {
       "data": [
        {
         "colorscale": "Jet",
         "type": "heatmap",
         "z": [
          [
           1.4736681285904016e-06,
           0.23693706631844103,
           0.3768616696698391,
           0.9484971231172677,
           0.971834235167753,
           0.9975003307258905
          ],
          [
           0.999989650633673,
           6.193973848231124e-05,
           1.4415215690029537e-09,
           2.4310261844921344e-06,
           0.00017361180899826825,
           5.312788224482078e-06
          ],
          [
           7.428651253605986e-06,
           0.7628524088511479,
           0.00045674177015885524,
           5.949719619574244e-07,
           3.885131713614371e-06,
           4.852282691315935e-05
          ],
          [
           5.128412177789176e-09,
           0.00014527948248783894,
           0.6226522486545906,
           0.00041645633379759845,
           1.433126097607725e-06,
           3.3816039239660554e-06
          ],
          [
           1.1791644624323524e-08,
           3.7056221905335017e-07,
           2.856816209285042e-05,
           0.05089066295751246,
           0.00022865881038876078,
           2.4853810935635e-06
          ],
          [
           8.616836873341284e-07,
           2.363747425117609e-06,
           1.8640792894797634e-07,
           0.00019215032803725029,
           0.027757610712360617,
           0.002439409949489985
          ]
         ]
        }
       ],
       "layout": {
        "font": {
         "color": "#FFF"
        },
        "height": 300,
        "paper_bgcolor": "#000",
        "plot_bgcolor": "#000",
        "title": "1 Blobs:Confidence after 204800 Iters",
        "titlefont": {
         "color": "#FFF"
        },
        "width": 300,
        "xaxis": {
         "dtick": 1,
         "range": [
          -0.5,
          5.5
         ],
         "tickcolor": "#FFF",
         "title": "Glimpses"
        },
        "yaxis": {
         "dtick": 1,
         "range": [
          -0.5,
          5.5
         ],
         "tickcolor": "#FFF",
         "title": "Count Word"
        }
       }
      },
      "text/html": [
       "<div id=\"469f0b51-519e-49c7-bb81-82dffb811d76\" style=\"height: 300px; width: 300px;\" class=\"plotly-graph-div\"></div><script type=\"text/javascript\">require([\"plotly\"], function(Plotly) { window.PLOTLYENV=window.PLOTLYENV || {};window.PLOTLYENV.BASE_URL=\"https://plot.ly\";Plotly.newPlot(\"469f0b51-519e-49c7-bb81-82dffb811d76\", [{\"colorscale\": \"Jet\", \"z\": [[1.4736681285904016e-06, 0.23693706631844103, 0.3768616696698391, 0.9484971231172677, 0.971834235167753, 0.9975003307258905], [0.999989650633673, 6.193973848231124e-05, 1.4415215690029537e-09, 2.4310261844921344e-06, 0.00017361180899826825, 5.312788224482078e-06], [7.428651253605986e-06, 0.7628524088511479, 0.00045674177015885524, 5.949719619574244e-07, 3.885131713614371e-06, 4.852282691315935e-05], [5.128412177789176e-09, 0.00014527948248783894, 0.6226522486545906, 0.00041645633379759845, 1.433126097607725e-06, 3.3816039239660554e-06], [1.1791644624323524e-08, 3.7056221905335017e-07, 2.856816209285042e-05, 0.05089066295751246, 0.00022865881038876078, 2.4853810935635e-06], [8.616836873341284e-07, 2.363747425117609e-06, 1.8640792894797634e-07, 0.00019215032803725029, 0.027757610712360617, 0.002439409949489985]], \"type\": \"heatmap\"}], {\"plot_bgcolor\": \"#000\", \"paper_bgcolor\": \"#000\", \"width\": 300, \"title\": \"1 Blobs:Confidence after 204800 Iters\", \"yaxis\": {\"title\": \"Count Word\", \"tickcolor\": \"#FFF\", \"range\": [-0.5, 5.5], \"dtick\": 1}, \"height\": 300, \"titlefont\": {\"color\": \"#FFF\"}, \"xaxis\": {\"title\": \"Glimpses\", \"tickcolor\": \"#FFF\", \"range\": [-0.5, 5.5], \"dtick\": 1}, \"font\": {\"color\": \"#FFF\"}}, {\"linkText\": \"Export to plot.ly\", \"showLink\": true})});</script>"
      ],
      "text/vnd.plotly.v1+html": [
       "<div id=\"469f0b51-519e-49c7-bb81-82dffb811d76\" style=\"height: 300px; width: 300px;\" class=\"plotly-graph-div\"></div><script type=\"text/javascript\">require([\"plotly\"], function(Plotly) { window.PLOTLYENV=window.PLOTLYENV || {};window.PLOTLYENV.BASE_URL=\"https://plot.ly\";Plotly.newPlot(\"469f0b51-519e-49c7-bb81-82dffb811d76\", [{\"colorscale\": \"Jet\", \"z\": [[1.4736681285904016e-06, 0.23693706631844103, 0.3768616696698391, 0.9484971231172677, 0.971834235167753, 0.9975003307258905], [0.999989650633673, 6.193973848231124e-05, 1.4415215690029537e-09, 2.4310261844921344e-06, 0.00017361180899826825, 5.312788224482078e-06], [7.428651253605986e-06, 0.7628524088511479, 0.00045674177015885524, 5.949719619574244e-07, 3.885131713614371e-06, 4.852282691315935e-05], [5.128412177789176e-09, 0.00014527948248783894, 0.6226522486545906, 0.00041645633379759845, 1.433126097607725e-06, 3.3816039239660554e-06], [1.1791644624323524e-08, 3.7056221905335017e-07, 2.856816209285042e-05, 0.05089066295751246, 0.00022865881038876078, 2.4853810935635e-06], [8.616836873341284e-07, 2.363747425117609e-06, 1.8640792894797634e-07, 0.00019215032803725029, 0.027757610712360617, 0.002439409949489985]], \"type\": \"heatmap\"}], {\"plot_bgcolor\": \"#000\", \"paper_bgcolor\": \"#000\", \"width\": 300, \"title\": \"1 Blobs:Confidence after 204800 Iters\", \"yaxis\": {\"title\": \"Count Word\", \"tickcolor\": \"#FFF\", \"range\": [-0.5, 5.5], \"dtick\": 1}, \"height\": 300, \"titlefont\": {\"color\": \"#FFF\"}, \"xaxis\": {\"title\": \"Glimpses\", \"tickcolor\": \"#FFF\", \"range\": [-0.5, 5.5], \"dtick\": 1}, \"font\": {\"color\": \"#FFF\"}}, {\"linkText\": \"Export to plot.ly\", \"showLink\": true})});</script>"
      ]
     },
     "metadata": {},
     "output_type": "display_data"
    },
    {
     "data": {
      "application/vnd.plotly.v1+json": {
       "data": [
        {
         "colorscale": "Jet",
         "type": "heatmap",
         "z": [
          [
           2.2594662418690027e-09,
           0.03155265944260681,
           0.5899899050282004,
           0.900368907673091,
           0.9413734150765531,
           0.9985830624859567
          ],
          [
           0.9999980233282609,
           3.628620660967728e-05,
           1.1977941929961122e-09,
           8.227369464299798e-06,
           0.000846887283106504,
           1.888726479624665e-06
          ],
          [
           1.3293827211585964e-06,
           0.9681786564047742,
           0.00025813796025180805,
           7.962426056067598e-07,
           1.501415052497787e-05,
           3.821356392362712e-05
          ],
          [
           7.905489009329661e-10,
           0.00023113586397567975,
           0.40970424168711433,
           0.00012092552319485182,
           7.042598255021204e-07,
           1.1915689250003903e-06
          ],
          [
           3.473479058302429e-10,
           2.822783126704693e-09,
           4.7013344212717545e-05,
           0.09859767048431092,
           0.0006769183507621016,
           6.857416865789577e-06
          ],
          [
           5.3972489866861594e-08,
           6.795877855698818e-07,
           1.3428505555025902e-07,
           0.0009028620548487425,
           0.05708646952550973,
           0.001368198977588859
          ]
         ]
        }
       ],
       "layout": {
        "font": {
         "color": "#FFF"
        },
        "height": 300,
        "paper_bgcolor": "#000",
        "plot_bgcolor": "#000",
        "title": "1 Blobs:Confidence after 307200 Iters",
        "titlefont": {
         "color": "#FFF"
        },
        "width": 300,
        "xaxis": {
         "dtick": 1,
         "range": [
          -0.5,
          5.5
         ],
         "tickcolor": "#FFF",
         "title": "Glimpses"
        },
        "yaxis": {
         "dtick": 1,
         "range": [
          -0.5,
          5.5
         ],
         "tickcolor": "#FFF",
         "title": "Count Word"
        }
       }
      },
      "text/html": [
       "<div id=\"71c019c8-f31c-4514-a652-4e97730d3623\" style=\"height: 300px; width: 300px;\" class=\"plotly-graph-div\"></div><script type=\"text/javascript\">require([\"plotly\"], function(Plotly) { window.PLOTLYENV=window.PLOTLYENV || {};window.PLOTLYENV.BASE_URL=\"https://plot.ly\";Plotly.newPlot(\"71c019c8-f31c-4514-a652-4e97730d3623\", [{\"colorscale\": \"Jet\", \"z\": [[2.2594662418690027e-09, 0.03155265944260681, 0.5899899050282004, 0.900368907673091, 0.9413734150765531, 0.9985830624859567], [0.9999980233282609, 3.628620660967728e-05, 1.1977941929961122e-09, 8.227369464299798e-06, 0.000846887283106504, 1.888726479624665e-06], [1.3293827211585964e-06, 0.9681786564047742, 0.00025813796025180805, 7.962426056067598e-07, 1.501415052497787e-05, 3.821356392362712e-05], [7.905489009329661e-10, 0.00023113586397567975, 0.40970424168711433, 0.00012092552319485182, 7.042598255021204e-07, 1.1915689250003903e-06], [3.473479058302429e-10, 2.822783126704693e-09, 4.7013344212717545e-05, 0.09859767048431092, 0.0006769183507621016, 6.857416865789577e-06], [5.3972489866861594e-08, 6.795877855698818e-07, 1.3428505555025902e-07, 0.0009028620548487425, 0.05708646952550973, 0.001368198977588859]], \"type\": \"heatmap\"}], {\"plot_bgcolor\": \"#000\", \"paper_bgcolor\": \"#000\", \"width\": 300, \"title\": \"1 Blobs:Confidence after 307200 Iters\", \"yaxis\": {\"title\": \"Count Word\", \"tickcolor\": \"#FFF\", \"range\": [-0.5, 5.5], \"dtick\": 1}, \"height\": 300, \"titlefont\": {\"color\": \"#FFF\"}, \"xaxis\": {\"title\": \"Glimpses\", \"tickcolor\": \"#FFF\", \"range\": [-0.5, 5.5], \"dtick\": 1}, \"font\": {\"color\": \"#FFF\"}}, {\"linkText\": \"Export to plot.ly\", \"showLink\": true})});</script>"
      ],
      "text/vnd.plotly.v1+html": [
       "<div id=\"71c019c8-f31c-4514-a652-4e97730d3623\" style=\"height: 300px; width: 300px;\" class=\"plotly-graph-div\"></div><script type=\"text/javascript\">require([\"plotly\"], function(Plotly) { window.PLOTLYENV=window.PLOTLYENV || {};window.PLOTLYENV.BASE_URL=\"https://plot.ly\";Plotly.newPlot(\"71c019c8-f31c-4514-a652-4e97730d3623\", [{\"colorscale\": \"Jet\", \"z\": [[2.2594662418690027e-09, 0.03155265944260681, 0.5899899050282004, 0.900368907673091, 0.9413734150765531, 0.9985830624859567], [0.9999980233282609, 3.628620660967728e-05, 1.1977941929961122e-09, 8.227369464299798e-06, 0.000846887283106504, 1.888726479624665e-06], [1.3293827211585964e-06, 0.9681786564047742, 0.00025813796025180805, 7.962426056067598e-07, 1.501415052497787e-05, 3.821356392362712e-05], [7.905489009329661e-10, 0.00023113586397567975, 0.40970424168711433, 0.00012092552319485182, 7.042598255021204e-07, 1.1915689250003903e-06], [3.473479058302429e-10, 2.822783126704693e-09, 4.7013344212717545e-05, 0.09859767048431092, 0.0006769183507621016, 6.857416865789577e-06], [5.3972489866861594e-08, 6.795877855698818e-07, 1.3428505555025902e-07, 0.0009028620548487425, 0.05708646952550973, 0.001368198977588859]], \"type\": \"heatmap\"}], {\"plot_bgcolor\": \"#000\", \"paper_bgcolor\": \"#000\", \"width\": 300, \"title\": \"1 Blobs:Confidence after 307200 Iters\", \"yaxis\": {\"title\": \"Count Word\", \"tickcolor\": \"#FFF\", \"range\": [-0.5, 5.5], \"dtick\": 1}, \"height\": 300, \"titlefont\": {\"color\": \"#FFF\"}, \"xaxis\": {\"title\": \"Glimpses\", \"tickcolor\": \"#FFF\", \"range\": [-0.5, 5.5], \"dtick\": 1}, \"font\": {\"color\": \"#FFF\"}}, {\"linkText\": \"Export to plot.ly\", \"showLink\": true})});</script>"
      ]
     },
     "metadata": {},
     "output_type": "display_data"
    },
    {
     "data": {
      "application/vnd.plotly.v1+json": {
       "data": [
        {
         "colorscale": "Jet",
         "type": "heatmap",
         "z": [
          [
           0.1662378640356304,
           0.16613032755474885,
           0.16624579947403562,
           0.1664930193862239,
           0.1667993659370452,
           0.16710462584976044
          ],
          [
           0.1673336508780075,
           0.16764620490632168,
           0.16776170433543394,
           0.16781486478066823,
           0.16787445851321287,
           0.16798174683254383
          ],
          [
           0.16693426552432705,
           0.16717341416834688,
           0.16733678184001874,
           0.16744652885000103,
           0.167512307135184,
           0.16756215551205605
          ],
          [
           0.1685961094367196,
           0.1696538272656178,
           0.17018505288473937,
           0.17035087466209164,
           0.17029187640264418,
           0.1701013588257194
          ],
          [
           0.1650645040704003,
           0.16400519984156667,
           0.1632669404340541,
           0.1627697811488056,
           0.16244939427081034,
           0.16226437350088718
          ],
          [
           0.16583322717089213,
           0.16539064107504006,
           0.16520333870896703,
           0.16512456031188563,
           0.16507221197962405,
           0.16498535429067507
          ]
         ]
        }
       ],
       "layout": {
        "font": {
         "color": "#FFF"
        },
        "height": 300,
        "paper_bgcolor": "#000",
        "plot_bgcolor": "#000",
        "title": "2 Blobs:Confidence after 0 Iters",
        "titlefont": {
         "color": "#FFF"
        },
        "width": 300,
        "xaxis": {
         "dtick": 1,
         "range": [
          -0.5,
          5.5
         ],
         "tickcolor": "#FFF",
         "title": "Glimpses"
        },
        "yaxis": {
         "dtick": 1,
         "range": [
          -0.5,
          5.5
         ],
         "tickcolor": "#FFF",
         "title": "Count Word"
        }
       }
      },
      "text/html": [
       "<div id=\"3735ad1d-2d1c-4b4d-8761-6dc0ed447e02\" style=\"height: 300px; width: 300px;\" class=\"plotly-graph-div\"></div><script type=\"text/javascript\">require([\"plotly\"], function(Plotly) { window.PLOTLYENV=window.PLOTLYENV || {};window.PLOTLYENV.BASE_URL=\"https://plot.ly\";Plotly.newPlot(\"3735ad1d-2d1c-4b4d-8761-6dc0ed447e02\", [{\"colorscale\": \"Jet\", \"z\": [[0.1662378640356304, 0.16613032755474885, 0.16624579947403562, 0.1664930193862239, 0.1667993659370452, 0.16710462584976044], [0.1673336508780075, 0.16764620490632168, 0.16776170433543394, 0.16781486478066823, 0.16787445851321287, 0.16798174683254383], [0.16693426552432705, 0.16717341416834688, 0.16733678184001874, 0.16744652885000103, 0.167512307135184, 0.16756215551205605], [0.1685961094367196, 0.1696538272656178, 0.17018505288473937, 0.17035087466209164, 0.17029187640264418, 0.1701013588257194], [0.1650645040704003, 0.16400519984156667, 0.1632669404340541, 0.1627697811488056, 0.16244939427081034, 0.16226437350088718], [0.16583322717089213, 0.16539064107504006, 0.16520333870896703, 0.16512456031188563, 0.16507221197962405, 0.16498535429067507]], \"type\": \"heatmap\"}], {\"plot_bgcolor\": \"#000\", \"paper_bgcolor\": \"#000\", \"width\": 300, \"title\": \"2 Blobs:Confidence after 0 Iters\", \"yaxis\": {\"title\": \"Count Word\", \"tickcolor\": \"#FFF\", \"range\": [-0.5, 5.5], \"dtick\": 1}, \"height\": 300, \"titlefont\": {\"color\": \"#FFF\"}, \"xaxis\": {\"title\": \"Glimpses\", \"tickcolor\": \"#FFF\", \"range\": [-0.5, 5.5], \"dtick\": 1}, \"font\": {\"color\": \"#FFF\"}}, {\"linkText\": \"Export to plot.ly\", \"showLink\": true})});</script>"
      ],
      "text/vnd.plotly.v1+html": [
       "<div id=\"3735ad1d-2d1c-4b4d-8761-6dc0ed447e02\" style=\"height: 300px; width: 300px;\" class=\"plotly-graph-div\"></div><script type=\"text/javascript\">require([\"plotly\"], function(Plotly) { window.PLOTLYENV=window.PLOTLYENV || {};window.PLOTLYENV.BASE_URL=\"https://plot.ly\";Plotly.newPlot(\"3735ad1d-2d1c-4b4d-8761-6dc0ed447e02\", [{\"colorscale\": \"Jet\", \"z\": [[0.1662378640356304, 0.16613032755474885, 0.16624579947403562, 0.1664930193862239, 0.1667993659370452, 0.16710462584976044], [0.1673336508780075, 0.16764620490632168, 0.16776170433543394, 0.16781486478066823, 0.16787445851321287, 0.16798174683254383], [0.16693426552432705, 0.16717341416834688, 0.16733678184001874, 0.16744652885000103, 0.167512307135184, 0.16756215551205605], [0.1685961094367196, 0.1696538272656178, 0.17018505288473937, 0.17035087466209164, 0.17029187640264418, 0.1701013588257194], [0.1650645040704003, 0.16400519984156667, 0.1632669404340541, 0.1627697811488056, 0.16244939427081034, 0.16226437350088718], [0.16583322717089213, 0.16539064107504006, 0.16520333870896703, 0.16512456031188563, 0.16507221197962405, 0.16498535429067507]], \"type\": \"heatmap\"}], {\"plot_bgcolor\": \"#000\", \"paper_bgcolor\": \"#000\", \"width\": 300, \"title\": \"2 Blobs:Confidence after 0 Iters\", \"yaxis\": {\"title\": \"Count Word\", \"tickcolor\": \"#FFF\", \"range\": [-0.5, 5.5], \"dtick\": 1}, \"height\": 300, \"titlefont\": {\"color\": \"#FFF\"}, \"xaxis\": {\"title\": \"Glimpses\", \"tickcolor\": \"#FFF\", \"range\": [-0.5, 5.5], \"dtick\": 1}, \"font\": {\"color\": \"#FFF\"}}, {\"linkText\": \"Export to plot.ly\", \"showLink\": true})});</script>"
      ]
     },
     "metadata": {},
     "output_type": "display_data"
    },
    {
     "data": {
      "application/vnd.plotly.v1+json": {
       "data": [
        {
         "colorscale": "Jet",
         "type": "heatmap",
         "z": [
          [
           0.1754096890125799,
           0.17688250191223798,
           0.1779471357030412,
           0.17873505804906262,
           0.17931927417283666,
           0.17974266661460572
          ],
          [
           0.18573929321204896,
           0.18657634466196196,
           0.18700770922098364,
           0.18726413274494397,
           0.18746088832402782,
           0.1876599394258458
          ],
          [
           0.16331962451193877,
           0.16299146683385834,
           0.16274926944137671,
           0.16255519532490897,
           0.16239411012765578,
           0.16226378612713252
          ],
          [
           0.15965886999275242,
           0.15932961186446806,
           0.15919567954956584,
           0.1590999537928614,
           0.15899088405297984,
           0.15887125610061348
          ],
          [
           0.15818176556081628,
           0.157384723708704,
           0.15681016651278631,
           0.15638747069995476,
           0.1560693489489204,
           0.15581695544198995
          ],
          [
           0.1576902510045945,
           0.15683483760798136,
           0.1562895328669771,
           0.15595769981932592,
           0.15576499809911792,
           0.1556449111912163
          ]
         ]
        }
       ],
       "layout": {
        "font": {
         "color": "#FFF"
        },
        "height": 300,
        "paper_bgcolor": "#000",
        "plot_bgcolor": "#000",
        "title": "2 Blobs:Confidence after 100 Iters",
        "titlefont": {
         "color": "#FFF"
        },
        "width": 300,
        "xaxis": {
         "dtick": 1,
         "range": [
          -0.5,
          5.5
         ],
         "tickcolor": "#FFF",
         "title": "Glimpses"
        },
        "yaxis": {
         "dtick": 1,
         "range": [
          -0.5,
          5.5
         ],
         "tickcolor": "#FFF",
         "title": "Count Word"
        }
       }
      },
      "text/html": [
       "<div id=\"e0d7609d-4766-40e3-8763-de9c7e95cbfa\" style=\"height: 300px; width: 300px;\" class=\"plotly-graph-div\"></div><script type=\"text/javascript\">require([\"plotly\"], function(Plotly) { window.PLOTLYENV=window.PLOTLYENV || {};window.PLOTLYENV.BASE_URL=\"https://plot.ly\";Plotly.newPlot(\"e0d7609d-4766-40e3-8763-de9c7e95cbfa\", [{\"colorscale\": \"Jet\", \"z\": [[0.1754096890125799, 0.17688250191223798, 0.1779471357030412, 0.17873505804906262, 0.17931927417283666, 0.17974266661460572], [0.18573929321204896, 0.18657634466196196, 0.18700770922098364, 0.18726413274494397, 0.18746088832402782, 0.1876599394258458], [0.16331962451193877, 0.16299146683385834, 0.16274926944137671, 0.16255519532490897, 0.16239411012765578, 0.16226378612713252], [0.15965886999275242, 0.15932961186446806, 0.15919567954956584, 0.1590999537928614, 0.15899088405297984, 0.15887125610061348], [0.15818176556081628, 0.157384723708704, 0.15681016651278631, 0.15638747069995476, 0.1560693489489204, 0.15581695544198995], [0.1576902510045945, 0.15683483760798136, 0.1562895328669771, 0.15595769981932592, 0.15576499809911792, 0.1556449111912163]], \"type\": \"heatmap\"}], {\"plot_bgcolor\": \"#000\", \"paper_bgcolor\": \"#000\", \"width\": 300, \"title\": \"2 Blobs:Confidence after 100 Iters\", \"yaxis\": {\"title\": \"Count Word\", \"tickcolor\": \"#FFF\", \"range\": [-0.5, 5.5], \"dtick\": 1}, \"height\": 300, \"titlefont\": {\"color\": \"#FFF\"}, \"xaxis\": {\"title\": \"Glimpses\", \"tickcolor\": \"#FFF\", \"range\": [-0.5, 5.5], \"dtick\": 1}, \"font\": {\"color\": \"#FFF\"}}, {\"linkText\": \"Export to plot.ly\", \"showLink\": true})});</script>"
      ],
      "text/vnd.plotly.v1+html": [
       "<div id=\"e0d7609d-4766-40e3-8763-de9c7e95cbfa\" style=\"height: 300px; width: 300px;\" class=\"plotly-graph-div\"></div><script type=\"text/javascript\">require([\"plotly\"], function(Plotly) { window.PLOTLYENV=window.PLOTLYENV || {};window.PLOTLYENV.BASE_URL=\"https://plot.ly\";Plotly.newPlot(\"e0d7609d-4766-40e3-8763-de9c7e95cbfa\", [{\"colorscale\": \"Jet\", \"z\": [[0.1754096890125799, 0.17688250191223798, 0.1779471357030412, 0.17873505804906262, 0.17931927417283666, 0.17974266661460572], [0.18573929321204896, 0.18657634466196196, 0.18700770922098364, 0.18726413274494397, 0.18746088832402782, 0.1876599394258458], [0.16331962451193877, 0.16299146683385834, 0.16274926944137671, 0.16255519532490897, 0.16239411012765578, 0.16226378612713252], [0.15965886999275242, 0.15932961186446806, 0.15919567954956584, 0.1590999537928614, 0.15899088405297984, 0.15887125610061348], [0.15818176556081628, 0.157384723708704, 0.15681016651278631, 0.15638747069995476, 0.1560693489489204, 0.15581695544198995], [0.1576902510045945, 0.15683483760798136, 0.1562895328669771, 0.15595769981932592, 0.15576499809911792, 0.1556449111912163]], \"type\": \"heatmap\"}], {\"plot_bgcolor\": \"#000\", \"paper_bgcolor\": \"#000\", \"width\": 300, \"title\": \"2 Blobs:Confidence after 100 Iters\", \"yaxis\": {\"title\": \"Count Word\", \"tickcolor\": \"#FFF\", \"range\": [-0.5, 5.5], \"dtick\": 1}, \"height\": 300, \"titlefont\": {\"color\": \"#FFF\"}, \"xaxis\": {\"title\": \"Glimpses\", \"tickcolor\": \"#FFF\", \"range\": [-0.5, 5.5], \"dtick\": 1}, \"font\": {\"color\": \"#FFF\"}}, {\"linkText\": \"Export to plot.ly\", \"showLink\": true})});</script>"
      ]
     },
     "metadata": {},
     "output_type": "display_data"
    },
    {
     "data": {
      "application/vnd.plotly.v1+json": {
       "data": [
        {
         "colorscale": "Jet",
         "type": "heatmap",
         "z": [
          [
           0.18568083115690437,
           0.18713121049492457,
           0.1880876453754052,
           0.18871413899853265,
           0.18912164876393395,
           0.1893645707455825
          ],
          [
           0.21732989429553748,
           0.2200761475349819,
           0.22237252704033858,
           0.22431027942886678,
           0.22595851508677856,
           0.22741498555631207
          ],
          [
           0.15575697613824183,
           0.15506212750256948,
           0.1545217361613171,
           0.1540503784080435,
           0.153590993155458,
           0.15314883019323514
          ],
          [
           0.14846799392518617,
           0.14711061151639748,
           0.14624827854271308,
           0.14569968354541238,
           0.14532181445931147,
           0.14507044237952293
          ],
          [
           0.14766488385174587,
           0.14739008487209493,
           0.1472288475545472,
           0.14714127235133334,
           0.147105342240604,
           0.14706938805878664
          ],
          [
           0.14509865484093365,
           0.1432290431176427,
           0.14154017087817103,
           0.1400834734526647,
           0.138900930818644,
           0.13793102644504843
          ]
         ]
        }
       ],
       "layout": {
        "font": {
         "color": "#FFF"
        },
        "height": 300,
        "paper_bgcolor": "#000",
        "plot_bgcolor": "#000",
        "title": "2 Blobs:Confidence after 200 Iters",
        "titlefont": {
         "color": "#FFF"
        },
        "width": 300,
        "xaxis": {
         "dtick": 1,
         "range": [
          -0.5,
          5.5
         ],
         "tickcolor": "#FFF",
         "title": "Glimpses"
        },
        "yaxis": {
         "dtick": 1,
         "range": [
          -0.5,
          5.5
         ],
         "tickcolor": "#FFF",
         "title": "Count Word"
        }
       }
      },
      "text/html": [
       "<div id=\"24c0ef1e-5190-422a-90cc-ddd70ef7b55d\" style=\"height: 300px; width: 300px;\" class=\"plotly-graph-div\"></div><script type=\"text/javascript\">require([\"plotly\"], function(Plotly) { window.PLOTLYENV=window.PLOTLYENV || {};window.PLOTLYENV.BASE_URL=\"https://plot.ly\";Plotly.newPlot(\"24c0ef1e-5190-422a-90cc-ddd70ef7b55d\", [{\"colorscale\": \"Jet\", \"z\": [[0.18568083115690437, 0.18713121049492457, 0.1880876453754052, 0.18871413899853265, 0.18912164876393395, 0.1893645707455825], [0.21732989429553748, 0.2200761475349819, 0.22237252704033858, 0.22431027942886678, 0.22595851508677856, 0.22741498555631207], [0.15575697613824183, 0.15506212750256948, 0.1545217361613171, 0.1540503784080435, 0.153590993155458, 0.15314883019323514], [0.14846799392518617, 0.14711061151639748, 0.14624827854271308, 0.14569968354541238, 0.14532181445931147, 0.14507044237952293], [0.14766488385174587, 0.14739008487209493, 0.1472288475545472, 0.14714127235133334, 0.147105342240604, 0.14706938805878664], [0.14509865484093365, 0.1432290431176427, 0.14154017087817103, 0.1400834734526647, 0.138900930818644, 0.13793102644504843]], \"type\": \"heatmap\"}], {\"plot_bgcolor\": \"#000\", \"paper_bgcolor\": \"#000\", \"width\": 300, \"title\": \"2 Blobs:Confidence after 200 Iters\", \"yaxis\": {\"title\": \"Count Word\", \"tickcolor\": \"#FFF\", \"range\": [-0.5, 5.5], \"dtick\": 1}, \"height\": 300, \"titlefont\": {\"color\": \"#FFF\"}, \"xaxis\": {\"title\": \"Glimpses\", \"tickcolor\": \"#FFF\", \"range\": [-0.5, 5.5], \"dtick\": 1}, \"font\": {\"color\": \"#FFF\"}}, {\"linkText\": \"Export to plot.ly\", \"showLink\": true})});</script>"
      ],
      "text/vnd.plotly.v1+html": [
       "<div id=\"24c0ef1e-5190-422a-90cc-ddd70ef7b55d\" style=\"height: 300px; width: 300px;\" class=\"plotly-graph-div\"></div><script type=\"text/javascript\">require([\"plotly\"], function(Plotly) { window.PLOTLYENV=window.PLOTLYENV || {};window.PLOTLYENV.BASE_URL=\"https://plot.ly\";Plotly.newPlot(\"24c0ef1e-5190-422a-90cc-ddd70ef7b55d\", [{\"colorscale\": \"Jet\", \"z\": [[0.18568083115690437, 0.18713121049492457, 0.1880876453754052, 0.18871413899853265, 0.18912164876393395, 0.1893645707455825], [0.21732989429553748, 0.2200761475349819, 0.22237252704033858, 0.22431027942886678, 0.22595851508677856, 0.22741498555631207], [0.15575697613824183, 0.15506212750256948, 0.1545217361613171, 0.1540503784080435, 0.153590993155458, 0.15314883019323514], [0.14846799392518617, 0.14711061151639748, 0.14624827854271308, 0.14569968354541238, 0.14532181445931147, 0.14507044237952293], [0.14766488385174587, 0.14739008487209493, 0.1472288475545472, 0.14714127235133334, 0.147105342240604, 0.14706938805878664], [0.14509865484093365, 0.1432290431176427, 0.14154017087817103, 0.1400834734526647, 0.138900930818644, 0.13793102644504843]], \"type\": \"heatmap\"}], {\"plot_bgcolor\": \"#000\", \"paper_bgcolor\": \"#000\", \"width\": 300, \"title\": \"2 Blobs:Confidence after 200 Iters\", \"yaxis\": {\"title\": \"Count Word\", \"tickcolor\": \"#FFF\", \"range\": [-0.5, 5.5], \"dtick\": 1}, \"height\": 300, \"titlefont\": {\"color\": \"#FFF\"}, \"xaxis\": {\"title\": \"Glimpses\", \"tickcolor\": \"#FFF\", \"range\": [-0.5, 5.5], \"dtick\": 1}, \"font\": {\"color\": \"#FFF\"}}, {\"linkText\": \"Export to plot.ly\", \"showLink\": true})});</script>"
      ]
     },
     "metadata": {},
     "output_type": "display_data"
    },
    {
     "data": {
      "application/vnd.plotly.v1+json": {
       "data": [
        {
         "colorscale": "Jet",
         "type": "heatmap",
         "z": [
          [
           0.19823971686576486,
           0.2020912542217106,
           0.2047782758329066,
           0.20663731356146708,
           0.20787775248026955,
           0.20873449857273652
          ],
          [
           0.24797277485626207,
           0.2492497067042311,
           0.24985947091707436,
           0.250088927250005,
           0.2501770836764581,
           0.25025207105796216
          ],
          [
           0.14884295649122165,
           0.14705323953285304,
           0.1459343099982395,
           0.14522221716822373,
           0.14474972358948282,
           0.14437806672425244
          ],
          [
           0.13715889808787204,
           0.1356313308950392,
           0.13480888577180397,
           0.13444051461130255,
           0.13436668832781426,
           0.1343789433359013
          ],
          [
           0.13479414733718573,
           0.13378856433392425,
           0.13307445954992886,
           0.13255611183828067,
           0.13214775909014945,
           0.13183344306234956
          ],
          [
           0.13299110993813093,
           0.13218550639856355,
           0.13154420091043778,
           0.13105452123331998,
           0.1306805967102862,
           0.13042258112125837
          ]
         ]
        }
       ],
       "layout": {
        "font": {
         "color": "#FFF"
        },
        "height": 300,
        "paper_bgcolor": "#000",
        "plot_bgcolor": "#000",
        "title": "2 Blobs:Confidence after 300 Iters",
        "titlefont": {
         "color": "#FFF"
        },
        "width": 300,
        "xaxis": {
         "dtick": 1,
         "range": [
          -0.5,
          5.5
         ],
         "tickcolor": "#FFF",
         "title": "Glimpses"
        },
        "yaxis": {
         "dtick": 1,
         "range": [
          -0.5,
          5.5
         ],
         "tickcolor": "#FFF",
         "title": "Count Word"
        }
       }
      },
      "text/html": [
       "<div id=\"327caca4-aaa7-485e-acb6-371ecfe643d4\" style=\"height: 300px; width: 300px;\" class=\"plotly-graph-div\"></div><script type=\"text/javascript\">require([\"plotly\"], function(Plotly) { window.PLOTLYENV=window.PLOTLYENV || {};window.PLOTLYENV.BASE_URL=\"https://plot.ly\";Plotly.newPlot(\"327caca4-aaa7-485e-acb6-371ecfe643d4\", [{\"colorscale\": \"Jet\", \"z\": [[0.19823971686576486, 0.2020912542217106, 0.2047782758329066, 0.20663731356146708, 0.20787775248026955, 0.20873449857273652], [0.24797277485626207, 0.2492497067042311, 0.24985947091707436, 0.250088927250005, 0.2501770836764581, 0.25025207105796216], [0.14884295649122165, 0.14705323953285304, 0.1459343099982395, 0.14522221716822373, 0.14474972358948282, 0.14437806672425244], [0.13715889808787204, 0.1356313308950392, 0.13480888577180397, 0.13444051461130255, 0.13436668832781426, 0.1343789433359013], [0.13479414733718573, 0.13378856433392425, 0.13307445954992886, 0.13255611183828067, 0.13214775909014945, 0.13183344306234956], [0.13299110993813093, 0.13218550639856355, 0.13154420091043778, 0.13105452123331998, 0.1306805967102862, 0.13042258112125837]], \"type\": \"heatmap\"}], {\"plot_bgcolor\": \"#000\", \"paper_bgcolor\": \"#000\", \"width\": 300, \"title\": \"2 Blobs:Confidence after 300 Iters\", \"yaxis\": {\"title\": \"Count Word\", \"tickcolor\": \"#FFF\", \"range\": [-0.5, 5.5], \"dtick\": 1}, \"height\": 300, \"titlefont\": {\"color\": \"#FFF\"}, \"xaxis\": {\"title\": \"Glimpses\", \"tickcolor\": \"#FFF\", \"range\": [-0.5, 5.5], \"dtick\": 1}, \"font\": {\"color\": \"#FFF\"}}, {\"linkText\": \"Export to plot.ly\", \"showLink\": true})});</script>"
      ],
      "text/vnd.plotly.v1+html": [
       "<div id=\"327caca4-aaa7-485e-acb6-371ecfe643d4\" style=\"height: 300px; width: 300px;\" class=\"plotly-graph-div\"></div><script type=\"text/javascript\">require([\"plotly\"], function(Plotly) { window.PLOTLYENV=window.PLOTLYENV || {};window.PLOTLYENV.BASE_URL=\"https://plot.ly\";Plotly.newPlot(\"327caca4-aaa7-485e-acb6-371ecfe643d4\", [{\"colorscale\": \"Jet\", \"z\": [[0.19823971686576486, 0.2020912542217106, 0.2047782758329066, 0.20663731356146708, 0.20787775248026955, 0.20873449857273652], [0.24797277485626207, 0.2492497067042311, 0.24985947091707436, 0.250088927250005, 0.2501770836764581, 0.25025207105796216], [0.14884295649122165, 0.14705323953285304, 0.1459343099982395, 0.14522221716822373, 0.14474972358948282, 0.14437806672425244], [0.13715889808787204, 0.1356313308950392, 0.13480888577180397, 0.13444051461130255, 0.13436668832781426, 0.1343789433359013], [0.13479414733718573, 0.13378856433392425, 0.13307445954992886, 0.13255611183828067, 0.13214775909014945, 0.13183344306234956], [0.13299110993813093, 0.13218550639856355, 0.13154420091043778, 0.13105452123331998, 0.1306805967102862, 0.13042258112125837]], \"type\": \"heatmap\"}], {\"plot_bgcolor\": \"#000\", \"paper_bgcolor\": \"#000\", \"width\": 300, \"title\": \"2 Blobs:Confidence after 300 Iters\", \"yaxis\": {\"title\": \"Count Word\", \"tickcolor\": \"#FFF\", \"range\": [-0.5, 5.5], \"dtick\": 1}, \"height\": 300, \"titlefont\": {\"color\": \"#FFF\"}, \"xaxis\": {\"title\": \"Glimpses\", \"tickcolor\": \"#FFF\", \"range\": [-0.5, 5.5], \"dtick\": 1}, \"font\": {\"color\": \"#FFF\"}}, {\"linkText\": \"Export to plot.ly\", \"showLink\": true})});</script>"
      ]
     },
     "metadata": {},
     "output_type": "display_data"
    },
    {
     "data": {
      "application/vnd.plotly.v1+json": {
       "data": [
        {
         "colorscale": "Jet",
         "type": "heatmap",
         "z": [
          [
           0.21341961966545445,
           0.2217180748030655,
           0.22863094423316155,
           0.2340716939670713,
           0.23845758674968626,
           0.24177013680387002
          ],
          [
           0.2901040204253718,
           0.29556793787939223,
           0.29899261435833757,
           0.30085081941034364,
           0.3018552884032399,
           0.3023795944908197
          ],
          [
           0.13858204245517589,
           0.13479257079496204,
           0.1320995836552799,
           0.1303779092460073,
           0.12913400908686726,
           0.12834866664807074
          ],
          [
           0.12358405832299135,
           0.12015647045633654,
           0.11748636970295426,
           0.11561399842069092,
           0.11428951817846458,
           0.11336660440025308
          ],
          [
           0.11803336458751552,
           0.11532498276633868,
           0.11344752482572487,
           0.11218092990914125,
           0.11128437120814483,
           0.11067515386769862
          ],
          [
           0.1162765008021362,
           0.11243955286925637,
           0.1093425790199264,
           0.10690424755679005,
           0.10497880432004748,
           0.10345945600839518
          ]
         ]
        }
       ],
       "layout": {
        "font": {
         "color": "#FFF"
        },
        "height": 300,
        "paper_bgcolor": "#000",
        "plot_bgcolor": "#000",
        "title": "2 Blobs:Confidence after 400 Iters",
        "titlefont": {
         "color": "#FFF"
        },
        "width": 300,
        "xaxis": {
         "dtick": 1,
         "range": [
          -0.5,
          5.5
         ],
         "tickcolor": "#FFF",
         "title": "Glimpses"
        },
        "yaxis": {
         "dtick": 1,
         "range": [
          -0.5,
          5.5
         ],
         "tickcolor": "#FFF",
         "title": "Count Word"
        }
       }
      },
      "text/html": [
       "<div id=\"fa3f3eb6-b737-436f-af5e-57b279ff24f7\" style=\"height: 300px; width: 300px;\" class=\"plotly-graph-div\"></div><script type=\"text/javascript\">require([\"plotly\"], function(Plotly) { window.PLOTLYENV=window.PLOTLYENV || {};window.PLOTLYENV.BASE_URL=\"https://plot.ly\";Plotly.newPlot(\"fa3f3eb6-b737-436f-af5e-57b279ff24f7\", [{\"colorscale\": \"Jet\", \"z\": [[0.21341961966545445, 0.2217180748030655, 0.22863094423316155, 0.2340716939670713, 0.23845758674968626, 0.24177013680387002], [0.2901040204253718, 0.29556793787939223, 0.29899261435833757, 0.30085081941034364, 0.3018552884032399, 0.3023795944908197], [0.13858204245517589, 0.13479257079496204, 0.1320995836552799, 0.1303779092460073, 0.12913400908686726, 0.12834866664807074], [0.12358405832299135, 0.12015647045633654, 0.11748636970295426, 0.11561399842069092, 0.11428951817846458, 0.11336660440025308], [0.11803336458751552, 0.11532498276633868, 0.11344752482572487, 0.11218092990914125, 0.11128437120814483, 0.11067515386769862], [0.1162765008021362, 0.11243955286925637, 0.1093425790199264, 0.10690424755679005, 0.10497880432004748, 0.10345945600839518]], \"type\": \"heatmap\"}], {\"plot_bgcolor\": \"#000\", \"paper_bgcolor\": \"#000\", \"width\": 300, \"title\": \"2 Blobs:Confidence after 400 Iters\", \"yaxis\": {\"title\": \"Count Word\", \"tickcolor\": \"#FFF\", \"range\": [-0.5, 5.5], \"dtick\": 1}, \"height\": 300, \"titlefont\": {\"color\": \"#FFF\"}, \"xaxis\": {\"title\": \"Glimpses\", \"tickcolor\": \"#FFF\", \"range\": [-0.5, 5.5], \"dtick\": 1}, \"font\": {\"color\": \"#FFF\"}}, {\"linkText\": \"Export to plot.ly\", \"showLink\": true})});</script>"
      ],
      "text/vnd.plotly.v1+html": [
       "<div id=\"fa3f3eb6-b737-436f-af5e-57b279ff24f7\" style=\"height: 300px; width: 300px;\" class=\"plotly-graph-div\"></div><script type=\"text/javascript\">require([\"plotly\"], function(Plotly) { window.PLOTLYENV=window.PLOTLYENV || {};window.PLOTLYENV.BASE_URL=\"https://plot.ly\";Plotly.newPlot(\"fa3f3eb6-b737-436f-af5e-57b279ff24f7\", [{\"colorscale\": \"Jet\", \"z\": [[0.21341961966545445, 0.2217180748030655, 0.22863094423316155, 0.2340716939670713, 0.23845758674968626, 0.24177013680387002], [0.2901040204253718, 0.29556793787939223, 0.29899261435833757, 0.30085081941034364, 0.3018552884032399, 0.3023795944908197], [0.13858204245517589, 0.13479257079496204, 0.1320995836552799, 0.1303779092460073, 0.12913400908686726, 0.12834866664807074], [0.12358405832299135, 0.12015647045633654, 0.11748636970295426, 0.11561399842069092, 0.11428951817846458, 0.11336660440025308], [0.11803336458751552, 0.11532498276633868, 0.11344752482572487, 0.11218092990914125, 0.11128437120814483, 0.11067515386769862], [0.1162765008021362, 0.11243955286925637, 0.1093425790199264, 0.10690424755679005, 0.10497880432004748, 0.10345945600839518]], \"type\": \"heatmap\"}], {\"plot_bgcolor\": \"#000\", \"paper_bgcolor\": \"#000\", \"width\": 300, \"title\": \"2 Blobs:Confidence after 400 Iters\", \"yaxis\": {\"title\": \"Count Word\", \"tickcolor\": \"#FFF\", \"range\": [-0.5, 5.5], \"dtick\": 1}, \"height\": 300, \"titlefont\": {\"color\": \"#FFF\"}, \"xaxis\": {\"title\": \"Glimpses\", \"tickcolor\": \"#FFF\", \"range\": [-0.5, 5.5], \"dtick\": 1}, \"font\": {\"color\": \"#FFF\"}}, {\"linkText\": \"Export to plot.ly\", \"showLink\": true})});</script>"
      ]
     },
     "metadata": {},
     "output_type": "display_data"
    },
    {
     "data": {
      "application/vnd.plotly.v1+json": {
       "data": [
        {
         "colorscale": "Jet",
         "type": "heatmap",
         "z": [
          [
           0.3064104520375749,
           0.4101057059091988,
           0.4822132855588711,
           0.54673474786391,
           0.5888895299723796,
           0.620602464941422
          ],
          [
           0.39491952374080314,
           0.37524844058274753,
           0.3498921950586328,
           0.3139629888062716,
           0.28905255928644796,
           0.26866317598620604
          ],
          [
           0.09399927980216936,
           0.06814393237181927,
           0.05412480870672045,
           0.04557467803802035,
           0.04016978990494404,
           0.036592416107857594
          ],
          [
           0.07499654894956943,
           0.056293538231026785,
           0.045277028543336935,
           0.03828382062263198,
           0.03415494894733177,
           0.03137370008186026
          ],
          [
           0.06752301105697481,
           0.048095325400244436,
           0.03720695538308464,
           0.03065563577111486,
           0.02678100073716263,
           0.02427377382926323
          ],
          [
           0.06215061188690397,
           0.042112487669444684,
           0.03128515649991472,
           0.024787575412408946,
           0.020951614561684827,
           0.01849389880395151
          ]
         ]
        }
       ],
       "layout": {
        "font": {
         "color": "#FFF"
        },
        "height": 300,
        "paper_bgcolor": "#000",
        "plot_bgcolor": "#000",
        "title": "2 Blobs:Confidence after 600 Iters",
        "titlefont": {
         "color": "#FFF"
        },
        "width": 300,
        "xaxis": {
         "dtick": 1,
         "range": [
          -0.5,
          5.5
         ],
         "tickcolor": "#FFF",
         "title": "Glimpses"
        },
        "yaxis": {
         "dtick": 1,
         "range": [
          -0.5,
          5.5
         ],
         "tickcolor": "#FFF",
         "title": "Count Word"
        }
       }
      },
      "text/html": [
       "<div id=\"c5414609-3352-482e-963b-8314d7f33dc6\" style=\"height: 300px; width: 300px;\" class=\"plotly-graph-div\"></div><script type=\"text/javascript\">require([\"plotly\"], function(Plotly) { window.PLOTLYENV=window.PLOTLYENV || {};window.PLOTLYENV.BASE_URL=\"https://plot.ly\";Plotly.newPlot(\"c5414609-3352-482e-963b-8314d7f33dc6\", [{\"colorscale\": \"Jet\", \"z\": [[0.3064104520375749, 0.4101057059091988, 0.4822132855588711, 0.54673474786391, 0.5888895299723796, 0.620602464941422], [0.39491952374080314, 0.37524844058274753, 0.3498921950586328, 0.3139629888062716, 0.28905255928644796, 0.26866317598620604], [0.09399927980216936, 0.06814393237181927, 0.05412480870672045, 0.04557467803802035, 0.04016978990494404, 0.036592416107857594], [0.07499654894956943, 0.056293538231026785, 0.045277028543336935, 0.03828382062263198, 0.03415494894733177, 0.03137370008186026], [0.06752301105697481, 0.048095325400244436, 0.03720695538308464, 0.03065563577111486, 0.02678100073716263, 0.02427377382926323], [0.06215061188690397, 0.042112487669444684, 0.03128515649991472, 0.024787575412408946, 0.020951614561684827, 0.01849389880395151]], \"type\": \"heatmap\"}], {\"plot_bgcolor\": \"#000\", \"paper_bgcolor\": \"#000\", \"width\": 300, \"title\": \"2 Blobs:Confidence after 600 Iters\", \"yaxis\": {\"title\": \"Count Word\", \"tickcolor\": \"#FFF\", \"range\": [-0.5, 5.5], \"dtick\": 1}, \"height\": 300, \"titlefont\": {\"color\": \"#FFF\"}, \"xaxis\": {\"title\": \"Glimpses\", \"tickcolor\": \"#FFF\", \"range\": [-0.5, 5.5], \"dtick\": 1}, \"font\": {\"color\": \"#FFF\"}}, {\"linkText\": \"Export to plot.ly\", \"showLink\": true})});</script>"
      ],
      "text/vnd.plotly.v1+html": [
       "<div id=\"c5414609-3352-482e-963b-8314d7f33dc6\" style=\"height: 300px; width: 300px;\" class=\"plotly-graph-div\"></div><script type=\"text/javascript\">require([\"plotly\"], function(Plotly) { window.PLOTLYENV=window.PLOTLYENV || {};window.PLOTLYENV.BASE_URL=\"https://plot.ly\";Plotly.newPlot(\"c5414609-3352-482e-963b-8314d7f33dc6\", [{\"colorscale\": \"Jet\", \"z\": [[0.3064104520375749, 0.4101057059091988, 0.4822132855588711, 0.54673474786391, 0.5888895299723796, 0.620602464941422], [0.39491952374080314, 0.37524844058274753, 0.3498921950586328, 0.3139629888062716, 0.28905255928644796, 0.26866317598620604], [0.09399927980216936, 0.06814393237181927, 0.05412480870672045, 0.04557467803802035, 0.04016978990494404, 0.036592416107857594], [0.07499654894956943, 0.056293538231026785, 0.045277028543336935, 0.03828382062263198, 0.03415494894733177, 0.03137370008186026], [0.06752301105697481, 0.048095325400244436, 0.03720695538308464, 0.03065563577111486, 0.02678100073716263, 0.02427377382926323], [0.06215061188690397, 0.042112487669444684, 0.03128515649991472, 0.024787575412408946, 0.020951614561684827, 0.01849389880395151]], \"type\": \"heatmap\"}], {\"plot_bgcolor\": \"#000\", \"paper_bgcolor\": \"#000\", \"width\": 300, \"title\": \"2 Blobs:Confidence after 600 Iters\", \"yaxis\": {\"title\": \"Count Word\", \"tickcolor\": \"#FFF\", \"range\": [-0.5, 5.5], \"dtick\": 1}, \"height\": 300, \"titlefont\": {\"color\": \"#FFF\"}, \"xaxis\": {\"title\": \"Glimpses\", \"tickcolor\": \"#FFF\", \"range\": [-0.5, 5.5], \"dtick\": 1}, \"font\": {\"color\": \"#FFF\"}}, {\"linkText\": \"Export to plot.ly\", \"showLink\": true})});</script>"
      ]
     },
     "metadata": {},
     "output_type": "display_data"
    },
    {
     "data": {
      "application/vnd.plotly.v1+json": {
       "data": [
        {
         "colorscale": "Jet",
         "type": "heatmap",
         "z": [
          [
           0.26905281484261345,
           0.5281097901428367,
           0.6334965596604154,
           0.7814598331099932,
           0.7950175957246226,
           0.8607565998686176
          ],
          [
           0.5378033605737703,
           0.35434423167737805,
           0.2846551286320756,
           0.16325978969132413,
           0.1563184465989206,
           0.10159316645012098
          ],
          [
           0.06781362996371428,
           0.04192489845554838,
           0.02961716457751025,
           0.01971759717146388,
           0.017396550782709054,
           0.013242846786486445
          ],
          [
           0.05033619248549644,
           0.03406409224395271,
           0.02511824345387296,
           0.01808359056460842,
           0.016366769180444614,
           0.01311615904333926
          ],
          [
           0.04036743343650824,
           0.023801401965045245,
           0.015965340098928173,
           0.010651257949488561,
           0.00910211625395102,
           0.007049002454856924
          ],
          [
           0.0346260465978427,
           0.017755046210234247,
           0.011147039737041266,
           0.0068274051976093585,
           0.005797987521703651,
           0.004241693909777938
          ]
         ]
        }
       ],
       "layout": {
        "font": {
         "color": "#FFF"
        },
        "height": 300,
        "paper_bgcolor": "#000",
        "plot_bgcolor": "#000",
        "title": "2 Blobs:Confidence after 800 Iters",
        "titlefont": {
         "color": "#FFF"
        },
        "width": 300,
        "xaxis": {
         "dtick": 1,
         "range": [
          -0.5,
          5.5
         ],
         "tickcolor": "#FFF",
         "title": "Glimpses"
        },
        "yaxis": {
         "dtick": 1,
         "range": [
          -0.5,
          5.5
         ],
         "tickcolor": "#FFF",
         "title": "Count Word"
        }
       }
      },
      "text/html": [
       "<div id=\"9ed4c733-40c1-4ae9-b291-0690f1eb6927\" style=\"height: 300px; width: 300px;\" class=\"plotly-graph-div\"></div><script type=\"text/javascript\">require([\"plotly\"], function(Plotly) { window.PLOTLYENV=window.PLOTLYENV || {};window.PLOTLYENV.BASE_URL=\"https://plot.ly\";Plotly.newPlot(\"9ed4c733-40c1-4ae9-b291-0690f1eb6927\", [{\"colorscale\": \"Jet\", \"z\": [[0.26905281484261345, 0.5281097901428367, 0.6334965596604154, 0.7814598331099932, 0.7950175957246226, 0.8607565998686176], [0.5378033605737703, 0.35434423167737805, 0.2846551286320756, 0.16325978969132413, 0.1563184465989206, 0.10159316645012098], [0.06781362996371428, 0.04192489845554838, 0.02961716457751025, 0.01971759717146388, 0.017396550782709054, 0.013242846786486445], [0.05033619248549644, 0.03406409224395271, 0.02511824345387296, 0.01808359056460842, 0.016366769180444614, 0.01311615904333926], [0.04036743343650824, 0.023801401965045245, 0.015965340098928173, 0.010651257949488561, 0.00910211625395102, 0.007049002454856924], [0.0346260465978427, 0.017755046210234247, 0.011147039737041266, 0.0068274051976093585, 0.005797987521703651, 0.004241693909777938]], \"type\": \"heatmap\"}], {\"plot_bgcolor\": \"#000\", \"paper_bgcolor\": \"#000\", \"width\": 300, \"title\": \"2 Blobs:Confidence after 800 Iters\", \"yaxis\": {\"title\": \"Count Word\", \"tickcolor\": \"#FFF\", \"range\": [-0.5, 5.5], \"dtick\": 1}, \"height\": 300, \"titlefont\": {\"color\": \"#FFF\"}, \"xaxis\": {\"title\": \"Glimpses\", \"tickcolor\": \"#FFF\", \"range\": [-0.5, 5.5], \"dtick\": 1}, \"font\": {\"color\": \"#FFF\"}}, {\"linkText\": \"Export to plot.ly\", \"showLink\": true})});</script>"
      ],
      "text/vnd.plotly.v1+html": [
       "<div id=\"9ed4c733-40c1-4ae9-b291-0690f1eb6927\" style=\"height: 300px; width: 300px;\" class=\"plotly-graph-div\"></div><script type=\"text/javascript\">require([\"plotly\"], function(Plotly) { window.PLOTLYENV=window.PLOTLYENV || {};window.PLOTLYENV.BASE_URL=\"https://plot.ly\";Plotly.newPlot(\"9ed4c733-40c1-4ae9-b291-0690f1eb6927\", [{\"colorscale\": \"Jet\", \"z\": [[0.26905281484261345, 0.5281097901428367, 0.6334965596604154, 0.7814598331099932, 0.7950175957246226, 0.8607565998686176], [0.5378033605737703, 0.35434423167737805, 0.2846551286320756, 0.16325978969132413, 0.1563184465989206, 0.10159316645012098], [0.06781362996371428, 0.04192489845554838, 0.02961716457751025, 0.01971759717146388, 0.017396550782709054, 0.013242846786486445], [0.05033619248549644, 0.03406409224395271, 0.02511824345387296, 0.01808359056460842, 0.016366769180444614, 0.01311615904333926], [0.04036743343650824, 0.023801401965045245, 0.015965340098928173, 0.010651257949488561, 0.00910211625395102, 0.007049002454856924], [0.0346260465978427, 0.017755046210234247, 0.011147039737041266, 0.0068274051976093585, 0.005797987521703651, 0.004241693909777938]], \"type\": \"heatmap\"}], {\"plot_bgcolor\": \"#000\", \"paper_bgcolor\": \"#000\", \"width\": 300, \"title\": \"2 Blobs:Confidence after 800 Iters\", \"yaxis\": {\"title\": \"Count Word\", \"tickcolor\": \"#FFF\", \"range\": [-0.5, 5.5], \"dtick\": 1}, \"height\": 300, \"titlefont\": {\"color\": \"#FFF\"}, \"xaxis\": {\"title\": \"Glimpses\", \"tickcolor\": \"#FFF\", \"range\": [-0.5, 5.5], \"dtick\": 1}, \"font\": {\"color\": \"#FFF\"}}, {\"linkText\": \"Export to plot.ly\", \"showLink\": true})});</script>"
      ]
     },
     "metadata": {},
     "output_type": "display_data"
    },
    {
     "data": {
      "application/vnd.plotly.v1+json": {
       "data": [
        {
         "colorscale": "Jet",
         "type": "heatmap",
         "z": [
          [
           0.02935442433477755,
           0.8602555900082304,
           0.898612743718513,
           0.9656584696048843,
           0.9411343447291258,
           0.9733968775139704
          ],
          [
           0.9342847039836026,
           0.044193844627259074,
           0.010344288203063132,
           0.0004754824008579534,
           0.0007222829614467815,
           0.00011966743164201508
          ],
          [
           0.015422331694343143,
           0.04028322985658731,
           0.0376031266796107,
           0.013172783446850203,
           0.02229091079114716,
           0.00977013683852293
          ],
          [
           0.008351382643988173,
           0.030345318761468815,
           0.03291665705767909,
           0.013973400206802825,
           0.02479816002651813,
           0.011936402660957638
          ],
          [
           0.006645155992197247,
           0.015374692407330724,
           0.012898371999608573,
           0.0044657547174751355,
           0.007157475418631025,
           0.003202542677985667
          ],
          [
           0.005941536222637063,
           0.009546854405893833,
           0.0076243538381584345,
           0.002253658166854968,
           0.003896389904297887,
           0.0015739144492903845
          ]
         ]
        }
       ],
       "layout": {
        "font": {
         "color": "#FFF"
        },
        "height": 300,
        "paper_bgcolor": "#000",
        "plot_bgcolor": "#000",
        "title": "2 Blobs:Confidence after 1200 Iters",
        "titlefont": {
         "color": "#FFF"
        },
        "width": 300,
        "xaxis": {
         "dtick": 1,
         "range": [
          -0.5,
          5.5
         ],
         "tickcolor": "#FFF",
         "title": "Glimpses"
        },
        "yaxis": {
         "dtick": 1,
         "range": [
          -0.5,
          5.5
         ],
         "tickcolor": "#FFF",
         "title": "Count Word"
        }
       }
      },
      "text/html": [
       "<div id=\"956f80d0-5975-4059-b420-61014251cc2d\" style=\"height: 300px; width: 300px;\" class=\"plotly-graph-div\"></div><script type=\"text/javascript\">require([\"plotly\"], function(Plotly) { window.PLOTLYENV=window.PLOTLYENV || {};window.PLOTLYENV.BASE_URL=\"https://plot.ly\";Plotly.newPlot(\"956f80d0-5975-4059-b420-61014251cc2d\", [{\"colorscale\": \"Jet\", \"z\": [[0.02935442433477755, 0.8602555900082304, 0.898612743718513, 0.9656584696048843, 0.9411343447291258, 0.9733968775139704], [0.9342847039836026, 0.044193844627259074, 0.010344288203063132, 0.0004754824008579534, 0.0007222829614467815, 0.00011966743164201508], [0.015422331694343143, 0.04028322985658731, 0.0376031266796107, 0.013172783446850203, 0.02229091079114716, 0.00977013683852293], [0.008351382643988173, 0.030345318761468815, 0.03291665705767909, 0.013973400206802825, 0.02479816002651813, 0.011936402660957638], [0.006645155992197247, 0.015374692407330724, 0.012898371999608573, 0.0044657547174751355, 0.007157475418631025, 0.003202542677985667], [0.005941536222637063, 0.009546854405893833, 0.0076243538381584345, 0.002253658166854968, 0.003896389904297887, 0.0015739144492903845]], \"type\": \"heatmap\"}], {\"plot_bgcolor\": \"#000\", \"paper_bgcolor\": \"#000\", \"width\": 300, \"title\": \"2 Blobs:Confidence after 1200 Iters\", \"yaxis\": {\"title\": \"Count Word\", \"tickcolor\": \"#FFF\", \"range\": [-0.5, 5.5], \"dtick\": 1}, \"height\": 300, \"titlefont\": {\"color\": \"#FFF\"}, \"xaxis\": {\"title\": \"Glimpses\", \"tickcolor\": \"#FFF\", \"range\": [-0.5, 5.5], \"dtick\": 1}, \"font\": {\"color\": \"#FFF\"}}, {\"linkText\": \"Export to plot.ly\", \"showLink\": true})});</script>"
      ],
      "text/vnd.plotly.v1+html": [
       "<div id=\"956f80d0-5975-4059-b420-61014251cc2d\" style=\"height: 300px; width: 300px;\" class=\"plotly-graph-div\"></div><script type=\"text/javascript\">require([\"plotly\"], function(Plotly) { window.PLOTLYENV=window.PLOTLYENV || {};window.PLOTLYENV.BASE_URL=\"https://plot.ly\";Plotly.newPlot(\"956f80d0-5975-4059-b420-61014251cc2d\", [{\"colorscale\": \"Jet\", \"z\": [[0.02935442433477755, 0.8602555900082304, 0.898612743718513, 0.9656584696048843, 0.9411343447291258, 0.9733968775139704], [0.9342847039836026, 0.044193844627259074, 0.010344288203063132, 0.0004754824008579534, 0.0007222829614467815, 0.00011966743164201508], [0.015422331694343143, 0.04028322985658731, 0.0376031266796107, 0.013172783446850203, 0.02229091079114716, 0.00977013683852293], [0.008351382643988173, 0.030345318761468815, 0.03291665705767909, 0.013973400206802825, 0.02479816002651813, 0.011936402660957638], [0.006645155992197247, 0.015374692407330724, 0.012898371999608573, 0.0044657547174751355, 0.007157475418631025, 0.003202542677985667], [0.005941536222637063, 0.009546854405893833, 0.0076243538381584345, 0.002253658166854968, 0.003896389904297887, 0.0015739144492903845]], \"type\": \"heatmap\"}], {\"plot_bgcolor\": \"#000\", \"paper_bgcolor\": \"#000\", \"width\": 300, \"title\": \"2 Blobs:Confidence after 1200 Iters\", \"yaxis\": {\"title\": \"Count Word\", \"tickcolor\": \"#FFF\", \"range\": [-0.5, 5.5], \"dtick\": 1}, \"height\": 300, \"titlefont\": {\"color\": \"#FFF\"}, \"xaxis\": {\"title\": \"Glimpses\", \"tickcolor\": \"#FFF\", \"range\": [-0.5, 5.5], \"dtick\": 1}, \"font\": {\"color\": \"#FFF\"}}, {\"linkText\": \"Export to plot.ly\", \"showLink\": true})});</script>"
      ]
     },
     "metadata": {},
     "output_type": "display_data"
    },
    {
     "data": {
      "application/vnd.plotly.v1+json": {
       "data": [
        {
         "colorscale": "Jet",
         "type": "heatmap",
         "z": [
          [
           0.009197233522219763,
           0.9594305020897945,
           0.9389711376950926,
           0.9738480600380152,
           0.9210243075576253,
           0.9548498089560754
          ],
          [
           0.9854030280773582,
           0.0075255220539338545,
           0.0007525007223042379,
           2.2918857701947134e-05,
           4.8144525815494226e-05,
           7.376437841832608e-06
          ],
          [
           0.0022606219676092718,
           0.01078220570484849,
           0.01888692361815624,
           0.006220192638125203,
           0.019826293927144186,
           0.009579850831324626
          ],
          [
           0.0011549766788342374,
           0.011378091861302926,
           0.02494304849895348,
           0.012180208110895699,
           0.038133535410359264,
           0.02227320933439539
          ],
          [
           0.0009921092950992414,
           0.007750310801889154,
           0.01227348431136981,
           0.006224122620868004,
           0.016397975794543856,
           0.01079789809017414
          ],
          [
           0.0009916463182586723,
           0.0031329949264530354,
           0.004172530605450336,
           0.001504121911519062,
           0.004569360912450116,
           0.002491474650782126
          ]
         ]
        }
       ],
       "layout": {
        "font": {
         "color": "#FFF"
        },
        "height": 300,
        "paper_bgcolor": "#000",
        "plot_bgcolor": "#000",
        "title": "2 Blobs:Confidence after 1600 Iters",
        "titlefont": {
         "color": "#FFF"
        },
        "width": 300,
        "xaxis": {
         "dtick": 1,
         "range": [
          -0.5,
          5.5
         ],
         "tickcolor": "#FFF",
         "title": "Glimpses"
        },
        "yaxis": {
         "dtick": 1,
         "range": [
          -0.5,
          5.5
         ],
         "tickcolor": "#FFF",
         "title": "Count Word"
        }
       }
      },
      "text/html": [
       "<div id=\"050e257e-4267-45bf-aae8-a653fdfa4d01\" style=\"height: 300px; width: 300px;\" class=\"plotly-graph-div\"></div><script type=\"text/javascript\">require([\"plotly\"], function(Plotly) { window.PLOTLYENV=window.PLOTLYENV || {};window.PLOTLYENV.BASE_URL=\"https://plot.ly\";Plotly.newPlot(\"050e257e-4267-45bf-aae8-a653fdfa4d01\", [{\"colorscale\": \"Jet\", \"z\": [[0.009197233522219763, 0.9594305020897945, 0.9389711376950926, 0.9738480600380152, 0.9210243075576253, 0.9548498089560754], [0.9854030280773582, 0.0075255220539338545, 0.0007525007223042379, 2.2918857701947134e-05, 4.8144525815494226e-05, 7.376437841832608e-06], [0.0022606219676092718, 0.01078220570484849, 0.01888692361815624, 0.006220192638125203, 0.019826293927144186, 0.009579850831324626], [0.0011549766788342374, 0.011378091861302926, 0.02494304849895348, 0.012180208110895699, 0.038133535410359264, 0.02227320933439539], [0.0009921092950992414, 0.007750310801889154, 0.01227348431136981, 0.006224122620868004, 0.016397975794543856, 0.01079789809017414], [0.0009916463182586723, 0.0031329949264530354, 0.004172530605450336, 0.001504121911519062, 0.004569360912450116, 0.002491474650782126]], \"type\": \"heatmap\"}], {\"plot_bgcolor\": \"#000\", \"paper_bgcolor\": \"#000\", \"width\": 300, \"title\": \"2 Blobs:Confidence after 1600 Iters\", \"yaxis\": {\"title\": \"Count Word\", \"tickcolor\": \"#FFF\", \"range\": [-0.5, 5.5], \"dtick\": 1}, \"height\": 300, \"titlefont\": {\"color\": \"#FFF\"}, \"xaxis\": {\"title\": \"Glimpses\", \"tickcolor\": \"#FFF\", \"range\": [-0.5, 5.5], \"dtick\": 1}, \"font\": {\"color\": \"#FFF\"}}, {\"linkText\": \"Export to plot.ly\", \"showLink\": true})});</script>"
      ],
      "text/vnd.plotly.v1+html": [
       "<div id=\"050e257e-4267-45bf-aae8-a653fdfa4d01\" style=\"height: 300px; width: 300px;\" class=\"plotly-graph-div\"></div><script type=\"text/javascript\">require([\"plotly\"], function(Plotly) { window.PLOTLYENV=window.PLOTLYENV || {};window.PLOTLYENV.BASE_URL=\"https://plot.ly\";Plotly.newPlot(\"050e257e-4267-45bf-aae8-a653fdfa4d01\", [{\"colorscale\": \"Jet\", \"z\": [[0.009197233522219763, 0.9594305020897945, 0.9389711376950926, 0.9738480600380152, 0.9210243075576253, 0.9548498089560754], [0.9854030280773582, 0.0075255220539338545, 0.0007525007223042379, 2.2918857701947134e-05, 4.8144525815494226e-05, 7.376437841832608e-06], [0.0022606219676092718, 0.01078220570484849, 0.01888692361815624, 0.006220192638125203, 0.019826293927144186, 0.009579850831324626], [0.0011549766788342374, 0.011378091861302926, 0.02494304849895348, 0.012180208110895699, 0.038133535410359264, 0.02227320933439539], [0.0009921092950992414, 0.007750310801889154, 0.01227348431136981, 0.006224122620868004, 0.016397975794543856, 0.01079789809017414], [0.0009916463182586723, 0.0031329949264530354, 0.004172530605450336, 0.001504121911519062, 0.004569360912450116, 0.002491474650782126]], \"type\": \"heatmap\"}], {\"plot_bgcolor\": \"#000\", \"paper_bgcolor\": \"#000\", \"width\": 300, \"title\": \"2 Blobs:Confidence after 1600 Iters\", \"yaxis\": {\"title\": \"Count Word\", \"tickcolor\": \"#FFF\", \"range\": [-0.5, 5.5], \"dtick\": 1}, \"height\": 300, \"titlefont\": {\"color\": \"#FFF\"}, \"xaxis\": {\"title\": \"Glimpses\", \"tickcolor\": \"#FFF\", \"range\": [-0.5, 5.5], \"dtick\": 1}, \"font\": {\"color\": \"#FFF\"}}, {\"linkText\": \"Export to plot.ly\", \"showLink\": true})});</script>"
      ]
     },
     "metadata": {},
     "output_type": "display_data"
    },
    {
     "data": {
      "application/vnd.plotly.v1+json": {
       "data": [
        {
         "colorscale": "Jet",
         "type": "heatmap",
         "z": [
          [
           0.002349254305858587,
           0.9894774068302409,
           0.9745798774541207,
           0.9820595308806442,
           0.9319395603008893,
           0.9470235518862257
          ],
          [
           0.9965335450644239,
           0.0011063959098236626,
           2.4188249717859014e-05,
           7.982165459872647e-07,
           1.286709354375201e-06,
           2.732092678935314e-07
          ],
          [
           0.0006510210545104783,
           0.001996793829056583,
           0.003431657896582626,
           0.0007902769740465861,
           0.0030843975628443974,
           0.0012901782818822776
          ],
          [
           0.00016451584249680236,
           0.0031512447024851214,
           0.011894687196653368,
           0.0075219433049311,
           0.03293192396770819,
           0.021399840129241614
          ],
          [
           0.00014568958059937693,
           0.0031077037197658535,
           0.007538735212650109,
           0.007726505611992598,
           0.024210945196659533,
           0.02400996469109265
          ],
          [
           0.00015552907188726956,
           0.0011600113058747828,
           0.0025303625821490967,
           0.001900477285910928,
           0.007831437699944543,
           0.0062757581520893335
          ]
         ]
        }
       ],
       "layout": {
        "font": {
         "color": "#FFF"
        },
        "height": 300,
        "paper_bgcolor": "#000",
        "plot_bgcolor": "#000",
        "title": "2 Blobs:Confidence after 2400 Iters",
        "titlefont": {
         "color": "#FFF"
        },
        "width": 300,
        "xaxis": {
         "dtick": 1,
         "range": [
          -0.5,
          5.5
         ],
         "tickcolor": "#FFF",
         "title": "Glimpses"
        },
        "yaxis": {
         "dtick": 1,
         "range": [
          -0.5,
          5.5
         ],
         "tickcolor": "#FFF",
         "title": "Count Word"
        }
       }
      },
      "text/html": [
       "<div id=\"3a163dbe-4e4e-4855-84d5-ca64e174fbd7\" style=\"height: 300px; width: 300px;\" class=\"plotly-graph-div\"></div><script type=\"text/javascript\">require([\"plotly\"], function(Plotly) { window.PLOTLYENV=window.PLOTLYENV || {};window.PLOTLYENV.BASE_URL=\"https://plot.ly\";Plotly.newPlot(\"3a163dbe-4e4e-4855-84d5-ca64e174fbd7\", [{\"colorscale\": \"Jet\", \"z\": [[0.002349254305858587, 0.9894774068302409, 0.9745798774541207, 0.9820595308806442, 0.9319395603008893, 0.9470235518862257], [0.9965335450644239, 0.0011063959098236626, 2.4188249717859014e-05, 7.982165459872647e-07, 1.286709354375201e-06, 2.732092678935314e-07], [0.0006510210545104783, 0.001996793829056583, 0.003431657896582626, 0.0007902769740465861, 0.0030843975628443974, 0.0012901782818822776], [0.00016451584249680236, 0.0031512447024851214, 0.011894687196653368, 0.0075219433049311, 0.03293192396770819, 0.021399840129241614], [0.00014568958059937693, 0.0031077037197658535, 0.007538735212650109, 0.007726505611992598, 0.024210945196659533, 0.02400996469109265], [0.00015552907188726956, 0.0011600113058747828, 0.0025303625821490967, 0.001900477285910928, 0.007831437699944543, 0.0062757581520893335]], \"type\": \"heatmap\"}], {\"plot_bgcolor\": \"#000\", \"paper_bgcolor\": \"#000\", \"width\": 300, \"title\": \"2 Blobs:Confidence after 2400 Iters\", \"yaxis\": {\"title\": \"Count Word\", \"tickcolor\": \"#FFF\", \"range\": [-0.5, 5.5], \"dtick\": 1}, \"height\": 300, \"titlefont\": {\"color\": \"#FFF\"}, \"xaxis\": {\"title\": \"Glimpses\", \"tickcolor\": \"#FFF\", \"range\": [-0.5, 5.5], \"dtick\": 1}, \"font\": {\"color\": \"#FFF\"}}, {\"linkText\": \"Export to plot.ly\", \"showLink\": true})});</script>"
      ],
      "text/vnd.plotly.v1+html": [
       "<div id=\"3a163dbe-4e4e-4855-84d5-ca64e174fbd7\" style=\"height: 300px; width: 300px;\" class=\"plotly-graph-div\"></div><script type=\"text/javascript\">require([\"plotly\"], function(Plotly) { window.PLOTLYENV=window.PLOTLYENV || {};window.PLOTLYENV.BASE_URL=\"https://plot.ly\";Plotly.newPlot(\"3a163dbe-4e4e-4855-84d5-ca64e174fbd7\", [{\"colorscale\": \"Jet\", \"z\": [[0.002349254305858587, 0.9894774068302409, 0.9745798774541207, 0.9820595308806442, 0.9319395603008893, 0.9470235518862257], [0.9965335450644239, 0.0011063959098236626, 2.4188249717859014e-05, 7.982165459872647e-07, 1.286709354375201e-06, 2.732092678935314e-07], [0.0006510210545104783, 0.001996793829056583, 0.003431657896582626, 0.0007902769740465861, 0.0030843975628443974, 0.0012901782818822776], [0.00016451584249680236, 0.0031512447024851214, 0.011894687196653368, 0.0075219433049311, 0.03293192396770819, 0.021399840129241614], [0.00014568958059937693, 0.0031077037197658535, 0.007538735212650109, 0.007726505611992598, 0.024210945196659533, 0.02400996469109265], [0.00015552907188726956, 0.0011600113058747828, 0.0025303625821490967, 0.001900477285910928, 0.007831437699944543, 0.0062757581520893335]], \"type\": \"heatmap\"}], {\"plot_bgcolor\": \"#000\", \"paper_bgcolor\": \"#000\", \"width\": 300, \"title\": \"2 Blobs:Confidence after 2400 Iters\", \"yaxis\": {\"title\": \"Count Word\", \"tickcolor\": \"#FFF\", \"range\": [-0.5, 5.5], \"dtick\": 1}, \"height\": 300, \"titlefont\": {\"color\": \"#FFF\"}, \"xaxis\": {\"title\": \"Glimpses\", \"tickcolor\": \"#FFF\", \"range\": [-0.5, 5.5], \"dtick\": 1}, \"font\": {\"color\": \"#FFF\"}}, {\"linkText\": \"Export to plot.ly\", \"showLink\": true})});</script>"
      ]
     },
     "metadata": {},
     "output_type": "display_data"
    },
    {
     "data": {
      "application/vnd.plotly.v1+json": {
       "data": [
        {
         "colorscale": "Jet",
         "type": "heatmap",
         "z": [
          [
           0.0036738520560612017,
           0.9925268005445251,
           0.9850937740818577,
           0.9422478307142766,
           0.8216392149187376,
           0.729395987042234
          ],
          [
           0.994581225140644,
           0.0003015795730193716,
           3.3976428607317576e-06,
           7.782407204752063e-07,
           1.8819788616671542e-07,
           5.7100973013179036e-08
          ],
          [
           0.0014225982586268447,
           0.0013055752580087205,
           0.00045035003776351456,
           0.000649244523331022,
           0.0008769497493433754,
           0.0006224439042068541
          ],
          [
           0.00014235665880285188,
           0.003357018118591421,
           0.00826360784149322,
           0.03152925160990164,
           0.09246166276818771,
           0.11567938979364108
          ],
          [
           8.822234884431881e-05,
           0.001687117727248118,
           0.00425189064907597,
           0.01669269036371268,
           0.05381867469096344,
           0.10024374163355035
          ],
          [
           9.138366473983298e-05,
           0.0008215329320154694,
           0.0019365920794841506,
           0.008879798577449671,
           0.03120290154739483,
           0.05405798194632073
          ]
         ]
        }
       ],
       "layout": {
        "font": {
         "color": "#FFF"
        },
        "height": 300,
        "paper_bgcolor": "#000",
        "plot_bgcolor": "#000",
        "title": "2 Blobs:Confidence after 3200 Iters",
        "titlefont": {
         "color": "#FFF"
        },
        "width": 300,
        "xaxis": {
         "dtick": 1,
         "range": [
          -0.5,
          5.5
         ],
         "tickcolor": "#FFF",
         "title": "Glimpses"
        },
        "yaxis": {
         "dtick": 1,
         "range": [
          -0.5,
          5.5
         ],
         "tickcolor": "#FFF",
         "title": "Count Word"
        }
       }
      },
      "text/html": [
       "<div id=\"8d0c1deb-c5a0-422e-9fbe-d586234eb96d\" style=\"height: 300px; width: 300px;\" class=\"plotly-graph-div\"></div><script type=\"text/javascript\">require([\"plotly\"], function(Plotly) { window.PLOTLYENV=window.PLOTLYENV || {};window.PLOTLYENV.BASE_URL=\"https://plot.ly\";Plotly.newPlot(\"8d0c1deb-c5a0-422e-9fbe-d586234eb96d\", [{\"colorscale\": \"Jet\", \"z\": [[0.0036738520560612017, 0.9925268005445251, 0.9850937740818577, 0.9422478307142766, 0.8216392149187376, 0.729395987042234], [0.994581225140644, 0.0003015795730193716, 3.3976428607317576e-06, 7.782407204752063e-07, 1.8819788616671542e-07, 5.7100973013179036e-08], [0.0014225982586268447, 0.0013055752580087205, 0.00045035003776351456, 0.000649244523331022, 0.0008769497493433754, 0.0006224439042068541], [0.00014235665880285188, 0.003357018118591421, 0.00826360784149322, 0.03152925160990164, 0.09246166276818771, 0.11567938979364108], [8.822234884431881e-05, 0.001687117727248118, 0.00425189064907597, 0.01669269036371268, 0.05381867469096344, 0.10024374163355035], [9.138366473983298e-05, 0.0008215329320154694, 0.0019365920794841506, 0.008879798577449671, 0.03120290154739483, 0.05405798194632073]], \"type\": \"heatmap\"}], {\"plot_bgcolor\": \"#000\", \"paper_bgcolor\": \"#000\", \"width\": 300, \"title\": \"2 Blobs:Confidence after 3200 Iters\", \"yaxis\": {\"title\": \"Count Word\", \"tickcolor\": \"#FFF\", \"range\": [-0.5, 5.5], \"dtick\": 1}, \"height\": 300, \"titlefont\": {\"color\": \"#FFF\"}, \"xaxis\": {\"title\": \"Glimpses\", \"tickcolor\": \"#FFF\", \"range\": [-0.5, 5.5], \"dtick\": 1}, \"font\": {\"color\": \"#FFF\"}}, {\"linkText\": \"Export to plot.ly\", \"showLink\": true})});</script>"
      ],
      "text/vnd.plotly.v1+html": [
       "<div id=\"8d0c1deb-c5a0-422e-9fbe-d586234eb96d\" style=\"height: 300px; width: 300px;\" class=\"plotly-graph-div\"></div><script type=\"text/javascript\">require([\"plotly\"], function(Plotly) { window.PLOTLYENV=window.PLOTLYENV || {};window.PLOTLYENV.BASE_URL=\"https://plot.ly\";Plotly.newPlot(\"8d0c1deb-c5a0-422e-9fbe-d586234eb96d\", [{\"colorscale\": \"Jet\", \"z\": [[0.0036738520560612017, 0.9925268005445251, 0.9850937740818577, 0.9422478307142766, 0.8216392149187376, 0.729395987042234], [0.994581225140644, 0.0003015795730193716, 3.3976428607317576e-06, 7.782407204752063e-07, 1.8819788616671542e-07, 5.7100973013179036e-08], [0.0014225982586268447, 0.0013055752580087205, 0.00045035003776351456, 0.000649244523331022, 0.0008769497493433754, 0.0006224439042068541], [0.00014235665880285188, 0.003357018118591421, 0.00826360784149322, 0.03152925160990164, 0.09246166276818771, 0.11567938979364108], [8.822234884431881e-05, 0.001687117727248118, 0.00425189064907597, 0.01669269036371268, 0.05381867469096344, 0.10024374163355035], [9.138366473983298e-05, 0.0008215329320154694, 0.0019365920794841506, 0.008879798577449671, 0.03120290154739483, 0.05405798194632073]], \"type\": \"heatmap\"}], {\"plot_bgcolor\": \"#000\", \"paper_bgcolor\": \"#000\", \"width\": 300, \"title\": \"2 Blobs:Confidence after 3200 Iters\", \"yaxis\": {\"title\": \"Count Word\", \"tickcolor\": \"#FFF\", \"range\": [-0.5, 5.5], \"dtick\": 1}, \"height\": 300, \"titlefont\": {\"color\": \"#FFF\"}, \"xaxis\": {\"title\": \"Glimpses\", \"tickcolor\": \"#FFF\", \"range\": [-0.5, 5.5], \"dtick\": 1}, \"font\": {\"color\": \"#FFF\"}}, {\"linkText\": \"Export to plot.ly\", \"showLink\": true})});</script>"
      ]
     },
     "metadata": {},
     "output_type": "display_data"
    },
    {
     "data": {
      "application/vnd.plotly.v1+json": {
       "data": [
        {
         "colorscale": "Jet",
         "type": "heatmap",
         "z": [
          [
           0.00014205044199747468,
           0.9793975165020322,
           0.9615946700310265,
           0.8494904115174972,
           0.6197464049571961,
           0.42394008152084595
          ],
          [
           0.998548667047421,
           0.00019913173903311757,
           2.3034084983353627e-06,
           5.3358594451131e-07,
           3.7259644103113744e-08,
           7.240828335831418e-09
          ],
          [
           0.001265841072105569,
           0.0067928085598523485,
           0.0007170326507613313,
           0.0004917371785855968,
           0.00022541542282539083,
           0.00010847494083033836
          ],
          [
           3.0426768146487407e-05,
           0.006871769168178569,
           0.0093562299170646,
           0.021539063785507514,
           0.02877748967167258,
           0.024242530749077357
          ],
          [
           6.815188865685103e-06,
           0.005570166590194761,
           0.023846030326336577,
           0.10379036392827766,
           0.2796204398199166,
           0.4355520305827112
          ],
          [
           5.713061963625451e-06,
           0.001168102122964289,
           0.004483242047091716,
           0.024687391376176548,
           0.07162972348191313,
           0.11615641083475368
          ]
         ]
        }
       ],
       "layout": {
        "font": {
         "color": "#FFF"
        },
        "height": 300,
        "paper_bgcolor": "#000",
        "plot_bgcolor": "#000",
        "title": "2 Blobs:Confidence after 4800 Iters",
        "titlefont": {
         "color": "#FFF"
        },
        "width": 300,
        "xaxis": {
         "dtick": 1,
         "range": [
          -0.5,
          5.5
         ],
         "tickcolor": "#FFF",
         "title": "Glimpses"
        },
        "yaxis": {
         "dtick": 1,
         "range": [
          -0.5,
          5.5
         ],
         "tickcolor": "#FFF",
         "title": "Count Word"
        }
       }
      },
      "text/html": [
       "<div id=\"f45e8df2-ab10-40e3-89cf-f7a18898fee9\" style=\"height: 300px; width: 300px;\" class=\"plotly-graph-div\"></div><script type=\"text/javascript\">require([\"plotly\"], function(Plotly) { window.PLOTLYENV=window.PLOTLYENV || {};window.PLOTLYENV.BASE_URL=\"https://plot.ly\";Plotly.newPlot(\"f45e8df2-ab10-40e3-89cf-f7a18898fee9\", [{\"colorscale\": \"Jet\", \"z\": [[0.00014205044199747468, 0.9793975165020322, 0.9615946700310265, 0.8494904115174972, 0.6197464049571961, 0.42394008152084595], [0.998548667047421, 0.00019913173903311757, 2.3034084983353627e-06, 5.3358594451131e-07, 3.7259644103113744e-08, 7.240828335831418e-09], [0.001265841072105569, 0.0067928085598523485, 0.0007170326507613313, 0.0004917371785855968, 0.00022541542282539083, 0.00010847494083033836], [3.0426768146487407e-05, 0.006871769168178569, 0.0093562299170646, 0.021539063785507514, 0.02877748967167258, 0.024242530749077357], [6.815188865685103e-06, 0.005570166590194761, 0.023846030326336577, 0.10379036392827766, 0.2796204398199166, 0.4355520305827112], [5.713061963625451e-06, 0.001168102122964289, 0.004483242047091716, 0.024687391376176548, 0.07162972348191313, 0.11615641083475368]], \"type\": \"heatmap\"}], {\"plot_bgcolor\": \"#000\", \"paper_bgcolor\": \"#000\", \"width\": 300, \"title\": \"2 Blobs:Confidence after 4800 Iters\", \"yaxis\": {\"title\": \"Count Word\", \"tickcolor\": \"#FFF\", \"range\": [-0.5, 5.5], \"dtick\": 1}, \"height\": 300, \"titlefont\": {\"color\": \"#FFF\"}, \"xaxis\": {\"title\": \"Glimpses\", \"tickcolor\": \"#FFF\", \"range\": [-0.5, 5.5], \"dtick\": 1}, \"font\": {\"color\": \"#FFF\"}}, {\"linkText\": \"Export to plot.ly\", \"showLink\": true})});</script>"
      ],
      "text/vnd.plotly.v1+html": [
       "<div id=\"f45e8df2-ab10-40e3-89cf-f7a18898fee9\" style=\"height: 300px; width: 300px;\" class=\"plotly-graph-div\"></div><script type=\"text/javascript\">require([\"plotly\"], function(Plotly) { window.PLOTLYENV=window.PLOTLYENV || {};window.PLOTLYENV.BASE_URL=\"https://plot.ly\";Plotly.newPlot(\"f45e8df2-ab10-40e3-89cf-f7a18898fee9\", [{\"colorscale\": \"Jet\", \"z\": [[0.00014205044199747468, 0.9793975165020322, 0.9615946700310265, 0.8494904115174972, 0.6197464049571961, 0.42394008152084595], [0.998548667047421, 0.00019913173903311757, 2.3034084983353627e-06, 5.3358594451131e-07, 3.7259644103113744e-08, 7.240828335831418e-09], [0.001265841072105569, 0.0067928085598523485, 0.0007170326507613313, 0.0004917371785855968, 0.00022541542282539083, 0.00010847494083033836], [3.0426768146487407e-05, 0.006871769168178569, 0.0093562299170646, 0.021539063785507514, 0.02877748967167258, 0.024242530749077357], [6.815188865685103e-06, 0.005570166590194761, 0.023846030326336577, 0.10379036392827766, 0.2796204398199166, 0.4355520305827112], [5.713061963625451e-06, 0.001168102122964289, 0.004483242047091716, 0.024687391376176548, 0.07162972348191313, 0.11615641083475368]], \"type\": \"heatmap\"}], {\"plot_bgcolor\": \"#000\", \"paper_bgcolor\": \"#000\", \"width\": 300, \"title\": \"2 Blobs:Confidence after 4800 Iters\", \"yaxis\": {\"title\": \"Count Word\", \"tickcolor\": \"#FFF\", \"range\": [-0.5, 5.5], \"dtick\": 1}, \"height\": 300, \"titlefont\": {\"color\": \"#FFF\"}, \"xaxis\": {\"title\": \"Glimpses\", \"tickcolor\": \"#FFF\", \"range\": [-0.5, 5.5], \"dtick\": 1}, \"font\": {\"color\": \"#FFF\"}}, {\"linkText\": \"Export to plot.ly\", \"showLink\": true})});</script>"
      ]
     },
     "metadata": {},
     "output_type": "display_data"
    },
    {
     "data": {
      "application/vnd.plotly.v1+json": {
       "data": [
        {
         "colorscale": "Jet",
         "type": "heatmap",
         "z": [
          [
           2.0887740050657564e-05,
           0.9342648025250891,
           0.9766801855117243,
           0.8837304079380507,
           0.7429197440793112,
           0.5769515752894198
          ],
          [
           0.9997225752171567,
           0.0018313699162793681,
           1.2787552919835813e-06,
           9.515728263023027e-08,
           4.828054131767135e-08,
           2.3215245202173657e-08
          ],
          [
           0.00025430484761007177,
           0.05785030458464351,
           0.0018556282855722432,
           0.0007526786335200564,
           0.00033115673912163953,
           0.000248051543368241
          ],
          [
           1.2650322307145623e-06,
           0.005017129133543538,
           0.013760046601145779,
           0.041287276569276846,
           0.037799607169850265,
           0.03653312491024881
          ],
          [
           2.7860504367817846e-07,
           0.0008034986509231465,
           0.0060044629511543145,
           0.05017102586427933,
           0.12311387621198115,
           0.1807270892433492
          ],
          [
           2.15268491468119e-07,
           0.00023241785590768723,
           0.0016979231296767622,
           0.02405803356491879,
           0.09583506320642415,
           0.20553969773837766
          ]
         ]
        }
       ],
       "layout": {
        "font": {
         "color": "#FFF"
        },
        "height": 300,
        "paper_bgcolor": "#000",
        "plot_bgcolor": "#000",
        "title": "2 Blobs:Confidence after 6400 Iters",
        "titlefont": {
         "color": "#FFF"
        },
        "width": 300,
        "xaxis": {
         "dtick": 1,
         "range": [
          -0.5,
          5.5
         ],
         "tickcolor": "#FFF",
         "title": "Glimpses"
        },
        "yaxis": {
         "dtick": 1,
         "range": [
          -0.5,
          5.5
         ],
         "tickcolor": "#FFF",
         "title": "Count Word"
        }
       }
      },
      "text/html": [
       "<div id=\"5dba4a40-6d40-4798-b5bc-186b3361d37d\" style=\"height: 300px; width: 300px;\" class=\"plotly-graph-div\"></div><script type=\"text/javascript\">require([\"plotly\"], function(Plotly) { window.PLOTLYENV=window.PLOTLYENV || {};window.PLOTLYENV.BASE_URL=\"https://plot.ly\";Plotly.newPlot(\"5dba4a40-6d40-4798-b5bc-186b3361d37d\", [{\"colorscale\": \"Jet\", \"z\": [[2.0887740050657564e-05, 0.9342648025250891, 0.9766801855117243, 0.8837304079380507, 0.7429197440793112, 0.5769515752894198], [0.9997225752171567, 0.0018313699162793681, 1.2787552919835813e-06, 9.515728263023027e-08, 4.828054131767135e-08, 2.3215245202173657e-08], [0.00025430484761007177, 0.05785030458464351, 0.0018556282855722432, 0.0007526786335200564, 0.00033115673912163953, 0.000248051543368241], [1.2650322307145623e-06, 0.005017129133543538, 0.013760046601145779, 0.041287276569276846, 0.037799607169850265, 0.03653312491024881], [2.7860504367817846e-07, 0.0008034986509231465, 0.0060044629511543145, 0.05017102586427933, 0.12311387621198115, 0.1807270892433492], [2.15268491468119e-07, 0.00023241785590768723, 0.0016979231296767622, 0.02405803356491879, 0.09583506320642415, 0.20553969773837766]], \"type\": \"heatmap\"}], {\"plot_bgcolor\": \"#000\", \"paper_bgcolor\": \"#000\", \"width\": 300, \"title\": \"2 Blobs:Confidence after 6400 Iters\", \"yaxis\": {\"title\": \"Count Word\", \"tickcolor\": \"#FFF\", \"range\": [-0.5, 5.5], \"dtick\": 1}, \"height\": 300, \"titlefont\": {\"color\": \"#FFF\"}, \"xaxis\": {\"title\": \"Glimpses\", \"tickcolor\": \"#FFF\", \"range\": [-0.5, 5.5], \"dtick\": 1}, \"font\": {\"color\": \"#FFF\"}}, {\"linkText\": \"Export to plot.ly\", \"showLink\": true})});</script>"
      ],
      "text/vnd.plotly.v1+html": [
       "<div id=\"5dba4a40-6d40-4798-b5bc-186b3361d37d\" style=\"height: 300px; width: 300px;\" class=\"plotly-graph-div\"></div><script type=\"text/javascript\">require([\"plotly\"], function(Plotly) { window.PLOTLYENV=window.PLOTLYENV || {};window.PLOTLYENV.BASE_URL=\"https://plot.ly\";Plotly.newPlot(\"5dba4a40-6d40-4798-b5bc-186b3361d37d\", [{\"colorscale\": \"Jet\", \"z\": [[2.0887740050657564e-05, 0.9342648025250891, 0.9766801855117243, 0.8837304079380507, 0.7429197440793112, 0.5769515752894198], [0.9997225752171567, 0.0018313699162793681, 1.2787552919835813e-06, 9.515728263023027e-08, 4.828054131767135e-08, 2.3215245202173657e-08], [0.00025430484761007177, 0.05785030458464351, 0.0018556282855722432, 0.0007526786335200564, 0.00033115673912163953, 0.000248051543368241], [1.2650322307145623e-06, 0.005017129133543538, 0.013760046601145779, 0.041287276569276846, 0.037799607169850265, 0.03653312491024881], [2.7860504367817846e-07, 0.0008034986509231465, 0.0060044629511543145, 0.05017102586427933, 0.12311387621198115, 0.1807270892433492], [2.15268491468119e-07, 0.00023241785590768723, 0.0016979231296767622, 0.02405803356491879, 0.09583506320642415, 0.20553969773837766]], \"type\": \"heatmap\"}], {\"plot_bgcolor\": \"#000\", \"paper_bgcolor\": \"#000\", \"width\": 300, \"title\": \"2 Blobs:Confidence after 6400 Iters\", \"yaxis\": {\"title\": \"Count Word\", \"tickcolor\": \"#FFF\", \"range\": [-0.5, 5.5], \"dtick\": 1}, \"height\": 300, \"titlefont\": {\"color\": \"#FFF\"}, \"xaxis\": {\"title\": \"Glimpses\", \"tickcolor\": \"#FFF\", \"range\": [-0.5, 5.5], \"dtick\": 1}, \"font\": {\"color\": \"#FFF\"}}, {\"linkText\": \"Export to plot.ly\", \"showLink\": true})});</script>"
      ]
     },
     "metadata": {},
     "output_type": "display_data"
    },
    {
     "data": {
      "application/vnd.plotly.v1+json": {
       "data": [
        {
         "colorscale": "Jet",
         "type": "heatmap",
         "z": [
          [
           8.995520617048066e-06,
           0.961627119114686,
           0.8310801516484301,
           0.5972934614782839,
           0.4651095497255274,
           0.40695919230886096
          ],
          [
           0.9999623589122725,
           0.0006971846540430463,
           8.579174239045412e-07,
           1.1245179272012499e-07,
           3.8341161793270046e-08,
           2.618261815652708e-08
          ],
          [
           2.7932937054395818e-05,
           0.030679482061130737,
           0.001198818971016192,
           0.00017534556675530762,
           4.78536464099477e-05,
           2.6453885512440564e-05
          ],
          [
           9.447726598010008e-08,
           0.006060080943379744,
           0.14402510250351958,
           0.17886236236741182,
           0.06521821411081538,
           0.034744764941209094
          ],
          [
           6.257786185262538e-08,
           0.0007492017114228027,
           0.020943480549162428,
           0.17633302911754684,
           0.29394344399223293,
           0.289925645812773
          ],
          [
           1.087942535673189e-07,
           0.00018648461669380445,
           0.002751091360353175,
           0.047335212417923746,
           0.17568042526845587,
           0.2683434372273
          ]
         ]
        }
       ],
       "layout": {
        "font": {
         "color": "#FFF"
        },
        "height": 300,
        "paper_bgcolor": "#000",
        "plot_bgcolor": "#000",
        "title": "2 Blobs:Confidence after 9600 Iters",
        "titlefont": {
         "color": "#FFF"
        },
        "width": 300,
        "xaxis": {
         "dtick": 1,
         "range": [
          -0.5,
          5.5
         ],
         "tickcolor": "#FFF",
         "title": "Glimpses"
        },
        "yaxis": {
         "dtick": 1,
         "range": [
          -0.5,
          5.5
         ],
         "tickcolor": "#FFF",
         "title": "Count Word"
        }
       }
      },
      "text/html": [
       "<div id=\"daf4f11f-5032-4394-9e2f-184deaf81da4\" style=\"height: 300px; width: 300px;\" class=\"plotly-graph-div\"></div><script type=\"text/javascript\">require([\"plotly\"], function(Plotly) { window.PLOTLYENV=window.PLOTLYENV || {};window.PLOTLYENV.BASE_URL=\"https://plot.ly\";Plotly.newPlot(\"daf4f11f-5032-4394-9e2f-184deaf81da4\", [{\"colorscale\": \"Jet\", \"z\": [[8.995520617048066e-06, 0.961627119114686, 0.8310801516484301, 0.5972934614782839, 0.4651095497255274, 0.40695919230886096], [0.9999623589122725, 0.0006971846540430463, 8.579174239045412e-07, 1.1245179272012499e-07, 3.8341161793270046e-08, 2.618261815652708e-08], [2.7932937054395818e-05, 0.030679482061130737, 0.001198818971016192, 0.00017534556675530762, 4.78536464099477e-05, 2.6453885512440564e-05], [9.447726598010008e-08, 0.006060080943379744, 0.14402510250351958, 0.17886236236741182, 0.06521821411081538, 0.034744764941209094], [6.257786185262538e-08, 0.0007492017114228027, 0.020943480549162428, 0.17633302911754684, 0.29394344399223293, 0.289925645812773], [1.087942535673189e-07, 0.00018648461669380445, 0.002751091360353175, 0.047335212417923746, 0.17568042526845587, 0.2683434372273]], \"type\": \"heatmap\"}], {\"plot_bgcolor\": \"#000\", \"paper_bgcolor\": \"#000\", \"width\": 300, \"title\": \"2 Blobs:Confidence after 9600 Iters\", \"yaxis\": {\"title\": \"Count Word\", \"tickcolor\": \"#FFF\", \"range\": [-0.5, 5.5], \"dtick\": 1}, \"height\": 300, \"titlefont\": {\"color\": \"#FFF\"}, \"xaxis\": {\"title\": \"Glimpses\", \"tickcolor\": \"#FFF\", \"range\": [-0.5, 5.5], \"dtick\": 1}, \"font\": {\"color\": \"#FFF\"}}, {\"linkText\": \"Export to plot.ly\", \"showLink\": true})});</script>"
      ],
      "text/vnd.plotly.v1+html": [
       "<div id=\"daf4f11f-5032-4394-9e2f-184deaf81da4\" style=\"height: 300px; width: 300px;\" class=\"plotly-graph-div\"></div><script type=\"text/javascript\">require([\"plotly\"], function(Plotly) { window.PLOTLYENV=window.PLOTLYENV || {};window.PLOTLYENV.BASE_URL=\"https://plot.ly\";Plotly.newPlot(\"daf4f11f-5032-4394-9e2f-184deaf81da4\", [{\"colorscale\": \"Jet\", \"z\": [[8.995520617048066e-06, 0.961627119114686, 0.8310801516484301, 0.5972934614782839, 0.4651095497255274, 0.40695919230886096], [0.9999623589122725, 0.0006971846540430463, 8.579174239045412e-07, 1.1245179272012499e-07, 3.8341161793270046e-08, 2.618261815652708e-08], [2.7932937054395818e-05, 0.030679482061130737, 0.001198818971016192, 0.00017534556675530762, 4.78536464099477e-05, 2.6453885512440564e-05], [9.447726598010008e-08, 0.006060080943379744, 0.14402510250351958, 0.17886236236741182, 0.06521821411081538, 0.034744764941209094], [6.257786185262538e-08, 0.0007492017114228027, 0.020943480549162428, 0.17633302911754684, 0.29394344399223293, 0.289925645812773], [1.087942535673189e-07, 0.00018648461669380445, 0.002751091360353175, 0.047335212417923746, 0.17568042526845587, 0.2683434372273]], \"type\": \"heatmap\"}], {\"plot_bgcolor\": \"#000\", \"paper_bgcolor\": \"#000\", \"width\": 300, \"title\": \"2 Blobs:Confidence after 9600 Iters\", \"yaxis\": {\"title\": \"Count Word\", \"tickcolor\": \"#FFF\", \"range\": [-0.5, 5.5], \"dtick\": 1}, \"height\": 300, \"titlefont\": {\"color\": \"#FFF\"}, \"xaxis\": {\"title\": \"Glimpses\", \"tickcolor\": \"#FFF\", \"range\": [-0.5, 5.5], \"dtick\": 1}, \"font\": {\"color\": \"#FFF\"}}, {\"linkText\": \"Export to plot.ly\", \"showLink\": true})});</script>"
      ]
     },
     "metadata": {},
     "output_type": "display_data"
    },
    {
     "data": {
      "application/vnd.plotly.v1+json": {
       "data": [
        {
         "colorscale": "Jet",
         "type": "heatmap",
         "z": [
          [
           2.7711608933038988e-05,
           0.913553852939264,
           0.9690566904652976,
           0.9070635365777254,
           0.80287196669458,
           0.6730607883106925
          ],
          [
           0.9998489096866341,
           0.0014107777707337728,
           4.303119554667023e-06,
           1.9021943376092963e-06,
           2.566866050066744e-07,
           2.1911443370780203e-07
          ],
          [
           0.00012180719384942476,
           0.08316398779517456,
           0.0010023713509432959,
           0.00011376039629851498,
           3.366097269734641e-05,
           1.844806103697838e-05
          ],
          [
           1.8060840889659586e-07,
           0.0014238927425308616,
           0.023235779657013907,
           0.02489628038359935,
           0.010859259554267158,
           0.005724399223030202
          ],
          [
           1.995436081968974e-07,
           0.0002761102067747324,
           0.005521874116026287,
           0.04809800807343024,
           0.08619020561272249,
           0.09559501218901184
          ],
          [
           6.375080497227822e-07,
           0.0001708009409020428,
           0.0011784364729542657,
           0.019825957889896204,
           0.10004408304604588,
           0.2256005970156873
          ]
         ]
        }
       ],
       "layout": {
        "font": {
         "color": "#FFF"
        },
        "height": 300,
        "paper_bgcolor": "#000",
        "plot_bgcolor": "#000",
        "title": "2 Blobs:Confidence after 12800 Iters",
        "titlefont": {
         "color": "#FFF"
        },
        "width": 300,
        "xaxis": {
         "dtick": 1,
         "range": [
          -0.5,
          5.5
         ],
         "tickcolor": "#FFF",
         "title": "Glimpses"
        },
        "yaxis": {
         "dtick": 1,
         "range": [
          -0.5,
          5.5
         ],
         "tickcolor": "#FFF",
         "title": "Count Word"
        }
       }
      },
      "text/html": [
       "<div id=\"ada48437-e6b7-45c2-a3eb-f163752e801f\" style=\"height: 300px; width: 300px;\" class=\"plotly-graph-div\"></div><script type=\"text/javascript\">require([\"plotly\"], function(Plotly) { window.PLOTLYENV=window.PLOTLYENV || {};window.PLOTLYENV.BASE_URL=\"https://plot.ly\";Plotly.newPlot(\"ada48437-e6b7-45c2-a3eb-f163752e801f\", [{\"colorscale\": \"Jet\", \"z\": [[2.7711608933038988e-05, 0.913553852939264, 0.9690566904652976, 0.9070635365777254, 0.80287196669458, 0.6730607883106925], [0.9998489096866341, 0.0014107777707337728, 4.303119554667023e-06, 1.9021943376092963e-06, 2.566866050066744e-07, 2.1911443370780203e-07], [0.00012180719384942476, 0.08316398779517456, 0.0010023713509432959, 0.00011376039629851498, 3.366097269734641e-05, 1.844806103697838e-05], [1.8060840889659586e-07, 0.0014238927425308616, 0.023235779657013907, 0.02489628038359935, 0.010859259554267158, 0.005724399223030202], [1.995436081968974e-07, 0.0002761102067747324, 0.005521874116026287, 0.04809800807343024, 0.08619020561272249, 0.09559501218901184], [6.375080497227822e-07, 0.0001708009409020428, 0.0011784364729542657, 0.019825957889896204, 0.10004408304604588, 0.2256005970156873]], \"type\": \"heatmap\"}], {\"plot_bgcolor\": \"#000\", \"paper_bgcolor\": \"#000\", \"width\": 300, \"title\": \"2 Blobs:Confidence after 12800 Iters\", \"yaxis\": {\"title\": \"Count Word\", \"tickcolor\": \"#FFF\", \"range\": [-0.5, 5.5], \"dtick\": 1}, \"height\": 300, \"titlefont\": {\"color\": \"#FFF\"}, \"xaxis\": {\"title\": \"Glimpses\", \"tickcolor\": \"#FFF\", \"range\": [-0.5, 5.5], \"dtick\": 1}, \"font\": {\"color\": \"#FFF\"}}, {\"linkText\": \"Export to plot.ly\", \"showLink\": true})});</script>"
      ],
      "text/vnd.plotly.v1+html": [
       "<div id=\"ada48437-e6b7-45c2-a3eb-f163752e801f\" style=\"height: 300px; width: 300px;\" class=\"plotly-graph-div\"></div><script type=\"text/javascript\">require([\"plotly\"], function(Plotly) { window.PLOTLYENV=window.PLOTLYENV || {};window.PLOTLYENV.BASE_URL=\"https://plot.ly\";Plotly.newPlot(\"ada48437-e6b7-45c2-a3eb-f163752e801f\", [{\"colorscale\": \"Jet\", \"z\": [[2.7711608933038988e-05, 0.913553852939264, 0.9690566904652976, 0.9070635365777254, 0.80287196669458, 0.6730607883106925], [0.9998489096866341, 0.0014107777707337728, 4.303119554667023e-06, 1.9021943376092963e-06, 2.566866050066744e-07, 2.1911443370780203e-07], [0.00012180719384942476, 0.08316398779517456, 0.0010023713509432959, 0.00011376039629851498, 3.366097269734641e-05, 1.844806103697838e-05], [1.8060840889659586e-07, 0.0014238927425308616, 0.023235779657013907, 0.02489628038359935, 0.010859259554267158, 0.005724399223030202], [1.995436081968974e-07, 0.0002761102067747324, 0.005521874116026287, 0.04809800807343024, 0.08619020561272249, 0.09559501218901184], [6.375080497227822e-07, 0.0001708009409020428, 0.0011784364729542657, 0.019825957889896204, 0.10004408304604588, 0.2256005970156873]], \"type\": \"heatmap\"}], {\"plot_bgcolor\": \"#000\", \"paper_bgcolor\": \"#000\", \"width\": 300, \"title\": \"2 Blobs:Confidence after 12800 Iters\", \"yaxis\": {\"title\": \"Count Word\", \"tickcolor\": \"#FFF\", \"range\": [-0.5, 5.5], \"dtick\": 1}, \"height\": 300, \"titlefont\": {\"color\": \"#FFF\"}, \"xaxis\": {\"title\": \"Glimpses\", \"tickcolor\": \"#FFF\", \"range\": [-0.5, 5.5], \"dtick\": 1}, \"font\": {\"color\": \"#FFF\"}}, {\"linkText\": \"Export to plot.ly\", \"showLink\": true})});</script>"
      ]
     },
     "metadata": {},
     "output_type": "display_data"
    },
    {
     "data": {
      "application/vnd.plotly.v1+json": {
       "data": [
        {
         "colorscale": "Jet",
         "type": "heatmap",
         "z": [
          [
           7.5966180544591925e-06,
           0.5884961585029037,
           0.9802982148666511,
           0.8009848663510546,
           0.6604090426723805,
           0.613258315462418
          ],
          [
           0.9999662817950631,
           0.008587051994278281,
           1.2855938133414603e-06,
           2.4039043227401147e-06,
           5.1325727183514544e-06,
           3.91260476690511e-06
          ],
          [
           2.5201248712186762e-05,
           0.40218891140402474,
           0.00033406468192749333,
           8.19340033575506e-06,
           7.8416387155728e-06,
           1.1248002551636875e-05
          ],
          [
           1.0986186539483102e-08,
           0.000662621841027678,
           0.012279988513137038,
           0.0007916110740386359,
           0.00021562397973147267,
           0.00016791541837135357
          ],
          [
           3.348790114399161e-08,
           3.0078382210031784e-05,
           0.006558686953113486,
           0.15329458524685383,
           0.07568049001021351,
           0.03821834533566088
          ],
          [
           2.057424115866865e-07,
           3.447835030306314e-05,
           0.0005270294709751712,
           0.04491762527202596,
           0.26368116006954323,
           0.3483395525741613
          ]
         ]
        }
       ],
       "layout": {
        "font": {
         "color": "#FFF"
        },
        "height": 300,
        "paper_bgcolor": "#000",
        "plot_bgcolor": "#000",
        "title": "2 Blobs:Confidence after 19200 Iters",
        "titlefont": {
         "color": "#FFF"
        },
        "width": 300,
        "xaxis": {
         "dtick": 1,
         "range": [
          -0.5,
          5.5
         ],
         "tickcolor": "#FFF",
         "title": "Glimpses"
        },
        "yaxis": {
         "dtick": 1,
         "range": [
          -0.5,
          5.5
         ],
         "tickcolor": "#FFF",
         "title": "Count Word"
        }
       }
      },
      "text/html": [
       "<div id=\"e1b13b5e-ba91-4abd-8767-bef6a4098cf4\" style=\"height: 300px; width: 300px;\" class=\"plotly-graph-div\"></div><script type=\"text/javascript\">require([\"plotly\"], function(Plotly) { window.PLOTLYENV=window.PLOTLYENV || {};window.PLOTLYENV.BASE_URL=\"https://plot.ly\";Plotly.newPlot(\"e1b13b5e-ba91-4abd-8767-bef6a4098cf4\", [{\"colorscale\": \"Jet\", \"z\": [[7.5966180544591925e-06, 0.5884961585029037, 0.9802982148666511, 0.8009848663510546, 0.6604090426723805, 0.613258315462418], [0.9999662817950631, 0.008587051994278281, 1.2855938133414603e-06, 2.4039043227401147e-06, 5.1325727183514544e-06, 3.91260476690511e-06], [2.5201248712186762e-05, 0.40218891140402474, 0.00033406468192749333, 8.19340033575506e-06, 7.8416387155728e-06, 1.1248002551636875e-05], [1.0986186539483102e-08, 0.000662621841027678, 0.012279988513137038, 0.0007916110740386359, 0.00021562397973147267, 0.00016791541837135357], [3.348790114399161e-08, 3.0078382210031784e-05, 0.006558686953113486, 0.15329458524685383, 0.07568049001021351, 0.03821834533566088], [2.057424115866865e-07, 3.447835030306314e-05, 0.0005270294709751712, 0.04491762527202596, 0.26368116006954323, 0.3483395525741613]], \"type\": \"heatmap\"}], {\"plot_bgcolor\": \"#000\", \"paper_bgcolor\": \"#000\", \"width\": 300, \"title\": \"2 Blobs:Confidence after 19200 Iters\", \"yaxis\": {\"title\": \"Count Word\", \"tickcolor\": \"#FFF\", \"range\": [-0.5, 5.5], \"dtick\": 1}, \"height\": 300, \"titlefont\": {\"color\": \"#FFF\"}, \"xaxis\": {\"title\": \"Glimpses\", \"tickcolor\": \"#FFF\", \"range\": [-0.5, 5.5], \"dtick\": 1}, \"font\": {\"color\": \"#FFF\"}}, {\"linkText\": \"Export to plot.ly\", \"showLink\": true})});</script>"
      ],
      "text/vnd.plotly.v1+html": [
       "<div id=\"e1b13b5e-ba91-4abd-8767-bef6a4098cf4\" style=\"height: 300px; width: 300px;\" class=\"plotly-graph-div\"></div><script type=\"text/javascript\">require([\"plotly\"], function(Plotly) { window.PLOTLYENV=window.PLOTLYENV || {};window.PLOTLYENV.BASE_URL=\"https://plot.ly\";Plotly.newPlot(\"e1b13b5e-ba91-4abd-8767-bef6a4098cf4\", [{\"colorscale\": \"Jet\", \"z\": [[7.5966180544591925e-06, 0.5884961585029037, 0.9802982148666511, 0.8009848663510546, 0.6604090426723805, 0.613258315462418], [0.9999662817950631, 0.008587051994278281, 1.2855938133414603e-06, 2.4039043227401147e-06, 5.1325727183514544e-06, 3.91260476690511e-06], [2.5201248712186762e-05, 0.40218891140402474, 0.00033406468192749333, 8.19340033575506e-06, 7.8416387155728e-06, 1.1248002551636875e-05], [1.0986186539483102e-08, 0.000662621841027678, 0.012279988513137038, 0.0007916110740386359, 0.00021562397973147267, 0.00016791541837135357], [3.348790114399161e-08, 3.0078382210031784e-05, 0.006558686953113486, 0.15329458524685383, 0.07568049001021351, 0.03821834533566088], [2.057424115866865e-07, 3.447835030306314e-05, 0.0005270294709751712, 0.04491762527202596, 0.26368116006954323, 0.3483395525741613]], \"type\": \"heatmap\"}], {\"plot_bgcolor\": \"#000\", \"paper_bgcolor\": \"#000\", \"width\": 300, \"title\": \"2 Blobs:Confidence after 19200 Iters\", \"yaxis\": {\"title\": \"Count Word\", \"tickcolor\": \"#FFF\", \"range\": [-0.5, 5.5], \"dtick\": 1}, \"height\": 300, \"titlefont\": {\"color\": \"#FFF\"}, \"xaxis\": {\"title\": \"Glimpses\", \"tickcolor\": \"#FFF\", \"range\": [-0.5, 5.5], \"dtick\": 1}, \"font\": {\"color\": \"#FFF\"}}, {\"linkText\": \"Export to plot.ly\", \"showLink\": true})});</script>"
      ]
     },
     "metadata": {},
     "output_type": "display_data"
    },
    {
     "data": {
      "application/vnd.plotly.v1+json": {
       "data": [
        {
         "colorscale": "Jet",
         "type": "heatmap",
         "z": [
          [
           3.593573330444061e-05,
           0.9601474742491596,
           0.9981919116383136,
           0.9832875786273793,
           0.9576286683098755,
           0.9804512957946696
          ],
          [
           0.9999488201494062,
           0.000743751061858633,
           5.618690641858548e-06,
           0.00010544311588354461,
           0.0016044472798324152,
           0.0005454702262835363
          ],
          [
           1.3180855834042999e-05,
           0.03863719578361269,
           1.5911456992991078e-05,
           1.8080367024216609e-06,
           7.083090535663531e-06,
           1.8174469369963065e-05
          ],
          [
           2.8450833390931617e-08,
           0.0003632419998909979,
           0.0003715832348028374,
           4.005829749397982e-05,
           1.2949516557869378e-05,
           1.3902682359323032e-05
          ],
          [
           2.417603072241804e-07,
           5.827505556481715e-05,
           0.001177455286724676,
           0.009466703730681586,
           0.004146321908580029,
           0.001075129649153214
          ],
          [
           1.3057508307850801e-06,
           4.957027552505664e-05,
           0.0002370791851928339,
           0.007097910969330144,
           0.03660006626064672,
           0.01789552677814114
          ]
         ]
        }
       ],
       "layout": {
        "font": {
         "color": "#FFF"
        },
        "height": 300,
        "paper_bgcolor": "#000",
        "plot_bgcolor": "#000",
        "title": "2 Blobs:Confidence after 25600 Iters",
        "titlefont": {
         "color": "#FFF"
        },
        "width": 300,
        "xaxis": {
         "dtick": 1,
         "range": [
          -0.5,
          5.5
         ],
         "tickcolor": "#FFF",
         "title": "Glimpses"
        },
        "yaxis": {
         "dtick": 1,
         "range": [
          -0.5,
          5.5
         ],
         "tickcolor": "#FFF",
         "title": "Count Word"
        }
       }
      },
      "text/html": [
       "<div id=\"515b3e0c-298b-4b1a-8229-acc06e4bce09\" style=\"height: 300px; width: 300px;\" class=\"plotly-graph-div\"></div><script type=\"text/javascript\">require([\"plotly\"], function(Plotly) { window.PLOTLYENV=window.PLOTLYENV || {};window.PLOTLYENV.BASE_URL=\"https://plot.ly\";Plotly.newPlot(\"515b3e0c-298b-4b1a-8229-acc06e4bce09\", [{\"colorscale\": \"Jet\", \"z\": [[3.593573330444061e-05, 0.9601474742491596, 0.9981919116383136, 0.9832875786273793, 0.9576286683098755, 0.9804512957946696], [0.9999488201494062, 0.000743751061858633, 5.618690641858548e-06, 0.00010544311588354461, 0.0016044472798324152, 0.0005454702262835363], [1.3180855834042999e-05, 0.03863719578361269, 1.5911456992991078e-05, 1.8080367024216609e-06, 7.083090535663531e-06, 1.8174469369963065e-05], [2.8450833390931617e-08, 0.0003632419998909979, 0.0003715832348028374, 4.005829749397982e-05, 1.2949516557869378e-05, 1.3902682359323032e-05], [2.417603072241804e-07, 5.827505556481715e-05, 0.001177455286724676, 0.009466703730681586, 0.004146321908580029, 0.001075129649153214], [1.3057508307850801e-06, 4.957027552505664e-05, 0.0002370791851928339, 0.007097910969330144, 0.03660006626064672, 0.01789552677814114]], \"type\": \"heatmap\"}], {\"plot_bgcolor\": \"#000\", \"paper_bgcolor\": \"#000\", \"width\": 300, \"title\": \"2 Blobs:Confidence after 25600 Iters\", \"yaxis\": {\"title\": \"Count Word\", \"tickcolor\": \"#FFF\", \"range\": [-0.5, 5.5], \"dtick\": 1}, \"height\": 300, \"titlefont\": {\"color\": \"#FFF\"}, \"xaxis\": {\"title\": \"Glimpses\", \"tickcolor\": \"#FFF\", \"range\": [-0.5, 5.5], \"dtick\": 1}, \"font\": {\"color\": \"#FFF\"}}, {\"linkText\": \"Export to plot.ly\", \"showLink\": true})});</script>"
      ],
      "text/vnd.plotly.v1+html": [
       "<div id=\"515b3e0c-298b-4b1a-8229-acc06e4bce09\" style=\"height: 300px; width: 300px;\" class=\"plotly-graph-div\"></div><script type=\"text/javascript\">require([\"plotly\"], function(Plotly) { window.PLOTLYENV=window.PLOTLYENV || {};window.PLOTLYENV.BASE_URL=\"https://plot.ly\";Plotly.newPlot(\"515b3e0c-298b-4b1a-8229-acc06e4bce09\", [{\"colorscale\": \"Jet\", \"z\": [[3.593573330444061e-05, 0.9601474742491596, 0.9981919116383136, 0.9832875786273793, 0.9576286683098755, 0.9804512957946696], [0.9999488201494062, 0.000743751061858633, 5.618690641858548e-06, 0.00010544311588354461, 0.0016044472798324152, 0.0005454702262835363], [1.3180855834042999e-05, 0.03863719578361269, 1.5911456992991078e-05, 1.8080367024216609e-06, 7.083090535663531e-06, 1.8174469369963065e-05], [2.8450833390931617e-08, 0.0003632419998909979, 0.0003715832348028374, 4.005829749397982e-05, 1.2949516557869378e-05, 1.3902682359323032e-05], [2.417603072241804e-07, 5.827505556481715e-05, 0.001177455286724676, 0.009466703730681586, 0.004146321908580029, 0.001075129649153214], [1.3057508307850801e-06, 4.957027552505664e-05, 0.0002370791851928339, 0.007097910969330144, 0.03660006626064672, 0.01789552677814114]], \"type\": \"heatmap\"}], {\"plot_bgcolor\": \"#000\", \"paper_bgcolor\": \"#000\", \"width\": 300, \"title\": \"2 Blobs:Confidence after 25600 Iters\", \"yaxis\": {\"title\": \"Count Word\", \"tickcolor\": \"#FFF\", \"range\": [-0.5, 5.5], \"dtick\": 1}, \"height\": 300, \"titlefont\": {\"color\": \"#FFF\"}, \"xaxis\": {\"title\": \"Glimpses\", \"tickcolor\": \"#FFF\", \"range\": [-0.5, 5.5], \"dtick\": 1}, \"font\": {\"color\": \"#FFF\"}}, {\"linkText\": \"Export to plot.ly\", \"showLink\": true})});</script>"
      ]
     },
     "metadata": {},
     "output_type": "display_data"
    },
    {
     "data": {
      "application/vnd.plotly.v1+json": {
       "data": [
        {
         "colorscale": "Jet",
         "type": "heatmap",
         "z": [
          [
           9.671263715412505e-06,
           0.5478811401281538,
           0.9831764421874867,
           0.8820446452199009,
           0.7515354570280435,
           0.8909711858425127
          ],
          [
           0.9999651441323274,
           0.00039934104353347066,
           0.0003844595124184681,
           0.00030496955786319025,
           0.0026102073493327943,
           0.007664272043768973
          ],
          [
           2.338575622288112e-05,
           0.45051006522247,
           0.0001421582028920984,
           1.371899183493282e-05,
           5.3018966600593396e-05,
           0.0003553640143904183
          ],
          [
           2.4603131253895202e-08,
           0.0011516884600527475,
           0.01194633125564595,
           0.00024446093715739276,
           2.4184105562074504e-05,
           5.6137110111858225e-05
          ],
          [
           9.963963244631905e-08,
           2.6958046728483315e-05,
           0.0040705381841665165,
           0.08689213144455371,
           0.006545249246738935,
           0.0016029469149490545
          ],
          [
           1.026463541811747e-06,
           3.0163391819020997e-05,
           0.0002794031417536928,
           0.030499407681022068,
           0.23923123676169383,
           0.09934946399450632
          ]
         ]
        }
       ],
       "layout": {
        "font": {
         "color": "#FFF"
        },
        "height": 300,
        "paper_bgcolor": "#000",
        "plot_bgcolor": "#000",
        "title": "2 Blobs:Confidence after 38400 Iters",
        "titlefont": {
         "color": "#FFF"
        },
        "width": 300,
        "xaxis": {
         "dtick": 1,
         "range": [
          -0.5,
          5.5
         ],
         "tickcolor": "#FFF",
         "title": "Glimpses"
        },
        "yaxis": {
         "dtick": 1,
         "range": [
          -0.5,
          5.5
         ],
         "tickcolor": "#FFF",
         "title": "Count Word"
        }
       }
      },
      "text/html": [
       "<div id=\"dc683e2b-4998-4429-8b8c-ab905f93c5bf\" style=\"height: 300px; width: 300px;\" class=\"plotly-graph-div\"></div><script type=\"text/javascript\">require([\"plotly\"], function(Plotly) { window.PLOTLYENV=window.PLOTLYENV || {};window.PLOTLYENV.BASE_URL=\"https://plot.ly\";Plotly.newPlot(\"dc683e2b-4998-4429-8b8c-ab905f93c5bf\", [{\"colorscale\": \"Jet\", \"z\": [[9.671263715412505e-06, 0.5478811401281538, 0.9831764421874867, 0.8820446452199009, 0.7515354570280435, 0.8909711858425127], [0.9999651441323274, 0.00039934104353347066, 0.0003844595124184681, 0.00030496955786319025, 0.0026102073493327943, 0.007664272043768973], [2.338575622288112e-05, 0.45051006522247, 0.0001421582028920984, 1.371899183493282e-05, 5.3018966600593396e-05, 0.0003553640143904183], [2.4603131253895202e-08, 0.0011516884600527475, 0.01194633125564595, 0.00024446093715739276, 2.4184105562074504e-05, 5.6137110111858225e-05], [9.963963244631905e-08, 2.6958046728483315e-05, 0.0040705381841665165, 0.08689213144455371, 0.006545249246738935, 0.0016029469149490545], [1.026463541811747e-06, 3.0163391819020997e-05, 0.0002794031417536928, 0.030499407681022068, 0.23923123676169383, 0.09934946399450632]], \"type\": \"heatmap\"}], {\"plot_bgcolor\": \"#000\", \"paper_bgcolor\": \"#000\", \"width\": 300, \"title\": \"2 Blobs:Confidence after 38400 Iters\", \"yaxis\": {\"title\": \"Count Word\", \"tickcolor\": \"#FFF\", \"range\": [-0.5, 5.5], \"dtick\": 1}, \"height\": 300, \"titlefont\": {\"color\": \"#FFF\"}, \"xaxis\": {\"title\": \"Glimpses\", \"tickcolor\": \"#FFF\", \"range\": [-0.5, 5.5], \"dtick\": 1}, \"font\": {\"color\": \"#FFF\"}}, {\"linkText\": \"Export to plot.ly\", \"showLink\": true})});</script>"
      ],
      "text/vnd.plotly.v1+html": [
       "<div id=\"dc683e2b-4998-4429-8b8c-ab905f93c5bf\" style=\"height: 300px; width: 300px;\" class=\"plotly-graph-div\"></div><script type=\"text/javascript\">require([\"plotly\"], function(Plotly) { window.PLOTLYENV=window.PLOTLYENV || {};window.PLOTLYENV.BASE_URL=\"https://plot.ly\";Plotly.newPlot(\"dc683e2b-4998-4429-8b8c-ab905f93c5bf\", [{\"colorscale\": \"Jet\", \"z\": [[9.671263715412505e-06, 0.5478811401281538, 0.9831764421874867, 0.8820446452199009, 0.7515354570280435, 0.8909711858425127], [0.9999651441323274, 0.00039934104353347066, 0.0003844595124184681, 0.00030496955786319025, 0.0026102073493327943, 0.007664272043768973], [2.338575622288112e-05, 0.45051006522247, 0.0001421582028920984, 1.371899183493282e-05, 5.3018966600593396e-05, 0.0003553640143904183], [2.4603131253895202e-08, 0.0011516884600527475, 0.01194633125564595, 0.00024446093715739276, 2.4184105562074504e-05, 5.6137110111858225e-05], [9.963963244631905e-08, 2.6958046728483315e-05, 0.0040705381841665165, 0.08689213144455371, 0.006545249246738935, 0.0016029469149490545], [1.026463541811747e-06, 3.0163391819020997e-05, 0.0002794031417536928, 0.030499407681022068, 0.23923123676169383, 0.09934946399450632]], \"type\": \"heatmap\"}], {\"plot_bgcolor\": \"#000\", \"paper_bgcolor\": \"#000\", \"width\": 300, \"title\": \"2 Blobs:Confidence after 38400 Iters\", \"yaxis\": {\"title\": \"Count Word\", \"tickcolor\": \"#FFF\", \"range\": [-0.5, 5.5], \"dtick\": 1}, \"height\": 300, \"titlefont\": {\"color\": \"#FFF\"}, \"xaxis\": {\"title\": \"Glimpses\", \"tickcolor\": \"#FFF\", \"range\": [-0.5, 5.5], \"dtick\": 1}, \"font\": {\"color\": \"#FFF\"}}, {\"linkText\": \"Export to plot.ly\", \"showLink\": true})});</script>"
      ]
     },
     "metadata": {},
     "output_type": "display_data"
    },
    {
     "data": {
      "application/vnd.plotly.v1+json": {
       "data": [
        {
         "colorscale": "Jet",
         "type": "heatmap",
         "z": [
          [
           7.854837126857318e-06,
           0.40744506459634133,
           0.993599025794509,
           0.9904728825876921,
           0.9142833686991481,
           0.9801414254985313
          ],
          [
           0.9999885976996628,
           0.0004421548094501814,
           1.7329728115859424e-05,
           3.5206618415980955e-05,
           0.0004085878216101751,
           0.0005828721290869196
          ],
          [
           2.506410444809392e-06,
           0.5917699468066819,
           7.434022856266413e-05,
           2.8748713424142214e-06,
           1.955684694972079e-05,
           0.00011937573617002762
          ],
          [
           5.96864523331157e-09,
           0.00033083185870003265,
           0.006158231820389716,
           0.00019524399484661565,
           9.419196450410072e-06,
           2.4588481810034563e-05
          ],
          [
           2.07177929699121e-08,
           1.5600058758249024e-06,
           0.0001358464884369146,
           0.007177601242012587,
           0.0006124343833811628,
           4.734088205418619e-05
          ],
          [
           6.51124469093902e-07,
           1.0068190068947842e-05,
           1.4837913344358202e-05,
           0.002115799418038106,
           0.0846662280706151,
           0.019084009667393053
          ]
         ]
        }
       ],
       "layout": {
        "font": {
         "color": "#FFF"
        },
        "height": 300,
        "paper_bgcolor": "#000",
        "plot_bgcolor": "#000",
        "title": "2 Blobs:Confidence after 51200 Iters",
        "titlefont": {
         "color": "#FFF"
        },
        "width": 300,
        "xaxis": {
         "dtick": 1,
         "range": [
          -0.5,
          5.5
         ],
         "tickcolor": "#FFF",
         "title": "Glimpses"
        },
        "yaxis": {
         "dtick": 1,
         "range": [
          -0.5,
          5.5
         ],
         "tickcolor": "#FFF",
         "title": "Count Word"
        }
       }
      },
      "text/html": [
       "<div id=\"f4912d00-6286-4b22-bc1d-ccbddeead8c9\" style=\"height: 300px; width: 300px;\" class=\"plotly-graph-div\"></div><script type=\"text/javascript\">require([\"plotly\"], function(Plotly) { window.PLOTLYENV=window.PLOTLYENV || {};window.PLOTLYENV.BASE_URL=\"https://plot.ly\";Plotly.newPlot(\"f4912d00-6286-4b22-bc1d-ccbddeead8c9\", [{\"colorscale\": \"Jet\", \"z\": [[7.854837126857318e-06, 0.40744506459634133, 0.993599025794509, 0.9904728825876921, 0.9142833686991481, 0.9801414254985313], [0.9999885976996628, 0.0004421548094501814, 1.7329728115859424e-05, 3.5206618415980955e-05, 0.0004085878216101751, 0.0005828721290869196], [2.506410444809392e-06, 0.5917699468066819, 7.434022856266413e-05, 2.8748713424142214e-06, 1.955684694972079e-05, 0.00011937573617002762], [5.96864523331157e-09, 0.00033083185870003265, 0.006158231820389716, 0.00019524399484661565, 9.419196450410072e-06, 2.4588481810034563e-05], [2.07177929699121e-08, 1.5600058758249024e-06, 0.0001358464884369146, 0.007177601242012587, 0.0006124343833811628, 4.734088205418619e-05], [6.51124469093902e-07, 1.0068190068947842e-05, 1.4837913344358202e-05, 0.002115799418038106, 0.0846662280706151, 0.019084009667393053]], \"type\": \"heatmap\"}], {\"plot_bgcolor\": \"#000\", \"paper_bgcolor\": \"#000\", \"width\": 300, \"title\": \"2 Blobs:Confidence after 51200 Iters\", \"yaxis\": {\"title\": \"Count Word\", \"tickcolor\": \"#FFF\", \"range\": [-0.5, 5.5], \"dtick\": 1}, \"height\": 300, \"titlefont\": {\"color\": \"#FFF\"}, \"xaxis\": {\"title\": \"Glimpses\", \"tickcolor\": \"#FFF\", \"range\": [-0.5, 5.5], \"dtick\": 1}, \"font\": {\"color\": \"#FFF\"}}, {\"linkText\": \"Export to plot.ly\", \"showLink\": true})});</script>"
      ],
      "text/vnd.plotly.v1+html": [
       "<div id=\"f4912d00-6286-4b22-bc1d-ccbddeead8c9\" style=\"height: 300px; width: 300px;\" class=\"plotly-graph-div\"></div><script type=\"text/javascript\">require([\"plotly\"], function(Plotly) { window.PLOTLYENV=window.PLOTLYENV || {};window.PLOTLYENV.BASE_URL=\"https://plot.ly\";Plotly.newPlot(\"f4912d00-6286-4b22-bc1d-ccbddeead8c9\", [{\"colorscale\": \"Jet\", \"z\": [[7.854837126857318e-06, 0.40744506459634133, 0.993599025794509, 0.9904728825876921, 0.9142833686991481, 0.9801414254985313], [0.9999885976996628, 0.0004421548094501814, 1.7329728115859424e-05, 3.5206618415980955e-05, 0.0004085878216101751, 0.0005828721290869196], [2.506410444809392e-06, 0.5917699468066819, 7.434022856266413e-05, 2.8748713424142214e-06, 1.955684694972079e-05, 0.00011937573617002762], [5.96864523331157e-09, 0.00033083185870003265, 0.006158231820389716, 0.00019524399484661565, 9.419196450410072e-06, 2.4588481810034563e-05], [2.07177929699121e-08, 1.5600058758249024e-06, 0.0001358464884369146, 0.007177601242012587, 0.0006124343833811628, 4.734088205418619e-05], [6.51124469093902e-07, 1.0068190068947842e-05, 1.4837913344358202e-05, 0.002115799418038106, 0.0846662280706151, 0.019084009667393053]], \"type\": \"heatmap\"}], {\"plot_bgcolor\": \"#000\", \"paper_bgcolor\": \"#000\", \"width\": 300, \"title\": \"2 Blobs:Confidence after 51200 Iters\", \"yaxis\": {\"title\": \"Count Word\", \"tickcolor\": \"#FFF\", \"range\": [-0.5, 5.5], \"dtick\": 1}, \"height\": 300, \"titlefont\": {\"color\": \"#FFF\"}, \"xaxis\": {\"title\": \"Glimpses\", \"tickcolor\": \"#FFF\", \"range\": [-0.5, 5.5], \"dtick\": 1}, \"font\": {\"color\": \"#FFF\"}}, {\"linkText\": \"Export to plot.ly\", \"showLink\": true})});</script>"
      ]
     },
     "metadata": {},
     "output_type": "display_data"
    },
    {
     "data": {
      "application/vnd.plotly.v1+json": {
       "data": [
        {
         "colorscale": "Jet",
         "type": "heatmap",
         "z": [
          [
           1.3808645957533538e-05,
           0.28695478355052895,
           0.9295646067032873,
           0.9782629406869792,
           0.7327952925856651,
           0.9884873093859042
          ],
          [
           0.9999780888543699,
           3.382540047642919e-05,
           1.581110534584491e-06,
           3.9738227690331155e-06,
           0.0017877845703012996,
           0.0006778037554497758
          ],
          [
           5.8712684782707145e-06,
           0.7128361119018061,
           0.00022043989495214723,
           4.436022852280549e-06,
           2.4142669581927193e-05,
           0.0004626965553531969
          ],
          [
           1.1609529995716358e-08,
           0.00016937243854609448,
           0.07011768344021599,
           0.0002795205814063465,
           6.525819625877956e-06,
           5.707143067099482e-05
          ],
          [
           3.6743930719628524e-08,
           8.41999670578757e-07,
           8.826255628320337e-05,
           0.02004750158220733,
           0.000633933118774909,
           3.968820015280101e-05
          ],
          [
           1.7160854169905216e-06,
           4.591683511602255e-06,
           6.958831143767402e-06,
           0.0014011590206139488,
           0.26475183948469877,
           0.010274952490350042
          ]
         ]
        }
       ],
       "layout": {
        "font": {
         "color": "#FFF"
        },
        "height": 300,
        "paper_bgcolor": "#000",
        "plot_bgcolor": "#000",
        "title": "2 Blobs:Confidence after 76800 Iters",
        "titlefont": {
         "color": "#FFF"
        },
        "width": 300,
        "xaxis": {
         "dtick": 1,
         "range": [
          -0.5,
          5.5
         ],
         "tickcolor": "#FFF",
         "title": "Glimpses"
        },
        "yaxis": {
         "dtick": 1,
         "range": [
          -0.5,
          5.5
         ],
         "tickcolor": "#FFF",
         "title": "Count Word"
        }
       }
      },
      "text/html": [
       "<div id=\"19a73624-f45c-4f67-a754-e6959b8a0920\" style=\"height: 300px; width: 300px;\" class=\"plotly-graph-div\"></div><script type=\"text/javascript\">require([\"plotly\"], function(Plotly) { window.PLOTLYENV=window.PLOTLYENV || {};window.PLOTLYENV.BASE_URL=\"https://plot.ly\";Plotly.newPlot(\"19a73624-f45c-4f67-a754-e6959b8a0920\", [{\"colorscale\": \"Jet\", \"z\": [[1.3808645957533538e-05, 0.28695478355052895, 0.9295646067032873, 0.9782629406869792, 0.7327952925856651, 0.9884873093859042], [0.9999780888543699, 3.382540047642919e-05, 1.581110534584491e-06, 3.9738227690331155e-06, 0.0017877845703012996, 0.0006778037554497758], [5.8712684782707145e-06, 0.7128361119018061, 0.00022043989495214723, 4.436022852280549e-06, 2.4142669581927193e-05, 0.0004626965553531969], [1.1609529995716358e-08, 0.00016937243854609448, 0.07011768344021599, 0.0002795205814063465, 6.525819625877956e-06, 5.707143067099482e-05], [3.6743930719628524e-08, 8.41999670578757e-07, 8.826255628320337e-05, 0.02004750158220733, 0.000633933118774909, 3.968820015280101e-05], [1.7160854169905216e-06, 4.591683511602255e-06, 6.958831143767402e-06, 0.0014011590206139488, 0.26475183948469877, 0.010274952490350042]], \"type\": \"heatmap\"}], {\"plot_bgcolor\": \"#000\", \"paper_bgcolor\": \"#000\", \"width\": 300, \"title\": \"2 Blobs:Confidence after 76800 Iters\", \"yaxis\": {\"title\": \"Count Word\", \"tickcolor\": \"#FFF\", \"range\": [-0.5, 5.5], \"dtick\": 1}, \"height\": 300, \"titlefont\": {\"color\": \"#FFF\"}, \"xaxis\": {\"title\": \"Glimpses\", \"tickcolor\": \"#FFF\", \"range\": [-0.5, 5.5], \"dtick\": 1}, \"font\": {\"color\": \"#FFF\"}}, {\"linkText\": \"Export to plot.ly\", \"showLink\": true})});</script>"
      ],
      "text/vnd.plotly.v1+html": [
       "<div id=\"19a73624-f45c-4f67-a754-e6959b8a0920\" style=\"height: 300px; width: 300px;\" class=\"plotly-graph-div\"></div><script type=\"text/javascript\">require([\"plotly\"], function(Plotly) { window.PLOTLYENV=window.PLOTLYENV || {};window.PLOTLYENV.BASE_URL=\"https://plot.ly\";Plotly.newPlot(\"19a73624-f45c-4f67-a754-e6959b8a0920\", [{\"colorscale\": \"Jet\", \"z\": [[1.3808645957533538e-05, 0.28695478355052895, 0.9295646067032873, 0.9782629406869792, 0.7327952925856651, 0.9884873093859042], [0.9999780888543699, 3.382540047642919e-05, 1.581110534584491e-06, 3.9738227690331155e-06, 0.0017877845703012996, 0.0006778037554497758], [5.8712684782707145e-06, 0.7128361119018061, 0.00022043989495214723, 4.436022852280549e-06, 2.4142669581927193e-05, 0.0004626965553531969], [1.1609529995716358e-08, 0.00016937243854609448, 0.07011768344021599, 0.0002795205814063465, 6.525819625877956e-06, 5.707143067099482e-05], [3.6743930719628524e-08, 8.41999670578757e-07, 8.826255628320337e-05, 0.02004750158220733, 0.000633933118774909, 3.968820015280101e-05], [1.7160854169905216e-06, 4.591683511602255e-06, 6.958831143767402e-06, 0.0014011590206139488, 0.26475183948469877, 0.010274952490350042]], \"type\": \"heatmap\"}], {\"plot_bgcolor\": \"#000\", \"paper_bgcolor\": \"#000\", \"width\": 300, \"title\": \"2 Blobs:Confidence after 76800 Iters\", \"yaxis\": {\"title\": \"Count Word\", \"tickcolor\": \"#FFF\", \"range\": [-0.5, 5.5], \"dtick\": 1}, \"height\": 300, \"titlefont\": {\"color\": \"#FFF\"}, \"xaxis\": {\"title\": \"Glimpses\", \"tickcolor\": \"#FFF\", \"range\": [-0.5, 5.5], \"dtick\": 1}, \"font\": {\"color\": \"#FFF\"}}, {\"linkText\": \"Export to plot.ly\", \"showLink\": true})});</script>"
      ]
     },
     "metadata": {},
     "output_type": "display_data"
    },
    {
     "data": {
      "application/vnd.plotly.v1+json": {
       "data": [
        {
         "colorscale": "Jet",
         "type": "heatmap",
         "z": [
          [
           2.599790140653234e-05,
           0.3968467782406472,
           0.6508306843389284,
           0.9268710990620997,
           0.7131140445046283,
           0.9939453293627308
          ],
          [
           0.9999483912646712,
           3.15236747223802e-05,
           1.089412785070759e-08,
           4.5151395433180194e-05,
           0.0006426194260908649,
           3.970420792204503e-06
          ],
          [
           2.0815343191793926e-05,
           0.6006774880123688,
           0.0002160254876055748,
           5.908772059675305e-07,
           3.388166696623448e-05,
           0.00025452668584266536
          ],
          [
           4.6289710004669864e-08,
           0.0024361506314405255,
           0.34877437884383045,
           0.00022543486940881835,
           6.459736950967217e-06,
           5.414667834283898e-05
          ],
          [
           5.6426348679204873e-08,
           1.1972328559750694e-06,
           0.0001740747299983985,
           0.06808792113087536,
           0.00029930654716067457,
           1.824938048205632e-05
          ],
          [
           4.054086242358251e-06,
           6.219818281221009e-06,
           4.1747224470140445e-06,
           0.004769150341031337,
           0.28590301735573304,
           0.0057231450948986825
          ]
         ]
        }
       ],
       "layout": {
        "font": {
         "color": "#FFF"
        },
        "height": 300,
        "paper_bgcolor": "#000",
        "plot_bgcolor": "#000",
        "title": "2 Blobs:Confidence after 102400 Iters",
        "titlefont": {
         "color": "#FFF"
        },
        "width": 300,
        "xaxis": {
         "dtick": 1,
         "range": [
          -0.5,
          5.5
         ],
         "tickcolor": "#FFF",
         "title": "Glimpses"
        },
        "yaxis": {
         "dtick": 1,
         "range": [
          -0.5,
          5.5
         ],
         "tickcolor": "#FFF",
         "title": "Count Word"
        }
       }
      },
      "text/html": [
       "<div id=\"ebec8bc7-583c-44ed-ad74-794db922aabf\" style=\"height: 300px; width: 300px;\" class=\"plotly-graph-div\"></div><script type=\"text/javascript\">require([\"plotly\"], function(Plotly) { window.PLOTLYENV=window.PLOTLYENV || {};window.PLOTLYENV.BASE_URL=\"https://plot.ly\";Plotly.newPlot(\"ebec8bc7-583c-44ed-ad74-794db922aabf\", [{\"colorscale\": \"Jet\", \"z\": [[2.599790140653234e-05, 0.3968467782406472, 0.6508306843389284, 0.9268710990620997, 0.7131140445046283, 0.9939453293627308], [0.9999483912646712, 3.15236747223802e-05, 1.089412785070759e-08, 4.5151395433180194e-05, 0.0006426194260908649, 3.970420792204503e-06], [2.0815343191793926e-05, 0.6006774880123688, 0.0002160254876055748, 5.908772059675305e-07, 3.388166696623448e-05, 0.00025452668584266536], [4.6289710004669864e-08, 0.0024361506314405255, 0.34877437884383045, 0.00022543486940881835, 6.459736950967217e-06, 5.414667834283898e-05], [5.6426348679204873e-08, 1.1972328559750694e-06, 0.0001740747299983985, 0.06808792113087536, 0.00029930654716067457, 1.824938048205632e-05], [4.054086242358251e-06, 6.219818281221009e-06, 4.1747224470140445e-06, 0.004769150341031337, 0.28590301735573304, 0.0057231450948986825]], \"type\": \"heatmap\"}], {\"plot_bgcolor\": \"#000\", \"paper_bgcolor\": \"#000\", \"width\": 300, \"title\": \"2 Blobs:Confidence after 102400 Iters\", \"yaxis\": {\"title\": \"Count Word\", \"tickcolor\": \"#FFF\", \"range\": [-0.5, 5.5], \"dtick\": 1}, \"height\": 300, \"titlefont\": {\"color\": \"#FFF\"}, \"xaxis\": {\"title\": \"Glimpses\", \"tickcolor\": \"#FFF\", \"range\": [-0.5, 5.5], \"dtick\": 1}, \"font\": {\"color\": \"#FFF\"}}, {\"linkText\": \"Export to plot.ly\", \"showLink\": true})});</script>"
      ],
      "text/vnd.plotly.v1+html": [
       "<div id=\"ebec8bc7-583c-44ed-ad74-794db922aabf\" style=\"height: 300px; width: 300px;\" class=\"plotly-graph-div\"></div><script type=\"text/javascript\">require([\"plotly\"], function(Plotly) { window.PLOTLYENV=window.PLOTLYENV || {};window.PLOTLYENV.BASE_URL=\"https://plot.ly\";Plotly.newPlot(\"ebec8bc7-583c-44ed-ad74-794db922aabf\", [{\"colorscale\": \"Jet\", \"z\": [[2.599790140653234e-05, 0.3968467782406472, 0.6508306843389284, 0.9268710990620997, 0.7131140445046283, 0.9939453293627308], [0.9999483912646712, 3.15236747223802e-05, 1.089412785070759e-08, 4.5151395433180194e-05, 0.0006426194260908649, 3.970420792204503e-06], [2.0815343191793926e-05, 0.6006774880123688, 0.0002160254876055748, 5.908772059675305e-07, 3.388166696623448e-05, 0.00025452668584266536], [4.6289710004669864e-08, 0.0024361506314405255, 0.34877437884383045, 0.00022543486940881835, 6.459736950967217e-06, 5.414667834283898e-05], [5.6426348679204873e-08, 1.1972328559750694e-06, 0.0001740747299983985, 0.06808792113087536, 0.00029930654716067457, 1.824938048205632e-05], [4.054086242358251e-06, 6.219818281221009e-06, 4.1747224470140445e-06, 0.004769150341031337, 0.28590301735573304, 0.0057231450948986825]], \"type\": \"heatmap\"}], {\"plot_bgcolor\": \"#000\", \"paper_bgcolor\": \"#000\", \"width\": 300, \"title\": \"2 Blobs:Confidence after 102400 Iters\", \"yaxis\": {\"title\": \"Count Word\", \"tickcolor\": \"#FFF\", \"range\": [-0.5, 5.5], \"dtick\": 1}, \"height\": 300, \"titlefont\": {\"color\": \"#FFF\"}, \"xaxis\": {\"title\": \"Glimpses\", \"tickcolor\": \"#FFF\", \"range\": [-0.5, 5.5], \"dtick\": 1}, \"font\": {\"color\": \"#FFF\"}}, {\"linkText\": \"Export to plot.ly\", \"showLink\": true})});</script>"
      ]
     },
     "metadata": {},
     "output_type": "display_data"
    },
    {
     "data": {
      "application/vnd.plotly.v1+json": {
       "data": [
        {
         "colorscale": "Jet",
         "type": "heatmap",
         "z": [
          [
           3.6488151152686464e-05,
           0.17648981707923692,
           0.51010030490728,
           0.9314547627386714,
           0.9800748599652815,
           0.993749661573497
          ],
          [
           0.9999390287892582,
           1.2257908894884816e-06,
           1.4958712803862431e-09,
           3.809352191098601e-07,
           4.719432298572381e-05,
           1.1400950122835972e-05
          ],
          [
           2.0627155741215742e-05,
           0.8231622828715811,
           0.00017293438191145805,
           2.683812251283824e-07,
           1.4334686709574369e-06,
           3.7093027975159647e-06
          ],
          [
           4.976283767579079e-08,
           0.00034340850963650077,
           0.48951569958947155,
           0.00032714465097002726,
           6.276062114651684e-06,
           5.076582640941876e-06
          ],
          [
           1.4136599086682452e-07,
           2.2157786977541576e-06,
           0.00020982680897758694,
           0.0679739978347826,
           0.004219776217353085,
           9.82244690241255e-05
          ],
          [
           3.0875906186716712e-06,
           4.541041679934584e-07,
           6.610872960594365e-07,
           0.00024287835514685247,
           0.015649858188920996,
           0.006131336868974636
          ]
         ]
        }
       ],
       "layout": {
        "font": {
         "color": "#FFF"
        },
        "height": 300,
        "paper_bgcolor": "#000",
        "plot_bgcolor": "#000",
        "title": "2 Blobs:Confidence after 153600 Iters",
        "titlefont": {
         "color": "#FFF"
        },
        "width": 300,
        "xaxis": {
         "dtick": 1,
         "range": [
          -0.5,
          5.5
         ],
         "tickcolor": "#FFF",
         "title": "Glimpses"
        },
        "yaxis": {
         "dtick": 1,
         "range": [
          -0.5,
          5.5
         ],
         "tickcolor": "#FFF",
         "title": "Count Word"
        }
       }
      },
      "text/html": [
       "<div id=\"4acd4c99-4bcc-4c62-8415-c5410d1f9ac8\" style=\"height: 300px; width: 300px;\" class=\"plotly-graph-div\"></div><script type=\"text/javascript\">require([\"plotly\"], function(Plotly) { window.PLOTLYENV=window.PLOTLYENV || {};window.PLOTLYENV.BASE_URL=\"https://plot.ly\";Plotly.newPlot(\"4acd4c99-4bcc-4c62-8415-c5410d1f9ac8\", [{\"colorscale\": \"Jet\", \"z\": [[3.6488151152686464e-05, 0.17648981707923692, 0.51010030490728, 0.9314547627386714, 0.9800748599652815, 0.993749661573497], [0.9999390287892582, 1.2257908894884816e-06, 1.4958712803862431e-09, 3.809352191098601e-07, 4.719432298572381e-05, 1.1400950122835972e-05], [2.0627155741215742e-05, 0.8231622828715811, 0.00017293438191145805, 2.683812251283824e-07, 1.4334686709574369e-06, 3.7093027975159647e-06], [4.976283767579079e-08, 0.00034340850963650077, 0.48951569958947155, 0.00032714465097002726, 6.276062114651684e-06, 5.076582640941876e-06], [1.4136599086682452e-07, 2.2157786977541576e-06, 0.00020982680897758694, 0.0679739978347826, 0.004219776217353085, 9.82244690241255e-05], [3.0875906186716712e-06, 4.541041679934584e-07, 6.610872960594365e-07, 0.00024287835514685247, 0.015649858188920996, 0.006131336868974636]], \"type\": \"heatmap\"}], {\"plot_bgcolor\": \"#000\", \"paper_bgcolor\": \"#000\", \"width\": 300, \"title\": \"2 Blobs:Confidence after 153600 Iters\", \"yaxis\": {\"title\": \"Count Word\", \"tickcolor\": \"#FFF\", \"range\": [-0.5, 5.5], \"dtick\": 1}, \"height\": 300, \"titlefont\": {\"color\": \"#FFF\"}, \"xaxis\": {\"title\": \"Glimpses\", \"tickcolor\": \"#FFF\", \"range\": [-0.5, 5.5], \"dtick\": 1}, \"font\": {\"color\": \"#FFF\"}}, {\"linkText\": \"Export to plot.ly\", \"showLink\": true})});</script>"
      ],
      "text/vnd.plotly.v1+html": [
       "<div id=\"4acd4c99-4bcc-4c62-8415-c5410d1f9ac8\" style=\"height: 300px; width: 300px;\" class=\"plotly-graph-div\"></div><script type=\"text/javascript\">require([\"plotly\"], function(Plotly) { window.PLOTLYENV=window.PLOTLYENV || {};window.PLOTLYENV.BASE_URL=\"https://plot.ly\";Plotly.newPlot(\"4acd4c99-4bcc-4c62-8415-c5410d1f9ac8\", [{\"colorscale\": \"Jet\", \"z\": [[3.6488151152686464e-05, 0.17648981707923692, 0.51010030490728, 0.9314547627386714, 0.9800748599652815, 0.993749661573497], [0.9999390287892582, 1.2257908894884816e-06, 1.4958712803862431e-09, 3.809352191098601e-07, 4.719432298572381e-05, 1.1400950122835972e-05], [2.0627155741215742e-05, 0.8231622828715811, 0.00017293438191145805, 2.683812251283824e-07, 1.4334686709574369e-06, 3.7093027975159647e-06], [4.976283767579079e-08, 0.00034340850963650077, 0.48951569958947155, 0.00032714465097002726, 6.276062114651684e-06, 5.076582640941876e-06], [1.4136599086682452e-07, 2.2157786977541576e-06, 0.00020982680897758694, 0.0679739978347826, 0.004219776217353085, 9.82244690241255e-05], [3.0875906186716712e-06, 4.541041679934584e-07, 6.610872960594365e-07, 0.00024287835514685247, 0.015649858188920996, 0.006131336868974636]], \"type\": \"heatmap\"}], {\"plot_bgcolor\": \"#000\", \"paper_bgcolor\": \"#000\", \"width\": 300, \"title\": \"2 Blobs:Confidence after 153600 Iters\", \"yaxis\": {\"title\": \"Count Word\", \"tickcolor\": \"#FFF\", \"range\": [-0.5, 5.5], \"dtick\": 1}, \"height\": 300, \"titlefont\": {\"color\": \"#FFF\"}, \"xaxis\": {\"title\": \"Glimpses\", \"tickcolor\": \"#FFF\", \"range\": [-0.5, 5.5], \"dtick\": 1}, \"font\": {\"color\": \"#FFF\"}}, {\"linkText\": \"Export to plot.ly\", \"showLink\": true})});</script>"
      ]
     },
     "metadata": {},
     "output_type": "display_data"
    },
    {
     "data": {
      "application/vnd.plotly.v1+json": {
       "data": [
        {
         "colorscale": "Jet",
         "type": "heatmap",
         "z": [
          [
           1.0122740432932002e-05,
           0.2727616423624312,
           0.405339823160584,
           0.962395212394189,
           0.9728851859195802,
           0.9984824023704991
          ],
          [
           0.9999752298792097,
           0.00018215703731195063,
           7.392428693893476e-09,
           3.674945163578537e-06,
           0.00018995180495865108,
           2.569582047439479e-06
          ],
          [
           1.0679869995009979e-05,
           0.7269022759286354,
           0.00045342066985036474,
           5.353292519171808e-07,
           6.22109965219071e-06,
           7.811216941974387e-05
          ],
          [
           1.2160818198042942e-08,
           0.00014542028623384506,
           0.5941749798937132,
           0.0002917227520990923,
           1.3531316202738895e-06,
           5.309575409099465e-06
          ],
          [
           4.6682161022163586e-08,
           9.087348553432438e-07,
           3.104323671914254e-05,
           0.037120487067414026,
           0.00012143263358492405,
           6.966701587541251e-07
          ],
          [
           3.4871236068519037e-06,
           7.188879291368605e-06,
           3.216974460802659e-07,
           0.00018793522658712737,
           0.026795433816198113,
           0.001430509958154921
          ]
         ]
        }
       ],
       "layout": {
        "font": {
         "color": "#FFF"
        },
        "height": 300,
        "paper_bgcolor": "#000",
        "plot_bgcolor": "#000",
        "title": "2 Blobs:Confidence after 204800 Iters",
        "titlefont": {
         "color": "#FFF"
        },
        "width": 300,
        "xaxis": {
         "dtick": 1,
         "range": [
          -0.5,
          5.5
         ],
         "tickcolor": "#FFF",
         "title": "Glimpses"
        },
        "yaxis": {
         "dtick": 1,
         "range": [
          -0.5,
          5.5
         ],
         "tickcolor": "#FFF",
         "title": "Count Word"
        }
       }
      },
      "text/html": [
       "<div id=\"0145e12e-28f2-4f3d-80b5-958574f20d90\" style=\"height: 300px; width: 300px;\" class=\"plotly-graph-div\"></div><script type=\"text/javascript\">require([\"plotly\"], function(Plotly) { window.PLOTLYENV=window.PLOTLYENV || {};window.PLOTLYENV.BASE_URL=\"https://plot.ly\";Plotly.newPlot(\"0145e12e-28f2-4f3d-80b5-958574f20d90\", [{\"colorscale\": \"Jet\", \"z\": [[1.0122740432932002e-05, 0.2727616423624312, 0.405339823160584, 0.962395212394189, 0.9728851859195802, 0.9984824023704991], [0.9999752298792097, 0.00018215703731195063, 7.392428693893476e-09, 3.674945163578537e-06, 0.00018995180495865108, 2.569582047439479e-06], [1.0679869995009979e-05, 0.7269022759286354, 0.00045342066985036474, 5.353292519171808e-07, 6.22109965219071e-06, 7.811216941974387e-05], [1.2160818198042942e-08, 0.00014542028623384506, 0.5941749798937132, 0.0002917227520990923, 1.3531316202738895e-06, 5.309575409099465e-06], [4.6682161022163586e-08, 9.087348553432438e-07, 3.104323671914254e-05, 0.037120487067414026, 0.00012143263358492405, 6.966701587541251e-07], [3.4871236068519037e-06, 7.188879291368605e-06, 3.216974460802659e-07, 0.00018793522658712737, 0.026795433816198113, 0.001430509958154921]], \"type\": \"heatmap\"}], {\"plot_bgcolor\": \"#000\", \"paper_bgcolor\": \"#000\", \"width\": 300, \"title\": \"2 Blobs:Confidence after 204800 Iters\", \"yaxis\": {\"title\": \"Count Word\", \"tickcolor\": \"#FFF\", \"range\": [-0.5, 5.5], \"dtick\": 1}, \"height\": 300, \"titlefont\": {\"color\": \"#FFF\"}, \"xaxis\": {\"title\": \"Glimpses\", \"tickcolor\": \"#FFF\", \"range\": [-0.5, 5.5], \"dtick\": 1}, \"font\": {\"color\": \"#FFF\"}}, {\"linkText\": \"Export to plot.ly\", \"showLink\": true})});</script>"
      ],
      "text/vnd.plotly.v1+html": [
       "<div id=\"0145e12e-28f2-4f3d-80b5-958574f20d90\" style=\"height: 300px; width: 300px;\" class=\"plotly-graph-div\"></div><script type=\"text/javascript\">require([\"plotly\"], function(Plotly) { window.PLOTLYENV=window.PLOTLYENV || {};window.PLOTLYENV.BASE_URL=\"https://plot.ly\";Plotly.newPlot(\"0145e12e-28f2-4f3d-80b5-958574f20d90\", [{\"colorscale\": \"Jet\", \"z\": [[1.0122740432932002e-05, 0.2727616423624312, 0.405339823160584, 0.962395212394189, 0.9728851859195802, 0.9984824023704991], [0.9999752298792097, 0.00018215703731195063, 7.392428693893476e-09, 3.674945163578537e-06, 0.00018995180495865108, 2.569582047439479e-06], [1.0679869995009979e-05, 0.7269022759286354, 0.00045342066985036474, 5.353292519171808e-07, 6.22109965219071e-06, 7.811216941974387e-05], [1.2160818198042942e-08, 0.00014542028623384506, 0.5941749798937132, 0.0002917227520990923, 1.3531316202738895e-06, 5.309575409099465e-06], [4.6682161022163586e-08, 9.087348553432438e-07, 3.104323671914254e-05, 0.037120487067414026, 0.00012143263358492405, 6.966701587541251e-07], [3.4871236068519037e-06, 7.188879291368605e-06, 3.216974460802659e-07, 0.00018793522658712737, 0.026795433816198113, 0.001430509958154921]], \"type\": \"heatmap\"}], {\"plot_bgcolor\": \"#000\", \"paper_bgcolor\": \"#000\", \"width\": 300, \"title\": \"2 Blobs:Confidence after 204800 Iters\", \"yaxis\": {\"title\": \"Count Word\", \"tickcolor\": \"#FFF\", \"range\": [-0.5, 5.5], \"dtick\": 1}, \"height\": 300, \"titlefont\": {\"color\": \"#FFF\"}, \"xaxis\": {\"title\": \"Glimpses\", \"tickcolor\": \"#FFF\", \"range\": [-0.5, 5.5], \"dtick\": 1}, \"font\": {\"color\": \"#FFF\"}}, {\"linkText\": \"Export to plot.ly\", \"showLink\": true})});</script>"
      ]
     },
     "metadata": {},
     "output_type": "display_data"
    },
    {
     "data": {
      "application/vnd.plotly.v1+json": {
       "data": [
        {
         "colorscale": "Jet",
         "type": "heatmap",
         "z": [
          [
           5.473294740488199e-06,
           0.3000544895539064,
           0.543138991670077,
           0.7964527648013809,
           0.9142651993386528,
           0.9990039330570468
          ],
          [
           0.9999818033900645,
           4.681494165439906e-06,
           2.0050075831663796e-07,
           2.4393116466022687e-05,
           0.0011488919495513722,
           2.3768532368522886e-06
          ],
          [
           7.452169924705466e-06,
           0.6998625270084693,
           0.00014175014028709144,
           6.156907074811934e-07,
           1.3141832505608523e-05,
           3.290580628785545e-05
          ],
          [
           8.822338025984616e-09,
           7.209712458842349e-05,
           0.45654238598342,
           9.000206905133317e-05,
           2.7993978620336294e-07,
           7.003653473430663e-07
          ],
          [
           3.079536008255033e-08,
           1.156884743815914e-06,
           0.00017203919725984732,
           0.20227380410542556,
           0.00025471209534820875,
           1.1407160103917625e-06
          ],
          [
           4.740543703817173e-06,
           4.541253233615719e-06,
           4.133334593480294e-06,
           0.0011579191721713897,
           0.08431730537674517,
           0.0009584331276490191
          ]
         ]
        }
       ],
       "layout": {
        "font": {
         "color": "#FFF"
        },
        "height": 300,
        "paper_bgcolor": "#000",
        "plot_bgcolor": "#000",
        "title": "2 Blobs:Confidence after 307200 Iters",
        "titlefont": {
         "color": "#FFF"
        },
        "width": 300,
        "xaxis": {
         "dtick": 1,
         "range": [
          -0.5,
          5.5
         ],
         "tickcolor": "#FFF",
         "title": "Glimpses"
        },
        "yaxis": {
         "dtick": 1,
         "range": [
          -0.5,
          5.5
         ],
         "tickcolor": "#FFF",
         "title": "Count Word"
        }
       }
      },
      "text/html": [
       "<div id=\"1a521503-3303-4e80-840c-785de2e9fb1e\" style=\"height: 300px; width: 300px;\" class=\"plotly-graph-div\"></div><script type=\"text/javascript\">require([\"plotly\"], function(Plotly) { window.PLOTLYENV=window.PLOTLYENV || {};window.PLOTLYENV.BASE_URL=\"https://plot.ly\";Plotly.newPlot(\"1a521503-3303-4e80-840c-785de2e9fb1e\", [{\"colorscale\": \"Jet\", \"z\": [[5.473294740488199e-06, 0.3000544895539064, 0.543138991670077, 0.7964527648013809, 0.9142651993386528, 0.9990039330570468], [0.9999818033900645, 4.681494165439906e-06, 2.0050075831663796e-07, 2.4393116466022687e-05, 0.0011488919495513722, 2.3768532368522886e-06], [7.452169924705466e-06, 0.6998625270084693, 0.00014175014028709144, 6.156907074811934e-07, 1.3141832505608523e-05, 3.290580628785545e-05], [8.822338025984616e-09, 7.209712458842349e-05, 0.45654238598342, 9.000206905133317e-05, 2.7993978620336294e-07, 7.003653473430663e-07], [3.079536008255033e-08, 1.156884743815914e-06, 0.00017203919725984732, 0.20227380410542556, 0.00025471209534820875, 1.1407160103917625e-06], [4.740543703817173e-06, 4.541253233615719e-06, 4.133334593480294e-06, 0.0011579191721713897, 0.08431730537674517, 0.0009584331276490191]], \"type\": \"heatmap\"}], {\"plot_bgcolor\": \"#000\", \"paper_bgcolor\": \"#000\", \"width\": 300, \"title\": \"2 Blobs:Confidence after 307200 Iters\", \"yaxis\": {\"title\": \"Count Word\", \"tickcolor\": \"#FFF\", \"range\": [-0.5, 5.5], \"dtick\": 1}, \"height\": 300, \"titlefont\": {\"color\": \"#FFF\"}, \"xaxis\": {\"title\": \"Glimpses\", \"tickcolor\": \"#FFF\", \"range\": [-0.5, 5.5], \"dtick\": 1}, \"font\": {\"color\": \"#FFF\"}}, {\"linkText\": \"Export to plot.ly\", \"showLink\": true})});</script>"
      ],
      "text/vnd.plotly.v1+html": [
       "<div id=\"1a521503-3303-4e80-840c-785de2e9fb1e\" style=\"height: 300px; width: 300px;\" class=\"plotly-graph-div\"></div><script type=\"text/javascript\">require([\"plotly\"], function(Plotly) { window.PLOTLYENV=window.PLOTLYENV || {};window.PLOTLYENV.BASE_URL=\"https://plot.ly\";Plotly.newPlot(\"1a521503-3303-4e80-840c-785de2e9fb1e\", [{\"colorscale\": \"Jet\", \"z\": [[5.473294740488199e-06, 0.3000544895539064, 0.543138991670077, 0.7964527648013809, 0.9142651993386528, 0.9990039330570468], [0.9999818033900645, 4.681494165439906e-06, 2.0050075831663796e-07, 2.4393116466022687e-05, 0.0011488919495513722, 2.3768532368522886e-06], [7.452169924705466e-06, 0.6998625270084693, 0.00014175014028709144, 6.156907074811934e-07, 1.3141832505608523e-05, 3.290580628785545e-05], [8.822338025984616e-09, 7.209712458842349e-05, 0.45654238598342, 9.000206905133317e-05, 2.7993978620336294e-07, 7.003653473430663e-07], [3.079536008255033e-08, 1.156884743815914e-06, 0.00017203919725984732, 0.20227380410542556, 0.00025471209534820875, 1.1407160103917625e-06], [4.740543703817173e-06, 4.541253233615719e-06, 4.133334593480294e-06, 0.0011579191721713897, 0.08431730537674517, 0.0009584331276490191]], \"type\": \"heatmap\"}], {\"plot_bgcolor\": \"#000\", \"paper_bgcolor\": \"#000\", \"width\": 300, \"title\": \"2 Blobs:Confidence after 307200 Iters\", \"yaxis\": {\"title\": \"Count Word\", \"tickcolor\": \"#FFF\", \"range\": [-0.5, 5.5], \"dtick\": 1}, \"height\": 300, \"titlefont\": {\"color\": \"#FFF\"}, \"xaxis\": {\"title\": \"Glimpses\", \"tickcolor\": \"#FFF\", \"range\": [-0.5, 5.5], \"dtick\": 1}, \"font\": {\"color\": \"#FFF\"}}, {\"linkText\": \"Export to plot.ly\", \"showLink\": true})});</script>"
      ]
     },
     "metadata": {},
     "output_type": "display_data"
    },
    {
     "data": {
      "application/vnd.plotly.v1+json": {
       "data": [
        {
         "colorscale": "Jet",
         "type": "heatmap",
         "z": [
          [
           0.1658174750090787,
           0.1650358945431178,
           0.164385010161534,
           0.16387165890283642,
           0.16347562637883958,
           0.16315529819955826
          ],
          [
           0.16621143497681756,
           0.16589641420012,
           0.16567956676581946,
           0.16556438019199557,
           0.16555077414198813,
           0.16565253153603227
          ],
          [
           0.16652307059988963,
           0.16640460253264697,
           0.16622172130870502,
           0.16601345370013892,
           0.16580701828572647,
           0.16563724813430492
          ],
          [
           0.1656988968028664,
           0.1648651998722276,
           0.1642361320768993,
           0.16376739617117128,
           0.1634353414310055,
           0.16321223227234316
          ],
          [
           0.16747459938325238,
           0.16856395542533786,
           0.16966033703793337,
           0.17068081152053394,
           0.17157597960163018,
           0.1723334642525405
          ],
          [
           0.1682741007553252,
           0.16923349993988268,
           0.16981679981031805,
           0.17010188740657448,
           0.17015482732201942,
           0.1700087940621827
          ]
         ]
        }
       ],
       "layout": {
        "font": {
         "color": "#FFF"
        },
        "height": 300,
        "paper_bgcolor": "#000",
        "plot_bgcolor": "#000",
        "title": "3 Blobs:Confidence after 0 Iters",
        "titlefont": {
         "color": "#FFF"
        },
        "width": 300,
        "xaxis": {
         "dtick": 1,
         "range": [
          -0.5,
          5.5
         ],
         "tickcolor": "#FFF",
         "title": "Glimpses"
        },
        "yaxis": {
         "dtick": 1,
         "range": [
          -0.5,
          5.5
         ],
         "tickcolor": "#FFF",
         "title": "Count Word"
        }
       }
      },
      "text/html": [
       "<div id=\"e40a52da-012d-4c2a-bb4a-2646a5eec3f9\" style=\"height: 300px; width: 300px;\" class=\"plotly-graph-div\"></div><script type=\"text/javascript\">require([\"plotly\"], function(Plotly) { window.PLOTLYENV=window.PLOTLYENV || {};window.PLOTLYENV.BASE_URL=\"https://plot.ly\";Plotly.newPlot(\"e40a52da-012d-4c2a-bb4a-2646a5eec3f9\", [{\"colorscale\": \"Jet\", \"z\": [[0.1658174750090787, 0.1650358945431178, 0.164385010161534, 0.16387165890283642, 0.16347562637883958, 0.16315529819955826], [0.16621143497681756, 0.16589641420012, 0.16567956676581946, 0.16556438019199557, 0.16555077414198813, 0.16565253153603227], [0.16652307059988963, 0.16640460253264697, 0.16622172130870502, 0.16601345370013892, 0.16580701828572647, 0.16563724813430492], [0.1656988968028664, 0.1648651998722276, 0.1642361320768993, 0.16376739617117128, 0.1634353414310055, 0.16321223227234316], [0.16747459938325238, 0.16856395542533786, 0.16966033703793337, 0.17068081152053394, 0.17157597960163018, 0.1723334642525405], [0.1682741007553252, 0.16923349993988268, 0.16981679981031805, 0.17010188740657448, 0.17015482732201942, 0.1700087940621827]], \"type\": \"heatmap\"}], {\"plot_bgcolor\": \"#000\", \"paper_bgcolor\": \"#000\", \"width\": 300, \"title\": \"3 Blobs:Confidence after 0 Iters\", \"yaxis\": {\"title\": \"Count Word\", \"tickcolor\": \"#FFF\", \"range\": [-0.5, 5.5], \"dtick\": 1}, \"height\": 300, \"titlefont\": {\"color\": \"#FFF\"}, \"xaxis\": {\"title\": \"Glimpses\", \"tickcolor\": \"#FFF\", \"range\": [-0.5, 5.5], \"dtick\": 1}, \"font\": {\"color\": \"#FFF\"}}, {\"linkText\": \"Export to plot.ly\", \"showLink\": true})});</script>"
      ],
      "text/vnd.plotly.v1+html": [
       "<div id=\"e40a52da-012d-4c2a-bb4a-2646a5eec3f9\" style=\"height: 300px; width: 300px;\" class=\"plotly-graph-div\"></div><script type=\"text/javascript\">require([\"plotly\"], function(Plotly) { window.PLOTLYENV=window.PLOTLYENV || {};window.PLOTLYENV.BASE_URL=\"https://plot.ly\";Plotly.newPlot(\"e40a52da-012d-4c2a-bb4a-2646a5eec3f9\", [{\"colorscale\": \"Jet\", \"z\": [[0.1658174750090787, 0.1650358945431178, 0.164385010161534, 0.16387165890283642, 0.16347562637883958, 0.16315529819955826], [0.16621143497681756, 0.16589641420012, 0.16567956676581946, 0.16556438019199557, 0.16555077414198813, 0.16565253153603227], [0.16652307059988963, 0.16640460253264697, 0.16622172130870502, 0.16601345370013892, 0.16580701828572647, 0.16563724813430492], [0.1656988968028664, 0.1648651998722276, 0.1642361320768993, 0.16376739617117128, 0.1634353414310055, 0.16321223227234316], [0.16747459938325238, 0.16856395542533786, 0.16966033703793337, 0.17068081152053394, 0.17157597960163018, 0.1723334642525405], [0.1682741007553252, 0.16923349993988268, 0.16981679981031805, 0.17010188740657448, 0.17015482732201942, 0.1700087940621827]], \"type\": \"heatmap\"}], {\"plot_bgcolor\": \"#000\", \"paper_bgcolor\": \"#000\", \"width\": 300, \"title\": \"3 Blobs:Confidence after 0 Iters\", \"yaxis\": {\"title\": \"Count Word\", \"tickcolor\": \"#FFF\", \"range\": [-0.5, 5.5], \"dtick\": 1}, \"height\": 300, \"titlefont\": {\"color\": \"#FFF\"}, \"xaxis\": {\"title\": \"Glimpses\", \"tickcolor\": \"#FFF\", \"range\": [-0.5, 5.5], \"dtick\": 1}, \"font\": {\"color\": \"#FFF\"}}, {\"linkText\": \"Export to plot.ly\", \"showLink\": true})});</script>"
      ]
     },
     "metadata": {},
     "output_type": "display_data"
    },
    {
     "data": {
      "application/vnd.plotly.v1+json": {
       "data": [
        {
         "colorscale": "Jet",
         "type": "heatmap",
         "z": [
          [
           0.17331358024425475,
           0.17307170741500044,
           0.17280777749057766,
           0.17262393382058835,
           0.1725332948395243,
           0.1725124684442459
          ],
          [
           0.18467585272825113,
           0.18512010152231756,
           0.18547034638372165,
           0.18578009938996337,
           0.18608947783536897,
           0.1864320777272301
          ],
          [
           0.16262409894629948,
           0.16169906101822654,
           0.16094504973536558,
           0.16030767452943104,
           0.15976325746604855,
           0.15930397272984656
          ],
          [
           0.16028394308636584,
           0.1600987786322347,
           0.15997701994481361,
           0.1598722377362288,
           0.1597748017967733,
           0.15969677190164988
          ],
          [
           0.15859254488236846,
           0.1584049088685791,
           0.15845144043255824,
           0.158601462545964,
           0.15877342660925406,
           0.15891522938134647
          ],
          [
           0.16050954114569205,
           0.1616049825797921,
           0.16234791756364214,
           0.16281413201397493,
           0.16306529706766087,
           0.16313902256113239
          ]
         ]
        }
       ],
       "layout": {
        "font": {
         "color": "#FFF"
        },
        "height": 300,
        "paper_bgcolor": "#000",
        "plot_bgcolor": "#000",
        "title": "3 Blobs:Confidence after 100 Iters",
        "titlefont": {
         "color": "#FFF"
        },
        "width": 300,
        "xaxis": {
         "dtick": 1,
         "range": [
          -0.5,
          5.5
         ],
         "tickcolor": "#FFF",
         "title": "Glimpses"
        },
        "yaxis": {
         "dtick": 1,
         "range": [
          -0.5,
          5.5
         ],
         "tickcolor": "#FFF",
         "title": "Count Word"
        }
       }
      },
      "text/html": [
       "<div id=\"5d6c1fd6-fadf-4b21-8c58-2fc3bd88daa4\" style=\"height: 300px; width: 300px;\" class=\"plotly-graph-div\"></div><script type=\"text/javascript\">require([\"plotly\"], function(Plotly) { window.PLOTLYENV=window.PLOTLYENV || {};window.PLOTLYENV.BASE_URL=\"https://plot.ly\";Plotly.newPlot(\"5d6c1fd6-fadf-4b21-8c58-2fc3bd88daa4\", [{\"colorscale\": \"Jet\", \"z\": [[0.17331358024425475, 0.17307170741500044, 0.17280777749057766, 0.17262393382058835, 0.1725332948395243, 0.1725124684442459], [0.18467585272825113, 0.18512010152231756, 0.18547034638372165, 0.18578009938996337, 0.18608947783536897, 0.1864320777272301], [0.16262409894629948, 0.16169906101822654, 0.16094504973536558, 0.16030767452943104, 0.15976325746604855, 0.15930397272984656], [0.16028394308636584, 0.1600987786322347, 0.15997701994481361, 0.1598722377362288, 0.1597748017967733, 0.15969677190164988], [0.15859254488236846, 0.1584049088685791, 0.15845144043255824, 0.158601462545964, 0.15877342660925406, 0.15891522938134647], [0.16050954114569205, 0.1616049825797921, 0.16234791756364214, 0.16281413201397493, 0.16306529706766087, 0.16313902256113239]], \"type\": \"heatmap\"}], {\"plot_bgcolor\": \"#000\", \"paper_bgcolor\": \"#000\", \"width\": 300, \"title\": \"3 Blobs:Confidence after 100 Iters\", \"yaxis\": {\"title\": \"Count Word\", \"tickcolor\": \"#FFF\", \"range\": [-0.5, 5.5], \"dtick\": 1}, \"height\": 300, \"titlefont\": {\"color\": \"#FFF\"}, \"xaxis\": {\"title\": \"Glimpses\", \"tickcolor\": \"#FFF\", \"range\": [-0.5, 5.5], \"dtick\": 1}, \"font\": {\"color\": \"#FFF\"}}, {\"linkText\": \"Export to plot.ly\", \"showLink\": true})});</script>"
      ],
      "text/vnd.plotly.v1+html": [
       "<div id=\"5d6c1fd6-fadf-4b21-8c58-2fc3bd88daa4\" style=\"height: 300px; width: 300px;\" class=\"plotly-graph-div\"></div><script type=\"text/javascript\">require([\"plotly\"], function(Plotly) { window.PLOTLYENV=window.PLOTLYENV || {};window.PLOTLYENV.BASE_URL=\"https://plot.ly\";Plotly.newPlot(\"5d6c1fd6-fadf-4b21-8c58-2fc3bd88daa4\", [{\"colorscale\": \"Jet\", \"z\": [[0.17331358024425475, 0.17307170741500044, 0.17280777749057766, 0.17262393382058835, 0.1725332948395243, 0.1725124684442459], [0.18467585272825113, 0.18512010152231756, 0.18547034638372165, 0.18578009938996337, 0.18608947783536897, 0.1864320777272301], [0.16262409894629948, 0.16169906101822654, 0.16094504973536558, 0.16030767452943104, 0.15976325746604855, 0.15930397272984656], [0.16028394308636584, 0.1600987786322347, 0.15997701994481361, 0.1598722377362288, 0.1597748017967733, 0.15969677190164988], [0.15859254488236846, 0.1584049088685791, 0.15845144043255824, 0.158601462545964, 0.15877342660925406, 0.15891522938134647], [0.16050954114569205, 0.1616049825797921, 0.16234791756364214, 0.16281413201397493, 0.16306529706766087, 0.16313902256113239]], \"type\": \"heatmap\"}], {\"plot_bgcolor\": \"#000\", \"paper_bgcolor\": \"#000\", \"width\": 300, \"title\": \"3 Blobs:Confidence after 100 Iters\", \"yaxis\": {\"title\": \"Count Word\", \"tickcolor\": \"#FFF\", \"range\": [-0.5, 5.5], \"dtick\": 1}, \"height\": 300, \"titlefont\": {\"color\": \"#FFF\"}, \"xaxis\": {\"title\": \"Glimpses\", \"tickcolor\": \"#FFF\", \"range\": [-0.5, 5.5], \"dtick\": 1}, \"font\": {\"color\": \"#FFF\"}}, {\"linkText\": \"Export to plot.ly\", \"showLink\": true})});</script>"
      ]
     },
     "metadata": {},
     "output_type": "display_data"
    },
    {
     "data": {
      "application/vnd.plotly.v1+json": {
       "data": [
        {
         "colorscale": "Jet",
         "type": "heatmap",
         "z": [
          [
           0.18637161944320085,
           0.18834268682976765,
           0.1896575397277703,
           0.1905386440718178,
           0.19114549269645684,
           0.19156675905131978
          ],
          [
           0.21540316810655996,
           0.21645747848504546,
           0.21732494165144073,
           0.21807570147172783,
           0.21875337444833207,
           0.21941796007346742
          ],
          [
           0.15560048369755597,
           0.15505483493578243,
           0.15483549658760196,
           0.15477659233012725,
           0.15476163074475832,
           0.15475548733054803
          ],
          [
           0.15047823556244833,
           0.1503456268912866,
           0.15030981528162168,
           0.15030813807407686,
           0.15027732166200594,
           0.1502245310164357
          ],
          [
           0.1459745905781045,
           0.14438366733140504,
           0.14317329883411992,
           0.1422549755492988,
           0.1415741468396438,
           0.14105161183564666
          ],
          [
           0.14617134705688348,
           0.14541514500441494,
           0.14469833994457112,
           0.1440453797022353,
           0.14348749957744367,
           0.14298310051830737
          ]
         ]
        }
       ],
       "layout": {
        "font": {
         "color": "#FFF"
        },
        "height": 300,
        "paper_bgcolor": "#000",
        "plot_bgcolor": "#000",
        "title": "3 Blobs:Confidence after 200 Iters",
        "titlefont": {
         "color": "#FFF"
        },
        "width": 300,
        "xaxis": {
         "dtick": 1,
         "range": [
          -0.5,
          5.5
         ],
         "tickcolor": "#FFF",
         "title": "Glimpses"
        },
        "yaxis": {
         "dtick": 1,
         "range": [
          -0.5,
          5.5
         ],
         "tickcolor": "#FFF",
         "title": "Count Word"
        }
       }
      },
      "text/html": [
       "<div id=\"d4af6e09-c45f-4ea3-9ea1-5dbdbf78d71d\" style=\"height: 300px; width: 300px;\" class=\"plotly-graph-div\"></div><script type=\"text/javascript\">require([\"plotly\"], function(Plotly) { window.PLOTLYENV=window.PLOTLYENV || {};window.PLOTLYENV.BASE_URL=\"https://plot.ly\";Plotly.newPlot(\"d4af6e09-c45f-4ea3-9ea1-5dbdbf78d71d\", [{\"colorscale\": \"Jet\", \"z\": [[0.18637161944320085, 0.18834268682976765, 0.1896575397277703, 0.1905386440718178, 0.19114549269645684, 0.19156675905131978], [0.21540316810655996, 0.21645747848504546, 0.21732494165144073, 0.21807570147172783, 0.21875337444833207, 0.21941796007346742], [0.15560048369755597, 0.15505483493578243, 0.15483549658760196, 0.15477659233012725, 0.15476163074475832, 0.15475548733054803], [0.15047823556244833, 0.1503456268912866, 0.15030981528162168, 0.15030813807407686, 0.15027732166200594, 0.1502245310164357], [0.1459745905781045, 0.14438366733140504, 0.14317329883411992, 0.1422549755492988, 0.1415741468396438, 0.14105161183564666], [0.14617134705688348, 0.14541514500441494, 0.14469833994457112, 0.1440453797022353, 0.14348749957744367, 0.14298310051830737]], \"type\": \"heatmap\"}], {\"plot_bgcolor\": \"#000\", \"paper_bgcolor\": \"#000\", \"width\": 300, \"title\": \"3 Blobs:Confidence after 200 Iters\", \"yaxis\": {\"title\": \"Count Word\", \"tickcolor\": \"#FFF\", \"range\": [-0.5, 5.5], \"dtick\": 1}, \"height\": 300, \"titlefont\": {\"color\": \"#FFF\"}, \"xaxis\": {\"title\": \"Glimpses\", \"tickcolor\": \"#FFF\", \"range\": [-0.5, 5.5], \"dtick\": 1}, \"font\": {\"color\": \"#FFF\"}}, {\"linkText\": \"Export to plot.ly\", \"showLink\": true})});</script>"
      ],
      "text/vnd.plotly.v1+html": [
       "<div id=\"d4af6e09-c45f-4ea3-9ea1-5dbdbf78d71d\" style=\"height: 300px; width: 300px;\" class=\"plotly-graph-div\"></div><script type=\"text/javascript\">require([\"plotly\"], function(Plotly) { window.PLOTLYENV=window.PLOTLYENV || {};window.PLOTLYENV.BASE_URL=\"https://plot.ly\";Plotly.newPlot(\"d4af6e09-c45f-4ea3-9ea1-5dbdbf78d71d\", [{\"colorscale\": \"Jet\", \"z\": [[0.18637161944320085, 0.18834268682976765, 0.1896575397277703, 0.1905386440718178, 0.19114549269645684, 0.19156675905131978], [0.21540316810655996, 0.21645747848504546, 0.21732494165144073, 0.21807570147172783, 0.21875337444833207, 0.21941796007346742], [0.15560048369755597, 0.15505483493578243, 0.15483549658760196, 0.15477659233012725, 0.15476163074475832, 0.15475548733054803], [0.15047823556244833, 0.1503456268912866, 0.15030981528162168, 0.15030813807407686, 0.15027732166200594, 0.1502245310164357], [0.1459745905781045, 0.14438366733140504, 0.14317329883411992, 0.1422549755492988, 0.1415741468396438, 0.14105161183564666], [0.14617134705688348, 0.14541514500441494, 0.14469833994457112, 0.1440453797022353, 0.14348749957744367, 0.14298310051830737]], \"type\": \"heatmap\"}], {\"plot_bgcolor\": \"#000\", \"paper_bgcolor\": \"#000\", \"width\": 300, \"title\": \"3 Blobs:Confidence after 200 Iters\", \"yaxis\": {\"title\": \"Count Word\", \"tickcolor\": \"#FFF\", \"range\": [-0.5, 5.5], \"dtick\": 1}, \"height\": 300, \"titlefont\": {\"color\": \"#FFF\"}, \"xaxis\": {\"title\": \"Glimpses\", \"tickcolor\": \"#FFF\", \"range\": [-0.5, 5.5], \"dtick\": 1}, \"font\": {\"color\": \"#FFF\"}}, {\"linkText\": \"Export to plot.ly\", \"showLink\": true})});</script>"
      ]
     },
     "metadata": {},
     "output_type": "display_data"
    },
    {
     "data": {
      "application/vnd.plotly.v1+json": {
       "data": [
        {
         "colorscale": "Jet",
         "type": "heatmap",
         "z": [
          [
           0.1992382688258699,
           0.20446859179283264,
           0.20849963831728824,
           0.2115864863065011,
           0.2139153206784113,
           0.21571980539251287
          ],
          [
           0.24655188773257433,
           0.24639766677749644,
           0.24574164160646592,
           0.24486292469031898,
           0.24403017285875794,
           0.24334983993638246
          ],
          [
           0.1488759607980986,
           0.14737623343615128,
           0.146683376592847,
           0.14646972289267468,
           0.14649774500432367,
           0.14658719164828551
          ],
          [
           0.14005047282945976,
           0.14015392953583602,
           0.14037131299416866,
           0.14064759573638067,
           0.14093998960333473,
           0.14112215071372966
          ],
          [
           0.1327080934654733,
           0.13006339591337496,
           0.12805768555595673,
           0.12653141278645028,
           0.12535291202573454,
           0.12446932243312567
          ],
          [
           0.13257463974820108,
           0.13153950048023016,
           0.13064567280329578,
           0.12990119191486219,
           0.12926318720275512,
           0.12875101228223074
          ]
         ]
        }
       ],
       "layout": {
        "font": {
         "color": "#FFF"
        },
        "height": 300,
        "paper_bgcolor": "#000",
        "plot_bgcolor": "#000",
        "title": "3 Blobs:Confidence after 300 Iters",
        "titlefont": {
         "color": "#FFF"
        },
        "width": 300,
        "xaxis": {
         "dtick": 1,
         "range": [
          -0.5,
          5.5
         ],
         "tickcolor": "#FFF",
         "title": "Glimpses"
        },
        "yaxis": {
         "dtick": 1,
         "range": [
          -0.5,
          5.5
         ],
         "tickcolor": "#FFF",
         "title": "Count Word"
        }
       }
      },
      "text/html": [
       "<div id=\"a26b0c71-6860-45f1-9b3e-d3c8d81ecf8e\" style=\"height: 300px; width: 300px;\" class=\"plotly-graph-div\"></div><script type=\"text/javascript\">require([\"plotly\"], function(Plotly) { window.PLOTLYENV=window.PLOTLYENV || {};window.PLOTLYENV.BASE_URL=\"https://plot.ly\";Plotly.newPlot(\"a26b0c71-6860-45f1-9b3e-d3c8d81ecf8e\", [{\"colorscale\": \"Jet\", \"z\": [[0.1992382688258699, 0.20446859179283264, 0.20849963831728824, 0.2115864863065011, 0.2139153206784113, 0.21571980539251287], [0.24655188773257433, 0.24639766677749644, 0.24574164160646592, 0.24486292469031898, 0.24403017285875794, 0.24334983993638246], [0.1488759607980986, 0.14737623343615128, 0.146683376592847, 0.14646972289267468, 0.14649774500432367, 0.14658719164828551], [0.14005047282945976, 0.14015392953583602, 0.14037131299416866, 0.14064759573638067, 0.14093998960333473, 0.14112215071372966], [0.1327080934654733, 0.13006339591337496, 0.12805768555595673, 0.12653141278645028, 0.12535291202573454, 0.12446932243312567], [0.13257463974820108, 0.13153950048023016, 0.13064567280329578, 0.12990119191486219, 0.12926318720275512, 0.12875101228223074]], \"type\": \"heatmap\"}], {\"plot_bgcolor\": \"#000\", \"paper_bgcolor\": \"#000\", \"width\": 300, \"title\": \"3 Blobs:Confidence after 300 Iters\", \"yaxis\": {\"title\": \"Count Word\", \"tickcolor\": \"#FFF\", \"range\": [-0.5, 5.5], \"dtick\": 1}, \"height\": 300, \"titlefont\": {\"color\": \"#FFF\"}, \"xaxis\": {\"title\": \"Glimpses\", \"tickcolor\": \"#FFF\", \"range\": [-0.5, 5.5], \"dtick\": 1}, \"font\": {\"color\": \"#FFF\"}}, {\"linkText\": \"Export to plot.ly\", \"showLink\": true})});</script>"
      ],
      "text/vnd.plotly.v1+html": [
       "<div id=\"a26b0c71-6860-45f1-9b3e-d3c8d81ecf8e\" style=\"height: 300px; width: 300px;\" class=\"plotly-graph-div\"></div><script type=\"text/javascript\">require([\"plotly\"], function(Plotly) { window.PLOTLYENV=window.PLOTLYENV || {};window.PLOTLYENV.BASE_URL=\"https://plot.ly\";Plotly.newPlot(\"a26b0c71-6860-45f1-9b3e-d3c8d81ecf8e\", [{\"colorscale\": \"Jet\", \"z\": [[0.1992382688258699, 0.20446859179283264, 0.20849963831728824, 0.2115864863065011, 0.2139153206784113, 0.21571980539251287], [0.24655188773257433, 0.24639766677749644, 0.24574164160646592, 0.24486292469031898, 0.24403017285875794, 0.24334983993638246], [0.1488759607980986, 0.14737623343615128, 0.146683376592847, 0.14646972289267468, 0.14649774500432367, 0.14658719164828551], [0.14005047282945976, 0.14015392953583602, 0.14037131299416866, 0.14064759573638067, 0.14093998960333473, 0.14112215071372966], [0.1327080934654733, 0.13006339591337496, 0.12805768555595673, 0.12653141278645028, 0.12535291202573454, 0.12446932243312567], [0.13257463974820108, 0.13153950048023016, 0.13064567280329578, 0.12990119191486219, 0.12926318720275512, 0.12875101228223074]], \"type\": \"heatmap\"}], {\"plot_bgcolor\": \"#000\", \"paper_bgcolor\": \"#000\", \"width\": 300, \"title\": \"3 Blobs:Confidence after 300 Iters\", \"yaxis\": {\"title\": \"Count Word\", \"tickcolor\": \"#FFF\", \"range\": [-0.5, 5.5], \"dtick\": 1}, \"height\": 300, \"titlefont\": {\"color\": \"#FFF\"}, \"xaxis\": {\"title\": \"Glimpses\", \"tickcolor\": \"#FFF\", \"range\": [-0.5, 5.5], \"dtick\": 1}, \"font\": {\"color\": \"#FFF\"}}, {\"linkText\": \"Export to plot.ly\", \"showLink\": true})});</script>"
      ]
     },
     "metadata": {},
     "output_type": "display_data"
    },
    {
     "data": {
      "application/vnd.plotly.v1+json": {
       "data": [
        {
         "colorscale": "Jet",
         "type": "heatmap",
         "z": [
          [
           0.2150337348590582,
           0.2238070257444503,
           0.23067766756983007,
           0.2358331584107299,
           0.23981637551749593,
           0.2427269205519408
          ],
          [
           0.28877299256052247,
           0.29345002069992826,
           0.2966978415764076,
           0.2986522423420085,
           0.29995624070322385,
           0.3007907178392271
          ],
          [
           0.13830503130042604,
           0.13449611925857807,
           0.13177806418603827,
           0.1300476010900832,
           0.1288051150820369,
           0.12803810879986513
          ],
          [
           0.12246704910441024,
           0.11858066675056095,
           0.11558611411128537,
           0.11349180759327757,
           0.11202090062910487,
           0.11097128730732338
          ],
          [
           0.11793431196998842,
           0.11521993238456334,
           0.11339609826957445,
           0.11222901876379035,
           0.11143247878781225,
           0.11094961867753714
          ],
          [
           0.11748635349794659,
           0.11444571982620384,
           0.11186367032524913,
           0.10974562117218999,
           0.10796835433783024,
           0.10652283266479805
          ]
         ]
        }
       ],
       "layout": {
        "font": {
         "color": "#FFF"
        },
        "height": 300,
        "paper_bgcolor": "#000",
        "plot_bgcolor": "#000",
        "title": "3 Blobs:Confidence after 400 Iters",
        "titlefont": {
         "color": "#FFF"
        },
        "width": 300,
        "xaxis": {
         "dtick": 1,
         "range": [
          -0.5,
          5.5
         ],
         "tickcolor": "#FFF",
         "title": "Glimpses"
        },
        "yaxis": {
         "dtick": 1,
         "range": [
          -0.5,
          5.5
         ],
         "tickcolor": "#FFF",
         "title": "Count Word"
        }
       }
      },
      "text/html": [
       "<div id=\"37a53a25-1a86-42a4-8bb2-0c0fab821419\" style=\"height: 300px; width: 300px;\" class=\"plotly-graph-div\"></div><script type=\"text/javascript\">require([\"plotly\"], function(Plotly) { window.PLOTLYENV=window.PLOTLYENV || {};window.PLOTLYENV.BASE_URL=\"https://plot.ly\";Plotly.newPlot(\"37a53a25-1a86-42a4-8bb2-0c0fab821419\", [{\"colorscale\": \"Jet\", \"z\": [[0.2150337348590582, 0.2238070257444503, 0.23067766756983007, 0.2358331584107299, 0.23981637551749593, 0.2427269205519408], [0.28877299256052247, 0.29345002069992826, 0.2966978415764076, 0.2986522423420085, 0.29995624070322385, 0.3007907178392271], [0.13830503130042604, 0.13449611925857807, 0.13177806418603827, 0.1300476010900832, 0.1288051150820369, 0.12803810879986513], [0.12246704910441024, 0.11858066675056095, 0.11558611411128537, 0.11349180759327757, 0.11202090062910487, 0.11097128730732338], [0.11793431196998842, 0.11521993238456334, 0.11339609826957445, 0.11222901876379035, 0.11143247878781225, 0.11094961867753714], [0.11748635349794659, 0.11444571982620384, 0.11186367032524913, 0.10974562117218999, 0.10796835433783024, 0.10652283266479805]], \"type\": \"heatmap\"}], {\"plot_bgcolor\": \"#000\", \"paper_bgcolor\": \"#000\", \"width\": 300, \"title\": \"3 Blobs:Confidence after 400 Iters\", \"yaxis\": {\"title\": \"Count Word\", \"tickcolor\": \"#FFF\", \"range\": [-0.5, 5.5], \"dtick\": 1}, \"height\": 300, \"titlefont\": {\"color\": \"#FFF\"}, \"xaxis\": {\"title\": \"Glimpses\", \"tickcolor\": \"#FFF\", \"range\": [-0.5, 5.5], \"dtick\": 1}, \"font\": {\"color\": \"#FFF\"}}, {\"linkText\": \"Export to plot.ly\", \"showLink\": true})});</script>"
      ],
      "text/vnd.plotly.v1+html": [
       "<div id=\"37a53a25-1a86-42a4-8bb2-0c0fab821419\" style=\"height: 300px; width: 300px;\" class=\"plotly-graph-div\"></div><script type=\"text/javascript\">require([\"plotly\"], function(Plotly) { window.PLOTLYENV=window.PLOTLYENV || {};window.PLOTLYENV.BASE_URL=\"https://plot.ly\";Plotly.newPlot(\"37a53a25-1a86-42a4-8bb2-0c0fab821419\", [{\"colorscale\": \"Jet\", \"z\": [[0.2150337348590582, 0.2238070257444503, 0.23067766756983007, 0.2358331584107299, 0.23981637551749593, 0.2427269205519408], [0.28877299256052247, 0.29345002069992826, 0.2966978415764076, 0.2986522423420085, 0.29995624070322385, 0.3007907178392271], [0.13830503130042604, 0.13449611925857807, 0.13177806418603827, 0.1300476010900832, 0.1288051150820369, 0.12803810879986513], [0.12246704910441024, 0.11858066675056095, 0.11558611411128537, 0.11349180759327757, 0.11202090062910487, 0.11097128730732338], [0.11793431196998842, 0.11521993238456334, 0.11339609826957445, 0.11222901876379035, 0.11143247878781225, 0.11094961867753714], [0.11748635349794659, 0.11444571982620384, 0.11186367032524913, 0.10974562117218999, 0.10796835433783024, 0.10652283266479805]], \"type\": \"heatmap\"}], {\"plot_bgcolor\": \"#000\", \"paper_bgcolor\": \"#000\", \"width\": 300, \"title\": \"3 Blobs:Confidence after 400 Iters\", \"yaxis\": {\"title\": \"Count Word\", \"tickcolor\": \"#FFF\", \"range\": [-0.5, 5.5], \"dtick\": 1}, \"height\": 300, \"titlefont\": {\"color\": \"#FFF\"}, \"xaxis\": {\"title\": \"Glimpses\", \"tickcolor\": \"#FFF\", \"range\": [-0.5, 5.5], \"dtick\": 1}, \"font\": {\"color\": \"#FFF\"}}, {\"linkText\": \"Export to plot.ly\", \"showLink\": true})});</script>"
      ]
     },
     "metadata": {},
     "output_type": "display_data"
    },
    {
     "data": {
      "application/vnd.plotly.v1+json": {
       "data": [
        {
         "colorscale": "Jet",
         "type": "heatmap",
         "z": [
          [
           0.3070651143283323,
           0.4080149562551066,
           0.4820802260051942,
           0.5458075133821205,
           0.5879785607861484,
           0.620338785423106
          ],
          [
           0.39966706915793576,
           0.38127901563643213,
           0.35571745282564937,
           0.31871618487923514,
           0.2942379463763958,
           0.2716518042218388
          ],
          [
           0.09187699470102234,
           0.06639990075661309,
           0.051987918363137965,
           0.04396094567947742,
           0.038385086685571355,
           0.035276980661615005
          ],
          [
           0.0741020979515641,
           0.05568573167915498,
           0.04395743636463867,
           0.03754902727996882,
           0.03325440291937289,
           0.030868619985446183
          ],
          [
           0.06626408903369502,
           0.04739511139219936,
           0.03624069303593233,
           0.03012791464589442,
           0.026131848870376558,
           0.024003165786525695
          ],
          [
           0.06102415680690229,
           0.04122478744723906,
           0.030015767538368245,
           0.023837903097386683,
           0.020011656783822527,
           0.017860146575986238
          ]
         ]
        }
       ],
       "layout": {
        "font": {
         "color": "#FFF"
        },
        "height": 300,
        "paper_bgcolor": "#000",
        "plot_bgcolor": "#000",
        "title": "3 Blobs:Confidence after 600 Iters",
        "titlefont": {
         "color": "#FFF"
        },
        "width": 300,
        "xaxis": {
         "dtick": 1,
         "range": [
          -0.5,
          5.5
         ],
         "tickcolor": "#FFF",
         "title": "Glimpses"
        },
        "yaxis": {
         "dtick": 1,
         "range": [
          -0.5,
          5.5
         ],
         "tickcolor": "#FFF",
         "title": "Count Word"
        }
       }
      },
      "text/html": [
       "<div id=\"e3a7ac22-94da-4c04-8a52-1b282504bd44\" style=\"height: 300px; width: 300px;\" class=\"plotly-graph-div\"></div><script type=\"text/javascript\">require([\"plotly\"], function(Plotly) { window.PLOTLYENV=window.PLOTLYENV || {};window.PLOTLYENV.BASE_URL=\"https://plot.ly\";Plotly.newPlot(\"e3a7ac22-94da-4c04-8a52-1b282504bd44\", [{\"colorscale\": \"Jet\", \"z\": [[0.3070651143283323, 0.4080149562551066, 0.4820802260051942, 0.5458075133821205, 0.5879785607861484, 0.620338785423106], [0.39966706915793576, 0.38127901563643213, 0.35571745282564937, 0.31871618487923514, 0.2942379463763958, 0.2716518042218388], [0.09187699470102234, 0.06639990075661309, 0.051987918363137965, 0.04396094567947742, 0.038385086685571355, 0.035276980661615005], [0.0741020979515641, 0.05568573167915498, 0.04395743636463867, 0.03754902727996882, 0.03325440291937289, 0.030868619985446183], [0.06626408903369502, 0.04739511139219936, 0.03624069303593233, 0.03012791464589442, 0.026131848870376558, 0.024003165786525695], [0.06102415680690229, 0.04122478744723906, 0.030015767538368245, 0.023837903097386683, 0.020011656783822527, 0.017860146575986238]], \"type\": \"heatmap\"}], {\"plot_bgcolor\": \"#000\", \"paper_bgcolor\": \"#000\", \"width\": 300, \"title\": \"3 Blobs:Confidence after 600 Iters\", \"yaxis\": {\"title\": \"Count Word\", \"tickcolor\": \"#FFF\", \"range\": [-0.5, 5.5], \"dtick\": 1}, \"height\": 300, \"titlefont\": {\"color\": \"#FFF\"}, \"xaxis\": {\"title\": \"Glimpses\", \"tickcolor\": \"#FFF\", \"range\": [-0.5, 5.5], \"dtick\": 1}, \"font\": {\"color\": \"#FFF\"}}, {\"linkText\": \"Export to plot.ly\", \"showLink\": true})});</script>"
      ],
      "text/vnd.plotly.v1+html": [
       "<div id=\"e3a7ac22-94da-4c04-8a52-1b282504bd44\" style=\"height: 300px; width: 300px;\" class=\"plotly-graph-div\"></div><script type=\"text/javascript\">require([\"plotly\"], function(Plotly) { window.PLOTLYENV=window.PLOTLYENV || {};window.PLOTLYENV.BASE_URL=\"https://plot.ly\";Plotly.newPlot(\"e3a7ac22-94da-4c04-8a52-1b282504bd44\", [{\"colorscale\": \"Jet\", \"z\": [[0.3070651143283323, 0.4080149562551066, 0.4820802260051942, 0.5458075133821205, 0.5879785607861484, 0.620338785423106], [0.39966706915793576, 0.38127901563643213, 0.35571745282564937, 0.31871618487923514, 0.2942379463763958, 0.2716518042218388], [0.09187699470102234, 0.06639990075661309, 0.051987918363137965, 0.04396094567947742, 0.038385086685571355, 0.035276980661615005], [0.0741020979515641, 0.05568573167915498, 0.04395743636463867, 0.03754902727996882, 0.03325440291937289, 0.030868619985446183], [0.06626408903369502, 0.04739511139219936, 0.03624069303593233, 0.03012791464589442, 0.026131848870376558, 0.024003165786525695], [0.06102415680690229, 0.04122478744723906, 0.030015767538368245, 0.023837903097386683, 0.020011656783822527, 0.017860146575986238]], \"type\": \"heatmap\"}], {\"plot_bgcolor\": \"#000\", \"paper_bgcolor\": \"#000\", \"width\": 300, \"title\": \"3 Blobs:Confidence after 600 Iters\", \"yaxis\": {\"title\": \"Count Word\", \"tickcolor\": \"#FFF\", \"range\": [-0.5, 5.5], \"dtick\": 1}, \"height\": 300, \"titlefont\": {\"color\": \"#FFF\"}, \"xaxis\": {\"title\": \"Glimpses\", \"tickcolor\": \"#FFF\", \"range\": [-0.5, 5.5], \"dtick\": 1}, \"font\": {\"color\": \"#FFF\"}}, {\"linkText\": \"Export to plot.ly\", \"showLink\": true})});</script>"
      ]
     },
     "metadata": {},
     "output_type": "display_data"
    },
    {
     "data": {
      "application/vnd.plotly.v1+json": {
       "data": [
        {
         "colorscale": "Jet",
         "type": "heatmap",
         "z": [
          [
           0.2674767738920998,
           0.5238903625785898,
           0.6280199533144692,
           0.7741254387527774,
           0.7883403341092498,
           0.8539792338840304
          ],
          [
           0.5359138298231345,
           0.3557340286505535,
           0.2864763677973953,
           0.16776282306833637,
           0.1598827802816735,
           0.10592018578956137
          ],
          [
           0.06886607940652992,
           0.04267850553126276,
           0.03072821470902756,
           0.020560176800821214,
           0.01835852714100766,
           0.013971494617593219
          ],
          [
           0.0511896704235866,
           0.03486265047471759,
           0.026027915230142248,
           0.018907517874687647,
           0.017212542210266257,
           0.013872507638838266
          ],
          [
           0.04122734676347096,
           0.02454999627962501,
           0.017001412717508043,
           0.011396265503933614,
           0.009964901291360044,
           0.007681464651775093
          ],
          [
           0.03532591872959025,
           0.0182840764549856,
           0.011745740547814593,
           0.007247387688813561,
           0.006240535366018007,
           0.004574728749234805
          ]
         ]
        }
       ],
       "layout": {
        "font": {
         "color": "#FFF"
        },
        "height": 300,
        "paper_bgcolor": "#000",
        "plot_bgcolor": "#000",
        "title": "3 Blobs:Confidence after 800 Iters",
        "titlefont": {
         "color": "#FFF"
        },
        "width": 300,
        "xaxis": {
         "dtick": 1,
         "range": [
          -0.5,
          5.5
         ],
         "tickcolor": "#FFF",
         "title": "Glimpses"
        },
        "yaxis": {
         "dtick": 1,
         "range": [
          -0.5,
          5.5
         ],
         "tickcolor": "#FFF",
         "title": "Count Word"
        }
       }
      },
      "text/html": [
       "<div id=\"a6ea4447-9ce1-40f1-9041-188d372f4d34\" style=\"height: 300px; width: 300px;\" class=\"plotly-graph-div\"></div><script type=\"text/javascript\">require([\"plotly\"], function(Plotly) { window.PLOTLYENV=window.PLOTLYENV || {};window.PLOTLYENV.BASE_URL=\"https://plot.ly\";Plotly.newPlot(\"a6ea4447-9ce1-40f1-9041-188d372f4d34\", [{\"colorscale\": \"Jet\", \"z\": [[0.2674767738920998, 0.5238903625785898, 0.6280199533144692, 0.7741254387527774, 0.7883403341092498, 0.8539792338840304], [0.5359138298231345, 0.3557340286505535, 0.2864763677973953, 0.16776282306833637, 0.1598827802816735, 0.10592018578956137], [0.06886607940652992, 0.04267850553126276, 0.03072821470902756, 0.020560176800821214, 0.01835852714100766, 0.013971494617593219], [0.0511896704235866, 0.03486265047471759, 0.026027915230142248, 0.018907517874687647, 0.017212542210266257, 0.013872507638838266], [0.04122734676347096, 0.02454999627962501, 0.017001412717508043, 0.011396265503933614, 0.009964901291360044, 0.007681464651775093], [0.03532591872959025, 0.0182840764549856, 0.011745740547814593, 0.007247387688813561, 0.006240535366018007, 0.004574728749234805]], \"type\": \"heatmap\"}], {\"plot_bgcolor\": \"#000\", \"paper_bgcolor\": \"#000\", \"width\": 300, \"title\": \"3 Blobs:Confidence after 800 Iters\", \"yaxis\": {\"title\": \"Count Word\", \"tickcolor\": \"#FFF\", \"range\": [-0.5, 5.5], \"dtick\": 1}, \"height\": 300, \"titlefont\": {\"color\": \"#FFF\"}, \"xaxis\": {\"title\": \"Glimpses\", \"tickcolor\": \"#FFF\", \"range\": [-0.5, 5.5], \"dtick\": 1}, \"font\": {\"color\": \"#FFF\"}}, {\"linkText\": \"Export to plot.ly\", \"showLink\": true})});</script>"
      ],
      "text/vnd.plotly.v1+html": [
       "<div id=\"a6ea4447-9ce1-40f1-9041-188d372f4d34\" style=\"height: 300px; width: 300px;\" class=\"plotly-graph-div\"></div><script type=\"text/javascript\">require([\"plotly\"], function(Plotly) { window.PLOTLYENV=window.PLOTLYENV || {};window.PLOTLYENV.BASE_URL=\"https://plot.ly\";Plotly.newPlot(\"a6ea4447-9ce1-40f1-9041-188d372f4d34\", [{\"colorscale\": \"Jet\", \"z\": [[0.2674767738920998, 0.5238903625785898, 0.6280199533144692, 0.7741254387527774, 0.7883403341092498, 0.8539792338840304], [0.5359138298231345, 0.3557340286505535, 0.2864763677973953, 0.16776282306833637, 0.1598827802816735, 0.10592018578956137], [0.06886607940652992, 0.04267850553126276, 0.03072821470902756, 0.020560176800821214, 0.01835852714100766, 0.013971494617593219], [0.0511896704235866, 0.03486265047471759, 0.026027915230142248, 0.018907517874687647, 0.017212542210266257, 0.013872507638838266], [0.04122734676347096, 0.02454999627962501, 0.017001412717508043, 0.011396265503933614, 0.009964901291360044, 0.007681464651775093], [0.03532591872959025, 0.0182840764549856, 0.011745740547814593, 0.007247387688813561, 0.006240535366018007, 0.004574728749234805]], \"type\": \"heatmap\"}], {\"plot_bgcolor\": \"#000\", \"paper_bgcolor\": \"#000\", \"width\": 300, \"title\": \"3 Blobs:Confidence after 800 Iters\", \"yaxis\": {\"title\": \"Count Word\", \"tickcolor\": \"#FFF\", \"range\": [-0.5, 5.5], \"dtick\": 1}, \"height\": 300, \"titlefont\": {\"color\": \"#FFF\"}, \"xaxis\": {\"title\": \"Glimpses\", \"tickcolor\": \"#FFF\", \"range\": [-0.5, 5.5], \"dtick\": 1}, \"font\": {\"color\": \"#FFF\"}}, {\"linkText\": \"Export to plot.ly\", \"showLink\": true})});</script>"
      ]
     },
     "metadata": {},
     "output_type": "display_data"
    },
    {
     "data": {
      "application/vnd.plotly.v1+json": {
       "data": [
        {
         "colorscale": "Jet",
         "type": "heatmap",
         "z": [
          [
           0.02912428174583893,
           0.8393839073669539,
           0.8920718078321415,
           0.960522187587678,
           0.939974057338377,
           0.9693627104756708
          ],
          [
           0.9338199374775491,
           0.055881198494602,
           0.011421276637506977,
           0.0006339560967403487,
           0.0007412403765544327,
           0.0001549157350727647
          ],
          [
           0.01574805973441734,
           0.04441966090804187,
           0.04016608075963084,
           0.015301314218972996,
           0.022956577311043735,
           0.011402773182614357
          ],
          [
           0.008501013959295306,
           0.032885307389037305,
           0.034578874330148314,
           0.015780707643053903,
           0.025015346053975686,
           0.013531447114381161
          ],
          [
           0.006772224469720565,
           0.016850917758660613,
           0.01372221074268243,
           0.00513783313711364,
           0.007372917883403239,
           0.003708621457476806
          ],
          [
           0.006033953600610532,
           0.010578443860988234,
           0.008039171402862831,
           0.002623443230779262,
           0.003939327082896685,
           0.0018389865745185984
          ]
         ]
        }
       ],
       "layout": {
        "font": {
         "color": "#FFF"
        },
        "height": 300,
        "paper_bgcolor": "#000",
        "plot_bgcolor": "#000",
        "title": "3 Blobs:Confidence after 1200 Iters",
        "titlefont": {
         "color": "#FFF"
        },
        "width": 300,
        "xaxis": {
         "dtick": 1,
         "range": [
          -0.5,
          5.5
         ],
         "tickcolor": "#FFF",
         "title": "Glimpses"
        },
        "yaxis": {
         "dtick": 1,
         "range": [
          -0.5,
          5.5
         ],
         "tickcolor": "#FFF",
         "title": "Count Word"
        }
       }
      },
      "text/html": [
       "<div id=\"092f0627-d8cc-4f27-8219-46e1969b81a7\" style=\"height: 300px; width: 300px;\" class=\"plotly-graph-div\"></div><script type=\"text/javascript\">require([\"plotly\"], function(Plotly) { window.PLOTLYENV=window.PLOTLYENV || {};window.PLOTLYENV.BASE_URL=\"https://plot.ly\";Plotly.newPlot(\"092f0627-d8cc-4f27-8219-46e1969b81a7\", [{\"colorscale\": \"Jet\", \"z\": [[0.02912428174583893, 0.8393839073669539, 0.8920718078321415, 0.960522187587678, 0.939974057338377, 0.9693627104756708], [0.9338199374775491, 0.055881198494602, 0.011421276637506977, 0.0006339560967403487, 0.0007412403765544327, 0.0001549157350727647], [0.01574805973441734, 0.04441966090804187, 0.04016608075963084, 0.015301314218972996, 0.022956577311043735, 0.011402773182614357], [0.008501013959295306, 0.032885307389037305, 0.034578874330148314, 0.015780707643053903, 0.025015346053975686, 0.013531447114381161], [0.006772224469720565, 0.016850917758660613, 0.01372221074268243, 0.00513783313711364, 0.007372917883403239, 0.003708621457476806], [0.006033953600610532, 0.010578443860988234, 0.008039171402862831, 0.002623443230779262, 0.003939327082896685, 0.0018389865745185984]], \"type\": \"heatmap\"}], {\"plot_bgcolor\": \"#000\", \"paper_bgcolor\": \"#000\", \"width\": 300, \"title\": \"3 Blobs:Confidence after 1200 Iters\", \"yaxis\": {\"title\": \"Count Word\", \"tickcolor\": \"#FFF\", \"range\": [-0.5, 5.5], \"dtick\": 1}, \"height\": 300, \"titlefont\": {\"color\": \"#FFF\"}, \"xaxis\": {\"title\": \"Glimpses\", \"tickcolor\": \"#FFF\", \"range\": [-0.5, 5.5], \"dtick\": 1}, \"font\": {\"color\": \"#FFF\"}}, {\"linkText\": \"Export to plot.ly\", \"showLink\": true})});</script>"
      ],
      "text/vnd.plotly.v1+html": [
       "<div id=\"092f0627-d8cc-4f27-8219-46e1969b81a7\" style=\"height: 300px; width: 300px;\" class=\"plotly-graph-div\"></div><script type=\"text/javascript\">require([\"plotly\"], function(Plotly) { window.PLOTLYENV=window.PLOTLYENV || {};window.PLOTLYENV.BASE_URL=\"https://plot.ly\";Plotly.newPlot(\"092f0627-d8cc-4f27-8219-46e1969b81a7\", [{\"colorscale\": \"Jet\", \"z\": [[0.02912428174583893, 0.8393839073669539, 0.8920718078321415, 0.960522187587678, 0.939974057338377, 0.9693627104756708], [0.9338199374775491, 0.055881198494602, 0.011421276637506977, 0.0006339560967403487, 0.0007412403765544327, 0.0001549157350727647], [0.01574805973441734, 0.04441966090804187, 0.04016608075963084, 0.015301314218972996, 0.022956577311043735, 0.011402773182614357], [0.008501013959295306, 0.032885307389037305, 0.034578874330148314, 0.015780707643053903, 0.025015346053975686, 0.013531447114381161], [0.006772224469720565, 0.016850917758660613, 0.01372221074268243, 0.00513783313711364, 0.007372917883403239, 0.003708621457476806], [0.006033953600610532, 0.010578443860988234, 0.008039171402862831, 0.002623443230779262, 0.003939327082896685, 0.0018389865745185984]], \"type\": \"heatmap\"}], {\"plot_bgcolor\": \"#000\", \"paper_bgcolor\": \"#000\", \"width\": 300, \"title\": \"3 Blobs:Confidence after 1200 Iters\", \"yaxis\": {\"title\": \"Count Word\", \"tickcolor\": \"#FFF\", \"range\": [-0.5, 5.5], \"dtick\": 1}, \"height\": 300, \"titlefont\": {\"color\": \"#FFF\"}, \"xaxis\": {\"title\": \"Glimpses\", \"tickcolor\": \"#FFF\", \"range\": [-0.5, 5.5], \"dtick\": 1}, \"font\": {\"color\": \"#FFF\"}}, {\"linkText\": \"Export to plot.ly\", \"showLink\": true})});</script>"
      ]
     },
     "metadata": {},
     "output_type": "display_data"
    },
    {
     "data": {
      "application/vnd.plotly.v1+json": {
       "data": [
        {
         "colorscale": "Jet",
         "type": "heatmap",
         "z": [
          [
           0.009400949979111005,
           0.959424626932317,
           0.941792088727674,
           0.9748908741487631,
           0.9257226279065465,
           0.9573108476099113
          ],
          [
           0.9851074389409934,
           0.007715446043574667,
           0.0007278164963996912,
           2.281257635209251e-05,
           4.6333481466626094e-05,
           7.238357348497598e-06
          ],
          [
           0.002285659899139484,
           0.010640910372328706,
           0.01788934506078344,
           0.005959276389924669,
           0.0186102886765053,
           0.009054635920402926
          ],
          [
           0.00117400205725566,
           0.011259936592418302,
           0.023598950105169915,
           0.011572258954114078,
           0.035470701341342385,
           0.020804384612227847
          ],
          [
           0.0010140854247771512,
           0.007797622879671951,
           0.011966893985236727,
           0.0060971423300184655,
           0.01582302977803682,
           0.010454521595753222
          ],
          [
           0.001017359362504772,
           0.0031609724419804685,
           0.0040244444291040755,
           0.0014571353172244815,
           0.004326547695977979,
           0.002367854412894549
          ]
         ]
        }
       ],
       "layout": {
        "font": {
         "color": "#FFF"
        },
        "height": 300,
        "paper_bgcolor": "#000",
        "plot_bgcolor": "#000",
        "title": "3 Blobs:Confidence after 1600 Iters",
        "titlefont": {
         "color": "#FFF"
        },
        "width": 300,
        "xaxis": {
         "dtick": 1,
         "range": [
          -0.5,
          5.5
         ],
         "tickcolor": "#FFF",
         "title": "Glimpses"
        },
        "yaxis": {
         "dtick": 1,
         "range": [
          -0.5,
          5.5
         ],
         "tickcolor": "#FFF",
         "title": "Count Word"
        }
       }
      },
      "text/html": [
       "<div id=\"b175e896-b63e-489c-9ac0-0dea0b120f7a\" style=\"height: 300px; width: 300px;\" class=\"plotly-graph-div\"></div><script type=\"text/javascript\">require([\"plotly\"], function(Plotly) { window.PLOTLYENV=window.PLOTLYENV || {};window.PLOTLYENV.BASE_URL=\"https://plot.ly\";Plotly.newPlot(\"b175e896-b63e-489c-9ac0-0dea0b120f7a\", [{\"colorscale\": \"Jet\", \"z\": [[0.009400949979111005, 0.959424626932317, 0.941792088727674, 0.9748908741487631, 0.9257226279065465, 0.9573108476099113], [0.9851074389409934, 0.007715446043574667, 0.0007278164963996912, 2.281257635209251e-05, 4.6333481466626094e-05, 7.238357348497598e-06], [0.002285659899139484, 0.010640910372328706, 0.01788934506078344, 0.005959276389924669, 0.0186102886765053, 0.009054635920402926], [0.00117400205725566, 0.011259936592418302, 0.023598950105169915, 0.011572258954114078, 0.035470701341342385, 0.020804384612227847], [0.0010140854247771512, 0.007797622879671951, 0.011966893985236727, 0.0060971423300184655, 0.01582302977803682, 0.010454521595753222], [0.001017359362504772, 0.0031609724419804685, 0.0040244444291040755, 0.0014571353172244815, 0.004326547695977979, 0.002367854412894549]], \"type\": \"heatmap\"}], {\"plot_bgcolor\": \"#000\", \"paper_bgcolor\": \"#000\", \"width\": 300, \"title\": \"3 Blobs:Confidence after 1600 Iters\", \"yaxis\": {\"title\": \"Count Word\", \"tickcolor\": \"#FFF\", \"range\": [-0.5, 5.5], \"dtick\": 1}, \"height\": 300, \"titlefont\": {\"color\": \"#FFF\"}, \"xaxis\": {\"title\": \"Glimpses\", \"tickcolor\": \"#FFF\", \"range\": [-0.5, 5.5], \"dtick\": 1}, \"font\": {\"color\": \"#FFF\"}}, {\"linkText\": \"Export to plot.ly\", \"showLink\": true})});</script>"
      ],
      "text/vnd.plotly.v1+html": [
       "<div id=\"b175e896-b63e-489c-9ac0-0dea0b120f7a\" style=\"height: 300px; width: 300px;\" class=\"plotly-graph-div\"></div><script type=\"text/javascript\">require([\"plotly\"], function(Plotly) { window.PLOTLYENV=window.PLOTLYENV || {};window.PLOTLYENV.BASE_URL=\"https://plot.ly\";Plotly.newPlot(\"b175e896-b63e-489c-9ac0-0dea0b120f7a\", [{\"colorscale\": \"Jet\", \"z\": [[0.009400949979111005, 0.959424626932317, 0.941792088727674, 0.9748908741487631, 0.9257226279065465, 0.9573108476099113], [0.9851074389409934, 0.007715446043574667, 0.0007278164963996912, 2.281257635209251e-05, 4.6333481466626094e-05, 7.238357348497598e-06], [0.002285659899139484, 0.010640910372328706, 0.01788934506078344, 0.005959276389924669, 0.0186102886765053, 0.009054635920402926], [0.00117400205725566, 0.011259936592418302, 0.023598950105169915, 0.011572258954114078, 0.035470701341342385, 0.020804384612227847], [0.0010140854247771512, 0.007797622879671951, 0.011966893985236727, 0.0060971423300184655, 0.01582302977803682, 0.010454521595753222], [0.001017359362504772, 0.0031609724419804685, 0.0040244444291040755, 0.0014571353172244815, 0.004326547695977979, 0.002367854412894549]], \"type\": \"heatmap\"}], {\"plot_bgcolor\": \"#000\", \"paper_bgcolor\": \"#000\", \"width\": 300, \"title\": \"3 Blobs:Confidence after 1600 Iters\", \"yaxis\": {\"title\": \"Count Word\", \"tickcolor\": \"#FFF\", \"range\": [-0.5, 5.5], \"dtick\": 1}, \"height\": 300, \"titlefont\": {\"color\": \"#FFF\"}, \"xaxis\": {\"title\": \"Glimpses\", \"tickcolor\": \"#FFF\", \"range\": [-0.5, 5.5], \"dtick\": 1}, \"font\": {\"color\": \"#FFF\"}}, {\"linkText\": \"Export to plot.ly\", \"showLink\": true})});</script>"
      ]
     },
     "metadata": {},
     "output_type": "display_data"
    },
    {
     "data": {
      "application/vnd.plotly.v1+json": {
       "data": [
        {
         "colorscale": "Jet",
         "type": "heatmap",
         "z": [
          [
           0.0054751880549256254,
           0.905317123767849,
           0.925468421357484,
           0.9526392680510234,
           0.9077295652691811,
           0.9246952501418493
          ],
          [
           0.9814513619167041,
           0.0031553422918973455,
           2.8428757123146638e-05,
           1.3513665507234537e-06,
           1.2875923064267128e-06,
           3.5093786927420303e-07
          ],
          [
           0.006745981741444811,
           0.04562218814380843,
           0.01682953605447109,
           0.0030878832746854055,
           0.0044705854738775995,
           0.0021406049580902785
          ],
          [
           0.002156278172344986,
           0.024972501060517932,
           0.033492798246169075,
           0.021593634045377726,
           0.044179170242988446,
           0.031660552227399934
          ],
          [
           0.0019996498583565703,
           0.013425585562978503,
           0.017591851413468775,
           0.017621837280822075,
           0.03295829688655576,
           0.032475995622382466
          ],
          [
           0.002171051875633054,
           0.007506774162857047,
           0.006588509921934163,
           0.005055563129276403,
           0.010660623778208726,
           0.009026773731878608
          ]
         ]
        }
       ],
       "layout": {
        "font": {
         "color": "#FFF"
        },
        "height": 300,
        "paper_bgcolor": "#000",
        "plot_bgcolor": "#000",
        "title": "3 Blobs:Confidence after 2400 Iters",
        "titlefont": {
         "color": "#FFF"
        },
        "width": 300,
        "xaxis": {
         "dtick": 1,
         "range": [
          -0.5,
          5.5
         ],
         "tickcolor": "#FFF",
         "title": "Glimpses"
        },
        "yaxis": {
         "dtick": 1,
         "range": [
          -0.5,
          5.5
         ],
         "tickcolor": "#FFF",
         "title": "Count Word"
        }
       }
      },
      "text/html": [
       "<div id=\"fc03d326-2b9c-48a4-a65d-09b86aba6793\" style=\"height: 300px; width: 300px;\" class=\"plotly-graph-div\"></div><script type=\"text/javascript\">require([\"plotly\"], function(Plotly) { window.PLOTLYENV=window.PLOTLYENV || {};window.PLOTLYENV.BASE_URL=\"https://plot.ly\";Plotly.newPlot(\"fc03d326-2b9c-48a4-a65d-09b86aba6793\", [{\"colorscale\": \"Jet\", \"z\": [[0.0054751880549256254, 0.905317123767849, 0.925468421357484, 0.9526392680510234, 0.9077295652691811, 0.9246952501418493], [0.9814513619167041, 0.0031553422918973455, 2.8428757123146638e-05, 1.3513665507234537e-06, 1.2875923064267128e-06, 3.5093786927420303e-07], [0.006745981741444811, 0.04562218814380843, 0.01682953605447109, 0.0030878832746854055, 0.0044705854738775995, 0.0021406049580902785], [0.002156278172344986, 0.024972501060517932, 0.033492798246169075, 0.021593634045377726, 0.044179170242988446, 0.031660552227399934], [0.0019996498583565703, 0.013425585562978503, 0.017591851413468775, 0.017621837280822075, 0.03295829688655576, 0.032475995622382466], [0.002171051875633054, 0.007506774162857047, 0.006588509921934163, 0.005055563129276403, 0.010660623778208726, 0.009026773731878608]], \"type\": \"heatmap\"}], {\"plot_bgcolor\": \"#000\", \"paper_bgcolor\": \"#000\", \"width\": 300, \"title\": \"3 Blobs:Confidence after 2400 Iters\", \"yaxis\": {\"title\": \"Count Word\", \"tickcolor\": \"#FFF\", \"range\": [-0.5, 5.5], \"dtick\": 1}, \"height\": 300, \"titlefont\": {\"color\": \"#FFF\"}, \"xaxis\": {\"title\": \"Glimpses\", \"tickcolor\": \"#FFF\", \"range\": [-0.5, 5.5], \"dtick\": 1}, \"font\": {\"color\": \"#FFF\"}}, {\"linkText\": \"Export to plot.ly\", \"showLink\": true})});</script>"
      ],
      "text/vnd.plotly.v1+html": [
       "<div id=\"fc03d326-2b9c-48a4-a65d-09b86aba6793\" style=\"height: 300px; width: 300px;\" class=\"plotly-graph-div\"></div><script type=\"text/javascript\">require([\"plotly\"], function(Plotly) { window.PLOTLYENV=window.PLOTLYENV || {};window.PLOTLYENV.BASE_URL=\"https://plot.ly\";Plotly.newPlot(\"fc03d326-2b9c-48a4-a65d-09b86aba6793\", [{\"colorscale\": \"Jet\", \"z\": [[0.0054751880549256254, 0.905317123767849, 0.925468421357484, 0.9526392680510234, 0.9077295652691811, 0.9246952501418493], [0.9814513619167041, 0.0031553422918973455, 2.8428757123146638e-05, 1.3513665507234537e-06, 1.2875923064267128e-06, 3.5093786927420303e-07], [0.006745981741444811, 0.04562218814380843, 0.01682953605447109, 0.0030878832746854055, 0.0044705854738775995, 0.0021406049580902785], [0.002156278172344986, 0.024972501060517932, 0.033492798246169075, 0.021593634045377726, 0.044179170242988446, 0.031660552227399934], [0.0019996498583565703, 0.013425585562978503, 0.017591851413468775, 0.017621837280822075, 0.03295829688655576, 0.032475995622382466], [0.002171051875633054, 0.007506774162857047, 0.006588509921934163, 0.005055563129276403, 0.010660623778208726, 0.009026773731878608]], \"type\": \"heatmap\"}], {\"plot_bgcolor\": \"#000\", \"paper_bgcolor\": \"#000\", \"width\": 300, \"title\": \"3 Blobs:Confidence after 2400 Iters\", \"yaxis\": {\"title\": \"Count Word\", \"tickcolor\": \"#FFF\", \"range\": [-0.5, 5.5], \"dtick\": 1}, \"height\": 300, \"titlefont\": {\"color\": \"#FFF\"}, \"xaxis\": {\"title\": \"Glimpses\", \"tickcolor\": \"#FFF\", \"range\": [-0.5, 5.5], \"dtick\": 1}, \"font\": {\"color\": \"#FFF\"}}, {\"linkText\": \"Export to plot.ly\", \"showLink\": true})});</script>"
      ]
     },
     "metadata": {},
     "output_type": "display_data"
    },
    {
     "data": {
      "application/vnd.plotly.v1+json": {
       "data": [
        {
         "colorscale": "Jet",
         "type": "heatmap",
         "z": [
          [
           0.0057895183952737855,
           0.9841529509277585,
           0.9792654757266211,
           0.927206824679495,
           0.8013386409524735,
           0.7054079585934669
          ],
          [
           0.9908939802458312,
           0.00031954858049605597,
           2.9615787622656266e-06,
           7.190326861162773e-07,
           1.9130571857375276e-07,
           6.031004095935044e-08
          ],
          [
           0.0026284774334262035,
           0.0037385816798801456,
           0.0005423179612698055,
           0.0007335264837814597,
           0.0009468201412218054,
           0.0006989742642415545
          ],
          [
           0.0003132507520325789,
           0.007488668153929789,
           0.01147069222123363,
           0.038640952875034607,
           0.10088774327229344,
           0.12705447656255123
          ],
          [
           0.00018547067681202878,
           0.0027845363765468235,
           0.005993692147360623,
           0.021792357521819673,
           0.06116576514323892,
           0.10771130899889568
          ],
          [
           0.0001885857776140416,
           0.0015149862685412971,
           0.0027241565735871983,
           0.011624892919368426,
           0.035660125654610964,
           0.05912651927435461
          ]
         ]
        }
       ],
       "layout": {
        "font": {
         "color": "#FFF"
        },
        "height": 300,
        "paper_bgcolor": "#000",
        "plot_bgcolor": "#000",
        "title": "3 Blobs:Confidence after 3200 Iters",
        "titlefont": {
         "color": "#FFF"
        },
        "width": 300,
        "xaxis": {
         "dtick": 1,
         "range": [
          -0.5,
          5.5
         ],
         "tickcolor": "#FFF",
         "title": "Glimpses"
        },
        "yaxis": {
         "dtick": 1,
         "range": [
          -0.5,
          5.5
         ],
         "tickcolor": "#FFF",
         "title": "Count Word"
        }
       }
      },
      "text/html": [
       "<div id=\"bde0bcf1-4227-45d9-b714-55d6c4cff27b\" style=\"height: 300px; width: 300px;\" class=\"plotly-graph-div\"></div><script type=\"text/javascript\">require([\"plotly\"], function(Plotly) { window.PLOTLYENV=window.PLOTLYENV || {};window.PLOTLYENV.BASE_URL=\"https://plot.ly\";Plotly.newPlot(\"bde0bcf1-4227-45d9-b714-55d6c4cff27b\", [{\"colorscale\": \"Jet\", \"z\": [[0.0057895183952737855, 0.9841529509277585, 0.9792654757266211, 0.927206824679495, 0.8013386409524735, 0.7054079585934669], [0.9908939802458312, 0.00031954858049605597, 2.9615787622656266e-06, 7.190326861162773e-07, 1.9130571857375276e-07, 6.031004095935044e-08], [0.0026284774334262035, 0.0037385816798801456, 0.0005423179612698055, 0.0007335264837814597, 0.0009468201412218054, 0.0006989742642415545], [0.0003132507520325789, 0.007488668153929789, 0.01147069222123363, 0.038640952875034607, 0.10088774327229344, 0.12705447656255123], [0.00018547067681202878, 0.0027845363765468235, 0.005993692147360623, 0.021792357521819673, 0.06116576514323892, 0.10771130899889568], [0.0001885857776140416, 0.0015149862685412971, 0.0027241565735871983, 0.011624892919368426, 0.035660125654610964, 0.05912651927435461]], \"type\": \"heatmap\"}], {\"plot_bgcolor\": \"#000\", \"paper_bgcolor\": \"#000\", \"width\": 300, \"title\": \"3 Blobs:Confidence after 3200 Iters\", \"yaxis\": {\"title\": \"Count Word\", \"tickcolor\": \"#FFF\", \"range\": [-0.5, 5.5], \"dtick\": 1}, \"height\": 300, \"titlefont\": {\"color\": \"#FFF\"}, \"xaxis\": {\"title\": \"Glimpses\", \"tickcolor\": \"#FFF\", \"range\": [-0.5, 5.5], \"dtick\": 1}, \"font\": {\"color\": \"#FFF\"}}, {\"linkText\": \"Export to plot.ly\", \"showLink\": true})});</script>"
      ],
      "text/vnd.plotly.v1+html": [
       "<div id=\"bde0bcf1-4227-45d9-b714-55d6c4cff27b\" style=\"height: 300px; width: 300px;\" class=\"plotly-graph-div\"></div><script type=\"text/javascript\">require([\"plotly\"], function(Plotly) { window.PLOTLYENV=window.PLOTLYENV || {};window.PLOTLYENV.BASE_URL=\"https://plot.ly\";Plotly.newPlot(\"bde0bcf1-4227-45d9-b714-55d6c4cff27b\", [{\"colorscale\": \"Jet\", \"z\": [[0.0057895183952737855, 0.9841529509277585, 0.9792654757266211, 0.927206824679495, 0.8013386409524735, 0.7054079585934669], [0.9908939802458312, 0.00031954858049605597, 2.9615787622656266e-06, 7.190326861162773e-07, 1.9130571857375276e-07, 6.031004095935044e-08], [0.0026284774334262035, 0.0037385816798801456, 0.0005423179612698055, 0.0007335264837814597, 0.0009468201412218054, 0.0006989742642415545], [0.0003132507520325789, 0.007488668153929789, 0.01147069222123363, 0.038640952875034607, 0.10088774327229344, 0.12705447656255123], [0.00018547067681202878, 0.0027845363765468235, 0.005993692147360623, 0.021792357521819673, 0.06116576514323892, 0.10771130899889568], [0.0001885857776140416, 0.0015149862685412971, 0.0027241565735871983, 0.011624892919368426, 0.035660125654610964, 0.05912651927435461]], \"type\": \"heatmap\"}], {\"plot_bgcolor\": \"#000\", \"paper_bgcolor\": \"#000\", \"width\": 300, \"title\": \"3 Blobs:Confidence after 3200 Iters\", \"yaxis\": {\"title\": \"Count Word\", \"tickcolor\": \"#FFF\", \"range\": [-0.5, 5.5], \"dtick\": 1}, \"height\": 300, \"titlefont\": {\"color\": \"#FFF\"}, \"xaxis\": {\"title\": \"Glimpses\", \"tickcolor\": \"#FFF\", \"range\": [-0.5, 5.5], \"dtick\": 1}, \"font\": {\"color\": \"#FFF\"}}, {\"linkText\": \"Export to plot.ly\", \"showLink\": true})});</script>"
      ]
     },
     "metadata": {},
     "output_type": "display_data"
    },
    {
     "data": {
      "application/vnd.plotly.v1+json": {
       "data": [
        {
         "colorscale": "Jet",
         "type": "heatmap",
         "z": [
          [
           0.00016846830041516352,
           0.8827106778569472,
           0.9330163104392892,
           0.8120609493411057,
           0.6083335187310704,
           0.4437930172312418
          ],
          [
           0.9982100278784392,
           0.0005338894891800775,
           1.7206460891734485e-06,
           4.032083386926456e-07,
           3.5910565040673986e-08,
           1.1693191264709696e-08
          ],
          [
           0.0015538994228299706,
           0.08781969284148845,
           0.0010556171611183194,
           0.00042319262596398087,
           0.0002033243434766589,
           0.00011448615026093668
          ],
          [
           4.521217785157091e-05,
           0.017428931184051286,
           0.01535242905749109,
           0.02137468456115402,
           0.02628948187451372,
           0.023540531866663057
          ],
          [
           1.160294069325356e-05,
           0.009383788036553016,
           0.04288229208564582,
           0.13518014222506272,
           0.289229750003494,
           0.415744731631665
          ],
          [
           1.0399190987289257e-05,
           0.0021226129237998446,
           0.007691225257848949,
           0.030960243323062714,
           0.07594348563895174,
           0.11680684560322581
          ]
         ]
        }
       ],
       "layout": {
        "font": {
         "color": "#FFF"
        },
        "height": 300,
        "paper_bgcolor": "#000",
        "plot_bgcolor": "#000",
        "title": "3 Blobs:Confidence after 4800 Iters",
        "titlefont": {
         "color": "#FFF"
        },
        "width": 300,
        "xaxis": {
         "dtick": 1,
         "range": [
          -0.5,
          5.5
         ],
         "tickcolor": "#FFF",
         "title": "Glimpses"
        },
        "yaxis": {
         "dtick": 1,
         "range": [
          -0.5,
          5.5
         ],
         "tickcolor": "#FFF",
         "title": "Count Word"
        }
       }
      },
      "text/html": [
       "<div id=\"7d5378aa-971c-44d8-aac7-ff374b1f3b8a\" style=\"height: 300px; width: 300px;\" class=\"plotly-graph-div\"></div><script type=\"text/javascript\">require([\"plotly\"], function(Plotly) { window.PLOTLYENV=window.PLOTLYENV || {};window.PLOTLYENV.BASE_URL=\"https://plot.ly\";Plotly.newPlot(\"7d5378aa-971c-44d8-aac7-ff374b1f3b8a\", [{\"colorscale\": \"Jet\", \"z\": [[0.00016846830041516352, 0.8827106778569472, 0.9330163104392892, 0.8120609493411057, 0.6083335187310704, 0.4437930172312418], [0.9982100278784392, 0.0005338894891800775, 1.7206460891734485e-06, 4.032083386926456e-07, 3.5910565040673986e-08, 1.1693191264709696e-08], [0.0015538994228299706, 0.08781969284148845, 0.0010556171611183194, 0.00042319262596398087, 0.0002033243434766589, 0.00011448615026093668], [4.521217785157091e-05, 0.017428931184051286, 0.01535242905749109, 0.02137468456115402, 0.02628948187451372, 0.023540531866663057], [1.160294069325356e-05, 0.009383788036553016, 0.04288229208564582, 0.13518014222506272, 0.289229750003494, 0.415744731631665], [1.0399190987289257e-05, 0.0021226129237998446, 0.007691225257848949, 0.030960243323062714, 0.07594348563895174, 0.11680684560322581]], \"type\": \"heatmap\"}], {\"plot_bgcolor\": \"#000\", \"paper_bgcolor\": \"#000\", \"width\": 300, \"title\": \"3 Blobs:Confidence after 4800 Iters\", \"yaxis\": {\"title\": \"Count Word\", \"tickcolor\": \"#FFF\", \"range\": [-0.5, 5.5], \"dtick\": 1}, \"height\": 300, \"titlefont\": {\"color\": \"#FFF\"}, \"xaxis\": {\"title\": \"Glimpses\", \"tickcolor\": \"#FFF\", \"range\": [-0.5, 5.5], \"dtick\": 1}, \"font\": {\"color\": \"#FFF\"}}, {\"linkText\": \"Export to plot.ly\", \"showLink\": true})});</script>"
      ],
      "text/vnd.plotly.v1+html": [
       "<div id=\"7d5378aa-971c-44d8-aac7-ff374b1f3b8a\" style=\"height: 300px; width: 300px;\" class=\"plotly-graph-div\"></div><script type=\"text/javascript\">require([\"plotly\"], function(Plotly) { window.PLOTLYENV=window.PLOTLYENV || {};window.PLOTLYENV.BASE_URL=\"https://plot.ly\";Plotly.newPlot(\"7d5378aa-971c-44d8-aac7-ff374b1f3b8a\", [{\"colorscale\": \"Jet\", \"z\": [[0.00016846830041516352, 0.8827106778569472, 0.9330163104392892, 0.8120609493411057, 0.6083335187310704, 0.4437930172312418], [0.9982100278784392, 0.0005338894891800775, 1.7206460891734485e-06, 4.032083386926456e-07, 3.5910565040673986e-08, 1.1693191264709696e-08], [0.0015538994228299706, 0.08781969284148845, 0.0010556171611183194, 0.00042319262596398087, 0.0002033243434766589, 0.00011448615026093668], [4.521217785157091e-05, 0.017428931184051286, 0.01535242905749109, 0.02137468456115402, 0.02628948187451372, 0.023540531866663057], [1.160294069325356e-05, 0.009383788036553016, 0.04288229208564582, 0.13518014222506272, 0.289229750003494, 0.415744731631665], [1.0399190987289257e-05, 0.0021226129237998446, 0.007691225257848949, 0.030960243323062714, 0.07594348563895174, 0.11680684560322581]], \"type\": \"heatmap\"}], {\"plot_bgcolor\": \"#000\", \"paper_bgcolor\": \"#000\", \"width\": 300, \"title\": \"3 Blobs:Confidence after 4800 Iters\", \"yaxis\": {\"title\": \"Count Word\", \"tickcolor\": \"#FFF\", \"range\": [-0.5, 5.5], \"dtick\": 1}, \"height\": 300, \"titlefont\": {\"color\": \"#FFF\"}, \"xaxis\": {\"title\": \"Glimpses\", \"tickcolor\": \"#FFF\", \"range\": [-0.5, 5.5], \"dtick\": 1}, \"font\": {\"color\": \"#FFF\"}}, {\"linkText\": \"Export to plot.ly\", \"showLink\": true})});</script>"
      ]
     },
     "metadata": {},
     "output_type": "display_data"
    },
    {
     "data": {
      "application/vnd.plotly.v1+json": {
       "data": [
        {
         "colorscale": "Jet",
         "type": "heatmap",
         "z": [
          [
           5.5263256580311714e-05,
           0.5740855515597273,
           0.8566049588960295,
           0.7370224455490771,
           0.5943387456549971,
           0.49120192389594486
          ],
          [
           0.99897183450877,
           0.0013915818918243733,
           9.002034373125064e-07,
           6.419179669691666e-08,
           2.6634189565981605e-08,
           1.532949050143696e-08
          ],
          [
           0.0009520975189751578,
           0.41411510234668797,
           0.014827310633336125,
           0.0011333663854989774,
           0.0003771489102623854,
           0.0002426371027706592
          ],
          [
           1.2807149545175376e-05,
           0.00918449818673974,
           0.08707836426977336,
           0.0663321128184637,
           0.04333065275528971,
           0.03478479548362094
          ],
          [
           4.089082953816344e-06,
           0.0009474989332928692,
           0.031970721678680904,
           0.12245717209197102,
           0.18244661293392198,
           0.20559689539823958
          ],
          [
           3.4694405923366037e-06,
           0.0002753040178256392,
           0.00951729227233561,
           0.07305437697201798,
           0.1795063604924629,
           0.2681732726584532
          ]
         ]
        }
       ],
       "layout": {
        "font": {
         "color": "#FFF"
        },
        "height": 300,
        "paper_bgcolor": "#000",
        "plot_bgcolor": "#000",
        "title": "3 Blobs:Confidence after 6400 Iters",
        "titlefont": {
         "color": "#FFF"
        },
        "width": 300,
        "xaxis": {
         "dtick": 1,
         "range": [
          -0.5,
          5.5
         ],
         "tickcolor": "#FFF",
         "title": "Glimpses"
        },
        "yaxis": {
         "dtick": 1,
         "range": [
          -0.5,
          5.5
         ],
         "tickcolor": "#FFF",
         "title": "Count Word"
        }
       }
      },
      "text/html": [
       "<div id=\"3cabd343-8f63-4aba-985a-140ea7bd3806\" style=\"height: 300px; width: 300px;\" class=\"plotly-graph-div\"></div><script type=\"text/javascript\">require([\"plotly\"], function(Plotly) { window.PLOTLYENV=window.PLOTLYENV || {};window.PLOTLYENV.BASE_URL=\"https://plot.ly\";Plotly.newPlot(\"3cabd343-8f63-4aba-985a-140ea7bd3806\", [{\"colorscale\": \"Jet\", \"z\": [[5.5263256580311714e-05, 0.5740855515597273, 0.8566049588960295, 0.7370224455490771, 0.5943387456549971, 0.49120192389594486], [0.99897183450877, 0.0013915818918243733, 9.002034373125064e-07, 6.419179669691666e-08, 2.6634189565981605e-08, 1.532949050143696e-08], [0.0009520975189751578, 0.41411510234668797, 0.014827310633336125, 0.0011333663854989774, 0.0003771489102623854, 0.0002426371027706592], [1.2807149545175376e-05, 0.00918449818673974, 0.08707836426977336, 0.0663321128184637, 0.04333065275528971, 0.03478479548362094], [4.089082953816344e-06, 0.0009474989332928692, 0.031970721678680904, 0.12245717209197102, 0.18244661293392198, 0.20559689539823958], [3.4694405923366037e-06, 0.0002753040178256392, 0.00951729227233561, 0.07305437697201798, 0.1795063604924629, 0.2681732726584532]], \"type\": \"heatmap\"}], {\"plot_bgcolor\": \"#000\", \"paper_bgcolor\": \"#000\", \"width\": 300, \"title\": \"3 Blobs:Confidence after 6400 Iters\", \"yaxis\": {\"title\": \"Count Word\", \"tickcolor\": \"#FFF\", \"range\": [-0.5, 5.5], \"dtick\": 1}, \"height\": 300, \"titlefont\": {\"color\": \"#FFF\"}, \"xaxis\": {\"title\": \"Glimpses\", \"tickcolor\": \"#FFF\", \"range\": [-0.5, 5.5], \"dtick\": 1}, \"font\": {\"color\": \"#FFF\"}}, {\"linkText\": \"Export to plot.ly\", \"showLink\": true})});</script>"
      ],
      "text/vnd.plotly.v1+html": [
       "<div id=\"3cabd343-8f63-4aba-985a-140ea7bd3806\" style=\"height: 300px; width: 300px;\" class=\"plotly-graph-div\"></div><script type=\"text/javascript\">require([\"plotly\"], function(Plotly) { window.PLOTLYENV=window.PLOTLYENV || {};window.PLOTLYENV.BASE_URL=\"https://plot.ly\";Plotly.newPlot(\"3cabd343-8f63-4aba-985a-140ea7bd3806\", [{\"colorscale\": \"Jet\", \"z\": [[5.5263256580311714e-05, 0.5740855515597273, 0.8566049588960295, 0.7370224455490771, 0.5943387456549971, 0.49120192389594486], [0.99897183450877, 0.0013915818918243733, 9.002034373125064e-07, 6.419179669691666e-08, 2.6634189565981605e-08, 1.532949050143696e-08], [0.0009520975189751578, 0.41411510234668797, 0.014827310633336125, 0.0011333663854989774, 0.0003771489102623854, 0.0002426371027706592], [1.2807149545175376e-05, 0.00918449818673974, 0.08707836426977336, 0.0663321128184637, 0.04333065275528971, 0.03478479548362094], [4.089082953816344e-06, 0.0009474989332928692, 0.031970721678680904, 0.12245717209197102, 0.18244661293392198, 0.20559689539823958], [3.4694405923366037e-06, 0.0002753040178256392, 0.00951729227233561, 0.07305437697201798, 0.1795063604924629, 0.2681732726584532]], \"type\": \"heatmap\"}], {\"plot_bgcolor\": \"#000\", \"paper_bgcolor\": \"#000\", \"width\": 300, \"title\": \"3 Blobs:Confidence after 6400 Iters\", \"yaxis\": {\"title\": \"Count Word\", \"tickcolor\": \"#FFF\", \"range\": [-0.5, 5.5], \"dtick\": 1}, \"height\": 300, \"titlefont\": {\"color\": \"#FFF\"}, \"xaxis\": {\"title\": \"Glimpses\", \"tickcolor\": \"#FFF\", \"range\": [-0.5, 5.5], \"dtick\": 1}, \"font\": {\"color\": \"#FFF\"}}, {\"linkText\": \"Export to plot.ly\", \"showLink\": true})});</script>"
      ]
     },
     "metadata": {},
     "output_type": "display_data"
    },
    {
     "data": {
      "application/vnd.plotly.v1+json": {
       "data": [
        {
         "colorscale": "Jet",
         "type": "heatmap",
         "z": [
          [
           1.5431635419071162e-05,
           0.9640808738889378,
           0.8380927693586523,
           0.6154582939840335,
           0.4702530551094687,
           0.40782743417593975
          ],
          [
           0.9999415166308042,
           0.0006708183093121392,
           8.58974765485417e-07,
           1.1512806431627137e-07,
           4.3201558934388736e-08,
           2.9673492903111546e-08
          ],
          [
           4.203262732727922e-05,
           0.027416835427934827,
           0.001052611170344689,
           0.0001526661079614492,
           4.504886204279154e-05,
           2.4555323125758468e-05
          ],
          [
           1.8312532424645345e-07,
           0.006734818182207663,
           0.13498227217415762,
           0.1565384544050854,
           0.06146817691579815,
           0.033375005220929635
          ],
          [
           1.2666204271703747e-07,
           0.0008756650016931183,
           0.022763831148633,
           0.17806991524942425,
           0.28959836188989074,
           0.2872342178526367
          ],
          [
           2.1524046156996963e-07,
           0.0002204881882656415,
           0.0031071608717140827,
           0.04978006638077122,
           0.17863481575265858,
           0.271538252959969
          ]
         ]
        }
       ],
       "layout": {
        "font": {
         "color": "#FFF"
        },
        "height": 300,
        "paper_bgcolor": "#000",
        "plot_bgcolor": "#000",
        "title": "3 Blobs:Confidence after 9600 Iters",
        "titlefont": {
         "color": "#FFF"
        },
        "width": 300,
        "xaxis": {
         "dtick": 1,
         "range": [
          -0.5,
          5.5
         ],
         "tickcolor": "#FFF",
         "title": "Glimpses"
        },
        "yaxis": {
         "dtick": 1,
         "range": [
          -0.5,
          5.5
         ],
         "tickcolor": "#FFF",
         "title": "Count Word"
        }
       }
      },
      "text/html": [
       "<div id=\"ad04390d-e941-4f61-87c0-f08784ee20ad\" style=\"height: 300px; width: 300px;\" class=\"plotly-graph-div\"></div><script type=\"text/javascript\">require([\"plotly\"], function(Plotly) { window.PLOTLYENV=window.PLOTLYENV || {};window.PLOTLYENV.BASE_URL=\"https://plot.ly\";Plotly.newPlot(\"ad04390d-e941-4f61-87c0-f08784ee20ad\", [{\"colorscale\": \"Jet\", \"z\": [[1.5431635419071162e-05, 0.9640808738889378, 0.8380927693586523, 0.6154582939840335, 0.4702530551094687, 0.40782743417593975], [0.9999415166308042, 0.0006708183093121392, 8.58974765485417e-07, 1.1512806431627137e-07, 4.3201558934388736e-08, 2.9673492903111546e-08], [4.203262732727922e-05, 0.027416835427934827, 0.001052611170344689, 0.0001526661079614492, 4.504886204279154e-05, 2.4555323125758468e-05], [1.8312532424645345e-07, 0.006734818182207663, 0.13498227217415762, 0.1565384544050854, 0.06146817691579815, 0.033375005220929635], [1.2666204271703747e-07, 0.0008756650016931183, 0.022763831148633, 0.17806991524942425, 0.28959836188989074, 0.2872342178526367], [2.1524046156996963e-07, 0.0002204881882656415, 0.0031071608717140827, 0.04978006638077122, 0.17863481575265858, 0.271538252959969]], \"type\": \"heatmap\"}], {\"plot_bgcolor\": \"#000\", \"paper_bgcolor\": \"#000\", \"width\": 300, \"title\": \"3 Blobs:Confidence after 9600 Iters\", \"yaxis\": {\"title\": \"Count Word\", \"tickcolor\": \"#FFF\", \"range\": [-0.5, 5.5], \"dtick\": 1}, \"height\": 300, \"titlefont\": {\"color\": \"#FFF\"}, \"xaxis\": {\"title\": \"Glimpses\", \"tickcolor\": \"#FFF\", \"range\": [-0.5, 5.5], \"dtick\": 1}, \"font\": {\"color\": \"#FFF\"}}, {\"linkText\": \"Export to plot.ly\", \"showLink\": true})});</script>"
      ],
      "text/vnd.plotly.v1+html": [
       "<div id=\"ad04390d-e941-4f61-87c0-f08784ee20ad\" style=\"height: 300px; width: 300px;\" class=\"plotly-graph-div\"></div><script type=\"text/javascript\">require([\"plotly\"], function(Plotly) { window.PLOTLYENV=window.PLOTLYENV || {};window.PLOTLYENV.BASE_URL=\"https://plot.ly\";Plotly.newPlot(\"ad04390d-e941-4f61-87c0-f08784ee20ad\", [{\"colorscale\": \"Jet\", \"z\": [[1.5431635419071162e-05, 0.9640808738889378, 0.8380927693586523, 0.6154582939840335, 0.4702530551094687, 0.40782743417593975], [0.9999415166308042, 0.0006708183093121392, 8.58974765485417e-07, 1.1512806431627137e-07, 4.3201558934388736e-08, 2.9673492903111546e-08], [4.203262732727922e-05, 0.027416835427934827, 0.001052611170344689, 0.0001526661079614492, 4.504886204279154e-05, 2.4555323125758468e-05], [1.8312532424645345e-07, 0.006734818182207663, 0.13498227217415762, 0.1565384544050854, 0.06146817691579815, 0.033375005220929635], [1.2666204271703747e-07, 0.0008756650016931183, 0.022763831148633, 0.17806991524942425, 0.28959836188989074, 0.2872342178526367], [2.1524046156996963e-07, 0.0002204881882656415, 0.0031071608717140827, 0.04978006638077122, 0.17863481575265858, 0.271538252959969]], \"type\": \"heatmap\"}], {\"plot_bgcolor\": \"#000\", \"paper_bgcolor\": \"#000\", \"width\": 300, \"title\": \"3 Blobs:Confidence after 9600 Iters\", \"yaxis\": {\"title\": \"Count Word\", \"tickcolor\": \"#FFF\", \"range\": [-0.5, 5.5], \"dtick\": 1}, \"height\": 300, \"titlefont\": {\"color\": \"#FFF\"}, \"xaxis\": {\"title\": \"Glimpses\", \"tickcolor\": \"#FFF\", \"range\": [-0.5, 5.5], \"dtick\": 1}, \"font\": {\"color\": \"#FFF\"}}, {\"linkText\": \"Export to plot.ly\", \"showLink\": true})});</script>"
      ]
     },
     "metadata": {},
     "output_type": "display_data"
    },
    {
     "data": {
      "application/vnd.plotly.v1+json": {
       "data": [
        {
         "colorscale": "Jet",
         "type": "heatmap",
         "z": [
          [
           4.619534389356988e-05,
           0.8062754107026243,
           0.9041697183415096,
           0.8634201024238599,
           0.7751786140996502,
           0.674954815987863
          ],
          [
           0.9997259148175236,
           0.0005539800655662823,
           3.0246730162812577e-06,
           1.6936011089428635e-06,
           2.666927257391749e-07,
           2.3572200271742855e-07
          ],
          [
           0.00022571919772377327,
           0.19060287533408077,
           0.0023532505575411273,
           9.224713547755615e-05,
           2.778032224123884e-05,
           1.7204608586022374e-05
          ],
          [
           3.40226325041476e-07,
           0.002131772840989913,
           0.08226925940907344,
           0.02607568223096868,
           0.008900928843161291,
           0.005078207711836318
          ],
          [
           3.449798807451929e-07,
           0.00027900847120551663,
           0.009562312477522138,
           0.07828527993607369,
           0.09048683431022869,
           0.09067746709837163
          ],
          [
           1.0051706813911314e-06,
           0.00015644497794343245,
           0.001641938608131299,
           0.03212445706903323,
           0.12540506634271487,
           0.22927153642362091
          ]
         ]
        }
       ],
       "layout": {
        "font": {
         "color": "#FFF"
        },
        "height": 300,
        "paper_bgcolor": "#000",
        "plot_bgcolor": "#000",
        "title": "3 Blobs:Confidence after 12800 Iters",
        "titlefont": {
         "color": "#FFF"
        },
        "width": 300,
        "xaxis": {
         "dtick": 1,
         "range": [
          -0.5,
          5.5
         ],
         "tickcolor": "#FFF",
         "title": "Glimpses"
        },
        "yaxis": {
         "dtick": 1,
         "range": [
          -0.5,
          5.5
         ],
         "tickcolor": "#FFF",
         "title": "Count Word"
        }
       }
      },
      "text/html": [
       "<div id=\"ef3dcafe-3d18-41bc-941c-2f5cbbad004d\" style=\"height: 300px; width: 300px;\" class=\"plotly-graph-div\"></div><script type=\"text/javascript\">require([\"plotly\"], function(Plotly) { window.PLOTLYENV=window.PLOTLYENV || {};window.PLOTLYENV.BASE_URL=\"https://plot.ly\";Plotly.newPlot(\"ef3dcafe-3d18-41bc-941c-2f5cbbad004d\", [{\"colorscale\": \"Jet\", \"z\": [[4.619534389356988e-05, 0.8062754107026243, 0.9041697183415096, 0.8634201024238599, 0.7751786140996502, 0.674954815987863], [0.9997259148175236, 0.0005539800655662823, 3.0246730162812577e-06, 1.6936011089428635e-06, 2.666927257391749e-07, 2.3572200271742855e-07], [0.00022571919772377327, 0.19060287533408077, 0.0023532505575411273, 9.224713547755615e-05, 2.778032224123884e-05, 1.7204608586022374e-05], [3.40226325041476e-07, 0.002131772840989913, 0.08226925940907344, 0.02607568223096868, 0.008900928843161291, 0.005078207711836318], [3.449798807451929e-07, 0.00027900847120551663, 0.009562312477522138, 0.07828527993607369, 0.09048683431022869, 0.09067746709837163], [1.0051706813911314e-06, 0.00015644497794343245, 0.001641938608131299, 0.03212445706903323, 0.12540506634271487, 0.22927153642362091]], \"type\": \"heatmap\"}], {\"plot_bgcolor\": \"#000\", \"paper_bgcolor\": \"#000\", \"width\": 300, \"title\": \"3 Blobs:Confidence after 12800 Iters\", \"yaxis\": {\"title\": \"Count Word\", \"tickcolor\": \"#FFF\", \"range\": [-0.5, 5.5], \"dtick\": 1}, \"height\": 300, \"titlefont\": {\"color\": \"#FFF\"}, \"xaxis\": {\"title\": \"Glimpses\", \"tickcolor\": \"#FFF\", \"range\": [-0.5, 5.5], \"dtick\": 1}, \"font\": {\"color\": \"#FFF\"}}, {\"linkText\": \"Export to plot.ly\", \"showLink\": true})});</script>"
      ],
      "text/vnd.plotly.v1+html": [
       "<div id=\"ef3dcafe-3d18-41bc-941c-2f5cbbad004d\" style=\"height: 300px; width: 300px;\" class=\"plotly-graph-div\"></div><script type=\"text/javascript\">require([\"plotly\"], function(Plotly) { window.PLOTLYENV=window.PLOTLYENV || {};window.PLOTLYENV.BASE_URL=\"https://plot.ly\";Plotly.newPlot(\"ef3dcafe-3d18-41bc-941c-2f5cbbad004d\", [{\"colorscale\": \"Jet\", \"z\": [[4.619534389356988e-05, 0.8062754107026243, 0.9041697183415096, 0.8634201024238599, 0.7751786140996502, 0.674954815987863], [0.9997259148175236, 0.0005539800655662823, 3.0246730162812577e-06, 1.6936011089428635e-06, 2.666927257391749e-07, 2.3572200271742855e-07], [0.00022571919772377327, 0.19060287533408077, 0.0023532505575411273, 9.224713547755615e-05, 2.778032224123884e-05, 1.7204608586022374e-05], [3.40226325041476e-07, 0.002131772840989913, 0.08226925940907344, 0.02607568223096868, 0.008900928843161291, 0.005078207711836318], [3.449798807451929e-07, 0.00027900847120551663, 0.009562312477522138, 0.07828527993607369, 0.09048683431022869, 0.09067746709837163], [1.0051706813911314e-06, 0.00015644497794343245, 0.001641938608131299, 0.03212445706903323, 0.12540506634271487, 0.22927153642362091]], \"type\": \"heatmap\"}], {\"plot_bgcolor\": \"#000\", \"paper_bgcolor\": \"#000\", \"width\": 300, \"title\": \"3 Blobs:Confidence after 12800 Iters\", \"yaxis\": {\"title\": \"Count Word\", \"tickcolor\": \"#FFF\", \"range\": [-0.5, 5.5], \"dtick\": 1}, \"height\": 300, \"titlefont\": {\"color\": \"#FFF\"}, \"xaxis\": {\"title\": \"Glimpses\", \"tickcolor\": \"#FFF\", \"range\": [-0.5, 5.5], \"dtick\": 1}, \"font\": {\"color\": \"#FFF\"}}, {\"linkText\": \"Export to plot.ly\", \"showLink\": true})});</script>"
      ]
     },
     "metadata": {},
     "output_type": "display_data"
    },
    {
     "data": {
      "application/vnd.plotly.v1+json": {
       "data": [
        {
         "colorscale": "Jet",
         "type": "heatmap",
         "z": [
          [
           4.177293426714787e-06,
           0.7023868728516516,
           0.9835605056220904,
           0.8357890900118071,
           0.6886887658809304,
           0.6709633028226069
          ],
          [
           0.9999721684973785,
           0.004982547324543358,
           1.7182752873850844e-06,
           4.562480226372559e-06,
           9.418981541746724e-06,
           4.485101801170945e-06
          ],
          [
           2.2982446654950125e-05,
           0.29195283998785493,
           0.00026378218629907675,
           6.918101722508357e-06,
           8.90131470436962e-06,
           1.3089539634596024e-05
          ],
          [
           8.222345096582103e-09,
           0.0006070515441406164,
           0.009695378424264827,
           0.0005937270915064126,
           0.00017808039860628494,
           0.0001526032586972909
          ],
          [
           2.0719456464904927e-08,
           3.536195241879563e-05,
           0.005943639050392809,
           0.12257568017891637,
           0.06265214611421797,
           0.034186037302910276
          ],
          [
           1.372184811183852e-07,
           3.481536830234804e-05,
           0.0005344251570134263,
           0.041029491005916095,
           0.24846218115393484,
           0.2946799583683104
          ]
         ]
        }
       ],
       "layout": {
        "font": {
         "color": "#FFF"
        },
        "height": 300,
        "paper_bgcolor": "#000",
        "plot_bgcolor": "#000",
        "title": "3 Blobs:Confidence after 19200 Iters",
        "titlefont": {
         "color": "#FFF"
        },
        "width": 300,
        "xaxis": {
         "dtick": 1,
         "range": [
          -0.5,
          5.5
         ],
         "tickcolor": "#FFF",
         "title": "Glimpses"
        },
        "yaxis": {
         "dtick": 1,
         "range": [
          -0.5,
          5.5
         ],
         "tickcolor": "#FFF",
         "title": "Count Word"
        }
       }
      },
      "text/html": [
       "<div id=\"02a2c998-56e2-4997-8c86-07d2e3963731\" style=\"height: 300px; width: 300px;\" class=\"plotly-graph-div\"></div><script type=\"text/javascript\">require([\"plotly\"], function(Plotly) { window.PLOTLYENV=window.PLOTLYENV || {};window.PLOTLYENV.BASE_URL=\"https://plot.ly\";Plotly.newPlot(\"02a2c998-56e2-4997-8c86-07d2e3963731\", [{\"colorscale\": \"Jet\", \"z\": [[4.177293426714787e-06, 0.7023868728516516, 0.9835605056220904, 0.8357890900118071, 0.6886887658809304, 0.6709633028226069], [0.9999721684973785, 0.004982547324543358, 1.7182752873850844e-06, 4.562480226372559e-06, 9.418981541746724e-06, 4.485101801170945e-06], [2.2982446654950125e-05, 0.29195283998785493, 0.00026378218629907675, 6.918101722508357e-06, 8.90131470436962e-06, 1.3089539634596024e-05], [8.222345096582103e-09, 0.0006070515441406164, 0.009695378424264827, 0.0005937270915064126, 0.00017808039860628494, 0.0001526032586972909], [2.0719456464904927e-08, 3.536195241879563e-05, 0.005943639050392809, 0.12257568017891637, 0.06265214611421797, 0.034186037302910276], [1.372184811183852e-07, 3.481536830234804e-05, 0.0005344251570134263, 0.041029491005916095, 0.24846218115393484, 0.2946799583683104]], \"type\": \"heatmap\"}], {\"plot_bgcolor\": \"#000\", \"paper_bgcolor\": \"#000\", \"width\": 300, \"title\": \"3 Blobs:Confidence after 19200 Iters\", \"yaxis\": {\"title\": \"Count Word\", \"tickcolor\": \"#FFF\", \"range\": [-0.5, 5.5], \"dtick\": 1}, \"height\": 300, \"titlefont\": {\"color\": \"#FFF\"}, \"xaxis\": {\"title\": \"Glimpses\", \"tickcolor\": \"#FFF\", \"range\": [-0.5, 5.5], \"dtick\": 1}, \"font\": {\"color\": \"#FFF\"}}, {\"linkText\": \"Export to plot.ly\", \"showLink\": true})});</script>"
      ],
      "text/vnd.plotly.v1+html": [
       "<div id=\"02a2c998-56e2-4997-8c86-07d2e3963731\" style=\"height: 300px; width: 300px;\" class=\"plotly-graph-div\"></div><script type=\"text/javascript\">require([\"plotly\"], function(Plotly) { window.PLOTLYENV=window.PLOTLYENV || {};window.PLOTLYENV.BASE_URL=\"https://plot.ly\";Plotly.newPlot(\"02a2c998-56e2-4997-8c86-07d2e3963731\", [{\"colorscale\": \"Jet\", \"z\": [[4.177293426714787e-06, 0.7023868728516516, 0.9835605056220904, 0.8357890900118071, 0.6886887658809304, 0.6709633028226069], [0.9999721684973785, 0.004982547324543358, 1.7182752873850844e-06, 4.562480226372559e-06, 9.418981541746724e-06, 4.485101801170945e-06], [2.2982446654950125e-05, 0.29195283998785493, 0.00026378218629907675, 6.918101722508357e-06, 8.90131470436962e-06, 1.3089539634596024e-05], [8.222345096582103e-09, 0.0006070515441406164, 0.009695378424264827, 0.0005937270915064126, 0.00017808039860628494, 0.0001526032586972909], [2.0719456464904927e-08, 3.536195241879563e-05, 0.005943639050392809, 0.12257568017891637, 0.06265214611421797, 0.034186037302910276], [1.372184811183852e-07, 3.481536830234804e-05, 0.0005344251570134263, 0.041029491005916095, 0.24846218115393484, 0.2946799583683104]], \"type\": \"heatmap\"}], {\"plot_bgcolor\": \"#000\", \"paper_bgcolor\": \"#000\", \"width\": 300, \"title\": \"3 Blobs:Confidence after 19200 Iters\", \"yaxis\": {\"title\": \"Count Word\", \"tickcolor\": \"#FFF\", \"range\": [-0.5, 5.5], \"dtick\": 1}, \"height\": 300, \"titlefont\": {\"color\": \"#FFF\"}, \"xaxis\": {\"title\": \"Glimpses\", \"tickcolor\": \"#FFF\", \"range\": [-0.5, 5.5], \"dtick\": 1}, \"font\": {\"color\": \"#FFF\"}}, {\"linkText\": \"Export to plot.ly\", \"showLink\": true})});</script>"
      ]
     },
     "metadata": {},
     "output_type": "display_data"
    },
    {
     "data": {
      "application/vnd.plotly.v1+json": {
       "data": [
        {
         "colorscale": "Jet",
         "type": "heatmap",
         "z": [
          [
           2.136616455527123e-05,
           0.9636188935496932,
           0.9978513992048227,
           0.9875686617350383,
           0.9746983504107527,
           0.9867524671824268
          ],
          [
           0.9999671273473945,
           0.0024116835115328824,
           0.00022295296278487155,
           0.00014978892639640225,
           0.0031416332764929718,
           0.00043800607012015416
          ],
          [
           1.0086452086488328e-05,
           0.03356901279865115,
           2.0376026597945237e-05,
           4.341049555306293e-06,
           6.781388391211299e-06,
           1.5766571383278038e-05
          ],
          [
           1.7759160465376685e-08,
           0.00030173908367798623,
           0.00026700130105657827,
           3.8006094857834276e-05,
           1.3364912816273894e-05,
           1.3126994127725487e-05
          ],
          [
           1.4720068530442128e-07,
           5.322404779316203e-05,
           0.001310529381818175,
           0.00604671109564659,
           0.002716857877315414,
           0.0011566466008779345
          ],
          [
           8.246200316442852e-07,
           4.5000777675824036e-05,
           0.00032730507349786894,
           0.006192052140157605,
           0.019422588847720926,
           0.011623560782723065
          ]
         ]
        }
       ],
       "layout": {
        "font": {
         "color": "#FFF"
        },
        "height": 300,
        "paper_bgcolor": "#000",
        "plot_bgcolor": "#000",
        "title": "3 Blobs:Confidence after 25600 Iters",
        "titlefont": {
         "color": "#FFF"
        },
        "width": 300,
        "xaxis": {
         "dtick": 1,
         "range": [
          -0.5,
          5.5
         ],
         "tickcolor": "#FFF",
         "title": "Glimpses"
        },
        "yaxis": {
         "dtick": 1,
         "range": [
          -0.5,
          5.5
         ],
         "tickcolor": "#FFF",
         "title": "Count Word"
        }
       }
      },
      "text/html": [
       "<div id=\"b4f9ba55-bb42-4277-9333-b15614a7f0e7\" style=\"height: 300px; width: 300px;\" class=\"plotly-graph-div\"></div><script type=\"text/javascript\">require([\"plotly\"], function(Plotly) { window.PLOTLYENV=window.PLOTLYENV || {};window.PLOTLYENV.BASE_URL=\"https://plot.ly\";Plotly.newPlot(\"b4f9ba55-bb42-4277-9333-b15614a7f0e7\", [{\"colorscale\": \"Jet\", \"z\": [[2.136616455527123e-05, 0.9636188935496932, 0.9978513992048227, 0.9875686617350383, 0.9746983504107527, 0.9867524671824268], [0.9999671273473945, 0.0024116835115328824, 0.00022295296278487155, 0.00014978892639640225, 0.0031416332764929718, 0.00043800607012015416], [1.0086452086488328e-05, 0.03356901279865115, 2.0376026597945237e-05, 4.341049555306293e-06, 6.781388391211299e-06, 1.5766571383278038e-05], [1.7759160465376685e-08, 0.00030173908367798623, 0.00026700130105657827, 3.8006094857834276e-05, 1.3364912816273894e-05, 1.3126994127725487e-05], [1.4720068530442128e-07, 5.322404779316203e-05, 0.001310529381818175, 0.00604671109564659, 0.002716857877315414, 0.0011566466008779345], [8.246200316442852e-07, 4.5000777675824036e-05, 0.00032730507349786894, 0.006192052140157605, 0.019422588847720926, 0.011623560782723065]], \"type\": \"heatmap\"}], {\"plot_bgcolor\": \"#000\", \"paper_bgcolor\": \"#000\", \"width\": 300, \"title\": \"3 Blobs:Confidence after 25600 Iters\", \"yaxis\": {\"title\": \"Count Word\", \"tickcolor\": \"#FFF\", \"range\": [-0.5, 5.5], \"dtick\": 1}, \"height\": 300, \"titlefont\": {\"color\": \"#FFF\"}, \"xaxis\": {\"title\": \"Glimpses\", \"tickcolor\": \"#FFF\", \"range\": [-0.5, 5.5], \"dtick\": 1}, \"font\": {\"color\": \"#FFF\"}}, {\"linkText\": \"Export to plot.ly\", \"showLink\": true})});</script>"
      ],
      "text/vnd.plotly.v1+html": [
       "<div id=\"b4f9ba55-bb42-4277-9333-b15614a7f0e7\" style=\"height: 300px; width: 300px;\" class=\"plotly-graph-div\"></div><script type=\"text/javascript\">require([\"plotly\"], function(Plotly) { window.PLOTLYENV=window.PLOTLYENV || {};window.PLOTLYENV.BASE_URL=\"https://plot.ly\";Plotly.newPlot(\"b4f9ba55-bb42-4277-9333-b15614a7f0e7\", [{\"colorscale\": \"Jet\", \"z\": [[2.136616455527123e-05, 0.9636188935496932, 0.9978513992048227, 0.9875686617350383, 0.9746983504107527, 0.9867524671824268], [0.9999671273473945, 0.0024116835115328824, 0.00022295296278487155, 0.00014978892639640225, 0.0031416332764929718, 0.00043800607012015416], [1.0086452086488328e-05, 0.03356901279865115, 2.0376026597945237e-05, 4.341049555306293e-06, 6.781388391211299e-06, 1.5766571383278038e-05], [1.7759160465376685e-08, 0.00030173908367798623, 0.00026700130105657827, 3.8006094857834276e-05, 1.3364912816273894e-05, 1.3126994127725487e-05], [1.4720068530442128e-07, 5.322404779316203e-05, 0.001310529381818175, 0.00604671109564659, 0.002716857877315414, 0.0011566466008779345], [8.246200316442852e-07, 4.5000777675824036e-05, 0.00032730507349786894, 0.006192052140157605, 0.019422588847720926, 0.011623560782723065]], \"type\": \"heatmap\"}], {\"plot_bgcolor\": \"#000\", \"paper_bgcolor\": \"#000\", \"width\": 300, \"title\": \"3 Blobs:Confidence after 25600 Iters\", \"yaxis\": {\"title\": \"Count Word\", \"tickcolor\": \"#FFF\", \"range\": [-0.5, 5.5], \"dtick\": 1}, \"height\": 300, \"titlefont\": {\"color\": \"#FFF\"}, \"xaxis\": {\"title\": \"Glimpses\", \"tickcolor\": \"#FFF\", \"range\": [-0.5, 5.5], \"dtick\": 1}, \"font\": {\"color\": \"#FFF\"}}, {\"linkText\": \"Export to plot.ly\", \"showLink\": true})});</script>"
      ]
     },
     "metadata": {},
     "output_type": "display_data"
    },
    {
     "data": {
      "application/vnd.plotly.v1+json": {
       "data": [
        {
         "colorscale": "Jet",
         "type": "heatmap",
         "z": [
          [
           1.3685679422921712e-05,
           0.8308816982382867,
           0.9932221857489931,
           0.944039149430816,
           0.9123775438859378,
           0.9622865074487202
          ],
          [
           0.9999427127772083,
           0.0007041018260923861,
           0.00027176048721109245,
           0.0007106966082577442,
           0.004416162124858045,
           0.0020428799835825622
          ],
          [
           4.126075129428191e-05,
           0.16632092583226676,
           2.1489999622524577e-05,
           1.051545494059334e-05,
           3.9039925231186225e-05,
           3.9160881221922884e-05
          ],
          [
           5.153785771885234e-08,
           0.0019985286563356268,
           0.0011175186705754156,
           6.382129734793182e-05,
           1.8013480314580367e-05,
           2.446039924843583e-05
          ],
          [
           1.6034040418007775e-07,
           4.65254198694231e-05,
           0.004986071891817901,
           0.023866124470978967,
           0.004152375290178808,
           0.0016210342696878844
          ],
          [
           1.7030696250022638e-06,
           4.777768345572855e-05,
           0.00038054280127169525,
           0.03130923546930224,
           0.0789964226310332,
           0.033985494760858326
          ]
         ]
        }
       ],
       "layout": {
        "font": {
         "color": "#FFF"
        },
        "height": 300,
        "paper_bgcolor": "#000",
        "plot_bgcolor": "#000",
        "title": "3 Blobs:Confidence after 38400 Iters",
        "titlefont": {
         "color": "#FFF"
        },
        "width": 300,
        "xaxis": {
         "dtick": 1,
         "range": [
          -0.5,
          5.5
         ],
         "tickcolor": "#FFF",
         "title": "Glimpses"
        },
        "yaxis": {
         "dtick": 1,
         "range": [
          -0.5,
          5.5
         ],
         "tickcolor": "#FFF",
         "title": "Count Word"
        }
       }
      },
      "text/html": [
       "<div id=\"772760d5-8359-4e5e-90c3-10cdea7cdd92\" style=\"height: 300px; width: 300px;\" class=\"plotly-graph-div\"></div><script type=\"text/javascript\">require([\"plotly\"], function(Plotly) { window.PLOTLYENV=window.PLOTLYENV || {};window.PLOTLYENV.BASE_URL=\"https://plot.ly\";Plotly.newPlot(\"772760d5-8359-4e5e-90c3-10cdea7cdd92\", [{\"colorscale\": \"Jet\", \"z\": [[1.3685679422921712e-05, 0.8308816982382867, 0.9932221857489931, 0.944039149430816, 0.9123775438859378, 0.9622865074487202], [0.9999427127772083, 0.0007041018260923861, 0.00027176048721109245, 0.0007106966082577442, 0.004416162124858045, 0.0020428799835825622], [4.126075129428191e-05, 0.16632092583226676, 2.1489999622524577e-05, 1.051545494059334e-05, 3.9039925231186225e-05, 3.9160881221922884e-05], [5.153785771885234e-08, 0.0019985286563356268, 0.0011175186705754156, 6.382129734793182e-05, 1.8013480314580367e-05, 2.446039924843583e-05], [1.6034040418007775e-07, 4.65254198694231e-05, 0.004986071891817901, 0.023866124470978967, 0.004152375290178808, 0.0016210342696878844], [1.7030696250022638e-06, 4.777768345572855e-05, 0.00038054280127169525, 0.03130923546930224, 0.0789964226310332, 0.033985494760858326]], \"type\": \"heatmap\"}], {\"plot_bgcolor\": \"#000\", \"paper_bgcolor\": \"#000\", \"width\": 300, \"title\": \"3 Blobs:Confidence after 38400 Iters\", \"yaxis\": {\"title\": \"Count Word\", \"tickcolor\": \"#FFF\", \"range\": [-0.5, 5.5], \"dtick\": 1}, \"height\": 300, \"titlefont\": {\"color\": \"#FFF\"}, \"xaxis\": {\"title\": \"Glimpses\", \"tickcolor\": \"#FFF\", \"range\": [-0.5, 5.5], \"dtick\": 1}, \"font\": {\"color\": \"#FFF\"}}, {\"linkText\": \"Export to plot.ly\", \"showLink\": true})});</script>"
      ],
      "text/vnd.plotly.v1+html": [
       "<div id=\"772760d5-8359-4e5e-90c3-10cdea7cdd92\" style=\"height: 300px; width: 300px;\" class=\"plotly-graph-div\"></div><script type=\"text/javascript\">require([\"plotly\"], function(Plotly) { window.PLOTLYENV=window.PLOTLYENV || {};window.PLOTLYENV.BASE_URL=\"https://plot.ly\";Plotly.newPlot(\"772760d5-8359-4e5e-90c3-10cdea7cdd92\", [{\"colorscale\": \"Jet\", \"z\": [[1.3685679422921712e-05, 0.8308816982382867, 0.9932221857489931, 0.944039149430816, 0.9123775438859378, 0.9622865074487202], [0.9999427127772083, 0.0007041018260923861, 0.00027176048721109245, 0.0007106966082577442, 0.004416162124858045, 0.0020428799835825622], [4.126075129428191e-05, 0.16632092583226676, 2.1489999622524577e-05, 1.051545494059334e-05, 3.9039925231186225e-05, 3.9160881221922884e-05], [5.153785771885234e-08, 0.0019985286563356268, 0.0011175186705754156, 6.382129734793182e-05, 1.8013480314580367e-05, 2.446039924843583e-05], [1.6034040418007775e-07, 4.65254198694231e-05, 0.004986071891817901, 0.023866124470978967, 0.004152375290178808, 0.0016210342696878844], [1.7030696250022638e-06, 4.777768345572855e-05, 0.00038054280127169525, 0.03130923546930224, 0.0789964226310332, 0.033985494760858326]], \"type\": \"heatmap\"}], {\"plot_bgcolor\": \"#000\", \"paper_bgcolor\": \"#000\", \"width\": 300, \"title\": \"3 Blobs:Confidence after 38400 Iters\", \"yaxis\": {\"title\": \"Count Word\", \"tickcolor\": \"#FFF\", \"range\": [-0.5, 5.5], \"dtick\": 1}, \"height\": 300, \"titlefont\": {\"color\": \"#FFF\"}, \"xaxis\": {\"title\": \"Glimpses\", \"tickcolor\": \"#FFF\", \"range\": [-0.5, 5.5], \"dtick\": 1}, \"font\": {\"color\": \"#FFF\"}}, {\"linkText\": \"Export to plot.ly\", \"showLink\": true})});</script>"
      ]
     },
     "metadata": {},
     "output_type": "display_data"
    },
    {
     "data": {
      "application/vnd.plotly.v1+json": {
       "data": [
        {
         "colorscale": "Jet",
         "type": "heatmap",
         "z": [
          [
           2.75259705933505e-05,
           0.9022705101258374,
           0.9974975247612169,
           0.997943683185675,
           0.983237794161056,
           0.9928964269745999
          ],
          [
           0.9999612785408986,
           0.0002559453859408095,
           6.72272038827237e-05,
           1.2433386932131724e-05,
           0.0002313365171370649,
           0.00024711691007363876
          ],
          [
           8.182548499777467e-06,
           0.09729899330824332,
           3.192611647903673e-05,
           3.532609598371287e-06,
           4.34530461906754e-06,
           3.8949390091007764e-05
          ],
          [
           3.360573985513621e-08,
           0.00014872824379907188,
           0.0022886078298366007,
           6.207762910204336e-05,
           5.548989047984841e-06,
           7.5270048962332086e-06
          ],
          [
           7.978635234709023e-08,
           4.309831641107634e-06,
           7.591567079081744e-05,
           0.0012889899815220485,
           0.00027316175003556036,
           8.441308481762086e-05
          ],
          [
           2.406374401015337e-06,
           2.1020307644298334e-05,
           3.830165744006185e-05,
           0.000688748313183724,
           0.016247325315578973,
           0.006725069108191891
          ]
         ]
        }
       ],
       "layout": {
        "font": {
         "color": "#FFF"
        },
        "height": 300,
        "paper_bgcolor": "#000",
        "plot_bgcolor": "#000",
        "title": "3 Blobs:Confidence after 51200 Iters",
        "titlefont": {
         "color": "#FFF"
        },
        "width": 300,
        "xaxis": {
         "dtick": 1,
         "range": [
          -0.5,
          5.5
         ],
         "tickcolor": "#FFF",
         "title": "Glimpses"
        },
        "yaxis": {
         "dtick": 1,
         "range": [
          -0.5,
          5.5
         ],
         "tickcolor": "#FFF",
         "title": "Count Word"
        }
       }
      },
      "text/html": [
       "<div id=\"f9e370b8-db52-4404-b9d8-b9d710d52136\" style=\"height: 300px; width: 300px;\" class=\"plotly-graph-div\"></div><script type=\"text/javascript\">require([\"plotly\"], function(Plotly) { window.PLOTLYENV=window.PLOTLYENV || {};window.PLOTLYENV.BASE_URL=\"https://plot.ly\";Plotly.newPlot(\"f9e370b8-db52-4404-b9d8-b9d710d52136\", [{\"colorscale\": \"Jet\", \"z\": [[2.75259705933505e-05, 0.9022705101258374, 0.9974975247612169, 0.997943683185675, 0.983237794161056, 0.9928964269745999], [0.9999612785408986, 0.0002559453859408095, 6.72272038827237e-05, 1.2433386932131724e-05, 0.0002313365171370649, 0.00024711691007363876], [8.182548499777467e-06, 0.09729899330824332, 3.192611647903673e-05, 3.532609598371287e-06, 4.34530461906754e-06, 3.8949390091007764e-05], [3.360573985513621e-08, 0.00014872824379907188, 0.0022886078298366007, 6.207762910204336e-05, 5.548989047984841e-06, 7.5270048962332086e-06], [7.978635234709023e-08, 4.309831641107634e-06, 7.591567079081744e-05, 0.0012889899815220485, 0.00027316175003556036, 8.441308481762086e-05], [2.406374401015337e-06, 2.1020307644298334e-05, 3.830165744006185e-05, 0.000688748313183724, 0.016247325315578973, 0.006725069108191891]], \"type\": \"heatmap\"}], {\"plot_bgcolor\": \"#000\", \"paper_bgcolor\": \"#000\", \"width\": 300, \"title\": \"3 Blobs:Confidence after 51200 Iters\", \"yaxis\": {\"title\": \"Count Word\", \"tickcolor\": \"#FFF\", \"range\": [-0.5, 5.5], \"dtick\": 1}, \"height\": 300, \"titlefont\": {\"color\": \"#FFF\"}, \"xaxis\": {\"title\": \"Glimpses\", \"tickcolor\": \"#FFF\", \"range\": [-0.5, 5.5], \"dtick\": 1}, \"font\": {\"color\": \"#FFF\"}}, {\"linkText\": \"Export to plot.ly\", \"showLink\": true})});</script>"
      ],
      "text/vnd.plotly.v1+html": [
       "<div id=\"f9e370b8-db52-4404-b9d8-b9d710d52136\" style=\"height: 300px; width: 300px;\" class=\"plotly-graph-div\"></div><script type=\"text/javascript\">require([\"plotly\"], function(Plotly) { window.PLOTLYENV=window.PLOTLYENV || {};window.PLOTLYENV.BASE_URL=\"https://plot.ly\";Plotly.newPlot(\"f9e370b8-db52-4404-b9d8-b9d710d52136\", [{\"colorscale\": \"Jet\", \"z\": [[2.75259705933505e-05, 0.9022705101258374, 0.9974975247612169, 0.997943683185675, 0.983237794161056, 0.9928964269745999], [0.9999612785408986, 0.0002559453859408095, 6.72272038827237e-05, 1.2433386932131724e-05, 0.0002313365171370649, 0.00024711691007363876], [8.182548499777467e-06, 0.09729899330824332, 3.192611647903673e-05, 3.532609598371287e-06, 4.34530461906754e-06, 3.8949390091007764e-05], [3.360573985513621e-08, 0.00014872824379907188, 0.0022886078298366007, 6.207762910204336e-05, 5.548989047984841e-06, 7.5270048962332086e-06], [7.978635234709023e-08, 4.309831641107634e-06, 7.591567079081744e-05, 0.0012889899815220485, 0.00027316175003556036, 8.441308481762086e-05], [2.406374401015337e-06, 2.1020307644298334e-05, 3.830165744006185e-05, 0.000688748313183724, 0.016247325315578973, 0.006725069108191891]], \"type\": \"heatmap\"}], {\"plot_bgcolor\": \"#000\", \"paper_bgcolor\": \"#000\", \"width\": 300, \"title\": \"3 Blobs:Confidence after 51200 Iters\", \"yaxis\": {\"title\": \"Count Word\", \"tickcolor\": \"#FFF\", \"range\": [-0.5, 5.5], \"dtick\": 1}, \"height\": 300, \"titlefont\": {\"color\": \"#FFF\"}, \"xaxis\": {\"title\": \"Glimpses\", \"tickcolor\": \"#FFF\", \"range\": [-0.5, 5.5], \"dtick\": 1}, \"font\": {\"color\": \"#FFF\"}}, {\"linkText\": \"Export to plot.ly\", \"showLink\": true})});</script>"
      ]
     },
     "metadata": {},
     "output_type": "display_data"
    },
    {
     "data": {
      "application/vnd.plotly.v1+json": {
       "data": [
        {
         "colorscale": "Jet",
         "type": "heatmap",
         "z": [
          [
           4.183606521797926e-05,
           0.7799540356289889,
           0.9818603971775383,
           0.9922345352475666,
           0.9201310521864491,
           0.9910687938367972
          ],
          [
           0.9999385426105512,
           8.605968507822607e-05,
           1.839752540071425e-05,
           8.495329238820592e-05,
           0.0009444583656473198,
           0.0007340474744307342
          ],
          [
           1.4106769928185858e-05,
           0.21954919450768223,
           5.6072060768771947e-05,
           6.981203371017476e-06,
           1.4208414092745657e-05,
           0.00010964714921997233
          ],
          [
           3.887806253745254e-08,
           0.00039589913575812014,
           0.01798306377766246,
           9.897135982353621e-05,
           7.3056471396765735e-06,
           2.0603722909751225e-05
          ],
          [
           1.1045636719514903e-07,
           2.1679136238918944e-06,
           6.673122959054045e-05,
           0.006335028453864198,
           0.000462321537388169,
           7.338389069773208e-05
          ],
          [
           4.9017193204084035e-06,
           1.2159245341092596e-05,
           1.4865103807852572e-05,
           0.0012390416239124132,
           0.07844017763017881,
           0.00799304651807446
          ]
         ]
        }
       ],
       "layout": {
        "font": {
         "color": "#FFF"
        },
        "height": 300,
        "paper_bgcolor": "#000",
        "plot_bgcolor": "#000",
        "title": "3 Blobs:Confidence after 76800 Iters",
        "titlefont": {
         "color": "#FFF"
        },
        "width": 300,
        "xaxis": {
         "dtick": 1,
         "range": [
          -0.5,
          5.5
         ],
         "tickcolor": "#FFF",
         "title": "Glimpses"
        },
        "yaxis": {
         "dtick": 1,
         "range": [
          -0.5,
          5.5
         ],
         "tickcolor": "#FFF",
         "title": "Count Word"
        }
       }
      },
      "text/html": [
       "<div id=\"f646c311-cfe4-4810-bce3-73c45680d745\" style=\"height: 300px; width: 300px;\" class=\"plotly-graph-div\"></div><script type=\"text/javascript\">require([\"plotly\"], function(Plotly) { window.PLOTLYENV=window.PLOTLYENV || {};window.PLOTLYENV.BASE_URL=\"https://plot.ly\";Plotly.newPlot(\"f646c311-cfe4-4810-bce3-73c45680d745\", [{\"colorscale\": \"Jet\", \"z\": [[4.183606521797926e-05, 0.7799540356289889, 0.9818603971775383, 0.9922345352475666, 0.9201310521864491, 0.9910687938367972], [0.9999385426105512, 8.605968507822607e-05, 1.839752540071425e-05, 8.495329238820592e-05, 0.0009444583656473198, 0.0007340474744307342], [1.4106769928185858e-05, 0.21954919450768223, 5.6072060768771947e-05, 6.981203371017476e-06, 1.4208414092745657e-05, 0.00010964714921997233], [3.887806253745254e-08, 0.00039589913575812014, 0.01798306377766246, 9.897135982353621e-05, 7.3056471396765735e-06, 2.0603722909751225e-05], [1.1045636719514903e-07, 2.1679136238918944e-06, 6.673122959054045e-05, 0.006335028453864198, 0.000462321537388169, 7.338389069773208e-05], [4.9017193204084035e-06, 1.2159245341092596e-05, 1.4865103807852572e-05, 0.0012390416239124132, 0.07844017763017881, 0.00799304651807446]], \"type\": \"heatmap\"}], {\"plot_bgcolor\": \"#000\", \"paper_bgcolor\": \"#000\", \"width\": 300, \"title\": \"3 Blobs:Confidence after 76800 Iters\", \"yaxis\": {\"title\": \"Count Word\", \"tickcolor\": \"#FFF\", \"range\": [-0.5, 5.5], \"dtick\": 1}, \"height\": 300, \"titlefont\": {\"color\": \"#FFF\"}, \"xaxis\": {\"title\": \"Glimpses\", \"tickcolor\": \"#FFF\", \"range\": [-0.5, 5.5], \"dtick\": 1}, \"font\": {\"color\": \"#FFF\"}}, {\"linkText\": \"Export to plot.ly\", \"showLink\": true})});</script>"
      ],
      "text/vnd.plotly.v1+html": [
       "<div id=\"f646c311-cfe4-4810-bce3-73c45680d745\" style=\"height: 300px; width: 300px;\" class=\"plotly-graph-div\"></div><script type=\"text/javascript\">require([\"plotly\"], function(Plotly) { window.PLOTLYENV=window.PLOTLYENV || {};window.PLOTLYENV.BASE_URL=\"https://plot.ly\";Plotly.newPlot(\"f646c311-cfe4-4810-bce3-73c45680d745\", [{\"colorscale\": \"Jet\", \"z\": [[4.183606521797926e-05, 0.7799540356289889, 0.9818603971775383, 0.9922345352475666, 0.9201310521864491, 0.9910687938367972], [0.9999385426105512, 8.605968507822607e-05, 1.839752540071425e-05, 8.495329238820592e-05, 0.0009444583656473198, 0.0007340474744307342], [1.4106769928185858e-05, 0.21954919450768223, 5.6072060768771947e-05, 6.981203371017476e-06, 1.4208414092745657e-05, 0.00010964714921997233], [3.887806253745254e-08, 0.00039589913575812014, 0.01798306377766246, 9.897135982353621e-05, 7.3056471396765735e-06, 2.0603722909751225e-05], [1.1045636719514903e-07, 2.1679136238918944e-06, 6.673122959054045e-05, 0.006335028453864198, 0.000462321537388169, 7.338389069773208e-05], [4.9017193204084035e-06, 1.2159245341092596e-05, 1.4865103807852572e-05, 0.0012390416239124132, 0.07844017763017881, 0.00799304651807446]], \"type\": \"heatmap\"}], {\"plot_bgcolor\": \"#000\", \"paper_bgcolor\": \"#000\", \"width\": 300, \"title\": \"3 Blobs:Confidence after 76800 Iters\", \"yaxis\": {\"title\": \"Count Word\", \"tickcolor\": \"#FFF\", \"range\": [-0.5, 5.5], \"dtick\": 1}, \"height\": 300, \"titlefont\": {\"color\": \"#FFF\"}, \"xaxis\": {\"title\": \"Glimpses\", \"tickcolor\": \"#FFF\", \"range\": [-0.5, 5.5], \"dtick\": 1}, \"font\": {\"color\": \"#FFF\"}}, {\"linkText\": \"Export to plot.ly\", \"showLink\": true})});</script>"
      ]
     },
     "metadata": {},
     "output_type": "display_data"
    },
    {
     "data": {
      "application/vnd.plotly.v1+json": {
       "data": [
        {
         "colorscale": "Jet",
         "type": "heatmap",
         "z": [
          [
           7.856072360347513e-05,
           0.47837359955640985,
           0.7633219366121031,
           0.9487674231716863,
           0.7536048320741486,
           0.9942946723881886
          ],
          [
           0.9998598157098993,
           4.664367171100187e-05,
           1.1007652671102219e-08,
           2.151450933713203e-05,
           0.0006040487186397237,
           6.366714551628822e-06
          ],
          [
           5.1200179053964226e-05,
           0.5212709044909584,
           0.0001556956579884424,
           7.14811811826068e-07,
           2.5806954424634662e-05,
           0.00028319530136463515
          ],
          [
           1.507575517253862e-07,
           0.0002979042210232622,
           0.23640101175890768,
           0.0002714572739812592,
           6.142011812891326e-06,
           5.8168653177187226e-05
          ],
          [
           1.5797160495018136e-07,
           2.083785199507727e-06,
           0.00011642462872171484,
           0.04808879518761961,
           0.00032036254424686316,
           2.4009986186581403e-05
          ],
          [
           9.692911443859081e-06,
           8.440220368951167e-06,
           4.500946875645784e-06,
           0.0028496544373694836,
           0.245438371202931,
           0.0053331543402216405
          ]
         ]
        }
       ],
       "layout": {
        "font": {
         "color": "#FFF"
        },
        "height": 300,
        "paper_bgcolor": "#000",
        "plot_bgcolor": "#000",
        "title": "3 Blobs:Confidence after 102400 Iters",
        "titlefont": {
         "color": "#FFF"
        },
        "width": 300,
        "xaxis": {
         "dtick": 1,
         "range": [
          -0.5,
          5.5
         ],
         "tickcolor": "#FFF",
         "title": "Glimpses"
        },
        "yaxis": {
         "dtick": 1,
         "range": [
          -0.5,
          5.5
         ],
         "tickcolor": "#FFF",
         "title": "Count Word"
        }
       }
      },
      "text/html": [
       "<div id=\"3e7e33a0-898c-47d7-a778-b1f808ca136a\" style=\"height: 300px; width: 300px;\" class=\"plotly-graph-div\"></div><script type=\"text/javascript\">require([\"plotly\"], function(Plotly) { window.PLOTLYENV=window.PLOTLYENV || {};window.PLOTLYENV.BASE_URL=\"https://plot.ly\";Plotly.newPlot(\"3e7e33a0-898c-47d7-a778-b1f808ca136a\", [{\"colorscale\": \"Jet\", \"z\": [[7.856072360347513e-05, 0.47837359955640985, 0.7633219366121031, 0.9487674231716863, 0.7536048320741486, 0.9942946723881886], [0.9998598157098993, 4.664367171100187e-05, 1.1007652671102219e-08, 2.151450933713203e-05, 0.0006040487186397237, 6.366714551628822e-06], [5.1200179053964226e-05, 0.5212709044909584, 0.0001556956579884424, 7.14811811826068e-07, 2.5806954424634662e-05, 0.00028319530136463515], [1.507575517253862e-07, 0.0002979042210232622, 0.23640101175890768, 0.0002714572739812592, 6.142011812891326e-06, 5.8168653177187226e-05], [1.5797160495018136e-07, 2.083785199507727e-06, 0.00011642462872171484, 0.04808879518761961, 0.00032036254424686316, 2.4009986186581403e-05], [9.692911443859081e-06, 8.440220368951167e-06, 4.500946875645784e-06, 0.0028496544373694836, 0.245438371202931, 0.0053331543402216405]], \"type\": \"heatmap\"}], {\"plot_bgcolor\": \"#000\", \"paper_bgcolor\": \"#000\", \"width\": 300, \"title\": \"3 Blobs:Confidence after 102400 Iters\", \"yaxis\": {\"title\": \"Count Word\", \"tickcolor\": \"#FFF\", \"range\": [-0.5, 5.5], \"dtick\": 1}, \"height\": 300, \"titlefont\": {\"color\": \"#FFF\"}, \"xaxis\": {\"title\": \"Glimpses\", \"tickcolor\": \"#FFF\", \"range\": [-0.5, 5.5], \"dtick\": 1}, \"font\": {\"color\": \"#FFF\"}}, {\"linkText\": \"Export to plot.ly\", \"showLink\": true})});</script>"
      ],
      "text/vnd.plotly.v1+html": [
       "<div id=\"3e7e33a0-898c-47d7-a778-b1f808ca136a\" style=\"height: 300px; width: 300px;\" class=\"plotly-graph-div\"></div><script type=\"text/javascript\">require([\"plotly\"], function(Plotly) { window.PLOTLYENV=window.PLOTLYENV || {};window.PLOTLYENV.BASE_URL=\"https://plot.ly\";Plotly.newPlot(\"3e7e33a0-898c-47d7-a778-b1f808ca136a\", [{\"colorscale\": \"Jet\", \"z\": [[7.856072360347513e-05, 0.47837359955640985, 0.7633219366121031, 0.9487674231716863, 0.7536048320741486, 0.9942946723881886], [0.9998598157098993, 4.664367171100187e-05, 1.1007652671102219e-08, 2.151450933713203e-05, 0.0006040487186397237, 6.366714551628822e-06], [5.1200179053964226e-05, 0.5212709044909584, 0.0001556956579884424, 7.14811811826068e-07, 2.5806954424634662e-05, 0.00028319530136463515], [1.507575517253862e-07, 0.0002979042210232622, 0.23640101175890768, 0.0002714572739812592, 6.142011812891326e-06, 5.8168653177187226e-05], [1.5797160495018136e-07, 2.083785199507727e-06, 0.00011642462872171484, 0.04808879518761961, 0.00032036254424686316, 2.4009986186581403e-05], [9.692911443859081e-06, 8.440220368951167e-06, 4.500946875645784e-06, 0.0028496544373694836, 0.245438371202931, 0.0053331543402216405]], \"type\": \"heatmap\"}], {\"plot_bgcolor\": \"#000\", \"paper_bgcolor\": \"#000\", \"width\": 300, \"title\": \"3 Blobs:Confidence after 102400 Iters\", \"yaxis\": {\"title\": \"Count Word\", \"tickcolor\": \"#FFF\", \"range\": [-0.5, 5.5], \"dtick\": 1}, \"height\": 300, \"titlefont\": {\"color\": \"#FFF\"}, \"xaxis\": {\"title\": \"Glimpses\", \"tickcolor\": \"#FFF\", \"range\": [-0.5, 5.5], \"dtick\": 1}, \"font\": {\"color\": \"#FFF\"}}, {\"linkText\": \"Export to plot.ly\", \"showLink\": true})});</script>"
      ]
     },
     "metadata": {},
     "output_type": "display_data"
    },
    {
     "data": {
      "application/vnd.plotly.v1+json": {
       "data": [
        {
         "colorscale": "Jet",
         "type": "heatmap",
         "z": [
          [
           0.0018752235228185021,
           0.7424906781218341,
           0.9256642895909258,
           0.9795227633450437,
           0.99261743015619,
           0.998199210683355
          ],
          [
           0.9976092085399161,
           1.4918149223590392e-05,
           5.106560530599198e-08,
           7.906831978072766e-06,
           3.0137066248817206e-05,
           5.056658740862708e-06
          ],
          [
           0.00043435240891053634,
           0.25697532050704897,
           2.5013363671566544e-05,
           2.784881095213286e-07,
           3.6723244551537457e-06,
           2.2216837849754456e-06
          ],
          [
           4.916864128677133e-06,
           0.0005008730259361885,
           0.07388192146000819,
           0.00010083565110715978,
           3.962262784592892e-06,
           1.0332734277070823e-05
          ],
          [
           6.3263523019096445e-06,
           1.4413367724702695e-05,
           0.00042351742203371027,
           0.020018057451132984,
           0.001622258467437224,
           0.00012054170399581371
          ],
          [
           6.930823783208802e-05,
           3.1303272690644114e-06,
           4.540189287047094e-06,
           0.0003495046585858678,
           0.00572188562165455,
           0.0016619617967406034
          ]
         ]
        }
       ],
       "layout": {
        "font": {
         "color": "#FFF"
        },
        "height": 300,
        "paper_bgcolor": "#000",
        "plot_bgcolor": "#000",
        "title": "3 Blobs:Confidence after 153600 Iters",
        "titlefont": {
         "color": "#FFF"
        },
        "width": 300,
        "xaxis": {
         "dtick": 1,
         "range": [
          -0.5,
          5.5
         ],
         "tickcolor": "#FFF",
         "title": "Glimpses"
        },
        "yaxis": {
         "dtick": 1,
         "range": [
          -0.5,
          5.5
         ],
         "tickcolor": "#FFF",
         "title": "Count Word"
        }
       }
      },
      "text/html": [
       "<div id=\"c4fd571f-06a1-44d8-ac86-a55940051fb9\" style=\"height: 300px; width: 300px;\" class=\"plotly-graph-div\"></div><script type=\"text/javascript\">require([\"plotly\"], function(Plotly) { window.PLOTLYENV=window.PLOTLYENV || {};window.PLOTLYENV.BASE_URL=\"https://plot.ly\";Plotly.newPlot(\"c4fd571f-06a1-44d8-ac86-a55940051fb9\", [{\"colorscale\": \"Jet\", \"z\": [[0.0018752235228185021, 0.7424906781218341, 0.9256642895909258, 0.9795227633450437, 0.99261743015619, 0.998199210683355], [0.9976092085399161, 1.4918149223590392e-05, 5.106560530599198e-08, 7.906831978072766e-06, 3.0137066248817206e-05, 5.056658740862708e-06], [0.00043435240891053634, 0.25697532050704897, 2.5013363671566544e-05, 2.784881095213286e-07, 3.6723244551537457e-06, 2.2216837849754456e-06], [4.916864128677133e-06, 0.0005008730259361885, 0.07388192146000819, 0.00010083565110715978, 3.962262784592892e-06, 1.0332734277070823e-05], [6.3263523019096445e-06, 1.4413367724702695e-05, 0.00042351742203371027, 0.020018057451132984, 0.001622258467437224, 0.00012054170399581371], [6.930823783208802e-05, 3.1303272690644114e-06, 4.540189287047094e-06, 0.0003495046585858678, 0.00572188562165455, 0.0016619617967406034]], \"type\": \"heatmap\"}], {\"plot_bgcolor\": \"#000\", \"paper_bgcolor\": \"#000\", \"width\": 300, \"title\": \"3 Blobs:Confidence after 153600 Iters\", \"yaxis\": {\"title\": \"Count Word\", \"tickcolor\": \"#FFF\", \"range\": [-0.5, 5.5], \"dtick\": 1}, \"height\": 300, \"titlefont\": {\"color\": \"#FFF\"}, \"xaxis\": {\"title\": \"Glimpses\", \"tickcolor\": \"#FFF\", \"range\": [-0.5, 5.5], \"dtick\": 1}, \"font\": {\"color\": \"#FFF\"}}, {\"linkText\": \"Export to plot.ly\", \"showLink\": true})});</script>"
      ],
      "text/vnd.plotly.v1+html": [
       "<div id=\"c4fd571f-06a1-44d8-ac86-a55940051fb9\" style=\"height: 300px; width: 300px;\" class=\"plotly-graph-div\"></div><script type=\"text/javascript\">require([\"plotly\"], function(Plotly) { window.PLOTLYENV=window.PLOTLYENV || {};window.PLOTLYENV.BASE_URL=\"https://plot.ly\";Plotly.newPlot(\"c4fd571f-06a1-44d8-ac86-a55940051fb9\", [{\"colorscale\": \"Jet\", \"z\": [[0.0018752235228185021, 0.7424906781218341, 0.9256642895909258, 0.9795227633450437, 0.99261743015619, 0.998199210683355], [0.9976092085399161, 1.4918149223590392e-05, 5.106560530599198e-08, 7.906831978072766e-06, 3.0137066248817206e-05, 5.056658740862708e-06], [0.00043435240891053634, 0.25697532050704897, 2.5013363671566544e-05, 2.784881095213286e-07, 3.6723244551537457e-06, 2.2216837849754456e-06], [4.916864128677133e-06, 0.0005008730259361885, 0.07388192146000819, 0.00010083565110715978, 3.962262784592892e-06, 1.0332734277070823e-05], [6.3263523019096445e-06, 1.4413367724702695e-05, 0.00042351742203371027, 0.020018057451132984, 0.001622258467437224, 0.00012054170399581371], [6.930823783208802e-05, 3.1303272690644114e-06, 4.540189287047094e-06, 0.0003495046585858678, 0.00572188562165455, 0.0016619617967406034]], \"type\": \"heatmap\"}], {\"plot_bgcolor\": \"#000\", \"paper_bgcolor\": \"#000\", \"width\": 300, \"title\": \"3 Blobs:Confidence after 153600 Iters\", \"yaxis\": {\"title\": \"Count Word\", \"tickcolor\": \"#FFF\", \"range\": [-0.5, 5.5], \"dtick\": 1}, \"height\": 300, \"titlefont\": {\"color\": \"#FFF\"}, \"xaxis\": {\"title\": \"Glimpses\", \"tickcolor\": \"#FFF\", \"range\": [-0.5, 5.5], \"dtick\": 1}, \"font\": {\"color\": \"#FFF\"}}, {\"linkText\": \"Export to plot.ly\", \"showLink\": true})});</script>"
      ]
     },
     "metadata": {},
     "output_type": "display_data"
    },
    {
     "data": {
      "application/vnd.plotly.v1+json": {
       "data": [
        {
         "colorscale": "Jet",
         "type": "heatmap",
         "z": [
          [
           3.126689083349432e-05,
           0.5459163921958953,
           0.6949585291993076,
           0.9780948692337811,
           0.9744685245542488,
           0.9968211706097474
          ],
          [
           0.9999319322462454,
           6.087370173030703e-05,
           9.80027723020797e-09,
           1.8751430647178503e-06,
           0.00010079110967844488,
           8.128064080418818e-06
          ],
          [
           2.6278893412023406e-05,
           0.45377320860963316,
           0.00021620615085091716,
           6.851466308888564e-07,
           3.497698497403609e-06,
           4.708502538384609e-05
          ],
          [
           3.774146689062242e-08,
           0.00024148165974403521,
           0.304769569952735,
           0.00020409915965338853,
           1.6656248152762593e-06,
           3.5416377728866062e-06
          ],
          [
           1.0684490385429686e-07,
           1.4218651489745121e-06,
           5.403905416854506e-05,
           0.021427607117113927,
           0.0002801607736680325,
           7.19122360190982e-06
          ],
          [
           9.838991143914119e-06,
           6.0708938656435755e-06,
           1.1118299852613979e-06,
           0.0002703502914524367,
           0.02514480020114484,
           0.0031123532598133024
          ]
         ]
        }
       ],
       "layout": {
        "font": {
         "color": "#FFF"
        },
        "height": 300,
        "paper_bgcolor": "#000",
        "plot_bgcolor": "#000",
        "title": "3 Blobs:Confidence after 204800 Iters",
        "titlefont": {
         "color": "#FFF"
        },
        "width": 300,
        "xaxis": {
         "dtick": 1,
         "range": [
          -0.5,
          5.5
         ],
         "tickcolor": "#FFF",
         "title": "Glimpses"
        },
        "yaxis": {
         "dtick": 1,
         "range": [
          -0.5,
          5.5
         ],
         "tickcolor": "#FFF",
         "title": "Count Word"
        }
       }
      },
      "text/html": [
       "<div id=\"b67f7371-6fbd-4646-abb7-a6a11f3153bd\" style=\"height: 300px; width: 300px;\" class=\"plotly-graph-div\"></div><script type=\"text/javascript\">require([\"plotly\"], function(Plotly) { window.PLOTLYENV=window.PLOTLYENV || {};window.PLOTLYENV.BASE_URL=\"https://plot.ly\";Plotly.newPlot(\"b67f7371-6fbd-4646-abb7-a6a11f3153bd\", [{\"colorscale\": \"Jet\", \"z\": [[3.126689083349432e-05, 0.5459163921958953, 0.6949585291993076, 0.9780948692337811, 0.9744685245542488, 0.9968211706097474], [0.9999319322462454, 6.087370173030703e-05, 9.80027723020797e-09, 1.8751430647178503e-06, 0.00010079110967844488, 8.128064080418818e-06], [2.6278893412023406e-05, 0.45377320860963316, 0.00021620615085091716, 6.851466308888564e-07, 3.497698497403609e-06, 4.708502538384609e-05], [3.774146689062242e-08, 0.00024148165974403521, 0.304769569952735, 0.00020409915965338853, 1.6656248152762593e-06, 3.5416377728866062e-06], [1.0684490385429686e-07, 1.4218651489745121e-06, 5.403905416854506e-05, 0.021427607117113927, 0.0002801607736680325, 7.19122360190982e-06], [9.838991143914119e-06, 6.0708938656435755e-06, 1.1118299852613979e-06, 0.0002703502914524367, 0.02514480020114484, 0.0031123532598133024]], \"type\": \"heatmap\"}], {\"plot_bgcolor\": \"#000\", \"paper_bgcolor\": \"#000\", \"width\": 300, \"title\": \"3 Blobs:Confidence after 204800 Iters\", \"yaxis\": {\"title\": \"Count Word\", \"tickcolor\": \"#FFF\", \"range\": [-0.5, 5.5], \"dtick\": 1}, \"height\": 300, \"titlefont\": {\"color\": \"#FFF\"}, \"xaxis\": {\"title\": \"Glimpses\", \"tickcolor\": \"#FFF\", \"range\": [-0.5, 5.5], \"dtick\": 1}, \"font\": {\"color\": \"#FFF\"}}, {\"linkText\": \"Export to plot.ly\", \"showLink\": true})});</script>"
      ],
      "text/vnd.plotly.v1+html": [
       "<div id=\"b67f7371-6fbd-4646-abb7-a6a11f3153bd\" style=\"height: 300px; width: 300px;\" class=\"plotly-graph-div\"></div><script type=\"text/javascript\">require([\"plotly\"], function(Plotly) { window.PLOTLYENV=window.PLOTLYENV || {};window.PLOTLYENV.BASE_URL=\"https://plot.ly\";Plotly.newPlot(\"b67f7371-6fbd-4646-abb7-a6a11f3153bd\", [{\"colorscale\": \"Jet\", \"z\": [[3.126689083349432e-05, 0.5459163921958953, 0.6949585291993076, 0.9780948692337811, 0.9744685245542488, 0.9968211706097474], [0.9999319322462454, 6.087370173030703e-05, 9.80027723020797e-09, 1.8751430647178503e-06, 0.00010079110967844488, 8.128064080418818e-06], [2.6278893412023406e-05, 0.45377320860963316, 0.00021620615085091716, 6.851466308888564e-07, 3.497698497403609e-06, 4.708502538384609e-05], [3.774146689062242e-08, 0.00024148165974403521, 0.304769569952735, 0.00020409915965338853, 1.6656248152762593e-06, 3.5416377728866062e-06], [1.0684490385429686e-07, 1.4218651489745121e-06, 5.403905416854506e-05, 0.021427607117113927, 0.0002801607736680325, 7.19122360190982e-06], [9.838991143914119e-06, 6.0708938656435755e-06, 1.1118299852613979e-06, 0.0002703502914524367, 0.02514480020114484, 0.0031123532598133024]], \"type\": \"heatmap\"}], {\"plot_bgcolor\": \"#000\", \"paper_bgcolor\": \"#000\", \"width\": 300, \"title\": \"3 Blobs:Confidence after 204800 Iters\", \"yaxis\": {\"title\": \"Count Word\", \"tickcolor\": \"#FFF\", \"range\": [-0.5, 5.5], \"dtick\": 1}, \"height\": 300, \"titlefont\": {\"color\": \"#FFF\"}, \"xaxis\": {\"title\": \"Glimpses\", \"tickcolor\": \"#FFF\", \"range\": [-0.5, 5.5], \"dtick\": 1}, \"font\": {\"color\": \"#FFF\"}}, {\"linkText\": \"Export to plot.ly\", \"showLink\": true})});</script>"
      ]
     },
     "metadata": {},
     "output_type": "display_data"
    },
    {
     "data": {
      "application/vnd.plotly.v1+json": {
       "data": [
        {
         "colorscale": "Jet",
         "type": "heatmap",
         "z": [
          [
           6.94727233700619e-06,
           0.5795883513975857,
           0.8621531770739675,
           0.9478819071196207,
           0.972702048002468,
           0.9980597181371051
          ],
          [
           0.9999609337538266,
           6.712612922104975e-06,
           4.247536446332474e-07,
           3.455275691669158e-05,
           0.00022046237188479758,
           6.5486452987433655e-06
          ],
          [
           2.3506714109995815e-05,
           0.42027576216259643,
           5.075650134792601e-05,
           1.1733704002327848e-06,
           4.546649457441876e-06,
           8.720988247246179e-06
          ],
          [
           2.0507321662787376e-08,
           0.00011995683218291798,
           0.13742943123971962,
           5.635787385009643e-05,
           5.991082282852953e-07,
           4.998394456283776e-07
          ],
          [
           3.0263941444071075e-08,
           1.888255661457325e-06,
           0.00035731942371236233,
           0.05110060621876146,
           0.0004026702500024032,
           9.39107565011632e-06
          ],
          [
           7.94288829769774e-06,
           6.700804682937895e-06,
           8.283451350045655e-06,
           0.0009247518724035692,
           0.02666903412426045,
           0.0019144963983927419
          ]
         ]
        }
       ],
       "layout": {
        "font": {
         "color": "#FFF"
        },
        "height": 300,
        "paper_bgcolor": "#000",
        "plot_bgcolor": "#000",
        "title": "3 Blobs:Confidence after 307200 Iters",
        "titlefont": {
         "color": "#FFF"
        },
        "width": 300,
        "xaxis": {
         "dtick": 1,
         "range": [
          -0.5,
          5.5
         ],
         "tickcolor": "#FFF",
         "title": "Glimpses"
        },
        "yaxis": {
         "dtick": 1,
         "range": [
          -0.5,
          5.5
         ],
         "tickcolor": "#FFF",
         "title": "Count Word"
        }
       }
      },
      "text/html": [
       "<div id=\"3be5ea5b-c58c-455f-989d-c051778fc3fb\" style=\"height: 300px; width: 300px;\" class=\"plotly-graph-div\"></div><script type=\"text/javascript\">require([\"plotly\"], function(Plotly) { window.PLOTLYENV=window.PLOTLYENV || {};window.PLOTLYENV.BASE_URL=\"https://plot.ly\";Plotly.newPlot(\"3be5ea5b-c58c-455f-989d-c051778fc3fb\", [{\"colorscale\": \"Jet\", \"z\": [[6.94727233700619e-06, 0.5795883513975857, 0.8621531770739675, 0.9478819071196207, 0.972702048002468, 0.9980597181371051], [0.9999609337538266, 6.712612922104975e-06, 4.247536446332474e-07, 3.455275691669158e-05, 0.00022046237188479758, 6.5486452987433655e-06], [2.3506714109995815e-05, 0.42027576216259643, 5.075650134792601e-05, 1.1733704002327848e-06, 4.546649457441876e-06, 8.720988247246179e-06], [2.0507321662787376e-08, 0.00011995683218291798, 0.13742943123971962, 5.635787385009643e-05, 5.991082282852953e-07, 4.998394456283776e-07], [3.0263941444071075e-08, 1.888255661457325e-06, 0.00035731942371236233, 0.05110060621876146, 0.0004026702500024032, 9.39107565011632e-06], [7.94288829769774e-06, 6.700804682937895e-06, 8.283451350045655e-06, 0.0009247518724035692, 0.02666903412426045, 0.0019144963983927419]], \"type\": \"heatmap\"}], {\"plot_bgcolor\": \"#000\", \"paper_bgcolor\": \"#000\", \"width\": 300, \"title\": \"3 Blobs:Confidence after 307200 Iters\", \"yaxis\": {\"title\": \"Count Word\", \"tickcolor\": \"#FFF\", \"range\": [-0.5, 5.5], \"dtick\": 1}, \"height\": 300, \"titlefont\": {\"color\": \"#FFF\"}, \"xaxis\": {\"title\": \"Glimpses\", \"tickcolor\": \"#FFF\", \"range\": [-0.5, 5.5], \"dtick\": 1}, \"font\": {\"color\": \"#FFF\"}}, {\"linkText\": \"Export to plot.ly\", \"showLink\": true})});</script>"
      ],
      "text/vnd.plotly.v1+html": [
       "<div id=\"3be5ea5b-c58c-455f-989d-c051778fc3fb\" style=\"height: 300px; width: 300px;\" class=\"plotly-graph-div\"></div><script type=\"text/javascript\">require([\"plotly\"], function(Plotly) { window.PLOTLYENV=window.PLOTLYENV || {};window.PLOTLYENV.BASE_URL=\"https://plot.ly\";Plotly.newPlot(\"3be5ea5b-c58c-455f-989d-c051778fc3fb\", [{\"colorscale\": \"Jet\", \"z\": [[6.94727233700619e-06, 0.5795883513975857, 0.8621531770739675, 0.9478819071196207, 0.972702048002468, 0.9980597181371051], [0.9999609337538266, 6.712612922104975e-06, 4.247536446332474e-07, 3.455275691669158e-05, 0.00022046237188479758, 6.5486452987433655e-06], [2.3506714109995815e-05, 0.42027576216259643, 5.075650134792601e-05, 1.1733704002327848e-06, 4.546649457441876e-06, 8.720988247246179e-06], [2.0507321662787376e-08, 0.00011995683218291798, 0.13742943123971962, 5.635787385009643e-05, 5.991082282852953e-07, 4.998394456283776e-07], [3.0263941444071075e-08, 1.888255661457325e-06, 0.00035731942371236233, 0.05110060621876146, 0.0004026702500024032, 9.39107565011632e-06], [7.94288829769774e-06, 6.700804682937895e-06, 8.283451350045655e-06, 0.0009247518724035692, 0.02666903412426045, 0.0019144963983927419]], \"type\": \"heatmap\"}], {\"plot_bgcolor\": \"#000\", \"paper_bgcolor\": \"#000\", \"width\": 300, \"title\": \"3 Blobs:Confidence after 307200 Iters\", \"yaxis\": {\"title\": \"Count Word\", \"tickcolor\": \"#FFF\", \"range\": [-0.5, 5.5], \"dtick\": 1}, \"height\": 300, \"titlefont\": {\"color\": \"#FFF\"}, \"xaxis\": {\"title\": \"Glimpses\", \"tickcolor\": \"#FFF\", \"range\": [-0.5, 5.5], \"dtick\": 1}, \"font\": {\"color\": \"#FFF\"}}, {\"linkText\": \"Export to plot.ly\", \"showLink\": true})});</script>"
      ]
     },
     "metadata": {},
     "output_type": "display_data"
    },
    {
     "data": {
      "application/vnd.plotly.v1+json": {
       "data": [
        {
         "colorscale": "Jet",
         "type": "heatmap",
         "z": [
          [
           0.16897362262565105,
           0.17082558626069075,
           0.17229327168456113,
           0.1734519654487914,
           0.17435000985218438,
           0.17501227937824645
          ],
          [
           0.1669519349343375,
           0.1670931411768364,
           0.16714850340565768,
           0.1671779197585541,
           0.16720917640301766,
           0.16727610639170595
          ],
          [
           0.16718058110328196,
           0.16767351847321768,
           0.16802109516106808,
           0.16822989151303605,
           0.16832695012941357,
           0.1683510884962931
          ],
          [
           0.1669839723988668,
           0.1672613959800858,
           0.1674767294649324,
           0.16759468395875615,
           0.1676383770999156,
           0.1676397882384695
          ],
          [
           0.16555033460416063,
           0.1648689603184367,
           0.1645067745467609,
           0.1643894220592474,
           0.1644484991438394,
           0.16463574843826814
          ],
          [
           0.16435853794344113,
           0.1622764082225351,
           0.1605526525600832,
           0.15915513514399054,
           0.1580259903528587,
           0.15708398309755836
          ]
         ]
        }
       ],
       "layout": {
        "font": {
         "color": "#FFF"
        },
        "height": 300,
        "paper_bgcolor": "#000",
        "plot_bgcolor": "#000",
        "title": "4 Blobs:Confidence after 0 Iters",
        "titlefont": {
         "color": "#FFF"
        },
        "width": 300,
        "xaxis": {
         "dtick": 1,
         "range": [
          -0.5,
          5.5
         ],
         "tickcolor": "#FFF",
         "title": "Glimpses"
        },
        "yaxis": {
         "dtick": 1,
         "range": [
          -0.5,
          5.5
         ],
         "tickcolor": "#FFF",
         "title": "Count Word"
        }
       }
      },
      "text/html": [
       "<div id=\"4281b8fc-763f-4926-8d80-e09d9e90692c\" style=\"height: 300px; width: 300px;\" class=\"plotly-graph-div\"></div><script type=\"text/javascript\">require([\"plotly\"], function(Plotly) { window.PLOTLYENV=window.PLOTLYENV || {};window.PLOTLYENV.BASE_URL=\"https://plot.ly\";Plotly.newPlot(\"4281b8fc-763f-4926-8d80-e09d9e90692c\", [{\"colorscale\": \"Jet\", \"z\": [[0.16897362262565105, 0.17082558626069075, 0.17229327168456113, 0.1734519654487914, 0.17435000985218438, 0.17501227937824645], [0.1669519349343375, 0.1670931411768364, 0.16714850340565768, 0.1671779197585541, 0.16720917640301766, 0.16727610639170595], [0.16718058110328196, 0.16767351847321768, 0.16802109516106808, 0.16822989151303605, 0.16832695012941357, 0.1683510884962931], [0.1669839723988668, 0.1672613959800858, 0.1674767294649324, 0.16759468395875615, 0.1676383770999156, 0.1676397882384695], [0.16555033460416063, 0.1648689603184367, 0.1645067745467609, 0.1643894220592474, 0.1644484991438394, 0.16463574843826814], [0.16435853794344113, 0.1622764082225351, 0.1605526525600832, 0.15915513514399054, 0.1580259903528587, 0.15708398309755836]], \"type\": \"heatmap\"}], {\"plot_bgcolor\": \"#000\", \"paper_bgcolor\": \"#000\", \"width\": 300, \"title\": \"4 Blobs:Confidence after 0 Iters\", \"yaxis\": {\"title\": \"Count Word\", \"tickcolor\": \"#FFF\", \"range\": [-0.5, 5.5], \"dtick\": 1}, \"height\": 300, \"titlefont\": {\"color\": \"#FFF\"}, \"xaxis\": {\"title\": \"Glimpses\", \"tickcolor\": \"#FFF\", \"range\": [-0.5, 5.5], \"dtick\": 1}, \"font\": {\"color\": \"#FFF\"}}, {\"linkText\": \"Export to plot.ly\", \"showLink\": true})});</script>"
      ],
      "text/vnd.plotly.v1+html": [
       "<div id=\"4281b8fc-763f-4926-8d80-e09d9e90692c\" style=\"height: 300px; width: 300px;\" class=\"plotly-graph-div\"></div><script type=\"text/javascript\">require([\"plotly\"], function(Plotly) { window.PLOTLYENV=window.PLOTLYENV || {};window.PLOTLYENV.BASE_URL=\"https://plot.ly\";Plotly.newPlot(\"4281b8fc-763f-4926-8d80-e09d9e90692c\", [{\"colorscale\": \"Jet\", \"z\": [[0.16897362262565105, 0.17082558626069075, 0.17229327168456113, 0.1734519654487914, 0.17435000985218438, 0.17501227937824645], [0.1669519349343375, 0.1670931411768364, 0.16714850340565768, 0.1671779197585541, 0.16720917640301766, 0.16727610639170595], [0.16718058110328196, 0.16767351847321768, 0.16802109516106808, 0.16822989151303605, 0.16832695012941357, 0.1683510884962931], [0.1669839723988668, 0.1672613959800858, 0.1674767294649324, 0.16759468395875615, 0.1676383770999156, 0.1676397882384695], [0.16555033460416063, 0.1648689603184367, 0.1645067745467609, 0.1643894220592474, 0.1644484991438394, 0.16463574843826814], [0.16435853794344113, 0.1622764082225351, 0.1605526525600832, 0.15915513514399054, 0.1580259903528587, 0.15708398309755836]], \"type\": \"heatmap\"}], {\"plot_bgcolor\": \"#000\", \"paper_bgcolor\": \"#000\", \"width\": 300, \"title\": \"4 Blobs:Confidence after 0 Iters\", \"yaxis\": {\"title\": \"Count Word\", \"tickcolor\": \"#FFF\", \"range\": [-0.5, 5.5], \"dtick\": 1}, \"height\": 300, \"titlefont\": {\"color\": \"#FFF\"}, \"xaxis\": {\"title\": \"Glimpses\", \"tickcolor\": \"#FFF\", \"range\": [-0.5, 5.5], \"dtick\": 1}, \"font\": {\"color\": \"#FFF\"}}, {\"linkText\": \"Export to plot.ly\", \"showLink\": true})});</script>"
      ]
     },
     "metadata": {},
     "output_type": "display_data"
    },
    {
     "data": {
      "application/vnd.plotly.v1+json": {
       "data": [
        {
         "colorscale": "Jet",
         "type": "heatmap",
         "z": [
          [
           0.17439138272923946,
           0.17498701334718675,
           0.17536467516664078,
           0.17564343803742707,
           0.17587684881252816,
           0.17607863934217605
          ],
          [
           0.18535640450910837,
           0.18617252923261643,
           0.18669049241449145,
           0.18702014710351283,
           0.18722678489039185,
           0.18735839274517843
          ],
          [
           0.16131411032109846,
           0.15955499333884482,
           0.15832611019922183,
           0.1574606039331042,
           0.15684696658725467,
           0.15641731201736261
          ],
          [
           0.16009449482174762,
           0.15993911875229927,
           0.15989380610084106,
           0.1598901071088853,
           0.15990764313567846,
           0.15995535487267765
          ],
          [
           0.1592310869885073,
           0.15926245654398435,
           0.15931301177148222,
           0.15936215226603778,
           0.1594045162423919,
           0.15942764458403766
          ],
          [
           0.15961192012381342,
           0.16008329441435168,
           0.16041131611237458,
           0.16062298172339065,
           0.16073665472642198,
           0.16076207696900333
          ]
         ]
        }
       ],
       "layout": {
        "font": {
         "color": "#FFF"
        },
        "height": 300,
        "paper_bgcolor": "#000",
        "plot_bgcolor": "#000",
        "title": "4 Blobs:Confidence after 100 Iters",
        "titlefont": {
         "color": "#FFF"
        },
        "width": 300,
        "xaxis": {
         "dtick": 1,
         "range": [
          -0.5,
          5.5
         ],
         "tickcolor": "#FFF",
         "title": "Glimpses"
        },
        "yaxis": {
         "dtick": 1,
         "range": [
          -0.5,
          5.5
         ],
         "tickcolor": "#FFF",
         "title": "Count Word"
        }
       }
      },
      "text/html": [
       "<div id=\"e7a2b421-ff56-4fea-9094-5ad703f2383a\" style=\"height: 300px; width: 300px;\" class=\"plotly-graph-div\"></div><script type=\"text/javascript\">require([\"plotly\"], function(Plotly) { window.PLOTLYENV=window.PLOTLYENV || {};window.PLOTLYENV.BASE_URL=\"https://plot.ly\";Plotly.newPlot(\"e7a2b421-ff56-4fea-9094-5ad703f2383a\", [{\"colorscale\": \"Jet\", \"z\": [[0.17439138272923946, 0.17498701334718675, 0.17536467516664078, 0.17564343803742707, 0.17587684881252816, 0.17607863934217605], [0.18535640450910837, 0.18617252923261643, 0.18669049241449145, 0.18702014710351283, 0.18722678489039185, 0.18735839274517843], [0.16131411032109846, 0.15955499333884482, 0.15832611019922183, 0.1574606039331042, 0.15684696658725467, 0.15641731201736261], [0.16009449482174762, 0.15993911875229927, 0.15989380610084106, 0.1598901071088853, 0.15990764313567846, 0.15995535487267765], [0.1592310869885073, 0.15926245654398435, 0.15931301177148222, 0.15936215226603778, 0.1594045162423919, 0.15942764458403766], [0.15961192012381342, 0.16008329441435168, 0.16041131611237458, 0.16062298172339065, 0.16073665472642198, 0.16076207696900333]], \"type\": \"heatmap\"}], {\"plot_bgcolor\": \"#000\", \"paper_bgcolor\": \"#000\", \"width\": 300, \"title\": \"4 Blobs:Confidence after 100 Iters\", \"yaxis\": {\"title\": \"Count Word\", \"tickcolor\": \"#FFF\", \"range\": [-0.5, 5.5], \"dtick\": 1}, \"height\": 300, \"titlefont\": {\"color\": \"#FFF\"}, \"xaxis\": {\"title\": \"Glimpses\", \"tickcolor\": \"#FFF\", \"range\": [-0.5, 5.5], \"dtick\": 1}, \"font\": {\"color\": \"#FFF\"}}, {\"linkText\": \"Export to plot.ly\", \"showLink\": true})});</script>"
      ],
      "text/vnd.plotly.v1+html": [
       "<div id=\"e7a2b421-ff56-4fea-9094-5ad703f2383a\" style=\"height: 300px; width: 300px;\" class=\"plotly-graph-div\"></div><script type=\"text/javascript\">require([\"plotly\"], function(Plotly) { window.PLOTLYENV=window.PLOTLYENV || {};window.PLOTLYENV.BASE_URL=\"https://plot.ly\";Plotly.newPlot(\"e7a2b421-ff56-4fea-9094-5ad703f2383a\", [{\"colorscale\": \"Jet\", \"z\": [[0.17439138272923946, 0.17498701334718675, 0.17536467516664078, 0.17564343803742707, 0.17587684881252816, 0.17607863934217605], [0.18535640450910837, 0.18617252923261643, 0.18669049241449145, 0.18702014710351283, 0.18722678489039185, 0.18735839274517843], [0.16131411032109846, 0.15955499333884482, 0.15832611019922183, 0.1574606039331042, 0.15684696658725467, 0.15641731201736261], [0.16009449482174762, 0.15993911875229927, 0.15989380610084106, 0.1598901071088853, 0.15990764313567846, 0.15995535487267765], [0.1592310869885073, 0.15926245654398435, 0.15931301177148222, 0.15936215226603778, 0.1594045162423919, 0.15942764458403766], [0.15961192012381342, 0.16008329441435168, 0.16041131611237458, 0.16062298172339065, 0.16073665472642198, 0.16076207696900333]], \"type\": \"heatmap\"}], {\"plot_bgcolor\": \"#000\", \"paper_bgcolor\": \"#000\", \"width\": 300, \"title\": \"4 Blobs:Confidence after 100 Iters\", \"yaxis\": {\"title\": \"Count Word\", \"tickcolor\": \"#FFF\", \"range\": [-0.5, 5.5], \"dtick\": 1}, \"height\": 300, \"titlefont\": {\"color\": \"#FFF\"}, \"xaxis\": {\"title\": \"Glimpses\", \"tickcolor\": \"#FFF\", \"range\": [-0.5, 5.5], \"dtick\": 1}, \"font\": {\"color\": \"#FFF\"}}, {\"linkText\": \"Export to plot.ly\", \"showLink\": true})});</script>"
      ]
     },
     "metadata": {},
     "output_type": "display_data"
    },
    {
     "data": {
      "application/vnd.plotly.v1+json": {
       "data": [
        {
         "colorscale": "Jet",
         "type": "heatmap",
         "z": [
          [
           0.186069815762111,
           0.18811009943583418,
           0.18967560049543275,
           0.19087649401274137,
           0.191805946746474,
           0.19251935577016485
          ],
          [
           0.21613005410376998,
           0.21749715442016074,
           0.21841918976561792,
           0.219076623280053,
           0.21957943970691918,
           0.22002919041359278
          ],
          [
           0.15648656269613007,
           0.15663384773839883,
           0.15693368538102406,
           0.15724830564615971,
           0.15749825761041078,
           0.1576719752686461
          ],
          [
           0.15013266439307443,
           0.14974972978549755,
           0.1494749646898354,
           0.14925325921843896,
           0.14904157341873997,
           0.14884932278835666
          ],
          [
           0.1461143994495858,
           0.14464893661286468,
           0.14359349597315632,
           0.1428587600108636,
           0.14236956188448746,
           0.142039753279046
          ],
          [
           0.14506606056460922,
           0.14335976797944328,
           0.14190260305375885,
           0.14068610091585726,
           0.13970477624759872,
           0.13888996114278712
          ]
         ]
        }
       ],
       "layout": {
        "font": {
         "color": "#FFF"
        },
        "height": 300,
        "paper_bgcolor": "#000",
        "plot_bgcolor": "#000",
        "title": "4 Blobs:Confidence after 200 Iters",
        "titlefont": {
         "color": "#FFF"
        },
        "width": 300,
        "xaxis": {
         "dtick": 1,
         "range": [
          -0.5,
          5.5
         ],
         "tickcolor": "#FFF",
         "title": "Glimpses"
        },
        "yaxis": {
         "dtick": 1,
         "range": [
          -0.5,
          5.5
         ],
         "tickcolor": "#FFF",
         "title": "Count Word"
        }
       }
      },
      "text/html": [
       "<div id=\"bb58bb10-3b0b-4b25-8960-c2e2dfe5c061\" style=\"height: 300px; width: 300px;\" class=\"plotly-graph-div\"></div><script type=\"text/javascript\">require([\"plotly\"], function(Plotly) { window.PLOTLYENV=window.PLOTLYENV || {};window.PLOTLYENV.BASE_URL=\"https://plot.ly\";Plotly.newPlot(\"bb58bb10-3b0b-4b25-8960-c2e2dfe5c061\", [{\"colorscale\": \"Jet\", \"z\": [[0.186069815762111, 0.18811009943583418, 0.18967560049543275, 0.19087649401274137, 0.191805946746474, 0.19251935577016485], [0.21613005410376998, 0.21749715442016074, 0.21841918976561792, 0.219076623280053, 0.21957943970691918, 0.22002919041359278], [0.15648656269613007, 0.15663384773839883, 0.15693368538102406, 0.15724830564615971, 0.15749825761041078, 0.1576719752686461], [0.15013266439307443, 0.14974972978549755, 0.1494749646898354, 0.14925325921843896, 0.14904157341873997, 0.14884932278835666], [0.1461143994495858, 0.14464893661286468, 0.14359349597315632, 0.1428587600108636, 0.14236956188448746, 0.142039753279046], [0.14506606056460922, 0.14335976797944328, 0.14190260305375885, 0.14068610091585726, 0.13970477624759872, 0.13888996114278712]], \"type\": \"heatmap\"}], {\"plot_bgcolor\": \"#000\", \"paper_bgcolor\": \"#000\", \"width\": 300, \"title\": \"4 Blobs:Confidence after 200 Iters\", \"yaxis\": {\"title\": \"Count Word\", \"tickcolor\": \"#FFF\", \"range\": [-0.5, 5.5], \"dtick\": 1}, \"height\": 300, \"titlefont\": {\"color\": \"#FFF\"}, \"xaxis\": {\"title\": \"Glimpses\", \"tickcolor\": \"#FFF\", \"range\": [-0.5, 5.5], \"dtick\": 1}, \"font\": {\"color\": \"#FFF\"}}, {\"linkText\": \"Export to plot.ly\", \"showLink\": true})});</script>"
      ],
      "text/vnd.plotly.v1+html": [
       "<div id=\"bb58bb10-3b0b-4b25-8960-c2e2dfe5c061\" style=\"height: 300px; width: 300px;\" class=\"plotly-graph-div\"></div><script type=\"text/javascript\">require([\"plotly\"], function(Plotly) { window.PLOTLYENV=window.PLOTLYENV || {};window.PLOTLYENV.BASE_URL=\"https://plot.ly\";Plotly.newPlot(\"bb58bb10-3b0b-4b25-8960-c2e2dfe5c061\", [{\"colorscale\": \"Jet\", \"z\": [[0.186069815762111, 0.18811009943583418, 0.18967560049543275, 0.19087649401274137, 0.191805946746474, 0.19251935577016485], [0.21613005410376998, 0.21749715442016074, 0.21841918976561792, 0.219076623280053, 0.21957943970691918, 0.22002919041359278], [0.15648656269613007, 0.15663384773839883, 0.15693368538102406, 0.15724830564615971, 0.15749825761041078, 0.1576719752686461], [0.15013266439307443, 0.14974972978549755, 0.1494749646898354, 0.14925325921843896, 0.14904157341873997, 0.14884932278835666], [0.1461143994495858, 0.14464893661286468, 0.14359349597315632, 0.1428587600108636, 0.14236956188448746, 0.142039753279046], [0.14506606056460922, 0.14335976797944328, 0.14190260305375885, 0.14068610091585726, 0.13970477624759872, 0.13888996114278712]], \"type\": \"heatmap\"}], {\"plot_bgcolor\": \"#000\", \"paper_bgcolor\": \"#000\", \"width\": 300, \"title\": \"4 Blobs:Confidence after 200 Iters\", \"yaxis\": {\"title\": \"Count Word\", \"tickcolor\": \"#FFF\", \"range\": [-0.5, 5.5], \"dtick\": 1}, \"height\": 300, \"titlefont\": {\"color\": \"#FFF\"}, \"xaxis\": {\"title\": \"Glimpses\", \"tickcolor\": \"#FFF\", \"range\": [-0.5, 5.5], \"dtick\": 1}, \"font\": {\"color\": \"#FFF\"}}, {\"linkText\": \"Export to plot.ly\", \"showLink\": true})});</script>"
      ]
     },
     "metadata": {},
     "output_type": "display_data"
    },
    {
     "data": {
      "application/vnd.plotly.v1+json": {
       "data": [
        {
         "colorscale": "Jet",
         "type": "heatmap",
         "z": [
          [
           0.19807713558724854,
           0.20187078455597887,
           0.20479519409259536,
           0.20704098124589732,
           0.20873271668094773,
           0.21002927500884197
          ],
          [
           0.2484567398306015,
           0.25009676155664357,
           0.25073821599217627,
           0.25081002241689204,
           0.2506352102768105,
           0.25036638675776274
          ],
          [
           0.14914431639831033,
           0.14760324205841202,
           0.14669010233725513,
           0.1461674443697099,
           0.14588075287720856,
           0.14570960344071715
          ],
          [
           0.13656005438871593,
           0.134800124941146,
           0.13381918497045722,
           0.13330654951891974,
           0.13309598764836392,
           0.13301402236208368
          ],
          [
           0.13576277486320143,
           0.13545476652521263,
           0.1353434444759428,
           0.13533706156673686,
           0.13534924027969122,
           0.13535570514524276
          ],
          [
           0.13199846328596085,
           0.13017383079366454,
           0.12861335254389059,
           0.12733746248876712,
           0.12630560639332414,
           0.12552452181422663
          ]
         ]
        }
       ],
       "layout": {
        "font": {
         "color": "#FFF"
        },
        "height": 300,
        "paper_bgcolor": "#000",
        "plot_bgcolor": "#000",
        "title": "4 Blobs:Confidence after 300 Iters",
        "titlefont": {
         "color": "#FFF"
        },
        "width": 300,
        "xaxis": {
         "dtick": 1,
         "range": [
          -0.5,
          5.5
         ],
         "tickcolor": "#FFF",
         "title": "Glimpses"
        },
        "yaxis": {
         "dtick": 1,
         "range": [
          -0.5,
          5.5
         ],
         "tickcolor": "#FFF",
         "title": "Count Word"
        }
       }
      },
      "text/html": [
       "<div id=\"bfe5d8fe-5f04-4c55-8a10-bd7880013864\" style=\"height: 300px; width: 300px;\" class=\"plotly-graph-div\"></div><script type=\"text/javascript\">require([\"plotly\"], function(Plotly) { window.PLOTLYENV=window.PLOTLYENV || {};window.PLOTLYENV.BASE_URL=\"https://plot.ly\";Plotly.newPlot(\"bfe5d8fe-5f04-4c55-8a10-bd7880013864\", [{\"colorscale\": \"Jet\", \"z\": [[0.19807713558724854, 0.20187078455597887, 0.20479519409259536, 0.20704098124589732, 0.20873271668094773, 0.21002927500884197], [0.2484567398306015, 0.25009676155664357, 0.25073821599217627, 0.25081002241689204, 0.2506352102768105, 0.25036638675776274], [0.14914431639831033, 0.14760324205841202, 0.14669010233725513, 0.1461674443697099, 0.14588075287720856, 0.14570960344071715], [0.13656005438871593, 0.134800124941146, 0.13381918497045722, 0.13330654951891974, 0.13309598764836392, 0.13301402236208368], [0.13576277486320143, 0.13545476652521263, 0.1353434444759428, 0.13533706156673686, 0.13534924027969122, 0.13535570514524276], [0.13199846328596085, 0.13017383079366454, 0.12861335254389059, 0.12733746248876712, 0.12630560639332414, 0.12552452181422663]], \"type\": \"heatmap\"}], {\"plot_bgcolor\": \"#000\", \"paper_bgcolor\": \"#000\", \"width\": 300, \"title\": \"4 Blobs:Confidence after 300 Iters\", \"yaxis\": {\"title\": \"Count Word\", \"tickcolor\": \"#FFF\", \"range\": [-0.5, 5.5], \"dtick\": 1}, \"height\": 300, \"titlefont\": {\"color\": \"#FFF\"}, \"xaxis\": {\"title\": \"Glimpses\", \"tickcolor\": \"#FFF\", \"range\": [-0.5, 5.5], \"dtick\": 1}, \"font\": {\"color\": \"#FFF\"}}, {\"linkText\": \"Export to plot.ly\", \"showLink\": true})});</script>"
      ],
      "text/vnd.plotly.v1+html": [
       "<div id=\"bfe5d8fe-5f04-4c55-8a10-bd7880013864\" style=\"height: 300px; width: 300px;\" class=\"plotly-graph-div\"></div><script type=\"text/javascript\">require([\"plotly\"], function(Plotly) { window.PLOTLYENV=window.PLOTLYENV || {};window.PLOTLYENV.BASE_URL=\"https://plot.ly\";Plotly.newPlot(\"bfe5d8fe-5f04-4c55-8a10-bd7880013864\", [{\"colorscale\": \"Jet\", \"z\": [[0.19807713558724854, 0.20187078455597887, 0.20479519409259536, 0.20704098124589732, 0.20873271668094773, 0.21002927500884197], [0.2484567398306015, 0.25009676155664357, 0.25073821599217627, 0.25081002241689204, 0.2506352102768105, 0.25036638675776274], [0.14914431639831033, 0.14760324205841202, 0.14669010233725513, 0.1461674443697099, 0.14588075287720856, 0.14570960344071715], [0.13656005438871593, 0.134800124941146, 0.13381918497045722, 0.13330654951891974, 0.13309598764836392, 0.13301402236208368], [0.13576277486320143, 0.13545476652521263, 0.1353434444759428, 0.13533706156673686, 0.13534924027969122, 0.13535570514524276], [0.13199846328596085, 0.13017383079366454, 0.12861335254389059, 0.12733746248876712, 0.12630560639332414, 0.12552452181422663]], \"type\": \"heatmap\"}], {\"plot_bgcolor\": \"#000\", \"paper_bgcolor\": \"#000\", \"width\": 300, \"title\": \"4 Blobs:Confidence after 300 Iters\", \"yaxis\": {\"title\": \"Count Word\", \"tickcolor\": \"#FFF\", \"range\": [-0.5, 5.5], \"dtick\": 1}, \"height\": 300, \"titlefont\": {\"color\": \"#FFF\"}, \"xaxis\": {\"title\": \"Glimpses\", \"tickcolor\": \"#FFF\", \"range\": [-0.5, 5.5], \"dtick\": 1}, \"font\": {\"color\": \"#FFF\"}}, {\"linkText\": \"Export to plot.ly\", \"showLink\": true})});</script>"
      ]
     },
     "metadata": {},
     "output_type": "display_data"
    },
    {
     "data": {
      "application/vnd.plotly.v1+json": {
       "data": [
        {
         "colorscale": "Jet",
         "type": "heatmap",
         "z": [
          [
           0.21453870203948608,
           0.2238675956342081,
           0.23154309656417038,
           0.2377090393787187,
           0.24262571631523167,
           0.24647068954220194
          ],
          [
           0.2893914028960449,
           0.2949198702680522,
           0.29852400242361493,
           0.30060754731623596,
           0.3018403313700869,
           0.30250575851466904
          ],
          [
           0.1387956067093548,
           0.13473904739099968,
           0.13181119959113766,
           0.12979001058947484,
           0.1283054119094608,
           0.12729471066477535
          ],
          [
           0.12244444044102097,
           0.11819490141636153,
           0.1149862427746096,
           0.1126500593938649,
           0.11100633385371152,
           0.10981873210914801
          ],
          [
           0.11860734906560837,
           0.1161712520046833,
           0.11451216996414364,
           0.11344452681946456,
           0.11270667318187767,
           0.11222843435221717
          ],
          [
           0.11622211566605159,
           0.11210692373967916,
           0.10862291352358959,
           0.10579843074076165,
           0.10351515190656224,
           0.10168130195073977
          ]
         ]
        }
       ],
       "layout": {
        "font": {
         "color": "#FFF"
        },
        "height": 300,
        "paper_bgcolor": "#000",
        "plot_bgcolor": "#000",
        "title": "4 Blobs:Confidence after 400 Iters",
        "titlefont": {
         "color": "#FFF"
        },
        "width": 300,
        "xaxis": {
         "dtick": 1,
         "range": [
          -0.5,
          5.5
         ],
         "tickcolor": "#FFF",
         "title": "Glimpses"
        },
        "yaxis": {
         "dtick": 1,
         "range": [
          -0.5,
          5.5
         ],
         "tickcolor": "#FFF",
         "title": "Count Word"
        }
       }
      },
      "text/html": [
       "<div id=\"f6b6c364-7fad-4eb3-ac85-236712929b0b\" style=\"height: 300px; width: 300px;\" class=\"plotly-graph-div\"></div><script type=\"text/javascript\">require([\"plotly\"], function(Plotly) { window.PLOTLYENV=window.PLOTLYENV || {};window.PLOTLYENV.BASE_URL=\"https://plot.ly\";Plotly.newPlot(\"f6b6c364-7fad-4eb3-ac85-236712929b0b\", [{\"colorscale\": \"Jet\", \"z\": [[0.21453870203948608, 0.2238675956342081, 0.23154309656417038, 0.2377090393787187, 0.24262571631523167, 0.24647068954220194], [0.2893914028960449, 0.2949198702680522, 0.29852400242361493, 0.30060754731623596, 0.3018403313700869, 0.30250575851466904], [0.1387956067093548, 0.13473904739099968, 0.13181119959113766, 0.12979001058947484, 0.1283054119094608, 0.12729471066477535], [0.12244444044102097, 0.11819490141636153, 0.1149862427746096, 0.1126500593938649, 0.11100633385371152, 0.10981873210914801], [0.11860734906560837, 0.1161712520046833, 0.11451216996414364, 0.11344452681946456, 0.11270667318187767, 0.11222843435221717], [0.11622211566605159, 0.11210692373967916, 0.10862291352358959, 0.10579843074076165, 0.10351515190656224, 0.10168130195073977]], \"type\": \"heatmap\"}], {\"plot_bgcolor\": \"#000\", \"paper_bgcolor\": \"#000\", \"width\": 300, \"title\": \"4 Blobs:Confidence after 400 Iters\", \"yaxis\": {\"title\": \"Count Word\", \"tickcolor\": \"#FFF\", \"range\": [-0.5, 5.5], \"dtick\": 1}, \"height\": 300, \"titlefont\": {\"color\": \"#FFF\"}, \"xaxis\": {\"title\": \"Glimpses\", \"tickcolor\": \"#FFF\", \"range\": [-0.5, 5.5], \"dtick\": 1}, \"font\": {\"color\": \"#FFF\"}}, {\"linkText\": \"Export to plot.ly\", \"showLink\": true})});</script>"
      ],
      "text/vnd.plotly.v1+html": [
       "<div id=\"f6b6c364-7fad-4eb3-ac85-236712929b0b\" style=\"height: 300px; width: 300px;\" class=\"plotly-graph-div\"></div><script type=\"text/javascript\">require([\"plotly\"], function(Plotly) { window.PLOTLYENV=window.PLOTLYENV || {};window.PLOTLYENV.BASE_URL=\"https://plot.ly\";Plotly.newPlot(\"f6b6c364-7fad-4eb3-ac85-236712929b0b\", [{\"colorscale\": \"Jet\", \"z\": [[0.21453870203948608, 0.2238675956342081, 0.23154309656417038, 0.2377090393787187, 0.24262571631523167, 0.24647068954220194], [0.2893914028960449, 0.2949198702680522, 0.29852400242361493, 0.30060754731623596, 0.3018403313700869, 0.30250575851466904], [0.1387956067093548, 0.13473904739099968, 0.13181119959113766, 0.12979001058947484, 0.1283054119094608, 0.12729471066477535], [0.12244444044102097, 0.11819490141636153, 0.1149862427746096, 0.1126500593938649, 0.11100633385371152, 0.10981873210914801], [0.11860734906560837, 0.1161712520046833, 0.11451216996414364, 0.11344452681946456, 0.11270667318187767, 0.11222843435221717], [0.11622211566605159, 0.11210692373967916, 0.10862291352358959, 0.10579843074076165, 0.10351515190656224, 0.10168130195073977]], \"type\": \"heatmap\"}], {\"plot_bgcolor\": \"#000\", \"paper_bgcolor\": \"#000\", \"width\": 300, \"title\": \"4 Blobs:Confidence after 400 Iters\", \"yaxis\": {\"title\": \"Count Word\", \"tickcolor\": \"#FFF\", \"range\": [-0.5, 5.5], \"dtick\": 1}, \"height\": 300, \"titlefont\": {\"color\": \"#FFF\"}, \"xaxis\": {\"title\": \"Glimpses\", \"tickcolor\": \"#FFF\", \"range\": [-0.5, 5.5], \"dtick\": 1}, \"font\": {\"color\": \"#FFF\"}}, {\"linkText\": \"Export to plot.ly\", \"showLink\": true})});</script>"
      ]
     },
     "metadata": {},
     "output_type": "display_data"
    },
    {
     "data": {
      "application/vnd.plotly.v1+json": {
       "data": [
        {
         "colorscale": "Jet",
         "type": "heatmap",
         "z": [
          [
           0.2877114401693713,
           0.38461248763937583,
           0.4621967089079251,
           0.5311651032522536,
           0.5760401367013922,
           0.6125261971099399
          ],
          [
           0.3805875769076144,
           0.36632565322324995,
           0.34243567494938465,
           0.30699578833231067,
           0.2827117606837782,
           0.2592843634908673
          ],
          [
           0.10347845441412976,
           0.07821468054018359,
           0.06222233191994215,
           0.05216625429483818,
           0.04571871804069416,
           0.04175144295075726
          ],
          [
           0.08425641866901296,
           0.06628303360563849,
           0.053901878114019995,
           0.04600672399570771,
           0.04120642738616641,
           0.037962425596589265
          ],
          [
           0.07428253451756481,
           0.0548319367629744,
           0.04222856035108985,
           0.034478528173625095,
           0.029740973928810626,
           0.026855936259216756
          ],
          [
           0.06968314539895934,
           0.04973178041082823,
           0.03701440441547119,
           0.02918716765475231,
           0.024581553335811007,
           0.021619195356060366
          ]
         ]
        }
       ],
       "layout": {
        "font": {
         "color": "#FFF"
        },
        "height": 300,
        "paper_bgcolor": "#000",
        "plot_bgcolor": "#000",
        "title": "4 Blobs:Confidence after 600 Iters",
        "titlefont": {
         "color": "#FFF"
        },
        "width": 300,
        "xaxis": {
         "dtick": 1,
         "range": [
          -0.5,
          5.5
         ],
         "tickcolor": "#FFF",
         "title": "Glimpses"
        },
        "yaxis": {
         "dtick": 1,
         "range": [
          -0.5,
          5.5
         ],
         "tickcolor": "#FFF",
         "title": "Count Word"
        }
       }
      },
      "text/html": [
       "<div id=\"36643283-57cf-4ee8-87e6-a77f08b66895\" style=\"height: 300px; width: 300px;\" class=\"plotly-graph-div\"></div><script type=\"text/javascript\">require([\"plotly\"], function(Plotly) { window.PLOTLYENV=window.PLOTLYENV || {};window.PLOTLYENV.BASE_URL=\"https://plot.ly\";Plotly.newPlot(\"36643283-57cf-4ee8-87e6-a77f08b66895\", [{\"colorscale\": \"Jet\", \"z\": [[0.2877114401693713, 0.38461248763937583, 0.4621967089079251, 0.5311651032522536, 0.5760401367013922, 0.6125261971099399], [0.3805875769076144, 0.36632565322324995, 0.34243567494938465, 0.30699578833231067, 0.2827117606837782, 0.2592843634908673], [0.10347845441412976, 0.07821468054018359, 0.06222233191994215, 0.05216625429483818, 0.04571871804069416, 0.04175144295075726], [0.08425641866901296, 0.06628303360563849, 0.053901878114019995, 0.04600672399570771, 0.04120642738616641, 0.037962425596589265], [0.07428253451756481, 0.0548319367629744, 0.04222856035108985, 0.034478528173625095, 0.029740973928810626, 0.026855936259216756], [0.06968314539895934, 0.04973178041082823, 0.03701440441547119, 0.02918716765475231, 0.024581553335811007, 0.021619195356060366]], \"type\": \"heatmap\"}], {\"plot_bgcolor\": \"#000\", \"paper_bgcolor\": \"#000\", \"width\": 300, \"title\": \"4 Blobs:Confidence after 600 Iters\", \"yaxis\": {\"title\": \"Count Word\", \"tickcolor\": \"#FFF\", \"range\": [-0.5, 5.5], \"dtick\": 1}, \"height\": 300, \"titlefont\": {\"color\": \"#FFF\"}, \"xaxis\": {\"title\": \"Glimpses\", \"tickcolor\": \"#FFF\", \"range\": [-0.5, 5.5], \"dtick\": 1}, \"font\": {\"color\": \"#FFF\"}}, {\"linkText\": \"Export to plot.ly\", \"showLink\": true})});</script>"
      ],
      "text/vnd.plotly.v1+html": [
       "<div id=\"36643283-57cf-4ee8-87e6-a77f08b66895\" style=\"height: 300px; width: 300px;\" class=\"plotly-graph-div\"></div><script type=\"text/javascript\">require([\"plotly\"], function(Plotly) { window.PLOTLYENV=window.PLOTLYENV || {};window.PLOTLYENV.BASE_URL=\"https://plot.ly\";Plotly.newPlot(\"36643283-57cf-4ee8-87e6-a77f08b66895\", [{\"colorscale\": \"Jet\", \"z\": [[0.2877114401693713, 0.38461248763937583, 0.4621967089079251, 0.5311651032522536, 0.5760401367013922, 0.6125261971099399], [0.3805875769076144, 0.36632565322324995, 0.34243567494938465, 0.30699578833231067, 0.2827117606837782, 0.2592843634908673], [0.10347845441412976, 0.07821468054018359, 0.06222233191994215, 0.05216625429483818, 0.04571871804069416, 0.04175144295075726], [0.08425641866901296, 0.06628303360563849, 0.053901878114019995, 0.04600672399570771, 0.04120642738616641, 0.037962425596589265], [0.07428253451756481, 0.0548319367629744, 0.04222856035108985, 0.034478528173625095, 0.029740973928810626, 0.026855936259216756], [0.06968314539895934, 0.04973178041082823, 0.03701440441547119, 0.02918716765475231, 0.024581553335811007, 0.021619195356060366]], \"type\": \"heatmap\"}], {\"plot_bgcolor\": \"#000\", \"paper_bgcolor\": \"#000\", \"width\": 300, \"title\": \"4 Blobs:Confidence after 600 Iters\", \"yaxis\": {\"title\": \"Count Word\", \"tickcolor\": \"#FFF\", \"range\": [-0.5, 5.5], \"dtick\": 1}, \"height\": 300, \"titlefont\": {\"color\": \"#FFF\"}, \"xaxis\": {\"title\": \"Glimpses\", \"tickcolor\": \"#FFF\", \"range\": [-0.5, 5.5], \"dtick\": 1}, \"font\": {\"color\": \"#FFF\"}}, {\"linkText\": \"Export to plot.ly\", \"showLink\": true})});</script>"
      ]
     },
     "metadata": {},
     "output_type": "display_data"
    },
    {
     "data": {
      "application/vnd.plotly.v1+json": {
       "data": [
        {
         "colorscale": "Jet",
         "type": "heatmap",
         "z": [
          [
           0.24852946193121478,
           0.46899466608688783,
           0.5797158486837741,
           0.7402406150347981,
           0.7642142259661215,
           0.8370941387382395
          ],
          [
           0.5051595397242692,
           0.3744316434287858,
           0.3110718423450145,
           0.18706052598789782,
           0.1733181083114344,
           0.11485272025588465
          ],
          [
           0.08452422695364914,
           0.055030485480775194,
           0.0391065079764029,
           0.025765099066745272,
           0.022109945285891656,
           0.01678462809773293
          ],
          [
           0.06250905379718848,
           0.043551010655918335,
           0.0325827371396834,
           0.02345791226823744,
           0.020905144770290575,
           0.016714629182966227
          ],
          [
           0.05225700973042429,
           0.03199253634003721,
           0.021378644064467274,
           0.013859323048342575,
           0.011562942263849678,
           0.008828806374287857
          ],
          [
           0.04702020786350418,
           0.025999168345521,
           0.016143922584874144,
           0.009616017516180787,
           0.007889118955527909,
           0.0057245713208282124
          ]
         ]
        }
       ],
       "layout": {
        "font": {
         "color": "#FFF"
        },
        "height": 300,
        "paper_bgcolor": "#000",
        "plot_bgcolor": "#000",
        "title": "4 Blobs:Confidence after 800 Iters",
        "titlefont": {
         "color": "#FFF"
        },
        "width": 300,
        "xaxis": {
         "dtick": 1,
         "range": [
          -0.5,
          5.5
         ],
         "tickcolor": "#FFF",
         "title": "Glimpses"
        },
        "yaxis": {
         "dtick": 1,
         "range": [
          -0.5,
          5.5
         ],
         "tickcolor": "#FFF",
         "title": "Count Word"
        }
       }
      },
      "text/html": [
       "<div id=\"6bec1edc-fc1e-4e1f-8bcd-27f2e831b026\" style=\"height: 300px; width: 300px;\" class=\"plotly-graph-div\"></div><script type=\"text/javascript\">require([\"plotly\"], function(Plotly) { window.PLOTLYENV=window.PLOTLYENV || {};window.PLOTLYENV.BASE_URL=\"https://plot.ly\";Plotly.newPlot(\"6bec1edc-fc1e-4e1f-8bcd-27f2e831b026\", [{\"colorscale\": \"Jet\", \"z\": [[0.24852946193121478, 0.46899466608688783, 0.5797158486837741, 0.7402406150347981, 0.7642142259661215, 0.8370941387382395], [0.5051595397242692, 0.3744316434287858, 0.3110718423450145, 0.18706052598789782, 0.1733181083114344, 0.11485272025588465], [0.08452422695364914, 0.055030485480775194, 0.0391065079764029, 0.025765099066745272, 0.022109945285891656, 0.01678462809773293], [0.06250905379718848, 0.043551010655918335, 0.0325827371396834, 0.02345791226823744, 0.020905144770290575, 0.016714629182966227], [0.05225700973042429, 0.03199253634003721, 0.021378644064467274, 0.013859323048342575, 0.011562942263849678, 0.008828806374287857], [0.04702020786350418, 0.025999168345521, 0.016143922584874144, 0.009616017516180787, 0.007889118955527909, 0.0057245713208282124]], \"type\": \"heatmap\"}], {\"plot_bgcolor\": \"#000\", \"paper_bgcolor\": \"#000\", \"width\": 300, \"title\": \"4 Blobs:Confidence after 800 Iters\", \"yaxis\": {\"title\": \"Count Word\", \"tickcolor\": \"#FFF\", \"range\": [-0.5, 5.5], \"dtick\": 1}, \"height\": 300, \"titlefont\": {\"color\": \"#FFF\"}, \"xaxis\": {\"title\": \"Glimpses\", \"tickcolor\": \"#FFF\", \"range\": [-0.5, 5.5], \"dtick\": 1}, \"font\": {\"color\": \"#FFF\"}}, {\"linkText\": \"Export to plot.ly\", \"showLink\": true})});</script>"
      ],
      "text/vnd.plotly.v1+html": [
       "<div id=\"6bec1edc-fc1e-4e1f-8bcd-27f2e831b026\" style=\"height: 300px; width: 300px;\" class=\"plotly-graph-div\"></div><script type=\"text/javascript\">require([\"plotly\"], function(Plotly) { window.PLOTLYENV=window.PLOTLYENV || {};window.PLOTLYENV.BASE_URL=\"https://plot.ly\";Plotly.newPlot(\"6bec1edc-fc1e-4e1f-8bcd-27f2e831b026\", [{\"colorscale\": \"Jet\", \"z\": [[0.24852946193121478, 0.46899466608688783, 0.5797158486837741, 0.7402406150347981, 0.7642142259661215, 0.8370941387382395], [0.5051595397242692, 0.3744316434287858, 0.3110718423450145, 0.18706052598789782, 0.1733181083114344, 0.11485272025588465], [0.08452422695364914, 0.055030485480775194, 0.0391065079764029, 0.025765099066745272, 0.022109945285891656, 0.01678462809773293], [0.06250905379718848, 0.043551010655918335, 0.0325827371396834, 0.02345791226823744, 0.020905144770290575, 0.016714629182966227], [0.05225700973042429, 0.03199253634003721, 0.021378644064467274, 0.013859323048342575, 0.011562942263849678, 0.008828806374287857], [0.04702020786350418, 0.025999168345521, 0.016143922584874144, 0.009616017516180787, 0.007889118955527909, 0.0057245713208282124]], \"type\": \"heatmap\"}], {\"plot_bgcolor\": \"#000\", \"paper_bgcolor\": \"#000\", \"width\": 300, \"title\": \"4 Blobs:Confidence after 800 Iters\", \"yaxis\": {\"title\": \"Count Word\", \"tickcolor\": \"#FFF\", \"range\": [-0.5, 5.5], \"dtick\": 1}, \"height\": 300, \"titlefont\": {\"color\": \"#FFF\"}, \"xaxis\": {\"title\": \"Glimpses\", \"tickcolor\": \"#FFF\", \"range\": [-0.5, 5.5], \"dtick\": 1}, \"font\": {\"color\": \"#FFF\"}}, {\"linkText\": \"Export to plot.ly\", \"showLink\": true})});</script>"
      ]
     },
     "metadata": {},
     "output_type": "display_data"
    },
    {
     "data": {
      "application/vnd.plotly.v1+json": {
       "data": [
        {
         "colorscale": "Jet",
         "type": "heatmap",
         "z": [
          [
           0.06408964274197024,
           0.654423698657815,
           0.7581124584159264,
           0.898520561210498,
           0.8820524216156914,
           0.9435705221696564
          ],
          [
           0.7641380416464528,
           0.09054696824930837,
           0.016545212998238,
           0.001461553883236996,
           0.0011472168453637742,
           0.0002470099867205341
          ],
          [
           0.0671679355288272,
           0.10757144402891818,
           0.09699996642727543,
           0.04175517174358778,
           0.0477002588066304,
           0.02209441205322818
          ],
          [
           0.04035843676641694,
           0.07227312622561768,
           0.07365453363620042,
           0.03729831034904976,
           0.0461864570810634,
           0.0236873075968928
          ],
          [
           0.0333773080930949,
           0.042633296000659016,
           0.03272997461811832,
           0.013291278412121426,
           0.01453378616719814,
           0.0068230800036933595
          ],
          [
           0.03086814277919988,
           0.0325509787176393,
           0.02195735802318118,
           0.007672643643343386,
           0.008379371128408133,
           0.0035772133115219815
          ]
         ]
        }
       ],
       "layout": {
        "font": {
         "color": "#FFF"
        },
        "height": 300,
        "paper_bgcolor": "#000",
        "plot_bgcolor": "#000",
        "title": "4 Blobs:Confidence after 1200 Iters",
        "titlefont": {
         "color": "#FFF"
        },
        "width": 300,
        "xaxis": {
         "dtick": 1,
         "range": [
          -0.5,
          5.5
         ],
         "tickcolor": "#FFF",
         "title": "Glimpses"
        },
        "yaxis": {
         "dtick": 1,
         "range": [
          -0.5,
          5.5
         ],
         "tickcolor": "#FFF",
         "title": "Count Word"
        }
       }
      },
      "text/html": [
       "<div id=\"a54f01b4-496d-4ec6-8e36-5c9386b08670\" style=\"height: 300px; width: 300px;\" class=\"plotly-graph-div\"></div><script type=\"text/javascript\">require([\"plotly\"], function(Plotly) { window.PLOTLYENV=window.PLOTLYENV || {};window.PLOTLYENV.BASE_URL=\"https://plot.ly\";Plotly.newPlot(\"a54f01b4-496d-4ec6-8e36-5c9386b08670\", [{\"colorscale\": \"Jet\", \"z\": [[0.06408964274197024, 0.654423698657815, 0.7581124584159264, 0.898520561210498, 0.8820524216156914, 0.9435705221696564], [0.7641380416464528, 0.09054696824930837, 0.016545212998238, 0.001461553883236996, 0.0011472168453637742, 0.0002470099867205341], [0.0671679355288272, 0.10757144402891818, 0.09699996642727543, 0.04175517174358778, 0.0477002588066304, 0.02209441205322818], [0.04035843676641694, 0.07227312622561768, 0.07365453363620042, 0.03729831034904976, 0.0461864570810634, 0.0236873075968928], [0.0333773080930949, 0.042633296000659016, 0.03272997461811832, 0.013291278412121426, 0.01453378616719814, 0.0068230800036933595], [0.03086814277919988, 0.0325509787176393, 0.02195735802318118, 0.007672643643343386, 0.008379371128408133, 0.0035772133115219815]], \"type\": \"heatmap\"}], {\"plot_bgcolor\": \"#000\", \"paper_bgcolor\": \"#000\", \"width\": 300, \"title\": \"4 Blobs:Confidence after 1200 Iters\", \"yaxis\": {\"title\": \"Count Word\", \"tickcolor\": \"#FFF\", \"range\": [-0.5, 5.5], \"dtick\": 1}, \"height\": 300, \"titlefont\": {\"color\": \"#FFF\"}, \"xaxis\": {\"title\": \"Glimpses\", \"tickcolor\": \"#FFF\", \"range\": [-0.5, 5.5], \"dtick\": 1}, \"font\": {\"color\": \"#FFF\"}}, {\"linkText\": \"Export to plot.ly\", \"showLink\": true})});</script>"
      ],
      "text/vnd.plotly.v1+html": [
       "<div id=\"a54f01b4-496d-4ec6-8e36-5c9386b08670\" style=\"height: 300px; width: 300px;\" class=\"plotly-graph-div\"></div><script type=\"text/javascript\">require([\"plotly\"], function(Plotly) { window.PLOTLYENV=window.PLOTLYENV || {};window.PLOTLYENV.BASE_URL=\"https://plot.ly\";Plotly.newPlot(\"a54f01b4-496d-4ec6-8e36-5c9386b08670\", [{\"colorscale\": \"Jet\", \"z\": [[0.06408964274197024, 0.654423698657815, 0.7581124584159264, 0.898520561210498, 0.8820524216156914, 0.9435705221696564], [0.7641380416464528, 0.09054696824930837, 0.016545212998238, 0.001461553883236996, 0.0011472168453637742, 0.0002470099867205341], [0.0671679355288272, 0.10757144402891818, 0.09699996642727543, 0.04175517174358778, 0.0477002588066304, 0.02209441205322818], [0.04035843676641694, 0.07227312622561768, 0.07365453363620042, 0.03729831034904976, 0.0461864570810634, 0.0236873075968928], [0.0333773080930949, 0.042633296000659016, 0.03272997461811832, 0.013291278412121426, 0.01453378616719814, 0.0068230800036933595], [0.03086814277919988, 0.0325509787176393, 0.02195735802318118, 0.007672643643343386, 0.008379371128408133, 0.0035772133115219815]], \"type\": \"heatmap\"}], {\"plot_bgcolor\": \"#000\", \"paper_bgcolor\": \"#000\", \"width\": 300, \"title\": \"4 Blobs:Confidence after 1200 Iters\", \"yaxis\": {\"title\": \"Count Word\", \"tickcolor\": \"#FFF\", \"range\": [-0.5, 5.5], \"dtick\": 1}, \"height\": 300, \"titlefont\": {\"color\": \"#FFF\"}, \"xaxis\": {\"title\": \"Glimpses\", \"tickcolor\": \"#FFF\", \"range\": [-0.5, 5.5], \"dtick\": 1}, \"font\": {\"color\": \"#FFF\"}}, {\"linkText\": \"Export to plot.ly\", \"showLink\": true})});</script>"
      ]
     },
     "metadata": {},
     "output_type": "display_data"
    },
    {
     "data": {
      "application/vnd.plotly.v1+json": {
       "data": [
        {
         "colorscale": "Jet",
         "type": "heatmap",
         "z": [
          [
           0.03829096283029749,
           0.6130880746651047,
           0.683237595937225,
           0.8219490278506137,
           0.7771028694651017,
           0.8551117313506372
          ],
          [
           0.8096371839397432,
           0.02997856672198924,
           0.0013620090594799888,
           7.901918645386882e-05,
           7.170624312388549e-05,
           1.750846851634565e-05
          ],
          [
           0.06620410480617066,
           0.16804174940133554,
           0.13753885910774963,
           0.059614917548006456,
           0.07064027388730522,
           0.03898683204211286
          ],
          [
           0.032392978838938186,
           0.09754533277678797,
           0.10666298171941625,
           0.07382600878477485,
           0.0976118819031631,
           0.06759349700414764
          ],
          [
           0.026782971529321103,
           0.056269206998054315,
           0.05000480759641312,
           0.034236886197132624,
           0.041809694438231196,
           0.030280256490701672
          ],
          [
           0.026691139844832255,
           0.03507645079630179,
           0.02119312472877535,
           0.010293517609487537,
           0.012762948169773882,
           0.008009562945399243
          ]
         ]
        }
       ],
       "layout": {
        "font": {
         "color": "#FFF"
        },
        "height": 300,
        "paper_bgcolor": "#000",
        "plot_bgcolor": "#000",
        "title": "4 Blobs:Confidence after 1600 Iters",
        "titlefont": {
         "color": "#FFF"
        },
        "width": 300,
        "xaxis": {
         "dtick": 1,
         "range": [
          -0.5,
          5.5
         ],
         "tickcolor": "#FFF",
         "title": "Glimpses"
        },
        "yaxis": {
         "dtick": 1,
         "range": [
          -0.5,
          5.5
         ],
         "tickcolor": "#FFF",
         "title": "Count Word"
        }
       }
      },
      "text/html": [
       "<div id=\"7b8ec55b-3352-4a83-8392-228ebc751a7d\" style=\"height: 300px; width: 300px;\" class=\"plotly-graph-div\"></div><script type=\"text/javascript\">require([\"plotly\"], function(Plotly) { window.PLOTLYENV=window.PLOTLYENV || {};window.PLOTLYENV.BASE_URL=\"https://plot.ly\";Plotly.newPlot(\"7b8ec55b-3352-4a83-8392-228ebc751a7d\", [{\"colorscale\": \"Jet\", \"z\": [[0.03829096283029749, 0.6130880746651047, 0.683237595937225, 0.8219490278506137, 0.7771028694651017, 0.8551117313506372], [0.8096371839397432, 0.02997856672198924, 0.0013620090594799888, 7.901918645386882e-05, 7.170624312388549e-05, 1.750846851634565e-05], [0.06620410480617066, 0.16804174940133554, 0.13753885910774963, 0.059614917548006456, 0.07064027388730522, 0.03898683204211286], [0.032392978838938186, 0.09754533277678797, 0.10666298171941625, 0.07382600878477485, 0.0976118819031631, 0.06759349700414764], [0.026782971529321103, 0.056269206998054315, 0.05000480759641312, 0.034236886197132624, 0.041809694438231196, 0.030280256490701672], [0.026691139844832255, 0.03507645079630179, 0.02119312472877535, 0.010293517609487537, 0.012762948169773882, 0.008009562945399243]], \"type\": \"heatmap\"}], {\"plot_bgcolor\": \"#000\", \"paper_bgcolor\": \"#000\", \"width\": 300, \"title\": \"4 Blobs:Confidence after 1600 Iters\", \"yaxis\": {\"title\": \"Count Word\", \"tickcolor\": \"#FFF\", \"range\": [-0.5, 5.5], \"dtick\": 1}, \"height\": 300, \"titlefont\": {\"color\": \"#FFF\"}, \"xaxis\": {\"title\": \"Glimpses\", \"tickcolor\": \"#FFF\", \"range\": [-0.5, 5.5], \"dtick\": 1}, \"font\": {\"color\": \"#FFF\"}}, {\"linkText\": \"Export to plot.ly\", \"showLink\": true})});</script>"
      ],
      "text/vnd.plotly.v1+html": [
       "<div id=\"7b8ec55b-3352-4a83-8392-228ebc751a7d\" style=\"height: 300px; width: 300px;\" class=\"plotly-graph-div\"></div><script type=\"text/javascript\">require([\"plotly\"], function(Plotly) { window.PLOTLYENV=window.PLOTLYENV || {};window.PLOTLYENV.BASE_URL=\"https://plot.ly\";Plotly.newPlot(\"7b8ec55b-3352-4a83-8392-228ebc751a7d\", [{\"colorscale\": \"Jet\", \"z\": [[0.03829096283029749, 0.6130880746651047, 0.683237595937225, 0.8219490278506137, 0.7771028694651017, 0.8551117313506372], [0.8096371839397432, 0.02997856672198924, 0.0013620090594799888, 7.901918645386882e-05, 7.170624312388549e-05, 1.750846851634565e-05], [0.06620410480617066, 0.16804174940133554, 0.13753885910774963, 0.059614917548006456, 0.07064027388730522, 0.03898683204211286], [0.032392978838938186, 0.09754533277678797, 0.10666298171941625, 0.07382600878477485, 0.0976118819031631, 0.06759349700414764], [0.026782971529321103, 0.056269206998054315, 0.05000480759641312, 0.034236886197132624, 0.041809694438231196, 0.030280256490701672], [0.026691139844832255, 0.03507645079630179, 0.02119312472877535, 0.010293517609487537, 0.012762948169773882, 0.008009562945399243]], \"type\": \"heatmap\"}], {\"plot_bgcolor\": \"#000\", \"paper_bgcolor\": \"#000\", \"width\": 300, \"title\": \"4 Blobs:Confidence after 1600 Iters\", \"yaxis\": {\"title\": \"Count Word\", \"tickcolor\": \"#FFF\", \"range\": [-0.5, 5.5], \"dtick\": 1}, \"height\": 300, \"titlefont\": {\"color\": \"#FFF\"}, \"xaxis\": {\"title\": \"Glimpses\", \"tickcolor\": \"#FFF\", \"range\": [-0.5, 5.5], \"dtick\": 1}, \"font\": {\"color\": \"#FFF\"}}, {\"linkText\": \"Export to plot.ly\", \"showLink\": true})});</script>"
      ]
     },
     "metadata": {},
     "output_type": "display_data"
    },
    {
     "data": {
      "application/vnd.plotly.v1+json": {
       "data": [
        {
         "colorscale": "Jet",
         "type": "heatmap",
         "z": [
          [
           0.013503373963530036,
           0.4891669983620737,
           0.6111881313636831,
           0.8108444854912145,
           0.7647925745732459,
           0.8425942559337196
          ],
          [
           0.9011040577976196,
           0.014559983227952546,
           9.677772165202012e-05,
           3.2087099632064445e-06,
           2.1626040894897127e-06,
           5.201553031569893e-07
          ],
          [
           0.04956856076289081,
           0.31206633246712495,
           0.1387796858008403,
           0.018012976561337598,
           0.015936577401851202,
           0.005393861840760245
          ],
          [
           0.013432479767020352,
           0.1093854968017745,
           0.1635976581470153,
           0.09266384307830813,
           0.12122650689303208,
           0.0714787396137702
          ],
          [
           0.010530363112993414,
           0.04427794704031643,
           0.05965711011396068,
           0.059610689378955924,
           0.07252229153027558,
           0.06228049863374283
          ],
          [
           0.011860782801261007,
           0.03054286356150315,
           0.026680259804989705,
           0.01886441592878864,
           0.025519506306831207,
           0.018251741287922493
          ]
         ]
        }
       ],
       "layout": {
        "font": {
         "color": "#FFF"
        },
        "height": 300,
        "paper_bgcolor": "#000",
        "plot_bgcolor": "#000",
        "title": "4 Blobs:Confidence after 2400 Iters",
        "titlefont": {
         "color": "#FFF"
        },
        "width": 300,
        "xaxis": {
         "dtick": 1,
         "range": [
          -0.5,
          5.5
         ],
         "tickcolor": "#FFF",
         "title": "Glimpses"
        },
        "yaxis": {
         "dtick": 1,
         "range": [
          -0.5,
          5.5
         ],
         "tickcolor": "#FFF",
         "title": "Count Word"
        }
       }
      },
      "text/html": [
       "<div id=\"de7d299c-deb9-440a-81d6-e20410e48795\" style=\"height: 300px; width: 300px;\" class=\"plotly-graph-div\"></div><script type=\"text/javascript\">require([\"plotly\"], function(Plotly) { window.PLOTLYENV=window.PLOTLYENV || {};window.PLOTLYENV.BASE_URL=\"https://plot.ly\";Plotly.newPlot(\"de7d299c-deb9-440a-81d6-e20410e48795\", [{\"colorscale\": \"Jet\", \"z\": [[0.013503373963530036, 0.4891669983620737, 0.6111881313636831, 0.8108444854912145, 0.7647925745732459, 0.8425942559337196], [0.9011040577976196, 0.014559983227952546, 9.677772165202012e-05, 3.2087099632064445e-06, 2.1626040894897127e-06, 5.201553031569893e-07], [0.04956856076289081, 0.31206633246712495, 0.1387796858008403, 0.018012976561337598, 0.015936577401851202, 0.005393861840760245], [0.013432479767020352, 0.1093854968017745, 0.1635976581470153, 0.09266384307830813, 0.12122650689303208, 0.0714787396137702], [0.010530363112993414, 0.04427794704031643, 0.05965711011396068, 0.059610689378955924, 0.07252229153027558, 0.06228049863374283], [0.011860782801261007, 0.03054286356150315, 0.026680259804989705, 0.01886441592878864, 0.025519506306831207, 0.018251741287922493]], \"type\": \"heatmap\"}], {\"plot_bgcolor\": \"#000\", \"paper_bgcolor\": \"#000\", \"width\": 300, \"title\": \"4 Blobs:Confidence after 2400 Iters\", \"yaxis\": {\"title\": \"Count Word\", \"tickcolor\": \"#FFF\", \"range\": [-0.5, 5.5], \"dtick\": 1}, \"height\": 300, \"titlefont\": {\"color\": \"#FFF\"}, \"xaxis\": {\"title\": \"Glimpses\", \"tickcolor\": \"#FFF\", \"range\": [-0.5, 5.5], \"dtick\": 1}, \"font\": {\"color\": \"#FFF\"}}, {\"linkText\": \"Export to plot.ly\", \"showLink\": true})});</script>"
      ],
      "text/vnd.plotly.v1+html": [
       "<div id=\"de7d299c-deb9-440a-81d6-e20410e48795\" style=\"height: 300px; width: 300px;\" class=\"plotly-graph-div\"></div><script type=\"text/javascript\">require([\"plotly\"], function(Plotly) { window.PLOTLYENV=window.PLOTLYENV || {};window.PLOTLYENV.BASE_URL=\"https://plot.ly\";Plotly.newPlot(\"de7d299c-deb9-440a-81d6-e20410e48795\", [{\"colorscale\": \"Jet\", \"z\": [[0.013503373963530036, 0.4891669983620737, 0.6111881313636831, 0.8108444854912145, 0.7647925745732459, 0.8425942559337196], [0.9011040577976196, 0.014559983227952546, 9.677772165202012e-05, 3.2087099632064445e-06, 2.1626040894897127e-06, 5.201553031569893e-07], [0.04956856076289081, 0.31206633246712495, 0.1387796858008403, 0.018012976561337598, 0.015936577401851202, 0.005393861840760245], [0.013432479767020352, 0.1093854968017745, 0.1635976581470153, 0.09266384307830813, 0.12122650689303208, 0.0714787396137702], [0.010530363112993414, 0.04427794704031643, 0.05965711011396068, 0.059610689378955924, 0.07252229153027558, 0.06228049863374283], [0.011860782801261007, 0.03054286356150315, 0.026680259804989705, 0.01886441592878864, 0.025519506306831207, 0.018251741287922493]], \"type\": \"heatmap\"}], {\"plot_bgcolor\": \"#000\", \"paper_bgcolor\": \"#000\", \"width\": 300, \"title\": \"4 Blobs:Confidence after 2400 Iters\", \"yaxis\": {\"title\": \"Count Word\", \"tickcolor\": \"#FFF\", \"range\": [-0.5, 5.5], \"dtick\": 1}, \"height\": 300, \"titlefont\": {\"color\": \"#FFF\"}, \"xaxis\": {\"title\": \"Glimpses\", \"tickcolor\": \"#FFF\", \"range\": [-0.5, 5.5], \"dtick\": 1}, \"font\": {\"color\": \"#FFF\"}}, {\"linkText\": \"Export to plot.ly\", \"showLink\": true})});</script>"
      ]
     },
     "metadata": {},
     "output_type": "display_data"
    },
    {
     "data": {
      "application/vnd.plotly.v1+json": {
       "data": [
        {
         "colorscale": "Jet",
         "type": "heatmap",
         "z": [
          [
           0.007814775446012596,
           0.6630945542962751,
           0.8294508013011513,
           0.7889840810877289,
           0.6862115197207147,
           0.613858292013935
          ],
          [
           0.9706229133245107,
           0.0019844865848206153,
           3.0823683524001476e-06,
           4.6216510798431036e-07,
           1.5463072950797855e-07,
           7.78824514177067e-08
          ],
          [
           0.015696918632571416,
           0.22504711975894728,
           0.010060234124493276,
           0.001689197929986573,
           0.001281354027558407,
           0.0010126674315728565
          ],
          [
           0.002254867158409759,
           0.08200633253626277,
           0.10813835390075191,
           0.10886076441311339,
           0.14756119719724659,
           0.16422855170783604
          ],
          [
           0.0017127052143561846,
           0.015506982006576136,
           0.0337883035726283,
           0.06571688102903153,
           0.10477248162688221,
           0.14034185387443254
          ],
          [
           0.00189728662884365,
           0.01236000735376087,
           0.01855871032224308,
           0.03474809165138197,
           0.06017273369883391,
           0.08055802194572327
          ]
         ]
        }
       ],
       "layout": {
        "font": {
         "color": "#FFF"
        },
        "height": 300,
        "paper_bgcolor": "#000",
        "plot_bgcolor": "#000",
        "title": "4 Blobs:Confidence after 3200 Iters",
        "titlefont": {
         "color": "#FFF"
        },
        "width": 300,
        "xaxis": {
         "dtick": 1,
         "range": [
          -0.5,
          5.5
         ],
         "tickcolor": "#FFF",
         "title": "Glimpses"
        },
        "yaxis": {
         "dtick": 1,
         "range": [
          -0.5,
          5.5
         ],
         "tickcolor": "#FFF",
         "title": "Count Word"
        }
       }
      },
      "text/html": [
       "<div id=\"520f2c5f-481b-4066-a17a-e35baf8ef57b\" style=\"height: 300px; width: 300px;\" class=\"plotly-graph-div\"></div><script type=\"text/javascript\">require([\"plotly\"], function(Plotly) { window.PLOTLYENV=window.PLOTLYENV || {};window.PLOTLYENV.BASE_URL=\"https://plot.ly\";Plotly.newPlot(\"520f2c5f-481b-4066-a17a-e35baf8ef57b\", [{\"colorscale\": \"Jet\", \"z\": [[0.007814775446012596, 0.6630945542962751, 0.8294508013011513, 0.7889840810877289, 0.6862115197207147, 0.613858292013935], [0.9706229133245107, 0.0019844865848206153, 3.0823683524001476e-06, 4.6216510798431036e-07, 1.5463072950797855e-07, 7.78824514177067e-08], [0.015696918632571416, 0.22504711975894728, 0.010060234124493276, 0.001689197929986573, 0.001281354027558407, 0.0010126674315728565], [0.002254867158409759, 0.08200633253626277, 0.10813835390075191, 0.10886076441311339, 0.14756119719724659, 0.16422855170783604], [0.0017127052143561846, 0.015506982006576136, 0.0337883035726283, 0.06571688102903153, 0.10477248162688221, 0.14034185387443254], [0.00189728662884365, 0.01236000735376087, 0.01855871032224308, 0.03474809165138197, 0.06017273369883391, 0.08055802194572327]], \"type\": \"heatmap\"}], {\"plot_bgcolor\": \"#000\", \"paper_bgcolor\": \"#000\", \"width\": 300, \"title\": \"4 Blobs:Confidence after 3200 Iters\", \"yaxis\": {\"title\": \"Count Word\", \"tickcolor\": \"#FFF\", \"range\": [-0.5, 5.5], \"dtick\": 1}, \"height\": 300, \"titlefont\": {\"color\": \"#FFF\"}, \"xaxis\": {\"title\": \"Glimpses\", \"tickcolor\": \"#FFF\", \"range\": [-0.5, 5.5], \"dtick\": 1}, \"font\": {\"color\": \"#FFF\"}}, {\"linkText\": \"Export to plot.ly\", \"showLink\": true})});</script>"
      ],
      "text/vnd.plotly.v1+html": [
       "<div id=\"520f2c5f-481b-4066-a17a-e35baf8ef57b\" style=\"height: 300px; width: 300px;\" class=\"plotly-graph-div\"></div><script type=\"text/javascript\">require([\"plotly\"], function(Plotly) { window.PLOTLYENV=window.PLOTLYENV || {};window.PLOTLYENV.BASE_URL=\"https://plot.ly\";Plotly.newPlot(\"520f2c5f-481b-4066-a17a-e35baf8ef57b\", [{\"colorscale\": \"Jet\", \"z\": [[0.007814775446012596, 0.6630945542962751, 0.8294508013011513, 0.7889840810877289, 0.6862115197207147, 0.613858292013935], [0.9706229133245107, 0.0019844865848206153, 3.0823683524001476e-06, 4.6216510798431036e-07, 1.5463072950797855e-07, 7.78824514177067e-08], [0.015696918632571416, 0.22504711975894728, 0.010060234124493276, 0.001689197929986573, 0.001281354027558407, 0.0010126674315728565], [0.002254867158409759, 0.08200633253626277, 0.10813835390075191, 0.10886076441311339, 0.14756119719724659, 0.16422855170783604], [0.0017127052143561846, 0.015506982006576136, 0.0337883035726283, 0.06571688102903153, 0.10477248162688221, 0.14034185387443254], [0.00189728662884365, 0.01236000735376087, 0.01855871032224308, 0.03474809165138197, 0.06017273369883391, 0.08055802194572327]], \"type\": \"heatmap\"}], {\"plot_bgcolor\": \"#000\", \"paper_bgcolor\": \"#000\", \"width\": 300, \"title\": \"4 Blobs:Confidence after 3200 Iters\", \"yaxis\": {\"title\": \"Count Word\", \"tickcolor\": \"#FFF\", \"range\": [-0.5, 5.5], \"dtick\": 1}, \"height\": 300, \"titlefont\": {\"color\": \"#FFF\"}, \"xaxis\": {\"title\": \"Glimpses\", \"tickcolor\": \"#FFF\", \"range\": [-0.5, 5.5], \"dtick\": 1}, \"font\": {\"color\": \"#FFF\"}}, {\"linkText\": \"Export to plot.ly\", \"showLink\": true})});</script>"
      ]
     },
     "metadata": {},
     "output_type": "display_data"
    },
    {
     "data": {
      "application/vnd.plotly.v1+json": {
       "data": [
        {
         "colorscale": "Jet",
         "type": "heatmap",
         "z": [
          [
           0.00031964197576141076,
           0.5289706929223814,
           0.797938186312279,
           0.7107845894996349,
           0.5597309472940265,
           0.45015759907986896
          ],
          [
           0.995147138959214,
           0.00524830808818671,
           5.606046946194828e-06,
           2.3069849757488073e-07,
           3.465285553365813e-08,
           1.8933969229027263e-08
          ],
          [
           0.004268974917346186,
           0.4064521546360674,
           0.03749652760058411,
           0.0005861554339914094,
           0.00018646376801412722,
           0.00012322560929169856
          ],
          [
           0.00016313261523182186,
           0.04212958445479308,
           0.062040480917571514,
           0.03178370179259687,
           0.02586009131415672,
           0.023429371483113585
          ],
          [
           5.021752007690009e-05,
           0.013867460166769114,
           0.0871723665852957,
           0.21290439860692373,
           0.32925620827071295,
           0.4065579765763584
          ],
          [
           5.039521797237824e-05,
           0.0033313298574121682,
           0.015346356433339068,
           0.04394043209930895,
           0.08496576024624967,
           0.11973132912044612
          ]
         ]
        }
       ],
       "layout": {
        "font": {
         "color": "#FFF"
        },
        "height": 300,
        "paper_bgcolor": "#000",
        "plot_bgcolor": "#000",
        "title": "4 Blobs:Confidence after 4800 Iters",
        "titlefont": {
         "color": "#FFF"
        },
        "width": 300,
        "xaxis": {
         "dtick": 1,
         "range": [
          -0.5,
          5.5
         ],
         "tickcolor": "#FFF",
         "title": "Glimpses"
        },
        "yaxis": {
         "dtick": 1,
         "range": [
          -0.5,
          5.5
         ],
         "tickcolor": "#FFF",
         "title": "Count Word"
        }
       }
      },
      "text/html": [
       "<div id=\"f0c77feb-cfab-4019-ab3f-32ecc03bfa19\" style=\"height: 300px; width: 300px;\" class=\"plotly-graph-div\"></div><script type=\"text/javascript\">require([\"plotly\"], function(Plotly) { window.PLOTLYENV=window.PLOTLYENV || {};window.PLOTLYENV.BASE_URL=\"https://plot.ly\";Plotly.newPlot(\"f0c77feb-cfab-4019-ab3f-32ecc03bfa19\", [{\"colorscale\": \"Jet\", \"z\": [[0.00031964197576141076, 0.5289706929223814, 0.797938186312279, 0.7107845894996349, 0.5597309472940265, 0.45015759907986896], [0.995147138959214, 0.00524830808818671, 5.606046946194828e-06, 2.3069849757488073e-07, 3.465285553365813e-08, 1.8933969229027263e-08], [0.004268974917346186, 0.4064521546360674, 0.03749652760058411, 0.0005861554339914094, 0.00018646376801412722, 0.00012322560929169856], [0.00016313261523182186, 0.04212958445479308, 0.062040480917571514, 0.03178370179259687, 0.02586009131415672, 0.023429371483113585], [5.021752007690009e-05, 0.013867460166769114, 0.0871723665852957, 0.21290439860692373, 0.32925620827071295, 0.4065579765763584], [5.039521797237824e-05, 0.0033313298574121682, 0.015346356433339068, 0.04394043209930895, 0.08496576024624967, 0.11973132912044612]], \"type\": \"heatmap\"}], {\"plot_bgcolor\": \"#000\", \"paper_bgcolor\": \"#000\", \"width\": 300, \"title\": \"4 Blobs:Confidence after 4800 Iters\", \"yaxis\": {\"title\": \"Count Word\", \"tickcolor\": \"#FFF\", \"range\": [-0.5, 5.5], \"dtick\": 1}, \"height\": 300, \"titlefont\": {\"color\": \"#FFF\"}, \"xaxis\": {\"title\": \"Glimpses\", \"tickcolor\": \"#FFF\", \"range\": [-0.5, 5.5], \"dtick\": 1}, \"font\": {\"color\": \"#FFF\"}}, {\"linkText\": \"Export to plot.ly\", \"showLink\": true})});</script>"
      ],
      "text/vnd.plotly.v1+html": [
       "<div id=\"f0c77feb-cfab-4019-ab3f-32ecc03bfa19\" style=\"height: 300px; width: 300px;\" class=\"plotly-graph-div\"></div><script type=\"text/javascript\">require([\"plotly\"], function(Plotly) { window.PLOTLYENV=window.PLOTLYENV || {};window.PLOTLYENV.BASE_URL=\"https://plot.ly\";Plotly.newPlot(\"f0c77feb-cfab-4019-ab3f-32ecc03bfa19\", [{\"colorscale\": \"Jet\", \"z\": [[0.00031964197576141076, 0.5289706929223814, 0.797938186312279, 0.7107845894996349, 0.5597309472940265, 0.45015759907986896], [0.995147138959214, 0.00524830808818671, 5.606046946194828e-06, 2.3069849757488073e-07, 3.465285553365813e-08, 1.8933969229027263e-08], [0.004268974917346186, 0.4064521546360674, 0.03749652760058411, 0.0005861554339914094, 0.00018646376801412722, 0.00012322560929169856], [0.00016313261523182186, 0.04212958445479308, 0.062040480917571514, 0.03178370179259687, 0.02586009131415672, 0.023429371483113585], [5.021752007690009e-05, 0.013867460166769114, 0.0871723665852957, 0.21290439860692373, 0.32925620827071295, 0.4065579765763584], [5.039521797237824e-05, 0.0033313298574121682, 0.015346356433339068, 0.04394043209930895, 0.08496576024624967, 0.11973132912044612]], \"type\": \"heatmap\"}], {\"plot_bgcolor\": \"#000\", \"paper_bgcolor\": \"#000\", \"width\": 300, \"title\": \"4 Blobs:Confidence after 4800 Iters\", \"yaxis\": {\"title\": \"Count Word\", \"tickcolor\": \"#FFF\", \"range\": [-0.5, 5.5], \"dtick\": 1}, \"height\": 300, \"titlefont\": {\"color\": \"#FFF\"}, \"xaxis\": {\"title\": \"Glimpses\", \"tickcolor\": \"#FFF\", \"range\": [-0.5, 5.5], \"dtick\": 1}, \"font\": {\"color\": \"#FFF\"}}, {\"linkText\": \"Export to plot.ly\", \"showLink\": true})});</script>"
      ]
     },
     "metadata": {},
     "output_type": "display_data"
    },
    {
     "data": {
      "application/vnd.plotly.v1+json": {
       "data": [
        {
         "colorscale": "Jet",
         "type": "heatmap",
         "z": [
          [
           9.313200382637142e-05,
           0.2015891635501081,
           0.7213541957618611,
           0.6428103638973712,
           0.5032696744999277,
           0.4406077622558326
          ],
          [
           0.9977795802070373,
           0.0011838183236125065,
           1.1358215441396198e-06,
           5.145124230612812e-08,
           1.7521330565725994e-08,
           1.0299969740038011e-08
          ],
          [
           0.0020732908844778223,
           0.7804366929994906,
           0.049101476224425344,
           0.0016495847106980533,
           0.0004662078132463923,
           0.0002517607326729757
          ],
          [
           3.2997538692610826e-05,
           0.015141858044984823,
           0.16276138534087992,
           0.08884762239211232,
           0.05120735674661082,
           0.0354597671687166
          ],
          [
           1.0960936711980271e-05,
           0.0012758574041413049,
           0.05099376479970639,
           0.165476040403274,
           0.21878630963619147,
           0.22140766625835595
          ],
          [
           9.439023683446354e-06,
           0.0003719830593810803,
           0.01578743083424355,
           0.10121574935061897,
           0.22626982829802544,
           0.30227242517136904
          ]
         ]
        }
       ],
       "layout": {
        "font": {
         "color": "#FFF"
        },
        "height": 300,
        "paper_bgcolor": "#000",
        "plot_bgcolor": "#000",
        "title": "4 Blobs:Confidence after 6400 Iters",
        "titlefont": {
         "color": "#FFF"
        },
        "width": 300,
        "xaxis": {
         "dtick": 1,
         "range": [
          -0.5,
          5.5
         ],
         "tickcolor": "#FFF",
         "title": "Glimpses"
        },
        "yaxis": {
         "dtick": 1,
         "range": [
          -0.5,
          5.5
         ],
         "tickcolor": "#FFF",
         "title": "Count Word"
        }
       }
      },
      "text/html": [
       "<div id=\"2214eeaf-2207-4111-8c57-8a3f2a611020\" style=\"height: 300px; width: 300px;\" class=\"plotly-graph-div\"></div><script type=\"text/javascript\">require([\"plotly\"], function(Plotly) { window.PLOTLYENV=window.PLOTLYENV || {};window.PLOTLYENV.BASE_URL=\"https://plot.ly\";Plotly.newPlot(\"2214eeaf-2207-4111-8c57-8a3f2a611020\", [{\"colorscale\": \"Jet\", \"z\": [[9.313200382637142e-05, 0.2015891635501081, 0.7213541957618611, 0.6428103638973712, 0.5032696744999277, 0.4406077622558326], [0.9977795802070373, 0.0011838183236125065, 1.1358215441396198e-06, 5.145124230612812e-08, 1.7521330565725994e-08, 1.0299969740038011e-08], [0.0020732908844778223, 0.7804366929994906, 0.049101476224425344, 0.0016495847106980533, 0.0004662078132463923, 0.0002517607326729757], [3.2997538692610826e-05, 0.015141858044984823, 0.16276138534087992, 0.08884762239211232, 0.05120735674661082, 0.0354597671687166], [1.0960936711980271e-05, 0.0012758574041413049, 0.05099376479970639, 0.165476040403274, 0.21878630963619147, 0.22140766625835595], [9.439023683446354e-06, 0.0003719830593810803, 0.01578743083424355, 0.10121574935061897, 0.22626982829802544, 0.30227242517136904]], \"type\": \"heatmap\"}], {\"plot_bgcolor\": \"#000\", \"paper_bgcolor\": \"#000\", \"width\": 300, \"title\": \"4 Blobs:Confidence after 6400 Iters\", \"yaxis\": {\"title\": \"Count Word\", \"tickcolor\": \"#FFF\", \"range\": [-0.5, 5.5], \"dtick\": 1}, \"height\": 300, \"titlefont\": {\"color\": \"#FFF\"}, \"xaxis\": {\"title\": \"Glimpses\", \"tickcolor\": \"#FFF\", \"range\": [-0.5, 5.5], \"dtick\": 1}, \"font\": {\"color\": \"#FFF\"}}, {\"linkText\": \"Export to plot.ly\", \"showLink\": true})});</script>"
      ],
      "text/vnd.plotly.v1+html": [
       "<div id=\"2214eeaf-2207-4111-8c57-8a3f2a611020\" style=\"height: 300px; width: 300px;\" class=\"plotly-graph-div\"></div><script type=\"text/javascript\">require([\"plotly\"], function(Plotly) { window.PLOTLYENV=window.PLOTLYENV || {};window.PLOTLYENV.BASE_URL=\"https://plot.ly\";Plotly.newPlot(\"2214eeaf-2207-4111-8c57-8a3f2a611020\", [{\"colorscale\": \"Jet\", \"z\": [[9.313200382637142e-05, 0.2015891635501081, 0.7213541957618611, 0.6428103638973712, 0.5032696744999277, 0.4406077622558326], [0.9977795802070373, 0.0011838183236125065, 1.1358215441396198e-06, 5.145124230612812e-08, 1.7521330565725994e-08, 1.0299969740038011e-08], [0.0020732908844778223, 0.7804366929994906, 0.049101476224425344, 0.0016495847106980533, 0.0004662078132463923, 0.0002517607326729757], [3.2997538692610826e-05, 0.015141858044984823, 0.16276138534087992, 0.08884762239211232, 0.05120735674661082, 0.0354597671687166], [1.0960936711980271e-05, 0.0012758574041413049, 0.05099376479970639, 0.165476040403274, 0.21878630963619147, 0.22140766625835595], [9.439023683446354e-06, 0.0003719830593810803, 0.01578743083424355, 0.10121574935061897, 0.22626982829802544, 0.30227242517136904]], \"type\": \"heatmap\"}], {\"plot_bgcolor\": \"#000\", \"paper_bgcolor\": \"#000\", \"width\": 300, \"title\": \"4 Blobs:Confidence after 6400 Iters\", \"yaxis\": {\"title\": \"Count Word\", \"tickcolor\": \"#FFF\", \"range\": [-0.5, 5.5], \"dtick\": 1}, \"height\": 300, \"titlefont\": {\"color\": \"#FFF\"}, \"xaxis\": {\"title\": \"Glimpses\", \"tickcolor\": \"#FFF\", \"range\": [-0.5, 5.5], \"dtick\": 1}, \"font\": {\"color\": \"#FFF\"}}, {\"linkText\": \"Export to plot.ly\", \"showLink\": true})});</script>"
      ]
     },
     "metadata": {},
     "output_type": "display_data"
    },
    {
     "data": {
      "application/vnd.plotly.v1+json": {
       "data": [
        {
         "colorscale": "Jet",
         "type": "heatmap",
         "z": [
          [
           2.2735597695424487e-05,
           0.9129142615318384,
           0.7472249186616133,
           0.5675941715293066,
           0.4535754179346997,
           0.40040481729794575
          ],
          [
           0.9999013166020769,
           0.0006330118733711193,
           6.550520256296729e-07,
           9.873486688861745e-08,
           3.933213415928022e-08,
           2.716562327465097e-08
          ],
          [
           7.438035584363788e-05,
           0.070815559456,
           0.001611695265756474,
           0.0001596364050558304,
           4.7468665588172387e-05,
           2.488622652318424e-05
          ],
          [
           3.6291355520518943e-07,
           0.014189511326157119,
           0.21724114147349124,
           0.17127778912065786,
           0.06051802011714629,
           0.03353479033023397
          ],
          [
           2.4633540000027545e-07,
           0.0011516263891726843,
           0.029543373776514278,
           0.20046327698876934,
           0.29552524026384114,
           0.288169926240546
          ],
          [
           4.012045001497678e-07,
           0.0002954163800796698,
           0.004377626663051525,
           0.060504429389593155,
           0.19033320008792562,
           0.2778649781801856
          ]
         ]
        }
       ],
       "layout": {
        "font": {
         "color": "#FFF"
        },
        "height": 300,
        "paper_bgcolor": "#000",
        "plot_bgcolor": "#000",
        "title": "4 Blobs:Confidence after 9600 Iters",
        "titlefont": {
         "color": "#FFF"
        },
        "width": 300,
        "xaxis": {
         "dtick": 1,
         "range": [
          -0.5,
          5.5
         ],
         "tickcolor": "#FFF",
         "title": "Glimpses"
        },
        "yaxis": {
         "dtick": 1,
         "range": [
          -0.5,
          5.5
         ],
         "tickcolor": "#FFF",
         "title": "Count Word"
        }
       }
      },
      "text/html": [
       "<div id=\"3886940e-9a8b-4a46-9885-14aeb67eb564\" style=\"height: 300px; width: 300px;\" class=\"plotly-graph-div\"></div><script type=\"text/javascript\">require([\"plotly\"], function(Plotly) { window.PLOTLYENV=window.PLOTLYENV || {};window.PLOTLYENV.BASE_URL=\"https://plot.ly\";Plotly.newPlot(\"3886940e-9a8b-4a46-9885-14aeb67eb564\", [{\"colorscale\": \"Jet\", \"z\": [[2.2735597695424487e-05, 0.9129142615318384, 0.7472249186616133, 0.5675941715293066, 0.4535754179346997, 0.40040481729794575], [0.9999013166020769, 0.0006330118733711193, 6.550520256296729e-07, 9.873486688861745e-08, 3.933213415928022e-08, 2.716562327465097e-08], [7.438035584363788e-05, 0.070815559456, 0.001611695265756474, 0.0001596364050558304, 4.7468665588172387e-05, 2.488622652318424e-05], [3.6291355520518943e-07, 0.014189511326157119, 0.21724114147349124, 0.17127778912065786, 0.06051802011714629, 0.03353479033023397], [2.4633540000027545e-07, 0.0011516263891726843, 0.029543373776514278, 0.20046327698876934, 0.29552524026384114, 0.288169926240546], [4.012045001497678e-07, 0.0002954163800796698, 0.004377626663051525, 0.060504429389593155, 0.19033320008792562, 0.2778649781801856]], \"type\": \"heatmap\"}], {\"plot_bgcolor\": \"#000\", \"paper_bgcolor\": \"#000\", \"width\": 300, \"title\": \"4 Blobs:Confidence after 9600 Iters\", \"yaxis\": {\"title\": \"Count Word\", \"tickcolor\": \"#FFF\", \"range\": [-0.5, 5.5], \"dtick\": 1}, \"height\": 300, \"titlefont\": {\"color\": \"#FFF\"}, \"xaxis\": {\"title\": \"Glimpses\", \"tickcolor\": \"#FFF\", \"range\": [-0.5, 5.5], \"dtick\": 1}, \"font\": {\"color\": \"#FFF\"}}, {\"linkText\": \"Export to plot.ly\", \"showLink\": true})});</script>"
      ],
      "text/vnd.plotly.v1+html": [
       "<div id=\"3886940e-9a8b-4a46-9885-14aeb67eb564\" style=\"height: 300px; width: 300px;\" class=\"plotly-graph-div\"></div><script type=\"text/javascript\">require([\"plotly\"], function(Plotly) { window.PLOTLYENV=window.PLOTLYENV || {};window.PLOTLYENV.BASE_URL=\"https://plot.ly\";Plotly.newPlot(\"3886940e-9a8b-4a46-9885-14aeb67eb564\", [{\"colorscale\": \"Jet\", \"z\": [[2.2735597695424487e-05, 0.9129142615318384, 0.7472249186616133, 0.5675941715293066, 0.4535754179346997, 0.40040481729794575], [0.9999013166020769, 0.0006330118733711193, 6.550520256296729e-07, 9.873486688861745e-08, 3.933213415928022e-08, 2.716562327465097e-08], [7.438035584363788e-05, 0.070815559456, 0.001611695265756474, 0.0001596364050558304, 4.7468665588172387e-05, 2.488622652318424e-05], [3.6291355520518943e-07, 0.014189511326157119, 0.21724114147349124, 0.17127778912065786, 0.06051802011714629, 0.03353479033023397], [2.4633540000027545e-07, 0.0011516263891726843, 0.029543373776514278, 0.20046327698876934, 0.29552524026384114, 0.288169926240546], [4.012045001497678e-07, 0.0002954163800796698, 0.004377626663051525, 0.060504429389593155, 0.19033320008792562, 0.2778649781801856]], \"type\": \"heatmap\"}], {\"plot_bgcolor\": \"#000\", \"paper_bgcolor\": \"#000\", \"width\": 300, \"title\": \"4 Blobs:Confidence after 9600 Iters\", \"yaxis\": {\"title\": \"Count Word\", \"tickcolor\": \"#FFF\", \"range\": [-0.5, 5.5], \"dtick\": 1}, \"height\": 300, \"titlefont\": {\"color\": \"#FFF\"}, \"xaxis\": {\"title\": \"Glimpses\", \"tickcolor\": \"#FFF\", \"range\": [-0.5, 5.5], \"dtick\": 1}, \"font\": {\"color\": \"#FFF\"}}, {\"linkText\": \"Export to plot.ly\", \"showLink\": true})});</script>"
      ]
     },
     "metadata": {},
     "output_type": "display_data"
    },
    {
     "data": {
      "application/vnd.plotly.v1+json": {
       "data": [
        {
         "colorscale": "Jet",
         "type": "heatmap",
         "z": [
          [
           2.2247543087584702e-05,
           0.4756832533972904,
           0.737725598688381,
           0.7758051947789558,
           0.7173267395609207,
           0.6564751015647109
          ],
          [
           0.999275744828954,
           0.0005254228051745774,
           2.2009862437462034e-06,
           1.4832675037802336e-06,
           2.163423652150428e-07,
           1.9219746372382125e-07
          ],
          [
           0.0006998473752104145,
           0.5196391716373184,
           0.008159307792670236,
           0.00011285138586215796,
           2.665635819351042e-05,
           1.678608549336173e-05
          ],
          [
           5.988657722082024e-07,
           0.003828010867079964,
           0.2352984768028776,
           0.044703604624323406,
           0.009549032410453276,
           0.0052031812134380115
          ],
          [
           3.050783931081031e-07,
           0.00020996477794835196,
           0.01656741573664391,
           0.13501698532553696,
           0.11736175401748475,
           0.09666205593769274
          ],
          [
           8.144755109544444e-07,
           0.00011376411942005988,
           0.002246612624815534,
           0.0443594889150162,
           0.1557351880010742,
           0.24164225492417055
          ]
         ]
        }
       ],
       "layout": {
        "font": {
         "color": "#FFF"
        },
        "height": 300,
        "paper_bgcolor": "#000",
        "plot_bgcolor": "#000",
        "title": "4 Blobs:Confidence after 12800 Iters",
        "titlefont": {
         "color": "#FFF"
        },
        "width": 300,
        "xaxis": {
         "dtick": 1,
         "range": [
          -0.5,
          5.5
         ],
         "tickcolor": "#FFF",
         "title": "Glimpses"
        },
        "yaxis": {
         "dtick": 1,
         "range": [
          -0.5,
          5.5
         ],
         "tickcolor": "#FFF",
         "title": "Count Word"
        }
       }
      },
      "text/html": [
       "<div id=\"f5db0cbf-5ab4-4974-acfc-4cc0f5ade5fc\" style=\"height: 300px; width: 300px;\" class=\"plotly-graph-div\"></div><script type=\"text/javascript\">require([\"plotly\"], function(Plotly) { window.PLOTLYENV=window.PLOTLYENV || {};window.PLOTLYENV.BASE_URL=\"https://plot.ly\";Plotly.newPlot(\"f5db0cbf-5ab4-4974-acfc-4cc0f5ade5fc\", [{\"colorscale\": \"Jet\", \"z\": [[2.2247543087584702e-05, 0.4756832533972904, 0.737725598688381, 0.7758051947789558, 0.7173267395609207, 0.6564751015647109], [0.999275744828954, 0.0005254228051745774, 2.2009862437462034e-06, 1.4832675037802336e-06, 2.163423652150428e-07, 1.9219746372382125e-07], [0.0006998473752104145, 0.5196391716373184, 0.008159307792670236, 0.00011285138586215796, 2.665635819351042e-05, 1.678608549336173e-05], [5.988657722082024e-07, 0.003828010867079964, 0.2352984768028776, 0.044703604624323406, 0.009549032410453276, 0.0052031812134380115], [3.050783931081031e-07, 0.00020996477794835196, 0.01656741573664391, 0.13501698532553696, 0.11736175401748475, 0.09666205593769274], [8.144755109544444e-07, 0.00011376411942005988, 0.002246612624815534, 0.0443594889150162, 0.1557351880010742, 0.24164225492417055]], \"type\": \"heatmap\"}], {\"plot_bgcolor\": \"#000\", \"paper_bgcolor\": \"#000\", \"width\": 300, \"title\": \"4 Blobs:Confidence after 12800 Iters\", \"yaxis\": {\"title\": \"Count Word\", \"tickcolor\": \"#FFF\", \"range\": [-0.5, 5.5], \"dtick\": 1}, \"height\": 300, \"titlefont\": {\"color\": \"#FFF\"}, \"xaxis\": {\"title\": \"Glimpses\", \"tickcolor\": \"#FFF\", \"range\": [-0.5, 5.5], \"dtick\": 1}, \"font\": {\"color\": \"#FFF\"}}, {\"linkText\": \"Export to plot.ly\", \"showLink\": true})});</script>"
      ],
      "text/vnd.plotly.v1+html": [
       "<div id=\"f5db0cbf-5ab4-4974-acfc-4cc0f5ade5fc\" style=\"height: 300px; width: 300px;\" class=\"plotly-graph-div\"></div><script type=\"text/javascript\">require([\"plotly\"], function(Plotly) { window.PLOTLYENV=window.PLOTLYENV || {};window.PLOTLYENV.BASE_URL=\"https://plot.ly\";Plotly.newPlot(\"f5db0cbf-5ab4-4974-acfc-4cc0f5ade5fc\", [{\"colorscale\": \"Jet\", \"z\": [[2.2247543087584702e-05, 0.4756832533972904, 0.737725598688381, 0.7758051947789558, 0.7173267395609207, 0.6564751015647109], [0.999275744828954, 0.0005254228051745774, 2.2009862437462034e-06, 1.4832675037802336e-06, 2.163423652150428e-07, 1.9219746372382125e-07], [0.0006998473752104145, 0.5196391716373184, 0.008159307792670236, 0.00011285138586215796, 2.665635819351042e-05, 1.678608549336173e-05], [5.988657722082024e-07, 0.003828010867079964, 0.2352984768028776, 0.044703604624323406, 0.009549032410453276, 0.0052031812134380115], [3.050783931081031e-07, 0.00020996477794835196, 0.01656741573664391, 0.13501698532553696, 0.11736175401748475, 0.09666205593769274], [8.144755109544444e-07, 0.00011376411942005988, 0.002246612624815534, 0.0443594889150162, 0.1557351880010742, 0.24164225492417055]], \"type\": \"heatmap\"}], {\"plot_bgcolor\": \"#000\", \"paper_bgcolor\": \"#000\", \"width\": 300, \"title\": \"4 Blobs:Confidence after 12800 Iters\", \"yaxis\": {\"title\": \"Count Word\", \"tickcolor\": \"#FFF\", \"range\": [-0.5, 5.5], \"dtick\": 1}, \"height\": 300, \"titlefont\": {\"color\": \"#FFF\"}, \"xaxis\": {\"title\": \"Glimpses\", \"tickcolor\": \"#FFF\", \"range\": [-0.5, 5.5], \"dtick\": 1}, \"font\": {\"color\": \"#FFF\"}}, {\"linkText\": \"Export to plot.ly\", \"showLink\": true})});</script>"
      ]
     },
     "metadata": {},
     "output_type": "display_data"
    },
    {
     "data": {
      "application/vnd.plotly.v1+json": {
       "data": [
        {
         "colorscale": "Jet",
         "type": "heatmap",
         "z": [
          [
           2.9530191754282604e-06,
           0.5459556159761981,
           0.8671356204121906,
           0.7085722936225329,
           0.6155640302238192,
           0.6321634450072382
          ],
          [
           0.9999457231088136,
           0.001249666849807063,
           1.1206770858824723e-06,
           1.4483096860134157e-06,
           7.615697390009157e-06,
           7.578591499566499e-06
          ],
          [
           5.0791744571705996e-05,
           0.4523607640803978,
           0.003984196591291614,
           9.573897765217257e-06,
           1.2858265785927285e-05,
           2.6120480367894785e-05
          ],
          [
           1.013992896674029e-08,
           0.00037609917401921583,
           0.11858863179229517,
           0.001667018931544173,
           0.00023390714144639566,
           0.0001927907530232935
          ],
          [
           1.6408855286206416e-08,
           3.006466970126897e-05,
           0.009767244397760052,
           0.2589242750088749,
           0.07925267754397566,
           0.03353835738902872
          ],
          [
           1.0977904539106854e-07,
           2.737571579842932e-05,
           0.0005227789568677426,
           0.030824977691879897,
           0.3049284957758775,
           0.3340712871455614
          ]
         ]
        }
       ],
       "layout": {
        "font": {
         "color": "#FFF"
        },
        "height": 300,
        "paper_bgcolor": "#000",
        "plot_bgcolor": "#000",
        "title": "4 Blobs:Confidence after 19200 Iters",
        "titlefont": {
         "color": "#FFF"
        },
        "width": 300,
        "xaxis": {
         "dtick": 1,
         "range": [
          -0.5,
          5.5
         ],
         "tickcolor": "#FFF",
         "title": "Glimpses"
        },
        "yaxis": {
         "dtick": 1,
         "range": [
          -0.5,
          5.5
         ],
         "tickcolor": "#FFF",
         "title": "Count Word"
        }
       }
      },
      "text/html": [
       "<div id=\"7173758b-73ab-42b0-852f-0c049b43c3c3\" style=\"height: 300px; width: 300px;\" class=\"plotly-graph-div\"></div><script type=\"text/javascript\">require([\"plotly\"], function(Plotly) { window.PLOTLYENV=window.PLOTLYENV || {};window.PLOTLYENV.BASE_URL=\"https://plot.ly\";Plotly.newPlot(\"7173758b-73ab-42b0-852f-0c049b43c3c3\", [{\"colorscale\": \"Jet\", \"z\": [[2.9530191754282604e-06, 0.5459556159761981, 0.8671356204121906, 0.7085722936225329, 0.6155640302238192, 0.6321634450072382], [0.9999457231088136, 0.001249666849807063, 1.1206770858824723e-06, 1.4483096860134157e-06, 7.615697390009157e-06, 7.578591499566499e-06], [5.0791744571705996e-05, 0.4523607640803978, 0.003984196591291614, 9.573897765217257e-06, 1.2858265785927285e-05, 2.6120480367894785e-05], [1.013992896674029e-08, 0.00037609917401921583, 0.11858863179229517, 0.001667018931544173, 0.00023390714144639566, 0.0001927907530232935], [1.6408855286206416e-08, 3.006466970126897e-05, 0.009767244397760052, 0.2589242750088749, 0.07925267754397566, 0.03353835738902872], [1.0977904539106854e-07, 2.737571579842932e-05, 0.0005227789568677426, 0.030824977691879897, 0.3049284957758775, 0.3340712871455614]], \"type\": \"heatmap\"}], {\"plot_bgcolor\": \"#000\", \"paper_bgcolor\": \"#000\", \"width\": 300, \"title\": \"4 Blobs:Confidence after 19200 Iters\", \"yaxis\": {\"title\": \"Count Word\", \"tickcolor\": \"#FFF\", \"range\": [-0.5, 5.5], \"dtick\": 1}, \"height\": 300, \"titlefont\": {\"color\": \"#FFF\"}, \"xaxis\": {\"title\": \"Glimpses\", \"tickcolor\": \"#FFF\", \"range\": [-0.5, 5.5], \"dtick\": 1}, \"font\": {\"color\": \"#FFF\"}}, {\"linkText\": \"Export to plot.ly\", \"showLink\": true})});</script>"
      ],
      "text/vnd.plotly.v1+html": [
       "<div id=\"7173758b-73ab-42b0-852f-0c049b43c3c3\" style=\"height: 300px; width: 300px;\" class=\"plotly-graph-div\"></div><script type=\"text/javascript\">require([\"plotly\"], function(Plotly) { window.PLOTLYENV=window.PLOTLYENV || {};window.PLOTLYENV.BASE_URL=\"https://plot.ly\";Plotly.newPlot(\"7173758b-73ab-42b0-852f-0c049b43c3c3\", [{\"colorscale\": \"Jet\", \"z\": [[2.9530191754282604e-06, 0.5459556159761981, 0.8671356204121906, 0.7085722936225329, 0.6155640302238192, 0.6321634450072382], [0.9999457231088136, 0.001249666849807063, 1.1206770858824723e-06, 1.4483096860134157e-06, 7.615697390009157e-06, 7.578591499566499e-06], [5.0791744571705996e-05, 0.4523607640803978, 0.003984196591291614, 9.573897765217257e-06, 1.2858265785927285e-05, 2.6120480367894785e-05], [1.013992896674029e-08, 0.00037609917401921583, 0.11858863179229517, 0.001667018931544173, 0.00023390714144639566, 0.0001927907530232935], [1.6408855286206416e-08, 3.006466970126897e-05, 0.009767244397760052, 0.2589242750088749, 0.07925267754397566, 0.03353835738902872], [1.0977904539106854e-07, 2.737571579842932e-05, 0.0005227789568677426, 0.030824977691879897, 0.3049284957758775, 0.3340712871455614]], \"type\": \"heatmap\"}], {\"plot_bgcolor\": \"#000\", \"paper_bgcolor\": \"#000\", \"width\": 300, \"title\": \"4 Blobs:Confidence after 19200 Iters\", \"yaxis\": {\"title\": \"Count Word\", \"tickcolor\": \"#FFF\", \"range\": [-0.5, 5.5], \"dtick\": 1}, \"height\": 300, \"titlefont\": {\"color\": \"#FFF\"}, \"xaxis\": {\"title\": \"Glimpses\", \"tickcolor\": \"#FFF\", \"range\": [-0.5, 5.5], \"dtick\": 1}, \"font\": {\"color\": \"#FFF\"}}, {\"linkText\": \"Export to plot.ly\", \"showLink\": true})});</script>"
      ]
     },
     "metadata": {},
     "output_type": "display_data"
    },
    {
     "data": {
      "application/vnd.plotly.v1+json": {
       "data": [
        {
         "colorscale": "Jet",
         "type": "heatmap",
         "z": [
          [
           1.8254398737121607e-05,
           0.5840738271090393,
           0.9384945662222489,
           0.9187453057173358,
           0.8880420118906305,
           0.8956916324135069
          ],
          [
           0.9999651945641023,
           0.0023008189981841305,
           0.0006104398102416807,
           0.00021990509553088052,
           0.0040822320521048784,
           0.0011777223359243168
          ],
          [
           1.525225494786734e-05,
           0.41338040090861,
           0.004062467635853681,
           1.4602937054133195e-05,
           1.4551184165522415e-05,
           8.948697737106516e-05
          ],
          [
           1.521481883438009e-08,
           0.00018326549375044973,
           0.054209390372554914,
           0.0006425038139966935,
           5.9878935672902105e-05,
           5.372173997435413e-05
          ],
          [
           1.1646752092080617e-07,
           3.501813666146134e-05,
           0.0022952877644931567,
           0.06846193525803125,
           0.013633610578147746,
           0.0027480036562965446
          ],
          [
           6.700648922770559e-07,
           2.6170147694252477e-05,
           0.0003273258959331412,
           0.011915227494259318,
           0.0941671837418137,
           0.10023893022177192
          ]
         ]
        }
       ],
       "layout": {
        "font": {
         "color": "#FFF"
        },
        "height": 300,
        "paper_bgcolor": "#000",
        "plot_bgcolor": "#000",
        "title": "4 Blobs:Confidence after 25600 Iters",
        "titlefont": {
         "color": "#FFF"
        },
        "width": 300,
        "xaxis": {
         "dtick": 1,
         "range": [
          -0.5,
          5.5
         ],
         "tickcolor": "#FFF",
         "title": "Glimpses"
        },
        "yaxis": {
         "dtick": 1,
         "range": [
          -0.5,
          5.5
         ],
         "tickcolor": "#FFF",
         "title": "Count Word"
        }
       }
      },
      "text/html": [
       "<div id=\"0809a73f-62f4-4e2b-996f-0ab9417d81e3\" style=\"height: 300px; width: 300px;\" class=\"plotly-graph-div\"></div><script type=\"text/javascript\">require([\"plotly\"], function(Plotly) { window.PLOTLYENV=window.PLOTLYENV || {};window.PLOTLYENV.BASE_URL=\"https://plot.ly\";Plotly.newPlot(\"0809a73f-62f4-4e2b-996f-0ab9417d81e3\", [{\"colorscale\": \"Jet\", \"z\": [[1.8254398737121607e-05, 0.5840738271090393, 0.9384945662222489, 0.9187453057173358, 0.8880420118906305, 0.8956916324135069], [0.9999651945641023, 0.0023008189981841305, 0.0006104398102416807, 0.00021990509553088052, 0.0040822320521048784, 0.0011777223359243168], [1.525225494786734e-05, 0.41338040090861, 0.004062467635853681, 1.4602937054133195e-05, 1.4551184165522415e-05, 8.948697737106516e-05], [1.521481883438009e-08, 0.00018326549375044973, 0.054209390372554914, 0.0006425038139966935, 5.9878935672902105e-05, 5.372173997435413e-05], [1.1646752092080617e-07, 3.501813666146134e-05, 0.0022952877644931567, 0.06846193525803125, 0.013633610578147746, 0.0027480036562965446], [6.700648922770559e-07, 2.6170147694252477e-05, 0.0003273258959331412, 0.011915227494259318, 0.0941671837418137, 0.10023893022177192]], \"type\": \"heatmap\"}], {\"plot_bgcolor\": \"#000\", \"paper_bgcolor\": \"#000\", \"width\": 300, \"title\": \"4 Blobs:Confidence after 25600 Iters\", \"yaxis\": {\"title\": \"Count Word\", \"tickcolor\": \"#FFF\", \"range\": [-0.5, 5.5], \"dtick\": 1}, \"height\": 300, \"titlefont\": {\"color\": \"#FFF\"}, \"xaxis\": {\"title\": \"Glimpses\", \"tickcolor\": \"#FFF\", \"range\": [-0.5, 5.5], \"dtick\": 1}, \"font\": {\"color\": \"#FFF\"}}, {\"linkText\": \"Export to plot.ly\", \"showLink\": true})});</script>"
      ],
      "text/vnd.plotly.v1+html": [
       "<div id=\"0809a73f-62f4-4e2b-996f-0ab9417d81e3\" style=\"height: 300px; width: 300px;\" class=\"plotly-graph-div\"></div><script type=\"text/javascript\">require([\"plotly\"], function(Plotly) { window.PLOTLYENV=window.PLOTLYENV || {};window.PLOTLYENV.BASE_URL=\"https://plot.ly\";Plotly.newPlot(\"0809a73f-62f4-4e2b-996f-0ab9417d81e3\", [{\"colorscale\": \"Jet\", \"z\": [[1.8254398737121607e-05, 0.5840738271090393, 0.9384945662222489, 0.9187453057173358, 0.8880420118906305, 0.8956916324135069], [0.9999651945641023, 0.0023008189981841305, 0.0006104398102416807, 0.00021990509553088052, 0.0040822320521048784, 0.0011777223359243168], [1.525225494786734e-05, 0.41338040090861, 0.004062467635853681, 1.4602937054133195e-05, 1.4551184165522415e-05, 8.948697737106516e-05], [1.521481883438009e-08, 0.00018326549375044973, 0.054209390372554914, 0.0006425038139966935, 5.9878935672902105e-05, 5.372173997435413e-05], [1.1646752092080617e-07, 3.501813666146134e-05, 0.0022952877644931567, 0.06846193525803125, 0.013633610578147746, 0.0027480036562965446], [6.700648922770559e-07, 2.6170147694252477e-05, 0.0003273258959331412, 0.011915227494259318, 0.0941671837418137, 0.10023893022177192]], \"type\": \"heatmap\"}], {\"plot_bgcolor\": \"#000\", \"paper_bgcolor\": \"#000\", \"width\": 300, \"title\": \"4 Blobs:Confidence after 25600 Iters\", \"yaxis\": {\"title\": \"Count Word\", \"tickcolor\": \"#FFF\", \"range\": [-0.5, 5.5], \"dtick\": 1}, \"height\": 300, \"titlefont\": {\"color\": \"#FFF\"}, \"xaxis\": {\"title\": \"Glimpses\", \"tickcolor\": \"#FFF\", \"range\": [-0.5, 5.5], \"dtick\": 1}, \"font\": {\"color\": \"#FFF\"}}, {\"linkText\": \"Export to plot.ly\", \"showLink\": true})});</script>"
      ]
     },
     "metadata": {},
     "output_type": "display_data"
    },
    {
     "data": {
      "application/vnd.plotly.v1+json": {
       "data": [
        {
         "colorscale": "Jet",
         "type": "heatmap",
         "z": [
          [
           2.0640507391119278e-06,
           0.5952878896316041,
           0.9778280232044072,
           0.888417492181754,
           0.7607773427236625,
           0.9042560291563789
          ],
          [
           0.9999817218157315,
           0.0008268038958834733,
           0.00010347064253402528,
           0.00041686243626482797,
           0.0056700832753440065,
           0.007052754001891029
          ],
          [
           1.5442797929367815e-05,
           0.4031822967852564,
           0.00033470034437000306,
           8.29321353763259e-06,
           3.9326951559647974e-05,
           0.0005936413526927444
          ],
          [
           7.572259056542271e-09,
           0.000651525156642384,
           0.01848587363632418,
           0.00029279237244713156,
           1.8894755868357992e-05,
           5.883724280229497e-05
          ],
          [
           2.4398982383493733e-08,
           2.2925972464338156e-05,
           0.003094634112363341,
           0.08897085052964458,
           0.007308836234130761,
           0.0010653014954067881
          ],
          [
           3.348097091192843e-07,
           2.8137173633279845e-05,
           0.00015287389939103757,
           0.02189329216771159,
           0.2261851011758348,
           0.08697301004370735
          ]
         ]
        }
       ],
       "layout": {
        "font": {
         "color": "#FFF"
        },
        "height": 300,
        "paper_bgcolor": "#000",
        "plot_bgcolor": "#000",
        "title": "4 Blobs:Confidence after 38400 Iters",
        "titlefont": {
         "color": "#FFF"
        },
        "width": 300,
        "xaxis": {
         "dtick": 1,
         "range": [
          -0.5,
          5.5
         ],
         "tickcolor": "#FFF",
         "title": "Glimpses"
        },
        "yaxis": {
         "dtick": 1,
         "range": [
          -0.5,
          5.5
         ],
         "tickcolor": "#FFF",
         "title": "Count Word"
        }
       }
      },
      "text/html": [
       "<div id=\"12ed824e-c173-4c90-898c-2d105d29985d\" style=\"height: 300px; width: 300px;\" class=\"plotly-graph-div\"></div><script type=\"text/javascript\">require([\"plotly\"], function(Plotly) { window.PLOTLYENV=window.PLOTLYENV || {};window.PLOTLYENV.BASE_URL=\"https://plot.ly\";Plotly.newPlot(\"12ed824e-c173-4c90-898c-2d105d29985d\", [{\"colorscale\": \"Jet\", \"z\": [[2.0640507391119278e-06, 0.5952878896316041, 0.9778280232044072, 0.888417492181754, 0.7607773427236625, 0.9042560291563789], [0.9999817218157315, 0.0008268038958834733, 0.00010347064253402528, 0.00041686243626482797, 0.0056700832753440065, 0.007052754001891029], [1.5442797929367815e-05, 0.4031822967852564, 0.00033470034437000306, 8.29321353763259e-06, 3.9326951559647974e-05, 0.0005936413526927444], [7.572259056542271e-09, 0.000651525156642384, 0.01848587363632418, 0.00029279237244713156, 1.8894755868357992e-05, 5.883724280229497e-05], [2.4398982383493733e-08, 2.2925972464338156e-05, 0.003094634112363341, 0.08897085052964458, 0.007308836234130761, 0.0010653014954067881], [3.348097091192843e-07, 2.8137173633279845e-05, 0.00015287389939103757, 0.02189329216771159, 0.2261851011758348, 0.08697301004370735]], \"type\": \"heatmap\"}], {\"plot_bgcolor\": \"#000\", \"paper_bgcolor\": \"#000\", \"width\": 300, \"title\": \"4 Blobs:Confidence after 38400 Iters\", \"yaxis\": {\"title\": \"Count Word\", \"tickcolor\": \"#FFF\", \"range\": [-0.5, 5.5], \"dtick\": 1}, \"height\": 300, \"titlefont\": {\"color\": \"#FFF\"}, \"xaxis\": {\"title\": \"Glimpses\", \"tickcolor\": \"#FFF\", \"range\": [-0.5, 5.5], \"dtick\": 1}, \"font\": {\"color\": \"#FFF\"}}, {\"linkText\": \"Export to plot.ly\", \"showLink\": true})});</script>"
      ],
      "text/vnd.plotly.v1+html": [
       "<div id=\"12ed824e-c173-4c90-898c-2d105d29985d\" style=\"height: 300px; width: 300px;\" class=\"plotly-graph-div\"></div><script type=\"text/javascript\">require([\"plotly\"], function(Plotly) { window.PLOTLYENV=window.PLOTLYENV || {};window.PLOTLYENV.BASE_URL=\"https://plot.ly\";Plotly.newPlot(\"12ed824e-c173-4c90-898c-2d105d29985d\", [{\"colorscale\": \"Jet\", \"z\": [[2.0640507391119278e-06, 0.5952878896316041, 0.9778280232044072, 0.888417492181754, 0.7607773427236625, 0.9042560291563789], [0.9999817218157315, 0.0008268038958834733, 0.00010347064253402528, 0.00041686243626482797, 0.0056700832753440065, 0.007052754001891029], [1.5442797929367815e-05, 0.4031822967852564, 0.00033470034437000306, 8.29321353763259e-06, 3.9326951559647974e-05, 0.0005936413526927444], [7.572259056542271e-09, 0.000651525156642384, 0.01848587363632418, 0.00029279237244713156, 1.8894755868357992e-05, 5.883724280229497e-05], [2.4398982383493733e-08, 2.2925972464338156e-05, 0.003094634112363341, 0.08897085052964458, 0.007308836234130761, 0.0010653014954067881], [3.348097091192843e-07, 2.8137173633279845e-05, 0.00015287389939103757, 0.02189329216771159, 0.2261851011758348, 0.08697301004370735]], \"type\": \"heatmap\"}], {\"plot_bgcolor\": \"#000\", \"paper_bgcolor\": \"#000\", \"width\": 300, \"title\": \"4 Blobs:Confidence after 38400 Iters\", \"yaxis\": {\"title\": \"Count Word\", \"tickcolor\": \"#FFF\", \"range\": [-0.5, 5.5], \"dtick\": 1}, \"height\": 300, \"titlefont\": {\"color\": \"#FFF\"}, \"xaxis\": {\"title\": \"Glimpses\", \"tickcolor\": \"#FFF\", \"range\": [-0.5, 5.5], \"dtick\": 1}, \"font\": {\"color\": \"#FFF\"}}, {\"linkText\": \"Export to plot.ly\", \"showLink\": true})});</script>"
      ]
     },
     "metadata": {},
     "output_type": "display_data"
    },
    {
     "data": {
      "application/vnd.plotly.v1+json": {
       "data": [
        {
         "colorscale": "Jet",
         "type": "heatmap",
         "z": [
          [
           1.7145635198202545e-05,
           0.6130434793151188,
           0.9885360715954306,
           0.9906759850388398,
           0.9217873787497745,
           0.9871780737452294
          ],
          [
           0.9999757231470682,
           0.00021675303611844269,
           2.6074910962326048e-05,
           4.115818983540959e-05,
           0.0005621028730182929,
           7.081505182456857e-05
          ],
          [
           5.127088266949519e-06,
           0.38641457502938104,
           0.0001058297869826212,
           3.3951156436449267e-06,
           1.4678643249175746e-05,
           0.00016213246042921954
          ],
          [
           2.0407955061556457e-08,
           0.0003106099584788006,
           0.011140468308852607,
           0.00021926676678483566,
           8.977561196313147e-06,
           3.407498875938793e-05
          ],
          [
           4.737286093980957e-08,
           2.3745574299896603e-06,
           0.00016855865593913555,
           0.007214891841125864,
           0.00048225000737176594,
           6.807933888579514e-05
          ],
          [
           1.3224887117691445e-06,
           1.1575892756245612e-05,
           2.2352679634973827e-05,
           0.0018446740972191155,
           0.07714400233002859,
           0.01248616972913578
          ]
         ]
        }
       ],
       "layout": {
        "font": {
         "color": "#FFF"
        },
        "height": 300,
        "paper_bgcolor": "#000",
        "plot_bgcolor": "#000",
        "title": "4 Blobs:Confidence after 51200 Iters",
        "titlefont": {
         "color": "#FFF"
        },
        "width": 300,
        "xaxis": {
         "dtick": 1,
         "range": [
          -0.5,
          5.5
         ],
         "tickcolor": "#FFF",
         "title": "Glimpses"
        },
        "yaxis": {
         "dtick": 1,
         "range": [
          -0.5,
          5.5
         ],
         "tickcolor": "#FFF",
         "title": "Count Word"
        }
       }
      },
      "text/html": [
       "<div id=\"8606bb01-4f84-4eb9-94de-13ec9f440c2a\" style=\"height: 300px; width: 300px;\" class=\"plotly-graph-div\"></div><script type=\"text/javascript\">require([\"plotly\"], function(Plotly) { window.PLOTLYENV=window.PLOTLYENV || {};window.PLOTLYENV.BASE_URL=\"https://plot.ly\";Plotly.newPlot(\"8606bb01-4f84-4eb9-94de-13ec9f440c2a\", [{\"colorscale\": \"Jet\", \"z\": [[1.7145635198202545e-05, 0.6130434793151188, 0.9885360715954306, 0.9906759850388398, 0.9217873787497745, 0.9871780737452294], [0.9999757231470682, 0.00021675303611844269, 2.6074910962326048e-05, 4.115818983540959e-05, 0.0005621028730182929, 7.081505182456857e-05], [5.127088266949519e-06, 0.38641457502938104, 0.0001058297869826212, 3.3951156436449267e-06, 1.4678643249175746e-05, 0.00016213246042921954], [2.0407955061556457e-08, 0.0003106099584788006, 0.011140468308852607, 0.00021926676678483566, 8.977561196313147e-06, 3.407498875938793e-05], [4.737286093980957e-08, 2.3745574299896603e-06, 0.00016855865593913555, 0.007214891841125864, 0.00048225000737176594, 6.807933888579514e-05], [1.3224887117691445e-06, 1.1575892756245612e-05, 2.2352679634973827e-05, 0.0018446740972191155, 0.07714400233002859, 0.01248616972913578]], \"type\": \"heatmap\"}], {\"plot_bgcolor\": \"#000\", \"paper_bgcolor\": \"#000\", \"width\": 300, \"title\": \"4 Blobs:Confidence after 51200 Iters\", \"yaxis\": {\"title\": \"Count Word\", \"tickcolor\": \"#FFF\", \"range\": [-0.5, 5.5], \"dtick\": 1}, \"height\": 300, \"titlefont\": {\"color\": \"#FFF\"}, \"xaxis\": {\"title\": \"Glimpses\", \"tickcolor\": \"#FFF\", \"range\": [-0.5, 5.5], \"dtick\": 1}, \"font\": {\"color\": \"#FFF\"}}, {\"linkText\": \"Export to plot.ly\", \"showLink\": true})});</script>"
      ],
      "text/vnd.plotly.v1+html": [
       "<div id=\"8606bb01-4f84-4eb9-94de-13ec9f440c2a\" style=\"height: 300px; width: 300px;\" class=\"plotly-graph-div\"></div><script type=\"text/javascript\">require([\"plotly\"], function(Plotly) { window.PLOTLYENV=window.PLOTLYENV || {};window.PLOTLYENV.BASE_URL=\"https://plot.ly\";Plotly.newPlot(\"8606bb01-4f84-4eb9-94de-13ec9f440c2a\", [{\"colorscale\": \"Jet\", \"z\": [[1.7145635198202545e-05, 0.6130434793151188, 0.9885360715954306, 0.9906759850388398, 0.9217873787497745, 0.9871780737452294], [0.9999757231470682, 0.00021675303611844269, 2.6074910962326048e-05, 4.115818983540959e-05, 0.0005621028730182929, 7.081505182456857e-05], [5.127088266949519e-06, 0.38641457502938104, 0.0001058297869826212, 3.3951156436449267e-06, 1.4678643249175746e-05, 0.00016213246042921954], [2.0407955061556457e-08, 0.0003106099584788006, 0.011140468308852607, 0.00021926676678483566, 8.977561196313147e-06, 3.407498875938793e-05], [4.737286093980957e-08, 2.3745574299896603e-06, 0.00016855865593913555, 0.007214891841125864, 0.00048225000737176594, 6.807933888579514e-05], [1.3224887117691445e-06, 1.1575892756245612e-05, 2.2352679634973827e-05, 0.0018446740972191155, 0.07714400233002859, 0.01248616972913578]], \"type\": \"heatmap\"}], {\"plot_bgcolor\": \"#000\", \"paper_bgcolor\": \"#000\", \"width\": 300, \"title\": \"4 Blobs:Confidence after 51200 Iters\", \"yaxis\": {\"title\": \"Count Word\", \"tickcolor\": \"#FFF\", \"range\": [-0.5, 5.5], \"dtick\": 1}, \"height\": 300, \"titlefont\": {\"color\": \"#FFF\"}, \"xaxis\": {\"title\": \"Glimpses\", \"tickcolor\": \"#FFF\", \"range\": [-0.5, 5.5], \"dtick\": 1}, \"font\": {\"color\": \"#FFF\"}}, {\"linkText\": \"Export to plot.ly\", \"showLink\": true})});</script>"
      ]
     },
     "metadata": {},
     "output_type": "display_data"
    },
    {
     "data": {
      "application/vnd.plotly.v1+json": {
       "data": [
        {
         "colorscale": "Jet",
         "type": "heatmap",
         "z": [
          [
           0.0006033816111756519,
           0.769622007168643,
           0.9757214853200282,
           0.992517687330138,
           0.9253591738655944,
           0.9880695290250805
          ],
          [
           0.9992816518198216,
           0.00013693486391919116,
           5.101304519385604e-06,
           6.0178401123220386e-05,
           0.0015090150746893318,
           0.0014109701667848731
          ],
          [
           8.600985656524363e-05,
           0.22989678388158288,
           7.9125000752875e-05,
           6.1068833521907185e-06,
           8.139022640330026e-06,
           0.0001188198019036673
          ],
          [
           7.746505936735842e-07,
           0.00032646784659155244,
           0.024104382453947987,
           0.00013231444050631314,
           5.929103477174879e-06,
           1.5980505874835205e-05
          ],
          [
           1.1508453301761369e-06,
           2.7272795083993522e-06,
           7.45469905426567e-05,
           0.006148410736819143,
           0.0006668295816839969,
           5.7552287146605105e-05
          ],
          [
           2.6527467934667792e-05,
           1.4562148208420695e-05,
           1.4831388490206746e-05,
           0.0011347964698316384,
           0.0724504029061516,
           0.010326648183095243
          ]
         ]
        }
       ],
       "layout": {
        "font": {
         "color": "#FFF"
        },
        "height": 300,
        "paper_bgcolor": "#000",
        "plot_bgcolor": "#000",
        "title": "4 Blobs:Confidence after 76800 Iters",
        "titlefont": {
         "color": "#FFF"
        },
        "width": 300,
        "xaxis": {
         "dtick": 1,
         "range": [
          -0.5,
          5.5
         ],
         "tickcolor": "#FFF",
         "title": "Glimpses"
        },
        "yaxis": {
         "dtick": 1,
         "range": [
          -0.5,
          5.5
         ],
         "tickcolor": "#FFF",
         "title": "Count Word"
        }
       }
      },
      "text/html": [
       "<div id=\"01b8e0ce-3d82-4903-96d5-00b8931cb2a8\" style=\"height: 300px; width: 300px;\" class=\"plotly-graph-div\"></div><script type=\"text/javascript\">require([\"plotly\"], function(Plotly) { window.PLOTLYENV=window.PLOTLYENV || {};window.PLOTLYENV.BASE_URL=\"https://plot.ly\";Plotly.newPlot(\"01b8e0ce-3d82-4903-96d5-00b8931cb2a8\", [{\"colorscale\": \"Jet\", \"z\": [[0.0006033816111756519, 0.769622007168643, 0.9757214853200282, 0.992517687330138, 0.9253591738655944, 0.9880695290250805], [0.9992816518198216, 0.00013693486391919116, 5.101304519385604e-06, 6.0178401123220386e-05, 0.0015090150746893318, 0.0014109701667848731], [8.600985656524363e-05, 0.22989678388158288, 7.9125000752875e-05, 6.1068833521907185e-06, 8.139022640330026e-06, 0.0001188198019036673], [7.746505936735842e-07, 0.00032646784659155244, 0.024104382453947987, 0.00013231444050631314, 5.929103477174879e-06, 1.5980505874835205e-05], [1.1508453301761369e-06, 2.7272795083993522e-06, 7.45469905426567e-05, 0.006148410736819143, 0.0006668295816839969, 5.7552287146605105e-05], [2.6527467934667792e-05, 1.4562148208420695e-05, 1.4831388490206746e-05, 0.0011347964698316384, 0.0724504029061516, 0.010326648183095243]], \"type\": \"heatmap\"}], {\"plot_bgcolor\": \"#000\", \"paper_bgcolor\": \"#000\", \"width\": 300, \"title\": \"4 Blobs:Confidence after 76800 Iters\", \"yaxis\": {\"title\": \"Count Word\", \"tickcolor\": \"#FFF\", \"range\": [-0.5, 5.5], \"dtick\": 1}, \"height\": 300, \"titlefont\": {\"color\": \"#FFF\"}, \"xaxis\": {\"title\": \"Glimpses\", \"tickcolor\": \"#FFF\", \"range\": [-0.5, 5.5], \"dtick\": 1}, \"font\": {\"color\": \"#FFF\"}}, {\"linkText\": \"Export to plot.ly\", \"showLink\": true})});</script>"
      ],
      "text/vnd.plotly.v1+html": [
       "<div id=\"01b8e0ce-3d82-4903-96d5-00b8931cb2a8\" style=\"height: 300px; width: 300px;\" class=\"plotly-graph-div\"></div><script type=\"text/javascript\">require([\"plotly\"], function(Plotly) { window.PLOTLYENV=window.PLOTLYENV || {};window.PLOTLYENV.BASE_URL=\"https://plot.ly\";Plotly.newPlot(\"01b8e0ce-3d82-4903-96d5-00b8931cb2a8\", [{\"colorscale\": \"Jet\", \"z\": [[0.0006033816111756519, 0.769622007168643, 0.9757214853200282, 0.992517687330138, 0.9253591738655944, 0.9880695290250805], [0.9992816518198216, 0.00013693486391919116, 5.101304519385604e-06, 6.0178401123220386e-05, 0.0015090150746893318, 0.0014109701667848731], [8.600985656524363e-05, 0.22989678388158288, 7.9125000752875e-05, 6.1068833521907185e-06, 8.139022640330026e-06, 0.0001188198019036673], [7.746505936735842e-07, 0.00032646784659155244, 0.024104382453947987, 0.00013231444050631314, 5.929103477174879e-06, 1.5980505874835205e-05], [1.1508453301761369e-06, 2.7272795083993522e-06, 7.45469905426567e-05, 0.006148410736819143, 0.0006668295816839969, 5.7552287146605105e-05], [2.6527467934667792e-05, 1.4562148208420695e-05, 1.4831388490206746e-05, 0.0011347964698316384, 0.0724504029061516, 0.010326648183095243]], \"type\": \"heatmap\"}], {\"plot_bgcolor\": \"#000\", \"paper_bgcolor\": \"#000\", \"width\": 300, \"title\": \"4 Blobs:Confidence after 76800 Iters\", \"yaxis\": {\"title\": \"Count Word\", \"tickcolor\": \"#FFF\", \"range\": [-0.5, 5.5], \"dtick\": 1}, \"height\": 300, \"titlefont\": {\"color\": \"#FFF\"}, \"xaxis\": {\"title\": \"Glimpses\", \"tickcolor\": \"#FFF\", \"range\": [-0.5, 5.5], \"dtick\": 1}, \"font\": {\"color\": \"#FFF\"}}, {\"linkText\": \"Export to plot.ly\", \"showLink\": true})});</script>"
      ]
     },
     "metadata": {},
     "output_type": "display_data"
    },
    {
     "data": {
      "application/vnd.plotly.v1+json": {
       "data": [
        {
         "colorscale": "Jet",
         "type": "heatmap",
         "z": [
          [
           0.00014018189941959446,
           0.5919968786641451,
           0.9357018801577052,
           0.9730335597164163,
           0.8323591567985554,
           0.9921971184713589
          ],
          [
           0.9997577726024105,
           9.639909429184307e-05,
           2.1017967513732338e-08,
           2.6691280178877677e-05,
           0.0002883475712376238,
           8.1035217323811e-06
          ],
          [
           8.52899712319907e-05,
           0.40680675471675226,
           6.017956309056212e-05,
           1.054367365237744e-06,
           2.5788734268164738e-05,
           0.00015923639902240793
          ],
          [
           3.380697891600741e-07,
           0.0010863175663362217,
           0.06405680715998353,
           0.00028809654491713247,
           7.362593145263784e-06,
           3.930574778831581e-05
          ],
          [
           2.949284123941935e-07,
           2.771348973562213e-06,
           0.0001741370090888045,
           0.023076343966390588,
           0.00043691964500587897,
           2.7986831386424246e-05
          ],
          [
           1.5681481082560756e-05,
           1.0446629578117646e-05,
           6.55448643685302e-06,
           0.0035738430705145093,
           0.1668819745483623,
           0.007567826577141593
          ]
         ]
        }
       ],
       "layout": {
        "font": {
         "color": "#FFF"
        },
        "height": 300,
        "paper_bgcolor": "#000",
        "plot_bgcolor": "#000",
        "title": "4 Blobs:Confidence after 102400 Iters",
        "titlefont": {
         "color": "#FFF"
        },
        "width": 300,
        "xaxis": {
         "dtick": 1,
         "range": [
          -0.5,
          5.5
         ],
         "tickcolor": "#FFF",
         "title": "Glimpses"
        },
        "yaxis": {
         "dtick": 1,
         "range": [
          -0.5,
          5.5
         ],
         "tickcolor": "#FFF",
         "title": "Count Word"
        }
       }
      },
      "text/html": [
       "<div id=\"82a62864-c70b-40e6-a273-831e79b75bbc\" style=\"height: 300px; width: 300px;\" class=\"plotly-graph-div\"></div><script type=\"text/javascript\">require([\"plotly\"], function(Plotly) { window.PLOTLYENV=window.PLOTLYENV || {};window.PLOTLYENV.BASE_URL=\"https://plot.ly\";Plotly.newPlot(\"82a62864-c70b-40e6-a273-831e79b75bbc\", [{\"colorscale\": \"Jet\", \"z\": [[0.00014018189941959446, 0.5919968786641451, 0.9357018801577052, 0.9730335597164163, 0.8323591567985554, 0.9921971184713589], [0.9997577726024105, 9.639909429184307e-05, 2.1017967513732338e-08, 2.6691280178877677e-05, 0.0002883475712376238, 8.1035217323811e-06], [8.52899712319907e-05, 0.40680675471675226, 6.017956309056212e-05, 1.054367365237744e-06, 2.5788734268164738e-05, 0.00015923639902240793], [3.380697891600741e-07, 0.0010863175663362217, 0.06405680715998353, 0.00028809654491713247, 7.362593145263784e-06, 3.930574778831581e-05], [2.949284123941935e-07, 2.771348973562213e-06, 0.0001741370090888045, 0.023076343966390588, 0.00043691964500587897, 2.7986831386424246e-05], [1.5681481082560756e-05, 1.0446629578117646e-05, 6.55448643685302e-06, 0.0035738430705145093, 0.1668819745483623, 0.007567826577141593]], \"type\": \"heatmap\"}], {\"plot_bgcolor\": \"#000\", \"paper_bgcolor\": \"#000\", \"width\": 300, \"title\": \"4 Blobs:Confidence after 102400 Iters\", \"yaxis\": {\"title\": \"Count Word\", \"tickcolor\": \"#FFF\", \"range\": [-0.5, 5.5], \"dtick\": 1}, \"height\": 300, \"titlefont\": {\"color\": \"#FFF\"}, \"xaxis\": {\"title\": \"Glimpses\", \"tickcolor\": \"#FFF\", \"range\": [-0.5, 5.5], \"dtick\": 1}, \"font\": {\"color\": \"#FFF\"}}, {\"linkText\": \"Export to plot.ly\", \"showLink\": true})});</script>"
      ],
      "text/vnd.plotly.v1+html": [
       "<div id=\"82a62864-c70b-40e6-a273-831e79b75bbc\" style=\"height: 300px; width: 300px;\" class=\"plotly-graph-div\"></div><script type=\"text/javascript\">require([\"plotly\"], function(Plotly) { window.PLOTLYENV=window.PLOTLYENV || {};window.PLOTLYENV.BASE_URL=\"https://plot.ly\";Plotly.newPlot(\"82a62864-c70b-40e6-a273-831e79b75bbc\", [{\"colorscale\": \"Jet\", \"z\": [[0.00014018189941959446, 0.5919968786641451, 0.9357018801577052, 0.9730335597164163, 0.8323591567985554, 0.9921971184713589], [0.9997577726024105, 9.639909429184307e-05, 2.1017967513732338e-08, 2.6691280178877677e-05, 0.0002883475712376238, 8.1035217323811e-06], [8.52899712319907e-05, 0.40680675471675226, 6.017956309056212e-05, 1.054367365237744e-06, 2.5788734268164738e-05, 0.00015923639902240793], [3.380697891600741e-07, 0.0010863175663362217, 0.06405680715998353, 0.00028809654491713247, 7.362593145263784e-06, 3.930574778831581e-05], [2.949284123941935e-07, 2.771348973562213e-06, 0.0001741370090888045, 0.023076343966390588, 0.00043691964500587897, 2.7986831386424246e-05], [1.5681481082560756e-05, 1.0446629578117646e-05, 6.55448643685302e-06, 0.0035738430705145093, 0.1668819745483623, 0.007567826577141593]], \"type\": \"heatmap\"}], {\"plot_bgcolor\": \"#000\", \"paper_bgcolor\": \"#000\", \"width\": 300, \"title\": \"4 Blobs:Confidence after 102400 Iters\", \"yaxis\": {\"title\": \"Count Word\", \"tickcolor\": \"#FFF\", \"range\": [-0.5, 5.5], \"dtick\": 1}, \"height\": 300, \"titlefont\": {\"color\": \"#FFF\"}, \"xaxis\": {\"title\": \"Glimpses\", \"tickcolor\": \"#FFF\", \"range\": [-0.5, 5.5], \"dtick\": 1}, \"font\": {\"color\": \"#FFF\"}}, {\"linkText\": \"Export to plot.ly\", \"showLink\": true})});</script>"
      ]
     },
     "metadata": {},
     "output_type": "display_data"
    },
    {
     "data": {
      "application/vnd.plotly.v1+json": {
       "data": [
        {
         "colorscale": "Jet",
         "type": "heatmap",
         "z": [
          [
           0.0009677616399768565,
           0.41262745927638955,
           0.7185621103025821,
           0.9551182977705884,
           0.9815537531834109,
           0.9959755348626979
          ],
          [
           0.9983093252667884,
           1.1727696733456792e-05,
           5.526723404638735e-09,
           9.410905998935541e-07,
           6.339250245707427e-05,
           1.6102356708438794e-05
          ],
          [
           0.0006739263611723368,
           0.5856843296713359,
           0.00011302608796062297,
           2.843250316723107e-07,
           1.956273243903391e-06,
           6.71279990417873e-06
          ],
          [
           4.037696265210714e-06,
           0.0016666807171987696,
           0.28088755132350496,
           0.00024596818756632933,
           4.92330162269001e-06,
           6.484660781643503e-06
          ],
          [
           2.148563461453627e-06,
           7.231353755245555e-06,
           0.0004336601395036049,
           0.04429231833641335,
           0.0028254982644915533,
           9.219762698416214e-05
          ],
          [
           4.229698614738717e-05,
           2.0547677004380566e-06,
           3.1401280556512384e-06,
           0.0003416910707752105,
           0.015549974676977366,
           0.0039024612474581923
          ]
         ]
        }
       ],
       "layout": {
        "font": {
         "color": "#FFF"
        },
        "height": 300,
        "paper_bgcolor": "#000",
        "plot_bgcolor": "#000",
        "title": "4 Blobs:Confidence after 153600 Iters",
        "titlefont": {
         "color": "#FFF"
        },
        "width": 300,
        "xaxis": {
         "dtick": 1,
         "range": [
          -0.5,
          5.5
         ],
         "tickcolor": "#FFF",
         "title": "Glimpses"
        },
        "yaxis": {
         "dtick": 1,
         "range": [
          -0.5,
          5.5
         ],
         "tickcolor": "#FFF",
         "title": "Count Word"
        }
       }
      },
      "text/html": [
       "<div id=\"84310875-101c-4a4c-938b-1ddf804d599c\" style=\"height: 300px; width: 300px;\" class=\"plotly-graph-div\"></div><script type=\"text/javascript\">require([\"plotly\"], function(Plotly) { window.PLOTLYENV=window.PLOTLYENV || {};window.PLOTLYENV.BASE_URL=\"https://plot.ly\";Plotly.newPlot(\"84310875-101c-4a4c-938b-1ddf804d599c\", [{\"colorscale\": \"Jet\", \"z\": [[0.0009677616399768565, 0.41262745927638955, 0.7185621103025821, 0.9551182977705884, 0.9815537531834109, 0.9959755348626979], [0.9983093252667884, 1.1727696733456792e-05, 5.526723404638735e-09, 9.410905998935541e-07, 6.339250245707427e-05, 1.6102356708438794e-05], [0.0006739263611723368, 0.5856843296713359, 0.00011302608796062297, 2.843250316723107e-07, 1.956273243903391e-06, 6.71279990417873e-06], [4.037696265210714e-06, 0.0016666807171987696, 0.28088755132350496, 0.00024596818756632933, 4.92330162269001e-06, 6.484660781643503e-06], [2.148563461453627e-06, 7.231353755245555e-06, 0.0004336601395036049, 0.04429231833641335, 0.0028254982644915533, 9.219762698416214e-05], [4.229698614738717e-05, 2.0547677004380566e-06, 3.1401280556512384e-06, 0.0003416910707752105, 0.015549974676977366, 0.0039024612474581923]], \"type\": \"heatmap\"}], {\"plot_bgcolor\": \"#000\", \"paper_bgcolor\": \"#000\", \"width\": 300, \"title\": \"4 Blobs:Confidence after 153600 Iters\", \"yaxis\": {\"title\": \"Count Word\", \"tickcolor\": \"#FFF\", \"range\": [-0.5, 5.5], \"dtick\": 1}, \"height\": 300, \"titlefont\": {\"color\": \"#FFF\"}, \"xaxis\": {\"title\": \"Glimpses\", \"tickcolor\": \"#FFF\", \"range\": [-0.5, 5.5], \"dtick\": 1}, \"font\": {\"color\": \"#FFF\"}}, {\"linkText\": \"Export to plot.ly\", \"showLink\": true})});</script>"
      ],
      "text/vnd.plotly.v1+html": [
       "<div id=\"84310875-101c-4a4c-938b-1ddf804d599c\" style=\"height: 300px; width: 300px;\" class=\"plotly-graph-div\"></div><script type=\"text/javascript\">require([\"plotly\"], function(Plotly) { window.PLOTLYENV=window.PLOTLYENV || {};window.PLOTLYENV.BASE_URL=\"https://plot.ly\";Plotly.newPlot(\"84310875-101c-4a4c-938b-1ddf804d599c\", [{\"colorscale\": \"Jet\", \"z\": [[0.0009677616399768565, 0.41262745927638955, 0.7185621103025821, 0.9551182977705884, 0.9815537531834109, 0.9959755348626979], [0.9983093252667884, 1.1727696733456792e-05, 5.526723404638735e-09, 9.410905998935541e-07, 6.339250245707427e-05, 1.6102356708438794e-05], [0.0006739263611723368, 0.5856843296713359, 0.00011302608796062297, 2.843250316723107e-07, 1.956273243903391e-06, 6.71279990417873e-06], [4.037696265210714e-06, 0.0016666807171987696, 0.28088755132350496, 0.00024596818756632933, 4.92330162269001e-06, 6.484660781643503e-06], [2.148563461453627e-06, 7.231353755245555e-06, 0.0004336601395036049, 0.04429231833641335, 0.0028254982644915533, 9.219762698416214e-05], [4.229698614738717e-05, 2.0547677004380566e-06, 3.1401280556512384e-06, 0.0003416910707752105, 0.015549974676977366, 0.0039024612474581923]], \"type\": \"heatmap\"}], {\"plot_bgcolor\": \"#000\", \"paper_bgcolor\": \"#000\", \"width\": 300, \"title\": \"4 Blobs:Confidence after 153600 Iters\", \"yaxis\": {\"title\": \"Count Word\", \"tickcolor\": \"#FFF\", \"range\": [-0.5, 5.5], \"dtick\": 1}, \"height\": 300, \"titlefont\": {\"color\": \"#FFF\"}, \"xaxis\": {\"title\": \"Glimpses\", \"tickcolor\": \"#FFF\", \"range\": [-0.5, 5.5], \"dtick\": 1}, \"font\": {\"color\": \"#FFF\"}}, {\"linkText\": \"Export to plot.ly\", \"showLink\": true})});</script>"
      ]
     },
     "metadata": {},
     "output_type": "display_data"
    },
    {
     "data": {
      "application/vnd.plotly.v1+json": {
       "data": [
        {
         "colorscale": "Jet",
         "type": "heatmap",
         "z": [
          [
           3.92353577279465e-05,
           0.49199664371659174,
           0.6938964372469955,
           0.9875144233513306,
           0.9780326552718839,
           0.9974093670791601
          ],
          [
           0.9999072980999695,
           3.6019944426752916e-05,
           9.483414514853217e-09,
           2.439547306394894e-06,
           0.00012448765963112384,
           8.094621980110673e-06
          ],
          [
           4.150926928002091e-05,
           0.5078286834227089,
           0.0002714583017428706,
           7.402288594246793e-07,
           4.919728180646983e-06,
           7.60708397133798e-05
          ],
          [
           5.775255373676742e-08,
           0.00013209330072206602,
           0.3057647982804257,
           0.00015627204146985248,
           2.021660411580861e-06,
           6.379122534543592e-06
          ],
          [
           1.195711997191758e-07,
           1.3806502346217587e-06,
           6.552070919776236e-05,
           0.012046534138092039,
           0.00015872974904585096,
           3.016863375750137e-06
          ],
          [
           1.1221545195630063e-05,
           4.601441276890449e-06,
           1.1897907494861309e-06,
           0.000278976487212227,
           0.02167661996169703,
           0.0024964750006838095
          ]
         ]
        }
       ],
       "layout": {
        "font": {
         "color": "#FFF"
        },
        "height": 300,
        "paper_bgcolor": "#000",
        "plot_bgcolor": "#000",
        "title": "4 Blobs:Confidence after 204800 Iters",
        "titlefont": {
         "color": "#FFF"
        },
        "width": 300,
        "xaxis": {
         "dtick": 1,
         "range": [
          -0.5,
          5.5
         ],
         "tickcolor": "#FFF",
         "title": "Glimpses"
        },
        "yaxis": {
         "dtick": 1,
         "range": [
          -0.5,
          5.5
         ],
         "tickcolor": "#FFF",
         "title": "Count Word"
        }
       }
      },
      "text/html": [
       "<div id=\"f7fd0274-97b6-4cb9-9988-5c6ca7e4b7ad\" style=\"height: 300px; width: 300px;\" class=\"plotly-graph-div\"></div><script type=\"text/javascript\">require([\"plotly\"], function(Plotly) { window.PLOTLYENV=window.PLOTLYENV || {};window.PLOTLYENV.BASE_URL=\"https://plot.ly\";Plotly.newPlot(\"f7fd0274-97b6-4cb9-9988-5c6ca7e4b7ad\", [{\"colorscale\": \"Jet\", \"z\": [[3.92353577279465e-05, 0.49199664371659174, 0.6938964372469955, 0.9875144233513306, 0.9780326552718839, 0.9974093670791601], [0.9999072980999695, 3.6019944426752916e-05, 9.483414514853217e-09, 2.439547306394894e-06, 0.00012448765963112384, 8.094621980110673e-06], [4.150926928002091e-05, 0.5078286834227089, 0.0002714583017428706, 7.402288594246793e-07, 4.919728180646983e-06, 7.60708397133798e-05], [5.775255373676742e-08, 0.00013209330072206602, 0.3057647982804257, 0.00015627204146985248, 2.021660411580861e-06, 6.379122534543592e-06], [1.195711997191758e-07, 1.3806502346217587e-06, 6.552070919776236e-05, 0.012046534138092039, 0.00015872974904585096, 3.016863375750137e-06], [1.1221545195630063e-05, 4.601441276890449e-06, 1.1897907494861309e-06, 0.000278976487212227, 0.02167661996169703, 0.0024964750006838095]], \"type\": \"heatmap\"}], {\"plot_bgcolor\": \"#000\", \"paper_bgcolor\": \"#000\", \"width\": 300, \"title\": \"4 Blobs:Confidence after 204800 Iters\", \"yaxis\": {\"title\": \"Count Word\", \"tickcolor\": \"#FFF\", \"range\": [-0.5, 5.5], \"dtick\": 1}, \"height\": 300, \"titlefont\": {\"color\": \"#FFF\"}, \"xaxis\": {\"title\": \"Glimpses\", \"tickcolor\": \"#FFF\", \"range\": [-0.5, 5.5], \"dtick\": 1}, \"font\": {\"color\": \"#FFF\"}}, {\"linkText\": \"Export to plot.ly\", \"showLink\": true})});</script>"
      ],
      "text/vnd.plotly.v1+html": [
       "<div id=\"f7fd0274-97b6-4cb9-9988-5c6ca7e4b7ad\" style=\"height: 300px; width: 300px;\" class=\"plotly-graph-div\"></div><script type=\"text/javascript\">require([\"plotly\"], function(Plotly) { window.PLOTLYENV=window.PLOTLYENV || {};window.PLOTLYENV.BASE_URL=\"https://plot.ly\";Plotly.newPlot(\"f7fd0274-97b6-4cb9-9988-5c6ca7e4b7ad\", [{\"colorscale\": \"Jet\", \"z\": [[3.92353577279465e-05, 0.49199664371659174, 0.6938964372469955, 0.9875144233513306, 0.9780326552718839, 0.9974093670791601], [0.9999072980999695, 3.6019944426752916e-05, 9.483414514853217e-09, 2.439547306394894e-06, 0.00012448765963112384, 8.094621980110673e-06], [4.150926928002091e-05, 0.5078286834227089, 0.0002714583017428706, 7.402288594246793e-07, 4.919728180646983e-06, 7.60708397133798e-05], [5.775255373676742e-08, 0.00013209330072206602, 0.3057647982804257, 0.00015627204146985248, 2.021660411580861e-06, 6.379122534543592e-06], [1.195711997191758e-07, 1.3806502346217587e-06, 6.552070919776236e-05, 0.012046534138092039, 0.00015872974904585096, 3.016863375750137e-06], [1.1221545195630063e-05, 4.601441276890449e-06, 1.1897907494861309e-06, 0.000278976487212227, 0.02167661996169703, 0.0024964750006838095]], \"type\": \"heatmap\"}], {\"plot_bgcolor\": \"#000\", \"paper_bgcolor\": \"#000\", \"width\": 300, \"title\": \"4 Blobs:Confidence after 204800 Iters\", \"yaxis\": {\"title\": \"Count Word\", \"tickcolor\": \"#FFF\", \"range\": [-0.5, 5.5], \"dtick\": 1}, \"height\": 300, \"titlefont\": {\"color\": \"#FFF\"}, \"xaxis\": {\"title\": \"Glimpses\", \"tickcolor\": \"#FFF\", \"range\": [-0.5, 5.5], \"dtick\": 1}, \"font\": {\"color\": \"#FFF\"}}, {\"linkText\": \"Export to plot.ly\", \"showLink\": true})});</script>"
      ]
     },
     "metadata": {},
     "output_type": "display_data"
    },
    {
     "data": {
      "application/vnd.plotly.v1+json": {
       "data": [
        {
         "colorscale": "Jet",
         "type": "heatmap",
         "z": [
          [
           8.518714892612773e-06,
           0.40637433874481416,
           0.9100380459542262,
           0.9462721544732523,
           0.9622162110707604,
           0.9973716210334701
          ],
          [
           0.9999302245715864,
           5.261963271002462e-06,
           3.053720357222447e-07,
           2.6831156098580962e-05,
           0.0003807195350783725,
           4.346646433095798e-06
          ],
          [
           5.2985806694613685e-05,
           0.5934853364010221,
           4.11264642343592e-05,
           1.25249792112372e-06,
           5.778390942540409e-06,
           1.2322389114480371e-05
          ],
          [
           3.406521555940849e-08,
           0.00012792338784691005,
           0.08957954272628157,
           9.48735076985134e-05,
           8.001272755569947e-07,
           5.831286958550571e-07
          ],
          [
           3.2876079136504645e-08,
           1.4876706007062629e-06,
           0.00033412862861003,
           0.052563838475957095,
           0.0005079756943271274,
           4.904904265847703e-06
          ],
          [
           7.882414930603345e-06,
           5.3147691150857886e-06,
           6.5283162012520165e-06,
           0.0010407338464401427,
           0.03688821734066759,
           0.0026058786774716086
          ]
         ]
        }
       ],
       "layout": {
        "font": {
         "color": "#FFF"
        },
        "height": 300,
        "paper_bgcolor": "#000",
        "plot_bgcolor": "#000",
        "title": "4 Blobs:Confidence after 307200 Iters",
        "titlefont": {
         "color": "#FFF"
        },
        "width": 300,
        "xaxis": {
         "dtick": 1,
         "range": [
          -0.5,
          5.5
         ],
         "tickcolor": "#FFF",
         "title": "Glimpses"
        },
        "yaxis": {
         "dtick": 1,
         "range": [
          -0.5,
          5.5
         ],
         "tickcolor": "#FFF",
         "title": "Count Word"
        }
       }
      },
      "text/html": [
       "<div id=\"d70541a2-4891-42d4-bd71-e39852060310\" style=\"height: 300px; width: 300px;\" class=\"plotly-graph-div\"></div><script type=\"text/javascript\">require([\"plotly\"], function(Plotly) { window.PLOTLYENV=window.PLOTLYENV || {};window.PLOTLYENV.BASE_URL=\"https://plot.ly\";Plotly.newPlot(\"d70541a2-4891-42d4-bd71-e39852060310\", [{\"colorscale\": \"Jet\", \"z\": [[8.518714892612773e-06, 0.40637433874481416, 0.9100380459542262, 0.9462721544732523, 0.9622162110707604, 0.9973716210334701], [0.9999302245715864, 5.261963271002462e-06, 3.053720357222447e-07, 2.6831156098580962e-05, 0.0003807195350783725, 4.346646433095798e-06], [5.2985806694613685e-05, 0.5934853364010221, 4.11264642343592e-05, 1.25249792112372e-06, 5.778390942540409e-06, 1.2322389114480371e-05], [3.406521555940849e-08, 0.00012792338784691005, 0.08957954272628157, 9.48735076985134e-05, 8.001272755569947e-07, 5.831286958550571e-07], [3.2876079136504645e-08, 1.4876706007062629e-06, 0.00033412862861003, 0.052563838475957095, 0.0005079756943271274, 4.904904265847703e-06], [7.882414930603345e-06, 5.3147691150857886e-06, 6.5283162012520165e-06, 0.0010407338464401427, 0.03688821734066759, 0.0026058786774716086]], \"type\": \"heatmap\"}], {\"plot_bgcolor\": \"#000\", \"paper_bgcolor\": \"#000\", \"width\": 300, \"title\": \"4 Blobs:Confidence after 307200 Iters\", \"yaxis\": {\"title\": \"Count Word\", \"tickcolor\": \"#FFF\", \"range\": [-0.5, 5.5], \"dtick\": 1}, \"height\": 300, \"titlefont\": {\"color\": \"#FFF\"}, \"xaxis\": {\"title\": \"Glimpses\", \"tickcolor\": \"#FFF\", \"range\": [-0.5, 5.5], \"dtick\": 1}, \"font\": {\"color\": \"#FFF\"}}, {\"linkText\": \"Export to plot.ly\", \"showLink\": true})});</script>"
      ],
      "text/vnd.plotly.v1+html": [
       "<div id=\"d70541a2-4891-42d4-bd71-e39852060310\" style=\"height: 300px; width: 300px;\" class=\"plotly-graph-div\"></div><script type=\"text/javascript\">require([\"plotly\"], function(Plotly) { window.PLOTLYENV=window.PLOTLYENV || {};window.PLOTLYENV.BASE_URL=\"https://plot.ly\";Plotly.newPlot(\"d70541a2-4891-42d4-bd71-e39852060310\", [{\"colorscale\": \"Jet\", \"z\": [[8.518714892612773e-06, 0.40637433874481416, 0.9100380459542262, 0.9462721544732523, 0.9622162110707604, 0.9973716210334701], [0.9999302245715864, 5.261963271002462e-06, 3.053720357222447e-07, 2.6831156098580962e-05, 0.0003807195350783725, 4.346646433095798e-06], [5.2985806694613685e-05, 0.5934853364010221, 4.11264642343592e-05, 1.25249792112372e-06, 5.778390942540409e-06, 1.2322389114480371e-05], [3.406521555940849e-08, 0.00012792338784691005, 0.08957954272628157, 9.48735076985134e-05, 8.001272755569947e-07, 5.831286958550571e-07], [3.2876079136504645e-08, 1.4876706007062629e-06, 0.00033412862861003, 0.052563838475957095, 0.0005079756943271274, 4.904904265847703e-06], [7.882414930603345e-06, 5.3147691150857886e-06, 6.5283162012520165e-06, 0.0010407338464401427, 0.03688821734066759, 0.0026058786774716086]], \"type\": \"heatmap\"}], {\"plot_bgcolor\": \"#000\", \"paper_bgcolor\": \"#000\", \"width\": 300, \"title\": \"4 Blobs:Confidence after 307200 Iters\", \"yaxis\": {\"title\": \"Count Word\", \"tickcolor\": \"#FFF\", \"range\": [-0.5, 5.5], \"dtick\": 1}, \"height\": 300, \"titlefont\": {\"color\": \"#FFF\"}, \"xaxis\": {\"title\": \"Glimpses\", \"tickcolor\": \"#FFF\", \"range\": [-0.5, 5.5], \"dtick\": 1}, \"font\": {\"color\": \"#FFF\"}}, {\"linkText\": \"Export to plot.ly\", \"showLink\": true})});</script>"
      ]
     },
     "metadata": {},
     "output_type": "display_data"
    },
    {
     "data": {
      "application/vnd.plotly.v1+json": {
       "data": [
        {
         "colorscale": "Jet",
         "type": "heatmap",
         "z": [
          [
           0.16627959767829928,
           0.16606470114682137,
           0.16597899410074474,
           0.16597921498841603,
           0.16603137428114592,
           0.16610446793996106
          ],
          [
           0.1674610662274333,
           0.1676396924773619,
           0.16752260798696283,
           0.16728998784947885,
           0.16704162683580012,
           0.16683024609975697
          ],
          [
           0.16691111728360136,
           0.16710970055932362,
           0.1672147606962513,
           0.16724664740937145,
           0.1672303665855358,
           0.16719019746128055
          ],
          [
           0.1674236862482973,
           0.16795435134781,
           0.16829858725275185,
           0.16850154796113453,
           0.16860877665400978,
           0.16866258033273707
          ],
          [
           0.16622774079130984,
           0.16605073789045752,
           0.1660122604852721,
           0.16604086631524287,
           0.1660907097935777,
           0.16613491800667943
          ],
          [
           0.16569621931380168,
           0.1651802397382764,
           0.16497220650229938,
           0.16494114899448492,
           0.1649965619976745,
           0.1650769922827147
          ]
         ]
        }
       ],
       "layout": {
        "font": {
         "color": "#FFF"
        },
        "height": 300,
        "paper_bgcolor": "#000",
        "plot_bgcolor": "#000",
        "title": "5 Blobs:Confidence after 0 Iters",
        "titlefont": {
         "color": "#FFF"
        },
        "width": 300,
        "xaxis": {
         "dtick": 1,
         "range": [
          -0.5,
          5.5
         ],
         "tickcolor": "#FFF",
         "title": "Glimpses"
        },
        "yaxis": {
         "dtick": 1,
         "range": [
          -0.5,
          5.5
         ],
         "tickcolor": "#FFF",
         "title": "Count Word"
        }
       }
      },
      "text/html": [
       "<div id=\"f07c6e78-2853-4092-90b0-8655e57e6ce6\" style=\"height: 300px; width: 300px;\" class=\"plotly-graph-div\"></div><script type=\"text/javascript\">require([\"plotly\"], function(Plotly) { window.PLOTLYENV=window.PLOTLYENV || {};window.PLOTLYENV.BASE_URL=\"https://plot.ly\";Plotly.newPlot(\"f07c6e78-2853-4092-90b0-8655e57e6ce6\", [{\"colorscale\": \"Jet\", \"z\": [[0.16627959767829928, 0.16606470114682137, 0.16597899410074474, 0.16597921498841603, 0.16603137428114592, 0.16610446793996106], [0.1674610662274333, 0.1676396924773619, 0.16752260798696283, 0.16728998784947885, 0.16704162683580012, 0.16683024609975697], [0.16691111728360136, 0.16710970055932362, 0.1672147606962513, 0.16724664740937145, 0.1672303665855358, 0.16719019746128055], [0.1674236862482973, 0.16795435134781, 0.16829858725275185, 0.16850154796113453, 0.16860877665400978, 0.16866258033273707], [0.16622774079130984, 0.16605073789045752, 0.1660122604852721, 0.16604086631524287, 0.1660907097935777, 0.16613491800667943], [0.16569621931380168, 0.1651802397382764, 0.16497220650229938, 0.16494114899448492, 0.1649965619976745, 0.1650769922827147]], \"type\": \"heatmap\"}], {\"plot_bgcolor\": \"#000\", \"paper_bgcolor\": \"#000\", \"width\": 300, \"title\": \"5 Blobs:Confidence after 0 Iters\", \"yaxis\": {\"title\": \"Count Word\", \"tickcolor\": \"#FFF\", \"range\": [-0.5, 5.5], \"dtick\": 1}, \"height\": 300, \"titlefont\": {\"color\": \"#FFF\"}, \"xaxis\": {\"title\": \"Glimpses\", \"tickcolor\": \"#FFF\", \"range\": [-0.5, 5.5], \"dtick\": 1}, \"font\": {\"color\": \"#FFF\"}}, {\"linkText\": \"Export to plot.ly\", \"showLink\": true})});</script>"
      ],
      "text/vnd.plotly.v1+html": [
       "<div id=\"f07c6e78-2853-4092-90b0-8655e57e6ce6\" style=\"height: 300px; width: 300px;\" class=\"plotly-graph-div\"></div><script type=\"text/javascript\">require([\"plotly\"], function(Plotly) { window.PLOTLYENV=window.PLOTLYENV || {};window.PLOTLYENV.BASE_URL=\"https://plot.ly\";Plotly.newPlot(\"f07c6e78-2853-4092-90b0-8655e57e6ce6\", [{\"colorscale\": \"Jet\", \"z\": [[0.16627959767829928, 0.16606470114682137, 0.16597899410074474, 0.16597921498841603, 0.16603137428114592, 0.16610446793996106], [0.1674610662274333, 0.1676396924773619, 0.16752260798696283, 0.16728998784947885, 0.16704162683580012, 0.16683024609975697], [0.16691111728360136, 0.16710970055932362, 0.1672147606962513, 0.16724664740937145, 0.1672303665855358, 0.16719019746128055], [0.1674236862482973, 0.16795435134781, 0.16829858725275185, 0.16850154796113453, 0.16860877665400978, 0.16866258033273707], [0.16622774079130984, 0.16605073789045752, 0.1660122604852721, 0.16604086631524287, 0.1660907097935777, 0.16613491800667943], [0.16569621931380168, 0.1651802397382764, 0.16497220650229938, 0.16494114899448492, 0.1649965619976745, 0.1650769922827147]], \"type\": \"heatmap\"}], {\"plot_bgcolor\": \"#000\", \"paper_bgcolor\": \"#000\", \"width\": 300, \"title\": \"5 Blobs:Confidence after 0 Iters\", \"yaxis\": {\"title\": \"Count Word\", \"tickcolor\": \"#FFF\", \"range\": [-0.5, 5.5], \"dtick\": 1}, \"height\": 300, \"titlefont\": {\"color\": \"#FFF\"}, \"xaxis\": {\"title\": \"Glimpses\", \"tickcolor\": \"#FFF\", \"range\": [-0.5, 5.5], \"dtick\": 1}, \"font\": {\"color\": \"#FFF\"}}, {\"linkText\": \"Export to plot.ly\", \"showLink\": true})});</script>"
      ]
     },
     "metadata": {},
     "output_type": "display_data"
    },
    {
     "data": {
      "application/vnd.plotly.v1+json": {
       "data": [
        {
         "colorscale": "Jet",
         "type": "heatmap",
         "z": [
          [
           0.17464328001770021,
           0.17521933900516962,
           0.1753800283131649,
           0.17532811743243995,
           0.1751776591216048,
           0.17499458895699496
          ],
          [
           0.18496348226145468,
           0.18559742816989688,
           0.18604223778922968,
           0.1863389468667518,
           0.1865295245038888,
           0.18664632788013982
          ],
          [
           0.16299132841444225,
           0.1625872118158565,
           0.16242942755564801,
           0.16240478646483797,
           0.16245117579052487,
           0.16253261669536023
          ],
          [
           0.15946725280673543,
           0.15878553989314761,
           0.15830628896467241,
           0.15796696597213342,
           0.15773199102272545,
           0.15758234821143222
          ],
          [
           0.1591061836112952,
           0.15915269621016867,
           0.1593847491786598,
           0.1597162599023312,
           0.1600822728944131,
           0.16043574859702564
          ],
          [
           0.15882802172975033,
           0.15865733916574043,
           0.15845681771732847,
           0.1582444769441602,
           0.1580269316041479,
           0.15780789750334395
          ]
         ]
        }
       ],
       "layout": {
        "font": {
         "color": "#FFF"
        },
        "height": 300,
        "paper_bgcolor": "#000",
        "plot_bgcolor": "#000",
        "title": "5 Blobs:Confidence after 100 Iters",
        "titlefont": {
         "color": "#FFF"
        },
        "width": 300,
        "xaxis": {
         "dtick": 1,
         "range": [
          -0.5,
          5.5
         ],
         "tickcolor": "#FFF",
         "title": "Glimpses"
        },
        "yaxis": {
         "dtick": 1,
         "range": [
          -0.5,
          5.5
         ],
         "tickcolor": "#FFF",
         "title": "Count Word"
        }
       }
      },
      "text/html": [
       "<div id=\"1614dde2-8493-4141-abce-8edfdb58e501\" style=\"height: 300px; width: 300px;\" class=\"plotly-graph-div\"></div><script type=\"text/javascript\">require([\"plotly\"], function(Plotly) { window.PLOTLYENV=window.PLOTLYENV || {};window.PLOTLYENV.BASE_URL=\"https://plot.ly\";Plotly.newPlot(\"1614dde2-8493-4141-abce-8edfdb58e501\", [{\"colorscale\": \"Jet\", \"z\": [[0.17464328001770021, 0.17521933900516962, 0.1753800283131649, 0.17532811743243995, 0.1751776591216048, 0.17499458895699496], [0.18496348226145468, 0.18559742816989688, 0.18604223778922968, 0.1863389468667518, 0.1865295245038888, 0.18664632788013982], [0.16299132841444225, 0.1625872118158565, 0.16242942755564801, 0.16240478646483797, 0.16245117579052487, 0.16253261669536023], [0.15946725280673543, 0.15878553989314761, 0.15830628896467241, 0.15796696597213342, 0.15773199102272545, 0.15758234821143222], [0.1591061836112952, 0.15915269621016867, 0.1593847491786598, 0.1597162599023312, 0.1600822728944131, 0.16043574859702564], [0.15882802172975033, 0.15865733916574043, 0.15845681771732847, 0.1582444769441602, 0.1580269316041479, 0.15780789750334395]], \"type\": \"heatmap\"}], {\"plot_bgcolor\": \"#000\", \"paper_bgcolor\": \"#000\", \"width\": 300, \"title\": \"5 Blobs:Confidence after 100 Iters\", \"yaxis\": {\"title\": \"Count Word\", \"tickcolor\": \"#FFF\", \"range\": [-0.5, 5.5], \"dtick\": 1}, \"height\": 300, \"titlefont\": {\"color\": \"#FFF\"}, \"xaxis\": {\"title\": \"Glimpses\", \"tickcolor\": \"#FFF\", \"range\": [-0.5, 5.5], \"dtick\": 1}, \"font\": {\"color\": \"#FFF\"}}, {\"linkText\": \"Export to plot.ly\", \"showLink\": true})});</script>"
      ],
      "text/vnd.plotly.v1+html": [
       "<div id=\"1614dde2-8493-4141-abce-8edfdb58e501\" style=\"height: 300px; width: 300px;\" class=\"plotly-graph-div\"></div><script type=\"text/javascript\">require([\"plotly\"], function(Plotly) { window.PLOTLYENV=window.PLOTLYENV || {};window.PLOTLYENV.BASE_URL=\"https://plot.ly\";Plotly.newPlot(\"1614dde2-8493-4141-abce-8edfdb58e501\", [{\"colorscale\": \"Jet\", \"z\": [[0.17464328001770021, 0.17521933900516962, 0.1753800283131649, 0.17532811743243995, 0.1751776591216048, 0.17499458895699496], [0.18496348226145468, 0.18559742816989688, 0.18604223778922968, 0.1863389468667518, 0.1865295245038888, 0.18664632788013982], [0.16299132841444225, 0.1625872118158565, 0.16242942755564801, 0.16240478646483797, 0.16245117579052487, 0.16253261669536023], [0.15946725280673543, 0.15878553989314761, 0.15830628896467241, 0.15796696597213342, 0.15773199102272545, 0.15758234821143222], [0.1591061836112952, 0.15915269621016867, 0.1593847491786598, 0.1597162599023312, 0.1600822728944131, 0.16043574859702564], [0.15882802172975033, 0.15865733916574043, 0.15845681771732847, 0.1582444769441602, 0.1580269316041479, 0.15780789750334395]], \"type\": \"heatmap\"}], {\"plot_bgcolor\": \"#000\", \"paper_bgcolor\": \"#000\", \"width\": 300, \"title\": \"5 Blobs:Confidence after 100 Iters\", \"yaxis\": {\"title\": \"Count Word\", \"tickcolor\": \"#FFF\", \"range\": [-0.5, 5.5], \"dtick\": 1}, \"height\": 300, \"titlefont\": {\"color\": \"#FFF\"}, \"xaxis\": {\"title\": \"Glimpses\", \"tickcolor\": \"#FFF\", \"range\": [-0.5, 5.5], \"dtick\": 1}, \"font\": {\"color\": \"#FFF\"}}, {\"linkText\": \"Export to plot.ly\", \"showLink\": true})});</script>"
      ]
     },
     "metadata": {},
     "output_type": "display_data"
    },
    {
     "data": {
      "application/vnd.plotly.v1+json": {
       "data": [
        {
         "colorscale": "Jet",
         "type": "heatmap",
         "z": [
          [
           0.18565624142182197,
           0.18750816593492028,
           0.18905985660796043,
           0.19036379352153582,
           0.19145815283930814,
           0.1923671632436407
          ],
          [
           0.21657220641425404,
           0.2180175010507892,
           0.21872809244040364,
           0.21901208461730362,
           0.2190774452564807,
           0.21906108855640413
          ],
          [
           0.15501836894090987,
           0.15390791399130066,
           0.15318999719377346,
           0.15270708591938578,
           0.15235603437161213,
           0.1520857590061276
          ],
          [
           0.14964696679927145,
           0.1488997924775128,
           0.148417828916598,
           0.14810798442746054,
           0.14790610417240482,
           0.1477877478726633
          ],
          [
           0.1470573272177567,
           0.14640426322803624,
           0.1460096293774822,
           0.14578317830953905,
           0.14566267087902804,
           0.14559693651887767
          ],
          [
           0.14604847192080594,
           0.14526195735713876,
           0.1445942008283582,
           0.14402548154958217,
           0.14353920321015795,
           0.14310091135895492
          ]
         ]
        }
       ],
       "layout": {
        "font": {
         "color": "#FFF"
        },
        "height": 300,
        "paper_bgcolor": "#000",
        "plot_bgcolor": "#000",
        "title": "5 Blobs:Confidence after 200 Iters",
        "titlefont": {
         "color": "#FFF"
        },
        "width": 300,
        "xaxis": {
         "dtick": 1,
         "range": [
          -0.5,
          5.5
         ],
         "tickcolor": "#FFF",
         "title": "Glimpses"
        },
        "yaxis": {
         "dtick": 1,
         "range": [
          -0.5,
          5.5
         ],
         "tickcolor": "#FFF",
         "title": "Count Word"
        }
       }
      },
      "text/html": [
       "<div id=\"beb2cc8b-5fc8-42b5-8ef1-7624170de65c\" style=\"height: 300px; width: 300px;\" class=\"plotly-graph-div\"></div><script type=\"text/javascript\">require([\"plotly\"], function(Plotly) { window.PLOTLYENV=window.PLOTLYENV || {};window.PLOTLYENV.BASE_URL=\"https://plot.ly\";Plotly.newPlot(\"beb2cc8b-5fc8-42b5-8ef1-7624170de65c\", [{\"colorscale\": \"Jet\", \"z\": [[0.18565624142182197, 0.18750816593492028, 0.18905985660796043, 0.19036379352153582, 0.19145815283930814, 0.1923671632436407], [0.21657220641425404, 0.2180175010507892, 0.21872809244040364, 0.21901208461730362, 0.2190774452564807, 0.21906108855640413], [0.15501836894090987, 0.15390791399130066, 0.15318999719377346, 0.15270708591938578, 0.15235603437161213, 0.1520857590061276], [0.14964696679927145, 0.1488997924775128, 0.148417828916598, 0.14810798442746054, 0.14790610417240482, 0.1477877478726633], [0.1470573272177567, 0.14640426322803624, 0.1460096293774822, 0.14578317830953905, 0.14566267087902804, 0.14559693651887767], [0.14604847192080594, 0.14526195735713876, 0.1445942008283582, 0.14402548154958217, 0.14353920321015795, 0.14310091135895492]], \"type\": \"heatmap\"}], {\"plot_bgcolor\": \"#000\", \"paper_bgcolor\": \"#000\", \"width\": 300, \"title\": \"5 Blobs:Confidence after 200 Iters\", \"yaxis\": {\"title\": \"Count Word\", \"tickcolor\": \"#FFF\", \"range\": [-0.5, 5.5], \"dtick\": 1}, \"height\": 300, \"titlefont\": {\"color\": \"#FFF\"}, \"xaxis\": {\"title\": \"Glimpses\", \"tickcolor\": \"#FFF\", \"range\": [-0.5, 5.5], \"dtick\": 1}, \"font\": {\"color\": \"#FFF\"}}, {\"linkText\": \"Export to plot.ly\", \"showLink\": true})});</script>"
      ],
      "text/vnd.plotly.v1+html": [
       "<div id=\"beb2cc8b-5fc8-42b5-8ef1-7624170de65c\" style=\"height: 300px; width: 300px;\" class=\"plotly-graph-div\"></div><script type=\"text/javascript\">require([\"plotly\"], function(Plotly) { window.PLOTLYENV=window.PLOTLYENV || {};window.PLOTLYENV.BASE_URL=\"https://plot.ly\";Plotly.newPlot(\"beb2cc8b-5fc8-42b5-8ef1-7624170de65c\", [{\"colorscale\": \"Jet\", \"z\": [[0.18565624142182197, 0.18750816593492028, 0.18905985660796043, 0.19036379352153582, 0.19145815283930814, 0.1923671632436407], [0.21657220641425404, 0.2180175010507892, 0.21872809244040364, 0.21901208461730362, 0.2190774452564807, 0.21906108855640413], [0.15501836894090987, 0.15390791399130066, 0.15318999719377346, 0.15270708591938578, 0.15235603437161213, 0.1520857590061276], [0.14964696679927145, 0.1488997924775128, 0.148417828916598, 0.14810798442746054, 0.14790610417240482, 0.1477877478726633], [0.1470573272177567, 0.14640426322803624, 0.1460096293774822, 0.14578317830953905, 0.14566267087902804, 0.14559693651887767], [0.14604847192080594, 0.14526195735713876, 0.1445942008283582, 0.14402548154958217, 0.14353920321015795, 0.14310091135895492]], \"type\": \"heatmap\"}], {\"plot_bgcolor\": \"#000\", \"paper_bgcolor\": \"#000\", \"width\": 300, \"title\": \"5 Blobs:Confidence after 200 Iters\", \"yaxis\": {\"title\": \"Count Word\", \"tickcolor\": \"#FFF\", \"range\": [-0.5, 5.5], \"dtick\": 1}, \"height\": 300, \"titlefont\": {\"color\": \"#FFF\"}, \"xaxis\": {\"title\": \"Glimpses\", \"tickcolor\": \"#FFF\", \"range\": [-0.5, 5.5], \"dtick\": 1}, \"font\": {\"color\": \"#FFF\"}}, {\"linkText\": \"Export to plot.ly\", \"showLink\": true})});</script>"
      ]
     },
     "metadata": {},
     "output_type": "display_data"
    },
    {
     "data": {
      "application/vnd.plotly.v1+json": {
       "data": [
        {
         "colorscale": "Jet",
         "type": "heatmap",
         "z": [
          [
           0.19777563707057502,
           0.2016925572308736,
           0.2046542368550643,
           0.20690847536790957,
           0.20862582731895643,
           0.20994372741007636
          ],
          [
           0.2488005784646748,
           0.25202052015600684,
           0.25451888495904995,
           0.25643466271433707,
           0.2579173120007067,
           0.25907799746211213
          ],
          [
           0.14967477223748554,
           0.14798342551020346,
           0.1466786804291361,
           0.1456251119162831,
           0.14473573922399066,
           0.14395310756476415
          ],
          [
           0.13776458295079347,
           0.13593338347067246,
           0.13456447875994645,
           0.13358144418421813,
           0.13292317247984692,
           0.13250594726798484
          ],
          [
           0.13409281455104693,
           0.13241219055902084,
           0.1312797180628726,
           0.13054367554026727,
           0.13007305610549022,
           0.12977764952432952
          ],
          [
           0.13189116559877792,
           0.12995746107739764,
           0.12830353995409327,
           0.1269061797956881,
           0.12572442850454577,
           0.12474109014846484
          ]
         ]
        }
       ],
       "layout": {
        "font": {
         "color": "#FFF"
        },
        "height": 300,
        "paper_bgcolor": "#000",
        "plot_bgcolor": "#000",
        "title": "5 Blobs:Confidence after 300 Iters",
        "titlefont": {
         "color": "#FFF"
        },
        "width": 300,
        "xaxis": {
         "dtick": 1,
         "range": [
          -0.5,
          5.5
         ],
         "tickcolor": "#FFF",
         "title": "Glimpses"
        },
        "yaxis": {
         "dtick": 1,
         "range": [
          -0.5,
          5.5
         ],
         "tickcolor": "#FFF",
         "title": "Count Word"
        }
       }
      },
      "text/html": [
       "<div id=\"0b9edd94-2be3-4fa3-b205-eb49f6fb9527\" style=\"height: 300px; width: 300px;\" class=\"plotly-graph-div\"></div><script type=\"text/javascript\">require([\"plotly\"], function(Plotly) { window.PLOTLYENV=window.PLOTLYENV || {};window.PLOTLYENV.BASE_URL=\"https://plot.ly\";Plotly.newPlot(\"0b9edd94-2be3-4fa3-b205-eb49f6fb9527\", [{\"colorscale\": \"Jet\", \"z\": [[0.19777563707057502, 0.2016925572308736, 0.2046542368550643, 0.20690847536790957, 0.20862582731895643, 0.20994372741007636], [0.2488005784646748, 0.25202052015600684, 0.25451888495904995, 0.25643466271433707, 0.2579173120007067, 0.25907799746211213], [0.14967477223748554, 0.14798342551020346, 0.1466786804291361, 0.1456251119162831, 0.14473573922399066, 0.14395310756476415], [0.13776458295079347, 0.13593338347067246, 0.13456447875994645, 0.13358144418421813, 0.13292317247984692, 0.13250594726798484], [0.13409281455104693, 0.13241219055902084, 0.1312797180628726, 0.13054367554026727, 0.13007305610549022, 0.12977764952432952], [0.13189116559877792, 0.12995746107739764, 0.12830353995409327, 0.1269061797956881, 0.12572442850454577, 0.12474109014846484]], \"type\": \"heatmap\"}], {\"plot_bgcolor\": \"#000\", \"paper_bgcolor\": \"#000\", \"width\": 300, \"title\": \"5 Blobs:Confidence after 300 Iters\", \"yaxis\": {\"title\": \"Count Word\", \"tickcolor\": \"#FFF\", \"range\": [-0.5, 5.5], \"dtick\": 1}, \"height\": 300, \"titlefont\": {\"color\": \"#FFF\"}, \"xaxis\": {\"title\": \"Glimpses\", \"tickcolor\": \"#FFF\", \"range\": [-0.5, 5.5], \"dtick\": 1}, \"font\": {\"color\": \"#FFF\"}}, {\"linkText\": \"Export to plot.ly\", \"showLink\": true})});</script>"
      ],
      "text/vnd.plotly.v1+html": [
       "<div id=\"0b9edd94-2be3-4fa3-b205-eb49f6fb9527\" style=\"height: 300px; width: 300px;\" class=\"plotly-graph-div\"></div><script type=\"text/javascript\">require([\"plotly\"], function(Plotly) { window.PLOTLYENV=window.PLOTLYENV || {};window.PLOTLYENV.BASE_URL=\"https://plot.ly\";Plotly.newPlot(\"0b9edd94-2be3-4fa3-b205-eb49f6fb9527\", [{\"colorscale\": \"Jet\", \"z\": [[0.19777563707057502, 0.2016925572308736, 0.2046542368550643, 0.20690847536790957, 0.20862582731895643, 0.20994372741007636], [0.2488005784646748, 0.25202052015600684, 0.25451888495904995, 0.25643466271433707, 0.2579173120007067, 0.25907799746211213], [0.14967477223748554, 0.14798342551020346, 0.1466786804291361, 0.1456251119162831, 0.14473573922399066, 0.14395310756476415], [0.13776458295079347, 0.13593338347067246, 0.13456447875994645, 0.13358144418421813, 0.13292317247984692, 0.13250594726798484], [0.13409281455104693, 0.13241219055902084, 0.1312797180628726, 0.13054367554026727, 0.13007305610549022, 0.12977764952432952], [0.13189116559877792, 0.12995746107739764, 0.12830353995409327, 0.1269061797956881, 0.12572442850454577, 0.12474109014846484]], \"type\": \"heatmap\"}], {\"plot_bgcolor\": \"#000\", \"paper_bgcolor\": \"#000\", \"width\": 300, \"title\": \"5 Blobs:Confidence after 300 Iters\", \"yaxis\": {\"title\": \"Count Word\", \"tickcolor\": \"#FFF\", \"range\": [-0.5, 5.5], \"dtick\": 1}, \"height\": 300, \"titlefont\": {\"color\": \"#FFF\"}, \"xaxis\": {\"title\": \"Glimpses\", \"tickcolor\": \"#FFF\", \"range\": [-0.5, 5.5], \"dtick\": 1}, \"font\": {\"color\": \"#FFF\"}}, {\"linkText\": \"Export to plot.ly\", \"showLink\": true})});</script>"
      ]
     },
     "metadata": {},
     "output_type": "display_data"
    },
    {
     "data": {
      "application/vnd.plotly.v1+json": {
       "data": [
        {
         "colorscale": "Jet",
         "type": "heatmap",
         "z": [
          [
           0.20779097671363614,
           0.21390579475914911,
           0.21944035774476695,
           0.22445713235796383,
           0.22883288501932197,
           0.23272924318701957
          ],
          [
           0.2834343673825433,
           0.28708223928550575,
           0.2896038673287359,
           0.29134779793854537,
           0.2925267556827168,
           0.2934110878782103
          ],
          [
           0.14414794558281477,
           0.14178729892644967,
           0.13964788007299186,
           0.13773098755127497,
           0.13609526377492134,
           0.1346224297970711
          ],
          [
           0.12605306336626532,
           0.12299332018471193,
           0.1204531732044516,
           0.11827769516321422,
           0.11645969199838775,
           0.11485595673479373
          ],
          [
           0.11994437395110004,
           0.11749227999817645,
           0.115624285069806,
           0.11422652947463488,
           0.11321212673254082,
           0.11247107761453037
          ],
          [
           0.11862854967130927,
           0.11673836320448198,
           0.11522971271473255,
           0.11395912034525288,
           0.11287253004368641,
           0.11190949955029801
          ]
         ]
        }
       ],
       "layout": {
        "font": {
         "color": "#FFF"
        },
        "height": 300,
        "paper_bgcolor": "#000",
        "plot_bgcolor": "#000",
        "title": "5 Blobs:Confidence after 400 Iters",
        "titlefont": {
         "color": "#FFF"
        },
        "width": 300,
        "xaxis": {
         "dtick": 1,
         "range": [
          -0.5,
          5.5
         ],
         "tickcolor": "#FFF",
         "title": "Glimpses"
        },
        "yaxis": {
         "dtick": 1,
         "range": [
          -0.5,
          5.5
         ],
         "tickcolor": "#FFF",
         "title": "Count Word"
        }
       }
      },
      "text/html": [
       "<div id=\"c107d7d0-314d-4c4e-8deb-a2b29a62cb7a\" style=\"height: 300px; width: 300px;\" class=\"plotly-graph-div\"></div><script type=\"text/javascript\">require([\"plotly\"], function(Plotly) { window.PLOTLYENV=window.PLOTLYENV || {};window.PLOTLYENV.BASE_URL=\"https://plot.ly\";Plotly.newPlot(\"c107d7d0-314d-4c4e-8deb-a2b29a62cb7a\", [{\"colorscale\": \"Jet\", \"z\": [[0.20779097671363614, 0.21390579475914911, 0.21944035774476695, 0.22445713235796383, 0.22883288501932197, 0.23272924318701957], [0.2834343673825433, 0.28708223928550575, 0.2896038673287359, 0.29134779793854537, 0.2925267556827168, 0.2934110878782103], [0.14414794558281477, 0.14178729892644967, 0.13964788007299186, 0.13773098755127497, 0.13609526377492134, 0.1346224297970711], [0.12605306336626532, 0.12299332018471193, 0.1204531732044516, 0.11827769516321422, 0.11645969199838775, 0.11485595673479373], [0.11994437395110004, 0.11749227999817645, 0.115624285069806, 0.11422652947463488, 0.11321212673254082, 0.11247107761453037], [0.11862854967130927, 0.11673836320448198, 0.11522971271473255, 0.11395912034525288, 0.11287253004368641, 0.11190949955029801]], \"type\": \"heatmap\"}], {\"plot_bgcolor\": \"#000\", \"paper_bgcolor\": \"#000\", \"width\": 300, \"title\": \"5 Blobs:Confidence after 400 Iters\", \"yaxis\": {\"title\": \"Count Word\", \"tickcolor\": \"#FFF\", \"range\": [-0.5, 5.5], \"dtick\": 1}, \"height\": 300, \"titlefont\": {\"color\": \"#FFF\"}, \"xaxis\": {\"title\": \"Glimpses\", \"tickcolor\": \"#FFF\", \"range\": [-0.5, 5.5], \"dtick\": 1}, \"font\": {\"color\": \"#FFF\"}}, {\"linkText\": \"Export to plot.ly\", \"showLink\": true})});</script>"
      ],
      "text/vnd.plotly.v1+html": [
       "<div id=\"c107d7d0-314d-4c4e-8deb-a2b29a62cb7a\" style=\"height: 300px; width: 300px;\" class=\"plotly-graph-div\"></div><script type=\"text/javascript\">require([\"plotly\"], function(Plotly) { window.PLOTLYENV=window.PLOTLYENV || {};window.PLOTLYENV.BASE_URL=\"https://plot.ly\";Plotly.newPlot(\"c107d7d0-314d-4c4e-8deb-a2b29a62cb7a\", [{\"colorscale\": \"Jet\", \"z\": [[0.20779097671363614, 0.21390579475914911, 0.21944035774476695, 0.22445713235796383, 0.22883288501932197, 0.23272924318701957], [0.2834343673825433, 0.28708223928550575, 0.2896038673287359, 0.29134779793854537, 0.2925267556827168, 0.2934110878782103], [0.14414794558281477, 0.14178729892644967, 0.13964788007299186, 0.13773098755127497, 0.13609526377492134, 0.1346224297970711], [0.12605306336626532, 0.12299332018471193, 0.1204531732044516, 0.11827769516321422, 0.11645969199838775, 0.11485595673479373], [0.11994437395110004, 0.11749227999817645, 0.115624285069806, 0.11422652947463488, 0.11321212673254082, 0.11247107761453037], [0.11862854967130927, 0.11673836320448198, 0.11522971271473255, 0.11395912034525288, 0.11287253004368641, 0.11190949955029801]], \"type\": \"heatmap\"}], {\"plot_bgcolor\": \"#000\", \"paper_bgcolor\": \"#000\", \"width\": 300, \"title\": \"5 Blobs:Confidence after 400 Iters\", \"yaxis\": {\"title\": \"Count Word\", \"tickcolor\": \"#FFF\", \"range\": [-0.5, 5.5], \"dtick\": 1}, \"height\": 300, \"titlefont\": {\"color\": \"#FFF\"}, \"xaxis\": {\"title\": \"Glimpses\", \"tickcolor\": \"#FFF\", \"range\": [-0.5, 5.5], \"dtick\": 1}, \"font\": {\"color\": \"#FFF\"}}, {\"linkText\": \"Export to plot.ly\", \"showLink\": true})});</script>"
      ]
     },
     "metadata": {},
     "output_type": "display_data"
    },
    {
     "data": {
      "application/vnd.plotly.v1+json": {
       "data": [
        {
         "colorscale": "Jet",
         "type": "heatmap",
         "z": [
          [
           0.23489552029997615,
           0.31317586114495705,
           0.40572662409019433,
           0.48574730330333415,
           0.5456078157348218,
           0.5872773079838818
          ],
          [
           0.36007731977978047,
           0.3736188084617917,
           0.3627922285180611,
           0.3326427838282996,
           0.30375617333042065,
           0.28028269953542984
          ],
          [
           0.12555801095648023,
           0.09807004160786224,
           0.07351580439335408,
           0.05832955997511204,
           0.04877087848571527,
           0.04313636949197785
          ],
          [
           0.10272716418011604,
           0.08232240698632157,
           0.06327494716740267,
           0.05138565867678204,
           0.04370472837798646,
           0.03908529241202588
          ],
          [
           0.09032932709478346,
           0.06893420351300827,
           0.05014206160416781,
           0.038789664228789496,
           0.03189269822854285,
           0.027893570151650417
          ],
          [
           0.08641192318066954,
           0.06387797943418969,
           0.04454762140512183,
           0.03310432222173195,
           0.0262670037975398,
           0.022324019929770726
          ]
         ]
        }
       ],
       "layout": {
        "font": {
         "color": "#FFF"
        },
        "height": 300,
        "paper_bgcolor": "#000",
        "plot_bgcolor": "#000",
        "title": "5 Blobs:Confidence after 600 Iters",
        "titlefont": {
         "color": "#FFF"
        },
        "width": 300,
        "xaxis": {
         "dtick": 1,
         "range": [
          -0.5,
          5.5
         ],
         "tickcolor": "#FFF",
         "title": "Glimpses"
        },
        "yaxis": {
         "dtick": 1,
         "range": [
          -0.5,
          5.5
         ],
         "tickcolor": "#FFF",
         "title": "Count Word"
        }
       }
      },
      "text/html": [
       "<div id=\"579f03ca-57a9-4779-a164-61584adaf987\" style=\"height: 300px; width: 300px;\" class=\"plotly-graph-div\"></div><script type=\"text/javascript\">require([\"plotly\"], function(Plotly) { window.PLOTLYENV=window.PLOTLYENV || {};window.PLOTLYENV.BASE_URL=\"https://plot.ly\";Plotly.newPlot(\"579f03ca-57a9-4779-a164-61584adaf987\", [{\"colorscale\": \"Jet\", \"z\": [[0.23489552029997615, 0.31317586114495705, 0.40572662409019433, 0.48574730330333415, 0.5456078157348218, 0.5872773079838818], [0.36007731977978047, 0.3736188084617917, 0.3627922285180611, 0.3326427838282996, 0.30375617333042065, 0.28028269953542984], [0.12555801095648023, 0.09807004160786224, 0.07351580439335408, 0.05832955997511204, 0.04877087848571527, 0.04313636949197785], [0.10272716418011604, 0.08232240698632157, 0.06327494716740267, 0.05138565867678204, 0.04370472837798646, 0.03908529241202588], [0.09032932709478346, 0.06893420351300827, 0.05014206160416781, 0.038789664228789496, 0.03189269822854285, 0.027893570151650417], [0.08641192318066954, 0.06387797943418969, 0.04454762140512183, 0.03310432222173195, 0.0262670037975398, 0.022324019929770726]], \"type\": \"heatmap\"}], {\"plot_bgcolor\": \"#000\", \"paper_bgcolor\": \"#000\", \"width\": 300, \"title\": \"5 Blobs:Confidence after 600 Iters\", \"yaxis\": {\"title\": \"Count Word\", \"tickcolor\": \"#FFF\", \"range\": [-0.5, 5.5], \"dtick\": 1}, \"height\": 300, \"titlefont\": {\"color\": \"#FFF\"}, \"xaxis\": {\"title\": \"Glimpses\", \"tickcolor\": \"#FFF\", \"range\": [-0.5, 5.5], \"dtick\": 1}, \"font\": {\"color\": \"#FFF\"}}, {\"linkText\": \"Export to plot.ly\", \"showLink\": true})});</script>"
      ],
      "text/vnd.plotly.v1+html": [
       "<div id=\"579f03ca-57a9-4779-a164-61584adaf987\" style=\"height: 300px; width: 300px;\" class=\"plotly-graph-div\"></div><script type=\"text/javascript\">require([\"plotly\"], function(Plotly) { window.PLOTLYENV=window.PLOTLYENV || {};window.PLOTLYENV.BASE_URL=\"https://plot.ly\";Plotly.newPlot(\"579f03ca-57a9-4779-a164-61584adaf987\", [{\"colorscale\": \"Jet\", \"z\": [[0.23489552029997615, 0.31317586114495705, 0.40572662409019433, 0.48574730330333415, 0.5456078157348218, 0.5872773079838818], [0.36007731977978047, 0.3736188084617917, 0.3627922285180611, 0.3326427838282996, 0.30375617333042065, 0.28028269953542984], [0.12555801095648023, 0.09807004160786224, 0.07351580439335408, 0.05832955997511204, 0.04877087848571527, 0.04313636949197785], [0.10272716418011604, 0.08232240698632157, 0.06327494716740267, 0.05138565867678204, 0.04370472837798646, 0.03908529241202588], [0.09032932709478346, 0.06893420351300827, 0.05014206160416781, 0.038789664228789496, 0.03189269822854285, 0.027893570151650417], [0.08641192318066954, 0.06387797943418969, 0.04454762140512183, 0.03310432222173195, 0.0262670037975398, 0.022324019929770726]], \"type\": \"heatmap\"}], {\"plot_bgcolor\": \"#000\", \"paper_bgcolor\": \"#000\", \"width\": 300, \"title\": \"5 Blobs:Confidence after 600 Iters\", \"yaxis\": {\"title\": \"Count Word\", \"tickcolor\": \"#FFF\", \"range\": [-0.5, 5.5], \"dtick\": 1}, \"height\": 300, \"titlefont\": {\"color\": \"#FFF\"}, \"xaxis\": {\"title\": \"Glimpses\", \"tickcolor\": \"#FFF\", \"range\": [-0.5, 5.5], \"dtick\": 1}, \"font\": {\"color\": \"#FFF\"}}, {\"linkText\": \"Export to plot.ly\", \"showLink\": true})});</script>"
      ]
     },
     "metadata": {},
     "output_type": "display_data"
    },
    {
     "data": {
      "application/vnd.plotly.v1+json": {
       "data": [
        {
         "colorscale": "Jet",
         "type": "heatmap",
         "z": [
          [
           0.19531506118203018,
           0.3249213817794111,
           0.47896793184040404,
           0.6754626024336682,
           0.7345042255718552,
           0.8215976433150514
          ],
          [
           0.42768634854392973,
           0.4286823871522439,
           0.36783632035573094,
           0.22903722550563937,
           0.19309569581087208,
           0.12512326550062783
          ],
          [
           0.1252089718893007,
           0.08550112792776292,
           0.05488566542973714,
           0.03406559277235381,
           0.0258850323837021,
           0.01873465106100589
          ],
          [
           0.0934950301809761,
           0.06500209681937909,
           0.043528026442173594,
           0.029554303717036906,
           0.023314686144782326,
           0.0179614160725279
          ],
          [
           0.08132702675142378,
           0.05155188680494042,
           0.030787340881601222,
           0.01873062522980237,
           0.01390269098589702,
           0.010186569908882462
          ],
          [
           0.07696695711099877,
           0.04434053034999247,
           0.023994139086942316,
           0.013149048027153613,
           0.009297079142258274,
           0.006395846540936691
          ]
         ]
        }
       ],
       "layout": {
        "font": {
         "color": "#FFF"
        },
        "height": 300,
        "paper_bgcolor": "#000",
        "plot_bgcolor": "#000",
        "title": "5 Blobs:Confidence after 800 Iters",
        "titlefont": {
         "color": "#FFF"
        },
        "width": 300,
        "xaxis": {
         "dtick": 1,
         "range": [
          -0.5,
          5.5
         ],
         "tickcolor": "#FFF",
         "title": "Glimpses"
        },
        "yaxis": {
         "dtick": 1,
         "range": [
          -0.5,
          5.5
         ],
         "tickcolor": "#FFF",
         "title": "Count Word"
        }
       }
      },
      "text/html": [
       "<div id=\"a2db327c-676c-45e8-ba74-247c7a43cb83\" style=\"height: 300px; width: 300px;\" class=\"plotly-graph-div\"></div><script type=\"text/javascript\">require([\"plotly\"], function(Plotly) { window.PLOTLYENV=window.PLOTLYENV || {};window.PLOTLYENV.BASE_URL=\"https://plot.ly\";Plotly.newPlot(\"a2db327c-676c-45e8-ba74-247c7a43cb83\", [{\"colorscale\": \"Jet\", \"z\": [[0.19531506118203018, 0.3249213817794111, 0.47896793184040404, 0.6754626024336682, 0.7345042255718552, 0.8215976433150514], [0.42768634854392973, 0.4286823871522439, 0.36783632035573094, 0.22903722550563937, 0.19309569581087208, 0.12512326550062783], [0.1252089718893007, 0.08550112792776292, 0.05488566542973714, 0.03406559277235381, 0.0258850323837021, 0.01873465106100589], [0.0934950301809761, 0.06500209681937909, 0.043528026442173594, 0.029554303717036906, 0.023314686144782326, 0.0179614160725279], [0.08132702675142378, 0.05155188680494042, 0.030787340881601222, 0.01873062522980237, 0.01390269098589702, 0.010186569908882462], [0.07696695711099877, 0.04434053034999247, 0.023994139086942316, 0.013149048027153613, 0.009297079142258274, 0.006395846540936691]], \"type\": \"heatmap\"}], {\"plot_bgcolor\": \"#000\", \"paper_bgcolor\": \"#000\", \"width\": 300, \"title\": \"5 Blobs:Confidence after 800 Iters\", \"yaxis\": {\"title\": \"Count Word\", \"tickcolor\": \"#FFF\", \"range\": [-0.5, 5.5], \"dtick\": 1}, \"height\": 300, \"titlefont\": {\"color\": \"#FFF\"}, \"xaxis\": {\"title\": \"Glimpses\", \"tickcolor\": \"#FFF\", \"range\": [-0.5, 5.5], \"dtick\": 1}, \"font\": {\"color\": \"#FFF\"}}, {\"linkText\": \"Export to plot.ly\", \"showLink\": true})});</script>"
      ],
      "text/vnd.plotly.v1+html": [
       "<div id=\"a2db327c-676c-45e8-ba74-247c7a43cb83\" style=\"height: 300px; width: 300px;\" class=\"plotly-graph-div\"></div><script type=\"text/javascript\">require([\"plotly\"], function(Plotly) { window.PLOTLYENV=window.PLOTLYENV || {};window.PLOTLYENV.BASE_URL=\"https://plot.ly\";Plotly.newPlot(\"a2db327c-676c-45e8-ba74-247c7a43cb83\", [{\"colorscale\": \"Jet\", \"z\": [[0.19531506118203018, 0.3249213817794111, 0.47896793184040404, 0.6754626024336682, 0.7345042255718552, 0.8215976433150514], [0.42768634854392973, 0.4286823871522439, 0.36783632035573094, 0.22903722550563937, 0.19309569581087208, 0.12512326550062783], [0.1252089718893007, 0.08550112792776292, 0.05488566542973714, 0.03406559277235381, 0.0258850323837021, 0.01873465106100589], [0.0934950301809761, 0.06500209681937909, 0.043528026442173594, 0.029554303717036906, 0.023314686144782326, 0.0179614160725279], [0.08132702675142378, 0.05155188680494042, 0.030787340881601222, 0.01873062522980237, 0.01390269098589702, 0.010186569908882462], [0.07696695711099877, 0.04434053034999247, 0.023994139086942316, 0.013149048027153613, 0.009297079142258274, 0.006395846540936691]], \"type\": \"heatmap\"}], {\"plot_bgcolor\": \"#000\", \"paper_bgcolor\": \"#000\", \"width\": 300, \"title\": \"5 Blobs:Confidence after 800 Iters\", \"yaxis\": {\"title\": \"Count Word\", \"tickcolor\": \"#FFF\", \"range\": [-0.5, 5.5], \"dtick\": 1}, \"height\": 300, \"titlefont\": {\"color\": \"#FFF\"}, \"xaxis\": {\"title\": \"Glimpses\", \"tickcolor\": \"#FFF\", \"range\": [-0.5, 5.5], \"dtick\": 1}, \"font\": {\"color\": \"#FFF\"}}, {\"linkText\": \"Export to plot.ly\", \"showLink\": true})});</script>"
      ]
     },
     "metadata": {},
     "output_type": "display_data"
    },
    {
     "data": {
      "application/vnd.plotly.v1+json": {
       "data": [
        {
         "colorscale": "Jet",
         "type": "heatmap",
         "z": [
          [
           0.1025024566683399,
           0.2654742544567266,
           0.45546385500657294,
           0.7647728874136447,
           0.7573247023961084,
           0.891793301462817
          ],
          [
           0.5247341664896834,
           0.21558348862946894,
           0.05103906627372996,
           0.0035029281526582296,
           0.00246941819977804,
           0.0004244359223229036
          ],
          [
           0.14262070817006242,
           0.21783708896006226,
           0.21642888403730756,
           0.09899579498263543,
           0.1010606665202228,
           0.04337700233098908
          ],
          [
           0.08674318001562821,
           0.13844985632149107,
           0.15098607884168422,
           0.0825145506468086,
           0.09080193526065766,
           0.04449309727828981
          ],
          [
           0.0730720730714604,
           0.08845537343323559,
           0.07304271385675362,
           0.031206544922679845,
           0.030170752231032463,
           0.01288092282612448
          ],
          [
           0.07032682918512984,
           0.074199356428538,
           0.05303880290184117,
           0.019006698497358976,
           0.018171967055428853,
           0.007030624759834998
          ]
         ]
        }
       ],
       "layout": {
        "font": {
         "color": "#FFF"
        },
        "height": 300,
        "paper_bgcolor": "#000",
        "plot_bgcolor": "#000",
        "title": "5 Blobs:Confidence after 1200 Iters",
        "titlefont": {
         "color": "#FFF"
        },
        "width": 300,
        "xaxis": {
         "dtick": 1,
         "range": [
          -0.5,
          5.5
         ],
         "tickcolor": "#FFF",
         "title": "Glimpses"
        },
        "yaxis": {
         "dtick": 1,
         "range": [
          -0.5,
          5.5
         ],
         "tickcolor": "#FFF",
         "title": "Count Word"
        }
       }
      },
      "text/html": [
       "<div id=\"42987c58-ab7b-4bc1-bcc1-f63f2f063bcc\" style=\"height: 300px; width: 300px;\" class=\"plotly-graph-div\"></div><script type=\"text/javascript\">require([\"plotly\"], function(Plotly) { window.PLOTLYENV=window.PLOTLYENV || {};window.PLOTLYENV.BASE_URL=\"https://plot.ly\";Plotly.newPlot(\"42987c58-ab7b-4bc1-bcc1-f63f2f063bcc\", [{\"colorscale\": \"Jet\", \"z\": [[0.1025024566683399, 0.2654742544567266, 0.45546385500657294, 0.7647728874136447, 0.7573247023961084, 0.891793301462817], [0.5247341664896834, 0.21558348862946894, 0.05103906627372996, 0.0035029281526582296, 0.00246941819977804, 0.0004244359223229036], [0.14262070817006242, 0.21783708896006226, 0.21642888403730756, 0.09899579498263543, 0.1010606665202228, 0.04337700233098908], [0.08674318001562821, 0.13844985632149107, 0.15098607884168422, 0.0825145506468086, 0.09080193526065766, 0.04449309727828981], [0.0730720730714604, 0.08845537343323559, 0.07304271385675362, 0.031206544922679845, 0.030170752231032463, 0.01288092282612448], [0.07032682918512984, 0.074199356428538, 0.05303880290184117, 0.019006698497358976, 0.018171967055428853, 0.007030624759834998]], \"type\": \"heatmap\"}], {\"plot_bgcolor\": \"#000\", \"paper_bgcolor\": \"#000\", \"width\": 300, \"title\": \"5 Blobs:Confidence after 1200 Iters\", \"yaxis\": {\"title\": \"Count Word\", \"tickcolor\": \"#FFF\", \"range\": [-0.5, 5.5], \"dtick\": 1}, \"height\": 300, \"titlefont\": {\"color\": \"#FFF\"}, \"xaxis\": {\"title\": \"Glimpses\", \"tickcolor\": \"#FFF\", \"range\": [-0.5, 5.5], \"dtick\": 1}, \"font\": {\"color\": \"#FFF\"}}, {\"linkText\": \"Export to plot.ly\", \"showLink\": true})});</script>"
      ],
      "text/vnd.plotly.v1+html": [
       "<div id=\"42987c58-ab7b-4bc1-bcc1-f63f2f063bcc\" style=\"height: 300px; width: 300px;\" class=\"plotly-graph-div\"></div><script type=\"text/javascript\">require([\"plotly\"], function(Plotly) { window.PLOTLYENV=window.PLOTLYENV || {};window.PLOTLYENV.BASE_URL=\"https://plot.ly\";Plotly.newPlot(\"42987c58-ab7b-4bc1-bcc1-f63f2f063bcc\", [{\"colorscale\": \"Jet\", \"z\": [[0.1025024566683399, 0.2654742544567266, 0.45546385500657294, 0.7647728874136447, 0.7573247023961084, 0.891793301462817], [0.5247341664896834, 0.21558348862946894, 0.05103906627372996, 0.0035029281526582296, 0.00246941819977804, 0.0004244359223229036], [0.14262070817006242, 0.21783708896006226, 0.21642888403730756, 0.09899579498263543, 0.1010606665202228, 0.04337700233098908], [0.08674318001562821, 0.13844985632149107, 0.15098607884168422, 0.0825145506468086, 0.09080193526065766, 0.04449309727828981], [0.0730720730714604, 0.08845537343323559, 0.07304271385675362, 0.031206544922679845, 0.030170752231032463, 0.01288092282612448], [0.07032682918512984, 0.074199356428538, 0.05303880290184117, 0.019006698497358976, 0.018171967055428853, 0.007030624759834998]], \"type\": \"heatmap\"}], {\"plot_bgcolor\": \"#000\", \"paper_bgcolor\": \"#000\", \"width\": 300, \"title\": \"5 Blobs:Confidence after 1200 Iters\", \"yaxis\": {\"title\": \"Count Word\", \"tickcolor\": \"#FFF\", \"range\": [-0.5, 5.5], \"dtick\": 1}, \"height\": 300, \"titlefont\": {\"color\": \"#FFF\"}, \"xaxis\": {\"title\": \"Glimpses\", \"tickcolor\": \"#FFF\", \"range\": [-0.5, 5.5], \"dtick\": 1}, \"font\": {\"color\": \"#FFF\"}}, {\"linkText\": \"Export to plot.ly\", \"showLink\": true})});</script>"
      ]
     },
     "metadata": {},
     "output_type": "display_data"
    },
    {
     "data": {
      "application/vnd.plotly.v1+json": {
       "data": [
        {
         "colorscale": "Jet",
         "type": "heatmap",
         "z": [
          [
           0.07270559521771357,
           0.316896889246389,
           0.40134451176785435,
           0.6830746461020036,
           0.6137631156976557,
           0.7817843904233633
          ],
          [
           0.631607928828146,
           0.0535575832972569,
           0.00268525378402056,
           0.00012892849316136173,
           0.00011202753757326545,
           2.0571148104112856e-05
          ],
          [
           0.12642840340946696,
           0.29881078997726696,
           0.2705149814980741,
           0.110254098710165,
           0.1294970394931787,
           0.06047801135244601
          ],
          [
           0.06438478022829403,
           0.16952657131149268,
           0.1959396399267245,
           0.12905405056631886,
           0.16613905166087486,
           0.10095131799593385
          ],
          [
           0.05263005824427513,
           0.09813699182385723,
           0.0898466079656455,
           0.05952743741764127,
           0.06898646665243663,
           0.045056530494970506
          ],
          [
           0.05224277878338616,
           0.06307071050114264,
           0.039668546854612394,
           0.017960392879078753,
           0.02150184246820332,
           0.011708714952846078
          ]
         ]
        }
       ],
       "layout": {
        "font": {
         "color": "#FFF"
        },
        "height": 300,
        "paper_bgcolor": "#000",
        "plot_bgcolor": "#000",
        "title": "5 Blobs:Confidence after 1600 Iters",
        "titlefont": {
         "color": "#FFF"
        },
        "width": 300,
        "xaxis": {
         "dtick": 1,
         "range": [
          -0.5,
          5.5
         ],
         "tickcolor": "#FFF",
         "title": "Glimpses"
        },
        "yaxis": {
         "dtick": 1,
         "range": [
          -0.5,
          5.5
         ],
         "tickcolor": "#FFF",
         "title": "Count Word"
        }
       }
      },
      "text/html": [
       "<div id=\"e272af78-10e6-4785-921b-5ba696b31ed4\" style=\"height: 300px; width: 300px;\" class=\"plotly-graph-div\"></div><script type=\"text/javascript\">require([\"plotly\"], function(Plotly) { window.PLOTLYENV=window.PLOTLYENV || {};window.PLOTLYENV.BASE_URL=\"https://plot.ly\";Plotly.newPlot(\"e272af78-10e6-4785-921b-5ba696b31ed4\", [{\"colorscale\": \"Jet\", \"z\": [[0.07270559521771357, 0.316896889246389, 0.40134451176785435, 0.6830746461020036, 0.6137631156976557, 0.7817843904233633], [0.631607928828146, 0.0535575832972569, 0.00268525378402056, 0.00012892849316136173, 0.00011202753757326545, 2.0571148104112856e-05], [0.12642840340946696, 0.29881078997726696, 0.2705149814980741, 0.110254098710165, 0.1294970394931787, 0.06047801135244601], [0.06438478022829403, 0.16952657131149268, 0.1959396399267245, 0.12905405056631886, 0.16613905166087486, 0.10095131799593385], [0.05263005824427513, 0.09813699182385723, 0.0898466079656455, 0.05952743741764127, 0.06898646665243663, 0.045056530494970506], [0.05224277878338616, 0.06307071050114264, 0.039668546854612394, 0.017960392879078753, 0.02150184246820332, 0.011708714952846078]], \"type\": \"heatmap\"}], {\"plot_bgcolor\": \"#000\", \"paper_bgcolor\": \"#000\", \"width\": 300, \"title\": \"5 Blobs:Confidence after 1600 Iters\", \"yaxis\": {\"title\": \"Count Word\", \"tickcolor\": \"#FFF\", \"range\": [-0.5, 5.5], \"dtick\": 1}, \"height\": 300, \"titlefont\": {\"color\": \"#FFF\"}, \"xaxis\": {\"title\": \"Glimpses\", \"tickcolor\": \"#FFF\", \"range\": [-0.5, 5.5], \"dtick\": 1}, \"font\": {\"color\": \"#FFF\"}}, {\"linkText\": \"Export to plot.ly\", \"showLink\": true})});</script>"
      ],
      "text/vnd.plotly.v1+html": [
       "<div id=\"e272af78-10e6-4785-921b-5ba696b31ed4\" style=\"height: 300px; width: 300px;\" class=\"plotly-graph-div\"></div><script type=\"text/javascript\">require([\"plotly\"], function(Plotly) { window.PLOTLYENV=window.PLOTLYENV || {};window.PLOTLYENV.BASE_URL=\"https://plot.ly\";Plotly.newPlot(\"e272af78-10e6-4785-921b-5ba696b31ed4\", [{\"colorscale\": \"Jet\", \"z\": [[0.07270559521771357, 0.316896889246389, 0.40134451176785435, 0.6830746461020036, 0.6137631156976557, 0.7817843904233633], [0.631607928828146, 0.0535575832972569, 0.00268525378402056, 0.00012892849316136173, 0.00011202753757326545, 2.0571148104112856e-05], [0.12642840340946696, 0.29881078997726696, 0.2705149814980741, 0.110254098710165, 0.1294970394931787, 0.06047801135244601], [0.06438478022829403, 0.16952657131149268, 0.1959396399267245, 0.12905405056631886, 0.16613905166087486, 0.10095131799593385], [0.05263005824427513, 0.09813699182385723, 0.0898466079656455, 0.05952743741764127, 0.06898646665243663, 0.045056530494970506], [0.05224277878338616, 0.06307071050114264, 0.039668546854612394, 0.017960392879078753, 0.02150184246820332, 0.011708714952846078]], \"type\": \"heatmap\"}], {\"plot_bgcolor\": \"#000\", \"paper_bgcolor\": \"#000\", \"width\": 300, \"title\": \"5 Blobs:Confidence after 1600 Iters\", \"yaxis\": {\"title\": \"Count Word\", \"tickcolor\": \"#FFF\", \"range\": [-0.5, 5.5], \"dtick\": 1}, \"height\": 300, \"titlefont\": {\"color\": \"#FFF\"}, \"xaxis\": {\"title\": \"Glimpses\", \"tickcolor\": \"#FFF\", \"range\": [-0.5, 5.5], \"dtick\": 1}, \"font\": {\"color\": \"#FFF\"}}, {\"linkText\": \"Export to plot.ly\", \"showLink\": true})});</script>"
      ]
     },
     "metadata": {},
     "output_type": "display_data"
    },
    {
     "data": {
      "application/vnd.plotly.v1+json": {
       "data": [
        {
         "colorscale": "Jet",
         "type": "heatmap",
         "z": [
          [
           0.018525218906935096,
           0.15304243693248346,
           0.34430184557332866,
           0.6952552253227595,
           0.6336881346892232,
           0.780368113819583
          ],
          [
           0.8338007057168269,
           0.016900755932524488,
           0.00013370990356901304,
           4.042192286192451e-06,
           3.01419874986303e-06,
           5.769599264724408e-07
          ],
          [
           0.08675348885925527,
           0.5372028782856971,
           0.24155548850184255,
           0.03042311726350746,
           0.027118571898375417,
           0.007908679798319766
          ],
          [
           0.022674718345954123,
           0.1754890950831392,
           0.2720903112523586,
           0.14867950898694052,
           0.19105336545532625,
           0.10043708890459001
          ],
          [
           0.017826728729963166,
           0.06905877655291515,
           0.09769951247668966,
           0.09526160118085307,
           0.1085690380539019,
           0.08597093205241772
          ],
          [
           0.02041848561156418,
           0.04830541122236578,
           0.044218440180527285,
           0.030375842616078348,
           0.039567200786770416,
           0.0253139327090058
          ]
         ]
        }
       ],
       "layout": {
        "font": {
         "color": "#FFF"
        },
        "height": 300,
        "paper_bgcolor": "#000",
        "plot_bgcolor": "#000",
        "title": "5 Blobs:Confidence after 2400 Iters",
        "titlefont": {
         "color": "#FFF"
        },
        "width": 300,
        "xaxis": {
         "dtick": 1,
         "range": [
          -0.5,
          5.5
         ],
         "tickcolor": "#FFF",
         "title": "Glimpses"
        },
        "yaxis": {
         "dtick": 1,
         "range": [
          -0.5,
          5.5
         ],
         "tickcolor": "#FFF",
         "title": "Count Word"
        }
       }
      },
      "text/html": [
       "<div id=\"adf1ca2d-b545-410b-bde8-3829eca73b3d\" style=\"height: 300px; width: 300px;\" class=\"plotly-graph-div\"></div><script type=\"text/javascript\">require([\"plotly\"], function(Plotly) { window.PLOTLYENV=window.PLOTLYENV || {};window.PLOTLYENV.BASE_URL=\"https://plot.ly\";Plotly.newPlot(\"adf1ca2d-b545-410b-bde8-3829eca73b3d\", [{\"colorscale\": \"Jet\", \"z\": [[0.018525218906935096, 0.15304243693248346, 0.34430184557332866, 0.6952552253227595, 0.6336881346892232, 0.780368113819583], [0.8338007057168269, 0.016900755932524488, 0.00013370990356901304, 4.042192286192451e-06, 3.01419874986303e-06, 5.769599264724408e-07], [0.08675348885925527, 0.5372028782856971, 0.24155548850184255, 0.03042311726350746, 0.027118571898375417, 0.007908679798319766], [0.022674718345954123, 0.1754890950831392, 0.2720903112523586, 0.14867950898694052, 0.19105336545532625, 0.10043708890459001], [0.017826728729963166, 0.06905877655291515, 0.09769951247668966, 0.09526160118085307, 0.1085690380539019, 0.08597093205241772], [0.02041848561156418, 0.04830541122236578, 0.044218440180527285, 0.030375842616078348, 0.039567200786770416, 0.0253139327090058]], \"type\": \"heatmap\"}], {\"plot_bgcolor\": \"#000\", \"paper_bgcolor\": \"#000\", \"width\": 300, \"title\": \"5 Blobs:Confidence after 2400 Iters\", \"yaxis\": {\"title\": \"Count Word\", \"tickcolor\": \"#FFF\", \"range\": [-0.5, 5.5], \"dtick\": 1}, \"height\": 300, \"titlefont\": {\"color\": \"#FFF\"}, \"xaxis\": {\"title\": \"Glimpses\", \"tickcolor\": \"#FFF\", \"range\": [-0.5, 5.5], \"dtick\": 1}, \"font\": {\"color\": \"#FFF\"}}, {\"linkText\": \"Export to plot.ly\", \"showLink\": true})});</script>"
      ],
      "text/vnd.plotly.v1+html": [
       "<div id=\"adf1ca2d-b545-410b-bde8-3829eca73b3d\" style=\"height: 300px; width: 300px;\" class=\"plotly-graph-div\"></div><script type=\"text/javascript\">require([\"plotly\"], function(Plotly) { window.PLOTLYENV=window.PLOTLYENV || {};window.PLOTLYENV.BASE_URL=\"https://plot.ly\";Plotly.newPlot(\"adf1ca2d-b545-410b-bde8-3829eca73b3d\", [{\"colorscale\": \"Jet\", \"z\": [[0.018525218906935096, 0.15304243693248346, 0.34430184557332866, 0.6952552253227595, 0.6336881346892232, 0.780368113819583], [0.8338007057168269, 0.016900755932524488, 0.00013370990356901304, 4.042192286192451e-06, 3.01419874986303e-06, 5.769599264724408e-07], [0.08675348885925527, 0.5372028782856971, 0.24155548850184255, 0.03042311726350746, 0.027118571898375417, 0.007908679798319766], [0.022674718345954123, 0.1754890950831392, 0.2720903112523586, 0.14867950898694052, 0.19105336545532625, 0.10043708890459001], [0.017826728729963166, 0.06905877655291515, 0.09769951247668966, 0.09526160118085307, 0.1085690380539019, 0.08597093205241772], [0.02041848561156418, 0.04830541122236578, 0.044218440180527285, 0.030375842616078348, 0.039567200786770416, 0.0253139327090058]], \"type\": \"heatmap\"}], {\"plot_bgcolor\": \"#000\", \"paper_bgcolor\": \"#000\", \"width\": 300, \"title\": \"5 Blobs:Confidence after 2400 Iters\", \"yaxis\": {\"title\": \"Count Word\", \"tickcolor\": \"#FFF\", \"range\": [-0.5, 5.5], \"dtick\": 1}, \"height\": 300, \"titlefont\": {\"color\": \"#FFF\"}, \"xaxis\": {\"title\": \"Glimpses\", \"tickcolor\": \"#FFF\", \"range\": [-0.5, 5.5], \"dtick\": 1}, \"font\": {\"color\": \"#FFF\"}}, {\"linkText\": \"Export to plot.ly\", \"showLink\": true})});</script>"
      ]
     },
     "metadata": {},
     "output_type": "display_data"
    },
    {
     "data": {
      "application/vnd.plotly.v1+json": {
       "data": [
        {
         "colorscale": "Jet",
         "type": "heatmap",
         "z": [
          [
           0.009939406744184143,
           0.2768000119252024,
           0.6369392336316498,
           0.6263668672696392,
           0.5652784250379013,
           0.5257016748233357
          ],
          [
           0.9328068987703593,
           0.005178272442918092,
           4.286725015563906e-06,
           2.6190014544305396e-07,
           1.2724476130377207e-07,
           9.442476588223772e-08
          ],
          [
           0.04334591461907161,
           0.5065552770269078,
           0.023734498058115047,
           0.0030659863243245778,
           0.0016985611295842905,
           0.0013523285310136214
          ],
          [
           0.0057253546354422745,
           0.16245956631533837,
           0.23422908113067226,
           0.19415383539839814,
           0.1956350400536949,
           0.1990795349845437
          ],
          [
           0.003852055386169822,
           0.026496958291698132,
           0.06682288999506925,
           0.1147998207229516,
           0.1508541423904774,
           0.17164915330605046
          ],
          [
           0.004329996049440733,
           0.022509526293216196,
           0.03826962092902347,
           0.06161284426790025,
           0.08653331085379198,
           0.10221682454728749
          ]
         ]
        }
       ],
       "layout": {
        "font": {
         "color": "#FFF"
        },
        "height": 300,
        "paper_bgcolor": "#000",
        "plot_bgcolor": "#000",
        "title": "5 Blobs:Confidence after 3200 Iters",
        "titlefont": {
         "color": "#FFF"
        },
        "width": 300,
        "xaxis": {
         "dtick": 1,
         "range": [
          -0.5,
          5.5
         ],
         "tickcolor": "#FFF",
         "title": "Glimpses"
        },
        "yaxis": {
         "dtick": 1,
         "range": [
          -0.5,
          5.5
         ],
         "tickcolor": "#FFF",
         "title": "Count Word"
        }
       }
      },
      "text/html": [
       "<div id=\"4ecdb7e8-17a5-4f20-8b1c-a36e4ec3836e\" style=\"height: 300px; width: 300px;\" class=\"plotly-graph-div\"></div><script type=\"text/javascript\">require([\"plotly\"], function(Plotly) { window.PLOTLYENV=window.PLOTLYENV || {};window.PLOTLYENV.BASE_URL=\"https://plot.ly\";Plotly.newPlot(\"4ecdb7e8-17a5-4f20-8b1c-a36e4ec3836e\", [{\"colorscale\": \"Jet\", \"z\": [[0.009939406744184143, 0.2768000119252024, 0.6369392336316498, 0.6263668672696392, 0.5652784250379013, 0.5257016748233357], [0.9328068987703593, 0.005178272442918092, 4.286725015563906e-06, 2.6190014544305396e-07, 1.2724476130377207e-07, 9.442476588223772e-08], [0.04334591461907161, 0.5065552770269078, 0.023734498058115047, 0.0030659863243245778, 0.0016985611295842905, 0.0013523285310136214], [0.0057253546354422745, 0.16245956631533837, 0.23422908113067226, 0.19415383539839814, 0.1956350400536949, 0.1990795349845437], [0.003852055386169822, 0.026496958291698132, 0.06682288999506925, 0.1147998207229516, 0.1508541423904774, 0.17164915330605046], [0.004329996049440733, 0.022509526293216196, 0.03826962092902347, 0.06161284426790025, 0.08653331085379198, 0.10221682454728749]], \"type\": \"heatmap\"}], {\"plot_bgcolor\": \"#000\", \"paper_bgcolor\": \"#000\", \"width\": 300, \"title\": \"5 Blobs:Confidence after 3200 Iters\", \"yaxis\": {\"title\": \"Count Word\", \"tickcolor\": \"#FFF\", \"range\": [-0.5, 5.5], \"dtick\": 1}, \"height\": 300, \"titlefont\": {\"color\": \"#FFF\"}, \"xaxis\": {\"title\": \"Glimpses\", \"tickcolor\": \"#FFF\", \"range\": [-0.5, 5.5], \"dtick\": 1}, \"font\": {\"color\": \"#FFF\"}}, {\"linkText\": \"Export to plot.ly\", \"showLink\": true})});</script>"
      ],
      "text/vnd.plotly.v1+html": [
       "<div id=\"4ecdb7e8-17a5-4f20-8b1c-a36e4ec3836e\" style=\"height: 300px; width: 300px;\" class=\"plotly-graph-div\"></div><script type=\"text/javascript\">require([\"plotly\"], function(Plotly) { window.PLOTLYENV=window.PLOTLYENV || {};window.PLOTLYENV.BASE_URL=\"https://plot.ly\";Plotly.newPlot(\"4ecdb7e8-17a5-4f20-8b1c-a36e4ec3836e\", [{\"colorscale\": \"Jet\", \"z\": [[0.009939406744184143, 0.2768000119252024, 0.6369392336316498, 0.6263668672696392, 0.5652784250379013, 0.5257016748233357], [0.9328068987703593, 0.005178272442918092, 4.286725015563906e-06, 2.6190014544305396e-07, 1.2724476130377207e-07, 9.442476588223772e-08], [0.04334591461907161, 0.5065552770269078, 0.023734498058115047, 0.0030659863243245778, 0.0016985611295842905, 0.0013523285310136214], [0.0057253546354422745, 0.16245956631533837, 0.23422908113067226, 0.19415383539839814, 0.1956350400536949, 0.1990795349845437], [0.003852055386169822, 0.026496958291698132, 0.06682288999506925, 0.1147998207229516, 0.1508541423904774, 0.17164915330605046], [0.004329996049440733, 0.022509526293216196, 0.03826962092902347, 0.06161284426790025, 0.08653331085379198, 0.10221682454728749]], \"type\": \"heatmap\"}], {\"plot_bgcolor\": \"#000\", \"paper_bgcolor\": \"#000\", \"width\": 300, \"title\": \"5 Blobs:Confidence after 3200 Iters\", \"yaxis\": {\"title\": \"Count Word\", \"tickcolor\": \"#FFF\", \"range\": [-0.5, 5.5], \"dtick\": 1}, \"height\": 300, \"titlefont\": {\"color\": \"#FFF\"}, \"xaxis\": {\"title\": \"Glimpses\", \"tickcolor\": \"#FFF\", \"range\": [-0.5, 5.5], \"dtick\": 1}, \"font\": {\"color\": \"#FFF\"}}, {\"linkText\": \"Export to plot.ly\", \"showLink\": true})});</script>"
      ]
     },
     "metadata": {},
     "output_type": "display_data"
    },
    {
     "data": {
      "application/vnd.plotly.v1+json": {
       "data": [
        {
         "colorscale": "Jet",
         "type": "heatmap",
         "z": [
          [
           0.00047903091691681816,
           0.2185186643402031,
           0.6386954306797812,
           0.5710462531632042,
           0.4732304113469452,
           0.4098335344507979
          ],
          [
           0.9917315739182562,
           0.019716016634584162,
           2.9478104631944457e-05,
           1.8154844509930472e-07,
           1.8619297999612398e-08,
           1.01385189355255e-08
          ],
          [
           0.007278658090159554,
           0.7067305412767851,
           0.11151961084221067,
           0.003852291732957153,
           0.00022828955544288958,
           0.00011671452614078419
          ],
          [
           0.00030604261253145326,
           0.04149254906903599,
           0.11679196530393068,
           0.0682703177413401,
           0.029673595339472017,
           0.022945933151718684
          ],
          [
           0.00010029389803983637,
           0.01074441901592267,
           0.11290480766537592,
           0.2981543657098415,
           0.3996306847380605,
           0.4418817986953947
          ],
          [
           0.00010367770067410582,
           0.0027970697367691827,
           0.020057997026274307,
           0.05867587734895654,
           0.09723630626906185,
           0.1252213066873844
          ]
         ]
        }
       ],
       "layout": {
        "font": {
         "color": "#FFF"
        },
        "height": 300,
        "paper_bgcolor": "#000",
        "plot_bgcolor": "#000",
        "title": "5 Blobs:Confidence after 4800 Iters",
        "titlefont": {
         "color": "#FFF"
        },
        "width": 300,
        "xaxis": {
         "dtick": 1,
         "range": [
          -0.5,
          5.5
         ],
         "tickcolor": "#FFF",
         "title": "Glimpses"
        },
        "yaxis": {
         "dtick": 1,
         "range": [
          -0.5,
          5.5
         ],
         "tickcolor": "#FFF",
         "title": "Count Word"
        }
       }
      },
      "text/html": [
       "<div id=\"06781505-6c15-4c04-bac7-554a40c9de9e\" style=\"height: 300px; width: 300px;\" class=\"plotly-graph-div\"></div><script type=\"text/javascript\">require([\"plotly\"], function(Plotly) { window.PLOTLYENV=window.PLOTLYENV || {};window.PLOTLYENV.BASE_URL=\"https://plot.ly\";Plotly.newPlot(\"06781505-6c15-4c04-bac7-554a40c9de9e\", [{\"colorscale\": \"Jet\", \"z\": [[0.00047903091691681816, 0.2185186643402031, 0.6386954306797812, 0.5710462531632042, 0.4732304113469452, 0.4098335344507979], [0.9917315739182562, 0.019716016634584162, 2.9478104631944457e-05, 1.8154844509930472e-07, 1.8619297999612398e-08, 1.01385189355255e-08], [0.007278658090159554, 0.7067305412767851, 0.11151961084221067, 0.003852291732957153, 0.00022828955544288958, 0.00011671452614078419], [0.00030604261253145326, 0.04149254906903599, 0.11679196530393068, 0.0682703177413401, 0.029673595339472017, 0.022945933151718684], [0.00010029389803983637, 0.01074441901592267, 0.11290480766537592, 0.2981543657098415, 0.3996306847380605, 0.4418817986953947], [0.00010367770067410582, 0.0027970697367691827, 0.020057997026274307, 0.05867587734895654, 0.09723630626906185, 0.1252213066873844]], \"type\": \"heatmap\"}], {\"plot_bgcolor\": \"#000\", \"paper_bgcolor\": \"#000\", \"width\": 300, \"title\": \"5 Blobs:Confidence after 4800 Iters\", \"yaxis\": {\"title\": \"Count Word\", \"tickcolor\": \"#FFF\", \"range\": [-0.5, 5.5], \"dtick\": 1}, \"height\": 300, \"titlefont\": {\"color\": \"#FFF\"}, \"xaxis\": {\"title\": \"Glimpses\", \"tickcolor\": \"#FFF\", \"range\": [-0.5, 5.5], \"dtick\": 1}, \"font\": {\"color\": \"#FFF\"}}, {\"linkText\": \"Export to plot.ly\", \"showLink\": true})});</script>"
      ],
      "text/vnd.plotly.v1+html": [
       "<div id=\"06781505-6c15-4c04-bac7-554a40c9de9e\" style=\"height: 300px; width: 300px;\" class=\"plotly-graph-div\"></div><script type=\"text/javascript\">require([\"plotly\"], function(Plotly) { window.PLOTLYENV=window.PLOTLYENV || {};window.PLOTLYENV.BASE_URL=\"https://plot.ly\";Plotly.newPlot(\"06781505-6c15-4c04-bac7-554a40c9de9e\", [{\"colorscale\": \"Jet\", \"z\": [[0.00047903091691681816, 0.2185186643402031, 0.6386954306797812, 0.5710462531632042, 0.4732304113469452, 0.4098335344507979], [0.9917315739182562, 0.019716016634584162, 2.9478104631944457e-05, 1.8154844509930472e-07, 1.8619297999612398e-08, 1.01385189355255e-08], [0.007278658090159554, 0.7067305412767851, 0.11151961084221067, 0.003852291732957153, 0.00022828955544288958, 0.00011671452614078419], [0.00030604261253145326, 0.04149254906903599, 0.11679196530393068, 0.0682703177413401, 0.029673595339472017, 0.022945933151718684], [0.00010029389803983637, 0.01074441901592267, 0.11290480766537592, 0.2981543657098415, 0.3996306847380605, 0.4418817986953947], [0.00010367770067410582, 0.0027970697367691827, 0.020057997026274307, 0.05867587734895654, 0.09723630626906185, 0.1252213066873844]], \"type\": \"heatmap\"}], {\"plot_bgcolor\": \"#000\", \"paper_bgcolor\": \"#000\", \"width\": 300, \"title\": \"5 Blobs:Confidence after 4800 Iters\", \"yaxis\": {\"title\": \"Count Word\", \"tickcolor\": \"#FFF\", \"range\": [-0.5, 5.5], \"dtick\": 1}, \"height\": 300, \"titlefont\": {\"color\": \"#FFF\"}, \"xaxis\": {\"title\": \"Glimpses\", \"tickcolor\": \"#FFF\", \"range\": [-0.5, 5.5], \"dtick\": 1}, \"font\": {\"color\": \"#FFF\"}}, {\"linkText\": \"Export to plot.ly\", \"showLink\": true})});</script>"
      ]
     },
     "metadata": {},
     "output_type": "display_data"
    },
    {
     "data": {
      "application/vnd.plotly.v1+json": {
       "data": [
        {
         "colorscale": "Jet",
         "type": "heatmap",
         "z": [
          [
           0.00023401951595326722,
           0.09763333825096537,
           0.6102978053307986,
           0.5593783859059333,
           0.45959598277232466,
           0.41397734056979985
          ],
          [
           0.9942928747781199,
           0.000697498009937709,
           8.242474481718442e-07,
           3.612939097121244e-08,
           1.3202276085010065e-08,
           8.041253421834513e-09
          ],
          [
           0.005190808056448508,
           0.8860910751547488,
           0.07778413363915773,
           0.0020108739252539588,
           0.0004597532132524052,
           0.0002519124536117772
          ],
          [
           0.0001489699021588823,
           0.014423384131122088,
           0.22176087166595354,
           0.10360157786259533,
           0.049620211988949434,
           0.034955365310222766
          ],
          [
           6.820281999951708e-05,
           0.0009018553870553716,
           0.0691555283758107,
           0.20696353620834468,
           0.23813480626966757,
           0.22920681904668064
          ],
          [
           6.472341460206847e-05,
           0.0002524492552144178,
           0.021000433564542294,
           0.1280452153505746,
           0.252188855861976,
           0.3216081620290374
          ]
         ]
        }
       ],
       "layout": {
        "font": {
         "color": "#FFF"
        },
        "height": 300,
        "paper_bgcolor": "#000",
        "plot_bgcolor": "#000",
        "title": "5 Blobs:Confidence after 6400 Iters",
        "titlefont": {
         "color": "#FFF"
        },
        "width": 300,
        "xaxis": {
         "dtick": 1,
         "range": [
          -0.5,
          5.5
         ],
         "tickcolor": "#FFF",
         "title": "Glimpses"
        },
        "yaxis": {
         "dtick": 1,
         "range": [
          -0.5,
          5.5
         ],
         "tickcolor": "#FFF",
         "title": "Count Word"
        }
       }
      },
      "text/html": [
       "<div id=\"1b0ae808-14a1-48e8-ac0f-b650bc476b55\" style=\"height: 300px; width: 300px;\" class=\"plotly-graph-div\"></div><script type=\"text/javascript\">require([\"plotly\"], function(Plotly) { window.PLOTLYENV=window.PLOTLYENV || {};window.PLOTLYENV.BASE_URL=\"https://plot.ly\";Plotly.newPlot(\"1b0ae808-14a1-48e8-ac0f-b650bc476b55\", [{\"colorscale\": \"Jet\", \"z\": [[0.00023401951595326722, 0.09763333825096537, 0.6102978053307986, 0.5593783859059333, 0.45959598277232466, 0.41397734056979985], [0.9942928747781199, 0.000697498009937709, 8.242474481718442e-07, 3.612939097121244e-08, 1.3202276085010065e-08, 8.041253421834513e-09], [0.005190808056448508, 0.8860910751547488, 0.07778413363915773, 0.0020108739252539588, 0.0004597532132524052, 0.0002519124536117772], [0.0001489699021588823, 0.014423384131122088, 0.22176087166595354, 0.10360157786259533, 0.049620211988949434, 0.034955365310222766], [6.820281999951708e-05, 0.0009018553870553716, 0.0691555283758107, 0.20696353620834468, 0.23813480626966757, 0.22920681904668064], [6.472341460206847e-05, 0.0002524492552144178, 0.021000433564542294, 0.1280452153505746, 0.252188855861976, 0.3216081620290374]], \"type\": \"heatmap\"}], {\"plot_bgcolor\": \"#000\", \"paper_bgcolor\": \"#000\", \"width\": 300, \"title\": \"5 Blobs:Confidence after 6400 Iters\", \"yaxis\": {\"title\": \"Count Word\", \"tickcolor\": \"#FFF\", \"range\": [-0.5, 5.5], \"dtick\": 1}, \"height\": 300, \"titlefont\": {\"color\": \"#FFF\"}, \"xaxis\": {\"title\": \"Glimpses\", \"tickcolor\": \"#FFF\", \"range\": [-0.5, 5.5], \"dtick\": 1}, \"font\": {\"color\": \"#FFF\"}}, {\"linkText\": \"Export to plot.ly\", \"showLink\": true})});</script>"
      ],
      "text/vnd.plotly.v1+html": [
       "<div id=\"1b0ae808-14a1-48e8-ac0f-b650bc476b55\" style=\"height: 300px; width: 300px;\" class=\"plotly-graph-div\"></div><script type=\"text/javascript\">require([\"plotly\"], function(Plotly) { window.PLOTLYENV=window.PLOTLYENV || {};window.PLOTLYENV.BASE_URL=\"https://plot.ly\";Plotly.newPlot(\"1b0ae808-14a1-48e8-ac0f-b650bc476b55\", [{\"colorscale\": \"Jet\", \"z\": [[0.00023401951595326722, 0.09763333825096537, 0.6102978053307986, 0.5593783859059333, 0.45959598277232466, 0.41397734056979985], [0.9942928747781199, 0.000697498009937709, 8.242474481718442e-07, 3.612939097121244e-08, 1.3202276085010065e-08, 8.041253421834513e-09], [0.005190808056448508, 0.8860910751547488, 0.07778413363915773, 0.0020108739252539588, 0.0004597532132524052, 0.0002519124536117772], [0.0001489699021588823, 0.014423384131122088, 0.22176087166595354, 0.10360157786259533, 0.049620211988949434, 0.034955365310222766], [6.820281999951708e-05, 0.0009018553870553716, 0.0691555283758107, 0.20696353620834468, 0.23813480626966757, 0.22920681904668064], [6.472341460206847e-05, 0.0002524492552144178, 0.021000433564542294, 0.1280452153505746, 0.252188855861976, 0.3216081620290374]], \"type\": \"heatmap\"}], {\"plot_bgcolor\": \"#000\", \"paper_bgcolor\": \"#000\", \"width\": 300, \"title\": \"5 Blobs:Confidence after 6400 Iters\", \"yaxis\": {\"title\": \"Count Word\", \"tickcolor\": \"#FFF\", \"range\": [-0.5, 5.5], \"dtick\": 1}, \"height\": 300, \"titlefont\": {\"color\": \"#FFF\"}, \"xaxis\": {\"title\": \"Glimpses\", \"tickcolor\": \"#FFF\", \"range\": [-0.5, 5.5], \"dtick\": 1}, \"font\": {\"color\": \"#FFF\"}}, {\"linkText\": \"Export to plot.ly\", \"showLink\": true})});</script>"
      ]
     },
     "metadata": {},
     "output_type": "display_data"
    },
    {
     "data": {
      "application/vnd.plotly.v1+json": {
       "data": [
        {
         "colorscale": "Jet",
         "type": "heatmap",
         "z": [
          [
           1.4484808408461279e-05,
           0.4771751991747094,
           0.43348389481324384,
           0.45059198245590104,
           0.4153939143690486,
           0.3961512188207956
          ],
          [
           0.9943629948304336,
           0.0003921233273048023,
           2.8312200168183946e-07,
           4.496043957582046e-08,
           2.2944841994080663e-08,
           1.8104888975735845e-08
          ],
          [
           0.005596781661857947,
           0.4901032999949889,
           0.007871663713287338,
           0.0002752212754828959,
           5.757840157452569e-05,
           3.257563903891822e-05
          ],
          [
           1.86184198715393e-05,
           0.031035230890311048,
           0.5177463571962464,
           0.22156110037465618,
           0.06453367610481969,
           0.0357882745615137
          ],
          [
           2.869755432686532e-06,
           0.0010237189528787252,
           0.03565164295848777,
           0.25161206731718516,
           0.3166935582980842,
           0.29166028180206477
          ],
          [
           3.7905427333485573e-06,
           0.00026998806742796445,
           0.005245701275227812,
           0.07595915348936358,
           0.2033208119828499,
           0.2763671982114165
          ]
         ]
        }
       ],
       "layout": {
        "font": {
         "color": "#FFF"
        },
        "height": 300,
        "paper_bgcolor": "#000",
        "plot_bgcolor": "#000",
        "title": "5 Blobs:Confidence after 9600 Iters",
        "titlefont": {
         "color": "#FFF"
        },
        "width": 300,
        "xaxis": {
         "dtick": 1,
         "range": [
          -0.5,
          5.5
         ],
         "tickcolor": "#FFF",
         "title": "Glimpses"
        },
        "yaxis": {
         "dtick": 1,
         "range": [
          -0.5,
          5.5
         ],
         "tickcolor": "#FFF",
         "title": "Count Word"
        }
       }
      },
      "text/html": [
       "<div id=\"04c8c6bf-9050-47f0-8bee-92d1159b9b14\" style=\"height: 300px; width: 300px;\" class=\"plotly-graph-div\"></div><script type=\"text/javascript\">require([\"plotly\"], function(Plotly) { window.PLOTLYENV=window.PLOTLYENV || {};window.PLOTLYENV.BASE_URL=\"https://plot.ly\";Plotly.newPlot(\"04c8c6bf-9050-47f0-8bee-92d1159b9b14\", [{\"colorscale\": \"Jet\", \"z\": [[1.4484808408461279e-05, 0.4771751991747094, 0.43348389481324384, 0.45059198245590104, 0.4153939143690486, 0.3961512188207956], [0.9943629948304336, 0.0003921233273048023, 2.8312200168183946e-07, 4.496043957582046e-08, 2.2944841994080663e-08, 1.8104888975735845e-08], [0.005596781661857947, 0.4901032999949889, 0.007871663713287338, 0.0002752212754828959, 5.757840157452569e-05, 3.257563903891822e-05], [1.86184198715393e-05, 0.031035230890311048, 0.5177463571962464, 0.22156110037465618, 0.06453367610481969, 0.0357882745615137], [2.869755432686532e-06, 0.0010237189528787252, 0.03565164295848777, 0.25161206731718516, 0.3166935582980842, 0.29166028180206477], [3.7905427333485573e-06, 0.00026998806742796445, 0.005245701275227812, 0.07595915348936358, 0.2033208119828499, 0.2763671982114165]], \"type\": \"heatmap\"}], {\"plot_bgcolor\": \"#000\", \"paper_bgcolor\": \"#000\", \"width\": 300, \"title\": \"5 Blobs:Confidence after 9600 Iters\", \"yaxis\": {\"title\": \"Count Word\", \"tickcolor\": \"#FFF\", \"range\": [-0.5, 5.5], \"dtick\": 1}, \"height\": 300, \"titlefont\": {\"color\": \"#FFF\"}, \"xaxis\": {\"title\": \"Glimpses\", \"tickcolor\": \"#FFF\", \"range\": [-0.5, 5.5], \"dtick\": 1}, \"font\": {\"color\": \"#FFF\"}}, {\"linkText\": \"Export to plot.ly\", \"showLink\": true})});</script>"
      ],
      "text/vnd.plotly.v1+html": [
       "<div id=\"04c8c6bf-9050-47f0-8bee-92d1159b9b14\" style=\"height: 300px; width: 300px;\" class=\"plotly-graph-div\"></div><script type=\"text/javascript\">require([\"plotly\"], function(Plotly) { window.PLOTLYENV=window.PLOTLYENV || {};window.PLOTLYENV.BASE_URL=\"https://plot.ly\";Plotly.newPlot(\"04c8c6bf-9050-47f0-8bee-92d1159b9b14\", [{\"colorscale\": \"Jet\", \"z\": [[1.4484808408461279e-05, 0.4771751991747094, 0.43348389481324384, 0.45059198245590104, 0.4153939143690486, 0.3961512188207956], [0.9943629948304336, 0.0003921233273048023, 2.8312200168183946e-07, 4.496043957582046e-08, 2.2944841994080663e-08, 1.8104888975735845e-08], [0.005596781661857947, 0.4901032999949889, 0.007871663713287338, 0.0002752212754828959, 5.757840157452569e-05, 3.257563903891822e-05], [1.86184198715393e-05, 0.031035230890311048, 0.5177463571962464, 0.22156110037465618, 0.06453367610481969, 0.0357882745615137], [2.869755432686532e-06, 0.0010237189528787252, 0.03565164295848777, 0.25161206731718516, 0.3166935582980842, 0.29166028180206477], [3.7905427333485573e-06, 0.00026998806742796445, 0.005245701275227812, 0.07595915348936358, 0.2033208119828499, 0.2763671982114165]], \"type\": \"heatmap\"}], {\"plot_bgcolor\": \"#000\", \"paper_bgcolor\": \"#000\", \"width\": 300, \"title\": \"5 Blobs:Confidence after 9600 Iters\", \"yaxis\": {\"title\": \"Count Word\", \"tickcolor\": \"#FFF\", \"range\": [-0.5, 5.5], \"dtick\": 1}, \"height\": 300, \"titlefont\": {\"color\": \"#FFF\"}, \"xaxis\": {\"title\": \"Glimpses\", \"tickcolor\": \"#FFF\", \"range\": [-0.5, 5.5], \"dtick\": 1}, \"font\": {\"color\": \"#FFF\"}}, {\"linkText\": \"Export to plot.ly\", \"showLink\": true})});</script>"
      ]
     },
     "metadata": {},
     "output_type": "display_data"
    },
    {
     "data": {
      "application/vnd.plotly.v1+json": {
       "data": [
        {
         "colorscale": "Jet",
         "type": "heatmap",
         "z": [
          [
           2.0114525595181595e-05,
           0.12162568368766377,
           0.47753748607111146,
           0.6288675472790116,
           0.6034693989846126,
           0.5858297127628456
          ],
          [
           0.9981192159070099,
           9.676533909729855e-05,
           3.484984135131136e-07,
           2.7153351289297313e-07,
           8.54578395933053e-08,
           8.168865877942277e-08
          ],
          [
           0.0018558721388950202,
           0.8702404853977668,
           0.019096144486367147,
           0.0001529556762780272,
           2.7385125838991218e-05,
           1.8177448891777996e-05
          ],
          [
           2.132776691937701e-06,
           0.0077831339641219665,
           0.4788755092777187,
           0.07998516542978507,
           0.012198320289829047,
           0.006054963696601328
          ],
          [
           6.74376429898683e-07,
           0.00019059989095491516,
           0.02191653125497773,
           0.23094660691422195,
           0.17481273297453695,
           0.1172395390814518
          ],
          [
           1.4116908197590627e-06,
           6.272512907958985e-05,
           0.002573382413782658,
           0.060046871151754874,
           0.2094915160033838,
           0.2908569204537525
          ]
         ]
        }
       ],
       "layout": {
        "font": {
         "color": "#FFF"
        },
        "height": 300,
        "paper_bgcolor": "#000",
        "plot_bgcolor": "#000",
        "title": "5 Blobs:Confidence after 12800 Iters",
        "titlefont": {
         "color": "#FFF"
        },
        "width": 300,
        "xaxis": {
         "dtick": 1,
         "range": [
          -0.5,
          5.5
         ],
         "tickcolor": "#FFF",
         "title": "Glimpses"
        },
        "yaxis": {
         "dtick": 1,
         "range": [
          -0.5,
          5.5
         ],
         "tickcolor": "#FFF",
         "title": "Count Word"
        }
       }
      },
      "text/html": [
       "<div id=\"5331eb86-28a1-443a-87a2-2e79ebc55fc8\" style=\"height: 300px; width: 300px;\" class=\"plotly-graph-div\"></div><script type=\"text/javascript\">require([\"plotly\"], function(Plotly) { window.PLOTLYENV=window.PLOTLYENV || {};window.PLOTLYENV.BASE_URL=\"https://plot.ly\";Plotly.newPlot(\"5331eb86-28a1-443a-87a2-2e79ebc55fc8\", [{\"colorscale\": \"Jet\", \"z\": [[2.0114525595181595e-05, 0.12162568368766377, 0.47753748607111146, 0.6288675472790116, 0.6034693989846126, 0.5858297127628456], [0.9981192159070099, 9.676533909729855e-05, 3.484984135131136e-07, 2.7153351289297313e-07, 8.54578395933053e-08, 8.168865877942277e-08], [0.0018558721388950202, 0.8702404853977668, 0.019096144486367147, 0.0001529556762780272, 2.7385125838991218e-05, 1.8177448891777996e-05], [2.132776691937701e-06, 0.0077831339641219665, 0.4788755092777187, 0.07998516542978507, 0.012198320289829047, 0.006054963696601328], [6.74376429898683e-07, 0.00019059989095491516, 0.02191653125497773, 0.23094660691422195, 0.17481273297453695, 0.1172395390814518], [1.4116908197590627e-06, 6.272512907958985e-05, 0.002573382413782658, 0.060046871151754874, 0.2094915160033838, 0.2908569204537525]], \"type\": \"heatmap\"}], {\"plot_bgcolor\": \"#000\", \"paper_bgcolor\": \"#000\", \"width\": 300, \"title\": \"5 Blobs:Confidence after 12800 Iters\", \"yaxis\": {\"title\": \"Count Word\", \"tickcolor\": \"#FFF\", \"range\": [-0.5, 5.5], \"dtick\": 1}, \"height\": 300, \"titlefont\": {\"color\": \"#FFF\"}, \"xaxis\": {\"title\": \"Glimpses\", \"tickcolor\": \"#FFF\", \"range\": [-0.5, 5.5], \"dtick\": 1}, \"font\": {\"color\": \"#FFF\"}}, {\"linkText\": \"Export to plot.ly\", \"showLink\": true})});</script>"
      ],
      "text/vnd.plotly.v1+html": [
       "<div id=\"5331eb86-28a1-443a-87a2-2e79ebc55fc8\" style=\"height: 300px; width: 300px;\" class=\"plotly-graph-div\"></div><script type=\"text/javascript\">require([\"plotly\"], function(Plotly) { window.PLOTLYENV=window.PLOTLYENV || {};window.PLOTLYENV.BASE_URL=\"https://plot.ly\";Plotly.newPlot(\"5331eb86-28a1-443a-87a2-2e79ebc55fc8\", [{\"colorscale\": \"Jet\", \"z\": [[2.0114525595181595e-05, 0.12162568368766377, 0.47753748607111146, 0.6288675472790116, 0.6034693989846126, 0.5858297127628456], [0.9981192159070099, 9.676533909729855e-05, 3.484984135131136e-07, 2.7153351289297313e-07, 8.54578395933053e-08, 8.168865877942277e-08], [0.0018558721388950202, 0.8702404853977668, 0.019096144486367147, 0.0001529556762780272, 2.7385125838991218e-05, 1.8177448891777996e-05], [2.132776691937701e-06, 0.0077831339641219665, 0.4788755092777187, 0.07998516542978507, 0.012198320289829047, 0.006054963696601328], [6.74376429898683e-07, 0.00019059989095491516, 0.02191653125497773, 0.23094660691422195, 0.17481273297453695, 0.1172395390814518], [1.4116908197590627e-06, 6.272512907958985e-05, 0.002573382413782658, 0.060046871151754874, 0.2094915160033838, 0.2908569204537525]], \"type\": \"heatmap\"}], {\"plot_bgcolor\": \"#000\", \"paper_bgcolor\": \"#000\", \"width\": 300, \"title\": \"5 Blobs:Confidence after 12800 Iters\", \"yaxis\": {\"title\": \"Count Word\", \"tickcolor\": \"#FFF\", \"range\": [-0.5, 5.5], \"dtick\": 1}, \"height\": 300, \"titlefont\": {\"color\": \"#FFF\"}, \"xaxis\": {\"title\": \"Glimpses\", \"tickcolor\": \"#FFF\", \"range\": [-0.5, 5.5], \"dtick\": 1}, \"font\": {\"color\": \"#FFF\"}}, {\"linkText\": \"Export to plot.ly\", \"showLink\": true})});</script>"
      ]
     },
     "metadata": {},
     "output_type": "display_data"
    },
    {
     "data": {
      "application/vnd.plotly.v1+json": {
       "data": [
        {
         "colorscale": "Jet",
         "type": "heatmap",
         "z": [
          [
           1.6866487492359035e-06,
           0.23730203657150978,
           0.7474521752556182,
           0.5669874128706385,
           0.5654539993585614,
           0.6069576720461853
          ],
          [
           0.9999085837439945,
           0.00031686324286244784,
           9.546586953312413e-07,
           1.89782516686379e-06,
           9.773614398472028e-06,
           7.882809216520258e-06
          ],
          [
           8.927820795636663e-05,
           0.7619583679841578,
           0.007880649506890852,
           1.2138262710810162e-05,
           1.6424856081604867e-05,
           3.079116707149434e-05
          ],
          [
           1.442782497676845e-08,
           0.0003993001167563775,
           0.23218893822106568,
           0.002651471854142388,
           0.0002897629382650048,
           0.0002015879817014757
          ],
          [
           1.0537366173528329e-08,
           1.1791247069736251e-05,
           0.012049286865974495,
           0.3962779609858168,
           0.09699189523449,
           0.0312876482327072
          ],
          [
           6.45973354699926e-08,
           1.1241034094283279e-05,
           0.0004275818210840283,
           0.034068736860145755,
           0.33723774533485185,
           0.3615140231800353
          ]
         ]
        }
       ],
       "layout": {
        "font": {
         "color": "#FFF"
        },
        "height": 300,
        "paper_bgcolor": "#000",
        "plot_bgcolor": "#000",
        "title": "5 Blobs:Confidence after 19200 Iters",
        "titlefont": {
         "color": "#FFF"
        },
        "width": 300,
        "xaxis": {
         "dtick": 1,
         "range": [
          -0.5,
          5.5
         ],
         "tickcolor": "#FFF",
         "title": "Glimpses"
        },
        "yaxis": {
         "dtick": 1,
         "range": [
          -0.5,
          5.5
         ],
         "tickcolor": "#FFF",
         "title": "Count Word"
        }
       }
      },
      "text/html": [
       "<div id=\"d4ec33ed-141a-41a9-8d50-fcbdfd0061db\" style=\"height: 300px; width: 300px;\" class=\"plotly-graph-div\"></div><script type=\"text/javascript\">require([\"plotly\"], function(Plotly) { window.PLOTLYENV=window.PLOTLYENV || {};window.PLOTLYENV.BASE_URL=\"https://plot.ly\";Plotly.newPlot(\"d4ec33ed-141a-41a9-8d50-fcbdfd0061db\", [{\"colorscale\": \"Jet\", \"z\": [[1.6866487492359035e-06, 0.23730203657150978, 0.7474521752556182, 0.5669874128706385, 0.5654539993585614, 0.6069576720461853], [0.9999085837439945, 0.00031686324286244784, 9.546586953312413e-07, 1.89782516686379e-06, 9.773614398472028e-06, 7.882809216520258e-06], [8.927820795636663e-05, 0.7619583679841578, 0.007880649506890852, 1.2138262710810162e-05, 1.6424856081604867e-05, 3.079116707149434e-05], [1.442782497676845e-08, 0.0003993001167563775, 0.23218893822106568, 0.002651471854142388, 0.0002897629382650048, 0.0002015879817014757], [1.0537366173528329e-08, 1.1791247069736251e-05, 0.012049286865974495, 0.3962779609858168, 0.09699189523449, 0.0312876482327072], [6.45973354699926e-08, 1.1241034094283279e-05, 0.0004275818210840283, 0.034068736860145755, 0.33723774533485185, 0.3615140231800353]], \"type\": \"heatmap\"}], {\"plot_bgcolor\": \"#000\", \"paper_bgcolor\": \"#000\", \"width\": 300, \"title\": \"5 Blobs:Confidence after 19200 Iters\", \"yaxis\": {\"title\": \"Count Word\", \"tickcolor\": \"#FFF\", \"range\": [-0.5, 5.5], \"dtick\": 1}, \"height\": 300, \"titlefont\": {\"color\": \"#FFF\"}, \"xaxis\": {\"title\": \"Glimpses\", \"tickcolor\": \"#FFF\", \"range\": [-0.5, 5.5], \"dtick\": 1}, \"font\": {\"color\": \"#FFF\"}}, {\"linkText\": \"Export to plot.ly\", \"showLink\": true})});</script>"
      ],
      "text/vnd.plotly.v1+html": [
       "<div id=\"d4ec33ed-141a-41a9-8d50-fcbdfd0061db\" style=\"height: 300px; width: 300px;\" class=\"plotly-graph-div\"></div><script type=\"text/javascript\">require([\"plotly\"], function(Plotly) { window.PLOTLYENV=window.PLOTLYENV || {};window.PLOTLYENV.BASE_URL=\"https://plot.ly\";Plotly.newPlot(\"d4ec33ed-141a-41a9-8d50-fcbdfd0061db\", [{\"colorscale\": \"Jet\", \"z\": [[1.6866487492359035e-06, 0.23730203657150978, 0.7474521752556182, 0.5669874128706385, 0.5654539993585614, 0.6069576720461853], [0.9999085837439945, 0.00031686324286244784, 9.546586953312413e-07, 1.89782516686379e-06, 9.773614398472028e-06, 7.882809216520258e-06], [8.927820795636663e-05, 0.7619583679841578, 0.007880649506890852, 1.2138262710810162e-05, 1.6424856081604867e-05, 3.079116707149434e-05], [1.442782497676845e-08, 0.0003993001167563775, 0.23218893822106568, 0.002651471854142388, 0.0002897629382650048, 0.0002015879817014757], [1.0537366173528329e-08, 1.1791247069736251e-05, 0.012049286865974495, 0.3962779609858168, 0.09699189523449, 0.0312876482327072], [6.45973354699926e-08, 1.1241034094283279e-05, 0.0004275818210840283, 0.034068736860145755, 0.33723774533485185, 0.3615140231800353]], \"type\": \"heatmap\"}], {\"plot_bgcolor\": \"#000\", \"paper_bgcolor\": \"#000\", \"width\": 300, \"title\": \"5 Blobs:Confidence after 19200 Iters\", \"yaxis\": {\"title\": \"Count Word\", \"tickcolor\": \"#FFF\", \"range\": [-0.5, 5.5], \"dtick\": 1}, \"height\": 300, \"titlefont\": {\"color\": \"#FFF\"}, \"xaxis\": {\"title\": \"Glimpses\", \"tickcolor\": \"#FFF\", \"range\": [-0.5, 5.5], \"dtick\": 1}, \"font\": {\"color\": \"#FFF\"}}, {\"linkText\": \"Export to plot.ly\", \"showLink\": true})});</script>"
      ]
     },
     "metadata": {},
     "output_type": "display_data"
    },
    {
     "data": {
      "application/vnd.plotly.v1+json": {
       "data": [
        {
         "colorscale": "Jet",
         "type": "heatmap",
         "z": [
          [
           1.7583963750604143e-06,
           0.19235932814142528,
           0.9392542146864966,
           0.871596216300205,
           0.7936760851861866,
           0.8474440568032865
          ],
          [
           0.9999773287461833,
           0.00042289617193815823,
           1.5899727836164952e-05,
           7.839186520597689e-05,
           0.0005786327295633018,
           0.0003543360051045524
          ],
          [
           2.0171783288497933e-05,
           0.8063630451065681,
           0.0023575486944467897,
           1.1732398093097274e-05,
           2.9114742553134662e-05,
           0.00014469074387241375
          ],
          [
           5.004050523083049e-09,
           0.0008311777351709767,
           0.05495033543995034,
           0.0007172095507824903,
           8.538282277219966e-05,
           0.00010550260844789548
          ],
          [
           1.7140392628710886e-08,
           1.1069397200728483e-05,
           0.0032569795819842274,
           0.10261455444180241,
           0.018780626638592045,
           0.0032799104647553497
          ],
          [
           1.2361886140706849e-07,
           1.184682955871247e-05,
           0.00016441166043675118,
           0.024981259034584136,
           0.18684954788292854,
           0.1486708927933618
          ]
         ]
        }
       ],
       "layout": {
        "font": {
         "color": "#FFF"
        },
        "height": 300,
        "paper_bgcolor": "#000",
        "plot_bgcolor": "#000",
        "title": "5 Blobs:Confidence after 25600 Iters",
        "titlefont": {
         "color": "#FFF"
        },
        "width": 300,
        "xaxis": {
         "dtick": 1,
         "range": [
          -0.5,
          5.5
         ],
         "tickcolor": "#FFF",
         "title": "Glimpses"
        },
        "yaxis": {
         "dtick": 1,
         "range": [
          -0.5,
          5.5
         ],
         "tickcolor": "#FFF",
         "title": "Count Word"
        }
       }
      },
      "text/html": [
       "<div id=\"99d3c25c-bd9b-42a3-a6c6-901c69d16108\" style=\"height: 300px; width: 300px;\" class=\"plotly-graph-div\"></div><script type=\"text/javascript\">require([\"plotly\"], function(Plotly) { window.PLOTLYENV=window.PLOTLYENV || {};window.PLOTLYENV.BASE_URL=\"https://plot.ly\";Plotly.newPlot(\"99d3c25c-bd9b-42a3-a6c6-901c69d16108\", [{\"colorscale\": \"Jet\", \"z\": [[1.7583963750604143e-06, 0.19235932814142528, 0.9392542146864966, 0.871596216300205, 0.7936760851861866, 0.8474440568032865], [0.9999773287461833, 0.00042289617193815823, 1.5899727836164952e-05, 7.839186520597689e-05, 0.0005786327295633018, 0.0003543360051045524], [2.0171783288497933e-05, 0.8063630451065681, 0.0023575486944467897, 1.1732398093097274e-05, 2.9114742553134662e-05, 0.00014469074387241375], [5.004050523083049e-09, 0.0008311777351709767, 0.05495033543995034, 0.0007172095507824903, 8.538282277219966e-05, 0.00010550260844789548], [1.7140392628710886e-08, 1.1069397200728483e-05, 0.0032569795819842274, 0.10261455444180241, 0.018780626638592045, 0.0032799104647553497], [1.2361886140706849e-07, 1.184682955871247e-05, 0.00016441166043675118, 0.024981259034584136, 0.18684954788292854, 0.1486708927933618]], \"type\": \"heatmap\"}], {\"plot_bgcolor\": \"#000\", \"paper_bgcolor\": \"#000\", \"width\": 300, \"title\": \"5 Blobs:Confidence after 25600 Iters\", \"yaxis\": {\"title\": \"Count Word\", \"tickcolor\": \"#FFF\", \"range\": [-0.5, 5.5], \"dtick\": 1}, \"height\": 300, \"titlefont\": {\"color\": \"#FFF\"}, \"xaxis\": {\"title\": \"Glimpses\", \"tickcolor\": \"#FFF\", \"range\": [-0.5, 5.5], \"dtick\": 1}, \"font\": {\"color\": \"#FFF\"}}, {\"linkText\": \"Export to plot.ly\", \"showLink\": true})});</script>"
      ],
      "text/vnd.plotly.v1+html": [
       "<div id=\"99d3c25c-bd9b-42a3-a6c6-901c69d16108\" style=\"height: 300px; width: 300px;\" class=\"plotly-graph-div\"></div><script type=\"text/javascript\">require([\"plotly\"], function(Plotly) { window.PLOTLYENV=window.PLOTLYENV || {};window.PLOTLYENV.BASE_URL=\"https://plot.ly\";Plotly.newPlot(\"99d3c25c-bd9b-42a3-a6c6-901c69d16108\", [{\"colorscale\": \"Jet\", \"z\": [[1.7583963750604143e-06, 0.19235932814142528, 0.9392542146864966, 0.871596216300205, 0.7936760851861866, 0.8474440568032865], [0.9999773287461833, 0.00042289617193815823, 1.5899727836164952e-05, 7.839186520597689e-05, 0.0005786327295633018, 0.0003543360051045524], [2.0171783288497933e-05, 0.8063630451065681, 0.0023575486944467897, 1.1732398093097274e-05, 2.9114742553134662e-05, 0.00014469074387241375], [5.004050523083049e-09, 0.0008311777351709767, 0.05495033543995034, 0.0007172095507824903, 8.538282277219966e-05, 0.00010550260844789548], [1.7140392628710886e-08, 1.1069397200728483e-05, 0.0032569795819842274, 0.10261455444180241, 0.018780626638592045, 0.0032799104647553497], [1.2361886140706849e-07, 1.184682955871247e-05, 0.00016441166043675118, 0.024981259034584136, 0.18684954788292854, 0.1486708927933618]], \"type\": \"heatmap\"}], {\"plot_bgcolor\": \"#000\", \"paper_bgcolor\": \"#000\", \"width\": 300, \"title\": \"5 Blobs:Confidence after 25600 Iters\", \"yaxis\": {\"title\": \"Count Word\", \"tickcolor\": \"#FFF\", \"range\": [-0.5, 5.5], \"dtick\": 1}, \"height\": 300, \"titlefont\": {\"color\": \"#FFF\"}, \"xaxis\": {\"title\": \"Glimpses\", \"tickcolor\": \"#FFF\", \"range\": [-0.5, 5.5], \"dtick\": 1}, \"font\": {\"color\": \"#FFF\"}}, {\"linkText\": \"Export to plot.ly\", \"showLink\": true})});</script>"
      ]
     },
     "metadata": {},
     "output_type": "display_data"
    },
    {
     "data": {
      "application/vnd.plotly.v1+json": {
       "data": [
        {
         "colorscale": "Jet",
         "type": "heatmap",
         "z": [
          [
           8.432879889051246e-07,
           0.17501559871835373,
           0.8272359290993962,
           0.7568268917080853,
           0.5349472542045526,
           0.8885639482515949
          ],
          [
           0.9999878554830745,
           0.00013020635534883817,
           0.0001562546066029323,
           0.00033766688366157303,
           0.01555178608130217,
           0.0024769555096359887
          ],
          [
           1.0564837303792495e-05,
           0.8243889999406366,
           0.0033637846376488797,
           1.8996337624608015e-05,
           0.00014454894689352579,
           0.002621796266689681
          ],
          [
           3.7946979473156954e-09,
           0.00044827993465653803,
           0.16470384653621595,
           0.0009142551470368558,
           3.6337362281273456e-05,
           0.00018352110184552688
          ],
          [
           1.112132140525113e-08,
           8.170075426724021e-06,
           0.004417915862792644,
           0.2061186252774404,
           0.007869580205969619,
           0.0008216509187766865
          ],
          [
           1.5257101052888876e-07,
           8.146285442628987e-06,
           0.00012167336081894491,
           0.035782965956547716,
           0.4414498844878616,
           0.10533152433064982
          ]
         ]
        }
       ],
       "layout": {
        "font": {
         "color": "#FFF"
        },
        "height": 300,
        "paper_bgcolor": "#000",
        "plot_bgcolor": "#000",
        "title": "5 Blobs:Confidence after 38400 Iters",
        "titlefont": {
         "color": "#FFF"
        },
        "width": 300,
        "xaxis": {
         "dtick": 1,
         "range": [
          -0.5,
          5.5
         ],
         "tickcolor": "#FFF",
         "title": "Glimpses"
        },
        "yaxis": {
         "dtick": 1,
         "range": [
          -0.5,
          5.5
         ],
         "tickcolor": "#FFF",
         "title": "Count Word"
        }
       }
      },
      "text/html": [
       "<div id=\"8bd1ef32-5864-445e-9783-b7ef6610c196\" style=\"height: 300px; width: 300px;\" class=\"plotly-graph-div\"></div><script type=\"text/javascript\">require([\"plotly\"], function(Plotly) { window.PLOTLYENV=window.PLOTLYENV || {};window.PLOTLYENV.BASE_URL=\"https://plot.ly\";Plotly.newPlot(\"8bd1ef32-5864-445e-9783-b7ef6610c196\", [{\"colorscale\": \"Jet\", \"z\": [[8.432879889051246e-07, 0.17501559871835373, 0.8272359290993962, 0.7568268917080853, 0.5349472542045526, 0.8885639482515949], [0.9999878554830745, 0.00013020635534883817, 0.0001562546066029323, 0.00033766688366157303, 0.01555178608130217, 0.0024769555096359887], [1.0564837303792495e-05, 0.8243889999406366, 0.0033637846376488797, 1.8996337624608015e-05, 0.00014454894689352579, 0.002621796266689681], [3.7946979473156954e-09, 0.00044827993465653803, 0.16470384653621595, 0.0009142551470368558, 3.6337362281273456e-05, 0.00018352110184552688], [1.112132140525113e-08, 8.170075426724021e-06, 0.004417915862792644, 0.2061186252774404, 0.007869580205969619, 0.0008216509187766865], [1.5257101052888876e-07, 8.146285442628987e-06, 0.00012167336081894491, 0.035782965956547716, 0.4414498844878616, 0.10533152433064982]], \"type\": \"heatmap\"}], {\"plot_bgcolor\": \"#000\", \"paper_bgcolor\": \"#000\", \"width\": 300, \"title\": \"5 Blobs:Confidence after 38400 Iters\", \"yaxis\": {\"title\": \"Count Word\", \"tickcolor\": \"#FFF\", \"range\": [-0.5, 5.5], \"dtick\": 1}, \"height\": 300, \"titlefont\": {\"color\": \"#FFF\"}, \"xaxis\": {\"title\": \"Glimpses\", \"tickcolor\": \"#FFF\", \"range\": [-0.5, 5.5], \"dtick\": 1}, \"font\": {\"color\": \"#FFF\"}}, {\"linkText\": \"Export to plot.ly\", \"showLink\": true})});</script>"
      ],
      "text/vnd.plotly.v1+html": [
       "<div id=\"8bd1ef32-5864-445e-9783-b7ef6610c196\" style=\"height: 300px; width: 300px;\" class=\"plotly-graph-div\"></div><script type=\"text/javascript\">require([\"plotly\"], function(Plotly) { window.PLOTLYENV=window.PLOTLYENV || {};window.PLOTLYENV.BASE_URL=\"https://plot.ly\";Plotly.newPlot(\"8bd1ef32-5864-445e-9783-b7ef6610c196\", [{\"colorscale\": \"Jet\", \"z\": [[8.432879889051246e-07, 0.17501559871835373, 0.8272359290993962, 0.7568268917080853, 0.5349472542045526, 0.8885639482515949], [0.9999878554830745, 0.00013020635534883817, 0.0001562546066029323, 0.00033766688366157303, 0.01555178608130217, 0.0024769555096359887], [1.0564837303792495e-05, 0.8243889999406366, 0.0033637846376488797, 1.8996337624608015e-05, 0.00014454894689352579, 0.002621796266689681], [3.7946979473156954e-09, 0.00044827993465653803, 0.16470384653621595, 0.0009142551470368558, 3.6337362281273456e-05, 0.00018352110184552688], [1.112132140525113e-08, 8.170075426724021e-06, 0.004417915862792644, 0.2061186252774404, 0.007869580205969619, 0.0008216509187766865], [1.5257101052888876e-07, 8.146285442628987e-06, 0.00012167336081894491, 0.035782965956547716, 0.4414498844878616, 0.10533152433064982]], \"type\": \"heatmap\"}], {\"plot_bgcolor\": \"#000\", \"paper_bgcolor\": \"#000\", \"width\": 300, \"title\": \"5 Blobs:Confidence after 38400 Iters\", \"yaxis\": {\"title\": \"Count Word\", \"tickcolor\": \"#FFF\", \"range\": [-0.5, 5.5], \"dtick\": 1}, \"height\": 300, \"titlefont\": {\"color\": \"#FFF\"}, \"xaxis\": {\"title\": \"Glimpses\", \"tickcolor\": \"#FFF\", \"range\": [-0.5, 5.5], \"dtick\": 1}, \"font\": {\"color\": \"#FFF\"}}, {\"linkText\": \"Export to plot.ly\", \"showLink\": true})});</script>"
      ]
     },
     "metadata": {},
     "output_type": "display_data"
    },
    {
     "data": {
      "application/vnd.plotly.v1+json": {
       "data": [
        {
         "colorscale": "Jet",
         "type": "heatmap",
         "z": [
          [
           1.3024122982332533e-05,
           0.2099675321148554,
           0.9396403239103155,
           0.9750364216253428,
           0.8281504231359291,
           0.9727921291168216
          ],
          [
           0.9999805821591232,
           2.4429290992386897e-05,
           1.1713012529584266e-05,
           1.62193400104963e-05,
           0.00035177799191998425,
           0.00036789126174786646
          ],
          [
           4.993562444829699e-06,
           0.7894561304993251,
           0.00035469290451913856,
           4.7808902708050895e-06,
           2.5948878712181522e-05,
           0.00029054554759797805
          ],
          [
           1.2768274299325744e-08,
           0.0005466212646912618,
           0.05958430375921325,
           0.0004832340958553556,
           1.3692656757132672e-05,
           5.295571952481079e-05
          ],
          [
           3.060385002187345e-08,
           9.200750946388721e-07,
           0.00039200303992406805,
           0.02059874395234123,
           0.0008921305695185169,
           5.2085070356454136e-05
          ],
          [
           8.544669662377855e-07,
           3.837438367224961e-06,
           1.6447309159331558e-05,
           0.0038600722721331597,
           0.17056549931162657,
           0.026443864577261934
          ]
         ]
        }
       ],
       "layout": {
        "font": {
         "color": "#FFF"
        },
        "height": 300,
        "paper_bgcolor": "#000",
        "plot_bgcolor": "#000",
        "title": "5 Blobs:Confidence after 51200 Iters",
        "titlefont": {
         "color": "#FFF"
        },
        "width": 300,
        "xaxis": {
         "dtick": 1,
         "range": [
          -0.5,
          5.5
         ],
         "tickcolor": "#FFF",
         "title": "Glimpses"
        },
        "yaxis": {
         "dtick": 1,
         "range": [
          -0.5,
          5.5
         ],
         "tickcolor": "#FFF",
         "title": "Count Word"
        }
       }
      },
      "text/html": [
       "<div id=\"f7a08d8b-e0e7-49f5-89e5-ce0df7e157a2\" style=\"height: 300px; width: 300px;\" class=\"plotly-graph-div\"></div><script type=\"text/javascript\">require([\"plotly\"], function(Plotly) { window.PLOTLYENV=window.PLOTLYENV || {};window.PLOTLYENV.BASE_URL=\"https://plot.ly\";Plotly.newPlot(\"f7a08d8b-e0e7-49f5-89e5-ce0df7e157a2\", [{\"colorscale\": \"Jet\", \"z\": [[1.3024122982332533e-05, 0.2099675321148554, 0.9396403239103155, 0.9750364216253428, 0.8281504231359291, 0.9727921291168216], [0.9999805821591232, 2.4429290992386897e-05, 1.1713012529584266e-05, 1.62193400104963e-05, 0.00035177799191998425, 0.00036789126174786646], [4.993562444829699e-06, 0.7894561304993251, 0.00035469290451913856, 4.7808902708050895e-06, 2.5948878712181522e-05, 0.00029054554759797805], [1.2768274299325744e-08, 0.0005466212646912618, 0.05958430375921325, 0.0004832340958553556, 1.3692656757132672e-05, 5.295571952481079e-05], [3.060385002187345e-08, 9.200750946388721e-07, 0.00039200303992406805, 0.02059874395234123, 0.0008921305695185169, 5.2085070356454136e-05], [8.544669662377855e-07, 3.837438367224961e-06, 1.6447309159331558e-05, 0.0038600722721331597, 0.17056549931162657, 0.026443864577261934]], \"type\": \"heatmap\"}], {\"plot_bgcolor\": \"#000\", \"paper_bgcolor\": \"#000\", \"width\": 300, \"title\": \"5 Blobs:Confidence after 51200 Iters\", \"yaxis\": {\"title\": \"Count Word\", \"tickcolor\": \"#FFF\", \"range\": [-0.5, 5.5], \"dtick\": 1}, \"height\": 300, \"titlefont\": {\"color\": \"#FFF\"}, \"xaxis\": {\"title\": \"Glimpses\", \"tickcolor\": \"#FFF\", \"range\": [-0.5, 5.5], \"dtick\": 1}, \"font\": {\"color\": \"#FFF\"}}, {\"linkText\": \"Export to plot.ly\", \"showLink\": true})});</script>"
      ],
      "text/vnd.plotly.v1+html": [
       "<div id=\"f7a08d8b-e0e7-49f5-89e5-ce0df7e157a2\" style=\"height: 300px; width: 300px;\" class=\"plotly-graph-div\"></div><script type=\"text/javascript\">require([\"plotly\"], function(Plotly) { window.PLOTLYENV=window.PLOTLYENV || {};window.PLOTLYENV.BASE_URL=\"https://plot.ly\";Plotly.newPlot(\"f7a08d8b-e0e7-49f5-89e5-ce0df7e157a2\", [{\"colorscale\": \"Jet\", \"z\": [[1.3024122982332533e-05, 0.2099675321148554, 0.9396403239103155, 0.9750364216253428, 0.8281504231359291, 0.9727921291168216], [0.9999805821591232, 2.4429290992386897e-05, 1.1713012529584266e-05, 1.62193400104963e-05, 0.00035177799191998425, 0.00036789126174786646], [4.993562444829699e-06, 0.7894561304993251, 0.00035469290451913856, 4.7808902708050895e-06, 2.5948878712181522e-05, 0.00029054554759797805], [1.2768274299325744e-08, 0.0005466212646912618, 0.05958430375921325, 0.0004832340958553556, 1.3692656757132672e-05, 5.295571952481079e-05], [3.060385002187345e-08, 9.200750946388721e-07, 0.00039200303992406805, 0.02059874395234123, 0.0008921305695185169, 5.2085070356454136e-05], [8.544669662377855e-07, 3.837438367224961e-06, 1.6447309159331558e-05, 0.0038600722721331597, 0.17056549931162657, 0.026443864577261934]], \"type\": \"heatmap\"}], {\"plot_bgcolor\": \"#000\", \"paper_bgcolor\": \"#000\", \"width\": 300, \"title\": \"5 Blobs:Confidence after 51200 Iters\", \"yaxis\": {\"title\": \"Count Word\", \"tickcolor\": \"#FFF\", \"range\": [-0.5, 5.5], \"dtick\": 1}, \"height\": 300, \"titlefont\": {\"color\": \"#FFF\"}, \"xaxis\": {\"title\": \"Glimpses\", \"tickcolor\": \"#FFF\", \"range\": [-0.5, 5.5], \"dtick\": 1}, \"font\": {\"color\": \"#FFF\"}}, {\"linkText\": \"Export to plot.ly\", \"showLink\": true})});</script>"
      ]
     },
     "metadata": {},
     "output_type": "display_data"
    },
    {
     "data": {
      "application/vnd.plotly.v1+json": {
       "data": [
        {
         "colorscale": "Jet",
         "type": "heatmap",
         "z": [
          [
           6.152978163781444e-06,
           0.16660039562871023,
           0.9478741651545097,
           0.9803924412112849,
           0.7473554234192316,
           0.98669413877922
          ],
          [
           0.9999869274763041,
           1.4194658884665996e-05,
           2.0307768440560422e-07,
           4.508245829669042e-06,
           0.0027676683328922923,
           0.00011018103025861015
          ],
          [
           5.454932863680717e-06,
           0.8331547046832457,
           0.00010823034078055461,
           3.2935237836845287e-06,
           2.087640781314645e-05,
           0.00043214947928826435
          ],
          [
           7.647531922058764e-09,
           0.00022679619301265962,
           0.05185592022331788,
           0.00037431877052270733,
           5.7953351809483046e-06,
           5.5606492245874605e-05
          ],
          [
           1.9698921375219427e-08,
           3.7120081385346397e-07,
           0.0001584809238255535,
           0.017154125515965526,
           0.0006816722190369894,
           1.0439881569673577e-05
          ],
          [
           9.051588447078102e-07,
           2.992511162144871e-06,
           2.4579297202094454e-06,
           0.002070769868908959,
           0.2491680129678937,
           0.012696899766934252
          ]
         ]
        }
       ],
       "layout": {
        "font": {
         "color": "#FFF"
        },
        "height": 300,
        "paper_bgcolor": "#000",
        "plot_bgcolor": "#000",
        "title": "5 Blobs:Confidence after 76800 Iters",
        "titlefont": {
         "color": "#FFF"
        },
        "width": 300,
        "xaxis": {
         "dtick": 1,
         "range": [
          -0.5,
          5.5
         ],
         "tickcolor": "#FFF",
         "title": "Glimpses"
        },
        "yaxis": {
         "dtick": 1,
         "range": [
          -0.5,
          5.5
         ],
         "tickcolor": "#FFF",
         "title": "Count Word"
        }
       }
      },
      "text/html": [
       "<div id=\"40b72fa6-c93a-44e9-9538-a3aeaa742e3b\" style=\"height: 300px; width: 300px;\" class=\"plotly-graph-div\"></div><script type=\"text/javascript\">require([\"plotly\"], function(Plotly) { window.PLOTLYENV=window.PLOTLYENV || {};window.PLOTLYENV.BASE_URL=\"https://plot.ly\";Plotly.newPlot(\"40b72fa6-c93a-44e9-9538-a3aeaa742e3b\", [{\"colorscale\": \"Jet\", \"z\": [[6.152978163781444e-06, 0.16660039562871023, 0.9478741651545097, 0.9803924412112849, 0.7473554234192316, 0.98669413877922], [0.9999869274763041, 1.4194658884665996e-05, 2.0307768440560422e-07, 4.508245829669042e-06, 0.0027676683328922923, 0.00011018103025861015], [5.454932863680717e-06, 0.8331547046832457, 0.00010823034078055461, 3.2935237836845287e-06, 2.087640781314645e-05, 0.00043214947928826435], [7.647531922058764e-09, 0.00022679619301265962, 0.05185592022331788, 0.00037431877052270733, 5.7953351809483046e-06, 5.5606492245874605e-05], [1.9698921375219427e-08, 3.7120081385346397e-07, 0.0001584809238255535, 0.017154125515965526, 0.0006816722190369894, 1.0439881569673577e-05], [9.051588447078102e-07, 2.992511162144871e-06, 2.4579297202094454e-06, 0.002070769868908959, 0.2491680129678937, 0.012696899766934252]], \"type\": \"heatmap\"}], {\"plot_bgcolor\": \"#000\", \"paper_bgcolor\": \"#000\", \"width\": 300, \"title\": \"5 Blobs:Confidence after 76800 Iters\", \"yaxis\": {\"title\": \"Count Word\", \"tickcolor\": \"#FFF\", \"range\": [-0.5, 5.5], \"dtick\": 1}, \"height\": 300, \"titlefont\": {\"color\": \"#FFF\"}, \"xaxis\": {\"title\": \"Glimpses\", \"tickcolor\": \"#FFF\", \"range\": [-0.5, 5.5], \"dtick\": 1}, \"font\": {\"color\": \"#FFF\"}}, {\"linkText\": \"Export to plot.ly\", \"showLink\": true})});</script>"
      ],
      "text/vnd.plotly.v1+html": [
       "<div id=\"40b72fa6-c93a-44e9-9538-a3aeaa742e3b\" style=\"height: 300px; width: 300px;\" class=\"plotly-graph-div\"></div><script type=\"text/javascript\">require([\"plotly\"], function(Plotly) { window.PLOTLYENV=window.PLOTLYENV || {};window.PLOTLYENV.BASE_URL=\"https://plot.ly\";Plotly.newPlot(\"40b72fa6-c93a-44e9-9538-a3aeaa742e3b\", [{\"colorscale\": \"Jet\", \"z\": [[6.152978163781444e-06, 0.16660039562871023, 0.9478741651545097, 0.9803924412112849, 0.7473554234192316, 0.98669413877922], [0.9999869274763041, 1.4194658884665996e-05, 2.0307768440560422e-07, 4.508245829669042e-06, 0.0027676683328922923, 0.00011018103025861015], [5.454932863680717e-06, 0.8331547046832457, 0.00010823034078055461, 3.2935237836845287e-06, 2.087640781314645e-05, 0.00043214947928826435], [7.647531922058764e-09, 0.00022679619301265962, 0.05185592022331788, 0.00037431877052270733, 5.7953351809483046e-06, 5.5606492245874605e-05], [1.9698921375219427e-08, 3.7120081385346397e-07, 0.0001584809238255535, 0.017154125515965526, 0.0006816722190369894, 1.0439881569673577e-05], [9.051588447078102e-07, 2.992511162144871e-06, 2.4579297202094454e-06, 0.002070769868908959, 0.2491680129678937, 0.012696899766934252]], \"type\": \"heatmap\"}], {\"plot_bgcolor\": \"#000\", \"paper_bgcolor\": \"#000\", \"width\": 300, \"title\": \"5 Blobs:Confidence after 76800 Iters\", \"yaxis\": {\"title\": \"Count Word\", \"tickcolor\": \"#FFF\", \"range\": [-0.5, 5.5], \"dtick\": 1}, \"height\": 300, \"titlefont\": {\"color\": \"#FFF\"}, \"xaxis\": {\"title\": \"Glimpses\", \"tickcolor\": \"#FFF\", \"range\": [-0.5, 5.5], \"dtick\": 1}, \"font\": {\"color\": \"#FFF\"}}, {\"linkText\": \"Export to plot.ly\", \"showLink\": true})});</script>"
      ]
     },
     "metadata": {},
     "output_type": "display_data"
    },
    {
     "data": {
      "application/vnd.plotly.v1+json": {
       "data": [
        {
         "colorscale": "Jet",
         "type": "heatmap",
         "z": [
          [
           1.8994433258741006e-05,
           0.10482394706198142,
           0.8317327115036376,
           0.9491309573600666,
           0.7024705953399082,
           0.9870251144814054
          ],
          [
           0.9999576983989337,
           2.8529920581413137e-06,
           2.638615924615356e-08,
           0.00010069742562448012,
           0.000567514448366752,
           1.6955260325936016e-05
          ],
          [
           2.0255646546970464e-05,
           0.8921770900644314,
           0.00010973407814080718,
           1.444288052150024e-06,
           1.587322498302913e-05,
           0.0003285654514688393
          ],
          [
           4.8934617753996445e-08,
           0.0029938452333453194,
           0.1678265790399975,
           0.0005769760386396647,
           4.833237533819267e-06,
           6.637019953909176e-05
          ],
          [
           3.8787619599373924e-08,
           4.136223162955599e-07,
           0.0003267633600140584,
           0.04522151661582924,
           0.0007992022851438874,
           9.036509434066137e-06
          ],
          [
           2.514188213419781e-06,
           1.3812825336493144e-06,
           3.684702280518086e-06,
           0.004967917922457923,
           0.29614151571676345,
           0.01255346088584779
          ]
         ]
        }
       ],
       "layout": {
        "font": {
         "color": "#FFF"
        },
        "height": 300,
        "paper_bgcolor": "#000",
        "plot_bgcolor": "#000",
        "title": "5 Blobs:Confidence after 102400 Iters",
        "titlefont": {
         "color": "#FFF"
        },
        "width": 300,
        "xaxis": {
         "dtick": 1,
         "range": [
          -0.5,
          5.5
         ],
         "tickcolor": "#FFF",
         "title": "Glimpses"
        },
        "yaxis": {
         "dtick": 1,
         "range": [
          -0.5,
          5.5
         ],
         "tickcolor": "#FFF",
         "title": "Count Word"
        }
       }
      },
      "text/html": [
       "<div id=\"d0ade189-8d81-4515-b7ca-30744b0907d0\" style=\"height: 300px; width: 300px;\" class=\"plotly-graph-div\"></div><script type=\"text/javascript\">require([\"plotly\"], function(Plotly) { window.PLOTLYENV=window.PLOTLYENV || {};window.PLOTLYENV.BASE_URL=\"https://plot.ly\";Plotly.newPlot(\"d0ade189-8d81-4515-b7ca-30744b0907d0\", [{\"colorscale\": \"Jet\", \"z\": [[1.8994433258741006e-05, 0.10482394706198142, 0.8317327115036376, 0.9491309573600666, 0.7024705953399082, 0.9870251144814054], [0.9999576983989337, 2.8529920581413137e-06, 2.638615924615356e-08, 0.00010069742562448012, 0.000567514448366752, 1.6955260325936016e-05], [2.0255646546970464e-05, 0.8921770900644314, 0.00010973407814080718, 1.444288052150024e-06, 1.587322498302913e-05, 0.0003285654514688393], [4.8934617753996445e-08, 0.0029938452333453194, 0.1678265790399975, 0.0005769760386396647, 4.833237533819267e-06, 6.637019953909176e-05], [3.8787619599373924e-08, 4.136223162955599e-07, 0.0003267633600140584, 0.04522151661582924, 0.0007992022851438874, 9.036509434066137e-06], [2.514188213419781e-06, 1.3812825336493144e-06, 3.684702280518086e-06, 0.004967917922457923, 0.29614151571676345, 0.01255346088584779]], \"type\": \"heatmap\"}], {\"plot_bgcolor\": \"#000\", \"paper_bgcolor\": \"#000\", \"width\": 300, \"title\": \"5 Blobs:Confidence after 102400 Iters\", \"yaxis\": {\"title\": \"Count Word\", \"tickcolor\": \"#FFF\", \"range\": [-0.5, 5.5], \"dtick\": 1}, \"height\": 300, \"titlefont\": {\"color\": \"#FFF\"}, \"xaxis\": {\"title\": \"Glimpses\", \"tickcolor\": \"#FFF\", \"range\": [-0.5, 5.5], \"dtick\": 1}, \"font\": {\"color\": \"#FFF\"}}, {\"linkText\": \"Export to plot.ly\", \"showLink\": true})});</script>"
      ],
      "text/vnd.plotly.v1+html": [
       "<div id=\"d0ade189-8d81-4515-b7ca-30744b0907d0\" style=\"height: 300px; width: 300px;\" class=\"plotly-graph-div\"></div><script type=\"text/javascript\">require([\"plotly\"], function(Plotly) { window.PLOTLYENV=window.PLOTLYENV || {};window.PLOTLYENV.BASE_URL=\"https://plot.ly\";Plotly.newPlot(\"d0ade189-8d81-4515-b7ca-30744b0907d0\", [{\"colorscale\": \"Jet\", \"z\": [[1.8994433258741006e-05, 0.10482394706198142, 0.8317327115036376, 0.9491309573600666, 0.7024705953399082, 0.9870251144814054], [0.9999576983989337, 2.8529920581413137e-06, 2.638615924615356e-08, 0.00010069742562448012, 0.000567514448366752, 1.6955260325936016e-05], [2.0255646546970464e-05, 0.8921770900644314, 0.00010973407814080718, 1.444288052150024e-06, 1.587322498302913e-05, 0.0003285654514688393], [4.8934617753996445e-08, 0.0029938452333453194, 0.1678265790399975, 0.0005769760386396647, 4.833237533819267e-06, 6.637019953909176e-05], [3.8787619599373924e-08, 4.136223162955599e-07, 0.0003267633600140584, 0.04522151661582924, 0.0007992022851438874, 9.036509434066137e-06], [2.514188213419781e-06, 1.3812825336493144e-06, 3.684702280518086e-06, 0.004967917922457923, 0.29614151571676345, 0.01255346088584779]], \"type\": \"heatmap\"}], {\"plot_bgcolor\": \"#000\", \"paper_bgcolor\": \"#000\", \"width\": 300, \"title\": \"5 Blobs:Confidence after 102400 Iters\", \"yaxis\": {\"title\": \"Count Word\", \"tickcolor\": \"#FFF\", \"range\": [-0.5, 5.5], \"dtick\": 1}, \"height\": 300, \"titlefont\": {\"color\": \"#FFF\"}, \"xaxis\": {\"title\": \"Glimpses\", \"tickcolor\": \"#FFF\", \"range\": [-0.5, 5.5], \"dtick\": 1}, \"font\": {\"color\": \"#FFF\"}}, {\"linkText\": \"Export to plot.ly\", \"showLink\": true})});</script>"
      ]
     },
     "metadata": {},
     "output_type": "display_data"
    },
    {
     "data": {
      "application/vnd.plotly.v1+json": {
       "data": [
        {
         "colorscale": "Jet",
         "type": "heatmap",
         "z": [
          [
           0.00024848340447334834,
           0.2715766998261563,
           0.7741307863387353,
           0.9670484574171399,
           0.9847782112837715,
           0.9916105016669475
          ],
          [
           0.9991142516148197,
           1.4424240900589536e-06,
           1.9885316534896152e-08,
           1.6002466282517338e-06,
           3.7966670165465774e-05,
           2.2415577162953164e-05
          ],
          [
           0.0006192126073832937,
           0.7277677473994528,
           9.796614724257613e-05,
           4.595331401913878e-07,
           3.511309034003918e-06,
           7.939132569672201e-06
          ],
          [
           1.7537575329415444e-06,
           0.0006488677669215103,
           0.22525359834048664,
           0.00038268395516774593,
           8.348120619693174e-06,
           1.0319923506781837e-05
          ],
          [
           5.3282002333888e-07,
           3.722470816231582e-06,
           0.0005139940961261075,
           0.032237008620720514,
           0.004580891975595232,
           0.0001228132010284825
          ],
          [
           1.529219911529078e-05,
           1.0505658729087412e-06,
           3.1681990184157547e-06,
           0.0003293381852302346,
           0.010590599269195809,
           0.008225561084187056
          ]
         ]
        }
       ],
       "layout": {
        "font": {
         "color": "#FFF"
        },
        "height": 300,
        "paper_bgcolor": "#000",
        "plot_bgcolor": "#000",
        "title": "5 Blobs:Confidence after 153600 Iters",
        "titlefont": {
         "color": "#FFF"
        },
        "width": 300,
        "xaxis": {
         "dtick": 1,
         "range": [
          -0.5,
          5.5
         ],
         "tickcolor": "#FFF",
         "title": "Glimpses"
        },
        "yaxis": {
         "dtick": 1,
         "range": [
          -0.5,
          5.5
         ],
         "tickcolor": "#FFF",
         "title": "Count Word"
        }
       }
      },
      "text/html": [
       "<div id=\"e4341895-fbdf-4938-9b06-61b437329953\" style=\"height: 300px; width: 300px;\" class=\"plotly-graph-div\"></div><script type=\"text/javascript\">require([\"plotly\"], function(Plotly) { window.PLOTLYENV=window.PLOTLYENV || {};window.PLOTLYENV.BASE_URL=\"https://plot.ly\";Plotly.newPlot(\"e4341895-fbdf-4938-9b06-61b437329953\", [{\"colorscale\": \"Jet\", \"z\": [[0.00024848340447334834, 0.2715766998261563, 0.7741307863387353, 0.9670484574171399, 0.9847782112837715, 0.9916105016669475], [0.9991142516148197, 1.4424240900589536e-06, 1.9885316534896152e-08, 1.6002466282517338e-06, 3.7966670165465774e-05, 2.2415577162953164e-05], [0.0006192126073832937, 0.7277677473994528, 9.796614724257613e-05, 4.595331401913878e-07, 3.511309034003918e-06, 7.939132569672201e-06], [1.7537575329415444e-06, 0.0006488677669215103, 0.22525359834048664, 0.00038268395516774593, 8.348120619693174e-06, 1.0319923506781837e-05], [5.3282002333888e-07, 3.722470816231582e-06, 0.0005139940961261075, 0.032237008620720514, 0.004580891975595232, 0.0001228132010284825], [1.529219911529078e-05, 1.0505658729087412e-06, 3.1681990184157547e-06, 0.0003293381852302346, 0.010590599269195809, 0.008225561084187056]], \"type\": \"heatmap\"}], {\"plot_bgcolor\": \"#000\", \"paper_bgcolor\": \"#000\", \"width\": 300, \"title\": \"5 Blobs:Confidence after 153600 Iters\", \"yaxis\": {\"title\": \"Count Word\", \"tickcolor\": \"#FFF\", \"range\": [-0.5, 5.5], \"dtick\": 1}, \"height\": 300, \"titlefont\": {\"color\": \"#FFF\"}, \"xaxis\": {\"title\": \"Glimpses\", \"tickcolor\": \"#FFF\", \"range\": [-0.5, 5.5], \"dtick\": 1}, \"font\": {\"color\": \"#FFF\"}}, {\"linkText\": \"Export to plot.ly\", \"showLink\": true})});</script>"
      ],
      "text/vnd.plotly.v1+html": [
       "<div id=\"e4341895-fbdf-4938-9b06-61b437329953\" style=\"height: 300px; width: 300px;\" class=\"plotly-graph-div\"></div><script type=\"text/javascript\">require([\"plotly\"], function(Plotly) { window.PLOTLYENV=window.PLOTLYENV || {};window.PLOTLYENV.BASE_URL=\"https://plot.ly\";Plotly.newPlot(\"e4341895-fbdf-4938-9b06-61b437329953\", [{\"colorscale\": \"Jet\", \"z\": [[0.00024848340447334834, 0.2715766998261563, 0.7741307863387353, 0.9670484574171399, 0.9847782112837715, 0.9916105016669475], [0.9991142516148197, 1.4424240900589536e-06, 1.9885316534896152e-08, 1.6002466282517338e-06, 3.7966670165465774e-05, 2.2415577162953164e-05], [0.0006192126073832937, 0.7277677473994528, 9.796614724257613e-05, 4.595331401913878e-07, 3.511309034003918e-06, 7.939132569672201e-06], [1.7537575329415444e-06, 0.0006488677669215103, 0.22525359834048664, 0.00038268395516774593, 8.348120619693174e-06, 1.0319923506781837e-05], [5.3282002333888e-07, 3.722470816231582e-06, 0.0005139940961261075, 0.032237008620720514, 0.004580891975595232, 0.0001228132010284825], [1.529219911529078e-05, 1.0505658729087412e-06, 3.1681990184157547e-06, 0.0003293381852302346, 0.010590599269195809, 0.008225561084187056]], \"type\": \"heatmap\"}], {\"plot_bgcolor\": \"#000\", \"paper_bgcolor\": \"#000\", \"width\": 300, \"title\": \"5 Blobs:Confidence after 153600 Iters\", \"yaxis\": {\"title\": \"Count Word\", \"tickcolor\": \"#FFF\", \"range\": [-0.5, 5.5], \"dtick\": 1}, \"height\": 300, \"titlefont\": {\"color\": \"#FFF\"}, \"xaxis\": {\"title\": \"Glimpses\", \"tickcolor\": \"#FFF\", \"range\": [-0.5, 5.5], \"dtick\": 1}, \"font\": {\"color\": \"#FFF\"}}, {\"linkText\": \"Export to plot.ly\", \"showLink\": true})});</script>"
      ]
     },
     "metadata": {},
     "output_type": "display_data"
    },
    {
     "data": {
      "application/vnd.plotly.v1+json": {
       "data": [
        {
         "colorscale": "Jet",
         "type": "heatmap",
         "z": [
          [
           1.2819263245431958e-06,
           0.10855217149611718,
           0.6156334256545368,
           0.9798117399601003,
           0.9701038708986878,
           0.9979947742282336
          ],
          [
           0.9999874991695189,
           8.821674518405293e-06,
           4.520028117781955e-09,
           2.765982626623451e-06,
           0.00021330135473271314,
           6.850885994652545e-06
          ],
          [
           9.911837508463897e-06,
           0.891023298429039,
           0.00031566169084026527,
           4.5879834356361184e-07,
           4.7175529268951055e-06,
           4.7981090329984344e-05
          ],
          [
           7.405316302140003e-09,
           0.0004141389258222956,
           0.3839606148617703,
           0.00016821122123822428,
           1.4640324154714882e-06,
           4.550227773970086e-06
          ],
          [
           8.150421511010132e-09,
           1.646534780612774e-07,
           8.953685927980393e-05,
           0.019711987989838867,
           0.00016184160427864586,
           2.656394621473787e-06
          ],
          [
           8.572542138248947e-07,
           9.73183148479986e-07,
           3.156403829980463e-07,
           0.0003044115882505768,
           0.029514399907492755,
           0.0019427445652343603
          ]
         ]
        }
       ],
       "layout": {
        "font": {
         "color": "#FFF"
        },
        "height": 300,
        "paper_bgcolor": "#000",
        "plot_bgcolor": "#000",
        "title": "5 Blobs:Confidence after 204800 Iters",
        "titlefont": {
         "color": "#FFF"
        },
        "width": 300,
        "xaxis": {
         "dtick": 1,
         "range": [
          -0.5,
          5.5
         ],
         "tickcolor": "#FFF",
         "title": "Glimpses"
        },
        "yaxis": {
         "dtick": 1,
         "range": [
          -0.5,
          5.5
         ],
         "tickcolor": "#FFF",
         "title": "Count Word"
        }
       }
      },
      "text/html": [
       "<div id=\"8538dfc8-4fd4-46ea-a218-c170e0ff9d1e\" style=\"height: 300px; width: 300px;\" class=\"plotly-graph-div\"></div><script type=\"text/javascript\">require([\"plotly\"], function(Plotly) { window.PLOTLYENV=window.PLOTLYENV || {};window.PLOTLYENV.BASE_URL=\"https://plot.ly\";Plotly.newPlot(\"8538dfc8-4fd4-46ea-a218-c170e0ff9d1e\", [{\"colorscale\": \"Jet\", \"z\": [[1.2819263245431958e-06, 0.10855217149611718, 0.6156334256545368, 0.9798117399601003, 0.9701038708986878, 0.9979947742282336], [0.9999874991695189, 8.821674518405293e-06, 4.520028117781955e-09, 2.765982626623451e-06, 0.00021330135473271314, 6.850885994652545e-06], [9.911837508463897e-06, 0.891023298429039, 0.00031566169084026527, 4.5879834356361184e-07, 4.7175529268951055e-06, 4.7981090329984344e-05], [7.405316302140003e-09, 0.0004141389258222956, 0.3839606148617703, 0.00016821122123822428, 1.4640324154714882e-06, 4.550227773970086e-06], [8.150421511010132e-09, 1.646534780612774e-07, 8.953685927980393e-05, 0.019711987989838867, 0.00016184160427864586, 2.656394621473787e-06], [8.572542138248947e-07, 9.73183148479986e-07, 3.156403829980463e-07, 0.0003044115882505768, 0.029514399907492755, 0.0019427445652343603]], \"type\": \"heatmap\"}], {\"plot_bgcolor\": \"#000\", \"paper_bgcolor\": \"#000\", \"width\": 300, \"title\": \"5 Blobs:Confidence after 204800 Iters\", \"yaxis\": {\"title\": \"Count Word\", \"tickcolor\": \"#FFF\", \"range\": [-0.5, 5.5], \"dtick\": 1}, \"height\": 300, \"titlefont\": {\"color\": \"#FFF\"}, \"xaxis\": {\"title\": \"Glimpses\", \"tickcolor\": \"#FFF\", \"range\": [-0.5, 5.5], \"dtick\": 1}, \"font\": {\"color\": \"#FFF\"}}, {\"linkText\": \"Export to plot.ly\", \"showLink\": true})});</script>"
      ],
      "text/vnd.plotly.v1+html": [
       "<div id=\"8538dfc8-4fd4-46ea-a218-c170e0ff9d1e\" style=\"height: 300px; width: 300px;\" class=\"plotly-graph-div\"></div><script type=\"text/javascript\">require([\"plotly\"], function(Plotly) { window.PLOTLYENV=window.PLOTLYENV || {};window.PLOTLYENV.BASE_URL=\"https://plot.ly\";Plotly.newPlot(\"8538dfc8-4fd4-46ea-a218-c170e0ff9d1e\", [{\"colorscale\": \"Jet\", \"z\": [[1.2819263245431958e-06, 0.10855217149611718, 0.6156334256545368, 0.9798117399601003, 0.9701038708986878, 0.9979947742282336], [0.9999874991695189, 8.821674518405293e-06, 4.520028117781955e-09, 2.765982626623451e-06, 0.00021330135473271314, 6.850885994652545e-06], [9.911837508463897e-06, 0.891023298429039, 0.00031566169084026527, 4.5879834356361184e-07, 4.7175529268951055e-06, 4.7981090329984344e-05], [7.405316302140003e-09, 0.0004141389258222956, 0.3839606148617703, 0.00016821122123822428, 1.4640324154714882e-06, 4.550227773970086e-06], [8.150421511010132e-09, 1.646534780612774e-07, 8.953685927980393e-05, 0.019711987989838867, 0.00016184160427864586, 2.656394621473787e-06], [8.572542138248947e-07, 9.73183148479986e-07, 3.156403829980463e-07, 0.0003044115882505768, 0.029514399907492755, 0.0019427445652343603]], \"type\": \"heatmap\"}], {\"plot_bgcolor\": \"#000\", \"paper_bgcolor\": \"#000\", \"width\": 300, \"title\": \"5 Blobs:Confidence after 204800 Iters\", \"yaxis\": {\"title\": \"Count Word\", \"tickcolor\": \"#FFF\", \"range\": [-0.5, 5.5], \"dtick\": 1}, \"height\": 300, \"titlefont\": {\"color\": \"#FFF\"}, \"xaxis\": {\"title\": \"Glimpses\", \"tickcolor\": \"#FFF\", \"range\": [-0.5, 5.5], \"dtick\": 1}, \"font\": {\"color\": \"#FFF\"}}, {\"linkText\": \"Export to plot.ly\", \"showLink\": true})});</script>"
      ]
     },
     "metadata": {},
     "output_type": "display_data"
    },
    {
     "data": {
      "application/vnd.plotly.v1+json": {
       "data": [
        {
         "colorscale": "Jet",
         "type": "heatmap",
         "z": [
          [
           1.3900473689740147e-06,
           0.23524159309882467,
           0.9164962521286464,
           0.9748022722278432,
           0.9749708377832048,
           0.9952581711984682
          ],
          [
           0.9999888994906185,
           5.127973439553281e-06,
           4.011306516202152e-08,
           8.037787634948918e-06,
           8.001648769831114e-05,
           7.1048852671231285e-06
          ],
          [
           6.8515657491012636e-06,
           0.7644580920608853,
           6.396721755936625e-05,
           1.6910884657071213e-06,
           3.651974244923993e-06,
           1.0708992107503636e-05
          ],
          [
           7.080351666137585e-09,
           0.0002908886548110227,
           0.08331342020615337,
           0.00013514269153861236,
           1.2224299375342125e-06,
           4.537375450569205e-07
          ],
          [
           1.4521689991573906e-08,
           3.0382475993330964e-07,
           0.00012445192343401635,
           0.024458606312849702,
           0.0009002010177815201,
           7.791537204931413e-06
          ],
          [
           2.2130013749188426e-06,
           3.387415775509769e-06,
           1.2543762417093798e-06,
           0.0005935992113170215,
           0.024043478702376202,
           0.004715163383265822
          ]
         ]
        }
       ],
       "layout": {
        "font": {
         "color": "#FFF"
        },
        "height": 300,
        "paper_bgcolor": "#000",
        "plot_bgcolor": "#000",
        "title": "5 Blobs:Confidence after 307200 Iters",
        "titlefont": {
         "color": "#FFF"
        },
        "width": 300,
        "xaxis": {
         "dtick": 1,
         "range": [
          -0.5,
          5.5
         ],
         "tickcolor": "#FFF",
         "title": "Glimpses"
        },
        "yaxis": {
         "dtick": 1,
         "range": [
          -0.5,
          5.5
         ],
         "tickcolor": "#FFF",
         "title": "Count Word"
        }
       }
      },
      "text/html": [
       "<div id=\"ed7a60cf-010c-4af2-89f5-c99f57546e13\" style=\"height: 300px; width: 300px;\" class=\"plotly-graph-div\"></div><script type=\"text/javascript\">require([\"plotly\"], function(Plotly) { window.PLOTLYENV=window.PLOTLYENV || {};window.PLOTLYENV.BASE_URL=\"https://plot.ly\";Plotly.newPlot(\"ed7a60cf-010c-4af2-89f5-c99f57546e13\", [{\"colorscale\": \"Jet\", \"z\": [[1.3900473689740147e-06, 0.23524159309882467, 0.9164962521286464, 0.9748022722278432, 0.9749708377832048, 0.9952581711984682], [0.9999888994906185, 5.127973439553281e-06, 4.011306516202152e-08, 8.037787634948918e-06, 8.001648769831114e-05, 7.1048852671231285e-06], [6.8515657491012636e-06, 0.7644580920608853, 6.396721755936625e-05, 1.6910884657071213e-06, 3.651974244923993e-06, 1.0708992107503636e-05], [7.080351666137585e-09, 0.0002908886548110227, 0.08331342020615337, 0.00013514269153861236, 1.2224299375342125e-06, 4.537375450569205e-07], [1.4521689991573906e-08, 3.0382475993330964e-07, 0.00012445192343401635, 0.024458606312849702, 0.0009002010177815201, 7.791537204931413e-06], [2.2130013749188426e-06, 3.387415775509769e-06, 1.2543762417093798e-06, 0.0005935992113170215, 0.024043478702376202, 0.004715163383265822]], \"type\": \"heatmap\"}], {\"plot_bgcolor\": \"#000\", \"paper_bgcolor\": \"#000\", \"width\": 300, \"title\": \"5 Blobs:Confidence after 307200 Iters\", \"yaxis\": {\"title\": \"Count Word\", \"tickcolor\": \"#FFF\", \"range\": [-0.5, 5.5], \"dtick\": 1}, \"height\": 300, \"titlefont\": {\"color\": \"#FFF\"}, \"xaxis\": {\"title\": \"Glimpses\", \"tickcolor\": \"#FFF\", \"range\": [-0.5, 5.5], \"dtick\": 1}, \"font\": {\"color\": \"#FFF\"}}, {\"linkText\": \"Export to plot.ly\", \"showLink\": true})});</script>"
      ],
      "text/vnd.plotly.v1+html": [
       "<div id=\"ed7a60cf-010c-4af2-89f5-c99f57546e13\" style=\"height: 300px; width: 300px;\" class=\"plotly-graph-div\"></div><script type=\"text/javascript\">require([\"plotly\"], function(Plotly) { window.PLOTLYENV=window.PLOTLYENV || {};window.PLOTLYENV.BASE_URL=\"https://plot.ly\";Plotly.newPlot(\"ed7a60cf-010c-4af2-89f5-c99f57546e13\", [{\"colorscale\": \"Jet\", \"z\": [[1.3900473689740147e-06, 0.23524159309882467, 0.9164962521286464, 0.9748022722278432, 0.9749708377832048, 0.9952581711984682], [0.9999888994906185, 5.127973439553281e-06, 4.011306516202152e-08, 8.037787634948918e-06, 8.001648769831114e-05, 7.1048852671231285e-06], [6.8515657491012636e-06, 0.7644580920608853, 6.396721755936625e-05, 1.6910884657071213e-06, 3.651974244923993e-06, 1.0708992107503636e-05], [7.080351666137585e-09, 0.0002908886548110227, 0.08331342020615337, 0.00013514269153861236, 1.2224299375342125e-06, 4.537375450569205e-07], [1.4521689991573906e-08, 3.0382475993330964e-07, 0.00012445192343401635, 0.024458606312849702, 0.0009002010177815201, 7.791537204931413e-06], [2.2130013749188426e-06, 3.387415775509769e-06, 1.2543762417093798e-06, 0.0005935992113170215, 0.024043478702376202, 0.004715163383265822]], \"type\": \"heatmap\"}], {\"plot_bgcolor\": \"#000\", \"paper_bgcolor\": \"#000\", \"width\": 300, \"title\": \"5 Blobs:Confidence after 307200 Iters\", \"yaxis\": {\"title\": \"Count Word\", \"tickcolor\": \"#FFF\", \"range\": [-0.5, 5.5], \"dtick\": 1}, \"height\": 300, \"titlefont\": {\"color\": \"#FFF\"}, \"xaxis\": {\"title\": \"Glimpses\", \"tickcolor\": \"#FFF\", \"range\": [-0.5, 5.5], \"dtick\": 1}, \"font\": {\"color\": \"#FFF\"}}, {\"linkText\": \"Export to plot.ly\", \"showLink\": true})});</script>"
      ]
     },
     "metadata": {},
     "output_type": "display_data"
    },
    {
     "ename": "IndexError",
     "evalue": "index 5 is out of bounds for axis 1 with size 5",
     "output_type": "error",
     "traceback": [
      "\u001b[0;31m---------------------------------------------------------------------------\u001b[0m",
      "\u001b[0;31mIndexError\u001b[0m                                Traceback (most recent call last)",
      "\u001b[0;32m<ipython-input-8-2d86a7238fa2>\u001b[0m in \u001b[0;36m<module>\u001b[0;34m()\u001b[0m\n\u001b[1;32m      1\u001b[0m \u001b[0;32mfor\u001b[0m \u001b[0mn\u001b[0m\u001b[0;34m,\u001b[0m \u001b[0mnum\u001b[0m \u001b[0;32min\u001b[0m \u001b[0menumerate\u001b[0m\u001b[0;34m(\u001b[0m\u001b[0mblob_list\u001b[0m\u001b[0;34m)\u001b[0m\u001b[0;34m:\u001b[0m\u001b[0;34m\u001b[0m\u001b[0m\n\u001b[1;32m      2\u001b[0m     \u001b[0;32mfor\u001b[0m \u001b[0mi\u001b[0m\u001b[0;34m,\u001b[0m \u001b[0mit\u001b[0m \u001b[0;32min\u001b[0m \u001b[0menumerate\u001b[0m\u001b[0;34m(\u001b[0m\u001b[0miter_list\u001b[0m\u001b[0;34m)\u001b[0m\u001b[0;34m:\u001b[0m\u001b[0;34m\u001b[0m\u001b[0m\n\u001b[0;32m----> 3\u001b[0;31m         \u001b[0mplot_confidence\u001b[0m\u001b[0;34m(\u001b[0m\u001b[0mi\u001b[0m\u001b[0;34m,\u001b[0m \u001b[0mit\u001b[0m\u001b[0;34m,\u001b[0m \u001b[0mnum\u001b[0m\u001b[0;34m)\u001b[0m\u001b[0;34m\u001b[0m\u001b[0m\n\u001b[0m\u001b[1;32m      4\u001b[0m         \u001b[0;31m#plot_choice(i, it, num)\u001b[0m\u001b[0;34m\u001b[0m\u001b[0;34m\u001b[0m\u001b[0m\n",
      "\u001b[0;32m<ipython-input-7-c1f00069af11>\u001b[0m in \u001b[0;36mplot_confidence\u001b[0;34m(iter_idx, it, num_blobs, run)\u001b[0m\n\u001b[1;32m      5\u001b[0m         \u001b[0mmatrix\u001b[0m \u001b[0;34m=\u001b[0m \u001b[0mnp\u001b[0m\u001b[0;34m.\u001b[0m\u001b[0mzeros\u001b[0m\u001b[0;34m(\u001b[0m\u001b[0;34m[\u001b[0m\u001b[0;36m6\u001b[0m\u001b[0;34m,\u001b[0m\u001b[0;36m6\u001b[0m\u001b[0;34m]\u001b[0m\u001b[0;34m)\u001b[0m\u001b[0;34m\u001b[0m\u001b[0m\n\u001b[1;32m      6\u001b[0m         \u001b[0;32mfor\u001b[0m \u001b[0mg\u001b[0m \u001b[0;32min\u001b[0m \u001b[0mrange\u001b[0m \u001b[0;34m(\u001b[0m\u001b[0;36m6\u001b[0m\u001b[0;34m)\u001b[0m\u001b[0;34m:\u001b[0m\u001b[0;34m\u001b[0m\u001b[0m\n\u001b[0;32m----> 7\u001b[0;31m             \u001b[0mmatrix\u001b[0m\u001b[0;34m[\u001b[0m\u001b[0;34m:\u001b[0m\u001b[0;34m,\u001b[0m\u001b[0mg\u001b[0m\u001b[0;34m]\u001b[0m \u001b[0;34m=\u001b[0m \u001b[0mconfidence_avg\u001b[0m\u001b[0;34m[\u001b[0m\u001b[0miter_idx\u001b[0m\u001b[0;34m,\u001b[0m \u001b[0mnum_blobs\u001b[0m\u001b[0;34m,\u001b[0m \u001b[0mg\u001b[0m\u001b[0;34m,\u001b[0m \u001b[0;36m0\u001b[0m\u001b[0;34m]\u001b[0m\u001b[0;34m\u001b[0m\u001b[0m\n\u001b[0m\u001b[1;32m      8\u001b[0m         \u001b[0mplot_title\u001b[0m \u001b[0;34m=\u001b[0m \u001b[0;34m\"%d Blobs:Confidence after %d Iters\"\u001b[0m \u001b[0;34m%\u001b[0m \u001b[0;34m(\u001b[0m\u001b[0mnum_blobs\u001b[0m\u001b[0;34m+\u001b[0m\u001b[0;36m1\u001b[0m\u001b[0;34m,\u001b[0m \u001b[0mit\u001b[0m\u001b[0;34m)\u001b[0m\u001b[0;34m\u001b[0m\u001b[0m\n\u001b[1;32m      9\u001b[0m \u001b[0;34m\u001b[0m\u001b[0m\n",
      "\u001b[0;31mIndexError\u001b[0m: index 5 is out of bounds for axis 1 with size 5"
     ]
    }
   ],
   "source": [
    "for n, num in enumerate(blob_list):\n",
    "    for i, it in enumerate(iter_list):\n",
    "        plot_confidence(i, it, num)\n",
    "        #plot_choice(i, it, num)"
   ]
  },
  {
   "cell_type": "code",
   "execution_count": null,
   "metadata": {
    "collapsed": true,
    "scrolled": false
   },
   "outputs": [],
   "source": [
    "iter_list= [600000]\n",
    "for n, num in enumerate(blob_list): \n",
    "    for i, it in enumerate(iter_list):\n",
    "        plot_confidence(i, it, num)\n",
    "    #plot_choice(i, it, num)"
   ]
  },
  {
   "cell_type": "code",
   "execution_count": null,
   "metadata": {
    "collapsed": true
   },
   "outputs": [],
   "source": [
    "import matplotlib.pyplot as plt\n",
    "from mpl_toolkits.axes_grid1 import ImageGrid\n",
    "import numpy as np\n",
    "\n",
    "F = plt.figure(1, (16,16))\n",
    "F.clf()\n",
    "\n",
    "ZS = np.zeros([num_iters*(output_size-1),6,6])\n",
    "extent = (0, 6, 0, 6) \n",
    "    \n",
    "matrix = np.zeros([6, 6])\n",
    "for num_blobs in range (output_size-1):\n",
    "    for iter_idx in range (num_iters):\n",
    "        for g in range (6):\n",
    "            matrix[:,g] = confidence_avg[iter_idx, num_blobs, g, 0]\n",
    "            ZS[iter_idx+num_iters*num_blobs] = matrix\n",
    "\n",
    "extent = extent[0], extent[1], extent[2], extent[3] \n",
    "\n",
    "grid = ImageGrid(F, 212,\n",
    "                 nrows_ncols=(output_size-1, num_iters),\n",
    "                 direction=\"row\",\n",
    "                 axes_pad=0.05,\n",
    "                 add_all=True,\n",
    "                 label_mode=\"1\",\n",
    "                 share_all=True,\n",
    "                 cbar_location=\"right\",\n",
    "                 cbar_mode=\"single\",\n",
    "                 cbar_size=\"5%\",\n",
    "                 cbar_pad=0.05,\n",
    "                 )\n",
    "\n",
    "grid[0].set_xlabel(\"Glimpse\")\n",
    "grid[0].set_ylabel(\"Count Word\")\n",
    "\n",
    "vmax, vmin = np.max(ZS), np.min(ZS)\n",
    "import matplotlib.colors\n",
    "norm = matplotlib.colors.Normalize(vmax=vmax, vmin=vmin)\n",
    "\n",
    "for ax, im_title in zip(grid, [\"iter=0\", \"1000\", \"4000\", \"16000\", \"32000\", \"64000\", \"125000\", \"250000\", \"500000\", \"600000\"]):\n",
    "    ax.set_title(im_title)\n",
    "    ax.patch.set_alpha(0.5)\n",
    "        \n",
    "for ax, z in zip(grid, ZS):\n",
    "    im = ax.imshow(z, norm=norm,\n",
    "                   origin=\"lower\", extent=extent,\n",
    "                   interpolation=\"nearest\")\n",
    "\n",
    "# With cbar_mode=\"single\", cax attribute of all axes are identical.\n",
    "ax.cax.colorbar(im)\n",
    "ax.cax.toggle_label(True)\n",
    "\n",
    "grid[0].set_xticks([1,2,3,4,5,6])\n",
    "grid[0].set_yticks([0,1,2,3,4,5])\n",
    "plt.draw()\n",
    "plt.show()\n",
    "\n"
   ]
  },
  {
   "cell_type": "code",
   "execution_count": null,
   "metadata": {
    "collapsed": true
   },
   "outputs": [],
   "source": []
  }
 ],
 "metadata": {
  "kernelspec": {
   "display_name": "Python 3",
   "language": "python",
   "name": "python3"
  },
  "language_info": {
   "codemirror_mode": {
    "name": "ipython",
    "version": 3
   },
   "file_extension": ".py",
   "mimetype": "text/x-python",
   "name": "python",
   "nbconvert_exporter": "python",
   "pygments_lexer": "ipython3",
   "version": "3.5.2"
  }
 },
 "nbformat": 4,
 "nbformat_minor": 2
}
