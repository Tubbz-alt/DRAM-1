{
 "cells": [
  {
   "cell_type": "code",
   "execution_count": 1,
   "metadata": {},
   "outputs": [
    {
     "data": {
      "text/html": [
       "<script>requirejs.config({paths: { 'plotly': ['https://cdn.plot.ly/plotly-latest.min']},});if(!window.Plotly) {{require(['plotly'],function(plotly) {window.Plotly=plotly;});}}</script>"
      ],
      "text/vnd.plotly.v1+html": [
       "<script>requirejs.config({paths: { 'plotly': ['https://cdn.plot.ly/plotly-latest.min']},});if(!window.Plotly) {{require(['plotly'],function(plotly) {window.Plotly=plotly;});}}</script>"
      ]
     },
     "metadata": {},
     "output_type": "display_data"
    },
    {
     "name": "stdout",
     "output_type": "stream",
     "text": [
      "['/usr/local/lib/python3.5/dist-packages/ipykernel_launcher.py', '-f', 'true', 'true', 'true', 'true', 'true', 'model_runs/-f/count_log.csv', 'model_runs/-f/countmodel_0.ckpt', 'model_runs/-f/countmodel_', 'true', 'false', 'false', 'true']\n",
      "WARNING:tensorflow:From /home/mtfang/DRAM/COUNT_viz_task_nogamma.py:286: arg_max (from tensorflow.python.ops.gen_math_ops) is deprecated and will be removed in a future version.\n",
      "Instructions for updating:\n",
      "Use `argmax` instead\n",
      "WARNING:tensorflow:From /home/mtfang/DRAM/COUNT_viz_task_nogamma.py:287: arg_max (from tensorflow.python.ops.gen_math_ops) is deprecated and will be removed in a future version.\n",
      "Instructions for updating:\n",
      "Use `argmax` instead\n",
      "WARNING:tensorflow:From /home/mtfang/DRAM/COUNT_viz_task_nogamma.py:286: arg_max (from tensorflow.python.ops.gen_math_ops) is deprecated and will be removed in a future version.\n",
      "Instructions for updating:\n",
      "Use `argmax` instead\n",
      "WARNING:tensorflow:From /home/mtfang/DRAM/COUNT_viz_task_nogamma.py:287: arg_max (from tensorflow.python.ops.gen_math_ops) is deprecated and will be removed in a future version.\n",
      "Instructions for updating:\n",
      "Use `argmax` instead\n",
      "WARNING:tensorflow:From /home/mtfang/DRAM/COUNT_viz_task_nogamma.py:286: arg_max (from tensorflow.python.ops.gen_math_ops) is deprecated and will be removed in a future version.\n",
      "Instructions for updating:\n",
      "Use `argmax` instead\n",
      "WARNING:tensorflow:From /home/mtfang/DRAM/COUNT_viz_task_nogamma.py:287: arg_max (from tensorflow.python.ops.gen_math_ops) is deprecated and will be removed in a future version.\n",
      "Instructions for updating:\n",
      "Use `argmax` instead\n",
      "WARNING:tensorflow:From /home/mtfang/DRAM/COUNT_viz_task_nogamma.py:286: arg_max (from tensorflow.python.ops.gen_math_ops) is deprecated and will be removed in a future version.\n",
      "Instructions for updating:\n",
      "Use `argmax` instead\n",
      "WARNING:tensorflow:From /home/mtfang/DRAM/COUNT_viz_task_nogamma.py:287: arg_max (from tensorflow.python.ops.gen_math_ops) is deprecated and will be removed in a future version.\n",
      "Instructions for updating:\n",
      "Use `argmax` instead\n",
      "WARNING:tensorflow:From /home/mtfang/DRAM/COUNT_viz_task_nogamma.py:286: arg_max (from tensorflow.python.ops.gen_math_ops) is deprecated and will be removed in a future version.\n",
      "Instructions for updating:\n",
      "Use `argmax` instead\n",
      "WARNING:tensorflow:From /home/mtfang/DRAM/COUNT_viz_task_nogamma.py:287: arg_max (from tensorflow.python.ops.gen_math_ops) is deprecated and will be removed in a future version.\n",
      "Instructions for updating:\n",
      "Use `argmax` instead\n",
      "WARNING:tensorflow:From /home/mtfang/DRAM/COUNT_viz_task_nogamma.py:286: arg_max (from tensorflow.python.ops.gen_math_ops) is deprecated and will be removed in a future version.\n",
      "Instructions for updating:\n",
      "Use `argmax` instead\n",
      "WARNING:tensorflow:From /home/mtfang/DRAM/COUNT_viz_task_nogamma.py:287: arg_max (from tensorflow.python.ops.gen_math_ops) is deprecated and will be removed in a future version.\n",
      "Instructions for updating:\n",
      "Use `argmax` instead\n",
      "WARNING:tensorflow:From /home/mtfang/DRAM/COUNT_viz_task_nogamma.py:286: arg_max (from tensorflow.python.ops.gen_math_ops) is deprecated and will be removed in a future version.\n",
      "Instructions for updating:\n",
      "Use `argmax` instead\n",
      "WARNING:tensorflow:From /home/mtfang/DRAM/COUNT_viz_task_nogamma.py:287: arg_max (from tensorflow.python.ops.gen_math_ops) is deprecated and will be removed in a future version.\n",
      "Instructions for updating:\n",
      "Use `argmax` instead\n",
      "WARNING:tensorflow:From /home/mtfang/DRAM/COUNT_viz_task_nogamma.py:286: arg_max (from tensorflow.python.ops.gen_math_ops) is deprecated and will be removed in a future version.\n",
      "Instructions for updating:\n",
      "Use `argmax` instead\n",
      "WARNING:tensorflow:From /home/mtfang/DRAM/COUNT_viz_task_nogamma.py:287: arg_max (from tensorflow.python.ops.gen_math_ops) is deprecated and will be removed in a future version.\n",
      "Instructions for updating:\n",
      "Use `argmax` instead\n",
      "WARNING:tensorflow:From /home/mtfang/DRAM/COUNT_viz_task_nogamma.py:286: arg_max (from tensorflow.python.ops.gen_math_ops) is deprecated and will be removed in a future version.\n",
      "Instructions for updating:\n",
      "Use `argmax` instead\n",
      "WARNING:tensorflow:From /home/mtfang/DRAM/COUNT_viz_task_nogamma.py:287: arg_max (from tensorflow.python.ops.gen_math_ops) is deprecated and will be removed in a future version.\n",
      "Instructions for updating:\n",
      "Use `argmax` instead\n",
      "WARNING:tensorflow:From /home/mtfang/DRAM/COUNT_viz_task_nogamma.py:286: arg_max (from tensorflow.python.ops.gen_math_ops) is deprecated and will be removed in a future version.\n",
      "Instructions for updating:\n",
      "Use `argmax` instead\n",
      "WARNING:tensorflow:From /home/mtfang/DRAM/COUNT_viz_task_nogamma.py:287: arg_max (from tensorflow.python.ops.gen_math_ops) is deprecated and will be removed in a future version.\n",
      "Instructions for updating:\n",
      "Use `argmax` instead\n",
      "analysis_count.py\n"
     ]
    }
   ],
   "source": [
    "import numpy as np\n",
    "from plotly.offline import download_plotlyjs, init_notebook_mode, plot, iplot\n",
    "init_notebook_mode(connected=True)\n",
    "import plotly.graph_objs as go\n",
    "from analysis_count import read_n, classify_imgs2\n",
    "import matplotlib.pyplot as plt\n",
    "import operator\n",
    "%matplotlib inline"
   ]
  },
  {
   "cell_type": "code",
   "execution_count": 2,
   "metadata": {
    "collapsed": true
   },
   "outputs": [],
   "source": [
    "model_name = \"DRAM_3task_0127_run_1\"\n",
    "num_runs = 1\n",
    "test_trials = 200\n",
    "iter_list = np.arange(0,30250,250)#[3200, 4800, 6400, 9600, 12800]#, 200, 300, 400, 600, 800, 1200]#, 1600, 2400, 3200, 4800, 6400, 9600, 12800, 19200, 25600, 38400, 51200, 76800, 102400]#, 153600, 204800, 307200, 409600, 614400, 819200, 1000000]\n",
    "            #[0, 400, 800, 1600, 3200, 6400, 12800, 25600]#, 51200, 76800, 102400]#, 153600, 204800, 307200, 409600, 614400, 819200, 1000000, 2000000, 3000000, 4000000]\n",
    "             #[0, 1000, 4000, 16000, 32000, 64000, 125000, 250000, 500000, 600000]\n",
    "#iter_list = np.arange(0,11100000,100000)\n",
    "glimpse_list = np.arange(0,10,1)\n",
    "max_blobs = 9\n",
    "min_blobs = 1\n",
    "\n",
    "num_iters = len(iter_list)\n",
    "num_glimpses = len(glimpse_list)\n",
    "blob_list = np.arange(0,10,1)\n",
    "output_size = max_blobs - min_blobs + 2 # 10\n",
    "data_directory = \"data/\" + model_name + \"/\"\n",
    "m = 0.5\n",
    "num_imgs = test_trials*(output_size-1)\n",
    "\n",
    "confidence_all_runs = np.zeros([num_runs, num_iters, output_size-1, num_glimpses, 1, output_size]) \n",
    "choice_all_runs = np.zeros([num_runs, num_iters, output_size-1, num_glimpses, 1, output_size])\n",
    "countword_all_runs = np.zeros([num_runs, num_iters, num_imgs, output_size+1])\n",
    "pointblob_all_runs = np.zeros([num_runs, num_iters, num_imgs, output_size+1])\n",
    "point_target_all_runs = np.zeros([num_runs, num_iters, num_imgs, num_glimpses])\n",
    "blob_point_all_runs = np.zeros([num_runs, num_iters, num_imgs, output_size+1])\n",
    "class_all_runs = np.zeros([num_runs, num_iters, num_imgs])\n",
    "point_results_all_runs = np.zeros([num_runs, num_iters, num_imgs, num_glimpses])"
   ]
  },
  {
   "cell_type": "code",
   "execution_count": null,
   "metadata": {
    "collapsed": true
   },
   "outputs": [],
   "source": [
    "def fill_matrix(path, iteration):\n",
    "    \"\"\"Fill the confidence and choice matrices for one run at one iteration.\"\"\"\n",
    "    \n",
    "    data = None\n",
    "    num_imgs = test_trials*(output_size-1) # batch_size\n",
    "    imgs_data = classify_imgs2(iteration, True, num_imgs, path=path) # new_imgs = True\n",
    "        \n",
    "    confidence_one_run = np.zeros([output_size-1, num_glimpses, 1, output_size])\n",
    "    choice_one_run = np.zeros([output_size-1, num_glimpses, 1, output_size])\n",
    "    countword_one_run = np.zeros([num_imgs, output_size+1])\n",
    "    pointblob_one_run = np.zeros([num_imgs, output_size+1])\n",
    "    point_target_one_run = np.zeros([num_imgs, num_glimpses])\n",
    "    blob_point_one_run = np.zeros([num_imgs, output_size+1])\n",
    "    class_one_run = np.zeros(num_imgs)\n",
    "    point_results_one_run = np.zeros([num_imgs, num_glimpses]) # 1 to 9\n",
    "    \n",
    "    for nb in range(output_size-1):\n",
    "        confidence_hist = np.zeros([num_glimpses, 1, output_size])\n",
    "        choice_hist = np.zeros([num_glimpses, 1, output_size])\n",
    "        num_imgs_with_num_blobs = 0.00001\n",
    "        \n",
    "        for idx, data in enumerate(imgs_data):\n",
    "            if data[\"label\"][nb] == 1: # data is for an image with nb+1 blobs\n",
    "                num_imgs_with_num_blobs += 1\n",
    "                countword_one_run[idx][0]=nb+1\n",
    "                pointblob_one_run[idx][0]=nb+1\n",
    "                \n",
    "                for g, glimpse in enumerate(glimpse_list):\n",
    "                    # Histogram of softmaxes\n",
    "                    confidence_hist[glimpse] += data[\"classifications\"][glimpse]\n",
    "                    # Histogram of choices\n",
    "                    choice = np.argmax(data[\"classifications\"][glimpse])\n",
    "                    choice_list = [0] * (output_size)\n",
    "                    choice_list[choice] = 1\n",
    "                    choice_hist[glimpse] += choice_list\n",
    "                    # Count Word\n",
    "                    countword_one_run[idx][glimpse+1]=choice\n",
    "                    # Point Blob\n",
    "                    pointblob_one_run[idx][glimpse+1]=int(data[\"corrects\"][glimpse])\n",
    "                \n",
    "                pointblob_one_run[idx][nb+2]=nb+1\n",
    "                point_target_one_run[idx] = data[\"corrects\"]\n",
    "                point_target_one_run[idx][nb+1] = nb+1\n",
    "                class_one_run[idx] = data[\"class\"]+1\n",
    "                \n",
    "        confidence_hist = confidence_hist / num_imgs_with_num_blobs\n",
    "        confidence_one_run[nb] = confidence_hist.tolist()\n",
    "        choice_hist = choice_hist / num_imgs_with_num_blobs\n",
    "        choice_one_run[nb] = choice_hist.tolist()\n",
    "        \n",
    "    for idx, data in enumerate(imgs_data):\n",
    "        for g in range(1,num_glimpses+1):\n",
    "            blob_point_one_run[idx][g] = int(data[\"blob_point\"][g-1])\n",
    "        blob_point_one_run[idx][0] = data[\"class\"]+1\n",
    "        #gg=0\n",
    "        #while (gg<int(data[\"class\"]+2)):\n",
    "        #for gg in range(int(data[\"class\"]+2)):\n",
    "            #if point_target_one_run[idx][gg] == blob_point_one_run[idx][gg]:\n",
    "                #gg+=1\n",
    "         \n",
    "        #if gg==data[\"class\"]+1:\n",
    "               #point_results_one_run[int(data[\"class\"])-1]+=1            \n",
    "    \n",
    "    return confidence_one_run, choice_one_run, countword_one_run, point_target_one_run, blob_point_one_run, pointblob_one_run, point_results_one_run, class_one_run"
   ]
  },
  {
   "cell_type": "code",
   "execution_count": null,
   "metadata": {},
   "outputs": [],
   "source": [
    "for run in range(num_runs):\n",
    "    path = 'model_runs/' + model_name# + '_run_' + str(run + 1) \n",
    "#     path = 'model_runs/DRAM_test_square'\n",
    "    for i, iteration in enumerate(iter_list):\n",
    "        confidence_all_runs[run, i], choice_all_runs[run, i], countword_all_runs[run, i], point_target_all_runs[run, i], blob_point_all_runs[run, i], pointblob_all_runs[run, i],point_results_all_runs[run, i], class_all_runs[run, i] = fill_matrix(path, iteration)"
   ]
  },
  {
   "cell_type": "code",
   "execution_count": null,
   "metadata": {
    "collapsed": true
   },
   "outputs": [],
   "source": [
    "#point_target_all_runs[0,0,0]\n",
    "pointblob_all_runs[0,0,3]"
   ]
  },
  {
   "cell_type": "code",
   "execution_count": null,
   "metadata": {
    "collapsed": true
   },
   "outputs": [],
   "source": [
    "blob_point_all_runs[0,0,3]"
   ]
  },
  {
   "cell_type": "markdown",
   "metadata": {
    "collapsed": true,
    "scrolled": false
   },
   "source": [
    "# Count Analysis"
   ]
  },
  {
   "cell_type": "code",
   "execution_count": null,
   "metadata": {
    "collapsed": true
   },
   "outputs": [],
   "source": [
    "# Count\n",
    "sort_cws = np.zeros([num_runs, num_iters, num_imgs, output_size+1])\n",
    "\n",
    "for i in range(num_runs):\n",
    "    for j in range(num_iters):\n",
    "        sort_cws[i][j]=sorted(countword_all_runs[i, j, :], key = operator.itemgetter(0,1,2,3,4,5,6,7,8,9,10), reverse = False) # sorted count words\n",
    "\n",
    "stop_idx=np.ones([num_runs, num_iters, num_imgs])*(-1)\n",
    "\n",
    "for i in range(num_runs):\n",
    "    for j in range(num_iters):\n",
    "        for k in range (num_imgs):\n",
    "            for p in range (1, output_size+1):\n",
    "                if sort_cws[i][j][k][p]==0: # record end position\n",
    "                    stop_idx[i][j][k]=p\n",
    "                    break # stop at the first zero \n",
    "            \n",
    "\n",
    "count_results=np.zeros([num_runs, num_iters, 9, 11])  \n",
    "\n",
    "for i in range(num_runs):\n",
    "    for j in range(num_iters):\n",
    "        for k in range(num_imgs):\n",
    "            # not-well-formed\n",
    "            if stop_idx[i][j][k]==-1: # no \"I'm done!\" signal\n",
    "                count_results[i][j][k//test_trials][10]+=1\n",
    "            # all zeros\n",
    "            elif stop_idx[i][j][k]==1:\n",
    "                count_results[i][j][k//test_trials][0]+=1                \n",
    "            else:\n",
    "                for p in range(1,int(stop_idx[i][j][k])): \n",
    "                    if p!=sort_cws[i][j][k][p]:\n",
    "                        count_results[i][j][k//test_trials][10]+=1\n",
    "                        break \n",
    "                    elif p==stop_idx[i][j][k]-1:\n",
    "                        idx=int(max(sort_cws[i][j][k][1:int(stop_idx[i][j][k])+1]))\n",
    "                        count_results[i][j][k//test_trials][idx]+=1"
   ]
  },
  {
   "cell_type": "code",
   "execution_count": null,
   "metadata": {
    "collapsed": true
   },
   "outputs": [],
   "source": [
    "def plot_count_results(run, it):\n",
    "    \"\"\"Plot the count heatmap.\"\"\"\n",
    "    matrix = np.zeros([9,11])\n",
    "    matrix = results[run, it]\n",
    "    plot_title = \"Count at Run %d after %d Iters\" % (run + 1, iter_list[it])\n",
    "    plot_count_heatmap(matrix, plot_title)\n",
    "\n",
    "def plot_count_heatmap(matrix, plot_title):\n",
    "    \"\"\"Plot heatmap.\"\"\"\n",
    "    labels_1 = [\"0\",\"1\",\"2\",\"3\",\"4\",\"5\",\"6\",\"7\",\"8\",\"9\",\"NWF\"]\n",
    "    labels_2 = [\"1\",\"2\",\"3\",\"4\",\"5\",\"6\",\"7\",\"8\",\"9\"]\n",
    "    data = [go.Heatmap(\n",
    "        z=matrix,\n",
    "        colorscale=\"Jet\",\n",
    "    )]\n",
    "\n",
    "    layout = go.Layout(\n",
    "        title=plot_title,\n",
    "        xaxis=dict(\n",
    "            range=[0 - m, 11 + m],\n",
    "            title=\"Count Results\",\n",
    "            #dtick=1,\n",
    "            tickangle=0,\n",
    "            ticktext=labels_1,\n",
    "            tickvals=[i * 1 for i in range(len(labels_1))],\n",
    "            tickcolor='#FFF'\n",
    "        ),\n",
    "        yaxis=dict(\n",
    "            range=[0 - m, 8 + m],\n",
    "            title=\"True Class\",\n",
    "            #dtick=1,\n",
    "            ticktext=labels_2,\n",
    "            tickvals=[i * 1 for i in range(len(labels_2))],\n",
    "            tickcolor='#FFF'\n",
    "        ),        \n",
    "        width=500,\n",
    "        height=500,\n",
    "        plot_bgcolor=\"#000\",\n",
    "        paper_bgcolor=\"#000\",\n",
    "        font=dict(\n",
    "            color=\"#FFF\"\n",
    "        ),\n",
    "        titlefont=dict(\n",
    "            color=\"#FFF\"\n",
    "        ),\n",
    "    )\n",
    "    fig = go.Figure(data=data, layout=layout)\n",
    "    iplot(fig)\n",
    "\n",
    "def plot_count_results(run, it):\n",
    "    \"\"\"Plot the count heatmap.\"\"\"\n",
    "    matrix = np.zeros([9,11])\n",
    "    for g in range (num_runs):\n",
    "        matrix = results[run, it]\n",
    "        plot_title = \"Count at Run %d after %d Iters\" % (run + 1, iter_list[it])\n",
    "    plot_count_heatmap(matrix, plot_title)"
   ]
  },
  {
   "cell_type": "code",
   "execution_count": null,
   "metadata": {
    "collapsed": true
   },
   "outputs": [],
   "source": [
    "#for run in range(num_runs):\n",
    "    #for it in range(num_iters):\n",
    "        #plot_count_results(run,it)"
   ]
  },
  {
   "cell_type": "code",
   "execution_count": null,
   "metadata": {
    "collapsed": true
   },
   "outputs": [],
   "source": [
    "import plotly\n",
    "plotly.tools.set_credentials_file(username='mtfang0707', api_key='18LL0DZ6dDhgqxIQ3yPQ')\n",
    "import plotly.plotly as py\n",
    "import plotly.figure_factory as ff\n",
    "\n",
    "#fig = ff.create_annotated_heatmap(results[0][4])\n",
    "#py.iplot(fig)"
   ]
  },
  {
   "cell_type": "code",
   "execution_count": null,
   "metadata": {
    "collapsed": true
   },
   "outputs": [],
   "source": [
    "def plot_count_results_wv(run, it):\n",
    "    \"\"\"Plot the count heatmap with values.\"\"\"\n",
    "    data = count_results[run, it]\n",
    "    title = \"Count at Run %d after %d Iters\" % (run + 1, iter_list[it])\n",
    "    xlabel= \"Count Results\"\n",
    "    ylabel=\"True Class\"\n",
    "    plt.figure(figsize=(output_size+1, output_size-1))\n",
    "    plt.title(title, fontsize=20)\n",
    "    plt.xlabel(xlabel, fontsize=15)\n",
    "    plt.ylabel(ylabel, fontsize=15)\n",
    "    c = plt.pcolor(data, edgecolors='k', linewidths=2, cmap='Reds', vmin=0, vmax=test_trials)\n",
    "    xbars = ('0', '1', '2', '3', '4', '5', '6', '7', '8', '9', 'NWF')\n",
    "    x_pos=[0.5,1.5,2.5,3.5,4.5,5.5,6.5,7.5,8.5,9.5,10.5]\n",
    "    plt.xticks(x_pos, xbars, fontsize='10', horizontalalignment='center')\n",
    "    ybars = ('1', '2', '3', '4', '5', '6', '7', '8', '9')\n",
    "    y_pos=[0.5,1.5,2.5,3.5,4.5,5.5,6.5,7.5,8.5]\n",
    "    plt.yticks(y_pos, ybars, fontsize='10', horizontalalignment='center')\n",
    " \n",
    "    def show_values(pc, fmt=\"%.0f\", **kw):\n",
    "        pc.update_scalarmappable()\n",
    "        ax = pc.get_axes()\n",
    "        for p, color, value in zip(pc.get_paths(), pc.get_facecolors(), pc.get_array()):\n",
    "            x, y = p.vertices[:-2, :].mean(0)\n",
    "            color = (0.0, 0.0, 0.0) # value color\n",
    "            ax.text(x, y, fmt % value, ha=\"center\", va=\"center\", color=color, **kw)\n",
    "\n",
    "    show_values(c)\n",
    "    plt.colorbar(c)"
   ]
  },
  {
   "cell_type": "code",
   "execution_count": null,
   "metadata": {
    "collapsed": true
   },
   "outputs": [],
   "source": [
    "for run in range(num_runs):\n",
    "    for it in range(num_iters):\n",
    "        plot_count_results_wv(run,it)"
   ]
  },
  {
   "cell_type": "code",
   "execution_count": null,
   "metadata": {
    "collapsed": true
   },
   "outputs": [],
   "source": [
    "# How high the network can count?\n",
    "high_cot = np.zeros([num_runs, num_iters]) \n",
    "for i in range(num_runs):\n",
    "    for j in range(num_iters):\n",
    "        k=0\n",
    "        while (k<output_size-1): \n",
    "            if count_results[i][j][k][k+1]/test_trials>=0.9:\n",
    "                high_cot[i][j]+=1\n",
    "                k+=1\n",
    "            else:\n",
    "                k=output_size\n",
    "\n",
    "def plot_highest_count(run):\n",
    "    \"\"\"Plot the highest count word.\"\"\"\n",
    "    x = iter_list\n",
    "    y = high_cot[run]\n",
    "    plot_title = \"The highest count word at Run %d\" % (run + 1)\n",
    "    plt.title(plot_title)\n",
    "    plt.plot(x, y, '.-', color='r')\n",
    "    plt.axis([iter_list[0]-test_trials, iter_list[num_iters-1]+test_trials, 0, 10])\n",
    "    plt.xlabel('Iteration')\n",
    "    plt.ylabel('Highest count word')"
   ]
  },
  {
   "cell_type": "code",
   "execution_count": null,
   "metadata": {
    "collapsed": true
   },
   "outputs": [],
   "source": [
    "for run in range(num_runs):\n",
    "    plot_highest_count(run)"
   ]
  },
  {
   "cell_type": "markdown",
   "metadata": {},
   "source": [
    "# Point Analysis"
   ]
  },
  {
   "cell_type": "code",
   "execution_count": null,
   "metadata": {
    "collapsed": true
   },
   "outputs": [],
   "source": [
    "sort_pws = np.zeros([num_runs, num_iters, num_imgs, output_size+1])\n",
    "\n",
    "for i in range(num_runs):\n",
    "    for j in range(num_iters):\n",
    "        sort_pws[i][j]=sorted(blob_point_all_runs[i, j, :], key = operator.itemgetter(-1,1,2,3,4,5,6,7,8,9,10), reverse = False) # sorted count words\n",
    "\n",
    "pstop_idx=np.ones([num_runs, num_iters, num_imgs])*(-1)\n",
    "\n",
    "for i in range(num_runs):\n",
    "    for j in range(num_iters):\n",
    "        for k in range (num_imgs):\n",
    "            for p in range (2, output_size+1):\n",
    "                if sort_pws[i][j][k][p]!=-1 and sort_pws[i][j][k][p]==sort_pws[i][j][k][p-1]: # record end position\n",
    "                    pstop_idx[i][j][k]=p\n",
    "                    break # stop at the first repeated word\n",
    "\n",
    "point_results=np.zeros([num_runs, num_iters, 9, 10])  \n",
    "\n",
    "for i in range(num_runs):\n",
    "    for j in range(num_iters):\n",
    "        for k in range(num_imgs):\n",
    "            # not-well-formed\n",
    "            if pstop_idx[i][j][k]==-1: # no \"I'm done!\" signal\n",
    "                point_results[i][j][k//test_trials][9]+=1         \n",
    "            else:\n",
    "                for p in range(1,int(pstop_idx[i][j][k])): \n",
    "                    if p!=sort_pws[i][j][k][p]:\n",
    "                        point_results[i][j][k//test_trials][9]+=1\n",
    "                        break \n",
    "                    elif p==pstop_idx[i][j][k]-1:\n",
    "                        idx=int(max(sort_pws[i][j][k][1:int(pstop_idx[i][j][k])+1]))\n",
    "                        point_results[i][j][k//test_trials][idx-1]+=1  "
   ]
  },
  {
   "cell_type": "code",
   "execution_count": null,
   "metadata": {
    "collapsed": true
   },
   "outputs": [],
   "source": [
    "def plot_point_results_wv(run, it):\n",
    "    \"\"\"Plot the point heatmap with values.\"\"\"\n",
    "    data = point_results[run, it]\n",
    "    title = \"Point at Run %d after %d Iters\" % (run + 1, iter_list[it])\n",
    "    xlabel= \"Point Results\"\n",
    "    ylabel=\"True Class\"\n",
    "    plt.figure(figsize=(output_size, output_size-1))\n",
    "    plt.title(title, fontsize=20)\n",
    "    plt.xlabel(xlabel, fontsize=15)\n",
    "    plt.ylabel(ylabel, fontsize=15)\n",
    "    c = plt.pcolor(data, edgecolors='k', linewidths=2, cmap='Reds', vmin=0, vmax=test_trials)\n",
    "    xbars = ('1', '2', '3', '4', '5', '6', '7', '8', '9', 'NWF')\n",
    "    x_pos=[0.5,1.5,2.5,3.5,4.5,5.5,6.5,7.5,8.5,9.5,10.5]\n",
    "    plt.xticks(x_pos, xbars, fontsize='10', horizontalalignment='center')\n",
    "    ybars = ('1', '2', '3', '4', '5', '6', '7', '8', '9')\n",
    "    y_pos=[0.5,1.5,2.5,3.5,4.5,5.5,6.5,7.5,8.5]\n",
    "    plt.yticks(y_pos, ybars, fontsize='10', horizontalalignment='center')\n",
    " \n",
    "    def show_values(pc, fmt=\"%.0f\", **kw):\n",
    "        pc.update_scalarmappable()\n",
    "        ax = pc.get_axes()\n",
    "        for p, color, value in zip(pc.get_paths(), pc.get_facecolors(), pc.get_array()):\n",
    "            x, y = p.vertices[:-2, :].mean(0)\n",
    "            color = (0.0, 0.0, 0.0) # value color\n",
    "            ax.text(x, y, fmt % value, ha=\"center\", va=\"center\", color=color, **kw)\n",
    "\n",
    "    show_values(c)\n",
    "    plt.colorbar(c)"
   ]
  },
  {
   "cell_type": "code",
   "execution_count": null,
   "metadata": {
    "collapsed": true
   },
   "outputs": [],
   "source": [
    "for run in range(num_runs):\n",
    "    for it in range(num_iters):\n",
    "        plot_point_results_wv(run,it)"
   ]
  },
  {
   "cell_type": "code",
   "execution_count": null,
   "metadata": {
    "collapsed": true
   },
   "outputs": [],
   "source": [
    "point_accuracy = np.zeros([num_runs, output_size-1, num_iters])\n",
    "for i in range(num_runs):\n",
    "    for j in range(output_size-1):\n",
    "        for k in range(num_iters):\n",
    "            point_accuracy[i][j][k]=point_results[i][k][j][j]/test_trials"
   ]
  },
  {
   "cell_type": "code",
   "execution_count": null,
   "metadata": {
    "collapsed": true
   },
   "outputs": [],
   "source": [
    "for i in range(num_runs):\n",
    "    fig, axs = plt.subplots(1, 1)\n",
    "    x = np.linspace(iter_list[0], iter_list[num_iters-1], num_iters)\n",
    "    y1 = point_accuracy[i,0]\n",
    "    y2 = point_accuracy[i,1]\n",
    "    y3 = point_accuracy[i,2]\n",
    "    y4 = point_accuracy[i,3]\n",
    "    y5 = point_accuracy[i,4]\n",
    "    y6 = point_accuracy[i,5]\n",
    "    y7 = point_accuracy[i,6]\n",
    "    y8 = point_accuracy[i,7]\n",
    "    y9 = point_accuracy[i,8]\n",
    "    l1, l2, l3, l4, l5, l6, l7, l8, l9 = axs.plot(x, y1, 'ro-', x, y2, 'bs-', x, y3, 'g^-', x, y4, 'c.-', x, y5, 'ms-', x, y6, 'y^-', x, y7, 'k.-', x, y8, 'ws-', x, y9, 'r^-')\n",
    "\n",
    "    fig.legend((l1, l2, l3, l4, l5, l6, l7, l8, l9), ('1', '2', '3', '4', '5', '6', '7', '8', '9'), 'best')\n",
    "    plot_title = \"Point Performance at Run %d\" % (run + 1)\n",
    "    plt.title(plot_title)\n",
    "    #plt.tight_layout()\n",
    "    plt.show()"
   ]
  },
  {
   "cell_type": "code",
   "execution_count": null,
   "metadata": {
    "collapsed": true
   },
   "outputs": [],
   "source": [
    "# TASK 3: point performance\n",
    "cot_accuracy = np.zeros([num_runs, num_iters])\n",
    "cot_one =np.ones([num_runs, num_iters, num_imgs]) \n",
    "\n",
    "for i in range(num_runs):\n",
    "    for j in range(num_iters):\n",
    "        for k in range (num_imgs):\n",
    "            for p in range (1, 10):\n",
    "                if sort_cws[i][j][k][10]!=0:\n",
    "                    cot_one[i][j][k]=0\n",
    "                    break\n",
    "                if p!=sort_cws[i][j][k][p]: \n",
    "                    cot_one[i][j][k]=0\n",
    "            cot_accuracy[i][j]+=cot_one[i][j][k]\n",
    "    \n",
    "cot_accuracy/=9000\n",
    "\n",
    "def plot_count_accuracy(run):\n",
    "    \"\"\"Plot the only count performance.\"\"\"\n",
    "    x = iter_list\n",
    "    y = cot_accuracy[run]\n",
    "    plot_title = \"Performance of Count to 9 at Run %d\" % (run + 1)\n",
    "    plt.title(plot_title)\n",
    "    plt.plot(x, y, '.-')\n",
    "    plt.xlabel('Iteration')\n",
    "    plt.ylabel('Average accuracy')"
   ]
  },
  {
   "cell_type": "code",
   "execution_count": null,
   "metadata": {
    "collapsed": true,
    "scrolled": true
   },
   "outputs": [],
   "source": [
    "for run in range(num_runs):\n",
    "    plot_count_accuracy(run)"
   ]
  },
  {
   "cell_type": "code",
   "execution_count": null,
   "metadata": {
    "collapsed": true
   },
   "outputs": [],
   "source": [
    "def adj_all_runs(all_runs_matrix):\n",
    "    \"\"\"Adjust all the matrices so tick marks start with 1.\"\"\"\n",
    "    \n",
    "    new_all_runs_matrix = np.zeros([num_runs, num_iters, output_size-1, num_glimpses+1, 1, output_size])\n",
    "    for m, matrix in enumerate(all_runs_matrix):\n",
    "        for i in range(num_iters):\n",
    "            for g in range(num_glimpses):\n",
    "                new_all_runs_matrix[m, i, g] = adj_matrix(matrix[i, g])\n",
    "    return new_all_runs_matrix\n",
    "\n",
    "\n",
    "def adj_matrix(matrix):\n",
    "    \"\"\"Adjust the matrix so tick marks start with 1.\"\"\"\n",
    "    \n",
    "    a = np.zeros([1, output_size])\n",
    "    temp = np.vstack((a, matrix))\n",
    "    b = np.zeros([output_size + 1, 1])\n",
    "    new_matrix = np.hstack((b, temp))\n",
    "    return new_matrix\n",
    "\n",
    "\n",
    "confidence_all_runs_adj = confidence_all_runs#adj_all_runs(confidence_all_runs)\n",
    "choice_all_runs_adj = choice_all_runs#adj_all_runs(choice_all_runs)"
   ]
  },
  {
   "cell_type": "code",
   "execution_count": null,
   "metadata": {
    "collapsed": true
   },
   "outputs": [],
   "source": [
    "confidence_avg = np.mean(confidence_all_runs_adj, axis=0)\n",
    "choice_avg = np.mean(choice_all_runs_adj, axis=0)"
   ]
  },
  {
   "cell_type": "code",
   "execution_count": null,
   "metadata": {
    "collapsed": true
   },
   "outputs": [],
   "source": [
    "def plot_confidence(iter_idx, it, num_blobs, run=None):\n",
    "    \"\"\"Plot the confidence heatmap.\"\"\"\n",
    "    \n",
    "    if run is None:\n",
    "        matrix = np.zeros([10,10])\n",
    "        for g in range (10):\n",
    "            matrix[:,g] = confidence_avg[iter_idx, num_blobs, g, 0]\n",
    "        plot_title = \"%d Blobs:Confidence after %d Iters\" % (num_blobs+1, it)\n",
    "\n",
    "    else:\n",
    "        matrix = np.zeros([10,10])\n",
    "        for g in range (10):\n",
    "            matrix = confidence_all_runs_adj[run, iter_idx, num_blobs, g, 0]\n",
    "        plot_title = \"%d Blobs:Confidence at Run %d after %d Iters\" % (num_blobs+1, run + 1, it)\n",
    "    plot_heatmap(matrix, num_blobs, plot_title)\n",
    "\n",
    "\n",
    "def plot_choice(iter_idx, it, num_blobs, run=None):\n",
    "    \"\"\"Plot the choice heatmap.\"\"\"\n",
    "    \n",
    "    if run is None:\n",
    "        matrix = np.zeros([10,10])\n",
    "        for g in range (10):\n",
    "            matrix[:,g] = choice_avg[iter_idx, num_blobs, g, 0]\n",
    "        plot_title = \"%d Blobs:Choice after %d Iterations\" % (num_blobs+1, it)\n",
    "    else:\n",
    "        matrix = np.zeros([10,10])\n",
    "        for g in range (10):\n",
    "            matrix = choice_all_runs_adj[run, iter_idx, num_blobs, g, 0]\n",
    "        plot_title = \"%d Blobs:Choice at Run %d after %d Iterations\" % (num_blobs+1, run + 1, it)\n",
    "    plot_heatmap(matrix, num_blobs, plot_title)\n",
    "    \n",
    "    \n",
    "def plot_heatmap(matrix, num_blobs, plot_title):\n",
    "    \"\"\"Plot heatmap.\"\"\"\n",
    "    \n",
    "    data = [go.Heatmap(\n",
    "        z=matrix,\n",
    "        colorscale=\"Jet\"\n",
    "    )]\n",
    "\n",
    "    layout = go.Layout(\n",
    "        title=plot_title,\n",
    "        yaxis=dict(\n",
    "#             range=[max_blobs + m, min_blobs - m],\n",
    "            range=[0 - m, 9 + m],\n",
    "            title=\"Count Word\",\n",
    "            dtick=1,\n",
    "            tickcolor='#FFF'\n",
    "        ),\n",
    "        xaxis=dict(\n",
    "            range=[0 - m, 9 + m],\n",
    "            title=\"Glimpses\",\n",
    "            dtick=1,\n",
    "            tickcolor='#FFF'\n",
    "        ),\n",
    "        width=400,\n",
    "        height=400,\n",
    "        plot_bgcolor=\"#000\",\n",
    "        paper_bgcolor=\"#000\",\n",
    "        font=dict(\n",
    "            color=\"#FFF\"\n",
    "        ),\n",
    "        titlefont=dict(\n",
    "            color=\"#FFF\"\n",
    "        ),\n",
    "    )\n",
    "    fig = go.Figure(data=data, layout=layout)\n",
    "    iplot(fig)"
   ]
  },
  {
   "cell_type": "code",
   "execution_count": null,
   "metadata": {
    "collapsed": true,
    "scrolled": false
   },
   "outputs": [],
   "source": [
    "#for n, num in enumerate(blob_list):\n",
    "    #for i, it in enumerate(iter_list):\n",
    "        #plot_confidence(i, it, num)\n",
    "        #plot_choice(i, it, num)"
   ]
  },
  {
   "cell_type": "code",
   "execution_count": null,
   "metadata": {
    "collapsed": true,
    "scrolled": false
   },
   "outputs": [],
   "source": [
    "for n, num in enumerate(blob_list): \n",
    "    #for i, it in enumerate(iter_list):\n",
    "    plot_confidence(19, 4000000, num)\n",
    "    #plot_choice(18, 3000000, num)"
   ]
  },
  {
   "cell_type": "code",
   "execution_count": null,
   "metadata": {
    "collapsed": true
   },
   "outputs": [],
   "source": [
    "import matplotlib.pyplot as plt\n",
    "from mpl_toolkits.axes_grid1 import ImageGrid\n",
    "import numpy as np\n",
    "\n",
    "# Confidence\n",
    "F = plt.figure(1, (50,50))\n",
    "F.clf()\n",
    "\n",
    "ZS = np.zeros([num_iters*(output_size-1),10,10])\n",
    "extent = (0, 10, 0, 10) \n",
    "    \n",
    "matrix = np.zeros([10, 10])\n",
    "for num_blobs in range (output_size-1):\n",
    "    for iter_idx in range (num_iters):\n",
    "        for g in range (10):\n",
    "            matrix[:,g] = confidence_avg[iter_idx, num_blobs, g, 0]\n",
    "            ZS[iter_idx+num_iters*num_blobs] = matrix\n",
    "\n",
    "extent = extent[0], extent[1], extent[2], extent[3] \n",
    "\n",
    "grid = ImageGrid(F, 212,\n",
    "                 nrows_ncols=(output_size-1, num_iters),\n",
    "                 direction=\"row\",\n",
    "                 axes_pad=0.05,\n",
    "                 add_all=True,\n",
    "                 label_mode=\"1\",\n",
    "                 share_all=True,\n",
    "                 cbar_location=\"right\",\n",
    "                 cbar_mode=\"single\",\n",
    "                 cbar_size=\"5%\",\n",
    "                 cbar_pad=0.05,\n",
    "                 )\n",
    "\n",
    "grid[0].set_xlabel(\"Glimpse\")\n",
    "grid[0].set_ylabel(\"Count Word\")\n",
    "\n",
    "vmax, vmin = np.max(ZS), np.min(ZS)\n",
    "import matplotlib.colors\n",
    "norm = matplotlib.colors.Normalize(vmax=vmax, vmin=vmin)\n",
    "\n",
    "for ax, im_title in zip(grid, [\"iter=0\", \"400\", \"800\", \"1600\", \"3200\", \"6400\", \"12800\", \"25600\", \"51200\", \"102400\", \"153600\", \"204800\", \"307200\", \"409600\", \"614400\", \"819200\", \"1000000\", \"2000000\", \"3000000\", \"4000000\"]):\n",
    "    ax.set_title(im_title)\n",
    "    ax.patch.set_alpha(0.5)\n",
    "        \n",
    "for ax, z in zip(grid, ZS):\n",
    "    im = ax.imshow(z, norm=norm,\n",
    "                   origin=\"lower\", extent=extent,\n",
    "                   interpolation=\"nearest\")\n",
    "\n",
    "# With cbar_mode=\"single\", cax attribute of all axes are identical.\n",
    "ax.cax.colorbar(im)\n",
    "ax.cax.toggle_label(True)\n",
    "\n",
    "grid[0].set_xticks([1,2,3,4,5,6,7,8,9,10])\n",
    "grid[0].set_yticks([0,1,2,3,4,5,6,7,8,9])\n",
    "\n",
    "plt.draw()\n",
    "plt.show()"
   ]
  },
  {
   "cell_type": "code",
   "execution_count": null,
   "metadata": {
    "collapsed": true
   },
   "outputs": [],
   "source": [
    "# Choice\n",
    "F = plt.figure(1, (50,50))\n",
    "F.clf()\n",
    "\n",
    "ZS = np.zeros([num_iters*(output_size-1),10,10])\n",
    "extent = (0, 10, 0, 10) \n",
    "    \n",
    "matrix = np.zeros([10, 10])\n",
    "for num_blobs in range (output_size-1):\n",
    "    for iter_idx in range (num_iters):\n",
    "        for g in range (10):\n",
    "            matrix[:,g] = choice_avg[iter_idx, num_blobs, g, 0]\n",
    "            ZS[iter_idx+num_iters*num_blobs] = matrix\n",
    "\n",
    "extent = extent[0], extent[1], extent[2], extent[3] \n",
    "\n",
    "grid = ImageGrid(F, 212,\n",
    "                 nrows_ncols=(output_size-1, num_iters),\n",
    "                 direction=\"row\",\n",
    "                 axes_pad=0.05,\n",
    "                 add_all=True,\n",
    "                 label_mode=\"1\",\n",
    "                 share_all=True,\n",
    "                 cbar_location=\"right\",\n",
    "                 cbar_mode=\"single\",\n",
    "                 cbar_size=\"5%\",\n",
    "                 cbar_pad=0.05,\n",
    "                 )\n",
    "\n",
    "grid[0].set_xlabel(\"Glimpse\")\n",
    "grid[0].set_ylabel(\"Count Word\")\n",
    "\n",
    "vmax, vmin = np.max(ZS), np.min(ZS)\n",
    "import matplotlib.colors\n",
    "norm = matplotlib.colors.Normalize(vmax=vmax, vmin=vmin)\n",
    "\n",
    "for ax, im_title in zip(grid, [\"iter=0\", \"400\", \"800\", \"1600\", \"3200\", \"6400\", \"12800\", \"25600\", \"51200\", \"102400\", \"153600\", \"204800\", \"307200\", \"409600\", \"614400\", \"819200\", \"1000000\", \"2000000\", \"3000000\", \"4000000\"]):\n",
    "    ax.set_title(im_title)\n",
    "    ax.patch.set_alpha(0.5)\n",
    "        \n",
    "for ax, z in zip(grid, ZS):\n",
    "    im = ax.imshow(z, norm=norm,\n",
    "                   origin=\"lower\", extent=extent,\n",
    "                   interpolation=\"nearest\")\n",
    "\n",
    "# With cbar_mode=\"single\", cax attribute of all axes are identical.\n",
    "ax.cax.colorbar(im)\n",
    "ax.cax.toggle_label(True)\n",
    "\n",
    "grid[0].set_xticks([1,2,3,4,5,6,7,8,9,10])\n",
    "grid[0].set_yticks([0,1,2,3,4,5,6,7,8,9])\n",
    "\n",
    "plt.draw()\n",
    "plt.show()"
   ]
  },
  {
   "cell_type": "code",
   "execution_count": null,
   "metadata": {
    "collapsed": true
   },
   "outputs": [],
   "source": []
  }
 ],
 "metadata": {
  "kernelspec": {
   "display_name": "Python 3",
   "language": "python",
   "name": "python3"
  },
  "language_info": {
   "codemirror_mode": {
    "name": "ipython",
    "version": 3
   },
   "file_extension": ".py",
   "mimetype": "text/x-python",
   "name": "python",
   "nbconvert_exporter": "python",
   "pygments_lexer": "ipython3",
   "version": "3.5.2"
  }
 },
 "nbformat": 4,
 "nbformat_minor": 2
}
