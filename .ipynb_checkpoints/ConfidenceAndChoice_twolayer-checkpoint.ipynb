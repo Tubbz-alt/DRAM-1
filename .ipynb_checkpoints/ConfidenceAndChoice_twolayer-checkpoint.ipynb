{
 "cells": [
  {
   "cell_type": "markdown",
   "metadata": {},
   "source": [
    "# Confidence and Choice (Two Layer) Visualizer"
   ]
  },
  {
   "cell_type": "markdown",
   "metadata": {},
   "source": [
    "Run DRAM_classify_blobs 10 times (use runDRAM_twolayer.sh in hydra), then copy all the checkpoints to guppy (use copyDRAM_twolayer.sh in hydra and enter password 10x).\n",
    "\n",
    "Make sure these are the <b>guppy</b> model_settings: <br />\n",
    "min_edge = 2 <br />\n",
    "max_edge = 5 <br />\n",
    "min_blobs = 1 <br />\n",
    "max_blobs = 15 (15 for training, 9 for testing)<br />\n",
    "glimpses = max_blobs + 1 <br />\n",
    "batch_size = 100\n",
    "\n",
    "You could then use this entire program or use ClassificationDistributions.ipynb to output confidence_one_run for each run, and set them as the confidence for each run in confidence_all_runs."
   ]
  },
  {
   "cell_type": "code",
   "execution_count": 1,
   "metadata": {},
   "outputs": [
    {
     "data": {
      "text/html": [
       "<script>requirejs.config({paths: { 'plotly': ['https://cdn.plot.ly/plotly-latest.min']},});if(!window.Plotly) {{require(['plotly'],function(plotly) {window.Plotly=plotly;});}}</script>"
      ],
      "text/vnd.plotly.v1+html": [
       "<script>requirejs.config({paths: { 'plotly': ['https://cdn.plot.ly/plotly-latest.min']},});if(!window.Plotly) {{require(['plotly'],function(plotly) {window.Plotly=plotly;});}}</script>"
      ]
     },
     "metadata": {},
     "output_type": "display_data"
    },
    {
     "name": "stdout",
     "output_type": "stream",
     "text": [
      "['/usr/local/lib/python3.5/dist-packages/ipykernel_launcher.py', '-f', 'true', 'true', 'true', 'true', 'true', 'model_runs/-f/classify_log.csv', 'model_runs/-f/classifymodel_0.ckpt', 'model_runs/-f/classifymodel_', 'model_runs/-f/zzzdraw_data_5000.npy', 'false', 'true', 'false', 'false', 'true']\n",
      "WARNING:tensorflow:From /home/mtfang/DRAM/DRAMcopy13_twolayer_test.py:177: arg_max (from tensorflow.python.ops.gen_math_ops) is deprecated and will be removed in a future version.\n",
      "Instructions for updating:\n",
      "Use `argmax` instead\n",
      "WARNING:tensorflow:From /home/mtfang/DRAM/DRAMcopy13_twolayer_test.py:178: arg_max (from tensorflow.python.ops.gen_math_ops) is deprecated and will be removed in a future version.\n",
      "Instructions for updating:\n",
      "Use `argmax` instead\n",
      "analysis_twolayer.py\n"
     ]
    }
   ],
   "source": [
    "import numpy as np\n",
    "from plotly.offline import download_plotlyjs, init_notebook_mode, plot, iplot\n",
    "init_notebook_mode(connected=True)\n",
    "import plotly.graph_objs as go\n",
    "from analysis_twolayer import read_n, classify_imgs2\n",
    "import matplotlib.pyplot as plt\n",
    "%matplotlib inline"
   ]
  },
  {
   "cell_type": "code",
   "execution_count": 2,
   "metadata": {
    "collapsed": true
   },
   "outputs": [],
   "source": [
    "model_name = \"DRAM_twolayer_origin\"\n",
    "num_runs = 10\n",
    "iter_list = [0, 250, 1000, 4000, 16000, 32000, 64000, 125000, 250000, 500000, 1000000, 1500000, 2000000, 2500000]#, 4000000]\n",
    "max_blobs = 15\n",
    "min_blobs = 1\n",
    "\n",
    "num_iters = len(iter_list)\n",
    "output_size = max_blobs - min_blobs + 1 # 15\n",
    "data_directory = \"data/\" + model_name + \"/\"\n",
    "m = 0.5\n",
    "\n",
    "confidence_all_runs = np.zeros([num_runs, num_iters, output_size, output_size]) \n",
    "choice_all_runs = np.zeros([num_runs, num_iters, output_size, output_size]) "
   ]
  },
  {
   "cell_type": "code",
   "execution_count": 3,
   "metadata": {
    "collapsed": true
   },
   "outputs": [],
   "source": [
    "def fill_matrix(path, iteration):\n",
    "    \"\"\"Fill the confidence and choice matrices for one run at one iteration.\"\"\"\n",
    "    \n",
    "    data = None\n",
    "    num_imgs = 100 # batch_size\n",
    "    imgs_data = classify_imgs2(iteration, True, num_imgs, path=path) # new_imgs = True\n",
    "        \n",
    "    confidence_one_run = np.zeros([output_size, output_size])\n",
    "    choice_one_run = np.zeros([output_size, output_size])\n",
    "\n",
    "    for nb in range(output_size): \n",
    "        num_blobs = nb + min_blobs # 1 to 15\n",
    "        confidence_hist = np.zeros(output_size)\n",
    "        choice_hist = np.zeros(output_size)\n",
    "        num_imgs_with_num_blobs = 0.00001\n",
    "\n",
    "        for idx, data in enumerate(imgs_data):\n",
    "\n",
    "            if data[\"label\"][nb] == 1: # data is for an image with num_blobs blobs\n",
    "                num_imgs_with_num_blobs += 1\n",
    "\n",
    "                # Histogram of softmaxes\n",
    "                confidence_hist += data[\"classifications\"][0]\n",
    "\n",
    "                # Histogram of choices\n",
    "                choice = np.argmax(data[\"classifications\"][0])\n",
    "                choice_list = [0] * output_size\n",
    "                choice_list[choice] = 1\n",
    "                choice_hist += choice_list\n",
    "\n",
    "        confidence_hist = confidence_hist / num_imgs_with_num_blobs\n",
    "        confidence_one_run[nb] = confidence_hist.tolist()\n",
    "\n",
    "        choice_hist = choice_hist / num_imgs_with_num_blobs\n",
    "        choice_one_run[nb] = choice_hist.tolist()\n",
    "        \n",
    "#     print(\"Confidence (One Run): \",confidence_one_run[nb])\n",
    "#     print(confidence_one_run.tolist())\n",
    "#     print(\"Choice (One Run): \",choice_one_run[nb])\n",
    "#     print(choice_one_run.tolist())\n",
    "    return confidence_one_run, choice_one_run"
   ]
  },
  {
   "cell_type": "code",
   "execution_count": 4,
   "metadata": {
    "scrolled": true
   },
   "outputs": [
    {
     "name": "stdout",
     "output_type": "stream",
     "text": [
      "INFO:tensorflow:Restoring parameters from model_runs/DRAM_twolayer_origin_run_1/classifymodel_0.ckpt\n",
      "INFO:tensorflow:Restoring parameters from model_runs/DRAM_twolayer_origin_run_1/classifymodel_250.ckpt\n",
      "INFO:tensorflow:Restoring parameters from model_runs/DRAM_twolayer_origin_run_1/classifymodel_1000.ckpt\n",
      "INFO:tensorflow:Restoring parameters from model_runs/DRAM_twolayer_origin_run_1/classifymodel_4000.ckpt\n",
      "INFO:tensorflow:Restoring parameters from model_runs/DRAM_twolayer_origin_run_1/classifymodel_16000.ckpt\n",
      "INFO:tensorflow:Restoring parameters from model_runs/DRAM_twolayer_origin_run_1/classifymodel_32000.ckpt\n",
      "INFO:tensorflow:Restoring parameters from model_runs/DRAM_twolayer_origin_run_1/classifymodel_64000.ckpt\n",
      "INFO:tensorflow:Restoring parameters from model_runs/DRAM_twolayer_origin_run_1/classifymodel_125000.ckpt\n",
      "INFO:tensorflow:Restoring parameters from model_runs/DRAM_twolayer_origin_run_1/classifymodel_250000.ckpt\n",
      "INFO:tensorflow:Restoring parameters from model_runs/DRAM_twolayer_origin_run_1/classifymodel_500000.ckpt\n",
      "INFO:tensorflow:Restoring parameters from model_runs/DRAM_twolayer_origin_run_1/classifymodel_1000000.ckpt\n",
      "INFO:tensorflow:Restoring parameters from model_runs/DRAM_twolayer_origin_run_1/classifymodel_1500000.ckpt\n",
      "INFO:tensorflow:Restoring parameters from model_runs/DRAM_twolayer_origin_run_1/classifymodel_2000000.ckpt\n",
      "INFO:tensorflow:Restoring parameters from model_runs/DRAM_twolayer_origin_run_1/classifymodel_2500000.ckpt\n",
      "INFO:tensorflow:Restoring parameters from model_runs/DRAM_twolayer_origin_run_2/classifymodel_0.ckpt\n",
      "INFO:tensorflow:Restoring parameters from model_runs/DRAM_twolayer_origin_run_2/classifymodel_250.ckpt\n",
      "INFO:tensorflow:Restoring parameters from model_runs/DRAM_twolayer_origin_run_2/classifymodel_1000.ckpt\n",
      "INFO:tensorflow:Restoring parameters from model_runs/DRAM_twolayer_origin_run_2/classifymodel_4000.ckpt\n",
      "INFO:tensorflow:Restoring parameters from model_runs/DRAM_twolayer_origin_run_2/classifymodel_16000.ckpt\n",
      "INFO:tensorflow:Restoring parameters from model_runs/DRAM_twolayer_origin_run_2/classifymodel_32000.ckpt\n",
      "INFO:tensorflow:Restoring parameters from model_runs/DRAM_twolayer_origin_run_2/classifymodel_64000.ckpt\n",
      "INFO:tensorflow:Restoring parameters from model_runs/DRAM_twolayer_origin_run_2/classifymodel_125000.ckpt\n",
      "INFO:tensorflow:Restoring parameters from model_runs/DRAM_twolayer_origin_run_2/classifymodel_250000.ckpt\n",
      "INFO:tensorflow:Restoring parameters from model_runs/DRAM_twolayer_origin_run_2/classifymodel_500000.ckpt\n",
      "INFO:tensorflow:Restoring parameters from model_runs/DRAM_twolayer_origin_run_2/classifymodel_1000000.ckpt\n",
      "INFO:tensorflow:Restoring parameters from model_runs/DRAM_twolayer_origin_run_2/classifymodel_1500000.ckpt\n",
      "INFO:tensorflow:Restoring parameters from model_runs/DRAM_twolayer_origin_run_2/classifymodel_2000000.ckpt\n",
      "INFO:tensorflow:Restoring parameters from model_runs/DRAM_twolayer_origin_run_2/classifymodel_2500000.ckpt\n",
      "INFO:tensorflow:Restoring parameters from model_runs/DRAM_twolayer_origin_run_3/classifymodel_0.ckpt\n",
      "INFO:tensorflow:Restoring parameters from model_runs/DRAM_twolayer_origin_run_3/classifymodel_250.ckpt\n",
      "INFO:tensorflow:Restoring parameters from model_runs/DRAM_twolayer_origin_run_3/classifymodel_1000.ckpt\n",
      "INFO:tensorflow:Restoring parameters from model_runs/DRAM_twolayer_origin_run_3/classifymodel_4000.ckpt\n",
      "INFO:tensorflow:Restoring parameters from model_runs/DRAM_twolayer_origin_run_3/classifymodel_16000.ckpt\n",
      "INFO:tensorflow:Restoring parameters from model_runs/DRAM_twolayer_origin_run_3/classifymodel_32000.ckpt\n",
      "INFO:tensorflow:Restoring parameters from model_runs/DRAM_twolayer_origin_run_3/classifymodel_64000.ckpt\n",
      "INFO:tensorflow:Restoring parameters from model_runs/DRAM_twolayer_origin_run_3/classifymodel_125000.ckpt\n",
      "INFO:tensorflow:Restoring parameters from model_runs/DRAM_twolayer_origin_run_3/classifymodel_250000.ckpt\n",
      "INFO:tensorflow:Restoring parameters from model_runs/DRAM_twolayer_origin_run_3/classifymodel_500000.ckpt\n",
      "INFO:tensorflow:Restoring parameters from model_runs/DRAM_twolayer_origin_run_3/classifymodel_1000000.ckpt\n",
      "INFO:tensorflow:Restoring parameters from model_runs/DRAM_twolayer_origin_run_3/classifymodel_1500000.ckpt\n",
      "INFO:tensorflow:Restoring parameters from model_runs/DRAM_twolayer_origin_run_3/classifymodel_2000000.ckpt\n",
      "INFO:tensorflow:Restoring parameters from model_runs/DRAM_twolayer_origin_run_3/classifymodel_2500000.ckpt\n",
      "INFO:tensorflow:Restoring parameters from model_runs/DRAM_twolayer_origin_run_4/classifymodel_0.ckpt\n",
      "INFO:tensorflow:Restoring parameters from model_runs/DRAM_twolayer_origin_run_4/classifymodel_250.ckpt\n",
      "INFO:tensorflow:Restoring parameters from model_runs/DRAM_twolayer_origin_run_4/classifymodel_1000.ckpt\n",
      "INFO:tensorflow:Restoring parameters from model_runs/DRAM_twolayer_origin_run_4/classifymodel_4000.ckpt\n",
      "INFO:tensorflow:Restoring parameters from model_runs/DRAM_twolayer_origin_run_4/classifymodel_16000.ckpt\n",
      "INFO:tensorflow:Restoring parameters from model_runs/DRAM_twolayer_origin_run_4/classifymodel_32000.ckpt\n",
      "INFO:tensorflow:Restoring parameters from model_runs/DRAM_twolayer_origin_run_4/classifymodel_64000.ckpt\n",
      "INFO:tensorflow:Restoring parameters from model_runs/DRAM_twolayer_origin_run_4/classifymodel_125000.ckpt\n",
      "INFO:tensorflow:Restoring parameters from model_runs/DRAM_twolayer_origin_run_4/classifymodel_250000.ckpt\n",
      "INFO:tensorflow:Restoring parameters from model_runs/DRAM_twolayer_origin_run_4/classifymodel_500000.ckpt\n",
      "INFO:tensorflow:Restoring parameters from model_runs/DRAM_twolayer_origin_run_4/classifymodel_1000000.ckpt\n",
      "INFO:tensorflow:Restoring parameters from model_runs/DRAM_twolayer_origin_run_4/classifymodel_1500000.ckpt\n",
      "INFO:tensorflow:Restoring parameters from model_runs/DRAM_twolayer_origin_run_4/classifymodel_2000000.ckpt\n",
      "INFO:tensorflow:Restoring parameters from model_runs/DRAM_twolayer_origin_run_4/classifymodel_2500000.ckpt\n",
      "INFO:tensorflow:Restoring parameters from model_runs/DRAM_twolayer_origin_run_5/classifymodel_0.ckpt\n",
      "INFO:tensorflow:Restoring parameters from model_runs/DRAM_twolayer_origin_run_5/classifymodel_250.ckpt\n",
      "INFO:tensorflow:Restoring parameters from model_runs/DRAM_twolayer_origin_run_5/classifymodel_1000.ckpt\n",
      "INFO:tensorflow:Restoring parameters from model_runs/DRAM_twolayer_origin_run_5/classifymodel_4000.ckpt\n",
      "INFO:tensorflow:Restoring parameters from model_runs/DRAM_twolayer_origin_run_5/classifymodel_16000.ckpt\n",
      "INFO:tensorflow:Restoring parameters from model_runs/DRAM_twolayer_origin_run_5/classifymodel_32000.ckpt\n",
      "INFO:tensorflow:Restoring parameters from model_runs/DRAM_twolayer_origin_run_5/classifymodel_64000.ckpt\n",
      "INFO:tensorflow:Restoring parameters from model_runs/DRAM_twolayer_origin_run_5/classifymodel_125000.ckpt\n",
      "INFO:tensorflow:Restoring parameters from model_runs/DRAM_twolayer_origin_run_5/classifymodel_250000.ckpt\n",
      "INFO:tensorflow:Restoring parameters from model_runs/DRAM_twolayer_origin_run_5/classifymodel_500000.ckpt\n",
      "INFO:tensorflow:Restoring parameters from model_runs/DRAM_twolayer_origin_run_5/classifymodel_1000000.ckpt\n",
      "INFO:tensorflow:Restoring parameters from model_runs/DRAM_twolayer_origin_run_5/classifymodel_1500000.ckpt\n",
      "INFO:tensorflow:Restoring parameters from model_runs/DRAM_twolayer_origin_run_5/classifymodel_2000000.ckpt\n",
      "INFO:tensorflow:Restoring parameters from model_runs/DRAM_twolayer_origin_run_5/classifymodel_2500000.ckpt\n",
      "INFO:tensorflow:Restoring parameters from model_runs/DRAM_twolayer_origin_run_6/classifymodel_0.ckpt\n",
      "INFO:tensorflow:Restoring parameters from model_runs/DRAM_twolayer_origin_run_6/classifymodel_250.ckpt\n",
      "INFO:tensorflow:Restoring parameters from model_runs/DRAM_twolayer_origin_run_6/classifymodel_1000.ckpt\n",
      "INFO:tensorflow:Restoring parameters from model_runs/DRAM_twolayer_origin_run_6/classifymodel_4000.ckpt\n",
      "INFO:tensorflow:Restoring parameters from model_runs/DRAM_twolayer_origin_run_6/classifymodel_16000.ckpt\n",
      "INFO:tensorflow:Restoring parameters from model_runs/DRAM_twolayer_origin_run_6/classifymodel_32000.ckpt\n",
      "INFO:tensorflow:Restoring parameters from model_runs/DRAM_twolayer_origin_run_6/classifymodel_64000.ckpt\n",
      "INFO:tensorflow:Restoring parameters from model_runs/DRAM_twolayer_origin_run_6/classifymodel_125000.ckpt\n"
     ]
    },
    {
     "name": "stdout",
     "output_type": "stream",
     "text": [
      "INFO:tensorflow:Restoring parameters from model_runs/DRAM_twolayer_origin_run_6/classifymodel_250000.ckpt\n",
      "INFO:tensorflow:Restoring parameters from model_runs/DRAM_twolayer_origin_run_6/classifymodel_500000.ckpt\n",
      "INFO:tensorflow:Restoring parameters from model_runs/DRAM_twolayer_origin_run_6/classifymodel_1000000.ckpt\n",
      "INFO:tensorflow:Restoring parameters from model_runs/DRAM_twolayer_origin_run_6/classifymodel_1500000.ckpt\n",
      "INFO:tensorflow:Restoring parameters from model_runs/DRAM_twolayer_origin_run_6/classifymodel_2000000.ckpt\n",
      "INFO:tensorflow:Restoring parameters from model_runs/DRAM_twolayer_origin_run_6/classifymodel_2500000.ckpt\n",
      "INFO:tensorflow:Restoring parameters from model_runs/DRAM_twolayer_origin_run_7/classifymodel_0.ckpt\n",
      "INFO:tensorflow:Restoring parameters from model_runs/DRAM_twolayer_origin_run_7/classifymodel_250.ckpt\n",
      "INFO:tensorflow:Restoring parameters from model_runs/DRAM_twolayer_origin_run_7/classifymodel_1000.ckpt\n",
      "INFO:tensorflow:Restoring parameters from model_runs/DRAM_twolayer_origin_run_7/classifymodel_4000.ckpt\n",
      "INFO:tensorflow:Restoring parameters from model_runs/DRAM_twolayer_origin_run_7/classifymodel_16000.ckpt\n",
      "INFO:tensorflow:Restoring parameters from model_runs/DRAM_twolayer_origin_run_7/classifymodel_32000.ckpt\n",
      "INFO:tensorflow:Restoring parameters from model_runs/DRAM_twolayer_origin_run_7/classifymodel_64000.ckpt\n",
      "INFO:tensorflow:Restoring parameters from model_runs/DRAM_twolayer_origin_run_7/classifymodel_125000.ckpt\n",
      "INFO:tensorflow:Restoring parameters from model_runs/DRAM_twolayer_origin_run_7/classifymodel_250000.ckpt\n",
      "INFO:tensorflow:Restoring parameters from model_runs/DRAM_twolayer_origin_run_7/classifymodel_500000.ckpt\n",
      "INFO:tensorflow:Restoring parameters from model_runs/DRAM_twolayer_origin_run_7/classifymodel_1000000.ckpt\n",
      "INFO:tensorflow:Restoring parameters from model_runs/DRAM_twolayer_origin_run_7/classifymodel_1500000.ckpt\n",
      "INFO:tensorflow:Restoring parameters from model_runs/DRAM_twolayer_origin_run_7/classifymodel_2000000.ckpt\n",
      "INFO:tensorflow:Restoring parameters from model_runs/DRAM_twolayer_origin_run_7/classifymodel_2500000.ckpt\n",
      "INFO:tensorflow:Restoring parameters from model_runs/DRAM_twolayer_origin_run_8/classifymodel_0.ckpt\n",
      "INFO:tensorflow:Restoring parameters from model_runs/DRAM_twolayer_origin_run_8/classifymodel_250.ckpt\n",
      "INFO:tensorflow:Restoring parameters from model_runs/DRAM_twolayer_origin_run_8/classifymodel_1000.ckpt\n",
      "INFO:tensorflow:Restoring parameters from model_runs/DRAM_twolayer_origin_run_8/classifymodel_4000.ckpt\n",
      "INFO:tensorflow:Restoring parameters from model_runs/DRAM_twolayer_origin_run_8/classifymodel_16000.ckpt\n",
      "INFO:tensorflow:Restoring parameters from model_runs/DRAM_twolayer_origin_run_8/classifymodel_32000.ckpt\n",
      "INFO:tensorflow:Restoring parameters from model_runs/DRAM_twolayer_origin_run_8/classifymodel_64000.ckpt\n",
      "INFO:tensorflow:Restoring parameters from model_runs/DRAM_twolayer_origin_run_8/classifymodel_125000.ckpt\n",
      "INFO:tensorflow:Restoring parameters from model_runs/DRAM_twolayer_origin_run_8/classifymodel_250000.ckpt\n",
      "INFO:tensorflow:Restoring parameters from model_runs/DRAM_twolayer_origin_run_8/classifymodel_500000.ckpt\n",
      "INFO:tensorflow:Restoring parameters from model_runs/DRAM_twolayer_origin_run_8/classifymodel_1000000.ckpt\n",
      "INFO:tensorflow:Restoring parameters from model_runs/DRAM_twolayer_origin_run_8/classifymodel_1500000.ckpt\n",
      "INFO:tensorflow:Restoring parameters from model_runs/DRAM_twolayer_origin_run_8/classifymodel_2000000.ckpt\n",
      "INFO:tensorflow:Restoring parameters from model_runs/DRAM_twolayer_origin_run_8/classifymodel_2500000.ckpt\n",
      "INFO:tensorflow:Restoring parameters from model_runs/DRAM_twolayer_origin_run_9/classifymodel_0.ckpt\n",
      "INFO:tensorflow:Restoring parameters from model_runs/DRAM_twolayer_origin_run_9/classifymodel_250.ckpt\n",
      "INFO:tensorflow:Restoring parameters from model_runs/DRAM_twolayer_origin_run_9/classifymodel_1000.ckpt\n",
      "INFO:tensorflow:Restoring parameters from model_runs/DRAM_twolayer_origin_run_9/classifymodel_4000.ckpt\n",
      "INFO:tensorflow:Restoring parameters from model_runs/DRAM_twolayer_origin_run_9/classifymodel_16000.ckpt\n",
      "INFO:tensorflow:Restoring parameters from model_runs/DRAM_twolayer_origin_run_9/classifymodel_32000.ckpt\n",
      "INFO:tensorflow:Restoring parameters from model_runs/DRAM_twolayer_origin_run_9/classifymodel_64000.ckpt\n",
      "INFO:tensorflow:Restoring parameters from model_runs/DRAM_twolayer_origin_run_9/classifymodel_125000.ckpt\n",
      "INFO:tensorflow:Restoring parameters from model_runs/DRAM_twolayer_origin_run_9/classifymodel_250000.ckpt\n",
      "INFO:tensorflow:Restoring parameters from model_runs/DRAM_twolayer_origin_run_9/classifymodel_500000.ckpt\n",
      "INFO:tensorflow:Restoring parameters from model_runs/DRAM_twolayer_origin_run_9/classifymodel_1000000.ckpt\n",
      "INFO:tensorflow:Restoring parameters from model_runs/DRAM_twolayer_origin_run_9/classifymodel_1500000.ckpt\n",
      "INFO:tensorflow:Restoring parameters from model_runs/DRAM_twolayer_origin_run_9/classifymodel_2000000.ckpt\n",
      "INFO:tensorflow:Restoring parameters from model_runs/DRAM_twolayer_origin_run_9/classifymodel_2500000.ckpt\n",
      "INFO:tensorflow:Restoring parameters from model_runs/DRAM_twolayer_origin_run_10/classifymodel_0.ckpt\n",
      "INFO:tensorflow:Restoring parameters from model_runs/DRAM_twolayer_origin_run_10/classifymodel_250.ckpt\n",
      "INFO:tensorflow:Restoring parameters from model_runs/DRAM_twolayer_origin_run_10/classifymodel_1000.ckpt\n",
      "INFO:tensorflow:Restoring parameters from model_runs/DRAM_twolayer_origin_run_10/classifymodel_4000.ckpt\n",
      "INFO:tensorflow:Restoring parameters from model_runs/DRAM_twolayer_origin_run_10/classifymodel_16000.ckpt\n",
      "INFO:tensorflow:Restoring parameters from model_runs/DRAM_twolayer_origin_run_10/classifymodel_32000.ckpt\n",
      "INFO:tensorflow:Restoring parameters from model_runs/DRAM_twolayer_origin_run_10/classifymodel_64000.ckpt\n",
      "INFO:tensorflow:Restoring parameters from model_runs/DRAM_twolayer_origin_run_10/classifymodel_125000.ckpt\n",
      "INFO:tensorflow:Restoring parameters from model_runs/DRAM_twolayer_origin_run_10/classifymodel_250000.ckpt\n",
      "INFO:tensorflow:Restoring parameters from model_runs/DRAM_twolayer_origin_run_10/classifymodel_500000.ckpt\n",
      "INFO:tensorflow:Restoring parameters from model_runs/DRAM_twolayer_origin_run_10/classifymodel_1000000.ckpt\n",
      "INFO:tensorflow:Restoring parameters from model_runs/DRAM_twolayer_origin_run_10/classifymodel_1500000.ckpt\n",
      "INFO:tensorflow:Restoring parameters from model_runs/DRAM_twolayer_origin_run_10/classifymodel_2000000.ckpt\n",
      "INFO:tensorflow:Restoring parameters from model_runs/DRAM_twolayer_origin_run_10/classifymodel_2500000.ckpt\n"
     ]
    }
   ],
   "source": [
    "for run in range(num_runs):\n",
    "    path = 'model_runs/' + model_name + '_run_' + str(run + 1) # '/run_' if all the runs are stored in one folder\n",
    "    for i, iteration in enumerate(iter_list):\n",
    "        confidence_all_runs[run, i], choice_all_runs[run, i] = fill_matrix(path, iteration)"
   ]
  },
  {
   "cell_type": "code",
   "execution_count": 5,
   "metadata": {
    "collapsed": true
   },
   "outputs": [],
   "source": [
    "def adj_all_runs(all_runs_matrix):\n",
    "    \"\"\"Adjust all the matrices so tick marks start with 1.\"\"\"\n",
    "    \n",
    "    new_all_runs_matrix = np.zeros([num_runs, num_iters, output_size + 1, output_size + 1])\n",
    "    for m, matrix in enumerate(all_runs_matrix):\n",
    "        for i in range(num_iters):\n",
    "            new_all_runs_matrix[m, i] = adj_matrix(matrix[i])\n",
    "    return new_all_runs_matrix\n",
    "\n",
    "\n",
    "def adj_matrix(matrix):\n",
    "    \"\"\"Adjust the matrix so tick marks start with 1.\"\"\"\n",
    "    \n",
    "    a = np.zeros([1, output_size])\n",
    "    temp = np.vstack((a, matrix))\n",
    "    b = np.zeros([output_size + 1, 1])\n",
    "    new_matrix = np.hstack((b, temp))\n",
    "    return new_matrix\n",
    "\n",
    "\n",
    "confidence_all_runs_adj = adj_all_runs(confidence_all_runs)\n",
    "choice_all_runs_adj = adj_all_runs(choice_all_runs)"
   ]
  },
  {
   "cell_type": "code",
   "execution_count": 6,
   "metadata": {
    "collapsed": true
   },
   "outputs": [],
   "source": [
    "confidence_avg = np.mean(confidence_all_runs_adj, axis=0)\n",
    "choice_avg = np.mean(choice_all_runs_adj, axis=0)"
   ]
  },
  {
   "cell_type": "code",
   "execution_count": 7,
   "metadata": {
    "collapsed": true
   },
   "outputs": [],
   "source": [
    "def plot_confidence(iter_idx, it, run=None):\n",
    "    \"\"\"Plot the confidence heatmap.\"\"\"\n",
    "    \n",
    "    if run is None:\n",
    "        matrix = confidence_avg[iter_idx]\n",
    "        plot_title = \"Confidence after %d Iterations\" % (it)\n",
    "\n",
    "    else:\n",
    "        matrix = confidence_all_runs_adj[run, iter_idx]\n",
    "        plot_title = \"Confidence at Run %d after %d Iterations\" % (run + 1, it)\n",
    "    plot_heatmap(matrix, plot_title)\n",
    "\n",
    "\n",
    "def plot_choice(iter_idx, it, run=None):\n",
    "    \"\"\"Plot the choice heatmap.\"\"\"\n",
    "    \n",
    "    if run is None:\n",
    "        matrix = choice_avg[iter_idx]\n",
    "        plot_title = \"Choice after %d Iterations\" % (it)\n",
    "    else:\n",
    "        matrix = choice_all_runs_adj[run, iter_idx]\n",
    "        plot_title = \"Choice at Run %d after %d Iterations\" % (run + 1, it)\n",
    "    plot_heatmap(matrix, plot_title)\n",
    "    \n",
    "    \n",
    "def plot_heatmap(matrix, plot_title):\n",
    "    \"\"\"Plot heatmap.\"\"\"\n",
    "    \n",
    "    data = [go.Heatmap(\n",
    "        z=matrix,\n",
    "        colorscale=\"Jet\"\n",
    "    )]\n",
    "\n",
    "    layout = go.Layout(\n",
    "        title=plot_title,\n",
    "        yaxis=dict(\n",
    "#             range=[max_blobs + m, min_blobs - m],\n",
    "            range=[9 + m, min_blobs - m],\n",
    "            title=\"True Class\",\n",
    "            dtick=1,\n",
    "            tickcolor='#FFF'\n",
    "        ),\n",
    "        xaxis=dict(\n",
    "            range=[min_blobs - m, max_blobs + m],\n",
    "            title=\"Predicted Class\",\n",
    "            dtick=1,\n",
    "            tickcolor='#FFF'\n",
    "        ),\n",
    "        width=500,\n",
    "        height=500,\n",
    "        plot_bgcolor=\"#000\",\n",
    "        paper_bgcolor=\"#000\",\n",
    "        font=dict(\n",
    "            color=\"#FFF\"\n",
    "        ),\n",
    "        titlefont=dict(\n",
    "            color=\"#FFF\"\n",
    "        ),\n",
    "    )\n",
    "    fig = go.Figure(data=data, layout=layout)\n",
    "    iplot(fig)"
   ]
  },
  {
   "cell_type": "code",
   "execution_count": 8,
   "metadata": {},
   "outputs": [
    {
     "data": {
      "application/vnd.plotly.v1+json": {
       "data": [
        {
         "colorscale": "Jet",
         "type": "heatmap",
         "z": [
          [
           0,
           0,
           0,
           0,
           0,
           0,
           0,
           0,
           0,
           0,
           0,
           0,
           0,
           0,
           0,
           0
          ],
          [
           0,
           0.03547005331838765,
           0.12010480377944215,
           0.06923071597637234,
           0.05999992750008813,
           0.09865375502597443,
           0.09003098704659414,
           0.08741445586857877,
           0.037136716929502975,
           0.09221146632371376,
           0.050201969591929615,
           0.030192283962667366,
           0.02371792993919964,
           0.08565648372418858,
           0.06825750797929268,
           0.05172003941215009
          ],
          [
           0,
           0.04849635738715341,
           0.06891019525605568,
           0.08282236200488835,
           0.014358963997377665,
           0.06333327444450038,
           0.10646638452501644,
           0.07128872051102209,
           0.13377404872212273,
           0.06274848444688759,
           0.027882175391130047,
           0.018333316388904678,
           0.050549383407893014,
           0.10975020216463478,
           0.07643714404908576,
           0.06484795185858444
          ],
          [
           0,
           0.022424225270904163,
           0.11726538029057483,
           0.060043227481843334,
           0.08625532605165141,
           0.07261357606625318,
           0.09331340734792737,
           0.057007528309125456,
           0.05428563387767573,
           0.10913406886394683,
           0.03111108543212137,
           0.06011899162066377,
           0.009999990000010001,
           0.12560595613683823,
           0.0713761898107711,
           0.02944441515435049
          ],
          [
           0,
           0.06495166197315744,
           0.11804434450915131,
           0.07171710680038591,
           0.0771463938434909,
           0.06060601359048732,
           0.05584411064264126,
           0.06649565967690971,
           0.05161834308425428,
           0.1057799643404959,
           0.026515128041802265,
           0.039835132982656486,
           0.06761288452589165,
           0.08858772005803003,
           0.03986010792706372,
           0.06538455146702807
          ],
          [
           0,
           0.11858573417012237,
           0.10722210628099069,
           0.0368686384808348,
           0.0925640170875327,
           0.10760671858129474,
           0.054924181497810774,
           0.03499995875004906,
           0.05587408009474563,
           0.1208331927548016,
           0.04213671498505867,
           0.026666628888945186,
           0.019999980000020002,
           0.03472218190591116,
           0.08214637592685439,
           0.06484841720852833
          ],
          [
           0,
           0.03141023171435212,
           0.15265553715216948,
           0.057533527832134425,
           0.09158722413964838,
           0.049047584648550226,
           0.10235033779557323,
           0.024444423209896187,
           0.049194098368924286,
           0.1522159844831283,
           0.03325393941738565,
           0.023168480204867125,
           0.027777750987681,
           0.10910858140513402,
           0.02197800585679242,
           0.07427344052566151
          ],
          [
           0,
           0.057177488343677904,
           0.11678309843505248,
           0.07133691527091915,
           0.0590908499005806,
           0.09982891861224824,
           0.0978942104412589,
           0.04047614370754451,
           0.05429286569618328,
           0.14393561118622955,
           0.03681315967276487,
           0.016666652777789354,
           0.02649570231575078,
           0.08007317475712168,
           0.06504322296371294,
           0.034090866104283656
          ],
          [
           0,
           0.0777921444282876,
           0.10006484940764773,
           0.11227985310181962,
           0.07909083082652381,
           0.03246750573454753,
           0.06675319481619997,
           0.09481953370400058,
           0.023253948306267036,
           0.10072142154084081,
           0.04051944694892371,
           0.04727268747937388,
           0.05545449413227897,
           0.05111106376547832,
           0.06385275324525115,
           0.05454540495872277
          ],
          [
           0,
           0.08125866549692766,
           0.11165492791395204,
           0.048076874075496503,
           0.0753245771632283,
           0.05357135650519942,
           0.07524469814404425,
           0.032467495530487764,
           0.059957756232303275,
           0.15513637288068674,
           0.021977995652732656,
           0.06243583807287417,
           0.028571387755160348,
           0.09754902683105827,
           0.014285693877580174,
           0.08248633278986749
          ],
          [
           0,
           0,
           0,
           0,
           0,
           0,
           0,
           0,
           0,
           0,
           0,
           0,
           0,
           0,
           0,
           0
          ],
          [
           0,
           0,
           0,
           0,
           0,
           0,
           0,
           0,
           0,
           0,
           0,
           0,
           0,
           0,
           0,
           0
          ],
          [
           0,
           0,
           0,
           0,
           0,
           0,
           0,
           0,
           0,
           0,
           0,
           0,
           0,
           0,
           0,
           0
          ],
          [
           0,
           0,
           0,
           0,
           0,
           0,
           0,
           0,
           0,
           0,
           0,
           0,
           0,
           0,
           0,
           0
          ],
          [
           0,
           0,
           0,
           0,
           0,
           0,
           0,
           0,
           0,
           0,
           0,
           0,
           0,
           0,
           0,
           0
          ],
          [
           0,
           0,
           0,
           0,
           0,
           0,
           0,
           0,
           0,
           0,
           0,
           0,
           0,
           0,
           0,
           0
          ]
         ]
        }
       ],
       "layout": {
        "font": {
         "color": "#FFF"
        },
        "height": 500,
        "paper_bgcolor": "#000",
        "plot_bgcolor": "#000",
        "title": "Choice after 0 Iterations",
        "titlefont": {
         "color": "#FFF"
        },
        "width": 500,
        "xaxis": {
         "dtick": 1,
         "range": [
          0.5,
          15.5
         ],
         "tickcolor": "#FFF",
         "title": "Predicted Class"
        },
        "yaxis": {
         "dtick": 1,
         "range": [
          9.5,
          0.5
         ],
         "tickcolor": "#FFF",
         "title": "True Class"
        }
       }
      },
      "text/html": [
       "<div id=\"36084e07-c2f3-4064-ae51-0502027b803c\" style=\"height: 500px; width: 500px;\" class=\"plotly-graph-div\"></div><script type=\"text/javascript\">require([\"plotly\"], function(Plotly) { window.PLOTLYENV=window.PLOTLYENV || {};window.PLOTLYENV.BASE_URL=\"https://plot.ly\";Plotly.newPlot(\"36084e07-c2f3-4064-ae51-0502027b803c\", [{\"colorscale\": \"Jet\", \"type\": \"heatmap\", \"z\": [[0.0, 0.0, 0.0, 0.0, 0.0, 0.0, 0.0, 0.0, 0.0, 0.0, 0.0, 0.0, 0.0, 0.0, 0.0, 0.0], [0.0, 0.03547005331838765, 0.12010480377944215, 0.06923071597637234, 0.05999992750008813, 0.09865375502597443, 0.09003098704659414, 0.08741445586857877, 0.037136716929502975, 0.09221146632371376, 0.050201969591929615, 0.030192283962667366, 0.02371792993919964, 0.08565648372418858, 0.06825750797929268, 0.05172003941215009], [0.0, 0.04849635738715341, 0.06891019525605568, 0.08282236200488835, 0.014358963997377665, 0.06333327444450038, 0.10646638452501644, 0.07128872051102209, 0.13377404872212273, 0.06274848444688759, 0.027882175391130047, 0.018333316388904678, 0.050549383407893014, 0.10975020216463478, 0.07643714404908576, 0.06484795185858444], [0.0, 0.022424225270904163, 0.11726538029057483, 0.060043227481843334, 0.08625532605165141, 0.07261357606625318, 0.09331340734792737, 0.057007528309125456, 0.05428563387767573, 0.10913406886394683, 0.03111108543212137, 0.06011899162066377, 0.009999990000010001, 0.12560595613683823, 0.0713761898107711, 0.02944441515435049], [0.0, 0.06495166197315744, 0.11804434450915131, 0.07171710680038591, 0.0771463938434909, 0.06060601359048732, 0.05584411064264126, 0.06649565967690971, 0.05161834308425428, 0.1057799643404959, 0.026515128041802265, 0.039835132982656486, 0.06761288452589165, 0.08858772005803003, 0.03986010792706372, 0.06538455146702807], [0.0, 0.11858573417012237, 0.10722210628099069, 0.0368686384808348, 0.0925640170875327, 0.10760671858129474, 0.054924181497810774, 0.03499995875004906, 0.05587408009474563, 0.1208331927548016, 0.04213671498505867, 0.026666628888945186, 0.019999980000020002, 0.03472218190591116, 0.08214637592685439, 0.06484841720852833], [0.0, 0.03141023171435212, 0.15265553715216948, 0.057533527832134425, 0.09158722413964838, 0.049047584648550226, 0.10235033779557323, 0.024444423209896187, 0.049194098368924286, 0.1522159844831283, 0.03325393941738565, 0.023168480204867125, 0.027777750987681, 0.10910858140513402, 0.02197800585679242, 0.07427344052566151], [0.0, 0.057177488343677904, 0.11678309843505248, 0.07133691527091915, 0.0590908499005806, 0.09982891861224824, 0.0978942104412589, 0.04047614370754451, 0.05429286569618328, 0.14393561118622955, 0.03681315967276487, 0.016666652777789354, 0.02649570231575078, 0.08007317475712168, 0.06504322296371294, 0.034090866104283656], [0.0, 0.0777921444282876, 0.10006484940764773, 0.11227985310181962, 0.07909083082652381, 0.03246750573454753, 0.06675319481619997, 0.09481953370400058, 0.023253948306267036, 0.10072142154084081, 0.04051944694892371, 0.04727268747937388, 0.05545449413227897, 0.05111106376547832, 0.06385275324525115, 0.05454540495872277], [0.0, 0.08125866549692766, 0.11165492791395204, 0.048076874075496503, 0.0753245771632283, 0.05357135650519942, 0.07524469814404425, 0.032467495530487764, 0.059957756232303275, 0.15513637288068674, 0.021977995652732656, 0.06243583807287417, 0.028571387755160348, 0.09754902683105827, 0.014285693877580174, 0.08248633278986749], [0.0, 0.0, 0.0, 0.0, 0.0, 0.0, 0.0, 0.0, 0.0, 0.0, 0.0, 0.0, 0.0, 0.0, 0.0, 0.0], [0.0, 0.0, 0.0, 0.0, 0.0, 0.0, 0.0, 0.0, 0.0, 0.0, 0.0, 0.0, 0.0, 0.0, 0.0, 0.0], [0.0, 0.0, 0.0, 0.0, 0.0, 0.0, 0.0, 0.0, 0.0, 0.0, 0.0, 0.0, 0.0, 0.0, 0.0, 0.0], [0.0, 0.0, 0.0, 0.0, 0.0, 0.0, 0.0, 0.0, 0.0, 0.0, 0.0, 0.0, 0.0, 0.0, 0.0, 0.0], [0.0, 0.0, 0.0, 0.0, 0.0, 0.0, 0.0, 0.0, 0.0, 0.0, 0.0, 0.0, 0.0, 0.0, 0.0, 0.0], [0.0, 0.0, 0.0, 0.0, 0.0, 0.0, 0.0, 0.0, 0.0, 0.0, 0.0, 0.0, 0.0, 0.0, 0.0, 0.0]]}], {\"paper_bgcolor\": \"#000\", \"titlefont\": {\"color\": \"#FFF\"}, \"yaxis\": {\"dtick\": 1, \"title\": \"True Class\", \"tickcolor\": \"#FFF\", \"range\": [9.5, 0.5]}, \"xaxis\": {\"dtick\": 1, \"title\": \"Predicted Class\", \"tickcolor\": \"#FFF\", \"range\": [0.5, 15.5]}, \"font\": {\"color\": \"#FFF\"}, \"plot_bgcolor\": \"#000\", \"height\": 500, \"title\": \"Choice after 0 Iterations\", \"width\": 500}, {\"linkText\": \"Export to plot.ly\", \"showLink\": true})});</script>"
      ],
      "text/vnd.plotly.v1+html": [
       "<div id=\"36084e07-c2f3-4064-ae51-0502027b803c\" style=\"height: 500px; width: 500px;\" class=\"plotly-graph-div\"></div><script type=\"text/javascript\">require([\"plotly\"], function(Plotly) { window.PLOTLYENV=window.PLOTLYENV || {};window.PLOTLYENV.BASE_URL=\"https://plot.ly\";Plotly.newPlot(\"36084e07-c2f3-4064-ae51-0502027b803c\", [{\"colorscale\": \"Jet\", \"type\": \"heatmap\", \"z\": [[0.0, 0.0, 0.0, 0.0, 0.0, 0.0, 0.0, 0.0, 0.0, 0.0, 0.0, 0.0, 0.0, 0.0, 0.0, 0.0], [0.0, 0.03547005331838765, 0.12010480377944215, 0.06923071597637234, 0.05999992750008813, 0.09865375502597443, 0.09003098704659414, 0.08741445586857877, 0.037136716929502975, 0.09221146632371376, 0.050201969591929615, 0.030192283962667366, 0.02371792993919964, 0.08565648372418858, 0.06825750797929268, 0.05172003941215009], [0.0, 0.04849635738715341, 0.06891019525605568, 0.08282236200488835, 0.014358963997377665, 0.06333327444450038, 0.10646638452501644, 0.07128872051102209, 0.13377404872212273, 0.06274848444688759, 0.027882175391130047, 0.018333316388904678, 0.050549383407893014, 0.10975020216463478, 0.07643714404908576, 0.06484795185858444], [0.0, 0.022424225270904163, 0.11726538029057483, 0.060043227481843334, 0.08625532605165141, 0.07261357606625318, 0.09331340734792737, 0.057007528309125456, 0.05428563387767573, 0.10913406886394683, 0.03111108543212137, 0.06011899162066377, 0.009999990000010001, 0.12560595613683823, 0.0713761898107711, 0.02944441515435049], [0.0, 0.06495166197315744, 0.11804434450915131, 0.07171710680038591, 0.0771463938434909, 0.06060601359048732, 0.05584411064264126, 0.06649565967690971, 0.05161834308425428, 0.1057799643404959, 0.026515128041802265, 0.039835132982656486, 0.06761288452589165, 0.08858772005803003, 0.03986010792706372, 0.06538455146702807], [0.0, 0.11858573417012237, 0.10722210628099069, 0.0368686384808348, 0.0925640170875327, 0.10760671858129474, 0.054924181497810774, 0.03499995875004906, 0.05587408009474563, 0.1208331927548016, 0.04213671498505867, 0.026666628888945186, 0.019999980000020002, 0.03472218190591116, 0.08214637592685439, 0.06484841720852833], [0.0, 0.03141023171435212, 0.15265553715216948, 0.057533527832134425, 0.09158722413964838, 0.049047584648550226, 0.10235033779557323, 0.024444423209896187, 0.049194098368924286, 0.1522159844831283, 0.03325393941738565, 0.023168480204867125, 0.027777750987681, 0.10910858140513402, 0.02197800585679242, 0.07427344052566151], [0.0, 0.057177488343677904, 0.11678309843505248, 0.07133691527091915, 0.0590908499005806, 0.09982891861224824, 0.0978942104412589, 0.04047614370754451, 0.05429286569618328, 0.14393561118622955, 0.03681315967276487, 0.016666652777789354, 0.02649570231575078, 0.08007317475712168, 0.06504322296371294, 0.034090866104283656], [0.0, 0.0777921444282876, 0.10006484940764773, 0.11227985310181962, 0.07909083082652381, 0.03246750573454753, 0.06675319481619997, 0.09481953370400058, 0.023253948306267036, 0.10072142154084081, 0.04051944694892371, 0.04727268747937388, 0.05545449413227897, 0.05111106376547832, 0.06385275324525115, 0.05454540495872277], [0.0, 0.08125866549692766, 0.11165492791395204, 0.048076874075496503, 0.0753245771632283, 0.05357135650519942, 0.07524469814404425, 0.032467495530487764, 0.059957756232303275, 0.15513637288068674, 0.021977995652732656, 0.06243583807287417, 0.028571387755160348, 0.09754902683105827, 0.014285693877580174, 0.08248633278986749], [0.0, 0.0, 0.0, 0.0, 0.0, 0.0, 0.0, 0.0, 0.0, 0.0, 0.0, 0.0, 0.0, 0.0, 0.0, 0.0], [0.0, 0.0, 0.0, 0.0, 0.0, 0.0, 0.0, 0.0, 0.0, 0.0, 0.0, 0.0, 0.0, 0.0, 0.0, 0.0], [0.0, 0.0, 0.0, 0.0, 0.0, 0.0, 0.0, 0.0, 0.0, 0.0, 0.0, 0.0, 0.0, 0.0, 0.0, 0.0], [0.0, 0.0, 0.0, 0.0, 0.0, 0.0, 0.0, 0.0, 0.0, 0.0, 0.0, 0.0, 0.0, 0.0, 0.0, 0.0], [0.0, 0.0, 0.0, 0.0, 0.0, 0.0, 0.0, 0.0, 0.0, 0.0, 0.0, 0.0, 0.0, 0.0, 0.0, 0.0], [0.0, 0.0, 0.0, 0.0, 0.0, 0.0, 0.0, 0.0, 0.0, 0.0, 0.0, 0.0, 0.0, 0.0, 0.0, 0.0]]}], {\"paper_bgcolor\": \"#000\", \"titlefont\": {\"color\": \"#FFF\"}, \"yaxis\": {\"dtick\": 1, \"title\": \"True Class\", \"tickcolor\": \"#FFF\", \"range\": [9.5, 0.5]}, \"xaxis\": {\"dtick\": 1, \"title\": \"Predicted Class\", \"tickcolor\": \"#FFF\", \"range\": [0.5, 15.5]}, \"font\": {\"color\": \"#FFF\"}, \"plot_bgcolor\": \"#000\", \"height\": 500, \"title\": \"Choice after 0 Iterations\", \"width\": 500}, {\"linkText\": \"Export to plot.ly\", \"showLink\": true})});</script>"
      ]
     },
     "metadata": {},
     "output_type": "display_data"
    },
    {
     "data": {
      "application/vnd.plotly.v1+json": {
       "data": [
        {
         "colorscale": "Jet",
         "type": "heatmap",
         "z": [
          [
           0,
           0,
           0,
           0,
           0,
           0,
           0,
           0,
           0,
           0,
           0,
           0,
           0,
           0,
           0,
           0
          ],
          [
           0,
           0.9857128989099453,
           0.014285693877580174,
           0,
           0,
           0,
           0,
           0,
           0,
           0,
           0,
           0,
           0,
           0,
           0,
           0
          ],
          [
           0,
           0.8274932725633123,
           0.12265721672422084,
           0.049848432625171836,
           0,
           0,
           0,
           0,
           0,
           0,
           0,
           0,
           0,
           0,
           0,
           0
          ],
          [
           0,
           0.7824992315285672,
           0.16999985072930207,
           0.032499972187524886,
           0.008333326388894677,
           0,
           0.006666662222225185,
           0,
           0,
           0,
           0,
           0,
           0,
           0,
           0,
           0
          ],
          [
           0,
           0.7417291687309908,
           0.17583677575133555,
           0.06807416093339203,
           0.014358963997377665,
           0,
           0,
           0,
           0,
           0,
           0,
           0,
           0,
           0,
           0,
           0
          ],
          [
           0,
           0.7258318464875895,
           0.19171199803354116,
           0.04189973159210723,
           0.032222187530901635,
           0.008333326388894677,
           0,
           0,
           0,
           0,
           0,
           0,
           0,
           0,
           0,
           0
          ],
          [
           0,
           0.7068133243314272,
           0.17561864517176745,
           0.1032813346500305,
           0.014285693877580174,
           0,
           0,
           0,
           0,
           0,
           0,
           0,
           0,
           0,
           0,
           0
          ],
          [
           0,
           0.7459072597888261,
           0.19620709166037537,
           0.057884565737839844,
           0,
           0,
           0,
           0,
           0,
           0,
           0,
           0,
           0,
           0,
           0,
           0
          ],
          [
           0,
           0.6489834073358582,
           0.283845491899685,
           0.04511901821359644,
           0.022051265772530148,
           0,
           0,
           0,
           0,
           0,
           0,
           0,
           0,
           0,
           0,
           0
          ],
          [
           0,
           0.6379790408113272,
           0.2818108191913514,
           0.07251690829173232,
           0.007692301775152481,
           0,
           0,
           0,
           0,
           0,
           0,
           0,
           0,
           0,
           0,
           0
          ],
          [
           0,
           0,
           0,
           0,
           0,
           0,
           0,
           0,
           0,
           0,
           0,
           0,
           0,
           0,
           0,
           0
          ],
          [
           0,
           0,
           0,
           0,
           0,
           0,
           0,
           0,
           0,
           0,
           0,
           0,
           0,
           0,
           0,
           0
          ],
          [
           0,
           0,
           0,
           0,
           0,
           0,
           0,
           0,
           0,
           0,
           0,
           0,
           0,
           0,
           0,
           0
          ],
          [
           0,
           0,
           0,
           0,
           0,
           0,
           0,
           0,
           0,
           0,
           0,
           0,
           0,
           0,
           0,
           0
          ],
          [
           0,
           0,
           0,
           0,
           0,
           0,
           0,
           0,
           0,
           0,
           0,
           0,
           0,
           0,
           0,
           0
          ],
          [
           0,
           0,
           0,
           0,
           0,
           0,
           0,
           0,
           0,
           0,
           0,
           0,
           0,
           0,
           0,
           0
          ]
         ]
        }
       ],
       "layout": {
        "font": {
         "color": "#FFF"
        },
        "height": 500,
        "paper_bgcolor": "#000",
        "plot_bgcolor": "#000",
        "title": "Choice after 250 Iterations",
        "titlefont": {
         "color": "#FFF"
        },
        "width": 500,
        "xaxis": {
         "dtick": 1,
         "range": [
          0.5,
          15.5
         ],
         "tickcolor": "#FFF",
         "title": "Predicted Class"
        },
        "yaxis": {
         "dtick": 1,
         "range": [
          9.5,
          0.5
         ],
         "tickcolor": "#FFF",
         "title": "True Class"
        }
       }
      },
      "text/html": [
       "<div id=\"71c8e7d0-defe-4ef2-8a47-5cb33d18b922\" style=\"height: 500px; width: 500px;\" class=\"plotly-graph-div\"></div><script type=\"text/javascript\">require([\"plotly\"], function(Plotly) { window.PLOTLYENV=window.PLOTLYENV || {};window.PLOTLYENV.BASE_URL=\"https://plot.ly\";Plotly.newPlot(\"71c8e7d0-defe-4ef2-8a47-5cb33d18b922\", [{\"colorscale\": \"Jet\", \"type\": \"heatmap\", \"z\": [[0.0, 0.0, 0.0, 0.0, 0.0, 0.0, 0.0, 0.0, 0.0, 0.0, 0.0, 0.0, 0.0, 0.0, 0.0, 0.0], [0.0, 0.9857128989099453, 0.014285693877580174, 0.0, 0.0, 0.0, 0.0, 0.0, 0.0, 0.0, 0.0, 0.0, 0.0, 0.0, 0.0, 0.0], [0.0, 0.8274932725633123, 0.12265721672422084, 0.049848432625171836, 0.0, 0.0, 0.0, 0.0, 0.0, 0.0, 0.0, 0.0, 0.0, 0.0, 0.0, 0.0], [0.0, 0.7824992315285672, 0.16999985072930207, 0.032499972187524886, 0.008333326388894677, 0.0, 0.006666662222225185, 0.0, 0.0, 0.0, 0.0, 0.0, 0.0, 0.0, 0.0, 0.0], [0.0, 0.7417291687309908, 0.17583677575133555, 0.06807416093339203, 0.014358963997377665, 0.0, 0.0, 0.0, 0.0, 0.0, 0.0, 0.0, 0.0, 0.0, 0.0, 0.0], [0.0, 0.7258318464875895, 0.19171199803354116, 0.04189973159210723, 0.032222187530901635, 0.008333326388894677, 0.0, 0.0, 0.0, 0.0, 0.0, 0.0, 0.0, 0.0, 0.0, 0.0], [0.0, 0.7068133243314272, 0.17561864517176745, 0.1032813346500305, 0.014285693877580174, 0.0, 0.0, 0.0, 0.0, 0.0, 0.0, 0.0, 0.0, 0.0, 0.0, 0.0], [0.0, 0.7459072597888261, 0.19620709166037537, 0.057884565737839844, 0.0, 0.0, 0.0, 0.0, 0.0, 0.0, 0.0, 0.0, 0.0, 0.0, 0.0, 0.0], [0.0, 0.6489834073358582, 0.283845491899685, 0.04511901821359644, 0.022051265772530148, 0.0, 0.0, 0.0, 0.0, 0.0, 0.0, 0.0, 0.0, 0.0, 0.0, 0.0], [0.0, 0.6379790408113272, 0.2818108191913514, 0.07251690829173232, 0.007692301775152481, 0.0, 0.0, 0.0, 0.0, 0.0, 0.0, 0.0, 0.0, 0.0, 0.0, 0.0], [0.0, 0.0, 0.0, 0.0, 0.0, 0.0, 0.0, 0.0, 0.0, 0.0, 0.0, 0.0, 0.0, 0.0, 0.0, 0.0], [0.0, 0.0, 0.0, 0.0, 0.0, 0.0, 0.0, 0.0, 0.0, 0.0, 0.0, 0.0, 0.0, 0.0, 0.0, 0.0], [0.0, 0.0, 0.0, 0.0, 0.0, 0.0, 0.0, 0.0, 0.0, 0.0, 0.0, 0.0, 0.0, 0.0, 0.0, 0.0], [0.0, 0.0, 0.0, 0.0, 0.0, 0.0, 0.0, 0.0, 0.0, 0.0, 0.0, 0.0, 0.0, 0.0, 0.0, 0.0], [0.0, 0.0, 0.0, 0.0, 0.0, 0.0, 0.0, 0.0, 0.0, 0.0, 0.0, 0.0, 0.0, 0.0, 0.0, 0.0], [0.0, 0.0, 0.0, 0.0, 0.0, 0.0, 0.0, 0.0, 0.0, 0.0, 0.0, 0.0, 0.0, 0.0, 0.0, 0.0]]}], {\"paper_bgcolor\": \"#000\", \"titlefont\": {\"color\": \"#FFF\"}, \"yaxis\": {\"dtick\": 1, \"title\": \"True Class\", \"tickcolor\": \"#FFF\", \"range\": [9.5, 0.5]}, \"xaxis\": {\"dtick\": 1, \"title\": \"Predicted Class\", \"tickcolor\": \"#FFF\", \"range\": [0.5, 15.5]}, \"font\": {\"color\": \"#FFF\"}, \"plot_bgcolor\": \"#000\", \"height\": 500, \"title\": \"Choice after 250 Iterations\", \"width\": 500}, {\"linkText\": \"Export to plot.ly\", \"showLink\": true})});</script>"
      ],
      "text/vnd.plotly.v1+html": [
       "<div id=\"71c8e7d0-defe-4ef2-8a47-5cb33d18b922\" style=\"height: 500px; width: 500px;\" class=\"plotly-graph-div\"></div><script type=\"text/javascript\">require([\"plotly\"], function(Plotly) { window.PLOTLYENV=window.PLOTLYENV || {};window.PLOTLYENV.BASE_URL=\"https://plot.ly\";Plotly.newPlot(\"71c8e7d0-defe-4ef2-8a47-5cb33d18b922\", [{\"colorscale\": \"Jet\", \"type\": \"heatmap\", \"z\": [[0.0, 0.0, 0.0, 0.0, 0.0, 0.0, 0.0, 0.0, 0.0, 0.0, 0.0, 0.0, 0.0, 0.0, 0.0, 0.0], [0.0, 0.9857128989099453, 0.014285693877580174, 0.0, 0.0, 0.0, 0.0, 0.0, 0.0, 0.0, 0.0, 0.0, 0.0, 0.0, 0.0, 0.0], [0.0, 0.8274932725633123, 0.12265721672422084, 0.049848432625171836, 0.0, 0.0, 0.0, 0.0, 0.0, 0.0, 0.0, 0.0, 0.0, 0.0, 0.0, 0.0], [0.0, 0.7824992315285672, 0.16999985072930207, 0.032499972187524886, 0.008333326388894677, 0.0, 0.006666662222225185, 0.0, 0.0, 0.0, 0.0, 0.0, 0.0, 0.0, 0.0, 0.0], [0.0, 0.7417291687309908, 0.17583677575133555, 0.06807416093339203, 0.014358963997377665, 0.0, 0.0, 0.0, 0.0, 0.0, 0.0, 0.0, 0.0, 0.0, 0.0, 0.0], [0.0, 0.7258318464875895, 0.19171199803354116, 0.04189973159210723, 0.032222187530901635, 0.008333326388894677, 0.0, 0.0, 0.0, 0.0, 0.0, 0.0, 0.0, 0.0, 0.0, 0.0], [0.0, 0.7068133243314272, 0.17561864517176745, 0.1032813346500305, 0.014285693877580174, 0.0, 0.0, 0.0, 0.0, 0.0, 0.0, 0.0, 0.0, 0.0, 0.0, 0.0], [0.0, 0.7459072597888261, 0.19620709166037537, 0.057884565737839844, 0.0, 0.0, 0.0, 0.0, 0.0, 0.0, 0.0, 0.0, 0.0, 0.0, 0.0, 0.0], [0.0, 0.6489834073358582, 0.283845491899685, 0.04511901821359644, 0.022051265772530148, 0.0, 0.0, 0.0, 0.0, 0.0, 0.0, 0.0, 0.0, 0.0, 0.0, 0.0], [0.0, 0.6379790408113272, 0.2818108191913514, 0.07251690829173232, 0.007692301775152481, 0.0, 0.0, 0.0, 0.0, 0.0, 0.0, 0.0, 0.0, 0.0, 0.0, 0.0], [0.0, 0.0, 0.0, 0.0, 0.0, 0.0, 0.0, 0.0, 0.0, 0.0, 0.0, 0.0, 0.0, 0.0, 0.0, 0.0], [0.0, 0.0, 0.0, 0.0, 0.0, 0.0, 0.0, 0.0, 0.0, 0.0, 0.0, 0.0, 0.0, 0.0, 0.0, 0.0], [0.0, 0.0, 0.0, 0.0, 0.0, 0.0, 0.0, 0.0, 0.0, 0.0, 0.0, 0.0, 0.0, 0.0, 0.0, 0.0], [0.0, 0.0, 0.0, 0.0, 0.0, 0.0, 0.0, 0.0, 0.0, 0.0, 0.0, 0.0, 0.0, 0.0, 0.0, 0.0], [0.0, 0.0, 0.0, 0.0, 0.0, 0.0, 0.0, 0.0, 0.0, 0.0, 0.0, 0.0, 0.0, 0.0, 0.0, 0.0], [0.0, 0.0, 0.0, 0.0, 0.0, 0.0, 0.0, 0.0, 0.0, 0.0, 0.0, 0.0, 0.0, 0.0, 0.0, 0.0]]}], {\"paper_bgcolor\": \"#000\", \"titlefont\": {\"color\": \"#FFF\"}, \"yaxis\": {\"dtick\": 1, \"title\": \"True Class\", \"tickcolor\": \"#FFF\", \"range\": [9.5, 0.5]}, \"xaxis\": {\"dtick\": 1, \"title\": \"Predicted Class\", \"tickcolor\": \"#FFF\", \"range\": [0.5, 15.5]}, \"font\": {\"color\": \"#FFF\"}, \"plot_bgcolor\": \"#000\", \"height\": 500, \"title\": \"Choice after 250 Iterations\", \"width\": 500}, {\"linkText\": \"Export to plot.ly\", \"showLink\": true})});</script>"
      ]
     },
     "metadata": {},
     "output_type": "display_data"
    },
    {
     "data": {
      "application/vnd.plotly.v1+json": {
       "data": [
        {
         "colorscale": "Jet",
         "type": "heatmap",
         "z": [
          [
           0,
           0,
           0,
           0,
           0,
           0,
           0,
           0,
           0,
           0,
           0,
           0,
           0,
           0,
           0,
           0
          ],
          [
           0,
           0.9854157568111678,
           0.014583322482647118,
           0,
           0,
           0,
           0,
           0,
           0,
           0,
           0,
           0,
           0,
           0,
           0,
           0
          ],
          [
           0,
           0.8203018264221248,
           0.12729894137217249,
           0.035037153407872064,
           0.017361094859198255,
           0,
           0,
           0,
           0,
           0,
           0,
           0,
           0,
           0,
           0,
           0
          ],
          [
           0,
           0.5901715252262792,
           0.2708200407414415,
           0.12789642902946802,
           0,
           0,
           0,
           0.011111098765445816,
           0,
           0,
           0,
           0,
           0,
           0,
           0,
           0
          ],
          [
           0,
           0.32878357987823953,
           0.34035707613786925,
           0.15921698122186298,
           0.07992414561823694,
           0.07429282916847248,
           0.01742422721534847,
           0,
           0,
           0,
           0,
           0,
           0,
           0,
           0,
           0
          ],
          [
           0,
           0.23006273189615184,
           0.3895966886926451,
           0.23899972484515764,
           0.07732900332271579,
           0.02488527424668806,
           0.016249986093762443,
           0.022875797727387605,
           0,
           0,
           0,
           0,
           0,
           0,
           0,
           0
          ],
          [
           0,
           0.23429270440003772,
           0.3102522220406633,
           0.25934319712628023,
           0.09722209799399414,
           0.06944435571000021,
           0.029444415154350496,
           0,
           0,
           0,
           0,
           0,
           0,
           0,
           0,
           0
          ],
          [
           0,
           0.2524627375671007,
           0.3326387596574586,
           0.23253560596912468,
           0.07045989957826573,
           0.06790038002008289,
           0.031501806593761804,
           0.012499992187504883,
           0,
           0,
           0,
           0,
           0,
           0,
           0,
           0
          ],
          [
           0,
           0.1944112240469888,
           0.2327328452729208,
           0.2610311971663003,
           0.18151495220867256,
           0.045192254900211073,
           0.06742417513207158,
           0.01769229177516248,
           0,
           0,
           0,
           0,
           0,
           0,
           0,
           0
          ],
          [
           0,
           0.2556315966511214,
           0.26113525873174276,
           0.19460603418142355,
           0.13883685138633878,
           0.0642856510998399,
           0.06447794336113774,
           0.014358963997377665,
           0.006666662222225185,
           0,
           0,
           0,
           0,
           0,
           0,
           0
          ],
          [
           0,
           0,
           0,
           0,
           0,
           0,
           0,
           0,
           0,
           0,
           0,
           0,
           0,
           0,
           0,
           0
          ],
          [
           0,
           0,
           0,
           0,
           0,
           0,
           0,
           0,
           0,
           0,
           0,
           0,
           0,
           0,
           0,
           0
          ],
          [
           0,
           0,
           0,
           0,
           0,
           0,
           0,
           0,
           0,
           0,
           0,
           0,
           0,
           0,
           0,
           0
          ],
          [
           0,
           0,
           0,
           0,
           0,
           0,
           0,
           0,
           0,
           0,
           0,
           0,
           0,
           0,
           0,
           0
          ],
          [
           0,
           0,
           0,
           0,
           0,
           0,
           0,
           0,
           0,
           0,
           0,
           0,
           0,
           0,
           0,
           0
          ],
          [
           0,
           0,
           0,
           0,
           0,
           0,
           0,
           0,
           0,
           0,
           0,
           0,
           0,
           0,
           0,
           0
          ]
         ]
        }
       ],
       "layout": {
        "font": {
         "color": "#FFF"
        },
        "height": 500,
        "paper_bgcolor": "#000",
        "plot_bgcolor": "#000",
        "title": "Choice after 1000 Iterations",
        "titlefont": {
         "color": "#FFF"
        },
        "width": 500,
        "xaxis": {
         "dtick": 1,
         "range": [
          0.5,
          15.5
         ],
         "tickcolor": "#FFF",
         "title": "Predicted Class"
        },
        "yaxis": {
         "dtick": 1,
         "range": [
          9.5,
          0.5
         ],
         "tickcolor": "#FFF",
         "title": "True Class"
        }
       }
      },
      "text/html": [
       "<div id=\"e0829ca8-0213-4a1b-9b5b-db2a8df12d81\" style=\"height: 500px; width: 500px;\" class=\"plotly-graph-div\"></div><script type=\"text/javascript\">require([\"plotly\"], function(Plotly) { window.PLOTLYENV=window.PLOTLYENV || {};window.PLOTLYENV.BASE_URL=\"https://plot.ly\";Plotly.newPlot(\"e0829ca8-0213-4a1b-9b5b-db2a8df12d81\", [{\"colorscale\": \"Jet\", \"type\": \"heatmap\", \"z\": [[0.0, 0.0, 0.0, 0.0, 0.0, 0.0, 0.0, 0.0, 0.0, 0.0, 0.0, 0.0, 0.0, 0.0, 0.0, 0.0], [0.0, 0.9854157568111678, 0.014583322482647118, 0.0, 0.0, 0.0, 0.0, 0.0, 0.0, 0.0, 0.0, 0.0, 0.0, 0.0, 0.0, 0.0], [0.0, 0.8203018264221248, 0.12729894137217249, 0.035037153407872064, 0.017361094859198255, 0.0, 0.0, 0.0, 0.0, 0.0, 0.0, 0.0, 0.0, 0.0, 0.0, 0.0], [0.0, 0.5901715252262792, 0.2708200407414415, 0.12789642902946802, 0.0, 0.0, 0.0, 0.011111098765445816, 0.0, 0.0, 0.0, 0.0, 0.0, 0.0, 0.0, 0.0], [0.0, 0.32878357987823953, 0.34035707613786925, 0.15921698122186298, 0.07992414561823694, 0.07429282916847248, 0.01742422721534847, 0.0, 0.0, 0.0, 0.0, 0.0, 0.0, 0.0, 0.0, 0.0], [0.0, 0.23006273189615184, 0.3895966886926451, 0.23899972484515764, 0.07732900332271579, 0.02488527424668806, 0.016249986093762443, 0.022875797727387605, 0.0, 0.0, 0.0, 0.0, 0.0, 0.0, 0.0, 0.0], [0.0, 0.23429270440003772, 0.3102522220406633, 0.25934319712628023, 0.09722209799399414, 0.06944435571000021, 0.029444415154350496, 0.0, 0.0, 0.0, 0.0, 0.0, 0.0, 0.0, 0.0, 0.0], [0.0, 0.2524627375671007, 0.3326387596574586, 0.23253560596912468, 0.07045989957826573, 0.06790038002008289, 0.031501806593761804, 0.012499992187504883, 0.0, 0.0, 0.0, 0.0, 0.0, 0.0, 0.0, 0.0], [0.0, 0.1944112240469888, 0.2327328452729208, 0.2610311971663003, 0.18151495220867256, 0.045192254900211073, 0.06742417513207158, 0.01769229177516248, 0.0, 0.0, 0.0, 0.0, 0.0, 0.0, 0.0, 0.0], [0.0, 0.2556315966511214, 0.26113525873174276, 0.19460603418142355, 0.13883685138633878, 0.0642856510998399, 0.06447794336113774, 0.014358963997377665, 0.006666662222225185, 0.0, 0.0, 0.0, 0.0, 0.0, 0.0, 0.0], [0.0, 0.0, 0.0, 0.0, 0.0, 0.0, 0.0, 0.0, 0.0, 0.0, 0.0, 0.0, 0.0, 0.0, 0.0, 0.0], [0.0, 0.0, 0.0, 0.0, 0.0, 0.0, 0.0, 0.0, 0.0, 0.0, 0.0, 0.0, 0.0, 0.0, 0.0, 0.0], [0.0, 0.0, 0.0, 0.0, 0.0, 0.0, 0.0, 0.0, 0.0, 0.0, 0.0, 0.0, 0.0, 0.0, 0.0, 0.0], [0.0, 0.0, 0.0, 0.0, 0.0, 0.0, 0.0, 0.0, 0.0, 0.0, 0.0, 0.0, 0.0, 0.0, 0.0, 0.0], [0.0, 0.0, 0.0, 0.0, 0.0, 0.0, 0.0, 0.0, 0.0, 0.0, 0.0, 0.0, 0.0, 0.0, 0.0, 0.0], [0.0, 0.0, 0.0, 0.0, 0.0, 0.0, 0.0, 0.0, 0.0, 0.0, 0.0, 0.0, 0.0, 0.0, 0.0, 0.0]]}], {\"paper_bgcolor\": \"#000\", \"titlefont\": {\"color\": \"#FFF\"}, \"yaxis\": {\"dtick\": 1, \"title\": \"True Class\", \"tickcolor\": \"#FFF\", \"range\": [9.5, 0.5]}, \"xaxis\": {\"dtick\": 1, \"title\": \"Predicted Class\", \"tickcolor\": \"#FFF\", \"range\": [0.5, 15.5]}, \"font\": {\"color\": \"#FFF\"}, \"plot_bgcolor\": \"#000\", \"height\": 500, \"title\": \"Choice after 1000 Iterations\", \"width\": 500}, {\"linkText\": \"Export to plot.ly\", \"showLink\": true})});</script>"
      ],
      "text/vnd.plotly.v1+html": [
       "<div id=\"e0829ca8-0213-4a1b-9b5b-db2a8df12d81\" style=\"height: 500px; width: 500px;\" class=\"plotly-graph-div\"></div><script type=\"text/javascript\">require([\"plotly\"], function(Plotly) { window.PLOTLYENV=window.PLOTLYENV || {};window.PLOTLYENV.BASE_URL=\"https://plot.ly\";Plotly.newPlot(\"e0829ca8-0213-4a1b-9b5b-db2a8df12d81\", [{\"colorscale\": \"Jet\", \"type\": \"heatmap\", \"z\": [[0.0, 0.0, 0.0, 0.0, 0.0, 0.0, 0.0, 0.0, 0.0, 0.0, 0.0, 0.0, 0.0, 0.0, 0.0, 0.0], [0.0, 0.9854157568111678, 0.014583322482647118, 0.0, 0.0, 0.0, 0.0, 0.0, 0.0, 0.0, 0.0, 0.0, 0.0, 0.0, 0.0, 0.0], [0.0, 0.8203018264221248, 0.12729894137217249, 0.035037153407872064, 0.017361094859198255, 0.0, 0.0, 0.0, 0.0, 0.0, 0.0, 0.0, 0.0, 0.0, 0.0, 0.0], [0.0, 0.5901715252262792, 0.2708200407414415, 0.12789642902946802, 0.0, 0.0, 0.0, 0.011111098765445816, 0.0, 0.0, 0.0, 0.0, 0.0, 0.0, 0.0, 0.0], [0.0, 0.32878357987823953, 0.34035707613786925, 0.15921698122186298, 0.07992414561823694, 0.07429282916847248, 0.01742422721534847, 0.0, 0.0, 0.0, 0.0, 0.0, 0.0, 0.0, 0.0, 0.0], [0.0, 0.23006273189615184, 0.3895966886926451, 0.23899972484515764, 0.07732900332271579, 0.02488527424668806, 0.016249986093762443, 0.022875797727387605, 0.0, 0.0, 0.0, 0.0, 0.0, 0.0, 0.0, 0.0], [0.0, 0.23429270440003772, 0.3102522220406633, 0.25934319712628023, 0.09722209799399414, 0.06944435571000021, 0.029444415154350496, 0.0, 0.0, 0.0, 0.0, 0.0, 0.0, 0.0, 0.0, 0.0], [0.0, 0.2524627375671007, 0.3326387596574586, 0.23253560596912468, 0.07045989957826573, 0.06790038002008289, 0.031501806593761804, 0.012499992187504883, 0.0, 0.0, 0.0, 0.0, 0.0, 0.0, 0.0, 0.0], [0.0, 0.1944112240469888, 0.2327328452729208, 0.2610311971663003, 0.18151495220867256, 0.045192254900211073, 0.06742417513207158, 0.01769229177516248, 0.0, 0.0, 0.0, 0.0, 0.0, 0.0, 0.0, 0.0], [0.0, 0.2556315966511214, 0.26113525873174276, 0.19460603418142355, 0.13883685138633878, 0.0642856510998399, 0.06447794336113774, 0.014358963997377665, 0.006666662222225185, 0.0, 0.0, 0.0, 0.0, 0.0, 0.0, 0.0], [0.0, 0.0, 0.0, 0.0, 0.0, 0.0, 0.0, 0.0, 0.0, 0.0, 0.0, 0.0, 0.0, 0.0, 0.0, 0.0], [0.0, 0.0, 0.0, 0.0, 0.0, 0.0, 0.0, 0.0, 0.0, 0.0, 0.0, 0.0, 0.0, 0.0, 0.0, 0.0], [0.0, 0.0, 0.0, 0.0, 0.0, 0.0, 0.0, 0.0, 0.0, 0.0, 0.0, 0.0, 0.0, 0.0, 0.0, 0.0], [0.0, 0.0, 0.0, 0.0, 0.0, 0.0, 0.0, 0.0, 0.0, 0.0, 0.0, 0.0, 0.0, 0.0, 0.0, 0.0], [0.0, 0.0, 0.0, 0.0, 0.0, 0.0, 0.0, 0.0, 0.0, 0.0, 0.0, 0.0, 0.0, 0.0, 0.0, 0.0], [0.0, 0.0, 0.0, 0.0, 0.0, 0.0, 0.0, 0.0, 0.0, 0.0, 0.0, 0.0, 0.0, 0.0, 0.0, 0.0]]}], {\"paper_bgcolor\": \"#000\", \"titlefont\": {\"color\": \"#FFF\"}, \"yaxis\": {\"dtick\": 1, \"title\": \"True Class\", \"tickcolor\": \"#FFF\", \"range\": [9.5, 0.5]}, \"xaxis\": {\"dtick\": 1, \"title\": \"Predicted Class\", \"tickcolor\": \"#FFF\", \"range\": [0.5, 15.5]}, \"font\": {\"color\": \"#FFF\"}, \"plot_bgcolor\": \"#000\", \"height\": 500, \"title\": \"Choice after 1000 Iterations\", \"width\": 500}, {\"linkText\": \"Export to plot.ly\", \"showLink\": true})});</script>"
      ]
     },
     "metadata": {},
     "output_type": "display_data"
    },
    {
     "data": {
      "application/vnd.plotly.v1+json": {
       "data": [
        {
         "colorscale": "Jet",
         "type": "heatmap",
         "z": [
          [
           0,
           0,
           0,
           0,
           0,
           0,
           0,
           0,
           0,
           0,
           0,
           0,
           0,
           0,
           0,
           0
          ],
          [
           0,
           0.966195690870534,
           0.033803389151718155,
           0,
           0,
           0,
           0,
           0,
           0,
           0,
           0,
           0,
           0,
           0,
           0,
           0
          ],
          [
           0,
           0.41888910728509526,
           0.48974645253375826,
           0.07318170915307884,
           0.01818180165290759,
           0,
           0,
           0,
           0,
           0,
           0,
           0,
           0,
           0,
           0,
           0
          ],
          [
           0,
           0.11468371194895659,
           0.42096599876303725,
           0.3557975750755283,
           0.08279424933248318,
           0.025757553604243144,
           0,
           0,
           0,
           0,
           0,
           0,
           0,
           0,
           0,
           0
          ],
          [
           0,
           0.09829828501844833,
           0.28840202787458125,
           0.2936603947102256,
           0.14585164821534324,
           0.09020096359731902,
           0.050883793432312086,
           0.011111098765445816,
           0.012499984375019531,
           0.009090900826453795,
           0,
           0,
           0,
           0,
           0,
           0
          ],
          [
           0,
           0.17684615253901312,
           0.12511640083096523,
           0.2934893778247624,
           0.15334192488937534,
           0.1598385838827173,
           0.0353408835868818,
           0.006249996093752441,
           0.03374996907989184,
           0.008333326388894677,
           0,
           0.007692301775152481,
           0,
           0,
           0,
           0
          ],
          [
           0,
           0.11873725001722779,
           0.16020183806432245,
           0.19477250616015973,
           0.17282808917709566,
           0.17214628703805274,
           0.10047969551019431,
           0.026666642777799354,
           0.05416660590284794,
           0,
           0,
           0,
           0,
           0,
           0,
           0
          ],
          [
           0,
           0.140276225667055,
           0.13469679969491988,
           0.13686715170178426,
           0.20395080542047966,
           0.1490832729638552,
           0.03681315967276487,
           0.08194796307146364,
           0.04999993000011001,
           0.06636355330590518,
           0,
           0,
           0,
           0,
           0,
           0
          ],
          [
           0,
           0.07469525174304117,
           0.15906995401580848,
           0.0948001083483287,
           0.1536095802503093,
           0.21796347251788176,
           0.1344704059802836,
           0.059964983421197895,
           0.07864211902958891,
           0.02678319260161628,
           0,
           0,
           0,
           0,
           0,
           0
          ],
          [
           0,
           0.09003763318354704,
           0.1827777563567219,
           0.2004248047996346,
           0.0909372237925121,
           0.14984741460414946,
           0.10743633523452345,
           0.09336392804776858,
           0.04224355192270216,
           0.04293035175253802,
           0,
           0,
           0,
           0,
           0,
           0
          ],
          [
           0,
           0,
           0,
           0,
           0,
           0,
           0,
           0,
           0,
           0,
           0,
           0,
           0,
           0,
           0,
           0
          ],
          [
           0,
           0,
           0,
           0,
           0,
           0,
           0,
           0,
           0,
           0,
           0,
           0,
           0,
           0,
           0,
           0
          ],
          [
           0,
           0,
           0,
           0,
           0,
           0,
           0,
           0,
           0,
           0,
           0,
           0,
           0,
           0,
           0,
           0
          ],
          [
           0,
           0,
           0,
           0,
           0,
           0,
           0,
           0,
           0,
           0,
           0,
           0,
           0,
           0,
           0,
           0
          ],
          [
           0,
           0,
           0,
           0,
           0,
           0,
           0,
           0,
           0,
           0,
           0,
           0,
           0,
           0,
           0,
           0
          ],
          [
           0,
           0,
           0,
           0,
           0,
           0,
           0,
           0,
           0,
           0,
           0,
           0,
           0,
           0,
           0,
           0
          ]
         ]
        }
       ],
       "layout": {
        "font": {
         "color": "#FFF"
        },
        "height": 500,
        "paper_bgcolor": "#000",
        "plot_bgcolor": "#000",
        "title": "Choice after 4000 Iterations",
        "titlefont": {
         "color": "#FFF"
        },
        "width": 500,
        "xaxis": {
         "dtick": 1,
         "range": [
          0.5,
          15.5
         ],
         "tickcolor": "#FFF",
         "title": "Predicted Class"
        },
        "yaxis": {
         "dtick": 1,
         "range": [
          9.5,
          0.5
         ],
         "tickcolor": "#FFF",
         "title": "True Class"
        }
       }
      },
      "text/html": [
       "<div id=\"c4d500de-cd0b-410f-9afc-3f5da8108c51\" style=\"height: 500px; width: 500px;\" class=\"plotly-graph-div\"></div><script type=\"text/javascript\">require([\"plotly\"], function(Plotly) { window.PLOTLYENV=window.PLOTLYENV || {};window.PLOTLYENV.BASE_URL=\"https://plot.ly\";Plotly.newPlot(\"c4d500de-cd0b-410f-9afc-3f5da8108c51\", [{\"colorscale\": \"Jet\", \"type\": \"heatmap\", \"z\": [[0.0, 0.0, 0.0, 0.0, 0.0, 0.0, 0.0, 0.0, 0.0, 0.0, 0.0, 0.0, 0.0, 0.0, 0.0, 0.0], [0.0, 0.966195690870534, 0.033803389151718155, 0.0, 0.0, 0.0, 0.0, 0.0, 0.0, 0.0, 0.0, 0.0, 0.0, 0.0, 0.0, 0.0], [0.0, 0.41888910728509526, 0.48974645253375826, 0.07318170915307884, 0.01818180165290759, 0.0, 0.0, 0.0, 0.0, 0.0, 0.0, 0.0, 0.0, 0.0, 0.0, 0.0], [0.0, 0.11468371194895659, 0.42096599876303725, 0.3557975750755283, 0.08279424933248318, 0.025757553604243144, 0.0, 0.0, 0.0, 0.0, 0.0, 0.0, 0.0, 0.0, 0.0, 0.0], [0.0, 0.09829828501844833, 0.28840202787458125, 0.2936603947102256, 0.14585164821534324, 0.09020096359731902, 0.050883793432312086, 0.011111098765445816, 0.012499984375019531, 0.009090900826453795, 0.0, 0.0, 0.0, 0.0, 0.0, 0.0], [0.0, 0.17684615253901312, 0.12511640083096523, 0.2934893778247624, 0.15334192488937534, 0.1598385838827173, 0.0353408835868818, 0.006249996093752441, 0.03374996907989184, 0.008333326388894677, 0.0, 0.007692301775152481, 0.0, 0.0, 0.0, 0.0], [0.0, 0.11873725001722779, 0.16020183806432245, 0.19477250616015973, 0.17282808917709566, 0.17214628703805274, 0.10047969551019431, 0.026666642777799354, 0.05416660590284794, 0.0, 0.0, 0.0, 0.0, 0.0, 0.0, 0.0], [0.0, 0.140276225667055, 0.13469679969491988, 0.13686715170178426, 0.20395080542047966, 0.1490832729638552, 0.03681315967276487, 0.08194796307146364, 0.04999993000011001, 0.06636355330590518, 0.0, 0.0, 0.0, 0.0, 0.0, 0.0], [0.0, 0.07469525174304117, 0.15906995401580848, 0.0948001083483287, 0.1536095802503093, 0.21796347251788176, 0.1344704059802836, 0.059964983421197895, 0.07864211902958891, 0.02678319260161628, 0.0, 0.0, 0.0, 0.0, 0.0, 0.0], [0.0, 0.09003763318354704, 0.1827777563567219, 0.2004248047996346, 0.0909372237925121, 0.14984741460414946, 0.10743633523452345, 0.09336392804776858, 0.04224355192270216, 0.04293035175253802, 0.0, 0.0, 0.0, 0.0, 0.0, 0.0], [0.0, 0.0, 0.0, 0.0, 0.0, 0.0, 0.0, 0.0, 0.0, 0.0, 0.0, 0.0, 0.0, 0.0, 0.0, 0.0], [0.0, 0.0, 0.0, 0.0, 0.0, 0.0, 0.0, 0.0, 0.0, 0.0, 0.0, 0.0, 0.0, 0.0, 0.0, 0.0], [0.0, 0.0, 0.0, 0.0, 0.0, 0.0, 0.0, 0.0, 0.0, 0.0, 0.0, 0.0, 0.0, 0.0, 0.0, 0.0], [0.0, 0.0, 0.0, 0.0, 0.0, 0.0, 0.0, 0.0, 0.0, 0.0, 0.0, 0.0, 0.0, 0.0, 0.0, 0.0], [0.0, 0.0, 0.0, 0.0, 0.0, 0.0, 0.0, 0.0, 0.0, 0.0, 0.0, 0.0, 0.0, 0.0, 0.0, 0.0], [0.0, 0.0, 0.0, 0.0, 0.0, 0.0, 0.0, 0.0, 0.0, 0.0, 0.0, 0.0, 0.0, 0.0, 0.0, 0.0]]}], {\"paper_bgcolor\": \"#000\", \"titlefont\": {\"color\": \"#FFF\"}, \"yaxis\": {\"dtick\": 1, \"title\": \"True Class\", \"tickcolor\": \"#FFF\", \"range\": [9.5, 0.5]}, \"xaxis\": {\"dtick\": 1, \"title\": \"Predicted Class\", \"tickcolor\": \"#FFF\", \"range\": [0.5, 15.5]}, \"font\": {\"color\": \"#FFF\"}, \"plot_bgcolor\": \"#000\", \"height\": 500, \"title\": \"Choice after 4000 Iterations\", \"width\": 500}, {\"linkText\": \"Export to plot.ly\", \"showLink\": true})});</script>"
      ],
      "text/vnd.plotly.v1+html": [
       "<div id=\"c4d500de-cd0b-410f-9afc-3f5da8108c51\" style=\"height: 500px; width: 500px;\" class=\"plotly-graph-div\"></div><script type=\"text/javascript\">require([\"plotly\"], function(Plotly) { window.PLOTLYENV=window.PLOTLYENV || {};window.PLOTLYENV.BASE_URL=\"https://plot.ly\";Plotly.newPlot(\"c4d500de-cd0b-410f-9afc-3f5da8108c51\", [{\"colorscale\": \"Jet\", \"type\": \"heatmap\", \"z\": [[0.0, 0.0, 0.0, 0.0, 0.0, 0.0, 0.0, 0.0, 0.0, 0.0, 0.0, 0.0, 0.0, 0.0, 0.0, 0.0], [0.0, 0.966195690870534, 0.033803389151718155, 0.0, 0.0, 0.0, 0.0, 0.0, 0.0, 0.0, 0.0, 0.0, 0.0, 0.0, 0.0, 0.0], [0.0, 0.41888910728509526, 0.48974645253375826, 0.07318170915307884, 0.01818180165290759, 0.0, 0.0, 0.0, 0.0, 0.0, 0.0, 0.0, 0.0, 0.0, 0.0, 0.0], [0.0, 0.11468371194895659, 0.42096599876303725, 0.3557975750755283, 0.08279424933248318, 0.025757553604243144, 0.0, 0.0, 0.0, 0.0, 0.0, 0.0, 0.0, 0.0, 0.0, 0.0], [0.0, 0.09829828501844833, 0.28840202787458125, 0.2936603947102256, 0.14585164821534324, 0.09020096359731902, 0.050883793432312086, 0.011111098765445816, 0.012499984375019531, 0.009090900826453795, 0.0, 0.0, 0.0, 0.0, 0.0, 0.0], [0.0, 0.17684615253901312, 0.12511640083096523, 0.2934893778247624, 0.15334192488937534, 0.1598385838827173, 0.0353408835868818, 0.006249996093752441, 0.03374996907989184, 0.008333326388894677, 0.0, 0.007692301775152481, 0.0, 0.0, 0.0, 0.0], [0.0, 0.11873725001722779, 0.16020183806432245, 0.19477250616015973, 0.17282808917709566, 0.17214628703805274, 0.10047969551019431, 0.026666642777799354, 0.05416660590284794, 0.0, 0.0, 0.0, 0.0, 0.0, 0.0, 0.0], [0.0, 0.140276225667055, 0.13469679969491988, 0.13686715170178426, 0.20395080542047966, 0.1490832729638552, 0.03681315967276487, 0.08194796307146364, 0.04999993000011001, 0.06636355330590518, 0.0, 0.0, 0.0, 0.0, 0.0, 0.0], [0.0, 0.07469525174304117, 0.15906995401580848, 0.0948001083483287, 0.1536095802503093, 0.21796347251788176, 0.1344704059802836, 0.059964983421197895, 0.07864211902958891, 0.02678319260161628, 0.0, 0.0, 0.0, 0.0, 0.0, 0.0], [0.0, 0.09003763318354704, 0.1827777563567219, 0.2004248047996346, 0.0909372237925121, 0.14984741460414946, 0.10743633523452345, 0.09336392804776858, 0.04224355192270216, 0.04293035175253802, 0.0, 0.0, 0.0, 0.0, 0.0, 0.0], [0.0, 0.0, 0.0, 0.0, 0.0, 0.0, 0.0, 0.0, 0.0, 0.0, 0.0, 0.0, 0.0, 0.0, 0.0, 0.0], [0.0, 0.0, 0.0, 0.0, 0.0, 0.0, 0.0, 0.0, 0.0, 0.0, 0.0, 0.0, 0.0, 0.0, 0.0, 0.0], [0.0, 0.0, 0.0, 0.0, 0.0, 0.0, 0.0, 0.0, 0.0, 0.0, 0.0, 0.0, 0.0, 0.0, 0.0, 0.0], [0.0, 0.0, 0.0, 0.0, 0.0, 0.0, 0.0, 0.0, 0.0, 0.0, 0.0, 0.0, 0.0, 0.0, 0.0, 0.0], [0.0, 0.0, 0.0, 0.0, 0.0, 0.0, 0.0, 0.0, 0.0, 0.0, 0.0, 0.0, 0.0, 0.0, 0.0, 0.0], [0.0, 0.0, 0.0, 0.0, 0.0, 0.0, 0.0, 0.0, 0.0, 0.0, 0.0, 0.0, 0.0, 0.0, 0.0, 0.0]]}], {\"paper_bgcolor\": \"#000\", \"titlefont\": {\"color\": \"#FFF\"}, \"yaxis\": {\"dtick\": 1, \"title\": \"True Class\", \"tickcolor\": \"#FFF\", \"range\": [9.5, 0.5]}, \"xaxis\": {\"dtick\": 1, \"title\": \"Predicted Class\", \"tickcolor\": \"#FFF\", \"range\": [0.5, 15.5]}, \"font\": {\"color\": \"#FFF\"}, \"plot_bgcolor\": \"#000\", \"height\": 500, \"title\": \"Choice after 4000 Iterations\", \"width\": 500}, {\"linkText\": \"Export to plot.ly\", \"showLink\": true})});</script>"
      ]
     },
     "metadata": {},
     "output_type": "display_data"
    },
    {
     "data": {
      "application/vnd.plotly.v1+json": {
       "data": [
        {
         "colorscale": "Jet",
         "type": "heatmap",
         "z": [
          [
           0,
           0,
           0,
           0,
           0,
           0,
           0,
           0,
           0,
           0,
           0,
           0,
           0,
           0,
           0,
           0
          ],
          [
           0,
           0.9999990996289897,
           0,
           0,
           0,
           0,
           0,
           0,
           0,
           0,
           0,
           0,
           0,
           0,
           0,
           0
          ],
          [
           0,
           0.17380720570137428,
           0.7336695700116744,
           0.07232019288175809,
           0,
           0.011111098765445816,
           0,
           0.009090900826453795,
           0,
           0,
           0,
           0,
           0,
           0,
           0,
           0
          ],
          [
           0,
           0.052316385671984524,
           0.4070903984441041,
           0.43614877628258836,
           0.0668802902410655,
           0.02645199568565205,
           0,
           0,
           0.011111098765445816,
           0,
           0,
           0,
           0,
           0,
           0,
           0
          ],
          [
           0,
           0.02361108314046535,
           0.1663923249010217,
           0.32012956392616937,
           0.17045439665881962,
           0.12901141724223802,
           0.06726183584899839,
           0.08813844638208258,
           0.02499997916668403,
           0.009999990000010001,
           0,
           0,
           0,
           0,
           0,
           0
          ],
          [
           0,
           0,
           0.07210552463226709,
           0.25114565660228755,
           0.22371142046105033,
           0.21053231445401335,
           0.04977267685439092,
           0.09724880206531242,
           0.06904029238643541,
           0.020192293962657364,
           0,
           0.006249996093752441,
           0,
           0,
           0,
           0
          ],
          [
           0,
           0,
           0.021428545918400144,
           0.17311446946997971,
           0.18154474257813583,
           0.2659984273766817,
           0.12900492890302434,
           0.1524211848717434,
           0.05041204351644942,
           0.018382333855990425,
           0,
           0.007692301775152481,
           0,
           0,
           0,
           0
          ],
          [
           0,
           0.009090900826453795,
           0.021929794013590385,
           0.06739494873012074,
           0.1081817035048758,
           0.20786719925440145,
           0.16039175834960157,
           0.23070612392293652,
           0.11565643890944122,
           0.057669115623525925,
           0.021111088765455817,
           0,
           0,
           0,
           0,
           0
          ],
          [
           0,
           0,
           0.008333326388894677,
           0.03426366437135551,
           0.08092057216424124,
           0.1930600430869852,
           0.14371233273491585,
           0.2602765719794856,
           0.20443259813014047,
           0.04944439813276447,
           0.005555552469137517,
           0.019999980000020002,
           0,
           0,
           0,
           0
          ],
          [
           0,
           0,
           0,
           0.019166646597244718,
           0.08983868551449223,
           0.1355544559807914,
           0.06467026399041956,
           0.260672393285157,
           0.19417189521262596,
           0.204258050557864,
           0.03166663097226425,
           0,
           0,
           0,
           0,
           0
          ],
          [
           0,
           0,
           0,
           0,
           0,
           0,
           0,
           0,
           0,
           0,
           0,
           0,
           0,
           0,
           0,
           0
          ],
          [
           0,
           0,
           0,
           0,
           0,
           0,
           0,
           0,
           0,
           0,
           0,
           0,
           0,
           0,
           0,
           0
          ],
          [
           0,
           0,
           0,
           0,
           0,
           0,
           0,
           0,
           0,
           0,
           0,
           0,
           0,
           0,
           0,
           0
          ],
          [
           0,
           0,
           0,
           0,
           0,
           0,
           0,
           0,
           0,
           0,
           0,
           0,
           0,
           0,
           0,
           0
          ],
          [
           0,
           0,
           0,
           0,
           0,
           0,
           0,
           0,
           0,
           0,
           0,
           0,
           0,
           0,
           0,
           0
          ],
          [
           0,
           0,
           0,
           0,
           0,
           0,
           0,
           0,
           0,
           0,
           0,
           0,
           0,
           0,
           0,
           0
          ]
         ]
        }
       ],
       "layout": {
        "font": {
         "color": "#FFF"
        },
        "height": 500,
        "paper_bgcolor": "#000",
        "plot_bgcolor": "#000",
        "title": "Choice after 16000 Iterations",
        "titlefont": {
         "color": "#FFF"
        },
        "width": 500,
        "xaxis": {
         "dtick": 1,
         "range": [
          0.5,
          15.5
         ],
         "tickcolor": "#FFF",
         "title": "Predicted Class"
        },
        "yaxis": {
         "dtick": 1,
         "range": [
          9.5,
          0.5
         ],
         "tickcolor": "#FFF",
         "title": "True Class"
        }
       }
      },
      "text/html": [
       "<div id=\"9dee380a-3158-406d-bf35-f4b52416608f\" style=\"height: 500px; width: 500px;\" class=\"plotly-graph-div\"></div><script type=\"text/javascript\">require([\"plotly\"], function(Plotly) { window.PLOTLYENV=window.PLOTLYENV || {};window.PLOTLYENV.BASE_URL=\"https://plot.ly\";Plotly.newPlot(\"9dee380a-3158-406d-bf35-f4b52416608f\", [{\"colorscale\": \"Jet\", \"type\": \"heatmap\", \"z\": [[0.0, 0.0, 0.0, 0.0, 0.0, 0.0, 0.0, 0.0, 0.0, 0.0, 0.0, 0.0, 0.0, 0.0, 0.0, 0.0], [0.0, 0.9999990996289897, 0.0, 0.0, 0.0, 0.0, 0.0, 0.0, 0.0, 0.0, 0.0, 0.0, 0.0, 0.0, 0.0, 0.0], [0.0, 0.17380720570137428, 0.7336695700116744, 0.07232019288175809, 0.0, 0.011111098765445816, 0.0, 0.009090900826453795, 0.0, 0.0, 0.0, 0.0, 0.0, 0.0, 0.0, 0.0], [0.0, 0.052316385671984524, 0.4070903984441041, 0.43614877628258836, 0.0668802902410655, 0.02645199568565205, 0.0, 0.0, 0.011111098765445816, 0.0, 0.0, 0.0, 0.0, 0.0, 0.0, 0.0], [0.0, 0.02361108314046535, 0.1663923249010217, 0.32012956392616937, 0.17045439665881962, 0.12901141724223802, 0.06726183584899839, 0.08813844638208258, 0.02499997916668403, 0.009999990000010001, 0.0, 0.0, 0.0, 0.0, 0.0, 0.0], [0.0, 0.0, 0.07210552463226709, 0.25114565660228755, 0.22371142046105033, 0.21053231445401335, 0.04977267685439092, 0.09724880206531242, 0.06904029238643541, 0.020192293962657364, 0.0, 0.006249996093752441, 0.0, 0.0, 0.0, 0.0], [0.0, 0.0, 0.021428545918400144, 0.17311446946997971, 0.18154474257813583, 0.2659984273766817, 0.12900492890302434, 0.1524211848717434, 0.05041204351644942, 0.018382333855990425, 0.0, 0.007692301775152481, 0.0, 0.0, 0.0, 0.0], [0.0, 0.009090900826453795, 0.021929794013590385, 0.06739494873012074, 0.1081817035048758, 0.20786719925440145, 0.16039175834960157, 0.23070612392293652, 0.11565643890944122, 0.057669115623525925, 0.021111088765455817, 0.0, 0.0, 0.0, 0.0, 0.0], [0.0, 0.0, 0.008333326388894677, 0.03426366437135551, 0.08092057216424124, 0.1930600430869852, 0.14371233273491585, 0.2602765719794856, 0.20443259813014047, 0.04944439813276447, 0.005555552469137517, 0.019999980000020002, 0.0, 0.0, 0.0, 0.0], [0.0, 0.0, 0.0, 0.019166646597244718, 0.08983868551449223, 0.1355544559807914, 0.06467026399041956, 0.260672393285157, 0.19417189521262596, 0.204258050557864, 0.03166663097226425, 0.0, 0.0, 0.0, 0.0, 0.0], [0.0, 0.0, 0.0, 0.0, 0.0, 0.0, 0.0, 0.0, 0.0, 0.0, 0.0, 0.0, 0.0, 0.0, 0.0, 0.0], [0.0, 0.0, 0.0, 0.0, 0.0, 0.0, 0.0, 0.0, 0.0, 0.0, 0.0, 0.0, 0.0, 0.0, 0.0, 0.0], [0.0, 0.0, 0.0, 0.0, 0.0, 0.0, 0.0, 0.0, 0.0, 0.0, 0.0, 0.0, 0.0, 0.0, 0.0, 0.0], [0.0, 0.0, 0.0, 0.0, 0.0, 0.0, 0.0, 0.0, 0.0, 0.0, 0.0, 0.0, 0.0, 0.0, 0.0, 0.0], [0.0, 0.0, 0.0, 0.0, 0.0, 0.0, 0.0, 0.0, 0.0, 0.0, 0.0, 0.0, 0.0, 0.0, 0.0, 0.0], [0.0, 0.0, 0.0, 0.0, 0.0, 0.0, 0.0, 0.0, 0.0, 0.0, 0.0, 0.0, 0.0, 0.0, 0.0, 0.0]]}], {\"paper_bgcolor\": \"#000\", \"titlefont\": {\"color\": \"#FFF\"}, \"yaxis\": {\"dtick\": 1, \"title\": \"True Class\", \"tickcolor\": \"#FFF\", \"range\": [9.5, 0.5]}, \"xaxis\": {\"dtick\": 1, \"title\": \"Predicted Class\", \"tickcolor\": \"#FFF\", \"range\": [0.5, 15.5]}, \"font\": {\"color\": \"#FFF\"}, \"plot_bgcolor\": \"#000\", \"height\": 500, \"title\": \"Choice after 16000 Iterations\", \"width\": 500}, {\"linkText\": \"Export to plot.ly\", \"showLink\": true})});</script>"
      ],
      "text/vnd.plotly.v1+html": [
       "<div id=\"9dee380a-3158-406d-bf35-f4b52416608f\" style=\"height: 500px; width: 500px;\" class=\"plotly-graph-div\"></div><script type=\"text/javascript\">require([\"plotly\"], function(Plotly) { window.PLOTLYENV=window.PLOTLYENV || {};window.PLOTLYENV.BASE_URL=\"https://plot.ly\";Plotly.newPlot(\"9dee380a-3158-406d-bf35-f4b52416608f\", [{\"colorscale\": \"Jet\", \"type\": \"heatmap\", \"z\": [[0.0, 0.0, 0.0, 0.0, 0.0, 0.0, 0.0, 0.0, 0.0, 0.0, 0.0, 0.0, 0.0, 0.0, 0.0, 0.0], [0.0, 0.9999990996289897, 0.0, 0.0, 0.0, 0.0, 0.0, 0.0, 0.0, 0.0, 0.0, 0.0, 0.0, 0.0, 0.0, 0.0], [0.0, 0.17380720570137428, 0.7336695700116744, 0.07232019288175809, 0.0, 0.011111098765445816, 0.0, 0.009090900826453795, 0.0, 0.0, 0.0, 0.0, 0.0, 0.0, 0.0, 0.0], [0.0, 0.052316385671984524, 0.4070903984441041, 0.43614877628258836, 0.0668802902410655, 0.02645199568565205, 0.0, 0.0, 0.011111098765445816, 0.0, 0.0, 0.0, 0.0, 0.0, 0.0, 0.0], [0.0, 0.02361108314046535, 0.1663923249010217, 0.32012956392616937, 0.17045439665881962, 0.12901141724223802, 0.06726183584899839, 0.08813844638208258, 0.02499997916668403, 0.009999990000010001, 0.0, 0.0, 0.0, 0.0, 0.0, 0.0], [0.0, 0.0, 0.07210552463226709, 0.25114565660228755, 0.22371142046105033, 0.21053231445401335, 0.04977267685439092, 0.09724880206531242, 0.06904029238643541, 0.020192293962657364, 0.0, 0.006249996093752441, 0.0, 0.0, 0.0, 0.0], [0.0, 0.0, 0.021428545918400144, 0.17311446946997971, 0.18154474257813583, 0.2659984273766817, 0.12900492890302434, 0.1524211848717434, 0.05041204351644942, 0.018382333855990425, 0.0, 0.007692301775152481, 0.0, 0.0, 0.0, 0.0], [0.0, 0.009090900826453795, 0.021929794013590385, 0.06739494873012074, 0.1081817035048758, 0.20786719925440145, 0.16039175834960157, 0.23070612392293652, 0.11565643890944122, 0.057669115623525925, 0.021111088765455817, 0.0, 0.0, 0.0, 0.0, 0.0], [0.0, 0.0, 0.008333326388894677, 0.03426366437135551, 0.08092057216424124, 0.1930600430869852, 0.14371233273491585, 0.2602765719794856, 0.20443259813014047, 0.04944439813276447, 0.005555552469137517, 0.019999980000020002, 0.0, 0.0, 0.0, 0.0], [0.0, 0.0, 0.0, 0.019166646597244718, 0.08983868551449223, 0.1355544559807914, 0.06467026399041956, 0.260672393285157, 0.19417189521262596, 0.204258050557864, 0.03166663097226425, 0.0, 0.0, 0.0, 0.0, 0.0], [0.0, 0.0, 0.0, 0.0, 0.0, 0.0, 0.0, 0.0, 0.0, 0.0, 0.0, 0.0, 0.0, 0.0, 0.0, 0.0], [0.0, 0.0, 0.0, 0.0, 0.0, 0.0, 0.0, 0.0, 0.0, 0.0, 0.0, 0.0, 0.0, 0.0, 0.0, 0.0], [0.0, 0.0, 0.0, 0.0, 0.0, 0.0, 0.0, 0.0, 0.0, 0.0, 0.0, 0.0, 0.0, 0.0, 0.0, 0.0], [0.0, 0.0, 0.0, 0.0, 0.0, 0.0, 0.0, 0.0, 0.0, 0.0, 0.0, 0.0, 0.0, 0.0, 0.0, 0.0], [0.0, 0.0, 0.0, 0.0, 0.0, 0.0, 0.0, 0.0, 0.0, 0.0, 0.0, 0.0, 0.0, 0.0, 0.0, 0.0], [0.0, 0.0, 0.0, 0.0, 0.0, 0.0, 0.0, 0.0, 0.0, 0.0, 0.0, 0.0, 0.0, 0.0, 0.0, 0.0]]}], {\"paper_bgcolor\": \"#000\", \"titlefont\": {\"color\": \"#FFF\"}, \"yaxis\": {\"dtick\": 1, \"title\": \"True Class\", \"tickcolor\": \"#FFF\", \"range\": [9.5, 0.5]}, \"xaxis\": {\"dtick\": 1, \"title\": \"Predicted Class\", \"tickcolor\": \"#FFF\", \"range\": [0.5, 15.5]}, \"font\": {\"color\": \"#FFF\"}, \"plot_bgcolor\": \"#000\", \"height\": 500, \"title\": \"Choice after 16000 Iterations\", \"width\": 500}, {\"linkText\": \"Export to plot.ly\", \"showLink\": true})});</script>"
      ]
     },
     "metadata": {},
     "output_type": "display_data"
    },
    {
     "data": {
      "application/vnd.plotly.v1+json": {
       "data": [
        {
         "colorscale": "Jet",
         "type": "heatmap",
         "z": [
          [
           0,
           0,
           0,
           0,
           0,
           0,
           0,
           0,
           0,
           0,
           0,
           0,
           0,
           0,
           0,
           0
          ],
          [
           0,
           0.9923066865653973,
           0.007692301775152481,
           0,
           0,
           0,
           0,
           0,
           0,
           0,
           0,
           0,
           0,
           0,
           0,
           0
          ],
          [
           0,
           0.10372755985092444,
           0.8217737458068004,
           0.06338669302327542,
           0.011111098765445816,
           0,
           0,
           0,
           0,
           0,
           0,
           0,
           0,
           0,
           0,
           0
          ],
          [
           0,
           0.02019228615017201,
           0.5279052669742459,
           0.38717897836595666,
           0.05361105314049534,
           0.011111098765445816,
           0,
           0,
           0,
           0,
           0,
           0,
           0,
           0,
           0,
           0
          ],
          [
           0,
           0,
           0.06766630199355836,
           0.3781624664772005,
           0.28968920319795094,
           0.15294621525011126,
           0.03706706363118798,
           0.0396825069287257,
           0.03478532207454673,
           0,
           0,
           0,
           0,
           0,
           0,
           0
          ],
          [
           0,
           0,
           0.018749980468771972,
           0.20609574768471878,
           0.2471946494407618,
           0.19907788570891694,
           0.19949533996035043,
           0.1193855401433783,
           0,
           0.009999990000010001,
           0,
           0,
           0,
           0,
           0,
           0
          ],
          [
           0,
           0,
           0.01769229177516248,
           0.0490151024168318,
           0.1986644576911249,
           0.2560203726730987,
           0.23997395812621924,
           0.15186796100257494,
           0.03307689532546744,
           0.04459702612326728,
           0.009090900826453795,
           0,
           0,
           0,
           0,
           0
          ],
          [
           0,
           0,
           0,
           0.06635677154997857,
           0.0982157078390667,
           0.15681413322467122,
           0.2683890712666181,
           0.19855041898120077,
           0.1122376419191479,
           0.07635828589380793,
           0.02307690532545744,
           0,
           0,
           0,
           0,
           0
          ],
          [
           0,
           0,
           0,
           0.016025628164047158,
           0.03500672267233783,
           0.0874425806062928,
           0.19724198973267484,
           0.2822679523001423,
           0.15992661295721142,
           0.17375441622026183,
           0.03999996777780389,
           0.008333326388894677,
           0,
           0,
           0,
           0
          ],
          [
           0,
           0,
           0,
           0,
           0.03031132204162733,
           0.04895100875351751,
           0.12430059572502036,
           0.28270245055651494,
           0.17629645720447903,
           0.27766161882996626,
           0.05977559561198851,
           0,
           0,
           0,
           0,
           0
          ],
          [
           0,
           0,
           0,
           0,
           0,
           0,
           0,
           0,
           0,
           0,
           0,
           0,
           0,
           0,
           0,
           0
          ],
          [
           0,
           0,
           0,
           0,
           0,
           0,
           0,
           0,
           0,
           0,
           0,
           0,
           0,
           0,
           0,
           0
          ],
          [
           0,
           0,
           0,
           0,
           0,
           0,
           0,
           0,
           0,
           0,
           0,
           0,
           0,
           0,
           0,
           0
          ],
          [
           0,
           0,
           0,
           0,
           0,
           0,
           0,
           0,
           0,
           0,
           0,
           0,
           0,
           0,
           0,
           0
          ],
          [
           0,
           0,
           0,
           0,
           0,
           0,
           0,
           0,
           0,
           0,
           0,
           0,
           0,
           0,
           0,
           0
          ],
          [
           0,
           0,
           0,
           0,
           0,
           0,
           0,
           0,
           0,
           0,
           0,
           0,
           0,
           0,
           0,
           0
          ]
         ]
        }
       ],
       "layout": {
        "font": {
         "color": "#FFF"
        },
        "height": 500,
        "paper_bgcolor": "#000",
        "plot_bgcolor": "#000",
        "title": "Choice after 32000 Iterations",
        "titlefont": {
         "color": "#FFF"
        },
        "width": 500,
        "xaxis": {
         "dtick": 1,
         "range": [
          0.5,
          15.5
         ],
         "tickcolor": "#FFF",
         "title": "Predicted Class"
        },
        "yaxis": {
         "dtick": 1,
         "range": [
          9.5,
          0.5
         ],
         "tickcolor": "#FFF",
         "title": "True Class"
        }
       }
      },
      "text/html": [
       "<div id=\"54c0cf6b-e550-4d8d-b3a5-fe0045660d38\" style=\"height: 500px; width: 500px;\" class=\"plotly-graph-div\"></div><script type=\"text/javascript\">require([\"plotly\"], function(Plotly) { window.PLOTLYENV=window.PLOTLYENV || {};window.PLOTLYENV.BASE_URL=\"https://plot.ly\";Plotly.newPlot(\"54c0cf6b-e550-4d8d-b3a5-fe0045660d38\", [{\"colorscale\": \"Jet\", \"type\": \"heatmap\", \"z\": [[0.0, 0.0, 0.0, 0.0, 0.0, 0.0, 0.0, 0.0, 0.0, 0.0, 0.0, 0.0, 0.0, 0.0, 0.0, 0.0], [0.0, 0.9923066865653973, 0.007692301775152481, 0.0, 0.0, 0.0, 0.0, 0.0, 0.0, 0.0, 0.0, 0.0, 0.0, 0.0, 0.0, 0.0], [0.0, 0.10372755985092444, 0.8217737458068004, 0.06338669302327542, 0.011111098765445816, 0.0, 0.0, 0.0, 0.0, 0.0, 0.0, 0.0, 0.0, 0.0, 0.0, 0.0], [0.0, 0.02019228615017201, 0.5279052669742459, 0.38717897836595666, 0.05361105314049534, 0.011111098765445816, 0.0, 0.0, 0.0, 0.0, 0.0, 0.0, 0.0, 0.0, 0.0, 0.0], [0.0, 0.0, 0.06766630199355836, 0.3781624664772005, 0.28968920319795094, 0.15294621525011126, 0.03706706363118798, 0.0396825069287257, 0.03478532207454673, 0.0, 0.0, 0.0, 0.0, 0.0, 0.0, 0.0], [0.0, 0.0, 0.018749980468771972, 0.20609574768471878, 0.2471946494407618, 0.19907788570891694, 0.19949533996035043, 0.1193855401433783, 0.0, 0.009999990000010001, 0.0, 0.0, 0.0, 0.0, 0.0, 0.0], [0.0, 0.0, 0.01769229177516248, 0.0490151024168318, 0.1986644576911249, 0.2560203726730987, 0.23997395812621924, 0.15186796100257494, 0.03307689532546744, 0.04459702612326728, 0.009090900826453795, 0.0, 0.0, 0.0, 0.0, 0.0], [0.0, 0.0, 0.0, 0.06635677154997857, 0.0982157078390667, 0.15681413322467122, 0.2683890712666181, 0.19855041898120077, 0.1122376419191479, 0.07635828589380793, 0.02307690532545744, 0.0, 0.0, 0.0, 0.0, 0.0], [0.0, 0.0, 0.0, 0.016025628164047158, 0.03500672267233783, 0.0874425806062928, 0.19724198973267484, 0.2822679523001423, 0.15992661295721142, 0.17375441622026183, 0.03999996777780389, 0.008333326388894677, 0.0, 0.0, 0.0, 0.0], [0.0, 0.0, 0.0, 0.0, 0.03031132204162733, 0.04895100875351751, 0.12430059572502036, 0.28270245055651494, 0.17629645720447903, 0.27766161882996626, 0.05977559561198851, 0.0, 0.0, 0.0, 0.0, 0.0], [0.0, 0.0, 0.0, 0.0, 0.0, 0.0, 0.0, 0.0, 0.0, 0.0, 0.0, 0.0, 0.0, 0.0, 0.0, 0.0], [0.0, 0.0, 0.0, 0.0, 0.0, 0.0, 0.0, 0.0, 0.0, 0.0, 0.0, 0.0, 0.0, 0.0, 0.0, 0.0], [0.0, 0.0, 0.0, 0.0, 0.0, 0.0, 0.0, 0.0, 0.0, 0.0, 0.0, 0.0, 0.0, 0.0, 0.0, 0.0], [0.0, 0.0, 0.0, 0.0, 0.0, 0.0, 0.0, 0.0, 0.0, 0.0, 0.0, 0.0, 0.0, 0.0, 0.0, 0.0], [0.0, 0.0, 0.0, 0.0, 0.0, 0.0, 0.0, 0.0, 0.0, 0.0, 0.0, 0.0, 0.0, 0.0, 0.0, 0.0], [0.0, 0.0, 0.0, 0.0, 0.0, 0.0, 0.0, 0.0, 0.0, 0.0, 0.0, 0.0, 0.0, 0.0, 0.0, 0.0]]}], {\"paper_bgcolor\": \"#000\", \"titlefont\": {\"color\": \"#FFF\"}, \"yaxis\": {\"dtick\": 1, \"title\": \"True Class\", \"tickcolor\": \"#FFF\", \"range\": [9.5, 0.5]}, \"xaxis\": {\"dtick\": 1, \"title\": \"Predicted Class\", \"tickcolor\": \"#FFF\", \"range\": [0.5, 15.5]}, \"font\": {\"color\": \"#FFF\"}, \"plot_bgcolor\": \"#000\", \"height\": 500, \"title\": \"Choice after 32000 Iterations\", \"width\": 500}, {\"linkText\": \"Export to plot.ly\", \"showLink\": true})});</script>"
      ],
      "text/vnd.plotly.v1+html": [
       "<div id=\"54c0cf6b-e550-4d8d-b3a5-fe0045660d38\" style=\"height: 500px; width: 500px;\" class=\"plotly-graph-div\"></div><script type=\"text/javascript\">require([\"plotly\"], function(Plotly) { window.PLOTLYENV=window.PLOTLYENV || {};window.PLOTLYENV.BASE_URL=\"https://plot.ly\";Plotly.newPlot(\"54c0cf6b-e550-4d8d-b3a5-fe0045660d38\", [{\"colorscale\": \"Jet\", \"type\": \"heatmap\", \"z\": [[0.0, 0.0, 0.0, 0.0, 0.0, 0.0, 0.0, 0.0, 0.0, 0.0, 0.0, 0.0, 0.0, 0.0, 0.0, 0.0], [0.0, 0.9923066865653973, 0.007692301775152481, 0.0, 0.0, 0.0, 0.0, 0.0, 0.0, 0.0, 0.0, 0.0, 0.0, 0.0, 0.0, 0.0], [0.0, 0.10372755985092444, 0.8217737458068004, 0.06338669302327542, 0.011111098765445816, 0.0, 0.0, 0.0, 0.0, 0.0, 0.0, 0.0, 0.0, 0.0, 0.0, 0.0], [0.0, 0.02019228615017201, 0.5279052669742459, 0.38717897836595666, 0.05361105314049534, 0.011111098765445816, 0.0, 0.0, 0.0, 0.0, 0.0, 0.0, 0.0, 0.0, 0.0, 0.0], [0.0, 0.0, 0.06766630199355836, 0.3781624664772005, 0.28968920319795094, 0.15294621525011126, 0.03706706363118798, 0.0396825069287257, 0.03478532207454673, 0.0, 0.0, 0.0, 0.0, 0.0, 0.0, 0.0], [0.0, 0.0, 0.018749980468771972, 0.20609574768471878, 0.2471946494407618, 0.19907788570891694, 0.19949533996035043, 0.1193855401433783, 0.0, 0.009999990000010001, 0.0, 0.0, 0.0, 0.0, 0.0, 0.0], [0.0, 0.0, 0.01769229177516248, 0.0490151024168318, 0.1986644576911249, 0.2560203726730987, 0.23997395812621924, 0.15186796100257494, 0.03307689532546744, 0.04459702612326728, 0.009090900826453795, 0.0, 0.0, 0.0, 0.0, 0.0], [0.0, 0.0, 0.0, 0.06635677154997857, 0.0982157078390667, 0.15681413322467122, 0.2683890712666181, 0.19855041898120077, 0.1122376419191479, 0.07635828589380793, 0.02307690532545744, 0.0, 0.0, 0.0, 0.0, 0.0], [0.0, 0.0, 0.0, 0.016025628164047158, 0.03500672267233783, 0.0874425806062928, 0.19724198973267484, 0.2822679523001423, 0.15992661295721142, 0.17375441622026183, 0.03999996777780389, 0.008333326388894677, 0.0, 0.0, 0.0, 0.0], [0.0, 0.0, 0.0, 0.0, 0.03031132204162733, 0.04895100875351751, 0.12430059572502036, 0.28270245055651494, 0.17629645720447903, 0.27766161882996626, 0.05977559561198851, 0.0, 0.0, 0.0, 0.0, 0.0], [0.0, 0.0, 0.0, 0.0, 0.0, 0.0, 0.0, 0.0, 0.0, 0.0, 0.0, 0.0, 0.0, 0.0, 0.0, 0.0], [0.0, 0.0, 0.0, 0.0, 0.0, 0.0, 0.0, 0.0, 0.0, 0.0, 0.0, 0.0, 0.0, 0.0, 0.0, 0.0], [0.0, 0.0, 0.0, 0.0, 0.0, 0.0, 0.0, 0.0, 0.0, 0.0, 0.0, 0.0, 0.0, 0.0, 0.0, 0.0], [0.0, 0.0, 0.0, 0.0, 0.0, 0.0, 0.0, 0.0, 0.0, 0.0, 0.0, 0.0, 0.0, 0.0, 0.0, 0.0], [0.0, 0.0, 0.0, 0.0, 0.0, 0.0, 0.0, 0.0, 0.0, 0.0, 0.0, 0.0, 0.0, 0.0, 0.0, 0.0], [0.0, 0.0, 0.0, 0.0, 0.0, 0.0, 0.0, 0.0, 0.0, 0.0, 0.0, 0.0, 0.0, 0.0, 0.0, 0.0]]}], {\"paper_bgcolor\": \"#000\", \"titlefont\": {\"color\": \"#FFF\"}, \"yaxis\": {\"dtick\": 1, \"title\": \"True Class\", \"tickcolor\": \"#FFF\", \"range\": [9.5, 0.5]}, \"xaxis\": {\"dtick\": 1, \"title\": \"Predicted Class\", \"tickcolor\": \"#FFF\", \"range\": [0.5, 15.5]}, \"font\": {\"color\": \"#FFF\"}, \"plot_bgcolor\": \"#000\", \"height\": 500, \"title\": \"Choice after 32000 Iterations\", \"width\": 500}, {\"linkText\": \"Export to plot.ly\", \"showLink\": true})});</script>"
      ]
     },
     "metadata": {},
     "output_type": "display_data"
    },
    {
     "data": {
      "application/vnd.plotly.v1+json": {
       "data": [
        {
         "colorscale": "Jet",
         "type": "heatmap",
         "z": [
          [
           0,
           0,
           0,
           0,
           0,
           0,
           0,
           0,
           0,
           0,
           0,
           0,
           0,
           0,
           0,
           0
          ],
          [
           0,
           0.9749989997725571,
           0.012499984375019531,
           0.012499984375019531,
           0,
           0,
           0,
           0,
           0,
           0,
           0,
           0,
           0,
           0,
           0,
           0
          ],
          [
           0,
           0.11625861614515462,
           0.7894514947759308,
           0.0851980616799616,
           0.009090900826453795,
           0,
           0,
           0,
           0,
           0,
           0,
           0,
           0,
           0,
           0,
           0
          ],
          [
           0,
           0.009999995000002499,
           0.3517507207526041,
           0.4583638421313669,
           0.15824476618886713,
           0.021639912529649873,
           0,
           0,
           0,
           0,
           0,
           0,
           0,
           0,
           0,
           0
          ],
          [
           0,
           0.016666638888935187,
           0.1336323092454696,
           0.4030991338409969,
           0.2773149493403522,
           0.09626684886480016,
           0.05524127394135551,
           0.011111098765445816,
           0.006666662222225185,
           0,
           0,
           0,
           0,
           0,
           0,
           0
          ],
          [
           0,
           0.009999990000010001,
           0.006249996093752441,
           0.1186659471780968,
           0.32029120594663046,
           0.23099637559331093,
           0.21978612578364093,
           0.06404144724637721,
           0.013942297868904923,
           0.007692301775152481,
           0.008333326388894677,
           0,
           0,
           0,
           0,
           0
          ],
          [
           0,
           0,
           0,
           0.048149727685859664,
           0.25045625900190444,
           0.1823133516251354,
           0.24462391081197016,
           0.1489800475163126,
           0.07814678507410547,
           0.04732901307966499,
           0,
           0,
           0,
           0,
           0,
           0
          ],
          [
           0,
           0,
           0,
           0,
           0.08752332781591193,
           0.13743340885751162,
           0.21601798274340195,
           0.23595491868563925,
           0.215887949415493,
           0.08468126912990205,
           0.022499974375029534,
           0,
           0,
           0,
           0,
           0
          ],
          [
           0,
           0,
           0,
           0.006666662222225185,
           0.006666662222225185,
           0.09036786645338075,
           0.2019911131384783,
           0.3035709891334285,
           0.19132005720212447,
           0.17608202943546675,
           0.006666662222225185,
           0.016666652777789354,
           0,
           0,
           0,
           0
          ],
          [
           0,
           0,
           0,
           0,
           0,
           0.05622760775596678,
           0.15077872804266562,
           0.1783952829821648,
           0.19778730556204313,
           0.31681010219937933,
           0.08888879938280779,
           0.011111098765445816,
           0,
           0,
           0,
           0
          ],
          [
           0,
           0,
           0,
           0,
           0,
           0,
           0,
           0,
           0,
           0,
           0,
           0,
           0,
           0,
           0,
           0
          ],
          [
           0,
           0,
           0,
           0,
           0,
           0,
           0,
           0,
           0,
           0,
           0,
           0,
           0,
           0,
           0,
           0
          ],
          [
           0,
           0,
           0,
           0,
           0,
           0,
           0,
           0,
           0,
           0,
           0,
           0,
           0,
           0,
           0,
           0
          ],
          [
           0,
           0,
           0,
           0,
           0,
           0,
           0,
           0,
           0,
           0,
           0,
           0,
           0,
           0,
           0,
           0
          ],
          [
           0,
           0,
           0,
           0,
           0,
           0,
           0,
           0,
           0,
           0,
           0,
           0,
           0,
           0,
           0,
           0
          ],
          [
           0,
           0,
           0,
           0,
           0,
           0,
           0,
           0,
           0,
           0,
           0,
           0,
           0,
           0,
           0,
           0
          ]
         ]
        }
       ],
       "layout": {
        "font": {
         "color": "#FFF"
        },
        "height": 500,
        "paper_bgcolor": "#000",
        "plot_bgcolor": "#000",
        "title": "Choice after 64000 Iterations",
        "titlefont": {
         "color": "#FFF"
        },
        "width": 500,
        "xaxis": {
         "dtick": 1,
         "range": [
          0.5,
          15.5
         ],
         "tickcolor": "#FFF",
         "title": "Predicted Class"
        },
        "yaxis": {
         "dtick": 1,
         "range": [
          9.5,
          0.5
         ],
         "tickcolor": "#FFF",
         "title": "True Class"
        }
       }
      },
      "text/html": [
       "<div id=\"eb435d75-2ffb-4327-adbf-af81e41610be\" style=\"height: 500px; width: 500px;\" class=\"plotly-graph-div\"></div><script type=\"text/javascript\">require([\"plotly\"], function(Plotly) { window.PLOTLYENV=window.PLOTLYENV || {};window.PLOTLYENV.BASE_URL=\"https://plot.ly\";Plotly.newPlot(\"eb435d75-2ffb-4327-adbf-af81e41610be\", [{\"colorscale\": \"Jet\", \"type\": \"heatmap\", \"z\": [[0.0, 0.0, 0.0, 0.0, 0.0, 0.0, 0.0, 0.0, 0.0, 0.0, 0.0, 0.0, 0.0, 0.0, 0.0, 0.0], [0.0, 0.9749989997725571, 0.012499984375019531, 0.012499984375019531, 0.0, 0.0, 0.0, 0.0, 0.0, 0.0, 0.0, 0.0, 0.0, 0.0, 0.0, 0.0], [0.0, 0.11625861614515462, 0.7894514947759308, 0.0851980616799616, 0.009090900826453795, 0.0, 0.0, 0.0, 0.0, 0.0, 0.0, 0.0, 0.0, 0.0, 0.0, 0.0], [0.0, 0.009999995000002499, 0.3517507207526041, 0.4583638421313669, 0.15824476618886713, 0.021639912529649873, 0.0, 0.0, 0.0, 0.0, 0.0, 0.0, 0.0, 0.0, 0.0, 0.0], [0.0, 0.016666638888935187, 0.1336323092454696, 0.4030991338409969, 0.2773149493403522, 0.09626684886480016, 0.05524127394135551, 0.011111098765445816, 0.006666662222225185, 0.0, 0.0, 0.0, 0.0, 0.0, 0.0, 0.0], [0.0, 0.009999990000010001, 0.006249996093752441, 0.1186659471780968, 0.32029120594663046, 0.23099637559331093, 0.21978612578364093, 0.06404144724637721, 0.013942297868904923, 0.007692301775152481, 0.008333326388894677, 0.0, 0.0, 0.0, 0.0, 0.0], [0.0, 0.0, 0.0, 0.048149727685859664, 0.25045625900190444, 0.1823133516251354, 0.24462391081197016, 0.1489800475163126, 0.07814678507410547, 0.04732901307966499, 0.0, 0.0, 0.0, 0.0, 0.0, 0.0], [0.0, 0.0, 0.0, 0.0, 0.08752332781591193, 0.13743340885751162, 0.21601798274340195, 0.23595491868563925, 0.215887949415493, 0.08468126912990205, 0.022499974375029534, 0.0, 0.0, 0.0, 0.0, 0.0], [0.0, 0.0, 0.0, 0.006666662222225185, 0.006666662222225185, 0.09036786645338075, 0.2019911131384783, 0.3035709891334285, 0.19132005720212447, 0.17608202943546675, 0.006666662222225185, 0.016666652777789354, 0.0, 0.0, 0.0, 0.0], [0.0, 0.0, 0.0, 0.0, 0.0, 0.05622760775596678, 0.15077872804266562, 0.1783952829821648, 0.19778730556204313, 0.31681010219937933, 0.08888879938280779, 0.011111098765445816, 0.0, 0.0, 0.0, 0.0], [0.0, 0.0, 0.0, 0.0, 0.0, 0.0, 0.0, 0.0, 0.0, 0.0, 0.0, 0.0, 0.0, 0.0, 0.0, 0.0], [0.0, 0.0, 0.0, 0.0, 0.0, 0.0, 0.0, 0.0, 0.0, 0.0, 0.0, 0.0, 0.0, 0.0, 0.0, 0.0], [0.0, 0.0, 0.0, 0.0, 0.0, 0.0, 0.0, 0.0, 0.0, 0.0, 0.0, 0.0, 0.0, 0.0, 0.0, 0.0], [0.0, 0.0, 0.0, 0.0, 0.0, 0.0, 0.0, 0.0, 0.0, 0.0, 0.0, 0.0, 0.0, 0.0, 0.0, 0.0], [0.0, 0.0, 0.0, 0.0, 0.0, 0.0, 0.0, 0.0, 0.0, 0.0, 0.0, 0.0, 0.0, 0.0, 0.0, 0.0], [0.0, 0.0, 0.0, 0.0, 0.0, 0.0, 0.0, 0.0, 0.0, 0.0, 0.0, 0.0, 0.0, 0.0, 0.0, 0.0]]}], {\"paper_bgcolor\": \"#000\", \"titlefont\": {\"color\": \"#FFF\"}, \"yaxis\": {\"dtick\": 1, \"title\": \"True Class\", \"tickcolor\": \"#FFF\", \"range\": [9.5, 0.5]}, \"xaxis\": {\"dtick\": 1, \"title\": \"Predicted Class\", \"tickcolor\": \"#FFF\", \"range\": [0.5, 15.5]}, \"font\": {\"color\": \"#FFF\"}, \"plot_bgcolor\": \"#000\", \"height\": 500, \"title\": \"Choice after 64000 Iterations\", \"width\": 500}, {\"linkText\": \"Export to plot.ly\", \"showLink\": true})});</script>"
      ],
      "text/vnd.plotly.v1+html": [
       "<div id=\"eb435d75-2ffb-4327-adbf-af81e41610be\" style=\"height: 500px; width: 500px;\" class=\"plotly-graph-div\"></div><script type=\"text/javascript\">require([\"plotly\"], function(Plotly) { window.PLOTLYENV=window.PLOTLYENV || {};window.PLOTLYENV.BASE_URL=\"https://plot.ly\";Plotly.newPlot(\"eb435d75-2ffb-4327-adbf-af81e41610be\", [{\"colorscale\": \"Jet\", \"type\": \"heatmap\", \"z\": [[0.0, 0.0, 0.0, 0.0, 0.0, 0.0, 0.0, 0.0, 0.0, 0.0, 0.0, 0.0, 0.0, 0.0, 0.0, 0.0], [0.0, 0.9749989997725571, 0.012499984375019531, 0.012499984375019531, 0.0, 0.0, 0.0, 0.0, 0.0, 0.0, 0.0, 0.0, 0.0, 0.0, 0.0, 0.0], [0.0, 0.11625861614515462, 0.7894514947759308, 0.0851980616799616, 0.009090900826453795, 0.0, 0.0, 0.0, 0.0, 0.0, 0.0, 0.0, 0.0, 0.0, 0.0, 0.0], [0.0, 0.009999995000002499, 0.3517507207526041, 0.4583638421313669, 0.15824476618886713, 0.021639912529649873, 0.0, 0.0, 0.0, 0.0, 0.0, 0.0, 0.0, 0.0, 0.0, 0.0], [0.0, 0.016666638888935187, 0.1336323092454696, 0.4030991338409969, 0.2773149493403522, 0.09626684886480016, 0.05524127394135551, 0.011111098765445816, 0.006666662222225185, 0.0, 0.0, 0.0, 0.0, 0.0, 0.0, 0.0], [0.0, 0.009999990000010001, 0.006249996093752441, 0.1186659471780968, 0.32029120594663046, 0.23099637559331093, 0.21978612578364093, 0.06404144724637721, 0.013942297868904923, 0.007692301775152481, 0.008333326388894677, 0.0, 0.0, 0.0, 0.0, 0.0], [0.0, 0.0, 0.0, 0.048149727685859664, 0.25045625900190444, 0.1823133516251354, 0.24462391081197016, 0.1489800475163126, 0.07814678507410547, 0.04732901307966499, 0.0, 0.0, 0.0, 0.0, 0.0, 0.0], [0.0, 0.0, 0.0, 0.0, 0.08752332781591193, 0.13743340885751162, 0.21601798274340195, 0.23595491868563925, 0.215887949415493, 0.08468126912990205, 0.022499974375029534, 0.0, 0.0, 0.0, 0.0, 0.0], [0.0, 0.0, 0.0, 0.006666662222225185, 0.006666662222225185, 0.09036786645338075, 0.2019911131384783, 0.3035709891334285, 0.19132005720212447, 0.17608202943546675, 0.006666662222225185, 0.016666652777789354, 0.0, 0.0, 0.0, 0.0], [0.0, 0.0, 0.0, 0.0, 0.0, 0.05622760775596678, 0.15077872804266562, 0.1783952829821648, 0.19778730556204313, 0.31681010219937933, 0.08888879938280779, 0.011111098765445816, 0.0, 0.0, 0.0, 0.0], [0.0, 0.0, 0.0, 0.0, 0.0, 0.0, 0.0, 0.0, 0.0, 0.0, 0.0, 0.0, 0.0, 0.0, 0.0, 0.0], [0.0, 0.0, 0.0, 0.0, 0.0, 0.0, 0.0, 0.0, 0.0, 0.0, 0.0, 0.0, 0.0, 0.0, 0.0, 0.0], [0.0, 0.0, 0.0, 0.0, 0.0, 0.0, 0.0, 0.0, 0.0, 0.0, 0.0, 0.0, 0.0, 0.0, 0.0, 0.0], [0.0, 0.0, 0.0, 0.0, 0.0, 0.0, 0.0, 0.0, 0.0, 0.0, 0.0, 0.0, 0.0, 0.0, 0.0, 0.0], [0.0, 0.0, 0.0, 0.0, 0.0, 0.0, 0.0, 0.0, 0.0, 0.0, 0.0, 0.0, 0.0, 0.0, 0.0, 0.0], [0.0, 0.0, 0.0, 0.0, 0.0, 0.0, 0.0, 0.0, 0.0, 0.0, 0.0, 0.0, 0.0, 0.0, 0.0, 0.0]]}], {\"paper_bgcolor\": \"#000\", \"titlefont\": {\"color\": \"#FFF\"}, \"yaxis\": {\"dtick\": 1, \"title\": \"True Class\", \"tickcolor\": \"#FFF\", \"range\": [9.5, 0.5]}, \"xaxis\": {\"dtick\": 1, \"title\": \"Predicted Class\", \"tickcolor\": \"#FFF\", \"range\": [0.5, 15.5]}, \"font\": {\"color\": \"#FFF\"}, \"plot_bgcolor\": \"#000\", \"height\": 500, \"title\": \"Choice after 64000 Iterations\", \"width\": 500}, {\"linkText\": \"Export to plot.ly\", \"showLink\": true})});</script>"
      ]
     },
     "metadata": {},
     "output_type": "display_data"
    },
    {
     "data": {
      "application/vnd.plotly.v1+json": {
       "data": [
        {
         "colorscale": "Jet",
         "type": "heatmap",
         "z": [
          [
           0,
           0,
           0,
           0,
           0,
           0,
           0,
           0,
           0,
           0,
           0,
           0,
           0,
           0,
           0,
           0
          ],
          [
           0,
           0.9923066160361442,
           0.007692301775152481,
           0,
           0,
           0,
           0,
           0,
           0,
           0,
           0,
           0,
           0,
           0,
           0,
           0
          ],
          [
           0,
           0.02676006311658416,
           0.9220697018129733,
           0.04207824671822365,
           0.009090900826453795,
           0,
           0,
           0,
           0,
           0,
           0,
           0,
           0,
           0,
           0,
           0
          ],
          [
           0,
           0,
           0.2969441712078318,
           0.533471749099607,
           0.15208319642952797,
           0.012499984375019531,
           0,
           0.0049999975000012496,
           0,
           0,
           0,
           0,
           0,
           0,
           0,
           0
          ],
          [
           0,
           0,
           0.10668522254611694,
           0.355708600532077,
           0.2867376614721094,
           0.1970883481421919,
           0.0255251858968104,
           0.021111088765455817,
           0.0071428520408199705,
           0,
           0,
           0,
           0,
           0,
           0,
           0
          ],
          [
           0,
           0,
           0.014285693877580174,
           0.13825378468407606,
           0.2342854048983917,
           0.2363489572766711,
           0.2271425430616915,
           0.1099999042857998,
           0.028571387755160348,
           0,
           0,
           0.011111098765445816,
           0,
           0,
           0,
           0
          ],
          [
           0,
           0,
           0,
           0.06287364919323088,
           0.09460776801398046,
           0.33075396482093655,
           0.21717095697650457,
           0.19427173931487604,
           0.061590833014054235,
           0.025396798815855208,
           0.006666662222225185,
           0.006666662222225185,
           0,
           0,
           0,
           0
          ],
          [
           0,
           0,
           0,
           0,
           0.04601186860511704,
           0.17915388065960997,
           0.23192802548453412,
           0.32473090986610115,
           0.10303562143704408,
           0.08291657463553725,
           0.011111098765445816,
           0.021111088765455817,
           0,
           0,
           0,
           0
          ],
          [
           0,
           0,
           0,
           0,
           0.033928530293419676,
           0.09158332942213165,
           0.13777872382223227,
           0.31478491726024516,
           0.22226918850725025,
           0.14889680373232292,
           0.05075753277092717,
           0,
           0,
           0,
           0,
           0
          ],
          [
           0,
           0,
           0,
           0,
           0,
           0.05768499268764913,
           0.09593720702170541,
           0.21166511920832537,
           0.29244519008945613,
           0.21550377108799323,
           0.11426285985370241,
           0.012499992187504883,
           0,
           0,
           0,
           0
          ],
          [
           0,
           0,
           0,
           0,
           0,
           0,
           0,
           0,
           0,
           0,
           0,
           0,
           0,
           0,
           0,
           0
          ],
          [
           0,
           0,
           0,
           0,
           0,
           0,
           0,
           0,
           0,
           0,
           0,
           0,
           0,
           0,
           0,
           0
          ],
          [
           0,
           0,
           0,
           0,
           0,
           0,
           0,
           0,
           0,
           0,
           0,
           0,
           0,
           0,
           0,
           0
          ],
          [
           0,
           0,
           0,
           0,
           0,
           0,
           0,
           0,
           0,
           0,
           0,
           0,
           0,
           0,
           0,
           0
          ],
          [
           0,
           0,
           0,
           0,
           0,
           0,
           0,
           0,
           0,
           0,
           0,
           0,
           0,
           0,
           0,
           0
          ],
          [
           0,
           0,
           0,
           0,
           0,
           0,
           0,
           0,
           0,
           0,
           0,
           0,
           0,
           0,
           0,
           0
          ]
         ]
        }
       ],
       "layout": {
        "font": {
         "color": "#FFF"
        },
        "height": 500,
        "paper_bgcolor": "#000",
        "plot_bgcolor": "#000",
        "title": "Choice after 125000 Iterations",
        "titlefont": {
         "color": "#FFF"
        },
        "width": 500,
        "xaxis": {
         "dtick": 1,
         "range": [
          0.5,
          15.5
         ],
         "tickcolor": "#FFF",
         "title": "Predicted Class"
        },
        "yaxis": {
         "dtick": 1,
         "range": [
          9.5,
          0.5
         ],
         "tickcolor": "#FFF",
         "title": "True Class"
        }
       }
      },
      "text/html": [
       "<div id=\"18d2f8d3-d200-49e8-aebe-a56c3e9b0ac7\" style=\"height: 500px; width: 500px;\" class=\"plotly-graph-div\"></div><script type=\"text/javascript\">require([\"plotly\"], function(Plotly) { window.PLOTLYENV=window.PLOTLYENV || {};window.PLOTLYENV.BASE_URL=\"https://plot.ly\";Plotly.newPlot(\"18d2f8d3-d200-49e8-aebe-a56c3e9b0ac7\", [{\"colorscale\": \"Jet\", \"type\": \"heatmap\", \"z\": [[0.0, 0.0, 0.0, 0.0, 0.0, 0.0, 0.0, 0.0, 0.0, 0.0, 0.0, 0.0, 0.0, 0.0, 0.0, 0.0], [0.0, 0.9923066160361442, 0.007692301775152481, 0.0, 0.0, 0.0, 0.0, 0.0, 0.0, 0.0, 0.0, 0.0, 0.0, 0.0, 0.0, 0.0], [0.0, 0.02676006311658416, 0.9220697018129733, 0.04207824671822365, 0.009090900826453795, 0.0, 0.0, 0.0, 0.0, 0.0, 0.0, 0.0, 0.0, 0.0, 0.0, 0.0], [0.0, 0.0, 0.2969441712078318, 0.533471749099607, 0.15208319642952797, 0.012499984375019531, 0.0, 0.0049999975000012496, 0.0, 0.0, 0.0, 0.0, 0.0, 0.0, 0.0, 0.0], [0.0, 0.0, 0.10668522254611694, 0.355708600532077, 0.2867376614721094, 0.1970883481421919, 0.0255251858968104, 0.021111088765455817, 0.0071428520408199705, 0.0, 0.0, 0.0, 0.0, 0.0, 0.0, 0.0], [0.0, 0.0, 0.014285693877580174, 0.13825378468407606, 0.2342854048983917, 0.2363489572766711, 0.2271425430616915, 0.1099999042857998, 0.028571387755160348, 0.0, 0.0, 0.011111098765445816, 0.0, 0.0, 0.0, 0.0], [0.0, 0.0, 0.0, 0.06287364919323088, 0.09460776801398046, 0.33075396482093655, 0.21717095697650457, 0.19427173931487604, 0.061590833014054235, 0.025396798815855208, 0.006666662222225185, 0.006666662222225185, 0.0, 0.0, 0.0, 0.0], [0.0, 0.0, 0.0, 0.0, 0.04601186860511704, 0.17915388065960997, 0.23192802548453412, 0.32473090986610115, 0.10303562143704408, 0.08291657463553725, 0.011111098765445816, 0.021111088765455817, 0.0, 0.0, 0.0, 0.0], [0.0, 0.0, 0.0, 0.0, 0.033928530293419676, 0.09158332942213165, 0.13777872382223227, 0.31478491726024516, 0.22226918850725025, 0.14889680373232292, 0.05075753277092717, 0.0, 0.0, 0.0, 0.0, 0.0], [0.0, 0.0, 0.0, 0.0, 0.0, 0.05768499268764913, 0.09593720702170541, 0.21166511920832537, 0.29244519008945613, 0.21550377108799323, 0.11426285985370241, 0.012499992187504883, 0.0, 0.0, 0.0, 0.0], [0.0, 0.0, 0.0, 0.0, 0.0, 0.0, 0.0, 0.0, 0.0, 0.0, 0.0, 0.0, 0.0, 0.0, 0.0, 0.0], [0.0, 0.0, 0.0, 0.0, 0.0, 0.0, 0.0, 0.0, 0.0, 0.0, 0.0, 0.0, 0.0, 0.0, 0.0, 0.0], [0.0, 0.0, 0.0, 0.0, 0.0, 0.0, 0.0, 0.0, 0.0, 0.0, 0.0, 0.0, 0.0, 0.0, 0.0, 0.0], [0.0, 0.0, 0.0, 0.0, 0.0, 0.0, 0.0, 0.0, 0.0, 0.0, 0.0, 0.0, 0.0, 0.0, 0.0, 0.0], [0.0, 0.0, 0.0, 0.0, 0.0, 0.0, 0.0, 0.0, 0.0, 0.0, 0.0, 0.0, 0.0, 0.0, 0.0, 0.0], [0.0, 0.0, 0.0, 0.0, 0.0, 0.0, 0.0, 0.0, 0.0, 0.0, 0.0, 0.0, 0.0, 0.0, 0.0, 0.0]]}], {\"paper_bgcolor\": \"#000\", \"titlefont\": {\"color\": \"#FFF\"}, \"yaxis\": {\"dtick\": 1, \"title\": \"True Class\", \"tickcolor\": \"#FFF\", \"range\": [9.5, 0.5]}, \"xaxis\": {\"dtick\": 1, \"title\": \"Predicted Class\", \"tickcolor\": \"#FFF\", \"range\": [0.5, 15.5]}, \"font\": {\"color\": \"#FFF\"}, \"plot_bgcolor\": \"#000\", \"height\": 500, \"title\": \"Choice after 125000 Iterations\", \"width\": 500}, {\"linkText\": \"Export to plot.ly\", \"showLink\": true})});</script>"
      ],
      "text/vnd.plotly.v1+html": [
       "<div id=\"18d2f8d3-d200-49e8-aebe-a56c3e9b0ac7\" style=\"height: 500px; width: 500px;\" class=\"plotly-graph-div\"></div><script type=\"text/javascript\">require([\"plotly\"], function(Plotly) { window.PLOTLYENV=window.PLOTLYENV || {};window.PLOTLYENV.BASE_URL=\"https://plot.ly\";Plotly.newPlot(\"18d2f8d3-d200-49e8-aebe-a56c3e9b0ac7\", [{\"colorscale\": \"Jet\", \"type\": \"heatmap\", \"z\": [[0.0, 0.0, 0.0, 0.0, 0.0, 0.0, 0.0, 0.0, 0.0, 0.0, 0.0, 0.0, 0.0, 0.0, 0.0, 0.0], [0.0, 0.9923066160361442, 0.007692301775152481, 0.0, 0.0, 0.0, 0.0, 0.0, 0.0, 0.0, 0.0, 0.0, 0.0, 0.0, 0.0, 0.0], [0.0, 0.02676006311658416, 0.9220697018129733, 0.04207824671822365, 0.009090900826453795, 0.0, 0.0, 0.0, 0.0, 0.0, 0.0, 0.0, 0.0, 0.0, 0.0, 0.0], [0.0, 0.0, 0.2969441712078318, 0.533471749099607, 0.15208319642952797, 0.012499984375019531, 0.0, 0.0049999975000012496, 0.0, 0.0, 0.0, 0.0, 0.0, 0.0, 0.0, 0.0], [0.0, 0.0, 0.10668522254611694, 0.355708600532077, 0.2867376614721094, 0.1970883481421919, 0.0255251858968104, 0.021111088765455817, 0.0071428520408199705, 0.0, 0.0, 0.0, 0.0, 0.0, 0.0, 0.0], [0.0, 0.0, 0.014285693877580174, 0.13825378468407606, 0.2342854048983917, 0.2363489572766711, 0.2271425430616915, 0.1099999042857998, 0.028571387755160348, 0.0, 0.0, 0.011111098765445816, 0.0, 0.0, 0.0, 0.0], [0.0, 0.0, 0.0, 0.06287364919323088, 0.09460776801398046, 0.33075396482093655, 0.21717095697650457, 0.19427173931487604, 0.061590833014054235, 0.025396798815855208, 0.006666662222225185, 0.006666662222225185, 0.0, 0.0, 0.0, 0.0], [0.0, 0.0, 0.0, 0.0, 0.04601186860511704, 0.17915388065960997, 0.23192802548453412, 0.32473090986610115, 0.10303562143704408, 0.08291657463553725, 0.011111098765445816, 0.021111088765455817, 0.0, 0.0, 0.0, 0.0], [0.0, 0.0, 0.0, 0.0, 0.033928530293419676, 0.09158332942213165, 0.13777872382223227, 0.31478491726024516, 0.22226918850725025, 0.14889680373232292, 0.05075753277092717, 0.0, 0.0, 0.0, 0.0, 0.0], [0.0, 0.0, 0.0, 0.0, 0.0, 0.05768499268764913, 0.09593720702170541, 0.21166511920832537, 0.29244519008945613, 0.21550377108799323, 0.11426285985370241, 0.012499992187504883, 0.0, 0.0, 0.0, 0.0], [0.0, 0.0, 0.0, 0.0, 0.0, 0.0, 0.0, 0.0, 0.0, 0.0, 0.0, 0.0, 0.0, 0.0, 0.0, 0.0], [0.0, 0.0, 0.0, 0.0, 0.0, 0.0, 0.0, 0.0, 0.0, 0.0, 0.0, 0.0, 0.0, 0.0, 0.0, 0.0], [0.0, 0.0, 0.0, 0.0, 0.0, 0.0, 0.0, 0.0, 0.0, 0.0, 0.0, 0.0, 0.0, 0.0, 0.0, 0.0], [0.0, 0.0, 0.0, 0.0, 0.0, 0.0, 0.0, 0.0, 0.0, 0.0, 0.0, 0.0, 0.0, 0.0, 0.0, 0.0], [0.0, 0.0, 0.0, 0.0, 0.0, 0.0, 0.0, 0.0, 0.0, 0.0, 0.0, 0.0, 0.0, 0.0, 0.0, 0.0], [0.0, 0.0, 0.0, 0.0, 0.0, 0.0, 0.0, 0.0, 0.0, 0.0, 0.0, 0.0, 0.0, 0.0, 0.0, 0.0]]}], {\"paper_bgcolor\": \"#000\", \"titlefont\": {\"color\": \"#FFF\"}, \"yaxis\": {\"dtick\": 1, \"title\": \"True Class\", \"tickcolor\": \"#FFF\", \"range\": [9.5, 0.5]}, \"xaxis\": {\"dtick\": 1, \"title\": \"Predicted Class\", \"tickcolor\": \"#FFF\", \"range\": [0.5, 15.5]}, \"font\": {\"color\": \"#FFF\"}, \"plot_bgcolor\": \"#000\", \"height\": 500, \"title\": \"Choice after 125000 Iterations\", \"width\": 500}, {\"linkText\": \"Export to plot.ly\", \"showLink\": true})});</script>"
      ]
     },
     "metadata": {},
     "output_type": "display_data"
    },
    {
     "data": {
      "application/vnd.plotly.v1+json": {
       "data": [
        {
         "colorscale": "Jet",
         "type": "heatmap",
         "z": [
          [
           0,
           0,
           0,
           0,
           0,
           0,
           0,
           0,
           0,
           0,
           0,
           0,
           0,
           0,
           0,
           0
          ],
          [
           0,
           0.9909082790051501,
           0.009090900826453795,
           0,
           0,
           0,
           0,
           0,
           0,
           0,
           0,
           0,
           0,
           0,
           0,
           0
          ],
          [
           0,
           0.08801079952424709,
           0.8983918262770588,
           0.013596481513549873,
           0,
           0,
           0,
           0,
           0,
           0,
           0,
           0,
           0,
           0,
           0,
           0
          ],
          [
           0,
           0,
           0.16648335353594573,
           0.6700940087588454,
           0.1467550479075977,
           0.016666652222235186,
           0,
           0,
           0,
           0,
           0,
           0,
           0,
           0,
           0,
           0
          ],
          [
           0,
           0,
           0.016666651234583336,
           0.3297723470708931,
           0.4730045777154583,
           0.1472220452934647,
           0.026666642222245185,
           0.006666662222225185,
           0,
           0,
           0,
           0,
           0,
           0,
           0,
           0
          ],
          [
           0,
           0,
           0.009090900826453795,
           0.10560885921161889,
           0.41849318841561683,
           0.2927512209998589,
           0.08433364825615354,
           0.051303344915697824,
           0.030725500470511202,
           0,
           0.007692301775152481,
           0,
           0,
           0,
           0,
           0
          ],
          [
           0,
           0,
           0,
           0.02825394080627579,
           0.15707415395705424,
           0.2059124789932177,
           0.24056610964061104,
           0.28786764674321436,
           0.05123371161732283,
           0,
           0.009999990000010001,
           0.019090890826463796,
           0,
           0,
           0,
           0
          ],
          [
           0,
           0,
           0,
           0,
           0.015384603550304961,
           0.16270602765622302,
           0.14443680493063266,
           0.3277230841893011,
           0.20511079789555908,
           0.06031129905128185,
           0.05504323588035798,
           0.016783202601606276,
           0.012499984375019531,
           0,
           0,
           0
          ],
          [
           0,
           0,
           0,
           0,
           0.034973210307504686,
           0.0979153967862831,
           0.17207893656943457,
           0.3223373264527136,
           0.14136997681303082,
           0.12954503009870333,
           0.07359725426820092,
           0.028181791652917586,
           0,
           0,
           0,
           0
          ],
          [
           0,
           0,
           0,
           0,
           0.024567079256168446,
           0.0393589431640617,
           0.07290036300622205,
           0.28121518419638347,
           0.2125789186698288,
           0.21717014747761185,
           0.10893927754183108,
           0.030769207100609923,
           0.012499984375019531,
           0,
           0,
           0
          ],
          [
           0,
           0,
           0,
           0,
           0,
           0,
           0,
           0,
           0,
           0,
           0,
           0,
           0,
           0,
           0,
           0
          ],
          [
           0,
           0,
           0,
           0,
           0,
           0,
           0,
           0,
           0,
           0,
           0,
           0,
           0,
           0,
           0,
           0
          ],
          [
           0,
           0,
           0,
           0,
           0,
           0,
           0,
           0,
           0,
           0,
           0,
           0,
           0,
           0,
           0,
           0
          ],
          [
           0,
           0,
           0,
           0,
           0,
           0,
           0,
           0,
           0,
           0,
           0,
           0,
           0,
           0,
           0,
           0
          ],
          [
           0,
           0,
           0,
           0,
           0,
           0,
           0,
           0,
           0,
           0,
           0,
           0,
           0,
           0,
           0,
           0
          ],
          [
           0,
           0,
           0,
           0,
           0,
           0,
           0,
           0,
           0,
           0,
           0,
           0,
           0,
           0,
           0,
           0
          ]
         ]
        }
       ],
       "layout": {
        "font": {
         "color": "#FFF"
        },
        "height": 500,
        "paper_bgcolor": "#000",
        "plot_bgcolor": "#000",
        "title": "Choice after 250000 Iterations",
        "titlefont": {
         "color": "#FFF"
        },
        "width": 500,
        "xaxis": {
         "dtick": 1,
         "range": [
          0.5,
          15.5
         ],
         "tickcolor": "#FFF",
         "title": "Predicted Class"
        },
        "yaxis": {
         "dtick": 1,
         "range": [
          9.5,
          0.5
         ],
         "tickcolor": "#FFF",
         "title": "True Class"
        }
       }
      },
      "text/html": [
       "<div id=\"f8e2d126-9ffe-4bdf-bfff-2419afea4309\" style=\"height: 500px; width: 500px;\" class=\"plotly-graph-div\"></div><script type=\"text/javascript\">require([\"plotly\"], function(Plotly) { window.PLOTLYENV=window.PLOTLYENV || {};window.PLOTLYENV.BASE_URL=\"https://plot.ly\";Plotly.newPlot(\"f8e2d126-9ffe-4bdf-bfff-2419afea4309\", [{\"colorscale\": \"Jet\", \"type\": \"heatmap\", \"z\": [[0.0, 0.0, 0.0, 0.0, 0.0, 0.0, 0.0, 0.0, 0.0, 0.0, 0.0, 0.0, 0.0, 0.0, 0.0, 0.0], [0.0, 0.9909082790051501, 0.009090900826453795, 0.0, 0.0, 0.0, 0.0, 0.0, 0.0, 0.0, 0.0, 0.0, 0.0, 0.0, 0.0, 0.0], [0.0, 0.08801079952424709, 0.8983918262770588, 0.013596481513549873, 0.0, 0.0, 0.0, 0.0, 0.0, 0.0, 0.0, 0.0, 0.0, 0.0, 0.0, 0.0], [0.0, 0.0, 0.16648335353594573, 0.6700940087588454, 0.1467550479075977, 0.016666652222235186, 0.0, 0.0, 0.0, 0.0, 0.0, 0.0, 0.0, 0.0, 0.0, 0.0], [0.0, 0.0, 0.016666651234583336, 0.3297723470708931, 0.4730045777154583, 0.1472220452934647, 0.026666642222245185, 0.006666662222225185, 0.0, 0.0, 0.0, 0.0, 0.0, 0.0, 0.0, 0.0], [0.0, 0.0, 0.009090900826453795, 0.10560885921161889, 0.41849318841561683, 0.2927512209998589, 0.08433364825615354, 0.051303344915697824, 0.030725500470511202, 0.0, 0.007692301775152481, 0.0, 0.0, 0.0, 0.0, 0.0], [0.0, 0.0, 0.0, 0.02825394080627579, 0.15707415395705424, 0.2059124789932177, 0.24056610964061104, 0.28786764674321436, 0.05123371161732283, 0.0, 0.009999990000010001, 0.019090890826463796, 0.0, 0.0, 0.0, 0.0], [0.0, 0.0, 0.0, 0.0, 0.015384603550304961, 0.16270602765622302, 0.14443680493063266, 0.3277230841893011, 0.20511079789555908, 0.06031129905128185, 0.05504323588035798, 0.016783202601606276, 0.012499984375019531, 0.0, 0.0, 0.0], [0.0, 0.0, 0.0, 0.0, 0.034973210307504686, 0.0979153967862831, 0.17207893656943457, 0.3223373264527136, 0.14136997681303082, 0.12954503009870333, 0.07359725426820092, 0.028181791652917586, 0.0, 0.0, 0.0, 0.0], [0.0, 0.0, 0.0, 0.0, 0.024567079256168446, 0.0393589431640617, 0.07290036300622205, 0.28121518419638347, 0.2125789186698288, 0.21717014747761185, 0.10893927754183108, 0.030769207100609923, 0.012499984375019531, 0.0, 0.0, 0.0], [0.0, 0.0, 0.0, 0.0, 0.0, 0.0, 0.0, 0.0, 0.0, 0.0, 0.0, 0.0, 0.0, 0.0, 0.0, 0.0], [0.0, 0.0, 0.0, 0.0, 0.0, 0.0, 0.0, 0.0, 0.0, 0.0, 0.0, 0.0, 0.0, 0.0, 0.0, 0.0], [0.0, 0.0, 0.0, 0.0, 0.0, 0.0, 0.0, 0.0, 0.0, 0.0, 0.0, 0.0, 0.0, 0.0, 0.0, 0.0], [0.0, 0.0, 0.0, 0.0, 0.0, 0.0, 0.0, 0.0, 0.0, 0.0, 0.0, 0.0, 0.0, 0.0, 0.0, 0.0], [0.0, 0.0, 0.0, 0.0, 0.0, 0.0, 0.0, 0.0, 0.0, 0.0, 0.0, 0.0, 0.0, 0.0, 0.0, 0.0], [0.0, 0.0, 0.0, 0.0, 0.0, 0.0, 0.0, 0.0, 0.0, 0.0, 0.0, 0.0, 0.0, 0.0, 0.0, 0.0]]}], {\"paper_bgcolor\": \"#000\", \"titlefont\": {\"color\": \"#FFF\"}, \"yaxis\": {\"dtick\": 1, \"title\": \"True Class\", \"tickcolor\": \"#FFF\", \"range\": [9.5, 0.5]}, \"xaxis\": {\"dtick\": 1, \"title\": \"Predicted Class\", \"tickcolor\": \"#FFF\", \"range\": [0.5, 15.5]}, \"font\": {\"color\": \"#FFF\"}, \"plot_bgcolor\": \"#000\", \"height\": 500, \"title\": \"Choice after 250000 Iterations\", \"width\": 500}, {\"linkText\": \"Export to plot.ly\", \"showLink\": true})});</script>"
      ],
      "text/vnd.plotly.v1+html": [
       "<div id=\"f8e2d126-9ffe-4bdf-bfff-2419afea4309\" style=\"height: 500px; width: 500px;\" class=\"plotly-graph-div\"></div><script type=\"text/javascript\">require([\"plotly\"], function(Plotly) { window.PLOTLYENV=window.PLOTLYENV || {};window.PLOTLYENV.BASE_URL=\"https://plot.ly\";Plotly.newPlot(\"f8e2d126-9ffe-4bdf-bfff-2419afea4309\", [{\"colorscale\": \"Jet\", \"type\": \"heatmap\", \"z\": [[0.0, 0.0, 0.0, 0.0, 0.0, 0.0, 0.0, 0.0, 0.0, 0.0, 0.0, 0.0, 0.0, 0.0, 0.0, 0.0], [0.0, 0.9909082790051501, 0.009090900826453795, 0.0, 0.0, 0.0, 0.0, 0.0, 0.0, 0.0, 0.0, 0.0, 0.0, 0.0, 0.0, 0.0], [0.0, 0.08801079952424709, 0.8983918262770588, 0.013596481513549873, 0.0, 0.0, 0.0, 0.0, 0.0, 0.0, 0.0, 0.0, 0.0, 0.0, 0.0, 0.0], [0.0, 0.0, 0.16648335353594573, 0.6700940087588454, 0.1467550479075977, 0.016666652222235186, 0.0, 0.0, 0.0, 0.0, 0.0, 0.0, 0.0, 0.0, 0.0, 0.0], [0.0, 0.0, 0.016666651234583336, 0.3297723470708931, 0.4730045777154583, 0.1472220452934647, 0.026666642222245185, 0.006666662222225185, 0.0, 0.0, 0.0, 0.0, 0.0, 0.0, 0.0, 0.0], [0.0, 0.0, 0.009090900826453795, 0.10560885921161889, 0.41849318841561683, 0.2927512209998589, 0.08433364825615354, 0.051303344915697824, 0.030725500470511202, 0.0, 0.007692301775152481, 0.0, 0.0, 0.0, 0.0, 0.0], [0.0, 0.0, 0.0, 0.02825394080627579, 0.15707415395705424, 0.2059124789932177, 0.24056610964061104, 0.28786764674321436, 0.05123371161732283, 0.0, 0.009999990000010001, 0.019090890826463796, 0.0, 0.0, 0.0, 0.0], [0.0, 0.0, 0.0, 0.0, 0.015384603550304961, 0.16270602765622302, 0.14443680493063266, 0.3277230841893011, 0.20511079789555908, 0.06031129905128185, 0.05504323588035798, 0.016783202601606276, 0.012499984375019531, 0.0, 0.0, 0.0], [0.0, 0.0, 0.0, 0.0, 0.034973210307504686, 0.0979153967862831, 0.17207893656943457, 0.3223373264527136, 0.14136997681303082, 0.12954503009870333, 0.07359725426820092, 0.028181791652917586, 0.0, 0.0, 0.0, 0.0], [0.0, 0.0, 0.0, 0.0, 0.024567079256168446, 0.0393589431640617, 0.07290036300622205, 0.28121518419638347, 0.2125789186698288, 0.21717014747761185, 0.10893927754183108, 0.030769207100609923, 0.012499984375019531, 0.0, 0.0, 0.0], [0.0, 0.0, 0.0, 0.0, 0.0, 0.0, 0.0, 0.0, 0.0, 0.0, 0.0, 0.0, 0.0, 0.0, 0.0, 0.0], [0.0, 0.0, 0.0, 0.0, 0.0, 0.0, 0.0, 0.0, 0.0, 0.0, 0.0, 0.0, 0.0, 0.0, 0.0, 0.0], [0.0, 0.0, 0.0, 0.0, 0.0, 0.0, 0.0, 0.0, 0.0, 0.0, 0.0, 0.0, 0.0, 0.0, 0.0, 0.0], [0.0, 0.0, 0.0, 0.0, 0.0, 0.0, 0.0, 0.0, 0.0, 0.0, 0.0, 0.0, 0.0, 0.0, 0.0, 0.0], [0.0, 0.0, 0.0, 0.0, 0.0, 0.0, 0.0, 0.0, 0.0, 0.0, 0.0, 0.0, 0.0, 0.0, 0.0, 0.0], [0.0, 0.0, 0.0, 0.0, 0.0, 0.0, 0.0, 0.0, 0.0, 0.0, 0.0, 0.0, 0.0, 0.0, 0.0, 0.0]]}], {\"paper_bgcolor\": \"#000\", \"titlefont\": {\"color\": \"#FFF\"}, \"yaxis\": {\"dtick\": 1, \"title\": \"True Class\", \"tickcolor\": \"#FFF\", \"range\": [9.5, 0.5]}, \"xaxis\": {\"dtick\": 1, \"title\": \"Predicted Class\", \"tickcolor\": \"#FFF\", \"range\": [0.5, 15.5]}, \"font\": {\"color\": \"#FFF\"}, \"plot_bgcolor\": \"#000\", \"height\": 500, \"title\": \"Choice after 250000 Iterations\", \"width\": 500}, {\"linkText\": \"Export to plot.ly\", \"showLink\": true})});</script>"
      ]
     },
     "metadata": {},
     "output_type": "display_data"
    },
    {
     "data": {
      "application/vnd.plotly.v1+json": {
       "data": [
        {
         "colorscale": "Jet",
         "type": "heatmap",
         "z": [
          [
           0,
           0,
           0,
           0,
           0,
           0,
           0,
           0,
           0,
           0,
           0,
           0,
           0,
           0,
           0,
           0
          ],
          [
           0,
           0.9999988876886057,
           0,
           0,
           0,
           0,
           0,
           0,
           0,
           0,
           0,
           0,
           0,
           0,
           0,
           0
          ],
          [
           0,
           0.05374993574661184,
           0.9024989909287845,
           0.03541663324656132,
           0,
           0.008333326388894677,
           0,
           0,
           0,
           0,
           0,
           0,
           0,
           0,
           0,
           0
          ],
          [
           0,
           0.0071428520408199705,
           0.1435255221026319,
           0.7340195002854639,
           0.10761894330226371,
           0.007692301775152481,
           0,
           0,
           0,
           0,
           0,
           0,
           0,
           0,
           0,
           0
          ],
          [
           0,
           0,
           0.042586955743862766,
           0.28813283337400925,
           0.45090242530458796,
           0.13842737038390376,
           0.058314955302842975,
           0,
           0.013942297868904923,
           0,
           0.007692301775152481,
           0,
           0,
           0,
           0,
           0
          ],
          [
           0,
           0,
           0.011111098765445816,
           0.05552465562891658,
           0.31394700833623157,
           0.41895554505390564,
           0.1031901864752585,
           0.05137422826512078,
           0.02853532598079429,
           0.006249996093752441,
           0.011111098765445816,
           0,
           0,
           0,
           0,
           0
          ],
          [
           0,
           0,
           0.016025628164047158,
           0.03694802220402277,
           0.080111489465835,
           0.34221084964525916,
           0.2043188376161978,
           0.14782871877046766,
           0.0974441460534687,
           0.039726906748846005,
           0.025384593550314964,
           0,
           0.009999990000010001,
           0,
           0,
           0
          ],
          [
           0,
           0,
           0,
           0.011111098765445816,
           0.025694421248092937,
           0.19213547480675924,
           0.2221769172404931,
           0.22755207419921955,
           0.16252691550116655,
           0.06906558727273432,
           0.07862547019218931,
           0.011111098765445816,
           0,
           0,
           0,
           0
          ],
          [
           0,
           0,
           0,
           0,
           0.0071428520408199705,
           0.12870114526869159,
           0.07535707661995936,
           0.20786773242155046,
           0.2925858723685477,
           0.14115783195786805,
           0.13468601285181164,
           0,
           0.012499984375019531,
           0,
           0,
           0
          ],
          [
           0,
           0,
           0,
           0.009999990000010001,
           0.011111098765445816,
           0.05773802435241506,
           0.02575755304868898,
           0.2076224271316664,
           0.27825365260934387,
           0.16049046636968864,
           0.16751065305869975,
           0.0633332619445285,
           0.01818180165290759,
           0,
           0,
           0
          ],
          [
           0,
           0,
           0,
           0,
           0,
           0,
           0,
           0,
           0,
           0,
           0,
           0,
           0,
           0,
           0,
           0
          ],
          [
           0,
           0,
           0,
           0,
           0,
           0,
           0,
           0,
           0,
           0,
           0,
           0,
           0,
           0,
           0,
           0
          ],
          [
           0,
           0,
           0,
           0,
           0,
           0,
           0,
           0,
           0,
           0,
           0,
           0,
           0,
           0,
           0,
           0
          ],
          [
           0,
           0,
           0,
           0,
           0,
           0,
           0,
           0,
           0,
           0,
           0,
           0,
           0,
           0,
           0,
           0
          ],
          [
           0,
           0,
           0,
           0,
           0,
           0,
           0,
           0,
           0,
           0,
           0,
           0,
           0,
           0,
           0,
           0
          ],
          [
           0,
           0,
           0,
           0,
           0,
           0,
           0,
           0,
           0,
           0,
           0,
           0,
           0,
           0,
           0,
           0
          ]
         ]
        }
       ],
       "layout": {
        "font": {
         "color": "#FFF"
        },
        "height": 500,
        "paper_bgcolor": "#000",
        "plot_bgcolor": "#000",
        "title": "Choice after 500000 Iterations",
        "titlefont": {
         "color": "#FFF"
        },
        "width": 500,
        "xaxis": {
         "dtick": 1,
         "range": [
          0.5,
          15.5
         ],
         "tickcolor": "#FFF",
         "title": "Predicted Class"
        },
        "yaxis": {
         "dtick": 1,
         "range": [
          9.5,
          0.5
         ],
         "tickcolor": "#FFF",
         "title": "True Class"
        }
       }
      },
      "text/html": [
       "<div id=\"6ad1ec8e-1928-42ae-9fad-bdfaf9a056ab\" style=\"height: 500px; width: 500px;\" class=\"plotly-graph-div\"></div><script type=\"text/javascript\">require([\"plotly\"], function(Plotly) { window.PLOTLYENV=window.PLOTLYENV || {};window.PLOTLYENV.BASE_URL=\"https://plot.ly\";Plotly.newPlot(\"6ad1ec8e-1928-42ae-9fad-bdfaf9a056ab\", [{\"colorscale\": \"Jet\", \"type\": \"heatmap\", \"z\": [[0.0, 0.0, 0.0, 0.0, 0.0, 0.0, 0.0, 0.0, 0.0, 0.0, 0.0, 0.0, 0.0, 0.0, 0.0, 0.0], [0.0, 0.9999988876886057, 0.0, 0.0, 0.0, 0.0, 0.0, 0.0, 0.0, 0.0, 0.0, 0.0, 0.0, 0.0, 0.0, 0.0], [0.0, 0.05374993574661184, 0.9024989909287845, 0.03541663324656132, 0.0, 0.008333326388894677, 0.0, 0.0, 0.0, 0.0, 0.0, 0.0, 0.0, 0.0, 0.0, 0.0], [0.0, 0.0071428520408199705, 0.1435255221026319, 0.7340195002854639, 0.10761894330226371, 0.007692301775152481, 0.0, 0.0, 0.0, 0.0, 0.0, 0.0, 0.0, 0.0, 0.0, 0.0], [0.0, 0.0, 0.042586955743862766, 0.28813283337400925, 0.45090242530458796, 0.13842737038390376, 0.058314955302842975, 0.0, 0.013942297868904923, 0.0, 0.007692301775152481, 0.0, 0.0, 0.0, 0.0, 0.0], [0.0, 0.0, 0.011111098765445816, 0.05552465562891658, 0.31394700833623157, 0.41895554505390564, 0.1031901864752585, 0.05137422826512078, 0.02853532598079429, 0.006249996093752441, 0.011111098765445816, 0.0, 0.0, 0.0, 0.0, 0.0], [0.0, 0.0, 0.016025628164047158, 0.03694802220402277, 0.080111489465835, 0.34221084964525916, 0.2043188376161978, 0.14782871877046766, 0.0974441460534687, 0.039726906748846005, 0.025384593550314964, 0.0, 0.009999990000010001, 0.0, 0.0, 0.0], [0.0, 0.0, 0.0, 0.011111098765445816, 0.025694421248092937, 0.19213547480675924, 0.2221769172404931, 0.22755207419921955, 0.16252691550116655, 0.06906558727273432, 0.07862547019218931, 0.011111098765445816, 0.0, 0.0, 0.0, 0.0], [0.0, 0.0, 0.0, 0.0, 0.0071428520408199705, 0.12870114526869159, 0.07535707661995936, 0.20786773242155046, 0.2925858723685477, 0.14115783195786805, 0.13468601285181164, 0.0, 0.012499984375019531, 0.0, 0.0, 0.0], [0.0, 0.0, 0.0, 0.009999990000010001, 0.011111098765445816, 0.05773802435241506, 0.02575755304868898, 0.2076224271316664, 0.27825365260934387, 0.16049046636968864, 0.16751065305869975, 0.0633332619445285, 0.01818180165290759, 0.0, 0.0, 0.0], [0.0, 0.0, 0.0, 0.0, 0.0, 0.0, 0.0, 0.0, 0.0, 0.0, 0.0, 0.0, 0.0, 0.0, 0.0, 0.0], [0.0, 0.0, 0.0, 0.0, 0.0, 0.0, 0.0, 0.0, 0.0, 0.0, 0.0, 0.0, 0.0, 0.0, 0.0, 0.0], [0.0, 0.0, 0.0, 0.0, 0.0, 0.0, 0.0, 0.0, 0.0, 0.0, 0.0, 0.0, 0.0, 0.0, 0.0, 0.0], [0.0, 0.0, 0.0, 0.0, 0.0, 0.0, 0.0, 0.0, 0.0, 0.0, 0.0, 0.0, 0.0, 0.0, 0.0, 0.0], [0.0, 0.0, 0.0, 0.0, 0.0, 0.0, 0.0, 0.0, 0.0, 0.0, 0.0, 0.0, 0.0, 0.0, 0.0, 0.0], [0.0, 0.0, 0.0, 0.0, 0.0, 0.0, 0.0, 0.0, 0.0, 0.0, 0.0, 0.0, 0.0, 0.0, 0.0, 0.0]]}], {\"paper_bgcolor\": \"#000\", \"titlefont\": {\"color\": \"#FFF\"}, \"yaxis\": {\"dtick\": 1, \"title\": \"True Class\", \"tickcolor\": \"#FFF\", \"range\": [9.5, 0.5]}, \"xaxis\": {\"dtick\": 1, \"title\": \"Predicted Class\", \"tickcolor\": \"#FFF\", \"range\": [0.5, 15.5]}, \"font\": {\"color\": \"#FFF\"}, \"plot_bgcolor\": \"#000\", \"height\": 500, \"title\": \"Choice after 500000 Iterations\", \"width\": 500}, {\"linkText\": \"Export to plot.ly\", \"showLink\": true})});</script>"
      ],
      "text/vnd.plotly.v1+html": [
       "<div id=\"6ad1ec8e-1928-42ae-9fad-bdfaf9a056ab\" style=\"height: 500px; width: 500px;\" class=\"plotly-graph-div\"></div><script type=\"text/javascript\">require([\"plotly\"], function(Plotly) { window.PLOTLYENV=window.PLOTLYENV || {};window.PLOTLYENV.BASE_URL=\"https://plot.ly\";Plotly.newPlot(\"6ad1ec8e-1928-42ae-9fad-bdfaf9a056ab\", [{\"colorscale\": \"Jet\", \"type\": \"heatmap\", \"z\": [[0.0, 0.0, 0.0, 0.0, 0.0, 0.0, 0.0, 0.0, 0.0, 0.0, 0.0, 0.0, 0.0, 0.0, 0.0, 0.0], [0.0, 0.9999988876886057, 0.0, 0.0, 0.0, 0.0, 0.0, 0.0, 0.0, 0.0, 0.0, 0.0, 0.0, 0.0, 0.0, 0.0], [0.0, 0.05374993574661184, 0.9024989909287845, 0.03541663324656132, 0.0, 0.008333326388894677, 0.0, 0.0, 0.0, 0.0, 0.0, 0.0, 0.0, 0.0, 0.0, 0.0], [0.0, 0.0071428520408199705, 0.1435255221026319, 0.7340195002854639, 0.10761894330226371, 0.007692301775152481, 0.0, 0.0, 0.0, 0.0, 0.0, 0.0, 0.0, 0.0, 0.0, 0.0], [0.0, 0.0, 0.042586955743862766, 0.28813283337400925, 0.45090242530458796, 0.13842737038390376, 0.058314955302842975, 0.0, 0.013942297868904923, 0.0, 0.007692301775152481, 0.0, 0.0, 0.0, 0.0, 0.0], [0.0, 0.0, 0.011111098765445816, 0.05552465562891658, 0.31394700833623157, 0.41895554505390564, 0.1031901864752585, 0.05137422826512078, 0.02853532598079429, 0.006249996093752441, 0.011111098765445816, 0.0, 0.0, 0.0, 0.0, 0.0], [0.0, 0.0, 0.016025628164047158, 0.03694802220402277, 0.080111489465835, 0.34221084964525916, 0.2043188376161978, 0.14782871877046766, 0.0974441460534687, 0.039726906748846005, 0.025384593550314964, 0.0, 0.009999990000010001, 0.0, 0.0, 0.0], [0.0, 0.0, 0.0, 0.011111098765445816, 0.025694421248092937, 0.19213547480675924, 0.2221769172404931, 0.22755207419921955, 0.16252691550116655, 0.06906558727273432, 0.07862547019218931, 0.011111098765445816, 0.0, 0.0, 0.0, 0.0], [0.0, 0.0, 0.0, 0.0, 0.0071428520408199705, 0.12870114526869159, 0.07535707661995936, 0.20786773242155046, 0.2925858723685477, 0.14115783195786805, 0.13468601285181164, 0.0, 0.012499984375019531, 0.0, 0.0, 0.0], [0.0, 0.0, 0.0, 0.009999990000010001, 0.011111098765445816, 0.05773802435241506, 0.02575755304868898, 0.2076224271316664, 0.27825365260934387, 0.16049046636968864, 0.16751065305869975, 0.0633332619445285, 0.01818180165290759, 0.0, 0.0, 0.0], [0.0, 0.0, 0.0, 0.0, 0.0, 0.0, 0.0, 0.0, 0.0, 0.0, 0.0, 0.0, 0.0, 0.0, 0.0, 0.0], [0.0, 0.0, 0.0, 0.0, 0.0, 0.0, 0.0, 0.0, 0.0, 0.0, 0.0, 0.0, 0.0, 0.0, 0.0, 0.0], [0.0, 0.0, 0.0, 0.0, 0.0, 0.0, 0.0, 0.0, 0.0, 0.0, 0.0, 0.0, 0.0, 0.0, 0.0, 0.0], [0.0, 0.0, 0.0, 0.0, 0.0, 0.0, 0.0, 0.0, 0.0, 0.0, 0.0, 0.0, 0.0, 0.0, 0.0, 0.0], [0.0, 0.0, 0.0, 0.0, 0.0, 0.0, 0.0, 0.0, 0.0, 0.0, 0.0, 0.0, 0.0, 0.0, 0.0, 0.0], [0.0, 0.0, 0.0, 0.0, 0.0, 0.0, 0.0, 0.0, 0.0, 0.0, 0.0, 0.0, 0.0, 0.0, 0.0, 0.0]]}], {\"paper_bgcolor\": \"#000\", \"titlefont\": {\"color\": \"#FFF\"}, \"yaxis\": {\"dtick\": 1, \"title\": \"True Class\", \"tickcolor\": \"#FFF\", \"range\": [9.5, 0.5]}, \"xaxis\": {\"dtick\": 1, \"title\": \"Predicted Class\", \"tickcolor\": \"#FFF\", \"range\": [0.5, 15.5]}, \"font\": {\"color\": \"#FFF\"}, \"plot_bgcolor\": \"#000\", \"height\": 500, \"title\": \"Choice after 500000 Iterations\", \"width\": 500}, {\"linkText\": \"Export to plot.ly\", \"showLink\": true})});</script>"
      ]
     },
     "metadata": {},
     "output_type": "display_data"
    },
    {
     "data": {
      "application/vnd.plotly.v1+json": {
       "data": [
        {
         "colorscale": "Jet",
         "type": "heatmap",
         "z": [
          [
           0,
           0,
           0,
           0,
           0,
           0,
           0,
           0,
           0,
           0,
           0,
           0,
           0,
           0,
           0,
           0
          ],
          [
           0,
           0.9999990061005105,
           0,
           0,
           0,
           0,
           0,
           0,
           0,
           0,
           0,
           0,
           0,
           0,
           0,
           0
          ],
          [
           0,
           0.06197795417129529,
           0.8913330633639545,
           0.04668799627840814,
           0,
           0,
           0,
           0,
           0,
           0,
           0,
           0,
           0,
           0,
           0,
           0
          ],
          [
           0,
           0.011111098765445816,
           0.133333207044723,
           0.7359877562268708,
           0.08305908829943523,
           0.036507901612531576,
           0,
           0,
           0,
           0,
           0,
           0,
           0,
           0,
           0,
           0
          ],
          [
           0,
           0,
           0.06710670373596464,
           0.175548177407549,
           0.5642201721335444,
           0.150302886479709,
           0.042821019858374464,
           0,
           0,
           0,
           0,
           0,
           0,
           0,
           0,
           0
          ],
          [
           0,
           0,
           0.009090900826453795,
           0.05535782260776871,
           0.2610043499505926,
           0.43117722932792973,
           0.1670634866503255,
           0.041783171351645346,
           0.01954884900223537,
           0.009090900826453795,
           0.005882349480970894,
           0,
           0,
           0,
           0,
           0
          ],
          [
           0,
           0,
           0,
           0.040384541050461215,
           0.10860796945559344,
           0.3468687846574142,
           0.2706860115143656,
           0.12867635373901737,
           0.06129550401659587,
           0.021501816038197636,
           0.021977995652732656,
           0,
           0,
           0,
           0,
           0
          ],
          [
           0,
           0,
           0,
           0,
           0.032692280386282344,
           0.1215907990904386,
           0.33801834719217927,
           0.17992408117382025,
           0.21234827158367006,
           0.06023304798101191,
           0.04269227038629235,
           0,
           0.012499984375019531,
           0,
           0,
           0
          ],
          [
           0,
           0,
           0,
           0,
           0.011764698961941787,
           0.05418887756626596,
           0.24977145196329764,
           0.1709535034726912,
           0.26106996329662036,
           0.1354825166790609,
           0.07971677368850136,
           0.030384592161424827,
           0,
           0.006666662222225185,
           0,
           0
          ],
          [
           0,
           0,
           0,
           0,
           0,
           0.04097217799966361,
           0.15490420907731411,
           0.06006307663861275,
           0.27795061148229894,
           0.23450733724454195,
           0.16325741529420684,
           0.06834407460954126,
           0,
           0,
           0,
           0
          ],
          [
           0,
           0,
           0,
           0,
           0,
           0,
           0,
           0,
           0,
           0,
           0,
           0,
           0,
           0,
           0,
           0
          ],
          [
           0,
           0,
           0,
           0,
           0,
           0,
           0,
           0,
           0,
           0,
           0,
           0,
           0,
           0,
           0,
           0
          ],
          [
           0,
           0,
           0,
           0,
           0,
           0,
           0,
           0,
           0,
           0,
           0,
           0,
           0,
           0,
           0,
           0
          ],
          [
           0,
           0,
           0,
           0,
           0,
           0,
           0,
           0,
           0,
           0,
           0,
           0,
           0,
           0,
           0,
           0
          ],
          [
           0,
           0,
           0,
           0,
           0,
           0,
           0,
           0,
           0,
           0,
           0,
           0,
           0,
           0,
           0,
           0
          ],
          [
           0,
           0,
           0,
           0,
           0,
           0,
           0,
           0,
           0,
           0,
           0,
           0,
           0,
           0,
           0,
           0
          ]
         ]
        }
       ],
       "layout": {
        "font": {
         "color": "#FFF"
        },
        "height": 500,
        "paper_bgcolor": "#000",
        "plot_bgcolor": "#000",
        "title": "Choice after 1000000 Iterations",
        "titlefont": {
         "color": "#FFF"
        },
        "width": 500,
        "xaxis": {
         "dtick": 1,
         "range": [
          0.5,
          15.5
         ],
         "tickcolor": "#FFF",
         "title": "Predicted Class"
        },
        "yaxis": {
         "dtick": 1,
         "range": [
          9.5,
          0.5
         ],
         "tickcolor": "#FFF",
         "title": "True Class"
        }
       }
      },
      "text/html": [
       "<div id=\"6f59828b-53c0-4fbb-8e57-48458ea4fec8\" style=\"height: 500px; width: 500px;\" class=\"plotly-graph-div\"></div><script type=\"text/javascript\">require([\"plotly\"], function(Plotly) { window.PLOTLYENV=window.PLOTLYENV || {};window.PLOTLYENV.BASE_URL=\"https://plot.ly\";Plotly.newPlot(\"6f59828b-53c0-4fbb-8e57-48458ea4fec8\", [{\"colorscale\": \"Jet\", \"type\": \"heatmap\", \"z\": [[0.0, 0.0, 0.0, 0.0, 0.0, 0.0, 0.0, 0.0, 0.0, 0.0, 0.0, 0.0, 0.0, 0.0, 0.0, 0.0], [0.0, 0.9999990061005105, 0.0, 0.0, 0.0, 0.0, 0.0, 0.0, 0.0, 0.0, 0.0, 0.0, 0.0, 0.0, 0.0, 0.0], [0.0, 0.06197795417129529, 0.8913330633639545, 0.04668799627840814, 0.0, 0.0, 0.0, 0.0, 0.0, 0.0, 0.0, 0.0, 0.0, 0.0, 0.0, 0.0], [0.0, 0.011111098765445816, 0.133333207044723, 0.7359877562268708, 0.08305908829943523, 0.036507901612531576, 0.0, 0.0, 0.0, 0.0, 0.0, 0.0, 0.0, 0.0, 0.0, 0.0], [0.0, 0.0, 0.06710670373596464, 0.175548177407549, 0.5642201721335444, 0.150302886479709, 0.042821019858374464, 0.0, 0.0, 0.0, 0.0, 0.0, 0.0, 0.0, 0.0, 0.0], [0.0, 0.0, 0.009090900826453795, 0.05535782260776871, 0.2610043499505926, 0.43117722932792973, 0.1670634866503255, 0.041783171351645346, 0.01954884900223537, 0.009090900826453795, 0.005882349480970894, 0.0, 0.0, 0.0, 0.0, 0.0], [0.0, 0.0, 0.0, 0.040384541050461215, 0.10860796945559344, 0.3468687846574142, 0.2706860115143656, 0.12867635373901737, 0.06129550401659587, 0.021501816038197636, 0.021977995652732656, 0.0, 0.0, 0.0, 0.0, 0.0], [0.0, 0.0, 0.0, 0.0, 0.032692280386282344, 0.1215907990904386, 0.33801834719217927, 0.17992408117382025, 0.21234827158367006, 0.06023304798101191, 0.04269227038629235, 0.0, 0.012499984375019531, 0.0, 0.0, 0.0], [0.0, 0.0, 0.0, 0.0, 0.011764698961941787, 0.05418887756626596, 0.24977145196329764, 0.1709535034726912, 0.26106996329662036, 0.1354825166790609, 0.07971677368850136, 0.030384592161424827, 0.0, 0.006666662222225185, 0.0, 0.0], [0.0, 0.0, 0.0, 0.0, 0.0, 0.04097217799966361, 0.15490420907731411, 0.06006307663861275, 0.27795061148229894, 0.23450733724454195, 0.16325741529420684, 0.06834407460954126, 0.0, 0.0, 0.0, 0.0], [0.0, 0.0, 0.0, 0.0, 0.0, 0.0, 0.0, 0.0, 0.0, 0.0, 0.0, 0.0, 0.0, 0.0, 0.0, 0.0], [0.0, 0.0, 0.0, 0.0, 0.0, 0.0, 0.0, 0.0, 0.0, 0.0, 0.0, 0.0, 0.0, 0.0, 0.0, 0.0], [0.0, 0.0, 0.0, 0.0, 0.0, 0.0, 0.0, 0.0, 0.0, 0.0, 0.0, 0.0, 0.0, 0.0, 0.0, 0.0], [0.0, 0.0, 0.0, 0.0, 0.0, 0.0, 0.0, 0.0, 0.0, 0.0, 0.0, 0.0, 0.0, 0.0, 0.0, 0.0], [0.0, 0.0, 0.0, 0.0, 0.0, 0.0, 0.0, 0.0, 0.0, 0.0, 0.0, 0.0, 0.0, 0.0, 0.0, 0.0], [0.0, 0.0, 0.0, 0.0, 0.0, 0.0, 0.0, 0.0, 0.0, 0.0, 0.0, 0.0, 0.0, 0.0, 0.0, 0.0]]}], {\"paper_bgcolor\": \"#000\", \"titlefont\": {\"color\": \"#FFF\"}, \"yaxis\": {\"dtick\": 1, \"title\": \"True Class\", \"tickcolor\": \"#FFF\", \"range\": [9.5, 0.5]}, \"xaxis\": {\"dtick\": 1, \"title\": \"Predicted Class\", \"tickcolor\": \"#FFF\", \"range\": [0.5, 15.5]}, \"font\": {\"color\": \"#FFF\"}, \"plot_bgcolor\": \"#000\", \"height\": 500, \"title\": \"Choice after 1000000 Iterations\", \"width\": 500}, {\"linkText\": \"Export to plot.ly\", \"showLink\": true})});</script>"
      ],
      "text/vnd.plotly.v1+html": [
       "<div id=\"6f59828b-53c0-4fbb-8e57-48458ea4fec8\" style=\"height: 500px; width: 500px;\" class=\"plotly-graph-div\"></div><script type=\"text/javascript\">require([\"plotly\"], function(Plotly) { window.PLOTLYENV=window.PLOTLYENV || {};window.PLOTLYENV.BASE_URL=\"https://plot.ly\";Plotly.newPlot(\"6f59828b-53c0-4fbb-8e57-48458ea4fec8\", [{\"colorscale\": \"Jet\", \"type\": \"heatmap\", \"z\": [[0.0, 0.0, 0.0, 0.0, 0.0, 0.0, 0.0, 0.0, 0.0, 0.0, 0.0, 0.0, 0.0, 0.0, 0.0, 0.0], [0.0, 0.9999990061005105, 0.0, 0.0, 0.0, 0.0, 0.0, 0.0, 0.0, 0.0, 0.0, 0.0, 0.0, 0.0, 0.0, 0.0], [0.0, 0.06197795417129529, 0.8913330633639545, 0.04668799627840814, 0.0, 0.0, 0.0, 0.0, 0.0, 0.0, 0.0, 0.0, 0.0, 0.0, 0.0, 0.0], [0.0, 0.011111098765445816, 0.133333207044723, 0.7359877562268708, 0.08305908829943523, 0.036507901612531576, 0.0, 0.0, 0.0, 0.0, 0.0, 0.0, 0.0, 0.0, 0.0, 0.0], [0.0, 0.0, 0.06710670373596464, 0.175548177407549, 0.5642201721335444, 0.150302886479709, 0.042821019858374464, 0.0, 0.0, 0.0, 0.0, 0.0, 0.0, 0.0, 0.0, 0.0], [0.0, 0.0, 0.009090900826453795, 0.05535782260776871, 0.2610043499505926, 0.43117722932792973, 0.1670634866503255, 0.041783171351645346, 0.01954884900223537, 0.009090900826453795, 0.005882349480970894, 0.0, 0.0, 0.0, 0.0, 0.0], [0.0, 0.0, 0.0, 0.040384541050461215, 0.10860796945559344, 0.3468687846574142, 0.2706860115143656, 0.12867635373901737, 0.06129550401659587, 0.021501816038197636, 0.021977995652732656, 0.0, 0.0, 0.0, 0.0, 0.0], [0.0, 0.0, 0.0, 0.0, 0.032692280386282344, 0.1215907990904386, 0.33801834719217927, 0.17992408117382025, 0.21234827158367006, 0.06023304798101191, 0.04269227038629235, 0.0, 0.012499984375019531, 0.0, 0.0, 0.0], [0.0, 0.0, 0.0, 0.0, 0.011764698961941787, 0.05418887756626596, 0.24977145196329764, 0.1709535034726912, 0.26106996329662036, 0.1354825166790609, 0.07971677368850136, 0.030384592161424827, 0.0, 0.006666662222225185, 0.0, 0.0], [0.0, 0.0, 0.0, 0.0, 0.0, 0.04097217799966361, 0.15490420907731411, 0.06006307663861275, 0.27795061148229894, 0.23450733724454195, 0.16325741529420684, 0.06834407460954126, 0.0, 0.0, 0.0, 0.0], [0.0, 0.0, 0.0, 0.0, 0.0, 0.0, 0.0, 0.0, 0.0, 0.0, 0.0, 0.0, 0.0, 0.0, 0.0, 0.0], [0.0, 0.0, 0.0, 0.0, 0.0, 0.0, 0.0, 0.0, 0.0, 0.0, 0.0, 0.0, 0.0, 0.0, 0.0, 0.0], [0.0, 0.0, 0.0, 0.0, 0.0, 0.0, 0.0, 0.0, 0.0, 0.0, 0.0, 0.0, 0.0, 0.0, 0.0, 0.0], [0.0, 0.0, 0.0, 0.0, 0.0, 0.0, 0.0, 0.0, 0.0, 0.0, 0.0, 0.0, 0.0, 0.0, 0.0, 0.0], [0.0, 0.0, 0.0, 0.0, 0.0, 0.0, 0.0, 0.0, 0.0, 0.0, 0.0, 0.0, 0.0, 0.0, 0.0, 0.0], [0.0, 0.0, 0.0, 0.0, 0.0, 0.0, 0.0, 0.0, 0.0, 0.0, 0.0, 0.0, 0.0, 0.0, 0.0, 0.0]]}], {\"paper_bgcolor\": \"#000\", \"titlefont\": {\"color\": \"#FFF\"}, \"yaxis\": {\"dtick\": 1, \"title\": \"True Class\", \"tickcolor\": \"#FFF\", \"range\": [9.5, 0.5]}, \"xaxis\": {\"dtick\": 1, \"title\": \"Predicted Class\", \"tickcolor\": \"#FFF\", \"range\": [0.5, 15.5]}, \"font\": {\"color\": \"#FFF\"}, \"plot_bgcolor\": \"#000\", \"height\": 500, \"title\": \"Choice after 1000000 Iterations\", \"width\": 500}, {\"linkText\": \"Export to plot.ly\", \"showLink\": true})});</script>"
      ]
     },
     "metadata": {},
     "output_type": "display_data"
    },
    {
     "data": {
      "application/vnd.plotly.v1+json": {
       "data": [
        {
         "colorscale": "Jet",
         "type": "heatmap",
         "z": [
          [
           0,
           0,
           0,
           0,
           0,
           0,
           0,
           0,
           0,
           0,
           0,
           0,
           0,
           0,
           0,
           0
          ],
          [
           0,
           0.9999991193407846,
           0,
           0,
           0,
           0,
           0,
           0,
           0,
           0,
           0,
           0,
           0,
           0,
           0,
           0
          ],
          [
           0,
           0.04678566436372082,
           0.8776344637829506,
           0.07557892439761302,
           0,
           0,
           0,
           0,
           0,
           0,
           0,
           0,
           0,
           0,
           0,
           0
          ],
          [
           0,
           0,
           0.1400248269513758,
           0.7999307913868632,
           0.03666661277786935,
           0.014285693877580174,
           0.009090900826453795,
           0,
           0,
           0,
           0,
           0,
           0,
           0,
           0,
           0
          ],
          [
           0,
           0,
           0.016993448246416708,
           0.24316453562500379,
           0.5242331079328091,
           0.1734322709054138,
           0.021223246401177127,
           0.020952356099805357,
           0,
           0,
           0,
           0,
           0,
           0,
           0,
           0
          ],
          [
           0,
           0,
           0.005882349480970894,
           0.06482899870467547,
           0.35997385363601253,
           0.3302398949027345,
           0.1857757027915815,
           0.043298330643408545,
           0.009999990000010001,
           0,
           0,
           0,
           0,
           0,
           0,
           0
          ],
          [
           0,
           0,
           0,
           0.0071428520408199705,
           0.07324128694027912,
           0.3202053413107227,
           0.268672209240975,
           0.21619569224163251,
           0.06157461978751,
           0.03478532207454672,
           0.01818180165290759,
           0,
           0,
           0,
           0,
           0
          ],
          [
           0,
           0,
           0,
           0,
           0.018859636638205075,
           0.16618520415278287,
           0.25151131825957684,
           0.27352812764287915,
           0.2225252054044377,
           0.02481200412689057,
           0.04257755268855054,
           0,
           0,
           0,
           0,
           0
          ],
          [
           0,
           0,
           0,
           0,
           0.008333326388894677,
           0.04594983975441516,
           0.15742991996745437,
           0.24385177392818633,
           0.2831582643282001,
           0.1707749102693608,
           0.090501080457529,
           0,
           0,
           0,
           0,
           0
          ],
          [
           0,
           0,
           0,
           0,
           0.009999990000010001,
           0.021111088765455817,
           0.05595230151655443,
           0.21908703538283528,
           0.2182934329009901,
           0.23122986518541455,
           0.19682517606160427,
           0.03749995312505859,
           0,
           0.009999990000010001,
           0,
           0
          ],
          [
           0,
           0,
           0,
           0,
           0,
           0,
           0,
           0,
           0,
           0,
           0,
           0,
           0,
           0,
           0,
           0
          ],
          [
           0,
           0,
           0,
           0,
           0,
           0,
           0,
           0,
           0,
           0,
           0,
           0,
           0,
           0,
           0,
           0
          ],
          [
           0,
           0,
           0,
           0,
           0,
           0,
           0,
           0,
           0,
           0,
           0,
           0,
           0,
           0,
           0,
           0
          ],
          [
           0,
           0,
           0,
           0,
           0,
           0,
           0,
           0,
           0,
           0,
           0,
           0,
           0,
           0,
           0,
           0
          ],
          [
           0,
           0,
           0,
           0,
           0,
           0,
           0,
           0,
           0,
           0,
           0,
           0,
           0,
           0,
           0,
           0
          ],
          [
           0,
           0,
           0,
           0,
           0,
           0,
           0,
           0,
           0,
           0,
           0,
           0,
           0,
           0,
           0,
           0
          ]
         ]
        }
       ],
       "layout": {
        "font": {
         "color": "#FFF"
        },
        "height": 500,
        "paper_bgcolor": "#000",
        "plot_bgcolor": "#000",
        "title": "Choice after 1500000 Iterations",
        "titlefont": {
         "color": "#FFF"
        },
        "width": 500,
        "xaxis": {
         "dtick": 1,
         "range": [
          0.5,
          15.5
         ],
         "tickcolor": "#FFF",
         "title": "Predicted Class"
        },
        "yaxis": {
         "dtick": 1,
         "range": [
          9.5,
          0.5
         ],
         "tickcolor": "#FFF",
         "title": "True Class"
        }
       }
      },
      "text/html": [
       "<div id=\"cd7bbc6b-1eed-4a85-a154-5f3140fd63e3\" style=\"height: 500px; width: 500px;\" class=\"plotly-graph-div\"></div><script type=\"text/javascript\">require([\"plotly\"], function(Plotly) { window.PLOTLYENV=window.PLOTLYENV || {};window.PLOTLYENV.BASE_URL=\"https://plot.ly\";Plotly.newPlot(\"cd7bbc6b-1eed-4a85-a154-5f3140fd63e3\", [{\"colorscale\": \"Jet\", \"type\": \"heatmap\", \"z\": [[0.0, 0.0, 0.0, 0.0, 0.0, 0.0, 0.0, 0.0, 0.0, 0.0, 0.0, 0.0, 0.0, 0.0, 0.0, 0.0], [0.0, 0.9999991193407846, 0.0, 0.0, 0.0, 0.0, 0.0, 0.0, 0.0, 0.0, 0.0, 0.0, 0.0, 0.0, 0.0, 0.0], [0.0, 0.04678566436372082, 0.8776344637829506, 0.07557892439761302, 0.0, 0.0, 0.0, 0.0, 0.0, 0.0, 0.0, 0.0, 0.0, 0.0, 0.0, 0.0], [0.0, 0.0, 0.1400248269513758, 0.7999307913868632, 0.03666661277786935, 0.014285693877580174, 0.009090900826453795, 0.0, 0.0, 0.0, 0.0, 0.0, 0.0, 0.0, 0.0, 0.0], [0.0, 0.0, 0.016993448246416708, 0.24316453562500379, 0.5242331079328091, 0.1734322709054138, 0.021223246401177127, 0.020952356099805357, 0.0, 0.0, 0.0, 0.0, 0.0, 0.0, 0.0, 0.0], [0.0, 0.0, 0.005882349480970894, 0.06482899870467547, 0.35997385363601253, 0.3302398949027345, 0.1857757027915815, 0.043298330643408545, 0.009999990000010001, 0.0, 0.0, 0.0, 0.0, 0.0, 0.0, 0.0], [0.0, 0.0, 0.0, 0.0071428520408199705, 0.07324128694027912, 0.3202053413107227, 0.268672209240975, 0.21619569224163251, 0.06157461978751, 0.03478532207454672, 0.01818180165290759, 0.0, 0.0, 0.0, 0.0, 0.0], [0.0, 0.0, 0.0, 0.0, 0.018859636638205075, 0.16618520415278287, 0.25151131825957684, 0.27352812764287915, 0.2225252054044377, 0.02481200412689057, 0.04257755268855054, 0.0, 0.0, 0.0, 0.0, 0.0], [0.0, 0.0, 0.0, 0.0, 0.008333326388894677, 0.04594983975441516, 0.15742991996745437, 0.24385177392818633, 0.2831582643282001, 0.1707749102693608, 0.090501080457529, 0.0, 0.0, 0.0, 0.0, 0.0], [0.0, 0.0, 0.0, 0.0, 0.009999990000010001, 0.021111088765455817, 0.05595230151655443, 0.21908703538283528, 0.2182934329009901, 0.23122986518541455, 0.19682517606160427, 0.03749995312505859, 0.0, 0.009999990000010001, 0.0, 0.0], [0.0, 0.0, 0.0, 0.0, 0.0, 0.0, 0.0, 0.0, 0.0, 0.0, 0.0, 0.0, 0.0, 0.0, 0.0, 0.0], [0.0, 0.0, 0.0, 0.0, 0.0, 0.0, 0.0, 0.0, 0.0, 0.0, 0.0, 0.0, 0.0, 0.0, 0.0, 0.0], [0.0, 0.0, 0.0, 0.0, 0.0, 0.0, 0.0, 0.0, 0.0, 0.0, 0.0, 0.0, 0.0, 0.0, 0.0, 0.0], [0.0, 0.0, 0.0, 0.0, 0.0, 0.0, 0.0, 0.0, 0.0, 0.0, 0.0, 0.0, 0.0, 0.0, 0.0, 0.0], [0.0, 0.0, 0.0, 0.0, 0.0, 0.0, 0.0, 0.0, 0.0, 0.0, 0.0, 0.0, 0.0, 0.0, 0.0, 0.0], [0.0, 0.0, 0.0, 0.0, 0.0, 0.0, 0.0, 0.0, 0.0, 0.0, 0.0, 0.0, 0.0, 0.0, 0.0, 0.0]]}], {\"paper_bgcolor\": \"#000\", \"titlefont\": {\"color\": \"#FFF\"}, \"yaxis\": {\"dtick\": 1, \"title\": \"True Class\", \"tickcolor\": \"#FFF\", \"range\": [9.5, 0.5]}, \"xaxis\": {\"dtick\": 1, \"title\": \"Predicted Class\", \"tickcolor\": \"#FFF\", \"range\": [0.5, 15.5]}, \"font\": {\"color\": \"#FFF\"}, \"plot_bgcolor\": \"#000\", \"height\": 500, \"title\": \"Choice after 1500000 Iterations\", \"width\": 500}, {\"linkText\": \"Export to plot.ly\", \"showLink\": true})});</script>"
      ],
      "text/vnd.plotly.v1+html": [
       "<div id=\"cd7bbc6b-1eed-4a85-a154-5f3140fd63e3\" style=\"height: 500px; width: 500px;\" class=\"plotly-graph-div\"></div><script type=\"text/javascript\">require([\"plotly\"], function(Plotly) { window.PLOTLYENV=window.PLOTLYENV || {};window.PLOTLYENV.BASE_URL=\"https://plot.ly\";Plotly.newPlot(\"cd7bbc6b-1eed-4a85-a154-5f3140fd63e3\", [{\"colorscale\": \"Jet\", \"type\": \"heatmap\", \"z\": [[0.0, 0.0, 0.0, 0.0, 0.0, 0.0, 0.0, 0.0, 0.0, 0.0, 0.0, 0.0, 0.0, 0.0, 0.0, 0.0], [0.0, 0.9999991193407846, 0.0, 0.0, 0.0, 0.0, 0.0, 0.0, 0.0, 0.0, 0.0, 0.0, 0.0, 0.0, 0.0, 0.0], [0.0, 0.04678566436372082, 0.8776344637829506, 0.07557892439761302, 0.0, 0.0, 0.0, 0.0, 0.0, 0.0, 0.0, 0.0, 0.0, 0.0, 0.0, 0.0], [0.0, 0.0, 0.1400248269513758, 0.7999307913868632, 0.03666661277786935, 0.014285693877580174, 0.009090900826453795, 0.0, 0.0, 0.0, 0.0, 0.0, 0.0, 0.0, 0.0, 0.0], [0.0, 0.0, 0.016993448246416708, 0.24316453562500379, 0.5242331079328091, 0.1734322709054138, 0.021223246401177127, 0.020952356099805357, 0.0, 0.0, 0.0, 0.0, 0.0, 0.0, 0.0, 0.0], [0.0, 0.0, 0.005882349480970894, 0.06482899870467547, 0.35997385363601253, 0.3302398949027345, 0.1857757027915815, 0.043298330643408545, 0.009999990000010001, 0.0, 0.0, 0.0, 0.0, 0.0, 0.0, 0.0], [0.0, 0.0, 0.0, 0.0071428520408199705, 0.07324128694027912, 0.3202053413107227, 0.268672209240975, 0.21619569224163251, 0.06157461978751, 0.03478532207454672, 0.01818180165290759, 0.0, 0.0, 0.0, 0.0, 0.0], [0.0, 0.0, 0.0, 0.0, 0.018859636638205075, 0.16618520415278287, 0.25151131825957684, 0.27352812764287915, 0.2225252054044377, 0.02481200412689057, 0.04257755268855054, 0.0, 0.0, 0.0, 0.0, 0.0], [0.0, 0.0, 0.0, 0.0, 0.008333326388894677, 0.04594983975441516, 0.15742991996745437, 0.24385177392818633, 0.2831582643282001, 0.1707749102693608, 0.090501080457529, 0.0, 0.0, 0.0, 0.0, 0.0], [0.0, 0.0, 0.0, 0.0, 0.009999990000010001, 0.021111088765455817, 0.05595230151655443, 0.21908703538283528, 0.2182934329009901, 0.23122986518541455, 0.19682517606160427, 0.03749995312505859, 0.0, 0.009999990000010001, 0.0, 0.0], [0.0, 0.0, 0.0, 0.0, 0.0, 0.0, 0.0, 0.0, 0.0, 0.0, 0.0, 0.0, 0.0, 0.0, 0.0, 0.0], [0.0, 0.0, 0.0, 0.0, 0.0, 0.0, 0.0, 0.0, 0.0, 0.0, 0.0, 0.0, 0.0, 0.0, 0.0, 0.0], [0.0, 0.0, 0.0, 0.0, 0.0, 0.0, 0.0, 0.0, 0.0, 0.0, 0.0, 0.0, 0.0, 0.0, 0.0, 0.0], [0.0, 0.0, 0.0, 0.0, 0.0, 0.0, 0.0, 0.0, 0.0, 0.0, 0.0, 0.0, 0.0, 0.0, 0.0, 0.0], [0.0, 0.0, 0.0, 0.0, 0.0, 0.0, 0.0, 0.0, 0.0, 0.0, 0.0, 0.0, 0.0, 0.0, 0.0, 0.0], [0.0, 0.0, 0.0, 0.0, 0.0, 0.0, 0.0, 0.0, 0.0, 0.0, 0.0, 0.0, 0.0, 0.0, 0.0, 0.0]]}], {\"paper_bgcolor\": \"#000\", \"titlefont\": {\"color\": \"#FFF\"}, \"yaxis\": {\"dtick\": 1, \"title\": \"True Class\", \"tickcolor\": \"#FFF\", \"range\": [9.5, 0.5]}, \"xaxis\": {\"dtick\": 1, \"title\": \"Predicted Class\", \"tickcolor\": \"#FFF\", \"range\": [0.5, 15.5]}, \"font\": {\"color\": \"#FFF\"}, \"plot_bgcolor\": \"#000\", \"height\": 500, \"title\": \"Choice after 1500000 Iterations\", \"width\": 500}, {\"linkText\": \"Export to plot.ly\", \"showLink\": true})});</script>"
      ]
     },
     "metadata": {},
     "output_type": "display_data"
    },
    {
     "data": {
      "application/vnd.plotly.v1+json": {
       "data": [
        {
         "colorscale": "Jet",
         "type": "heatmap",
         "z": [
          [
           0,
           0,
           0,
           0,
           0,
           0,
           0,
           0,
           0,
           0,
           0,
           0,
           0,
           0,
           0,
           0
          ],
          [
           0,
           0.9999990630739362,
           0,
           0,
           0,
           0,
           0,
           0,
           0,
           0,
           0,
           0,
           0,
           0,
           0,
           0
          ],
          [
           0,
           0.03772335862104876,
           0.886456176420394,
           0.07026412427133401,
           0.005555552469137517,
           0,
           0,
           0,
           0,
           0,
           0,
           0,
           0,
           0,
           0,
           0
          ],
          [
           0,
           0,
           0.19710403388550427,
           0.6427870298011935,
           0.14130436992606735,
           0,
           0.018803400540598297,
           0,
           0,
           0,
           0,
           0,
           0,
           0,
           0,
           0
          ],
          [
           0,
           0,
           0.012499984375019531,
           0.20872492549671592,
           0.5778604703855854,
           0.18515600513293357,
           0.01575756304867898,
           0,
           0,
           0,
           0,
           0,
           0,
           0,
           0,
           0
          ],
          [
           0,
           0,
           0.005882349480970894,
           0.08969252381354544,
           0.2756330736607199,
           0.3523091007717818,
           0.19495278142661882,
           0.07383692263625971,
           0.007692301775152481,
           0,
           0,
           0,
           0,
           0,
           0,
           0
          ],
          [
           0,
           0,
           0,
           0.01945700073709427,
           0.07631035608607808,
           0.21922341022065614,
           0.37724304216819177,
           0.20113751923551723,
           0.049625034095655336,
           0.03605039304359173,
           0.014285693877580174,
           0.006666662222225185,
           0,
           0,
           0,
           0
          ],
          [
           0,
           0,
           0,
           0,
           0.02211610234824466,
           0.09336025643081643,
           0.23582247521539418,
           0.32669845552986526,
           0.1483227410803174,
           0.12033178193872976,
           0.014973250307424687,
           0.03068178602792712,
           0.007692301775152481,
           0,
           0,
           0
          ],
          [
           0,
           0,
           0,
           0,
           0.023025191521800863,
           0.022499974375029534,
           0.10614835705191003,
           0.2455312371916741,
           0.24377375124225548,
           0.22442032805465656,
           0.06621788431424917,
           0.06838228177271352,
           0,
           0,
           0,
           0
          ],
          [
           0,
           0,
           0,
           0,
           0,
           0.022619020266474853,
           0.0642856244332399,
           0.1823157823225433,
           0.17664480951515865,
           0.25347373483290225,
           0.22262961682064616,
           0.03409086957649286,
           0.04393934136829657,
           0,
           0,
           0
          ],
          [
           0,
           0,
           0,
           0,
           0,
           0,
           0,
           0,
           0,
           0,
           0,
           0,
           0,
           0,
           0,
           0
          ],
          [
           0,
           0,
           0,
           0,
           0,
           0,
           0,
           0,
           0,
           0,
           0,
           0,
           0,
           0,
           0,
           0
          ],
          [
           0,
           0,
           0,
           0,
           0,
           0,
           0,
           0,
           0,
           0,
           0,
           0,
           0,
           0,
           0,
           0
          ],
          [
           0,
           0,
           0,
           0,
           0,
           0,
           0,
           0,
           0,
           0,
           0,
           0,
           0,
           0,
           0,
           0
          ],
          [
           0,
           0,
           0,
           0,
           0,
           0,
           0,
           0,
           0,
           0,
           0,
           0,
           0,
           0,
           0,
           0
          ],
          [
           0,
           0,
           0,
           0,
           0,
           0,
           0,
           0,
           0,
           0,
           0,
           0,
           0,
           0,
           0,
           0
          ]
         ]
        }
       ],
       "layout": {
        "font": {
         "color": "#FFF"
        },
        "height": 500,
        "paper_bgcolor": "#000",
        "plot_bgcolor": "#000",
        "title": "Choice after 2000000 Iterations",
        "titlefont": {
         "color": "#FFF"
        },
        "width": 500,
        "xaxis": {
         "dtick": 1,
         "range": [
          0.5,
          15.5
         ],
         "tickcolor": "#FFF",
         "title": "Predicted Class"
        },
        "yaxis": {
         "dtick": 1,
         "range": [
          9.5,
          0.5
         ],
         "tickcolor": "#FFF",
         "title": "True Class"
        }
       }
      },
      "text/html": [
       "<div id=\"ed72f6f9-3ce7-47d7-be26-a4d633f9381c\" style=\"height: 500px; width: 500px;\" class=\"plotly-graph-div\"></div><script type=\"text/javascript\">require([\"plotly\"], function(Plotly) { window.PLOTLYENV=window.PLOTLYENV || {};window.PLOTLYENV.BASE_URL=\"https://plot.ly\";Plotly.newPlot(\"ed72f6f9-3ce7-47d7-be26-a4d633f9381c\", [{\"colorscale\": \"Jet\", \"type\": \"heatmap\", \"z\": [[0.0, 0.0, 0.0, 0.0, 0.0, 0.0, 0.0, 0.0, 0.0, 0.0, 0.0, 0.0, 0.0, 0.0, 0.0, 0.0], [0.0, 0.9999990630739362, 0.0, 0.0, 0.0, 0.0, 0.0, 0.0, 0.0, 0.0, 0.0, 0.0, 0.0, 0.0, 0.0, 0.0], [0.0, 0.03772335862104876, 0.886456176420394, 0.07026412427133401, 0.005555552469137517, 0.0, 0.0, 0.0, 0.0, 0.0, 0.0, 0.0, 0.0, 0.0, 0.0, 0.0], [0.0, 0.0, 0.19710403388550427, 0.6427870298011935, 0.14130436992606735, 0.0, 0.018803400540598297, 0.0, 0.0, 0.0, 0.0, 0.0, 0.0, 0.0, 0.0, 0.0], [0.0, 0.0, 0.012499984375019531, 0.20872492549671592, 0.5778604703855854, 0.18515600513293357, 0.01575756304867898, 0.0, 0.0, 0.0, 0.0, 0.0, 0.0, 0.0, 0.0, 0.0], [0.0, 0.0, 0.005882349480970894, 0.08969252381354544, 0.2756330736607199, 0.3523091007717818, 0.19495278142661882, 0.07383692263625971, 0.007692301775152481, 0.0, 0.0, 0.0, 0.0, 0.0, 0.0, 0.0], [0.0, 0.0, 0.0, 0.01945700073709427, 0.07631035608607808, 0.21922341022065614, 0.37724304216819177, 0.20113751923551723, 0.049625034095655336, 0.03605039304359173, 0.014285693877580174, 0.006666662222225185, 0.0, 0.0, 0.0, 0.0], [0.0, 0.0, 0.0, 0.0, 0.02211610234824466, 0.09336025643081643, 0.23582247521539418, 0.32669845552986526, 0.1483227410803174, 0.12033178193872976, 0.014973250307424687, 0.03068178602792712, 0.007692301775152481, 0.0, 0.0, 0.0], [0.0, 0.0, 0.0, 0.0, 0.023025191521800863, 0.022499974375029534, 0.10614835705191003, 0.2455312371916741, 0.24377375124225548, 0.22442032805465656, 0.06621788431424917, 0.06838228177271352, 0.0, 0.0, 0.0, 0.0], [0.0, 0.0, 0.0, 0.0, 0.0, 0.022619020266474853, 0.0642856244332399, 0.1823157823225433, 0.17664480951515865, 0.25347373483290225, 0.22262961682064616, 0.03409086957649286, 0.04393934136829657, 0.0, 0.0, 0.0], [0.0, 0.0, 0.0, 0.0, 0.0, 0.0, 0.0, 0.0, 0.0, 0.0, 0.0, 0.0, 0.0, 0.0, 0.0, 0.0], [0.0, 0.0, 0.0, 0.0, 0.0, 0.0, 0.0, 0.0, 0.0, 0.0, 0.0, 0.0, 0.0, 0.0, 0.0, 0.0], [0.0, 0.0, 0.0, 0.0, 0.0, 0.0, 0.0, 0.0, 0.0, 0.0, 0.0, 0.0, 0.0, 0.0, 0.0, 0.0], [0.0, 0.0, 0.0, 0.0, 0.0, 0.0, 0.0, 0.0, 0.0, 0.0, 0.0, 0.0, 0.0, 0.0, 0.0, 0.0], [0.0, 0.0, 0.0, 0.0, 0.0, 0.0, 0.0, 0.0, 0.0, 0.0, 0.0, 0.0, 0.0, 0.0, 0.0, 0.0], [0.0, 0.0, 0.0, 0.0, 0.0, 0.0, 0.0, 0.0, 0.0, 0.0, 0.0, 0.0, 0.0, 0.0, 0.0, 0.0]]}], {\"paper_bgcolor\": \"#000\", \"titlefont\": {\"color\": \"#FFF\"}, \"yaxis\": {\"dtick\": 1, \"title\": \"True Class\", \"tickcolor\": \"#FFF\", \"range\": [9.5, 0.5]}, \"xaxis\": {\"dtick\": 1, \"title\": \"Predicted Class\", \"tickcolor\": \"#FFF\", \"range\": [0.5, 15.5]}, \"font\": {\"color\": \"#FFF\"}, \"plot_bgcolor\": \"#000\", \"height\": 500, \"title\": \"Choice after 2000000 Iterations\", \"width\": 500}, {\"linkText\": \"Export to plot.ly\", \"showLink\": true})});</script>"
      ],
      "text/vnd.plotly.v1+html": [
       "<div id=\"ed72f6f9-3ce7-47d7-be26-a4d633f9381c\" style=\"height: 500px; width: 500px;\" class=\"plotly-graph-div\"></div><script type=\"text/javascript\">require([\"plotly\"], function(Plotly) { window.PLOTLYENV=window.PLOTLYENV || {};window.PLOTLYENV.BASE_URL=\"https://plot.ly\";Plotly.newPlot(\"ed72f6f9-3ce7-47d7-be26-a4d633f9381c\", [{\"colorscale\": \"Jet\", \"type\": \"heatmap\", \"z\": [[0.0, 0.0, 0.0, 0.0, 0.0, 0.0, 0.0, 0.0, 0.0, 0.0, 0.0, 0.0, 0.0, 0.0, 0.0, 0.0], [0.0, 0.9999990630739362, 0.0, 0.0, 0.0, 0.0, 0.0, 0.0, 0.0, 0.0, 0.0, 0.0, 0.0, 0.0, 0.0, 0.0], [0.0, 0.03772335862104876, 0.886456176420394, 0.07026412427133401, 0.005555552469137517, 0.0, 0.0, 0.0, 0.0, 0.0, 0.0, 0.0, 0.0, 0.0, 0.0, 0.0], [0.0, 0.0, 0.19710403388550427, 0.6427870298011935, 0.14130436992606735, 0.0, 0.018803400540598297, 0.0, 0.0, 0.0, 0.0, 0.0, 0.0, 0.0, 0.0, 0.0], [0.0, 0.0, 0.012499984375019531, 0.20872492549671592, 0.5778604703855854, 0.18515600513293357, 0.01575756304867898, 0.0, 0.0, 0.0, 0.0, 0.0, 0.0, 0.0, 0.0, 0.0], [0.0, 0.0, 0.005882349480970894, 0.08969252381354544, 0.2756330736607199, 0.3523091007717818, 0.19495278142661882, 0.07383692263625971, 0.007692301775152481, 0.0, 0.0, 0.0, 0.0, 0.0, 0.0, 0.0], [0.0, 0.0, 0.0, 0.01945700073709427, 0.07631035608607808, 0.21922341022065614, 0.37724304216819177, 0.20113751923551723, 0.049625034095655336, 0.03605039304359173, 0.014285693877580174, 0.006666662222225185, 0.0, 0.0, 0.0, 0.0], [0.0, 0.0, 0.0, 0.0, 0.02211610234824466, 0.09336025643081643, 0.23582247521539418, 0.32669845552986526, 0.1483227410803174, 0.12033178193872976, 0.014973250307424687, 0.03068178602792712, 0.007692301775152481, 0.0, 0.0, 0.0], [0.0, 0.0, 0.0, 0.0, 0.023025191521800863, 0.022499974375029534, 0.10614835705191003, 0.2455312371916741, 0.24377375124225548, 0.22442032805465656, 0.06621788431424917, 0.06838228177271352, 0.0, 0.0, 0.0, 0.0], [0.0, 0.0, 0.0, 0.0, 0.0, 0.022619020266474853, 0.0642856244332399, 0.1823157823225433, 0.17664480951515865, 0.25347373483290225, 0.22262961682064616, 0.03409086957649286, 0.04393934136829657, 0.0, 0.0, 0.0], [0.0, 0.0, 0.0, 0.0, 0.0, 0.0, 0.0, 0.0, 0.0, 0.0, 0.0, 0.0, 0.0, 0.0, 0.0, 0.0], [0.0, 0.0, 0.0, 0.0, 0.0, 0.0, 0.0, 0.0, 0.0, 0.0, 0.0, 0.0, 0.0, 0.0, 0.0, 0.0], [0.0, 0.0, 0.0, 0.0, 0.0, 0.0, 0.0, 0.0, 0.0, 0.0, 0.0, 0.0, 0.0, 0.0, 0.0, 0.0], [0.0, 0.0, 0.0, 0.0, 0.0, 0.0, 0.0, 0.0, 0.0, 0.0, 0.0, 0.0, 0.0, 0.0, 0.0, 0.0], [0.0, 0.0, 0.0, 0.0, 0.0, 0.0, 0.0, 0.0, 0.0, 0.0, 0.0, 0.0, 0.0, 0.0, 0.0, 0.0], [0.0, 0.0, 0.0, 0.0, 0.0, 0.0, 0.0, 0.0, 0.0, 0.0, 0.0, 0.0, 0.0, 0.0, 0.0, 0.0]]}], {\"paper_bgcolor\": \"#000\", \"titlefont\": {\"color\": \"#FFF\"}, \"yaxis\": {\"dtick\": 1, \"title\": \"True Class\", \"tickcolor\": \"#FFF\", \"range\": [9.5, 0.5]}, \"xaxis\": {\"dtick\": 1, \"title\": \"Predicted Class\", \"tickcolor\": \"#FFF\", \"range\": [0.5, 15.5]}, \"font\": {\"color\": \"#FFF\"}, \"plot_bgcolor\": \"#000\", \"height\": 500, \"title\": \"Choice after 2000000 Iterations\", \"width\": 500}, {\"linkText\": \"Export to plot.ly\", \"showLink\": true})});</script>"
      ]
     },
     "metadata": {},
     "output_type": "display_data"
    },
    {
     "data": {
      "application/vnd.plotly.v1+json": {
       "data": [
        {
         "colorscale": "Jet",
         "type": "heatmap",
         "z": [
          [
           0,
           0,
           0,
           0,
           0,
           0,
           0,
           0,
           0,
           0,
           0,
           0,
           0,
           0,
           0,
           0
          ],
          [
           0,
           0.9999989390732649,
           0,
           0,
           0,
           0,
           0,
           0,
           0,
           0,
           0,
           0,
           0,
           0,
           0,
           0
          ],
          [
           0,
           0.043578604499993345,
           0.8814494225875604,
           0.07497106843997767,
           0,
           0,
           0,
           0,
           0,
           0,
           0,
           0,
           0,
           0,
           0,
           0
          ],
          [
           0,
           0,
           0.14818167220860287,
           0.6671205353829779,
           0.15469682316704017,
           0.019999980000020002,
           0.009999990000010001,
           0,
           0,
           0,
           0,
           0,
           0,
           0,
           0,
           0
          ],
          [
           0,
           0,
           0.04558908899725777,
           0.24310526497803728,
           0.5699880762316967,
           0.13222567573860794,
           0,
           0.009090900826453795,
           0,
           0,
           0,
           0,
           0,
           0,
           0,
           0
          ],
          [
           0,
           0,
           0.008333326388894677,
           0.07733018736698304,
           0.2526652352601543,
           0.4698038318245346,
           0.1747237193179677,
           0.01714284204082997,
           0,
           0,
           0,
           0,
           0,
           0,
           0,
           0
          ],
          [
           0,
           0,
           0,
           0.022619030470534617,
           0.029292900418353408,
           0.3296893758091948,
           0.3866518707204493,
           0.1462480598264905,
           0.06212115691005833,
           0.023376604908093734,
           0,
           0,
           0,
           0,
           0,
           0
          ],
          [
           0,
           0,
           0,
           0.009999990000010001,
           0.007692301775152481,
           0.09782043259539827,
           0.27961511610098616,
           0.34358936793713907,
           0.08752128964650197,
           0.10717939798166606,
           0.03602558816412717,
           0.03055552391978631,
           0,
           0,
           0,
           0
          ],
          [
           0,
           0,
           0,
           0,
           0.007692301775152481,
           0.058791155325497536,
           0.12590398458092872,
           0.35472830064050986,
           0.1596901397355142,
           0.18783863330752776,
           0.06623369674489403,
           0.03197799585680242,
           0.0071428520408199705,
           0,
           0,
           0
          ],
          [
           0,
           0,
           0,
           0,
           0,
           0.006249996093752441,
           0.07007262891311582,
           0.20860894614608352,
           0.1719248312583784,
           0.35456588503957837,
           0.08330314015618946,
           0.06617588355033971,
           0.03909769800447074,
           0,
           0,
           0
          ],
          [
           0,
           0,
           0,
           0,
           0,
           0,
           0,
           0,
           0,
           0,
           0,
           0,
           0,
           0,
           0,
           0
          ],
          [
           0,
           0,
           0,
           0,
           0,
           0,
           0,
           0,
           0,
           0,
           0,
           0,
           0,
           0,
           0,
           0
          ],
          [
           0,
           0,
           0,
           0,
           0,
           0,
           0,
           0,
           0,
           0,
           0,
           0,
           0,
           0,
           0,
           0
          ],
          [
           0,
           0,
           0,
           0,
           0,
           0,
           0,
           0,
           0,
           0,
           0,
           0,
           0,
           0,
           0,
           0
          ],
          [
           0,
           0,
           0,
           0,
           0,
           0,
           0,
           0,
           0,
           0,
           0,
           0,
           0,
           0,
           0,
           0
          ],
          [
           0,
           0,
           0,
           0,
           0,
           0,
           0,
           0,
           0,
           0,
           0,
           0,
           0,
           0,
           0,
           0
          ]
         ]
        }
       ],
       "layout": {
        "font": {
         "color": "#FFF"
        },
        "height": 500,
        "paper_bgcolor": "#000",
        "plot_bgcolor": "#000",
        "title": "Choice after 2500000 Iterations",
        "titlefont": {
         "color": "#FFF"
        },
        "width": 500,
        "xaxis": {
         "dtick": 1,
         "range": [
          0.5,
          15.5
         ],
         "tickcolor": "#FFF",
         "title": "Predicted Class"
        },
        "yaxis": {
         "dtick": 1,
         "range": [
          9.5,
          0.5
         ],
         "tickcolor": "#FFF",
         "title": "True Class"
        }
       }
      },
      "text/html": [
       "<div id=\"e80ece74-5f94-42f3-b7bd-48f6334686fd\" style=\"height: 500px; width: 500px;\" class=\"plotly-graph-div\"></div><script type=\"text/javascript\">require([\"plotly\"], function(Plotly) { window.PLOTLYENV=window.PLOTLYENV || {};window.PLOTLYENV.BASE_URL=\"https://plot.ly\";Plotly.newPlot(\"e80ece74-5f94-42f3-b7bd-48f6334686fd\", [{\"colorscale\": \"Jet\", \"type\": \"heatmap\", \"z\": [[0.0, 0.0, 0.0, 0.0, 0.0, 0.0, 0.0, 0.0, 0.0, 0.0, 0.0, 0.0, 0.0, 0.0, 0.0, 0.0], [0.0, 0.9999989390732649, 0.0, 0.0, 0.0, 0.0, 0.0, 0.0, 0.0, 0.0, 0.0, 0.0, 0.0, 0.0, 0.0, 0.0], [0.0, 0.043578604499993345, 0.8814494225875604, 0.07497106843997767, 0.0, 0.0, 0.0, 0.0, 0.0, 0.0, 0.0, 0.0, 0.0, 0.0, 0.0, 0.0], [0.0, 0.0, 0.14818167220860287, 0.6671205353829779, 0.15469682316704017, 0.019999980000020002, 0.009999990000010001, 0.0, 0.0, 0.0, 0.0, 0.0, 0.0, 0.0, 0.0, 0.0], [0.0, 0.0, 0.04558908899725777, 0.24310526497803728, 0.5699880762316967, 0.13222567573860794, 0.0, 0.009090900826453795, 0.0, 0.0, 0.0, 0.0, 0.0, 0.0, 0.0, 0.0], [0.0, 0.0, 0.008333326388894677, 0.07733018736698304, 0.2526652352601543, 0.4698038318245346, 0.1747237193179677, 0.01714284204082997, 0.0, 0.0, 0.0, 0.0, 0.0, 0.0, 0.0, 0.0], [0.0, 0.0, 0.0, 0.022619030470534617, 0.029292900418353408, 0.3296893758091948, 0.3866518707204493, 0.1462480598264905, 0.06212115691005833, 0.023376604908093734, 0.0, 0.0, 0.0, 0.0, 0.0, 0.0], [0.0, 0.0, 0.0, 0.009999990000010001, 0.007692301775152481, 0.09782043259539827, 0.27961511610098616, 0.34358936793713907, 0.08752128964650197, 0.10717939798166606, 0.03602558816412717, 0.03055552391978631, 0.0, 0.0, 0.0, 0.0], [0.0, 0.0, 0.0, 0.0, 0.007692301775152481, 0.058791155325497536, 0.12590398458092872, 0.35472830064050986, 0.1596901397355142, 0.18783863330752776, 0.06623369674489403, 0.03197799585680242, 0.0071428520408199705, 0.0, 0.0, 0.0], [0.0, 0.0, 0.0, 0.0, 0.0, 0.006249996093752441, 0.07007262891311582, 0.20860894614608352, 0.1719248312583784, 0.35456588503957837, 0.08330314015618946, 0.06617588355033971, 0.03909769800447074, 0.0, 0.0, 0.0], [0.0, 0.0, 0.0, 0.0, 0.0, 0.0, 0.0, 0.0, 0.0, 0.0, 0.0, 0.0, 0.0, 0.0, 0.0, 0.0], [0.0, 0.0, 0.0, 0.0, 0.0, 0.0, 0.0, 0.0, 0.0, 0.0, 0.0, 0.0, 0.0, 0.0, 0.0, 0.0], [0.0, 0.0, 0.0, 0.0, 0.0, 0.0, 0.0, 0.0, 0.0, 0.0, 0.0, 0.0, 0.0, 0.0, 0.0, 0.0], [0.0, 0.0, 0.0, 0.0, 0.0, 0.0, 0.0, 0.0, 0.0, 0.0, 0.0, 0.0, 0.0, 0.0, 0.0, 0.0], [0.0, 0.0, 0.0, 0.0, 0.0, 0.0, 0.0, 0.0, 0.0, 0.0, 0.0, 0.0, 0.0, 0.0, 0.0, 0.0], [0.0, 0.0, 0.0, 0.0, 0.0, 0.0, 0.0, 0.0, 0.0, 0.0, 0.0, 0.0, 0.0, 0.0, 0.0, 0.0]]}], {\"paper_bgcolor\": \"#000\", \"titlefont\": {\"color\": \"#FFF\"}, \"yaxis\": {\"dtick\": 1, \"title\": \"True Class\", \"tickcolor\": \"#FFF\", \"range\": [9.5, 0.5]}, \"xaxis\": {\"dtick\": 1, \"title\": \"Predicted Class\", \"tickcolor\": \"#FFF\", \"range\": [0.5, 15.5]}, \"font\": {\"color\": \"#FFF\"}, \"plot_bgcolor\": \"#000\", \"height\": 500, \"title\": \"Choice after 2500000 Iterations\", \"width\": 500}, {\"linkText\": \"Export to plot.ly\", \"showLink\": true})});</script>"
      ],
      "text/vnd.plotly.v1+html": [
       "<div id=\"e80ece74-5f94-42f3-b7bd-48f6334686fd\" style=\"height: 500px; width: 500px;\" class=\"plotly-graph-div\"></div><script type=\"text/javascript\">require([\"plotly\"], function(Plotly) { window.PLOTLYENV=window.PLOTLYENV || {};window.PLOTLYENV.BASE_URL=\"https://plot.ly\";Plotly.newPlot(\"e80ece74-5f94-42f3-b7bd-48f6334686fd\", [{\"colorscale\": \"Jet\", \"type\": \"heatmap\", \"z\": [[0.0, 0.0, 0.0, 0.0, 0.0, 0.0, 0.0, 0.0, 0.0, 0.0, 0.0, 0.0, 0.0, 0.0, 0.0, 0.0], [0.0, 0.9999989390732649, 0.0, 0.0, 0.0, 0.0, 0.0, 0.0, 0.0, 0.0, 0.0, 0.0, 0.0, 0.0, 0.0, 0.0], [0.0, 0.043578604499993345, 0.8814494225875604, 0.07497106843997767, 0.0, 0.0, 0.0, 0.0, 0.0, 0.0, 0.0, 0.0, 0.0, 0.0, 0.0, 0.0], [0.0, 0.0, 0.14818167220860287, 0.6671205353829779, 0.15469682316704017, 0.019999980000020002, 0.009999990000010001, 0.0, 0.0, 0.0, 0.0, 0.0, 0.0, 0.0, 0.0, 0.0], [0.0, 0.0, 0.04558908899725777, 0.24310526497803728, 0.5699880762316967, 0.13222567573860794, 0.0, 0.009090900826453795, 0.0, 0.0, 0.0, 0.0, 0.0, 0.0, 0.0, 0.0], [0.0, 0.0, 0.008333326388894677, 0.07733018736698304, 0.2526652352601543, 0.4698038318245346, 0.1747237193179677, 0.01714284204082997, 0.0, 0.0, 0.0, 0.0, 0.0, 0.0, 0.0, 0.0], [0.0, 0.0, 0.0, 0.022619030470534617, 0.029292900418353408, 0.3296893758091948, 0.3866518707204493, 0.1462480598264905, 0.06212115691005833, 0.023376604908093734, 0.0, 0.0, 0.0, 0.0, 0.0, 0.0], [0.0, 0.0, 0.0, 0.009999990000010001, 0.007692301775152481, 0.09782043259539827, 0.27961511610098616, 0.34358936793713907, 0.08752128964650197, 0.10717939798166606, 0.03602558816412717, 0.03055552391978631, 0.0, 0.0, 0.0, 0.0], [0.0, 0.0, 0.0, 0.0, 0.007692301775152481, 0.058791155325497536, 0.12590398458092872, 0.35472830064050986, 0.1596901397355142, 0.18783863330752776, 0.06623369674489403, 0.03197799585680242, 0.0071428520408199705, 0.0, 0.0, 0.0], [0.0, 0.0, 0.0, 0.0, 0.0, 0.006249996093752441, 0.07007262891311582, 0.20860894614608352, 0.1719248312583784, 0.35456588503957837, 0.08330314015618946, 0.06617588355033971, 0.03909769800447074, 0.0, 0.0, 0.0], [0.0, 0.0, 0.0, 0.0, 0.0, 0.0, 0.0, 0.0, 0.0, 0.0, 0.0, 0.0, 0.0, 0.0, 0.0, 0.0], [0.0, 0.0, 0.0, 0.0, 0.0, 0.0, 0.0, 0.0, 0.0, 0.0, 0.0, 0.0, 0.0, 0.0, 0.0, 0.0], [0.0, 0.0, 0.0, 0.0, 0.0, 0.0, 0.0, 0.0, 0.0, 0.0, 0.0, 0.0, 0.0, 0.0, 0.0, 0.0], [0.0, 0.0, 0.0, 0.0, 0.0, 0.0, 0.0, 0.0, 0.0, 0.0, 0.0, 0.0, 0.0, 0.0, 0.0, 0.0], [0.0, 0.0, 0.0, 0.0, 0.0, 0.0, 0.0, 0.0, 0.0, 0.0, 0.0, 0.0, 0.0, 0.0, 0.0, 0.0], [0.0, 0.0, 0.0, 0.0, 0.0, 0.0, 0.0, 0.0, 0.0, 0.0, 0.0, 0.0, 0.0, 0.0, 0.0, 0.0]]}], {\"paper_bgcolor\": \"#000\", \"titlefont\": {\"color\": \"#FFF\"}, \"yaxis\": {\"dtick\": 1, \"title\": \"True Class\", \"tickcolor\": \"#FFF\", \"range\": [9.5, 0.5]}, \"xaxis\": {\"dtick\": 1, \"title\": \"Predicted Class\", \"tickcolor\": \"#FFF\", \"range\": [0.5, 15.5]}, \"font\": {\"color\": \"#FFF\"}, \"plot_bgcolor\": \"#000\", \"height\": 500, \"title\": \"Choice after 2500000 Iterations\", \"width\": 500}, {\"linkText\": \"Export to plot.ly\", \"showLink\": true})});</script>"
      ]
     },
     "metadata": {},
     "output_type": "display_data"
    }
   ],
   "source": [
    "for i, it in enumerate(iter_list):\n",
    "    #ot_confidence(i, it)\n",
    "    plot_choice(i, it)"
   ]
  },
  {
   "cell_type": "code",
   "execution_count": 9,
   "metadata": {},
   "outputs": [],
   "source": [
    "np.save(data_directory + \"confidence_hist\", confidence_all_runs)\n",
    "np.save(data_directory + \"choice_hist\", choice_all_runs)"
   ]
  },
  {
   "cell_type": "code",
   "execution_count": 10,
   "metadata": {
    "collapsed": true
   },
   "outputs": [],
   "source": [
    "confidence_hist = np.load(data_directory + \"confidence_hist.npy\")\n",
    "choice_hist = np.load(data_directory + \"choice_hist.npy\")"
   ]
  },
  {
   "cell_type": "code",
   "execution_count": 11,
   "metadata": {
    "collapsed": true
   },
   "outputs": [],
   "source": [
    "def get_msdcv(hist_matrix):\n",
    "    \"\"\"Get the mean, standard deviation, and coefficient of variation matrices from histogram matrix.\"\"\"\n",
    "    \n",
    "    msdcv = np.zeros([num_runs, num_iters, output_size, 3])\n",
    "    \n",
    "    for run in range(num_runs):\n",
    "        for i, it in enumerate(iter_list):\n",
    "            for t in range(output_size):\n",
    "                values_sum = 0\n",
    "                sqr_sum = 0\n",
    "\n",
    "                # Find the mean\n",
    "                for p in range(output_size):\n",
    "                    values_sum += (p + 1) * hist_matrix[run, i, t, p]\n",
    "                msdcv[run, i, t, 0] = mu = values_sum\n",
    "\n",
    "                # Find the standard deviation\n",
    "                for p in range(output_size):\n",
    "                    sqr_sum += (p + 1 - mu)**2 * hist_matrix[run, i, t, p]\n",
    "                msdcv[run, i, t, 1] = sigma = np.sqrt(sqr_sum)\n",
    "\n",
    "                # Find the coefficient of variation\n",
    "                msdcv[run, i, t, 2] = cv = sigma / mu\n",
    "    return msdcv"
   ]
  },
  {
   "cell_type": "code",
   "execution_count": 12,
   "metadata": {
    "collapsed": true
   },
   "outputs": [],
   "source": [
    "confidence_msdcv = get_msdcv(confidence_hist)\n",
    "choice_msdcv = get_msdcv(choice_hist)"
   ]
  },
  {
   "cell_type": "code",
   "execution_count": 13,
   "metadata": {
    "collapsed": true
   },
   "outputs": [],
   "source": [
    "np.save(data_directory + \"confidence_msdcv\", confidence_msdcv)\n",
    "np.save(data_directory + \"choice_msdcv\", choice_msdcv)"
   ]
  },
  {
   "cell_type": "markdown",
   "metadata": {},
   "source": [
    "## Visualize Mean, Standard Deviation, and Coefficient of Variation"
   ]
  },
  {
   "cell_type": "code",
   "execution_count": 14,
   "metadata": {},
   "outputs": [],
   "source": [
    "# chist = np.load(data_directory + \"confidence_hist.npy\")\n",
    "# cm = np.load(data_directory + \"confidence_msdv.npy\")\n",
    "chist = np.load(data_directory + \"choice_hist.npy\") # chist[run, i, output_size, output_size]\n",
    "cm = np.load(data_directory + \"choice_msdcv.npy\") # cm[run, i ,t ,3]\n",
    "cmus = cm[:,:,0:9,0] # mean\n",
    "csds = cm[:,:,0:9,1] # sd\n",
    "ccvs = cm[:,:,0:9,2] # cv"
   ]
  },
  {
   "cell_type": "code",
   "execution_count": 15,
   "metadata": {},
   "outputs": [],
   "source": [
    "chist_mu = np.mean(chist,axis=0)\n",
    "chist_min = np.min(chist,axis=0)\n",
    "chist_max = np.max(chist,axis=0)\n",
    "cmus_mu = np.mean(cmus,axis=0)\n",
    "cmus_min = np.min(cmus,axis=0)\n",
    "cmus_max = np.max(cmus,axis=0)\n",
    "csds_mu = np.mean(csds,axis=0)\n",
    "csds_min = np.min(csds,axis=0)\n",
    "csds_max = np.max(csds,axis=0)\n",
    "ccvs_mu = np.mean(ccvs,axis=0)\n",
    "ccvs_min = np.min(ccvs,axis=0)\n",
    "ccvs_max = np.max(ccvs,axis=0)"
   ]
  },
  {
   "cell_type": "code",
   "execution_count": 16,
   "metadata": {
    "collapsed": true
   },
   "outputs": [],
   "source": [
    "# baseline\n",
    "x = [1,2,3,4,5,6,7,8,9]\n",
    "rf = np.divide(1,np.square(x)) # 1/(x^2)\n",
    "d = np.sum(rf)\n",
    "f = np.divide(rf,d)"
   ]
  },
  {
   "cell_type": "code",
   "execution_count": 17,
   "metadata": {},
   "outputs": [],
   "source": [
    "def plot_hists(i_ind):\n",
    "    mumat = chist_mu[i_ind,:,0:9]\n",
    "    minmat = chist_min[i_ind,:,0:9]\n",
    "    maxmat = chist_max[i_ind,:,0:9]\n",
    "    fig, ax = plt.subplots(9,1,sharex=True, sharey=True,figsize=(5,10))\n",
    "    x = [1,2,3,4,5,6,7,8,9]\n",
    "    fig.tight_layout()\n",
    "    plt.xticks([1,2,3,4,5,6,7,8,9])\n",
    "    tstr = 'I = ' + str(iter_list[i_ind])\n",
    "    ax[0].set_title(tstr)\n",
    "    for i in range(9):\n",
    "        ax[i].plot(x,mumat[i,:],'k-')\n",
    "        ax[i].fill_between(x,minmat[i,:],maxmat[i,:], facecolor='orange')\n",
    "        ax[i].plot(x,f)\n",
    "    plt.show()"
   ]
  },
  {
   "cell_type": "code",
   "execution_count": 18,
   "metadata": {
    "collapsed": true,
    "scrolled": false
   },
   "outputs": [],
   "source": [
    "def plot_one_hist(run,i_ind):\n",
    "    mumat = chist[run,i_ind,:,0:9]\n",
    "    fig, ax = plt.subplots(9,1,sharex=True, sharey=True,figsize=(5,10))\n",
    "    x = [1,2,3,4,5,6,7,8,9]\n",
    "    fig.tight_layout()\n",
    "    plt.xticks([1,2,3,4,5,6,7,8,9])\n",
    "    tstr = 'I = ' + str(iter_list[i_ind])\n",
    "    ax[0].set_title(tstr)\n",
    "    for i in range(9):\n",
    "        ax[i].plot(x,mumat[i,:],'k-')\n",
    "    plt.show()"
   ]
  },
  {
   "cell_type": "code",
   "execution_count": 19,
   "metadata": {},
   "outputs": [
    {
     "data": {
      "image/png": "[encoded data removed]",
      "text/plain": [
       "<matplotlib.figure.Figure at 0x7f1b882ec470>"
      ]
     },
     "metadata": {},
     "output_type": "display_data"
    }
   ],
   "source": [
    "plot_one_hist(0,2)"
   ]
  },
  {
   "cell_type": "code",
   "execution_count": 20,
   "metadata": {},
   "outputs": [
    {
     "data": {
      "image/png": "[encoded data removed]",
      "text/plain": [
       "<matplotlib.figure.Figure at 0x7f1b8414aba8>"
      ]
     },
     "metadata": {},
     "output_type": "display_data"
    }
   ],
   "source": [
    "plot_hists(0)"
   ]
  },
  {
   "cell_type": "code",
   "execution_count": 21,
   "metadata": {},
   "outputs": [
    {
     "data": {
      "image/png": "[encoded data removed]",
      "text/plain": [
       "<matplotlib.figure.Figure at 0x7f1b580e1390>"
      ]
     },
     "metadata": {},
     "output_type": "display_data"
    }
   ],
   "source": [
    "plot_hists(1)"
   ]
  },
  {
   "cell_type": "code",
   "execution_count": 22,
   "metadata": {},
   "outputs": [
    {
     "data": {
      "image/png": "[encoded data removed]",
      "text/plain": [
       "<matplotlib.figure.Figure at 0x7f1b8416a5c0>"
      ]
     },
     "metadata": {},
     "output_type": "display_data"
    }
   ],
   "source": [
    "plot_hists(3)"
   ]
  },
  {
   "cell_type": "code",
   "execution_count": 23,
   "metadata": {},
   "outputs": [
    {
     "data": {
      "image/png": "[encoded data removed]",
      "text/plain": [
       "<matplotlib.figure.Figure at 0x7f1b843214e0>"
      ]
     },
     "metadata": {},
     "output_type": "display_data"
    }
   ],
   "source": [
    "plot_hists(8)"
   ]
  },
  {
   "cell_type": "code",
   "execution_count": 24,
   "metadata": {
    "collapsed": true
   },
   "outputs": [],
   "source": [
    "def plot_stats(smu,smin,smax):\n",
    "    fig, ax = plt.subplots(num_iters, sharex=True, sharey=True,figsize=(4,20))\n",
    "    fig.tight_layout()\n",
    "    plt.xticks([1,2,3,4,5,6,7,8,9])\n",
    "    x = [1,2,3,4,5,6,7,8,9]\n",
    "    for i in range(num_iters):\n",
    "        tstr = 'I = ' + str(iter_list[i])\n",
    "        ax[i].set_title(tstr)\n",
    "        ax[i].plot(x,smu[i,:],'k-')\n",
    "        ax[i].fill_between(x,smin[i,:],smax[i,:], facecolor='orange')\n",
    "    plt.show()"
   ]
  },
  {
   "cell_type": "code",
   "execution_count": 25,
   "metadata": {},
   "outputs": [
    {
     "data": {
      "image/png": "[encoded data removed]",
      "text/plain": [
       "<matplotlib.figure.Figure at 0x7f1b882cf668>"
      ]
     },
     "metadata": {},
     "output_type": "display_data"
    }
   ],
   "source": [
    "plot_stats(cmus_mu,cmus_min,cmus_max)"
   ]
  },
  {
   "cell_type": "code",
   "execution_count": 26,
   "metadata": {},
   "outputs": [
    {
     "data": {
      "image/png": "[encoded data removed]",
      "text/plain": [
       "<matplotlib.figure.Figure at 0x7f1b58141358>"
      ]
     },
     "metadata": {},
     "output_type": "display_data"
    }
   ],
   "source": [
    "plot_stats(csds_mu,csds_min,csds_max)"
   ]
  },
  {
   "cell_type": "code",
   "execution_count": 27,
   "metadata": {},
   "outputs": [
    {
     "data": {
      "image/png": "[encoded data removed]",
      "text/plain": [
       "<matplotlib.figure.Figure at 0x7f1b88269908>"
      ]
     },
     "metadata": {},
     "output_type": "display_data"
    }
   ],
   "source": [
    "plot_stats(ccvs_mu,ccvs_min,ccvs_max)"
   ]
  },
  {
   "cell_type": "code",
   "execution_count": null,
   "metadata": {
    "collapsed": true
   },
   "outputs": [],
   "source": []
  }
 ],
 "metadata": {
  "kernelspec": {
   "display_name": "Python 3",
   "language": "python",
   "name": "python3"
  },
  "language_info": {
   "codemirror_mode": {
    "name": "ipython",
    "version": 3
   },
   "file_extension": ".py",
   "mimetype": "text/x-python",
   "name": "python",
   "nbconvert_exporter": "python",
   "pygments_lexer": "ipython3",
   "version": "3.5.2"
  }
 },
 "nbformat": 4,
 "nbformat_minor": 2
}
