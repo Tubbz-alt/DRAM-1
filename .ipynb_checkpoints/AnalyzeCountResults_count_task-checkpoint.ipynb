{
 "cells": [
  {
   "cell_type": "code",
   "execution_count": 1,
   "metadata": {},
   "outputs": [
    {
     "data": {
      "text/html": [
       "<script>requirejs.config({paths: { 'plotly': ['https://cdn.plot.ly/plotly-latest.min']},});if(!window.Plotly) {{require(['plotly'],function(plotly) {window.Plotly=plotly;});}}</script>"
      ],
      "text/vnd.plotly.v1+html": [
       "<script>requirejs.config({paths: { 'plotly': ['https://cdn.plot.ly/plotly-latest.min']},});if(!window.Plotly) {{require(['plotly'],function(plotly) {window.Plotly=plotly;});}}</script>"
      ]
     },
     "metadata": {},
     "output_type": "display_data"
    },
    {
     "name": "stdout",
     "output_type": "stream",
     "text": [
      "['/usr/local/lib/python3.5/dist-packages/ipykernel_launcher.py', '-f', 'true', 'true', 'true', 'true', 'true', 'model_runs/-f/count_log.csv', 'model_runs/-f/countmodel_0.ckpt', 'model_runs/-f/countmodel_', 'true', 'false', 'false', 'true']\n",
      "WARNING:tensorflow:From /home/mtfang/DRAM/COUNT_viz.py:271: arg_max (from tensorflow.python.ops.gen_math_ops) is deprecated and will be removed in a future version.\n",
      "Instructions for updating:\n",
      "Use `argmax` instead\n",
      "WARNING:tensorflow:From /home/mtfang/DRAM/COUNT_viz.py:272: arg_max (from tensorflow.python.ops.gen_math_ops) is deprecated and will be removed in a future version.\n",
      "Instructions for updating:\n",
      "Use `argmax` instead\n",
      "WARNING:tensorflow:From /home/mtfang/DRAM/COUNT_viz.py:271: arg_max (from tensorflow.python.ops.gen_math_ops) is deprecated and will be removed in a future version.\n",
      "Instructions for updating:\n",
      "Use `argmax` instead\n",
      "WARNING:tensorflow:From /home/mtfang/DRAM/COUNT_viz.py:272: arg_max (from tensorflow.python.ops.gen_math_ops) is deprecated and will be removed in a future version.\n",
      "Instructions for updating:\n",
      "Use `argmax` instead\n",
      "WARNING:tensorflow:From /home/mtfang/DRAM/COUNT_viz.py:271: arg_max (from tensorflow.python.ops.gen_math_ops) is deprecated and will be removed in a future version.\n",
      "Instructions for updating:\n",
      "Use `argmax` instead\n",
      "WARNING:tensorflow:From /home/mtfang/DRAM/COUNT_viz.py:272: arg_max (from tensorflow.python.ops.gen_math_ops) is deprecated and will be removed in a future version.\n",
      "Instructions for updating:\n",
      "Use `argmax` instead\n",
      "WARNING:tensorflow:From /home/mtfang/DRAM/COUNT_viz.py:271: arg_max (from tensorflow.python.ops.gen_math_ops) is deprecated and will be removed in a future version.\n",
      "Instructions for updating:\n",
      "Use `argmax` instead\n",
      "WARNING:tensorflow:From /home/mtfang/DRAM/COUNT_viz.py:272: arg_max (from tensorflow.python.ops.gen_math_ops) is deprecated and will be removed in a future version.\n",
      "Instructions for updating:\n",
      "Use `argmax` instead\n",
      "WARNING:tensorflow:From /home/mtfang/DRAM/COUNT_viz.py:271: arg_max (from tensorflow.python.ops.gen_math_ops) is deprecated and will be removed in a future version.\n",
      "Instructions for updating:\n",
      "Use `argmax` instead\n",
      "WARNING:tensorflow:From /home/mtfang/DRAM/COUNT_viz.py:272: arg_max (from tensorflow.python.ops.gen_math_ops) is deprecated and will be removed in a future version.\n",
      "Instructions for updating:\n",
      "Use `argmax` instead\n",
      "WARNING:tensorflow:From /home/mtfang/DRAM/COUNT_viz.py:271: arg_max (from tensorflow.python.ops.gen_math_ops) is deprecated and will be removed in a future version.\n",
      "Instructions for updating:\n",
      "Use `argmax` instead\n",
      "WARNING:tensorflow:From /home/mtfang/DRAM/COUNT_viz.py:272: arg_max (from tensorflow.python.ops.gen_math_ops) is deprecated and will be removed in a future version.\n",
      "Instructions for updating:\n",
      "Use `argmax` instead\n",
      "WARNING:tensorflow:From /home/mtfang/DRAM/COUNT_viz.py:271: arg_max (from tensorflow.python.ops.gen_math_ops) is deprecated and will be removed in a future version.\n",
      "Instructions for updating:\n",
      "Use `argmax` instead\n",
      "WARNING:tensorflow:From /home/mtfang/DRAM/COUNT_viz.py:272: arg_max (from tensorflow.python.ops.gen_math_ops) is deprecated and will be removed in a future version.\n",
      "Instructions for updating:\n",
      "Use `argmax` instead\n",
      "WARNING:tensorflow:From /home/mtfang/DRAM/COUNT_viz.py:271: arg_max (from tensorflow.python.ops.gen_math_ops) is deprecated and will be removed in a future version.\n",
      "Instructions for updating:\n",
      "Use `argmax` instead\n",
      "WARNING:tensorflow:From /home/mtfang/DRAM/COUNT_viz.py:272: arg_max (from tensorflow.python.ops.gen_math_ops) is deprecated and will be removed in a future version.\n",
      "Instructions for updating:\n",
      "Use `argmax` instead\n",
      "WARNING:tensorflow:From /home/mtfang/DRAM/COUNT_viz.py:271: arg_max (from tensorflow.python.ops.gen_math_ops) is deprecated and will be removed in a future version.\n",
      "Instructions for updating:\n",
      "Use `argmax` instead\n",
      "WARNING:tensorflow:From /home/mtfang/DRAM/COUNT_viz.py:272: arg_max (from tensorflow.python.ops.gen_math_ops) is deprecated and will be removed in a future version.\n",
      "Instructions for updating:\n",
      "Use `argmax` instead\n",
      "WARNING:tensorflow:From /home/mtfang/DRAM/COUNT_viz.py:271: arg_max (from tensorflow.python.ops.gen_math_ops) is deprecated and will be removed in a future version.\n",
      "Instructions for updating:\n",
      "Use `argmax` instead\n",
      "WARNING:tensorflow:From /home/mtfang/DRAM/COUNT_viz.py:272: arg_max (from tensorflow.python.ops.gen_math_ops) is deprecated and will be removed in a future version.\n",
      "Instructions for updating:\n",
      "Use `argmax` instead\n",
      "analysis_count.py\n"
     ]
    }
   ],
   "source": [
    "import numpy as np\n",
    "from plotly.offline import download_plotlyjs, init_notebook_mode, plot, iplot\n",
    "init_notebook_mode(connected=True)\n",
    "import plotly.graph_objs as go\n",
    "from analysis_count import read_n, classify_imgs2\n",
    "import matplotlib.pyplot as plt\n",
    "%matplotlib inline"
   ]
  },
  {
   "cell_type": "code",
   "execution_count": 2,
   "metadata": {
    "collapsed": true
   },
   "outputs": [],
   "source": [
    "model_name = \"count_task\"\n",
    "num_runs = 1\n",
    "iter_list = [0, 400, 800, 1600, 3200, 6400, 12800, 25600, 51200, 102400, 153600, 204800]#, 307200, 409600, 614400, 819200, 1000000, 2000000, 3000000]\n",
    "             #[0, 1000, 4000, 16000, 32000, 64000, 125000, 250000, 500000, 600000]\n",
    "#iter_list = np.arange(0,11100000,100000)\n",
    "glimpse_list = np.arange(0,10,1)\n",
    "max_blobs = 9\n",
    "min_blobs = 1\n",
    "\n",
    "num_iters = len(iter_list)\n",
    "num_glimpses = len(glimpse_list)\n",
    "blob_list = np.arange(0,10,1)\n",
    "output_size = max_blobs - min_blobs + 2 # 10\n",
    "data_directory = \"data/\" + model_name + \"/\"\n",
    "m = 0.5\n",
    "\n",
    "confidence_all_runs = np.zeros([num_runs, num_iters, output_size-1, num_glimpses, 1, output_size]) \n",
    "choice_all_runs = np.zeros([num_runs, num_iters, output_size-1, num_glimpses, 1, output_size])"
   ]
  },
  {
   "cell_type": "code",
   "execution_count": 3,
   "metadata": {
    "collapsed": true
   },
   "outputs": [],
   "source": [
    "def fill_matrix(path, iteration):\n",
    "    \"\"\"Fill the confidence and choice matrices for one run at one iteration.\"\"\"\n",
    "    \n",
    "    data = None\n",
    "    num_imgs = 100 # batch_size\n",
    "    imgs_data = classify_imgs2(iteration, True, num_imgs, path=path) # new_imgs = True\n",
    "        \n",
    "    confidence_one_run = np.zeros([output_size-1, num_glimpses, 1, output_size])\n",
    "    choice_one_run = np.zeros([output_size-1, num_glimpses, 1, output_size])\n",
    "    \n",
    "    for nb in range(output_size-1):\n",
    "        confidence_hist = np.zeros([num_glimpses, 1, output_size])\n",
    "        choice_hist = np.zeros([num_glimpses, 1, output_size])\n",
    "        num_imgs_with_num_blobs = 0.00001\n",
    "        \n",
    "        for idx, data in enumerate(imgs_data):\n",
    "            if data[\"label\"][nb] == 1: # data is for an image with nb+1 blobs\n",
    "                num_imgs_with_num_blobs += 1\n",
    "                \n",
    "                for g, glimpse in enumerate(glimpse_list):\n",
    "                    # Histogram of softmaxes\n",
    "                    confidence_hist[glimpse] += data[\"classifications\"][glimpse]\n",
    "                    # Histogram of choices\n",
    "                    choice = np.argmax(data[\"classifications\"][glimpse])\n",
    "                    choice_list = [0] * (output_size)\n",
    "                    choice_list[choice] = 1\n",
    "                    choice_hist[glimpse] += choice_list\n",
    "\n",
    "        confidence_hist = confidence_hist / num_imgs_with_num_blobs\n",
    "        confidence_one_run[nb] = confidence_hist.tolist()\n",
    "        choice_hist = choice_hist / num_imgs_with_num_blobs\n",
    "        choice_one_run[nb] = choice_hist.tolist()\n",
    "    return confidence_one_run, choice_one_run"
   ]
  },
  {
   "cell_type": "code",
   "execution_count": 4,
   "metadata": {},
   "outputs": [
    {
     "name": "stdout",
     "output_type": "stream",
     "text": [
      "INFO:tensorflow:Restoring parameters from model_runs/count_task/countmodel_0.ckpt\n",
      "INFO:tensorflow:Restoring parameters from model_runs/count_task/countmodel_400.ckpt\n",
      "INFO:tensorflow:Restoring parameters from model_runs/count_task/countmodel_800.ckpt\n",
      "INFO:tensorflow:Restoring parameters from model_runs/count_task/countmodel_1600.ckpt\n",
      "INFO:tensorflow:Restoring parameters from model_runs/count_task/countmodel_3200.ckpt\n",
      "INFO:tensorflow:Restoring parameters from model_runs/count_task/countmodel_6400.ckpt\n",
      "INFO:tensorflow:Restoring parameters from model_runs/count_task/countmodel_12800.ckpt\n",
      "INFO:tensorflow:Restoring parameters from model_runs/count_task/countmodel_25600.ckpt\n",
      "INFO:tensorflow:Restoring parameters from model_runs/count_task/countmodel_51200.ckpt\n",
      "INFO:tensorflow:Restoring parameters from model_runs/count_task/countmodel_102400.ckpt\n",
      "INFO:tensorflow:Restoring parameters from model_runs/count_task/countmodel_153600.ckpt\n",
      "INFO:tensorflow:Restoring parameters from model_runs/count_task/countmodel_204800.ckpt\n"
     ]
    }
   ],
   "source": [
    "for run in range(num_runs):\n",
    "    path = 'model_runs/' + model_name # '_run_' + str(run + 1) \n",
    "#     path = 'model_runs/DRAM_test_square'\n",
    "    for i, iteration in enumerate(iter_list):\n",
    "        confidence_all_runs[run, i], choice_all_runs[run, i] = fill_matrix(path, iteration)"
   ]
  },
  {
   "cell_type": "code",
   "execution_count": 5,
   "metadata": {
    "collapsed": true
   },
   "outputs": [],
   "source": [
    "def adj_all_runs(all_runs_matrix):\n",
    "    \"\"\"Adjust all the matrices so tick marks start with 1.\"\"\"\n",
    "    \n",
    "    new_all_runs_matrix = np.zeros([num_runs, num_iters, output_size-1, num_glimpses+1, 1, output_size])\n",
    "    for m, matrix in enumerate(all_runs_matrix):\n",
    "        for i in range(num_iters):\n",
    "            for g in range(num_glimpses):\n",
    "                new_all_runs_matrix[m, i, g] = adj_matrix(matrix[i, g])\n",
    "    return new_all_runs_matrix\n",
    "\n",
    "\n",
    "def adj_matrix(matrix):\n",
    "    \"\"\"Adjust the matrix so tick marks start with 1.\"\"\"\n",
    "    \n",
    "    a = np.zeros([1, output_size])\n",
    "    temp = np.vstack((a, matrix))\n",
    "    b = np.zeros([output_size + 1, 1])\n",
    "    new_matrix = np.hstack((b, temp))\n",
    "    return new_matrix\n",
    "\n",
    "\n",
    "confidence_all_runs_adj = confidence_all_runs#adj_all_runs(confidence_all_runs)\n",
    "choice_all_runs_adj = choice_all_runs#adj_all_runs(choice_all_runs)"
   ]
  },
  {
   "cell_type": "code",
   "execution_count": 6,
   "metadata": {},
   "outputs": [
    {
     "data": {
      "text/plain": [
       "array([  1.45506794e-03,   9.87295571e-01,   1.11434024e-02,\n",
       "         8.65639554e-05,   4.78801373e-06,   5.75951679e-07,\n",
       "         3.28669953e-07,   8.92174309e-07,   4.62504076e-06,\n",
       "         6.79274663e-06])"
      ]
     },
     "execution_count": 6,
     "metadata": {},
     "output_type": "execute_result"
    }
   ],
   "source": [
    "confidence_avg = np.mean(confidence_all_runs_adj, axis=0)\n",
    "choice_avg = np.mean(choice_all_runs_adj, axis=0)\n",
    "confidence_avg[5,0,0,0]"
   ]
  },
  {
   "cell_type": "code",
   "execution_count": 7,
   "metadata": {
    "collapsed": true
   },
   "outputs": [],
   "source": [
    "def plot_confidence(iter_idx, it, num_blobs, run=None):\n",
    "    \"\"\"Plot the confidence heatmap.\"\"\"\n",
    "    \n",
    "    if run is None:\n",
    "        matrix = np.zeros([10,10])\n",
    "        for g in range (10):\n",
    "            matrix[:,g] = confidence_avg[iter_idx, num_blobs, g, 0]\n",
    "        plot_title = \"%d Blobs:Confidence after %d Iters\" % (num_blobs+1, it)\n",
    "\n",
    "    else:\n",
    "        matrix = np.zeros([10,10])\n",
    "        for g in range (10):\n",
    "            matrix = confidence_all_runs_adj[run, iter_idx, num_blobs, g, 0]\n",
    "        plot_title = \"%d Blobs:Confidence at Run %d after %d Iters\" % (num_blobs+1, run + 1, it)\n",
    "    plot_heatmap(matrix, num_blobs, plot_title)\n",
    "\n",
    "\n",
    "def plot_choice(iter_idx, it, num_blobs, run=None):\n",
    "    \"\"\"Plot the choice heatmap.\"\"\"\n",
    "    \n",
    "    if run is None:\n",
    "        matrix = np.zeros([10,10])\n",
    "        for g in range (10):\n",
    "            matrix[:,g] = choice_avg[iter_idx, num_blobs, g, 0]\n",
    "        plot_title = \"%d Blobs:Choice after %d Iterations\" % (num_blobs+1, it)\n",
    "    else:\n",
    "        matrix = np.zeros([10,10])\n",
    "        for g in range (10):\n",
    "            matrix = choice_all_runs_adj[run, iter_idx, num_blobs, g, 0]\n",
    "        plot_title = \"%d Blobs:Choice at Run %d after %d Iterations\" % (num_blobs+1, run + 1, it)\n",
    "    plot_heatmap(matrix, num_blobs, plot_title)\n",
    "    \n",
    "    \n",
    "def plot_heatmap(matrix, num_blobs, plot_title):\n",
    "    \"\"\"Plot heatmap.\"\"\"\n",
    "    \n",
    "    data = [go.Heatmap(\n",
    "        z=matrix,\n",
    "        colorscale=\"Jet\"\n",
    "    )]\n",
    "\n",
    "    layout = go.Layout(\n",
    "        title=plot_title,\n",
    "        yaxis=dict(\n",
    "#             range=[max_blobs + m, min_blobs - m],\n",
    "            range=[0 - m, 9 + m],\n",
    "            title=\"Count Word\",\n",
    "            dtick=1,\n",
    "            tickcolor='#FFF'\n",
    "        ),\n",
    "        xaxis=dict(\n",
    "            range=[0 - m, 9 + m],\n",
    "            title=\"Glimpses\",\n",
    "            dtick=1,\n",
    "            tickcolor='#FFF'\n",
    "        ),\n",
    "        width=400,\n",
    "        height=400,\n",
    "        plot_bgcolor=\"#000\",\n",
    "        paper_bgcolor=\"#000\",\n",
    "        font=dict(\n",
    "            color=\"#FFF\"\n",
    "        ),\n",
    "        titlefont=dict(\n",
    "            color=\"#FFF\"\n",
    "        ),\n",
    "    )\n",
    "    fig = go.Figure(data=data, layout=layout)\n",
    "    iplot(fig)"
   ]
  },
  {
   "cell_type": "code",
   "execution_count": 9,
   "metadata": {
    "scrolled": false
   },
   "outputs": [],
   "source": [
    "#for n, num in enumerate(blob_list):\n",
    "    #for i, it in enumerate(iter_list):\n",
    "        #plot_confidence(i, it, num)\n",
    "        #plot_choice(i, it, num)"
   ]
  },
  {
   "cell_type": "code",
   "execution_count": 10,
   "metadata": {
    "scrolled": false
   },
   "outputs": [
    {
     "data": {
      "application/vnd.plotly.v1+json": {
       "data": [
        {
         "colorscale": "Jet",
         "type": "heatmap",
         "z": [
          [
           0,
           0,
           0,
           0,
           0,
           0,
           0,
           0,
           0.46153810650914884,
           0.9999992307698226
          ],
          [
           0.9999992307698226,
           0,
           0,
           0,
           0,
           0,
           0,
           0,
           0,
           0
          ],
          [
           0,
           0.9999992307698226,
           0,
           0,
           0,
           0,
           0,
           0,
           0,
           0
          ],
          [
           0,
           0,
           0.9999992307698226,
           0,
           0,
           0,
           0,
           0,
           0,
           0
          ],
          [
           0,
           0,
           0,
           0.9999992307698226,
           0,
           0,
           0,
           0,
           0,
           0
          ],
          [
           0,
           0,
           0,
           0,
           0.9999992307698226,
           0,
           0,
           0,
           0,
           0
          ],
          [
           0,
           0,
           0,
           0,
           0,
           0.8461531952667729,
           0,
           0,
           0,
           0
          ],
          [
           0,
           0,
           0,
           0,
           0,
           0.15384603550304962,
           0.9999992307698226,
           0,
           0,
           0
          ],
          [
           0,
           0,
           0,
           0,
           0,
           0,
           0,
           0.9999992307698226,
           0.38461508875762407,
           0
          ],
          [
           0,
           0,
           0,
           0,
           0,
           0,
           0,
           0,
           0.15384603550304962,
           0
          ]
         ]
        }
       ],
       "layout": {
        "font": {
         "color": "#FFF"
        },
        "height": 400,
        "paper_bgcolor": "#000",
        "plot_bgcolor": "#000",
        "title": "1 Blobs:Choice after 204800 Iterations",
        "titlefont": {
         "color": "#FFF"
        },
        "width": 400,
        "xaxis": {
         "dtick": 1,
         "range": [
          -0.5,
          9.5
         ],
         "tickcolor": "#FFF",
         "title": "Glimpses"
        },
        "yaxis": {
         "dtick": 1,
         "range": [
          -0.5,
          9.5
         ],
         "tickcolor": "#FFF",
         "title": "Count Word"
        }
       }
      },
      "text/html": [
       "<div id=\"d1fc579f-e5b1-402b-a03a-140ef90f9cd2\" style=\"height: 400px; width: 400px;\" class=\"plotly-graph-div\"></div><script type=\"text/javascript\">require([\"plotly\"], function(Plotly) { window.PLOTLYENV=window.PLOTLYENV || {};window.PLOTLYENV.BASE_URL=\"https://plot.ly\";Plotly.newPlot(\"d1fc579f-e5b1-402b-a03a-140ef90f9cd2\", [{\"type\": \"heatmap\", \"z\": [[0.0, 0.0, 0.0, 0.0, 0.0, 0.0, 0.0, 0.0, 0.46153810650914884, 0.9999992307698226], [0.9999992307698226, 0.0, 0.0, 0.0, 0.0, 0.0, 0.0, 0.0, 0.0, 0.0], [0.0, 0.9999992307698226, 0.0, 0.0, 0.0, 0.0, 0.0, 0.0, 0.0, 0.0], [0.0, 0.0, 0.9999992307698226, 0.0, 0.0, 0.0, 0.0, 0.0, 0.0, 0.0], [0.0, 0.0, 0.0, 0.9999992307698226, 0.0, 0.0, 0.0, 0.0, 0.0, 0.0], [0.0, 0.0, 0.0, 0.0, 0.9999992307698226, 0.0, 0.0, 0.0, 0.0, 0.0], [0.0, 0.0, 0.0, 0.0, 0.0, 0.8461531952667729, 0.0, 0.0, 0.0, 0.0], [0.0, 0.0, 0.0, 0.0, 0.0, 0.15384603550304962, 0.9999992307698226, 0.0, 0.0, 0.0], [0.0, 0.0, 0.0, 0.0, 0.0, 0.0, 0.0, 0.9999992307698226, 0.38461508875762407, 0.0], [0.0, 0.0, 0.0, 0.0, 0.0, 0.0, 0.0, 0.0, 0.15384603550304962, 0.0]], \"colorscale\": \"Jet\"}], {\"xaxis\": {\"range\": [-0.5, 9.5], \"title\": \"Glimpses\", \"tickcolor\": \"#FFF\", \"dtick\": 1}, \"title\": \"1 Blobs:Choice after 204800 Iterations\", \"titlefont\": {\"color\": \"#FFF\"}, \"width\": 400, \"plot_bgcolor\": \"#000\", \"paper_bgcolor\": \"#000\", \"font\": {\"color\": \"#FFF\"}, \"yaxis\": {\"range\": [-0.5, 9.5], \"title\": \"Count Word\", \"tickcolor\": \"#FFF\", \"dtick\": 1}, \"height\": 400}, {\"linkText\": \"Export to plot.ly\", \"showLink\": true})});</script>"
      ],
      "text/vnd.plotly.v1+html": [
       "<div id=\"d1fc579f-e5b1-402b-a03a-140ef90f9cd2\" style=\"height: 400px; width: 400px;\" class=\"plotly-graph-div\"></div><script type=\"text/javascript\">require([\"plotly\"], function(Plotly) { window.PLOTLYENV=window.PLOTLYENV || {};window.PLOTLYENV.BASE_URL=\"https://plot.ly\";Plotly.newPlot(\"d1fc579f-e5b1-402b-a03a-140ef90f9cd2\", [{\"type\": \"heatmap\", \"z\": [[0.0, 0.0, 0.0, 0.0, 0.0, 0.0, 0.0, 0.0, 0.46153810650914884, 0.9999992307698226], [0.9999992307698226, 0.0, 0.0, 0.0, 0.0, 0.0, 0.0, 0.0, 0.0, 0.0], [0.0, 0.9999992307698226, 0.0, 0.0, 0.0, 0.0, 0.0, 0.0, 0.0, 0.0], [0.0, 0.0, 0.9999992307698226, 0.0, 0.0, 0.0, 0.0, 0.0, 0.0, 0.0], [0.0, 0.0, 0.0, 0.9999992307698226, 0.0, 0.0, 0.0, 0.0, 0.0, 0.0], [0.0, 0.0, 0.0, 0.0, 0.9999992307698226, 0.0, 0.0, 0.0, 0.0, 0.0], [0.0, 0.0, 0.0, 0.0, 0.0, 0.8461531952667729, 0.0, 0.0, 0.0, 0.0], [0.0, 0.0, 0.0, 0.0, 0.0, 0.15384603550304962, 0.9999992307698226, 0.0, 0.0, 0.0], [0.0, 0.0, 0.0, 0.0, 0.0, 0.0, 0.0, 0.9999992307698226, 0.38461508875762407, 0.0], [0.0, 0.0, 0.0, 0.0, 0.0, 0.0, 0.0, 0.0, 0.15384603550304962, 0.0]], \"colorscale\": \"Jet\"}], {\"xaxis\": {\"range\": [-0.5, 9.5], \"title\": \"Glimpses\", \"tickcolor\": \"#FFF\", \"dtick\": 1}, \"title\": \"1 Blobs:Choice after 204800 Iterations\", \"titlefont\": {\"color\": \"#FFF\"}, \"width\": 400, \"plot_bgcolor\": \"#000\", \"paper_bgcolor\": \"#000\", \"font\": {\"color\": \"#FFF\"}, \"yaxis\": {\"range\": [-0.5, 9.5], \"title\": \"Count Word\", \"tickcolor\": \"#FFF\", \"dtick\": 1}, \"height\": 400}, {\"linkText\": \"Export to plot.ly\", \"showLink\": true})});</script>"
      ]
     },
     "metadata": {},
     "output_type": "display_data"
    },
    {
     "data": {
      "application/vnd.plotly.v1+json": {
       "data": [
        {
         "colorscale": "Jet",
         "type": "heatmap",
         "z": [
          [
           0,
           0,
           0,
           0,
           0,
           0,
           0,
           0,
           0.8571416326548106,
           0.9999985714306123
          ],
          [
           0.9999985714306123,
           0,
           0,
           0,
           0,
           0,
           0,
           0,
           0,
           0
          ],
          [
           0,
           0.9999985714306123,
           0,
           0,
           0,
           0,
           0,
           0,
           0,
           0
          ],
          [
           0,
           0,
           0.9999985714306123,
           0,
           0,
           0,
           0,
           0,
           0,
           0
          ],
          [
           0,
           0,
           0,
           0.9999985714306123,
           0,
           0,
           0,
           0,
           0,
           0
          ],
          [
           0,
           0,
           0,
           0,
           0.7142846938790088,
           0,
           0,
           0,
           0,
           0
          ],
          [
           0,
           0,
           0,
           0,
           0.2857138775516035,
           0,
           0,
           0,
           0,
           0
          ],
          [
           0,
           0,
           0,
           0,
           0,
           0.9999985714306123,
           0.9999985714306123,
           0,
           0,
           0
          ],
          [
           0,
           0,
           0,
           0,
           0,
           0,
           0,
           0.9999985714306123,
           0.14285693877580175,
           0
          ],
          [
           0,
           0,
           0,
           0,
           0,
           0,
           0,
           0,
           0,
           0
          ]
         ]
        }
       ],
       "layout": {
        "font": {
         "color": "#FFF"
        },
        "height": 400,
        "paper_bgcolor": "#000",
        "plot_bgcolor": "#000",
        "title": "2 Blobs:Choice after 204800 Iterations",
        "titlefont": {
         "color": "#FFF"
        },
        "width": 400,
        "xaxis": {
         "dtick": 1,
         "range": [
          -0.5,
          9.5
         ],
         "tickcolor": "#FFF",
         "title": "Glimpses"
        },
        "yaxis": {
         "dtick": 1,
         "range": [
          -0.5,
          9.5
         ],
         "tickcolor": "#FFF",
         "title": "Count Word"
        }
       }
      },
      "text/html": [
       "<div id=\"95748523-4f95-4436-b1df-0c1215195106\" style=\"height: 400px; width: 400px;\" class=\"plotly-graph-div\"></div><script type=\"text/javascript\">require([\"plotly\"], function(Plotly) { window.PLOTLYENV=window.PLOTLYENV || {};window.PLOTLYENV.BASE_URL=\"https://plot.ly\";Plotly.newPlot(\"95748523-4f95-4436-b1df-0c1215195106\", [{\"type\": \"heatmap\", \"z\": [[0.0, 0.0, 0.0, 0.0, 0.0, 0.0, 0.0, 0.0, 0.8571416326548106, 0.9999985714306123], [0.9999985714306123, 0.0, 0.0, 0.0, 0.0, 0.0, 0.0, 0.0, 0.0, 0.0], [0.0, 0.9999985714306123, 0.0, 0.0, 0.0, 0.0, 0.0, 0.0, 0.0, 0.0], [0.0, 0.0, 0.9999985714306123, 0.0, 0.0, 0.0, 0.0, 0.0, 0.0, 0.0], [0.0, 0.0, 0.0, 0.9999985714306123, 0.0, 0.0, 0.0, 0.0, 0.0, 0.0], [0.0, 0.0, 0.0, 0.0, 0.7142846938790088, 0.0, 0.0, 0.0, 0.0, 0.0], [0.0, 0.0, 0.0, 0.0, 0.2857138775516035, 0.0, 0.0, 0.0, 0.0, 0.0], [0.0, 0.0, 0.0, 0.0, 0.0, 0.9999985714306123, 0.9999985714306123, 0.0, 0.0, 0.0], [0.0, 0.0, 0.0, 0.0, 0.0, 0.0, 0.0, 0.9999985714306123, 0.14285693877580175, 0.0], [0.0, 0.0, 0.0, 0.0, 0.0, 0.0, 0.0, 0.0, 0.0, 0.0]], \"colorscale\": \"Jet\"}], {\"xaxis\": {\"range\": [-0.5, 9.5], \"title\": \"Glimpses\", \"tickcolor\": \"#FFF\", \"dtick\": 1}, \"title\": \"2 Blobs:Choice after 204800 Iterations\", \"titlefont\": {\"color\": \"#FFF\"}, \"width\": 400, \"plot_bgcolor\": \"#000\", \"paper_bgcolor\": \"#000\", \"font\": {\"color\": \"#FFF\"}, \"yaxis\": {\"range\": [-0.5, 9.5], \"title\": \"Count Word\", \"tickcolor\": \"#FFF\", \"dtick\": 1}, \"height\": 400}, {\"linkText\": \"Export to plot.ly\", \"showLink\": true})});</script>"
      ],
      "text/vnd.plotly.v1+html": [
       "<div id=\"95748523-4f95-4436-b1df-0c1215195106\" style=\"height: 400px; width: 400px;\" class=\"plotly-graph-div\"></div><script type=\"text/javascript\">require([\"plotly\"], function(Plotly) { window.PLOTLYENV=window.PLOTLYENV || {};window.PLOTLYENV.BASE_URL=\"https://plot.ly\";Plotly.newPlot(\"95748523-4f95-4436-b1df-0c1215195106\", [{\"type\": \"heatmap\", \"z\": [[0.0, 0.0, 0.0, 0.0, 0.0, 0.0, 0.0, 0.0, 0.8571416326548106, 0.9999985714306123], [0.9999985714306123, 0.0, 0.0, 0.0, 0.0, 0.0, 0.0, 0.0, 0.0, 0.0], [0.0, 0.9999985714306123, 0.0, 0.0, 0.0, 0.0, 0.0, 0.0, 0.0, 0.0], [0.0, 0.0, 0.9999985714306123, 0.0, 0.0, 0.0, 0.0, 0.0, 0.0, 0.0], [0.0, 0.0, 0.0, 0.9999985714306123, 0.0, 0.0, 0.0, 0.0, 0.0, 0.0], [0.0, 0.0, 0.0, 0.0, 0.7142846938790088, 0.0, 0.0, 0.0, 0.0, 0.0], [0.0, 0.0, 0.0, 0.0, 0.2857138775516035, 0.0, 0.0, 0.0, 0.0, 0.0], [0.0, 0.0, 0.0, 0.0, 0.0, 0.9999985714306123, 0.9999985714306123, 0.0, 0.0, 0.0], [0.0, 0.0, 0.0, 0.0, 0.0, 0.0, 0.0, 0.9999985714306123, 0.14285693877580175, 0.0], [0.0, 0.0, 0.0, 0.0, 0.0, 0.0, 0.0, 0.0, 0.0, 0.0]], \"colorscale\": \"Jet\"}], {\"xaxis\": {\"range\": [-0.5, 9.5], \"title\": \"Glimpses\", \"tickcolor\": \"#FFF\", \"dtick\": 1}, \"title\": \"2 Blobs:Choice after 204800 Iterations\", \"titlefont\": {\"color\": \"#FFF\"}, \"width\": 400, \"plot_bgcolor\": \"#000\", \"paper_bgcolor\": \"#000\", \"font\": {\"color\": \"#FFF\"}, \"yaxis\": {\"range\": [-0.5, 9.5], \"title\": \"Count Word\", \"tickcolor\": \"#FFF\", \"dtick\": 1}, \"height\": 400}, {\"linkText\": \"Export to plot.ly\", \"showLink\": true})});</script>"
      ]
     },
     "metadata": {},
     "output_type": "display_data"
    },
    {
     "data": {
      "application/vnd.plotly.v1+json": {
       "data": [
        {
         "colorscale": "Jet",
         "type": "heatmap",
         "z": [
          [
           0,
           0,
           0,
           0,
           0,
           0,
           0,
           0,
           0.4999991666680556,
           0.9999983333361112
          ],
          [
           0.9999983333361112,
           0,
           0,
           0,
           0,
           0,
           0,
           0,
           0,
           0
          ],
          [
           0,
           0.9999983333361112,
           0,
           0,
           0,
           0,
           0,
           0,
           0,
           0
          ],
          [
           0,
           0,
           0.9999983333361112,
           0,
           0,
           0,
           0,
           0,
           0,
           0
          ],
          [
           0,
           0,
           0,
           0.9999983333361112,
           0,
           0,
           0,
           0,
           0,
           0
          ],
          [
           0,
           0,
           0,
           0,
           0.9999983333361112,
           0,
           0,
           0,
           0,
           0
          ],
          [
           0,
           0,
           0,
           0,
           0,
           0.33333277777870374,
           0,
           0,
           0,
           0
          ],
          [
           0,
           0,
           0,
           0,
           0,
           0.6666655555574075,
           0.9999983333361112,
           0,
           0,
           0
          ],
          [
           0,
           0,
           0,
           0,
           0,
           0,
           0,
           0.9999983333361112,
           0.33333277777870374,
           0
          ],
          [
           0,
           0,
           0,
           0,
           0,
           0,
           0,
           0,
           0.16666638888935187,
           0
          ]
         ]
        }
       ],
       "layout": {
        "font": {
         "color": "#FFF"
        },
        "height": 400,
        "paper_bgcolor": "#000",
        "plot_bgcolor": "#000",
        "title": "3 Blobs:Choice after 204800 Iterations",
        "titlefont": {
         "color": "#FFF"
        },
        "width": 400,
        "xaxis": {
         "dtick": 1,
         "range": [
          -0.5,
          9.5
         ],
         "tickcolor": "#FFF",
         "title": "Glimpses"
        },
        "yaxis": {
         "dtick": 1,
         "range": [
          -0.5,
          9.5
         ],
         "tickcolor": "#FFF",
         "title": "Count Word"
        }
       }
      },
      "text/html": [
       "<div id=\"e99036e9-5d8f-4857-abaf-88c105d9e480\" style=\"height: 400px; width: 400px;\" class=\"plotly-graph-div\"></div><script type=\"text/javascript\">require([\"plotly\"], function(Plotly) { window.PLOTLYENV=window.PLOTLYENV || {};window.PLOTLYENV.BASE_URL=\"https://plot.ly\";Plotly.newPlot(\"e99036e9-5d8f-4857-abaf-88c105d9e480\", [{\"type\": \"heatmap\", \"z\": [[0.0, 0.0, 0.0, 0.0, 0.0, 0.0, 0.0, 0.0, 0.4999991666680556, 0.9999983333361112], [0.9999983333361112, 0.0, 0.0, 0.0, 0.0, 0.0, 0.0, 0.0, 0.0, 0.0], [0.0, 0.9999983333361112, 0.0, 0.0, 0.0, 0.0, 0.0, 0.0, 0.0, 0.0], [0.0, 0.0, 0.9999983333361112, 0.0, 0.0, 0.0, 0.0, 0.0, 0.0, 0.0], [0.0, 0.0, 0.0, 0.9999983333361112, 0.0, 0.0, 0.0, 0.0, 0.0, 0.0], [0.0, 0.0, 0.0, 0.0, 0.9999983333361112, 0.0, 0.0, 0.0, 0.0, 0.0], [0.0, 0.0, 0.0, 0.0, 0.0, 0.33333277777870374, 0.0, 0.0, 0.0, 0.0], [0.0, 0.0, 0.0, 0.0, 0.0, 0.6666655555574075, 0.9999983333361112, 0.0, 0.0, 0.0], [0.0, 0.0, 0.0, 0.0, 0.0, 0.0, 0.0, 0.9999983333361112, 0.33333277777870374, 0.0], [0.0, 0.0, 0.0, 0.0, 0.0, 0.0, 0.0, 0.0, 0.16666638888935187, 0.0]], \"colorscale\": \"Jet\"}], {\"xaxis\": {\"range\": [-0.5, 9.5], \"title\": \"Glimpses\", \"tickcolor\": \"#FFF\", \"dtick\": 1}, \"title\": \"3 Blobs:Choice after 204800 Iterations\", \"titlefont\": {\"color\": \"#FFF\"}, \"width\": 400, \"plot_bgcolor\": \"#000\", \"paper_bgcolor\": \"#000\", \"font\": {\"color\": \"#FFF\"}, \"yaxis\": {\"range\": [-0.5, 9.5], \"title\": \"Count Word\", \"tickcolor\": \"#FFF\", \"dtick\": 1}, \"height\": 400}, {\"linkText\": \"Export to plot.ly\", \"showLink\": true})});</script>"
      ],
      "text/vnd.plotly.v1+html": [
       "<div id=\"e99036e9-5d8f-4857-abaf-88c105d9e480\" style=\"height: 400px; width: 400px;\" class=\"plotly-graph-div\"></div><script type=\"text/javascript\">require([\"plotly\"], function(Plotly) { window.PLOTLYENV=window.PLOTLYENV || {};window.PLOTLYENV.BASE_URL=\"https://plot.ly\";Plotly.newPlot(\"e99036e9-5d8f-4857-abaf-88c105d9e480\", [{\"type\": \"heatmap\", \"z\": [[0.0, 0.0, 0.0, 0.0, 0.0, 0.0, 0.0, 0.0, 0.4999991666680556, 0.9999983333361112], [0.9999983333361112, 0.0, 0.0, 0.0, 0.0, 0.0, 0.0, 0.0, 0.0, 0.0], [0.0, 0.9999983333361112, 0.0, 0.0, 0.0, 0.0, 0.0, 0.0, 0.0, 0.0], [0.0, 0.0, 0.9999983333361112, 0.0, 0.0, 0.0, 0.0, 0.0, 0.0, 0.0], [0.0, 0.0, 0.0, 0.9999983333361112, 0.0, 0.0, 0.0, 0.0, 0.0, 0.0], [0.0, 0.0, 0.0, 0.0, 0.9999983333361112, 0.0, 0.0, 0.0, 0.0, 0.0], [0.0, 0.0, 0.0, 0.0, 0.0, 0.33333277777870374, 0.0, 0.0, 0.0, 0.0], [0.0, 0.0, 0.0, 0.0, 0.0, 0.6666655555574075, 0.9999983333361112, 0.0, 0.0, 0.0], [0.0, 0.0, 0.0, 0.0, 0.0, 0.0, 0.0, 0.9999983333361112, 0.33333277777870374, 0.0], [0.0, 0.0, 0.0, 0.0, 0.0, 0.0, 0.0, 0.0, 0.16666638888935187, 0.0]], \"colorscale\": \"Jet\"}], {\"xaxis\": {\"range\": [-0.5, 9.5], \"title\": \"Glimpses\", \"tickcolor\": \"#FFF\", \"dtick\": 1}, \"title\": \"3 Blobs:Choice after 204800 Iterations\", \"titlefont\": {\"color\": \"#FFF\"}, \"width\": 400, \"plot_bgcolor\": \"#000\", \"paper_bgcolor\": \"#000\", \"font\": {\"color\": \"#FFF\"}, \"yaxis\": {\"range\": [-0.5, 9.5], \"title\": \"Count Word\", \"tickcolor\": \"#FFF\", \"dtick\": 1}, \"height\": 400}, {\"linkText\": \"Export to plot.ly\", \"showLink\": true})});</script>"
      ]
     },
     "metadata": {},
     "output_type": "display_data"
    },
    {
     "data": {
      "application/vnd.plotly.v1+json": {
       "data": [
        {
         "colorscale": "Jet",
         "type": "heatmap",
         "z": [
          [
           0,
           0,
           0,
           0,
           0,
           0,
           0,
           0,
           0.44444395061783265,
           0.9999988888901234
          ],
          [
           0.9999988888901234,
           0,
           0,
           0,
           0,
           0,
           0,
           0,
           0,
           0
          ],
          [
           0,
           0.9999988888901234,
           0,
           0,
           0,
           0,
           0,
           0,
           0,
           0
          ],
          [
           0,
           0,
           0.9999988888901234,
           0,
           0,
           0,
           0,
           0,
           0,
           0
          ],
          [
           0,
           0,
           0,
           0.9999988888901234,
           0,
           0,
           0,
           0,
           0,
           0
          ],
          [
           0,
           0,
           0,
           0,
           0.9999988888901234,
           0,
           0,
           0,
           0,
           0
          ],
          [
           0,
           0,
           0,
           0,
           0,
           0.44444395061783265,
           0,
           0,
           0,
           0
          ],
          [
           0,
           0,
           0,
           0,
           0,
           0.5555549382722909,
           0.9999988888901234,
           0,
           0,
           0
          ],
          [
           0,
           0,
           0,
           0,
           0,
           0,
           0,
           0.9999988888901234,
           0.44444395061783265,
           0
          ],
          [
           0,
           0,
           0,
           0,
           0,
           0,
           0,
           0,
           0.11111098765445816,
           0
          ]
         ]
        }
       ],
       "layout": {
        "font": {
         "color": "#FFF"
        },
        "height": 400,
        "paper_bgcolor": "#000",
        "plot_bgcolor": "#000",
        "title": "4 Blobs:Choice after 204800 Iterations",
        "titlefont": {
         "color": "#FFF"
        },
        "width": 400,
        "xaxis": {
         "dtick": 1,
         "range": [
          -0.5,
          9.5
         ],
         "tickcolor": "#FFF",
         "title": "Glimpses"
        },
        "yaxis": {
         "dtick": 1,
         "range": [
          -0.5,
          9.5
         ],
         "tickcolor": "#FFF",
         "title": "Count Word"
        }
       }
      },
      "text/html": [
       "<div id=\"7d5fa577-efbf-4dc4-b531-1f64b7f3bbe5\" style=\"height: 400px; width: 400px;\" class=\"plotly-graph-div\"></div><script type=\"text/javascript\">require([\"plotly\"], function(Plotly) { window.PLOTLYENV=window.PLOTLYENV || {};window.PLOTLYENV.BASE_URL=\"https://plot.ly\";Plotly.newPlot(\"7d5fa577-efbf-4dc4-b531-1f64b7f3bbe5\", [{\"type\": \"heatmap\", \"z\": [[0.0, 0.0, 0.0, 0.0, 0.0, 0.0, 0.0, 0.0, 0.44444395061783265, 0.9999988888901234], [0.9999988888901234, 0.0, 0.0, 0.0, 0.0, 0.0, 0.0, 0.0, 0.0, 0.0], [0.0, 0.9999988888901234, 0.0, 0.0, 0.0, 0.0, 0.0, 0.0, 0.0, 0.0], [0.0, 0.0, 0.9999988888901234, 0.0, 0.0, 0.0, 0.0, 0.0, 0.0, 0.0], [0.0, 0.0, 0.0, 0.9999988888901234, 0.0, 0.0, 0.0, 0.0, 0.0, 0.0], [0.0, 0.0, 0.0, 0.0, 0.9999988888901234, 0.0, 0.0, 0.0, 0.0, 0.0], [0.0, 0.0, 0.0, 0.0, 0.0, 0.44444395061783265, 0.0, 0.0, 0.0, 0.0], [0.0, 0.0, 0.0, 0.0, 0.0, 0.5555549382722909, 0.9999988888901234, 0.0, 0.0, 0.0], [0.0, 0.0, 0.0, 0.0, 0.0, 0.0, 0.0, 0.9999988888901234, 0.44444395061783265, 0.0], [0.0, 0.0, 0.0, 0.0, 0.0, 0.0, 0.0, 0.0, 0.11111098765445816, 0.0]], \"colorscale\": \"Jet\"}], {\"xaxis\": {\"range\": [-0.5, 9.5], \"title\": \"Glimpses\", \"tickcolor\": \"#FFF\", \"dtick\": 1}, \"title\": \"4 Blobs:Choice after 204800 Iterations\", \"titlefont\": {\"color\": \"#FFF\"}, \"width\": 400, \"plot_bgcolor\": \"#000\", \"paper_bgcolor\": \"#000\", \"font\": {\"color\": \"#FFF\"}, \"yaxis\": {\"range\": [-0.5, 9.5], \"title\": \"Count Word\", \"tickcolor\": \"#FFF\", \"dtick\": 1}, \"height\": 400}, {\"linkText\": \"Export to plot.ly\", \"showLink\": true})});</script>"
      ],
      "text/vnd.plotly.v1+html": [
       "<div id=\"7d5fa577-efbf-4dc4-b531-1f64b7f3bbe5\" style=\"height: 400px; width: 400px;\" class=\"plotly-graph-div\"></div><script type=\"text/javascript\">require([\"plotly\"], function(Plotly) { window.PLOTLYENV=window.PLOTLYENV || {};window.PLOTLYENV.BASE_URL=\"https://plot.ly\";Plotly.newPlot(\"7d5fa577-efbf-4dc4-b531-1f64b7f3bbe5\", [{\"type\": \"heatmap\", \"z\": [[0.0, 0.0, 0.0, 0.0, 0.0, 0.0, 0.0, 0.0, 0.44444395061783265, 0.9999988888901234], [0.9999988888901234, 0.0, 0.0, 0.0, 0.0, 0.0, 0.0, 0.0, 0.0, 0.0], [0.0, 0.9999988888901234, 0.0, 0.0, 0.0, 0.0, 0.0, 0.0, 0.0, 0.0], [0.0, 0.0, 0.9999988888901234, 0.0, 0.0, 0.0, 0.0, 0.0, 0.0, 0.0], [0.0, 0.0, 0.0, 0.9999988888901234, 0.0, 0.0, 0.0, 0.0, 0.0, 0.0], [0.0, 0.0, 0.0, 0.0, 0.9999988888901234, 0.0, 0.0, 0.0, 0.0, 0.0], [0.0, 0.0, 0.0, 0.0, 0.0, 0.44444395061783265, 0.0, 0.0, 0.0, 0.0], [0.0, 0.0, 0.0, 0.0, 0.0, 0.5555549382722909, 0.9999988888901234, 0.0, 0.0, 0.0], [0.0, 0.0, 0.0, 0.0, 0.0, 0.0, 0.0, 0.9999988888901234, 0.44444395061783265, 0.0], [0.0, 0.0, 0.0, 0.0, 0.0, 0.0, 0.0, 0.0, 0.11111098765445816, 0.0]], \"colorscale\": \"Jet\"}], {\"xaxis\": {\"range\": [-0.5, 9.5], \"title\": \"Glimpses\", \"tickcolor\": \"#FFF\", \"dtick\": 1}, \"title\": \"4 Blobs:Choice after 204800 Iterations\", \"titlefont\": {\"color\": \"#FFF\"}, \"width\": 400, \"plot_bgcolor\": \"#000\", \"paper_bgcolor\": \"#000\", \"font\": {\"color\": \"#FFF\"}, \"yaxis\": {\"range\": [-0.5, 9.5], \"title\": \"Count Word\", \"tickcolor\": \"#FFF\", \"dtick\": 1}, \"height\": 400}, {\"linkText\": \"Export to plot.ly\", \"showLink\": true})});</script>"
      ]
     },
     "metadata": {},
     "output_type": "display_data"
    },
    {
     "data": {
      "application/vnd.plotly.v1+json": {
       "data": [
        {
         "colorscale": "Jet",
         "type": "heatmap",
         "z": [
          [
           0,
           0,
           0,
           0,
           0,
           0,
           0,
           0,
           0.5555549382722909,
           0.9999988888901234
          ],
          [
           0.9999988888901234,
           0,
           0,
           0,
           0,
           0,
           0,
           0,
           0,
           0
          ],
          [
           0,
           0.9999988888901234,
           0,
           0,
           0,
           0,
           0,
           0,
           0,
           0
          ],
          [
           0,
           0,
           0.9999988888901234,
           0,
           0,
           0,
           0,
           0,
           0,
           0
          ],
          [
           0,
           0,
           0,
           0.9999988888901234,
           0,
           0,
           0,
           0,
           0,
           0
          ],
          [
           0,
           0,
           0,
           0,
           0.9999988888901234,
           0,
           0,
           0,
           0,
           0
          ],
          [
           0,
           0,
           0,
           0,
           0,
           0.666665925926749,
           0,
           0,
           0,
           0
          ],
          [
           0,
           0,
           0,
           0,
           0,
           0.3333329629633745,
           0.9999988888901234,
           0,
           0,
           0
          ],
          [
           0,
           0,
           0,
           0,
           0,
           0,
           0,
           0.9999988888901234,
           0.3333329629633745,
           0
          ],
          [
           0,
           0,
           0,
           0,
           0,
           0,
           0,
           0,
           0.11111098765445816,
           0
          ]
         ]
        }
       ],
       "layout": {
        "font": {
         "color": "#FFF"
        },
        "height": 400,
        "paper_bgcolor": "#000",
        "plot_bgcolor": "#000",
        "title": "5 Blobs:Choice after 204800 Iterations",
        "titlefont": {
         "color": "#FFF"
        },
        "width": 400,
        "xaxis": {
         "dtick": 1,
         "range": [
          -0.5,
          9.5
         ],
         "tickcolor": "#FFF",
         "title": "Glimpses"
        },
        "yaxis": {
         "dtick": 1,
         "range": [
          -0.5,
          9.5
         ],
         "tickcolor": "#FFF",
         "title": "Count Word"
        }
       }
      },
      "text/html": [
       "<div id=\"51be6af9-4356-4d59-9fc6-77bcdbd1bc39\" style=\"height: 400px; width: 400px;\" class=\"plotly-graph-div\"></div><script type=\"text/javascript\">require([\"plotly\"], function(Plotly) { window.PLOTLYENV=window.PLOTLYENV || {};window.PLOTLYENV.BASE_URL=\"https://plot.ly\";Plotly.newPlot(\"51be6af9-4356-4d59-9fc6-77bcdbd1bc39\", [{\"type\": \"heatmap\", \"z\": [[0.0, 0.0, 0.0, 0.0, 0.0, 0.0, 0.0, 0.0, 0.5555549382722909, 0.9999988888901234], [0.9999988888901234, 0.0, 0.0, 0.0, 0.0, 0.0, 0.0, 0.0, 0.0, 0.0], [0.0, 0.9999988888901234, 0.0, 0.0, 0.0, 0.0, 0.0, 0.0, 0.0, 0.0], [0.0, 0.0, 0.9999988888901234, 0.0, 0.0, 0.0, 0.0, 0.0, 0.0, 0.0], [0.0, 0.0, 0.0, 0.9999988888901234, 0.0, 0.0, 0.0, 0.0, 0.0, 0.0], [0.0, 0.0, 0.0, 0.0, 0.9999988888901234, 0.0, 0.0, 0.0, 0.0, 0.0], [0.0, 0.0, 0.0, 0.0, 0.0, 0.666665925926749, 0.0, 0.0, 0.0, 0.0], [0.0, 0.0, 0.0, 0.0, 0.0, 0.3333329629633745, 0.9999988888901234, 0.0, 0.0, 0.0], [0.0, 0.0, 0.0, 0.0, 0.0, 0.0, 0.0, 0.9999988888901234, 0.3333329629633745, 0.0], [0.0, 0.0, 0.0, 0.0, 0.0, 0.0, 0.0, 0.0, 0.11111098765445816, 0.0]], \"colorscale\": \"Jet\"}], {\"xaxis\": {\"range\": [-0.5, 9.5], \"title\": \"Glimpses\", \"tickcolor\": \"#FFF\", \"dtick\": 1}, \"title\": \"5 Blobs:Choice after 204800 Iterations\", \"titlefont\": {\"color\": \"#FFF\"}, \"width\": 400, \"plot_bgcolor\": \"#000\", \"paper_bgcolor\": \"#000\", \"font\": {\"color\": \"#FFF\"}, \"yaxis\": {\"range\": [-0.5, 9.5], \"title\": \"Count Word\", \"tickcolor\": \"#FFF\", \"dtick\": 1}, \"height\": 400}, {\"linkText\": \"Export to plot.ly\", \"showLink\": true})});</script>"
      ],
      "text/vnd.plotly.v1+html": [
       "<div id=\"51be6af9-4356-4d59-9fc6-77bcdbd1bc39\" style=\"height: 400px; width: 400px;\" class=\"plotly-graph-div\"></div><script type=\"text/javascript\">require([\"plotly\"], function(Plotly) { window.PLOTLYENV=window.PLOTLYENV || {};window.PLOTLYENV.BASE_URL=\"https://plot.ly\";Plotly.newPlot(\"51be6af9-4356-4d59-9fc6-77bcdbd1bc39\", [{\"type\": \"heatmap\", \"z\": [[0.0, 0.0, 0.0, 0.0, 0.0, 0.0, 0.0, 0.0, 0.5555549382722909, 0.9999988888901234], [0.9999988888901234, 0.0, 0.0, 0.0, 0.0, 0.0, 0.0, 0.0, 0.0, 0.0], [0.0, 0.9999988888901234, 0.0, 0.0, 0.0, 0.0, 0.0, 0.0, 0.0, 0.0], [0.0, 0.0, 0.9999988888901234, 0.0, 0.0, 0.0, 0.0, 0.0, 0.0, 0.0], [0.0, 0.0, 0.0, 0.9999988888901234, 0.0, 0.0, 0.0, 0.0, 0.0, 0.0], [0.0, 0.0, 0.0, 0.0, 0.9999988888901234, 0.0, 0.0, 0.0, 0.0, 0.0], [0.0, 0.0, 0.0, 0.0, 0.0, 0.666665925926749, 0.0, 0.0, 0.0, 0.0], [0.0, 0.0, 0.0, 0.0, 0.0, 0.3333329629633745, 0.9999988888901234, 0.0, 0.0, 0.0], [0.0, 0.0, 0.0, 0.0, 0.0, 0.0, 0.0, 0.9999988888901234, 0.3333329629633745, 0.0], [0.0, 0.0, 0.0, 0.0, 0.0, 0.0, 0.0, 0.0, 0.11111098765445816, 0.0]], \"colorscale\": \"Jet\"}], {\"xaxis\": {\"range\": [-0.5, 9.5], \"title\": \"Glimpses\", \"tickcolor\": \"#FFF\", \"dtick\": 1}, \"title\": \"5 Blobs:Choice after 204800 Iterations\", \"titlefont\": {\"color\": \"#FFF\"}, \"width\": 400, \"plot_bgcolor\": \"#000\", \"paper_bgcolor\": \"#000\", \"font\": {\"color\": \"#FFF\"}, \"yaxis\": {\"range\": [-0.5, 9.5], \"title\": \"Count Word\", \"tickcolor\": \"#FFF\", \"dtick\": 1}, \"height\": 400}, {\"linkText\": \"Export to plot.ly\", \"showLink\": true})});</script>"
      ]
     },
     "metadata": {},
     "output_type": "display_data"
    },
    {
     "data": {
      "application/vnd.plotly.v1+json": {
       "data": [
        {
         "colorscale": "Jet",
         "type": "heatmap",
         "z": [
          [
           0,
           0,
           0,
           0,
           0,
           0,
           0,
           0,
           0.7499990625011719,
           0.9999987500015626
          ],
          [
           0.9999987500015626,
           0,
           0,
           0,
           0,
           0,
           0,
           0,
           0,
           0
          ],
          [
           0,
           0.9999987500015626,
           0,
           0,
           0,
           0,
           0,
           0,
           0,
           0
          ],
          [
           0,
           0,
           0.9999987500015626,
           0,
           0,
           0,
           0,
           0,
           0,
           0
          ],
          [
           0,
           0,
           0,
           0.9999987500015626,
           0,
           0,
           0,
           0,
           0,
           0
          ],
          [
           0,
           0,
           0,
           0,
           0.7499990625011719,
           0,
           0,
           0,
           0,
           0
          ],
          [
           0,
           0,
           0,
           0,
           0.24999968750039064,
           0.37499953125058594,
           0,
           0,
           0,
           0
          ],
          [
           0,
           0,
           0,
           0,
           0,
           0.6249992187509766,
           0.9999987500015626,
           0,
           0,
           0
          ],
          [
           0,
           0,
           0,
           0,
           0,
           0,
           0,
           0.9999987500015626,
           0.24999968750039064,
           0
          ],
          [
           0,
           0,
           0,
           0,
           0,
           0,
           0,
           0,
           0,
           0
          ]
         ]
        }
       ],
       "layout": {
        "font": {
         "color": "#FFF"
        },
        "height": 400,
        "paper_bgcolor": "#000",
        "plot_bgcolor": "#000",
        "title": "6 Blobs:Choice after 204800 Iterations",
        "titlefont": {
         "color": "#FFF"
        },
        "width": 400,
        "xaxis": {
         "dtick": 1,
         "range": [
          -0.5,
          9.5
         ],
         "tickcolor": "#FFF",
         "title": "Glimpses"
        },
        "yaxis": {
         "dtick": 1,
         "range": [
          -0.5,
          9.5
         ],
         "tickcolor": "#FFF",
         "title": "Count Word"
        }
       }
      },
      "text/html": [
       "<div id=\"d1f7d75b-21c6-484b-b564-7eb9002db2fb\" style=\"height: 400px; width: 400px;\" class=\"plotly-graph-div\"></div><script type=\"text/javascript\">require([\"plotly\"], function(Plotly) { window.PLOTLYENV=window.PLOTLYENV || {};window.PLOTLYENV.BASE_URL=\"https://plot.ly\";Plotly.newPlot(\"d1f7d75b-21c6-484b-b564-7eb9002db2fb\", [{\"type\": \"heatmap\", \"z\": [[0.0, 0.0, 0.0, 0.0, 0.0, 0.0, 0.0, 0.0, 0.7499990625011719, 0.9999987500015626], [0.9999987500015626, 0.0, 0.0, 0.0, 0.0, 0.0, 0.0, 0.0, 0.0, 0.0], [0.0, 0.9999987500015626, 0.0, 0.0, 0.0, 0.0, 0.0, 0.0, 0.0, 0.0], [0.0, 0.0, 0.9999987500015626, 0.0, 0.0, 0.0, 0.0, 0.0, 0.0, 0.0], [0.0, 0.0, 0.0, 0.9999987500015626, 0.0, 0.0, 0.0, 0.0, 0.0, 0.0], [0.0, 0.0, 0.0, 0.0, 0.7499990625011719, 0.0, 0.0, 0.0, 0.0, 0.0], [0.0, 0.0, 0.0, 0.0, 0.24999968750039064, 0.37499953125058594, 0.0, 0.0, 0.0, 0.0], [0.0, 0.0, 0.0, 0.0, 0.0, 0.6249992187509766, 0.9999987500015626, 0.0, 0.0, 0.0], [0.0, 0.0, 0.0, 0.0, 0.0, 0.0, 0.0, 0.9999987500015626, 0.24999968750039064, 0.0], [0.0, 0.0, 0.0, 0.0, 0.0, 0.0, 0.0, 0.0, 0.0, 0.0]], \"colorscale\": \"Jet\"}], {\"xaxis\": {\"range\": [-0.5, 9.5], \"title\": \"Glimpses\", \"tickcolor\": \"#FFF\", \"dtick\": 1}, \"title\": \"6 Blobs:Choice after 204800 Iterations\", \"titlefont\": {\"color\": \"#FFF\"}, \"width\": 400, \"plot_bgcolor\": \"#000\", \"paper_bgcolor\": \"#000\", \"font\": {\"color\": \"#FFF\"}, \"yaxis\": {\"range\": [-0.5, 9.5], \"title\": \"Count Word\", \"tickcolor\": \"#FFF\", \"dtick\": 1}, \"height\": 400}, {\"linkText\": \"Export to plot.ly\", \"showLink\": true})});</script>"
      ],
      "text/vnd.plotly.v1+html": [
       "<div id=\"d1f7d75b-21c6-484b-b564-7eb9002db2fb\" style=\"height: 400px; width: 400px;\" class=\"plotly-graph-div\"></div><script type=\"text/javascript\">require([\"plotly\"], function(Plotly) { window.PLOTLYENV=window.PLOTLYENV || {};window.PLOTLYENV.BASE_URL=\"https://plot.ly\";Plotly.newPlot(\"d1f7d75b-21c6-484b-b564-7eb9002db2fb\", [{\"type\": \"heatmap\", \"z\": [[0.0, 0.0, 0.0, 0.0, 0.0, 0.0, 0.0, 0.0, 0.7499990625011719, 0.9999987500015626], [0.9999987500015626, 0.0, 0.0, 0.0, 0.0, 0.0, 0.0, 0.0, 0.0, 0.0], [0.0, 0.9999987500015626, 0.0, 0.0, 0.0, 0.0, 0.0, 0.0, 0.0, 0.0], [0.0, 0.0, 0.9999987500015626, 0.0, 0.0, 0.0, 0.0, 0.0, 0.0, 0.0], [0.0, 0.0, 0.0, 0.9999987500015626, 0.0, 0.0, 0.0, 0.0, 0.0, 0.0], [0.0, 0.0, 0.0, 0.0, 0.7499990625011719, 0.0, 0.0, 0.0, 0.0, 0.0], [0.0, 0.0, 0.0, 0.0, 0.24999968750039064, 0.37499953125058594, 0.0, 0.0, 0.0, 0.0], [0.0, 0.0, 0.0, 0.0, 0.0, 0.6249992187509766, 0.9999987500015626, 0.0, 0.0, 0.0], [0.0, 0.0, 0.0, 0.0, 0.0, 0.0, 0.0, 0.9999987500015626, 0.24999968750039064, 0.0], [0.0, 0.0, 0.0, 0.0, 0.0, 0.0, 0.0, 0.0, 0.0, 0.0]], \"colorscale\": \"Jet\"}], {\"xaxis\": {\"range\": [-0.5, 9.5], \"title\": \"Glimpses\", \"tickcolor\": \"#FFF\", \"dtick\": 1}, \"title\": \"6 Blobs:Choice after 204800 Iterations\", \"titlefont\": {\"color\": \"#FFF\"}, \"width\": 400, \"plot_bgcolor\": \"#000\", \"paper_bgcolor\": \"#000\", \"font\": {\"color\": \"#FFF\"}, \"yaxis\": {\"range\": [-0.5, 9.5], \"title\": \"Count Word\", \"tickcolor\": \"#FFF\", \"dtick\": 1}, \"height\": 400}, {\"linkText\": \"Export to plot.ly\", \"showLink\": true})});</script>"
      ]
     },
     "metadata": {},
     "output_type": "display_data"
    },
    {
     "data": {
      "application/vnd.plotly.v1+json": {
       "data": [
        {
         "colorscale": "Jet",
         "type": "heatmap",
         "z": [
          [
           0,
           0,
           0,
           0,
           0,
           0,
           0,
           0,
           0.22222197530891633,
           0.9999988888901234
          ],
          [
           0.9999988888901234,
           0,
           0,
           0,
           0,
           0,
           0,
           0,
           0,
           0
          ],
          [
           0,
           0.9999988888901234,
           0,
           0,
           0,
           0,
           0,
           0,
           0,
           0
          ],
          [
           0,
           0,
           0.9999988888901234,
           0,
           0,
           0,
           0,
           0,
           0,
           0
          ],
          [
           0,
           0,
           0,
           0.9999988888901234,
           0,
           0,
           0,
           0,
           0,
           0
          ],
          [
           0,
           0,
           0,
           0,
           0.8888879012356653,
           0,
           0,
           0,
           0,
           0
          ],
          [
           0,
           0,
           0,
           0,
           0.11111098765445816,
           0.3333329629633745,
           0,
           0,
           0,
           0
          ],
          [
           0,
           0,
           0,
           0,
           0,
           0.666665925926749,
           0.9999988888901234,
           0,
           0,
           0
          ],
          [
           0,
           0,
           0,
           0,
           0,
           0,
           0,
           0.9999988888901234,
           0.666665925926749,
           0
          ],
          [
           0,
           0,
           0,
           0,
           0,
           0,
           0,
           0,
           0.11111098765445816,
           0
          ]
         ]
        }
       ],
       "layout": {
        "font": {
         "color": "#FFF"
        },
        "height": 400,
        "paper_bgcolor": "#000",
        "plot_bgcolor": "#000",
        "title": "7 Blobs:Choice after 204800 Iterations",
        "titlefont": {
         "color": "#FFF"
        },
        "width": 400,
        "xaxis": {
         "dtick": 1,
         "range": [
          -0.5,
          9.5
         ],
         "tickcolor": "#FFF",
         "title": "Glimpses"
        },
        "yaxis": {
         "dtick": 1,
         "range": [
          -0.5,
          9.5
         ],
         "tickcolor": "#FFF",
         "title": "Count Word"
        }
       }
      },
      "text/html": [
       "<div id=\"6ca3cbe4-92f1-4d77-9e1a-8e11a61f11c9\" style=\"height: 400px; width: 400px;\" class=\"plotly-graph-div\"></div><script type=\"text/javascript\">require([\"plotly\"], function(Plotly) { window.PLOTLYENV=window.PLOTLYENV || {};window.PLOTLYENV.BASE_URL=\"https://plot.ly\";Plotly.newPlot(\"6ca3cbe4-92f1-4d77-9e1a-8e11a61f11c9\", [{\"type\": \"heatmap\", \"z\": [[0.0, 0.0, 0.0, 0.0, 0.0, 0.0, 0.0, 0.0, 0.22222197530891633, 0.9999988888901234], [0.9999988888901234, 0.0, 0.0, 0.0, 0.0, 0.0, 0.0, 0.0, 0.0, 0.0], [0.0, 0.9999988888901234, 0.0, 0.0, 0.0, 0.0, 0.0, 0.0, 0.0, 0.0], [0.0, 0.0, 0.9999988888901234, 0.0, 0.0, 0.0, 0.0, 0.0, 0.0, 0.0], [0.0, 0.0, 0.0, 0.9999988888901234, 0.0, 0.0, 0.0, 0.0, 0.0, 0.0], [0.0, 0.0, 0.0, 0.0, 0.8888879012356653, 0.0, 0.0, 0.0, 0.0, 0.0], [0.0, 0.0, 0.0, 0.0, 0.11111098765445816, 0.3333329629633745, 0.0, 0.0, 0.0, 0.0], [0.0, 0.0, 0.0, 0.0, 0.0, 0.666665925926749, 0.9999988888901234, 0.0, 0.0, 0.0], [0.0, 0.0, 0.0, 0.0, 0.0, 0.0, 0.0, 0.9999988888901234, 0.666665925926749, 0.0], [0.0, 0.0, 0.0, 0.0, 0.0, 0.0, 0.0, 0.0, 0.11111098765445816, 0.0]], \"colorscale\": \"Jet\"}], {\"xaxis\": {\"range\": [-0.5, 9.5], \"title\": \"Glimpses\", \"tickcolor\": \"#FFF\", \"dtick\": 1}, \"title\": \"7 Blobs:Choice after 204800 Iterations\", \"titlefont\": {\"color\": \"#FFF\"}, \"width\": 400, \"plot_bgcolor\": \"#000\", \"paper_bgcolor\": \"#000\", \"font\": {\"color\": \"#FFF\"}, \"yaxis\": {\"range\": [-0.5, 9.5], \"title\": \"Count Word\", \"tickcolor\": \"#FFF\", \"dtick\": 1}, \"height\": 400}, {\"linkText\": \"Export to plot.ly\", \"showLink\": true})});</script>"
      ],
      "text/vnd.plotly.v1+html": [
       "<div id=\"6ca3cbe4-92f1-4d77-9e1a-8e11a61f11c9\" style=\"height: 400px; width: 400px;\" class=\"plotly-graph-div\"></div><script type=\"text/javascript\">require([\"plotly\"], function(Plotly) { window.PLOTLYENV=window.PLOTLYENV || {};window.PLOTLYENV.BASE_URL=\"https://plot.ly\";Plotly.newPlot(\"6ca3cbe4-92f1-4d77-9e1a-8e11a61f11c9\", [{\"type\": \"heatmap\", \"z\": [[0.0, 0.0, 0.0, 0.0, 0.0, 0.0, 0.0, 0.0, 0.22222197530891633, 0.9999988888901234], [0.9999988888901234, 0.0, 0.0, 0.0, 0.0, 0.0, 0.0, 0.0, 0.0, 0.0], [0.0, 0.9999988888901234, 0.0, 0.0, 0.0, 0.0, 0.0, 0.0, 0.0, 0.0], [0.0, 0.0, 0.9999988888901234, 0.0, 0.0, 0.0, 0.0, 0.0, 0.0, 0.0], [0.0, 0.0, 0.0, 0.9999988888901234, 0.0, 0.0, 0.0, 0.0, 0.0, 0.0], [0.0, 0.0, 0.0, 0.0, 0.8888879012356653, 0.0, 0.0, 0.0, 0.0, 0.0], [0.0, 0.0, 0.0, 0.0, 0.11111098765445816, 0.3333329629633745, 0.0, 0.0, 0.0, 0.0], [0.0, 0.0, 0.0, 0.0, 0.0, 0.666665925926749, 0.9999988888901234, 0.0, 0.0, 0.0], [0.0, 0.0, 0.0, 0.0, 0.0, 0.0, 0.0, 0.9999988888901234, 0.666665925926749, 0.0], [0.0, 0.0, 0.0, 0.0, 0.0, 0.0, 0.0, 0.0, 0.11111098765445816, 0.0]], \"colorscale\": \"Jet\"}], {\"xaxis\": {\"range\": [-0.5, 9.5], \"title\": \"Glimpses\", \"tickcolor\": \"#FFF\", \"dtick\": 1}, \"title\": \"7 Blobs:Choice after 204800 Iterations\", \"titlefont\": {\"color\": \"#FFF\"}, \"width\": 400, \"plot_bgcolor\": \"#000\", \"paper_bgcolor\": \"#000\", \"font\": {\"color\": \"#FFF\"}, \"yaxis\": {\"range\": [-0.5, 9.5], \"title\": \"Count Word\", \"tickcolor\": \"#FFF\", \"dtick\": 1}, \"height\": 400}, {\"linkText\": \"Export to plot.ly\", \"showLink\": true})});</script>"
      ]
     },
     "metadata": {},
     "output_type": "display_data"
    },
    {
     "data": {
      "application/vnd.plotly.v1+json": {
       "data": [
        {
         "colorscale": "Jet",
         "type": "heatmap",
         "z": [
          [
           0,
           0,
           0,
           0,
           0,
           0,
           0,
           0,
           0.38461508875762407,
           0.9999992307698226
          ],
          [
           0.9999992307698226,
           0,
           0,
           0,
           0,
           0,
           0,
           0,
           0,
           0
          ],
          [
           0,
           0.9999992307698226,
           0,
           0,
           0,
           0,
           0,
           0,
           0,
           0
          ],
          [
           0,
           0,
           0.9999992307698226,
           0,
           0,
           0,
           0,
           0,
           0,
           0
          ],
          [
           0,
           0,
           0,
           0.9999992307698226,
           0,
           0,
           0,
           0,
           0,
           0
          ],
          [
           0,
           0,
           0,
           0,
           0.7692301775152481,
           0,
           0,
           0,
           0,
           0
          ],
          [
           0,
           0,
           0,
           0,
           0.23076905325457442,
           0.30769207100609924,
           0,
           0,
           0,
           0
          ],
          [
           0,
           0,
           0,
           0,
           0,
           0.6923071597637233,
           0.9999992307698226,
           0,
           0,
           0
          ],
          [
           0,
           0,
           0,
           0,
           0,
           0,
           0,
           0.9999992307698226,
           0.5384611242606736,
           0
          ],
          [
           0,
           0,
           0,
           0,
           0,
           0,
           0,
           0,
           0.07692301775152481,
           0
          ]
         ]
        }
       ],
       "layout": {
        "font": {
         "color": "#FFF"
        },
        "height": 400,
        "paper_bgcolor": "#000",
        "plot_bgcolor": "#000",
        "title": "8 Blobs:Choice after 204800 Iterations",
        "titlefont": {
         "color": "#FFF"
        },
        "width": 400,
        "xaxis": {
         "dtick": 1,
         "range": [
          -0.5,
          9.5
         ],
         "tickcolor": "#FFF",
         "title": "Glimpses"
        },
        "yaxis": {
         "dtick": 1,
         "range": [
          -0.5,
          9.5
         ],
         "tickcolor": "#FFF",
         "title": "Count Word"
        }
       }
      },
      "text/html": [
       "<div id=\"4c584062-9850-43fe-a9b1-4d839f1d6762\" style=\"height: 400px; width: 400px;\" class=\"plotly-graph-div\"></div><script type=\"text/javascript\">require([\"plotly\"], function(Plotly) { window.PLOTLYENV=window.PLOTLYENV || {};window.PLOTLYENV.BASE_URL=\"https://plot.ly\";Plotly.newPlot(\"4c584062-9850-43fe-a9b1-4d839f1d6762\", [{\"type\": \"heatmap\", \"z\": [[0.0, 0.0, 0.0, 0.0, 0.0, 0.0, 0.0, 0.0, 0.38461508875762407, 0.9999992307698226], [0.9999992307698226, 0.0, 0.0, 0.0, 0.0, 0.0, 0.0, 0.0, 0.0, 0.0], [0.0, 0.9999992307698226, 0.0, 0.0, 0.0, 0.0, 0.0, 0.0, 0.0, 0.0], [0.0, 0.0, 0.9999992307698226, 0.0, 0.0, 0.0, 0.0, 0.0, 0.0, 0.0], [0.0, 0.0, 0.0, 0.9999992307698226, 0.0, 0.0, 0.0, 0.0, 0.0, 0.0], [0.0, 0.0, 0.0, 0.0, 0.7692301775152481, 0.0, 0.0, 0.0, 0.0, 0.0], [0.0, 0.0, 0.0, 0.0, 0.23076905325457442, 0.30769207100609924, 0.0, 0.0, 0.0, 0.0], [0.0, 0.0, 0.0, 0.0, 0.0, 0.6923071597637233, 0.9999992307698226, 0.0, 0.0, 0.0], [0.0, 0.0, 0.0, 0.0, 0.0, 0.0, 0.0, 0.9999992307698226, 0.5384611242606736, 0.0], [0.0, 0.0, 0.0, 0.0, 0.0, 0.0, 0.0, 0.0, 0.07692301775152481, 0.0]], \"colorscale\": \"Jet\"}], {\"xaxis\": {\"range\": [-0.5, 9.5], \"title\": \"Glimpses\", \"tickcolor\": \"#FFF\", \"dtick\": 1}, \"title\": \"8 Blobs:Choice after 204800 Iterations\", \"titlefont\": {\"color\": \"#FFF\"}, \"width\": 400, \"plot_bgcolor\": \"#000\", \"paper_bgcolor\": \"#000\", \"font\": {\"color\": \"#FFF\"}, \"yaxis\": {\"range\": [-0.5, 9.5], \"title\": \"Count Word\", \"tickcolor\": \"#FFF\", \"dtick\": 1}, \"height\": 400}, {\"linkText\": \"Export to plot.ly\", \"showLink\": true})});</script>"
      ],
      "text/vnd.plotly.v1+html": [
       "<div id=\"4c584062-9850-43fe-a9b1-4d839f1d6762\" style=\"height: 400px; width: 400px;\" class=\"plotly-graph-div\"></div><script type=\"text/javascript\">require([\"plotly\"], function(Plotly) { window.PLOTLYENV=window.PLOTLYENV || {};window.PLOTLYENV.BASE_URL=\"https://plot.ly\";Plotly.newPlot(\"4c584062-9850-43fe-a9b1-4d839f1d6762\", [{\"type\": \"heatmap\", \"z\": [[0.0, 0.0, 0.0, 0.0, 0.0, 0.0, 0.0, 0.0, 0.38461508875762407, 0.9999992307698226], [0.9999992307698226, 0.0, 0.0, 0.0, 0.0, 0.0, 0.0, 0.0, 0.0, 0.0], [0.0, 0.9999992307698226, 0.0, 0.0, 0.0, 0.0, 0.0, 0.0, 0.0, 0.0], [0.0, 0.0, 0.9999992307698226, 0.0, 0.0, 0.0, 0.0, 0.0, 0.0, 0.0], [0.0, 0.0, 0.0, 0.9999992307698226, 0.0, 0.0, 0.0, 0.0, 0.0, 0.0], [0.0, 0.0, 0.0, 0.0, 0.7692301775152481, 0.0, 0.0, 0.0, 0.0, 0.0], [0.0, 0.0, 0.0, 0.0, 0.23076905325457442, 0.30769207100609924, 0.0, 0.0, 0.0, 0.0], [0.0, 0.0, 0.0, 0.0, 0.0, 0.6923071597637233, 0.9999992307698226, 0.0, 0.0, 0.0], [0.0, 0.0, 0.0, 0.0, 0.0, 0.0, 0.0, 0.9999992307698226, 0.5384611242606736, 0.0], [0.0, 0.0, 0.0, 0.0, 0.0, 0.0, 0.0, 0.0, 0.07692301775152481, 0.0]], \"colorscale\": \"Jet\"}], {\"xaxis\": {\"range\": [-0.5, 9.5], \"title\": \"Glimpses\", \"tickcolor\": \"#FFF\", \"dtick\": 1}, \"title\": \"8 Blobs:Choice after 204800 Iterations\", \"titlefont\": {\"color\": \"#FFF\"}, \"width\": 400, \"plot_bgcolor\": \"#000\", \"paper_bgcolor\": \"#000\", \"font\": {\"color\": \"#FFF\"}, \"yaxis\": {\"range\": [-0.5, 9.5], \"title\": \"Count Word\", \"tickcolor\": \"#FFF\", \"dtick\": 1}, \"height\": 400}, {\"linkText\": \"Export to plot.ly\", \"showLink\": true})});</script>"
      ]
     },
     "metadata": {},
     "output_type": "display_data"
    },
    {
     "data": {
      "application/vnd.plotly.v1+json": {
       "data": [
        {
         "colorscale": "Jet",
         "type": "heatmap",
         "z": [
          [
           0,
           0,
           0,
           0,
           0,
           0,
           0,
           0,
           0.30769218934915793,
           0.9999996153847633
          ],
          [
           0.9999996153847633,
           0,
           0,
           0,
           0,
           0,
           0,
           0,
           0,
           0
          ],
          [
           0,
           0.9999996153847633,
           0,
           0,
           0,
           0,
           0,
           0,
           0,
           0
          ],
          [
           0,
           0,
           0.9999996153847633,
           0,
           0,
           0,
           0,
           0,
           0,
           0
          ],
          [
           0,
           0,
           0,
           0.9999996153847633,
           0,
           0,
           0,
           0,
           0,
           0
          ],
          [
           0,
           0,
           0,
           0,
           0.8076919970415396,
           0,
           0,
           0,
           0,
           0
          ],
          [
           0,
           0,
           0,
           0,
           0.1923076183432237,
           0.4230767603550922,
           0,
           0,
           0,
           0
          ],
          [
           0,
           0,
           0,
           0,
           0,
           0.5769228550296711,
           0.9999996153847633,
           0,
           0,
           0
          ],
          [
           0,
           0,
           0,
           0,
           0,
           0,
           0,
           0.9999996153847633,
           0.4615382840237369,
           0
          ],
          [
           0,
           0,
           0,
           0,
           0,
           0,
           0,
           0,
           0.23076914201186846,
           0
          ]
         ]
        }
       ],
       "layout": {
        "font": {
         "color": "#FFF"
        },
        "height": 400,
        "paper_bgcolor": "#000",
        "plot_bgcolor": "#000",
        "title": "9 Blobs:Choice after 204800 Iterations",
        "titlefont": {
         "color": "#FFF"
        },
        "width": 400,
        "xaxis": {
         "dtick": 1,
         "range": [
          -0.5,
          9.5
         ],
         "tickcolor": "#FFF",
         "title": "Glimpses"
        },
        "yaxis": {
         "dtick": 1,
         "range": [
          -0.5,
          9.5
         ],
         "tickcolor": "#FFF",
         "title": "Count Word"
        }
       }
      },
      "text/html": [
       "<div id=\"3ca5abdf-ae61-4cb9-8f95-3a7308476b06\" style=\"height: 400px; width: 400px;\" class=\"plotly-graph-div\"></div><script type=\"text/javascript\">require([\"plotly\"], function(Plotly) { window.PLOTLYENV=window.PLOTLYENV || {};window.PLOTLYENV.BASE_URL=\"https://plot.ly\";Plotly.newPlot(\"3ca5abdf-ae61-4cb9-8f95-3a7308476b06\", [{\"type\": \"heatmap\", \"z\": [[0.0, 0.0, 0.0, 0.0, 0.0, 0.0, 0.0, 0.0, 0.30769218934915793, 0.9999996153847633], [0.9999996153847633, 0.0, 0.0, 0.0, 0.0, 0.0, 0.0, 0.0, 0.0, 0.0], [0.0, 0.9999996153847633, 0.0, 0.0, 0.0, 0.0, 0.0, 0.0, 0.0, 0.0], [0.0, 0.0, 0.9999996153847633, 0.0, 0.0, 0.0, 0.0, 0.0, 0.0, 0.0], [0.0, 0.0, 0.0, 0.9999996153847633, 0.0, 0.0, 0.0, 0.0, 0.0, 0.0], [0.0, 0.0, 0.0, 0.0, 0.8076919970415396, 0.0, 0.0, 0.0, 0.0, 0.0], [0.0, 0.0, 0.0, 0.0, 0.1923076183432237, 0.4230767603550922, 0.0, 0.0, 0.0, 0.0], [0.0, 0.0, 0.0, 0.0, 0.0, 0.5769228550296711, 0.9999996153847633, 0.0, 0.0, 0.0], [0.0, 0.0, 0.0, 0.0, 0.0, 0.0, 0.0, 0.9999996153847633, 0.4615382840237369, 0.0], [0.0, 0.0, 0.0, 0.0, 0.0, 0.0, 0.0, 0.0, 0.23076914201186846, 0.0]], \"colorscale\": \"Jet\"}], {\"xaxis\": {\"range\": [-0.5, 9.5], \"title\": \"Glimpses\", \"tickcolor\": \"#FFF\", \"dtick\": 1}, \"title\": \"9 Blobs:Choice after 204800 Iterations\", \"titlefont\": {\"color\": \"#FFF\"}, \"width\": 400, \"plot_bgcolor\": \"#000\", \"paper_bgcolor\": \"#000\", \"font\": {\"color\": \"#FFF\"}, \"yaxis\": {\"range\": [-0.5, 9.5], \"title\": \"Count Word\", \"tickcolor\": \"#FFF\", \"dtick\": 1}, \"height\": 400}, {\"linkText\": \"Export to plot.ly\", \"showLink\": true})});</script>"
      ],
      "text/vnd.plotly.v1+html": [
       "<div id=\"3ca5abdf-ae61-4cb9-8f95-3a7308476b06\" style=\"height: 400px; width: 400px;\" class=\"plotly-graph-div\"></div><script type=\"text/javascript\">require([\"plotly\"], function(Plotly) { window.PLOTLYENV=window.PLOTLYENV || {};window.PLOTLYENV.BASE_URL=\"https://plot.ly\";Plotly.newPlot(\"3ca5abdf-ae61-4cb9-8f95-3a7308476b06\", [{\"type\": \"heatmap\", \"z\": [[0.0, 0.0, 0.0, 0.0, 0.0, 0.0, 0.0, 0.0, 0.30769218934915793, 0.9999996153847633], [0.9999996153847633, 0.0, 0.0, 0.0, 0.0, 0.0, 0.0, 0.0, 0.0, 0.0], [0.0, 0.9999996153847633, 0.0, 0.0, 0.0, 0.0, 0.0, 0.0, 0.0, 0.0], [0.0, 0.0, 0.9999996153847633, 0.0, 0.0, 0.0, 0.0, 0.0, 0.0, 0.0], [0.0, 0.0, 0.0, 0.9999996153847633, 0.0, 0.0, 0.0, 0.0, 0.0, 0.0], [0.0, 0.0, 0.0, 0.0, 0.8076919970415396, 0.0, 0.0, 0.0, 0.0, 0.0], [0.0, 0.0, 0.0, 0.0, 0.1923076183432237, 0.4230767603550922, 0.0, 0.0, 0.0, 0.0], [0.0, 0.0, 0.0, 0.0, 0.0, 0.5769228550296711, 0.9999996153847633, 0.0, 0.0, 0.0], [0.0, 0.0, 0.0, 0.0, 0.0, 0.0, 0.0, 0.9999996153847633, 0.4615382840237369, 0.0], [0.0, 0.0, 0.0, 0.0, 0.0, 0.0, 0.0, 0.0, 0.23076914201186846, 0.0]], \"colorscale\": \"Jet\"}], {\"xaxis\": {\"range\": [-0.5, 9.5], \"title\": \"Glimpses\", \"tickcolor\": \"#FFF\", \"dtick\": 1}, \"title\": \"9 Blobs:Choice after 204800 Iterations\", \"titlefont\": {\"color\": \"#FFF\"}, \"width\": 400, \"plot_bgcolor\": \"#000\", \"paper_bgcolor\": \"#000\", \"font\": {\"color\": \"#FFF\"}, \"yaxis\": {\"range\": [-0.5, 9.5], \"title\": \"Count Word\", \"tickcolor\": \"#FFF\", \"dtick\": 1}, \"height\": 400}, {\"linkText\": \"Export to plot.ly\", \"showLink\": true})});</script>"
      ]
     },
     "metadata": {},
     "output_type": "display_data"
    },
    {
     "ename": "IndexError",
     "evalue": "index 9 is out of bounds for axis 1 with size 9",
     "output_type": "error",
     "traceback": [
      "\u001b[0;31m---------------------------------------------------------------------------\u001b[0m",
      "\u001b[0;31mIndexError\u001b[0m                                Traceback (most recent call last)",
      "\u001b[0;32m<ipython-input-10-4f91a504efce>\u001b[0m in \u001b[0;36m<module>\u001b[0;34m()\u001b[0m\n\u001b[1;32m      1\u001b[0m \u001b[0;32mfor\u001b[0m \u001b[0mn\u001b[0m\u001b[0;34m,\u001b[0m \u001b[0mnum\u001b[0m \u001b[0;32min\u001b[0m \u001b[0menumerate\u001b[0m\u001b[0;34m(\u001b[0m\u001b[0mblob_list\u001b[0m\u001b[0;34m)\u001b[0m\u001b[0;34m:\u001b[0m\u001b[0;34m\u001b[0m\u001b[0m\n\u001b[1;32m      2\u001b[0m     \u001b[0;31m#for i, it in enumerate(iter_list):\u001b[0m\u001b[0;34m\u001b[0m\u001b[0;34m\u001b[0m\u001b[0m\n\u001b[0;32m----> 3\u001b[0;31m     \u001b[0mplot_choice\u001b[0m\u001b[0;34m(\u001b[0m\u001b[0;36m11\u001b[0m\u001b[0;34m,\u001b[0m \u001b[0;36m204800\u001b[0m\u001b[0;34m,\u001b[0m \u001b[0mnum\u001b[0m\u001b[0;34m)\u001b[0m\u001b[0;34m\u001b[0m\u001b[0m\n\u001b[0m\u001b[1;32m      4\u001b[0m     \u001b[0;31m#plot_confidence(18, 3000000, num)\u001b[0m\u001b[0;34m\u001b[0m\u001b[0;34m\u001b[0m\u001b[0m\n\u001b[1;32m      5\u001b[0m     \u001b[0;31m#plot_choice(i, it, num)\u001b[0m\u001b[0;34m\u001b[0m\u001b[0;34m\u001b[0m\u001b[0m\n",
      "\u001b[0;32m<ipython-input-7-c12e72c06e50>\u001b[0m in \u001b[0;36mplot_choice\u001b[0;34m(iter_idx, it, num_blobs, run)\u001b[0m\n\u001b[1;32m     22\u001b[0m         \u001b[0mmatrix\u001b[0m \u001b[0;34m=\u001b[0m \u001b[0mnp\u001b[0m\u001b[0;34m.\u001b[0m\u001b[0mzeros\u001b[0m\u001b[0;34m(\u001b[0m\u001b[0;34m[\u001b[0m\u001b[0;36m10\u001b[0m\u001b[0;34m,\u001b[0m\u001b[0;36m10\u001b[0m\u001b[0;34m]\u001b[0m\u001b[0;34m)\u001b[0m\u001b[0;34m\u001b[0m\u001b[0m\n\u001b[1;32m     23\u001b[0m         \u001b[0;32mfor\u001b[0m \u001b[0mg\u001b[0m \u001b[0;32min\u001b[0m \u001b[0mrange\u001b[0m \u001b[0;34m(\u001b[0m\u001b[0;36m10\u001b[0m\u001b[0;34m)\u001b[0m\u001b[0;34m:\u001b[0m\u001b[0;34m\u001b[0m\u001b[0m\n\u001b[0;32m---> 24\u001b[0;31m             \u001b[0mmatrix\u001b[0m\u001b[0;34m[\u001b[0m\u001b[0;34m:\u001b[0m\u001b[0;34m,\u001b[0m\u001b[0mg\u001b[0m\u001b[0;34m]\u001b[0m \u001b[0;34m=\u001b[0m \u001b[0mchoice_avg\u001b[0m\u001b[0;34m[\u001b[0m\u001b[0miter_idx\u001b[0m\u001b[0;34m,\u001b[0m \u001b[0mnum_blobs\u001b[0m\u001b[0;34m,\u001b[0m \u001b[0mg\u001b[0m\u001b[0;34m,\u001b[0m \u001b[0;36m0\u001b[0m\u001b[0;34m]\u001b[0m\u001b[0;34m\u001b[0m\u001b[0m\n\u001b[0m\u001b[1;32m     25\u001b[0m         \u001b[0mplot_title\u001b[0m \u001b[0;34m=\u001b[0m \u001b[0;34m\"%d Blobs:Choice after %d Iterations\"\u001b[0m \u001b[0;34m%\u001b[0m \u001b[0;34m(\u001b[0m\u001b[0mnum_blobs\u001b[0m\u001b[0;34m+\u001b[0m\u001b[0;36m1\u001b[0m\u001b[0;34m,\u001b[0m \u001b[0mit\u001b[0m\u001b[0;34m)\u001b[0m\u001b[0;34m\u001b[0m\u001b[0m\n\u001b[1;32m     26\u001b[0m     \u001b[0;32melse\u001b[0m\u001b[0;34m:\u001b[0m\u001b[0;34m\u001b[0m\u001b[0m\n",
      "\u001b[0;31mIndexError\u001b[0m: index 9 is out of bounds for axis 1 with size 9"
     ]
    }
   ],
   "source": [
    "for n, num in enumerate(blob_list): \n",
    "    #for i, it in enumerate(iter_list):\n",
    "    plot_choice(11, 204800, num)\n",
    "    #plot_confidence(18, 3000000, num)\n",
    "    #plot_choice(i, it, num)\n",
    "    \n",
    "# iter_list = [0, 400, 800, 1600, 3200, 6400, 12800, 25600, 51200, 102400, 153600, 204800, 307200, 409600, 614400, 819200, 1000000, 2000000, 3000000]"
   ]
  },
  {
   "cell_type": "code",
   "execution_count": null,
   "metadata": {
    "collapsed": true
   },
   "outputs": [],
   "source": [
    "import matplotlib.pyplot as plt\n",
    "from mpl_toolkits.axes_grid1 import ImageGrid\n",
    "import numpy as np\n",
    "\n",
    "F = plt.figure(1, (28,28))\n",
    "F.clf()\n",
    "\n",
    "ZS = np.zeros([num_iters*(output_size-1),10,10])\n",
    "extent = (0, 10, 0, 10) \n",
    "    \n",
    "matrix = np.zeros([10, 10])\n",
    "for num_blobs in range (output_size-1):\n",
    "    for iter_idx in range (num_iters):\n",
    "        for g in range (10):\n",
    "            matrix[:,g] = confidence_avg[iter_idx, num_blobs, g, 0]\n",
    "            ZS[iter_idx+num_iters*num_blobs] = matrix\n",
    "\n",
    "extent = extent[0], extent[1], extent[2], extent[3] \n",
    "\n",
    "grid = ImageGrid(F, 212,\n",
    "                 nrows_ncols=(output_size-1, num_iters),\n",
    "                 direction=\"row\",\n",
    "                 axes_pad=0.05,\n",
    "                 add_all=True,\n",
    "                 label_mode=\"1\",\n",
    "                 share_all=True,\n",
    "                 cbar_location=\"right\",\n",
    "                 cbar_mode=\"single\",\n",
    "                 cbar_size=\"5%\",\n",
    "                 cbar_pad=0.05,\n",
    "                 )\n",
    "\n",
    "grid[0].set_xlabel(\"Glimpse\")\n",
    "grid[0].set_ylabel(\"Count Word\")\n",
    "\n",
    "vmax, vmin = np.max(ZS), np.min(ZS)\n",
    "import matplotlib.colors\n",
    "norm = matplotlib.colors.Normalize(vmax=vmax, vmin=vmin)\n",
    "\n",
    "for ax, im_title in zip(grid, [\"iter=0\", \"400\", \"800\", \"1600\", \"3200\", \"6400\", \"12800\", \"25600\", \"51200\", \"102400\", \"153600\", \"204800\", \"307200\", \"409600\", \"614400\", \"819200\", \"1000000\", \"2000000\", \"3000000\"]):\n",
    "    ax.set_title(im_title)\n",
    "    ax.patch.set_alpha(0.5)\n",
    "        \n",
    "for ax, z in zip(grid, ZS):\n",
    "    im = ax.imshow(z, norm=norm,\n",
    "                   origin=\"lower\", extent=extent,\n",
    "                   interpolation=\"nearest\")\n",
    "\n",
    "# With cbar_mode=\"single\", cax attribute of all axes are identical.\n",
    "ax.cax.colorbar(im)\n",
    "ax.cax.toggle_label(True)\n",
    "\n",
    "grid[0].set_xticks([1,2,3,4,5,6,7,8,9,10])\n",
    "grid[0].set_yticks([0,1,2,3,4,5,6,7,8,9])\n",
    "plt.draw()\n",
    "plt.show()\n",
    "\n"
   ]
  },
  {
   "cell_type": "code",
   "execution_count": null,
   "metadata": {
    "collapsed": true
   },
   "outputs": [],
   "source": []
  }
 ],
 "metadata": {
  "kernelspec": {
   "display_name": "Python 3",
   "language": "python",
   "name": "python3"
  },
  "language_info": {
   "codemirror_mode": {
    "name": "ipython",
    "version": 3
   },
   "file_extension": ".py",
   "mimetype": "text/x-python",
   "name": "python",
   "nbconvert_exporter": "python",
   "pygments_lexer": "ipython3",
   "version": "3.5.2"
  }
 },
 "nbformat": 4,
 "nbformat_minor": 2
}
