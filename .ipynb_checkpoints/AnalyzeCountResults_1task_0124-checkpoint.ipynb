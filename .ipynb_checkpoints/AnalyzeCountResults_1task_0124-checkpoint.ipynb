{
 "cells": [
  {
   "cell_type": "code",
   "execution_count": 1,
   "metadata": {},
   "outputs": [
    {
     "data": {
      "text/html": [
       "<script>requirejs.config({paths: { 'plotly': ['https://cdn.plot.ly/plotly-latest.min']},});if(!window.Plotly) {{require(['plotly'],function(plotly) {window.Plotly=plotly;});}}</script>"
      ],
      "text/vnd.plotly.v1+html": [
       "<script>requirejs.config({paths: { 'plotly': ['https://cdn.plot.ly/plotly-latest.min']},});if(!window.Plotly) {{require(['plotly'],function(plotly) {window.Plotly=plotly;});}}</script>"
      ]
     },
     "metadata": {},
     "output_type": "display_data"
    },
    {
     "name": "stdout",
     "output_type": "stream",
     "text": [
      "['/usr/local/lib/python3.5/dist-packages/ipykernel_launcher.py', '-f', 'true', 'true', 'true', 'true', 'true', 'model_runs/-f/count_log.csv', 'model_runs/-f/countmodel_0.ckpt', 'model_runs/-f/countmodel_', 'true', 'false', 'false', 'true']\n",
      "WARNING:tensorflow:From /home/mtfang/DRAM/COUNT_viz_onetask_nogamma.py:283: arg_max (from tensorflow.python.ops.gen_math_ops) is deprecated and will be removed in a future version.\n",
      "Instructions for updating:\n",
      "Use `argmax` instead\n",
      "WARNING:tensorflow:From /home/mtfang/DRAM/COUNT_viz_onetask_nogamma.py:284: arg_max (from tensorflow.python.ops.gen_math_ops) is deprecated and will be removed in a future version.\n",
      "Instructions for updating:\n",
      "Use `argmax` instead\n"
     ]
    },
    {
     "ename": "NameError",
     "evalue": "name 'points' is not defined",
     "output_type": "error",
     "traceback": [
      "\u001b[0;31m---------------------------------------------------------------------------\u001b[0m",
      "\u001b[0;31mNameError\u001b[0m                                 Traceback (most recent call last)",
      "\u001b[0;32m<ipython-input-1-67953e947187>\u001b[0m in \u001b[0;36m<module>\u001b[0;34m()\u001b[0m\n\u001b[1;32m      3\u001b[0m \u001b[0minit_notebook_mode\u001b[0m\u001b[0;34m(\u001b[0m\u001b[0mconnected\u001b[0m\u001b[0;34m=\u001b[0m\u001b[0;32mTrue\u001b[0m\u001b[0;34m)\u001b[0m\u001b[0;34m\u001b[0m\u001b[0m\n\u001b[1;32m      4\u001b[0m \u001b[0;32mimport\u001b[0m \u001b[0mplotly\u001b[0m\u001b[0;34m.\u001b[0m\u001b[0mgraph_objs\u001b[0m \u001b[0;32mas\u001b[0m \u001b[0mgo\u001b[0m\u001b[0;34m\u001b[0m\u001b[0m\n\u001b[0;32m----> 5\u001b[0;31m \u001b[0;32mfrom\u001b[0m \u001b[0manalysis_count_onetask\u001b[0m \u001b[0;32mimport\u001b[0m \u001b[0mread_n\u001b[0m\u001b[0;34m,\u001b[0m \u001b[0mclassify_imgs2\u001b[0m\u001b[0;34m\u001b[0m\u001b[0m\n\u001b[0m\u001b[1;32m      6\u001b[0m \u001b[0;32mimport\u001b[0m \u001b[0mmatplotlib\u001b[0m\u001b[0;34m.\u001b[0m\u001b[0mpyplot\u001b[0m \u001b[0;32mas\u001b[0m \u001b[0mplt\u001b[0m\u001b[0;34m\u001b[0m\u001b[0m\n\u001b[1;32m      7\u001b[0m \u001b[0;32mimport\u001b[0m \u001b[0moperator\u001b[0m\u001b[0;34m\u001b[0m\u001b[0m\n",
      "\u001b[0;32m~/DRAM/analysis_count_onetask.py\u001b[0m in \u001b[0;36m<module>\u001b[0;34m()\u001b[0m\n\u001b[1;32m     11\u001b[0m \u001b[0;32mimport\u001b[0m \u001b[0msys\u001b[0m\u001b[0;34m\u001b[0m\u001b[0m\n\u001b[1;32m     12\u001b[0m \u001b[0;32mfrom\u001b[0m \u001b[0mmodel_settings\u001b[0m \u001b[0;32mimport\u001b[0m \u001b[0mmin_blobs_train\u001b[0m\u001b[0;34m,\u001b[0m \u001b[0mmax_blobs_train\u001b[0m\u001b[0;34m,\u001b[0m \u001b[0mmin_blobs_test\u001b[0m\u001b[0;34m,\u001b[0m \u001b[0mmax_blobs_test\u001b[0m\u001b[0;34m,\u001b[0m \u001b[0mglimpses\u001b[0m\u001b[0;34m\u001b[0m\u001b[0m\n\u001b[0;32m---> 13\u001b[0;31m \u001b[0;32mfrom\u001b[0m \u001b[0mCOUNT_viz_onetask_nogamma\u001b[0m \u001b[0;32mimport\u001b[0m \u001b[0mxxs\u001b[0m\u001b[0;34m,\u001b[0m \u001b[0myys\u001b[0m\u001b[0;34m,\u001b[0m \u001b[0mblob_point\u001b[0m\u001b[0;34m,\u001b[0m \u001b[0mcorrects\u001b[0m\u001b[0;34m,\u001b[0m \u001b[0mclassification\u001b[0m\u001b[0;34m,\u001b[0m \u001b[0mclassifications\u001b[0m\u001b[0;34m,\u001b[0m \u001b[0mx\u001b[0m\u001b[0;34m,\u001b[0m \u001b[0mcount_word\u001b[0m\u001b[0;34m,\u001b[0m \u001b[0mblob_list\u001b[0m\u001b[0;34m,\u001b[0m \u001b[0msize_list\u001b[0m\u001b[0;34m,\u001b[0m \u001b[0mbatch_size\u001b[0m\u001b[0;34m,\u001b[0m \u001b[0moutput_size\u001b[0m\u001b[0;34m,\u001b[0m \u001b[0mdims\u001b[0m\u001b[0;34m,\u001b[0m \u001b[0mread_n\u001b[0m\u001b[0;34m,\u001b[0m \u001b[0mdelta_1\u001b[0m\u001b[0;34m,\u001b[0m \u001b[0mdelta_2\u001b[0m\u001b[0;34m\u001b[0m\u001b[0m\n\u001b[0m\u001b[1;32m     14\u001b[0m \u001b[0;32mimport\u001b[0m \u001b[0mload_count\u001b[0m\u001b[0;34m\u001b[0m\u001b[0m\n\u001b[1;32m     15\u001b[0m \u001b[0;34m\u001b[0m\u001b[0m\n",
      "\u001b[0;32m~/DRAM/COUNT_viz_onetask_nogamma.py\u001b[0m in \u001b[0;36m<module>\u001b[0;34m()\u001b[0m\n\u001b[1;32m    334\u001b[0m \u001b[0;34m\u001b[0m\u001b[0m\n\u001b[1;32m    335\u001b[0m     \u001b[0;32mwith\u001b[0m \u001b[0mtf\u001b[0m\u001b[0;34m.\u001b[0m\u001b[0mvariable_scope\u001b[0m\u001b[0;34m(\u001b[0m\u001b[0;34m\"output\"\u001b[0m\u001b[0;34m,\u001b[0m\u001b[0mreuse\u001b[0m\u001b[0;34m=\u001b[0m\u001b[0mREUSE\u001b[0m\u001b[0;34m)\u001b[0m\u001b[0;34m:\u001b[0m\u001b[0;34m\u001b[0m\u001b[0m\n\u001b[0;32m--> 336\u001b[0;31m         points.append({\n\u001b[0m\u001b[1;32m    337\u001b[0m             \u001b[0;34m\"gx\"\u001b[0m\u001b[0;34m:\u001b[0m\u001b[0mxx\u001b[0m\u001b[0;34m,\u001b[0m\u001b[0;34m\u001b[0m\u001b[0m\n\u001b[1;32m    338\u001b[0m             \u001b[0;34m\"gy\"\u001b[0m\u001b[0;34m:\u001b[0m\u001b[0myy\u001b[0m\u001b[0;34m,\u001b[0m\u001b[0;34m\u001b[0m\u001b[0m\n",
      "\u001b[0;31mNameError\u001b[0m: name 'points' is not defined"
     ]
    }
   ],
   "source": [
    "import numpy as np\n",
    "from plotly.offline import download_plotlyjs, init_notebook_mode, plot, iplot\n",
    "init_notebook_mode(connected=True)\n",
    "import plotly.graph_objs as go\n",
    "from analysis_count_onetask import read_n, classify_imgs2\n",
    "import matplotlib.pyplot as plt\n",
    "import operator\n",
    "%matplotlib inline"
   ]
  },
  {
   "cell_type": "code",
   "execution_count": null,
   "metadata": {
    "collapsed": true
   },
   "outputs": [],
   "source": [
    "model_name = \"DRAM_1task_0124\"\n",
    "num_runs = 1\n",
    "iter_list = [614400]#[0, 400, 800, 1600, 3200, 6400, 12800, 25600, 51200, 102400, 153600, 204800]#, 307200, 409600, 614400, 819200, 1000000, 2000000, 3000000, 4000000, 5000000, 6000000, 7000000]\n",
    "             #[0, 1000, 4000, 16000, 32000, 64000, 125000, 250000, 500000, 600000]\n",
    "#iter_list = np.arange(0,11100000,100000)\n",
    "glimpse_list = np.arange(0,10,1)\n",
    "max_blobs = 9\n",
    "min_blobs = 1\n",
    "\n",
    "num_iters = len(iter_list)\n",
    "num_glimpses = len(glimpse_list)\n",
    "blob_list = np.arange(0,10,1)\n",
    "output_size = max_blobs - min_blobs + 2 # 10\n",
    "data_directory = \"data/\" + model_name + \"/\"\n",
    "m = 0.5\n",
    "num_imgs = 9000\n",
    "confidence_all_runs = np.zeros([num_runs, num_iters, output_size-1, num_glimpses, 1, output_size]) \n",
    "choice_all_runs = np.zeros([num_runs, num_iters, output_size-1, num_glimpses, 1, output_size])\n",
    "countword_all_runs = np.zeros([num_runs, num_iters, num_imgs, output_size+1])"
   ]
  },
  {
   "cell_type": "code",
   "execution_count": null,
   "metadata": {
    "collapsed": true
   },
   "outputs": [],
   "source": [
    "def fill_matrix(path, iteration):\n",
    "    \"\"\"Fill the confidence and choice matrices for one run at one iteration.\"\"\"\n",
    "    \n",
    "    data = None\n",
    "    num_imgs = 9000 # batch_size\n",
    "    imgs_data = classify_imgs2(iteration, True, num_imgs, path=path) # new_imgs = True\n",
    "        \n",
    "    confidence_one_run = np.zeros([output_size-1, num_glimpses, 1, output_size])\n",
    "    choice_one_run = np.zeros([output_size-1, num_glimpses, 1, output_size])\n",
    "    countword_one_run = np.zeros([num_imgs, output_size+1])\n",
    "    \n",
    "    for nb in range(output_size-1):\n",
    "        confidence_hist = np.zeros([num_glimpses, 1, output_size])\n",
    "        choice_hist = np.zeros([num_glimpses, 1, output_size])\n",
    "        num_imgs_with_num_blobs = 0.00001\n",
    "        \n",
    "        for idx, data in enumerate(imgs_data):\n",
    "            if data[\"label\"][nb] == 1: # data is for an image with nb+1 blobs\n",
    "                num_imgs_with_num_blobs += 1\n",
    "                countword_one_run[idx][0]=nb+1\n",
    "                \n",
    "                for g, glimpse in enumerate(glimpse_list):\n",
    "                    # Histogram of softmaxes\n",
    "                    confidence_hist[glimpse] += data[\"classifications\"][glimpse]\n",
    "                    # Histogram of choices\n",
    "                    choice = np.argmax(data[\"classifications\"][glimpse])\n",
    "                    choice_list = [0] * (output_size)\n",
    "                    choice_list[choice] = 1\n",
    "                    choice_hist[glimpse] += choice_list\n",
    "                    # Count Word\n",
    "                    countword_one_run[idx][glimpse+1]=choice\n",
    "                    \n",
    "        confidence_hist = confidence_hist / num_imgs_with_num_blobs\n",
    "        confidence_one_run[nb] = confidence_hist.tolist()\n",
    "        choice_hist = choice_hist / num_imgs_with_num_blobs\n",
    "        choice_one_run[nb] = choice_hist.tolist()\n",
    "    return imgs_data, confidence_one_run, choice_one_run, countword_one_run"
   ]
  },
  {
   "cell_type": "code",
   "execution_count": null,
   "metadata": {},
   "outputs": [],
   "source": [
    "for run in range(num_runs):\n",
    "    path = 'model_runs/' + model_name + '_run_' + str(run + 1) \n",
    "#     path = 'model_runs/DRAM_test_square'\n",
    "    for i, iteration in enumerate(iter_list):\n",
    "        imgs_data, confidence_all_runs[run, i], choice_all_runs[run, i], countword_all_runs[run, i] = fill_matrix(path, iteration)"
   ]
  },
  {
   "cell_type": "code",
   "execution_count": null,
   "metadata": {
    "collapsed": true,
    "scrolled": false
   },
   "outputs": [],
   "source": [
    "# COUNT WORD\n",
    "num_imgs = 9000\n",
    "confidence_one_run = np.zeros([output_size-1, num_glimpses, 1, output_size])\n",
    "choice_one_run = np.zeros([output_size-1, num_glimpses, 1, output_size])\n",
    "countword_one_run = np.zeros([num_imgs, output_size+1])\n",
    "    \n",
    "for nb in range(output_size-1):\n",
    "    confidence_hist = np.zeros([num_glimpses, 1, output_size])\n",
    "    choice_hist = np.zeros([num_glimpses, 1, output_size])\n",
    "    num_imgs_with_num_blobs = 0.00001\n",
    "        \n",
    "    for idx, data in enumerate(imgs_data):\n",
    "        if data[\"label\"][nb] == 1: # data is for an image with nb+1 blobs\n",
    "            num_imgs_with_num_blobs += 1\n",
    "            countword_one_run[idx][0]=nb+1 \n",
    "            for g, glimpse in enumerate(glimpse_list):\n",
    "                # Histogram of softmaxes\n",
    "                confidence_hist[glimpse] += data[\"classifications\"][glimpse]\n",
    "                # Histogram of choices\n",
    "                choice = np.argmax(data[\"classifications\"][glimpse])\n",
    "                countword_one_run[idx][glimpse+1]=choice\n",
    "                choice_list = [0] * (output_size)\n",
    "                choice_list[choice] = 1\n",
    "                choice_hist[glimpse] += choice_list"
   ]
  },
  {
   "cell_type": "code",
   "execution_count": null,
   "metadata": {
    "collapsed": true
   },
   "outputs": [],
   "source": [
    "sort_cws = np.zeros([num_runs, num_iters, num_imgs, output_size+1])\n",
    "\n",
    "for i in range(num_runs):\n",
    "    for j in range(num_iters):\n",
    "        sort_cws[i][j]=sorted(countword_all_runs[i, j, :], key = operator.itemgetter(0,1,2,3,4,5,6,7,8,9,10), reverse = False) # sorted count words\n",
    "\n",
    "stop_idx=np.ones([num_runs, num_iters, num_imgs])*(-1)\n",
    "\n",
    "for i in range(num_runs):\n",
    "    for j in range(num_iters):\n",
    "        for k in range (num_imgs):\n",
    "            for p in range (1, output_size+1):\n",
    "                if sort_cws[i][j][k][p]==0: # record end position\n",
    "                    stop_idx[i][j][k]=p\n",
    "                    break # stop at the first zero \n",
    "            \n",
    "\n",
    "results=np.zeros([num_runs, num_iters, 9, 11])  \n",
    "\n",
    "for i in range(num_runs):\n",
    "    for j in range(num_iters):\n",
    "        for k in range(num_imgs):\n",
    "            # not-well-formed\n",
    "            if stop_idx[i][j][k]==-1: # no \"I'm done!\" signal\n",
    "                results[i][j][k//1000][10]+=1\n",
    "            # all zeros\n",
    "            elif stop_idx[i][j][k]==1:\n",
    "                results[i][j][k//1000][0]+=1                \n",
    "            else:\n",
    "                for p in range(1,int(stop_idx[i][j][k])): \n",
    "                    if p!=sort_cws[i][j][k][p]:\n",
    "                        results[i][j][k//1000][10]+=1\n",
    "                        break \n",
    "                    elif p==stop_idx[i][j][k]-1:\n",
    "                        idx=int(max(sort_cws[i][j][k][1:int(stop_idx[i][j][k])+1]))\n",
    "                        results[i][j][k//1000][idx]+=1"
   ]
  },
  {
   "cell_type": "code",
   "execution_count": null,
   "metadata": {
    "collapsed": true
   },
   "outputs": [],
   "source": [
    "def plot_count_results(run, it):\n",
    "    \"\"\"Plot the count heatmap.\"\"\"\n",
    "    matrix = np.zeros([9,11])\n",
    "    matrix = results[run, it]\n",
    "    plot_title = \"Count at Run %d after %d Iters\" % (run + 1, iter_list[it])\n",
    "    plot_count_heatmap(matrix, plot_title)\n",
    "\n",
    "def plot_count_heatmap(matrix, plot_title):\n",
    "    \"\"\"Plot heatmap.\"\"\"\n",
    "    labels_1 = [\"0\",\"1\",\"2\",\"3\",\"4\",\"5\",\"6\",\"7\",\"8\",\"9\",\"NWF\"]\n",
    "    labels_2 = [\"1\",\"2\",\"3\",\"4\",\"5\",\"6\",\"7\",\"8\",\"9\"]\n",
    "    data = [go.Heatmap(\n",
    "        z=matrix,\n",
    "        colorscale=\"Jet\",\n",
    "    )]\n",
    "\n",
    "    layout = go.Layout(\n",
    "        title=plot_title,\n",
    "        xaxis=dict(\n",
    "            range=[0 - m, 11 + m],\n",
    "            title=\"Count Results\",\n",
    "            #dtick=1,\n",
    "            tickangle=0,\n",
    "            ticktext=labels_1,\n",
    "            tickvals=[i * 1 for i in range(len(labels_1))],\n",
    "            tickcolor='#FFF'\n",
    "        ),\n",
    "        yaxis=dict(\n",
    "            range=[0 - m, 8 + m],\n",
    "            title=\"True Class\",\n",
    "            #dtick=1,\n",
    "            ticktext=labels_2,\n",
    "            tickvals=[i * 1 for i in range(len(labels_2))],\n",
    "            tickcolor='#FFF'\n",
    "        ),        \n",
    "        width=500,\n",
    "        height=500,\n",
    "        plot_bgcolor=\"#000\",\n",
    "        paper_bgcolor=\"#000\",\n",
    "        font=dict(\n",
    "            color=\"#FFF\"\n",
    "        ),\n",
    "        titlefont=dict(\n",
    "            color=\"#FFF\"\n",
    "        ),\n",
    "    )\n",
    "    fig = go.Figure(data=data, layout=layout)\n",
    "    iplot(fig)\n",
    "\n",
    "def plot_count_results(run, it):\n",
    "    \"\"\"Plot the count heatmap.\"\"\"\n",
    "    matrix = np.zeros([9,11])\n",
    "    for g in range (num_runs):\n",
    "        matrix = results[run, it]\n",
    "        plot_title = \"Count at Run %d after %d Iters\" % (run + 1, iter_list[it])\n",
    "    plot_count_heatmap(matrix, plot_title)"
   ]
  },
  {
   "cell_type": "code",
   "execution_count": null,
   "metadata": {
    "collapsed": true,
    "scrolled": false
   },
   "outputs": [],
   "source": [
    "for run in range(num_runs):\n",
    "    for it in range(num_iters):\n",
    "        plot_count_results(run,it)"
   ]
  },
  {
   "cell_type": "code",
   "execution_count": null,
   "metadata": {},
   "outputs": [],
   "source": [
    "import plotly\n",
    "plotly.tools.set_credentials_file(username='mtfang0707', api_key='18LL0DZ6dDhgqxIQ3yPQ')\n",
    "import plotly.plotly as py\n",
    "import plotly.figure_factory as ff\n",
    "\n",
    "fig = ff.create_annotated_heatmap(results[0][4])\n",
    "py.iplot(fig)"
   ]
  },
  {
   "cell_type": "code",
   "execution_count": null,
   "metadata": {
    "collapsed": true
   },
   "outputs": [],
   "source": [
    "def plot_count_results_wv(run, it):\n",
    "    \"\"\"Plot the count heatmap with values.\"\"\"\n",
    "    data = results[run, it]\n",
    "    title = \"Count at Run %d after %d Iters\" % (run + 1, iter_list[it])\n",
    "    xlabel= \"Count Results\"\n",
    "    ylabel=\"True Class\"\n",
    "    plt.figure(figsize=(output_size+1, output_size-1))\n",
    "    plt.title(title, fontsize=20)\n",
    "    plt.xlabel(xlabel, fontsize=15)\n",
    "    plt.ylabel(ylabel, fontsize=15)\n",
    "    c = plt.pcolor(data, edgecolors='k', linewidths=2, cmap='Reds', vmin=0, vmax=1000)\n",
    "    xbars = ('0', '1', '2', '3', '4', '5', '6', '7', '8', '9', 'NWF')\n",
    "    x_pos=[0.5,1.5,2.5,3.5,4.5,5.5,6.5,7.5,8.5,9.5,10.5]\n",
    "    plt.xticks(x_pos, xbars, fontsize='10', horizontalalignment='center')\n",
    "    ybars = ('1', '2', '3', '4', '5', '6', '7', '8', '9')\n",
    "    y_pos=[0.5,1.5,2.5,3.5,4.5,5.5,6.5,7.5,8.5]\n",
    "    plt.yticks(y_pos, ybars, fontsize='10', horizontalalignment='center')\n",
    " \n",
    "    def show_values(pc, fmt=\"%.0f\", **kw):\n",
    "        pc.update_scalarmappable()\n",
    "        ax = pc.get_axes()\n",
    "        for p, color, value in zip(pc.get_paths(), pc.get_facecolors(), pc.get_array()):\n",
    "            x, y = p.vertices[:-2, :].mean(0)\n",
    "            color = (0.0, 0.0, 0.0) # value color\n",
    "            ax.text(x, y, fmt % value, ha=\"center\", va=\"center\", color=color, **kw)\n",
    "\n",
    "    show_values(c)\n",
    "    plt.colorbar(c)"
   ]
  },
  {
   "cell_type": "code",
   "execution_count": null,
   "metadata": {
    "collapsed": true,
    "scrolled": false
   },
   "outputs": [],
   "source": [
    "for run in range(num_runs):\n",
    "    for it in range(num_iters):\n",
    "        plot_count_results_wv(run,it)"
   ]
  },
  {
   "cell_type": "code",
   "execution_count": null,
   "metadata": {
    "collapsed": true
   },
   "outputs": [],
   "source": [
    "def adj_all_runs(all_runs_matrix):\n",
    "    \"\"\"Adjust all the matrices so tick marks start with 1.\"\"\"\n",
    "    \n",
    "    new_all_runs_matrix = np.zeros([num_runs, num_iters, output_size-1, num_glimpses+1, 1, output_size])\n",
    "    for m, matrix in enumerate(all_runs_matrix):\n",
    "        for i in range(num_iters):\n",
    "            for g in range(num_glimpses):\n",
    "                new_all_runs_matrix[m, i, g] = adj_matrix(matrix[i, g])\n",
    "    return new_all_runs_matrix\n",
    "\n",
    "\n",
    "def adj_matrix(matrix):\n",
    "    \"\"\"Adjust the matrix so tick marks start with 1.\"\"\"\n",
    "    \n",
    "    a = np.zeros([1, output_size])\n",
    "    temp = np.vstack((a, matrix))\n",
    "    b = np.zeros([output_size + 1, 1])\n",
    "    new_matrix = np.hstack((b, temp))\n",
    "    return new_matrix\n",
    "\n",
    "\n",
    "confidence_all_runs_adj = confidence_all_runs#adj_all_runs(confidence_all_runs)\n",
    "choice_all_runs_adj = choice_all_runs#adj_all_runs(choice_all_runs)"
   ]
  },
  {
   "cell_type": "code",
   "execution_count": null,
   "metadata": {
    "collapsed": true
   },
   "outputs": [],
   "source": [
    "confidence_avg = np.mean(confidence_all_runs_adj, axis=0)\n",
    "choice_avg = np.mean(choice_all_runs_adj, axis=0)\n",
    "confidence_avg[5,0,0,0]\n",
    "np.argmax(confidence_all_runs[0,0])\n",
    "#confidence_all_runs[0,0]"
   ]
  },
  {
   "cell_type": "code",
   "execution_count": null,
   "metadata": {
    "collapsed": true
   },
   "outputs": [],
   "source": [
    "def plot_confidence(iter_idx, it, num_blobs, run=None):\n",
    "    \"\"\"Plot the confidence heatmap.\"\"\"\n",
    "    \n",
    "    if run is None:\n",
    "        matrix = np.zeros([10,10])\n",
    "        for g in range (10):\n",
    "            matrix[:,g] = confidence_avg[iter_idx, num_blobs, g, 0]\n",
    "        plot_title = \"%d Blobs:Confidence after %d Iters\" % (num_blobs+1, it)\n",
    "\n",
    "    else:\n",
    "        matrix = np.zeros([10,10])\n",
    "        for g in range (10):\n",
    "            matrix = confidence_all_runs_adj[run, iter_idx, num_blobs, g, 0]\n",
    "        plot_title = \"%d Blobs:Confidence at Run %d after %d Iters\" % (num_blobs+1, run + 1, it)\n",
    "    plot_heatmap(matrix, num_blobs, plot_title)\n",
    "\n",
    "\n",
    "def plot_choice(iter_idx, it, num_blobs, run=None):\n",
    "    \"\"\"Plot the choice heatmap.\"\"\"\n",
    "    \n",
    "    if run is None:\n",
    "        matrix = np.zeros([10,10])\n",
    "        for g in range (10):\n",
    "            matrix[:,g] = choice_avg[iter_idx, num_blobs, g, 0]\n",
    "        plot_title = \"%d Blobs:Choice after %d Iterations\" % (num_blobs+1, it)\n",
    "    else:\n",
    "        matrix = np.zeros([10,10])\n",
    "        for g in range (10):\n",
    "            matrix = choice_all_runs_adj[run, iter_idx, num_blobs, g, 0]\n",
    "        plot_title = \"%d Blobs:Choice at Run %d after %d Iterations\" % (num_blobs+1, run + 1, it)\n",
    "    plot_heatmap(matrix, num_blobs, plot_title)\n",
    "    \n",
    "    \n",
    "def plot_heatmap(matrix, num_blobs, plot_title):\n",
    "    \"\"\"Plot heatmap.\"\"\"\n",
    "    \n",
    "    data = [go.Heatmap(\n",
    "        z=matrix,\n",
    "        colorscale=\"Jet\"\n",
    "    )]\n",
    "\n",
    "    layout = go.Layout(\n",
    "        title=plot_title,\n",
    "        yaxis=dict(\n",
    "#             range=[max_blobs + m, min_blobs - m],\n",
    "            range=[0 - m, 9 + m],\n",
    "            title=\"Count Word\",\n",
    "            dtick=1,\n",
    "            tickcolor='#FFF'\n",
    "        ),\n",
    "        xaxis=dict(\n",
    "            range=[0 - m, 9 + m],\n",
    "            title=\"Glimpses\",\n",
    "            dtick=1,\n",
    "            tickcolor='#FFF'\n",
    "        ),\n",
    "        width=400,\n",
    "        height=400,\n",
    "        plot_bgcolor=\"#000\",\n",
    "        paper_bgcolor=\"#000\",\n",
    "        font=dict(\n",
    "            color=\"#FFF\"\n",
    "        ),\n",
    "        titlefont=dict(\n",
    "            color=\"#FFF\"\n",
    "        ),\n",
    "    )\n",
    "    fig = go.Figure(data=data, layout=layout)\n",
    "    iplot(fig)"
   ]
  },
  {
   "cell_type": "code",
   "execution_count": null,
   "metadata": {
    "collapsed": true,
    "scrolled": false
   },
   "outputs": [],
   "source": [
    "#for n, num in enumerate(blob_list):\n",
    "    #for i, it in enumerate(iter_list):\n",
    "        #plot_confidence(i, it, num)\n",
    "        #plot_choice(i, it, num)"
   ]
  },
  {
   "cell_type": "code",
   "execution_count": null,
   "metadata": {
    "collapsed": true,
    "scrolled": false
   },
   "outputs": [],
   "source": [
    "for n, num in enumerate(blob_list): \n",
    "    #for i, it in enumerate(iter_list):\n",
    "    plot_confidence(0,0, num)\n",
    "    #plot_choice(i, it, num)"
   ]
  },
  {
   "cell_type": "code",
   "execution_count": null,
   "metadata": {
    "collapsed": true
   },
   "outputs": [],
   "source": [
    "import matplotlib.pyplot as plt\n",
    "from mpl_toolkits.axes_grid1 import ImageGrid\n",
    "import numpy as np\n",
    "\n",
    "F = plt.figure(1, (28,28))\n",
    "F.clf()\n",
    "\n",
    "ZS = np.zeros([num_iters*(output_size-1),10,10])\n",
    "extent = (0, 10, 0, 10) \n",
    "    \n",
    "matrix = np.zeros([10, 10])\n",
    "for num_blobs in range (output_size-1):\n",
    "    for iter_idx in range (num_iters):\n",
    "        for g in range (10):\n",
    "            matrix[:,g] = confidence_avg[iter_idx, num_blobs, g, 0]\n",
    "            ZS[iter_idx+num_iters*num_blobs] = matrix\n",
    "\n",
    "extent = extent[0], extent[1], extent[2], extent[3] \n",
    "\n",
    "grid = ImageGrid(F, 212,\n",
    "                 nrows_ncols=(output_size-1, num_iters),\n",
    "                 direction=\"row\",\n",
    "                 axes_pad=0.05,\n",
    "                 add_all=True,\n",
    "                 label_mode=\"1\",\n",
    "                 share_all=True,\n",
    "                 cbar_location=\"right\",\n",
    "                 cbar_mode=\"single\",\n",
    "                 cbar_size=\"5%\",\n",
    "                 cbar_pad=0.05,\n",
    "                 )\n",
    "\n",
    "grid[0].set_xlabel(\"Glimpse\")\n",
    "grid[0].set_ylabel(\"Count Word\")\n",
    "\n",
    "vmax, vmin = np.max(ZS), np.min(ZS)\n",
    "import matplotlib.colors\n",
    "norm = matplotlib.colors.Normalize(vmax=vmax, vmin=vmin)\n",
    "\n",
    "for ax, im_title in zip(grid, [\"iter=0\", \"400\", \"800\", \"1600\", \"3200\", \"6400\", \"12800\", \"25600\", \"51200\", \"102400\", \"153600\", \"204800\", \"307200\", \"409600\", \"614400\", \"819200\"]):\n",
    "    ax.set_title(im_title)\n",
    "    ax.patch.set_alpha(0.5)\n",
    "        \n",
    "for ax, z in zip(grid, ZS):\n",
    "    im = ax.imshow(z, norm=norm,\n",
    "                   origin=\"lower\", extent=extent,\n",
    "                   interpolation=\"nearest\")\n",
    "\n",
    "# With cbar_mode=\"single\", cax attribute of all axes are identical.\n",
    "ax.cax.colorbar(im)\n",
    "ax.cax.toggle_label(True)\n",
    "\n",
    "grid[0].set_xticks([1,2,3,4,5,6,7,8,9,10])\n",
    "grid[0].set_yticks([0,1,2,3,4,5,6,7,8,9])\n",
    "plt.draw()\n",
    "plt.show()"
   ]
  },
  {
   "cell_type": "code",
   "execution_count": null,
   "metadata": {
    "collapsed": true
   },
   "outputs": [],
   "source": []
  }
 ],
 "metadata": {
  "kernelspec": {
   "display_name": "Python 3",
   "language": "python",
   "name": "python3"
  },
  "language_info": {
   "codemirror_mode": {
    "name": "ipython",
    "version": 3
   },
   "file_extension": ".py",
   "mimetype": "text/x-python",
   "name": "python",
   "nbconvert_exporter": "python",
   "pygments_lexer": "ipython3",
   "version": "3.5.2"
  }
 },
 "nbformat": 4,
 "nbformat_minor": 2
}
