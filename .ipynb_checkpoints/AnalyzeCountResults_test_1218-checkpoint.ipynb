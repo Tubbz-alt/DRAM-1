{
 "cells": [
  {
   "cell_type": "code",
   "execution_count": 1,
   "metadata": {},
   "outputs": [
    {
     "data": {
      "text/html": [
       "<script>requirejs.config({paths: { 'plotly': ['https://cdn.plot.ly/plotly-latest.min']},});if(!window.Plotly) {{require(['plotly'],function(plotly) {window.Plotly=plotly;});}}</script>"
      ],
      "text/vnd.plotly.v1+html": [
       "<script>requirejs.config({paths: { 'plotly': ['https://cdn.plot.ly/plotly-latest.min']},});if(!window.Plotly) {{require(['plotly'],function(plotly) {window.Plotly=plotly;});}}</script>"
      ]
     },
     "metadata": {},
     "output_type": "display_data"
    },
    {
     "name": "stdout",
     "output_type": "stream",
     "text": [
      "['/usr/local/lib/python3.5/dist-packages/ipykernel_launcher.py', '-f', 'true', 'true', 'true', 'true', 'true', 'model_runs/-f/count_log.csv', 'model_runs/-f/countmodel_0.ckpt', 'model_runs/-f/countmodel_', 'true', 'false', 'false', 'true']\n",
      "WARNING:tensorflow:From /home/mtfang/DRAM/COUNT_viz.py:271: arg_max (from tensorflow.python.ops.gen_math_ops) is deprecated and will be removed in a future version.\n",
      "Instructions for updating:\n",
      "Use `argmax` instead\n",
      "WARNING:tensorflow:From /home/mtfang/DRAM/COUNT_viz.py:272: arg_max (from tensorflow.python.ops.gen_math_ops) is deprecated and will be removed in a future version.\n",
      "Instructions for updating:\n",
      "Use `argmax` instead\n",
      "WARNING:tensorflow:From /home/mtfang/DRAM/COUNT_viz.py:271: arg_max (from tensorflow.python.ops.gen_math_ops) is deprecated and will be removed in a future version.\n",
      "Instructions for updating:\n",
      "Use `argmax` instead\n",
      "WARNING:tensorflow:From /home/mtfang/DRAM/COUNT_viz.py:272: arg_max (from tensorflow.python.ops.gen_math_ops) is deprecated and will be removed in a future version.\n",
      "Instructions for updating:\n",
      "Use `argmax` instead\n",
      "WARNING:tensorflow:From /home/mtfang/DRAM/COUNT_viz.py:271: arg_max (from tensorflow.python.ops.gen_math_ops) is deprecated and will be removed in a future version.\n",
      "Instructions for updating:\n",
      "Use `argmax` instead\n",
      "WARNING:tensorflow:From /home/mtfang/DRAM/COUNT_viz.py:272: arg_max (from tensorflow.python.ops.gen_math_ops) is deprecated and will be removed in a future version.\n",
      "Instructions for updating:\n",
      "Use `argmax` instead\n",
      "WARNING:tensorflow:From /home/mtfang/DRAM/COUNT_viz.py:271: arg_max (from tensorflow.python.ops.gen_math_ops) is deprecated and will be removed in a future version.\n",
      "Instructions for updating:\n",
      "Use `argmax` instead\n",
      "WARNING:tensorflow:From /home/mtfang/DRAM/COUNT_viz.py:272: arg_max (from tensorflow.python.ops.gen_math_ops) is deprecated and will be removed in a future version.\n",
      "Instructions for updating:\n",
      "Use `argmax` instead\n",
      "WARNING:tensorflow:From /home/mtfang/DRAM/COUNT_viz.py:271: arg_max (from tensorflow.python.ops.gen_math_ops) is deprecated and will be removed in a future version.\n",
      "Instructions for updating:\n",
      "Use `argmax` instead\n",
      "WARNING:tensorflow:From /home/mtfang/DRAM/COUNT_viz.py:272: arg_max (from tensorflow.python.ops.gen_math_ops) is deprecated and will be removed in a future version.\n",
      "Instructions for updating:\n",
      "Use `argmax` instead\n",
      "WARNING:tensorflow:From /home/mtfang/DRAM/COUNT_viz.py:271: arg_max (from tensorflow.python.ops.gen_math_ops) is deprecated and will be removed in a future version.\n",
      "Instructions for updating:\n",
      "Use `argmax` instead\n",
      "WARNING:tensorflow:From /home/mtfang/DRAM/COUNT_viz.py:272: arg_max (from tensorflow.python.ops.gen_math_ops) is deprecated and will be removed in a future version.\n",
      "Instructions for updating:\n",
      "Use `argmax` instead\n",
      "WARNING:tensorflow:From /home/mtfang/DRAM/COUNT_viz.py:271: arg_max (from tensorflow.python.ops.gen_math_ops) is deprecated and will be removed in a future version.\n",
      "Instructions for updating:\n",
      "Use `argmax` instead\n",
      "WARNING:tensorflow:From /home/mtfang/DRAM/COUNT_viz.py:272: arg_max (from tensorflow.python.ops.gen_math_ops) is deprecated and will be removed in a future version.\n",
      "Instructions for updating:\n",
      "Use `argmax` instead\n",
      "WARNING:tensorflow:From /home/mtfang/DRAM/COUNT_viz.py:271: arg_max (from tensorflow.python.ops.gen_math_ops) is deprecated and will be removed in a future version.\n",
      "Instructions for updating:\n",
      "Use `argmax` instead\n",
      "WARNING:tensorflow:From /home/mtfang/DRAM/COUNT_viz.py:272: arg_max (from tensorflow.python.ops.gen_math_ops) is deprecated and will be removed in a future version.\n",
      "Instructions for updating:\n",
      "Use `argmax` instead\n",
      "WARNING:tensorflow:From /home/mtfang/DRAM/COUNT_viz.py:271: arg_max (from tensorflow.python.ops.gen_math_ops) is deprecated and will be removed in a future version.\n",
      "Instructions for updating:\n",
      "Use `argmax` instead\n",
      "WARNING:tensorflow:From /home/mtfang/DRAM/COUNT_viz.py:272: arg_max (from tensorflow.python.ops.gen_math_ops) is deprecated and will be removed in a future version.\n",
      "Instructions for updating:\n",
      "Use `argmax` instead\n",
      "WARNING:tensorflow:From /home/mtfang/DRAM/COUNT_viz.py:271: arg_max (from tensorflow.python.ops.gen_math_ops) is deprecated and will be removed in a future version.\n",
      "Instructions for updating:\n",
      "Use `argmax` instead\n",
      "WARNING:tensorflow:From /home/mtfang/DRAM/COUNT_viz.py:272: arg_max (from tensorflow.python.ops.gen_math_ops) is deprecated and will be removed in a future version.\n",
      "Instructions for updating:\n",
      "Use `argmax` instead\n",
      "analysis_count.py\n"
     ]
    }
   ],
   "source": [
    "import numpy as np\n",
    "from plotly.offline import download_plotlyjs, init_notebook_mode, plot, iplot\n",
    "init_notebook_mode(connected=True)\n",
    "import plotly.graph_objs as go\n",
    "from analysis_count import read_n, classify_imgs2\n",
    "import matplotlib.pyplot as plt\n",
    "%matplotlib inline"
   ]
  },
  {
   "cell_type": "code",
   "execution_count": 2,
   "metadata": {
    "collapsed": true
   },
   "outputs": [],
   "source": [
    "model_name = \"test_1218\"\n",
    "num_runs = 1\n",
    "iter_list = [0, 400, 800, 1600, 3200, 6400, 12800, 25600, 51200, 102400, 153600, 204800, 307200, 409600, 614400, 819200]\n",
    "             #[0, 1000, 4000, 16000, 32000, 64000, 125000, 250000, 500000, 600000]\n",
    "#iter_list = np.arange(0,11100000,100000)\n",
    "glimpse_list = np.arange(0,10,1)\n",
    "max_blobs = 9\n",
    "min_blobs = 1\n",
    "\n",
    "num_iters = len(iter_list)\n",
    "num_glimpses = len(glimpse_list)\n",
    "blob_list = np.arange(0,10,1)\n",
    "output_size = max_blobs - min_blobs + 2 # 10\n",
    "data_directory = \"data/\" + model_name + \"/\"\n",
    "m = 0.5\n",
    "\n",
    "confidence_all_runs = np.zeros([num_runs, num_iters, output_size-1, num_glimpses, 1, output_size]) \n",
    "choice_all_runs = np.zeros([num_runs, num_iters, output_size-1, num_glimpses, 1, output_size])"
   ]
  },
  {
   "cell_type": "code",
   "execution_count": 3,
   "metadata": {
    "collapsed": true
   },
   "outputs": [],
   "source": [
    "def fill_matrix(path, iteration):\n",
    "    \"\"\"Fill the confidence and choice matrices for one run at one iteration.\"\"\"\n",
    "    \n",
    "    data = None\n",
    "    num_imgs = 100 # batch_size\n",
    "    imgs_data = classify_imgs2(iteration, True, num_imgs, path=path) # new_imgs = True\n",
    "        \n",
    "    confidence_one_run = np.zeros([output_size-1, num_glimpses, 1, output_size])\n",
    "    choice_one_run = np.zeros([output_size-1, num_glimpses, 1, output_size])\n",
    "    \n",
    "    for nb in range(output_size-1):\n",
    "        confidence_hist = np.zeros([num_glimpses, 1, output_size])\n",
    "        choice_hist = np.zeros([num_glimpses, 1, output_size])\n",
    "        num_imgs_with_num_blobs = 0.00001\n",
    "        \n",
    "        for idx, data in enumerate(imgs_data):\n",
    "            if data[\"label\"][nb] == 1: # data is for an image with nb+1 blobs\n",
    "                num_imgs_with_num_blobs += 1\n",
    "                \n",
    "                for g, glimpse in enumerate(glimpse_list):\n",
    "                    # Histogram of softmaxes\n",
    "                    confidence_hist[glimpse] += data[\"classifications\"][glimpse]\n",
    "                    # Histogram of choices\n",
    "                    choice = np.argmax(data[\"classifications\"][glimpse])\n",
    "                    choice_list = [0] * (output_size)\n",
    "                    choice_list[choice] = 1\n",
    "                    choice_hist[glimpse] += choice_list\n",
    "\n",
    "        confidence_hist = confidence_hist / num_imgs_with_num_blobs\n",
    "        confidence_one_run[nb] = confidence_hist.tolist()\n",
    "        choice_hist = choice_hist / num_imgs_with_num_blobs\n",
    "        choice_one_run[nb] = choice_hist.tolist()\n",
    "    return confidence_one_run, choice_one_run"
   ]
  },
  {
   "cell_type": "code",
   "execution_count": 4,
   "metadata": {},
   "outputs": [
    {
     "name": "stdout",
     "output_type": "stream",
     "text": [
      "INFO:tensorflow:Restoring parameters from model_runs/test_1218/countmodel_0.ckpt\n",
      "INFO:tensorflow:Restoring parameters from model_runs/test_1218/countmodel_400.ckpt\n",
      "INFO:tensorflow:Restoring parameters from model_runs/test_1218/countmodel_800.ckpt\n",
      "INFO:tensorflow:Restoring parameters from model_runs/test_1218/countmodel_1600.ckpt\n",
      "INFO:tensorflow:Restoring parameters from model_runs/test_1218/countmodel_3200.ckpt\n",
      "INFO:tensorflow:Restoring parameters from model_runs/test_1218/countmodel_6400.ckpt\n",
      "INFO:tensorflow:Restoring parameters from model_runs/test_1218/countmodel_12800.ckpt\n",
      "INFO:tensorflow:Restoring parameters from model_runs/test_1218/countmodel_25600.ckpt\n",
      "INFO:tensorflow:Restoring parameters from model_runs/test_1218/countmodel_51200.ckpt\n",
      "INFO:tensorflow:Restoring parameters from model_runs/test_1218/countmodel_102400.ckpt\n",
      "INFO:tensorflow:Restoring parameters from model_runs/test_1218/countmodel_153600.ckpt\n",
      "INFO:tensorflow:Restoring parameters from model_runs/test_1218/countmodel_204800.ckpt\n",
      "INFO:tensorflow:Restoring parameters from model_runs/test_1218/countmodel_307200.ckpt\n",
      "INFO:tensorflow:Restoring parameters from model_runs/test_1218/countmodel_409600.ckpt\n",
      "INFO:tensorflow:Restoring parameters from model_runs/test_1218/countmodel_614400.ckpt\n",
      "INFO:tensorflow:Restoring parameters from model_runs/test_1218/countmodel_819200.ckpt\n"
     ]
    }
   ],
   "source": [
    "for run in range(num_runs):\n",
    "    path = 'model_runs/' + model_name # '_run_' + str(run + 1) \n",
    "#     path = 'model_runs/DRAM_test_square'\n",
    "    for i, iteration in enumerate(iter_list):\n",
    "        confidence_all_runs[run, i], choice_all_runs[run, i] = fill_matrix(path, iteration)"
   ]
  },
  {
   "cell_type": "code",
   "execution_count": 5,
   "metadata": {
    "collapsed": true
   },
   "outputs": [],
   "source": [
    "def adj_all_runs(all_runs_matrix):\n",
    "    \"\"\"Adjust all the matrices so tick marks start with 1.\"\"\"\n",
    "    \n",
    "    new_all_runs_matrix = np.zeros([num_runs, num_iters, output_size-1, num_glimpses+1, 1, output_size])\n",
    "    for m, matrix in enumerate(all_runs_matrix):\n",
    "        for i in range(num_iters):\n",
    "            for g in range(num_glimpses):\n",
    "                new_all_runs_matrix[m, i, g] = adj_matrix(matrix[i, g])\n",
    "    return new_all_runs_matrix\n",
    "\n",
    "\n",
    "def adj_matrix(matrix):\n",
    "    \"\"\"Adjust the matrix so tick marks start with 1.\"\"\"\n",
    "    \n",
    "    a = np.zeros([1, output_size])\n",
    "    temp = np.vstack((a, matrix))\n",
    "    b = np.zeros([output_size + 1, 1])\n",
    "    new_matrix = np.hstack((b, temp))\n",
    "    return new_matrix\n",
    "\n",
    "\n",
    "confidence_all_runs_adj = confidence_all_runs#adj_all_runs(confidence_all_runs)\n",
    "choice_all_runs_adj = choice_all_runs#adj_all_runs(choice_all_runs)"
   ]
  },
  {
   "cell_type": "code",
   "execution_count": 6,
   "metadata": {},
   "outputs": [
    {
     "data": {
      "text/plain": [
       "array([  2.65031930e-06,   9.98914915e-01,   1.07200400e-03,\n",
       "         3.37738179e-06,   7.86266694e-07,   1.00383277e-06,\n",
       "         9.73073496e-07,   9.13598912e-07,   1.08181621e-06,\n",
       "         1.03836848e-06])"
      ]
     },
     "execution_count": 6,
     "metadata": {},
     "output_type": "execute_result"
    }
   ],
   "source": [
    "confidence_avg = np.mean(confidence_all_runs_adj, axis=0)\n",
    "choice_avg = np.mean(choice_all_runs_adj, axis=0)\n",
    "confidence_avg[5,0,0,0]"
   ]
  },
  {
   "cell_type": "code",
   "execution_count": 7,
   "metadata": {
    "collapsed": true
   },
   "outputs": [],
   "source": [
    "def plot_confidence(iter_idx, it, num_blobs, run=None):\n",
    "    \"\"\"Plot the confidence heatmap.\"\"\"\n",
    "    \n",
    "    if run is None:\n",
    "        matrix = np.zeros([10,10])\n",
    "        for g in range (10):\n",
    "            matrix[:,g] = confidence_avg[iter_idx, num_blobs, g, 0]\n",
    "        plot_title = \"%d Blobs:Confidence after %d Iters\" % (num_blobs+1, it)\n",
    "\n",
    "    else:\n",
    "        matrix = np.zeros([10,10])\n",
    "        for g in range (10):\n",
    "            matrix = confidence_all_runs_adj[run, iter_idx, num_blobs, g, 0]\n",
    "        plot_title = \"%d Blobs:Confidence at Run %d after %d Iters\" % (num_blobs+1, run + 1, it)\n",
    "    plot_heatmap(matrix, num_blobs, plot_title)\n",
    "\n",
    "\n",
    "def plot_choice(iter_idx, it, num_blobs, run=None):\n",
    "    \"\"\"Plot the choice heatmap.\"\"\"\n",
    "    \n",
    "    if run is None:\n",
    "        matrix = np.zeros([10,10])\n",
    "        for g in range (10):\n",
    "            matrix[:,g] = choice_avg[iter_idx, num_blobs, g, 0]\n",
    "        plot_title = \"%d Blobs:Choice after %d Iterations\" % (num_blobs+1, it)\n",
    "    else:\n",
    "        matrix = np.zeros([10,10])\n",
    "        for g in range (10):\n",
    "            matrix = choice_all_runs_adj[run, iter_idx, num_blobs, g, 0]\n",
    "        plot_title = \"%d Blobs:Choice at Run %d after %d Iterations\" % (num_blobs+1, run + 1, it)\n",
    "    plot_heatmap(matrix, num_blobs, plot_title)\n",
    "    \n",
    "    \n",
    "def plot_heatmap(matrix, num_blobs, plot_title):\n",
    "    \"\"\"Plot heatmap.\"\"\"\n",
    "    \n",
    "    data = [go.Heatmap(\n",
    "        z=matrix,\n",
    "        colorscale=\"Jet\"\n",
    "    )]\n",
    "\n",
    "    layout = go.Layout(\n",
    "        title=plot_title,\n",
    "        yaxis=dict(\n",
    "#             range=[max_blobs + m, min_blobs - m],\n",
    "            range=[0 - m, 9 + m],\n",
    "            title=\"Count Word\",\n",
    "            dtick=1,\n",
    "            tickcolor='#FFF'\n",
    "        ),\n",
    "        xaxis=dict(\n",
    "            range=[0 - m, 9 + m],\n",
    "            title=\"Glimpses\",\n",
    "            dtick=1,\n",
    "            tickcolor='#FFF'\n",
    "        ),\n",
    "        width=400,\n",
    "        height=400,\n",
    "        plot_bgcolor=\"#000\",\n",
    "        paper_bgcolor=\"#000\",\n",
    "        font=dict(\n",
    "            color=\"#FFF\"\n",
    "        ),\n",
    "        titlefont=dict(\n",
    "            color=\"#FFF\"\n",
    "        ),\n",
    "    )\n",
    "    fig = go.Figure(data=data, layout=layout)\n",
    "    iplot(fig)"
   ]
  },
  {
   "cell_type": "code",
   "execution_count": 8,
   "metadata": {
    "scrolled": false
   },
   "outputs": [],
   "source": [
    "#for n, num in enumerate(blob_list):\n",
    "    #for i, it in enumerate(iter_list):\n",
    "        #plot_confidence(i, it, num)\n",
    "        #plot_choice(i, it, num)"
   ]
  },
  {
   "cell_type": "code",
   "execution_count": 14,
   "metadata": {
    "scrolled": false
   },
   "outputs": [
    {
     "data": {
      "application/vnd.plotly.v1+json": {
       "data": [
        {
         "colorscale": "Jet",
         "type": "heatmap",
         "z": [
          [
           2.353594754514537e-05,
           0.9963595525331348,
           0.9980714092744976,
           0.9950052040539034,
           0.9740066037496476,
           0.9480003314014059,
           0.9535227287175404,
           0.9043631704187226,
           0.9573080962919719,
           0.9995810144353848
          ],
          [
           0.9999581061129347,
           4.648031715348826e-07,
           3.7565587096754524e-12,
           2.9179018845121086e-10,
           1.2688501447574931e-06,
           5.279801283851355e-06,
           1.485916123978661e-07,
           8.155964575016211e-09,
           1.4753518276233252e-11,
           1.569199547824992e-10
          ],
          [
           3.290351698948798e-06,
           0.0036135806614220655,
           2.2386005501749582e-08,
           2.076856559557058e-11,
           1.1781770405486705e-10,
           2.0679683463663498e-08,
           8.833174238207211e-07,
           4.404942970850732e-07,
           9.21693250502736e-09,
           4.746236556707981e-11
          ],
          [
           1.53108812556568e-07,
           1.6464467424840953e-05,
           0.0018661049715631788,
           2.97044980965175e-07,
           5.750307516364199e-10,
           3.016854500400554e-11,
           2.6335999681838503e-09,
           5.18362579029111e-06,
           3.119732831785542e-05,
           7.396927941814526e-07
          ],
          [
           4.6100333876864836e-07,
           5.1285237373354996e-08,
           5.3829345955220975e-05,
           0.004075677562110013,
           2.249680833408815e-06,
           2.13303701088625e-09,
           1.6728484062263637e-10,
           5.8689763884543006e-08,
           5.669472346349552e-06,
           7.522073872872789e-05
          ],
          [
           6.365863301851862e-07,
           6.944241379682281e-10,
           6.37573626640545e-08,
           0.0009154179908437829,
           0.01613696369452937,
           3.9967298030954615e-06,
           2.8058744435220576e-09,
           1.4492281413830244e-09,
           1.7083921403675525e-08,
           2.2407028660696643e-05
          ],
          [
           4.666149980558596e-06,
           5.880292201935134e-09,
           1.006494728987275e-10,
           6.292557131370274e-07,
           0.009849505213580101,
           0.04498597296232082,
           2.441990008293731e-05,
           1.6821040546817473e-08,
           6.653150169523497e-10,
           2.0314661975050595e-07
          ],
          [
           3.933743717529515e-06,
           9.174202537670002e-07,
           1.7648851180900909e-10,
           7.018606425307302e-10,
           2.202042620464892e-06,
           0.006998804738166261,
           0.03715696258575471,
           5.0150005244567184e-05,
           1.7284816264977442e-08,
           3.356463751092159e-09
          ],
          [
           2.833146491889227e-06,
           4.493888664580592e-06,
           2.866562801980174e-08,
           1.553751387433776e-09,
           8.807954546583115e-09,
           4.368010495779718e-06,
           0.009275506551171216,
           0.07171071088066791,
           7.3582167811917e-05,
           7.893382464039176e-08
          ],
          [
           1.2697173185703977e-06,
           3.391176562154152e-06,
           7.452084225453234e-06,
           1.6873247114005912e-06,
           1.2293719581596807e-07,
           1.0856469300536262e-07,
           1.822528507504218e-05,
           0.0238691968022174,
           0.04258032565286949,
           0.0003192284998017411
          ]
         ]
        }
       ],
       "layout": {
        "font": {
         "color": "#FFF"
        },
        "height": 400,
        "paper_bgcolor": "#000",
        "plot_bgcolor": "#000",
        "title": "1 Blobs:Confidence after 819200 Iters",
        "titlefont": {
         "color": "#FFF"
        },
        "width": 400,
        "xaxis": {
         "dtick": 1,
         "range": [
          -0.5,
          9.5
         ],
         "tickcolor": "#FFF",
         "title": "Glimpses"
        },
        "yaxis": {
         "dtick": 1,
         "range": [
          -0.5,
          9.5
         ],
         "tickcolor": "#FFF",
         "title": "Count Word"
        }
       }
      },
      "text/html": [
       "<div id=\"51f37cd0-675d-45b9-bbff-5b55b6f41da1\" style=\"height: 400px; width: 400px;\" class=\"plotly-graph-div\"></div><script type=\"text/javascript\">require([\"plotly\"], function(Plotly) { window.PLOTLYENV=window.PLOTLYENV || {};window.PLOTLYENV.BASE_URL=\"https://plot.ly\";Plotly.newPlot(\"51f37cd0-675d-45b9-bbff-5b55b6f41da1\", [{\"type\": \"heatmap\", \"colorscale\": \"Jet\", \"z\": [[2.353594754514537e-05, 0.9963595525331348, 0.9980714092744976, 0.9950052040539034, 0.9740066037496476, 0.9480003314014059, 0.9535227287175404, 0.9043631704187226, 0.9573080962919719, 0.9995810144353848], [0.9999581061129347, 4.648031715348826e-07, 3.7565587096754524e-12, 2.9179018845121086e-10, 1.2688501447574931e-06, 5.279801283851355e-06, 1.485916123978661e-07, 8.155964575016211e-09, 1.4753518276233252e-11, 1.569199547824992e-10], [3.290351698948798e-06, 0.0036135806614220655, 2.2386005501749582e-08, 2.076856559557058e-11, 1.1781770405486705e-10, 2.0679683463663498e-08, 8.833174238207211e-07, 4.404942970850732e-07, 9.21693250502736e-09, 4.746236556707981e-11], [1.53108812556568e-07, 1.6464467424840953e-05, 0.0018661049715631788, 2.97044980965175e-07, 5.750307516364199e-10, 3.016854500400554e-11, 2.6335999681838503e-09, 5.18362579029111e-06, 3.119732831785542e-05, 7.396927941814526e-07], [4.6100333876864836e-07, 5.1285237373354996e-08, 5.3829345955220975e-05, 0.004075677562110013, 2.249680833408815e-06, 2.13303701088625e-09, 1.6728484062263637e-10, 5.8689763884543006e-08, 5.669472346349552e-06, 7.522073872872789e-05], [6.365863301851862e-07, 6.944241379682281e-10, 6.37573626640545e-08, 0.0009154179908437829, 0.01613696369452937, 3.9967298030954615e-06, 2.8058744435220576e-09, 1.4492281413830244e-09, 1.7083921403675525e-08, 2.2407028660696643e-05], [4.666149980558596e-06, 5.880292201935134e-09, 1.006494728987275e-10, 6.292557131370274e-07, 0.009849505213580101, 0.04498597296232082, 2.441990008293731e-05, 1.6821040546817473e-08, 6.653150169523497e-10, 2.0314661975050595e-07], [3.933743717529515e-06, 9.174202537670002e-07, 1.7648851180900909e-10, 7.018606425307302e-10, 2.202042620464892e-06, 0.006998804738166261, 0.03715696258575471, 5.0150005244567184e-05, 1.7284816264977442e-08, 3.356463751092159e-09], [2.833146491889227e-06, 4.493888664580592e-06, 2.866562801980174e-08, 1.553751387433776e-09, 8.807954546583115e-09, 4.368010495779718e-06, 0.009275506551171216, 0.07171071088066791, 7.3582167811917e-05, 7.893382464039176e-08], [1.2697173185703977e-06, 3.391176562154152e-06, 7.452084225453234e-06, 1.6873247114005912e-06, 1.2293719581596807e-07, 1.0856469300536262e-07, 1.822528507504218e-05, 0.0238691968022174, 0.04258032565286949, 0.0003192284998017411]]}], {\"plot_bgcolor\": \"#000\", \"title\": \"1 Blobs:Confidence after 819200 Iters\", \"height\": 400, \"font\": {\"color\": \"#FFF\"}, \"yaxis\": {\"tickcolor\": \"#FFF\", \"range\": [-0.5, 9.5], \"dtick\": 1, \"title\": \"Count Word\"}, \"paper_bgcolor\": \"#000\", \"titlefont\": {\"color\": \"#FFF\"}, \"xaxis\": {\"tickcolor\": \"#FFF\", \"range\": [-0.5, 9.5], \"dtick\": 1, \"title\": \"Glimpses\"}, \"width\": 400}, {\"linkText\": \"Export to plot.ly\", \"showLink\": true})});</script>"
      ],
      "text/vnd.plotly.v1+html": [
       "<div id=\"51f37cd0-675d-45b9-bbff-5b55b6f41da1\" style=\"height: 400px; width: 400px;\" class=\"plotly-graph-div\"></div><script type=\"text/javascript\">require([\"plotly\"], function(Plotly) { window.PLOTLYENV=window.PLOTLYENV || {};window.PLOTLYENV.BASE_URL=\"https://plot.ly\";Plotly.newPlot(\"51f37cd0-675d-45b9-bbff-5b55b6f41da1\", [{\"type\": \"heatmap\", \"colorscale\": \"Jet\", \"z\": [[2.353594754514537e-05, 0.9963595525331348, 0.9980714092744976, 0.9950052040539034, 0.9740066037496476, 0.9480003314014059, 0.9535227287175404, 0.9043631704187226, 0.9573080962919719, 0.9995810144353848], [0.9999581061129347, 4.648031715348826e-07, 3.7565587096754524e-12, 2.9179018845121086e-10, 1.2688501447574931e-06, 5.279801283851355e-06, 1.485916123978661e-07, 8.155964575016211e-09, 1.4753518276233252e-11, 1.569199547824992e-10], [3.290351698948798e-06, 0.0036135806614220655, 2.2386005501749582e-08, 2.076856559557058e-11, 1.1781770405486705e-10, 2.0679683463663498e-08, 8.833174238207211e-07, 4.404942970850732e-07, 9.21693250502736e-09, 4.746236556707981e-11], [1.53108812556568e-07, 1.6464467424840953e-05, 0.0018661049715631788, 2.97044980965175e-07, 5.750307516364199e-10, 3.016854500400554e-11, 2.6335999681838503e-09, 5.18362579029111e-06, 3.119732831785542e-05, 7.396927941814526e-07], [4.6100333876864836e-07, 5.1285237373354996e-08, 5.3829345955220975e-05, 0.004075677562110013, 2.249680833408815e-06, 2.13303701088625e-09, 1.6728484062263637e-10, 5.8689763884543006e-08, 5.669472346349552e-06, 7.522073872872789e-05], [6.365863301851862e-07, 6.944241379682281e-10, 6.37573626640545e-08, 0.0009154179908437829, 0.01613696369452937, 3.9967298030954615e-06, 2.8058744435220576e-09, 1.4492281413830244e-09, 1.7083921403675525e-08, 2.2407028660696643e-05], [4.666149980558596e-06, 5.880292201935134e-09, 1.006494728987275e-10, 6.292557131370274e-07, 0.009849505213580101, 0.04498597296232082, 2.441990008293731e-05, 1.6821040546817473e-08, 6.653150169523497e-10, 2.0314661975050595e-07], [3.933743717529515e-06, 9.174202537670002e-07, 1.7648851180900909e-10, 7.018606425307302e-10, 2.202042620464892e-06, 0.006998804738166261, 0.03715696258575471, 5.0150005244567184e-05, 1.7284816264977442e-08, 3.356463751092159e-09], [2.833146491889227e-06, 4.493888664580592e-06, 2.866562801980174e-08, 1.553751387433776e-09, 8.807954546583115e-09, 4.368010495779718e-06, 0.009275506551171216, 0.07171071088066791, 7.3582167811917e-05, 7.893382464039176e-08], [1.2697173185703977e-06, 3.391176562154152e-06, 7.452084225453234e-06, 1.6873247114005912e-06, 1.2293719581596807e-07, 1.0856469300536262e-07, 1.822528507504218e-05, 0.0238691968022174, 0.04258032565286949, 0.0003192284998017411]]}], {\"plot_bgcolor\": \"#000\", \"title\": \"1 Blobs:Confidence after 819200 Iters\", \"height\": 400, \"font\": {\"color\": \"#FFF\"}, \"yaxis\": {\"tickcolor\": \"#FFF\", \"range\": [-0.5, 9.5], \"dtick\": 1, \"title\": \"Count Word\"}, \"paper_bgcolor\": \"#000\", \"titlefont\": {\"color\": \"#FFF\"}, \"xaxis\": {\"tickcolor\": \"#FFF\", \"range\": [-0.5, 9.5], \"dtick\": 1, \"title\": \"Glimpses\"}, \"width\": 400}, {\"linkText\": \"Export to plot.ly\", \"showLink\": true})});</script>"
      ]
     },
     "metadata": {},
     "output_type": "display_data"
    },
    {
     "data": {
      "application/vnd.plotly.v1+json": {
       "data": [
        {
         "colorscale": "Jet",
         "type": "heatmap",
         "z": [
          [
           8.336993554855591e-07,
           0.03782639364333655,
           0.8239688665981708,
           0.944462401217257,
           0.960795090262084,
           0.9357906937643767,
           0.9470484389261935,
           0.8833783125127842,
           0.9195503798132725,
           0.9989560175298595
          ],
          [
           0.9999896076868003,
           2.03847687529737e-05,
           6.75317756423301e-11,
           9.690382984319425e-12,
           5.5741732190719736e-08,
           5.408134911600028e-06,
           2.2604931596087893e-07,
           2.389258675232995e-08,
           3.636221684383657e-11,
           3.0977613330810237e-12
          ],
          [
           4.133947399489927e-06,
           0.9620198440534211,
           7.138207368294384e-05,
           5.03650971154312e-10,
           1.6312563613949212e-11,
           2.3705517322377034e-09,
           4.0484858377890246e-07,
           1.0162587468343029e-06,
           4.0239426181247876e-08,
           1.4507479027147267e-10
          ],
          [
           2.676291806304229e-09,
           4.6463633157500366e-05,
           0.17588434833217229,
           7.551368316276659e-06,
           2.0320825403769355e-09,
           8.249231184052859e-12,
           4.936534355881912e-11,
           1.940861677212557e-07,
           3.835666539344019e-05,
           1.98158952736189e-06
          ],
          [
           3.0465148091871803e-09,
           4.004172143551011e-08,
           5.6684355149431946e-05,
           0.05548892383318714,
           1.6441601923847897e-05,
           1.1172883810053164e-08,
           5.6034090036524375e-11,
           2.7168954371562403e-09,
           1.852721874976406e-06,
           5.871714454736652e-05
          ],
          [
           4.043266135566332e-08,
           2.591012936782368e-10,
           7.974418497274907e-09,
           3.63835756540275e-05,
           0.03907848454973981,
           2.69748322186539e-05,
           1.3529112750229215e-08,
           5.635459624573851e-10,
           3.4864001457577855e-09,
           6.122338367582008e-07
          ],
          [
           9.54177376562947e-07,
           1.1423622982043379e-08,
           2.4200487531880586e-11,
           5.790018231122597e-09,
           0.00010784043884665797,
           0.06407924219116123,
           0.00021569285753356802,
           1.2873450973285737e-07,
           9.556401986095676e-10,
           4.095710955746087e-09
          ],
          [
           1.5686124930513406e-06,
           1.2071735685797187e-05,
           5.875359230682323e-10,
           4.654097791515231e-11,
           3.14326685745694e-08,
           9.562063289923075e-05,
           0.05259056972582962,
           0.0004048999289949643,
           1.1915962410247675e-07,
           1.6969877980372351e-09
          ],
          [
           8.28601613771554e-07,
           6.374341776494653e-05,
           2.7452225828635154e-07,
           9.226366814169153e-10,
           1.0368730286987103e-09,
           8.004296830611225e-08,
           0.00014229115977143977,
           0.11526319875769826,
           0.00047324272684658186,
           2.526205626454684e-07
          ],
          [
           7.52983773494335e-08,
           9.059660262752364e-06,
           1.6428880801421707e-05,
           2.7494977564770058e-06,
           7.547833970090843e-08,
           2.191176063624088e-08,
           3.703732414038577e-07,
           0.000950266377132846,
           0.0799340594028258,
           0.0009804419889271828
          ]
         ]
        }
       ],
       "layout": {
        "font": {
         "color": "#FFF"
        },
        "height": 400,
        "paper_bgcolor": "#000",
        "plot_bgcolor": "#000",
        "title": "2 Blobs:Confidence after 819200 Iters",
        "titlefont": {
         "color": "#FFF"
        },
        "width": 400,
        "xaxis": {
         "dtick": 1,
         "range": [
          -0.5,
          9.5
         ],
         "tickcolor": "#FFF",
         "title": "Glimpses"
        },
        "yaxis": {
         "dtick": 1,
         "range": [
          -0.5,
          9.5
         ],
         "tickcolor": "#FFF",
         "title": "Count Word"
        }
       }
      },
      "text/html": [
       "<div id=\"ddc07bb7-3dc2-44f8-9914-929d5b3502aa\" style=\"height: 400px; width: 400px;\" class=\"plotly-graph-div\"></div><script type=\"text/javascript\">require([\"plotly\"], function(Plotly) { window.PLOTLYENV=window.PLOTLYENV || {};window.PLOTLYENV.BASE_URL=\"https://plot.ly\";Plotly.newPlot(\"ddc07bb7-3dc2-44f8-9914-929d5b3502aa\", [{\"type\": \"heatmap\", \"colorscale\": \"Jet\", \"z\": [[8.336993554855591e-07, 0.03782639364333655, 0.8239688665981708, 0.944462401217257, 0.960795090262084, 0.9357906937643767, 0.9470484389261935, 0.8833783125127842, 0.9195503798132725, 0.9989560175298595], [0.9999896076868003, 2.03847687529737e-05, 6.75317756423301e-11, 9.690382984319425e-12, 5.5741732190719736e-08, 5.408134911600028e-06, 2.2604931596087893e-07, 2.389258675232995e-08, 3.636221684383657e-11, 3.0977613330810237e-12], [4.133947399489927e-06, 0.9620198440534211, 7.138207368294384e-05, 5.03650971154312e-10, 1.6312563613949212e-11, 2.3705517322377034e-09, 4.0484858377890246e-07, 1.0162587468343029e-06, 4.0239426181247876e-08, 1.4507479027147267e-10], [2.676291806304229e-09, 4.6463633157500366e-05, 0.17588434833217229, 7.551368316276659e-06, 2.0320825403769355e-09, 8.249231184052859e-12, 4.936534355881912e-11, 1.940861677212557e-07, 3.835666539344019e-05, 1.98158952736189e-06], [3.0465148091871803e-09, 4.004172143551011e-08, 5.6684355149431946e-05, 0.05548892383318714, 1.6441601923847897e-05, 1.1172883810053164e-08, 5.6034090036524375e-11, 2.7168954371562403e-09, 1.852721874976406e-06, 5.871714454736652e-05], [4.043266135566332e-08, 2.591012936782368e-10, 7.974418497274907e-09, 3.63835756540275e-05, 0.03907848454973981, 2.69748322186539e-05, 1.3529112750229215e-08, 5.635459624573851e-10, 3.4864001457577855e-09, 6.122338367582008e-07], [9.54177376562947e-07, 1.1423622982043379e-08, 2.4200487531880586e-11, 5.790018231122597e-09, 0.00010784043884665797, 0.06407924219116123, 0.00021569285753356802, 1.2873450973285737e-07, 9.556401986095676e-10, 4.095710955746087e-09], [1.5686124930513406e-06, 1.2071735685797187e-05, 5.875359230682323e-10, 4.654097791515231e-11, 3.14326685745694e-08, 9.562063289923075e-05, 0.05259056972582962, 0.0004048999289949643, 1.1915962410247675e-07, 1.6969877980372351e-09], [8.28601613771554e-07, 6.374341776494653e-05, 2.7452225828635154e-07, 9.226366814169153e-10, 1.0368730286987103e-09, 8.004296830611225e-08, 0.00014229115977143977, 0.11526319875769826, 0.00047324272684658186, 2.526205626454684e-07], [7.52983773494335e-08, 9.059660262752364e-06, 1.6428880801421707e-05, 2.7494977564770058e-06, 7.547833970090843e-08, 2.191176063624088e-08, 3.703732414038577e-07, 0.000950266377132846, 0.0799340594028258, 0.0009804419889271828]]}], {\"plot_bgcolor\": \"#000\", \"title\": \"2 Blobs:Confidence after 819200 Iters\", \"height\": 400, \"font\": {\"color\": \"#FFF\"}, \"yaxis\": {\"tickcolor\": \"#FFF\", \"range\": [-0.5, 9.5], \"dtick\": 1, \"title\": \"Count Word\"}, \"paper_bgcolor\": \"#000\", \"titlefont\": {\"color\": \"#FFF\"}, \"xaxis\": {\"tickcolor\": \"#FFF\", \"range\": [-0.5, 9.5], \"dtick\": 1, \"title\": \"Glimpses\"}, \"width\": 400}, {\"linkText\": \"Export to plot.ly\", \"showLink\": true})});</script>"
      ],
      "text/vnd.plotly.v1+html": [
       "<div id=\"ddc07bb7-3dc2-44f8-9914-929d5b3502aa\" style=\"height: 400px; width: 400px;\" class=\"plotly-graph-div\"></div><script type=\"text/javascript\">require([\"plotly\"], function(Plotly) { window.PLOTLYENV=window.PLOTLYENV || {};window.PLOTLYENV.BASE_URL=\"https://plot.ly\";Plotly.newPlot(\"ddc07bb7-3dc2-44f8-9914-929d5b3502aa\", [{\"type\": \"heatmap\", \"colorscale\": \"Jet\", \"z\": [[8.336993554855591e-07, 0.03782639364333655, 0.8239688665981708, 0.944462401217257, 0.960795090262084, 0.9357906937643767, 0.9470484389261935, 0.8833783125127842, 0.9195503798132725, 0.9989560175298595], [0.9999896076868003, 2.03847687529737e-05, 6.75317756423301e-11, 9.690382984319425e-12, 5.5741732190719736e-08, 5.408134911600028e-06, 2.2604931596087893e-07, 2.389258675232995e-08, 3.636221684383657e-11, 3.0977613330810237e-12], [4.133947399489927e-06, 0.9620198440534211, 7.138207368294384e-05, 5.03650971154312e-10, 1.6312563613949212e-11, 2.3705517322377034e-09, 4.0484858377890246e-07, 1.0162587468343029e-06, 4.0239426181247876e-08, 1.4507479027147267e-10], [2.676291806304229e-09, 4.6463633157500366e-05, 0.17588434833217229, 7.551368316276659e-06, 2.0320825403769355e-09, 8.249231184052859e-12, 4.936534355881912e-11, 1.940861677212557e-07, 3.835666539344019e-05, 1.98158952736189e-06], [3.0465148091871803e-09, 4.004172143551011e-08, 5.6684355149431946e-05, 0.05548892383318714, 1.6441601923847897e-05, 1.1172883810053164e-08, 5.6034090036524375e-11, 2.7168954371562403e-09, 1.852721874976406e-06, 5.871714454736652e-05], [4.043266135566332e-08, 2.591012936782368e-10, 7.974418497274907e-09, 3.63835756540275e-05, 0.03907848454973981, 2.69748322186539e-05, 1.3529112750229215e-08, 5.635459624573851e-10, 3.4864001457577855e-09, 6.122338367582008e-07], [9.54177376562947e-07, 1.1423622982043379e-08, 2.4200487531880586e-11, 5.790018231122597e-09, 0.00010784043884665797, 0.06407924219116123, 0.00021569285753356802, 1.2873450973285737e-07, 9.556401986095676e-10, 4.095710955746087e-09], [1.5686124930513406e-06, 1.2071735685797187e-05, 5.875359230682323e-10, 4.654097791515231e-11, 3.14326685745694e-08, 9.562063289923075e-05, 0.05259056972582962, 0.0004048999289949643, 1.1915962410247675e-07, 1.6969877980372351e-09], [8.28601613771554e-07, 6.374341776494653e-05, 2.7452225828635154e-07, 9.226366814169153e-10, 1.0368730286987103e-09, 8.004296830611225e-08, 0.00014229115977143977, 0.11526319875769826, 0.00047324272684658186, 2.526205626454684e-07], [7.52983773494335e-08, 9.059660262752364e-06, 1.6428880801421707e-05, 2.7494977564770058e-06, 7.547833970090843e-08, 2.191176063624088e-08, 3.703732414038577e-07, 0.000950266377132846, 0.0799340594028258, 0.0009804419889271828]]}], {\"plot_bgcolor\": \"#000\", \"title\": \"2 Blobs:Confidence after 819200 Iters\", \"height\": 400, \"font\": {\"color\": \"#FFF\"}, \"yaxis\": {\"tickcolor\": \"#FFF\", \"range\": [-0.5, 9.5], \"dtick\": 1, \"title\": \"Count Word\"}, \"paper_bgcolor\": \"#000\", \"titlefont\": {\"color\": \"#FFF\"}, \"xaxis\": {\"tickcolor\": \"#FFF\", \"range\": [-0.5, 9.5], \"dtick\": 1, \"title\": \"Glimpses\"}, \"width\": 400}, {\"linkText\": \"Export to plot.ly\", \"showLink\": true})});</script>"
      ]
     },
     "metadata": {},
     "output_type": "display_data"
    },
    {
     "data": {
      "application/vnd.plotly.v1+json": {
       "data": [
        {
         "colorscale": "Jet",
         "type": "heatmap",
         "z": [
          [
           5.378428263302126e-07,
           0.04810879157675282,
           0.6773816957363892,
           0.9540909011884134,
           0.9787292633437893,
           0.9591638963478065,
           0.9620502556626336,
           0.8987967219261831,
           0.9173102131986971,
           0.998202456145779
          ],
          [
           0.9999936838567229,
           1.4659970986409772e-05,
           9.288045452556384e-11,
           2.8567969806948798e-11,
           5.2250296370708565e-08,
           4.209036997852672e-06,
           2.0509613395840058e-07,
           3.327315621471644e-08,
           8.909672662158006e-11,
           2.4376096777578852e-11
          ],
          [
           2.4392628321456257e-06,
           0.9517764135634496,
           6.55972579742698e-05,
           8.964666945833449e-10,
           1.6710738056000802e-11,
           1.9180631327066698e-09,
           3.2281074035750264e-07,
           1.0727115270144336e-06,
           5.401734752433419e-08,
           2.0945053841112776e-10
          ],
          [
           1.8012803452005539e-09,
           4.466791722228355e-05,
           0.32248065160193207,
           1.9365143489006784e-05,
           3.242562693523921e-09,
           9.849175272696953e-12,
           4.843911749076915e-11,
           2.0022982352946826e-07,
           5.0057957924755366e-05,
           3.921752604566804e-06
          ],
          [
           2.4635300978536434e-09,
           4.011731931657323e-08,
           4.896157356750928e-05,
           0.04586000675095073,
           1.6028850269832284e-05,
           1.0940967743300888e-08,
           5.177630435750448e-11,
           2.5544472793498157e-09,
           1.9408657908512072e-06,
           0.00012343755858633428
          ],
          [
           2.461349398921418e-08,
           2.6325635196838567e-10,
           5.45948220367607e-09,
           2.4803981208520843e-05,
           0.021178054437356868,
           2.7298955026554494e-05,
           1.3002816740950915e-08,
           5.80550535560125e-10,
           3.7693457797490154e-09,
           8.677177283198269e-07
          ],
          [
           5.282041263995796e-07,
           9.946686523354805e-09,
           1.507219005226942e-11,
           4.278977752822738e-09,
           7.50485589940279e-05,
           0.04073264245430566,
           0.000168342420960147,
           1.0563352131705094e-07,
           8.917583763097921e-10,
           7.600892159683864e-09
          ],
          [
           8.432220207364915e-07,
           7.480545385992454e-06,
           4.371554150346198e-10,
           4.0660612676309954e-11,
           2.2704282057275938e-08,
           7.048315586215406e-05,
           0.03766526329361899,
           0.0003660177784425113,
           1.193350307976562e-07,
           2.0256807190834474e-09
          ],
          [
           4.770146605705175e-07,
           4.0255966578241064e-05,
           2.600098392526998e-07,
           1.2082003758570962e-09,
           8.763506280231397e-10,
           6.456023767857847e-08,
           0.00011389780744923277,
           0.100018040684779,
           0.0005602574902960505,
           3.639216448962021e-07
          ],
          [
           4.592111148154243e-08,
           6.217331996167788e-06,
           2.141405048600647e-05,
           3.4892175999171185e-06,
           8.048253744052124e-08,
           2.00899439062116e-08,
           3.169462994915951e-07,
           0.0008164031916946543,
           0.08207591659210571,
           0.0016675035546157135
          ]
         ]
        }
       ],
       "layout": {
        "font": {
         "color": "#FFF"
        },
        "height": 400,
        "paper_bgcolor": "#000",
        "plot_bgcolor": "#000",
        "title": "3 Blobs:Confidence after 819200 Iters",
        "titlefont": {
         "color": "#FFF"
        },
        "width": 400,
        "xaxis": {
         "dtick": 1,
         "range": [
          -0.5,
          9.5
         ],
         "tickcolor": "#FFF",
         "title": "Glimpses"
        },
        "yaxis": {
         "dtick": 1,
         "range": [
          -0.5,
          9.5
         ],
         "tickcolor": "#FFF",
         "title": "Count Word"
        }
       }
      },
      "text/html": [
       "<div id=\"86f2154a-3e60-4cbc-8a93-3c947d261204\" style=\"height: 400px; width: 400px;\" class=\"plotly-graph-div\"></div><script type=\"text/javascript\">require([\"plotly\"], function(Plotly) { window.PLOTLYENV=window.PLOTLYENV || {};window.PLOTLYENV.BASE_URL=\"https://plot.ly\";Plotly.newPlot(\"86f2154a-3e60-4cbc-8a93-3c947d261204\", [{\"type\": \"heatmap\", \"colorscale\": \"Jet\", \"z\": [[5.378428263302126e-07, 0.04810879157675282, 0.6773816957363892, 0.9540909011884134, 0.9787292633437893, 0.9591638963478065, 0.9620502556626336, 0.8987967219261831, 0.9173102131986971, 0.998202456145779], [0.9999936838567229, 1.4659970986409772e-05, 9.288045452556384e-11, 2.8567969806948798e-11, 5.2250296370708565e-08, 4.209036997852672e-06, 2.0509613395840058e-07, 3.327315621471644e-08, 8.909672662158006e-11, 2.4376096777578852e-11], [2.4392628321456257e-06, 0.9517764135634496, 6.55972579742698e-05, 8.964666945833449e-10, 1.6710738056000802e-11, 1.9180631327066698e-09, 3.2281074035750264e-07, 1.0727115270144336e-06, 5.401734752433419e-08, 2.0945053841112776e-10], [1.8012803452005539e-09, 4.466791722228355e-05, 0.32248065160193207, 1.9365143489006784e-05, 3.242562693523921e-09, 9.849175272696953e-12, 4.843911749076915e-11, 2.0022982352946826e-07, 5.0057957924755366e-05, 3.921752604566804e-06], [2.4635300978536434e-09, 4.011731931657323e-08, 4.896157356750928e-05, 0.04586000675095073, 1.6028850269832284e-05, 1.0940967743300888e-08, 5.177630435750448e-11, 2.5544472793498157e-09, 1.9408657908512072e-06, 0.00012343755858633428], [2.461349398921418e-08, 2.6325635196838567e-10, 5.45948220367607e-09, 2.4803981208520843e-05, 0.021178054437356868, 2.7298955026554494e-05, 1.3002816740950915e-08, 5.80550535560125e-10, 3.7693457797490154e-09, 8.677177283198269e-07], [5.282041263995796e-07, 9.946686523354805e-09, 1.507219005226942e-11, 4.278977752822738e-09, 7.50485589940279e-05, 0.04073264245430566, 0.000168342420960147, 1.0563352131705094e-07, 8.917583763097921e-10, 7.600892159683864e-09], [8.432220207364915e-07, 7.480545385992454e-06, 4.371554150346198e-10, 4.0660612676309954e-11, 2.2704282057275938e-08, 7.048315586215406e-05, 0.03766526329361899, 0.0003660177784425113, 1.193350307976562e-07, 2.0256807190834474e-09], [4.770146605705175e-07, 4.0255966578241064e-05, 2.600098392526998e-07, 1.2082003758570962e-09, 8.763506280231397e-10, 6.456023767857847e-08, 0.00011389780744923277, 0.100018040684779, 0.0005602574902960505, 3.639216448962021e-07], [4.592111148154243e-08, 6.217331996167788e-06, 2.141405048600647e-05, 3.4892175999171185e-06, 8.048253744052124e-08, 2.00899439062116e-08, 3.169462994915951e-07, 0.0008164031916946543, 0.08207591659210571, 0.0016675035546157135]]}], {\"plot_bgcolor\": \"#000\", \"title\": \"3 Blobs:Confidence after 819200 Iters\", \"height\": 400, \"font\": {\"color\": \"#FFF\"}, \"yaxis\": {\"tickcolor\": \"#FFF\", \"range\": [-0.5, 9.5], \"dtick\": 1, \"title\": \"Count Word\"}, \"paper_bgcolor\": \"#000\", \"titlefont\": {\"color\": \"#FFF\"}, \"xaxis\": {\"tickcolor\": \"#FFF\", \"range\": [-0.5, 9.5], \"dtick\": 1, \"title\": \"Glimpses\"}, \"width\": 400}, {\"linkText\": \"Export to plot.ly\", \"showLink\": true})});</script>"
      ],
      "text/vnd.plotly.v1+html": [
       "<div id=\"86f2154a-3e60-4cbc-8a93-3c947d261204\" style=\"height: 400px; width: 400px;\" class=\"plotly-graph-div\"></div><script type=\"text/javascript\">require([\"plotly\"], function(Plotly) { window.PLOTLYENV=window.PLOTLYENV || {};window.PLOTLYENV.BASE_URL=\"https://plot.ly\";Plotly.newPlot(\"86f2154a-3e60-4cbc-8a93-3c947d261204\", [{\"type\": \"heatmap\", \"colorscale\": \"Jet\", \"z\": [[5.378428263302126e-07, 0.04810879157675282, 0.6773816957363892, 0.9540909011884134, 0.9787292633437893, 0.9591638963478065, 0.9620502556626336, 0.8987967219261831, 0.9173102131986971, 0.998202456145779], [0.9999936838567229, 1.4659970986409772e-05, 9.288045452556384e-11, 2.8567969806948798e-11, 5.2250296370708565e-08, 4.209036997852672e-06, 2.0509613395840058e-07, 3.327315621471644e-08, 8.909672662158006e-11, 2.4376096777578852e-11], [2.4392628321456257e-06, 0.9517764135634496, 6.55972579742698e-05, 8.964666945833449e-10, 1.6710738056000802e-11, 1.9180631327066698e-09, 3.2281074035750264e-07, 1.0727115270144336e-06, 5.401734752433419e-08, 2.0945053841112776e-10], [1.8012803452005539e-09, 4.466791722228355e-05, 0.32248065160193207, 1.9365143489006784e-05, 3.242562693523921e-09, 9.849175272696953e-12, 4.843911749076915e-11, 2.0022982352946826e-07, 5.0057957924755366e-05, 3.921752604566804e-06], [2.4635300978536434e-09, 4.011731931657323e-08, 4.896157356750928e-05, 0.04586000675095073, 1.6028850269832284e-05, 1.0940967743300888e-08, 5.177630435750448e-11, 2.5544472793498157e-09, 1.9408657908512072e-06, 0.00012343755858633428], [2.461349398921418e-08, 2.6325635196838567e-10, 5.45948220367607e-09, 2.4803981208520843e-05, 0.021178054437356868, 2.7298955026554494e-05, 1.3002816740950915e-08, 5.80550535560125e-10, 3.7693457797490154e-09, 8.677177283198269e-07], [5.282041263995796e-07, 9.946686523354805e-09, 1.507219005226942e-11, 4.278977752822738e-09, 7.50485589940279e-05, 0.04073264245430566, 0.000168342420960147, 1.0563352131705094e-07, 8.917583763097921e-10, 7.600892159683864e-09], [8.432220207364915e-07, 7.480545385992454e-06, 4.371554150346198e-10, 4.0660612676309954e-11, 2.2704282057275938e-08, 7.048315586215406e-05, 0.03766526329361899, 0.0003660177784425113, 1.193350307976562e-07, 2.0256807190834474e-09], [4.770146605705175e-07, 4.0255966578241064e-05, 2.600098392526998e-07, 1.2082003758570962e-09, 8.763506280231397e-10, 6.456023767857847e-08, 0.00011389780744923277, 0.100018040684779, 0.0005602574902960505, 3.639216448962021e-07], [4.592111148154243e-08, 6.217331996167788e-06, 2.141405048600647e-05, 3.4892175999171185e-06, 8.048253744052124e-08, 2.00899439062116e-08, 3.169462994915951e-07, 0.0008164031916946543, 0.08207591659210571, 0.0016675035546157135]]}], {\"plot_bgcolor\": \"#000\", \"title\": \"3 Blobs:Confidence after 819200 Iters\", \"height\": 400, \"font\": {\"color\": \"#FFF\"}, \"yaxis\": {\"tickcolor\": \"#FFF\", \"range\": [-0.5, 9.5], \"dtick\": 1, \"title\": \"Count Word\"}, \"paper_bgcolor\": \"#000\", \"titlefont\": {\"color\": \"#FFF\"}, \"xaxis\": {\"tickcolor\": \"#FFF\", \"range\": [-0.5, 9.5], \"dtick\": 1, \"title\": \"Glimpses\"}, \"width\": 400}, {\"linkText\": \"Export to plot.ly\", \"showLink\": true})});</script>"
      ]
     },
     "metadata": {},
     "output_type": "display_data"
    },
    {
     "data": {
      "application/vnd.plotly.v1+json": {
       "data": [
        {
         "colorscale": "Jet",
         "type": "heatmap",
         "z": [
          [
           1.36808457168064e-06,
           0.0003339692383991641,
           0.06594501466652196,
           0.3849850970952605,
           0.7479423565587412,
           0.8576840376310363,
           0.8991850935072571,
           0.8489541466415949,
           0.88861275390849,
           0.9973636924173517
          ],
          [
           0.9999881570122765,
           2.378347685664087e-05,
           4.670720907683868e-10,
           3.1426169820079106e-10,
           4.401208594268757e-07,
           2.7453448485290192e-05,
           1.1825506073802454e-06,
           6.413515929591359e-08,
           8.032081969325241e-11,
           2.7530013774699342e-11
          ],
          [
           7.0100565888430965e-06,
           0.9995410277732778,
           0.00019431265009776314,
           1.080715508882575e-08,
           1.1020847048393319e-10,
           8.687447424864514e-09,
           1.267343052828104e-06,
           3.0391197381197184e-06,
           9.844726380938949e-08,
           3.7187304668398127e-10
          ],
          [
           1.81378586907126e-09,
           6.574224282391193e-05,
           0.9336507771274358,
           0.0003781877087761167,
           4.216700373795554e-08,
           5.652784548038619e-11,
           1.8652211809118117e-10,
           9.629558296939266e-07,
           0.00016327771239757388,
           8.264729057124041e-06
          ],
          [
           1.3788979683555556e-09,
           3.595357774629959e-08,
           0.00018038576461964237,
           0.6144242717648701,
           0.0002438439623752364,
           6.881832281419057e-08,
           2.0638372223211945e-10,
           1.1427401017026713e-08,
           6.81600294107017e-06,
           0.00027757271527960043
          ],
          [
           2.3868745359903603e-08,
           2.453273244053766e-10,
           2.026584133589471e-08,
           0.00019806987054507463,
           0.25152723991075565,
           0.00015059832945734484,
           5.439593918076947e-08,
           1.8976365418646644e-09,
           8.135457257034518e-09,
           2.22227368739167e-06
          ],
          [
           6.646636266497535e-07,
           5.227002737133518e-09,
           7.437402085771383e-11,
           2.805153480312854e-08,
           0.00028503490134737026,
           0.14196350193629068,
           0.0005879114627556677,
           2.5102397868694617e-07,
           1.535638405207932e-09,
           1.3315766529424765e-08
          ],
          [
           1.3126072893371378e-06,
           4.156356235686385e-06,
           2.239718461439943e-09,
           3.2629610278337285e-10,
           1.0253173419289585e-07,
           0.00017350796300780538,
           0.10000545850349951,
           0.0007347155496821496,
           2.36664350934719e-07,
           3.3346114212710962e-09
          ],
          [
           8.46907673019448e-07,
           2.736674683436866e-05,
           7.162587519508439e-07,
           8.221105975775652e-09,
           4.633389565234413e-09,
           1.849955510680692e-07,
           0.00021781908847749598,
           0.14895496455011598,
           0.0008642260659804226,
           6.114877678854522e-07
          ],
          [
           5.996533836021076e-08,
           3.3175734949505815e-06,
           2.8167358659983796e-05,
           1.3726619035569863e-05,
           3.3270472233842326e-07,
           5.80035066742579e-08,
           6.050566272148969e-07,
           0.0013512833388087083,
           0.11035202876961152,
           0.002347052776225279
          ]
         ]
        }
       ],
       "layout": {
        "font": {
         "color": "#FFF"
        },
        "height": 400,
        "paper_bgcolor": "#000",
        "plot_bgcolor": "#000",
        "title": "4 Blobs:Confidence after 819200 Iters",
        "titlefont": {
         "color": "#FFF"
        },
        "width": 400,
        "xaxis": {
         "dtick": 1,
         "range": [
          -0.5,
          9.5
         ],
         "tickcolor": "#FFF",
         "title": "Glimpses"
        },
        "yaxis": {
         "dtick": 1,
         "range": [
          -0.5,
          9.5
         ],
         "tickcolor": "#FFF",
         "title": "Count Word"
        }
       }
      },
      "text/html": [
       "<div id=\"10fcc780-5678-438d-8b2c-66e13f27c6bb\" style=\"height: 400px; width: 400px;\" class=\"plotly-graph-div\"></div><script type=\"text/javascript\">require([\"plotly\"], function(Plotly) { window.PLOTLYENV=window.PLOTLYENV || {};window.PLOTLYENV.BASE_URL=\"https://plot.ly\";Plotly.newPlot(\"10fcc780-5678-438d-8b2c-66e13f27c6bb\", [{\"type\": \"heatmap\", \"colorscale\": \"Jet\", \"z\": [[1.36808457168064e-06, 0.0003339692383991641, 0.06594501466652196, 0.3849850970952605, 0.7479423565587412, 0.8576840376310363, 0.8991850935072571, 0.8489541466415949, 0.88861275390849, 0.9973636924173517], [0.9999881570122765, 2.378347685664087e-05, 4.670720907683868e-10, 3.1426169820079106e-10, 4.401208594268757e-07, 2.7453448485290192e-05, 1.1825506073802454e-06, 6.413515929591359e-08, 8.032081969325241e-11, 2.7530013774699342e-11], [7.0100565888430965e-06, 0.9995410277732778, 0.00019431265009776314, 1.080715508882575e-08, 1.1020847048393319e-10, 8.687447424864514e-09, 1.267343052828104e-06, 3.0391197381197184e-06, 9.844726380938949e-08, 3.7187304668398127e-10], [1.81378586907126e-09, 6.574224282391193e-05, 0.9336507771274358, 0.0003781877087761167, 4.216700373795554e-08, 5.652784548038619e-11, 1.8652211809118117e-10, 9.629558296939266e-07, 0.00016327771239757388, 8.264729057124041e-06], [1.3788979683555556e-09, 3.595357774629959e-08, 0.00018038576461964237, 0.6144242717648701, 0.0002438439623752364, 6.881832281419057e-08, 2.0638372223211945e-10, 1.1427401017026713e-08, 6.81600294107017e-06, 0.00027757271527960043], [2.3868745359903603e-08, 2.453273244053766e-10, 2.026584133589471e-08, 0.00019806987054507463, 0.25152723991075565, 0.00015059832945734484, 5.439593918076947e-08, 1.8976365418646644e-09, 8.135457257034518e-09, 2.22227368739167e-06], [6.646636266497535e-07, 5.227002737133518e-09, 7.437402085771383e-11, 2.805153480312854e-08, 0.00028503490134737026, 0.14196350193629068, 0.0005879114627556677, 2.5102397868694617e-07, 1.535638405207932e-09, 1.3315766529424765e-08], [1.3126072893371378e-06, 4.156356235686385e-06, 2.239718461439943e-09, 3.2629610278337285e-10, 1.0253173419289585e-07, 0.00017350796300780538, 0.10000545850349951, 0.0007347155496821496, 2.36664350934719e-07, 3.3346114212710962e-09], [8.46907673019448e-07, 2.736674683436866e-05, 7.162587519508439e-07, 8.221105975775652e-09, 4.633389565234413e-09, 1.849955510680692e-07, 0.00021781908847749598, 0.14895496455011598, 0.0008642260659804226, 6.114877678854522e-07], [5.996533836021076e-08, 3.3175734949505815e-06, 2.8167358659983796e-05, 1.3726619035569863e-05, 3.3270472233842326e-07, 5.80035066742579e-08, 6.050566272148969e-07, 0.0013512833388087083, 0.11035202876961152, 0.002347052776225279]]}], {\"plot_bgcolor\": \"#000\", \"title\": \"4 Blobs:Confidence after 819200 Iters\", \"height\": 400, \"font\": {\"color\": \"#FFF\"}, \"yaxis\": {\"tickcolor\": \"#FFF\", \"range\": [-0.5, 9.5], \"dtick\": 1, \"title\": \"Count Word\"}, \"paper_bgcolor\": \"#000\", \"titlefont\": {\"color\": \"#FFF\"}, \"xaxis\": {\"tickcolor\": \"#FFF\", \"range\": [-0.5, 9.5], \"dtick\": 1, \"title\": \"Glimpses\"}, \"width\": 400}, {\"linkText\": \"Export to plot.ly\", \"showLink\": true})});</script>"
      ],
      "text/vnd.plotly.v1+html": [
       "<div id=\"10fcc780-5678-438d-8b2c-66e13f27c6bb\" style=\"height: 400px; width: 400px;\" class=\"plotly-graph-div\"></div><script type=\"text/javascript\">require([\"plotly\"], function(Plotly) { window.PLOTLYENV=window.PLOTLYENV || {};window.PLOTLYENV.BASE_URL=\"https://plot.ly\";Plotly.newPlot(\"10fcc780-5678-438d-8b2c-66e13f27c6bb\", [{\"type\": \"heatmap\", \"colorscale\": \"Jet\", \"z\": [[1.36808457168064e-06, 0.0003339692383991641, 0.06594501466652196, 0.3849850970952605, 0.7479423565587412, 0.8576840376310363, 0.8991850935072571, 0.8489541466415949, 0.88861275390849, 0.9973636924173517], [0.9999881570122765, 2.378347685664087e-05, 4.670720907683868e-10, 3.1426169820079106e-10, 4.401208594268757e-07, 2.7453448485290192e-05, 1.1825506073802454e-06, 6.413515929591359e-08, 8.032081969325241e-11, 2.7530013774699342e-11], [7.0100565888430965e-06, 0.9995410277732778, 0.00019431265009776314, 1.080715508882575e-08, 1.1020847048393319e-10, 8.687447424864514e-09, 1.267343052828104e-06, 3.0391197381197184e-06, 9.844726380938949e-08, 3.7187304668398127e-10], [1.81378586907126e-09, 6.574224282391193e-05, 0.9336507771274358, 0.0003781877087761167, 4.216700373795554e-08, 5.652784548038619e-11, 1.8652211809118117e-10, 9.629558296939266e-07, 0.00016327771239757388, 8.264729057124041e-06], [1.3788979683555556e-09, 3.595357774629959e-08, 0.00018038576461964237, 0.6144242717648701, 0.0002438439623752364, 6.881832281419057e-08, 2.0638372223211945e-10, 1.1427401017026713e-08, 6.81600294107017e-06, 0.00027757271527960043], [2.3868745359903603e-08, 2.453273244053766e-10, 2.026584133589471e-08, 0.00019806987054507463, 0.25152723991075565, 0.00015059832945734484, 5.439593918076947e-08, 1.8976365418646644e-09, 8.135457257034518e-09, 2.22227368739167e-06], [6.646636266497535e-07, 5.227002737133518e-09, 7.437402085771383e-11, 2.805153480312854e-08, 0.00028503490134737026, 0.14196350193629068, 0.0005879114627556677, 2.5102397868694617e-07, 1.535638405207932e-09, 1.3315766529424765e-08], [1.3126072893371378e-06, 4.156356235686385e-06, 2.239718461439943e-09, 3.2629610278337285e-10, 1.0253173419289585e-07, 0.00017350796300780538, 0.10000545850349951, 0.0007347155496821496, 2.36664350934719e-07, 3.3346114212710962e-09], [8.46907673019448e-07, 2.736674683436866e-05, 7.162587519508439e-07, 8.221105975775652e-09, 4.633389565234413e-09, 1.849955510680692e-07, 0.00021781908847749598, 0.14895496455011598, 0.0008642260659804226, 6.114877678854522e-07], [5.996533836021076e-08, 3.3175734949505815e-06, 2.8167358659983796e-05, 1.3726619035569863e-05, 3.3270472233842326e-07, 5.80035066742579e-08, 6.050566272148969e-07, 0.0013512833388087083, 0.11035202876961152, 0.002347052776225279]]}], {\"plot_bgcolor\": \"#000\", \"title\": \"4 Blobs:Confidence after 819200 Iters\", \"height\": 400, \"font\": {\"color\": \"#FFF\"}, \"yaxis\": {\"tickcolor\": \"#FFF\", \"range\": [-0.5, 9.5], \"dtick\": 1, \"title\": \"Count Word\"}, \"paper_bgcolor\": \"#000\", \"titlefont\": {\"color\": \"#FFF\"}, \"xaxis\": {\"tickcolor\": \"#FFF\", \"range\": [-0.5, 9.5], \"dtick\": 1, \"title\": \"Glimpses\"}, \"width\": 400}, {\"linkText\": \"Export to plot.ly\", \"showLink\": true})});</script>"
      ]
     },
     "metadata": {},
     "output_type": "display_data"
    },
    {
     "data": {
      "application/vnd.plotly.v1+json": {
       "data": [
        {
         "colorscale": "Jet",
         "type": "heatmap",
         "z": [
          [
           3.857341390904693e-07,
           0.000204893794651004,
           0.012005576383992574,
           0.12282800495667005,
           0.3996284353871115,
           0.7260670391168775,
           0.884954693036237,
           0.8621176575051086,
           0.9135407953790328,
           0.9978844387641441
          ],
          [
           0.9999909886890723,
           2.9047333653651787e-05,
           4.680631176395638e-10,
           4.271280627537959e-10,
           1.1926182109027101e-06,
           7.089191443417547e-05,
           1.3292897398244499e-06,
           6.016185201205366e-08,
           6.014045000588801e-11,
           1.9433175841133542e-11
          ],
          [
           5.635088771459397e-06,
           0.9996464939401487,
           0.00016572119407866324,
           1.4751984961438743e-08,
           1.5507425922750545e-10,
           1.4961388042526022e-08,
           2.5299607611357868e-06,
           4.216204821346627e-06,
           8.428733391294602e-08,
           2.8167880900822645e-10
          ],
          [
           1.6887507060589243e-09,
           8.332245705847502e-05,
           0.9875802251161435,
           0.0006396914506402705,
           8.414128858270628e-08,
           4.537435721534596e-11,
           2.2054082271848581e-10,
           1.8228810245673943e-06,
           0.00022899072829631016,
           5.5935082816617095e-06
          ],
          [
           1.3864436121965773e-09,
           5.1510032864178614e-08,
           0.0002268795642784007,
           0.8762393096742565,
           0.0005462252036638269,
           6.213540434278407e-08,
           1.5029857562082428e-10,
           1.737634237148322e-08,
           1.2025329702137342e-05,
           0.0005350708814047686
          ],
          [
           2.3480225016816808e-08,
           3.9459066261447485e-10,
           2.6270918312798793e-08,
           0.00027896713610509933,
           0.5991970528023092,
           0.0001597615356272908,
           3.4645056834116484e-08,
           1.9618535447440382e-09,
           1.2234604070625476e-08,
           4.653460433150118e-06
          ],
          [
           5.680529727368905e-07,
           7.2756884862356535e-09,
           9.893065807578355e-11,
           3.9852335790074544e-08,
           0.000625666410434561,
           0.27331632681739126,
           0.00036200103712305184,
           1.4532315782192392e-07,
           1.373267875763315e-09,
           2.1269668664844013e-08
          ],
          [
           1.0658188424833434e-06,
           4.721657392706399e-06,
           2.492202829457726e-09,
           4.95977245024824e-10,
           2.0944523898077288e-07,
           0.0003848408029098587,
           0.11431527128748105,
           0.00041181925092432424,
           1.3635907672535092e-07,
           3.224386687820963e-09
          ],
          [
           6.379014954108476e-07,
           2.749892468552847e-05,
           6.141054132643194e-07,
           1.0819216585534415e-08,
           8.482713538594084e-09,
           3.4581769971701945e-07,
           0.00036273779185380894,
           0.13545411810108035,
           0.000486881569103118,
           3.935974485883457e-07
          ],
          [
           4.6025100755963984e-08,
           3.2887332108655113e-06,
           2.028643878464492e-05,
           1.331723491454211e-05,
           4.5555773759980513e-07,
           5.90075760481168e-08,
           7.222310214417387e-07,
           0.0020094728399036874,
           0.08573044609752449,
           0.0015691627570578947
          ]
         ]
        }
       ],
       "layout": {
        "font": {
         "color": "#FFF"
        },
        "height": 400,
        "paper_bgcolor": "#000",
        "plot_bgcolor": "#000",
        "title": "5 Blobs:Confidence after 819200 Iters",
        "titlefont": {
         "color": "#FFF"
        },
        "width": 400,
        "xaxis": {
         "dtick": 1,
         "range": [
          -0.5,
          9.5
         ],
         "tickcolor": "#FFF",
         "title": "Glimpses"
        },
        "yaxis": {
         "dtick": 1,
         "range": [
          -0.5,
          9.5
         ],
         "tickcolor": "#FFF",
         "title": "Count Word"
        }
       }
      },
      "text/html": [
       "<div id=\"6da6c320-eb8c-4e82-81eb-d175c17be357\" style=\"height: 400px; width: 400px;\" class=\"plotly-graph-div\"></div><script type=\"text/javascript\">require([\"plotly\"], function(Plotly) { window.PLOTLYENV=window.PLOTLYENV || {};window.PLOTLYENV.BASE_URL=\"https://plot.ly\";Plotly.newPlot(\"6da6c320-eb8c-4e82-81eb-d175c17be357\", [{\"type\": \"heatmap\", \"colorscale\": \"Jet\", \"z\": [[3.857341390904693e-07, 0.000204893794651004, 0.012005576383992574, 0.12282800495667005, 0.3996284353871115, 0.7260670391168775, 0.884954693036237, 0.8621176575051086, 0.9135407953790328, 0.9978844387641441], [0.9999909886890723, 2.9047333653651787e-05, 4.680631176395638e-10, 4.271280627537959e-10, 1.1926182109027101e-06, 7.089191443417547e-05, 1.3292897398244499e-06, 6.016185201205366e-08, 6.014045000588801e-11, 1.9433175841133542e-11], [5.635088771459397e-06, 0.9996464939401487, 0.00016572119407866324, 1.4751984961438743e-08, 1.5507425922750545e-10, 1.4961388042526022e-08, 2.5299607611357868e-06, 4.216204821346627e-06, 8.428733391294602e-08, 2.8167880900822645e-10], [1.6887507060589243e-09, 8.332245705847502e-05, 0.9875802251161435, 0.0006396914506402705, 8.414128858270628e-08, 4.537435721534596e-11, 2.2054082271848581e-10, 1.8228810245673943e-06, 0.00022899072829631016, 5.5935082816617095e-06], [1.3864436121965773e-09, 5.1510032864178614e-08, 0.0002268795642784007, 0.8762393096742565, 0.0005462252036638269, 6.213540434278407e-08, 1.5029857562082428e-10, 1.737634237148322e-08, 1.2025329702137342e-05, 0.0005350708814047686], [2.3480225016816808e-08, 3.9459066261447485e-10, 2.6270918312798793e-08, 0.00027896713610509933, 0.5991970528023092, 0.0001597615356272908, 3.4645056834116484e-08, 1.9618535447440382e-09, 1.2234604070625476e-08, 4.653460433150118e-06], [5.680529727368905e-07, 7.2756884862356535e-09, 9.893065807578355e-11, 3.9852335790074544e-08, 0.000625666410434561, 0.27331632681739126, 0.00036200103712305184, 1.4532315782192392e-07, 1.373267875763315e-09, 2.1269668664844013e-08], [1.0658188424833434e-06, 4.721657392706399e-06, 2.492202829457726e-09, 4.95977245024824e-10, 2.0944523898077288e-07, 0.0003848408029098587, 0.11431527128748105, 0.00041181925092432424, 1.3635907672535092e-07, 3.224386687820963e-09], [6.379014954108476e-07, 2.749892468552847e-05, 6.141054132643194e-07, 1.0819216585534415e-08, 8.482713538594084e-09, 3.4581769971701945e-07, 0.00036273779185380894, 0.13545411810108035, 0.000486881569103118, 3.935974485883457e-07], [4.6025100755963984e-08, 3.2887332108655113e-06, 2.028643878464492e-05, 1.331723491454211e-05, 4.5555773759980513e-07, 5.90075760481168e-08, 7.222310214417387e-07, 0.0020094728399036874, 0.08573044609752449, 0.0015691627570578947]]}], {\"plot_bgcolor\": \"#000\", \"title\": \"5 Blobs:Confidence after 819200 Iters\", \"height\": 400, \"font\": {\"color\": \"#FFF\"}, \"yaxis\": {\"tickcolor\": \"#FFF\", \"range\": [-0.5, 9.5], \"dtick\": 1, \"title\": \"Count Word\"}, \"paper_bgcolor\": \"#000\", \"titlefont\": {\"color\": \"#FFF\"}, \"xaxis\": {\"tickcolor\": \"#FFF\", \"range\": [-0.5, 9.5], \"dtick\": 1, \"title\": \"Glimpses\"}, \"width\": 400}, {\"linkText\": \"Export to plot.ly\", \"showLink\": true})});</script>"
      ],
      "text/vnd.plotly.v1+html": [
       "<div id=\"6da6c320-eb8c-4e82-81eb-d175c17be357\" style=\"height: 400px; width: 400px;\" class=\"plotly-graph-div\"></div><script type=\"text/javascript\">require([\"plotly\"], function(Plotly) { window.PLOTLYENV=window.PLOTLYENV || {};window.PLOTLYENV.BASE_URL=\"https://plot.ly\";Plotly.newPlot(\"6da6c320-eb8c-4e82-81eb-d175c17be357\", [{\"type\": \"heatmap\", \"colorscale\": \"Jet\", \"z\": [[3.857341390904693e-07, 0.000204893794651004, 0.012005576383992574, 0.12282800495667005, 0.3996284353871115, 0.7260670391168775, 0.884954693036237, 0.8621176575051086, 0.9135407953790328, 0.9978844387641441], [0.9999909886890723, 2.9047333653651787e-05, 4.680631176395638e-10, 4.271280627537959e-10, 1.1926182109027101e-06, 7.089191443417547e-05, 1.3292897398244499e-06, 6.016185201205366e-08, 6.014045000588801e-11, 1.9433175841133542e-11], [5.635088771459397e-06, 0.9996464939401487, 0.00016572119407866324, 1.4751984961438743e-08, 1.5507425922750545e-10, 1.4961388042526022e-08, 2.5299607611357868e-06, 4.216204821346627e-06, 8.428733391294602e-08, 2.8167880900822645e-10], [1.6887507060589243e-09, 8.332245705847502e-05, 0.9875802251161435, 0.0006396914506402705, 8.414128858270628e-08, 4.537435721534596e-11, 2.2054082271848581e-10, 1.8228810245673943e-06, 0.00022899072829631016, 5.5935082816617095e-06], [1.3864436121965773e-09, 5.1510032864178614e-08, 0.0002268795642784007, 0.8762393096742565, 0.0005462252036638269, 6.213540434278407e-08, 1.5029857562082428e-10, 1.737634237148322e-08, 1.2025329702137342e-05, 0.0005350708814047686], [2.3480225016816808e-08, 3.9459066261447485e-10, 2.6270918312798793e-08, 0.00027896713610509933, 0.5991970528023092, 0.0001597615356272908, 3.4645056834116484e-08, 1.9618535447440382e-09, 1.2234604070625476e-08, 4.653460433150118e-06], [5.680529727368905e-07, 7.2756884862356535e-09, 9.893065807578355e-11, 3.9852335790074544e-08, 0.000625666410434561, 0.27331632681739126, 0.00036200103712305184, 1.4532315782192392e-07, 1.373267875763315e-09, 2.1269668664844013e-08], [1.0658188424833434e-06, 4.721657392706399e-06, 2.492202829457726e-09, 4.95977245024824e-10, 2.0944523898077288e-07, 0.0003848408029098587, 0.11431527128748105, 0.00041181925092432424, 1.3635907672535092e-07, 3.224386687820963e-09], [6.379014954108476e-07, 2.749892468552847e-05, 6.141054132643194e-07, 1.0819216585534415e-08, 8.482713538594084e-09, 3.4581769971701945e-07, 0.00036273779185380894, 0.13545411810108035, 0.000486881569103118, 3.935974485883457e-07], [4.6025100755963984e-08, 3.2887332108655113e-06, 2.028643878464492e-05, 1.331723491454211e-05, 4.5555773759980513e-07, 5.90075760481168e-08, 7.222310214417387e-07, 0.0020094728399036874, 0.08573044609752449, 0.0015691627570578947]]}], {\"plot_bgcolor\": \"#000\", \"title\": \"5 Blobs:Confidence after 819200 Iters\", \"height\": 400, \"font\": {\"color\": \"#FFF\"}, \"yaxis\": {\"tickcolor\": \"#FFF\", \"range\": [-0.5, 9.5], \"dtick\": 1, \"title\": \"Count Word\"}, \"paper_bgcolor\": \"#000\", \"titlefont\": {\"color\": \"#FFF\"}, \"xaxis\": {\"tickcolor\": \"#FFF\", \"range\": [-0.5, 9.5], \"dtick\": 1, \"title\": \"Glimpses\"}, \"width\": 400}, {\"linkText\": \"Export to plot.ly\", \"showLink\": true})});</script>"
      ]
     },
     "metadata": {},
     "output_type": "display_data"
    },
    {
     "data": {
      "application/vnd.plotly.v1+json": {
       "data": [
        {
         "colorscale": "Jet",
         "type": "heatmap",
         "z": [
          [
           2.9483146062262295e-07,
           8.8942426561305e-05,
           0.0009113642441156267,
           0.015291583141812707,
           0.10877512344494514,
           0.3234906875104822,
           0.6518073090605727,
           0.7545053149164533,
           0.8903966463579618,
           0.9976039506782912
          ],
          [
           0.9999910487493382,
           2.448373541469502e-05,
           4.669311292347134e-10,
           3.567031142241967e-10,
           8.135621662667638e-07,
           0.00010224980649140783,
           3.865886804453573e-06,
           1.0717156658616671e-07,
           9.699477104538563e-11,
           1.5535382129099625e-11
          ],
          [
           5.74941723557358e-06,
           0.9997639314380035,
           0.00015046269123970108,
           1.4402894995574893e-08,
           2.0106964165052795e-10,
           1.949796692745385e-08,
           3.755488997554657e-06,
           6.870731199843389e-06,
           1.3663424610711687e-07,
           4.494054769560799e-10
          ],
          [
           1.266555949494896e-09,
           9.179566465681941e-05,
           0.9986741569654916,
           0.0007846932229046408,
           2.0985375937036811e-07,
           1.5772249301599688e-10,
           2.4586245655687395e-10,
           1.4407955236070562e-06,
           0.0002190149345465514,
           8.48648355168976e-06
          ],
          [
           9.58823674755317e-10,
           5.4670053414966403e-08,
           0.0002490031473081619,
           0.9836166678458871,
           0.001343910484097065,
           2.255724418169869e-07,
           1.6688502662657452e-10,
           1.1938282925506242e-08,
           9.809089410548164e-06,
           0.0004863577120377526
          ],
          [
           1.725818329935172e-08,
           4.0590125360468255e-10,
           2.9251063941009147e-08,
           0.00029701609585331334,
           0.8890158167356024,
           0.0005049004394605581,
           5.6782464746721424e-08,
           1.4650264006616282e-09,
           1.1095997060744216e-08,
           2.595725398777851e-06
          ],
          [
           4.346441168172438e-07,
           6.498863443331842e-09,
           1.1080426181741382e-10,
           4.2329005848685826e-08,
           0.0008622673972485886,
           0.6749969288963512,
           0.0005398308960590409,
           1.0598575232614434e-07,
           1.1208622978842115e-09,
           1.2798788198016773e-08
          ],
          [
           8.975642123166034e-07,
           3.635401017467584e-06,
           2.4070931546696186e-09,
           5.332231014680031e-10,
           2.7285752536497797e-07,
           0.000903055463895741,
           0.346827683967175,
           0.0004265620633214452,
           1.2809815659257977e-07,
           2.7044848183351134e-09
          ],
          [
           5.782333660483259e-07,
           2.3496474264314507e-05,
           4.997359004365231e-07,
           9.478213350604811e-09,
           1.3120299360608254e-08,
           8.101541679716975e-07,
           0.0008155512675256417,
           0.24287986905288547,
           0.0005583399023624089,
           4.048757277445744e-07
          ],
          [
           3.681337657097461e-08,
           2.646471014190272e-06,
           1.3464940771101332e-05,
           8.997278093727908e-06,
           5.600304631252529e-07,
           1.2311408407038747e-07,
           9.577629186228791e-07,
           0.002178724620595809,
           0.1088149122529455,
           0.0018972079273206178
          ]
         ]
        }
       ],
       "layout": {
        "font": {
         "color": "#FFF"
        },
        "height": 400,
        "paper_bgcolor": "#000",
        "plot_bgcolor": "#000",
        "title": "6 Blobs:Confidence after 819200 Iters",
        "titlefont": {
         "color": "#FFF"
        },
        "width": 400,
        "xaxis": {
         "dtick": 1,
         "range": [
          -0.5,
          9.5
         ],
         "tickcolor": "#FFF",
         "title": "Glimpses"
        },
        "yaxis": {
         "dtick": 1,
         "range": [
          -0.5,
          9.5
         ],
         "tickcolor": "#FFF",
         "title": "Count Word"
        }
       }
      },
      "text/html": [
       "<div id=\"0323444a-3ca8-4459-879c-764cdfaa8ec8\" style=\"height: 400px; width: 400px;\" class=\"plotly-graph-div\"></div><script type=\"text/javascript\">require([\"plotly\"], function(Plotly) { window.PLOTLYENV=window.PLOTLYENV || {};window.PLOTLYENV.BASE_URL=\"https://plot.ly\";Plotly.newPlot(\"0323444a-3ca8-4459-879c-764cdfaa8ec8\", [{\"type\": \"heatmap\", \"colorscale\": \"Jet\", \"z\": [[2.9483146062262295e-07, 8.8942426561305e-05, 0.0009113642441156267, 0.015291583141812707, 0.10877512344494514, 0.3234906875104822, 0.6518073090605727, 0.7545053149164533, 0.8903966463579618, 0.9976039506782912], [0.9999910487493382, 2.448373541469502e-05, 4.669311292347134e-10, 3.567031142241967e-10, 8.135621662667638e-07, 0.00010224980649140783, 3.865886804453573e-06, 1.0717156658616671e-07, 9.699477104538563e-11, 1.5535382129099625e-11], [5.74941723557358e-06, 0.9997639314380035, 0.00015046269123970108, 1.4402894995574893e-08, 2.0106964165052795e-10, 1.949796692745385e-08, 3.755488997554657e-06, 6.870731199843389e-06, 1.3663424610711687e-07, 4.494054769560799e-10], [1.266555949494896e-09, 9.179566465681941e-05, 0.9986741569654916, 0.0007846932229046408, 2.0985375937036811e-07, 1.5772249301599688e-10, 2.4586245655687395e-10, 1.4407955236070562e-06, 0.0002190149345465514, 8.48648355168976e-06], [9.58823674755317e-10, 5.4670053414966403e-08, 0.0002490031473081619, 0.9836166678458871, 0.001343910484097065, 2.255724418169869e-07, 1.6688502662657452e-10, 1.1938282925506242e-08, 9.809089410548164e-06, 0.0004863577120377526], [1.725818329935172e-08, 4.0590125360468255e-10, 2.9251063941009147e-08, 0.00029701609585331334, 0.8890158167356024, 0.0005049004394605581, 5.6782464746721424e-08, 1.4650264006616282e-09, 1.1095997060744216e-08, 2.595725398777851e-06], [4.346441168172438e-07, 6.498863443331842e-09, 1.1080426181741382e-10, 4.2329005848685826e-08, 0.0008622673972485886, 0.6749969288963512, 0.0005398308960590409, 1.0598575232614434e-07, 1.1208622978842115e-09, 1.2798788198016773e-08], [8.975642123166034e-07, 3.635401017467584e-06, 2.4070931546696186e-09, 5.332231014680031e-10, 2.7285752536497797e-07, 0.000903055463895741, 0.346827683967175, 0.0004265620633214452, 1.2809815659257977e-07, 2.7044848183351134e-09], [5.782333660483259e-07, 2.3496474264314507e-05, 4.997359004365231e-07, 9.478213350604811e-09, 1.3120299360608254e-08, 8.101541679716975e-07, 0.0008155512675256417, 0.24287986905288547, 0.0005583399023624089, 4.048757277445744e-07], [3.681337657097461e-08, 2.646471014190272e-06, 1.3464940771101332e-05, 8.997278093727908e-06, 5.600304631252529e-07, 1.2311408407038747e-07, 9.577629186228791e-07, 0.002178724620595809, 0.1088149122529455, 0.0018972079273206178]]}], {\"plot_bgcolor\": \"#000\", \"title\": \"6 Blobs:Confidence after 819200 Iters\", \"height\": 400, \"font\": {\"color\": \"#FFF\"}, \"yaxis\": {\"tickcolor\": \"#FFF\", \"range\": [-0.5, 9.5], \"dtick\": 1, \"title\": \"Count Word\"}, \"paper_bgcolor\": \"#000\", \"titlefont\": {\"color\": \"#FFF\"}, \"xaxis\": {\"tickcolor\": \"#FFF\", \"range\": [-0.5, 9.5], \"dtick\": 1, \"title\": \"Glimpses\"}, \"width\": 400}, {\"linkText\": \"Export to plot.ly\", \"showLink\": true})});</script>"
      ],
      "text/vnd.plotly.v1+html": [
       "<div id=\"0323444a-3ca8-4459-879c-764cdfaa8ec8\" style=\"height: 400px; width: 400px;\" class=\"plotly-graph-div\"></div><script type=\"text/javascript\">require([\"plotly\"], function(Plotly) { window.PLOTLYENV=window.PLOTLYENV || {};window.PLOTLYENV.BASE_URL=\"https://plot.ly\";Plotly.newPlot(\"0323444a-3ca8-4459-879c-764cdfaa8ec8\", [{\"type\": \"heatmap\", \"colorscale\": \"Jet\", \"z\": [[2.9483146062262295e-07, 8.8942426561305e-05, 0.0009113642441156267, 0.015291583141812707, 0.10877512344494514, 0.3234906875104822, 0.6518073090605727, 0.7545053149164533, 0.8903966463579618, 0.9976039506782912], [0.9999910487493382, 2.448373541469502e-05, 4.669311292347134e-10, 3.567031142241967e-10, 8.135621662667638e-07, 0.00010224980649140783, 3.865886804453573e-06, 1.0717156658616671e-07, 9.699477104538563e-11, 1.5535382129099625e-11], [5.74941723557358e-06, 0.9997639314380035, 0.00015046269123970108, 1.4402894995574893e-08, 2.0106964165052795e-10, 1.949796692745385e-08, 3.755488997554657e-06, 6.870731199843389e-06, 1.3663424610711687e-07, 4.494054769560799e-10], [1.266555949494896e-09, 9.179566465681941e-05, 0.9986741569654916, 0.0007846932229046408, 2.0985375937036811e-07, 1.5772249301599688e-10, 2.4586245655687395e-10, 1.4407955236070562e-06, 0.0002190149345465514, 8.48648355168976e-06], [9.58823674755317e-10, 5.4670053414966403e-08, 0.0002490031473081619, 0.9836166678458871, 0.001343910484097065, 2.255724418169869e-07, 1.6688502662657452e-10, 1.1938282925506242e-08, 9.809089410548164e-06, 0.0004863577120377526], [1.725818329935172e-08, 4.0590125360468255e-10, 2.9251063941009147e-08, 0.00029701609585331334, 0.8890158167356024, 0.0005049004394605581, 5.6782464746721424e-08, 1.4650264006616282e-09, 1.1095997060744216e-08, 2.595725398777851e-06], [4.346441168172438e-07, 6.498863443331842e-09, 1.1080426181741382e-10, 4.2329005848685826e-08, 0.0008622673972485886, 0.6749969288963512, 0.0005398308960590409, 1.0598575232614434e-07, 1.1208622978842115e-09, 1.2798788198016773e-08], [8.975642123166034e-07, 3.635401017467584e-06, 2.4070931546696186e-09, 5.332231014680031e-10, 2.7285752536497797e-07, 0.000903055463895741, 0.346827683967175, 0.0004265620633214452, 1.2809815659257977e-07, 2.7044848183351134e-09], [5.782333660483259e-07, 2.3496474264314507e-05, 4.997359004365231e-07, 9.478213350604811e-09, 1.3120299360608254e-08, 8.101541679716975e-07, 0.0008155512675256417, 0.24287986905288547, 0.0005583399023624089, 4.048757277445744e-07], [3.681337657097461e-08, 2.646471014190272e-06, 1.3464940771101332e-05, 8.997278093727908e-06, 5.600304631252529e-07, 1.2311408407038747e-07, 9.577629186228791e-07, 0.002178724620595809, 0.1088149122529455, 0.0018972079273206178]]}], {\"plot_bgcolor\": \"#000\", \"title\": \"6 Blobs:Confidence after 819200 Iters\", \"height\": 400, \"font\": {\"color\": \"#FFF\"}, \"yaxis\": {\"tickcolor\": \"#FFF\", \"range\": [-0.5, 9.5], \"dtick\": 1, \"title\": \"Count Word\"}, \"paper_bgcolor\": \"#000\", \"titlefont\": {\"color\": \"#FFF\"}, \"xaxis\": {\"tickcolor\": \"#FFF\", \"range\": [-0.5, 9.5], \"dtick\": 1, \"title\": \"Glimpses\"}, \"width\": 400}, {\"linkText\": \"Export to plot.ly\", \"showLink\": true})});</script>"
      ]
     },
     "metadata": {},
     "output_type": "display_data"
    },
    {
     "data": {
      "application/vnd.plotly.v1+json": {
       "data": [
        {
         "colorscale": "Jet",
         "type": "heatmap",
         "z": [
          [
           2.0621218884037888e-07,
           0.00013233667471574366,
           0.0012945511908714854,
           0.011093835426270043,
           0.042353339089799026,
           0.12041808233178868,
           0.34003059743389324,
           0.4934196036941751,
           0.7752277576834755,
           0.9963545194509362
          ],
          [
           0.9999937048223677,
           2.765366223393095e-05,
           4.0299908184356916e-10,
           2.7467472245680596e-10,
           6.994834917761573e-07,
           0.00013213863010939575,
           6.871389469140575e-06,
           4.41965973144863e-07,
           1.7736908367808984e-10,
           2.0690470088113688e-11
          ],
          [
           3.999060758224994e-06,
           0.999710843109827,
           0.00012153252495374021,
           9.439947548147141e-09,
           1.7642093704518096e-10,
           1.9644056307072682e-08,
           4.589987055918309e-06,
           8.153482655416995e-06,
           2.2088432102081378e-07,
           7.827545454812115e-10
          ],
          [
           9.777432669834587e-10,
           9.959743568160889e-05,
           0.9982993305442821,
           0.0006516966177117461,
           2.3037062376969638e-07,
           3.585723022120171e-10,
           7.900846387283804e-10,
           1.674921997787589e-06,
           0.00025956041464211837,
           2.034648508495185e-05
          ],
          [
           8.430107824519602e-10,
           6.21403371879579e-08,
           0.000272151127705225,
           0.9879004535772965,
           0.0014513349063322036,
           4.4201961971859123e-07,
           5.436582733908281e-10,
           1.4055119613895959e-08,
           1.0288594332757548e-05,
           0.0005374467961709412
          ],
          [
           1.2305071503734492e-08,
           4.699185881175676e-10,
           3.289380999087076e-08,
           0.000347674476480089,
           0.9551583785957406,
           0.0008601588103171016,
           1.2788327150064476e-07,
           2.0226508378872168e-09,
           1.0744891846837516e-08,
           2.49991311477843e-06
          ],
          [
           2.966784245099689e-07,
           6.922909593463682e-09,
           1.1497410240084545e-10,
           4.6286402820576016e-08,
           0.0010344551795858285,
           0.877327972156303,
           0.00122793161978561,
           2.284108188505746e-07,
           1.3565735889238042e-09,
           1.413327007939727e-08
          ],
          [
           5.36405060863381e-07,
           3.571453433195961e-06,
           2.0582122028199546e-09,
           4.744989024014001e-10,
           2.804990329593087e-07,
           0.0012591541092788377,
           0.6572609773002221,
           0.0011705108754620614,
           2.391271087137643e-07,
           3.3292734339658502e-09
          ],
          [
           3.476216174815483e-07,
           2.233891257269606e-05,
           4.016514278994317e-07,
           6.454184668115594e-09,
           1.0973613084732498e-08,
           9.913829955769364e-07,
           0.001466184373561053,
           0.5028609139482448,
           0.0011753419455320284,
           6.806699030143029e-07
          ],
          [
           2.5414415651483733e-08,
           2.6789560660841703e-06,
           1.1082341242347569e-05,
           5.3917900968902065e-06,
           3.493543221676609e-07,
           1.3691012077813638e-07,
           1.8125085413933062e-06,
           0.002537561284474959,
           0.2233256658758394,
           0.003083574280005057
          ]
         ]
        }
       ],
       "layout": {
        "font": {
         "color": "#FFF"
        },
        "height": 400,
        "paper_bgcolor": "#000",
        "plot_bgcolor": "#000",
        "title": "7 Blobs:Confidence after 819200 Iters",
        "titlefont": {
         "color": "#FFF"
        },
        "width": 400,
        "xaxis": {
         "dtick": 1,
         "range": [
          -0.5,
          9.5
         ],
         "tickcolor": "#FFF",
         "title": "Glimpses"
        },
        "yaxis": {
         "dtick": 1,
         "range": [
          -0.5,
          9.5
         ],
         "tickcolor": "#FFF",
         "title": "Count Word"
        }
       }
      },
      "text/html": [
       "<div id=\"81e17caa-601c-4fab-8a1d-322d0f8ca70b\" style=\"height: 400px; width: 400px;\" class=\"plotly-graph-div\"></div><script type=\"text/javascript\">require([\"plotly\"], function(Plotly) { window.PLOTLYENV=window.PLOTLYENV || {};window.PLOTLYENV.BASE_URL=\"https://plot.ly\";Plotly.newPlot(\"81e17caa-601c-4fab-8a1d-322d0f8ca70b\", [{\"type\": \"heatmap\", \"colorscale\": \"Jet\", \"z\": [[2.0621218884037888e-07, 0.00013233667471574366, 0.0012945511908714854, 0.011093835426270043, 0.042353339089799026, 0.12041808233178868, 0.34003059743389324, 0.4934196036941751, 0.7752277576834755, 0.9963545194509362], [0.9999937048223677, 2.765366223393095e-05, 4.0299908184356916e-10, 2.7467472245680596e-10, 6.994834917761573e-07, 0.00013213863010939575, 6.871389469140575e-06, 4.41965973144863e-07, 1.7736908367808984e-10, 2.0690470088113688e-11], [3.999060758224994e-06, 0.999710843109827, 0.00012153252495374021, 9.439947548147141e-09, 1.7642093704518096e-10, 1.9644056307072682e-08, 4.589987055918309e-06, 8.153482655416995e-06, 2.2088432102081378e-07, 7.827545454812115e-10], [9.777432669834587e-10, 9.959743568160889e-05, 0.9982993305442821, 0.0006516966177117461, 2.3037062376969638e-07, 3.585723022120171e-10, 7.900846387283804e-10, 1.674921997787589e-06, 0.00025956041464211837, 2.034648508495185e-05], [8.430107824519602e-10, 6.21403371879579e-08, 0.000272151127705225, 0.9879004535772965, 0.0014513349063322036, 4.4201961971859123e-07, 5.436582733908281e-10, 1.4055119613895959e-08, 1.0288594332757548e-05, 0.0005374467961709412], [1.2305071503734492e-08, 4.699185881175676e-10, 3.289380999087076e-08, 0.000347674476480089, 0.9551583785957406, 0.0008601588103171016, 1.2788327150064476e-07, 2.0226508378872168e-09, 1.0744891846837516e-08, 2.49991311477843e-06], [2.966784245099689e-07, 6.922909593463682e-09, 1.1497410240084545e-10, 4.6286402820576016e-08, 0.0010344551795858285, 0.877327972156303, 0.00122793161978561, 2.284108188505746e-07, 1.3565735889238042e-09, 1.413327007939727e-08], [5.36405060863381e-07, 3.571453433195961e-06, 2.0582122028199546e-09, 4.744989024014001e-10, 2.804990329593087e-07, 0.0012591541092788377, 0.6572609773002221, 0.0011705108754620614, 2.391271087137643e-07, 3.3292734339658502e-09], [3.476216174815483e-07, 2.233891257269606e-05, 4.016514278994317e-07, 6.454184668115594e-09, 1.0973613084732498e-08, 9.913829955769364e-07, 0.001466184373561053, 0.5028609139482448, 0.0011753419455320284, 6.806699030143029e-07], [2.5414415651483733e-08, 2.6789560660841703e-06, 1.1082341242347569e-05, 5.3917900968902065e-06, 3.493543221676609e-07, 1.3691012077813638e-07, 1.8125085413933062e-06, 0.002537561284474959, 0.2233256658758394, 0.003083574280005057]]}], {\"plot_bgcolor\": \"#000\", \"title\": \"7 Blobs:Confidence after 819200 Iters\", \"height\": 400, \"font\": {\"color\": \"#FFF\"}, \"yaxis\": {\"tickcolor\": \"#FFF\", \"range\": [-0.5, 9.5], \"dtick\": 1, \"title\": \"Count Word\"}, \"paper_bgcolor\": \"#000\", \"titlefont\": {\"color\": \"#FFF\"}, \"xaxis\": {\"tickcolor\": \"#FFF\", \"range\": [-0.5, 9.5], \"dtick\": 1, \"title\": \"Glimpses\"}, \"width\": 400}, {\"linkText\": \"Export to plot.ly\", \"showLink\": true})});</script>"
      ],
      "text/vnd.plotly.v1+html": [
       "<div id=\"81e17caa-601c-4fab-8a1d-322d0f8ca70b\" style=\"height: 400px; width: 400px;\" class=\"plotly-graph-div\"></div><script type=\"text/javascript\">require([\"plotly\"], function(Plotly) { window.PLOTLYENV=window.PLOTLYENV || {};window.PLOTLYENV.BASE_URL=\"https://plot.ly\";Plotly.newPlot(\"81e17caa-601c-4fab-8a1d-322d0f8ca70b\", [{\"type\": \"heatmap\", \"colorscale\": \"Jet\", \"z\": [[2.0621218884037888e-07, 0.00013233667471574366, 0.0012945511908714854, 0.011093835426270043, 0.042353339089799026, 0.12041808233178868, 0.34003059743389324, 0.4934196036941751, 0.7752277576834755, 0.9963545194509362], [0.9999937048223677, 2.765366223393095e-05, 4.0299908184356916e-10, 2.7467472245680596e-10, 6.994834917761573e-07, 0.00013213863010939575, 6.871389469140575e-06, 4.41965973144863e-07, 1.7736908367808984e-10, 2.0690470088113688e-11], [3.999060758224994e-06, 0.999710843109827, 0.00012153252495374021, 9.439947548147141e-09, 1.7642093704518096e-10, 1.9644056307072682e-08, 4.589987055918309e-06, 8.153482655416995e-06, 2.2088432102081378e-07, 7.827545454812115e-10], [9.777432669834587e-10, 9.959743568160889e-05, 0.9982993305442821, 0.0006516966177117461, 2.3037062376969638e-07, 3.585723022120171e-10, 7.900846387283804e-10, 1.674921997787589e-06, 0.00025956041464211837, 2.034648508495185e-05], [8.430107824519602e-10, 6.21403371879579e-08, 0.000272151127705225, 0.9879004535772965, 0.0014513349063322036, 4.4201961971859123e-07, 5.436582733908281e-10, 1.4055119613895959e-08, 1.0288594332757548e-05, 0.0005374467961709412], [1.2305071503734492e-08, 4.699185881175676e-10, 3.289380999087076e-08, 0.000347674476480089, 0.9551583785957406, 0.0008601588103171016, 1.2788327150064476e-07, 2.0226508378872168e-09, 1.0744891846837516e-08, 2.49991311477843e-06], [2.966784245099689e-07, 6.922909593463682e-09, 1.1497410240084545e-10, 4.6286402820576016e-08, 0.0010344551795858285, 0.877327972156303, 0.00122793161978561, 2.284108188505746e-07, 1.3565735889238042e-09, 1.413327007939727e-08], [5.36405060863381e-07, 3.571453433195961e-06, 2.0582122028199546e-09, 4.744989024014001e-10, 2.804990329593087e-07, 0.0012591541092788377, 0.6572609773002221, 0.0011705108754620614, 2.391271087137643e-07, 3.3292734339658502e-09], [3.476216174815483e-07, 2.233891257269606e-05, 4.016514278994317e-07, 6.454184668115594e-09, 1.0973613084732498e-08, 9.913829955769364e-07, 0.001466184373561053, 0.5028609139482448, 0.0011753419455320284, 6.806699030143029e-07], [2.5414415651483733e-08, 2.6789560660841703e-06, 1.1082341242347569e-05, 5.3917900968902065e-06, 3.493543221676609e-07, 1.3691012077813638e-07, 1.8125085413933062e-06, 0.002537561284474959, 0.2233256658758394, 0.003083574280005057]]}], {\"plot_bgcolor\": \"#000\", \"title\": \"7 Blobs:Confidence after 819200 Iters\", \"height\": 400, \"font\": {\"color\": \"#FFF\"}, \"yaxis\": {\"tickcolor\": \"#FFF\", \"range\": [-0.5, 9.5], \"dtick\": 1, \"title\": \"Count Word\"}, \"paper_bgcolor\": \"#000\", \"titlefont\": {\"color\": \"#FFF\"}, \"xaxis\": {\"tickcolor\": \"#FFF\", \"range\": [-0.5, 9.5], \"dtick\": 1, \"title\": \"Glimpses\"}, \"width\": 400}, {\"linkText\": \"Export to plot.ly\", \"showLink\": true})});</script>"
      ]
     },
     "metadata": {},
     "output_type": "display_data"
    },
    {
     "data": {
      "application/vnd.plotly.v1+json": {
       "data": [
        {
         "colorscale": "Jet",
         "type": "heatmap",
         "z": [
          [
           2.6241277310322534e-07,
           3.447886751176782e-05,
           0.00011957906229738498,
           0.00042213606552383943,
           0.0035132314196450075,
           0.016041265141546964,
           0.12656147568925147,
           0.3473082159029962,
           0.7100373748714524,
           0.9957762158735265
          ],
          [
           0.9999925704255028,
           1.985440778741863e-05,
           4.0871775118039637e-10,
           2.2840919365819308e-10,
           6.667420758574545e-07,
           8.974080062591552e-05,
           3.4212038245843162e-06,
           5.071775196625442e-07,
           2.3268228586339924e-10,
           1.387490260367752e-11
          ],
          [
           5.1804601291101265e-06,
           0.9998427642098059,
           0.00012695310549860274,
           8.346905464747379e-09,
           1.7176882743422528e-10,
           2.0974803512167945e-08,
           4.691076198247154e-06,
           9.73982089435115e-06,
           3.153493491138487e-07,
           1.0712366966774896e-09
          ],
          [
           7.006914378560605e-10,
           8.176999570191501e-05,
           0.9994910176258935,
           0.0006944211694613308,
           2.764192116530638e-07,
           5.519357821341604e-10,
           9.508008094690081e-10,
           1.1819414238832155e-06,
           0.00022184127441121995,
           2.7321673890508667e-05
          ],
          [
           4.0002016832654234e-10,
           4.1537373565214676e-08,
           0.00025343355790850803,
           0.9985819233743041,
           0.001731295558496339,
           7.00256622155622e-07,
           6.920125252371788e-10,
           7.206748483847506e-09,
           5.406098906959863e-06,
           0.00026683072990674634
          ],
          [
           9.851117058111497e-09,
           3.0868191749360127e-10,
           2.684099652148554e-08,
           0.0002977768252328725,
           0.9937835051158804,
           0.0012208406030606977,
           1.5353455450373838e-07,
           1.5296625098086993e-09,
           6.459501361391076e-09,
           6.564515071537357e-07
          ],
          [
           2.429908138528653e-07,
           3.7935472939587215e-09,
           1.0952387443702674e-10,
           3.6229888281130465e-08,
           0.0009696898070424003,
           0.9812042483749184,
           0.0015256654291330057,
           2.737915006846465e-07,
           1.020761165944886e-09,
           3.6565519931093634e-09
          ],
          [
           4.7587310700463415e-07,
           1.907939483922104e-06,
           1.783099875091559e-09,
           3.9500147524546066e-10,
           2.659104946688779e-07,
           0.0014411449685245543,
           0.8704804527641048,
           0.0016755839806712857,
           3.14738621562072e-07,
           2.4839355227029672e-09
          ],
          [
           3.828745244713206e-07,
           1.6631892407713855e-05,
           3.369606056521631e-07,
           4.549344107277027e-09,
           9.735303481156637e-09,
           1.0720910968858736e-06,
           0.0014217677416656412,
           0.6489364511098956,
           0.0016714691535830981,
           8.599644431865995e-07
          ],
          [
           2.25678455115155e-08,
           1.7019957784788943e-06,
           7.805655792549786e-06,
           2.9140989726589208e-06,
           2.4155277010885017e-07,
           1.414582021387877e-07,
           1.5334300903955298e-06,
           0.002067186039543316,
           0.2880624193506722,
           0.003927280667016355
          ]
         ]
        }
       ],
       "layout": {
        "font": {
         "color": "#FFF"
        },
        "height": 400,
        "paper_bgcolor": "#000",
        "plot_bgcolor": "#000",
        "title": "8 Blobs:Confidence after 819200 Iters",
        "titlefont": {
         "color": "#FFF"
        },
        "width": 400,
        "xaxis": {
         "dtick": 1,
         "range": [
          -0.5,
          9.5
         ],
         "tickcolor": "#FFF",
         "title": "Glimpses"
        },
        "yaxis": {
         "dtick": 1,
         "range": [
          -0.5,
          9.5
         ],
         "tickcolor": "#FFF",
         "title": "Count Word"
        }
       }
      },
      "text/html": [
       "<div id=\"1d3c3b7f-279a-4ace-ae71-374fa37926a0\" style=\"height: 400px; width: 400px;\" class=\"plotly-graph-div\"></div><script type=\"text/javascript\">require([\"plotly\"], function(Plotly) { window.PLOTLYENV=window.PLOTLYENV || {};window.PLOTLYENV.BASE_URL=\"https://plot.ly\";Plotly.newPlot(\"1d3c3b7f-279a-4ace-ae71-374fa37926a0\", [{\"type\": \"heatmap\", \"colorscale\": \"Jet\", \"z\": [[2.6241277310322534e-07, 3.447886751176782e-05, 0.00011957906229738498, 0.00042213606552383943, 0.0035132314196450075, 0.016041265141546964, 0.12656147568925147, 0.3473082159029962, 0.7100373748714524, 0.9957762158735265], [0.9999925704255028, 1.985440778741863e-05, 4.0871775118039637e-10, 2.2840919365819308e-10, 6.667420758574545e-07, 8.974080062591552e-05, 3.4212038245843162e-06, 5.071775196625442e-07, 2.3268228586339924e-10, 1.387490260367752e-11], [5.1804601291101265e-06, 0.9998427642098059, 0.00012695310549860274, 8.346905464747379e-09, 1.7176882743422528e-10, 2.0974803512167945e-08, 4.691076198247154e-06, 9.73982089435115e-06, 3.153493491138487e-07, 1.0712366966774896e-09], [7.006914378560605e-10, 8.176999570191501e-05, 0.9994910176258935, 0.0006944211694613308, 2.764192116530638e-07, 5.519357821341604e-10, 9.508008094690081e-10, 1.1819414238832155e-06, 0.00022184127441121995, 2.7321673890508667e-05], [4.0002016832654234e-10, 4.1537373565214676e-08, 0.00025343355790850803, 0.9985819233743041, 0.001731295558496339, 7.00256622155622e-07, 6.920125252371788e-10, 7.206748483847506e-09, 5.406098906959863e-06, 0.00026683072990674634], [9.851117058111497e-09, 3.0868191749360127e-10, 2.684099652148554e-08, 0.0002977768252328725, 0.9937835051158804, 0.0012208406030606977, 1.5353455450373838e-07, 1.5296625098086993e-09, 6.459501361391076e-09, 6.564515071537357e-07], [2.429908138528653e-07, 3.7935472939587215e-09, 1.0952387443702674e-10, 3.6229888281130465e-08, 0.0009696898070424003, 0.9812042483749184, 0.0015256654291330057, 2.737915006846465e-07, 1.020761165944886e-09, 3.6565519931093634e-09], [4.7587310700463415e-07, 1.907939483922104e-06, 1.783099875091559e-09, 3.9500147524546066e-10, 2.659104946688779e-07, 0.0014411449685245543, 0.8704804527641048, 0.0016755839806712857, 3.14738621562072e-07, 2.4839355227029672e-09], [3.828745244713206e-07, 1.6631892407713855e-05, 3.369606056521631e-07, 4.549344107277027e-09, 9.735303481156637e-09, 1.0720910968858736e-06, 0.0014217677416656412, 0.6489364511098956, 0.0016714691535830981, 8.599644431865995e-07], [2.25678455115155e-08, 1.7019957784788943e-06, 7.805655792549786e-06, 2.9140989726589208e-06, 2.4155277010885017e-07, 1.414582021387877e-07, 1.5334300903955298e-06, 0.002067186039543316, 0.2880624193506722, 0.003927280667016355]]}], {\"plot_bgcolor\": \"#000\", \"title\": \"8 Blobs:Confidence after 819200 Iters\", \"height\": 400, \"font\": {\"color\": \"#FFF\"}, \"yaxis\": {\"tickcolor\": \"#FFF\", \"range\": [-0.5, 9.5], \"dtick\": 1, \"title\": \"Count Word\"}, \"paper_bgcolor\": \"#000\", \"titlefont\": {\"color\": \"#FFF\"}, \"xaxis\": {\"tickcolor\": \"#FFF\", \"range\": [-0.5, 9.5], \"dtick\": 1, \"title\": \"Glimpses\"}, \"width\": 400}, {\"linkText\": \"Export to plot.ly\", \"showLink\": true})});</script>"
      ],
      "text/vnd.plotly.v1+html": [
       "<div id=\"1d3c3b7f-279a-4ace-ae71-374fa37926a0\" style=\"height: 400px; width: 400px;\" class=\"plotly-graph-div\"></div><script type=\"text/javascript\">require([\"plotly\"], function(Plotly) { window.PLOTLYENV=window.PLOTLYENV || {};window.PLOTLYENV.BASE_URL=\"https://plot.ly\";Plotly.newPlot(\"1d3c3b7f-279a-4ace-ae71-374fa37926a0\", [{\"type\": \"heatmap\", \"colorscale\": \"Jet\", \"z\": [[2.6241277310322534e-07, 3.447886751176782e-05, 0.00011957906229738498, 0.00042213606552383943, 0.0035132314196450075, 0.016041265141546964, 0.12656147568925147, 0.3473082159029962, 0.7100373748714524, 0.9957762158735265], [0.9999925704255028, 1.985440778741863e-05, 4.0871775118039637e-10, 2.2840919365819308e-10, 6.667420758574545e-07, 8.974080062591552e-05, 3.4212038245843162e-06, 5.071775196625442e-07, 2.3268228586339924e-10, 1.387490260367752e-11], [5.1804601291101265e-06, 0.9998427642098059, 0.00012695310549860274, 8.346905464747379e-09, 1.7176882743422528e-10, 2.0974803512167945e-08, 4.691076198247154e-06, 9.73982089435115e-06, 3.153493491138487e-07, 1.0712366966774896e-09], [7.006914378560605e-10, 8.176999570191501e-05, 0.9994910176258935, 0.0006944211694613308, 2.764192116530638e-07, 5.519357821341604e-10, 9.508008094690081e-10, 1.1819414238832155e-06, 0.00022184127441121995, 2.7321673890508667e-05], [4.0002016832654234e-10, 4.1537373565214676e-08, 0.00025343355790850803, 0.9985819233743041, 0.001731295558496339, 7.00256622155622e-07, 6.920125252371788e-10, 7.206748483847506e-09, 5.406098906959863e-06, 0.00026683072990674634], [9.851117058111497e-09, 3.0868191749360127e-10, 2.684099652148554e-08, 0.0002977768252328725, 0.9937835051158804, 0.0012208406030606977, 1.5353455450373838e-07, 1.5296625098086993e-09, 6.459501361391076e-09, 6.564515071537357e-07], [2.429908138528653e-07, 3.7935472939587215e-09, 1.0952387443702674e-10, 3.6229888281130465e-08, 0.0009696898070424003, 0.9812042483749184, 0.0015256654291330057, 2.737915006846465e-07, 1.020761165944886e-09, 3.6565519931093634e-09], [4.7587310700463415e-07, 1.907939483922104e-06, 1.783099875091559e-09, 3.9500147524546066e-10, 2.659104946688779e-07, 0.0014411449685245543, 0.8704804527641048, 0.0016755839806712857, 3.14738621562072e-07, 2.4839355227029672e-09], [3.828745244713206e-07, 1.6631892407713855e-05, 3.369606056521631e-07, 4.549344107277027e-09, 9.735303481156637e-09, 1.0720910968858736e-06, 0.0014217677416656412, 0.6489364511098956, 0.0016714691535830981, 8.599644431865995e-07], [2.25678455115155e-08, 1.7019957784788943e-06, 7.805655792549786e-06, 2.9140989726589208e-06, 2.4155277010885017e-07, 1.414582021387877e-07, 1.5334300903955298e-06, 0.002067186039543316, 0.2880624193506722, 0.003927280667016355]]}], {\"plot_bgcolor\": \"#000\", \"title\": \"8 Blobs:Confidence after 819200 Iters\", \"height\": 400, \"font\": {\"color\": \"#FFF\"}, \"yaxis\": {\"tickcolor\": \"#FFF\", \"range\": [-0.5, 9.5], \"dtick\": 1, \"title\": \"Count Word\"}, \"paper_bgcolor\": \"#000\", \"titlefont\": {\"color\": \"#FFF\"}, \"xaxis\": {\"tickcolor\": \"#FFF\", \"range\": [-0.5, 9.5], \"dtick\": 1, \"title\": \"Glimpses\"}, \"width\": 400}, {\"linkText\": \"Export to plot.ly\", \"showLink\": true})});</script>"
      ]
     },
     "metadata": {},
     "output_type": "display_data"
    },
    {
     "data": {
      "application/vnd.plotly.v1+json": {
       "data": [
        {
         "colorscale": "Jet",
         "type": "heatmap",
         "z": [
          [
           1.835493198967176e-07,
           5.679295577821693e-05,
           0.00032734120245195405,
           0.002400970009606653,
           0.010711237687681474,
           0.034340564113043814,
           0.14227152352162425,
           0.34630607345053993,
           0.6937581837462145,
           0.9951343112509894
          ],
          [
           0.9999935892178142,
           2.569872448342566e-05,
           4.1862957579194137e-10,
           2.5244621779239785e-10,
           5.859790414461e-07,
           8.053630637823171e-05,
           4.785364532924341e-06,
           3.109859733925962e-07,
           2.7565027430565426e-10,
           1.3709682288114337e-11
          ],
          [
           4.287587840961425e-06,
           0.9997977582972839,
           0.0001242530863901829,
           7.911838227149455e-09,
           1.4563016176147823e-10,
           1.8242657454865957e-08,
           4.445723561324258e-06,
           1.0290737421859991e-05,
           4.1492479549746784e-07,
           1.2009445765509477e-09
          ],
          [
           8.425396728372604e-10,
           9.206236373910191e-05,
           0.9992572595070566,
           0.0006054899774924767,
           2.2717697502313084e-07,
           4.5217208615848365e-10,
           9.172330594100713e-10,
           1.1967156519191028e-06,
           0.0002056742826677397,
           2.7600664097104846e-05
          ],
          [
           6.857732745738859e-10,
           6.107359458622542e-08,
           0.0002807422363085001,
           0.9966447259305272,
           0.001550538596844739,
           6.167236382730079e-07,
           7.132160309501635e-10,
           7.78888485803368e-09,
           5.332461203382538e-06,
           0.0002642641031074071
          ],
          [
           1.2263166049553123e-08,
           4.956323554541197e-10,
           3.376918400737624e-08,
           0.0003444947955774209,
           0.9866942527471865,
           0.0010909642590715726,
           1.6523561691048267e-07,
           1.635096758177309e-09,
           6.5012261163527295e-09,
           7.236827505542227e-07
          ],
          [
           2.996075435187141e-07,
           7.489320540097656e-09,
           1.3203341332945268e-10,
           4.522324399603114e-08,
           0.0010419225769211617,
           0.9630368966256708,
           0.0015717074586124868,
           2.9520170868557655e-07,
           1.0445816268511035e-09,
           3.97075015603346e-09
          ],
          [
           5.39309560560025e-07,
           3.515283666277702e-06,
           2.282973939798041e-09,
           4.455469276750862e-10,
           2.685452571712028e-07,
           0.0014485582573754545,
           0.8546376062955293,
           0.001845810615973775,
           3.7375662437219265e-07,
           2.6515472450223066e-09
          ],
          [
           3.598701570531556e-07,
           2.1154113607090113e-05,
           3.909561059794575e-07,
           5.057795550903916e-09,
           9.537587711117574e-09,
           1.0440599133770288e-06,
           0.001507510052809895,
           0.6498468474566542,
           0.0020147129206242796,
           1.0088083583621223e-06
          ],
          [
           2.2999471187809165e-08,
           2.2369988222205416e-06,
           9.244564506125135e-06,
           3.5636132138706898e-06,
           2.532012946742805e-07,
           1.2924908335882198e-07,
           1.5513679040544895e-06,
           0.001988445967384215,
           0.3040145773752148,
           0.004571366301160845
          ]
         ]
        }
       ],
       "layout": {
        "font": {
         "color": "#FFF"
        },
        "height": 400,
        "paper_bgcolor": "#000",
        "plot_bgcolor": "#000",
        "title": "9 Blobs:Confidence after 819200 Iters",
        "titlefont": {
         "color": "#FFF"
        },
        "width": 400,
        "xaxis": {
         "dtick": 1,
         "range": [
          -0.5,
          9.5
         ],
         "tickcolor": "#FFF",
         "title": "Glimpses"
        },
        "yaxis": {
         "dtick": 1,
         "range": [
          -0.5,
          9.5
         ],
         "tickcolor": "#FFF",
         "title": "Count Word"
        }
       }
      },
      "text/html": [
       "<div id=\"5e2f51b9-a21a-47ef-8d2b-3ae5523f93fc\" style=\"height: 400px; width: 400px;\" class=\"plotly-graph-div\"></div><script type=\"text/javascript\">require([\"plotly\"], function(Plotly) { window.PLOTLYENV=window.PLOTLYENV || {};window.PLOTLYENV.BASE_URL=\"https://plot.ly\";Plotly.newPlot(\"5e2f51b9-a21a-47ef-8d2b-3ae5523f93fc\", [{\"type\": \"heatmap\", \"colorscale\": \"Jet\", \"z\": [[1.835493198967176e-07, 5.679295577821693e-05, 0.00032734120245195405, 0.002400970009606653, 0.010711237687681474, 0.034340564113043814, 0.14227152352162425, 0.34630607345053993, 0.6937581837462145, 0.9951343112509894], [0.9999935892178142, 2.569872448342566e-05, 4.1862957579194137e-10, 2.5244621779239785e-10, 5.859790414461e-07, 8.053630637823171e-05, 4.785364532924341e-06, 3.109859733925962e-07, 2.7565027430565426e-10, 1.3709682288114337e-11], [4.287587840961425e-06, 0.9997977582972839, 0.0001242530863901829, 7.911838227149455e-09, 1.4563016176147823e-10, 1.8242657454865957e-08, 4.445723561324258e-06, 1.0290737421859991e-05, 4.1492479549746784e-07, 1.2009445765509477e-09], [8.425396728372604e-10, 9.206236373910191e-05, 0.9992572595070566, 0.0006054899774924767, 2.2717697502313084e-07, 4.5217208615848365e-10, 9.172330594100713e-10, 1.1967156519191028e-06, 0.0002056742826677397, 2.7600664097104846e-05], [6.857732745738859e-10, 6.107359458622542e-08, 0.0002807422363085001, 0.9966447259305272, 0.001550538596844739, 6.167236382730079e-07, 7.132160309501635e-10, 7.78888485803368e-09, 5.332461203382538e-06, 0.0002642641031074071], [1.2263166049553123e-08, 4.956323554541197e-10, 3.376918400737624e-08, 0.0003444947955774209, 0.9866942527471865, 0.0010909642590715726, 1.6523561691048267e-07, 1.635096758177309e-09, 6.5012261163527295e-09, 7.236827505542227e-07], [2.996075435187141e-07, 7.489320540097656e-09, 1.3203341332945268e-10, 4.522324399603114e-08, 0.0010419225769211617, 0.9630368966256708, 0.0015717074586124868, 2.9520170868557655e-07, 1.0445816268511035e-09, 3.97075015603346e-09], [5.39309560560025e-07, 3.515283666277702e-06, 2.282973939798041e-09, 4.455469276750862e-10, 2.685452571712028e-07, 0.0014485582573754545, 0.8546376062955293, 0.001845810615973775, 3.7375662437219265e-07, 2.6515472450223066e-09], [3.598701570531556e-07, 2.1154113607090113e-05, 3.909561059794575e-07, 5.057795550903916e-09, 9.537587711117574e-09, 1.0440599133770288e-06, 0.001507510052809895, 0.6498468474566542, 0.0020147129206242796, 1.0088083583621223e-06], [2.2999471187809165e-08, 2.2369988222205416e-06, 9.244564506125135e-06, 3.5636132138706898e-06, 2.532012946742805e-07, 1.2924908335882198e-07, 1.5513679040544895e-06, 0.001988445967384215, 0.3040145773752148, 0.004571366301160845]]}], {\"plot_bgcolor\": \"#000\", \"title\": \"9 Blobs:Confidence after 819200 Iters\", \"height\": 400, \"font\": {\"color\": \"#FFF\"}, \"yaxis\": {\"tickcolor\": \"#FFF\", \"range\": [-0.5, 9.5], \"dtick\": 1, \"title\": \"Count Word\"}, \"paper_bgcolor\": \"#000\", \"titlefont\": {\"color\": \"#FFF\"}, \"xaxis\": {\"tickcolor\": \"#FFF\", \"range\": [-0.5, 9.5], \"dtick\": 1, \"title\": \"Glimpses\"}, \"width\": 400}, {\"linkText\": \"Export to plot.ly\", \"showLink\": true})});</script>"
      ],
      "text/vnd.plotly.v1+html": [
       "<div id=\"5e2f51b9-a21a-47ef-8d2b-3ae5523f93fc\" style=\"height: 400px; width: 400px;\" class=\"plotly-graph-div\"></div><script type=\"text/javascript\">require([\"plotly\"], function(Plotly) { window.PLOTLYENV=window.PLOTLYENV || {};window.PLOTLYENV.BASE_URL=\"https://plot.ly\";Plotly.newPlot(\"5e2f51b9-a21a-47ef-8d2b-3ae5523f93fc\", [{\"type\": \"heatmap\", \"colorscale\": \"Jet\", \"z\": [[1.835493198967176e-07, 5.679295577821693e-05, 0.00032734120245195405, 0.002400970009606653, 0.010711237687681474, 0.034340564113043814, 0.14227152352162425, 0.34630607345053993, 0.6937581837462145, 0.9951343112509894], [0.9999935892178142, 2.569872448342566e-05, 4.1862957579194137e-10, 2.5244621779239785e-10, 5.859790414461e-07, 8.053630637823171e-05, 4.785364532924341e-06, 3.109859733925962e-07, 2.7565027430565426e-10, 1.3709682288114337e-11], [4.287587840961425e-06, 0.9997977582972839, 0.0001242530863901829, 7.911838227149455e-09, 1.4563016176147823e-10, 1.8242657454865957e-08, 4.445723561324258e-06, 1.0290737421859991e-05, 4.1492479549746784e-07, 1.2009445765509477e-09], [8.425396728372604e-10, 9.206236373910191e-05, 0.9992572595070566, 0.0006054899774924767, 2.2717697502313084e-07, 4.5217208615848365e-10, 9.172330594100713e-10, 1.1967156519191028e-06, 0.0002056742826677397, 2.7600664097104846e-05], [6.857732745738859e-10, 6.107359458622542e-08, 0.0002807422363085001, 0.9966447259305272, 0.001550538596844739, 6.167236382730079e-07, 7.132160309501635e-10, 7.78888485803368e-09, 5.332461203382538e-06, 0.0002642641031074071], [1.2263166049553123e-08, 4.956323554541197e-10, 3.376918400737624e-08, 0.0003444947955774209, 0.9866942527471865, 0.0010909642590715726, 1.6523561691048267e-07, 1.635096758177309e-09, 6.5012261163527295e-09, 7.236827505542227e-07], [2.996075435187141e-07, 7.489320540097656e-09, 1.3203341332945268e-10, 4.522324399603114e-08, 0.0010419225769211617, 0.9630368966256708, 0.0015717074586124868, 2.9520170868557655e-07, 1.0445816268511035e-09, 3.97075015603346e-09], [5.39309560560025e-07, 3.515283666277702e-06, 2.282973939798041e-09, 4.455469276750862e-10, 2.685452571712028e-07, 0.0014485582573754545, 0.8546376062955293, 0.001845810615973775, 3.7375662437219265e-07, 2.6515472450223066e-09], [3.598701570531556e-07, 2.1154113607090113e-05, 3.909561059794575e-07, 5.057795550903916e-09, 9.537587711117574e-09, 1.0440599133770288e-06, 0.001507510052809895, 0.6498468474566542, 0.0020147129206242796, 1.0088083583621223e-06], [2.2999471187809165e-08, 2.2369988222205416e-06, 9.244564506125135e-06, 3.5636132138706898e-06, 2.532012946742805e-07, 1.2924908335882198e-07, 1.5513679040544895e-06, 0.001988445967384215, 0.3040145773752148, 0.004571366301160845]]}], {\"plot_bgcolor\": \"#000\", \"title\": \"9 Blobs:Confidence after 819200 Iters\", \"height\": 400, \"font\": {\"color\": \"#FFF\"}, \"yaxis\": {\"tickcolor\": \"#FFF\", \"range\": [-0.5, 9.5], \"dtick\": 1, \"title\": \"Count Word\"}, \"paper_bgcolor\": \"#000\", \"titlefont\": {\"color\": \"#FFF\"}, \"xaxis\": {\"tickcolor\": \"#FFF\", \"range\": [-0.5, 9.5], \"dtick\": 1, \"title\": \"Glimpses\"}, \"width\": 400}, {\"linkText\": \"Export to plot.ly\", \"showLink\": true})});</script>"
      ]
     },
     "metadata": {},
     "output_type": "display_data"
    },
    {
     "ename": "IndexError",
     "evalue": "index 9 is out of bounds for axis 1 with size 9",
     "output_type": "error",
     "traceback": [
      "\u001b[0;31m---------------------------------------------------------------------------\u001b[0m",
      "\u001b[0;31mIndexError\u001b[0m                                Traceback (most recent call last)",
      "\u001b[0;32m<ipython-input-14-58ef6e8fe2d2>\u001b[0m in \u001b[0;36m<module>\u001b[0;34m()\u001b[0m\n\u001b[1;32m      1\u001b[0m \u001b[0;32mfor\u001b[0m \u001b[0mn\u001b[0m\u001b[0;34m,\u001b[0m \u001b[0mnum\u001b[0m \u001b[0;32min\u001b[0m \u001b[0menumerate\u001b[0m\u001b[0;34m(\u001b[0m\u001b[0mblob_list\u001b[0m\u001b[0;34m)\u001b[0m\u001b[0;34m:\u001b[0m\u001b[0;34m\u001b[0m\u001b[0m\n\u001b[1;32m      2\u001b[0m     \u001b[0;31m#for i, it in enumerate(iter_list):\u001b[0m\u001b[0;34m\u001b[0m\u001b[0;34m\u001b[0m\u001b[0m\n\u001b[0;32m----> 3\u001b[0;31m     \u001b[0mplot_confidence\u001b[0m\u001b[0;34m(\u001b[0m\u001b[0;36m15\u001b[0m\u001b[0;34m,\u001b[0m \u001b[0;36m819200\u001b[0m\u001b[0;34m,\u001b[0m \u001b[0mnum\u001b[0m\u001b[0;34m)\u001b[0m\u001b[0;34m\u001b[0m\u001b[0m\n\u001b[0m\u001b[1;32m      4\u001b[0m     \u001b[0;31m#plot_choice(i, it, num)\u001b[0m\u001b[0;34m\u001b[0m\u001b[0;34m\u001b[0m\u001b[0m\n",
      "\u001b[0;32m<ipython-input-7-c12e72c06e50>\u001b[0m in \u001b[0;36mplot_confidence\u001b[0;34m(iter_idx, it, num_blobs, run)\u001b[0m\n\u001b[1;32m      5\u001b[0m         \u001b[0mmatrix\u001b[0m \u001b[0;34m=\u001b[0m \u001b[0mnp\u001b[0m\u001b[0;34m.\u001b[0m\u001b[0mzeros\u001b[0m\u001b[0;34m(\u001b[0m\u001b[0;34m[\u001b[0m\u001b[0;36m10\u001b[0m\u001b[0;34m,\u001b[0m\u001b[0;36m10\u001b[0m\u001b[0;34m]\u001b[0m\u001b[0;34m)\u001b[0m\u001b[0;34m\u001b[0m\u001b[0m\n\u001b[1;32m      6\u001b[0m         \u001b[0;32mfor\u001b[0m \u001b[0mg\u001b[0m \u001b[0;32min\u001b[0m \u001b[0mrange\u001b[0m \u001b[0;34m(\u001b[0m\u001b[0;36m10\u001b[0m\u001b[0;34m)\u001b[0m\u001b[0;34m:\u001b[0m\u001b[0;34m\u001b[0m\u001b[0m\n\u001b[0;32m----> 7\u001b[0;31m             \u001b[0mmatrix\u001b[0m\u001b[0;34m[\u001b[0m\u001b[0;34m:\u001b[0m\u001b[0;34m,\u001b[0m\u001b[0mg\u001b[0m\u001b[0;34m]\u001b[0m \u001b[0;34m=\u001b[0m \u001b[0mconfidence_avg\u001b[0m\u001b[0;34m[\u001b[0m\u001b[0miter_idx\u001b[0m\u001b[0;34m,\u001b[0m \u001b[0mnum_blobs\u001b[0m\u001b[0;34m,\u001b[0m \u001b[0mg\u001b[0m\u001b[0;34m,\u001b[0m \u001b[0;36m0\u001b[0m\u001b[0;34m]\u001b[0m\u001b[0;34m\u001b[0m\u001b[0m\n\u001b[0m\u001b[1;32m      8\u001b[0m         \u001b[0mplot_title\u001b[0m \u001b[0;34m=\u001b[0m \u001b[0;34m\"%d Blobs:Confidence after %d Iters\"\u001b[0m \u001b[0;34m%\u001b[0m \u001b[0;34m(\u001b[0m\u001b[0mnum_blobs\u001b[0m\u001b[0;34m+\u001b[0m\u001b[0;36m1\u001b[0m\u001b[0;34m,\u001b[0m \u001b[0mit\u001b[0m\u001b[0;34m)\u001b[0m\u001b[0;34m\u001b[0m\u001b[0m\n\u001b[1;32m      9\u001b[0m \u001b[0;34m\u001b[0m\u001b[0m\n",
      "\u001b[0;31mIndexError\u001b[0m: index 9 is out of bounds for axis 1 with size 9"
     ]
    }
   ],
   "source": [
    "for n, num in enumerate(blob_list): \n",
    "    #for i, it in enumerate(iter_list):\n",
    "    plot_confidence(15, 819200, num)\n",
    "    #plot_choice(i, it, num)"
   ]
  },
  {
   "cell_type": "code",
   "execution_count": 16,
   "metadata": {},
   "outputs": [
    {
     "data": {
      "image/png": "[encoded data removed]",
      "text/plain": [
       "<matplotlib.figure.Figure at 0x7fce6738f470>"
      ]
     },
     "metadata": {},
     "output_type": "display_data"
    }
   ],
   "source": [
    "import matplotlib.pyplot as plt\n",
    "from mpl_toolkits.axes_grid1 import ImageGrid\n",
    "import numpy as np\n",
    "\n",
    "F = plt.figure(1, (28,28))\n",
    "F.clf()\n",
    "\n",
    "ZS = np.zeros([num_iters*(output_size-1),10,10])\n",
    "extent = (0, 10, 0, 10) \n",
    "    \n",
    "matrix = np.zeros([10, 10])\n",
    "for num_blobs in range (output_size-1):\n",
    "    for iter_idx in range (num_iters):\n",
    "        for g in range (10):\n",
    "            matrix[:,g] = confidence_avg[iter_idx, num_blobs, g, 0]\n",
    "            ZS[iter_idx+num_iters*num_blobs] = matrix\n",
    "\n",
    "extent = extent[0], extent[1], extent[2], extent[3] \n",
    "\n",
    "grid = ImageGrid(F, 212,\n",
    "                 nrows_ncols=(output_size-1, num_iters),\n",
    "                 direction=\"row\",\n",
    "                 axes_pad=0.05,\n",
    "                 add_all=True,\n",
    "                 label_mode=\"1\",\n",
    "                 share_all=True,\n",
    "                 cbar_location=\"right\",\n",
    "                 cbar_mode=\"single\",\n",
    "                 cbar_size=\"5%\",\n",
    "                 cbar_pad=0.05,\n",
    "                 )\n",
    "\n",
    "grid[0].set_xlabel(\"Glimpse\")\n",
    "grid[0].set_ylabel(\"Count Word\")\n",
    "\n",
    "vmax, vmin = np.max(ZS), np.min(ZS)\n",
    "import matplotlib.colors\n",
    "norm = matplotlib.colors.Normalize(vmax=vmax, vmin=vmin)\n",
    "\n",
    "for ax, im_title in zip(grid, [\"iter=0\", \"400\", \"800\", \"1600\", \"3200\", \"6400\", \"12800\", \"25600\", \"51200\", \"102400\", \"153600\", \"204800\", \"307200\", \"409600\", \"614400\", \"819200\"]):\n",
    "    ax.set_title(im_title)\n",
    "    ax.patch.set_alpha(0.5)\n",
    "        \n",
    "for ax, z in zip(grid, ZS):\n",
    "    im = ax.imshow(z, norm=norm,\n",
    "                   origin=\"lower\", extent=extent,\n",
    "                   interpolation=\"nearest\")\n",
    "\n",
    "# With cbar_mode=\"single\", cax attribute of all axes are identical.\n",
    "ax.cax.colorbar(im)\n",
    "ax.cax.toggle_label(True)\n",
    "\n",
    "grid[0].set_xticks([1,2,3,4,5,6,7,8,9,10])\n",
    "grid[0].set_yticks([0,1,2,3,4,5,6,7,8,9])\n",
    "plt.draw()\n",
    "plt.show()\n",
    "\n"
   ]
  },
  {
   "cell_type": "code",
   "execution_count": null,
   "metadata": {
    "collapsed": true
   },
   "outputs": [],
   "source": []
  }
 ],
 "metadata": {
  "kernelspec": {
   "display_name": "Python 3",
   "language": "python",
   "name": "python3"
  },
  "language_info": {
   "codemirror_mode": {
    "name": "ipython",
    "version": 3
   },
   "file_extension": ".py",
   "mimetype": "text/x-python",
   "name": "python",
   "nbconvert_exporter": "python",
   "pygments_lexer": "ipython3",
   "version": "3.5.2"
  }
 },
 "nbformat": 4,
 "nbformat_minor": 2
}
