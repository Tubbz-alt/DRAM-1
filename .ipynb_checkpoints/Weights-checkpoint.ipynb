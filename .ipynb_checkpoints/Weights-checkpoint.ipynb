{
 "cells": [
  {
   "cell_type": "code",
   "execution_count": 1,
   "metadata": {},
   "outputs": [
    {
     "ename": "ImportError",
     "evalue": "cannot import name 'checkpoint_utils'",
     "output_type": "error",
     "traceback": [
      "\u001b[0;31m---------------------------------------------------------------------------\u001b[0m",
      "\u001b[0;31mImportError\u001b[0m                               Traceback (most recent call last)",
      "\u001b[0;32m<ipython-input-1-9187443ce469>\u001b[0m in \u001b[0;36m<module>\u001b[0;34m()\u001b[0m\n\u001b[0;32m----> 1\u001b[0;31m \u001b[0;32mfrom\u001b[0m \u001b[0mtensorflow\u001b[0m\u001b[0;34m.\u001b[0m\u001b[0mcontrib\u001b[0m\u001b[0;34m.\u001b[0m\u001b[0mframework\u001b[0m \u001b[0;32mimport\u001b[0m \u001b[0mcheckpoint_utils\u001b[0m\u001b[0;34m\u001b[0m\u001b[0m\n\u001b[0m\u001b[1;32m      2\u001b[0m \u001b[0;32mfrom\u001b[0m \u001b[0mscipy\u001b[0m\u001b[0;34m.\u001b[0m\u001b[0mspatial\u001b[0m\u001b[0;34m.\u001b[0m\u001b[0mdistance\u001b[0m \u001b[0;32mimport\u001b[0m \u001b[0mcosine\u001b[0m\u001b[0;34m,\u001b[0m \u001b[0meuclidean\u001b[0m\u001b[0;34m\u001b[0m\u001b[0m\n\u001b[1;32m      3\u001b[0m \u001b[0;32mimport\u001b[0m \u001b[0mnumpy\u001b[0m \u001b[0;32mas\u001b[0m \u001b[0mnp\u001b[0m\u001b[0;34m\u001b[0m\u001b[0m\n\u001b[1;32m      4\u001b[0m \u001b[0;34m\u001b[0m\u001b[0m\n\u001b[1;32m      5\u001b[0m \u001b[0;32mfrom\u001b[0m \u001b[0mplotly\u001b[0m\u001b[0;34m.\u001b[0m\u001b[0moffline\u001b[0m \u001b[0;32mimport\u001b[0m \u001b[0mdownload_plotlyjs\u001b[0m\u001b[0;34m,\u001b[0m \u001b[0minit_notebook_mode\u001b[0m\u001b[0;34m,\u001b[0m \u001b[0mplot\u001b[0m\u001b[0;34m,\u001b[0m \u001b[0miplot\u001b[0m\u001b[0;34m\u001b[0m\u001b[0m\n",
      "\u001b[0;31mImportError\u001b[0m: cannot import name 'checkpoint_utils'"
     ]
    }
   ],
   "source": [
    "from tensorflow.contrib.framework import checkpoint_utils\n",
    "from scipy.spatial.distance import cosine, euclidean\n",
    "import numpy as np\n",
    "\n",
    "from plotly.offline import download_plotlyjs, init_notebook_mode, plot, iplot\n",
    "init_notebook_mode(connected=True)\n",
    "import plotly.graph_objs as go\n",
    "from collections import defaultdict"
   ]
  },
  {
   "cell_type": "code",
   "execution_count": null,
   "metadata": {},
   "outputs": [],
   "source": [
    "x_range = np.arange(0, 310000, 1000)"
   ]
  },
  {
   "cell_type": "code",
   "execution_count": null,
   "metadata": {},
   "outputs": [],
   "source": [
    "def get_diffs(run):\n",
    "    diffs = list()\n",
    "    last = None\n",
    "    for i in x_range:\n",
    "        reader = checkpoint_utils.load_checkpoint(\"%s/save_%d.ckpt\" % (run, i))\n",
    "        names = reader.get_variable_to_shape_map()\n",
    "        def of_interest(name):\n",
    "            if \"Adam\" in name:\n",
    "                return False\n",
    "\n",
    "            if \"write\" in name:\n",
    "                return False\n",
    "\n",
    "            if \"beta\" in name:\n",
    "                return False\n",
    "\n",
    "            return True\n",
    "\n",
    "        to_read = sorted(filter(of_interest, names.keys()))\n",
    "\n",
    "        t = dict()\n",
    "        for name in to_read:\n",
    "            t[name] = reader.get_tensor(name)\n",
    "\n",
    "        if last is not None:\n",
    "            d = dict()\n",
    "            for k, v in t.items():\n",
    "                d[k] = euclidean(v.reshape(-1), last[k].reshape(-1)) / float(v.size)\n",
    "            diffs.append(d)\n",
    "\n",
    "        last = t\n",
    "    return diffs"
   ]
  },
  {
   "cell_type": "code",
   "execution_count": null,
   "metadata": {},
   "outputs": [],
   "source": [
    "human_key = defaultdict(list)\n",
    "machine_key = defaultdict(list)\n",
    "\n",
    "for d in get_diffs(\"combined-run\"):\n",
    "    for k, v in d.items():\n",
    "        machine_key[k].append(v)\n",
    "        \n",
    "for d in get_diffs(\"attention-run\"):\n",
    "    for k, v in d.items():\n",
    "        human_key[k].append(v)"
   ]
  },
  {
   "cell_type": "code",
   "execution_count": null,
   "metadata": {},
   "outputs": [],
   "source": [
    "traces = list()\n",
    "for k, vs in human_key.items():\n",
    "    trace = go.Scatter(\n",
    "        x = x_range,\n",
    "        y = vs,\n",
    "        mode = 'lines',\n",
    "        name = k\n",
    "    )\n",
    "    traces.append(trace)\n",
    "iplot(traces)"
   ]
  },
  {
   "cell_type": "code",
   "execution_count": null,
   "metadata": {},
   "outputs": [],
   "source": [
    "def read_log(folder):\n",
    "    log = open(\"%s/log.csv\" % folder).read().split(\"\\n\")[:301]\n",
    "    accs = list()\n",
    "    for l in log:\n",
    "        accs.append(float(l.split(\",\")[-1]))\n",
    "    return accs\n",
    "\n",
    "machine_accs = read_log(\"combined-run\")\n",
    "human_accs = read_log(\"attention-run\")\n",
    "\n",
    "trace1 = go.Scatter(\n",
    "    x = x_range / 1000,\n",
    "    y = human_key[\"decoder/LSTMCell/W_0\"],\n",
    "    mode = 'lines',\n",
    "    name = \"All-Step Weight Delta\",\n",
    "     marker=dict(color=\"orange\")\n",
    ")\n",
    "    \n",
    "trace2 = go.Scatter(\n",
    "    x = x_range / 1000,\n",
    "    y = machine_key[\"decoder/LSTMCell/W_0\"],\n",
    "    mode = 'lines',\n",
    "    name = \"Last-Step Weight Delta\",\n",
    "     marker=dict(color=\"pink\"),\n",
    ")\n",
    "\n",
    "machine_trace = go.Scatter(\n",
    "    x = x_range / 1000,\n",
    "    y = machine_accs,\n",
    "    name=\"Last-Step Accuracy\",\n",
    "    marker=dict(color=\"green\"),\n",
    "    yaxis=\"y2\"\n",
    ")\n",
    "\n",
    "data = [trace2, trace1, machine_trace]\n",
    "layout = go.Layout(\n",
    "    title='Accuracy and Weight Updates',\n",
    "    xaxis=dict(title=\"Iteration (10^3)\"),\n",
    "    yaxis=dict(\n",
    "        title='Weight Delta'\n",
    "    ),\n",
    "    yaxis2=dict(\n",
    "        title='Accuracy',\n",
    "        overlaying='y',\n",
    "        side='right'\n",
    "    )\n",
    ")\n",
    "fig = go.Figure(data=data, layout=layout)\n",
    "\n",
    "\n",
    "iplot(fig)"
   ]
  },
  {
   "cell_type": "code",
   "execution_count": null,
   "metadata": {
    "collapsed": true
   },
   "outputs": [],
   "source": []
  }
 ],
 "metadata": {
  "kernelspec": {
   "display_name": "Python 3",
   "language": "python",
   "name": "python3"
  },
  "language_info": {
   "codemirror_mode": {
    "name": "ipython",
    "version": 3
   },
   "file_extension": ".py",
   "mimetype": "text/x-python",
   "name": "python",
   "nbconvert_exporter": "python",
   "pygments_lexer": "ipython3",
   "version": "3.5.2"
  }
 },
 "nbformat": 4,
 "nbformat_minor": 2
}
