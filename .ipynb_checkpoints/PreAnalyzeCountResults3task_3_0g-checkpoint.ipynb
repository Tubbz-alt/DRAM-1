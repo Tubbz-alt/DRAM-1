{
 "cells": [
  {
   "cell_type": "code",
   "execution_count": 1,
   "metadata": {},
   "outputs": [
    {
     "data": {
      "text/html": [
       "<script>requirejs.config({paths: { 'plotly': ['https://cdn.plot.ly/plotly-latest.min']},});if(!window.Plotly) {{require(['plotly'],function(plotly) {window.Plotly=plotly;});}}</script>"
      ],
      "text/vnd.plotly.v1+html": [
       "<script>requirejs.config({paths: { 'plotly': ['https://cdn.plot.ly/plotly-latest.min']},});if(!window.Plotly) {{require(['plotly'],function(plotly) {window.Plotly=plotly;});}}</script>"
      ]
     },
     "metadata": {},
     "output_type": "display_data"
    },
    {
     "name": "stdout",
     "output_type": "stream",
     "text": [
      "['/usr/local/lib/python3.5/dist-packages/ipykernel_launcher.py', '-f', 'true', 'true', 'true', 'true', 'true', 'model_runs/-f/count_log.csv', 'model_runs/-f/prepoint_0.ckpt', 'model_runs/-f/countmodel_', 'true', 'false', 'false', 'true']\n",
      "WARNING:tensorflow:From /home/mtfang/DRAM/Ct_2l_3t_0g_3_viz.py:307: arg_max (from tensorflow.python.ops.gen_math_ops) is deprecated and will be removed in a future version.\n",
      "Instructions for updating:\n",
      "Use `argmax` instead\n",
      "WARNING:tensorflow:From /home/mtfang/DRAM/Ct_2l_3t_0g_3_viz.py:308: arg_max (from tensorflow.python.ops.gen_math_ops) is deprecated and will be removed in a future version.\n",
      "Instructions for updating:\n",
      "Use `argmax` instead\n",
      "WARNING:tensorflow:From /home/mtfang/DRAM/Ct_2l_3t_0g_3_viz.py:307: arg_max (from tensorflow.python.ops.gen_math_ops) is deprecated and will be removed in a future version.\n",
      "Instructions for updating:\n",
      "Use `argmax` instead\n",
      "WARNING:tensorflow:From /home/mtfang/DRAM/Ct_2l_3t_0g_3_viz.py:308: arg_max (from tensorflow.python.ops.gen_math_ops) is deprecated and will be removed in a future version.\n",
      "Instructions for updating:\n",
      "Use `argmax` instead\n",
      "WARNING:tensorflow:From /home/mtfang/DRAM/Ct_2l_3t_0g_3_viz.py:307: arg_max (from tensorflow.python.ops.gen_math_ops) is deprecated and will be removed in a future version.\n",
      "Instructions for updating:\n",
      "Use `argmax` instead\n",
      "WARNING:tensorflow:From /home/mtfang/DRAM/Ct_2l_3t_0g_3_viz.py:308: arg_max (from tensorflow.python.ops.gen_math_ops) is deprecated and will be removed in a future version.\n",
      "Instructions for updating:\n",
      "Use `argmax` instead\n",
      "WARNING:tensorflow:From /home/mtfang/DRAM/Ct_2l_3t_0g_3_viz.py:307: arg_max (from tensorflow.python.ops.gen_math_ops) is deprecated and will be removed in a future version.\n",
      "Instructions for updating:\n",
      "Use `argmax` instead\n",
      "WARNING:tensorflow:From /home/mtfang/DRAM/Ct_2l_3t_0g_3_viz.py:308: arg_max (from tensorflow.python.ops.gen_math_ops) is deprecated and will be removed in a future version.\n",
      "Instructions for updating:\n",
      "Use `argmax` instead\n",
      "WARNING:tensorflow:From /home/mtfang/DRAM/Ct_2l_3t_0g_3_viz.py:307: arg_max (from tensorflow.python.ops.gen_math_ops) is deprecated and will be removed in a future version.\n",
      "Instructions for updating:\n",
      "Use `argmax` instead\n",
      "WARNING:tensorflow:From /home/mtfang/DRAM/Ct_2l_3t_0g_3_viz.py:308: arg_max (from tensorflow.python.ops.gen_math_ops) is deprecated and will be removed in a future version.\n",
      "Instructions for updating:\n",
      "Use `argmax` instead\n",
      "WARNING:tensorflow:From /home/mtfang/DRAM/Ct_2l_3t_0g_3_viz.py:307: arg_max (from tensorflow.python.ops.gen_math_ops) is deprecated and will be removed in a future version.\n",
      "Instructions for updating:\n",
      "Use `argmax` instead\n",
      "WARNING:tensorflow:From /home/mtfang/DRAM/Ct_2l_3t_0g_3_viz.py:308: arg_max (from tensorflow.python.ops.gen_math_ops) is deprecated and will be removed in a future version.\n",
      "Instructions for updating:\n",
      "Use `argmax` instead\n",
      "WARNING:tensorflow:From /home/mtfang/DRAM/Ct_2l_3t_0g_3_viz.py:307: arg_max (from tensorflow.python.ops.gen_math_ops) is deprecated and will be removed in a future version.\n",
      "Instructions for updating:\n",
      "Use `argmax` instead\n",
      "WARNING:tensorflow:From /home/mtfang/DRAM/Ct_2l_3t_0g_3_viz.py:308: arg_max (from tensorflow.python.ops.gen_math_ops) is deprecated and will be removed in a future version.\n",
      "Instructions for updating:\n",
      "Use `argmax` instead\n",
      "WARNING:tensorflow:From /home/mtfang/DRAM/Ct_2l_3t_0g_3_viz.py:307: arg_max (from tensorflow.python.ops.gen_math_ops) is deprecated and will be removed in a future version.\n",
      "Instructions for updating:\n",
      "Use `argmax` instead\n",
      "WARNING:tensorflow:From /home/mtfang/DRAM/Ct_2l_3t_0g_3_viz.py:308: arg_max (from tensorflow.python.ops.gen_math_ops) is deprecated and will be removed in a future version.\n",
      "Instructions for updating:\n",
      "Use `argmax` instead\n",
      "WARNING:tensorflow:From /home/mtfang/DRAM/Ct_2l_3t_0g_3_viz.py:307: arg_max (from tensorflow.python.ops.gen_math_ops) is deprecated and will be removed in a future version.\n",
      "Instructions for updating:\n",
      "Use `argmax` instead\n",
      "WARNING:tensorflow:From /home/mtfang/DRAM/Ct_2l_3t_0g_3_viz.py:308: arg_max (from tensorflow.python.ops.gen_math_ops) is deprecated and will be removed in a future version.\n",
      "Instructions for updating:\n",
      "Use `argmax` instead\n",
      "WARNING:tensorflow:From /home/mtfang/DRAM/Ct_2l_3t_0g_3_viz.py:307: arg_max (from tensorflow.python.ops.gen_math_ops) is deprecated and will be removed in a future version.\n",
      "Instructions for updating:\n",
      "Use `argmax` instead\n",
      "WARNING:tensorflow:From /home/mtfang/DRAM/Ct_2l_3t_0g_3_viz.py:308: arg_max (from tensorflow.python.ops.gen_math_ops) is deprecated and will be removed in a future version.\n",
      "Instructions for updating:\n",
      "Use `argmax` instead\n",
      "analysis_count.py\n"
     ]
    }
   ],
   "source": [
    "import numpy as np\n",
    "from plotly.offline import download_plotlyjs, init_notebook_mode, plot, iplot\n",
    "init_notebook_mode(connected=True)\n",
    "import plotly.graph_objs as go\n",
    "from analysis_count_3task_3_0g import read_n, classify_imgs2\n",
    "import matplotlib.pyplot as plt\n",
    "import operator\n",
    "%matplotlib inline"
   ]
  },
  {
   "cell_type": "code",
   "execution_count": 2,
   "metadata": {
    "collapsed": true
   },
   "outputs": [],
   "source": [
    "model_name = \"3task_pre_0130\"\n",
    "directory_name = \"POINT_3task_pre_0130_TOUCHPHASE\"\n",
    "num_runs = 3\n",
    "test_trials = 500\n",
    "iter_list = np.arange(0, 43000, 500)\n",
    "#iter_list = [0, 100, 200, 300, 400, 600, 800, 1200, 1600, 2400, 3200, 4800, 6400, 9600, 12800, 19200, 25600]#, 38400, 51200]#, 76800, 102400, 153600, 204800, 307200, 409600, 614400, 819200, 1000000]\n",
    "            #[0, 400, 800, 1600, 3200, 6400, 12800, 25600, 51200]#, 76800, 102400]#, 153600, 204800, 307200, 409600, 614400, 819200, 1000000, 2000000, 3000000, 4000000]\n",
    "             #[0, 1000, 4000, 16000, 32000, 64000, 125000, 250000, 500000, 600000]\n",
    "#iter_list = np.arange(0,11100000,100000)\n",
    "glimpse_list = np.arange(0,10,1)\n",
    "max_blobs = 9\n",
    "min_blobs = 1\n",
    "\n",
    "num_iters = len(iter_list)\n",
    "num_glimpses = len(glimpse_list)\n",
    "blob_list = np.arange(0,10,1)\n",
    "output_size = max_blobs - min_blobs + 2 # 10\n",
    "data_directory = \"data/\" + directory_name + \"/\"\n",
    "m = 0.5\n",
    "num_imgs = test_trials*(output_size-1)\n",
    "confidence_all_runs = np.zeros([num_runs, num_iters, output_size-1, num_glimpses, 1, output_size]) \n",
    "choice_all_runs = np.zeros([num_runs, num_iters, output_size-1, num_glimpses, 1, output_size])\n",
    "countword_all_runs = np.zeros([num_runs, num_iters, num_imgs, output_size+1])\n",
    "pointblob_all_runs = np.zeros([num_runs, num_iters, num_imgs, output_size+1])\n",
    "point_target_all_runs = np.zeros([num_runs, num_iters, num_imgs, num_glimpses])\n",
    "blob_point_all_runs = np.zeros([num_runs, num_iters, num_imgs, output_size+1])\n",
    "class_all_runs = np.zeros([num_runs, num_iters, num_imgs])\n",
    "point_results_all_runs = np.zeros([num_runs, num_iters, num_imgs, num_glimpses])"
   ]
  },
  {
   "cell_type": "code",
   "execution_count": null,
   "metadata": {
    "collapsed": true
   },
   "outputs": [],
   "source": [
    "def fill_matrix(path, iteration):\n",
    "    \"\"\"Fill the confidence and choice matrices for one run at one iteration.\"\"\"\n",
    "    \n",
    "    data = None\n",
    "    num_imgs = test_trials*(output_size-1) # batch_size\n",
    "    imgs_data = classify_imgs2(iteration, True, num_imgs, path=path) # new_imgs = True\n",
    "        \n",
    "    confidence_one_run = np.zeros([output_size-1, num_glimpses, 1, output_size])\n",
    "    choice_one_run = np.zeros([output_size-1, num_glimpses, 1, output_size])\n",
    "    countword_one_run = np.zeros([num_imgs, output_size+1])\n",
    "    pointblob_one_run = np.zeros([num_imgs, output_size+1])\n",
    "    point_target_one_run = np.zeros([num_imgs, num_glimpses])\n",
    "    blob_point_one_run = np.zeros([num_imgs, output_size+1])\n",
    "    class_one_run = np.zeros(num_imgs)\n",
    "    point_results_one_run = np.zeros([num_imgs, num_glimpses]) # 1 to 9\n",
    "    \n",
    "    for nb in range(output_size-1):\n",
    "        confidence_hist = np.zeros([num_glimpses, 1, output_size])\n",
    "        choice_hist = np.zeros([num_glimpses, 1, output_size])\n",
    "        num_imgs_with_num_blobs = 0.00001\n",
    "        \n",
    "        for idx, data in enumerate(imgs_data):\n",
    "            if data[\"label\"][nb] == 1: # data is for an image with nb+1 blobs\n",
    "                num_imgs_with_num_blobs += 1\n",
    "                countword_one_run[idx][0]=nb+1\n",
    "                pointblob_one_run[idx][0]=nb+1\n",
    "                \n",
    "                for g, glimpse in enumerate(glimpse_list):\n",
    "                    # Histogram of softmaxes\n",
    "                    confidence_hist[glimpse] += data[\"classifications\"][glimpse]\n",
    "                    # Histogram of choices\n",
    "                    choice = np.argmax(data[\"classifications\"][glimpse])\n",
    "                    choice_list = [0] * (output_size)\n",
    "                    choice_list[choice] = 1\n",
    "                    choice_hist[glimpse] += choice_list\n",
    "                    # Count Word\n",
    "                    countword_one_run[idx][glimpse+1]=choice\n",
    "                    # Point Blob\n",
    "                    pointblob_one_run[idx][glimpse+1]=int(data[\"corrects\"][glimpse])\n",
    "                \n",
    "                pointblob_one_run[idx][nb+2]=nb+1\n",
    "                point_target_one_run[idx] = data[\"corrects\"]\n",
    "                point_target_one_run[idx][nb+1] = nb+1\n",
    "                class_one_run[idx] = data[\"class\"]+1\n",
    "                \n",
    "        confidence_hist = confidence_hist / num_imgs_with_num_blobs\n",
    "        confidence_one_run[nb] = confidence_hist.tolist()\n",
    "        choice_hist = choice_hist / num_imgs_with_num_blobs\n",
    "        choice_one_run[nb] = choice_hist.tolist()\n",
    "        \n",
    "    for idx, data in enumerate(imgs_data):\n",
    "        for g in range(1,num_glimpses+1):\n",
    "            blob_point_one_run[idx][g] = int(data[\"blob_point\"][g-1])\n",
    "        blob_point_one_run[idx][0] = data[\"class\"]+1\n",
    "        #gg=0\n",
    "        #while (gg<int(data[\"class\"]+2)):\n",
    "        #for gg in range(int(data[\"class\"]+2)):\n",
    "            #if point_target_one_run[idx][gg] == blob_point_one_run[idx][gg]:\n",
    "                #gg+=1\n",
    "         \n",
    "        #if gg==data[\"class\"]+1:\n",
    "               #point_results_one_run[int(data[\"class\"])-1]+=1            \n",
    "    \n",
    "    return confidence_one_run, choice_one_run, countword_one_run, point_target_one_run, blob_point_one_run, pointblob_one_run, point_results_one_run, class_one_run"
   ]
  },
  {
   "cell_type": "code",
   "execution_count": null,
   "metadata": {},
   "outputs": [
    {
     "name": "stdout",
     "output_type": "stream",
     "text": [
      "INFO:tensorflow:Restoring parameters from model_runs/3task_pre_0130_run_1/prepoint_0.ckpt\n",
      "INFO:tensorflow:Restoring parameters from model_runs/3task_pre_0130_run_1/prepoint_500.ckpt\n",
      "INFO:tensorflow:Restoring parameters from model_runs/3task_pre_0130_run_1/prepoint_1000.ckpt\n"
     ]
    }
   ],
   "source": [
    "for run in range(num_runs):\n",
    "    path = 'model_runs/' + model_name + '_run_' + str(run + 1) \n",
    "#     path = 'model_runs/DRAM_test_square'\n",
    "    for i, iteration in enumerate(iter_list):\n",
    "        confidence_all_runs[run, i], choice_all_runs[run, i], countword_all_runs[run, i], point_target_all_runs[run, i], blob_point_all_runs[run, i], pointblob_all_runs[run, i],point_results_all_runs[run, i], class_all_runs[run, i] = fill_matrix(path, iteration)"
   ]
  },
  {
   "cell_type": "code",
   "execution_count": null,
   "metadata": {
    "collapsed": true,
    "scrolled": false
   },
   "outputs": [],
   "source": [
    "# Point\n",
    "sort_pws = np.zeros([num_runs, num_iters, num_imgs, output_size+1])\n",
    "\n",
    "for i in range(num_runs):\n",
    "    for j in range(num_iters):\n",
    "        sort_pws[i][j]=sorted(blob_point_all_runs[i, j, :], key = operator.itemgetter(-1,1,2,3,4,5,6,7,8,9,10), reverse = False) # sorted count words\n",
    "\n",
    "pstop_idx=np.ones([num_runs, num_iters, num_imgs])*(-1)\n",
    "\n",
    "for i in range(num_runs):\n",
    "    for j in range(num_iters):\n",
    "        for k in range (num_imgs):\n",
    "            for p in range (2, output_size+1):\n",
    "                if sort_pws[i][j][k][p]!=-1 and sort_pws[i][j][k][p]==sort_pws[i][j][k][p-1]: # record end position\n",
    "                    pstop_idx[i][j][k]=p\n",
    "                    break # stop at the first repeated word\n",
    "\n",
    "point_results=np.zeros([num_runs, num_iters, 9, 10])  \n",
    "\n",
    "for i in range(num_runs):\n",
    "    for j in range(num_iters):\n",
    "        for k in range(num_imgs):\n",
    "            # not-well-formed\n",
    "            if pstop_idx[i][j][k]==-1: # no \"I'm done!\" signal\n",
    "                point_results[i][j][k//test_trials][9]+=1         \n",
    "            else:\n",
    "                for p in range(1,int(pstop_idx[i][j][k])): \n",
    "                    if p!=sort_pws[i][j][k][p]:\n",
    "                        point_results[i][j][k//test_trials][9]+=1\n",
    "                        break \n",
    "                    elif p==pstop_idx[i][j][k]-1:\n",
    "                        idx=int(max(sort_pws[i][j][k][1:int(pstop_idx[i][j][k])+1]))\n",
    "                        point_results[i][j][k//test_trials][idx-1]+=1\n",
    "                        \n",
    "# Point Accuracy\n",
    "point_accuracy = np.zeros([num_runs, output_size-1, num_iters])\n",
    "for i in range(num_runs):\n",
    "    for j in range(output_size-1):\n",
    "        for k in range(num_iters):\n",
    "            point_accuracy[i][j][k]=point_results[i][k][j][j]/test_trials"
   ]
  },
  {
   "cell_type": "code",
   "execution_count": null,
   "metadata": {
    "collapsed": true
   },
   "outputs": [],
   "source": [
    "def plot_point_results_wv(run, it):\n",
    "    \"\"\"Plot the point heatmap with values.\"\"\"\n",
    "    data = point_results[run, it]\n",
    "    title = \"Point at Run %d after %d Iters\" % (run + 1, iter_list[it])\n",
    "    xlabel= \"Point Results\"\n",
    "    ylabel=\"True Class\"\n",
    "    plt.figure(figsize=(output_size, output_size-1))\n",
    "    plt.title(title, fontsize=20)\n",
    "    plt.xlabel(xlabel, fontsize=15)\n",
    "    plt.ylabel(ylabel, fontsize=15)\n",
    "    c = plt.pcolor(data, edgecolors='k', linewidths=2, cmap='Reds', vmin=0, vmax=test_trials)\n",
    "    xbars = ('1', '2', '3', '4', '5', '6', '7', '8', '9', 'NWF')\n",
    "    x_pos=[0.5,1.5,2.5,3.5,4.5,5.5,6.5,7.5,8.5,9.5,10.5]\n",
    "    plt.xticks(x_pos, xbars, fontsize='10', horizontalalignment='center')\n",
    "    ybars = ('1', '2', '3', '4', '5', '6', '7', '8', '9')\n",
    "    y_pos=[0.5,1.5,2.5,3.5,4.5,5.5,6.5,7.5,8.5]\n",
    "    plt.yticks(y_pos, ybars, fontsize='10', horizontalalignment='center')\n",
    " \n",
    "    def show_values(pc, fmt=\"%.0f\", **kw):\n",
    "        pc.update_scalarmappable()\n",
    "        ax = pc.get_axes()\n",
    "        for p, color, value in zip(pc.get_paths(), pc.get_facecolors(), pc.get_array()):\n",
    "            x, y = p.vertices[:-2, :].mean(0)\n",
    "            color = (0.0, 0.0, 0.0) # value color\n",
    "            ax.text(x, y, fmt % value, ha=\"center\", va=\"center\", color=color, **kw)\n",
    "\n",
    "    show_values(c)\n",
    "    plt.colorbar(c)"
   ]
  },
  {
   "cell_type": "code",
   "execution_count": null,
   "metadata": {
    "scrolled": false
   },
   "outputs": [],
   "source": [
    "for run in range(num_runs):\n",
    "    for it in range(num_iters):\n",
    "        plot_point_results_wv(run,it)"
   ]
  },
  {
   "cell_type": "code",
   "execution_count": null,
   "metadata": {
    "collapsed": true
   },
   "outputs": [],
   "source": [
    "np.save(data_directory + \"point_results_hist\", point_results)\n",
    "np.save(data_directory + \"point_accuracy_hist\", point_accuracy)"
   ]
  },
  {
   "cell_type": "code",
   "execution_count": null,
   "metadata": {
    "collapsed": true
   },
   "outputs": [],
   "source": []
  },
  {
   "cell_type": "code",
   "execution_count": null,
   "metadata": {
    "collapsed": true
   },
   "outputs": [],
   "source": []
  }
 ],
 "metadata": {
  "kernelspec": {
   "display_name": "Python 3",
   "language": "python",
   "name": "python3"
  },
  "language_info": {
   "codemirror_mode": {
    "name": "ipython",
    "version": 3
   },
   "file_extension": ".py",
   "mimetype": "text/x-python",
   "name": "python",
   "nbconvert_exporter": "python",
   "pygments_lexer": "ipython3",
   "version": "3.5.2"
  }
 },
 "nbformat": 4,
 "nbformat_minor": 2
}
