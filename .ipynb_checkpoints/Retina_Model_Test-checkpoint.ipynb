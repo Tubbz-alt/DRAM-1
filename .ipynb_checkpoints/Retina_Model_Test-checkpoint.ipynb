{
 "cells": [
  {
   "cell_type": "code",
   "execution_count": 1,
   "metadata": {
    "collapsed": true
   },
   "outputs": [],
   "source": [
    "import sys\n",
    "import numpy as np\n",
    "import random\n",
    "\n",
    "from bokeh.plotting import figure, show, ColumnDataSource\n",
    "from bokeh.layouts import gridplot\n",
    "from bokeh.models import HoverTool\n",
    "\n",
    "# parameters\n",
    "N = 15 # N x N filterbank\n",
    "dims = [100,100] # input_img size\n",
    "eps = 1e-08\n",
    "\n",
    "# generate blobs\n",
    "blob_size = 5\n",
    "# top left corner coordinate\n",
    "cX = 60\n",
    "cY = 60\n",
    "height = blob_size\n",
    "width = height # square blobs\n",
    "\n",
    "# input_img\n",
    "input_img = np.zeros(dims[0]*dims[1])\n",
    "for i in range(cX, cX+width):\n",
    "    for j in range(cY, cY+height):\n",
    "        input_img[i*dims[1]+j] = 255\n",
    "\n",
    "input_img = np.reshape(input_img,(100,100))\n",
    "\n",
    "# attention window\n",
    "gx = random.randint(2,98)\n",
    "gy = random.randint(2,98)\n",
    "\n",
    "pdelta = np.logspace(1, (N-1)//2 - 2, (N-1)//2 - 2, base=1.3)\n",
    "pdelta = np.append(1,(np.append(1,pdelta)))\n",
    "delta = pow(3,pdelta)\n",
    "delta = np.append(np.append(delta[::-1],delta[0]), delta) # sum(delta[0:7])=109.89\n",
    "sigma2 = delta*delta/4 # sigma=delta/\n",
    "\n",
    "min_dim = min(dims[0],dims[1])    \n",
    "mu_x = np.zeros([N,N])\n",
    "for i in range((N+1)//2):\n",
    "    mu_x[i,i:N-i] = np.linspace(-sum(delta[i:(N-1)//2]), sum(delta[i:(N-1)//2]), N-2*i)\n",
    "    mu_x[i+1:(N+1)//2,i] = mu_x[i,i]\n",
    "    mu_x[i+1:(N+1)//2,N-1-i] = mu_x[i,N-1-i]\n",
    "    \n",
    "mu_x[(N-1)//2,(N-1)//2]=0\n",
    "\n",
    "for i in range((N+1)//2,N):\n",
    "    mu_x[i,:] = mu_x[N-1-i,:]\n",
    "\n",
    "mu_y = np.zeros([N,N])\n",
    "for i in range((N+1)//2):\n",
    "    mu_y[i,i:N-i] = -sum(delta[i:(N-1)//2])\n",
    "    mu_y[i:(N+1)//2,i] = np.linspace(-sum(delta[i:(N-1)//2]), 0, (N+1)//2 - i)\n",
    "    mu_y[i:(N+1)//2,N-1-i] = np.linspace(-sum(delta[i:(N-1)//2]), 0, (N+1)//2 - i)\n",
    "    \n",
    "mu_y[(N-1)//2,(N-1)//2]=0\n",
    "\n",
    "for i in range((N+1)//2,N):\n",
    "    mu_y[i,:] = -mu_y[N-1-i,:]\n",
    "    \n",
    "mu_x = gx + mu_x\n",
    "mu_y = gy + mu_y\n",
    "    \n",
    "a = np.reshape([np.arange(dims[0])]*N, (N, 1, -1))\n",
    "b = np.reshape([np.arange(dims[1])]*N, (N, 1, -1))\n",
    "\n",
    "mu_x = np.reshape(mu_x, (N, N, 1))\n",
    "mu_y = np.reshape(mu_y, (N, N, 1))\n",
    "sigma2 = np.reshape(sigma2, (-1, N, 1))\n",
    "muxlist = np.reshape(mu_x, [-1]) \n",
    "muylist = np.reshape(mu_y, [-1]) \n",
    "\n",
    "Fx = np.exp(-np.square(a - mu_x) / (2*sigma2)) # N x N x dims[0]\n",
    "Fy = np.exp(-np.square(b - mu_y) / (2*sigma2)) # N x N x dims[1]\n",
    "# normalize\n",
    "Fx=Fx/np.reshape(np.sum(Fx,axis=2),(N,N,1))\n",
    "Fy=Fy/np.reshape(np.sum(Fx,axis=2),(N,N,1))\n",
    "\n",
    "#filter_img\n",
    "filter_img=np.zeros([N,N])\n",
    "for i in range(N):\n",
    "    for j in range(N):\n",
    "        filter_img[i,j] = np.matmul(np.reshape(Fy[i,j,:], (1,1,-1)), np.matmul(input_img, np.reshape(Fx[i,j,:], (1,-1,1))))\n",
    "        \n",
    "hover = HoverTool(\n",
    "        tooltips=\"\"\"\n",
    "        <div>\n",
    "            <div>\n",
    "                <span style=\"font-size: 15px; font-weight: bold;\">@desc</span>\n",
    "            </div>\n",
    "            <div>\n",
    "                <span style=\"font-size: 12px;\">Location</span>\n",
    "                <span style=\"font-size: 12px; color: #320;\">($x, $y)</span>\n",
    "            </div>\n",
    "        </div>\n",
    "        \"\"\"\n",
    "    )\n",
    "\n",
    "\n",
    "source = ColumnDataSource(\n",
    "        data=dict(\n",
    "            x=[gx],\n",
    "            y=[gy],\n",
    "            desc=['Att_window Center'],\n",
    "        )\n",
    ")\n",
    "\n",
    "dot_source = ColumnDataSource(\n",
    "        data=dict(\n",
    "            mu_x=muxlist,\n",
    "            mu_y=muylist,\n",
    "        )\n",
    ")\n",
    "\n",
    "p = figure(title=\"Input Image (gx=%-d, gy=%-d)\" %(gx,gy), x_range=(0, 100), y_range=(0, 100), tools=[hover])\n",
    "iii = p.image(image=[input_img], x=0, y=0, dw=100, dh=100, palette=\"Greys256\")\n",
    "p.circle('mu_x', 'mu_y', size=2, source=dot_source, color=\"orange\")\n",
    "p.circle('x', 'y', size=10, source=source, color=\"red\")\n",
    "\n",
    "filter_source = ColumnDataSource(\n",
    "        data=dict(\n",
    "            x=[N/2],\n",
    "            y=[N/2],\n",
    "            desc=['Filterbank Center'],\n",
    "        )\n",
    ")\n",
    "p_filter = figure(title=\"Filter Image\", x_range=(0, 15), y_range=(0, 15))\n",
    "iii_filter = p_filter.image(image=[filter_img], x=0, y=0, dw=15, dh=15, palette=\"Greys256\")\n",
    "p_filter.circle('x', 'y', size=10, source=filter_source, color=\"red\")\n",
    "\n",
    "pp = gridplot([[p,p_filter]], toolbar_location=None)\n",
    "show(pp)"
   ]
  },
  {
   "cell_type": "code",
   "execution_count": 2,
   "metadata": {
    "collapsed": true
   },
   "outputs": [],
   "source": [
    "import sys\n",
    "import numpy as np\n",
    "import random\n",
    "\n",
    "from bokeh.plotting import figure, show, ColumnDataSource\n",
    "from bokeh.layouts import gridplot\n",
    "from bokeh.models import HoverTool\n",
    "\n",
    "# parameters\n",
    "N = 15 # N x N filterbank\n",
    "dims = [100,100] # input_img size\n",
    "eps = 1e-08\n",
    "\n",
    "# generate blobs\n",
    "blob_size = 5\n",
    "# top left corner coordinate\n",
    "cX = 10\n",
    "cY = 10\n",
    "height = blob_size\n",
    "width = height # square blobs\n",
    "\n",
    "# input_img\n",
    "input_img = np.zeros(dims[0]*dims[1])\n",
    "for i in range(cX, cX+10*width):\n",
    "    for j in range(cY, cY+10*height):\n",
    "        input_img[i*dims[1]+j] = 255\n",
    "\n",
    "input_img = np.reshape(input_img,(100,100))\n",
    "\n",
    "# attention window\n",
    "gx = random.randint(2,98)\n",
    "gy = random.randint(2,98)\n",
    "\n",
    "pdelta = np.logspace(1, (N-1)//2 - 2, (N-1)//2 - 2, base=1.3)\n",
    "pdelta = np.append(1,(np.append(1,pdelta)))\n",
    "delta = pow(3,pdelta)\n",
    "delta = np.append(np.append(delta[::-1],delta[0]), delta) # sum(delta[0:7])=109.89\n",
    "sigma2 = delta*delta/4 # sigma=delta/\n",
    "\n",
    "min_dim = min(dims[0],dims[1])    \n",
    "mu_x = np.zeros([N,N])\n",
    "for i in range((N+1)//2):\n",
    "    mu_x[i,i:N-i] = np.linspace(-sum(delta[i:(N-1)//2]), sum(delta[i:(N-1)//2]), N-2*i)\n",
    "    mu_x[i+1:(N+1)//2,i] = mu_x[i,i]\n",
    "    mu_x[i+1:(N+1)//2,N-1-i] = mu_x[i,N-1-i]\n",
    "    \n",
    "mu_x[(N-1)//2,(N-1)//2]=0\n",
    "\n",
    "for i in range((N+1)//2,N):\n",
    "    mu_x[i,:] = mu_x[N-1-i,:]\n",
    "\n",
    "mu_y = np.zeros([N,N])\n",
    "for i in range((N+1)//2):\n",
    "    mu_y[i,i:N-i] = -sum(delta[i:(N-1)//2])\n",
    "    mu_y[i:(N+1)//2,i] = np.linspace(-sum(delta[i:(N-1)//2]), 0, (N+1)//2 - i)\n",
    "    mu_y[i:(N+1)//2,N-1-i] = np.linspace(-sum(delta[i:(N-1)//2]), 0, (N+1)//2 - i)\n",
    "    \n",
    "mu_y[(N-1)//2,(N-1)//2]=0\n",
    "\n",
    "for i in range((N+1)//2,N):\n",
    "    mu_y[i,:] = -mu_y[N-1-i,:]\n",
    "    \n",
    "mu_x = gx + mu_x\n",
    "mu_y = gy + mu_y\n",
    "    \n",
    "a = np.reshape([np.arange(dims[0])]*N, (N, 1, -1))\n",
    "b = np.reshape([np.arange(dims[1])]*N, (N, 1, -1))\n",
    "\n",
    "mu_x = np.reshape(mu_x, (N, N, 1))\n",
    "mu_y = np.reshape(mu_y, (N, N, 1))\n",
    "sigma2 = np.reshape(sigma2, (-1, N, 1))\n",
    "muxlist = np.reshape(mu_x, [-1]) \n",
    "muylist = np.reshape(mu_y, [-1]) \n",
    "\n",
    "Fx = np.exp(-np.square(a - mu_x) / (2*sigma2)) # N x N x dims[0]\n",
    "Fy = np.exp(-np.square(b - mu_y) / (2*sigma2)) # N x N x dims[1]\n",
    "# normalize\n",
    "Fx=Fx/np.reshape(np.sum(Fx,axis=2),(N,N,1))\n",
    "Fy=Fy/np.reshape(np.sum(Fx,axis=2),(N,N,1))\n",
    "\n",
    "#filter_img\n",
    "filter_img=np.zeros([N,N])\n",
    "for i in range(N):\n",
    "    for j in range(N):\n",
    "        filter_img[i,j] = np.matmul(np.reshape(Fy[i,j,:], (1,1,-1)), np.matmul(input_img, np.reshape(Fx[i,j,:], (1,-1,1))))\n",
    "        \n",
    "hover = HoverTool(\n",
    "        tooltips=\"\"\"\n",
    "        <div>\n",
    "            <div>\n",
    "                <span style=\"font-size: 15px; font-weight: bold;\">@desc</span>\n",
    "            </div>\n",
    "            <div>\n",
    "                <span style=\"font-size: 12px;\">Location</span>\n",
    "                <span style=\"font-size: 12px; color: #320;\">($x, $y)</span>\n",
    "            </div>\n",
    "        </div>\n",
    "        \"\"\"\n",
    "    )\n",
    "\n",
    "\n",
    "source = ColumnDataSource(\n",
    "        data=dict(\n",
    "            x=[gx],\n",
    "            y=[gy],\n",
    "            desc=['Att_window Center'],\n",
    "        )\n",
    ")\n",
    "\n",
    "dot_source = ColumnDataSource(\n",
    "        data=dict(\n",
    "            mu_x=muxlist,\n",
    "            mu_y=muylist,\n",
    "        )\n",
    ")\n",
    "\n",
    "p = figure(title=\"Input Image (gx=%-d, gy=%-d)\" %(gx,gy), x_range=(0, 100), y_range=(0, 100), tools=[hover])\n",
    "iii = p.image(image=[input_img], x=0, y=0, dw=100, dh=100, palette=\"Greys256\")\n",
    "p.circle('mu_x', 'mu_y', size=2, source=dot_source, color=\"orange\")\n",
    "p.circle('x', 'y', size=10, source=source, color=\"red\")\n",
    "\n",
    "filter_source = ColumnDataSource(\n",
    "        data=dict(\n",
    "            x=[N/2],\n",
    "            y=[N/2],\n",
    "            desc=['Filterbank Center'],\n",
    "        )\n",
    ")\n",
    "p_filter = figure(title=\"Filter Image\", x_range=(0, 15), y_range=(0, 15))\n",
    "iii_filter = p_filter.image(image=[filter_img], x=0, y=0, dw=15, dh=15, palette=\"Greys256\")\n",
    "p_filter.circle('x', 'y', size=10, source=filter_source, color=\"red\")\n",
    "\n",
    "pp = gridplot([[p,p_filter]], toolbar_location=None)\n",
    "show(pp)"
   ]
  },
  {
   "cell_type": "code",
   "execution_count": null,
   "metadata": {
    "collapsed": true
   },
   "outputs": [],
   "source": []
  },
  {
   "cell_type": "code",
   "execution_count": null,
   "metadata": {
    "collapsed": true
   },
   "outputs": [],
   "source": []
  },
  {
   "cell_type": "code",
   "execution_count": null,
   "metadata": {
    "collapsed": true
   },
   "outputs": [],
   "source": []
  },
  {
   "cell_type": "code",
   "execution_count": null,
   "metadata": {
    "collapsed": true
   },
   "outputs": [],
   "source": []
  },
  {
   "cell_type": "code",
   "execution_count": null,
   "metadata": {
    "collapsed": true
   },
   "outputs": [],
   "source": []
  },
  {
   "cell_type": "code",
   "execution_count": null,
   "metadata": {
    "collapsed": true
   },
   "outputs": [],
   "source": []
  },
  {
   "cell_type": "code",
   "execution_count": null,
   "metadata": {
    "collapsed": true
   },
   "outputs": [],
   "source": []
  },
  {
   "cell_type": "code",
   "execution_count": null,
   "metadata": {
    "collapsed": true
   },
   "outputs": [],
   "source": []
  },
  {
   "cell_type": "code",
   "execution_count": null,
   "metadata": {
    "collapsed": true
   },
   "outputs": [],
   "source": [
    "   "
   ]
  },
  {
   "cell_type": "code",
   "execution_count": null,
   "metadata": {
    "collapsed": true
   },
   "outputs": [],
   "source": []
  },
  {
   "cell_type": "code",
   "execution_count": null,
   "metadata": {
    "collapsed": true
   },
   "outputs": [],
   "source": []
  },
  {
   "cell_type": "code",
   "execution_count": null,
   "metadata": {
    "collapsed": true
   },
   "outputs": [],
   "source": []
  },
  {
   "cell_type": "code",
   "execution_count": null,
   "metadata": {
    "collapsed": true
   },
   "outputs": [],
   "source": []
  },
  {
   "cell_type": "code",
   "execution_count": null,
   "metadata": {
    "collapsed": true
   },
   "outputs": [],
   "source": []
  },
  {
   "cell_type": "code",
   "execution_count": null,
   "metadata": {
    "collapsed": true
   },
   "outputs": [],
   "source": []
  },
  {
   "cell_type": "code",
   "execution_count": null,
   "metadata": {
    "collapsed": true
   },
   "outputs": [],
   "source": []
  },
  {
   "cell_type": "code",
   "execution_count": null,
   "metadata": {
    "collapsed": true
   },
   "outputs": [],
   "source": []
  },
  {
   "cell_type": "code",
   "execution_count": null,
   "metadata": {
    "collapsed": true
   },
   "outputs": [],
   "source": []
  },
  {
   "cell_type": "code",
   "execution_count": null,
   "metadata": {
    "collapsed": true
   },
   "outputs": [],
   "source": []
  },
  {
   "cell_type": "code",
   "execution_count": null,
   "metadata": {
    "collapsed": true
   },
   "outputs": [],
   "source": []
  },
  {
   "cell_type": "code",
   "execution_count": null,
   "metadata": {
    "collapsed": true
   },
   "outputs": [],
   "source": []
  },
  {
   "cell_type": "code",
   "execution_count": null,
   "metadata": {
    "collapsed": true
   },
   "outputs": [],
   "source": []
  }
 ],
 "metadata": {
  "kernelspec": {
   "display_name": "Python 3",
   "language": "python",
   "name": "python3"
  },
  "language_info": {
   "codemirror_mode": {
    "name": "ipython",
    "version": 3
   },
   "file_extension": ".py",
   "mimetype": "text/x-python",
   "name": "python",
   "nbconvert_exporter": "python",
   "pygments_lexer": "ipython3",
   "version": "3.5.2"
  }
 },
 "nbformat": 4,
 "nbformat_minor": 2
}
