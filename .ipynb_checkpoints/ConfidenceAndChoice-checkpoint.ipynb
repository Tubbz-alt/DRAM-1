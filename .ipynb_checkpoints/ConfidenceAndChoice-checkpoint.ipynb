{
 "cells": [
  {
   "cell_type": "markdown",
   "metadata": {},
   "source": [
    "# Confidence and Choice Visualizer"
   ]
  },
  {
   "cell_type": "markdown",
   "metadata": {},
   "source": [
    "Run DRAM_classify_blobs 10 times (use runDRAM_classify_blobs.sh in hydra), then copy all the checkpoints to guppy (use copyDRAM_classify_blobs_ckpts.sh in hydra and enter password 10x).\n",
    "\n",
    "Make sure these are the <b>guppy</b> model_settings: <br />\n",
    "min_edge = 2 <br />\n",
    "max_edge = 5 <br />\n",
    "min_blobs = 1 <br />\n",
    "max_blobs = 9 <br />\n",
    "glimpses = max_blobs + 1 <br />\n",
    "batch_size = 9000\n",
    "\n",
    "You could then use this entire program or use ClassificationDistributions.ipynb to output confidence_one_run for each run, and set them as the confidence for each run in confidence_all_runs."
   ]
  },
  {
   "cell_type": "code",
   "execution_count": 1,
   "metadata": {},
   "outputs": [
    {
     "data": {
      "text/html": [
       "<script>requirejs.config({paths: { 'plotly': ['https://cdn.plot.ly/plotly-latest.min']},});if(!window.Plotly) {{require(['plotly'],function(plotly) {window.Plotly=plotly;});}}</script>"
      ],
      "text/vnd.plotly.v1+html": [
       "<script>requirejs.config({paths: { 'plotly': ['https://cdn.plot.ly/plotly-latest.min']},});if(!window.Plotly) {{require(['plotly'],function(plotly) {window.Plotly=plotly;});}}</script>"
      ]
     },
     "metadata": {},
     "output_type": "display_data"
    },
    {
     "name": "stdout",
     "output_type": "stream",
     "text": [
      "['/usr/local/lib/python3.5/dist-packages/ipykernel_launcher.py', '-f', 'true', 'true', 'true', 'true', 'true', 'model_runs/-f/classify_log.csv', 'model_runs/-f/classifymodel_0.ckpt', 'model_runs/-f/classifymodel_', 'model_runs/-f/zzzdraw_data_5000.npy', 'false', 'true', 'false', 'false', 'true']\n",
      "analysis.py\n"
     ]
    }
   ],
   "source": [
    "import numpy as np\n",
    "from plotly.offline import download_plotlyjs, init_notebook_mode, plot, iplot\n",
    "init_notebook_mode(connected=True)\n",
    "import plotly.graph_objs as go\n",
    "from analysis import classify_image, read_n, classify_imgs2"
   ]
  },
  {
   "cell_type": "code",
   "execution_count": 2,
   "metadata": {
    "collapsed": true
   },
   "outputs": [],
   "source": [
    "num_runs = 10\n",
    "iter_list = [50000, 100000, 120000]#[0, 250, 1000, 4000, 16000, 32000, 64000, 125000, 250000, 500000]\n",
    "glimpse_list = [0, 3, 9]#[0, 3, 9]\n",
    "max_blobs = 9\n",
    "min_blobs = 1\n",
    "\n",
    "num_iters = len(iter_list)\n",
    "num_glimpses = len(glimpse_list)\n",
    "z_size = max_blobs - min_blobs + 1\n",
    "\n",
    "confidence_all_runs = np.zeros([num_runs, num_iters, num_glimpses, z_size, z_size])\n",
    "choice_all_runs = np.zeros([num_runs, num_iters, num_glimpses, z_size, z_size])"
   ]
  },
  {
   "cell_type": "code",
   "execution_count": 3,
   "metadata": {
    "collapsed": true
   },
   "outputs": [],
   "source": [
    "def fill_matrix(path, iteration):\n",
    "    \"\"\"Fill the confidence and choice matrices for one run at one iteration.\"\"\"\n",
    "    \n",
    "    data = None\n",
    "    num_imgs = 9000\n",
    "    imgs_data = classify_imgs2(iteration, True, num_imgs, path=path)\n",
    "        \n",
    "    confidence_one_run = np.zeros([num_glimpses, z_size, z_size])\n",
    "    choice_one_run = np.zeros([num_glimpses, z_size, z_size])\n",
    "    \n",
    "    for g, glimpse in enumerate(glimpse_list):\n",
    "\n",
    "        for nb in range(z_size):\n",
    "            num_blobs = nb + 1\n",
    "            confidence_hist = np.zeros(z_size)\n",
    "            choice_hist = np.zeros(z_size)\n",
    "            value_counts = np.zeros(z_size)\n",
    "            values_sum = 0\n",
    "            sqr_sum = 0\n",
    "            num_imgs_with_num_blobs = 0\n",
    "\n",
    "            for idx, data in enumerate(imgs_data):\n",
    "\n",
    "                if data[\"label\"][(num_blobs - min_blobs)] == 1: # data is for an image with num_blobs blobs\n",
    "                    num_imgs_with_num_blobs += 1\n",
    "\n",
    "                    # Histogram of softmaxes\n",
    "                    confidence_hist += data[\"classifications\"][glimpse][0]\n",
    "\n",
    "                    # Histogram of choices\n",
    "                    choice = np.argmax(data[\"classifications\"][glimpse][0])\n",
    "                    choice_list = [0] * z_size\n",
    "                    choice_list[choice] = 1\n",
    "                    choice_hist += choice_list\n",
    "\n",
    "            confidence_hist = confidence_hist / num_imgs_with_num_blobs\n",
    "            confidence_one_run[g, nb] = confidence_hist.tolist()\n",
    "\n",
    "            choice_hist = choice_hist / num_imgs_with_num_blobs\n",
    "            choice_one_run[g, nb] = choice_hist.tolist()\n",
    "        \n",
    "#     print(\"Confidence (One Run): \")\n",
    "#     print(confidence_one_run.tolist())\n",
    "#     print(\"Choice (One Run): \")\n",
    "#     print(choice_one_run.tolist())\n",
    "    return confidence_one_run, choice_one_run"
   ]
  },
  {
   "cell_type": "code",
   "execution_count": 4,
   "metadata": {
    "scrolled": true
   },
   "outputs": [
    {
     "name": "stdout",
     "output_type": "stream",
     "text": [
      "INFO:tensorflow:Restoring parameters from model_runs/DRAM_classify_blobs_run_1/classifymodel_50000.ckpt\n",
      "INFO:tensorflow:Restoring parameters from model_runs/DRAM_classify_blobs_run_1/classifymodel_100000.ckpt\n",
      "INFO:tensorflow:Restoring parameters from model_runs/DRAM_classify_blobs_run_1/classifymodel_120000.ckpt\n",
      "INFO:tensorflow:Restoring parameters from model_runs/DRAM_classify_blobs_run_2/classifymodel_50000.ckpt\n",
      "INFO:tensorflow:Restoring parameters from model_runs/DRAM_classify_blobs_run_2/classifymodel_100000.ckpt\n",
      "INFO:tensorflow:Restoring parameters from model_runs/DRAM_classify_blobs_run_2/classifymodel_120000.ckpt\n",
      "INFO:tensorflow:Restoring parameters from model_runs/DRAM_classify_blobs_run_3/classifymodel_50000.ckpt\n",
      "INFO:tensorflow:Restoring parameters from model_runs/DRAM_classify_blobs_run_3/classifymodel_100000.ckpt\n",
      "INFO:tensorflow:Restoring parameters from model_runs/DRAM_classify_blobs_run_3/classifymodel_120000.ckpt\n",
      "INFO:tensorflow:Restoring parameters from model_runs/DRAM_classify_blobs_run_4/classifymodel_50000.ckpt\n",
      "INFO:tensorflow:Restoring parameters from model_runs/DRAM_classify_blobs_run_4/classifymodel_100000.ckpt\n",
      "INFO:tensorflow:Restoring parameters from model_runs/DRAM_classify_blobs_run_4/classifymodel_120000.ckpt\n",
      "INFO:tensorflow:Restoring parameters from model_runs/DRAM_classify_blobs_run_5/classifymodel_50000.ckpt\n",
      "INFO:tensorflow:Restoring parameters from model_runs/DRAM_classify_blobs_run_5/classifymodel_100000.ckpt\n",
      "INFO:tensorflow:Restoring parameters from model_runs/DRAM_classify_blobs_run_5/classifymodel_120000.ckpt\n",
      "INFO:tensorflow:Restoring parameters from model_runs/DRAM_classify_blobs_run_6/classifymodel_50000.ckpt\n",
      "INFO:tensorflow:Restoring parameters from model_runs/DRAM_classify_blobs_run_6/classifymodel_100000.ckpt\n",
      "INFO:tensorflow:Restoring parameters from model_runs/DRAM_classify_blobs_run_6/classifymodel_120000.ckpt\n",
      "INFO:tensorflow:Restoring parameters from model_runs/DRAM_classify_blobs_run_7/classifymodel_50000.ckpt\n",
      "INFO:tensorflow:Restoring parameters from model_runs/DRAM_classify_blobs_run_7/classifymodel_100000.ckpt\n",
      "INFO:tensorflow:Restoring parameters from model_runs/DRAM_classify_blobs_run_7/classifymodel_120000.ckpt\n",
      "INFO:tensorflow:Restoring parameters from model_runs/DRAM_classify_blobs_run_8/classifymodel_50000.ckpt\n",
      "INFO:tensorflow:Restoring parameters from model_runs/DRAM_classify_blobs_run_8/classifymodel_100000.ckpt\n",
      "INFO:tensorflow:Restoring parameters from model_runs/DRAM_classify_blobs_run_8/classifymodel_120000.ckpt\n",
      "INFO:tensorflow:Restoring parameters from model_runs/DRAM_classify_blobs_run_9/classifymodel_50000.ckpt\n",
      "INFO:tensorflow:Restoring parameters from model_runs/DRAM_classify_blobs_run_9/classifymodel_100000.ckpt\n",
      "INFO:tensorflow:Restoring parameters from model_runs/DRAM_classify_blobs_run_9/classifymodel_120000.ckpt\n",
      "INFO:tensorflow:Restoring parameters from model_runs/DRAM_classify_blobs_run_10/classifymodel_50000.ckpt\n",
      "INFO:tensorflow:Restoring parameters from model_runs/DRAM_classify_blobs_run_10/classifymodel_100000.ckpt\n",
      "INFO:tensorflow:Restoring parameters from model_runs/DRAM_classify_blobs_run_10/classifymodel_120000.ckpt\n"
     ]
    }
   ],
   "source": [
    "model = \"DRAM_classify_blobs\"\n",
    "for run in range(num_runs):\n",
    "    path = 'model_runs/' + model + '_run_' + str(run + 1)\n",
    "#     path = 'model_runs/DRAM_test_square'\n",
    "    for i, iteration in enumerate(iter_list):\n",
    "        confidence_all_runs[run, i], choice_all_runs[run, i] = fill_matrix(path, iteration)"
   ]
  },
  {
   "cell_type": "code",
   "execution_count": 5,
   "metadata": {
    "collapsed": true
   },
   "outputs": [],
   "source": [
    "def adj_all_runs(all_runs_matrix):\n",
    "    \"\"\"Adjust all the matrices so tick marks start with 1.\"\"\"\n",
    "    \n",
    "    new_all_runs_matrix = np.zeros([num_runs, num_iters, num_glimpses, z_size + 1, z_size + 1])\n",
    "    for m, matrix in enumerate(all_runs_matrix):\n",
    "        for i in range(num_iters):\n",
    "            for g in range(num_glimpses):\n",
    "                new_all_runs_matrix[m, i, g] = adj_matrix(matrix[i, g])\n",
    "    return new_all_runs_matrix\n",
    "\n",
    "\n",
    "def adj_matrix(matrix):\n",
    "    \"\"\"Adjust the matrix so tick marks start with 1.\"\"\"\n",
    "    \n",
    "    a = np.zeros([1, z_size])\n",
    "    temp = np.vstack((a, matrix))\n",
    "    b = np.zeros([z_size + 1, 1])\n",
    "    new_matrix = np.hstack((b, temp))\n",
    "    return new_matrix\n",
    "\n",
    "\n",
    "confidence_all_runs_adj = adj_all_runs(confidence_all_runs)\n",
    "choice_all_runs_adj = adj_all_runs(choice_all_runs)"
   ]
  },
  {
   "cell_type": "code",
   "execution_count": 6,
   "metadata": {
    "collapsed": true
   },
   "outputs": [],
   "source": [
    "confidence_avg = np.mean(confidence_all_runs_adj, axis=0)\n",
    "choice_avg = np.mean(choice_all_runs_adj, axis=0)"
   ]
  },
  {
   "cell_type": "code",
   "execution_count": 7,
   "metadata": {
    "collapsed": true
   },
   "outputs": [],
   "source": [
    "def plot_confidence(iter_idx, it, g, glimpse, run=None):\n",
    "    \"\"\"Plot the confidence heatmap.\"\"\"\n",
    "    \n",
    "    if run is None:\n",
    "        matrix = confidence_avg[iter_idx, g]\n",
    "        plot_title = \"Confidence after %d Iterations at Glimpse %d\" % (it, glimpse)\n",
    "\n",
    "    else:\n",
    "        matrix = confidence_all_runs_adj[run, iter_idx, g]\n",
    "        plot_title = \"Confidence at Run %d after %d Iterations at Glimpse %d\" % (run + 1, it, glimpse)\n",
    "    plot_heatmap(matrix, plot_title)\n",
    "\n",
    "\n",
    "def plot_choice(iter_idx, it, g, glimpse, run=None):\n",
    "    \"\"\"Plot the choice heatmap.\"\"\"\n",
    "    \n",
    "    if run is None:\n",
    "        matrix = choice_avg[iter_idx, g]\n",
    "        plot_title = \"Choice after %d Iterations at Glimpse %d\" % (it, glimpse)\n",
    "    else:\n",
    "        matrix = choice_all_runs_adj[run, iter_idx, g]\n",
    "        plot_title = \"Choice at Run %d after %d Iterations at Glimpse %d\" % (run + 1, it, glimpse)\n",
    "    plot_heatmap(matrix, plot_title)\n",
    "    \n",
    "    \n",
    "def plot_heatmap(matrix, plot_title):\n",
    "    \"\"\"Plot heatmap.\"\"\"\n",
    "    \n",
    "    data = [go.Heatmap(\n",
    "        z=matrix,\n",
    "        colorscale=\"Jet\"\n",
    "    )]\n",
    "\n",
    "    layout = go.Layout(\n",
    "        title=plot_title,\n",
    "        yaxis=dict(\n",
    "            range=[9.5, 0.5],\n",
    "            title=\"True Class\",\n",
    "            dtick=1,\n",
    "            tickcolor='#FFF'\n",
    "        ),\n",
    "        xaxis=dict(\n",
    "            range=[0.5, 9.5],\n",
    "            title=\"Predicted Class\",\n",
    "            dtick=1,\n",
    "            tickcolor='#FFF'\n",
    "        ),\n",
    "        width=500,\n",
    "        height=500,\n",
    "        plot_bgcolor=\"#000\",\n",
    "        paper_bgcolor=\"#000\",\n",
    "        font=dict(\n",
    "            color=\"#FFF\"\n",
    "        ),\n",
    "        titlefont=dict(\n",
    "            color=\"#FFF\"\n",
    "        ),\n",
    "    )\n",
    "    fig = go.Figure(data=data, layout=layout)\n",
    "    iplot(fig)"
   ]
  },
  {
   "cell_type": "code",
   "execution_count": 9,
   "metadata": {
    "collapsed": true
   },
   "outputs": [
    {
     "data": {
      "application/vnd.plotly.v1+json": {
       "data": [
        {
         "colorscale": "Jet",
         "type": "heatmap",
         "z": [
          [
           0,
           0,
           0,
           0,
           0,
           0,
           0,
           0,
           0,
           0
          ],
          [
           0,
           0.7678257431225122,
           0.1776366833535023,
           0.0371768343471922,
           0.01063351333434548,
           0.0037987422339801923,
           0.0015360641503017176,
           0.0007295109938793928,
           0.0003397582002632205,
           0.0003231501001522037
          ],
          [
           0,
           0.3380584707006084,
           0.3483940302919698,
           0.17377057041009286,
           0.08007576975915962,
           0.034263333275784465,
           0.013517454157618661,
           0.006646387296788829,
           0.00328601096630346,
           0.001987972715781946
          ],
          [
           0,
           0.10176268600894305,
           0.281973256709351,
           0.2531846791822627,
           0.1772312051621964,
           0.0965318246224264,
           0.045441783353480966,
           0.023780000408279794,
           0.013099650279450087,
           0.006994914400570413
          ],
          [
           0,
           0.03042075272916764,
           0.1511012597467673,
           0.21965350572136916,
           0.22130315505729378,
           0.1650229520897825,
           0.09899761765877702,
           0.06004579459261731,
           0.035008479743958376,
           0.0184464822521595
          ],
          [
           0,
           0.01200256430941619,
           0.07019842270765506,
           0.14583907359444698,
           0.20175696610414637,
           0.19479326556036092,
           0.15300371359454876,
           0.11095048880019927,
           0.07203353047578967,
           0.039421974746594056
          ],
          [
           0,
           0.005260463038035656,
           0.033452371256147445,
           0.08840422048742917,
           0.15287579397833567,
           0.18700380534519118,
           0.18269683124207514,
           0.15637411720022773,
           0.12039456183404955,
           0.07353783619737495
          ],
          [
           0,
           0.0028148763592855787,
           0.017432851859691942,
           0.05083894989968302,
           0.10328642582881986,
           0.15678889881657052,
           0.18184462343716537,
           0.19111428724227872,
           0.1725765641631783,
           0.123302522618011
          ],
          [
           0,
           0.001955018027162623,
           0.011201166947471725,
           0.031969193999557166,
           0.0700701566118255,
           0.12128928254583678,
           0.1636899652187107,
           0.20721283663930118,
           0.21815206613486743,
           0.1744603143343568
          ],
          [
           0,
           0.001038801702787843,
           0.006933945813036547,
           0.021811647349643387,
           0.049421557453146206,
           0.09333705425987315,
           0.13901581476164068,
           0.20691962246518472,
           0.25740805005429684,
           0.22411350744681496
          ]
         ]
        }
       ],
       "layout": {
        "font": {
         "color": "#FFF"
        },
        "height": 500,
        "paper_bgcolor": "#000",
        "plot_bgcolor": "#000",
        "title": "Confidence after 50000 Iterations at Glimpse 0",
        "titlefont": {
         "color": "#FFF"
        },
        "width": 500,
        "xaxis": {
         "dtick": 1,
         "range": [
          0.5,
          9.5
         ],
         "tickcolor": "#FFF",
         "title": "Predicted Class"
        },
        "yaxis": {
         "dtick": 1,
         "range": [
          9.5,
          0.5
         ],
         "tickcolor": "#FFF",
         "title": "True Class"
        }
       }
      },
      "text/html": [
       "<div id=\"0cbca991-527e-48ab-ae81-57e96f5acd69\" style=\"height: 500px; width: 500px;\" class=\"plotly-graph-div\"></div><script type=\"text/javascript\">require([\"plotly\"], function(Plotly) { window.PLOTLYENV=window.PLOTLYENV || {};window.PLOTLYENV.BASE_URL=\"https://plot.ly\";Plotly.newPlot(\"0cbca991-527e-48ab-ae81-57e96f5acd69\", [{\"z\": [[0.0, 0.0, 0.0, 0.0, 0.0, 0.0, 0.0, 0.0, 0.0, 0.0], [0.0, 0.7678257431225122, 0.1776366833535023, 0.0371768343471922, 0.01063351333434548, 0.0037987422339801923, 0.0015360641503017176, 0.0007295109938793928, 0.0003397582002632205, 0.0003231501001522037], [0.0, 0.3380584707006084, 0.3483940302919698, 0.17377057041009286, 0.08007576975915962, 0.034263333275784465, 0.013517454157618661, 0.006646387296788829, 0.00328601096630346, 0.001987972715781946], [0.0, 0.10176268600894305, 0.281973256709351, 0.2531846791822627, 0.1772312051621964, 0.0965318246224264, 0.045441783353480966, 0.023780000408279794, 0.013099650279450087, 0.006994914400570413], [0.0, 0.03042075272916764, 0.1511012597467673, 0.21965350572136916, 0.22130315505729378, 0.1650229520897825, 0.09899761765877702, 0.06004579459261731, 0.035008479743958376, 0.0184464822521595], [0.0, 0.01200256430941619, 0.07019842270765506, 0.14583907359444698, 0.20175696610414637, 0.19479326556036092, 0.15300371359454876, 0.11095048880019927, 0.07203353047578967, 0.039421974746594056], [0.0, 0.005260463038035656, 0.033452371256147445, 0.08840422048742917, 0.15287579397833567, 0.18700380534519118, 0.18269683124207514, 0.15637411720022773, 0.12039456183404955, 0.07353783619737495], [0.0, 0.0028148763592855787, 0.017432851859691942, 0.05083894989968302, 0.10328642582881986, 0.15678889881657052, 0.18184462343716537, 0.19111428724227872, 0.1725765641631783, 0.123302522618011], [0.0, 0.001955018027162623, 0.011201166947471725, 0.031969193999557166, 0.0700701566118255, 0.12128928254583678, 0.1636899652187107, 0.20721283663930118, 0.21815206613486743, 0.1744603143343568], [0.0, 0.001038801702787843, 0.006933945813036547, 0.021811647349643387, 0.049421557453146206, 0.09333705425987315, 0.13901581476164068, 0.20691962246518472, 0.25740805005429684, 0.22411350744681496]], \"type\": \"heatmap\", \"colorscale\": \"Jet\"}], {\"width\": 500, \"titlefont\": {\"color\": \"#FFF\"}, \"yaxis\": {\"tickcolor\": \"#FFF\", \"title\": \"True Class\", \"range\": [9.5, 0.5], \"dtick\": 1}, \"height\": 500, \"paper_bgcolor\": \"#000\", \"title\": \"Confidence after 50000 Iterations at Glimpse 0\", \"xaxis\": {\"tickcolor\": \"#FFF\", \"title\": \"Predicted Class\", \"range\": [0.5, 9.5], \"dtick\": 1}, \"font\": {\"color\": \"#FFF\"}, \"plot_bgcolor\": \"#000\"}, {\"showLink\": true, \"linkText\": \"Export to plot.ly\"})});</script>"
      ],
      "text/vnd.plotly.v1+html": [
       "<div id=\"0cbca991-527e-48ab-ae81-57e96f5acd69\" style=\"height: 500px; width: 500px;\" class=\"plotly-graph-div\"></div><script type=\"text/javascript\">require([\"plotly\"], function(Plotly) { window.PLOTLYENV=window.PLOTLYENV || {};window.PLOTLYENV.BASE_URL=\"https://plot.ly\";Plotly.newPlot(\"0cbca991-527e-48ab-ae81-57e96f5acd69\", [{\"z\": [[0.0, 0.0, 0.0, 0.0, 0.0, 0.0, 0.0, 0.0, 0.0, 0.0], [0.0, 0.7678257431225122, 0.1776366833535023, 0.0371768343471922, 0.01063351333434548, 0.0037987422339801923, 0.0015360641503017176, 0.0007295109938793928, 0.0003397582002632205, 0.0003231501001522037], [0.0, 0.3380584707006084, 0.3483940302919698, 0.17377057041009286, 0.08007576975915962, 0.034263333275784465, 0.013517454157618661, 0.006646387296788829, 0.00328601096630346, 0.001987972715781946], [0.0, 0.10176268600894305, 0.281973256709351, 0.2531846791822627, 0.1772312051621964, 0.0965318246224264, 0.045441783353480966, 0.023780000408279794, 0.013099650279450087, 0.006994914400570413], [0.0, 0.03042075272916764, 0.1511012597467673, 0.21965350572136916, 0.22130315505729378, 0.1650229520897825, 0.09899761765877702, 0.06004579459261731, 0.035008479743958376, 0.0184464822521595], [0.0, 0.01200256430941619, 0.07019842270765506, 0.14583907359444698, 0.20175696610414637, 0.19479326556036092, 0.15300371359454876, 0.11095048880019927, 0.07203353047578967, 0.039421974746594056], [0.0, 0.005260463038035656, 0.033452371256147445, 0.08840422048742917, 0.15287579397833567, 0.18700380534519118, 0.18269683124207514, 0.15637411720022773, 0.12039456183404955, 0.07353783619737495], [0.0, 0.0028148763592855787, 0.017432851859691942, 0.05083894989968302, 0.10328642582881986, 0.15678889881657052, 0.18184462343716537, 0.19111428724227872, 0.1725765641631783, 0.123302522618011], [0.0, 0.001955018027162623, 0.011201166947471725, 0.031969193999557166, 0.0700701566118255, 0.12128928254583678, 0.1636899652187107, 0.20721283663930118, 0.21815206613486743, 0.1744603143343568], [0.0, 0.001038801702787843, 0.006933945813036547, 0.021811647349643387, 0.049421557453146206, 0.09333705425987315, 0.13901581476164068, 0.20691962246518472, 0.25740805005429684, 0.22411350744681496]], \"type\": \"heatmap\", \"colorscale\": \"Jet\"}], {\"width\": 500, \"titlefont\": {\"color\": \"#FFF\"}, \"yaxis\": {\"tickcolor\": \"#FFF\", \"title\": \"True Class\", \"range\": [9.5, 0.5], \"dtick\": 1}, \"height\": 500, \"paper_bgcolor\": \"#000\", \"title\": \"Confidence after 50000 Iterations at Glimpse 0\", \"xaxis\": {\"tickcolor\": \"#FFF\", \"title\": \"Predicted Class\", \"range\": [0.5, 9.5], \"dtick\": 1}, \"font\": {\"color\": \"#FFF\"}, \"plot_bgcolor\": \"#000\"}, {\"showLink\": true, \"linkText\": \"Export to plot.ly\"})});</script>"
      ]
     },
     "metadata": {},
     "output_type": "display_data"
    },
    {
     "data": {
      "application/vnd.plotly.v1+json": {
       "data": [
        {
         "colorscale": "Jet",
         "type": "heatmap",
         "z": [
          [
           0,
           0,
           0,
           0,
           0,
           0,
           0,
           0,
           0,
           0
          ],
          [
           0,
           0.9521999999999998,
           0.0463,
           0.0008,
           0.00030000000000000003,
           0,
           0.0002,
           0.0001,
           0,
           0.0001
          ],
          [
           0,
           0.40210000000000007,
           0.4403,
           0.1135,
           0.0329,
           0.008000000000000002,
           0.0019000000000000002,
           0.0008,
           0.0005,
           0
          ],
          [
           0,
           0.09290000000000001,
           0.3829,
           0.28409999999999996,
           0.16169999999999998,
           0.0518,
           0.0137,
           0.007000000000000002,
           0.0046,
           0.0013000000000000002
          ],
          [
           0,
           0.025100000000000004,
           0.16540000000000002,
           0.264,
           0.27459999999999996,
           0.15899999999999997,
           0.0631,
           0.0251,
           0.0164,
           0.007299999999999999
          ],
          [
           0,
           0.0097,
           0.05970000000000001,
           0.15309999999999999,
           0.2631,
           0.22480000000000003,
           0.1407,
           0.08520000000000001,
           0.044899999999999995,
           0.018800000000000004
          ],
          [
           0,
           0.0035000000000000005,
           0.0224,
           0.079,
           0.1778,
           0.2222,
           0.19970000000000002,
           0.14379999999999998,
           0.0987,
           0.0529
          ],
          [
           0,
           0.0028,
           0.01,
           0.038,
           0.10049999999999999,
           0.1693,
           0.2012,
           0.2032,
           0.1639,
           0.1111
          ],
          [
           0,
           0.002,
           0.0075000000000000015,
           0.021400000000000002,
           0.05720000000000001,
           0.11259999999999999,
           0.1637,
           0.2151,
           0.23720000000000002,
           0.18330000000000002
          ],
          [
           0,
           0.001,
           0.0039000000000000007,
           0.014600000000000002,
           0.04000000000000001,
           0.0752,
           0.12169999999999999,
           0.20789999999999997,
           0.28029999999999994,
           0.2554
          ]
         ]
        }
       ],
       "layout": {
        "font": {
         "color": "#FFF"
        },
        "height": 500,
        "paper_bgcolor": "#000",
        "plot_bgcolor": "#000",
        "title": "Choice after 50000 Iterations at Glimpse 0",
        "titlefont": {
         "color": "#FFF"
        },
        "width": 500,
        "xaxis": {
         "dtick": 1,
         "range": [
          0.5,
          9.5
         ],
         "tickcolor": "#FFF",
         "title": "Predicted Class"
        },
        "yaxis": {
         "dtick": 1,
         "range": [
          9.5,
          0.5
         ],
         "tickcolor": "#FFF",
         "title": "True Class"
        }
       }
      },
      "text/html": [
       "<div id=\"f9829b0d-c561-4237-b23a-e873fcaa9711\" style=\"height: 500px; width: 500px;\" class=\"plotly-graph-div\"></div><script type=\"text/javascript\">require([\"plotly\"], function(Plotly) { window.PLOTLYENV=window.PLOTLYENV || {};window.PLOTLYENV.BASE_URL=\"https://plot.ly\";Plotly.newPlot(\"f9829b0d-c561-4237-b23a-e873fcaa9711\", [{\"z\": [[0.0, 0.0, 0.0, 0.0, 0.0, 0.0, 0.0, 0.0, 0.0, 0.0], [0.0, 0.9521999999999998, 0.0463, 0.0008, 0.00030000000000000003, 0.0, 0.0002, 0.0001, 0.0, 0.0001], [0.0, 0.40210000000000007, 0.4403, 0.1135, 0.0329, 0.008000000000000002, 0.0019000000000000002, 0.0008, 0.0005, 0.0], [0.0, 0.09290000000000001, 0.3829, 0.28409999999999996, 0.16169999999999998, 0.0518, 0.0137, 0.007000000000000002, 0.0046, 0.0013000000000000002], [0.0, 0.025100000000000004, 0.16540000000000002, 0.264, 0.27459999999999996, 0.15899999999999997, 0.0631, 0.0251, 0.0164, 0.007299999999999999], [0.0, 0.0097, 0.05970000000000001, 0.15309999999999999, 0.2631, 0.22480000000000003, 0.1407, 0.08520000000000001, 0.044899999999999995, 0.018800000000000004], [0.0, 0.0035000000000000005, 0.0224, 0.079, 0.1778, 0.2222, 0.19970000000000002, 0.14379999999999998, 0.0987, 0.0529], [0.0, 0.0028, 0.01, 0.038, 0.10049999999999999, 0.1693, 0.2012, 0.2032, 0.1639, 0.1111], [0.0, 0.002, 0.0075000000000000015, 0.021400000000000002, 0.05720000000000001, 0.11259999999999999, 0.1637, 0.2151, 0.23720000000000002, 0.18330000000000002], [0.0, 0.001, 0.0039000000000000007, 0.014600000000000002, 0.04000000000000001, 0.0752, 0.12169999999999999, 0.20789999999999997, 0.28029999999999994, 0.2554]], \"type\": \"heatmap\", \"colorscale\": \"Jet\"}], {\"width\": 500, \"titlefont\": {\"color\": \"#FFF\"}, \"yaxis\": {\"tickcolor\": \"#FFF\", \"title\": \"True Class\", \"range\": [9.5, 0.5], \"dtick\": 1}, \"height\": 500, \"paper_bgcolor\": \"#000\", \"title\": \"Choice after 50000 Iterations at Glimpse 0\", \"xaxis\": {\"tickcolor\": \"#FFF\", \"title\": \"Predicted Class\", \"range\": [0.5, 9.5], \"dtick\": 1}, \"font\": {\"color\": \"#FFF\"}, \"plot_bgcolor\": \"#000\"}, {\"showLink\": true, \"linkText\": \"Export to plot.ly\"})});</script>"
      ],
      "text/vnd.plotly.v1+html": [
       "<div id=\"f9829b0d-c561-4237-b23a-e873fcaa9711\" style=\"height: 500px; width: 500px;\" class=\"plotly-graph-div\"></div><script type=\"text/javascript\">require([\"plotly\"], function(Plotly) { window.PLOTLYENV=window.PLOTLYENV || {};window.PLOTLYENV.BASE_URL=\"https://plot.ly\";Plotly.newPlot(\"f9829b0d-c561-4237-b23a-e873fcaa9711\", [{\"z\": [[0.0, 0.0, 0.0, 0.0, 0.0, 0.0, 0.0, 0.0, 0.0, 0.0], [0.0, 0.9521999999999998, 0.0463, 0.0008, 0.00030000000000000003, 0.0, 0.0002, 0.0001, 0.0, 0.0001], [0.0, 0.40210000000000007, 0.4403, 0.1135, 0.0329, 0.008000000000000002, 0.0019000000000000002, 0.0008, 0.0005, 0.0], [0.0, 0.09290000000000001, 0.3829, 0.28409999999999996, 0.16169999999999998, 0.0518, 0.0137, 0.007000000000000002, 0.0046, 0.0013000000000000002], [0.0, 0.025100000000000004, 0.16540000000000002, 0.264, 0.27459999999999996, 0.15899999999999997, 0.0631, 0.0251, 0.0164, 0.007299999999999999], [0.0, 0.0097, 0.05970000000000001, 0.15309999999999999, 0.2631, 0.22480000000000003, 0.1407, 0.08520000000000001, 0.044899999999999995, 0.018800000000000004], [0.0, 0.0035000000000000005, 0.0224, 0.079, 0.1778, 0.2222, 0.19970000000000002, 0.14379999999999998, 0.0987, 0.0529], [0.0, 0.0028, 0.01, 0.038, 0.10049999999999999, 0.1693, 0.2012, 0.2032, 0.1639, 0.1111], [0.0, 0.002, 0.0075000000000000015, 0.021400000000000002, 0.05720000000000001, 0.11259999999999999, 0.1637, 0.2151, 0.23720000000000002, 0.18330000000000002], [0.0, 0.001, 0.0039000000000000007, 0.014600000000000002, 0.04000000000000001, 0.0752, 0.12169999999999999, 0.20789999999999997, 0.28029999999999994, 0.2554]], \"type\": \"heatmap\", \"colorscale\": \"Jet\"}], {\"width\": 500, \"titlefont\": {\"color\": \"#FFF\"}, \"yaxis\": {\"tickcolor\": \"#FFF\", \"title\": \"True Class\", \"range\": [9.5, 0.5], \"dtick\": 1}, \"height\": 500, \"paper_bgcolor\": \"#000\", \"title\": \"Choice after 50000 Iterations at Glimpse 0\", \"xaxis\": {\"tickcolor\": \"#FFF\", \"title\": \"Predicted Class\", \"range\": [0.5, 9.5], \"dtick\": 1}, \"font\": {\"color\": \"#FFF\"}, \"plot_bgcolor\": \"#000\"}, {\"showLink\": true, \"linkText\": \"Export to plot.ly\"})});</script>"
      ]
     },
     "metadata": {},
     "output_type": "display_data"
    },
    {
     "data": {
      "application/vnd.plotly.v1+json": {
       "data": [
        {
         "colorscale": "Jet",
         "type": "heatmap",
         "z": [
          [
           0,
           0,
           0,
           0,
           0,
           0,
           0,
           0,
           0,
           0
          ],
          [
           0,
           0.8218396473975851,
           0.15558863908641504,
           0.019060537932760052,
           0.0029273156548157856,
           0.00043978214769737007,
           9.910568324194802e-05,
           3.292239003677874e-05,
           8.00377954089773e-06,
           4.0494235173793685e-06
          ],
          [
           0,
           0.3095058231143657,
           0.40374677844849066,
           0.18519901103282663,
           0.0745120983048538,
           0.01956321455089835,
           0.004552663670429351,
           0.001873265665897918,
           0.0006916339375658447,
           0.0003555131771463582
          ],
          [
           0,
           0.06786174762615245,
           0.29828268962292787,
           0.2858666585350748,
           0.2092973532805762,
           0.08943250358163513,
           0.028850942071055673,
           0.013448319084112864,
           0.004851224235702706,
           0.0021085633621553304
          ],
          [
           0,
           0.01174172740603205,
           0.12991200668966557,
           0.22535685631364855,
           0.27642125802281586,
           0.1869393292376836,
           0.090766211961797,
           0.04945588544364839,
           0.020996804213329383,
           0.008409920267604131
          ],
          [
           0,
           0.0027121416166607636,
           0.04532016767962756,
           0.1258759169200503,
           0.23786265426458852,
           0.23133169718169957,
           0.15808622806909586,
           0.11450164618227876,
           0.05922533379114957,
           0.025084213616691352
          ],
          [
           0,
           0.0006795858543085723,
           0.014596342964571843,
           0.05912208864831355,
           0.1593607495416512,
           0.21126076849930833,
           0.19362341750025208,
           0.18222335806620263,
           0.12062662988075276,
           0.05850705869025621
          ],
          [
           0,
           0.0001357601201642613,
           0.005054752393812384,
           0.026549424946758538,
           0.08747950666850367,
           0.15484438040362983,
           0.18891257956899646,
           0.2310171445995249,
           0.1932188970234805,
           0.11278755380679242
          ],
          [
           0,
           0.00017158104249876907,
           0.0026789561570406753,
           0.013312282417552983,
           0.04715520050836576,
           0.1028229434388392,
           0.15723534308807502,
           0.24230270199794904,
           0.25840622731673973,
           0.17591476461101557
          ],
          [
           0,
           2.4716285706322348e-05,
           0.0012315576300622416,
           0.007456310444943997,
           0.024934672585066625,
           0.06464100432394537,
           0.11785870744060248,
           0.22912909625414177,
           0.309453718042752,
           0.245270217523264
          ]
         ]
        }
       ],
       "layout": {
        "font": {
         "color": "#FFF"
        },
        "height": 500,
        "paper_bgcolor": "#000",
        "plot_bgcolor": "#000",
        "title": "Confidence after 50000 Iterations at Glimpse 3",
        "titlefont": {
         "color": "#FFF"
        },
        "width": 500,
        "xaxis": {
         "dtick": 1,
         "range": [
          0.5,
          9.5
         ],
         "tickcolor": "#FFF",
         "title": "Predicted Class"
        },
        "yaxis": {
         "dtick": 1,
         "range": [
          9.5,
          0.5
         ],
         "tickcolor": "#FFF",
         "title": "True Class"
        }
       }
      },
      "text/html": [
       "<div id=\"bd4ac358-8611-4ced-8acc-cf206299e590\" style=\"height: 500px; width: 500px;\" class=\"plotly-graph-div\"></div><script type=\"text/javascript\">require([\"plotly\"], function(Plotly) { window.PLOTLYENV=window.PLOTLYENV || {};window.PLOTLYENV.BASE_URL=\"https://plot.ly\";Plotly.newPlot(\"bd4ac358-8611-4ced-8acc-cf206299e590\", [{\"z\": [[0.0, 0.0, 0.0, 0.0, 0.0, 0.0, 0.0, 0.0, 0.0, 0.0], [0.0, 0.8218396473975851, 0.15558863908641504, 0.019060537932760052, 0.0029273156548157856, 0.00043978214769737007, 9.910568324194802e-05, 3.292239003677874e-05, 8.00377954089773e-06, 4.0494235173793685e-06], [0.0, 0.3095058231143657, 0.40374677844849066, 0.18519901103282663, 0.0745120983048538, 0.01956321455089835, 0.004552663670429351, 0.001873265665897918, 0.0006916339375658447, 0.0003555131771463582], [0.0, 0.06786174762615245, 0.29828268962292787, 0.2858666585350748, 0.2092973532805762, 0.08943250358163513, 0.028850942071055673, 0.013448319084112864, 0.004851224235702706, 0.0021085633621553304], [0.0, 0.01174172740603205, 0.12991200668966557, 0.22535685631364855, 0.27642125802281586, 0.1869393292376836, 0.090766211961797, 0.04945588544364839, 0.020996804213329383, 0.008409920267604131], [0.0, 0.0027121416166607636, 0.04532016767962756, 0.1258759169200503, 0.23786265426458852, 0.23133169718169957, 0.15808622806909586, 0.11450164618227876, 0.05922533379114957, 0.025084213616691352], [0.0, 0.0006795858543085723, 0.014596342964571843, 0.05912208864831355, 0.1593607495416512, 0.21126076849930833, 0.19362341750025208, 0.18222335806620263, 0.12062662988075276, 0.05850705869025621], [0.0, 0.0001357601201642613, 0.005054752393812384, 0.026549424946758538, 0.08747950666850367, 0.15484438040362983, 0.18891257956899646, 0.2310171445995249, 0.1932188970234805, 0.11278755380679242], [0.0, 0.00017158104249876907, 0.0026789561570406753, 0.013312282417552983, 0.04715520050836576, 0.1028229434388392, 0.15723534308807502, 0.24230270199794904, 0.25840622731673973, 0.17591476461101557], [0.0, 2.4716285706322348e-05, 0.0012315576300622416, 0.007456310444943997, 0.024934672585066625, 0.06464100432394537, 0.11785870744060248, 0.22912909625414177, 0.309453718042752, 0.245270217523264]], \"type\": \"heatmap\", \"colorscale\": \"Jet\"}], {\"width\": 500, \"titlefont\": {\"color\": \"#FFF\"}, \"yaxis\": {\"tickcolor\": \"#FFF\", \"title\": \"True Class\", \"range\": [9.5, 0.5], \"dtick\": 1}, \"height\": 500, \"paper_bgcolor\": \"#000\", \"title\": \"Confidence after 50000 Iterations at Glimpse 3\", \"xaxis\": {\"tickcolor\": \"#FFF\", \"title\": \"Predicted Class\", \"range\": [0.5, 9.5], \"dtick\": 1}, \"font\": {\"color\": \"#FFF\"}, \"plot_bgcolor\": \"#000\"}, {\"showLink\": true, \"linkText\": \"Export to plot.ly\"})});</script>"
      ],
      "text/vnd.plotly.v1+html": [
       "<div id=\"bd4ac358-8611-4ced-8acc-cf206299e590\" style=\"height: 500px; width: 500px;\" class=\"plotly-graph-div\"></div><script type=\"text/javascript\">require([\"plotly\"], function(Plotly) { window.PLOTLYENV=window.PLOTLYENV || {};window.PLOTLYENV.BASE_URL=\"https://plot.ly\";Plotly.newPlot(\"bd4ac358-8611-4ced-8acc-cf206299e590\", [{\"z\": [[0.0, 0.0, 0.0, 0.0, 0.0, 0.0, 0.0, 0.0, 0.0, 0.0], [0.0, 0.8218396473975851, 0.15558863908641504, 0.019060537932760052, 0.0029273156548157856, 0.00043978214769737007, 9.910568324194802e-05, 3.292239003677874e-05, 8.00377954089773e-06, 4.0494235173793685e-06], [0.0, 0.3095058231143657, 0.40374677844849066, 0.18519901103282663, 0.0745120983048538, 0.01956321455089835, 0.004552663670429351, 0.001873265665897918, 0.0006916339375658447, 0.0003555131771463582], [0.0, 0.06786174762615245, 0.29828268962292787, 0.2858666585350748, 0.2092973532805762, 0.08943250358163513, 0.028850942071055673, 0.013448319084112864, 0.004851224235702706, 0.0021085633621553304], [0.0, 0.01174172740603205, 0.12991200668966557, 0.22535685631364855, 0.27642125802281586, 0.1869393292376836, 0.090766211961797, 0.04945588544364839, 0.020996804213329383, 0.008409920267604131], [0.0, 0.0027121416166607636, 0.04532016767962756, 0.1258759169200503, 0.23786265426458852, 0.23133169718169957, 0.15808622806909586, 0.11450164618227876, 0.05922533379114957, 0.025084213616691352], [0.0, 0.0006795858543085723, 0.014596342964571843, 0.05912208864831355, 0.1593607495416512, 0.21126076849930833, 0.19362341750025208, 0.18222335806620263, 0.12062662988075276, 0.05850705869025621], [0.0, 0.0001357601201642613, 0.005054752393812384, 0.026549424946758538, 0.08747950666850367, 0.15484438040362983, 0.18891257956899646, 0.2310171445995249, 0.1932188970234805, 0.11278755380679242], [0.0, 0.00017158104249876907, 0.0026789561570406753, 0.013312282417552983, 0.04715520050836576, 0.1028229434388392, 0.15723534308807502, 0.24230270199794904, 0.25840622731673973, 0.17591476461101557], [0.0, 2.4716285706322348e-05, 0.0012315576300622416, 0.007456310444943997, 0.024934672585066625, 0.06464100432394537, 0.11785870744060248, 0.22912909625414177, 0.309453718042752, 0.245270217523264]], \"type\": \"heatmap\", \"colorscale\": \"Jet\"}], {\"width\": 500, \"titlefont\": {\"color\": \"#FFF\"}, \"yaxis\": {\"tickcolor\": \"#FFF\", \"title\": \"True Class\", \"range\": [9.5, 0.5], \"dtick\": 1}, \"height\": 500, \"paper_bgcolor\": \"#000\", \"title\": \"Confidence after 50000 Iterations at Glimpse 3\", \"xaxis\": {\"tickcolor\": \"#FFF\", \"title\": \"Predicted Class\", \"range\": [0.5, 9.5], \"dtick\": 1}, \"font\": {\"color\": \"#FFF\"}, \"plot_bgcolor\": \"#000\"}, {\"showLink\": true, \"linkText\": \"Export to plot.ly\"})});</script>"
      ]
     },
     "metadata": {},
     "output_type": "display_data"
    },
    {
     "data": {
      "application/vnd.plotly.v1+json": {
       "data": [
        {
         "colorscale": "Jet",
         "type": "heatmap",
         "z": [
          [
           0,
           0,
           0,
           0,
           0,
           0,
           0,
           0,
           0,
           0
          ],
          [
           0,
           0.9301,
           0.0689,
           0.0009000000000000001,
           0.0001,
           0,
           0,
           0,
           0,
           0
          ],
          [
           0,
           0.3364,
           0.4847,
           0.1296,
           0.0446,
           0.004200000000000001,
           0.0002,
           0,
           0.00030000000000000003,
           0
          ],
          [
           0,
           0.05960000000000001,
           0.35019999999999996,
           0.291,
           0.23959999999999998,
           0.047799999999999995,
           0.0066,
           0.0037000000000000006,
           0.0014,
           0.0001
          ],
          [
           0,
           0.0085,
           0.11839999999999999,
           0.2223,
           0.38709999999999994,
           0.17170000000000002,
           0.05910000000000001,
           0.0247,
           0.0063,
           0.0019000000000000002
          ],
          [
           0,
           0.0021000000000000003,
           0.026399999999999996,
           0.10500000000000001,
           0.3226,
           0.2606,
           0.1452,
           0.09709999999999999,
           0.0327,
           0.008300000000000002
          ],
          [
           0,
           0.0006000000000000001,
           0.004200000000000001,
           0.035,
           0.18849999999999997,
           0.2466,
           0.1941,
           0.1959,
           0.10290000000000002,
           0.032200000000000006
          ],
          [
           0,
           0,
           0.0005,
           0.014500000000000002,
           0.0758,
           0.1633,
           0.1947,
           0.2647,
           0.1988,
           0.0877
          ],
          [
           0,
           0.0002,
           0.0005,
           0.0055000000000000005,
           0.0335,
           0.09059999999999999,
           0.14630000000000004,
           0.2577,
           0.29489999999999994,
           0.1708
          ],
          [
           0,
           0,
           0.00030000000000000003,
           0.0031,
           0.013000000000000001,
           0.04590000000000001,
           0.0876,
           0.21059999999999998,
           0.36940000000000006,
           0.2701
          ]
         ]
        }
       ],
       "layout": {
        "font": {
         "color": "#FFF"
        },
        "height": 500,
        "paper_bgcolor": "#000",
        "plot_bgcolor": "#000",
        "title": "Choice after 50000 Iterations at Glimpse 3",
        "titlefont": {
         "color": "#FFF"
        },
        "width": 500,
        "xaxis": {
         "dtick": 1,
         "range": [
          0.5,
          9.5
         ],
         "tickcolor": "#FFF",
         "title": "Predicted Class"
        },
        "yaxis": {
         "dtick": 1,
         "range": [
          9.5,
          0.5
         ],
         "tickcolor": "#FFF",
         "title": "True Class"
        }
       }
      },
      "text/html": [
       "<div id=\"07670130-1700-4151-9e31-8ed6205e904c\" style=\"height: 500px; width: 500px;\" class=\"plotly-graph-div\"></div><script type=\"text/javascript\">require([\"plotly\"], function(Plotly) { window.PLOTLYENV=window.PLOTLYENV || {};window.PLOTLYENV.BASE_URL=\"https://plot.ly\";Plotly.newPlot(\"07670130-1700-4151-9e31-8ed6205e904c\", [{\"z\": [[0.0, 0.0, 0.0, 0.0, 0.0, 0.0, 0.0, 0.0, 0.0, 0.0], [0.0, 0.9301, 0.0689, 0.0009000000000000001, 0.0001, 0.0, 0.0, 0.0, 0.0, 0.0], [0.0, 0.3364, 0.4847, 0.1296, 0.0446, 0.004200000000000001, 0.0002, 0.0, 0.00030000000000000003, 0.0], [0.0, 0.05960000000000001, 0.35019999999999996, 0.291, 0.23959999999999998, 0.047799999999999995, 0.0066, 0.0037000000000000006, 0.0014, 0.0001], [0.0, 0.0085, 0.11839999999999999, 0.2223, 0.38709999999999994, 0.17170000000000002, 0.05910000000000001, 0.0247, 0.0063, 0.0019000000000000002], [0.0, 0.0021000000000000003, 0.026399999999999996, 0.10500000000000001, 0.3226, 0.2606, 0.1452, 0.09709999999999999, 0.0327, 0.008300000000000002], [0.0, 0.0006000000000000001, 0.004200000000000001, 0.035, 0.18849999999999997, 0.2466, 0.1941, 0.1959, 0.10290000000000002, 0.032200000000000006], [0.0, 0.0, 0.0005, 0.014500000000000002, 0.0758, 0.1633, 0.1947, 0.2647, 0.1988, 0.0877], [0.0, 0.0002, 0.0005, 0.0055000000000000005, 0.0335, 0.09059999999999999, 0.14630000000000004, 0.2577, 0.29489999999999994, 0.1708], [0.0, 0.0, 0.00030000000000000003, 0.0031, 0.013000000000000001, 0.04590000000000001, 0.0876, 0.21059999999999998, 0.36940000000000006, 0.2701]], \"type\": \"heatmap\", \"colorscale\": \"Jet\"}], {\"width\": 500, \"titlefont\": {\"color\": \"#FFF\"}, \"yaxis\": {\"tickcolor\": \"#FFF\", \"title\": \"True Class\", \"range\": [9.5, 0.5], \"dtick\": 1}, \"height\": 500, \"paper_bgcolor\": \"#000\", \"title\": \"Choice after 50000 Iterations at Glimpse 3\", \"xaxis\": {\"tickcolor\": \"#FFF\", \"title\": \"Predicted Class\", \"range\": [0.5, 9.5], \"dtick\": 1}, \"font\": {\"color\": \"#FFF\"}, \"plot_bgcolor\": \"#000\"}, {\"showLink\": true, \"linkText\": \"Export to plot.ly\"})});</script>"
      ],
      "text/vnd.plotly.v1+html": [
       "<div id=\"07670130-1700-4151-9e31-8ed6205e904c\" style=\"height: 500px; width: 500px;\" class=\"plotly-graph-div\"></div><script type=\"text/javascript\">require([\"plotly\"], function(Plotly) { window.PLOTLYENV=window.PLOTLYENV || {};window.PLOTLYENV.BASE_URL=\"https://plot.ly\";Plotly.newPlot(\"07670130-1700-4151-9e31-8ed6205e904c\", [{\"z\": [[0.0, 0.0, 0.0, 0.0, 0.0, 0.0, 0.0, 0.0, 0.0, 0.0], [0.0, 0.9301, 0.0689, 0.0009000000000000001, 0.0001, 0.0, 0.0, 0.0, 0.0, 0.0], [0.0, 0.3364, 0.4847, 0.1296, 0.0446, 0.004200000000000001, 0.0002, 0.0, 0.00030000000000000003, 0.0], [0.0, 0.05960000000000001, 0.35019999999999996, 0.291, 0.23959999999999998, 0.047799999999999995, 0.0066, 0.0037000000000000006, 0.0014, 0.0001], [0.0, 0.0085, 0.11839999999999999, 0.2223, 0.38709999999999994, 0.17170000000000002, 0.05910000000000001, 0.0247, 0.0063, 0.0019000000000000002], [0.0, 0.0021000000000000003, 0.026399999999999996, 0.10500000000000001, 0.3226, 0.2606, 0.1452, 0.09709999999999999, 0.0327, 0.008300000000000002], [0.0, 0.0006000000000000001, 0.004200000000000001, 0.035, 0.18849999999999997, 0.2466, 0.1941, 0.1959, 0.10290000000000002, 0.032200000000000006], [0.0, 0.0, 0.0005, 0.014500000000000002, 0.0758, 0.1633, 0.1947, 0.2647, 0.1988, 0.0877], [0.0, 0.0002, 0.0005, 0.0055000000000000005, 0.0335, 0.09059999999999999, 0.14630000000000004, 0.2577, 0.29489999999999994, 0.1708], [0.0, 0.0, 0.00030000000000000003, 0.0031, 0.013000000000000001, 0.04590000000000001, 0.0876, 0.21059999999999998, 0.36940000000000006, 0.2701]], \"type\": \"heatmap\", \"colorscale\": \"Jet\"}], {\"width\": 500, \"titlefont\": {\"color\": \"#FFF\"}, \"yaxis\": {\"tickcolor\": \"#FFF\", \"title\": \"True Class\", \"range\": [9.5, 0.5], \"dtick\": 1}, \"height\": 500, \"paper_bgcolor\": \"#000\", \"title\": \"Choice after 50000 Iterations at Glimpse 3\", \"xaxis\": {\"tickcolor\": \"#FFF\", \"title\": \"Predicted Class\", \"range\": [0.5, 9.5], \"dtick\": 1}, \"font\": {\"color\": \"#FFF\"}, \"plot_bgcolor\": \"#000\"}, {\"showLink\": true, \"linkText\": \"Export to plot.ly\"})});</script>"
      ]
     },
     "metadata": {},
     "output_type": "display_data"
    },
    {
     "data": {
      "application/vnd.plotly.v1+json": {
       "data": [
        {
         "colorscale": "Jet",
         "type": "heatmap",
         "z": [
          [
           0,
           0,
           0,
           0,
           0,
           0,
           0,
           0,
           0,
           0
          ],
          [
           0,
           0.8093393191709183,
           0.16469978900759016,
           0.02197455913637659,
           0.003251969078149788,
           0.0005826669722140614,
           0.00010587588692059222,
           3.139339208932191e-05,
           1.068398824857393e-05,
           3.7460234577678363e-06
          ],
          [
           0,
           0.33336315049957904,
           0.3820600530760654,
           0.18243968553272866,
           0.07371118006522809,
           0.02095140656105146,
           0.004604525178211359,
           0.0018721455499082665,
           0.0006909603443603204,
           0.00030689530732965457
          ],
          [
           0,
           0.0829972340022209,
           0.29374239091797,
           0.2823195462706266,
           0.20221967292705312,
           0.09069845530080693,
           0.02836427005144761,
           0.012604434833255369,
           0.005009801855958529,
           0.0020441939570325944
          ],
          [
           0,
           0.015670579891088367,
           0.13688769954640073,
           0.22957543430900546,
           0.27034929095967086,
           0.18535469249225286,
           0.08639040248823726,
           0.046642730838476,
           0.02115528308517368,
           0.007973886868679968
          ],
          [
           0,
           0.0038073341065337288,
           0.05049289368656298,
           0.1354600783342067,
           0.2399491999956343,
           0.23391563457765585,
           0.1486354030285418,
           0.10646044838235073,
           0.05772380678415617,
           0.023555200893600983
          ],
          [
           0,
           0.0008785095977668956,
           0.017118096053791824,
           0.06815432335124452,
           0.16852147482461288,
           0.22110030934267272,
           0.18269572648919416,
           0.16974596515801288,
           0.11667781011226834,
           0.05510778645414934
          ],
          [
           0,
           0.00026575273116756433,
           0.005907091315637789,
           0.03149531690347155,
           0.09866460004065572,
           0.168743309297433,
           0.17947476635272616,
           0.2194641494124924,
           0.18876280539189977,
           0.10722220860023726
          ],
          [
           0,
           0.00026222041743720304,
           0.002694404311206252,
           0.015968205227533637,
           0.05649569197855113,
           0.11737121823282178,
           0.15253663480730903,
           0.2380750551033183,
           0.2493866293618805,
           0.16720994025225616
          ],
          [
           0,
           0.00011837125752984677,
           0.0013239400104455238,
           0.008570330148567243,
           0.03186045392013274,
           0.07765914984493665,
           0.1172267419234995,
           0.23073089198352248,
           0.30131653648005735,
           0.23119358456593106
          ]
         ]
        }
       ],
       "layout": {
        "font": {
         "color": "#FFF"
        },
        "height": 500,
        "paper_bgcolor": "#000",
        "plot_bgcolor": "#000",
        "title": "Confidence after 50000 Iterations at Glimpse 9",
        "titlefont": {
         "color": "#FFF"
        },
        "width": 500,
        "xaxis": {
         "dtick": 1,
         "range": [
          0.5,
          9.5
         ],
         "tickcolor": "#FFF",
         "title": "Predicted Class"
        },
        "yaxis": {
         "dtick": 1,
         "range": [
          9.5,
          0.5
         ],
         "tickcolor": "#FFF",
         "title": "True Class"
        }
       }
      },
      "text/html": [
       "<div id=\"9aaf6ce1-2c61-43a8-8c49-b35b1e01e11f\" style=\"height: 500px; width: 500px;\" class=\"plotly-graph-div\"></div><script type=\"text/javascript\">require([\"plotly\"], function(Plotly) { window.PLOTLYENV=window.PLOTLYENV || {};window.PLOTLYENV.BASE_URL=\"https://plot.ly\";Plotly.newPlot(\"9aaf6ce1-2c61-43a8-8c49-b35b1e01e11f\", [{\"z\": [[0.0, 0.0, 0.0, 0.0, 0.0, 0.0, 0.0, 0.0, 0.0, 0.0], [0.0, 0.8093393191709183, 0.16469978900759016, 0.02197455913637659, 0.003251969078149788, 0.0005826669722140614, 0.00010587588692059222, 3.139339208932191e-05, 1.068398824857393e-05, 3.7460234577678363e-06], [0.0, 0.33336315049957904, 0.3820600530760654, 0.18243968553272866, 0.07371118006522809, 0.02095140656105146, 0.004604525178211359, 0.0018721455499082665, 0.0006909603443603204, 0.00030689530732965457], [0.0, 0.0829972340022209, 0.29374239091797, 0.2823195462706266, 0.20221967292705312, 0.09069845530080693, 0.02836427005144761, 0.012604434833255369, 0.005009801855958529, 0.0020441939570325944], [0.0, 0.015670579891088367, 0.13688769954640073, 0.22957543430900546, 0.27034929095967086, 0.18535469249225286, 0.08639040248823726, 0.046642730838476, 0.02115528308517368, 0.007973886868679968], [0.0, 0.0038073341065337288, 0.05049289368656298, 0.1354600783342067, 0.2399491999956343, 0.23391563457765585, 0.1486354030285418, 0.10646044838235073, 0.05772380678415617, 0.023555200893600983], [0.0, 0.0008785095977668956, 0.017118096053791824, 0.06815432335124452, 0.16852147482461288, 0.22110030934267272, 0.18269572648919416, 0.16974596515801288, 0.11667781011226834, 0.05510778645414934], [0.0, 0.00026575273116756433, 0.005907091315637789, 0.03149531690347155, 0.09866460004065572, 0.168743309297433, 0.17947476635272616, 0.2194641494124924, 0.18876280539189977, 0.10722220860023726], [0.0, 0.00026222041743720304, 0.002694404311206252, 0.015968205227533637, 0.05649569197855113, 0.11737121823282178, 0.15253663480730903, 0.2380750551033183, 0.2493866293618805, 0.16720994025225616], [0.0, 0.00011837125752984677, 0.0013239400104455238, 0.008570330148567243, 0.03186045392013274, 0.07765914984493665, 0.1172267419234995, 0.23073089198352248, 0.30131653648005735, 0.23119358456593106]], \"type\": \"heatmap\", \"colorscale\": \"Jet\"}], {\"width\": 500, \"titlefont\": {\"color\": \"#FFF\"}, \"yaxis\": {\"tickcolor\": \"#FFF\", \"title\": \"True Class\", \"range\": [9.5, 0.5], \"dtick\": 1}, \"height\": 500, \"paper_bgcolor\": \"#000\", \"title\": \"Confidence after 50000 Iterations at Glimpse 9\", \"xaxis\": {\"tickcolor\": \"#FFF\", \"title\": \"Predicted Class\", \"range\": [0.5, 9.5], \"dtick\": 1}, \"font\": {\"color\": \"#FFF\"}, \"plot_bgcolor\": \"#000\"}, {\"showLink\": true, \"linkText\": \"Export to plot.ly\"})});</script>"
      ],
      "text/vnd.plotly.v1+html": [
       "<div id=\"9aaf6ce1-2c61-43a8-8c49-b35b1e01e11f\" style=\"height: 500px; width: 500px;\" class=\"plotly-graph-div\"></div><script type=\"text/javascript\">require([\"plotly\"], function(Plotly) { window.PLOTLYENV=window.PLOTLYENV || {};window.PLOTLYENV.BASE_URL=\"https://plot.ly\";Plotly.newPlot(\"9aaf6ce1-2c61-43a8-8c49-b35b1e01e11f\", [{\"z\": [[0.0, 0.0, 0.0, 0.0, 0.0, 0.0, 0.0, 0.0, 0.0, 0.0], [0.0, 0.8093393191709183, 0.16469978900759016, 0.02197455913637659, 0.003251969078149788, 0.0005826669722140614, 0.00010587588692059222, 3.139339208932191e-05, 1.068398824857393e-05, 3.7460234577678363e-06], [0.0, 0.33336315049957904, 0.3820600530760654, 0.18243968553272866, 0.07371118006522809, 0.02095140656105146, 0.004604525178211359, 0.0018721455499082665, 0.0006909603443603204, 0.00030689530732965457], [0.0, 0.0829972340022209, 0.29374239091797, 0.2823195462706266, 0.20221967292705312, 0.09069845530080693, 0.02836427005144761, 0.012604434833255369, 0.005009801855958529, 0.0020441939570325944], [0.0, 0.015670579891088367, 0.13688769954640073, 0.22957543430900546, 0.27034929095967086, 0.18535469249225286, 0.08639040248823726, 0.046642730838476, 0.02115528308517368, 0.007973886868679968], [0.0, 0.0038073341065337288, 0.05049289368656298, 0.1354600783342067, 0.2399491999956343, 0.23391563457765585, 0.1486354030285418, 0.10646044838235073, 0.05772380678415617, 0.023555200893600983], [0.0, 0.0008785095977668956, 0.017118096053791824, 0.06815432335124452, 0.16852147482461288, 0.22110030934267272, 0.18269572648919416, 0.16974596515801288, 0.11667781011226834, 0.05510778645414934], [0.0, 0.00026575273116756433, 0.005907091315637789, 0.03149531690347155, 0.09866460004065572, 0.168743309297433, 0.17947476635272616, 0.2194641494124924, 0.18876280539189977, 0.10722220860023726], [0.0, 0.00026222041743720304, 0.002694404311206252, 0.015968205227533637, 0.05649569197855113, 0.11737121823282178, 0.15253663480730903, 0.2380750551033183, 0.2493866293618805, 0.16720994025225616], [0.0, 0.00011837125752984677, 0.0013239400104455238, 0.008570330148567243, 0.03186045392013274, 0.07765914984493665, 0.1172267419234995, 0.23073089198352248, 0.30131653648005735, 0.23119358456593106]], \"type\": \"heatmap\", \"colorscale\": \"Jet\"}], {\"width\": 500, \"titlefont\": {\"color\": \"#FFF\"}, \"yaxis\": {\"tickcolor\": \"#FFF\", \"title\": \"True Class\", \"range\": [9.5, 0.5], \"dtick\": 1}, \"height\": 500, \"paper_bgcolor\": \"#000\", \"title\": \"Confidence after 50000 Iterations at Glimpse 9\", \"xaxis\": {\"tickcolor\": \"#FFF\", \"title\": \"Predicted Class\", \"range\": [0.5, 9.5], \"dtick\": 1}, \"font\": {\"color\": \"#FFF\"}, \"plot_bgcolor\": \"#000\"}, {\"showLink\": true, \"linkText\": \"Export to plot.ly\"})});</script>"
      ]
     },
     "metadata": {},
     "output_type": "display_data"
    },
    {
     "data": {
      "application/vnd.plotly.v1+json": {
       "data": [
        {
         "colorscale": "Jet",
         "type": "heatmap",
         "z": [
          [
           0,
           0,
           0,
           0,
           0,
           0,
           0,
           0,
           0,
           0
          ],
          [
           0,
           0.9458,
           0.0536,
           0.0006000000000000001,
           0,
           0,
           0,
           0,
           0,
           0
          ],
          [
           0,
           0.3698,
           0.4574,
           0.1309,
           0.0393,
           0.0023,
           0,
           0.00030000000000000003,
           0,
           0
          ],
          [
           0,
           0.07339999999999999,
           0.35090000000000005,
           0.28659999999999997,
           0.242,
           0.039900000000000005,
           0.0038000000000000004,
           0.0028,
           0.0006000000000000001,
           0
          ],
          [
           0,
           0.010700000000000001,
           0.12569999999999998,
           0.22139999999999999,
           0.41130000000000005,
           0.1629,
           0.042100000000000005,
           0.020399999999999998,
           0.0048000000000000004,
           0.0007
          ],
          [
           0,
           0.0023,
           0.027399999999999997,
           0.10640000000000001,
           0.35429999999999995,
           0.2611,
           0.1238,
           0.0938,
           0.0264,
           0.004500000000000001
          ],
          [
           0,
           0.0005,
           0.0040999999999999995,
           0.0376,
           0.20800000000000002,
           0.266,
           0.1725,
           0.19319999999999998,
           0.09040000000000001,
           0.027700000000000002
          ],
          [
           0,
           0.0001,
           0.0010000000000000002,
           0.0125,
           0.08959999999999999,
           0.17830000000000001,
           0.17439999999999997,
           0.2702,
           0.19019999999999998,
           0.0837
          ],
          [
           0,
           0.00030000000000000003,
           0.00030000000000000003,
           0.0054,
           0.04,
           0.0999,
           0.12630000000000002,
           0.2751,
           0.2876,
           0.16509999999999997
          ],
          [
           0,
           0.0001,
           0.0002,
           0.0034000000000000002,
           0.014100000000000001,
           0.0553,
           0.07730000000000001,
           0.22400000000000003,
           0.3663,
           0.25930000000000003
          ]
         ]
        }
       ],
       "layout": {
        "font": {
         "color": "#FFF"
        },
        "height": 500,
        "paper_bgcolor": "#000",
        "plot_bgcolor": "#000",
        "title": "Choice after 50000 Iterations at Glimpse 9",
        "titlefont": {
         "color": "#FFF"
        },
        "width": 500,
        "xaxis": {
         "dtick": 1,
         "range": [
          0.5,
          9.5
         ],
         "tickcolor": "#FFF",
         "title": "Predicted Class"
        },
        "yaxis": {
         "dtick": 1,
         "range": [
          9.5,
          0.5
         ],
         "tickcolor": "#FFF",
         "title": "True Class"
        }
       }
      },
      "text/html": [
       "<div id=\"75b0aed4-2336-4f2a-9d67-8b65da987530\" style=\"height: 500px; width: 500px;\" class=\"plotly-graph-div\"></div><script type=\"text/javascript\">require([\"plotly\"], function(Plotly) { window.PLOTLYENV=window.PLOTLYENV || {};window.PLOTLYENV.BASE_URL=\"https://plot.ly\";Plotly.newPlot(\"75b0aed4-2336-4f2a-9d67-8b65da987530\", [{\"z\": [[0.0, 0.0, 0.0, 0.0, 0.0, 0.0, 0.0, 0.0, 0.0, 0.0], [0.0, 0.9458, 0.0536, 0.0006000000000000001, 0.0, 0.0, 0.0, 0.0, 0.0, 0.0], [0.0, 0.3698, 0.4574, 0.1309, 0.0393, 0.0023, 0.0, 0.00030000000000000003, 0.0, 0.0], [0.0, 0.07339999999999999, 0.35090000000000005, 0.28659999999999997, 0.242, 0.039900000000000005, 0.0038000000000000004, 0.0028, 0.0006000000000000001, 0.0], [0.0, 0.010700000000000001, 0.12569999999999998, 0.22139999999999999, 0.41130000000000005, 0.1629, 0.042100000000000005, 0.020399999999999998, 0.0048000000000000004, 0.0007], [0.0, 0.0023, 0.027399999999999997, 0.10640000000000001, 0.35429999999999995, 0.2611, 0.1238, 0.0938, 0.0264, 0.004500000000000001], [0.0, 0.0005, 0.0040999999999999995, 0.0376, 0.20800000000000002, 0.266, 0.1725, 0.19319999999999998, 0.09040000000000001, 0.027700000000000002], [0.0, 0.0001, 0.0010000000000000002, 0.0125, 0.08959999999999999, 0.17830000000000001, 0.17439999999999997, 0.2702, 0.19019999999999998, 0.0837], [0.0, 0.00030000000000000003, 0.00030000000000000003, 0.0054, 0.04, 0.0999, 0.12630000000000002, 0.2751, 0.2876, 0.16509999999999997], [0.0, 0.0001, 0.0002, 0.0034000000000000002, 0.014100000000000001, 0.0553, 0.07730000000000001, 0.22400000000000003, 0.3663, 0.25930000000000003]], \"type\": \"heatmap\", \"colorscale\": \"Jet\"}], {\"width\": 500, \"titlefont\": {\"color\": \"#FFF\"}, \"yaxis\": {\"tickcolor\": \"#FFF\", \"title\": \"True Class\", \"range\": [9.5, 0.5], \"dtick\": 1}, \"height\": 500, \"paper_bgcolor\": \"#000\", \"title\": \"Choice after 50000 Iterations at Glimpse 9\", \"xaxis\": {\"tickcolor\": \"#FFF\", \"title\": \"Predicted Class\", \"range\": [0.5, 9.5], \"dtick\": 1}, \"font\": {\"color\": \"#FFF\"}, \"plot_bgcolor\": \"#000\"}, {\"showLink\": true, \"linkText\": \"Export to plot.ly\"})});</script>"
      ],
      "text/vnd.plotly.v1+html": [
       "<div id=\"75b0aed4-2336-4f2a-9d67-8b65da987530\" style=\"height: 500px; width: 500px;\" class=\"plotly-graph-div\"></div><script type=\"text/javascript\">require([\"plotly\"], function(Plotly) { window.PLOTLYENV=window.PLOTLYENV || {};window.PLOTLYENV.BASE_URL=\"https://plot.ly\";Plotly.newPlot(\"75b0aed4-2336-4f2a-9d67-8b65da987530\", [{\"z\": [[0.0, 0.0, 0.0, 0.0, 0.0, 0.0, 0.0, 0.0, 0.0, 0.0], [0.0, 0.9458, 0.0536, 0.0006000000000000001, 0.0, 0.0, 0.0, 0.0, 0.0, 0.0], [0.0, 0.3698, 0.4574, 0.1309, 0.0393, 0.0023, 0.0, 0.00030000000000000003, 0.0, 0.0], [0.0, 0.07339999999999999, 0.35090000000000005, 0.28659999999999997, 0.242, 0.039900000000000005, 0.0038000000000000004, 0.0028, 0.0006000000000000001, 0.0], [0.0, 0.010700000000000001, 0.12569999999999998, 0.22139999999999999, 0.41130000000000005, 0.1629, 0.042100000000000005, 0.020399999999999998, 0.0048000000000000004, 0.0007], [0.0, 0.0023, 0.027399999999999997, 0.10640000000000001, 0.35429999999999995, 0.2611, 0.1238, 0.0938, 0.0264, 0.004500000000000001], [0.0, 0.0005, 0.0040999999999999995, 0.0376, 0.20800000000000002, 0.266, 0.1725, 0.19319999999999998, 0.09040000000000001, 0.027700000000000002], [0.0, 0.0001, 0.0010000000000000002, 0.0125, 0.08959999999999999, 0.17830000000000001, 0.17439999999999997, 0.2702, 0.19019999999999998, 0.0837], [0.0, 0.00030000000000000003, 0.00030000000000000003, 0.0054, 0.04, 0.0999, 0.12630000000000002, 0.2751, 0.2876, 0.16509999999999997], [0.0, 0.0001, 0.0002, 0.0034000000000000002, 0.014100000000000001, 0.0553, 0.07730000000000001, 0.22400000000000003, 0.3663, 0.25930000000000003]], \"type\": \"heatmap\", \"colorscale\": \"Jet\"}], {\"width\": 500, \"titlefont\": {\"color\": \"#FFF\"}, \"yaxis\": {\"tickcolor\": \"#FFF\", \"title\": \"True Class\", \"range\": [9.5, 0.5], \"dtick\": 1}, \"height\": 500, \"paper_bgcolor\": \"#000\", \"title\": \"Choice after 50000 Iterations at Glimpse 9\", \"xaxis\": {\"tickcolor\": \"#FFF\", \"title\": \"Predicted Class\", \"range\": [0.5, 9.5], \"dtick\": 1}, \"font\": {\"color\": \"#FFF\"}, \"plot_bgcolor\": \"#000\"}, {\"showLink\": true, \"linkText\": \"Export to plot.ly\"})});</script>"
      ]
     },
     "metadata": {},
     "output_type": "display_data"
    },
    {
     "data": {
      "application/vnd.plotly.v1+json": {
       "data": [
        {
         "colorscale": "Jet",
         "type": "heatmap",
         "z": [
          [
           0,
           0,
           0,
           0,
           0,
           0,
           0,
           0,
           0,
           0
          ],
          [
           0,
           0.8818351119315253,
           0.10418875056224644,
           0.012098102958518759,
           0.001488024712781913,
           0.00031579839904525783,
           5.409653401951893e-05,
           1.6241029616891468e-05,
           2.2158654999754666e-06,
           1.660050294996062e-06
          ],
          [
           0,
           0.22002942241200887,
           0.49579265000188677,
           0.2075370618530588,
           0.05880594297246459,
           0.01358722958792236,
           0.003353681712841704,
           0.0006761733918463061,
           0.0001680481262216386,
           4.9790758403171545e-05
          ],
          [
           0,
           0.019340565365179446,
           0.31584350904924874,
           0.34469526378347065,
           0.19914516485510395,
           0.07857735522845982,
           0.030119744503463698,
           0.008958607037722083,
           0.0026392069728199802,
           0.0006805839529060876
          ],
          [
           0,
           0.0015493382964038129,
           0.11289294284311875,
           0.270724632754752,
           0.27588055662146066,
           0.17292541188286054,
           0.10101850465287225,
           0.043227692407286036,
           0.016699462702279316,
           0.005081459040368595
          ],
          [
           0,
           0.00010229593817501276,
           0.02929360661060506,
           0.14189546221563942,
           0.2392844654427162,
           0.2204712937166769,
           0.18507906784285005,
           0.10822367408277205,
           0.05428542745464828,
           0.021364706608752417
          ],
          [
           0,
           0.00010792157107238677,
           0.00745941460209443,
           0.05669496905672332,
           0.14943775755162508,
           0.196536539618103,
           0.23016818433860023,
           0.18149311460730094,
           0.11870640556109432,
           0.05939569350959989
          ],
          [
           0,
           5.545233228198009e-07,
           0.0018316397247285007,
           0.018571896153518556,
           0.07247343755087146,
           0.1344102114556984,
           0.2180684703561623,
           0.23026398344355398,
           0.1992433223614615,
           0.12513648435515679
          ],
          [
           0,
           1.2130960666024687e-05,
           0.00046196398881248504,
           0.006409358371426262,
           0.032250937339023,
           0.0817759486825889,
           0.17491912189496878,
           0.23601040703252368,
           0.2614599762629892,
           0.2067001554415578
          ],
          [
           0,
           1.086065728597224e-08,
           0.0001812503065163935,
           0.001874196293846673,
           0.01409472451323555,
           0.04495703646988765,
           0.12393923419991051,
           0.21331408012008177,
           0.3031393424803835,
           0.2985001253784905
          ]
         ]
        }
       ],
       "layout": {
        "font": {
         "color": "#FFF"
        },
        "height": 500,
        "paper_bgcolor": "#000",
        "plot_bgcolor": "#000",
        "title": "Confidence after 100000 Iterations at Glimpse 0",
        "titlefont": {
         "color": "#FFF"
        },
        "width": 500,
        "xaxis": {
         "dtick": 1,
         "range": [
          0.5,
          9.5
         ],
         "tickcolor": "#FFF",
         "title": "Predicted Class"
        },
        "yaxis": {
         "dtick": 1,
         "range": [
          9.5,
          0.5
         ],
         "tickcolor": "#FFF",
         "title": "True Class"
        }
       }
      },
      "text/html": [
       "<div id=\"5d3c087d-6e95-49f2-9351-70b729187726\" style=\"height: 500px; width: 500px;\" class=\"plotly-graph-div\"></div><script type=\"text/javascript\">require([\"plotly\"], function(Plotly) { window.PLOTLYENV=window.PLOTLYENV || {};window.PLOTLYENV.BASE_URL=\"https://plot.ly\";Plotly.newPlot(\"5d3c087d-6e95-49f2-9351-70b729187726\", [{\"z\": [[0.0, 0.0, 0.0, 0.0, 0.0, 0.0, 0.0, 0.0, 0.0, 0.0], [0.0, 0.8818351119315253, 0.10418875056224644, 0.012098102958518759, 0.001488024712781913, 0.00031579839904525783, 5.409653401951893e-05, 1.6241029616891468e-05, 2.2158654999754666e-06, 1.660050294996062e-06], [0.0, 0.22002942241200887, 0.49579265000188677, 0.2075370618530588, 0.05880594297246459, 0.01358722958792236, 0.003353681712841704, 0.0006761733918463061, 0.0001680481262216386, 4.9790758403171545e-05], [0.0, 0.019340565365179446, 0.31584350904924874, 0.34469526378347065, 0.19914516485510395, 0.07857735522845982, 0.030119744503463698, 0.008958607037722083, 0.0026392069728199802, 0.0006805839529060876], [0.0, 0.0015493382964038129, 0.11289294284311875, 0.270724632754752, 0.27588055662146066, 0.17292541188286054, 0.10101850465287225, 0.043227692407286036, 0.016699462702279316, 0.005081459040368595], [0.0, 0.00010229593817501276, 0.02929360661060506, 0.14189546221563942, 0.2392844654427162, 0.2204712937166769, 0.18507906784285005, 0.10822367408277205, 0.05428542745464828, 0.021364706608752417], [0.0, 0.00010792157107238677, 0.00745941460209443, 0.05669496905672332, 0.14943775755162508, 0.196536539618103, 0.23016818433860023, 0.18149311460730094, 0.11870640556109432, 0.05939569350959989], [0.0, 5.545233228198009e-07, 0.0018316397247285007, 0.018571896153518556, 0.07247343755087146, 0.1344102114556984, 0.2180684703561623, 0.23026398344355398, 0.1992433223614615, 0.12513648435515679], [0.0, 1.2130960666024687e-05, 0.00046196398881248504, 0.006409358371426262, 0.032250937339023, 0.0817759486825889, 0.17491912189496878, 0.23601040703252368, 0.2614599762629892, 0.2067001554415578], [0.0, 1.086065728597224e-08, 0.0001812503065163935, 0.001874196293846673, 0.01409472451323555, 0.04495703646988765, 0.12393923419991051, 0.21331408012008177, 0.3031393424803835, 0.2985001253784905]], \"type\": \"heatmap\", \"colorscale\": \"Jet\"}], {\"width\": 500, \"titlefont\": {\"color\": \"#FFF\"}, \"yaxis\": {\"tickcolor\": \"#FFF\", \"title\": \"True Class\", \"range\": [9.5, 0.5], \"dtick\": 1}, \"height\": 500, \"paper_bgcolor\": \"#000\", \"title\": \"Confidence after 100000 Iterations at Glimpse 0\", \"xaxis\": {\"tickcolor\": \"#FFF\", \"title\": \"Predicted Class\", \"range\": [0.5, 9.5], \"dtick\": 1}, \"font\": {\"color\": \"#FFF\"}, \"plot_bgcolor\": \"#000\"}, {\"showLink\": true, \"linkText\": \"Export to plot.ly\"})});</script>"
      ],
      "text/vnd.plotly.v1+html": [
       "<div id=\"5d3c087d-6e95-49f2-9351-70b729187726\" style=\"height: 500px; width: 500px;\" class=\"plotly-graph-div\"></div><script type=\"text/javascript\">require([\"plotly\"], function(Plotly) { window.PLOTLYENV=window.PLOTLYENV || {};window.PLOTLYENV.BASE_URL=\"https://plot.ly\";Plotly.newPlot(\"5d3c087d-6e95-49f2-9351-70b729187726\", [{\"z\": [[0.0, 0.0, 0.0, 0.0, 0.0, 0.0, 0.0, 0.0, 0.0, 0.0], [0.0, 0.8818351119315253, 0.10418875056224644, 0.012098102958518759, 0.001488024712781913, 0.00031579839904525783, 5.409653401951893e-05, 1.6241029616891468e-05, 2.2158654999754666e-06, 1.660050294996062e-06], [0.0, 0.22002942241200887, 0.49579265000188677, 0.2075370618530588, 0.05880594297246459, 0.01358722958792236, 0.003353681712841704, 0.0006761733918463061, 0.0001680481262216386, 4.9790758403171545e-05], [0.0, 0.019340565365179446, 0.31584350904924874, 0.34469526378347065, 0.19914516485510395, 0.07857735522845982, 0.030119744503463698, 0.008958607037722083, 0.0026392069728199802, 0.0006805839529060876], [0.0, 0.0015493382964038129, 0.11289294284311875, 0.270724632754752, 0.27588055662146066, 0.17292541188286054, 0.10101850465287225, 0.043227692407286036, 0.016699462702279316, 0.005081459040368595], [0.0, 0.00010229593817501276, 0.02929360661060506, 0.14189546221563942, 0.2392844654427162, 0.2204712937166769, 0.18507906784285005, 0.10822367408277205, 0.05428542745464828, 0.021364706608752417], [0.0, 0.00010792157107238677, 0.00745941460209443, 0.05669496905672332, 0.14943775755162508, 0.196536539618103, 0.23016818433860023, 0.18149311460730094, 0.11870640556109432, 0.05939569350959989], [0.0, 5.545233228198009e-07, 0.0018316397247285007, 0.018571896153518556, 0.07247343755087146, 0.1344102114556984, 0.2180684703561623, 0.23026398344355398, 0.1992433223614615, 0.12513648435515679], [0.0, 1.2130960666024687e-05, 0.00046196398881248504, 0.006409358371426262, 0.032250937339023, 0.0817759486825889, 0.17491912189496878, 0.23601040703252368, 0.2614599762629892, 0.2067001554415578], [0.0, 1.086065728597224e-08, 0.0001812503065163935, 0.001874196293846673, 0.01409472451323555, 0.04495703646988765, 0.12393923419991051, 0.21331408012008177, 0.3031393424803835, 0.2985001253784905]], \"type\": \"heatmap\", \"colorscale\": \"Jet\"}], {\"width\": 500, \"titlefont\": {\"color\": \"#FFF\"}, \"yaxis\": {\"tickcolor\": \"#FFF\", \"title\": \"True Class\", \"range\": [9.5, 0.5], \"dtick\": 1}, \"height\": 500, \"paper_bgcolor\": \"#000\", \"title\": \"Confidence after 100000 Iterations at Glimpse 0\", \"xaxis\": {\"tickcolor\": \"#FFF\", \"title\": \"Predicted Class\", \"range\": [0.5, 9.5], \"dtick\": 1}, \"font\": {\"color\": \"#FFF\"}, \"plot_bgcolor\": \"#000\"}, {\"showLink\": true, \"linkText\": \"Export to plot.ly\"})});</script>"
      ]
     },
     "metadata": {},
     "output_type": "display_data"
    },
    {
     "data": {
      "application/vnd.plotly.v1+json": {
       "data": [
        {
         "colorscale": "Jet",
         "type": "heatmap",
         "z": [
          [
           0,
           0,
           0,
           0,
           0,
           0,
           0,
           0,
           0,
           0
          ],
          [
           0,
           0.9772000000000001,
           0.0227,
           0.0001,
           0,
           0,
           0,
           0,
           0,
           0
          ],
          [
           0,
           0.22069999999999998,
           0.635,
           0.13419999999999999,
           0.009699999999999999,
           0.0002,
           0.0002,
           0,
           0,
           0
          ],
          [
           0,
           0.0097,
           0.3597,
           0.43080000000000007,
           0.1669,
           0.0253,
           0.0066,
           0.0009000000000000001,
           0.0001,
           0
          ],
          [
           0,
           0.0005,
           0.0844,
           0.33919999999999995,
           0.35750000000000004,
           0.129,
           0.0736,
           0.0137,
           0.0019,
           0.0002
          ],
          [
           0,
           0,
           0.010199999999999999,
           0.13169999999999998,
           0.32930000000000004,
           0.2232,
           0.2028,
           0.07720000000000002,
           0.0203,
           0.005300000000000001
          ],
          [
           0,
           0.0001,
           0.0027,
           0.0349,
           0.16829999999999998,
           0.18950000000000003,
           0.30789999999999995,
           0.1855,
           0.0789,
           0.0322
          ],
          [
           0,
           0,
           0.0006000000000000001,
           0.006500000000000001,
           0.058199999999999995,
           0.1065,
           0.278,
           0.2614,
           0.18950000000000003,
           0.09929999999999999
          ],
          [
           0,
           0,
           0.0001,
           0.0022,
           0.018099999999999998,
           0.0475,
           0.19020000000000004,
           0.2544,
           0.2698,
           0.2177
          ],
          [
           0,
           0,
           0.0001,
           0.00030000000000000003,
           0.0055000000000000005,
           0.017400000000000002,
           0.1046,
           0.1939,
           0.3207999999999999,
           0.35740000000000005
          ]
         ]
        }
       ],
       "layout": {
        "font": {
         "color": "#FFF"
        },
        "height": 500,
        "paper_bgcolor": "#000",
        "plot_bgcolor": "#000",
        "title": "Choice after 100000 Iterations at Glimpse 0",
        "titlefont": {
         "color": "#FFF"
        },
        "width": 500,
        "xaxis": {
         "dtick": 1,
         "range": [
          0.5,
          9.5
         ],
         "tickcolor": "#FFF",
         "title": "Predicted Class"
        },
        "yaxis": {
         "dtick": 1,
         "range": [
          9.5,
          0.5
         ],
         "tickcolor": "#FFF",
         "title": "True Class"
        }
       }
      },
      "text/html": [
       "<div id=\"7bce749c-b800-4376-88ad-c103dcd87632\" style=\"height: 500px; width: 500px;\" class=\"plotly-graph-div\"></div><script type=\"text/javascript\">require([\"plotly\"], function(Plotly) { window.PLOTLYENV=window.PLOTLYENV || {};window.PLOTLYENV.BASE_URL=\"https://plot.ly\";Plotly.newPlot(\"7bce749c-b800-4376-88ad-c103dcd87632\", [{\"z\": [[0.0, 0.0, 0.0, 0.0, 0.0, 0.0, 0.0, 0.0, 0.0, 0.0], [0.0, 0.9772000000000001, 0.0227, 0.0001, 0.0, 0.0, 0.0, 0.0, 0.0, 0.0], [0.0, 0.22069999999999998, 0.635, 0.13419999999999999, 0.009699999999999999, 0.0002, 0.0002, 0.0, 0.0, 0.0], [0.0, 0.0097, 0.3597, 0.43080000000000007, 0.1669, 0.0253, 0.0066, 0.0009000000000000001, 0.0001, 0.0], [0.0, 0.0005, 0.0844, 0.33919999999999995, 0.35750000000000004, 0.129, 0.0736, 0.0137, 0.0019, 0.0002], [0.0, 0.0, 0.010199999999999999, 0.13169999999999998, 0.32930000000000004, 0.2232, 0.2028, 0.07720000000000002, 0.0203, 0.005300000000000001], [0.0, 0.0001, 0.0027, 0.0349, 0.16829999999999998, 0.18950000000000003, 0.30789999999999995, 0.1855, 0.0789, 0.0322], [0.0, 0.0, 0.0006000000000000001, 0.006500000000000001, 0.058199999999999995, 0.1065, 0.278, 0.2614, 0.18950000000000003, 0.09929999999999999], [0.0, 0.0, 0.0001, 0.0022, 0.018099999999999998, 0.0475, 0.19020000000000004, 0.2544, 0.2698, 0.2177], [0.0, 0.0, 0.0001, 0.00030000000000000003, 0.0055000000000000005, 0.017400000000000002, 0.1046, 0.1939, 0.3207999999999999, 0.35740000000000005]], \"type\": \"heatmap\", \"colorscale\": \"Jet\"}], {\"width\": 500, \"titlefont\": {\"color\": \"#FFF\"}, \"yaxis\": {\"tickcolor\": \"#FFF\", \"title\": \"True Class\", \"range\": [9.5, 0.5], \"dtick\": 1}, \"height\": 500, \"paper_bgcolor\": \"#000\", \"title\": \"Choice after 100000 Iterations at Glimpse 0\", \"xaxis\": {\"tickcolor\": \"#FFF\", \"title\": \"Predicted Class\", \"range\": [0.5, 9.5], \"dtick\": 1}, \"font\": {\"color\": \"#FFF\"}, \"plot_bgcolor\": \"#000\"}, {\"showLink\": true, \"linkText\": \"Export to plot.ly\"})});</script>"
      ],
      "text/vnd.plotly.v1+html": [
       "<div id=\"7bce749c-b800-4376-88ad-c103dcd87632\" style=\"height: 500px; width: 500px;\" class=\"plotly-graph-div\"></div><script type=\"text/javascript\">require([\"plotly\"], function(Plotly) { window.PLOTLYENV=window.PLOTLYENV || {};window.PLOTLYENV.BASE_URL=\"https://plot.ly\";Plotly.newPlot(\"7bce749c-b800-4376-88ad-c103dcd87632\", [{\"z\": [[0.0, 0.0, 0.0, 0.0, 0.0, 0.0, 0.0, 0.0, 0.0, 0.0], [0.0, 0.9772000000000001, 0.0227, 0.0001, 0.0, 0.0, 0.0, 0.0, 0.0, 0.0], [0.0, 0.22069999999999998, 0.635, 0.13419999999999999, 0.009699999999999999, 0.0002, 0.0002, 0.0, 0.0, 0.0], [0.0, 0.0097, 0.3597, 0.43080000000000007, 0.1669, 0.0253, 0.0066, 0.0009000000000000001, 0.0001, 0.0], [0.0, 0.0005, 0.0844, 0.33919999999999995, 0.35750000000000004, 0.129, 0.0736, 0.0137, 0.0019, 0.0002], [0.0, 0.0, 0.010199999999999999, 0.13169999999999998, 0.32930000000000004, 0.2232, 0.2028, 0.07720000000000002, 0.0203, 0.005300000000000001], [0.0, 0.0001, 0.0027, 0.0349, 0.16829999999999998, 0.18950000000000003, 0.30789999999999995, 0.1855, 0.0789, 0.0322], [0.0, 0.0, 0.0006000000000000001, 0.006500000000000001, 0.058199999999999995, 0.1065, 0.278, 0.2614, 0.18950000000000003, 0.09929999999999999], [0.0, 0.0, 0.0001, 0.0022, 0.018099999999999998, 0.0475, 0.19020000000000004, 0.2544, 0.2698, 0.2177], [0.0, 0.0, 0.0001, 0.00030000000000000003, 0.0055000000000000005, 0.017400000000000002, 0.1046, 0.1939, 0.3207999999999999, 0.35740000000000005]], \"type\": \"heatmap\", \"colorscale\": \"Jet\"}], {\"width\": 500, \"titlefont\": {\"color\": \"#FFF\"}, \"yaxis\": {\"tickcolor\": \"#FFF\", \"title\": \"True Class\", \"range\": [9.5, 0.5], \"dtick\": 1}, \"height\": 500, \"paper_bgcolor\": \"#000\", \"title\": \"Choice after 100000 Iterations at Glimpse 0\", \"xaxis\": {\"tickcolor\": \"#FFF\", \"title\": \"Predicted Class\", \"range\": [0.5, 9.5], \"dtick\": 1}, \"font\": {\"color\": \"#FFF\"}, \"plot_bgcolor\": \"#000\"}, {\"showLink\": true, \"linkText\": \"Export to plot.ly\"})});</script>"
      ]
     },
     "metadata": {},
     "output_type": "display_data"
    },
    {
     "data": {
      "application/vnd.plotly.v1+json": {
       "data": [
        {
         "colorscale": "Jet",
         "type": "heatmap",
         "z": [
          [
           0,
           0,
           0,
           0,
           0,
           0,
           0,
           0,
           0,
           0
          ],
          [
           0,
           0.9211860218010843,
           0.0737868481986403,
           0.004750181925184579,
           0.0002612692631753894,
           1.535382905832776e-05,
           2.8752866865397817e-07,
           3.775444933260232e-08,
           1.4176125540412699e-09,
           1.2161701075221613e-09
          ],
          [
           0,
           0.1523435185488981,
           0.5834503017641729,
           0.21110050255258583,
           0.045897913498691774,
           0.006233213273214349,
           0.0008731828204056214,
           9.284404364420717e-05,
           7.813671321854502e-06,
           7.11420982993641e-07
          ],
          [
           0,
           0.00759887443136358,
           0.32081251290334695,
           0.37140371933879507,
           0.2057835433648739,
           0.06809927642830474,
           0.02120217026248115,
           0.0043808040086484356,
           0.0006376889494593272,
           8.141279108987888e-05
          ],
          [
           0,
           0.0002597364103067027,
           0.09972717274842167,
           0.275789601177061,
           0.30199473656701736,
           0.17674546940946112,
           0.09819375475158043,
           0.035844282242947695,
           0.009578157817193131,
           0.0018670883506343705
          ],
          [
           0,
           1.00340618101646e-06,
           0.020697146860791556,
           0.12892960515149007,
           0.25419299084257196,
           0.23219291188831556,
           0.19852775978505197,
           0.10865044880046057,
           0.044817493361636866,
           0.011990639331914025
          ],
          [
           0,
           1.5654790940088004e-07,
           0.0038007639156268647,
           0.04479755004014195,
           0.14438478796339188,
           0.1948332311915994,
           0.254031311451478,
           0.19642788072309067,
           0.11822861753859804,
           0.04349570140073637
          ],
          [
           0,
           2.839403090368673e-10,
           0.0004661791230974871,
           0.011608747011897161,
           0.061476291697665573,
           0.12097894645040341,
           0.23154070238247515,
           0.25239154060797303,
           0.2119996357865091,
           0.10953795659150314
          ],
          [
           0,
           2.3928146062888042e-11,
           0.00016735617433879523,
           0.003174075614647676,
           0.022470873915762125,
           0.06168201965949542,
           0.16771338638519379,
           0.2500479349429719,
           0.2923282866490834,
           0.20241606668450923
          ],
          [
           0,
           7.53422158157584e-15,
           5.478832288873617e-05,
           0.0008064270485544075,
           0.007487971067092629,
           0.028064682767865595,
           0.10533184129109849,
           0.2150792944075452,
           0.3372746112024304,
           0.3059003845483163
          ]
         ]
        }
       ],
       "layout": {
        "font": {
         "color": "#FFF"
        },
        "height": 500,
        "paper_bgcolor": "#000",
        "plot_bgcolor": "#000",
        "title": "Confidence after 100000 Iterations at Glimpse 3",
        "titlefont": {
         "color": "#FFF"
        },
        "width": 500,
        "xaxis": {
         "dtick": 1,
         "range": [
          0.5,
          9.5
         ],
         "tickcolor": "#FFF",
         "title": "Predicted Class"
        },
        "yaxis": {
         "dtick": 1,
         "range": [
          9.5,
          0.5
         ],
         "tickcolor": "#FFF",
         "title": "True Class"
        }
       }
      },
      "text/html": [
       "<div id=\"3edbb6f0-8804-4f7c-8211-ab99fc8e5f11\" style=\"height: 500px; width: 500px;\" class=\"plotly-graph-div\"></div><script type=\"text/javascript\">require([\"plotly\"], function(Plotly) { window.PLOTLYENV=window.PLOTLYENV || {};window.PLOTLYENV.BASE_URL=\"https://plot.ly\";Plotly.newPlot(\"3edbb6f0-8804-4f7c-8211-ab99fc8e5f11\", [{\"z\": [[0.0, 0.0, 0.0, 0.0, 0.0, 0.0, 0.0, 0.0, 0.0, 0.0], [0.0, 0.9211860218010843, 0.0737868481986403, 0.004750181925184579, 0.0002612692631753894, 1.535382905832776e-05, 2.8752866865397817e-07, 3.775444933260232e-08, 1.4176125540412699e-09, 1.2161701075221613e-09], [0.0, 0.1523435185488981, 0.5834503017641729, 0.21110050255258583, 0.045897913498691774, 0.006233213273214349, 0.0008731828204056214, 9.284404364420717e-05, 7.813671321854502e-06, 7.11420982993641e-07], [0.0, 0.00759887443136358, 0.32081251290334695, 0.37140371933879507, 0.2057835433648739, 0.06809927642830474, 0.02120217026248115, 0.0043808040086484356, 0.0006376889494593272, 8.141279108987888e-05], [0.0, 0.0002597364103067027, 0.09972717274842167, 0.275789601177061, 0.30199473656701736, 0.17674546940946112, 0.09819375475158043, 0.035844282242947695, 0.009578157817193131, 0.0018670883506343705], [0.0, 1.00340618101646e-06, 0.020697146860791556, 0.12892960515149007, 0.25419299084257196, 0.23219291188831556, 0.19852775978505197, 0.10865044880046057, 0.044817493361636866, 0.011990639331914025], [0.0, 1.5654790940088004e-07, 0.0038007639156268647, 0.04479755004014195, 0.14438478796339188, 0.1948332311915994, 0.254031311451478, 0.19642788072309067, 0.11822861753859804, 0.04349570140073637], [0.0, 2.839403090368673e-10, 0.0004661791230974871, 0.011608747011897161, 0.061476291697665573, 0.12097894645040341, 0.23154070238247515, 0.25239154060797303, 0.2119996357865091, 0.10953795659150314], [0.0, 2.3928146062888042e-11, 0.00016735617433879523, 0.003174075614647676, 0.022470873915762125, 0.06168201965949542, 0.16771338638519379, 0.2500479349429719, 0.2923282866490834, 0.20241606668450923], [0.0, 7.53422158157584e-15, 5.478832288873617e-05, 0.0008064270485544075, 0.007487971067092629, 0.028064682767865595, 0.10533184129109849, 0.2150792944075452, 0.3372746112024304, 0.3059003845483163]], \"type\": \"heatmap\", \"colorscale\": \"Jet\"}], {\"width\": 500, \"titlefont\": {\"color\": \"#FFF\"}, \"yaxis\": {\"tickcolor\": \"#FFF\", \"title\": \"True Class\", \"range\": [9.5, 0.5], \"dtick\": 1}, \"height\": 500, \"paper_bgcolor\": \"#000\", \"title\": \"Confidence after 100000 Iterations at Glimpse 3\", \"xaxis\": {\"tickcolor\": \"#FFF\", \"title\": \"Predicted Class\", \"range\": [0.5, 9.5], \"dtick\": 1}, \"font\": {\"color\": \"#FFF\"}, \"plot_bgcolor\": \"#000\"}, {\"showLink\": true, \"linkText\": \"Export to plot.ly\"})});</script>"
      ],
      "text/vnd.plotly.v1+html": [
       "<div id=\"3edbb6f0-8804-4f7c-8211-ab99fc8e5f11\" style=\"height: 500px; width: 500px;\" class=\"plotly-graph-div\"></div><script type=\"text/javascript\">require([\"plotly\"], function(Plotly) { window.PLOTLYENV=window.PLOTLYENV || {};window.PLOTLYENV.BASE_URL=\"https://plot.ly\";Plotly.newPlot(\"3edbb6f0-8804-4f7c-8211-ab99fc8e5f11\", [{\"z\": [[0.0, 0.0, 0.0, 0.0, 0.0, 0.0, 0.0, 0.0, 0.0, 0.0], [0.0, 0.9211860218010843, 0.0737868481986403, 0.004750181925184579, 0.0002612692631753894, 1.535382905832776e-05, 2.8752866865397817e-07, 3.775444933260232e-08, 1.4176125540412699e-09, 1.2161701075221613e-09], [0.0, 0.1523435185488981, 0.5834503017641729, 0.21110050255258583, 0.045897913498691774, 0.006233213273214349, 0.0008731828204056214, 9.284404364420717e-05, 7.813671321854502e-06, 7.11420982993641e-07], [0.0, 0.00759887443136358, 0.32081251290334695, 0.37140371933879507, 0.2057835433648739, 0.06809927642830474, 0.02120217026248115, 0.0043808040086484356, 0.0006376889494593272, 8.141279108987888e-05], [0.0, 0.0002597364103067027, 0.09972717274842167, 0.275789601177061, 0.30199473656701736, 0.17674546940946112, 0.09819375475158043, 0.035844282242947695, 0.009578157817193131, 0.0018670883506343705], [0.0, 1.00340618101646e-06, 0.020697146860791556, 0.12892960515149007, 0.25419299084257196, 0.23219291188831556, 0.19852775978505197, 0.10865044880046057, 0.044817493361636866, 0.011990639331914025], [0.0, 1.5654790940088004e-07, 0.0038007639156268647, 0.04479755004014195, 0.14438478796339188, 0.1948332311915994, 0.254031311451478, 0.19642788072309067, 0.11822861753859804, 0.04349570140073637], [0.0, 2.839403090368673e-10, 0.0004661791230974871, 0.011608747011897161, 0.061476291697665573, 0.12097894645040341, 0.23154070238247515, 0.25239154060797303, 0.2119996357865091, 0.10953795659150314], [0.0, 2.3928146062888042e-11, 0.00016735617433879523, 0.003174075614647676, 0.022470873915762125, 0.06168201965949542, 0.16771338638519379, 0.2500479349429719, 0.2923282866490834, 0.20241606668450923], [0.0, 7.53422158157584e-15, 5.478832288873617e-05, 0.0008064270485544075, 0.007487971067092629, 0.028064682767865595, 0.10533184129109849, 0.2150792944075452, 0.3372746112024304, 0.3059003845483163]], \"type\": \"heatmap\", \"colorscale\": \"Jet\"}], {\"width\": 500, \"titlefont\": {\"color\": \"#FFF\"}, \"yaxis\": {\"tickcolor\": \"#FFF\", \"title\": \"True Class\", \"range\": [9.5, 0.5], \"dtick\": 1}, \"height\": 500, \"paper_bgcolor\": \"#000\", \"title\": \"Confidence after 100000 Iterations at Glimpse 3\", \"xaxis\": {\"tickcolor\": \"#FFF\", \"title\": \"Predicted Class\", \"range\": [0.5, 9.5], \"dtick\": 1}, \"font\": {\"color\": \"#FFF\"}, \"plot_bgcolor\": \"#000\"}, {\"showLink\": true, \"linkText\": \"Export to plot.ly\"})});</script>"
      ]
     },
     "metadata": {},
     "output_type": "display_data"
    },
    {
     "data": {
      "application/vnd.plotly.v1+json": {
       "data": [
        {
         "colorscale": "Jet",
         "type": "heatmap",
         "z": [
          [
           0,
           0,
           0,
           0,
           0,
           0,
           0,
           0,
           0,
           0
          ],
          [
           0,
           0.9809999999999999,
           0.019000000000000003,
           0,
           0,
           0,
           0,
           0,
           0,
           0
          ],
          [
           0,
           0.1412,
           0.7003,
           0.15030000000000002,
           0.0081,
           0.0001,
           0,
           0,
           0,
           0
          ],
          [
           0,
           0.0042,
           0.3395,
           0.44299999999999995,
           0.18030000000000002,
           0.028300000000000002,
           0.004600000000000001,
           0.0001,
           0,
           0
          ],
          [
           0,
           0,
           0.0738,
           0.31589999999999996,
           0.3735,
           0.14730000000000001,
           0.07579999999999999,
           0.013000000000000001,
           0.0007,
           0
          ],
          [
           0,
           0,
           0.008100000000000001,
           0.10940000000000001,
           0.3282,
           0.2213,
           0.22969999999999996,
           0.0837,
           0.0177,
           0.0019000000000000002
          ],
          [
           0,
           0,
           0.0009000000000000001,
           0.0256,
           0.15250000000000002,
           0.16910000000000003,
           0.34909999999999997,
           0.19820000000000002,
           0.0841,
           0.020499999999999997
          ],
          [
           0,
           0,
           0,
           0.0036000000000000003,
           0.0437,
           0.07900000000000001,
           0.3005,
           0.2811,
           0.21059999999999998,
           0.08149999999999999
          ],
          [
           0,
           0,
           0.0001,
           0.0006000000000000001,
           0.012199999999999999,
           0.026600000000000006,
           0.1739,
           0.2603,
           0.32230000000000003,
           0.20400000000000001
          ],
          [
           0,
           0,
           0.0001,
           0.0001,
           0.0019000000000000002,
           0.0067,
           0.0797,
           0.18650000000000003,
           0.3692000000000001,
           0.35580000000000006
          ]
         ]
        }
       ],
       "layout": {
        "font": {
         "color": "#FFF"
        },
        "height": 500,
        "paper_bgcolor": "#000",
        "plot_bgcolor": "#000",
        "title": "Choice after 100000 Iterations at Glimpse 3",
        "titlefont": {
         "color": "#FFF"
        },
        "width": 500,
        "xaxis": {
         "dtick": 1,
         "range": [
          0.5,
          9.5
         ],
         "tickcolor": "#FFF",
         "title": "Predicted Class"
        },
        "yaxis": {
         "dtick": 1,
         "range": [
          9.5,
          0.5
         ],
         "tickcolor": "#FFF",
         "title": "True Class"
        }
       }
      },
      "text/html": [
       "<div id=\"41287616-9130-4884-8542-5bb667749338\" style=\"height: 500px; width: 500px;\" class=\"plotly-graph-div\"></div><script type=\"text/javascript\">require([\"plotly\"], function(Plotly) { window.PLOTLYENV=window.PLOTLYENV || {};window.PLOTLYENV.BASE_URL=\"https://plot.ly\";Plotly.newPlot(\"41287616-9130-4884-8542-5bb667749338\", [{\"z\": [[0.0, 0.0, 0.0, 0.0, 0.0, 0.0, 0.0, 0.0, 0.0, 0.0], [0.0, 0.9809999999999999, 0.019000000000000003, 0.0, 0.0, 0.0, 0.0, 0.0, 0.0, 0.0], [0.0, 0.1412, 0.7003, 0.15030000000000002, 0.0081, 0.0001, 0.0, 0.0, 0.0, 0.0], [0.0, 0.0042, 0.3395, 0.44299999999999995, 0.18030000000000002, 0.028300000000000002, 0.004600000000000001, 0.0001, 0.0, 0.0], [0.0, 0.0, 0.0738, 0.31589999999999996, 0.3735, 0.14730000000000001, 0.07579999999999999, 0.013000000000000001, 0.0007, 0.0], [0.0, 0.0, 0.008100000000000001, 0.10940000000000001, 0.3282, 0.2213, 0.22969999999999996, 0.0837, 0.0177, 0.0019000000000000002], [0.0, 0.0, 0.0009000000000000001, 0.0256, 0.15250000000000002, 0.16910000000000003, 0.34909999999999997, 0.19820000000000002, 0.0841, 0.020499999999999997], [0.0, 0.0, 0.0, 0.0036000000000000003, 0.0437, 0.07900000000000001, 0.3005, 0.2811, 0.21059999999999998, 0.08149999999999999], [0.0, 0.0, 0.0001, 0.0006000000000000001, 0.012199999999999999, 0.026600000000000006, 0.1739, 0.2603, 0.32230000000000003, 0.20400000000000001], [0.0, 0.0, 0.0001, 0.0001, 0.0019000000000000002, 0.0067, 0.0797, 0.18650000000000003, 0.3692000000000001, 0.35580000000000006]], \"type\": \"heatmap\", \"colorscale\": \"Jet\"}], {\"width\": 500, \"titlefont\": {\"color\": \"#FFF\"}, \"yaxis\": {\"tickcolor\": \"#FFF\", \"title\": \"True Class\", \"range\": [9.5, 0.5], \"dtick\": 1}, \"height\": 500, \"paper_bgcolor\": \"#000\", \"title\": \"Choice after 100000 Iterations at Glimpse 3\", \"xaxis\": {\"tickcolor\": \"#FFF\", \"title\": \"Predicted Class\", \"range\": [0.5, 9.5], \"dtick\": 1}, \"font\": {\"color\": \"#FFF\"}, \"plot_bgcolor\": \"#000\"}, {\"showLink\": true, \"linkText\": \"Export to plot.ly\"})});</script>"
      ],
      "text/vnd.plotly.v1+html": [
       "<div id=\"41287616-9130-4884-8542-5bb667749338\" style=\"height: 500px; width: 500px;\" class=\"plotly-graph-div\"></div><script type=\"text/javascript\">require([\"plotly\"], function(Plotly) { window.PLOTLYENV=window.PLOTLYENV || {};window.PLOTLYENV.BASE_URL=\"https://plot.ly\";Plotly.newPlot(\"41287616-9130-4884-8542-5bb667749338\", [{\"z\": [[0.0, 0.0, 0.0, 0.0, 0.0, 0.0, 0.0, 0.0, 0.0, 0.0], [0.0, 0.9809999999999999, 0.019000000000000003, 0.0, 0.0, 0.0, 0.0, 0.0, 0.0, 0.0], [0.0, 0.1412, 0.7003, 0.15030000000000002, 0.0081, 0.0001, 0.0, 0.0, 0.0, 0.0], [0.0, 0.0042, 0.3395, 0.44299999999999995, 0.18030000000000002, 0.028300000000000002, 0.004600000000000001, 0.0001, 0.0, 0.0], [0.0, 0.0, 0.0738, 0.31589999999999996, 0.3735, 0.14730000000000001, 0.07579999999999999, 0.013000000000000001, 0.0007, 0.0], [0.0, 0.0, 0.008100000000000001, 0.10940000000000001, 0.3282, 0.2213, 0.22969999999999996, 0.0837, 0.0177, 0.0019000000000000002], [0.0, 0.0, 0.0009000000000000001, 0.0256, 0.15250000000000002, 0.16910000000000003, 0.34909999999999997, 0.19820000000000002, 0.0841, 0.020499999999999997], [0.0, 0.0, 0.0, 0.0036000000000000003, 0.0437, 0.07900000000000001, 0.3005, 0.2811, 0.21059999999999998, 0.08149999999999999], [0.0, 0.0, 0.0001, 0.0006000000000000001, 0.012199999999999999, 0.026600000000000006, 0.1739, 0.2603, 0.32230000000000003, 0.20400000000000001], [0.0, 0.0, 0.0001, 0.0001, 0.0019000000000000002, 0.0067, 0.0797, 0.18650000000000003, 0.3692000000000001, 0.35580000000000006]], \"type\": \"heatmap\", \"colorscale\": \"Jet\"}], {\"width\": 500, \"titlefont\": {\"color\": \"#FFF\"}, \"yaxis\": {\"tickcolor\": \"#FFF\", \"title\": \"True Class\", \"range\": [9.5, 0.5], \"dtick\": 1}, \"height\": 500, \"paper_bgcolor\": \"#000\", \"title\": \"Choice after 100000 Iterations at Glimpse 3\", \"xaxis\": {\"tickcolor\": \"#FFF\", \"title\": \"Predicted Class\", \"range\": [0.5, 9.5], \"dtick\": 1}, \"font\": {\"color\": \"#FFF\"}, \"plot_bgcolor\": \"#000\"}, {\"showLink\": true, \"linkText\": \"Export to plot.ly\"})});</script>"
      ]
     },
     "metadata": {},
     "output_type": "display_data"
    },
    {
     "data": {
      "application/vnd.plotly.v1+json": {
       "data": [
        {
         "colorscale": "Jet",
         "type": "heatmap",
         "z": [
          [
           0,
           0,
           0,
           0,
           0,
           0,
           0,
           0,
           0,
           0
          ],
          [
           0,
           0.914347782800719,
           0.0800805009527537,
           0.005225478821956861,
           0.0003054232414921419,
           3.9065216103118906e-05,
           4.957942879418246e-07,
           1.2535090010505747e-06,
           2.1072507272044574e-09,
           2.235798698042708e-09
          ],
          [
           0,
           0.1454075548243535,
           0.5931792718713176,
           0.20691365913183396,
           0.045882246392289716,
           0.007567803614789878,
           0.0009263676849660558,
           0.00011237553822114874,
           9.178088980187546e-06,
           1.5455594895193985e-06
          ],
          [
           0,
           0.007927945670150505,
           0.3232109423155818,
           0.3655755792053531,
           0.20254850581456316,
           0.0730542365067883,
           0.021698722901868812,
           0.005017171392001854,
           0.0008350215304879111,
           0.00013187657598795341
          ],
          [
           0,
           0.00035183364588349693,
           0.10304870736763791,
           0.2728274960059447,
           0.2946973617963594,
           0.1809487289930954,
           0.09658590103072069,
           0.0383083220690732,
           0.010854665797149785,
           0.0023769835715257534
          ],
          [
           0,
           3.241101110927741e-06,
           0.02324978081287813,
           0.13049259650134679,
           0.249635616815275,
           0.2354373347214307,
           0.19152718096307725,
           0.11014643674321509,
           0.045891844545327944,
           0.013615968927293462
          ],
          [
           0,
           2.1643349933767522e-07,
           0.0047512536914626775,
           0.04702799844547537,
           0.14695062115015348,
           0.19998562493758654,
           0.24091367143748466,
           0.19768604242106408,
           0.11722303986292815,
           0.04546153101081691
          ],
          [
           0,
           3.26174851434097e-10,
           0.0007077392600250041,
           0.012817358062159317,
           0.06582811558571477,
           0.12869153341694908,
           0.22390872798286146,
           0.25306648707957063,
           0.2059733136172793,
           0.10900672425556368
          ],
          [
           0,
           7.786515963523373e-10,
           0.00021730615522051888,
           0.0037379423666470506,
           0.026146084807569803,
           0.06898260649971036,
           0.16740370500697024,
           0.25617084418131275,
           0.2832358173056564,
           0.19410569378365217
          ],
          [
           0,
           2.1013687515654448e-14,
           4.4194665833525086e-05,
           0.0009392946728963845,
           0.009411257803746798,
           0.03348425483828726,
           0.10987382352698187,
           0.22377965013915674,
           0.3321702464564463,
           0.2902972787067934
          ]
         ]
        }
       ],
       "layout": {
        "font": {
         "color": "#FFF"
        },
        "height": 500,
        "paper_bgcolor": "#000",
        "plot_bgcolor": "#000",
        "title": "Confidence after 100000 Iterations at Glimpse 9",
        "titlefont": {
         "color": "#FFF"
        },
        "width": 500,
        "xaxis": {
         "dtick": 1,
         "range": [
          0.5,
          9.5
         ],
         "tickcolor": "#FFF",
         "title": "Predicted Class"
        },
        "yaxis": {
         "dtick": 1,
         "range": [
          9.5,
          0.5
         ],
         "tickcolor": "#FFF",
         "title": "True Class"
        }
       }
      },
      "text/html": [
       "<div id=\"0810cf44-d8dd-4130-9595-ff99865a1d24\" style=\"height: 500px; width: 500px;\" class=\"plotly-graph-div\"></div><script type=\"text/javascript\">require([\"plotly\"], function(Plotly) { window.PLOTLYENV=window.PLOTLYENV || {};window.PLOTLYENV.BASE_URL=\"https://plot.ly\";Plotly.newPlot(\"0810cf44-d8dd-4130-9595-ff99865a1d24\", [{\"z\": [[0.0, 0.0, 0.0, 0.0, 0.0, 0.0, 0.0, 0.0, 0.0, 0.0], [0.0, 0.914347782800719, 0.0800805009527537, 0.005225478821956861, 0.0003054232414921419, 3.9065216103118906e-05, 4.957942879418246e-07, 1.2535090010505747e-06, 2.1072507272044574e-09, 2.235798698042708e-09], [0.0, 0.1454075548243535, 0.5931792718713176, 0.20691365913183396, 0.045882246392289716, 0.007567803614789878, 0.0009263676849660558, 0.00011237553822114874, 9.178088980187546e-06, 1.5455594895193985e-06], [0.0, 0.007927945670150505, 0.3232109423155818, 0.3655755792053531, 0.20254850581456316, 0.0730542365067883, 0.021698722901868812, 0.005017171392001854, 0.0008350215304879111, 0.00013187657598795341], [0.0, 0.00035183364588349693, 0.10304870736763791, 0.2728274960059447, 0.2946973617963594, 0.1809487289930954, 0.09658590103072069, 0.0383083220690732, 0.010854665797149785, 0.0023769835715257534], [0.0, 3.241101110927741e-06, 0.02324978081287813, 0.13049259650134679, 0.249635616815275, 0.2354373347214307, 0.19152718096307725, 0.11014643674321509, 0.045891844545327944, 0.013615968927293462], [0.0, 2.1643349933767522e-07, 0.0047512536914626775, 0.04702799844547537, 0.14695062115015348, 0.19998562493758654, 0.24091367143748466, 0.19768604242106408, 0.11722303986292815, 0.04546153101081691], [0.0, 3.26174851434097e-10, 0.0007077392600250041, 0.012817358062159317, 0.06582811558571477, 0.12869153341694908, 0.22390872798286146, 0.25306648707957063, 0.2059733136172793, 0.10900672425556368], [0.0, 7.786515963523373e-10, 0.00021730615522051888, 0.0037379423666470506, 0.026146084807569803, 0.06898260649971036, 0.16740370500697024, 0.25617084418131275, 0.2832358173056564, 0.19410569378365217], [0.0, 2.1013687515654448e-14, 4.4194665833525086e-05, 0.0009392946728963845, 0.009411257803746798, 0.03348425483828726, 0.10987382352698187, 0.22377965013915674, 0.3321702464564463, 0.2902972787067934]], \"type\": \"heatmap\", \"colorscale\": \"Jet\"}], {\"width\": 500, \"titlefont\": {\"color\": \"#FFF\"}, \"yaxis\": {\"tickcolor\": \"#FFF\", \"title\": \"True Class\", \"range\": [9.5, 0.5], \"dtick\": 1}, \"height\": 500, \"paper_bgcolor\": \"#000\", \"title\": \"Confidence after 100000 Iterations at Glimpse 9\", \"xaxis\": {\"tickcolor\": \"#FFF\", \"title\": \"Predicted Class\", \"range\": [0.5, 9.5], \"dtick\": 1}, \"font\": {\"color\": \"#FFF\"}, \"plot_bgcolor\": \"#000\"}, {\"showLink\": true, \"linkText\": \"Export to plot.ly\"})});</script>"
      ],
      "text/vnd.plotly.v1+html": [
       "<div id=\"0810cf44-d8dd-4130-9595-ff99865a1d24\" style=\"height: 500px; width: 500px;\" class=\"plotly-graph-div\"></div><script type=\"text/javascript\">require([\"plotly\"], function(Plotly) { window.PLOTLYENV=window.PLOTLYENV || {};window.PLOTLYENV.BASE_URL=\"https://plot.ly\";Plotly.newPlot(\"0810cf44-d8dd-4130-9595-ff99865a1d24\", [{\"z\": [[0.0, 0.0, 0.0, 0.0, 0.0, 0.0, 0.0, 0.0, 0.0, 0.0], [0.0, 0.914347782800719, 0.0800805009527537, 0.005225478821956861, 0.0003054232414921419, 3.9065216103118906e-05, 4.957942879418246e-07, 1.2535090010505747e-06, 2.1072507272044574e-09, 2.235798698042708e-09], [0.0, 0.1454075548243535, 0.5931792718713176, 0.20691365913183396, 0.045882246392289716, 0.007567803614789878, 0.0009263676849660558, 0.00011237553822114874, 9.178088980187546e-06, 1.5455594895193985e-06], [0.0, 0.007927945670150505, 0.3232109423155818, 0.3655755792053531, 0.20254850581456316, 0.0730542365067883, 0.021698722901868812, 0.005017171392001854, 0.0008350215304879111, 0.00013187657598795341], [0.0, 0.00035183364588349693, 0.10304870736763791, 0.2728274960059447, 0.2946973617963594, 0.1809487289930954, 0.09658590103072069, 0.0383083220690732, 0.010854665797149785, 0.0023769835715257534], [0.0, 3.241101110927741e-06, 0.02324978081287813, 0.13049259650134679, 0.249635616815275, 0.2354373347214307, 0.19152718096307725, 0.11014643674321509, 0.045891844545327944, 0.013615968927293462], [0.0, 2.1643349933767522e-07, 0.0047512536914626775, 0.04702799844547537, 0.14695062115015348, 0.19998562493758654, 0.24091367143748466, 0.19768604242106408, 0.11722303986292815, 0.04546153101081691], [0.0, 3.26174851434097e-10, 0.0007077392600250041, 0.012817358062159317, 0.06582811558571477, 0.12869153341694908, 0.22390872798286146, 0.25306648707957063, 0.2059733136172793, 0.10900672425556368], [0.0, 7.786515963523373e-10, 0.00021730615522051888, 0.0037379423666470506, 0.026146084807569803, 0.06898260649971036, 0.16740370500697024, 0.25617084418131275, 0.2832358173056564, 0.19410569378365217], [0.0, 2.1013687515654448e-14, 4.4194665833525086e-05, 0.0009392946728963845, 0.009411257803746798, 0.03348425483828726, 0.10987382352698187, 0.22377965013915674, 0.3321702464564463, 0.2902972787067934]], \"type\": \"heatmap\", \"colorscale\": \"Jet\"}], {\"width\": 500, \"titlefont\": {\"color\": \"#FFF\"}, \"yaxis\": {\"tickcolor\": \"#FFF\", \"title\": \"True Class\", \"range\": [9.5, 0.5], \"dtick\": 1}, \"height\": 500, \"paper_bgcolor\": \"#000\", \"title\": \"Confidence after 100000 Iterations at Glimpse 9\", \"xaxis\": {\"tickcolor\": \"#FFF\", \"title\": \"Predicted Class\", \"range\": [0.5, 9.5], \"dtick\": 1}, \"font\": {\"color\": \"#FFF\"}, \"plot_bgcolor\": \"#000\"}, {\"showLink\": true, \"linkText\": \"Export to plot.ly\"})});</script>"
      ]
     },
     "metadata": {},
     "output_type": "display_data"
    },
    {
     "data": {
      "application/vnd.plotly.v1+json": {
       "data": [
        {
         "colorscale": "Jet",
         "type": "heatmap",
         "z": [
          [
           0,
           0,
           0,
           0,
           0,
           0,
           0,
           0,
           0,
           0
          ],
          [
           0,
           0.9731,
           0.026899999999999997,
           0,
           0,
           0,
           0,
           0,
           0,
           0
          ],
          [
           0,
           0.1386,
           0.7012,
           0.1522,
           0.008000000000000002,
           0,
           0,
           0,
           0,
           0
          ],
          [
           0,
           0.004100000000000001,
           0.33730000000000004,
           0.4465,
           0.1778,
           0.030100000000000005,
           0.004100000000000001,
           0.0001,
           0,
           0
          ],
          [
           0,
           0,
           0.0743,
           0.3143,
           0.3737,
           0.1508,
           0.07219999999999999,
           0.014000000000000002,
           0.0007,
           0
          ],
          [
           0,
           0,
           0.007200000000000001,
           0.10520000000000003,
           0.3315,
           0.2324,
           0.22359999999999994,
           0.0834,
           0.015500000000000003,
           0.0012000000000000001
          ],
          [
           0,
           0,
           0.0008,
           0.0229,
           0.16230000000000003,
           0.17590000000000003,
           0.32449999999999996,
           0.2141,
           0.0848,
           0.014700000000000001
          ],
          [
           0,
           0,
           0,
           0.0028000000000000004,
           0.0466,
           0.08360000000000001,
           0.287,
           0.3056,
           0.20059999999999997,
           0.0738
          ],
          [
           0,
           0,
           0,
           0.0005,
           0.0122,
           0.0264,
           0.16469999999999999,
           0.2893,
           0.31379999999999997,
           0.1931
          ],
          [
           0,
           0,
           0,
           0.0001,
           0.0021000000000000003,
           0.0071,
           0.0749,
           0.2065,
           0.36629999999999996,
           0.34299999999999997
          ]
         ]
        }
       ],
       "layout": {
        "font": {
         "color": "#FFF"
        },
        "height": 500,
        "paper_bgcolor": "#000",
        "plot_bgcolor": "#000",
        "title": "Choice after 100000 Iterations at Glimpse 9",
        "titlefont": {
         "color": "#FFF"
        },
        "width": 500,
        "xaxis": {
         "dtick": 1,
         "range": [
          0.5,
          9.5
         ],
         "tickcolor": "#FFF",
         "title": "Predicted Class"
        },
        "yaxis": {
         "dtick": 1,
         "range": [
          9.5,
          0.5
         ],
         "tickcolor": "#FFF",
         "title": "True Class"
        }
       }
      },
      "text/html": [
       "<div id=\"6e8d0771-7c3c-4a15-be89-45188265baae\" style=\"height: 500px; width: 500px;\" class=\"plotly-graph-div\"></div><script type=\"text/javascript\">require([\"plotly\"], function(Plotly) { window.PLOTLYENV=window.PLOTLYENV || {};window.PLOTLYENV.BASE_URL=\"https://plot.ly\";Plotly.newPlot(\"6e8d0771-7c3c-4a15-be89-45188265baae\", [{\"z\": [[0.0, 0.0, 0.0, 0.0, 0.0, 0.0, 0.0, 0.0, 0.0, 0.0], [0.0, 0.9731, 0.026899999999999997, 0.0, 0.0, 0.0, 0.0, 0.0, 0.0, 0.0], [0.0, 0.1386, 0.7012, 0.1522, 0.008000000000000002, 0.0, 0.0, 0.0, 0.0, 0.0], [0.0, 0.004100000000000001, 0.33730000000000004, 0.4465, 0.1778, 0.030100000000000005, 0.004100000000000001, 0.0001, 0.0, 0.0], [0.0, 0.0, 0.0743, 0.3143, 0.3737, 0.1508, 0.07219999999999999, 0.014000000000000002, 0.0007, 0.0], [0.0, 0.0, 0.007200000000000001, 0.10520000000000003, 0.3315, 0.2324, 0.22359999999999994, 0.0834, 0.015500000000000003, 0.0012000000000000001], [0.0, 0.0, 0.0008, 0.0229, 0.16230000000000003, 0.17590000000000003, 0.32449999999999996, 0.2141, 0.0848, 0.014700000000000001], [0.0, 0.0, 0.0, 0.0028000000000000004, 0.0466, 0.08360000000000001, 0.287, 0.3056, 0.20059999999999997, 0.0738], [0.0, 0.0, 0.0, 0.0005, 0.0122, 0.0264, 0.16469999999999999, 0.2893, 0.31379999999999997, 0.1931], [0.0, 0.0, 0.0, 0.0001, 0.0021000000000000003, 0.0071, 0.0749, 0.2065, 0.36629999999999996, 0.34299999999999997]], \"type\": \"heatmap\", \"colorscale\": \"Jet\"}], {\"width\": 500, \"titlefont\": {\"color\": \"#FFF\"}, \"yaxis\": {\"tickcolor\": \"#FFF\", \"title\": \"True Class\", \"range\": [9.5, 0.5], \"dtick\": 1}, \"height\": 500, \"paper_bgcolor\": \"#000\", \"title\": \"Choice after 100000 Iterations at Glimpse 9\", \"xaxis\": {\"tickcolor\": \"#FFF\", \"title\": \"Predicted Class\", \"range\": [0.5, 9.5], \"dtick\": 1}, \"font\": {\"color\": \"#FFF\"}, \"plot_bgcolor\": \"#000\"}, {\"showLink\": true, \"linkText\": \"Export to plot.ly\"})});</script>"
      ],
      "text/vnd.plotly.v1+html": [
       "<div id=\"6e8d0771-7c3c-4a15-be89-45188265baae\" style=\"height: 500px; width: 500px;\" class=\"plotly-graph-div\"></div><script type=\"text/javascript\">require([\"plotly\"], function(Plotly) { window.PLOTLYENV=window.PLOTLYENV || {};window.PLOTLYENV.BASE_URL=\"https://plot.ly\";Plotly.newPlot(\"6e8d0771-7c3c-4a15-be89-45188265baae\", [{\"z\": [[0.0, 0.0, 0.0, 0.0, 0.0, 0.0, 0.0, 0.0, 0.0, 0.0], [0.0, 0.9731, 0.026899999999999997, 0.0, 0.0, 0.0, 0.0, 0.0, 0.0, 0.0], [0.0, 0.1386, 0.7012, 0.1522, 0.008000000000000002, 0.0, 0.0, 0.0, 0.0, 0.0], [0.0, 0.004100000000000001, 0.33730000000000004, 0.4465, 0.1778, 0.030100000000000005, 0.004100000000000001, 0.0001, 0.0, 0.0], [0.0, 0.0, 0.0743, 0.3143, 0.3737, 0.1508, 0.07219999999999999, 0.014000000000000002, 0.0007, 0.0], [0.0, 0.0, 0.007200000000000001, 0.10520000000000003, 0.3315, 0.2324, 0.22359999999999994, 0.0834, 0.015500000000000003, 0.0012000000000000001], [0.0, 0.0, 0.0008, 0.0229, 0.16230000000000003, 0.17590000000000003, 0.32449999999999996, 0.2141, 0.0848, 0.014700000000000001], [0.0, 0.0, 0.0, 0.0028000000000000004, 0.0466, 0.08360000000000001, 0.287, 0.3056, 0.20059999999999997, 0.0738], [0.0, 0.0, 0.0, 0.0005, 0.0122, 0.0264, 0.16469999999999999, 0.2893, 0.31379999999999997, 0.1931], [0.0, 0.0, 0.0, 0.0001, 0.0021000000000000003, 0.0071, 0.0749, 0.2065, 0.36629999999999996, 0.34299999999999997]], \"type\": \"heatmap\", \"colorscale\": \"Jet\"}], {\"width\": 500, \"titlefont\": {\"color\": \"#FFF\"}, \"yaxis\": {\"tickcolor\": \"#FFF\", \"title\": \"True Class\", \"range\": [9.5, 0.5], \"dtick\": 1}, \"height\": 500, \"paper_bgcolor\": \"#000\", \"title\": \"Choice after 100000 Iterations at Glimpse 9\", \"xaxis\": {\"tickcolor\": \"#FFF\", \"title\": \"Predicted Class\", \"range\": [0.5, 9.5], \"dtick\": 1}, \"font\": {\"color\": \"#FFF\"}, \"plot_bgcolor\": \"#000\"}, {\"showLink\": true, \"linkText\": \"Export to plot.ly\"})});</script>"
      ]
     },
     "metadata": {},
     "output_type": "display_data"
    },
    {
     "data": {
      "application/vnd.plotly.v1+json": {
       "data": [
        {
         "colorscale": "Jet",
         "type": "heatmap",
         "z": [
          [
           0,
           0,
           0,
           0,
           0,
           0,
           0,
           0,
           0,
           0
          ],
          [
           0,
           0.9106347583453169,
           0.08110382332648076,
           0.007093914327253874,
           0.0008870841724527978,
           0.00023511130545423312,
           3.501318074045373e-05,
           7.792837112883683e-06,
           1.479901246893635e-06,
           1.0244304786984167e-06
          ],
          [
           0,
           0.17959297362959398,
           0.5611229858432265,
           0.18937843533989662,
           0.053103802322951144,
           0.013667379712094297,
           0.002567179335002831,
           0.00043672458042678215,
           0.00010671972526446656,
           2.379958740024576e-05
          ],
          [
           0,
           0.011131460430309364,
           0.3386956357297505,
           0.3229750749743827,
           0.19717588261019392,
           0.09053426542774286,
           0.027976592989868404,
           0.008273432613122605,
           0.0024938497995319144,
           0.0007438051250791127
          ],
          [
           0,
           0.00067504976556948,
           0.11147864062512262,
           0.25155779325683975,
           0.2782528319735431,
           0.20474605803858492,
           0.09300157072868145,
           0.040081498859717166,
           0.014884353506298367,
           0.005322203445640605
          ],
          [
           0,
           3.5536842564594835e-05,
           0.027225826387251732,
           0.12139938236365697,
           0.22492055452340964,
           0.2620623952665919,
           0.17700400578944064,
           0.10787560361783691,
           0.05435118474504376,
           0.025125510430796895
          ],
          [
           0,
           6.158633999574827e-07,
           0.005956472332263653,
           0.04300781504204129,
           0.13073022270446516,
           0.22698594832462554,
           0.21901407594675057,
           0.18019113536117945,
           0.12163898737804466,
           0.07247472763268197
          ],
          [
           0,
           7.272473475022796e-07,
           0.0011275543478819036,
           0.012860557091863534,
           0.06065640687100293,
           0.15272933533937655,
           0.20303205777244293,
           0.22352327309333195,
           0.1958367470416648,
           0.15023334172451067
          ],
          [
           0,
           8.706957288767603e-10,
           0.0002608825539434146,
           0.003976948670315216,
           0.025210729622726448,
           0.08729134808081851,
           0.15626227241857968,
           0.22241495739114764,
           0.25436756756648543,
           0.2502152929269007
          ],
          [
           0,
           2.5627771294285696e-11,
           9.198523408906479e-05,
           0.0012834542930351442,
           0.00994854516107815,
           0.0445386508205037,
           0.10321633621835861,
           0.19590887951986952,
           0.2897905785893497,
           0.35522156970165236
          ]
         ]
        }
       ],
       "layout": {
        "font": {
         "color": "#FFF"
        },
        "height": 500,
        "paper_bgcolor": "#000",
        "plot_bgcolor": "#000",
        "title": "Confidence after 120000 Iterations at Glimpse 0",
        "titlefont": {
         "color": "#FFF"
        },
        "width": 500,
        "xaxis": {
         "dtick": 1,
         "range": [
          0.5,
          9.5
         ],
         "tickcolor": "#FFF",
         "title": "Predicted Class"
        },
        "yaxis": {
         "dtick": 1,
         "range": [
          9.5,
          0.5
         ],
         "tickcolor": "#FFF",
         "title": "True Class"
        }
       }
      },
      "text/html": [
       "<div id=\"fb0f9504-446c-44b0-989e-e5e5cfaa365d\" style=\"height: 500px; width: 500px;\" class=\"plotly-graph-div\"></div><script type=\"text/javascript\">require([\"plotly\"], function(Plotly) { window.PLOTLYENV=window.PLOTLYENV || {};window.PLOTLYENV.BASE_URL=\"https://plot.ly\";Plotly.newPlot(\"fb0f9504-446c-44b0-989e-e5e5cfaa365d\", [{\"z\": [[0.0, 0.0, 0.0, 0.0, 0.0, 0.0, 0.0, 0.0, 0.0, 0.0], [0.0, 0.9106347583453169, 0.08110382332648076, 0.007093914327253874, 0.0008870841724527978, 0.00023511130545423312, 3.501318074045373e-05, 7.792837112883683e-06, 1.479901246893635e-06, 1.0244304786984167e-06], [0.0, 0.17959297362959398, 0.5611229858432265, 0.18937843533989662, 0.053103802322951144, 0.013667379712094297, 0.002567179335002831, 0.00043672458042678215, 0.00010671972526446656, 2.379958740024576e-05], [0.0, 0.011131460430309364, 0.3386956357297505, 0.3229750749743827, 0.19717588261019392, 0.09053426542774286, 0.027976592989868404, 0.008273432613122605, 0.0024938497995319144, 0.0007438051250791127], [0.0, 0.00067504976556948, 0.11147864062512262, 0.25155779325683975, 0.2782528319735431, 0.20474605803858492, 0.09300157072868145, 0.040081498859717166, 0.014884353506298367, 0.005322203445640605], [0.0, 3.5536842564594835e-05, 0.027225826387251732, 0.12139938236365697, 0.22492055452340964, 0.2620623952665919, 0.17700400578944064, 0.10787560361783691, 0.05435118474504376, 0.025125510430796895], [0.0, 6.158633999574827e-07, 0.005956472332263653, 0.04300781504204129, 0.13073022270446516, 0.22698594832462554, 0.21901407594675057, 0.18019113536117945, 0.12163898737804466, 0.07247472763268197], [0.0, 7.272473475022796e-07, 0.0011275543478819036, 0.012860557091863534, 0.06065640687100293, 0.15272933533937655, 0.20303205777244293, 0.22352327309333195, 0.1958367470416648, 0.15023334172451067], [0.0, 8.706957288767603e-10, 0.0002608825539434146, 0.003976948670315216, 0.025210729622726448, 0.08729134808081851, 0.15626227241857968, 0.22241495739114764, 0.25436756756648543, 0.2502152929269007], [0.0, 2.5627771294285696e-11, 9.198523408906479e-05, 0.0012834542930351442, 0.00994854516107815, 0.0445386508205037, 0.10321633621835861, 0.19590887951986952, 0.2897905785893497, 0.35522156970165236]], \"type\": \"heatmap\", \"colorscale\": \"Jet\"}], {\"width\": 500, \"titlefont\": {\"color\": \"#FFF\"}, \"yaxis\": {\"tickcolor\": \"#FFF\", \"title\": \"True Class\", \"range\": [9.5, 0.5], \"dtick\": 1}, \"height\": 500, \"paper_bgcolor\": \"#000\", \"title\": \"Confidence after 120000 Iterations at Glimpse 0\", \"xaxis\": {\"tickcolor\": \"#FFF\", \"title\": \"Predicted Class\", \"range\": [0.5, 9.5], \"dtick\": 1}, \"font\": {\"color\": \"#FFF\"}, \"plot_bgcolor\": \"#000\"}, {\"showLink\": true, \"linkText\": \"Export to plot.ly\"})});</script>"
      ],
      "text/vnd.plotly.v1+html": [
       "<div id=\"fb0f9504-446c-44b0-989e-e5e5cfaa365d\" style=\"height: 500px; width: 500px;\" class=\"plotly-graph-div\"></div><script type=\"text/javascript\">require([\"plotly\"], function(Plotly) { window.PLOTLYENV=window.PLOTLYENV || {};window.PLOTLYENV.BASE_URL=\"https://plot.ly\";Plotly.newPlot(\"fb0f9504-446c-44b0-989e-e5e5cfaa365d\", [{\"z\": [[0.0, 0.0, 0.0, 0.0, 0.0, 0.0, 0.0, 0.0, 0.0, 0.0], [0.0, 0.9106347583453169, 0.08110382332648076, 0.007093914327253874, 0.0008870841724527978, 0.00023511130545423312, 3.501318074045373e-05, 7.792837112883683e-06, 1.479901246893635e-06, 1.0244304786984167e-06], [0.0, 0.17959297362959398, 0.5611229858432265, 0.18937843533989662, 0.053103802322951144, 0.013667379712094297, 0.002567179335002831, 0.00043672458042678215, 0.00010671972526446656, 2.379958740024576e-05], [0.0, 0.011131460430309364, 0.3386956357297505, 0.3229750749743827, 0.19717588261019392, 0.09053426542774286, 0.027976592989868404, 0.008273432613122605, 0.0024938497995319144, 0.0007438051250791127], [0.0, 0.00067504976556948, 0.11147864062512262, 0.25155779325683975, 0.2782528319735431, 0.20474605803858492, 0.09300157072868145, 0.040081498859717166, 0.014884353506298367, 0.005322203445640605], [0.0, 3.5536842564594835e-05, 0.027225826387251732, 0.12139938236365697, 0.22492055452340964, 0.2620623952665919, 0.17700400578944064, 0.10787560361783691, 0.05435118474504376, 0.025125510430796895], [0.0, 6.158633999574827e-07, 0.005956472332263653, 0.04300781504204129, 0.13073022270446516, 0.22698594832462554, 0.21901407594675057, 0.18019113536117945, 0.12163898737804466, 0.07247472763268197], [0.0, 7.272473475022796e-07, 0.0011275543478819036, 0.012860557091863534, 0.06065640687100293, 0.15272933533937655, 0.20303205777244293, 0.22352327309333195, 0.1958367470416648, 0.15023334172451067], [0.0, 8.706957288767603e-10, 0.0002608825539434146, 0.003976948670315216, 0.025210729622726448, 0.08729134808081851, 0.15626227241857968, 0.22241495739114764, 0.25436756756648543, 0.2502152929269007], [0.0, 2.5627771294285696e-11, 9.198523408906479e-05, 0.0012834542930351442, 0.00994854516107815, 0.0445386508205037, 0.10321633621835861, 0.19590887951986952, 0.2897905785893497, 0.35522156970165236]], \"type\": \"heatmap\", \"colorscale\": \"Jet\"}], {\"width\": 500, \"titlefont\": {\"color\": \"#FFF\"}, \"yaxis\": {\"tickcolor\": \"#FFF\", \"title\": \"True Class\", \"range\": [9.5, 0.5], \"dtick\": 1}, \"height\": 500, \"paper_bgcolor\": \"#000\", \"title\": \"Confidence after 120000 Iterations at Glimpse 0\", \"xaxis\": {\"tickcolor\": \"#FFF\", \"title\": \"Predicted Class\", \"range\": [0.5, 9.5], \"dtick\": 1}, \"font\": {\"color\": \"#FFF\"}, \"plot_bgcolor\": \"#000\"}, {\"showLink\": true, \"linkText\": \"Export to plot.ly\"})});</script>"
      ]
     },
     "metadata": {},
     "output_type": "display_data"
    },
    {
     "data": {
      "application/vnd.plotly.v1+json": {
       "data": [
        {
         "colorscale": "Jet",
         "type": "heatmap",
         "z": [
          [
           0,
           0,
           0,
           0,
           0,
           0,
           0,
           0,
           0,
           0
          ],
          [
           0,
           0.9888,
           0.0111,
           0.0001,
           0,
           0,
           0,
           0,
           0,
           0
          ],
          [
           0,
           0.1688,
           0.7101,
           0.11210000000000002,
           0.008400000000000001,
           0.0005,
           0.0001,
           0,
           0,
           0
          ],
          [
           0,
           0.005,
           0.4015000000000001,
           0.3699,
           0.17629999999999998,
           0.04220000000000001,
           0.0043,
           0.0006000000000000001,
           0.0002,
           0
          ],
          [
           0,
           0.0005,
           0.08659999999999998,
           0.2963,
           0.34650000000000003,
           0.2112,
           0.045200000000000004,
           0.011299999999999998,
           0.0017000000000000001,
           0.0007
          ],
          [
           0,
           0.0001,
           0.011400000000000002,
           0.1041,
           0.2618,
           0.363,
           0.1518,
           0.07450000000000001,
           0.0233,
           0.01
          ],
          [
           0,
           0,
           0.0017000000000000001,
           0.0224,
           0.11139999999999999,
           0.31320000000000003,
           0.23979999999999996,
           0.1708,
           0.0891,
           0.051600000000000014
          ],
          [
           0,
           0,
           0.0004,
           0.0036000000000000003,
           0.03319999999999999,
           0.17149999999999999,
           0.22030000000000002,
           0.2434,
           0.17609999999999998,
           0.1515
          ],
          [
           0,
           0,
           0.0002,
           0.0010000000000000002,
           0.0088,
           0.07300000000000001,
           0.1447,
           0.22190000000000004,
           0.2444,
           0.30599999999999994
          ],
          [
           0,
           0,
           0,
           0.0005,
           0.0026000000000000003,
           0.0245,
           0.0688,
           0.16740000000000005,
           0.27619999999999995,
           0.45999999999999996
          ]
         ]
        }
       ],
       "layout": {
        "font": {
         "color": "#FFF"
        },
        "height": 500,
        "paper_bgcolor": "#000",
        "plot_bgcolor": "#000",
        "title": "Choice after 120000 Iterations at Glimpse 0",
        "titlefont": {
         "color": "#FFF"
        },
        "width": 500,
        "xaxis": {
         "dtick": 1,
         "range": [
          0.5,
          9.5
         ],
         "tickcolor": "#FFF",
         "title": "Predicted Class"
        },
        "yaxis": {
         "dtick": 1,
         "range": [
          9.5,
          0.5
         ],
         "tickcolor": "#FFF",
         "title": "True Class"
        }
       }
      },
      "text/html": [
       "<div id=\"647d270a-82b2-4d87-b368-e23c18c13967\" style=\"height: 500px; width: 500px;\" class=\"plotly-graph-div\"></div><script type=\"text/javascript\">require([\"plotly\"], function(Plotly) { window.PLOTLYENV=window.PLOTLYENV || {};window.PLOTLYENV.BASE_URL=\"https://plot.ly\";Plotly.newPlot(\"647d270a-82b2-4d87-b368-e23c18c13967\", [{\"z\": [[0.0, 0.0, 0.0, 0.0, 0.0, 0.0, 0.0, 0.0, 0.0, 0.0], [0.0, 0.9888, 0.0111, 0.0001, 0.0, 0.0, 0.0, 0.0, 0.0, 0.0], [0.0, 0.1688, 0.7101, 0.11210000000000002, 0.008400000000000001, 0.0005, 0.0001, 0.0, 0.0, 0.0], [0.0, 0.005, 0.4015000000000001, 0.3699, 0.17629999999999998, 0.04220000000000001, 0.0043, 0.0006000000000000001, 0.0002, 0.0], [0.0, 0.0005, 0.08659999999999998, 0.2963, 0.34650000000000003, 0.2112, 0.045200000000000004, 0.011299999999999998, 0.0017000000000000001, 0.0007], [0.0, 0.0001, 0.011400000000000002, 0.1041, 0.2618, 0.363, 0.1518, 0.07450000000000001, 0.0233, 0.01], [0.0, 0.0, 0.0017000000000000001, 0.0224, 0.11139999999999999, 0.31320000000000003, 0.23979999999999996, 0.1708, 0.0891, 0.051600000000000014], [0.0, 0.0, 0.0004, 0.0036000000000000003, 0.03319999999999999, 0.17149999999999999, 0.22030000000000002, 0.2434, 0.17609999999999998, 0.1515], [0.0, 0.0, 0.0002, 0.0010000000000000002, 0.0088, 0.07300000000000001, 0.1447, 0.22190000000000004, 0.2444, 0.30599999999999994], [0.0, 0.0, 0.0, 0.0005, 0.0026000000000000003, 0.0245, 0.0688, 0.16740000000000005, 0.27619999999999995, 0.45999999999999996]], \"type\": \"heatmap\", \"colorscale\": \"Jet\"}], {\"width\": 500, \"titlefont\": {\"color\": \"#FFF\"}, \"yaxis\": {\"tickcolor\": \"#FFF\", \"title\": \"True Class\", \"range\": [9.5, 0.5], \"dtick\": 1}, \"height\": 500, \"paper_bgcolor\": \"#000\", \"title\": \"Choice after 120000 Iterations at Glimpse 0\", \"xaxis\": {\"tickcolor\": \"#FFF\", \"title\": \"Predicted Class\", \"range\": [0.5, 9.5], \"dtick\": 1}, \"font\": {\"color\": \"#FFF\"}, \"plot_bgcolor\": \"#000\"}, {\"showLink\": true, \"linkText\": \"Export to plot.ly\"})});</script>"
      ],
      "text/vnd.plotly.v1+html": [
       "<div id=\"647d270a-82b2-4d87-b368-e23c18c13967\" style=\"height: 500px; width: 500px;\" class=\"plotly-graph-div\"></div><script type=\"text/javascript\">require([\"plotly\"], function(Plotly) { window.PLOTLYENV=window.PLOTLYENV || {};window.PLOTLYENV.BASE_URL=\"https://plot.ly\";Plotly.newPlot(\"647d270a-82b2-4d87-b368-e23c18c13967\", [{\"z\": [[0.0, 0.0, 0.0, 0.0, 0.0, 0.0, 0.0, 0.0, 0.0, 0.0], [0.0, 0.9888, 0.0111, 0.0001, 0.0, 0.0, 0.0, 0.0, 0.0, 0.0], [0.0, 0.1688, 0.7101, 0.11210000000000002, 0.008400000000000001, 0.0005, 0.0001, 0.0, 0.0, 0.0], [0.0, 0.005, 0.4015000000000001, 0.3699, 0.17629999999999998, 0.04220000000000001, 0.0043, 0.0006000000000000001, 0.0002, 0.0], [0.0, 0.0005, 0.08659999999999998, 0.2963, 0.34650000000000003, 0.2112, 0.045200000000000004, 0.011299999999999998, 0.0017000000000000001, 0.0007], [0.0, 0.0001, 0.011400000000000002, 0.1041, 0.2618, 0.363, 0.1518, 0.07450000000000001, 0.0233, 0.01], [0.0, 0.0, 0.0017000000000000001, 0.0224, 0.11139999999999999, 0.31320000000000003, 0.23979999999999996, 0.1708, 0.0891, 0.051600000000000014], [0.0, 0.0, 0.0004, 0.0036000000000000003, 0.03319999999999999, 0.17149999999999999, 0.22030000000000002, 0.2434, 0.17609999999999998, 0.1515], [0.0, 0.0, 0.0002, 0.0010000000000000002, 0.0088, 0.07300000000000001, 0.1447, 0.22190000000000004, 0.2444, 0.30599999999999994], [0.0, 0.0, 0.0, 0.0005, 0.0026000000000000003, 0.0245, 0.0688, 0.16740000000000005, 0.27619999999999995, 0.45999999999999996]], \"type\": \"heatmap\", \"colorscale\": \"Jet\"}], {\"width\": 500, \"titlefont\": {\"color\": \"#FFF\"}, \"yaxis\": {\"tickcolor\": \"#FFF\", \"title\": \"True Class\", \"range\": [9.5, 0.5], \"dtick\": 1}, \"height\": 500, \"paper_bgcolor\": \"#000\", \"title\": \"Choice after 120000 Iterations at Glimpse 0\", \"xaxis\": {\"tickcolor\": \"#FFF\", \"title\": \"Predicted Class\", \"range\": [0.5, 9.5], \"dtick\": 1}, \"font\": {\"color\": \"#FFF\"}, \"plot_bgcolor\": \"#000\"}, {\"showLink\": true, \"linkText\": \"Export to plot.ly\"})});</script>"
      ]
     },
     "metadata": {},
     "output_type": "display_data"
    },
    {
     "data": {
      "application/vnd.plotly.v1+json": {
       "data": [
        {
         "colorscale": "Jet",
         "type": "heatmap",
         "z": [
          [
           0,
           0,
           0,
           0,
           0,
           0,
           0,
           0,
           0,
           0
          ],
          [
           0,
           0.9497124699670587,
           0.048143244554119516,
           0.0020001913811047477,
           0.00012522633205832814,
           1.8650853644048917e-05,
           1.893729891213453e-07,
           2.604212716967083e-08,
           2.9644650346625133e-09,
           1.4991369509158456e-09
          ],
          [
           0,
           0.10886540559923683,
           0.6581820991978456,
           0.18354848710852684,
           0.040963101351601985,
           0.007651365686277422,
           0.000722675476063143,
           6.275439075265663e-05,
           3.6865869193227247e-06,
           4.2672917738843495e-07
          ],
          [
           0,
           0.003470780196850403,
           0.3463506028590121,
           0.3370589553735132,
           0.19690345014346522,
           0.09003066635543314,
           0.020493507794351103,
           0.00476410655070071,
           0.00078281614816359,
           0.00014511602601241012
          ],
          [
           0,
           0.00038973894657340623,
           0.09938437740591051,
           0.2512694815774789,
           0.28595001325872144,
           0.22991491767525343,
           0.08701654483227529,
           0.034092966866247146,
           0.009329714683891283,
           0.0026522462729499283
          ],
          [
           0,
           1.3803456343866581e-06,
           0.020598743629656885,
           0.10916787456305102,
           0.22036149115792142,
           0.29640901469485254,
           0.1765180624913889,
           0.1107204059227215,
           0.04684638348011867,
           0.019376643322472194
          ],
          [
           0,
           2.7895747908020115e-09,
           0.0031458721570131855,
           0.03279508513948874,
           0.11609722538924631,
           0.24438977074385476,
           0.21820979584464223,
           0.19381019153085727,
           0.12033549959066892,
           0.07121655681268221
          ],
          [
           0,
           8.052402759911101e-14,
           0.00041702613025678987,
           0.008163667325781705,
           0.04709841960858646,
           0.14944529828139785,
           0.19255928664451347,
           0.2357016736516627,
           0.2062561072809407,
           0.16035852119245558
          ],
          [
           0,
           1.9473002322947063e-15,
           2.7507265825147748e-05,
           0.0017622206218317574,
           0.015916498021036014,
           0.07490414574748654,
           0.13666676977035022,
           0.22651420283515472,
           0.268045313725718,
           0.2761633421506896
          ],
          [
           0,
           2.783942185345647e-17,
           5.874406467238173e-06,
           0.00042068605925434804,
           0.005021299472389227,
           0.031781782238228626,
           0.08207230638926975,
           0.185041044053284,
           0.3003674792332808,
           0.39528952875411194
          ]
         ]
        }
       ],
       "layout": {
        "font": {
         "color": "#FFF"
        },
        "height": 500,
        "paper_bgcolor": "#000",
        "plot_bgcolor": "#000",
        "title": "Confidence after 120000 Iterations at Glimpse 3",
        "titlefont": {
         "color": "#FFF"
        },
        "width": 500,
        "xaxis": {
         "dtick": 1,
         "range": [
          0.5,
          9.5
         ],
         "tickcolor": "#FFF",
         "title": "Predicted Class"
        },
        "yaxis": {
         "dtick": 1,
         "range": [
          9.5,
          0.5
         ],
         "tickcolor": "#FFF",
         "title": "True Class"
        }
       }
      },
      "text/html": [
       "<div id=\"5b74bdc9-e9fe-43ec-829b-3f47633698e1\" style=\"height: 500px; width: 500px;\" class=\"plotly-graph-div\"></div><script type=\"text/javascript\">require([\"plotly\"], function(Plotly) { window.PLOTLYENV=window.PLOTLYENV || {};window.PLOTLYENV.BASE_URL=\"https://plot.ly\";Plotly.newPlot(\"5b74bdc9-e9fe-43ec-829b-3f47633698e1\", [{\"z\": [[0.0, 0.0, 0.0, 0.0, 0.0, 0.0, 0.0, 0.0, 0.0, 0.0], [0.0, 0.9497124699670587, 0.048143244554119516, 0.0020001913811047477, 0.00012522633205832814, 1.8650853644048917e-05, 1.893729891213453e-07, 2.604212716967083e-08, 2.9644650346625133e-09, 1.4991369509158456e-09], [0.0, 0.10886540559923683, 0.6581820991978456, 0.18354848710852684, 0.040963101351601985, 0.007651365686277422, 0.000722675476063143, 6.275439075265663e-05, 3.6865869193227247e-06, 4.2672917738843495e-07], [0.0, 0.003470780196850403, 0.3463506028590121, 0.3370589553735132, 0.19690345014346522, 0.09003066635543314, 0.020493507794351103, 0.00476410655070071, 0.00078281614816359, 0.00014511602601241012], [0.0, 0.00038973894657340623, 0.09938437740591051, 0.2512694815774789, 0.28595001325872144, 0.22991491767525343, 0.08701654483227529, 0.034092966866247146, 0.009329714683891283, 0.0026522462729499283], [0.0, 1.3803456343866581e-06, 0.020598743629656885, 0.10916787456305102, 0.22036149115792142, 0.29640901469485254, 0.1765180624913889, 0.1107204059227215, 0.04684638348011867, 0.019376643322472194], [0.0, 2.7895747908020115e-09, 0.0031458721570131855, 0.03279508513948874, 0.11609722538924631, 0.24438977074385476, 0.21820979584464223, 0.19381019153085727, 0.12033549959066892, 0.07121655681268221], [0.0, 8.052402759911101e-14, 0.00041702613025678987, 0.008163667325781705, 0.04709841960858646, 0.14944529828139785, 0.19255928664451347, 0.2357016736516627, 0.2062561072809407, 0.16035852119245558], [0.0, 1.9473002322947063e-15, 2.7507265825147748e-05, 0.0017622206218317574, 0.015916498021036014, 0.07490414574748654, 0.13666676977035022, 0.22651420283515472, 0.268045313725718, 0.2761633421506896], [0.0, 2.783942185345647e-17, 5.874406467238173e-06, 0.00042068605925434804, 0.005021299472389227, 0.031781782238228626, 0.08207230638926975, 0.185041044053284, 0.3003674792332808, 0.39528952875411194]], \"type\": \"heatmap\", \"colorscale\": \"Jet\"}], {\"width\": 500, \"titlefont\": {\"color\": \"#FFF\"}, \"yaxis\": {\"tickcolor\": \"#FFF\", \"title\": \"True Class\", \"range\": [9.5, 0.5], \"dtick\": 1}, \"height\": 500, \"paper_bgcolor\": \"#000\", \"title\": \"Confidence after 120000 Iterations at Glimpse 3\", \"xaxis\": {\"tickcolor\": \"#FFF\", \"title\": \"Predicted Class\", \"range\": [0.5, 9.5], \"dtick\": 1}, \"font\": {\"color\": \"#FFF\"}, \"plot_bgcolor\": \"#000\"}, {\"showLink\": true, \"linkText\": \"Export to plot.ly\"})});</script>"
      ],
      "text/vnd.plotly.v1+html": [
       "<div id=\"5b74bdc9-e9fe-43ec-829b-3f47633698e1\" style=\"height: 500px; width: 500px;\" class=\"plotly-graph-div\"></div><script type=\"text/javascript\">require([\"plotly\"], function(Plotly) { window.PLOTLYENV=window.PLOTLYENV || {};window.PLOTLYENV.BASE_URL=\"https://plot.ly\";Plotly.newPlot(\"5b74bdc9-e9fe-43ec-829b-3f47633698e1\", [{\"z\": [[0.0, 0.0, 0.0, 0.0, 0.0, 0.0, 0.0, 0.0, 0.0, 0.0], [0.0, 0.9497124699670587, 0.048143244554119516, 0.0020001913811047477, 0.00012522633205832814, 1.8650853644048917e-05, 1.893729891213453e-07, 2.604212716967083e-08, 2.9644650346625133e-09, 1.4991369509158456e-09], [0.0, 0.10886540559923683, 0.6581820991978456, 0.18354848710852684, 0.040963101351601985, 0.007651365686277422, 0.000722675476063143, 6.275439075265663e-05, 3.6865869193227247e-06, 4.2672917738843495e-07], [0.0, 0.003470780196850403, 0.3463506028590121, 0.3370589553735132, 0.19690345014346522, 0.09003066635543314, 0.020493507794351103, 0.00476410655070071, 0.00078281614816359, 0.00014511602601241012], [0.0, 0.00038973894657340623, 0.09938437740591051, 0.2512694815774789, 0.28595001325872144, 0.22991491767525343, 0.08701654483227529, 0.034092966866247146, 0.009329714683891283, 0.0026522462729499283], [0.0, 1.3803456343866581e-06, 0.020598743629656885, 0.10916787456305102, 0.22036149115792142, 0.29640901469485254, 0.1765180624913889, 0.1107204059227215, 0.04684638348011867, 0.019376643322472194], [0.0, 2.7895747908020115e-09, 0.0031458721570131855, 0.03279508513948874, 0.11609722538924631, 0.24438977074385476, 0.21820979584464223, 0.19381019153085727, 0.12033549959066892, 0.07121655681268221], [0.0, 8.052402759911101e-14, 0.00041702613025678987, 0.008163667325781705, 0.04709841960858646, 0.14944529828139785, 0.19255928664451347, 0.2357016736516627, 0.2062561072809407, 0.16035852119245558], [0.0, 1.9473002322947063e-15, 2.7507265825147748e-05, 0.0017622206218317574, 0.015916498021036014, 0.07490414574748654, 0.13666676977035022, 0.22651420283515472, 0.268045313725718, 0.2761633421506896], [0.0, 2.783942185345647e-17, 5.874406467238173e-06, 0.00042068605925434804, 0.005021299472389227, 0.031781782238228626, 0.08207230638926975, 0.185041044053284, 0.3003674792332808, 0.39528952875411194]], \"type\": \"heatmap\", \"colorscale\": \"Jet\"}], {\"width\": 500, \"titlefont\": {\"color\": \"#FFF\"}, \"yaxis\": {\"tickcolor\": \"#FFF\", \"title\": \"True Class\", \"range\": [9.5, 0.5], \"dtick\": 1}, \"height\": 500, \"paper_bgcolor\": \"#000\", \"title\": \"Confidence after 120000 Iterations at Glimpse 3\", \"xaxis\": {\"tickcolor\": \"#FFF\", \"title\": \"Predicted Class\", \"range\": [0.5, 9.5], \"dtick\": 1}, \"font\": {\"color\": \"#FFF\"}, \"plot_bgcolor\": \"#000\"}, {\"showLink\": true, \"linkText\": \"Export to plot.ly\"})});</script>"
      ]
     },
     "metadata": {},
     "output_type": "display_data"
    },
    {
     "data": {
      "application/vnd.plotly.v1+json": {
       "data": [
        {
         "colorscale": "Jet",
         "type": "heatmap",
         "z": [
          [
           0,
           0,
           0,
           0,
           0,
           0,
           0,
           0,
           0,
           0
          ],
          [
           0,
           0.9902000000000001,
           0.0098,
           0,
           0,
           0,
           0,
           0,
           0,
           0
          ],
          [
           0,
           0.09519999999999999,
           0.7837999999999999,
           0.1143,
           0.0066,
           0.0001,
           0,
           0,
           0,
           0
          ],
          [
           0,
           0.002,
           0.3821,
           0.37750000000000006,
           0.17940000000000003,
           0.057300000000000004,
           0.0012000000000000001,
           0.0005,
           0,
           0
          ],
          [
           0,
           0.0004,
           0.077,
           0.2811,
           0.32530000000000003,
           0.265,
           0.0377,
           0.0124,
           0.0007,
           0.0004
          ],
          [
           0,
           0,
           0.0087,
           0.09459999999999999,
           0.2122,
           0.42889999999999995,
           0.13619999999999996,
           0.0922,
           0.0193,
           0.0079
          ],
          [
           0,
           0,
           0.0002,
           0.0181,
           0.07629999999999999,
           0.3395,
           0.2162,
           0.19650000000000004,
           0.0882,
           0.065
          ],
          [
           0,
           0,
           0.0001,
           0.0021000000000000003,
           0.018000000000000002,
           0.15960000000000002,
           0.1971,
           0.2553,
           0.1891,
           0.17869999999999997
          ],
          [
           0,
           0,
           0,
           0.0001,
           0.0027,
           0.058100000000000006,
           0.11279999999999998,
           0.21869999999999998,
           0.2704,
           0.33719999999999994
          ],
          [
           0,
           0,
           0,
           0.0001,
           0.0006000000000000001,
           0.0158,
           0.0489,
           0.13440000000000002,
           0.30829999999999996,
           0.49189999999999995
          ]
         ]
        }
       ],
       "layout": {
        "font": {
         "color": "#FFF"
        },
        "height": 500,
        "paper_bgcolor": "#000",
        "plot_bgcolor": "#000",
        "title": "Choice after 120000 Iterations at Glimpse 3",
        "titlefont": {
         "color": "#FFF"
        },
        "width": 500,
        "xaxis": {
         "dtick": 1,
         "range": [
          0.5,
          9.5
         ],
         "tickcolor": "#FFF",
         "title": "Predicted Class"
        },
        "yaxis": {
         "dtick": 1,
         "range": [
          9.5,
          0.5
         ],
         "tickcolor": "#FFF",
         "title": "True Class"
        }
       }
      },
      "text/html": [
       "<div id=\"0f2cf96c-41a3-4875-aef0-c7ae86e66f3b\" style=\"height: 500px; width: 500px;\" class=\"plotly-graph-div\"></div><script type=\"text/javascript\">require([\"plotly\"], function(Plotly) { window.PLOTLYENV=window.PLOTLYENV || {};window.PLOTLYENV.BASE_URL=\"https://plot.ly\";Plotly.newPlot(\"0f2cf96c-41a3-4875-aef0-c7ae86e66f3b\", [{\"z\": [[0.0, 0.0, 0.0, 0.0, 0.0, 0.0, 0.0, 0.0, 0.0, 0.0], [0.0, 0.9902000000000001, 0.0098, 0.0, 0.0, 0.0, 0.0, 0.0, 0.0, 0.0], [0.0, 0.09519999999999999, 0.7837999999999999, 0.1143, 0.0066, 0.0001, 0.0, 0.0, 0.0, 0.0], [0.0, 0.002, 0.3821, 0.37750000000000006, 0.17940000000000003, 0.057300000000000004, 0.0012000000000000001, 0.0005, 0.0, 0.0], [0.0, 0.0004, 0.077, 0.2811, 0.32530000000000003, 0.265, 0.0377, 0.0124, 0.0007, 0.0004], [0.0, 0.0, 0.0087, 0.09459999999999999, 0.2122, 0.42889999999999995, 0.13619999999999996, 0.0922, 0.0193, 0.0079], [0.0, 0.0, 0.0002, 0.0181, 0.07629999999999999, 0.3395, 0.2162, 0.19650000000000004, 0.0882, 0.065], [0.0, 0.0, 0.0001, 0.0021000000000000003, 0.018000000000000002, 0.15960000000000002, 0.1971, 0.2553, 0.1891, 0.17869999999999997], [0.0, 0.0, 0.0, 0.0001, 0.0027, 0.058100000000000006, 0.11279999999999998, 0.21869999999999998, 0.2704, 0.33719999999999994], [0.0, 0.0, 0.0, 0.0001, 0.0006000000000000001, 0.0158, 0.0489, 0.13440000000000002, 0.30829999999999996, 0.49189999999999995]], \"type\": \"heatmap\", \"colorscale\": \"Jet\"}], {\"width\": 500, \"titlefont\": {\"color\": \"#FFF\"}, \"yaxis\": {\"tickcolor\": \"#FFF\", \"title\": \"True Class\", \"range\": [9.5, 0.5], \"dtick\": 1}, \"height\": 500, \"paper_bgcolor\": \"#000\", \"title\": \"Choice after 120000 Iterations at Glimpse 3\", \"xaxis\": {\"tickcolor\": \"#FFF\", \"title\": \"Predicted Class\", \"range\": [0.5, 9.5], \"dtick\": 1}, \"font\": {\"color\": \"#FFF\"}, \"plot_bgcolor\": \"#000\"}, {\"showLink\": true, \"linkText\": \"Export to plot.ly\"})});</script>"
      ],
      "text/vnd.plotly.v1+html": [
       "<div id=\"0f2cf96c-41a3-4875-aef0-c7ae86e66f3b\" style=\"height: 500px; width: 500px;\" class=\"plotly-graph-div\"></div><script type=\"text/javascript\">require([\"plotly\"], function(Plotly) { window.PLOTLYENV=window.PLOTLYENV || {};window.PLOTLYENV.BASE_URL=\"https://plot.ly\";Plotly.newPlot(\"0f2cf96c-41a3-4875-aef0-c7ae86e66f3b\", [{\"z\": [[0.0, 0.0, 0.0, 0.0, 0.0, 0.0, 0.0, 0.0, 0.0, 0.0], [0.0, 0.9902000000000001, 0.0098, 0.0, 0.0, 0.0, 0.0, 0.0, 0.0, 0.0], [0.0, 0.09519999999999999, 0.7837999999999999, 0.1143, 0.0066, 0.0001, 0.0, 0.0, 0.0, 0.0], [0.0, 0.002, 0.3821, 0.37750000000000006, 0.17940000000000003, 0.057300000000000004, 0.0012000000000000001, 0.0005, 0.0, 0.0], [0.0, 0.0004, 0.077, 0.2811, 0.32530000000000003, 0.265, 0.0377, 0.0124, 0.0007, 0.0004], [0.0, 0.0, 0.0087, 0.09459999999999999, 0.2122, 0.42889999999999995, 0.13619999999999996, 0.0922, 0.0193, 0.0079], [0.0, 0.0, 0.0002, 0.0181, 0.07629999999999999, 0.3395, 0.2162, 0.19650000000000004, 0.0882, 0.065], [0.0, 0.0, 0.0001, 0.0021000000000000003, 0.018000000000000002, 0.15960000000000002, 0.1971, 0.2553, 0.1891, 0.17869999999999997], [0.0, 0.0, 0.0, 0.0001, 0.0027, 0.058100000000000006, 0.11279999999999998, 0.21869999999999998, 0.2704, 0.33719999999999994], [0.0, 0.0, 0.0, 0.0001, 0.0006000000000000001, 0.0158, 0.0489, 0.13440000000000002, 0.30829999999999996, 0.49189999999999995]], \"type\": \"heatmap\", \"colorscale\": \"Jet\"}], {\"width\": 500, \"titlefont\": {\"color\": \"#FFF\"}, \"yaxis\": {\"tickcolor\": \"#FFF\", \"title\": \"True Class\", \"range\": [9.5, 0.5], \"dtick\": 1}, \"height\": 500, \"paper_bgcolor\": \"#000\", \"title\": \"Choice after 120000 Iterations at Glimpse 3\", \"xaxis\": {\"tickcolor\": \"#FFF\", \"title\": \"Predicted Class\", \"range\": [0.5, 9.5], \"dtick\": 1}, \"font\": {\"color\": \"#FFF\"}, \"plot_bgcolor\": \"#000\"}, {\"showLink\": true, \"linkText\": \"Export to plot.ly\"})});</script>"
      ]
     },
     "metadata": {},
     "output_type": "display_data"
    },
    {
     "data": {
      "application/vnd.plotly.v1+json": {
       "data": [
        {
         "colorscale": "Jet",
         "type": "heatmap",
         "z": [
          [
           0,
           0,
           0,
           0,
           0,
           0,
           0,
           0,
           0,
           0
          ],
          [
           0,
           0.9529394608612636,
           0.04539903936745153,
           0.0014947986157556547,
           0.00010782390485899473,
           5.6251869821722354e-05,
           7.48316378457658e-07,
           1.864298490278698e-06,
           1.3483356035841256e-08,
           5.914722894683002e-09
          ],
          [
           0,
           0.09380458160422557,
           0.6692412806400825,
           0.18750943219318808,
           0.04004130462256532,
           0.008521533534937096,
           0.0007794086657971282,
           9.421396153259981e-05,
           5.973769077599847e-06,
           2.2733255795584383e-06
          ],
          [
           0,
           0.00358047604693751,
           0.33263967655904514,
           0.3487334376937377,
           0.19528879015570802,
           0.09208071009714527,
           0.021569134601925617,
           0.0050326559741195615,
           0.0008876204776406443,
           0.00018750041921069822
          ],
          [
           0,
           0.0002851123523127363,
           0.09524956747400523,
           0.25859251389465787,
           0.2801878683353417,
           0.2269468349777671,
           0.08999598866073076,
           0.03536023539249898,
           0.010237487124694047,
           0.0031443928332053825
          ],
          [
           0,
           1.297404249796535e-06,
           0.02068270410417794,
           0.11482697950011742,
           0.21790752910298905,
           0.2875235606044036,
           0.1803490657183061,
           0.11034887178818327,
           0.04784939235141455,
           0.020510599028846704
          ],
          [
           0,
           7.16989093623011e-10,
           0.0032482584129036895,
           0.03720370897795331,
           0.11697063784509298,
           0.23875787786066213,
           0.22036884776707155,
           0.19178203757487547,
           0.12010727175353877,
           0.0715613586800585
          ],
          [
           0,
           3.2107587976789983e-14,
           0.0005273763742934383,
           0.009853039718943656,
           0.050447666143675116,
           0.15054200599914805,
           0.1938271047470742,
           0.23498213531606021,
           0.20320644061183923,
           0.15661423121597126
          ],
          [
           0,
           8.860668440128097e-17,
           5.0508465779713855e-05,
           0.0023463006551731275,
           0.018488907181502652,
           0.07848051144084665,
           0.13873306120292983,
           0.22898057970966912,
           0.26689821022959076,
           0.26602192014346393
          ],
          [
           0,
           9.466237470032646e-19,
           9.119809266475818e-06,
           0.0005793926578665061,
           0.006401824366525205,
           0.036256326859546086,
           0.08584619360470022,
           0.1911445544999093,
           0.3021959383040201,
           0.37756664971168497
          ]
         ]
        }
       ],
       "layout": {
        "font": {
         "color": "#FFF"
        },
        "height": 500,
        "paper_bgcolor": "#000",
        "plot_bgcolor": "#000",
        "title": "Confidence after 120000 Iterations at Glimpse 9",
        "titlefont": {
         "color": "#FFF"
        },
        "width": 500,
        "xaxis": {
         "dtick": 1,
         "range": [
          0.5,
          9.5
         ],
         "tickcolor": "#FFF",
         "title": "Predicted Class"
        },
        "yaxis": {
         "dtick": 1,
         "range": [
          9.5,
          0.5
         ],
         "tickcolor": "#FFF",
         "title": "True Class"
        }
       }
      },
      "text/html": [
       "<div id=\"b3b4becf-96c9-48c9-9837-961a61ae1792\" style=\"height: 500px; width: 500px;\" class=\"plotly-graph-div\"></div><script type=\"text/javascript\">require([\"plotly\"], function(Plotly) { window.PLOTLYENV=window.PLOTLYENV || {};window.PLOTLYENV.BASE_URL=\"https://plot.ly\";Plotly.newPlot(\"b3b4becf-96c9-48c9-9837-961a61ae1792\", [{\"z\": [[0.0, 0.0, 0.0, 0.0, 0.0, 0.0, 0.0, 0.0, 0.0, 0.0], [0.0, 0.9529394608612636, 0.04539903936745153, 0.0014947986157556547, 0.00010782390485899473, 5.6251869821722354e-05, 7.48316378457658e-07, 1.864298490278698e-06, 1.3483356035841256e-08, 5.914722894683002e-09], [0.0, 0.09380458160422557, 0.6692412806400825, 0.18750943219318808, 0.04004130462256532, 0.008521533534937096, 0.0007794086657971282, 9.421396153259981e-05, 5.973769077599847e-06, 2.2733255795584383e-06], [0.0, 0.00358047604693751, 0.33263967655904514, 0.3487334376937377, 0.19528879015570802, 0.09208071009714527, 0.021569134601925617, 0.0050326559741195615, 0.0008876204776406443, 0.00018750041921069822], [0.0, 0.0002851123523127363, 0.09524956747400523, 0.25859251389465787, 0.2801878683353417, 0.2269468349777671, 0.08999598866073076, 0.03536023539249898, 0.010237487124694047, 0.0031443928332053825], [0.0, 1.297404249796535e-06, 0.02068270410417794, 0.11482697950011742, 0.21790752910298905, 0.2875235606044036, 0.1803490657183061, 0.11034887178818327, 0.04784939235141455, 0.020510599028846704], [0.0, 7.16989093623011e-10, 0.0032482584129036895, 0.03720370897795331, 0.11697063784509298, 0.23875787786066213, 0.22036884776707155, 0.19178203757487547, 0.12010727175353877, 0.0715613586800585], [0.0, 3.2107587976789983e-14, 0.0005273763742934383, 0.009853039718943656, 0.050447666143675116, 0.15054200599914805, 0.1938271047470742, 0.23498213531606021, 0.20320644061183923, 0.15661423121597126], [0.0, 8.860668440128097e-17, 5.0508465779713855e-05, 0.0023463006551731275, 0.018488907181502652, 0.07848051144084665, 0.13873306120292983, 0.22898057970966912, 0.26689821022959076, 0.26602192014346393], [0.0, 9.466237470032646e-19, 9.119809266475818e-06, 0.0005793926578665061, 0.006401824366525205, 0.036256326859546086, 0.08584619360470022, 0.1911445544999093, 0.3021959383040201, 0.37756664971168497]], \"type\": \"heatmap\", \"colorscale\": \"Jet\"}], {\"width\": 500, \"titlefont\": {\"color\": \"#FFF\"}, \"yaxis\": {\"tickcolor\": \"#FFF\", \"title\": \"True Class\", \"range\": [9.5, 0.5], \"dtick\": 1}, \"height\": 500, \"paper_bgcolor\": \"#000\", \"title\": \"Confidence after 120000 Iterations at Glimpse 9\", \"xaxis\": {\"tickcolor\": \"#FFF\", \"title\": \"Predicted Class\", \"range\": [0.5, 9.5], \"dtick\": 1}, \"font\": {\"color\": \"#FFF\"}, \"plot_bgcolor\": \"#000\"}, {\"showLink\": true, \"linkText\": \"Export to plot.ly\"})});</script>"
      ],
      "text/vnd.plotly.v1+html": [
       "<div id=\"b3b4becf-96c9-48c9-9837-961a61ae1792\" style=\"height: 500px; width: 500px;\" class=\"plotly-graph-div\"></div><script type=\"text/javascript\">require([\"plotly\"], function(Plotly) { window.PLOTLYENV=window.PLOTLYENV || {};window.PLOTLYENV.BASE_URL=\"https://plot.ly\";Plotly.newPlot(\"b3b4becf-96c9-48c9-9837-961a61ae1792\", [{\"z\": [[0.0, 0.0, 0.0, 0.0, 0.0, 0.0, 0.0, 0.0, 0.0, 0.0], [0.0, 0.9529394608612636, 0.04539903936745153, 0.0014947986157556547, 0.00010782390485899473, 5.6251869821722354e-05, 7.48316378457658e-07, 1.864298490278698e-06, 1.3483356035841256e-08, 5.914722894683002e-09], [0.0, 0.09380458160422557, 0.6692412806400825, 0.18750943219318808, 0.04004130462256532, 0.008521533534937096, 0.0007794086657971282, 9.421396153259981e-05, 5.973769077599847e-06, 2.2733255795584383e-06], [0.0, 0.00358047604693751, 0.33263967655904514, 0.3487334376937377, 0.19528879015570802, 0.09208071009714527, 0.021569134601925617, 0.0050326559741195615, 0.0008876204776406443, 0.00018750041921069822], [0.0, 0.0002851123523127363, 0.09524956747400523, 0.25859251389465787, 0.2801878683353417, 0.2269468349777671, 0.08999598866073076, 0.03536023539249898, 0.010237487124694047, 0.0031443928332053825], [0.0, 1.297404249796535e-06, 0.02068270410417794, 0.11482697950011742, 0.21790752910298905, 0.2875235606044036, 0.1803490657183061, 0.11034887178818327, 0.04784939235141455, 0.020510599028846704], [0.0, 7.16989093623011e-10, 0.0032482584129036895, 0.03720370897795331, 0.11697063784509298, 0.23875787786066213, 0.22036884776707155, 0.19178203757487547, 0.12010727175353877, 0.0715613586800585], [0.0, 3.2107587976789983e-14, 0.0005273763742934383, 0.009853039718943656, 0.050447666143675116, 0.15054200599914805, 0.1938271047470742, 0.23498213531606021, 0.20320644061183923, 0.15661423121597126], [0.0, 8.860668440128097e-17, 5.0508465779713855e-05, 0.0023463006551731275, 0.018488907181502652, 0.07848051144084665, 0.13873306120292983, 0.22898057970966912, 0.26689821022959076, 0.26602192014346393], [0.0, 9.466237470032646e-19, 9.119809266475818e-06, 0.0005793926578665061, 0.006401824366525205, 0.036256326859546086, 0.08584619360470022, 0.1911445544999093, 0.3021959383040201, 0.37756664971168497]], \"type\": \"heatmap\", \"colorscale\": \"Jet\"}], {\"width\": 500, \"titlefont\": {\"color\": \"#FFF\"}, \"yaxis\": {\"tickcolor\": \"#FFF\", \"title\": \"True Class\", \"range\": [9.5, 0.5], \"dtick\": 1}, \"height\": 500, \"paper_bgcolor\": \"#000\", \"title\": \"Confidence after 120000 Iterations at Glimpse 9\", \"xaxis\": {\"tickcolor\": \"#FFF\", \"title\": \"Predicted Class\", \"range\": [0.5, 9.5], \"dtick\": 1}, \"font\": {\"color\": \"#FFF\"}, \"plot_bgcolor\": \"#000\"}, {\"showLink\": true, \"linkText\": \"Export to plot.ly\"})});</script>"
      ]
     },
     "metadata": {},
     "output_type": "display_data"
    },
    {
     "data": {
      "application/vnd.plotly.v1+json": {
       "data": [
        {
         "colorscale": "Jet",
         "type": "heatmap",
         "z": [
          [
           0,
           0,
           0,
           0,
           0,
           0,
           0,
           0,
           0,
           0
          ],
          [
           0,
           0.9878,
           0.012199999999999999,
           0,
           0,
           0,
           0,
           0,
           0,
           0
          ],
          [
           0,
           0.08429999999999997,
           0.7823,
           0.1264,
           0.006900000000000001,
           0.0001,
           0,
           0,
           0,
           0
          ],
          [
           0,
           0.0022,
           0.3494999999999999,
           0.41979999999999995,
           0.1664,
           0.061,
           0.0008,
           0.00030000000000000003,
           0,
           0
          ],
          [
           0,
           0.00030000000000000003,
           0.0661,
           0.30390000000000006,
           0.3032,
           0.2746,
           0.038900000000000004,
           0.0122,
           0.0006000000000000001,
           0.0002
          ],
          [
           0,
           0,
           0.0077,
           0.0991,
           0.2049,
           0.4236,
           0.1544,
           0.08420000000000001,
           0.0184,
           0.007700000000000001
          ],
          [
           0,
           0,
           0.0002,
           0.0199,
           0.07239999999999999,
           0.3318,
           0.23289999999999997,
           0.1958,
           0.0854,
           0.0616
          ],
          [
           0,
           0,
           0,
           0.0021000000000000003,
           0.017,
           0.15959999999999996,
           0.20309999999999997,
           0.2558,
           0.19129999999999997,
           0.1711
          ],
          [
           0,
           0,
           0,
           0.0001,
           0.0027,
           0.055600000000000004,
           0.11420000000000001,
           0.22230000000000003,
           0.27999999999999997,
           0.32509999999999994
          ],
          [
           0,
           0,
           0,
           0,
           0.0002,
           0.0149,
           0.0472,
           0.13840000000000002,
           0.3247,
           0.47459999999999997
          ]
         ]
        }
       ],
       "layout": {
        "font": {
         "color": "#FFF"
        },
        "height": 500,
        "paper_bgcolor": "#000",
        "plot_bgcolor": "#000",
        "title": "Choice after 120000 Iterations at Glimpse 9",
        "titlefont": {
         "color": "#FFF"
        },
        "width": 500,
        "xaxis": {
         "dtick": 1,
         "range": [
          0.5,
          9.5
         ],
         "tickcolor": "#FFF",
         "title": "Predicted Class"
        },
        "yaxis": {
         "dtick": 1,
         "range": [
          9.5,
          0.5
         ],
         "tickcolor": "#FFF",
         "title": "True Class"
        }
       }
      },
      "text/html": [
       "<div id=\"558ed8d0-2e83-4817-844c-46c92228df1f\" style=\"height: 500px; width: 500px;\" class=\"plotly-graph-div\"></div><script type=\"text/javascript\">require([\"plotly\"], function(Plotly) { window.PLOTLYENV=window.PLOTLYENV || {};window.PLOTLYENV.BASE_URL=\"https://plot.ly\";Plotly.newPlot(\"558ed8d0-2e83-4817-844c-46c92228df1f\", [{\"z\": [[0.0, 0.0, 0.0, 0.0, 0.0, 0.0, 0.0, 0.0, 0.0, 0.0], [0.0, 0.9878, 0.012199999999999999, 0.0, 0.0, 0.0, 0.0, 0.0, 0.0, 0.0], [0.0, 0.08429999999999997, 0.7823, 0.1264, 0.006900000000000001, 0.0001, 0.0, 0.0, 0.0, 0.0], [0.0, 0.0022, 0.3494999999999999, 0.41979999999999995, 0.1664, 0.061, 0.0008, 0.00030000000000000003, 0.0, 0.0], [0.0, 0.00030000000000000003, 0.0661, 0.30390000000000006, 0.3032, 0.2746, 0.038900000000000004, 0.0122, 0.0006000000000000001, 0.0002], [0.0, 0.0, 0.0077, 0.0991, 0.2049, 0.4236, 0.1544, 0.08420000000000001, 0.0184, 0.007700000000000001], [0.0, 0.0, 0.0002, 0.0199, 0.07239999999999999, 0.3318, 0.23289999999999997, 0.1958, 0.0854, 0.0616], [0.0, 0.0, 0.0, 0.0021000000000000003, 0.017, 0.15959999999999996, 0.20309999999999997, 0.2558, 0.19129999999999997, 0.1711], [0.0, 0.0, 0.0, 0.0001, 0.0027, 0.055600000000000004, 0.11420000000000001, 0.22230000000000003, 0.27999999999999997, 0.32509999999999994], [0.0, 0.0, 0.0, 0.0, 0.0002, 0.0149, 0.0472, 0.13840000000000002, 0.3247, 0.47459999999999997]], \"type\": \"heatmap\", \"colorscale\": \"Jet\"}], {\"width\": 500, \"titlefont\": {\"color\": \"#FFF\"}, \"yaxis\": {\"tickcolor\": \"#FFF\", \"title\": \"True Class\", \"range\": [9.5, 0.5], \"dtick\": 1}, \"height\": 500, \"paper_bgcolor\": \"#000\", \"title\": \"Choice after 120000 Iterations at Glimpse 9\", \"xaxis\": {\"tickcolor\": \"#FFF\", \"title\": \"Predicted Class\", \"range\": [0.5, 9.5], \"dtick\": 1}, \"font\": {\"color\": \"#FFF\"}, \"plot_bgcolor\": \"#000\"}, {\"showLink\": true, \"linkText\": \"Export to plot.ly\"})});</script>"
      ],
      "text/vnd.plotly.v1+html": [
       "<div id=\"558ed8d0-2e83-4817-844c-46c92228df1f\" style=\"height: 500px; width: 500px;\" class=\"plotly-graph-div\"></div><script type=\"text/javascript\">require([\"plotly\"], function(Plotly) { window.PLOTLYENV=window.PLOTLYENV || {};window.PLOTLYENV.BASE_URL=\"https://plot.ly\";Plotly.newPlot(\"558ed8d0-2e83-4817-844c-46c92228df1f\", [{\"z\": [[0.0, 0.0, 0.0, 0.0, 0.0, 0.0, 0.0, 0.0, 0.0, 0.0], [0.0, 0.9878, 0.012199999999999999, 0.0, 0.0, 0.0, 0.0, 0.0, 0.0, 0.0], [0.0, 0.08429999999999997, 0.7823, 0.1264, 0.006900000000000001, 0.0001, 0.0, 0.0, 0.0, 0.0], [0.0, 0.0022, 0.3494999999999999, 0.41979999999999995, 0.1664, 0.061, 0.0008, 0.00030000000000000003, 0.0, 0.0], [0.0, 0.00030000000000000003, 0.0661, 0.30390000000000006, 0.3032, 0.2746, 0.038900000000000004, 0.0122, 0.0006000000000000001, 0.0002], [0.0, 0.0, 0.0077, 0.0991, 0.2049, 0.4236, 0.1544, 0.08420000000000001, 0.0184, 0.007700000000000001], [0.0, 0.0, 0.0002, 0.0199, 0.07239999999999999, 0.3318, 0.23289999999999997, 0.1958, 0.0854, 0.0616], [0.0, 0.0, 0.0, 0.0021000000000000003, 0.017, 0.15959999999999996, 0.20309999999999997, 0.2558, 0.19129999999999997, 0.1711], [0.0, 0.0, 0.0, 0.0001, 0.0027, 0.055600000000000004, 0.11420000000000001, 0.22230000000000003, 0.27999999999999997, 0.32509999999999994], [0.0, 0.0, 0.0, 0.0, 0.0002, 0.0149, 0.0472, 0.13840000000000002, 0.3247, 0.47459999999999997]], \"type\": \"heatmap\", \"colorscale\": \"Jet\"}], {\"width\": 500, \"titlefont\": {\"color\": \"#FFF\"}, \"yaxis\": {\"tickcolor\": \"#FFF\", \"title\": \"True Class\", \"range\": [9.5, 0.5], \"dtick\": 1}, \"height\": 500, \"paper_bgcolor\": \"#000\", \"title\": \"Choice after 120000 Iterations at Glimpse 9\", \"xaxis\": {\"tickcolor\": \"#FFF\", \"title\": \"Predicted Class\", \"range\": [0.5, 9.5], \"dtick\": 1}, \"font\": {\"color\": \"#FFF\"}, \"plot_bgcolor\": \"#000\"}, {\"showLink\": true, \"linkText\": \"Export to plot.ly\"})});</script>"
      ]
     },
     "metadata": {},
     "output_type": "display_data"
    }
   ],
   "source": [
    "for i, it in enumerate(iter_list):\n",
    "    for g, glimpse in enumerate(glimpse_list):\n",
    "        plot_confidence(i, it, g, glimpse)\n",
    "        plot_choice(i, it, g, glimpse)"
   ]
  },
  {
   "cell_type": "code",
   "execution_count": 11,
   "metadata": {},
   "outputs": [],
   "source": [
    "np.save(\"confidence_hist\", confidence_all_runs)\n",
    "np.save(\"choice_hist\", choice_all_runs)"
   ]
  },
  {
   "cell_type": "markdown",
   "metadata": {},
   "source": [
    "## Work with Saved Histogram Data"
   ]
  },
  {
   "cell_type": "code",
   "execution_count": 20,
   "metadata": {
    "collapsed": true
   },
   "outputs": [],
   "source": [
    "confidence_hist = np.load('confidence_hist.npy')\n",
    "choice_hist = np.load('choice_hist.npy')"
   ]
  },
  {
   "cell_type": "code",
   "execution_count": 30,
   "metadata": {},
   "outputs": [],
   "source": [
    "def get_msdcv(hist_matrix):\n",
    "    \"\"\"Get the mean, standard deviation, and coefficient of variation matrices from histogram matrix.\"\"\"\n",
    "    \n",
    "    msdcv = np.zeros([num_runs, num_iters, num_glimpses, z_size, 3])\n",
    "    \n",
    "    for run in range(num_runs):\n",
    "        for i, it in enumerate(iter_list):\n",
    "            for g, glimpse in enumerate(glimpse_list):\n",
    "                for t in range(z_size):\n",
    "                    values_sum = 0\n",
    "                    sqr_sum = 0\n",
    "\n",
    "                    # Find the mean\n",
    "                    for p in range(z_size):\n",
    "                        values_sum = values_sum + (p + 1) * hist_matrix[run, i, g, t, p]\n",
    "                    msdcv[run, i, g, t, 0] = mu = values_sum\n",
    "\n",
    "                    # Find the standard deviation\n",
    "                    for p in range(z_size):\n",
    "                        sqr_sum += hist_matrix[run, i, g, t, p] * ((p - mu) ** 2)\n",
    "                    msdcv[run, i, g, t, 1] = sigma = np.sqrt(sqr_sum)\n",
    "\n",
    "                    # Find the coefficient of variation\n",
    "                    msdcv[run, i, g, t, 2] = cv = sigma / mu\n",
    "    return msdcv"
   ]
  },
  {
   "cell_type": "code",
   "execution_count": 31,
   "metadata": {
    "collapsed": true
   },
   "outputs": [],
   "source": [
    "confidence_msdcv = get_msdcv(confidence_hist)\n",
    "choice_msdcv = get_msdcv(choice_hist)"
   ]
  },
  {
   "cell_type": "code",
   "execution_count": 32,
   "metadata": {
    "collapsed": true
   },
   "outputs": [],
   "source": [
    "np.save(\"confidence_msdcv\", confidence_msdcv)\n",
    "np.save(\"choice_msdcv\", choice_msdcv)"
   ]
  },
  {
   "cell_type": "markdown",
   "metadata": {},
   "source": [
    "## Visualize Mean, Standard Deviation, and Coefficient of Variation"
   ]
  },
  {
   "cell_type": "code",
   "execution_count": 33,
   "metadata": {},
   "outputs": [],
   "source": [
    "confidence_msdcv = np.load('confidence_msdcv.npy')\n",
    "choice_msdcv = np.load('choice_msdcv.npy')"
   ]
  },
  {
   "cell_type": "code",
   "execution_count": 34,
   "metadata": {},
   "outputs": [
    {
     "name": "stdout",
     "output_type": "stream",
     "text": [
      "(10, 3, 3, 9, 3)\n"
     ]
    }
   ],
   "source": [
    "print(np.shape(confidence_msdcv))"
   ]
  },
  {
   "cell_type": "code",
   "execution_count": 41,
   "metadata": {},
   "outputs": [
    {
     "name": "stdout",
     "output_type": "stream",
     "text": [
      "[ 3.28264957  2.17991488  0.66407176]\n",
      "[ 3.19119868  1.58141211  0.49555426]\n"
     ]
    }
   ],
   "source": [
    "print(confidence_msdcv[0, 0, 0, 2])\n",
    "print(confidence_msdcv[0, 2, 0, 2]) # after more iterations, mu is closer to 1, std is smaller, cv is smaller"
   ]
  },
  {
   "cell_type": "code",
   "execution_count": 43,
   "metadata": {},
   "outputs": [
    {
     "name": "stdout",
     "output_type": "stream",
     "text": [
      "[ 5.11643738  1.93598527  0.37838541]\n",
      "[ 7.84633595  1.64488764  0.20963768]\n"
     ]
    }
   ],
   "source": [
    "print(confidence_msdcv[0, 2, 0, 4])\n",
    "print(confidence_msdcv[0, 2, 0, 8]) # at 9 blobs, mu is below 9, std is small, cv is smaller"
   ]
  },
  {
   "cell_type": "code",
   "execution_count": 72,
   "metadata": {
    "collapsed": true
   },
   "outputs": [],
   "source": [
    "confidence_msdcv_avg = np.mean(confidence_msdcv, axis=0)\n",
    "choice_msdcv_avg = np.mean(choice_msdcv, axis=0)\n",
    "\n",
    "def plot_confidence_msdcv(iter_idx, it, g, glimpse, run=None):\n",
    "    \"\"\"Plot the confidence linegraphs.\"\"\"\n",
    "    \n",
    "    if run is None:\n",
    "        matrix = confidence_msdcv_avg[iter_idx, g]\n",
    "        plot_title = \"Confidence after %d Iterations at Glimpse %d\" % (it, glimpse)\n",
    "\n",
    "    else:\n",
    "        matrix = confidence_msdcv[run, iter_idx, g]\n",
    "        plot_title = \"Confidence at Run %d after %d Iterations at Glimpse %d\" % (run + 1, it, glimpse)\n",
    "    plot_linegraphs(matrix, plot_title)\n",
    "\n",
    "\n",
    "def plot_choice_msdcv(iter_idx, it, g, glimpse, run=None):\n",
    "    \"\"\"Plot the choice linegraphs.\"\"\"\n",
    "    \n",
    "    if run is None:\n",
    "        matrix = choice_msdcv_avg[iter_idx, g]\n",
    "        plot_title = \"Choice after %d Iterations at Glimpse %d\" % (it, glimpse)\n",
    "    else:\n",
    "        matrix = choice_msdcv[run, iter_idx, g]\n",
    "        plot_title = \"Choice at Run %d after %d Iterations at Glimpse %d\" % (run + 1, it, glimpse)\n",
    "    plot_linegraphs(matrix, plot_title)\n",
    "    \n",
    "    \n",
    "def plot_linegraphs(matrix, plot_title):\n",
    "    \"\"\"Plot mean, stdev, and cv linegraphs.\"\"\"\n",
    "    \n",
    "    plot_msd(matrix, plot_title)\n",
    "    plot_cv(matrix, plot_title)"
   ]
  },
  {
   "cell_type": "code",
   "execution_count": 75,
   "metadata": {
    "collapsed": true
   },
   "outputs": [],
   "source": [
    "def plot_msd(matrix, plot_title):\n",
    "    \"\"\"Plot the mean and standard deviation in the same graph.\"\"\"\n",
    "    \n",
    "    x_values = np.array(range(1, 9 + 1))\n",
    "    y_mu = matrix[:, 0]\n",
    "    y_sigma = matrix[:, 1]\n",
    "    \n",
    "    # Create traces\n",
    "    mu_trace = go.Scatter(\n",
    "        x = x_values,\n",
    "        y = y_mu,\n",
    "        name='Mean',\n",
    "    )\n",
    "    sigma_trace = go.Scatter(\n",
    "        x = x_values,\n",
    "        y = y_sigma,\n",
    "        name='Standard Deviation'\n",
    "    )\n",
    "\n",
    "    data = [mu_trace, sigma_trace]\n",
    "    \n",
    "    layout = go.Layout(\n",
    "        title=plot_title,\n",
    "        yaxis=dict(\n",
    "            range=[0.5, 9.5],\n",
    "            title=\"Mean\",\n",
    "            dtick=1,\n",
    "            tickcolor='#FFF'\n",
    "        ),\n",
    "        yaxis2=dict(\n",
    "            range=[0.5, 9.5],\n",
    "            title='Standard Deviation',\n",
    "            dtick=1,\n",
    "            tickcolor='#FFF',\n",
    "            overlaying='y',\n",
    "            side='right'\n",
    "        ),\n",
    "        xaxis=dict(\n",
    "            range=[0.5, 9.5],\n",
    "            title=\"True Class\",\n",
    "            dtick=1,\n",
    "            tickcolor='#FFF'\n",
    "        ),\n",
    "        width=500,\n",
    "        height=500,\n",
    "        plot_bgcolor=\"#000\",\n",
    "        paper_bgcolor=\"#000\",\n",
    "        font=dict(\n",
    "            color=\"#FFF\"\n",
    "        ),\n",
    "        titlefont=dict(\n",
    "            color=\"#FFF\"\n",
    "        ),\n",
    "        legend=dict(x=0, y=1),\n",
    "    )\n",
    "    fig = go.Figure(data=data, layout=layout)\n",
    "    iplot(fig)"
   ]
  },
  {
   "cell_type": "code",
   "execution_count": 77,
   "metadata": {
    "collapsed": true
   },
   "outputs": [],
   "source": [
    "def plot_cv(matrix, plot_title):\n",
    "    \"\"\"Plot the coefficient of variation.\"\"\"\n",
    "        \n",
    "    x_values = np.array(range(1, 9 + 1))\n",
    "    y_cv = confidence_msdcv[0, 0, 0, :, 1]\n",
    "\n",
    "    cv_trace = go.Scatter(\n",
    "        x = x_values,\n",
    "        y = y_cv,\n",
    "        name='Coefficient of Variation'\n",
    "    )\n",
    "    data = [cv_trace]\n",
    "    \n",
    "    layout = go.Layout(\n",
    "        title=plot_title,\n",
    "        yaxis=dict(\n",
    "    #         range=[9.5, 0.5],\n",
    "            title=\"Coefficient of Variation\",\n",
    "            tickcolor='#FFF'\n",
    "        ),\n",
    "        xaxis=dict(\n",
    "            range=[0.5, 9.5],\n",
    "            title=\"True Class\",\n",
    "            dtick=1,\n",
    "            tickcolor='#FFF'\n",
    "        ),\n",
    "        width=500,\n",
    "        height=300,\n",
    "        plot_bgcolor=\"#000\",\n",
    "        paper_bgcolor=\"#000\",\n",
    "        font=dict(\n",
    "            color=\"#FFF\"\n",
    "        ),\n",
    "        titlefont=dict(\n",
    "            color=\"#FFF\"\n",
    "        ),\n",
    "    )\n",
    "    fig = go.Figure(data=data, layout=layout)\n",
    "    iplot(fig)"
   ]
  },
  {
   "cell_type": "code",
   "execution_count": 78,
   "metadata": {},
   "outputs": [
    {
     "data": {
      "application/vnd.plotly.v1+json": {
       "data": [
        {
         "name": "Mean",
         "type": "scatter",
         "x": [
          1,
          2,
          3,
          4,
          5,
          6,
          7,
          8,
          9
         ],
         "y": [
          1.316106755740818,
          2.2195872661260863,
          3.2237093155549297,
          4.162303616386984,
          4.996652542420809,
          5.699696897954733,
          6.3064905953623205,
          6.754980978972787,
          7.103531349771588
         ]
        },
        {
         "name": "Standard Deviation",
         "type": "scatter",
         "x": [
          1,
          2,
          3,
          4,
          5,
          6,
          7,
          8,
          9
         ],
         "y": [
          1.2104341638931937,
          1.626514051849481,
          1.8742294753478042,
          2.0364668284469367,
          2.1066525234620737,
          2.099115949774761,
          2.0377084630994755,
          1.9573451324683355,
          1.8603952237733083
         ]
        }
       ],
       "layout": {
        "font": {
         "color": "#FFF"
        },
        "height": 500,
        "legend": {
         "x": 0,
         "y": 1
        },
        "paper_bgcolor": "#000",
        "plot_bgcolor": "#000",
        "title": "Confidence after 50000 Iterations at Glimpse 0",
        "titlefont": {
         "color": "#FFF"
        },
        "width": 500,
        "xaxis": {
         "dtick": 1,
         "range": [
          0.5,
          9.5
         ],
         "tickcolor": "#FFF",
         "title": "True Class"
        },
        "yaxis": {
         "dtick": 1,
         "range": [
          0.5,
          9.5
         ],
         "tickcolor": "#FFF",
         "title": "Mean"
        },
        "yaxis2": {
         "dtick": 1,
         "overlaying": "y",
         "range": [
          0.5,
          9.5
         ],
         "side": "right",
         "tickcolor": "#FFF",
         "title": "Standard Deviation"
        }
       }
      },
      "text/html": [
       "<div id=\"85b20222-b99a-47f6-ad3d-40123fe52bc9\" style=\"height: 500px; width: 500px;\" class=\"plotly-graph-div\"></div><script type=\"text/javascript\">require([\"plotly\"], function(Plotly) { window.PLOTLYENV=window.PLOTLYENV || {};window.PLOTLYENV.BASE_URL=\"https://plot.ly\";Plotly.newPlot(\"85b20222-b99a-47f6-ad3d-40123fe52bc9\", [{\"y\": [1.316106755740818, 2.2195872661260863, 3.2237093155549297, 4.162303616386984, 4.996652542420809, 5.699696897954733, 6.3064905953623205, 6.754980978972787, 7.103531349771588], \"name\": \"Mean\", \"type\": \"scatter\", \"x\": [1, 2, 3, 4, 5, 6, 7, 8, 9]}, {\"y\": [1.2104341638931937, 1.626514051849481, 1.8742294753478042, 2.0364668284469367, 2.1066525234620737, 2.099115949774761, 2.0377084630994755, 1.9573451324683355, 1.8603952237733083], \"name\": \"Standard Deviation\", \"type\": \"scatter\", \"x\": [1, 2, 3, 4, 5, 6, 7, 8, 9]}], {\"width\": 500, \"titlefont\": {\"color\": \"#FFF\"}, \"legend\": {\"y\": 1, \"x\": 0}, \"yaxis2\": {\"tickcolor\": \"#FFF\", \"side\": \"right\", \"range\": [0.5, 9.5], \"title\": \"Standard Deviation\", \"dtick\": 1, \"overlaying\": \"y\"}, \"title\": \"Confidence after 50000 Iterations at Glimpse 0\", \"height\": 500, \"paper_bgcolor\": \"#000\", \"yaxis\": {\"tickcolor\": \"#FFF\", \"title\": \"Mean\", \"range\": [0.5, 9.5], \"dtick\": 1}, \"xaxis\": {\"tickcolor\": \"#FFF\", \"title\": \"True Class\", \"range\": [0.5, 9.5], \"dtick\": 1}, \"font\": {\"color\": \"#FFF\"}, \"plot_bgcolor\": \"#000\"}, {\"showLink\": true, \"linkText\": \"Export to plot.ly\"})});</script>"
      ],
      "text/vnd.plotly.v1+html": [
       "<div id=\"85b20222-b99a-47f6-ad3d-40123fe52bc9\" style=\"height: 500px; width: 500px;\" class=\"plotly-graph-div\"></div><script type=\"text/javascript\">require([\"plotly\"], function(Plotly) { window.PLOTLYENV=window.PLOTLYENV || {};window.PLOTLYENV.BASE_URL=\"https://plot.ly\";Plotly.newPlot(\"85b20222-b99a-47f6-ad3d-40123fe52bc9\", [{\"y\": [1.316106755740818, 2.2195872661260863, 3.2237093155549297, 4.162303616386984, 4.996652542420809, 5.699696897954733, 6.3064905953623205, 6.754980978972787, 7.103531349771588], \"name\": \"Mean\", \"type\": \"scatter\", \"x\": [1, 2, 3, 4, 5, 6, 7, 8, 9]}, {\"y\": [1.2104341638931937, 1.626514051849481, 1.8742294753478042, 2.0364668284469367, 2.1066525234620737, 2.099115949774761, 2.0377084630994755, 1.9573451324683355, 1.8603952237733083], \"name\": \"Standard Deviation\", \"type\": \"scatter\", \"x\": [1, 2, 3, 4, 5, 6, 7, 8, 9]}], {\"width\": 500, \"titlefont\": {\"color\": \"#FFF\"}, \"legend\": {\"y\": 1, \"x\": 0}, \"yaxis2\": {\"tickcolor\": \"#FFF\", \"side\": \"right\", \"range\": [0.5, 9.5], \"title\": \"Standard Deviation\", \"dtick\": 1, \"overlaying\": \"y\"}, \"title\": \"Confidence after 50000 Iterations at Glimpse 0\", \"height\": 500, \"paper_bgcolor\": \"#000\", \"yaxis\": {\"tickcolor\": \"#FFF\", \"title\": \"Mean\", \"range\": [0.5, 9.5], \"dtick\": 1}, \"xaxis\": {\"tickcolor\": \"#FFF\", \"title\": \"True Class\", \"range\": [0.5, 9.5], \"dtick\": 1}, \"font\": {\"color\": \"#FFF\"}, \"plot_bgcolor\": \"#000\"}, {\"showLink\": true, \"linkText\": \"Export to plot.ly\"})});</script>"
      ]
     },
     "metadata": {},
     "output_type": "display_data"
    },
    {
     "data": {
      "application/vnd.plotly.v1+json": {
       "data": [
        {
         "name": "Coefficient of Variation",
         "type": "scatter",
         "x": [
          1,
          2,
          3,
          4,
          5,
          6,
          7,
          8,
          9
         ],
         "y": [
          1.3708053700436982,
          1.8549778006454358,
          2.1799148837228404,
          2.312437856870688,
          2.341028132025694,
          2.339193968323406,
          2.25607705259968,
          2.195097794690903,
          2.1283378760895983
         ]
        }
       ],
       "layout": {
        "font": {
         "color": "#FFF"
        },
        "height": 300,
        "paper_bgcolor": "#000",
        "plot_bgcolor": "#000",
        "title": "Confidence after 50000 Iterations at Glimpse 0",
        "titlefont": {
         "color": "#FFF"
        },
        "width": 500,
        "xaxis": {
         "dtick": 1,
         "range": [
          0.5,
          9.5
         ],
         "tickcolor": "#FFF",
         "title": "True Class"
        },
        "yaxis": {
         "tickcolor": "#FFF",
         "title": "Coefficient of Variation"
        }
       }
      },
      "text/html": [
       "<div id=\"817c4c78-8b08-49ef-acf1-639e39e6cda0\" style=\"height: 300px; width: 500px;\" class=\"plotly-graph-div\"></div><script type=\"text/javascript\">require([\"plotly\"], function(Plotly) { window.PLOTLYENV=window.PLOTLYENV || {};window.PLOTLYENV.BASE_URL=\"https://plot.ly\";Plotly.newPlot(\"817c4c78-8b08-49ef-acf1-639e39e6cda0\", [{\"y\": [1.3708053700436982, 1.8549778006454358, 2.1799148837228404, 2.312437856870688, 2.341028132025694, 2.339193968323406, 2.25607705259968, 2.195097794690903, 2.1283378760895983], \"name\": \"Coefficient of Variation\", \"type\": \"scatter\", \"x\": [1, 2, 3, 4, 5, 6, 7, 8, 9]}], {\"width\": 500, \"titlefont\": {\"color\": \"#FFF\"}, \"yaxis\": {\"tickcolor\": \"#FFF\", \"title\": \"Coefficient of Variation\"}, \"height\": 300, \"paper_bgcolor\": \"#000\", \"title\": \"Confidence after 50000 Iterations at Glimpse 0\", \"xaxis\": {\"tickcolor\": \"#FFF\", \"title\": \"True Class\", \"range\": [0.5, 9.5], \"dtick\": 1}, \"font\": {\"color\": \"#FFF\"}, \"plot_bgcolor\": \"#000\"}, {\"showLink\": true, \"linkText\": \"Export to plot.ly\"})});</script>"
      ],
      "text/vnd.plotly.v1+html": [
       "<div id=\"817c4c78-8b08-49ef-acf1-639e39e6cda0\" style=\"height: 300px; width: 500px;\" class=\"plotly-graph-div\"></div><script type=\"text/javascript\">require([\"plotly\"], function(Plotly) { window.PLOTLYENV=window.PLOTLYENV || {};window.PLOTLYENV.BASE_URL=\"https://plot.ly\";Plotly.newPlot(\"817c4c78-8b08-49ef-acf1-639e39e6cda0\", [{\"y\": [1.3708053700436982, 1.8549778006454358, 2.1799148837228404, 2.312437856870688, 2.341028132025694, 2.339193968323406, 2.25607705259968, 2.195097794690903, 2.1283378760895983], \"name\": \"Coefficient of Variation\", \"type\": \"scatter\", \"x\": [1, 2, 3, 4, 5, 6, 7, 8, 9]}], {\"width\": 500, \"titlefont\": {\"color\": \"#FFF\"}, \"yaxis\": {\"tickcolor\": \"#FFF\", \"title\": \"Coefficient of Variation\"}, \"height\": 300, \"paper_bgcolor\": \"#000\", \"title\": \"Confidence after 50000 Iterations at Glimpse 0\", \"xaxis\": {\"tickcolor\": \"#FFF\", \"title\": \"True Class\", \"range\": [0.5, 9.5], \"dtick\": 1}, \"font\": {\"color\": \"#FFF\"}, \"plot_bgcolor\": \"#000\"}, {\"showLink\": true, \"linkText\": \"Export to plot.ly\"})});</script>"
      ]
     },
     "metadata": {},
     "output_type": "display_data"
    },
    {
     "data": {
      "application/vnd.plotly.v1+json": {
       "data": [
        {
         "name": "Mean",
         "type": "scatter",
         "x": [
          1,
          2,
          3,
          4,
          5,
          6,
          7,
          8,
          9
         ],
         "y": [
          1.0512000000000001,
          1.8158,
          2.7965000000000004,
          3.7924999999999995,
          4.7338000000000005,
          5.577999999999999,
          6.3260000000000005,
          6.908200000000001,
          7.315099999999999
         ]
        },
        {
         "name": "Standard Deviation",
         "type": "scatter",
         "x": [
          1,
          2,
          3,
          4,
          5,
          6,
          7,
          8,
          9
         ],
         "y": [
          1.0315964293076954,
          1.3192115363154815,
          1.5635986713096928,
          1.7691850450728275,
          1.8969164213584537,
          1.9558233851080267,
          1.9353986826708443,
          1.871266240552826,
          1.7698740881619908
         ]
        }
       ],
       "layout": {
        "font": {
         "color": "#FFF"
        },
        "height": 500,
        "legend": {
         "x": 0,
         "y": 1
        },
        "paper_bgcolor": "#000",
        "plot_bgcolor": "#000",
        "title": "Choice after 50000 Iterations at Glimpse 0",
        "titlefont": {
         "color": "#FFF"
        },
        "width": 500,
        "xaxis": {
         "dtick": 1,
         "range": [
          0.5,
          9.5
         ],
         "tickcolor": "#FFF",
         "title": "True Class"
        },
        "yaxis": {
         "dtick": 1,
         "range": [
          0.5,
          9.5
         ],
         "tickcolor": "#FFF",
         "title": "Mean"
        },
        "yaxis2": {
         "dtick": 1,
         "overlaying": "y",
         "range": [
          0.5,
          9.5
         ],
         "side": "right",
         "tickcolor": "#FFF",
         "title": "Standard Deviation"
        }
       }
      },
      "text/html": [
       "<div id=\"44e2da4a-9cee-4b00-8bb8-d77b38ac54f0\" style=\"height: 500px; width: 500px;\" class=\"plotly-graph-div\"></div><script type=\"text/javascript\">require([\"plotly\"], function(Plotly) { window.PLOTLYENV=window.PLOTLYENV || {};window.PLOTLYENV.BASE_URL=\"https://plot.ly\";Plotly.newPlot(\"44e2da4a-9cee-4b00-8bb8-d77b38ac54f0\", [{\"y\": [1.0512000000000001, 1.8158, 2.7965000000000004, 3.7924999999999995, 4.7338000000000005, 5.577999999999999, 6.3260000000000005, 6.908200000000001, 7.315099999999999], \"name\": \"Mean\", \"type\": \"scatter\", \"x\": [1, 2, 3, 4, 5, 6, 7, 8, 9]}, {\"y\": [1.0315964293076954, 1.3192115363154815, 1.5635986713096928, 1.7691850450728275, 1.8969164213584537, 1.9558233851080267, 1.9353986826708443, 1.871266240552826, 1.7698740881619908], \"name\": \"Standard Deviation\", \"type\": \"scatter\", \"x\": [1, 2, 3, 4, 5, 6, 7, 8, 9]}], {\"width\": 500, \"titlefont\": {\"color\": \"#FFF\"}, \"legend\": {\"y\": 1, \"x\": 0}, \"yaxis2\": {\"tickcolor\": \"#FFF\", \"side\": \"right\", \"range\": [0.5, 9.5], \"title\": \"Standard Deviation\", \"dtick\": 1, \"overlaying\": \"y\"}, \"title\": \"Choice after 50000 Iterations at Glimpse 0\", \"height\": 500, \"paper_bgcolor\": \"#000\", \"yaxis\": {\"tickcolor\": \"#FFF\", \"title\": \"Mean\", \"range\": [0.5, 9.5], \"dtick\": 1}, \"xaxis\": {\"tickcolor\": \"#FFF\", \"title\": \"True Class\", \"range\": [0.5, 9.5], \"dtick\": 1}, \"font\": {\"color\": \"#FFF\"}, \"plot_bgcolor\": \"#000\"}, {\"showLink\": true, \"linkText\": \"Export to plot.ly\"})});</script>"
      ],
      "text/vnd.plotly.v1+html": [
       "<div id=\"44e2da4a-9cee-4b00-8bb8-d77b38ac54f0\" style=\"height: 500px; width: 500px;\" class=\"plotly-graph-div\"></div><script type=\"text/javascript\">require([\"plotly\"], function(Plotly) { window.PLOTLYENV=window.PLOTLYENV || {};window.PLOTLYENV.BASE_URL=\"https://plot.ly\";Plotly.newPlot(\"44e2da4a-9cee-4b00-8bb8-d77b38ac54f0\", [{\"y\": [1.0512000000000001, 1.8158, 2.7965000000000004, 3.7924999999999995, 4.7338000000000005, 5.577999999999999, 6.3260000000000005, 6.908200000000001, 7.315099999999999], \"name\": \"Mean\", \"type\": \"scatter\", \"x\": [1, 2, 3, 4, 5, 6, 7, 8, 9]}, {\"y\": [1.0315964293076954, 1.3192115363154815, 1.5635986713096928, 1.7691850450728275, 1.8969164213584537, 1.9558233851080267, 1.9353986826708443, 1.871266240552826, 1.7698740881619908], \"name\": \"Standard Deviation\", \"type\": \"scatter\", \"x\": [1, 2, 3, 4, 5, 6, 7, 8, 9]}], {\"width\": 500, \"titlefont\": {\"color\": \"#FFF\"}, \"legend\": {\"y\": 1, \"x\": 0}, \"yaxis2\": {\"tickcolor\": \"#FFF\", \"side\": \"right\", \"range\": [0.5, 9.5], \"title\": \"Standard Deviation\", \"dtick\": 1, \"overlaying\": \"y\"}, \"title\": \"Choice after 50000 Iterations at Glimpse 0\", \"height\": 500, \"paper_bgcolor\": \"#000\", \"yaxis\": {\"tickcolor\": \"#FFF\", \"title\": \"Mean\", \"range\": [0.5, 9.5], \"dtick\": 1}, \"xaxis\": {\"tickcolor\": \"#FFF\", \"title\": \"True Class\", \"range\": [0.5, 9.5], \"dtick\": 1}, \"font\": {\"color\": \"#FFF\"}, \"plot_bgcolor\": \"#000\"}, {\"showLink\": true, \"linkText\": \"Export to plot.ly\"})});</script>"
      ]
     },
     "metadata": {},
     "output_type": "display_data"
    },
    {
     "data": {
      "application/vnd.plotly.v1+json": {
       "data": [
        {
         "name": "Coefficient of Variation",
         "type": "scatter",
         "x": [
          1,
          2,
          3,
          4,
          5,
          6,
          7,
          8,
          9
         ],
         "y": [
          1.3708053700436982,
          1.8549778006454358,
          2.1799148837228404,
          2.312437856870688,
          2.341028132025694,
          2.339193968323406,
          2.25607705259968,
          2.195097794690903,
          2.1283378760895983
         ]
        }
       ],
       "layout": {
        "font": {
         "color": "#FFF"
        },
        "height": 300,
        "paper_bgcolor": "#000",
        "plot_bgcolor": "#000",
        "title": "Choice after 50000 Iterations at Glimpse 0",
        "titlefont": {
         "color": "#FFF"
        },
        "width": 500,
        "xaxis": {
         "dtick": 1,
         "range": [
          0.5,
          9.5
         ],
         "tickcolor": "#FFF",
         "title": "True Class"
        },
        "yaxis": {
         "tickcolor": "#FFF",
         "title": "Coefficient of Variation"
        }
       }
      },
      "text/html": [
       "<div id=\"ca0ea2b4-c574-48f2-ad97-89e57aae5d58\" style=\"height: 300px; width: 500px;\" class=\"plotly-graph-div\"></div><script type=\"text/javascript\">require([\"plotly\"], function(Plotly) { window.PLOTLYENV=window.PLOTLYENV || {};window.PLOTLYENV.BASE_URL=\"https://plot.ly\";Plotly.newPlot(\"ca0ea2b4-c574-48f2-ad97-89e57aae5d58\", [{\"y\": [1.3708053700436982, 1.8549778006454358, 2.1799148837228404, 2.312437856870688, 2.341028132025694, 2.339193968323406, 2.25607705259968, 2.195097794690903, 2.1283378760895983], \"name\": \"Coefficient of Variation\", \"type\": \"scatter\", \"x\": [1, 2, 3, 4, 5, 6, 7, 8, 9]}], {\"width\": 500, \"titlefont\": {\"color\": \"#FFF\"}, \"yaxis\": {\"tickcolor\": \"#FFF\", \"title\": \"Coefficient of Variation\"}, \"height\": 300, \"paper_bgcolor\": \"#000\", \"title\": \"Choice after 50000 Iterations at Glimpse 0\", \"xaxis\": {\"tickcolor\": \"#FFF\", \"title\": \"True Class\", \"range\": [0.5, 9.5], \"dtick\": 1}, \"font\": {\"color\": \"#FFF\"}, \"plot_bgcolor\": \"#000\"}, {\"showLink\": true, \"linkText\": \"Export to plot.ly\"})});</script>"
      ],
      "text/vnd.plotly.v1+html": [
       "<div id=\"ca0ea2b4-c574-48f2-ad97-89e57aae5d58\" style=\"height: 300px; width: 500px;\" class=\"plotly-graph-div\"></div><script type=\"text/javascript\">require([\"plotly\"], function(Plotly) { window.PLOTLYENV=window.PLOTLYENV || {};window.PLOTLYENV.BASE_URL=\"https://plot.ly\";Plotly.newPlot(\"ca0ea2b4-c574-48f2-ad97-89e57aae5d58\", [{\"y\": [1.3708053700436982, 1.8549778006454358, 2.1799148837228404, 2.312437856870688, 2.341028132025694, 2.339193968323406, 2.25607705259968, 2.195097794690903, 2.1283378760895983], \"name\": \"Coefficient of Variation\", \"type\": \"scatter\", \"x\": [1, 2, 3, 4, 5, 6, 7, 8, 9]}], {\"width\": 500, \"titlefont\": {\"color\": \"#FFF\"}, \"yaxis\": {\"tickcolor\": \"#FFF\", \"title\": \"Coefficient of Variation\"}, \"height\": 300, \"paper_bgcolor\": \"#000\", \"title\": \"Choice after 50000 Iterations at Glimpse 0\", \"xaxis\": {\"tickcolor\": \"#FFF\", \"title\": \"True Class\", \"range\": [0.5, 9.5], \"dtick\": 1}, \"font\": {\"color\": \"#FFF\"}, \"plot_bgcolor\": \"#000\"}, {\"showLink\": true, \"linkText\": \"Export to plot.ly\"})});</script>"
      ]
     },
     "metadata": {},
     "output_type": "display_data"
    },
    {
     "data": {
      "application/vnd.plotly.v1+json": {
       "data": [
        {
         "name": "Mean",
         "type": "scatter",
         "x": [
          1,
          2,
          3,
          4,
          5,
          6,
          7,
          8,
          9
         ],
         "y": [
          1.205032278604138,
          2.1176224108624395,
          3.1314097836678565,
          4.1224701739973835,
          5.028678815272864,
          5.829865957114798,
          6.525468118499857,
          7.038215532384051,
          7.441918095314655
         ]
        },
        {
         "name": "Standard Deviation",
         "type": "scatter",
         "x": [
          1,
          2,
          3,
          4,
          5,
          6,
          7,
          8,
          9
         ],
         "y": [
          1.1066374739339147,
          1.4476139114512452,
          1.6596700536712512,
          1.827292255088484,
          1.9259024931276663,
          1.9373264164787265,
          1.8693438539464817,
          1.7766480015444788,
          1.6541920281454896
         ]
        }
       ],
       "layout": {
        "font": {
         "color": "#FFF"
        },
        "height": 500,
        "legend": {
         "x": 0,
         "y": 1
        },
        "paper_bgcolor": "#000",
        "plot_bgcolor": "#000",
        "title": "Confidence after 50000 Iterations at Glimpse 3",
        "titlefont": {
         "color": "#FFF"
        },
        "width": 500,
        "xaxis": {
         "dtick": 1,
         "range": [
          0.5,
          9.5
         ],
         "tickcolor": "#FFF",
         "title": "True Class"
        },
        "yaxis": {
         "dtick": 1,
         "range": [
          0.5,
          9.5
         ],
         "tickcolor": "#FFF",
         "title": "Mean"
        },
        "yaxis2": {
         "dtick": 1,
         "overlaying": "y",
         "range": [
          0.5,
          9.5
         ],
         "side": "right",
         "tickcolor": "#FFF",
         "title": "Standard Deviation"
        }
       }
      },
      "text/html": [
       "<div id=\"d6ece128-7bfc-4216-825d-8cf25f89782f\" style=\"height: 500px; width: 500px;\" class=\"plotly-graph-div\"></div><script type=\"text/javascript\">require([\"plotly\"], function(Plotly) { window.PLOTLYENV=window.PLOTLYENV || {};window.PLOTLYENV.BASE_URL=\"https://plot.ly\";Plotly.newPlot(\"d6ece128-7bfc-4216-825d-8cf25f89782f\", [{\"y\": [1.205032278604138, 2.1176224108624395, 3.1314097836678565, 4.1224701739973835, 5.028678815272864, 5.829865957114798, 6.525468118499857, 7.038215532384051, 7.441918095314655], \"name\": \"Mean\", \"type\": \"scatter\", \"x\": [1, 2, 3, 4, 5, 6, 7, 8, 9]}, {\"y\": [1.1066374739339147, 1.4476139114512452, 1.6596700536712512, 1.827292255088484, 1.9259024931276663, 1.9373264164787265, 1.8693438539464817, 1.7766480015444788, 1.6541920281454896], \"name\": \"Standard Deviation\", \"type\": \"scatter\", \"x\": [1, 2, 3, 4, 5, 6, 7, 8, 9]}], {\"width\": 500, \"titlefont\": {\"color\": \"#FFF\"}, \"legend\": {\"y\": 1, \"x\": 0}, \"yaxis2\": {\"tickcolor\": \"#FFF\", \"side\": \"right\", \"range\": [0.5, 9.5], \"title\": \"Standard Deviation\", \"dtick\": 1, \"overlaying\": \"y\"}, \"title\": \"Confidence after 50000 Iterations at Glimpse 3\", \"height\": 500, \"paper_bgcolor\": \"#000\", \"yaxis\": {\"tickcolor\": \"#FFF\", \"title\": \"Mean\", \"range\": [0.5, 9.5], \"dtick\": 1}, \"xaxis\": {\"tickcolor\": \"#FFF\", \"title\": \"True Class\", \"range\": [0.5, 9.5], \"dtick\": 1}, \"font\": {\"color\": \"#FFF\"}, \"plot_bgcolor\": \"#000\"}, {\"showLink\": true, \"linkText\": \"Export to plot.ly\"})});</script>"
      ],
      "text/vnd.plotly.v1+html": [
       "<div id=\"d6ece128-7bfc-4216-825d-8cf25f89782f\" style=\"height: 500px; width: 500px;\" class=\"plotly-graph-div\"></div><script type=\"text/javascript\">require([\"plotly\"], function(Plotly) { window.PLOTLYENV=window.PLOTLYENV || {};window.PLOTLYENV.BASE_URL=\"https://plot.ly\";Plotly.newPlot(\"d6ece128-7bfc-4216-825d-8cf25f89782f\", [{\"y\": [1.205032278604138, 2.1176224108624395, 3.1314097836678565, 4.1224701739973835, 5.028678815272864, 5.829865957114798, 6.525468118499857, 7.038215532384051, 7.441918095314655], \"name\": \"Mean\", \"type\": \"scatter\", \"x\": [1, 2, 3, 4, 5, 6, 7, 8, 9]}, {\"y\": [1.1066374739339147, 1.4476139114512452, 1.6596700536712512, 1.827292255088484, 1.9259024931276663, 1.9373264164787265, 1.8693438539464817, 1.7766480015444788, 1.6541920281454896], \"name\": \"Standard Deviation\", \"type\": \"scatter\", \"x\": [1, 2, 3, 4, 5, 6, 7, 8, 9]}], {\"width\": 500, \"titlefont\": {\"color\": \"#FFF\"}, \"legend\": {\"y\": 1, \"x\": 0}, \"yaxis2\": {\"tickcolor\": \"#FFF\", \"side\": \"right\", \"range\": [0.5, 9.5], \"title\": \"Standard Deviation\", \"dtick\": 1, \"overlaying\": \"y\"}, \"title\": \"Confidence after 50000 Iterations at Glimpse 3\", \"height\": 500, \"paper_bgcolor\": \"#000\", \"yaxis\": {\"tickcolor\": \"#FFF\", \"title\": \"Mean\", \"range\": [0.5, 9.5], \"dtick\": 1}, \"xaxis\": {\"tickcolor\": \"#FFF\", \"title\": \"True Class\", \"range\": [0.5, 9.5], \"dtick\": 1}, \"font\": {\"color\": \"#FFF\"}, \"plot_bgcolor\": \"#000\"}, {\"showLink\": true, \"linkText\": \"Export to plot.ly\"})});</script>"
      ]
     },
     "metadata": {},
     "output_type": "display_data"
    },
    {
     "data": {
      "application/vnd.plotly.v1+json": {
       "data": [
        {
         "name": "Coefficient of Variation",
         "type": "scatter",
         "x": [
          1,
          2,
          3,
          4,
          5,
          6,
          7,
          8,
          9
         ],
         "y": [
          1.3708053700436982,
          1.8549778006454358,
          2.1799148837228404,
          2.312437856870688,
          2.341028132025694,
          2.339193968323406,
          2.25607705259968,
          2.195097794690903,
          2.1283378760895983
         ]
        }
       ],
       "layout": {
        "font": {
         "color": "#FFF"
        },
        "height": 300,
        "paper_bgcolor": "#000",
        "plot_bgcolor": "#000",
        "title": "Confidence after 50000 Iterations at Glimpse 3",
        "titlefont": {
         "color": "#FFF"
        },
        "width": 500,
        "xaxis": {
         "dtick": 1,
         "range": [
          0.5,
          9.5
         ],
         "tickcolor": "#FFF",
         "title": "True Class"
        },
        "yaxis": {
         "tickcolor": "#FFF",
         "title": "Coefficient of Variation"
        }
       }
      },
      "text/html": [
       "<div id=\"d77ac97b-a975-4894-9e0f-f6a32e6fc035\" style=\"height: 300px; width: 500px;\" class=\"plotly-graph-div\"></div><script type=\"text/javascript\">require([\"plotly\"], function(Plotly) { window.PLOTLYENV=window.PLOTLYENV || {};window.PLOTLYENV.BASE_URL=\"https://plot.ly\";Plotly.newPlot(\"d77ac97b-a975-4894-9e0f-f6a32e6fc035\", [{\"y\": [1.3708053700436982, 1.8549778006454358, 2.1799148837228404, 2.312437856870688, 2.341028132025694, 2.339193968323406, 2.25607705259968, 2.195097794690903, 2.1283378760895983], \"name\": \"Coefficient of Variation\", \"type\": \"scatter\", \"x\": [1, 2, 3, 4, 5, 6, 7, 8, 9]}], {\"width\": 500, \"titlefont\": {\"color\": \"#FFF\"}, \"yaxis\": {\"tickcolor\": \"#FFF\", \"title\": \"Coefficient of Variation\"}, \"height\": 300, \"paper_bgcolor\": \"#000\", \"title\": \"Confidence after 50000 Iterations at Glimpse 3\", \"xaxis\": {\"tickcolor\": \"#FFF\", \"title\": \"True Class\", \"range\": [0.5, 9.5], \"dtick\": 1}, \"font\": {\"color\": \"#FFF\"}, \"plot_bgcolor\": \"#000\"}, {\"showLink\": true, \"linkText\": \"Export to plot.ly\"})});</script>"
      ],
      "text/vnd.plotly.v1+html": [
       "<div id=\"d77ac97b-a975-4894-9e0f-f6a32e6fc035\" style=\"height: 300px; width: 500px;\" class=\"plotly-graph-div\"></div><script type=\"text/javascript\">require([\"plotly\"], function(Plotly) { window.PLOTLYENV=window.PLOTLYENV || {};window.PLOTLYENV.BASE_URL=\"https://plot.ly\";Plotly.newPlot(\"d77ac97b-a975-4894-9e0f-f6a32e6fc035\", [{\"y\": [1.3708053700436982, 1.8549778006454358, 2.1799148837228404, 2.312437856870688, 2.341028132025694, 2.339193968323406, 2.25607705259968, 2.195097794690903, 2.1283378760895983], \"name\": \"Coefficient of Variation\", \"type\": \"scatter\", \"x\": [1, 2, 3, 4, 5, 6, 7, 8, 9]}], {\"width\": 500, \"titlefont\": {\"color\": \"#FFF\"}, \"yaxis\": {\"tickcolor\": \"#FFF\", \"title\": \"Coefficient of Variation\"}, \"height\": 300, \"paper_bgcolor\": \"#000\", \"title\": \"Confidence after 50000 Iterations at Glimpse 3\", \"xaxis\": {\"tickcolor\": \"#FFF\", \"title\": \"True Class\", \"range\": [0.5, 9.5], \"dtick\": 1}, \"font\": {\"color\": \"#FFF\"}, \"plot_bgcolor\": \"#000\"}, {\"showLink\": true, \"linkText\": \"Export to plot.ly\"})});</script>"
      ]
     },
     "metadata": {},
     "output_type": "display_data"
    },
    {
     "data": {
      "application/vnd.plotly.v1+json": {
       "data": [
        {
         "name": "Mean",
         "type": "scatter",
         "x": [
          1,
          2,
          3,
          4,
          5,
          6,
          7,
          8,
          9
         ],
         "y": [
          1.071,
          1.8976,
          2.9080000000000004,
          3.9141,
          4.850500000000001,
          5.7499,
          6.5649999999999995,
          7.1828,
          7.677300000000001
         ]
        },
        {
         "name": "Standard Deviation",
         "type": "scatter",
         "x": [
          1,
          2,
          3,
          4,
          5,
          6,
          7,
          8,
          9
         ],
         "y": [
          1.0328790153914325,
          1.2944106879451667,
          1.4660098518769562,
          1.5851970941018743,
          1.7066520837450618,
          1.7821090185530744,
          1.7431375393434088,
          1.663649637687611,
          1.5180444745447725
         ]
        }
       ],
       "layout": {
        "font": {
         "color": "#FFF"
        },
        "height": 500,
        "legend": {
         "x": 0,
         "y": 1
        },
        "paper_bgcolor": "#000",
        "plot_bgcolor": "#000",
        "title": "Choice after 50000 Iterations at Glimpse 3",
        "titlefont": {
         "color": "#FFF"
        },
        "width": 500,
        "xaxis": {
         "dtick": 1,
         "range": [
          0.5,
          9.5
         ],
         "tickcolor": "#FFF",
         "title": "True Class"
        },
        "yaxis": {
         "dtick": 1,
         "range": [
          0.5,
          9.5
         ],
         "tickcolor": "#FFF",
         "title": "Mean"
        },
        "yaxis2": {
         "dtick": 1,
         "overlaying": "y",
         "range": [
          0.5,
          9.5
         ],
         "side": "right",
         "tickcolor": "#FFF",
         "title": "Standard Deviation"
        }
       }
      },
      "text/html": [
       "<div id=\"3ffbaa2f-435a-4891-b565-d064d740c8ad\" style=\"height: 500px; width: 500px;\" class=\"plotly-graph-div\"></div><script type=\"text/javascript\">require([\"plotly\"], function(Plotly) { window.PLOTLYENV=window.PLOTLYENV || {};window.PLOTLYENV.BASE_URL=\"https://plot.ly\";Plotly.newPlot(\"3ffbaa2f-435a-4891-b565-d064d740c8ad\", [{\"y\": [1.071, 1.8976, 2.9080000000000004, 3.9141, 4.850500000000001, 5.7499, 6.5649999999999995, 7.1828, 7.677300000000001], \"name\": \"Mean\", \"type\": \"scatter\", \"x\": [1, 2, 3, 4, 5, 6, 7, 8, 9]}, {\"y\": [1.0328790153914325, 1.2944106879451667, 1.4660098518769562, 1.5851970941018743, 1.7066520837450618, 1.7821090185530744, 1.7431375393434088, 1.663649637687611, 1.5180444745447725], \"name\": \"Standard Deviation\", \"type\": \"scatter\", \"x\": [1, 2, 3, 4, 5, 6, 7, 8, 9]}], {\"width\": 500, \"titlefont\": {\"color\": \"#FFF\"}, \"legend\": {\"y\": 1, \"x\": 0}, \"yaxis2\": {\"tickcolor\": \"#FFF\", \"side\": \"right\", \"range\": [0.5, 9.5], \"title\": \"Standard Deviation\", \"dtick\": 1, \"overlaying\": \"y\"}, \"title\": \"Choice after 50000 Iterations at Glimpse 3\", \"height\": 500, \"paper_bgcolor\": \"#000\", \"yaxis\": {\"tickcolor\": \"#FFF\", \"title\": \"Mean\", \"range\": [0.5, 9.5], \"dtick\": 1}, \"xaxis\": {\"tickcolor\": \"#FFF\", \"title\": \"True Class\", \"range\": [0.5, 9.5], \"dtick\": 1}, \"font\": {\"color\": \"#FFF\"}, \"plot_bgcolor\": \"#000\"}, {\"showLink\": true, \"linkText\": \"Export to plot.ly\"})});</script>"
      ],
      "text/vnd.plotly.v1+html": [
       "<div id=\"3ffbaa2f-435a-4891-b565-d064d740c8ad\" style=\"height: 500px; width: 500px;\" class=\"plotly-graph-div\"></div><script type=\"text/javascript\">require([\"plotly\"], function(Plotly) { window.PLOTLYENV=window.PLOTLYENV || {};window.PLOTLYENV.BASE_URL=\"https://plot.ly\";Plotly.newPlot(\"3ffbaa2f-435a-4891-b565-d064d740c8ad\", [{\"y\": [1.071, 1.8976, 2.9080000000000004, 3.9141, 4.850500000000001, 5.7499, 6.5649999999999995, 7.1828, 7.677300000000001], \"name\": \"Mean\", \"type\": \"scatter\", \"x\": [1, 2, 3, 4, 5, 6, 7, 8, 9]}, {\"y\": [1.0328790153914325, 1.2944106879451667, 1.4660098518769562, 1.5851970941018743, 1.7066520837450618, 1.7821090185530744, 1.7431375393434088, 1.663649637687611, 1.5180444745447725], \"name\": \"Standard Deviation\", \"type\": \"scatter\", \"x\": [1, 2, 3, 4, 5, 6, 7, 8, 9]}], {\"width\": 500, \"titlefont\": {\"color\": \"#FFF\"}, \"legend\": {\"y\": 1, \"x\": 0}, \"yaxis2\": {\"tickcolor\": \"#FFF\", \"side\": \"right\", \"range\": [0.5, 9.5], \"title\": \"Standard Deviation\", \"dtick\": 1, \"overlaying\": \"y\"}, \"title\": \"Choice after 50000 Iterations at Glimpse 3\", \"height\": 500, \"paper_bgcolor\": \"#000\", \"yaxis\": {\"tickcolor\": \"#FFF\", \"title\": \"Mean\", \"range\": [0.5, 9.5], \"dtick\": 1}, \"xaxis\": {\"tickcolor\": \"#FFF\", \"title\": \"True Class\", \"range\": [0.5, 9.5], \"dtick\": 1}, \"font\": {\"color\": \"#FFF\"}, \"plot_bgcolor\": \"#000\"}, {\"showLink\": true, \"linkText\": \"Export to plot.ly\"})});</script>"
      ]
     },
     "metadata": {},
     "output_type": "display_data"
    },
    {
     "data": {
      "application/vnd.plotly.v1+json": {
       "data": [
        {
         "name": "Coefficient of Variation",
         "type": "scatter",
         "x": [
          1,
          2,
          3,
          4,
          5,
          6,
          7,
          8,
          9
         ],
         "y": [
          1.3708053700436982,
          1.8549778006454358,
          2.1799148837228404,
          2.312437856870688,
          2.341028132025694,
          2.339193968323406,
          2.25607705259968,
          2.195097794690903,
          2.1283378760895983
         ]
        }
       ],
       "layout": {
        "font": {
         "color": "#FFF"
        },
        "height": 300,
        "paper_bgcolor": "#000",
        "plot_bgcolor": "#000",
        "title": "Choice after 50000 Iterations at Glimpse 3",
        "titlefont": {
         "color": "#FFF"
        },
        "width": 500,
        "xaxis": {
         "dtick": 1,
         "range": [
          0.5,
          9.5
         ],
         "tickcolor": "#FFF",
         "title": "True Class"
        },
        "yaxis": {
         "tickcolor": "#FFF",
         "title": "Coefficient of Variation"
        }
       }
      },
      "text/html": [
       "<div id=\"0bb18075-bc56-4e78-823b-1dced76a14ca\" style=\"height: 300px; width: 500px;\" class=\"plotly-graph-div\"></div><script type=\"text/javascript\">require([\"plotly\"], function(Plotly) { window.PLOTLYENV=window.PLOTLYENV || {};window.PLOTLYENV.BASE_URL=\"https://plot.ly\";Plotly.newPlot(\"0bb18075-bc56-4e78-823b-1dced76a14ca\", [{\"y\": [1.3708053700436982, 1.8549778006454358, 2.1799148837228404, 2.312437856870688, 2.341028132025694, 2.339193968323406, 2.25607705259968, 2.195097794690903, 2.1283378760895983], \"name\": \"Coefficient of Variation\", \"type\": \"scatter\", \"x\": [1, 2, 3, 4, 5, 6, 7, 8, 9]}], {\"width\": 500, \"titlefont\": {\"color\": \"#FFF\"}, \"yaxis\": {\"tickcolor\": \"#FFF\", \"title\": \"Coefficient of Variation\"}, \"height\": 300, \"paper_bgcolor\": \"#000\", \"title\": \"Choice after 50000 Iterations at Glimpse 3\", \"xaxis\": {\"tickcolor\": \"#FFF\", \"title\": \"True Class\", \"range\": [0.5, 9.5], \"dtick\": 1}, \"font\": {\"color\": \"#FFF\"}, \"plot_bgcolor\": \"#000\"}, {\"showLink\": true, \"linkText\": \"Export to plot.ly\"})});</script>"
      ],
      "text/vnd.plotly.v1+html": [
       "<div id=\"0bb18075-bc56-4e78-823b-1dced76a14ca\" style=\"height: 300px; width: 500px;\" class=\"plotly-graph-div\"></div><script type=\"text/javascript\">require([\"plotly\"], function(Plotly) { window.PLOTLYENV=window.PLOTLYENV || {};window.PLOTLYENV.BASE_URL=\"https://plot.ly\";Plotly.newPlot(\"0bb18075-bc56-4e78-823b-1dced76a14ca\", [{\"y\": [1.3708053700436982, 1.8549778006454358, 2.1799148837228404, 2.312437856870688, 2.341028132025694, 2.339193968323406, 2.25607705259968, 2.195097794690903, 2.1283378760895983], \"name\": \"Coefficient of Variation\", \"type\": \"scatter\", \"x\": [1, 2, 3, 4, 5, 6, 7, 8, 9]}], {\"width\": 500, \"titlefont\": {\"color\": \"#FFF\"}, \"yaxis\": {\"tickcolor\": \"#FFF\", \"title\": \"Coefficient of Variation\"}, \"height\": 300, \"paper_bgcolor\": \"#000\", \"title\": \"Choice after 50000 Iterations at Glimpse 3\", \"xaxis\": {\"tickcolor\": \"#FFF\", \"title\": \"True Class\", \"range\": [0.5, 9.5], \"dtick\": 1}, \"font\": {\"color\": \"#FFF\"}, \"plot_bgcolor\": \"#000\"}, {\"showLink\": true, \"linkText\": \"Export to plot.ly\"})});</script>"
      ]
     },
     "metadata": {},
     "output_type": "display_data"
    },
    {
     "data": {
      "application/vnd.plotly.v1+json": {
       "data": [
        {
         "name": "Mean",
         "type": "scatter",
         "x": [
          1,
          2,
          3,
          4,
          5,
          6,
          7,
          8,
          9
         ],
         "y": [
          1.221557980952155,
          2.0934259767555408,
          3.0967044474647225,
          4.07219168550912,
          4.95137114851646,
          5.7329537917976445,
          6.433140797263782,
          6.948122195533196,
          7.353966054988829
         ]
        },
        {
         "name": "Standard Deviation",
         "type": "scatter",
         "x": [
          1,
          2,
          3,
          4,
          5,
          6,
          7,
          8,
          9
         ],
         "y": [
          1.1154078234873976,
          1.4605956182001099,
          1.674393568681356,
          1.8352056682287194,
          1.9329787409671675,
          1.9558210170618928,
          1.904624538300311,
          1.8152810815680105,
          1.6958567575706198
         ]
        }
       ],
       "layout": {
        "font": {
         "color": "#FFF"
        },
        "height": 500,
        "legend": {
         "x": 0,
         "y": 1
        },
        "paper_bgcolor": "#000",
        "plot_bgcolor": "#000",
        "title": "Confidence after 50000 Iterations at Glimpse 9",
        "titlefont": {
         "color": "#FFF"
        },
        "width": 500,
        "xaxis": {
         "dtick": 1,
         "range": [
          0.5,
          9.5
         ],
         "tickcolor": "#FFF",
         "title": "True Class"
        },
        "yaxis": {
         "dtick": 1,
         "range": [
          0.5,
          9.5
         ],
         "tickcolor": "#FFF",
         "title": "Mean"
        },
        "yaxis2": {
         "dtick": 1,
         "overlaying": "y",
         "range": [
          0.5,
          9.5
         ],
         "side": "right",
         "tickcolor": "#FFF",
         "title": "Standard Deviation"
        }
       }
      },
      "text/html": [
       "<div id=\"4f326e6f-3431-424d-ad55-c2990e5d88be\" style=\"height: 500px; width: 500px;\" class=\"plotly-graph-div\"></div><script type=\"text/javascript\">require([\"plotly\"], function(Plotly) { window.PLOTLYENV=window.PLOTLYENV || {};window.PLOTLYENV.BASE_URL=\"https://plot.ly\";Plotly.newPlot(\"4f326e6f-3431-424d-ad55-c2990e5d88be\", [{\"y\": [1.221557980952155, 2.0934259767555408, 3.0967044474647225, 4.07219168550912, 4.95137114851646, 5.7329537917976445, 6.433140797263782, 6.948122195533196, 7.353966054988829], \"name\": \"Mean\", \"type\": \"scatter\", \"x\": [1, 2, 3, 4, 5, 6, 7, 8, 9]}, {\"y\": [1.1154078234873976, 1.4605956182001099, 1.674393568681356, 1.8352056682287194, 1.9329787409671675, 1.9558210170618928, 1.904624538300311, 1.8152810815680105, 1.6958567575706198], \"name\": \"Standard Deviation\", \"type\": \"scatter\", \"x\": [1, 2, 3, 4, 5, 6, 7, 8, 9]}], {\"width\": 500, \"titlefont\": {\"color\": \"#FFF\"}, \"legend\": {\"y\": 1, \"x\": 0}, \"yaxis2\": {\"tickcolor\": \"#FFF\", \"side\": \"right\", \"range\": [0.5, 9.5], \"title\": \"Standard Deviation\", \"dtick\": 1, \"overlaying\": \"y\"}, \"title\": \"Confidence after 50000 Iterations at Glimpse 9\", \"height\": 500, \"paper_bgcolor\": \"#000\", \"yaxis\": {\"tickcolor\": \"#FFF\", \"title\": \"Mean\", \"range\": [0.5, 9.5], \"dtick\": 1}, \"xaxis\": {\"tickcolor\": \"#FFF\", \"title\": \"True Class\", \"range\": [0.5, 9.5], \"dtick\": 1}, \"font\": {\"color\": \"#FFF\"}, \"plot_bgcolor\": \"#000\"}, {\"showLink\": true, \"linkText\": \"Export to plot.ly\"})});</script>"
      ],
      "text/vnd.plotly.v1+html": [
       "<div id=\"4f326e6f-3431-424d-ad55-c2990e5d88be\" style=\"height: 500px; width: 500px;\" class=\"plotly-graph-div\"></div><script type=\"text/javascript\">require([\"plotly\"], function(Plotly) { window.PLOTLYENV=window.PLOTLYENV || {};window.PLOTLYENV.BASE_URL=\"https://plot.ly\";Plotly.newPlot(\"4f326e6f-3431-424d-ad55-c2990e5d88be\", [{\"y\": [1.221557980952155, 2.0934259767555408, 3.0967044474647225, 4.07219168550912, 4.95137114851646, 5.7329537917976445, 6.433140797263782, 6.948122195533196, 7.353966054988829], \"name\": \"Mean\", \"type\": \"scatter\", \"x\": [1, 2, 3, 4, 5, 6, 7, 8, 9]}, {\"y\": [1.1154078234873976, 1.4605956182001099, 1.674393568681356, 1.8352056682287194, 1.9329787409671675, 1.9558210170618928, 1.904624538300311, 1.8152810815680105, 1.6958567575706198], \"name\": \"Standard Deviation\", \"type\": \"scatter\", \"x\": [1, 2, 3, 4, 5, 6, 7, 8, 9]}], {\"width\": 500, \"titlefont\": {\"color\": \"#FFF\"}, \"legend\": {\"y\": 1, \"x\": 0}, \"yaxis2\": {\"tickcolor\": \"#FFF\", \"side\": \"right\", \"range\": [0.5, 9.5], \"title\": \"Standard Deviation\", \"dtick\": 1, \"overlaying\": \"y\"}, \"title\": \"Confidence after 50000 Iterations at Glimpse 9\", \"height\": 500, \"paper_bgcolor\": \"#000\", \"yaxis\": {\"tickcolor\": \"#FFF\", \"title\": \"Mean\", \"range\": [0.5, 9.5], \"dtick\": 1}, \"xaxis\": {\"tickcolor\": \"#FFF\", \"title\": \"True Class\", \"range\": [0.5, 9.5], \"dtick\": 1}, \"font\": {\"color\": \"#FFF\"}, \"plot_bgcolor\": \"#000\"}, {\"showLink\": true, \"linkText\": \"Export to plot.ly\"})});</script>"
      ]
     },
     "metadata": {},
     "output_type": "display_data"
    },
    {
     "data": {
      "application/vnd.plotly.v1+json": {
       "data": [
        {
         "name": "Coefficient of Variation",
         "type": "scatter",
         "x": [
          1,
          2,
          3,
          4,
          5,
          6,
          7,
          8,
          9
         ],
         "y": [
          1.3708053700436982,
          1.8549778006454358,
          2.1799148837228404,
          2.312437856870688,
          2.341028132025694,
          2.339193968323406,
          2.25607705259968,
          2.195097794690903,
          2.1283378760895983
         ]
        }
       ],
       "layout": {
        "font": {
         "color": "#FFF"
        },
        "height": 300,
        "paper_bgcolor": "#000",
        "plot_bgcolor": "#000",
        "title": "Confidence after 50000 Iterations at Glimpse 9",
        "titlefont": {
         "color": "#FFF"
        },
        "width": 500,
        "xaxis": {
         "dtick": 1,
         "range": [
          0.5,
          9.5
         ],
         "tickcolor": "#FFF",
         "title": "True Class"
        },
        "yaxis": {
         "tickcolor": "#FFF",
         "title": "Coefficient of Variation"
        }
       }
      },
      "text/html": [
       "<div id=\"2577be03-bb90-4e9d-8c5a-c6d88ae36f1b\" style=\"height: 300px; width: 500px;\" class=\"plotly-graph-div\"></div><script type=\"text/javascript\">require([\"plotly\"], function(Plotly) { window.PLOTLYENV=window.PLOTLYENV || {};window.PLOTLYENV.BASE_URL=\"https://plot.ly\";Plotly.newPlot(\"2577be03-bb90-4e9d-8c5a-c6d88ae36f1b\", [{\"y\": [1.3708053700436982, 1.8549778006454358, 2.1799148837228404, 2.312437856870688, 2.341028132025694, 2.339193968323406, 2.25607705259968, 2.195097794690903, 2.1283378760895983], \"name\": \"Coefficient of Variation\", \"type\": \"scatter\", \"x\": [1, 2, 3, 4, 5, 6, 7, 8, 9]}], {\"width\": 500, \"titlefont\": {\"color\": \"#FFF\"}, \"yaxis\": {\"tickcolor\": \"#FFF\", \"title\": \"Coefficient of Variation\"}, \"height\": 300, \"paper_bgcolor\": \"#000\", \"title\": \"Confidence after 50000 Iterations at Glimpse 9\", \"xaxis\": {\"tickcolor\": \"#FFF\", \"title\": \"True Class\", \"range\": [0.5, 9.5], \"dtick\": 1}, \"font\": {\"color\": \"#FFF\"}, \"plot_bgcolor\": \"#000\"}, {\"showLink\": true, \"linkText\": \"Export to plot.ly\"})});</script>"
      ],
      "text/vnd.plotly.v1+html": [
       "<div id=\"2577be03-bb90-4e9d-8c5a-c6d88ae36f1b\" style=\"height: 300px; width: 500px;\" class=\"plotly-graph-div\"></div><script type=\"text/javascript\">require([\"plotly\"], function(Plotly) { window.PLOTLYENV=window.PLOTLYENV || {};window.PLOTLYENV.BASE_URL=\"https://plot.ly\";Plotly.newPlot(\"2577be03-bb90-4e9d-8c5a-c6d88ae36f1b\", [{\"y\": [1.3708053700436982, 1.8549778006454358, 2.1799148837228404, 2.312437856870688, 2.341028132025694, 2.339193968323406, 2.25607705259968, 2.195097794690903, 2.1283378760895983], \"name\": \"Coefficient of Variation\", \"type\": \"scatter\", \"x\": [1, 2, 3, 4, 5, 6, 7, 8, 9]}], {\"width\": 500, \"titlefont\": {\"color\": \"#FFF\"}, \"yaxis\": {\"tickcolor\": \"#FFF\", \"title\": \"Coefficient of Variation\"}, \"height\": 300, \"paper_bgcolor\": \"#000\", \"title\": \"Confidence after 50000 Iterations at Glimpse 9\", \"xaxis\": {\"tickcolor\": \"#FFF\", \"title\": \"True Class\", \"range\": [0.5, 9.5], \"dtick\": 1}, \"font\": {\"color\": \"#FFF\"}, \"plot_bgcolor\": \"#000\"}, {\"showLink\": true, \"linkText\": \"Export to plot.ly\"})});</script>"
      ]
     },
     "metadata": {},
     "output_type": "display_data"
    },
    {
     "data": {
      "application/vnd.plotly.v1+json": {
       "data": [
        {
         "name": "Mean",
         "type": "scatter",
         "x": [
          1,
          2,
          3,
          4,
          5,
          6,
          7,
          8,
          9
         ],
         "y": [
          1.0547999999999997,
          1.8480999999999999,
          2.8497000000000003,
          3.8261000000000003,
          4.750100000000001,
          5.6434,
          6.502199999999999,
          7.146800000000001,
          7.639500000000001
         ]
        },
        {
         "name": "Standard Deviation",
         "type": "scatter",
         "x": [
          1,
          2,
          3,
          4,
          5,
          6,
          7,
          8,
          9
         ],
         "y": [
          1.02519193142378,
          1.2859471618364835,
          1.4485550982390776,
          1.540953652601957,
          1.6642749217303758,
          1.767843714918773,
          1.7611065052515549,
          1.6793668224270832,
          1.5288634603292564
         ]
        }
       ],
       "layout": {
        "font": {
         "color": "#FFF"
        },
        "height": 500,
        "legend": {
         "x": 0,
         "y": 1
        },
        "paper_bgcolor": "#000",
        "plot_bgcolor": "#000",
        "title": "Choice after 50000 Iterations at Glimpse 9",
        "titlefont": {
         "color": "#FFF"
        },
        "width": 500,
        "xaxis": {
         "dtick": 1,
         "range": [
          0.5,
          9.5
         ],
         "tickcolor": "#FFF",
         "title": "True Class"
        },
        "yaxis": {
         "dtick": 1,
         "range": [
          0.5,
          9.5
         ],
         "tickcolor": "#FFF",
         "title": "Mean"
        },
        "yaxis2": {
         "dtick": 1,
         "overlaying": "y",
         "range": [
          0.5,
          9.5
         ],
         "side": "right",
         "tickcolor": "#FFF",
         "title": "Standard Deviation"
        }
       }
      },
      "text/html": [
       "<div id=\"6fcb4eda-bc10-46d7-b37e-fa3fa2578a8c\" style=\"height: 500px; width: 500px;\" class=\"plotly-graph-div\"></div><script type=\"text/javascript\">require([\"plotly\"], function(Plotly) { window.PLOTLYENV=window.PLOTLYENV || {};window.PLOTLYENV.BASE_URL=\"https://plot.ly\";Plotly.newPlot(\"6fcb4eda-bc10-46d7-b37e-fa3fa2578a8c\", [{\"y\": [1.0547999999999997, 1.8480999999999999, 2.8497000000000003, 3.8261000000000003, 4.750100000000001, 5.6434, 6.502199999999999, 7.146800000000001, 7.639500000000001], \"name\": \"Mean\", \"type\": \"scatter\", \"x\": [1, 2, 3, 4, 5, 6, 7, 8, 9]}, {\"y\": [1.02519193142378, 1.2859471618364835, 1.4485550982390776, 1.540953652601957, 1.6642749217303758, 1.767843714918773, 1.7611065052515549, 1.6793668224270832, 1.5288634603292564], \"name\": \"Standard Deviation\", \"type\": \"scatter\", \"x\": [1, 2, 3, 4, 5, 6, 7, 8, 9]}], {\"width\": 500, \"titlefont\": {\"color\": \"#FFF\"}, \"legend\": {\"y\": 1, \"x\": 0}, \"yaxis2\": {\"tickcolor\": \"#FFF\", \"side\": \"right\", \"range\": [0.5, 9.5], \"title\": \"Standard Deviation\", \"dtick\": 1, \"overlaying\": \"y\"}, \"title\": \"Choice after 50000 Iterations at Glimpse 9\", \"height\": 500, \"paper_bgcolor\": \"#000\", \"yaxis\": {\"tickcolor\": \"#FFF\", \"title\": \"Mean\", \"range\": [0.5, 9.5], \"dtick\": 1}, \"xaxis\": {\"tickcolor\": \"#FFF\", \"title\": \"True Class\", \"range\": [0.5, 9.5], \"dtick\": 1}, \"font\": {\"color\": \"#FFF\"}, \"plot_bgcolor\": \"#000\"}, {\"showLink\": true, \"linkText\": \"Export to plot.ly\"})});</script>"
      ],
      "text/vnd.plotly.v1+html": [
       "<div id=\"6fcb4eda-bc10-46d7-b37e-fa3fa2578a8c\" style=\"height: 500px; width: 500px;\" class=\"plotly-graph-div\"></div><script type=\"text/javascript\">require([\"plotly\"], function(Plotly) { window.PLOTLYENV=window.PLOTLYENV || {};window.PLOTLYENV.BASE_URL=\"https://plot.ly\";Plotly.newPlot(\"6fcb4eda-bc10-46d7-b37e-fa3fa2578a8c\", [{\"y\": [1.0547999999999997, 1.8480999999999999, 2.8497000000000003, 3.8261000000000003, 4.750100000000001, 5.6434, 6.502199999999999, 7.146800000000001, 7.639500000000001], \"name\": \"Mean\", \"type\": \"scatter\", \"x\": [1, 2, 3, 4, 5, 6, 7, 8, 9]}, {\"y\": [1.02519193142378, 1.2859471618364835, 1.4485550982390776, 1.540953652601957, 1.6642749217303758, 1.767843714918773, 1.7611065052515549, 1.6793668224270832, 1.5288634603292564], \"name\": \"Standard Deviation\", \"type\": \"scatter\", \"x\": [1, 2, 3, 4, 5, 6, 7, 8, 9]}], {\"width\": 500, \"titlefont\": {\"color\": \"#FFF\"}, \"legend\": {\"y\": 1, \"x\": 0}, \"yaxis2\": {\"tickcolor\": \"#FFF\", \"side\": \"right\", \"range\": [0.5, 9.5], \"title\": \"Standard Deviation\", \"dtick\": 1, \"overlaying\": \"y\"}, \"title\": \"Choice after 50000 Iterations at Glimpse 9\", \"height\": 500, \"paper_bgcolor\": \"#000\", \"yaxis\": {\"tickcolor\": \"#FFF\", \"title\": \"Mean\", \"range\": [0.5, 9.5], \"dtick\": 1}, \"xaxis\": {\"tickcolor\": \"#FFF\", \"title\": \"True Class\", \"range\": [0.5, 9.5], \"dtick\": 1}, \"font\": {\"color\": \"#FFF\"}, \"plot_bgcolor\": \"#000\"}, {\"showLink\": true, \"linkText\": \"Export to plot.ly\"})});</script>"
      ]
     },
     "metadata": {},
     "output_type": "display_data"
    },
    {
     "data": {
      "application/vnd.plotly.v1+json": {
       "data": [
        {
         "name": "Coefficient of Variation",
         "type": "scatter",
         "x": [
          1,
          2,
          3,
          4,
          5,
          6,
          7,
          8,
          9
         ],
         "y": [
          1.3708053700436982,
          1.8549778006454358,
          2.1799148837228404,
          2.312437856870688,
          2.341028132025694,
          2.339193968323406,
          2.25607705259968,
          2.195097794690903,
          2.1283378760895983
         ]
        }
       ],
       "layout": {
        "font": {
         "color": "#FFF"
        },
        "height": 300,
        "paper_bgcolor": "#000",
        "plot_bgcolor": "#000",
        "title": "Choice after 50000 Iterations at Glimpse 9",
        "titlefont": {
         "color": "#FFF"
        },
        "width": 500,
        "xaxis": {
         "dtick": 1,
         "range": [
          0.5,
          9.5
         ],
         "tickcolor": "#FFF",
         "title": "True Class"
        },
        "yaxis": {
         "tickcolor": "#FFF",
         "title": "Coefficient of Variation"
        }
       }
      },
      "text/html": [
       "<div id=\"92340318-848c-4261-87fa-490b49bcb14b\" style=\"height: 300px; width: 500px;\" class=\"plotly-graph-div\"></div><script type=\"text/javascript\">require([\"plotly\"], function(Plotly) { window.PLOTLYENV=window.PLOTLYENV || {};window.PLOTLYENV.BASE_URL=\"https://plot.ly\";Plotly.newPlot(\"92340318-848c-4261-87fa-490b49bcb14b\", [{\"y\": [1.3708053700436982, 1.8549778006454358, 2.1799148837228404, 2.312437856870688, 2.341028132025694, 2.339193968323406, 2.25607705259968, 2.195097794690903, 2.1283378760895983], \"name\": \"Coefficient of Variation\", \"type\": \"scatter\", \"x\": [1, 2, 3, 4, 5, 6, 7, 8, 9]}], {\"width\": 500, \"titlefont\": {\"color\": \"#FFF\"}, \"yaxis\": {\"tickcolor\": \"#FFF\", \"title\": \"Coefficient of Variation\"}, \"height\": 300, \"paper_bgcolor\": \"#000\", \"title\": \"Choice after 50000 Iterations at Glimpse 9\", \"xaxis\": {\"tickcolor\": \"#FFF\", \"title\": \"True Class\", \"range\": [0.5, 9.5], \"dtick\": 1}, \"font\": {\"color\": \"#FFF\"}, \"plot_bgcolor\": \"#000\"}, {\"showLink\": true, \"linkText\": \"Export to plot.ly\"})});</script>"
      ],
      "text/vnd.plotly.v1+html": [
       "<div id=\"92340318-848c-4261-87fa-490b49bcb14b\" style=\"height: 300px; width: 500px;\" class=\"plotly-graph-div\"></div><script type=\"text/javascript\">require([\"plotly\"], function(Plotly) { window.PLOTLYENV=window.PLOTLYENV || {};window.PLOTLYENV.BASE_URL=\"https://plot.ly\";Plotly.newPlot(\"92340318-848c-4261-87fa-490b49bcb14b\", [{\"y\": [1.3708053700436982, 1.8549778006454358, 2.1799148837228404, 2.312437856870688, 2.341028132025694, 2.339193968323406, 2.25607705259968, 2.195097794690903, 2.1283378760895983], \"name\": \"Coefficient of Variation\", \"type\": \"scatter\", \"x\": [1, 2, 3, 4, 5, 6, 7, 8, 9]}], {\"width\": 500, \"titlefont\": {\"color\": \"#FFF\"}, \"yaxis\": {\"tickcolor\": \"#FFF\", \"title\": \"Coefficient of Variation\"}, \"height\": 300, \"paper_bgcolor\": \"#000\", \"title\": \"Choice after 50000 Iterations at Glimpse 9\", \"xaxis\": {\"tickcolor\": \"#FFF\", \"title\": \"True Class\", \"range\": [0.5, 9.5], \"dtick\": 1}, \"font\": {\"color\": \"#FFF\"}, \"plot_bgcolor\": \"#000\"}, {\"showLink\": true, \"linkText\": \"Export to plot.ly\"})});</script>"
      ]
     },
     "metadata": {},
     "output_type": "display_data"
    },
    {
     "data": {
      "application/vnd.plotly.v1+json": {
       "data": [
        {
         "name": "Mean",
         "type": "scatter",
         "x": [
          1,
          2,
          3,
          4,
          5,
          6,
          7,
          8,
          9
         ],
         "y": [
          1.1345089465660183,
          2.1640336336598054,
          3.145248438020355,
          4.09569211589683,
          5.038476130913015,
          5.901218780600308,
          6.661757974245267,
          7.2116164164970185,
          7.63559901504713
         ]
        },
        {
         "name": "Standard Deviation",
         "type": "scatter",
         "x": [
          1,
          2,
          3,
          4,
          5,
          6,
          7,
          8,
          9
         ],
         "y": [
          1.0741373873070947,
          1.354746813416378,
          1.545006273563628,
          1.7562056020134853,
          1.8740868904176697,
          1.8956092008556868,
          1.8215925862996354,
          1.708987595410926,
          1.587198575793471
         ]
        }
       ],
       "layout": {
        "font": {
         "color": "#FFF"
        },
        "height": 500,
        "legend": {
         "x": 0,
         "y": 1
        },
        "paper_bgcolor": "#000",
        "plot_bgcolor": "#000",
        "title": "Confidence after 100000 Iterations at Glimpse 0",
        "titlefont": {
         "color": "#FFF"
        },
        "width": 500,
        "xaxis": {
         "dtick": 1,
         "range": [
          0.5,
          9.5
         ],
         "tickcolor": "#FFF",
         "title": "True Class"
        },
        "yaxis": {
         "dtick": 1,
         "range": [
          0.5,
          9.5
         ],
         "tickcolor": "#FFF",
         "title": "Mean"
        },
        "yaxis2": {
         "dtick": 1,
         "overlaying": "y",
         "range": [
          0.5,
          9.5
         ],
         "side": "right",
         "tickcolor": "#FFF",
         "title": "Standard Deviation"
        }
       }
      },
      "text/html": [
       "<div id=\"9c95d1a9-fd8e-468b-acd8-70aa40027e51\" style=\"height: 500px; width: 500px;\" class=\"plotly-graph-div\"></div><script type=\"text/javascript\">require([\"plotly\"], function(Plotly) { window.PLOTLYENV=window.PLOTLYENV || {};window.PLOTLYENV.BASE_URL=\"https://plot.ly\";Plotly.newPlot(\"9c95d1a9-fd8e-468b-acd8-70aa40027e51\", [{\"y\": [1.1345089465660183, 2.1640336336598054, 3.145248438020355, 4.09569211589683, 5.038476130913015, 5.901218780600308, 6.661757974245267, 7.2116164164970185, 7.63559901504713], \"name\": \"Mean\", \"type\": \"scatter\", \"x\": [1, 2, 3, 4, 5, 6, 7, 8, 9]}, {\"y\": [1.0741373873070947, 1.354746813416378, 1.545006273563628, 1.7562056020134853, 1.8740868904176697, 1.8956092008556868, 1.8215925862996354, 1.708987595410926, 1.587198575793471], \"name\": \"Standard Deviation\", \"type\": \"scatter\", \"x\": [1, 2, 3, 4, 5, 6, 7, 8, 9]}], {\"width\": 500, \"titlefont\": {\"color\": \"#FFF\"}, \"legend\": {\"y\": 1, \"x\": 0}, \"yaxis2\": {\"tickcolor\": \"#FFF\", \"side\": \"right\", \"range\": [0.5, 9.5], \"title\": \"Standard Deviation\", \"dtick\": 1, \"overlaying\": \"y\"}, \"title\": \"Confidence after 100000 Iterations at Glimpse 0\", \"height\": 500, \"paper_bgcolor\": \"#000\", \"yaxis\": {\"tickcolor\": \"#FFF\", \"title\": \"Mean\", \"range\": [0.5, 9.5], \"dtick\": 1}, \"xaxis\": {\"tickcolor\": \"#FFF\", \"title\": \"True Class\", \"range\": [0.5, 9.5], \"dtick\": 1}, \"font\": {\"color\": \"#FFF\"}, \"plot_bgcolor\": \"#000\"}, {\"showLink\": true, \"linkText\": \"Export to plot.ly\"})});</script>"
      ],
      "text/vnd.plotly.v1+html": [
       "<div id=\"9c95d1a9-fd8e-468b-acd8-70aa40027e51\" style=\"height: 500px; width: 500px;\" class=\"plotly-graph-div\"></div><script type=\"text/javascript\">require([\"plotly\"], function(Plotly) { window.PLOTLYENV=window.PLOTLYENV || {};window.PLOTLYENV.BASE_URL=\"https://plot.ly\";Plotly.newPlot(\"9c95d1a9-fd8e-468b-acd8-70aa40027e51\", [{\"y\": [1.1345089465660183, 2.1640336336598054, 3.145248438020355, 4.09569211589683, 5.038476130913015, 5.901218780600308, 6.661757974245267, 7.2116164164970185, 7.63559901504713], \"name\": \"Mean\", \"type\": \"scatter\", \"x\": [1, 2, 3, 4, 5, 6, 7, 8, 9]}, {\"y\": [1.0741373873070947, 1.354746813416378, 1.545006273563628, 1.7562056020134853, 1.8740868904176697, 1.8956092008556868, 1.8215925862996354, 1.708987595410926, 1.587198575793471], \"name\": \"Standard Deviation\", \"type\": \"scatter\", \"x\": [1, 2, 3, 4, 5, 6, 7, 8, 9]}], {\"width\": 500, \"titlefont\": {\"color\": \"#FFF\"}, \"legend\": {\"y\": 1, \"x\": 0}, \"yaxis2\": {\"tickcolor\": \"#FFF\", \"side\": \"right\", \"range\": [0.5, 9.5], \"title\": \"Standard Deviation\", \"dtick\": 1, \"overlaying\": \"y\"}, \"title\": \"Confidence after 100000 Iterations at Glimpse 0\", \"height\": 500, \"paper_bgcolor\": \"#000\", \"yaxis\": {\"tickcolor\": \"#FFF\", \"title\": \"Mean\", \"range\": [0.5, 9.5], \"dtick\": 1}, \"xaxis\": {\"tickcolor\": \"#FFF\", \"title\": \"True Class\", \"range\": [0.5, 9.5], \"dtick\": 1}, \"font\": {\"color\": \"#FFF\"}, \"plot_bgcolor\": \"#000\"}, {\"showLink\": true, \"linkText\": \"Export to plot.ly\"})});</script>"
      ]
     },
     "metadata": {},
     "output_type": "display_data"
    },
    {
     "data": {
      "application/vnd.plotly.v1+json": {
       "data": [
        {
         "name": "Coefficient of Variation",
         "type": "scatter",
         "x": [
          1,
          2,
          3,
          4,
          5,
          6,
          7,
          8,
          9
         ],
         "y": [
          1.3708053700436982,
          1.8549778006454358,
          2.1799148837228404,
          2.312437856870688,
          2.341028132025694,
          2.339193968323406,
          2.25607705259968,
          2.195097794690903,
          2.1283378760895983
         ]
        }
       ],
       "layout": {
        "font": {
         "color": "#FFF"
        },
        "height": 300,
        "paper_bgcolor": "#000",
        "plot_bgcolor": "#000",
        "title": "Confidence after 100000 Iterations at Glimpse 0",
        "titlefont": {
         "color": "#FFF"
        },
        "width": 500,
        "xaxis": {
         "dtick": 1,
         "range": [
          0.5,
          9.5
         ],
         "tickcolor": "#FFF",
         "title": "True Class"
        },
        "yaxis": {
         "tickcolor": "#FFF",
         "title": "Coefficient of Variation"
        }
       }
      },
      "text/html": [
       "<div id=\"a6646e64-40c0-440d-84fc-e92306bdc51b\" style=\"height: 300px; width: 500px;\" class=\"plotly-graph-div\"></div><script type=\"text/javascript\">require([\"plotly\"], function(Plotly) { window.PLOTLYENV=window.PLOTLYENV || {};window.PLOTLYENV.BASE_URL=\"https://plot.ly\";Plotly.newPlot(\"a6646e64-40c0-440d-84fc-e92306bdc51b\", [{\"y\": [1.3708053700436982, 1.8549778006454358, 2.1799148837228404, 2.312437856870688, 2.341028132025694, 2.339193968323406, 2.25607705259968, 2.195097794690903, 2.1283378760895983], \"name\": \"Coefficient of Variation\", \"type\": \"scatter\", \"x\": [1, 2, 3, 4, 5, 6, 7, 8, 9]}], {\"width\": 500, \"titlefont\": {\"color\": \"#FFF\"}, \"yaxis\": {\"tickcolor\": \"#FFF\", \"title\": \"Coefficient of Variation\"}, \"height\": 300, \"paper_bgcolor\": \"#000\", \"title\": \"Confidence after 100000 Iterations at Glimpse 0\", \"xaxis\": {\"tickcolor\": \"#FFF\", \"title\": \"True Class\", \"range\": [0.5, 9.5], \"dtick\": 1}, \"font\": {\"color\": \"#FFF\"}, \"plot_bgcolor\": \"#000\"}, {\"showLink\": true, \"linkText\": \"Export to plot.ly\"})});</script>"
      ],
      "text/vnd.plotly.v1+html": [
       "<div id=\"a6646e64-40c0-440d-84fc-e92306bdc51b\" style=\"height: 300px; width: 500px;\" class=\"plotly-graph-div\"></div><script type=\"text/javascript\">require([\"plotly\"], function(Plotly) { window.PLOTLYENV=window.PLOTLYENV || {};window.PLOTLYENV.BASE_URL=\"https://plot.ly\";Plotly.newPlot(\"a6646e64-40c0-440d-84fc-e92306bdc51b\", [{\"y\": [1.3708053700436982, 1.8549778006454358, 2.1799148837228404, 2.312437856870688, 2.341028132025694, 2.339193968323406, 2.25607705259968, 2.195097794690903, 2.1283378760895983], \"name\": \"Coefficient of Variation\", \"type\": \"scatter\", \"x\": [1, 2, 3, 4, 5, 6, 7, 8, 9]}], {\"width\": 500, \"titlefont\": {\"color\": \"#FFF\"}, \"yaxis\": {\"tickcolor\": \"#FFF\", \"title\": \"Coefficient of Variation\"}, \"height\": 300, \"paper_bgcolor\": \"#000\", \"title\": \"Confidence after 100000 Iterations at Glimpse 0\", \"xaxis\": {\"tickcolor\": \"#FFF\", \"title\": \"True Class\", \"range\": [0.5, 9.5], \"dtick\": 1}, \"font\": {\"color\": \"#FFF\"}, \"plot_bgcolor\": \"#000\"}, {\"showLink\": true, \"linkText\": \"Export to plot.ly\"})});</script>"
      ]
     },
     "metadata": {},
     "output_type": "display_data"
    },
    {
     "data": {
      "application/vnd.plotly.v1+json": {
       "data": [
        {
         "name": "Mean",
         "type": "scatter",
         "x": [
          1,
          2,
          3,
          4,
          5,
          6,
          7,
          8,
          9
         ],
         "y": [
          1.0229,
          1.9343,
          2.8623,
          3.8163999999999993,
          4.816000000000001,
          5.7978000000000005,
          6.6935,
          7.356400000000001,
          7.878
         ]
        },
        {
         "name": "Standard Deviation",
         "type": "scatter",
         "x": [
          1,
          2,
          3,
          4,
          5,
          6,
          7,
          8,
          9
         ],
         "y": [
          1.0111484341069221,
          1.1797728860117553,
          1.3114315576859716,
          1.4915766050904122,
          1.6394239363389034,
          1.717797193966685,
          1.678165856375966,
          1.5975999018291975,
          1.4717220760573468
         ]
        }
       ],
       "layout": {
        "font": {
         "color": "#FFF"
        },
        "height": 500,
        "legend": {
         "x": 0,
         "y": 1
        },
        "paper_bgcolor": "#000",
        "plot_bgcolor": "#000",
        "title": "Choice after 100000 Iterations at Glimpse 0",
        "titlefont": {
         "color": "#FFF"
        },
        "width": 500,
        "xaxis": {
         "dtick": 1,
         "range": [
          0.5,
          9.5
         ],
         "tickcolor": "#FFF",
         "title": "True Class"
        },
        "yaxis": {
         "dtick": 1,
         "range": [
          0.5,
          9.5
         ],
         "tickcolor": "#FFF",
         "title": "Mean"
        },
        "yaxis2": {
         "dtick": 1,
         "overlaying": "y",
         "range": [
          0.5,
          9.5
         ],
         "side": "right",
         "tickcolor": "#FFF",
         "title": "Standard Deviation"
        }
       }
      },
      "text/html": [
       "<div id=\"aef99851-c607-4c23-9130-7f36b8108557\" style=\"height: 500px; width: 500px;\" class=\"plotly-graph-div\"></div><script type=\"text/javascript\">require([\"plotly\"], function(Plotly) { window.PLOTLYENV=window.PLOTLYENV || {};window.PLOTLYENV.BASE_URL=\"https://plot.ly\";Plotly.newPlot(\"aef99851-c607-4c23-9130-7f36b8108557\", [{\"y\": [1.0229, 1.9343, 2.8623, 3.8163999999999993, 4.816000000000001, 5.7978000000000005, 6.6935, 7.356400000000001, 7.878], \"name\": \"Mean\", \"type\": \"scatter\", \"x\": [1, 2, 3, 4, 5, 6, 7, 8, 9]}, {\"y\": [1.0111484341069221, 1.1797728860117553, 1.3114315576859716, 1.4915766050904122, 1.6394239363389034, 1.717797193966685, 1.678165856375966, 1.5975999018291975, 1.4717220760573468], \"name\": \"Standard Deviation\", \"type\": \"scatter\", \"x\": [1, 2, 3, 4, 5, 6, 7, 8, 9]}], {\"width\": 500, \"titlefont\": {\"color\": \"#FFF\"}, \"legend\": {\"y\": 1, \"x\": 0}, \"yaxis2\": {\"tickcolor\": \"#FFF\", \"side\": \"right\", \"range\": [0.5, 9.5], \"title\": \"Standard Deviation\", \"dtick\": 1, \"overlaying\": \"y\"}, \"title\": \"Choice after 100000 Iterations at Glimpse 0\", \"height\": 500, \"paper_bgcolor\": \"#000\", \"yaxis\": {\"tickcolor\": \"#FFF\", \"title\": \"Mean\", \"range\": [0.5, 9.5], \"dtick\": 1}, \"xaxis\": {\"tickcolor\": \"#FFF\", \"title\": \"True Class\", \"range\": [0.5, 9.5], \"dtick\": 1}, \"font\": {\"color\": \"#FFF\"}, \"plot_bgcolor\": \"#000\"}, {\"showLink\": true, \"linkText\": \"Export to plot.ly\"})});</script>"
      ],
      "text/vnd.plotly.v1+html": [
       "<div id=\"aef99851-c607-4c23-9130-7f36b8108557\" style=\"height: 500px; width: 500px;\" class=\"plotly-graph-div\"></div><script type=\"text/javascript\">require([\"plotly\"], function(Plotly) { window.PLOTLYENV=window.PLOTLYENV || {};window.PLOTLYENV.BASE_URL=\"https://plot.ly\";Plotly.newPlot(\"aef99851-c607-4c23-9130-7f36b8108557\", [{\"y\": [1.0229, 1.9343, 2.8623, 3.8163999999999993, 4.816000000000001, 5.7978000000000005, 6.6935, 7.356400000000001, 7.878], \"name\": \"Mean\", \"type\": \"scatter\", \"x\": [1, 2, 3, 4, 5, 6, 7, 8, 9]}, {\"y\": [1.0111484341069221, 1.1797728860117553, 1.3114315576859716, 1.4915766050904122, 1.6394239363389034, 1.717797193966685, 1.678165856375966, 1.5975999018291975, 1.4717220760573468], \"name\": \"Standard Deviation\", \"type\": \"scatter\", \"x\": [1, 2, 3, 4, 5, 6, 7, 8, 9]}], {\"width\": 500, \"titlefont\": {\"color\": \"#FFF\"}, \"legend\": {\"y\": 1, \"x\": 0}, \"yaxis2\": {\"tickcolor\": \"#FFF\", \"side\": \"right\", \"range\": [0.5, 9.5], \"title\": \"Standard Deviation\", \"dtick\": 1, \"overlaying\": \"y\"}, \"title\": \"Choice after 100000 Iterations at Glimpse 0\", \"height\": 500, \"paper_bgcolor\": \"#000\", \"yaxis\": {\"tickcolor\": \"#FFF\", \"title\": \"Mean\", \"range\": [0.5, 9.5], \"dtick\": 1}, \"xaxis\": {\"tickcolor\": \"#FFF\", \"title\": \"True Class\", \"range\": [0.5, 9.5], \"dtick\": 1}, \"font\": {\"color\": \"#FFF\"}, \"plot_bgcolor\": \"#000\"}, {\"showLink\": true, \"linkText\": \"Export to plot.ly\"})});</script>"
      ]
     },
     "metadata": {},
     "output_type": "display_data"
    },
    {
     "data": {
      "application/vnd.plotly.v1+json": {
       "data": [
        {
         "name": "Coefficient of Variation",
         "type": "scatter",
         "x": [
          1,
          2,
          3,
          4,
          5,
          6,
          7,
          8,
          9
         ],
         "y": [
          1.3708053700436982,
          1.8549778006454358,
          2.1799148837228404,
          2.312437856870688,
          2.341028132025694,
          2.339193968323406,
          2.25607705259968,
          2.195097794690903,
          2.1283378760895983
         ]
        }
       ],
       "layout": {
        "font": {
         "color": "#FFF"
        },
        "height": 300,
        "paper_bgcolor": "#000",
        "plot_bgcolor": "#000",
        "title": "Choice after 100000 Iterations at Glimpse 0",
        "titlefont": {
         "color": "#FFF"
        },
        "width": 500,
        "xaxis": {
         "dtick": 1,
         "range": [
          0.5,
          9.5
         ],
         "tickcolor": "#FFF",
         "title": "True Class"
        },
        "yaxis": {
         "tickcolor": "#FFF",
         "title": "Coefficient of Variation"
        }
       }
      },
      "text/html": [
       "<div id=\"0a7cd730-322e-4b81-ae27-c03e18bb8ae9\" style=\"height: 300px; width: 500px;\" class=\"plotly-graph-div\"></div><script type=\"text/javascript\">require([\"plotly\"], function(Plotly) { window.PLOTLYENV=window.PLOTLYENV || {};window.PLOTLYENV.BASE_URL=\"https://plot.ly\";Plotly.newPlot(\"0a7cd730-322e-4b81-ae27-c03e18bb8ae9\", [{\"y\": [1.3708053700436982, 1.8549778006454358, 2.1799148837228404, 2.312437856870688, 2.341028132025694, 2.339193968323406, 2.25607705259968, 2.195097794690903, 2.1283378760895983], \"name\": \"Coefficient of Variation\", \"type\": \"scatter\", \"x\": [1, 2, 3, 4, 5, 6, 7, 8, 9]}], {\"width\": 500, \"titlefont\": {\"color\": \"#FFF\"}, \"yaxis\": {\"tickcolor\": \"#FFF\", \"title\": \"Coefficient of Variation\"}, \"height\": 300, \"paper_bgcolor\": \"#000\", \"title\": \"Choice after 100000 Iterations at Glimpse 0\", \"xaxis\": {\"tickcolor\": \"#FFF\", \"title\": \"True Class\", \"range\": [0.5, 9.5], \"dtick\": 1}, \"font\": {\"color\": \"#FFF\"}, \"plot_bgcolor\": \"#000\"}, {\"showLink\": true, \"linkText\": \"Export to plot.ly\"})});</script>"
      ],
      "text/vnd.plotly.v1+html": [
       "<div id=\"0a7cd730-322e-4b81-ae27-c03e18bb8ae9\" style=\"height: 300px; width: 500px;\" class=\"plotly-graph-div\"></div><script type=\"text/javascript\">require([\"plotly\"], function(Plotly) { window.PLOTLYENV=window.PLOTLYENV || {};window.PLOTLYENV.BASE_URL=\"https://plot.ly\";Plotly.newPlot(\"0a7cd730-322e-4b81-ae27-c03e18bb8ae9\", [{\"y\": [1.3708053700436982, 1.8549778006454358, 2.1799148837228404, 2.312437856870688, 2.341028132025694, 2.339193968323406, 2.25607705259968, 2.195097794690903, 2.1283378760895983], \"name\": \"Coefficient of Variation\", \"type\": \"scatter\", \"x\": [1, 2, 3, 4, 5, 6, 7, 8, 9]}], {\"width\": 500, \"titlefont\": {\"color\": \"#FFF\"}, \"yaxis\": {\"tickcolor\": \"#FFF\", \"title\": \"Coefficient of Variation\"}, \"height\": 300, \"paper_bgcolor\": \"#000\", \"title\": \"Choice after 100000 Iterations at Glimpse 0\", \"xaxis\": {\"tickcolor\": \"#FFF\", \"title\": \"True Class\", \"range\": [0.5, 9.5], \"dtick\": 1}, \"font\": {\"color\": \"#FFF\"}, \"plot_bgcolor\": \"#000\"}, {\"showLink\": true, \"linkText\": \"Export to plot.ly\"})});</script>"
      ]
     },
     "metadata": {},
     "output_type": "display_data"
    },
    {
     "data": {
      "application/vnd.plotly.v1+json": {
       "data": [
        {
         "name": "Mean",
         "type": "scatter",
         "x": [
          1,
          2,
          3,
          4,
          5,
          6,
          7,
          8,
          9
         ],
         "y": [
          1.0841341219115004,
          2.173261267483205,
          3.090778490206371,
          4.05229074065708,
          5.024096036587958,
          5.930172928997068,
          6.724382192774769,
          7.32513728944229,
          7.7616506150528455
         ]
        },
        {
         "name": "Standard Deviation",
         "type": "scatter",
         "x": [
          1,
          2,
          3,
          4,
          5,
          6,
          7,
          8,
          9
         ],
         "y": [
          1.042578882578995,
          1.258976986286803,
          1.447855998385763,
          1.6615550375218313,
          1.7816036156899333,
          1.8086480274158685,
          1.7371725161062734,
          1.6229544835191398,
          1.4968246963723417
         ]
        }
       ],
       "layout": {
        "font": {
         "color": "#FFF"
        },
        "height": 500,
        "legend": {
         "x": 0,
         "y": 1
        },
        "paper_bgcolor": "#000",
        "plot_bgcolor": "#000",
        "title": "Confidence after 100000 Iterations at Glimpse 3",
        "titlefont": {
         "color": "#FFF"
        },
        "width": 500,
        "xaxis": {
         "dtick": 1,
         "range": [
          0.5,
          9.5
         ],
         "tickcolor": "#FFF",
         "title": "True Class"
        },
        "yaxis": {
         "dtick": 1,
         "range": [
          0.5,
          9.5
         ],
         "tickcolor": "#FFF",
         "title": "Mean"
        },
        "yaxis2": {
         "dtick": 1,
         "overlaying": "y",
         "range": [
          0.5,
          9.5
         ],
         "side": "right",
         "tickcolor": "#FFF",
         "title": "Standard Deviation"
        }
       }
      },
      "text/html": [
       "<div id=\"c0cc78ee-6474-4349-8940-64325d373f1d\" style=\"height: 500px; width: 500px;\" class=\"plotly-graph-div\"></div><script type=\"text/javascript\">require([\"plotly\"], function(Plotly) { window.PLOTLYENV=window.PLOTLYENV || {};window.PLOTLYENV.BASE_URL=\"https://plot.ly\";Plotly.newPlot(\"c0cc78ee-6474-4349-8940-64325d373f1d\", [{\"y\": [1.0841341219115004, 2.173261267483205, 3.090778490206371, 4.05229074065708, 5.024096036587958, 5.930172928997068, 6.724382192774769, 7.32513728944229, 7.7616506150528455], \"name\": \"Mean\", \"type\": \"scatter\", \"x\": [1, 2, 3, 4, 5, 6, 7, 8, 9]}, {\"y\": [1.042578882578995, 1.258976986286803, 1.447855998385763, 1.6615550375218313, 1.7816036156899333, 1.8086480274158685, 1.7371725161062734, 1.6229544835191398, 1.4968246963723417], \"name\": \"Standard Deviation\", \"type\": \"scatter\", \"x\": [1, 2, 3, 4, 5, 6, 7, 8, 9]}], {\"width\": 500, \"titlefont\": {\"color\": \"#FFF\"}, \"legend\": {\"y\": 1, \"x\": 0}, \"yaxis2\": {\"tickcolor\": \"#FFF\", \"side\": \"right\", \"range\": [0.5, 9.5], \"title\": \"Standard Deviation\", \"dtick\": 1, \"overlaying\": \"y\"}, \"title\": \"Confidence after 100000 Iterations at Glimpse 3\", \"height\": 500, \"paper_bgcolor\": \"#000\", \"yaxis\": {\"tickcolor\": \"#FFF\", \"title\": \"Mean\", \"range\": [0.5, 9.5], \"dtick\": 1}, \"xaxis\": {\"tickcolor\": \"#FFF\", \"title\": \"True Class\", \"range\": [0.5, 9.5], \"dtick\": 1}, \"font\": {\"color\": \"#FFF\"}, \"plot_bgcolor\": \"#000\"}, {\"showLink\": true, \"linkText\": \"Export to plot.ly\"})});</script>"
      ],
      "text/vnd.plotly.v1+html": [
       "<div id=\"c0cc78ee-6474-4349-8940-64325d373f1d\" style=\"height: 500px; width: 500px;\" class=\"plotly-graph-div\"></div><script type=\"text/javascript\">require([\"plotly\"], function(Plotly) { window.PLOTLYENV=window.PLOTLYENV || {};window.PLOTLYENV.BASE_URL=\"https://plot.ly\";Plotly.newPlot(\"c0cc78ee-6474-4349-8940-64325d373f1d\", [{\"y\": [1.0841341219115004, 2.173261267483205, 3.090778490206371, 4.05229074065708, 5.024096036587958, 5.930172928997068, 6.724382192774769, 7.32513728944229, 7.7616506150528455], \"name\": \"Mean\", \"type\": \"scatter\", \"x\": [1, 2, 3, 4, 5, 6, 7, 8, 9]}, {\"y\": [1.042578882578995, 1.258976986286803, 1.447855998385763, 1.6615550375218313, 1.7816036156899333, 1.8086480274158685, 1.7371725161062734, 1.6229544835191398, 1.4968246963723417], \"name\": \"Standard Deviation\", \"type\": \"scatter\", \"x\": [1, 2, 3, 4, 5, 6, 7, 8, 9]}], {\"width\": 500, \"titlefont\": {\"color\": \"#FFF\"}, \"legend\": {\"y\": 1, \"x\": 0}, \"yaxis2\": {\"tickcolor\": \"#FFF\", \"side\": \"right\", \"range\": [0.5, 9.5], \"title\": \"Standard Deviation\", \"dtick\": 1, \"overlaying\": \"y\"}, \"title\": \"Confidence after 100000 Iterations at Glimpse 3\", \"height\": 500, \"paper_bgcolor\": \"#000\", \"yaxis\": {\"tickcolor\": \"#FFF\", \"title\": \"Mean\", \"range\": [0.5, 9.5], \"dtick\": 1}, \"xaxis\": {\"tickcolor\": \"#FFF\", \"title\": \"True Class\", \"range\": [0.5, 9.5], \"dtick\": 1}, \"font\": {\"color\": \"#FFF\"}, \"plot_bgcolor\": \"#000\"}, {\"showLink\": true, \"linkText\": \"Export to plot.ly\"})});</script>"
      ]
     },
     "metadata": {},
     "output_type": "display_data"
    },
    {
     "data": {
      "application/vnd.plotly.v1+json": {
       "data": [
        {
         "name": "Coefficient of Variation",
         "type": "scatter",
         "x": [
          1,
          2,
          3,
          4,
          5,
          6,
          7,
          8,
          9
         ],
         "y": [
          1.3708053700436982,
          1.8549778006454358,
          2.1799148837228404,
          2.312437856870688,
          2.341028132025694,
          2.339193968323406,
          2.25607705259968,
          2.195097794690903,
          2.1283378760895983
         ]
        }
       ],
       "layout": {
        "font": {
         "color": "#FFF"
        },
        "height": 300,
        "paper_bgcolor": "#000",
        "plot_bgcolor": "#000",
        "title": "Confidence after 100000 Iterations at Glimpse 3",
        "titlefont": {
         "color": "#FFF"
        },
        "width": 500,
        "xaxis": {
         "dtick": 1,
         "range": [
          0.5,
          9.5
         ],
         "tickcolor": "#FFF",
         "title": "True Class"
        },
        "yaxis": {
         "tickcolor": "#FFF",
         "title": "Coefficient of Variation"
        }
       }
      },
      "text/html": [
       "<div id=\"a1aee304-6d68-46b0-b1bb-64019c552017\" style=\"height: 300px; width: 500px;\" class=\"plotly-graph-div\"></div><script type=\"text/javascript\">require([\"plotly\"], function(Plotly) { window.PLOTLYENV=window.PLOTLYENV || {};window.PLOTLYENV.BASE_URL=\"https://plot.ly\";Plotly.newPlot(\"a1aee304-6d68-46b0-b1bb-64019c552017\", [{\"y\": [1.3708053700436982, 1.8549778006454358, 2.1799148837228404, 2.312437856870688, 2.341028132025694, 2.339193968323406, 2.25607705259968, 2.195097794690903, 2.1283378760895983], \"name\": \"Coefficient of Variation\", \"type\": \"scatter\", \"x\": [1, 2, 3, 4, 5, 6, 7, 8, 9]}], {\"width\": 500, \"titlefont\": {\"color\": \"#FFF\"}, \"yaxis\": {\"tickcolor\": \"#FFF\", \"title\": \"Coefficient of Variation\"}, \"height\": 300, \"paper_bgcolor\": \"#000\", \"title\": \"Confidence after 100000 Iterations at Glimpse 3\", \"xaxis\": {\"tickcolor\": \"#FFF\", \"title\": \"True Class\", \"range\": [0.5, 9.5], \"dtick\": 1}, \"font\": {\"color\": \"#FFF\"}, \"plot_bgcolor\": \"#000\"}, {\"showLink\": true, \"linkText\": \"Export to plot.ly\"})});</script>"
      ],
      "text/vnd.plotly.v1+html": [
       "<div id=\"a1aee304-6d68-46b0-b1bb-64019c552017\" style=\"height: 300px; width: 500px;\" class=\"plotly-graph-div\"></div><script type=\"text/javascript\">require([\"plotly\"], function(Plotly) { window.PLOTLYENV=window.PLOTLYENV || {};window.PLOTLYENV.BASE_URL=\"https://plot.ly\";Plotly.newPlot(\"a1aee304-6d68-46b0-b1bb-64019c552017\", [{\"y\": [1.3708053700436982, 1.8549778006454358, 2.1799148837228404, 2.312437856870688, 2.341028132025694, 2.339193968323406, 2.25607705259968, 2.195097794690903, 2.1283378760895983], \"name\": \"Coefficient of Variation\", \"type\": \"scatter\", \"x\": [1, 2, 3, 4, 5, 6, 7, 8, 9]}], {\"width\": 500, \"titlefont\": {\"color\": \"#FFF\"}, \"yaxis\": {\"tickcolor\": \"#FFF\", \"title\": \"Coefficient of Variation\"}, \"height\": 300, \"paper_bgcolor\": \"#000\", \"title\": \"Confidence after 100000 Iterations at Glimpse 3\", \"xaxis\": {\"tickcolor\": \"#FFF\", \"title\": \"True Class\", \"range\": [0.5, 9.5], \"dtick\": 1}, \"font\": {\"color\": \"#FFF\"}, \"plot_bgcolor\": \"#000\"}, {\"showLink\": true, \"linkText\": \"Export to plot.ly\"})});</script>"
      ]
     },
     "metadata": {},
     "output_type": "display_data"
    },
    {
     "data": {
      "application/vnd.plotly.v1+json": {
       "data": [
        {
         "name": "Mean",
         "type": "scatter",
         "x": [
          1,
          2,
          3,
          4,
          5,
          6,
          7,
          8,
          9
         ],
         "y": [
          1.019,
          2.0256,
          2.903199999999999,
          3.8771999999999998,
          4.8865,
          5.8734,
          6.7696,
          7.4637,
          7.9811
         ]
        },
        {
         "name": "Standard Deviation",
         "type": "scatter",
         "x": [
          1,
          2,
          3,
          4,
          5,
          6,
          7,
          8,
          9
         ],
         "y": [
          1.0091579066093026,
          1.1483392274201643,
          1.2947535999914859,
          1.4711186331768034,
          1.6015789104154936,
          1.641236903543953,
          1.5857021390500425,
          1.5055677176309057,
          1.373930230895462
         ]
        }
       ],
       "layout": {
        "font": {
         "color": "#FFF"
        },
        "height": 500,
        "legend": {
         "x": 0,
         "y": 1
        },
        "paper_bgcolor": "#000",
        "plot_bgcolor": "#000",
        "title": "Choice after 100000 Iterations at Glimpse 3",
        "titlefont": {
         "color": "#FFF"
        },
        "width": 500,
        "xaxis": {
         "dtick": 1,
         "range": [
          0.5,
          9.5
         ],
         "tickcolor": "#FFF",
         "title": "True Class"
        },
        "yaxis": {
         "dtick": 1,
         "range": [
          0.5,
          9.5
         ],
         "tickcolor": "#FFF",
         "title": "Mean"
        },
        "yaxis2": {
         "dtick": 1,
         "overlaying": "y",
         "range": [
          0.5,
          9.5
         ],
         "side": "right",
         "tickcolor": "#FFF",
         "title": "Standard Deviation"
        }
       }
      },
      "text/html": [
       "<div id=\"0ec5c2c5-b94c-4cd4-b439-a65a123c2935\" style=\"height: 500px; width: 500px;\" class=\"plotly-graph-div\"></div><script type=\"text/javascript\">require([\"plotly\"], function(Plotly) { window.PLOTLYENV=window.PLOTLYENV || {};window.PLOTLYENV.BASE_URL=\"https://plot.ly\";Plotly.newPlot(\"0ec5c2c5-b94c-4cd4-b439-a65a123c2935\", [{\"y\": [1.019, 2.0256, 2.903199999999999, 3.8771999999999998, 4.8865, 5.8734, 6.7696, 7.4637, 7.9811], \"name\": \"Mean\", \"type\": \"scatter\", \"x\": [1, 2, 3, 4, 5, 6, 7, 8, 9]}, {\"y\": [1.0091579066093026, 1.1483392274201643, 1.2947535999914859, 1.4711186331768034, 1.6015789104154936, 1.641236903543953, 1.5857021390500425, 1.5055677176309057, 1.373930230895462], \"name\": \"Standard Deviation\", \"type\": \"scatter\", \"x\": [1, 2, 3, 4, 5, 6, 7, 8, 9]}], {\"width\": 500, \"titlefont\": {\"color\": \"#FFF\"}, \"legend\": {\"y\": 1, \"x\": 0}, \"yaxis2\": {\"tickcolor\": \"#FFF\", \"side\": \"right\", \"range\": [0.5, 9.5], \"title\": \"Standard Deviation\", \"dtick\": 1, \"overlaying\": \"y\"}, \"title\": \"Choice after 100000 Iterations at Glimpse 3\", \"height\": 500, \"paper_bgcolor\": \"#000\", \"yaxis\": {\"tickcolor\": \"#FFF\", \"title\": \"Mean\", \"range\": [0.5, 9.5], \"dtick\": 1}, \"xaxis\": {\"tickcolor\": \"#FFF\", \"title\": \"True Class\", \"range\": [0.5, 9.5], \"dtick\": 1}, \"font\": {\"color\": \"#FFF\"}, \"plot_bgcolor\": \"#000\"}, {\"showLink\": true, \"linkText\": \"Export to plot.ly\"})});</script>"
      ],
      "text/vnd.plotly.v1+html": [
       "<div id=\"0ec5c2c5-b94c-4cd4-b439-a65a123c2935\" style=\"height: 500px; width: 500px;\" class=\"plotly-graph-div\"></div><script type=\"text/javascript\">require([\"plotly\"], function(Plotly) { window.PLOTLYENV=window.PLOTLYENV || {};window.PLOTLYENV.BASE_URL=\"https://plot.ly\";Plotly.newPlot(\"0ec5c2c5-b94c-4cd4-b439-a65a123c2935\", [{\"y\": [1.019, 2.0256, 2.903199999999999, 3.8771999999999998, 4.8865, 5.8734, 6.7696, 7.4637, 7.9811], \"name\": \"Mean\", \"type\": \"scatter\", \"x\": [1, 2, 3, 4, 5, 6, 7, 8, 9]}, {\"y\": [1.0091579066093026, 1.1483392274201643, 1.2947535999914859, 1.4711186331768034, 1.6015789104154936, 1.641236903543953, 1.5857021390500425, 1.5055677176309057, 1.373930230895462], \"name\": \"Standard Deviation\", \"type\": \"scatter\", \"x\": [1, 2, 3, 4, 5, 6, 7, 8, 9]}], {\"width\": 500, \"titlefont\": {\"color\": \"#FFF\"}, \"legend\": {\"y\": 1, \"x\": 0}, \"yaxis2\": {\"tickcolor\": \"#FFF\", \"side\": \"right\", \"range\": [0.5, 9.5], \"title\": \"Standard Deviation\", \"dtick\": 1, \"overlaying\": \"y\"}, \"title\": \"Choice after 100000 Iterations at Glimpse 3\", \"height\": 500, \"paper_bgcolor\": \"#000\", \"yaxis\": {\"tickcolor\": \"#FFF\", \"title\": \"Mean\", \"range\": [0.5, 9.5], \"dtick\": 1}, \"xaxis\": {\"tickcolor\": \"#FFF\", \"title\": \"True Class\", \"range\": [0.5, 9.5], \"dtick\": 1}, \"font\": {\"color\": \"#FFF\"}, \"plot_bgcolor\": \"#000\"}, {\"showLink\": true, \"linkText\": \"Export to plot.ly\"})});</script>"
      ]
     },
     "metadata": {},
     "output_type": "display_data"
    },
    {
     "data": {
      "application/vnd.plotly.v1+json": {
       "data": [
        {
         "name": "Coefficient of Variation",
         "type": "scatter",
         "x": [
          1,
          2,
          3,
          4,
          5,
          6,
          7,
          8,
          9
         ],
         "y": [
          1.3708053700436982,
          1.8549778006454358,
          2.1799148837228404,
          2.312437856870688,
          2.341028132025694,
          2.339193968323406,
          2.25607705259968,
          2.195097794690903,
          2.1283378760895983
         ]
        }
       ],
       "layout": {
        "font": {
         "color": "#FFF"
        },
        "height": 300,
        "paper_bgcolor": "#000",
        "plot_bgcolor": "#000",
        "title": "Choice after 100000 Iterations at Glimpse 3",
        "titlefont": {
         "color": "#FFF"
        },
        "width": 500,
        "xaxis": {
         "dtick": 1,
         "range": [
          0.5,
          9.5
         ],
         "tickcolor": "#FFF",
         "title": "True Class"
        },
        "yaxis": {
         "tickcolor": "#FFF",
         "title": "Coefficient of Variation"
        }
       }
      },
      "text/html": [
       "<div id=\"7af281b7-dd6d-424d-8912-dc04a2e8a710\" style=\"height: 300px; width: 500px;\" class=\"plotly-graph-div\"></div><script type=\"text/javascript\">require([\"plotly\"], function(Plotly) { window.PLOTLYENV=window.PLOTLYENV || {};window.PLOTLYENV.BASE_URL=\"https://plot.ly\";Plotly.newPlot(\"7af281b7-dd6d-424d-8912-dc04a2e8a710\", [{\"y\": [1.3708053700436982, 1.8549778006454358, 2.1799148837228404, 2.312437856870688, 2.341028132025694, 2.339193968323406, 2.25607705259968, 2.195097794690903, 2.1283378760895983], \"name\": \"Coefficient of Variation\", \"type\": \"scatter\", \"x\": [1, 2, 3, 4, 5, 6, 7, 8, 9]}], {\"width\": 500, \"titlefont\": {\"color\": \"#FFF\"}, \"yaxis\": {\"tickcolor\": \"#FFF\", \"title\": \"Coefficient of Variation\"}, \"height\": 300, \"paper_bgcolor\": \"#000\", \"title\": \"Choice after 100000 Iterations at Glimpse 3\", \"xaxis\": {\"tickcolor\": \"#FFF\", \"title\": \"True Class\", \"range\": [0.5, 9.5], \"dtick\": 1}, \"font\": {\"color\": \"#FFF\"}, \"plot_bgcolor\": \"#000\"}, {\"showLink\": true, \"linkText\": \"Export to plot.ly\"})});</script>"
      ],
      "text/vnd.plotly.v1+html": [
       "<div id=\"7af281b7-dd6d-424d-8912-dc04a2e8a710\" style=\"height: 300px; width: 500px;\" class=\"plotly-graph-div\"></div><script type=\"text/javascript\">require([\"plotly\"], function(Plotly) { window.PLOTLYENV=window.PLOTLYENV || {};window.PLOTLYENV.BASE_URL=\"https://plot.ly\";Plotly.newPlot(\"7af281b7-dd6d-424d-8912-dc04a2e8a710\", [{\"y\": [1.3708053700436982, 1.8549778006454358, 2.1799148837228404, 2.312437856870688, 2.341028132025694, 2.339193968323406, 2.25607705259968, 2.195097794690903, 2.1283378760895983], \"name\": \"Coefficient of Variation\", \"type\": \"scatter\", \"x\": [1, 2, 3, 4, 5, 6, 7, 8, 9]}], {\"width\": 500, \"titlefont\": {\"color\": \"#FFF\"}, \"yaxis\": {\"tickcolor\": \"#FFF\", \"title\": \"Coefficient of Variation\"}, \"height\": 300, \"paper_bgcolor\": \"#000\", \"title\": \"Choice after 100000 Iterations at Glimpse 3\", \"xaxis\": {\"tickcolor\": \"#FFF\", \"title\": \"True Class\", \"range\": [0.5, 9.5], \"dtick\": 1}, \"font\": {\"color\": \"#FFF\"}, \"plot_bgcolor\": \"#000\"}, {\"showLink\": true, \"linkText\": \"Export to plot.ly\"})});</script>"
      ]
     },
     "metadata": {},
     "output_type": "display_data"
    },
    {
     "data": {
      "application/vnd.plotly.v1+json": {
       "data": [
        {
         "name": "Mean",
         "type": "scatter",
         "x": [
          1,
          2,
          3,
          4,
          5,
          6,
          7,
          8,
          9
         ],
         "y": [
          1.0916140265275105,
          2.1803072492301903,
          3.099721372292588,
          4.064368667738675,
          5.023576352788394,
          5.914539752014531,
          6.690402487152779,
          7.271601733726998,
          7.703710550905501
         ]
        },
        {
         "name": "Standard Deviation",
         "type": "scatter",
         "x": [
          1,
          2,
          3,
          4,
          5,
          6,
          7,
          8,
          9
         ],
         "y": [
          1.0454367185287747,
          1.2577301610243177,
          1.4613596274652445,
          1.680102756077001,
          1.7975728746082695,
          1.8253255544700409,
          1.7541816578064604,
          1.6426214875851202,
          1.5185839907782483
         ]
        }
       ],
       "layout": {
        "font": {
         "color": "#FFF"
        },
        "height": 500,
        "legend": {
         "x": 0,
         "y": 1
        },
        "paper_bgcolor": "#000",
        "plot_bgcolor": "#000",
        "title": "Confidence after 100000 Iterations at Glimpse 9",
        "titlefont": {
         "color": "#FFF"
        },
        "width": 500,
        "xaxis": {
         "dtick": 1,
         "range": [
          0.5,
          9.5
         ],
         "tickcolor": "#FFF",
         "title": "True Class"
        },
        "yaxis": {
         "dtick": 1,
         "range": [
          0.5,
          9.5
         ],
         "tickcolor": "#FFF",
         "title": "Mean"
        },
        "yaxis2": {
         "dtick": 1,
         "overlaying": "y",
         "range": [
          0.5,
          9.5
         ],
         "side": "right",
         "tickcolor": "#FFF",
         "title": "Standard Deviation"
        }
       }
      },
      "text/html": [
       "<div id=\"766724c7-fa35-4191-bcf9-955031075cb0\" style=\"height: 500px; width: 500px;\" class=\"plotly-graph-div\"></div><script type=\"text/javascript\">require([\"plotly\"], function(Plotly) { window.PLOTLYENV=window.PLOTLYENV || {};window.PLOTLYENV.BASE_URL=\"https://plot.ly\";Plotly.newPlot(\"766724c7-fa35-4191-bcf9-955031075cb0\", [{\"y\": [1.0916140265275105, 2.1803072492301903, 3.099721372292588, 4.064368667738675, 5.023576352788394, 5.914539752014531, 6.690402487152779, 7.271601733726998, 7.703710550905501], \"name\": \"Mean\", \"type\": \"scatter\", \"x\": [1, 2, 3, 4, 5, 6, 7, 8, 9]}, {\"y\": [1.0454367185287747, 1.2577301610243177, 1.4613596274652445, 1.680102756077001, 1.7975728746082695, 1.8253255544700409, 1.7541816578064604, 1.6426214875851202, 1.5185839907782483], \"name\": \"Standard Deviation\", \"type\": \"scatter\", \"x\": [1, 2, 3, 4, 5, 6, 7, 8, 9]}], {\"width\": 500, \"titlefont\": {\"color\": \"#FFF\"}, \"legend\": {\"y\": 1, \"x\": 0}, \"yaxis2\": {\"tickcolor\": \"#FFF\", \"side\": \"right\", \"range\": [0.5, 9.5], \"title\": \"Standard Deviation\", \"dtick\": 1, \"overlaying\": \"y\"}, \"title\": \"Confidence after 100000 Iterations at Glimpse 9\", \"height\": 500, \"paper_bgcolor\": \"#000\", \"yaxis\": {\"tickcolor\": \"#FFF\", \"title\": \"Mean\", \"range\": [0.5, 9.5], \"dtick\": 1}, \"xaxis\": {\"tickcolor\": \"#FFF\", \"title\": \"True Class\", \"range\": [0.5, 9.5], \"dtick\": 1}, \"font\": {\"color\": \"#FFF\"}, \"plot_bgcolor\": \"#000\"}, {\"showLink\": true, \"linkText\": \"Export to plot.ly\"})});</script>"
      ],
      "text/vnd.plotly.v1+html": [
       "<div id=\"766724c7-fa35-4191-bcf9-955031075cb0\" style=\"height: 500px; width: 500px;\" class=\"plotly-graph-div\"></div><script type=\"text/javascript\">require([\"plotly\"], function(Plotly) { window.PLOTLYENV=window.PLOTLYENV || {};window.PLOTLYENV.BASE_URL=\"https://plot.ly\";Plotly.newPlot(\"766724c7-fa35-4191-bcf9-955031075cb0\", [{\"y\": [1.0916140265275105, 2.1803072492301903, 3.099721372292588, 4.064368667738675, 5.023576352788394, 5.914539752014531, 6.690402487152779, 7.271601733726998, 7.703710550905501], \"name\": \"Mean\", \"type\": \"scatter\", \"x\": [1, 2, 3, 4, 5, 6, 7, 8, 9]}, {\"y\": [1.0454367185287747, 1.2577301610243177, 1.4613596274652445, 1.680102756077001, 1.7975728746082695, 1.8253255544700409, 1.7541816578064604, 1.6426214875851202, 1.5185839907782483], \"name\": \"Standard Deviation\", \"type\": \"scatter\", \"x\": [1, 2, 3, 4, 5, 6, 7, 8, 9]}], {\"width\": 500, \"titlefont\": {\"color\": \"#FFF\"}, \"legend\": {\"y\": 1, \"x\": 0}, \"yaxis2\": {\"tickcolor\": \"#FFF\", \"side\": \"right\", \"range\": [0.5, 9.5], \"title\": \"Standard Deviation\", \"dtick\": 1, \"overlaying\": \"y\"}, \"title\": \"Confidence after 100000 Iterations at Glimpse 9\", \"height\": 500, \"paper_bgcolor\": \"#000\", \"yaxis\": {\"tickcolor\": \"#FFF\", \"title\": \"Mean\", \"range\": [0.5, 9.5], \"dtick\": 1}, \"xaxis\": {\"tickcolor\": \"#FFF\", \"title\": \"True Class\", \"range\": [0.5, 9.5], \"dtick\": 1}, \"font\": {\"color\": \"#FFF\"}, \"plot_bgcolor\": \"#000\"}, {\"showLink\": true, \"linkText\": \"Export to plot.ly\"})});</script>"
      ]
     },
     "metadata": {},
     "output_type": "display_data"
    },
    {
     "data": {
      "application/vnd.plotly.v1+json": {
       "data": [
        {
         "name": "Coefficient of Variation",
         "type": "scatter",
         "x": [
          1,
          2,
          3,
          4,
          5,
          6,
          7,
          8,
          9
         ],
         "y": [
          1.3708053700436982,
          1.8549778006454358,
          2.1799148837228404,
          2.312437856870688,
          2.341028132025694,
          2.339193968323406,
          2.25607705259968,
          2.195097794690903,
          2.1283378760895983
         ]
        }
       ],
       "layout": {
        "font": {
         "color": "#FFF"
        },
        "height": 300,
        "paper_bgcolor": "#000",
        "plot_bgcolor": "#000",
        "title": "Confidence after 100000 Iterations at Glimpse 9",
        "titlefont": {
         "color": "#FFF"
        },
        "width": 500,
        "xaxis": {
         "dtick": 1,
         "range": [
          0.5,
          9.5
         ],
         "tickcolor": "#FFF",
         "title": "True Class"
        },
        "yaxis": {
         "tickcolor": "#FFF",
         "title": "Coefficient of Variation"
        }
       }
      },
      "text/html": [
       "<div id=\"d4edfdbe-f605-4674-b164-b30d00ff9528\" style=\"height: 300px; width: 500px;\" class=\"plotly-graph-div\"></div><script type=\"text/javascript\">require([\"plotly\"], function(Plotly) { window.PLOTLYENV=window.PLOTLYENV || {};window.PLOTLYENV.BASE_URL=\"https://plot.ly\";Plotly.newPlot(\"d4edfdbe-f605-4674-b164-b30d00ff9528\", [{\"y\": [1.3708053700436982, 1.8549778006454358, 2.1799148837228404, 2.312437856870688, 2.341028132025694, 2.339193968323406, 2.25607705259968, 2.195097794690903, 2.1283378760895983], \"name\": \"Coefficient of Variation\", \"type\": \"scatter\", \"x\": [1, 2, 3, 4, 5, 6, 7, 8, 9]}], {\"width\": 500, \"titlefont\": {\"color\": \"#FFF\"}, \"yaxis\": {\"tickcolor\": \"#FFF\", \"title\": \"Coefficient of Variation\"}, \"height\": 300, \"paper_bgcolor\": \"#000\", \"title\": \"Confidence after 100000 Iterations at Glimpse 9\", \"xaxis\": {\"tickcolor\": \"#FFF\", \"title\": \"True Class\", \"range\": [0.5, 9.5], \"dtick\": 1}, \"font\": {\"color\": \"#FFF\"}, \"plot_bgcolor\": \"#000\"}, {\"showLink\": true, \"linkText\": \"Export to plot.ly\"})});</script>"
      ],
      "text/vnd.plotly.v1+html": [
       "<div id=\"d4edfdbe-f605-4674-b164-b30d00ff9528\" style=\"height: 300px; width: 500px;\" class=\"plotly-graph-div\"></div><script type=\"text/javascript\">require([\"plotly\"], function(Plotly) { window.PLOTLYENV=window.PLOTLYENV || {};window.PLOTLYENV.BASE_URL=\"https://plot.ly\";Plotly.newPlot(\"d4edfdbe-f605-4674-b164-b30d00ff9528\", [{\"y\": [1.3708053700436982, 1.8549778006454358, 2.1799148837228404, 2.312437856870688, 2.341028132025694, 2.339193968323406, 2.25607705259968, 2.195097794690903, 2.1283378760895983], \"name\": \"Coefficient of Variation\", \"type\": \"scatter\", \"x\": [1, 2, 3, 4, 5, 6, 7, 8, 9]}], {\"width\": 500, \"titlefont\": {\"color\": \"#FFF\"}, \"yaxis\": {\"tickcolor\": \"#FFF\", \"title\": \"Coefficient of Variation\"}, \"height\": 300, \"paper_bgcolor\": \"#000\", \"title\": \"Confidence after 100000 Iterations at Glimpse 9\", \"xaxis\": {\"tickcolor\": \"#FFF\", \"title\": \"True Class\", \"range\": [0.5, 9.5], \"dtick\": 1}, \"font\": {\"color\": \"#FFF\"}, \"plot_bgcolor\": \"#000\"}, {\"showLink\": true, \"linkText\": \"Export to plot.ly\"})});</script>"
      ]
     },
     "metadata": {},
     "output_type": "display_data"
    },
    {
     "data": {
      "application/vnd.plotly.v1+json": {
       "data": [
        {
         "name": "Mean",
         "type": "scatter",
         "x": [
          1,
          2,
          3,
          4,
          5,
          6,
          7,
          8,
          9
         ],
         "y": [
          1.0269,
          2.0295999999999994,
          2.9052,
          3.8770999999999995,
          4.878200000000001,
          5.8554,
          6.743,
          7.443900000000001,
          7.9565
         ]
        },
        {
         "name": "Standard Deviation",
         "type": "scatter",
         "x": [
          1,
          2,
          3,
          4,
          5,
          6,
          7,
          8,
          9
         ],
         "y": [
          1.0127412027222786,
          1.1456911244613195,
          1.2932168312766774,
          1.4691345041091082,
          1.580571646120559,
          1.6345990607358374,
          1.5766279960244756,
          1.4931934560065219,
          1.3722587105491018
         ]
        }
       ],
       "layout": {
        "font": {
         "color": "#FFF"
        },
        "height": 500,
        "legend": {
         "x": 0,
         "y": 1
        },
        "paper_bgcolor": "#000",
        "plot_bgcolor": "#000",
        "title": "Choice after 100000 Iterations at Glimpse 9",
        "titlefont": {
         "color": "#FFF"
        },
        "width": 500,
        "xaxis": {
         "dtick": 1,
         "range": [
          0.5,
          9.5
         ],
         "tickcolor": "#FFF",
         "title": "True Class"
        },
        "yaxis": {
         "dtick": 1,
         "range": [
          0.5,
          9.5
         ],
         "tickcolor": "#FFF",
         "title": "Mean"
        },
        "yaxis2": {
         "dtick": 1,
         "overlaying": "y",
         "range": [
          0.5,
          9.5
         ],
         "side": "right",
         "tickcolor": "#FFF",
         "title": "Standard Deviation"
        }
       }
      },
      "text/html": [
       "<div id=\"a4be4438-90ce-49be-8b4e-a4cdcb522ced\" style=\"height: 500px; width: 500px;\" class=\"plotly-graph-div\"></div><script type=\"text/javascript\">require([\"plotly\"], function(Plotly) { window.PLOTLYENV=window.PLOTLYENV || {};window.PLOTLYENV.BASE_URL=\"https://plot.ly\";Plotly.newPlot(\"a4be4438-90ce-49be-8b4e-a4cdcb522ced\", [{\"y\": [1.0269, 2.0295999999999994, 2.9052, 3.8770999999999995, 4.878200000000001, 5.8554, 6.743, 7.443900000000001, 7.9565], \"name\": \"Mean\", \"type\": \"scatter\", \"x\": [1, 2, 3, 4, 5, 6, 7, 8, 9]}, {\"y\": [1.0127412027222786, 1.1456911244613195, 1.2932168312766774, 1.4691345041091082, 1.580571646120559, 1.6345990607358374, 1.5766279960244756, 1.4931934560065219, 1.3722587105491018], \"name\": \"Standard Deviation\", \"type\": \"scatter\", \"x\": [1, 2, 3, 4, 5, 6, 7, 8, 9]}], {\"width\": 500, \"titlefont\": {\"color\": \"#FFF\"}, \"legend\": {\"y\": 1, \"x\": 0}, \"yaxis2\": {\"tickcolor\": \"#FFF\", \"side\": \"right\", \"range\": [0.5, 9.5], \"title\": \"Standard Deviation\", \"dtick\": 1, \"overlaying\": \"y\"}, \"title\": \"Choice after 100000 Iterations at Glimpse 9\", \"height\": 500, \"paper_bgcolor\": \"#000\", \"yaxis\": {\"tickcolor\": \"#FFF\", \"title\": \"Mean\", \"range\": [0.5, 9.5], \"dtick\": 1}, \"xaxis\": {\"tickcolor\": \"#FFF\", \"title\": \"True Class\", \"range\": [0.5, 9.5], \"dtick\": 1}, \"font\": {\"color\": \"#FFF\"}, \"plot_bgcolor\": \"#000\"}, {\"showLink\": true, \"linkText\": \"Export to plot.ly\"})});</script>"
      ],
      "text/vnd.plotly.v1+html": [
       "<div id=\"a4be4438-90ce-49be-8b4e-a4cdcb522ced\" style=\"height: 500px; width: 500px;\" class=\"plotly-graph-div\"></div><script type=\"text/javascript\">require([\"plotly\"], function(Plotly) { window.PLOTLYENV=window.PLOTLYENV || {};window.PLOTLYENV.BASE_URL=\"https://plot.ly\";Plotly.newPlot(\"a4be4438-90ce-49be-8b4e-a4cdcb522ced\", [{\"y\": [1.0269, 2.0295999999999994, 2.9052, 3.8770999999999995, 4.878200000000001, 5.8554, 6.743, 7.443900000000001, 7.9565], \"name\": \"Mean\", \"type\": \"scatter\", \"x\": [1, 2, 3, 4, 5, 6, 7, 8, 9]}, {\"y\": [1.0127412027222786, 1.1456911244613195, 1.2932168312766774, 1.4691345041091082, 1.580571646120559, 1.6345990607358374, 1.5766279960244756, 1.4931934560065219, 1.3722587105491018], \"name\": \"Standard Deviation\", \"type\": \"scatter\", \"x\": [1, 2, 3, 4, 5, 6, 7, 8, 9]}], {\"width\": 500, \"titlefont\": {\"color\": \"#FFF\"}, \"legend\": {\"y\": 1, \"x\": 0}, \"yaxis2\": {\"tickcolor\": \"#FFF\", \"side\": \"right\", \"range\": [0.5, 9.5], \"title\": \"Standard Deviation\", \"dtick\": 1, \"overlaying\": \"y\"}, \"title\": \"Choice after 100000 Iterations at Glimpse 9\", \"height\": 500, \"paper_bgcolor\": \"#000\", \"yaxis\": {\"tickcolor\": \"#FFF\", \"title\": \"Mean\", \"range\": [0.5, 9.5], \"dtick\": 1}, \"xaxis\": {\"tickcolor\": \"#FFF\", \"title\": \"True Class\", \"range\": [0.5, 9.5], \"dtick\": 1}, \"font\": {\"color\": \"#FFF\"}, \"plot_bgcolor\": \"#000\"}, {\"showLink\": true, \"linkText\": \"Export to plot.ly\"})});</script>"
      ]
     },
     "metadata": {},
     "output_type": "display_data"
    },
    {
     "data": {
      "application/vnd.plotly.v1+json": {
       "data": [
        {
         "name": "Coefficient of Variation",
         "type": "scatter",
         "x": [
          1,
          2,
          3,
          4,
          5,
          6,
          7,
          8,
          9
         ],
         "y": [
          1.3708053700436982,
          1.8549778006454358,
          2.1799148837228404,
          2.312437856870688,
          2.341028132025694,
          2.339193968323406,
          2.25607705259968,
          2.195097794690903,
          2.1283378760895983
         ]
        }
       ],
       "layout": {
        "font": {
         "color": "#FFF"
        },
        "height": 300,
        "paper_bgcolor": "#000",
        "plot_bgcolor": "#000",
        "title": "Choice after 100000 Iterations at Glimpse 9",
        "titlefont": {
         "color": "#FFF"
        },
        "width": 500,
        "xaxis": {
         "dtick": 1,
         "range": [
          0.5,
          9.5
         ],
         "tickcolor": "#FFF",
         "title": "True Class"
        },
        "yaxis": {
         "tickcolor": "#FFF",
         "title": "Coefficient of Variation"
        }
       }
      },
      "text/html": [
       "<div id=\"05b8cba4-5ed4-42ec-bfd9-285d5182cd87\" style=\"height: 300px; width: 500px;\" class=\"plotly-graph-div\"></div><script type=\"text/javascript\">require([\"plotly\"], function(Plotly) { window.PLOTLYENV=window.PLOTLYENV || {};window.PLOTLYENV.BASE_URL=\"https://plot.ly\";Plotly.newPlot(\"05b8cba4-5ed4-42ec-bfd9-285d5182cd87\", [{\"y\": [1.3708053700436982, 1.8549778006454358, 2.1799148837228404, 2.312437856870688, 2.341028132025694, 2.339193968323406, 2.25607705259968, 2.195097794690903, 2.1283378760895983], \"name\": \"Coefficient of Variation\", \"type\": \"scatter\", \"x\": [1, 2, 3, 4, 5, 6, 7, 8, 9]}], {\"width\": 500, \"titlefont\": {\"color\": \"#FFF\"}, \"yaxis\": {\"tickcolor\": \"#FFF\", \"title\": \"Coefficient of Variation\"}, \"height\": 300, \"paper_bgcolor\": \"#000\", \"title\": \"Choice after 100000 Iterations at Glimpse 9\", \"xaxis\": {\"tickcolor\": \"#FFF\", \"title\": \"True Class\", \"range\": [0.5, 9.5], \"dtick\": 1}, \"font\": {\"color\": \"#FFF\"}, \"plot_bgcolor\": \"#000\"}, {\"showLink\": true, \"linkText\": \"Export to plot.ly\"})});</script>"
      ],
      "text/vnd.plotly.v1+html": [
       "<div id=\"05b8cba4-5ed4-42ec-bfd9-285d5182cd87\" style=\"height: 300px; width: 500px;\" class=\"plotly-graph-div\"></div><script type=\"text/javascript\">require([\"plotly\"], function(Plotly) { window.PLOTLYENV=window.PLOTLYENV || {};window.PLOTLYENV.BASE_URL=\"https://plot.ly\";Plotly.newPlot(\"05b8cba4-5ed4-42ec-bfd9-285d5182cd87\", [{\"y\": [1.3708053700436982, 1.8549778006454358, 2.1799148837228404, 2.312437856870688, 2.341028132025694, 2.339193968323406, 2.25607705259968, 2.195097794690903, 2.1283378760895983], \"name\": \"Coefficient of Variation\", \"type\": \"scatter\", \"x\": [1, 2, 3, 4, 5, 6, 7, 8, 9]}], {\"width\": 500, \"titlefont\": {\"color\": \"#FFF\"}, \"yaxis\": {\"tickcolor\": \"#FFF\", \"title\": \"Coefficient of Variation\"}, \"height\": 300, \"paper_bgcolor\": \"#000\", \"title\": \"Choice after 100000 Iterations at Glimpse 9\", \"xaxis\": {\"tickcolor\": \"#FFF\", \"title\": \"True Class\", \"range\": [0.5, 9.5], \"dtick\": 1}, \"font\": {\"color\": \"#FFF\"}, \"plot_bgcolor\": \"#000\"}, {\"showLink\": true, \"linkText\": \"Export to plot.ly\"})});</script>"
      ]
     },
     "metadata": {},
     "output_type": "display_data"
    },
    {
     "data": {
      "application/vnd.plotly.v1+json": {
       "data": [
        {
         "name": "Mean",
         "type": "scatter",
         "x": [
          1,
          2,
          3,
          4,
          5,
          6,
          7,
          8,
          9
         ],
         "y": [
          1.0991337292256387,
          2.170254461349735,
          3.151241445145484,
          4.120601904324692,
          5.1067718630336625,
          5.999594489022294,
          6.748759121541492,
          7.331108784008028,
          7.772500698098651
         ]
        },
        {
         "name": "Standard Deviation",
         "type": "scatter",
         "x": [
          1,
          2,
          3,
          4,
          5,
          6,
          7,
          8,
          9
         ],
         "y": [
          1.0544021181633265,
          1.3155072056229913,
          1.5463734318184057,
          1.7303366136692915,
          1.8542423888552328,
          1.8810158446068197,
          1.8168268293124705,
          1.7018351830022034,
          1.5636447612122089
         ]
        }
       ],
       "layout": {
        "font": {
         "color": "#FFF"
        },
        "height": 500,
        "legend": {
         "x": 0,
         "y": 1
        },
        "paper_bgcolor": "#000",
        "plot_bgcolor": "#000",
        "title": "Confidence after 120000 Iterations at Glimpse 0",
        "titlefont": {
         "color": "#FFF"
        },
        "width": 500,
        "xaxis": {
         "dtick": 1,
         "range": [
          0.5,
          9.5
         ],
         "tickcolor": "#FFF",
         "title": "True Class"
        },
        "yaxis": {
         "dtick": 1,
         "range": [
          0.5,
          9.5
         ],
         "tickcolor": "#FFF",
         "title": "Mean"
        },
        "yaxis2": {
         "dtick": 1,
         "overlaying": "y",
         "range": [
          0.5,
          9.5
         ],
         "side": "right",
         "tickcolor": "#FFF",
         "title": "Standard Deviation"
        }
       }
      },
      "text/html": [
       "<div id=\"2bab86f7-db67-4a43-9812-59db3ecae980\" style=\"height: 500px; width: 500px;\" class=\"plotly-graph-div\"></div><script type=\"text/javascript\">require([\"plotly\"], function(Plotly) { window.PLOTLYENV=window.PLOTLYENV || {};window.PLOTLYENV.BASE_URL=\"https://plot.ly\";Plotly.newPlot(\"2bab86f7-db67-4a43-9812-59db3ecae980\", [{\"y\": [1.0991337292256387, 2.170254461349735, 3.151241445145484, 4.120601904324692, 5.1067718630336625, 5.999594489022294, 6.748759121541492, 7.331108784008028, 7.772500698098651], \"name\": \"Mean\", \"type\": \"scatter\", \"x\": [1, 2, 3, 4, 5, 6, 7, 8, 9]}, {\"y\": [1.0544021181633265, 1.3155072056229913, 1.5463734318184057, 1.7303366136692915, 1.8542423888552328, 1.8810158446068197, 1.8168268293124705, 1.7018351830022034, 1.5636447612122089], \"name\": \"Standard Deviation\", \"type\": \"scatter\", \"x\": [1, 2, 3, 4, 5, 6, 7, 8, 9]}], {\"width\": 500, \"titlefont\": {\"color\": \"#FFF\"}, \"legend\": {\"y\": 1, \"x\": 0}, \"yaxis2\": {\"tickcolor\": \"#FFF\", \"side\": \"right\", \"range\": [0.5, 9.5], \"title\": \"Standard Deviation\", \"dtick\": 1, \"overlaying\": \"y\"}, \"title\": \"Confidence after 120000 Iterations at Glimpse 0\", \"height\": 500, \"paper_bgcolor\": \"#000\", \"yaxis\": {\"tickcolor\": \"#FFF\", \"title\": \"Mean\", \"range\": [0.5, 9.5], \"dtick\": 1}, \"xaxis\": {\"tickcolor\": \"#FFF\", \"title\": \"True Class\", \"range\": [0.5, 9.5], \"dtick\": 1}, \"font\": {\"color\": \"#FFF\"}, \"plot_bgcolor\": \"#000\"}, {\"showLink\": true, \"linkText\": \"Export to plot.ly\"})});</script>"
      ],
      "text/vnd.plotly.v1+html": [
       "<div id=\"2bab86f7-db67-4a43-9812-59db3ecae980\" style=\"height: 500px; width: 500px;\" class=\"plotly-graph-div\"></div><script type=\"text/javascript\">require([\"plotly\"], function(Plotly) { window.PLOTLYENV=window.PLOTLYENV || {};window.PLOTLYENV.BASE_URL=\"https://plot.ly\";Plotly.newPlot(\"2bab86f7-db67-4a43-9812-59db3ecae980\", [{\"y\": [1.0991337292256387, 2.170254461349735, 3.151241445145484, 4.120601904324692, 5.1067718630336625, 5.999594489022294, 6.748759121541492, 7.331108784008028, 7.772500698098651], \"name\": \"Mean\", \"type\": \"scatter\", \"x\": [1, 2, 3, 4, 5, 6, 7, 8, 9]}, {\"y\": [1.0544021181633265, 1.3155072056229913, 1.5463734318184057, 1.7303366136692915, 1.8542423888552328, 1.8810158446068197, 1.8168268293124705, 1.7018351830022034, 1.5636447612122089], \"name\": \"Standard Deviation\", \"type\": \"scatter\", \"x\": [1, 2, 3, 4, 5, 6, 7, 8, 9]}], {\"width\": 500, \"titlefont\": {\"color\": \"#FFF\"}, \"legend\": {\"y\": 1, \"x\": 0}, \"yaxis2\": {\"tickcolor\": \"#FFF\", \"side\": \"right\", \"range\": [0.5, 9.5], \"title\": \"Standard Deviation\", \"dtick\": 1, \"overlaying\": \"y\"}, \"title\": \"Confidence after 120000 Iterations at Glimpse 0\", \"height\": 500, \"paper_bgcolor\": \"#000\", \"yaxis\": {\"tickcolor\": \"#FFF\", \"title\": \"Mean\", \"range\": [0.5, 9.5], \"dtick\": 1}, \"xaxis\": {\"tickcolor\": \"#FFF\", \"title\": \"True Class\", \"range\": [0.5, 9.5], \"dtick\": 1}, \"font\": {\"color\": \"#FFF\"}, \"plot_bgcolor\": \"#000\"}, {\"showLink\": true, \"linkText\": \"Export to plot.ly\"})});</script>"
      ]
     },
     "metadata": {},
     "output_type": "display_data"
    },
    {
     "data": {
      "application/vnd.plotly.v1+json": {
       "data": [
        {
         "name": "Coefficient of Variation",
         "type": "scatter",
         "x": [
          1,
          2,
          3,
          4,
          5,
          6,
          7,
          8,
          9
         ],
         "y": [
          1.3708053700436982,
          1.8549778006454358,
          2.1799148837228404,
          2.312437856870688,
          2.341028132025694,
          2.339193968323406,
          2.25607705259968,
          2.195097794690903,
          2.1283378760895983
         ]
        }
       ],
       "layout": {
        "font": {
         "color": "#FFF"
        },
        "height": 300,
        "paper_bgcolor": "#000",
        "plot_bgcolor": "#000",
        "title": "Confidence after 120000 Iterations at Glimpse 0",
        "titlefont": {
         "color": "#FFF"
        },
        "width": 500,
        "xaxis": {
         "dtick": 1,
         "range": [
          0.5,
          9.5
         ],
         "tickcolor": "#FFF",
         "title": "True Class"
        },
        "yaxis": {
         "tickcolor": "#FFF",
         "title": "Coefficient of Variation"
        }
       }
      },
      "text/html": [
       "<div id=\"13e3e28e-488d-4f1b-943c-cf599a18c2a7\" style=\"height: 300px; width: 500px;\" class=\"plotly-graph-div\"></div><script type=\"text/javascript\">require([\"plotly\"], function(Plotly) { window.PLOTLYENV=window.PLOTLYENV || {};window.PLOTLYENV.BASE_URL=\"https://plot.ly\";Plotly.newPlot(\"13e3e28e-488d-4f1b-943c-cf599a18c2a7\", [{\"y\": [1.3708053700436982, 1.8549778006454358, 2.1799148837228404, 2.312437856870688, 2.341028132025694, 2.339193968323406, 2.25607705259968, 2.195097794690903, 2.1283378760895983], \"name\": \"Coefficient of Variation\", \"type\": \"scatter\", \"x\": [1, 2, 3, 4, 5, 6, 7, 8, 9]}], {\"width\": 500, \"titlefont\": {\"color\": \"#FFF\"}, \"yaxis\": {\"tickcolor\": \"#FFF\", \"title\": \"Coefficient of Variation\"}, \"height\": 300, \"paper_bgcolor\": \"#000\", \"title\": \"Confidence after 120000 Iterations at Glimpse 0\", \"xaxis\": {\"tickcolor\": \"#FFF\", \"title\": \"True Class\", \"range\": [0.5, 9.5], \"dtick\": 1}, \"font\": {\"color\": \"#FFF\"}, \"plot_bgcolor\": \"#000\"}, {\"showLink\": true, \"linkText\": \"Export to plot.ly\"})});</script>"
      ],
      "text/vnd.plotly.v1+html": [
       "<div id=\"13e3e28e-488d-4f1b-943c-cf599a18c2a7\" style=\"height: 300px; width: 500px;\" class=\"plotly-graph-div\"></div><script type=\"text/javascript\">require([\"plotly\"], function(Plotly) { window.PLOTLYENV=window.PLOTLYENV || {};window.PLOTLYENV.BASE_URL=\"https://plot.ly\";Plotly.newPlot(\"13e3e28e-488d-4f1b-943c-cf599a18c2a7\", [{\"y\": [1.3708053700436982, 1.8549778006454358, 2.1799148837228404, 2.312437856870688, 2.341028132025694, 2.339193968323406, 2.25607705259968, 2.195097794690903, 2.1283378760895983], \"name\": \"Coefficient of Variation\", \"type\": \"scatter\", \"x\": [1, 2, 3, 4, 5, 6, 7, 8, 9]}], {\"width\": 500, \"titlefont\": {\"color\": \"#FFF\"}, \"yaxis\": {\"tickcolor\": \"#FFF\", \"title\": \"Coefficient of Variation\"}, \"height\": 300, \"paper_bgcolor\": \"#000\", \"title\": \"Confidence after 120000 Iterations at Glimpse 0\", \"xaxis\": {\"tickcolor\": \"#FFF\", \"title\": \"True Class\", \"range\": [0.5, 9.5], \"dtick\": 1}, \"font\": {\"color\": \"#FFF\"}, \"plot_bgcolor\": \"#000\"}, {\"showLink\": true, \"linkText\": \"Export to plot.ly\"})});</script>"
      ]
     },
     "metadata": {},
     "output_type": "display_data"
    },
    {
     "data": {
      "application/vnd.plotly.v1+json": {
       "data": [
        {
         "name": "Mean",
         "type": "scatter",
         "x": [
          1,
          2,
          3,
          4,
          5,
          6,
          7,
          8,
          9
         ],
         "y": [
          1.0112999999999999,
          1.9620000000000002,
          2.8655,
          3.8748000000000005,
          4.9060999999999995,
          5.8938,
          6.7998,
          7.5343,
          8.0686
         ]
        },
        {
         "name": "Standard Deviation",
         "type": "scatter",
         "x": [
          1,
          2,
          3,
          4,
          5,
          6,
          7,
          8,
          9
         ],
         "y": [
          1.0056385788238127,
          1.1478587713705657,
          1.341456545890672,
          1.4710969083368426,
          1.6070078151459644,
          1.716708539833009,
          1.7219090204095795,
          1.6187906011710307,
          1.4402821182592338
         ]
        }
       ],
       "layout": {
        "font": {
         "color": "#FFF"
        },
        "height": 500,
        "legend": {
         "x": 0,
         "y": 1
        },
        "paper_bgcolor": "#000",
        "plot_bgcolor": "#000",
        "title": "Choice after 120000 Iterations at Glimpse 0",
        "titlefont": {
         "color": "#FFF"
        },
        "width": 500,
        "xaxis": {
         "dtick": 1,
         "range": [
          0.5,
          9.5
         ],
         "tickcolor": "#FFF",
         "title": "True Class"
        },
        "yaxis": {
         "dtick": 1,
         "range": [
          0.5,
          9.5
         ],
         "tickcolor": "#FFF",
         "title": "Mean"
        },
        "yaxis2": {
         "dtick": 1,
         "overlaying": "y",
         "range": [
          0.5,
          9.5
         ],
         "side": "right",
         "tickcolor": "#FFF",
         "title": "Standard Deviation"
        }
       }
      },
      "text/html": [
       "<div id=\"fc40e32b-a3ce-408e-a2e1-6676d129830f\" style=\"height: 500px; width: 500px;\" class=\"plotly-graph-div\"></div><script type=\"text/javascript\">require([\"plotly\"], function(Plotly) { window.PLOTLYENV=window.PLOTLYENV || {};window.PLOTLYENV.BASE_URL=\"https://plot.ly\";Plotly.newPlot(\"fc40e32b-a3ce-408e-a2e1-6676d129830f\", [{\"y\": [1.0112999999999999, 1.9620000000000002, 2.8655, 3.8748000000000005, 4.9060999999999995, 5.8938, 6.7998, 7.5343, 8.0686], \"name\": \"Mean\", \"type\": \"scatter\", \"x\": [1, 2, 3, 4, 5, 6, 7, 8, 9]}, {\"y\": [1.0056385788238127, 1.1478587713705657, 1.341456545890672, 1.4710969083368426, 1.6070078151459644, 1.716708539833009, 1.7219090204095795, 1.6187906011710307, 1.4402821182592338], \"name\": \"Standard Deviation\", \"type\": \"scatter\", \"x\": [1, 2, 3, 4, 5, 6, 7, 8, 9]}], {\"width\": 500, \"titlefont\": {\"color\": \"#FFF\"}, \"legend\": {\"y\": 1, \"x\": 0}, \"yaxis2\": {\"tickcolor\": \"#FFF\", \"side\": \"right\", \"range\": [0.5, 9.5], \"title\": \"Standard Deviation\", \"dtick\": 1, \"overlaying\": \"y\"}, \"title\": \"Choice after 120000 Iterations at Glimpse 0\", \"height\": 500, \"paper_bgcolor\": \"#000\", \"yaxis\": {\"tickcolor\": \"#FFF\", \"title\": \"Mean\", \"range\": [0.5, 9.5], \"dtick\": 1}, \"xaxis\": {\"tickcolor\": \"#FFF\", \"title\": \"True Class\", \"range\": [0.5, 9.5], \"dtick\": 1}, \"font\": {\"color\": \"#FFF\"}, \"plot_bgcolor\": \"#000\"}, {\"showLink\": true, \"linkText\": \"Export to plot.ly\"})});</script>"
      ],
      "text/vnd.plotly.v1+html": [
       "<div id=\"fc40e32b-a3ce-408e-a2e1-6676d129830f\" style=\"height: 500px; width: 500px;\" class=\"plotly-graph-div\"></div><script type=\"text/javascript\">require([\"plotly\"], function(Plotly) { window.PLOTLYENV=window.PLOTLYENV || {};window.PLOTLYENV.BASE_URL=\"https://plot.ly\";Plotly.newPlot(\"fc40e32b-a3ce-408e-a2e1-6676d129830f\", [{\"y\": [1.0112999999999999, 1.9620000000000002, 2.8655, 3.8748000000000005, 4.9060999999999995, 5.8938, 6.7998, 7.5343, 8.0686], \"name\": \"Mean\", \"type\": \"scatter\", \"x\": [1, 2, 3, 4, 5, 6, 7, 8, 9]}, {\"y\": [1.0056385788238127, 1.1478587713705657, 1.341456545890672, 1.4710969083368426, 1.6070078151459644, 1.716708539833009, 1.7219090204095795, 1.6187906011710307, 1.4402821182592338], \"name\": \"Standard Deviation\", \"type\": \"scatter\", \"x\": [1, 2, 3, 4, 5, 6, 7, 8, 9]}], {\"width\": 500, \"titlefont\": {\"color\": \"#FFF\"}, \"legend\": {\"y\": 1, \"x\": 0}, \"yaxis2\": {\"tickcolor\": \"#FFF\", \"side\": \"right\", \"range\": [0.5, 9.5], \"title\": \"Standard Deviation\", \"dtick\": 1, \"overlaying\": \"y\"}, \"title\": \"Choice after 120000 Iterations at Glimpse 0\", \"height\": 500, \"paper_bgcolor\": \"#000\", \"yaxis\": {\"tickcolor\": \"#FFF\", \"title\": \"Mean\", \"range\": [0.5, 9.5], \"dtick\": 1}, \"xaxis\": {\"tickcolor\": \"#FFF\", \"title\": \"True Class\", \"range\": [0.5, 9.5], \"dtick\": 1}, \"font\": {\"color\": \"#FFF\"}, \"plot_bgcolor\": \"#000\"}, {\"showLink\": true, \"linkText\": \"Export to plot.ly\"})});</script>"
      ]
     },
     "metadata": {},
     "output_type": "display_data"
    },
    {
     "data": {
      "application/vnd.plotly.v1+json": {
       "data": [
        {
         "name": "Coefficient of Variation",
         "type": "scatter",
         "x": [
          1,
          2,
          3,
          4,
          5,
          6,
          7,
          8,
          9
         ],
         "y": [
          1.3708053700436982,
          1.8549778006454358,
          2.1799148837228404,
          2.312437856870688,
          2.341028132025694,
          2.339193968323406,
          2.25607705259968,
          2.195097794690903,
          2.1283378760895983
         ]
        }
       ],
       "layout": {
        "font": {
         "color": "#FFF"
        },
        "height": 300,
        "paper_bgcolor": "#000",
        "plot_bgcolor": "#000",
        "title": "Choice after 120000 Iterations at Glimpse 0",
        "titlefont": {
         "color": "#FFF"
        },
        "width": 500,
        "xaxis": {
         "dtick": 1,
         "range": [
          0.5,
          9.5
         ],
         "tickcolor": "#FFF",
         "title": "True Class"
        },
        "yaxis": {
         "tickcolor": "#FFF",
         "title": "Coefficient of Variation"
        }
       }
      },
      "text/html": [
       "<div id=\"d51c267f-b7ac-4e19-b4f8-c346b2a62ffd\" style=\"height: 300px; width: 500px;\" class=\"plotly-graph-div\"></div><script type=\"text/javascript\">require([\"plotly\"], function(Plotly) { window.PLOTLYENV=window.PLOTLYENV || {};window.PLOTLYENV.BASE_URL=\"https://plot.ly\";Plotly.newPlot(\"d51c267f-b7ac-4e19-b4f8-c346b2a62ffd\", [{\"y\": [1.3708053700436982, 1.8549778006454358, 2.1799148837228404, 2.312437856870688, 2.341028132025694, 2.339193968323406, 2.25607705259968, 2.195097794690903, 2.1283378760895983], \"name\": \"Coefficient of Variation\", \"type\": \"scatter\", \"x\": [1, 2, 3, 4, 5, 6, 7, 8, 9]}], {\"width\": 500, \"titlefont\": {\"color\": \"#FFF\"}, \"yaxis\": {\"tickcolor\": \"#FFF\", \"title\": \"Coefficient of Variation\"}, \"height\": 300, \"paper_bgcolor\": \"#000\", \"title\": \"Choice after 120000 Iterations at Glimpse 0\", \"xaxis\": {\"tickcolor\": \"#FFF\", \"title\": \"True Class\", \"range\": [0.5, 9.5], \"dtick\": 1}, \"font\": {\"color\": \"#FFF\"}, \"plot_bgcolor\": \"#000\"}, {\"showLink\": true, \"linkText\": \"Export to plot.ly\"})});</script>"
      ],
      "text/vnd.plotly.v1+html": [
       "<div id=\"d51c267f-b7ac-4e19-b4f8-c346b2a62ffd\" style=\"height: 300px; width: 500px;\" class=\"plotly-graph-div\"></div><script type=\"text/javascript\">require([\"plotly\"], function(Plotly) { window.PLOTLYENV=window.PLOTLYENV || {};window.PLOTLYENV.BASE_URL=\"https://plot.ly\";Plotly.newPlot(\"d51c267f-b7ac-4e19-b4f8-c346b2a62ffd\", [{\"y\": [1.3708053700436982, 1.8549778006454358, 2.1799148837228404, 2.312437856870688, 2.341028132025694, 2.339193968323406, 2.25607705259968, 2.195097794690903, 2.1283378760895983], \"name\": \"Coefficient of Variation\", \"type\": \"scatter\", \"x\": [1, 2, 3, 4, 5, 6, 7, 8, 9]}], {\"width\": 500, \"titlefont\": {\"color\": \"#FFF\"}, \"yaxis\": {\"tickcolor\": \"#FFF\", \"title\": \"Coefficient of Variation\"}, \"height\": 300, \"paper_bgcolor\": \"#000\", \"title\": \"Choice after 120000 Iterations at Glimpse 0\", \"xaxis\": {\"tickcolor\": \"#FFF\", \"title\": \"True Class\", \"range\": [0.5, 9.5], \"dtick\": 1}, \"font\": {\"color\": \"#FFF\"}, \"plot_bgcolor\": \"#000\"}, {\"showLink\": true, \"linkText\": \"Export to plot.ly\"})});</script>"
      ]
     },
     "metadata": {},
     "output_type": "display_data"
    },
    {
     "data": {
      "application/vnd.plotly.v1+json": {
       "data": [
        {
         "name": "Mean",
         "type": "scatter",
         "x": [
          1,
          2,
          3,
          4,
          5,
          6,
          7,
          8,
          9
         ],
         "y": [
          1.0525950485558433,
          2.1827929660079017,
          3.108994350426873,
          4.105599550887045,
          5.115505603550633,
          6.060577881621671,
          6.859488208487621,
          7.47896102484886,
          7.928534655433258
         ]
        },
        {
         "name": "Standard Deviation",
         "type": "scatter",
         "x": [
          1,
          2,
          3,
          4,
          5,
          6,
          7,
          8,
          9
         ],
         "y": [
          1.026774252568377,
          1.2253623752962117,
          1.4785026486345672,
          1.653566335308739,
          1.7799582507970875,
          1.8279219080143954,
          1.7700186734804295,
          1.6342919969760132,
          1.480399345176219
         ]
        }
       ],
       "layout": {
        "font": {
         "color": "#FFF"
        },
        "height": 500,
        "legend": {
         "x": 0,
         "y": 1
        },
        "paper_bgcolor": "#000",
        "plot_bgcolor": "#000",
        "title": "Confidence after 120000 Iterations at Glimpse 3",
        "titlefont": {
         "color": "#FFF"
        },
        "width": 500,
        "xaxis": {
         "dtick": 1,
         "range": [
          0.5,
          9.5
         ],
         "tickcolor": "#FFF",
         "title": "True Class"
        },
        "yaxis": {
         "dtick": 1,
         "range": [
          0.5,
          9.5
         ],
         "tickcolor": "#FFF",
         "title": "Mean"
        },
        "yaxis2": {
         "dtick": 1,
         "overlaying": "y",
         "range": [
          0.5,
          9.5
         ],
         "side": "right",
         "tickcolor": "#FFF",
         "title": "Standard Deviation"
        }
       }
      },
      "text/html": [
       "<div id=\"3ea9c7d5-8ce9-471c-bdc3-396222b5d16d\" style=\"height: 500px; width: 500px;\" class=\"plotly-graph-div\"></div><script type=\"text/javascript\">require([\"plotly\"], function(Plotly) { window.PLOTLYENV=window.PLOTLYENV || {};window.PLOTLYENV.BASE_URL=\"https://plot.ly\";Plotly.newPlot(\"3ea9c7d5-8ce9-471c-bdc3-396222b5d16d\", [{\"y\": [1.0525950485558433, 2.1827929660079017, 3.108994350426873, 4.105599550887045, 5.115505603550633, 6.060577881621671, 6.859488208487621, 7.47896102484886, 7.928534655433258], \"name\": \"Mean\", \"type\": \"scatter\", \"x\": [1, 2, 3, 4, 5, 6, 7, 8, 9]}, {\"y\": [1.026774252568377, 1.2253623752962117, 1.4785026486345672, 1.653566335308739, 1.7799582507970875, 1.8279219080143954, 1.7700186734804295, 1.6342919969760132, 1.480399345176219], \"name\": \"Standard Deviation\", \"type\": \"scatter\", \"x\": [1, 2, 3, 4, 5, 6, 7, 8, 9]}], {\"width\": 500, \"titlefont\": {\"color\": \"#FFF\"}, \"legend\": {\"y\": 1, \"x\": 0}, \"yaxis2\": {\"tickcolor\": \"#FFF\", \"side\": \"right\", \"range\": [0.5, 9.5], \"title\": \"Standard Deviation\", \"dtick\": 1, \"overlaying\": \"y\"}, \"title\": \"Confidence after 120000 Iterations at Glimpse 3\", \"height\": 500, \"paper_bgcolor\": \"#000\", \"yaxis\": {\"tickcolor\": \"#FFF\", \"title\": \"Mean\", \"range\": [0.5, 9.5], \"dtick\": 1}, \"xaxis\": {\"tickcolor\": \"#FFF\", \"title\": \"True Class\", \"range\": [0.5, 9.5], \"dtick\": 1}, \"font\": {\"color\": \"#FFF\"}, \"plot_bgcolor\": \"#000\"}, {\"showLink\": true, \"linkText\": \"Export to plot.ly\"})});</script>"
      ],
      "text/vnd.plotly.v1+html": [
       "<div id=\"3ea9c7d5-8ce9-471c-bdc3-396222b5d16d\" style=\"height: 500px; width: 500px;\" class=\"plotly-graph-div\"></div><script type=\"text/javascript\">require([\"plotly\"], function(Plotly) { window.PLOTLYENV=window.PLOTLYENV || {};window.PLOTLYENV.BASE_URL=\"https://plot.ly\";Plotly.newPlot(\"3ea9c7d5-8ce9-471c-bdc3-396222b5d16d\", [{\"y\": [1.0525950485558433, 2.1827929660079017, 3.108994350426873, 4.105599550887045, 5.115505603550633, 6.060577881621671, 6.859488208487621, 7.47896102484886, 7.928534655433258], \"name\": \"Mean\", \"type\": \"scatter\", \"x\": [1, 2, 3, 4, 5, 6, 7, 8, 9]}, {\"y\": [1.026774252568377, 1.2253623752962117, 1.4785026486345672, 1.653566335308739, 1.7799582507970875, 1.8279219080143954, 1.7700186734804295, 1.6342919969760132, 1.480399345176219], \"name\": \"Standard Deviation\", \"type\": \"scatter\", \"x\": [1, 2, 3, 4, 5, 6, 7, 8, 9]}], {\"width\": 500, \"titlefont\": {\"color\": \"#FFF\"}, \"legend\": {\"y\": 1, \"x\": 0}, \"yaxis2\": {\"tickcolor\": \"#FFF\", \"side\": \"right\", \"range\": [0.5, 9.5], \"title\": \"Standard Deviation\", \"dtick\": 1, \"overlaying\": \"y\"}, \"title\": \"Confidence after 120000 Iterations at Glimpse 3\", \"height\": 500, \"paper_bgcolor\": \"#000\", \"yaxis\": {\"tickcolor\": \"#FFF\", \"title\": \"Mean\", \"range\": [0.5, 9.5], \"dtick\": 1}, \"xaxis\": {\"tickcolor\": \"#FFF\", \"title\": \"True Class\", \"range\": [0.5, 9.5], \"dtick\": 1}, \"font\": {\"color\": \"#FFF\"}, \"plot_bgcolor\": \"#000\"}, {\"showLink\": true, \"linkText\": \"Export to plot.ly\"})});</script>"
      ]
     },
     "metadata": {},
     "output_type": "display_data"
    },
    {
     "data": {
      "application/vnd.plotly.v1+json": {
       "data": [
        {
         "name": "Coefficient of Variation",
         "type": "scatter",
         "x": [
          1,
          2,
          3,
          4,
          5,
          6,
          7,
          8,
          9
         ],
         "y": [
          1.3708053700436982,
          1.8549778006454358,
          2.1799148837228404,
          2.312437856870688,
          2.341028132025694,
          2.339193968323406,
          2.25607705259968,
          2.195097794690903,
          2.1283378760895983
         ]
        }
       ],
       "layout": {
        "font": {
         "color": "#FFF"
        },
        "height": 300,
        "paper_bgcolor": "#000",
        "plot_bgcolor": "#000",
        "title": "Confidence after 120000 Iterations at Glimpse 3",
        "titlefont": {
         "color": "#FFF"
        },
        "width": 500,
        "xaxis": {
         "dtick": 1,
         "range": [
          0.5,
          9.5
         ],
         "tickcolor": "#FFF",
         "title": "True Class"
        },
        "yaxis": {
         "tickcolor": "#FFF",
         "title": "Coefficient of Variation"
        }
       }
      },
      "text/html": [
       "<div id=\"346f542b-1a90-46f5-980c-a35194678688\" style=\"height: 300px; width: 500px;\" class=\"plotly-graph-div\"></div><script type=\"text/javascript\">require([\"plotly\"], function(Plotly) { window.PLOTLYENV=window.PLOTLYENV || {};window.PLOTLYENV.BASE_URL=\"https://plot.ly\";Plotly.newPlot(\"346f542b-1a90-46f5-980c-a35194678688\", [{\"y\": [1.3708053700436982, 1.8549778006454358, 2.1799148837228404, 2.312437856870688, 2.341028132025694, 2.339193968323406, 2.25607705259968, 2.195097794690903, 2.1283378760895983], \"name\": \"Coefficient of Variation\", \"type\": \"scatter\", \"x\": [1, 2, 3, 4, 5, 6, 7, 8, 9]}], {\"width\": 500, \"titlefont\": {\"color\": \"#FFF\"}, \"yaxis\": {\"tickcolor\": \"#FFF\", \"title\": \"Coefficient of Variation\"}, \"height\": 300, \"paper_bgcolor\": \"#000\", \"title\": \"Confidence after 120000 Iterations at Glimpse 3\", \"xaxis\": {\"tickcolor\": \"#FFF\", \"title\": \"True Class\", \"range\": [0.5, 9.5], \"dtick\": 1}, \"font\": {\"color\": \"#FFF\"}, \"plot_bgcolor\": \"#000\"}, {\"showLink\": true, \"linkText\": \"Export to plot.ly\"})});</script>"
      ],
      "text/vnd.plotly.v1+html": [
       "<div id=\"346f542b-1a90-46f5-980c-a35194678688\" style=\"height: 300px; width: 500px;\" class=\"plotly-graph-div\"></div><script type=\"text/javascript\">require([\"plotly\"], function(Plotly) { window.PLOTLYENV=window.PLOTLYENV || {};window.PLOTLYENV.BASE_URL=\"https://plot.ly\";Plotly.newPlot(\"346f542b-1a90-46f5-980c-a35194678688\", [{\"y\": [1.3708053700436982, 1.8549778006454358, 2.1799148837228404, 2.312437856870688, 2.341028132025694, 2.339193968323406, 2.25607705259968, 2.195097794690903, 2.1283378760895983], \"name\": \"Coefficient of Variation\", \"type\": \"scatter\", \"x\": [1, 2, 3, 4, 5, 6, 7, 8, 9]}], {\"width\": 500, \"titlefont\": {\"color\": \"#FFF\"}, \"yaxis\": {\"tickcolor\": \"#FFF\", \"title\": \"Coefficient of Variation\"}, \"height\": 300, \"paper_bgcolor\": \"#000\", \"title\": \"Confidence after 120000 Iterations at Glimpse 3\", \"xaxis\": {\"tickcolor\": \"#FFF\", \"title\": \"True Class\", \"range\": [0.5, 9.5], \"dtick\": 1}, \"font\": {\"color\": \"#FFF\"}, \"plot_bgcolor\": \"#000\"}, {\"showLink\": true, \"linkText\": \"Export to plot.ly\"})});</script>"
      ]
     },
     "metadata": {},
     "output_type": "display_data"
    },
    {
     "data": {
      "application/vnd.plotly.v1+json": {
       "data": [
        {
         "name": "Mean",
         "type": "scatter",
         "x": [
          1,
          2,
          3,
          4,
          5,
          6,
          7,
          8,
          9
         ],
         "y": [
          1.0097999999999998,
          2.0326,
          2.9135,
          3.9461000000000004,
          4.982600000000001,
          6.0207,
          6.9673,
          7.707299999999999,
          8.209399999999999
         ]
        },
        {
         "name": "Standard Deviation",
         "type": "scatter",
         "x": [
          1,
          2,
          3,
          4,
          5,
          6,
          7,
          8,
          9
         ],
         "y": [
          1.0048191281033163,
          1.1103626708226357,
          1.3417711706067452,
          1.4582896706020325,
          1.5663829692396913,
          1.7034955958286058,
          1.6819684699252864,
          1.5233035594921378,
          1.3308060256326353
         ]
        }
       ],
       "layout": {
        "font": {
         "color": "#FFF"
        },
        "height": 500,
        "legend": {
         "x": 0,
         "y": 1
        },
        "paper_bgcolor": "#000",
        "plot_bgcolor": "#000",
        "title": "Choice after 120000 Iterations at Glimpse 3",
        "titlefont": {
         "color": "#FFF"
        },
        "width": 500,
        "xaxis": {
         "dtick": 1,
         "range": [
          0.5,
          9.5
         ],
         "tickcolor": "#FFF",
         "title": "True Class"
        },
        "yaxis": {
         "dtick": 1,
         "range": [
          0.5,
          9.5
         ],
         "tickcolor": "#FFF",
         "title": "Mean"
        },
        "yaxis2": {
         "dtick": 1,
         "overlaying": "y",
         "range": [
          0.5,
          9.5
         ],
         "side": "right",
         "tickcolor": "#FFF",
         "title": "Standard Deviation"
        }
       }
      },
      "text/html": [
       "<div id=\"46b66ef9-2bd1-4dac-827f-c16c882cb59b\" style=\"height: 500px; width: 500px;\" class=\"plotly-graph-div\"></div><script type=\"text/javascript\">require([\"plotly\"], function(Plotly) { window.PLOTLYENV=window.PLOTLYENV || {};window.PLOTLYENV.BASE_URL=\"https://plot.ly\";Plotly.newPlot(\"46b66ef9-2bd1-4dac-827f-c16c882cb59b\", [{\"y\": [1.0097999999999998, 2.0326, 2.9135, 3.9461000000000004, 4.982600000000001, 6.0207, 6.9673, 7.707299999999999, 8.209399999999999], \"name\": \"Mean\", \"type\": \"scatter\", \"x\": [1, 2, 3, 4, 5, 6, 7, 8, 9]}, {\"y\": [1.0048191281033163, 1.1103626708226357, 1.3417711706067452, 1.4582896706020325, 1.5663829692396913, 1.7034955958286058, 1.6819684699252864, 1.5233035594921378, 1.3308060256326353], \"name\": \"Standard Deviation\", \"type\": \"scatter\", \"x\": [1, 2, 3, 4, 5, 6, 7, 8, 9]}], {\"width\": 500, \"titlefont\": {\"color\": \"#FFF\"}, \"legend\": {\"y\": 1, \"x\": 0}, \"yaxis2\": {\"tickcolor\": \"#FFF\", \"side\": \"right\", \"range\": [0.5, 9.5], \"title\": \"Standard Deviation\", \"dtick\": 1, \"overlaying\": \"y\"}, \"title\": \"Choice after 120000 Iterations at Glimpse 3\", \"height\": 500, \"paper_bgcolor\": \"#000\", \"yaxis\": {\"tickcolor\": \"#FFF\", \"title\": \"Mean\", \"range\": [0.5, 9.5], \"dtick\": 1}, \"xaxis\": {\"tickcolor\": \"#FFF\", \"title\": \"True Class\", \"range\": [0.5, 9.5], \"dtick\": 1}, \"font\": {\"color\": \"#FFF\"}, \"plot_bgcolor\": \"#000\"}, {\"showLink\": true, \"linkText\": \"Export to plot.ly\"})});</script>"
      ],
      "text/vnd.plotly.v1+html": [
       "<div id=\"46b66ef9-2bd1-4dac-827f-c16c882cb59b\" style=\"height: 500px; width: 500px;\" class=\"plotly-graph-div\"></div><script type=\"text/javascript\">require([\"plotly\"], function(Plotly) { window.PLOTLYENV=window.PLOTLYENV || {};window.PLOTLYENV.BASE_URL=\"https://plot.ly\";Plotly.newPlot(\"46b66ef9-2bd1-4dac-827f-c16c882cb59b\", [{\"y\": [1.0097999999999998, 2.0326, 2.9135, 3.9461000000000004, 4.982600000000001, 6.0207, 6.9673, 7.707299999999999, 8.209399999999999], \"name\": \"Mean\", \"type\": \"scatter\", \"x\": [1, 2, 3, 4, 5, 6, 7, 8, 9]}, {\"y\": [1.0048191281033163, 1.1103626708226357, 1.3417711706067452, 1.4582896706020325, 1.5663829692396913, 1.7034955958286058, 1.6819684699252864, 1.5233035594921378, 1.3308060256326353], \"name\": \"Standard Deviation\", \"type\": \"scatter\", \"x\": [1, 2, 3, 4, 5, 6, 7, 8, 9]}], {\"width\": 500, \"titlefont\": {\"color\": \"#FFF\"}, \"legend\": {\"y\": 1, \"x\": 0}, \"yaxis2\": {\"tickcolor\": \"#FFF\", \"side\": \"right\", \"range\": [0.5, 9.5], \"title\": \"Standard Deviation\", \"dtick\": 1, \"overlaying\": \"y\"}, \"title\": \"Choice after 120000 Iterations at Glimpse 3\", \"height\": 500, \"paper_bgcolor\": \"#000\", \"yaxis\": {\"tickcolor\": \"#FFF\", \"title\": \"Mean\", \"range\": [0.5, 9.5], \"dtick\": 1}, \"xaxis\": {\"tickcolor\": \"#FFF\", \"title\": \"True Class\", \"range\": [0.5, 9.5], \"dtick\": 1}, \"font\": {\"color\": \"#FFF\"}, \"plot_bgcolor\": \"#000\"}, {\"showLink\": true, \"linkText\": \"Export to plot.ly\"})});</script>"
      ]
     },
     "metadata": {},
     "output_type": "display_data"
    },
    {
     "data": {
      "application/vnd.plotly.v1+json": {
       "data": [
        {
         "name": "Coefficient of Variation",
         "type": "scatter",
         "x": [
          1,
          2,
          3,
          4,
          5,
          6,
          7,
          8,
          9
         ],
         "y": [
          1.3708053700436982,
          1.8549778006454358,
          2.1799148837228404,
          2.312437856870688,
          2.341028132025694,
          2.339193968323406,
          2.25607705259968,
          2.195097794690903,
          2.1283378760895983
         ]
        }
       ],
       "layout": {
        "font": {
         "color": "#FFF"
        },
        "height": 300,
        "paper_bgcolor": "#000",
        "plot_bgcolor": "#000",
        "title": "Choice after 120000 Iterations at Glimpse 3",
        "titlefont": {
         "color": "#FFF"
        },
        "width": 500,
        "xaxis": {
         "dtick": 1,
         "range": [
          0.5,
          9.5
         ],
         "tickcolor": "#FFF",
         "title": "True Class"
        },
        "yaxis": {
         "tickcolor": "#FFF",
         "title": "Coefficient of Variation"
        }
       }
      },
      "text/html": [
       "<div id=\"cc7fc9e9-60af-46a4-872e-439cb8b1f6dc\" style=\"height: 300px; width: 500px;\" class=\"plotly-graph-div\"></div><script type=\"text/javascript\">require([\"plotly\"], function(Plotly) { window.PLOTLYENV=window.PLOTLYENV || {};window.PLOTLYENV.BASE_URL=\"https://plot.ly\";Plotly.newPlot(\"cc7fc9e9-60af-46a4-872e-439cb8b1f6dc\", [{\"y\": [1.3708053700436982, 1.8549778006454358, 2.1799148837228404, 2.312437856870688, 2.341028132025694, 2.339193968323406, 2.25607705259968, 2.195097794690903, 2.1283378760895983], \"name\": \"Coefficient of Variation\", \"type\": \"scatter\", \"x\": [1, 2, 3, 4, 5, 6, 7, 8, 9]}], {\"width\": 500, \"titlefont\": {\"color\": \"#FFF\"}, \"yaxis\": {\"tickcolor\": \"#FFF\", \"title\": \"Coefficient of Variation\"}, \"height\": 300, \"paper_bgcolor\": \"#000\", \"title\": \"Choice after 120000 Iterations at Glimpse 3\", \"xaxis\": {\"tickcolor\": \"#FFF\", \"title\": \"True Class\", \"range\": [0.5, 9.5], \"dtick\": 1}, \"font\": {\"color\": \"#FFF\"}, \"plot_bgcolor\": \"#000\"}, {\"showLink\": true, \"linkText\": \"Export to plot.ly\"})});</script>"
      ],
      "text/vnd.plotly.v1+html": [
       "<div id=\"cc7fc9e9-60af-46a4-872e-439cb8b1f6dc\" style=\"height: 300px; width: 500px;\" class=\"plotly-graph-div\"></div><script type=\"text/javascript\">require([\"plotly\"], function(Plotly) { window.PLOTLYENV=window.PLOTLYENV || {};window.PLOTLYENV.BASE_URL=\"https://plot.ly\";Plotly.newPlot(\"cc7fc9e9-60af-46a4-872e-439cb8b1f6dc\", [{\"y\": [1.3708053700436982, 1.8549778006454358, 2.1799148837228404, 2.312437856870688, 2.341028132025694, 2.339193968323406, 2.25607705259968, 2.195097794690903, 2.1283378760895983], \"name\": \"Coefficient of Variation\", \"type\": \"scatter\", \"x\": [1, 2, 3, 4, 5, 6, 7, 8, 9]}], {\"width\": 500, \"titlefont\": {\"color\": \"#FFF\"}, \"yaxis\": {\"tickcolor\": \"#FFF\", \"title\": \"Coefficient of Variation\"}, \"height\": 300, \"paper_bgcolor\": \"#000\", \"title\": \"Choice after 120000 Iterations at Glimpse 3\", \"xaxis\": {\"tickcolor\": \"#FFF\", \"title\": \"True Class\", \"range\": [0.5, 9.5], \"dtick\": 1}, \"font\": {\"color\": \"#FFF\"}, \"plot_bgcolor\": \"#000\"}, {\"showLink\": true, \"linkText\": \"Export to plot.ly\"})});</script>"
      ]
     },
     "metadata": {},
     "output_type": "display_data"
    },
    {
     "data": {
      "application/vnd.plotly.v1+json": {
       "data": [
        {
         "name": "Mean",
         "type": "scatter",
         "x": [
          1,
          2,
          3,
          4,
          5,
          6,
          7,
          8,
          9
         ],
         "y": [
          1.0489521914990354,
          2.2029925254372493,
          3.130050720379212,
          4.119744449422777,
          5.1170225904449875,
          6.049377336935732,
          6.828131748009211,
          7.438143493140489,
          7.877401746320855
         ]
        },
        {
         "name": "Standard Deviation",
         "type": "scatter",
         "x": [
          1,
          2,
          3,
          4,
          5,
          6,
          7,
          8,
          9
         ],
         "y": [
          1.0246958806460176,
          1.2190106199960835,
          1.4796265641586548,
          1.6628165025064388,
          1.7939890683687232,
          1.8391419958733632,
          1.782020379234055,
          1.6502871021136252,
          1.5020474475568109
         ]
        }
       ],
       "layout": {
        "font": {
         "color": "#FFF"
        },
        "height": 500,
        "legend": {
         "x": 0,
         "y": 1
        },
        "paper_bgcolor": "#000",
        "plot_bgcolor": "#000",
        "title": "Confidence after 120000 Iterations at Glimpse 9",
        "titlefont": {
         "color": "#FFF"
        },
        "width": 500,
        "xaxis": {
         "dtick": 1,
         "range": [
          0.5,
          9.5
         ],
         "tickcolor": "#FFF",
         "title": "True Class"
        },
        "yaxis": {
         "dtick": 1,
         "range": [
          0.5,
          9.5
         ],
         "tickcolor": "#FFF",
         "title": "Mean"
        },
        "yaxis2": {
         "dtick": 1,
         "overlaying": "y",
         "range": [
          0.5,
          9.5
         ],
         "side": "right",
         "tickcolor": "#FFF",
         "title": "Standard Deviation"
        }
       }
      },
      "text/html": [
       "<div id=\"816c744f-89ca-4f19-ad26-a8162f3ecef0\" style=\"height: 500px; width: 500px;\" class=\"plotly-graph-div\"></div><script type=\"text/javascript\">require([\"plotly\"], function(Plotly) { window.PLOTLYENV=window.PLOTLYENV || {};window.PLOTLYENV.BASE_URL=\"https://plot.ly\";Plotly.newPlot(\"816c744f-89ca-4f19-ad26-a8162f3ecef0\", [{\"y\": [1.0489521914990354, 2.2029925254372493, 3.130050720379212, 4.119744449422777, 5.1170225904449875, 6.049377336935732, 6.828131748009211, 7.438143493140489, 7.877401746320855], \"name\": \"Mean\", \"type\": \"scatter\", \"x\": [1, 2, 3, 4, 5, 6, 7, 8, 9]}, {\"y\": [1.0246958806460176, 1.2190106199960835, 1.4796265641586548, 1.6628165025064388, 1.7939890683687232, 1.8391419958733632, 1.782020379234055, 1.6502871021136252, 1.5020474475568109], \"name\": \"Standard Deviation\", \"type\": \"scatter\", \"x\": [1, 2, 3, 4, 5, 6, 7, 8, 9]}], {\"width\": 500, \"titlefont\": {\"color\": \"#FFF\"}, \"legend\": {\"y\": 1, \"x\": 0}, \"yaxis2\": {\"tickcolor\": \"#FFF\", \"side\": \"right\", \"range\": [0.5, 9.5], \"title\": \"Standard Deviation\", \"dtick\": 1, \"overlaying\": \"y\"}, \"title\": \"Confidence after 120000 Iterations at Glimpse 9\", \"height\": 500, \"paper_bgcolor\": \"#000\", \"yaxis\": {\"tickcolor\": \"#FFF\", \"title\": \"Mean\", \"range\": [0.5, 9.5], \"dtick\": 1}, \"xaxis\": {\"tickcolor\": \"#FFF\", \"title\": \"True Class\", \"range\": [0.5, 9.5], \"dtick\": 1}, \"font\": {\"color\": \"#FFF\"}, \"plot_bgcolor\": \"#000\"}, {\"showLink\": true, \"linkText\": \"Export to plot.ly\"})});</script>"
      ],
      "text/vnd.plotly.v1+html": [
       "<div id=\"816c744f-89ca-4f19-ad26-a8162f3ecef0\" style=\"height: 500px; width: 500px;\" class=\"plotly-graph-div\"></div><script type=\"text/javascript\">require([\"plotly\"], function(Plotly) { window.PLOTLYENV=window.PLOTLYENV || {};window.PLOTLYENV.BASE_URL=\"https://plot.ly\";Plotly.newPlot(\"816c744f-89ca-4f19-ad26-a8162f3ecef0\", [{\"y\": [1.0489521914990354, 2.2029925254372493, 3.130050720379212, 4.119744449422777, 5.1170225904449875, 6.049377336935732, 6.828131748009211, 7.438143493140489, 7.877401746320855], \"name\": \"Mean\", \"type\": \"scatter\", \"x\": [1, 2, 3, 4, 5, 6, 7, 8, 9]}, {\"y\": [1.0246958806460176, 1.2190106199960835, 1.4796265641586548, 1.6628165025064388, 1.7939890683687232, 1.8391419958733632, 1.782020379234055, 1.6502871021136252, 1.5020474475568109], \"name\": \"Standard Deviation\", \"type\": \"scatter\", \"x\": [1, 2, 3, 4, 5, 6, 7, 8, 9]}], {\"width\": 500, \"titlefont\": {\"color\": \"#FFF\"}, \"legend\": {\"y\": 1, \"x\": 0}, \"yaxis2\": {\"tickcolor\": \"#FFF\", \"side\": \"right\", \"range\": [0.5, 9.5], \"title\": \"Standard Deviation\", \"dtick\": 1, \"overlaying\": \"y\"}, \"title\": \"Confidence after 120000 Iterations at Glimpse 9\", \"height\": 500, \"paper_bgcolor\": \"#000\", \"yaxis\": {\"tickcolor\": \"#FFF\", \"title\": \"Mean\", \"range\": [0.5, 9.5], \"dtick\": 1}, \"xaxis\": {\"tickcolor\": \"#FFF\", \"title\": \"True Class\", \"range\": [0.5, 9.5], \"dtick\": 1}, \"font\": {\"color\": \"#FFF\"}, \"plot_bgcolor\": \"#000\"}, {\"showLink\": true, \"linkText\": \"Export to plot.ly\"})});</script>"
      ]
     },
     "metadata": {},
     "output_type": "display_data"
    },
    {
     "data": {
      "application/vnd.plotly.v1+json": {
       "data": [
        {
         "name": "Coefficient of Variation",
         "type": "scatter",
         "x": [
          1,
          2,
          3,
          4,
          5,
          6,
          7,
          8,
          9
         ],
         "y": [
          1.3708053700436982,
          1.8549778006454358,
          2.1799148837228404,
          2.312437856870688,
          2.341028132025694,
          2.339193968323406,
          2.25607705259968,
          2.195097794690903,
          2.1283378760895983
         ]
        }
       ],
       "layout": {
        "font": {
         "color": "#FFF"
        },
        "height": 300,
        "paper_bgcolor": "#000",
        "plot_bgcolor": "#000",
        "title": "Confidence after 120000 Iterations at Glimpse 9",
        "titlefont": {
         "color": "#FFF"
        },
        "width": 500,
        "xaxis": {
         "dtick": 1,
         "range": [
          0.5,
          9.5
         ],
         "tickcolor": "#FFF",
         "title": "True Class"
        },
        "yaxis": {
         "tickcolor": "#FFF",
         "title": "Coefficient of Variation"
        }
       }
      },
      "text/html": [
       "<div id=\"7a7fa33e-7698-4c78-8018-e8904735a870\" style=\"height: 300px; width: 500px;\" class=\"plotly-graph-div\"></div><script type=\"text/javascript\">require([\"plotly\"], function(Plotly) { window.PLOTLYENV=window.PLOTLYENV || {};window.PLOTLYENV.BASE_URL=\"https://plot.ly\";Plotly.newPlot(\"7a7fa33e-7698-4c78-8018-e8904735a870\", [{\"y\": [1.3708053700436982, 1.8549778006454358, 2.1799148837228404, 2.312437856870688, 2.341028132025694, 2.339193968323406, 2.25607705259968, 2.195097794690903, 2.1283378760895983], \"name\": \"Coefficient of Variation\", \"type\": \"scatter\", \"x\": [1, 2, 3, 4, 5, 6, 7, 8, 9]}], {\"width\": 500, \"titlefont\": {\"color\": \"#FFF\"}, \"yaxis\": {\"tickcolor\": \"#FFF\", \"title\": \"Coefficient of Variation\"}, \"height\": 300, \"paper_bgcolor\": \"#000\", \"title\": \"Confidence after 120000 Iterations at Glimpse 9\", \"xaxis\": {\"tickcolor\": \"#FFF\", \"title\": \"True Class\", \"range\": [0.5, 9.5], \"dtick\": 1}, \"font\": {\"color\": \"#FFF\"}, \"plot_bgcolor\": \"#000\"}, {\"showLink\": true, \"linkText\": \"Export to plot.ly\"})});</script>"
      ],
      "text/vnd.plotly.v1+html": [
       "<div id=\"7a7fa33e-7698-4c78-8018-e8904735a870\" style=\"height: 300px; width: 500px;\" class=\"plotly-graph-div\"></div><script type=\"text/javascript\">require([\"plotly\"], function(Plotly) { window.PLOTLYENV=window.PLOTLYENV || {};window.PLOTLYENV.BASE_URL=\"https://plot.ly\";Plotly.newPlot(\"7a7fa33e-7698-4c78-8018-e8904735a870\", [{\"y\": [1.3708053700436982, 1.8549778006454358, 2.1799148837228404, 2.312437856870688, 2.341028132025694, 2.339193968323406, 2.25607705259968, 2.195097794690903, 2.1283378760895983], \"name\": \"Coefficient of Variation\", \"type\": \"scatter\", \"x\": [1, 2, 3, 4, 5, 6, 7, 8, 9]}], {\"width\": 500, \"titlefont\": {\"color\": \"#FFF\"}, \"yaxis\": {\"tickcolor\": \"#FFF\", \"title\": \"Coefficient of Variation\"}, \"height\": 300, \"paper_bgcolor\": \"#000\", \"title\": \"Confidence after 120000 Iterations at Glimpse 9\", \"xaxis\": {\"tickcolor\": \"#FFF\", \"title\": \"True Class\", \"range\": [0.5, 9.5], \"dtick\": 1}, \"font\": {\"color\": \"#FFF\"}, \"plot_bgcolor\": \"#000\"}, {\"showLink\": true, \"linkText\": \"Export to plot.ly\"})});</script>"
      ]
     },
     "metadata": {},
     "output_type": "display_data"
    },
    {
     "data": {
      "application/vnd.plotly.v1+json": {
       "data": [
        {
         "name": "Mean",
         "type": "scatter",
         "x": [
          1,
          2,
          3,
          4,
          5,
          6,
          7,
          8,
          9
         ],
         "y": [
          1.0122,
          2.0561999999999996,
          2.9381,
          3.9553999999999996,
          4.9826,
          6.0143,
          6.9518,
          7.696299999999999,
          8.196299999999999
         ]
        },
        {
         "name": "Standard Deviation",
         "type": "scatter",
         "x": [
          1,
          2,
          3,
          4,
          5,
          6,
          7,
          8,
          9
         ],
         "y": [
          1.0059655773548992,
          1.109129256967143,
          1.3272181136782342,
          1.4510558922135317,
          1.5587030640738893,
          1.6898512999663722,
          1.6748204790568113,
          1.5146599674618124,
          1.318084540406999
         ]
        }
       ],
       "layout": {
        "font": {
         "color": "#FFF"
        },
        "height": 500,
        "legend": {
         "x": 0,
         "y": 1
        },
        "paper_bgcolor": "#000",
        "plot_bgcolor": "#000",
        "title": "Choice after 120000 Iterations at Glimpse 9",
        "titlefont": {
         "color": "#FFF"
        },
        "width": 500,
        "xaxis": {
         "dtick": 1,
         "range": [
          0.5,
          9.5
         ],
         "tickcolor": "#FFF",
         "title": "True Class"
        },
        "yaxis": {
         "dtick": 1,
         "range": [
          0.5,
          9.5
         ],
         "tickcolor": "#FFF",
         "title": "Mean"
        },
        "yaxis2": {
         "dtick": 1,
         "overlaying": "y",
         "range": [
          0.5,
          9.5
         ],
         "side": "right",
         "tickcolor": "#FFF",
         "title": "Standard Deviation"
        }
       }
      },
      "text/html": [
       "<div id=\"99d50571-0904-416e-b5f2-dfd641840e85\" style=\"height: 500px; width: 500px;\" class=\"plotly-graph-div\"></div><script type=\"text/javascript\">require([\"plotly\"], function(Plotly) { window.PLOTLYENV=window.PLOTLYENV || {};window.PLOTLYENV.BASE_URL=\"https://plot.ly\";Plotly.newPlot(\"99d50571-0904-416e-b5f2-dfd641840e85\", [{\"y\": [1.0122, 2.0561999999999996, 2.9381, 3.9553999999999996, 4.9826, 6.0143, 6.9518, 7.696299999999999, 8.196299999999999], \"name\": \"Mean\", \"type\": \"scatter\", \"x\": [1, 2, 3, 4, 5, 6, 7, 8, 9]}, {\"y\": [1.0059655773548992, 1.109129256967143, 1.3272181136782342, 1.4510558922135317, 1.5587030640738893, 1.6898512999663722, 1.6748204790568113, 1.5146599674618124, 1.318084540406999], \"name\": \"Standard Deviation\", \"type\": \"scatter\", \"x\": [1, 2, 3, 4, 5, 6, 7, 8, 9]}], {\"width\": 500, \"titlefont\": {\"color\": \"#FFF\"}, \"legend\": {\"y\": 1, \"x\": 0}, \"yaxis2\": {\"tickcolor\": \"#FFF\", \"side\": \"right\", \"range\": [0.5, 9.5], \"title\": \"Standard Deviation\", \"dtick\": 1, \"overlaying\": \"y\"}, \"title\": \"Choice after 120000 Iterations at Glimpse 9\", \"height\": 500, \"paper_bgcolor\": \"#000\", \"yaxis\": {\"tickcolor\": \"#FFF\", \"title\": \"Mean\", \"range\": [0.5, 9.5], \"dtick\": 1}, \"xaxis\": {\"tickcolor\": \"#FFF\", \"title\": \"True Class\", \"range\": [0.5, 9.5], \"dtick\": 1}, \"font\": {\"color\": \"#FFF\"}, \"plot_bgcolor\": \"#000\"}, {\"showLink\": true, \"linkText\": \"Export to plot.ly\"})});</script>"
      ],
      "text/vnd.plotly.v1+html": [
       "<div id=\"99d50571-0904-416e-b5f2-dfd641840e85\" style=\"height: 500px; width: 500px;\" class=\"plotly-graph-div\"></div><script type=\"text/javascript\">require([\"plotly\"], function(Plotly) { window.PLOTLYENV=window.PLOTLYENV || {};window.PLOTLYENV.BASE_URL=\"https://plot.ly\";Plotly.newPlot(\"99d50571-0904-416e-b5f2-dfd641840e85\", [{\"y\": [1.0122, 2.0561999999999996, 2.9381, 3.9553999999999996, 4.9826, 6.0143, 6.9518, 7.696299999999999, 8.196299999999999], \"name\": \"Mean\", \"type\": \"scatter\", \"x\": [1, 2, 3, 4, 5, 6, 7, 8, 9]}, {\"y\": [1.0059655773548992, 1.109129256967143, 1.3272181136782342, 1.4510558922135317, 1.5587030640738893, 1.6898512999663722, 1.6748204790568113, 1.5146599674618124, 1.318084540406999], \"name\": \"Standard Deviation\", \"type\": \"scatter\", \"x\": [1, 2, 3, 4, 5, 6, 7, 8, 9]}], {\"width\": 500, \"titlefont\": {\"color\": \"#FFF\"}, \"legend\": {\"y\": 1, \"x\": 0}, \"yaxis2\": {\"tickcolor\": \"#FFF\", \"side\": \"right\", \"range\": [0.5, 9.5], \"title\": \"Standard Deviation\", \"dtick\": 1, \"overlaying\": \"y\"}, \"title\": \"Choice after 120000 Iterations at Glimpse 9\", \"height\": 500, \"paper_bgcolor\": \"#000\", \"yaxis\": {\"tickcolor\": \"#FFF\", \"title\": \"Mean\", \"range\": [0.5, 9.5], \"dtick\": 1}, \"xaxis\": {\"tickcolor\": \"#FFF\", \"title\": \"True Class\", \"range\": [0.5, 9.5], \"dtick\": 1}, \"font\": {\"color\": \"#FFF\"}, \"plot_bgcolor\": \"#000\"}, {\"showLink\": true, \"linkText\": \"Export to plot.ly\"})});</script>"
      ]
     },
     "metadata": {},
     "output_type": "display_data"
    },
    {
     "data": {
      "application/vnd.plotly.v1+json": {
       "data": [
        {
         "name": "Coefficient of Variation",
         "type": "scatter",
         "x": [
          1,
          2,
          3,
          4,
          5,
          6,
          7,
          8,
          9
         ],
         "y": [
          1.3708053700436982,
          1.8549778006454358,
          2.1799148837228404,
          2.312437856870688,
          2.341028132025694,
          2.339193968323406,
          2.25607705259968,
          2.195097794690903,
          2.1283378760895983
         ]
        }
       ],
       "layout": {
        "font": {
         "color": "#FFF"
        },
        "height": 300,
        "paper_bgcolor": "#000",
        "plot_bgcolor": "#000",
        "title": "Choice after 120000 Iterations at Glimpse 9",
        "titlefont": {
         "color": "#FFF"
        },
        "width": 500,
        "xaxis": {
         "dtick": 1,
         "range": [
          0.5,
          9.5
         ],
         "tickcolor": "#FFF",
         "title": "True Class"
        },
        "yaxis": {
         "tickcolor": "#FFF",
         "title": "Coefficient of Variation"
        }
       }
      },
      "text/html": [
       "<div id=\"8bb8ab5f-4eb8-4260-b5c0-c7743afb0182\" style=\"height: 300px; width: 500px;\" class=\"plotly-graph-div\"></div><script type=\"text/javascript\">require([\"plotly\"], function(Plotly) { window.PLOTLYENV=window.PLOTLYENV || {};window.PLOTLYENV.BASE_URL=\"https://plot.ly\";Plotly.newPlot(\"8bb8ab5f-4eb8-4260-b5c0-c7743afb0182\", [{\"y\": [1.3708053700436982, 1.8549778006454358, 2.1799148837228404, 2.312437856870688, 2.341028132025694, 2.339193968323406, 2.25607705259968, 2.195097794690903, 2.1283378760895983], \"name\": \"Coefficient of Variation\", \"type\": \"scatter\", \"x\": [1, 2, 3, 4, 5, 6, 7, 8, 9]}], {\"width\": 500, \"titlefont\": {\"color\": \"#FFF\"}, \"yaxis\": {\"tickcolor\": \"#FFF\", \"title\": \"Coefficient of Variation\"}, \"height\": 300, \"paper_bgcolor\": \"#000\", \"title\": \"Choice after 120000 Iterations at Glimpse 9\", \"xaxis\": {\"tickcolor\": \"#FFF\", \"title\": \"True Class\", \"range\": [0.5, 9.5], \"dtick\": 1}, \"font\": {\"color\": \"#FFF\"}, \"plot_bgcolor\": \"#000\"}, {\"showLink\": true, \"linkText\": \"Export to plot.ly\"})});</script>"
      ],
      "text/vnd.plotly.v1+html": [
       "<div id=\"8bb8ab5f-4eb8-4260-b5c0-c7743afb0182\" style=\"height: 300px; width: 500px;\" class=\"plotly-graph-div\"></div><script type=\"text/javascript\">require([\"plotly\"], function(Plotly) { window.PLOTLYENV=window.PLOTLYENV || {};window.PLOTLYENV.BASE_URL=\"https://plot.ly\";Plotly.newPlot(\"8bb8ab5f-4eb8-4260-b5c0-c7743afb0182\", [{\"y\": [1.3708053700436982, 1.8549778006454358, 2.1799148837228404, 2.312437856870688, 2.341028132025694, 2.339193968323406, 2.25607705259968, 2.195097794690903, 2.1283378760895983], \"name\": \"Coefficient of Variation\", \"type\": \"scatter\", \"x\": [1, 2, 3, 4, 5, 6, 7, 8, 9]}], {\"width\": 500, \"titlefont\": {\"color\": \"#FFF\"}, \"yaxis\": {\"tickcolor\": \"#FFF\", \"title\": \"Coefficient of Variation\"}, \"height\": 300, \"paper_bgcolor\": \"#000\", \"title\": \"Choice after 120000 Iterations at Glimpse 9\", \"xaxis\": {\"tickcolor\": \"#FFF\", \"title\": \"True Class\", \"range\": [0.5, 9.5], \"dtick\": 1}, \"font\": {\"color\": \"#FFF\"}, \"plot_bgcolor\": \"#000\"}, {\"showLink\": true, \"linkText\": \"Export to plot.ly\"})});</script>"
      ]
     },
     "metadata": {},
     "output_type": "display_data"
    }
   ],
   "source": [
    "for i, it in enumerate(iter_list):\n",
    "    for g, glimpse in enumerate(glimpse_list):\n",
    "        plot_confidence_msdcv(i, it, g, glimpse)\n",
    "        plot_choice_msdcv(i, it, g, glimpse)"
   ]
  },
  {
   "cell_type": "code",
   "execution_count": null,
   "metadata": {
    "collapsed": true
   },
   "outputs": [],
   "source": []
  }
 ],
 "metadata": {
  "kernelspec": {
   "display_name": "Python 3",
   "language": "python",
   "name": "python3"
  },
  "language_info": {
   "codemirror_mode": {
    "name": "ipython",
    "version": 3
   },
   "file_extension": ".py",
   "mimetype": "text/x-python",
   "name": "python",
   "nbconvert_exporter": "python",
   "pygments_lexer": "ipython3",
   "version": "3.5.2"
  }
 },
 "nbformat": 4,
 "nbformat_minor": 2
}
