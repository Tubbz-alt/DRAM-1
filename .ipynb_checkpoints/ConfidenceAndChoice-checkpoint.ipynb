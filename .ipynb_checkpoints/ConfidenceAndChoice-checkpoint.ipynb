{
 "cells": [
  {
   "cell_type": "markdown",
   "metadata": {},
   "source": [
    "# Confidence and Choice Visualizer"
   ]
  },
  {
   "cell_type": "markdown",
   "metadata": {},
   "source": [
    "Run DRAM_classify_blobs 10 times (use runDRAM_classify_blobs.sh in hydra), then copy all the checkpoints to guppy (use copyDRAM_classify_blobs_ckpts.sh in hydra and enter password 10x).\n",
    "\n",
    "Make sure these are the <b>guppy</b> model_settings: <br />\n",
    "min_edge = 2 <br />\n",
    "max_edge = 5 <br />\n",
    "min_blobs = 1 <br />\n",
    "max_blobs = 9 <br />\n",
    "glimpses = max_blobs + 1 <br />\n",
    "batch_size = 9000\n",
    "\n",
    "You could then use this entire program or use ClassificationDistributions.ipynb to output confidence_one_run for each run, and set them as the confidence for each run in confidence_all_runs."
   ]
  },
  {
   "cell_type": "code",
   "execution_count": 1,
   "metadata": {},
   "outputs": [
    {
     "data": {
      "text/html": [
       "<script>requirejs.config({paths: { 'plotly': ['https://cdn.plot.ly/plotly-latest.min']},});if(!window.Plotly) {{require(['plotly'],function(plotly) {window.Plotly=plotly;});}}</script>"
      ],
      "text/vnd.plotly.v1+html": [
       "<script>requirejs.config({paths: { 'plotly': ['https://cdn.plot.ly/plotly-latest.min']},});if(!window.Plotly) {{require(['plotly'],function(plotly) {window.Plotly=plotly;});}}</script>"
      ]
     },
     "metadata": {},
     "output_type": "display_data"
    },
    {
     "name": "stdout",
     "output_type": "stream",
     "text": [
      "['/usr/local/lib/python3.5/dist-packages/ipykernel_launcher.py', '-f', 'true', 'true', 'true', 'true', 'true', 'model_runs/-f/classify_log.csv', 'model_runs/-f/classifymodel_0.ckpt', 'model_runs/-f/classifymodel_', 'model_runs/-f/zzzdraw_data_5000.npy', 'false', 'true', 'false', 'false', 'true']\n",
      "analysis.py\n"
     ]
    }
   ],
   "source": [
    "import numpy as np\n",
    "from plotly.offline import download_plotlyjs, init_notebook_mode, plot, iplot\n",
    "init_notebook_mode(connected=True)\n",
    "import plotly.graph_objs as go\n",
    "from analysis import classify_image, read_n, classify_imgs2"
   ]
  },
  {
   "cell_type": "code",
   "execution_count": 2,
   "metadata": {
    "collapsed": true
   },
   "outputs": [],
   "source": [
    "num_runs = 10\n",
    "iter_list = [50000, 100000, 120000]#[0, 250, 1000, 4000, 16000, 32000, 64000, 125000, 250000, 500000]\n",
    "glimpse_list = [0, 3, 9]\n",
    "max_blobs = 9\n",
    "min_blobs = 1\n",
    "\n",
    "num_iters = len(iter_list)\n",
    "num_glimpses = len(glimpse_list)\n",
    "z_size = max_blobs - min_blobs + 1\n",
    "\n",
    "confidence_all_runs = np.zeros([num_runs, num_iters, num_glimpses, z_size, z_size])\n",
    "choice_all_runs = np.zeros([num_runs, num_iters, num_glimpses, z_size, z_size])"
   ]
  },
  {
   "cell_type": "code",
   "execution_count": 3,
   "metadata": {
    "collapsed": true
   },
   "outputs": [],
   "source": [
    "def fill_matrix(path, iteration):\n",
    "    \"\"\"Fill the confidence and choice matrices for one run at one iteration.\"\"\"\n",
    "    \n",
    "    data = None\n",
    "    num_imgs = 9000\n",
    "    imgs_data = classify_imgs2(iteration, True, num_imgs, path=path)\n",
    "        \n",
    "    confidence_one_run = np.zeros([num_glimpses, z_size, z_size])\n",
    "    choice_one_run = np.zeros([num_glimpses, z_size, z_size])\n",
    "    \n",
    "    for g, glimpse in enumerate(glimpse_list):\n",
    "\n",
    "        for nb in range(z_size):\n",
    "            num_blobs = nb + 1\n",
    "            confidence_hist = np.zeros(z_size)\n",
    "            choice_hist = np.zeros(z_size)\n",
    "            value_counts = np.zeros(z_size)\n",
    "            values_sum = 0\n",
    "            sqr_sum = 0\n",
    "            num_imgs_with_num_blobs = 0\n",
    "\n",
    "            for idx, data in enumerate(imgs_data):\n",
    "\n",
    "                if data[\"label\"][(num_blobs - min_blobs)] == 1: # data is for an image with num_blobs blobs\n",
    "                    num_imgs_with_num_blobs += 1\n",
    "\n",
    "                    # Histogram of softmaxes\n",
    "                    confidence_hist += data[\"classifications\"][glimpse][0]\n",
    "\n",
    "                    # Histogram of choices\n",
    "                    choice = np.argmax(data[\"classifications\"][glimpse][0])\n",
    "                    choice_list = [0] * z_size\n",
    "                    choice_list[choice] = 1\n",
    "                    choice_hist += choice_list\n",
    "\n",
    "            confidence_hist = confidence_hist / num_imgs_with_num_blobs\n",
    "            confidence_one_run[g, nb] = confidence_hist.tolist()\n",
    "\n",
    "            choice_hist = choice_hist / num_imgs_with_num_blobs\n",
    "            choice_one_run[g, nb] = choice_hist.tolist()\n",
    "        \n",
    "#     print(\"Confidence (One Run): \")\n",
    "#     print(confidence_one_run.tolist())\n",
    "#     print(\"Choice (One Run): \")\n",
    "#     print(choice_one_run.tolist())\n",
    "    return confidence_one_run, choice_one_run"
   ]
  },
  {
   "cell_type": "code",
   "execution_count": 4,
   "metadata": {},
   "outputs": [
    {
     "name": "stdout",
     "output_type": "stream",
     "text": [
      "INFO:tensorflow:Restoring parameters from model_runs/DRAM_classify_blobs_run_1/classifymodel_50000.ckpt\n",
      "INFO:tensorflow:Restoring parameters from model_runs/DRAM_classify_blobs_run_1/classifymodel_100000.ckpt\n",
      "INFO:tensorflow:Restoring parameters from model_runs/DRAM_classify_blobs_run_1/classifymodel_120000.ckpt\n",
      "INFO:tensorflow:Restoring parameters from model_runs/DRAM_classify_blobs_run_2/classifymodel_50000.ckpt\n",
      "INFO:tensorflow:Restoring parameters from model_runs/DRAM_classify_blobs_run_2/classifymodel_100000.ckpt\n",
      "INFO:tensorflow:Restoring parameters from model_runs/DRAM_classify_blobs_run_2/classifymodel_120000.ckpt\n",
      "INFO:tensorflow:Restoring parameters from model_runs/DRAM_classify_blobs_run_3/classifymodel_50000.ckpt\n",
      "INFO:tensorflow:Restoring parameters from model_runs/DRAM_classify_blobs_run_3/classifymodel_100000.ckpt\n",
      "INFO:tensorflow:Restoring parameters from model_runs/DRAM_classify_blobs_run_3/classifymodel_120000.ckpt\n",
      "INFO:tensorflow:Restoring parameters from model_runs/DRAM_classify_blobs_run_4/classifymodel_50000.ckpt\n",
      "INFO:tensorflow:Restoring parameters from model_runs/DRAM_classify_blobs_run_4/classifymodel_100000.ckpt\n",
      "INFO:tensorflow:Restoring parameters from model_runs/DRAM_classify_blobs_run_4/classifymodel_120000.ckpt\n",
      "INFO:tensorflow:Restoring parameters from model_runs/DRAM_classify_blobs_run_5/classifymodel_50000.ckpt\n",
      "INFO:tensorflow:Restoring parameters from model_runs/DRAM_classify_blobs_run_5/classifymodel_100000.ckpt\n",
      "INFO:tensorflow:Restoring parameters from model_runs/DRAM_classify_blobs_run_5/classifymodel_120000.ckpt\n",
      "INFO:tensorflow:Restoring parameters from model_runs/DRAM_classify_blobs_run_6/classifymodel_50000.ckpt\n",
      "INFO:tensorflow:Restoring parameters from model_runs/DRAM_classify_blobs_run_6/classifymodel_100000.ckpt\n",
      "INFO:tensorflow:Restoring parameters from model_runs/DRAM_classify_blobs_run_6/classifymodel_120000.ckpt\n",
      "INFO:tensorflow:Restoring parameters from model_runs/DRAM_classify_blobs_run_7/classifymodel_50000.ckpt\n",
      "INFO:tensorflow:Restoring parameters from model_runs/DRAM_classify_blobs_run_7/classifymodel_100000.ckpt\n",
      "INFO:tensorflow:Restoring parameters from model_runs/DRAM_classify_blobs_run_7/classifymodel_120000.ckpt\n",
      "INFO:tensorflow:Restoring parameters from model_runs/DRAM_classify_blobs_run_8/classifymodel_50000.ckpt\n",
      "INFO:tensorflow:Restoring parameters from model_runs/DRAM_classify_blobs_run_8/classifymodel_100000.ckpt\n",
      "INFO:tensorflow:Restoring parameters from model_runs/DRAM_classify_blobs_run_8/classifymodel_120000.ckpt\n",
      "INFO:tensorflow:Restoring parameters from model_runs/DRAM_classify_blobs_run_9/classifymodel_50000.ckpt\n",
      "INFO:tensorflow:Restoring parameters from model_runs/DRAM_classify_blobs_run_9/classifymodel_100000.ckpt\n",
      "INFO:tensorflow:Restoring parameters from model_runs/DRAM_classify_blobs_run_9/classifymodel_120000.ckpt\n",
      "INFO:tensorflow:Restoring parameters from model_runs/DRAM_classify_blobs_run_10/classifymodel_50000.ckpt\n",
      "INFO:tensorflow:Restoring parameters from model_runs/DRAM_classify_blobs_run_10/classifymodel_100000.ckpt\n",
      "INFO:tensorflow:Restoring parameters from model_runs/DRAM_classify_blobs_run_10/classifymodel_120000.ckpt\n"
     ]
    }
   ],
   "source": [
    "model = \"DRAM_classify_blobs\"\n",
    "for run in range(num_runs):\n",
    "    path = 'model_runs/' + model + '_run_' + str(run + 1)\n",
    "#     path = 'model_runs/DRAM_test_square'\n",
    "    for i, iteration in enumerate(iter_list):\n",
    "        confidence_all_runs[run, i], choice_all_runs[run, i] = fill_matrix(path, iteration)"
   ]
  },
  {
   "cell_type": "code",
   "execution_count": 5,
   "metadata": {
    "collapsed": true
   },
   "outputs": [],
   "source": [
    "def adj_all_runs(all_runs_matrix):\n",
    "    \"\"\"Adjust all the matrices so tick marks start with 1.\"\"\"\n",
    "    \n",
    "    new_all_runs_matrix = np.zeros([num_runs, num_iters, num_glimpses, z_size + 1, z_size + 1])\n",
    "    for m, matrix in enumerate(all_runs_matrix):\n",
    "        for i in range(num_iters):\n",
    "            for g in range(num_glimpses):\n",
    "                new_all_runs_matrix[m, i, g] = adj_matrix(matrix[i, g])\n",
    "    return new_all_runs_matrix\n",
    "\n",
    "\n",
    "def adj_matrix(matrix):\n",
    "    \"\"\"Adjust the matrix so tick marks start with 1.\"\"\"\n",
    "    \n",
    "    a = np.zeros([1, z_size])\n",
    "    temp = np.vstack((a, matrix))\n",
    "    b = np.zeros([z_size + 1, 1])\n",
    "    new_matrix = np.hstack((b, temp))\n",
    "    return new_matrix\n",
    "\n",
    "\n",
    "confidence_all_runs_adj = adj_all_runs(confidence_all_runs)\n",
    "choice_all_runs_adj = adj_all_runs(choice_all_runs)"
   ]
  },
  {
   "cell_type": "code",
   "execution_count": 6,
   "metadata": {
    "collapsed": true
   },
   "outputs": [],
   "source": [
    "confidence_avg = np.mean(confidence_all_runs_adj, axis=0)\n",
    "choice_avg = np.mean(choice_all_runs_adj, axis=0)"
   ]
  },
  {
   "cell_type": "code",
   "execution_count": 7,
   "metadata": {
    "collapsed": true
   },
   "outputs": [],
   "source": [
    "def plot_confidence(iter_idx, it, g, glimpse, run=None):\n",
    "    \"\"\"Plot the confidence heatmap.\"\"\"\n",
    "    \n",
    "    if run is None:\n",
    "        matrix = confidence_avg[iter_idx, g]\n",
    "        plot_title = \"Confidence after %d Iterations at Glimpse %d\" % (it, glimpse)\n",
    "\n",
    "    else:\n",
    "        matrix = confidence_all_runs_adj[run, iter_idx, g]\n",
    "        plot_title = \"Confidence at Run %d after %d Iterations at Glimpse %d\" % (run + 1, it, glimpse)\n",
    "    plot_heatmap(matrix, plot_title)\n",
    "\n",
    "\n",
    "def plot_choice(iter_idx, it, g, glimpse, run=None):\n",
    "    \"\"\"Plot the choice heatmap.\"\"\"\n",
    "    \n",
    "    if run is None:\n",
    "        matrix = choice_avg[iter_idx, g]\n",
    "        plot_title = \"Choice after %d Iterations at Glimpse %d\" % (it, glimpse)\n",
    "    else:\n",
    "        matrix = choice_all_runs_adj[run, iter_idx, g]\n",
    "        plot_title = \"Choice at Run %d after %d Iterations at Glimpse %d\" % (run + 1, it, glimpse)\n",
    "    plot_heatmap(matrix, plot_title)\n",
    "    \n",
    "    \n",
    "def plot_heatmap(matrix, plot_title):\n",
    "    \"\"\"Plot heatmap.\"\"\"\n",
    "    \n",
    "    data = [go.Heatmap(\n",
    "        z=matrix,\n",
    "        colorscale=\"Jet\"\n",
    "    )]\n",
    "\n",
    "    layout = go.Layout(\n",
    "        title=plot_title,\n",
    "        yaxis=dict(\n",
    "            range=[9.5, 0.5],\n",
    "            title=\"True Class\",\n",
    "            dtick=1,\n",
    "            tickcolor='#FFF'\n",
    "        ),\n",
    "        xaxis=dict(\n",
    "            range=[0.5, 9.5],\n",
    "            title=\"Predicted Class\",\n",
    "            dtick=1,\n",
    "            tickcolor='#FFF'\n",
    "        ),\n",
    "        width=500,\n",
    "        height=500,\n",
    "        plot_bgcolor=\"#000\",\n",
    "        paper_bgcolor=\"#000\",\n",
    "        font=dict(\n",
    "            color=\"#FFF\"\n",
    "        ),\n",
    "        titlefont=dict(\n",
    "            color=\"#FFF\"\n",
    "        ),\n",
    "    )\n",
    "    fig = go.Figure(data=data, layout=layout)\n",
    "    iplot(fig)"
   ]
  },
  {
   "cell_type": "code",
   "execution_count": 8,
   "metadata": {},
   "outputs": [
    {
     "data": {
      "application/vnd.plotly.v1+json": {
       "data": [
        {
         "colorscale": "Jet",
         "type": "heatmap",
         "z": [
          [
           0,
           0,
           0,
           0,
           0,
           0,
           0,
           0,
           0,
           0
          ],
          [
           0,
           0.7723587197288871,
           0.17513067508405075,
           0.035919006996840475,
           0.010304854034860183,
           0.003678716857392283,
           0.0013879017333565118,
           0.0006903883523162336,
           0.00028755210287528853,
           0.0002421864473623109
          ],
          [
           0,
           0.3390631136818075,
           0.34916110582068943,
           0.17420488777109716,
           0.07900251576402169,
           0.03383853757826473,
           0.013127691218737036,
           0.006497927481865698,
           0.0032004277126822618,
           0.0019037924226477164
          ],
          [
           0,
           0.10539744295806622,
           0.2831584697168048,
           0.25193122559041314,
           0.17322761738345288,
           0.09694132075977395,
           0.0458748982991654,
           0.024112111838041822,
           0.012470589183631864,
           0.006886324976261596
          ],
          [
           0,
           0.030162424096224372,
           0.14976089049826766,
           0.21884349818246465,
           0.22178803461025418,
           0.1646839652521652,
           0.10039590248284476,
           0.060263121836724165,
           0.03614058980828472,
           0.01796157460391485
          ],
          [
           0,
           0.010681322975919855,
           0.0692610975471609,
           0.1448104090713324,
           0.19954754938293906,
           0.19504301814829447,
           0.15388093380996815,
           0.11281559513190878,
           0.07289354918925972,
           0.04106652601153278
          ],
          [
           0,
           0.004701569970343379,
           0.03272404376933005,
           0.08537481753722612,
           0.1505308269709316,
           0.1864671871767712,
           0.1828478635786969,
           0.15859256428728988,
           0.12149775394987157,
           0.07726337278369444
          ],
          [
           0,
           0.00296119625427936,
           0.017860845573594637,
           0.05141896542008956,
           0.10513738017553372,
           0.15669341933267225,
           0.18063182411431736,
           0.1915188586226417,
           0.17237542660056332,
           0.12140208475588898
          ],
          [
           0,
           0.0017118076219980033,
           0.010550099198497382,
           0.0318357861104301,
           0.07028219987718173,
           0.12115994921425777,
           0.16463052339439527,
           0.21001558299828357,
           0.2189734302150408,
           0.1708406221666142
          ],
          [
           0,
           0.0009335063215387791,
           0.006805922546697438,
           0.021276698556280983,
           0.047979835439822247,
           0.09221843139775657,
           0.13738328739867456,
           0.2129756261669101,
           0.25559178178393993,
           0.224834910846202
          ]
         ]
        }
       ],
       "layout": {
        "font": {
         "color": "#FFF"
        },
        "height": 500,
        "paper_bgcolor": "#000",
        "plot_bgcolor": "#000",
        "title": "Confidence after 50000 Iterations at Glimpse 0",
        "titlefont": {
         "color": "#FFF"
        },
        "width": 500,
        "xaxis": {
         "dtick": 1,
         "range": [
          0.5,
          9.5
         ],
         "tickcolor": "#FFF",
         "title": "Predicted Class"
        },
        "yaxis": {
         "dtick": 1,
         "range": [
          9.5,
          0.5
         ],
         "tickcolor": "#FFF",
         "title": "True Class"
        }
       }
      },
      "text/html": [
       "<div id=\"e9c7fbfe-de06-4335-8484-97f20a9826b6\" style=\"height: 500px; width: 500px;\" class=\"plotly-graph-div\"></div><script type=\"text/javascript\">require([\"plotly\"], function(Plotly) { window.PLOTLYENV=window.PLOTLYENV || {};window.PLOTLYENV.BASE_URL=\"https://plot.ly\";Plotly.newPlot(\"e9c7fbfe-de06-4335-8484-97f20a9826b6\", [{\"z\": [[0.0, 0.0, 0.0, 0.0, 0.0, 0.0, 0.0, 0.0, 0.0, 0.0], [0.0, 0.7723587197288871, 0.17513067508405075, 0.035919006996840475, 0.010304854034860183, 0.003678716857392283, 0.0013879017333565118, 0.0006903883523162336, 0.00028755210287528853, 0.0002421864473623109], [0.0, 0.3390631136818075, 0.34916110582068943, 0.17420488777109716, 0.07900251576402169, 0.03383853757826473, 0.013127691218737036, 0.006497927481865698, 0.0032004277126822618, 0.0019037924226477164], [0.0, 0.10539744295806622, 0.2831584697168048, 0.25193122559041314, 0.17322761738345288, 0.09694132075977395, 0.0458748982991654, 0.024112111838041822, 0.012470589183631864, 0.006886324976261596], [0.0, 0.030162424096224372, 0.14976089049826766, 0.21884349818246465, 0.22178803461025418, 0.1646839652521652, 0.10039590248284476, 0.060263121836724165, 0.03614058980828472, 0.01796157460391485], [0.0, 0.010681322975919855, 0.0692610975471609, 0.1448104090713324, 0.19954754938293906, 0.19504301814829447, 0.15388093380996815, 0.11281559513190878, 0.07289354918925972, 0.04106652601153278], [0.0, 0.004701569970343379, 0.03272404376933005, 0.08537481753722612, 0.1505308269709316, 0.1864671871767712, 0.1828478635786969, 0.15859256428728988, 0.12149775394987157, 0.07726337278369444], [0.0, 0.00296119625427936, 0.017860845573594637, 0.05141896542008956, 0.10513738017553372, 0.15669341933267225, 0.18063182411431736, 0.1915188586226417, 0.17237542660056332, 0.12140208475588898], [0.0, 0.0017118076219980033, 0.010550099198497382, 0.0318357861104301, 0.07028219987718173, 0.12115994921425777, 0.16463052339439527, 0.21001558299828357, 0.2189734302150408, 0.1708406221666142], [0.0, 0.0009335063215387791, 0.006805922546697438, 0.021276698556280983, 0.047979835439822247, 0.09221843139775657, 0.13738328739867456, 0.2129756261669101, 0.25559178178393993, 0.224834910846202]], \"colorscale\": \"Jet\", \"type\": \"heatmap\"}], {\"titlefont\": {\"color\": \"#FFF\"}, \"plot_bgcolor\": \"#000\", \"width\": 500, \"title\": \"Confidence after 50000 Iterations at Glimpse 0\", \"paper_bgcolor\": \"#000\", \"font\": {\"color\": \"#FFF\"}, \"xaxis\": {\"title\": \"Predicted Class\", \"tickcolor\": \"#FFF\", \"range\": [0.5, 9.5], \"dtick\": 1}, \"height\": 500, \"yaxis\": {\"title\": \"True Class\", \"tickcolor\": \"#FFF\", \"range\": [9.5, 0.5], \"dtick\": 1}}, {\"showLink\": true, \"linkText\": \"Export to plot.ly\"})});</script>"
      ],
      "text/vnd.plotly.v1+html": [
       "<div id=\"e9c7fbfe-de06-4335-8484-97f20a9826b6\" style=\"height: 500px; width: 500px;\" class=\"plotly-graph-div\"></div><script type=\"text/javascript\">require([\"plotly\"], function(Plotly) { window.PLOTLYENV=window.PLOTLYENV || {};window.PLOTLYENV.BASE_URL=\"https://plot.ly\";Plotly.newPlot(\"e9c7fbfe-de06-4335-8484-97f20a9826b6\", [{\"z\": [[0.0, 0.0, 0.0, 0.0, 0.0, 0.0, 0.0, 0.0, 0.0, 0.0], [0.0, 0.7723587197288871, 0.17513067508405075, 0.035919006996840475, 0.010304854034860183, 0.003678716857392283, 0.0013879017333565118, 0.0006903883523162336, 0.00028755210287528853, 0.0002421864473623109], [0.0, 0.3390631136818075, 0.34916110582068943, 0.17420488777109716, 0.07900251576402169, 0.03383853757826473, 0.013127691218737036, 0.006497927481865698, 0.0032004277126822618, 0.0019037924226477164], [0.0, 0.10539744295806622, 0.2831584697168048, 0.25193122559041314, 0.17322761738345288, 0.09694132075977395, 0.0458748982991654, 0.024112111838041822, 0.012470589183631864, 0.006886324976261596], [0.0, 0.030162424096224372, 0.14976089049826766, 0.21884349818246465, 0.22178803461025418, 0.1646839652521652, 0.10039590248284476, 0.060263121836724165, 0.03614058980828472, 0.01796157460391485], [0.0, 0.010681322975919855, 0.0692610975471609, 0.1448104090713324, 0.19954754938293906, 0.19504301814829447, 0.15388093380996815, 0.11281559513190878, 0.07289354918925972, 0.04106652601153278], [0.0, 0.004701569970343379, 0.03272404376933005, 0.08537481753722612, 0.1505308269709316, 0.1864671871767712, 0.1828478635786969, 0.15859256428728988, 0.12149775394987157, 0.07726337278369444], [0.0, 0.00296119625427936, 0.017860845573594637, 0.05141896542008956, 0.10513738017553372, 0.15669341933267225, 0.18063182411431736, 0.1915188586226417, 0.17237542660056332, 0.12140208475588898], [0.0, 0.0017118076219980033, 0.010550099198497382, 0.0318357861104301, 0.07028219987718173, 0.12115994921425777, 0.16463052339439527, 0.21001558299828357, 0.2189734302150408, 0.1708406221666142], [0.0, 0.0009335063215387791, 0.006805922546697438, 0.021276698556280983, 0.047979835439822247, 0.09221843139775657, 0.13738328739867456, 0.2129756261669101, 0.25559178178393993, 0.224834910846202]], \"colorscale\": \"Jet\", \"type\": \"heatmap\"}], {\"titlefont\": {\"color\": \"#FFF\"}, \"plot_bgcolor\": \"#000\", \"width\": 500, \"title\": \"Confidence after 50000 Iterations at Glimpse 0\", \"paper_bgcolor\": \"#000\", \"font\": {\"color\": \"#FFF\"}, \"xaxis\": {\"title\": \"Predicted Class\", \"tickcolor\": \"#FFF\", \"range\": [0.5, 9.5], \"dtick\": 1}, \"height\": 500, \"yaxis\": {\"title\": \"True Class\", \"tickcolor\": \"#FFF\", \"range\": [9.5, 0.5], \"dtick\": 1}}, {\"showLink\": true, \"linkText\": \"Export to plot.ly\"})});</script>"
      ]
     },
     "metadata": {},
     "output_type": "display_data"
    },
    {
     "data": {
      "application/vnd.plotly.v1+json": {
       "data": [
        {
         "colorscale": "Jet",
         "type": "heatmap",
         "z": [
          [
           0,
           0,
           0,
           0,
           0,
           0,
           0,
           0,
           0,
           0
          ],
          [
           0,
           0.9532000000000002,
           0.0452,
           0.0010999999999999998,
           0.00030000000000000003,
           0,
           0,
           0.0002,
           0,
           0
          ],
          [
           0,
           0.40140000000000003,
           0.4457,
           0.1131,
           0.028300000000000002,
           0.008700000000000001,
           0.0014000000000000002,
           0.0007,
           0.0005,
           0.0002
          ],
          [
           0,
           0.098,
           0.38150000000000006,
           0.2853,
           0.15150000000000002,
           0.0563,
           0.0165,
           0.006199999999999999,
           0.0035000000000000005,
           0.0012000000000000001
          ],
          [
           0,
           0.024500000000000004,
           0.16139999999999996,
           0.2649,
           0.281,
           0.1523,
           0.06540000000000001,
           0.0268,
           0.0178,
           0.005900000000000001
          ],
          [
           0,
           0.008400000000000001,
           0.055900000000000005,
           0.1537,
           0.2541,
           0.2323,
           0.14450000000000002,
           0.0889,
           0.0414,
           0.020799999999999996
          ],
          [
           0,
           0.0035000000000000005,
           0.023200000000000005,
           0.0738,
           0.17329999999999998,
           0.2245,
           0.20099999999999998,
           0.1502,
           0.0953,
           0.055200000000000006
          ],
          [
           0,
           0.0026000000000000003,
           0.010600000000000002,
           0.0381,
           0.1024,
           0.1707,
           0.20050000000000004,
           0.19560000000000002,
           0.1674,
           0.1121
          ],
          [
           0,
           0.0014000000000000002,
           0.0056,
           0.023000000000000003,
           0.0598,
           0.11230000000000002,
           0.1676,
           0.2186,
           0.2367,
           0.175
          ],
          [
           0,
           0.0005,
           0.004000000000000001,
           0.0142,
           0.0359,
           0.0743,
           0.11860000000000001,
           0.21839999999999998,
           0.278,
           0.2561
          ]
         ]
        }
       ],
       "layout": {
        "font": {
         "color": "#FFF"
        },
        "height": 500,
        "paper_bgcolor": "#000",
        "plot_bgcolor": "#000",
        "title": "Choice after 50000 Iterations at Glimpse 0",
        "titlefont": {
         "color": "#FFF"
        },
        "width": 500,
        "xaxis": {
         "dtick": 1,
         "range": [
          0.5,
          9.5
         ],
         "tickcolor": "#FFF",
         "title": "Predicted Class"
        },
        "yaxis": {
         "dtick": 1,
         "range": [
          9.5,
          0.5
         ],
         "tickcolor": "#FFF",
         "title": "True Class"
        }
       }
      },
      "text/html": [
       "<div id=\"377f87ca-d471-4afa-9514-b863e3e1806f\" style=\"height: 500px; width: 500px;\" class=\"plotly-graph-div\"></div><script type=\"text/javascript\">require([\"plotly\"], function(Plotly) { window.PLOTLYENV=window.PLOTLYENV || {};window.PLOTLYENV.BASE_URL=\"https://plot.ly\";Plotly.newPlot(\"377f87ca-d471-4afa-9514-b863e3e1806f\", [{\"z\": [[0.0, 0.0, 0.0, 0.0, 0.0, 0.0, 0.0, 0.0, 0.0, 0.0], [0.0, 0.9532000000000002, 0.0452, 0.0010999999999999998, 0.00030000000000000003, 0.0, 0.0, 0.0002, 0.0, 0.0], [0.0, 0.40140000000000003, 0.4457, 0.1131, 0.028300000000000002, 0.008700000000000001, 0.0014000000000000002, 0.0007, 0.0005, 0.0002], [0.0, 0.098, 0.38150000000000006, 0.2853, 0.15150000000000002, 0.0563, 0.0165, 0.006199999999999999, 0.0035000000000000005, 0.0012000000000000001], [0.0, 0.024500000000000004, 0.16139999999999996, 0.2649, 0.281, 0.1523, 0.06540000000000001, 0.0268, 0.0178, 0.005900000000000001], [0.0, 0.008400000000000001, 0.055900000000000005, 0.1537, 0.2541, 0.2323, 0.14450000000000002, 0.0889, 0.0414, 0.020799999999999996], [0.0, 0.0035000000000000005, 0.023200000000000005, 0.0738, 0.17329999999999998, 0.2245, 0.20099999999999998, 0.1502, 0.0953, 0.055200000000000006], [0.0, 0.0026000000000000003, 0.010600000000000002, 0.0381, 0.1024, 0.1707, 0.20050000000000004, 0.19560000000000002, 0.1674, 0.1121], [0.0, 0.0014000000000000002, 0.0056, 0.023000000000000003, 0.0598, 0.11230000000000002, 0.1676, 0.2186, 0.2367, 0.175], [0.0, 0.0005, 0.004000000000000001, 0.0142, 0.0359, 0.0743, 0.11860000000000001, 0.21839999999999998, 0.278, 0.2561]], \"colorscale\": \"Jet\", \"type\": \"heatmap\"}], {\"titlefont\": {\"color\": \"#FFF\"}, \"plot_bgcolor\": \"#000\", \"width\": 500, \"title\": \"Choice after 50000 Iterations at Glimpse 0\", \"paper_bgcolor\": \"#000\", \"font\": {\"color\": \"#FFF\"}, \"xaxis\": {\"title\": \"Predicted Class\", \"tickcolor\": \"#FFF\", \"range\": [0.5, 9.5], \"dtick\": 1}, \"height\": 500, \"yaxis\": {\"title\": \"True Class\", \"tickcolor\": \"#FFF\", \"range\": [9.5, 0.5], \"dtick\": 1}}, {\"showLink\": true, \"linkText\": \"Export to plot.ly\"})});</script>"
      ],
      "text/vnd.plotly.v1+html": [
       "<div id=\"377f87ca-d471-4afa-9514-b863e3e1806f\" style=\"height: 500px; width: 500px;\" class=\"plotly-graph-div\"></div><script type=\"text/javascript\">require([\"plotly\"], function(Plotly) { window.PLOTLYENV=window.PLOTLYENV || {};window.PLOTLYENV.BASE_URL=\"https://plot.ly\";Plotly.newPlot(\"377f87ca-d471-4afa-9514-b863e3e1806f\", [{\"z\": [[0.0, 0.0, 0.0, 0.0, 0.0, 0.0, 0.0, 0.0, 0.0, 0.0], [0.0, 0.9532000000000002, 0.0452, 0.0010999999999999998, 0.00030000000000000003, 0.0, 0.0, 0.0002, 0.0, 0.0], [0.0, 0.40140000000000003, 0.4457, 0.1131, 0.028300000000000002, 0.008700000000000001, 0.0014000000000000002, 0.0007, 0.0005, 0.0002], [0.0, 0.098, 0.38150000000000006, 0.2853, 0.15150000000000002, 0.0563, 0.0165, 0.006199999999999999, 0.0035000000000000005, 0.0012000000000000001], [0.0, 0.024500000000000004, 0.16139999999999996, 0.2649, 0.281, 0.1523, 0.06540000000000001, 0.0268, 0.0178, 0.005900000000000001], [0.0, 0.008400000000000001, 0.055900000000000005, 0.1537, 0.2541, 0.2323, 0.14450000000000002, 0.0889, 0.0414, 0.020799999999999996], [0.0, 0.0035000000000000005, 0.023200000000000005, 0.0738, 0.17329999999999998, 0.2245, 0.20099999999999998, 0.1502, 0.0953, 0.055200000000000006], [0.0, 0.0026000000000000003, 0.010600000000000002, 0.0381, 0.1024, 0.1707, 0.20050000000000004, 0.19560000000000002, 0.1674, 0.1121], [0.0, 0.0014000000000000002, 0.0056, 0.023000000000000003, 0.0598, 0.11230000000000002, 0.1676, 0.2186, 0.2367, 0.175], [0.0, 0.0005, 0.004000000000000001, 0.0142, 0.0359, 0.0743, 0.11860000000000001, 0.21839999999999998, 0.278, 0.2561]], \"colorscale\": \"Jet\", \"type\": \"heatmap\"}], {\"titlefont\": {\"color\": \"#FFF\"}, \"plot_bgcolor\": \"#000\", \"width\": 500, \"title\": \"Choice after 50000 Iterations at Glimpse 0\", \"paper_bgcolor\": \"#000\", \"font\": {\"color\": \"#FFF\"}, \"xaxis\": {\"title\": \"Predicted Class\", \"tickcolor\": \"#FFF\", \"range\": [0.5, 9.5], \"dtick\": 1}, \"height\": 500, \"yaxis\": {\"title\": \"True Class\", \"tickcolor\": \"#FFF\", \"range\": [9.5, 0.5], \"dtick\": 1}}, {\"showLink\": true, \"linkText\": \"Export to plot.ly\"})});</script>"
      ]
     },
     "metadata": {},
     "output_type": "display_data"
    },
    {
     "data": {
      "application/vnd.plotly.v1+json": {
       "data": [
        {
         "colorscale": "Jet",
         "type": "heatmap",
         "z": [
          [
           0,
           0,
           0,
           0,
           0,
           0,
           0,
           0,
           0,
           0
          ],
          [
           0,
           0.8272668400706257,
           0.1513017707150284,
           0.018187127192499063,
           0.002698311834848529,
           0.00043033356992348327,
           7.76280144283251e-05,
           2.8012232427106447e-05,
           6.694885158562802e-06,
           3.2857347692738152e-06
          ],
          [
           0,
           0.3103532667644581,
           0.4030291161147117,
           0.18671700671444777,
           0.07311095113627898,
           0.019212092272791192,
           0.004503567154471938,
           0.001996826700691182,
           0.0007180501934926037,
           0.00035912399763583975
          ],
          [
           0,
           0.06970251836127403,
           0.30053317341704033,
           0.2831654500481847,
           0.206790956872613,
           0.09024871656159754,
           0.029351183266823018,
           0.01338783218752498,
           0.004663917369985405,
           0.0021562525417274333
          ],
          [
           0,
           0.012249339984929022,
           0.1298578832789819,
           0.22342610956093995,
           0.2786269979406294,
           0.18794796784669549,
           0.08888937728121885,
           0.05004186970937928,
           0.02075903339383315,
           0.008201420978699912
          ],
          [
           0,
           0.002541916080450709,
           0.04351795391070859,
           0.12316281489480811,
           0.23543988705094546,
           0.23261206264459547,
           0.15958409221987477,
           0.11727106338350805,
           0.0608171766268345,
           0.025053033606107035
          ],
          [
           0,
           0.0006482474199449095,
           0.01412175711744235,
           0.056290004453785215,
           0.15368565429177888,
           0.20720780056072546,
           0.19576200425305285,
           0.18749747065219127,
           0.12368453991172142,
           0.06110252099102799
          ],
          [
           0,
           0.0004974772779022822,
           0.005245625108496898,
           0.026929279425888346,
           0.08858503479300622,
           0.15573815202186445,
           0.1894206054804774,
           0.22945420270043285,
           0.19267694394257512,
           0.11145267876331957
          ],
          [
           0,
           0.00025512467077012734,
           0.0022840974670212165,
           0.012597906396594463,
           0.04687799370024128,
           0.10347157131846421,
           0.15862902888428146,
           0.24321728701033937,
           0.25893779546154116,
           0.17372919547565338
          ],
          [
           0,
           3.13300737123851e-05,
           0.0011549957989434457,
           0.00696809373347902,
           0.02489929172307509,
           0.06462437923601219,
           0.11800012077176728,
           0.2277908621285111,
           0.30842720230586995,
           0.24810372372061576
          ]
         ]
        }
       ],
       "layout": {
        "font": {
         "color": "#FFF"
        },
        "height": 500,
        "paper_bgcolor": "#000",
        "plot_bgcolor": "#000",
        "title": "Confidence after 50000 Iterations at Glimpse 3",
        "titlefont": {
         "color": "#FFF"
        },
        "width": 500,
        "xaxis": {
         "dtick": 1,
         "range": [
          0.5,
          9.5
         ],
         "tickcolor": "#FFF",
         "title": "Predicted Class"
        },
        "yaxis": {
         "dtick": 1,
         "range": [
          9.5,
          0.5
         ],
         "tickcolor": "#FFF",
         "title": "True Class"
        }
       }
      },
      "text/html": [
       "<div id=\"370c7077-a41d-49db-a7e3-a64f4a5a4b77\" style=\"height: 500px; width: 500px;\" class=\"plotly-graph-div\"></div><script type=\"text/javascript\">require([\"plotly\"], function(Plotly) { window.PLOTLYENV=window.PLOTLYENV || {};window.PLOTLYENV.BASE_URL=\"https://plot.ly\";Plotly.newPlot(\"370c7077-a41d-49db-a7e3-a64f4a5a4b77\", [{\"z\": [[0.0, 0.0, 0.0, 0.0, 0.0, 0.0, 0.0, 0.0, 0.0, 0.0], [0.0, 0.8272668400706257, 0.1513017707150284, 0.018187127192499063, 0.002698311834848529, 0.00043033356992348327, 7.76280144283251e-05, 2.8012232427106447e-05, 6.694885158562802e-06, 3.2857347692738152e-06], [0.0, 0.3103532667644581, 0.4030291161147117, 0.18671700671444777, 0.07311095113627898, 0.019212092272791192, 0.004503567154471938, 0.001996826700691182, 0.0007180501934926037, 0.00035912399763583975], [0.0, 0.06970251836127403, 0.30053317341704033, 0.2831654500481847, 0.206790956872613, 0.09024871656159754, 0.029351183266823018, 0.01338783218752498, 0.004663917369985405, 0.0021562525417274333], [0.0, 0.012249339984929022, 0.1298578832789819, 0.22342610956093995, 0.2786269979406294, 0.18794796784669549, 0.08888937728121885, 0.05004186970937928, 0.02075903339383315, 0.008201420978699912], [0.0, 0.002541916080450709, 0.04351795391070859, 0.12316281489480811, 0.23543988705094546, 0.23261206264459547, 0.15958409221987477, 0.11727106338350805, 0.0608171766268345, 0.025053033606107035], [0.0, 0.0006482474199449095, 0.01412175711744235, 0.056290004453785215, 0.15368565429177888, 0.20720780056072546, 0.19576200425305285, 0.18749747065219127, 0.12368453991172142, 0.06110252099102799], [0.0, 0.0004974772779022822, 0.005245625108496898, 0.026929279425888346, 0.08858503479300622, 0.15573815202186445, 0.1894206054804774, 0.22945420270043285, 0.19267694394257512, 0.11145267876331957], [0.0, 0.00025512467077012734, 0.0022840974670212165, 0.012597906396594463, 0.04687799370024128, 0.10347157131846421, 0.15862902888428146, 0.24321728701033937, 0.25893779546154116, 0.17372919547565338], [0.0, 3.13300737123851e-05, 0.0011549957989434457, 0.00696809373347902, 0.02489929172307509, 0.06462437923601219, 0.11800012077176728, 0.2277908621285111, 0.30842720230586995, 0.24810372372061576]], \"colorscale\": \"Jet\", \"type\": \"heatmap\"}], {\"titlefont\": {\"color\": \"#FFF\"}, \"plot_bgcolor\": \"#000\", \"width\": 500, \"title\": \"Confidence after 50000 Iterations at Glimpse 3\", \"paper_bgcolor\": \"#000\", \"font\": {\"color\": \"#FFF\"}, \"xaxis\": {\"title\": \"Predicted Class\", \"tickcolor\": \"#FFF\", \"range\": [0.5, 9.5], \"dtick\": 1}, \"height\": 500, \"yaxis\": {\"title\": \"True Class\", \"tickcolor\": \"#FFF\", \"range\": [9.5, 0.5], \"dtick\": 1}}, {\"showLink\": true, \"linkText\": \"Export to plot.ly\"})});</script>"
      ],
      "text/vnd.plotly.v1+html": [
       "<div id=\"370c7077-a41d-49db-a7e3-a64f4a5a4b77\" style=\"height: 500px; width: 500px;\" class=\"plotly-graph-div\"></div><script type=\"text/javascript\">require([\"plotly\"], function(Plotly) { window.PLOTLYENV=window.PLOTLYENV || {};window.PLOTLYENV.BASE_URL=\"https://plot.ly\";Plotly.newPlot(\"370c7077-a41d-49db-a7e3-a64f4a5a4b77\", [{\"z\": [[0.0, 0.0, 0.0, 0.0, 0.0, 0.0, 0.0, 0.0, 0.0, 0.0], [0.0, 0.8272668400706257, 0.1513017707150284, 0.018187127192499063, 0.002698311834848529, 0.00043033356992348327, 7.76280144283251e-05, 2.8012232427106447e-05, 6.694885158562802e-06, 3.2857347692738152e-06], [0.0, 0.3103532667644581, 0.4030291161147117, 0.18671700671444777, 0.07311095113627898, 0.019212092272791192, 0.004503567154471938, 0.001996826700691182, 0.0007180501934926037, 0.00035912399763583975], [0.0, 0.06970251836127403, 0.30053317341704033, 0.2831654500481847, 0.206790956872613, 0.09024871656159754, 0.029351183266823018, 0.01338783218752498, 0.004663917369985405, 0.0021562525417274333], [0.0, 0.012249339984929022, 0.1298578832789819, 0.22342610956093995, 0.2786269979406294, 0.18794796784669549, 0.08888937728121885, 0.05004186970937928, 0.02075903339383315, 0.008201420978699912], [0.0, 0.002541916080450709, 0.04351795391070859, 0.12316281489480811, 0.23543988705094546, 0.23261206264459547, 0.15958409221987477, 0.11727106338350805, 0.0608171766268345, 0.025053033606107035], [0.0, 0.0006482474199449095, 0.01412175711744235, 0.056290004453785215, 0.15368565429177888, 0.20720780056072546, 0.19576200425305285, 0.18749747065219127, 0.12368453991172142, 0.06110252099102799], [0.0, 0.0004974772779022822, 0.005245625108496898, 0.026929279425888346, 0.08858503479300622, 0.15573815202186445, 0.1894206054804774, 0.22945420270043285, 0.19267694394257512, 0.11145267876331957], [0.0, 0.00025512467077012734, 0.0022840974670212165, 0.012597906396594463, 0.04687799370024128, 0.10347157131846421, 0.15862902888428146, 0.24321728701033937, 0.25893779546154116, 0.17372919547565338], [0.0, 3.13300737123851e-05, 0.0011549957989434457, 0.00696809373347902, 0.02489929172307509, 0.06462437923601219, 0.11800012077176728, 0.2277908621285111, 0.30842720230586995, 0.24810372372061576]], \"colorscale\": \"Jet\", \"type\": \"heatmap\"}], {\"titlefont\": {\"color\": \"#FFF\"}, \"plot_bgcolor\": \"#000\", \"width\": 500, \"title\": \"Confidence after 50000 Iterations at Glimpse 3\", \"paper_bgcolor\": \"#000\", \"font\": {\"color\": \"#FFF\"}, \"xaxis\": {\"title\": \"Predicted Class\", \"tickcolor\": \"#FFF\", \"range\": [0.5, 9.5], \"dtick\": 1}, \"height\": 500, \"yaxis\": {\"title\": \"True Class\", \"tickcolor\": \"#FFF\", \"range\": [9.5, 0.5], \"dtick\": 1}}, {\"showLink\": true, \"linkText\": \"Export to plot.ly\"})});</script>"
      ]
     },
     "metadata": {},
     "output_type": "display_data"
    },
    {
     "data": {
      "application/vnd.plotly.v1+json": {
       "data": [
        {
         "colorscale": "Jet",
         "type": "heatmap",
         "z": [
          [
           0,
           0,
           0,
           0,
           0,
           0,
           0,
           0,
           0,
           0
          ],
          [
           0,
           0.9399,
           0.0598,
           0.0002,
           0,
           0.0001,
           0,
           0,
           0,
           0
          ],
          [
           0,
           0.3406,
           0.4807,
           0.1349,
           0.0401,
           0.0029000000000000002,
           0.0001,
           0.00030000000000000003,
           0.00030000000000000003,
           0.0001
          ],
          [
           0,
           0.0605,
           0.35439999999999994,
           0.28290000000000004,
           0.2403,
           0.0501,
           0.0078,
           0.003,
           0.0008,
           0.0002
          ],
          [
           0,
           0.0091,
           0.11669999999999998,
           0.22190000000000004,
           0.39360000000000006,
           0.1746,
           0.0497,
           0.0264,
           0.0064,
           0.0016
          ],
          [
           0,
           0.002,
           0.0239,
           0.1049,
           0.31239999999999996,
           0.2694,
           0.1465,
           0.0994,
           0.034100000000000005,
           0.007400000000000001
          ],
          [
           0,
           0.00030000000000000003,
           0.0059,
           0.034300000000000004,
           0.1743,
           0.23770000000000002,
           0.20309999999999997,
           0.2064,
           0.10440000000000002,
           0.033600000000000005
          ],
          [
           0,
           0.0004,
           0.0010999999999999998,
           0.0132,
           0.08109999999999999,
           0.161,
           0.1977,
           0.26289999999999997,
           0.19329999999999997,
           0.0893
          ],
          [
           0,
           0.0002,
           0.0008,
           0.004200000000000001,
           0.032600000000000004,
           0.08959999999999999,
           0.15099999999999997,
           0.2556,
           0.29979999999999996,
           0.16620000000000001
          ],
          [
           0,
           0,
           0.0001,
           0.0018000000000000002,
           0.0132,
           0.049899999999999986,
           0.0865,
           0.20779999999999998,
           0.36649999999999994,
           0.27419999999999994
          ]
         ]
        }
       ],
       "layout": {
        "font": {
         "color": "#FFF"
        },
        "height": 500,
        "paper_bgcolor": "#000",
        "plot_bgcolor": "#000",
        "title": "Choice after 50000 Iterations at Glimpse 3",
        "titlefont": {
         "color": "#FFF"
        },
        "width": 500,
        "xaxis": {
         "dtick": 1,
         "range": [
          0.5,
          9.5
         ],
         "tickcolor": "#FFF",
         "title": "Predicted Class"
        },
        "yaxis": {
         "dtick": 1,
         "range": [
          9.5,
          0.5
         ],
         "tickcolor": "#FFF",
         "title": "True Class"
        }
       }
      },
      "text/html": [
       "<div id=\"6de1e5c7-1ccf-4eb2-95ac-124a1b38f0bd\" style=\"height: 500px; width: 500px;\" class=\"plotly-graph-div\"></div><script type=\"text/javascript\">require([\"plotly\"], function(Plotly) { window.PLOTLYENV=window.PLOTLYENV || {};window.PLOTLYENV.BASE_URL=\"https://plot.ly\";Plotly.newPlot(\"6de1e5c7-1ccf-4eb2-95ac-124a1b38f0bd\", [{\"z\": [[0.0, 0.0, 0.0, 0.0, 0.0, 0.0, 0.0, 0.0, 0.0, 0.0], [0.0, 0.9399, 0.0598, 0.0002, 0.0, 0.0001, 0.0, 0.0, 0.0, 0.0], [0.0, 0.3406, 0.4807, 0.1349, 0.0401, 0.0029000000000000002, 0.0001, 0.00030000000000000003, 0.00030000000000000003, 0.0001], [0.0, 0.0605, 0.35439999999999994, 0.28290000000000004, 0.2403, 0.0501, 0.0078, 0.003, 0.0008, 0.0002], [0.0, 0.0091, 0.11669999999999998, 0.22190000000000004, 0.39360000000000006, 0.1746, 0.0497, 0.0264, 0.0064, 0.0016], [0.0, 0.002, 0.0239, 0.1049, 0.31239999999999996, 0.2694, 0.1465, 0.0994, 0.034100000000000005, 0.007400000000000001], [0.0, 0.00030000000000000003, 0.0059, 0.034300000000000004, 0.1743, 0.23770000000000002, 0.20309999999999997, 0.2064, 0.10440000000000002, 0.033600000000000005], [0.0, 0.0004, 0.0010999999999999998, 0.0132, 0.08109999999999999, 0.161, 0.1977, 0.26289999999999997, 0.19329999999999997, 0.0893], [0.0, 0.0002, 0.0008, 0.004200000000000001, 0.032600000000000004, 0.08959999999999999, 0.15099999999999997, 0.2556, 0.29979999999999996, 0.16620000000000001], [0.0, 0.0, 0.0001, 0.0018000000000000002, 0.0132, 0.049899999999999986, 0.0865, 0.20779999999999998, 0.36649999999999994, 0.27419999999999994]], \"colorscale\": \"Jet\", \"type\": \"heatmap\"}], {\"titlefont\": {\"color\": \"#FFF\"}, \"plot_bgcolor\": \"#000\", \"width\": 500, \"title\": \"Choice after 50000 Iterations at Glimpse 3\", \"paper_bgcolor\": \"#000\", \"font\": {\"color\": \"#FFF\"}, \"xaxis\": {\"title\": \"Predicted Class\", \"tickcolor\": \"#FFF\", \"range\": [0.5, 9.5], \"dtick\": 1}, \"height\": 500, \"yaxis\": {\"title\": \"True Class\", \"tickcolor\": \"#FFF\", \"range\": [9.5, 0.5], \"dtick\": 1}}, {\"showLink\": true, \"linkText\": \"Export to plot.ly\"})});</script>"
      ],
      "text/vnd.plotly.v1+html": [
       "<div id=\"6de1e5c7-1ccf-4eb2-95ac-124a1b38f0bd\" style=\"height: 500px; width: 500px;\" class=\"plotly-graph-div\"></div><script type=\"text/javascript\">require([\"plotly\"], function(Plotly) { window.PLOTLYENV=window.PLOTLYENV || {};window.PLOTLYENV.BASE_URL=\"https://plot.ly\";Plotly.newPlot(\"6de1e5c7-1ccf-4eb2-95ac-124a1b38f0bd\", [{\"z\": [[0.0, 0.0, 0.0, 0.0, 0.0, 0.0, 0.0, 0.0, 0.0, 0.0], [0.0, 0.9399, 0.0598, 0.0002, 0.0, 0.0001, 0.0, 0.0, 0.0, 0.0], [0.0, 0.3406, 0.4807, 0.1349, 0.0401, 0.0029000000000000002, 0.0001, 0.00030000000000000003, 0.00030000000000000003, 0.0001], [0.0, 0.0605, 0.35439999999999994, 0.28290000000000004, 0.2403, 0.0501, 0.0078, 0.003, 0.0008, 0.0002], [0.0, 0.0091, 0.11669999999999998, 0.22190000000000004, 0.39360000000000006, 0.1746, 0.0497, 0.0264, 0.0064, 0.0016], [0.0, 0.002, 0.0239, 0.1049, 0.31239999999999996, 0.2694, 0.1465, 0.0994, 0.034100000000000005, 0.007400000000000001], [0.0, 0.00030000000000000003, 0.0059, 0.034300000000000004, 0.1743, 0.23770000000000002, 0.20309999999999997, 0.2064, 0.10440000000000002, 0.033600000000000005], [0.0, 0.0004, 0.0010999999999999998, 0.0132, 0.08109999999999999, 0.161, 0.1977, 0.26289999999999997, 0.19329999999999997, 0.0893], [0.0, 0.0002, 0.0008, 0.004200000000000001, 0.032600000000000004, 0.08959999999999999, 0.15099999999999997, 0.2556, 0.29979999999999996, 0.16620000000000001], [0.0, 0.0, 0.0001, 0.0018000000000000002, 0.0132, 0.049899999999999986, 0.0865, 0.20779999999999998, 0.36649999999999994, 0.27419999999999994]], \"colorscale\": \"Jet\", \"type\": \"heatmap\"}], {\"titlefont\": {\"color\": \"#FFF\"}, \"plot_bgcolor\": \"#000\", \"width\": 500, \"title\": \"Choice after 50000 Iterations at Glimpse 3\", \"paper_bgcolor\": \"#000\", \"font\": {\"color\": \"#FFF\"}, \"xaxis\": {\"title\": \"Predicted Class\", \"tickcolor\": \"#FFF\", \"range\": [0.5, 9.5], \"dtick\": 1}, \"height\": 500, \"yaxis\": {\"title\": \"True Class\", \"tickcolor\": \"#FFF\", \"range\": [9.5, 0.5], \"dtick\": 1}}, {\"showLink\": true, \"linkText\": \"Export to plot.ly\"})});</script>"
      ]
     },
     "metadata": {},
     "output_type": "display_data"
    },
    {
     "data": {
      "application/vnd.plotly.v1+json": {
       "data": [
        {
         "colorscale": "Jet",
         "type": "heatmap",
         "z": [
          [
           0,
           0,
           0,
           0,
           0,
           0,
           0,
           0,
           0,
           0
          ],
          [
           0,
           0.8131513481711037,
           0.16194297250946982,
           0.02121659667517779,
           0.0030241510999025056,
           0.0005340687071853027,
           9.413367008261003e-05,
           2.4766583310872582e-05,
           9.120229073358751e-06,
           2.844447347223581e-06
          ],
          [
           0,
           0.33430571949040755,
           0.38119091600575483,
           0.18353952448246852,
           0.0726058477568497,
           0.02104356314685939,
           0.00448577638212023,
           0.0018599643798410041,
           0.0006874216822591032,
           0.0002812682454243515
          ],
          [
           0,
           0.08628282402386457,
           0.293859722592415,
           0.2803618397860089,
           0.1999590887332317,
           0.09103787512715404,
           0.028576467582224856,
           0.012933329088824937,
           0.004968596142532769,
           0.0020202583168729446
          ],
          [
           0,
           0.016638711655288622,
           0.13611449619712374,
           0.22932666063617213,
           0.2713109693352977,
           0.18545042039155268,
           0.08518134755030743,
           0.047010018756040314,
           0.021070161722824644,
           0.007897215700573942
          ],
          [
           0,
           0.003255793959667739,
           0.04907606013583694,
           0.13262187343013968,
           0.23768312746923206,
           0.23430072413271846,
           0.14999544056267514,
           0.10865164075937479,
           0.060066834259949596,
           0.024348506092441543
          ],
          [
           0,
           0.0009007720966242068,
           0.016128869345143765,
           0.06503458122874994,
           0.1633795838415446,
           0.21795597557704313,
           0.1841655188829114,
           0.17497496303634724,
           0.12007022763501654,
           0.05738950833657129
          ],
          [
           0,
           0.0004237995585392223,
           0.006262294630471174,
           0.03178403982181568,
           0.09962697094398283,
           0.17015341801630277,
           0.1802153371737804,
           0.21830017365207316,
           0.18710409570723496,
           0.1061298707929667
          ],
          [
           0,
           0.00024492435487138726,
           0.002578844691601732,
           0.015759999221196194,
           0.05575886110005227,
           0.11657950413871412,
           0.15323496289536706,
           0.23792291233988,
           0.2519903331926533,
           0.16592965845841304
          ],
          [
           0,
           5.65689483565958e-05,
           0.0013606051122998972,
           0.008525248481815701,
           0.03179507126715614,
           0.07658617768226084,
           0.11534674555160893,
           0.22991432559206149,
           0.30218804018025114,
           0.23422721714848302
          ]
         ]
        }
       ],
       "layout": {
        "font": {
         "color": "#FFF"
        },
        "height": 500,
        "paper_bgcolor": "#000",
        "plot_bgcolor": "#000",
        "title": "Confidence after 50000 Iterations at Glimpse 9",
        "titlefont": {
         "color": "#FFF"
        },
        "width": 500,
        "xaxis": {
         "dtick": 1,
         "range": [
          0.5,
          9.5
         ],
         "tickcolor": "#FFF",
         "title": "Predicted Class"
        },
        "yaxis": {
         "dtick": 1,
         "range": [
          9.5,
          0.5
         ],
         "tickcolor": "#FFF",
         "title": "True Class"
        }
       }
      },
      "text/html": [
       "<div id=\"fd3febd9-8616-4a62-83d9-25b2fbbf5bf0\" style=\"height: 500px; width: 500px;\" class=\"plotly-graph-div\"></div><script type=\"text/javascript\">require([\"plotly\"], function(Plotly) { window.PLOTLYENV=window.PLOTLYENV || {};window.PLOTLYENV.BASE_URL=\"https://plot.ly\";Plotly.newPlot(\"fd3febd9-8616-4a62-83d9-25b2fbbf5bf0\", [{\"z\": [[0.0, 0.0, 0.0, 0.0, 0.0, 0.0, 0.0, 0.0, 0.0, 0.0], [0.0, 0.8131513481711037, 0.16194297250946982, 0.02121659667517779, 0.0030241510999025056, 0.0005340687071853027, 9.413367008261003e-05, 2.4766583310872582e-05, 9.120229073358751e-06, 2.844447347223581e-06], [0.0, 0.33430571949040755, 0.38119091600575483, 0.18353952448246852, 0.0726058477568497, 0.02104356314685939, 0.00448577638212023, 0.0018599643798410041, 0.0006874216822591032, 0.0002812682454243515], [0.0, 0.08628282402386457, 0.293859722592415, 0.2803618397860089, 0.1999590887332317, 0.09103787512715404, 0.028576467582224856, 0.012933329088824937, 0.004968596142532769, 0.0020202583168729446], [0.0, 0.016638711655288622, 0.13611449619712374, 0.22932666063617213, 0.2713109693352977, 0.18545042039155268, 0.08518134755030743, 0.047010018756040314, 0.021070161722824644, 0.007897215700573942], [0.0, 0.003255793959667739, 0.04907606013583694, 0.13262187343013968, 0.23768312746923206, 0.23430072413271846, 0.14999544056267514, 0.10865164075937479, 0.060066834259949596, 0.024348506092441543], [0.0, 0.0009007720966242068, 0.016128869345143765, 0.06503458122874994, 0.1633795838415446, 0.21795597557704313, 0.1841655188829114, 0.17497496303634724, 0.12007022763501654, 0.05738950833657129], [0.0, 0.0004237995585392223, 0.006262294630471174, 0.03178403982181568, 0.09962697094398283, 0.17015341801630277, 0.1802153371737804, 0.21830017365207316, 0.18710409570723496, 0.1061298707929667], [0.0, 0.00024492435487138726, 0.002578844691601732, 0.015759999221196194, 0.05575886110005227, 0.11657950413871412, 0.15323496289536706, 0.23792291233988, 0.2519903331926533, 0.16592965845841304], [0.0, 5.65689483565958e-05, 0.0013606051122998972, 0.008525248481815701, 0.03179507126715614, 0.07658617768226084, 0.11534674555160893, 0.22991432559206149, 0.30218804018025114, 0.23422721714848302]], \"colorscale\": \"Jet\", \"type\": \"heatmap\"}], {\"titlefont\": {\"color\": \"#FFF\"}, \"plot_bgcolor\": \"#000\", \"width\": 500, \"title\": \"Confidence after 50000 Iterations at Glimpse 9\", \"paper_bgcolor\": \"#000\", \"font\": {\"color\": \"#FFF\"}, \"xaxis\": {\"title\": \"Predicted Class\", \"tickcolor\": \"#FFF\", \"range\": [0.5, 9.5], \"dtick\": 1}, \"height\": 500, \"yaxis\": {\"title\": \"True Class\", \"tickcolor\": \"#FFF\", \"range\": [9.5, 0.5], \"dtick\": 1}}, {\"showLink\": true, \"linkText\": \"Export to plot.ly\"})});</script>"
      ],
      "text/vnd.plotly.v1+html": [
       "<div id=\"fd3febd9-8616-4a62-83d9-25b2fbbf5bf0\" style=\"height: 500px; width: 500px;\" class=\"plotly-graph-div\"></div><script type=\"text/javascript\">require([\"plotly\"], function(Plotly) { window.PLOTLYENV=window.PLOTLYENV || {};window.PLOTLYENV.BASE_URL=\"https://plot.ly\";Plotly.newPlot(\"fd3febd9-8616-4a62-83d9-25b2fbbf5bf0\", [{\"z\": [[0.0, 0.0, 0.0, 0.0, 0.0, 0.0, 0.0, 0.0, 0.0, 0.0], [0.0, 0.8131513481711037, 0.16194297250946982, 0.02121659667517779, 0.0030241510999025056, 0.0005340687071853027, 9.413367008261003e-05, 2.4766583310872582e-05, 9.120229073358751e-06, 2.844447347223581e-06], [0.0, 0.33430571949040755, 0.38119091600575483, 0.18353952448246852, 0.0726058477568497, 0.02104356314685939, 0.00448577638212023, 0.0018599643798410041, 0.0006874216822591032, 0.0002812682454243515], [0.0, 0.08628282402386457, 0.293859722592415, 0.2803618397860089, 0.1999590887332317, 0.09103787512715404, 0.028576467582224856, 0.012933329088824937, 0.004968596142532769, 0.0020202583168729446], [0.0, 0.016638711655288622, 0.13611449619712374, 0.22932666063617213, 0.2713109693352977, 0.18545042039155268, 0.08518134755030743, 0.047010018756040314, 0.021070161722824644, 0.007897215700573942], [0.0, 0.003255793959667739, 0.04907606013583694, 0.13262187343013968, 0.23768312746923206, 0.23430072413271846, 0.14999544056267514, 0.10865164075937479, 0.060066834259949596, 0.024348506092441543], [0.0, 0.0009007720966242068, 0.016128869345143765, 0.06503458122874994, 0.1633795838415446, 0.21795597557704313, 0.1841655188829114, 0.17497496303634724, 0.12007022763501654, 0.05738950833657129], [0.0, 0.0004237995585392223, 0.006262294630471174, 0.03178403982181568, 0.09962697094398283, 0.17015341801630277, 0.1802153371737804, 0.21830017365207316, 0.18710409570723496, 0.1061298707929667], [0.0, 0.00024492435487138726, 0.002578844691601732, 0.015759999221196194, 0.05575886110005227, 0.11657950413871412, 0.15323496289536706, 0.23792291233988, 0.2519903331926533, 0.16592965845841304], [0.0, 5.65689483565958e-05, 0.0013606051122998972, 0.008525248481815701, 0.03179507126715614, 0.07658617768226084, 0.11534674555160893, 0.22991432559206149, 0.30218804018025114, 0.23422721714848302]], \"colorscale\": \"Jet\", \"type\": \"heatmap\"}], {\"titlefont\": {\"color\": \"#FFF\"}, \"plot_bgcolor\": \"#000\", \"width\": 500, \"title\": \"Confidence after 50000 Iterations at Glimpse 9\", \"paper_bgcolor\": \"#000\", \"font\": {\"color\": \"#FFF\"}, \"xaxis\": {\"title\": \"Predicted Class\", \"tickcolor\": \"#FFF\", \"range\": [0.5, 9.5], \"dtick\": 1}, \"height\": 500, \"yaxis\": {\"title\": \"True Class\", \"tickcolor\": \"#FFF\", \"range\": [9.5, 0.5], \"dtick\": 1}}, {\"showLink\": true, \"linkText\": \"Export to plot.ly\"})});</script>"
      ]
     },
     "metadata": {},
     "output_type": "display_data"
    },
    {
     "data": {
      "application/vnd.plotly.v1+json": {
       "data": [
        {
         "colorscale": "Jet",
         "type": "heatmap",
         "z": [
          [
           0,
           0,
           0,
           0,
           0,
           0,
           0,
           0,
           0,
           0
          ],
          [
           0,
           0.9469,
           0.0528,
           0.00030000000000000003,
           0,
           0,
           0,
           0,
           0,
           0
          ],
          [
           0,
           0.37479999999999997,
           0.45009999999999994,
           0.1363,
           0.0364,
           0.0023,
           0,
           0.0001,
           0,
           0
          ],
          [
           0,
           0.075,
           0.3545,
           0.2792,
           0.24020000000000002,
           0.043300000000000005,
           0.0043,
           0.0030000000000000005,
           0.0005,
           0
          ],
          [
           0,
           0.0117,
           0.1243,
           0.2226,
           0.4149,
           0.16149999999999998,
           0.038,
           0.020999999999999998,
           0.0055,
           0.0005
          ],
          [
           0,
           0.0019,
           0.027299999999999998,
           0.1045,
           0.34469999999999995,
           0.2762,
           0.11969999999999999,
           0.091,
           0.030100000000000005,
           0.0046
          ],
          [
           0,
           0.0006000000000000001,
           0.004,
           0.0357,
           0.19880000000000003,
           0.2552,
           0.1786,
           0.20569999999999994,
           0.0941,
           0.0273
          ],
          [
           0,
           0.00030000000000000003,
           0.0012000000000000001,
           0.0137,
           0.09129999999999999,
           0.1829,
           0.174,
           0.2692,
           0.18620000000000003,
           0.08120000000000001
          ],
          [
           0,
           0.0002,
           0.0004,
           0.0064,
           0.037000000000000005,
           0.0974,
           0.1309,
           0.2757,
           0.2924,
           0.1596
          ],
          [
           0,
           0,
           0.00030000000000000003,
           0.0027,
           0.016900000000000005,
           0.0546,
           0.0714,
           0.22719999999999999,
           0.36549999999999994,
           0.26139999999999997
          ]
         ]
        }
       ],
       "layout": {
        "font": {
         "color": "#FFF"
        },
        "height": 500,
        "paper_bgcolor": "#000",
        "plot_bgcolor": "#000",
        "title": "Choice after 50000 Iterations at Glimpse 9",
        "titlefont": {
         "color": "#FFF"
        },
        "width": 500,
        "xaxis": {
         "dtick": 1,
         "range": [
          0.5,
          9.5
         ],
         "tickcolor": "#FFF",
         "title": "Predicted Class"
        },
        "yaxis": {
         "dtick": 1,
         "range": [
          9.5,
          0.5
         ],
         "tickcolor": "#FFF",
         "title": "True Class"
        }
       }
      },
      "text/html": [
       "<div id=\"23461e0b-d135-4a78-8c60-8d63a2cc383e\" style=\"height: 500px; width: 500px;\" class=\"plotly-graph-div\"></div><script type=\"text/javascript\">require([\"plotly\"], function(Plotly) { window.PLOTLYENV=window.PLOTLYENV || {};window.PLOTLYENV.BASE_URL=\"https://plot.ly\";Plotly.newPlot(\"23461e0b-d135-4a78-8c60-8d63a2cc383e\", [{\"z\": [[0.0, 0.0, 0.0, 0.0, 0.0, 0.0, 0.0, 0.0, 0.0, 0.0], [0.0, 0.9469, 0.0528, 0.00030000000000000003, 0.0, 0.0, 0.0, 0.0, 0.0, 0.0], [0.0, 0.37479999999999997, 0.45009999999999994, 0.1363, 0.0364, 0.0023, 0.0, 0.0001, 0.0, 0.0], [0.0, 0.075, 0.3545, 0.2792, 0.24020000000000002, 0.043300000000000005, 0.0043, 0.0030000000000000005, 0.0005, 0.0], [0.0, 0.0117, 0.1243, 0.2226, 0.4149, 0.16149999999999998, 0.038, 0.020999999999999998, 0.0055, 0.0005], [0.0, 0.0019, 0.027299999999999998, 0.1045, 0.34469999999999995, 0.2762, 0.11969999999999999, 0.091, 0.030100000000000005, 0.0046], [0.0, 0.0006000000000000001, 0.004, 0.0357, 0.19880000000000003, 0.2552, 0.1786, 0.20569999999999994, 0.0941, 0.0273], [0.0, 0.00030000000000000003, 0.0012000000000000001, 0.0137, 0.09129999999999999, 0.1829, 0.174, 0.2692, 0.18620000000000003, 0.08120000000000001], [0.0, 0.0002, 0.0004, 0.0064, 0.037000000000000005, 0.0974, 0.1309, 0.2757, 0.2924, 0.1596], [0.0, 0.0, 0.00030000000000000003, 0.0027, 0.016900000000000005, 0.0546, 0.0714, 0.22719999999999999, 0.36549999999999994, 0.26139999999999997]], \"colorscale\": \"Jet\", \"type\": \"heatmap\"}], {\"titlefont\": {\"color\": \"#FFF\"}, \"plot_bgcolor\": \"#000\", \"width\": 500, \"title\": \"Choice after 50000 Iterations at Glimpse 9\", \"paper_bgcolor\": \"#000\", \"font\": {\"color\": \"#FFF\"}, \"xaxis\": {\"title\": \"Predicted Class\", \"tickcolor\": \"#FFF\", \"range\": [0.5, 9.5], \"dtick\": 1}, \"height\": 500, \"yaxis\": {\"title\": \"True Class\", \"tickcolor\": \"#FFF\", \"range\": [9.5, 0.5], \"dtick\": 1}}, {\"showLink\": true, \"linkText\": \"Export to plot.ly\"})});</script>"
      ],
      "text/vnd.plotly.v1+html": [
       "<div id=\"23461e0b-d135-4a78-8c60-8d63a2cc383e\" style=\"height: 500px; width: 500px;\" class=\"plotly-graph-div\"></div><script type=\"text/javascript\">require([\"plotly\"], function(Plotly) { window.PLOTLYENV=window.PLOTLYENV || {};window.PLOTLYENV.BASE_URL=\"https://plot.ly\";Plotly.newPlot(\"23461e0b-d135-4a78-8c60-8d63a2cc383e\", [{\"z\": [[0.0, 0.0, 0.0, 0.0, 0.0, 0.0, 0.0, 0.0, 0.0, 0.0], [0.0, 0.9469, 0.0528, 0.00030000000000000003, 0.0, 0.0, 0.0, 0.0, 0.0, 0.0], [0.0, 0.37479999999999997, 0.45009999999999994, 0.1363, 0.0364, 0.0023, 0.0, 0.0001, 0.0, 0.0], [0.0, 0.075, 0.3545, 0.2792, 0.24020000000000002, 0.043300000000000005, 0.0043, 0.0030000000000000005, 0.0005, 0.0], [0.0, 0.0117, 0.1243, 0.2226, 0.4149, 0.16149999999999998, 0.038, 0.020999999999999998, 0.0055, 0.0005], [0.0, 0.0019, 0.027299999999999998, 0.1045, 0.34469999999999995, 0.2762, 0.11969999999999999, 0.091, 0.030100000000000005, 0.0046], [0.0, 0.0006000000000000001, 0.004, 0.0357, 0.19880000000000003, 0.2552, 0.1786, 0.20569999999999994, 0.0941, 0.0273], [0.0, 0.00030000000000000003, 0.0012000000000000001, 0.0137, 0.09129999999999999, 0.1829, 0.174, 0.2692, 0.18620000000000003, 0.08120000000000001], [0.0, 0.0002, 0.0004, 0.0064, 0.037000000000000005, 0.0974, 0.1309, 0.2757, 0.2924, 0.1596], [0.0, 0.0, 0.00030000000000000003, 0.0027, 0.016900000000000005, 0.0546, 0.0714, 0.22719999999999999, 0.36549999999999994, 0.26139999999999997]], \"colorscale\": \"Jet\", \"type\": \"heatmap\"}], {\"titlefont\": {\"color\": \"#FFF\"}, \"plot_bgcolor\": \"#000\", \"width\": 500, \"title\": \"Choice after 50000 Iterations at Glimpse 9\", \"paper_bgcolor\": \"#000\", \"font\": {\"color\": \"#FFF\"}, \"xaxis\": {\"title\": \"Predicted Class\", \"tickcolor\": \"#FFF\", \"range\": [0.5, 9.5], \"dtick\": 1}, \"height\": 500, \"yaxis\": {\"title\": \"True Class\", \"tickcolor\": \"#FFF\", \"range\": [9.5, 0.5], \"dtick\": 1}}, {\"showLink\": true, \"linkText\": \"Export to plot.ly\"})});</script>"
      ]
     },
     "metadata": {},
     "output_type": "display_data"
    },
    {
     "data": {
      "application/vnd.plotly.v1+json": {
       "data": [
        {
         "colorscale": "Jet",
         "type": "heatmap",
         "z": [
          [
           0,
           0,
           0,
           0,
           0,
           0,
           0,
           0,
           0,
           0
          ],
          [
           0,
           0.885049130719807,
           0.10166536518956126,
           0.011479136981554654,
           0.0014142505764862764,
           0.0003179369554705318,
           5.4025607275349336e-05,
           1.6167028001429185e-05,
           2.3797629119075017e-06,
           1.6082137740542286e-06
          ],
          [
           0,
           0.21474292843058723,
           0.4944680857568513,
           0.21229208050016607,
           0.05998542824167556,
           0.014157237104285647,
           0.003450425978349747,
           0.0007104046913776571,
           0.00015204146919324112,
           4.1367723111432995e-05
          ],
          [
           0,
           0.02105591038266163,
           0.31729389168269406,
           0.3414932732055313,
           0.19699379066797848,
           0.07958920165206909,
           0.03060942924553458,
           0.009437553937205365,
           0.0028502211455482982,
           0.0006767292861819404
          ],
          [
           0,
           0.0011054005379255458,
           0.10902500162225504,
           0.2704363593254651,
           0.278114951169533,
           0.1746435032593112,
           0.10141153299024482,
           0.04339899654233314,
           0.01664400379326006,
           0.005220251018825093
          ],
          [
           0,
           0.00027130874047559165,
           0.02897693242340927,
           0.13937804764372208,
           0.23755812739921806,
           0.22078434885083992,
           0.1865824440805587,
           0.1100363551586219,
           0.055344165229590334,
           0.02106827037404949
          ],
          [
           0,
           9.133144118952694e-05,
           0.0066374659897661,
           0.05385279721518066,
           0.14331773774896597,
           0.19485181292055564,
           0.233716036480153,
           0.18436541143215435,
           0.12236125840286276,
           0.06080614906873198
          ],
          [
           0,
           0.00010325520674059594,
           0.0014618156359493177,
           0.017750751677287867,
           0.0713898336306,
           0.13409992215510164,
           0.22016007588814684,
           0.23077742393031295,
           0.19850021938064363,
           0.12575670252404972
          ],
          [
           0,
           5.265328465337294e-09,
           0.00045269514197517747,
           0.0060484362686322336,
           0.031954355689757775,
           0.0800454652092118,
           0.17540277912208238,
           0.2367348732329483,
           0.2620298532991379,
           0.20733153770211574
          ],
          [
           0,
           6.260784093944698e-09,
           0.0001988484411035934,
           0.0020517237489141873,
           0.0130894343496805,
           0.044036538830704235,
           0.12319288658992064,
           0.21354328758248808,
           0.30507405687449357,
           0.29881321810223815
          ]
         ]
        }
       ],
       "layout": {
        "font": {
         "color": "#FFF"
        },
        "height": 500,
        "paper_bgcolor": "#000",
        "plot_bgcolor": "#000",
        "title": "Confidence after 100000 Iterations at Glimpse 0",
        "titlefont": {
         "color": "#FFF"
        },
        "width": 500,
        "xaxis": {
         "dtick": 1,
         "range": [
          0.5,
          9.5
         ],
         "tickcolor": "#FFF",
         "title": "Predicted Class"
        },
        "yaxis": {
         "dtick": 1,
         "range": [
          9.5,
          0.5
         ],
         "tickcolor": "#FFF",
         "title": "True Class"
        }
       }
      },
      "text/html": [
       "<div id=\"024dcc83-986a-4bba-bb53-28921efc303a\" style=\"height: 500px; width: 500px;\" class=\"plotly-graph-div\"></div><script type=\"text/javascript\">require([\"plotly\"], function(Plotly) { window.PLOTLYENV=window.PLOTLYENV || {};window.PLOTLYENV.BASE_URL=\"https://plot.ly\";Plotly.newPlot(\"024dcc83-986a-4bba-bb53-28921efc303a\", [{\"z\": [[0.0, 0.0, 0.0, 0.0, 0.0, 0.0, 0.0, 0.0, 0.0, 0.0], [0.0, 0.885049130719807, 0.10166536518956126, 0.011479136981554654, 0.0014142505764862764, 0.0003179369554705318, 5.4025607275349336e-05, 1.6167028001429185e-05, 2.3797629119075017e-06, 1.6082137740542286e-06], [0.0, 0.21474292843058723, 0.4944680857568513, 0.21229208050016607, 0.05998542824167556, 0.014157237104285647, 0.003450425978349747, 0.0007104046913776571, 0.00015204146919324112, 4.1367723111432995e-05], [0.0, 0.02105591038266163, 0.31729389168269406, 0.3414932732055313, 0.19699379066797848, 0.07958920165206909, 0.03060942924553458, 0.009437553937205365, 0.0028502211455482982, 0.0006767292861819404], [0.0, 0.0011054005379255458, 0.10902500162225504, 0.2704363593254651, 0.278114951169533, 0.1746435032593112, 0.10141153299024482, 0.04339899654233314, 0.01664400379326006, 0.005220251018825093], [0.0, 0.00027130874047559165, 0.02897693242340927, 0.13937804764372208, 0.23755812739921806, 0.22078434885083992, 0.1865824440805587, 0.1100363551586219, 0.055344165229590334, 0.02106827037404949], [0.0, 9.133144118952694e-05, 0.0066374659897661, 0.05385279721518066, 0.14331773774896597, 0.19485181292055564, 0.233716036480153, 0.18436541143215435, 0.12236125840286276, 0.06080614906873198], [0.0, 0.00010325520674059594, 0.0014618156359493177, 0.017750751677287867, 0.0713898336306, 0.13409992215510164, 0.22016007588814684, 0.23077742393031295, 0.19850021938064363, 0.12575670252404972], [0.0, 5.265328465337294e-09, 0.00045269514197517747, 0.0060484362686322336, 0.031954355689757775, 0.0800454652092118, 0.17540277912208238, 0.2367348732329483, 0.2620298532991379, 0.20733153770211574], [0.0, 6.260784093944698e-09, 0.0001988484411035934, 0.0020517237489141873, 0.0130894343496805, 0.044036538830704235, 0.12319288658992064, 0.21354328758248808, 0.30507405687449357, 0.29881321810223815]], \"colorscale\": \"Jet\", \"type\": \"heatmap\"}], {\"titlefont\": {\"color\": \"#FFF\"}, \"plot_bgcolor\": \"#000\", \"width\": 500, \"title\": \"Confidence after 100000 Iterations at Glimpse 0\", \"paper_bgcolor\": \"#000\", \"font\": {\"color\": \"#FFF\"}, \"xaxis\": {\"title\": \"Predicted Class\", \"tickcolor\": \"#FFF\", \"range\": [0.5, 9.5], \"dtick\": 1}, \"height\": 500, \"yaxis\": {\"title\": \"True Class\", \"tickcolor\": \"#FFF\", \"range\": [9.5, 0.5], \"dtick\": 1}}, {\"showLink\": true, \"linkText\": \"Export to plot.ly\"})});</script>"
      ],
      "text/vnd.plotly.v1+html": [
       "<div id=\"024dcc83-986a-4bba-bb53-28921efc303a\" style=\"height: 500px; width: 500px;\" class=\"plotly-graph-div\"></div><script type=\"text/javascript\">require([\"plotly\"], function(Plotly) { window.PLOTLYENV=window.PLOTLYENV || {};window.PLOTLYENV.BASE_URL=\"https://plot.ly\";Plotly.newPlot(\"024dcc83-986a-4bba-bb53-28921efc303a\", [{\"z\": [[0.0, 0.0, 0.0, 0.0, 0.0, 0.0, 0.0, 0.0, 0.0, 0.0], [0.0, 0.885049130719807, 0.10166536518956126, 0.011479136981554654, 0.0014142505764862764, 0.0003179369554705318, 5.4025607275349336e-05, 1.6167028001429185e-05, 2.3797629119075017e-06, 1.6082137740542286e-06], [0.0, 0.21474292843058723, 0.4944680857568513, 0.21229208050016607, 0.05998542824167556, 0.014157237104285647, 0.003450425978349747, 0.0007104046913776571, 0.00015204146919324112, 4.1367723111432995e-05], [0.0, 0.02105591038266163, 0.31729389168269406, 0.3414932732055313, 0.19699379066797848, 0.07958920165206909, 0.03060942924553458, 0.009437553937205365, 0.0028502211455482982, 0.0006767292861819404], [0.0, 0.0011054005379255458, 0.10902500162225504, 0.2704363593254651, 0.278114951169533, 0.1746435032593112, 0.10141153299024482, 0.04339899654233314, 0.01664400379326006, 0.005220251018825093], [0.0, 0.00027130874047559165, 0.02897693242340927, 0.13937804764372208, 0.23755812739921806, 0.22078434885083992, 0.1865824440805587, 0.1100363551586219, 0.055344165229590334, 0.02106827037404949], [0.0, 9.133144118952694e-05, 0.0066374659897661, 0.05385279721518066, 0.14331773774896597, 0.19485181292055564, 0.233716036480153, 0.18436541143215435, 0.12236125840286276, 0.06080614906873198], [0.0, 0.00010325520674059594, 0.0014618156359493177, 0.017750751677287867, 0.0713898336306, 0.13409992215510164, 0.22016007588814684, 0.23077742393031295, 0.19850021938064363, 0.12575670252404972], [0.0, 5.265328465337294e-09, 0.00045269514197517747, 0.0060484362686322336, 0.031954355689757775, 0.0800454652092118, 0.17540277912208238, 0.2367348732329483, 0.2620298532991379, 0.20733153770211574], [0.0, 6.260784093944698e-09, 0.0001988484411035934, 0.0020517237489141873, 0.0130894343496805, 0.044036538830704235, 0.12319288658992064, 0.21354328758248808, 0.30507405687449357, 0.29881321810223815]], \"colorscale\": \"Jet\", \"type\": \"heatmap\"}], {\"titlefont\": {\"color\": \"#FFF\"}, \"plot_bgcolor\": \"#000\", \"width\": 500, \"title\": \"Confidence after 100000 Iterations at Glimpse 0\", \"paper_bgcolor\": \"#000\", \"font\": {\"color\": \"#FFF\"}, \"xaxis\": {\"title\": \"Predicted Class\", \"tickcolor\": \"#FFF\", \"range\": [0.5, 9.5], \"dtick\": 1}, \"height\": 500, \"yaxis\": {\"title\": \"True Class\", \"tickcolor\": \"#FFF\", \"range\": [9.5, 0.5], \"dtick\": 1}}, {\"showLink\": true, \"linkText\": \"Export to plot.ly\"})});</script>"
      ]
     },
     "metadata": {},
     "output_type": "display_data"
    },
    {
     "data": {
      "application/vnd.plotly.v1+json": {
       "data": [
        {
         "colorscale": "Jet",
         "type": "heatmap",
         "z": [
          [
           0,
           0,
           0,
           0,
           0,
           0,
           0,
           0,
           0,
           0
          ],
          [
           0,
           0.9807999999999998,
           0.019200000000000005,
           0,
           0,
           0,
           0,
           0,
           0,
           0
          ],
          [
           0,
           0.21630000000000002,
           0.6286000000000002,
           0.1454,
           0.0097,
           0,
           0,
           0,
           0,
           0
          ],
          [
           0,
           0.010600000000000002,
           0.3599,
           0.4276,
           0.1693,
           0.026000000000000002,
           0.0055000000000000005,
           0.001,
           0.0001,
           0
          ],
          [
           0,
           0.00030000000000000003,
           0.07730000000000001,
           0.33590000000000003,
           0.3604,
           0.13739999999999997,
           0.0708,
           0.015100000000000002,
           0.0023000000000000004,
           0.0005
          ],
          [
           0,
           0.0002,
           0.0111,
           0.12890000000000001,
           0.3255,
           0.21669999999999998,
           0.20859999999999998,
           0.0826,
           0.0216,
           0.0048000000000000004
          ],
          [
           0,
           0.0001,
           0.0013000000000000004,
           0.032200000000000006,
           0.1604,
           0.1948,
           0.3133,
           0.18240000000000003,
           0.08449999999999999,
           0.030999999999999993
          ],
          [
           0,
           0.0001,
           0.0002,
           0.0055,
           0.05669999999999999,
           0.10269999999999999,
           0.28769999999999996,
           0.2589,
           0.188,
           0.10019999999999998
          ],
          [
           0,
           0,
           0.0001,
           0.0020000000000000005,
           0.0177,
           0.04079999999999999,
           0.1889,
           0.25860000000000005,
           0.27619999999999995,
           0.2157
          ],
          [
           0,
           0,
           0.0001,
           0.0006000000000000001,
           0.005,
           0.0173,
           0.1002,
           0.1955,
           0.3254,
           0.3559
          ]
         ]
        }
       ],
       "layout": {
        "font": {
         "color": "#FFF"
        },
        "height": 500,
        "paper_bgcolor": "#000",
        "plot_bgcolor": "#000",
        "title": "Choice after 100000 Iterations at Glimpse 0",
        "titlefont": {
         "color": "#FFF"
        },
        "width": 500,
        "xaxis": {
         "dtick": 1,
         "range": [
          0.5,
          9.5
         ],
         "tickcolor": "#FFF",
         "title": "Predicted Class"
        },
        "yaxis": {
         "dtick": 1,
         "range": [
          9.5,
          0.5
         ],
         "tickcolor": "#FFF",
         "title": "True Class"
        }
       }
      },
      "text/html": [
       "<div id=\"1f45dde9-d4ab-48e7-b185-4f3e3c995833\" style=\"height: 500px; width: 500px;\" class=\"plotly-graph-div\"></div><script type=\"text/javascript\">require([\"plotly\"], function(Plotly) { window.PLOTLYENV=window.PLOTLYENV || {};window.PLOTLYENV.BASE_URL=\"https://plot.ly\";Plotly.newPlot(\"1f45dde9-d4ab-48e7-b185-4f3e3c995833\", [{\"z\": [[0.0, 0.0, 0.0, 0.0, 0.0, 0.0, 0.0, 0.0, 0.0, 0.0], [0.0, 0.9807999999999998, 0.019200000000000005, 0.0, 0.0, 0.0, 0.0, 0.0, 0.0, 0.0], [0.0, 0.21630000000000002, 0.6286000000000002, 0.1454, 0.0097, 0.0, 0.0, 0.0, 0.0, 0.0], [0.0, 0.010600000000000002, 0.3599, 0.4276, 0.1693, 0.026000000000000002, 0.0055000000000000005, 0.001, 0.0001, 0.0], [0.0, 0.00030000000000000003, 0.07730000000000001, 0.33590000000000003, 0.3604, 0.13739999999999997, 0.0708, 0.015100000000000002, 0.0023000000000000004, 0.0005], [0.0, 0.0002, 0.0111, 0.12890000000000001, 0.3255, 0.21669999999999998, 0.20859999999999998, 0.0826, 0.0216, 0.0048000000000000004], [0.0, 0.0001, 0.0013000000000000004, 0.032200000000000006, 0.1604, 0.1948, 0.3133, 0.18240000000000003, 0.08449999999999999, 0.030999999999999993], [0.0, 0.0001, 0.0002, 0.0055, 0.05669999999999999, 0.10269999999999999, 0.28769999999999996, 0.2589, 0.188, 0.10019999999999998], [0.0, 0.0, 0.0001, 0.0020000000000000005, 0.0177, 0.04079999999999999, 0.1889, 0.25860000000000005, 0.27619999999999995, 0.2157], [0.0, 0.0, 0.0001, 0.0006000000000000001, 0.005, 0.0173, 0.1002, 0.1955, 0.3254, 0.3559]], \"colorscale\": \"Jet\", \"type\": \"heatmap\"}], {\"titlefont\": {\"color\": \"#FFF\"}, \"plot_bgcolor\": \"#000\", \"width\": 500, \"title\": \"Choice after 100000 Iterations at Glimpse 0\", \"paper_bgcolor\": \"#000\", \"font\": {\"color\": \"#FFF\"}, \"xaxis\": {\"title\": \"Predicted Class\", \"tickcolor\": \"#FFF\", \"range\": [0.5, 9.5], \"dtick\": 1}, \"height\": 500, \"yaxis\": {\"title\": \"True Class\", \"tickcolor\": \"#FFF\", \"range\": [9.5, 0.5], \"dtick\": 1}}, {\"showLink\": true, \"linkText\": \"Export to plot.ly\"})});</script>"
      ],
      "text/vnd.plotly.v1+html": [
       "<div id=\"1f45dde9-d4ab-48e7-b185-4f3e3c995833\" style=\"height: 500px; width: 500px;\" class=\"plotly-graph-div\"></div><script type=\"text/javascript\">require([\"plotly\"], function(Plotly) { window.PLOTLYENV=window.PLOTLYENV || {};window.PLOTLYENV.BASE_URL=\"https://plot.ly\";Plotly.newPlot(\"1f45dde9-d4ab-48e7-b185-4f3e3c995833\", [{\"z\": [[0.0, 0.0, 0.0, 0.0, 0.0, 0.0, 0.0, 0.0, 0.0, 0.0], [0.0, 0.9807999999999998, 0.019200000000000005, 0.0, 0.0, 0.0, 0.0, 0.0, 0.0, 0.0], [0.0, 0.21630000000000002, 0.6286000000000002, 0.1454, 0.0097, 0.0, 0.0, 0.0, 0.0, 0.0], [0.0, 0.010600000000000002, 0.3599, 0.4276, 0.1693, 0.026000000000000002, 0.0055000000000000005, 0.001, 0.0001, 0.0], [0.0, 0.00030000000000000003, 0.07730000000000001, 0.33590000000000003, 0.3604, 0.13739999999999997, 0.0708, 0.015100000000000002, 0.0023000000000000004, 0.0005], [0.0, 0.0002, 0.0111, 0.12890000000000001, 0.3255, 0.21669999999999998, 0.20859999999999998, 0.0826, 0.0216, 0.0048000000000000004], [0.0, 0.0001, 0.0013000000000000004, 0.032200000000000006, 0.1604, 0.1948, 0.3133, 0.18240000000000003, 0.08449999999999999, 0.030999999999999993], [0.0, 0.0001, 0.0002, 0.0055, 0.05669999999999999, 0.10269999999999999, 0.28769999999999996, 0.2589, 0.188, 0.10019999999999998], [0.0, 0.0, 0.0001, 0.0020000000000000005, 0.0177, 0.04079999999999999, 0.1889, 0.25860000000000005, 0.27619999999999995, 0.2157], [0.0, 0.0, 0.0001, 0.0006000000000000001, 0.005, 0.0173, 0.1002, 0.1955, 0.3254, 0.3559]], \"colorscale\": \"Jet\", \"type\": \"heatmap\"}], {\"titlefont\": {\"color\": \"#FFF\"}, \"plot_bgcolor\": \"#000\", \"width\": 500, \"title\": \"Choice after 100000 Iterations at Glimpse 0\", \"paper_bgcolor\": \"#000\", \"font\": {\"color\": \"#FFF\"}, \"xaxis\": {\"title\": \"Predicted Class\", \"tickcolor\": \"#FFF\", \"range\": [0.5, 9.5], \"dtick\": 1}, \"height\": 500, \"yaxis\": {\"title\": \"True Class\", \"tickcolor\": \"#FFF\", \"range\": [9.5, 0.5], \"dtick\": 1}}, {\"showLink\": true, \"linkText\": \"Export to plot.ly\"})});</script>"
      ]
     },
     "metadata": {},
     "output_type": "display_data"
    },
    {
     "data": {
      "application/vnd.plotly.v1+json": {
       "data": [
        {
         "colorscale": "Jet",
         "type": "heatmap",
         "z": [
          [
           0,
           0,
           0,
           0,
           0,
           0,
           0,
           0,
           0,
           0
          ],
          [
           0,
           0.9222573349907994,
           0.0730045230882195,
           0.004483682829955492,
           0.000237242328600073,
           1.6811871585263183e-05,
           3.3170392002049006e-07,
           7.23989864291721e-08,
           1.0164760554695705e-09,
           1.4900406444599731e-09
          ],
          [
           0,
           0.14904195241502072,
           0.5819987443466634,
           0.21399100806048693,
           0.04728401193619723,
           0.006635544583744138,
           0.0009461509496979711,
           9.604423075310842e-05,
           5.876596136842206e-06,
           6.694552363146853e-07
          ],
          [
           0,
           0.00850053534779567,
           0.3221567194695333,
           0.36790122126682945,
           0.20488101746453752,
           0.0690821355372302,
           0.02175375823099093,
           0.004890246703549809,
           0.0007391260502724101,
           9.52419220745433e-05
          ],
          [
           0,
           0.00017121492615962785,
           0.09491047422426564,
           0.2771194356765341,
           0.30338261950577433,
           0.17909103046717373,
           0.09852727911435974,
           0.03551658633080436,
           0.009446604222048103,
           0.0018347556647799104
          ],
          [
           0,
           6.097327569226458e-05,
           0.02024991579542397,
           0.12614098016721464,
           0.2522146418605522,
           0.23191549582804433,
           0.2006318315778969,
           0.11083910750772119,
           0.04565842865149235,
           0.012288625313840906
          ],
          [
           0,
           6.078977098669124e-07,
           0.00338268290141526,
           0.04197052441073924,
           0.13986093765173202,
           0.1928823645243647,
           0.25369937826516764,
           0.1994890831820654,
           0.12197270980384908,
           0.04674171176238381
          ],
          [
           0,
           5.696165978426914e-09,
           0.0005432153917023672,
           0.011512592387592268,
           0.06039341008369094,
           0.11927889126364064,
           0.23074383519967673,
           0.25377122091824716,
           0.21461410770820102,
           0.10914272180761202
          ],
          [
           0,
           2.10594828435289e-11,
           6.431887932563419e-05,
           0.002852883009874417,
           0.02248100768658513,
           0.061605804086049064,
           0.16970555254353856,
           0.2519197734005516,
           0.2912623842083092,
           0.20010827687437777
          ],
          [
           0,
           4.84965347401483e-16,
           5.163500805522254e-05,
           0.0007154101919079585,
           0.007539315677470626,
           0.02760384328727312,
           0.10468863035935687,
           0.2152851443878724,
           0.33955668326748506,
           0.30455933831002613
          ]
         ]
        }
       ],
       "layout": {
        "font": {
         "color": "#FFF"
        },
        "height": 500,
        "paper_bgcolor": "#000",
        "plot_bgcolor": "#000",
        "title": "Confidence after 100000 Iterations at Glimpse 3",
        "titlefont": {
         "color": "#FFF"
        },
        "width": 500,
        "xaxis": {
         "dtick": 1,
         "range": [
          0.5,
          9.5
         ],
         "tickcolor": "#FFF",
         "title": "Predicted Class"
        },
        "yaxis": {
         "dtick": 1,
         "range": [
          9.5,
          0.5
         ],
         "tickcolor": "#FFF",
         "title": "True Class"
        }
       }
      },
      "text/html": [
       "<div id=\"8cac24a9-07f9-4dc7-b860-a83539558351\" style=\"height: 500px; width: 500px;\" class=\"plotly-graph-div\"></div><script type=\"text/javascript\">require([\"plotly\"], function(Plotly) { window.PLOTLYENV=window.PLOTLYENV || {};window.PLOTLYENV.BASE_URL=\"https://plot.ly\";Plotly.newPlot(\"8cac24a9-07f9-4dc7-b860-a83539558351\", [{\"z\": [[0.0, 0.0, 0.0, 0.0, 0.0, 0.0, 0.0, 0.0, 0.0, 0.0], [0.0, 0.9222573349907994, 0.0730045230882195, 0.004483682829955492, 0.000237242328600073, 1.6811871585263183e-05, 3.3170392002049006e-07, 7.23989864291721e-08, 1.0164760554695705e-09, 1.4900406444599731e-09], [0.0, 0.14904195241502072, 0.5819987443466634, 0.21399100806048693, 0.04728401193619723, 0.006635544583744138, 0.0009461509496979711, 9.604423075310842e-05, 5.876596136842206e-06, 6.694552363146853e-07], [0.0, 0.00850053534779567, 0.3221567194695333, 0.36790122126682945, 0.20488101746453752, 0.0690821355372302, 0.02175375823099093, 0.004890246703549809, 0.0007391260502724101, 9.52419220745433e-05], [0.0, 0.00017121492615962785, 0.09491047422426564, 0.2771194356765341, 0.30338261950577433, 0.17909103046717373, 0.09852727911435974, 0.03551658633080436, 0.009446604222048103, 0.0018347556647799104], [0.0, 6.097327569226458e-05, 0.02024991579542397, 0.12614098016721464, 0.2522146418605522, 0.23191549582804433, 0.2006318315778969, 0.11083910750772119, 0.04565842865149235, 0.012288625313840906], [0.0, 6.078977098669124e-07, 0.00338268290141526, 0.04197052441073924, 0.13986093765173202, 0.1928823645243647, 0.25369937826516764, 0.1994890831820654, 0.12197270980384908, 0.04674171176238381], [0.0, 5.696165978426914e-09, 0.0005432153917023672, 0.011512592387592268, 0.06039341008369094, 0.11927889126364064, 0.23074383519967673, 0.25377122091824716, 0.21461410770820102, 0.10914272180761202], [0.0, 2.10594828435289e-11, 6.431887932563419e-05, 0.002852883009874417, 0.02248100768658513, 0.061605804086049064, 0.16970555254353856, 0.2519197734005516, 0.2912623842083092, 0.20010827687437777], [0.0, 4.84965347401483e-16, 5.163500805522254e-05, 0.0007154101919079585, 0.007539315677470626, 0.02760384328727312, 0.10468863035935687, 0.2152851443878724, 0.33955668326748506, 0.30455933831002613]], \"colorscale\": \"Jet\", \"type\": \"heatmap\"}], {\"titlefont\": {\"color\": \"#FFF\"}, \"plot_bgcolor\": \"#000\", \"width\": 500, \"title\": \"Confidence after 100000 Iterations at Glimpse 3\", \"paper_bgcolor\": \"#000\", \"font\": {\"color\": \"#FFF\"}, \"xaxis\": {\"title\": \"Predicted Class\", \"tickcolor\": \"#FFF\", \"range\": [0.5, 9.5], \"dtick\": 1}, \"height\": 500, \"yaxis\": {\"title\": \"True Class\", \"tickcolor\": \"#FFF\", \"range\": [9.5, 0.5], \"dtick\": 1}}, {\"showLink\": true, \"linkText\": \"Export to plot.ly\"})});</script>"
      ],
      "text/vnd.plotly.v1+html": [
       "<div id=\"8cac24a9-07f9-4dc7-b860-a83539558351\" style=\"height: 500px; width: 500px;\" class=\"plotly-graph-div\"></div><script type=\"text/javascript\">require([\"plotly\"], function(Plotly) { window.PLOTLYENV=window.PLOTLYENV || {};window.PLOTLYENV.BASE_URL=\"https://plot.ly\";Plotly.newPlot(\"8cac24a9-07f9-4dc7-b860-a83539558351\", [{\"z\": [[0.0, 0.0, 0.0, 0.0, 0.0, 0.0, 0.0, 0.0, 0.0, 0.0], [0.0, 0.9222573349907994, 0.0730045230882195, 0.004483682829955492, 0.000237242328600073, 1.6811871585263183e-05, 3.3170392002049006e-07, 7.23989864291721e-08, 1.0164760554695705e-09, 1.4900406444599731e-09], [0.0, 0.14904195241502072, 0.5819987443466634, 0.21399100806048693, 0.04728401193619723, 0.006635544583744138, 0.0009461509496979711, 9.604423075310842e-05, 5.876596136842206e-06, 6.694552363146853e-07], [0.0, 0.00850053534779567, 0.3221567194695333, 0.36790122126682945, 0.20488101746453752, 0.0690821355372302, 0.02175375823099093, 0.004890246703549809, 0.0007391260502724101, 9.52419220745433e-05], [0.0, 0.00017121492615962785, 0.09491047422426564, 0.2771194356765341, 0.30338261950577433, 0.17909103046717373, 0.09852727911435974, 0.03551658633080436, 0.009446604222048103, 0.0018347556647799104], [0.0, 6.097327569226458e-05, 0.02024991579542397, 0.12614098016721464, 0.2522146418605522, 0.23191549582804433, 0.2006318315778969, 0.11083910750772119, 0.04565842865149235, 0.012288625313840906], [0.0, 6.078977098669124e-07, 0.00338268290141526, 0.04197052441073924, 0.13986093765173202, 0.1928823645243647, 0.25369937826516764, 0.1994890831820654, 0.12197270980384908, 0.04674171176238381], [0.0, 5.696165978426914e-09, 0.0005432153917023672, 0.011512592387592268, 0.06039341008369094, 0.11927889126364064, 0.23074383519967673, 0.25377122091824716, 0.21461410770820102, 0.10914272180761202], [0.0, 2.10594828435289e-11, 6.431887932563419e-05, 0.002852883009874417, 0.02248100768658513, 0.061605804086049064, 0.16970555254353856, 0.2519197734005516, 0.2912623842083092, 0.20010827687437777], [0.0, 4.84965347401483e-16, 5.163500805522254e-05, 0.0007154101919079585, 0.007539315677470626, 0.02760384328727312, 0.10468863035935687, 0.2152851443878724, 0.33955668326748506, 0.30455933831002613]], \"colorscale\": \"Jet\", \"type\": \"heatmap\"}], {\"titlefont\": {\"color\": \"#FFF\"}, \"plot_bgcolor\": \"#000\", \"width\": 500, \"title\": \"Confidence after 100000 Iterations at Glimpse 3\", \"paper_bgcolor\": \"#000\", \"font\": {\"color\": \"#FFF\"}, \"xaxis\": {\"title\": \"Predicted Class\", \"tickcolor\": \"#FFF\", \"range\": [0.5, 9.5], \"dtick\": 1}, \"height\": 500, \"yaxis\": {\"title\": \"True Class\", \"tickcolor\": \"#FFF\", \"range\": [9.5, 0.5], \"dtick\": 1}}, {\"showLink\": true, \"linkText\": \"Export to plot.ly\"})});</script>"
      ]
     },
     "metadata": {},
     "output_type": "display_data"
    },
    {
     "data": {
      "application/vnd.plotly.v1+json": {
       "data": [
        {
         "colorscale": "Jet",
         "type": "heatmap",
         "z": [
          [
           0,
           0,
           0,
           0,
           0,
           0,
           0,
           0,
           0,
           0
          ],
          [
           0,
           0.9838000000000001,
           0.0162,
           0,
           0,
           0,
           0,
           0,
           0,
           0
          ],
          [
           0,
           0.1415,
           0.6947,
           0.1552,
           0.0086,
           0,
           0,
           0,
           0,
           0
          ],
          [
           0,
           0.004000000000000001,
           0.3399,
           0.44109999999999994,
           0.18040000000000006,
           0.030600000000000006,
           0.0037000000000000006,
           0.00030000000000000003,
           0,
           0
          ],
          [
           0,
           0,
           0.0683,
           0.31980000000000003,
           0.368,
           0.1553,
           0.0753,
           0.0125,
           0.0007,
           0.0001
          ],
          [
           0,
           0.0001,
           0.008,
           0.11200000000000002,
           0.32139999999999996,
           0.219,
           0.2326,
           0.08720000000000001,
           0.0178,
           0.0019000000000000002
          ],
          [
           0,
           0,
           0.0008,
           0.024,
           0.1476,
           0.1647,
           0.3443,
           0.20529999999999998,
           0.09290000000000001,
           0.0204
          ],
          [
           0,
           0,
           0.0001,
           0.004399999999999999,
           0.04530000000000001,
           0.07750000000000001,
           0.2921,
           0.28059999999999996,
           0.22139999999999999,
           0.07859999999999999
          ],
          [
           0,
           0,
           0,
           0.0006000000000000001,
           0.0116,
           0.0233,
           0.18319999999999997,
           0.25860000000000005,
           0.3245,
           0.1982
          ],
          [
           0,
           0,
           0.0001,
           0.0002,
           0.0021000000000000003,
           0.0063,
           0.07680000000000001,
           0.18860000000000002,
           0.3758,
           0.3501
          ]
         ]
        }
       ],
       "layout": {
        "font": {
         "color": "#FFF"
        },
        "height": 500,
        "paper_bgcolor": "#000",
        "plot_bgcolor": "#000",
        "title": "Choice after 100000 Iterations at Glimpse 3",
        "titlefont": {
         "color": "#FFF"
        },
        "width": 500,
        "xaxis": {
         "dtick": 1,
         "range": [
          0.5,
          9.5
         ],
         "tickcolor": "#FFF",
         "title": "Predicted Class"
        },
        "yaxis": {
         "dtick": 1,
         "range": [
          9.5,
          0.5
         ],
         "tickcolor": "#FFF",
         "title": "True Class"
        }
       }
      },
      "text/html": [
       "<div id=\"6912a14a-a45b-421c-9229-65622459f50f\" style=\"height: 500px; width: 500px;\" class=\"plotly-graph-div\"></div><script type=\"text/javascript\">require([\"plotly\"], function(Plotly) { window.PLOTLYENV=window.PLOTLYENV || {};window.PLOTLYENV.BASE_URL=\"https://plot.ly\";Plotly.newPlot(\"6912a14a-a45b-421c-9229-65622459f50f\", [{\"z\": [[0.0, 0.0, 0.0, 0.0, 0.0, 0.0, 0.0, 0.0, 0.0, 0.0], [0.0, 0.9838000000000001, 0.0162, 0.0, 0.0, 0.0, 0.0, 0.0, 0.0, 0.0], [0.0, 0.1415, 0.6947, 0.1552, 0.0086, 0.0, 0.0, 0.0, 0.0, 0.0], [0.0, 0.004000000000000001, 0.3399, 0.44109999999999994, 0.18040000000000006, 0.030600000000000006, 0.0037000000000000006, 0.00030000000000000003, 0.0, 0.0], [0.0, 0.0, 0.0683, 0.31980000000000003, 0.368, 0.1553, 0.0753, 0.0125, 0.0007, 0.0001], [0.0, 0.0001, 0.008, 0.11200000000000002, 0.32139999999999996, 0.219, 0.2326, 0.08720000000000001, 0.0178, 0.0019000000000000002], [0.0, 0.0, 0.0008, 0.024, 0.1476, 0.1647, 0.3443, 0.20529999999999998, 0.09290000000000001, 0.0204], [0.0, 0.0, 0.0001, 0.004399999999999999, 0.04530000000000001, 0.07750000000000001, 0.2921, 0.28059999999999996, 0.22139999999999999, 0.07859999999999999], [0.0, 0.0, 0.0, 0.0006000000000000001, 0.0116, 0.0233, 0.18319999999999997, 0.25860000000000005, 0.3245, 0.1982], [0.0, 0.0, 0.0001, 0.0002, 0.0021000000000000003, 0.0063, 0.07680000000000001, 0.18860000000000002, 0.3758, 0.3501]], \"colorscale\": \"Jet\", \"type\": \"heatmap\"}], {\"titlefont\": {\"color\": \"#FFF\"}, \"plot_bgcolor\": \"#000\", \"width\": 500, \"title\": \"Choice after 100000 Iterations at Glimpse 3\", \"paper_bgcolor\": \"#000\", \"font\": {\"color\": \"#FFF\"}, \"xaxis\": {\"title\": \"Predicted Class\", \"tickcolor\": \"#FFF\", \"range\": [0.5, 9.5], \"dtick\": 1}, \"height\": 500, \"yaxis\": {\"title\": \"True Class\", \"tickcolor\": \"#FFF\", \"range\": [9.5, 0.5], \"dtick\": 1}}, {\"showLink\": true, \"linkText\": \"Export to plot.ly\"})});</script>"
      ],
      "text/vnd.plotly.v1+html": [
       "<div id=\"6912a14a-a45b-421c-9229-65622459f50f\" style=\"height: 500px; width: 500px;\" class=\"plotly-graph-div\"></div><script type=\"text/javascript\">require([\"plotly\"], function(Plotly) { window.PLOTLYENV=window.PLOTLYENV || {};window.PLOTLYENV.BASE_URL=\"https://plot.ly\";Plotly.newPlot(\"6912a14a-a45b-421c-9229-65622459f50f\", [{\"z\": [[0.0, 0.0, 0.0, 0.0, 0.0, 0.0, 0.0, 0.0, 0.0, 0.0], [0.0, 0.9838000000000001, 0.0162, 0.0, 0.0, 0.0, 0.0, 0.0, 0.0, 0.0], [0.0, 0.1415, 0.6947, 0.1552, 0.0086, 0.0, 0.0, 0.0, 0.0, 0.0], [0.0, 0.004000000000000001, 0.3399, 0.44109999999999994, 0.18040000000000006, 0.030600000000000006, 0.0037000000000000006, 0.00030000000000000003, 0.0, 0.0], [0.0, 0.0, 0.0683, 0.31980000000000003, 0.368, 0.1553, 0.0753, 0.0125, 0.0007, 0.0001], [0.0, 0.0001, 0.008, 0.11200000000000002, 0.32139999999999996, 0.219, 0.2326, 0.08720000000000001, 0.0178, 0.0019000000000000002], [0.0, 0.0, 0.0008, 0.024, 0.1476, 0.1647, 0.3443, 0.20529999999999998, 0.09290000000000001, 0.0204], [0.0, 0.0, 0.0001, 0.004399999999999999, 0.04530000000000001, 0.07750000000000001, 0.2921, 0.28059999999999996, 0.22139999999999999, 0.07859999999999999], [0.0, 0.0, 0.0, 0.0006000000000000001, 0.0116, 0.0233, 0.18319999999999997, 0.25860000000000005, 0.3245, 0.1982], [0.0, 0.0, 0.0001, 0.0002, 0.0021000000000000003, 0.0063, 0.07680000000000001, 0.18860000000000002, 0.3758, 0.3501]], \"colorscale\": \"Jet\", \"type\": \"heatmap\"}], {\"titlefont\": {\"color\": \"#FFF\"}, \"plot_bgcolor\": \"#000\", \"width\": 500, \"title\": \"Choice after 100000 Iterations at Glimpse 3\", \"paper_bgcolor\": \"#000\", \"font\": {\"color\": \"#FFF\"}, \"xaxis\": {\"title\": \"Predicted Class\", \"tickcolor\": \"#FFF\", \"range\": [0.5, 9.5], \"dtick\": 1}, \"height\": 500, \"yaxis\": {\"title\": \"True Class\", \"tickcolor\": \"#FFF\", \"range\": [9.5, 0.5], \"dtick\": 1}}, {\"showLink\": true, \"linkText\": \"Export to plot.ly\"})});</script>"
      ]
     },
     "metadata": {},
     "output_type": "display_data"
    },
    {
     "data": {
      "application/vnd.plotly.v1+json": {
       "data": [
        {
         "colorscale": "Jet",
         "type": "heatmap",
         "z": [
          [
           0,
           0,
           0,
           0,
           0,
           0,
           0,
           0,
           0,
           0
          ],
          [
           0,
           0.9152054123165086,
           0.07943683120562708,
           0.0050423481804471315,
           0.00027200452013384805,
           4.16966020237135e-05,
           4.99503405968072e-07,
           1.2034803427404144e-06,
           6.077970241926277e-09,
           2.7317132434346597e-09
          ],
          [
           0,
           0.14248751242778984,
           0.5912353802104653,
           0.21033586683998343,
           0.04687221622700244,
           0.007929780811568015,
           0.0010162103912115827,
           0.00011212821399566014,
           9.170999074714045e-06,
           1.7362780407789452e-06
          ],
          [
           0,
           0.009108405414616171,
           0.32216786974139294,
           0.3643328603544971,
           0.20169147781758268,
           0.07387487237827739,
           0.02228657407150853,
           0.005437929415731656,
           0.0009462140250719897,
           0.00015379793842812802
          ],
          [
           0,
           0.000247617253858799,
           0.09893119985589674,
           0.2736209390445474,
           0.29670303996565633,
           0.18421699270000536,
           0.09645140402864318,
           0.037224808441352446,
           0.010329795396499166,
           0.0022742036412202534
          ],
          [
           0,
           5.147314475296004e-06,
           0.022806611731257764,
           0.12707145324795693,
           0.248728367245385,
           0.23441230316921136,
           0.19317542580545283,
           0.11330895744930217,
           0.0467574687122222,
           0.013734265265133
          ],
          [
           0,
           1.9438881547403214e-07,
           0.004421979911961046,
           0.044001358671282124,
           0.1421164927378845,
           0.19800688234740083,
           0.24114199110727058,
           0.20146368580057597,
           0.12048686900335141,
           0.04836054552399873
          ],
          [
           0,
           1.1043682067241469e-09,
           0.0007785165298937581,
           0.01284418284734409,
           0.06504890235717835,
           0.12730807151939588,
           0.22392143164916195,
           0.25402125363303496,
           0.20716658345944303,
           0.10891105678396058
          ],
          [
           0,
           4.3930571859137246e-11,
           0.00010421926539782057,
           0.0033434570699615433,
           0.026019187925021604,
           0.06883835479226127,
           0.16719450485715934,
           0.2566055423452286,
           0.28366314540054594,
           0.19423158902589271
          ],
          [
           0,
           8.94004310197958e-16,
           3.033453030293136e-05,
           0.000953222494120314,
           0.009499863501338985,
           0.03288294098130555,
           0.10925350981254452,
           0.22434262391189108,
           0.33293877703287367,
           0.29009872851442847
          ]
         ]
        }
       ],
       "layout": {
        "font": {
         "color": "#FFF"
        },
        "height": 500,
        "paper_bgcolor": "#000",
        "plot_bgcolor": "#000",
        "title": "Confidence after 100000 Iterations at Glimpse 9",
        "titlefont": {
         "color": "#FFF"
        },
        "width": 500,
        "xaxis": {
         "dtick": 1,
         "range": [
          0.5,
          9.5
         ],
         "tickcolor": "#FFF",
         "title": "Predicted Class"
        },
        "yaxis": {
         "dtick": 1,
         "range": [
          9.5,
          0.5
         ],
         "tickcolor": "#FFF",
         "title": "True Class"
        }
       }
      },
      "text/html": [
       "<div id=\"faf0bc9f-08a6-4a5f-bbd1-105db8d8858d\" style=\"height: 500px; width: 500px;\" class=\"plotly-graph-div\"></div><script type=\"text/javascript\">require([\"plotly\"], function(Plotly) { window.PLOTLYENV=window.PLOTLYENV || {};window.PLOTLYENV.BASE_URL=\"https://plot.ly\";Plotly.newPlot(\"faf0bc9f-08a6-4a5f-bbd1-105db8d8858d\", [{\"z\": [[0.0, 0.0, 0.0, 0.0, 0.0, 0.0, 0.0, 0.0, 0.0, 0.0], [0.0, 0.9152054123165086, 0.07943683120562708, 0.0050423481804471315, 0.00027200452013384805, 4.16966020237135e-05, 4.99503405968072e-07, 1.2034803427404144e-06, 6.077970241926277e-09, 2.7317132434346597e-09], [0.0, 0.14248751242778984, 0.5912353802104653, 0.21033586683998343, 0.04687221622700244, 0.007929780811568015, 0.0010162103912115827, 0.00011212821399566014, 9.170999074714045e-06, 1.7362780407789452e-06], [0.0, 0.009108405414616171, 0.32216786974139294, 0.3643328603544971, 0.20169147781758268, 0.07387487237827739, 0.02228657407150853, 0.005437929415731656, 0.0009462140250719897, 0.00015379793842812802], [0.0, 0.000247617253858799, 0.09893119985589674, 0.2736209390445474, 0.29670303996565633, 0.18421699270000536, 0.09645140402864318, 0.037224808441352446, 0.010329795396499166, 0.0022742036412202534], [0.0, 5.147314475296004e-06, 0.022806611731257764, 0.12707145324795693, 0.248728367245385, 0.23441230316921136, 0.19317542580545283, 0.11330895744930217, 0.0467574687122222, 0.013734265265133], [0.0, 1.9438881547403214e-07, 0.004421979911961046, 0.044001358671282124, 0.1421164927378845, 0.19800688234740083, 0.24114199110727058, 0.20146368580057597, 0.12048686900335141, 0.04836054552399873], [0.0, 1.1043682067241469e-09, 0.0007785165298937581, 0.01284418284734409, 0.06504890235717835, 0.12730807151939588, 0.22392143164916195, 0.25402125363303496, 0.20716658345944303, 0.10891105678396058], [0.0, 4.3930571859137246e-11, 0.00010421926539782057, 0.0033434570699615433, 0.026019187925021604, 0.06883835479226127, 0.16719450485715934, 0.2566055423452286, 0.28366314540054594, 0.19423158902589271], [0.0, 8.94004310197958e-16, 3.033453030293136e-05, 0.000953222494120314, 0.009499863501338985, 0.03288294098130555, 0.10925350981254452, 0.22434262391189108, 0.33293877703287367, 0.29009872851442847]], \"colorscale\": \"Jet\", \"type\": \"heatmap\"}], {\"titlefont\": {\"color\": \"#FFF\"}, \"plot_bgcolor\": \"#000\", \"width\": 500, \"title\": \"Confidence after 100000 Iterations at Glimpse 9\", \"paper_bgcolor\": \"#000\", \"font\": {\"color\": \"#FFF\"}, \"xaxis\": {\"title\": \"Predicted Class\", \"tickcolor\": \"#FFF\", \"range\": [0.5, 9.5], \"dtick\": 1}, \"height\": 500, \"yaxis\": {\"title\": \"True Class\", \"tickcolor\": \"#FFF\", \"range\": [9.5, 0.5], \"dtick\": 1}}, {\"showLink\": true, \"linkText\": \"Export to plot.ly\"})});</script>"
      ],
      "text/vnd.plotly.v1+html": [
       "<div id=\"faf0bc9f-08a6-4a5f-bbd1-105db8d8858d\" style=\"height: 500px; width: 500px;\" class=\"plotly-graph-div\"></div><script type=\"text/javascript\">require([\"plotly\"], function(Plotly) { window.PLOTLYENV=window.PLOTLYENV || {};window.PLOTLYENV.BASE_URL=\"https://plot.ly\";Plotly.newPlot(\"faf0bc9f-08a6-4a5f-bbd1-105db8d8858d\", [{\"z\": [[0.0, 0.0, 0.0, 0.0, 0.0, 0.0, 0.0, 0.0, 0.0, 0.0], [0.0, 0.9152054123165086, 0.07943683120562708, 0.0050423481804471315, 0.00027200452013384805, 4.16966020237135e-05, 4.99503405968072e-07, 1.2034803427404144e-06, 6.077970241926277e-09, 2.7317132434346597e-09], [0.0, 0.14248751242778984, 0.5912353802104653, 0.21033586683998343, 0.04687221622700244, 0.007929780811568015, 0.0010162103912115827, 0.00011212821399566014, 9.170999074714045e-06, 1.7362780407789452e-06], [0.0, 0.009108405414616171, 0.32216786974139294, 0.3643328603544971, 0.20169147781758268, 0.07387487237827739, 0.02228657407150853, 0.005437929415731656, 0.0009462140250719897, 0.00015379793842812802], [0.0, 0.000247617253858799, 0.09893119985589674, 0.2736209390445474, 0.29670303996565633, 0.18421699270000536, 0.09645140402864318, 0.037224808441352446, 0.010329795396499166, 0.0022742036412202534], [0.0, 5.147314475296004e-06, 0.022806611731257764, 0.12707145324795693, 0.248728367245385, 0.23441230316921136, 0.19317542580545283, 0.11330895744930217, 0.0467574687122222, 0.013734265265133], [0.0, 1.9438881547403214e-07, 0.004421979911961046, 0.044001358671282124, 0.1421164927378845, 0.19800688234740083, 0.24114199110727058, 0.20146368580057597, 0.12048686900335141, 0.04836054552399873], [0.0, 1.1043682067241469e-09, 0.0007785165298937581, 0.01284418284734409, 0.06504890235717835, 0.12730807151939588, 0.22392143164916195, 0.25402125363303496, 0.20716658345944303, 0.10891105678396058], [0.0, 4.3930571859137246e-11, 0.00010421926539782057, 0.0033434570699615433, 0.026019187925021604, 0.06883835479226127, 0.16719450485715934, 0.2566055423452286, 0.28366314540054594, 0.19423158902589271], [0.0, 8.94004310197958e-16, 3.033453030293136e-05, 0.000953222494120314, 0.009499863501338985, 0.03288294098130555, 0.10925350981254452, 0.22434262391189108, 0.33293877703287367, 0.29009872851442847]], \"colorscale\": \"Jet\", \"type\": \"heatmap\"}], {\"titlefont\": {\"color\": \"#FFF\"}, \"plot_bgcolor\": \"#000\", \"width\": 500, \"title\": \"Confidence after 100000 Iterations at Glimpse 9\", \"paper_bgcolor\": \"#000\", \"font\": {\"color\": \"#FFF\"}, \"xaxis\": {\"title\": \"Predicted Class\", \"tickcolor\": \"#FFF\", \"range\": [0.5, 9.5], \"dtick\": 1}, \"height\": 500, \"yaxis\": {\"title\": \"True Class\", \"tickcolor\": \"#FFF\", \"range\": [9.5, 0.5], \"dtick\": 1}}, {\"showLink\": true, \"linkText\": \"Export to plot.ly\"})});</script>"
      ]
     },
     "metadata": {},
     "output_type": "display_data"
    },
    {
     "data": {
      "application/vnd.plotly.v1+json": {
       "data": [
        {
         "colorscale": "Jet",
         "type": "heatmap",
         "z": [
          [
           0,
           0,
           0,
           0,
           0,
           0,
           0,
           0,
           0,
           0
          ],
          [
           0,
           0.9747,
           0.0253,
           0,
           0,
           0,
           0,
           0,
           0,
           0
          ],
          [
           0,
           0.1363,
           0.7001999999999999,
           0.1551,
           0.0082,
           0.0002,
           0,
           0,
           0,
           0
          ],
          [
           0,
           0.005300000000000002,
           0.33549999999999996,
           0.4439,
           0.18050000000000002,
           0.03200000000000001,
           0.0027,
           0.0001,
           0,
           0
          ],
          [
           0,
           0.0001,
           0.0672,
           0.31529999999999997,
           0.3739,
           0.16229999999999997,
           0.06949999999999998,
           0.0108,
           0.0009000000000000001,
           0
          ],
          [
           0,
           0,
           0.0089,
           0.10400000000000001,
           0.3283,
           0.22230000000000003,
           0.2293,
           0.08959999999999999,
           0.016000000000000004,
           0.0016
          ],
          [
           0,
           0,
           0.0009000000000000001,
           0.0218,
           0.15489999999999998,
           0.171,
           0.32130000000000003,
           0.2254,
           0.08800000000000001,
           0.016700000000000003
          ],
          [
           0,
           0,
           0.0001,
           0.0037000000000000006,
           0.048400000000000006,
           0.081,
           0.2852,
           0.3095,
           0.20429999999999998,
           0.0678
          ],
          [
           0,
           0,
           0,
           0.0002,
           0.013000000000000001,
           0.0247,
           0.1651,
           0.2919,
           0.31459999999999994,
           0.19050000000000003
          ],
          [
           0,
           0,
           0,
           0.00030000000000000003,
           0.0019,
           0.0067,
           0.072,
           0.2112,
           0.362,
           0.3459
          ]
         ]
        }
       ],
       "layout": {
        "font": {
         "color": "#FFF"
        },
        "height": 500,
        "paper_bgcolor": "#000",
        "plot_bgcolor": "#000",
        "title": "Choice after 100000 Iterations at Glimpse 9",
        "titlefont": {
         "color": "#FFF"
        },
        "width": 500,
        "xaxis": {
         "dtick": 1,
         "range": [
          0.5,
          9.5
         ],
         "tickcolor": "#FFF",
         "title": "Predicted Class"
        },
        "yaxis": {
         "dtick": 1,
         "range": [
          9.5,
          0.5
         ],
         "tickcolor": "#FFF",
         "title": "True Class"
        }
       }
      },
      "text/html": [
       "<div id=\"8032b757-a767-410b-bc37-a3bdad06fc19\" style=\"height: 500px; width: 500px;\" class=\"plotly-graph-div\"></div><script type=\"text/javascript\">require([\"plotly\"], function(Plotly) { window.PLOTLYENV=window.PLOTLYENV || {};window.PLOTLYENV.BASE_URL=\"https://plot.ly\";Plotly.newPlot(\"8032b757-a767-410b-bc37-a3bdad06fc19\", [{\"z\": [[0.0, 0.0, 0.0, 0.0, 0.0, 0.0, 0.0, 0.0, 0.0, 0.0], [0.0, 0.9747, 0.0253, 0.0, 0.0, 0.0, 0.0, 0.0, 0.0, 0.0], [0.0, 0.1363, 0.7001999999999999, 0.1551, 0.0082, 0.0002, 0.0, 0.0, 0.0, 0.0], [0.0, 0.005300000000000002, 0.33549999999999996, 0.4439, 0.18050000000000002, 0.03200000000000001, 0.0027, 0.0001, 0.0, 0.0], [0.0, 0.0001, 0.0672, 0.31529999999999997, 0.3739, 0.16229999999999997, 0.06949999999999998, 0.0108, 0.0009000000000000001, 0.0], [0.0, 0.0, 0.0089, 0.10400000000000001, 0.3283, 0.22230000000000003, 0.2293, 0.08959999999999999, 0.016000000000000004, 0.0016], [0.0, 0.0, 0.0009000000000000001, 0.0218, 0.15489999999999998, 0.171, 0.32130000000000003, 0.2254, 0.08800000000000001, 0.016700000000000003], [0.0, 0.0, 0.0001, 0.0037000000000000006, 0.048400000000000006, 0.081, 0.2852, 0.3095, 0.20429999999999998, 0.0678], [0.0, 0.0, 0.0, 0.0002, 0.013000000000000001, 0.0247, 0.1651, 0.2919, 0.31459999999999994, 0.19050000000000003], [0.0, 0.0, 0.0, 0.00030000000000000003, 0.0019, 0.0067, 0.072, 0.2112, 0.362, 0.3459]], \"colorscale\": \"Jet\", \"type\": \"heatmap\"}], {\"titlefont\": {\"color\": \"#FFF\"}, \"plot_bgcolor\": \"#000\", \"width\": 500, \"title\": \"Choice after 100000 Iterations at Glimpse 9\", \"paper_bgcolor\": \"#000\", \"font\": {\"color\": \"#FFF\"}, \"xaxis\": {\"title\": \"Predicted Class\", \"tickcolor\": \"#FFF\", \"range\": [0.5, 9.5], \"dtick\": 1}, \"height\": 500, \"yaxis\": {\"title\": \"True Class\", \"tickcolor\": \"#FFF\", \"range\": [9.5, 0.5], \"dtick\": 1}}, {\"showLink\": true, \"linkText\": \"Export to plot.ly\"})});</script>"
      ],
      "text/vnd.plotly.v1+html": [
       "<div id=\"8032b757-a767-410b-bc37-a3bdad06fc19\" style=\"height: 500px; width: 500px;\" class=\"plotly-graph-div\"></div><script type=\"text/javascript\">require([\"plotly\"], function(Plotly) { window.PLOTLYENV=window.PLOTLYENV || {};window.PLOTLYENV.BASE_URL=\"https://plot.ly\";Plotly.newPlot(\"8032b757-a767-410b-bc37-a3bdad06fc19\", [{\"z\": [[0.0, 0.0, 0.0, 0.0, 0.0, 0.0, 0.0, 0.0, 0.0, 0.0], [0.0, 0.9747, 0.0253, 0.0, 0.0, 0.0, 0.0, 0.0, 0.0, 0.0], [0.0, 0.1363, 0.7001999999999999, 0.1551, 0.0082, 0.0002, 0.0, 0.0, 0.0, 0.0], [0.0, 0.005300000000000002, 0.33549999999999996, 0.4439, 0.18050000000000002, 0.03200000000000001, 0.0027, 0.0001, 0.0, 0.0], [0.0, 0.0001, 0.0672, 0.31529999999999997, 0.3739, 0.16229999999999997, 0.06949999999999998, 0.0108, 0.0009000000000000001, 0.0], [0.0, 0.0, 0.0089, 0.10400000000000001, 0.3283, 0.22230000000000003, 0.2293, 0.08959999999999999, 0.016000000000000004, 0.0016], [0.0, 0.0, 0.0009000000000000001, 0.0218, 0.15489999999999998, 0.171, 0.32130000000000003, 0.2254, 0.08800000000000001, 0.016700000000000003], [0.0, 0.0, 0.0001, 0.0037000000000000006, 0.048400000000000006, 0.081, 0.2852, 0.3095, 0.20429999999999998, 0.0678], [0.0, 0.0, 0.0, 0.0002, 0.013000000000000001, 0.0247, 0.1651, 0.2919, 0.31459999999999994, 0.19050000000000003], [0.0, 0.0, 0.0, 0.00030000000000000003, 0.0019, 0.0067, 0.072, 0.2112, 0.362, 0.3459]], \"colorscale\": \"Jet\", \"type\": \"heatmap\"}], {\"titlefont\": {\"color\": \"#FFF\"}, \"plot_bgcolor\": \"#000\", \"width\": 500, \"title\": \"Choice after 100000 Iterations at Glimpse 9\", \"paper_bgcolor\": \"#000\", \"font\": {\"color\": \"#FFF\"}, \"xaxis\": {\"title\": \"Predicted Class\", \"tickcolor\": \"#FFF\", \"range\": [0.5, 9.5], \"dtick\": 1}, \"height\": 500, \"yaxis\": {\"title\": \"True Class\", \"tickcolor\": \"#FFF\", \"range\": [9.5, 0.5], \"dtick\": 1}}, {\"showLink\": true, \"linkText\": \"Export to plot.ly\"})});</script>"
      ]
     },
     "metadata": {},
     "output_type": "display_data"
    },
    {
     "data": {
      "application/vnd.plotly.v1+json": {
       "data": [
        {
         "colorscale": "Jet",
         "type": "heatmap",
         "z": [
          [
           0,
           0,
           0,
           0,
           0,
           0,
           0,
           0,
           0,
           0
          ],
          [
           0,
           0.9106072091589217,
           0.0812792797414302,
           0.007013663616466876,
           0.0008407560069300902,
           0.00021730845811960615,
           3.173078572238296e-05,
           8.029528446349055e-06,
           1.2290052668358032e-06,
           7.971363208859239e-07
          ],
          [
           0,
           0.18189834734714774,
           0.5576725176158448,
           0.18965325360055196,
           0.05377017096952887,
           0.013853003425196608,
           0.002580803000902481,
           0.00043104116263918284,
           0.00011420051019556183,
           2.666242207989987e-05
          ],
          [
           0,
           0.010644483115443316,
           0.3436365256909965,
           0.32505758453037276,
           0.1960863513385717,
           0.08855978214241497,
           0.02622574561836514,
           0.007197256555911036,
           0.0020158659788132864,
           0.0005764058394705973
          ],
          [
           0,
           0.0004529806038199062,
           0.11100543962539344,
           0.24957673116217047,
           0.27670773740744337,
           0.2061661021606996,
           0.09455305476009716,
           0.040874648195185416,
           0.015256680397369316,
           0.00540662607327184
          ],
          [
           0,
           6.343132953985444e-05,
           0.025522753331666766,
           0.12060754754924925,
           0.22858623804730707,
           0.26377253321940075,
           0.17691093507551411,
           0.10557863741671973,
           0.053822376413090886,
           0.02513554772891479
          ],
          [
           0,
           2.7605118538373065e-07,
           0.004935089411626379,
           0.041820539571692995,
           0.13099766564208623,
           0.22756723527680442,
           0.2203447478745162,
           0.18244488299749503,
           0.1203911474484572,
           0.07149841559034767
          ],
          [
           0,
           1.1515508099366076e-08,
           0.001048932728675709,
           0.012766796122919467,
           0.05977296525744115,
           0.1502299070363878,
           0.2024736354375833,
           0.22481360743681433,
           0.196494530241318,
           0.15239961534632493
          ],
          [
           0,
           9.257847642612431e-09,
           0.0003405507413118252,
           0.0042240127413326,
           0.0253649753039136,
           0.08706416455627743,
           0.1550253049472452,
           0.22316926015297942,
           0.25551443477171687,
           0.2492972876212145
          ],
          [
           0,
           2.6904159346193802e-08,
           0.00012601167036380766,
           0.0011327087081947564,
           0.009728534986097862,
           0.04447092104450334,
           0.10401950987410116,
           0.1942455807497703,
           0.2893670018742647,
           0.3569097047102592
          ]
         ]
        }
       ],
       "layout": {
        "font": {
         "color": "#FFF"
        },
        "height": 500,
        "paper_bgcolor": "#000",
        "plot_bgcolor": "#000",
        "title": "Confidence after 120000 Iterations at Glimpse 0",
        "titlefont": {
         "color": "#FFF"
        },
        "width": 500,
        "xaxis": {
         "dtick": 1,
         "range": [
          0.5,
          9.5
         ],
         "tickcolor": "#FFF",
         "title": "Predicted Class"
        },
        "yaxis": {
         "dtick": 1,
         "range": [
          9.5,
          0.5
         ],
         "tickcolor": "#FFF",
         "title": "True Class"
        }
       }
      },
      "text/html": [
       "<div id=\"7530b6f5-e0b9-4905-9f27-15471199bcf5\" style=\"height: 500px; width: 500px;\" class=\"plotly-graph-div\"></div><script type=\"text/javascript\">require([\"plotly\"], function(Plotly) { window.PLOTLYENV=window.PLOTLYENV || {};window.PLOTLYENV.BASE_URL=\"https://plot.ly\";Plotly.newPlot(\"7530b6f5-e0b9-4905-9f27-15471199bcf5\", [{\"z\": [[0.0, 0.0, 0.0, 0.0, 0.0, 0.0, 0.0, 0.0, 0.0, 0.0], [0.0, 0.9106072091589217, 0.0812792797414302, 0.007013663616466876, 0.0008407560069300902, 0.00021730845811960615, 3.173078572238296e-05, 8.029528446349055e-06, 1.2290052668358032e-06, 7.971363208859239e-07], [0.0, 0.18189834734714774, 0.5576725176158448, 0.18965325360055196, 0.05377017096952887, 0.013853003425196608, 0.002580803000902481, 0.00043104116263918284, 0.00011420051019556183, 2.666242207989987e-05], [0.0, 0.010644483115443316, 0.3436365256909965, 0.32505758453037276, 0.1960863513385717, 0.08855978214241497, 0.02622574561836514, 0.007197256555911036, 0.0020158659788132864, 0.0005764058394705973], [0.0, 0.0004529806038199062, 0.11100543962539344, 0.24957673116217047, 0.27670773740744337, 0.2061661021606996, 0.09455305476009716, 0.040874648195185416, 0.015256680397369316, 0.00540662607327184], [0.0, 6.343132953985444e-05, 0.025522753331666766, 0.12060754754924925, 0.22858623804730707, 0.26377253321940075, 0.17691093507551411, 0.10557863741671973, 0.053822376413090886, 0.02513554772891479], [0.0, 2.7605118538373065e-07, 0.004935089411626379, 0.041820539571692995, 0.13099766564208623, 0.22756723527680442, 0.2203447478745162, 0.18244488299749503, 0.1203911474484572, 0.07149841559034767], [0.0, 1.1515508099366076e-08, 0.001048932728675709, 0.012766796122919467, 0.05977296525744115, 0.1502299070363878, 0.2024736354375833, 0.22481360743681433, 0.196494530241318, 0.15239961534632493], [0.0, 9.257847642612431e-09, 0.0003405507413118252, 0.0042240127413326, 0.0253649753039136, 0.08706416455627743, 0.1550253049472452, 0.22316926015297942, 0.25551443477171687, 0.2492972876212145], [0.0, 2.6904159346193802e-08, 0.00012601167036380766, 0.0011327087081947564, 0.009728534986097862, 0.04447092104450334, 0.10401950987410116, 0.1942455807497703, 0.2893670018742647, 0.3569097047102592]], \"colorscale\": \"Jet\", \"type\": \"heatmap\"}], {\"titlefont\": {\"color\": \"#FFF\"}, \"plot_bgcolor\": \"#000\", \"width\": 500, \"title\": \"Confidence after 120000 Iterations at Glimpse 0\", \"paper_bgcolor\": \"#000\", \"font\": {\"color\": \"#FFF\"}, \"xaxis\": {\"title\": \"Predicted Class\", \"tickcolor\": \"#FFF\", \"range\": [0.5, 9.5], \"dtick\": 1}, \"height\": 500, \"yaxis\": {\"title\": \"True Class\", \"tickcolor\": \"#FFF\", \"range\": [9.5, 0.5], \"dtick\": 1}}, {\"showLink\": true, \"linkText\": \"Export to plot.ly\"})});</script>"
      ],
      "text/vnd.plotly.v1+html": [
       "<div id=\"7530b6f5-e0b9-4905-9f27-15471199bcf5\" style=\"height: 500px; width: 500px;\" class=\"plotly-graph-div\"></div><script type=\"text/javascript\">require([\"plotly\"], function(Plotly) { window.PLOTLYENV=window.PLOTLYENV || {};window.PLOTLYENV.BASE_URL=\"https://plot.ly\";Plotly.newPlot(\"7530b6f5-e0b9-4905-9f27-15471199bcf5\", [{\"z\": [[0.0, 0.0, 0.0, 0.0, 0.0, 0.0, 0.0, 0.0, 0.0, 0.0], [0.0, 0.9106072091589217, 0.0812792797414302, 0.007013663616466876, 0.0008407560069300902, 0.00021730845811960615, 3.173078572238296e-05, 8.029528446349055e-06, 1.2290052668358032e-06, 7.971363208859239e-07], [0.0, 0.18189834734714774, 0.5576725176158448, 0.18965325360055196, 0.05377017096952887, 0.013853003425196608, 0.002580803000902481, 0.00043104116263918284, 0.00011420051019556183, 2.666242207989987e-05], [0.0, 0.010644483115443316, 0.3436365256909965, 0.32505758453037276, 0.1960863513385717, 0.08855978214241497, 0.02622574561836514, 0.007197256555911036, 0.0020158659788132864, 0.0005764058394705973], [0.0, 0.0004529806038199062, 0.11100543962539344, 0.24957673116217047, 0.27670773740744337, 0.2061661021606996, 0.09455305476009716, 0.040874648195185416, 0.015256680397369316, 0.00540662607327184], [0.0, 6.343132953985444e-05, 0.025522753331666766, 0.12060754754924925, 0.22858623804730707, 0.26377253321940075, 0.17691093507551411, 0.10557863741671973, 0.053822376413090886, 0.02513554772891479], [0.0, 2.7605118538373065e-07, 0.004935089411626379, 0.041820539571692995, 0.13099766564208623, 0.22756723527680442, 0.2203447478745162, 0.18244488299749503, 0.1203911474484572, 0.07149841559034767], [0.0, 1.1515508099366076e-08, 0.001048932728675709, 0.012766796122919467, 0.05977296525744115, 0.1502299070363878, 0.2024736354375833, 0.22481360743681433, 0.196494530241318, 0.15239961534632493], [0.0, 9.257847642612431e-09, 0.0003405507413118252, 0.0042240127413326, 0.0253649753039136, 0.08706416455627743, 0.1550253049472452, 0.22316926015297942, 0.25551443477171687, 0.2492972876212145], [0.0, 2.6904159346193802e-08, 0.00012601167036380766, 0.0011327087081947564, 0.009728534986097862, 0.04447092104450334, 0.10401950987410116, 0.1942455807497703, 0.2893670018742647, 0.3569097047102592]], \"colorscale\": \"Jet\", \"type\": \"heatmap\"}], {\"titlefont\": {\"color\": \"#FFF\"}, \"plot_bgcolor\": \"#000\", \"width\": 500, \"title\": \"Confidence after 120000 Iterations at Glimpse 0\", \"paper_bgcolor\": \"#000\", \"font\": {\"color\": \"#FFF\"}, \"xaxis\": {\"title\": \"Predicted Class\", \"tickcolor\": \"#FFF\", \"range\": [0.5, 9.5], \"dtick\": 1}, \"height\": 500, \"yaxis\": {\"title\": \"True Class\", \"tickcolor\": \"#FFF\", \"range\": [9.5, 0.5], \"dtick\": 1}}, {\"showLink\": true, \"linkText\": \"Export to plot.ly\"})});</script>"
      ]
     },
     "metadata": {},
     "output_type": "display_data"
    },
    {
     "data": {
      "application/vnd.plotly.v1+json": {
       "data": [
        {
         "colorscale": "Jet",
         "type": "heatmap",
         "z": [
          [
           0,
           0,
           0,
           0,
           0,
           0,
           0,
           0,
           0,
           0
          ],
          [
           0,
           0.9882,
           0.011800000000000001,
           0,
           0,
           0,
           0,
           0,
           0,
           0
          ],
          [
           0,
           0.1726,
           0.7068000000000001,
           0.1122,
           0.0081,
           0.00030000000000000003,
           0,
           0,
           0,
           0
          ],
          [
           0,
           0.0049,
           0.40599999999999997,
           0.37479999999999997,
           0.17170000000000002,
           0.04,
           0.0022,
           0.0004,
           0,
           0
          ],
          [
           0,
           0.0001,
           0.08829999999999999,
           0.28880000000000006,
           0.3451,
           0.2186,
           0.0439,
           0.012,
           0.0021,
           0.0010999999999999998
          ],
          [
           0,
           0,
           0.0086,
           0.10200000000000001,
           0.2675,
           0.36879999999999996,
           0.1492,
           0.06950000000000002,
           0.024100000000000003,
           0.0103
          ],
          [
           0,
           0,
           0.001,
           0.0201,
           0.11280000000000001,
           0.3102,
           0.24159999999999998,
           0.1809,
           0.08410000000000001,
           0.049300000000000004
          ],
          [
           0,
           0,
           0.0001,
           0.0035000000000000005,
           0.033999999999999996,
           0.16240000000000004,
           0.2222,
           0.2496,
           0.17630000000000004,
           0.1519
          ],
          [
           0,
           0,
           0.0001,
           0.0007,
           0.0093,
           0.0723,
           0.1392,
           0.2271,
           0.2528,
           0.2985
          ],
          [
           0,
           0,
           0.0001,
           0.0002,
           0.0024000000000000002,
           0.0227,
           0.07260000000000001,
           0.16360000000000002,
           0.27449999999999997,
           0.46390000000000003
          ]
         ]
        }
       ],
       "layout": {
        "font": {
         "color": "#FFF"
        },
        "height": 500,
        "paper_bgcolor": "#000",
        "plot_bgcolor": "#000",
        "title": "Choice after 120000 Iterations at Glimpse 0",
        "titlefont": {
         "color": "#FFF"
        },
        "width": 500,
        "xaxis": {
         "dtick": 1,
         "range": [
          0.5,
          9.5
         ],
         "tickcolor": "#FFF",
         "title": "Predicted Class"
        },
        "yaxis": {
         "dtick": 1,
         "range": [
          9.5,
          0.5
         ],
         "tickcolor": "#FFF",
         "title": "True Class"
        }
       }
      },
      "text/html": [
       "<div id=\"c8ee3c61-25b4-404e-858f-7d515b012554\" style=\"height: 500px; width: 500px;\" class=\"plotly-graph-div\"></div><script type=\"text/javascript\">require([\"plotly\"], function(Plotly) { window.PLOTLYENV=window.PLOTLYENV || {};window.PLOTLYENV.BASE_URL=\"https://plot.ly\";Plotly.newPlot(\"c8ee3c61-25b4-404e-858f-7d515b012554\", [{\"z\": [[0.0, 0.0, 0.0, 0.0, 0.0, 0.0, 0.0, 0.0, 0.0, 0.0], [0.0, 0.9882, 0.011800000000000001, 0.0, 0.0, 0.0, 0.0, 0.0, 0.0, 0.0], [0.0, 0.1726, 0.7068000000000001, 0.1122, 0.0081, 0.00030000000000000003, 0.0, 0.0, 0.0, 0.0], [0.0, 0.0049, 0.40599999999999997, 0.37479999999999997, 0.17170000000000002, 0.04, 0.0022, 0.0004, 0.0, 0.0], [0.0, 0.0001, 0.08829999999999999, 0.28880000000000006, 0.3451, 0.2186, 0.0439, 0.012, 0.0021, 0.0010999999999999998], [0.0, 0.0, 0.0086, 0.10200000000000001, 0.2675, 0.36879999999999996, 0.1492, 0.06950000000000002, 0.024100000000000003, 0.0103], [0.0, 0.0, 0.001, 0.0201, 0.11280000000000001, 0.3102, 0.24159999999999998, 0.1809, 0.08410000000000001, 0.049300000000000004], [0.0, 0.0, 0.0001, 0.0035000000000000005, 0.033999999999999996, 0.16240000000000004, 0.2222, 0.2496, 0.17630000000000004, 0.1519], [0.0, 0.0, 0.0001, 0.0007, 0.0093, 0.0723, 0.1392, 0.2271, 0.2528, 0.2985], [0.0, 0.0, 0.0001, 0.0002, 0.0024000000000000002, 0.0227, 0.07260000000000001, 0.16360000000000002, 0.27449999999999997, 0.46390000000000003]], \"colorscale\": \"Jet\", \"type\": \"heatmap\"}], {\"titlefont\": {\"color\": \"#FFF\"}, \"plot_bgcolor\": \"#000\", \"width\": 500, \"title\": \"Choice after 120000 Iterations at Glimpse 0\", \"paper_bgcolor\": \"#000\", \"font\": {\"color\": \"#FFF\"}, \"xaxis\": {\"title\": \"Predicted Class\", \"tickcolor\": \"#FFF\", \"range\": [0.5, 9.5], \"dtick\": 1}, \"height\": 500, \"yaxis\": {\"title\": \"True Class\", \"tickcolor\": \"#FFF\", \"range\": [9.5, 0.5], \"dtick\": 1}}, {\"showLink\": true, \"linkText\": \"Export to plot.ly\"})});</script>"
      ],
      "text/vnd.plotly.v1+html": [
       "<div id=\"c8ee3c61-25b4-404e-858f-7d515b012554\" style=\"height: 500px; width: 500px;\" class=\"plotly-graph-div\"></div><script type=\"text/javascript\">require([\"plotly\"], function(Plotly) { window.PLOTLYENV=window.PLOTLYENV || {};window.PLOTLYENV.BASE_URL=\"https://plot.ly\";Plotly.newPlot(\"c8ee3c61-25b4-404e-858f-7d515b012554\", [{\"z\": [[0.0, 0.0, 0.0, 0.0, 0.0, 0.0, 0.0, 0.0, 0.0, 0.0], [0.0, 0.9882, 0.011800000000000001, 0.0, 0.0, 0.0, 0.0, 0.0, 0.0, 0.0], [0.0, 0.1726, 0.7068000000000001, 0.1122, 0.0081, 0.00030000000000000003, 0.0, 0.0, 0.0, 0.0], [0.0, 0.0049, 0.40599999999999997, 0.37479999999999997, 0.17170000000000002, 0.04, 0.0022, 0.0004, 0.0, 0.0], [0.0, 0.0001, 0.08829999999999999, 0.28880000000000006, 0.3451, 0.2186, 0.0439, 0.012, 0.0021, 0.0010999999999999998], [0.0, 0.0, 0.0086, 0.10200000000000001, 0.2675, 0.36879999999999996, 0.1492, 0.06950000000000002, 0.024100000000000003, 0.0103], [0.0, 0.0, 0.001, 0.0201, 0.11280000000000001, 0.3102, 0.24159999999999998, 0.1809, 0.08410000000000001, 0.049300000000000004], [0.0, 0.0, 0.0001, 0.0035000000000000005, 0.033999999999999996, 0.16240000000000004, 0.2222, 0.2496, 0.17630000000000004, 0.1519], [0.0, 0.0, 0.0001, 0.0007, 0.0093, 0.0723, 0.1392, 0.2271, 0.2528, 0.2985], [0.0, 0.0, 0.0001, 0.0002, 0.0024000000000000002, 0.0227, 0.07260000000000001, 0.16360000000000002, 0.27449999999999997, 0.46390000000000003]], \"colorscale\": \"Jet\", \"type\": \"heatmap\"}], {\"titlefont\": {\"color\": \"#FFF\"}, \"plot_bgcolor\": \"#000\", \"width\": 500, \"title\": \"Choice after 120000 Iterations at Glimpse 0\", \"paper_bgcolor\": \"#000\", \"font\": {\"color\": \"#FFF\"}, \"xaxis\": {\"title\": \"Predicted Class\", \"tickcolor\": \"#FFF\", \"range\": [0.5, 9.5], \"dtick\": 1}, \"height\": 500, \"yaxis\": {\"title\": \"True Class\", \"tickcolor\": \"#FFF\", \"range\": [9.5, 0.5], \"dtick\": 1}}, {\"showLink\": true, \"linkText\": \"Export to plot.ly\"})});</script>"
      ]
     },
     "metadata": {},
     "output_type": "display_data"
    },
    {
     "data": {
      "application/vnd.plotly.v1+json": {
       "data": [
        {
         "colorscale": "Jet",
         "type": "heatmap",
         "z": [
          [
           0,
           0,
           0,
           0,
           0,
           0,
           0,
           0,
           0,
           0
          ],
          [
           0,
           0.9502292914448306,
           0.047600363193952125,
           0.002044342403312171,
           0.00011060579094839668,
           1.5214458128329339e-05,
           1.573162404538551e-07,
           2.373863337515452e-08,
           3.899907319238954e-09,
           8.982087790813361e-10
          ],
          [
           0,
           0.1124889520133385,
           0.6550881999339103,
           0.18345168812685494,
           0.04057552886404971,
           0.007635859977335134,
           0.0006935859626226841,
           6.1022228010904936e-05,
           4.711678529260842e-06,
           4.534146451094032e-07
          ],
          [
           0,
           0.002981980792143644,
           0.34968163652146617,
           0.34066670942081256,
           0.1948222410548948,
           0.08777684367206376,
           0.019355697460337766,
           0.0040277487931643565,
           0.0005906147701350245,
           9.65289970908972e-05
          ],
          [
           0,
           3.695884393976019e-05,
           0.10007444551431717,
           0.24785855574027194,
           0.2838207963074907,
           0.23226099369200098,
           0.08877771344705729,
           0.03513401846382809,
           0.009426049269674634,
           0.002610469297574047
          ],
          [
           0,
           1.259675675927736e-06,
           0.019543616845956756,
           0.10734613056725908,
           0.22232207486776026,
           0.2988000057433674,
           0.17731947553661973,
           0.10817920447367105,
           0.04601651269000301,
           0.020471719710862785
          ],
          [
           0,
           2.128990221363577e-09,
           0.002893575407188834,
           0.03224944395085176,
           0.11534357027539763,
           0.24539768084057795,
           0.21881518848640552,
           0.19494684328225856,
           0.11937827216545507,
           0.070975424320466
          ],
          [
           0,
           1.0667595575760617e-12,
           0.00034916907635468834,
           0.00826711637529378,
           0.04562745843229639,
           0.14505980439190053,
           0.19207028657725025,
           0.23669475816994093,
           0.20789975614688982,
           0.16403165140251455
          ],
          [
           0,
           1.6463128139151847e-14,
           0.00013432382966541584,
           0.001860456596399782,
           0.01599853645625514,
           0.07354619065285431,
           0.13414463584003772,
           0.2276857027626742,
           0.2691142823331359,
           0.27751587167116426
          ],
          [
           0,
           5.9850932926923466e-15,
           1.2910973056748156e-05,
           0.0005593578298961073,
           0.004925633678887402,
           0.03193353287727861,
           0.08137162791480987,
           0.18369092696556474,
           0.2980115305434127,
           0.3994944797560034
          ]
         ]
        }
       ],
       "layout": {
        "font": {
         "color": "#FFF"
        },
        "height": 500,
        "paper_bgcolor": "#000",
        "plot_bgcolor": "#000",
        "title": "Confidence after 120000 Iterations at Glimpse 3",
        "titlefont": {
         "color": "#FFF"
        },
        "width": 500,
        "xaxis": {
         "dtick": 1,
         "range": [
          0.5,
          9.5
         ],
         "tickcolor": "#FFF",
         "title": "Predicted Class"
        },
        "yaxis": {
         "dtick": 1,
         "range": [
          9.5,
          0.5
         ],
         "tickcolor": "#FFF",
         "title": "True Class"
        }
       }
      },
      "text/html": [
       "<div id=\"8059d589-6963-44a6-a4f5-a8f0023abac8\" style=\"height: 500px; width: 500px;\" class=\"plotly-graph-div\"></div><script type=\"text/javascript\">require([\"plotly\"], function(Plotly) { window.PLOTLYENV=window.PLOTLYENV || {};window.PLOTLYENV.BASE_URL=\"https://plot.ly\";Plotly.newPlot(\"8059d589-6963-44a6-a4f5-a8f0023abac8\", [{\"z\": [[0.0, 0.0, 0.0, 0.0, 0.0, 0.0, 0.0, 0.0, 0.0, 0.0], [0.0, 0.9502292914448306, 0.047600363193952125, 0.002044342403312171, 0.00011060579094839668, 1.5214458128329339e-05, 1.573162404538551e-07, 2.373863337515452e-08, 3.899907319238954e-09, 8.982087790813361e-10], [0.0, 0.1124889520133385, 0.6550881999339103, 0.18345168812685494, 0.04057552886404971, 0.007635859977335134, 0.0006935859626226841, 6.1022228010904936e-05, 4.711678529260842e-06, 4.534146451094032e-07], [0.0, 0.002981980792143644, 0.34968163652146617, 0.34066670942081256, 0.1948222410548948, 0.08777684367206376, 0.019355697460337766, 0.0040277487931643565, 0.0005906147701350245, 9.65289970908972e-05], [0.0, 3.695884393976019e-05, 0.10007444551431717, 0.24785855574027194, 0.2838207963074907, 0.23226099369200098, 0.08877771344705729, 0.03513401846382809, 0.009426049269674634, 0.002610469297574047], [0.0, 1.259675675927736e-06, 0.019543616845956756, 0.10734613056725908, 0.22232207486776026, 0.2988000057433674, 0.17731947553661973, 0.10817920447367105, 0.04601651269000301, 0.020471719710862785], [0.0, 2.128990221363577e-09, 0.002893575407188834, 0.03224944395085176, 0.11534357027539763, 0.24539768084057795, 0.21881518848640552, 0.19494684328225856, 0.11937827216545507, 0.070975424320466], [0.0, 1.0667595575760617e-12, 0.00034916907635468834, 0.00826711637529378, 0.04562745843229639, 0.14505980439190053, 0.19207028657725025, 0.23669475816994093, 0.20789975614688982, 0.16403165140251455], [0.0, 1.6463128139151847e-14, 0.00013432382966541584, 0.001860456596399782, 0.01599853645625514, 0.07354619065285431, 0.13414463584003772, 0.2276857027626742, 0.2691142823331359, 0.27751587167116426], [0.0, 5.9850932926923466e-15, 1.2910973056748156e-05, 0.0005593578298961073, 0.004925633678887402, 0.03193353287727861, 0.08137162791480987, 0.18369092696556474, 0.2980115305434127, 0.3994944797560034]], \"colorscale\": \"Jet\", \"type\": \"heatmap\"}], {\"titlefont\": {\"color\": \"#FFF\"}, \"plot_bgcolor\": \"#000\", \"width\": 500, \"title\": \"Confidence after 120000 Iterations at Glimpse 3\", \"paper_bgcolor\": \"#000\", \"font\": {\"color\": \"#FFF\"}, \"xaxis\": {\"title\": \"Predicted Class\", \"tickcolor\": \"#FFF\", \"range\": [0.5, 9.5], \"dtick\": 1}, \"height\": 500, \"yaxis\": {\"title\": \"True Class\", \"tickcolor\": \"#FFF\", \"range\": [9.5, 0.5], \"dtick\": 1}}, {\"showLink\": true, \"linkText\": \"Export to plot.ly\"})});</script>"
      ],
      "text/vnd.plotly.v1+html": [
       "<div id=\"8059d589-6963-44a6-a4f5-a8f0023abac8\" style=\"height: 500px; width: 500px;\" class=\"plotly-graph-div\"></div><script type=\"text/javascript\">require([\"plotly\"], function(Plotly) { window.PLOTLYENV=window.PLOTLYENV || {};window.PLOTLYENV.BASE_URL=\"https://plot.ly\";Plotly.newPlot(\"8059d589-6963-44a6-a4f5-a8f0023abac8\", [{\"z\": [[0.0, 0.0, 0.0, 0.0, 0.0, 0.0, 0.0, 0.0, 0.0, 0.0], [0.0, 0.9502292914448306, 0.047600363193952125, 0.002044342403312171, 0.00011060579094839668, 1.5214458128329339e-05, 1.573162404538551e-07, 2.373863337515452e-08, 3.899907319238954e-09, 8.982087790813361e-10], [0.0, 0.1124889520133385, 0.6550881999339103, 0.18345168812685494, 0.04057552886404971, 0.007635859977335134, 0.0006935859626226841, 6.1022228010904936e-05, 4.711678529260842e-06, 4.534146451094032e-07], [0.0, 0.002981980792143644, 0.34968163652146617, 0.34066670942081256, 0.1948222410548948, 0.08777684367206376, 0.019355697460337766, 0.0040277487931643565, 0.0005906147701350245, 9.65289970908972e-05], [0.0, 3.695884393976019e-05, 0.10007444551431717, 0.24785855574027194, 0.2838207963074907, 0.23226099369200098, 0.08877771344705729, 0.03513401846382809, 0.009426049269674634, 0.002610469297574047], [0.0, 1.259675675927736e-06, 0.019543616845956756, 0.10734613056725908, 0.22232207486776026, 0.2988000057433674, 0.17731947553661973, 0.10817920447367105, 0.04601651269000301, 0.020471719710862785], [0.0, 2.128990221363577e-09, 0.002893575407188834, 0.03224944395085176, 0.11534357027539763, 0.24539768084057795, 0.21881518848640552, 0.19494684328225856, 0.11937827216545507, 0.070975424320466], [0.0, 1.0667595575760617e-12, 0.00034916907635468834, 0.00826711637529378, 0.04562745843229639, 0.14505980439190053, 0.19207028657725025, 0.23669475816994093, 0.20789975614688982, 0.16403165140251455], [0.0, 1.6463128139151847e-14, 0.00013432382966541584, 0.001860456596399782, 0.01599853645625514, 0.07354619065285431, 0.13414463584003772, 0.2276857027626742, 0.2691142823331359, 0.27751587167116426], [0.0, 5.9850932926923466e-15, 1.2910973056748156e-05, 0.0005593578298961073, 0.004925633678887402, 0.03193353287727861, 0.08137162791480987, 0.18369092696556474, 0.2980115305434127, 0.3994944797560034]], \"colorscale\": \"Jet\", \"type\": \"heatmap\"}], {\"titlefont\": {\"color\": \"#FFF\"}, \"plot_bgcolor\": \"#000\", \"width\": 500, \"title\": \"Confidence after 120000 Iterations at Glimpse 3\", \"paper_bgcolor\": \"#000\", \"font\": {\"color\": \"#FFF\"}, \"xaxis\": {\"title\": \"Predicted Class\", \"tickcolor\": \"#FFF\", \"range\": [0.5, 9.5], \"dtick\": 1}, \"height\": 500, \"yaxis\": {\"title\": \"True Class\", \"tickcolor\": \"#FFF\", \"range\": [9.5, 0.5], \"dtick\": 1}}, {\"showLink\": true, \"linkText\": \"Export to plot.ly\"})});</script>"
      ]
     },
     "metadata": {},
     "output_type": "display_data"
    },
    {
     "data": {
      "application/vnd.plotly.v1+json": {
       "data": [
        {
         "colorscale": "Jet",
         "type": "heatmap",
         "z": [
          [
           0,
           0,
           0,
           0,
           0,
           0,
           0,
           0,
           0,
           0
          ],
          [
           0,
           0.9897,
           0.010300000000000002,
           0,
           0,
           0,
           0,
           0,
           0,
           0
          ],
          [
           0,
           0.09929999999999999,
           0.7827999999999998,
           0.1105,
           0.007400000000000001,
           0,
           0,
           0,
           0,
           0
          ],
          [
           0,
           0.0013000000000000002,
           0.3853,
           0.3873,
           0.172,
           0.052500000000000005,
           0.0016,
           0,
           0,
           0
          ],
          [
           0,
           0,
           0.0766,
           0.28580000000000005,
           0.30839999999999995,
           0.2785,
           0.0356,
           0.013800000000000002,
           0.0009000000000000001,
           0.0004
          ],
          [
           0,
           0,
           0.0082,
           0.09090000000000001,
           0.21740000000000004,
           0.42899999999999994,
           0.13859999999999997,
           0.08420000000000001,
           0.0188,
           0.0129
          ],
          [
           0,
           0,
           0.0007,
           0.016000000000000004,
           0.07780000000000001,
           0.33590000000000003,
           0.2162,
           0.20450000000000004,
           0.0856,
           0.0633
          ],
          [
           0,
           0,
           0,
           0.0019,
           0.019700000000000002,
           0.1517,
           0.19380000000000003,
           0.25770000000000004,
           0.1931,
           0.18209999999999998
          ],
          [
           0,
           0,
           0.0001,
           0.0001,
           0.0037000000000000006,
           0.055700000000000006,
           0.1076,
           0.2213,
           0.2754,
           0.3361
          ],
          [
           0,
           0,
           0,
           0.0002,
           0.0006000000000000001,
           0.016500000000000004,
           0.0475,
           0.137,
           0.3019,
           0.4963
          ]
         ]
        }
       ],
       "layout": {
        "font": {
         "color": "#FFF"
        },
        "height": 500,
        "paper_bgcolor": "#000",
        "plot_bgcolor": "#000",
        "title": "Choice after 120000 Iterations at Glimpse 3",
        "titlefont": {
         "color": "#FFF"
        },
        "width": 500,
        "xaxis": {
         "dtick": 1,
         "range": [
          0.5,
          9.5
         ],
         "tickcolor": "#FFF",
         "title": "Predicted Class"
        },
        "yaxis": {
         "dtick": 1,
         "range": [
          9.5,
          0.5
         ],
         "tickcolor": "#FFF",
         "title": "True Class"
        }
       }
      },
      "text/html": [
       "<div id=\"c8e26846-8e74-4c9e-b5fa-174b97b84bc3\" style=\"height: 500px; width: 500px;\" class=\"plotly-graph-div\"></div><script type=\"text/javascript\">require([\"plotly\"], function(Plotly) { window.PLOTLYENV=window.PLOTLYENV || {};window.PLOTLYENV.BASE_URL=\"https://plot.ly\";Plotly.newPlot(\"c8e26846-8e74-4c9e-b5fa-174b97b84bc3\", [{\"z\": [[0.0, 0.0, 0.0, 0.0, 0.0, 0.0, 0.0, 0.0, 0.0, 0.0], [0.0, 0.9897, 0.010300000000000002, 0.0, 0.0, 0.0, 0.0, 0.0, 0.0, 0.0], [0.0, 0.09929999999999999, 0.7827999999999998, 0.1105, 0.007400000000000001, 0.0, 0.0, 0.0, 0.0, 0.0], [0.0, 0.0013000000000000002, 0.3853, 0.3873, 0.172, 0.052500000000000005, 0.0016, 0.0, 0.0, 0.0], [0.0, 0.0, 0.0766, 0.28580000000000005, 0.30839999999999995, 0.2785, 0.0356, 0.013800000000000002, 0.0009000000000000001, 0.0004], [0.0, 0.0, 0.0082, 0.09090000000000001, 0.21740000000000004, 0.42899999999999994, 0.13859999999999997, 0.08420000000000001, 0.0188, 0.0129], [0.0, 0.0, 0.0007, 0.016000000000000004, 0.07780000000000001, 0.33590000000000003, 0.2162, 0.20450000000000004, 0.0856, 0.0633], [0.0, 0.0, 0.0, 0.0019, 0.019700000000000002, 0.1517, 0.19380000000000003, 0.25770000000000004, 0.1931, 0.18209999999999998], [0.0, 0.0, 0.0001, 0.0001, 0.0037000000000000006, 0.055700000000000006, 0.1076, 0.2213, 0.2754, 0.3361], [0.0, 0.0, 0.0, 0.0002, 0.0006000000000000001, 0.016500000000000004, 0.0475, 0.137, 0.3019, 0.4963]], \"colorscale\": \"Jet\", \"type\": \"heatmap\"}], {\"titlefont\": {\"color\": \"#FFF\"}, \"plot_bgcolor\": \"#000\", \"width\": 500, \"title\": \"Choice after 120000 Iterations at Glimpse 3\", \"paper_bgcolor\": \"#000\", \"font\": {\"color\": \"#FFF\"}, \"xaxis\": {\"title\": \"Predicted Class\", \"tickcolor\": \"#FFF\", \"range\": [0.5, 9.5], \"dtick\": 1}, \"height\": 500, \"yaxis\": {\"title\": \"True Class\", \"tickcolor\": \"#FFF\", \"range\": [9.5, 0.5], \"dtick\": 1}}, {\"showLink\": true, \"linkText\": \"Export to plot.ly\"})});</script>"
      ],
      "text/vnd.plotly.v1+html": [
       "<div id=\"c8e26846-8e74-4c9e-b5fa-174b97b84bc3\" style=\"height: 500px; width: 500px;\" class=\"plotly-graph-div\"></div><script type=\"text/javascript\">require([\"plotly\"], function(Plotly) { window.PLOTLYENV=window.PLOTLYENV || {};window.PLOTLYENV.BASE_URL=\"https://plot.ly\";Plotly.newPlot(\"c8e26846-8e74-4c9e-b5fa-174b97b84bc3\", [{\"z\": [[0.0, 0.0, 0.0, 0.0, 0.0, 0.0, 0.0, 0.0, 0.0, 0.0], [0.0, 0.9897, 0.010300000000000002, 0.0, 0.0, 0.0, 0.0, 0.0, 0.0, 0.0], [0.0, 0.09929999999999999, 0.7827999999999998, 0.1105, 0.007400000000000001, 0.0, 0.0, 0.0, 0.0, 0.0], [0.0, 0.0013000000000000002, 0.3853, 0.3873, 0.172, 0.052500000000000005, 0.0016, 0.0, 0.0, 0.0], [0.0, 0.0, 0.0766, 0.28580000000000005, 0.30839999999999995, 0.2785, 0.0356, 0.013800000000000002, 0.0009000000000000001, 0.0004], [0.0, 0.0, 0.0082, 0.09090000000000001, 0.21740000000000004, 0.42899999999999994, 0.13859999999999997, 0.08420000000000001, 0.0188, 0.0129], [0.0, 0.0, 0.0007, 0.016000000000000004, 0.07780000000000001, 0.33590000000000003, 0.2162, 0.20450000000000004, 0.0856, 0.0633], [0.0, 0.0, 0.0, 0.0019, 0.019700000000000002, 0.1517, 0.19380000000000003, 0.25770000000000004, 0.1931, 0.18209999999999998], [0.0, 0.0, 0.0001, 0.0001, 0.0037000000000000006, 0.055700000000000006, 0.1076, 0.2213, 0.2754, 0.3361], [0.0, 0.0, 0.0, 0.0002, 0.0006000000000000001, 0.016500000000000004, 0.0475, 0.137, 0.3019, 0.4963]], \"colorscale\": \"Jet\", \"type\": \"heatmap\"}], {\"titlefont\": {\"color\": \"#FFF\"}, \"plot_bgcolor\": \"#000\", \"width\": 500, \"title\": \"Choice after 120000 Iterations at Glimpse 3\", \"paper_bgcolor\": \"#000\", \"font\": {\"color\": \"#FFF\"}, \"xaxis\": {\"title\": \"Predicted Class\", \"tickcolor\": \"#FFF\", \"range\": [0.5, 9.5], \"dtick\": 1}, \"height\": 500, \"yaxis\": {\"title\": \"True Class\", \"tickcolor\": \"#FFF\", \"range\": [9.5, 0.5], \"dtick\": 1}}, {\"showLink\": true, \"linkText\": \"Export to plot.ly\"})});</script>"
      ]
     },
     "metadata": {},
     "output_type": "display_data"
    },
    {
     "data": {
      "application/vnd.plotly.v1+json": {
       "data": [
        {
         "colorscale": "Jet",
         "type": "heatmap",
         "z": [
          [
           0,
           0,
           0,
           0,
           0,
           0,
           0,
           0,
           0,
           0
          ],
          [
           0,
           0.9522096949249971,
           0.04610347632968566,
           0.0015418522425874764,
           7.982353056859807e-05,
           6.435010225607913e-05,
           3.3777389160354154e-07,
           4.616466586259571e-07,
           1.3836564764997461e-09,
           8.799225663387667e-09
          ],
          [
           0,
           0.09686880180673116,
           0.6656735160666875,
           0.1883448107928804,
           0.03992854607385541,
           0.008327083833892546,
           0.0007792803417685416,
           7.125850787671607e-05,
           5.69895293410524e-06,
           1.006696573072721e-06
          ],
          [
           0,
           0.0029221063820959146,
           0.3350452285088972,
           0.35228642256531495,
           0.19360977967207404,
           0.08999248698940693,
           0.020707065103933518,
           0.004530550230928985,
           0.0007572832132593641,
           0.00014907898381911092
          ],
          [
           0,
           9.684592374838856e-05,
           0.09578660848672509,
           0.2552324205226298,
           0.2788136532584671,
           0.2285545691119956,
           0.09138832697897059,
           0.036545648633970626,
           0.010345530415325238,
           0.0032363968460305407
          ],
          [
           0,
           6.895607121819221e-06,
           0.019551094273635446,
           0.11332903283386826,
           0.21822948637059164,
           0.29092791684667174,
           0.18116959272434932,
           0.10861478828260554,
           0.04682319545732426,
           0.021347997614870894
          ],
          [
           0,
           2.4713128592451503e-09,
           0.00334565824739627,
           0.03652793772064142,
           0.11691310279369518,
           0.24001531767130366,
           0.22124981319796352,
           0.19210788017541963,
           0.11921952123564084,
           0.07062076723546855
          ],
          [
           0,
           9.941815228700709e-13,
           0.0005460667361068189,
           0.010021192643591467,
           0.04835454547456226,
           0.14674147445782398,
           0.19231269197291112,
           0.23534926721228694,
           0.20567380477718905,
           0.16100095669994935
          ],
          [
           0,
           1.2313813808783242e-14,
           0.00011301586368127738,
           0.0025111118943266274,
           0.01844884884879163,
           0.07768686872621787,
           0.1376323296830713,
           0.22917550226606404,
           0.26806072922057117,
           0.26637159378491587
          ],
          [
           0,
           1.6426791151315546e-15,
           2.2598418955372073e-05,
           0.0007040497613897353,
           0.006327415095559954,
           0.03599333315659538,
           0.08511434216472226,
           0.1898999417953077,
           0.3004974318109453,
           0.3814408883760461
          ]
         ]
        }
       ],
       "layout": {
        "font": {
         "color": "#FFF"
        },
        "height": 500,
        "paper_bgcolor": "#000",
        "plot_bgcolor": "#000",
        "title": "Confidence after 120000 Iterations at Glimpse 9",
        "titlefont": {
         "color": "#FFF"
        },
        "width": 500,
        "xaxis": {
         "dtick": 1,
         "range": [
          0.5,
          9.5
         ],
         "tickcolor": "#FFF",
         "title": "Predicted Class"
        },
        "yaxis": {
         "dtick": 1,
         "range": [
          9.5,
          0.5
         ],
         "tickcolor": "#FFF",
         "title": "True Class"
        }
       }
      },
      "text/html": [
       "<div id=\"5625e4dc-837f-4ca5-a8bc-6fa232f7182a\" style=\"height: 500px; width: 500px;\" class=\"plotly-graph-div\"></div><script type=\"text/javascript\">require([\"plotly\"], function(Plotly) { window.PLOTLYENV=window.PLOTLYENV || {};window.PLOTLYENV.BASE_URL=\"https://plot.ly\";Plotly.newPlot(\"5625e4dc-837f-4ca5-a8bc-6fa232f7182a\", [{\"z\": [[0.0, 0.0, 0.0, 0.0, 0.0, 0.0, 0.0, 0.0, 0.0, 0.0], [0.0, 0.9522096949249971, 0.04610347632968566, 0.0015418522425874764, 7.982353056859807e-05, 6.435010225607913e-05, 3.3777389160354154e-07, 4.616466586259571e-07, 1.3836564764997461e-09, 8.799225663387667e-09], [0.0, 0.09686880180673116, 0.6656735160666875, 0.1883448107928804, 0.03992854607385541, 0.008327083833892546, 0.0007792803417685416, 7.125850787671607e-05, 5.69895293410524e-06, 1.006696573072721e-06], [0.0, 0.0029221063820959146, 0.3350452285088972, 0.35228642256531495, 0.19360977967207404, 0.08999248698940693, 0.020707065103933518, 0.004530550230928985, 0.0007572832132593641, 0.00014907898381911092], [0.0, 9.684592374838856e-05, 0.09578660848672509, 0.2552324205226298, 0.2788136532584671, 0.2285545691119956, 0.09138832697897059, 0.036545648633970626, 0.010345530415325238, 0.0032363968460305407], [0.0, 6.895607121819221e-06, 0.019551094273635446, 0.11332903283386826, 0.21822948637059164, 0.29092791684667174, 0.18116959272434932, 0.10861478828260554, 0.04682319545732426, 0.021347997614870894], [0.0, 2.4713128592451503e-09, 0.00334565824739627, 0.03652793772064142, 0.11691310279369518, 0.24001531767130366, 0.22124981319796352, 0.19210788017541963, 0.11921952123564084, 0.07062076723546855], [0.0, 9.941815228700709e-13, 0.0005460667361068189, 0.010021192643591467, 0.04835454547456226, 0.14674147445782398, 0.19231269197291112, 0.23534926721228694, 0.20567380477718905, 0.16100095669994935], [0.0, 1.2313813808783242e-14, 0.00011301586368127738, 0.0025111118943266274, 0.01844884884879163, 0.07768686872621787, 0.1376323296830713, 0.22917550226606404, 0.26806072922057117, 0.26637159378491587], [0.0, 1.6426791151315546e-15, 2.2598418955372073e-05, 0.0007040497613897353, 0.006327415095559954, 0.03599333315659538, 0.08511434216472226, 0.1898999417953077, 0.3004974318109453, 0.3814408883760461]], \"colorscale\": \"Jet\", \"type\": \"heatmap\"}], {\"titlefont\": {\"color\": \"#FFF\"}, \"plot_bgcolor\": \"#000\", \"width\": 500, \"title\": \"Confidence after 120000 Iterations at Glimpse 9\", \"paper_bgcolor\": \"#000\", \"font\": {\"color\": \"#FFF\"}, \"xaxis\": {\"title\": \"Predicted Class\", \"tickcolor\": \"#FFF\", \"range\": [0.5, 9.5], \"dtick\": 1}, \"height\": 500, \"yaxis\": {\"title\": \"True Class\", \"tickcolor\": \"#FFF\", \"range\": [9.5, 0.5], \"dtick\": 1}}, {\"showLink\": true, \"linkText\": \"Export to plot.ly\"})});</script>"
      ],
      "text/vnd.plotly.v1+html": [
       "<div id=\"5625e4dc-837f-4ca5-a8bc-6fa232f7182a\" style=\"height: 500px; width: 500px;\" class=\"plotly-graph-div\"></div><script type=\"text/javascript\">require([\"plotly\"], function(Plotly) { window.PLOTLYENV=window.PLOTLYENV || {};window.PLOTLYENV.BASE_URL=\"https://plot.ly\";Plotly.newPlot(\"5625e4dc-837f-4ca5-a8bc-6fa232f7182a\", [{\"z\": [[0.0, 0.0, 0.0, 0.0, 0.0, 0.0, 0.0, 0.0, 0.0, 0.0], [0.0, 0.9522096949249971, 0.04610347632968566, 0.0015418522425874764, 7.982353056859807e-05, 6.435010225607913e-05, 3.3777389160354154e-07, 4.616466586259571e-07, 1.3836564764997461e-09, 8.799225663387667e-09], [0.0, 0.09686880180673116, 0.6656735160666875, 0.1883448107928804, 0.03992854607385541, 0.008327083833892546, 0.0007792803417685416, 7.125850787671607e-05, 5.69895293410524e-06, 1.006696573072721e-06], [0.0, 0.0029221063820959146, 0.3350452285088972, 0.35228642256531495, 0.19360977967207404, 0.08999248698940693, 0.020707065103933518, 0.004530550230928985, 0.0007572832132593641, 0.00014907898381911092], [0.0, 9.684592374838856e-05, 0.09578660848672509, 0.2552324205226298, 0.2788136532584671, 0.2285545691119956, 0.09138832697897059, 0.036545648633970626, 0.010345530415325238, 0.0032363968460305407], [0.0, 6.895607121819221e-06, 0.019551094273635446, 0.11332903283386826, 0.21822948637059164, 0.29092791684667174, 0.18116959272434932, 0.10861478828260554, 0.04682319545732426, 0.021347997614870894], [0.0, 2.4713128592451503e-09, 0.00334565824739627, 0.03652793772064142, 0.11691310279369518, 0.24001531767130366, 0.22124981319796352, 0.19210788017541963, 0.11921952123564084, 0.07062076723546855], [0.0, 9.941815228700709e-13, 0.0005460667361068189, 0.010021192643591467, 0.04835454547456226, 0.14674147445782398, 0.19231269197291112, 0.23534926721228694, 0.20567380477718905, 0.16100095669994935], [0.0, 1.2313813808783242e-14, 0.00011301586368127738, 0.0025111118943266274, 0.01844884884879163, 0.07768686872621787, 0.1376323296830713, 0.22917550226606404, 0.26806072922057117, 0.26637159378491587], [0.0, 1.6426791151315546e-15, 2.2598418955372073e-05, 0.0007040497613897353, 0.006327415095559954, 0.03599333315659538, 0.08511434216472226, 0.1898999417953077, 0.3004974318109453, 0.3814408883760461]], \"colorscale\": \"Jet\", \"type\": \"heatmap\"}], {\"titlefont\": {\"color\": \"#FFF\"}, \"plot_bgcolor\": \"#000\", \"width\": 500, \"title\": \"Confidence after 120000 Iterations at Glimpse 9\", \"paper_bgcolor\": \"#000\", \"font\": {\"color\": \"#FFF\"}, \"xaxis\": {\"title\": \"Predicted Class\", \"tickcolor\": \"#FFF\", \"range\": [0.5, 9.5], \"dtick\": 1}, \"height\": 500, \"yaxis\": {\"title\": \"True Class\", \"tickcolor\": \"#FFF\", \"range\": [9.5, 0.5], \"dtick\": 1}}, {\"showLink\": true, \"linkText\": \"Export to plot.ly\"})});</script>"
      ]
     },
     "metadata": {},
     "output_type": "display_data"
    },
    {
     "data": {
      "application/vnd.plotly.v1+json": {
       "data": [
        {
         "colorscale": "Jet",
         "type": "heatmap",
         "z": [
          [
           0,
           0,
           0,
           0,
           0,
           0,
           0,
           0,
           0,
           0
          ],
          [
           0,
           0.9873,
           0.0127,
           0,
           0,
           0,
           0,
           0,
           0,
           0
          ],
          [
           0,
           0.08839999999999999,
           0.7775000000000001,
           0.1264,
           0.0075,
           0.0002,
           0,
           0,
           0,
           0
          ],
          [
           0,
           0.0015,
           0.3517,
           0.4292999999999999,
           0.15999999999999998,
           0.0558,
           0.0015,
           0.0002,
           0,
           0
          ],
          [
           0,
           0,
           0.0688,
           0.30400000000000005,
           0.2932,
           0.2808999999999999,
           0.0398,
           0.0124,
           0.0004,
           0.0005
          ],
          [
           0,
           0,
           0.0066,
           0.0951,
           0.20529999999999998,
           0.4372999999999999,
           0.148,
           0.0805,
           0.0164,
           0.0108
          ],
          [
           0,
           0,
           0.0005,
           0.016100000000000003,
           0.0754,
           0.32450000000000007,
           0.2433,
           0.1982,
           0.0846,
           0.05739999999999999
          ],
          [
           0,
           0,
           0,
           0.0024999999999999996,
           0.0173,
           0.1517,
           0.19929999999999998,
           0.2573,
           0.1948,
           0.17709999999999998
          ],
          [
           0,
           0,
           0,
           0.0001,
           0.0036,
           0.0536,
           0.1127,
           0.2172,
           0.28440000000000004,
           0.3284
          ],
          [
           0,
           0,
           0,
           0.0001,
           0.0004,
           0.014199999999999999,
           0.0461,
           0.14100000000000001,
           0.3191,
           0.47909999999999997
          ]
         ]
        }
       ],
       "layout": {
        "font": {
         "color": "#FFF"
        },
        "height": 500,
        "paper_bgcolor": "#000",
        "plot_bgcolor": "#000",
        "title": "Choice after 120000 Iterations at Glimpse 9",
        "titlefont": {
         "color": "#FFF"
        },
        "width": 500,
        "xaxis": {
         "dtick": 1,
         "range": [
          0.5,
          9.5
         ],
         "tickcolor": "#FFF",
         "title": "Predicted Class"
        },
        "yaxis": {
         "dtick": 1,
         "range": [
          9.5,
          0.5
         ],
         "tickcolor": "#FFF",
         "title": "True Class"
        }
       }
      },
      "text/html": [
       "<div id=\"a317fb45-23e7-4cd7-9d49-e7ad2a791036\" style=\"height: 500px; width: 500px;\" class=\"plotly-graph-div\"></div><script type=\"text/javascript\">require([\"plotly\"], function(Plotly) { window.PLOTLYENV=window.PLOTLYENV || {};window.PLOTLYENV.BASE_URL=\"https://plot.ly\";Plotly.newPlot(\"a317fb45-23e7-4cd7-9d49-e7ad2a791036\", [{\"z\": [[0.0, 0.0, 0.0, 0.0, 0.0, 0.0, 0.0, 0.0, 0.0, 0.0], [0.0, 0.9873, 0.0127, 0.0, 0.0, 0.0, 0.0, 0.0, 0.0, 0.0], [0.0, 0.08839999999999999, 0.7775000000000001, 0.1264, 0.0075, 0.0002, 0.0, 0.0, 0.0, 0.0], [0.0, 0.0015, 0.3517, 0.4292999999999999, 0.15999999999999998, 0.0558, 0.0015, 0.0002, 0.0, 0.0], [0.0, 0.0, 0.0688, 0.30400000000000005, 0.2932, 0.2808999999999999, 0.0398, 0.0124, 0.0004, 0.0005], [0.0, 0.0, 0.0066, 0.0951, 0.20529999999999998, 0.4372999999999999, 0.148, 0.0805, 0.0164, 0.0108], [0.0, 0.0, 0.0005, 0.016100000000000003, 0.0754, 0.32450000000000007, 0.2433, 0.1982, 0.0846, 0.05739999999999999], [0.0, 0.0, 0.0, 0.0024999999999999996, 0.0173, 0.1517, 0.19929999999999998, 0.2573, 0.1948, 0.17709999999999998], [0.0, 0.0, 0.0, 0.0001, 0.0036, 0.0536, 0.1127, 0.2172, 0.28440000000000004, 0.3284], [0.0, 0.0, 0.0, 0.0001, 0.0004, 0.014199999999999999, 0.0461, 0.14100000000000001, 0.3191, 0.47909999999999997]], \"colorscale\": \"Jet\", \"type\": \"heatmap\"}], {\"titlefont\": {\"color\": \"#FFF\"}, \"plot_bgcolor\": \"#000\", \"width\": 500, \"title\": \"Choice after 120000 Iterations at Glimpse 9\", \"paper_bgcolor\": \"#000\", \"font\": {\"color\": \"#FFF\"}, \"xaxis\": {\"title\": \"Predicted Class\", \"tickcolor\": \"#FFF\", \"range\": [0.5, 9.5], \"dtick\": 1}, \"height\": 500, \"yaxis\": {\"title\": \"True Class\", \"tickcolor\": \"#FFF\", \"range\": [9.5, 0.5], \"dtick\": 1}}, {\"showLink\": true, \"linkText\": \"Export to plot.ly\"})});</script>"
      ],
      "text/vnd.plotly.v1+html": [
       "<div id=\"a317fb45-23e7-4cd7-9d49-e7ad2a791036\" style=\"height: 500px; width: 500px;\" class=\"plotly-graph-div\"></div><script type=\"text/javascript\">require([\"plotly\"], function(Plotly) { window.PLOTLYENV=window.PLOTLYENV || {};window.PLOTLYENV.BASE_URL=\"https://plot.ly\";Plotly.newPlot(\"a317fb45-23e7-4cd7-9d49-e7ad2a791036\", [{\"z\": [[0.0, 0.0, 0.0, 0.0, 0.0, 0.0, 0.0, 0.0, 0.0, 0.0], [0.0, 0.9873, 0.0127, 0.0, 0.0, 0.0, 0.0, 0.0, 0.0, 0.0], [0.0, 0.08839999999999999, 0.7775000000000001, 0.1264, 0.0075, 0.0002, 0.0, 0.0, 0.0, 0.0], [0.0, 0.0015, 0.3517, 0.4292999999999999, 0.15999999999999998, 0.0558, 0.0015, 0.0002, 0.0, 0.0], [0.0, 0.0, 0.0688, 0.30400000000000005, 0.2932, 0.2808999999999999, 0.0398, 0.0124, 0.0004, 0.0005], [0.0, 0.0, 0.0066, 0.0951, 0.20529999999999998, 0.4372999999999999, 0.148, 0.0805, 0.0164, 0.0108], [0.0, 0.0, 0.0005, 0.016100000000000003, 0.0754, 0.32450000000000007, 0.2433, 0.1982, 0.0846, 0.05739999999999999], [0.0, 0.0, 0.0, 0.0024999999999999996, 0.0173, 0.1517, 0.19929999999999998, 0.2573, 0.1948, 0.17709999999999998], [0.0, 0.0, 0.0, 0.0001, 0.0036, 0.0536, 0.1127, 0.2172, 0.28440000000000004, 0.3284], [0.0, 0.0, 0.0, 0.0001, 0.0004, 0.014199999999999999, 0.0461, 0.14100000000000001, 0.3191, 0.47909999999999997]], \"colorscale\": \"Jet\", \"type\": \"heatmap\"}], {\"titlefont\": {\"color\": \"#FFF\"}, \"plot_bgcolor\": \"#000\", \"width\": 500, \"title\": \"Choice after 120000 Iterations at Glimpse 9\", \"paper_bgcolor\": \"#000\", \"font\": {\"color\": \"#FFF\"}, \"xaxis\": {\"title\": \"Predicted Class\", \"tickcolor\": \"#FFF\", \"range\": [0.5, 9.5], \"dtick\": 1}, \"height\": 500, \"yaxis\": {\"title\": \"True Class\", \"tickcolor\": \"#FFF\", \"range\": [9.5, 0.5], \"dtick\": 1}}, {\"showLink\": true, \"linkText\": \"Export to plot.ly\"})});</script>"
      ]
     },
     "metadata": {},
     "output_type": "display_data"
    }
   ],
   "source": [
    "for i, it in enumerate(iter_list):\n",
    "    for g, glimpse in enumerate(glimpse_list):\n",
    "        plot_confidence(i, it, g, glimpse)\n",
    "        plot_choice(i, it, g, glimpse)"
   ]
  },
  {
   "cell_type": "code",
   "execution_count": 9,
   "metadata": {},
   "outputs": [],
   "source": [
    "np.save(\"confidence_hist\", confidence_all_runs)\n",
    "np.save(\"choice_hist\", choice_all_runs)"
   ]
  },
  {
   "cell_type": "markdown",
   "metadata": {},
   "source": [
    "## Work with Saved Histogram Data"
   ]
  },
  {
   "cell_type": "code",
   "execution_count": 10,
   "metadata": {
    "collapsed": true
   },
   "outputs": [],
   "source": [
    "confidence_hist = np.load('confidence_hist.npy')\n",
    "choice_hist = np.load('choice_hist.npy')"
   ]
  },
  {
   "cell_type": "code",
   "execution_count": 73,
   "metadata": {},
   "outputs": [],
   "source": [
    "def get_msdcv(hist_matrix):\n",
    "    \"\"\"Get the mean, standard deviation, and coefficient of variation matrices from histogram matrix.\"\"\"\n",
    "    \n",
    "    msdcv = np.zeros([num_runs, num_iters, num_glimpses, z_size, 3])\n",
    "    \n",
    "    for run in range(num_runs):\n",
    "        for i, it in enumerate(iter_list):\n",
    "            for g, glimpse in enumerate(glimpse_list):\n",
    "                for t in range(z_size):\n",
    "                    values_sum = 0\n",
    "                    sqr_sum = 0\n",
    "\n",
    "                    # Find the mean\n",
    "                    for p in range(z_size):\n",
    "                        values_sum = values_sum + (p + 1) * hist_matrix[run, i, g, t, p]\n",
    "                    msdcv[run, i, g, t, 0] = mu = values_sum\n",
    "\n",
    "                    # Find the standard deviation\n",
    "                    for p in range(z_size):\n",
    "                        sqr_sum += (p + 1)**2 * hist_matrix[run, i, g, t, p]\n",
    "                    sqr_sum -= mu ** 2\n",
    "                    msdcv[run, i, g, t, 1] = sigma = np.sqrt(sqr_sum)\n",
    "\n",
    "                    # Find the coefficient of variation\n",
    "                    msdcv[run, i, g, t, 2] = cv = sigma / mu\n",
    "    return msdcv"
   ]
  },
  {
   "cell_type": "code",
   "execution_count": 74,
   "metadata": {},
   "outputs": [],
   "source": [
    "confidence_msdcv = get_msdcv(confidence_hist)\n",
    "choice_msdcv = get_msdcv(choice_hist)"
   ]
  },
  {
   "cell_type": "code",
   "execution_count": 75,
   "metadata": {
    "collapsed": true
   },
   "outputs": [],
   "source": [
    "np.save(\"confidence_msdcv\", confidence_msdcv)\n",
    "np.save(\"choice_msdcv\", choice_msdcv)"
   ]
  },
  {
   "cell_type": "markdown",
   "metadata": {},
   "source": [
    "## Visualize Mean, Standard Deviation, and Coefficient of Variation"
   ]
  },
  {
   "cell_type": "code",
   "execution_count": 76,
   "metadata": {},
   "outputs": [],
   "source": [
    "confidence_msdcv = np.load('confidence_msdcv.npy')\n",
    "choice_msdcv = np.load('choice_msdcv.npy')"
   ]
  },
  {
   "cell_type": "code",
   "execution_count": 77,
   "metadata": {
    "collapsed": true
   },
   "outputs": [],
   "source": [
    "confidence_msdcv_avg = np.mean(confidence_msdcv, axis=0)\n",
    "choice_msdcv_avg = np.mean(choice_msdcv, axis=0)\n",
    "\n",
    "def plot_confidence_msdcv(iter_idx, it, g, glimpse, run=None):\n",
    "    \"\"\"Plot the confidence linegraphs.\"\"\"\n",
    "    \n",
    "    if run is None:\n",
    "        matrix = confidence_msdcv_avg[iter_idx, g]\n",
    "        plot_title = \"Confidence after %d Iterations at Glimpse %d\" % (it, glimpse)\n",
    "\n",
    "    else:\n",
    "        matrix = confidence_msdcv[run, iter_idx, g]\n",
    "        plot_title = \"Confidence at Run %d after %d Iterations at Glimpse %d\" % (run + 1, it, glimpse)\n",
    "    plot_linegraphs(matrix, plot_title)\n",
    "\n",
    "\n",
    "def plot_choice_msdcv(iter_idx, it, g, glimpse, run=None):\n",
    "    \"\"\"Plot the choice linegraphs.\"\"\"\n",
    "    \n",
    "    if run is None:\n",
    "        matrix = choice_msdcv_avg[iter_idx, g]\n",
    "        plot_title = \"Choice after %d Iterations at Glimpse %d\" % (it, glimpse)\n",
    "    else:\n",
    "        matrix = choice_msdcv[run, iter_idx, g]\n",
    "        plot_title = \"Choice at Run %d after %d Iterations at Glimpse %d\" % (run + 1, it, glimpse)\n",
    "    plot_linegraphs(matrix, plot_title)\n",
    "    \n",
    "    \n",
    "def plot_linegraphs(matrix, plot_title):\n",
    "    \"\"\"Plot mean, stdev, and cv linegraphs.\"\"\"\n",
    "    \n",
    "    plot_msd(matrix, plot_title)\n",
    "    plot_cv(matrix, plot_title)"
   ]
  },
  {
   "cell_type": "code",
   "execution_count": 78,
   "metadata": {
    "collapsed": true
   },
   "outputs": [],
   "source": [
    "def plot_msd(matrix, plot_title):\n",
    "    \"\"\"Plot the mean and standard deviation in the same graph.\"\"\"\n",
    "    \n",
    "    x_values = np.array(range(min_blobs, max_blobs + 1))\n",
    "    y_mu = matrix[:, 0]\n",
    "    y_sigma = matrix[:, 1]\n",
    "    m = 0.5\n",
    "    \n",
    "    # Create traces\n",
    "    mu_trace = go.Scatter(\n",
    "        x = x_values,\n",
    "        y = y_mu,\n",
    "        name='Mean',\n",
    "    )\n",
    "    sigma_trace = go.Scatter(\n",
    "        x = x_values,\n",
    "        y = y_sigma,\n",
    "        name='Standard Deviation',\n",
    "        yaxis='y2'\n",
    "    )\n",
    "\n",
    "    data = [mu_trace, sigma_trace]\n",
    "    \n",
    "    layout = go.Layout(\n",
    "        title=plot_title,\n",
    "        yaxis=dict(\n",
    "            range=[min_blobs - m, max_blobs + m],\n",
    "            title=\"Mean\",\n",
    "            dtick=1,\n",
    "            tickcolor='#FFF',\n",
    "        ),\n",
    "        yaxis2=dict(\n",
    "            range=[0, 3],\n",
    "            title='Standard Deviation',\n",
    "            tickcolor='#FFF',\n",
    "            overlaying='y',\n",
    "            side='right',\n",
    "            gridcolor='#999',\n",
    "        ),\n",
    "        xaxis=dict(\n",
    "            range=[min_blobs - m, max_blobs + m],\n",
    "            title=\"True Class\",\n",
    "            dtick=1,\n",
    "            tickcolor='#FFF'\n",
    "        ),\n",
    "        width=500,\n",
    "        height=500,\n",
    "        plot_bgcolor=\"#000\",\n",
    "        paper_bgcolor=\"#000\",\n",
    "        font=dict(\n",
    "            color=\"#FFF\"\n",
    "        ),\n",
    "        titlefont=dict(\n",
    "            color=\"#FFF\"\n",
    "        ),\n",
    "        legend=dict(x=0, y=1),\n",
    "    )\n",
    "    fig = go.Figure(data=data, layout=layout)\n",
    "    iplot(fig)"
   ]
  },
  {
   "cell_type": "code",
   "execution_count": 79,
   "metadata": {
    "collapsed": true
   },
   "outputs": [],
   "source": [
    "def plot_cv(matrix, plot_title):\n",
    "    \"\"\"Plot the coefficient of variation.\"\"\"\n",
    "        \n",
    "    x_values = np.array(range(min_blobs, max_blobs + 1))\n",
    "    y_cv = matrix[:, 2]\n",
    "    m = 0.5\n",
    "\n",
    "    cv_trace = go.Scatter(\n",
    "        x = x_values,\n",
    "        y = y_cv,\n",
    "        name='Coefficient of Variation'\n",
    "    )\n",
    "    data = [cv_trace]\n",
    "    \n",
    "    layout = go.Layout(\n",
    "        title=plot_title,\n",
    "        yaxis=dict(\n",
    "            title=\"Coefficient of Variation\",\n",
    "            tickcolor='#FFF',\n",
    "            showgrid=True\n",
    "        ),\n",
    "        xaxis=dict(\n",
    "            range=[min_blobs - m, max_blobs + m],\n",
    "            title=\"True Class\",\n",
    "            dtick=1,\n",
    "            tickcolor='#FFF'\n",
    "        ),\n",
    "        width=500,\n",
    "        height=300,\n",
    "        plot_bgcolor=\"#000\",\n",
    "        paper_bgcolor=\"#000\",\n",
    "        font=dict(\n",
    "            color=\"#FFF\"\n",
    "        ),\n",
    "        titlefont=dict(\n",
    "            color=\"#FFF\"\n",
    "        ),\n",
    "    )\n",
    "    fig = go.Figure(data=data, layout=layout)\n",
    "    iplot(fig)"
   ]
  },
  {
   "cell_type": "code",
   "execution_count": 80,
   "metadata": {
    "scrolled": false
   },
   "outputs": [
    {
     "data": {
      "application/vnd.plotly.v1+json": {
       "data": [
        {
         "name": "Mean",
         "type": "scatter",
         "x": [
          1,
          2,
          3,
          4,
          5,
          6,
          7,
          8,
          9
         ],
         "y": [
          1.3076303150295279,
          2.212191932774658,
          3.21090094341229,
          4.171782821997645,
          5.02278192995851,
          5.7353208720236974,
          6.293001531679137,
          6.75249317250451,
          7.114764505279604
         ]
        },
        {
         "name": "Standard Deviation",
         "type": "scatter",
         "x": [
          1,
          2,
          3,
          4,
          5,
          6,
          7,
          8,
          9
         ],
         "y": [
          1.2028790253022197,
          1.6194339553146442,
          1.8788436970843196,
          2.0381703965258327,
          2.108560946337402,
          2.0974865090079535,
          2.042603425552122,
          1.9509600154221,
          1.8539379885980893
         ],
         "yaxis": "y2"
        }
       ],
       "layout": {
        "font": {
         "color": "#FFF"
        },
        "height": 500,
        "legend": {
         "x": 0,
         "y": 1
        },
        "paper_bgcolor": "#000",
        "plot_bgcolor": "#000",
        "title": "Confidence after 50000 Iterations at Glimpse 0",
        "titlefont": {
         "color": "#FFF"
        },
        "width": 500,
        "xaxis": {
         "dtick": 1,
         "range": [
          0.5,
          9.5
         ],
         "tickcolor": "#FFF",
         "title": "True Class"
        },
        "yaxis": {
         "dtick": 1,
         "range": [
          0.5,
          9.5
         ],
         "tickcolor": "#FFF",
         "title": "Mean"
        },
        "yaxis2": {
         "gridcolor": "#999",
         "overlaying": "y",
         "range": [
          0,
          3
         ],
         "side": "right",
         "tickcolor": "#FFF",
         "title": "Standard Deviation"
        }
       }
      },
      "text/html": [
       "<div id=\"ae30ea47-e1c2-45c6-9c3d-00809e6bc0df\" style=\"height: 500px; width: 500px;\" class=\"plotly-graph-div\"></div><script type=\"text/javascript\">require([\"plotly\"], function(Plotly) { window.PLOTLYENV=window.PLOTLYENV || {};window.PLOTLYENV.BASE_URL=\"https://plot.ly\";Plotly.newPlot(\"ae30ea47-e1c2-45c6-9c3d-00809e6bc0df\", [{\"y\": [1.3076303150295279, 2.212191932774658, 3.21090094341229, 4.171782821997645, 5.02278192995851, 5.7353208720236974, 6.293001531679137, 6.75249317250451, 7.114764505279604], \"name\": \"Mean\", \"x\": [1, 2, 3, 4, 5, 6, 7, 8, 9], \"type\": \"scatter\"}, {\"y\": [1.2028790253022197, 1.6194339553146442, 1.8788436970843196, 2.0381703965258327, 2.108560946337402, 2.0974865090079535, 2.042603425552122, 1.9509600154221, 1.8539379885980893], \"type\": \"scatter\", \"name\": \"Standard Deviation\", \"x\": [1, 2, 3, 4, 5, 6, 7, 8, 9], \"yaxis\": \"y2\"}], {\"titlefont\": {\"color\": \"#FFF\"}, \"plot_bgcolor\": \"#000\", \"yaxis2\": {\"title\": \"Standard Deviation\", \"tickcolor\": \"#FFF\", \"range\": [0, 3], \"gridcolor\": \"#999\", \"overlaying\": \"y\", \"side\": \"right\"}, \"legend\": {\"y\": 1, \"x\": 0}, \"paper_bgcolor\": \"#000\", \"font\": {\"color\": \"#FFF\"}, \"yaxis\": {\"title\": \"Mean\", \"tickcolor\": \"#FFF\", \"range\": [0.5, 9.5], \"dtick\": 1}, \"xaxis\": {\"title\": \"True Class\", \"tickcolor\": \"#FFF\", \"range\": [0.5, 9.5], \"dtick\": 1}, \"height\": 500, \"width\": 500, \"title\": \"Confidence after 50000 Iterations at Glimpse 0\"}, {\"showLink\": true, \"linkText\": \"Export to plot.ly\"})});</script>"
      ],
      "text/vnd.plotly.v1+html": [
       "<div id=\"ae30ea47-e1c2-45c6-9c3d-00809e6bc0df\" style=\"height: 500px; width: 500px;\" class=\"plotly-graph-div\"></div><script type=\"text/javascript\">require([\"plotly\"], function(Plotly) { window.PLOTLYENV=window.PLOTLYENV || {};window.PLOTLYENV.BASE_URL=\"https://plot.ly\";Plotly.newPlot(\"ae30ea47-e1c2-45c6-9c3d-00809e6bc0df\", [{\"y\": [1.3076303150295279, 2.212191932774658, 3.21090094341229, 4.171782821997645, 5.02278192995851, 5.7353208720236974, 6.293001531679137, 6.75249317250451, 7.114764505279604], \"name\": \"Mean\", \"x\": [1, 2, 3, 4, 5, 6, 7, 8, 9], \"type\": \"scatter\"}, {\"y\": [1.2028790253022197, 1.6194339553146442, 1.8788436970843196, 2.0381703965258327, 2.108560946337402, 2.0974865090079535, 2.042603425552122, 1.9509600154221, 1.8539379885980893], \"type\": \"scatter\", \"name\": \"Standard Deviation\", \"x\": [1, 2, 3, 4, 5, 6, 7, 8, 9], \"yaxis\": \"y2\"}], {\"titlefont\": {\"color\": \"#FFF\"}, \"plot_bgcolor\": \"#000\", \"yaxis2\": {\"title\": \"Standard Deviation\", \"tickcolor\": \"#FFF\", \"range\": [0, 3], \"gridcolor\": \"#999\", \"overlaying\": \"y\", \"side\": \"right\"}, \"legend\": {\"y\": 1, \"x\": 0}, \"paper_bgcolor\": \"#000\", \"font\": {\"color\": \"#FFF\"}, \"yaxis\": {\"title\": \"Mean\", \"tickcolor\": \"#FFF\", \"range\": [0.5, 9.5], \"dtick\": 1}, \"xaxis\": {\"title\": \"True Class\", \"tickcolor\": \"#FFF\", \"range\": [0.5, 9.5], \"dtick\": 1}, \"height\": 500, \"width\": 500, \"title\": \"Confidence after 50000 Iterations at Glimpse 0\"}, {\"showLink\": true, \"linkText\": \"Export to plot.ly\"})});</script>"
      ]
     },
     "metadata": {},
     "output_type": "display_data"
    },
    {
     "data": {
      "application/vnd.plotly.v1+json": {
       "data": [
        {
         "name": "Coefficient of Variation",
         "type": "scatter",
         "x": [
          1,
          2,
          3,
          4,
          5,
          6,
          7,
          8,
          9
         ],
         "y": [
          0.9193952848161612,
          0.7300331507149423,
          0.5841588917057304,
          0.4881928773092369,
          0.4204249527938571,
          0.36670816439705545,
          0.32610402540702144,
          0.2906217695806391,
          0.26232582800354776
         ]
        }
       ],
       "layout": {
        "font": {
         "color": "#FFF"
        },
        "height": 300,
        "paper_bgcolor": "#000",
        "plot_bgcolor": "#000",
        "title": "Confidence after 50000 Iterations at Glimpse 0",
        "titlefont": {
         "color": "#FFF"
        },
        "width": 500,
        "xaxis": {
         "dtick": 1,
         "range": [
          0.5,
          9.5
         ],
         "tickcolor": "#FFF",
         "title": "True Class"
        },
        "yaxis": {
         "showgrid": true,
         "tickcolor": "#FFF",
         "title": "Coefficient of Variation"
        }
       }
      },
      "text/html": [
       "<div id=\"070c04c4-47b0-4995-86a1-67db92e8990d\" style=\"height: 300px; width: 500px;\" class=\"plotly-graph-div\"></div><script type=\"text/javascript\">require([\"plotly\"], function(Plotly) { window.PLOTLYENV=window.PLOTLYENV || {};window.PLOTLYENV.BASE_URL=\"https://plot.ly\";Plotly.newPlot(\"070c04c4-47b0-4995-86a1-67db92e8990d\", [{\"y\": [0.9193952848161612, 0.7300331507149423, 0.5841588917057304, 0.4881928773092369, 0.4204249527938571, 0.36670816439705545, 0.32610402540702144, 0.2906217695806391, 0.26232582800354776], \"name\": \"Coefficient of Variation\", \"x\": [1, 2, 3, 4, 5, 6, 7, 8, 9], \"type\": \"scatter\"}], {\"titlefont\": {\"color\": \"#FFF\"}, \"plot_bgcolor\": \"#000\", \"width\": 500, \"title\": \"Confidence after 50000 Iterations at Glimpse 0\", \"paper_bgcolor\": \"#000\", \"font\": {\"color\": \"#FFF\"}, \"xaxis\": {\"title\": \"True Class\", \"tickcolor\": \"#FFF\", \"range\": [0.5, 9.5], \"dtick\": 1}, \"height\": 300, \"yaxis\": {\"showgrid\": true, \"tickcolor\": \"#FFF\", \"title\": \"Coefficient of Variation\"}}, {\"showLink\": true, \"linkText\": \"Export to plot.ly\"})});</script>"
      ],
      "text/vnd.plotly.v1+html": [
       "<div id=\"070c04c4-47b0-4995-86a1-67db92e8990d\" style=\"height: 300px; width: 500px;\" class=\"plotly-graph-div\"></div><script type=\"text/javascript\">require([\"plotly\"], function(Plotly) { window.PLOTLYENV=window.PLOTLYENV || {};window.PLOTLYENV.BASE_URL=\"https://plot.ly\";Plotly.newPlot(\"070c04c4-47b0-4995-86a1-67db92e8990d\", [{\"y\": [0.9193952848161612, 0.7300331507149423, 0.5841588917057304, 0.4881928773092369, 0.4204249527938571, 0.36670816439705545, 0.32610402540702144, 0.2906217695806391, 0.26232582800354776], \"name\": \"Coefficient of Variation\", \"x\": [1, 2, 3, 4, 5, 6, 7, 8, 9], \"type\": \"scatter\"}], {\"titlefont\": {\"color\": \"#FFF\"}, \"plot_bgcolor\": \"#000\", \"width\": 500, \"title\": \"Confidence after 50000 Iterations at Glimpse 0\", \"paper_bgcolor\": \"#000\", \"font\": {\"color\": \"#FFF\"}, \"xaxis\": {\"title\": \"True Class\", \"tickcolor\": \"#FFF\", \"range\": [0.5, 9.5], \"dtick\": 1}, \"height\": 300, \"yaxis\": {\"showgrid\": true, \"tickcolor\": \"#FFF\", \"title\": \"Coefficient of Variation\"}}, {\"showLink\": true, \"linkText\": \"Export to plot.ly\"})});</script>"
      ]
     },
     "metadata": {},
     "output_type": "display_data"
    },
    {
     "data": {
      "application/vnd.plotly.v1+json": {
       "data": [
        {
         "name": "Mean",
         "type": "scatter",
         "x": [
          1,
          2,
          3,
          4,
          5,
          6,
          7,
          8,
          9
         ],
         "y": [
          1.0494999999999997,
          1.8079,
          2.7855999999999996,
          3.803,
          4.766900000000001,
          5.6036,
          6.3214999999999995,
          6.8867,
          7.335500000000001
         ]
        },
        {
         "name": "Standard Deviation",
         "type": "scatter",
         "x": [
          1,
          2,
          3,
          4,
          5,
          6,
          7,
          8,
          9
         ],
         "y": [
          1.0280361232805966,
          1.3136294341377286,
          1.5653711265901369,
          1.7688377495976997,
          1.8882665087765456,
          1.950904569303961,
          1.9454203050226286,
          1.8622991595042895,
          1.7531119177049146
         ],
         "yaxis": "y2"
        }
       ],
       "layout": {
        "font": {
         "color": "#FFF"
        },
        "height": 500,
        "legend": {
         "x": 0,
         "y": 1
        },
        "paper_bgcolor": "#000",
        "plot_bgcolor": "#000",
        "title": "Choice after 50000 Iterations at Glimpse 0",
        "titlefont": {
         "color": "#FFF"
        },
        "width": 500,
        "xaxis": {
         "dtick": 1,
         "range": [
          0.5,
          9.5
         ],
         "tickcolor": "#FFF",
         "title": "True Class"
        },
        "yaxis": {
         "dtick": 1,
         "range": [
          0.5,
          9.5
         ],
         "tickcolor": "#FFF",
         "title": "Mean"
        },
        "yaxis2": {
         "gridcolor": "#999",
         "overlaying": "y",
         "range": [
          0,
          3
         ],
         "side": "right",
         "tickcolor": "#FFF",
         "title": "Standard Deviation"
        }
       }
      },
      "text/html": [
       "<div id=\"2a3f8806-3e68-431c-85f8-d2322ef31ed0\" style=\"height: 500px; width: 500px;\" class=\"plotly-graph-div\"></div><script type=\"text/javascript\">require([\"plotly\"], function(Plotly) { window.PLOTLYENV=window.PLOTLYENV || {};window.PLOTLYENV.BASE_URL=\"https://plot.ly\";Plotly.newPlot(\"2a3f8806-3e68-431c-85f8-d2322ef31ed0\", [{\"y\": [1.0494999999999997, 1.8079, 2.7855999999999996, 3.803, 4.766900000000001, 5.6036, 6.3214999999999995, 6.8867, 7.335500000000001], \"name\": \"Mean\", \"x\": [1, 2, 3, 4, 5, 6, 7, 8, 9], \"type\": \"scatter\"}, {\"y\": [1.0280361232805966, 1.3136294341377286, 1.5653711265901369, 1.7688377495976997, 1.8882665087765456, 1.950904569303961, 1.9454203050226286, 1.8622991595042895, 1.7531119177049146], \"type\": \"scatter\", \"name\": \"Standard Deviation\", \"x\": [1, 2, 3, 4, 5, 6, 7, 8, 9], \"yaxis\": \"y2\"}], {\"titlefont\": {\"color\": \"#FFF\"}, \"plot_bgcolor\": \"#000\", \"yaxis2\": {\"title\": \"Standard Deviation\", \"tickcolor\": \"#FFF\", \"range\": [0, 3], \"gridcolor\": \"#999\", \"overlaying\": \"y\", \"side\": \"right\"}, \"legend\": {\"y\": 1, \"x\": 0}, \"paper_bgcolor\": \"#000\", \"font\": {\"color\": \"#FFF\"}, \"yaxis\": {\"title\": \"Mean\", \"tickcolor\": \"#FFF\", \"range\": [0.5, 9.5], \"dtick\": 1}, \"xaxis\": {\"title\": \"True Class\", \"tickcolor\": \"#FFF\", \"range\": [0.5, 9.5], \"dtick\": 1}, \"height\": 500, \"width\": 500, \"title\": \"Choice after 50000 Iterations at Glimpse 0\"}, {\"showLink\": true, \"linkText\": \"Export to plot.ly\"})});</script>"
      ],
      "text/vnd.plotly.v1+html": [
       "<div id=\"2a3f8806-3e68-431c-85f8-d2322ef31ed0\" style=\"height: 500px; width: 500px;\" class=\"plotly-graph-div\"></div><script type=\"text/javascript\">require([\"plotly\"], function(Plotly) { window.PLOTLYENV=window.PLOTLYENV || {};window.PLOTLYENV.BASE_URL=\"https://plot.ly\";Plotly.newPlot(\"2a3f8806-3e68-431c-85f8-d2322ef31ed0\", [{\"y\": [1.0494999999999997, 1.8079, 2.7855999999999996, 3.803, 4.766900000000001, 5.6036, 6.3214999999999995, 6.8867, 7.335500000000001], \"name\": \"Mean\", \"x\": [1, 2, 3, 4, 5, 6, 7, 8, 9], \"type\": \"scatter\"}, {\"y\": [1.0280361232805966, 1.3136294341377286, 1.5653711265901369, 1.7688377495976997, 1.8882665087765456, 1.950904569303961, 1.9454203050226286, 1.8622991595042895, 1.7531119177049146], \"type\": \"scatter\", \"name\": \"Standard Deviation\", \"x\": [1, 2, 3, 4, 5, 6, 7, 8, 9], \"yaxis\": \"y2\"}], {\"titlefont\": {\"color\": \"#FFF\"}, \"plot_bgcolor\": \"#000\", \"yaxis2\": {\"title\": \"Standard Deviation\", \"tickcolor\": \"#FFF\", \"range\": [0, 3], \"gridcolor\": \"#999\", \"overlaying\": \"y\", \"side\": \"right\"}, \"legend\": {\"y\": 1, \"x\": 0}, \"paper_bgcolor\": \"#000\", \"font\": {\"color\": \"#FFF\"}, \"yaxis\": {\"title\": \"Mean\", \"tickcolor\": \"#FFF\", \"range\": [0.5, 9.5], \"dtick\": 1}, \"xaxis\": {\"title\": \"True Class\", \"tickcolor\": \"#FFF\", \"range\": [0.5, 9.5], \"dtick\": 1}, \"height\": 500, \"width\": 500, \"title\": \"Choice after 50000 Iterations at Glimpse 0\"}, {\"showLink\": true, \"linkText\": \"Export to plot.ly\"})});</script>"
      ]
     },
     "metadata": {},
     "output_type": "display_data"
    },
    {
     "data": {
      "application/vnd.plotly.v1+json": {
       "data": [
        {
         "name": "Coefficient of Variation",
         "type": "scatter",
         "x": [
          1,
          2,
          3,
          4,
          5,
          6,
          7,
          8,
          9
         ],
         "y": [
          0.9796374612288699,
          0.7280861091958101,
          0.5636492663791796,
          0.46629489581492933,
          0.3983200156112346,
          0.34989240148432055,
          0.30970383643894767,
          0.2722877004945389,
          0.24059909411980973
         ]
        }
       ],
       "layout": {
        "font": {
         "color": "#FFF"
        },
        "height": 300,
        "paper_bgcolor": "#000",
        "plot_bgcolor": "#000",
        "title": "Choice after 50000 Iterations at Glimpse 0",
        "titlefont": {
         "color": "#FFF"
        },
        "width": 500,
        "xaxis": {
         "dtick": 1,
         "range": [
          0.5,
          9.5
         ],
         "tickcolor": "#FFF",
         "title": "True Class"
        },
        "yaxis": {
         "showgrid": true,
         "tickcolor": "#FFF",
         "title": "Coefficient of Variation"
        }
       }
      },
      "text/html": [
       "<div id=\"4c6e09f1-ac86-4a3c-bf21-e606b95521c3\" style=\"height: 300px; width: 500px;\" class=\"plotly-graph-div\"></div><script type=\"text/javascript\">require([\"plotly\"], function(Plotly) { window.PLOTLYENV=window.PLOTLYENV || {};window.PLOTLYENV.BASE_URL=\"https://plot.ly\";Plotly.newPlot(\"4c6e09f1-ac86-4a3c-bf21-e606b95521c3\", [{\"y\": [0.9796374612288699, 0.7280861091958101, 0.5636492663791796, 0.46629489581492933, 0.3983200156112346, 0.34989240148432055, 0.30970383643894767, 0.2722877004945389, 0.24059909411980973], \"name\": \"Coefficient of Variation\", \"x\": [1, 2, 3, 4, 5, 6, 7, 8, 9], \"type\": \"scatter\"}], {\"titlefont\": {\"color\": \"#FFF\"}, \"plot_bgcolor\": \"#000\", \"width\": 500, \"title\": \"Choice after 50000 Iterations at Glimpse 0\", \"paper_bgcolor\": \"#000\", \"font\": {\"color\": \"#FFF\"}, \"xaxis\": {\"title\": \"True Class\", \"tickcolor\": \"#FFF\", \"range\": [0.5, 9.5], \"dtick\": 1}, \"height\": 300, \"yaxis\": {\"showgrid\": true, \"tickcolor\": \"#FFF\", \"title\": \"Coefficient of Variation\"}}, {\"showLink\": true, \"linkText\": \"Export to plot.ly\"})});</script>"
      ],
      "text/vnd.plotly.v1+html": [
       "<div id=\"4c6e09f1-ac86-4a3c-bf21-e606b95521c3\" style=\"height: 300px; width: 500px;\" class=\"plotly-graph-div\"></div><script type=\"text/javascript\">require([\"plotly\"], function(Plotly) { window.PLOTLYENV=window.PLOTLYENV || {};window.PLOTLYENV.BASE_URL=\"https://plot.ly\";Plotly.newPlot(\"4c6e09f1-ac86-4a3c-bf21-e606b95521c3\", [{\"y\": [0.9796374612288699, 0.7280861091958101, 0.5636492663791796, 0.46629489581492933, 0.3983200156112346, 0.34989240148432055, 0.30970383643894767, 0.2722877004945389, 0.24059909411980973], \"name\": \"Coefficient of Variation\", \"x\": [1, 2, 3, 4, 5, 6, 7, 8, 9], \"type\": \"scatter\"}], {\"titlefont\": {\"color\": \"#FFF\"}, \"plot_bgcolor\": \"#000\", \"width\": 500, \"title\": \"Choice after 50000 Iterations at Glimpse 0\", \"paper_bgcolor\": \"#000\", \"font\": {\"color\": \"#FFF\"}, \"xaxis\": {\"title\": \"True Class\", \"tickcolor\": \"#FFF\", \"range\": [0.5, 9.5], \"dtick\": 1}, \"height\": 300, \"yaxis\": {\"showgrid\": true, \"tickcolor\": \"#FFF\", \"title\": \"Coefficient of Variation\"}}, {\"showLink\": true, \"linkText\": \"Export to plot.ly\"})});</script>"
      ]
     },
     "metadata": {},
     "output_type": "display_data"
    },
    {
     "data": {
      "application/vnd.plotly.v1+json": {
       "data": [
        {
         "name": "Mean",
         "type": "scatter",
         "x": [
          1,
          2,
          3,
          4,
          5,
          6,
          7,
          8,
          9
         ],
         "y": [
          1.198121662674943,
          2.1150424924046303,
          3.1252121623873914,
          4.1200056738336395,
          5.0543028424864955,
          5.874996723283607,
          6.512000177250279,
          7.0368471755391555,
          7.448852557407081
         ]
        },
        {
         "name": "Standard Deviation",
         "type": "scatter",
         "x": [
          1,
          2,
          3,
          4,
          5,
          6,
          7,
          8,
          9
         ],
         "y": [
          1.1031566063311213,
          1.4464971151011428,
          1.6648384482777487,
          1.827122919197,
          1.9243842603806958,
          1.935901228315864,
          1.8797033319503527,
          1.7714462044548835,
          1.6546690109164426
         ],
         "yaxis": "y2"
        }
       ],
       "layout": {
        "font": {
         "color": "#FFF"
        },
        "height": 500,
        "legend": {
         "x": 0,
         "y": 1
        },
        "paper_bgcolor": "#000",
        "plot_bgcolor": "#000",
        "title": "Confidence after 50000 Iterations at Glimpse 3",
        "titlefont": {
         "color": "#FFF"
        },
        "width": 500,
        "xaxis": {
         "dtick": 1,
         "range": [
          0.5,
          9.5
         ],
         "tickcolor": "#FFF",
         "title": "True Class"
        },
        "yaxis": {
         "dtick": 1,
         "range": [
          0.5,
          9.5
         ],
         "tickcolor": "#FFF",
         "title": "Mean"
        },
        "yaxis2": {
         "gridcolor": "#999",
         "overlaying": "y",
         "range": [
          0,
          3
         ],
         "side": "right",
         "tickcolor": "#FFF",
         "title": "Standard Deviation"
        }
       }
      },
      "text/html": [
       "<div id=\"a833e54f-0a8f-4941-b7c0-89fe05bb7aec\" style=\"height: 500px; width: 500px;\" class=\"plotly-graph-div\"></div><script type=\"text/javascript\">require([\"plotly\"], function(Plotly) { window.PLOTLYENV=window.PLOTLYENV || {};window.PLOTLYENV.BASE_URL=\"https://plot.ly\";Plotly.newPlot(\"a833e54f-0a8f-4941-b7c0-89fe05bb7aec\", [{\"y\": [1.198121662674943, 2.1150424924046303, 3.1252121623873914, 4.1200056738336395, 5.0543028424864955, 5.874996723283607, 6.512000177250279, 7.0368471755391555, 7.448852557407081], \"name\": \"Mean\", \"x\": [1, 2, 3, 4, 5, 6, 7, 8, 9], \"type\": \"scatter\"}, {\"y\": [1.1031566063311213, 1.4464971151011428, 1.6648384482777487, 1.827122919197, 1.9243842603806958, 1.935901228315864, 1.8797033319503527, 1.7714462044548835, 1.6546690109164426], \"type\": \"scatter\", \"name\": \"Standard Deviation\", \"x\": [1, 2, 3, 4, 5, 6, 7, 8, 9], \"yaxis\": \"y2\"}], {\"titlefont\": {\"color\": \"#FFF\"}, \"plot_bgcolor\": \"#000\", \"yaxis2\": {\"title\": \"Standard Deviation\", \"tickcolor\": \"#FFF\", \"range\": [0, 3], \"gridcolor\": \"#999\", \"overlaying\": \"y\", \"side\": \"right\"}, \"legend\": {\"y\": 1, \"x\": 0}, \"paper_bgcolor\": \"#000\", \"font\": {\"color\": \"#FFF\"}, \"yaxis\": {\"title\": \"Mean\", \"tickcolor\": \"#FFF\", \"range\": [0.5, 9.5], \"dtick\": 1}, \"xaxis\": {\"title\": \"True Class\", \"tickcolor\": \"#FFF\", \"range\": [0.5, 9.5], \"dtick\": 1}, \"height\": 500, \"width\": 500, \"title\": \"Confidence after 50000 Iterations at Glimpse 3\"}, {\"showLink\": true, \"linkText\": \"Export to plot.ly\"})});</script>"
      ],
      "text/vnd.plotly.v1+html": [
       "<div id=\"a833e54f-0a8f-4941-b7c0-89fe05bb7aec\" style=\"height: 500px; width: 500px;\" class=\"plotly-graph-div\"></div><script type=\"text/javascript\">require([\"plotly\"], function(Plotly) { window.PLOTLYENV=window.PLOTLYENV || {};window.PLOTLYENV.BASE_URL=\"https://plot.ly\";Plotly.newPlot(\"a833e54f-0a8f-4941-b7c0-89fe05bb7aec\", [{\"y\": [1.198121662674943, 2.1150424924046303, 3.1252121623873914, 4.1200056738336395, 5.0543028424864955, 5.874996723283607, 6.512000177250279, 7.0368471755391555, 7.448852557407081], \"name\": \"Mean\", \"x\": [1, 2, 3, 4, 5, 6, 7, 8, 9], \"type\": \"scatter\"}, {\"y\": [1.1031566063311213, 1.4464971151011428, 1.6648384482777487, 1.827122919197, 1.9243842603806958, 1.935901228315864, 1.8797033319503527, 1.7714462044548835, 1.6546690109164426], \"type\": \"scatter\", \"name\": \"Standard Deviation\", \"x\": [1, 2, 3, 4, 5, 6, 7, 8, 9], \"yaxis\": \"y2\"}], {\"titlefont\": {\"color\": \"#FFF\"}, \"plot_bgcolor\": \"#000\", \"yaxis2\": {\"title\": \"Standard Deviation\", \"tickcolor\": \"#FFF\", \"range\": [0, 3], \"gridcolor\": \"#999\", \"overlaying\": \"y\", \"side\": \"right\"}, \"legend\": {\"y\": 1, \"x\": 0}, \"paper_bgcolor\": \"#000\", \"font\": {\"color\": \"#FFF\"}, \"yaxis\": {\"title\": \"Mean\", \"tickcolor\": \"#FFF\", \"range\": [0.5, 9.5], \"dtick\": 1}, \"xaxis\": {\"title\": \"True Class\", \"tickcolor\": \"#FFF\", \"range\": [0.5, 9.5], \"dtick\": 1}, \"height\": 500, \"width\": 500, \"title\": \"Confidence after 50000 Iterations at Glimpse 3\"}, {\"showLink\": true, \"linkText\": \"Export to plot.ly\"})});</script>"
      ]
     },
     "metadata": {},
     "output_type": "display_data"
    },
    {
     "data": {
      "application/vnd.plotly.v1+json": {
       "data": [
        {
         "name": "Coefficient of Variation",
         "type": "scatter",
         "x": [
          1,
          2,
          3,
          4,
          5,
          6,
          7,
          8,
          9
         ],
         "y": [
          0.9210721722053504,
          0.6831124059680438,
          0.5321652822370144,
          0.44312904033206396,
          0.38074485153212995,
          0.3297051304960906,
          0.2890676125562227,
          0.25222585165092537,
          0.22270455471091277
         ]
        }
       ],
       "layout": {
        "font": {
         "color": "#FFF"
        },
        "height": 300,
        "paper_bgcolor": "#000",
        "plot_bgcolor": "#000",
        "title": "Confidence after 50000 Iterations at Glimpse 3",
        "titlefont": {
         "color": "#FFF"
        },
        "width": 500,
        "xaxis": {
         "dtick": 1,
         "range": [
          0.5,
          9.5
         ],
         "tickcolor": "#FFF",
         "title": "True Class"
        },
        "yaxis": {
         "showgrid": true,
         "tickcolor": "#FFF",
         "title": "Coefficient of Variation"
        }
       }
      },
      "text/html": [
       "<div id=\"b25548cc-0381-4cb9-8813-4d926a8724d5\" style=\"height: 300px; width: 500px;\" class=\"plotly-graph-div\"></div><script type=\"text/javascript\">require([\"plotly\"], function(Plotly) { window.PLOTLYENV=window.PLOTLYENV || {};window.PLOTLYENV.BASE_URL=\"https://plot.ly\";Plotly.newPlot(\"b25548cc-0381-4cb9-8813-4d926a8724d5\", [{\"y\": [0.9210721722053504, 0.6831124059680438, 0.5321652822370144, 0.44312904033206396, 0.38074485153212995, 0.3297051304960906, 0.2890676125562227, 0.25222585165092537, 0.22270455471091277], \"name\": \"Coefficient of Variation\", \"x\": [1, 2, 3, 4, 5, 6, 7, 8, 9], \"type\": \"scatter\"}], {\"titlefont\": {\"color\": \"#FFF\"}, \"plot_bgcolor\": \"#000\", \"width\": 500, \"title\": \"Confidence after 50000 Iterations at Glimpse 3\", \"paper_bgcolor\": \"#000\", \"font\": {\"color\": \"#FFF\"}, \"xaxis\": {\"title\": \"True Class\", \"tickcolor\": \"#FFF\", \"range\": [0.5, 9.5], \"dtick\": 1}, \"height\": 300, \"yaxis\": {\"showgrid\": true, \"tickcolor\": \"#FFF\", \"title\": \"Coefficient of Variation\"}}, {\"showLink\": true, \"linkText\": \"Export to plot.ly\"})});</script>"
      ],
      "text/vnd.plotly.v1+html": [
       "<div id=\"b25548cc-0381-4cb9-8813-4d926a8724d5\" style=\"height: 300px; width: 500px;\" class=\"plotly-graph-div\"></div><script type=\"text/javascript\">require([\"plotly\"], function(Plotly) { window.PLOTLYENV=window.PLOTLYENV || {};window.PLOTLYENV.BASE_URL=\"https://plot.ly\";Plotly.newPlot(\"b25548cc-0381-4cb9-8813-4d926a8724d5\", [{\"y\": [0.9210721722053504, 0.6831124059680438, 0.5321652822370144, 0.44312904033206396, 0.38074485153212995, 0.3297051304960906, 0.2890676125562227, 0.25222585165092537, 0.22270455471091277], \"name\": \"Coefficient of Variation\", \"x\": [1, 2, 3, 4, 5, 6, 7, 8, 9], \"type\": \"scatter\"}], {\"titlefont\": {\"color\": \"#FFF\"}, \"plot_bgcolor\": \"#000\", \"width\": 500, \"title\": \"Confidence after 50000 Iterations at Glimpse 3\", \"paper_bgcolor\": \"#000\", \"font\": {\"color\": \"#FFF\"}, \"xaxis\": {\"title\": \"True Class\", \"tickcolor\": \"#FFF\", \"range\": [0.5, 9.5], \"dtick\": 1}, \"height\": 300, \"yaxis\": {\"showgrid\": true, \"tickcolor\": \"#FFF\", \"title\": \"Coefficient of Variation\"}}, {\"showLink\": true, \"linkText\": \"Export to plot.ly\"})});</script>"
      ]
     },
     "metadata": {},
     "output_type": "display_data"
    },
    {
     "data": {
      "application/vnd.plotly.v1+json": {
       "data": [
        {
         "name": "Mean",
         "type": "scatter",
         "x": [
          1,
          2,
          3,
          4,
          5,
          6,
          7,
          8,
          9
         ],
         "y": [
          1.0606,
          1.8875999999999997,
          2.9057000000000004,
          3.9041999999999994,
          4.8753,
          5.8017,
          6.5482,
          7.1822,
          7.6813
         ]
        },
        {
         "name": "Standard Deviation",
         "type": "scatter",
         "x": [
          1,
          2,
          3,
          4,
          5,
          6,
          7,
          8,
          9
         ],
         "y": [
          1.028265298962769,
          1.2903125623027565,
          1.468855286401844,
          1.5794538957936928,
          1.7026660600208676,
          1.7839209210120224,
          1.761733420134354,
          1.6542626792023427,
          1.5217939767360238
         ],
         "yaxis": "y2"
        }
       ],
       "layout": {
        "font": {
         "color": "#FFF"
        },
        "height": 500,
        "legend": {
         "x": 0,
         "y": 1
        },
        "paper_bgcolor": "#000",
        "plot_bgcolor": "#000",
        "title": "Choice after 50000 Iterations at Glimpse 3",
        "titlefont": {
         "color": "#FFF"
        },
        "width": 500,
        "xaxis": {
         "dtick": 1,
         "range": [
          0.5,
          9.5
         ],
         "tickcolor": "#FFF",
         "title": "True Class"
        },
        "yaxis": {
         "dtick": 1,
         "range": [
          0.5,
          9.5
         ],
         "tickcolor": "#FFF",
         "title": "Mean"
        },
        "yaxis2": {
         "gridcolor": "#999",
         "overlaying": "y",
         "range": [
          0,
          3
         ],
         "side": "right",
         "tickcolor": "#FFF",
         "title": "Standard Deviation"
        }
       }
      },
      "text/html": [
       "<div id=\"aa3e4f46-6ff5-4d2f-8d7c-fb369281aab5\" style=\"height: 500px; width: 500px;\" class=\"plotly-graph-div\"></div><script type=\"text/javascript\">require([\"plotly\"], function(Plotly) { window.PLOTLYENV=window.PLOTLYENV || {};window.PLOTLYENV.BASE_URL=\"https://plot.ly\";Plotly.newPlot(\"aa3e4f46-6ff5-4d2f-8d7c-fb369281aab5\", [{\"y\": [1.0606, 1.8875999999999997, 2.9057000000000004, 3.9041999999999994, 4.8753, 5.8017, 6.5482, 7.1822, 7.6813], \"name\": \"Mean\", \"x\": [1, 2, 3, 4, 5, 6, 7, 8, 9], \"type\": \"scatter\"}, {\"y\": [1.028265298962769, 1.2903125623027565, 1.468855286401844, 1.5794538957936928, 1.7026660600208676, 1.7839209210120224, 1.761733420134354, 1.6542626792023427, 1.5217939767360238], \"type\": \"scatter\", \"name\": \"Standard Deviation\", \"x\": [1, 2, 3, 4, 5, 6, 7, 8, 9], \"yaxis\": \"y2\"}], {\"titlefont\": {\"color\": \"#FFF\"}, \"plot_bgcolor\": \"#000\", \"yaxis2\": {\"title\": \"Standard Deviation\", \"tickcolor\": \"#FFF\", \"range\": [0, 3], \"gridcolor\": \"#999\", \"overlaying\": \"y\", \"side\": \"right\"}, \"legend\": {\"y\": 1, \"x\": 0}, \"paper_bgcolor\": \"#000\", \"font\": {\"color\": \"#FFF\"}, \"yaxis\": {\"title\": \"Mean\", \"tickcolor\": \"#FFF\", \"range\": [0.5, 9.5], \"dtick\": 1}, \"xaxis\": {\"title\": \"True Class\", \"tickcolor\": \"#FFF\", \"range\": [0.5, 9.5], \"dtick\": 1}, \"height\": 500, \"width\": 500, \"title\": \"Choice after 50000 Iterations at Glimpse 3\"}, {\"showLink\": true, \"linkText\": \"Export to plot.ly\"})});</script>"
      ],
      "text/vnd.plotly.v1+html": [
       "<div id=\"aa3e4f46-6ff5-4d2f-8d7c-fb369281aab5\" style=\"height: 500px; width: 500px;\" class=\"plotly-graph-div\"></div><script type=\"text/javascript\">require([\"plotly\"], function(Plotly) { window.PLOTLYENV=window.PLOTLYENV || {};window.PLOTLYENV.BASE_URL=\"https://plot.ly\";Plotly.newPlot(\"aa3e4f46-6ff5-4d2f-8d7c-fb369281aab5\", [{\"y\": [1.0606, 1.8875999999999997, 2.9057000000000004, 3.9041999999999994, 4.8753, 5.8017, 6.5482, 7.1822, 7.6813], \"name\": \"Mean\", \"x\": [1, 2, 3, 4, 5, 6, 7, 8, 9], \"type\": \"scatter\"}, {\"y\": [1.028265298962769, 1.2903125623027565, 1.468855286401844, 1.5794538957936928, 1.7026660600208676, 1.7839209210120224, 1.761733420134354, 1.6542626792023427, 1.5217939767360238], \"type\": \"scatter\", \"name\": \"Standard Deviation\", \"x\": [1, 2, 3, 4, 5, 6, 7, 8, 9], \"yaxis\": \"y2\"}], {\"titlefont\": {\"color\": \"#FFF\"}, \"plot_bgcolor\": \"#000\", \"yaxis2\": {\"title\": \"Standard Deviation\", \"tickcolor\": \"#FFF\", \"range\": [0, 3], \"gridcolor\": \"#999\", \"overlaying\": \"y\", \"side\": \"right\"}, \"legend\": {\"y\": 1, \"x\": 0}, \"paper_bgcolor\": \"#000\", \"font\": {\"color\": \"#FFF\"}, \"yaxis\": {\"title\": \"Mean\", \"tickcolor\": \"#FFF\", \"range\": [0.5, 9.5], \"dtick\": 1}, \"xaxis\": {\"title\": \"True Class\", \"tickcolor\": \"#FFF\", \"range\": [0.5, 9.5], \"dtick\": 1}, \"height\": 500, \"width\": 500, \"title\": \"Choice after 50000 Iterations at Glimpse 3\"}, {\"showLink\": true, \"linkText\": \"Export to plot.ly\"})});</script>"
      ]
     },
     "metadata": {},
     "output_type": "display_data"
    },
    {
     "data": {
      "application/vnd.plotly.v1+json": {
       "data": [
        {
         "name": "Coefficient of Variation",
         "type": "scatter",
         "x": [
          1,
          2,
          3,
          4,
          5,
          6,
          7,
          8,
          9
         ],
         "y": [
          0.9700329173214406,
          0.6839372324212005,
          0.5060533777943775,
          0.40472440689837963,
          0.3495465250407319,
          0.3077324071739963,
          0.2693644056200124,
          0.23084395827097476,
          0.19851435200272924
         ]
        }
       ],
       "layout": {
        "font": {
         "color": "#FFF"
        },
        "height": 300,
        "paper_bgcolor": "#000",
        "plot_bgcolor": "#000",
        "title": "Choice after 50000 Iterations at Glimpse 3",
        "titlefont": {
         "color": "#FFF"
        },
        "width": 500,
        "xaxis": {
         "dtick": 1,
         "range": [
          0.5,
          9.5
         ],
         "tickcolor": "#FFF",
         "title": "True Class"
        },
        "yaxis": {
         "showgrid": true,
         "tickcolor": "#FFF",
         "title": "Coefficient of Variation"
        }
       }
      },
      "text/html": [
       "<div id=\"e39de1cc-26ec-4049-8ff7-304fb6043849\" style=\"height: 300px; width: 500px;\" class=\"plotly-graph-div\"></div><script type=\"text/javascript\">require([\"plotly\"], function(Plotly) { window.PLOTLYENV=window.PLOTLYENV || {};window.PLOTLYENV.BASE_URL=\"https://plot.ly\";Plotly.newPlot(\"e39de1cc-26ec-4049-8ff7-304fb6043849\", [{\"y\": [0.9700329173214406, 0.6839372324212005, 0.5060533777943775, 0.40472440689837963, 0.3495465250407319, 0.3077324071739963, 0.2693644056200124, 0.23084395827097476, 0.19851435200272924], \"name\": \"Coefficient of Variation\", \"x\": [1, 2, 3, 4, 5, 6, 7, 8, 9], \"type\": \"scatter\"}], {\"titlefont\": {\"color\": \"#FFF\"}, \"plot_bgcolor\": \"#000\", \"width\": 500, \"title\": \"Choice after 50000 Iterations at Glimpse 3\", \"paper_bgcolor\": \"#000\", \"font\": {\"color\": \"#FFF\"}, \"xaxis\": {\"title\": \"True Class\", \"tickcolor\": \"#FFF\", \"range\": [0.5, 9.5], \"dtick\": 1}, \"height\": 300, \"yaxis\": {\"showgrid\": true, \"tickcolor\": \"#FFF\", \"title\": \"Coefficient of Variation\"}}, {\"showLink\": true, \"linkText\": \"Export to plot.ly\"})});</script>"
      ],
      "text/vnd.plotly.v1+html": [
       "<div id=\"e39de1cc-26ec-4049-8ff7-304fb6043849\" style=\"height: 300px; width: 500px;\" class=\"plotly-graph-div\"></div><script type=\"text/javascript\">require([\"plotly\"], function(Plotly) { window.PLOTLYENV=window.PLOTLYENV || {};window.PLOTLYENV.BASE_URL=\"https://plot.ly\";Plotly.newPlot(\"e39de1cc-26ec-4049-8ff7-304fb6043849\", [{\"y\": [0.9700329173214406, 0.6839372324212005, 0.5060533777943775, 0.40472440689837963, 0.3495465250407319, 0.3077324071739963, 0.2693644056200124, 0.23084395827097476, 0.19851435200272924], \"name\": \"Coefficient of Variation\", \"x\": [1, 2, 3, 4, 5, 6, 7, 8, 9], \"type\": \"scatter\"}], {\"titlefont\": {\"color\": \"#FFF\"}, \"plot_bgcolor\": \"#000\", \"width\": 500, \"title\": \"Choice after 50000 Iterations at Glimpse 3\", \"paper_bgcolor\": \"#000\", \"font\": {\"color\": \"#FFF\"}, \"xaxis\": {\"title\": \"True Class\", \"tickcolor\": \"#FFF\", \"range\": [0.5, 9.5], \"dtick\": 1}, \"height\": 300, \"yaxis\": {\"showgrid\": true, \"tickcolor\": \"#FFF\", \"title\": \"Coefficient of Variation\"}}, {\"showLink\": true, \"linkText\": \"Export to plot.ly\"})});</script>"
      ]
     },
     "metadata": {},
     "output_type": "display_data"
    },
    {
     "data": {
      "application/vnd.plotly.v1+json": {
       "data": [
        {
         "name": "Mean",
         "type": "scatter",
         "x": [
          1,
          2,
          3,
          4,
          5,
          6,
          7,
          8,
          9
         ],
         "y": [
          1.216290761113497,
          2.090912528329519,
          3.090036722242661,
          4.0691381169388965,
          4.981715022665526,
          5.778445718385729,
          6.418970323544149,
          6.952775331913751,
          7.3654947263307715
         ]
        },
        {
         "name": "Standard Deviation",
         "type": "scatter",
         "x": [
          1,
          2,
          3,
          4,
          5,
          6,
          7,
          8,
          9
         ],
         "y": [
          1.112363353883224,
          1.4589661165480734,
          1.681028454076864,
          1.8364494381901202,
          1.935913560649956,
          1.9555543903719133,
          1.912300382535042,
          1.8113560030375946,
          1.694831063111226
         ],
         "yaxis": "y2"
        }
       ],
       "layout": {
        "font": {
         "color": "#FFF"
        },
        "height": 500,
        "legend": {
         "x": 0,
         "y": 1
        },
        "paper_bgcolor": "#000",
        "plot_bgcolor": "#000",
        "title": "Confidence after 50000 Iterations at Glimpse 9",
        "titlefont": {
         "color": "#FFF"
        },
        "width": 500,
        "xaxis": {
         "dtick": 1,
         "range": [
          0.5,
          9.5
         ],
         "tickcolor": "#FFF",
         "title": "True Class"
        },
        "yaxis": {
         "dtick": 1,
         "range": [
          0.5,
          9.5
         ],
         "tickcolor": "#FFF",
         "title": "Mean"
        },
        "yaxis2": {
         "gridcolor": "#999",
         "overlaying": "y",
         "range": [
          0,
          3
         ],
         "side": "right",
         "tickcolor": "#FFF",
         "title": "Standard Deviation"
        }
       }
      },
      "text/html": [
       "<div id=\"e23ce382-5eb0-4478-8823-981ebf8f7b88\" style=\"height: 500px; width: 500px;\" class=\"plotly-graph-div\"></div><script type=\"text/javascript\">require([\"plotly\"], function(Plotly) { window.PLOTLYENV=window.PLOTLYENV || {};window.PLOTLYENV.BASE_URL=\"https://plot.ly\";Plotly.newPlot(\"e23ce382-5eb0-4478-8823-981ebf8f7b88\", [{\"y\": [1.216290761113497, 2.090912528329519, 3.090036722242661, 4.0691381169388965, 4.981715022665526, 5.778445718385729, 6.418970323544149, 6.952775331913751, 7.3654947263307715], \"name\": \"Mean\", \"x\": [1, 2, 3, 4, 5, 6, 7, 8, 9], \"type\": \"scatter\"}, {\"y\": [1.112363353883224, 1.4589661165480734, 1.681028454076864, 1.8364494381901202, 1.935913560649956, 1.9555543903719133, 1.912300382535042, 1.8113560030375946, 1.694831063111226], \"type\": \"scatter\", \"name\": \"Standard Deviation\", \"x\": [1, 2, 3, 4, 5, 6, 7, 8, 9], \"yaxis\": \"y2\"}], {\"titlefont\": {\"color\": \"#FFF\"}, \"plot_bgcolor\": \"#000\", \"yaxis2\": {\"title\": \"Standard Deviation\", \"tickcolor\": \"#FFF\", \"range\": [0, 3], \"gridcolor\": \"#999\", \"overlaying\": \"y\", \"side\": \"right\"}, \"legend\": {\"y\": 1, \"x\": 0}, \"paper_bgcolor\": \"#000\", \"font\": {\"color\": \"#FFF\"}, \"yaxis\": {\"title\": \"Mean\", \"tickcolor\": \"#FFF\", \"range\": [0.5, 9.5], \"dtick\": 1}, \"xaxis\": {\"title\": \"True Class\", \"tickcolor\": \"#FFF\", \"range\": [0.5, 9.5], \"dtick\": 1}, \"height\": 500, \"width\": 500, \"title\": \"Confidence after 50000 Iterations at Glimpse 9\"}, {\"showLink\": true, \"linkText\": \"Export to plot.ly\"})});</script>"
      ],
      "text/vnd.plotly.v1+html": [
       "<div id=\"e23ce382-5eb0-4478-8823-981ebf8f7b88\" style=\"height: 500px; width: 500px;\" class=\"plotly-graph-div\"></div><script type=\"text/javascript\">require([\"plotly\"], function(Plotly) { window.PLOTLYENV=window.PLOTLYENV || {};window.PLOTLYENV.BASE_URL=\"https://plot.ly\";Plotly.newPlot(\"e23ce382-5eb0-4478-8823-981ebf8f7b88\", [{\"y\": [1.216290761113497, 2.090912528329519, 3.090036722242661, 4.0691381169388965, 4.981715022665526, 5.778445718385729, 6.418970323544149, 6.952775331913751, 7.3654947263307715], \"name\": \"Mean\", \"x\": [1, 2, 3, 4, 5, 6, 7, 8, 9], \"type\": \"scatter\"}, {\"y\": [1.112363353883224, 1.4589661165480734, 1.681028454076864, 1.8364494381901202, 1.935913560649956, 1.9555543903719133, 1.912300382535042, 1.8113560030375946, 1.694831063111226], \"type\": \"scatter\", \"name\": \"Standard Deviation\", \"x\": [1, 2, 3, 4, 5, 6, 7, 8, 9], \"yaxis\": \"y2\"}], {\"titlefont\": {\"color\": \"#FFF\"}, \"plot_bgcolor\": \"#000\", \"yaxis2\": {\"title\": \"Standard Deviation\", \"tickcolor\": \"#FFF\", \"range\": [0, 3], \"gridcolor\": \"#999\", \"overlaying\": \"y\", \"side\": \"right\"}, \"legend\": {\"y\": 1, \"x\": 0}, \"paper_bgcolor\": \"#000\", \"font\": {\"color\": \"#FFF\"}, \"yaxis\": {\"title\": \"Mean\", \"tickcolor\": \"#FFF\", \"range\": [0.5, 9.5], \"dtick\": 1}, \"xaxis\": {\"title\": \"True Class\", \"tickcolor\": \"#FFF\", \"range\": [0.5, 9.5], \"dtick\": 1}, \"height\": 500, \"width\": 500, \"title\": \"Confidence after 50000 Iterations at Glimpse 9\"}, {\"showLink\": true, \"linkText\": \"Export to plot.ly\"})});</script>"
      ]
     },
     "metadata": {},
     "output_type": "display_data"
    },
    {
     "data": {
      "application/vnd.plotly.v1+json": {
       "data": [
        {
         "name": "Coefficient of Variation",
         "type": "scatter",
         "x": [
          1,
          2,
          3,
          4,
          5,
          6,
          7,
          8,
          9
         ],
         "y": [
          0.9150746026700143,
          0.6972395732116128,
          0.5437102773485356,
          0.45103528270303944,
          0.3886384373609758,
          0.3387000597337727,
          0.2984527493583973,
          0.26114336264876736,
          0.23083869528044038
         ]
        }
       ],
       "layout": {
        "font": {
         "color": "#FFF"
        },
        "height": 300,
        "paper_bgcolor": "#000",
        "plot_bgcolor": "#000",
        "title": "Confidence after 50000 Iterations at Glimpse 9",
        "titlefont": {
         "color": "#FFF"
        },
        "width": 500,
        "xaxis": {
         "dtick": 1,
         "range": [
          0.5,
          9.5
         ],
         "tickcolor": "#FFF",
         "title": "True Class"
        },
        "yaxis": {
         "showgrid": true,
         "tickcolor": "#FFF",
         "title": "Coefficient of Variation"
        }
       }
      },
      "text/html": [
       "<div id=\"7dd1f087-c4b7-4f09-a971-abe8d0386348\" style=\"height: 300px; width: 500px;\" class=\"plotly-graph-div\"></div><script type=\"text/javascript\">require([\"plotly\"], function(Plotly) { window.PLOTLYENV=window.PLOTLYENV || {};window.PLOTLYENV.BASE_URL=\"https://plot.ly\";Plotly.newPlot(\"7dd1f087-c4b7-4f09-a971-abe8d0386348\", [{\"y\": [0.9150746026700143, 0.6972395732116128, 0.5437102773485356, 0.45103528270303944, 0.3886384373609758, 0.3387000597337727, 0.2984527493583973, 0.26114336264876736, 0.23083869528044038], \"name\": \"Coefficient of Variation\", \"x\": [1, 2, 3, 4, 5, 6, 7, 8, 9], \"type\": \"scatter\"}], {\"titlefont\": {\"color\": \"#FFF\"}, \"plot_bgcolor\": \"#000\", \"width\": 500, \"title\": \"Confidence after 50000 Iterations at Glimpse 9\", \"paper_bgcolor\": \"#000\", \"font\": {\"color\": \"#FFF\"}, \"xaxis\": {\"title\": \"True Class\", \"tickcolor\": \"#FFF\", \"range\": [0.5, 9.5], \"dtick\": 1}, \"height\": 300, \"yaxis\": {\"showgrid\": true, \"tickcolor\": \"#FFF\", \"title\": \"Coefficient of Variation\"}}, {\"showLink\": true, \"linkText\": \"Export to plot.ly\"})});</script>"
      ],
      "text/vnd.plotly.v1+html": [
       "<div id=\"7dd1f087-c4b7-4f09-a971-abe8d0386348\" style=\"height: 300px; width: 500px;\" class=\"plotly-graph-div\"></div><script type=\"text/javascript\">require([\"plotly\"], function(Plotly) { window.PLOTLYENV=window.PLOTLYENV || {};window.PLOTLYENV.BASE_URL=\"https://plot.ly\";Plotly.newPlot(\"7dd1f087-c4b7-4f09-a971-abe8d0386348\", [{\"y\": [0.9150746026700143, 0.6972395732116128, 0.5437102773485356, 0.45103528270303944, 0.3886384373609758, 0.3387000597337727, 0.2984527493583973, 0.26114336264876736, 0.23083869528044038], \"name\": \"Coefficient of Variation\", \"x\": [1, 2, 3, 4, 5, 6, 7, 8, 9], \"type\": \"scatter\"}], {\"titlefont\": {\"color\": \"#FFF\"}, \"plot_bgcolor\": \"#000\", \"width\": 500, \"title\": \"Confidence after 50000 Iterations at Glimpse 9\", \"paper_bgcolor\": \"#000\", \"font\": {\"color\": \"#FFF\"}, \"xaxis\": {\"title\": \"True Class\", \"tickcolor\": \"#FFF\", \"range\": [0.5, 9.5], \"dtick\": 1}, \"height\": 300, \"yaxis\": {\"showgrid\": true, \"tickcolor\": \"#FFF\", \"title\": \"Coefficient of Variation\"}}, {\"showLink\": true, \"linkText\": \"Export to plot.ly\"})});</script>"
      ]
     },
     "metadata": {},
     "output_type": "display_data"
    },
    {
     "data": {
      "application/vnd.plotly.v1+json": {
       "data": [
        {
         "name": "Mean",
         "type": "scatter",
         "x": [
          1,
          2,
          3,
          4,
          5,
          6,
          7,
          8,
          9
         ],
         "y": [
          1.0534000000000001,
          1.8417,
          2.8497,
          3.8186999999999998,
          4.7672,
          5.696899999999999,
          6.4723,
          7.146099999999999,
          7.6447
         ]
        },
        {
         "name": "Standard Deviation",
         "type": "scatter",
         "x": [
          1,
          2,
          3,
          4,
          5,
          6,
          7,
          8,
          9
         ],
         "y": [
          1.024325894382461,
          1.282525204077905,
          1.4587125471550004,
          1.5414272492989498,
          1.6664081841678056,
          1.7710710861760366,
          1.7732083680963568,
          1.6682847968004597,
          1.5290900915920378
         ],
         "yaxis": "y2"
        }
       ],
       "layout": {
        "font": {
         "color": "#FFF"
        },
        "height": 500,
        "legend": {
         "x": 0,
         "y": 1
        },
        "paper_bgcolor": "#000",
        "plot_bgcolor": "#000",
        "title": "Choice after 50000 Iterations at Glimpse 9",
        "titlefont": {
         "color": "#FFF"
        },
        "width": 500,
        "xaxis": {
         "dtick": 1,
         "range": [
          0.5,
          9.5
         ],
         "tickcolor": "#FFF",
         "title": "True Class"
        },
        "yaxis": {
         "dtick": 1,
         "range": [
          0.5,
          9.5
         ],
         "tickcolor": "#FFF",
         "title": "Mean"
        },
        "yaxis2": {
         "gridcolor": "#999",
         "overlaying": "y",
         "range": [
          0,
          3
         ],
         "side": "right",
         "tickcolor": "#FFF",
         "title": "Standard Deviation"
        }
       }
      },
      "text/html": [
       "<div id=\"9ba0136a-8c03-4ba4-a602-e3cdb7dfa751\" style=\"height: 500px; width: 500px;\" class=\"plotly-graph-div\"></div><script type=\"text/javascript\">require([\"plotly\"], function(Plotly) { window.PLOTLYENV=window.PLOTLYENV || {};window.PLOTLYENV.BASE_URL=\"https://plot.ly\";Plotly.newPlot(\"9ba0136a-8c03-4ba4-a602-e3cdb7dfa751\", [{\"y\": [1.0534000000000001, 1.8417, 2.8497, 3.8186999999999998, 4.7672, 5.696899999999999, 6.4723, 7.146099999999999, 7.6447], \"name\": \"Mean\", \"x\": [1, 2, 3, 4, 5, 6, 7, 8, 9], \"type\": \"scatter\"}, {\"y\": [1.024325894382461, 1.282525204077905, 1.4587125471550004, 1.5414272492989498, 1.6664081841678056, 1.7710710861760366, 1.7732083680963568, 1.6682847968004597, 1.5290900915920378], \"type\": \"scatter\", \"name\": \"Standard Deviation\", \"x\": [1, 2, 3, 4, 5, 6, 7, 8, 9], \"yaxis\": \"y2\"}], {\"titlefont\": {\"color\": \"#FFF\"}, \"plot_bgcolor\": \"#000\", \"yaxis2\": {\"title\": \"Standard Deviation\", \"tickcolor\": \"#FFF\", \"range\": [0, 3], \"gridcolor\": \"#999\", \"overlaying\": \"y\", \"side\": \"right\"}, \"legend\": {\"y\": 1, \"x\": 0}, \"paper_bgcolor\": \"#000\", \"font\": {\"color\": \"#FFF\"}, \"yaxis\": {\"title\": \"Mean\", \"tickcolor\": \"#FFF\", \"range\": [0.5, 9.5], \"dtick\": 1}, \"xaxis\": {\"title\": \"True Class\", \"tickcolor\": \"#FFF\", \"range\": [0.5, 9.5], \"dtick\": 1}, \"height\": 500, \"width\": 500, \"title\": \"Choice after 50000 Iterations at Glimpse 9\"}, {\"showLink\": true, \"linkText\": \"Export to plot.ly\"})});</script>"
      ],
      "text/vnd.plotly.v1+html": [
       "<div id=\"9ba0136a-8c03-4ba4-a602-e3cdb7dfa751\" style=\"height: 500px; width: 500px;\" class=\"plotly-graph-div\"></div><script type=\"text/javascript\">require([\"plotly\"], function(Plotly) { window.PLOTLYENV=window.PLOTLYENV || {};window.PLOTLYENV.BASE_URL=\"https://plot.ly\";Plotly.newPlot(\"9ba0136a-8c03-4ba4-a602-e3cdb7dfa751\", [{\"y\": [1.0534000000000001, 1.8417, 2.8497, 3.8186999999999998, 4.7672, 5.696899999999999, 6.4723, 7.146099999999999, 7.6447], \"name\": \"Mean\", \"x\": [1, 2, 3, 4, 5, 6, 7, 8, 9], \"type\": \"scatter\"}, {\"y\": [1.024325894382461, 1.282525204077905, 1.4587125471550004, 1.5414272492989498, 1.6664081841678056, 1.7710710861760366, 1.7732083680963568, 1.6682847968004597, 1.5290900915920378], \"type\": \"scatter\", \"name\": \"Standard Deviation\", \"x\": [1, 2, 3, 4, 5, 6, 7, 8, 9], \"yaxis\": \"y2\"}], {\"titlefont\": {\"color\": \"#FFF\"}, \"plot_bgcolor\": \"#000\", \"yaxis2\": {\"title\": \"Standard Deviation\", \"tickcolor\": \"#FFF\", \"range\": [0, 3], \"gridcolor\": \"#999\", \"overlaying\": \"y\", \"side\": \"right\"}, \"legend\": {\"y\": 1, \"x\": 0}, \"paper_bgcolor\": \"#000\", \"font\": {\"color\": \"#FFF\"}, \"yaxis\": {\"title\": \"Mean\", \"tickcolor\": \"#FFF\", \"range\": [0.5, 9.5], \"dtick\": 1}, \"xaxis\": {\"title\": \"True Class\", \"tickcolor\": \"#FFF\", \"range\": [0.5, 9.5], \"dtick\": 1}, \"height\": 500, \"width\": 500, \"title\": \"Choice after 50000 Iterations at Glimpse 9\"}, {\"showLink\": true, \"linkText\": \"Export to plot.ly\"})});</script>"
      ]
     },
     "metadata": {},
     "output_type": "display_data"
    },
    {
     "data": {
      "application/vnd.plotly.v1+json": {
       "data": [
        {
         "name": "Coefficient of Variation",
         "type": "scatter",
         "x": [
          1,
          2,
          3,
          4,
          5,
          6,
          7,
          8,
          9
         ],
         "y": [
          0.9732053795628761,
          0.6972498356587471,
          0.5129406194188774,
          0.40401538052208624,
          0.350117642928068,
          0.31145894377782873,
          0.27458971207011873,
          0.23409475585939776,
          0.20058593807997055
         ]
        }
       ],
       "layout": {
        "font": {
         "color": "#FFF"
        },
        "height": 300,
        "paper_bgcolor": "#000",
        "plot_bgcolor": "#000",
        "title": "Choice after 50000 Iterations at Glimpse 9",
        "titlefont": {
         "color": "#FFF"
        },
        "width": 500,
        "xaxis": {
         "dtick": 1,
         "range": [
          0.5,
          9.5
         ],
         "tickcolor": "#FFF",
         "title": "True Class"
        },
        "yaxis": {
         "showgrid": true,
         "tickcolor": "#FFF",
         "title": "Coefficient of Variation"
        }
       }
      },
      "text/html": [
       "<div id=\"90a3393e-aa7a-4227-9ba9-6f5ad13ce530\" style=\"height: 300px; width: 500px;\" class=\"plotly-graph-div\"></div><script type=\"text/javascript\">require([\"plotly\"], function(Plotly) { window.PLOTLYENV=window.PLOTLYENV || {};window.PLOTLYENV.BASE_URL=\"https://plot.ly\";Plotly.newPlot(\"90a3393e-aa7a-4227-9ba9-6f5ad13ce530\", [{\"y\": [0.9732053795628761, 0.6972498356587471, 0.5129406194188774, 0.40401538052208624, 0.350117642928068, 0.31145894377782873, 0.27458971207011873, 0.23409475585939776, 0.20058593807997055], \"name\": \"Coefficient of Variation\", \"x\": [1, 2, 3, 4, 5, 6, 7, 8, 9], \"type\": \"scatter\"}], {\"titlefont\": {\"color\": \"#FFF\"}, \"plot_bgcolor\": \"#000\", \"width\": 500, \"title\": \"Choice after 50000 Iterations at Glimpse 9\", \"paper_bgcolor\": \"#000\", \"font\": {\"color\": \"#FFF\"}, \"xaxis\": {\"title\": \"True Class\", \"tickcolor\": \"#FFF\", \"range\": [0.5, 9.5], \"dtick\": 1}, \"height\": 300, \"yaxis\": {\"showgrid\": true, \"tickcolor\": \"#FFF\", \"title\": \"Coefficient of Variation\"}}, {\"showLink\": true, \"linkText\": \"Export to plot.ly\"})});</script>"
      ],
      "text/vnd.plotly.v1+html": [
       "<div id=\"90a3393e-aa7a-4227-9ba9-6f5ad13ce530\" style=\"height: 300px; width: 500px;\" class=\"plotly-graph-div\"></div><script type=\"text/javascript\">require([\"plotly\"], function(Plotly) { window.PLOTLYENV=window.PLOTLYENV || {};window.PLOTLYENV.BASE_URL=\"https://plot.ly\";Plotly.newPlot(\"90a3393e-aa7a-4227-9ba9-6f5ad13ce530\", [{\"y\": [0.9732053795628761, 0.6972498356587471, 0.5129406194188774, 0.40401538052208624, 0.350117642928068, 0.31145894377782873, 0.27458971207011873, 0.23409475585939776, 0.20058593807997055], \"name\": \"Coefficient of Variation\", \"x\": [1, 2, 3, 4, 5, 6, 7, 8, 9], \"type\": \"scatter\"}], {\"titlefont\": {\"color\": \"#FFF\"}, \"plot_bgcolor\": \"#000\", \"width\": 500, \"title\": \"Choice after 50000 Iterations at Glimpse 9\", \"paper_bgcolor\": \"#000\", \"font\": {\"color\": \"#FFF\"}, \"xaxis\": {\"title\": \"True Class\", \"tickcolor\": \"#FFF\", \"range\": [0.5, 9.5], \"dtick\": 1}, \"height\": 300, \"yaxis\": {\"showgrid\": true, \"tickcolor\": \"#FFF\", \"title\": \"Coefficient of Variation\"}}, {\"showLink\": true, \"linkText\": \"Export to plot.ly\"})});</script>"
      ]
     },
     "metadata": {},
     "output_type": "display_data"
    },
    {
     "data": {
      "application/vnd.plotly.v1+json": {
       "data": [
        {
         "name": "Mean",
         "type": "scatter",
         "x": [
          1,
          2,
          3,
          4,
          5,
          6,
          7,
          8,
          9
         ],
         "y": [
          1.130534793993815,
          2.1785472699042097,
          3.144656470070572,
          4.108538265986826,
          5.052630476166406,
          5.9414541784123935,
          6.66855258741108,
          7.218878906235544,
          7.642965056475009
         ]
        },
        {
         "name": "Standard Deviation",
         "type": "scatter",
         "x": [
          1,
          2,
          3,
          4,
          5,
          6,
          7,
          8,
          9
         ],
         "y": [
          1.0721195024999994,
          1.3567583467764341,
          1.5542075044269448,
          1.7510685497685816,
          1.8744425111693286,
          1.8885428879797932,
          1.8150360100255754,
          1.70315013344106,
          1.5819325579737575
         ],
         "yaxis": "y2"
        }
       ],
       "layout": {
        "font": {
         "color": "#FFF"
        },
        "height": 500,
        "legend": {
         "x": 0,
         "y": 1
        },
        "paper_bgcolor": "#000",
        "plot_bgcolor": "#000",
        "title": "Confidence after 100000 Iterations at Glimpse 0",
        "titlefont": {
         "color": "#FFF"
        },
        "width": 500,
        "xaxis": {
         "dtick": 1,
         "range": [
          0.5,
          9.5
         ],
         "tickcolor": "#FFF",
         "title": "True Class"
        },
        "yaxis": {
         "dtick": 1,
         "range": [
          0.5,
          9.5
         ],
         "tickcolor": "#FFF",
         "title": "Mean"
        },
        "yaxis2": {
         "gridcolor": "#999",
         "overlaying": "y",
         "range": [
          0,
          3
         ],
         "side": "right",
         "tickcolor": "#FFF",
         "title": "Standard Deviation"
        }
       }
      },
      "text/html": [
       "<div id=\"ec6f87b5-b994-430c-ab7d-b0e39249801e\" style=\"height: 500px; width: 500px;\" class=\"plotly-graph-div\"></div><script type=\"text/javascript\">require([\"plotly\"], function(Plotly) { window.PLOTLYENV=window.PLOTLYENV || {};window.PLOTLYENV.BASE_URL=\"https://plot.ly\";Plotly.newPlot(\"ec6f87b5-b994-430c-ab7d-b0e39249801e\", [{\"y\": [1.130534793993815, 2.1785472699042097, 3.144656470070572, 4.108538265986826, 5.052630476166406, 5.9414541784123935, 6.66855258741108, 7.218878906235544, 7.642965056475009], \"name\": \"Mean\", \"x\": [1, 2, 3, 4, 5, 6, 7, 8, 9], \"type\": \"scatter\"}, {\"y\": [1.0721195024999994, 1.3567583467764341, 1.5542075044269448, 1.7510685497685816, 1.8744425111693286, 1.8885428879797932, 1.8150360100255754, 1.70315013344106, 1.5819325579737575], \"type\": \"scatter\", \"name\": \"Standard Deviation\", \"x\": [1, 2, 3, 4, 5, 6, 7, 8, 9], \"yaxis\": \"y2\"}], {\"titlefont\": {\"color\": \"#FFF\"}, \"plot_bgcolor\": \"#000\", \"yaxis2\": {\"title\": \"Standard Deviation\", \"tickcolor\": \"#FFF\", \"range\": [0, 3], \"gridcolor\": \"#999\", \"overlaying\": \"y\", \"side\": \"right\"}, \"legend\": {\"y\": 1, \"x\": 0}, \"paper_bgcolor\": \"#000\", \"font\": {\"color\": \"#FFF\"}, \"yaxis\": {\"title\": \"Mean\", \"tickcolor\": \"#FFF\", \"range\": [0.5, 9.5], \"dtick\": 1}, \"xaxis\": {\"title\": \"True Class\", \"tickcolor\": \"#FFF\", \"range\": [0.5, 9.5], \"dtick\": 1}, \"height\": 500, \"width\": 500, \"title\": \"Confidence after 100000 Iterations at Glimpse 0\"}, {\"showLink\": true, \"linkText\": \"Export to plot.ly\"})});</script>"
      ],
      "text/vnd.plotly.v1+html": [
       "<div id=\"ec6f87b5-b994-430c-ab7d-b0e39249801e\" style=\"height: 500px; width: 500px;\" class=\"plotly-graph-div\"></div><script type=\"text/javascript\">require([\"plotly\"], function(Plotly) { window.PLOTLYENV=window.PLOTLYENV || {};window.PLOTLYENV.BASE_URL=\"https://plot.ly\";Plotly.newPlot(\"ec6f87b5-b994-430c-ab7d-b0e39249801e\", [{\"y\": [1.130534793993815, 2.1785472699042097, 3.144656470070572, 4.108538265986826, 5.052630476166406, 5.9414541784123935, 6.66855258741108, 7.218878906235544, 7.642965056475009], \"name\": \"Mean\", \"x\": [1, 2, 3, 4, 5, 6, 7, 8, 9], \"type\": \"scatter\"}, {\"y\": [1.0721195024999994, 1.3567583467764341, 1.5542075044269448, 1.7510685497685816, 1.8744425111693286, 1.8885428879797932, 1.8150360100255754, 1.70315013344106, 1.5819325579737575], \"type\": \"scatter\", \"name\": \"Standard Deviation\", \"x\": [1, 2, 3, 4, 5, 6, 7, 8, 9], \"yaxis\": \"y2\"}], {\"titlefont\": {\"color\": \"#FFF\"}, \"plot_bgcolor\": \"#000\", \"yaxis2\": {\"title\": \"Standard Deviation\", \"tickcolor\": \"#FFF\", \"range\": [0, 3], \"gridcolor\": \"#999\", \"overlaying\": \"y\", \"side\": \"right\"}, \"legend\": {\"y\": 1, \"x\": 0}, \"paper_bgcolor\": \"#000\", \"font\": {\"color\": \"#FFF\"}, \"yaxis\": {\"title\": \"Mean\", \"tickcolor\": \"#FFF\", \"range\": [0.5, 9.5], \"dtick\": 1}, \"xaxis\": {\"title\": \"True Class\", \"tickcolor\": \"#FFF\", \"range\": [0.5, 9.5], \"dtick\": 1}, \"height\": 500, \"width\": 500, \"title\": \"Confidence after 100000 Iterations at Glimpse 0\"}, {\"showLink\": true, \"linkText\": \"Export to plot.ly\"})});</script>"
      ]
     },
     "metadata": {},
     "output_type": "display_data"
    },
    {
     "data": {
      "application/vnd.plotly.v1+json": {
       "data": [
        {
         "name": "Coefficient of Variation",
         "type": "scatter",
         "x": [
          1,
          2,
          3,
          4,
          5,
          6,
          7,
          8,
          9
         ],
         "y": [
          0.9486224712518785,
          0.6230711763592329,
          0.4942917658992606,
          0.42613349767832504,
          0.37096282834223865,
          0.31783215398545706,
          0.2721619869686253,
          0.23598749611599726,
          0.2070090618212567
         ]
        }
       ],
       "layout": {
        "font": {
         "color": "#FFF"
        },
        "height": 300,
        "paper_bgcolor": "#000",
        "plot_bgcolor": "#000",
        "title": "Confidence after 100000 Iterations at Glimpse 0",
        "titlefont": {
         "color": "#FFF"
        },
        "width": 500,
        "xaxis": {
         "dtick": 1,
         "range": [
          0.5,
          9.5
         ],
         "tickcolor": "#FFF",
         "title": "True Class"
        },
        "yaxis": {
         "showgrid": true,
         "tickcolor": "#FFF",
         "title": "Coefficient of Variation"
        }
       }
      },
      "text/html": [
       "<div id=\"7427b0ec-68f0-41fc-b16f-3d1cd4971ac9\" style=\"height: 300px; width: 500px;\" class=\"plotly-graph-div\"></div><script type=\"text/javascript\">require([\"plotly\"], function(Plotly) { window.PLOTLYENV=window.PLOTLYENV || {};window.PLOTLYENV.BASE_URL=\"https://plot.ly\";Plotly.newPlot(\"7427b0ec-68f0-41fc-b16f-3d1cd4971ac9\", [{\"y\": [0.9486224712518785, 0.6230711763592329, 0.4942917658992606, 0.42613349767832504, 0.37096282834223865, 0.31783215398545706, 0.2721619869686253, 0.23598749611599726, 0.2070090618212567], \"name\": \"Coefficient of Variation\", \"x\": [1, 2, 3, 4, 5, 6, 7, 8, 9], \"type\": \"scatter\"}], {\"titlefont\": {\"color\": \"#FFF\"}, \"plot_bgcolor\": \"#000\", \"width\": 500, \"title\": \"Confidence after 100000 Iterations at Glimpse 0\", \"paper_bgcolor\": \"#000\", \"font\": {\"color\": \"#FFF\"}, \"xaxis\": {\"title\": \"True Class\", \"tickcolor\": \"#FFF\", \"range\": [0.5, 9.5], \"dtick\": 1}, \"height\": 300, \"yaxis\": {\"showgrid\": true, \"tickcolor\": \"#FFF\", \"title\": \"Coefficient of Variation\"}}, {\"showLink\": true, \"linkText\": \"Export to plot.ly\"})});</script>"
      ],
      "text/vnd.plotly.v1+html": [
       "<div id=\"7427b0ec-68f0-41fc-b16f-3d1cd4971ac9\" style=\"height: 300px; width: 500px;\" class=\"plotly-graph-div\"></div><script type=\"text/javascript\">require([\"plotly\"], function(Plotly) { window.PLOTLYENV=window.PLOTLYENV || {};window.PLOTLYENV.BASE_URL=\"https://plot.ly\";Plotly.newPlot(\"7427b0ec-68f0-41fc-b16f-3d1cd4971ac9\", [{\"y\": [0.9486224712518785, 0.6230711763592329, 0.4942917658992606, 0.42613349767832504, 0.37096282834223865, 0.31783215398545706, 0.2721619869686253, 0.23598749611599726, 0.2070090618212567], \"name\": \"Coefficient of Variation\", \"x\": [1, 2, 3, 4, 5, 6, 7, 8, 9], \"type\": \"scatter\"}], {\"titlefont\": {\"color\": \"#FFF\"}, \"plot_bgcolor\": \"#000\", \"width\": 500, \"title\": \"Confidence after 100000 Iterations at Glimpse 0\", \"paper_bgcolor\": \"#000\", \"font\": {\"color\": \"#FFF\"}, \"xaxis\": {\"title\": \"True Class\", \"tickcolor\": \"#FFF\", \"range\": [0.5, 9.5], \"dtick\": 1}, \"height\": 300, \"yaxis\": {\"showgrid\": true, \"tickcolor\": \"#FFF\", \"title\": \"Coefficient of Variation\"}}, {\"showLink\": true, \"linkText\": \"Export to plot.ly\"})});</script>"
      ]
     },
     "metadata": {},
     "output_type": "display_data"
    },
    {
     "data": {
      "application/vnd.plotly.v1+json": {
       "data": [
        {
         "name": "Mean",
         "type": "scatter",
         "x": [
          1,
          2,
          3,
          4,
          5,
          6,
          7,
          8,
          9
         ],
         "y": [
          1.0191999999999999,
          1.9485,
          2.8612,
          3.844599999999999,
          4.840400000000001,
          5.8265,
          6.701600000000001,
          7.3755,
          7.8845
         ]
        },
        {
         "name": "Standard Deviation",
         "type": "scatter",
         "x": [
          1,
          2,
          3,
          4,
          5,
          6,
          7,
          8,
          9
         ],
         "y": [
          1.0093158397945012,
          1.1814501603287368,
          1.3116529409285917,
          1.4912061392012896,
          1.6495414375115989,
          1.7038102511207207,
          1.6668522903666716,
          1.5819137563226842,
          1.4650000617255474
         ],
         "yaxis": "y2"
        }
       ],
       "layout": {
        "font": {
         "color": "#FFF"
        },
        "height": 500,
        "legend": {
         "x": 0,
         "y": 1
        },
        "paper_bgcolor": "#000",
        "plot_bgcolor": "#000",
        "title": "Choice after 100000 Iterations at Glimpse 0",
        "titlefont": {
         "color": "#FFF"
        },
        "width": 500,
        "xaxis": {
         "dtick": 1,
         "range": [
          0.5,
          9.5
         ],
         "tickcolor": "#FFF",
         "title": "True Class"
        },
        "yaxis": {
         "dtick": 1,
         "range": [
          0.5,
          9.5
         ],
         "tickcolor": "#FFF",
         "title": "Mean"
        },
        "yaxis2": {
         "gridcolor": "#999",
         "overlaying": "y",
         "range": [
          0,
          3
         ],
         "side": "right",
         "tickcolor": "#FFF",
         "title": "Standard Deviation"
        }
       }
      },
      "text/html": [
       "<div id=\"c15562ed-8d02-49b0-9419-7b5bad9fd7a4\" style=\"height: 500px; width: 500px;\" class=\"plotly-graph-div\"></div><script type=\"text/javascript\">require([\"plotly\"], function(Plotly) { window.PLOTLYENV=window.PLOTLYENV || {};window.PLOTLYENV.BASE_URL=\"https://plot.ly\";Plotly.newPlot(\"c15562ed-8d02-49b0-9419-7b5bad9fd7a4\", [{\"y\": [1.0191999999999999, 1.9485, 2.8612, 3.844599999999999, 4.840400000000001, 5.8265, 6.701600000000001, 7.3755, 7.8845], \"name\": \"Mean\", \"x\": [1, 2, 3, 4, 5, 6, 7, 8, 9], \"type\": \"scatter\"}, {\"y\": [1.0093158397945012, 1.1814501603287368, 1.3116529409285917, 1.4912061392012896, 1.6495414375115989, 1.7038102511207207, 1.6668522903666716, 1.5819137563226842, 1.4650000617255474], \"type\": \"scatter\", \"name\": \"Standard Deviation\", \"x\": [1, 2, 3, 4, 5, 6, 7, 8, 9], \"yaxis\": \"y2\"}], {\"titlefont\": {\"color\": \"#FFF\"}, \"plot_bgcolor\": \"#000\", \"yaxis2\": {\"title\": \"Standard Deviation\", \"tickcolor\": \"#FFF\", \"range\": [0, 3], \"gridcolor\": \"#999\", \"overlaying\": \"y\", \"side\": \"right\"}, \"legend\": {\"y\": 1, \"x\": 0}, \"paper_bgcolor\": \"#000\", \"font\": {\"color\": \"#FFF\"}, \"yaxis\": {\"title\": \"Mean\", \"tickcolor\": \"#FFF\", \"range\": [0.5, 9.5], \"dtick\": 1}, \"xaxis\": {\"title\": \"True Class\", \"tickcolor\": \"#FFF\", \"range\": [0.5, 9.5], \"dtick\": 1}, \"height\": 500, \"width\": 500, \"title\": \"Choice after 100000 Iterations at Glimpse 0\"}, {\"showLink\": true, \"linkText\": \"Export to plot.ly\"})});</script>"
      ],
      "text/vnd.plotly.v1+html": [
       "<div id=\"c15562ed-8d02-49b0-9419-7b5bad9fd7a4\" style=\"height: 500px; width: 500px;\" class=\"plotly-graph-div\"></div><script type=\"text/javascript\">require([\"plotly\"], function(Plotly) { window.PLOTLYENV=window.PLOTLYENV || {};window.PLOTLYENV.BASE_URL=\"https://plot.ly\";Plotly.newPlot(\"c15562ed-8d02-49b0-9419-7b5bad9fd7a4\", [{\"y\": [1.0191999999999999, 1.9485, 2.8612, 3.844599999999999, 4.840400000000001, 5.8265, 6.701600000000001, 7.3755, 7.8845], \"name\": \"Mean\", \"x\": [1, 2, 3, 4, 5, 6, 7, 8, 9], \"type\": \"scatter\"}, {\"y\": [1.0093158397945012, 1.1814501603287368, 1.3116529409285917, 1.4912061392012896, 1.6495414375115989, 1.7038102511207207, 1.6668522903666716, 1.5819137563226842, 1.4650000617255474], \"type\": \"scatter\", \"name\": \"Standard Deviation\", \"x\": [1, 2, 3, 4, 5, 6, 7, 8, 9], \"yaxis\": \"y2\"}], {\"titlefont\": {\"color\": \"#FFF\"}, \"plot_bgcolor\": \"#000\", \"yaxis2\": {\"title\": \"Standard Deviation\", \"tickcolor\": \"#FFF\", \"range\": [0, 3], \"gridcolor\": \"#999\", \"overlaying\": \"y\", \"side\": \"right\"}, \"legend\": {\"y\": 1, \"x\": 0}, \"paper_bgcolor\": \"#000\", \"font\": {\"color\": \"#FFF\"}, \"yaxis\": {\"title\": \"Mean\", \"tickcolor\": \"#FFF\", \"range\": [0.5, 9.5], \"dtick\": 1}, \"xaxis\": {\"title\": \"True Class\", \"tickcolor\": \"#FFF\", \"range\": [0.5, 9.5], \"dtick\": 1}, \"height\": 500, \"width\": 500, \"title\": \"Choice after 100000 Iterations at Glimpse 0\"}, {\"showLink\": true, \"linkText\": \"Export to plot.ly\"})});</script>"
      ]
     },
     "metadata": {},
     "output_type": "display_data"
    },
    {
     "data": {
      "application/vnd.plotly.v1+json": {
       "data": [
        {
         "name": "Coefficient of Variation",
         "type": "scatter",
         "x": [
          1,
          2,
          3,
          4,
          5,
          6,
          7,
          8,
          9
         ],
         "y": [
          0.9903476698595586,
          0.606672001091252,
          0.45865424999669696,
          0.3878200831696907,
          0.3408203984133897,
          0.29239240066304284,
          0.24864647916392751,
          0.2145508788062298,
          0.18584982551573093
         ]
        }
       ],
       "layout": {
        "font": {
         "color": "#FFF"
        },
        "height": 300,
        "paper_bgcolor": "#000",
        "plot_bgcolor": "#000",
        "title": "Choice after 100000 Iterations at Glimpse 0",
        "titlefont": {
         "color": "#FFF"
        },
        "width": 500,
        "xaxis": {
         "dtick": 1,
         "range": [
          0.5,
          9.5
         ],
         "tickcolor": "#FFF",
         "title": "True Class"
        },
        "yaxis": {
         "showgrid": true,
         "tickcolor": "#FFF",
         "title": "Coefficient of Variation"
        }
       }
      },
      "text/html": [
       "<div id=\"4460c5b5-b454-499a-81b8-f46c8ed806b6\" style=\"height: 300px; width: 500px;\" class=\"plotly-graph-div\"></div><script type=\"text/javascript\">require([\"plotly\"], function(Plotly) { window.PLOTLYENV=window.PLOTLYENV || {};window.PLOTLYENV.BASE_URL=\"https://plot.ly\";Plotly.newPlot(\"4460c5b5-b454-499a-81b8-f46c8ed806b6\", [{\"y\": [0.9903476698595586, 0.606672001091252, 0.45865424999669696, 0.3878200831696907, 0.3408203984133897, 0.29239240066304284, 0.24864647916392751, 0.2145508788062298, 0.18584982551573093], \"name\": \"Coefficient of Variation\", \"x\": [1, 2, 3, 4, 5, 6, 7, 8, 9], \"type\": \"scatter\"}], {\"titlefont\": {\"color\": \"#FFF\"}, \"plot_bgcolor\": \"#000\", \"width\": 500, \"title\": \"Choice after 100000 Iterations at Glimpse 0\", \"paper_bgcolor\": \"#000\", \"font\": {\"color\": \"#FFF\"}, \"xaxis\": {\"title\": \"True Class\", \"tickcolor\": \"#FFF\", \"range\": [0.5, 9.5], \"dtick\": 1}, \"height\": 300, \"yaxis\": {\"showgrid\": true, \"tickcolor\": \"#FFF\", \"title\": \"Coefficient of Variation\"}}, {\"showLink\": true, \"linkText\": \"Export to plot.ly\"})});</script>"
      ],
      "text/vnd.plotly.v1+html": [
       "<div id=\"4460c5b5-b454-499a-81b8-f46c8ed806b6\" style=\"height: 300px; width: 500px;\" class=\"plotly-graph-div\"></div><script type=\"text/javascript\">require([\"plotly\"], function(Plotly) { window.PLOTLYENV=window.PLOTLYENV || {};window.PLOTLYENV.BASE_URL=\"https://plot.ly\";Plotly.newPlot(\"4460c5b5-b454-499a-81b8-f46c8ed806b6\", [{\"y\": [0.9903476698595586, 0.606672001091252, 0.45865424999669696, 0.3878200831696907, 0.3408203984133897, 0.29239240066304284, 0.24864647916392751, 0.2145508788062298, 0.18584982551573093], \"name\": \"Coefficient of Variation\", \"x\": [1, 2, 3, 4, 5, 6, 7, 8, 9], \"type\": \"scatter\"}], {\"titlefont\": {\"color\": \"#FFF\"}, \"plot_bgcolor\": \"#000\", \"width\": 500, \"title\": \"Choice after 100000 Iterations at Glimpse 0\", \"paper_bgcolor\": \"#000\", \"font\": {\"color\": \"#FFF\"}, \"xaxis\": {\"title\": \"True Class\", \"tickcolor\": \"#FFF\", \"range\": [0.5, 9.5], \"dtick\": 1}, \"height\": 300, \"yaxis\": {\"showgrid\": true, \"tickcolor\": \"#FFF\", \"title\": \"Coefficient of Variation\"}}, {\"showLink\": true, \"linkText\": \"Export to plot.ly\"})});</script>"
      ]
     },
     "metadata": {},
     "output_type": "display_data"
    },
    {
     "data": {
      "application/vnd.plotly.v1+json": {
       "data": [
        {
         "name": "Mean",
         "type": "scatter",
         "x": [
          1,
          2,
          3,
          4,
          5,
          6,
          7,
          8,
          9
         ],
         "y": [
          1.0827529768880308,
          2.1837284891329998,
          3.0929768476432957,
          4.062201514524451,
          5.042949591008551,
          5.9716100563192205,
          6.733651225855221,
          7.3193856325868865,
          7.763041283539446
         ]
        },
        {
         "name": "Standard Deviation",
         "type": "scatter",
         "x": [
          1,
          2,
          3,
          4,
          5,
          6,
          7,
          8,
          9
         ],
         "y": [
          1.0418222050884314,
          1.2615050630013058,
          1.456387252739675,
          1.6540412405765388,
          1.7828889549196691,
          1.8095051214609115,
          1.7339609820669686,
          1.6179720274966336,
          1.4929557163924139
         ],
         "yaxis": "y2"
        }
       ],
       "layout": {
        "font": {
         "color": "#FFF"
        },
        "height": 500,
        "legend": {
         "x": 0,
         "y": 1
        },
        "paper_bgcolor": "#000",
        "plot_bgcolor": "#000",
        "title": "Confidence after 100000 Iterations at Glimpse 3",
        "titlefont": {
         "color": "#FFF"
        },
        "width": 500,
        "xaxis": {
         "dtick": 1,
         "range": [
          0.5,
          9.5
         ],
         "tickcolor": "#FFF",
         "title": "True Class"
        },
        "yaxis": {
         "dtick": 1,
         "range": [
          0.5,
          9.5
         ],
         "tickcolor": "#FFF",
         "title": "Mean"
        },
        "yaxis2": {
         "gridcolor": "#999",
         "overlaying": "y",
         "range": [
          0,
          3
         ],
         "side": "right",
         "tickcolor": "#FFF",
         "title": "Standard Deviation"
        }
       }
      },
      "text/html": [
       "<div id=\"4da3b279-0875-4e24-92c8-aafd470b1cdf\" style=\"height: 500px; width: 500px;\" class=\"plotly-graph-div\"></div><script type=\"text/javascript\">require([\"plotly\"], function(Plotly) { window.PLOTLYENV=window.PLOTLYENV || {};window.PLOTLYENV.BASE_URL=\"https://plot.ly\";Plotly.newPlot(\"4da3b279-0875-4e24-92c8-aafd470b1cdf\", [{\"y\": [1.0827529768880308, 2.1837284891329998, 3.0929768476432957, 4.062201514524451, 5.042949591008551, 5.9716100563192205, 6.733651225855221, 7.3193856325868865, 7.763041283539446], \"name\": \"Mean\", \"x\": [1, 2, 3, 4, 5, 6, 7, 8, 9], \"type\": \"scatter\"}, {\"y\": [1.0418222050884314, 1.2615050630013058, 1.456387252739675, 1.6540412405765388, 1.7828889549196691, 1.8095051214609115, 1.7339609820669686, 1.6179720274966336, 1.4929557163924139], \"type\": \"scatter\", \"name\": \"Standard Deviation\", \"x\": [1, 2, 3, 4, 5, 6, 7, 8, 9], \"yaxis\": \"y2\"}], {\"titlefont\": {\"color\": \"#FFF\"}, \"plot_bgcolor\": \"#000\", \"yaxis2\": {\"title\": \"Standard Deviation\", \"tickcolor\": \"#FFF\", \"range\": [0, 3], \"gridcolor\": \"#999\", \"overlaying\": \"y\", \"side\": \"right\"}, \"legend\": {\"y\": 1, \"x\": 0}, \"paper_bgcolor\": \"#000\", \"font\": {\"color\": \"#FFF\"}, \"yaxis\": {\"title\": \"Mean\", \"tickcolor\": \"#FFF\", \"range\": [0.5, 9.5], \"dtick\": 1}, \"xaxis\": {\"title\": \"True Class\", \"tickcolor\": \"#FFF\", \"range\": [0.5, 9.5], \"dtick\": 1}, \"height\": 500, \"width\": 500, \"title\": \"Confidence after 100000 Iterations at Glimpse 3\"}, {\"showLink\": true, \"linkText\": \"Export to plot.ly\"})});</script>"
      ],
      "text/vnd.plotly.v1+html": [
       "<div id=\"4da3b279-0875-4e24-92c8-aafd470b1cdf\" style=\"height: 500px; width: 500px;\" class=\"plotly-graph-div\"></div><script type=\"text/javascript\">require([\"plotly\"], function(Plotly) { window.PLOTLYENV=window.PLOTLYENV || {};window.PLOTLYENV.BASE_URL=\"https://plot.ly\";Plotly.newPlot(\"4da3b279-0875-4e24-92c8-aafd470b1cdf\", [{\"y\": [1.0827529768880308, 2.1837284891329998, 3.0929768476432957, 4.062201514524451, 5.042949591008551, 5.9716100563192205, 6.733651225855221, 7.3193856325868865, 7.763041283539446], \"name\": \"Mean\", \"x\": [1, 2, 3, 4, 5, 6, 7, 8, 9], \"type\": \"scatter\"}, {\"y\": [1.0418222050884314, 1.2615050630013058, 1.456387252739675, 1.6540412405765388, 1.7828889549196691, 1.8095051214609115, 1.7339609820669686, 1.6179720274966336, 1.4929557163924139], \"type\": \"scatter\", \"name\": \"Standard Deviation\", \"x\": [1, 2, 3, 4, 5, 6, 7, 8, 9], \"yaxis\": \"y2\"}], {\"titlefont\": {\"color\": \"#FFF\"}, \"plot_bgcolor\": \"#000\", \"yaxis2\": {\"title\": \"Standard Deviation\", \"tickcolor\": \"#FFF\", \"range\": [0, 3], \"gridcolor\": \"#999\", \"overlaying\": \"y\", \"side\": \"right\"}, \"legend\": {\"y\": 1, \"x\": 0}, \"paper_bgcolor\": \"#000\", \"font\": {\"color\": \"#FFF\"}, \"yaxis\": {\"title\": \"Mean\", \"tickcolor\": \"#FFF\", \"range\": [0.5, 9.5], \"dtick\": 1}, \"xaxis\": {\"title\": \"True Class\", \"tickcolor\": \"#FFF\", \"range\": [0.5, 9.5], \"dtick\": 1}, \"height\": 500, \"width\": 500, \"title\": \"Confidence after 100000 Iterations at Glimpse 3\"}, {\"showLink\": true, \"linkText\": \"Export to plot.ly\"})});</script>"
      ]
     },
     "metadata": {},
     "output_type": "display_data"
    },
    {
     "data": {
      "application/vnd.plotly.v1+json": {
       "data": [
        {
         "name": "Coefficient of Variation",
         "type": "scatter",
         "x": [
          1,
          2,
          3,
          4,
          5,
          6,
          7,
          8,
          9
         ],
         "y": [
          0.9625557769482306,
          0.5783529652430998,
          0.4710758081307862,
          0.4071140666713814,
          0.3535760393375539,
          0.3030127264296971,
          0.2575066651476249,
          0.22110872498853662,
          0.19235023205256535
         ]
        }
       ],
       "layout": {
        "font": {
         "color": "#FFF"
        },
        "height": 300,
        "paper_bgcolor": "#000",
        "plot_bgcolor": "#000",
        "title": "Confidence after 100000 Iterations at Glimpse 3",
        "titlefont": {
         "color": "#FFF"
        },
        "width": 500,
        "xaxis": {
         "dtick": 1,
         "range": [
          0.5,
          9.5
         ],
         "tickcolor": "#FFF",
         "title": "True Class"
        },
        "yaxis": {
         "showgrid": true,
         "tickcolor": "#FFF",
         "title": "Coefficient of Variation"
        }
       }
      },
      "text/html": [
       "<div id=\"b0172d4e-ade0-4fd1-a5ab-5182daeb5974\" style=\"height: 300px; width: 500px;\" class=\"plotly-graph-div\"></div><script type=\"text/javascript\">require([\"plotly\"], function(Plotly) { window.PLOTLYENV=window.PLOTLYENV || {};window.PLOTLYENV.BASE_URL=\"https://plot.ly\";Plotly.newPlot(\"b0172d4e-ade0-4fd1-a5ab-5182daeb5974\", [{\"y\": [0.9625557769482306, 0.5783529652430998, 0.4710758081307862, 0.4071140666713814, 0.3535760393375539, 0.3030127264296971, 0.2575066651476249, 0.22110872498853662, 0.19235023205256535], \"name\": \"Coefficient of Variation\", \"x\": [1, 2, 3, 4, 5, 6, 7, 8, 9], \"type\": \"scatter\"}], {\"titlefont\": {\"color\": \"#FFF\"}, \"plot_bgcolor\": \"#000\", \"width\": 500, \"title\": \"Confidence after 100000 Iterations at Glimpse 3\", \"paper_bgcolor\": \"#000\", \"font\": {\"color\": \"#FFF\"}, \"xaxis\": {\"title\": \"True Class\", \"tickcolor\": \"#FFF\", \"range\": [0.5, 9.5], \"dtick\": 1}, \"height\": 300, \"yaxis\": {\"showgrid\": true, \"tickcolor\": \"#FFF\", \"title\": \"Coefficient of Variation\"}}, {\"showLink\": true, \"linkText\": \"Export to plot.ly\"})});</script>"
      ],
      "text/vnd.plotly.v1+html": [
       "<div id=\"b0172d4e-ade0-4fd1-a5ab-5182daeb5974\" style=\"height: 300px; width: 500px;\" class=\"plotly-graph-div\"></div><script type=\"text/javascript\">require([\"plotly\"], function(Plotly) { window.PLOTLYENV=window.PLOTLYENV || {};window.PLOTLYENV.BASE_URL=\"https://plot.ly\";Plotly.newPlot(\"b0172d4e-ade0-4fd1-a5ab-5182daeb5974\", [{\"y\": [0.9625557769482306, 0.5783529652430998, 0.4710758081307862, 0.4071140666713814, 0.3535760393375539, 0.3030127264296971, 0.2575066651476249, 0.22110872498853662, 0.19235023205256535], \"name\": \"Coefficient of Variation\", \"x\": [1, 2, 3, 4, 5, 6, 7, 8, 9], \"type\": \"scatter\"}], {\"titlefont\": {\"color\": \"#FFF\"}, \"plot_bgcolor\": \"#000\", \"width\": 500, \"title\": \"Confidence after 100000 Iterations at Glimpse 3\", \"paper_bgcolor\": \"#000\", \"font\": {\"color\": \"#FFF\"}, \"xaxis\": {\"title\": \"True Class\", \"tickcolor\": \"#FFF\", \"range\": [0.5, 9.5], \"dtick\": 1}, \"height\": 300, \"yaxis\": {\"showgrid\": true, \"tickcolor\": \"#FFF\", \"title\": \"Coefficient of Variation\"}}, {\"showLink\": true, \"linkText\": \"Export to plot.ly\"})});</script>"
      ]
     },
     "metadata": {},
     "output_type": "display_data"
    },
    {
     "data": {
      "application/vnd.plotly.v1+json": {
       "data": [
        {
         "name": "Mean",
         "type": "scatter",
         "x": [
          1,
          2,
          3,
          4,
          5,
          6,
          7,
          8,
          9
         ],
         "y": [
          1.0162,
          2.0309,
          2.9059999999999997,
          3.8903,
          4.8982,
          5.9172,
          6.777499999999999,
          7.4539,
          7.978999999999999
         ]
        },
        {
         "name": "Standard Deviation",
         "type": "scatter",
         "x": [
          1,
          2,
          3,
          4,
          5,
          6,
          7,
          8,
          9
         ],
         "y": [
          1.0078806313903839,
          1.1510905818399917,
          1.2967882756062845,
          1.4669699866343875,
          1.6073952879055071,
          1.6463715772909975,
          1.5906276975842628,
          1.495394056919249,
          1.3686722722435145
         ],
         "yaxis": "y2"
        }
       ],
       "layout": {
        "font": {
         "color": "#FFF"
        },
        "height": 500,
        "legend": {
         "x": 0,
         "y": 1
        },
        "paper_bgcolor": "#000",
        "plot_bgcolor": "#000",
        "title": "Choice after 100000 Iterations at Glimpse 3",
        "titlefont": {
         "color": "#FFF"
        },
        "width": 500,
        "xaxis": {
         "dtick": 1,
         "range": [
          0.5,
          9.5
         ],
         "tickcolor": "#FFF",
         "title": "True Class"
        },
        "yaxis": {
         "dtick": 1,
         "range": [
          0.5,
          9.5
         ],
         "tickcolor": "#FFF",
         "title": "Mean"
        },
        "yaxis2": {
         "gridcolor": "#999",
         "overlaying": "y",
         "range": [
          0,
          3
         ],
         "side": "right",
         "tickcolor": "#FFF",
         "title": "Standard Deviation"
        }
       }
      },
      "text/html": [
       "<div id=\"96c0f8e6-577e-4f7b-ba95-40736781b465\" style=\"height: 500px; width: 500px;\" class=\"plotly-graph-div\"></div><script type=\"text/javascript\">require([\"plotly\"], function(Plotly) { window.PLOTLYENV=window.PLOTLYENV || {};window.PLOTLYENV.BASE_URL=\"https://plot.ly\";Plotly.newPlot(\"96c0f8e6-577e-4f7b-ba95-40736781b465\", [{\"y\": [1.0162, 2.0309, 2.9059999999999997, 3.8903, 4.8982, 5.9172, 6.777499999999999, 7.4539, 7.978999999999999], \"name\": \"Mean\", \"x\": [1, 2, 3, 4, 5, 6, 7, 8, 9], \"type\": \"scatter\"}, {\"y\": [1.0078806313903839, 1.1510905818399917, 1.2967882756062845, 1.4669699866343875, 1.6073952879055071, 1.6463715772909975, 1.5906276975842628, 1.495394056919249, 1.3686722722435145], \"type\": \"scatter\", \"name\": \"Standard Deviation\", \"x\": [1, 2, 3, 4, 5, 6, 7, 8, 9], \"yaxis\": \"y2\"}], {\"titlefont\": {\"color\": \"#FFF\"}, \"plot_bgcolor\": \"#000\", \"yaxis2\": {\"title\": \"Standard Deviation\", \"tickcolor\": \"#FFF\", \"range\": [0, 3], \"gridcolor\": \"#999\", \"overlaying\": \"y\", \"side\": \"right\"}, \"legend\": {\"y\": 1, \"x\": 0}, \"paper_bgcolor\": \"#000\", \"font\": {\"color\": \"#FFF\"}, \"yaxis\": {\"title\": \"Mean\", \"tickcolor\": \"#FFF\", \"range\": [0.5, 9.5], \"dtick\": 1}, \"xaxis\": {\"title\": \"True Class\", \"tickcolor\": \"#FFF\", \"range\": [0.5, 9.5], \"dtick\": 1}, \"height\": 500, \"width\": 500, \"title\": \"Choice after 100000 Iterations at Glimpse 3\"}, {\"showLink\": true, \"linkText\": \"Export to plot.ly\"})});</script>"
      ],
      "text/vnd.plotly.v1+html": [
       "<div id=\"96c0f8e6-577e-4f7b-ba95-40736781b465\" style=\"height: 500px; width: 500px;\" class=\"plotly-graph-div\"></div><script type=\"text/javascript\">require([\"plotly\"], function(Plotly) { window.PLOTLYENV=window.PLOTLYENV || {};window.PLOTLYENV.BASE_URL=\"https://plot.ly\";Plotly.newPlot(\"96c0f8e6-577e-4f7b-ba95-40736781b465\", [{\"y\": [1.0162, 2.0309, 2.9059999999999997, 3.8903, 4.8982, 5.9172, 6.777499999999999, 7.4539, 7.978999999999999], \"name\": \"Mean\", \"x\": [1, 2, 3, 4, 5, 6, 7, 8, 9], \"type\": \"scatter\"}, {\"y\": [1.0078806313903839, 1.1510905818399917, 1.2967882756062845, 1.4669699866343875, 1.6073952879055071, 1.6463715772909975, 1.5906276975842628, 1.495394056919249, 1.3686722722435145], \"type\": \"scatter\", \"name\": \"Standard Deviation\", \"x\": [1, 2, 3, 4, 5, 6, 7, 8, 9], \"yaxis\": \"y2\"}], {\"titlefont\": {\"color\": \"#FFF\"}, \"plot_bgcolor\": \"#000\", \"yaxis2\": {\"title\": \"Standard Deviation\", \"tickcolor\": \"#FFF\", \"range\": [0, 3], \"gridcolor\": \"#999\", \"overlaying\": \"y\", \"side\": \"right\"}, \"legend\": {\"y\": 1, \"x\": 0}, \"paper_bgcolor\": \"#000\", \"font\": {\"color\": \"#FFF\"}, \"yaxis\": {\"title\": \"Mean\", \"tickcolor\": \"#FFF\", \"range\": [0.5, 9.5], \"dtick\": 1}, \"xaxis\": {\"title\": \"True Class\", \"tickcolor\": \"#FFF\", \"range\": [0.5, 9.5], \"dtick\": 1}, \"height\": 500, \"width\": 500, \"title\": \"Choice after 100000 Iterations at Glimpse 3\"}, {\"showLink\": true, \"linkText\": \"Export to plot.ly\"})});</script>"
      ]
     },
     "metadata": {},
     "output_type": "display_data"
    },
    {
     "data": {
      "application/vnd.plotly.v1+json": {
       "data": [
        {
         "name": "Coefficient of Variation",
         "type": "scatter",
         "x": [
          1,
          2,
          3,
          4,
          5,
          6,
          7,
          8,
          9
         ],
         "y": [
          0.9918595030924928,
          0.5676566063074453,
          0.44663226697199976,
          0.37705083825128655,
          0.3283190385278674,
          0.2781649088641788,
          0.23465735593774725,
          0.20067723584786093,
          0.1715485438490149
         ]
        }
       ],
       "layout": {
        "font": {
         "color": "#FFF"
        },
        "height": 300,
        "paper_bgcolor": "#000",
        "plot_bgcolor": "#000",
        "title": "Choice after 100000 Iterations at Glimpse 3",
        "titlefont": {
         "color": "#FFF"
        },
        "width": 500,
        "xaxis": {
         "dtick": 1,
         "range": [
          0.5,
          9.5
         ],
         "tickcolor": "#FFF",
         "title": "True Class"
        },
        "yaxis": {
         "showgrid": true,
         "tickcolor": "#FFF",
         "title": "Coefficient of Variation"
        }
       }
      },
      "text/html": [
       "<div id=\"fbf09a5a-dd5c-4297-992d-7a84c67b7307\" style=\"height: 300px; width: 500px;\" class=\"plotly-graph-div\"></div><script type=\"text/javascript\">require([\"plotly\"], function(Plotly) { window.PLOTLYENV=window.PLOTLYENV || {};window.PLOTLYENV.BASE_URL=\"https://plot.ly\";Plotly.newPlot(\"fbf09a5a-dd5c-4297-992d-7a84c67b7307\", [{\"y\": [0.9918595030924928, 0.5676566063074453, 0.44663226697199976, 0.37705083825128655, 0.3283190385278674, 0.2781649088641788, 0.23465735593774725, 0.20067723584786093, 0.1715485438490149], \"name\": \"Coefficient of Variation\", \"x\": [1, 2, 3, 4, 5, 6, 7, 8, 9], \"type\": \"scatter\"}], {\"titlefont\": {\"color\": \"#FFF\"}, \"plot_bgcolor\": \"#000\", \"width\": 500, \"title\": \"Choice after 100000 Iterations at Glimpse 3\", \"paper_bgcolor\": \"#000\", \"font\": {\"color\": \"#FFF\"}, \"xaxis\": {\"title\": \"True Class\", \"tickcolor\": \"#FFF\", \"range\": [0.5, 9.5], \"dtick\": 1}, \"height\": 300, \"yaxis\": {\"showgrid\": true, \"tickcolor\": \"#FFF\", \"title\": \"Coefficient of Variation\"}}, {\"showLink\": true, \"linkText\": \"Export to plot.ly\"})});</script>"
      ],
      "text/vnd.plotly.v1+html": [
       "<div id=\"fbf09a5a-dd5c-4297-992d-7a84c67b7307\" style=\"height: 300px; width: 500px;\" class=\"plotly-graph-div\"></div><script type=\"text/javascript\">require([\"plotly\"], function(Plotly) { window.PLOTLYENV=window.PLOTLYENV || {};window.PLOTLYENV.BASE_URL=\"https://plot.ly\";Plotly.newPlot(\"fbf09a5a-dd5c-4297-992d-7a84c67b7307\", [{\"y\": [0.9918595030924928, 0.5676566063074453, 0.44663226697199976, 0.37705083825128655, 0.3283190385278674, 0.2781649088641788, 0.23465735593774725, 0.20067723584786093, 0.1715485438490149], \"name\": \"Coefficient of Variation\", \"x\": [1, 2, 3, 4, 5, 6, 7, 8, 9], \"type\": \"scatter\"}], {\"titlefont\": {\"color\": \"#FFF\"}, \"plot_bgcolor\": \"#000\", \"width\": 500, \"title\": \"Choice after 100000 Iterations at Glimpse 3\", \"paper_bgcolor\": \"#000\", \"font\": {\"color\": \"#FFF\"}, \"xaxis\": {\"title\": \"True Class\", \"tickcolor\": \"#FFF\", \"range\": [0.5, 9.5], \"dtick\": 1}, \"height\": 300, \"yaxis\": {\"showgrid\": true, \"tickcolor\": \"#FFF\", \"title\": \"Coefficient of Variation\"}}, {\"showLink\": true, \"linkText\": \"Export to plot.ly\"})});</script>"
      ]
     },
     "metadata": {},
     "output_type": "display_data"
    },
    {
     "data": {
      "application/vnd.plotly.v1+json": {
       "data": [
        {
         "name": "Mean",
         "type": "scatter",
         "x": [
          1,
          2,
          3,
          4,
          5,
          6,
          7,
          8,
          9
         ],
         "y": [
          1.0905141149517743,
          2.1900747966747245,
          3.1033218431082137,
          4.069258236666249,
          5.043691109410266,
          5.955586221905582,
          6.696035093789286,
          7.275302625442961,
          7.7056526946062025
         ]
        },
        {
         "name": "Standard Deviation",
         "type": "scatter",
         "x": [
          1,
          2,
          3,
          4,
          5,
          6,
          7,
          8,
          9
         ],
         "y": [
          1.0447367002137136,
          1.2601019728218574,
          1.468821473325739,
          1.6685049491523762,
          1.7980986406816506,
          1.8249348859572532,
          1.752308310992009,
          1.6374380050175468,
          1.5155541071208987
         ],
         "yaxis": "y2"
        }
       ],
       "layout": {
        "font": {
         "color": "#FFF"
        },
        "height": 500,
        "legend": {
         "x": 0,
         "y": 1
        },
        "paper_bgcolor": "#000",
        "plot_bgcolor": "#000",
        "title": "Confidence after 100000 Iterations at Glimpse 9",
        "titlefont": {
         "color": "#FFF"
        },
        "width": 500,
        "xaxis": {
         "dtick": 1,
         "range": [
          0.5,
          9.5
         ],
         "tickcolor": "#FFF",
         "title": "True Class"
        },
        "yaxis": {
         "dtick": 1,
         "range": [
          0.5,
          9.5
         ],
         "tickcolor": "#FFF",
         "title": "Mean"
        },
        "yaxis2": {
         "gridcolor": "#999",
         "overlaying": "y",
         "range": [
          0,
          3
         ],
         "side": "right",
         "tickcolor": "#FFF",
         "title": "Standard Deviation"
        }
       }
      },
      "text/html": [
       "<div id=\"96a4dfce-6da5-4f46-9067-c9f641321730\" style=\"height: 500px; width: 500px;\" class=\"plotly-graph-div\"></div><script type=\"text/javascript\">require([\"plotly\"], function(Plotly) { window.PLOTLYENV=window.PLOTLYENV || {};window.PLOTLYENV.BASE_URL=\"https://plot.ly\";Plotly.newPlot(\"96a4dfce-6da5-4f46-9067-c9f641321730\", [{\"y\": [1.0905141149517743, 2.1900747966747245, 3.1033218431082137, 4.069258236666249, 5.043691109410266, 5.955586221905582, 6.696035093789286, 7.275302625442961, 7.7056526946062025], \"name\": \"Mean\", \"x\": [1, 2, 3, 4, 5, 6, 7, 8, 9], \"type\": \"scatter\"}, {\"y\": [1.0447367002137136, 1.2601019728218574, 1.468821473325739, 1.6685049491523762, 1.7980986406816506, 1.8249348859572532, 1.752308310992009, 1.6374380050175468, 1.5155541071208987], \"type\": \"scatter\", \"name\": \"Standard Deviation\", \"x\": [1, 2, 3, 4, 5, 6, 7, 8, 9], \"yaxis\": \"y2\"}], {\"titlefont\": {\"color\": \"#FFF\"}, \"plot_bgcolor\": \"#000\", \"yaxis2\": {\"title\": \"Standard Deviation\", \"tickcolor\": \"#FFF\", \"range\": [0, 3], \"gridcolor\": \"#999\", \"overlaying\": \"y\", \"side\": \"right\"}, \"legend\": {\"y\": 1, \"x\": 0}, \"paper_bgcolor\": \"#000\", \"font\": {\"color\": \"#FFF\"}, \"yaxis\": {\"title\": \"Mean\", \"tickcolor\": \"#FFF\", \"range\": [0.5, 9.5], \"dtick\": 1}, \"xaxis\": {\"title\": \"True Class\", \"tickcolor\": \"#FFF\", \"range\": [0.5, 9.5], \"dtick\": 1}, \"height\": 500, \"width\": 500, \"title\": \"Confidence after 100000 Iterations at Glimpse 9\"}, {\"showLink\": true, \"linkText\": \"Export to plot.ly\"})});</script>"
      ],
      "text/vnd.plotly.v1+html": [
       "<div id=\"96a4dfce-6da5-4f46-9067-c9f641321730\" style=\"height: 500px; width: 500px;\" class=\"plotly-graph-div\"></div><script type=\"text/javascript\">require([\"plotly\"], function(Plotly) { window.PLOTLYENV=window.PLOTLYENV || {};window.PLOTLYENV.BASE_URL=\"https://plot.ly\";Plotly.newPlot(\"96a4dfce-6da5-4f46-9067-c9f641321730\", [{\"y\": [1.0905141149517743, 2.1900747966747245, 3.1033218431082137, 4.069258236666249, 5.043691109410266, 5.955586221905582, 6.696035093789286, 7.275302625442961, 7.7056526946062025], \"name\": \"Mean\", \"x\": [1, 2, 3, 4, 5, 6, 7, 8, 9], \"type\": \"scatter\"}, {\"y\": [1.0447367002137136, 1.2601019728218574, 1.468821473325739, 1.6685049491523762, 1.7980986406816506, 1.8249348859572532, 1.752308310992009, 1.6374380050175468, 1.5155541071208987], \"type\": \"scatter\", \"name\": \"Standard Deviation\", \"x\": [1, 2, 3, 4, 5, 6, 7, 8, 9], \"yaxis\": \"y2\"}], {\"titlefont\": {\"color\": \"#FFF\"}, \"plot_bgcolor\": \"#000\", \"yaxis2\": {\"title\": \"Standard Deviation\", \"tickcolor\": \"#FFF\", \"range\": [0, 3], \"gridcolor\": \"#999\", \"overlaying\": \"y\", \"side\": \"right\"}, \"legend\": {\"y\": 1, \"x\": 0}, \"paper_bgcolor\": \"#000\", \"font\": {\"color\": \"#FFF\"}, \"yaxis\": {\"title\": \"Mean\", \"tickcolor\": \"#FFF\", \"range\": [0.5, 9.5], \"dtick\": 1}, \"xaxis\": {\"title\": \"True Class\", \"tickcolor\": \"#FFF\", \"range\": [0.5, 9.5], \"dtick\": 1}, \"height\": 500, \"width\": 500, \"title\": \"Confidence after 100000 Iterations at Glimpse 9\"}, {\"showLink\": true, \"linkText\": \"Export to plot.ly\"})});</script>"
      ]
     },
     "metadata": {},
     "output_type": "display_data"
    },
    {
     "data": {
      "application/vnd.plotly.v1+json": {
       "data": [
        {
         "name": "Coefficient of Variation",
         "type": "scatter",
         "x": [
          1,
          2,
          3,
          4,
          5,
          6,
          7,
          8,
          9
         ],
         "y": [
          0.9590253048616096,
          0.5764473849418525,
          0.4734631613686708,
          0.4099674368182133,
          0.3565708233191076,
          0.30646578363339594,
          0.26173781789831263,
          0.22515970134907753,
          0.19674197704410618
         ]
        }
       ],
       "layout": {
        "font": {
         "color": "#FFF"
        },
        "height": 300,
        "paper_bgcolor": "#000",
        "plot_bgcolor": "#000",
        "title": "Confidence after 100000 Iterations at Glimpse 9",
        "titlefont": {
         "color": "#FFF"
        },
        "width": 500,
        "xaxis": {
         "dtick": 1,
         "range": [
          0.5,
          9.5
         ],
         "tickcolor": "#FFF",
         "title": "True Class"
        },
        "yaxis": {
         "showgrid": true,
         "tickcolor": "#FFF",
         "title": "Coefficient of Variation"
        }
       }
      },
      "text/html": [
       "<div id=\"e8fafacf-0a5b-497c-bcbe-3454a33bbef9\" style=\"height: 300px; width: 500px;\" class=\"plotly-graph-div\"></div><script type=\"text/javascript\">require([\"plotly\"], function(Plotly) { window.PLOTLYENV=window.PLOTLYENV || {};window.PLOTLYENV.BASE_URL=\"https://plot.ly\";Plotly.newPlot(\"e8fafacf-0a5b-497c-bcbe-3454a33bbef9\", [{\"y\": [0.9590253048616096, 0.5764473849418525, 0.4734631613686708, 0.4099674368182133, 0.3565708233191076, 0.30646578363339594, 0.26173781789831263, 0.22515970134907753, 0.19674197704410618], \"name\": \"Coefficient of Variation\", \"x\": [1, 2, 3, 4, 5, 6, 7, 8, 9], \"type\": \"scatter\"}], {\"titlefont\": {\"color\": \"#FFF\"}, \"plot_bgcolor\": \"#000\", \"width\": 500, \"title\": \"Confidence after 100000 Iterations at Glimpse 9\", \"paper_bgcolor\": \"#000\", \"font\": {\"color\": \"#FFF\"}, \"xaxis\": {\"title\": \"True Class\", \"tickcolor\": \"#FFF\", \"range\": [0.5, 9.5], \"dtick\": 1}, \"height\": 300, \"yaxis\": {\"showgrid\": true, \"tickcolor\": \"#FFF\", \"title\": \"Coefficient of Variation\"}}, {\"showLink\": true, \"linkText\": \"Export to plot.ly\"})});</script>"
      ],
      "text/vnd.plotly.v1+html": [
       "<div id=\"e8fafacf-0a5b-497c-bcbe-3454a33bbef9\" style=\"height: 300px; width: 500px;\" class=\"plotly-graph-div\"></div><script type=\"text/javascript\">require([\"plotly\"], function(Plotly) { window.PLOTLYENV=window.PLOTLYENV || {};window.PLOTLYENV.BASE_URL=\"https://plot.ly\";Plotly.newPlot(\"e8fafacf-0a5b-497c-bcbe-3454a33bbef9\", [{\"y\": [0.9590253048616096, 0.5764473849418525, 0.4734631613686708, 0.4099674368182133, 0.3565708233191076, 0.30646578363339594, 0.26173781789831263, 0.22515970134907753, 0.19674197704410618], \"name\": \"Coefficient of Variation\", \"x\": [1, 2, 3, 4, 5, 6, 7, 8, 9], \"type\": \"scatter\"}], {\"titlefont\": {\"color\": \"#FFF\"}, \"plot_bgcolor\": \"#000\", \"width\": 500, \"title\": \"Confidence after 100000 Iterations at Glimpse 9\", \"paper_bgcolor\": \"#000\", \"font\": {\"color\": \"#FFF\"}, \"xaxis\": {\"title\": \"True Class\", \"tickcolor\": \"#FFF\", \"range\": [0.5, 9.5], \"dtick\": 1}, \"height\": 300, \"yaxis\": {\"showgrid\": true, \"tickcolor\": \"#FFF\", \"title\": \"Coefficient of Variation\"}}, {\"showLink\": true, \"linkText\": \"Export to plot.ly\"})});</script>"
      ]
     },
     "metadata": {},
     "output_type": "display_data"
    },
    {
     "data": {
      "application/vnd.plotly.v1+json": {
       "data": [
        {
         "name": "Mean",
         "type": "scatter",
         "x": [
          1,
          2,
          3,
          4,
          5,
          6,
          7,
          8,
          9
         ],
         "y": [
          1.0253,
          2.0357999999999996,
          2.9068999999999994,
          3.8872999999999998,
          4.899900000000001,
          5.9017,
          6.732200000000001,
          7.441299999999998,
          7.961499999999999
         ]
        },
        {
         "name": "Standard Deviation",
         "type": "scatter",
         "x": [
          1,
          2,
          3,
          4,
          5,
          6,
          7,
          8,
          9
         ],
         "y": [
          1.0120401149796472,
          1.147249916277433,
          1.2940876526732115,
          1.4523619497329867,
          1.5956896962128588,
          1.6403694209644606,
          1.574695956849467,
          1.4874248442937845,
          1.3706055679707159
         ],
         "yaxis": "y2"
        }
       ],
       "layout": {
        "font": {
         "color": "#FFF"
        },
        "height": 500,
        "legend": {
         "x": 0,
         "y": 1
        },
        "paper_bgcolor": "#000",
        "plot_bgcolor": "#000",
        "title": "Choice after 100000 Iterations at Glimpse 9",
        "titlefont": {
         "color": "#FFF"
        },
        "width": 500,
        "xaxis": {
         "dtick": 1,
         "range": [
          0.5,
          9.5
         ],
         "tickcolor": "#FFF",
         "title": "True Class"
        },
        "yaxis": {
         "dtick": 1,
         "range": [
          0.5,
          9.5
         ],
         "tickcolor": "#FFF",
         "title": "Mean"
        },
        "yaxis2": {
         "gridcolor": "#999",
         "overlaying": "y",
         "range": [
          0,
          3
         ],
         "side": "right",
         "tickcolor": "#FFF",
         "title": "Standard Deviation"
        }
       }
      },
      "text/html": [
       "<div id=\"9656b203-d04b-4a73-b1c9-a2608d0f7102\" style=\"height: 500px; width: 500px;\" class=\"plotly-graph-div\"></div><script type=\"text/javascript\">require([\"plotly\"], function(Plotly) { window.PLOTLYENV=window.PLOTLYENV || {};window.PLOTLYENV.BASE_URL=\"https://plot.ly\";Plotly.newPlot(\"9656b203-d04b-4a73-b1c9-a2608d0f7102\", [{\"y\": [1.0253, 2.0357999999999996, 2.9068999999999994, 3.8872999999999998, 4.899900000000001, 5.9017, 6.732200000000001, 7.441299999999998, 7.961499999999999], \"name\": \"Mean\", \"x\": [1, 2, 3, 4, 5, 6, 7, 8, 9], \"type\": \"scatter\"}, {\"y\": [1.0120401149796472, 1.147249916277433, 1.2940876526732115, 1.4523619497329867, 1.5956896962128588, 1.6403694209644606, 1.574695956849467, 1.4874248442937845, 1.3706055679707159], \"type\": \"scatter\", \"name\": \"Standard Deviation\", \"x\": [1, 2, 3, 4, 5, 6, 7, 8, 9], \"yaxis\": \"y2\"}], {\"titlefont\": {\"color\": \"#FFF\"}, \"plot_bgcolor\": \"#000\", \"yaxis2\": {\"title\": \"Standard Deviation\", \"tickcolor\": \"#FFF\", \"range\": [0, 3], \"gridcolor\": \"#999\", \"overlaying\": \"y\", \"side\": \"right\"}, \"legend\": {\"y\": 1, \"x\": 0}, \"paper_bgcolor\": \"#000\", \"font\": {\"color\": \"#FFF\"}, \"yaxis\": {\"title\": \"Mean\", \"tickcolor\": \"#FFF\", \"range\": [0.5, 9.5], \"dtick\": 1}, \"xaxis\": {\"title\": \"True Class\", \"tickcolor\": \"#FFF\", \"range\": [0.5, 9.5], \"dtick\": 1}, \"height\": 500, \"width\": 500, \"title\": \"Choice after 100000 Iterations at Glimpse 9\"}, {\"showLink\": true, \"linkText\": \"Export to plot.ly\"})});</script>"
      ],
      "text/vnd.plotly.v1+html": [
       "<div id=\"9656b203-d04b-4a73-b1c9-a2608d0f7102\" style=\"height: 500px; width: 500px;\" class=\"plotly-graph-div\"></div><script type=\"text/javascript\">require([\"plotly\"], function(Plotly) { window.PLOTLYENV=window.PLOTLYENV || {};window.PLOTLYENV.BASE_URL=\"https://plot.ly\";Plotly.newPlot(\"9656b203-d04b-4a73-b1c9-a2608d0f7102\", [{\"y\": [1.0253, 2.0357999999999996, 2.9068999999999994, 3.8872999999999998, 4.899900000000001, 5.9017, 6.732200000000001, 7.441299999999998, 7.961499999999999], \"name\": \"Mean\", \"x\": [1, 2, 3, 4, 5, 6, 7, 8, 9], \"type\": \"scatter\"}, {\"y\": [1.0120401149796472, 1.147249916277433, 1.2940876526732115, 1.4523619497329867, 1.5956896962128588, 1.6403694209644606, 1.574695956849467, 1.4874248442937845, 1.3706055679707159], \"type\": \"scatter\", \"name\": \"Standard Deviation\", \"x\": [1, 2, 3, 4, 5, 6, 7, 8, 9], \"yaxis\": \"y2\"}], {\"titlefont\": {\"color\": \"#FFF\"}, \"plot_bgcolor\": \"#000\", \"yaxis2\": {\"title\": \"Standard Deviation\", \"tickcolor\": \"#FFF\", \"range\": [0, 3], \"gridcolor\": \"#999\", \"overlaying\": \"y\", \"side\": \"right\"}, \"legend\": {\"y\": 1, \"x\": 0}, \"paper_bgcolor\": \"#000\", \"font\": {\"color\": \"#FFF\"}, \"yaxis\": {\"title\": \"Mean\", \"tickcolor\": \"#FFF\", \"range\": [0.5, 9.5], \"dtick\": 1}, \"xaxis\": {\"title\": \"True Class\", \"tickcolor\": \"#FFF\", \"range\": [0.5, 9.5], \"dtick\": 1}, \"height\": 500, \"width\": 500, \"title\": \"Choice after 100000 Iterations at Glimpse 9\"}, {\"showLink\": true, \"linkText\": \"Export to plot.ly\"})});</script>"
      ]
     },
     "metadata": {},
     "output_type": "display_data"
    },
    {
     "data": {
      "application/vnd.plotly.v1+json": {
       "data": [
        {
         "name": "Coefficient of Variation",
         "type": "scatter",
         "x": [
          1,
          2,
          3,
          4,
          5,
          6,
          7,
          8,
          9
         ],
         "y": [
          0.9872438186933638,
          0.5650540166339091,
          0.44553868085605763,
          0.37357599329884944,
          0.32593336025854647,
          0.2779265461521468,
          0.2338686479428082,
          0.19995186560365857,
          0.17214955483682629
         ]
        }
       ],
       "layout": {
        "font": {
         "color": "#FFF"
        },
        "height": 300,
        "paper_bgcolor": "#000",
        "plot_bgcolor": "#000",
        "title": "Choice after 100000 Iterations at Glimpse 9",
        "titlefont": {
         "color": "#FFF"
        },
        "width": 500,
        "xaxis": {
         "dtick": 1,
         "range": [
          0.5,
          9.5
         ],
         "tickcolor": "#FFF",
         "title": "True Class"
        },
        "yaxis": {
         "showgrid": true,
         "tickcolor": "#FFF",
         "title": "Coefficient of Variation"
        }
       }
      },
      "text/html": [
       "<div id=\"f3ea54bc-682d-4b47-a970-414a7b5a82a1\" style=\"height: 300px; width: 500px;\" class=\"plotly-graph-div\"></div><script type=\"text/javascript\">require([\"plotly\"], function(Plotly) { window.PLOTLYENV=window.PLOTLYENV || {};window.PLOTLYENV.BASE_URL=\"https://plot.ly\";Plotly.newPlot(\"f3ea54bc-682d-4b47-a970-414a7b5a82a1\", [{\"y\": [0.9872438186933638, 0.5650540166339091, 0.44553868085605763, 0.37357599329884944, 0.32593336025854647, 0.2779265461521468, 0.2338686479428082, 0.19995186560365857, 0.17214955483682629], \"name\": \"Coefficient of Variation\", \"x\": [1, 2, 3, 4, 5, 6, 7, 8, 9], \"type\": \"scatter\"}], {\"titlefont\": {\"color\": \"#FFF\"}, \"plot_bgcolor\": \"#000\", \"width\": 500, \"title\": \"Choice after 100000 Iterations at Glimpse 9\", \"paper_bgcolor\": \"#000\", \"font\": {\"color\": \"#FFF\"}, \"xaxis\": {\"title\": \"True Class\", \"tickcolor\": \"#FFF\", \"range\": [0.5, 9.5], \"dtick\": 1}, \"height\": 300, \"yaxis\": {\"showgrid\": true, \"tickcolor\": \"#FFF\", \"title\": \"Coefficient of Variation\"}}, {\"showLink\": true, \"linkText\": \"Export to plot.ly\"})});</script>"
      ],
      "text/vnd.plotly.v1+html": [
       "<div id=\"f3ea54bc-682d-4b47-a970-414a7b5a82a1\" style=\"height: 300px; width: 500px;\" class=\"plotly-graph-div\"></div><script type=\"text/javascript\">require([\"plotly\"], function(Plotly) { window.PLOTLYENV=window.PLOTLYENV || {};window.PLOTLYENV.BASE_URL=\"https://plot.ly\";Plotly.newPlot(\"f3ea54bc-682d-4b47-a970-414a7b5a82a1\", [{\"y\": [0.9872438186933638, 0.5650540166339091, 0.44553868085605763, 0.37357599329884944, 0.32593336025854647, 0.2779265461521468, 0.2338686479428082, 0.19995186560365857, 0.17214955483682629], \"name\": \"Coefficient of Variation\", \"x\": [1, 2, 3, 4, 5, 6, 7, 8, 9], \"type\": \"scatter\"}], {\"titlefont\": {\"color\": \"#FFF\"}, \"plot_bgcolor\": \"#000\", \"width\": 500, \"title\": \"Choice after 100000 Iterations at Glimpse 9\", \"paper_bgcolor\": \"#000\", \"font\": {\"color\": \"#FFF\"}, \"xaxis\": {\"title\": \"True Class\", \"tickcolor\": \"#FFF\", \"range\": [0.5, 9.5], \"dtick\": 1}, \"height\": 300, \"yaxis\": {\"showgrid\": true, \"tickcolor\": \"#FFF\", \"title\": \"Coefficient of Variation\"}}, {\"showLink\": true, \"linkText\": \"Export to plot.ly\"})});</script>"
      ]
     },
     "metadata": {},
     "output_type": "display_data"
    },
    {
     "data": {
      "application/vnd.plotly.v1+json": {
       "data": [
        {
         "name": "Mean",
         "type": "scatter",
         "x": [
          1,
          2,
          3,
          4,
          5,
          6,
          7,
          8,
          9
         ],
         "y": [
          1.0989199234919824,
          2.170204516408764,
          3.1292844541422253,
          4.133009457539673,
          5.103454212161935,
          6.002956500672232,
          6.762729506283991,
          7.3302615904805055,
          7.775878403415829
         ]
        },
        {
         "name": "Standard Deviation",
         "type": "scatter",
         "x": [
          1,
          2,
          3,
          4,
          5,
          6,
          7,
          8,
          9
         ],
         "y": [
          1.0539936286515776,
          1.3183021241417392,
          1.5293807110448627,
          1.7348286535090147,
          1.8464341570331464,
          1.8711678400166019,
          1.8135899103834636,
          1.7040391035308253,
          1.560556656921946
         ],
         "yaxis": "y2"
        }
       ],
       "layout": {
        "font": {
         "color": "#FFF"
        },
        "height": 500,
        "legend": {
         "x": 0,
         "y": 1
        },
        "paper_bgcolor": "#000",
        "plot_bgcolor": "#000",
        "title": "Confidence after 120000 Iterations at Glimpse 0",
        "titlefont": {
         "color": "#FFF"
        },
        "width": 500,
        "xaxis": {
         "dtick": 1,
         "range": [
          0.5,
          9.5
         ],
         "tickcolor": "#FFF",
         "title": "True Class"
        },
        "yaxis": {
         "dtick": 1,
         "range": [
          0.5,
          9.5
         ],
         "tickcolor": "#FFF",
         "title": "Mean"
        },
        "yaxis2": {
         "gridcolor": "#999",
         "overlaying": "y",
         "range": [
          0,
          3
         ],
         "side": "right",
         "tickcolor": "#FFF",
         "title": "Standard Deviation"
        }
       }
      },
      "text/html": [
       "<div id=\"2df6f9a4-c077-47d4-be67-4f0b3cc3c72c\" style=\"height: 500px; width: 500px;\" class=\"plotly-graph-div\"></div><script type=\"text/javascript\">require([\"plotly\"], function(Plotly) { window.PLOTLYENV=window.PLOTLYENV || {};window.PLOTLYENV.BASE_URL=\"https://plot.ly\";Plotly.newPlot(\"2df6f9a4-c077-47d4-be67-4f0b3cc3c72c\", [{\"y\": [1.0989199234919824, 2.170204516408764, 3.1292844541422253, 4.133009457539673, 5.103454212161935, 6.002956500672232, 6.762729506283991, 7.3302615904805055, 7.775878403415829], \"name\": \"Mean\", \"x\": [1, 2, 3, 4, 5, 6, 7, 8, 9], \"type\": \"scatter\"}, {\"y\": [1.0539936286515776, 1.3183021241417392, 1.5293807110448627, 1.7348286535090147, 1.8464341570331464, 1.8711678400166019, 1.8135899103834636, 1.7040391035308253, 1.560556656921946], \"type\": \"scatter\", \"name\": \"Standard Deviation\", \"x\": [1, 2, 3, 4, 5, 6, 7, 8, 9], \"yaxis\": \"y2\"}], {\"titlefont\": {\"color\": \"#FFF\"}, \"plot_bgcolor\": \"#000\", \"yaxis2\": {\"title\": \"Standard Deviation\", \"tickcolor\": \"#FFF\", \"range\": [0, 3], \"gridcolor\": \"#999\", \"overlaying\": \"y\", \"side\": \"right\"}, \"legend\": {\"y\": 1, \"x\": 0}, \"paper_bgcolor\": \"#000\", \"font\": {\"color\": \"#FFF\"}, \"yaxis\": {\"title\": \"Mean\", \"tickcolor\": \"#FFF\", \"range\": [0.5, 9.5], \"dtick\": 1}, \"xaxis\": {\"title\": \"True Class\", \"tickcolor\": \"#FFF\", \"range\": [0.5, 9.5], \"dtick\": 1}, \"height\": 500, \"width\": 500, \"title\": \"Confidence after 120000 Iterations at Glimpse 0\"}, {\"showLink\": true, \"linkText\": \"Export to plot.ly\"})});</script>"
      ],
      "text/vnd.plotly.v1+html": [
       "<div id=\"2df6f9a4-c077-47d4-be67-4f0b3cc3c72c\" style=\"height: 500px; width: 500px;\" class=\"plotly-graph-div\"></div><script type=\"text/javascript\">require([\"plotly\"], function(Plotly) { window.PLOTLYENV=window.PLOTLYENV || {};window.PLOTLYENV.BASE_URL=\"https://plot.ly\";Plotly.newPlot(\"2df6f9a4-c077-47d4-be67-4f0b3cc3c72c\", [{\"y\": [1.0989199234919824, 2.170204516408764, 3.1292844541422253, 4.133009457539673, 5.103454212161935, 6.002956500672232, 6.762729506283991, 7.3302615904805055, 7.775878403415829], \"name\": \"Mean\", \"x\": [1, 2, 3, 4, 5, 6, 7, 8, 9], \"type\": \"scatter\"}, {\"y\": [1.0539936286515776, 1.3183021241417392, 1.5293807110448627, 1.7348286535090147, 1.8464341570331464, 1.8711678400166019, 1.8135899103834636, 1.7040391035308253, 1.560556656921946], \"type\": \"scatter\", \"name\": \"Standard Deviation\", \"x\": [1, 2, 3, 4, 5, 6, 7, 8, 9], \"yaxis\": \"y2\"}], {\"titlefont\": {\"color\": \"#FFF\"}, \"plot_bgcolor\": \"#000\", \"yaxis2\": {\"title\": \"Standard Deviation\", \"tickcolor\": \"#FFF\", \"range\": [0, 3], \"gridcolor\": \"#999\", \"overlaying\": \"y\", \"side\": \"right\"}, \"legend\": {\"y\": 1, \"x\": 0}, \"paper_bgcolor\": \"#000\", \"font\": {\"color\": \"#FFF\"}, \"yaxis\": {\"title\": \"Mean\", \"tickcolor\": \"#FFF\", \"range\": [0.5, 9.5], \"dtick\": 1}, \"xaxis\": {\"title\": \"True Class\", \"tickcolor\": \"#FFF\", \"range\": [0.5, 9.5], \"dtick\": 1}, \"height\": 500, \"width\": 500, \"title\": \"Confidence after 120000 Iterations at Glimpse 0\"}, {\"showLink\": true, \"linkText\": \"Export to plot.ly\"})});</script>"
      ]
     },
     "metadata": {},
     "output_type": "display_data"
    },
    {
     "data": {
      "application/vnd.plotly.v1+json": {
       "data": [
        {
         "name": "Coefficient of Variation",
         "type": "scatter",
         "x": [
          1,
          2,
          3,
          4,
          5,
          6,
          7,
          8,
          9
         ],
         "y": [
          0.9593613265909922,
          0.607485622582015,
          0.48875210850269823,
          0.4197693759206639,
          0.361762112511249,
          0.3116141857406162,
          0.2680486460888358,
          0.2323551697632439,
          0.20068284508101658
         ]
        }
       ],
       "layout": {
        "font": {
         "color": "#FFF"
        },
        "height": 300,
        "paper_bgcolor": "#000",
        "plot_bgcolor": "#000",
        "title": "Confidence after 120000 Iterations at Glimpse 0",
        "titlefont": {
         "color": "#FFF"
        },
        "width": 500,
        "xaxis": {
         "dtick": 1,
         "range": [
          0.5,
          9.5
         ],
         "tickcolor": "#FFF",
         "title": "True Class"
        },
        "yaxis": {
         "showgrid": true,
         "tickcolor": "#FFF",
         "title": "Coefficient of Variation"
        }
       }
      },
      "text/html": [
       "<div id=\"1471b0be-181a-4a8c-81b8-26d4d33f887c\" style=\"height: 300px; width: 500px;\" class=\"plotly-graph-div\"></div><script type=\"text/javascript\">require([\"plotly\"], function(Plotly) { window.PLOTLYENV=window.PLOTLYENV || {};window.PLOTLYENV.BASE_URL=\"https://plot.ly\";Plotly.newPlot(\"1471b0be-181a-4a8c-81b8-26d4d33f887c\", [{\"y\": [0.9593613265909922, 0.607485622582015, 0.48875210850269823, 0.4197693759206639, 0.361762112511249, 0.3116141857406162, 0.2680486460888358, 0.2323551697632439, 0.20068284508101658], \"name\": \"Coefficient of Variation\", \"x\": [1, 2, 3, 4, 5, 6, 7, 8, 9], \"type\": \"scatter\"}], {\"titlefont\": {\"color\": \"#FFF\"}, \"plot_bgcolor\": \"#000\", \"width\": 500, \"title\": \"Confidence after 120000 Iterations at Glimpse 0\", \"paper_bgcolor\": \"#000\", \"font\": {\"color\": \"#FFF\"}, \"xaxis\": {\"title\": \"True Class\", \"tickcolor\": \"#FFF\", \"range\": [0.5, 9.5], \"dtick\": 1}, \"height\": 300, \"yaxis\": {\"showgrid\": true, \"tickcolor\": \"#FFF\", \"title\": \"Coefficient of Variation\"}}, {\"showLink\": true, \"linkText\": \"Export to plot.ly\"})});</script>"
      ],
      "text/vnd.plotly.v1+html": [
       "<div id=\"1471b0be-181a-4a8c-81b8-26d4d33f887c\" style=\"height: 300px; width: 500px;\" class=\"plotly-graph-div\"></div><script type=\"text/javascript\">require([\"plotly\"], function(Plotly) { window.PLOTLYENV=window.PLOTLYENV || {};window.PLOTLYENV.BASE_URL=\"https://plot.ly\";Plotly.newPlot(\"1471b0be-181a-4a8c-81b8-26d4d33f887c\", [{\"y\": [0.9593613265909922, 0.607485622582015, 0.48875210850269823, 0.4197693759206639, 0.361762112511249, 0.3116141857406162, 0.2680486460888358, 0.2323551697632439, 0.20068284508101658], \"name\": \"Coefficient of Variation\", \"x\": [1, 2, 3, 4, 5, 6, 7, 8, 9], \"type\": \"scatter\"}], {\"titlefont\": {\"color\": \"#FFF\"}, \"plot_bgcolor\": \"#000\", \"width\": 500, \"title\": \"Confidence after 120000 Iterations at Glimpse 0\", \"paper_bgcolor\": \"#000\", \"font\": {\"color\": \"#FFF\"}, \"xaxis\": {\"title\": \"True Class\", \"tickcolor\": \"#FFF\", \"range\": [0.5, 9.5], \"dtick\": 1}, \"height\": 300, \"yaxis\": {\"showgrid\": true, \"tickcolor\": \"#FFF\", \"title\": \"Coefficient of Variation\"}}, {\"showLink\": true, \"linkText\": \"Export to plot.ly\"})});</script>"
      ]
     },
     "metadata": {},
     "output_type": "display_data"
    },
    {
     "data": {
      "application/vnd.plotly.v1+json": {
       "data": [
        {
         "name": "Mean",
         "type": "scatter",
         "x": [
          1,
          2,
          3,
          4,
          5,
          6,
          7,
          8,
          9
         ],
         "y": [
          1.0117999999999998,
          1.9567000000000003,
          2.8441,
          3.8906,
          4.9044,
          5.8969,
          6.816599999999999,
          7.5348,
          8.075799999999997
         ]
        },
        {
         "name": "Standard Deviation",
         "type": "scatter",
         "x": [
          1,
          2,
          3,
          4,
          5,
          6,
          7,
          8,
          9
         ],
         "y": [
          1.0057692621654524,
          1.1473721282556608,
          1.3249691904226748,
          1.4799971792674618,
          1.5946210715495783,
          1.698825486964595,
          1.7124011019676975,
          1.612526135795179,
          1.4330515341138534
         ],
         "yaxis": "y2"
        }
       ],
       "layout": {
        "font": {
         "color": "#FFF"
        },
        "height": 500,
        "legend": {
         "x": 0,
         "y": 1
        },
        "paper_bgcolor": "#000",
        "plot_bgcolor": "#000",
        "title": "Choice after 120000 Iterations at Glimpse 0",
        "titlefont": {
         "color": "#FFF"
        },
        "width": 500,
        "xaxis": {
         "dtick": 1,
         "range": [
          0.5,
          9.5
         ],
         "tickcolor": "#FFF",
         "title": "True Class"
        },
        "yaxis": {
         "dtick": 1,
         "range": [
          0.5,
          9.5
         ],
         "tickcolor": "#FFF",
         "title": "Mean"
        },
        "yaxis2": {
         "gridcolor": "#999",
         "overlaying": "y",
         "range": [
          0,
          3
         ],
         "side": "right",
         "tickcolor": "#FFF",
         "title": "Standard Deviation"
        }
       }
      },
      "text/html": [
       "<div id=\"c78d0018-23bf-478b-b5a6-78627350f51c\" style=\"height: 500px; width: 500px;\" class=\"plotly-graph-div\"></div><script type=\"text/javascript\">require([\"plotly\"], function(Plotly) { window.PLOTLYENV=window.PLOTLYENV || {};window.PLOTLYENV.BASE_URL=\"https://plot.ly\";Plotly.newPlot(\"c78d0018-23bf-478b-b5a6-78627350f51c\", [{\"y\": [1.0117999999999998, 1.9567000000000003, 2.8441, 3.8906, 4.9044, 5.8969, 6.816599999999999, 7.5348, 8.075799999999997], \"name\": \"Mean\", \"x\": [1, 2, 3, 4, 5, 6, 7, 8, 9], \"type\": \"scatter\"}, {\"y\": [1.0057692621654524, 1.1473721282556608, 1.3249691904226748, 1.4799971792674618, 1.5946210715495783, 1.698825486964595, 1.7124011019676975, 1.612526135795179, 1.4330515341138534], \"type\": \"scatter\", \"name\": \"Standard Deviation\", \"x\": [1, 2, 3, 4, 5, 6, 7, 8, 9], \"yaxis\": \"y2\"}], {\"titlefont\": {\"color\": \"#FFF\"}, \"plot_bgcolor\": \"#000\", \"yaxis2\": {\"title\": \"Standard Deviation\", \"tickcolor\": \"#FFF\", \"range\": [0, 3], \"gridcolor\": \"#999\", \"overlaying\": \"y\", \"side\": \"right\"}, \"legend\": {\"y\": 1, \"x\": 0}, \"paper_bgcolor\": \"#000\", \"font\": {\"color\": \"#FFF\"}, \"yaxis\": {\"title\": \"Mean\", \"tickcolor\": \"#FFF\", \"range\": [0.5, 9.5], \"dtick\": 1}, \"xaxis\": {\"title\": \"True Class\", \"tickcolor\": \"#FFF\", \"range\": [0.5, 9.5], \"dtick\": 1}, \"height\": 500, \"width\": 500, \"title\": \"Choice after 120000 Iterations at Glimpse 0\"}, {\"showLink\": true, \"linkText\": \"Export to plot.ly\"})});</script>"
      ],
      "text/vnd.plotly.v1+html": [
       "<div id=\"c78d0018-23bf-478b-b5a6-78627350f51c\" style=\"height: 500px; width: 500px;\" class=\"plotly-graph-div\"></div><script type=\"text/javascript\">require([\"plotly\"], function(Plotly) { window.PLOTLYENV=window.PLOTLYENV || {};window.PLOTLYENV.BASE_URL=\"https://plot.ly\";Plotly.newPlot(\"c78d0018-23bf-478b-b5a6-78627350f51c\", [{\"y\": [1.0117999999999998, 1.9567000000000003, 2.8441, 3.8906, 4.9044, 5.8969, 6.816599999999999, 7.5348, 8.075799999999997], \"name\": \"Mean\", \"x\": [1, 2, 3, 4, 5, 6, 7, 8, 9], \"type\": \"scatter\"}, {\"y\": [1.0057692621654524, 1.1473721282556608, 1.3249691904226748, 1.4799971792674618, 1.5946210715495783, 1.698825486964595, 1.7124011019676975, 1.612526135795179, 1.4330515341138534], \"type\": \"scatter\", \"name\": \"Standard Deviation\", \"x\": [1, 2, 3, 4, 5, 6, 7, 8, 9], \"yaxis\": \"y2\"}], {\"titlefont\": {\"color\": \"#FFF\"}, \"plot_bgcolor\": \"#000\", \"yaxis2\": {\"title\": \"Standard Deviation\", \"tickcolor\": \"#FFF\", \"range\": [0, 3], \"gridcolor\": \"#999\", \"overlaying\": \"y\", \"side\": \"right\"}, \"legend\": {\"y\": 1, \"x\": 0}, \"paper_bgcolor\": \"#000\", \"font\": {\"color\": \"#FFF\"}, \"yaxis\": {\"title\": \"Mean\", \"tickcolor\": \"#FFF\", \"range\": [0.5, 9.5], \"dtick\": 1}, \"xaxis\": {\"title\": \"True Class\", \"tickcolor\": \"#FFF\", \"range\": [0.5, 9.5], \"dtick\": 1}, \"height\": 500, \"width\": 500, \"title\": \"Choice after 120000 Iterations at Glimpse 0\"}, {\"showLink\": true, \"linkText\": \"Export to plot.ly\"})});</script>"
      ]
     },
     "metadata": {},
     "output_type": "display_data"
    },
    {
     "data": {
      "application/vnd.plotly.v1+json": {
       "data": [
        {
         "name": "Coefficient of Variation",
         "type": "scatter",
         "x": [
          1,
          2,
          3,
          4,
          5,
          6,
          7,
          8,
          9
         ],
         "y": [
          0.9940756291850494,
          0.5865438954364279,
          0.46592472906797305,
          0.38043622845671443,
          0.325152878489967,
          0.2879819330566799,
          0.2509725271536997,
          0.21381134147675426,
          0.1774920492199929
         ]
        }
       ],
       "layout": {
        "font": {
         "color": "#FFF"
        },
        "height": 300,
        "paper_bgcolor": "#000",
        "plot_bgcolor": "#000",
        "title": "Choice after 120000 Iterations at Glimpse 0",
        "titlefont": {
         "color": "#FFF"
        },
        "width": 500,
        "xaxis": {
         "dtick": 1,
         "range": [
          0.5,
          9.5
         ],
         "tickcolor": "#FFF",
         "title": "True Class"
        },
        "yaxis": {
         "showgrid": true,
         "tickcolor": "#FFF",
         "title": "Coefficient of Variation"
        }
       }
      },
      "text/html": [
       "<div id=\"5c214691-3a06-4a95-96e2-f8caff904989\" style=\"height: 300px; width: 500px;\" class=\"plotly-graph-div\"></div><script type=\"text/javascript\">require([\"plotly\"], function(Plotly) { window.PLOTLYENV=window.PLOTLYENV || {};window.PLOTLYENV.BASE_URL=\"https://plot.ly\";Plotly.newPlot(\"5c214691-3a06-4a95-96e2-f8caff904989\", [{\"y\": [0.9940756291850494, 0.5865438954364279, 0.46592472906797305, 0.38043622845671443, 0.325152878489967, 0.2879819330566799, 0.2509725271536997, 0.21381134147675426, 0.1774920492199929], \"name\": \"Coefficient of Variation\", \"x\": [1, 2, 3, 4, 5, 6, 7, 8, 9], \"type\": \"scatter\"}], {\"titlefont\": {\"color\": \"#FFF\"}, \"plot_bgcolor\": \"#000\", \"width\": 500, \"title\": \"Choice after 120000 Iterations at Glimpse 0\", \"paper_bgcolor\": \"#000\", \"font\": {\"color\": \"#FFF\"}, \"xaxis\": {\"title\": \"True Class\", \"tickcolor\": \"#FFF\", \"range\": [0.5, 9.5], \"dtick\": 1}, \"height\": 300, \"yaxis\": {\"showgrid\": true, \"tickcolor\": \"#FFF\", \"title\": \"Coefficient of Variation\"}}, {\"showLink\": true, \"linkText\": \"Export to plot.ly\"})});</script>"
      ],
      "text/vnd.plotly.v1+html": [
       "<div id=\"5c214691-3a06-4a95-96e2-f8caff904989\" style=\"height: 300px; width: 500px;\" class=\"plotly-graph-div\"></div><script type=\"text/javascript\">require([\"plotly\"], function(Plotly) { window.PLOTLYENV=window.PLOTLYENV || {};window.PLOTLYENV.BASE_URL=\"https://plot.ly\";Plotly.newPlot(\"5c214691-3a06-4a95-96e2-f8caff904989\", [{\"y\": [0.9940756291850494, 0.5865438954364279, 0.46592472906797305, 0.38043622845671443, 0.325152878489967, 0.2879819330566799, 0.2509725271536997, 0.21381134147675426, 0.1774920492199929], \"name\": \"Coefficient of Variation\", \"x\": [1, 2, 3, 4, 5, 6, 7, 8, 9], \"type\": \"scatter\"}], {\"titlefont\": {\"color\": \"#FFF\"}, \"plot_bgcolor\": \"#000\", \"width\": 500, \"title\": \"Choice after 120000 Iterations at Glimpse 0\", \"paper_bgcolor\": \"#000\", \"font\": {\"color\": \"#FFF\"}, \"xaxis\": {\"title\": \"True Class\", \"tickcolor\": \"#FFF\", \"range\": [0.5, 9.5], \"dtick\": 1}, \"height\": 300, \"yaxis\": {\"showgrid\": true, \"tickcolor\": \"#FFF\", \"title\": \"Coefficient of Variation\"}}, {\"showLink\": true, \"linkText\": \"Export to plot.ly\"})});</script>"
      ]
     },
     "metadata": {},
     "output_type": "display_data"
    },
    {
     "data": {
      "application/vnd.plotly.v1+json": {
       "data": [
        {
         "name": "Mean",
         "type": "scatter",
         "x": [
          1,
          2,
          3,
          4,
          5,
          6,
          7,
          8,
          9
         ],
         "y": [
          1.0520826898481206,
          2.1781322771364513,
          3.092440670126487,
          4.117856698548062,
          5.117964076710449,
          6.062222200202481,
          6.8820764814191815,
          7.4867999546223505,
          7.9346829129368945
         ]
        },
        {
         "name": "Standard Deviation",
         "type": "scatter",
         "x": [
          1,
          2,
          3,
          4,
          5,
          6,
          7,
          8,
          9
         ],
         "y": [
          1.0264886574865524,
          1.2263546833817789,
          1.4660292140372422,
          1.6581556066701588,
          1.7753883468296068,
          1.8232720030056666,
          1.765759426169923,
          1.634176620682813,
          1.4794261142997638
         ],
         "yaxis": "y2"
        }
       ],
       "layout": {
        "font": {
         "color": "#FFF"
        },
        "height": 500,
        "legend": {
         "x": 0,
         "y": 1
        },
        "paper_bgcolor": "#000",
        "plot_bgcolor": "#000",
        "title": "Confidence after 120000 Iterations at Glimpse 3",
        "titlefont": {
         "color": "#FFF"
        },
        "width": 500,
        "xaxis": {
         "dtick": 1,
         "range": [
          0.5,
          9.5
         ],
         "tickcolor": "#FFF",
         "title": "True Class"
        },
        "yaxis": {
         "dtick": 1,
         "range": [
          0.5,
          9.5
         ],
         "tickcolor": "#FFF",
         "title": "Mean"
        },
        "yaxis2": {
         "gridcolor": "#999",
         "overlaying": "y",
         "range": [
          0,
          3
         ],
         "side": "right",
         "tickcolor": "#FFF",
         "title": "Standard Deviation"
        }
       }
      },
      "text/html": [
       "<div id=\"77d3aa54-0dfa-437b-b68d-2cdb4b9eb494\" style=\"height: 500px; width: 500px;\" class=\"plotly-graph-div\"></div><script type=\"text/javascript\">require([\"plotly\"], function(Plotly) { window.PLOTLYENV=window.PLOTLYENV || {};window.PLOTLYENV.BASE_URL=\"https://plot.ly\";Plotly.newPlot(\"77d3aa54-0dfa-437b-b68d-2cdb4b9eb494\", [{\"y\": [1.0520826898481206, 2.1781322771364513, 3.092440670126487, 4.117856698548062, 5.117964076710449, 6.062222200202481, 6.8820764814191815, 7.4867999546223505, 7.9346829129368945], \"name\": \"Mean\", \"x\": [1, 2, 3, 4, 5, 6, 7, 8, 9], \"type\": \"scatter\"}, {\"y\": [1.0264886574865524, 1.2263546833817789, 1.4660292140372422, 1.6581556066701588, 1.7753883468296068, 1.8232720030056666, 1.765759426169923, 1.634176620682813, 1.4794261142997638], \"type\": \"scatter\", \"name\": \"Standard Deviation\", \"x\": [1, 2, 3, 4, 5, 6, 7, 8, 9], \"yaxis\": \"y2\"}], {\"titlefont\": {\"color\": \"#FFF\"}, \"plot_bgcolor\": \"#000\", \"yaxis2\": {\"title\": \"Standard Deviation\", \"tickcolor\": \"#FFF\", \"range\": [0, 3], \"gridcolor\": \"#999\", \"overlaying\": \"y\", \"side\": \"right\"}, \"legend\": {\"y\": 1, \"x\": 0}, \"paper_bgcolor\": \"#000\", \"font\": {\"color\": \"#FFF\"}, \"yaxis\": {\"title\": \"Mean\", \"tickcolor\": \"#FFF\", \"range\": [0.5, 9.5], \"dtick\": 1}, \"xaxis\": {\"title\": \"True Class\", \"tickcolor\": \"#FFF\", \"range\": [0.5, 9.5], \"dtick\": 1}, \"height\": 500, \"width\": 500, \"title\": \"Confidence after 120000 Iterations at Glimpse 3\"}, {\"showLink\": true, \"linkText\": \"Export to plot.ly\"})});</script>"
      ],
      "text/vnd.plotly.v1+html": [
       "<div id=\"77d3aa54-0dfa-437b-b68d-2cdb4b9eb494\" style=\"height: 500px; width: 500px;\" class=\"plotly-graph-div\"></div><script type=\"text/javascript\">require([\"plotly\"], function(Plotly) { window.PLOTLYENV=window.PLOTLYENV || {};window.PLOTLYENV.BASE_URL=\"https://plot.ly\";Plotly.newPlot(\"77d3aa54-0dfa-437b-b68d-2cdb4b9eb494\", [{\"y\": [1.0520826898481206, 2.1781322771364513, 3.092440670126487, 4.117856698548062, 5.117964076710449, 6.062222200202481, 6.8820764814191815, 7.4867999546223505, 7.9346829129368945], \"name\": \"Mean\", \"x\": [1, 2, 3, 4, 5, 6, 7, 8, 9], \"type\": \"scatter\"}, {\"y\": [1.0264886574865524, 1.2263546833817789, 1.4660292140372422, 1.6581556066701588, 1.7753883468296068, 1.8232720030056666, 1.765759426169923, 1.634176620682813, 1.4794261142997638], \"type\": \"scatter\", \"name\": \"Standard Deviation\", \"x\": [1, 2, 3, 4, 5, 6, 7, 8, 9], \"yaxis\": \"y2\"}], {\"titlefont\": {\"color\": \"#FFF\"}, \"plot_bgcolor\": \"#000\", \"yaxis2\": {\"title\": \"Standard Deviation\", \"tickcolor\": \"#FFF\", \"range\": [0, 3], \"gridcolor\": \"#999\", \"overlaying\": \"y\", \"side\": \"right\"}, \"legend\": {\"y\": 1, \"x\": 0}, \"paper_bgcolor\": \"#000\", \"font\": {\"color\": \"#FFF\"}, \"yaxis\": {\"title\": \"Mean\", \"tickcolor\": \"#FFF\", \"range\": [0.5, 9.5], \"dtick\": 1}, \"xaxis\": {\"title\": \"True Class\", \"tickcolor\": \"#FFF\", \"range\": [0.5, 9.5], \"dtick\": 1}, \"height\": 500, \"width\": 500, \"title\": \"Confidence after 120000 Iterations at Glimpse 3\"}, {\"showLink\": true, \"linkText\": \"Export to plot.ly\"})});</script>"
      ]
     },
     "metadata": {},
     "output_type": "display_data"
    },
    {
     "data": {
      "application/vnd.plotly.v1+json": {
       "data": [
        {
         "name": "Coefficient of Variation",
         "type": "scatter",
         "x": [
          1,
          2,
          3,
          4,
          5,
          6,
          7,
          8,
          9
         ],
         "y": [
          0.9758857788368147,
          0.5632554383090088,
          0.47420604477973305,
          0.40278111697713354,
          0.34685060600538764,
          0.300598837454531,
          0.256408438329926,
          0.21819525941520848,
          0.18648213968686764
         ]
        }
       ],
       "layout": {
        "font": {
         "color": "#FFF"
        },
        "height": 300,
        "paper_bgcolor": "#000",
        "plot_bgcolor": "#000",
        "title": "Confidence after 120000 Iterations at Glimpse 3",
        "titlefont": {
         "color": "#FFF"
        },
        "width": 500,
        "xaxis": {
         "dtick": 1,
         "range": [
          0.5,
          9.5
         ],
         "tickcolor": "#FFF",
         "title": "True Class"
        },
        "yaxis": {
         "showgrid": true,
         "tickcolor": "#FFF",
         "title": "Coefficient of Variation"
        }
       }
      },
      "text/html": [
       "<div id=\"f0ea4563-a4bd-4d13-abc7-8e582703fdea\" style=\"height: 300px; width: 500px;\" class=\"plotly-graph-div\"></div><script type=\"text/javascript\">require([\"plotly\"], function(Plotly) { window.PLOTLYENV=window.PLOTLYENV || {};window.PLOTLYENV.BASE_URL=\"https://plot.ly\";Plotly.newPlot(\"f0ea4563-a4bd-4d13-abc7-8e582703fdea\", [{\"y\": [0.9758857788368147, 0.5632554383090088, 0.47420604477973305, 0.40278111697713354, 0.34685060600538764, 0.300598837454531, 0.256408438329926, 0.21819525941520848, 0.18648213968686764], \"name\": \"Coefficient of Variation\", \"x\": [1, 2, 3, 4, 5, 6, 7, 8, 9], \"type\": \"scatter\"}], {\"titlefont\": {\"color\": \"#FFF\"}, \"plot_bgcolor\": \"#000\", \"width\": 500, \"title\": \"Confidence after 120000 Iterations at Glimpse 3\", \"paper_bgcolor\": \"#000\", \"font\": {\"color\": \"#FFF\"}, \"xaxis\": {\"title\": \"True Class\", \"tickcolor\": \"#FFF\", \"range\": [0.5, 9.5], \"dtick\": 1}, \"height\": 300, \"yaxis\": {\"showgrid\": true, \"tickcolor\": \"#FFF\", \"title\": \"Coefficient of Variation\"}}, {\"showLink\": true, \"linkText\": \"Export to plot.ly\"})});</script>"
      ],
      "text/vnd.plotly.v1+html": [
       "<div id=\"f0ea4563-a4bd-4d13-abc7-8e582703fdea\" style=\"height: 300px; width: 500px;\" class=\"plotly-graph-div\"></div><script type=\"text/javascript\">require([\"plotly\"], function(Plotly) { window.PLOTLYENV=window.PLOTLYENV || {};window.PLOTLYENV.BASE_URL=\"https://plot.ly\";Plotly.newPlot(\"f0ea4563-a4bd-4d13-abc7-8e582703fdea\", [{\"y\": [0.9758857788368147, 0.5632554383090088, 0.47420604477973305, 0.40278111697713354, 0.34685060600538764, 0.300598837454531, 0.256408438329926, 0.21819525941520848, 0.18648213968686764], \"name\": \"Coefficient of Variation\", \"x\": [1, 2, 3, 4, 5, 6, 7, 8, 9], \"type\": \"scatter\"}], {\"titlefont\": {\"color\": \"#FFF\"}, \"plot_bgcolor\": \"#000\", \"width\": 500, \"title\": \"Confidence after 120000 Iterations at Glimpse 3\", \"paper_bgcolor\": \"#000\", \"font\": {\"color\": \"#FFF\"}, \"xaxis\": {\"title\": \"True Class\", \"tickcolor\": \"#FFF\", \"range\": [0.5, 9.5], \"dtick\": 1}, \"height\": 300, \"yaxis\": {\"showgrid\": true, \"tickcolor\": \"#FFF\", \"title\": \"Coefficient of Variation\"}}, {\"showLink\": true, \"linkText\": \"Export to plot.ly\"})});</script>"
      ]
     },
     "metadata": {},
     "output_type": "display_data"
    },
    {
     "data": {
      "application/vnd.plotly.v1+json": {
       "data": [
        {
         "name": "Mean",
         "type": "scatter",
         "x": [
          1,
          2,
          3,
          4,
          5,
          6,
          7,
          8,
          9
         ],
         "y": [
          1.0102999999999998,
          2.0260000000000002,
          2.8939,
          3.9577000000000004,
          4.9912,
          6.0233,
          6.993399999999999,
          7.7166000000000015,
          8.211400000000001
         ]
        },
        {
         "name": "Standard Deviation",
         "type": "scatter",
         "x": [
          1,
          2,
          3,
          4,
          5,
          6,
          7,
          8,
          9
         ],
         "y": [
          1.0050416813496927,
          1.1112551725702868,
          1.3282584390706478,
          1.465754680899448,
          1.5769958360619214,
          1.696465605492366,
          1.6788306666535888,
          1.5216161015827652,
          1.3315833365832384
         ],
         "yaxis": "y2"
        }
       ],
       "layout": {
        "font": {
         "color": "#FFF"
        },
        "height": 500,
        "legend": {
         "x": 0,
         "y": 1
        },
        "paper_bgcolor": "#000",
        "plot_bgcolor": "#000",
        "title": "Choice after 120000 Iterations at Glimpse 3",
        "titlefont": {
         "color": "#FFF"
        },
        "width": 500,
        "xaxis": {
         "dtick": 1,
         "range": [
          0.5,
          9.5
         ],
         "tickcolor": "#FFF",
         "title": "True Class"
        },
        "yaxis": {
         "dtick": 1,
         "range": [
          0.5,
          9.5
         ],
         "tickcolor": "#FFF",
         "title": "Mean"
        },
        "yaxis2": {
         "gridcolor": "#999",
         "overlaying": "y",
         "range": [
          0,
          3
         ],
         "side": "right",
         "tickcolor": "#FFF",
         "title": "Standard Deviation"
        }
       }
      },
      "text/html": [
       "<div id=\"658f3bea-a449-468b-bdfc-e6f0fa67958e\" style=\"height: 500px; width: 500px;\" class=\"plotly-graph-div\"></div><script type=\"text/javascript\">require([\"plotly\"], function(Plotly) { window.PLOTLYENV=window.PLOTLYENV || {};window.PLOTLYENV.BASE_URL=\"https://plot.ly\";Plotly.newPlot(\"658f3bea-a449-468b-bdfc-e6f0fa67958e\", [{\"y\": [1.0102999999999998, 2.0260000000000002, 2.8939, 3.9577000000000004, 4.9912, 6.0233, 6.993399999999999, 7.7166000000000015, 8.211400000000001], \"name\": \"Mean\", \"x\": [1, 2, 3, 4, 5, 6, 7, 8, 9], \"type\": \"scatter\"}, {\"y\": [1.0050416813496927, 1.1112551725702868, 1.3282584390706478, 1.465754680899448, 1.5769958360619214, 1.696465605492366, 1.6788306666535888, 1.5216161015827652, 1.3315833365832384], \"type\": \"scatter\", \"name\": \"Standard Deviation\", \"x\": [1, 2, 3, 4, 5, 6, 7, 8, 9], \"yaxis\": \"y2\"}], {\"titlefont\": {\"color\": \"#FFF\"}, \"plot_bgcolor\": \"#000\", \"yaxis2\": {\"title\": \"Standard Deviation\", \"tickcolor\": \"#FFF\", \"range\": [0, 3], \"gridcolor\": \"#999\", \"overlaying\": \"y\", \"side\": \"right\"}, \"legend\": {\"y\": 1, \"x\": 0}, \"paper_bgcolor\": \"#000\", \"font\": {\"color\": \"#FFF\"}, \"yaxis\": {\"title\": \"Mean\", \"tickcolor\": \"#FFF\", \"range\": [0.5, 9.5], \"dtick\": 1}, \"xaxis\": {\"title\": \"True Class\", \"tickcolor\": \"#FFF\", \"range\": [0.5, 9.5], \"dtick\": 1}, \"height\": 500, \"width\": 500, \"title\": \"Choice after 120000 Iterations at Glimpse 3\"}, {\"showLink\": true, \"linkText\": \"Export to plot.ly\"})});</script>"
      ],
      "text/vnd.plotly.v1+html": [
       "<div id=\"658f3bea-a449-468b-bdfc-e6f0fa67958e\" style=\"height: 500px; width: 500px;\" class=\"plotly-graph-div\"></div><script type=\"text/javascript\">require([\"plotly\"], function(Plotly) { window.PLOTLYENV=window.PLOTLYENV || {};window.PLOTLYENV.BASE_URL=\"https://plot.ly\";Plotly.newPlot(\"658f3bea-a449-468b-bdfc-e6f0fa67958e\", [{\"y\": [1.0102999999999998, 2.0260000000000002, 2.8939, 3.9577000000000004, 4.9912, 6.0233, 6.993399999999999, 7.7166000000000015, 8.211400000000001], \"name\": \"Mean\", \"x\": [1, 2, 3, 4, 5, 6, 7, 8, 9], \"type\": \"scatter\"}, {\"y\": [1.0050416813496927, 1.1112551725702868, 1.3282584390706478, 1.465754680899448, 1.5769958360619214, 1.696465605492366, 1.6788306666535888, 1.5216161015827652, 1.3315833365832384], \"type\": \"scatter\", \"name\": \"Standard Deviation\", \"x\": [1, 2, 3, 4, 5, 6, 7, 8, 9], \"yaxis\": \"y2\"}], {\"titlefont\": {\"color\": \"#FFF\"}, \"plot_bgcolor\": \"#000\", \"yaxis2\": {\"title\": \"Standard Deviation\", \"tickcolor\": \"#FFF\", \"range\": [0, 3], \"gridcolor\": \"#999\", \"overlaying\": \"y\", \"side\": \"right\"}, \"legend\": {\"y\": 1, \"x\": 0}, \"paper_bgcolor\": \"#000\", \"font\": {\"color\": \"#FFF\"}, \"yaxis\": {\"title\": \"Mean\", \"tickcolor\": \"#FFF\", \"range\": [0.5, 9.5], \"dtick\": 1}, \"xaxis\": {\"title\": \"True Class\", \"tickcolor\": \"#FFF\", \"range\": [0.5, 9.5], \"dtick\": 1}, \"height\": 500, \"width\": 500, \"title\": \"Choice after 120000 Iterations at Glimpse 3\"}, {\"showLink\": true, \"linkText\": \"Export to plot.ly\"})});</script>"
      ]
     },
     "metadata": {},
     "output_type": "display_data"
    },
    {
     "data": {
      "application/vnd.plotly.v1+json": {
       "data": [
        {
         "name": "Coefficient of Variation",
         "type": "scatter",
         "x": [
          1,
          2,
          3,
          4,
          5,
          6,
          7,
          8,
          9
         ],
         "y": [
          0.9948297978541853,
          0.5487808776161642,
          0.45910563768522367,
          0.3705855909586925,
          0.3159056323148883,
          0.2814650773911584,
          0.2395631065333855,
          0.1969284556983837,
          0.16224679176776924
         ]
        }
       ],
       "layout": {
        "font": {
         "color": "#FFF"
        },
        "height": 300,
        "paper_bgcolor": "#000",
        "plot_bgcolor": "#000",
        "title": "Choice after 120000 Iterations at Glimpse 3",
        "titlefont": {
         "color": "#FFF"
        },
        "width": 500,
        "xaxis": {
         "dtick": 1,
         "range": [
          0.5,
          9.5
         ],
         "tickcolor": "#FFF",
         "title": "True Class"
        },
        "yaxis": {
         "showgrid": true,
         "tickcolor": "#FFF",
         "title": "Coefficient of Variation"
        }
       }
      },
      "text/html": [
       "<div id=\"608d346a-49a8-44d0-bdc2-b209f29f1bb4\" style=\"height: 300px; width: 500px;\" class=\"plotly-graph-div\"></div><script type=\"text/javascript\">require([\"plotly\"], function(Plotly) { window.PLOTLYENV=window.PLOTLYENV || {};window.PLOTLYENV.BASE_URL=\"https://plot.ly\";Plotly.newPlot(\"608d346a-49a8-44d0-bdc2-b209f29f1bb4\", [{\"y\": [0.9948297978541853, 0.5487808776161642, 0.45910563768522367, 0.3705855909586925, 0.3159056323148883, 0.2814650773911584, 0.2395631065333855, 0.1969284556983837, 0.16224679176776924], \"name\": \"Coefficient of Variation\", \"x\": [1, 2, 3, 4, 5, 6, 7, 8, 9], \"type\": \"scatter\"}], {\"titlefont\": {\"color\": \"#FFF\"}, \"plot_bgcolor\": \"#000\", \"width\": 500, \"title\": \"Choice after 120000 Iterations at Glimpse 3\", \"paper_bgcolor\": \"#000\", \"font\": {\"color\": \"#FFF\"}, \"xaxis\": {\"title\": \"True Class\", \"tickcolor\": \"#FFF\", \"range\": [0.5, 9.5], \"dtick\": 1}, \"height\": 300, \"yaxis\": {\"showgrid\": true, \"tickcolor\": \"#FFF\", \"title\": \"Coefficient of Variation\"}}, {\"showLink\": true, \"linkText\": \"Export to plot.ly\"})});</script>"
      ],
      "text/vnd.plotly.v1+html": [
       "<div id=\"608d346a-49a8-44d0-bdc2-b209f29f1bb4\" style=\"height: 300px; width: 500px;\" class=\"plotly-graph-div\"></div><script type=\"text/javascript\">require([\"plotly\"], function(Plotly) { window.PLOTLYENV=window.PLOTLYENV || {};window.PLOTLYENV.BASE_URL=\"https://plot.ly\";Plotly.newPlot(\"608d346a-49a8-44d0-bdc2-b209f29f1bb4\", [{\"y\": [0.9948297978541853, 0.5487808776161642, 0.45910563768522367, 0.3705855909586925, 0.3159056323148883, 0.2814650773911584, 0.2395631065333855, 0.1969284556983837, 0.16224679176776924], \"name\": \"Coefficient of Variation\", \"x\": [1, 2, 3, 4, 5, 6, 7, 8, 9], \"type\": \"scatter\"}], {\"titlefont\": {\"color\": \"#FFF\"}, \"plot_bgcolor\": \"#000\", \"width\": 500, \"title\": \"Choice after 120000 Iterations at Glimpse 3\", \"paper_bgcolor\": \"#000\", \"font\": {\"color\": \"#FFF\"}, \"xaxis\": {\"title\": \"True Class\", \"tickcolor\": \"#FFF\", \"range\": [0.5, 9.5], \"dtick\": 1}, \"height\": 300, \"yaxis\": {\"showgrid\": true, \"tickcolor\": \"#FFF\", \"title\": \"Coefficient of Variation\"}}, {\"showLink\": true, \"linkText\": \"Export to plot.ly\"})});</script>"
      ]
     },
     "metadata": {},
     "output_type": "display_data"
    },
    {
     "data": {
      "application/vnd.plotly.v1+json": {
       "data": [
        {
         "name": "Mean",
         "type": "scatter",
         "x": [
          1,
          2,
          3,
          4,
          5,
          6,
          7,
          8,
          9
         ],
         "y": [
          1.0496885973779286,
          2.1998290132820104,
          3.117629603531717,
          4.13143610030743,
          5.12069232888849,
          6.045601247079391,
          6.8540013364318835,
          7.4418417782262996,
          7.884366767714764
         ]
        },
        {
         "name": "Standard Deviation",
         "type": "scatter",
         "x": [
          1,
          2,
          3,
          4,
          5,
          6,
          7,
          8,
          9
         ],
         "y": [
          1.024933940740707,
          1.219498890093927,
          1.4699734281206258,
          1.6690018445509156,
          1.7880166762514533,
          1.8350750466214785,
          1.7790011922524496,
          1.6513339790326538,
          1.5009648517372
         ],
         "yaxis": "y2"
        }
       ],
       "layout": {
        "font": {
         "color": "#FFF"
        },
        "height": 500,
        "legend": {
         "x": 0,
         "y": 1
        },
        "paper_bgcolor": "#000",
        "plot_bgcolor": "#000",
        "title": "Confidence after 120000 Iterations at Glimpse 9",
        "titlefont": {
         "color": "#FFF"
        },
        "width": 500,
        "xaxis": {
         "dtick": 1,
         "range": [
          0.5,
          9.5
         ],
         "tickcolor": "#FFF",
         "title": "True Class"
        },
        "yaxis": {
         "dtick": 1,
         "range": [
          0.5,
          9.5
         ],
         "tickcolor": "#FFF",
         "title": "Mean"
        },
        "yaxis2": {
         "gridcolor": "#999",
         "overlaying": "y",
         "range": [
          0,
          3
         ],
         "side": "right",
         "tickcolor": "#FFF",
         "title": "Standard Deviation"
        }
       }
      },
      "text/html": [
       "<div id=\"4bf34bfd-dd34-4af7-a17a-61a344501724\" style=\"height: 500px; width: 500px;\" class=\"plotly-graph-div\"></div><script type=\"text/javascript\">require([\"plotly\"], function(Plotly) { window.PLOTLYENV=window.PLOTLYENV || {};window.PLOTLYENV.BASE_URL=\"https://plot.ly\";Plotly.newPlot(\"4bf34bfd-dd34-4af7-a17a-61a344501724\", [{\"y\": [1.0496885973779286, 2.1998290132820104, 3.117629603531717, 4.13143610030743, 5.12069232888849, 6.045601247079391, 6.8540013364318835, 7.4418417782262996, 7.884366767714764], \"name\": \"Mean\", \"x\": [1, 2, 3, 4, 5, 6, 7, 8, 9], \"type\": \"scatter\"}, {\"y\": [1.024933940740707, 1.219498890093927, 1.4699734281206258, 1.6690018445509156, 1.7880166762514533, 1.8350750466214785, 1.7790011922524496, 1.6513339790326538, 1.5009648517372], \"type\": \"scatter\", \"name\": \"Standard Deviation\", \"x\": [1, 2, 3, 4, 5, 6, 7, 8, 9], \"yaxis\": \"y2\"}], {\"titlefont\": {\"color\": \"#FFF\"}, \"plot_bgcolor\": \"#000\", \"yaxis2\": {\"title\": \"Standard Deviation\", \"tickcolor\": \"#FFF\", \"range\": [0, 3], \"gridcolor\": \"#999\", \"overlaying\": \"y\", \"side\": \"right\"}, \"legend\": {\"y\": 1, \"x\": 0}, \"paper_bgcolor\": \"#000\", \"font\": {\"color\": \"#FFF\"}, \"yaxis\": {\"title\": \"Mean\", \"tickcolor\": \"#FFF\", \"range\": [0.5, 9.5], \"dtick\": 1}, \"xaxis\": {\"title\": \"True Class\", \"tickcolor\": \"#FFF\", \"range\": [0.5, 9.5], \"dtick\": 1}, \"height\": 500, \"width\": 500, \"title\": \"Confidence after 120000 Iterations at Glimpse 9\"}, {\"showLink\": true, \"linkText\": \"Export to plot.ly\"})});</script>"
      ],
      "text/vnd.plotly.v1+html": [
       "<div id=\"4bf34bfd-dd34-4af7-a17a-61a344501724\" style=\"height: 500px; width: 500px;\" class=\"plotly-graph-div\"></div><script type=\"text/javascript\">require([\"plotly\"], function(Plotly) { window.PLOTLYENV=window.PLOTLYENV || {};window.PLOTLYENV.BASE_URL=\"https://plot.ly\";Plotly.newPlot(\"4bf34bfd-dd34-4af7-a17a-61a344501724\", [{\"y\": [1.0496885973779286, 2.1998290132820104, 3.117629603531717, 4.13143610030743, 5.12069232888849, 6.045601247079391, 6.8540013364318835, 7.4418417782262996, 7.884366767714764], \"name\": \"Mean\", \"x\": [1, 2, 3, 4, 5, 6, 7, 8, 9], \"type\": \"scatter\"}, {\"y\": [1.024933940740707, 1.219498890093927, 1.4699734281206258, 1.6690018445509156, 1.7880166762514533, 1.8350750466214785, 1.7790011922524496, 1.6513339790326538, 1.5009648517372], \"type\": \"scatter\", \"name\": \"Standard Deviation\", \"x\": [1, 2, 3, 4, 5, 6, 7, 8, 9], \"yaxis\": \"y2\"}], {\"titlefont\": {\"color\": \"#FFF\"}, \"plot_bgcolor\": \"#000\", \"yaxis2\": {\"title\": \"Standard Deviation\", \"tickcolor\": \"#FFF\", \"range\": [0, 3], \"gridcolor\": \"#999\", \"overlaying\": \"y\", \"side\": \"right\"}, \"legend\": {\"y\": 1, \"x\": 0}, \"paper_bgcolor\": \"#000\", \"font\": {\"color\": \"#FFF\"}, \"yaxis\": {\"title\": \"Mean\", \"tickcolor\": \"#FFF\", \"range\": [0.5, 9.5], \"dtick\": 1}, \"xaxis\": {\"title\": \"True Class\", \"tickcolor\": \"#FFF\", \"range\": [0.5, 9.5], \"dtick\": 1}, \"height\": 500, \"width\": 500, \"title\": \"Confidence after 120000 Iterations at Glimpse 9\"}, {\"showLink\": true, \"linkText\": \"Export to plot.ly\"})});</script>"
      ]
     },
     "metadata": {},
     "output_type": "display_data"
    },
    {
     "data": {
      "application/vnd.plotly.v1+json": {
       "data": [
        {
         "name": "Coefficient of Variation",
         "type": "scatter",
         "x": [
          1,
          2,
          3,
          4,
          5,
          6,
          7,
          8,
          9
         ],
         "y": [
          0.9768058982123817,
          0.5549671288929485,
          0.4717091559232716,
          0.4041088433056917,
          0.34917463172184204,
          0.3034288070258585,
          0.25942789992155796,
          0.2218047418635521,
          0.19038117747779185
         ]
        }
       ],
       "layout": {
        "font": {
         "color": "#FFF"
        },
        "height": 300,
        "paper_bgcolor": "#000",
        "plot_bgcolor": "#000",
        "title": "Confidence after 120000 Iterations at Glimpse 9",
        "titlefont": {
         "color": "#FFF"
        },
        "width": 500,
        "xaxis": {
         "dtick": 1,
         "range": [
          0.5,
          9.5
         ],
         "tickcolor": "#FFF",
         "title": "True Class"
        },
        "yaxis": {
         "showgrid": true,
         "tickcolor": "#FFF",
         "title": "Coefficient of Variation"
        }
       }
      },
      "text/html": [
       "<div id=\"aef87f9d-81b5-4cd3-9c68-c732b3552ce4\" style=\"height: 300px; width: 500px;\" class=\"plotly-graph-div\"></div><script type=\"text/javascript\">require([\"plotly\"], function(Plotly) { window.PLOTLYENV=window.PLOTLYENV || {};window.PLOTLYENV.BASE_URL=\"https://plot.ly\";Plotly.newPlot(\"aef87f9d-81b5-4cd3-9c68-c732b3552ce4\", [{\"y\": [0.9768058982123817, 0.5549671288929485, 0.4717091559232716, 0.4041088433056917, 0.34917463172184204, 0.3034288070258585, 0.25942789992155796, 0.2218047418635521, 0.19038117747779185], \"name\": \"Coefficient of Variation\", \"x\": [1, 2, 3, 4, 5, 6, 7, 8, 9], \"type\": \"scatter\"}], {\"titlefont\": {\"color\": \"#FFF\"}, \"plot_bgcolor\": \"#000\", \"width\": 500, \"title\": \"Confidence after 120000 Iterations at Glimpse 9\", \"paper_bgcolor\": \"#000\", \"font\": {\"color\": \"#FFF\"}, \"xaxis\": {\"title\": \"True Class\", \"tickcolor\": \"#FFF\", \"range\": [0.5, 9.5], \"dtick\": 1}, \"height\": 300, \"yaxis\": {\"showgrid\": true, \"tickcolor\": \"#FFF\", \"title\": \"Coefficient of Variation\"}}, {\"showLink\": true, \"linkText\": \"Export to plot.ly\"})});</script>"
      ],
      "text/vnd.plotly.v1+html": [
       "<div id=\"aef87f9d-81b5-4cd3-9c68-c732b3552ce4\" style=\"height: 300px; width: 500px;\" class=\"plotly-graph-div\"></div><script type=\"text/javascript\">require([\"plotly\"], function(Plotly) { window.PLOTLYENV=window.PLOTLYENV || {};window.PLOTLYENV.BASE_URL=\"https://plot.ly\";Plotly.newPlot(\"aef87f9d-81b5-4cd3-9c68-c732b3552ce4\", [{\"y\": [0.9768058982123817, 0.5549671288929485, 0.4717091559232716, 0.4041088433056917, 0.34917463172184204, 0.3034288070258585, 0.25942789992155796, 0.2218047418635521, 0.19038117747779185], \"name\": \"Coefficient of Variation\", \"x\": [1, 2, 3, 4, 5, 6, 7, 8, 9], \"type\": \"scatter\"}], {\"titlefont\": {\"color\": \"#FFF\"}, \"plot_bgcolor\": \"#000\", \"width\": 500, \"title\": \"Confidence after 120000 Iterations at Glimpse 9\", \"paper_bgcolor\": \"#000\", \"font\": {\"color\": \"#FFF\"}, \"xaxis\": {\"title\": \"True Class\", \"tickcolor\": \"#FFF\", \"range\": [0.5, 9.5], \"dtick\": 1}, \"height\": 300, \"yaxis\": {\"showgrid\": true, \"tickcolor\": \"#FFF\", \"title\": \"Coefficient of Variation\"}}, {\"showLink\": true, \"linkText\": \"Export to plot.ly\"})});</script>"
      ]
     },
     "metadata": {},
     "output_type": "display_data"
    },
    {
     "data": {
      "application/vnd.plotly.v1+json": {
       "data": [
        {
         "name": "Mean",
         "type": "scatter",
         "x": [
          1,
          2,
          3,
          4,
          5,
          6,
          7,
          8,
          9
         ],
         "y": [
          1.0127,
          2.0536000000000003,
          2.9222000000000006,
          3.960199999999999,
          4.9860999999999995,
          6.014,
          6.984399999999999,
          7.7101,
          8.2012
         ]
        },
        {
         "name": "Standard Deviation",
         "type": "scatter",
         "x": [
          1,
          2,
          3,
          4,
          5,
          6,
          7,
          8,
          9
         ],
         "y": [
          1.0061956157841818,
          1.11164237967037,
          1.317440092908512,
          1.4608681656392222,
          1.5547619416671286,
          1.6712917025583653,
          1.6712283698272075,
          1.516641376664418,
          1.3158271817547773
         ],
         "yaxis": "y2"
        }
       ],
       "layout": {
        "font": {
         "color": "#FFF"
        },
        "height": 500,
        "legend": {
         "x": 0,
         "y": 1
        },
        "paper_bgcolor": "#000",
        "plot_bgcolor": "#000",
        "title": "Choice after 120000 Iterations at Glimpse 9",
        "titlefont": {
         "color": "#FFF"
        },
        "width": 500,
        "xaxis": {
         "dtick": 1,
         "range": [
          0.5,
          9.5
         ],
         "tickcolor": "#FFF",
         "title": "True Class"
        },
        "yaxis": {
         "dtick": 1,
         "range": [
          0.5,
          9.5
         ],
         "tickcolor": "#FFF",
         "title": "Mean"
        },
        "yaxis2": {
         "gridcolor": "#999",
         "overlaying": "y",
         "range": [
          0,
          3
         ],
         "side": "right",
         "tickcolor": "#FFF",
         "title": "Standard Deviation"
        }
       }
      },
      "text/html": [
       "<div id=\"ac79e18f-b73a-45fa-b146-bf8b340b6c30\" style=\"height: 500px; width: 500px;\" class=\"plotly-graph-div\"></div><script type=\"text/javascript\">require([\"plotly\"], function(Plotly) { window.PLOTLYENV=window.PLOTLYENV || {};window.PLOTLYENV.BASE_URL=\"https://plot.ly\";Plotly.newPlot(\"ac79e18f-b73a-45fa-b146-bf8b340b6c30\", [{\"y\": [1.0127, 2.0536000000000003, 2.9222000000000006, 3.960199999999999, 4.9860999999999995, 6.014, 6.984399999999999, 7.7101, 8.2012], \"name\": \"Mean\", \"x\": [1, 2, 3, 4, 5, 6, 7, 8, 9], \"type\": \"scatter\"}, {\"y\": [1.0061956157841818, 1.11164237967037, 1.317440092908512, 1.4608681656392222, 1.5547619416671286, 1.6712917025583653, 1.6712283698272075, 1.516641376664418, 1.3158271817547773], \"type\": \"scatter\", \"name\": \"Standard Deviation\", \"x\": [1, 2, 3, 4, 5, 6, 7, 8, 9], \"yaxis\": \"y2\"}], {\"titlefont\": {\"color\": \"#FFF\"}, \"plot_bgcolor\": \"#000\", \"yaxis2\": {\"title\": \"Standard Deviation\", \"tickcolor\": \"#FFF\", \"range\": [0, 3], \"gridcolor\": \"#999\", \"overlaying\": \"y\", \"side\": \"right\"}, \"legend\": {\"y\": 1, \"x\": 0}, \"paper_bgcolor\": \"#000\", \"font\": {\"color\": \"#FFF\"}, \"yaxis\": {\"title\": \"Mean\", \"tickcolor\": \"#FFF\", \"range\": [0.5, 9.5], \"dtick\": 1}, \"xaxis\": {\"title\": \"True Class\", \"tickcolor\": \"#FFF\", \"range\": [0.5, 9.5], \"dtick\": 1}, \"height\": 500, \"width\": 500, \"title\": \"Choice after 120000 Iterations at Glimpse 9\"}, {\"showLink\": true, \"linkText\": \"Export to plot.ly\"})});</script>"
      ],
      "text/vnd.plotly.v1+html": [
       "<div id=\"ac79e18f-b73a-45fa-b146-bf8b340b6c30\" style=\"height: 500px; width: 500px;\" class=\"plotly-graph-div\"></div><script type=\"text/javascript\">require([\"plotly\"], function(Plotly) { window.PLOTLYENV=window.PLOTLYENV || {};window.PLOTLYENV.BASE_URL=\"https://plot.ly\";Plotly.newPlot(\"ac79e18f-b73a-45fa-b146-bf8b340b6c30\", [{\"y\": [1.0127, 2.0536000000000003, 2.9222000000000006, 3.960199999999999, 4.9860999999999995, 6.014, 6.984399999999999, 7.7101, 8.2012], \"name\": \"Mean\", \"x\": [1, 2, 3, 4, 5, 6, 7, 8, 9], \"type\": \"scatter\"}, {\"y\": [1.0061956157841818, 1.11164237967037, 1.317440092908512, 1.4608681656392222, 1.5547619416671286, 1.6712917025583653, 1.6712283698272075, 1.516641376664418, 1.3158271817547773], \"type\": \"scatter\", \"name\": \"Standard Deviation\", \"x\": [1, 2, 3, 4, 5, 6, 7, 8, 9], \"yaxis\": \"y2\"}], {\"titlefont\": {\"color\": \"#FFF\"}, \"plot_bgcolor\": \"#000\", \"yaxis2\": {\"title\": \"Standard Deviation\", \"tickcolor\": \"#FFF\", \"range\": [0, 3], \"gridcolor\": \"#999\", \"overlaying\": \"y\", \"side\": \"right\"}, \"legend\": {\"y\": 1, \"x\": 0}, \"paper_bgcolor\": \"#000\", \"font\": {\"color\": \"#FFF\"}, \"yaxis\": {\"title\": \"Mean\", \"tickcolor\": \"#FFF\", \"range\": [0.5, 9.5], \"dtick\": 1}, \"xaxis\": {\"title\": \"True Class\", \"tickcolor\": \"#FFF\", \"range\": [0.5, 9.5], \"dtick\": 1}, \"height\": 500, \"width\": 500, \"title\": \"Choice after 120000 Iterations at Glimpse 9\"}, {\"showLink\": true, \"linkText\": \"Export to plot.ly\"})});</script>"
      ]
     },
     "metadata": {},
     "output_type": "display_data"
    },
    {
     "data": {
      "application/vnd.plotly.v1+json": {
       "data": [
        {
         "name": "Coefficient of Variation",
         "type": "scatter",
         "x": [
          1,
          2,
          3,
          4,
          5,
          6,
          7,
          8,
          9
         ],
         "y": [
          0.9936212425197966,
          0.5421603926869684,
          0.45123656322030287,
          0.36914939854800694,
          0.31189214298764634,
          0.2777290252380835,
          0.23882255463783383,
          0.196397001133259,
          0.16050357326692846
         ]
        }
       ],
       "layout": {
        "font": {
         "color": "#FFF"
        },
        "height": 300,
        "paper_bgcolor": "#000",
        "plot_bgcolor": "#000",
        "title": "Choice after 120000 Iterations at Glimpse 9",
        "titlefont": {
         "color": "#FFF"
        },
        "width": 500,
        "xaxis": {
         "dtick": 1,
         "range": [
          0.5,
          9.5
         ],
         "tickcolor": "#FFF",
         "title": "True Class"
        },
        "yaxis": {
         "showgrid": true,
         "tickcolor": "#FFF",
         "title": "Coefficient of Variation"
        }
       }
      },
      "text/html": [
       "<div id=\"d44d604c-9b68-43de-a398-645f3c685729\" style=\"height: 300px; width: 500px;\" class=\"plotly-graph-div\"></div><script type=\"text/javascript\">require([\"plotly\"], function(Plotly) { window.PLOTLYENV=window.PLOTLYENV || {};window.PLOTLYENV.BASE_URL=\"https://plot.ly\";Plotly.newPlot(\"d44d604c-9b68-43de-a398-645f3c685729\", [{\"y\": [0.9936212425197966, 0.5421603926869684, 0.45123656322030287, 0.36914939854800694, 0.31189214298764634, 0.2777290252380835, 0.23882255463783383, 0.196397001133259, 0.16050357326692846], \"name\": \"Coefficient of Variation\", \"x\": [1, 2, 3, 4, 5, 6, 7, 8, 9], \"type\": \"scatter\"}], {\"titlefont\": {\"color\": \"#FFF\"}, \"plot_bgcolor\": \"#000\", \"width\": 500, \"title\": \"Choice after 120000 Iterations at Glimpse 9\", \"paper_bgcolor\": \"#000\", \"font\": {\"color\": \"#FFF\"}, \"xaxis\": {\"title\": \"True Class\", \"tickcolor\": \"#FFF\", \"range\": [0.5, 9.5], \"dtick\": 1}, \"height\": 300, \"yaxis\": {\"showgrid\": true, \"tickcolor\": \"#FFF\", \"title\": \"Coefficient of Variation\"}}, {\"showLink\": true, \"linkText\": \"Export to plot.ly\"})});</script>"
      ],
      "text/vnd.plotly.v1+html": [
       "<div id=\"d44d604c-9b68-43de-a398-645f3c685729\" style=\"height: 300px; width: 500px;\" class=\"plotly-graph-div\"></div><script type=\"text/javascript\">require([\"plotly\"], function(Plotly) { window.PLOTLYENV=window.PLOTLYENV || {};window.PLOTLYENV.BASE_URL=\"https://plot.ly\";Plotly.newPlot(\"d44d604c-9b68-43de-a398-645f3c685729\", [{\"y\": [0.9936212425197966, 0.5421603926869684, 0.45123656322030287, 0.36914939854800694, 0.31189214298764634, 0.2777290252380835, 0.23882255463783383, 0.196397001133259, 0.16050357326692846], \"name\": \"Coefficient of Variation\", \"x\": [1, 2, 3, 4, 5, 6, 7, 8, 9], \"type\": \"scatter\"}], {\"titlefont\": {\"color\": \"#FFF\"}, \"plot_bgcolor\": \"#000\", \"width\": 500, \"title\": \"Choice after 120000 Iterations at Glimpse 9\", \"paper_bgcolor\": \"#000\", \"font\": {\"color\": \"#FFF\"}, \"xaxis\": {\"title\": \"True Class\", \"tickcolor\": \"#FFF\", \"range\": [0.5, 9.5], \"dtick\": 1}, \"height\": 300, \"yaxis\": {\"showgrid\": true, \"tickcolor\": \"#FFF\", \"title\": \"Coefficient of Variation\"}}, {\"showLink\": true, \"linkText\": \"Export to plot.ly\"})});</script>"
      ]
     },
     "metadata": {},
     "output_type": "display_data"
    }
   ],
   "source": [
    "for i, it in enumerate(iter_list):\n",
    "    for g, glimpse in enumerate(glimpse_list):\n",
    "        plot_confidence_msdcv(i, it, g, glimpse)\n",
    "        plot_choice_msdcv(i, it, g, glimpse)"
   ]
  },
  {
   "cell_type": "code",
   "execution_count": null,
   "metadata": {
    "collapsed": true
   },
   "outputs": [],
   "source": []
  }
 ],
 "metadata": {
  "kernelspec": {
   "display_name": "Python 3",
   "language": "python",
   "name": "python3"
  },
  "language_info": {
   "codemirror_mode": {
    "name": "ipython",
    "version": 3
   },
   "file_extension": ".py",
   "mimetype": "text/x-python",
   "name": "python",
   "nbconvert_exporter": "python",
   "pygments_lexer": "ipython3",
   "version": "3.5.2"
  }
 },
 "nbformat": 4,
 "nbformat_minor": 2
}
