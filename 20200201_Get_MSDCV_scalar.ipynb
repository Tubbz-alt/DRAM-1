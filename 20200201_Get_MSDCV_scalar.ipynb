{
 "cells": [
  {
   "cell_type": "markdown",
   "metadata": {},
   "source": [
    "# Get FF_estimation_scalar MSDCV"
   ]
  },
  {
   "cell_type": "markdown",
   "metadata": {},
   "source": [
    "Make sure that analysis_estimation_nds.py imports FF_estimation_scalar, and that batch_size = 100 in model_settings.py."
   ]
  },
  {
   "cell_type": "code",
   "execution_count": 1,
   "metadata": {
    "scrolled": true
   },
   "outputs": [
    {
     "data": {
      "text/html": [
       "        <script type=\"text/javascript\">\n",
       "        window.PlotlyConfig = {MathJaxConfig: 'local'};\n",
       "        if (window.MathJax) {MathJax.Hub.Config({SVG: {font: \"STIX-Web\"}});}\n",
       "        if (typeof require !== 'undefined') {\n",
       "        require.undef(\"plotly\");\n",
       "        requirejs.config({\n",
       "            paths: {\n",
       "                'plotly': ['https://cdn.plot.ly/plotly-latest.min']\n",
       "            }\n",
       "        });\n",
       "        require(['plotly'], function(Plotly) {\n",
       "            window._Plotly = Plotly;\n",
       "        });\n",
       "        }\n",
       "        </script>\n",
       "        "
      ]
     },
     "metadata": {},
     "output_type": "display_data"
    },
    {
     "name": "stdout",
     "output_type": "stream",
     "text": [
      "['/home/sychen23/.local/lib/python3.5/site-packages/ipykernel_launcher.py', '-f', '/home/sychen23/.local/share/jupyter/runtime/kernel-41107dcb-281e-461d-aae5-e23f70bb053b.json', 'true', 'true', 'true', 'true', 'true', 'model_runs/-f/classify_log.csv', 'model_runs/-f/classifymodel_0.ckpt', 'model_runs/-f/classifymodel_', 'model_runs/-f/zzzdraw_data_5000.npy', 'false', 'true', 'false', 'false', 'true']\n",
      "hidden_w: Tensor(\"Placeholder_1:0\", shape=(225, 250), dtype=float32)\n",
      "hidden_b: Tensor(\"Placeholder_2:0\", shape=(250,), dtype=float32)\n",
      "WARNING:tensorflow:From /usr/local/lib/python3.5/dist-packages/tensorflow/python/ops/clip_ops.py:113: calling reduce_sum (from tensorflow.python.ops.math_ops) with keep_dims is deprecated and will be removed in a future version.\n",
      "Instructions for updating:\n",
      "keep_dims is deprecated, use keepdims instead\n",
      "FF_estimation_scalar_swap\n",
      "analysis_estimation_nds.py\n",
      "FF_estimation_scalar_swap\n",
      "analysis_estimation_nds.py\n"
     ]
    }
   ],
   "source": [
    "import numpy as np\n",
    "from plotly.offline import download_plotlyjs, init_notebook_mode, plot, iplot\n",
    "init_notebook_mode(connected=True)\n",
    "import plotly.graph_objs as go\n",
    "import analysis_estimation_nds\n",
    "import importlib\n",
    "importlib.reload(analysis_estimation_nds)\n",
    "from jupyterthemes import jtplot\n",
    "jtplot.style()\n",
    "import pickle\n",
    "import matplotlib.pyplot as plt\n",
    "%matplotlib inline"
   ]
  },
  {
   "cell_type": "markdown",
   "metadata": {},
   "source": [
    "Choose which model is of interest, specify the test condition and if the data is created incrementally, specify the results directory, and set scalar to True and specify if the results should be rounded."
   ]
  },
  {
   "cell_type": "code",
   "execution_count": 2,
   "metadata": {},
   "outputs": [],
   "source": [
    "models = [(\"New_CAA_const_fN_scalar\", \"Const Avg Area, $f(n)$ Constant\"),\n",
    "          (\"New_CAA_decrs_fN_scalar\", \"Const Avg Area, $f(n) \\propto 1/n^2$\"),\n",
    "          (\"New_DAA_const_fN_scalar\", \"Decr Avg Area, $f(n)$ Constant\"),\n",
    "          (\"New_DAA_decrs_fN_scalar\", \"Decr Avg Area, $f(n) \\propto 1/n^2$\")]\n",
    "model = (\"estimation/swap_test/swap_scalar_DAA_const_fN\", \"Swap Scalar, Decr Avg Area, $f(n)$ Constant\")# models[3]\n",
    "model_name, model_figure_title = model\n",
    "num_runs = 10\n",
    "iter_list = [0, 200, 400, 1600, 6400, 25600, 102400, 204800, 409600, 819200, 1000000, 1228800, 1638400, 2000000, 3000000]#, 4000000, 5000000, 6000000]\n",
    "max_blobs = 9\n",
    "min_blobs = 1\n",
    "\n",
    "num_iters = len(iter_list)\n",
    "output_size = max_blobs - min_blobs + 1\n",
    "test_condition = \"po_ind\"\n",
    "incremental = False\n",
    "data_directory = \"data/\" + model_name + \"/\" + test_condition + \"/\"\n",
    "\n",
    "import os\n",
    "if not os.path.exists(data_directory):\n",
    "    os.makedirs(data_directory)\n",
    "    \n",
    "from pathlib import Path\n",
    "results_dir = 'Results/20200709_msdcv_3000000_scalar/unrounded/' + test_condition + \"/\"\n",
    "Path(results_dir).mkdir(parents=True, exist_ok=True)\n",
    "scalar = True\n",
    "rounded = False"
   ]
  },
  {
   "cell_type": "code",
   "execution_count": 3,
   "metadata": {},
   "outputs": [
    {
     "name": "stdout",
     "output_type": "stream",
     "text": [
      "beta1_power (DT_FLOAT) []\n",
      "beta2_power (DT_FLOAT) []\n",
      "output/b (DT_FLOAT) [1]\n",
      "output/b/Adam (DT_FLOAT) [1]\n",
      "output/b/Adam_1 (DT_FLOAT) [1]\n",
      "output/w (DT_FLOAT) [250,1]\n",
      "output/w/Adam (DT_FLOAT) [250,1]\n",
      "output/w/Adam_1 (DT_FLOAT) [250,1]\n",
      "\n"
     ]
    }
   ],
   "source": [
    "from tensorflow.python.tools.inspect_checkpoint import print_tensors_in_checkpoint_file\n",
    "import os\n",
    "path = 'model_runs/' + model_name + '_run' + str(1)\n",
    "it = 0\n",
    "checkpoint_path = \"%s/classifymodel_%d.ckpt\" % (path, it)\n",
    "\n",
    "# List ALL tensors example output: v0/Adam (DT_FLOAT) [3,3,1,80]\n",
    "print_tensors_in_checkpoint_file(file_name=checkpoint_path, tensor_name='', all_tensors=False, all_tensor_names=False)\n",
    "\n",
    "# List contents of v0 tensor.\n",
    "# Example output: tensor_name:  v0 [[[[  9.27958265e-02   7.40226209e-02   4.52989563e-02   3.15700471e-02\n",
    "# print_tensors_in_checkpoint_file(file_name=checkpoint_path, tensor_name='hidden/b', all_tensors=False, all_tensor_names=False)\n"
   ]
  },
  {
   "cell_type": "markdown",
   "metadata": {},
   "source": [
    "### Test out loading swap checkpoints"
   ]
  },
  {
   "cell_type": "code",
   "execution_count": 4,
   "metadata": {},
   "outputs": [
    {
     "name": "stdout",
     "output_type": "stream",
     "text": [
      "beta1_power (DT_FLOAT) []\n",
      "beta2_power (DT_FLOAT) []\n",
      "hidden/b (DT_FLOAT) [250]\n",
      "hidden/b/Adam (DT_FLOAT) [250]\n",
      "hidden/b/Adam_1 (DT_FLOAT) [250]\n",
      "hidden/w (DT_FLOAT) [225,250]\n",
      "hidden/w/Adam (DT_FLOAT) [225,250]\n",
      "hidden/w/Adam_1 (DT_FLOAT) [225,250]\n",
      "output/b (DT_FLOAT) [1]\n",
      "output/b/Adam (DT_FLOAT) [1]\n",
      "output/b/Adam_1 (DT_FLOAT) [1]\n",
      "output/w (DT_FLOAT) [250,1]\n",
      "output/w/Adam (DT_FLOAT) [250,1]\n",
      "output/w/Adam_1 (DT_FLOAT) [250,1]\n",
      "\n"
     ]
    },
    {
     "data": {
      "text/plain": [
       "((225, 250), (250,))"
      ]
     },
     "execution_count": 4,
     "metadata": {},
     "output_type": "execute_result"
    }
   ],
   "source": [
    "MODE = \"DAA_const_fN\"\n",
    "swap_index = 3000000\n",
    "test_run = 1\n",
    "swap_file = \"model_runs/estimation/scalar_model/scalar_\"+MODE+\"_run\"+str(test_run)+\"/classifymodel_\" + str(swap_index) + \".ckpt\"\n",
    "print_tensors_in_checkpoint_file(file_name=swap_file, tensor_name='', all_tensors=False, all_tensor_names=False)\n",
    "import tensorflow as tf\n",
    "ckpt_reader = tf.train.load_checkpoint(swap_file)\n",
    "hidden_w = ckpt_reader.get_tensor(\"hidden/w\")\n",
    "hidden_b = ckpt_reader.get_tensor(\"hidden/b\")\n",
    "hidden_w.shape, hidden_b.shape"
   ]
  },
  {
   "cell_type": "code",
   "execution_count": 5,
   "metadata": {},
   "outputs": [
    {
     "name": "stdout",
     "output_type": "stream",
     "text": [
      "WARNING:tensorflow:From <ipython-input-5-c607849da4b6>:1: all_variables (from tensorflow.python.ops.variables) is deprecated and will be removed after 2017-03-02.\n",
      "Instructions for updating:\n",
      "Please use tf.global_variables instead.\n"
     ]
    },
    {
     "data": {
      "text/plain": [
       "[<tf.Variable 'output/w:0' shape=(250, 1) dtype=float32_ref>,\n",
       " <tf.Variable 'output/b:0' shape=(1,) dtype=float32_ref>,\n",
       " <tf.Variable 'beta1_power:0' shape=() dtype=float32_ref>,\n",
       " <tf.Variable 'beta2_power:0' shape=() dtype=float32_ref>,\n",
       " <tf.Variable 'output/w/Adam:0' shape=(250, 1) dtype=float32_ref>,\n",
       " <tf.Variable 'output/w/Adam_1:0' shape=(250, 1) dtype=float32_ref>,\n",
       " <tf.Variable 'output/b/Adam:0' shape=(1,) dtype=float32_ref>,\n",
       " <tf.Variable 'output/b/Adam_1:0' shape=(1,) dtype=float32_ref>]"
      ]
     },
     "execution_count": 5,
     "metadata": {},
     "output_type": "execute_result"
    }
   ],
   "source": [
    "tf.all_variables()"
   ]
  },
  {
   "cell_type": "code",
   "execution_count": 6,
   "metadata": {
    "scrolled": false
   },
   "outputs": [
    {
     "name": "stdout",
     "output_type": "stream",
     "text": [
      "INFO:tensorflow:Restoring parameters from model_runs/estimation/swap_test/swap_scalar_DAA_const_fN_run1/classifymodel_0.ckpt\n",
      "(1, 1)\n",
      "[-2.2727883]\n",
      "-2.2727883\n"
     ]
    }
   ],
   "source": [
    "test_run = 1\n",
    "path = 'model_runs/' + model_name + '_run' + str(test_run)\n",
    "imgs_data = analysis_estimation_nds.classify_imgs_po_swap(0, True, 100, test_run, path=path, incremental=incremental, scalar=scalar)\n",
    "print(np.shape(imgs_data[1][\"classifications\"]))\n",
    "print(imgs_data[1][\"classifications\"][0])\n",
    "print(imgs_data[1][\"classifications\"][0][0]) # scalar output"
   ]
  },
  {
   "cell_type": "code",
   "execution_count": 7,
   "metadata": {},
   "outputs": [],
   "source": [
    "def get_classifications_one_run(test_run, path, iteration):\n",
    "    \"\"\"Get classifications for one run at one iteration.\"\"\"\n",
    "\n",
    "    imgs_data = analysis_estimation_nds.classify_imgs_po_swap(iteration, True, 100, test_run, path=path, incremental=incremental, scalar=scalar) # new_imgs = True\n",
    "    unrounded_values = {nb: [] for nb in range(1, output_size+1)}\n",
    "    rounded_values = {nb: [] for nb in range(1, output_size+1)}\n",
    "    \n",
    "    for idx, data in enumerate(imgs_data):\n",
    "        nb = data[\"label\"][0]\n",
    "        classification = data[\"classifications\"][0][0]\n",
    "        unrounded_values[nb].append(classification)\n",
    "        rounded_values[nb].append(round(classification))\n",
    "    return unrounded_values, rounded_values"
   ]
  },
  {
   "cell_type": "code",
   "execution_count": 8,
   "metadata": {
    "scrolled": true
   },
   "outputs": [
    {
     "name": "stdout",
     "output_type": "stream",
     "text": [
      "INFO:tensorflow:Restoring parameters from model_runs/estimation/swap_test/swap_scalar_DAA_const_fN_run1/classifymodel_0.ckpt\n",
      "INFO:tensorflow:Restoring parameters from model_runs/estimation/swap_test/swap_scalar_DAA_const_fN_run1/classifymodel_200.ckpt\n",
      "INFO:tensorflow:Restoring parameters from model_runs/estimation/swap_test/swap_scalar_DAA_const_fN_run1/classifymodel_400.ckpt\n",
      "INFO:tensorflow:Restoring parameters from model_runs/estimation/swap_test/swap_scalar_DAA_const_fN_run1/classifymodel_1600.ckpt\n",
      "INFO:tensorflow:Restoring parameters from model_runs/estimation/swap_test/swap_scalar_DAA_const_fN_run1/classifymodel_6400.ckpt\n",
      "INFO:tensorflow:Restoring parameters from model_runs/estimation/swap_test/swap_scalar_DAA_const_fN_run1/classifymodel_25600.ckpt\n",
      "INFO:tensorflow:Restoring parameters from model_runs/estimation/swap_test/swap_scalar_DAA_const_fN_run1/classifymodel_102400.ckpt\n",
      "INFO:tensorflow:Restoring parameters from model_runs/estimation/swap_test/swap_scalar_DAA_const_fN_run1/classifymodel_204800.ckpt\n",
      "INFO:tensorflow:Restoring parameters from model_runs/estimation/swap_test/swap_scalar_DAA_const_fN_run1/classifymodel_409600.ckpt\n",
      "INFO:tensorflow:Restoring parameters from model_runs/estimation/swap_test/swap_scalar_DAA_const_fN_run1/classifymodel_819200.ckpt\n",
      "INFO:tensorflow:Restoring parameters from model_runs/estimation/swap_test/swap_scalar_DAA_const_fN_run1/classifymodel_1000000.ckpt\n",
      "INFO:tensorflow:Restoring parameters from model_runs/estimation/swap_test/swap_scalar_DAA_const_fN_run1/classifymodel_1228800.ckpt\n",
      "INFO:tensorflow:Restoring parameters from model_runs/estimation/swap_test/swap_scalar_DAA_const_fN_run1/classifymodel_1638400.ckpt\n",
      "INFO:tensorflow:Restoring parameters from model_runs/estimation/swap_test/swap_scalar_DAA_const_fN_run1/classifymodel_2000000.ckpt\n",
      "INFO:tensorflow:Restoring parameters from model_runs/estimation/swap_test/swap_scalar_DAA_const_fN_run1/classifymodel_3000000.ckpt\n",
      "INFO:tensorflow:Restoring parameters from model_runs/estimation/swap_test/swap_scalar_DAA_const_fN_run2/classifymodel_0.ckpt\n",
      "INFO:tensorflow:Restoring parameters from model_runs/estimation/swap_test/swap_scalar_DAA_const_fN_run2/classifymodel_200.ckpt\n",
      "INFO:tensorflow:Restoring parameters from model_runs/estimation/swap_test/swap_scalar_DAA_const_fN_run2/classifymodel_400.ckpt\n",
      "INFO:tensorflow:Restoring parameters from model_runs/estimation/swap_test/swap_scalar_DAA_const_fN_run2/classifymodel_1600.ckpt\n",
      "INFO:tensorflow:Restoring parameters from model_runs/estimation/swap_test/swap_scalar_DAA_const_fN_run2/classifymodel_6400.ckpt\n",
      "INFO:tensorflow:Restoring parameters from model_runs/estimation/swap_test/swap_scalar_DAA_const_fN_run2/classifymodel_25600.ckpt\n",
      "INFO:tensorflow:Restoring parameters from model_runs/estimation/swap_test/swap_scalar_DAA_const_fN_run2/classifymodel_102400.ckpt\n",
      "INFO:tensorflow:Restoring parameters from model_runs/estimation/swap_test/swap_scalar_DAA_const_fN_run2/classifymodel_204800.ckpt\n",
      "INFO:tensorflow:Restoring parameters from model_runs/estimation/swap_test/swap_scalar_DAA_const_fN_run2/classifymodel_409600.ckpt\n",
      "INFO:tensorflow:Restoring parameters from model_runs/estimation/swap_test/swap_scalar_DAA_const_fN_run2/classifymodel_819200.ckpt\n",
      "INFO:tensorflow:Restoring parameters from model_runs/estimation/swap_test/swap_scalar_DAA_const_fN_run2/classifymodel_1000000.ckpt\n",
      "INFO:tensorflow:Restoring parameters from model_runs/estimation/swap_test/swap_scalar_DAA_const_fN_run2/classifymodel_1228800.ckpt\n",
      "INFO:tensorflow:Restoring parameters from model_runs/estimation/swap_test/swap_scalar_DAA_const_fN_run2/classifymodel_1638400.ckpt\n",
      "INFO:tensorflow:Restoring parameters from model_runs/estimation/swap_test/swap_scalar_DAA_const_fN_run2/classifymodel_2000000.ckpt\n",
      "INFO:tensorflow:Restoring parameters from model_runs/estimation/swap_test/swap_scalar_DAA_const_fN_run2/classifymodel_3000000.ckpt\n",
      "INFO:tensorflow:Restoring parameters from model_runs/estimation/swap_test/swap_scalar_DAA_const_fN_run3/classifymodel_0.ckpt\n",
      "INFO:tensorflow:Restoring parameters from model_runs/estimation/swap_test/swap_scalar_DAA_const_fN_run3/classifymodel_200.ckpt\n",
      "INFO:tensorflow:Restoring parameters from model_runs/estimation/swap_test/swap_scalar_DAA_const_fN_run3/classifymodel_400.ckpt\n",
      "INFO:tensorflow:Restoring parameters from model_runs/estimation/swap_test/swap_scalar_DAA_const_fN_run3/classifymodel_1600.ckpt\n",
      "INFO:tensorflow:Restoring parameters from model_runs/estimation/swap_test/swap_scalar_DAA_const_fN_run3/classifymodel_6400.ckpt\n",
      "INFO:tensorflow:Restoring parameters from model_runs/estimation/swap_test/swap_scalar_DAA_const_fN_run3/classifymodel_25600.ckpt\n",
      "INFO:tensorflow:Restoring parameters from model_runs/estimation/swap_test/swap_scalar_DAA_const_fN_run3/classifymodel_102400.ckpt\n",
      "INFO:tensorflow:Restoring parameters from model_runs/estimation/swap_test/swap_scalar_DAA_const_fN_run3/classifymodel_204800.ckpt\n",
      "INFO:tensorflow:Restoring parameters from model_runs/estimation/swap_test/swap_scalar_DAA_const_fN_run3/classifymodel_409600.ckpt\n",
      "INFO:tensorflow:Restoring parameters from model_runs/estimation/swap_test/swap_scalar_DAA_const_fN_run3/classifymodel_819200.ckpt\n",
      "INFO:tensorflow:Restoring parameters from model_runs/estimation/swap_test/swap_scalar_DAA_const_fN_run3/classifymodel_1000000.ckpt\n",
      "INFO:tensorflow:Restoring parameters from model_runs/estimation/swap_test/swap_scalar_DAA_const_fN_run3/classifymodel_1228800.ckpt\n",
      "INFO:tensorflow:Restoring parameters from model_runs/estimation/swap_test/swap_scalar_DAA_const_fN_run3/classifymodel_1638400.ckpt\n",
      "INFO:tensorflow:Restoring parameters from model_runs/estimation/swap_test/swap_scalar_DAA_const_fN_run3/classifymodel_2000000.ckpt\n",
      "INFO:tensorflow:Restoring parameters from model_runs/estimation/swap_test/swap_scalar_DAA_const_fN_run3/classifymodel_3000000.ckpt\n",
      "INFO:tensorflow:Restoring parameters from model_runs/estimation/swap_test/swap_scalar_DAA_const_fN_run4/classifymodel_0.ckpt\n",
      "INFO:tensorflow:Restoring parameters from model_runs/estimation/swap_test/swap_scalar_DAA_const_fN_run4/classifymodel_200.ckpt\n",
      "INFO:tensorflow:Restoring parameters from model_runs/estimation/swap_test/swap_scalar_DAA_const_fN_run4/classifymodel_400.ckpt\n",
      "INFO:tensorflow:Restoring parameters from model_runs/estimation/swap_test/swap_scalar_DAA_const_fN_run4/classifymodel_1600.ckpt\n",
      "INFO:tensorflow:Restoring parameters from model_runs/estimation/swap_test/swap_scalar_DAA_const_fN_run4/classifymodel_6400.ckpt\n",
      "INFO:tensorflow:Restoring parameters from model_runs/estimation/swap_test/swap_scalar_DAA_const_fN_run4/classifymodel_25600.ckpt\n",
      "INFO:tensorflow:Restoring parameters from model_runs/estimation/swap_test/swap_scalar_DAA_const_fN_run4/classifymodel_102400.ckpt\n",
      "INFO:tensorflow:Restoring parameters from model_runs/estimation/swap_test/swap_scalar_DAA_const_fN_run4/classifymodel_204800.ckpt\n",
      "INFO:tensorflow:Restoring parameters from model_runs/estimation/swap_test/swap_scalar_DAA_const_fN_run4/classifymodel_409600.ckpt\n",
      "INFO:tensorflow:Restoring parameters from model_runs/estimation/swap_test/swap_scalar_DAA_const_fN_run4/classifymodel_819200.ckpt\n",
      "INFO:tensorflow:Restoring parameters from model_runs/estimation/swap_test/swap_scalar_DAA_const_fN_run4/classifymodel_1000000.ckpt\n",
      "INFO:tensorflow:Restoring parameters from model_runs/estimation/swap_test/swap_scalar_DAA_const_fN_run4/classifymodel_1228800.ckpt\n",
      "INFO:tensorflow:Restoring parameters from model_runs/estimation/swap_test/swap_scalar_DAA_const_fN_run4/classifymodel_1638400.ckpt\n",
      "INFO:tensorflow:Restoring parameters from model_runs/estimation/swap_test/swap_scalar_DAA_const_fN_run4/classifymodel_2000000.ckpt\n",
      "INFO:tensorflow:Restoring parameters from model_runs/estimation/swap_test/swap_scalar_DAA_const_fN_run4/classifymodel_3000000.ckpt\n",
      "INFO:tensorflow:Restoring parameters from model_runs/estimation/swap_test/swap_scalar_DAA_const_fN_run5/classifymodel_0.ckpt\n",
      "INFO:tensorflow:Restoring parameters from model_runs/estimation/swap_test/swap_scalar_DAA_const_fN_run5/classifymodel_200.ckpt\n",
      "INFO:tensorflow:Restoring parameters from model_runs/estimation/swap_test/swap_scalar_DAA_const_fN_run5/classifymodel_400.ckpt\n",
      "INFO:tensorflow:Restoring parameters from model_runs/estimation/swap_test/swap_scalar_DAA_const_fN_run5/classifymodel_1600.ckpt\n"
     ]
    },
    {
     "name": "stdout",
     "output_type": "stream",
     "text": [
      "INFO:tensorflow:Restoring parameters from model_runs/estimation/swap_test/swap_scalar_DAA_const_fN_run5/classifymodel_6400.ckpt\n",
      "INFO:tensorflow:Restoring parameters from model_runs/estimation/swap_test/swap_scalar_DAA_const_fN_run5/classifymodel_25600.ckpt\n",
      "INFO:tensorflow:Restoring parameters from model_runs/estimation/swap_test/swap_scalar_DAA_const_fN_run5/classifymodel_102400.ckpt\n",
      "INFO:tensorflow:Restoring parameters from model_runs/estimation/swap_test/swap_scalar_DAA_const_fN_run5/classifymodel_204800.ckpt\n",
      "INFO:tensorflow:Restoring parameters from model_runs/estimation/swap_test/swap_scalar_DAA_const_fN_run5/classifymodel_409600.ckpt\n",
      "INFO:tensorflow:Restoring parameters from model_runs/estimation/swap_test/swap_scalar_DAA_const_fN_run5/classifymodel_819200.ckpt\n",
      "INFO:tensorflow:Restoring parameters from model_runs/estimation/swap_test/swap_scalar_DAA_const_fN_run5/classifymodel_1000000.ckpt\n",
      "INFO:tensorflow:Restoring parameters from model_runs/estimation/swap_test/swap_scalar_DAA_const_fN_run5/classifymodel_1228800.ckpt\n",
      "INFO:tensorflow:Restoring parameters from model_runs/estimation/swap_test/swap_scalar_DAA_const_fN_run5/classifymodel_1638400.ckpt\n",
      "INFO:tensorflow:Restoring parameters from model_runs/estimation/swap_test/swap_scalar_DAA_const_fN_run5/classifymodel_2000000.ckpt\n",
      "INFO:tensorflow:Restoring parameters from model_runs/estimation/swap_test/swap_scalar_DAA_const_fN_run5/classifymodel_3000000.ckpt\n",
      "INFO:tensorflow:Restoring parameters from model_runs/estimation/swap_test/swap_scalar_DAA_const_fN_run6/classifymodel_0.ckpt\n",
      "INFO:tensorflow:Restoring parameters from model_runs/estimation/swap_test/swap_scalar_DAA_const_fN_run6/classifymodel_200.ckpt\n",
      "INFO:tensorflow:Restoring parameters from model_runs/estimation/swap_test/swap_scalar_DAA_const_fN_run6/classifymodel_400.ckpt\n",
      "INFO:tensorflow:Restoring parameters from model_runs/estimation/swap_test/swap_scalar_DAA_const_fN_run6/classifymodel_1600.ckpt\n",
      "INFO:tensorflow:Restoring parameters from model_runs/estimation/swap_test/swap_scalar_DAA_const_fN_run6/classifymodel_6400.ckpt\n",
      "INFO:tensorflow:Restoring parameters from model_runs/estimation/swap_test/swap_scalar_DAA_const_fN_run6/classifymodel_25600.ckpt\n",
      "INFO:tensorflow:Restoring parameters from model_runs/estimation/swap_test/swap_scalar_DAA_const_fN_run6/classifymodel_102400.ckpt\n",
      "INFO:tensorflow:Restoring parameters from model_runs/estimation/swap_test/swap_scalar_DAA_const_fN_run6/classifymodel_204800.ckpt\n",
      "INFO:tensorflow:Restoring parameters from model_runs/estimation/swap_test/swap_scalar_DAA_const_fN_run6/classifymodel_409600.ckpt\n",
      "INFO:tensorflow:Restoring parameters from model_runs/estimation/swap_test/swap_scalar_DAA_const_fN_run6/classifymodel_819200.ckpt\n",
      "INFO:tensorflow:Restoring parameters from model_runs/estimation/swap_test/swap_scalar_DAA_const_fN_run6/classifymodel_1000000.ckpt\n",
      "INFO:tensorflow:Restoring parameters from model_runs/estimation/swap_test/swap_scalar_DAA_const_fN_run6/classifymodel_1228800.ckpt\n",
      "INFO:tensorflow:Restoring parameters from model_runs/estimation/swap_test/swap_scalar_DAA_const_fN_run6/classifymodel_1638400.ckpt\n",
      "INFO:tensorflow:Restoring parameters from model_runs/estimation/swap_test/swap_scalar_DAA_const_fN_run6/classifymodel_2000000.ckpt\n",
      "INFO:tensorflow:Restoring parameters from model_runs/estimation/swap_test/swap_scalar_DAA_const_fN_run6/classifymodel_3000000.ckpt\n",
      "INFO:tensorflow:Restoring parameters from model_runs/estimation/swap_test/swap_scalar_DAA_const_fN_run7/classifymodel_0.ckpt\n",
      "INFO:tensorflow:Restoring parameters from model_runs/estimation/swap_test/swap_scalar_DAA_const_fN_run7/classifymodel_200.ckpt\n",
      "INFO:tensorflow:Restoring parameters from model_runs/estimation/swap_test/swap_scalar_DAA_const_fN_run7/classifymodel_400.ckpt\n",
      "INFO:tensorflow:Restoring parameters from model_runs/estimation/swap_test/swap_scalar_DAA_const_fN_run7/classifymodel_1600.ckpt\n",
      "INFO:tensorflow:Restoring parameters from model_runs/estimation/swap_test/swap_scalar_DAA_const_fN_run7/classifymodel_6400.ckpt\n",
      "INFO:tensorflow:Restoring parameters from model_runs/estimation/swap_test/swap_scalar_DAA_const_fN_run7/classifymodel_25600.ckpt\n",
      "INFO:tensorflow:Restoring parameters from model_runs/estimation/swap_test/swap_scalar_DAA_const_fN_run7/classifymodel_102400.ckpt\n",
      "INFO:tensorflow:Restoring parameters from model_runs/estimation/swap_test/swap_scalar_DAA_const_fN_run7/classifymodel_204800.ckpt\n",
      "INFO:tensorflow:Restoring parameters from model_runs/estimation/swap_test/swap_scalar_DAA_const_fN_run7/classifymodel_409600.ckpt\n",
      "INFO:tensorflow:Restoring parameters from model_runs/estimation/swap_test/swap_scalar_DAA_const_fN_run7/classifymodel_819200.ckpt\n",
      "INFO:tensorflow:Restoring parameters from model_runs/estimation/swap_test/swap_scalar_DAA_const_fN_run7/classifymodel_1000000.ckpt\n",
      "INFO:tensorflow:Restoring parameters from model_runs/estimation/swap_test/swap_scalar_DAA_const_fN_run7/classifymodel_1228800.ckpt\n",
      "INFO:tensorflow:Restoring parameters from model_runs/estimation/swap_test/swap_scalar_DAA_const_fN_run7/classifymodel_1638400.ckpt\n",
      "INFO:tensorflow:Restoring parameters from model_runs/estimation/swap_test/swap_scalar_DAA_const_fN_run7/classifymodel_2000000.ckpt\n",
      "INFO:tensorflow:Restoring parameters from model_runs/estimation/swap_test/swap_scalar_DAA_const_fN_run7/classifymodel_3000000.ckpt\n",
      "INFO:tensorflow:Restoring parameters from model_runs/estimation/swap_test/swap_scalar_DAA_const_fN_run8/classifymodel_0.ckpt\n",
      "INFO:tensorflow:Restoring parameters from model_runs/estimation/swap_test/swap_scalar_DAA_const_fN_run8/classifymodel_200.ckpt\n",
      "INFO:tensorflow:Restoring parameters from model_runs/estimation/swap_test/swap_scalar_DAA_const_fN_run8/classifymodel_400.ckpt\n",
      "INFO:tensorflow:Restoring parameters from model_runs/estimation/swap_test/swap_scalar_DAA_const_fN_run8/classifymodel_1600.ckpt\n",
      "INFO:tensorflow:Restoring parameters from model_runs/estimation/swap_test/swap_scalar_DAA_const_fN_run8/classifymodel_6400.ckpt\n",
      "INFO:tensorflow:Restoring parameters from model_runs/estimation/swap_test/swap_scalar_DAA_const_fN_run8/classifymodel_25600.ckpt\n",
      "INFO:tensorflow:Restoring parameters from model_runs/estimation/swap_test/swap_scalar_DAA_const_fN_run8/classifymodel_102400.ckpt\n",
      "INFO:tensorflow:Restoring parameters from model_runs/estimation/swap_test/swap_scalar_DAA_const_fN_run8/classifymodel_204800.ckpt\n",
      "INFO:tensorflow:Restoring parameters from model_runs/estimation/swap_test/swap_scalar_DAA_const_fN_run8/classifymodel_409600.ckpt\n",
      "INFO:tensorflow:Restoring parameters from model_runs/estimation/swap_test/swap_scalar_DAA_const_fN_run8/classifymodel_819200.ckpt\n",
      "INFO:tensorflow:Restoring parameters from model_runs/estimation/swap_test/swap_scalar_DAA_const_fN_run8/classifymodel_1000000.ckpt\n",
      "INFO:tensorflow:Restoring parameters from model_runs/estimation/swap_test/swap_scalar_DAA_const_fN_run8/classifymodel_1228800.ckpt\n",
      "INFO:tensorflow:Restoring parameters from model_runs/estimation/swap_test/swap_scalar_DAA_const_fN_run8/classifymodel_1638400.ckpt\n",
      "INFO:tensorflow:Restoring parameters from model_runs/estimation/swap_test/swap_scalar_DAA_const_fN_run8/classifymodel_2000000.ckpt\n",
      "INFO:tensorflow:Restoring parameters from model_runs/estimation/swap_test/swap_scalar_DAA_const_fN_run8/classifymodel_3000000.ckpt\n",
      "INFO:tensorflow:Restoring parameters from model_runs/estimation/swap_test/swap_scalar_DAA_const_fN_run9/classifymodel_0.ckpt\n",
      "INFO:tensorflow:Restoring parameters from model_runs/estimation/swap_test/swap_scalar_DAA_const_fN_run9/classifymodel_200.ckpt\n",
      "INFO:tensorflow:Restoring parameters from model_runs/estimation/swap_test/swap_scalar_DAA_const_fN_run9/classifymodel_400.ckpt\n",
      "INFO:tensorflow:Restoring parameters from model_runs/estimation/swap_test/swap_scalar_DAA_const_fN_run9/classifymodel_1600.ckpt\n",
      "INFO:tensorflow:Restoring parameters from model_runs/estimation/swap_test/swap_scalar_DAA_const_fN_run9/classifymodel_6400.ckpt\n",
      "INFO:tensorflow:Restoring parameters from model_runs/estimation/swap_test/swap_scalar_DAA_const_fN_run9/classifymodel_25600.ckpt\n",
      "INFO:tensorflow:Restoring parameters from model_runs/estimation/swap_test/swap_scalar_DAA_const_fN_run9/classifymodel_102400.ckpt\n",
      "INFO:tensorflow:Restoring parameters from model_runs/estimation/swap_test/swap_scalar_DAA_const_fN_run9/classifymodel_204800.ckpt\n"
     ]
    },
    {
     "name": "stdout",
     "output_type": "stream",
     "text": [
      "INFO:tensorflow:Restoring parameters from model_runs/estimation/swap_test/swap_scalar_DAA_const_fN_run9/classifymodel_409600.ckpt\n",
      "INFO:tensorflow:Restoring parameters from model_runs/estimation/swap_test/swap_scalar_DAA_const_fN_run9/classifymodel_819200.ckpt\n",
      "INFO:tensorflow:Restoring parameters from model_runs/estimation/swap_test/swap_scalar_DAA_const_fN_run9/classifymodel_1000000.ckpt\n",
      "INFO:tensorflow:Restoring parameters from model_runs/estimation/swap_test/swap_scalar_DAA_const_fN_run9/classifymodel_1228800.ckpt\n",
      "INFO:tensorflow:Restoring parameters from model_runs/estimation/swap_test/swap_scalar_DAA_const_fN_run9/classifymodel_1638400.ckpt\n",
      "INFO:tensorflow:Restoring parameters from model_runs/estimation/swap_test/swap_scalar_DAA_const_fN_run9/classifymodel_2000000.ckpt\n",
      "INFO:tensorflow:Restoring parameters from model_runs/estimation/swap_test/swap_scalar_DAA_const_fN_run9/classifymodel_3000000.ckpt\n",
      "INFO:tensorflow:Restoring parameters from model_runs/estimation/swap_test/swap_scalar_DAA_const_fN_run10/classifymodel_0.ckpt\n",
      "INFO:tensorflow:Restoring parameters from model_runs/estimation/swap_test/swap_scalar_DAA_const_fN_run10/classifymodel_200.ckpt\n",
      "INFO:tensorflow:Restoring parameters from model_runs/estimation/swap_test/swap_scalar_DAA_const_fN_run10/classifymodel_400.ckpt\n",
      "INFO:tensorflow:Restoring parameters from model_runs/estimation/swap_test/swap_scalar_DAA_const_fN_run10/classifymodel_1600.ckpt\n",
      "INFO:tensorflow:Restoring parameters from model_runs/estimation/swap_test/swap_scalar_DAA_const_fN_run10/classifymodel_6400.ckpt\n",
      "INFO:tensorflow:Restoring parameters from model_runs/estimation/swap_test/swap_scalar_DAA_const_fN_run10/classifymodel_25600.ckpt\n",
      "INFO:tensorflow:Restoring parameters from model_runs/estimation/swap_test/swap_scalar_DAA_const_fN_run10/classifymodel_102400.ckpt\n",
      "INFO:tensorflow:Restoring parameters from model_runs/estimation/swap_test/swap_scalar_DAA_const_fN_run10/classifymodel_204800.ckpt\n",
      "INFO:tensorflow:Restoring parameters from model_runs/estimation/swap_test/swap_scalar_DAA_const_fN_run10/classifymodel_409600.ckpt\n",
      "INFO:tensorflow:Restoring parameters from model_runs/estimation/swap_test/swap_scalar_DAA_const_fN_run10/classifymodel_819200.ckpt\n",
      "INFO:tensorflow:Restoring parameters from model_runs/estimation/swap_test/swap_scalar_DAA_const_fN_run10/classifymodel_1000000.ckpt\n",
      "INFO:tensorflow:Restoring parameters from model_runs/estimation/swap_test/swap_scalar_DAA_const_fN_run10/classifymodel_1228800.ckpt\n",
      "INFO:tensorflow:Restoring parameters from model_runs/estimation/swap_test/swap_scalar_DAA_const_fN_run10/classifymodel_1638400.ckpt\n",
      "INFO:tensorflow:Restoring parameters from model_runs/estimation/swap_test/swap_scalar_DAA_const_fN_run10/classifymodel_2000000.ckpt\n",
      "INFO:tensorflow:Restoring parameters from model_runs/estimation/swap_test/swap_scalar_DAA_const_fN_run10/classifymodel_3000000.ckpt\n"
     ]
    }
   ],
   "source": [
    "unrounded_values_all_runs = []\n",
    "rounded_values_all_runs = []\n",
    "\n",
    "for run in range(num_runs):\n",
    "    path = 'model_runs/' + model_name + '_run' + str(run + 1) # '/run_' if all the runs are stored in one folder\n",
    "    unrounded_values_all_iters = []\n",
    "    rounded_values_all_iters = []\n",
    "    for i, iteration in enumerate(iter_list):\n",
    "        uvals, rvals = get_classifications_one_run(run, path, iteration)\n",
    "        unrounded_values_all_iters.append(uvals)\n",
    "        rounded_values_all_iters.append(rvals)\n",
    "    unrounded_values_all_runs.append(unrounded_values_all_iters)\n",
    "    rounded_values_all_runs.append(rounded_values_all_iters)\n",
    "    \n",
    "with open(data_directory + 'unrounded_values_all_runs', 'wb') as fp:\n",
    "    pickle.dump(unrounded_values_all_runs, fp)\n",
    "    \n",
    "with open(data_directory + 'rounded_values_all_runs', 'wb') as fp:\n",
    "    pickle.dump(rounded_values_all_runs, fp) "
   ]
  },
  {
   "cell_type": "code",
   "execution_count": 9,
   "metadata": {},
   "outputs": [],
   "source": [
    "def get_msdcv(classifications_list):\n",
    "    \"\"\"Get the mean, standard deviation, and coefficient of variation matrices from classifications list.\"\"\"\n",
    "    \n",
    "    msdcv = np.zeros([num_iters, output_size, 3])    \n",
    "    values = [{nb: [] for nb in range(1, output_size+1)} for i in range(num_iters)] # iter x nb x value\n",
    "    for run in range(num_runs):\n",
    "        for i in range(num_iters):\n",
    "            for t in range(output_size):\n",
    "                nb = t + 1\n",
    "                if nb in classifications_list[run][i]:\n",
    "                    values[i][nb] += classifications_list[run][i][nb]\n",
    "    for i in range(num_iters):\n",
    "        for t in range(output_size):\n",
    "            nb = t + 1\n",
    "            vals = values[i][nb]\n",
    "            msdcv[i, t, 0] = mu = np.mean(vals)\n",
    "            msdcv[i, t, 1] = sigma = np.std(vals)\n",
    "            msdcv[i, t, 2] = cv = sigma / mu\n",
    "    return msdcv"
   ]
  },
  {
   "cell_type": "code",
   "execution_count": 10,
   "metadata": {},
   "outputs": [],
   "source": [
    "unrounded_msdcv = get_msdcv(unrounded_values_all_runs)\n",
    "rounded_msdcv = get_msdcv(rounded_values_all_runs)"
   ]
  },
  {
   "cell_type": "code",
   "execution_count": 11,
   "metadata": {},
   "outputs": [],
   "source": [
    "np.save(data_directory + \"unrounded_msdcv\", unrounded_msdcv)\n",
    "np.save(data_directory + \"rounded_msdcv\", rounded_msdcv)"
   ]
  },
  {
   "cell_type": "markdown",
   "metadata": {},
   "source": [
    "## Visualize Mean, Standard Deviation, and Coefficient of Variation"
   ]
  },
  {
   "cell_type": "markdown",
   "metadata": {},
   "source": [
    "Run 20200202_Plot_MSDCV_scalar.ipynb to get plots. Below is an example plot."
   ]
  },
  {
   "cell_type": "code",
   "execution_count": 16,
   "metadata": {},
   "outputs": [
    {
     "ename": "FileNotFoundError",
     "evalue": "[Errno 2] No such file or directory: 'Results/20200709_msdcv_3000000_scalar/unrounded/po_ind/estimation/swap_test/swap_scalar_DAA_const_fN.png'",
     "output_type": "error",
     "traceback": [
      "\u001b[0;31m---------------------------------------------------------------------------\u001b[0m",
      "\u001b[0;31mFileNotFoundError\u001b[0m                         Traceback (most recent call last)",
      "\u001b[0;32m<ipython-input-16-9155ceb7bfcb>\u001b[0m in \u001b[0;36m<module>\u001b[0;34m\u001b[0m\n\u001b[1;32m     52\u001b[0m \u001b[0;32mif\u001b[0m \u001b[0;32mnot\u001b[0m \u001b[0mos\u001b[0m\u001b[0;34m.\u001b[0m\u001b[0mpath\u001b[0m\u001b[0;34m.\u001b[0m\u001b[0mexists\u001b[0m\u001b[0;34m(\u001b[0m\u001b[0mresults_dir\u001b[0m\u001b[0;34m)\u001b[0m\u001b[0;34m:\u001b[0m\u001b[0;34m\u001b[0m\u001b[0m\n\u001b[1;32m     53\u001b[0m     \u001b[0mos\u001b[0m\u001b[0;34m.\u001b[0m\u001b[0mmakedirs\u001b[0m\u001b[0;34m(\u001b[0m\u001b[0mresults_dir\u001b[0m\u001b[0;34m)\u001b[0m\u001b[0;34m\u001b[0m\u001b[0m\n\u001b[0;32m---> 54\u001b[0;31m \u001b[0mplt\u001b[0m\u001b[0;34m.\u001b[0m\u001b[0msavefig\u001b[0m\u001b[0;34m(\u001b[0m\u001b[0mresults_dir\u001b[0m \u001b[0;34m+\u001b[0m \u001b[0mmodel_name\u001b[0m \u001b[0;34m+\u001b[0m \u001b[0;34m'.png'\u001b[0m\u001b[0;34m)\u001b[0m\u001b[0;34m\u001b[0m\u001b[0m\n\u001b[0m\u001b[1;32m     55\u001b[0m \u001b[0mplt\u001b[0m\u001b[0;34m.\u001b[0m\u001b[0mshow\u001b[0m\u001b[0;34m(\u001b[0m\u001b[0;34m)\u001b[0m\u001b[0;34m\u001b[0m\u001b[0m\n",
      "\u001b[0;32m/usr/local/lib/python3.5/dist-packages/matplotlib/pyplot.py\u001b[0m in \u001b[0;36msavefig\u001b[0;34m(*args, **kwargs)\u001b[0m\n\u001b[1;32m    695\u001b[0m \u001b[0;32mdef\u001b[0m \u001b[0msavefig\u001b[0m\u001b[0;34m(\u001b[0m\u001b[0;34m*\u001b[0m\u001b[0margs\u001b[0m\u001b[0;34m,\u001b[0m \u001b[0;34m**\u001b[0m\u001b[0mkwargs\u001b[0m\u001b[0;34m)\u001b[0m\u001b[0;34m:\u001b[0m\u001b[0;34m\u001b[0m\u001b[0m\n\u001b[1;32m    696\u001b[0m     \u001b[0mfig\u001b[0m \u001b[0;34m=\u001b[0m \u001b[0mgcf\u001b[0m\u001b[0;34m(\u001b[0m\u001b[0;34m)\u001b[0m\u001b[0;34m\u001b[0m\u001b[0m\n\u001b[0;32m--> 697\u001b[0;31m     \u001b[0mres\u001b[0m \u001b[0;34m=\u001b[0m \u001b[0mfig\u001b[0m\u001b[0;34m.\u001b[0m\u001b[0msavefig\u001b[0m\u001b[0;34m(\u001b[0m\u001b[0;34m*\u001b[0m\u001b[0margs\u001b[0m\u001b[0;34m,\u001b[0m \u001b[0;34m**\u001b[0m\u001b[0mkwargs\u001b[0m\u001b[0;34m)\u001b[0m\u001b[0;34m\u001b[0m\u001b[0m\n\u001b[0m\u001b[1;32m    698\u001b[0m     \u001b[0mfig\u001b[0m\u001b[0;34m.\u001b[0m\u001b[0mcanvas\u001b[0m\u001b[0;34m.\u001b[0m\u001b[0mdraw_idle\u001b[0m\u001b[0;34m(\u001b[0m\u001b[0;34m)\u001b[0m   \u001b[0;31m# need this if 'transparent=True' to reset colors\u001b[0m\u001b[0;34m\u001b[0m\u001b[0m\n\u001b[1;32m    699\u001b[0m     \u001b[0;32mreturn\u001b[0m \u001b[0mres\u001b[0m\u001b[0;34m\u001b[0m\u001b[0m\n",
      "\u001b[0;32m/usr/local/lib/python3.5/dist-packages/matplotlib/figure.py\u001b[0m in \u001b[0;36msavefig\u001b[0;34m(self, *args, **kwargs)\u001b[0m\n\u001b[1;32m   1571\u001b[0m             \u001b[0mself\u001b[0m\u001b[0;34m.\u001b[0m\u001b[0mset_frameon\u001b[0m\u001b[0;34m(\u001b[0m\u001b[0mframeon\u001b[0m\u001b[0;34m)\u001b[0m\u001b[0;34m\u001b[0m\u001b[0m\n\u001b[1;32m   1572\u001b[0m \u001b[0;34m\u001b[0m\u001b[0m\n\u001b[0;32m-> 1573\u001b[0;31m         \u001b[0mself\u001b[0m\u001b[0;34m.\u001b[0m\u001b[0mcanvas\u001b[0m\u001b[0;34m.\u001b[0m\u001b[0mprint_figure\u001b[0m\u001b[0;34m(\u001b[0m\u001b[0;34m*\u001b[0m\u001b[0margs\u001b[0m\u001b[0;34m,\u001b[0m \u001b[0;34m**\u001b[0m\u001b[0mkwargs\u001b[0m\u001b[0;34m)\u001b[0m\u001b[0;34m\u001b[0m\u001b[0m\n\u001b[0m\u001b[1;32m   1574\u001b[0m \u001b[0;34m\u001b[0m\u001b[0m\n\u001b[1;32m   1575\u001b[0m         \u001b[0;32mif\u001b[0m \u001b[0mframeon\u001b[0m\u001b[0;34m:\u001b[0m\u001b[0;34m\u001b[0m\u001b[0m\n",
      "\u001b[0;32m/usr/local/lib/python3.5/dist-packages/matplotlib/backend_bases.py\u001b[0m in \u001b[0;36mprint_figure\u001b[0;34m(self, filename, dpi, facecolor, edgecolor, orientation, format, **kwargs)\u001b[0m\n\u001b[1;32m   2250\u001b[0m                 \u001b[0morientation\u001b[0m\u001b[0;34m=\u001b[0m\u001b[0morientation\u001b[0m\u001b[0;34m,\u001b[0m\u001b[0;34m\u001b[0m\u001b[0m\n\u001b[1;32m   2251\u001b[0m                 \u001b[0mbbox_inches_restore\u001b[0m\u001b[0;34m=\u001b[0m\u001b[0m_bbox_inches_restore\u001b[0m\u001b[0;34m,\u001b[0m\u001b[0;34m\u001b[0m\u001b[0m\n\u001b[0;32m-> 2252\u001b[0;31m                 **kwargs)\n\u001b[0m\u001b[1;32m   2253\u001b[0m         \u001b[0;32mfinally\u001b[0m\u001b[0;34m:\u001b[0m\u001b[0;34m\u001b[0m\u001b[0m\n\u001b[1;32m   2254\u001b[0m             \u001b[0;32mif\u001b[0m \u001b[0mbbox_inches\u001b[0m \u001b[0;32mand\u001b[0m \u001b[0mrestore_bbox\u001b[0m\u001b[0;34m:\u001b[0m\u001b[0;34m\u001b[0m\u001b[0m\n",
      "\u001b[0;32m/usr/local/lib/python3.5/dist-packages/matplotlib/backends/backend_agg.py\u001b[0m in \u001b[0;36mprint_png\u001b[0;34m(self, filename_or_obj, *args, **kwargs)\u001b[0m\n\u001b[1;32m    548\u001b[0m         \u001b[0mrenderer\u001b[0m\u001b[0;34m.\u001b[0m\u001b[0mdpi\u001b[0m \u001b[0;34m=\u001b[0m \u001b[0mself\u001b[0m\u001b[0;34m.\u001b[0m\u001b[0mfigure\u001b[0m\u001b[0;34m.\u001b[0m\u001b[0mdpi\u001b[0m\u001b[0;34m\u001b[0m\u001b[0m\n\u001b[1;32m    549\u001b[0m         \u001b[0;32mif\u001b[0m \u001b[0mis_string_like\u001b[0m\u001b[0;34m(\u001b[0m\u001b[0mfilename_or_obj\u001b[0m\u001b[0;34m)\u001b[0m\u001b[0;34m:\u001b[0m\u001b[0;34m\u001b[0m\u001b[0m\n\u001b[0;32m--> 550\u001b[0;31m             \u001b[0mfilename_or_obj\u001b[0m \u001b[0;34m=\u001b[0m \u001b[0mopen\u001b[0m\u001b[0;34m(\u001b[0m\u001b[0mfilename_or_obj\u001b[0m\u001b[0;34m,\u001b[0m \u001b[0;34m'wb'\u001b[0m\u001b[0;34m)\u001b[0m\u001b[0;34m\u001b[0m\u001b[0m\n\u001b[0m\u001b[1;32m    551\u001b[0m             \u001b[0mclose\u001b[0m \u001b[0;34m=\u001b[0m \u001b[0;32mTrue\u001b[0m\u001b[0;34m\u001b[0m\u001b[0m\n\u001b[1;32m    552\u001b[0m         \u001b[0;32melse\u001b[0m\u001b[0;34m:\u001b[0m\u001b[0;34m\u001b[0m\u001b[0m\n",
      "\u001b[0;31mFileNotFoundError\u001b[0m: [Errno 2] No such file or directory: 'Results/20200709_msdcv_3000000_scalar/unrounded/po_ind/estimation/swap_test/swap_scalar_DAA_const_fN.png'"
     ]
    },
    {
     "data": {
      "image/png": "[encoded data removed]",
      "text/plain": [
       "<matplotlib.figure.Figure at 0x7f70977fe240>"
      ]
     },
     "metadata": {
      "needs_background": "dark"
     },
     "output_type": "display_data"
    }
   ],
   "source": [
    "all_iters = [0, 200, 400, 1600, 6400, 6400, 102400, 204800, 409600, 819200, 1000000, 1228800, 1638400, 2000000, 3000000]#, 4000000, 5000000, 6000000]\n",
    "iters = [3000000]\n",
    "iter_indices = [i for i, iteration in enumerate(all_iters) if iteration in iters]\n",
    "max_blobs = 9\n",
    "min_blobs = 1\n",
    "fig, ax = plt.subplots(nrows=1, ncols=3, figsize=(3.7*3, 3.6))\n",
    "from matplotlib.ticker import MaxNLocator\n",
    "plt.xticks(np.arange(min_blobs, max_blobs+1, step=1))\n",
    "ax[0].xaxis.set_major_locator(MaxNLocator(integer=True))\n",
    "ax[1].xaxis.set_major_locator(MaxNLocator(integer=True))\n",
    "ax[2].xaxis.set_major_locator(MaxNLocator(integer=True))\n",
    "numerosity = np.arange(min_blobs, max_blobs+1)\n",
    "\n",
    "ax[0].set_title(\"Mean\")\n",
    "ax[0].set_xlabel(\"Stimulus Numerosity\")\n",
    "ax[0].set_ylabel(\"Numerosity Estimate\")\n",
    "ax[0].set_yticks(np.arange(min_blobs, max_blobs+1, step=1))\n",
    "ax[0].set_xticks(np.arange(min_blobs, max_blobs+1, step=1))\n",
    "ax[0].set_prop_cycle('color',plt.cm.Spectral([val for val in np.linspace(0,1,len(iter_indices)) for _ in (0,1)]))\n",
    "\n",
    "ax[1].set_title(\"Standard Deviation\")\n",
    "ax[1].set_xlabel(\"Stimulus Numerosity\")\n",
    "ax[1].set_xticks(np.arange(min_blobs, max_blobs+1, step=1))\n",
    "ax[1].set_prop_cycle('color',plt.cm.Spectral([val for val in np.linspace(0,1,len(iter_indices)) for _ in (0,1)]))\n",
    "\n",
    "ax[2].set_title(\"Coefficient of Variation\")\n",
    "ax[2].set_xlabel(\"Stimulus Numerosity\")\n",
    "# ax[2].set_yticks(np.arange(0, 1, step=0.02))\n",
    "ax[2].set_xticks(np.arange(min_blobs, max_blobs+1, step=1))\n",
    "ax[2].set_prop_cycle('color',plt.cm.Spectral([val for val in np.linspace(0,1,len(iter_indices)) for _ in (0,1)]))\n",
    "\n",
    "for i in iter_indices:\n",
    "    mean = unrounded_msdcv[i,min_blobs-1:max_blobs,0]\n",
    "    sd = unrounded_msdcv[i,min_blobs-1:max_blobs+1,1]\n",
    "    cv = unrounded_msdcv[i,min_blobs-1:max_blobs+1,2]\n",
    "\n",
    "    # Plot Mean.\n",
    "    ax[0].plot(numerosity, mean, label='N')\n",
    "    \n",
    "    # Plot SD.\n",
    "    ax[1].plot(numerosity, sd, label='N')\n",
    "    \n",
    "    # Plot CV.\n",
    "    ax[2].plot(numerosity, cv, label='N')\n",
    "\n",
    "# legend = ax[i, 1].legend()\n",
    "fig.tight_layout()\n",
    "fig.suptitle(\"Final Performance: %s\" % model_figure_title)\n",
    "plt.tight_layout(rect=[0, 0, 1, 0.95])\n",
    "from pathlib import Path\n",
    "import os\n",
    "if not os.path.exists(results_dir):\n",
    "    os.makedirs(results_dir)\n",
    "plt.savefig(results_dir + model_name + '.png')\n",
    "plt.show()"
   ]
  },
  {
   "cell_type": "code",
   "execution_count": null,
   "metadata": {},
   "outputs": [],
   "source": [
    "unrounded_msdcv.shape"
   ]
  },
  {
   "cell_type": "code",
   "execution_count": null,
   "metadata": {},
   "outputs": [],
   "source": []
  }
 ],
 "metadata": {
  "kernelspec": {
   "display_name": "Python 3",
   "language": "python",
   "name": "python3"
  },
  "language_info": {
   "codemirror_mode": {
    "name": "ipython",
    "version": 3
   },
   "file_extension": ".py",
   "mimetype": "text/x-python",
   "name": "python",
   "nbconvert_exporter": "python",
   "pygments_lexer": "ipython3",
   "version": "3.5.2"
  }
 },
 "nbformat": 4,
 "nbformat_minor": 2
}
