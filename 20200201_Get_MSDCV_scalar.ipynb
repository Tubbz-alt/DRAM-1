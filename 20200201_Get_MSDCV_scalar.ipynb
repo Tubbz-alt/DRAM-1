{
 "cells": [
  {
   "cell_type": "markdown",
   "metadata": {},
   "source": [
    "# Confidence and Choice (FF_estimation_scalar) Visualizer"
   ]
  },
  {
   "cell_type": "markdown",
   "metadata": {},
   "source": [
    "Confidence is based on actual scalar outputs, choice is based on scalar outputs rounded to the nearest integer."
   ]
  },
  {
   "cell_type": "code",
   "execution_count": 1,
   "metadata": {
    "scrolled": true
   },
   "outputs": [
    {
     "data": {
      "text/html": [
       "        <script type=\"text/javascript\">\n",
       "        window.PlotlyConfig = {MathJaxConfig: 'local'};\n",
       "        if (window.MathJax) {MathJax.Hub.Config({SVG: {font: \"STIX-Web\"}});}\n",
       "        if (typeof require !== 'undefined') {\n",
       "        require.undef(\"plotly\");\n",
       "        requirejs.config({\n",
       "            paths: {\n",
       "                'plotly': ['https://cdn.plot.ly/plotly-latest.min']\n",
       "            }\n",
       "        });\n",
       "        require(['plotly'], function(Plotly) {\n",
       "            window._Plotly = Plotly;\n",
       "        });\n",
       "        }\n",
       "        </script>\n",
       "        "
      ]
     },
     "metadata": {},
     "output_type": "display_data"
    },
    {
     "name": "stdout",
     "output_type": "stream",
     "text": [
      "['/usr/local/lib/python3.5/dist-packages/ipykernel_launcher.py', '-f', 'true', 'true', 'true', 'true', 'true', 'model_runs/-f/classify_log.csv', 'model_runs/-f/classifymodel_0.ckpt', 'model_runs/-f/classifymodel_', 'model_runs/-f/zzzdraw_data_5000.npy', 'false', 'true', 'false', 'false', 'true']\n",
      "WARNING:tensorflow:From /home/sychen23/DRAM/FF_estimation_scalar.py:107: calling reduce_sum (from tensorflow.python.ops.math_ops) with keep_dims is deprecated and will be removed in a future version.\n",
      "Instructions for updating:\n",
      "keep_dims is deprecated, use keepdims instead\n",
      "WARNING:tensorflow:From /home/sychen23/DRAM/FF_estimation_scalar.py:163: calling reduce_max (from tensorflow.python.ops.math_ops) with keep_dims is deprecated and will be removed in a future version.\n",
      "Instructions for updating:\n",
      "keep_dims is deprecated, use keepdims instead\n",
      "100\n",
      "numerosity: 1\n",
      "numerosity: 2\n",
      "numerosity: 3\n",
      "numerosity: 4\n",
      "numerosity: 5\n",
      "numerosity: 6\n",
      "numerosity: 7\n",
      "numerosity: 8\n",
      "numerosity: 9\n",
      "numerosity: 10\n",
      "numerosity: 11\n",
      "numerosity: 12\n",
      "numerosity: 13\n",
      "numerosity: 14\n",
      "numerosity: 15\n",
      "analysis_estimation_nds.py\n"
     ]
    }
   ],
   "source": [
    "import numpy as np\n",
    "from plotly.offline import download_plotlyjs, init_notebook_mode, plot, iplot\n",
    "init_notebook_mode(connected=True)\n",
    "import plotly.graph_objs as go\n",
    "from analysis_estimation_nds import classify_imgs_scalar\n",
    "import pickle\n",
    "import matplotlib.pyplot as plt\n",
    "%matplotlib inline"
   ]
  },
  {
   "cell_type": "code",
   "execution_count": 2,
   "metadata": {
    "collapsed": true
   },
   "outputs": [],
   "source": [
    "model_name = \"New_CAA_const_fN_scalar\"\n",
    "num_runs = 10\n",
    "iter_list = [0, 200, 400, 1600, 6400, 25600, 102400, 204800, 409600, 819200, 1000000, 1228800, 1638400, 2000000, 3000000]#, 4000000, 5000000, 6000000]\n",
    "max_blobs = 15\n",
    "min_blobs = 1\n",
    "\n",
    "num_iters = len(iter_list)\n",
    "output_size = max_blobs - min_blobs + 1#15\n",
    "test_conditions = \"variable_position_only\"\n",
    "data_directory = \"data/\" + model_name + \"/\" + test_conditions + \"/\"\n",
    "m = 0.5\n",
    "\n",
    "confidence_all_runs = np.zeros([num_runs, num_iters, output_size, output_size]) \n",
    "choice_all_runs = np.zeros([num_runs, num_iters, output_size, output_size]) \n",
    "num_iters\n",
    "\n",
    "\n",
    "import os\n",
    "if not os.path.exists(data_directory):\n",
    "    os.makedirs(data_directory)"
   ]
  },
  {
   "cell_type": "code",
   "execution_count": 3,
   "metadata": {},
   "outputs": [
    {
     "name": "stdout",
     "output_type": "stream",
     "text": [
      "beta1_power (DT_FLOAT) []\n",
      "beta2_power (DT_FLOAT) []\n",
      "hidden/b (DT_FLOAT) [250]\n",
      "hidden/b/Adam (DT_FLOAT) [250]\n",
      "hidden/b/Adam_1 (DT_FLOAT) [250]\n",
      "hidden/w (DT_FLOAT) [225,250]\n",
      "hidden/w/Adam (DT_FLOAT) [225,250]\n",
      "hidden/w/Adam_1 (DT_FLOAT) [225,250]\n",
      "output/b (DT_FLOAT) [1]\n",
      "output/b/Adam (DT_FLOAT) [1]\n",
      "output/b/Adam_1 (DT_FLOAT) [1]\n",
      "output/w (DT_FLOAT) [250,1]\n",
      "output/w/Adam (DT_FLOAT) [250,1]\n",
      "output/w/Adam_1 (DT_FLOAT) [250,1]\n",
      "\n"
     ]
    }
   ],
   "source": [
    "from tensorflow.python.tools.inspect_checkpoint import print_tensors_in_checkpoint_file\n",
    "import os\n",
    "path = 'model_runs/' + model_name + str(1)\n",
    "it = 0\n",
    "checkpoint_path = \"%s/classifymodel_%d.ckpt\" % (path, it)\n",
    "\n",
    "# List ALL tensors example output: v0/Adam (DT_FLOAT) [3,3,1,80]\n",
    "print_tensors_in_checkpoint_file(file_name=checkpoint_path, tensor_name='', all_tensors=False, all_tensor_names=False)\n",
    "\n",
    "# List contents of v0 tensor.\n",
    "# Example output: tensor_name:  v0 [[[[  9.27958265e-02   7.40226209e-02   4.52989563e-02   3.15700471e-02\n",
    "# print_tensors_in_checkpoint_file(file_name=checkpoint_path, tensor_name='hidden/b', all_tensors=False, all_tensor_names=False)\n"
   ]
  },
  {
   "cell_type": "code",
   "execution_count": 4,
   "metadata": {
    "scrolled": false
   },
   "outputs": [
    {
     "name": "stdout",
     "output_type": "stream",
     "text": [
      "INFO:tensorflow:Restoring parameters from model_runs/New_CAA_const_fN_scalar1/classifymodel_0.ckpt\n"
     ]
    },
    {
     "data": {
      "text/plain": [
       "(1, 1)"
      ]
     },
     "execution_count": 4,
     "metadata": {},
     "output_type": "execute_result"
    }
   ],
   "source": [
    "path = 'model_runs/' + model_name + str(1)\n",
    "imgs_data = classify_imgs_scalar(0, True, 100, path=path)\n",
    "np.shape(imgs_data[1][\"classifications\"])"
   ]
  },
  {
   "cell_type": "code",
   "execution_count": 5,
   "metadata": {
    "collapsed": true
   },
   "outputs": [],
   "source": [
    "def get_classifications_one_run(path, iteration):\n",
    "    \"\"\"Get classifications for one run at one iteration.\"\"\"\n",
    "\n",
    "    imgs_data = classify_imgs_scalar(iteration, True, 100, path=path) # new_imgs = True\n",
    "    unrounded_values = {nb: [] for nb in range(1, output_size+1)}\n",
    "    rounded_values = {nb: [] for nb in range(1, output_size+1)}\n",
    "    \n",
    "    for idx, data in enumerate(imgs_data):\n",
    "        nb = data[\"label\"][0]\n",
    "        classification = data[\"classifications\"][0][0]\n",
    "        unrounded_values[nb].append(classification)\n",
    "        rounded_values[nb].append(round(classification))\n",
    "    return unrounded_values, rounded_values"
   ]
  },
  {
   "cell_type": "code",
   "execution_count": 6,
   "metadata": {
    "scrolled": true
   },
   "outputs": [
    {
     "name": "stdout",
     "output_type": "stream",
     "text": [
      "INFO:tensorflow:Restoring parameters from model_runs/New_CAA_const_fN_scalar1/classifymodel_0.ckpt\n",
      "INFO:tensorflow:Restoring parameters from model_runs/New_CAA_const_fN_scalar1/classifymodel_200.ckpt\n",
      "INFO:tensorflow:Restoring parameters from model_runs/New_CAA_const_fN_scalar1/classifymodel_400.ckpt\n",
      "INFO:tensorflow:Restoring parameters from model_runs/New_CAA_const_fN_scalar1/classifymodel_1600.ckpt\n",
      "INFO:tensorflow:Restoring parameters from model_runs/New_CAA_const_fN_scalar1/classifymodel_6400.ckpt\n",
      "INFO:tensorflow:Restoring parameters from model_runs/New_CAA_const_fN_scalar1/classifymodel_25600.ckpt\n",
      "INFO:tensorflow:Restoring parameters from model_runs/New_CAA_const_fN_scalar1/classifymodel_102400.ckpt\n",
      "INFO:tensorflow:Restoring parameters from model_runs/New_CAA_const_fN_scalar1/classifymodel_204800.ckpt\n",
      "INFO:tensorflow:Restoring parameters from model_runs/New_CAA_const_fN_scalar1/classifymodel_409600.ckpt\n",
      "INFO:tensorflow:Restoring parameters from model_runs/New_CAA_const_fN_scalar1/classifymodel_819200.ckpt\n",
      "INFO:tensorflow:Restoring parameters from model_runs/New_CAA_const_fN_scalar1/classifymodel_1000000.ckpt\n",
      "INFO:tensorflow:Restoring parameters from model_runs/New_CAA_const_fN_scalar1/classifymodel_1228800.ckpt\n",
      "INFO:tensorflow:Restoring parameters from model_runs/New_CAA_const_fN_scalar1/classifymodel_1638400.ckpt\n",
      "INFO:tensorflow:Restoring parameters from model_runs/New_CAA_const_fN_scalar1/classifymodel_2000000.ckpt\n",
      "INFO:tensorflow:Restoring parameters from model_runs/New_CAA_const_fN_scalar1/classifymodel_3000000.ckpt\n",
      "INFO:tensorflow:Restoring parameters from model_runs/New_CAA_const_fN_scalar2/classifymodel_0.ckpt\n",
      "INFO:tensorflow:Restoring parameters from model_runs/New_CAA_const_fN_scalar2/classifymodel_200.ckpt\n",
      "INFO:tensorflow:Restoring parameters from model_runs/New_CAA_const_fN_scalar2/classifymodel_400.ckpt\n",
      "INFO:tensorflow:Restoring parameters from model_runs/New_CAA_const_fN_scalar2/classifymodel_1600.ckpt\n",
      "INFO:tensorflow:Restoring parameters from model_runs/New_CAA_const_fN_scalar2/classifymodel_6400.ckpt\n",
      "INFO:tensorflow:Restoring parameters from model_runs/New_CAA_const_fN_scalar2/classifymodel_25600.ckpt\n",
      "INFO:tensorflow:Restoring parameters from model_runs/New_CAA_const_fN_scalar2/classifymodel_102400.ckpt\n",
      "INFO:tensorflow:Restoring parameters from model_runs/New_CAA_const_fN_scalar2/classifymodel_204800.ckpt\n",
      "INFO:tensorflow:Restoring parameters from model_runs/New_CAA_const_fN_scalar2/classifymodel_409600.ckpt\n",
      "INFO:tensorflow:Restoring parameters from model_runs/New_CAA_const_fN_scalar2/classifymodel_819200.ckpt\n",
      "INFO:tensorflow:Restoring parameters from model_runs/New_CAA_const_fN_scalar2/classifymodel_1000000.ckpt\n",
      "INFO:tensorflow:Restoring parameters from model_runs/New_CAA_const_fN_scalar2/classifymodel_1228800.ckpt\n",
      "INFO:tensorflow:Restoring parameters from model_runs/New_CAA_const_fN_scalar2/classifymodel_1638400.ckpt\n",
      "INFO:tensorflow:Restoring parameters from model_runs/New_CAA_const_fN_scalar2/classifymodel_2000000.ckpt\n",
      "INFO:tensorflow:Restoring parameters from model_runs/New_CAA_const_fN_scalar2/classifymodel_3000000.ckpt\n",
      "INFO:tensorflow:Restoring parameters from model_runs/New_CAA_const_fN_scalar3/classifymodel_0.ckpt\n",
      "INFO:tensorflow:Restoring parameters from model_runs/New_CAA_const_fN_scalar3/classifymodel_200.ckpt\n",
      "INFO:tensorflow:Restoring parameters from model_runs/New_CAA_const_fN_scalar3/classifymodel_400.ckpt\n",
      "INFO:tensorflow:Restoring parameters from model_runs/New_CAA_const_fN_scalar3/classifymodel_1600.ckpt\n",
      "INFO:tensorflow:Restoring parameters from model_runs/New_CAA_const_fN_scalar3/classifymodel_6400.ckpt\n",
      "INFO:tensorflow:Restoring parameters from model_runs/New_CAA_const_fN_scalar3/classifymodel_25600.ckpt\n",
      "INFO:tensorflow:Restoring parameters from model_runs/New_CAA_const_fN_scalar3/classifymodel_102400.ckpt\n",
      "INFO:tensorflow:Restoring parameters from model_runs/New_CAA_const_fN_scalar3/classifymodel_204800.ckpt\n",
      "INFO:tensorflow:Restoring parameters from model_runs/New_CAA_const_fN_scalar3/classifymodel_409600.ckpt\n",
      "INFO:tensorflow:Restoring parameters from model_runs/New_CAA_const_fN_scalar3/classifymodel_819200.ckpt\n",
      "INFO:tensorflow:Restoring parameters from model_runs/New_CAA_const_fN_scalar3/classifymodel_1000000.ckpt\n",
      "INFO:tensorflow:Restoring parameters from model_runs/New_CAA_const_fN_scalar3/classifymodel_1228800.ckpt\n",
      "INFO:tensorflow:Restoring parameters from model_runs/New_CAA_const_fN_scalar3/classifymodel_1638400.ckpt\n",
      "INFO:tensorflow:Restoring parameters from model_runs/New_CAA_const_fN_scalar3/classifymodel_2000000.ckpt\n",
      "INFO:tensorflow:Restoring parameters from model_runs/New_CAA_const_fN_scalar3/classifymodel_3000000.ckpt\n",
      "INFO:tensorflow:Restoring parameters from model_runs/New_CAA_const_fN_scalar4/classifymodel_0.ckpt\n",
      "INFO:tensorflow:Restoring parameters from model_runs/New_CAA_const_fN_scalar4/classifymodel_200.ckpt\n",
      "INFO:tensorflow:Restoring parameters from model_runs/New_CAA_const_fN_scalar4/classifymodel_400.ckpt\n",
      "INFO:tensorflow:Restoring parameters from model_runs/New_CAA_const_fN_scalar4/classifymodel_1600.ckpt\n",
      "INFO:tensorflow:Restoring parameters from model_runs/New_CAA_const_fN_scalar4/classifymodel_6400.ckpt\n",
      "INFO:tensorflow:Restoring parameters from model_runs/New_CAA_const_fN_scalar4/classifymodel_25600.ckpt\n",
      "INFO:tensorflow:Restoring parameters from model_runs/New_CAA_const_fN_scalar4/classifymodel_102400.ckpt\n",
      "INFO:tensorflow:Restoring parameters from model_runs/New_CAA_const_fN_scalar4/classifymodel_204800.ckpt\n",
      "INFO:tensorflow:Restoring parameters from model_runs/New_CAA_const_fN_scalar4/classifymodel_409600.ckpt\n",
      "INFO:tensorflow:Restoring parameters from model_runs/New_CAA_const_fN_scalar4/classifymodel_819200.ckpt\n",
      "INFO:tensorflow:Restoring parameters from model_runs/New_CAA_const_fN_scalar4/classifymodel_1000000.ckpt\n",
      "INFO:tensorflow:Restoring parameters from model_runs/New_CAA_const_fN_scalar4/classifymodel_1228800.ckpt\n",
      "INFO:tensorflow:Restoring parameters from model_runs/New_CAA_const_fN_scalar4/classifymodel_1638400.ckpt\n",
      "INFO:tensorflow:Restoring parameters from model_runs/New_CAA_const_fN_scalar4/classifymodel_2000000.ckpt\n",
      "INFO:tensorflow:Restoring parameters from model_runs/New_CAA_const_fN_scalar4/classifymodel_3000000.ckpt\n",
      "INFO:tensorflow:Restoring parameters from model_runs/New_CAA_const_fN_scalar5/classifymodel_0.ckpt\n",
      "INFO:tensorflow:Restoring parameters from model_runs/New_CAA_const_fN_scalar5/classifymodel_200.ckpt\n",
      "INFO:tensorflow:Restoring parameters from model_runs/New_CAA_const_fN_scalar5/classifymodel_400.ckpt\n",
      "INFO:tensorflow:Restoring parameters from model_runs/New_CAA_const_fN_scalar5/classifymodel_1600.ckpt\n",
      "INFO:tensorflow:Restoring parameters from model_runs/New_CAA_const_fN_scalar5/classifymodel_6400.ckpt\n",
      "INFO:tensorflow:Restoring parameters from model_runs/New_CAA_const_fN_scalar5/classifymodel_25600.ckpt\n",
      "INFO:tensorflow:Restoring parameters from model_runs/New_CAA_const_fN_scalar5/classifymodel_102400.ckpt\n",
      "INFO:tensorflow:Restoring parameters from model_runs/New_CAA_const_fN_scalar5/classifymodel_204800.ckpt\n",
      "INFO:tensorflow:Restoring parameters from model_runs/New_CAA_const_fN_scalar5/classifymodel_409600.ckpt\n",
      "INFO:tensorflow:Restoring parameters from model_runs/New_CAA_const_fN_scalar5/classifymodel_819200.ckpt\n",
      "INFO:tensorflow:Restoring parameters from model_runs/New_CAA_const_fN_scalar5/classifymodel_1000000.ckpt\n",
      "INFO:tensorflow:Restoring parameters from model_runs/New_CAA_const_fN_scalar5/classifymodel_1228800.ckpt\n",
      "INFO:tensorflow:Restoring parameters from model_runs/New_CAA_const_fN_scalar5/classifymodel_1638400.ckpt\n",
      "INFO:tensorflow:Restoring parameters from model_runs/New_CAA_const_fN_scalar5/classifymodel_2000000.ckpt\n",
      "INFO:tensorflow:Restoring parameters from model_runs/New_CAA_const_fN_scalar5/classifymodel_3000000.ckpt\n",
      "INFO:tensorflow:Restoring parameters from model_runs/New_CAA_const_fN_scalar6/classifymodel_0.ckpt\n",
      "INFO:tensorflow:Restoring parameters from model_runs/New_CAA_const_fN_scalar6/classifymodel_200.ckpt\n",
      "INFO:tensorflow:Restoring parameters from model_runs/New_CAA_const_fN_scalar6/classifymodel_400.ckpt\n",
      "INFO:tensorflow:Restoring parameters from model_runs/New_CAA_const_fN_scalar6/classifymodel_1600.ckpt\n",
      "INFO:tensorflow:Restoring parameters from model_runs/New_CAA_const_fN_scalar6/classifymodel_6400.ckpt\n"
     ]
    },
    {
     "name": "stdout",
     "output_type": "stream",
     "text": [
      "INFO:tensorflow:Restoring parameters from model_runs/New_CAA_const_fN_scalar6/classifymodel_25600.ckpt\n",
      "INFO:tensorflow:Restoring parameters from model_runs/New_CAA_const_fN_scalar6/classifymodel_102400.ckpt\n",
      "INFO:tensorflow:Restoring parameters from model_runs/New_CAA_const_fN_scalar6/classifymodel_204800.ckpt\n",
      "INFO:tensorflow:Restoring parameters from model_runs/New_CAA_const_fN_scalar6/classifymodel_409600.ckpt\n",
      "INFO:tensorflow:Restoring parameters from model_runs/New_CAA_const_fN_scalar6/classifymodel_819200.ckpt\n",
      "INFO:tensorflow:Restoring parameters from model_runs/New_CAA_const_fN_scalar6/classifymodel_1000000.ckpt\n",
      "INFO:tensorflow:Restoring parameters from model_runs/New_CAA_const_fN_scalar6/classifymodel_1228800.ckpt\n",
      "INFO:tensorflow:Restoring parameters from model_runs/New_CAA_const_fN_scalar6/classifymodel_1638400.ckpt\n",
      "INFO:tensorflow:Restoring parameters from model_runs/New_CAA_const_fN_scalar6/classifymodel_2000000.ckpt\n",
      "INFO:tensorflow:Restoring parameters from model_runs/New_CAA_const_fN_scalar6/classifymodel_3000000.ckpt\n",
      "INFO:tensorflow:Restoring parameters from model_runs/New_CAA_const_fN_scalar7/classifymodel_0.ckpt\n",
      "INFO:tensorflow:Restoring parameters from model_runs/New_CAA_const_fN_scalar7/classifymodel_200.ckpt\n",
      "INFO:tensorflow:Restoring parameters from model_runs/New_CAA_const_fN_scalar7/classifymodel_400.ckpt\n",
      "INFO:tensorflow:Restoring parameters from model_runs/New_CAA_const_fN_scalar7/classifymodel_1600.ckpt\n",
      "INFO:tensorflow:Restoring parameters from model_runs/New_CAA_const_fN_scalar7/classifymodel_6400.ckpt\n",
      "INFO:tensorflow:Restoring parameters from model_runs/New_CAA_const_fN_scalar7/classifymodel_25600.ckpt\n",
      "INFO:tensorflow:Restoring parameters from model_runs/New_CAA_const_fN_scalar7/classifymodel_102400.ckpt\n",
      "INFO:tensorflow:Restoring parameters from model_runs/New_CAA_const_fN_scalar7/classifymodel_204800.ckpt\n",
      "INFO:tensorflow:Restoring parameters from model_runs/New_CAA_const_fN_scalar7/classifymodel_409600.ckpt\n",
      "INFO:tensorflow:Restoring parameters from model_runs/New_CAA_const_fN_scalar7/classifymodel_819200.ckpt\n",
      "INFO:tensorflow:Restoring parameters from model_runs/New_CAA_const_fN_scalar7/classifymodel_1000000.ckpt\n",
      "INFO:tensorflow:Restoring parameters from model_runs/New_CAA_const_fN_scalar7/classifymodel_1228800.ckpt\n",
      "INFO:tensorflow:Restoring parameters from model_runs/New_CAA_const_fN_scalar7/classifymodel_1638400.ckpt\n",
      "INFO:tensorflow:Restoring parameters from model_runs/New_CAA_const_fN_scalar7/classifymodel_2000000.ckpt\n",
      "INFO:tensorflow:Restoring parameters from model_runs/New_CAA_const_fN_scalar7/classifymodel_3000000.ckpt\n",
      "INFO:tensorflow:Restoring parameters from model_runs/New_CAA_const_fN_scalar8/classifymodel_0.ckpt\n",
      "INFO:tensorflow:Restoring parameters from model_runs/New_CAA_const_fN_scalar8/classifymodel_200.ckpt\n",
      "INFO:tensorflow:Restoring parameters from model_runs/New_CAA_const_fN_scalar8/classifymodel_400.ckpt\n",
      "INFO:tensorflow:Restoring parameters from model_runs/New_CAA_const_fN_scalar8/classifymodel_1600.ckpt\n",
      "INFO:tensorflow:Restoring parameters from model_runs/New_CAA_const_fN_scalar8/classifymodel_6400.ckpt\n",
      "INFO:tensorflow:Restoring parameters from model_runs/New_CAA_const_fN_scalar8/classifymodel_25600.ckpt\n",
      "INFO:tensorflow:Restoring parameters from model_runs/New_CAA_const_fN_scalar8/classifymodel_102400.ckpt\n",
      "INFO:tensorflow:Restoring parameters from model_runs/New_CAA_const_fN_scalar8/classifymodel_204800.ckpt\n",
      "INFO:tensorflow:Restoring parameters from model_runs/New_CAA_const_fN_scalar8/classifymodel_409600.ckpt\n",
      "INFO:tensorflow:Restoring parameters from model_runs/New_CAA_const_fN_scalar8/classifymodel_819200.ckpt\n",
      "INFO:tensorflow:Restoring parameters from model_runs/New_CAA_const_fN_scalar8/classifymodel_1000000.ckpt\n",
      "INFO:tensorflow:Restoring parameters from model_runs/New_CAA_const_fN_scalar8/classifymodel_1228800.ckpt\n",
      "INFO:tensorflow:Restoring parameters from model_runs/New_CAA_const_fN_scalar8/classifymodel_1638400.ckpt\n",
      "INFO:tensorflow:Restoring parameters from model_runs/New_CAA_const_fN_scalar8/classifymodel_2000000.ckpt\n",
      "INFO:tensorflow:Restoring parameters from model_runs/New_CAA_const_fN_scalar8/classifymodel_3000000.ckpt\n",
      "INFO:tensorflow:Restoring parameters from model_runs/New_CAA_const_fN_scalar9/classifymodel_0.ckpt\n",
      "INFO:tensorflow:Restoring parameters from model_runs/New_CAA_const_fN_scalar9/classifymodel_200.ckpt\n",
      "INFO:tensorflow:Restoring parameters from model_runs/New_CAA_const_fN_scalar9/classifymodel_400.ckpt\n",
      "INFO:tensorflow:Restoring parameters from model_runs/New_CAA_const_fN_scalar9/classifymodel_1600.ckpt\n",
      "INFO:tensorflow:Restoring parameters from model_runs/New_CAA_const_fN_scalar9/classifymodel_6400.ckpt\n",
      "INFO:tensorflow:Restoring parameters from model_runs/New_CAA_const_fN_scalar9/classifymodel_25600.ckpt\n",
      "INFO:tensorflow:Restoring parameters from model_runs/New_CAA_const_fN_scalar9/classifymodel_102400.ckpt\n",
      "INFO:tensorflow:Restoring parameters from model_runs/New_CAA_const_fN_scalar9/classifymodel_204800.ckpt\n",
      "INFO:tensorflow:Restoring parameters from model_runs/New_CAA_const_fN_scalar9/classifymodel_409600.ckpt\n",
      "INFO:tensorflow:Restoring parameters from model_runs/New_CAA_const_fN_scalar9/classifymodel_819200.ckpt\n",
      "INFO:tensorflow:Restoring parameters from model_runs/New_CAA_const_fN_scalar9/classifymodel_1000000.ckpt\n",
      "INFO:tensorflow:Restoring parameters from model_runs/New_CAA_const_fN_scalar9/classifymodel_1228800.ckpt\n",
      "INFO:tensorflow:Restoring parameters from model_runs/New_CAA_const_fN_scalar9/classifymodel_1638400.ckpt\n",
      "INFO:tensorflow:Restoring parameters from model_runs/New_CAA_const_fN_scalar9/classifymodel_2000000.ckpt\n",
      "INFO:tensorflow:Restoring parameters from model_runs/New_CAA_const_fN_scalar9/classifymodel_3000000.ckpt\n",
      "INFO:tensorflow:Restoring parameters from model_runs/New_CAA_const_fN_scalar10/classifymodel_0.ckpt\n",
      "INFO:tensorflow:Restoring parameters from model_runs/New_CAA_const_fN_scalar10/classifymodel_200.ckpt\n",
      "INFO:tensorflow:Restoring parameters from model_runs/New_CAA_const_fN_scalar10/classifymodel_400.ckpt\n",
      "INFO:tensorflow:Restoring parameters from model_runs/New_CAA_const_fN_scalar10/classifymodel_1600.ckpt\n",
      "INFO:tensorflow:Restoring parameters from model_runs/New_CAA_const_fN_scalar10/classifymodel_6400.ckpt\n",
      "INFO:tensorflow:Restoring parameters from model_runs/New_CAA_const_fN_scalar10/classifymodel_25600.ckpt\n",
      "INFO:tensorflow:Restoring parameters from model_runs/New_CAA_const_fN_scalar10/classifymodel_102400.ckpt\n",
      "INFO:tensorflow:Restoring parameters from model_runs/New_CAA_const_fN_scalar10/classifymodel_204800.ckpt\n",
      "INFO:tensorflow:Restoring parameters from model_runs/New_CAA_const_fN_scalar10/classifymodel_409600.ckpt\n",
      "INFO:tensorflow:Restoring parameters from model_runs/New_CAA_const_fN_scalar10/classifymodel_819200.ckpt\n",
      "INFO:tensorflow:Restoring parameters from model_runs/New_CAA_const_fN_scalar10/classifymodel_1000000.ckpt\n",
      "INFO:tensorflow:Restoring parameters from model_runs/New_CAA_const_fN_scalar10/classifymodel_1228800.ckpt\n",
      "INFO:tensorflow:Restoring parameters from model_runs/New_CAA_const_fN_scalar10/classifymodel_1638400.ckpt\n",
      "INFO:tensorflow:Restoring parameters from model_runs/New_CAA_const_fN_scalar10/classifymodel_2000000.ckpt\n",
      "INFO:tensorflow:Restoring parameters from model_runs/New_CAA_const_fN_scalar10/classifymodel_3000000.ckpt\n"
     ]
    }
   ],
   "source": [
    "unrounded_values_all_runs = []\n",
    "rounded_values_all_runs = []\n",
    "\n",
    "for run in range(num_runs):\n",
    "    path = 'model_runs/' + model_name + str(run + 1) # '/run_' if all the runs are stored in one folder\n",
    "    unrounded_values_all_iters = []\n",
    "    rounded_values_all_iters = []\n",
    "    for i, iteration in enumerate(iter_list):\n",
    "        uvals, rvals = get_classifications_one_run(path, iteration)\n",
    "        unrounded_values_all_iters.append(uvals)\n",
    "        rounded_values_all_iters.append(rvals)\n",
    "    unrounded_values_all_runs.append(unrounded_values_all_iters)\n",
    "    rounded_values_all_runs.append(rounded_values_all_iters)\n",
    "    \n",
    "with open(data_directory + 'unrounded_values_all_runs', 'wb') as fp:\n",
    "    pickle.dump(unrounded_values_all_runs, fp)\n",
    "    \n",
    "with open(data_directory + 'rounded_values_all_runs', 'wb') as fp:\n",
    "    pickle.dump(rounded_values_all_runs, fp) "
   ]
  },
  {
   "cell_type": "code",
   "execution_count": 7,
   "metadata": {
    "collapsed": true
   },
   "outputs": [],
   "source": [
    "def get_msdcv(classifications_list):\n",
    "    \"\"\"Get the mean, standard deviation, and coefficient of variation matrices from classifications list.\"\"\"\n",
    "    \n",
    "    msdcv = np.zeros([num_iters, output_size, 3])    \n",
    "    values = [{nb: [] for nb in range(1, output_size+1)} for i in range(num_iters)] # iter x nb x value\n",
    "    for run in range(num_runs):\n",
    "        for i in range(num_iters):\n",
    "            for t in range(output_size):\n",
    "                nb = t + 1\n",
    "                if nb in classifications_list[run][i]:\n",
    "                    values[i][nb] += classifications_list[run][i][nb]\n",
    "    for i in range(num_iters):\n",
    "        for t in range(output_size):\n",
    "            nb = t + 1\n",
    "            vals = values[i][nb]\n",
    "            msdcv[i, t, 0] = mu = np.mean(vals)\n",
    "            msdcv[i, t, 1] = sigma = np.std(vals)\n",
    "            msdcv[i, t, 2] = cv = sigma / mu\n",
    "    return msdcv"
   ]
  },
  {
   "cell_type": "code",
   "execution_count": 8,
   "metadata": {},
   "outputs": [],
   "source": [
    "unrounded_msdcv = get_msdcv(unrounded_values_all_runs)\n",
    "rounded_msdcv = get_msdcv(rounded_values_all_runs)"
   ]
  },
  {
   "cell_type": "code",
   "execution_count": 9,
   "metadata": {
    "collapsed": true
   },
   "outputs": [],
   "source": [
    "np.save(data_directory + \"unrounded_msdcv\", unrounded_msdcv)\n",
    "np.save(data_directory + \"rounded_msdcv\", rounded_msdcv)"
   ]
  },
  {
   "cell_type": "markdown",
   "metadata": {},
   "source": [
    "## Visualize Mean, Standard Deviation, and Coefficient of Variation"
   ]
  },
  {
   "cell_type": "markdown",
   "metadata": {},
   "source": [
    "Run 20200202_Plot_MSDCV_scalar.ipynb to get plots. Below is an example plot."
   ]
  },
  {
   "cell_type": "code",
   "execution_count": 10,
   "metadata": {},
   "outputs": [
    {
     "data": {
      "image/png": "[encoded data removed]",
      "text/plain": [
       "<matplotlib.figure.Figure at 0x7faa05cf7c50>"
      ]
     },
     "metadata": {},
     "output_type": "display_data"
    }
   ],
   "source": [
    "all_iters = [0, 200, 400, 1600, 6400, 6400, 102400, 204800, 409600, 819200, 1000000, 1228800, 1638400, 2000000, 3000000]#, 4000000, 5000000, 6000000]\n",
    "iters = [3000000]\n",
    "iter_indices = [i for i, iteration in enumerate(all_iters) if iteration in iters]\n",
    "max_blobs = 15\n",
    "min_blobs = 1\n",
    "fig, ax = plt.subplots(nrows=1, ncols=3, figsize=(3.7*3, 3.6))\n",
    "from matplotlib.ticker import MaxNLocator\n",
    "plt.xticks(np.arange(min_blobs, max_blobs+1, step=1))\n",
    "ax[0].xaxis.set_major_locator(MaxNLocator(integer=True))\n",
    "ax[1].xaxis.set_major_locator(MaxNLocator(integer=True))\n",
    "ax[2].xaxis.set_major_locator(MaxNLocator(integer=True))\n",
    "numerosity = np.arange(min_blobs, max_blobs+1)\n",
    "\n",
    "ax[0].set_title(\"Mean\")\n",
    "ax[0].set_xlabel(\"Stimulus Numerosity\")\n",
    "ax[0].set_ylabel(\"Numerosity Estimate\")\n",
    "ax[0].set_yticks(np.arange(min_blobs, max_blobs+1, step=1))\n",
    "ax[0].set_xticks(np.arange(min_blobs, max_blobs+1, step=1))\n",
    "ax[0].set_prop_cycle('color',plt.cm.Spectral([val for val in np.linspace(0,1,len(iter_indices)) for _ in (0,1)]))\n",
    "\n",
    "ax[1].set_title(\"Standard Deviation\")\n",
    "ax[1].set_xlabel(\"Stimulus Numerosity\")\n",
    "ax[1].set_xticks(np.arange(min_blobs, max_blobs+1, step=1))\n",
    "ax[1].set_prop_cycle('color',plt.cm.Spectral([val for val in np.linspace(0,1,len(iter_indices)) for _ in (0,1)]))\n",
    "\n",
    "ax[2].set_title(\"Coefficient of Variation\")\n",
    "ax[2].set_xlabel(\"Stimulus Numerosity\")\n",
    "# ax[2].set_yticks(np.arange(0, 1, step=0.02))\n",
    "ax[2].set_xticks(np.arange(min_blobs, max_blobs+1, step=1))\n",
    "ax[2].set_prop_cycle('color',plt.cm.Spectral([val for val in np.linspace(0,1,len(iter_indices)) for _ in (0,1)]))\n",
    "\n",
    "for i in iter_indices:\n",
    "    mean = unrounded_msdcv[i,min_blobs-1:max_blobs,0]\n",
    "    sd = unrounded_msdcv[i,min_blobs-1:max_blobs+1,1]\n",
    "    cv = unrounded_msdcv[i,min_blobs-1:max_blobs+1,2]\n",
    "\n",
    "    # Plot Mean.\n",
    "    ax[0].plot(numerosity, mean, label='N')\n",
    "    \n",
    "    # Plot CV.\n",
    "    ax[1].plot(numerosity, sd, label='N')\n",
    "    \n",
    "    # Plot CV.\n",
    "    ax[2].plot(numerosity, cv, label='N')\n",
    "\n",
    "# legend = ax[i, 1].legend()\n",
    "fig.tight_layout()    \n",
    "# fig.suptitle(\"Final Performance: $f(n) \\propto 1/n^2$, Decr Avg Area\")\n",
    "# fig.suptitle(\"Final Performance: $f(n) \\propto 1/n^2$, Const Avg Area\")\n",
    "# fig.suptitle(\"Final Performance: $f(n)$ Constant, Decr Avg Area\")\n",
    "fig.suptitle(\"Final Performance: $f(n)$ Constant, Const Avg Area\")\n",
    "plt.tight_layout(rect=[0, 0, 1, 0.95])\n",
    "from pathlib import Path\n",
    "results_dir = 'Results/20200202_msdcv_3000000_scalar/'\n",
    "Path(results_dir).mkdir(parents=True, exist_ok=True)\n",
    "plt.savefig(results_dir + model_name + '.png')\n",
    "plt.show()"
   ]
  }
 ],
 "metadata": {
  "kernelspec": {
   "display_name": "Python 3",
   "language": "python",
   "name": "python3"
  },
  "language_info": {
   "codemirror_mode": {
    "name": "ipython",
    "version": 3
   },
   "file_extension": ".py",
   "mimetype": "text/x-python",
   "name": "python",
   "nbconvert_exporter": "python",
   "pygments_lexer": "ipython3",
   "version": "3.5.2"
  }
 },
 "nbformat": 4,
 "nbformat_minor": 2
}
